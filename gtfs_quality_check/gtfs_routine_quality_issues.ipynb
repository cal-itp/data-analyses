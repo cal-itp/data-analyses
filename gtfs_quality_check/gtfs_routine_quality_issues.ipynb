{
 "cells": [
  {
   "cell_type": "code",
   "execution_count": 1,
   "id": "279c1d11-df4c-4145-b1e1-d1728b12b1d7",
   "metadata": {},
   "outputs": [],
   "source": [
    "from dotenv import load_dotenv\n",
    "import json\n",
    "import os\n",
    "\n",
    "import numpy as np\n",
    "import pandas as pd\n",
    "from pyairtable import Api\n",
    "import requests\n",
    "\n",
    "\n",
    "from calitp_data_analysis.sql import to_snakecase\n",
    "import script"
   ]
  },
  {
   "cell_type": "code",
   "execution_count": 2,
   "id": "1f1ff9f0-3f82-4e50-b818-ed9cc53e2680",
   "metadata": {},
   "outputs": [],
   "source": [
    "load_dotenv()\n",
    "MTC_API_KEY = os.getenv('MTC_API_KEY')\n",
    "api = Api(os.getenv('AIRTABLE_TOKEN'))\n",
    "mtc_operator_url = f\"https://api.511.org/transit/operators?api_key={MTC_API_KEY}\""
   ]
  },
  {
   "cell_type": "code",
   "execution_count": 3,
   "id": "7dd25e32-4378-4d4a-9d99-f812f9c2e865",
   "metadata": {},
   "outputs": [],
   "source": [
    "pd.options.display.max_columns = 100\n",
    "pd.options.display.float_format = \"{:.2f}\".format\n",
    "pd.set_option(\"display.max_rows\", None)\n",
    "pd.set_option(\"display.max_colwidth\", None)"
   ]
  },
  {
   "cell_type": "code",
   "execution_count": 4,
   "id": "91cb6489-4a98-4b99-8136-a29f11c3ef60",
   "metadata": {},
   "outputs": [],
   "source": [
    "# Trying to stay consistent with \n",
    "# https://github.com/cal-itp/data-infra/blob/main/airflow/plugins/operators/airtable_to_gcs.py\n",
    "def all_rows_as_df(base_id, table_name):\n",
    "    all_rows = api.table(base_id=base_id, table_name=table_name).all()\n",
    "\n",
    "    df = pd.DataFrame(\n",
    "        [\n",
    "            {\"id\":row[\"id\"], **row[\"fields\"]}\n",
    "            for row in all_rows\n",
    "        ]\n",
    "    )\n",
    "    return df\n",
    "\n",
    "def takeout_list(x):\n",
    "    if x is not np.nan:\n",
    "        return x[0]\n"
   ]
  },
  {
   "cell_type": "code",
   "execution_count": 5,
   "id": "1fe86a48-30df-45cf-9f35-8577114bd45e",
   "metadata": {},
   "outputs": [],
   "source": [
    "TABLE_TRANSIT_DATA_QUALITY_ISSUES_ID = 'appmBGOFTvsDv4jdJ'"
   ]
  },
  {
   "cell_type": "code",
   "execution_count": 6,
   "id": "ecc41c1c-4c71-48f1-84b6-075d651a711d",
   "metadata": {},
   "outputs": [],
   "source": [
    "issues_df = all_rows_as_df(TABLE_TRANSIT_DATA_QUALITY_ISSUES_ID, 'tblEv7QTfEmypU6gg')\n",
    "issue_types = all_rows_as_df(TABLE_TRANSIT_DATA_QUALITY_ISSUES_ID, 'tblupkIe04LxEPWSR')\n",
    "services_df = all_rows_as_df(TABLE_TRANSIT_DATA_QUALITY_ISSUES_ID, 'tblBZtbuntv4D0i1u')"
   ]
  },
  {
   "cell_type": "code",
   "execution_count": 7,
   "id": "88062165-7524-4e6b-9caa-74ea47808d9c",
   "metadata": {},
   "outputs": [],
   "source": [
    "#Clean up columns where data is a bunch of single item lists\n",
    "issues_df['Issue Type'] = issues_df['Issue Type'].apply(takeout_list)\n",
    "issues_df['Services'] = issues_df['Services'].apply(takeout_list) "
   ]
  },
  {
   "cell_type": "code",
   "execution_count": 8,
   "id": "d8303229-fa67-41db-98e1-68573eb0825c",
   "metadata": {},
   "outputs": [],
   "source": [
    "partial = pd.merge(issues_df,issue_types[['id','Name','Notes']],how='left',left_on='Issue Type', right_on='id').drop(columns=['id_x','Issue Type','Created By', 'Last Modified', 'Last Modified By']).rename(columns={'Name':'Issue Type'})"
   ]
  },
  {
   "cell_type": "code",
   "execution_count": 9,
   "id": "1371fa18-b711-4c83-9950-64cf89d987b9",
   "metadata": {},
   "outputs": [],
   "source": [
    "df = pd.merge(partial, services_df[['id','Name']], how='left', left_on='Services', right_on='id').drop(columns=['Services','id_y']).rename(columns={'Name':'Service Name'})\n",
    "# df.head()"
   ]
  },
  {
   "cell_type": "code",
   "execution_count": null,
   "id": "fd558c6f-afb6-472c-b970-01f25e1e7675",
   "metadata": {},
   "outputs": [],
   "source": [
    "from calitp_data_analysis.sql import query_sql\n",
    "issues = query_sql(\"\"\"\n",
    "SELECT ts\n",
    "FROM `cal-itp-data-infra.mart_gtfs.fct_schedule_feed_downloads` fs\n",
    "left join\n",
    "`mart_transit_database.dim_provider_gtfs_data` dp\n",
    "ON fs.gtfs_dataset_key = dp.schedule_gtfs_dataset_key\n",
    "left join\n",
    "`mart_transit_database.dim_services` ds \n",
    "ON dp.service_key = ds.key\n",
    "left join\n",
    "`mart_transit_database.bridge_services_x_operating_county_geographies` bs\n",
    "ON ds.key = bs.service_key\n",
    "left join\n",
    "`mart_transit_database.dim_county_geography` dc\n",
    "ON bs.county_geography_key = dc.key\n",
    "WHERE\n",
    "unzip_exception IS NOT NULL\n",
    "OR\n",
    "download_exception IS NOT NULL\n",
    "OR\n",
    "pct_files_successfully_parsed < 100\n",
    "AND\n",
    "dp._is_current=true\n",
    "order by ts DESC \n",
    "LIMIT 100\n",
    "\"\"\", as_df=True)\n",
    "# issues\n",
    "# issues"
   ]
  },
  {
   "cell_type": "code",
   "execution_count": null,
   "id": "9b2195bf-6d30-4e39-a7df-f72061412292",
   "metadata": {},
   "outputs": [],
   "source": [
    "full.columns"
   ]
  },
  {
   "cell_type": "code",
   "execution_count": null,
   "id": "2e571764-a49e-469f-b6e8-3d366e8a7511",
   "metadata": {},
   "outputs": [],
   "source": [
    "issues"
   ]
  },
  {
   "cell_type": "code",
   "execution_count": null,
   "id": "bf26a29d-e7a9-4b5c-82a9-61870e61f7b7",
   "metadata": {},
   "outputs": [],
   "source": []
  }
 ],
 "metadata": {
  "kernelspec": {
   "display_name": "Python 3 (ipykernel)",
   "language": "python",
   "name": "python3"
  },
  "language_info": {
   "codemirror_mode": {
    "name": "ipython",
    "version": 3
   },
   "file_extension": ".py",
   "mimetype": "text/x-python",
   "name": "python",
   "nbconvert_exporter": "python",
   "pygments_lexer": "ipython3",
   "version": "3.9.13"
  }
 },
 "nbformat": 4,
 "nbformat_minor": 5
}
