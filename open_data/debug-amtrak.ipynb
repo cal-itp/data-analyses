{
 "cells": [
  {
   "cell_type": "markdown",
   "id": "974e9279-595c-4541-8e71-4f1ea15eb724",
   "metadata": {},
   "source": [
    "# Amtrak linestrings are funky\n",
    "\n",
    "* Some of the linestrings look funky, is this from what we're doing in assembling the df or in the original?"
   ]
  },
  {
   "cell_type": "code",
   "execution_count": null,
   "id": "ca031251-a9d3-4f3e-8be3-2b9c967b747c",
   "metadata": {},
   "outputs": [],
   "source": [
    "import dask.dataframe as dd\n",
    "import dask_geopandas as dg\n",
    "import geopandas as gpd\n",
    "import intake\n",
    "import pandas as pd\n",
    "\n",
    "from segment_speed_utils import helpers\n",
    "from segment_speed_utils.project_vars import (analysis_date, \n",
    "                                              COMPILED_CACHED_VIEWS)\n",
    "\n",
    "TRAFFIC_OPS_GCS = 'gs://calitp-analytics-data/data-analyses/traffic_ops/'\n",
    "\n",
    "SHARED_DATA = \"../_shared_utils/shared_utils/shared_data_catalog.yml\"\n",
    "catalog = intake.open_catalog(SHARED_DATA)\n",
    "\n",
    "WGS84 = \"EPSG:4326\""
   ]
  },
  {
   "cell_type": "markdown",
   "id": "c0254ddc-be5a-420b-a13a-d0cbc75ad1bb",
   "metadata": {},
   "source": [
    "## Narrow down routes that fall outside CA\n",
    "\n",
    "* Any shape that is weird, whether or not it's Amtrak, needs to be dropped"
   ]
  },
  {
   "cell_type": "code",
   "execution_count": null,
   "id": "244cf693-ee4c-420e-989c-c491d0a89f2d",
   "metadata": {},
   "outputs": [],
   "source": [
    "ca_counties = catalog.ca_counties.read()[\n",
    "    [\"geometry\"]].dissolve().to_crs(WGS84)"
   ]
  },
  {
   "cell_type": "code",
   "execution_count": null,
   "id": "43105e17-97f8-48ca-ab66-a5a9d60c1a44",
   "metadata": {},
   "outputs": [],
   "source": [
    "gdf = gpd.read_parquet(f\"{TRAFFIC_OPS_GCS}ca_transit_routes.parquet\")"
   ]
  },
  {
   "cell_type": "code",
   "execution_count": null,
   "id": "081653d5-0fc4-4579-b9dd-a49491547fa8",
   "metadata": {},
   "outputs": [],
   "source": [
    "gdf2 = gpd.sjoin(\n",
    "    gdf,\n",
    "    ca_counties,\n",
    "    how = \"inner\",\n",
    "    predicate = \"within\"\n",
    ").drop(columns = \"index_right\")"
   ]
  },
  {
   "cell_type": "code",
   "execution_count": null,
   "id": "c4c8aee8-3f93-47fb-a5d6-00a3f4fcd3ff",
   "metadata": {},
   "outputs": [],
   "source": [
    "# Just keep those that did not merge with being in CA (left_only)\n",
    "merge_cols = [c for c in gdf.columns if c != \"geometry\"]\n",
    "\n",
    "outside_ca = (pd.merge(\n",
    "        gdf,\n",
    "        gdf2.drop(columns = \"geometry\"),\n",
    "        on = merge_cols,\n",
    "        how = \"left\",\n",
    "        indicator = True\n",
    "    ).query(\"_merge == 'left_only'\")\n",
    "    .drop(columns = \"_merge\")\n",
    "    .dropna(subset=\"geometry\")\n",
    ").reset_index(drop=True)"
   ]
  },
  {
   "cell_type": "code",
   "execution_count": null,
   "id": "5669ed62-1d89-48b7-80c1-2a232bbf94f8",
   "metadata": {},
   "outputs": [],
   "source": [
    "outside_ca.agency.value_counts()"
   ]
  },
  {
   "cell_type": "markdown",
   "id": "b7bd9ff1-d669-4ba4-93d2-aa7751604250",
   "metadata": {},
   "source": [
    "Most rows are Greyhound.\n",
    "\n",
    "Test hypothesis that Greyhound and Amtrak are ones that might show something erroneous.\n",
    "**Finding**: It's Amtrak that has some lines that are ok and some are funky"
   ]
  },
  {
   "cell_type": "code",
   "execution_count": null,
   "id": "8ed71793-4aa0-4c8d-8323-e8e2de402968",
   "metadata": {},
   "outputs": [],
   "source": [
    "# Most values are Greyhound, \n",
    "# Plotting all these, only Amtrak has some erroneous shapes\n",
    "outside_ca[outside_ca.agency!=\"Amtrak\"].plot()"
   ]
  },
  {
   "cell_type": "code",
   "execution_count": null,
   "id": "429a082d-0d8e-4e95-97d7-459b5aa9f666",
   "metadata": {},
   "outputs": [],
   "source": [
    "bad_ca = outside_ca[outside_ca.agency==\"Amtrak\"].reset_index(drop=True)"
   ]
  },
  {
   "cell_type": "code",
   "execution_count": null,
   "id": "decacbf7-f9af-4dc7-ad22-fdd0644795b6",
   "metadata": {},
   "outputs": [],
   "source": [
    "bad_ca.plot(\"agency\")"
   ]
  },
  {
   "cell_type": "markdown",
   "id": "cae3e07d-b1d9-43b4-b9f2-6141feefcd89",
   "metadata": {},
   "source": [
    "The lines that are extremely long would have overly long lengths. The longest Amtrak line is Zephyr, which runs for 2,438 miles, so let's give a larger range than that to be safe. "
   ]
  },
  {
   "cell_type": "code",
   "execution_count": null,
   "id": "cfa57f43-4fc5-46ba-a5a3-7cb9b51e8fb3",
   "metadata": {},
   "outputs": [],
   "source": [
    "gddf = dg.from_geopandas(bad_ca, npartitions=2)"
   ]
  },
  {
   "cell_type": "code",
   "execution_count": null,
   "id": "bd7d0ab6-dcaf-4834-8dcc-2ab4283f3ab9",
   "metadata": {},
   "outputs": [],
   "source": [
    "route_length_feet = gddf.geometry.to_crs(\"EPSG:2229\").length\n",
    "\n",
    "route_length_mi = route_length_feet / 5280\n",
    "\n",
    "gddf[\"route_length_mi\"] = route_length_mi"
   ]
  },
  {
   "cell_type": "code",
   "execution_count": null,
   "id": "faf8d299-e93c-4756-bf6a-2cdadad25d94",
   "metadata": {},
   "outputs": [],
   "source": [
    "gddf = gddf.persist()"
   ]
  },
  {
   "cell_type": "code",
   "execution_count": null,
   "id": "82b4300d-530c-49f2-85c6-f6b587d790fb",
   "metadata": {},
   "outputs": [],
   "source": [
    "gddf.route_length_mi.describe().compute()"
   ]
  },
  {
   "cell_type": "code",
   "execution_count": null,
   "id": "cd42d3eb-68fe-43c5-90fd-f70c9fdde29e",
   "metadata": {},
   "outputs": [],
   "source": [
    "CUTOFF = 3_500\n",
    "extreme = gddf[gddf.route_length_mi > CUTOFF].compute()\n",
    "ok = gddf[gddf.route_length_mi <= CUTOFF].compute()"
   ]
  },
  {
   "cell_type": "code",
   "execution_count": null,
   "id": "f4edf1a4-5acf-4e51-a4de-73e8ebea3820",
   "metadata": {},
   "outputs": [],
   "source": [
    "extreme.plot()"
   ]
  },
  {
   "cell_type": "code",
   "execution_count": null,
   "id": "60d6d484-638d-4c88-8c84-f6269724be14",
   "metadata": {},
   "outputs": [],
   "source": [
    "ok.plot(\"shape_id\")"
   ]
  },
  {
   "cell_type": "code",
   "execution_count": null,
   "id": "442bac09-2f2b-4199-a5d7-2130ef7e40db",
   "metadata": {},
   "outputs": [],
   "source": [
    "print(f\"# rows in extreme: {len(extreme)}\")\n",
    "print(f\"# rows in ok: {len(ok)}\")"
   ]
  },
  {
   "cell_type": "markdown",
   "id": "e1e7b7b6-bb70-438c-ad93-4d59666f814c",
   "metadata": {},
   "source": [
    "## Grab the erroneous shape_ids from original downloaded shapes"
   ]
  },
  {
   "cell_type": "code",
   "execution_count": null,
   "id": "73565300-aa76-46f9-b39e-2436b4d19d63",
   "metadata": {},
   "outputs": [],
   "source": [
    "extreme_shape_ids = extreme.shape_id.unique().tolist()\n",
    "extreme_route_ids = extreme.route_id.unique().tolist()\n",
    "\n",
    "extreme_trips = helpers.import_scheduled_trips(\n",
    "    analysis_date,\n",
    "    filters = [[(\"name\", \"==\", \"Amtrak Schedule\"),\n",
    "                (\"route_id\", \"in\", extreme_route_ids)]],\n",
    "    columns = [\"feed_key\", \"name\", \"shape_id\", \"route_id\",\n",
    "               \"shape_array_key\"],\n",
    "    get_pandas = True\n",
    ").dropna(subset=\"shape_array_key\")"
   ]
  },
  {
   "cell_type": "code",
   "execution_count": null,
   "id": "fa7a85b8-23ab-4d6d-9215-12d8fa18e204",
   "metadata": {},
   "outputs": [],
   "source": [
    "extreme_shapes = helpers.import_scheduled_shapes(\n",
    "    analysis_date,\n",
    "    filters = [[(\"shape_id\", \"in\", extreme_shape_ids)]],\n",
    "    columns = [\"feed_key\", \"shape_id\", \n",
    "               \"shape_array_key\", \"geometry\"],\n",
    "    get_pandas = True\n",
    ")"
   ]
  },
  {
   "cell_type": "code",
   "execution_count": null,
   "id": "f766f9bd-2c4d-4fc4-ba21-94288bcb9211",
   "metadata": {},
   "outputs": [],
   "source": [
    "extreme_shapes.plot(\"shape_id\")"
   ]
  },
  {
   "cell_type": "code",
   "execution_count": null,
   "id": "34e0920a-d159-484d-a1c4-48d2984a3615",
   "metadata": {},
   "outputs": [],
   "source": []
  }
 ],
 "metadata": {
  "kernelspec": {
   "display_name": "Python 3 (ipykernel)",
   "language": "python",
   "name": "python3"
  },
  "language_info": {
   "codemirror_mode": {
    "name": "ipython",
    "version": 3
   },
   "file_extension": ".py",
   "mimetype": "text/x-python",
   "name": "python",
   "nbconvert_exporter": "python",
   "pygments_lexer": "ipython3",
   "version": "3.9.13"
  }
 },
 "nbformat": 4,
 "nbformat_minor": 5
}
