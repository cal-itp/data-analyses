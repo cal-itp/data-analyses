{
 "cells": [
  {
   "cell_type": "code",
   "execution_count": 6,
   "id": "3d030f95-d540-4f31-aaca-49ec7a22a2f2",
   "metadata": {},
   "outputs": [
    {
     "name": "stderr",
     "output_type": "stream",
     "text": [
      "/opt/conda/lib/python3.10/site-packages/geopandas/_compat.py:111: UserWarning: The Shapely GEOS version (3.10.2-CAPI-1.16.0) is incompatible with the GEOS version PyGEOS was compiled with (3.10.1-CAPI-1.16.0). Conversions between both will be slow.\n",
      "  warnings.warn(\n"
     ]
    }
   ],
   "source": [
    "import intake\n",
    "import xml.etree.ElementTree as ET\n",
    "import xmltodict\n",
    "\n",
    "import metadata_update\n",
    "\n",
    "catalog = intake.open_catalog(\"*.yml\")\n",
    "\n",
    "METADATA_FOLDER = \"metadata_xml/\""
   ]
  },
  {
   "cell_type": "code",
   "execution_count": null,
   "id": "02ea4d7a-6e0f-4b7a-85ee-f854adf99a24",
   "metadata": {},
   "outputs": [],
   "source": []
  },
  {
   "cell_type": "markdown",
   "id": "f3a58f60-a1b5-4cc8-a454-6ef061c844ff",
   "metadata": {},
   "source": [
    "## arcpy"
   ]
  },
  {
   "cell_type": "code",
   "execution_count": null,
   "id": "7e717231-22ab-4bf8-b0ce-8c4ee43a413e",
   "metadata": {},
   "outputs": [],
   "source": [
    "import hqta\n",
    "\n",
    "field_list = arcpy.ListFields(\n",
    "    staging_location + '/' + f)  #get a list of fields for each feature class\n",
    "\n",
    "for field in field_list: #loop through each field\n",
    "    if field.name in hqta.RENAME_CA_HQTA:  #look for the name elev\n",
    "        arcpy.AlterField_management(staging_location + '/' + f, \n",
    "                                    field.name, \n",
    "                                    rename_ca_hqta_cols[field.name])"
   ]
  },
  {
   "cell_type": "code",
   "execution_count": null,
   "id": "f7ad5d09-6674-48ed-990d-80ec9a5901cf",
   "metadata": {},
   "outputs": [],
   "source": []
  },
  {
   "cell_type": "code",
   "execution_count": null,
   "id": "0148827e-f116-457c-9414-f5cb7a7c9dd2",
   "metadata": {},
   "outputs": [],
   "source": []
  }
 ],
 "metadata": {
  "kernelspec": {
   "display_name": "Python 3 (ipykernel)",
   "language": "python",
   "name": "python3"
  },
  "language_info": {
   "codemirror_mode": {
    "name": "ipython",
    "version": 3
   },
   "file_extension": ".py",
   "mimetype": "text/x-python",
   "name": "python",
   "nbconvert_exporter": "python",
   "pygments_lexer": "ipython3",
   "version": "3.10.4"
  }
 },
 "nbformat": 4,
 "nbformat_minor": 5
}
