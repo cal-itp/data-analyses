{
 "cells": [
  {
   "cell_type": "code",
   "execution_count": 6,
   "id": "3d030f95-d540-4f31-aaca-49ec7a22a2f2",
   "metadata": {},
   "outputs": [
    {
     "name": "stderr",
     "output_type": "stream",
     "text": [
      "/opt/conda/lib/python3.10/site-packages/geopandas/_compat.py:111: UserWarning: The Shapely GEOS version (3.10.2-CAPI-1.16.0) is incompatible with the GEOS version PyGEOS was compiled with (3.10.1-CAPI-1.16.0). Conversions between both will be slow.\n",
      "  warnings.warn(\n"
     ]
    }
   ],
   "source": [
    "import intake\n",
    "import xml.etree.ElementTree as ET\n",
    "import xmltodict\n",
    "\n",
    "import metadata_update\n",
    "\n",
    "catalog = intake.open_catalog(\"*.yml\")\n",
    "\n",
    "METADATA_FOLDER = \"metadata_xml/\""
   ]
  },
  {
   "cell_type": "code",
   "execution_count": null,
   "id": "296f8e68-bd73-45dd-a82e-2bdbcbb607d8",
   "metadata": {},
   "outputs": [],
   "source": [
    "in_features = ['ca_hq_transit_stops']\n",
    "\n",
    "for f in in_features:\n",
    "    # Construct XML filename\n",
    "    # Spit out one that's before it's manually changed\n",
    "    xml_file = f + '.xml'\n",
    "    # Export metadata XML\n",
    "    arcpy.ExportMetadata_conversion(out_location + '/' + f, \n",
    "                                     translator, \n",
    "                                     xml_file)"
   ]
  },
  {
   "cell_type": "code",
   "execution_count": 7,
   "id": "dafb741b-0bfc-4168-9a7c-55f8b6bd5b32",
   "metadata": {},
   "outputs": [
    {
     "name": "stdout",
     "output_type": "stream",
     "text": [
      "Loading XML as JSON from metadata_xml/ca_hq_transit_stops.xml\n"
     ]
    }
   ],
   "source": [
    "FILE = \"ca_hq_transit_stops\"\n",
    "\n",
    "XML_FILE = f\"{METADATA_FOLDER}{FILE}.xml\"\n",
    "esri_metadata = metadata_update.xml_to_json(XML_FILE)"
   ]
  },
  {
   "cell_type": "code",
   "execution_count": 3,
   "id": "86441c44-3260-4d38-91bf-670755aad149",
   "metadata": {},
   "outputs": [
    {
     "data": {
      "text/plain": [
       "dict_keys(['idinfo', 'spdoinfo', 'spref', 'eainfo', 'metainfo'])"
      ]
     },
     "execution_count": 3,
     "metadata": {},
     "output_type": "execute_result"
    }
   ],
   "source": [
    "esri_metadata[\"metadata\"].keys()"
   ]
  },
  {
   "cell_type": "code",
   "execution_count": 4,
   "id": "c35f9360-9656-4d3d-8c41-ecb5c1c3d661",
   "metadata": {},
   "outputs": [],
   "source": [
    "fields = esri_metadata[\"metadata\"][\"eainfo\"][\"detailed\"][\"attr\"]"
   ]
  },
  {
   "cell_type": "code",
   "execution_count": null,
   "id": "6639613a-714c-48f4-85e8-1b2beda68796",
   "metadata": {},
   "outputs": [],
   "source": [
    "fields[2]"
   ]
  },
  {
   "cell_type": "code",
   "execution_count": 5,
   "id": "838dba93-3ee7-4fae-9687-fc02c31cc2a1",
   "metadata": {},
   "outputs": [
    {
     "name": "stdout",
     "output_type": "stream",
     "text": [
      "{'attrlabl': 'OBJECTID', 'attrdef': 'Internal feature number.', 'attrdefs': 'Esri', 'attrdomv': {'udom': 'Sequential unique whole numbers that are automatically generated.'}}\n",
      "*****************\n",
      "{'attrlabl': 'Shape', 'attrdef': 'Feature geometry.', 'attrdefs': 'Esri', 'attrdomv': {'udom': 'Coordinates defining the features.'}}\n",
      "*****************\n",
      "{'attrlabl': 'calitp_id_'}\n",
      "*****************\n",
      "{'attrlabl': 'agency_pri'}\n",
      "*****************\n",
      "{'attrlabl': 'stop_id'}\n",
      "*****************\n",
      "{'attrlabl': 'hqta_type'}\n",
      "*****************\n",
      "{'attrlabl': 'calitp_i_1'}\n",
      "*****************\n",
      "{'attrlabl': 'agency_sec'}\n",
      "*****************\n",
      "{'attrlabl': 'hqta_detai'}\n",
      "*****************\n"
     ]
    }
   ],
   "source": [
    "for i in fields:\n",
    "    print(i)\n",
    "    print(\"*****************\")"
   ]
  },
  {
   "cell_type": "code",
   "execution_count": 13,
   "id": "6f6be697-183d-44ae-9730-2c83aa848bdf",
   "metadata": {},
   "outputs": [
    {
     "name": "stdout",
     "output_type": "stream",
     "text": [
      "0\n",
      "OBJECTID\n",
      "1\n",
      "Shape\n",
      "2\n",
      "calitp_id_\n",
      "3\n",
      "agency_pri\n",
      "4\n",
      "stop_id\n",
      "5\n",
      "hqta_type\n",
      "6\n",
      "calitp_i_1\n",
      "7\n",
      "agency_sec\n",
      "8\n",
      "hqta_detai\n"
     ]
    }
   ],
   "source": [
    "for i, item in enumerate(fields):\n",
    "    print(i) \n",
    "    print(item[\"attrlabl\"])"
   ]
  },
  {
   "cell_type": "code",
   "execution_count": null,
   "id": "02ea4d7a-6e0f-4b7a-85ee-f854adf99a24",
   "metadata": {},
   "outputs": [],
   "source": []
  },
  {
   "cell_type": "code",
   "execution_count": 17,
   "id": "d3e4db64-c6ed-4fd4-a75c-3a9d8c926c23",
   "metadata": {},
   "outputs": [],
   "source": [
    "rename_ca_hqta_stops = {\n",
    "    \"calitp_id_\": \"itp_id_primary\",\n",
    "    \"agency_pri\": \"agency_primary\",\n",
    "    \"calitp_i_1\": \"itp_id_secondary\",\n",
    "    \"agency_sec\": \"agency_secondary\",\n",
    "    \"hqta_detai\": \"hqta_details\",\n",
    "}\n",
    "\n",
    "for i, item in enumerate(fields):\n",
    "    column_name = item[\"attrlabl\"]\n",
    "    if column_name in rename_ca_hqta_stops.keys():\n",
    "        item[\"attrlabl\"] = rename_ca_hqta_stops[column_name]"
   ]
  },
  {
   "cell_type": "code",
   "execution_count": 18,
   "id": "5c403369-4e8f-4402-8874-60f247c6a308",
   "metadata": {},
   "outputs": [
    {
     "data": {
      "text/plain": [
       "[{'attrlabl': 'OBJECTID',\n",
       "  'attrdef': 'Internal feature number.',\n",
       "  'attrdefs': 'Esri',\n",
       "  'attrdomv': {'udom': 'Sequential unique whole numbers that are automatically generated.'}},\n",
       " {'attrlabl': 'Shape',\n",
       "  'attrdef': 'Feature geometry.',\n",
       "  'attrdefs': 'Esri',\n",
       "  'attrdomv': {'udom': 'Coordinates defining the features.'}},\n",
       " {'attrlabl': 'itp_id_primary'},\n",
       " {'attrlabl': 'agency_primary'},\n",
       " {'attrlabl': 'stop_id'},\n",
       " {'attrlabl': 'hqta_type'},\n",
       " {'attrlabl': 'itp_id_secondary'},\n",
       " {'attrlabl': 'agency_secondary'},\n",
       " {'attrlabl': 'hqta_details'}]"
      ]
     },
     "execution_count": 18,
     "metadata": {},
     "output_type": "execute_result"
    }
   ],
   "source": [
    "fields"
   ]
  },
  {
   "cell_type": "code",
   "execution_count": 8,
   "id": "990bdd68-dfab-46aa-89be-b0af9a86ce64",
   "metadata": {},
   "outputs": [],
   "source": [
    "gdf = catalog[FILE].read()"
   ]
  },
  {
   "cell_type": "code",
   "execution_count": 10,
   "id": "b995e3e4-1c52-44fb-aaf7-115790fdb35d",
   "metadata": {},
   "outputs": [
    {
     "data": {
      "text/plain": [
       "Index(['calitp_itp_id_primary', 'agency_name_primary', 'stop_id', 'hqta_type',\n",
       "       'calitp_itp_id_secondary', 'agency_name_secondary', 'hqta_details',\n",
       "       'geometry'],\n",
       "      dtype='object')"
      ]
     },
     "execution_count": 10,
     "metadata": {},
     "output_type": "execute_result"
    }
   ],
   "source": [
    "gdf.columns"
   ]
  },
  {
   "cell_type": "code",
   "execution_count": 14,
   "id": "f4db9cbd-b884-47b3-b6e7-e13d52bc4173",
   "metadata": {},
   "outputs": [
    {
     "data": {
      "text/plain": [
       "8"
      ]
     },
     "execution_count": 14,
     "metadata": {},
     "output_type": "execute_result"
    }
   ],
   "source": [
    "len(gdf.columns)"
   ]
  },
  {
   "cell_type": "markdown",
   "id": "f3a58f60-a1b5-4cc8-a454-6ef061c844ff",
   "metadata": {},
   "source": [
    "## arcpy"
   ]
  },
  {
   "cell_type": "code",
   "execution_count": null,
   "id": "c6eacde6-34ae-4f2a-8562-da84409de944",
   "metadata": {},
   "outputs": [],
   "source": [
    "field_list = arcpy.ListFields(\n",
    "    staging_location + '/' + f)  #get a list of fields for each feature class\n",
    "\n",
    "for field in field_list: #loop through each field\n",
    "    if field.name.lower() == 'elev':  #look for the name elev\n",
    "        arcpy.AlterField_management(fc, field.name, 'ELEVATION', 'Elevation in Metres')"
   ]
  },
  {
   "cell_type": "code",
   "execution_count": null,
   "id": "7e717231-22ab-4bf8-b0ce-8c4ee43a413e",
   "metadata": {},
   "outputs": [],
   "source": [
    "rename_ca_hqta_cols = {\n",
    "    \"calitp_id_\": \"itp_id_primary\",\n",
    "    \"agency_pri\": \"agency_primary\",\n",
    "    \"calitp_i_1\": \"itp_id_secondary\",\n",
    "    \"agency_sec\": \"agency_secondary\",\n",
    "    \"hqta_detai\": \"hqta_details\",\n",
    "}\n",
    "\n",
    "field_list = arcpy.ListFields(\n",
    "    staging_location + '/' + f)  #get a list of fields for each feature class\n",
    "\n",
    "for field in field_list: #loop through each field\n",
    "    if field.name in rename_ca_hqta_cols:  #look for the name elev\n",
    "        arcpy.AlterField_management(staging_location + '/' + f, \n",
    "                                    field.name, \n",
    "                                    rename_ca_hqta_cols[field.name])"
   ]
  },
  {
   "cell_type": "code",
   "execution_count": null,
   "id": "2712a2b6-fc1b-4329-8593-5d27d7f2fa1c",
   "metadata": {},
   "outputs": [],
   "source": [
    "\n",
    "for i, field_obj in enumerate(fieldList):\n",
    "    print(i, field_obj.name)\n",
    "    \n",
    "    (0, u'OBJECTID')\n",
    "(1, u'Shape')\n",
    "(2, u'calitp_id_')\n",
    "(3, u'agency_pri')\n",
    "(4, u'hqta_type')\n",
    "(5, u'calitp_i_1')\n",
    "(6, u'agency_sec')\n",
    "(7, u'hqta_detai')\n",
    "(8, u'Shape_Length')\n",
    "(9, u'Shape_Area')"
   ]
  },
  {
   "cell_type": "code",
   "execution_count": null,
   "id": "f7ad5d09-6674-48ed-990d-80ec9a5901cf",
   "metadata": {},
   "outputs": [],
   "source": []
  },
  {
   "cell_type": "code",
   "execution_count": null,
   "id": "0148827e-f116-457c-9414-f5cb7a7c9dd2",
   "metadata": {},
   "outputs": [],
   "source": []
  }
 ],
 "metadata": {
  "kernelspec": {
   "display_name": "Python 3 (ipykernel)",
   "language": "python",
   "name": "python3"
  },
  "language_info": {
   "codemirror_mode": {
    "name": "ipython",
    "version": 3
   },
   "file_extension": ".py",
   "mimetype": "text/x-python",
   "name": "python",
   "nbconvert_exporter": "python",
   "pygments_lexer": "ipython3",
   "version": "3.10.4"
  }
 },
 "nbformat": 4,
 "nbformat_minor": 5
}
