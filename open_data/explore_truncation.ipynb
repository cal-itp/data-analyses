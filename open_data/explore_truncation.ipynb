{
 "cells": [
  {
   "cell_type": "code",
   "execution_count": 9,
   "id": "552106bd-7c07-4a2d-9a9e-13896f590e4a",
   "metadata": {
    "tags": []
   },
   "outputs": [],
   "source": [
    "import json\n",
    "import yaml\n",
    "\n",
    "from pathlib import Path\n",
    "\n",
    "from calitp_data_analysis import utils, geography_utils\n",
    "from update_vars import analysis_date, ESRI_BASE_URL\n",
    "from open_data_utils import RENAME_HQTA, RENAME_SPEED, STANDARDIZED_COLUMNS_DICT, standardize_column_names, remove_internal_keys"
   ]
  },
  {
   "cell_type": "code",
   "execution_count": 2,
   "id": "bffdfd98-5448-4e88-ad3e-56b4eaa7dbd0",
   "metadata": {
    "tags": []
   },
   "outputs": [],
   "source": [
    "import geopandas as gpd\n",
    "import intake\n",
    "import pandas as pd"
   ]
  },
  {
   "cell_type": "code",
   "execution_count": 16,
   "id": "951fe190-2098-485a-8fba-0594a13c0c9d",
   "metadata": {
    "tags": []
   },
   "outputs": [],
   "source": [
    "catalog = intake.open_catalog(\"./catalog.yml\")"
   ]
  },
  {
   "cell_type": "code",
   "execution_count": 17,
   "id": "e7fafbf6-4f1f-414c-bf42-22a170469299",
   "metadata": {
    "tags": []
   },
   "outputs": [],
   "source": [
    "from update_vars import RUN_ME"
   ]
  },
  {
   "cell_type": "code",
   "execution_count": 18,
   "id": "89a86242-7c07-47d8-aa4f-1bef22d3c384",
   "metadata": {
    "tags": []
   },
   "outputs": [
    {
     "data": {
      "text/plain": [
       "['ca_hq_transit_areas',\n",
       " 'ca_hq_transit_stops',\n",
       " 'ca_transit_routes',\n",
       " 'ca_transit_stops',\n",
       " 'speeds_by_stop_segments',\n",
       " 'speeds_by_route_time_of_day']"
      ]
     },
     "execution_count": 18,
     "metadata": {},
     "output_type": "execute_result"
    }
   ],
   "source": [
    "RUN_ME"
   ]
  },
  {
   "cell_type": "code",
   "execution_count": 22,
   "id": "5075bec5-2c45-4752-bf96-8aa7d849010b",
   "metadata": {
    "tags": []
   },
   "outputs": [
    {
     "name": "stdout",
     "output_type": "stream",
     "text": [
      "drop: []\n"
     ]
    }
   ],
   "source": [
    "for d in ['ca_transit_stops'] :\n",
    "    stops = catalog[d].read().to_crs(geography_utils.WGS84).pipe(\n",
    "        standardize_column_names\n",
    "    ).pipe(\n",
    "        remove_internal_keys\n",
    "    )"
   ]
  },
  {
   "cell_type": "code",
   "execution_count": 23,
   "id": "ed1168f2-4b5d-4f06-accb-0098251ec1c2",
   "metadata": {
    "tags": []
   },
   "outputs": [
    {
     "data": {
      "text/plain": [
       "Index(['org_id', 'agency', 'stop_id', 'stop_name', 'n_routes',\n",
       "       'route_ids_served', 'routetypes', 'n_arrivals', 'n_hours_in_service',\n",
       "       'meters_to_ca_state_highway', 'base64_url', 'district_name',\n",
       "       'geometry'],\n",
       "      dtype='object')"
      ]
     },
     "execution_count": 23,
     "metadata": {},
     "output_type": "execute_result"
    }
   ],
   "source": [
    "stops.columns"
   ]
  },
  {
   "cell_type": "code",
   "execution_count": 24,
   "id": "23eb61d3-e2da-4bcb-a8be-5d9c336a7a5f",
   "metadata": {
    "tags": []
   },
   "outputs": [
    {
     "name": "stdout",
     "output_type": "stream",
     "text": [
      "drop: []\n"
     ]
    }
   ],
   "source": [
    "for d in ['ca_hq_transit_areas'] :\n",
    "    hqta = catalog[d].read().to_crs(geography_utils.WGS84).pipe(\n",
    "        standardize_column_names\n",
    "    ).pipe(\n",
    "        remove_internal_keys\n",
    "    )"
   ]
  },
  {
   "cell_type": "code",
   "execution_count": 26,
   "id": "72fb2b89-6925-4a8f-ba1b-76caf94c8a8d",
   "metadata": {
    "tags": []
   },
   "outputs": [
    {
     "data": {
      "text/plain": [
       "Index(['agency_primary', 'agency_secondary', 'hqta_type', 'hqta_details',\n",
       "       'route_id', 'base64_url_primary', 'base64_url_secondary',\n",
       "       'org_id_primary', 'org_id_secondary', 'geometry'],\n",
       "      dtype='object')"
      ]
     },
     "execution_count": 26,
     "metadata": {},
     "output_type": "execute_result"
    }
   ],
   "source": [
    "hqta.columns"
   ]
  },
  {
   "cell_type": "markdown",
   "id": "468df716-ef81-4851-8ffa-e7258a0dc5dd",
   "metadata": {},
   "source": [
    "https://gdal.org/en/stable/drivers/vector/shapefile.html\n",
    "\n",
    "* Attribute names can only be up to 10 characters long. The OGR Shapefile driver tries to generate unique field names. Successive duplicate field names, including those created by truncation to 10 characters, will be truncated to 8 characters and appended with a serial number from 1 to 99."
   ]
  },
  {
   "cell_type": "code",
   "execution_count": 27,
   "id": "d3f83697-0bea-4ec2-916e-b6e125143708",
   "metadata": {
    "tags": []
   },
   "outputs": [
    {
     "data": {
      "text/plain": [
       "{'agency_pri': 'agency_primary',\n",
       " 'agency_sec': 'agency_secondary',\n",
       " 'hqta_detai': 'hqta_details',\n",
       " 'base64_url': 'base64_url_primary',\n",
       " 'base64_u_1': 'base64_url_secondary',\n",
       " 'org_id_pri': 'org_id_primary',\n",
       " 'org_id_sec': 'org_id_secondary',\n",
       " 'avg_trips_': 'avg_trips_per_peak_hr'}"
      ]
     },
     "execution_count": 27,
     "metadata": {},
     "output_type": "execute_result"
    }
   ],
   "source": [
    "RENAME_HQTA"
   ]
  },
  {
   "cell_type": "code",
   "execution_count": 30,
   "id": "56bebf1f-240d-499c-ac7d-2550415b113d",
   "metadata": {
    "tags": []
   },
   "outputs": [],
   "source": [
    "def shapefile_rename_from_df(df: pd.DataFrame | gpd.GeoDataFrame):\n",
    "    return"
   ]
  },
  {
   "cell_type": "code",
   "execution_count": 32,
   "id": "9da10416-953c-4fe5-8366-792a14ec1142",
   "metadata": {
    "tags": []
   },
   "outputs": [
    {
     "data": {
      "text/plain": [
       "['agency_pri',\n",
       " 'agency_sec',\n",
       " 'hqta_type',\n",
       " 'hqta_detai',\n",
       " 'route_id',\n",
       " 'base64_url',\n",
       " 'base64_url',\n",
       " 'org_id_pri',\n",
       " 'org_id_sec',\n",
       " 'geometry']"
      ]
     },
     "execution_count": 32,
     "metadata": {},
     "output_type": "execute_result"
    }
   ],
   "source": [
    "[col[:10] for col in hqta.columns]"
   ]
  },
  {
   "cell_type": "code",
   "execution_count": 33,
   "id": "ad04f00d-79de-47d9-b1e9-99819ad369c3",
   "metadata": {
    "tags": []
   },
   "outputs": [],
   "source": [
    "input_cols = hqta.columns"
   ]
  },
  {
   "cell_type": "code",
   "execution_count": 64,
   "id": "ceda08d9-c594-4ea0-add9-f0a9734eb646",
   "metadata": {
    "tags": []
   },
   "outputs": [
    {
     "data": {
      "text/plain": [
       "['agency_primary',\n",
       " 'agency_secondary',\n",
       " 'hqta_type',\n",
       " 'hqta_details',\n",
       " 'route_id',\n",
       " 'base64_url_primary',\n",
       " 'base64_url_secondary',\n",
       " 'org_id_primary',\n",
       " 'org_id_secondary',\n",
       " 'geometry',\n",
       " 'agency_primary',\n",
       " 'agency_secondary',\n",
       " 'hqta_type',\n",
       " 'hqta_details',\n",
       " 'route_id',\n",
       " 'base64_url_primary',\n",
       " 'base64_url_secondary',\n",
       " 'org_id_primary',\n",
       " 'org_id_secondary',\n",
       " 'geometry']"
      ]
     },
     "execution_count": 64,
     "metadata": {},
     "output_type": "execute_result"
    }
   ],
   "source": [
    "hqta.columns.to_list() * 2"
   ]
  },
  {
   "cell_type": "code",
   "execution_count": 66,
   "id": "4246a99b-b59c-440c-a07a-c54390081422",
   "metadata": {
    "tags": []
   },
   "outputs": [],
   "source": [
    "truncated_cols = []\n",
    "# for col in hqta.columns:\n",
    "for col in hqta.columns.to_list() * 2:\n",
    "    if col[:10] not in truncated_cols:\n",
    "        truncated_cols += [col[:10]]\n",
    "    else:\n",
    "        for i in range(1, 101):\n",
    "            if i > 99: raise Exception(\"gdal does not support more than 99 truncated duplicates\")\n",
    "            suffix = str(i).rjust(2, \"_\") #  pad single digits with _ on left\n",
    "            if col[:8] + suffix not in truncated_cols:\n",
    "                truncated_cols += [col[:8] + suffix]\n",
    "                break"
   ]
  },
  {
   "cell_type": "code",
   "execution_count": 67,
   "id": "72881fa9-e1fc-4067-940d-2a4c7f3609e5",
   "metadata": {
    "tags": []
   },
   "outputs": [
    {
     "data": {
      "text/plain": [
       "['agency_pri',\n",
       " 'agency_sec',\n",
       " 'hqta_type',\n",
       " 'hqta_detai',\n",
       " 'route_id',\n",
       " 'base64_url',\n",
       " 'base64_u_1',\n",
       " 'org_id_pri',\n",
       " 'org_id_sec',\n",
       " 'geometry',\n",
       " 'agency_p_1',\n",
       " 'agency_s_1',\n",
       " 'hqta_typ_1',\n",
       " 'hqta_det_1',\n",
       " 'route_id_1',\n",
       " 'base64_u_2',\n",
       " 'base64_u_3',\n",
       " 'org_id_p_1',\n",
       " 'org_id_s_1',\n",
       " 'geometry_1']"
      ]
     },
     "execution_count": 67,
     "metadata": {},
     "output_type": "execute_result"
    }
   ],
   "source": [
    "truncated_cols"
   ]
  },
  {
   "cell_type": "code",
   "execution_count": 36,
   "id": "050219a8-47f2-4527-8e3f-493558dc58de",
   "metadata": {
    "tags": []
   },
   "outputs": [
    {
     "data": {
      "text/plain": [
       "{'agency_pri': 'agency_primary',\n",
       " 'agency_sec': 'agency_secondary',\n",
       " 'hqta_type': 'hqta_type',\n",
       " 'hqta_detai': 'hqta_details',\n",
       " 'route_id': 'route_id',\n",
       " 'base64_url': 'base64_url_primary',\n",
       " 'base64_u_1': 'base64_url_secondary',\n",
       " 'org_id_pri': 'org_id_primary',\n",
       " 'org_id_sec': 'org_id_secondary',\n",
       " 'geometry': 'geometry'}"
      ]
     },
     "execution_count": 36,
     "metadata": {},
     "output_type": "execute_result"
    }
   ],
   "source": [
    "dict(zip(truncated_cols, hqta.columns))"
   ]
  },
  {
   "cell_type": "code",
   "execution_count": 37,
   "id": "aa71c72f-f37b-49cd-9420-c85da08a1b0f",
   "metadata": {
    "tags": []
   },
   "outputs": [
    {
     "data": {
      "text/plain": [
       "{'agency_pri': 'agency_primary',\n",
       " 'agency_sec': 'agency_secondary',\n",
       " 'hqta_detai': 'hqta_details',\n",
       " 'base64_url': 'base64_url_primary',\n",
       " 'base64_u_1': 'base64_url_secondary',\n",
       " 'org_id_pri': 'org_id_primary',\n",
       " 'org_id_sec': 'org_id_secondary',\n",
       " 'avg_trips_': 'avg_trips_per_peak_hr'}"
      ]
     },
     "execution_count": 37,
     "metadata": {},
     "output_type": "execute_result"
    }
   ],
   "source": [
    "RENAME_HQTA"
   ]
  },
  {
   "cell_type": "code",
   "execution_count": 39,
   "id": "15fa1170-48e1-4fe0-b8f2-54bd1975c508",
   "metadata": {
    "tags": []
   },
   "outputs": [
    {
     "name": "stdout",
     "output_type": "stream",
     "text": [
      "drop: []\n"
     ]
    }
   ],
   "source": [
    "for d in ['ca_hq_transit_stops'] :\n",
    "    hq_stops = catalog[d].read().to_crs(geography_utils.WGS84).pipe(\n",
    "        standardize_column_names\n",
    "    ).pipe(\n",
    "        remove_internal_keys\n",
    "    )"
   ]
  },
  {
   "cell_type": "code",
   "execution_count": 40,
   "id": "c3317812-5456-4bc2-9594-31d2fb4b5ac4",
   "metadata": {
    "tags": []
   },
   "outputs": [
    {
     "data": {
      "text/plain": [
       "{'agency_pri': 'agency_primary',\n",
       " 'agency_sec': 'hqta_type',\n",
       " 'hqta_type': 'stop_id',\n",
       " 'hqta_detai': 'route_id',\n",
       " 'route_id': 'hqta_details',\n",
       " 'base64_url': 'agency_secondary',\n",
       " 'base64_u_1': 'base64_url_primary',\n",
       " 'org_id_pri': 'base64_url_secondary',\n",
       " 'org_id_sec': 'org_id_primary',\n",
       " 'geometry': 'org_id_secondary'}"
      ]
     },
     "execution_count": 40,
     "metadata": {},
     "output_type": "execute_result"
    }
   ],
   "source": [
    "dict(zip(truncated_cols, hq_stops.columns))"
   ]
  },
  {
   "cell_type": "code",
   "execution_count": 41,
   "id": "fdbc0bb9-06d8-40cb-93bc-86610736886c",
   "metadata": {
    "tags": []
   },
   "outputs": [
    {
     "data": {
      "text/plain": [
       "{'agency_pri': 'agency_primary',\n",
       " 'agency_sec': 'agency_secondary',\n",
       " 'hqta_detai': 'hqta_details',\n",
       " 'base64_url': 'base64_url_primary',\n",
       " 'base64_u_1': 'base64_url_secondary',\n",
       " 'org_id_pri': 'org_id_primary',\n",
       " 'org_id_sec': 'org_id_secondary',\n",
       " 'avg_trips_': 'avg_trips_per_peak_hr'}"
      ]
     },
     "execution_count": 41,
     "metadata": {},
     "output_type": "execute_result"
    }
   ],
   "source": [
    "RENAME_HQTA"
   ]
  },
  {
   "cell_type": "code",
   "execution_count": null,
   "id": "fb8ea158-1d84-4237-a752-d5c484f461e4",
   "metadata": {},
   "outputs": [],
   "source": []
  }
 ],
 "metadata": {
  "kernelspec": {
   "display_name": "Python 3 (ipykernel)",
   "language": "python",
   "name": "python3"
  },
  "language_info": {
   "codemirror_mode": {
    "name": "ipython",
    "version": 3
   },
   "file_extension": ".py",
   "mimetype": "text/x-python",
   "name": "python",
   "nbconvert_exporter": "python",
   "pygments_lexer": "ipython3",
   "version": "3.11.10"
  },
  "widgets": {
   "application/vnd.jupyter.widget-state+json": {
    "state": {},
    "version_major": 2,
    "version_minor": 0
   }
  }
 },
 "nbformat": 4,
 "nbformat_minor": 5
}
