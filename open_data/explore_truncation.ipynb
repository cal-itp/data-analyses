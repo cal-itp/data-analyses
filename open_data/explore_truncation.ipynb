{
 "cells": [
  {
   "cell_type": "code",
   "execution_count": 1,
   "id": "552106bd-7c07-4a2d-9a9e-13896f590e4a",
   "metadata": {
    "tags": []
   },
   "outputs": [],
   "source": [
    "import json\n",
    "import yaml\n",
    "\n",
    "from pathlib import Path\n",
    "\n",
    "from calitp_data_analysis import utils, geography_utils\n",
    "from update_vars import analysis_date, ESRI_BASE_URL\n",
    "from open_data_utils import standardize_column_names, remove_internal_keys, esri_truncate_columns"
   ]
  },
  {
   "cell_type": "code",
   "execution_count": 2,
   "id": "bffdfd98-5448-4e88-ad3e-56b4eaa7dbd0",
   "metadata": {
    "tags": []
   },
   "outputs": [],
   "source": [
    "import geopandas as gpd\n",
    "import intake\n",
    "import pandas as pd"
   ]
  },
  {
   "cell_type": "code",
   "execution_count": 3,
   "id": "951fe190-2098-485a-8fba-0594a13c0c9d",
   "metadata": {
    "tags": []
   },
   "outputs": [],
   "source": [
    "catalog = intake.open_catalog(\"./catalog.yml\")"
   ]
  },
  {
   "cell_type": "code",
   "execution_count": 4,
   "id": "e7fafbf6-4f1f-414c-bf42-22a170469299",
   "metadata": {
    "tags": []
   },
   "outputs": [],
   "source": [
    "from update_vars import RUN_ME"
   ]
  },
  {
   "cell_type": "markdown",
   "id": "658402d6-7181-4366-9b38-b4148d4701a5",
   "metadata": {},
   "source": [
    "# Explore generting shapefile-truncated column names programatically"
   ]
  },
  {
   "cell_type": "markdown",
   "id": "468df716-ef81-4851-8ffa-e7258a0dc5dd",
   "metadata": {},
   "source": [
    "https://gdal.org/en/stable/drivers/vector/shapefile.html\n",
    "\n",
    "> Attribute names can only be up to 10 characters long. The OGR Shapefile driver tries to generate unique field names. Successive duplicate field names, including those created by truncation to 10 characters, will be truncated to 8 characters and appended with a serial number from 1 to 99."
   ]
  },
  {
   "cell_type": "markdown",
   "id": "2ac31275-fb4d-4a26-adff-dd39bf810ca6",
   "metadata": {},
   "source": [
    "## current renaming dictionaries\n",
    "\n",
    "* `STANDARDIZED_COLUMNS_DICT` is used to both standardize\n",
    "column names from our various analyses (as in `create_stops_data.py`, `gcs_to_esri.py`), and\n",
    "rename shapefile-truncated columns `\"route_ids_\"` and `\"n_hours_in\"` via `supplement_metadata.py` and `arcgis_pro_script.py`. \n",
    "\n",
    "*   When the desired name is longer than the shapefile limit, we would need keys for both the \n",
    "    original name and the shapefile-truncated desired name to point to the full\n",
    "    desired name, for example:     \n",
    "    ```\n",
    "    \"meters_to_shn\": \"meters_to_ca_state_highway\"\n",
    "    # \"meters_to_\": \"meters_to_ca_state_highway\" #  not present but would have to be added\n",
    "    ```\n",
    "    \n",
    "* `RENAME_HQTA` and `RENAME_SPEED` exclusively handle shapefile-truncated names\n",
    "\n",
    "## proposal\n",
    "\n",
    "* new function `esri_truncate_columns` handles all truncation and can be called in `supplement_metadata.py`\n",
    "* `STANDARDIZED_COLUMNS_DICT` remains in its standardization role, but doesn't need to rename truncated columns on top of that\n",
    "* `RENAME_HQTA` and `RENAME_SPEED` no longer necessary and can be deleted"
   ]
  },
  {
   "cell_type": "code",
   "execution_count": 14,
   "id": "316d0c6f-772c-45d8-a9ac-b3584bf194a0",
   "metadata": {
    "tags": []
   },
   "outputs": [],
   "source": [
    "# Rename columns when shapefile truncates\n",
    "RENAME_HQTA = {\n",
    "    \"agency_pri\": \"agency_primary\",\n",
    "    \"agency_sec\": \"agency_secondary\",\n",
    "    \"hqta_detai\": \"hqta_details\",\n",
    "    \"base64_url\": \"base64_url_primary\",\n",
    "    \"base64_u_1\": \"base64_url_secondary\",  \n",
    "    \"org_id_pri\": \"org_id_primary\",\n",
    "    \"org_id_sec\": \"org_id_secondary\",\n",
    "    \"avg_trips_\": \"avg_trips_per_peak_hr\"\n",
    "}\n",
    "\n",
    "RENAME_SPEED = {\n",
    "    \"stop_seque\": \"stop_sequence\",\n",
    "    \"time_of_da\": \"time_of_day\",\n",
    "    \"time_perio\": \"time_period\",\n",
    "    \"district_n\": \"district_name\",\n",
    "    \"direction_\": \"direction_id\",\n",
    "    \"common_sha\": \"common_shape_id\",\n",
    "    \"avg_sched_\": \"avg_sched_trip_min\", \n",
    "    \"avg_rt_tri\": \"avg_rt_trip_min\",\n",
    "    \"caltrans_d\": \"district_name\",\n",
    "    \"organization_source_record_id\": \"org_id\",\n",
    "    \"organization_name\": \"agency\",\n",
    "    \"stop_pair_\": \"stop_pair_name\"\n",
    "}\n",
    "\n",
    "STANDARDIZED_COLUMNS_DICT = {\n",
    "    \"caltrans_district\": \"district_name\",\n",
    "    \"organization_source_record_id\": \"org_id\",\n",
    "    \"organization_name\": \"agency\",\n",
    "    \"agency_name_primary\": \"agency_primary\",\n",
    "    \"agency_name_secondary\": \"agency_secondary\",\n",
    "    \"route_name_used\": \"route_name\",\n",
    "    \"route_types_served\": \"routetypes\",\n",
    "    \"n_hours_in\": \"n_hours_in_service\",\n",
    "    \"route_ids_\": \"route_ids_served\",\n",
    "    \"meters_to_shn\": \"meters_to_ca_state_highway\"\n",
    "    # \"meters_to_\": \"meters_to_ca_state_highway\" #  not present but would have to be added\n",
    "    # \"district_n\": \"district_name\" #  same as above\n",
    "}"
   ]
  },
  {
   "cell_type": "code",
   "execution_count": 15,
   "id": "89a86242-7c07-47d8-aa4f-1bef22d3c384",
   "metadata": {
    "tags": []
   },
   "outputs": [
    {
     "data": {
      "text/plain": [
       "['ca_hq_transit_areas',\n",
       " 'ca_hq_transit_stops',\n",
       " 'ca_transit_routes',\n",
       " 'ca_transit_stops',\n",
       " 'speeds_by_stop_segments',\n",
       " 'speeds_by_route_time_of_day']"
      ]
     },
     "execution_count": 15,
     "metadata": {},
     "output_type": "execute_result"
    }
   ],
   "source": [
    "RUN_ME"
   ]
  },
  {
   "cell_type": "code",
   "execution_count": 16,
   "id": "5075bec5-2c45-4752-bf96-8aa7d849010b",
   "metadata": {
    "tags": []
   },
   "outputs": [
    {
     "name": "stdout",
     "output_type": "stream",
     "text": [
      "drop: ['schedule_gtfs_dataset_key', 'name']\n"
     ]
    }
   ],
   "source": [
    "speeds_stop = catalog['speeds_by_stop_segments'].read().to_crs(geography_utils.WGS84).pipe(\n",
    "    standardize_column_names\n",
    ").pipe(\n",
    "    remove_internal_keys\n",
    ")"
   ]
  },
  {
   "cell_type": "code",
   "execution_count": 17,
   "id": "df54feb2-72f8-4e8b-b168-97d97644c2de",
   "metadata": {
    "tags": []
   },
   "outputs": [
    {
     "name": "stdout",
     "output_type": "stream",
     "text": [
      "drop: ['schedule_gtfs_dataset_key', 'meters_elapsed', 'sec_elapsed', 'name']\n"
     ]
    }
   ],
   "source": [
    "speeds_time_of_day = catalog['speeds_by_route_time_of_day'].read().to_crs(geography_utils.WGS84).pipe(\n",
    "    standardize_column_names\n",
    ").pipe(\n",
    "    remove_internal_keys\n",
    ")"
   ]
  },
  {
   "cell_type": "code",
   "execution_count": 18,
   "id": "3fc91dae-3dd7-424a-b37a-c94b8f360a0d",
   "metadata": {
    "tags": []
   },
   "outputs": [
    {
     "name": "stdout",
     "output_type": "stream",
     "text": [
      "drop: []\n"
     ]
    }
   ],
   "source": [
    "routes = catalog['ca_transit_routes'].read().to_crs(geography_utils.WGS84).pipe(\n",
    "    standardize_column_names\n",
    ").pipe(\n",
    "    remove_internal_keys\n",
    ")"
   ]
  },
  {
   "cell_type": "code",
   "execution_count": 19,
   "id": "ed3d064d-015a-4795-a07e-fafe168fca3d",
   "metadata": {
    "tags": []
   },
   "outputs": [
    {
     "name": "stdout",
     "output_type": "stream",
     "text": [
      "drop: []\n"
     ]
    }
   ],
   "source": [
    "stops = catalog['ca_transit_stops'].read().to_crs(geography_utils.WGS84).pipe(\n",
    "    standardize_column_names\n",
    ").pipe(\n",
    "    remove_internal_keys\n",
    ")"
   ]
  },
  {
   "cell_type": "code",
   "execution_count": 20,
   "id": "80d2044e-c2d9-4d53-9661-30afefee5675",
   "metadata": {
    "tags": []
   },
   "outputs": [
    {
     "name": "stdout",
     "output_type": "stream",
     "text": [
      "drop: []\n"
     ]
    }
   ],
   "source": [
    "hqta = catalog['ca_hq_transit_areas'].read().to_crs(geography_utils.WGS84).pipe(\n",
    "    standardize_column_names\n",
    ").pipe(\n",
    "    remove_internal_keys\n",
    ")"
   ]
  },
  {
   "cell_type": "code",
   "execution_count": 21,
   "id": "ed28b41c-2f8a-4898-b6ba-defae0e43bbf",
   "metadata": {
    "tags": []
   },
   "outputs": [
    {
     "name": "stdout",
     "output_type": "stream",
     "text": [
      "drop: []\n"
     ]
    }
   ],
   "source": [
    "hq_stops = catalog['ca_hq_transit_stops'].read().to_crs(geography_utils.WGS84).pipe(\n",
    "    standardize_column_names\n",
    ").pipe(\n",
    "    remove_internal_keys\n",
    ")"
   ]
  },
  {
   "cell_type": "code",
   "execution_count": 22,
   "id": "4246a99b-b59c-440c-a07a-c54390081422",
   "metadata": {
    "tags": []
   },
   "outputs": [],
   "source": [
    "# see open_data_utils.py\n",
    "\n",
    "# def esri_truncate_columns(columns: list | pd.Index) -> dict:\n",
    "#     '''\n",
    "#     from a list of columns or df.columns, match gdal algorithm\n",
    "#     to generate ESRI Shapefile truncated names. Includes handling\n",
    "#     truncated duplicates.\n",
    "    \n",
    "#     https://gdal.org/en/stable/drivers/vector/shapefile.html\n",
    "    \n",
    "#     Intended for use after all other renaming and just before shapefile export\n",
    "#     '''\n",
    "#     truncated_cols = []\n",
    "#     for col in columns:\n",
    "#         if col[:10] not in truncated_cols:\n",
    "#             truncated_cols += [col[:10]]\n",
    "#         else: #  truncated duplicate present\n",
    "#             for i in range(1, 101):\n",
    "#                 if i > 99: raise Exception(\"gdal does not support more than 99 truncated duplicates\")\n",
    "#                 suffix = str(i).rjust(2, \"_\") #  pad single digits with _ on left\n",
    "#                 if col[:8] + suffix not in truncated_cols:\n",
    "#                     truncated_cols += [col[:8] + suffix]\n",
    "#                     break\n",
    "#     truncated_dict = dict(zip(truncated_cols, columns))\n",
    "#     truncated_dict = {key: truncated_dict[key] for key in truncated_dict.keys() if key != truncated_dict[key]}\n",
    "#     return truncated_dict"
   ]
  },
  {
   "cell_type": "code",
   "execution_count": 27,
   "id": "733b8e8c-7ed4-424e-9a65-9b7465fcd9f2",
   "metadata": {
    "tags": []
   },
   "outputs": [],
   "source": [
    "# esri_truncate_columns(['duplicate'] * 100) #  works but unlikely edge case!\n",
    "# esri_truncate_columns(['duplicate'] * 101) #  fails and raises as it should."
   ]
  },
  {
   "cell_type": "markdown",
   "id": "8c517ed7-413b-4651-9104-249a0ac97bfd",
   "metadata": {},
   "source": [
    "## compare new function with current dicts"
   ]
  },
  {
   "cell_type": "markdown",
   "id": "5eb93f9a-6e2c-406e-9a18-31a7954e7d71",
   "metadata": {},
   "source": [
    "#### hqta\n",
    "\n",
    "* note that `base64_url_primary`, `base64_url_secondary` truncated duplicate order is preserved in function"
   ]
  },
  {
   "cell_type": "code",
   "execution_count": 28,
   "id": "d3f83697-0bea-4ec2-916e-b6e125143708",
   "metadata": {
    "tags": []
   },
   "outputs": [
    {
     "data": {
      "text/plain": [
       "{'agency_pri': 'agency_primary',\n",
       " 'agency_sec': 'agency_secondary',\n",
       " 'hqta_detai': 'hqta_details',\n",
       " 'base64_url': 'base64_url_primary',\n",
       " 'base64_u_1': 'base64_url_secondary',\n",
       " 'org_id_pri': 'org_id_primary',\n",
       " 'org_id_sec': 'org_id_secondary',\n",
       " 'avg_trips_': 'avg_trips_per_peak_hr'}"
      ]
     },
     "execution_count": 28,
     "metadata": {},
     "output_type": "execute_result"
    }
   ],
   "source": [
    "RENAME_HQTA"
   ]
  },
  {
   "cell_type": "code",
   "execution_count": 29,
   "id": "01e5e69f-04f2-4364-ab8f-01d61b64c835",
   "metadata": {
    "tags": []
   },
   "outputs": [
    {
     "data": {
      "text/plain": [
       "{'agency_pri': 'agency_primary',\n",
       " 'agency_sec': 'agency_secondary',\n",
       " 'hqta_detai': 'hqta_details',\n",
       " 'base64_url': 'base64_url_primary',\n",
       " 'base64_u_1': 'base64_url_secondary',\n",
       " 'org_id_pri': 'org_id_primary',\n",
       " 'org_id_sec': 'org_id_secondary'}"
      ]
     },
     "execution_count": 29,
     "metadata": {},
     "output_type": "execute_result"
    }
   ],
   "source": [
    "esri_truncate_columns(hqta.columns) #  keys/values match, note avg_trips_per_peak_hr not present in this dataset"
   ]
  },
  {
   "cell_type": "code",
   "execution_count": 30,
   "id": "67747cf3-29b7-4faa-afbf-b9a5e9b2103e",
   "metadata": {
    "tags": []
   },
   "outputs": [
    {
     "data": {
      "text/plain": [
       "{'agency_pri': 'agency_primary',\n",
       " 'hqta_detai': 'hqta_details',\n",
       " 'agency_sec': 'agency_secondary',\n",
       " 'base64_url': 'base64_url_primary',\n",
       " 'base64_u_1': 'base64_url_secondary',\n",
       " 'org_id_pri': 'org_id_primary',\n",
       " 'org_id_sec': 'org_id_secondary',\n",
       " 'avg_trips_': 'avg_trips_per_peak_hr'}"
      ]
     },
     "execution_count": 30,
     "metadata": {},
     "output_type": "execute_result"
    }
   ],
   "source": [
    "esri_truncate_columns(hq_stops.columns) #  keys/values match"
   ]
  },
  {
   "cell_type": "markdown",
   "id": "9d7b8e42-ffe3-49bc-9ca1-99f33dbe874e",
   "metadata": {},
   "source": [
    "#### speeds"
   ]
  },
  {
   "cell_type": "code",
   "execution_count": 31,
   "id": "aa95d825-ed4b-45e1-8c76-6397cf74ada7",
   "metadata": {
    "tags": []
   },
   "outputs": [
    {
     "data": {
      "text/plain": [
       "{'stop_seque': 'stop_sequence',\n",
       " 'time_of_da': 'time_of_day',\n",
       " 'time_perio': 'time_period',\n",
       " 'district_n': 'district_name',\n",
       " 'direction_': 'direction_id',\n",
       " 'common_sha': 'common_shape_id',\n",
       " 'avg_sched_': 'avg_sched_trip_min',\n",
       " 'avg_rt_tri': 'avg_rt_trip_min',\n",
       " 'caltrans_d': 'district_name',\n",
       " 'organization_source_record_id': 'org_id',\n",
       " 'organization_name': 'agency',\n",
       " 'stop_pair_': 'stop_pair_name'}"
      ]
     },
     "execution_count": 31,
     "metadata": {},
     "output_type": "execute_result"
    }
   ],
   "source": [
    "RENAME_SPEED"
   ]
  },
  {
   "cell_type": "markdown",
   "id": "4e144865-e262-4a86-857b-0361d9b72fa4",
   "metadata": {
    "tags": []
   },
   "source": [
    "note `caltrans_district` has changed to `district_name` via `STANDARDIZED_COLUMNS_DICT`, but that change isn't present in RENAME_SPEED"
   ]
  },
  {
   "cell_type": "code",
   "execution_count": 32,
   "id": "ceae236e-44e5-49a4-9491-2bd01ef6eab5",
   "metadata": {
    "tags": []
   },
   "outputs": [
    {
     "data": {
      "text/plain": [
       "Index(['route_id', 'direction_id', 'stop_pair', 'stop_pair_name',\n",
       "       'time_period', 'p50_mph', 'n_trips', 'p20_mph', 'p80_mph',\n",
       "       'district_name', 'org_id', 'agency', 'base64_url', 'geometry'],\n",
       "      dtype='object')"
      ]
     },
     "execution_count": 32,
     "metadata": {},
     "output_type": "execute_result"
    }
   ],
   "source": [
    "speeds_stop.columns"
   ]
  },
  {
   "cell_type": "code",
   "execution_count": 33,
   "id": "01d0c30b-1587-4afc-8f06-bbba7eccd2cb",
   "metadata": {},
   "outputs": [
    {
     "data": {
      "text/plain": [
       "{'direction_': 'direction_id',\n",
       " 'stop_pair_': 'stop_pair_name',\n",
       " 'time_perio': 'time_period',\n",
       " 'district_n': 'district_name'}"
      ]
     },
     "execution_count": 33,
     "metadata": {},
     "output_type": "execute_result"
    }
   ],
   "source": [
    "esri_truncate_columns(speeds_stop.columns)"
   ]
  },
  {
   "cell_type": "code",
   "execution_count": 34,
   "id": "a334d2c2-fad5-4d96-962a-51b879d868f9",
   "metadata": {
    "tags": []
   },
   "outputs": [
    {
     "data": {
      "text/plain": [
       "Index(['route_id', 'direction_id', 'time_period', 'speed_mph', 'district_name',\n",
       "       'org_id', 'agency', 'base64_url', 'route_name', 'geometry'],\n",
       "      dtype='object')"
      ]
     },
     "execution_count": 34,
     "metadata": {},
     "output_type": "execute_result"
    }
   ],
   "source": [
    "speeds_time_of_day.columns"
   ]
  },
  {
   "cell_type": "code",
   "execution_count": 35,
   "id": "dec0522d-9356-4cad-a6e1-30ebe91c2bf9",
   "metadata": {
    "tags": []
   },
   "outputs": [
    {
     "data": {
      "text/plain": [
       "{'direction_': 'direction_id',\n",
       " 'time_perio': 'time_period',\n",
       " 'district_n': 'district_name'}"
      ]
     },
     "execution_count": 35,
     "metadata": {},
     "output_type": "execute_result"
    }
   ],
   "source": [
    "esri_truncate_columns(speeds_time_of_day.columns)"
   ]
  },
  {
   "cell_type": "markdown",
   "id": "9c7b1370-c94e-41d2-9567-1ab1e815f0a5",
   "metadata": {},
   "source": [
    "#### routes and stops"
   ]
  },
  {
   "cell_type": "code",
   "execution_count": 36,
   "id": "bb16cff8-e530-4410-9522-b6eafa8f29cc",
   "metadata": {
    "tags": []
   },
   "outputs": [
    {
     "data": {
      "text/plain": [
       "{'caltrans_district': 'district_name',\n",
       " 'organization_source_record_id': 'org_id',\n",
       " 'organization_name': 'agency',\n",
       " 'agency_name_primary': 'agency_primary',\n",
       " 'agency_name_secondary': 'agency_secondary',\n",
       " 'route_name_used': 'route_name',\n",
       " 'route_types_served': 'routetypes',\n",
       " 'n_hours_in': 'n_hours_in_service',\n",
       " 'route_ids_': 'route_ids_served',\n",
       " 'meters_to_shn': 'meters_to_ca_state_highway'}"
      ]
     },
     "execution_count": 36,
     "metadata": {},
     "output_type": "execute_result"
    }
   ],
   "source": [
    "STANDARDIZED_COLUMNS_DICT"
   ]
  },
  {
   "cell_type": "code",
   "execution_count": 37,
   "id": "86ab3dd1-a4d2-44e1-b8e2-ecd41b9b0090",
   "metadata": {
    "tags": []
   },
   "outputs": [
    {
     "data": {
      "text/plain": [
       "{}"
      ]
     },
     "execution_count": 37,
     "metadata": {},
     "output_type": "execute_result"
    }
   ],
   "source": [
    "esri_truncate_columns(routes.columns)"
   ]
  },
  {
   "cell_type": "code",
   "execution_count": 38,
   "id": "d5e9cdd7-c3d5-46f3-87e9-005127e53d51",
   "metadata": {
    "tags": []
   },
   "outputs": [
    {
     "data": {
      "text/plain": [
       "Index(['org_id', 'agency', 'route_id', 'route_type', 'route_name', 'shape_id',\n",
       "       'n_trips', 'base64_url', 'geometry'],\n",
       "      dtype='object')"
      ]
     },
     "execution_count": 38,
     "metadata": {},
     "output_type": "execute_result"
    }
   ],
   "source": [
    "routes.columns"
   ]
  },
  {
   "cell_type": "code",
   "execution_count": 39,
   "id": "775c1078-5d25-4ff9-9297-b7fe0cb07817",
   "metadata": {
    "tags": []
   },
   "outputs": [
    {
     "data": {
      "text/plain": [
       "[]"
      ]
     },
     "execution_count": 39,
     "metadata": {},
     "output_type": "execute_result"
    }
   ],
   "source": [
    "[col for col in routes.columns if len(col) > 10] #  all short enough already"
   ]
  },
  {
   "cell_type": "code",
   "execution_count": 40,
   "id": "9adbde0a-d3a3-42d2-8996-0a67231b551c",
   "metadata": {
    "tags": []
   },
   "outputs": [
    {
     "data": {
      "text/plain": [
       "{'route_ids_': 'route_ids_served',\n",
       " 'n_hours_in': 'n_hours_in_service',\n",
       " 'meters_to_': 'meters_to_ca_state_highway',\n",
       " 'district_n': 'district_name'}"
      ]
     },
     "execution_count": 40,
     "metadata": {},
     "output_type": "execute_result"
    }
   ],
   "source": [
    "esri_truncate_columns(stops.columns) # matches top 2 existing key/values, correctly adds second 2"
   ]
  }
 ],
 "metadata": {
  "kernelspec": {
   "display_name": "Python 3 (ipykernel)",
   "language": "python",
   "name": "python3"
  },
  "language_info": {
   "codemirror_mode": {
    "name": "ipython",
    "version": 3
   },
   "file_extension": ".py",
   "mimetype": "text/x-python",
   "name": "python",
   "nbconvert_exporter": "python",
   "pygments_lexer": "ipython3",
   "version": "3.11.10"
  },
  "widgets": {
   "application/vnd.jupyter.widget-state+json": {
    "state": {},
    "version_major": 2,
    "version_minor": 0
   }
  }
 },
 "nbformat": 4,
 "nbformat_minor": 5
}
