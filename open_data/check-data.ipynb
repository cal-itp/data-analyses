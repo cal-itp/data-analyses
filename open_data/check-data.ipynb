{
 "cells": [
  {
   "cell_type": "code",
   "execution_count": null,
   "id": "eb4c52e5-9387-4fae-8a35-c184b83ec37a",
   "metadata": {},
   "outputs": [],
   "source": [
    "import geopandas as gpd\n",
    "import intake\n",
    "\n",
    "import gcs_to_esri\n",
    "\n",
    "catalog = intake.open_catalog(\"./*.yml\")\n"
   ]
  },
  {
   "cell_type": "code",
   "execution_count": null,
   "id": "bfbdfad9-96c0-4643-bf75-0c0a3160aa9e",
   "metadata": {},
   "outputs": [],
   "source": [
    "datasets = list(dict(catalog).keys())\n",
    "    \n",
    "for d in datasets:\n",
    "    gdf = catalog[d].read()\n",
    "    gdf = gcs_to_esri.standardize_column_names(gdf)\n",
    "\n",
    "    print(f\"********* {d} *************\")\n",
    "    gcs_to_esri.print_info(gdf)"
   ]
  },
  {
   "cell_type": "code",
   "execution_count": null,
   "id": "c7019966-e21c-4c98-9554-bf75dfe0877b",
   "metadata": {},
   "outputs": [],
   "source": []
  }
 ],
 "metadata": {
  "kernelspec": {
   "display_name": "Python 3 (ipykernel)",
   "language": "python",
   "name": "python3"
  },
  "language_info": {
   "codemirror_mode": {
    "name": "ipython",
    "version": 3
   },
   "file_extension": ".py",
   "mimetype": "text/x-python",
   "name": "python",
   "nbconvert_exporter": "python",
   "pygments_lexer": "ipython3",
   "version": "3.10.4"
  }
 },
 "nbformat": 4,
 "nbformat_minor": 5
}
