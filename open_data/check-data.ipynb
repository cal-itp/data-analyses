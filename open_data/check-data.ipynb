{
 "cells": [
  {
   "cell_type": "code",
   "execution_count": 1,
   "id": "eb4c52e5-9387-4fae-8a35-c184b83ec37a",
   "metadata": {},
   "outputs": [
    {
     "name": "stderr",
     "output_type": "stream",
     "text": [
      "/opt/conda/lib/python3.10/site-packages/geopandas/_compat.py:111: UserWarning: The Shapely GEOS version (3.10.2-CAPI-1.16.0) is incompatible with the GEOS version PyGEOS was compiled with (3.10.1-CAPI-1.16.0). Conversions between both will be slow.\n",
      "  warnings.warn(\n"
     ]
    }
   ],
   "source": [
    "import geopandas as gpd\n",
    "import intake\n",
    "\n",
    "import gcs_to_esri\n",
    "\n",
    "catalog = intake.open_catalog(\"./*.yml\")\n"
   ]
  },
  {
   "cell_type": "code",
   "execution_count": null,
   "id": "bfbdfad9-96c0-4643-bf75-0c0a3160aa9e",
   "metadata": {},
   "outputs": [],
   "source": [
    "datasets = list(dict(catalog).keys())\n",
    "    \n",
    "for d in datasets:\n",
    "    gdf = catalog[d].read()\n",
    "    gdf = gcs_to_esri.standardize_column_names(gdf)\n",
    "\n",
    "    print(f\"********* {d} *************\")\n",
    "    gcs_to_esri.print_info(gdf)"
   ]
  },
  {
   "cell_type": "code",
   "execution_count": 3,
   "id": "c7019966-e21c-4c98-9554-bf75dfe0877b",
   "metadata": {},
   "outputs": [],
   "source": [
    "gdf = catalog.ca_hq_transit_areas.read()"
   ]
  },
  {
   "cell_type": "code",
   "execution_count": 5,
   "id": "8b96e7be-2de7-4900-b9a9-114dea126129",
   "metadata": {},
   "outputs": [],
   "source": [
    "gdf.crs = \"EPSG:3310\""
   ]
  },
  {
   "cell_type": "code",
   "execution_count": 8,
   "id": "369f3ae2-3702-4641-b3aa-03724964288e",
   "metadata": {},
   "outputs": [],
   "source": [
    "gdf = gdf.to_crs(\"EPSG:4326\")"
   ]
  },
  {
   "cell_type": "code",
   "execution_count": 9,
   "id": "4008e6f0-c195-46f2-ac32-813b1443647c",
   "metadata": {},
   "outputs": [
    {
     "data": {
      "text/plain": [
       "<AxesSubplot:>"
      ]
     },
     "execution_count": 9,
     "metadata": {},
     "output_type": "execute_result"
    },
    {
     "data": {
      "image/png": "[encoded data removed]",
      "text/plain": [
       "<Figure size 432x288 with 1 Axes>"
      ]
     },
     "metadata": {
      "needs_background": "light"
     },
     "output_type": "display_data"
    }
   ],
   "source": [
    "gdf.plot()"
   ]
  },
  {
   "cell_type": "code",
   "execution_count": 11,
   "id": "79e989e4-6222-4f23-a741-0dcd8569de0a",
   "metadata": {},
   "outputs": [
    {
     "name": "stdout",
     "output_type": "stream",
     "text": [
      "Path name: ca_hq_transit_areas.zip\n",
      "Dirname (1st element of path): ca_hq_transit_areas\n",
      "Shapefile name: ca_hq_transit_areas.shp\n"
     ]
    },
    {
     "name": "stderr",
     "output_type": "stream",
     "text": [
      "/opt/conda/lib/python3.10/site-packages/geopandas/io/file.py:362: FutureWarning: pandas.Int64Index is deprecated and will be removed from pandas in a future version. Use pandas.Index with the appropriate dtype instead.\n",
      "/home/jovyan/data-analyses/_shared_utils/shared_utils/utils.py:88: UserWarning: Column names longer than 10 characters will be truncated when saved to ESRI Shapefile.\n"
     ]
    },
    {
     "name": "stdout",
     "output_type": "stream",
     "text": [
      "Shapefile component parts folder: ca_hq_transit_areas/ca_hq_transit_areas.shp\n"
     ]
    }
   ],
   "source": [
    "from shared_utils import utils\n",
    "\n",
    "utils.make_zipped_shapefile(gdf, f\"ca_hq_transit_areas.zip\")\n"
   ]
  },
  {
   "cell_type": "code",
   "execution_count": null,
   "id": "2dd48b62-58f8-4f08-9d6b-5e9daa368f43",
   "metadata": {},
   "outputs": [],
   "source": []
  }
 ],
 "metadata": {
  "kernelspec": {
   "display_name": "Python 3 (ipykernel)",
   "language": "python",
   "name": "python3"
  },
  "language_info": {
   "codemirror_mode": {
    "name": "ipython",
    "version": 3
   },
   "file_extension": ".py",
   "mimetype": "text/x-python",
   "name": "python",
   "nbconvert_exporter": "python",
   "pygments_lexer": "ipython3",
   "version": "3.10.4"
  }
 },
 "nbformat": 4,
 "nbformat_minor": 5
}
