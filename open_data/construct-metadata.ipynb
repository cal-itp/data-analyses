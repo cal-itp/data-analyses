{
 "cells": [
  {
   "cell_type": "markdown",
   "id": "aa3c1db9-8958-4e68-a5e0-6bc55a369723",
   "metadata": {},
   "source": [
    "# Construct metadata from existing\n",
    "\n",
    "* Metadata won't have the structure unless it's been filled out first. Starting from scratch means there are certain key-value pairs missing.\n",
    "* Use \n",
    "* Start with a copy of an existing metadata to be template?"
   ]
  },
  {
   "cell_type": "code",
   "execution_count": 1,
   "id": "852784e9-fbdb-42d9-bd11-e20f84fa04ac",
   "metadata": {},
   "outputs": [],
   "source": [
    "#import xml.etree.ElementTree as ET\n",
    "#import json\n",
    "import xmltodict\n",
    "\n",
    "import metadata_update"
   ]
  },
  {
   "cell_type": "code",
   "execution_count": 2,
   "id": "aca60522-f88e-446c-922b-5941a1852a43",
   "metadata": {},
   "outputs": [
    {
     "name": "stdout",
     "output_type": "stream",
     "text": [
      "Loading XML as JSON from ./metadata_xml/ca_hq_transit_areas.xml\n",
      "Loading XML as JSON from ./metadata_xml/ca_transit_routes.xml\n"
     ]
    }
   ],
   "source": [
    "XML_FILE = './metadata_xml/ca_hq_transit_areas.xml'\n",
    "NEW_XML_FILE = './metadata_xml/ca_transit_routes.xml'\n",
    "\n",
    "hqta = metadata_update.xml_to_json(XML_FILE)\n",
    "routes = metadata_update.xml_to_json(NEW_XML_FILE)"
   ]
  },
  {
   "cell_type": "markdown",
   "id": "64848649-5d70-4101-9bb6-41deed054d00",
   "metadata": {},
   "source": [
    "## Lift necessary stuff from 1st time through shp to file gdb"
   ]
  },
  {
   "cell_type": "code",
   "execution_count": 54,
   "id": "c8f75dc2-a19f-47c7-be5b-59949f1b9ece",
   "metadata": {},
   "outputs": [],
   "source": [
    "def lift_necessary_dataset_elements(metadata_json):\n",
    "    m = metadata_json[\"metadata\"]\n",
    "    \n",
    "    # Store this info in a dictionary\n",
    "    d = {}\n",
    "    \n",
    "    # Bounding box\n",
    "    d[\"idinfo\"] = {}\n",
    "    d[\"idinfo\"][\"spdom\"] = m[\"idinfo\"][\"spdom\"] \n",
    "    \n",
    "    # Some description about geospatial layer\n",
    "    d[\"spdoinfo\"] = m[\"spdoinfo\"] \n",
    "    \n",
    "    # Spatial reference info\n",
    "    d[\"spref\"] = m[\"spref\"] \n",
    "    \n",
    "    # Field and entity attributes\n",
    "    d[\"eainfo\"] = m[\"eainfo\"]\n",
    "    \n",
    "    return d"
   ]
  },
  {
   "cell_type": "code",
   "execution_count": null,
   "id": "e56f7dc5-510b-462c-b976-6c310ede673f",
   "metadata": {},
   "outputs": [],
   "source": [
    "route_info = lift_necessary_dataset_elements(routes)"
   ]
  },
  {
   "cell_type": "code",
   "execution_count": 58,
   "id": "89043a65-4dc7-4df3-ad1d-8ed9ecc57bda",
   "metadata": {},
   "outputs": [],
   "source": [
    "def overwrite_default_with_dataset_elements(metadata_json):\n",
    "    DEFAULT_XML = \"./metadata_xml/default.xml\"\n",
    "    default_template = metadata_update.xml_to_json(DEFAULT_XML)\n",
    "    default = default_template[\"metadata\"]\n",
    "    \n",
    "    # Grab the necessary elements from my dataset\n",
    "    necessary_elements = lift_necessary_dataset_elements(metadata_json)\n",
    "    \n",
    "    # Overwrite it in the default template\n",
    "    for key, value in default.items():\n",
    "        if key in necessary_elements.keys() and key != \"idinfo\":\n",
    "            default[key] = necessary_elements[key]\n",
    "        \n",
    "        elif key == \"idinfo\":\n",
    "            for k, v in value.items():\n",
    "                if k == \"spdom\":\n",
    "                    default[key][k] = necessary_elements[key][k]\n",
    "           \n",
    "            \n",
    "    # Return the default template, but now with our dataset's info populated\n",
    "    return default"
   ]
  },
  {
   "cell_type": "code",
   "execution_count": 61,
   "id": "b6bdb5ad-441d-4340-933c-9b4a1a6da18c",
   "metadata": {},
   "outputs": [
    {
     "name": "stdout",
     "output_type": "stream",
     "text": [
      "Loading XML as JSON from ./metadata_xml/default.xml\n"
     ]
    }
   ],
   "source": [
    "routes_with_template = overwrite_default_with_dataset_elements(routes)"
   ]
  },
  {
   "cell_type": "code",
   "execution_count": 44,
   "id": "0886351e-a7cb-45df-b14b-ca648adc6351",
   "metadata": {},
   "outputs": [],
   "source": []
  },
  {
   "cell_type": "code",
   "execution_count": 11,
   "id": "a60cd9ca-cb2c-41c4-9466-d0f605a11e55",
   "metadata": {},
   "outputs": [
    {
     "data": {
      "text/plain": [
       "{'citation': {'citeinfo': {'title': 'my_dataset',\n",
       "   'edition': '1',\n",
       "   'geoform': 'vector digital data',\n",
       "   'pubinfo': {'publish': 'California Integrated Travel Project'}}},\n",
       " 'descript': {'abstract': 'Public. EPSG: 3310',\n",
       "  'purpose': 'Summary sentence about dataset.'},\n",
       " 'timeperd': {'timeinfo': {'rngdates': {'begdate': 'YYYYMMDD',\n",
       "    'enddate': 'YYYYMMDD'}},\n",
       "  'current': 'California'},\n",
       " 'status': {'progress': 'Complete', 'update': 'Monthly'},\n",
       " 'spdom': {'bounding': {'westbc': '-124.423914',\n",
       "   'eastbc': '-113.465232',\n",
       "   'northbc': '45.362934',\n",
       "   'southbc': '32.441061'}},\n",
       " 'keywords': [],\n",
       " 'accconst': 'None',\n",
       " 'useconst': 'None',\n",
       " 'ptcontac': {'cntinfo': {'cntorgp': {'cntorg': 'Caltrans',\n",
       "    'cntper': 'Eric Dasmalchi'},\n",
       "   'cntpos': 'California Integrated Travel Project',\n",
       "   'cntemail': 'eric.dasmalchi@dot.ca.gov'}},\n",
       " 'native': 'Version 6.2 (Build 9200) ; Esri ArcGIS 10.8.1.14362'}"
      ]
     },
     "execution_count": 11,
     "metadata": {},
     "output_type": "execute_result"
    }
   ],
   "source": [
    "# Check if edition is available\n",
    "# If yes, add 1 to it\n",
    "# If not, set it to 1\n",
    "\n",
    "hqta[\"metadata\"][\"idinfo\"]\n",
    "\n",
    "# https://blog.finxter.com/how-to-update-a-key-in-a-dictionary-in-python-if-the-key-doesnt-exist/\n",
    "#device.setdefault('year',2019)\n"
   ]
  },
  {
   "cell_type": "code",
   "execution_count": 9,
   "id": "576c2bee-62c7-475d-8e7a-42e9a1920ed7",
   "metadata": {},
   "outputs": [
    {
     "data": {
      "text/plain": [
       "{'detailed': {'enttyp': {'enttypl': 'ca_hq_transit_areas'},\n",
       "  'attr': [{'attrlabl': 'agency_n_1'},\n",
       "   {'attrlabl': 'Shape_Length',\n",
       "    'attrdef': 'Length of feature in internal units.',\n",
       "    'attrdefs': 'Esri',\n",
       "    'attrdomv': {'udom': 'Positive real numbers that are automatically generated.'}},\n",
       "   {'attrlabl': 'calitp_i_1'},\n",
       "   {'attrlabl': 'OBJECTID',\n",
       "    'attrdef': 'Internal feature number.',\n",
       "    'attrdefs': 'Esri',\n",
       "    'attrdomv': {'udom': 'Sequential unique whole numbers that are automatically generated.'}},\n",
       "   {'attrlabl': 'Shape_Area',\n",
       "    'attrdef': 'Area of feature in internal units squared.',\n",
       "    'attrdefs': 'Esri',\n",
       "    'attrdomv': {'udom': 'Positive real numbers that are automatically generated.'}},\n",
       "   {'attrlabl': 'hqta_type'},\n",
       "   {'attrlabl': 'calitp_itp'},\n",
       "   {'attrlabl': 'agency_nam'},\n",
       "   {'attrlabl': 'Shape',\n",
       "    'attrdef': 'Feature geometry.',\n",
       "    'attrdefs': 'Esri',\n",
       "    'attrdomv': {'udom': 'Coordinates defining the features.'}}]}}"
      ]
     },
     "execution_count": 9,
     "metadata": {},
     "output_type": "execute_result"
    }
   ],
   "source": [
    "# Where is citation \n",
    "# Probably check whether that part exists, and if it doesn't, construct it?\n",
    "# Or, it's easier to just grab the necessary sections and \n",
    "# replace the entirety \n",
    "hqta[\"metadata\"][\"eainfo\"]"
   ]
  },
  {
   "cell_type": "code",
   "execution_count": 6,
   "id": "c3012e94-85c5-48e8-a6c1-c74d852b9a86",
   "metadata": {},
   "outputs": [],
   "source": [
    "SAMPLE_DATASET_INFO = {\n",
    "    \"dataset_name\": \"my_dataset\", \n",
    "    \"publish_entity\": \"California Integrated Travel Project\", \n",
    "\n",
    "    \"abstract\": \"Public. EPSG: 3310\",\n",
    "    \"purpose\": \"Summary sentence about dataset.\", \n",
    "\n",
    "    \"beginning_date\": \"YYYYMMDD\",\n",
    "    \"end_date\": \"YYYYMMDD\",\n",
    "    \"place\": \"California\",\n",
    "\n",
    "    \"status\": \"Complete\", \n",
    "    \"frequency\": \"Monthly\",\n",
    "    \n",
    "    \"theme_topics\": [], \n",
    "\n",
    "    \"methodology\": \"Detailed methodology description\", \n",
    "    \n",
    "    \"data_dict_type\": \"CSV\",\n",
    "    \"data_dict_url\": \"some_url\", \n",
    "\n",
    "    \"contact_organization\": \"Caltrans\", \n",
    "    \"contact_person\": \"Analyst Name\", \n",
    "    \"contact_email\": \"hello@calitp.org\" \n",
    "}\n",
    "\n",
    "\n",
    "# Overwrite the metadata after dictionary of dataset info is supplied\n",
    "def overwrite_metadata_json(metadata_json, DATASET_INFO):\n",
    "    d = DATASET_INFO\n",
    "    new_metadata = metadata_json.copy()\n",
    "    m = new_metadata[\"metadata\"]\n",
    "    \n",
    "    m[\"idinfo\"][\"citation\"][\"citeinfo\"][\"title\"] = d[\"dataset_name\"]\n",
    "    m[\"idinfo\"][\"citation\"][\"citeinfo\"][\"pubinfo\"][\"publish\"] = d[\"publish_entity\"]\n",
    "    \n",
    "    m[\"idinfo\"][\"descript\"][\"abstract\"] = d[\"abstract\"]\n",
    "    m[\"idinfo\"][\"descript\"][\"purpose\"] = d[\"purpose\"]\n",
    "    \n",
    "    m[\"idinfo\"][\"timeperd\"][\"timeinfo\"][\"rngdates\"][\"begdate\"] = d[\"beginning_date\"]\n",
    "    m[\"idinfo\"][\"timeperd\"][\"timeinfo\"][\"rngdates\"][\"enddate\"] = d[\"end_date\"]\n",
    "    m[\"idinfo\"][\"timeperd\"][\"current\"] = d[\"place\"]\n",
    "    \n",
    "    m[\"idinfo\"][\"status\"][\"progress\"] = d[\"status\"]\n",
    "    m[\"idinfo\"][\"status\"][\"update\"] = d[\"frequency\"]\n",
    "\n",
    "    m[\"idinfo\"][\"keywords\"] = d[\"theme_topics\"]    \n",
    "\n",
    "    m[\"dataqual\"][\"lineage\"][\"procstep\"][\"procdesc\"] = d[\"methodology\"]    \n",
    "    \n",
    "    m[\"eainfo\"][\"detailed\"][0][\"enttyp\"][\"enttypl\"] = d[\"dataset_name\"]    \n",
    "    m[\"eainfo\"][\"detailed\"][1][\"enttyp\"][\"enttypd\"] = d[\"data_dict_type\"]    \n",
    "    m[\"eainfo\"][\"detailed\"][1][\"enttyp\"][\"enttypds\"] = d[\"data_dict_url\"]    \n",
    "  \n",
    "    m[\"metainfo\"][\"metc\"][\"cntinfo\"][\"cntorgp\"][\"cntorg\"] = d[\"contact_organization\"]    \n",
    "    m[\"metainfo\"][\"metc\"][\"cntinfo\"][\"cntorgp\"][\"cntper\"] = d[\"contact_person\"]    \n",
    "    m[\"metainfo\"][\"metc\"][\"cntinfo\"][\"cntpos\"] = d[\"publish_entity\"]    \n",
    "    m[\"metainfo\"][\"metc\"][\"cntinfo\"][\"cntemail\"] = d[\"contact_email\"]    \n",
    "\n",
    "    return new_metadata \n"
   ]
  },
  {
   "cell_type": "code",
   "execution_count": 7,
   "id": "3cd1b763-0c94-4c40-829d-5f6ff3365780",
   "metadata": {},
   "outputs": [
    {
     "ename": "KeyError",
     "evalue": "0",
     "output_type": "error",
     "traceback": [
      "\u001b[0;31m---------------------------------------------------------------------------\u001b[0m",
      "\u001b[0;31mKeyError\u001b[0m                                  Traceback (most recent call last)",
      "Input \u001b[0;32mIn [7]\u001b[0m, in \u001b[0;36m<cell line: 1>\u001b[0;34m()\u001b[0m\n\u001b[0;32m----> 1\u001b[0m new_metadata \u001b[38;5;241m=\u001b[39m \u001b[43moverwrite_metadata_json\u001b[49m\u001b[43m(\u001b[49m\u001b[43mhqta\u001b[49m\u001b[43m,\u001b[49m\u001b[43m \u001b[49m\u001b[43mSAMPLE_DATASET_INFO\u001b[49m\u001b[43m)\u001b[49m\n",
      "Input \u001b[0;32mIn [6]\u001b[0m, in \u001b[0;36moverwrite_metadata_json\u001b[0;34m(metadata_json, DATASET_INFO)\u001b[0m\n\u001b[1;32m     47\u001b[0m m[\u001b[38;5;124m\"\u001b[39m\u001b[38;5;124midinfo\u001b[39m\u001b[38;5;124m\"\u001b[39m][\u001b[38;5;124m\"\u001b[39m\u001b[38;5;124mkeywords\u001b[39m\u001b[38;5;124m\"\u001b[39m] \u001b[38;5;241m=\u001b[39m d[\u001b[38;5;124m\"\u001b[39m\u001b[38;5;124mtheme_topics\u001b[39m\u001b[38;5;124m\"\u001b[39m]    \n\u001b[1;32m     49\u001b[0m m[\u001b[38;5;124m\"\u001b[39m\u001b[38;5;124mdataqual\u001b[39m\u001b[38;5;124m\"\u001b[39m][\u001b[38;5;124m\"\u001b[39m\u001b[38;5;124mlineage\u001b[39m\u001b[38;5;124m\"\u001b[39m][\u001b[38;5;124m\"\u001b[39m\u001b[38;5;124mprocstep\u001b[39m\u001b[38;5;124m\"\u001b[39m][\u001b[38;5;124m\"\u001b[39m\u001b[38;5;124mprocdesc\u001b[39m\u001b[38;5;124m\"\u001b[39m] \u001b[38;5;241m=\u001b[39m d[\u001b[38;5;124m\"\u001b[39m\u001b[38;5;124mmethodology\u001b[39m\u001b[38;5;124m\"\u001b[39m]    \n\u001b[0;32m---> 51\u001b[0m \u001b[43mm\u001b[49m\u001b[43m[\u001b[49m\u001b[38;5;124;43m\"\u001b[39;49m\u001b[38;5;124;43meainfo\u001b[39;49m\u001b[38;5;124;43m\"\u001b[39;49m\u001b[43m]\u001b[49m\u001b[43m[\u001b[49m\u001b[38;5;124;43m\"\u001b[39;49m\u001b[38;5;124;43mdetailed\u001b[39;49m\u001b[38;5;124;43m\"\u001b[39;49m\u001b[43m]\u001b[49m\u001b[43m[\u001b[49m\u001b[38;5;241;43m0\u001b[39;49m\u001b[43m]\u001b[49m[\u001b[38;5;124m\"\u001b[39m\u001b[38;5;124menttyp\u001b[39m\u001b[38;5;124m\"\u001b[39m][\u001b[38;5;124m\"\u001b[39m\u001b[38;5;124menttypl\u001b[39m\u001b[38;5;124m\"\u001b[39m] \u001b[38;5;241m=\u001b[39m d[\u001b[38;5;124m\"\u001b[39m\u001b[38;5;124mdataset_name\u001b[39m\u001b[38;5;124m\"\u001b[39m]    \n\u001b[1;32m     52\u001b[0m m[\u001b[38;5;124m\"\u001b[39m\u001b[38;5;124meainfo\u001b[39m\u001b[38;5;124m\"\u001b[39m][\u001b[38;5;124m\"\u001b[39m\u001b[38;5;124mdetailed\u001b[39m\u001b[38;5;124m\"\u001b[39m][\u001b[38;5;241m1\u001b[39m][\u001b[38;5;124m\"\u001b[39m\u001b[38;5;124menttyp\u001b[39m\u001b[38;5;124m\"\u001b[39m][\u001b[38;5;124m\"\u001b[39m\u001b[38;5;124menttypd\u001b[39m\u001b[38;5;124m\"\u001b[39m] \u001b[38;5;241m=\u001b[39m d[\u001b[38;5;124m\"\u001b[39m\u001b[38;5;124mdata_dict_type\u001b[39m\u001b[38;5;124m\"\u001b[39m]    \n\u001b[1;32m     53\u001b[0m m[\u001b[38;5;124m\"\u001b[39m\u001b[38;5;124meainfo\u001b[39m\u001b[38;5;124m\"\u001b[39m][\u001b[38;5;124m\"\u001b[39m\u001b[38;5;124mdetailed\u001b[39m\u001b[38;5;124m\"\u001b[39m][\u001b[38;5;241m1\u001b[39m][\u001b[38;5;124m\"\u001b[39m\u001b[38;5;124menttyp\u001b[39m\u001b[38;5;124m\"\u001b[39m][\u001b[38;5;124m\"\u001b[39m\u001b[38;5;124menttypds\u001b[39m\u001b[38;5;124m\"\u001b[39m] \u001b[38;5;241m=\u001b[39m d[\u001b[38;5;124m\"\u001b[39m\u001b[38;5;124mdata_dict_url\u001b[39m\u001b[38;5;124m\"\u001b[39m]    \n",
      "\u001b[0;31mKeyError\u001b[0m: 0"
     ]
    }
   ],
   "source": [
    "new_metadata = overwrite_metadata_json(hqta, SAMPLE_DATASET_INFO)\n"
   ]
  },
  {
   "cell_type": "code",
   "execution_count": 4,
   "id": "8aff8991-414a-46f7-a779-2179f0c4ac76",
   "metadata": {},
   "outputs": [
    {
     "data": {
      "text/plain": [
       "{'metadata': {'idinfo': {'citation': {'citeinfo': {'title': 'ca_transit_routes',\n",
       "     'geoform': 'vector digital data'}},\n",
       "   'spdom': {'bounding': {'westbc': '-124.226362',\n",
       "     'eastbc': '-69.965466',\n",
       "     'northbc': '48.716492',\n",
       "     'southbc': '25.849554'}},\n",
       "   'accconst': 'None',\n",
       "   'useconst': 'None',\n",
       "   'native': 'Version 6.2 (Build 9200) ; Esri ArcGIS 10.8.1.14362'},\n",
       "  'spdoinfo': {'direct': 'Vector',\n",
       "   'ptvctinf': {'sdtsterm': {'sdtstype': 'String', 'ptvctcnt': '7895'}}},\n",
       "  'spref': {'horizsys': {'geograph': {'latres': '8.983152841195215e-09',\n",
       "     'longres': '8.983152841195215e-09',\n",
       "     'geogunit': 'Decimal Degrees'},\n",
       "    'geodetic': {'horizdn': 'D WGS 1984',\n",
       "     'ellips': 'WGS 1984',\n",
       "     'semiaxis': '6378137.0',\n",
       "     'denflat': '298.257223563'}}},\n",
       "  'eainfo': {'detailed': {'enttyp': {'enttypl': 'ca_transit_routes'},\n",
       "    'attr': [{'attrlabl': 'OBJECTID',\n",
       "      'attrdef': 'Internal feature number.',\n",
       "      'attrdefs': 'Esri',\n",
       "      'attrdomv': {'udom': 'Sequential unique whole numbers that are automatically generated.'}},\n",
       "     {'attrlabl': 'Shape',\n",
       "      'attrdef': 'Feature geometry.',\n",
       "      'attrdefs': 'Esri',\n",
       "      'attrdomv': {'udom': 'Coordinates defining the features.'}},\n",
       "     {'attrlabl': 'itp_id'},\n",
       "     {'attrlabl': 'route_id'},\n",
       "     {'attrlabl': 'shape_id'},\n",
       "     {'attrlabl': 'route_name'},\n",
       "     {'attrlabl': 'route_full'},\n",
       "     {'attrlabl': 'agency_id'},\n",
       "     {'attrlabl': 'agency'},\n",
       "     {'attrlabl': 'Shape_Length',\n",
       "      'attrdef': 'Length of feature in internal units.',\n",
       "      'attrdefs': 'Esri',\n",
       "      'attrdomv': {'udom': 'Positive real numbers that are automatically generated.'}}]}},\n",
       "  'metainfo': {'metd': '20220611',\n",
       "   'metstdn': 'FGDC Content Standard for Digital Geospatial Metadata',\n",
       "   'metstdv': 'FGDC-STD-001-1998',\n",
       "   'mettc': 'local time'}}}"
      ]
     },
     "execution_count": 4,
     "metadata": {},
     "output_type": "execute_result"
    }
   ],
   "source": []
  }
 ],
 "metadata": {
  "kernelspec": {
   "display_name": "Python 3 (ipykernel)",
   "language": "python",
   "name": "python3"
  },
  "language_info": {
   "codemirror_mode": {
    "name": "ipython",
    "version": 3
   },
   "file_extension": ".py",
   "mimetype": "text/x-python",
   "name": "python",
   "nbconvert_exporter": "python",
   "pygments_lexer": "ipython3",
   "version": "3.10.4"
  }
 },
 "nbformat": 4,
 "nbformat_minor": 5
}
