{
 "cells": [
  {
   "cell_type": "markdown",
   "id": "aa3c1db9-8958-4e68-a5e0-6bc55a369723",
   "metadata": {},
   "source": [
    "# Construct metadata from existing\n",
    "\n",
    "* Metadata won't have the structure unless it's been filled out first. Starting from scratch means there are certain key-value pairs missing.\n",
    "* Use \n",
    "* Start with a copy of an existing metadata to be template?\n",
    "* Separate staging XML and overwritten XML, esp now that default template comes with edition = 0...we need to grab that value and increase it by 1"
   ]
  },
  {
   "cell_type": "code",
   "execution_count": 1,
   "id": "852784e9-fbdb-42d9-bd11-e20f84fa04ac",
   "metadata": {},
   "outputs": [],
   "source": [
    "#import xml.etree.ElementTree as ET\n",
    "#import json\n",
    "import xmltodict\n",
    "\n",
    "import metadata_update"
   ]
  },
  {
   "cell_type": "code",
   "execution_count": 2,
   "id": "aca60522-f88e-446c-922b-5941a1852a43",
   "metadata": {},
   "outputs": [
    {
     "name": "stdout",
     "output_type": "stream",
     "text": [
      "Loading XML as JSON from ./metadata_xml/ca_hq_transit_areas.xml\n",
      "Loading XML as JSON from ./metadata_xml/ca_transit_routes.xml\n"
     ]
    }
   ],
   "source": [
    "XML_FILE = './metadata_xml/ca_hq_transit_areas.xml'\n",
    "NEW_XML_FILE = './metadata_xml/ca_transit_routes.xml'\n",
    "\n",
    "hqta = metadata_update.xml_to_json(XML_FILE)\n",
    "routes = metadata_update.xml_to_json(NEW_XML_FILE)"
   ]
  },
  {
   "cell_type": "markdown",
   "id": "64848649-5d70-4101-9bb6-41deed054d00",
   "metadata": {},
   "source": [
    "## Lift necessary stuff from 1st time through shp to file gdb"
   ]
  },
  {
   "cell_type": "code",
   "execution_count": 3,
   "id": "c8f75dc2-a19f-47c7-be5b-59949f1b9ece",
   "metadata": {},
   "outputs": [],
   "source": [
    "def lift_necessary_dataset_elements(metadata_json):\n",
    "    m = metadata_json[\"metadata\"]\n",
    "    \n",
    "    # Store this info in a dictionary\n",
    "    d = {}\n",
    "    \n",
    "    # Bounding box\n",
    "    d[\"idinfo\"] = {}\n",
    "    d[\"idinfo\"][\"spdom\"] = m[\"idinfo\"][\"spdom\"] \n",
    "    \n",
    "    # Some description about geospatial layer\n",
    "    d[\"spdoinfo\"] = m[\"spdoinfo\"] \n",
    "    \n",
    "    # Spatial reference info\n",
    "    d[\"spref\"] = m[\"spref\"] \n",
    "    \n",
    "    # Field and entity attributes\n",
    "    d[\"eainfo\"] = m[\"eainfo\"]\n",
    "    \n",
    "    return d"
   ]
  },
  {
   "cell_type": "code",
   "execution_count": null,
   "id": "e56f7dc5-510b-462c-b976-6c310ede673f",
   "metadata": {},
   "outputs": [],
   "source": [
    "#route_info = lift_necessary_dataset_elements(routes)"
   ]
  },
  {
   "cell_type": "code",
   "execution_count": 38,
   "id": "89043a65-4dc7-4df3-ad1d-8ed9ecc57bda",
   "metadata": {},
   "outputs": [],
   "source": [
    "def overwrite_default_with_dataset_elements(metadata_json):\n",
    "    DEFAULT_XML = \"./metadata_xml/default.xml\"\n",
    "    default_template = metadata_update.xml_to_json(DEFAULT_XML)\n",
    "    default = default_template[\"metadata\"]\n",
    "    \n",
    "    # Grab the necessary elements from my dataset\n",
    "    necessary_elements = lift_necessary_dataset_elements(metadata_json)\n",
    "    \n",
    "    # Overwrite it in the default template\n",
    "    for key, value in default.items():\n",
    "        if key in necessary_elements.keys() and key != \"idinfo\":\n",
    "            default[key] = necessary_elements[key]\n",
    "        \n",
    "        elif key == \"idinfo\":\n",
    "            for k, v in value.items():\n",
    "                if k == \"spdom\":\n",
    "                    default[key][k] = necessary_elements[key][k]\n",
    "           \n",
    "            \n",
    "    # Return the default template, but now with our dataset's info populated\n",
    "    return default_template"
   ]
  },
  {
   "cell_type": "code",
   "execution_count": 39,
   "id": "b6bdb5ad-441d-4340-933c-9b4a1a6da18c",
   "metadata": {},
   "outputs": [
    {
     "name": "stdout",
     "output_type": "stream",
     "text": [
      "Loading XML as JSON from ./metadata_xml/default.xml\n"
     ]
    }
   ],
   "source": [
    "routes_templated = overwrite_default_with_dataset_elements(routes)"
   ]
  },
  {
   "cell_type": "code",
   "execution_count": 41,
   "id": "1f583df0-8426-48e3-9248-e0bfe0a0c70e",
   "metadata": {},
   "outputs": [],
   "source": [
    "def check_edition_add_one(metadata):\n",
    "    input_edition = (metadata[\"metadata\"][\"idinfo\"][\"citation\"]\n",
    "                     [\"citeinfo\"][\"edition\"])\n",
    "    if input_edition == -999:\n",
    "        new_edition = 0\n",
    "    else:\n",
    "        new_edition = str(int(input_edition) + 1)\n",
    "    \n",
    "    return new_edition"
   ]
  },
  {
   "cell_type": "code",
   "execution_count": 23,
   "id": "a60cd9ca-cb2c-41c4-9466-d0f605a11e55",
   "metadata": {},
   "outputs": [],
   "source": [
    "# Check if edition is available\n",
    "# If yes, add 1 to it\n",
    "# If not, set it to 1\n",
    "\n",
    "# https://blog.finxter.com/how-to-update-a-key-in-a-dictionary-in-python-if-the-key-doesnt-exist/\n",
    "#device.setdefault('year',2019)\n"
   ]
  },
  {
   "cell_type": "code",
   "execution_count": 44,
   "id": "c3012e94-85c5-48e8-a6c1-c74d852b9a86",
   "metadata": {},
   "outputs": [],
   "source": [
    "NEW_EDITION = check_edition_add_one(routes_templated)\n",
    "\n",
    "SAMPLE_DATASET_INFO = {\n",
    "    \"dataset_name\": \"my_dataset\", \n",
    "    \"publish_entity\": \"California Integrated Travel Project\", \n",
    "    \"edition\": NEW_EDITION,\n",
    "\n",
    "    \"abstract\": \"Public. EPSG: 3310\",\n",
    "    \"purpose\": \"Summary sentence about dataset.\", \n",
    "\n",
    "    \"beginning_date\": \"YYYYMMDD\",\n",
    "    \"end_date\": \"YYYYMMDD\",\n",
    "    \"place\": \"California\",\n",
    "\n",
    "    \"status\": \"Complete\", \n",
    "    \"frequency\": \"Monthly\",\n",
    "    \n",
    "    \"theme_topics\": [\"One\", \"Two\", \"Three\", \"Four\", \"Five\"], \n",
    "\n",
    "    \"methodology\": \"Detailed methodology description\", \n",
    "    \n",
    "    \"data_dict_type\": \"CSV\",\n",
    "    \"data_dict_url\": \"some_url\", \n",
    "\n",
    "    \"contact_organization\": \"Caltrans\", \n",
    "    \"contact_person\": \"Analyst Name\", \n",
    "    \"contact_email\": \"hello@calitp.org\" \n",
    "}"
   ]
  },
  {
   "cell_type": "code",
   "execution_count": 56,
   "id": "360cf9da-d631-4495-a0da-53ba49d699ed",
   "metadata": {},
   "outputs": [],
   "source": [
    "# Overwrite the metadata after dictionary of dataset info is supplied\n",
    "def overwrite_metadata_json2(metadata_json, DATASET_INFO):\n",
    "    d = DATASET_INFO\n",
    "    new_metadata = metadata_json.copy()\n",
    "    m = new_metadata[\"metadata\"]\n",
    "    \n",
    "    m[\"idinfo\"][\"citation\"][\"citeinfo\"][\"title\"] = d[\"dataset_name\"]\n",
    "    m[\"idinfo\"][\"citation\"][\"citeinfo\"][\"pubinfo\"][\"publish\"] = d[\"publish_entity\"]\n",
    "    ## Need edition and resource contact added to be approved \n",
    "    # Add edition \n",
    "    # Use number instead of date (shows up when exported in FGDC)\n",
    "    m[\"idinfo\"][\"citation\"][\"citeinfo\"][\"edition\"] = d[\"edition\"]\n",
    "    \n",
    "    m[\"idinfo\"][\"descript\"][\"abstract\"] = d[\"abstract\"]\n",
    "    m[\"idinfo\"][\"descript\"][\"purpose\"] = d[\"purpose\"]\n",
    "    \n",
    "    m[\"idinfo\"][\"timeperd\"][\"timeinfo\"][\"rngdates\"][\"begdate\"] = d[\"beginning_date\"]\n",
    "    m[\"idinfo\"][\"timeperd\"][\"timeinfo\"][\"rngdates\"][\"enddate\"] = d[\"end_date\"]\n",
    "    m[\"idinfo\"][\"timeperd\"][\"current\"] = d[\"place\"]\n",
    "    \n",
    "    m[\"idinfo\"][\"status\"][\"progress\"] = d[\"status\"]\n",
    "    m[\"idinfo\"][\"status\"][\"update\"] = d[\"frequency\"]\n",
    "\n",
    "    m[\"idinfo\"][\"keywords\"] = d[\"theme_topics\"]    \n",
    "\n",
    "    # Add resource contact\n",
    "    m[\"idinfo\"][\"ptcontac\"][\"cntinfo\"][\"cntorgp\"][\"cntorg\"] = d[\"contact_organization\"]\n",
    "    m[\"idinfo\"][\"ptcontac\"][\"cntinfo\"][\"cntorgp\"][\"cntper\"] = d[\"contact_person\"]\n",
    "    m[\"idinfo\"][\"ptcontac\"][\"cntinfo\"][\"cntpos\"] = d[\"publish_entity\"]\n",
    "    m[\"idinfo\"][\"ptcontac\"][\"cntinfo\"][\"cntemail\"] = d[\"contact_email\"]    \n",
    "    \n",
    "    m[\"dataqual\"][\"lineage\"][\"procstep\"][\"procdesc\"] = d[\"methodology\"]    \n",
    "    \n",
    "    m[\"eainfo\"][\"detailed\"][\"enttyp\"][\"enttypl\"] = d[\"dataset_name\"]    \n",
    "    m[\"eainfo\"][\"detailed\"][\"enttyp\"][\"enttypd\"] = d[\"data_dict_type\"]    \n",
    "    m[\"eainfo\"][\"detailed\"][\"enttyp\"][\"enttypds\"] = d[\"data_dict_url\"]    \n",
    "  \n",
    "    m[\"metainfo\"][\"metc\"][\"cntinfo\"][\"cntorgp\"][\"cntorg\"] = d[\"contact_organization\"]    \n",
    "    m[\"metainfo\"][\"metc\"][\"cntinfo\"][\"cntorgp\"][\"cntper\"] = d[\"contact_person\"]    \n",
    "    m[\"metainfo\"][\"metc\"][\"cntinfo\"][\"cntpos\"] = d[\"publish_entity\"]    \n",
    "    m[\"metainfo\"][\"metc\"][\"cntinfo\"][\"cntemail\"] = d[\"contact_email\"]    \n",
    "\n",
    "    return new_metadata \n"
   ]
  },
  {
   "cell_type": "code",
   "execution_count": 57,
   "id": "a10b8b00-9f96-40f1-8328-3104a95d4c70",
   "metadata": {},
   "outputs": [
    {
     "data": {
      "text/plain": [
       "{'enttypl': 'ca_transit_routes'}"
      ]
     },
     "execution_count": 57,
     "metadata": {},
     "output_type": "execute_result"
    }
   ],
   "source": [
    "routes_templated[\"metadata\"][\"eainfo\"][\"detailed\"][\"enttyp\"]"
   ]
  },
  {
   "cell_type": "code",
   "execution_count": 58,
   "id": "3cd1b763-0c94-4c40-829d-5f6ff3365780",
   "metadata": {},
   "outputs": [],
   "source": [
    "new_metadata = overwrite_metadata_json2(routes_templated, SAMPLE_DATASET_INFO)\n"
   ]
  },
  {
   "cell_type": "code",
   "execution_count": null,
   "id": "411c77d6-f621-48b4-86f2-f966f7ee12c9",
   "metadata": {},
   "outputs": [],
   "source": []
  }
 ],
 "metadata": {
  "kernelspec": {
   "display_name": "Python 3 (ipykernel)",
   "language": "python",
   "name": "python3"
  },
  "language_info": {
   "codemirror_mode": {
    "name": "ipython",
    "version": 3
   },
   "file_extension": ".py",
   "mimetype": "text/x-python",
   "name": "python",
   "nbconvert_exporter": "python",
   "pygments_lexer": "ipython3",
   "version": "3.10.4"
  }
 },
 "nbformat": 4,
 "nbformat_minor": 5
}
