{
 "cells": [
  {
   "cell_type": "markdown",
   "id": "aa3c1db9-8958-4e68-a5e0-6bc55a369723",
   "metadata": {},
   "source": [
    "# Construct metadata from existing\n",
    "\n",
    "* Metadata won't have the structure unless it's been filled out first. Starting from scratch means there are certain key-value pairs missing.\n",
    "* Use \n",
    "* Start with a copy of an existing metadata to be template?\n",
    "* Separate staging XML and overwritten XML, esp now that default template comes with edition = 0...we need to grab that value and increase it by 1"
   ]
  },
  {
   "cell_type": "code",
   "execution_count": 1,
   "id": "852784e9-fbdb-42d9-bd11-e20f84fa04ac",
   "metadata": {},
   "outputs": [],
   "source": [
    "import xmltodict\n",
    "\n",
    "import metadata_update"
   ]
  },
  {
   "cell_type": "code",
   "execution_count": null,
   "id": "dd0ae521-388a-4a8e-963b-57f882e3d360",
   "metadata": {},
   "outputs": [],
   "source": [
    "import hqta\n",
    "\n",
    "XML_FILE = './metadata_xml/ca_hq_transit_areas.xml'\n",
    "DATASET_INFO = hqta.HQTA_TRANSIT_AREAS_DICT\n",
    "\n",
    "metadata_update.update_metadata_xml(XML_FILE, \n",
    "                                    DATASET_INFO = DATASET_INFO,\n",
    "                                    first_run = False\n",
    "                                   )"
   ]
  },
  {
   "cell_type": "code",
   "execution_count": 2,
   "id": "af73ee95-b2e4-4f27-b48e-3ba7e4e9eae8",
   "metadata": {},
   "outputs": [
    {
     "name": "stdout",
     "output_type": "stream",
     "text": [
      "Loading XML as JSON from ./metadata_xml/ca_transit_routes.xml\n",
      "Read in XML as JSON\n",
      "Loading XML as JSON from ./metadata_xml/default.xml\n",
      "Default template applied.\n",
      "Overwrite JSON using dict\n",
      "Convert JSON back to XML\n",
      "Save over existing XML\n"
     ]
    }
   ],
   "source": [
    "import traffic_ops\n",
    "\n",
    "XML_FILE = './metadata_xml/ca_transit_routes.xml'\n",
    "DATASET_INFO = traffic_ops.ROUTES_DICT\n",
    "\n",
    "metadata_update.update_metadata_xml(XML_FILE, \n",
    "                                    DATASET_INFO = DATASET_INFO,\n",
    "                                    first_run = True\n",
    "                                   )"
   ]
  },
  {
   "cell_type": "code",
   "execution_count": null,
   "id": "4574180b-2458-4272-b44d-1fe217cd20db",
   "metadata": {},
   "outputs": [],
   "source": []
  }
 ],
 "metadata": {
  "kernelspec": {
   "display_name": "Python 3 (ipykernel)",
   "language": "python",
   "name": "python3"
  },
  "language_info": {
   "codemirror_mode": {
    "name": "ipython",
    "version": 3
   },
   "file_extension": ".py",
   "mimetype": "text/x-python",
   "name": "python",
   "nbconvert_exporter": "python",
   "pygments_lexer": "ipython3",
   "version": "3.10.4"
  }
 },
 "nbformat": 4,
 "nbformat_minor": 5
}
