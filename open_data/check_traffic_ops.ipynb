{
 "cells": [
  {
   "cell_type": "markdown",
   "id": "b6352670-a4e9-4127-9453-12d79b515c3a",
   "metadata": {},
   "source": [
    "# Check exported data"
   ]
  },
  {
   "cell_type": "code",
   "execution_count": null,
   "id": "f67e1ebd-1c73-4c54-a609-1ebe374c768d",
   "metadata": {},
   "outputs": [],
   "source": [
    "import geopandas as gpd\n",
    "import pandas as pd\n",
    "\n",
    "from update_vars import TRAFFIC_OPS_GCS"
   ]
  },
  {
   "cell_type": "markdown",
   "id": "e8934ce4-0f58-4d15-be39-251ed9b9c2ea",
   "metadata": {},
   "source": [
    "## Routes"
   ]
  },
  {
   "cell_type": "code",
   "execution_count": null,
   "id": "797caf7d-2166-4893-8684-deb31bf9bcd5",
   "metadata": {},
   "outputs": [],
   "source": [
    "gdf = gpd.read_parquet(\n",
    "    f\"{TRAFFIC_OPS_GCS}ca_transit_routes.parquet\") "
   ]
  },
  {
   "cell_type": "code",
   "execution_count": null,
   "id": "05c98520-3dec-4af3-ba56-85c734206614",
   "metadata": {},
   "outputs": [],
   "source": [
    "print(f\"CRS: {gdf.crs.to_epsg()}\")\n",
    "print(f\"{gdf.columns}\")\n",
    "print(f\"# rows: {len(gdf)}\")"
   ]
  },
  {
   "cell_type": "code",
   "execution_count": null,
   "id": "e0dce1b5-4335-4872-ab4d-914f6944abd2",
   "metadata": {},
   "outputs": [],
   "source": [
    "cols = ['agency', 'route_id', 'shape_id']\n",
    "print(f\"# unique combos: {len(gdf[cols].drop_duplicates())}\")"
   ]
  },
  {
   "cell_type": "code",
   "execution_count": null,
   "id": "baacafb8-6839-478c-bb7d-bff60a8cffb8",
   "metadata": {},
   "outputs": [],
   "source": [
    "def make_map(gdf: gpd.GeoDataFrame, plot_col: str):\n",
    "    m = gdf.explore(plot_col, categorical=True, \n",
    "                    tiles=\"CartoDB Positron\")\n",
    "    display(m)"
   ]
  },
  {
   "cell_type": "code",
   "execution_count": null,
   "id": "bb2c06cc-ce12-45dd-9259-804a9ac4b94b",
   "metadata": {},
   "outputs": [],
   "source": [
    "make_map(gdf, \"route_id\")"
   ]
  },
  {
   "cell_type": "markdown",
   "id": "913ec390-9ed0-4458-b723-57898564706b",
   "metadata": {},
   "source": [
    "## Stops"
   ]
  },
  {
   "cell_type": "code",
   "execution_count": null,
   "id": "af43db39-33ac-4e90-9ae4-91f55cd937f3",
   "metadata": {},
   "outputs": [],
   "source": [
    "gdf = gpd.read_parquet(\n",
    "    f\"{TRAFFIC_OPS_GCS}ca_transit_stops.parquet\")    "
   ]
  },
  {
   "cell_type": "code",
   "execution_count": null,
   "id": "916d375d-b5d7-451c-aa58-187928da8830",
   "metadata": {},
   "outputs": [],
   "source": [
    "print(f\"CRS: {gdf.crs.to_epsg()}\")\n",
    "print(f\"{gdf.columns}\")\n",
    "print(f\"# rows: {len(gdf)}\")"
   ]
  },
  {
   "cell_type": "code",
   "execution_count": null,
   "id": "15da0389-2f24-4e8d-baa7-ff618b074a0c",
   "metadata": {},
   "outputs": [],
   "source": [
    "cols = ['agency', 'route_id', 'stop_id']\n",
    "print(f\"# unique combos: {len(gdf[cols].drop_duplicates())}\")"
   ]
  },
  {
   "cell_type": "code",
   "execution_count": null,
   "id": "69c7829f-cbf8-446f-816e-712245090b36",
   "metadata": {},
   "outputs": [],
   "source": [
    "make_map(gdf, \"route_id\")"
   ]
  },
  {
   "cell_type": "code",
   "execution_count": null,
   "id": "1dc3dbad-a61e-409d-aff6-0b5a6e892452",
   "metadata": {},
   "outputs": [],
   "source": []
  }
 ],
 "metadata": {
  "kernelspec": {
   "display_name": "Python 3 (ipykernel)",
   "language": "python",
   "name": "python3"
  },
  "language_info": {
   "codemirror_mode": {
    "name": "ipython",
    "version": 3
   },
   "file_extension": ".py",
   "mimetype": "text/x-python",
   "name": "python",
   "nbconvert_exporter": "python",
   "pygments_lexer": "ipython3",
   "version": "3.9.13"
  }
 },
 "nbformat": 4,
 "nbformat_minor": 5
}
