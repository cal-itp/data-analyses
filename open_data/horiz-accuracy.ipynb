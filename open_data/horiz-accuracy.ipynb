{
 "cells": [
  {
   "cell_type": "code",
   "execution_count": 1,
   "id": "a2ae50e7-03a3-4276-8609-db66bd4a4328",
   "metadata": {},
   "outputs": [
    {
     "name": "stderr",
     "output_type": "stream",
     "text": [
      "/opt/conda/lib/python3.10/site-packages/geopandas/_compat.py:111: UserWarning: The Shapely GEOS version (3.10.2-CAPI-1.16.0) is incompatible with the GEOS version PyGEOS was compiled with (3.10.1-CAPI-1.16.0). Conversions between both will be slow.\n",
      "  warnings.warn(\n"
     ]
    }
   ],
   "source": [
    "import pandas as pd\n",
    "\n",
    "import geopandas as gpd\n",
    "import glob\n",
    "import intake\n",
    "import os\n",
    "\n",
    "from shared_utils import utils, geography_utils\n",
    "\n",
    "catalog = intake.open_catalog(\"./*.yml\")"
   ]
  },
  {
   "cell_type": "code",
   "execution_count": null,
   "id": "0e115014-faba-48eb-937e-d1861a3d3992",
   "metadata": {},
   "outputs": [],
   "source": [
    "gdf = catalog.ca_hq_transit_stops.read()"
   ]
  },
  {
   "cell_type": "code",
   "execution_count": null,
   "id": "2b3ae5f8-1f5a-471d-ab22-270ee9ab35d3",
   "metadata": {},
   "outputs": [],
   "source": [
    "fraction = \"0.0004 decimal degrees\"\n",
    "#0.00004 decimal degrees (4 meters) for `stops` and anything derived from that\n",
    "# 0.001 decimal degrees (100 meters)"
   ]
  },
  {
   "cell_type": "code",
   "execution_count": null,
   "id": "9b903232-0e8e-4d26-90ab-5edfab3ddf59",
   "metadata": {},
   "outputs": [],
   "source": []
  },
  {
   "cell_type": "code",
   "execution_count": null,
   "id": "d3de4f19-f4f1-49a5-8788-57771365d07b",
   "metadata": {},
   "outputs": [],
   "source": [
    "gdf[[\"geometry\"]].__round__(2)"
   ]
  },
  {
   "cell_type": "code",
   "execution_count": null,
   "id": "e7f5a1b6-1085-4b83-be6c-f5853b34897a",
   "metadata": {},
   "outputs": [],
   "source": [
    "gdf2[\"geometry\"] = gdf[\"geometry\"].__round__(5)\n"
   ]
  },
  {
   "cell_type": "code",
   "execution_count": 2,
   "id": "0a5c4518-78ea-42ad-afba-f8bd49539a89",
   "metadata": {},
   "outputs": [],
   "source": [
    "import metadata_update"
   ]
  },
  {
   "cell_type": "code",
   "execution_count": 3,
   "id": "5277d9ee-1c75-45e4-b6dc-d59aab045c03",
   "metadata": {},
   "outputs": [
    {
     "name": "stdout",
     "output_type": "stream",
     "text": [
      "Loading XML as JSON from ./metadata_xml/test.xml\n"
     ]
    }
   ],
   "source": [
    "XML_FILE = \"./metadata_xml/test.xml\"\n",
    "\n",
    "esri_metadata = metadata_update.xml_to_json(XML_FILE)"
   ]
  },
  {
   "cell_type": "code",
   "execution_count": 9,
   "id": "f4960549-91bb-4e8c-be44-77ee118a3b87",
   "metadata": {},
   "outputs": [],
   "source": [
    "TEST_DICT = {\n",
    "    \"dataset_name\": \"sample_name\", \n",
    "\n",
    "    \"abstract\": \"Public. EPSG: 4326\",\n",
    "    \"purpose\": \"This is purpose\", \n",
    "\n",
    "    \"beginning_date\": \"20220624\",\n",
    "    \"end_date\": \"20220724\",\n",
    "\n",
    "    \"status\": \"Complete\", \n",
    "    \"frequency\": \"Monthly\",\n",
    "    \n",
    "    \"theme_keywords\": [\"one\", \"two\", \"three\", \"four\", \"five\"], \n",
    "\n",
    "    \"methodology\": \"Methodology\", \n",
    "    \n",
    "    \"data_dict_type\": \"CSV\",\n",
    "    \"data_dict_url\": \"some_url\", \n",
    "    \n",
    "    \"contact_person\": \"Analyst Name\",\n",
    "    \"horiz_accuracy\": \"0.001 decimal degrees\"\n",
    "\n",
    "}\n"
   ]
  },
  {
   "cell_type": "code",
   "execution_count": 5,
   "id": "a4ba493e-4bb9-41ea-ac8d-693ff020b369",
   "metadata": {},
   "outputs": [
    {
     "name": "stdout",
     "output_type": "stream",
     "text": [
      "Loading XML as JSON from ./metadata_xml/default.xml\n"
     ]
    }
   ],
   "source": [
    "metadata_templated = metadata_update.overwrite_default_with_dataset_elements(esri_metadata)\n"
   ]
  },
  {
   "cell_type": "code",
   "execution_count": 10,
   "id": "2ccd42aa-2ea2-4843-bbff-4a3344b07728",
   "metadata": {},
   "outputs": [],
   "source": [
    "TEST_DICT2 = metadata_update.fix_values_in_validated_dict(TEST_DICT) \n"
   ]
  },
  {
   "cell_type": "code",
   "execution_count": 11,
   "id": "224d0558-47a4-4592-8f03-fa0eb66fba66",
   "metadata": {},
   "outputs": [],
   "source": [
    "TEST_DICT_VALIDATED = metadata_update.metadata_input(**TEST_DICT2).dict()\n"
   ]
  },
  {
   "cell_type": "code",
   "execution_count": 13,
   "id": "21d9ca2e-8755-4a4d-84f2-b6db86f1a26a",
   "metadata": {},
   "outputs": [],
   "source": [
    "new_metadata = metadata_update.overwrite_metadata_json(metadata_templated, \n",
    "                                                       TEST_DICT_VALIDATED)\n"
   ]
  },
  {
   "cell_type": "code",
   "execution_count": 14,
   "id": "b5cb026a-99c2-475b-99cd-f1e22b62b137",
   "metadata": {},
   "outputs": [
    {
     "data": {
      "text/plain": [
       "{'metadata': {'idinfo': {'citation': {'citeinfo': {'title': 'sample_name',\n",
       "     'edition': '1',\n",
       "     'geoform': 'vector digital data',\n",
       "     'pubinfo': {'publish': 'California Integrated Travel Project'}}},\n",
       "   'descript': {'abstract': 'Public. EPSG: 4326',\n",
       "    'purpose': 'This is purpose'},\n",
       "   'timeperd': {'timeinfo': {'rngdates': {'begdate': '20220624',\n",
       "      'enddate': '20220724'}},\n",
       "    'current': 'California'},\n",
       "   'status': {'progress': 'Complete', 'update': 'Monthly'},\n",
       "   'spdom': {'bounding': {'westbc': '-124.209843',\n",
       "     'eastbc': '-114.590964',\n",
       "     'northbc': '45.333926',\n",
       "     'southbc': '32.534825'}},\n",
       "   'keywords': {'themekt': 'themekey'},\n",
       "   'accconst': 'None',\n",
       "   'useconst': 'None',\n",
       "   'ptcontac': {'cntinfo': {'cntorgp': {'cntorg': 'Caltrans',\n",
       "      'cntper': 'Analyst Name'},\n",
       "     'cntpos': 'California Integrated Travel Project',\n",
       "     'cntemail': 'hello@calitp.org'}},\n",
       "   'native': 'Version 6.2 (Build 9200) ; Esri ArcGIS 10.8.1.14362'},\n",
       "  'dataqual': {'posacc': {'horizpa': {'horizpar': '0.001 decimal degrees'}},\n",
       "   'lineage': {'procstep': {'procdesc': 'Methodology'}}},\n",
       "  'spdoinfo': {'direct': 'Vector',\n",
       "   'ptvctinf': {'sdtsterm': {'sdtstype': 'GT-polygon composed of chains',\n",
       "     'ptvctcnt': '7684'}}},\n",
       "  'spref': {'horizsys': {'geograph': {'latres': '8.983152841195215e-09',\n",
       "     'longres': '8.983152841195215e-09',\n",
       "     'geogunit': 'Decimal Degrees'},\n",
       "    'geodetic': {'horizdn': 'D WGS 1984',\n",
       "     'ellips': 'WGS 1984',\n",
       "     'semiaxis': '6378137.0',\n",
       "     'denflat': '298.257223563'}}},\n",
       "  'eainfo': {'detailed': {'enttyp': {'enttypl': 'sample_name',\n",
       "     'enttypd': 'CSV',\n",
       "     'enttypds': 'some_url'},\n",
       "    'attr': [{'attrlabl': 'OBJECTID',\n",
       "      'attrdef': 'Internal feature number.',\n",
       "      'attrdefs': 'Esri',\n",
       "      'attrdomv': {'udom': 'Sequential unique whole numbers that are automatically generated.'}},\n",
       "     {'attrlabl': 'Shape',\n",
       "      'attrdef': 'Feature geometry.',\n",
       "      'attrdefs': 'Esri',\n",
       "      'attrdomv': {'udom': 'Coordinates defining the features.'}},\n",
       "     {'attrlabl': 'Shape_Length',\n",
       "      'attrdef': 'Length of feature in internal units.',\n",
       "      'attrdefs': 'Esri',\n",
       "      'attrdomv': {'udom': 'Positive real numbers that are automatically generated.'}},\n",
       "     {'attrlabl': 'Shape_Area',\n",
       "      'attrdef': 'Area of feature in internal units squared.',\n",
       "      'attrdefs': 'Esri',\n",
       "      'attrdomv': {'udom': 'Positive real numbers that are automatically generated.'}}]}},\n",
       "  'metainfo': {'metd': '20220611',\n",
       "   'metc': {'cntinfo': {'cntorgp': {'cntorg': 'Caltrans',\n",
       "      'cntper': 'Analyst Name'},\n",
       "     'cntpos': 'California Integrated Travel Project',\n",
       "     'cntemail': 'hello@calitp.org'}},\n",
       "   'metstdn': 'FGDC Content Standard for Digital Geospatial Metadata',\n",
       "   'metstdv': 'FGDC-STD-001-1998',\n",
       "   'mettc': 'local time'}}}"
      ]
     },
     "execution_count": 14,
     "metadata": {},
     "output_type": "execute_result"
    }
   ],
   "source": [
    "new_metadata"
   ]
  },
  {
   "cell_type": "code",
   "execution_count": null,
   "id": "20b4697d-f343-4fbd-8bd6-355f9e8bd44d",
   "metadata": {},
   "outputs": [],
   "source": []
  }
 ],
 "metadata": {
  "kernelspec": {
   "display_name": "Python 3 (ipykernel)",
   "language": "python",
   "name": "python3"
  },
  "language_info": {
   "codemirror_mode": {
    "name": "ipython",
    "version": 3
   },
   "file_extension": ".py",
   "mimetype": "text/x-python",
   "name": "python",
   "nbconvert_exporter": "python",
   "pygments_lexer": "ipython3",
   "version": "3.10.4"
  }
 },
 "nbformat": 4,
 "nbformat_minor": 5
}
