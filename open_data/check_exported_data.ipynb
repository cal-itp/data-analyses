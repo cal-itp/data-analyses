{
 "cells": [
  {
   "cell_type": "markdown",
   "id": "b6352670-a4e9-4127-9453-12d79b515c3a",
   "metadata": {},
   "source": [
    "# Check exported data"
   ]
  },
  {
   "cell_type": "code",
   "execution_count": null,
   "id": "f67e1ebd-1c73-4c54-a609-1ebe374c768d",
   "metadata": {},
   "outputs": [],
   "source": [
    "import geopandas as gpd\n",
    "import intake\n",
    "import pandas as pd\n",
    "\n",
    "catalog = intake.open_catalog(\"./catalog.yml\")"
   ]
  },
  {
   "cell_type": "code",
   "execution_count": null,
   "id": "0840f31a-39c4-4849-9b79-4cc6de0c93b7",
   "metadata": {},
   "outputs": [],
   "source": [
    "def print_stats(gdf):\n",
    "    print(f\"CRS: {gdf.crs.to_epsg()}\")\n",
    "    print(f\"{gdf.columns}\")\n",
    "    print(gdf.dtypes)\n",
    "    print(f\"# rows: {len(gdf)}\")"
   ]
  },
  {
   "cell_type": "markdown",
   "id": "e8934ce4-0f58-4d15-be39-251ed9b9c2ea",
   "metadata": {},
   "source": [
    "## Routes"
   ]
  },
  {
   "cell_type": "code",
   "execution_count": null,
   "id": "797caf7d-2166-4893-8684-deb31bf9bcd5",
   "metadata": {},
   "outputs": [],
   "source": [
    "gdf = catalog.ca_transit_routes.read()"
   ]
  },
  {
   "cell_type": "code",
   "execution_count": null,
   "id": "05c98520-3dec-4af3-ba56-85c734206614",
   "metadata": {},
   "outputs": [],
   "source": [
    "print_stats(gdf)"
   ]
  },
  {
   "cell_type": "code",
   "execution_count": null,
   "id": "e0dce1b5-4335-4872-ab4d-914f6944abd2",
   "metadata": {},
   "outputs": [],
   "source": [
    "cols = ['agency', 'route_id', 'shape_id']\n",
    "print(f\"# unique combos: {len(gdf[cols].drop_duplicates())}\")"
   ]
  },
  {
   "cell_type": "code",
   "execution_count": null,
   "id": "baacafb8-6839-478c-bb7d-bff60a8cffb8",
   "metadata": {},
   "outputs": [],
   "source": [
    "def make_map(gdf: gpd.GeoDataFrame, plot_col: str):\n",
    "    m = gdf.explore(plot_col, categorical=True, \n",
    "                    tiles=\"CartoDB Positron\", legend=False\n",
    "                   )\n",
    "    display(m)"
   ]
  },
  {
   "cell_type": "code",
   "execution_count": null,
   "id": "bb2c06cc-ce12-45dd-9259-804a9ac4b94b",
   "metadata": {},
   "outputs": [],
   "source": [
    "gdf.plot(\"route_id\")\n",
    "#make_map(gdf, \"route_id\")"
   ]
  },
  {
   "cell_type": "markdown",
   "id": "913ec390-9ed0-4458-b723-57898564706b",
   "metadata": {},
   "source": [
    "## Stops"
   ]
  },
  {
   "cell_type": "code",
   "execution_count": null,
   "id": "af43db39-33ac-4e90-9ae4-91f55cd937f3",
   "metadata": {},
   "outputs": [],
   "source": [
    "gdf = catalog.ca_transit_stops.read()   "
   ]
  },
  {
   "cell_type": "code",
   "execution_count": null,
   "id": "916d375d-b5d7-451c-aa58-187928da8830",
   "metadata": {},
   "outputs": [],
   "source": [
    "print_stats(gdf)"
   ]
  },
  {
   "cell_type": "code",
   "execution_count": null,
   "id": "15da0389-2f24-4e8d-baa7-ff618b074a0c",
   "metadata": {},
   "outputs": [],
   "source": [
    "cols = ['agency', 'route_id', 'stop_id']\n",
    "print(f\"# unique combos: {len(gdf[cols].drop_duplicates())}\")"
   ]
  },
  {
   "cell_type": "code",
   "execution_count": null,
   "id": "69c7829f-cbf8-446f-816e-712245090b36",
   "metadata": {},
   "outputs": [],
   "source": [
    "gdf.plot(\"route_id\")\n",
    "#make_map(gdf, \"route_id\")"
   ]
  },
  {
   "cell_type": "markdown",
   "id": "c47e7955-3a84-4e91-b850-589338bff03d",
   "metadata": {},
   "source": [
    "## HQTA Areas"
   ]
  },
  {
   "cell_type": "code",
   "execution_count": null,
   "id": "a7e65aee-eecb-4f7b-8d46-a33f97997281",
   "metadata": {},
   "outputs": [],
   "source": [
    "gdf = catalog.ca_hq_transit_areas.read()"
   ]
  },
  {
   "cell_type": "code",
   "execution_count": null,
   "id": "eba8d3b4-c8b9-4928-b240-ba162799c8fb",
   "metadata": {},
   "outputs": [],
   "source": [
    "print_stats(gdf)"
   ]
  },
  {
   "cell_type": "code",
   "execution_count": null,
   "id": "b9c367fe-c7c1-4ca3-8f64-ecf94f99bd99",
   "metadata": {},
   "outputs": [],
   "source": [
    "gdf[gdf.hqta_type==\"major_stop_brt\"].route_id.value_counts()"
   ]
  },
  {
   "cell_type": "code",
   "execution_count": null,
   "id": "f6ae0d08-c7bd-4f69-9074-1ccced43f10f",
   "metadata": {},
   "outputs": [],
   "source": [
    "gdf.plot(\"org_id_primary\")"
   ]
  },
  {
   "cell_type": "markdown",
   "id": "202cf50f-3857-4b79-8246-3909584058bb",
   "metadata": {},
   "source": [
    "## HQTA Stops"
   ]
  },
  {
   "cell_type": "code",
   "execution_count": null,
   "id": "4b7d62b7-0d90-4b57-8bb5-9096f2598cf1",
   "metadata": {},
   "outputs": [],
   "source": [
    "gdf = catalog.ca_hq_transit_stops.read()"
   ]
  },
  {
   "cell_type": "code",
   "execution_count": null,
   "id": "276962d2-2469-4ea0-9716-bf3edf47615d",
   "metadata": {},
   "outputs": [],
   "source": [
    "print_stats(gdf)"
   ]
  },
  {
   "cell_type": "code",
   "execution_count": null,
   "id": "5f14feeb-5b3b-4662-97aa-fb27da67922a",
   "metadata": {},
   "outputs": [],
   "source": [
    "gdf.plot(\"org_id_primary\")"
   ]
  },
  {
   "cell_type": "markdown",
   "id": "68119a80-5d05-4c40-9791-c8e3cf5dbd0d",
   "metadata": {},
   "source": [
    "## Speeds by Stop Segments"
   ]
  },
  {
   "cell_type": "code",
   "execution_count": null,
   "id": "54aeb990-2ab0-4b96-929f-158e9759c5de",
   "metadata": {},
   "outputs": [],
   "source": [
    "gdf = catalog.speeds_by_stop_segments.read()"
   ]
  },
  {
   "cell_type": "code",
   "execution_count": null,
   "id": "0f2d2458-18a7-456e-968b-f7e1f8a8b57e",
   "metadata": {},
   "outputs": [],
   "source": [
    "print_stats(gdf)"
   ]
  },
  {
   "cell_type": "code",
   "execution_count": null,
   "id": "46f3badd-a344-49c1-a523-761251dd8e32",
   "metadata": {},
   "outputs": [],
   "source": [
    "gdf.p50_mph.hist(bins=range(0, 80, 5))"
   ]
  },
  {
   "cell_type": "code",
   "execution_count": null,
   "id": "221fa13b-14d4-4eb1-b70d-9621b82720ee",
   "metadata": {},
   "outputs": [],
   "source": [
    "for col in [\"p20_mph\", \"p50_mph\", \"p80_mph\"]:\n",
    "    print(gdf[col].describe())"
   ]
  },
  {
   "cell_type": "code",
   "execution_count": null,
   "id": "0a66848d-2367-46ed-a8b4-21e22b3ee076",
   "metadata": {},
   "outputs": [],
   "source": [
    "gdf.plot(\"p50_mph\", legend=True)"
   ]
  },
  {
   "cell_type": "markdown",
   "id": "5da94429-0176-43aa-bad9-d588cdb053c1",
   "metadata": {},
   "source": [
    "## Speeds by Route and Time-of-Day"
   ]
  },
  {
   "cell_type": "code",
   "execution_count": null,
   "id": "3f73f275-814e-4077-8d6c-76ebf6c5cd75",
   "metadata": {},
   "outputs": [],
   "source": [
    "gdf = catalog.speeds_by_route_time_of_day.read()"
   ]
  },
  {
   "cell_type": "code",
   "execution_count": null,
   "id": "36040ac7-0ba5-444d-a5b0-99b14c291fe5",
   "metadata": {},
   "outputs": [],
   "source": [
    "print_stats(gdf)"
   ]
  },
  {
   "cell_type": "code",
   "execution_count": null,
   "id": "0a59ac84-d024-4473-a629-68845f093c82",
   "metadata": {},
   "outputs": [],
   "source": [
    "gdf.plot(\"speed_mph\", legend=True)"
   ]
  },
  {
   "cell_type": "code",
   "execution_count": null,
   "id": "35ae4208-9fb9-4176-a9f4-5d1394a482d5",
   "metadata": {},
   "outputs": [],
   "source": []
  }
 ],
 "metadata": {
  "kernelspec": {
   "display_name": "Python 3 (ipykernel)",
   "language": "python",
   "name": "python3"
  },
  "language_info": {
   "codemirror_mode": {
    "name": "ipython",
    "version": 3
   },
   "file_extension": ".py",
   "mimetype": "text/x-python",
   "name": "python",
   "nbconvert_exporter": "python",
   "pygments_lexer": "ipython3",
   "version": "3.9.13"
  }
 },
 "nbformat": 4,
 "nbformat_minor": 5
}
