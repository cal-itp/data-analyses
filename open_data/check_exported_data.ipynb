{
 "cells": [
  {
   "cell_type": "markdown",
   "id": "b6352670-a4e9-4127-9453-12d79b515c3a",
   "metadata": {},
   "source": [
    "# Check exported data"
   ]
  },
  {
   "cell_type": "code",
   "execution_count": 1,
   "id": "f67e1ebd-1c73-4c54-a609-1ebe374c768d",
   "metadata": {
    "tags": []
   },
   "outputs": [],
   "source": [
    "import geopandas as gpd\n",
    "import intake\n",
    "import pandas as pd\n",
    "\n",
    "catalog = intake.open_catalog(\"./catalog.yml\")"
   ]
  },
  {
   "cell_type": "code",
   "execution_count": 2,
   "id": "0840f31a-39c4-4849-9b79-4cc6de0c93b7",
   "metadata": {
    "tags": []
   },
   "outputs": [],
   "source": [
    "def print_stats(gdf):\n",
    "    print(f\"CRS: {gdf.crs.to_epsg()}\")\n",
    "    print(f\"{gdf.columns}\")\n",
    "    print(gdf.dtypes)\n",
    "    print(f\"# rows: {len(gdf)}\")"
   ]
  },
  {
   "cell_type": "markdown",
   "id": "e8934ce4-0f58-4d15-be39-251ed9b9c2ea",
   "metadata": {},
   "source": [
    "## Routes"
   ]
  },
  {
   "cell_type": "code",
   "execution_count": 9,
   "id": "797caf7d-2166-4893-8684-deb31bf9bcd5",
   "metadata": {
    "tags": []
   },
   "outputs": [],
   "source": [
    "gdf = catalog.ca_transit_routes.read()"
   ]
  },
  {
   "cell_type": "code",
   "execution_count": 10,
   "id": "05c98520-3dec-4af3-ba56-85c734206614",
   "metadata": {
    "tags": []
   },
   "outputs": [
    {
     "name": "stdout",
     "output_type": "stream",
     "text": [
      "CRS: 4326\n",
      "Index(['agency', 'route_id', 'route_type', 'route_name', 'route_length_feet',\n",
      "       'shape_id', 'n_trips', 'base64_url', 'shn_route', 'on_shs',\n",
      "       'shn_districts', 'pct_route_on_hwy_across_districts', 'is_express',\n",
      "       'is_ferry', 'is_rail', 'is_coverage', 'is_local', 'is_downtown_local',\n",
      "       'is_rapid', 'geometry'],\n",
      "      dtype='object')\n",
      "agency                                 object\n",
      "route_id                               object\n",
      "route_type                             object\n",
      "route_name                             object\n",
      "route_length_feet                     float64\n",
      "shape_id                               object\n",
      "n_trips                                 int64\n",
      "base64_url                             object\n",
      "shn_route                              object\n",
      "on_shs                                  int64\n",
      "shn_districts                          object\n",
      "pct_route_on_hwy_across_districts     float64\n",
      "is_express                              int64\n",
      "is_ferry                                int64\n",
      "is_rail                                 int64\n",
      "is_coverage                             int64\n",
      "is_local                                int64\n",
      "is_downtown_local                       int64\n",
      "is_rapid                                int64\n",
      "geometry                             geometry\n",
      "dtype: object\n",
      "# rows: 6927\n"
     ]
    }
   ],
   "source": [
    "print_stats(gdf)"
   ]
  },
  {
   "cell_type": "code",
   "execution_count": 11,
   "id": "2b1ab768-0203-46ba-b5c6-4e9eea37d8bc",
   "metadata": {
    "tags": []
   },
   "outputs": [
    {
     "data": {
      "text/plain": [
       "array(['Marin County Transit District', 'Monterey-Salinas Transit',\n",
       "       'Palos Verdes Peninsula Transit Authority', 'POINT',\n",
       "       'Basin Transit', 'City of Lynwood', 'City of Calabasas',\n",
       "       'City of Petaluma', 'Solano Transportation Authority',\n",
       "       'UCSC and City of Santa Cruz Beach Shuttle',\n",
       "       'Peninsula Corridor Joint Powers Board', 'City of Clovis',\n",
       "       'Capitol Corridor Joint Powers Authority',\n",
       "       'City and County of San Francisco',\n",
       "       'Yuba-Sutter Transit Authority', 'Stanford University',\n",
       "       'Santa Barbara County Association of Governments',\n",
       "       'City of Norwalk', 'City of Manteca',\n",
       "       'San Francisco Bay Area Rapid Transit District',\n",
       "       'Angel Island-Tiburon Ferry Company', 'Yosemite National Park',\n",
       "       'City of Alhambra', 'OmniTrans', 'City of Torrance',\n",
       "       'City of Mountain View', 'Treasure Island Community Development',\n",
       "       'City of Rio Vista', 'Santa Clara Valley Transportation Authority',\n",
       "       'City of West Hollywood', 'City of Mission Viejo',\n",
       "       'University of California, Davis', 'City of Beaumont',\n",
       "       'City of Fairfield',\n",
       "       'San Francisco Bay Ferry and Oakland Alameda Water Shuttle Schedule',\n",
       "       'City of Santa Monica',\n",
       "       'Mission Bay Transportation Management Agency', 'City of Corona',\n",
       "       'City of Solvang', 'Calaveras Transit Agency',\n",
       "       'Tahoe Transportation District', 'Siskiyou County',\n",
       "       'Napa Valley Transportation Authority', 'City of Lodi',\n",
       "       'City of Needles', 'Sacramento County', 'City of Delano',\n",
       "       'University of California, San Diego',\n",
       "       'Humboldt Transit Authority', 'SunLine Transit Agency',\n",
       "       'City of Burbank', 'City of Elk Grove', 'City of Montebello',\n",
       "       'Fresno County Rural Transit Agency',\n",
       "       'Eastern Contra Costa Transit Authority', 'FlixBus and Greyhound',\n",
       "       'Emeryville Transportation Management Agency', 'City of Glendale',\n",
       "       'Mountain Area Regional Transit Authority',\n",
       "       'San Mateo County Transit District',\n",
       "       'Antelope Valley Transit Authority', 'City of Cerritos',\n",
       "       'Sacramento Regional Transit District', 'Placer County',\n",
       "       'Lassen Transit Service Agency', 'City of Huntington Park',\n",
       "       'City of San Fernando',\n",
       "       'Tahoe Truckee Area Regional Transportation, North Lake Tahoe',\n",
       "       'Kings County Area Public Transit Agency', 'City of Roseville',\n",
       "       'San Francisco International Airport',\n",
       "       'Alameda-Contra Costa Transit District', 'Presidio Trust',\n",
       "       'City of West Covina', 'City of Bell', 'City of Glendora',\n",
       "       'City of Santa Rosa', 'Kern County',\n",
       "       'Los Angeles County Metropolitan Transportation Authority',\n",
       "       'Transit Joint Powers Authority for Merced County',\n",
       "       'Amador Regional Transit System', 'City of Culver City',\n",
       "       'Santa Barbara Metropolitan Transit District',\n",
       "       'Tuolumne County Transit Agency', 'City of Gardena',\n",
       "       'Mendocino Transit Authority',\n",
       "       'San Diego Metropolitan Transit System, Airport, Flagship Cruises',\n",
       "       'City of Inglewood', 'City of Santa Maria',\n",
       "       'City of Monterey Park', 'City of Pasadena', 'City of Fresno',\n",
       "       'City of South San Francisco', 'City of Baldwin Park',\n",
       "       'City of Artesia', 'San Luis Obispo Regional Transit Authority',\n",
       "       'Long Beach Transit',\n",
       "       'Ventura County (VCTC, Gold Coast, Cities of Camarillo, Moorpark, Ojai, Simi Valley, Thousand Oaks)',\n",
       "       'City of Santa Clarita', 'City of El Monte',\n",
       "       'Commute.org and Menlo Park Community Shuttles Schedule',\n",
       "       'Imperial County Transportation Commission', 'City of Downey',\n",
       "       'University of California, Los Angeles', 'City of Los Angeles',\n",
       "       'Lake Transit Authority', 'San Joaquin Regional Rail Commission',\n",
       "       'Golden Empire Transit District', 'City of Irvine',\n",
       "       'El Dorado County Transit Authority', 'City of Arcadia',\n",
       "       'Eastern Sierra Transit Authority',\n",
       "       'Yosemite Area Regional Transportation System', 'City of Turlock',\n",
       "       'Yolo County Transportation District', 'City of Visalia',\n",
       "       'Yurok Tribe', 'San Benito County Local Transportation Authority',\n",
       "       'Redwood Coast Transit Authority', 'Madera County',\n",
       "       'Mountain View Transportation Management Association',\n",
       "       'City of Cudahy', 'City of Redondo Beach', 'City of Bell Gardens',\n",
       "       'City of Maywood', 'Sonoma-Marin Area Rail Transit District',\n",
       "       'Riverside Transit Agency', 'San Diego International Airport',\n",
       "       'Sonoma County Transit Schedule',\n",
       "       'San Joaquin Regional Transit District', 'City of Madera',\n",
       "       'Plumas Transit Systems', 'City of South Gate',\n",
       "       'Curry Public Transit', 'City of Laguna Beach', 'City of Commerce',\n",
       "       'Orange County Transportation Authority', 'City of Dana Point',\n",
       "       'Central Contra Costa Transit Authority',\n",
       "       'Anaheim Transportation Network',\n",
       "       'University of California, Merced', 'City of Vacaville',\n",
       "       'City of Lawndale', 'Western Contra Costa Transit Authority',\n",
       "       'Los Angeles County', 'Los Angeles World Airports',\n",
       "       'Yuma County Intergovernmental Public Transportation Authority',\n",
       "       'City of Tracy', 'City of Lompoc', 'Trinity County',\n",
       "       'Butte County Association of Governments', 'Tehama County',\n",
       "       'City of San Juan Capistrano', 'Nevada County',\n",
       "       'City of Union City', 'City of Banning',\n",
       "       'Redding Area Bus Authority', 'Palo Verde Valley Transit Agency',\n",
       "       'Modoc Transportation Agency', 'City of Carson',\n",
       "       'Golden Gate Bridge, Highway and Transportation District',\n",
       "       'Livermore-Amador Valley Transit Authority', 'Amtrak'],\n",
       "      dtype=object)"
      ]
     },
     "execution_count": 11,
     "metadata": {},
     "output_type": "execute_result"
    }
   ],
   "source": [
    "gdf.agency.unique()"
   ]
  },
  {
   "cell_type": "code",
   "execution_count": null,
   "id": "e0dce1b5-4335-4872-ab4d-914f6944abd2",
   "metadata": {},
   "outputs": [],
   "source": [
    "cols = ['agency', 'route_id', 'shape_id']\n",
    "print(f\"# unique combos: {len(gdf[cols].drop_duplicates())}\")"
   ]
  },
  {
   "cell_type": "code",
   "execution_count": null,
   "id": "baacafb8-6839-478c-bb7d-bff60a8cffb8",
   "metadata": {},
   "outputs": [],
   "source": [
    "def make_map(gdf: gpd.GeoDataFrame, plot_col: str):\n",
    "    m = gdf.explore(plot_col, categorical=True, \n",
    "                    tiles=\"CartoDB Positron\", legend=False\n",
    "                   )\n",
    "    display(m)"
   ]
  },
  {
   "cell_type": "code",
   "execution_count": null,
   "id": "bb2c06cc-ce12-45dd-9259-804a9ac4b94b",
   "metadata": {},
   "outputs": [],
   "source": [
    "gdf.plot(\"route_id\")\n",
    "#make_map(gdf, \"route_id\")"
   ]
  },
  {
   "cell_type": "markdown",
   "id": "913ec390-9ed0-4458-b723-57898564706b",
   "metadata": {},
   "source": [
    "## Stops"
   ]
  },
  {
   "cell_type": "code",
   "execution_count": 3,
   "id": "af43db39-33ac-4e90-9ae4-91f55cd937f3",
   "metadata": {
    "tags": []
   },
   "outputs": [],
   "source": [
    "gdf = catalog.ca_transit_stops.read()   "
   ]
  },
  {
   "cell_type": "code",
   "execution_count": 4,
   "id": "916d375d-b5d7-451c-aa58-187928da8830",
   "metadata": {
    "tags": []
   },
   "outputs": [
    {
     "name": "stdout",
     "output_type": "stream",
     "text": [
      "CRS: 4326\n",
      "Index(['org_id', 'agency', 'stop_id', 'stop_name', 'n_routes',\n",
      "       'route_ids_served', 'routetypes', 'n_arrivals', 'n_hours_in_service',\n",
      "       'meters_to_ca_state_highway', 'base64_url', 'district_name',\n",
      "       'geometry'],\n",
      "      dtype='object')\n",
      "org_id                          object\n",
      "agency                          object\n",
      "stop_id                         object\n",
      "stop_name                       object\n",
      "n_routes                         int64\n",
      "route_ids_served                object\n",
      "routetypes                      object\n",
      "n_arrivals                       int64\n",
      "n_hours_in_service               int64\n",
      "meters_to_ca_state_highway     float64\n",
      "base64_url                      object\n",
      "district_name                   object\n",
      "geometry                      geometry\n",
      "dtype: object\n",
      "# rows: 129391\n"
     ]
    }
   ],
   "source": [
    "print_stats(gdf)"
   ]
  },
  {
   "cell_type": "code",
   "execution_count": 8,
   "id": "bce40023-583a-46a2-ba70-682b62e0edc2",
   "metadata": {
    "tags": []
   },
   "outputs": [
    {
     "data": {
      "text/plain": [
       "array(['City of Inglewood', 'City of Lodi', 'City of Arcadia',\n",
       "       'City of Union City', 'City of El Monte',\n",
       "       'Kings County Area Public Transit Agency',\n",
       "       'Santa Cruz Metropolitan Transit District',\n",
       "       'Transit Joint Powers Authority for Merced County',\n",
       "       'Central Contra Costa Transit Authority', 'Nevada County',\n",
       "       'City of Maywood', 'Greyhound', 'FlixBus', 'City of Pasadena',\n",
       "       'City of West Covina', 'University of California, San Diego',\n",
       "       'Commute.org', 'City of Menlo Park',\n",
       "       'Golden Empire Transit District', 'City of San Luis Obispo',\n",
       "       'City of Escalon', 'San Joaquin Regional Transit District',\n",
       "       'City of Calabasas', 'Sacramento County',\n",
       "       'Monterey-Salinas Transit', 'Trinity County',\n",
       "       'Tahoe Transportation District', 'Madera County', 'City of Duarte',\n",
       "       'Foothill Transit', 'City of Glendale',\n",
       "       'San Joaquin Regional Rail Commission',\n",
       "       'City of South San Francisco', 'Riverside Transit Agency',\n",
       "       'Cloverdale Transit', 'Sonoma County',\n",
       "       'Orange County Transportation Authority',\n",
       "       'Modoc Transportation Agency', 'City of Santa Rosa',\n",
       "       'City of Roseville', 'City of Irvine', 'City of Baldwin Park',\n",
       "       'Mountain Area Regional Transit Authority',\n",
       "       'Yuba-Sutter Transit Authority', 'University of California, Davis',\n",
       "       'City of Tracy',\n",
       "       'San Benito County Local Transportation Authority',\n",
       "       'Santa Barbara Metropolitan Transit District',\n",
       "       'University of California, Santa Cruz', 'City of Santa Cruz',\n",
       "       'City of Clovis', 'Yosemite National Park',\n",
       "       'City of Mission Viejo', 'City of Cerritos', 'City of Artesia',\n",
       "       'City of Elk Grove', 'Antelope Valley Transit Authority',\n",
       "       'Peninsula Corridor Joint Powers Board', 'City of West Hollywood',\n",
       "       'Los Angeles World Airports',\n",
       "       'Palos Verdes Peninsula Transit Authority',\n",
       "       'Fresno County Rural Transit Agency',\n",
       "       'Victor Valley Transit Authority', 'Stanford University',\n",
       "       'University of California, Los Angeles', 'City of Corona',\n",
       "       'Ventura County Transportation Commission',\n",
       "       'City of Thousand Oaks', 'City of Camarillo',\n",
       "       'Gold Coast Transit District', 'City of Moorpark', 'City of Ojai',\n",
       "       'City of Simi Valley', 'Yurok Tribe',\n",
       "       'Los Angeles County Metropolitan Transportation Authority',\n",
       "       'City of Torrance', 'City of Monterey Park', 'Presidio Trust',\n",
       "       'City of San Juan Capistrano', 'Mendocino Transit Authority',\n",
       "       'City of Norwalk', 'POINT', 'City of Lawndale',\n",
       "       'Stanislaus Regional Transit Authority', 'City of Carson',\n",
       "       'City of Cudahy', 'City of Fresno',\n",
       "       'University of California, Merced', 'City of Commerce',\n",
       "       'Curry Public Transit', 'Redwood Coast Transit Authority',\n",
       "       'Amador Regional Transit System',\n",
       "       'Western Contra Costa Transit Authority', 'City of Beaumont',\n",
       "       'City of Dana Point', 'City of Arcata', 'City of Eureka',\n",
       "       'Humboldt Transit Authority',\n",
       "       'Mountain View Transportation Management Association',\n",
       "       'San Luis Obispo Regional Transit Authority',\n",
       "       'Treasure Island Community Development', 'City of Santa Clarita',\n",
       "       'Livermore-Amador Valley Transit Authority', 'City of Visalia',\n",
       "       'Yosemite Area Regional Transportation System', 'City of Lompoc',\n",
       "       'Santa Clara Valley Transportation Authority',\n",
       "       'University of California, Berkeley', 'City of Bell Gardens',\n",
       "       'Emeryville Transportation Management Agency', 'Amtrak',\n",
       "       'San Joaquin Joint Powers Authority',\n",
       "       'Anaheim Transportation Network', 'City of Alhambra',\n",
       "       'San Diego International Airport',\n",
       "       'Alameda-Contra Costa Transit District', 'City of Turlock',\n",
       "       'Siskiyou County', 'City of Mountain View', 'City of San Fernando',\n",
       "       'Santa Barbara County Association of Governments',\n",
       "       'City of Petaluma',\n",
       "       'Yuma County Intergovernmental Public Transportation Authority',\n",
       "       'Tehama County', 'City of Santa Monica', 'City of Guadalupe',\n",
       "       'City of Manteca',\n",
       "       'San Bernardino County Transportation Authority',\n",
       "       'Southern California Regional Rail Authority', 'City of Bell',\n",
       "       'Flagship Cruises and Events Inc.',\n",
       "       'San Diego Metropolitan Transit System', 'City of Laguna Beach',\n",
       "       'City and County of San Francisco',\n",
       "       'Butte County Association of Governments',\n",
       "       'Calaveras Transit Agency', 'City of Delano',\n",
       "       'Angel Island-Tiburon Ferry Company', 'Placer County',\n",
       "       'Dumbarton Bridge Regional Operations Consortium', 'Kern County',\n",
       "       'Tuolumne County Transit Agency',\n",
       "       'Yolo County Transportation District',\n",
       "       'Lassen Transit Service Agency', 'Marin County Transit District',\n",
       "       'San Francisco International Airport',\n",
       "       'San Mateo County Transit District', 'Los Angeles County',\n",
       "       'City of Lynwood', 'City of Needles', 'City of Fairfield',\n",
       "       'OmniTrans', 'City of Burbank', 'City of Gardena',\n",
       "       'Capitol Corridor Joint Powers Authority', 'City of Montebello',\n",
       "       'Eastern Contra Costa Transit Authority', 'Long Beach Transit',\n",
       "       'Lake Transit Authority',\n",
       "       'San Francisco Bay Area Rapid Transit District',\n",
       "       'City of Rancho Cordova', 'Sacramento Regional Transit District',\n",
       "       'City of Solvang', 'Tahoe Truckee Area Regional Transportation',\n",
       "       'North Lake Tahoe Express', 'City of Alameda',\n",
       "       'San Francisco Bay Area Water Emergency Transit Authority',\n",
       "       'Palo Verde Valley Transit Agency',\n",
       "       'Golden Gate Bridge, Highway and Transportation District',\n",
       "       'Imperial County Transportation Commission',\n",
       "       'Plumas Transit Systems',\n",
       "       'Mission Bay Transportation Management Agency', 'Basin Transit',\n",
       "       'Tulare County Regional Transit Agency', 'City of Huntington Park',\n",
       "       'City of Banning', 'El Dorado County Transit Authority',\n",
       "       'SunLine Transit Agency', 'City of Auburn', 'City of Rio Vista',\n",
       "       'Glenn County', 'City of Bellflower', 'City of Arvin',\n",
       "       'City of Morro Bay', 'City of Downey', 'City of Santa Maria',\n",
       "       'Solano Transportation Authority', 'Solano County Transit',\n",
       "       'City of Vacaville', 'Chemehuevi Indian Tribe',\n",
       "       'City of Culver City', 'City of Glendora',\n",
       "       'Sonoma-Marin Area Rail Transit District', 'City of Rosemead',\n",
       "       'Redding Area Bus Authority',\n",
       "       'Napa Valley Transportation Authority', 'City of South Gate',\n",
       "       'City of Redondo Beach', 'Eastern Sierra Transit Authority',\n",
       "       'City of Madera', 'North County Transit District',\n",
       "       'City of Los Angeles', 'City of Avalon', 'City of El Segundo',\n",
       "       'University of California, Irvine', 'City of San Clemente',\n",
       "       'City of La Puente', 'City of Sierra Madre', 'City of Ripon'],\n",
       "      dtype=object)"
      ]
     },
     "execution_count": 8,
     "metadata": {},
     "output_type": "execute_result"
    }
   ],
   "source": [
    "gdf.agency.unique()"
   ]
  },
  {
   "cell_type": "code",
   "execution_count": 6,
   "id": "15da0389-2f24-4e8d-baa7-ff618b074a0c",
   "metadata": {
    "tags": []
   },
   "outputs": [
    {
     "name": "stdout",
     "output_type": "stream",
     "text": [
      "# unique combos: 113469\n"
     ]
    }
   ],
   "source": [
    "cols = ['agency', 'route_ids_served', 'stop_id']\n",
    "print(f\"# unique combos: {len(gdf[cols].drop_duplicates())}\")"
   ]
  },
  {
   "cell_type": "code",
   "execution_count": null,
   "id": "69c7829f-cbf8-446f-816e-712245090b36",
   "metadata": {
    "tags": []
   },
   "outputs": [],
   "source": [
    "gdf.plot(\"stop_id\")\n",
    "#make_map(gdf, \"route_id\")"
   ]
  },
  {
   "cell_type": "markdown",
   "id": "c47e7955-3a84-4e91-b850-589338bff03d",
   "metadata": {},
   "source": [
    "## HQTA Areas"
   ]
  },
  {
   "cell_type": "code",
   "execution_count": null,
   "id": "a7e65aee-eecb-4f7b-8d46-a33f97997281",
   "metadata": {},
   "outputs": [],
   "source": [
    "gdf = catalog.ca_hq_transit_areas.read()"
   ]
  },
  {
   "cell_type": "code",
   "execution_count": null,
   "id": "eba8d3b4-c8b9-4928-b240-ba162799c8fb",
   "metadata": {},
   "outputs": [],
   "source": [
    "print_stats(gdf)"
   ]
  },
  {
   "cell_type": "code",
   "execution_count": null,
   "id": "b9c367fe-c7c1-4ca3-8f64-ecf94f99bd99",
   "metadata": {},
   "outputs": [],
   "source": [
    "gdf[gdf.hqta_type==\"major_stop_brt\"].route_id.value_counts()"
   ]
  },
  {
   "cell_type": "code",
   "execution_count": null,
   "id": "f6ae0d08-c7bd-4f69-9074-1ccced43f10f",
   "metadata": {},
   "outputs": [],
   "source": [
    "gdf.plot(\"org_id_primary\")"
   ]
  },
  {
   "cell_type": "markdown",
   "id": "202cf50f-3857-4b79-8246-3909584058bb",
   "metadata": {},
   "source": [
    "## HQTA Stops"
   ]
  },
  {
   "cell_type": "code",
   "execution_count": null,
   "id": "4b7d62b7-0d90-4b57-8bb5-9096f2598cf1",
   "metadata": {},
   "outputs": [],
   "source": [
    "gdf = catalog.ca_hq_transit_stops.read()"
   ]
  },
  {
   "cell_type": "code",
   "execution_count": null,
   "id": "276962d2-2469-4ea0-9716-bf3edf47615d",
   "metadata": {},
   "outputs": [],
   "source": [
    "print_stats(gdf)"
   ]
  },
  {
   "cell_type": "code",
   "execution_count": null,
   "id": "5f14feeb-5b3b-4662-97aa-fb27da67922a",
   "metadata": {},
   "outputs": [],
   "source": [
    "gdf.plot(\"org_id_primary\")"
   ]
  },
  {
   "cell_type": "markdown",
   "id": "68119a80-5d05-4c40-9791-c8e3cf5dbd0d",
   "metadata": {},
   "source": [
    "## Speeds by Stop Segments"
   ]
  },
  {
   "cell_type": "code",
   "execution_count": null,
   "id": "54aeb990-2ab0-4b96-929f-158e9759c5de",
   "metadata": {},
   "outputs": [],
   "source": [
    "gdf = catalog.speeds_by_stop_segments.read()"
   ]
  },
  {
   "cell_type": "code",
   "execution_count": null,
   "id": "0f2d2458-18a7-456e-968b-f7e1f8a8b57e",
   "metadata": {},
   "outputs": [],
   "source": [
    "print_stats(gdf)"
   ]
  },
  {
   "cell_type": "code",
   "execution_count": null,
   "id": "46f3badd-a344-49c1-a523-761251dd8e32",
   "metadata": {},
   "outputs": [],
   "source": [
    "gdf.p50_mph.hist(bins=range(0, 80, 5))"
   ]
  },
  {
   "cell_type": "code",
   "execution_count": null,
   "id": "221fa13b-14d4-4eb1-b70d-9621b82720ee",
   "metadata": {},
   "outputs": [],
   "source": [
    "for col in [\"p20_mph\", \"p50_mph\", \"p80_mph\"]:\n",
    "    print(gdf[col].describe())"
   ]
  },
  {
   "cell_type": "code",
   "execution_count": null,
   "id": "0a66848d-2367-46ed-a8b4-21e22b3ee076",
   "metadata": {},
   "outputs": [],
   "source": [
    "gdf.plot(\"p50_mph\", legend=True)"
   ]
  },
  {
   "cell_type": "markdown",
   "id": "5da94429-0176-43aa-bad9-d588cdb053c1",
   "metadata": {},
   "source": [
    "## Speeds by Route and Time-of-Day"
   ]
  },
  {
   "cell_type": "code",
   "execution_count": null,
   "id": "3f73f275-814e-4077-8d6c-76ebf6c5cd75",
   "metadata": {},
   "outputs": [],
   "source": [
    "gdf = catalog.speeds_by_route_time_of_day.read()"
   ]
  },
  {
   "cell_type": "code",
   "execution_count": null,
   "id": "36040ac7-0ba5-444d-a5b0-99b14c291fe5",
   "metadata": {},
   "outputs": [],
   "source": [
    "print_stats(gdf)"
   ]
  },
  {
   "cell_type": "code",
   "execution_count": null,
   "id": "0a59ac84-d024-4473-a629-68845f093c82",
   "metadata": {},
   "outputs": [],
   "source": [
    "gdf.plot(\"speed_mph\", legend=True)"
   ]
  },
  {
   "cell_type": "code",
   "execution_count": null,
   "id": "35ae4208-9fb9-4176-a9f4-5d1394a482d5",
   "metadata": {},
   "outputs": [],
   "source": []
  }
 ],
 "metadata": {
  "kernelspec": {
   "display_name": "Python 3 (ipykernel)",
   "language": "python",
   "name": "python3"
  },
  "language_info": {
   "codemirror_mode": {
    "name": "ipython",
    "version": 3
   },
   "file_extension": ".py",
   "mimetype": "text/x-python",
   "name": "python",
   "nbconvert_exporter": "python",
   "pygments_lexer": "ipython3",
   "version": "3.11.10"
  },
  "widgets": {
   "application/vnd.jupyter.widget-state+json": {
    "state": {},
    "version_major": 2,
    "version_minor": 0
   }
  }
 },
 "nbformat": 4,
 "nbformat_minor": 5
}
