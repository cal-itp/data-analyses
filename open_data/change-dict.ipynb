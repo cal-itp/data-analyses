{
 "cells": [
  {
   "cell_type": "code",
   "execution_count": 1,
   "id": "6fc460da-ffe3-4837-8bf7-b78615934b7a",
   "metadata": {},
   "outputs": [],
   "source": [
    "import xml.etree.ElementTree as ET\n",
    "import xmltodict\n",
    "\n",
    "import metadata_update"
   ]
  },
  {
   "cell_type": "code",
   "execution_count": 27,
   "id": "6b225f3c-0f57-4e1a-ba6d-8079bb8329fa",
   "metadata": {},
   "outputs": [],
   "source": [
    "def xml_to_json(path: str) -> dict:  \n",
    "    try:\n",
    "        print(f\"Loading XML as JSON from {path}\")\n",
    "        xml = ET.tostring(ET.parse(path).getroot())\n",
    "        \n",
    "        my_dict = xmltodict.parse(xml, \n",
    "                               attr_prefix=\"\", cdata_key=\"text\", \n",
    "                               process_namespaces=True,\n",
    "                               # This isn't stripping it\n",
    "                               #namespaces = {\n",
    "                               #    \"http://www.isotc211.org/2005/gmd:\": \"\"\n",
    "                               #}, \n",
    "                               # Instead, do something similar in the dictionary like this\n",
    "                               # https://github.com/GeosoftInc/gxpy/blob/master/geosoft/gxpy/utility.py\n",
    "                               dict_constructor=dict)\n",
    "        \n",
    "        return my_dict\n",
    "    except:\n",
    "        print(f\"Loading failed for {path}\")\n",
    "    return {}"
   ]
  },
  {
   "cell_type": "code",
   "execution_count": 97,
   "id": "58aa972d-f45e-47f9-9abb-9b37041e8701",
   "metadata": {},
   "outputs": [
    {
     "name": "stdout",
     "output_type": "stream",
     "text": [
      "Loading XML as JSON from ./metadata_xml/ca_hq_transit_stops.xml\n"
     ]
    }
   ],
   "source": [
    "XML_FILE = \"./metadata_xml/ca_hq_transit_stops.xml\"\n",
    "esri_metadata = xml_to_json(XML_FILE)"
   ]
  },
  {
   "cell_type": "code",
   "execution_count": 98,
   "id": "ac3f96f0-3346-4fdc-bc4d-5a8d4008a903",
   "metadata": {},
   "outputs": [],
   "source": [
    "esri_metadata = {k1.replace(p,''): v1 for k1, v1 in esri_metadata.items()}\n"
   ]
  },
  {
   "cell_type": "code",
   "execution_count": 102,
   "id": "40e84026-2ebd-4bc3-9251-3d60251d2283",
   "metadata": {},
   "outputs": [],
   "source": [
    "for k2, v2 in esri_metadata[\"MD_Metadata\"].items():\n",
    "    esri_metadata[\"MD_Metadata\"] = {k2.replace(p, ''): v2 for \n",
    "                                   k2, v2 in esri_metadata[\"MD_Metadata\"].items()}"
   ]
  },
  {
   "cell_type": "code",
   "execution_count": 108,
   "id": "315b746a-f1d3-46a0-ac17-69fdbe41bbdd",
   "metadata": {},
   "outputs": [
    {
     "name": "stdout",
     "output_type": "stream",
     "text": [
      "{'codeList': 'http://www.loc.gov/standards/iso639-2/php/code_list.php', 'codeListValue': 'eng', 'codeSpace': 'ISO639-2', 'xmlns': {'ns0': 'http://www.isotc211.org/2005/gmd', 'ns1': 'http://www.isotc211.org/2005/gco', 'ns2': 'http://www.opengis.net/gml'}, 'text': 'eng'}\n",
      "{'codeList': 'http://www.isotc211.org/2005/resources/Codelist/gmxCodelists.xml#MD_CharacterSetCode', 'codeListValue': 'utf8', 'codeSpace': 'ISOTC211/19115', 'text': 'utf8'}\n",
      "{'codeList': 'http://www.isotc211.org/2005/resources/Codelist/gmxCodelists.xml#MD_ScopeCode', 'codeListValue': 'dataset', 'codeSpace': 'ISOTC211/19115', 'text': 'dataset'}\n",
      "dataset\n",
      "{'http://www.isotc211.org/2005/gmd:individualName': {'http://www.isotc211.org/2005/gco:CharacterString': 'Eric Dasmalchi'}, 'http://www.isotc211.org/2005/gmd:organisationName': {'http://www.isotc211.org/2005/gco:CharacterString': 'Caltrans'}, 'http://www.isotc211.org/2005/gmd:positionName': {'http://www.isotc211.org/2005/gco:CharacterString': 'California Integrated Travel Project'}, 'http://www.isotc211.org/2005/gmd:contactInfo': {'http://www.isotc211.org/2005/gmd:CI_Contact': {'http://www.isotc211.org/2005/gmd:address': {'http://www.isotc211.org/2005/gmd:CI_Address': {'http://www.isotc211.org/2005/gmd:electronicMailAddress': {'http://www.isotc211.org/2005/gco:CharacterString': 'eric.dasmalchi@dot.ca.gov'}}}}}, 'http://www.isotc211.org/2005/gmd:role': {'http://www.isotc211.org/2005/gmd:CI_RoleCode': {'codeList': 'http://www.isotc211.org/2005/resources/Codelist/gmxCodelists.xml#CI_RoleCode', 'codeListValue': 'pointOfContact', 'codeSpace': 'ISOTC211/19115', 'text': 'pointOfContact'}}}\n",
      "2022-06-10\n",
      "ISO 19139 Geographic Information - Metadata - Implementation Specification\n",
      "2007\n",
      "{'http://www.isotc211.org/2005/gmd:topologyLevel': {'http://www.isotc211.org/2005/gmd:MD_TopologyLevelCode': {'codeList': 'http://www.isotc211.org/2005/resources/Codelist/gmxCodelists.xml#MD_TopologyLevelCode', 'codeListValue': 'geometryOnly', 'codeSpace': 'ISOTC211/19115', 'text': 'geometryOnly'}}, 'http://www.isotc211.org/2005/gmd:geometricObjects': {'http://www.isotc211.org/2005/gmd:MD_GeometricObjects': {'http://www.isotc211.org/2005/gmd:geometricObjectType': {'http://www.isotc211.org/2005/gmd:MD_GeometricObjectTypeCode': {'codeList': 'http://www.isotc211.org/2005/resources/Codelist/gmxCodelists.xml#MD_GeometricObjectTypeCode', 'codeListValue': 'point', 'codeSpace': 'ISOTC211/19115', 'text': 'point'}}, 'http://www.isotc211.org/2005/gmd:geometricObjectCount': {'http://www.isotc211.org/2005/gco:Integer': '40283'}}}}\n",
      "{'http://www.isotc211.org/2005/gmd:referenceSystemIdentifier': {'http://www.isotc211.org/2005/gmd:RS_Identifier': {'http://www.isotc211.org/2005/gmd:code': {'http://www.isotc211.org/2005/gco:CharacterString': '3310'}, 'http://www.isotc211.org/2005/gmd:codeSpace': {'http://www.isotc211.org/2005/gco:CharacterString': 'EPSG'}, 'http://www.isotc211.org/2005/gmd:version': {'http://www.isotc211.org/2005/gco:CharacterString': '6.8(9.2.0)'}}}}\n",
      "{'http://www.isotc211.org/2005/gmd:citation': {'http://www.isotc211.org/2005/gmd:CI_Citation': {'http://www.isotc211.org/2005/gmd:title': {'http://www.isotc211.org/2005/gco:CharacterString': 'ca_hq_transit_stops'}, 'http://www.isotc211.org/2005/gmd:date': {'http://www.isotc211.org/2005/gco:nilReason': 'missing'}, 'http://www.isotc211.org/2005/gmd:editionDate': {'http://www.isotc211.org/2005/gco:Date': '2022-05-17'}, 'http://www.isotc211.org/2005/gmd:citedResponsibleParty': {'http://www.isotc211.org/2005/gmd:CI_ResponsibleParty': {'http://www.isotc211.org/2005/gmd:organisationName': {'http://www.isotc211.org/2005/gco:CharacterString': 'California Integrated Travel Project'}, 'http://www.isotc211.org/2005/gmd:role': {'http://www.isotc211.org/2005/gmd:CI_RoleCode': {'codeList': 'http://www.isotc211.org/2005/resources/Codelist/gmxCodelists.xml#CI_RoleCode', 'codeListValue': 'publisher', 'codeSpace': 'ISOTC211/19115', 'text': 'publisher'}}}}, 'http://www.isotc211.org/2005/gmd:presentationForm': {'http://www.isotc211.org/2005/gmd:CI_PresentationFormCode': {'codeList': 'http://www.isotc211.org/2005/resources/Codelist/gmxCodelists.xml#CI_PresentationFormCode', 'codeListValue': 'mapDigital', 'codeSpace': 'ISOTC211/19115', 'text': 'mapDigital'}}}}, 'http://www.isotc211.org/2005/gmd:abstract': {'http://www.isotc211.org/2005/gco:CharacterString': 'Public. EPSG: 3310.'}, 'http://www.isotc211.org/2005/gmd:purpose': {'http://www.isotc211.org/2005/gco:CharacterString': 'Estimated stops along High Quality Transit Corridors, plus major transit stops for bus rapid transit, ferry, rail modes as described in Public Resources Code 21155, 21064.3, 21060.2'}, 'http://www.isotc211.org/2005/gmd:status': {'http://www.isotc211.org/2005/gmd:MD_ProgressCode': {'codeList': 'http://www.isotc211.org/2005/resources/Codelist/gmxCodelists.xml#MD_ProgressCode', 'codeListValue': 'completed', 'codeSpace': 'ISOTC211/19115', 'text': 'completed'}}, 'http://www.isotc211.org/2005/gmd:pointOfContact': {'http://www.isotc211.org/2005/gmd:CI_ResponsibleParty': {'http://www.isotc211.org/2005/gmd:individualName': {'http://www.isotc211.org/2005/gco:CharacterString': 'Eric Dasmalchi'}, 'http://www.isotc211.org/2005/gmd:organisationName': {'http://www.isotc211.org/2005/gco:CharacterString': 'Caltrans'}, 'http://www.isotc211.org/2005/gmd:positionName': {'http://www.isotc211.org/2005/gco:CharacterString': 'California Integrated Travel Project'}, 'http://www.isotc211.org/2005/gmd:contactInfo': {'http://www.isotc211.org/2005/gmd:CI_Contact': {'http://www.isotc211.org/2005/gmd:address': {'http://www.isotc211.org/2005/gmd:CI_Address': {'http://www.isotc211.org/2005/gmd:electronicMailAddress': {'http://www.isotc211.org/2005/gco:CharacterString': 'eric.dasmalchi@dot.ca.gov'}}}}}, 'http://www.isotc211.org/2005/gmd:role': {'http://www.isotc211.org/2005/gmd:CI_RoleCode': {'codeList': 'http://www.isotc211.org/2005/resources/Codelist/gmxCodelists.xml#CI_RoleCode', 'codeListValue': 'pointOfContact', 'codeSpace': 'ISOTC211/19115', 'text': 'pointOfContact'}}}}, 'http://www.isotc211.org/2005/gmd:resourceMaintenance': {'http://www.isotc211.org/2005/gmd:MD_MaintenanceInformation': {'http://www.isotc211.org/2005/gmd:maintenanceAndUpdateFrequency': {'http://www.isotc211.org/2005/gmd:MD_MaintenanceFrequencyCode': {'codeList': 'http://www.isotc211.org/2005/resources/Codelist/gmxCodelists.xml#MD_MaintenanceFrequencyCode', 'codeListValue': 'monthly', 'codeSpace': 'ISOTC211/19115', 'text': 'monthly'}}}}, 'http://www.isotc211.org/2005/gmd:descriptiveKeywords': [{'http://www.isotc211.org/2005/gmd:MD_Keywords': {'http://www.isotc211.org/2005/gmd:keyword': {'http://www.isotc211.org/2005/gco:CharacterString': 'transportation'}, 'http://www.isotc211.org/2005/gmd:type': {'http://www.isotc211.org/2005/gmd:MD_KeywordTypeCode': {'codeList': 'http://www.isotc211.org/2005/resources/Codelist/gmxCodelists.xml#MD_KeywordTypeCode', 'codeListValue': 'theme', 'codeSpace': 'ISOTC211/19115', 'text': 'theme'}}, 'http://www.isotc211.org/2005/gmd:thesaurusName': {'http://www.isotc211.org/2005/gmd:CI_Citation': {'http://www.isotc211.org/2005/gmd:title': {'http://www.isotc211.org/2005/gco:CharacterString': 'ISO 19115 Topic Categories'}, 'http://www.isotc211.org/2005/gmd:date': {'http://www.isotc211.org/2005/gco:nilReason': 'missing'}}}}}, {'http://www.isotc211.org/2005/gmd:MD_Keywords': {'http://www.isotc211.org/2005/gmd:keyword': [{'http://www.isotc211.org/2005/gco:CharacterString': 'Transit-Oriented Development'}, {'http://www.isotc211.org/2005/gco:CharacterString': 'TOD'}, {'http://www.isotc211.org/2005/gco:CharacterString': 'Transportation'}, {'http://www.isotc211.org/2005/gco:CharacterString': 'Land Use'}, {'http://www.isotc211.org/2005/gco:CharacterString': 'High Quality Transit'}], 'http://www.isotc211.org/2005/gmd:type': {'http://www.isotc211.org/2005/gmd:MD_KeywordTypeCode': {'codeList': 'http://www.isotc211.org/2005/resources/Codelist/gmxCodelists.xml#MD_KeywordTypeCode', 'codeListValue': 'theme', 'codeSpace': 'ISOTC211/19115', 'text': 'theme'}}}}, {'http://www.isotc211.org/2005/gmd:MD_Keywords': {'http://www.isotc211.org/2005/gmd:keyword': {'http://www.isotc211.org/2005/gco:CharacterString': 'Downloadable Data'}, 'http://www.isotc211.org/2005/gmd:thesaurusName': {'uuidref': '723f6998-058e-11dc-8314-0800200c9a66'}}}], 'http://www.isotc211.org/2005/gmd:spatialRepresentationType': {'http://www.isotc211.org/2005/gmd:MD_SpatialRepresentationTypeCode': {'codeList': 'http://www.isotc211.org/2005/resources/Codelist/gmxCodelists.xml#MD_SpatialRepresentationTypeCode', 'codeListValue': 'vector', 'codeSpace': 'ISOTC211/19115', 'text': 'vector'}}, 'http://www.isotc211.org/2005/gmd:language': {'http://www.isotc211.org/2005/gmd:LanguageCode': {'codeList': 'http://www.loc.gov/standards/iso639-2/php/code_list.php', 'codeListValue': 'eng', 'codeSpace': 'ISO639-2', 'text': 'eng'}}, 'http://www.isotc211.org/2005/gmd:characterSet': {'http://www.isotc211.org/2005/gmd:MD_CharacterSetCode': {'codeList': 'http://www.isotc211.org/2005/resources/Codelist/gmxCodelists.xml#MD_CharacterSetCode', 'codeListValue': 'utf8', 'codeSpace': 'ISOTC211/19115', 'text': 'utf8'}}, 'http://www.isotc211.org/2005/gmd:topicCategory': {'http://www.isotc211.org/2005/gmd:MD_TopicCategoryCode': 'transportation'}, 'http://www.isotc211.org/2005/gmd:environmentDescription': {'http://www.isotc211.org/2005/gco:CharacterString': 'Version 6.2 (Build 9200) ; Esri ArcGIS 10.8.1.14362'}, 'http://www.isotc211.org/2005/gmd:extent': [{'http://www.isotc211.org/2005/gmd:EX_Extent': {'http://www.isotc211.org/2005/gmd:description': {'http://www.isotc211.org/2005/gco:CharacterString': 'California'}, 'http://www.isotc211.org/2005/gmd:temporalElement': {'http://www.isotc211.org/2005/gmd:EX_TemporalExtent': {'http://www.isotc211.org/2005/gmd:extent': {'http://www.opengis.net/gml:TimePeriod': {'http://www.opengis.net/gml:id': 'ID0EWH', 'http://www.opengis.net/gml:beginPosition': '2022-05-17', 'http://www.opengis.net/gml:endPosition': '2022-06-17'}}}}}}, {'http://www.isotc211.org/2005/gmd:EX_Extent': {'http://www.isotc211.org/2005/gmd:geographicElement': {'http://www.isotc211.org/2005/gmd:EX_GeographicBoundingBox': {'http://www.isotc211.org/2005/gmd:extentTypeCode': {'http://www.isotc211.org/2005/gco:Boolean': 'true'}, 'http://www.isotc211.org/2005/gmd:westBoundLongitude': {'http://www.isotc211.org/2005/gco:Decimal': '-124.413705'}, 'http://www.isotc211.org/2005/gmd:eastBoundLongitude': {'http://www.isotc211.org/2005/gco:Decimal': '-113.622805'}, 'http://www.isotc211.org/2005/gmd:southBoundLatitude': {'http://www.isotc211.org/2005/gco:Decimal': '32.452996'}, 'http://www.isotc211.org/2005/gmd:northBoundLatitude': {'http://www.isotc211.org/2005/gco:Decimal': '45.355257'}}}}}]}\n",
      "{'http://www.isotc211.org/2005/gmd:distributionFormat': {'http://www.isotc211.org/2005/gmd:MD_Format': {'http://www.isotc211.org/2005/gmd:name': {'http://www.isotc211.org/2005/gco:CharacterString': 'File Geodatabase Feature Class'}, 'http://www.isotc211.org/2005/gmd:version': {'http://www.isotc211.org/2005/gco:nilReason': 'missing'}}}}\n",
      "{'http://www.isotc211.org/2005/gmd:scope': {'http://www.isotc211.org/2005/gmd:DQ_Scope': {'http://www.isotc211.org/2005/gmd:level': {'http://www.isotc211.org/2005/gmd:MD_ScopeCode': {'codeList': 'http://www.isotc211.org/2005/resources/Codelist/gmxCodelists.xml#MD_ScopeCode', 'codeListValue': 'dataset', 'codeSpace': 'ISOTC211/19115', 'text': 'dataset'}}}}, 'http://www.isotc211.org/2005/gmd:lineage': {'http://www.isotc211.org/2005/gmd:LI_Lineage': {'http://www.isotc211.org/2005/gmd:processStep': {'http://www.isotc211.org/2005/gmd:LI_ProcessStep': {'http://www.isotc211.org/2005/gmd:description': {'http://www.isotc211.org/2005/gco:CharacterString': 'This data was estimated using a spatial process derived from General Transit Feed Specification (GTFS) schedule data. To find high-quality bus corridors, we split each corridor into 1500 meter segments and counted frequencies at the stop within that segment with the highest number of transit trips. If that stop saw at least 4 trips per hour for at least one hour in the morning, and again for at least one hour in the afternoon, we consider that segment a high-quality bus corridor. Segments without a stop are not considered high-quality corridors. Major transit stops were identified as either the intersection of two high-quality corridors from the previous step, a rail or bus rapid transit station, or a ferry terminal with bus service. Note that the definition of “bus rapid transit” in Public Resources Code 21060.2 includes features not captured by available data sources, these features were captured manually using information from transit agency sources and imagery. We believe this data to be broadly accurate, and fit for purposes including overall dashboards, locating facilities in relation to high quality transit areas, and assessing community transit coverage. However, the spatial determination of high-quality transit areas from GTFS data necessarily involves some assumptions as described above. Any critical determinations of whether a specific parcel is located within a high-quality transit area should be made in conjunction with local sources, such as transit agency timetables. Note that for this stop-level dataset, not every bus stop within a high-quality corridor is assumed to have frequent service, since high-quality corridor status is calculated spatially for the corridor as a whole.'}}}}}}\n"
     ]
    }
   ],
   "source": [
    "for k2, v2 in esri_metadata[\"MD_Metadata\"].items():\n",
    "    for k3, v3 in v2.items():\n",
    "        print(v3)"
   ]
  },
  {
   "cell_type": "code",
   "execution_count": 55,
   "id": "1d89a869-4c96-4992-af75-6f9d13f18323",
   "metadata": {},
   "outputs": [],
   "source": [
    "esri_metadata[\"MD_Metadata\"] = {key.replace(p, ''): value for \n",
    "                                key, value in \n",
    "                                esri_metadata[\"MD_Metadata\"].items()}"
   ]
  },
  {
   "cell_type": "code",
   "execution_count": 73,
   "id": "f7f2264c-6be9-49e4-81f1-736d7463bcb8",
   "metadata": {},
   "outputs": [],
   "source": [
    "import re\n",
    "\n",
    "p = 'http://www.isotc211.org/2005/gmd:'\n",
    "\n",
    "esri_metadata = {key.replace(p,''): value for key, value in esri_metadata.items()}\n",
    "\n",
    "\n",
    "for key, item in esri_metadata.items():\n",
    "    try:\n",
    "        esri_metadata[key] = re.sub(p, \"\", item)\n",
    "    except:\n",
    "        pass\n",
    "    for index, value in item.items():\n",
    "        try:\n",
    "            esri_metadata[key][index] = re.sub(p, \"\", value)\n",
    "        except:\n",
    "            pass\n",
    "    \n",
    "    #esri_metadata[key][\"ORG\"] = tempList\n"
   ]
  },
  {
   "cell_type": "code",
   "execution_count": 81,
   "id": "c107bd52-d74d-4170-b28b-7a4a6083ee44",
   "metadata": {},
   "outputs": [],
   "source": [
    "for key, value in esri_metadata.items():\n",
    "    for k, v in value.items():\n",
    "        try:\n",
    "            value = {re.sub(p, \"\", k): re.sub(p, \"\", v) for k, v in value.items()}\n",
    "        except:\n",
    "            pass\n",
    "        #k = re.sub(p, \"\", k)\n",
    "        #v = re.sub(p, \"\", v)"
   ]
  },
  {
   "cell_type": "code",
   "execution_count": 58,
   "id": "75f82232-325c-412b-ab36-fee37ff90f77",
   "metadata": {},
   "outputs": [
    {
     "data": {
      "text/plain": [
       "dict_keys(['language', 'characterSet', 'hierarchyLevel', 'hierarchyLevelName', 'contact', 'dateStamp', 'metadataStandardName', 'metadataStandardVersion', 'spatialRepresentationInfo', 'referenceSystemInfo', 'identificationInfo', 'distributionInfo', 'dataQualityInfo'])"
      ]
     },
     "execution_count": 58,
     "metadata": {},
     "output_type": "execute_result"
    }
   ],
   "source": [
    "esri_metadata[\"MD_Metadata\"].keys()"
   ]
  },
  {
   "cell_type": "code",
   "execution_count": 33,
   "id": "2d05aded-5d1a-440c-929f-e8263b6bb60d",
   "metadata": {},
   "outputs": [],
   "source": [
    "p = 'http://www.isotc211.org/2005/gmd:'\n",
    "m = esri_metadata[f\"{p}MD_Metadata\"]"
   ]
  },
  {
   "cell_type": "code",
   "execution_count": 37,
   "id": "e31a317d-c6ec-4d12-854b-f16e4af2d664",
   "metadata": {},
   "outputs": [
    {
     "name": "stdout",
     "output_type": "stream",
     "text": [
      "http://www.isotc211.org/2005/gmd:language\n",
      "http://www.isotc211.org/2005/gmd:characterSet\n",
      "http://www.isotc211.org/2005/gmd:hierarchyLevel\n",
      "http://www.isotc211.org/2005/gmd:hierarchyLevelName\n",
      "http://www.isotc211.org/2005/gmd:contact\n",
      "http://www.isotc211.org/2005/gmd:dateStamp\n",
      "http://www.isotc211.org/2005/gmd:metadataStandardName\n",
      "http://www.isotc211.org/2005/gmd:metadataStandardVersion\n",
      "http://www.isotc211.org/2005/gmd:spatialRepresentationInfo\n",
      "http://www.isotc211.org/2005/gmd:referenceSystemInfo\n",
      "http://www.isotc211.org/2005/gmd:identificationInfo\n",
      "http://www.isotc211.org/2005/gmd:distributionInfo\n",
      "http://www.isotc211.org/2005/gmd:dataQualityInfo\n"
     ]
    }
   ],
   "source": [
    "for k, v in m.items():\n",
    "    print(k)\n"
   ]
  },
  {
   "cell_type": "code",
   "execution_count": 43,
   "id": "34a55452-30ae-490f-9714-e069cf360c3b",
   "metadata": {},
   "outputs": [
    {
     "data": {
      "text/plain": [
       "dict_keys(['http://www.isotc211.org/2005/gmd:CI_ResponsibleParty'])"
      ]
     },
     "execution_count": 43,
     "metadata": {},
     "output_type": "execute_result"
    }
   ],
   "source": [
    "m[f\"{p}contact\"].keys()"
   ]
  },
  {
   "cell_type": "code",
   "execution_count": null,
   "id": "7e0333c2-2a6e-4232-873c-4da2d36fa0ae",
   "metadata": {},
   "outputs": [],
   "source": [
    "for key, value in esri_metadata.items():\n",
    "    prefix_url = 'http://www.isotc211.org/2005/gmd'\n",
    "    if prefix_url in key:\n",
    "        key = key.replace(prefix_url, \"\")\n",
    "    if prefix_url in value:\n",
    "        value = value.replace(prefix_url, \"\")"
   ]
  },
  {
   "cell_type": "code",
   "execution_count": null,
   "id": "88277307-eaf7-4cc7-af2b-4e865b308089",
   "metadata": {},
   "outputs": [],
   "source": [
    "esri_metadata"
   ]
  },
  {
   "cell_type": "code",
   "execution_count": null,
   "id": "fab1ff09-2185-4ec2-a8fa-a10789bfacf9",
   "metadata": {},
   "outputs": [],
   "source": [
    "esri_metadata.keys()"
   ]
  },
  {
   "cell_type": "code",
   "execution_count": null,
   "id": "771898e9-1661-47e6-9503-3404ac665b12",
   "metadata": {},
   "outputs": [],
   "source": [
    "m = esri_metadata['http://www.isotc211.org/2005/gmd:MD_Metadata']"
   ]
  },
  {
   "cell_type": "code",
   "execution_count": null,
   "id": "f2e8a894-97c2-4705-aa56-d18a1f7050bd",
   "metadata": {},
   "outputs": [],
   "source": [
    "esri_metadata"
   ]
  },
  {
   "cell_type": "code",
   "execution_count": null,
   "id": "c8fdba5f-5ca8-4dcb-8a85-30a71f2614e5",
   "metadata": {},
   "outputs": [],
   "source": [
    "m.keys()"
   ]
  },
  {
   "cell_type": "code",
   "execution_count": null,
   "id": "7cdf4a2b-698e-451e-a4d4-f44f51518e28",
   "metadata": {},
   "outputs": [],
   "source": []
  }
 ],
 "metadata": {
  "kernelspec": {
   "display_name": "Python 3 (ipykernel)",
   "language": "python",
   "name": "python3"
  },
  "language_info": {
   "codemirror_mode": {
    "name": "ipython",
    "version": 3
   },
   "file_extension": ".py",
   "mimetype": "text/x-python",
   "name": "python",
   "nbconvert_exporter": "python",
   "pygments_lexer": "ipython3",
   "version": "3.10.4"
  }
 },
 "nbformat": 4,
 "nbformat_minor": 5
}
