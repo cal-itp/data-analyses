{
 "cells": [
  {
   "cell_type": "code",
   "execution_count": 1,
   "id": "1023525a-e5a1-4f27-ab0b-c128575f0f3e",
   "metadata": {},
   "outputs": [
    {
     "name": "stderr",
     "output_type": "stream",
     "text": [
      "/opt/conda/lib/python3.10/site-packages/geopandas/_compat.py:112: UserWarning: The Shapely GEOS version (3.10.3-CAPI-1.16.1) is incompatible with the GEOS version PyGEOS was compiled with (3.10.1-CAPI-1.16.0). Conversions between both will be slow.\n"
     ]
    }
   ],
   "source": [
    "import os\n",
    "import pandas as pd\n",
    "import xml.etree.ElementTree as ET\n",
    "import xmltodict\n",
    "\n",
    "from pydantic import BaseModel\n",
    "from typing import List, Dict\n",
    "\n",
    "import metadata_update_pro\n",
    "import validation_pro \n",
    "\n",
    "METADATA_FOLDER = \"metadata_xml/\""
   ]
  },
  {
   "cell_type": "code",
   "execution_count": 2,
   "id": "1f1a8aed-c332-4c9c-ae61-dabdeb467eae",
   "metadata": {},
   "outputs": [
    {
     "name": "stdout",
     "output_type": "stream",
     "text": [
      "Loading XML as JSON from ./metadata_xml/default_pro.xml\n"
     ]
    }
   ],
   "source": [
    "DEFAULT_XML = f\"./{METADATA_FOLDER}default_pro.xml\"\n",
    "default_template = metadata_update_pro.xml_to_json(DEFAULT_XML)"
   ]
  },
  {
   "cell_type": "markdown",
   "id": "bc254eed-a1b9-44eb-999c-f3e553f38761",
   "metadata": {},
   "source": [
    "Reminder to check out `uuidref`...if we keep lifting template, we would copy this part over.\n",
    "```\n",
    "default2 = default_template[\"ns0:MD_Metadata\"]\n",
    "(default2[\"ns0:identificationInfo\"]\n",
    " [\"ns0:MD_DataIdentification\"][\"ns0:descriptiveKeywords\"][0][\"ns0:MD_Keywords\"][\"ns0:thesaurusName\"]\n",
    ")\n",
    "```"
   ]
  },
  {
   "cell_type": "code",
   "execution_count": 3,
   "id": "629e3a2c-c611-4d96-bf0a-9e14c4325842",
   "metadata": {},
   "outputs": [
    {
     "name": "stdout",
     "output_type": "stream",
     "text": [
      "Loading XML as JSON from ./ca_transit_routes.xml\n"
     ]
    }
   ],
   "source": [
    "XML_FILE = f\"./ca_transit_routes.xml\"\n",
    "esri_metadata = metadata_update_pro.xml_to_json(XML_FILE)"
   ]
  },
  {
   "cell_type": "code",
   "execution_count": 4,
   "id": "e727ef1f-d5a6-42b0-bc8c-af9870a6b077",
   "metadata": {},
   "outputs": [],
   "source": [
    "def lift_necessary_dataset_elements(metadata_json: dict) -> dict:\n",
    "    \n",
    "    m = metadata_json[\"ns0:MD_Metadata\"]\n",
    "    \n",
    "    # This namespace prefix is used a lot\n",
    "    x = \"ns0:\"\n",
    "    \n",
    "    # Store this info in a dictionary\n",
    "    d = {}\n",
    "        \n",
    "    # Date Stamp\n",
    "    d[f\"{x}dateStamp\"] = m[f\"{x}dateStamp\"] \n",
    "    \n",
    "    # Spatial Representation Info\n",
    "    d[f\"{x}spatialRepresentationInfo\"] = m[f\"{x}spatialRepresentationInfo\"] \n",
    "   \n",
    "    # Coordinate Reference System Info\n",
    "    d[f\"{x}referenceSystemInfo\"] = m[f\"{x}referenceSystemInfo\"] \n",
    "    \n",
    "    # Distribution Info\n",
    "    d[f\"{x}distributionInfo\"] = m[f\"{x}distributionInfo\"]   \n",
    "    \n",
    "    return d"
   ]
  },
  {
   "cell_type": "code",
   "execution_count": 5,
   "id": "ab8b788c-5321-4c7b-bf94-c69822c48f51",
   "metadata": {},
   "outputs": [],
   "source": [
    "def overwrite_default_with_dataset_elements(metadata_json: dict) -> dict:\n",
    "    DEFAULT_XML = f\"./{METADATA_FOLDER}default_pro.xml\"\n",
    "    default_template = metadata_update_pro.xml_to_json(DEFAULT_XML)\n",
    "    default = default_template[\"ns0:MD_Metadata\"]\n",
    "    \n",
    "    # Grab the necessary elements from my dataset\n",
    "    necessary_elements = lift_necessary_dataset_elements(metadata_json)\n",
    "    \n",
    "    # Overwrite it in the default template\n",
    "    for key, value in default.items():\n",
    "        if key in necessary_elements.keys():\n",
    "            default[key] = necessary_elements[key] \n",
    "        else:\n",
    "            default[key] = default[key]\n",
    "            \n",
    "    # Return the default template, but now with our dataset's info populated\n",
    "    return default_template"
   ]
  },
  {
   "cell_type": "code",
   "execution_count": 6,
   "id": "dfca7f8e-3ca6-43ef-a198-4d3a16b8bae5",
   "metadata": {},
   "outputs": [
    {
     "name": "stdout",
     "output_type": "stream",
     "text": [
      "Loading XML as JSON from ./metadata_xml/default_pro.xml\n"
     ]
    }
   ],
   "source": [
    "esri2 = overwrite_default_with_dataset_elements(esri_metadata)"
   ]
  },
  {
   "cell_type": "code",
   "execution_count": null,
   "id": "13f0e89e-fc8e-484f-b3d3-ccdf546acb66",
   "metadata": {},
   "outputs": [],
   "source": [
    "(esri2[\"ns0:MD_Metadata\"][\"ns0:identificationInfo\"]\n",
    " [\"ns0:MD_DataIdentification\"][\"ns0:citation\"]\n",
    " [\"ns0:CI_Citation\"][\"ns0:edition\"]\n",
    ")"
   ]
  },
  {
   "cell_type": "markdown",
   "id": "169d2132-908b-4788-8089-cf1f527d92f9",
   "metadata": {},
   "source": [
    "\n",
    "### Now find all instances where what's inputted in BaseModel is used"
   ]
  },
  {
   "cell_type": "code",
   "execution_count": 7,
   "id": "2845aadc-f429-4444-afd4-488f0f9327d6",
   "metadata": {},
   "outputs": [],
   "source": [
    "ROUTES_DICT = {\n",
    "    \"dataset_name\": \"ca_transit_routes\", \n",
    "    \"publish_entity\": \"California Integrated Travel Project\", \n",
    "\n",
    "    \"abstract\": \"Public. EPSG: 4326\",\n",
    "    \"purpose\": \"my purpose\", # purpose, also repeat for description?\n",
    "\n",
    "    \"beginning_date\": \"2022/09/14\",\n",
    "    \"end_date\": \"2022-10-14\",\n",
    "    \"place\": \"California\",\n",
    "\n",
    "    \"status\": \"completed\", \n",
    "    \"frequency\": \"monthly\",\n",
    "    \n",
    "    \"theme_keywords\": [\"1\", \"2\", \"3\", \"4\", \"5\"], #tags\n",
    "\n",
    "    \"methodology\": \"this is my methodology\", \n",
    "    \"contact_organization\": \"Caltrans\", \n",
    "    \"contact_person\": \"Tiffany Chu\", \n",
    "    \"contact_email\": \"tiffany.chu@dot.ca.gov\",\n",
    "    \n",
    "    \"horiz_accuracy\": \"4 meters\",\n",
    "}\n"
   ]
  },
  {
   "cell_type": "code",
   "execution_count": null,
   "id": "373c2343-8021-4368-8a8a-94ec086a4b96",
   "metadata": {},
   "outputs": [],
   "source": [
    "(esri2[\"ns0:MD_Metadata\"][\"ns0:contact\"]\n",
    " [\"ns0:CI_ResponsibleParty\"][\"ns0:contactInfo\"]\n",
    " [\"ns0:CI_Contact\"]\n",
    ")"
   ]
  },
  {
   "cell_type": "code",
   "execution_count": 8,
   "id": "430c9081-834f-4756-8bb0-2e207ad0a90a",
   "metadata": {},
   "outputs": [],
   "source": [
    "ROUTES_DICT = metadata_update_pro.fix_values_in_validated_dict(ROUTES_DICT) "
   ]
  },
  {
   "cell_type": "code",
   "execution_count": 9,
   "id": "67d0c927-0f20-4c25-b06a-e695f56ebf29",
   "metadata": {},
   "outputs": [],
   "source": [
    "DATASET_INFO_VALIDATED = metadata_update_pro.metadata_input(**ROUTES_DICT).dict()"
   ]
  },
  {
   "cell_type": "code",
   "execution_count": 10,
   "id": "ce53d852-a2e0-4596-a89b-a3fe019349f9",
   "metadata": {},
   "outputs": [],
   "source": [
    "updated_meta = metadata_update_pro.overwrite_metadata_json(esri2, DATASET_INFO_VALIDATED)"
   ]
  },
  {
   "cell_type": "code",
   "execution_count": 11,
   "id": "aef7c75e-18f7-43d6-a9ac-6239c9170b15",
   "metadata": {},
   "outputs": [
    {
     "data": {
      "text/plain": [
       "{'ns0:MD_Metadata': {'xmlns:ns0': 'http://www.isotc211.org/2005/gmd',\n",
       "  'xmlns:ns1': 'http://www.isotc211.org/2005/gco',\n",
       "  'xmlns:ns2': 'http://www.opengis.net/gml/3.2',\n",
       "  'ns0:language': {'ns0:LanguageCode': {'codeList': 'http://www.loc.gov/standards/iso639-2/php/code_list.php',\n",
       "    'codeListValue': 'eng',\n",
       "    'codeSpace': 'ISO639-2',\n",
       "    'text': 'eng'}},\n",
       "  'ns0:characterSet': {'ns0:MD_CharacterSetCode': {'codeList': 'http://www.isotc211.org/2005/resources/Codelist/gmxCodelists.xml#MD_CharacterSetCode',\n",
       "    'codeListValue': 'utf8',\n",
       "    'codeSpace': 'ISOTC211/19115',\n",
       "    'text': 'utf8'}},\n",
       "  'ns0:hierarchyLevel': {'ns0:MD_ScopeCode': {'codeList': 'http://www.isotc211.org/2005/resources/Codelist/gmxCodelists.xml#MD_ScopeCode',\n",
       "    'codeListValue': 'dataset',\n",
       "    'codeSpace': 'ISOTC211/19115',\n",
       "    'text': 'dataset'}},\n",
       "  'ns0:hierarchyLevelName': {'ns1:CharacterString': 'dataset'},\n",
       "  'ns0:contact': {'ns0:CI_ResponsibleParty': {'ns0:individualName': {'ns1:CharacterString': 'Tiffany Chu'},\n",
       "    'ns0:organisationName': {'ns1:CharacterString': 'Caltrans'},\n",
       "    'ns0:positionName': {'ns1:CharacterString': 'California Integrated Travel Project'},\n",
       "    'ns0:contactInfo': {'ns0:CI_Contact': {'ns0:address': {'ns0:CI_Address': {'ns0:electronicMailAddress': {'ns1:CharacterString': 'tiffany.chu@dot.ca.gov'}}}}},\n",
       "    'ns0:role': {'ns0:CI_RoleCode': {'codeList': 'http://www.isotc211.org/2005/resources/Codelist/gmxCodelists.xml#CI_RoleCode',\n",
       "      'codeListValue': 'publisher',\n",
       "      'codeSpace': 'ISOTC211/19115',\n",
       "      'text': 'publisher'}}}},\n",
       "  'ns0:dateStamp': {'ns1:Date': '2022-10-06'},\n",
       "  'ns0:metadataStandardName': {'ns1:CharacterString': 'ISO 19139 Geographic Information - Metadata - Implementation Specification'},\n",
       "  'ns0:metadataStandardVersion': {'ns1:CharacterString': '2007'},\n",
       "  'ns0:spatialRepresentationInfo': {'ns0:MD_VectorSpatialRepresentation': {'ns0:topologyLevel': {'ns0:MD_TopologyLevelCode': {'codeList': 'http://www.isotc211.org/2005/resources/Codelist/gmxCodelists.xml#MD_TopologyLevelCode',\n",
       "      'codeListValue': 'geometryOnly',\n",
       "      'codeSpace': 'ISOTC211/19115',\n",
       "      'text': 'geometryOnly'}},\n",
       "    'ns0:geometricObjects': {'ns0:MD_GeometricObjects': {'ns0:geometricObjectType': {'ns0:MD_GeometricObjectTypeCode': {'codeList': 'http://www.isotc211.org/2005/resources/Codelist/gmxCodelists.xml#MD_GeometricObjectTypeCode',\n",
       "        'codeListValue': 'composite',\n",
       "        'codeSpace': 'ISOTC211/19115',\n",
       "        'text': 'composite'}}}}}},\n",
       "  'ns0:referenceSystemInfo': {'ns0:MD_ReferenceSystem': {'ns0:referenceSystemIdentifier': {'ns0:RS_Identifier': {'ns0:code': {'ns1:CharacterString': '4326'},\n",
       "      'ns0:codeSpace': {'ns1:CharacterString': 'EPSG'},\n",
       "      'ns0:version': {'ns1:CharacterString': '6.2(3.0.1)'}}}}},\n",
       "  'ns0:identificationInfo': {'ns0:MD_DataIdentification': {'ns0:citation': {'ns0:CI_Citation': {'ns0:title': {'ns1:CharacterString': 'ca_transit_routes'},\n",
       "      'ns0:date': {'ns0:CI_Date': {'ns0:date': {'ns1:Date': '2022-09-14'},\n",
       "        'ns0:dateType': {'ns0:CI_DateTypeCode': {'codeList': 'http://www.isotc211.org/2005/resources/Codelist/gmxCodelists.xml#CI_DateTypeCode',\n",
       "          'codeListValue': 'creation',\n",
       "          'codeSpace': 'ISOTC211/19115',\n",
       "          'text': 'creation'}}}},\n",
       "      'ns0:edition': {'ns1:CharacterString': '5'},\n",
       "      'ns0:citedResponsibleParty': {'ns0:CI_ResponsibleParty': {'ns0:individualName': {'ns1:CharacterString': 'My Name'},\n",
       "        'ns0:organisationName': {'ns1:CharacterString': 'Caltrans'},\n",
       "        'ns0:role': {'ns0:CI_RoleCode': {'codeList': 'http://www.isotc211.org/2005/resources/Codelist/gmxCodelists.xml#CI_RoleCode',\n",
       "          'codeListValue': 'publisher',\n",
       "          'codeSpace': 'ISOTC211/19115',\n",
       "          'text': 'publisher'}}}},\n",
       "      'ns0:presentationForm': {'ns0:CI_PresentationFormCode': {'codeList': 'http://www.isotc211.org/2005/resources/Codelist/gmxCodelists.xml#CI_PresentationFormCode',\n",
       "        'codeListValue': 'mapDigital',\n",
       "        'codeSpace': 'ISOTC211/19115',\n",
       "        'text': 'mapDigital'}}}},\n",
       "    'ns0:abstract': {'ns1:CharacterString': 'Public. EPSG: 4326'},\n",
       "    'ns0:purpose': {'ns1:CharacterString': 'my purpose'},\n",
       "    'ns0:status': {'ns0:MD_ProgressCode': {'codeList': 'http://www.isotc211.org/2005/resources/Codelist/gmxCodelists.xml#MD_ProgressCode',\n",
       "      'codeListValue': 'completed',\n",
       "      'codeSpace': 'ISOTC211/19115',\n",
       "      'text': 'completed'}},\n",
       "    'ns0:resourceMaintenance': {'ns0:MD_MaintenanceInformation': {'ns0:maintenanceAndUpdateFrequency': {'ns0:MD_MaintenanceFrequencyCode': {'codeList': 'http://www.isotc211.org/2005/resources/Codelist/gmxCodelists.xml#MD_MaintenanceFrequencyCode',\n",
       "        'codeListValue': 'monthly',\n",
       "        'codeSpace': 'ISOTC211/19115',\n",
       "        'text': 'monthly'}},\n",
       "      'ns0:dateOfNextUpdate': {'ns1:Date': '2022-10-14'}}},\n",
       "    'ns0:descriptiveKeywords': [{'ns0:MD_Keywords': {'ns0:keyword': {'ns1:CharacterString': 'Downloadable Data'},\n",
       "       'ns0:thesaurusName': {'uuidref': '723f6998-058e-11dc-8314-0800200c9a66'}}},\n",
       "     {'ns0:MD_Keywords': {'ns0:keyword': [{'ns1:CharacterString': '1'},\n",
       "        {'ns1:CharacterString': '2'},\n",
       "        {'ns1:CharacterString': '3'},\n",
       "        {'ns1:CharacterString': '4'},\n",
       "        {'ns1:CharacterString': '5'}]}}],\n",
       "    'ns0:resourceConstraints': {'ns0:MD_LegalConstraints': {'ns0:useConstraints': {'ns0:MD_RestrictionCode': {'codeList': 'http://www.isotc211.org/2005/resources/Codelist/gmxCodelists.xml#MD_RestrictionCode',\n",
       "        'codeListValue': 'license',\n",
       "        'codeSpace': 'ISOTC211/19115',\n",
       "        'text': 'license'}}}},\n",
       "    'ns0:spatialRepresentationType': {'ns0:MD_SpatialRepresentationTypeCode': {'codeList': 'http://www.isotc211.org/2005/resources/Codelist/gmxCodelists.xml#MD_SpatialRepresentationTypeCode',\n",
       "      'codeListValue': 'vector',\n",
       "      'codeSpace': 'ISOTC211/19115',\n",
       "      'text': 'vector'}},\n",
       "    'ns0:language': {'ns0:LanguageCode': {'codeList': 'http://www.loc.gov/standards/iso639-2/php/code_list.php',\n",
       "      'codeListValue': 'eng',\n",
       "      'codeSpace': 'ISO639-2',\n",
       "      'text': 'eng'}},\n",
       "    'ns0:characterSet': {'ns0:MD_CharacterSetCode': {'codeList': 'http://www.isotc211.org/2005/resources/Codelist/gmxCodelists.xml#MD_CharacterSetCode',\n",
       "      'codeListValue': 'utf8',\n",
       "      'codeSpace': 'ISOTC211/19115',\n",
       "      'text': 'utf8'}},\n",
       "    'ns0:topicCategory': {'ns0:MD_TopicCategoryCode': 'transportation'},\n",
       "    'ns0:environmentDescription': {'ns1:CharacterString': 'Microsoft Windows 10 Version 10.0 (Build 19042) ; Esri ArcGIS 12.9.2.32739'},\n",
       "    'ns0:extent': {'ns0:EX_Extent': {'ns0:description': {'ns1:CharacterString': 'California'},\n",
       "      'ns0:temporalElement': {'ns0:EX_TemporalExtent': {'ns0:extent': {'ns2:TimePeriod': {'ns2:id': 'IDDWYVT5UGET0XIDOZ10J1NEM1TJ4BG4DJ4XQHJCJYNE1G53PQBC5H',\n",
       "          'ns2:beginPosition': '2022-09-14T00:00:00',\n",
       "          'ns2:endPosition': '2022-10-14T00:00:00'}}}}}}}},\n",
       "  'ns0:distributionInfo': {'ns0:MD_Distribution': {'ns0:distributionFormat': {'ns0:MD_Format': {'ns0:name': {'ns1:CharacterString': 'File Geodatabase Feature Class'},\n",
       "      'ns0:version': {'ns1:nilReason': 'missing'}}}}},\n",
       "  'ns0:dataQualityInfo': {'ns0:DQ_DataQuality': {'ns0:scope': {'ns1:nilReason': 'missing'},\n",
       "    'ns0:report': {'ns0:DQ_RelativeInternalPositionalAccuracy': {'ns0:measureDescription': {'ns1:CharacterString': '4 meters'},\n",
       "      'ns0:result': {'ns1:nilReason': 'missing'}}},\n",
       "    'ns0:lineage': {'ns0:LI_Lineage': {'ns0:processStep': {'ns0:LI_ProcessStep': {'ns0:description': {'ns1:CharacterString': 'Methodology.'}}}}}}}}}"
      ]
     },
     "execution_count": 11,
     "metadata": {},
     "output_type": "execute_result"
    }
   ],
   "source": [
    "updated_meta"
   ]
  },
  {
   "cell_type": "code",
   "execution_count": null,
   "id": "4ebb7575-d785-4373-bff1-e6c518f27ab3",
   "metadata": {},
   "outputs": [],
   "source": []
  }
 ],
 "metadata": {
  "kernelspec": {
   "display_name": "Python 3 (ipykernel)",
   "language": "python",
   "name": "python3"
  },
  "language_info": {
   "codemirror_mode": {
    "name": "ipython",
    "version": 3
   },
   "file_extension": ".py",
   "mimetype": "text/x-python",
   "name": "python",
   "nbconvert_exporter": "python",
   "pygments_lexer": "ipython3",
   "version": "3.10.5"
  }
 },
 "nbformat": 4,
 "nbformat_minor": 5
}
