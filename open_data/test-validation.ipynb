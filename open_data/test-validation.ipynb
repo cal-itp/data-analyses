{
 "cells": [
  {
   "cell_type": "code",
   "execution_count": 1,
   "id": "1023525a-e5a1-4f27-ab0b-c128575f0f3e",
   "metadata": {},
   "outputs": [
    {
     "name": "stderr",
     "output_type": "stream",
     "text": [
      "/opt/conda/lib/python3.10/site-packages/geopandas/_compat.py:112: UserWarning: The Shapely GEOS version (3.10.3-CAPI-1.16.1) is incompatible with the GEOS version PyGEOS was compiled with (3.10.1-CAPI-1.16.0). Conversions between both will be slow.\n"
     ]
    }
   ],
   "source": [
    "import os\n",
    "import pandas as pd\n",
    "import xml.etree.ElementTree as ET\n",
    "import xmltodict\n",
    "\n",
    "from pydantic import BaseModel\n",
    "from typing import List, Dict\n",
    "\n",
    "import validation \n",
    "\n",
    "METADATA_FOLDER = \"metadata_xml/\""
   ]
  },
  {
   "cell_type": "code",
   "execution_count": 2,
   "id": "1f1a8aed-c332-4c9c-ae61-dabdeb467eae",
   "metadata": {},
   "outputs": [
    {
     "name": "stdout",
     "output_type": "stream",
     "text": [
      "Loading XML as JSON from ./metadata_xml/default_pro.xml\n"
     ]
    }
   ],
   "source": [
    "import metadata_update_desktop\n",
    "\n",
    "DEFAULT_XML = f\"./{METADATA_FOLDER}default_pro.xml\"\n",
    "default_template = metadata_update_desktop.xml_to_json(DEFAULT_XML)"
   ]
  },
  {
   "cell_type": "code",
   "execution_count": 3,
   "id": "629e3a2c-c611-4d96-bf0a-9e14c4325842",
   "metadata": {},
   "outputs": [
    {
     "name": "stdout",
     "output_type": "stream",
     "text": [
      "Loading XML as JSON from ./ca_transit_routes.xml\n"
     ]
    }
   ],
   "source": [
    "XML_FILE = f\"./ca_transit_routes.xml\"\n",
    "esri_metadata = metadata_update_desktop.xml_to_json(XML_FILE)"
   ]
  },
  {
   "cell_type": "code",
   "execution_count": 4,
   "id": "e727ef1f-d5a6-42b0-bc8c-af9870a6b077",
   "metadata": {},
   "outputs": [],
   "source": [
    "def lift_necessary_dataset_elements(metadata_json: dict) -> dict:\n",
    "    m = metadata_json[\"ns0:MD_Metadata\"]\n",
    "    \n",
    "    # Store this info in a dictionary\n",
    "    d = {}\n",
    "        \n",
    "    # Date Stamp\n",
    "    d[\"ns0:dateStamp\"] = m[\"ns0:dateStamp\"] \n",
    "    \n",
    "    # Spatial Representation Info\n",
    "    d[\"ns0:spatialRepresentationInfo\"] = m[\"ns0:spatialRepresentationInfo\"] \n",
    "   \n",
    "    # Coordinate Reference System Info\n",
    "    d[\"ns0:referenceSystemInfo\"] = m[\"ns0:referenceSystemInfo\"] \n",
    "    \n",
    "    # Distribution Info\n",
    "    d[\"ns0:distributionInfo\"] = m[\"ns0:distributionInfo\"]   \n",
    "        \n",
    "    # Identification info\n",
    "    d[\"ns0:identificationInfo\"] = m[\"ns0:identificationInfo\"]\n",
    "    \n",
    "    return d"
   ]
  },
  {
   "cell_type": "code",
   "execution_count": 5,
   "id": "ab8b788c-5321-4c7b-bf94-c69822c48f51",
   "metadata": {},
   "outputs": [],
   "source": [
    "def overwrite_default_with_dataset_elements(metadata_json: dict) -> dict:\n",
    "    DEFAULT_XML = f\"./{METADATA_FOLDER}default_pro.xml\"\n",
    "    default_template = metadata_update_desktop.xml_to_json(DEFAULT_XML)\n",
    "    default = default_template[\"ns0:MD_Metadata\"]\n",
    "    \n",
    "    # Grab the necessary elements from my dataset\n",
    "    necessary_elements = lift_necessary_dataset_elements(metadata_json)\n",
    "    \n",
    "    # Overwrite it in the default template\n",
    "    for key, value in default.items():\n",
    "        if key in necessary_elements.keys():\n",
    "            default[key] = necessary_elements[key]     \n",
    "            \n",
    "    # Return the default template, but now with our dataset's info populated\n",
    "    return default_template"
   ]
  },
  {
   "cell_type": "code",
   "execution_count": 6,
   "id": "dfca7f8e-3ca6-43ef-a198-4d3a16b8bae5",
   "metadata": {},
   "outputs": [
    {
     "name": "stdout",
     "output_type": "stream",
     "text": [
      "Loading XML as JSON from ./metadata_xml/default_pro.xml\n"
     ]
    }
   ],
   "source": [
    "default2 = overwrite_default_with_dataset_elements(esri_metadata)"
   ]
  },
  {
   "cell_type": "markdown",
   "id": "169d2132-908b-4788-8089-cf1f527d92f9",
   "metadata": {},
   "source": [
    "### Now find all instances where what's inputted in BaseModel is used"
   ]
  },
  {
   "cell_type": "code",
   "execution_count": null,
   "id": "f2835618-9309-45a5-ac9d-5f22bc775fa1",
   "metadata": {},
   "outputs": [],
   "source": [
    "class metadata_input(BaseModel):\n",
    "    beginning_date: str\n",
    "    end_date: str\n",
    "    place: str = \"California\"\n",
    "    status: str = \"Complete\"\n",
    "    frequency: str = \"Monthly\"\n",
    "    theme_topics: Dict\n",
    "    data_dict_type: str\n",
    "    data_dict_url: str"
   ]
  },
  {
   "cell_type": "code",
   "execution_count": 7,
   "id": "8532d260-441c-4925-8354-efc58cc5cc27",
   "metadata": {},
   "outputs": [],
   "source": [
    "default3 = default2[\"ns0:MD_Metadata\"]"
   ]
  },
  {
   "cell_type": "code",
   "execution_count": 68,
   "id": "5bcd2f44-08bf-4312-afdf-c9a0b7c4c00e",
   "metadata": {},
   "outputs": [
    {
     "data": {
      "text/plain": [
       "{'xmlns:ns0': 'http://www.isotc211.org/2005/gmd',\n",
       " 'xmlns:ns1': 'http://www.isotc211.org/2005/gco',\n",
       " 'xmlns:ns2': 'http://www.opengis.net/gml/3.2',\n",
       " 'ns0:language': {'ns0:LanguageCode': {'codeList': 'http://www.loc.gov/standards/iso639-2/php/code_list.php',\n",
       "   'codeListValue': 'eng',\n",
       "   'codeSpace': 'ISO639-2',\n",
       "   'text': 'eng'}},\n",
       " 'ns0:characterSet': {'ns0:MD_CharacterSetCode': {'codeList': 'http://www.isotc211.org/2005/resources/Codelist/gmxCodelists.xml#MD_CharacterSetCode',\n",
       "   'codeListValue': 'utf8',\n",
       "   'codeSpace': 'ISOTC211/19115',\n",
       "   'text': 'utf8'}},\n",
       " 'ns0:hierarchyLevel': {'ns0:MD_ScopeCode': {'codeList': 'http://www.isotc211.org/2005/resources/Codelist/gmxCodelists.xml#MD_ScopeCode',\n",
       "   'codeListValue': 'dataset',\n",
       "   'codeSpace': 'ISOTC211/19115',\n",
       "   'text': 'dataset'}},\n",
       " 'ns0:hierarchyLevelName': {'ns1:CharacterString': 'dataset'},\n",
       " 'ns0:contact': {'ns0:CI_ResponsibleParty': {'ns0:individualName': {'ns1:CharacterString': 'My Name'},\n",
       "   'ns0:organisationName': {'ns1:CharacterString': 'Caltrans'},\n",
       "   'ns0:positionName': {'ns1:CharacterString': 'California Integrated Travel Project'},\n",
       "   'ns0:contactInfo': {'ns0:CI_Contact': {'ns0:address': {'ns0:CI_Address': {'ns0:electronicMailAddress': {'ns1:CharacterString': 'hello@calitp.org'}}}}},\n",
       "   'ns0:role': {'ns0:CI_RoleCode': {'codeList': 'http://www.isotc211.org/2005/resources/Codelist/gmxCodelists.xml#CI_RoleCode',\n",
       "     'codeListValue': 'publisher',\n",
       "     'codeSpace': 'ISOTC211/19115',\n",
       "     'text': 'publisher'}}}},\n",
       " 'ns0:dateStamp': {'ns1:Date': '2022-10-06'},\n",
       " 'ns0:metadataStandardName': {'ns1:CharacterString': 'ISO 19139 Geographic Information - Metadata - Implementation Specification'},\n",
       " 'ns0:metadataStandardVersion': {'ns1:CharacterString': '2007'},\n",
       " 'ns0:spatialRepresentationInfo': {'ns0:MD_VectorSpatialRepresentation': {'ns0:topologyLevel': {'ns0:MD_TopologyLevelCode': {'codeList': 'http://www.isotc211.org/2005/resources/Codelist/gmxCodelists.xml#MD_TopologyLevelCode',\n",
       "     'codeListValue': 'geometryOnly',\n",
       "     'codeSpace': 'ISOTC211/19115',\n",
       "     'text': 'geometryOnly'}},\n",
       "   'ns0:geometricObjects': {'ns0:MD_GeometricObjects': {'ns0:geometricObjectType': {'ns0:MD_GeometricObjectTypeCode': {'codeList': 'http://www.isotc211.org/2005/resources/Codelist/gmxCodelists.xml#MD_GeometricObjectTypeCode',\n",
       "       'codeListValue': 'composite',\n",
       "       'codeSpace': 'ISOTC211/19115',\n",
       "       'text': 'composite'}}}}}},\n",
       " 'ns0:referenceSystemInfo': {'ns0:MD_ReferenceSystem': {'ns0:referenceSystemIdentifier': {'ns0:RS_Identifier': {'ns0:code': {'ns1:CharacterString': '4326'},\n",
       "     'ns0:codeSpace': {'ns1:CharacterString': 'EPSG'},\n",
       "     'ns0:version': {'ns1:CharacterString': '6.2(3.0.1)'}}}}},\n",
       " 'ns0:identificationInfo': {'ns0:MD_DataIdentification': {'ns0:citation': {'ns0:CI_Citation': {'ns0:title': {'ns1:CharacterString': 'ca_transit_routes'},\n",
       "     'ns0:date': {'ns1:nilReason': 'missing'},\n",
       "     'ns0:presentationForm': {'ns0:CI_PresentationFormCode': {'codeList': 'http://www.isotc211.org/2005/resources/Codelist/gmxCodelists.xml#CI_PresentationFormCode',\n",
       "       'codeListValue': 'mapDigital',\n",
       "       'codeSpace': 'ISOTC211/19115',\n",
       "       'text': 'mapDigital'}}}},\n",
       "   'ns0:abstract': {'ns1:CharacterString': 'Description.'},\n",
       "   'ns0:purpose': {'ns1:CharacterString': 'Purpose.'},\n",
       "   'ns0:descriptiveKeywords': {'ns0:MD_Keywords': {'ns0:keyword': {'ns1:CharacterString': 'Downloadable Data'},\n",
       "     'ns0:thesaurusName': {'uuidref': '723f6998-058e-11dc-8314-0800200c9a66'}}},\n",
       "   'ns0:spatialRepresentationType': {'ns0:MD_SpatialRepresentationTypeCode': {'codeList': 'http://www.isotc211.org/2005/resources/Codelist/gmxCodelists.xml#MD_SpatialRepresentationTypeCode',\n",
       "     'codeListValue': 'vector',\n",
       "     'codeSpace': 'ISOTC211/19115',\n",
       "     'text': 'vector'}},\n",
       "   'ns0:language': {'ns0:LanguageCode': {'codeList': 'http://www.loc.gov/standards/iso639-2/php/code_list.php',\n",
       "     'codeListValue': 'eng',\n",
       "     'codeSpace': 'ISO639-2',\n",
       "     'text': 'eng'}},\n",
       "   'ns0:characterSet': {'ns0:MD_CharacterSetCode': {'codeList': 'http://www.isotc211.org/2005/resources/Codelist/gmxCodelists.xml#MD_CharacterSetCode',\n",
       "     'codeListValue': 'utf8',\n",
       "     'codeSpace': 'ISOTC211/19115',\n",
       "     'text': 'utf8'}},\n",
       "   'ns0:environmentDescription': {'ns1:CharacterString': 'Microsoft Windows 10 Version 10.0 (Build 19042) ; Esri ArcGIS 12.9.2.32739'}}},\n",
       " 'ns0:distributionInfo': {'ns0:MD_Distribution': {'ns0:distributionFormat': {'ns0:MD_Format': {'ns0:name': {'ns1:CharacterString': 'File Geodatabase Feature Class'},\n",
       "     'ns0:version': {'ns1:nilReason': 'missing'}}}}},\n",
       " 'ns0:dataQualityInfo': {'ns0:DQ_DataQuality': {'ns0:scope': {'ns1:nilReason': 'missing'},\n",
       "   'ns0:report': {'ns0:DQ_RelativeInternalPositionalAccuracy': {'ns0:measureDescription': {'ns1:CharacterString': '4 meters'},\n",
       "     'ns0:result': {'ns1:nilReason': 'missing'}}},\n",
       "   'ns0:lineage': {'ns0:LI_Lineage': {'ns0:processStep': {'ns0:LI_ProcessStep': {'ns0:description': {'ns1:CharacterString': 'Methodology.'}}}}}}}}"
      ]
     },
     "execution_count": 68,
     "metadata": {},
     "output_type": "execute_result"
    }
   ],
   "source": [
    "(default3\n",
    ")"
   ]
  },
  {
   "cell_type": "code",
   "execution_count": 36,
   "id": "34b2c459-0d57-4199-acaf-0c89d6240f9f",
   "metadata": {},
   "outputs": [],
   "source": [
    "#default3"
   ]
  },
  {
   "cell_type": "code",
   "execution_count": 37,
   "id": "ec373b98-f7a9-49e5-93d5-76a254aa9dbe",
   "metadata": {},
   "outputs": [],
   "source": [
    "#(default3[\"ns0:identificationInfo\"][\"ns0:MD_DataIdentification\"]\n",
    "#)"
   ]
  },
  {
   "cell_type": "code",
   "execution_count": null,
   "id": "39e6e13f-a7a1-4a07-b42d-b0165a35fbd5",
   "metadata": {},
   "outputs": [],
   "source": [
    "def overwrite_metadata_json(metadata_json: dict, dataset_info: dict) -> dict:\n",
    "    d = dataset_info\n",
    "    new_metadata = metadata_json.copy()\n",
    "    \n",
    "    # This prefix keeps coming up, but xmltodict has trouble processing or replacing it\n",
    "    x = \"ns0:\"\n",
    "    # This is how most values are keyed in for last dict\n",
    "    key = \"ns1:CharacterString\"\n",
    "    \n",
    "    m = new_metadata[f\"{x}MD_Metadata\"]\n",
    "    \n",
    "    ## Identification Info\n",
    "    id_info = m[f\"{x}identificationInfo\"][f\"{x}MD_DataIdentification\"]\n",
    "    \n",
    "    id_info[f\"{x}citation\"][f\"{x}CI_Citation\"][f\"{x}title\"][key] = d[\"dataset_name\"]\n",
    "    id_info[f\"{x}abstract\"][key] = d[\"abstract\"]\n",
    "    id_info[f\"{x}purpose\"][key] = d[\"purpose\"]\n",
    "\n",
    "    \n",
    "    ## Contact info\n",
    "    contact_info = m[f\"{x}contact\"][f\"{x}CI_ResponsibleParty\"]\n",
    "    \n",
    "    contact_info[f\"{x}positionName\"][key] = d[\"publish_entity\"]\n",
    "    contact_info[f\"{x}organisationName\"][key] = d[\"contact_organization\"]\n",
    "    contact_info[f\"{x}individualName\"][key] = d[\"contact_person\"]\n",
    "    \n",
    "    (contact_info[f\"{x}contactInfo\"][f\"{x}contactInfo\"]\n",
    "     [f\"{x}CI_Contact\"][f\"{x}address\"][f\"{x}CI_Address\"]\n",
    "     [f\"{x}electronicMailAddress\"][key]) =  d[\"contact_email\"] \n",
    "    \n",
    "    ## Data Quality\n",
    "    data_qual_info = m[f\"{x}dataQualityInfo\"][f\"{x}DQ_DataQuality\"]\n",
    "    (data_qual_info[f\"{x}report\"][f\"{x}DQ_RelativeInternalPositionalAccuracy\"]\n",
    "     [f\"{x}measureDescription\"][key]) = d[\"horiz_accuracy\"]\n",
    "    \n",
    "    (data_qual_info[f\"{x}lineage\"][f\"{x}LI_Lineage\"]\n",
    "     [f\"{x}processStep\"][f\"{x}LI_ProcessStep\"]\n",
    "     [f\"{x}description\"][key]) = d[\"methodology\"]\n",
    "    \n",
    "    ## Need edition and resource contact added to be approved \n",
    "    # Add edition \n",
    "    # Use number instead of date (shows up when exported in FGDC)\n",
    "    NEW_EDITION = validation.check_edition_add_one(m)\n",
    "    m[\"idinfo\"][\"citation\"][\"citeinfo\"][\"edition\"] = NEW_EDITION\n",
    "        \n",
    "    m[\"idinfo\"][\"timeperd\"][\"timeinfo\"][\"rngdates\"][\"begdate\"] = d[\"beginning_date\"]\n",
    "    m[\"idinfo\"][\"timeperd\"][\"timeinfo\"][\"rngdates\"][\"enddate\"] = d[\"end_date\"]\n",
    "    m[\"idinfo\"][\"timeperd\"][\"current\"] = d[\"place\"]\n",
    "    \n",
    "    m[\"idinfo\"][\"status\"][\"progress\"] = d[\"status\"]\n",
    "    m[\"idinfo\"][\"status\"][\"update\"] = d[\"frequency\"]\n",
    "\n",
    "    m[\"idinfo\"][\"keywords\"] = d[\"theme_topics\"]    \n",
    "\n",
    "    m[\"idinfo\"][\"ptcontac\"][\"cntinfo\"][\"cntpos\"] = d[\"publish_entity\"]\n",
    "        \n",
    "    m[\"eainfo\"][\"detailed\"][\"enttyp\"][\"enttypl\"] = d[\"dataset_name\"]    \n",
    "    m[\"eainfo\"][\"detailed\"][\"enttyp\"][\"enttypd\"] = d[\"data_dict_type\"]    \n",
    "    m[\"eainfo\"][\"detailed\"][\"enttyp\"][\"enttypds\"] = d[\"data_dict_url\"]    \n",
    "  \n",
    "    m[\"metainfo\"][\"metc\"][\"cntinfo\"][\"cntorgp\"][\"cntorg\"] = d[\"contact_organization\"]    \n",
    "    m[\"metainfo\"][\"metc\"][\"cntinfo\"][\"cntorgp\"][\"cntper\"] = d[\"contact_person\"]    \n",
    "    m[\"metainfo\"][\"metc\"][\"cntinfo\"][\"cntpos\"] = d[\"publish_entity\"]    \n",
    "    m[\"metainfo\"][\"metc\"][\"cntinfo\"][\"cntemail\"] = d[\"contact_email\"]    \n",
    "    \n",
    "    return new_metadata \n"
   ]
  }
 ],
 "metadata": {
  "kernelspec": {
   "display_name": "Python 3 (ipykernel)",
   "language": "python",
   "name": "python3"
  },
  "language_info": {
   "codemirror_mode": {
    "name": "ipython",
    "version": 3
   },
   "file_extension": ".py",
   "mimetype": "text/x-python",
   "name": "python",
   "nbconvert_exporter": "python",
   "pygments_lexer": "ipython3",
   "version": "3.10.5"
  }
 },
 "nbformat": 4,
 "nbformat_minor": 5
}
