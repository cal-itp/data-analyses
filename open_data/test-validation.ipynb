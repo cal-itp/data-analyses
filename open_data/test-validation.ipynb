{
 "cells": [
  {
   "cell_type": "code",
   "execution_count": 1,
   "id": "1023525a-e5a1-4f27-ab0b-c128575f0f3e",
   "metadata": {},
   "outputs": [
    {
     "name": "stderr",
     "output_type": "stream",
     "text": [
      "/opt/conda/lib/python3.10/site-packages/geopandas/_compat.py:112: UserWarning: The Shapely GEOS version (3.10.3-CAPI-1.16.1) is incompatible with the GEOS version PyGEOS was compiled with (3.10.1-CAPI-1.16.0). Conversions between both will be slow.\n"
     ]
    }
   ],
   "source": [
    "import os\n",
    "import pandas as pd\n",
    "import xml.etree.ElementTree as ET\n",
    "import xmltodict\n",
    "\n",
    "from pydantic import BaseModel\n",
    "from typing import List, Dict\n",
    "\n",
    "import validation \n",
    "\n",
    "METADATA_FOLDER = \"metadata_xml/\""
   ]
  },
  {
   "cell_type": "code",
   "execution_count": 2,
   "id": "1f1a8aed-c332-4c9c-ae61-dabdeb467eae",
   "metadata": {},
   "outputs": [
    {
     "name": "stdout",
     "output_type": "stream",
     "text": [
      "Loading XML as JSON from ./metadata_xml/default_pro.xml\n"
     ]
    }
   ],
   "source": [
    "import metadata_update_desktop\n",
    "\n",
    "DEFAULT_XML = f\"./{METADATA_FOLDER}default_pro.xml\"\n",
    "default_template = metadata_update_desktop.xml_to_json(DEFAULT_XML)"
   ]
  },
  {
   "cell_type": "markdown",
   "id": "bc254eed-a1b9-44eb-999c-f3e553f38761",
   "metadata": {},
   "source": [
    "Reminder to check out `uuidref`...if we keep lifting template, we would copy this part over.\n",
    "```\n",
    "default2 = default_template[\"ns0:MD_Metadata\"]\n",
    "(default2[\"ns0:identificationInfo\"]\n",
    " [\"ns0:MD_DataIdentification\"][\"ns0:descriptiveKeywords\"][0][\"ns0:MD_Keywords\"][\"ns0:thesaurusName\"]\n",
    ")\n",
    "```"
   ]
  },
  {
   "cell_type": "code",
   "execution_count": 5,
   "id": "629e3a2c-c611-4d96-bf0a-9e14c4325842",
   "metadata": {},
   "outputs": [
    {
     "name": "stdout",
     "output_type": "stream",
     "text": [
      "Loading XML as JSON from ./ca_transit_routes.xml\n"
     ]
    }
   ],
   "source": [
    "XML_FILE = f\"./ca_transit_routes.xml\"\n",
    "esri_metadata = metadata_update_desktop.xml_to_json(XML_FILE)"
   ]
  },
  {
   "cell_type": "code",
   "execution_count": 6,
   "id": "e727ef1f-d5a6-42b0-bc8c-af9870a6b077",
   "metadata": {},
   "outputs": [],
   "source": [
    "def lift_necessary_dataset_elements(metadata_json: dict) -> dict:\n",
    "    \n",
    "    m = metadata_json[\"ns0:MD_Metadata\"]\n",
    "    \n",
    "    # This namespace prefix is used a lot\n",
    "    x = \"ns0:\"\n",
    "    \n",
    "    # Store this info in a dictionary\n",
    "    d = {}\n",
    "        \n",
    "    # Date Stamp\n",
    "    d[f\"{x}dateStamp\"] = m[f\"{x}dateStamp\"] \n",
    "    \n",
    "    # Spatial Representation Info\n",
    "    d[f\"{x}spatialRepresentationInfo\"] = m[f\"{x}spatialRepresentationInfo\"] \n",
    "   \n",
    "    # Coordinate Reference System Info\n",
    "    d[f\"{x}referenceSystemInfo\"] = m[f\"{x}referenceSystemInfo\"] \n",
    "    \n",
    "    # Distribution Info\n",
    "    d[f\"{x}distributionInfo\"] = m[f\"{x}distributionInfo\"]   \n",
    "    \n",
    "    return d"
   ]
  },
  {
   "cell_type": "code",
   "execution_count": 7,
   "id": "ab8b788c-5321-4c7b-bf94-c69822c48f51",
   "metadata": {},
   "outputs": [],
   "source": [
    "def overwrite_default_with_dataset_elements(metadata_json: dict) -> dict:\n",
    "    DEFAULT_XML = f\"./{METADATA_FOLDER}default_pro.xml\"\n",
    "    default_template = metadata_update_desktop.xml_to_json(DEFAULT_XML)\n",
    "    default = default_template[\"ns0:MD_Metadata\"]\n",
    "    \n",
    "    # Grab the necessary elements from my dataset\n",
    "    necessary_elements = lift_necessary_dataset_elements(metadata_json)\n",
    "    \n",
    "    # Overwrite it in the default template\n",
    "    for key, value in default.items():\n",
    "        if key in necessary_elements.keys():\n",
    "            default[key] = necessary_elements[key] \n",
    "        else:\n",
    "            default[key] = default[key]\n",
    "            \n",
    "    # Return the default template, but now with our dataset's info populated\n",
    "    return default_template"
   ]
  },
  {
   "cell_type": "code",
   "execution_count": 8,
   "id": "dfca7f8e-3ca6-43ef-a198-4d3a16b8bae5",
   "metadata": {},
   "outputs": [
    {
     "name": "stdout",
     "output_type": "stream",
     "text": [
      "Loading XML as JSON from ./metadata_xml/default_pro.xml\n"
     ]
    }
   ],
   "source": [
    "esri2 = overwrite_default_with_dataset_elements(esri_metadata)"
   ]
  },
  {
   "cell_type": "markdown",
   "id": "169d2132-908b-4788-8089-cf1f527d92f9",
   "metadata": {},
   "source": [
    "\n",
    "### Now find all instances where what's inputted in BaseModel is used"
   ]
  },
  {
   "cell_type": "code",
   "execution_count": null,
   "id": "f2835618-9309-45a5-ac9d-5f22bc775fa1",
   "metadata": {},
   "outputs": [],
   "source": [
    "class metadata_input(BaseModel):\n",
    "    beginning_date: str\n",
    "    end_date: str\n",
    "    place: str = \"California\"\n",
    "    status: str = \"Complete\"\n",
    "    frequency: str = \"Monthly\"\n",
    "    theme_topics: Dict\n",
    "    data_dict_type: str\n",
    "    data_dict_url: str"
   ]
  },
  {
   "cell_type": "code",
   "execution_count": 88,
   "id": "404f9dd1-4afd-4dcf-9ac1-64878b0e0fd7",
   "metadata": {},
   "outputs": [
    {
     "data": {
      "text/plain": [
       "list"
      ]
     },
     "execution_count": 88,
     "metadata": {},
     "output_type": "execute_result"
    }
   ],
   "source": [
    "esri3 = esri2[\"ns0:MD_Metadata\"]\n",
    "x=\"ns0:\"\n",
    "\n",
    "(esri3[\"ns0:identificationInfo\"][\"ns0:MD_DataIdentification\"]\n",
    " [\"ns0:descriptiveKeywords\"][1][\"ns0:MD_Keywords\"]\n",
    " [\"ns0:keyword\"]\n",
    ")\n"
   ]
  },
  {
   "cell_type": "code",
   "execution_count": 76,
   "id": "f0301d57-fbd9-4f75-9d4f-dc0ce0275346",
   "metadata": {},
   "outputs": [],
   "source": [
    "# Add to class BaseModel\n",
    "topic = \"transportation\""
   ]
  },
  {
   "cell_type": "code",
   "execution_count": 84,
   "id": "59a3f682-8a92-4568-8256-a771f6ef6033",
   "metadata": {},
   "outputs": [],
   "source": [
    "keyword_list = fill_in_keyword_list(my_list)"
   ]
  },
  {
   "cell_type": "code",
   "execution_count": 80,
   "id": "c2531690-6417-4ffe-ad03-14a53f841479",
   "metadata": {},
   "outputs": [],
   "source": [
    "def fill_in_keyword_list(keyword_list: list = []) -> list[dict]:\n",
    "    if len(keyword_list) >= 5:\n",
    "        filled_out_list =  [{\"ns1:CharacterString\": i} for i in keyword_list]\n",
    "        return filled_out_list\n",
    "    else:\n",
    "        return \"Input minimum 5 keywords\""
   ]
  },
  {
   "cell_type": "code",
   "execution_count": 20,
   "id": "34b2c459-0d57-4199-acaf-0c89d6240f9f",
   "metadata": {},
   "outputs": [
    {
     "data": {
      "text/plain": [
       "dict_keys(['xmlns:ns0', 'xmlns:ns1', 'xmlns:ns2', 'ns0:language', 'ns0:characterSet', 'ns0:hierarchyLevel', 'ns0:hierarchyLevelName', 'ns0:contact', 'ns0:dateStamp', 'ns0:metadataStandardName', 'ns0:metadataStandardVersion', 'ns0:spatialRepresentationInfo', 'ns0:referenceSystemInfo', 'ns0:identificationInfo', 'ns0:distributionInfo', 'ns0:dataQualityInfo'])"
      ]
     },
     "execution_count": 20,
     "metadata": {},
     "output_type": "execute_result"
    }
   ],
   "source": [
    "esri3.keys()"
   ]
  },
  {
   "cell_type": "code",
   "execution_count": null,
   "id": "ec373b98-f7a9-49e5-93d5-76a254aa9dbe",
   "metadata": {},
   "outputs": [],
   "source": [
    "#(esri3[\"ns0:identificationInfo\"][\"ns0:MD_DataIdentification\"]\n",
    "#)"
   ]
  },
  {
   "cell_type": "code",
   "execution_count": 90,
   "id": "39e6e13f-a7a1-4a07-b42d-b0165a35fbd5",
   "metadata": {},
   "outputs": [
    {
     "ename": "IndentationError",
     "evalue": "unindent does not match any outer indentation level (<tokenize>, line 18)",
     "output_type": "error",
     "traceback": [
      "\u001b[0;36m  File \u001b[0;32m<tokenize>:18\u001b[0;36m\u001b[0m\n\u001b[0;31m    [\"ns0:descriptiveKeywords\"][1][\"ns0:MD_Keywords\"]\u001b[0m\n\u001b[0m    ^\u001b[0m\n\u001b[0;31mIndentationError\u001b[0m\u001b[0;31m:\u001b[0m unindent does not match any outer indentation level\n"
     ]
    }
   ],
   "source": [
    "def overwrite_metadata_json(metadata_json: dict, dataset_info: dict) -> dict:\n",
    "    d = dataset_info\n",
    "    new_metadata = metadata_json.copy()\n",
    "    \n",
    "    # This prefix keeps coming up, but xmltodict has trouble processing or replacing it\n",
    "    x = \"ns0:\"\n",
    "    # This is how most values are keyed in for last dict\n",
    "    key = \"ns1:CharacterString\"\n",
    "    \n",
    "    m = new_metadata[f\"{x}MD_Metadata\"]\n",
    "    \n",
    "    ## Identification Info\n",
    "    id_info = m[f\"{x}identificationInfo\"][f\"{x}MD_DataIdentification\"]\n",
    "    id_info[f\"{x}abstract\"][key] = d[\"abstract\"]\n",
    "    id_info[f\"{x}purpose\"][key] = d[\"purpose\"]\n",
    "    (id_info[f\"{x}descriptiveKeywords\"][1]\n",
    "     [f\"{x}MD_Keywords\"][f\"{x}keyword\"]) = d[\"theme_keywords\"]\n",
    "    \n",
    "\n",
    "    \n",
    "    citation_info = id_info[f\"{x}citation\"][f\"{x}CI_Citation\"]\n",
    "    citation_info[f\"{x}title\"][key] = d[\"dataset_name\"]\n",
    "    citation_info[f\"{x}date\"][f\"{x}CI_Date\"][f\"{x}date\"][\"ns1:Date\"] = d[\"beginning_date\"]\n",
    "    \n",
    "    status_info = id_info[f\"{x}status\"][f\"{x}MD_ProgressCode\"]\n",
    "    status_info[\"codeListValue\"] = d[\"status\"]\n",
    "    status_info[\"text\"] = d[\"status\"]\n",
    "    \n",
    "    maint_info = id_info[f\"{x}resourceMaintenance\"][f\"{x}MD_MaintenanceInformation\"]\n",
    "    \n",
    "    (maint_info[f\"{x}maintenanceAndUpdateFrequency\"]\n",
    "     [f\"{x}MD_MaintenanceFrequencyCode\"][\"codeListValue\"]) = d[\"frequency\"]\n",
    "    (maint_info[f\"{x}maintenanceAndUpdateFrequency\"]\n",
    "     [f\"{x}MD_MaintenanceFrequencyCode\"][\"text\"]) = d[\"frequency\"]\n",
    "    maint_info[f\"{x}dateOfNextUpdate\"][\"ns1:Date\"] = d[\"end_date\"]\n",
    "    \n",
    "    ## Contact Info\n",
    "    contact_info = m[f\"{x}contact\"][f\"{x}CI_ResponsibleParty\"]\n",
    "    \n",
    "    contact_info[f\"{x}positionName\"][key] = d[\"publish_entity\"]\n",
    "    contact_info[f\"{x}organisationName\"][key] = d[\"contact_organization\"]\n",
    "    contact_info[f\"{x}individualName\"][key] = d[\"contact_person\"]\n",
    "    \n",
    "    (contact_info[f\"{x}contactInfo\"][f\"{x}contactInfo\"]\n",
    "     [f\"{x}CI_Contact\"][f\"{x}address\"][f\"{x}CI_Address\"]\n",
    "     [f\"{x}electronicMailAddress\"][key]) =  d[\"contact_email\"] \n",
    "    \n",
    "    ## Data Quality\n",
    "    data_qual_info = m[f\"{x}dataQualityInfo\"][f\"{x}DQ_DataQuality\"]\n",
    "    (data_qual_info[f\"{x}report\"][f\"{x}DQ_RelativeInternalPositionalAccuracy\"]\n",
    "     [f\"{x}measureDescription\"][key]) = d[\"horiz_accuracy\"]\n",
    "    \n",
    "    (data_qual_info[f\"{x}lineage\"][f\"{x}LI_Lineage\"]\n",
    "     [f\"{x}processStep\"][f\"{x}LI_ProcessStep\"]\n",
    "     [f\"{x}description\"][key]) = d[\"methodology\"]\n",
    "    \n",
    "    ## Need edition and resource contact added to be approved \n",
    "    # Add edition \n",
    "    # Use number instead of date (shows up when exported in FGDC)\n",
    "    NEW_EDITION = validation.check_edition_add_one(m)\n",
    "    m[\"idinfo\"][\"citation\"][\"citeinfo\"][\"edition\"] = NEW_EDITION\n",
    "        \n",
    "    m[\"idinfo\"][\"timeperd\"][\"current\"] = d[\"place\"]\n",
    "    \n",
    "    m[\"idinfo\"][\"keywords\"] = d[\"theme_topics\"]    \n",
    "\n",
    "    m[\"idinfo\"][\"ptcontac\"][\"cntinfo\"][\"cntpos\"] = d[\"publish_entity\"]\n",
    "        \n",
    "    m[\"eainfo\"][\"detailed\"][\"enttyp\"][\"enttypl\"] = d[\"dataset_name\"]    \n",
    "    m[\"eainfo\"][\"detailed\"][\"enttyp\"][\"enttypd\"] = d[\"data_dict_type\"]    \n",
    "    m[\"eainfo\"][\"detailed\"][\"enttyp\"][\"enttypds\"] = d[\"data_dict_url\"]    \n",
    "  \n",
    "    m[\"metainfo\"][\"metc\"][\"cntinfo\"][\"cntorgp\"][\"cntorg\"] = d[\"contact_organization\"]    \n",
    "    m[\"metainfo\"][\"metc\"][\"cntinfo\"][\"cntorgp\"][\"cntper\"] = d[\"contact_person\"]    \n",
    "    m[\"metainfo\"][\"metc\"][\"cntinfo\"][\"cntpos\"] = d[\"publish_entity\"]    \n",
    "    m[\"metainfo\"][\"metc\"][\"cntinfo\"][\"cntemail\"] = d[\"contact_email\"]    \n",
    "    \n",
    "    return new_metadata \n"
   ]
  },
  {
   "cell_type": "code",
   "execution_count": null,
   "id": "cb5df558-a9d5-4500-88d9-88b676d9f425",
   "metadata": {},
   "outputs": [],
   "source": []
  },
  {
   "cell_type": "code",
   "execution_count": null,
   "id": "3e09a2d7-74e8-4247-9c6b-6adcf0389d15",
   "metadata": {},
   "outputs": [],
   "source": []
  }
 ],
 "metadata": {
  "kernelspec": {
   "display_name": "Python 3 (ipykernel)",
   "language": "python",
   "name": "python3"
  },
  "language_info": {
   "codemirror_mode": {
    "name": "ipython",
    "version": 3
   },
   "file_extension": ".py",
   "mimetype": "text/x-python",
   "name": "python",
   "nbconvert_exporter": "python",
   "pygments_lexer": "ipython3",
   "version": "3.10.5"
  }
 },
 "nbformat": 4,
 "nbformat_minor": 5
}
