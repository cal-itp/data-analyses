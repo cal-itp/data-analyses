{
 "cells": [
  {
   "cell_type": "code",
   "execution_count": null,
   "id": "1023525a-e5a1-4f27-ab0b-c128575f0f3e",
   "metadata": {},
   "outputs": [],
   "source": [
    "import os\n",
    "import pandas as pd\n",
    "import xml.etree.ElementTree as ET\n",
    "import xmltodict\n",
    "\n",
    "from pydantic import BaseModel\n",
    "from typing import List, Dict\n",
    "\n",
    "import metadata_update_pro\n",
    "import validation_pro \n",
    "\n",
    "METADATA_FOLDER = \"metadata_xml/\""
   ]
  },
  {
   "cell_type": "markdown",
   "id": "bc254eed-a1b9-44eb-999c-f3e553f38761",
   "metadata": {},
   "source": [
    "Reminder to check out `uuidref`...if we keep lifting template, we would copy this part over.\n",
    "```\n",
    "default2 = default_template[\"ns0:MD_Metadata\"]\n",
    "(default2[\"ns0:identificationInfo\"]\n",
    " [\"ns0:MD_DataIdentification\"][\"ns0:descriptiveKeywords\"][0][\"ns0:MD_Keywords\"][\"ns0:thesaurusName\"]\n",
    ")\n",
    "```"
   ]
  },
  {
   "cell_type": "code",
   "execution_count": null,
   "id": "629e3a2c-c611-4d96-bf0a-9e14c4325842",
   "metadata": {},
   "outputs": [],
   "source": [
    "# second run onward....having trouble key in\n",
    "#https://stackoverflow.com/questions/58763774/cannot-parse-json-to-xml-using-xmltodict-unparse-when-converting-json-list\n",
    "XML_FILE = \"./ca_transit_routes.xml\"\n",
    "esri_metadata = metadata_update_pro.xml_to_json(XML_FILE)"
   ]
  },
  {
   "cell_type": "markdown",
   "id": "169d2132-908b-4788-8089-cf1f527d92f9",
   "metadata": {},
   "source": [
    "\n",
    "### Now find all instances where what's inputted in BaseModel is used"
   ]
  },
  {
   "cell_type": "code",
   "execution_count": null,
   "id": "2845aadc-f429-4444-afd4-488f0f9327d6",
   "metadata": {},
   "outputs": [],
   "source": [
    "ROUTES_DICT = {\n",
    "    \"dataset_name\": \"ca_transit_routes\", \n",
    "    \"publish_entity\": \"California Integrated Travel Project\", \n",
    "\n",
    "    \"abstract\": \"Public. EPSG: 4326\",\n",
    "    \"purpose\": \"my purpose\", # purpose, also repeat for description?\n",
    "\n",
    "    \"beginning_date\": \"2022/09/14\",\n",
    "    \"end_date\": \"2022-10-14\",\n",
    "    \"place\": \"California\",\n",
    "    \"edition\": '2',\n",
    "    \n",
    "    \"status\": \"completed\", \n",
    "    \"frequency\": \"monthly\",\n",
    "    \n",
    "    \"theme_keywords\": [\"1\", \"2\", \"3\", \"4\", \"5\"], #tags\n",
    "\n",
    "    \"methodology\": \"this is my methodology\", \n",
    "    \"contact_organization\": \"Caltrans\", \n",
    "    \"contact_person\": \"Tiffany Chu\", \n",
    "    \"contact_email\": \"tiffany.chu@dot.ca.gov\",\n",
    "    \n",
    "    \"horiz_accuracy\": \"4 meters\",\n",
    "}\n"
   ]
  },
  {
   "cell_type": "code",
   "execution_count": null,
   "id": "ce53d852-a2e0-4596-a89b-a3fe019349f9",
   "metadata": {},
   "outputs": [],
   "source": [
    "updated_meta = metadata_update_pro.overwrite_metadata_json(esri2, DATASET_INFO_VALIDATED)"
   ]
  },
  {
   "cell_type": "code",
   "execution_count": null,
   "id": "cfd76cc6-40e8-4f73-bf3b-cf0e838ebc63",
   "metadata": {},
   "outputs": [],
   "source": [
    "updated_meta"
   ]
  },
  {
   "cell_type": "code",
   "execution_count": 1,
   "id": "6db5ed22-f10d-4087-b2e0-fe65390a4a72",
   "metadata": {},
   "outputs": [
    {
     "name": "stderr",
     "output_type": "stream",
     "text": [
      "/opt/conda/lib/python3.10/site-packages/geopandas/_compat.py:112: UserWarning: The Shapely GEOS version (3.10.3-CAPI-1.16.1) is incompatible with the GEOS version PyGEOS was compiled with (3.10.1-CAPI-1.16.0). Conversions between both will be slow.\n"
     ]
    }
   ],
   "source": [
    "import os\n",
    "\n",
    "import metadata_update_pro\n",
    "from gcs_to_esri import remove_zipped_shapefiles\n",
    "\n",
    "# Import various dictionaries\n",
    "import hqta\n",
    "import traffic_ops"
   ]
  },
  {
   "cell_type": "code",
   "execution_count": 3,
   "id": "d4566afb-5789-4d74-98f1-0472b340a7f0",
   "metadata": {},
   "outputs": [],
   "source": [
    "ROUTES_DICT2 = {\n",
    "    \"dataset_name\": \"ca_transit_routes\", \n",
    "    \"publish_entity\": \"California Integrated Travel Project\", \n",
    "\n",
    "    \"abstract\": \"Public. EPSG: 4326\",\n",
    "    \"purpose\": \"my purpose\", # purpose, also repeat for description?\n",
    "\n",
    "    \"beginning_date\": \"2022/09/14\",\n",
    "    \"end_date\": \"2022-10-14\",\n",
    "    \"place\": \"California\",\n",
    "    \"edition\": '2',\n",
    "    \n",
    "    \"status\": \"completed\", \n",
    "    \"frequency\": \"monthly\",\n",
    "    \n",
    "    \"theme_keywords\": [\"1\", \"2\", \"3\", \"4\", \"5\"], #tags\n",
    "\n",
    "    \"methodology\": \"this is my methodology\", \n",
    "    \"contact_organization\": \"Caltrans\", \n",
    "    \"contact_person\": \"Tiffany Chu\", \n",
    "    \"contact_email\": \"tiffany.chu@dot.ca.gov\",\n",
    "    \n",
    "    \"horiz_accuracy\": \"4 meters\",\n",
    "}\n"
   ]
  },
  {
   "cell_type": "code",
   "execution_count": 4,
   "id": "1a5500a5-e5d3-4487-a50b-d3597b50ee18",
   "metadata": {},
   "outputs": [
    {
     "name": "stdout",
     "output_type": "stream",
     "text": [
      "transit_routes\n",
      "-------------------------------------------\n",
      "Loading XML as JSON from ./metadata_xml/ca_transit_routes.xml\n",
      "Read in XML as JSON\n",
      "Skip default template.\n",
      "Overwrite JSON using dict\n",
      "Convert JSON back to XML\n",
      "Save over existing XML\n"
     ]
    }
   ],
   "source": [
    "OPEN_DATA = {\n",
    "\n",
    "    \"transit_routes\": {\n",
    "        \"path\": \"./metadata_xml/ca_transit_routes.xml\",\n",
    "        \"metadata_dict\": ROUTES_DICT2,\n",
    "    },\n",
    "}\n",
    "\n",
    "RUN_ME = [\n",
    "    \"transit_routes\",\n",
    "]\n",
    "\n",
    "for name, dataset in OPEN_DATA.items():\n",
    "    if name in RUN_ME:\n",
    "        print(name)\n",
    "        print(\"-------------------------------------------\")\n",
    "        metadata_update_pro.update_metadata_xml(dataset[\"path\"], \n",
    "                                            dataset[\"metadata_dict\"], \n",
    "                                            first_run=False)"
   ]
  },
  {
   "cell_type": "code",
   "execution_count": null,
   "id": "ed936796-8ca8-4f86-a250-0d9dca6dd144",
   "metadata": {},
   "outputs": [],
   "source": []
  }
 ],
 "metadata": {
  "kernelspec": {
   "display_name": "Python 3 (ipykernel)",
   "language": "python",
   "name": "python3"
  },
  "language_info": {
   "codemirror_mode": {
    "name": "ipython",
    "version": 3
   },
   "file_extension": ".py",
   "mimetype": "text/x-python",
   "name": "python",
   "nbconvert_exporter": "python",
   "pygments_lexer": "ipython3",
   "version": "3.10.6"
  }
 },
 "nbformat": 4,
 "nbformat_minor": 5
}
