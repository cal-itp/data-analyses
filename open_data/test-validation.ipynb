{
 "cells": [
  {
   "cell_type": "code",
   "execution_count": 1,
   "id": "1023525a-e5a1-4f27-ab0b-c128575f0f3e",
   "metadata": {},
   "outputs": [
    {
     "name": "stderr",
     "output_type": "stream",
     "text": [
      "/opt/conda/lib/python3.10/site-packages/geopandas/_compat.py:112: UserWarning: The Shapely GEOS version (3.10.3-CAPI-1.16.1) is incompatible with the GEOS version PyGEOS was compiled with (3.10.1-CAPI-1.16.0). Conversions between both will be slow.\n"
     ]
    }
   ],
   "source": [
    "import os\n",
    "import pandas as pd\n",
    "import xml.etree.ElementTree as ET\n",
    "import xmltodict\n",
    "\n",
    "from pydantic import BaseModel\n",
    "from typing import List, Dict\n",
    "\n",
    "import validation \n",
    "\n",
    "METADATA_FOLDER = \"metadata_xml/\""
   ]
  },
  {
   "cell_type": "code",
   "execution_count": 2,
   "id": "1f1a8aed-c332-4c9c-ae61-dabdeb467eae",
   "metadata": {},
   "outputs": [
    {
     "name": "stdout",
     "output_type": "stream",
     "text": [
      "Loading XML as JSON from ./metadata_xml/default_pro.xml\n"
     ]
    }
   ],
   "source": [
    "import metadata_update_desktop\n",
    "\n",
    "DEFAULT_XML = f\"./{METADATA_FOLDER}default_pro.xml\"\n",
    "default_template = metadata_update_desktop.xml_to_json(DEFAULT_XML)"
   ]
  },
  {
   "cell_type": "code",
   "execution_count": 3,
   "id": "629e3a2c-c611-4d96-bf0a-9e14c4325842",
   "metadata": {},
   "outputs": [
    {
     "name": "stdout",
     "output_type": "stream",
     "text": [
      "Loading XML as JSON from ./ca_transit_routes.xml\n"
     ]
    }
   ],
   "source": [
    "XML_FILE = f\"./ca_transit_routes.xml\"\n",
    "esri_metadata = metadata_update_desktop.xml_to_json(XML_FILE)"
   ]
  },
  {
   "cell_type": "code",
   "execution_count": 4,
   "id": "e727ef1f-d5a6-42b0-bc8c-af9870a6b077",
   "metadata": {},
   "outputs": [],
   "source": [
    "def lift_necessary_dataset_elements(metadata_json: dict) -> dict:\n",
    "    m = metadata_json[\"ns0:MD_Metadata\"]\n",
    "    \n",
    "    # Store this info in a dictionary\n",
    "    d = {}\n",
    "        \n",
    "    # Date Stamp\n",
    "    d[\"ns0:dateStamp\"] = m[\"ns0:dateStamp\"] \n",
    "    \n",
    "    # Spatial Representation Info\n",
    "    d[\"ns0:spatialRepresentationInfo\"] = m[\"ns0:spatialRepresentationInfo\"] \n",
    "   \n",
    "    # Coordinate Reference System Info\n",
    "    d[\"ns0:referenceSystemInfo\"] = m[\"ns0:referenceSystemInfo\"] \n",
    "    \n",
    "    # Distribution Info\n",
    "    d[\"ns0:distributionInfo\"] = m[\"ns0:distributionInfo\"]   \n",
    "        \n",
    "    # Identification info\n",
    "    d[\"ns0:identificationInfo\"] = m[\"ns0:identificationInfo\"]\n",
    "    \n",
    "    return d"
   ]
  },
  {
   "cell_type": "code",
   "execution_count": 5,
   "id": "ab8b788c-5321-4c7b-bf94-c69822c48f51",
   "metadata": {},
   "outputs": [],
   "source": [
    "def overwrite_default_with_dataset_elements(metadata_json: dict) -> dict:\n",
    "    DEFAULT_XML = f\"./{METADATA_FOLDER}default_pro.xml\"\n",
    "    default_template = metadata_update_desktop.xml_to_json(DEFAULT_XML)\n",
    "    default = default_template[\"ns0:MD_Metadata\"]\n",
    "    \n",
    "    # Grab the necessary elements from my dataset\n",
    "    necessary_elements = lift_necessary_dataset_elements(metadata_json)\n",
    "    \n",
    "    # Overwrite it in the default template\n",
    "    for key, value in default.items():\n",
    "        if key in necessary_elements.keys():\n",
    "            default[key] = necessary_elements[key]     \n",
    "            \n",
    "    # Return the default template, but now with our dataset's info populated\n",
    "    return default_template"
   ]
  },
  {
   "cell_type": "code",
   "execution_count": 6,
   "id": "dfca7f8e-3ca6-43ef-a198-4d3a16b8bae5",
   "metadata": {},
   "outputs": [
    {
     "name": "stdout",
     "output_type": "stream",
     "text": [
      "Loading XML as JSON from ./metadata_xml/default_pro.xml\n"
     ]
    }
   ],
   "source": [
    "default2 = overwrite_default_with_dataset_elements(esri_metadata)"
   ]
  },
  {
   "cell_type": "markdown",
   "id": "169d2132-908b-4788-8089-cf1f527d92f9",
   "metadata": {},
   "source": [
    "### Now find all instances where what's inputted in BaseModel is used"
   ]
  },
  {
   "cell_type": "code",
   "execution_count": null,
   "id": "f2835618-9309-45a5-ac9d-5f22bc775fa1",
   "metadata": {},
   "outputs": [],
   "source": [
    "class metadata_input(BaseModel):\n",
    "    beginning_date: str\n",
    "    end_date: str\n",
    "    place: str = \"California\"\n",
    "    status: str = \"Complete\"\n",
    "    frequency: str = \"Monthly\"\n",
    "    theme_topics: Dict\n",
    "    methodology: str\n",
    "    data_dict_type: str\n",
    "    data_dict_url: str\n",
    "    contact_organization: str = \"Caltrans\"\n",
    "    contact_person: str\n",
    "    contact_email: str = \"hello@calitp.org\"\n",
    "    horiz_accuracy: str = \"4 meters\""
   ]
  },
  {
   "cell_type": "code",
   "execution_count": 7,
   "id": "8532d260-441c-4925-8354-efc58cc5cc27",
   "metadata": {},
   "outputs": [],
   "source": [
    "default3 = default2[\"ns0:MD_Metadata\"]"
   ]
  },
  {
   "cell_type": "code",
   "execution_count": 35,
   "id": "5bcd2f44-08bf-4312-afdf-c9a0b7c4c00e",
   "metadata": {},
   "outputs": [
    {
     "data": {
      "text/plain": [
       "{'ns0:individualName': {'ns1:CharacterString': 'My Name'},\n",
       " 'ns0:organisationName': {'ns1:CharacterString': 'Caltrans'},\n",
       " 'ns0:positionName': {'ns1:CharacterString': 'California Integrated Travel Project'},\n",
       " 'ns0:contactInfo': {'ns0:CI_Contact': {'ns0:address': {'ns0:CI_Address': {'ns0:electronicMailAddress': {'ns1:CharacterString': 'hello@calitp.org'}}}}},\n",
       " 'ns0:role': {'ns0:CI_RoleCode': {'codeList': 'http://www.isotc211.org/2005/resources/Codelist/gmxCodelists.xml#CI_RoleCode',\n",
       "   'codeListValue': 'publisher',\n",
       "   'codeSpace': 'ISOTC211/19115',\n",
       "   'text': 'publisher'}}}"
      ]
     },
     "execution_count": 35,
     "metadata": {},
     "output_type": "execute_result"
    }
   ],
   "source": [
    "default3[\"ns0:contact\"][\"ns0:CI_ResponsibleParty\"]"
   ]
  },
  {
   "cell_type": "code",
   "execution_count": 36,
   "id": "34b2c459-0d57-4199-acaf-0c89d6240f9f",
   "metadata": {},
   "outputs": [],
   "source": [
    "#default3"
   ]
  },
  {
   "cell_type": "code",
   "execution_count": 37,
   "id": "ec373b98-f7a9-49e5-93d5-76a254aa9dbe",
   "metadata": {},
   "outputs": [],
   "source": [
    "#(default3[\"ns0:identificationInfo\"][\"ns0:MD_DataIdentification\"]\n",
    "#)"
   ]
  },
  {
   "cell_type": "code",
   "execution_count": null,
   "id": "39e6e13f-a7a1-4a07-b42d-b0165a35fbd5",
   "metadata": {},
   "outputs": [],
   "source": [
    "def overwrite_metadata_json(metadata_json: dict, dataset_info: dict) -> dict:\n",
    "    d = dataset_info\n",
    "    new_metadata = metadata_json.copy()\n",
    "    \n",
    "    # This prefix keeps coming up, but xmltodict has trouble processing or replacing it\n",
    "    x = \"ns0:\"\n",
    "    # This is how most values are keyed in for last dict\n",
    "    key = \"ns1:CharacterString\"\n",
    "    \n",
    "    m = new_metadata[f\"{x}MD_Metadata\"]\n",
    "    \n",
    "    ## Identification Info\n",
    "    id_info = m[f\"{x}identificationInfo\"][f\"{x}MD_DataIdentification\"]\n",
    "    \n",
    "    id_info[f\"{x}citation\"][f\"{x}CI_Citation\"][f\"{x}title\"][key] = d[\"dataset_name\"]\n",
    "    id_info[f\"{x}abstract\"][key] = d[\"abstract\"]\n",
    "    id_info[f\"{x}purpose\"][key] = d[\"purpose\"]\n",
    "\n",
    "    \n",
    "    ## Contact info\n",
    "    contact_info = m[f\"{x}contact\"][\"ns0:CI_ResponsibleParty\"]\n",
    "    \n",
    "    contact_info[f\"{x}positionName\"][key] = d[\"publish_entity\"]\n",
    "    \n",
    "    ## Need edition and resource contact added to be approved \n",
    "    # Add edition \n",
    "    # Use number instead of date (shows up when exported in FGDC)\n",
    "    NEW_EDITION = validation.check_edition_add_one(m)\n",
    "    m[\"idinfo\"][\"citation\"][\"citeinfo\"][\"edition\"] = NEW_EDITION\n",
    "        \n",
    "    m[\"idinfo\"][\"timeperd\"][\"timeinfo\"][\"rngdates\"][\"begdate\"] = d[\"beginning_date\"]\n",
    "    m[\"idinfo\"][\"timeperd\"][\"timeinfo\"][\"rngdates\"][\"enddate\"] = d[\"end_date\"]\n",
    "    m[\"idinfo\"][\"timeperd\"][\"current\"] = d[\"place\"]\n",
    "    \n",
    "    m[\"idinfo\"][\"status\"][\"progress\"] = d[\"status\"]\n",
    "    m[\"idinfo\"][\"status\"][\"update\"] = d[\"frequency\"]\n",
    "\n",
    "    m[\"idinfo\"][\"keywords\"] = d[\"theme_topics\"]    \n",
    "\n",
    "    m[\"idinfo\"][\"ptcontac\"][\"cntinfo\"][\"cntorgp\"][\"cntorg\"] = d[\"contact_organization\"]\n",
    "    m[\"idinfo\"][\"ptcontac\"][\"cntinfo\"][\"cntorgp\"][\"cntper\"] = d[\"contact_person\"]\n",
    "    m[\"idinfo\"][\"ptcontac\"][\"cntinfo\"][\"cntpos\"] = d[\"publish_entity\"]\n",
    "    m[\"idinfo\"][\"ptcontac\"][\"cntinfo\"][\"cntemail\"] = d[\"contact_email\"]    \n",
    "    \n",
    "    m[\"dataqual\"][\"posacc\"][\"horizpa\"][\"horizpar\"] = d[\"horiz_accuracy\"]\n",
    "    m[\"dataqual\"][\"lineage\"][\"procstep\"][\"procdesc\"] = d[\"methodology\"]    \n",
    "    \n",
    "    m[\"eainfo\"][\"detailed\"][\"enttyp\"][\"enttypl\"] = d[\"dataset_name\"]    \n",
    "    m[\"eainfo\"][\"detailed\"][\"enttyp\"][\"enttypd\"] = d[\"data_dict_type\"]    \n",
    "    m[\"eainfo\"][\"detailed\"][\"enttyp\"][\"enttypds\"] = d[\"data_dict_url\"]    \n",
    "  \n",
    "    m[\"metainfo\"][\"metc\"][\"cntinfo\"][\"cntorgp\"][\"cntorg\"] = d[\"contact_organization\"]    \n",
    "    m[\"metainfo\"][\"metc\"][\"cntinfo\"][\"cntorgp\"][\"cntper\"] = d[\"contact_person\"]    \n",
    "    m[\"metainfo\"][\"metc\"][\"cntinfo\"][\"cntpos\"] = d[\"publish_entity\"]    \n",
    "    m[\"metainfo\"][\"metc\"][\"cntinfo\"][\"cntemail\"] = d[\"contact_email\"]    \n",
    "    \n",
    "    return new_metadata \n"
   ]
  }
 ],
 "metadata": {
  "kernelspec": {
   "display_name": "Python 3 (ipykernel)",
   "language": "python",
   "name": "python3"
  },
  "language_info": {
   "codemirror_mode": {
    "name": "ipython",
    "version": 3
   },
   "file_extension": ".py",
   "mimetype": "text/x-python",
   "name": "python",
   "nbconvert_exporter": "python",
   "pygments_lexer": "ipython3",
   "version": "3.10.5"
  }
 },
 "nbformat": 4,
 "nbformat_minor": 5
}
