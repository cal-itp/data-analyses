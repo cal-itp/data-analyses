{
 "cells": [
  {
   "cell_type": "code",
   "execution_count": 1,
   "id": "49f123a6-94a0-4ff3-af67-ab31b46afb0d",
   "metadata": {},
   "outputs": [
    {
     "name": "stderr",
     "output_type": "stream",
     "text": [
      "/opt/conda/lib/python3.9/site-packages/geopandas/_compat.py:123: UserWarning: The Shapely GEOS version (3.11.1-CAPI-1.17.1) is incompatible with the GEOS version PyGEOS was compiled with (3.10.1-CAPI-1.16.0). Conversions between both will be slow.\n",
      "  warnings.warn(\n",
      "/opt/conda/lib/python3.9/site-packages/dask_geopandas/backends.py:13: UserWarning: Shapely 2.0 is installed, but because PyGEOS is also installed, GeoPandas will still use PyGEOS by default for now. To force to use and test Shapely 2.0, you have to set the environment variable USE_PYGEOS=0. You can do this before starting the Python process, or in your code before importing geopandas:\n",
      "\n",
      "import os\n",
      "os.environ['USE_PYGEOS'] = '0'\n",
      "import geopandas\n",
      "\n",
      "In a future release, GeoPandas will switch to using Shapely by default. If you are using PyGEOS directly (calling PyGEOS functions on geometries from GeoPandas), this will then stop working and you are encouraged to migrate from PyGEOS to Shapely 2.0 (https://shapely.readthedocs.io/en/latest/migration_pygeos.html).\n",
      "  import geopandas\n"
     ]
    }
   ],
   "source": [
    "import os\n",
    "import pandas as pd\n",
    "import xml.etree.ElementTree as ET\n",
    "import xmltodict\n",
    "\n",
    "from pydantic import BaseModel\n",
    "from typing import List, Dict, Literal\n",
    "\n",
    "import validation_pro\n",
    "\n",
    "METADATA_FOLDER = \"metadata_xml/\"\n",
    "\n",
    "# This prefix keeps coming up, but xmltodict has trouble processing or replacing it\n",
    "x = \"ns0:\"\n",
    "main = f\"{x}MD_Metadata\"\n",
    "\n",
    "import metadata_update_pro"
   ]
  },
  {
   "cell_type": "code",
   "execution_count": 2,
   "id": "f5508668-d28c-4908-9c56-c227cb5609ce",
   "metadata": {},
   "outputs": [
    {
     "data": {
      "text/plain": [
       "[{'gco:CharacterString': 'Transportation'},\n",
       " {'gco:CharacterString': 'Transit'},\n",
       " {'gco:CharacterString': 'GTFS'},\n",
       " {'gco:CharacterString': 'GTFS RT'},\n",
       " {'gco:CharacterString': 'real time'},\n",
       " {'gco:CharacterString': 'speeds'},\n",
       " {'gco:CharacterString': 'vehicle positions'}]"
      ]
     },
     "execution_count": 2,
     "metadata": {},
     "output_type": "execute_result"
    }
   ],
   "source": [
    "import metadata_speeds\n",
    "\n",
    "validation_pro.fill_in_keyword_list(metadata_speeds.KEYWORDS)\n"
   ]
  },
  {
   "cell_type": "code",
   "execution_count": 3,
   "id": "2b552dcd-23a0-4332-b7f3-94c75189966c",
   "metadata": {},
   "outputs": [
    {
     "name": "stdout",
     "output_type": "stream",
     "text": [
      "Loading XML as JSON from metadata_xml/speeds_by_stop_segments.xml\n"
     ]
    }
   ],
   "source": [
    "xml_file = \"metadata_xml/speeds_by_stop_segments.xml\"\n",
    "esri_metadata = metadata_update_pro.xml_to_json(xml_file)\n"
   ]
  },
  {
   "cell_type": "code",
   "execution_count": 4,
   "id": "4cdcce64-0b9c-4c92-a0ec-7efe484281c8",
   "metadata": {},
   "outputs": [],
   "source": [
    "main = metadata_update_pro.main\n",
    "x = metadata_update_pro.x\n",
    "key = \"ns1:CharacterString\"\n",
    "key_dt = \"ns1:Date\""
   ]
  },
  {
   "cell_type": "code",
   "execution_count": 6,
   "id": "77d35cad-caa8-4d0f-9547-9b58acac40da",
   "metadata": {},
   "outputs": [
    {
     "data": {
      "text/plain": [
       "{'ns0:citation': {'ns0:CI_Citation': {'ns0:title': {'ns1:CharacterString': 'speeds_by_stop_segments'},\n",
       "   'ns0:date': {'@ns1:nilReason': 'missing'},\n",
       "   'ns0:presentationForm': {'ns0:CI_PresentationFormCode': {'@codeList': 'http://www.isotc211.org/2005/resources/Codelist/gmxCodelists.xml#CI_PresentationFormCode',\n",
       "     '@codeListValue': 'mapDigital',\n",
       "     '@codeSpace': 'ISOTC211/19115',\n",
       "     'text': 'mapDigital'}}}},\n",
       " 'ns0:abstract': {'@ns1:nilReason': 'missing'},\n",
       " 'ns0:spatialRepresentationType': {'ns0:MD_SpatialRepresentationTypeCode': {'@codeList': 'http://www.isotc211.org/2005/resources/Codelist/gmxCodelists.xml#MD_SpatialRepresentationTypeCode',\n",
       "   '@codeListValue': 'vector',\n",
       "   '@codeSpace': 'ISOTC211/19115',\n",
       "   'text': 'vector'}},\n",
       " 'ns0:language': {'ns0:LanguageCode': {'@codeList': 'http://www.loc.gov/standards/iso639-2/php/code_list.php',\n",
       "   '@codeListValue': 'eng',\n",
       "   '@codeSpace': 'ISO639-2',\n",
       "   'text': 'eng'}},\n",
       " 'ns0:characterSet': {'ns0:MD_CharacterSetCode': {'@codeList': 'http://www.isotc211.org/2005/resources/Codelist/gmxCodelists.xml#MD_CharacterSetCode',\n",
       "   '@codeListValue': 'utf8',\n",
       "   '@codeSpace': 'ISOTC211/19115',\n",
       "   'text': 'utf8'}},\n",
       " 'ns0:environmentDescription': {'ns1:CharacterString': 'Microsoft Windows 10 Version 10.0 (Build 19045) ; Esri ArcGIS 12.9.2.32739'}}"
      ]
     },
     "execution_count": 6,
     "metadata": {},
     "output_type": "execute_result"
    }
   ],
   "source": [
    "(esri_metadata[main][f\"{x}identificationInfo\"][f\"{x}MD_DataIdentification\"]\n",
    "#[f\"{x}descriptiveKeywords\"][1]\n",
    "#[f\"{x}MD_Keywords\"][\"keyword\"]\n",
    ")"
   ]
  },
  {
   "cell_type": "code",
   "execution_count": null,
   "id": "b63bec35-db58-48d1-8523-c43febe76b2f",
   "metadata": {},
   "outputs": [],
   "source": [
    "(esri_metadata[main][f\"{x}identificationInfo\"][f\"{x}MD_DataIdentification\"]\n",
    " [f\"{x}citation\"][f\"{x}CI_Citation\"]\n",
    " [f\"{x}date\"][1][f\"{x}CI_Date\"]\n",
    " [f\"{x}date\"][key_dt] \n",
    ")"
   ]
  },
  {
   "cell_type": "code",
   "execution_count": null,
   "id": "90386cac-c83a-4c5b-998a-43165aa63c48",
   "metadata": {},
   "outputs": [],
   "source": [
    "(esri_metadata[main][f\"{x}identificationInfo\"]\n",
    " [f\"{x}MD_DataIdentification\"]\n",
    " [f\"{x}resourceConstraints\"]\n",
    " [f\"{x}MD_Constraints\"]\n",
    " [f\"{x}useLimitation\"]\n",
    " [key]\n",
    ")"
   ]
  },
  {
   "cell_type": "code",
   "execution_count": null,
   "id": "989a9c9d-97c5-4350-a690-a119b182e6ce",
   "metadata": {},
   "outputs": [],
   "source": [
    "esri_metadata[main]"
   ]
  },
  {
   "cell_type": "code",
   "execution_count": null,
   "id": "a6db3940-f5d2-4163-b9df-c3aa754fc75e",
   "metadata": {},
   "outputs": [],
   "source": [
    "metadata_templated = metadata_update_pro.overwrite_default_with_dataset_elements(\n",
    "    esri_metadata)"
   ]
  },
  {
   "cell_type": "code",
   "execution_count": null,
   "id": "7116c69a-18ca-42b3-bb90-b6c64ced3c75",
   "metadata": {},
   "outputs": [],
   "source": [
    "metadata_templated"
   ]
  },
  {
   "cell_type": "code",
   "execution_count": null,
   "id": "a5cf833d-8f69-4fcd-9eae-727029a3ac48",
   "metadata": {},
   "outputs": [],
   "source": [
    "\n"
   ]
  }
 ],
 "metadata": {
  "kernelspec": {
   "display_name": "Python 3 (ipykernel)",
   "language": "python",
   "name": "python3"
  },
  "language_info": {
   "codemirror_mode": {
    "name": "ipython",
    "version": 3
   },
   "file_extension": ".py",
   "mimetype": "text/x-python",
   "name": "python",
   "nbconvert_exporter": "python",
   "pygments_lexer": "ipython3",
   "version": "3.9.13"
  }
 },
 "nbformat": 4,
 "nbformat_minor": 5
}
