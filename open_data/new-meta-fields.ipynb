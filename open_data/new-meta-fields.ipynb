{
 "cells": [
  {
   "cell_type": "code",
   "execution_count": 1,
   "id": "49f123a6-94a0-4ff3-af67-ab31b46afb0d",
   "metadata": {},
   "outputs": [
    {
     "name": "stderr",
     "output_type": "stream",
     "text": [
      "/opt/conda/lib/python3.9/site-packages/geopandas/_compat.py:123: UserWarning: The Shapely GEOS version (3.11.1-CAPI-1.17.1) is incompatible with the GEOS version PyGEOS was compiled with (3.10.1-CAPI-1.16.0). Conversions between both will be slow.\n",
      "  warnings.warn(\n",
      "/opt/conda/lib/python3.9/site-packages/dask_geopandas/backends.py:13: UserWarning: Shapely 2.0 is installed, but because PyGEOS is also installed, GeoPandas will still use PyGEOS by default for now. To force to use and test Shapely 2.0, you have to set the environment variable USE_PYGEOS=0. You can do this before starting the Python process, or in your code before importing geopandas:\n",
      "\n",
      "import os\n",
      "os.environ['USE_PYGEOS'] = '0'\n",
      "import geopandas\n",
      "\n",
      "In a future release, GeoPandas will switch to using Shapely by default. If you are using PyGEOS directly (calling PyGEOS functions on geometries from GeoPandas), this will then stop working and you are encouraged to migrate from PyGEOS to Shapely 2.0 (https://shapely.readthedocs.io/en/latest/migration_pygeos.html).\n",
      "  import geopandas\n"
     ]
    }
   ],
   "source": [
    "import os\n",
    "import pandas as pd\n",
    "import xml.etree.ElementTree as ET\n",
    "import xmltodict\n",
    "\n",
    "from pydantic import BaseModel\n",
    "from typing import List, Dict, Literal\n",
    "\n",
    "import validation_pro\n",
    "\n",
    "METADATA_FOLDER = \"metadata_xml/\"\n",
    "\n",
    "# This prefix keeps coming up, but xmltodict has trouble processing or replacing it\n",
    "x = \"ns0:\"\n",
    "main = f\"{x}MD_Metadata\"\n",
    "\n",
    "import metadata_update_pro"
   ]
  },
  {
   "cell_type": "code",
   "execution_count": 2,
   "id": "d7f87985-2827-4daa-b723-c61f9948aedc",
   "metadata": {},
   "outputs": [],
   "source": [
    "def modulereload(modulename):\n",
    "    import importlib\n",
    "    importlib.reload(modulename)"
   ]
  },
  {
   "cell_type": "code",
   "execution_count": 3,
   "id": "f5508668-d28c-4908-9c56-c227cb5609ce",
   "metadata": {},
   "outputs": [],
   "source": [
    "modulereload(validation_pro)\n",
    "import metadata_speeds\n",
    "\n",
    "new_keywords = validation_pro.fill_in_keyword_list(metadata_speeds.KEYWORDS)"
   ]
  },
  {
   "cell_type": "code",
   "execution_count": 14,
   "id": "2b552dcd-23a0-4332-b7f3-94c75189966c",
   "metadata": {},
   "outputs": [
    {
     "name": "stdout",
     "output_type": "stream",
     "text": [
      "Loading XML as JSON from metadata_xml/default_pro_new.xml\n"
     ]
    }
   ],
   "source": [
    "xml_file = \"metadata_xml/default_pro_new.xml\"\n",
    "esri_metadata = metadata_update_pro.xml_to_json(xml_file)"
   ]
  },
  {
   "cell_type": "code",
   "execution_count": 15,
   "id": "c5057ab1-dc6e-425f-98df-5fe809287acb",
   "metadata": {},
   "outputs": [],
   "source": [
    "id_info = esri_metadata[main][f\"{x}identificationInfo\"][f\"{x}MD_DataIdentification\"] \n",
    "key = \"ns1:CharacterString\"\n",
    "key_dt = \"ns1:Date\""
   ]
  },
  {
   "cell_type": "code",
   "execution_count": 16,
   "id": "c5b0768d-8cfd-45d6-89c8-c285d1aa9a6e",
   "metadata": {},
   "outputs": [
    {
     "data": {
      "text/plain": [
       "{'ns1:CharacterString': 'keyword1, keyword2, keyword3, keyword4, keyword5'}"
      ]
     },
     "execution_count": 16,
     "metadata": {},
     "output_type": "execute_result"
    }
   ],
   "source": [
    "id_info[f\"{x}descriptiveKeywords\"][0][f\"{x}MD_Keywords\"][f\"{x}keyword\"]"
   ]
  },
  {
   "cell_type": "code",
   "execution_count": 7,
   "id": "b63bec35-db58-48d1-8523-c43febe76b2f",
   "metadata": {},
   "outputs": [
    {
     "data": {
      "text/plain": [
       "'speeds_by_stop_segments'"
      ]
     },
     "execution_count": 7,
     "metadata": {},
     "output_type": "execute_result"
    }
   ],
   "source": [
    "citation_info = id_info[f\"{x}citation\"][f\"{x}CI_Citation\"]\n",
    "citation_info[f\"{x}title\"][key]"
   ]
  },
  {
   "cell_type": "code",
   "execution_count": 8,
   "id": "e3c03954-62d1-46bb-a51a-79d10db4dc15",
   "metadata": {},
   "outputs": [
    {
     "data": {
      "text/plain": [
       "'revision'"
      ]
     },
     "execution_count": 8,
     "metadata": {},
     "output_type": "execute_result"
    }
   ],
   "source": [
    "beginning_cite = citation_info[f\"{x}date\"][1][f\"{x}CI_Date\"] \n",
    "\n",
    "(beginning_cite[f\"{x}dateType\"][f\"{x}CI_DateTypeCode\"]\n",
    " [\"@codeListValue\"]\n",
    ")\n",
    "    #(beginning_cite[f\"{x}dateType\"][f\"{x}CI_DateTypeCode\"]\n",
    "    # [\"text\"]) = \"creation\"    "
   ]
  },
  {
   "cell_type": "code",
   "execution_count": 9,
   "id": "cd48c48d-2808-4204-aa31-c734d8cbc9b6",
   "metadata": {},
   "outputs": [
    {
     "data": {
      "text/plain": [
       "'hello@calitp.org'"
      ]
     },
     "execution_count": 9,
     "metadata": {},
     "output_type": "execute_result"
    }
   ],
   "source": [
    "citation_contact = (citation_info[f\"{x}citedResponsibleParty\"]\n",
    "[f\"{x}CI_ResponsibleParty\"])\n",
    "(citation_contact[f\"{x}contactInfo\"][f\"{x}CI_Contact\"][f\"{x}address\"]\n",
    "     [f\"{x}CI_Address\"][f\"{x}electronicMailAddress\"][key])"
   ]
  },
  {
   "cell_type": "code",
   "execution_count": 10,
   "id": "f0392769-7a3c-44c6-a3d2-254ca019e30b",
   "metadata": {},
   "outputs": [],
   "source": [
    "maint_info = id_info[f\"{x}resourceMaintenance\"][f\"{x}MD_MaintenanceInformation\"]"
   ]
  },
  {
   "cell_type": "code",
   "execution_count": 33,
   "id": "0db53274-dc81-4a7e-98b5-5de72b15ef19",
   "metadata": {},
   "outputs": [],
   "source": [
    "contact_info = maint_info[f\"{x}contact\"][f\"{x}CI_ResponsibleParty\"]\n"
   ]
  },
  {
   "cell_type": "code",
   "execution_count": 40,
   "id": "2be2af43-d17f-4218-a904-2105f73063b2",
   "metadata": {},
   "outputs": [
    {
     "data": {
      "text/plain": [
       "{'ns0:individualName': {'ns1:CharacterString': 'Eric Dasmalchi'},\n",
       " 'ns0:organisationName': {'ns1:CharacterString': 'Caltrans'},\n",
       " 'ns0:positionName': {'ns1:CharacterString': 'Data & Digital Services / California Integrated Travel Project'},\n",
       " 'ns0:contactInfo': {'ns0:CI_Contact': {'ns0:address': {'ns0:CI_Address': {'ns0:electronicMailAddress': {'ns1:CharacterString': 'hello@calitp.org'}}}}},\n",
       " 'ns0:role': {'ns0:CI_RoleCode': {'@codeList': 'http://www.isotc211.org/2005/resources/Codelist/gmxCodelists.xml#CI_RoleCode',\n",
       "   '@codeListValue': 'publisher',\n",
       "   '@codeSpace': 'ISOTC211/19115',\n",
       "   'text': 'publisher'}}}"
      ]
     },
     "execution_count": 40,
     "metadata": {},
     "output_type": "execute_result"
    }
   ],
   "source": [
    "contact_info"
   ]
  },
  {
   "cell_type": "code",
   "execution_count": 42,
   "id": "989a9c9d-97c5-4350-a690-a119b182e6ce",
   "metadata": {},
   "outputs": [],
   "source": [
    "data_qual = esri_metadata[main][f\"{x}dataQualityInfo\"][f\"{x}DQ_DataQuality\"]"
   ]
  },
  {
   "cell_type": "code",
   "execution_count": 67,
   "id": "309b944d-95ff-43f1-a94e-c6638c5f30d4",
   "metadata": {},
   "outputs": [
    {
     "data": {
      "text/plain": [
       "'license'"
      ]
     },
     "execution_count": 67,
     "metadata": {},
     "output_type": "execute_result"
    }
   ],
   "source": [
    "(id_info[f\"{x}resourceConstraints\"][1][f\"{x}MD_LegalConstraints\"]\n",
    " [f\"{x}useConstraints\"][f\"{x}MD_RestrictionCode\"]\n",
    " [\"@codeListValue\"]\n",
    ") \n"
   ]
  },
  {
   "cell_type": "code",
   "execution_count": 45,
   "id": "a3d3ec36-730f-4a72-82ae-546be0edcc61",
   "metadata": {},
   "outputs": [
    {
     "data": {
      "text/plain": [
       "'Detailed methodology here.'"
      ]
     },
     "execution_count": 45,
     "metadata": {},
     "output_type": "execute_result"
    }
   ],
   "source": [
    "(data_qual[f\"{x}lineage\"][f\"{x}LI_Lineage\"]\n",
    "     [f\"{x}processStep\"][f\"{x}LI_ProcessStep\"]\n",
    "     [f\"{x}description\"][key])"
   ]
  },
  {
   "cell_type": "code",
   "execution_count": null,
   "id": "a6db3940-f5d2-4163-b9df-c3aa754fc75e",
   "metadata": {},
   "outputs": [],
   "source": [
    "metadata_templated = metadata_update_pro.overwrite_default_with_dataset_elements(\n",
    "    esri_metadata)"
   ]
  },
  {
   "cell_type": "code",
   "execution_count": null,
   "id": "7116c69a-18ca-42b3-bb90-b6c64ced3c75",
   "metadata": {},
   "outputs": [],
   "source": [
    "metadata_templated"
   ]
  },
  {
   "cell_type": "code",
   "execution_count": null,
   "id": "a5cf833d-8f69-4fcd-9eae-727029a3ac48",
   "metadata": {},
   "outputs": [],
   "source": [
    "\n"
   ]
  }
 ],
 "metadata": {
  "kernelspec": {
   "display_name": "Python 3 (ipykernel)",
   "language": "python",
   "name": "python3"
  },
  "language_info": {
   "codemirror_mode": {
    "name": "ipython",
    "version": 3
   },
   "file_extension": ".py",
   "mimetype": "text/x-python",
   "name": "python",
   "nbconvert_exporter": "python",
   "pygments_lexer": "ipython3",
   "version": "3.9.13"
  }
 },
 "nbformat": 4,
 "nbformat_minor": 5
}
