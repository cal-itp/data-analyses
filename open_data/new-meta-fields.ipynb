{
 "cells": [
  {
   "cell_type": "code",
   "execution_count": 1,
   "id": "49f123a6-94a0-4ff3-af67-ab31b46afb0d",
   "metadata": {},
   "outputs": [
    {
     "name": "stderr",
     "output_type": "stream",
     "text": [
      "/opt/conda/lib/python3.9/site-packages/geopandas/_compat.py:123: UserWarning: The Shapely GEOS version (3.11.1-CAPI-1.17.1) is incompatible with the GEOS version PyGEOS was compiled with (3.10.1-CAPI-1.16.0). Conversions between both will be slow.\n",
      "  warnings.warn(\n",
      "/opt/conda/lib/python3.9/site-packages/dask_geopandas/backends.py:13: UserWarning: Shapely 2.0 is installed, but because PyGEOS is also installed, GeoPandas will still use PyGEOS by default for now. To force to use and test Shapely 2.0, you have to set the environment variable USE_PYGEOS=0. You can do this before starting the Python process, or in your code before importing geopandas:\n",
      "\n",
      "import os\n",
      "os.environ['USE_PYGEOS'] = '0'\n",
      "import geopandas\n",
      "\n",
      "In a future release, GeoPandas will switch to using Shapely by default. If you are using PyGEOS directly (calling PyGEOS functions on geometries from GeoPandas), this will then stop working and you are encouraged to migrate from PyGEOS to Shapely 2.0 (https://shapely.readthedocs.io/en/latest/migration_pygeos.html).\n",
      "  import geopandas\n"
     ]
    }
   ],
   "source": [
    "import os\n",
    "import pandas as pd\n",
    "import xml.etree.ElementTree as ET\n",
    "import xmltodict\n",
    "\n",
    "from pydantic import BaseModel\n",
    "from typing import List, Dict, Literal\n",
    "\n",
    "import validation_pro\n",
    "\n",
    "METADATA_FOLDER = \"metadata_xml/\"\n",
    "\n",
    "# This prefix keeps coming up, but xmltodict has trouble processing or replacing it\n",
    "x = \"ns0:\"\n",
    "main = f\"{x}MD_Metadata\"\n",
    "\n",
    "import metadata_update_pro"
   ]
  },
  {
   "cell_type": "code",
   "execution_count": 2,
   "id": "2b552dcd-23a0-4332-b7f3-94c75189966c",
   "metadata": {},
   "outputs": [
    {
     "name": "stdout",
     "output_type": "stream",
     "text": [
      "Loading XML as JSON from metadata_xml/speeds_by_stop_segments_new.xml\n"
     ]
    }
   ],
   "source": [
    "xml_file = \"metadata_xml/speeds_by_stop_segments_new.xml\"\n",
    "esri_metadata = metadata_update_pro.xml_to_json(xml_file)\n"
   ]
  },
  {
   "cell_type": "code",
   "execution_count": null,
   "id": "4cdcce64-0b9c-4c92-a0ec-7efe484281c8",
   "metadata": {},
   "outputs": [],
   "source": [
    "main = metadata_update_pro.main\n",
    "x = metadata_update_pro.x\n",
    "key = \"ns1:CharacterString\"\n",
    "key_dt = \"ns1:Date\""
   ]
  },
  {
   "cell_type": "code",
   "execution_count": null,
   "id": "b63bec35-db58-48d1-8523-c43febe76b2f",
   "metadata": {},
   "outputs": [],
   "source": [
    "(esri_metadata[main][f\"{x}identificationInfo\"]\n",
    " [f\"{x}MD_DataIdentification\"]\n",
    " [f\"{x}resourceConstraints\"]\n",
    " [f\"{x}MD_Constraints\"]\n",
    " [f\"{x}useLimitation\"]\n",
    " [key]\n",
    ")"
   ]
  },
  {
   "cell_type": "code",
   "execution_count": null,
   "id": "989a9c9d-97c5-4350-a690-a119b182e6ce",
   "metadata": {},
   "outputs": [],
   "source": [
    "esri_metadata[main]"
   ]
  },
  {
   "cell_type": "code",
   "execution_count": 3,
   "id": "a6db3940-f5d2-4163-b9df-c3aa754fc75e",
   "metadata": {},
   "outputs": [
    {
     "name": "stdout",
     "output_type": "stream",
     "text": [
      "Loading XML as JSON from ./metadata_xml/default_pro.xml\n"
     ]
    }
   ],
   "source": [
    "metadata_templated = metadata_update_pro.overwrite_default_with_dataset_elements(\n",
    "    esri_metadata)"
   ]
  },
  {
   "cell_type": "code",
   "execution_count": 4,
   "id": "7116c69a-18ca-42b3-bb90-b6c64ced3c75",
   "metadata": {},
   "outputs": [
    {
     "data": {
      "text/plain": [
       "{'ns0:MD_Metadata': {'@xmlns:ns0': 'http://www.isotc211.org/2005/gmd',\n",
       "  '@xmlns:ns1': 'http://www.isotc211.org/2005/gco',\n",
       "  '@xmlns:ns2': 'http://www.opengis.net/gml/3.2',\n",
       "  'ns0:language': {'ns0:LanguageCode': {'@codeList': 'http://www.loc.gov/standards/iso639-2/php/code_list.php',\n",
       "    '@codeListValue': 'eng',\n",
       "    '@codeSpace': 'ISO639-2',\n",
       "    'text': 'eng'}},\n",
       "  'ns0:characterSet': {'ns0:MD_CharacterSetCode': {'@codeList': 'http://www.isotc211.org/2005/resources/Codelist/gmxCodelists.xml#MD_CharacterSetCode',\n",
       "    '@codeListValue': 'utf8',\n",
       "    '@codeSpace': 'ISOTC211/19115',\n",
       "    'text': 'utf8'}},\n",
       "  'ns0:hierarchyLevel': {'ns0:MD_ScopeCode': {'@codeList': 'http://www.isotc211.org/2005/resources/Codelist/gmxCodelists.xml#MD_ScopeCode',\n",
       "    '@codeListValue': 'dataset',\n",
       "    '@codeSpace': 'ISOTC211/19115',\n",
       "    'text': 'dataset'}},\n",
       "  'ns0:hierarchyLevelName': {'ns1:CharacterString': 'dataset'},\n",
       "  'ns0:contact': {'ns0:CI_ResponsibleParty': {'ns0:individualName': {'ns1:CharacterString': 'Eric Dasmalchi'},\n",
       "    'ns0:organisationName': {'ns1:CharacterString': 'Caltrans'},\n",
       "    'ns0:positionName': {'ns1:CharacterString': 'California Integrated Travel Project'},\n",
       "    'ns0:contactInfo': {'ns0:CI_Contact': {'ns0:address': {'ns0:CI_Address': {'ns0:electronicMailAddress': {'ns1:CharacterString': 'eric.dasmalchi@dot.ca.gov'}}}}},\n",
       "    'ns0:role': {'ns0:CI_RoleCode': {'@codeList': 'http://www.isotc211.org/2005/resources/Codelist/gmxCodelists.xml#CI_RoleCode',\n",
       "      '@codeListValue': 'publisher',\n",
       "      '@codeSpace': 'ISOTC211/19115',\n",
       "      'text': 'publisher'}}}},\n",
       "  'ns0:dateStamp': {'ns1:Date': '2023-07-06'},\n",
       "  'ns0:metadataStandardName': {'ns1:CharacterString': 'ISO 19139 Geographic Information - Metadata - Implementation Specification'},\n",
       "  'ns0:metadataStandardVersion': {'ns1:CharacterString': '2007'},\n",
       "  'ns0:spatialRepresentationInfo': {'ns0:MD_VectorSpatialRepresentation': {'ns0:topologyLevel': {'ns0:MD_TopologyLevelCode': {'@codeList': 'http://www.isotc211.org/2005/resources/Codelist/gmxCodelists.xml#MD_TopologyLevelCode',\n",
       "      '@codeListValue': 'geometryOnly',\n",
       "      '@codeSpace': 'ISOTC211/19115',\n",
       "      'text': 'geometryOnly'}},\n",
       "    'ns0:geometricObjects': {'ns0:MD_GeometricObjects': {'ns0:geometricObjectType': {'ns0:MD_GeometricObjectTypeCode': {'@codeList': 'http://www.isotc211.org/2005/resources/Codelist/gmxCodelists.xml#MD_GeometricObjectTypeCode',\n",
       "        '@codeListValue': 'composite',\n",
       "        '@codeSpace': 'ISOTC211/19115',\n",
       "        'text': 'composite'}}}}}},\n",
       "  'ns0:referenceSystemInfo': {'ns0:MD_ReferenceSystem': {'ns0:referenceSystemIdentifier': {'ns0:RS_Identifier': {'ns0:code': {'ns1:CharacterString': '4326'},\n",
       "      'ns0:codeSpace': {'ns1:CharacterString': 'EPSG'},\n",
       "      'ns0:version': {'ns1:CharacterString': '6.2(3.0.1)'}}}}},\n",
       "  'ns0:identificationInfo': {'ns0:MD_DataIdentification': {'ns0:citation': {'ns0:CI_Citation': {'ns0:title': {'ns1:CharacterString': 'ca_hq_transit_areas'},\n",
       "      'ns0:date': {'ns0:CI_Date': {'ns0:date': {'ns1:Date': '2022-10-12'},\n",
       "        'ns0:dateType': {'ns0:CI_DateTypeCode': {'@codeList': 'http://www.isotc211.org/2005/resources/Codelist/gmxCodelists.xml#CI_DateTypeCode',\n",
       "          '@codeListValue': 'creation',\n",
       "          '@codeSpace': 'ISOTC211/19115',\n",
       "          'text': 'creation'}}}},\n",
       "      'ns0:edition': {'ns1:CharacterString': '6'},\n",
       "      'ns0:citedResponsibleParty': {'ns0:CI_ResponsibleParty': {'ns0:individualName': {'ns1:CharacterString': 'Eric Dasmalchi'},\n",
       "        'ns0:organisationName': {'ns1:CharacterString': 'Caltrans'},\n",
       "        'ns0:positionName': {'ns1:CharacterString': 'California Integrated Travel Project'},\n",
       "        'ns0:contactInfo': {'ns0:CI_Contact': {'ns0:address': {'ns0:CI_Address': {'ns0:electronicMailAddress': {'ns1:CharacterString': 'eric.dasmalchi@dot.ca.gov'}}}}},\n",
       "        'ns0:role': {'ns0:CI_RoleCode': {'@codeList': 'http://www.isotc211.org/2005/resources/Codelist/gmxCodelists.xml#CI_RoleCode',\n",
       "          '@codeListValue': 'publisher',\n",
       "          '@codeSpace': 'ISOTC211/19115',\n",
       "          'text': 'publisher'}}}},\n",
       "      'ns0:presentationForm': {'ns0:CI_PresentationFormCode': {'@codeList': 'http://www.isotc211.org/2005/resources/Codelist/gmxCodelists.xml#CI_PresentationFormCode',\n",
       "        '@codeListValue': 'mapDigital',\n",
       "        '@codeSpace': 'ISOTC211/19115',\n",
       "        'text': 'mapDigital'}}}},\n",
       "    'ns0:abstract': {'ns1:CharacterString': 'Public. EPSG: 4326'},\n",
       "    'ns0:purpose': {'ns1:CharacterString': 'Estimated High Quality Transit Areas as described in Public Resources Code 21155, 21064.3, 21060.2.'},\n",
       "    'ns0:status': {'ns0:MD_ProgressCode': {'@codeList': 'http://www.isotc211.org/2005/resources/Codelist/gmxCodelists.xml#MD_ProgressCode',\n",
       "      '@codeListValue': 'completed',\n",
       "      '@codeSpace': 'ISOTC211/19115',\n",
       "      'text': 'completed'}},\n",
       "    'ns0:resourceMaintenance': {'ns0:MD_MaintenanceInformation': {'ns0:maintenanceAndUpdateFrequency': {'ns0:MD_MaintenanceFrequencyCode': {'@codeList': 'http://www.isotc211.org/2005/resources/Codelist/gmxCodelists.xml#MD_MaintenanceFrequencyCode',\n",
       "        '@codeListValue': 'monthly',\n",
       "        '@codeSpace': 'ISOTC211/19115',\n",
       "        'text': 'monthly'}},\n",
       "      'ns0:dateOfNextUpdate': {'ns1:Date': '2022-11-12'}}},\n",
       "    'ns0:descriptiveKeywords': [{'ns0:MD_Keywords': {'ns0:keyword': [{'ns1:CharacterString': 'Transportation'},\n",
       "        {'ns1:CharacterString': 'Land Use'},\n",
       "        {'ns1:CharacterString': 'Transit-Oriented Development'},\n",
       "        {'ns1:CharacterString': 'TOD'},\n",
       "        {'ns1:CharacterString': 'High Quality Transit'}]}},\n",
       "     {'ns0:MD_Keywords': {'ns0:keyword': {'ns1:CharacterString': 'Downloadable Data'},\n",
       "       'ns0:thesaurusName': {'@uuidref': '723f6998-058e-11dc-8314-0800200c9a66'}}}],\n",
       "    'ns0:resourceConstraints': {'ns0:MD_LegalConstraints': {'ns0:useConstraints': {'ns0:MD_RestrictionCode': {'@codeList': 'http://www.isotc211.org/2005/resources/Codelist/gmxCodelists.xml#MD_RestrictionCode',\n",
       "        '@codeListValue': 'license',\n",
       "        '@codeSpace': 'ISOTC211/19115',\n",
       "        'text': 'license'}}}},\n",
       "    'ns0:spatialRepresentationType': {'ns0:MD_SpatialRepresentationTypeCode': {'@codeList': 'http://www.isotc211.org/2005/resources/Codelist/gmxCodelists.xml#MD_SpatialRepresentationTypeCode',\n",
       "      '@codeListValue': 'vector',\n",
       "      '@codeSpace': 'ISOTC211/19115',\n",
       "      'text': 'vector'}},\n",
       "    'ns0:language': {'ns0:LanguageCode': {'@codeList': 'http://www.loc.gov/standards/iso639-2/php/code_list.php',\n",
       "      '@codeListValue': 'eng',\n",
       "      '@codeSpace': 'ISO639-2',\n",
       "      'text': 'eng'}},\n",
       "    'ns0:characterSet': {'ns0:MD_CharacterSetCode': {'@codeList': 'http://www.isotc211.org/2005/resources/Codelist/gmxCodelists.xml#MD_CharacterSetCode',\n",
       "      '@codeListValue': 'utf8',\n",
       "      '@codeSpace': 'ISOTC211/19115',\n",
       "      'text': 'utf8'}},\n",
       "    'ns0:topicCategory': {'ns0:MD_TopicCategoryCode': 'transportation'},\n",
       "    'ns0:environmentDescription': {'ns1:CharacterString': 'Microsoft Windows 10 Version 10.0 (Build 19042) ; Esri ArcGIS 12.9.2.32739'},\n",
       "    'ns0:extent': [{'ns0:EX_Extent': {'ns0:description': {'ns1:CharacterString': 'California'},\n",
       "       'ns0:temporalElement': {'ns0:EX_TemporalExtent': {'ns0:extent': {'ns2:TimePeriod': {'@ns2:id': 'IDDWYVT5UGET0XIDOZ10J1NEM1TJ4BG4DJ4XQHJCJYNE1G53PQBC5H',\n",
       "           'ns2:beginPosition': '2022-10-12T00:00:00',\n",
       "           'ns2:endPosition': '2022-11-12T00:00:00'}}}}}},\n",
       "     {'ns0:EX_Extent': {'ns0:geographicElement': {'ns0:EX_GeographicBoundingBox': {'ns0:extentTypeCode': {'ns1:Boolean': 'true'},\n",
       "         'ns0:westBoundLongitude': {'ns1:Decimal': '-124.210151'},\n",
       "         'ns0:eastBoundLongitude': {'ns1:Decimal': '-114.590865'},\n",
       "         'ns0:southBoundLatitude': {'ns1:Decimal': '32.537144'},\n",
       "         'ns0:northBoundLatitude': {'ns1:Decimal': '41.763711'}}}}}]}},\n",
       "  'ns0:distributionInfo': {'ns0:MD_Distribution': {'ns0:distributionFormat': {'ns0:MD_Format': {'ns0:name': {'ns1:CharacterString': 'File Geodatabase Feature Class'},\n",
       "      'ns0:version': {'@ns1:nilReason': 'missing'}}}}},\n",
       "  'ns0:dataQualityInfo': {'ns0:DQ_DataQuality': {'ns0:scope': {'@ns1:nilReason': 'missing'},\n",
       "    'ns0:report': {'ns0:DQ_RelativeInternalPositionalAccuracy': {'ns0:measureDescription': {'ns1:CharacterString': '4 meters'},\n",
       "      'ns0:result': {'@ns1:nilReason': 'missing'}}},\n",
       "    'ns0:lineage': {'ns0:LI_Lineage': {'ns0:processStep': {'ns0:LI_ProcessStep': {'ns0:description': {'ns1:CharacterString': 'This data was estimated using a spatial process derived from General Transit Feed Specification (GTFS) schedule data. To find high-quality bus corridors, we split each corridor into 1,250 meter segments and counted frequencies at the stop within that segment with the highest number of transit trips. If that stop saw at least 4 trips per hour for at least one hour in the morning, and again for at least one hour in the afternoon, we consider that segment a high-quality bus corridor. Segments without a stop are not considered high-quality corridors. Major transit stops were identified as either the intersection of two high-quality corridors from the previous step, a rail or bus rapid transit station, or a ferry terminal with bus service. Note that the definition of `bus rapid transit` in Public Resources Code 21060.2 includes features not captured by available data sources, these features were captured manually using information from transit agency sources and imagery. We believe this data to be broadly accurate, and fit for purposes including overall dashboards, locating facilities in relation to high quality transit areas, and assessing community transit coverage. However, the spatial determination of high-quality transit areas from GTFS data necessarily involves some assumptions as described above. Any critical determinations of whether a specific parcel is located within a high-quality transit area should be made in conjunction with local sources, such as transit agency timetables.  Notes: Null values may be present. The `hqta_details` columns defines which part of the Public Resources Code definition the HQTA classification was based on. If `hqta_details` references a single operator, then `itp_id_secondary` and `agency_secondary` are null. If `hqta_details` references the same operator, then `itp_id_secondary` and `agency_secondary` are the same as `itp_id_primary` and `agency_primary`.'}}}}}}}}}"
      ]
     },
     "execution_count": 4,
     "metadata": {},
     "output_type": "execute_result"
    }
   ],
   "source": [
    "metadata_templated"
   ]
  },
  {
   "cell_type": "code",
   "execution_count": null,
   "id": "a5cf833d-8f69-4fcd-9eae-727029a3ac48",
   "metadata": {},
   "outputs": [],
   "source": [
    "\n"
   ]
  }
 ],
 "metadata": {
  "kernelspec": {
   "display_name": "Python 3 (ipykernel)",
   "language": "python",
   "name": "python3"
  },
  "language_info": {
   "codemirror_mode": {
    "name": "ipython",
    "version": 3
   },
   "file_extension": ".py",
   "mimetype": "text/x-python",
   "name": "python",
   "nbconvert_exporter": "python",
   "pygments_lexer": "ipython3",
   "version": "3.9.13"
  }
 },
 "nbformat": 4,
 "nbformat_minor": 5
}
