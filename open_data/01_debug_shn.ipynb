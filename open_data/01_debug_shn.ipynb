{
 "cells": [
  {
   "cell_type": "code",
   "execution_count": null,
   "id": "774cc34a-0e36-440a-8035-6c5601ac4e97",
   "metadata": {
    "tags": []
   },
   "outputs": [],
   "source": [
    "\"\"\"\n",
    "Create stops file with identifiers including\n",
    "route_id, route_name, agency_id, agency_name.\n",
    "\"\"\"\n",
    "import datetime\n",
    "import geopandas as gpd\n",
    "import intake\n",
    "import pandas as pd\n",
    "import yaml\n",
    "\n",
    "import open_data_utils\n",
    "from calitp_data_analysis import geography_utils, utils\n",
    "from shared_utils import publish_utils\n",
    "from update_vars import (analysis_date, \n",
    "                         GTFS_DATA_DICT,\n",
    "                         TRAFFIC_OPS_GCS, \n",
    "                         RT_SCHED_GCS, SCHED_GCS\n",
    "                        )\n",
    "\n",
    "catalog = intake.open_catalog(\"../_shared_utils/shared_utils/shared_data_catalog.yml\")\n"
   ]
  },
  {
   "cell_type": "code",
   "execution_count": null,
   "id": "f97570de-36cc-4fa3-8c4e-dc59d77c2446",
   "metadata": {
    "tags": []
   },
   "outputs": [],
   "source": [
    "path = f'{TRAFFIC_OPS_GCS}ca_transit_stops.parquet'"
   ]
  },
  {
   "cell_type": "code",
   "execution_count": null,
   "id": "2efce564-cc69-48b6-8abf-62fa97615fc4",
   "metadata": {
    "tags": []
   },
   "outputs": [],
   "source": [
    "gdf = gpd.read_parquet(path)"
   ]
  },
  {
   "cell_type": "code",
   "execution_count": null,
   "id": "b8c5362f-6754-4295-bd16-a4c59fd01452",
   "metadata": {
    "tags": []
   },
   "outputs": [],
   "source": [
    "gdf.columns"
   ]
  },
  {
   "cell_type": "code",
   "execution_count": null,
   "id": "91ccfaab-56bc-4297-b60a-abc0a09644e1",
   "metadata": {
    "tags": []
   },
   "outputs": [],
   "source": [
    "gdf.head(3)"
   ]
  },
  {
   "cell_type": "code",
   "execution_count": null,
   "id": "9eed1a83-0487-4551-a841-8bf14a508d59",
   "metadata": {
    "tags": []
   },
   "outputs": [],
   "source": [
    "from calitp_data_analysis import geography_utils"
   ]
  },
  {
   "cell_type": "code",
   "execution_count": null,
   "id": "98ddbec1-d4ab-41d2-9082-568cd184507a",
   "metadata": {
    "tags": []
   },
   "outputs": [],
   "source": [
    "gdf = gdf.query('~agency.str.contains(\"Amtrak\")')"
   ]
  },
  {
   "cell_type": "code",
   "execution_count": null,
   "id": "c9e0b166-df31-4629-9007-ba7a8da253eb",
   "metadata": {
    "tags": []
   },
   "outputs": [],
   "source": [
    "gdf = gdf.query('~agency.str.contains(\"FlixBus\")')"
   ]
  },
  {
   "cell_type": "code",
   "execution_count": null,
   "id": "e0341794-0559-4d98-89ce-366446748ccc",
   "metadata": {
    "tags": []
   },
   "outputs": [],
   "source": [
    "gdf = gdf.query('~agency.str.contains(\"Greyhound\")')"
   ]
  },
  {
   "cell_type": "code",
   "execution_count": null,
   "id": "9f9b33bf-a2b2-4769-9964-70ee8e072172",
   "metadata": {
    "tags": []
   },
   "outputs": [],
   "source": [
    "gdf = gdf.query('~agency.str.contains(\"POINT\")')"
   ]
  },
  {
   "cell_type": "code",
   "execution_count": null,
   "id": "2c85f637-735d-431d-8e20-17bb3e9ede52",
   "metadata": {
    "tags": []
   },
   "outputs": [],
   "source": [
    "gdf.head(50000).explore(column='meters_to_ca_state_highway', scheme='NaturalBreaks')"
   ]
  },
  {
   "cell_type": "code",
   "execution_count": null,
   "id": "afca0495-d8c2-45ff-9ee3-5954a1a1f340",
   "metadata": {
    "tags": []
   },
   "outputs": [],
   "source": [
    "gdf.shape"
   ]
  },
  {
   "cell_type": "code",
   "execution_count": null,
   "id": "f3bc00ae-d78d-49b6-9fe2-193abc7445a0",
   "metadata": {},
   "outputs": [],
   "source": []
  }
 ],
 "metadata": {
  "kernelspec": {
   "display_name": "Python 3 (ipykernel)",
   "language": "python",
   "name": "python3"
  },
  "language_info": {
   "codemirror_mode": {
    "name": "ipython",
    "version": 3
   },
   "file_extension": ".py",
   "mimetype": "text/x-python",
   "name": "python",
   "nbconvert_exporter": "python",
   "pygments_lexer": "ipython3",
   "version": "3.11.10"
  },
  "widgets": {
   "application/vnd.jupyter.widget-state+json": {
    "state": {},
    "version_major": 2,
    "version_minor": 0
   }
  }
 },
 "nbformat": 4,
 "nbformat_minor": 5
}
