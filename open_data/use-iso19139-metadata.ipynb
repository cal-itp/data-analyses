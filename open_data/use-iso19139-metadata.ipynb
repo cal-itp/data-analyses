{
 "cells": [
  {
   "cell_type": "markdown",
   "id": "fcfc3ce6-3e25-4544-a636-975a377ec10e",
   "metadata": {},
   "source": [
    "# ISO 19139 GML 3.2 metadata format\n",
    "\n",
    "Steps:\n",
    "1. See what's in the filled out XML\n",
    "1. See what's in the sparse XML\n",
    "1. What sections need to be lifted to be part of the `default.xml`\n",
    "1. What parts belong to a dataset that need to follow it, even after the template is applied?\n",
    "1. What parts need to be overwritten?"
   ]
  },
  {
   "cell_type": "code",
   "execution_count": 1,
   "id": "e07f0692-c577-4242-9c4f-a3166d8939f5",
   "metadata": {},
   "outputs": [],
   "source": [
    "import xml.etree.ElementTree as ET\n",
    "import xmltodict "
   ]
  },
  {
   "cell_type": "code",
   "execution_count": 2,
   "id": "34ddcb42-a1de-4e1a-b128-028e282457fd",
   "metadata": {},
   "outputs": [],
   "source": [
    "FILLED_OUT_XML_FILE = \"ca_hq_transit_stops.xml\"\n",
    "SPARSE_XML_FILE = \"ca_transit_routes.xml\""
   ]
  },
  {
   "cell_type": "code",
   "execution_count": 3,
   "id": "54b21b67-62c1-456a-a00e-137a7f1d03e1",
   "metadata": {},
   "outputs": [],
   "source": [
    "def xml_to_json(path: str) -> dict:  \n",
    "    try:\n",
    "        print(f\"Loading XML as JSON from {path}\")\n",
    "        xml = ET.tostring(ET.parse(path).getroot())\n",
    "        return xmltodict.parse(xml, \n",
    "                               attr_prefix=\"\", cdata_key=\"text\", \n",
    "                               #process_namespaces=True,\n",
    "                               #namespaces={\"ns:0\", \"\"},\n",
    "                               dict_constructor=dict)\n",
    "    except:\n",
    "        print(f\"Loading failed for {path}\")\n",
    "    return {}"
   ]
  },
  {
   "cell_type": "code",
   "execution_count": 4,
   "id": "1e6627d2-9012-4725-a35c-a5297ff1b8ce",
   "metadata": {},
   "outputs": [
    {
     "name": "stdout",
     "output_type": "stream",
     "text": [
      "Loading XML as JSON from ca_hq_transit_stops.xml\n",
      "Loading XML as JSON from ca_transit_routes.xml\n"
     ]
    }
   ],
   "source": [
    "filled_meta = xml_to_json(FILLED_OUT_XML_FILE)\n",
    "sparse_meta = xml_to_json(SPARSE_XML_FILE)"
   ]
  },
  {
   "cell_type": "code",
   "execution_count": 5,
   "id": "d8418f77-99f5-4701-9053-2b302ffe0fe6",
   "metadata": {},
   "outputs": [],
   "source": [
    "filled_meta2 = filled_meta[\"ns0:MD_Metadata\"]\n",
    "sparse_meta2 = sparse_meta[\"ns0:MD_Metadata\"]"
   ]
  },
  {
   "cell_type": "code",
   "execution_count": 6,
   "id": "47aea99c-c46d-4140-9c51-6a8c6f6ee249",
   "metadata": {},
   "outputs": [],
   "source": [
    "def compare_dict_items(my_dict1: dict, my_dict2: dict):\n",
    "    \n",
    "    exactly_the_same = [\"xmlns:ns0\", \"xmlns:ns1\", \"ns0:language\", \n",
    "                 \"ns0:characterSet\", \"ns0:hierarchyLevel\", \n",
    "                 \"ns0:hierarchyLevelName\", \"ns0:metadataStandardName\",\n",
    "                 \"ns0:metadataStandardVersion\",\n",
    "                ]\n",
    "    \n",
    "    # needs default template applied, then replace some values\n",
    "    needs_default_template_first_then_replace = [\"ns0:contact\", \n",
    "                                                 \"ns0:dataQualityInfo\",\n",
    "                                                 \"ns0:identificationInfo\"\n",
    "                                                ]\n",
    "    \n",
    "    # completely missing, perhaps can use default template\n",
    "    missing_use_default_template = [\"xmlns:ns2\"]\n",
    "    \n",
    "    # no template needed, just replace as is\n",
    "    already_present_just_lift = [\"ns0:dateStamp\", \n",
    "                                 \"ns0:spatialRepresentationInfo\", \n",
    "                                 \"ns0:referenceSystemInfo\",\n",
    "                                 \"ns0:distributionInfo\"\n",
    "                                ]\n",
    "    \n",
    "    \n",
    "    for key, value in my_dict1.items():\n",
    "        if ((key not in exactly_the_same) and \n",
    "            (key not in needs_default_template_first_then_replace) and \n",
    "            (key not in already_present_just_lift) and \n",
    "            (key not in missing_use_default_template)\n",
    "           ):\n",
    "            print(f\"**********{key}**********\")        \n",
    "            print(\"filled meta\")\n",
    "            print(my_dict1[key])\n",
    "            print(\"sparse meta\")\n",
    "            if my_dict2.get(key) is not None:\n",
    "                print(my_dict2[key])\n",
    "            else: \n",
    "                print(f\"MISSING KEY {key}\")"
   ]
  },
  {
   "cell_type": "code",
   "execution_count": 7,
   "id": "35c3345d-f787-4116-b3b4-3cc27d15269b",
   "metadata": {},
   "outputs": [
    {
     "name": "stdout",
     "output_type": "stream",
     "text": [
      "**********ns0:identificationInfo**********\n",
      "filled meta\n",
      "{'ns0:MD_DataIdentification': {'ns0:citation': {'ns0:CI_Citation': {'ns0:title': {'ns1:CharacterString': 'ca_hq_transit_stops'}, 'ns0:date': {'ns0:CI_Date': {'ns0:date': {'ns1:Date': '2022-09-14'}, 'ns0:dateType': {'ns0:CI_DateTypeCode': {'codeList': 'http://www.isotc211.org/2005/resources/Codelist/gmxCodelists.xml#CI_DateTypeCode', 'codeListValue': 'creation', 'codeSpace': 'ISOTC211/19115', 'text': 'creation'}}}}, 'ns0:citedResponsibleParty': {'ns0:CI_ResponsibleParty': {'ns0:individualName': {'ns1:CharacterString': 'My Name'}, 'ns0:organisationName': {'ns1:CharacterString': 'Caltrans'}, 'ns0:role': {'ns0:CI_RoleCode': {'codeList': 'http://www.isotc211.org/2005/resources/Codelist/gmxCodelists.xml#CI_RoleCode', 'codeListValue': 'publisher', 'codeSpace': 'ISOTC211/19115', 'text': 'publisher'}}}}, 'ns0:presentationForm': {'ns0:CI_PresentationFormCode': {'codeList': 'http://www.isotc211.org/2005/resources/Codelist/gmxCodelists.xml#CI_PresentationFormCode', 'codeListValue': 'mapDigital', 'codeSpace': 'ISOTC211/19115', 'text': 'mapDigital'}}}}, 'ns0:abstract': {'ns1:CharacterString': 'abstract.'}, 'ns0:purpose': {'ns1:CharacterString': 'summary.'}, 'ns0:status': {'ns0:MD_ProgressCode': {'codeList': 'http://www.isotc211.org/2005/resources/Codelist/gmxCodelists.xml#MD_ProgressCode', 'codeListValue': 'completed', 'codeSpace': 'ISOTC211/19115', 'text': 'completed'}}, 'ns0:resourceMaintenance': {'ns0:MD_MaintenanceInformation': {'ns0:maintenanceAndUpdateFrequency': {'ns0:MD_MaintenanceFrequencyCode': {'codeList': 'http://www.isotc211.org/2005/resources/Codelist/gmxCodelists.xml#MD_MaintenanceFrequencyCode', 'codeListValue': 'monthly', 'codeSpace': 'ISOTC211/19115', 'text': 'monthly'}}, 'ns0:dateOfNextUpdate': {'ns1:Date': '2022-10-14'}}}, 'ns0:descriptiveKeywords': [{'ns0:MD_Keywords': {'ns0:keyword': {'ns1:CharacterString': 'Downloadable Data'}, 'ns0:thesaurusName': {'uuidref': '723f6998-058e-11dc-8314-0800200c9a66'}}}, {'ns0:MD_Keywords': {'ns0:keyword': [{'ns1:CharacterString': 'tag1'}, {'ns1:CharacterString': 'tag2'}, {'ns1:CharacterString': 'tag3'}, {'ns1:CharacterString': 'tag4'}, {'ns1:CharacterString': 'tag5'}]}}], 'ns0:resourceConstraints': {'ns0:MD_LegalConstraints': {'ns0:useConstraints': {'ns0:MD_RestrictionCode': {'codeList': 'http://www.isotc211.org/2005/resources/Codelist/gmxCodelists.xml#MD_RestrictionCode', 'codeListValue': 'license', 'codeSpace': 'ISOTC211/19115', 'text': 'license'}}}}, 'ns0:spatialRepresentationType': {'ns0:MD_SpatialRepresentationTypeCode': {'codeList': 'http://www.isotc211.org/2005/resources/Codelist/gmxCodelists.xml#MD_SpatialRepresentationTypeCode', 'codeListValue': 'vector', 'codeSpace': 'ISOTC211/19115', 'text': 'vector'}}, 'ns0:language': {'ns0:LanguageCode': {'codeList': 'http://www.loc.gov/standards/iso639-2/php/code_list.php', 'codeListValue': 'eng', 'codeSpace': 'ISO639-2', 'text': 'eng'}}, 'ns0:characterSet': {'ns0:MD_CharacterSetCode': {'codeList': 'http://www.isotc211.org/2005/resources/Codelist/gmxCodelists.xml#MD_CharacterSetCode', 'codeListValue': 'utf8', 'codeSpace': 'ISOTC211/19115', 'text': 'utf8'}}, 'ns0:topicCategory': {'ns0:MD_TopicCategoryCode': 'transportation'}, 'ns0:environmentDescription': {'ns1:CharacterString': 'Microsoft Windows 10 Version 10.0 (Build 19042) ; Esri ArcGIS 12.9.2.32739'}, 'ns0:extent': {'ns0:EX_Extent': {'ns0:description': {'ns1:CharacterString': 'Place!'}, 'ns0:temporalElement': {'ns0:EX_TemporalExtent': {'ns0:extent': {'ns2:TimePeriod': {'ns2:id': 'IDTHEUOADE3DTXN0JZLJJCKB3KYOXZW24IO50YYMN4CF4PCK32AIZO', 'ns2:beginPosition': '2022-09-14T00:00:00', 'ns2:endPosition': '2022-10-14T00:00:00'}}}}}}}}\n",
      "sparse meta\n",
      "{'ns0:MD_DataIdentification': {'ns0:citation': {'ns0:CI_Citation': {'ns0:title': {'ns1:CharacterString': 'ca_transit_routes'}, 'ns0:date': {'ns1:nilReason': 'missing'}, 'ns0:presentationForm': {'ns0:CI_PresentationFormCode': {'codeList': 'http://www.isotc211.org/2005/resources/Codelist/gmxCodelists.xml#CI_PresentationFormCode', 'codeListValue': 'mapDigital', 'codeSpace': 'ISOTC211/19115', 'text': 'mapDigital'}}}}, 'ns0:abstract': {'ns1:CharacterString': 'Description.'}, 'ns0:purpose': {'ns1:CharacterString': 'Purpose.'}, 'ns0:descriptiveKeywords': {'ns0:MD_Keywords': {'ns0:keyword': {'ns1:CharacterString': 'Downloadable Data'}, 'ns0:thesaurusName': {'uuidref': '723f6998-058e-11dc-8314-0800200c9a66'}}}, 'ns0:spatialRepresentationType': {'ns0:MD_SpatialRepresentationTypeCode': {'codeList': 'http://www.isotc211.org/2005/resources/Codelist/gmxCodelists.xml#MD_SpatialRepresentationTypeCode', 'codeListValue': 'vector', 'codeSpace': 'ISOTC211/19115', 'text': 'vector'}}, 'ns0:language': {'ns0:LanguageCode': {'codeList': 'http://www.loc.gov/standards/iso639-2/php/code_list.php', 'codeListValue': 'eng', 'codeSpace': 'ISO639-2', 'text': 'eng'}}, 'ns0:characterSet': {'ns0:MD_CharacterSetCode': {'codeList': 'http://www.isotc211.org/2005/resources/Codelist/gmxCodelists.xml#MD_CharacterSetCode', 'codeListValue': 'utf8', 'codeSpace': 'ISOTC211/19115', 'text': 'utf8'}}, 'ns0:environmentDescription': {'ns1:CharacterString': 'Microsoft Windows 10 Version 10.0 (Build 19042) ; Esri ArcGIS 12.9.2.32739'}}}\n"
     ]
    }
   ],
   "source": [
    "compare_dict_items(filled_meta2, sparse_meta2)"
   ]
  },
  {
   "cell_type": "code",
   "execution_count": 19,
   "id": "e53683d7-45a3-4515-aa48-25a95e61d6da",
   "metadata": {},
   "outputs": [],
   "source": [
    "#ns0:identificationInfo is bulk of where changes need to be made\n",
    "# both because it has dataset specific stuff\n",
    "# but also stuff that needs to be overwritten\n",
    "def compare_id_info(my_dict1: dict, my_dict2: dict):\n",
    "    dict1 = my_dict1[\"ns0:identificationInfo\"][\"ns0:MD_DataIdentification\"]\n",
    "    dict2 = my_dict2[\"ns0:identificationInfo\"][\"ns0:MD_DataIdentification\"]\n",
    "    \n",
    "    exactly_the_same = []\n",
    "    \n",
    "    for key, value in dict1.items():\n",
    "        \n",
    "         if ((key not in exactly_the_same) #and \n",
    "            #(key not in needs_default_template_first_then_replace) and \n",
    "            #(key not in already_present_just_lift) and \n",
    "            #(key not in missing_use_default_template)\n",
    "           ):\n",
    "            print(f\"**********{key}**********\")        \n",
    "            print(\"filled meta\")\n",
    "            print(dict1[key])\n",
    "            print(\"sparse meta\")\n",
    "            if dict2.get(key) is not None:\n",
    "                print(dict2[key])\n",
    "            else: \n",
    "                print(f\"MISSING KEY {key}\")\n"
   ]
  },
  {
   "cell_type": "code",
   "execution_count": 21,
   "id": "35dbda5c-651f-483a-8556-446cb461080d",
   "metadata": {},
   "outputs": [],
   "source": [
    "filled_meta3 = filled_meta2[\"ns0:identificationInfo\"][\"ns0:MD_DataIdentification\"\n",
    "sparse_meta3 = sparse_meta2[\"ns0:identificationInfo\"][\"ns0:MD_DataIdentification\"]"
   ]
  },
  {
   "cell_type": "code",
   "execution_count": 30,
   "id": "05e010e3-dd8e-49ee-90c9-57770f46eaa3",
   "metadata": {},
   "outputs": [
    {
     "data": {
      "text/plain": [
       "{'ns0:citation': {'ns0:CI_Citation': {'ns0:title': {'ns1:CharacterString': 'ca_hq_transit_stops'},\n",
       "   'ns0:date': {'ns0:CI_Date': {'ns0:date': {'ns1:Date': '2022-09-14'},\n",
       "     'ns0:dateType': {'ns0:CI_DateTypeCode': {'codeList': 'http://www.isotc211.org/2005/resources/Codelist/gmxCodelists.xml#CI_DateTypeCode',\n",
       "       'codeListValue': 'creation',\n",
       "       'codeSpace': 'ISOTC211/19115',\n",
       "       'text': 'creation'}}}},\n",
       "   'ns0:citedResponsibleParty': {'ns0:CI_ResponsibleParty': {'ns0:individualName': {'ns1:CharacterString': 'My Name'},\n",
       "     'ns0:organisationName': {'ns1:CharacterString': 'Caltrans'},\n",
       "     'ns0:role': {'ns0:CI_RoleCode': {'codeList': 'http://www.isotc211.org/2005/resources/Codelist/gmxCodelists.xml#CI_RoleCode',\n",
       "       'codeListValue': 'publisher',\n",
       "       'codeSpace': 'ISOTC211/19115',\n",
       "       'text': 'publisher'}}}},\n",
       "   'ns0:presentationForm': {'ns0:CI_PresentationFormCode': {'codeList': 'http://www.isotc211.org/2005/resources/Codelist/gmxCodelists.xml#CI_PresentationFormCode',\n",
       "     'codeListValue': 'mapDigital',\n",
       "     'codeSpace': 'ISOTC211/19115',\n",
       "     'text': 'mapDigital'}}}},\n",
       " 'ns0:abstract': {'ns1:CharacterString': 'abstract.'},\n",
       " 'ns0:purpose': {'ns1:CharacterString': 'summary.'},\n",
       " 'ns0:status': {'ns0:MD_ProgressCode': {'codeList': 'http://www.isotc211.org/2005/resources/Codelist/gmxCodelists.xml#MD_ProgressCode',\n",
       "   'codeListValue': 'completed',\n",
       "   'codeSpace': 'ISOTC211/19115',\n",
       "   'text': 'completed'}},\n",
       " 'ns0:resourceMaintenance': {'ns0:MD_MaintenanceInformation': {'ns0:maintenanceAndUpdateFrequency': {'ns0:MD_MaintenanceFrequencyCode': {'codeList': 'http://www.isotc211.org/2005/resources/Codelist/gmxCodelists.xml#MD_MaintenanceFrequencyCode',\n",
       "     'codeListValue': 'monthly',\n",
       "     'codeSpace': 'ISOTC211/19115',\n",
       "     'text': 'monthly'}},\n",
       "   'ns0:dateOfNextUpdate': {'ns1:Date': '2022-10-14'}}},\n",
       " 'ns0:descriptiveKeywords': [{'ns0:MD_Keywords': {'ns0:keyword': {'ns1:CharacterString': 'Downloadable Data'},\n",
       "    'ns0:thesaurusName': {'uuidref': '723f6998-058e-11dc-8314-0800200c9a66'}}},\n",
       "  {'ns0:MD_Keywords': {'ns0:keyword': [{'ns1:CharacterString': 'tag1'},\n",
       "     {'ns1:CharacterString': 'tag2'},\n",
       "     {'ns1:CharacterString': 'tag3'},\n",
       "     {'ns1:CharacterString': 'tag4'},\n",
       "     {'ns1:CharacterString': 'tag5'}]}}],\n",
       " 'ns0:resourceConstraints': {'ns0:MD_LegalConstraints': {'ns0:useConstraints': {'ns0:MD_RestrictionCode': {'codeList': 'http://www.isotc211.org/2005/resources/Codelist/gmxCodelists.xml#MD_RestrictionCode',\n",
       "     'codeListValue': 'license',\n",
       "     'codeSpace': 'ISOTC211/19115',\n",
       "     'text': 'license'}}}},\n",
       " 'ns0:spatialRepresentationType': {'ns0:MD_SpatialRepresentationTypeCode': {'codeList': 'http://www.isotc211.org/2005/resources/Codelist/gmxCodelists.xml#MD_SpatialRepresentationTypeCode',\n",
       "   'codeListValue': 'vector',\n",
       "   'codeSpace': 'ISOTC211/19115',\n",
       "   'text': 'vector'}},\n",
       " 'ns0:language': {'ns0:LanguageCode': {'codeList': 'http://www.loc.gov/standards/iso639-2/php/code_list.php',\n",
       "   'codeListValue': 'eng',\n",
       "   'codeSpace': 'ISO639-2',\n",
       "   'text': 'eng'}},\n",
       " 'ns0:characterSet': {'ns0:MD_CharacterSetCode': {'codeList': 'http://www.isotc211.org/2005/resources/Codelist/gmxCodelists.xml#MD_CharacterSetCode',\n",
       "   'codeListValue': 'utf8',\n",
       "   'codeSpace': 'ISOTC211/19115',\n",
       "   'text': 'utf8'}},\n",
       " 'ns0:topicCategory': {'ns0:MD_TopicCategoryCode': 'transportation'},\n",
       " 'ns0:environmentDescription': {'ns1:CharacterString': 'Microsoft Windows 10 Version 10.0 (Build 19042) ; Esri ArcGIS 12.9.2.32739'},\n",
       " 'ns0:extent': {'ns0:EX_Extent': {'ns0:description': {'ns1:CharacterString': 'Place!'},\n",
       "   'ns0:temporalElement': {'ns0:EX_TemporalExtent': {'ns0:extent': {'ns2:TimePeriod': {'ns2:id': 'IDTHEUOADE3DTXN0JZLJJCKB3KYOXZW24IO50YYMN4CF4PCK32AIZO',\n",
       "       'ns2:beginPosition': '2022-09-14T00:00:00',\n",
       "       'ns2:endPosition': '2022-10-14T00:00:00'}}}}}}}"
      ]
     },
     "execution_count": 30,
     "metadata": {},
     "output_type": "execute_result"
    }
   ],
   "source": [
    "# need to copy part of citation\n",
    "filled_meta3"
   ]
  },
  {
   "cell_type": "code",
   "execution_count": 28,
   "id": "dcc0cb12-528a-4775-bd66-895d94690592",
   "metadata": {},
   "outputs": [
    {
     "data": {
      "text/plain": [
       "{'ns0:title': {'ns1:CharacterString': 'ca_hq_transit_stops'},\n",
       " 'ns0:date': {'ns0:CI_Date': {'ns0:date': {'ns1:Date': '2022-09-14'},\n",
       "   'ns0:dateType': {'ns0:CI_DateTypeCode': {'codeList': 'http://www.isotc211.org/2005/resources/Codelist/gmxCodelists.xml#CI_DateTypeCode',\n",
       "     'codeListValue': 'creation',\n",
       "     'codeSpace': 'ISOTC211/19115',\n",
       "     'text': 'creation'}}}},\n",
       " 'ns0:citedResponsibleParty': {'ns0:CI_ResponsibleParty': {'ns0:individualName': {'ns1:CharacterString': 'My Name'},\n",
       "   'ns0:organisationName': {'ns1:CharacterString': 'Caltrans'},\n",
       "   'ns0:role': {'ns0:CI_RoleCode': {'codeList': 'http://www.isotc211.org/2005/resources/Codelist/gmxCodelists.xml#CI_RoleCode',\n",
       "     'codeListValue': 'publisher',\n",
       "     'codeSpace': 'ISOTC211/19115',\n",
       "     'text': 'publisher'}}}},\n",
       " 'ns0:presentationForm': {'ns0:CI_PresentationFormCode': {'codeList': 'http://www.isotc211.org/2005/resources/Codelist/gmxCodelists.xml#CI_PresentationFormCode',\n",
       "   'codeListValue': 'mapDigital',\n",
       "   'codeSpace': 'ISOTC211/19115',\n",
       "   'text': 'mapDigital'}}}"
      ]
     },
     "execution_count": 28,
     "metadata": {},
     "output_type": "execute_result"
    }
   ],
   "source": [
    "filled_meta3[\"ns0:citation\"]['ns0:CI_Citation']"
   ]
  },
  {
   "cell_type": "code",
   "execution_count": 29,
   "id": "20eb6955-3d2f-4a99-8064-a5ef21adac18",
   "metadata": {},
   "outputs": [
    {
     "data": {
      "text/plain": [
       "{'ns0:title': {'ns1:CharacterString': 'ca_transit_routes'},\n",
       " 'ns0:date': {'ns1:nilReason': 'missing'},\n",
       " 'ns0:presentationForm': {'ns0:CI_PresentationFormCode': {'codeList': 'http://www.isotc211.org/2005/resources/Codelist/gmxCodelists.xml#CI_PresentationFormCode',\n",
       "   'codeListValue': 'mapDigital',\n",
       "   'codeSpace': 'ISOTC211/19115',\n",
       "   'text': 'mapDigital'}}}"
      ]
     },
     "execution_count": 29,
     "metadata": {},
     "output_type": "execute_result"
    }
   ],
   "source": [
    "sparse_meta3[\"ns0:citation\"][\"ns0:CI_Citation\"]"
   ]
  },
  {
   "cell_type": "code",
   "execution_count": 20,
   "id": "16721091-2d71-4a90-8d0a-75ed5574c0a6",
   "metadata": {},
   "outputs": [
    {
     "name": "stdout",
     "output_type": "stream",
     "text": [
      "**********ns0:citation**********\n",
      "filled meta\n",
      "{'ns0:CI_Citation': {'ns0:title': {'ns1:CharacterString': 'ca_hq_transit_stops'}, 'ns0:date': {'ns0:CI_Date': {'ns0:date': {'ns1:Date': '2022-09-14'}, 'ns0:dateType': {'ns0:CI_DateTypeCode': {'codeList': 'http://www.isotc211.org/2005/resources/Codelist/gmxCodelists.xml#CI_DateTypeCode', 'codeListValue': 'creation', 'codeSpace': 'ISOTC211/19115', 'text': 'creation'}}}}, 'ns0:citedResponsibleParty': {'ns0:CI_ResponsibleParty': {'ns0:individualName': {'ns1:CharacterString': 'My Name'}, 'ns0:organisationName': {'ns1:CharacterString': 'Caltrans'}, 'ns0:role': {'ns0:CI_RoleCode': {'codeList': 'http://www.isotc211.org/2005/resources/Codelist/gmxCodelists.xml#CI_RoleCode', 'codeListValue': 'publisher', 'codeSpace': 'ISOTC211/19115', 'text': 'publisher'}}}}, 'ns0:presentationForm': {'ns0:CI_PresentationFormCode': {'codeList': 'http://www.isotc211.org/2005/resources/Codelist/gmxCodelists.xml#CI_PresentationFormCode', 'codeListValue': 'mapDigital', 'codeSpace': 'ISOTC211/19115', 'text': 'mapDigital'}}}}\n",
      "sparse meta\n",
      "{'ns0:CI_Citation': {'ns0:title': {'ns1:CharacterString': 'ca_transit_routes'}, 'ns0:date': {'ns1:nilReason': 'missing'}, 'ns0:presentationForm': {'ns0:CI_PresentationFormCode': {'codeList': 'http://www.isotc211.org/2005/resources/Codelist/gmxCodelists.xml#CI_PresentationFormCode', 'codeListValue': 'mapDigital', 'codeSpace': 'ISOTC211/19115', 'text': 'mapDigital'}}}}\n",
      "**********ns0:abstract**********\n",
      "filled meta\n",
      "{'ns1:CharacterString': 'abstract.'}\n",
      "sparse meta\n",
      "{'ns1:CharacterString': 'Description.'}\n",
      "**********ns0:purpose**********\n",
      "filled meta\n",
      "{'ns1:CharacterString': 'summary.'}\n",
      "sparse meta\n",
      "{'ns1:CharacterString': 'Purpose.'}\n",
      "**********ns0:status**********\n",
      "filled meta\n",
      "{'ns0:MD_ProgressCode': {'codeList': 'http://www.isotc211.org/2005/resources/Codelist/gmxCodelists.xml#MD_ProgressCode', 'codeListValue': 'completed', 'codeSpace': 'ISOTC211/19115', 'text': 'completed'}}\n",
      "sparse meta\n",
      "MISSING KEY ns0:status\n",
      "**********ns0:resourceMaintenance**********\n",
      "filled meta\n",
      "{'ns0:MD_MaintenanceInformation': {'ns0:maintenanceAndUpdateFrequency': {'ns0:MD_MaintenanceFrequencyCode': {'codeList': 'http://www.isotc211.org/2005/resources/Codelist/gmxCodelists.xml#MD_MaintenanceFrequencyCode', 'codeListValue': 'monthly', 'codeSpace': 'ISOTC211/19115', 'text': 'monthly'}}, 'ns0:dateOfNextUpdate': {'ns1:Date': '2022-10-14'}}}\n",
      "sparse meta\n",
      "MISSING KEY ns0:resourceMaintenance\n",
      "**********ns0:descriptiveKeywords**********\n",
      "filled meta\n",
      "[{'ns0:MD_Keywords': {'ns0:keyword': {'ns1:CharacterString': 'Downloadable Data'}, 'ns0:thesaurusName': {'uuidref': '723f6998-058e-11dc-8314-0800200c9a66'}}}, {'ns0:MD_Keywords': {'ns0:keyword': [{'ns1:CharacterString': 'tag1'}, {'ns1:CharacterString': 'tag2'}, {'ns1:CharacterString': 'tag3'}, {'ns1:CharacterString': 'tag4'}, {'ns1:CharacterString': 'tag5'}]}}]\n",
      "sparse meta\n",
      "{'ns0:MD_Keywords': {'ns0:keyword': {'ns1:CharacterString': 'Downloadable Data'}, 'ns0:thesaurusName': {'uuidref': '723f6998-058e-11dc-8314-0800200c9a66'}}}\n",
      "**********ns0:resourceConstraints**********\n",
      "filled meta\n",
      "{'ns0:MD_LegalConstraints': {'ns0:useConstraints': {'ns0:MD_RestrictionCode': {'codeList': 'http://www.isotc211.org/2005/resources/Codelist/gmxCodelists.xml#MD_RestrictionCode', 'codeListValue': 'license', 'codeSpace': 'ISOTC211/19115', 'text': 'license'}}}}\n",
      "sparse meta\n",
      "MISSING KEY ns0:resourceConstraints\n",
      "**********ns0:spatialRepresentationType**********\n",
      "filled meta\n",
      "{'ns0:MD_SpatialRepresentationTypeCode': {'codeList': 'http://www.isotc211.org/2005/resources/Codelist/gmxCodelists.xml#MD_SpatialRepresentationTypeCode', 'codeListValue': 'vector', 'codeSpace': 'ISOTC211/19115', 'text': 'vector'}}\n",
      "sparse meta\n",
      "{'ns0:MD_SpatialRepresentationTypeCode': {'codeList': 'http://www.isotc211.org/2005/resources/Codelist/gmxCodelists.xml#MD_SpatialRepresentationTypeCode', 'codeListValue': 'vector', 'codeSpace': 'ISOTC211/19115', 'text': 'vector'}}\n",
      "**********ns0:language**********\n",
      "filled meta\n",
      "{'ns0:LanguageCode': {'codeList': 'http://www.loc.gov/standards/iso639-2/php/code_list.php', 'codeListValue': 'eng', 'codeSpace': 'ISO639-2', 'text': 'eng'}}\n",
      "sparse meta\n",
      "{'ns0:LanguageCode': {'codeList': 'http://www.loc.gov/standards/iso639-2/php/code_list.php', 'codeListValue': 'eng', 'codeSpace': 'ISO639-2', 'text': 'eng'}}\n",
      "**********ns0:characterSet**********\n",
      "filled meta\n",
      "{'ns0:MD_CharacterSetCode': {'codeList': 'http://www.isotc211.org/2005/resources/Codelist/gmxCodelists.xml#MD_CharacterSetCode', 'codeListValue': 'utf8', 'codeSpace': 'ISOTC211/19115', 'text': 'utf8'}}\n",
      "sparse meta\n",
      "{'ns0:MD_CharacterSetCode': {'codeList': 'http://www.isotc211.org/2005/resources/Codelist/gmxCodelists.xml#MD_CharacterSetCode', 'codeListValue': 'utf8', 'codeSpace': 'ISOTC211/19115', 'text': 'utf8'}}\n",
      "**********ns0:topicCategory**********\n",
      "filled meta\n",
      "{'ns0:MD_TopicCategoryCode': 'transportation'}\n",
      "sparse meta\n",
      "MISSING KEY ns0:topicCategory\n",
      "**********ns0:environmentDescription**********\n",
      "filled meta\n",
      "{'ns1:CharacterString': 'Microsoft Windows 10 Version 10.0 (Build 19042) ; Esri ArcGIS 12.9.2.32739'}\n",
      "sparse meta\n",
      "{'ns1:CharacterString': 'Microsoft Windows 10 Version 10.0 (Build 19042) ; Esri ArcGIS 12.9.2.32739'}\n",
      "**********ns0:extent**********\n",
      "filled meta\n",
      "{'ns0:EX_Extent': {'ns0:description': {'ns1:CharacterString': 'Place!'}, 'ns0:temporalElement': {'ns0:EX_TemporalExtent': {'ns0:extent': {'ns2:TimePeriod': {'ns2:id': 'IDTHEUOADE3DTXN0JZLJJCKB3KYOXZW24IO50YYMN4CF4PCK32AIZO', 'ns2:beginPosition': '2022-09-14T00:00:00', 'ns2:endPosition': '2022-10-14T00:00:00'}}}}}}\n",
      "sparse meta\n",
      "MISSING KEY ns0:extent\n"
     ]
    }
   ],
   "source": [
    "compare_id_info(filled_meta2, sparse_meta2)"
   ]
  },
  {
   "cell_type": "code",
   "execution_count": null,
   "id": "18781e95-ec9f-42af-9e13-23ab6e9ea64f",
   "metadata": {},
   "outputs": [],
   "source": [
    "explore_me = \"ns0:identificationInfo\"\n",
    "filled_meta2[explore_me]['ns0:MD_DataIdentification']"
   ]
  },
  {
   "cell_type": "code",
   "execution_count": null,
   "id": "98c5601c-2c85-4517-b6ae-81ade9d4c022",
   "metadata": {},
   "outputs": [],
   "source": [
    "sparse_meta2[explore_me]['ns0:MD_DataIdentification']"
   ]
  },
  {
   "cell_type": "code",
   "execution_count": null,
   "id": "4f9255d5-07e9-4f68-b5f3-652c99eb6729",
   "metadata": {},
   "outputs": [],
   "source": [
    "# Lift necessary stuff from 1st time through shp to file gdb\n",
    "def lift_missing_dataset_elements(metadata_json):\n",
    "    m = metadata_json[\"ns0:MD_Metadata\"]\n",
    "    \n",
    "    # Store this info in a dictionary\n",
    "    d = {}\n",
    "    \n",
    "    # Data Quality\n",
    "    d['ns0:dataQualityInfo'] = m['ns0:dataQualityInfo']\n",
    "    \n",
    "    # metadata info\n",
    "    d['xmlns:ns2'] = m['xmlns:ns2']\n",
    "    \n",
    "    return d\n",
    "\n",
    "lift_missing_dataset_elements(meta)"
   ]
  },
  {
   "cell_type": "code",
   "execution_count": null,
   "id": "53b7d893-5252-4e75-a4ca-0d18879539b1",
   "metadata": {},
   "outputs": [],
   "source": [
    "from pydantic import BaseModel\n",
    "from typing import Dict, List\n",
    "\n",
    "class metadata_input(BaseModel):\n",
    "    dataset_name: str\n",
    "    publish_entity: str = \"California Integrated Travel Project\"\n",
    "    abstract: str\n",
    "    purpose: str\n",
    "    beginning_date: str\n",
    "    end_date: str\n",
    "    place: str = \"California\"\n",
    "    status: str = \"Complete\"\n",
    "    frequency: str = \"Monthly\"\n",
    "    theme_topics: Dict\n",
    "    methodology: str\n",
    "    data_dict_type: str\n",
    "    data_dict_url: str\n",
    "    contact_organization: str = \"Caltrans\"\n",
    "    contact_person: str\n",
    "    contact_email: str = \"hello@calitp.org\"\n",
    "    horiz_accuracy: str = \"0.00004 decimal degrees\""
   ]
  },
  {
   "cell_type": "code",
   "execution_count": null,
   "id": "822c7635-fc41-4315-9f2a-2bd720fb4d36",
   "metadata": {},
   "outputs": [],
   "source": []
  }
 ],
 "metadata": {
  "kernelspec": {
   "display_name": "Python 3 (ipykernel)",
   "language": "python",
   "name": "python3"
  },
  "language_info": {
   "codemirror_mode": {
    "name": "ipython",
    "version": 3
   },
   "file_extension": ".py",
   "mimetype": "text/x-python",
   "name": "python",
   "nbconvert_exporter": "python",
   "pygments_lexer": "ipython3",
   "version": "3.10.5"
  }
 },
 "nbformat": 4,
 "nbformat_minor": 5
}
