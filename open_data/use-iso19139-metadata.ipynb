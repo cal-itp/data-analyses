{
 "cells": [
  {
   "cell_type": "markdown",
   "id": "fcfc3ce6-3e25-4544-a636-975a377ec10e",
   "metadata": {},
   "source": [
    "# ISO 19139 GML 3.2 metadata format\n",
    "\n",
    "Steps:\n",
    "1. See what's in the filled out XML\n",
    "1. See what's in the sparse XML\n",
    "1. What sections need to be lifted to be part of the `default.xml`\n",
    "1. What parts belong to a dataset that need to follow it, even after the template is applied?\n",
    "1. What parts need to be overwritten?"
   ]
  },
  {
   "cell_type": "code",
   "execution_count": 1,
   "id": "e07f0692-c577-4242-9c4f-a3166d8939f5",
   "metadata": {},
   "outputs": [],
   "source": [
    "import xml.etree.ElementTree as ET\n",
    "import xmltodict "
   ]
  },
  {
   "cell_type": "code",
   "execution_count": 2,
   "id": "34ddcb42-a1de-4e1a-b128-028e282457fd",
   "metadata": {},
   "outputs": [],
   "source": [
    "FILLED_OUT_XML_FILE = \"ca_hq_transit_stops.xml\"\n",
    "SPARSE_XML_FILE = \"ca_transit_routes.xml\""
   ]
  },
  {
   "cell_type": "code",
   "execution_count": 3,
   "id": "54b21b67-62c1-456a-a00e-137a7f1d03e1",
   "metadata": {},
   "outputs": [],
   "source": [
    "def xml_to_json(path: str) -> dict:  \n",
    "    try:\n",
    "        print(f\"Loading XML as JSON from {path}\")\n",
    "        xml = ET.tostring(ET.parse(path).getroot())\n",
    "        return xmltodict.parse(xml, \n",
    "                               attr_prefix=\"\", cdata_key=\"text\", \n",
    "                               #process_namespaces=True,\n",
    "                               #namespaces={\"ns:0\", \"\"},\n",
    "                               dict_constructor=dict)\n",
    "    except:\n",
    "        print(f\"Loading failed for {path}\")\n",
    "    return {}"
   ]
  },
  {
   "cell_type": "code",
   "execution_count": 4,
   "id": "1e6627d2-9012-4725-a35c-a5297ff1b8ce",
   "metadata": {},
   "outputs": [
    {
     "name": "stdout",
     "output_type": "stream",
     "text": [
      "Loading XML as JSON from ca_hq_transit_stops.xml\n",
      "Loading XML as JSON from ca_transit_routes.xml\n"
     ]
    }
   ],
   "source": [
    "filled_meta = xml_to_json(FILLED_OUT_XML_FILE)\n",
    "sparse_meta = xml_to_json(SPARSE_XML_FILE)"
   ]
  },
  {
   "cell_type": "code",
   "execution_count": 7,
   "id": "d8418f77-99f5-4701-9053-2b302ffe0fe6",
   "metadata": {},
   "outputs": [],
   "source": [
    "filled_meta2 = filled_meta[\"ns0:MD_Metadata\"]\n",
    "sparse_meta2 = sparse_meta[\"ns0:MD_Metadata\"]"
   ]
  },
  {
   "cell_type": "code",
   "execution_count": 16,
   "id": "47aea99c-c46d-4140-9c51-6a8c6f6ee249",
   "metadata": {},
   "outputs": [],
   "source": [
    "def compare_dict_items(my_dict1: dict, my_dict2: dict):\n",
    "    for key, value in my_dict1.items():\n",
    "        print(f\"**********{key}**********\")        \n",
    "        print(\"filled meta\")\n",
    "        print(my_dict1[key])\n",
    "        print(\"sparse meta\")\n",
    "        if my_dict2.get(key) is not None:\n",
    "            print(my_dict2[key])\n",
    "        else: \n",
    "            print(f\"MISSING KEY {key}\")"
   ]
  },
  {
   "cell_type": "code",
   "execution_count": 17,
   "id": "35c3345d-f787-4116-b3b4-3cc27d15269b",
   "metadata": {},
   "outputs": [
    {
     "name": "stdout",
     "output_type": "stream",
     "text": [
      "**********xmlns:ns0**********\n",
      "filled meta\n",
      "http://www.isotc211.org/2005/gmd\n",
      "sparse meta\n",
      "http://www.isotc211.org/2005/gmd\n",
      "**********xmlns:ns1**********\n",
      "filled meta\n",
      "http://www.isotc211.org/2005/gco\n",
      "sparse meta\n",
      "http://www.isotc211.org/2005/gco\n",
      "**********xmlns:ns2**********\n",
      "filled meta\n",
      "http://www.opengis.net/gml/3.2\n",
      "sparse meta\n",
      "MISSING KEY xmlns:ns2\n",
      "**********ns0:language**********\n",
      "filled meta\n",
      "{'ns0:LanguageCode': {'codeList': 'http://www.loc.gov/standards/iso639-2/php/code_list.php', 'codeListValue': 'eng', 'codeSpace': 'ISO639-2', 'text': 'eng'}}\n",
      "sparse meta\n",
      "{'ns0:LanguageCode': {'codeList': 'http://www.loc.gov/standards/iso639-2/php/code_list.php', 'codeListValue': 'eng', 'codeSpace': 'ISO639-2', 'text': 'eng'}}\n",
      "**********ns0:characterSet**********\n",
      "filled meta\n",
      "{'ns0:MD_CharacterSetCode': {'codeList': 'http://www.isotc211.org/2005/resources/Codelist/gmxCodelists.xml#MD_CharacterSetCode', 'codeListValue': 'utf8', 'codeSpace': 'ISOTC211/19115', 'text': 'utf8'}}\n",
      "sparse meta\n",
      "{'ns0:MD_CharacterSetCode': {'codeList': 'http://www.isotc211.org/2005/resources/Codelist/gmxCodelists.xml#MD_CharacterSetCode', 'codeListValue': 'utf8', 'codeSpace': 'ISOTC211/19115', 'text': 'utf8'}}\n",
      "**********ns0:hierarchyLevel**********\n",
      "filled meta\n",
      "{'ns0:MD_ScopeCode': {'codeList': 'http://www.isotc211.org/2005/resources/Codelist/gmxCodelists.xml#MD_ScopeCode', 'codeListValue': 'dataset', 'codeSpace': 'ISOTC211/19115', 'text': 'dataset'}}\n",
      "sparse meta\n",
      "{'ns0:MD_ScopeCode': {'codeList': 'http://www.isotc211.org/2005/resources/Codelist/gmxCodelists.xml#MD_ScopeCode', 'codeListValue': 'dataset', 'codeSpace': 'ISOTC211/19115', 'text': 'dataset'}}\n",
      "**********ns0:hierarchyLevelName**********\n",
      "filled meta\n",
      "{'ns1:CharacterString': 'dataset'}\n",
      "sparse meta\n",
      "{'ns1:CharacterString': 'dataset'}\n",
      "**********ns0:contact**********\n",
      "filled meta\n",
      "{'ns0:CI_ResponsibleParty': {'ns0:individualName': {'ns1:CharacterString': 'My Name'}, 'ns0:organisationName': {'ns1:CharacterString': 'Caltrans'}, 'ns0:positionName': {'ns1:CharacterString': 'California Integrated Travel Project'}, 'ns0:contactInfo': {'ns0:CI_Contact': {'ns0:address': {'ns0:CI_Address': {'ns0:electronicMailAddress': {'ns1:CharacterString': 'hello@calitp.org'}}}}}, 'ns0:role': {'ns0:CI_RoleCode': {'codeList': 'http://www.isotc211.org/2005/resources/Codelist/gmxCodelists.xml#CI_RoleCode', 'codeListValue': 'publisher', 'codeSpace': 'ISOTC211/19115', 'text': 'publisher'}}}}\n",
      "sparse meta\n",
      "{'ns1:nilReason': 'missing'}\n",
      "**********ns0:dateStamp**********\n",
      "filled meta\n",
      "{'ns1:Date': '2022-10-11'}\n",
      "sparse meta\n",
      "{'ns1:Date': '2022-10-06'}\n",
      "**********ns0:metadataStandardName**********\n",
      "filled meta\n",
      "{'ns1:CharacterString': 'ISO 19139 Geographic Information - Metadata - Implementation Specification'}\n",
      "sparse meta\n",
      "{'ns1:CharacterString': 'ISO 19139 Geographic Information - Metadata - Implementation Specification'}\n",
      "**********ns0:metadataStandardVersion**********\n",
      "filled meta\n",
      "{'ns1:CharacterString': '2007'}\n",
      "sparse meta\n",
      "{'ns1:CharacterString': '2007'}\n",
      "**********ns0:spatialRepresentationInfo**********\n",
      "filled meta\n",
      "{'ns0:MD_VectorSpatialRepresentation': {'ns0:topologyLevel': {'ns0:MD_TopologyLevelCode': {'codeList': 'http://www.isotc211.org/2005/resources/Codelist/gmxCodelists.xml#MD_TopologyLevelCode', 'codeListValue': 'geometryOnly', 'codeSpace': 'ISOTC211/19115', 'text': 'geometryOnly'}}, 'ns0:geometricObjects': {'ns0:MD_GeometricObjects': {'ns0:geometricObjectType': {'ns0:MD_GeometricObjectTypeCode': {'codeList': 'http://www.isotc211.org/2005/resources/Codelist/gmxCodelists.xml#MD_GeometricObjectTypeCode', 'codeListValue': 'point', 'codeSpace': 'ISOTC211/19115', 'text': 'point'}}}}}}\n",
      "sparse meta\n",
      "{'ns0:MD_VectorSpatialRepresentation': {'ns0:topologyLevel': {'ns0:MD_TopologyLevelCode': {'codeList': 'http://www.isotc211.org/2005/resources/Codelist/gmxCodelists.xml#MD_TopologyLevelCode', 'codeListValue': 'geometryOnly', 'codeSpace': 'ISOTC211/19115', 'text': 'geometryOnly'}}, 'ns0:geometricObjects': {'ns0:MD_GeometricObjects': {'ns0:geometricObjectType': {'ns0:MD_GeometricObjectTypeCode': {'codeList': 'http://www.isotc211.org/2005/resources/Codelist/gmxCodelists.xml#MD_GeometricObjectTypeCode', 'codeListValue': 'composite', 'codeSpace': 'ISOTC211/19115', 'text': 'composite'}}}}}}\n",
      "**********ns0:referenceSystemInfo**********\n",
      "filled meta\n",
      "{'ns0:MD_ReferenceSystem': {'ns0:referenceSystemIdentifier': {'ns0:RS_Identifier': {'ns0:code': {'ns1:CharacterString': '4326'}, 'ns0:codeSpace': {'ns1:CharacterString': 'EPSG'}, 'ns0:version': {'ns1:CharacterString': '6.2(3.0.1)'}}}}}\n",
      "sparse meta\n",
      "{'ns0:MD_ReferenceSystem': {'ns0:referenceSystemIdentifier': {'ns0:RS_Identifier': {'ns0:code': {'ns1:CharacterString': '4326'}, 'ns0:codeSpace': {'ns1:CharacterString': 'EPSG'}, 'ns0:version': {'ns1:CharacterString': '6.2(3.0.1)'}}}}}\n",
      "**********ns0:identificationInfo**********\n",
      "filled meta\n",
      "{'ns0:MD_DataIdentification': {'ns0:citation': {'ns0:CI_Citation': {'ns0:title': {'ns1:CharacterString': 'ca_hq_transit_stops'}, 'ns0:date': {'ns0:CI_Date': {'ns0:date': {'ns1:Date': '2022-09-14'}, 'ns0:dateType': {'ns0:CI_DateTypeCode': {'codeList': 'http://www.isotc211.org/2005/resources/Codelist/gmxCodelists.xml#CI_DateTypeCode', 'codeListValue': 'creation', 'codeSpace': 'ISOTC211/19115', 'text': 'creation'}}}}, 'ns0:citedResponsibleParty': {'ns0:CI_ResponsibleParty': {'ns0:individualName': {'ns1:CharacterString': 'My Name'}, 'ns0:organisationName': {'ns1:CharacterString': 'Caltrans'}, 'ns0:role': {'ns0:CI_RoleCode': {'codeList': 'http://www.isotc211.org/2005/resources/Codelist/gmxCodelists.xml#CI_RoleCode', 'codeListValue': 'publisher', 'codeSpace': 'ISOTC211/19115', 'text': 'publisher'}}}}, 'ns0:presentationForm': {'ns0:CI_PresentationFormCode': {'codeList': 'http://www.isotc211.org/2005/resources/Codelist/gmxCodelists.xml#CI_PresentationFormCode', 'codeListValue': 'mapDigital', 'codeSpace': 'ISOTC211/19115', 'text': 'mapDigital'}}}}, 'ns0:abstract': {'ns1:CharacterString': 'abstract.'}, 'ns0:purpose': {'ns1:CharacterString': 'summary.'}, 'ns0:status': {'ns0:MD_ProgressCode': {'codeList': 'http://www.isotc211.org/2005/resources/Codelist/gmxCodelists.xml#MD_ProgressCode', 'codeListValue': 'completed', 'codeSpace': 'ISOTC211/19115', 'text': 'completed'}}, 'ns0:resourceMaintenance': {'ns0:MD_MaintenanceInformation': {'ns0:maintenanceAndUpdateFrequency': {'ns0:MD_MaintenanceFrequencyCode': {'codeList': 'http://www.isotc211.org/2005/resources/Codelist/gmxCodelists.xml#MD_MaintenanceFrequencyCode', 'codeListValue': 'monthly', 'codeSpace': 'ISOTC211/19115', 'text': 'monthly'}}, 'ns0:dateOfNextUpdate': {'ns1:Date': '2022-10-14'}}}, 'ns0:descriptiveKeywords': [{'ns0:MD_Keywords': {'ns0:keyword': {'ns1:CharacterString': 'Downloadable Data'}, 'ns0:thesaurusName': {'uuidref': '723f6998-058e-11dc-8314-0800200c9a66'}}}, {'ns0:MD_Keywords': {'ns0:keyword': [{'ns1:CharacterString': 'tag1'}, {'ns1:CharacterString': 'tag2'}, {'ns1:CharacterString': 'tag3'}, {'ns1:CharacterString': 'tag4'}, {'ns1:CharacterString': 'tag5'}]}}], 'ns0:resourceConstraints': {'ns0:MD_LegalConstraints': {'ns0:useConstraints': {'ns0:MD_RestrictionCode': {'codeList': 'http://www.isotc211.org/2005/resources/Codelist/gmxCodelists.xml#MD_RestrictionCode', 'codeListValue': 'license', 'codeSpace': 'ISOTC211/19115', 'text': 'license'}}}}, 'ns0:spatialRepresentationType': {'ns0:MD_SpatialRepresentationTypeCode': {'codeList': 'http://www.isotc211.org/2005/resources/Codelist/gmxCodelists.xml#MD_SpatialRepresentationTypeCode', 'codeListValue': 'vector', 'codeSpace': 'ISOTC211/19115', 'text': 'vector'}}, 'ns0:language': {'ns0:LanguageCode': {'codeList': 'http://www.loc.gov/standards/iso639-2/php/code_list.php', 'codeListValue': 'eng', 'codeSpace': 'ISO639-2', 'text': 'eng'}}, 'ns0:characterSet': {'ns0:MD_CharacterSetCode': {'codeList': 'http://www.isotc211.org/2005/resources/Codelist/gmxCodelists.xml#MD_CharacterSetCode', 'codeListValue': 'utf8', 'codeSpace': 'ISOTC211/19115', 'text': 'utf8'}}, 'ns0:topicCategory': {'ns0:MD_TopicCategoryCode': 'transportation'}, 'ns0:environmentDescription': {'ns1:CharacterString': 'Microsoft Windows 10 Version 10.0 (Build 19042) ; Esri ArcGIS 12.9.2.32739'}, 'ns0:extent': {'ns0:EX_Extent': {'ns0:description': {'ns1:CharacterString': 'Place!'}, 'ns0:temporalElement': {'ns0:EX_TemporalExtent': {'ns0:extent': {'ns2:TimePeriod': {'ns2:id': 'IDTHEUOADE3DTXN0JZLJJCKB3KYOXZW24IO50YYMN4CF4PCK32AIZO', 'ns2:beginPosition': '2022-09-14T00:00:00', 'ns2:endPosition': '2022-10-14T00:00:00'}}}}}}}}\n",
      "sparse meta\n",
      "{'ns0:MD_DataIdentification': {'ns0:citation': {'ns0:CI_Citation': {'ns0:title': {'ns1:CharacterString': 'ca_transit_routes'}, 'ns0:date': {'ns1:nilReason': 'missing'}, 'ns0:presentationForm': {'ns0:CI_PresentationFormCode': {'codeList': 'http://www.isotc211.org/2005/resources/Codelist/gmxCodelists.xml#CI_PresentationFormCode', 'codeListValue': 'mapDigital', 'codeSpace': 'ISOTC211/19115', 'text': 'mapDigital'}}}}, 'ns0:abstract': {'ns1:CharacterString': 'Description.'}, 'ns0:purpose': {'ns1:CharacterString': 'Purpose.'}, 'ns0:descriptiveKeywords': {'ns0:MD_Keywords': {'ns0:keyword': {'ns1:CharacterString': 'Downloadable Data'}, 'ns0:thesaurusName': {'uuidref': '723f6998-058e-11dc-8314-0800200c9a66'}}}, 'ns0:spatialRepresentationType': {'ns0:MD_SpatialRepresentationTypeCode': {'codeList': 'http://www.isotc211.org/2005/resources/Codelist/gmxCodelists.xml#MD_SpatialRepresentationTypeCode', 'codeListValue': 'vector', 'codeSpace': 'ISOTC211/19115', 'text': 'vector'}}, 'ns0:language': {'ns0:LanguageCode': {'codeList': 'http://www.loc.gov/standards/iso639-2/php/code_list.php', 'codeListValue': 'eng', 'codeSpace': 'ISO639-2', 'text': 'eng'}}, 'ns0:characterSet': {'ns0:MD_CharacterSetCode': {'codeList': 'http://www.isotc211.org/2005/resources/Codelist/gmxCodelists.xml#MD_CharacterSetCode', 'codeListValue': 'utf8', 'codeSpace': 'ISOTC211/19115', 'text': 'utf8'}}, 'ns0:environmentDescription': {'ns1:CharacterString': 'Microsoft Windows 10 Version 10.0 (Build 19042) ; Esri ArcGIS 12.9.2.32739'}}}\n",
      "**********ns0:distributionInfo**********\n",
      "filled meta\n",
      "{'ns0:MD_Distribution': {'ns0:distributionFormat': {'ns0:MD_Format': {'ns0:name': {'ns1:CharacterString': 'File Geodatabase Feature Class'}, 'ns0:version': {'ns1:nilReason': 'missing'}}}}}\n",
      "sparse meta\n",
      "{'ns0:MD_Distribution': {'ns0:distributionFormat': {'ns0:MD_Format': {'ns0:name': {'ns1:CharacterString': 'File Geodatabase Feature Class'}, 'ns0:version': {'ns1:nilReason': 'missing'}}}}}\n",
      "**********ns0:dataQualityInfo**********\n",
      "filled meta\n",
      "{'ns0:DQ_DataQuality': {'ns0:scope': {'ns1:nilReason': 'missing'}, 'ns0:report': {'ns0:DQ_RelativeInternalPositionalAccuracy': {'ns0:measureDescription': {'ns1:CharacterString': '4 meters'}, 'ns0:result': {'ns1:nilReason': 'missing'}}}, 'ns0:lineage': {'ns0:LI_Lineage': {'ns0:processStep': {'ns0:LI_ProcessStep': {'ns0:description': {'ns1:CharacterString': 'Methodology.'}}}}}}}\n",
      "sparse meta\n",
      "MISSING KEY ns0:dataQualityInfo\n"
     ]
    }
   ],
   "source": [
    "compare_dict_items(filled_meta2, sparse_meta2)"
   ]
  },
  {
   "cell_type": "code",
   "execution_count": 9,
   "id": "330dca7d-bb5d-4052-99b0-34a3c66be362",
   "metadata": {},
   "outputs": [
    {
     "data": {
      "text/plain": [
       "{'xmlns:ns0': 'http://www.isotc211.org/2005/gmd',\n",
       " 'xmlns:ns1': 'http://www.isotc211.org/2005/gco',\n",
       " 'ns0:language': {'ns0:LanguageCode': {'codeList': 'http://www.loc.gov/standards/iso639-2/php/code_list.php',\n",
       "   'codeListValue': 'eng',\n",
       "   'codeSpace': 'ISO639-2',\n",
       "   'text': 'eng'}},\n",
       " 'ns0:characterSet': {'ns0:MD_CharacterSetCode': {'codeList': 'http://www.isotc211.org/2005/resources/Codelist/gmxCodelists.xml#MD_CharacterSetCode',\n",
       "   'codeListValue': 'utf8',\n",
       "   'codeSpace': 'ISOTC211/19115',\n",
       "   'text': 'utf8'}},\n",
       " 'ns0:hierarchyLevel': {'ns0:MD_ScopeCode': {'codeList': 'http://www.isotc211.org/2005/resources/Codelist/gmxCodelists.xml#MD_ScopeCode',\n",
       "   'codeListValue': 'dataset',\n",
       "   'codeSpace': 'ISOTC211/19115',\n",
       "   'text': 'dataset'}},\n",
       " 'ns0:hierarchyLevelName': {'ns1:CharacterString': 'dataset'},\n",
       " 'ns0:contact': {'ns1:nilReason': 'missing'},\n",
       " 'ns0:dateStamp': {'ns1:Date': '2022-10-06'},\n",
       " 'ns0:metadataStandardName': {'ns1:CharacterString': 'ISO 19139 Geographic Information - Metadata - Implementation Specification'},\n",
       " 'ns0:metadataStandardVersion': {'ns1:CharacterString': '2007'},\n",
       " 'ns0:spatialRepresentationInfo': {'ns0:MD_VectorSpatialRepresentation': {'ns0:topologyLevel': {'ns0:MD_TopologyLevelCode': {'codeList': 'http://www.isotc211.org/2005/resources/Codelist/gmxCodelists.xml#MD_TopologyLevelCode',\n",
       "     'codeListValue': 'geometryOnly',\n",
       "     'codeSpace': 'ISOTC211/19115',\n",
       "     'text': 'geometryOnly'}},\n",
       "   'ns0:geometricObjects': {'ns0:MD_GeometricObjects': {'ns0:geometricObjectType': {'ns0:MD_GeometricObjectTypeCode': {'codeList': 'http://www.isotc211.org/2005/resources/Codelist/gmxCodelists.xml#MD_GeometricObjectTypeCode',\n",
       "       'codeListValue': 'composite',\n",
       "       'codeSpace': 'ISOTC211/19115',\n",
       "       'text': 'composite'}}}}}},\n",
       " 'ns0:referenceSystemInfo': {'ns0:MD_ReferenceSystem': {'ns0:referenceSystemIdentifier': {'ns0:RS_Identifier': {'ns0:code': {'ns1:CharacterString': '4326'},\n",
       "     'ns0:codeSpace': {'ns1:CharacterString': 'EPSG'},\n",
       "     'ns0:version': {'ns1:CharacterString': '6.2(3.0.1)'}}}}},\n",
       " 'ns0:identificationInfo': {'ns0:MD_DataIdentification': {'ns0:citation': {'ns0:CI_Citation': {'ns0:title': {'ns1:CharacterString': 'ca_transit_routes'},\n",
       "     'ns0:date': {'ns1:nilReason': 'missing'},\n",
       "     'ns0:presentationForm': {'ns0:CI_PresentationFormCode': {'codeList': 'http://www.isotc211.org/2005/resources/Codelist/gmxCodelists.xml#CI_PresentationFormCode',\n",
       "       'codeListValue': 'mapDigital',\n",
       "       'codeSpace': 'ISOTC211/19115',\n",
       "       'text': 'mapDigital'}}}},\n",
       "   'ns0:abstract': {'ns1:CharacterString': 'Description.'},\n",
       "   'ns0:purpose': {'ns1:CharacterString': 'Purpose.'},\n",
       "   'ns0:descriptiveKeywords': {'ns0:MD_Keywords': {'ns0:keyword': {'ns1:CharacterString': 'Downloadable Data'},\n",
       "     'ns0:thesaurusName': {'uuidref': '723f6998-058e-11dc-8314-0800200c9a66'}}},\n",
       "   'ns0:spatialRepresentationType': {'ns0:MD_SpatialRepresentationTypeCode': {'codeList': 'http://www.isotc211.org/2005/resources/Codelist/gmxCodelists.xml#MD_SpatialRepresentationTypeCode',\n",
       "     'codeListValue': 'vector',\n",
       "     'codeSpace': 'ISOTC211/19115',\n",
       "     'text': 'vector'}},\n",
       "   'ns0:language': {'ns0:LanguageCode': {'codeList': 'http://www.loc.gov/standards/iso639-2/php/code_list.php',\n",
       "     'codeListValue': 'eng',\n",
       "     'codeSpace': 'ISO639-2',\n",
       "     'text': 'eng'}},\n",
       "   'ns0:characterSet': {'ns0:MD_CharacterSetCode': {'codeList': 'http://www.isotc211.org/2005/resources/Codelist/gmxCodelists.xml#MD_CharacterSetCode',\n",
       "     'codeListValue': 'utf8',\n",
       "     'codeSpace': 'ISOTC211/19115',\n",
       "     'text': 'utf8'}},\n",
       "   'ns0:environmentDescription': {'ns1:CharacterString': 'Microsoft Windows 10 Version 10.0 (Build 19042) ; Esri ArcGIS 12.9.2.32739'}}},\n",
       " 'ns0:distributionInfo': {'ns0:MD_Distribution': {'ns0:distributionFormat': {'ns0:MD_Format': {'ns0:name': {'ns1:CharacterString': 'File Geodatabase Feature Class'},\n",
       "     'ns0:version': {'ns1:nilReason': 'missing'}}}}}}"
      ]
     },
     "execution_count": 9,
     "metadata": {},
     "output_type": "execute_result"
    }
   ],
   "source": [
    "sparse_meta2"
   ]
  },
  {
   "cell_type": "code",
   "execution_count": null,
   "id": "4f9255d5-07e9-4f68-b5f3-652c99eb6729",
   "metadata": {},
   "outputs": [],
   "source": [
    "# Lift necessary stuff from 1st time through shp to file gdb\n",
    "def lift_missing_dataset_elements(metadata_json):\n",
    "    m = metadata_json[\"ns0:MD_Metadata\"]\n",
    "    \n",
    "    # Store this info in a dictionary\n",
    "    d = {}\n",
    "    \n",
    "    # Data Quality\n",
    "    d['ns0:dataQualityInfo'] = m['ns0:dataQualityInfo']\n",
    "    \n",
    "    # metadata info\n",
    "    d['xmlns:ns2'] = m['xmlns:ns2']\n",
    "    \n",
    "    return d\n",
    "\n",
    "lift_missing_dataset_elements(meta)"
   ]
  },
  {
   "cell_type": "code",
   "execution_count": null,
   "id": "b218b03e-fb6d-4e6a-b16a-894da87b2ec7",
   "metadata": {},
   "outputs": [],
   "source": [
    "meta['ns0:MD_Metadata']\n",
    "\n",
    "\n"
   ]
  },
  {
   "cell_type": "code",
   "execution_count": null,
   "id": "e2d745bc-e0c7-4a2f-9479-fdac8deceefd",
   "metadata": {},
   "outputs": [],
   "source": [
    "metadata_input = {\n",
    "    dataset_name: str\n",
    "    publish_entity: str = \"California Integrated Travel Project\"\n",
    "    abstract: str\n",
    "    purpose: str\n",
    "    beginning_date: str\n",
    "    end_date: str\n",
    "    place: str = \"California\"\n",
    "    status: str = \"Complete\"\n",
    "    frequency: str = \"Monthly\"\n",
    "    theme_topics: Dict\n",
    "    methodology: str\n",
    "    data_dict_type: str\n",
    "    data_dict_url: str\n",
    "    contact_organization: str = \"Caltrans\"\n",
    "    contact_person: str\n",
    "    contact_email: str = \"hello@calitp.org\"\n",
    "    horiz_accuracy: str = \"0.00004 decimal degrees\"\n",
    "}"
   ]
  },
  {
   "cell_type": "code",
   "execution_count": null,
   "id": "53b7d893-5252-4e75-a4ca-0d18879539b1",
   "metadata": {},
   "outputs": [],
   "source": [
    "from pydantic import BaseModel\n",
    "from typing import Dict, List\n",
    "\n",
    "class metadata_input(BaseModel):\n",
    "    dataset_name: str\n",
    "    publish_entity: str = \"California Integrated Travel Project\"\n",
    "    abstract: str\n",
    "    purpose: str\n",
    "    beginning_date: str\n",
    "    end_date: str\n",
    "    place: str = \"California\"\n",
    "    status: str = \"Complete\"\n",
    "    frequency: str = \"Monthly\"\n",
    "    theme_topics: Dict\n",
    "    methodology: str\n",
    "    data_dict_type: str\n",
    "    data_dict_url: str\n",
    "    contact_organization: str = \"Caltrans\"\n",
    "    contact_person: str\n",
    "    contact_email: str = \"hello@calitp.org\"\n",
    "    horiz_accuracy: str = \"0.00004 decimal degrees\""
   ]
  },
  {
   "cell_type": "code",
   "execution_count": null,
   "id": "5c28a2b0-5290-48ad-a0ed-8ac6b07e273b",
   "metadata": {},
   "outputs": [],
   "source": [
    "meta['ns0:MD_Metadata']['ns0:dataQualityInfo'][\"ns0:DQ_DataQuality\"].keys()"
   ]
  },
  {
   "cell_type": "code",
   "execution_count": null,
   "id": "eeea183a-7d55-43ac-bc00-fcb9d5240d8c",
   "metadata": {},
   "outputs": [],
   "source": [
    "# This entire dict item needs to be lifted and appended\n",
    "# because it's not in default\n",
    "meta['ns0:MD_Metadata']['xmlns:ns2']"
   ]
  },
  {
   "cell_type": "code",
   "execution_count": null,
   "id": "822c7635-fc41-4315-9f2a-2bd720fb4d36",
   "metadata": {},
   "outputs": [],
   "source": []
  }
 ],
 "metadata": {
  "kernelspec": {
   "display_name": "Python 3 (ipykernel)",
   "language": "python",
   "name": "python3"
  },
  "language_info": {
   "codemirror_mode": {
    "name": "ipython",
    "version": 3
   },
   "file_extension": ".py",
   "mimetype": "text/x-python",
   "name": "python",
   "nbconvert_exporter": "python",
   "pygments_lexer": "ipython3",
   "version": "3.10.5"
  }
 },
 "nbformat": 4,
 "nbformat_minor": 5
}
