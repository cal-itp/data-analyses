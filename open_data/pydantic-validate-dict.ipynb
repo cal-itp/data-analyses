{
 "cells": [
  {
   "cell_type": "code",
   "execution_count": 9,
   "id": "22f0c327-8874-4174-8378-01269ec952b1",
   "metadata": {},
   "outputs": [
    {
     "name": "stdout",
     "output_type": "stream",
     "text": [
      "Requirement already satisfied: pydantic==1.9.0 in /opt/conda/lib/python3.10/site-packages (1.9.0)\n",
      "Requirement already satisfied: typing-extensions>=3.7.4.3 in /opt/conda/lib/python3.10/site-packages (from pydantic==1.9.0) (4.2.0)\n",
      "Requirement already satisfied: typer==0.4.1 in /opt/conda/lib/python3.10/site-packages (0.4.1)\n",
      "Requirement already satisfied: click<9.0.0,>=7.1.1 in /opt/conda/lib/python3.10/site-packages (from typer==0.4.1) (8.1.3)\n",
      "Collecting xmltodict\n",
      "  Using cached xmltodict-0.13.0-py2.py3-none-any.whl (10.0 kB)\n",
      "Installing collected packages: xmltodict\n",
      "Successfully installed xmltodict-0.13.0\n"
     ]
    }
   ],
   "source": [
    "!pip install pydantic==1.9.0\n",
    "!pip install typer==0.4.1\n",
    "#!pip install xmltodict"
   ]
  },
  {
   "cell_type": "markdown",
   "id": "969595c4-2a8e-45d5-bbfe-e8651423164b",
   "metadata": {},
   "source": [
    "# Validate metadata dict with `pydantic` \n",
    "\n",
    "* https://stackoverflow.com/questions/69388833/triggering-a-function-on-creation-of-an-pydantic-object\n",
    "* https://stackoverflow.com/questions/68434810/pydantic-how-to-add-data-alteration-functions-within-the-class\n",
    "* https://stackoverflow.com/questions/62267544/generate-pydantic-model-from-a-dict\n",
    "* https://github.com/cal-itp/data-infra/blob/main/jobs/gtfs-rt-parser/gtfs_rt_parser.py#L177\n",
    "* https://github.com/cal-itp/data-infra/blob/main/warehouse/scripts/dbt_artifacts.py\n",
    "\n",
    "Maybe handle the Python functions separately? Seems overly complex"
   ]
  },
  {
   "cell_type": "code",
   "execution_count": 21,
   "id": "1ccc7ec4-cec1-4e9e-b2f1-08da05454c82",
   "metadata": {},
   "outputs": [],
   "source": [
    "from datetime import datetime\n",
    "from typing import List, Optional, Dict\n",
    "from enum import Enum\n",
    "from pydantic import BaseModel"
   ]
  },
  {
   "cell_type": "code",
   "execution_count": 54,
   "id": "ee524166-9997-4e07-a840-775061c7eb08",
   "metadata": {},
   "outputs": [],
   "source": [
    "class data_dict_format(str, Enum):\n",
    "    csv = \"CSV\"\n",
    "    xml = \"XML\"\n",
    "    \n",
    "# Function to put in list of keywords (MINIMUM 5 needed)\n",
    "def fill_in_keyword_list(topic='transportation', keyword_list = []):\n",
    "    if len(keyword_list) >= 5:\n",
    "        filled_out_list = [\n",
    "            {'themekt': 'ISO 19115 Topic Categories',\n",
    "             'themekey': topic},\n",
    "             {'themekt': 'None',\n",
    "              'themekey': keyword_list\n",
    "             }\n",
    "        ]\n",
    "\n",
    "        return filled_out_list\n",
    "    else:\n",
    "        return \"Input minimum 5 keywords\"\n",
    "\n",
    "class metadata_input(BaseModel):\n",
    "    dataset_name: str\n",
    "    publish_entity: str = \"California Integrated Travel Project\"\n",
    "    abstract: str\n",
    "    purpose: str\n",
    "    beginning_date: str\n",
    "    end_date: str\n",
    "    place: str = \"California\"\n",
    "    status: str = \"Complete\"\n",
    "    frequency: str = \"Monthly\"\n",
    "    theme_keywords: List[str]\n",
    "    methodology: str\n",
    "    data_dict_type: data_dict_format\n",
    "    data_dict_url: str\n",
    "    contact_organization: str = \"Caltrans\"\n",
    "    contact_person: str\n",
    "    contact_email: str = \"hello@calitp.org\"\n",
    "    \n",
    "    # Add validation or enum so that certain string is title case\n",
    "    # Frequency can be Monthly, Yearly, or whatever, go into ESRI and see what choices\n",
    "    "
   ]
  },
  {
   "cell_type": "code",
   "execution_count": 25,
   "id": "83b3978a-0dfd-4212-8741-6a1e5c9ea4e6",
   "metadata": {},
   "outputs": [],
   "source": [
    "#hqta.HQTA_TRANSIT_STOPS_DICT"
   ]
  },
  {
   "cell_type": "code",
   "execution_count": 48,
   "id": "5a59b3a4-b639-484e-8235-b5622f9c3f47",
   "metadata": {},
   "outputs": [],
   "source": [
    "test_dict = hqta.HQTA_TRANSIT_STOPS_DICT"
   ]
  },
  {
   "cell_type": "code",
   "execution_count": 55,
   "id": "cf44a2b2-1f85-40f2-98af-bfdaba246d5d",
   "metadata": {},
   "outputs": [],
   "source": [
    "test_dict[\"theme_keywords\"] = [\n",
    "    'Transportation',\n",
    "    'Land Use',\n",
    "    'Transit-Oriented Development',\n",
    "    'TOD',\n",
    "    'High Quality Transit'\n",
    "]"
   ]
  },
  {
   "cell_type": "code",
   "execution_count": null,
   "id": "80afeac8-8ac4-4b92-8103-0ccab30f01b5",
   "metadata": {},
   "outputs": [],
   "source": []
  },
  {
   "cell_type": "code",
   "execution_count": 58,
   "id": "a75b2acf-3486-4c67-9113-3fa2fe54e1e1",
   "metadata": {},
   "outputs": [],
   "source": [
    "my_dict = metadata_input(**test_dict).dict()"
   ]
  },
  {
   "cell_type": "code",
   "execution_count": 61,
   "id": "05fdbd61-4c4b-4bf8-9964-96aeec055cf8",
   "metadata": {},
   "outputs": [],
   "source": [
    "my_dict[\"theme_topics\"] = fill_in_keyword_list(topic=\"transportation\", keyword_list=my_dict[\"theme_keywords\"])"
   ]
  },
  {
   "cell_type": "code",
   "execution_count": 62,
   "id": "839fd192-b423-4206-9729-e40e409e6fec",
   "metadata": {},
   "outputs": [
    {
     "data": {
      "text/plain": [
       "{'dataset_name': 'ca_hq_transit_stops',\n",
       " 'publish_entity': 'California Integrated Travel Project',\n",
       " 'abstract': 'Public. EPSG: 3310',\n",
       " 'purpose': '\\n    Estimated High Quality Transit Areas as described in \\n    Public Resources Code 21155, 21064.3, 21060.2.\\n    ',\n",
       " 'beginning_date': '20220517',\n",
       " 'end_date': '20220617',\n",
       " 'place': 'California',\n",
       " 'status': 'Complete',\n",
       " 'frequency': 'Monthly',\n",
       " 'theme_keywords': ['Transportation',\n",
       "  'Land Use',\n",
       "  'Transit-Oriented Development',\n",
       "  'TOD',\n",
       "  'High Quality Transit'],\n",
       " 'methodology': '\\n    This data was estimated using a spatial process derived from General Transit Feed Specification (GTFS) schedule data. To find high-quality bus corridors, we split each corridor into 1,500 meter segments and counted frequencies at the stop within that segment with the highest number of transit trips. If that stop saw at least 4 trips per hour for at least one hour in the morning, and again for at least one hour in the afternoon, we consider that segment a high-quality bus corridor. Segments without a stop are not considered high-quality corridors. Major transit stops were identified as either the intersection of two high-quality corridors from the previous step, a rail or bus rapid transit station, or a ferry terminal with bus service. Note that the definition of “bus rapid transit” in Public Resources Code 21060.2 includes features not captured by available data sources, these features were captured manually using information from transit agency sources and imagery. We believe this data to be broadly accurate, and fit for purposes including overall dashboards, locating facilities in relation to high quality transit areas, and assessing community transit coverage. However, the spatial determination of high-quality transit areas from GTFS data necessarily involves some assumptions as described above. Any critical determinations of whether a specific parcel is located within a high-quality transit area should be made in conjunction with local sources, such as transit agency timetables.\\n    ',\n",
       " 'data_dict_type': <data_dict_format.csv: 'CSV'>,\n",
       " 'data_dict_url': 'some_url',\n",
       " 'contact_organization': 'Caltrans',\n",
       " 'contact_person': 'Eric Dasmalchi',\n",
       " 'contact_email': 'eric.dasmalchi@dot.ca.gov',\n",
       " 'theme_topics': [{'themekt': 'ISO 19115 Topic Categories',\n",
       "   'themekey': 'transportation'},\n",
       "  {'themekt': 'None',\n",
       "   'themekey': ['Transportation',\n",
       "    'Land Use',\n",
       "    'Transit-Oriented Development',\n",
       "    'TOD',\n",
       "    'High Quality Transit']}]}"
      ]
     },
     "execution_count": 62,
     "metadata": {},
     "output_type": "execute_result"
    }
   ],
   "source": [
    "my_dict"
   ]
  },
  {
   "cell_type": "code",
   "execution_count": 26,
   "id": "684f98b5-234f-4860-8339-7ff04bde9ecd",
   "metadata": {},
   "outputs": [
    {
     "ename": "ValidationError",
     "evalue": "2 validation errors for metadata_input\ntheme_topics -> 0\n  str type expected (type=type_error.str)\ntheme_topics -> 1\n  str type expected (type=type_error.str)",
     "output_type": "error",
     "traceback": [
      "\u001b[0;31m---------------------------------------------------------------------------\u001b[0m",
      "\u001b[0;31mValidationError\u001b[0m                           Traceback (most recent call last)",
      "Input \u001b[0;32mIn [26]\u001b[0m, in \u001b[0;36m<cell line: 2>\u001b[0;34m()\u001b[0m\n\u001b[1;32m      1\u001b[0m \u001b[38;5;28;01mimport\u001b[39;00m \u001b[38;5;21;01mhqta\u001b[39;00m\n\u001b[0;32m----> 2\u001b[0m \u001b[43mmetadata_input\u001b[49m\u001b[43m(\u001b[49m\u001b[38;5;241;43m*\u001b[39;49m\u001b[38;5;241;43m*\u001b[39;49m\u001b[43mhqta\u001b[49m\u001b[38;5;241;43m.\u001b[39;49m\u001b[43mHQTA_TRANSIT_STOPS_DICT\u001b[49m\u001b[43m)\u001b[49m\u001b[38;5;241m.\u001b[39mdict()\n",
      "File \u001b[0;32m/opt/conda/lib/python3.10/site-packages/pydantic/main.py:331\u001b[0m, in \u001b[0;36mpydantic.main.BaseModel.__init__\u001b[0;34m()\u001b[0m\n",
      "\u001b[0;31mValidationError\u001b[0m: 2 validation errors for metadata_input\ntheme_topics -> 0\n  str type expected (type=type_error.str)\ntheme_topics -> 1\n  str type expected (type=type_error.str)"
     ]
    }
   ],
   "source": [
    "import hqta\n",
    "metadata_input(**hqta.HQTA_TRANSIT_STOPS_DICT).dict()"
   ]
  },
  {
   "cell_type": "code",
   "execution_count": 6,
   "id": "1a0bc66a-6e7c-4a5d-a846-b90322460047",
   "metadata": {},
   "outputs": [
    {
     "data": {
      "text/plain": [
       "{'id': 123,\n",
       " 'signup_ts': datetime.datetime(2019, 6, 1, 12, 22),\n",
       " 'friends': [1, 2, 3],\n",
       " 'name': 'John Doe'}"
      ]
     },
     "execution_count": 6,
     "metadata": {},
     "output_type": "execute_result"
    }
   ],
   "source": [
    "User(**external_data).dict()"
   ]
  },
  {
   "cell_type": "code",
   "execution_count": null,
   "id": "5d950619-5d90-48dc-96f8-eae19c6c8ab4",
   "metadata": {},
   "outputs": [],
   "source": []
  }
 ],
 "metadata": {
  "kernelspec": {
   "display_name": "Python 3 (ipykernel)",
   "language": "python",
   "name": "python3"
  },
  "language_info": {
   "codemirror_mode": {
    "name": "ipython",
    "version": 3
   },
   "file_extension": ".py",
   "mimetype": "text/x-python",
   "name": "python",
   "nbconvert_exporter": "python",
   "pygments_lexer": "ipython3",
   "version": "3.10.4"
  }
 },
 "nbformat": 4,
 "nbformat_minor": 5
}
