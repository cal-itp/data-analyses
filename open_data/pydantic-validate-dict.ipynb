{
 "cells": [
  {
   "cell_type": "code",
   "execution_count": null,
   "id": "22f0c327-8874-4174-8378-01269ec952b1",
   "metadata": {},
   "outputs": [],
   "source": [
    "!pip install pydantic==1.9.0\n",
    "!pip install typer==0.4.1\n",
    "!pip install xmltodict"
   ]
  },
  {
   "cell_type": "markdown",
   "id": "969595c4-2a8e-45d5-bbfe-e8651423164b",
   "metadata": {},
   "source": [
    "# Validate metadata dict with `pydantic` \n",
    "\n",
    "* https://stackoverflow.com/questions/69388833/triggering-a-function-on-creation-of-an-pydantic-object\n",
    "* https://stackoverflow.com/questions/68434810/pydantic-how-to-add-data-alteration-functions-within-the-class\n",
    "* https://stackoverflow.com/questions/62267544/generate-pydantic-model-from-a-dict\n",
    "* https://github.com/cal-itp/data-infra/blob/main/jobs/gtfs-rt-parser/gtfs_rt_parser.py#L177\n",
    "* https://github.com/cal-itp/data-infra/blob/main/warehouse/scripts/dbt_artifacts.py\n",
    "\n",
    "Maybe handle the Python functions separately? Seems overly complex"
   ]
  },
  {
   "cell_type": "code",
   "execution_count": null,
   "id": "1ccc7ec4-cec1-4e9e-b2f1-08da05454c82",
   "metadata": {},
   "outputs": [],
   "source": [
    "from datetime import datetime\n",
    "from typing import List, Optional, Dict\n",
    "#from enum import Enum\n",
    "from pydantic import BaseModel"
   ]
  },
  {
   "cell_type": "code",
   "execution_count": null,
   "id": "c8f64592-e2a6-45d1-8fc9-90f602847839",
   "metadata": {},
   "outputs": [],
   "source": [
    "DATA_DICT_FORMAT = [\"CSV\", \"XML\"]\n",
    "UPDATE_FREQUENCY = [\n",
    "    \"Continual\", \"Daily\", \"Weekly\",\n",
    "    \"Fortnightly\", \"Monthly\", \"Quarterly\", \n",
    "    \"Biannually\", \"Annually\", \n",
    "    \"As Needed\", \"Irregular\", \"Not Planned\", \"Unknown\"\n",
    "]\n",
    "\n",
    "class data_dict_format(str, Enum):\n",
    "    CSV = \"CSV\"\n",
    "    XML = \"XML\"\n",
    "    \n",
    "class update_frequency(str, Enum):\n",
    "    Continual = \"Continual\"\n",
    "    Daily = \"Daily\"\n",
    "    Weekly = \"Weekly\"\n",
    "    Fortnightly = \"Fortnightly\"\n",
    "    Monthly = \"Monthly\"\n",
    "    Quarterly = \"Quarterly\"\n",
    "    Biannually = \"Biannually\"\n",
    "    Annually = \"Annually\"\n",
    "    as_needed = \"As Needed\"\n",
    "    Irregular = \"Irregular\"\n",
    "    not_planned = \"Not Planned\"\n",
    "    Unknown = \"Unknown\"\n"
   ]
  }
 ],
 "metadata": {
  "kernelspec": {
   "display_name": "Python 3 (ipykernel)",
   "language": "python",
   "name": "python3"
  },
  "language_info": {
   "codemirror_mode": {
    "name": "ipython",
    "version": 3
   },
   "file_extension": ".py",
   "mimetype": "text/x-python",
   "name": "python",
   "nbconvert_exporter": "python",
   "pygments_lexer": "ipython3",
   "version": "3.10.4"
  }
 },
 "nbformat": 4,
 "nbformat_minor": 5
}
