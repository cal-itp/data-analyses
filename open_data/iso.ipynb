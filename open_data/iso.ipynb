{
 "cells": [
  {
   "cell_type": "markdown",
   "id": "5d239a89-c430-4180-802b-217d3f6eafd1",
   "metadata": {},
   "source": [
    "# Flatten ISO dict, remove some string, then nest again"
   ]
  },
  {
   "cell_type": "code",
   "execution_count": 1,
   "id": "99a1db07-785e-4867-a17a-586a47ce5fc0",
   "metadata": {},
   "outputs": [],
   "source": [
    "import xml.etree.ElementTree as ET\n",
    "import xmltodict"
   ]
  },
  {
   "cell_type": "code",
   "execution_count": 2,
   "id": "b9eb98a6-3871-4b39-8e95-f089a7f7f5f5",
   "metadata": {},
   "outputs": [],
   "source": [
    "def xml_to_json(path: str) -> dict:  \n",
    "    try:\n",
    "        print(f\"Loading XML as JSON from {path}\")\n",
    "        xml = ET.tostring(ET.parse(path).getroot())\n",
    "        \n",
    "        return xmltodict.parse(xml, \n",
    "                                  #https://stackoverflow.com/questions/35452588/remove-special-characters-from-keys-of-a-parsed-xml-file-using-xmltodict\n",
    "                               attr_prefix=\"\", cdata_key=\"text\", \n",
    "                               process_namespaces=True,\n",
    "                               # This isn't stripping it\n",
    "                               #namespaces = {\n",
    "                               #    \"http://www.isotc211.org/2005/gmd:\": \"\"\n",
    "                               #}, \n",
    "                               # Instead, do something similar in the dictionary like this\n",
    "                               # https://github.com/GeosoftInc/gxpy/blob/master/geosoft/gxpy/utility.py\n",
    "                               dict_constructor=dict)\n",
    "        \n",
    "    except:\n",
    "        print(f\"Loading failed for {path}\")\n",
    "    return {}"
   ]
  },
  {
   "cell_type": "code",
   "execution_count": 3,
   "id": "ab1fcc4d-d58e-4c1c-b5e9-b26f113f30fa",
   "metadata": {},
   "outputs": [
    {
     "name": "stdout",
     "output_type": "stream",
     "text": [
      "Loading XML as JSON from ./metadata_xml/ca_hq_transit_stops.xml\n"
     ]
    }
   ],
   "source": [
    "XML_FILE = \"./metadata_xml/ca_hq_transit_stops.xml\"\n",
    "orig_metadata = xml_to_json(XML_FILE)"
   ]
  },
  {
   "cell_type": "code",
   "execution_count": 5,
   "id": "2e7c87c6-9d87-439b-86ae-e5e370b4e205",
   "metadata": {},
   "outputs": [],
   "source": [
    "#orig_metadata"
   ]
  },
  {
   "cell_type": "code",
   "execution_count": 6,
   "id": "8a3bd898-d0d7-4b49-97b0-a4b0a6460b81",
   "metadata": {},
   "outputs": [],
   "source": [
    "# https://stackoverflow.com/questions/6027558/flatten-nested-dictionaries-compressing-keys\n",
    "from collections.abc import MutableMapping\n",
    "import re\n",
    "\n",
    "def flatten(d, parent_key='', sep='_'):\n",
    "    items = []\n",
    "    for k, v in d.items():\n",
    "        new_key = parent_key + sep + k if parent_key else k\n",
    "        if isinstance(v, MutableMapping):\n",
    "            items.extend(flatten(v, new_key, sep=sep).items())\n",
    "        else:\n",
    "            items.append((new_key, v))\n",
    "    return dict(items)"
   ]
  },
  {
   "cell_type": "code",
   "execution_count": 7,
   "id": "c5e87b92-ecf0-4752-a195-9b4083d079ab",
   "metadata": {},
   "outputs": [],
   "source": [
    "flat_metadata = flatten(orig_metadata)"
   ]
  },
  {
   "cell_type": "code",
   "execution_count": 9,
   "id": "42303ba6-21bb-4658-974e-cbcd66ca3405",
   "metadata": {},
   "outputs": [],
   "source": [
    "#flat_metadata"
   ]
  },
  {
   "cell_type": "code",
   "execution_count": 10,
   "id": "cb6f159c-0cb4-4357-8038-ff6fd5188bca",
   "metadata": {},
   "outputs": [],
   "source": [
    "p = 'http://www.isotc211.org/2005/gmd:'\n",
    "\n",
    "flat_metadata_clean = {re.sub(p, '', str(k)): re.sub(p, '', str(v)) \n",
    "         for k, v in flat_metadata.items()}"
   ]
  },
  {
   "cell_type": "code",
   "execution_count": 12,
   "id": "7050ce9e-f854-4d93-957c-dba7eb4ca3d0",
   "metadata": {},
   "outputs": [],
   "source": [
    "#flat_metadata_clean"
   ]
  },
  {
   "cell_type": "code",
   "execution_count": 13,
   "id": "c4ce2361-0934-4c84-a4c4-6eda1e2253e7",
   "metadata": {},
   "outputs": [],
   "source": [
    "#https://stackoverflow.com/questions/50607128/creating-a-nested-dictionary-from-a-flattened-dictionary\n",
    "\n",
    "from collections import defaultdict\n",
    "from functools import reduce\n",
    "from operator import getitem\n",
    "\n",
    "def getFromDict(dataDict, mapList):\n",
    "    \"\"\"Iterate nested dictionary\"\"\"\n",
    "    return reduce(getitem, mapList, dataDict)\n",
    "\n",
    "# instantiate nested defaultdict of defaultdicts\n",
    "tree = lambda: defaultdict(tree)\n",
    "d = tree()\n",
    "\n",
    "# iterate input dictionary\n",
    "for k, v in flat_metadata_clean.items():\n",
    "    *keys, final_key = k.split('_')\n",
    "    getFromDict(d, keys)[final_key] = v"
   ]
  },
  {
   "cell_type": "code",
   "execution_count": 14,
   "id": "b9cd7397-e7f0-4d49-95e5-d22beeb6d5aa",
   "metadata": {},
   "outputs": [],
   "source": [
    "def default_to_regular_dict(d):\n",
    "    \"\"\"Convert nested defaultdict to regular dict of dicts.\"\"\"\n",
    "    if isinstance(d, defaultdict):\n",
    "        d = {k: default_to_regular_dict(v) for k, v in d.items()}\n",
    "    return d\n",
    "\n",
    "# convert back to regular dict\n",
    "nested_metadata = default_to_regular_dict(d)"
   ]
  },
  {
   "cell_type": "code",
   "execution_count": 24,
   "id": "1154711c-61dc-41a8-aad7-ccbb71da10d4",
   "metadata": {},
   "outputs": [],
   "source": [
    "m = nested_metadata[\"MD\"][\"Metadata\"]"
   ]
  },
  {
   "cell_type": "code",
   "execution_count": 40,
   "id": "74d7401a-be79-4700-ab25-623309305131",
   "metadata": {},
   "outputs": [
    {
     "data": {
      "text/plain": [
       "{'ResponsibleParty': {'individualName': {'http://www.isotc211.org/2005/gco:CharacterString': 'Eric Dasmalchi'},\n",
       "  'organisationName': {'http://www.isotc211.org/2005/gco:CharacterString': 'Caltrans'},\n",
       "  'positionName': {'http://www.isotc211.org/2005/gco:CharacterString': 'California Integrated Travel Project'},\n",
       "  'contactInfo': {'CI': {'Contact': {'address': {'CI': {'Address': {'electronicMailAddress': {'http://www.isotc211.org/2005/gco:CharacterString': 'eric.dasmalchi@dot.ca.gov'}}}}}}},\n",
       "  'role': {'CI': {'RoleCode': {'codeList': 'http://www.isotc211.org/2005/resources/Codelist/gmxCodelists.xml#CI_RoleCode',\n",
       "     'codeListValue': 'pointOfContact',\n",
       "     'codeSpace': 'ISOTC211/19115',\n",
       "     'text': 'pointOfContact'}}}}}"
      ]
     },
     "execution_count": 40,
     "metadata": {},
     "output_type": "execute_result"
    }
   ],
   "source": [
    "m[\"contact\"][\"CI\"]"
   ]
  },
  {
   "cell_type": "code",
   "execution_count": 37,
   "id": "e6ebb568-1a06-4af6-9a9b-bab2bdf6a31b",
   "metadata": {},
   "outputs": [
    {
     "name": "stdout",
     "output_type": "stream",
     "text": [
      "k2: CI\n",
      "v: {'ResponsibleParty': {'individualName': {'http://www.isotc211.org/2005/gco:CharacterString': 'Eric Dasmalchi'}, 'organisationName': {'http://www.isotc211.org/2005/gco:CharacterString': 'Caltrans'}, 'positionName': {'http://www.isotc211.org/2005/gco:CharacterString': 'California Integrated Travel Project'}, 'contactInfo': {'CI': {'Contact': {'address': {'CI': {'Address': {'electronicMailAddress': {'http://www.isotc211.org/2005/gco:CharacterString': 'eric.dasmalchi@dot.ca.gov'}}}}}}}, 'role': {'CI': {'RoleCode': {'codeList': 'http://www.isotc211.org/2005/resources/Codelist/gmxCodelists.xml#CI_RoleCode', 'codeListValue': 'pointOfContact', 'codeSpace': 'ISOTC211/19115', 'text': 'pointOfContact'}}}}}\n"
     ]
    }
   ],
   "source": [
    "show_me = [\"contact\"]\n",
    "for key, value in m.items():\n",
    "    if key in show_me:\n",
    "        #print(f\"Key: {key}\")\n",
    "        #print(value)\n",
    "        if isinstance(value, dict):\n",
    "            for k, v in value.items():\n",
    "                print(f\"k2: {k}\")\n",
    "                print(f\"v: {v}\")\n",
    "        else:\n",
    "            pass\n",
    "            \n"
   ]
  },
  {
   "cell_type": "code",
   "execution_count": 28,
   "id": "b3a5b6f1-8402-430a-ae66-9ca4b7ae6748",
   "metadata": {},
   "outputs": [
    {
     "data": {
      "text/plain": [
       "dict_keys(['language', 'characterSet', 'hierarchyLevel', 'hierarchyLevelName', 'contact', 'dateStamp', 'metadataStandardName', 'metadataStandardVersion', 'spatialRepresentationInfo', 'referenceSystemInfo', 'identificationInfo', 'distributionInfo', 'dataQualityInfo'])"
      ]
     },
     "execution_count": 28,
     "metadata": {},
     "output_type": "execute_result"
    }
   ],
   "source": [
    "m.keys()"
   ]
  },
  {
   "cell_type": "code",
   "execution_count": 31,
   "id": "3aacb637-bcee-445b-bc05-d868e15e4067",
   "metadata": {},
   "outputs": [],
   "source": [
    "#orig_metadata"
   ]
  },
  {
   "cell_type": "markdown",
   "id": "f2647fcd-7b7f-46db-92bb-9037aea9668f",
   "metadata": {},
   "source": [
    "## Can get it nested again - overwrite while it's flattened"
   ]
  },
  {
   "cell_type": "code",
   "execution_count": 19,
   "id": "eb8f9c17-2fe0-4df6-b5d2-772e0b0106a0",
   "metadata": {},
   "outputs": [],
   "source": [
    "from metadata_update import fill_in_keyword_list\n",
    "\n",
    "KEYWORDS = [\n",
    "    'Transportation',\n",
    "    'Land Use',\n",
    "    'Transit-Oriented Development',\n",
    "    'TOD',\n",
    "    'High Quality Transit'\n",
    "]\n",
    "\n",
    "KEYWORDS_FORMATTED = fill_in_keyword_list(\n",
    "    topic='transportation', keyword_list = KEYWORDS)\n",
    "\n",
    "PURPOSE = ('''\n",
    "    Estimated High Quality Transit Areas as described in \n",
    "    Public Resources Code 21155, 21064.3, 21060.2.\n",
    "    '''\n",
    ")\n",
    "\n",
    "METHODOLOGY = ('''\n",
    "    This data was estimated using a spatial process derived from General Transit Feed Specification (GTFS) schedule data. To find high-quality bus corridors, we split each corridor into 1500 meter segments and counted frequencies at the stop within that segment with the highest number of transit trips. If that stop saw at least 4 trips per hour for at least one hour in the morning, and again for at least one hour in the afternoon, we consider that segment a high-quality bus corridor. Segments without a stop are not considered high-quality corridors. Major transit stops were identified as either the intersection of two high-quality corridors from the previous step, a rail or bus rapid transit station, or a ferry terminal with bus service. Note that the definition of “bus rapid transit” in Public Resources Code 21060.2 includes features not captured by available data sources, these features were captured manually using information from transit agency sources and imagery. We believe this data to be broadly accurate, and fit for purposes including overall dashboards, locating facilities in relation to high quality transit areas, and assessing community transit coverage. However, the spatial determination of high-quality transit areas from GTFS data necessarily involves some assumptions as described above. Any critical determinations of whether a specific parcel is located within a high-quality transit area should be made in conjunction with local sources, such as transit agency timetables.\n",
    "    '''\n",
    ")\n",
    "\n",
    "HQTA_TRANSIT_AREAS_DICT = {\n",
    "    \"dataset_name\": \"ca_hq_transit_areas\", \n",
    "    \"publish_entity\": \"California Integrated Travel Project\", \n",
    "\n",
    "    \"abstract\": \"Public. EPSG: 3310\",\n",
    "    \"purpose\": PURPOSE, \n",
    "\n",
    "    \"beginning_date\": \"20220517\",\n",
    "    \"end_date\": \"20220617\",\n",
    "    \"place\": \"California\",\n",
    "\n",
    "    \"status\": \"Complete\", \n",
    "    \"frequency\": \"Monthly\",\n",
    "    \n",
    "    \"theme_topics\": KEYWORDS_FORMATTED, \n",
    "\n",
    "    \"methodology\": METHODOLOGY, \n",
    "    \n",
    "    \"data_dict_type\": \"CSV\",\n",
    "    \"data_dict_url\": \"some_url\", \n",
    "\n",
    "    \"contact_organization\": \"Caltrans\", \n",
    "    \"contact_person\": \"Eric Dasmalchi\", \n",
    "    \"contact_email\": \"eric.dasmalchi@dot.ca.gov\" \n",
    "    \n",
    "    # Add 2 other elements not in Caltrans documentation\n",
    "    # resource contact (same info as metadata contact)\n",
    "    # edition: use date, rather than number\n",
    "}"
   ]
  },
  {
   "cell_type": "code",
   "execution_count": 17,
   "id": "ed037303-7d6b-4a48-b70e-47a1b7f95479",
   "metadata": {},
   "outputs": [
    {
     "data": {
      "text/plain": [
       "{'MD_Metadata_language_LanguageCode_codeList': 'http://www.loc.gov/standards/iso639-2/php/code_list.php',\n",
       " 'MD_Metadata_language_LanguageCode_codeListValue': 'eng',\n",
       " 'MD_Metadata_language_LanguageCode_codeSpace': 'ISO639-2',\n",
       " 'MD_Metadata_language_LanguageCode_xmlns_ns0': 'http://www.isotc211.org/2005/gmd',\n",
       " 'MD_Metadata_language_LanguageCode_xmlns_ns1': 'http://www.isotc211.org/2005/gco',\n",
       " 'MD_Metadata_language_LanguageCode_xmlns_ns2': 'http://www.opengis.net/gml',\n",
       " 'MD_Metadata_language_LanguageCode_text': 'eng',\n",
       " 'MD_Metadata_characterSet_MD_CharacterSetCode_codeList': 'http://www.isotc211.org/2005/resources/Codelist/gmxCodelists.xml#MD_CharacterSetCode',\n",
       " 'MD_Metadata_characterSet_MD_CharacterSetCode_codeListValue': 'utf8',\n",
       " 'MD_Metadata_characterSet_MD_CharacterSetCode_codeSpace': 'ISOTC211/19115',\n",
       " 'MD_Metadata_characterSet_MD_CharacterSetCode_text': 'utf8',\n",
       " 'MD_Metadata_hierarchyLevel_MD_ScopeCode_codeList': 'http://www.isotc211.org/2005/resources/Codelist/gmxCodelists.xml#MD_ScopeCode',\n",
       " 'MD_Metadata_hierarchyLevel_MD_ScopeCode_codeListValue': 'dataset',\n",
       " 'MD_Metadata_hierarchyLevel_MD_ScopeCode_codeSpace': 'ISOTC211/19115',\n",
       " 'MD_Metadata_hierarchyLevel_MD_ScopeCode_text': 'dataset',\n",
       " 'MD_Metadata_hierarchyLevelName_http://www.isotc211.org/2005/gco:CharacterString': 'dataset',\n",
       " 'MD_Metadata_contact_CI_ResponsibleParty_individualName_http://www.isotc211.org/2005/gco:CharacterString': 'Eric Dasmalchi',\n",
       " 'MD_Metadata_contact_CI_ResponsibleParty_organisationName_http://www.isotc211.org/2005/gco:CharacterString': 'Caltrans',\n",
       " 'MD_Metadata_contact_CI_ResponsibleParty_positionName_http://www.isotc211.org/2005/gco:CharacterString': 'California Integrated Travel Project',\n",
       " 'MD_Metadata_contact_CI_ResponsibleParty_contactInfo_CI_Contact_address_CI_Address_electronicMailAddress_http://www.isotc211.org/2005/gco:CharacterString': 'eric.dasmalchi@dot.ca.gov',\n",
       " 'MD_Metadata_contact_CI_ResponsibleParty_role_CI_RoleCode_codeList': 'http://www.isotc211.org/2005/resources/Codelist/gmxCodelists.xml#CI_RoleCode',\n",
       " 'MD_Metadata_contact_CI_ResponsibleParty_role_CI_RoleCode_codeListValue': 'pointOfContact',\n",
       " 'MD_Metadata_contact_CI_ResponsibleParty_role_CI_RoleCode_codeSpace': 'ISOTC211/19115',\n",
       " 'MD_Metadata_contact_CI_ResponsibleParty_role_CI_RoleCode_text': 'pointOfContact',\n",
       " 'MD_Metadata_dateStamp_http://www.isotc211.org/2005/gco:Date': '2022-06-10',\n",
       " 'MD_Metadata_metadataStandardName_http://www.isotc211.org/2005/gco:CharacterString': 'ISO 19139 Geographic Information - Metadata - Implementation Specification',\n",
       " 'MD_Metadata_metadataStandardVersion_http://www.isotc211.org/2005/gco:CharacterString': '2007',\n",
       " 'MD_Metadata_spatialRepresentationInfo_MD_VectorSpatialRepresentation_topologyLevel_MD_TopologyLevelCode_codeList': 'http://www.isotc211.org/2005/resources/Codelist/gmxCodelists.xml#MD_TopologyLevelCode',\n",
       " 'MD_Metadata_spatialRepresentationInfo_MD_VectorSpatialRepresentation_topologyLevel_MD_TopologyLevelCode_codeListValue': 'geometryOnly',\n",
       " 'MD_Metadata_spatialRepresentationInfo_MD_VectorSpatialRepresentation_topologyLevel_MD_TopologyLevelCode_codeSpace': 'ISOTC211/19115',\n",
       " 'MD_Metadata_spatialRepresentationInfo_MD_VectorSpatialRepresentation_topologyLevel_MD_TopologyLevelCode_text': 'geometryOnly',\n",
       " 'MD_Metadata_spatialRepresentationInfo_MD_VectorSpatialRepresentation_geometricObjects_MD_GeometricObjects_geometricObjectType_MD_GeometricObjectTypeCode_codeList': 'http://www.isotc211.org/2005/resources/Codelist/gmxCodelists.xml#MD_GeometricObjectTypeCode',\n",
       " 'MD_Metadata_spatialRepresentationInfo_MD_VectorSpatialRepresentation_geometricObjects_MD_GeometricObjects_geometricObjectType_MD_GeometricObjectTypeCode_codeListValue': 'point',\n",
       " 'MD_Metadata_spatialRepresentationInfo_MD_VectorSpatialRepresentation_geometricObjects_MD_GeometricObjects_geometricObjectType_MD_GeometricObjectTypeCode_codeSpace': 'ISOTC211/19115',\n",
       " 'MD_Metadata_spatialRepresentationInfo_MD_VectorSpatialRepresentation_geometricObjects_MD_GeometricObjects_geometricObjectType_MD_GeometricObjectTypeCode_text': 'point',\n",
       " 'MD_Metadata_spatialRepresentationInfo_MD_VectorSpatialRepresentation_geometricObjects_MD_GeometricObjects_geometricObjectCount_http://www.isotc211.org/2005/gco:Integer': '40283',\n",
       " 'MD_Metadata_referenceSystemInfo_MD_ReferenceSystem_referenceSystemIdentifier_RS_Identifier_code_http://www.isotc211.org/2005/gco:CharacterString': '3310',\n",
       " 'MD_Metadata_referenceSystemInfo_MD_ReferenceSystem_referenceSystemIdentifier_RS_Identifier_codeSpace_http://www.isotc211.org/2005/gco:CharacterString': 'EPSG',\n",
       " 'MD_Metadata_referenceSystemInfo_MD_ReferenceSystem_referenceSystemIdentifier_RS_Identifier_version_http://www.isotc211.org/2005/gco:CharacterString': '6.8(9.2.0)',\n",
       " 'MD_Metadata_identificationInfo_MD_DataIdentification_citation_CI_Citation_title_http://www.isotc211.org/2005/gco:CharacterString': 'ca_hq_transit_stops',\n",
       " 'MD_Metadata_identificationInfo_MD_DataIdentification_citation_CI_Citation_date_http://www.isotc211.org/2005/gco:nilReason': 'missing',\n",
       " 'MD_Metadata_identificationInfo_MD_DataIdentification_citation_CI_Citation_editionDate_http://www.isotc211.org/2005/gco:Date': '2022-05-17',\n",
       " 'MD_Metadata_identificationInfo_MD_DataIdentification_citation_CI_Citation_citedResponsibleParty_CI_ResponsibleParty_organisationName_http://www.isotc211.org/2005/gco:CharacterString': 'California Integrated Travel Project',\n",
       " 'MD_Metadata_identificationInfo_MD_DataIdentification_citation_CI_Citation_citedResponsibleParty_CI_ResponsibleParty_role_CI_RoleCode_codeList': 'http://www.isotc211.org/2005/resources/Codelist/gmxCodelists.xml#CI_RoleCode',\n",
       " 'MD_Metadata_identificationInfo_MD_DataIdentification_citation_CI_Citation_citedResponsibleParty_CI_ResponsibleParty_role_CI_RoleCode_codeListValue': 'publisher',\n",
       " 'MD_Metadata_identificationInfo_MD_DataIdentification_citation_CI_Citation_citedResponsibleParty_CI_ResponsibleParty_role_CI_RoleCode_codeSpace': 'ISOTC211/19115',\n",
       " 'MD_Metadata_identificationInfo_MD_DataIdentification_citation_CI_Citation_citedResponsibleParty_CI_ResponsibleParty_role_CI_RoleCode_text': 'publisher',\n",
       " 'MD_Metadata_identificationInfo_MD_DataIdentification_citation_CI_Citation_presentationForm_CI_PresentationFormCode_codeList': 'http://www.isotc211.org/2005/resources/Codelist/gmxCodelists.xml#CI_PresentationFormCode',\n",
       " 'MD_Metadata_identificationInfo_MD_DataIdentification_citation_CI_Citation_presentationForm_CI_PresentationFormCode_codeListValue': 'mapDigital',\n",
       " 'MD_Metadata_identificationInfo_MD_DataIdentification_citation_CI_Citation_presentationForm_CI_PresentationFormCode_codeSpace': 'ISOTC211/19115',\n",
       " 'MD_Metadata_identificationInfo_MD_DataIdentification_citation_CI_Citation_presentationForm_CI_PresentationFormCode_text': 'mapDigital',\n",
       " 'MD_Metadata_identificationInfo_MD_DataIdentification_abstract_http://www.isotc211.org/2005/gco:CharacterString': 'Public. EPSG: 3310.',\n",
       " 'MD_Metadata_identificationInfo_MD_DataIdentification_purpose_http://www.isotc211.org/2005/gco:CharacterString': 'Estimated stops along High Quality Transit Corridors, plus major transit stops for bus rapid transit, ferry, rail modes as described in Public Resources Code 21155, 21064.3, 21060.2',\n",
       " 'MD_Metadata_identificationInfo_MD_DataIdentification_status_MD_ProgressCode_codeList': 'http://www.isotc211.org/2005/resources/Codelist/gmxCodelists.xml#MD_ProgressCode',\n",
       " 'MD_Metadata_identificationInfo_MD_DataIdentification_status_MD_ProgressCode_codeListValue': 'completed',\n",
       " 'MD_Metadata_identificationInfo_MD_DataIdentification_status_MD_ProgressCode_codeSpace': 'ISOTC211/19115',\n",
       " 'MD_Metadata_identificationInfo_MD_DataIdentification_status_MD_ProgressCode_text': 'completed',\n",
       " 'MD_Metadata_identificationInfo_MD_DataIdentification_pointOfContact_CI_ResponsibleParty_individualName_http://www.isotc211.org/2005/gco:CharacterString': 'Eric Dasmalchi',\n",
       " 'MD_Metadata_identificationInfo_MD_DataIdentification_pointOfContact_CI_ResponsibleParty_organisationName_http://www.isotc211.org/2005/gco:CharacterString': 'Caltrans',\n",
       " 'MD_Metadata_identificationInfo_MD_DataIdentification_pointOfContact_CI_ResponsibleParty_positionName_http://www.isotc211.org/2005/gco:CharacterString': 'California Integrated Travel Project',\n",
       " 'MD_Metadata_identificationInfo_MD_DataIdentification_pointOfContact_CI_ResponsibleParty_contactInfo_CI_Contact_address_CI_Address_electronicMailAddress_http://www.isotc211.org/2005/gco:CharacterString': 'eric.dasmalchi@dot.ca.gov',\n",
       " 'MD_Metadata_identificationInfo_MD_DataIdentification_pointOfContact_CI_ResponsibleParty_role_CI_RoleCode_codeList': 'http://www.isotc211.org/2005/resources/Codelist/gmxCodelists.xml#CI_RoleCode',\n",
       " 'MD_Metadata_identificationInfo_MD_DataIdentification_pointOfContact_CI_ResponsibleParty_role_CI_RoleCode_codeListValue': 'pointOfContact',\n",
       " 'MD_Metadata_identificationInfo_MD_DataIdentification_pointOfContact_CI_ResponsibleParty_role_CI_RoleCode_codeSpace': 'ISOTC211/19115',\n",
       " 'MD_Metadata_identificationInfo_MD_DataIdentification_pointOfContact_CI_ResponsibleParty_role_CI_RoleCode_text': 'pointOfContact',\n",
       " 'MD_Metadata_identificationInfo_MD_DataIdentification_resourceMaintenance_MD_MaintenanceInformation_maintenanceAndUpdateFrequency_MD_MaintenanceFrequencyCode_codeList': 'http://www.isotc211.org/2005/resources/Codelist/gmxCodelists.xml#MD_MaintenanceFrequencyCode',\n",
       " 'MD_Metadata_identificationInfo_MD_DataIdentification_resourceMaintenance_MD_MaintenanceInformation_maintenanceAndUpdateFrequency_MD_MaintenanceFrequencyCode_codeListValue': 'monthly',\n",
       " 'MD_Metadata_identificationInfo_MD_DataIdentification_resourceMaintenance_MD_MaintenanceInformation_maintenanceAndUpdateFrequency_MD_MaintenanceFrequencyCode_codeSpace': 'ISOTC211/19115',\n",
       " 'MD_Metadata_identificationInfo_MD_DataIdentification_resourceMaintenance_MD_MaintenanceInformation_maintenanceAndUpdateFrequency_MD_MaintenanceFrequencyCode_text': 'monthly',\n",
       " 'MD_Metadata_identificationInfo_MD_DataIdentification_descriptiveKeywords': \"[{'MD_Keywords': {'keyword': {'http://www.isotc211.org/2005/gco:CharacterString': 'transportation'}, 'type': {'MD_KeywordTypeCode': {'codeList': 'http://www.isotc211.org/2005/resources/Codelist/gmxCodelists.xml#MD_KeywordTypeCode', 'codeListValue': 'theme', 'codeSpace': 'ISOTC211/19115', 'text': 'theme'}}, 'thesaurusName': {'CI_Citation': {'title': {'http://www.isotc211.org/2005/gco:CharacterString': 'ISO 19115 Topic Categories'}, 'date': {'http://www.isotc211.org/2005/gco:nilReason': 'missing'}}}}}, {'MD_Keywords': {'keyword': [{'http://www.isotc211.org/2005/gco:CharacterString': 'Transit-Oriented Development'}, {'http://www.isotc211.org/2005/gco:CharacterString': 'TOD'}, {'http://www.isotc211.org/2005/gco:CharacterString': 'Transportation'}, {'http://www.isotc211.org/2005/gco:CharacterString': 'Land Use'}, {'http://www.isotc211.org/2005/gco:CharacterString': 'High Quality Transit'}], 'type': {'MD_KeywordTypeCode': {'codeList': 'http://www.isotc211.org/2005/resources/Codelist/gmxCodelists.xml#MD_KeywordTypeCode', 'codeListValue': 'theme', 'codeSpace': 'ISOTC211/19115', 'text': 'theme'}}}}, {'MD_Keywords': {'keyword': {'http://www.isotc211.org/2005/gco:CharacterString': 'Downloadable Data'}, 'thesaurusName': {'uuidref': '723f6998-058e-11dc-8314-0800200c9a66'}}}]\",\n",
       " 'MD_Metadata_identificationInfo_MD_DataIdentification_spatialRepresentationType_MD_SpatialRepresentationTypeCode_codeList': 'http://www.isotc211.org/2005/resources/Codelist/gmxCodelists.xml#MD_SpatialRepresentationTypeCode',\n",
       " 'MD_Metadata_identificationInfo_MD_DataIdentification_spatialRepresentationType_MD_SpatialRepresentationTypeCode_codeListValue': 'vector',\n",
       " 'MD_Metadata_identificationInfo_MD_DataIdentification_spatialRepresentationType_MD_SpatialRepresentationTypeCode_codeSpace': 'ISOTC211/19115',\n",
       " 'MD_Metadata_identificationInfo_MD_DataIdentification_spatialRepresentationType_MD_SpatialRepresentationTypeCode_text': 'vector',\n",
       " 'MD_Metadata_identificationInfo_MD_DataIdentification_language_LanguageCode_codeList': 'http://www.loc.gov/standards/iso639-2/php/code_list.php',\n",
       " 'MD_Metadata_identificationInfo_MD_DataIdentification_language_LanguageCode_codeListValue': 'eng',\n",
       " 'MD_Metadata_identificationInfo_MD_DataIdentification_language_LanguageCode_codeSpace': 'ISO639-2',\n",
       " 'MD_Metadata_identificationInfo_MD_DataIdentification_language_LanguageCode_text': 'eng',\n",
       " 'MD_Metadata_identificationInfo_MD_DataIdentification_characterSet_MD_CharacterSetCode_codeList': 'http://www.isotc211.org/2005/resources/Codelist/gmxCodelists.xml#MD_CharacterSetCode',\n",
       " 'MD_Metadata_identificationInfo_MD_DataIdentification_characterSet_MD_CharacterSetCode_codeListValue': 'utf8',\n",
       " 'MD_Metadata_identificationInfo_MD_DataIdentification_characterSet_MD_CharacterSetCode_codeSpace': 'ISOTC211/19115',\n",
       " 'MD_Metadata_identificationInfo_MD_DataIdentification_characterSet_MD_CharacterSetCode_text': 'utf8',\n",
       " 'MD_Metadata_identificationInfo_MD_DataIdentification_topicCategory_MD_TopicCategoryCode': 'transportation',\n",
       " 'MD_Metadata_identificationInfo_MD_DataIdentification_environmentDescription_http://www.isotc211.org/2005/gco:CharacterString': 'Version 6.2 (Build 9200) ; Esri ArcGIS 10.8.1.14362',\n",
       " 'MD_Metadata_identificationInfo_MD_DataIdentification_extent': \"[{'EX_Extent': {'description': {'http://www.isotc211.org/2005/gco:CharacterString': 'California'}, 'temporalElement': {'EX_TemporalExtent': {'extent': {'http://www.opengis.net/gml:TimePeriod': {'http://www.opengis.net/gml:id': 'ID0EWH', 'http://www.opengis.net/gml:beginPosition': '2022-05-17', 'http://www.opengis.net/gml:endPosition': '2022-06-17'}}}}}}, {'EX_Extent': {'geographicElement': {'EX_GeographicBoundingBox': {'extentTypeCode': {'http://www.isotc211.org/2005/gco:Boolean': 'true'}, 'westBoundLongitude': {'http://www.isotc211.org/2005/gco:Decimal': '-124.413705'}, 'eastBoundLongitude': {'http://www.isotc211.org/2005/gco:Decimal': '-113.622805'}, 'southBoundLatitude': {'http://www.isotc211.org/2005/gco:Decimal': '32.452996'}, 'northBoundLatitude': {'http://www.isotc211.org/2005/gco:Decimal': '45.355257'}}}}}]\",\n",
       " 'MD_Metadata_distributionInfo_MD_Distribution_distributionFormat_MD_Format_name_http://www.isotc211.org/2005/gco:CharacterString': 'File Geodatabase Feature Class',\n",
       " 'MD_Metadata_distributionInfo_MD_Distribution_distributionFormat_MD_Format_version_http://www.isotc211.org/2005/gco:nilReason': 'missing',\n",
       " 'MD_Metadata_dataQualityInfo_DQ_DataQuality_scope_DQ_Scope_level_MD_ScopeCode_codeList': 'http://www.isotc211.org/2005/resources/Codelist/gmxCodelists.xml#MD_ScopeCode',\n",
       " 'MD_Metadata_dataQualityInfo_DQ_DataQuality_scope_DQ_Scope_level_MD_ScopeCode_codeListValue': 'dataset',\n",
       " 'MD_Metadata_dataQualityInfo_DQ_DataQuality_scope_DQ_Scope_level_MD_ScopeCode_codeSpace': 'ISOTC211/19115',\n",
       " 'MD_Metadata_dataQualityInfo_DQ_DataQuality_scope_DQ_Scope_level_MD_ScopeCode_text': 'dataset',\n",
       " 'MD_Metadata_dataQualityInfo_DQ_DataQuality_lineage_LI_Lineage_processStep_LI_ProcessStep_description_http://www.isotc211.org/2005/gco:CharacterString': 'This data was estimated using a spatial process derived from General Transit Feed Specification (GTFS) schedule data. To find high-quality bus corridors, we split each corridor into 1500 meter segments and counted frequencies at the stop within that segment with the highest number of transit trips. If that stop saw at least 4 trips per hour for at least one hour in the morning, and again for at least one hour in the afternoon, we consider that segment a high-quality bus corridor. Segments without a stop are not considered high-quality corridors. Major transit stops were identified as either the intersection of two high-quality corridors from the previous step, a rail or bus rapid transit station, or a ferry terminal with bus service. Note that the definition of “bus rapid transit” in Public Resources Code 21060.2 includes features not captured by available data sources, these features were captured manually using information from transit agency sources and imagery. We believe this data to be broadly accurate, and fit for purposes including overall dashboards, locating facilities in relation to high quality transit areas, and assessing community transit coverage. However, the spatial determination of high-quality transit areas from GTFS data necessarily involves some assumptions as described above. Any critical determinations of whether a specific parcel is located within a high-quality transit area should be made in conjunction with local sources, such as transit agency timetables. Note that for this stop-level dataset, not every bus stop within a high-quality corridor is assumed to have frequent service, since high-quality corridor status is calculated spatially for the corridor as a whole.'}"
      ]
     },
     "execution_count": 17,
     "metadata": {},
     "output_type": "execute_result"
    }
   ],
   "source": [
    "flat_metadata_clean"
   ]
  },
  {
   "cell_type": "code",
   "execution_count": null,
   "id": "01301dcd-9410-4b00-96bc-12c94863480c",
   "metadata": {},
   "outputs": [],
   "source": []
  }
 ],
 "metadata": {
  "kernelspec": {
   "display_name": "Python 3 (ipykernel)",
   "language": "python",
   "name": "python3"
  },
  "language_info": {
   "codemirror_mode": {
    "name": "ipython",
    "version": 3
   },
   "file_extension": ".py",
   "mimetype": "text/x-python",
   "name": "python",
   "nbconvert_exporter": "python",
   "pygments_lexer": "ipython3",
   "version": "3.10.4"
  }
 },
 "nbformat": 4,
 "nbformat_minor": 5
}
