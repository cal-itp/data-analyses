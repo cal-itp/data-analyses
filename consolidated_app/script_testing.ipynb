{
 "cells": [
  {
   "cell_type": "markdown",
   "id": "462c9ec2-0a8a-4b66-9d31-91ff92337007",
   "metadata": {},
   "source": [
    "# Testing the scripts for Consolidated App"
   ]
  },
  {
   "cell_type": "code",
   "execution_count": null,
   "id": "f0c1be0d-0e3a-41df-92cc-930fbbd36db5",
   "metadata": {},
   "outputs": [],
   "source": [
    "import os\n",
    "import re as re\n",
    "from collections import Counter\n",
    "from itertools import chain, combinations\n",
    "\n",
    "import geopandas as gpd\n",
    "import numpy as np\n",
    "import pandas as pd\n",
    "import shared_utils\n",
    "from calitp import *\n",
    "from shared_utils import utils\n",
    "from siuba import *\n",
    "\n",
    "GCS_FILE_PATH = \"gs://calitp-analytics-data/data-analyses/consolidated_applications/\"\n",
    "Caltrans_shape = \"https://gis.data.ca.gov/datasets/0144574f750f4ccc88749004aca6eb0c_0.geojson?outSR=%7B%22latestWkid%22%3A3857%2C%22wkid%22%3A102100%7D\"\n",
    "\n",
    "from calitp.storage import get_fs\n",
    "\n",
    "fs = get_fs()"
   ]
  },
  {
   "cell_type": "code",
   "execution_count": null,
   "id": "d8660bfc-0fde-4f26-bfbe-eec5ce38c21a",
   "metadata": {},
   "outputs": [],
   "source": [
    "# For NB only\n",
    "pd.set_option(\"display.max_colwidth\", None)\n",
    "pd.options.display.float_format = \"{:.2f}\".format\n",
    "pd.options.display.max_rows = 400\n",
    "import data_cleaning\n",
    "import utilities"
   ]
  },
  {
   "cell_type": "code",
   "execution_count": null,
   "id": "dd61b569-c389-45ea-8b47-0e729e1755c8",
   "metadata": {},
   "outputs": [],
   "source": [
    "original_df = data_cleaning.load_con_app()"
   ]
  },
  {
   "cell_type": "code",
   "execution_count": null,
   "id": "b606e5d5-8dcb-4464-9c74-171d91a1d4af",
   "metadata": {},
   "outputs": [],
   "source": [
    "cleaned_df = data_cleaning.initial_cleaning(original_df)"
   ]
  },
  {
   "cell_type": "code",
   "execution_count": null,
   "id": "94c8460d-bc3c-47d0-977f-f03d9f2a6afb",
   "metadata": {},
   "outputs": [],
   "source": [
    "cleaned_df.head(2)"
   ]
  },
  {
   "cell_type": "code",
   "execution_count": null,
   "id": "e0844ff2-f2e9-40e7-bfc8-21e6ff2bac3d",
   "metadata": {},
   "outputs": [],
   "source": [
    "gdf_test = gdf_conapp(cleaned_df)"
   ]
  },
  {
   "cell_type": "code",
   "execution_count": null,
   "id": "e5e34512-411c-43e2-848d-970ef9be3e63",
   "metadata": {},
   "outputs": [],
   "source": [
    "type(gdf_test)"
   ]
  },
  {
   "cell_type": "markdown",
   "id": "d34e13ca-8a40-43e8-a5dd-68af5bd68f4d",
   "metadata": {
    "tags": []
   },
   "source": [
    "## Testing imported script"
   ]
  },
  {
   "cell_type": "code",
   "execution_count": null,
   "id": "cc24db47-1c06-48f3-9bc5-b6d1754a5ed2",
   "metadata": {},
   "outputs": [],
   "source": [
    "df1, df2, df3, df4 = data_cleaning.conapp_complete_report()"
   ]
  },
  {
   "cell_type": "code",
   "execution_count": null,
   "id": "ee2e12a3-2174-4231-a1d6-996341b510a7",
   "metadata": {},
   "outputs": [],
   "source": [
    "df1.shape"
   ]
  },
  {
   "cell_type": "code",
   "execution_count": null,
   "id": "0820c408-b2b2-47dd-ba06-8a321666ad84",
   "metadata": {
    "scrolled": true,
    "tags": []
   },
   "outputs": [],
   "source": [
    "df3"
   ]
  },
  {
   "cell_type": "code",
   "execution_count": null,
   "id": "bc6d9a71-1f95-4877-a487-861cf49917af",
   "metadata": {},
   "outputs": [],
   "source": [
    "df1.head(2)"
   ]
  },
  {
   "cell_type": "code",
   "execution_count": null,
   "id": "86f58031-0323-4fec-8e24-a07c1a9736b6",
   "metadata": {},
   "outputs": [],
   "source": [
    "df2.head(2)"
   ]
  },
  {
   "cell_type": "code",
   "execution_count": null,
   "id": "4d6651a3-42e4-4af2-b1ba-50e42d7fa7b8",
   "metadata": {},
   "outputs": [],
   "source": [
    "df3.head(2)"
   ]
  },
  {
   "cell_type": "code",
   "execution_count": null,
   "id": "2a8ff477-f594-44a2-bc1f-2346fc4f4d72",
   "metadata": {},
   "outputs": [],
   "source": [
    "FILE_NAME = \"Con_App_Cleaned.xlsx\"\n",
    "\n",
    "df5 = pd.read_excel(\n",
    "    f\"{GCS_FILE_PATH}{FILE_NAME}\", sheet_name=\"cleaned_unpivoted_data\") \n",
    "    \n",
    "df6 = pd.read_excel(f\"{GCS_FILE_PATH}{FILE_NAME}\", sheet_name=\"pivoted_data\")\n",
    "\n",
    "\n",
    "df7 = pd.read_excel(\n",
    "    f\"{GCS_FILE_PATH}{FILE_NAME}\", sheet_name=\"combos_of_funding_programs\"\n",
    ")"
   ]
  },
  {
   "cell_type": "code",
   "execution_count": null,
   "id": "ee2d215f-9971-4203-8caf-2788a0a8a95f",
   "metadata": {},
   "outputs": [],
   "source": [
    "df5.head(2)"
   ]
  },
  {
   "cell_type": "code",
   "execution_count": null,
   "id": "699ed182-6ff2-4adc-b283-0393c89dfa5e",
   "metadata": {},
   "outputs": [],
   "source": [
    "df6.head(2)"
   ]
  },
  {
   "cell_type": "code",
   "execution_count": null,
   "id": "d469ee9c-04dd-4783-a207-323a936de1b5",
   "metadata": {},
   "outputs": [],
   "source": [
    "df7.head(2)"
   ]
  },
  {
   "cell_type": "code",
   "execution_count": null,
   "id": "d5e1c8df-0fc0-44d4-a3c6-5e6364b7d360",
   "metadata": {},
   "outputs": [],
   "source": [
    "assert set(df1.columns) == set(df5.columns)\n",
    "assert df1.shape == df5.shape"
   ]
  },
  {
   "cell_type": "code",
   "execution_count": null,
   "id": "654a2f8c-ef0e-44e0-9f30-a28cf35c64f2",
   "metadata": {},
   "outputs": [],
   "source": [
    "df1.columns"
   ]
  },
  {
   "cell_type": "code",
   "execution_count": null,
   "id": "07f04a69-7e15-4bbb-923e-39527f194c86",
   "metadata": {},
   "outputs": [],
   "source": [
    "cols = ['total_expenses', '_5311_funds',\n",
    "       '_5311_f__funds', '_5311_cmaq_funds', '_5339_funds', 'federal_total',\n",
    "       'other_fed_funds_total', 'lctop__state__funds',\n",
    "       'sb1__state_of_good_repair__state__funds',\n",
    "       'transit_development_act__state__funds', 'other_state_funds',\n",
    "       'state_total', 'local_total', 'total_state_federal_local_funding', 'total_state_fed_only']"
   ]
  },
  {
   "cell_type": "code",
   "execution_count": null,
   "id": "2f7ecf7e-5c0c-41b4-9c71-68ee8beb785b",
   "metadata": {},
   "outputs": [],
   "source": [
    "for i in [df1, df5]:\n",
    "    for j in cols:\n",
    "        # print(\"\\n\" + i)\n",
    "        print(i[j].sum())"
   ]
  },
  {
   "cell_type": "code",
   "execution_count": null,
   "id": "67ad6307-edf1-4e9f-844c-855b1f328d72",
   "metadata": {},
   "outputs": [],
   "source": [
    "assert set(df2.columns) == set(df6.columns)\n",
    "assert df2.shape == df6.shape"
   ]
  },
  {
   "cell_type": "code",
   "execution_count": null,
   "id": "416dc240-69a9-40ed-810d-d0de01272f5a",
   "metadata": {},
   "outputs": [],
   "source": [
    "for i in [df2, df6]:\n",
    "    for j in ['total_state_federal_local_funding', 'total_expenses', 'funding_received']:\n",
    "        # print(\"\\n\" + i)\n",
    "        print(i[j].sum())"
   ]
  },
  {
   "cell_type": "code",
   "execution_count": null,
   "id": "8a1d6636-f5f6-4d28-9970-1c6670203434",
   "metadata": {},
   "outputs": [],
   "source": [
    "assert set(df3.columns) == set(df7.columns)\n",
    "assert df3.shape == df7.shape"
   ]
  },
  {
   "cell_type": "code",
   "execution_count": null,
   "id": "f2515062-883c-4775-b952-6ece015ef150",
   "metadata": {},
   "outputs": [],
   "source": [
    "for i in [df3, df7]:\n",
    "    print(i['count_of_funding_programs_applied'].sum())"
   ]
  },
  {
   "cell_type": "markdown",
   "id": "5ba7ace3-cbc8-4c02-99b7-14daddec8726",
   "metadata": {},
   "source": [
    "### More  checks against original dfs "
   ]
  },
  {
   "cell_type": "code",
   "execution_count": null,
   "id": "89787182-269b-475f-acbb-f7ade734d6f2",
   "metadata": {},
   "outputs": [],
   "source": [
    "assert set(df9.columns) == set(cleaned_unpivoted_og.columns)\n",
    "assert df9.shape == cleaned_unpivoted_og.shape"
   ]
  },
  {
   "cell_type": "code",
   "execution_count": null,
   "id": "6ab65dac-ac06-48fa-8393-e4edc63ed63a",
   "metadata": {},
   "outputs": [],
   "source": [
    "assert set(df10.columns) == set(melted_df_og.columns)\n",
    "assert df10.shape == melted_df_og.shape"
   ]
  },
  {
   "cell_type": "code",
   "execution_count": null,
   "id": "46558b61-fc4f-43db-879d-611fcc3669dc",
   "metadata": {},
   "outputs": [],
   "source": [
    "assert set(df11.columns) == set(grouped_og.columns)\n",
    "assert df11.shape == grouped_og.shape"
   ]
  },
  {
   "cell_type": "markdown",
   "id": "86e60a86-0ac5-4306-8fe9-b716f3171111",
   "metadata": {},
   "source": [
    "## Load in original sheets"
   ]
  },
  {
   "cell_type": "code",
   "execution_count": null,
   "id": "7de16bdc-cd74-41eb-b847-4f639e33c7e5",
   "metadata": {},
   "outputs": [],
   "source": [
    "FILE_NAME = \"Con_App_Cleaned.xlsx\"\n",
    "melted_df_og = pd.read_excel(f\"{GCS_FILE_PATH}{FILE_NAME}\", sheet_name=\"pivoted_data\")\n",
    "\n",
    "cleaned_unpivoted_og = pd.read_excel(\n",
    "    f\"{GCS_FILE_PATH}{FILE_NAME}\", sheet_name=\"cleaned_unpivoted_data\"\n",
    ")\n",
    "grouped_og = pd.read_excel(\n",
    "    f\"{GCS_FILE_PATH}{FILE_NAME}\", sheet_name=\"combos_of_funding_programs\"\n",
    ")\n",
    "gdf_og = gpd.read_parquet(f\"{GCS_FILE_PATH}con_app_gdf.parquet\")"
   ]
  },
  {
   "cell_type": "markdown",
   "id": "0172a430-91d9-43cb-8a2f-d26e4816d7a9",
   "metadata": {},
   "source": [
    "## Functions & Lists"
   ]
  },
  {
   "cell_type": "code",
   "execution_count": null,
   "id": "a2f1c752-4d92-4e56-9dba-d29a4d3a81f9",
   "metadata": {},
   "outputs": [],
   "source": [
    "#Function for fully funded or not\n",
    "def funding_vs_expenses(df):\n",
    "    if df[\"total_state_federal_local_funding\"] == df[\"total_expenses\"]:\n",
    "        return \"Fully funded\"\n",
    "    elif df[\"total_state_federal_local_funding\"] > df[\"total_expenses\"]:\n",
    "        return \"Funding exceeds total expenses\"\n",
    "    else:\n",
    "        return \"Not fully funded\""
   ]
  },
  {
   "cell_type": "code",
   "execution_count": null,
   "id": "eb5c9c3d-5dc7-42ac-8925-85de23e7daae",
   "metadata": {},
   "outputs": [],
   "source": [
    "# Function to clean agency/organization names \n",
    "def organization_cleaning(df, column_wanted: str):\n",
    "    df[column_wanted] = (\n",
    "        df[column_wanted]\n",
    "        .str.strip()\n",
    "        .str.split(\",\")\n",
    "        .str[0]\n",
    "        .str.replace(\"/\", \"\")\n",
    "        .str.split(\"(\")\n",
    "        .str[0]\n",
    "        .str.split(\"/\")\n",
    "        .str[0]\n",
    "        .str.title()\n",
    "        .str.replace(\"Trasit\", \"Transit\")\n",
    "        .str.strip() #strip again after getting rid of certain things\n",
    "    )\n",
    "    return df"
   ]
  },
  {
   "cell_type": "code",
   "execution_count": null,
   "id": "b41ba9e4-de57-45c5-8a38-65c622ec21ee",
   "metadata": {},
   "outputs": [],
   "source": [
    "project_keywords = \"(operating|bus|construction|buses|planning|van|vessel|fare|ridership|vehicle|station|service|equipment|maintenance|surveillance|renovate|free|equip|operational)\""
   ]
  },
  {
   "cell_type": "code",
   "execution_count": null,
   "id": "034c3575-8748-4305-ab01-27cf2a35db12",
   "metadata": {},
   "outputs": [],
   "source": [
    "project_dictionary =  {\n",
    "        \"operating\": \"operating assistance\",\n",
    "        \"operational\": \"operating assistance\",\n",
    "        \"free\": \"free fare program\",\n",
    "        \"ridership\": \"ridership expansion\",\n",
    "        \"fare\": \"purchasing other tech\",\n",
    "        \"service\": \"service expansion\",\n",
    "        \"buses\": \"purchasing vehicles\",\n",
    "        \"bus\": \"purchasing vehicles\",\n",
    "        \"van\": \"purchasing vehicles\",\n",
    "        \"vessel\": \"purchasing vehicles\",\n",
    "        \"vehicles\": \"purchasing vehicles\",\n",
    "        \"vehicle\": \"purchasing vehicles\",\n",
    "        \"planning\": \"transit planning\",\n",
    "        \"station\": \"construction\",\n",
    "        \"construction\": \"construction\",\n",
    "        \"maintenance\": \"maintenance/renovation\",\n",
    "        \"renovate\": \"maintenance/renovation\",\n",
    "        \"equipment\": \"purchasing other tech\",\n",
    "        \"equip\": \"purchasing other tech\",\n",
    "        \"surveillance\": \"purchasing other tech\"}"
   ]
  },
  {
   "cell_type": "code",
   "execution_count": null,
   "id": "769b709e-6b2f-43c6-bab1-bc335d63eda9",
   "metadata": {},
   "outputs": [],
   "source": [
    "district_dictionary = {\n",
    "        7: \"District 7: Los Angeles\",\n",
    "        4: \"District 4: Bay Area / Oakland\",\n",
    "        2: \"District 2: Redding\",\n",
    "        9: \"District 9: Bishop\",\n",
    "        10: \"District 10: Stockton\",\n",
    "        11: \"District 11: San Diego\",\n",
    "        3: \"District 3: Marysville / Sacramento\",\n",
    "        12: \"District 12: Orange County\",\n",
    "        8: \"District 8: San Bernardino / Riverside\",\n",
    "        5: \"District 5: San Luis Obispo / Santa Barbara\",\n",
    "        6: \"District 6: Fresno / Bakersfield\",\n",
    "        1: \"District 1: Eureka\",\n",
    "    }"
   ]
  },
  {
   "cell_type": "code",
   "execution_count": null,
   "id": "23f70b71-a8c1-49e9-9d5d-7fc48b1e3a11",
   "metadata": {},
   "outputs": [],
   "source": [
    "        \n",
    "    #List of original monetary columns: excludes ones I've created\n",
    "    monetary_cols = [\n",
    "    \"total_expenses\",\n",
    "    \"_5311_funds\",\n",
    "    \"_5311_f__funds\",\n",
    "    \"_5311_cmaq_funds\",\n",
    "    \"_5339_funds\",\n",
    "    \"federal_total\",\n",
    "    \"other_fed_funds_total\",\n",
    "    \"lctop__state__funds\",\n",
    "    \"sb1__state_of_good_repair__state__funds\",\n",
    "    \"transit_development_act__state__funds\",\n",
    "    \"other_state_funds\",\n",
    "    \"state_total\"]"
   ]
  },
  {
   "cell_type": "markdown",
   "id": "a095cf74-9814-4d1a-b815-848919fa5779",
   "metadata": {},
   "source": [
    "## Function for loading in from  excel"
   ]
  },
  {
   "cell_type": "code",
   "execution_count": null,
   "id": "6a0b82e8-45f3-4716-a80d-fbbc5a48e311",
   "metadata": {},
   "outputs": [],
   "source": [
    "def load_con_app():\n",
    "    #We keep all the columns \n",
    "    con_app_file =  \"Copy of Application_Review_Report_5_2_2022.xls\"\n",
    "    con_app =  to_snakecase(\n",
    "    pd.read_excel(f\"{GCS_FILE_PATH}{con_app_file}\"))\n",
    "    return con_app"
   ]
  },
  {
   "cell_type": "code",
   "execution_count": null,
   "id": "17c6afe1-5427-4cf3-8797-8c1237fce1c1",
   "metadata": {},
   "outputs": [],
   "source": [
    "df1 = load_con_app()"
   ]
  },
  {
   "cell_type": "code",
   "execution_count": null,
   "id": "6c519aac-6e59-4e0a-a56c-007bd74b94e0",
   "metadata": {},
   "outputs": [],
   "source": [
    "df1.shape"
   ]
  },
  {
   "cell_type": "markdown",
   "id": "308652f8-64e4-4224-8902-8e1a96392eac",
   "metadata": {},
   "source": [
    "## Function for initial cleaning "
   ]
  },
  {
   "cell_type": "code",
   "execution_count": null,
   "id": "ac29d483-83b8-404d-9a6b-03a2a0e1803a",
   "metadata": {
    "tags": []
   },
   "outputs": [],
   "source": [
    "def initial_cleaning(df):\n",
    "    \n",
    "    # Clean organization names\n",
    "    df = organization_cleaning(df, \"organization_name\")\n",
    "   \n",
    "    # PROJECT CATEGORIES\n",
    "    # Spell out project categories \n",
    "    df[\"project_category\"] = df[\"project_category\"].replace(\n",
    "    {\"OP\": \"Operating\", \"CA\": \"Capital\", \"PL\": \"Planning\", \"CM\": \"Capital Maintenance\"})\n",
    "    \n",
    "    # Project categories are pretty vague, but project description has 200+ diff inputs\n",
    "    # Search through descriptions for the keywords below and input keyword into the new column \"short description\"\n",
    "    # Lower project description\n",
    "    df[\"project_description\"] = df[\"project_description\"].str.lower()\n",
    "    \n",
    "    # Extract keywords that pop up often\n",
    "    df[\"short_description\"] = df[\"project_description\"].str.extract(project_keywords, expand=False)\n",
    "    \n",
    "    # Replace the keywords with the main categories\n",
    "    # Capture any entries that don't fall into a particular category as \"other\" \n",
    "    df[\"short_description\"] = (df[\"short_description\"]\n",
    "                               .replace(project_dictionary)\n",
    "                               .fillna(\"other category\")\n",
    "                               .str.title()\n",
    "                              )\n",
    "    \n",
    "    # MONETARY COLS \n",
    "    # Local totals: split on \":\" and extract only the last item\n",
    "    # To grab the total of local funding a proejct has\n",
    "    df[\"local_total\"] = df[\"local_total\"].str.split(\": \").str[-1]\n",
    "    \n",
    "    #Remove characters and turn column from str into float\n",
    "    df[\"local_total\"] = (\n",
    "    df[\"local_total\"]\n",
    "    .str.replace(\",\", \"\", regex=True)\n",
    "    .str.replace(\"$\", \"\", regex= True)\n",
    "    .fillna(0)\n",
    "    .astype(\"float\")) \n",
    "    \n",
    "    #Clean all monetary columns up\n",
    "    df[monetary_cols] = (\n",
    "    df[monetary_cols]\n",
    "    .fillna(value=0)\n",
    "    .apply(pd.to_numeric, errors=\"coerce\")\n",
    "    .astype(\"float\"))\n",
    "    \n",
    "    # Create two new cols: total for state and fed\n",
    "    # and total for state and local funds only\n",
    "    df = df.assign(\n",
    "    total_state_federal_local_funding = (df[\"state_total\"]\n",
    "    + df[\"local_total\"]\n",
    "    + df[\"federal_total\"]\n",
    "    + df[\"other_fed_funds_total\"]),    \n",
    "    total_state_fed_only = \n",
    "    (df[\"state_total\"] + df[\"federal_total\"])) \n",
    "    \n",
    "    #Apply function to determine if a project is fully funded or not\n",
    "    df['fully_funded'] = df.apply(funding_vs_expenses, axis=1)\n",
    "    \n",
    "    # DISTRICTS \n",
    "    # Create new column with fully spelled out names\n",
    "    df[\"full_district_name\"] = df[\"district\"].replace(district_dictionary)\n",
    "    \n",
    "    # MANUAL\n",
    "    # Will change each year\n",
    "    # Replace Ventura County since it read in strangely\n",
    "    df[\"organization_name\"] = df[\"organization_name\"].replace(\n",
    "    {\"Ventura County Transportation Commission\\xa0\": \"Ventura County Transportation Commission\"}).str.replace(\n",
    "    \"\\s+\\(.*$\", \"\", regex=True)\n",
    "    \n",
    "    #Replace the districts by organization names\n",
    "    df.loc[(df[\"organization_name\"] == \"City of Banning\"), \"district\"] = 8\n",
    "    df.loc[(df[\"organization_name\"] == \"City of Clovis\"), \"district\"] = 6\n",
    "    df.loc[(df[\"organization_name\"] == \"City of Los Angeles DOT\"), \"district\"] = 7\n",
    "    df.loc[(df[\"organization_name\"] == \"Peninsula Corridor Joint Powers Board\"), \"district\"] = 4\n",
    "    df.loc[(df[\"organization_name\"] == \"San Joaquin Regional Rail Commission\"), \"district\"] = 10\n",
    "    df.loc[(df[\"organization_name\"] == \"Western Contra Costa Transit Authority\"), \"district\"] = 4\n",
    "    \n",
    "    return df"
   ]
  },
  {
   "cell_type": "code",
   "execution_count": null,
   "id": "2e01d8ed-790b-429f-8374-b68b94a2e92e",
   "metadata": {},
   "outputs": [],
   "source": [
    "df2 = initial_cleaning(df1)"
   ]
  },
  {
   "cell_type": "markdown",
   "id": "f6790133-fde2-4776-b51f-f6056fd0b35c",
   "metadata": {},
   "source": [
    "### Different than original df because some cols are int64, some are int32"
   ]
  },
  {
   "cell_type": "code",
   "execution_count": null,
   "id": "604f8451-4f75-4831-9229-a3110b402e69",
   "metadata": {},
   "outputs": [],
   "source": [
    "assert set(df2.columns) == set(cleaned_unpivoted_og.columns)\n",
    "assert df2.shape == cleaned_unpivoted_og.shape"
   ]
  },
  {
   "cell_type": "code",
   "execution_count": null,
   "id": "295d841a-16bd-437c-b7b2-34e97255defa",
   "metadata": {},
   "outputs": [],
   "source": [
    "cleaned_unpivoted_og.head(3)"
   ]
  },
  {
   "cell_type": "code",
   "execution_count": null,
   "id": "37d47237-a8d3-4b68-89ab-0ab98e65d9cf",
   "metadata": {},
   "outputs": [],
   "source": [
    "df2.head(3)"
   ]
  },
  {
   "cell_type": "code",
   "execution_count": null,
   "id": "8b134d8c-0d59-4293-b59b-21ce735c5c4e",
   "metadata": {},
   "outputs": [],
   "source": [
    "cleaned_unpivoted_og['district'].dtype"
   ]
  },
  {
   "cell_type": "code",
   "execution_count": null,
   "id": "0e23928f-bafb-4934-8356-cdd991ca852d",
   "metadata": {},
   "outputs": [],
   "source": [
    "df2['district'].dtype"
   ]
  },
  {
   "cell_type": "code",
   "execution_count": null,
   "id": "236d4d32-e0fb-41c7-9117-bb7df1dd4ead",
   "metadata": {},
   "outputs": [],
   "source": [
    "df2.equals(cleaned_unpivoted_og)"
   ]
  },
  {
   "cell_type": "code",
   "execution_count": null,
   "id": "10b81a9e-1161-4b79-868b-5dcaeec26550",
   "metadata": {},
   "outputs": [],
   "source": [
    "df2_numeric = df2[['_5311_funds',\n",
    "       '_5311_f__funds', '_5311_cmaq_funds', '_5339_funds', 'federal_total',\n",
    "       'other_fed_funds_total', 'lctop__state__funds',\n",
    "       'sb1__state_of_good_repair__state__funds',\n",
    "       'transit_development_act__state__funds', 'other_state_funds',\n",
    "       'state_total', 'local_total', \n",
    "       'total_state_federal_local_funding', 'total_state_fed_only',\n",
    "       ]].astype('int64')"
   ]
  },
  {
   "cell_type": "code",
   "execution_count": null,
   "id": "954571a8-7a40-4f56-a662-f01c2b99e0a5",
   "metadata": {},
   "outputs": [],
   "source": [
    "cleaned_unpivoted_og_numeric = cleaned_unpivoted_og[['_5311_funds',\n",
    "       '_5311_f__funds', '_5311_cmaq_funds', '_5339_funds', 'federal_total',\n",
    "       'other_fed_funds_total', 'lctop__state__funds',\n",
    "       'sb1__state_of_good_repair__state__funds',\n",
    "       'transit_development_act__state__funds', 'other_state_funds',\n",
    "       'state_total', 'local_total', \n",
    "       'total_state_federal_local_funding', 'total_state_fed_only',]].astype('int64')"
   ]
  },
  {
   "cell_type": "code",
   "execution_count": null,
   "id": "06a37112-ec89-4a3c-a298-67b071c46a83",
   "metadata": {},
   "outputs": [],
   "source": [
    "df2_numeric.equals(cleaned_unpivoted_og_numeric)"
   ]
  },
  {
   "cell_type": "markdown",
   "id": "f42b167f-1217-4007-b39d-416b9a9da7b5",
   "metadata": {},
   "source": [
    "## Melted DF Function"
   ]
  },
  {
   "cell_type": "code",
   "execution_count": null,
   "id": "089726d4-12e8-4869-965d-f630d7916c4a",
   "metadata": {},
   "outputs": [],
   "source": [
    "subset_for_melted_df = [\n",
    "        \"project_upin\",\n",
    "        \"_5311_funds\",\n",
    "        \"_5311_f__funds\",\n",
    "        \"_5311_cmaq_funds\",\n",
    "        \"_5339_funds\",\n",
    "        \"lctop__state__funds\",\n",
    "        \"sb1__state_of_good_repair__state__funds\",\n",
    "        \"transit_development_act__state__funds\",\n",
    "        \"other_state_funds\",\n",
    "        \"other_fed_funds_total\",\n",
    "        \"local_total\",\n",
    "        \"federal_total\",\n",
    "        \"state_total\",\n",
    "    ]"
   ]
  },
  {
   "cell_type": "code",
   "execution_count": null,
   "id": "62a5ddf6-d4e9-4dac-973c-e22ac0f02dbb",
   "metadata": {},
   "outputs": [],
   "source": [
    "list_for_value_vars = [\n",
    "        \"_5311_funds\",\n",
    "        \"_5311_f__funds\",\n",
    "        \"_5311_cmaq_funds\",\n",
    "        \"_5339_funds\",\n",
    "        \"lctop__state__funds\",\n",
    "        \"sb1__state_of_good_repair__state__funds\",\n",
    "        \"transit_development_act__state__funds\",\n",
    "        \"other_state_funds\",\n",
    "        \"other_fed_funds_total\",\n",
    "        \"local_total\",\n",
    "        \"federal_total\",\n",
    "        \"state_total\",\n",
    "    ]"
   ]
  },
  {
   "cell_type": "code",
   "execution_count": null,
   "id": "8fd77c56-7df1-4f18-89c3-452b034a26c2",
   "metadata": {},
   "outputs": [],
   "source": [
    "subset_og_df = [\n",
    "        \"total_expenses\",\n",
    "        \"organization_name\",\n",
    "        \"district\",\n",
    "        \"full_district_name\",\n",
    "        \"year\",\n",
    "        \"application_status\",\n",
    "        \"project_upin\",\n",
    "        \"project_category\",\n",
    "        \"project_line_item__ali_\",\n",
    "        \"project_description\",\n",
    "        \"is_stimulus\",\n",
    "        \"total_state_federal_local_funding\",\n",
    "        \"fully_funded\",\n",
    "        \"short_description\",\n",
    "    ]"
   ]
  },
  {
   "cell_type": "code",
   "execution_count": null,
   "id": "54e1cb91-f1d7-4d9f-8dab-92f8f2fd8f64",
   "metadata": {
    "tags": []
   },
   "outputs": [],
   "source": [
    "def melt_df(df): \n",
    "    # Keep only subset of what I want to melt & the identifier column \n",
    "    # Which is the project_upin: a unique identifier for each product\n",
    "    \n",
    "    melt_subset1 = df[subset_for_melted_df]\n",
    "    \n",
    "    # Melt the df: put funds (value_vars) beneath value_name and the\n",
    "    # associated funding amounts under the column \"funding received.\"\n",
    "    melt_subset2 = pd.melt(\n",
    "    melt_subset1, #subsetted df \n",
    "    id_vars=[\"project_upin\"],\n",
    "    value_vars= list_for_value_vars,\n",
    "    var_name=\"program_name\",\n",
    "    value_name=\"funding_received\",)\n",
    "    \n",
    "    # Create a subset of the original df \n",
    "    # To merge it onto our melted df so we can info such as project description\n",
    "    # Fully funded or not, etc \n",
    "    df2 = df[subset_og_df]\n",
    "    \n",
    "    # Left merge with melted dataframe, which will has MANY more lines \n",
    "    m1 = pd.merge(melt_subset2, df2, on=\"project_upin\", how=\"left\")\n",
    "    \n",
    "    # Rename funds for clarity \n",
    "    m1[\"program_name\"] = m1[\"program_name\"].replace(\n",
    "    {\n",
    "        \"_5311_funds\": \"5311 (Fed)\",\n",
    "        \"lctop__state__funds\": \"LCTOP (State)\",\n",
    "        \"transit_development_act__state__funds\": \"Transit Development Act (State)\",\n",
    "        \"other_state_funds\": \"Other State Funds\",\n",
    "        \"_5339_funds\": \"5339 (Fed)\",\n",
    "        \"_5311_f__funds\": \"5311(f) (Fed)\",\n",
    "        \"sb1__state_of_good_repair__state__funds\": \"SB1. State of Good Repair (State)\",\n",
    "        \"other_fed_funds_total\": \"Other Federal Funds\",\n",
    "        \"_5311_cmaq_funds\": \"5311 CMAQ (Fed)\",\n",
    "        \"local_total\": \"Local Funds\",\n",
    "        \"federal_total\": \"Federal Total\",\n",
    "        \"state_total\": \"State Total\",\n",
    "    }) \n",
    "    \n",
    "    # Filter out excess rows with $0 in the col \"funding_received\"\n",
    "    # To shorten dataframe \n",
    "    m1 = m1[m1[\"funding_received\"] > 0]\n",
    "    \n",
    "    return m1"
   ]
  },
  {
   "cell_type": "code",
   "execution_count": null,
   "id": "818152dc-8095-4d5e-aba4-c99e2810c5e1",
   "metadata": {},
   "outputs": [],
   "source": [
    "df3 = melt_df(df2)"
   ]
  },
  {
   "cell_type": "code",
   "execution_count": null,
   "id": "23a4fe5c-bea0-4b76-8a90-fb110400032f",
   "metadata": {},
   "outputs": [],
   "source": [
    "df3.shape"
   ]
  },
  {
   "cell_type": "markdown",
   "id": "6d402dfd-96f3-4386-bbf8-8a17ee0d8c80",
   "metadata": {},
   "source": [
    "### Check with original\n",
    "* Still different but the grouped DF below built from this DF is the same as my original work?"
   ]
  },
  {
   "cell_type": "code",
   "execution_count": null,
   "id": "5b2d2268-08a6-469c-bdf6-04d5d47804f8",
   "metadata": {},
   "outputs": [],
   "source": [
    "df3['total_expenses'] = df3['total_expenses'].astype('int64')"
   ]
  },
  {
   "cell_type": "code",
   "execution_count": null,
   "id": "4740545a-1b21-4c8c-91d8-8162b8e62780",
   "metadata": {},
   "outputs": [],
   "source": [
    "df3.head(3)"
   ]
  },
  {
   "cell_type": "code",
   "execution_count": null,
   "id": "e0a92678-aa40-4028-8535-a9e73f1ac574",
   "metadata": {},
   "outputs": [],
   "source": [
    "melted_df_og.head(3)"
   ]
  },
  {
   "cell_type": "code",
   "execution_count": null,
   "id": "696b0eb6-dff5-4cf7-9ce0-4d4aea020a68",
   "metadata": {},
   "outputs": [],
   "source": [
    "melted_df_og.equals(df3)"
   ]
  },
  {
   "cell_type": "code",
   "execution_count": null,
   "id": "6f54f98c-d53f-43a6-adfe-1a271890eec9",
   "metadata": {},
   "outputs": [],
   "source": [
    "cols = ['project_upin','funding_received', 'total_expenses',\n",
    "       'district',  'year',\n",
    "     \n",
    "       'total_state_federal_local_funding', 'fully_funded',\n",
    "       ]"
   ]
  },
  {
   "cell_type": "code",
   "execution_count": null,
   "id": "0b3c981e-3bdc-46c8-860b-26fe4dc3e10a",
   "metadata": {},
   "outputs": [],
   "source": [
    "def pick_column_and_aggregate(df1, df2, col):\n",
    "    if df1[col].sum() == df2[col].sum():\n",
    "        print(\"PASS\")\n",
    "    else:\n",
    "        print(f\"{col}: FAIL\")"
   ]
  },
  {
   "cell_type": "code",
   "execution_count": null,
   "id": "4ce64cc7-1284-45ac-b858-418bad31e9a6",
   "metadata": {},
   "outputs": [],
   "source": [
    "for c in cols:\n",
    "    pick_column_and_aggregate(df3, melted_df_og, c)"
   ]
  },
  {
   "cell_type": "code",
   "execution_count": null,
   "id": "512ff7c9-e5c1-42b7-bc6d-826d26ba5aa9",
   "metadata": {},
   "outputs": [],
   "source": [
    "assert set(df3.columns) == set(melted_df_og.columns)\n",
    "assert df3.shape == melted_df_og.shape"
   ]
  },
  {
   "cell_type": "code",
   "execution_count": null,
   "id": "2f201004-76da-4fbf-9e76-d5a1f1dc658a",
   "metadata": {},
   "outputs": [],
   "source": [
    "set(df3.columns).difference(set(melted_df_og.columns))"
   ]
  },
  {
   "cell_type": "markdown",
   "id": "ddcccee9-0ff7-45ab-ab8d-912be70db86f",
   "metadata": {},
   "source": [
    "## Grouped DF "
   ]
  },
  {
   "cell_type": "code",
   "execution_count": null,
   "id": "80815770-ab2f-4c0d-b4a8-c8de8b45bd84",
   "metadata": {},
   "outputs": [],
   "source": [
    "def group_df(melted_df, initial_clean_df):\n",
    "    # Exclude totals: not a fund \n",
    "    grouped1 = melted_df.loc[\n",
    "    ~melted_df[\"program_name\"].isin(\n",
    "        [\n",
    "            \"Local Funds\",\n",
    "            \"Federal Total\",\n",
    "            \"State Total\",]\n",
    "    )]\n",
    "    \n",
    "    #Grab all the different program names by project upin and put it in a new column\n",
    "    grouped1[\"all_programs\"] = grouped1.groupby(\"project_upin\")[\"program_name\"].transform(\n",
    "    lambda x: \",\".join(x))\n",
    "    \n",
    "    #Keep only cols of interest & drop duplicates\n",
    "    grouped1 = grouped1[[\"project_upin\", \"all_programs\"]].drop_duplicates()\n",
    "    \n",
    "    # Merge with original dataframe because above we only have project_upin and all the funds left\n",
    "    grouped2 = pd.merge(grouped1, initial_clean_df, on=\"project_upin\", how=\"left\")\n",
    "    \n",
    "    # Keep only relevant cols\n",
    "    grouped2 = grouped2[\n",
    "    [\"project_upin\", \"organization_name\", \"project_description\", \"all_programs\", \"year\"]]\n",
    "    \n",
    "    # Count number of funds under \"all programs\" column to get a metric of how many funds \n",
    "    # an orgs want for a particular project\n",
    "    # https://stackoverflow.com/questions/51502263/pandas-dataframe-object-has-no-attribute-str\n",
    "    grouped2[\"count_of_funding_programs_applied\"] = (\n",
    "    grouped2[\"all_programs\"]\n",
    "    .str.split(\",+\")\n",
    "    .str.len()\n",
    "    .groupby(grouped2.project_upin)\n",
    "    .transform(\"sum\"))\n",
    "    \n",
    "    return grouped2"
   ]
  },
  {
   "cell_type": "code",
   "execution_count": null,
   "id": "eb1ef2a8-cf21-44b2-931c-e850ac5e41e1",
   "metadata": {},
   "outputs": [],
   "source": [
    "df4 = group_df(df3, df2)"
   ]
  },
  {
   "cell_type": "code",
   "execution_count": null,
   "id": "458adb6a-4e95-43ff-997c-8878053975b5",
   "metadata": {},
   "outputs": [],
   "source": [
    "df4.head()"
   ]
  },
  {
   "cell_type": "markdown",
   "id": "077f18c1-cc22-4508-bf5c-243c74cfc95e",
   "metadata": {},
   "source": [
    "grouped_og.head()"
   ]
  },
  {
   "cell_type": "code",
   "execution_count": null,
   "id": "2967f5e9-4890-4c09-9c84-f4e5287b7798",
   "metadata": {},
   "outputs": [],
   "source": [
    "assert set(df4.columns) == set(grouped_og.columns)\n",
    "assert df4.shape == grouped_og.shape"
   ]
  },
  {
   "cell_type": "code",
   "execution_count": null,
   "id": "1022745d-28b7-4cf6-a0de-6effc8ed90b2",
   "metadata": {},
   "outputs": [],
   "source": [
    "df4.equals(grouped_og)"
   ]
  },
  {
   "cell_type": "code",
   "execution_count": null,
   "id": "2c76d34c-56b8-4e80-91eb-99d195b97f95",
   "metadata": {},
   "outputs": [],
   "source": [
    "grouped_og.shape"
   ]
  },
  {
   "cell_type": "markdown",
   "id": "7609256f-96d5-46e8-a113-5f685b5bbb4d",
   "metadata": {},
   "source": [
    "## Geodataframe\n",
    "* This one is not saving to the GCS."
   ]
  },
  {
   "cell_type": "code",
   "execution_count": null,
   "id": "c3b26685-d6ae-4084-b32d-bd218145ed71",
   "metadata": {},
   "outputs": [],
   "source": [
    "def gdf_conapp(df):\n",
    "    #Load geojson with the shapes of the Caltrans districts\n",
    "    geojson = (gpd.read_file(f'{Caltrans_shape}')\n",
    "               .to_crs(epsg=4326))\n",
    "    \n",
    "    #Keep only the columns we want \n",
    "    geojson = geojson[[\"DISTRICT\", \"Shape_Length\", \"Shape_Area\", \"geometry\"]]\n",
    "    \n",
    "    #Take the cleaned, unaggregated dataframe and get summarize statistics\n",
    "    summarized = df.groupby(\"district\").agg(\n",
    "    {\"project_upin\": \"count\", \"total_state_fed_only\": \"sum\"}).reset_index()\n",
    "    \n",
    "    #New column that rounds total_state_fed to millions\n",
    "    summarized[\"funding_millions\"] = (\n",
    "    \"$\"\n",
    "    + (summarized[\"total_state_fed_only\"].astype(float) / 1000000)\n",
    "    .round()\n",
    "    .astype(str)\n",
    "    + \"M\")\n",
    "    \n",
    "    #For the map, it looks nicer when the legend is pinned to percentiles instead of \n",
    "    #actual dollar amounts.\n",
    "    p75 = summarized.total_state_fed_only.quantile(0.75).astype(float)\n",
    "    p25 =summarized.total_state_fed_only.quantile(0.25).astype(float)\n",
    "    p50 = summarized.total_state_fed_only.quantile(0.50).astype(float)\n",
    "    \n",
    "    #Function for mapping percentiles \n",
    "    def funding_range(row):\n",
    "        if ((row.total_state_fed_only > 0) and (row.total_state_fed_only < p25)):\n",
    "            return \"25\"\n",
    "        elif ((row.total_state_fed_only > p25) and (row.total_state_fed_only < p75)):\n",
    "            return \"50\"\n",
    "        elif ((row.total_state_fed_only > p50) and (row.total_state_fed_only > p75 )):\n",
    "               return \"75\"\n",
    "        else:\n",
    "            return \"No Info\"\n",
    "        \n",
    "    #Apply the aforementioned function into a new column\n",
    "    summarized[\"funding_percentile\"] = summarized.apply(lambda x: funding_range(x), axis=1)\n",
    "    \n",
    "    #Merge geojson with the summarized df\n",
    "    gdf = geojson.merge(\n",
    "    summarized, how=\"inner\", left_on=\"DISTRICT\", right_on=\"district\") \n",
    "    \n",
    "    #Export \n",
    "    shared_utils.utils.geoparquet_gcs_export(gdf, f'{GCS_FILE_PATH}',\n",
    "    \"script_con_app_gdf\")\n",
    "    \n",
    "    return summarized"
   ]
  },
  {
   "cell_type": "code",
   "execution_count": null,
   "id": "4cacbf0b-d6c1-4c8b-b5ac-e9d882219a88",
   "metadata": {},
   "outputs": [],
   "source": [
    "gdf1 = gdf_conapp(df2)"
   ]
  },
  {
   "cell_type": "code",
   "execution_count": null,
   "id": "f050c955-9053-4435-9c44-906d36640550",
   "metadata": {},
   "outputs": [],
   "source": [
    "type(gdf1)"
   ]
  },
  {
   "cell_type": "code",
   "execution_count": null,
   "id": "3547ef11-6684-4afd-9f98-bcbcf83b6be5",
   "metadata": {},
   "outputs": [],
   "source": [
    "gdf1"
   ]
  },
  {
   "cell_type": "markdown",
   "id": "c5514157-c3dc-481c-9e2a-2092f9fce65e",
   "metadata": {},
   "source": [
    "## One function to capture them all "
   ]
  },
  {
   "cell_type": "code",
   "execution_count": null,
   "id": "796ac76a-4167-469d-b271-3ea34f2c03be",
   "metadata": {},
   "outputs": [],
   "source": [
    "def con_app_complete_clean():\n",
    "    #Load in original sheet\n",
    "    raw_con_app = load_con_app() \n",
    "    \n",
    "    #Do the initial cleaning\n",
    "    cleaned_con_app = initial_cleaning(raw_con_app) \n",
    "    \n",
    "    #First aggregation: melting the dataframe\n",
    "    melted_df = melt_df(cleaned_con_app)\n",
    "    \n",
    "    #Second aggregation: putting all funding programs onto a single line  \n",
    "    grouped_df = group_df(melted_df, cleaned_con_app)\n",
    "    \n",
    "    #Third aggregation: summarize and turn it into a gdf that will be saved\n",
    "    #As a geoparquet to GCS\n",
    "    gdf = gdf_conapp(cleaned_con_app)\n",
    "    \n",
    "    \"\"\"\n",
    "    Write the first 3 dfs into an Excel workbook in case and save to GCS\n",
    "    with pd.ExcelWriter(f\"{GCS_FILE_PATH}Script_Testing.xlsx\") as writer:\n",
    "        melted_df.to_excel(writer, sheet_name=\"pivoted_data\", index=False)\n",
    "        cleaned_con_app.to_excel(writer, sheet_name=\"cleaned_unpivoted_data\", index=False)\n",
    "        grouped_df.to_excel(writer, sheet_name=\"combos_of_funding_programs\", index=False)\n",
    "    \"\"\"\n",
    "    return cleaned_con_app, melted_df, grouped_df,  gdf\n"
   ]
  },
  {
   "cell_type": "code",
   "execution_count": null,
   "id": "f9570a8d-3083-4cc7-bf11-7c9d2a2afbf0",
   "metadata": {},
   "outputs": [],
   "source": [
    "df5, df6, df7, df8 = con_app_complete_clean()"
   ]
  },
  {
   "cell_type": "code",
   "execution_count": null,
   "id": "07570d9e-7047-4175-9d29-b4563a36dc59",
   "metadata": {},
   "outputs": [],
   "source": [
    "df5.head(2)"
   ]
  },
  {
   "cell_type": "code",
   "execution_count": null,
   "id": "022d3272-7893-4748-8561-62f65f34f341",
   "metadata": {},
   "outputs": [],
   "source": [
    "df6.head(2)"
   ]
  },
  {
   "cell_type": "code",
   "execution_count": null,
   "id": "c05e9efc-c8a3-45d2-acc6-0104d9970c2f",
   "metadata": {},
   "outputs": [],
   "source": [
    "df7.head(2)"
   ]
  },
  {
   "cell_type": "code",
   "execution_count": null,
   "id": "9a5bc758-827f-42a8-82a5-889bdc27ca5d",
   "metadata": {},
   "outputs": [],
   "source": [
    "df8.head(2)"
   ]
  }
 ],
 "metadata": {
  "kernelspec": {
   "display_name": "Python 3 (ipykernel)",
   "language": "python",
   "name": "python3"
  },
  "language_info": {
   "codemirror_mode": {
    "name": "ipython",
    "version": 3
   },
   "file_extension": ".py",
   "mimetype": "text/x-python",
   "name": "python",
   "nbconvert_exporter": "python",
   "pygments_lexer": "ipython3",
   "version": "3.10.5"
  }
 },
 "nbformat": 4,
 "nbformat_minor": 5
}
