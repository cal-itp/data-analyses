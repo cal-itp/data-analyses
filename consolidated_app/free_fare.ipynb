{
 "cells": [
  {
   "cell_type": "markdown",
   "id": "1d7331eb-9a11-4ae1-b6b2-e924d2383293",
   "metadata": {},
   "source": [
    "## Zero-Fare"
   ]
  },
  {
   "cell_type": "code",
   "execution_count": 1,
   "id": "a2b232f3-a4d7-476b-abef-231f5ce05b94",
   "metadata": {},
   "outputs": [
    {
     "name": "stderr",
     "output_type": "stream",
     "text": [
      "/opt/conda/lib/python3.9/site-packages/geopandas/_compat.py:124: UserWarning: The Shapely GEOS version (3.11.1-CAPI-1.17.1) is incompatible with the GEOS version PyGEOS was compiled with (3.10.1-CAPI-1.16.0). Conversions between both will be slow.\n",
      "  warnings.warn(\n"
     ]
    }
   ],
   "source": [
    "import altair as alt\n",
    "import utilities\n",
    "from calitp_data_analysis.sql import to_snakecase\n",
    "from shared_utils import styleguide"
   ]
  },
  {
   "cell_type": "code",
   "execution_count": 2,
   "id": "eebf039d-098a-4c29-8127-9a80c395fb01",
   "metadata": {},
   "outputs": [],
   "source": [
    "import pandas as pd\n",
    "from babel.numbers import format_currency\n",
    "pd.options.display.max_columns = 100\n",
    "pd.options.display.float_format = \"{:.2f}\".format\n",
    "pd.set_option(\"display.max_rows\", None)\n",
    "pd.set_option(\"display.max_colwidth\", None)"
   ]
  },
  {
   "cell_type": "code",
   "execution_count": 3,
   "id": "b7f1a03e-5f88-410e-bdfe-bd91dfaa6064",
   "metadata": {},
   "outputs": [],
   "source": [
    "GCS_FILE_PATH = \"gs://calitp-analytics-data/data-analyses/consolidated_applications/\"\n",
    "FILE_NAME = \"Con_App_Cleaned.xlsx\""
   ]
  },
  {
   "cell_type": "code",
   "execution_count": 4,
   "id": "7bd3dd03-9f08-4057-9499-46ac2299a7a6",
   "metadata": {},
   "outputs": [],
   "source": [
    "con_app = pd.read_excel(\n",
    "    f\"{GCS_FILE_PATH}{FILE_NAME}\", sheet_name=\"cleaned_unpivoted_data\"\n",
    ")"
   ]
  },
  {
   "cell_type": "code",
   "execution_count": 5,
   "id": "fbea04eb-f4d1-4021-95f7-6020768f0ca1",
   "metadata": {},
   "outputs": [],
   "source": [
    "drop_cols = [\n",
    "    \"application_name\",\n",
    "    \"year\",\n",
    "    \"project_upin\",\n",
    "    \"project_line_item__ali_\",\n",
    "    \"is_stimulus\",\n",
    "    \"consolidated_application\",\n",
    "    \"district\",\n",
    "    \"short_description\",\n",
    "]"
   ]
  },
  {
   "cell_type": "code",
   "execution_count": 6,
   "id": "16828214-aad7-436a-be1d-cd207cfc9e96",
   "metadata": {},
   "outputs": [],
   "source": [
    "con_app = con_app.drop(columns=drop_cols)"
   ]
  },
  {
   "cell_type": "code",
   "execution_count": 7,
   "id": "578d2bc2-514d-41fb-b3bf-1367eb5aba23",
   "metadata": {},
   "outputs": [],
   "source": [
    "fare_strings = \"free free|free fares|reduced|reduction|free\""
   ]
  },
  {
   "cell_type": "code",
   "execution_count": 8,
   "id": "4a576f2d-9e61-4e24-a0fa-9b1aeca3f0b3",
   "metadata": {
    "scrolled": true,
    "tags": []
   },
   "outputs": [],
   "source": [
    "free_fare = (\n",
    "    con_app[con_app.project_description.str.contains(fare_strings)]\n",
    ").reset_index(drop=True)"
   ]
  },
  {
   "cell_type": "code",
   "execution_count": 9,
   "id": "73941af3-983d-4a4c-a0cd-5f20a9ee0c4c",
   "metadata": {},
   "outputs": [],
   "source": [
    "col_right_order = [\n",
    "    \"organization_name\",\n",
    "    \"project_category\",\n",
    "    \"application_status\",\n",
    "    \"full_district_name\",\n",
    "    \"project_description\",\n",
    "    \"total_expenses\",\n",
    "    \"fully_funded\",\n",
    "    \"_5311_funds\",\n",
    "    \"other_state_funds\",\n",
    "    \"state_total\",\n",
    "    \"local_total\",\n",
    "    \"total_state_federal_local_funding\",\n",
    "    \"total_state_fed_only\",\n",
    "    \"_5311_f__funds\",\n",
    "    \"_5311_cmaq_funds\",\n",
    "    \"_5339_funds\",\n",
    "    \"federal_total\",\n",
    "    \"other_fed_funds_total\",\n",
    "    \"lctop__state__funds\",\n",
    "    \"sb1__state_of_good_repair__state__funds\",\n",
    "    \"transit_development_act__state__funds\",\n",
    "]"
   ]
  },
  {
   "cell_type": "code",
   "execution_count": 10,
   "id": "fdb8dec2-2b5d-4f74-a5f7-31fa2c73c9a9",
   "metadata": {},
   "outputs": [],
   "source": [
    "fund_cols = [\n",
    "    \"total_expenses\",\n",
    "    \"_5311_funds\",\n",
    "    \"other_state_funds\",\n",
    "    \"state_total\",\n",
    "    \"local_total\",\n",
    "    \"total_state_federal_local_funding\",\n",
    "    \"total_state_fed_only\",\n",
    "    \"_5311_f__funds\",\n",
    "    \"_5311_cmaq_funds\",\n",
    "    \"_5339_funds\",\n",
    "    \"federal_total\",\n",
    "    \"other_fed_funds_total\",\n",
    "    \"lctop__state__funds\",\n",
    "    \"sb1__state_of_good_repair__state__funds\",\n",
    "    \"transit_development_act__state__funds\",\n",
    "]"
   ]
  },
  {
   "cell_type": "code",
   "execution_count": 11,
   "id": "86564a78-6131-4464-86e5-549086367b00",
   "metadata": {},
   "outputs": [],
   "source": [
    "specific_fund_cols = [\n",
    "    \"_5311_funds\",\n",
    "    \"_5311_f__funds\",\n",
    "    \"_5311_cmaq_funds\",\n",
    "    \"_5339_funds\",\n",
    "    \"federal_total\",\n",
    "    \"other_fed_funds_total\",\n",
    "    \"lctop__state__funds\",\n",
    "    \"sb1__state_of_good_repair__state__funds\",\n",
    "    \"transit_development_act__state__funds\",\n",
    "]"
   ]
  },
  {
   "cell_type": "code",
   "execution_count": 12,
   "id": "66bbf5ba-1b4b-4384-a471-8f1311ee3594",
   "metadata": {},
   "outputs": [
    {
     "name": "stdout",
     "output_type": "stream",
     "text": [
      "_5311_funds: 0\n",
      "_5311_f__funds: 0\n",
      "_5311_cmaq_funds: 0\n",
      "_5339_funds: 0\n",
      "federal_total: 0\n",
      "other_fed_funds_total: 0\n",
      "lctop__state__funds: 13779138.0\n",
      "sb1__state_of_good_repair__state__funds: 0\n",
      "transit_development_act__state__funds: 0.0\n"
     ]
    }
   ],
   "source": [
    "for i in specific_fund_cols:\n",
    "    print(f\"{i}: {free_fare[i].sum()}\")"
   ]
  },
  {
   "cell_type": "code",
   "execution_count": 13,
   "id": "84ceb8bf-f1cb-4f4b-8149-4d32ab548815",
   "metadata": {},
   "outputs": [
    {
     "data": {
      "text/plain": [
       "'The total cost of projects is $13429478'"
      ]
     },
     "execution_count": 13,
     "metadata": {},
     "output_type": "execute_result"
    }
   ],
   "source": [
    "f\"The total cost of projects is ${free_fare.total_expenses.sum()}\" "
   ]
  },
  {
   "cell_type": "code",
   "execution_count": 14,
   "id": "c70501ab-a378-4619-be01-83086b8cbf59",
   "metadata": {},
   "outputs": [
    {
     "data": {
      "text/plain": [
       "'The total award requested is $13779138.0'"
      ]
     },
     "execution_count": 14,
     "metadata": {},
     "output_type": "execute_result"
    }
   ],
   "source": [
    "f\"The total award requested is ${free_fare.lctop__state__funds.sum()}\" "
   ]
  },
  {
   "cell_type": "code",
   "execution_count": 15,
   "id": "65ae48a2-9d9f-429c-b790-2e02e4a097de",
   "metadata": {},
   "outputs": [
    {
     "data": {
      "text/plain": [
       "District 6: Fresno / Bakersfield          3\n",
       "District 2: Redding                       2\n",
       "District 1: Eureka                        1\n",
       "District 10: Stockton                     1\n",
       "District 12: Orange County                1\n",
       "District 8: San Bernardino / Riverside    1\n",
       "District 3: Marysville / Sacramento       1\n",
       "District 7: Los Angeles                   1\n",
       "District 4: Bay Area / Oakland            1\n",
       "Name: full_district_name, dtype: int64"
      ]
     },
     "execution_count": 15,
     "metadata": {},
     "output_type": "execute_result"
    }
   ],
   "source": [
    "free_fare.full_district_name.value_counts()"
   ]
  },
  {
   "cell_type": "code",
   "execution_count": 16,
   "id": "68ff9b2d-ac05-4e5e-8555-897afca22c0f",
   "metadata": {},
   "outputs": [
    {
     "data": {
      "text/plain": [
       "Submitted        9\n",
       "Not Submitted    3\n",
       "Name: application_status, dtype: int64"
      ]
     },
     "execution_count": 16,
     "metadata": {},
     "output_type": "execute_result"
    }
   ],
   "source": [
    "free_fare.application_status.value_counts()"
   ]
  },
  {
   "cell_type": "code",
   "execution_count": 17,
   "id": "96fc6cec-f298-4e3f-bb2c-a8eb055fa045",
   "metadata": {},
   "outputs": [
    {
     "data": {
      "text/plain": [
       "Fully funded                      9\n",
       "Funding exceeds total expenses    2\n",
       "Not fully funded                  1\n",
       "Name: fully_funded, dtype: int64"
      ]
     },
     "execution_count": 17,
     "metadata": {},
     "output_type": "execute_result"
    }
   ],
   "source": [
    "free_fare.fully_funded.value_counts()"
   ]
  },
  {
   "cell_type": "code",
   "execution_count": 18,
   "id": "f04a29b3-f9c6-443c-836c-48eb98cad650",
   "metadata": {},
   "outputs": [],
   "source": [
    "free_fare2 = free_fare.copy()"
   ]
  },
  {
   "cell_type": "code",
   "execution_count": 19,
   "id": "c2045624-6e43-41ff-a568-7c54354bd01a",
   "metadata": {},
   "outputs": [],
   "source": [
    "# Format currency\n",
    "for i in fund_cols:\n",
    "    free_fare2[i] = free_fare2[i].apply(\n",
    "        lambda x: format_currency(x, currency=\"USD\", locale=\"en_US\")\n",
    "    )"
   ]
  },
  {
   "cell_type": "code",
   "execution_count": 20,
   "id": "66caf648-f896-4fc7-91f1-0ba12907a1ba",
   "metadata": {
    "scrolled": true,
    "tags": []
   },
   "outputs": [],
   "source": [
    "free_fare2 = free_fare2[col_right_order]"
   ]
  },
  {
   "cell_type": "code",
   "execution_count": 21,
   "id": "e4fd24d9-a519-4026-966f-194e30d12c7c",
   "metadata": {},
   "outputs": [],
   "source": [
    "def clean_up_columns(df):\n",
    "    df.columns = df.columns.str.replace(\"_\", \" \").str.strip().str.title()\n",
    "    return df"
   ]
  },
  {
   "cell_type": "code",
   "execution_count": 22,
   "id": "56a5b077-e536-48cb-bd26-6366abc4512e",
   "metadata": {},
   "outputs": [],
   "source": [
    "free_fare2 = clean_up_columns(free_fare2)"
   ]
  },
  {
   "cell_type": "code",
   "execution_count": 23,
   "id": "8ec045c6-a037-4480-a71d-030eb045cb0b",
   "metadata": {},
   "outputs": [
    {
     "name": "stderr",
     "output_type": "stream",
     "text": [
      "/tmp/ipykernel_833/3421946405.py:1: FutureWarning: this method is deprecated in favour of `Styler.applymap()`\n",
      "  free_fare2.style.where(lambda val: 'Not Submitted' in str(val), 'color: red')\n"
     ]
    },
    {
     "data": {
      "text/html": [
       "<style type=\"text/css\">\n",
       "#T_0a5e5_row1_col2, #T_0a5e5_row7_col2, #T_0a5e5_row11_col2 {\n",
       "  color: red;\n",
       "}\n",
       "</style>\n",
       "<table id=\"T_0a5e5\">\n",
       "  <thead>\n",
       "    <tr>\n",
       "      <th class=\"blank level0\" >&nbsp;</th>\n",
       "      <th id=\"T_0a5e5_level0_col0\" class=\"col_heading level0 col0\" >Organization Name</th>\n",
       "      <th id=\"T_0a5e5_level0_col1\" class=\"col_heading level0 col1\" >Project Category</th>\n",
       "      <th id=\"T_0a5e5_level0_col2\" class=\"col_heading level0 col2\" >Application Status</th>\n",
       "      <th id=\"T_0a5e5_level0_col3\" class=\"col_heading level0 col3\" >Full District Name</th>\n",
       "      <th id=\"T_0a5e5_level0_col4\" class=\"col_heading level0 col4\" >Project Description</th>\n",
       "      <th id=\"T_0a5e5_level0_col5\" class=\"col_heading level0 col5\" >Total Expenses</th>\n",
       "      <th id=\"T_0a5e5_level0_col6\" class=\"col_heading level0 col6\" >Fully Funded</th>\n",
       "      <th id=\"T_0a5e5_level0_col7\" class=\"col_heading level0 col7\" >5311 Funds</th>\n",
       "      <th id=\"T_0a5e5_level0_col8\" class=\"col_heading level0 col8\" >Other State Funds</th>\n",
       "      <th id=\"T_0a5e5_level0_col9\" class=\"col_heading level0 col9\" >State Total</th>\n",
       "      <th id=\"T_0a5e5_level0_col10\" class=\"col_heading level0 col10\" >Local Total</th>\n",
       "      <th id=\"T_0a5e5_level0_col11\" class=\"col_heading level0 col11\" >Total State Federal Local Funding</th>\n",
       "      <th id=\"T_0a5e5_level0_col12\" class=\"col_heading level0 col12\" >Total State Fed Only</th>\n",
       "      <th id=\"T_0a5e5_level0_col13\" class=\"col_heading level0 col13\" >5311 F  Funds</th>\n",
       "      <th id=\"T_0a5e5_level0_col14\" class=\"col_heading level0 col14\" >5311 Cmaq Funds</th>\n",
       "      <th id=\"T_0a5e5_level0_col15\" class=\"col_heading level0 col15\" >5339 Funds</th>\n",
       "      <th id=\"T_0a5e5_level0_col16\" class=\"col_heading level0 col16\" >Federal Total</th>\n",
       "      <th id=\"T_0a5e5_level0_col17\" class=\"col_heading level0 col17\" >Other Fed Funds Total</th>\n",
       "      <th id=\"T_0a5e5_level0_col18\" class=\"col_heading level0 col18\" >Lctop  State  Funds</th>\n",
       "      <th id=\"T_0a5e5_level0_col19\" class=\"col_heading level0 col19\" >Sb1  State Of Good Repair  State  Funds</th>\n",
       "      <th id=\"T_0a5e5_level0_col20\" class=\"col_heading level0 col20\" >Transit Development Act  State  Funds</th>\n",
       "    </tr>\n",
       "  </thead>\n",
       "  <tbody>\n",
       "    <tr>\n",
       "      <th id=\"T_0a5e5_level0_row0\" class=\"row_heading level0 row0\" >0</th>\n",
       "      <td id=\"T_0a5e5_row0_col0\" class=\"data row0 col0\" >City of Arcata</td>\n",
       "      <td id=\"T_0a5e5_row0_col1\" class=\"data row0 col1\" >Operating</td>\n",
       "      <td id=\"T_0a5e5_row0_col2\" class=\"data row0 col2\" >Submitted</td>\n",
       "      <td id=\"T_0a5e5_row0_col3\" class=\"data row0 col3\" >District 1: Eureka</td>\n",
       "      <td id=\"T_0a5e5_row0_col4\" class=\"data row0 col4\" >operating assistance - free fares</td>\n",
       "      <td id=\"T_0a5e5_row0_col5\" class=\"data row0 col5\" >$13,595.00</td>\n",
       "      <td id=\"T_0a5e5_row0_col6\" class=\"data row0 col6\" >Fully funded</td>\n",
       "      <td id=\"T_0a5e5_row0_col7\" class=\"data row0 col7\" >$0.00</td>\n",
       "      <td id=\"T_0a5e5_row0_col8\" class=\"data row0 col8\" >$0.00</td>\n",
       "      <td id=\"T_0a5e5_row0_col9\" class=\"data row0 col9\" >$13,595.00</td>\n",
       "      <td id=\"T_0a5e5_row0_col10\" class=\"data row0 col10\" >$0.00</td>\n",
       "      <td id=\"T_0a5e5_row0_col11\" class=\"data row0 col11\" >$13,595.00</td>\n",
       "      <td id=\"T_0a5e5_row0_col12\" class=\"data row0 col12\" >$13,595.00</td>\n",
       "      <td id=\"T_0a5e5_row0_col13\" class=\"data row0 col13\" >$0.00</td>\n",
       "      <td id=\"T_0a5e5_row0_col14\" class=\"data row0 col14\" >$0.00</td>\n",
       "      <td id=\"T_0a5e5_row0_col15\" class=\"data row0 col15\" >$0.00</td>\n",
       "      <td id=\"T_0a5e5_row0_col16\" class=\"data row0 col16\" >$0.00</td>\n",
       "      <td id=\"T_0a5e5_row0_col17\" class=\"data row0 col17\" >$0.00</td>\n",
       "      <td id=\"T_0a5e5_row0_col18\" class=\"data row0 col18\" >$13,595.00</td>\n",
       "      <td id=\"T_0a5e5_row0_col19\" class=\"data row0 col19\" >$0.00</td>\n",
       "      <td id=\"T_0a5e5_row0_col20\" class=\"data row0 col20\" >$0.00</td>\n",
       "    </tr>\n",
       "    <tr>\n",
       "      <th id=\"T_0a5e5_level0_row1\" class=\"row_heading level0 row1\" >1</th>\n",
       "      <td id=\"T_0a5e5_row1_col0\" class=\"data row1 col0\" >City of Tracy</td>\n",
       "      <td id=\"T_0a5e5_row1_col1\" class=\"data row1 col1\" >Operating</td>\n",
       "      <td id=\"T_0a5e5_row1_col2\" class=\"data row1 col2\" >Not Submitted</td>\n",
       "      <td id=\"T_0a5e5_row1_col3\" class=\"data row1 col3\" >District 10: Stockton</td>\n",
       "      <td id=\"T_0a5e5_row1_col4\" class=\"data row1 col4\" >free fares program (lctop only)</td>\n",
       "      <td id=\"T_0a5e5_row1_col5\" class=\"data row1 col5\" >$0.00</td>\n",
       "      <td id=\"T_0a5e5_row1_col6\" class=\"data row1 col6\" >Funding exceeds total expenses</td>\n",
       "      <td id=\"T_0a5e5_row1_col7\" class=\"data row1 col7\" >$0.00</td>\n",
       "      <td id=\"T_0a5e5_row1_col8\" class=\"data row1 col8\" >$0.00</td>\n",
       "      <td id=\"T_0a5e5_row1_col9\" class=\"data row1 col9\" >$67,412.00</td>\n",
       "      <td id=\"T_0a5e5_row1_col10\" class=\"data row1 col10\" >$0.00</td>\n",
       "      <td id=\"T_0a5e5_row1_col11\" class=\"data row1 col11\" >$67,412.00</td>\n",
       "      <td id=\"T_0a5e5_row1_col12\" class=\"data row1 col12\" >$67,412.00</td>\n",
       "      <td id=\"T_0a5e5_row1_col13\" class=\"data row1 col13\" >$0.00</td>\n",
       "      <td id=\"T_0a5e5_row1_col14\" class=\"data row1 col14\" >$0.00</td>\n",
       "      <td id=\"T_0a5e5_row1_col15\" class=\"data row1 col15\" >$0.00</td>\n",
       "      <td id=\"T_0a5e5_row1_col16\" class=\"data row1 col16\" >$0.00</td>\n",
       "      <td id=\"T_0a5e5_row1_col17\" class=\"data row1 col17\" >$0.00</td>\n",
       "      <td id=\"T_0a5e5_row1_col18\" class=\"data row1 col18\" >$67,412.00</td>\n",
       "      <td id=\"T_0a5e5_row1_col19\" class=\"data row1 col19\" >$0.00</td>\n",
       "      <td id=\"T_0a5e5_row1_col20\" class=\"data row1 col20\" >$0.00</td>\n",
       "    </tr>\n",
       "    <tr>\n",
       "      <th id=\"T_0a5e5_level0_row2\" class=\"row_heading level0 row2\" >2</th>\n",
       "      <td id=\"T_0a5e5_row2_col0\" class=\"data row2 col0\" >Kern Regional Transit</td>\n",
       "      <td id=\"T_0a5e5_row2_col1\" class=\"data row2 col1\" >Operating</td>\n",
       "      <td id=\"T_0a5e5_row2_col2\" class=\"data row2 col2\" >Submitted</td>\n",
       "      <td id=\"T_0a5e5_row2_col3\" class=\"data row2 col3\" >District 6: Fresno / Bakersfield</td>\n",
       "      <td id=\"T_0a5e5_row2_col4\" class=\"data row2 col4\" >operating assistance- lctop  (2022 free fares)</td>\n",
       "      <td id=\"T_0a5e5_row2_col5\" class=\"data row2 col5\" >$447,513.00</td>\n",
       "      <td id=\"T_0a5e5_row2_col6\" class=\"data row2 col6\" >Fully funded</td>\n",
       "      <td id=\"T_0a5e5_row2_col7\" class=\"data row2 col7\" >$0.00</td>\n",
       "      <td id=\"T_0a5e5_row2_col8\" class=\"data row2 col8\" >$0.00</td>\n",
       "      <td id=\"T_0a5e5_row2_col9\" class=\"data row2 col9\" >$447,513.00</td>\n",
       "      <td id=\"T_0a5e5_row2_col10\" class=\"data row2 col10\" >$0.00</td>\n",
       "      <td id=\"T_0a5e5_row2_col11\" class=\"data row2 col11\" >$447,513.00</td>\n",
       "      <td id=\"T_0a5e5_row2_col12\" class=\"data row2 col12\" >$447,513.00</td>\n",
       "      <td id=\"T_0a5e5_row2_col13\" class=\"data row2 col13\" >$0.00</td>\n",
       "      <td id=\"T_0a5e5_row2_col14\" class=\"data row2 col14\" >$0.00</td>\n",
       "      <td id=\"T_0a5e5_row2_col15\" class=\"data row2 col15\" >$0.00</td>\n",
       "      <td id=\"T_0a5e5_row2_col16\" class=\"data row2 col16\" >$0.00</td>\n",
       "      <td id=\"T_0a5e5_row2_col17\" class=\"data row2 col17\" >$0.00</td>\n",
       "      <td id=\"T_0a5e5_row2_col18\" class=\"data row2 col18\" >$447,513.00</td>\n",
       "      <td id=\"T_0a5e5_row2_col19\" class=\"data row2 col19\" >$0.00</td>\n",
       "      <td id=\"T_0a5e5_row2_col20\" class=\"data row2 col20\" >$0.00</td>\n",
       "    </tr>\n",
       "    <tr>\n",
       "      <th id=\"T_0a5e5_level0_row3\" class=\"row_heading level0 row3\" >3</th>\n",
       "      <td id=\"T_0a5e5_row3_col0\" class=\"data row3 col0\" >Kings County Area Public Transit Agency</td>\n",
       "      <td id=\"T_0a5e5_row3_col1\" class=\"data row3 col1\" >Operating</td>\n",
       "      <td id=\"T_0a5e5_row3_col2\" class=\"data row3 col2\" >Submitted</td>\n",
       "      <td id=\"T_0a5e5_row3_col3\" class=\"data row3 col3\" >District 6: Fresno / Bakersfield</td>\n",
       "      <td id=\"T_0a5e5_row3_col4\" class=\"data row3 col4\" >operating assistance (lctop free fares or reduced fares) #1</td>\n",
       "      <td id=\"T_0a5e5_row3_col5\" class=\"data row3 col5\" >$64,513.00</td>\n",
       "      <td id=\"T_0a5e5_row3_col6\" class=\"data row3 col6\" >Fully funded</td>\n",
       "      <td id=\"T_0a5e5_row3_col7\" class=\"data row3 col7\" >$0.00</td>\n",
       "      <td id=\"T_0a5e5_row3_col8\" class=\"data row3 col8\" >$0.00</td>\n",
       "      <td id=\"T_0a5e5_row3_col9\" class=\"data row3 col9\" >$64,513.00</td>\n",
       "      <td id=\"T_0a5e5_row3_col10\" class=\"data row3 col10\" >$0.00</td>\n",
       "      <td id=\"T_0a5e5_row3_col11\" class=\"data row3 col11\" >$64,513.00</td>\n",
       "      <td id=\"T_0a5e5_row3_col12\" class=\"data row3 col12\" >$64,513.00</td>\n",
       "      <td id=\"T_0a5e5_row3_col13\" class=\"data row3 col13\" >$0.00</td>\n",
       "      <td id=\"T_0a5e5_row3_col14\" class=\"data row3 col14\" >$0.00</td>\n",
       "      <td id=\"T_0a5e5_row3_col15\" class=\"data row3 col15\" >$0.00</td>\n",
       "      <td id=\"T_0a5e5_row3_col16\" class=\"data row3 col16\" >$0.00</td>\n",
       "      <td id=\"T_0a5e5_row3_col17\" class=\"data row3 col17\" >$0.00</td>\n",
       "      <td id=\"T_0a5e5_row3_col18\" class=\"data row3 col18\" >$64,513.00</td>\n",
       "      <td id=\"T_0a5e5_row3_col19\" class=\"data row3 col19\" >$0.00</td>\n",
       "      <td id=\"T_0a5e5_row3_col20\" class=\"data row3 col20\" >$0.00</td>\n",
       "    </tr>\n",
       "    <tr>\n",
       "      <th id=\"T_0a5e5_level0_row4\" class=\"row_heading level0 row4\" >4</th>\n",
       "      <td id=\"T_0a5e5_row4_col0\" class=\"data row4 col0\" >Kings County Area Public Transit Agency</td>\n",
       "      <td id=\"T_0a5e5_row4_col1\" class=\"data row4 col1\" >Operating</td>\n",
       "      <td id=\"T_0a5e5_row4_col2\" class=\"data row4 col2\" >Submitted</td>\n",
       "      <td id=\"T_0a5e5_row4_col3\" class=\"data row4 col3\" >District 6: Fresno / Bakersfield</td>\n",
       "      <td id=\"T_0a5e5_row4_col4\" class=\"data row4 col4\" >operating assistance (lctop free fares or reduced fares) #2</td>\n",
       "      <td id=\"T_0a5e5_row4_col5\" class=\"data row4 col5\" >$70,000.00</td>\n",
       "      <td id=\"T_0a5e5_row4_col6\" class=\"data row4 col6\" >Fully funded</td>\n",
       "      <td id=\"T_0a5e5_row4_col7\" class=\"data row4 col7\" >$0.00</td>\n",
       "      <td id=\"T_0a5e5_row4_col8\" class=\"data row4 col8\" >$0.00</td>\n",
       "      <td id=\"T_0a5e5_row4_col9\" class=\"data row4 col9\" >$70,000.00</td>\n",
       "      <td id=\"T_0a5e5_row4_col10\" class=\"data row4 col10\" >$0.00</td>\n",
       "      <td id=\"T_0a5e5_row4_col11\" class=\"data row4 col11\" >$70,000.00</td>\n",
       "      <td id=\"T_0a5e5_row4_col12\" class=\"data row4 col12\" >$70,000.00</td>\n",
       "      <td id=\"T_0a5e5_row4_col13\" class=\"data row4 col13\" >$0.00</td>\n",
       "      <td id=\"T_0a5e5_row4_col14\" class=\"data row4 col14\" >$0.00</td>\n",
       "      <td id=\"T_0a5e5_row4_col15\" class=\"data row4 col15\" >$0.00</td>\n",
       "      <td id=\"T_0a5e5_row4_col16\" class=\"data row4 col16\" >$0.00</td>\n",
       "      <td id=\"T_0a5e5_row4_col17\" class=\"data row4 col17\" >$0.00</td>\n",
       "      <td id=\"T_0a5e5_row4_col18\" class=\"data row4 col18\" >$70,000.00</td>\n",
       "      <td id=\"T_0a5e5_row4_col19\" class=\"data row4 col19\" >$0.00</td>\n",
       "      <td id=\"T_0a5e5_row4_col20\" class=\"data row4 col20\" >$0.00</td>\n",
       "    </tr>\n",
       "    <tr>\n",
       "      <th id=\"T_0a5e5_level0_row5\" class=\"row_heading level0 row5\" >5</th>\n",
       "      <td id=\"T_0a5e5_row5_col0\" class=\"data row5 col0\" >Orange County Transportation Authority</td>\n",
       "      <td id=\"T_0a5e5_row5_col1\" class=\"data row5 col1\" >Operating</td>\n",
       "      <td id=\"T_0a5e5_row5_col2\" class=\"data row5 col2\" >Submitted</td>\n",
       "      <td id=\"T_0a5e5_row5_col3\" class=\"data row5 col3\" >District 12: Orange County</td>\n",
       "      <td id=\"T_0a5e5_row5_col4\" class=\"data row5 col4\" >youth ride free program (lctop only) #2</td>\n",
       "      <td id=\"T_0a5e5_row5_col5\" class=\"data row5 col5\" >$8,027,983.00</td>\n",
       "      <td id=\"T_0a5e5_row5_col6\" class=\"data row5 col6\" >Fully funded</td>\n",
       "      <td id=\"T_0a5e5_row5_col7\" class=\"data row5 col7\" >$0.00</td>\n",
       "      <td id=\"T_0a5e5_row5_col8\" class=\"data row5 col8\" >$0.00</td>\n",
       "      <td id=\"T_0a5e5_row5_col9\" class=\"data row5 col9\" >$8,027,983.00</td>\n",
       "      <td id=\"T_0a5e5_row5_col10\" class=\"data row5 col10\" >$0.00</td>\n",
       "      <td id=\"T_0a5e5_row5_col11\" class=\"data row5 col11\" >$8,027,983.00</td>\n",
       "      <td id=\"T_0a5e5_row5_col12\" class=\"data row5 col12\" >$8,027,983.00</td>\n",
       "      <td id=\"T_0a5e5_row5_col13\" class=\"data row5 col13\" >$0.00</td>\n",
       "      <td id=\"T_0a5e5_row5_col14\" class=\"data row5 col14\" >$0.00</td>\n",
       "      <td id=\"T_0a5e5_row5_col15\" class=\"data row5 col15\" >$0.00</td>\n",
       "      <td id=\"T_0a5e5_row5_col16\" class=\"data row5 col16\" >$0.00</td>\n",
       "      <td id=\"T_0a5e5_row5_col17\" class=\"data row5 col17\" >$0.00</td>\n",
       "      <td id=\"T_0a5e5_row5_col18\" class=\"data row5 col18\" >$8,027,983.00</td>\n",
       "      <td id=\"T_0a5e5_row5_col19\" class=\"data row5 col19\" >$0.00</td>\n",
       "      <td id=\"T_0a5e5_row5_col20\" class=\"data row5 col20\" >$0.00</td>\n",
       "    </tr>\n",
       "    <tr>\n",
       "      <th id=\"T_0a5e5_level0_row6\" class=\"row_heading level0 row6\" >6</th>\n",
       "      <td id=\"T_0a5e5_row6_col0\" class=\"data row6 col0\" >Plumas County Transportation Commission</td>\n",
       "      <td id=\"T_0a5e5_row6_col1\" class=\"data row6 col1\" >Operating</td>\n",
       "      <td id=\"T_0a5e5_row6_col2\" class=\"data row6 col2\" >Submitted</td>\n",
       "      <td id=\"T_0a5e5_row6_col3\" class=\"data row6 col3\" >District 2: Redding</td>\n",
       "      <td id=\"T_0a5e5_row6_col4\" class=\"data row6 col4\" >lctop #2 - free fare days</td>\n",
       "      <td id=\"T_0a5e5_row6_col5\" class=\"data row6 col5\" >$22,825.00</td>\n",
       "      <td id=\"T_0a5e5_row6_col6\" class=\"data row6 col6\" >Not fully funded</td>\n",
       "      <td id=\"T_0a5e5_row6_col7\" class=\"data row6 col7\" >$0.00</td>\n",
       "      <td id=\"T_0a5e5_row6_col8\" class=\"data row6 col8\" >$0.00</td>\n",
       "      <td id=\"T_0a5e5_row6_col9\" class=\"data row6 col9\" >$0.00</td>\n",
       "      <td id=\"T_0a5e5_row6_col10\" class=\"data row6 col10\" >$0.00</td>\n",
       "      <td id=\"T_0a5e5_row6_col11\" class=\"data row6 col11\" >$0.00</td>\n",
       "      <td id=\"T_0a5e5_row6_col12\" class=\"data row6 col12\" >$0.00</td>\n",
       "      <td id=\"T_0a5e5_row6_col13\" class=\"data row6 col13\" >$0.00</td>\n",
       "      <td id=\"T_0a5e5_row6_col14\" class=\"data row6 col14\" >$0.00</td>\n",
       "      <td id=\"T_0a5e5_row6_col15\" class=\"data row6 col15\" >$0.00</td>\n",
       "      <td id=\"T_0a5e5_row6_col16\" class=\"data row6 col16\" >$0.00</td>\n",
       "      <td id=\"T_0a5e5_row6_col17\" class=\"data row6 col17\" >$0.00</td>\n",
       "      <td id=\"T_0a5e5_row6_col18\" class=\"data row6 col18\" >$0.00</td>\n",
       "      <td id=\"T_0a5e5_row6_col19\" class=\"data row6 col19\" >$0.00</td>\n",
       "      <td id=\"T_0a5e5_row6_col20\" class=\"data row6 col20\" >$0.00</td>\n",
       "    </tr>\n",
       "    <tr>\n",
       "      <th id=\"T_0a5e5_level0_row7\" class=\"row_heading level0 row7\" >7</th>\n",
       "      <td id=\"T_0a5e5_row7_col0\" class=\"data row7 col0\" >Redding Area Bus Aurthority</td>\n",
       "      <td id=\"T_0a5e5_row7_col1\" class=\"data row7 col1\" >Operating</td>\n",
       "      <td id=\"T_0a5e5_row7_col2\" class=\"data row7 col2\" >Not Submitted</td>\n",
       "      <td id=\"T_0a5e5_row7_col3\" class=\"data row7 col3\" >District 2: Redding</td>\n",
       "      <td id=\"T_0a5e5_row7_col4\" class=\"data row7 col4\" >free fares for students (lctop) #1</td>\n",
       "      <td id=\"T_0a5e5_row7_col5\" class=\"data row7 col5\" >$22,912.00</td>\n",
       "      <td id=\"T_0a5e5_row7_col6\" class=\"data row7 col6\" >Fully funded</td>\n",
       "      <td id=\"T_0a5e5_row7_col7\" class=\"data row7 col7\" >$0.00</td>\n",
       "      <td id=\"T_0a5e5_row7_col8\" class=\"data row7 col8\" >$0.00</td>\n",
       "      <td id=\"T_0a5e5_row7_col9\" class=\"data row7 col9\" >$22,912.00</td>\n",
       "      <td id=\"T_0a5e5_row7_col10\" class=\"data row7 col10\" >$0.00</td>\n",
       "      <td id=\"T_0a5e5_row7_col11\" class=\"data row7 col11\" >$22,912.00</td>\n",
       "      <td id=\"T_0a5e5_row7_col12\" class=\"data row7 col12\" >$22,912.00</td>\n",
       "      <td id=\"T_0a5e5_row7_col13\" class=\"data row7 col13\" >$0.00</td>\n",
       "      <td id=\"T_0a5e5_row7_col14\" class=\"data row7 col14\" >$0.00</td>\n",
       "      <td id=\"T_0a5e5_row7_col15\" class=\"data row7 col15\" >$0.00</td>\n",
       "      <td id=\"T_0a5e5_row7_col16\" class=\"data row7 col16\" >$0.00</td>\n",
       "      <td id=\"T_0a5e5_row7_col17\" class=\"data row7 col17\" >$0.00</td>\n",
       "      <td id=\"T_0a5e5_row7_col18\" class=\"data row7 col18\" >$22,912.00</td>\n",
       "      <td id=\"T_0a5e5_row7_col19\" class=\"data row7 col19\" >$0.00</td>\n",
       "      <td id=\"T_0a5e5_row7_col20\" class=\"data row7 col20\" >$0.00</td>\n",
       "    </tr>\n",
       "    <tr>\n",
       "      <th id=\"T_0a5e5_level0_row8\" class=\"row_heading level0 row8\" >8</th>\n",
       "      <td id=\"T_0a5e5_row8_col0\" class=\"data row8 col0\" >Riverside County Transportation Commission</td>\n",
       "      <td id=\"T_0a5e5_row8_col1\" class=\"data row8 col1\" >Operating</td>\n",
       "      <td id=\"T_0a5e5_row8_col2\" class=\"data row8 col2\" >Submitted</td>\n",
       "      <td id=\"T_0a5e5_row8_col3\" class=\"data row8 col3\" >District 8: San Bernardino / Riverside</td>\n",
       "      <td id=\"T_0a5e5_row8_col4\" class=\"data row8 col4\" >riverside county free rail pass program (lctop only)</td>\n",
       "      <td id=\"T_0a5e5_row8_col5\" class=\"data row8 col5\" >$2,406,486.00</td>\n",
       "      <td id=\"T_0a5e5_row8_col6\" class=\"data row8 col6\" >Fully funded</td>\n",
       "      <td id=\"T_0a5e5_row8_col7\" class=\"data row8 col7\" >$0.00</td>\n",
       "      <td id=\"T_0a5e5_row8_col8\" class=\"data row8 col8\" >$0.00</td>\n",
       "      <td id=\"T_0a5e5_row8_col9\" class=\"data row8 col9\" >$2,406,486.00</td>\n",
       "      <td id=\"T_0a5e5_row8_col10\" class=\"data row8 col10\" >$0.00</td>\n",
       "      <td id=\"T_0a5e5_row8_col11\" class=\"data row8 col11\" >$2,406,486.00</td>\n",
       "      <td id=\"T_0a5e5_row8_col12\" class=\"data row8 col12\" >$2,406,486.00</td>\n",
       "      <td id=\"T_0a5e5_row8_col13\" class=\"data row8 col13\" >$0.00</td>\n",
       "      <td id=\"T_0a5e5_row8_col14\" class=\"data row8 col14\" >$0.00</td>\n",
       "      <td id=\"T_0a5e5_row8_col15\" class=\"data row8 col15\" >$0.00</td>\n",
       "      <td id=\"T_0a5e5_row8_col16\" class=\"data row8 col16\" >$0.00</td>\n",
       "      <td id=\"T_0a5e5_row8_col17\" class=\"data row8 col17\" >$0.00</td>\n",
       "      <td id=\"T_0a5e5_row8_col18\" class=\"data row8 col18\" >$2,406,486.00</td>\n",
       "      <td id=\"T_0a5e5_row8_col19\" class=\"data row8 col19\" >$0.00</td>\n",
       "      <td id=\"T_0a5e5_row8_col20\" class=\"data row8 col20\" >$0.00</td>\n",
       "    </tr>\n",
       "    <tr>\n",
       "      <th id=\"T_0a5e5_level0_row9\" class=\"row_heading level0 row9\" >9</th>\n",
       "      <td id=\"T_0a5e5_row9_col0\" class=\"data row9 col0\" >Sacramento Regional Transit District</td>\n",
       "      <td id=\"T_0a5e5_row9_col1\" class=\"data row9 col1\" >Capital</td>\n",
       "      <td id=\"T_0a5e5_row9_col2\" class=\"data row9 col2\" >Submitted</td>\n",
       "      <td id=\"T_0a5e5_row9_col3\" class=\"data row9 col3\" >District 3: Marysville / Sacramento</td>\n",
       "      <td id=\"T_0a5e5_row9_col4\" class=\"data row9 col4\" >free fare october</td>\n",
       "      <td id=\"T_0a5e5_row9_col5\" class=\"data row9 col5\" >$1,292,000.00</td>\n",
       "      <td id=\"T_0a5e5_row9_col6\" class=\"data row9 col6\" >Fully funded</td>\n",
       "      <td id=\"T_0a5e5_row9_col7\" class=\"data row9 col7\" >$0.00</td>\n",
       "      <td id=\"T_0a5e5_row9_col8\" class=\"data row9 col8\" >$0.00</td>\n",
       "      <td id=\"T_0a5e5_row9_col9\" class=\"data row9 col9\" >$1,292,000.00</td>\n",
       "      <td id=\"T_0a5e5_row9_col10\" class=\"data row9 col10\" >$0.00</td>\n",
       "      <td id=\"T_0a5e5_row9_col11\" class=\"data row9 col11\" >$1,292,000.00</td>\n",
       "      <td id=\"T_0a5e5_row9_col12\" class=\"data row9 col12\" >$1,292,000.00</td>\n",
       "      <td id=\"T_0a5e5_row9_col13\" class=\"data row9 col13\" >$0.00</td>\n",
       "      <td id=\"T_0a5e5_row9_col14\" class=\"data row9 col14\" >$0.00</td>\n",
       "      <td id=\"T_0a5e5_row9_col15\" class=\"data row9 col15\" >$0.00</td>\n",
       "      <td id=\"T_0a5e5_row9_col16\" class=\"data row9 col16\" >$0.00</td>\n",
       "      <td id=\"T_0a5e5_row9_col17\" class=\"data row9 col17\" >$0.00</td>\n",
       "      <td id=\"T_0a5e5_row9_col18\" class=\"data row9 col18\" >$1,292,000.00</td>\n",
       "      <td id=\"T_0a5e5_row9_col19\" class=\"data row9 col19\" >$0.00</td>\n",
       "      <td id=\"T_0a5e5_row9_col20\" class=\"data row9 col20\" >$0.00</td>\n",
       "    </tr>\n",
       "    <tr>\n",
       "      <th id=\"T_0a5e5_level0_row10\" class=\"row_heading level0 row10\" >10</th>\n",
       "      <td id=\"T_0a5e5_row10_col0\" class=\"data row10 col0\" >Ventura County Transportation Commission</td>\n",
       "      <td id=\"T_0a5e5_row10_col1\" class=\"data row10 col1\" >Operating</td>\n",
       "      <td id=\"T_0a5e5_row10_col2\" class=\"data row10 col2\" >Submitted</td>\n",
       "      <td id=\"T_0a5e5_row10_col3\" class=\"data row10 col3\" >District 7: Los Angeles</td>\n",
       "      <td id=\"T_0a5e5_row10_col4\" class=\"data row10 col4\" >youth ride free fare program lctop #1</td>\n",
       "      <td id=\"T_0a5e5_row10_col5\" class=\"data row10 col5\" >$1,061,651.00</td>\n",
       "      <td id=\"T_0a5e5_row10_col6\" class=\"data row10 col6\" >Fully funded</td>\n",
       "      <td id=\"T_0a5e5_row10_col7\" class=\"data row10 col7\" >$0.00</td>\n",
       "      <td id=\"T_0a5e5_row10_col8\" class=\"data row10 col8\" >$0.00</td>\n",
       "      <td id=\"T_0a5e5_row10_col9\" class=\"data row10 col9\" >$1,061,651.00</td>\n",
       "      <td id=\"T_0a5e5_row10_col10\" class=\"data row10 col10\" >$0.00</td>\n",
       "      <td id=\"T_0a5e5_row10_col11\" class=\"data row10 col11\" >$1,061,651.00</td>\n",
       "      <td id=\"T_0a5e5_row10_col12\" class=\"data row10 col12\" >$1,061,651.00</td>\n",
       "      <td id=\"T_0a5e5_row10_col13\" class=\"data row10 col13\" >$0.00</td>\n",
       "      <td id=\"T_0a5e5_row10_col14\" class=\"data row10 col14\" >$0.00</td>\n",
       "      <td id=\"T_0a5e5_row10_col15\" class=\"data row10 col15\" >$0.00</td>\n",
       "      <td id=\"T_0a5e5_row10_col16\" class=\"data row10 col16\" >$0.00</td>\n",
       "      <td id=\"T_0a5e5_row10_col17\" class=\"data row10 col17\" >$0.00</td>\n",
       "      <td id=\"T_0a5e5_row10_col18\" class=\"data row10 col18\" >$1,061,651.00</td>\n",
       "      <td id=\"T_0a5e5_row10_col19\" class=\"data row10 col19\" >$0.00</td>\n",
       "      <td id=\"T_0a5e5_row10_col20\" class=\"data row10 col20\" >$0.00</td>\n",
       "    </tr>\n",
       "    <tr>\n",
       "      <th id=\"T_0a5e5_level0_row11\" class=\"row_heading level0 row11\" >11</th>\n",
       "      <td id=\"T_0a5e5_row11_col0\" class=\"data row11 col0\" >Western Contra Costa Transit Authority</td>\n",
       "      <td id=\"T_0a5e5_row11_col1\" class=\"data row11 col1\" >Operating</td>\n",
       "      <td id=\"T_0a5e5_row11_col2\" class=\"data row11 col2\" >Not Submitted</td>\n",
       "      <td id=\"T_0a5e5_row11_col3\" class=\"data row11 col3\" >District 4: Bay Area / Oakland</td>\n",
       "      <td id=\"T_0a5e5_row11_col4\" class=\"data row11 col4\" >operating assistance (lctop only free fares 1 of 1)</td>\n",
       "      <td id=\"T_0a5e5_row11_col5\" class=\"data row11 col5\" >$0.00</td>\n",
       "      <td id=\"T_0a5e5_row11_col6\" class=\"data row11 col6\" >Funding exceeds total expenses</td>\n",
       "      <td id=\"T_0a5e5_row11_col7\" class=\"data row11 col7\" >$0.00</td>\n",
       "      <td id=\"T_0a5e5_row11_col8\" class=\"data row11 col8\" >$0.00</td>\n",
       "      <td id=\"T_0a5e5_row11_col9\" class=\"data row11 col9\" >$305,073.00</td>\n",
       "      <td id=\"T_0a5e5_row11_col10\" class=\"data row11 col10\" >$0.00</td>\n",
       "      <td id=\"T_0a5e5_row11_col11\" class=\"data row11 col11\" >$305,073.00</td>\n",
       "      <td id=\"T_0a5e5_row11_col12\" class=\"data row11 col12\" >$305,073.00</td>\n",
       "      <td id=\"T_0a5e5_row11_col13\" class=\"data row11 col13\" >$0.00</td>\n",
       "      <td id=\"T_0a5e5_row11_col14\" class=\"data row11 col14\" >$0.00</td>\n",
       "      <td id=\"T_0a5e5_row11_col15\" class=\"data row11 col15\" >$0.00</td>\n",
       "      <td id=\"T_0a5e5_row11_col16\" class=\"data row11 col16\" >$0.00</td>\n",
       "      <td id=\"T_0a5e5_row11_col17\" class=\"data row11 col17\" >$0.00</td>\n",
       "      <td id=\"T_0a5e5_row11_col18\" class=\"data row11 col18\" >$305,073.00</td>\n",
       "      <td id=\"T_0a5e5_row11_col19\" class=\"data row11 col19\" >$0.00</td>\n",
       "      <td id=\"T_0a5e5_row11_col20\" class=\"data row11 col20\" >$0.00</td>\n",
       "    </tr>\n",
       "  </tbody>\n",
       "</table>\n"
      ],
      "text/plain": [
       "<pandas.io.formats.style.Styler at 0x7f2686ae9ca0>"
      ]
     },
     "execution_count": 23,
     "metadata": {},
     "output_type": "execute_result"
    }
   ],
   "source": [
    "free_fare2.style.where(lambda val: 'Not Submitted' in str(val), 'color: red')"
   ]
  },
  {
   "cell_type": "code",
   "execution_count": 24,
   "id": "ca812b62-f061-4edc-a916-c3281ef4912a",
   "metadata": {},
   "outputs": [],
   "source": [
    "# free_fare2.to_excel(f\"{GCS_FILE_PATH}zero_fare.xlsx\", sheet_name=\"zero_fare\", index=False)"
   ]
  }
 ],
 "metadata": {
  "kernelspec": {
   "display_name": "Python 3 (ipykernel)",
   "language": "python",
   "name": "python3"
  },
  "language_info": {
   "codemirror_mode": {
    "name": "ipython",
    "version": 3
   },
   "file_extension": ".py",
   "mimetype": "text/x-python",
   "name": "python",
   "nbconvert_exporter": "python",
   "pygments_lexer": "ipython3",
   "version": "3.9.13"
  }
 },
 "nbformat": 4,
 "nbformat_minor": 5
}
