{
 "cells": [
  {
   "cell_type": "markdown",
   "id": "c0dcf142-b285-4edd-8e0a-92192f9dd1fe",
   "metadata": {},
   "source": [
    "# Consolidated application data"
   ]
  },
  {
   "cell_type": "code",
   "execution_count": 1,
   "id": "c597a056-512a-4bbe-bc14-26b71b9de7b0",
   "metadata": {},
   "outputs": [
    {
     "name": "stderr",
     "output_type": "stream",
     "text": [
      "/opt/conda/lib/python3.9/site-packages/geopandas/_compat.py:111: UserWarning: The Shapely GEOS version (3.10.2-CAPI-1.16.0) is incompatible with the GEOS version PyGEOS was compiled with (3.10.1-CAPI-1.16.0). Conversions between both will be slow.\n",
      "  warnings.warn(\n"
     ]
    }
   ],
   "source": [
    "import os\n",
    "import re as re\n",
    "\n",
    "import geopandas as gpd\n",
    "import numpy as np\n",
    "import pandas as pd\n",
    "\n",
    "pd.options.display.max_columns = 50\n",
    "pd.options.display.max_rows = 250\n",
    "pd.set_option(\"display.max_colwidth\", None)\n",
    "pd.options.display.float_format = \"{:.2f}\".format\n",
    "\n",
    "from collections import Counter\n",
    "from itertools import chain, combinations\n",
    "\n",
    "import shared_utils\n",
    "from calitp import *\n",
    "from shared_utils import utils\n",
    "from siuba import *\n",
    "\n",
    "GCS_FILE_PATH = \"gs://calitp-analytics-data/data-analyses/consolidated_applications/\"\n",
    "\n",
    "from calitp.storage import get_fs\n",
    "\n",
    "fs = get_fs()"
   ]
  },
  {
   "cell_type": "code",
   "execution_count": 2,
   "id": "1e4d4236-e226-4c56-8332-a0ffca67fcfe",
   "metadata": {},
   "outputs": [],
   "source": [
    "data = to_snakecase(\n",
    "    pd.read_excel(f\"{GCS_FILE_PATH}Copy of Application_Review_Report_5_2_2022.xls\")\n",
    ")"
   ]
  },
  {
   "cell_type": "code",
   "execution_count": 3,
   "id": "a833fbd0-ccdb-4d85-b39e-5481577cc90e",
   "metadata": {},
   "outputs": [
    {
     "data": {
      "text/plain": [
       "(346, 24)"
      ]
     },
     "execution_count": 3,
     "metadata": {},
     "output_type": "execute_result"
    }
   ],
   "source": [
    "data.shape"
   ]
  },
  {
   "cell_type": "code",
   "execution_count": 4,
   "id": "8125ffe9-f445-445b-bb49-0c8bf9e02556",
   "metadata": {
    "tags": []
   },
   "outputs": [
    {
     "data": {
      "text/plain": [
       "organization_name                            0\n",
       "district                                     6\n",
       "application_name                             0\n",
       "year                                         0\n",
       "application_status                           0\n",
       "project_upin                                 0\n",
       "project_category                             0\n",
       "project_line_item__ali_                      0\n",
       "project_description                          0\n",
       "is_stimulus                                  0\n",
       "consolidated_application                     0\n",
       "total_expenses                               0\n",
       "_5311_funds                                  7\n",
       "_5311_f__funds                               7\n",
       "_5311_cmaq_funds                             7\n",
       "_5339_funds                                  7\n",
       "federal_total                                0\n",
       "other_fed_funds_total                        7\n",
       "lctop__state__funds                          7\n",
       "sb1__state_of_good_repair__state__funds      7\n",
       "transit_development_act__state__funds        7\n",
       "other_state_funds                            7\n",
       "state_total                                  0\n",
       "local_total                                182\n",
       "dtype: int64"
      ]
     },
     "execution_count": 4,
     "metadata": {},
     "output_type": "execute_result"
    }
   ],
   "source": [
    "data.isna().sum()"
   ]
  },
  {
   "cell_type": "code",
   "execution_count": 5,
   "id": "ef91e489-f316-48f4-8856-377bfe300f42",
   "metadata": {},
   "outputs": [
    {
     "data": {
      "text/plain": [
       "organization_name                           object\n",
       "district                                   float64\n",
       "application_name                            object\n",
       "year                                         int64\n",
       "application_status                          object\n",
       "project_upin                                object\n",
       "project_category                            object\n",
       "project_line_item__ali_                     object\n",
       "project_description                         object\n",
       "is_stimulus                                 object\n",
       "consolidated_application                    object\n",
       "total_expenses                               int64\n",
       "_5311_funds                                float64\n",
       "_5311_f__funds                             float64\n",
       "_5311_cmaq_funds                           float64\n",
       "_5339_funds                                float64\n",
       "federal_total                                int64\n",
       "other_fed_funds_total                      float64\n",
       "lctop__state__funds                        float64\n",
       "sb1__state_of_good_repair__state__funds    float64\n",
       "transit_development_act__state__funds      float64\n",
       "other_state_funds                          float64\n",
       "state_total                                float64\n",
       "local_total                                 object\n",
       "dtype: object"
      ]
     },
     "execution_count": 5,
     "metadata": {},
     "output_type": "execute_result"
    }
   ],
   "source": [
    "data.dtypes"
   ]
  },
  {
   "cell_type": "code",
   "execution_count": 6,
   "id": "5cb46e63-11d6-4c20-9d03-e9e588284ea2",
   "metadata": {},
   "outputs": [
    {
     "data": {
      "text/html": [
       "<div>\n",
       "<style scoped>\n",
       "    .dataframe tbody tr th:only-of-type {\n",
       "        vertical-align: middle;\n",
       "    }\n",
       "\n",
       "    .dataframe tbody tr th {\n",
       "        vertical-align: top;\n",
       "    }\n",
       "\n",
       "    .dataframe thead th {\n",
       "        text-align: right;\n",
       "    }\n",
       "</style>\n",
       "<table border=\"1\" class=\"dataframe\">\n",
       "  <thead>\n",
       "    <tr style=\"text-align: right;\">\n",
       "      <th></th>\n",
       "      <th>organization_name</th>\n",
       "      <th>district</th>\n",
       "      <th>application_name</th>\n",
       "      <th>year</th>\n",
       "      <th>application_status</th>\n",
       "      <th>project_upin</th>\n",
       "      <th>project_category</th>\n",
       "      <th>project_line_item__ali_</th>\n",
       "      <th>project_description</th>\n",
       "      <th>is_stimulus</th>\n",
       "      <th>consolidated_application</th>\n",
       "      <th>total_expenses</th>\n",
       "      <th>_5311_funds</th>\n",
       "      <th>_5311_f__funds</th>\n",
       "      <th>_5311_cmaq_funds</th>\n",
       "      <th>_5339_funds</th>\n",
       "      <th>federal_total</th>\n",
       "      <th>other_fed_funds_total</th>\n",
       "      <th>lctop__state__funds</th>\n",
       "      <th>sb1__state_of_good_repair__state__funds</th>\n",
       "      <th>transit_development_act__state__funds</th>\n",
       "      <th>other_state_funds</th>\n",
       "      <th>state_total</th>\n",
       "      <th>local_total</th>\n",
       "    </tr>\n",
       "  </thead>\n",
       "  <tbody>\n",
       "    <tr>\n",
       "      <th>82</th>\n",
       "      <td>City of Tracy</td>\n",
       "      <td>10.00</td>\n",
       "      <td>Consolidated Application (Consolidated Application)</td>\n",
       "      <td>2022</td>\n",
       "      <td>Not Submitted</td>\n",
       "      <td>BCG0003786</td>\n",
       "      <td>OP</td>\n",
       "      <td>300901</td>\n",
       "      <td>Free Fares Program (LCTOP ONLY)</td>\n",
       "      <td>No</td>\n",
       "      <td>Yes</td>\n",
       "      <td>0</td>\n",
       "      <td>0.00</td>\n",
       "      <td>0.00</td>\n",
       "      <td>0.00</td>\n",
       "      <td>0.00</td>\n",
       "      <td>0</td>\n",
       "      <td>0.00</td>\n",
       "      <td>67412.00</td>\n",
       "      <td>0.00</td>\n",
       "      <td>0.00</td>\n",
       "      <td>0.00</td>\n",
       "      <td>67412.00</td>\n",
       "      <td>NaN</td>\n",
       "    </tr>\n",
       "    <tr>\n",
       "      <th>102</th>\n",
       "      <td>County of Siskiyou</td>\n",
       "      <td>2.00</td>\n",
       "      <td>Consolidated Application (Consolidated Application)</td>\n",
       "      <td>2022</td>\n",
       "      <td>Not Submitted</td>\n",
       "      <td>BCG0003809</td>\n",
       "      <td>CA</td>\n",
       "      <td>119302</td>\n",
       "      <td>Construction - Bus Shelters (LCTOP ONLY)</td>\n",
       "      <td>No</td>\n",
       "      <td>Yes</td>\n",
       "      <td>112541</td>\n",
       "      <td>0.00</td>\n",
       "      <td>0.00</td>\n",
       "      <td>0.00</td>\n",
       "      <td>0.00</td>\n",
       "      <td>0</td>\n",
       "      <td>0.00</td>\n",
       "      <td>112541.00</td>\n",
       "      <td>0.00</td>\n",
       "      <td>0.00</td>\n",
       "      <td>0.00</td>\n",
       "      <td>112541.00</td>\n",
       "      <td>NaN</td>\n",
       "    </tr>\n",
       "    <tr>\n",
       "      <th>187</th>\n",
       "      <td>Metropolitan Transportation Commission</td>\n",
       "      <td>4.00</td>\n",
       "      <td>Consolidated Application (Consolidated Application)</td>\n",
       "      <td>2022</td>\n",
       "      <td>Not Submitted</td>\n",
       "      <td>BCG0003723</td>\n",
       "      <td>OP</td>\n",
       "      <td>300901</td>\n",
       "      <td>Operating Assistance</td>\n",
       "      <td>No</td>\n",
       "      <td>Yes</td>\n",
       "      <td>0</td>\n",
       "      <td>0.00</td>\n",
       "      <td>0.00</td>\n",
       "      <td>0.00</td>\n",
       "      <td>0.00</td>\n",
       "      <td>0</td>\n",
       "      <td>0.00</td>\n",
       "      <td>6220716.00</td>\n",
       "      <td>0.00</td>\n",
       "      <td>0.00</td>\n",
       "      <td>0.00</td>\n",
       "      <td>6220716.00</td>\n",
       "      <td>NaN</td>\n",
       "    </tr>\n",
       "    <tr>\n",
       "      <th>237</th>\n",
       "      <td>Redding Area Bus Aurthority</td>\n",
       "      <td>2.00</td>\n",
       "      <td>Consolidated Application (Consolidated Application)</td>\n",
       "      <td>2022</td>\n",
       "      <td>Not Submitted</td>\n",
       "      <td>BCG0003583</td>\n",
       "      <td>OP</td>\n",
       "      <td>300901</td>\n",
       "      <td>Free Fares for Students (LCTOP) #1</td>\n",
       "      <td>No</td>\n",
       "      <td>Yes</td>\n",
       "      <td>22912</td>\n",
       "      <td>0.00</td>\n",
       "      <td>0.00</td>\n",
       "      <td>0.00</td>\n",
       "      <td>0.00</td>\n",
       "      <td>0</td>\n",
       "      <td>0.00</td>\n",
       "      <td>22912.00</td>\n",
       "      <td>0.00</td>\n",
       "      <td>0.00</td>\n",
       "      <td>0.00</td>\n",
       "      <td>22912.00</td>\n",
       "      <td>NaN</td>\n",
       "    </tr>\n",
       "    <tr>\n",
       "      <th>238</th>\n",
       "      <td>Redding Area Bus Aurthority</td>\n",
       "      <td>2.00</td>\n",
       "      <td>Consolidated Application (Consolidated Application)</td>\n",
       "      <td>2022</td>\n",
       "      <td>Not Submitted</td>\n",
       "      <td>BCG0003740</td>\n",
       "      <td>CA</td>\n",
       "      <td>111204</td>\n",
       "      <td>Zero Emission Van Modernization (LCTOP) #2</td>\n",
       "      <td>No</td>\n",
       "      <td>Yes</td>\n",
       "      <td>0</td>\n",
       "      <td>0.00</td>\n",
       "      <td>0.00</td>\n",
       "      <td>0.00</td>\n",
       "      <td>0.00</td>\n",
       "      <td>0</td>\n",
       "      <td>0.00</td>\n",
       "      <td>0.00</td>\n",
       "      <td>0.00</td>\n",
       "      <td>0.00</td>\n",
       "      <td>0.00</td>\n",
       "      <td>0.00</td>\n",
       "      <td>HVIP: $69,000.00\\nLCTOP: $233,014.00\\nPTMISEA: $12,986.00\\nTotal Local: $315,000.00</td>\n",
       "    </tr>\n",
       "    <tr>\n",
       "      <th>267</th>\n",
       "      <td>San Francisco Municipal Transportation Agency</td>\n",
       "      <td>4.00</td>\n",
       "      <td>Consolidated Application (Consolidated Application)</td>\n",
       "      <td>2022</td>\n",
       "      <td>Not Submitted</td>\n",
       "      <td>BCG0003689</td>\n",
       "      <td>CA</td>\n",
       "      <td>119302</td>\n",
       "      <td>Construction - Bus Shelters  (LCTOP Only #2 - 29 Sunset Muni Forward)</td>\n",
       "      <td>No</td>\n",
       "      <td>Yes</td>\n",
       "      <td>3005411</td>\n",
       "      <td>0.00</td>\n",
       "      <td>0.00</td>\n",
       "      <td>0.00</td>\n",
       "      <td>0.00</td>\n",
       "      <td>0</td>\n",
       "      <td>0.00</td>\n",
       "      <td>2855411.00</td>\n",
       "      <td>0.00</td>\n",
       "      <td>0.00</td>\n",
       "      <td>0.00</td>\n",
       "      <td>2855411.00</td>\n",
       "      <td>NaN</td>\n",
       "    </tr>\n",
       "    <tr>\n",
       "      <th>324</th>\n",
       "      <td>Tuolumne County Transit Agency (TCTA)</td>\n",
       "      <td>10.00</td>\n",
       "      <td>Consolidated Application (Consolidated Application)</td>\n",
       "      <td>2022</td>\n",
       "      <td>Not Submitted</td>\n",
       "      <td>BCG0003792</td>\n",
       "      <td>OP</td>\n",
       "      <td>300901</td>\n",
       "      <td>LCTOP</td>\n",
       "      <td>No</td>\n",
       "      <td>Yes</td>\n",
       "      <td>0</td>\n",
       "      <td>0.00</td>\n",
       "      <td>0.00</td>\n",
       "      <td>0.00</td>\n",
       "      <td>0.00</td>\n",
       "      <td>0</td>\n",
       "      <td>0.00</td>\n",
       "      <td>133640.00</td>\n",
       "      <td>0.00</td>\n",
       "      <td>0.00</td>\n",
       "      <td>0.00</td>\n",
       "      <td>133640.00</td>\n",
       "      <td>NaN</td>\n",
       "    </tr>\n",
       "    <tr>\n",
       "      <th>333</th>\n",
       "      <td>Western Contra Costa Transit Authority</td>\n",
       "      <td>NaN</td>\n",
       "      <td>Consolidated Application (Consolidated Application)</td>\n",
       "      <td>2022</td>\n",
       "      <td>Not Submitted</td>\n",
       "      <td>BCG0003647</td>\n",
       "      <td>OP</td>\n",
       "      <td>300901</td>\n",
       "      <td>Operating Assistance (LCTOP Only Free Fares 1 of 1)</td>\n",
       "      <td>No</td>\n",
       "      <td>Yes</td>\n",
       "      <td>0</td>\n",
       "      <td>0.00</td>\n",
       "      <td>0.00</td>\n",
       "      <td>0.00</td>\n",
       "      <td>0.00</td>\n",
       "      <td>0</td>\n",
       "      <td>0.00</td>\n",
       "      <td>305073.00</td>\n",
       "      <td>0.00</td>\n",
       "      <td>0.00</td>\n",
       "      <td>0.00</td>\n",
       "      <td>305073.00</td>\n",
       "      <td>NaN</td>\n",
       "    </tr>\n",
       "  </tbody>\n",
       "</table>\n",
       "</div>"
      ],
      "text/plain": [
       "                                 organization_name  district  \\\n",
       "82                                   City of Tracy     10.00   \n",
       "102                             County of Siskiyou      2.00   \n",
       "187         Metropolitan Transportation Commission      4.00   \n",
       "237                    Redding Area Bus Aurthority      2.00   \n",
       "238                    Redding Area Bus Aurthority      2.00   \n",
       "267  San Francisco Municipal Transportation Agency      4.00   \n",
       "324          Tuolumne County Transit Agency (TCTA)     10.00   \n",
       "333         Western Contra Costa Transit Authority       NaN   \n",
       "\n",
       "                                        application_name  year  \\\n",
       "82   Consolidated Application (Consolidated Application)  2022   \n",
       "102  Consolidated Application (Consolidated Application)  2022   \n",
       "187  Consolidated Application (Consolidated Application)  2022   \n",
       "237  Consolidated Application (Consolidated Application)  2022   \n",
       "238  Consolidated Application (Consolidated Application)  2022   \n",
       "267  Consolidated Application (Consolidated Application)  2022   \n",
       "324  Consolidated Application (Consolidated Application)  2022   \n",
       "333  Consolidated Application (Consolidated Application)  2022   \n",
       "\n",
       "    application_status project_upin project_category project_line_item__ali_  \\\n",
       "82       Not Submitted   BCG0003786               OP                  300901   \n",
       "102      Not Submitted   BCG0003809               CA                  119302   \n",
       "187      Not Submitted   BCG0003723               OP                  300901   \n",
       "237      Not Submitted   BCG0003583               OP                  300901   \n",
       "238      Not Submitted   BCG0003740               CA                  111204   \n",
       "267      Not Submitted   BCG0003689               CA                  119302   \n",
       "324      Not Submitted   BCG0003792               OP                  300901   \n",
       "333      Not Submitted   BCG0003647               OP                  300901   \n",
       "\n",
       "                                                       project_description  \\\n",
       "82                                         Free Fares Program (LCTOP ONLY)   \n",
       "102                               Construction - Bus Shelters (LCTOP ONLY)   \n",
       "187                                                   Operating Assistance   \n",
       "237                                     Free Fares for Students (LCTOP) #1   \n",
       "238                             Zero Emission Van Modernization (LCTOP) #2   \n",
       "267  Construction - Bus Shelters  (LCTOP Only #2 - 29 Sunset Muni Forward)   \n",
       "324                                                                  LCTOP   \n",
       "333                    Operating Assistance (LCTOP Only Free Fares 1 of 1)   \n",
       "\n",
       "    is_stimulus consolidated_application  total_expenses  _5311_funds  \\\n",
       "82           No                      Yes               0         0.00   \n",
       "102          No                      Yes          112541         0.00   \n",
       "187          No                      Yes               0         0.00   \n",
       "237          No                      Yes           22912         0.00   \n",
       "238          No                      Yes               0         0.00   \n",
       "267          No                      Yes         3005411         0.00   \n",
       "324          No                      Yes               0         0.00   \n",
       "333          No                      Yes               0         0.00   \n",
       "\n",
       "     _5311_f__funds  _5311_cmaq_funds  _5339_funds  federal_total  \\\n",
       "82             0.00              0.00         0.00              0   \n",
       "102            0.00              0.00         0.00              0   \n",
       "187            0.00              0.00         0.00              0   \n",
       "237            0.00              0.00         0.00              0   \n",
       "238            0.00              0.00         0.00              0   \n",
       "267            0.00              0.00         0.00              0   \n",
       "324            0.00              0.00         0.00              0   \n",
       "333            0.00              0.00         0.00              0   \n",
       "\n",
       "     other_fed_funds_total  lctop__state__funds  \\\n",
       "82                    0.00             67412.00   \n",
       "102                   0.00            112541.00   \n",
       "187                   0.00           6220716.00   \n",
       "237                   0.00             22912.00   \n",
       "238                   0.00                 0.00   \n",
       "267                   0.00           2855411.00   \n",
       "324                   0.00            133640.00   \n",
       "333                   0.00            305073.00   \n",
       "\n",
       "     sb1__state_of_good_repair__state__funds  \\\n",
       "82                                      0.00   \n",
       "102                                     0.00   \n",
       "187                                     0.00   \n",
       "237                                     0.00   \n",
       "238                                     0.00   \n",
       "267                                     0.00   \n",
       "324                                     0.00   \n",
       "333                                     0.00   \n",
       "\n",
       "     transit_development_act__state__funds  other_state_funds  state_total  \\\n",
       "82                                    0.00               0.00     67412.00   \n",
       "102                                   0.00               0.00    112541.00   \n",
       "187                                   0.00               0.00   6220716.00   \n",
       "237                                   0.00               0.00     22912.00   \n",
       "238                                   0.00               0.00         0.00   \n",
       "267                                   0.00               0.00   2855411.00   \n",
       "324                                   0.00               0.00    133640.00   \n",
       "333                                   0.00               0.00    305073.00   \n",
       "\n",
       "                                                                             local_total  \n",
       "82                                                                                   NaN  \n",
       "102                                                                                  NaN  \n",
       "187                                                                                  NaN  \n",
       "237                                                                                  NaN  \n",
       "238  HVIP: $69,000.00\\nLCTOP: $233,014.00\\nPTMISEA: $12,986.00\\nTotal Local: $315,000.00  \n",
       "267                                                                                  NaN  \n",
       "324                                                                                  NaN  \n",
       "333                                                                                  NaN  "
      ]
     },
     "execution_count": 6,
     "metadata": {},
     "output_type": "execute_result"
    }
   ],
   "source": [
    "data.loc[data[\"application_status\"] == \"Not Submitted\"]"
   ]
  },
  {
   "cell_type": "code",
   "execution_count": 7,
   "id": "f633972d-bc96-4579-859d-e1b2f20a5d09",
   "metadata": {},
   "outputs": [
    {
     "data": {
      "text/plain": [
       "Consolidated Application (Consolidated Application)    346\n",
       "Name: application_name, dtype: int64"
      ]
     },
     "execution_count": 7,
     "metadata": {},
     "output_type": "execute_result"
    }
   ],
   "source": [
    "data.application_name.value_counts()"
   ]
  },
  {
   "cell_type": "markdown",
   "id": "ea3ae85e-8c10-4e14-b51d-73ca2b5d912e",
   "metadata": {
    "tags": []
   },
   "source": [
    "## Organizations"
   ]
  },
  {
   "cell_type": "code",
   "execution_count": 8,
   "id": "bdf53c1f-3e1c-44cc-8020-85c3263e4ca4",
   "metadata": {},
   "outputs": [],
   "source": [
    "# Replace Ventura, read in weirdly\n",
    "data[\"organization_name\"] = data[\"organization_name\"].replace(\n",
    "    {\n",
    "        \"Ventura County Transportation Commission\\xa0\": \"Ventura County Transportation Commission\"\n",
    "    }\n",
    ")"
   ]
  },
  {
   "cell_type": "code",
   "execution_count": 9,
   "id": "aa1920bf-6e7a-43e9-b313-5d778d3e19bd",
   "metadata": {},
   "outputs": [],
   "source": [
    "# Remove any acronyms\n",
    "data[\"organization_name\"] = data[\"organization_name\"].str.replace(\n",
    "    \"\\s+\\(.*$\", \"\", regex=True\n",
    ")"
   ]
  },
  {
   "cell_type": "markdown",
   "id": "49ef89e4-476d-4629-b900-d608a07c80ab",
   "metadata": {
    "tags": []
   },
   "source": [
    "## Project Columns"
   ]
  },
  {
   "cell_type": "code",
   "execution_count": 10,
   "id": "2891b393-c125-4c04-bfdf-6a7b89f6c493",
   "metadata": {},
   "outputs": [],
   "source": [
    "data[\"project_category\"] = data[\"project_category\"].replace(\n",
    "    {\"OP\": \"Operating\", \"CA\": \"Capital\", \"PL\": \"Planning\", \"CM\": \"Capital Maintenance\"}\n",
    ")"
   ]
  },
  {
   "cell_type": "code",
   "execution_count": 11,
   "id": "16d2a2b5-09c2-48bb-9dce-930c2d3ed27f",
   "metadata": {},
   "outputs": [
    {
     "data": {
      "text/plain": [
       "array(['Operating', 'Capital', 'Planning', 'Capital Maintenance'],\n",
       "      dtype=object)"
      ]
     },
     "execution_count": 11,
     "metadata": {},
     "output_type": "execute_result"
    }
   ],
   "source": [
    "## Change acronyms to full name. What does PL and CM mean?\n",
    "data.project_category.unique()"
   ]
  },
  {
   "cell_type": "markdown",
   "id": "2a21db59-83b4-484b-ab06-6bcffcfc7640",
   "metadata": {},
   "source": [
    "### Project Descriptions\n",
    "The descriptions are long and there are 200+ of them. The project category included in the data set is pretty vague, manipulate for something in between."
   ]
  },
  {
   "cell_type": "code",
   "execution_count": 12,
   "id": "521fb623-7a3b-4d63-a2bc-735d699e2bf7",
   "metadata": {},
   "outputs": [],
   "source": [
    "data[\"project_description\"] = data[\"project_description\"].str.lower()"
   ]
  },
  {
   "cell_type": "code",
   "execution_count": 13,
   "id": "0aaa1e66-86f8-4461-8935-0bf3bfb5e042",
   "metadata": {},
   "outputs": [
    {
     "data": {
      "text/plain": [
       "206"
      ]
     },
     "execution_count": 13,
     "metadata": {},
     "output_type": "execute_result"
    }
   ],
   "source": [
    "data.project_description.nunique()"
   ]
  },
  {
   "cell_type": "code",
   "execution_count": 14,
   "id": "5101653a-3761-402f-ac9c-da70bd1c1ecf",
   "metadata": {
    "scrolled": true,
    "tags": []
   },
   "outputs": [],
   "source": [
    "# data.project_description.unique()"
   ]
  },
  {
   "cell_type": "code",
   "execution_count": 15,
   "id": "8d64c4df-8181-4276-a5fa-b51632ea70c6",
   "metadata": {},
   "outputs": [],
   "source": [
    "data[\"short_description\"] = data[\"project_description\"].str.extract(\n",
    "    \"(operating|bus|construction|buses|planning|van|vessel|fare|ridership|vehicle|station|service|equipment|maintenance|surveillance|renovate|free|equip|operational)\",\n",
    "    expand=False,\n",
    ")"
   ]
  },
  {
   "cell_type": "code",
   "execution_count": 16,
   "id": "3b6423f8-0c5e-4503-b791-7e9e98ad876d",
   "metadata": {},
   "outputs": [],
   "source": [
    "data[\"short_description\"] = data[\"short_description\"].replace(\n",
    "    {\n",
    "        \"operating\": \"operating assistance\",\n",
    "        \"operational\": \"operating assistance\",\n",
    "        \"free\": \"free fare program\",\n",
    "        \"ridership\": \"ridership expansion\",\n",
    "        \"fare\": \"purchasing other tech\",\n",
    "        \"service\": \"service expansion\",\n",
    "        \"buses\": \"purchasing vehicles\",\n",
    "        \"bus\": \"purchasing vehicles\",\n",
    "        \"van\": \"purchasing vehicles\",\n",
    "        \"vessel\": \"purchasing vehicles\",\n",
    "        \"vehicles\": \"purchasing vehicles\",\n",
    "        \"vehicle\": \"purchasing vehicles\",\n",
    "        \"planning\": \"transit planning\",\n",
    "        \"station\": \"construction\",\n",
    "        \"construction\": \"construction\",\n",
    "        \"maintenance\": \"maintenance/renovation\",\n",
    "        \"renovate\": \"maintenance/renovation\",\n",
    "        \"equipment\": \"purchasing other tech\",\n",
    "        \"equip\": \"purchasing other tech\",\n",
    "        \"surveillance\": \"purchasing other tech\",\n",
    "    }\n",
    ")"
   ]
  },
  {
   "cell_type": "code",
   "execution_count": 17,
   "id": "12a203e6-80d7-4bc7-b8eb-9e63e0e446ca",
   "metadata": {},
   "outputs": [],
   "source": [
    "data[\"short_description\"] = (\n",
    "    data[\"short_description\"].fillna(\"other category\").str.title()\n",
    ")"
   ]
  },
  {
   "cell_type": "code",
   "execution_count": 18,
   "id": "97575cf3-53af-4730-ac48-ec3284682ae9",
   "metadata": {},
   "outputs": [
    {
     "data": {
      "text/plain": [
       "10"
      ]
     },
     "execution_count": 18,
     "metadata": {},
     "output_type": "execute_result"
    }
   ],
   "source": [
    "data.short_description.nunique()"
   ]
  },
  {
   "cell_type": "code",
   "execution_count": 19,
   "id": "0adbd57b-cc27-4c4d-b270-724f84576279",
   "metadata": {
    "scrolled": true,
    "tags": []
   },
   "outputs": [],
   "source": [
    "# data[['project_description','short_description']].tail(250)"
   ]
  },
  {
   "cell_type": "markdown",
   "id": "cb21d7fb-aaa8-41ed-a088-765939ca3d83",
   "metadata": {},
   "source": [
    "## Monetary Columns\n",
    "\n",
    "<b> Local Total </b> \n",
    "* This column represents the different types of local funding a project can receive.\n",
    "* Extract everything after the colons. "
   ]
  },
  {
   "cell_type": "code",
   "execution_count": 20,
   "id": "3b9e21c9-093e-4a7f-96d1-dd18cd98617b",
   "metadata": {},
   "outputs": [],
   "source": [
    "data[\"local_total\"] = data[\"local_total\"].str.split(\": \").str[-1]"
   ]
  },
  {
   "cell_type": "code",
   "execution_count": 21,
   "id": "b64befd9-2571-4ed1-85f1-cbc6815c7357",
   "metadata": {},
   "outputs": [],
   "source": [
    "data[\"local_total\"] = (\n",
    "    data[\"local_total\"]\n",
    "    .str.replace(\",\", \"\", regex=True)\n",
    "    .str.replace(\"$\", \"\", regex=True)\n",
    "    .fillna(0)\n",
    "    .astype(\"float\")\n",
    ")"
   ]
  },
  {
   "cell_type": "code",
   "execution_count": 22,
   "id": "fca39f1b-51f5-4760-806c-c26fa6e53ab1",
   "metadata": {},
   "outputs": [],
   "source": [
    "monetary_cols = [\n",
    "    \"total_expenses\",\n",
    "    \"_5311_funds\",\n",
    "    \"_5311_f__funds\",\n",
    "    \"_5311_cmaq_funds\",\n",
    "    \"_5339_funds\",\n",
    "    \"federal_total\",\n",
    "    \"other_fed_funds_total\",\n",
    "    \"lctop__state__funds\",\n",
    "    \"sb1__state_of_good_repair__state__funds\",\n",
    "    \"transit_development_act__state__funds\",\n",
    "    \"other_state_funds\",\n",
    "    \"state_total\",\n",
    "]"
   ]
  },
  {
   "cell_type": "code",
   "execution_count": 23,
   "id": "f0f547cb-f8b5-4af4-8177-6f8e819b7f8a",
   "metadata": {},
   "outputs": [],
   "source": [
    "# Clean up monetary columns\n",
    "data[monetary_cols] = (\n",
    "    data[monetary_cols]\n",
    "    .fillna(value=0)\n",
    "    .apply(pd.to_numeric, errors=\"coerce\")\n",
    "    .astype(\"float\")\n",
    ")"
   ]
  },
  {
   "cell_type": "code",
   "execution_count": 24,
   "id": "32500d86-b4f9-441a-9c91-036c506a2124",
   "metadata": {},
   "outputs": [],
   "source": [
    "# Total up all the funding sources\n",
    "data[\"total_state_federal_local_funding\"] = (\n",
    "    data[\"state_total\"]\n",
    "    + data[\"local_total\"]\n",
    "    + data[\"federal_total\"]\n",
    "    + data[\"other_fed_funds_total\"]\n",
    ")"
   ]
  },
  {
   "cell_type": "code",
   "execution_count": 25,
   "id": "06594d42-55c4-4018-b768-660731a7b46e",
   "metadata": {},
   "outputs": [],
   "source": [
    "data[\"total_state_fed_only\"] = (\n",
    "    data[\"state_total\"] + data[\"federal_total\"] \n",
    ")"
   ]
  },
  {
   "cell_type": "code",
   "execution_count": 26,
   "id": "382a08dc-08f4-451c-a57d-cae7b175e474",
   "metadata": {},
   "outputs": [],
   "source": [
    "def funding_vs_expenses(df):\n",
    "    if df[\"total_state_federal_local_funding\"] == df[\"total_expenses\"]:\n",
    "        return \"Fully funded\"\n",
    "    elif df[\"total_state_federal_local_funding\"] > df[\"total_expenses\"]:\n",
    "        return \"Funding exceeds total expenses\"\n",
    "    else:\n",
    "        return \"Not fully funded\""
   ]
  },
  {
   "cell_type": "code",
   "execution_count": 27,
   "id": "5deaf1e5-764c-44db-bea0-249e97b4bffe",
   "metadata": {},
   "outputs": [],
   "source": [
    "data[\"fully_funded\"] = data.apply(funding_vs_expenses, axis=1)"
   ]
  },
  {
   "cell_type": "code",
   "execution_count": 28,
   "id": "2c56014f-178a-4950-8540-3993768e51ad",
   "metadata": {
    "tags": []
   },
   "outputs": [
    {
     "data": {
      "text/plain": [
       "Fully funded                      263\n",
       "Funding exceeds total expenses     44\n",
       "Not fully funded                   39\n",
       "Name: fully_funded, dtype: int64"
      ]
     },
     "execution_count": 28,
     "metadata": {},
     "output_type": "execute_result"
    }
   ],
   "source": [
    "data.fully_funded.value_counts()"
   ]
  },
  {
   "cell_type": "code",
   "execution_count": 29,
   "id": "c73346ff-b221-42f3-a28d-54ed60f2dc92",
   "metadata": {},
   "outputs": [
    {
     "data": {
      "text/plain": [
       "0.7601156069364162"
      ]
     },
     "execution_count": 29,
     "metadata": {},
     "output_type": "execute_result"
    }
   ],
   "source": [
    "263 / 346"
   ]
  },
  {
   "cell_type": "code",
   "execution_count": 30,
   "id": "18823966-0c26-46f3-bd1c-ae86d3ffd657",
   "metadata": {},
   "outputs": [
    {
     "data": {
      "text/html": [
       "<div>\n",
       "<style scoped>\n",
       "    .dataframe tbody tr th:only-of-type {\n",
       "        vertical-align: middle;\n",
       "    }\n",
       "\n",
       "    .dataframe tbody tr th {\n",
       "        vertical-align: top;\n",
       "    }\n",
       "\n",
       "    .dataframe thead th {\n",
       "        text-align: right;\n",
       "    }\n",
       "</style>\n",
       "<table border=\"1\" class=\"dataframe\">\n",
       "  <thead>\n",
       "    <tr style=\"text-align: right;\">\n",
       "      <th></th>\n",
       "      <th>project_upin</th>\n",
       "      <th>local_total</th>\n",
       "    </tr>\n",
       "  </thead>\n",
       "  <tbody>\n",
       "    <tr>\n",
       "      <th>143</th>\n",
       "      <td>BCG0003910</td>\n",
       "      <td>0.00</td>\n",
       "    </tr>\n",
       "    <tr>\n",
       "      <th>72</th>\n",
       "      <td>BCG0003845</td>\n",
       "      <td>0.00</td>\n",
       "    </tr>\n",
       "    <tr>\n",
       "      <th>75</th>\n",
       "      <td>BCG0003885</td>\n",
       "      <td>19275.00</td>\n",
       "    </tr>\n",
       "    <tr>\n",
       "      <th>204</th>\n",
       "      <td>BCG0003743</td>\n",
       "      <td>0.00</td>\n",
       "    </tr>\n",
       "  </tbody>\n",
       "</table>\n",
       "</div>"
      ],
      "text/plain": [
       "    project_upin  local_total\n",
       "143   BCG0003910         0.00\n",
       "72    BCG0003845         0.00\n",
       "75    BCG0003885     19275.00\n",
       "204   BCG0003743         0.00"
      ]
     },
     "execution_count": 30,
     "metadata": {},
     "output_type": "execute_result"
    }
   ],
   "source": [
    "data[[\"project_upin\", \"local_total\"]].sample(4)"
   ]
  },
  {
   "cell_type": "markdown",
   "id": "ab517f15-d289-436b-9314-7948729cfb1d",
   "metadata": {
    "tags": []
   },
   "source": [
    "## District \n",
    "* Fix null values"
   ]
  },
  {
   "cell_type": "code",
   "execution_count": 31,
   "id": "5e162bbd-3f98-46ec-ba4c-329662281dd7",
   "metadata": {},
   "outputs": [],
   "source": [
    "no_districts = data[data[\"district\"].isnull()]"
   ]
  },
  {
   "cell_type": "code",
   "execution_count": 32,
   "id": "72f505c4-d855-49bc-8be3-4d4bbc83f4f9",
   "metadata": {},
   "outputs": [],
   "source": [
    "no_districts_list = no_districts[\"project_upin\"].tolist()"
   ]
  },
  {
   "cell_type": "code",
   "execution_count": 33,
   "id": "ef1130c0-f7e4-4ef5-9c31-7c5502d2bc01",
   "metadata": {},
   "outputs": [],
   "source": [
    "# In Riverside\n",
    "data.loc[(data[\"organization_name\"] == \"City of Banning\"), \"district\"] = 8\n",
    "# In Fresno\n",
    "data.loc[(data[\"organization_name\"] == \"City of Clovis\"), \"district\"] = 6\n",
    "data.loc[(data[\"organization_name\"] == \"City of Los Angeles DOT\"), \"district\"] = 7\n",
    "\n",
    "# Bay Area\n",
    "data.loc[\n",
    "    (data[\"organization_name\"] == \"Peninsula Corridor Joint Powers Board\"), \"district\"\n",
    "] = 4\n",
    "\n",
    "data.loc[\n",
    "    (data[\"organization_name\"] == \"San Joaquin Regional Rail Commission\"), \"district\"\n",
    "] = 10\n",
    "\n",
    "data.loc[\n",
    "    (data[\"organization_name\"] == \"Western Contra Costa Transit Authority\"), \"district\"\n",
    "] = 4"
   ]
  },
  {
   "cell_type": "code",
   "execution_count": 34,
   "id": "bc384d07-d728-474f-82ce-19eac773ebee",
   "metadata": {},
   "outputs": [],
   "source": [
    "# Create new col with spelled out names\n",
    "data[\"full_district_name\"] = data[\"district\"]"
   ]
  },
  {
   "cell_type": "code",
   "execution_count": 35,
   "id": "83f883de-b4c6-4248-a5cd-b79873326306",
   "metadata": {},
   "outputs": [],
   "source": [
    "data[\"full_district_name\"] = data[\"full_district_name\"].replace(\n",
    "    {\n",
    "        7: \"District 7: Los Angeles\",\n",
    "        4: \"District 4: Bay Area / Oakland\",\n",
    "        2: \"District 2: Redding\",\n",
    "        9: \"District 9: Bishop\",\n",
    "        10: \"District 10: Stockton\",\n",
    "        11: \"District 11: San Diego\",\n",
    "        3: \"District 3: Marysville / Sacramento\",\n",
    "        12: \"District 12: Orange County\",\n",
    "        8: \"District 8: San Bernardino / Riverside\",\n",
    "        5: \"District 5: San Luis Obispo / Santa Barbara\",\n",
    "        6: \"District 6: Fresno / Bakersfield\",\n",
    "        1: \"District 1: Eureka\",\n",
    "    }\n",
    ")"
   ]
  },
  {
   "cell_type": "markdown",
   "id": "7ea8ef74-79fc-4558-b767-9fc6b15cbd9c",
   "metadata": {},
   "source": [
    "## Make a map\n",
    "* Change function to add geojson file to GCS. \n",
    "* https://github.com/cal-itp/data-analyses/blob/main/_shared_utils/shared_utils/utils.py#L29-L40"
   ]
  },
  {
   "cell_type": "code",
   "execution_count": 36,
   "id": "8564ae28-4206-483a-935e-8926507cd690",
   "metadata": {},
   "outputs": [],
   "source": [
    "geojson = gpd.read_file(\n",
    "    \"https://opendata.arcgis.com/datasets/e397d899e7be4ce28ad261867e61ac69_0.geojson\"\n",
    ").to_crs(epsg=4326)"
   ]
  },
  {
   "cell_type": "code",
   "execution_count": 37,
   "id": "0c8f7635-aa43-44d3-be21-d3a5e68ae0cf",
   "metadata": {},
   "outputs": [],
   "source": [
    "geojson = geojson[[\"DISTRICT\", \"Shape_Length\", \"Shape_Area\", \"geometry\"]]"
   ]
  },
  {
   "cell_type": "code",
   "execution_count": 38,
   "id": "c12a13b2-12d9-4f29-ab04-456ef88eb341",
   "metadata": {},
   "outputs": [],
   "source": [
    "summarized = data.groupby(\"district\").agg(\n",
    "    {\"project_upin\": \"count\", \"total_state_fed_only\": \"sum\"}\n",
    ").reset_index()"
   ]
  },
  {
   "cell_type": "code",
   "execution_count": 39,
   "id": "e64a537d-b691-44d4-ae50-d2b30ccb18d9",
   "metadata": {},
   "outputs": [],
   "source": [
    "summarized[\"funding_millions\"] = (\n",
    "    \"$\"\n",
    "    + (summarized[\"total_state_fed_only\"].astype(float) / 1000000)\n",
    "    .round()\n",
    "    .astype(str)\n",
    "    + \"M\"\n",
    ")"
   ]
  },
  {
   "cell_type": "code",
   "execution_count": 40,
   "id": "26e62616-79b2-4b6a-9965-4374ea29e74b",
   "metadata": {},
   "outputs": [],
   "source": [
    "p75 = summarized.total_state_fed_only.quantile(0.75).astype(float)\n",
    "p25 =summarized.total_state_fed_only.quantile(0.25).astype(float)\n",
    "p50 = summarized.total_state_fed_only.quantile(0.50).astype(float)"
   ]
  },
  {
   "cell_type": "code",
   "execution_count": 41,
   "id": "4f2de535-4330-4268-a5bc-961294e791e1",
   "metadata": {},
   "outputs": [],
   "source": [
    "def funding_range(row):\n",
    "        if ((row.total_state_fed_only > 0) and (row.total_state_fed_only < p25)):\n",
    "            return \"25\"\n",
    "        elif ((row.total_state_fed_only > p25) and (row.total_state_fed_only < p75)):\n",
    "            return \"50\"\n",
    "        elif ((row.total_state_fed_only > p50) and (row.total_state_fed_only > p75 )):\n",
    "               return \"75\"\n",
    "        else:\n",
    "            return \"No Info\""
   ]
  },
  {
   "cell_type": "code",
   "execution_count": 42,
   "id": "7d41324c-2421-4513-8e2b-a6e97c2c18f0",
   "metadata": {},
   "outputs": [],
   "source": [
    "summarized[\"funding_percentile\"] = summarized.apply(lambda x: funding_range(x), axis=1)"
   ]
  },
  {
   "cell_type": "code",
   "execution_count": 43,
   "id": "5742bdc3-efd0-44d4-bbb1-4a91b6a6d264",
   "metadata": {},
   "outputs": [
    {
     "data": {
      "text/html": [
       "<div>\n",
       "<style scoped>\n",
       "    .dataframe tbody tr th:only-of-type {\n",
       "        vertical-align: middle;\n",
       "    }\n",
       "\n",
       "    .dataframe tbody tr th {\n",
       "        vertical-align: top;\n",
       "    }\n",
       "\n",
       "    .dataframe thead th {\n",
       "        text-align: right;\n",
       "    }\n",
       "</style>\n",
       "<table border=\"1\" class=\"dataframe\">\n",
       "  <thead>\n",
       "    <tr style=\"text-align: right;\">\n",
       "      <th></th>\n",
       "      <th>district</th>\n",
       "      <th>project_upin</th>\n",
       "      <th>total_state_fed_only</th>\n",
       "      <th>funding_millions</th>\n",
       "      <th>funding_percentile</th>\n",
       "    </tr>\n",
       "  </thead>\n",
       "  <tbody>\n",
       "    <tr>\n",
       "      <th>0</th>\n",
       "      <td>1.00</td>\n",
       "      <td>30</td>\n",
       "      <td>10983899.00</td>\n",
       "      <td>$11.0M</td>\n",
       "      <td>50</td>\n",
       "    </tr>\n",
       "    <tr>\n",
       "      <th>1</th>\n",
       "      <td>2.00</td>\n",
       "      <td>37</td>\n",
       "      <td>9373942.00</td>\n",
       "      <td>$9.0M</td>\n",
       "      <td>25</td>\n",
       "    </tr>\n",
       "    <tr>\n",
       "      <th>2</th>\n",
       "      <td>3.00</td>\n",
       "      <td>42</td>\n",
       "      <td>29812565.00</td>\n",
       "      <td>$30.0M</td>\n",
       "      <td>50</td>\n",
       "    </tr>\n",
       "    <tr>\n",
       "      <th>3</th>\n",
       "      <td>4.00</td>\n",
       "      <td>47</td>\n",
       "      <td>277215227.08</td>\n",
       "      <td>$277.0M</td>\n",
       "      <td>75</td>\n",
       "    </tr>\n",
       "    <tr>\n",
       "      <th>4</th>\n",
       "      <td>5.00</td>\n",
       "      <td>32</td>\n",
       "      <td>21020813.00</td>\n",
       "      <td>$21.0M</td>\n",
       "      <td>50</td>\n",
       "    </tr>\n",
       "    <tr>\n",
       "      <th>5</th>\n",
       "      <td>6.00</td>\n",
       "      <td>53</td>\n",
       "      <td>76633070.96</td>\n",
       "      <td>$77.0M</td>\n",
       "      <td>75</td>\n",
       "    </tr>\n",
       "    <tr>\n",
       "      <th>6</th>\n",
       "      <td>7.00</td>\n",
       "      <td>15</td>\n",
       "      <td>114012442.00</td>\n",
       "      <td>$114.0M</td>\n",
       "      <td>75</td>\n",
       "    </tr>\n",
       "    <tr>\n",
       "      <th>7</th>\n",
       "      <td>8.00</td>\n",
       "      <td>33</td>\n",
       "      <td>21805615.00</td>\n",
       "      <td>$22.0M</td>\n",
       "      <td>50</td>\n",
       "    </tr>\n",
       "    <tr>\n",
       "      <th>8</th>\n",
       "      <td>9.00</td>\n",
       "      <td>19</td>\n",
       "      <td>4821987.00</td>\n",
       "      <td>$5.0M</td>\n",
       "      <td>25</td>\n",
       "    </tr>\n",
       "    <tr>\n",
       "      <th>9</th>\n",
       "      <td>10.00</td>\n",
       "      <td>28</td>\n",
       "      <td>18923483.75</td>\n",
       "      <td>$19.0M</td>\n",
       "      <td>50</td>\n",
       "    </tr>\n",
       "    <tr>\n",
       "      <th>10</th>\n",
       "      <td>11.00</td>\n",
       "      <td>8</td>\n",
       "      <td>29822547.00</td>\n",
       "      <td>$30.0M</td>\n",
       "      <td>50</td>\n",
       "    </tr>\n",
       "    <tr>\n",
       "      <th>11</th>\n",
       "      <td>12.00</td>\n",
       "      <td>2</td>\n",
       "      <td>9581755.00</td>\n",
       "      <td>$10.0M</td>\n",
       "      <td>25</td>\n",
       "    </tr>\n",
       "  </tbody>\n",
       "</table>\n",
       "</div>"
      ],
      "text/plain": [
       "    district  project_upin  total_state_fed_only funding_millions  \\\n",
       "0       1.00            30           10983899.00           $11.0M   \n",
       "1       2.00            37            9373942.00            $9.0M   \n",
       "2       3.00            42           29812565.00           $30.0M   \n",
       "3       4.00            47          277215227.08          $277.0M   \n",
       "4       5.00            32           21020813.00           $21.0M   \n",
       "5       6.00            53           76633070.96           $77.0M   \n",
       "6       7.00            15          114012442.00          $114.0M   \n",
       "7       8.00            33           21805615.00           $22.0M   \n",
       "8       9.00            19            4821987.00            $5.0M   \n",
       "9      10.00            28           18923483.75           $19.0M   \n",
       "10     11.00             8           29822547.00           $30.0M   \n",
       "11     12.00             2            9581755.00           $10.0M   \n",
       "\n",
       "   funding_percentile  \n",
       "0                  50  \n",
       "1                  25  \n",
       "2                  50  \n",
       "3                  75  \n",
       "4                  50  \n",
       "5                  75  \n",
       "6                  75  \n",
       "7                  50  \n",
       "8                  25  \n",
       "9                  50  \n",
       "10                 50  \n",
       "11                 25  "
      ]
     },
     "execution_count": 43,
     "metadata": {},
     "output_type": "execute_result"
    }
   ],
   "source": [
    "summarized"
   ]
  },
  {
   "cell_type": "code",
   "execution_count": 44,
   "id": "17728dd4-b19f-4f77-bb1d-37aec96cee7e",
   "metadata": {},
   "outputs": [],
   "source": [
    "gdf = geojson.merge(\n",
    "    summarized, how=\"inner\", left_on=\"DISTRICT\", right_on=\"district\"\n",
    ")"
   ]
  },
  {
   "cell_type": "code",
   "execution_count": 45,
   "id": "65434662-379f-4f77-8f9f-257facce9d05",
   "metadata": {},
   "outputs": [
    {
     "data": {
      "text/plain": [
       "geopandas.geodataframe.GeoDataFrame"
      ]
     },
     "execution_count": 45,
     "metadata": {},
     "output_type": "execute_result"
    }
   ],
   "source": [
    "type(gdf)"
   ]
  },
  {
   "cell_type": "code",
   "execution_count": 46,
   "id": "6a6ec228-46e0-4cd8-9a0d-17e066b7998f",
   "metadata": {},
   "outputs": [
    {
     "data": {
      "text/plain": [
       "Index(['DISTRICT', 'Shape_Length', 'Shape_Area', 'geometry', 'district',\n",
       "       'project_upin', 'total_state_fed_only', 'funding_millions',\n",
       "       'funding_percentile'],\n",
       "      dtype='object')"
      ]
     },
     "execution_count": 46,
     "metadata": {},
     "output_type": "execute_result"
    }
   ],
   "source": [
    "gdf.columns"
   ]
  },
  {
   "cell_type": "code",
   "execution_count": 47,
   "id": "3d779b98-bc4c-41c5-885c-12af7c348e01",
   "metadata": {},
   "outputs": [
    {
     "name": "stderr",
     "output_type": "stream",
     "text": [
      "/home/jovyan/data-analyses/_shared_utils/shared_utils/utils.py:38: UserWarning: this is an initial implementation of Parquet/Feather file support and associated metadata.  This is tracking version 0.1.0 of the metadata specification at https://github.com/geopandas/geo-arrow-spec\n",
      "\n",
      "This metadata specification does not yet make stability promises.  We do not yet recommend using this in a production setting unless you are able to rewrite your Parquet/Feather files.\n",
      "\n",
      "To further ignore this warning, you can do: \n",
      "import warnings; warnings.filterwarnings('ignore', message='.*initial implementation of Parquet.*')\n"
     ]
    }
   ],
   "source": [
    "shared_utils.utils.geoparquet_gcs_export(gdf,  \"gs://calitp-analytics-data/data-analyses/consolidated_applications/\",\n",
    "    \"con_app_gdf\")"
   ]
  },
  {
   "cell_type": "markdown",
   "id": "1f2e44df-9d74-4028-9c18-8fa1661fe448",
   "metadata": {
    "tags": []
   },
   "source": [
    "## Melt dataframe\n",
    "* Every project has a unique upin number, use that as the merge column."
   ]
  },
  {
   "cell_type": "code",
   "execution_count": 48,
   "id": "19081d83-008c-444e-8fa5-8970f4ef0b9d",
   "metadata": {},
   "outputs": [
    {
     "data": {
      "text/plain": [
       "346"
      ]
     },
     "execution_count": 48,
     "metadata": {},
     "output_type": "execute_result"
    }
   ],
   "source": [
    "len(data)"
   ]
  },
  {
   "cell_type": "code",
   "execution_count": 49,
   "id": "601d0cfc-d19b-485b-b593-168f03df2ea1",
   "metadata": {},
   "outputs": [
    {
     "data": {
      "text/plain": [
       "346"
      ]
     },
     "execution_count": 49,
     "metadata": {},
     "output_type": "execute_result"
    }
   ],
   "source": [
    "data.project_upin.nunique()"
   ]
  },
  {
   "cell_type": "code",
   "execution_count": 50,
   "id": "5e3fec7f-a6d6-417d-b849-2eac09068de7",
   "metadata": {},
   "outputs": [
    {
     "data": {
      "text/plain": [
       "Index(['organization_name', 'district', 'application_name', 'year',\n",
       "       'application_status', 'project_upin', 'project_category',\n",
       "       'project_line_item__ali_', 'project_description', 'is_stimulus',\n",
       "       'consolidated_application', 'total_expenses', '_5311_funds',\n",
       "       '_5311_f__funds', '_5311_cmaq_funds', '_5339_funds', 'federal_total',\n",
       "       'other_fed_funds_total', 'lctop__state__funds',\n",
       "       'sb1__state_of_good_repair__state__funds',\n",
       "       'transit_development_act__state__funds', 'other_state_funds',\n",
       "       'state_total', 'local_total', 'short_description',\n",
       "       'total_state_federal_local_funding', 'total_state_fed_only',\n",
       "       'fully_funded', 'full_district_name'],\n",
       "      dtype='object')"
      ]
     },
     "execution_count": 50,
     "metadata": {},
     "output_type": "execute_result"
    }
   ],
   "source": [
    "data.columns"
   ]
  },
  {
   "cell_type": "code",
   "execution_count": 51,
   "id": "4087d393-e1fd-4839-b573-d962822a81ec",
   "metadata": {},
   "outputs": [],
   "source": [
    "# Keeping only monetary columns I want to melt\n",
    "monetary_subset = data[\n",
    "    [\n",
    "        \"project_upin\",\n",
    "        \"_5311_funds\",\n",
    "        \"_5311_f__funds\",\n",
    "        \"_5311_cmaq_funds\",\n",
    "        \"_5339_funds\",\n",
    "        \"lctop__state__funds\",\n",
    "        \"sb1__state_of_good_repair__state__funds\",\n",
    "        \"transit_development_act__state__funds\",\n",
    "        \"other_state_funds\",\n",
    "        \"other_fed_funds_total\",\n",
    "        \"local_total\",\n",
    "        \"federal_total\",\n",
    "        \"state_total\",\n",
    "    ]\n",
    "]"
   ]
  },
  {
   "cell_type": "code",
   "execution_count": 52,
   "id": "ef0835fa-88cc-45cd-9840-227b9923c18e",
   "metadata": {},
   "outputs": [],
   "source": [
    "monetary_subset = pd.melt(\n",
    "    monetary_subset,\n",
    "    id_vars=[\"project_upin\"],\n",
    "    value_vars=[\n",
    "        \"_5311_funds\",\n",
    "        \"_5311_f__funds\",\n",
    "        \"_5311_cmaq_funds\",\n",
    "        \"_5339_funds\",\n",
    "        \"lctop__state__funds\",\n",
    "        \"sb1__state_of_good_repair__state__funds\",\n",
    "        \"transit_development_act__state__funds\",\n",
    "        \"other_state_funds\",\n",
    "        \"other_fed_funds_total\",\n",
    "        \"local_total\",\n",
    "        \"federal_total\",\n",
    "        \"state_total\",\n",
    "    ],\n",
    "    var_name=\"program_name\",\n",
    "    value_name=\"funding_received\",\n",
    ")"
   ]
  },
  {
   "cell_type": "code",
   "execution_count": 53,
   "id": "0f5773ae-0324-493f-b9ad-2f38e60cf1a1",
   "metadata": {},
   "outputs": [],
   "source": [
    "# Delete some irrelevant cols from original data set\n",
    "data2 = data[\n",
    "    [\n",
    "        \"total_expenses\",\n",
    "        \"organization_name\",\n",
    "        \"district\",\n",
    "        \"full_district_name\",\n",
    "        \"year\",\n",
    "        \"application_status\",\n",
    "        \"project_upin\",\n",
    "        \"project_category\",\n",
    "        \"project_line_item__ali_\",\n",
    "        \"project_description\",\n",
    "        \"is_stimulus\",\n",
    "        \"total_state_federal_local_funding\",\n",
    "        \"fully_funded\",\n",
    "        \"short_description\",\n",
    "    ]\n",
    "]"
   ]
  },
  {
   "cell_type": "code",
   "execution_count": 54,
   "id": "2d38ae4f-9386-4495-a02e-561b181030fb",
   "metadata": {},
   "outputs": [],
   "source": [
    "# merge original dataframe with melted dataframe to get full information.\n",
    "merge1 = pd.merge(monetary_subset, data2, on=\"project_upin\", how=\"left\")"
   ]
  },
  {
   "cell_type": "code",
   "execution_count": 55,
   "id": "b526f5f7-1de3-4028-94b4-8b6db18f2972",
   "metadata": {},
   "outputs": [
    {
     "data": {
      "text/plain": [
       "array(['_5311_funds', '_5311_f__funds', '_5311_cmaq_funds', '_5339_funds',\n",
       "       'lctop__state__funds', 'sb1__state_of_good_repair__state__funds',\n",
       "       'transit_development_act__state__funds', 'other_state_funds',\n",
       "       'other_fed_funds_total', 'local_total', 'federal_total',\n",
       "       'state_total'], dtype=object)"
      ]
     },
     "execution_count": 55,
     "metadata": {},
     "output_type": "execute_result"
    }
   ],
   "source": [
    "merge1.program_name.unique()"
   ]
  },
  {
   "cell_type": "code",
   "execution_count": 56,
   "id": "d6e3b630-c94f-49e8-b807-e4cff40ee382",
   "metadata": {},
   "outputs": [],
   "source": [
    "merge1[\"program_name\"] = merge1[\"program_name\"].replace(\n",
    "    {\n",
    "        \"_5311_funds\": \"5311 (Fed)\",\n",
    "        \"lctop__state__funds\": \"LCTOP (State)\",\n",
    "        \"transit_development_act__state__funds\": \"Transit Development Act (State)\",\n",
    "        \"other_state_funds\": \"Other State Funds\",\n",
    "        \"_5339_funds\": \"5339 (Fed)\",\n",
    "        \"_5311_f__funds\": \"5311(f) (Fed)\",\n",
    "        \"sb1__state_of_good_repair__state__funds\": \"SB1. State of Good Repair (State)\",\n",
    "        \"other_fed_funds_total\": \"Other Federal Funds\",\n",
    "        \"_5311_cmaq_funds\": \"5311 CMAQ (Fed)\",\n",
    "        \"local_total\": \"Local Funds\",\n",
    "        \"federal_total\": \"Federal Total\",\n",
    "        \"state_total\": \"State Total\",\n",
    "    }\n",
    ")"
   ]
  },
  {
   "cell_type": "code",
   "execution_count": 57,
   "id": "c476a4c7-fc38-4263-8a73-531556d6ea1d",
   "metadata": {},
   "outputs": [
    {
     "data": {
      "text/plain": [
       "4152"
      ]
     },
     "execution_count": 57,
     "metadata": {},
     "output_type": "execute_result"
    }
   ],
   "source": [
    "# looking at new length of merge...\n",
    "len(merge1)"
   ]
  },
  {
   "cell_type": "code",
   "execution_count": 58,
   "id": "66269501-4e4b-495f-8bb1-18f9a4330a68",
   "metadata": {},
   "outputs": [
    {
     "data": {
      "text/plain": [
       "346"
      ]
     },
     "execution_count": 58,
     "metadata": {},
     "output_type": "execute_result"
    }
   ],
   "source": [
    "# double checking that project upin count is still the same\n",
    "merge1.project_upin.nunique()"
   ]
  },
  {
   "cell_type": "code",
   "execution_count": 59,
   "id": "c278b631-1efe-454e-a09f-b2bc1ee3016d",
   "metadata": {},
   "outputs": [
    {
     "data": {
      "text/plain": [
       "array(['5311 (Fed)', '5311(f) (Fed)', '5311 CMAQ (Fed)', '5339 (Fed)',\n",
       "       'LCTOP (State)', 'SB1. State of Good Repair (State)',\n",
       "       'Transit Development Act (State)', 'Other State Funds',\n",
       "       'Other Federal Funds', 'Local Funds', 'Federal Total',\n",
       "       'State Total'], dtype=object)"
      ]
     },
     "execution_count": 59,
     "metadata": {},
     "output_type": "execute_result"
    }
   ],
   "source": [
    "merge1.program_name.unique()"
   ]
  },
  {
   "cell_type": "code",
   "execution_count": 60,
   "id": "181f7a16-c158-4b9b-bcdc-d89c27432009",
   "metadata": {
    "scrolled": true,
    "tags": []
   },
   "outputs": [],
   "source": [
    "# filter any zeroes in the funding received column, to make dataframe smaller\n",
    "melt_df = merge1[merge1[\"funding_received\"] > 0]"
   ]
  },
  {
   "cell_type": "code",
   "execution_count": 61,
   "id": "fdeaae92-d18b-45e9-817e-38e794f26db8",
   "metadata": {},
   "outputs": [
    {
     "data": {
      "text/plain": [
       "(1081, 16)"
      ]
     },
     "execution_count": 61,
     "metadata": {},
     "output_type": "execute_result"
    }
   ],
   "source": [
    "melt_df.shape"
   ]
  },
  {
   "cell_type": "code",
   "execution_count": 62,
   "id": "d5aa0fb6-8b9a-49c0-abdb-b45d99d0f4b2",
   "metadata": {},
   "outputs": [
    {
     "data": {
      "text/html": [
       "<div>\n",
       "<style scoped>\n",
       "    .dataframe tbody tr th:only-of-type {\n",
       "        vertical-align: middle;\n",
       "    }\n",
       "\n",
       "    .dataframe tbody tr th {\n",
       "        vertical-align: top;\n",
       "    }\n",
       "\n",
       "    .dataframe thead th {\n",
       "        text-align: right;\n",
       "    }\n",
       "</style>\n",
       "<table border=\"1\" class=\"dataframe\">\n",
       "  <thead>\n",
       "    <tr style=\"text-align: right;\">\n",
       "      <th></th>\n",
       "      <th>project_upin</th>\n",
       "      <th>program_name</th>\n",
       "      <th>funding_received</th>\n",
       "      <th>total_expenses</th>\n",
       "      <th>organization_name</th>\n",
       "      <th>district</th>\n",
       "      <th>full_district_name</th>\n",
       "      <th>year</th>\n",
       "      <th>application_status</th>\n",
       "      <th>project_category</th>\n",
       "      <th>project_line_item__ali_</th>\n",
       "      <th>project_description</th>\n",
       "      <th>is_stimulus</th>\n",
       "      <th>total_state_federal_local_funding</th>\n",
       "      <th>fully_funded</th>\n",
       "      <th>short_description</th>\n",
       "    </tr>\n",
       "  </thead>\n",
       "  <tbody>\n",
       "    <tr>\n",
       "      <th>53</th>\n",
       "      <td>BCG0003960</td>\n",
       "      <td>5311 (Fed)</td>\n",
       "      <td>96956.00</td>\n",
       "      <td>298164.00</td>\n",
       "      <td>City of McFarland</td>\n",
       "      <td>6.00</td>\n",
       "      <td>District 6: Fresno / Bakersfield</td>\n",
       "      <td>2022</td>\n",
       "      <td>Submitted</td>\n",
       "      <td>Operating</td>\n",
       "      <td>300902</td>\n",
       "      <td>operating assistance sliding scale - fy2022</td>\n",
       "      <td>No</td>\n",
       "      <td>315164.00</td>\n",
       "      <td>Funding exceeds total expenses</td>\n",
       "      <td>Operating Assistance</td>\n",
       "    </tr>\n",
       "    <tr>\n",
       "      <th>2475</th>\n",
       "      <td>BCG0003960</td>\n",
       "      <td>Other State Funds</td>\n",
       "      <td>218208.00</td>\n",
       "      <td>298164.00</td>\n",
       "      <td>City of McFarland</td>\n",
       "      <td>6.00</td>\n",
       "      <td>District 6: Fresno / Bakersfield</td>\n",
       "      <td>2022</td>\n",
       "      <td>Submitted</td>\n",
       "      <td>Operating</td>\n",
       "      <td>300902</td>\n",
       "      <td>operating assistance sliding scale - fy2022</td>\n",
       "      <td>No</td>\n",
       "      <td>315164.00</td>\n",
       "      <td>Funding exceeds total expenses</td>\n",
       "      <td>Operating Assistance</td>\n",
       "    </tr>\n",
       "    <tr>\n",
       "      <th>3513</th>\n",
       "      <td>BCG0003960</td>\n",
       "      <td>Federal Total</td>\n",
       "      <td>96956.00</td>\n",
       "      <td>298164.00</td>\n",
       "      <td>City of McFarland</td>\n",
       "      <td>6.00</td>\n",
       "      <td>District 6: Fresno / Bakersfield</td>\n",
       "      <td>2022</td>\n",
       "      <td>Submitted</td>\n",
       "      <td>Operating</td>\n",
       "      <td>300902</td>\n",
       "      <td>operating assistance sliding scale - fy2022</td>\n",
       "      <td>No</td>\n",
       "      <td>315164.00</td>\n",
       "      <td>Funding exceeds total expenses</td>\n",
       "      <td>Operating Assistance</td>\n",
       "    </tr>\n",
       "    <tr>\n",
       "      <th>3859</th>\n",
       "      <td>BCG0003960</td>\n",
       "      <td>State Total</td>\n",
       "      <td>218208.00</td>\n",
       "      <td>298164.00</td>\n",
       "      <td>City of McFarland</td>\n",
       "      <td>6.00</td>\n",
       "      <td>District 6: Fresno / Bakersfield</td>\n",
       "      <td>2022</td>\n",
       "      <td>Submitted</td>\n",
       "      <td>Operating</td>\n",
       "      <td>300902</td>\n",
       "      <td>operating assistance sliding scale - fy2022</td>\n",
       "      <td>No</td>\n",
       "      <td>315164.00</td>\n",
       "      <td>Funding exceeds total expenses</td>\n",
       "      <td>Operating Assistance</td>\n",
       "    </tr>\n",
       "  </tbody>\n",
       "</table>\n",
       "</div>"
      ],
      "text/plain": [
       "     project_upin       program_name  funding_received  total_expenses  \\\n",
       "53     BCG0003960         5311 (Fed)          96956.00       298164.00   \n",
       "2475   BCG0003960  Other State Funds         218208.00       298164.00   \n",
       "3513   BCG0003960      Federal Total          96956.00       298164.00   \n",
       "3859   BCG0003960        State Total         218208.00       298164.00   \n",
       "\n",
       "      organization_name  district                full_district_name  year  \\\n",
       "53    City of McFarland      6.00  District 6: Fresno / Bakersfield  2022   \n",
       "2475  City of McFarland      6.00  District 6: Fresno / Bakersfield  2022   \n",
       "3513  City of McFarland      6.00  District 6: Fresno / Bakersfield  2022   \n",
       "3859  City of McFarland      6.00  District 6: Fresno / Bakersfield  2022   \n",
       "\n",
       "     application_status project_category project_line_item__ali_  \\\n",
       "53            Submitted        Operating                  300902   \n",
       "2475          Submitted        Operating                  300902   \n",
       "3513          Submitted        Operating                  300902   \n",
       "3859          Submitted        Operating                  300902   \n",
       "\n",
       "                              project_description is_stimulus  \\\n",
       "53    operating assistance sliding scale - fy2022          No   \n",
       "2475  operating assistance sliding scale - fy2022          No   \n",
       "3513  operating assistance sliding scale - fy2022          No   \n",
       "3859  operating assistance sliding scale - fy2022          No   \n",
       "\n",
       "      total_state_federal_local_funding                    fully_funded  \\\n",
       "53                            315164.00  Funding exceeds total expenses   \n",
       "2475                          315164.00  Funding exceeds total expenses   \n",
       "3513                          315164.00  Funding exceeds total expenses   \n",
       "3859                          315164.00  Funding exceeds total expenses   \n",
       "\n",
       "         short_description  \n",
       "53    Operating Assistance  \n",
       "2475  Operating Assistance  \n",
       "3513  Operating Assistance  \n",
       "3859  Operating Assistance  "
      ]
     },
     "execution_count": 62,
     "metadata": {},
     "output_type": "execute_result"
    }
   ],
   "source": [
    "melt_df.loc[melt_df[\"project_upin\"] == \"BCG0003960\"]"
   ]
  },
  {
   "cell_type": "markdown",
   "id": "ad39a581-09ce-4637-b422-25f4f6121168",
   "metadata": {},
   "source": [
    "### Why do some upins disappear??? \n",
    "* Investigation: look at  project upin #s in original dataframe versus pivoted.\n",
    "* When I pivotted the data, I only included the granular categories (5311/sb1/etc), not the totals. I also filtered out for any $0.\n",
    "* Found: Projects in \"main_list\" either\n",
    "    * Has 0.00 in federal_total, local_total, and state_total\n",
    "    * Somehow has 0.00 in 5311/5311f/5311cmaq/5339 funds but has the federal_total populated.\n",
    "    "
   ]
  },
  {
   "cell_type": "code",
   "execution_count": 63,
   "id": "a6280eed-2176-4528-9bd5-e5286cb43e4b",
   "metadata": {},
   "outputs": [
    {
     "data": {
      "text/plain": [
       "343"
      ]
     },
     "execution_count": 63,
     "metadata": {},
     "output_type": "execute_result"
    }
   ],
   "source": [
    "melt_df.project_upin.nunique()"
   ]
  },
  {
   "cell_type": "code",
   "execution_count": 64,
   "id": "175a053e-eb8c-4fcf-a23d-d9de02e8e71c",
   "metadata": {},
   "outputs": [],
   "source": [
    "# Investigate\n",
    "melted_upin = melt_df.project_upin.unique().tolist()"
   ]
  },
  {
   "cell_type": "code",
   "execution_count": 65,
   "id": "1672cfa6-2afc-49d7-8afe-c5674cc5dadb",
   "metadata": {},
   "outputs": [
    {
     "data": {
      "text/plain": [
       "343"
      ]
     },
     "execution_count": 65,
     "metadata": {},
     "output_type": "execute_result"
    }
   ],
   "source": [
    "len(melted_upin)"
   ]
  },
  {
   "cell_type": "code",
   "execution_count": 66,
   "id": "e2b05b1a-76f0-4696-ad41-266ac52b19f9",
   "metadata": {},
   "outputs": [],
   "source": [
    "data_upin = data.project_upin.unique().tolist()"
   ]
  },
  {
   "cell_type": "code",
   "execution_count": 67,
   "id": "aa2113e5-a946-46c3-8671-83f3f6845a03",
   "metadata": {},
   "outputs": [
    {
     "data": {
      "text/plain": [
       "346"
      ]
     },
     "execution_count": 67,
     "metadata": {},
     "output_type": "execute_result"
    }
   ],
   "source": [
    "len(data_upin)"
   ]
  },
  {
   "cell_type": "code",
   "execution_count": 68,
   "id": "6df60c5c-2e97-47f6-8fe6-732f69c94ffd",
   "metadata": {},
   "outputs": [
    {
     "data": {
      "text/plain": [
       "array(['BCG0003702', 'BCG0003954', 'BCG0003959'], dtype='<U10')"
      ]
     },
     "execution_count": 68,
     "metadata": {},
     "output_type": "execute_result"
    }
   ],
   "source": [
    "main_list = np.setdiff1d(data_upin, melted_upin)\n",
    "main_list"
   ]
  },
  {
   "cell_type": "code",
   "execution_count": 69,
   "id": "af3ab4ba-0a56-40bf-a334-1a4429f60a48",
   "metadata": {},
   "outputs": [],
   "source": [
    "missing_upin = data[\n",
    "    data[\"project_upin\"].isin([\"BCG0003702\", \"BCG0003954\", \"BCG0003959\"])\n",
    "]"
   ]
  },
  {
   "cell_type": "code",
   "execution_count": 70,
   "id": "3f53032e-5d32-49ff-94c2-feb422a412d0",
   "metadata": {},
   "outputs": [
    {
     "data": {
      "text/html": [
       "<div>\n",
       "<style scoped>\n",
       "    .dataframe tbody tr th:only-of-type {\n",
       "        vertical-align: middle;\n",
       "    }\n",
       "\n",
       "    .dataframe tbody tr th {\n",
       "        vertical-align: top;\n",
       "    }\n",
       "\n",
       "    .dataframe thead th {\n",
       "        text-align: right;\n",
       "    }\n",
       "</style>\n",
       "<table border=\"1\" class=\"dataframe\">\n",
       "  <thead>\n",
       "    <tr style=\"text-align: right;\">\n",
       "      <th></th>\n",
       "      <th>organization_name</th>\n",
       "      <th>district</th>\n",
       "      <th>application_name</th>\n",
       "      <th>year</th>\n",
       "      <th>application_status</th>\n",
       "      <th>project_upin</th>\n",
       "      <th>project_category</th>\n",
       "      <th>project_line_item__ali_</th>\n",
       "      <th>project_description</th>\n",
       "      <th>is_stimulus</th>\n",
       "      <th>consolidated_application</th>\n",
       "      <th>total_expenses</th>\n",
       "      <th>_5311_funds</th>\n",
       "      <th>_5311_f__funds</th>\n",
       "      <th>_5311_cmaq_funds</th>\n",
       "      <th>_5339_funds</th>\n",
       "      <th>federal_total</th>\n",
       "      <th>other_fed_funds_total</th>\n",
       "      <th>lctop__state__funds</th>\n",
       "      <th>sb1__state_of_good_repair__state__funds</th>\n",
       "      <th>transit_development_act__state__funds</th>\n",
       "      <th>other_state_funds</th>\n",
       "      <th>state_total</th>\n",
       "      <th>local_total</th>\n",
       "      <th>short_description</th>\n",
       "      <th>total_state_federal_local_funding</th>\n",
       "      <th>total_state_fed_only</th>\n",
       "      <th>fully_funded</th>\n",
       "      <th>full_district_name</th>\n",
       "    </tr>\n",
       "  </thead>\n",
       "  <tbody>\n",
       "    <tr>\n",
       "      <th>226</th>\n",
       "      <td>Placer County Public Works</td>\n",
       "      <td>3.00</td>\n",
       "      <td>Consolidated Application (Consolidated Application)</td>\n",
       "      <td>2022</td>\n",
       "      <td>Submitted</td>\n",
       "      <td>BCG0003954</td>\n",
       "      <td>Operating</td>\n",
       "      <td>300902</td>\n",
       "      <td>operating assistance sliding scale</td>\n",
       "      <td>No</td>\n",
       "      <td>Yes</td>\n",
       "      <td>2184841.00</td>\n",
       "      <td>0.00</td>\n",
       "      <td>0.00</td>\n",
       "      <td>0.00</td>\n",
       "      <td>0.00</td>\n",
       "      <td>0.00</td>\n",
       "      <td>0.00</td>\n",
       "      <td>0.00</td>\n",
       "      <td>0.00</td>\n",
       "      <td>0.00</td>\n",
       "      <td>0.00</td>\n",
       "      <td>0.00</td>\n",
       "      <td>0.00</td>\n",
       "      <td>Operating Assistance</td>\n",
       "      <td>0.00</td>\n",
       "      <td>0.00</td>\n",
       "      <td>Not fully funded</td>\n",
       "      <td>District 3: Marysville / Sacramento</td>\n",
       "    </tr>\n",
       "    <tr>\n",
       "      <th>227</th>\n",
       "      <td>Placer County Public Works</td>\n",
       "      <td>3.00</td>\n",
       "      <td>Consolidated Application (Consolidated Application)</td>\n",
       "      <td>2022</td>\n",
       "      <td>Submitted</td>\n",
       "      <td>BCG0003959</td>\n",
       "      <td>Operating</td>\n",
       "      <td>300902</td>\n",
       "      <td>operating assistance sliding scale</td>\n",
       "      <td>No</td>\n",
       "      <td>Yes</td>\n",
       "      <td>2184841.00</td>\n",
       "      <td>0.00</td>\n",
       "      <td>0.00</td>\n",
       "      <td>0.00</td>\n",
       "      <td>0.00</td>\n",
       "      <td>0.00</td>\n",
       "      <td>0.00</td>\n",
       "      <td>0.00</td>\n",
       "      <td>0.00</td>\n",
       "      <td>0.00</td>\n",
       "      <td>0.00</td>\n",
       "      <td>0.00</td>\n",
       "      <td>0.00</td>\n",
       "      <td>Operating Assistance</td>\n",
       "      <td>0.00</td>\n",
       "      <td>0.00</td>\n",
       "      <td>Not fully funded</td>\n",
       "      <td>District 3: Marysville / Sacramento</td>\n",
       "    </tr>\n",
       "    <tr>\n",
       "      <th>231</th>\n",
       "      <td>Plumas County Transportation Commission</td>\n",
       "      <td>2.00</td>\n",
       "      <td>Consolidated Application (Consolidated Application)</td>\n",
       "      <td>2022</td>\n",
       "      <td>Submitted</td>\n",
       "      <td>BCG0003702</td>\n",
       "      <td>Operating</td>\n",
       "      <td>300901</td>\n",
       "      <td>lctop #2 - free fare days</td>\n",
       "      <td>No</td>\n",
       "      <td>Yes</td>\n",
       "      <td>22825.00</td>\n",
       "      <td>0.00</td>\n",
       "      <td>0.00</td>\n",
       "      <td>0.00</td>\n",
       "      <td>0.00</td>\n",
       "      <td>0.00</td>\n",
       "      <td>0.00</td>\n",
       "      <td>0.00</td>\n",
       "      <td>0.00</td>\n",
       "      <td>0.00</td>\n",
       "      <td>0.00</td>\n",
       "      <td>0.00</td>\n",
       "      <td>0.00</td>\n",
       "      <td>Free Fare Program</td>\n",
       "      <td>0.00</td>\n",
       "      <td>0.00</td>\n",
       "      <td>Not fully funded</td>\n",
       "      <td>District 2: Redding</td>\n",
       "    </tr>\n",
       "  </tbody>\n",
       "</table>\n",
       "</div>"
      ],
      "text/plain": [
       "                           organization_name  district  \\\n",
       "226               Placer County Public Works      3.00   \n",
       "227               Placer County Public Works      3.00   \n",
       "231  Plumas County Transportation Commission      2.00   \n",
       "\n",
       "                                        application_name  year  \\\n",
       "226  Consolidated Application (Consolidated Application)  2022   \n",
       "227  Consolidated Application (Consolidated Application)  2022   \n",
       "231  Consolidated Application (Consolidated Application)  2022   \n",
       "\n",
       "    application_status project_upin project_category project_line_item__ali_  \\\n",
       "226          Submitted   BCG0003954        Operating                  300902   \n",
       "227          Submitted   BCG0003959        Operating                  300902   \n",
       "231          Submitted   BCG0003702        Operating                  300901   \n",
       "\n",
       "                    project_description is_stimulus consolidated_application  \\\n",
       "226  operating assistance sliding scale          No                      Yes   \n",
       "227  operating assistance sliding scale          No                      Yes   \n",
       "231           lctop #2 - free fare days          No                      Yes   \n",
       "\n",
       "     total_expenses  _5311_funds  _5311_f__funds  _5311_cmaq_funds  \\\n",
       "226      2184841.00         0.00            0.00              0.00   \n",
       "227      2184841.00         0.00            0.00              0.00   \n",
       "231        22825.00         0.00            0.00              0.00   \n",
       "\n",
       "     _5339_funds  federal_total  other_fed_funds_total  lctop__state__funds  \\\n",
       "226         0.00           0.00                   0.00                 0.00   \n",
       "227         0.00           0.00                   0.00                 0.00   \n",
       "231         0.00           0.00                   0.00                 0.00   \n",
       "\n",
       "     sb1__state_of_good_repair__state__funds  \\\n",
       "226                                     0.00   \n",
       "227                                     0.00   \n",
       "231                                     0.00   \n",
       "\n",
       "     transit_development_act__state__funds  other_state_funds  state_total  \\\n",
       "226                                   0.00               0.00         0.00   \n",
       "227                                   0.00               0.00         0.00   \n",
       "231                                   0.00               0.00         0.00   \n",
       "\n",
       "     local_total     short_description  total_state_federal_local_funding  \\\n",
       "226         0.00  Operating Assistance                               0.00   \n",
       "227         0.00  Operating Assistance                               0.00   \n",
       "231         0.00     Free Fare Program                               0.00   \n",
       "\n",
       "     total_state_fed_only      fully_funded  \\\n",
       "226                  0.00  Not fully funded   \n",
       "227                  0.00  Not fully funded   \n",
       "231                  0.00  Not fully funded   \n",
       "\n",
       "                      full_district_name  \n",
       "226  District 3: Marysville / Sacramento  \n",
       "227  District 3: Marysville / Sacramento  \n",
       "231                  District 2: Redding  "
      ]
     },
     "execution_count": 70,
     "metadata": {},
     "output_type": "execute_result"
    }
   ],
   "source": [
    "missing_upin"
   ]
  },
  {
   "cell_type": "markdown",
   "id": "17e1c4e1-2975-4b8d-868e-cf8df2f33d63",
   "metadata": {},
   "source": [
    "## Program Groups"
   ]
  },
  {
   "cell_type": "code",
   "execution_count": 71,
   "id": "169c0f2a-cc31-48e1-a0cc-404b8cb77faa",
   "metadata": {},
   "outputs": [],
   "source": [
    "# filter out for other stuff.\n",
    "group = melt_df.loc[\n",
    "    ~melt_df[\"program_name\"].isin(\n",
    "        [\n",
    "            \"Local Funds\",\n",
    "            \"Federal Total\",\n",
    "            \"State Total\",\n",
    "        ]\n",
    "    )\n",
    "]"
   ]
  },
  {
   "cell_type": "code",
   "execution_count": 72,
   "id": "69edc302-356e-4f06-bc95-dfbe98dbe382",
   "metadata": {},
   "outputs": [
    {
     "data": {
      "text/plain": [
       "481"
      ]
     },
     "execution_count": 72,
     "metadata": {},
     "output_type": "execute_result"
    }
   ],
   "source": [
    "len(group)"
   ]
  },
  {
   "cell_type": "code",
   "execution_count": 73,
   "id": "d0a7d0e9-1958-4fc5-b2ef-d8ee6bb582e7",
   "metadata": {},
   "outputs": [
    {
     "data": {
      "text/plain": [
       "array(['5311 (Fed)', '5311(f) (Fed)', '5311 CMAQ (Fed)', '5339 (Fed)',\n",
       "       'LCTOP (State)', 'SB1. State of Good Repair (State)',\n",
       "       'Transit Development Act (State)', 'Other State Funds',\n",
       "       'Other Federal Funds'], dtype=object)"
      ]
     },
     "execution_count": 73,
     "metadata": {},
     "output_type": "execute_result"
    }
   ],
   "source": [
    "group.program_name.unique()"
   ]
  },
  {
   "cell_type": "code",
   "execution_count": 74,
   "id": "395e7ecc-fa38-465e-8b60-4ae76af7cbc9",
   "metadata": {},
   "outputs": [
    {
     "name": "stderr",
     "output_type": "stream",
     "text": [
      "/tmp/ipykernel_11089/3943235845.py:2: SettingWithCopyWarning: \n",
      "A value is trying to be set on a copy of a slice from a DataFrame.\n",
      "Try using .loc[row_indexer,col_indexer] = value instead\n",
      "\n",
      "See the caveats in the documentation: https://pandas.pydata.org/pandas-docs/stable/user_guide/indexing.html#returning-a-view-versus-a-copy\n"
     ]
    }
   ],
   "source": [
    "# grab all the different program names by project upin and put it in a new column\n",
    "group[\"all_programs\"] = group.groupby(\"project_upin\")[\"program_name\"].transform(\n",
    "    lambda x: \",\".join(x)\n",
    ")"
   ]
  },
  {
   "cell_type": "code",
   "execution_count": 75,
   "id": "3d60e367-99ff-4bce-a920-f27d10002ef3",
   "metadata": {},
   "outputs": [],
   "source": [
    "group = group[[\"project_upin\", \"all_programs\"]].drop_duplicates()"
   ]
  },
  {
   "cell_type": "code",
   "execution_count": 76,
   "id": "cf536553-dcc6-4ffe-972f-4521530e566a",
   "metadata": {},
   "outputs": [
    {
     "data": {
      "text/plain": [
       "(335, 2)"
      ]
     },
     "execution_count": 76,
     "metadata": {},
     "output_type": "execute_result"
    }
   ],
   "source": [
    "group.shape"
   ]
  },
  {
   "cell_type": "code",
   "execution_count": 77,
   "id": "4c1566d1-579c-40b4-8576-1d4dce6392d7",
   "metadata": {},
   "outputs": [
    {
     "data": {
      "text/html": [
       "<div>\n",
       "<style scoped>\n",
       "    .dataframe tbody tr th:only-of-type {\n",
       "        vertical-align: middle;\n",
       "    }\n",
       "\n",
       "    .dataframe tbody tr th {\n",
       "        vertical-align: top;\n",
       "    }\n",
       "\n",
       "    .dataframe thead th {\n",
       "        text-align: right;\n",
       "    }\n",
       "</style>\n",
       "<table border=\"1\" class=\"dataframe\">\n",
       "  <thead>\n",
       "    <tr style=\"text-align: right;\">\n",
       "      <th></th>\n",
       "      <th>project_upin</th>\n",
       "      <th>all_programs</th>\n",
       "    </tr>\n",
       "  </thead>\n",
       "  <tbody>\n",
       "    <tr>\n",
       "      <th>2</th>\n",
       "      <td>BCG0003876</td>\n",
       "      <td>5311 (Fed),LCTOP (State)</td>\n",
       "    </tr>\n",
       "    <tr>\n",
       "      <th>3</th>\n",
       "      <td>BCG0003877</td>\n",
       "      <td>5311 (Fed),LCTOP (State)</td>\n",
       "    </tr>\n",
       "  </tbody>\n",
       "</table>\n",
       "</div>"
      ],
      "text/plain": [
       "  project_upin              all_programs\n",
       "2   BCG0003876  5311 (Fed),LCTOP (State)\n",
       "3   BCG0003877  5311 (Fed),LCTOP (State)"
      ]
     },
     "execution_count": 77,
     "metadata": {},
     "output_type": "execute_result"
    }
   ],
   "source": [
    "group[[\"project_upin\", \"all_programs\"]].head(2)"
   ]
  },
  {
   "cell_type": "code",
   "execution_count": 78,
   "id": "ac08b059-39cc-433e-b574-c4938127e624",
   "metadata": {},
   "outputs": [],
   "source": [
    "# merge for other information\n",
    "grouped_df = pd.merge(group, data, on=\"project_upin\", how=\"left\")"
   ]
  },
  {
   "cell_type": "code",
   "execution_count": 79,
   "id": "086b57c4-5027-4384-95e6-3c22fe706d1f",
   "metadata": {},
   "outputs": [],
   "source": [
    "# keep only relevant cols\n",
    "grouped_df = grouped_df[\n",
    "    [\"project_upin\", \"organization_name\", \"project_description\", \"all_programs\", \"year\"]\n",
    "]"
   ]
  },
  {
   "cell_type": "code",
   "execution_count": 80,
   "id": "2b89ab30-001a-4684-b546-5d4882a8bc6e",
   "metadata": {},
   "outputs": [],
   "source": [
    "# count number of items in all programs\n",
    "# https://stackoverflow.com/questions/51502263/pandas-dataframe-object-has-no-attribute-str\n",
    "grouped_df[\"count_of_funding_programs_applied\"] = (\n",
    "    grouped_df[\"all_programs\"]\n",
    "    .str.split(\",+\")\n",
    "    .str.len()\n",
    "    .groupby(grouped_df.project_upin)\n",
    "    .transform(\"sum\")\n",
    ")"
   ]
  },
  {
   "cell_type": "code",
   "execution_count": 81,
   "id": "af80c578-7e41-415e-9b38-343cc3c7eb76",
   "metadata": {
    "tags": []
   },
   "outputs": [
    {
     "data": {
      "text/html": [
       "<div>\n",
       "<style scoped>\n",
       "    .dataframe tbody tr th:only-of-type {\n",
       "        vertical-align: middle;\n",
       "    }\n",
       "\n",
       "    .dataframe tbody tr th {\n",
       "        vertical-align: top;\n",
       "    }\n",
       "\n",
       "    .dataframe thead th {\n",
       "        text-align: right;\n",
       "    }\n",
       "</style>\n",
       "<table border=\"1\" class=\"dataframe\">\n",
       "  <thead>\n",
       "    <tr style=\"text-align: right;\">\n",
       "      <th></th>\n",
       "      <th>project_upin</th>\n",
       "      <th>organization_name</th>\n",
       "      <th>project_description</th>\n",
       "      <th>all_programs</th>\n",
       "      <th>year</th>\n",
       "      <th>count_of_funding_programs_applied</th>\n",
       "    </tr>\n",
       "  </thead>\n",
       "  <tbody>\n",
       "    <tr>\n",
       "      <th>68</th>\n",
       "      <td>BCG0003910</td>\n",
       "      <td>Imperial County Transportation Commission</td>\n",
       "      <td>operating assistance sliding scale fy 22</td>\n",
       "      <td>5311 (Fed),Transit Development Act (State),Other State Funds,Other Federal Funds</td>\n",
       "      <td>2022</td>\n",
       "      <td>4</td>\n",
       "    </tr>\n",
       "    <tr>\n",
       "      <th>218</th>\n",
       "      <td>BCG0003987</td>\n",
       "      <td>Tulare County Regional Transportation Agency</td>\n",
       "      <td>purchase replacement std 30-34 ft bus-5339(a)</td>\n",
       "      <td>5339 (Fed),Other State Funds</td>\n",
       "      <td>2022</td>\n",
       "      <td>2</td>\n",
       "    </tr>\n",
       "    <tr>\n",
       "      <th>6</th>\n",
       "      <td>BCG0003996</td>\n",
       "      <td>City of Arvin</td>\n",
       "      <td>operating assistance sliding scale fy 22</td>\n",
       "      <td>5311 (Fed),Transit Development Act (State)</td>\n",
       "      <td>2022</td>\n",
       "      <td>2</td>\n",
       "    </tr>\n",
       "  </tbody>\n",
       "</table>\n",
       "</div>"
      ],
      "text/plain": [
       "    project_upin                             organization_name  \\\n",
       "68    BCG0003910     Imperial County Transportation Commission   \n",
       "218   BCG0003987  Tulare County Regional Transportation Agency   \n",
       "6     BCG0003996                                 City of Arvin   \n",
       "\n",
       "                               project_description  \\\n",
       "68        operating assistance sliding scale fy 22   \n",
       "218  purchase replacement std 30-34 ft bus-5339(a)   \n",
       "6         operating assistance sliding scale fy 22   \n",
       "\n",
       "                                                                         all_programs  \\\n",
       "68   5311 (Fed),Transit Development Act (State),Other State Funds,Other Federal Funds   \n",
       "218                                                      5339 (Fed),Other State Funds   \n",
       "6                                          5311 (Fed),Transit Development Act (State)   \n",
       "\n",
       "     year  count_of_funding_programs_applied  \n",
       "68   2022                                  4  \n",
       "218  2022                                  2  \n",
       "6    2022                                  2  "
      ]
     },
     "execution_count": 81,
     "metadata": {},
     "output_type": "execute_result"
    }
   ],
   "source": [
    "grouped_df.sort_values(\"organization_name\").sample(3)"
   ]
  },
  {
   "cell_type": "code",
   "execution_count": 82,
   "id": "0abd4acc-cfae-4c29-94c0-7e59052649f3",
   "metadata": {},
   "outputs": [
    {
     "data": {
      "text/plain": [
       "(335, 6)"
      ]
     },
     "execution_count": 82,
     "metadata": {},
     "output_type": "execute_result"
    }
   ],
   "source": [
    "grouped_df.shape"
   ]
  },
  {
   "cell_type": "markdown",
   "id": "98e7bd1c-8e98-4d73-b832-5825562fba39",
   "metadata": {
    "tags": []
   },
   "source": [
    "## Export"
   ]
  },
  {
   "cell_type": "markdown",
   "id": "f56c2792-25fb-4fad-a600-a05809f1279a",
   "metadata": {},
   "source": [
    "\n",
    "with pd.ExcelWriter(f\"{GCS_FILE_PATH}Con_App_Cleaned.xlsx\") as writer:\n",
    "    melt_df.to_excel(writer, sheet_name=\"pivoted_data\", index=False)\n",
    "    data.to_excel(writer, sheet_name=\"cleaned_unpivoted_data\", index=False)\n",
    "    grouped_df.to_excel(writer, sheet_name=\"combos_of_funding_programs\", index=False)\n"
   ]
  }
 ],
 "metadata": {
  "kernelspec": {
   "display_name": "Python 3 (ipykernel)",
   "language": "python",
   "name": "python3"
  },
  "language_info": {
   "codemirror_mode": {
    "name": "ipython",
    "version": 3
   },
   "file_extension": ".py",
   "mimetype": "text/x-python",
   "name": "python",
   "nbconvert_exporter": "python",
   "pygments_lexer": "ipython3",
   "version": "3.9.12"
  }
 },
 "nbformat": 4,
 "nbformat_minor": 5
}
