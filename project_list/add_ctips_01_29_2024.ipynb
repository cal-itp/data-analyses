{
 "cells": [
  {
   "cell_type": "markdown",
   "id": "e6636302",
   "metadata": {},
   "source": [
    "## CTIPS\n",
    "* https://ctips-prod.dot.ca.gov/ctips/LoginMediatorForm.do\n",
    "\n",
    "### To do\n",
    "* Get total cost\n",
    "    * total_cost: The total cost of this project.\n",
    "    Total project cost can be calculated using 3 tables: project, fundtype, and fundline\n",
    "    AH: which columns do I use from fundtype, project, and fundline to calculate the total cost?\n",
    "    You can calculate total programmed for a project using: fundline.action = P and project.high_offlc = 1\n",
    "    Then sum ( fundline.pe_paed + fundline.pe_env + fundline.pe_rw + fundline.pe_con + fundline.rw + fundline.con )\n",
    "\n",
    "* Ask if DSHOPP means draft SHOPP project\n",
    "* PROJSCHE - not a lot of matches"
   ]
  },
  {
   "cell_type": "code",
   "execution_count": null,
   "id": "219333b9",
   "metadata": {},
   "outputs": [],
   "source": [
    "import pandas as pd \n",
    "import sqlalchemy \n",
    "import sys \n",
    "import re\n",
    "import oracledb \n",
    "import _utils\n",
    "import _csis_utils"
   ]
  },
  {
   "cell_type": "code",
   "execution_count": null,
   "id": "a3c2c226",
   "metadata": {},
   "outputs": [],
   "source": [
    "oracledb.version = \"8.3.0\" \n",
    "sys.modules[\"cx_Oracle\"] = oracledb "
   ]
  },
  {
   "cell_type": "code",
   "execution_count": null,
   "id": "6f63d547",
   "metadata": {},
   "outputs": [],
   "source": [
    "pd.options.display.max_columns = 400\n",
    "pd.options.display.float_format = \"{:.2f}\".format\n",
    "pd.set_option(\"display.max_rows\", None)\n",
    "pd.set_option(\"display.max_colwidth\", None)"
   ]
  },
  {
   "cell_type": "code",
   "execution_count": null,
   "id": "cc6e807f",
   "metadata": {},
   "outputs": [],
   "source": [
    "\n",
    "ENGINE_PATH_WIN_AUTH =  f\"{DIALECT}://{USERNAME}:{PASSWORD}@{HOST}:{PORT}/?service_name={SERVICE}\" "
   ]
  },
  {
   "cell_type": "code",
   "execution_count": null,
   "id": "b0277f48",
   "metadata": {},
   "outputs": [],
   "source": [
    "engine = sqlalchemy.create_engine(ENGINE_PATH_WIN_AUTH)   "
   ]
  },
  {
   "cell_type": "markdown",
   "id": "041eadf8",
   "metadata": {},
   "source": [
    "## Project Base Table\n",
    "### Project\n",
    "Project.agencyid = project sponsor\n",
    "\n",
    "Implpaed = Implementing Agency for PA&ED\n",
    "\n",
    "Implpse = Implementing Agency for PS&E\n",
    "\n",
    "implcon = Implementing Agency for Construction\n",
    "\n",
    "implrw = Implementing Agency for Right of Way\n"
   ]
  },
  {
   "cell_type": "code",
   "execution_count": null,
   "id": "fa683a8d",
   "metadata": {},
   "outputs": [],
   "source": [
    "projects_df = pd.read_sql_query(\"\"\" \n",
    "SELECT \n",
    "ctips_id,\n",
    "appdate, \n",
    "archive,\n",
    "agencyid,\n",
    "const_date,\n",
    "countyid,\n",
    "countyid2,\n",
    "countyid3,\n",
    "chg_offcl,\n",
    "chg_qual1,\n",
    "chg_qual2,\n",
    "districtid,\n",
    "document,\n",
    "docyear,\n",
    "ea_number,\n",
    "high_ver,\n",
    "high_offcl,\n",
    "implpaed, \n",
    "implpse, \n",
    "implrw, \n",
    "implcon, \n",
    "needpurpose,\n",
    "progcode1,\n",
    "ppno,\n",
    "proj_desc,\n",
    "postmiles1,\n",
    "pm1b,\n",
    "pm2b,\n",
    "pm3b,\n",
    "pm1a,\n",
    "pm2a,\n",
    "pm3a,\n",
    "projcomp_date,\n",
    "projectid,\n",
    "route1,\n",
    "route2,\n",
    "route3,\n",
    "rtl,\n",
    "title,\n",
    "version\n",
    "FROM ctips.project\n",
    "ORDER BY high_ver DESC, version DESC, high_offcl DESC\n",
    "\"\"\", engine) "
   ]
  },
  {
   "cell_type": "code",
   "execution_count": null,
   "id": "14211de4",
   "metadata": {},
   "outputs": [],
   "source": [
    "projects_table = _csis_utils.csis_clean_project(projects_df)"
   ]
  },
  {
   "cell_type": "markdown",
   "id": "5e4e4c43",
   "metadata": {},
   "source": [
    "### PROJSCHE"
   ]
  },
  {
   "cell_type": "code",
   "execution_count": null,
   "id": "078be66d",
   "metadata": {},
   "outputs": [],
   "source": [
    "projsche_df = pd.read_sql_query(\"\"\" \n",
    "SELECT \n",
    "projectid,\n",
    "m020 AS pa_ed_begin,\n",
    "m200a AS pa_ed_end,\n",
    "m200b AS ps_e_begin,\n",
    "m224 AS begin_row,\n",
    "m410 AS end_row,\n",
    "m500 AS con_start_date,\n",
    "m600 AS con_end_date,\n",
    "m700 AS begin_closeout,\n",
    "m800 AS end_closeout\n",
    "FROM ctips.projsche\n",
    "\"\"\", engine) "
   ]
  },
  {
   "cell_type": "code",
   "execution_count": null,
   "id": "65e4fa03",
   "metadata": {},
   "outputs": [],
   "source": [
    "projsche_drop_cols = list(projsche_df.columns)"
   ]
  },
  {
   "cell_type": "code",
   "execution_count": null,
   "id": "b065d4a7",
   "metadata": {},
   "outputs": [],
   "source": [
    "projsche_drop_cols.remove('projectid')"
   ]
  },
  {
   "cell_type": "code",
   "execution_count": null,
   "id": "72c5e805",
   "metadata": {},
   "outputs": [],
   "source": [
    "# I want to drop the rows in which ALL values in the date columns are empty\n",
    "projsche_df2 = projsche_df.dropna(how = \"all\", subset = projsche_drop_cols).reset_index(drop = True)"
   ]
  },
  {
   "cell_type": "code",
   "execution_count": null,
   "id": "a4a25729",
   "metadata": {},
   "outputs": [],
   "source": [
    "len(projsche_df2), len(projsche_df)"
   ]
  },
  {
   "cell_type": "code",
   "execution_count": null,
   "id": "2a9a14e0",
   "metadata": {},
   "outputs": [],
   "source": [
    "projsche_df2.projectid.nunique()"
   ]
  },
  {
   "cell_type": "code",
   "execution_count": null,
   "id": "4b3cbc46",
   "metadata": {},
   "outputs": [],
   "source": [
    "projsche_df2.projectid.value_counts().head()"
   ]
  },
  {
   "cell_type": "markdown",
   "id": "c282cad3",
   "metadata": {},
   "source": [
    "#### Not a lot of matching values"
   ]
  },
  {
   "cell_type": "code",
   "execution_count": null,
   "id": "74ba03ad",
   "metadata": {},
   "outputs": [],
   "source": [
    "pd.merge(projsche_df2, projects_table, on ='projectid', how = 'outer', indicator = True)[['_merge']].value_counts()"
   ]
  },
  {
   "cell_type": "code",
   "execution_count": null,
   "id": "cd5c5f44",
   "metadata": {},
   "outputs": [],
   "source": [
    "phase_dates_df = pd.merge(projects_table[['ctips_id', 'projectid']], projsche_df2,  on ='projectid', how = 'inner')"
   ]
  },
  {
   "cell_type": "code",
   "execution_count": null,
   "id": "4f0136e7",
   "metadata": {},
   "outputs": [],
   "source": [
    "phase_dates_df.ctips_id.nunique()"
   ]
  },
  {
   "cell_type": "markdown",
   "id": "b93631a5",
   "metadata": {},
   "source": [
    "### AGENCY"
   ]
  },
  {
   "cell_type": "code",
   "execution_count": null,
   "id": "fd8fae28",
   "metadata": {
    "scrolled": true
   },
   "outputs": [],
   "source": [
    "agency_df = pd.read_sql_query(\"\"\" \n",
    "SELECT \n",
    "name AS agency_name,\n",
    "agencyid\n",
    "FROM ctips.agncy\n",
    "\"\"\", engine) "
   ]
  },
  {
   "cell_type": "code",
   "execution_count": null,
   "id": "39b4a14e",
   "metadata": {},
   "outputs": [],
   "source": [
    "projects_table = pd.merge(projects_table, agency_df,  on ='agencyid', how = 'left').rename(columns = {'agency_name':'sponsoring_agency'})"
   ]
  },
  {
   "cell_type": "code",
   "execution_count": null,
   "id": "da542e8a",
   "metadata": {},
   "outputs": [],
   "source": [
    "phase_agency_cols = ['implpaed','implpse','implrw', 'implcon']"
   ]
  },
  {
   "cell_type": "code",
   "execution_count": null,
   "id": "e2d5a974",
   "metadata": {},
   "outputs": [],
   "source": [
    "for i in phase_agency_cols:\n",
    "    projects_table = _csis_utils.add_agencies(projects_table, agency_df, i)"
   ]
  },
  {
   "cell_type": "code",
   "execution_count": null,
   "id": "333d20c4",
   "metadata": {},
   "outputs": [],
   "source": [
    "# Add spelled out version of the agency names to each column\n",
    "projects_table = _csis_utils.add_agencies(projects_table, agency_df, 'implpse')"
   ]
  },
  {
   "cell_type": "code",
   "execution_count": null,
   "id": "c33d89b8",
   "metadata": {},
   "outputs": [],
   "source": [
    "projects_table = projects_table.drop(columns = phase_agency_cols)"
   ]
  },
  {
   "cell_type": "markdown",
   "id": "71444e92",
   "metadata": {},
   "source": [
    "### COUNTY"
   ]
  },
  {
   "cell_type": "code",
   "execution_count": null,
   "id": "ba2a32cf",
   "metadata": {},
   "outputs": [],
   "source": [
    "county_df = pd.read_sql_query(\"\"\" \n",
    "SELECT \n",
    "name AS county_name,\n",
    "countyid\n",
    "FROM ctips.county\n",
    "\"\"\", engine) "
   ]
  },
  {
   "cell_type": "code",
   "execution_count": null,
   "id": "006a72e7",
   "metadata": {},
   "outputs": [],
   "source": [
    "county_df.sample()"
   ]
  },
  {
   "cell_type": "code",
   "execution_count": null,
   "id": "78ffe7e8",
   "metadata": {},
   "outputs": [],
   "source": [
    "county_df = pd.merge(projects_table[['ctips_id','countyid']], county_df,  on ='countyid', how = 'left')"
   ]
  },
  {
   "cell_type": "code",
   "execution_count": null,
   "id": "d0e0ee23",
   "metadata": {},
   "outputs": [],
   "source": [
    "county_df = county_df[['ctips_id', 'county_name']]"
   ]
  },
  {
   "cell_type": "markdown",
   "id": "4b5cf104",
   "metadata": {},
   "source": [
    "### FUNDLINE\n",
    "* For action: Action: P = programmed, V= vote, A=award"
   ]
  },
  {
   "cell_type": "code",
   "execution_count": null,
   "id": "60f9a680",
   "metadata": {},
   "outputs": [],
   "source": [
    "fundline_df = pd.read_sql_query(\"\"\" \n",
    "SELECT \n",
    "action,\n",
    "con,\n",
    "rw,\n",
    "pe_paed,\n",
    "pe_env,\n",
    "pe_rw,\n",
    "pe_con,\n",
    "pe_total,\n",
    "fundlineid,\n",
    "fundtypeid,\n",
    "line_year,\n",
    "actiondate\n",
    "FROM ctips.fundline\n",
    "\"\"\", engine) "
   ]
  },
  {
   "cell_type": "markdown",
   "id": "1c22bfb8",
   "metadata": {},
   "source": [
    "### Fundtype\n",
    "* Fundtype.agencyid = funding agency"
   ]
  },
  {
   "cell_type": "code",
   "execution_count": null,
   "id": "e46ca7dd",
   "metadata": {},
   "outputs": [],
   "source": [
    "fundtype_df = pd.read_sql_query(\"\"\" \n",
    "SELECT \n",
    "fundtypeid,\n",
    "fundid,\n",
    "progcode,\n",
    "programid,\n",
    "projectid,\n",
    "agencyid\n",
    "FROM ctips.fundtype\n",
    "\"\"\", engine) "
   ]
  },
  {
   "cell_type": "markdown",
   "id": "33842b1f",
   "metadata": {},
   "source": [
    "#### Merge everything"
   ]
  },
  {
   "cell_type": "code",
   "execution_count": null,
   "id": "a8e17fee",
   "metadata": {},
   "outputs": [],
   "source": [
    "pd.merge(fundtype_df,\n",
    "         fundline_df,  \n",
    "         on = ['fundtypeid'], \n",
    "         how = \"outer\",\n",
    "         indicator = True,)[['_merge']].value_counts()"
   ]
  },
  {
   "cell_type": "code",
   "execution_count": null,
   "id": "0039d1ff",
   "metadata": {},
   "outputs": [],
   "source": [
    "pd.merge(fundtype_df,fundline_df,  on = ['fundtypeid'], how = \"outer\", indicator = True)[['_merge']].value_counts()"
   ]
  },
  {
   "cell_type": "code",
   "execution_count": null,
   "id": "d990ecc9",
   "metadata": {},
   "outputs": [],
   "source": [
    "fund_m1 = pd.merge(fundtype_df,fundline_df,  on = ['fundtypeid'], how = \"left\")"
   ]
  },
  {
   "cell_type": "code",
   "execution_count": null,
   "id": "5a3b151c",
   "metadata": {},
   "outputs": [],
   "source": [
    "final_fund_m = pd.merge(projects_table[['projectid','ctips_id', 'document']], fund_m1, on = ['projectid'], how = \"inner\")"
   ]
  },
  {
   "cell_type": "code",
   "execution_count": null,
   "id": "650f00e8",
   "metadata": {},
   "outputs": [],
   "source": [
    "final_fund_m.ctips_id.nunique(), len(final_fund_m)"
   ]
  },
  {
   "cell_type": "code",
   "execution_count": null,
   "id": "4f4d2f33",
   "metadata": {},
   "outputs": [],
   "source": [
    "projects_table.ctips_id.nunique()"
   ]
  },
  {
   "cell_type": "code",
   "execution_count": null,
   "id": "0ff546d8",
   "metadata": {},
   "outputs": [],
   "source": [
    "29152-29116"
   ]
  },
  {
   "cell_type": "markdown",
   "id": "068a8b39",
   "metadata": {},
   "source": [
    "### Progmain"
   ]
  },
  {
   "cell_type": "code",
   "execution_count": null,
   "id": "5422ac18",
   "metadata": {},
   "outputs": [],
   "source": [
    "progmain_df = pd.read_sql_query(\"\"\" \n",
    "SELECT \n",
    "programid,\n",
    "category AS program\n",
    "FROM ctips.progmain\n",
    "\"\"\", engine) "
   ]
  },
  {
   "cell_type": "code",
   "execution_count": null,
   "id": "ea4bbd85",
   "metadata": {},
   "outputs": [],
   "source": [
    "progmain_df.head()"
   ]
  },
  {
   "cell_type": "markdown",
   "id": "dfbce34f",
   "metadata": {},
   "source": [
    "### Fund"
   ]
  },
  {
   "cell_type": "code",
   "execution_count": null,
   "id": "bc3b339b",
   "metadata": {},
   "outputs": [],
   "source": [
    "fund_df = pd.read_sql_query(\"\"\" \n",
    "SELECT \n",
    "fund,\n",
    "fundid,\n",
    "type AS fund_type_1_fed_2_state_3_local\n",
    "FROM ctips.fund\n",
    "\"\"\", engine) "
   ]
  },
  {
   "cell_type": "code",
   "execution_count": null,
   "id": "6961a193",
   "metadata": {},
   "outputs": [],
   "source": [
    "fund_df.head(2)"
   ]
  },
  {
   "cell_type": "markdown",
   "id": "ffe5e070",
   "metadata": {},
   "source": [
    "### Progsub\n",
    "* Some progcodes have more than one progdesc\n",
    "* Dropped duplicates bc the progdesc are similar\n",
    "double_ids = ['20.30.010.820',\n",
    "             '20.XX.723.000',\n",
    "            '20.30.010.810',\n",
    "             '20.XX.720.100',\n",
    "             '20.30.010.817',\n",
    "              '20.30.210.200'\n",
    "             ]"
   ]
  },
  {
   "cell_type": "code",
   "execution_count": null,
   "id": "11ba788a",
   "metadata": {},
   "outputs": [],
   "source": [
    "progsub_df = pd.read_sql_query(\"\"\" \n",
    "SELECT \n",
    "progcode,\n",
    "progdesc\n",
    "FROM ctips.progsub\n",
    "\"\"\", engine) "
   ]
  },
  {
   "cell_type": "code",
   "execution_count": null,
   "id": "3c24d27f",
   "metadata": {},
   "outputs": [],
   "source": [
    "progsub_df.head(1)"
   ]
  },
  {
   "cell_type": "code",
   "execution_count": null,
   "id": "a146db59",
   "metadata": {},
   "outputs": [],
   "source": [
    "# progsub_df.loc[progsub_df.progcode.isin(double_ids)].sort_values('progcode')"
   ]
  },
  {
   "cell_type": "code",
   "execution_count": null,
   "id": "8f7c12e6",
   "metadata": {},
   "outputs": [],
   "source": [
    "progsub_df2 = progsub_df.drop_duplicates(subset = ['progcode'])"
   ]
  },
  {
   "cell_type": "markdown",
   "id": "56cf8882",
   "metadata": {},
   "source": [
    "### Merge for work below"
   ]
  },
  {
   "cell_type": "code",
   "execution_count": null,
   "id": "b8c84e1e",
   "metadata": {},
   "outputs": [],
   "source": [
    "final_fund_m.sample()"
   ]
  },
  {
   "cell_type": "code",
   "execution_count": null,
   "id": "f90ba4d8",
   "metadata": {},
   "outputs": [],
   "source": [
    "final_fund_m.ctips_id.nunique(), projects_table.ctips_id.nunique()"
   ]
  },
  {
   "cell_type": "code",
   "execution_count": null,
   "id": "74adb4f9",
   "metadata": {},
   "outputs": [],
   "source": [
    "funding_w_program_info = ((final_fund_m\n",
    "                           .merge(progmain_df, on = ['programid'], how = \"left\")\n",
    "                           .merge(fund_df, on =['fundid'], how = \"left\")\n",
    "                           .merge(progsub_df2, on = ['progcode'], how = \"left\"))\n",
    "                           .drop(columns = ['fundid','programid', 'progcode']))"
   ]
  },
  {
   "cell_type": "code",
   "execution_count": null,
   "id": "302ed55f",
   "metadata": {},
   "outputs": [],
   "source": [
    " funding_w_program_info = funding_w_program_info.fillna(funding_w_program_info.dtypes.replace({'float64': 0.0, 'object': 'None'}))"
   ]
  },
  {
   "cell_type": "code",
   "execution_count": null,
   "id": "9a8d4611",
   "metadata": {},
   "outputs": [],
   "source": [
    "funding_w_program_info = funding_w_program_info"
   ]
  },
  {
   "cell_type": "code",
   "execution_count": null,
   "id": "f72c4647",
   "metadata": {},
   "outputs": [],
   "source": [
    "funding_w_program_info.fund.nunique()"
   ]
  },
  {
   "cell_type": "code",
   "execution_count": null,
   "id": "f5e7a506",
   "metadata": {},
   "outputs": [],
   "source": [
    "funding_w_program_info['fund'] = funding_w_program_info.fund + '-' + funding_w_program_info.fund_type_1_fed_2_state_3_local.astype('str')"
   ]
  },
  {
   "cell_type": "code",
   "execution_count": null,
   "id": "7cd10d3d",
   "metadata": {},
   "outputs": [],
   "source": [
    "funding_w_program_info = funding_w_program_info.fillna(funding_w_program_info.dtypes.replace({'float64': 0.0, 'object': 'None'}))"
   ]
  },
  {
   "cell_type": "code",
   "execution_count": null,
   "id": "a9029682",
   "metadata": {},
   "outputs": [],
   "source": [
    "funding_w_program_info.sample()"
   ]
  },
  {
   "cell_type": "code",
   "execution_count": null,
   "id": "3d079d7c",
   "metadata": {},
   "outputs": [],
   "source": [
    "funding_w_program_info.ctips_id.nunique()"
   ]
  },
  {
   "cell_type": "markdown",
   "id": "ff2dfc73",
   "metadata": {},
   "source": [
    "## Phase Funding Table"
   ]
  },
  {
   "cell_type": "markdown",
   "id": "98430198",
   "metadata": {},
   "source": [
    "#### First: find the # of funds a project has programmed/voted/awarded for each fund"
   ]
  },
  {
   "cell_type": "code",
   "execution_count": null,
   "id": "7af9f8fa",
   "metadata": {},
   "outputs": [],
   "source": [
    "columns_to_agg = {**dict.fromkeys(['con', 'rw',\n",
    "       'pe_paed', 'pe_env', 'pe_rw', 'pe_con', 'pe_total'], 'sum')}\n"
   ]
  },
  {
   "cell_type": "code",
   "execution_count": null,
   "id": "81a89a9a",
   "metadata": {},
   "outputs": [],
   "source": [
    "# I want to find the total funds a project will receive for each fund\n",
    "total_cost = funding_w_program_info.groupby(['ctips_id','fund','document']).agg(columns_to_agg).reset_index()"
   ]
  },
  {
   "cell_type": "code",
   "execution_count": null,
   "id": "6772cb37",
   "metadata": {},
   "outputs": [],
   "source": [
    "total_cost.sample()"
   ]
  },
  {
   "cell_type": "markdown",
   "id": "e0ffdf9d",
   "metadata": {},
   "source": [
    "##### Separate out FTIP and everything else to calculate total funds a project is estimated to receive"
   ]
  },
  {
   "cell_type": "code",
   "execution_count": null,
   "id": "c68627de",
   "metadata": {},
   "outputs": [],
   "source": [
    "# Calculate out FTIP and oither documents in 2 stages\n",
    "ftip_only = total_cost.loc[total_cost.document == 'FTIP'].reset_index(drop = True)"
   ]
  },
  {
   "cell_type": "code",
   "execution_count": null,
   "id": "dd4bec02",
   "metadata": {},
   "outputs": [],
   "source": [
    "total_cost_ftip = ftip_only.groupby(['ctips_id', 'fund']).agg(columns_to_agg).reset_index()"
   ]
  },
  {
   "cell_type": "code",
   "execution_count": null,
   "id": "13259096",
   "metadata": {},
   "outputs": [],
   "source": [
    "cols_to_keep = ['ctips_id', 'fund', 'total_cost']"
   ]
  },
  {
   "cell_type": "code",
   "execution_count": null,
   "id": "a3d616c4",
   "metadata": {},
   "outputs": [],
   "source": [
    "total_cost_ftip['total_cost'] = total_cost_ftip.con + total_cost_ftip.rw + total_cost_ftip.pe_total"
   ]
  },
  {
   "cell_type": "code",
   "execution_count": null,
   "id": "6833e72b",
   "metadata": {},
   "outputs": [],
   "source": [
    "total_cost_ftip = total_cost_ftip[cols_to_keep]"
   ]
  },
  {
   "cell_type": "code",
   "execution_count": null,
   "id": "c7f7b8d4",
   "metadata": {},
   "outputs": [],
   "source": [
    "everything_else = total_cost.loc[total_cost.document != 'FTIP'].reset_index(drop = True)"
   ]
  },
  {
   "cell_type": "code",
   "execution_count": null,
   "id": "539a7c8d",
   "metadata": {},
   "outputs": [],
   "source": [
    "everything_else = everything_else.groupby(['ctips_id', 'fund']).agg(columns_to_agg).reset_index()"
   ]
  },
  {
   "cell_type": "code",
   "execution_count": null,
   "id": "b699b51e",
   "metadata": {},
   "outputs": [],
   "source": [
    "everything_else['total_cost'] = everything_else.con + everything_else.rw + everything_else.pe_paed + everything_else.pe_env + everything_else.pe_rw + everything_else.pe_con"
   ]
  },
  {
   "cell_type": "code",
   "execution_count": null,
   "id": "e1e5d86c",
   "metadata": {},
   "outputs": [],
   "source": [
    "everything_else = everything_else[cols_to_keep]"
   ]
  },
  {
   "cell_type": "code",
   "execution_count": null,
   "id": "638e3697",
   "metadata": {},
   "outputs": [],
   "source": [
    "total_requested_funds_final = pd.concat([everything_else, total_cost_ftip])"
   ]
  },
  {
   "cell_type": "code",
   "execution_count": null,
   "id": "ac440afb",
   "metadata": {},
   "outputs": [],
   "source": [
    "len(total_requested_funds_final), total_requested_funds_final.ctips_id.nunique()"
   ]
  },
  {
   "cell_type": "code",
   "execution_count": null,
   "id": "95024a74",
   "metadata": {},
   "outputs": [],
   "source": [
    "total_requested_funds_final.ctips_id.value_counts().sample(5)"
   ]
  },
  {
   "cell_type": "markdown",
   "id": "5e889434",
   "metadata": {},
   "source": [
    "##### One project"
   ]
  },
  {
   "cell_type": "code",
   "execution_count": null,
   "id": "835ed122",
   "metadata": {},
   "outputs": [],
   "source": [
    "total_requested_funds_final.loc[total_requested_funds_final.ctips_id == 20300000209]"
   ]
  },
  {
   "cell_type": "code",
   "execution_count": null,
   "id": "40d39553",
   "metadata": {},
   "outputs": [],
   "source": [
    "8900.00+63400.00"
   ]
  },
  {
   "cell_type": "code",
   "execution_count": null,
   "id": "15d6d899",
   "metadata": {},
   "outputs": [],
   "source": [
    "# Original \n",
    "funding_w_program_info.loc[funding_w_program_info.ctips_id == 20300000209]"
   ]
  },
  {
   "cell_type": "markdown",
   "id": "23e00cd1",
   "metadata": {},
   "source": [
    "#### Pivot - I want the dataframe to be wide instead of long"
   ]
  },
  {
   "cell_type": "code",
   "execution_count": null,
   "id": "e79d4c4c",
   "metadata": {},
   "outputs": [],
   "source": [
    "fund_table = total_requested_funds_final.pivot_table(index=['ctips_id'], columns='fund', \n",
    "                    values=['total_cost'], aggfunc='sum')"
   ]
  },
  {
   "cell_type": "code",
   "execution_count": null,
   "id": "e1baaaec",
   "metadata": {},
   "outputs": [],
   "source": [
    "fund_table.columns = fund_table.columns.droplevel()"
   ]
  },
  {
   "cell_type": "code",
   "execution_count": null,
   "id": "d4e178f5",
   "metadata": {},
   "outputs": [],
   "source": [
    "fund_table = fund_table.reset_index()"
   ]
  },
  {
   "cell_type": "code",
   "execution_count": null,
   "id": "2a8e755c",
   "metadata": {},
   "outputs": [],
   "source": [
    "fund_table.shape"
   ]
  },
  {
   "cell_type": "code",
   "execution_count": null,
   "id": "705a9b38",
   "metadata": {},
   "outputs": [],
   "source": [
    "fund_table = _utils.to_snakecase(fund_table)"
   ]
  },
  {
   "cell_type": "markdown",
   "id": "93216d6e",
   "metadata": {},
   "source": [
    "##### Check with one project"
   ]
  },
  {
   "cell_type": "code",
   "execution_count": null,
   "id": "8fcbeafa",
   "metadata": {},
   "outputs": [],
   "source": [
    "total_requested_funds_final.loc[total_requested_funds_final.ctips_id == 20300000522]"
   ]
  },
  {
   "cell_type": "code",
   "execution_count": null,
   "id": "eaad75fb",
   "metadata": {},
   "outputs": [],
   "source": [
    "fund_table.loc[fund_table.ctips_id == 20300000522].dropna(axis =1)"
   ]
  },
  {
   "cell_type": "code",
   "execution_count": null,
   "id": "7f6a1695",
   "metadata": {},
   "outputs": [],
   "source": [
    "total_requested_funds_final.loc[total_requested_funds_final.ctips_id == 20300000522]"
   ]
  },
  {
   "cell_type": "code",
   "execution_count": null,
   "id": "6b475f89",
   "metadata": {},
   "outputs": [],
   "source": [
    "funding_w_program_info.loc[funding_w_program_info.ctips_id == 20300000522]"
   ]
  },
  {
   "cell_type": "markdown",
   "id": "c918b2f0",
   "metadata": {},
   "source": [
    "#### Second: find the amount of $ for each phase"
   ]
  },
  {
   "cell_type": "code",
   "execution_count": null,
   "id": "2b910aa2",
   "metadata": {},
   "outputs": [],
   "source": [
    "cost_per_phase = funding_w_program_info.groupby(['ctips_id']).agg(columns_to_agg).reset_index()"
   ]
  },
  {
   "cell_type": "code",
   "execution_count": null,
   "id": "dde07c1d",
   "metadata": {},
   "outputs": [],
   "source": [
    "cost_per_phase.shape, cost_per_phase.ctips_id.nunique()"
   ]
  },
  {
   "cell_type": "code",
   "execution_count": null,
   "id": "644b8360",
   "metadata": {},
   "outputs": [],
   "source": [
    "63400.00+9700.00+11300"
   ]
  },
  {
   "cell_type": "code",
   "execution_count": null,
   "id": "86be66db",
   "metadata": {},
   "outputs": [],
   "source": [
    "fund_table.loc[fund_table.ctips_id == 20300000209].dropna(axis=1)"
   ]
  },
  {
   "cell_type": "code",
   "execution_count": null,
   "id": "30ef5245",
   "metadata": {},
   "outputs": [],
   "source": [
    "cost_per_phase.loc[cost_per_phase.ctips_id == 20300000209].dropna(axis=1)"
   ]
  },
  {
   "cell_type": "markdown",
   "id": "dca5eeff",
   "metadata": {},
   "source": [
    "#### Third: merge these 2 tables"
   ]
  },
  {
   "cell_type": "code",
   "execution_count": null,
   "id": "3b5d0df7",
   "metadata": {},
   "outputs": [],
   "source": [
    "final_phase_funding_table = pd.merge(fund_table, cost_per_phase, on = [\"ctips_id\"], how = \"inner\")"
   ]
  },
  {
   "cell_type": "code",
   "execution_count": null,
   "id": "0c09a7fa",
   "metadata": {},
   "outputs": [],
   "source": [
    "len(final_phase_funding_table)"
   ]
  },
  {
   "cell_type": "code",
   "execution_count": null,
   "id": "c3fc20ce",
   "metadata": {},
   "outputs": [],
   "source": [
    "final_phase_funding_table.head(2)"
   ]
  },
  {
   "cell_type": "code",
   "execution_count": null,
   "id": "c0443a67",
   "metadata": {},
   "outputs": [],
   "source": [
    "final_phase_funding_table.ctips_id.nunique(), len(final_phase_funding_table)"
   ]
  },
  {
   "cell_type": "markdown",
   "id": "fbc6476c",
   "metadata": {},
   "source": [
    "#### Fourth: find state v federal \n",
    "* State funds is a lot more."
   ]
  },
  {
   "cell_type": "code",
   "execution_count": null,
   "id": "0de85755",
   "metadata": {},
   "outputs": [],
   "source": [
    "\n",
    "federal_funds = _csis_utils.calculate_state_fed_local_total_funds(final_phase_funding_table, ['1.0'], 'total_federal_funds')\n"
   ]
  },
  {
   "cell_type": "code",
   "execution_count": null,
   "id": "dd8a3b4f",
   "metadata": {},
   "outputs": [],
   "source": [
    "state_funds = _csis_utils.calculate_state_fed_local_total_funds(final_phase_funding_table, ['2.0'], 'total_state_funds')\n"
   ]
  },
  {
   "cell_type": "code",
   "execution_count": null,
   "id": "e69172a7",
   "metadata": {},
   "outputs": [],
   "source": [
    "local_funds = _csis_utils.calculate_state_fed_local_total_funds(final_phase_funding_table, ['3.0'], 'total_local_funds')\n"
   ]
  },
  {
   "cell_type": "code",
   "execution_count": null,
   "id": "6f7cf221",
   "metadata": {},
   "outputs": [],
   "source": [
    "final_phase_funding_table[\"is_state\"] = final_phase_funding_table.apply(_utils.is_state_funds, axis=1)"
   ]
  },
  {
   "cell_type": "code",
   "execution_count": null,
   "id": "e951cf31",
   "metadata": {},
   "outputs": [],
   "source": [
    "final_phase_funding_table[\"is_federal\"] = final_phase_funding_table.apply(_utils.is_fed_funds, axis=1)"
   ]
  },
  {
   "cell_type": "code",
   "execution_count": null,
   "id": "d2953cb0",
   "metadata": {},
   "outputs": [],
   "source": [
    "final_phase_funding_table[\"is_local\"] = final_phase_funding_table.apply(_utils.is_local_funds, axis=1)"
   ]
  },
  {
   "cell_type": "markdown",
   "id": "236d4778",
   "metadata": {},
   "source": [
    "##### Check that I summed up federal funds correctly\n",
    "* State not summing up correctly"
   ]
  },
  {
   "cell_type": "code",
   "execution_count": null,
   "id": "7857f237",
   "metadata": {},
   "outputs": [],
   "source": [
    "funding_w_program_info.loc[funding_w_program_info.ctips_id == 20920011849][['fund_type_1_fed_2_state_3_local']].value_counts()"
   ]
  },
  {
   "cell_type": "code",
   "execution_count": null,
   "id": "c29f751b",
   "metadata": {},
   "outputs": [],
   "source": [
    "funding_w_program_info.loc[(funding_w_program_info.ctips_id == 20920011849) & (funding_w_program_info.fund == 'Public Transportation Modernization Improvement-2.0-2.0')][['con']].sum()"
   ]
  },
  {
   "cell_type": "code",
   "execution_count": null,
   "id": "b2c589ca",
   "metadata": {},
   "outputs": [],
   "source": [
    "funding_w_program_info.loc[(funding_w_program_info.ctips_id == 20920011849) & (funding_w_program_info.fund == 'Public Transportation Modernization Improvement-2.0-2.0')][['rw']].sum()"
   ]
  },
  {
   "cell_type": "code",
   "execution_count": null,
   "id": "b4a21bf7",
   "metadata": {},
   "outputs": [],
   "source": [
    "funding_w_program_info.loc[(funding_w_program_info.ctips_id == 20920011849) & (funding_w_program_info.fund == 'Public Transportation Modernization Improvement-2.0-2.0')][['pe_total']].sum()"
   ]
  },
  {
   "cell_type": "code",
   "execution_count": null,
   "id": "a138336c",
   "metadata": {},
   "outputs": [],
   "source": [
    "112386000.00+12213000.00+4351000.00 == 128950000.0"
   ]
  },
  {
   "cell_type": "code",
   "execution_count": null,
   "id": "ad0ed5b0",
   "metadata": {},
   "outputs": [],
   "source": [
    "final_phase_funding_table.loc[final_phase_funding_table.ctips_id == 20920011849].dropna(axis=1).T"
   ]
  },
  {
   "cell_type": "code",
   "execution_count": null,
   "id": "9a856cfc",
   "metadata": {},
   "outputs": [],
   "source": [
    "(final_phase_funding_table\n",
    " .groupby(['is_state', 'is_federal', 'is_local'])\n",
    " .agg({'ctips_id':'nunique'})\n",
    " .reset_index()\n",
    " .sort_values(by = ['ctips_id']))"
   ]
  },
  {
   "cell_type": "markdown",
   "id": "97756b81",
   "metadata": {},
   "source": [
    "#### Fifth: Drop everything before `con`\n",
    "* Need to differentiate between `pe_total` for FTIP vs `pe_total` for everything else."
   ]
  },
  {
   "cell_type": "code",
   "execution_count": null,
   "id": "cdd3846f",
   "metadata": {},
   "outputs": [],
   "source": [
    "to_keep = ['ctips_id','con','rw', 'pe_env', 'pe_rw', 'pe_con', 'pe_total', 'total_federal_funds',\n",
    "       'total_state_funds', 'total_local_funds', 'is_local', 'is_state',\n",
    "       'is_federal']"
   ]
  },
  {
   "cell_type": "code",
   "execution_count": null,
   "id": "ffde1582",
   "metadata": {},
   "outputs": [],
   "source": [
    "final_phase_funding_table2 = final_phase_funding_table[to_keep]"
   ]
  },
  {
   "cell_type": "code",
   "execution_count": null,
   "id": "a52ef35a",
   "metadata": {},
   "outputs": [],
   "source": [
    "final_phase_funding_table2.head()"
   ]
  },
  {
   "cell_type": "markdown",
   "id": "9afe4906",
   "metadata": {},
   "source": [
    "#### Sixth: Merge on `phase_dates_df` with all the phase dates"
   ]
  },
  {
   "cell_type": "code",
   "execution_count": null,
   "id": "6bf21107",
   "metadata": {},
   "outputs": [],
   "source": [
    "phase_dates_df.ctips_id.nunique(), len(phase_dates_df)"
   ]
  },
  {
   "cell_type": "code",
   "execution_count": null,
   "id": "d1e18701",
   "metadata": {},
   "outputs": [],
   "source": [
    "projects_table.ctips_id.nunique(), len(projects_table)"
   ]
  },
  {
   "cell_type": "code",
   "execution_count": null,
   "id": "97005749",
   "metadata": {},
   "outputs": [],
   "source": [
    "final_phase_funding_table.ctips_id.nunique(), len(final_phase_funding_table)"
   ]
  },
  {
   "cell_type": "code",
   "execution_count": null,
   "id": "deebd677",
   "metadata": {},
   "outputs": [],
   "source": [
    "final_phase_funding_table2 = pd.merge(final_phase_funding_table2, phase_dates_df, on = \"ctips_id\", how = \"outer\")"
   ]
  },
  {
   "cell_type": "code",
   "execution_count": null,
   "id": "4708e168",
   "metadata": {},
   "outputs": [],
   "source": [
    "pd.merge(final_phase_funding_table2, phase_dates_df, on = \"ctips_id\", how = \"outer\", indicator = True)[['_merge']].value_counts()"
   ]
  },
  {
   "cell_type": "code",
   "execution_count": null,
   "id": "0a3ac03b",
   "metadata": {},
   "outputs": [],
   "source": [
    "final_phase_funding_table2.ctips_id.nunique()"
   ]
  },
  {
   "cell_type": "code",
   "execution_count": null,
   "id": "187c2c22",
   "metadata": {},
   "outputs": [],
   "source": [
    "29152-29127"
   ]
  },
  {
   "cell_type": "markdown",
   "id": "ae076fad",
   "metadata": {},
   "source": [
    "#### Seventh: Merge some other dates found in the `projects` dataframe."
   ]
  },
  {
   "cell_type": "code",
   "execution_count": null,
   "id": "4f84daa0",
   "metadata": {},
   "outputs": [],
   "source": [
    "project_date_cols = ['const_date', 'rtl', 'ctips_id', 'projcomp_date']"
   ]
  },
  {
   "cell_type": "code",
   "execution_count": null,
   "id": "b492effa",
   "metadata": {},
   "outputs": [],
   "source": [
    "projects_dates = projects_table[project_date_cols]"
   ]
  },
  {
   "cell_type": "code",
   "execution_count": null,
   "id": "4c4c7bb3",
   "metadata": {},
   "outputs": [],
   "source": [
    "project_date_cols.remove('ctips_id')"
   ]
  },
  {
   "cell_type": "code",
   "execution_count": null,
   "id": "76f8fb8d",
   "metadata": {},
   "outputs": [],
   "source": [
    "projects_table = projects_table.drop(columns = project_date_cols)"
   ]
  },
  {
   "cell_type": "code",
   "execution_count": null,
   "id": "236c5d09",
   "metadata": {},
   "outputs": [],
   "source": [
    "# I'm only interested in rwos in which at least one of the dates are populated\n",
    "projects_dates2 = projects_dates.loc[(projects_dates.rtl != 'datetime64[ns]') |  (projects_dates.const_date != 'datetime64[ns]')].reset_index(drop = True)"
   ]
  },
  {
   "cell_type": "code",
   "execution_count": null,
   "id": "8457f0dd",
   "metadata": {},
   "outputs": [],
   "source": [
    "projects_dates2 = projects_dates2.rename(columns = {'const_date': 'construction_completion_date', 'rtl':'ready_to_list_date'})"
   ]
  },
  {
   "cell_type": "code",
   "execution_count": null,
   "id": "fcfb706e",
   "metadata": {},
   "outputs": [],
   "source": [
    "final_phase_funding_table3 = pd.merge(final_phase_funding_table2, projects_dates2, on = 'ctips_id', how = 'left')"
   ]
  },
  {
   "cell_type": "code",
   "execution_count": null,
   "id": "b4298019",
   "metadata": {},
   "outputs": [],
   "source": [
    "final_phase_funding_table3.ctips_id.nunique()"
   ]
  },
  {
   "cell_type": "code",
   "execution_count": null,
   "id": "db28dd44",
   "metadata": {},
   "outputs": [],
   "source": [
    "projects_table.ctips_id.nunique()"
   ]
  },
  {
   "cell_type": "markdown",
   "id": "d0712391",
   "metadata": {},
   "source": [
    "### Awards Table\n",
    "* Take final_fund_m and sort it by year\n",
    "* Line year is \"fiscal year of this fund record Note that the year listed is the second in the pair of fiscal year notation.  For example if the funds for this record are for fiscal year 1998/99, then this record will hold the value 1999.\"\n",
    "* These aren't really programs, funds?"
   ]
  },
  {
   "cell_type": "code",
   "execution_count": null,
   "id": "ad1de057",
   "metadata": {},
   "outputs": [],
   "source": [
    "# del out '',\n",
    "awards = funding_w_program_info[['ctips_id','line_year', 'program', 'progdesc']]"
   ]
  },
  {
   "cell_type": "code",
   "execution_count": null,
   "id": "a72549b8",
   "metadata": {},
   "outputs": [],
   "source": [
    "# Just drop dups across\n",
    "awards2 = awards.drop_duplicates().reset_index(drop = True)"
   ]
  },
  {
   "cell_type": "code",
   "execution_count": null,
   "id": "61a1af6d",
   "metadata": {},
   "outputs": [],
   "source": [
    "len(awards), len(awards2)"
   ]
  },
  {
   "cell_type": "code",
   "execution_count": null,
   "id": "f097c6a1",
   "metadata": {},
   "outputs": [],
   "source": [
    "awards3 = awards2.sort_values(by = ['ctips_id','program','line_year', ], ascending = [False, False, False])"
   ]
  },
  {
   "cell_type": "code",
   "execution_count": null,
   "id": "cac91ddf",
   "metadata": {},
   "outputs": [],
   "source": [
    "awards4 = awards3.drop_duplicates(subset = ['ctips_id','program'])"
   ]
  },
  {
   "cell_type": "code",
   "execution_count": null,
   "id": "a0432be7",
   "metadata": {},
   "outputs": [],
   "source": [
    "awards4.ctips_id.nunique()"
   ]
  },
  {
   "cell_type": "markdown",
   "id": "aa1f49c7",
   "metadata": {},
   "source": [
    "#### Check w/ one project"
   ]
  },
  {
   "cell_type": "code",
   "execution_count": null,
   "id": "7f18800b",
   "metadata": {},
   "outputs": [],
   "source": [
    "awards4.loc[awards4.ctips_id == 20700001649]"
   ]
  },
  {
   "cell_type": "code",
   "execution_count": null,
   "id": "b617e2e2",
   "metadata": {},
   "outputs": [],
   "source": [
    "awards4.ctips_id.value_counts().describe()"
   ]
  },
  {
   "cell_type": "code",
   "execution_count": null,
   "id": "86ce6958",
   "metadata": {},
   "outputs": [],
   "source": [
    "awards4.ctips_id.value_counts().head(10)"
   ]
  },
  {
   "cell_type": "markdown",
   "id": "bfcbef3b",
   "metadata": {},
   "source": [
    "### Political"
   ]
  },
  {
   "cell_type": "code",
   "execution_count": null,
   "id": "64fdb135",
   "metadata": {},
   "outputs": [],
   "source": [
    "political_df = pd.read_sql_query(\"\"\" \n",
    "SELECT \n",
    "*\n",
    "FROM ctips.politcal\n",
    "\"\"\", engine) "
   ]
  },
  {
   "cell_type": "code",
   "execution_count": null,
   "id": "213b6fb2",
   "metadata": {},
   "outputs": [],
   "source": [
    "# Drop any rows with nulls\n",
    "political_df = political_df.dropna(how = \"any\")"
   ]
  },
  {
   "cell_type": "code",
   "execution_count": null,
   "id": "72a5a479",
   "metadata": {},
   "outputs": [],
   "source": [
    "len(political_df), political_df.projectid.nunique()"
   ]
  },
  {
   "cell_type": "code",
   "execution_count": null,
   "id": "d1803ed1",
   "metadata": {},
   "outputs": [],
   "source": [
    "political_df2 = pd.merge(projects_table[['ctips_id', 'projectid']], political_df, on ='projectid', how = 'inner')"
   ]
  },
  {
   "cell_type": "code",
   "execution_count": null,
   "id": "255d2632",
   "metadata": {},
   "outputs": [],
   "source": [
    "political_df2.shape, political_df2.projectid.nunique(), political_df2.ctips_id.nunique()"
   ]
  },
  {
   "cell_type": "code",
   "execution_count": null,
   "id": "4c82da13",
   "metadata": {},
   "outputs": [],
   "source": [
    "assembly_df = _csis_utils.clean_political(political_df2, 'assembly')"
   ]
  },
  {
   "cell_type": "code",
   "execution_count": null,
   "id": "e50d89e2",
   "metadata": {},
   "outputs": [],
   "source": [
    "assembly_df.ctips_id.value_counts().head()"
   ]
  },
  {
   "cell_type": "code",
   "execution_count": null,
   "id": "bee119a4",
   "metadata": {},
   "outputs": [],
   "source": [
    "len(assembly_df), assembly_df.ctips_id.nunique()"
   ]
  },
  {
   "cell_type": "code",
   "execution_count": null,
   "id": "fcf9bf50",
   "metadata": {},
   "outputs": [],
   "source": [
    "senate_df = _csis_utils.clean_political(political_df2, 'ssenate')"
   ]
  },
  {
   "cell_type": "code",
   "execution_count": null,
   "id": "17342cee",
   "metadata": {},
   "outputs": [],
   "source": [
    "len(senate_df), senate_df.ctips_id.nunique()"
   ]
  },
  {
   "cell_type": "code",
   "execution_count": null,
   "id": "68b8dfad",
   "metadata": {},
   "outputs": [],
   "source": [
    "ushouse_df = _csis_utils.clean_political(political_df2, 'ushouse')"
   ]
  },
  {
   "cell_type": "code",
   "execution_count": null,
   "id": "f3544571",
   "metadata": {},
   "outputs": [],
   "source": [
    "len(ushouse_df), ushouse_df.ctips_id.nunique()"
   ]
  },
  {
   "cell_type": "code",
   "execution_count": null,
   "id": "e8e691a7",
   "metadata": {},
   "outputs": [],
   "source": [
    "ushouse_df.ushouse.value_counts().head()"
   ]
  },
  {
   "cell_type": "markdown",
   "id": "47eabb6b",
   "metadata": {},
   "source": [
    "#### Double check"
   ]
  },
  {
   "cell_type": "code",
   "execution_count": null,
   "id": "04e78325",
   "metadata": {
    "scrolled": true
   },
   "outputs": [],
   "source": [
    "assembly_df.loc[assembly_df.ctips_id == 10900000289]"
   ]
  },
  {
   "cell_type": "code",
   "execution_count": null,
   "id": "7004ee3e",
   "metadata": {},
   "outputs": [],
   "source": [
    "political_df2.loc[political_df2.ctips_id == 10900000289]"
   ]
  },
  {
   "cell_type": "code",
   "execution_count": null,
   "id": "37c0dbed",
   "metadata": {},
   "outputs": [],
   "source": [
    "# projects_table.loc[projects_table.ctips_id == 10900000289]"
   ]
  },
  {
   "cell_type": "markdown",
   "id": "ad80b2a3",
   "metadata": {},
   "source": [
    "## Save to Excel"
   ]
  },
  {
   "cell_type": "code",
   "execution_count": null,
   "id": "92f40d60",
   "metadata": {},
   "outputs": [],
   "source": [
    "district_df = projects_table[['ctips_id','districtid']]"
   ]
  },
  {
   "cell_type": "code",
   "execution_count": null,
   "id": "44dffbd4",
   "metadata": {},
   "outputs": [],
   "source": [
    "district_df.shape"
   ]
  },
  {
   "cell_type": "code",
   "execution_count": null,
   "id": "5bce6c35",
   "metadata": {},
   "outputs": [],
   "source": [
    "drop_cols = ['chg_offcl', 'chg_qual1', 'chg_qual2','districtid', 'appdate', 'version','projcomp_date', 'agencyid', 'projectid', 'archive', 'agency_name']"
   ]
  },
  {
   "cell_type": "code",
   "execution_count": null,
   "id": "f02570b6",
   "metadata": {},
   "outputs": [],
   "source": [
    "projects_table2 = projects_table.drop(columns = drop_cols)"
   ]
  },
  {
   "cell_type": "code",
   "execution_count": null,
   "id": "ad6b4a4d",
   "metadata": {},
   "outputs": [],
   "source": [
    "projects_table2 = projects_table2.fillna(projects_table2.dtypes.replace({'float64': 0.0, 'object': 'None'}))"
   ]
  },
  {
   "cell_type": "code",
   "execution_count": null,
   "id": "2a744d61",
   "metadata": {},
   "outputs": [],
   "source": [
    "district_df = district_df.fillna(district_df.dtypes.replace({'float64': 0.0, 'object': 'None'}))"
   ]
  },
  {
   "cell_type": "code",
   "execution_count": null,
   "id": "a2d0c463",
   "metadata": {},
   "outputs": [],
   "source": [
    "county_df = county_df.fillna(county_df.dtypes.replace({'float64': 0.0, 'object': 'None'}))"
   ]
  },
  {
   "cell_type": "code",
   "execution_count": null,
   "id": "222b8008",
   "metadata": {},
   "outputs": [],
   "source": [
    "final_phase_funding_table3 = final_phase_funding_table3.fillna(district_df.dtypes.replace({'float64': 0.0, 'object': 'None'}))"
   ]
  },
  {
   "cell_type": "code",
   "execution_count": null,
   "id": "5379ff1a",
   "metadata": {},
   "outputs": [],
   "source": [
    "awards4 = awards4.fillna(awards4.dtypes.replace({'float64': 0.0, 'object': 'None'}))"
   ]
  },
  {
   "cell_type": "code",
   "execution_count": null,
   "id": "937bb1c2",
   "metadata": {},
   "outputs": [],
   "source": [
    "ushouse_df = ushouse_df.fillna(ushouse_df.dtypes.replace({'float64': 0.0, 'object': 'None'}))"
   ]
  },
  {
   "cell_type": "code",
   "execution_count": null,
   "id": "8dd2887f",
   "metadata": {},
   "outputs": [],
   "source": [
    "senate_df = senate_df.fillna(senate_df.dtypes.replace({'float64': 0.0, 'object': 'None'}))"
   ]
  },
  {
   "cell_type": "code",
   "execution_count": null,
   "id": "da0a38bb",
   "metadata": {},
   "outputs": [],
   "source": [
    "assembly_df = assembly_df.fillna(assembly_df.dtypes.replace({'float64': 0.0, 'object': 'None'}))"
   ]
  },
  {
   "cell_type": "code",
   "execution_count": null,
   "id": "62c0de04",
   "metadata": {},
   "outputs": [],
   "source": [
    "assembly_df.ctips_id.nunique(), awards4.ctips_id.nunique()"
   ]
  },
  {
   "cell_type": "code",
   "execution_count": null,
   "id": "a69f8ca3",
   "metadata": {},
   "outputs": [],
   "source": [
    "final_phase_funding_table3.ctips_id.nunique()"
   ]
  },
  {
   "cell_type": "code",
   "execution_count": null,
   "id": "9630eae9",
   "metadata": {},
   "outputs": [],
   "source": [
    "county_df.ctips_id.nunique()"
   ]
  },
  {
   "cell_type": "code",
   "execution_count": null,
   "id": "a9a78326",
   "metadata": {},
   "outputs": [],
   "source": [
    "district_df.ctips_id.nunique()"
   ]
  },
  {
   "cell_type": "code",
   "execution_count": null,
   "id": "ccaf0763",
   "metadata": {},
   "outputs": [],
   "source": [
    "\n",
    "with pd.ExcelWriter(\"./CTIPS.xlsx\") as writer:\n",
    "    projects_table2.to_excel(writer, sheet_name=\"project\", index=False)\n",
    "    district_df.to_excel(writer, sheet_name=\"district\", index=False)\n",
    "    county_df.to_excel(writer, sheet_name=\"county\", index=False)\n",
    "    final_phase_funding_table3.to_excel(writer, sheet_name=\"phase_funding\", index=False)\n",
    "    awards4.to_excel(writer, sheet_name=\"awards\", index=False)\n",
    "    ushouse_df.to_excel(writer, sheet_name=\"us_house\", index=False)\n",
    "    senate_df.to_excel(writer, sheet_name=\"senate\", index=False)\n",
    "    assembly_df.to_excel(writer, sheet_name=\"assembly\", index=False)\n"
   ]
  }
 ],
 "metadata": {
  "kernelspec": {
   "display_name": "Python 3 (ipykernel)",
   "language": "python",
   "name": "python3"
  },
  "language_info": {
   "codemirror_mode": {
    "name": "ipython",
    "version": 3
   },
   "file_extension": ".py",
   "mimetype": "text/x-python",
   "name": "python",
   "nbconvert_exporter": "python",
   "pygments_lexer": "ipython3",
   "version": "3.9.13"
  }
 },
 "nbformat": 4,
 "nbformat_minor": 5
}
