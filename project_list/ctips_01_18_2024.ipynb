{
 "cells": [
  {
   "cell_type": "markdown",
   "id": "1b222a19",
   "metadata": {},
   "source": [
    "## CTIPS\n",
    "* https://ctips-prod.dot.ca.gov/ctips/LoginMediatorForm.do\n",
    "\n",
    "### To do\n",
    "* Ask if DSHOPP means draft SHOPP project\n",
    "* PROJSCHE - not a lot of matches"
   ]
  },
  {
   "cell_type": "code",
   "execution_count": null,
   "id": "75094621",
   "metadata": {},
   "outputs": [],
   "source": [
    "import pandas as pd \n",
    "import sqlalchemy \n",
    "import sys \n",
    "import re\n",
    "import oracledb "
   ]
  },
  {
   "cell_type": "code",
   "execution_count": null,
   "id": "94838472",
   "metadata": {},
   "outputs": [],
   "source": [
    "oracledb.version = \"8.3.0\" \n",
    "sys.modules[\"cx_Oracle\"] = oracledb "
   ]
  },
  {
   "cell_type": "code",
   "execution_count": null,
   "id": "a4a53471",
   "metadata": {},
   "outputs": [],
   "source": [
    "pd.options.display.max_columns = 100\n",
    "pd.options.display.float_format = \"{:.2f}\".format\n",
    "pd.set_option(\"display.max_rows\", None)\n",
    "pd.set_option(\"display.max_colwidth\", None)"
   ]
  },
  {
   "cell_type": "code",
   "execution_count": null,
   "id": "90056c61",
   "metadata": {},
   "outputs": [],
   "source": [
    "\n",
    "ENGINE_PATH_WIN_AUTH =  f\"{DIALECT}://{USERNAME}:{PASSWORD}@{HOST}:{PORT}/?service_name={SERVICE}\" "
   ]
  },
  {
   "cell_type": "code",
   "execution_count": null,
   "id": "ee70eded",
   "metadata": {},
   "outputs": [],
   "source": [
    "engine = sqlalchemy.create_engine(ENGINE_PATH_WIN_AUTH)   "
   ]
  },
  {
   "cell_type": "code",
   "execution_count": null,
   "id": "6665d753",
   "metadata": {},
   "outputs": [],
   "source": [
    "def to_snakecase(df):\n",
    "    df.columns = df.columns.str.lower().str.replace(' ','_')\n",
    "    return df"
   ]
  },
  {
   "cell_type": "markdown",
   "id": "b429d5f5",
   "metadata": {},
   "source": [
    "### Project\n",
    "Project.agencyid = project sponsor\n",
    "\n",
    "Implpaed = Implementing Agency for PA&ED\n",
    "\n",
    "Implpse = Implementing Agency for PS&E\n",
    "\n",
    "implcon = Implementing Agency for Construction\n",
    "\n",
    "implrw = Implementing Agency for Right of Way\n"
   ]
  },
  {
   "cell_type": "code",
   "execution_count": null,
   "id": "697a0653",
   "metadata": {},
   "outputs": [],
   "source": [
    "projects_df = pd.read_sql_query(\"\"\" \n",
    "SELECT \n",
    "appdate, \n",
    "archive,\n",
    "agencyid,\n",
    "bond99,\n",
    "cmia,\n",
    "ctips_id,\n",
    "const_date,\n",
    "countyid,\n",
    "countyid2,\n",
    "countyid3,\n",
    "chg_offcl,\n",
    "chg_qual1,\n",
    "chg_qual2,\n",
    "districtid,\n",
    "document,\n",
    "docyear,\n",
    "ea_number,\n",
    "high_ver,\n",
    "high_offcl,\n",
    "implpaed, \n",
    "implpse, \n",
    "implrw, \n",
    "implcon, \n",
    "lupdate, \n",
    "needpurpose,\n",
    "progcode1,\n",
    "ppno,\n",
    "proj_desc,\n",
    "postmiles1,\n",
    "pm1b,\n",
    "pm2b,\n",
    "pm3b,\n",
    "pm1a,\n",
    "pm2a,\n",
    "pm3a,\n",
    "projcomp_date,\n",
    "projectid,\n",
    "route1,\n",
    "route2,\n",
    "route3,\n",
    "rtl,\n",
    "stip,\n",
    "shopp,\n",
    "title,\n",
    "tcif,\n",
    "tcrpno,\n",
    "tcrp,\n",
    "urbanid,\n",
    "version\n",
    "FROM ctips.project\n",
    "\"\"\", engine) "
   ]
  },
  {
   "cell_type": "code",
   "execution_count": null,
   "id": "485deb02",
   "metadata": {},
   "outputs": [],
   "source": [
    "projects_df.shape"
   ]
  },
  {
   "cell_type": "code",
   "execution_count": null,
   "id": "56598a58",
   "metadata": {},
   "outputs": [],
   "source": [
    "projects_df.projectid.nunique()"
   ]
  },
  {
   "cell_type": "code",
   "execution_count": null,
   "id": "db0c7bb6",
   "metadata": {},
   "outputs": [],
   "source": [
    "projects_df.ctips_id.nunique()"
   ]
  },
  {
   "cell_type": "markdown",
   "id": "a1f4609c",
   "metadata": {},
   "source": [
    "### A bit of cleaning"
   ]
  },
  {
   "cell_type": "code",
   "execution_count": null,
   "id": "1295f8de",
   "metadata": {},
   "outputs": [],
   "source": [
    "projects_df = projects_df.fillna(projects_df.dtypes.replace({'float64': 0.0, 'object': 'None', 'int64': 0}))"
   ]
  },
  {
   "cell_type": "code",
   "execution_count": null,
   "id": "cd3800ae",
   "metadata": {},
   "outputs": [],
   "source": [
    "string_cols = [col for col in projects_df.columns if projects_df[col].dtype == 'object']"
   ]
  },
  {
   "cell_type": "code",
   "execution_count": null,
   "id": "51ef6caf",
   "metadata": {},
   "outputs": [],
   "source": [
    "string_cols = [\n",
    " 'needpurpose',\n",
    " 'proj_desc',\n",
    " 'route1',\n",
    " 'title']"
   ]
  },
  {
   "cell_type": "code",
   "execution_count": null,
   "id": "8c069d0d",
   "metadata": {},
   "outputs": [],
   "source": [
    "for i in string_cols:\n",
    "        projects_df[i] = projects_df[i].str.title().str.lstrip().str.rstrip()\n",
    "        projects_df[i] = projects_df[i].replace(r'\\s+', ' ', regex=True)"
   ]
  },
  {
   "cell_type": "markdown",
   "id": "3a47796d",
   "metadata": {},
   "source": [
    "### 1 row = 1 project \n",
    "* Some projects don't have a high version?"
   ]
  },
  {
   "cell_type": "code",
   "execution_count": null,
   "id": "665641c4",
   "metadata": {},
   "outputs": [],
   "source": [
    "projects_df2 = projects_df.sort_values(by = ['high_offcl', 'high_ver','archive'], ascending = [False, False, False])"
   ]
  },
  {
   "cell_type": "code",
   "execution_count": null,
   "id": "a800db0c",
   "metadata": {},
   "outputs": [],
   "source": [
    "# Drop projects by ctips_id\n",
    "projects_df3 = projects_df2.drop_duplicates(subset = ['ctips_id'])"
   ]
  },
  {
   "cell_type": "code",
   "execution_count": null,
   "id": "d1e5c25e",
   "metadata": {},
   "outputs": [],
   "source": [
    "# Filter out projects that are finished\n",
    "projects_df3 = projects_df3.loc[projects_df3.archive == 0]"
   ]
  },
  {
   "cell_type": "code",
   "execution_count": null,
   "id": "83d42e8a",
   "metadata": {},
   "outputs": [],
   "source": [
    "projects_df3.ctips_id.nunique()"
   ]
  },
  {
   "cell_type": "code",
   "execution_count": null,
   "id": "3cee0056",
   "metadata": {},
   "outputs": [],
   "source": [
    "# Filter out any rows where chg_qual1==7 because those are projects that are deleted\n",
    "projects_df3 = projects_df3[projects_df3.chg_qual1 != 7]"
   ]
  },
  {
   "cell_type": "code",
   "execution_count": null,
   "id": "afe30974",
   "metadata": {},
   "outputs": [],
   "source": [
    "len(projects_df3)"
   ]
  },
  {
   "cell_type": "markdown",
   "id": "9be1132f",
   "metadata": {},
   "source": [
    "#### Ask if DSHOPP means draft shopp?"
   ]
  },
  {
   "cell_type": "code",
   "execution_count": null,
   "id": "1de0e049",
   "metadata": {},
   "outputs": [],
   "source": [
    "projects_df3.document.unique()"
   ]
  },
  {
   "cell_type": "markdown",
   "id": "190d2323",
   "metadata": {},
   "source": [
    "### PROJSCHE"
   ]
  },
  {
   "cell_type": "code",
   "execution_count": null,
   "id": "2ea89922",
   "metadata": {},
   "outputs": [],
   "source": [
    "projsche_df = pd.read_sql_query(\"\"\" \n",
    "SELECT \n",
    "projectid,\n",
    "m020 AS pa_ed_begin,\n",
    "m200a AS pa_ed_end,\n",
    "m200b AS ps_e_begin,\n",
    "m224 AS begin_row,\n",
    "m410 AS end_row,\n",
    "m500 AS con_start_date,\n",
    "m600 AS con_end_date,\n",
    "m700 AS begin_closeout,\n",
    "m800 AS end_closeout\n",
    "FROM ctips.projsche\n",
    "\"\"\", engine) "
   ]
  },
  {
   "cell_type": "code",
   "execution_count": null,
   "id": "ff9fd013",
   "metadata": {},
   "outputs": [],
   "source": [
    "projsche_df.shape"
   ]
  },
  {
   "cell_type": "code",
   "execution_count": null,
   "id": "9d335f70",
   "metadata": {},
   "outputs": [],
   "source": [
    "projsche_df.info()"
   ]
  },
  {
   "cell_type": "code",
   "execution_count": null,
   "id": "1a9ee8aa",
   "metadata": {},
   "outputs": [],
   "source": [
    "projsche_drop_cols = list(projsche_df.columns)"
   ]
  },
  {
   "cell_type": "code",
   "execution_count": null,
   "id": "d6a08152",
   "metadata": {},
   "outputs": [],
   "source": [
    "projsche_drop_cols.remove('projectid')"
   ]
  },
  {
   "cell_type": "code",
   "execution_count": null,
   "id": "cc2beec3",
   "metadata": {},
   "outputs": [],
   "source": [
    "# I want to drop the rows in which ALL values in the date columns are empty\n",
    "projsche_df2 = projsche_df.dropna(how = \"all\", subset = projsche_drop_cols).reset_index(drop = True)"
   ]
  },
  {
   "cell_type": "code",
   "execution_count": null,
   "id": "bb3109a9",
   "metadata": {},
   "outputs": [],
   "source": [
    "len(projsche_df2), len(projsche_df)"
   ]
  },
  {
   "cell_type": "code",
   "execution_count": null,
   "id": "4ab6a530",
   "metadata": {},
   "outputs": [],
   "source": [
    "projsche_df2.projectid.nunique()"
   ]
  },
  {
   "cell_type": "code",
   "execution_count": null,
   "id": "e4c93886",
   "metadata": {},
   "outputs": [],
   "source": [
    "projsche_df2.info()"
   ]
  },
  {
   "cell_type": "markdown",
   "id": "b36bd39b",
   "metadata": {},
   "source": [
    "#### Not a lot of matching values"
   ]
  },
  {
   "cell_type": "code",
   "execution_count": null,
   "id": "b323c658",
   "metadata": {},
   "outputs": [],
   "source": [
    "pd.merge(projsche_df2, projects_df3, on ='projectid', how = 'outer', indicator = True)[['_merge']].value_counts()"
   ]
  },
  {
   "cell_type": "code",
   "execution_count": null,
   "id": "724cb2bf",
   "metadata": {},
   "outputs": [],
   "source": [
    "pd.merge(projsche_df, projects_df3, on ='projectid', how = 'outer', indicator = True)[['_merge']].value_counts()"
   ]
  },
  {
   "cell_type": "code",
   "execution_count": null,
   "id": "a590548b",
   "metadata": {},
   "outputs": [],
   "source": [
    "m1 = pd.merge(projects_df3, projsche_df2,  on ='projectid', how = 'left')"
   ]
  },
  {
   "cell_type": "markdown",
   "id": "afdceff8",
   "metadata": {},
   "source": [
    "### AGENCY"
   ]
  },
  {
   "cell_type": "code",
   "execution_count": null,
   "id": "f3e0d05b",
   "metadata": {
    "scrolled": true
   },
   "outputs": [],
   "source": [
    "agency_df = pd.read_sql_query(\"\"\" \n",
    "SELECT \n",
    "name AS agency_name,\n",
    "agencyid\n",
    "FROM ctips.agncy\n",
    "\"\"\", engine) "
   ]
  },
  {
   "cell_type": "code",
   "execution_count": null,
   "id": "be3c31ba",
   "metadata": {},
   "outputs": [],
   "source": [
    "pd.merge(m1, agency_df, on ='agencyid', how = 'outer', indicator = True)[['_merge']].value_counts()"
   ]
  },
  {
   "cell_type": "code",
   "execution_count": null,
   "id": "1fd05b1a",
   "metadata": {},
   "outputs": [],
   "source": [
    "m2 = pd.merge(m1, agency_df,  on ='agencyid', how = 'left')"
   ]
  },
  {
   "cell_type": "code",
   "execution_count": null,
   "id": "edd6dcd3",
   "metadata": {},
   "outputs": [],
   "source": [
    "agency_cols = ['agencyid', 'agency_name', 'implpaed', 'implpse', 'implrw', 'implcon']"
   ]
  },
  {
   "cell_type": "code",
   "execution_count": null,
   "id": "4c67a81d",
   "metadata": {},
   "outputs": [],
   "source": [
    "m2.loc[m2.implpaed != \"None\"][agency_cols].sample()"
   ]
  },
  {
   "cell_type": "code",
   "execution_count": null,
   "id": "0ceb0a3b",
   "metadata": {},
   "outputs": [],
   "source": [
    "m2.loc[m2.implrw != \"None\"][agency_cols].head()"
   ]
  },
  {
   "cell_type": "markdown",
   "id": "474ae25f",
   "metadata": {},
   "source": [
    "### COUNTY"
   ]
  },
  {
   "cell_type": "code",
   "execution_count": null,
   "id": "cfb16bcf",
   "metadata": {},
   "outputs": [],
   "source": [
    "county_df = pd.read_sql_query(\"\"\" \n",
    "SELECT \n",
    "name AS county_name,\n",
    "countyid\n",
    "FROM ctips.county\n",
    "\"\"\", engine) "
   ]
  },
  {
   "cell_type": "code",
   "execution_count": null,
   "id": "a04fc040",
   "metadata": {},
   "outputs": [],
   "source": [
    "m3 = pd.merge(m2, county_df,  on ='countyid', how = 'left')"
   ]
  },
  {
   "cell_type": "code",
   "execution_count": null,
   "id": "a8a21f03",
   "metadata": {},
   "outputs": [],
   "source": [
    "m3.sample()"
   ]
  },
  {
   "cell_type": "markdown",
   "id": "b53cb205",
   "metadata": {},
   "source": [
    "### FUNDLINE\n",
    "* For action: Action: P = programmed, V= vote, A=award"
   ]
  },
  {
   "cell_type": "code",
   "execution_count": null,
   "id": "b6b5c018",
   "metadata": {},
   "outputs": [],
   "source": [
    "fundline_df = pd.read_sql_query(\"\"\" \n",
    "SELECT \n",
    "action,\n",
    "con,\n",
    "rw,\n",
    "pe_paed,\n",
    "pe_env,\n",
    "pe_rw,\n",
    "pe_con,\n",
    "pe_total,\n",
    "fundlineid,\n",
    "fundtypeid,\n",
    "line_year,\n",
    "actiondate\n",
    "FROM ctips.fundline\n",
    "\"\"\", engine) "
   ]
  },
  {
   "cell_type": "code",
   "execution_count": null,
   "id": "60fdfd34",
   "metadata": {},
   "outputs": [],
   "source": [
    "fundline_df.fundlineid.nunique()"
   ]
  },
  {
   "cell_type": "code",
   "execution_count": null,
   "id": "db97ac33",
   "metadata": {},
   "outputs": [],
   "source": [
    "fundline_df.fundlineid.value_counts().head()"
   ]
  },
  {
   "cell_type": "code",
   "execution_count": null,
   "id": "276178ce",
   "metadata": {},
   "outputs": [],
   "source": [
    "fundline_df.fundtypeid.nunique()"
   ]
  },
  {
   "cell_type": "code",
   "execution_count": null,
   "id": "89337dbb",
   "metadata": {},
   "outputs": [],
   "source": [
    "fundline_df.fundtypeid.value_counts().sample(5)"
   ]
  },
  {
   "cell_type": "code",
   "execution_count": null,
   "id": "904088cb",
   "metadata": {},
   "outputs": [],
   "source": [
    "len(fundline_df)"
   ]
  },
  {
   "cell_type": "code",
   "execution_count": null,
   "id": "5045315e",
   "metadata": {},
   "outputs": [],
   "source": [
    "fundline_df.action.value_counts()"
   ]
  },
  {
   "cell_type": "code",
   "execution_count": null,
   "id": "818684a9",
   "metadata": {},
   "outputs": [],
   "source": [
    "fundline_df.loc[fundline_df.fundtypeid == 20700009194]"
   ]
  },
  {
   "cell_type": "markdown",
   "id": "e2407ba7",
   "metadata": {},
   "source": [
    "### Fundtype\n",
    "* Fundtype.agencyid = funding agency"
   ]
  },
  {
   "cell_type": "code",
   "execution_count": null,
   "id": "f4efe574",
   "metadata": {},
   "outputs": [],
   "source": [
    "fundtype_df = pd.read_sql_query(\"\"\" \n",
    "SELECT \n",
    "fundtypeid,\n",
    "fundid,\n",
    "progcode,\n",
    "programid,\n",
    "projectid,\n",
    "agencyid\n",
    "FROM ctips.fundtype\n",
    "\"\"\", engine) "
   ]
  },
  {
   "cell_type": "code",
   "execution_count": null,
   "id": "3efede49",
   "metadata": {},
   "outputs": [],
   "source": [
    "fundtype_df.shape"
   ]
  },
  {
   "cell_type": "code",
   "execution_count": null,
   "id": "a3633eac",
   "metadata": {},
   "outputs": [],
   "source": [
    "fundtype_df.fundid.nunique()"
   ]
  },
  {
   "cell_type": "code",
   "execution_count": null,
   "id": "425a034a",
   "metadata": {},
   "outputs": [],
   "source": [
    "fundtype_df.projectid.nunique()"
   ]
  },
  {
   "cell_type": "code",
   "execution_count": null,
   "id": "048155d8",
   "metadata": {},
   "outputs": [],
   "source": [
    "fundtype_df.fundtypeid.nunique()"
   ]
  },
  {
   "cell_type": "code",
   "execution_count": null,
   "id": "b80d227f",
   "metadata": {},
   "outputs": [],
   "source": [
    "fundtype_df.fundtypeid.value_counts().head()"
   ]
  },
  {
   "cell_type": "markdown",
   "id": "6784b287",
   "metadata": {},
   "source": [
    "### Do the merges\n",
    "#### Merge fundtype and fundline"
   ]
  },
  {
   "cell_type": "code",
   "execution_count": null,
   "id": "5c042959",
   "metadata": {},
   "outputs": [],
   "source": [
    "pd.merge(fundtype_df,\n",
    "         fundline_df,  \n",
    "         on = ['fundtypeid'], \n",
    "         how = \"outer\",\n",
    "         indicator = True,)[['_merge']].value_counts()"
   ]
  },
  {
   "cell_type": "code",
   "execution_count": null,
   "id": "121320f8",
   "metadata": {},
   "outputs": [],
   "source": [
    "fund_m1 = pd.merge(fundtype_df,fundline_df,  on = ['fundtypeid'], how = \"left\")"
   ]
  },
  {
   "cell_type": "code",
   "execution_count": null,
   "id": "0c52d768",
   "metadata": {},
   "outputs": [],
   "source": [
    "len(fund_m1)"
   ]
  },
  {
   "cell_type": "code",
   "execution_count": null,
   "id": "567fa3bf",
   "metadata": {},
   "outputs": [],
   "source": [
    "fund_m1.head()"
   ]
  },
  {
   "cell_type": "code",
   "execution_count": null,
   "id": "dfc1128b",
   "metadata": {},
   "outputs": [],
   "source": [
    "fund_m1.projectid.nunique(), fund_m1.fundtypeid.nunique()"
   ]
  },
  {
   "cell_type": "code",
   "execution_count": null,
   "id": "a03c9f1f",
   "metadata": {},
   "outputs": [],
   "source": [
    "fund_m1.fundtypeid.value_counts().head()"
   ]
  },
  {
   "cell_type": "code",
   "execution_count": null,
   "id": "f54aa5aa",
   "metadata": {},
   "outputs": [],
   "source": [
    "fund_m1.action.value_counts()"
   ]
  },
  {
   "cell_type": "markdown",
   "id": "bd6ec50d",
   "metadata": {},
   "source": [
    "#### Merge subset of project with the merge above"
   ]
  },
  {
   "cell_type": "code",
   "execution_count": null,
   "id": "ae18d23b",
   "metadata": {},
   "outputs": [],
   "source": [
    "project_preview = ['ctips_id','projectid', 'high_ver', 'high_offcl']"
   ]
  },
  {
   "cell_type": "code",
   "execution_count": null,
   "id": "23be17fd",
   "metadata": {},
   "outputs": [],
   "source": [
    "fundtype_m2 = pd.merge(m3[project_preview], fund_m1, on = ['projectid'], how = \"inner\")"
   ]
  },
  {
   "cell_type": "code",
   "execution_count": null,
   "id": "71a47b1f",
   "metadata": {},
   "outputs": [],
   "source": [
    "fundtype_m2.projectid.value_counts().head()"
   ]
  },
  {
   "cell_type": "code",
   "execution_count": null,
   "id": "bb4336cd",
   "metadata": {},
   "outputs": [],
   "source": [
    "fundtype_m2.projectid.value_counts().describe()"
   ]
  },
  {
   "cell_type": "code",
   "execution_count": null,
   "id": "94b9fffe",
   "metadata": {},
   "outputs": [],
   "source": [
    "project_preview = project_preview + ['title']"
   ]
  },
  {
   "cell_type": "code",
   "execution_count": null,
   "id": "5be904f1",
   "metadata": {},
   "outputs": [],
   "source": [
    "fundtype_m2.columns"
   ]
  },
  {
   "cell_type": "markdown",
   "id": "8fd26495",
   "metadata": {},
   "source": [
    "#### Aggregate"
   ]
  },
  {
   "cell_type": "code",
   "execution_count": null,
   "id": "02e40aaa",
   "metadata": {},
   "outputs": [],
   "source": [
    "columns_to_agg = {**dict.fromkeys(['con', 'rw',\n",
    "       'pe_paed', 'pe_env', 'pe_rw', 'pe_con', 'pe_total'], 'sum')}\n"
   ]
  },
  {
   "cell_type": "code",
   "execution_count": null,
   "id": "e34d14de",
   "metadata": {},
   "outputs": [],
   "source": [
    "columns_to_agg"
   ]
  },
  {
   "cell_type": "code",
   "execution_count": null,
   "id": "f527e5f2",
   "metadata": {},
   "outputs": [],
   "source": [
    "total_cost = fundtype_m2.groupby(['ctips_id','fundid','progcode','programid']).agg(columns_to_agg).reset_index()"
   ]
  },
  {
   "cell_type": "code",
   "execution_count": null,
   "id": "ab78b69c",
   "metadata": {},
   "outputs": [],
   "source": [
    "total_cost.sample(3)"
   ]
  },
  {
   "cell_type": "code",
   "execution_count": null,
   "id": "c588a4fc",
   "metadata": {},
   "outputs": [],
   "source": [
    "total_cost.con.describe()"
   ]
  },
  {
   "cell_type": "code",
   "execution_count": null,
   "id": "1b3f6c66",
   "metadata": {},
   "outputs": [],
   "source": [
    "total_cost.ctips_id.value_counts().head()"
   ]
  },
  {
   "cell_type": "code",
   "execution_count": null,
   "id": "f5db3516",
   "metadata": {},
   "outputs": [],
   "source": [
    "len(total_cost), total_cost.ctips_id.nunique()"
   ]
  },
  {
   "cell_type": "code",
   "execution_count": null,
   "id": "fbd926f7",
   "metadata": {},
   "outputs": [],
   "source": [
    "total_cost.loc[total_cost.ctips_id == 20600003977]"
   ]
  },
  {
   "cell_type": "markdown",
   "id": "710e214f",
   "metadata": {},
   "source": [
    "### Progmain"
   ]
  },
  {
   "cell_type": "code",
   "execution_count": null,
   "id": "9afe9c87",
   "metadata": {},
   "outputs": [],
   "source": [
    "progmain_df = pd.read_sql_query(\"\"\" \n",
    "SELECT \n",
    "programid,\n",
    "category AS program\n",
    "FROM ctips.progmain\n",
    "\"\"\", engine) "
   ]
  },
  {
   "cell_type": "code",
   "execution_count": null,
   "id": "fea4fa65",
   "metadata": {},
   "outputs": [],
   "source": [
    "progmain_df.head()"
   ]
  },
  {
   "cell_type": "markdown",
   "id": "8c5a0735",
   "metadata": {},
   "source": [
    "### Fund"
   ]
  },
  {
   "cell_type": "code",
   "execution_count": null,
   "id": "df1da657",
   "metadata": {},
   "outputs": [],
   "source": [
    "fund_df = pd.read_sql_query(\"\"\" \n",
    "SELECT \n",
    "fund,\n",
    "fundid\n",
    "FROM ctips.fund\n",
    "\"\"\", engine) "
   ]
  },
  {
   "cell_type": "markdown",
   "id": "b8971e64",
   "metadata": {},
   "source": [
    "### Progsub"
   ]
  },
  {
   "cell_type": "code",
   "execution_count": null,
   "id": "32dda1ed",
   "metadata": {},
   "outputs": [],
   "source": [
    "progsub_df = pd.read_sql_query(\"\"\" \n",
    "SELECT \n",
    "progcode,\n",
    "progdesc\n",
    "FROM ctips.progsub\n",
    "\"\"\", engine) "
   ]
  },
  {
   "cell_type": "code",
   "execution_count": null,
   "id": "eb703a9c",
   "metadata": {},
   "outputs": [],
   "source": [
    "progsub_df.head(1)"
   ]
  },
  {
   "cell_type": "code",
   "execution_count": null,
   "id": "87344fdc",
   "metadata": {},
   "outputs": [],
   "source": [
    "progsub_df.shape"
   ]
  },
  {
   "cell_type": "code",
   "execution_count": null,
   "id": "dced772d",
   "metadata": {},
   "outputs": [],
   "source": [
    "progsub_df.progcode.nunique()"
   ]
  },
  {
   "cell_type": "code",
   "execution_count": null,
   "id": "8d9fe332",
   "metadata": {},
   "outputs": [],
   "source": [
    "double_ids = ['20.30.010.820',\n",
    "             '20.XX.723.000',\n",
    "            '20.30.010.810',\n",
    "             '20.XX.720.100',\n",
    "             '20.30.010.817',\n",
    "              '20.30.210.200'\n",
    "             ]"
   ]
  },
  {
   "cell_type": "code",
   "execution_count": null,
   "id": "2b9cb8e6",
   "metadata": {},
   "outputs": [],
   "source": [
    "progsub_df.loc[progsub_df.progcode.isin(double_ids)].sort_values('progcode')"
   ]
  },
  {
   "cell_type": "code",
   "execution_count": null,
   "id": "decf3559",
   "metadata": {},
   "outputs": [],
   "source": [
    "progsub_df2 = progsub_df.drop_duplicates(subset = ['progcode'])"
   ]
  },
  {
   "cell_type": "code",
   "execution_count": null,
   "id": "bf1cdbbe",
   "metadata": {},
   "outputs": [],
   "source": [
    "len(progsub_df)"
   ]
  },
  {
   "cell_type": "code",
   "execution_count": null,
   "id": "1a7e9af2",
   "metadata": {},
   "outputs": [],
   "source": [
    "len(progsub_df2)"
   ]
  },
  {
   "cell_type": "markdown",
   "id": "6da3af8c",
   "metadata": {},
   "source": [
    "#### Merge"
   ]
  },
  {
   "cell_type": "code",
   "execution_count": null,
   "id": "a945fa00",
   "metadata": {},
   "outputs": [],
   "source": [
    "final_fin_df = (total_cost.merge(progmain_df, on = ['programid'], how = \"left\")\n",
    "              .merge(fund_df, on =['fundid'], how = \"left\")\n",
    "              .merge(progsub_df2, on = ['progcode'], how = 'left'))"
   ]
  },
  {
   "cell_type": "code",
   "execution_count": null,
   "id": "21a2f425",
   "metadata": {},
   "outputs": [],
   "source": [
    "final_fin_df = final_fin_df.drop(columns = ['fundid', 'progcode','programid'])"
   ]
  },
  {
   "cell_type": "code",
   "execution_count": null,
   "id": "0289feb1",
   "metadata": {},
   "outputs": [],
   "source": [
    "final_fin_df.sample(3)"
   ]
  },
  {
   "cell_type": "code",
   "execution_count": null,
   "id": "83f92b9f",
   "metadata": {},
   "outputs": [],
   "source": [
    "final_fin_df.projectid.value_counts().head()"
   ]
  },
  {
   "cell_type": "code",
   "execution_count": null,
   "id": "355bbeb4",
   "metadata": {},
   "outputs": [],
   "source": [
    "final_fin_df.projectid.value_counts().head()"
   ]
  },
  {
   "cell_type": "markdown",
   "id": "227aa0b4",
   "metadata": {},
   "source": [
    "#### Find Total Cost\n",
    "##### CLARIFY FTIP projects have `pe_total` value so figure out how to find the ftip projects and sum those up"
   ]
  },
  {
   "cell_type": "code",
   "execution_count": null,
   "id": "d07114d8",
   "metadata": {},
   "outputs": [],
   "source": [
    "total_cost = final_fin_df.groupby(['ctips_id']).agg(columns_to_agg).reset_index()"
   ]
  },
  {
   "cell_type": "code",
   "execution_count": null,
   "id": "c72d2702",
   "metadata": {},
   "outputs": [],
   "source": [
    "# pe_test = total_cost.loc[(total_cost.pe_con != 0) & (total_cost.pe_env != 0) & (total_cost.pe_rw != 0) & (total_cost.pe_paed != 0)& (total_cost.pe_total != 0)]"
   ]
  },
  {
   "cell_type": "code",
   "execution_count": null,
   "id": "b4f913ca",
   "metadata": {},
   "outputs": [],
   "source": [
    "total_cost['total_cost'] = total_cost.con + total_cost.rw + total_cost.pe_paed + total_cost.pe_env + total_cost.pe_rw + total_cost.pe_con"
   ]
  },
  {
   "cell_type": "code",
   "execution_count": null,
   "id": "90d7e5c9",
   "metadata": {},
   "outputs": [],
   "source": [
    "# 6,638,471,000\n",
    "total_cost['total_cost'].describe()"
   ]
  },
  {
   "cell_type": "code",
   "execution_count": null,
   "id": "74e1fd2c",
   "metadata": {},
   "outputs": [],
   "source": [
    "total_cost.sort_values(by = ['total_cost'], ascending = False).head()"
   ]
  },
  {
   "cell_type": "code",
   "execution_count": null,
   "id": "b87393e7",
   "metadata": {},
   "outputs": [],
   "source": [
    "len(total_cost), total_cost.ctips_id.nunique()"
   ]
  },
  {
   "cell_type": "code",
   "execution_count": null,
   "id": "8679ed80",
   "metadata": {},
   "outputs": [],
   "source": [
    "len(m3), m3.ctips_id.nunique()"
   ]
  },
  {
   "cell_type": "markdown",
   "id": "45ac21f4",
   "metadata": {},
   "source": [
    "#### Agency name missing?"
   ]
  },
  {
   "cell_type": "code",
   "execution_count": null,
   "id": "79a85fc6",
   "metadata": {},
   "outputs": [],
   "source": [
    "m3.loc[m3.ctips_id == 20600002404]"
   ]
  },
  {
   "cell_type": "markdown",
   "id": "8f89fb4a",
   "metadata": {},
   "source": [
    "### Political"
   ]
  },
  {
   "cell_type": "code",
   "execution_count": null,
   "id": "a57b8486",
   "metadata": {},
   "outputs": [],
   "source": [
    "political_df = pd.read_sql_query(\"\"\" \n",
    "SELECT \n",
    "assembly01,\n",
    "ushouse01,\n",
    "ssenate01,\n",
    "projectid\n",
    "FROM ctips.politcal\n",
    "\"\"\", engine) \n",
    "# Drop any rows with nulls\n",
    "political_df = political_df.dropna(how = \"any\")"
   ]
  },
  {
   "cell_type": "code",
   "execution_count": null,
   "id": "ef3ebf38",
   "metadata": {},
   "outputs": [],
   "source": [
    "pd.merge(m3, political_df, on ='projectid', how = 'outer', indicator = True)[['_merge']].value_counts()"
   ]
  },
  {
   "cell_type": "code",
   "execution_count": null,
   "id": "909827fb",
   "metadata": {},
   "outputs": [],
   "source": [
    "m4 = pd.merge(m3, political_df, on ='projectid', how = 'left')"
   ]
  }
 ],
 "metadata": {
  "kernelspec": {
   "display_name": "Python 3 (ipykernel)",
   "language": "python",
   "name": "python3"
  },
  "language_info": {
   "codemirror_mode": {
    "name": "ipython",
    "version": 3
   },
   "file_extension": ".py",
   "mimetype": "text/x-python",
   "name": "python",
   "nbconvert_exporter": "python",
   "pygments_lexer": "ipython3",
   "version": "3.9.13"
  }
 },
 "nbformat": 4,
 "nbformat_minor": 5
}
