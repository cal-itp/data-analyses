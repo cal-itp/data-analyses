{
 "cells": [
  {
   "cell_type": "markdown",
   "id": "ec8f501a-adea-4a26-a123-b8813b11a7f8",
   "metadata": {},
   "source": [
    "## Long Range Transportation Plan"
   ]
  },
  {
   "cell_type": "code",
   "execution_count": 1,
   "id": "4d9c4625-d899-467f-822f-685ea519e37a",
   "metadata": {},
   "outputs": [
    {
     "name": "stderr",
     "output_type": "stream",
     "text": [
      "/opt/conda/lib/python3.9/site-packages/geopandas/_compat.py:123: UserWarning: The Shapely GEOS version (3.11.1-CAPI-1.17.1) is incompatible with the GEOS version PyGEOS was compiled with (3.10.1-CAPI-1.16.0). Conversions between both will be slow.\n",
      "  warnings.warn(\n",
      "/home/jovyan/data-analyses/project_list/_sb1_utils.py:1: UserWarning: Shapely 2.0 is installed, but because PyGEOS is also installed, GeoPandas will still use PyGEOS by default for now. To force to use and test Shapely 2.0, you have to set the environment variable USE_PYGEOS=0. You can do this before starting the Python process, or in your code before importing geopandas:\n",
      "\n",
      "import os\n",
      "os.environ['USE_PYGEOS'] = '0'\n",
      "import geopandas\n",
      "\n",
      "In a future release, GeoPandas will switch to using Shapely by default. If you are using PyGEOS directly (calling PyGEOS functions on geometries from GeoPandas), this will then stop working and you are encouraged to migrate from PyGEOS to Shapely 2.0 (https://shapely.readthedocs.io/en/latest/migration_pygeos.html).\n",
      "  import geopandas as gpd\n"
     ]
    }
   ],
   "source": [
    "import _harmonization_utils as harmonization_utils\n",
    "import geopandas as gpd\n",
    "import numpy as np\n",
    "import pandas as pd\n",
    "from calitp_data_analysis.sql import to_snakecase\n",
    "from shared_utils import geography_utils, utils"
   ]
  },
  {
   "cell_type": "code",
   "execution_count": 2,
   "id": "c98b342d-5b6d-4ec2-8d19-b57cab057892",
   "metadata": {},
   "outputs": [],
   "source": [
    "pd.options.display.max_columns = 100\n",
    "pd.options.display.float_format = \"{:.2f}\".format\n",
    "pd.set_option(\"display.max_rows\", None)\n",
    "pd.set_option(\"display.max_colwidth\", None)"
   ]
  },
  {
   "cell_type": "code",
   "execution_count": 70,
   "id": "2cf79fc5-8683-40b7-af93-c9edb9c5bc57",
   "metadata": {},
   "outputs": [],
   "source": [
    "LRTP_GCS = f\"{harmonization_utils.GCS_FILE_PATH}LRTP/\""
   ]
  },
  {
   "cell_type": "markdown",
   "id": "e3e8de85-ee99-4e15-b234-d7a0053bd982",
   "metadata": {
    "tags": []
   },
   "source": [
    "### Project Cost Division"
   ]
  },
  {
   "cell_type": "code",
   "execution_count": 9,
   "id": "0c571b45-6c47-417e-a99c-2f953b7b3bf4",
   "metadata": {},
   "outputs": [],
   "source": [
    "def correct_project_cost(df, project_title_col:str, project_total_cost:str):\n",
    "    \"\"\"\n",
    "    For some datasets, the same project \n",
    "    (as determined by the same project name, cost,\n",
    "    and source) is split across multiple rows. \n",
    "\n",
    "    Ex: A project costs $500 million and is \n",
    "    split on 5 rows by phase/location. Each row still lists \n",
    "    the total  cost as $500 million, which is not accurate.\n",
    "    This function will recalculate each of the row to list\n",
    "    $100 mil as the total project cost\n",
    "    \"\"\"\n",
    "    # Create a unique identifier\n",
    "    df['unique_identifier'] =  df[project_title_col] + df[project_total_cost].astype(str)\n",
    "    \n",
    "    # Create count for each project\n",
    "    df['how_many_times_same_proj_appears'] = df.groupby('unique_identifier').cumcount()+1\n",
    "    \n",
    "    # Find the total number of times a project title-cost appears. \n",
    "    # Sort by descending and keep only the row with the highest level\n",
    "    df2 = (df[[project_title_col,'how_many_times_same_proj_appears',project_total_cost, 'unique_identifier']]\n",
    "            .sort_values([project_title_col, 'how_many_times_same_proj_appears'], ascending = False)\n",
    "            .drop_duplicates(subset = ['unique_identifier'])\n",
    "           ) \n",
    "    # Create new funding estimate\n",
    "    df2['new_proj_cost'] = df2[project_total_cost] / df2[\"how_many_times_same_proj_appears\"]\n",
    "    \n",
    "    # Drop some columns\n",
    "    df2 = df2.drop(columns = [project_title_col,project_total_cost,'how_many_times_same_proj_appears'])\n",
    "    \n",
    "    # Merge\n",
    "    m1 = pd.merge(df, df2, how = \"inner\", on = \"unique_identifier\")\n",
    "    \n",
    "    # Clean up\n",
    "    m1 = m1.drop(columns = ['unique_identifier', 'how_many_times_same_proj_appears', project_total_cost])\n",
    "    m1['total_project_cost_note'] = \"This is an estimate of how much the project cost, estimated by dividing the total project cost by how many times the project appears in the dataset.\"\n",
    "    \n",
    "    # Replace project cost\n",
    "    m1 = m1.rename(columns = {'new_proj_cost':'total_project_cost'})\n",
    "    return m1"
   ]
  },
  {
   "cell_type": "markdown",
   "id": "e92a58d1-9231-4237-bb0a-8602c94bcb36",
   "metadata": {},
   "source": [
    "### Ambag"
   ]
  },
  {
   "cell_type": "markdown",
   "id": "01a85ba7-2fe4-4105-bbd2-4b6fc03d3dad",
   "metadata": {
    "tags": []
   },
   "source": [
    "### BCAG "
   ]
  },
  {
   "cell_type": "code",
   "execution_count": 72,
   "id": "e70e3c42-6efe-4665-955e-91960758d7fb",
   "metadata": {},
   "outputs": [],
   "source": [
    "def bcag_lrtp(file_name):\n",
    "    \"\"\"\n",
    "    BCAG.xls\n",
    "    \"\"\"\n",
    "    df = pd.read_excel(f\"{LRTP_GCS}{file_name}\")\n",
    "    drop_columns = [2018,\n",
    "     2020,\n",
    "     2030,\n",
    "     2035,\n",
    "     2040,\n",
    "     'EXEMPT CODE',\n",
    "     'PM 1',\n",
    "     'PM 2',\n",
    "     'PM 3',]\n",
    "    \n",
    "    df = df.drop(columns = drop_columns) \n",
    "    df = to_snakecase(df)\n",
    "    df.cost_estimate = df.cost_estimate * 1_000\n",
    "    df.fund_estimate = df.fund_estimate.apply(pd.to_numeric, errors=\"coerce\") * 1_000_000\n",
    "    \n",
    "    df[\"geometry\"] = gpd.GeoSeries.from_xy(df.x_coord, df.y_coord, crs=geography_utils.WGS84)\n",
    "    \n",
    "    df = df.set_geometry(\"geometry\")\n",
    "    \n",
    "    return df "
   ]
  },
  {
   "cell_type": "code",
   "execution_count": 73,
   "id": "e58fe25d-aa51-47a4-9913-45173c7eace9",
   "metadata": {},
   "outputs": [],
   "source": [
    "bcag = bcag_lrtp(\"BCAG.xls\")"
   ]
  },
  {
   "cell_type": "code",
   "execution_count": 74,
   "id": "2f89eb95-c0d6-41fe-8288-d2e5f71e02fc",
   "metadata": {},
   "outputs": [
    {
     "data": {
      "text/plain": [
       "geopandas.geodataframe.GeoDataFrame"
      ]
     },
     "execution_count": 74,
     "metadata": {},
     "output_type": "execute_result"
    }
   ],
   "source": [
    "type(bcag)"
   ]
  },
  {
   "cell_type": "code",
   "execution_count": 225,
   "id": "6421561e-c0bf-4c6d-8642-5edd41511db9",
   "metadata": {},
   "outputs": [
    {
     "data": {
      "text/plain": [
       "(250, 23)"
      ]
     },
     "execution_count": 225,
     "metadata": {},
     "output_type": "execute_result"
    }
   ],
   "source": [
    "bcag.shape"
   ]
  },
  {
   "cell_type": "code",
   "execution_count": 226,
   "id": "6f75b558-04a6-4791-8e50-472371550710",
   "metadata": {},
   "outputs": [
    {
     "data": {
      "text/html": [
       "<div>\n",
       "<style scoped>\n",
       "    .dataframe tbody tr th:only-of-type {\n",
       "        vertical-align: middle;\n",
       "    }\n",
       "\n",
       "    .dataframe tbody tr th {\n",
       "        vertical-align: top;\n",
       "    }\n",
       "\n",
       "    .dataframe thead th {\n",
       "        text-align: right;\n",
       "    }\n",
       "</style>\n",
       "<table border=\"1\" class=\"dataframe\">\n",
       "  <thead>\n",
       "    <tr style=\"text-align: right;\">\n",
       "      <th></th>\n",
       "      <th>rtp_id</th>\n",
       "      <th>agency</th>\n",
       "      <th>ftip</th>\n",
       "      <th>rtp</th>\n",
       "      <th>project_type</th>\n",
       "      <th>title</th>\n",
       "      <th>project_descr</th>\n",
       "      <th>project_id</th>\n",
       "      <th>fund_source</th>\n",
       "      <th>fund_estimate</th>\n",
       "      <th>status</th>\n",
       "      <th>y_coord</th>\n",
       "      <th>x_coord</th>\n",
       "      <th>target_fiscal_year</th>\n",
       "      <th>cost_estimate</th>\n",
       "      <th>fund_source_1</th>\n",
       "      <th>fund_source_2</th>\n",
       "      <th>source</th>\n",
       "      <th>title_vi</th>\n",
       "      <th>non_title_vi</th>\n",
       "      <th>ej</th>\n",
       "      <th>non_ej</th>\n",
       "      <th>geometry</th>\n",
       "    </tr>\n",
       "  </thead>\n",
       "  <tbody>\n",
       "    <tr>\n",
       "      <th>101</th>\n",
       "      <td>102</td>\n",
       "      <td>Chico</td>\n",
       "      <td>-</td>\n",
       "      <td>RTP</td>\n",
       "      <td>Bicycle &amp; Pedestrian</td>\n",
       "      <td>Humboldt Rd Class 1</td>\n",
       "      <td>From Morning Rose Way to Bruce Rd.  Class 1 bike facility (0.51 miles)</td>\n",
       "      <td>CH-BIKE-LOCAL-2020-5</td>\n",
       "      <td>LOCAL</td>\n",
       "      <td>NaN</td>\n",
       "      <td>Planned</td>\n",
       "      <td>39.74</td>\n",
       "      <td>-121.80</td>\n",
       "      <td>2025</td>\n",
       "      <td>305000.00</td>\n",
       "      <td>LOCAL</td>\n",
       "      <td>-</td>\n",
       "      <td>2019 City of Chico Bike Plan</td>\n",
       "      <td>Y</td>\n",
       "      <td>Y</td>\n",
       "      <td>Y</td>\n",
       "      <td>Y</td>\n",
       "      <td>POINT (-121.79612 39.73992)</td>\n",
       "    </tr>\n",
       "  </tbody>\n",
       "</table>\n",
       "</div>"
      ],
      "text/plain": [
       "     rtp_id agency ftip  rtp          project_type                title  \\\n",
       "101     102  Chico    -  RTP  Bicycle & Pedestrian  Humboldt Rd Class 1   \n",
       "\n",
       "                                                              project_descr  \\\n",
       "101  From Morning Rose Way to Bruce Rd.  Class 1 bike facility (0.51 miles)   \n",
       "\n",
       "               project_id fund_source  fund_estimate   status  y_coord  \\\n",
       "101  CH-BIKE-LOCAL-2020-5       LOCAL            NaN  Planned    39.74   \n",
       "\n",
       "    x_coord target_fiscal_year  cost_estimate fund_source_1 fund_source_2  \\\n",
       "101 -121.80               2025      305000.00         LOCAL             -   \n",
       "\n",
       "                           source title_vi non_title_vi ej non_ej  \\\n",
       "101  2019 City of Chico Bike Plan        Y            Y  Y      Y   \n",
       "\n",
       "                        geometry  \n",
       "101  POINT (-121.79612 39.73992)  "
      ]
     },
     "execution_count": 226,
     "metadata": {},
     "output_type": "execute_result"
    }
   ],
   "source": [
    "bcag.sample()"
   ]
  },
  {
   "cell_type": "code",
   "execution_count": 228,
   "id": "5bdd1953-3c2d-45ef-be8e-a75e4d82b543",
   "metadata": {},
   "outputs": [
    {
     "data": {
      "text/plain": [
       "Local Highway Bridge Program (HBP Grouped)            68\n",
       "Highway Safety Improvement Program (HSIP Grouped)     19\n",
       "SR 70 Passing Lanes (Segment 3)                        2\n",
       "Eaton Rd Widening                                      2\n",
       "Lincoln Blvd Class 2                                   2\n",
       "Name: title, dtype: int64"
      ]
     },
     "execution_count": 228,
     "metadata": {},
     "output_type": "execute_result"
    }
   ],
   "source": [
    "bcag.title.value_counts().head()"
   ]
  },
  {
   "cell_type": "code",
   "execution_count": 232,
   "id": "46173908-3a44-4a62-aaf2-fce3a0f0b622",
   "metadata": {
    "scrolled": true,
    "tags": []
   },
   "outputs": [],
   "source": [
    "# bcag[bcag.title == \"Local Highway Bridge Program (HBP Grouped)\"]"
   ]
  },
  {
   "cell_type": "code",
   "execution_count": 227,
   "id": "211d728a-145d-48a2-8283-b0931c5efaac",
   "metadata": {},
   "outputs": [
    {
     "data": {
      "text/plain": [
       "153"
      ]
     },
     "execution_count": 227,
     "metadata": {},
     "output_type": "execute_result"
    }
   ],
   "source": [
    "bcag.title.nunique()"
   ]
  },
  {
   "cell_type": "markdown",
   "id": "04450281-f55d-414c-b18f-5761a4bb423a",
   "metadata": {
    "tags": []
   },
   "source": [
    "### Fresno COG"
   ]
  },
  {
   "cell_type": "code",
   "execution_count": 221,
   "id": "31550af0-0040-41fa-abfa-88c77f3763be",
   "metadata": {},
   "outputs": [],
   "source": [
    "def fresnocog_lrtp():\n",
    "    columns_to_drop = ['unnamed:_7', 'unnamed:_8',\n",
    "       'unnamed:_9']\n",
    "    df1 = to_snakecase(pd.read_excel(f\"{LRTP_GCS}FRESNO_COG_UNconstrained.xlsx\"))\n",
    "    df1['financial_constraint'] = 'unconstrained'\n",
    "    \n",
    "    df2 = to_snakecase(pd.read_excel(f\"{LRTP_GCS}FRESNO_COG_Constrained.xlsx\"))\n",
    "    df2['financial_constraint'] = 'constrained'\n",
    "    \n",
    "    concat1 = pd.concat([df1,df2], axis=0)\n",
    "    concat1 = concat1.drop(columns = columns_to_drop)\n",
    "    \n",
    "    return concat1"
   ]
  },
  {
   "cell_type": "code",
   "execution_count": 222,
   "id": "7b167072-0655-47a9-b609-b08b1f72081d",
   "metadata": {},
   "outputs": [],
   "source": [
    "fresno_cog = fresnocog_lrtp()"
   ]
  },
  {
   "cell_type": "code",
   "execution_count": 223,
   "id": "04d24a2a-7223-4d0b-93cf-2b320d19340f",
   "metadata": {},
   "outputs": [
    {
     "data": {
      "text/plain": [
       "(3147, 10)"
      ]
     },
     "execution_count": 223,
     "metadata": {},
     "output_type": "execute_result"
    }
   ],
   "source": [
    "fresno_cog.shape"
   ]
  },
  {
   "cell_type": "code",
   "execution_count": 224,
   "id": "ceab7383-0a0c-4f7a-941f-a5a7b252de9e",
   "metadata": {},
   "outputs": [
    {
     "data": {
      "text/html": [
       "<div>\n",
       "<style scoped>\n",
       "    .dataframe tbody tr th:only-of-type {\n",
       "        vertical-align: middle;\n",
       "    }\n",
       "\n",
       "    .dataframe tbody tr th {\n",
       "        vertical-align: top;\n",
       "    }\n",
       "\n",
       "    .dataframe thead th {\n",
       "        text-align: right;\n",
       "    }\n",
       "</style>\n",
       "<table border=\"1\" class=\"dataframe\">\n",
       "  <thead>\n",
       "    <tr style=\"text-align: right;\">\n",
       "      <th></th>\n",
       "      <th>agency</th>\n",
       "      <th>project_id</th>\n",
       "      <th>project_title</th>\n",
       "      <th>project_description</th>\n",
       "      <th>project_type</th>\n",
       "      <th>estimated_open_to_traffic</th>\n",
       "      <th>estimated\\ntotal_cost\\n_$1,000_</th>\n",
       "      <th>est__o2t_year</th>\n",
       "      <th>est_total_project_cost</th>\n",
       "      <th>financial_constraint</th>\n",
       "    </tr>\n",
       "  </thead>\n",
       "  <tbody>\n",
       "    <tr>\n",
       "      <th>0</th>\n",
       "      <td>Caltrans</td>\n",
       "      <td>FRE504146</td>\n",
       "      <td>SR 180 W-I-5 to Junction SR 33/SR180: 2 Lane on E-W Alignment</td>\n",
       "      <td>2 Lane on New E-W Alignment</td>\n",
       "      <td>Bike &amp; Ped, Streets &amp; Roads-Maintenance, Streets &amp; Roads-Operations</td>\n",
       "      <td>2032-2036</td>\n",
       "      <td>119000.00</td>\n",
       "      <td>2035-01-01</td>\n",
       "      <td>119000000.00</td>\n",
       "      <td>unconstrained</td>\n",
       "    </tr>\n",
       "    <tr>\n",
       "      <th>1</th>\n",
       "      <td>Clovis</td>\n",
       "      <td>FRE500471</td>\n",
       "      <td>Ashlan-Highland to Thompson: 2 LU to 4 LD</td>\n",
       "      <td>2LU to 4LD, Sidewalks, Bike Lanes, Street Lights, Curb and Gutter, Utility Relocation, Fiber Optics, Traffic Signal at Ashlan and Highland</td>\n",
       "      <td>Streets &amp; Roads - Capacity Increasing</td>\n",
       "      <td>2022-2026</td>\n",
       "      <td>5009.00</td>\n",
       "      <td>2024-01-01</td>\n",
       "      <td>5009000.00</td>\n",
       "      <td>unconstrained</td>\n",
       "    </tr>\n",
       "    <tr>\n",
       "      <th>2</th>\n",
       "      <td>Clovis</td>\n",
       "      <td>FRE501601</td>\n",
       "      <td>Alluvial - Fowler to Armstrong : Maintenance</td>\n",
       "      <td>Light Maintenance</td>\n",
       "      <td>Streets &amp; Roads-Maintenance</td>\n",
       "      <td>2032-2036</td>\n",
       "      <td>171.00</td>\n",
       "      <td>2036-01-01</td>\n",
       "      <td>171000.00</td>\n",
       "      <td>unconstrained</td>\n",
       "    </tr>\n",
       "    <tr>\n",
       "      <th>3</th>\n",
       "      <td>Clovis</td>\n",
       "      <td>FRE501604</td>\n",
       "      <td>Armstrong - Bullard to Barstow : Maintenance</td>\n",
       "      <td>Light Maintenance</td>\n",
       "      <td>Streets &amp; Roads-Maintenance</td>\n",
       "      <td>2042-2046</td>\n",
       "      <td>481.00</td>\n",
       "      <td>2043-01-01</td>\n",
       "      <td>481000.00</td>\n",
       "      <td>unconstrained</td>\n",
       "    </tr>\n",
       "    <tr>\n",
       "      <th>4</th>\n",
       "      <td>Clovis</td>\n",
       "      <td>FRE501605</td>\n",
       "      <td>Armstrong - Herndon to Tollhouse : Maintenance</td>\n",
       "      <td>Light Maintenance</td>\n",
       "      <td>Streets &amp; Roads-Maintenance</td>\n",
       "      <td>2042-2046</td>\n",
       "      <td>85.00</td>\n",
       "      <td>2044-01-01</td>\n",
       "      <td>85000.00</td>\n",
       "      <td>unconstrained</td>\n",
       "    </tr>\n",
       "  </tbody>\n",
       "</table>\n",
       "</div>"
      ],
      "text/plain": [
       "     agency project_id  \\\n",
       "0  Caltrans  FRE504146   \n",
       "1    Clovis  FRE500471   \n",
       "2    Clovis  FRE501601   \n",
       "3    Clovis  FRE501604   \n",
       "4    Clovis  FRE501605   \n",
       "\n",
       "                                                   project_title  \\\n",
       "0  SR 180 W-I-5 to Junction SR 33/SR180: 2 Lane on E-W Alignment   \n",
       "1                      Ashlan-Highland to Thompson: 2 LU to 4 LD   \n",
       "2                   Alluvial - Fowler to Armstrong : Maintenance   \n",
       "3                   Armstrong - Bullard to Barstow : Maintenance   \n",
       "4                 Armstrong - Herndon to Tollhouse : Maintenance   \n",
       "\n",
       "                                                                                                                          project_description  \\\n",
       "0                                                                                                                2 Lane on New E-W Alignment    \n",
       "1  2LU to 4LD, Sidewalks, Bike Lanes, Street Lights, Curb and Gutter, Utility Relocation, Fiber Optics, Traffic Signal at Ashlan and Highland   \n",
       "2                                                                                                                           Light Maintenance   \n",
       "3                                                                                                                           Light Maintenance   \n",
       "4                                                                                                                           Light Maintenance   \n",
       "\n",
       "                                                          project_type  \\\n",
       "0  Bike & Ped, Streets & Roads-Maintenance, Streets & Roads-Operations   \n",
       "1                                Streets & Roads - Capacity Increasing   \n",
       "2                                          Streets & Roads-Maintenance   \n",
       "3                                          Streets & Roads-Maintenance   \n",
       "4                                          Streets & Roads-Maintenance   \n",
       "\n",
       "  estimated_open_to_traffic  estimated\\ntotal_cost\\n_$1,000_ est__o2t_year  \\\n",
       "0                 2032-2036                        119000.00    2035-01-01   \n",
       "1                 2022-2026                          5009.00    2024-01-01   \n",
       "2                 2032-2036                           171.00    2036-01-01   \n",
       "3                 2042-2046                           481.00    2043-01-01   \n",
       "4                 2042-2046                            85.00    2044-01-01   \n",
       "\n",
       "   est_total_project_cost financial_constraint  \n",
       "0            119000000.00        unconstrained  \n",
       "1              5009000.00        unconstrained  \n",
       "2               171000.00        unconstrained  \n",
       "3               481000.00        unconstrained  \n",
       "4                85000.00        unconstrained  "
      ]
     },
     "execution_count": 224,
     "metadata": {},
     "output_type": "execute_result"
    }
   ],
   "source": [
    "fresno_cog.head()"
   ]
  },
  {
   "cell_type": "markdown",
   "id": "aa2d24f5-1c4c-4ef3-8c9c-cbf2d7c027d5",
   "metadata": {
    "tags": []
   },
   "source": [
    "### KCAG"
   ]
  },
  {
   "cell_type": "code",
   "execution_count": 75,
   "id": "d3c7a4b4-6eed-45a0-9588-928707239e6b",
   "metadata": {},
   "outputs": [],
   "source": [
    "def kcag_lrtp(file_name):\n",
    "    \"\"\"\n",
    "    KCAG.xlsx\n",
    "    \"\"\"\n",
    "    df = to_snakecase(pd.read_excel(f\"{LRTP_GCS}{file_name}\"))\n",
    "    return df"
   ]
  },
  {
   "cell_type": "code",
   "execution_count": 76,
   "id": "56748d11-2c5b-4eab-992c-ab3747888c6c",
   "metadata": {},
   "outputs": [],
   "source": [
    "kcag = kcag_lrtp(\"KCAG.xlsx\")"
   ]
  },
  {
   "cell_type": "markdown",
   "id": "9941fbbd-4520-4daa-931a-da6f59b755cf",
   "metadata": {
    "tags": []
   },
   "source": [
    "### MCAGOV"
   ]
  },
  {
   "cell_type": "code",
   "execution_count": 143,
   "id": "284ee593-6a3c-48e2-afc1-d99126bcf3cb",
   "metadata": {},
   "outputs": [],
   "source": [
    "def mcagov_lrtp(file_name):\n",
    "    \"\"\"\n",
    "    MCAGOV.xlsx\n",
    "    \"\"\"\n",
    "    df = to_snakecase(pd.read_excel(f\"{LRTP_GCS}{file_name}\"))\n",
    " \n",
    "    df = df.dropna(subset = ['title']).reset_index(drop = True)\n",
    "    \n",
    "    return df "
   ]
  },
  {
   "cell_type": "code",
   "execution_count": 145,
   "id": "3f4e657c-3bed-4764-8175-b3818654abb7",
   "metadata": {},
   "outputs": [],
   "source": [
    "mcagov = mcagov_lrtp(\"MCAGOV.xlsx\")"
   ]
  },
  {
   "cell_type": "markdown",
   "id": "0e444a95-c7b8-4248-9715-f5405d263d86",
   "metadata": {
    "tags": []
   },
   "source": [
    "### MTC\n",
    "* 133 projects but point and line map returns 240 ish rows.\n",
    "* Projects that are in different locations can have the same name split by open year...\n",
    "* I guess the geospatial projects are split into various phases while the regular pandas df is just the project in its entirety.\n",
    "* https://www.planbayarea.org/2050-plan/final-plan-bay-area-2050/final-supplemental-reports/interactive-transportation-project-list\n",
    "* https://opendata.mtc.ca.gov/datasets/MTC::2023-transportation-improvement-program-projects-point/about\n",
    "* https://opendata.mtc.ca.gov/datasets/MTC::plan-bay-area-2050-transportation-projects-line/about\n",
    "* https://data.bayareametro.gov/Projects/Plan-Bay-Area-2050-Transportation-Project-List/y7ka-jksz"
   ]
  },
  {
   "cell_type": "code",
   "execution_count": 10,
   "id": "08e57d98-8b32-41ee-a835-0030977f0d1d",
   "metadata": {},
   "outputs": [],
   "source": [
    "def mtc_lrtp():\n",
    "    # Open rest server data\n",
    "    layer_list = [\"planbayarea2050_rtp_line\", \"planbayarea2050_rtp_point\"]\n",
    "    url_pt_1 = \"https://services3.arcgis.com/i2dkYWmb4wHvYPda/ArcGIS/rest/services/\"\n",
    "    url_pt_2 = \"/FeatureServer/0/query?where=1%3D1&objectIds=&time=&geometry=&geometryType=esriGeometryEnvelope&inSR=&spatialRel=esriSpatialRelIntersects&resultType=none&distance=0.0&units=esriSRUnit_Meter&relationParam=&returnGeodetic=false&outFields=*+&returnGeometry=true&featureEncoding=esriDefault&multipatchOption=xyFootprint&maxAllowableOffset=&geometryPrecision=&outSR=&defaultSR=&datumTransformation=&applyVCSProjection=false&returnIdsOnly=false&returnUniqueIdsOnly=false&returnCountOnly=false&returnExtentOnly=false&returnQueryGeometry=false&returnDistinctValues=false&cacheHint=false&orderByFields=&groupByFieldsForStatistics=&outStatistics=&having=&resultOffset=&resultRecordCount=&returnZ=false&returnM=false&returnExceededLimitFeatures=true&quantizationParameters=&sqlFormat=none&f=pgeojson&token=\"\n",
    "    gdf = open_rest_server(url_pt_1, url_pt_2, layer_list)\n",
    "\n",
    "    # Open all MTC projects. Not all projects are mappable.\n",
    "    all_projects_url = \"https://data.bayareametro.gov/resource/y7ka-jksz.json?$query=SELECT%0A%20%20%60plan_strategy%60%2C%0A%20%20%60rtpid%60%2C%0A%20%20%60title%60%2C%0A%20%20%60scope%60%2C%0A%20%20%60open_period%60%2C%0A%20%20%60funding_millions_yoe%60%2C%0A%20%20%60county%60\"\n",
    "    all_projects = pd.read_json(all_projects_url)\n",
    "\n",
    "    # Merge info from all projects to gdf\n",
    "    gdf = pd.merge(\n",
    "        gdf, all_projects, how=\"inner\", left_on=[\"proj_title\"], right_on=[\"title\"]\n",
    "    )\n",
    "\n",
    "    gdf = gdf.drop(columns=[\"title\"])\n",
    "\n",
    "    # Find projects that are unmappable\n",
    "    mtc_geometry_titles = set(gdf.proj_title.unique().tolist())\n",
    "    mtc_all_projects_titles = set(all_projects.title.unique().tolist())\n",
    "    missing_projects = list(mtc_all_projects_titles - mtc_geometry_titles)\n",
    "\n",
    "    # Add back in the  unmappable projects\n",
    "    all_projects = all_projects[all_projects.title.isin(missing_projects)].reset_index(\n",
    "        drop=True\n",
    "    )\n",
    "    all_projects = all_projects.rename(columns={\"title\": \"proj_title\"})\n",
    "    final = pd.concat([all_projects, gdf])\n",
    "\n",
    "    # Correct typo\n",
    "    final = final.rename({\"mode detai\": \"mode_detail\"})\n",
    "\n",
    "    # Set geometry again\n",
    "    final = final.set_geometry(\"geometry\").set_crs(geography_utils.WGS84)\n",
    "    \n",
    "    # Same project is split across multiple rows. Divide out project cost\n",
    "    final = correct_project_cost(final,'proj_title', 'funding_millions_yoe')\n",
    "    return final"
   ]
  },
  {
   "cell_type": "code",
   "execution_count": 11,
   "id": "10f74d00-6968-4eef-9ae0-4639b82542b9",
   "metadata": {},
   "outputs": [
    {
     "name": "stderr",
     "output_type": "stream",
     "text": [
      "/opt/conda/lib/python3.9/site-packages/geopandas/array.py:1406: UserWarning: CRS not set for some of the concatenation inputs. Setting output's CRS as WGS 84 (the single non-null crs provided).\n"
     ]
    }
   ],
   "source": [
    "mtc_og = mtc_lrtp()"
   ]
  },
  {
   "cell_type": "code",
   "execution_count": 12,
   "id": "63f72974-017e-4f2f-8d3d-a54dd4b842c6",
   "metadata": {
    "scrolled": true,
    "tags": []
   },
   "outputs": [
    {
     "data": {
      "text/plain": [
       "Index(['plan_strategy', 'rtpid', 'proj_title', 'scope', 'open_period',\n",
       "       'county', 'objectid', 'map_id', 'subcompone', 'open_year', 'strategy',\n",
       "       'rtp_id', 'mode_', 'mode_detai', 'investment', 'shape__length',\n",
       "       'geometry', 'layer_name', 'total_project_cost',\n",
       "       'total_project_cost_note'],\n",
       "      dtype='object')"
      ]
     },
     "execution_count": 12,
     "metadata": {},
     "output_type": "execute_result"
    }
   ],
   "source": [
    "mtc_og.columns"
   ]
  },
  {
   "cell_type": "code",
   "execution_count": 13,
   "id": "dcdf4707-e3e4-4f58-8edd-1f4b7ba8b186",
   "metadata": {},
   "outputs": [],
   "source": [
    "def harmonize_mtc():\n",
    "    df = mtc_lrtp()\n",
    "    df = harmonizing_lrtp(\n",
    "        df,\n",
    "        project_name_col=\"proj_title\",\n",
    "        project_description_col=\"subcompone\",\n",
    "        project_category_col=\"plan_strategy\",\n",
    "        project_cost_col=\"funding_millions_yoe\",\n",
    "        location_col=\"geometry\",\n",
    "        county_col=\"county\",\n",
    "        city_col=\"\",\n",
    "        project_year_col=\"open_year\",\n",
    "        phase_col=\"\",\n",
    "        program=\"MTC\",\n",
    "        data_source=\"LRTP\",\n",
    "        note_cols=[\n",
    "            \"strategy\",\n",
    "            \"layer_name\",\n",
    "            \"mode_detai\",\n",
    "        ],\n",
    "        cost_in_millions=False,\n",
    "    )\n",
    "\n",
    "    return df"
   ]
  },
  {
   "cell_type": "code",
   "execution_count": 14,
   "id": "8ae87474-d6e1-43e4-9a42-df4f6ba44c3f",
   "metadata": {},
   "outputs": [
    {
     "name": "stderr",
     "output_type": "stream",
     "text": [
      "/opt/conda/lib/python3.9/site-packages/geopandas/array.py:1406: UserWarning: CRS not set for some of the concatenation inputs. Setting output's CRS as WGS 84 (the single non-null crs provided).\n",
      "/tmp/ipykernel_697/3100420876.py:36: UserWarning: This pattern is interpreted as a regular expression, and has match groups. To actually get the groups, use str.extract.\n"
     ]
    }
   ],
   "source": [
    "harmonized_mtc = harmonize_mtc()"
   ]
  },
  {
   "cell_type": "code",
   "execution_count": 15,
   "id": "5a1979ae-0388-49b0-8818-5379cb33c745",
   "metadata": {},
   "outputs": [
    {
     "data": {
      "text/html": [
       "<div>\n",
       "<style scoped>\n",
       "    .dataframe tbody tr th:only-of-type {\n",
       "        vertical-align: middle;\n",
       "    }\n",
       "\n",
       "    .dataframe tbody tr th {\n",
       "        vertical-align: top;\n",
       "    }\n",
       "\n",
       "    .dataframe thead th {\n",
       "        text-align: right;\n",
       "    }\n",
       "</style>\n",
       "<table border=\"1\" class=\"dataframe\">\n",
       "  <thead>\n",
       "    <tr style=\"text-align: right;\">\n",
       "      <th></th>\n",
       "      <th>project_title</th>\n",
       "      <th>lead_agency</th>\n",
       "      <th>project_year</th>\n",
       "      <th>project_category</th>\n",
       "      <th>grant_program</th>\n",
       "      <th>project_description</th>\n",
       "      <th>phase</th>\n",
       "      <th>total_project_cost</th>\n",
       "      <th>geometry</th>\n",
       "      <th>city</th>\n",
       "      <th>county</th>\n",
       "      <th>data_source</th>\n",
       "      <th>notes</th>\n",
       "    </tr>\n",
       "  </thead>\n",
       "  <tbody>\n",
       "    <tr>\n",
       "      <th>0</th>\n",
       "      <td>Operate &amp; Maintain the Existing System | Baseline Public Transit Service Levels | Regional</td>\n",
       "      <td>MTC</td>\n",
       "      <td>NaN</td>\n",
       "      <td>Fix It First</td>\n",
       "      <td>MTC LRTP</td>\n",
       "      <td>NaN</td>\n",
       "      <td>None</td>\n",
       "      <td>211000.00</td>\n",
       "      <td>None</td>\n",
       "      <td>None</td>\n",
       "      <td>Regional</td>\n",
       "      <td>LRTP</td>\n",
       "      <td>strategy: nan,  layer name: nan,  mode detai: nan</td>\n",
       "    </tr>\n",
       "    <tr>\n",
       "      <th>1</th>\n",
       "      <td>Operate &amp; Maintain the Existing System | Public Transit Capital Assets | Regional</td>\n",
       "      <td>MTC</td>\n",
       "      <td>NaN</td>\n",
       "      <td>Fix It First</td>\n",
       "      <td>MTC LRTP</td>\n",
       "      <td>NaN</td>\n",
       "      <td>None</td>\n",
       "      <td>59500.00</td>\n",
       "      <td>None</td>\n",
       "      <td>None</td>\n",
       "      <td>Regional</td>\n",
       "      <td>LRTP</td>\n",
       "      <td>strategy: nan,  layer name: nan,  mode detai: nan</td>\n",
       "    </tr>\n",
       "  </tbody>\n",
       "</table>\n",
       "</div>"
      ],
      "text/plain": [
       "                                                                                project_title  \\\n",
       "0  Operate & Maintain the Existing System | Baseline Public Transit Service Levels | Regional   \n",
       "1           Operate & Maintain the Existing System | Public Transit Capital Assets | Regional   \n",
       "\n",
       "  lead_agency project_year project_category grant_program project_description  \\\n",
       "0         MTC          NaN     Fix It First      MTC LRTP                 NaN   \n",
       "1         MTC          NaN     Fix It First      MTC LRTP                 NaN   \n",
       "\n",
       "  phase  total_project_cost geometry  city    county data_source  \\\n",
       "0  None           211000.00     None  None  Regional        LRTP   \n",
       "1  None            59500.00     None  None  Regional        LRTP   \n",
       "\n",
       "                                                notes  \n",
       "0   strategy: nan,  layer name: nan,  mode detai: nan  \n",
       "1   strategy: nan,  layer name: nan,  mode detai: nan  "
      ]
     },
     "execution_count": 15,
     "metadata": {},
     "output_type": "execute_result"
    }
   ],
   "source": [
    "harmonized_mtc.head(2)"
   ]
  },
  {
   "cell_type": "markdown",
   "id": "5c6bf430-db1c-40cb-9033-e19708c8c6bd",
   "metadata": {
    "tags": []
   },
   "source": [
    "### Southern California Association of Governments (SCAG) "
   ]
  },
  {
   "cell_type": "code",
   "execution_count": 18,
   "id": "6759a3d7-4b34-4d4e-a12f-ea0f8e53f261",
   "metadata": {},
   "outputs": [],
   "source": [
    "def delete_embedded_headers(df, column:str, string_search:str) -> pd.DataFrame:\n",
    "    \"\"\"\n",
    "    Some PDFS include the column names embedded mulitple times\n",
    "    within the df. Delete them out. \n",
    "    \"\"\"\n",
    "    headers = (df[df[column].str.contains(string_search)==True])\n",
    "    headers_index_list = headers.index.values.tolist()\n",
    "    \n",
    "    print(f\"{len(headers_index_list)} rows are headers\") \n",
    "    \n",
    "    df2 = df.drop(headers_index_list).reset_index(drop  = True)\n",
    "    return df2"
   ]
  },
  {
   "cell_type": "code",
   "execution_count": 101,
   "id": "d0996555-04ad-4aaa-bdd4-befd8c5eda09",
   "metadata": {},
   "outputs": [],
   "source": [
    "def row_threshold(df):\n",
    "    \"\"\"\n",
    "    Some PDFS are merged/formatted where there are many\n",
    "    rows full of NA. Delete them out.\n",
    "    \"\"\"\n",
    "    # Delete rows containing either 75% or more than 75% NaN Values\n",
    "    # https://thispointer.com/pandas-drop-dataframe-rows-based-on-nan-percentage/\n",
    "    perc = 95.0 # \n",
    "    min_count =  int(((100-perc)/100)*df.shape[1] + 1)\n",
    "    \n",
    "    df2 = df.dropna(axis=0, thresh=min_count).reset_index(drop = True)\n",
    "    \n",
    "    print(f\"dropped {len(df)-len(df2)} rows that were filled with NA\")\n",
    "    \n",
    "    return df2"
   ]
  },
  {
   "cell_type": "code",
   "execution_count": 20,
   "id": "9de6a1bf-486d-476c-bba4-571ab488449d",
   "metadata": {},
   "outputs": [],
   "source": [
    "def scag_lrtp(file_name):\n",
    "    sheets_list = [\"Table 1\", \"Table 2\"]\n",
    "    dict_df = pd.read_excel(f\"{LRTP_GCS}{file_name}\", sheet_name=sheets_list)\n",
    "    \n",
    "    df1 = to_snakecase(dict_df.get(\"Table 1\"))\n",
    "    # Drop columns where everything is NA\n",
    "    df1 = df1.dropna(axis=1, how='all')\n",
    "    \n",
    "    df2 = to_snakecase(dict_df.get(\"Table 2\"))\n",
    "    df2 = df2.dropna(axis=1, how='all')\n",
    "    \n",
    "    # Concat\n",
    "    df3 = pd.concat([df1,df2])\n",
    "    \n",
    "    df4 = delete_embedded_headers(df3, \"rtp_id\", \"RTP ID\")\n",
    "    \n",
    "    df4 = row_threshold(df4) \n",
    "    \n",
    "    # No project title\n",
    "    df4['project_title'] = df4.description\n",
    "    \n",
    "    # Project cost is in thousands.\n",
    "    # Multiple out\n",
    "    df4[\"project_cost_millions\"] = df4[\"project_cost__$1,000s_\"]* 1_000\n",
    "    return df4"
   ]
  },
  {
   "cell_type": "code",
   "execution_count": 233,
   "id": "c78fe592-971f-445c-a0e1-09c4d7a5f460",
   "metadata": {},
   "outputs": [
    {
     "name": "stdout",
     "output_type": "stream",
     "text": [
      "360 rows are headers\n",
      "dropped 0 rows that were filled with NA\n"
     ]
    }
   ],
   "source": [
    "scag = scag_lrtp()"
   ]
  },
  {
   "cell_type": "code",
   "execution_count": 234,
   "id": "856eb789-fe6e-4944-b35c-fb84e838fbcc",
   "metadata": {},
   "outputs": [
    {
     "data": {
      "text/html": [
       "<div>\n",
       "<style scoped>\n",
       "    .dataframe tbody tr th:only-of-type {\n",
       "        vertical-align: middle;\n",
       "    }\n",
       "\n",
       "    .dataframe tbody tr th {\n",
       "        vertical-align: top;\n",
       "    }\n",
       "\n",
       "    .dataframe thead th {\n",
       "        text-align: right;\n",
       "    }\n",
       "</style>\n",
       "<table border=\"1\" class=\"dataframe\">\n",
       "  <thead>\n",
       "    <tr style=\"text-align: right;\">\n",
       "      <th></th>\n",
       "      <th>system</th>\n",
       "      <th>lead_agency</th>\n",
       "      <th>rtp_id</th>\n",
       "      <th>route_#</th>\n",
       "      <th>route_name</th>\n",
       "      <th>from</th>\n",
       "      <th>to</th>\n",
       "      <th>description</th>\n",
       "      <th>completion_year</th>\n",
       "      <th>project_cost__$1,000s_</th>\n",
       "      <th>county</th>\n",
       "      <th>project_title</th>\n",
       "    </tr>\n",
       "  </thead>\n",
       "  <tbody>\n",
       "    <tr>\n",
       "      <th>0</th>\n",
       "      <td>County: Imperial</td>\n",
       "      <td>NaN</td>\n",
       "      <td>NaN</td>\n",
       "      <td>NaN</td>\n",
       "      <td>NaN</td>\n",
       "      <td>NaN</td>\n",
       "      <td>NaN</td>\n",
       "      <td>NaN</td>\n",
       "      <td>NaN</td>\n",
       "      <td>NaN</td>\n",
       "      <td>NaN</td>\n",
       "      <td>NaN</td>\n",
       "    </tr>\n",
       "    <tr>\n",
       "      <th>1</th>\n",
       "      <td>LOCAL HIGHWAY</td>\n",
       "      <td>BRAWLEY</td>\n",
       "      <td>7120001-IMP160407</td>\n",
       "      <td>0</td>\n",
       "      <td>NaN</td>\n",
       "      <td>NaN</td>\n",
       "      <td>NaN</td>\n",
       "      <td>PAVING OF DIRT ROAD WILDCAT DRIVE FROM S. WESTERN AVENUE TO S. FIRST STREET</td>\n",
       "      <td>2019</td>\n",
       "      <td>1008000</td>\n",
       "      <td>NaN</td>\n",
       "      <td>PAVING OF DIRT ROAD WILDCAT DRIVE FROM S. WESTERN AVENUE TO S. FIRST STREET</td>\n",
       "    </tr>\n",
       "    <tr>\n",
       "      <th>2</th>\n",
       "      <td>LOCAL HIGHWAY</td>\n",
       "      <td>BRAWLEY</td>\n",
       "      <td>7120001-IMP161004</td>\n",
       "      <td>0</td>\n",
       "      <td>NaN</td>\n",
       "      <td>NaN</td>\n",
       "      <td>NaN</td>\n",
       "      <td>ASPHALT REHABILITATION ALONG RIO VISTA AVENUE BETWEEN ALLEN STREET AND CATTLE CALL DRIVE, IN THE CITY OF BRAWLEY, IMPERIAL COUNTY.</td>\n",
       "      <td>2018</td>\n",
       "      <td>109000</td>\n",
       "      <td>NaN</td>\n",
       "      <td>ASPHALT REHABILITATION ALONG RIO VISTA AVENUE BETWEEN ALLEN STREET AND CATTLE CALL DRIVE, IN THE CITY OF BRAWLEY, IMPERIAL COUNTY.</td>\n",
       "    </tr>\n",
       "    <tr>\n",
       "      <th>3</th>\n",
       "      <td>LOCAL HIGHWAY</td>\n",
       "      <td>CALEXICO</td>\n",
       "      <td>6OM0701- IMP091001</td>\n",
       "      <td>0</td>\n",
       "      <td>NaN</td>\n",
       "      <td>NaN</td>\n",
       "      <td>NaN</td>\n",
       "      <td>WIDEN AND IMPROVE CESAR CHAVEZ BLVD. TO 5 LANES (3+2) FROM 2ND STREET TO SR 98. OTHER IMPROVEMENTS INCLUDE: SURFACE REHAB, TURN LANES, TRAFFIC SIGNAL, LIGHTING, AND SIDEWALKS</td>\n",
       "      <td>2019</td>\n",
       "      <td>9896000</td>\n",
       "      <td>NaN</td>\n",
       "      <td>WIDEN AND IMPROVE CESAR CHAVEZ BLVD. TO 5 LANES (3+2) FROM 2ND STREET TO SR 98. OTHER IMPROVEMENTS INCLUDE: SURFACE REHAB, TURN LANES, TRAFFIC SIGNAL, LIGHTING, AND SIDEWALKS</td>\n",
       "    </tr>\n",
       "    <tr>\n",
       "      <th>4</th>\n",
       "      <td>LOCAL HIGHWAY</td>\n",
       "      <td>CALEXICO</td>\n",
       "      <td>7120001-IMP160408</td>\n",
       "      <td>0</td>\n",
       "      <td>NaN</td>\n",
       "      <td>NaN</td>\n",
       "      <td>NaN</td>\n",
       "      <td>PAVING OF DIRT ROAD DE LAS FLORES STREET BETWEEN EADY AVENUE AND KLOKE AVENUE TO INCLUDE THE INSTALLATION OF CURB, GUTTER AND SIDEWALKS</td>\n",
       "      <td>2019</td>\n",
       "      <td>466000</td>\n",
       "      <td>NaN</td>\n",
       "      <td>PAVING OF DIRT ROAD DE LAS FLORES STREET BETWEEN EADY AVENUE AND KLOKE AVENUE TO INCLUDE THE INSTALLATION OF CURB, GUTTER AND SIDEWALKS</td>\n",
       "    </tr>\n",
       "  </tbody>\n",
       "</table>\n",
       "</div>"
      ],
      "text/plain": [
       "             system lead_agency              rtp_id route_# route_name from  \\\n",
       "0  County: Imperial         NaN                 NaN     NaN        NaN  NaN   \n",
       "1     LOCAL HIGHWAY     BRAWLEY   7120001-IMP160407       0        NaN  NaN   \n",
       "2     LOCAL HIGHWAY     BRAWLEY   7120001-IMP161004       0        NaN  NaN   \n",
       "3     LOCAL HIGHWAY    CALEXICO  6OM0701- IMP091001       0        NaN  NaN   \n",
       "4     LOCAL HIGHWAY    CALEXICO   7120001-IMP160408       0        NaN  NaN   \n",
       "\n",
       "    to  \\\n",
       "0  NaN   \n",
       "1  NaN   \n",
       "2  NaN   \n",
       "3  NaN   \n",
       "4  NaN   \n",
       "\n",
       "                                                                                                                                                                      description  \\\n",
       "0                                                                                                                                                                             NaN   \n",
       "1                                                                                                     PAVING OF DIRT ROAD WILDCAT DRIVE FROM S. WESTERN AVENUE TO S. FIRST STREET   \n",
       "2                                              ASPHALT REHABILITATION ALONG RIO VISTA AVENUE BETWEEN ALLEN STREET AND CATTLE CALL DRIVE, IN THE CITY OF BRAWLEY, IMPERIAL COUNTY.   \n",
       "3  WIDEN AND IMPROVE CESAR CHAVEZ BLVD. TO 5 LANES (3+2) FROM 2ND STREET TO SR 98. OTHER IMPROVEMENTS INCLUDE: SURFACE REHAB, TURN LANES, TRAFFIC SIGNAL, LIGHTING, AND SIDEWALKS   \n",
       "4                                         PAVING OF DIRT ROAD DE LAS FLORES STREET BETWEEN EADY AVENUE AND KLOKE AVENUE TO INCLUDE THE INSTALLATION OF CURB, GUTTER AND SIDEWALKS   \n",
       "\n",
       "  completion_year project_cost__$1,000s_ county  \\\n",
       "0             NaN                    NaN    NaN   \n",
       "1            2019                1008000    NaN   \n",
       "2            2018                 109000    NaN   \n",
       "3            2019                9896000    NaN   \n",
       "4            2019                 466000    NaN   \n",
       "\n",
       "                                                                                                                                                                    project_title  \n",
       "0                                                                                                                                                                             NaN  \n",
       "1                                                                                                     PAVING OF DIRT ROAD WILDCAT DRIVE FROM S. WESTERN AVENUE TO S. FIRST STREET  \n",
       "2                                              ASPHALT REHABILITATION ALONG RIO VISTA AVENUE BETWEEN ALLEN STREET AND CATTLE CALL DRIVE, IN THE CITY OF BRAWLEY, IMPERIAL COUNTY.  \n",
       "3  WIDEN AND IMPROVE CESAR CHAVEZ BLVD. TO 5 LANES (3+2) FROM 2ND STREET TO SR 98. OTHER IMPROVEMENTS INCLUDE: SURFACE REHAB, TURN LANES, TRAFFIC SIGNAL, LIGHTING, AND SIDEWALKS  \n",
       "4                                         PAVING OF DIRT ROAD DE LAS FLORES STREET BETWEEN EADY AVENUE AND KLOKE AVENUE TO INCLUDE THE INSTALLATION OF CURB, GUTTER AND SIDEWALKS  "
      ]
     },
     "execution_count": 234,
     "metadata": {},
     "output_type": "execute_result"
    }
   ],
   "source": [
    "scag.head()"
   ]
  },
  {
   "cell_type": "code",
   "execution_count": 24,
   "id": "854792d7-c99f-4fa3-9cfd-2a911c3a8d9e",
   "metadata": {},
   "outputs": [],
   "source": [
    "def harmonize_scag():\n",
    "    df = scag_lrtp()\n",
    "    df = harmonizing_lrtp(\n",
    "        df,\n",
    "        project_name_col=\"project_title\",\n",
    "        project_description_col=\"description\",\n",
    "        project_category_col=\"system\",\n",
    "        project_cost_col=\"project_cost_millions\",\n",
    "        location_col=\"\",\n",
    "        county_col=\"county\",\n",
    "        city_col=\"\",\n",
    "        project_year_col=\"completion_year\",\n",
    "        program=\"SCAG\",\n",
    "        phase_col=\"\",\n",
    "        data_source=\"LRTP\",\n",
    "        note_cols=[\n",
    "            \"lead_agency\",\n",
    "            \"route_#\",\n",
    "            \"route_name\",\n",
    "            \"from\",\n",
    "            \"to\"\n",
    "        ],\n",
    "        cost_in_millions=True,\n",
    "    )\n",
    "\n",
    "    return df"
   ]
  },
  {
   "cell_type": "code",
   "execution_count": 25,
   "id": "e0dd0b0c-b560-47c9-a074-295827ca23cc",
   "metadata": {
    "tags": []
   },
   "outputs": [
    {
     "name": "stdout",
     "output_type": "stream",
     "text": [
      "360 rows are headers\n",
      "dropped 307 rows that were filled with NA\n"
     ]
    },
    {
     "name": "stderr",
     "output_type": "stream",
     "text": [
      "/tmp/ipykernel_697/3100420876.py:36: UserWarning: This pattern is interpreted as a regular expression, and has match groups. To actually get the groups, use str.extract.\n"
     ]
    }
   ],
   "source": [
    "scag_harmonized = harmonize_scag()"
   ]
  },
  {
   "cell_type": "code",
   "execution_count": 26,
   "id": "a8aebe1e-9c3b-4083-b616-d3d1b0797948",
   "metadata": {},
   "outputs": [],
   "source": [
    "# scag.head()"
   ]
  },
  {
   "cell_type": "code",
   "execution_count": 27,
   "id": "7a10adb1-926c-47e9-ad34-62208824dcc5",
   "metadata": {
    "tags": []
   },
   "outputs": [],
   "source": [
    "# scag_harmonized.head()"
   ]
  },
  {
   "cell_type": "markdown",
   "id": "be9dbf44-0fa5-4082-8a57-79e282a626d1",
   "metadata": {
    "jp-MarkdownHeadingCollapsed": true,
    "tags": []
   },
   "source": [
    "### Sacramento Area Council of Governments (SACOG)\n",
    "* https://www.sacog.org/sites/main/files/file-attachments/2020_mtp-scs.pdf?1580330993"
   ]
  },
  {
   "cell_type": "code",
   "execution_count": 28,
   "id": "0b456207-635e-46e3-bd71-141fd0712069",
   "metadata": {},
   "outputs": [],
   "source": [
    "# sacog = to_snakecase(gpd.read_file(\"https://services.sacog.org/hosting/rest/services/Hosted/2040_Major_Stops/FeatureServer/0/query?outFields=*&where=1%3D1&f=geojson\"))"
   ]
  },
  {
   "cell_type": "code",
   "execution_count": 29,
   "id": "ab949b09-5219-43cc-b7f4-53ee417c864f",
   "metadata": {},
   "outputs": [],
   "source": [
    "def sacog_lrtp(file_name):\n",
    "    \"\"\"\n",
    "    SACOG.xlsx\n",
    "    \"\"\"\n",
    "    df = to_snakecase(pd.read_excel(f\"{LRTP_GCS}{file_name}\"))\n",
    "    \n",
    "    # Delete embedded headers\n",
    "    df = delete_embedded_headers(df, \"description\", \"Description\")\n",
    "    \n",
    "    # Delete columns with all nulls\n",
    "    df = df.dropna(axis=1, how='all')\n",
    "    \n",
    "    return df"
   ]
  },
  {
   "cell_type": "code",
   "execution_count": 30,
   "id": "1ddf05b4-dbaf-45ae-b974-4cda46cd51cd",
   "metadata": {},
   "outputs": [
    {
     "name": "stdout",
     "output_type": "stream",
     "text": [
      "96 rows are headers\n"
     ]
    }
   ],
   "source": [
    "sacog = sacog_lrtp()"
   ]
  },
  {
   "cell_type": "code",
   "execution_count": 31,
   "id": "c9ea2918-10cc-4cc4-91e8-084689c7e56e",
   "metadata": {},
   "outputs": [
    {
     "data": {
      "text/plain": [
       "(1604, 10)"
      ]
     },
     "execution_count": 31,
     "metadata": {},
     "output_type": "execute_result"
    }
   ],
   "source": [
    "sacog.shape"
   ]
  },
  {
   "cell_type": "code",
   "execution_count": 32,
   "id": "6c28d9b7-6f91-4d19-93a4-6999311725fc",
   "metadata": {},
   "outputs": [],
   "source": [
    "def harmonize_sacog():\n",
    "    df = sacog_lrtp()\n",
    "    df = harmonizing_lrtp(\n",
    "        df,\n",
    "        project_name_col=\"title\",\n",
    "        project_description_col=\"description\",\n",
    "        project_category_col=\"budget_category\",\n",
    "        project_cost_col=\"total_project_cost__2018_dollars_\",\n",
    "        location_col=\"\",\n",
    "        county_col=\"county\",\n",
    "        city_col=\"\",\n",
    "        project_year_col=\"completion_timing\",\n",
    "        program=\"SACOG\",\n",
    "        phase_col=\"\",\n",
    "        data_source=\"LRTP\",\n",
    "        note_cols=[\n",
    "            \"year_of_expenditure_cost_for_planned_projects\",\n",
    "            \"status__planned,_programmed_or_project_development_only_\",\n",
    "        ],\n",
    "        cost_in_millions=True,\n",
    "    )\n",
    "\n",
    "    return df"
   ]
  },
  {
   "cell_type": "code",
   "execution_count": 33,
   "id": "26424a76-e8f9-4bd1-b6e3-208552cb46e5",
   "metadata": {},
   "outputs": [
    {
     "name": "stdout",
     "output_type": "stream",
     "text": [
      "96 rows are headers\n"
     ]
    },
    {
     "name": "stderr",
     "output_type": "stream",
     "text": [
      "/tmp/ipykernel_697/3100420876.py:36: UserWarning: This pattern is interpreted as a regular expression, and has match groups. To actually get the groups, use str.extract.\n"
     ]
    }
   ],
   "source": [
    "sacog_harmonized = harmonize_sacog()"
   ]
  },
  {
   "cell_type": "markdown",
   "id": "8872ef81-828c-4f39-bbb5-ee72db913d6e",
   "metadata": {
    "jp-MarkdownHeadingCollapsed": true,
    "tags": []
   },
   "source": [
    "### SANDAG\n",
    "* https://www.arcgis.com/home/item.html?id=ba8b2a6247ef463cb7411f039959f3ee\n",
    "* https://www.arcgis.com/apps/mapviewer/index.html?webmap=ba8b2a6247ef463cb7411f039959f3ee"
   ]
  },
  {
   "cell_type": "code",
   "execution_count": 3,
   "id": "7b48c181-36b1-49cb-8c8e-199f45f94a5e",
   "metadata": {},
   "outputs": [],
   "source": [
    "columns_to_keep = [\n",
    "    \"project_title\",\n",
    "    \"lead_agency\",\n",
    "    \"project_year\",\n",
    "    \"project_category\",\n",
    "    \"grant_program\",\n",
    "    \"project_description\",\n",
    "    \"total_project_cost\",\n",
    "    \"location\",\n",
    "    \"city\",\n",
    "    \"county\",\n",
    "    \"data_source\",\n",
    "    \"notes\",\n",
    "]"
   ]
  },
  {
   "cell_type": "code",
   "execution_count": 4,
   "id": "21933c7b-c56a-478a-9cd2-01b6f9c7a435",
   "metadata": {},
   "outputs": [],
   "source": [
    "def create_notes(df, note_cols: list):\n",
    "    prefix = \"_\"\n",
    "    for column in note_cols:\n",
    "        df[f\"{prefix}{column}\"] = df[column].astype(str)\n",
    "    note_cols = [prefix + sub for sub in note_cols]\n",
    "\n",
    "    # https://stackoverflow.com/questions/65532480/how-to-combine-column-names-and-values\n",
    "    def combine_notes(x):\n",
    "        return \", \".join([col + \": \" + x[col] for col in note_cols])\n",
    "\n",
    "    df[\"notes\"] = df.apply(combine_notes, axis=1)\n",
    "    df.notes = df.notes.str.replace(\"_\", \" \")\n",
    "\n",
    "    return df"
   ]
  },
  {
   "cell_type": "code",
   "execution_count": 5,
   "id": "d86d09e6-ba33-423c-af81-6d65f5444499",
   "metadata": {},
   "outputs": [],
   "source": [
    "def harmonizing_lrtp(\n",
    "    df,\n",
    "    project_name_col: str,\n",
    "    project_description_col: str,\n",
    "    project_category_col: str,\n",
    "    project_cost_col: str,\n",
    "    location_col: str,\n",
    "    county_col: str,\n",
    "    city_col: str,\n",
    "    project_year_col: str,\n",
    "    phase_col: str,\n",
    "    program: str,\n",
    "    data_source: str,\n",
    "    note_cols: list,\n",
    "    cost_in_millions: bool = True,\n",
    "):\n",
    "    \"\"\"\n",
    "    Take a dataset and change the column names/types to\n",
    "    the same names and formats.\n",
    "    \"\"\"\n",
    "    rename_columns = {\n",
    "        project_name_col: \"project_title\",\n",
    "        phase_col: \"phase\",\n",
    "        project_description_col: \"project_description\",\n",
    "        project_category_col: \"project_category\",\n",
    "        project_cost_col: \"total_project_cost\",\n",
    "        location_col: \"geometry\",\n",
    "        county_col: \"county\",\n",
    "        city_col: \"city\",\n",
    "        project_year_col: \"project_year\",\n",
    "    }\n",
    "    # Rename columns\n",
    "    df = df.rename(columns=rename_columns)\n",
    "\n",
    "    # Coerce cost/fund columns to right type\n",
    "    cost_columns = df.columns[df.columns.str.contains(\"(cost|funds)\")].tolist()\n",
    "  \n",
    "    for i in cost_columns:\n",
    "        df[i] = df[i].apply(pd.to_numeric, errors=\"coerce\")\n",
    " \n",
    "    # Add MPO & grant program\n",
    "    df[\"lead_agency\"] = program\n",
    "    df[\"grant_program\"] = f\"{program} {data_source}\"\n",
    "\n",
    "    # Add data source\n",
    "    df[\"data_source\"] = data_source\n",
    "\n",
    "    # Divide cost columns by millions\n",
    "    # If bool is set to True\n",
    "    if cost_in_millions:\n",
    "        for i in cost_columns:\n",
    "            df[i] = df[i].divide(1_000_000)\n",
    "\n",
    "    # Fill in any nulls\n",
    "    # df = df.fillna(df.dtypes.replace({\"float64\": 0.0, \"object\": \"None\"}))\n",
    "\n",
    "    # Create columns even if they don't exist, just to harmonize\n",
    "    # before concatting.\n",
    "    create_columns = [\n",
    "        \"county\",\n",
    "        \"city\",\n",
    "        \"notes\",\n",
    "        \"project_year\",\n",
    "        \"project_category\",\n",
    "        \"phase\",\n",
    "    ]\n",
    "    for column in create_columns:\n",
    "        if column not in df:\n",
    "            df[column] = \"None\"\n",
    "    if \"geometry\" not in df:\n",
    "        df[\"geometry\"] = None\n",
    "    # Create notes\n",
    "    df = create_notes(df, note_cols)\n",
    "\n",
    "    columns_to_keep = [\n",
    "        \"project_title\",\n",
    "        \"lead_agency\",\n",
    "        \"project_year\",\n",
    "        \"project_category\",\n",
    "        \"grant_program\",\n",
    "        \"project_description\",\n",
    "        \"phase\",\n",
    "        \"total_project_cost\",\n",
    "        \"geometry\",\n",
    "        \"city\",\n",
    "        \"county\",\n",
    "        \"data_source\",\n",
    "        \"notes\",\n",
    "    ]\n",
    "\n",
    "    df = df[columns_to_keep]\n",
    "\n",
    "    return df"
   ]
  },
  {
   "cell_type": "code",
   "execution_count": 6,
   "id": "b2b9fbf7-97d0-4319-b119-a77ca185c21a",
   "metadata": {},
   "outputs": [],
   "source": [
    "def open_rest_server(url_pt_1: str, url_pt_2: str, layer_name: list):\n",
    "    full_gdf = pd.DataFrame()\n",
    "    for i in layer_name:\n",
    "        gdf = to_snakecase(gpd.read_file(f\"{url_pt_1}{i}{url_pt_2}\"))\n",
    "        gdf[\"layer_name\"] = i\n",
    "        full_gdf = pd.concat([full_gdf, gdf], axis=0)\n",
    "\n",
    "    return full_gdf"
   ]
  },
  {
   "cell_type": "code",
   "execution_count": 7,
   "id": "df02e8c2-e29d-44b6-9e47-89656aff07c3",
   "metadata": {},
   "outputs": [],
   "source": [
    "def sandag_lrtp():\n",
    "    sandag_layers_list = [\n",
    "        \"Complete_Corridors_Connectors_Intersections_Ramps_RP2021\",\n",
    "        \"Complete_Corridors_Highway_RP2021\",\n",
    "        \"Transit_Leap_RP2021\",\n",
    "        \"Adopted_Regional_Bike_Network_RP2021\",\n",
    "        \"Mobility_Hubs_and_Flexible_Fleets\",\n",
    "        \"Complete_Corridors_Regional_Arterials\",\n",
    "        \"Goods_Movement\",\n",
    "    ]\n",
    "\n",
    "    sandag_url_pt1 = (\n",
    "        \"https://services1.arcgis.com/HG80xaIVT1z1OdO5/ArcGIS/rest/services/\"\n",
    "    )\n",
    "    sandag_url_pt2 = \"/FeatureServer/0/query?where=1%3D1&objectIds=&time=&geometry=&geometryType=esriGeometryEnvelope&inSR=&spatialRel=esriSpatialRelIntersects&resultType=none&distance=0.0&units=esriSRUnit_Meter&relationParam=&returnGeodetic=false&outFields=*+&returnGeometry=true&featureEncoding=esriDefault&multipatchOption=xyFootprint&maxAllowableOffset=&geometryPrecision=&outSR=&defaultSR=&datumTransformation=&applyVCSProjection=false&returnIdsOnly=false&returnUniqueIdsOnly=false&returnCountOnly=false&returnExtentOnly=false&returnQueryGeometry=false&returnDistinctValues=false&cacheHint=false&orderByFields=&groupByFieldsForStatistics=&outStatistics=&having=&resultOffset=&resultRecordCount=&returnZ=false&returnM=false&returnExceededLimitFeatures=true&quantizationParameters=&sqlFormat=none&f=pgeojson&token=\"\n",
    "    sandag = open_rest_server(sandag_url_pt1, sandag_url_pt2, sandag_layers_list)\n",
    "   \n",
    "    return sandag"
   ]
  },
  {
   "cell_type": "code",
   "execution_count": 8,
   "id": "8c0d88a6-cf33-4858-8c54-88ef88c56639",
   "metadata": {},
   "outputs": [],
   "source": [
    "def harmonize_sandag():\n",
    "    df = sandag_lrtp()\n",
    "    df = harmonizing_lrtp(\n",
    "        df,\n",
    "        project_name_col=\"project_name\",\n",
    "        project_description_col=\"description\",\n",
    "        project_category_col=\"category\",\n",
    "        project_cost_col=\"cost2020m\",\n",
    "        location_col=\"geometry\",\n",
    "        county_col=\"\",\n",
    "        city_col=\"\",\n",
    "        project_year_col=\"phase\",\n",
    "        phase_col=\"status\",\n",
    "        program=\"SANDAG\",\n",
    "        data_source=\"LRTP\",\n",
    "        note_cols=[\n",
    "            \"aqc_2016_1\",\n",
    "            \"aqc_2020_1\",\n",
    "            \"pricmcp\",\n",
    "            \"conncmcp\",\n",
    "            \"layer_name\",\n",
    "            \"corridor_i\",\n",
    "            \"type_1\",\n",
    "            \"existing\",\n",
    "            \"limits\",\n",
    "            \"description_1\",\n",
    "            \"route\",\n",
    "            \"routetype\",\n",
    "            \"route_desc\",\n",
    "            \"rp_2021_id\",\n",
    "            \"rp_2021_id_1\",\n",
    "            \"capital_cost___2020__millions\",\n",
    "        ],\n",
    "        cost_in_millions=True,\n",
    "    )\n",
    "\n",
    "    return df"
   ]
  },
  {
   "cell_type": "markdown",
   "id": "66381b2e-dc5f-43ee-b469-ab21868160a6",
   "metadata": {
    "jp-MarkdownHeadingCollapsed": true,
    "tags": []
   },
   "source": [
    "### SBCAG"
   ]
  },
  {
   "cell_type": "code",
   "execution_count": 124,
   "id": "b7790955-642c-400f-be3a-8c2fb288c476",
   "metadata": {},
   "outputs": [],
   "source": [
    "def sbcag_lrtp(file_name):\n",
    "    \"\"\"\n",
    "    SBCAG.xlsx\n",
    "    \"\"\"\n",
    "    df = to_snakecase(pd.read_excel(f\"{LRTP_GCS}{file_name}\"))\n",
    "    drop_columns = ['unnamed:_2', 'project_type', 'unnamed:_4','unnamed:_6', 'unnamed:_8', 'unnamed:_9',\n",
    "           'unnamed:_10', 'unnamed:_13',]\n",
    "    df = df.drop(columns = drop_columns)\n",
    "    df = delete_embedded_headers(df, \"description\", \"Description\")\n",
    "    df = df.dropna(subset = ['description']).reset_index(drop = True)\n",
    "    \n",
    "    # df['total_cost_millions'] = df['total_cost__$000s_'].apply(pd.to_numeric, errors=\"coerce\") * 1_000\n",
    "    return df "
   ]
  },
  {
   "cell_type": "code",
   "execution_count": 125,
   "id": "51bc1d33-07c5-4055-afdc-8a240aad7469",
   "metadata": {},
   "outputs": [
    {
     "name": "stdout",
     "output_type": "stream",
     "text": [
      "65 rows are headers\n"
     ]
    }
   ],
   "source": [
    "sbcag = sbcag_lrtp(\"SBCAG.xlsx\")"
   ]
  },
  {
   "cell_type": "code",
   "execution_count": 122,
   "id": "3c8a0028-5713-494b-8034-c769882428cc",
   "metadata": {},
   "outputs": [
    {
     "data": {
      "text/plain": [
       "(480, 8)"
      ]
     },
     "execution_count": 122,
     "metadata": {},
     "output_type": "execute_result"
    }
   ],
   "source": [
    "sbcag.shape"
   ]
  },
  {
   "cell_type": "markdown",
   "id": "87f84c56-f5d8-44fc-8089-43816b54a259",
   "metadata": {
    "jp-MarkdownHeadingCollapsed": true,
    "tags": []
   },
   "source": [
    "###  SJCOG"
   ]
  },
  {
   "cell_type": "code",
   "execution_count": 146,
   "id": "b717a8a3-4245-4192-bd4c-0eef3a0ad3df",
   "metadata": {},
   "outputs": [],
   "source": [
    "df = to_snakecase(pd.read_excel(f\"{LRTP_GCS}SJCOG.xlsx\"))"
   ]
  },
  {
   "cell_type": "code",
   "execution_count": 152,
   "id": "16dadb67-3ba8-4487-a896-d1c28f301312",
   "metadata": {},
   "outputs": [],
   "source": [
    "sheets_list = [\"1 Mainline\", \"2 Interchanges\", \"3 Reg Roadways\",\n",
    "              \"4 RR Xings\", \"5 Bus Transit\", \"6 Rail Corridor\",\n",
    "              \"7 Airports\", \"8 Active Trans Facilities\", \"9 TCMs\",\n",
    "              \"10 Ops & Maint\",]"
   ]
  },
  {
   "cell_type": "code",
   "execution_count": 153,
   "id": "fdd8d069-fd91-4dc8-94c8-d1a65cbdc824",
   "metadata": {},
   "outputs": [],
   "source": [
    "dict_df = pd.read_excel(f\"{LRTP_GCS}SJCOG.xlsx\", sheet_name=sheets_list)"
   ]
  },
  {
   "cell_type": "code",
   "execution_count": 154,
   "id": "b1e6a5fd-15a9-45a7-b3fc-3808ac2ffd97",
   "metadata": {},
   "outputs": [],
   "source": [
    "df1 = to_snakecase(dict_df.get(\"1 Mainline\"))"
   ]
  },
  {
   "cell_type": "code",
   "execution_count": 159,
   "id": "0ec9ef2e-fcb3-45ac-bb52-b3e3bd07faf0",
   "metadata": {},
   "outputs": [],
   "source": [
    "df2 = to_snakecase(dict_df.get(\"2 Interchanges\"))"
   ]
  },
  {
   "cell_type": "code",
   "execution_count": 160,
   "id": "50e1b10e-03c1-429d-8d16-aa7b87ccca0c",
   "metadata": {},
   "outputs": [],
   "source": [
    "df3 = to_snakecase(dict_df.get( \"3 Reg Roadways\"))"
   ]
  },
  {
   "cell_type": "code",
   "execution_count": 161,
   "id": "f62d79d8-5564-4b62-a7ff-3bea843a8494",
   "metadata": {},
   "outputs": [],
   "source": [
    "df4 = to_snakecase(dict_df.get(\"4 RR Xings\"))"
   ]
  },
  {
   "cell_type": "code",
   "execution_count": 162,
   "id": "2a5e1026-53ea-4dc6-8603-4f728968b515",
   "metadata": {},
   "outputs": [],
   "source": [
    "df5 = to_snakecase(dict_df.get(\"5 Bus Transit\"))"
   ]
  },
  {
   "cell_type": "code",
   "execution_count": 163,
   "id": "3944ce27-8c55-40ce-9ac4-86ae20e0b076",
   "metadata": {},
   "outputs": [],
   "source": [
    "df6 = to_snakecase(dict_df.get(\"6 Rail Corridor\"))"
   ]
  },
  {
   "cell_type": "code",
   "execution_count": 164,
   "id": "5850da52-ea41-4a5e-b11d-d5aea81deea0",
   "metadata": {},
   "outputs": [],
   "source": [
    "df7 = to_snakecase(dict_df.get(\"7 Airports\"))"
   ]
  },
  {
   "cell_type": "code",
   "execution_count": 165,
   "id": "e522dc90-98fc-4c77-9824-5c21188fa97a",
   "metadata": {},
   "outputs": [],
   "source": [
    "df8 = to_snakecase(dict_df.get(\"8 Active Trans Facilities\"))"
   ]
  },
  {
   "cell_type": "code",
   "execution_count": 166,
   "id": "6efd4138-3ca5-41e0-8549-01523415c644",
   "metadata": {},
   "outputs": [],
   "source": [
    "df9 = to_snakecase(dict_df.get(\"9 TCMs\"))"
   ]
  },
  {
   "cell_type": "code",
   "execution_count": 167,
   "id": "d2a64bfd-9a85-4762-8777-d29739bbe101",
   "metadata": {},
   "outputs": [],
   "source": [
    "df10 = to_snakecase(dict_df.get(\"10 Ops & Maint\"))"
   ]
  },
  {
   "cell_type": "code",
   "execution_count": 170,
   "id": "9f19ea7f-32f2-4401-a11e-ee14431f726a",
   "metadata": {},
   "outputs": [],
   "source": [
    "concat1 = pd.concat([df1,df2,df3,df4,df5,df6,df7,df8,df9,df10], axis=1)"
   ]
  },
  {
   "cell_type": "code",
   "execution_count": 171,
   "id": "494e37e1-5636-4df8-858f-0ff57c36c39d",
   "metadata": {},
   "outputs": [
    {
     "name": "stdout",
     "output_type": "stream",
     "text": [
      "<class 'pandas.core.frame.DataFrame'>\n",
      "RangeIndex: 67 entries, 0 to 66\n",
      "Columns: 177 entries, unnamed:_0 to milestone_years_1\n",
      "dtypes: float64(92), object(85)\n",
      "memory usage: 92.8+ KB\n"
     ]
    }
   ],
   "source": [
    "concat1.info()"
   ]
  },
  {
   "cell_type": "markdown",
   "id": "91e53794-6958-4842-b44b-c8be70e07e28",
   "metadata": {
    "jp-MarkdownHeadingCollapsed": true,
    "tags": []
   },
   "source": [
    "### Stancog"
   ]
  },
  {
   "cell_type": "code",
   "execution_count": 203,
   "id": "491babec-45f7-46bd-957f-b10454a423ce",
   "metadata": {},
   "outputs": [],
   "source": [
    "def embedded_column_names(df, data_start:int) -> pd.DataFrame:\n",
    "    \"\"\"\n",
    "    Some excel sheets have headers and  column names\n",
    "    embedded in the dataframe. Take them out.\n",
    "    \"\"\"\n",
    "    # Delete header \n",
    "    df = df.iloc[data_start:].reset_index(drop=True)\n",
    "    # The first row contains column names - update it to the column\n",
    "    df.columns = df.iloc[0]\n",
    "\n",
    "    # Drop the first row as they are now column names\n",
    "    df = df.drop(df.index[0]).reset_index(drop=True)\n",
    "    \n",
    "    return df "
   ]
  },
  {
   "cell_type": "code",
   "execution_count": 204,
   "id": "713f30b2-6323-4557-9602-f52612494566",
   "metadata": {},
   "outputs": [],
   "source": [
    "def stancog_lrtp(file_name):\n",
    "    \"\"\"\n",
    "    STANCOG.xlsx\n",
    "    \"\"\"\n",
    "    df = to_snakecase(pd.read_excel(f\"{LRTP_GCS}{file_name}\"))\n",
    "    df = embedded_column_names(df, 1)\n",
    "    keep_columns = [\n",
    "     'Jurisdiction',\n",
    "     'Location',\n",
    "     'Project Limits',\n",
    "     'Description',\n",
    "     'Total Cost',\n",
    "     'Open to Traffic',\n",
    "     'Funding Source',\n",
    "     'System Preserv.',\n",
    "     'Capacity Enhance.',\n",
    "     'Safety',\n",
    "     'Oper.',\n",
    "     'Complete Streets',\n",
    "     'Active\\nTransporta tion',\n",
    "     'Transit',\n",
    "     'Other']\n",
    "    \n",
    "    df = df[keep_columns]\n",
    "    \n",
    "    df = to_snakecase(df)\n",
    "    \n",
    "    df = df.dropna(subset = ['description']).reset_index(drop = True)\n",
    "    \n",
    "    return df"
   ]
  },
  {
   "cell_type": "code",
   "execution_count": 205,
   "id": "00a53e3d-700a-4a78-befc-27e83cd42cad",
   "metadata": {},
   "outputs": [],
   "source": [
    "stancog = stancog_lrtp(\"STANCOG.xlsx\")"
   ]
  },
  {
   "cell_type": "markdown",
   "id": "f806dda3-1fb0-4c41-b6b3-729bf31afc3a",
   "metadata": {
    "jp-MarkdownHeadingCollapsed": true,
    "tags": []
   },
   "source": [
    "### Tahoe\n",
    "* Open data portal: https://www.tahoeopendata.org/search?tags=transportation\n",
    "* https://www.tahoeopendata.org/datasets/TRPA::2020-regional-transportation-plan-projects/about"
   ]
  },
  {
   "cell_type": "code",
   "execution_count": 16,
   "id": "56da12dd-7e5a-4a98-b5d2-05067016d49b",
   "metadata": {},
   "outputs": [],
   "source": [
    "def tmpo_lrtp():\n",
    "    tahoe_url = \"https://maps.trpa.org/server/rest/services/Datadownloader_Transportation/MapServer/19/query?where=1%3D1&text=&objectIds=&time=&timeRelation=esriTimeRelationOverlaps&geometry=&geometryType=esriGeometryEnvelope&inSR=&spatialRel=esriSpatialRelIntersects&distance=&units=esriSRUnit_Foot&relationParam=&outFields=*+&returnGeometry=true&returnTrueCurves=false&maxAllowableOffset=&geometryPrecision=&outSR=&havingClause=&returnIdsOnly=false&returnCountOnly=false&orderByFields=&groupByFieldsForStatistics=&outStatistics=&returnZ=false&returnM=false&gdbVersion=&historicMoment=&returnDistinctValues=false&resultOffset=&resultRecordCount=&returnExtentOnly=false&sqlFormat=none&datumTransformation=&parameterValues=&rangeValues=&quantizationParameters=&featureEncoding=esriDefault&f=geojson\"\n",
    "    gdf = to_snakecase(gpd.read_file(tahoe_url))\n",
    "    gdf.complete_year = gdf.complete_year.astype(int)\n",
    "\n",
    "    # Filter out projects that are not yet completed\n",
    "    gdf2 = gdf[gdf.complete_year > 2022].reset_index(drop=True)\n",
    "\n",
    "    gdf2[\"project_year\"] = (\n",
    "        gdf2.start_year.astype(str) + \"-\" + gdf.complete_year.astype(str)\n",
    "    )\n",
    "    return gdf2"
   ]
  },
  {
   "cell_type": "code",
   "execution_count": 17,
   "id": "7adc4e36-a827-4342-8bdf-eb95d61dc5eb",
   "metadata": {},
   "outputs": [],
   "source": [
    "def harmonize_tahoe():\n",
    "    df = tmpo_lrtp()\n",
    "    df = harmonizing_lrtp(\n",
    "        df,\n",
    "        project_name_col=\"project_name\",\n",
    "        project_description_col=\"description\",\n",
    "        project_category_col=\"category\",\n",
    "        project_cost_col=\"estimated_cost\",\n",
    "        location_col=\"geometry\",\n",
    "        county_col=\"\",\n",
    "        city_col=\"\",\n",
    "        project_year_col=\"project_year\",\n",
    "        program=\"TMPO\",\n",
    "        phase_col=\"phase\",\n",
    "        data_source=\"LRTP\",\n",
    "        note_cols=[\n",
    "            \"implementer\",\n",
    "            \"funding_type\",\n",
    "            \"plan_name\",\n",
    "            \"label\",\n",
    "            \"financial_status\",\n",
    "            \"url\",\n",
    "        ],\n",
    "        cost_in_millions=True,\n",
    "    )\n",
    "\n",
    "    return df"
   ]
  },
  {
   "cell_type": "markdown",
   "id": "c471e856-9603-4174-85e3-7b5612599f76",
   "metadata": {},
   "source": [
    "### Congestion"
   ]
  },
  {
   "cell_type": "markdown",
   "id": "93a08cfd-9bf0-43c5-aa47-360644e03d3b",
   "metadata": {
    "tags": []
   },
   "source": [
    "#### Lost"
   ]
  },
  {
   "cell_type": "code",
   "execution_count": null,
   "id": "768f56f8-3f8f-4bee-a47d-6e2ad031af6e",
   "metadata": {},
   "outputs": [],
   "source": [
    "lost = harmonization_utils.load_lost()"
   ]
  },
  {
   "cell_type": "code",
   "execution_count": null,
   "id": "82c5ea3e-c588-4b56-92a7-31df48be6a2e",
   "metadata": {},
   "outputs": [],
   "source": [
    "lost.head()"
   ]
  },
  {
   "cell_type": "code",
   "execution_count": null,
   "id": "c99deb53-c295-43ef-aedc-bd34e103f2d4",
   "metadata": {},
   "outputs": [],
   "source": [
    "def harmonize_lost():\n",
    "    df = harmonization_utils.load_lost()\n",
    "    df = harmonizing_lrtp(\n",
    "        df,\n",
    "        project_name_col=\"project_title\",\n",
    "        project_description_col=\"project_description\",\n",
    "        project_category_col=\"project_category\",\n",
    "        project_cost_col=\"cost__in_millions_\",\n",
    "        location_col=\"\",\n",
    "        county_col=\"county\",\n",
    "        city_col=\"city\",\n",
    "        project_year_col=\"\",\n",
    "        program=\"\",\n",
    "        phase_col=\"phase\",\n",
    "        data_source=\"LOST\",\n",
    "        note_cols=[\"measure\", 'estimated_lost_funds',\n",
    "       'estimated_federal_funds', 'estimated_state_funds',\n",
    "       'estimated_local_funds', 'estimated_other_funds',\"notes\"],\n",
    "        cost_in_millions=False,\n",
    "    )\n",
    "    \n",
    "    \n",
    "    return df"
   ]
  },
  {
   "cell_type": "code",
   "execution_count": null,
   "id": "c3bdc3b8-acec-4611-a7ff-1d5a3e28829d",
   "metadata": {},
   "outputs": [],
   "source": [
    "lost_harmonized = harmonize_lost()"
   ]
  },
  {
   "cell_type": "code",
   "execution_count": null,
   "id": "01d6f212-60e9-4064-b5b2-063ecff04bed",
   "metadata": {},
   "outputs": [],
   "source": [
    "lost_harmonized.head()"
   ]
  },
  {
   "cell_type": "code",
   "execution_count": null,
   "id": "b09c5244-9c4e-4c40-b55f-7d20b0c4154b",
   "metadata": {},
   "outputs": [],
   "source": [
    "def all_mpo():\n",
    "    tahoe = harmonize_tahoe()\n",
    "    sandag = harmonize_sandag()\n",
    "    mtc = harmonize_mtc()\n",
    "    lost = harmonize_lost()\n",
    "    sacog = harmonize_sacog()\n",
    "    scag = harmonize_scag()\n",
    "    \n",
    "    df = pd.concat([tahoe, mtc, sandag, lost, sacog, scag])\n",
    "\n",
    "    return df"
   ]
  },
  {
   "cell_type": "code",
   "execution_count": null,
   "id": "f6029dfe-f101-4907-b124-02ac0a08983a",
   "metadata": {},
   "outputs": [],
   "source": [
    "all_mpo_df = all_mpo()"
   ]
  },
  {
   "cell_type": "code",
   "execution_count": null,
   "id": "cbf33c3b-c592-4ba3-a422-ccf599a1dcb2",
   "metadata": {},
   "outputs": [],
   "source": [
    "all_mpo_df.groupby([\"grant_program\"]).size()"
   ]
  },
  {
   "cell_type": "code",
   "execution_count": null,
   "id": "48a098da-a194-4515-8bf9-ac08dd3b109e",
   "metadata": {},
   "outputs": [],
   "source": [
    "congest_keywords = [\n",
    "    \"congestion pricing\",\n",
    "    \"variablly priced\",\n",
    "    \"variable tolls\",\n",
    "    \"express lane\",\n",
    "    \"value\",\n",
    "    \"rush hour\",\n",
    "    \"cordon\",\n",
    "    \"dynamic pricing\",\n",
    "    \"dynmically priced\",\n",
    "    \"high occupancy toll\",\n",
    "    \"high-occupancy\"\n",
    "    \"mobility pricing\",\n",
    "    \"occupancy\",\n",
    "    \"toll lane\",\n",
    "    \"performance pricing\",\n",
    "    \"peak travel\",\n",
    "    \"managed lane\",\n",
    "    \"tollway\",\n",
    "    \"transponder\",\n",
    "    \"express toll\",\n",
    "    \"fixed pricing\"\n",
    "]"
   ]
  },
  {
   "cell_type": "code",
   "execution_count": null,
   "id": "89a96375-12a8-4c36-a6b9-85946e613e28",
   "metadata": {},
   "outputs": [],
   "source": [
    "def lower_case(df, columns_to_search: list):\n",
    "    \"\"\"\n",
    "    Lowercase certain columns\n",
    "    \"\"\"\n",
    "    new_columns = []\n",
    "    for i in columns_to_search:\n",
    "        df[f\"lower_case_{i}\"] = (df[i].str.lower().fillna(\"none\")\n",
    "                                 .str.replace(\"-\",\"\")\n",
    "                                 .str.replace(\".\",\"\")\n",
    "                                 .str.replace(\":\",\"\")\n",
    "                                )\n",
    "        new_columns.append(f\"lower_case_{i}\")\n",
    "\n",
    "    return df,new_columns"
   ]
  },
  {
   "cell_type": "code",
   "execution_count": null,
   "id": "8610673b-beb8-43ce-86ad-65a5edbb116b",
   "metadata": {},
   "outputs": [],
   "source": [
    "def find_keywords(df, columns_to_search:list, keywords_search:list):\n",
    "    df2, lower_case_cols_list = lower_case(df, columns_to_search)\n",
    "    \n",
    "    keywords_search = f\"({'|'.join(keywords_search)})\"\n",
    "    \n",
    "    for i in lower_case_cols_list:\n",
    "        df2[f\"{i}_keyword_search\"] = df2[i].str.extract(keywords_search).fillna(\"not congestion\")\n",
    "    \n",
    "    return df2"
   ]
  },
  {
   "cell_type": "code",
   "execution_count": null,
   "id": "e4ca79dc-e0ec-4e53-a09c-86cf396bb4a9",
   "metadata": {},
   "outputs": [],
   "source": [
    "# test = find_keywords(all_mpo_df,  [\"project_title\", \"project_description\", \"notes\"], congest_keywords)"
   ]
  },
  {
   "cell_type": "code",
   "execution_count": null,
   "id": "f7b3c57c-eee0-418a-82b6-051a01dd2488",
   "metadata": {},
   "outputs": [],
   "source": [
    "def filter_cordon(df, columns_to_search:list, keywords_search:list, save_to_gcs: bool = False):\n",
    "\n",
    "    # Filter out for Cordon \n",
    "    df = find_keywords(df, columns_to_search, keywords_search)\n",
    "    df2 = (df[(df.lower_case_project_title_keyword_search != \"not congestion\")\n",
    "        | (df.lower_case_project_description_keyword_search != \"not congestion\")]).reset_index(drop=True)\n",
    "    \n",
    "    # Delete out HOV\n",
    "    projects_to_delete = [\"SR 17 Corridor Congestion Relief in Los Gatos\",\n",
    "                         \"Interstate 380 Congestion Improvements\"]\n",
    "    df2 = df2[~df2.project_title.isin(projects_to_delete)].reset_index(drop = True)\n",
    "\n",
    "    # Drop invalid geometries\n",
    "    gdf = df2[~df2.geometry.is_empty].reset_index(drop = True)\n",
    "    gdf = gdf[gdf.geometry.is_valid].reset_index(drop = True)\n",
    "    \n",
    "    gdf = gdf.set_geometry(\"geometry\")\n",
    "    gdf = gdf.fillna(gdf.dtypes.replace({\"float64\": 0.0, \"object\": \"None\"}))\n",
    "\n",
    "    # One version that's a df\n",
    "    columns_to_drop = ['lower_case_project_title', 'lower_case_project_description']\n",
    "    df2 = df2.drop(columns = columns_to_drop + ['geometry'])\n",
    "    # df2 = df2.fillna(df.dtypes.replace({\"float64\": 0.0, \"object\": \"None\"}))\n",
    "    \n",
    "    if save_to_gcs:\n",
    "        df2.to_excel(f\"{harmonization_utils.GCS_FILE_PATH}LRTP/congestion_pricing_sample.xlsx\", sheet_name=\"Sheet_name_1\", index=False)\n",
    "        gdf.to_file(\"./congestion_pricing_sample.geojson\", driver=\"GeoJSON\")\n",
    "        \n",
    "    return gdf, df2"
   ]
  },
  {
   "cell_type": "code",
   "execution_count": null,
   "id": "301e83a2-af81-404f-9451-f9e2d1b3e57d",
   "metadata": {},
   "outputs": [],
   "source": [
    "cordon_gdf, cordon_df = filter_cordon(all_mpo_df, [\"project_title\", \"project_description\",], congest_keywords)"
   ]
  },
  {
   "cell_type": "code",
   "execution_count": null,
   "id": "94759bf4-3364-48b2-871a-c5855b4aff06",
   "metadata": {},
   "outputs": [],
   "source": [
    "len(cordon_df.drop_duplicates(subset = ['project_title']))"
   ]
  },
  {
   "cell_type": "code",
   "execution_count": null,
   "id": "73326293-f186-4035-b66e-efcdc8ed00e6",
   "metadata": {
    "tags": []
   },
   "outputs": [],
   "source": [
    "cordon_df.groupby([\"grant_program\"]).agg({\"project_title\":\"nunique\"})"
   ]
  },
  {
   "cell_type": "code",
   "execution_count": null,
   "id": "ff133b8e-e666-4dde-84d4-56e3e6e833b0",
   "metadata": {},
   "outputs": [],
   "source": [
    "cordon_df.grant_program.value_counts()"
   ]
  },
  {
   "cell_type": "code",
   "execution_count": null,
   "id": "b52f9434-889f-42b8-aa33-4c72b02cc828",
   "metadata": {},
   "outputs": [],
   "source": [
    "cordon_df.drop_duplicates(subset = ['total_project_cost','project_title',]).groupby([\"grant_program\"]).agg({'total_project_cost':'sum'})"
   ]
  },
  {
   "cell_type": "code",
   "execution_count": null,
   "id": "9de2efe0-ea2b-417c-9718-9660cf91d60b",
   "metadata": {},
   "outputs": [],
   "source": [
    "cols_to_drop = ['city','county', 'notes', 'phase','project_year',]"
   ]
  },
  {
   "cell_type": "code",
   "execution_count": null,
   "id": "b454bd7d-4824-47c7-959b-8b242ad73739",
   "metadata": {
    "scrolled": true,
    "tags": []
   },
   "outputs": [],
   "source": [
    "cordon_df.drop(columns =cols_to_drop).drop_duplicates(subset = ['project_title', 'project_description'])"
   ]
  },
  {
   "cell_type": "code",
   "execution_count": null,
   "id": "e5394efd-2a93-46e0-8e5d-bc9326680b24",
   "metadata": {},
   "outputs": [],
   "source": [
    "# cordon_gdf.explore('project_title', cmap= 'tab20c', style_kwds={'weight':6}, legend = False)"
   ]
  }
 ],
 "metadata": {
  "kernelspec": {
   "display_name": "Python 3 (ipykernel)",
   "language": "python",
   "name": "python3"
  },
  "language_info": {
   "codemirror_mode": {
    "name": "ipython",
    "version": 3
   },
   "file_extension": ".py",
   "mimetype": "text/x-python",
   "name": "python",
   "nbconvert_exporter": "python",
   "pygments_lexer": "ipython3",
   "version": "3.9.13"
  }
 },
 "nbformat": 4,
 "nbformat_minor": 5
}
