{
 "cells": [
  {
   "cell_type": "markdown",
   "id": "ec8f501a-adea-4a26-a123-b8813b11a7f8",
   "metadata": {},
   "source": [
    "## Long Range Transportation Plan"
   ]
  },
  {
   "cell_type": "code",
   "execution_count": 2,
   "id": "4d9c4625-d899-467f-822f-685ea519e37a",
   "metadata": {},
   "outputs": [
    {
     "name": "stderr",
     "output_type": "stream",
     "text": [
      "/opt/conda/lib/python3.9/site-packages/geopandas/_compat.py:123: UserWarning: The Shapely GEOS version (3.11.1-CAPI-1.17.1) is incompatible with the GEOS version PyGEOS was compiled with (3.10.1-CAPI-1.16.0). Conversions between both will be slow.\n",
      "  warnings.warn(\n",
      "/home/jovyan/data-analyses/project_list/_sb1_utils.py:1: UserWarning: Shapely 2.0 is installed, but because PyGEOS is also installed, GeoPandas will still use PyGEOS by default for now. To force to use and test Shapely 2.0, you have to set the environment variable USE_PYGEOS=0. You can do this before starting the Python process, or in your code before importing geopandas:\n",
      "\n",
      "import os\n",
      "os.environ['USE_PYGEOS'] = '0'\n",
      "import geopandas\n",
      "\n",
      "In a future release, GeoPandas will switch to using Shapely by default. If you are using PyGEOS directly (calling PyGEOS functions on geometries from GeoPandas), this will then stop working and you are encouraged to migrate from PyGEOS to Shapely 2.0 (https://shapely.readthedocs.io/en/latest/migration_pygeos.html).\n",
      "  import geopandas as gpd\n"
     ]
    }
   ],
   "source": [
    "import _harmonization_utils as harmonization_utils\n",
    "import geopandas as gpd\n",
    "import numpy as np\n",
    "import pandas as pd\n",
    "from calitp_data_analysis.sql import to_snakecase\n",
    "from shared_utils import geography_utils, utils"
   ]
  },
  {
   "cell_type": "code",
   "execution_count": 3,
   "id": "c98b342d-5b6d-4ec2-8d19-b57cab057892",
   "metadata": {},
   "outputs": [],
   "source": [
    "pd.options.display.max_columns = 100\n",
    "pd.options.display.float_format = \"{:.2f}\".format\n",
    "pd.set_option(\"display.max_rows\", None)\n",
    "pd.set_option(\"display.max_colwidth\", None)"
   ]
  },
  {
   "cell_type": "code",
   "execution_count": 4,
   "id": "2cf79fc5-8683-40b7-af93-c9edb9c5bc57",
   "metadata": {},
   "outputs": [],
   "source": [
    "LRTP_GCS = f\"{harmonization_utils.GCS_FILE_PATH}LRTP/\""
   ]
  },
  {
   "cell_type": "markdown",
   "id": "e3e8de85-ee99-4e15-b234-d7a0053bd982",
   "metadata": {
    "tags": []
   },
   "source": [
    "### General Functions"
   ]
  },
  {
   "cell_type": "code",
   "execution_count": 5,
   "id": "51dfac91-35f8-4eb0-bcb1-2f7d09296e01",
   "metadata": {},
   "outputs": [],
   "source": [
    "def give_info(df, project_title: str, other_descriptive_col: str):\n",
    "    print(df[project_title].value_counts().head())\n",
    "    print(f\"# of unique project titles: {df[project_title].nunique()}\")\n",
    "    print(\n",
    "        f\"After dropping duplicates {len(df.drop_duplicates(subset = [project_title, other_descriptive_col]))}\"\n",
    "    )\n",
    "    print(f\"Df shape: {df.shape}\")\n",
    "    print(df.columns)"
   ]
  },
  {
   "cell_type": "code",
   "execution_count": 6,
   "id": "d86d09e6-ba33-423c-af81-6d65f5444499",
   "metadata": {},
   "outputs": [],
   "source": [
    "def harmonizing_lrtp(\n",
    "    df,\n",
    "    project_name_col: str,\n",
    "    project_description_col: str,\n",
    "    project_category_col: str,\n",
    "    project_cost_col: str,\n",
    "    location_col: str,\n",
    "    county_col: str,\n",
    "    city_col: str,\n",
    "    project_year_col: str,\n",
    "    phase_col: str,\n",
    "    program: str,\n",
    "    data_source: str,\n",
    "    note_cols: list,\n",
    "    cost_in_millions: bool = True,\n",
    "):\n",
    "    \"\"\"\n",
    "    Take a dataset and change the column names/types to\n",
    "    the same names and formats.\n",
    "    \"\"\"\n",
    "    rename_columns = {\n",
    "        project_name_col: \"project_title\",\n",
    "        phase_col: \"phase\",\n",
    "        project_description_col: \"project_description\",\n",
    "        project_category_col: \"project_category\",\n",
    "        project_cost_col: \"total_project_cost\",\n",
    "        location_col: \"geometry\",\n",
    "        county_col: \"county\",\n",
    "        city_col: \"city\",\n",
    "        project_year_col: \"project_year\",\n",
    "    }\n",
    "    # Rename columns\n",
    "    df = df.rename(columns=rename_columns)\n",
    "\n",
    "    # Coerce cost/fund columns to right type\n",
    "    cost_columns = df.columns[df.columns.str.contains(\"(cost|funds)\")].tolist()\n",
    "\n",
    "    for i in cost_columns:\n",
    "        df[i] = df[i].apply(pd.to_numeric, errors=\"coerce\")\n",
    "\n",
    "    # Add MPO & grant program\n",
    "    df[\"lead_agency\"] = program\n",
    "    df[\"grant_program\"] = f\"{program} {data_source}\"\n",
    "\n",
    "    # Add data source\n",
    "    df[\"data_source\"] = data_source\n",
    "\n",
    "    # Divide cost columns by millions\n",
    "    # If bool is set to True\n",
    "    if cost_in_millions:\n",
    "        for i in cost_columns:\n",
    "            df[i] = df[i].divide(1_000_000)\n",
    "\n",
    "    # Fill in any nulls\n",
    "    # df = df.fillna(df.dtypes.replace({\"float64\": 0.0, \"object\": \"None\"}))\n",
    "\n",
    "    # Create columns even if they don't exist, just to harmonize\n",
    "    # before concatting.\n",
    "    create_columns = [\n",
    "        \"county\",\n",
    "        \"city\",\n",
    "        \"notes\",\n",
    "        \"project_year\",\n",
    "        \"project_category\",\n",
    "        \"phase\",\n",
    "    ]\n",
    "    for column in create_columns:\n",
    "        if column not in df:\n",
    "            df[column] = \"None\"\n",
    "    if \"geometry\" not in df:\n",
    "        df[\"geometry\"] = None\n",
    "    # Create notes\n",
    "    df = create_notes(df, note_cols)\n",
    "\n",
    "    columns_to_keep = [\n",
    "        \"project_title\",\n",
    "        \"lead_agency\",\n",
    "        \"project_year\",\n",
    "        \"project_category\",\n",
    "        \"grant_program\",\n",
    "        \"project_description\",\n",
    "        \"phase\",\n",
    "        \"total_project_cost\",\n",
    "        \"geometry\",\n",
    "        \"city\",\n",
    "        \"county\",\n",
    "        \"data_source\",\n",
    "        \"notes\",\n",
    "    ]\n",
    "\n",
    "    df = df[columns_to_keep]\n",
    "\n",
    "    return df"
   ]
  },
  {
   "cell_type": "code",
   "execution_count": 7,
   "id": "491babec-45f7-46bd-957f-b10454a423ce",
   "metadata": {},
   "outputs": [],
   "source": [
    "def embedded_column_names(df, data_start: int) -> pd.DataFrame:\n",
    "    \"\"\"\n",
    "    Some excel sheets have headers and  column names\n",
    "    embedded in the dataframe. Take them out.\n",
    "    \"\"\"\n",
    "    # Delete header\n",
    "    df = df.iloc[data_start:].reset_index(drop=True)\n",
    "    # The first row contains column names - update it to the column\n",
    "    df.columns = df.iloc[0]\n",
    "\n",
    "    # Drop the first row as they are now column names\n",
    "    df = df.drop(df.index[0]).reset_index(drop=True)\n",
    "\n",
    "    return df"
   ]
  },
  {
   "cell_type": "code",
   "execution_count": 8,
   "id": "21933c7b-c56a-478a-9cd2-01b6f9c7a435",
   "metadata": {},
   "outputs": [],
   "source": [
    "def create_notes(df, note_cols: list):\n",
    "    prefix = \"_\"\n",
    "    for column in note_cols:\n",
    "        df[f\"{prefix}{column}\"] = df[column].astype(str)\n",
    "    note_cols = [prefix + sub for sub in note_cols]\n",
    "\n",
    "    # https://stackoverflow.com/questions/65532480/how-to-combine-column-names-and-values\n",
    "    def combine_notes(x):\n",
    "        return \", \".join([col + \": \" + x[col] for col in note_cols])\n",
    "\n",
    "    df[\"notes\"] = df.apply(combine_notes, axis=1)\n",
    "    df.notes = df.notes.str.replace(\"_\", \" \")\n",
    "\n",
    "    return df"
   ]
  },
  {
   "cell_type": "code",
   "execution_count": 9,
   "id": "b2b9fbf7-97d0-4319-b119-a77ca185c21a",
   "metadata": {},
   "outputs": [],
   "source": [
    "def open_rest_server(url_pt_1: str, url_pt_2: str, layer_name: list):\n",
    "    full_gdf = pd.DataFrame()\n",
    "    for i in layer_name:\n",
    "        gdf = to_snakecase(gpd.read_file(f\"{url_pt_1}{i}{url_pt_2}\"))\n",
    "        gdf[\"layer_name\"] = i\n",
    "        full_gdf = pd.concat([full_gdf, gdf], axis=0)\n",
    "\n",
    "    return full_gdf"
   ]
  },
  {
   "cell_type": "code",
   "execution_count": 10,
   "id": "d0996555-04ad-4aaa-bdd4-befd8c5eda09",
   "metadata": {},
   "outputs": [],
   "source": [
    "def row_threshold(df):\n",
    "    \"\"\"\n",
    "    Some PDFS are merged/formatted where there are many\n",
    "    rows full of NA. Delete them out.\n",
    "    \"\"\"\n",
    "    # Delete rows containing either 75% or more than 75% NaN Values\n",
    "    # https://thispointer.com/pandas-drop-dataframe-rows-based-on-nan-percentage/\n",
    "    perc = 95.0  #\n",
    "    min_count = int(((100 - perc) / 100) * df.shape[1] + 1)\n",
    "\n",
    "    df2 = df.dropna(axis=0, thresh=min_count).reset_index(drop=True)\n",
    "\n",
    "    print(f\"dropped {len(df)-len(df2)} rows that were filled with NA\")\n",
    "\n",
    "    return df2"
   ]
  },
  {
   "cell_type": "code",
   "execution_count": 11,
   "id": "6759a3d7-4b34-4d4e-a12f-ea0f8e53f261",
   "metadata": {},
   "outputs": [],
   "source": [
    "def delete_embedded_headers(df, column: str, string_search: str) -> pd.DataFrame:\n",
    "    \"\"\"\n",
    "    Some PDFS include the column names embedded mulitple times\n",
    "    within the df. Delete them out.\n",
    "    \"\"\"\n",
    "    headers = df[df[column].str.contains(string_search) == True]\n",
    "    headers_index_list = headers.index.values.tolist()\n",
    "\n",
    "    print(f\"{len(headers_index_list)} rows are headers\")\n",
    "\n",
    "    df2 = df.drop(headers_index_list).reset_index(drop=True)\n",
    "    return df2"
   ]
  },
  {
   "cell_type": "code",
   "execution_count": 12,
   "id": "0c571b45-6c47-417e-a99c-2f953b7b3bf4",
   "metadata": {},
   "outputs": [],
   "source": [
    "def correct_project_cost(df, project_title_col: str, project_total_cost: str):\n",
    "    \"\"\"\n",
    "    For some datasets, the same project\n",
    "    (as determined by the same project name, cost,\n",
    "    and source) is split across multiple rows.\n",
    "\n",
    "    Ex: A project costs $500 million and is\n",
    "    split on 5 rows by phase/location. Each row still lists\n",
    "    the total  cost as $500 million, which is not accurate.\n",
    "    This function will recalculate each of the row to list\n",
    "    $100 mil as the total project cost\n",
    "    \"\"\"\n",
    "    # Create a unique identifier\n",
    "    df[\"unique_identifier\"] = df[project_title_col] + df[project_total_cost].astype(str)\n",
    "\n",
    "    # Create count for each project\n",
    "    df[\"how_many_times_same_proj_appears\"] = (\n",
    "        df.groupby(\"unique_identifier\").cumcount() + 1\n",
    "    )\n",
    "\n",
    "    # Find the total number of times a project title-cost appears.\n",
    "    # Sort by descending and keep only the row with the highest level\n",
    "    df2 = (\n",
    "        df[\n",
    "            [\n",
    "                project_title_col,\n",
    "                \"how_many_times_same_proj_appears\",\n",
    "                project_total_cost,\n",
    "                \"unique_identifier\",\n",
    "            ]\n",
    "        ]\n",
    "        .sort_values(\n",
    "            [project_title_col, \"how_many_times_same_proj_appears\"], ascending=False\n",
    "        )\n",
    "        .drop_duplicates(subset=[\"unique_identifier\"])\n",
    "    )\n",
    "    # Create new funding estimate\n",
    "    df2[\"new_proj_cost\"] = (\n",
    "        df2[project_total_cost] / df2[\"how_many_times_same_proj_appears\"]\n",
    "    )\n",
    "\n",
    "    # Drop some columns\n",
    "    df2 = df2.drop(\n",
    "        columns=[\n",
    "            project_title_col,\n",
    "            project_total_cost,\n",
    "            \"how_many_times_same_proj_appears\",\n",
    "        ]\n",
    "    )\n",
    "\n",
    "    # Merge\n",
    "    m1 = pd.merge(df, df2, how=\"inner\", on=\"unique_identifier\")\n",
    "\n",
    "    # Clean up\n",
    "    m1 = m1.drop(\n",
    "        columns=[\n",
    "            \"unique_identifier\",\n",
    "            \"how_many_times_same_proj_appears\",\n",
    "            project_total_cost,\n",
    "        ]\n",
    "    )\n",
    "    m1[\n",
    "        \"total_project_cost_note\"\n",
    "    ] = \"This is an estimate of how much the project cost, estimated by dividing the total project cost by how many times the project appears in the dataset.\"\n",
    "\n",
    "    # Replace project cost\n",
    "    m1 = m1.rename(columns={\"new_proj_cost\": \"total_project_cost\"})\n",
    "    return m1"
   ]
  },
  {
   "cell_type": "markdown",
   "id": "e92a58d1-9231-4237-bb0a-8602c94bcb36",
   "metadata": {},
   "source": [
    "### Ambag"
   ]
  },
  {
   "cell_type": "code",
   "execution_count": 13,
   "id": "dc892005-c596-4b87-b789-5b0d4714cbf4",
   "metadata": {},
   "outputs": [],
   "source": [
    "def ambag_lrtp():\n",
    "    ambag1 = pd.read_excel(\n",
    "        f\"{LRTP_GCS}AMBAG_2045 Revenue Constrained Project List_Monterey County_by Project Type__022823.xlsx\"\n",
    "    )\n",
    "    ambag2 = pd.read_excel(\n",
    "        f\"{LRTP_GCS}AMBAG_2045 Revenue Constrained Project List_San Benito County_by Project Type__022823.xlsx\"\n",
    "    )\n",
    "    ambag3 = pd.read_excel(\n",
    "        f\"{LRTP_GCS}AMBAG_2045 Revenue Constrained Project List_Santa Cruz County_by Project Type__041923.xlsx\"\n",
    "    )\n",
    "\n",
    "    # Move column names up\n",
    "    ambag1 = embedded_column_names(ambag1, 1)\n",
    "    ambag2 = embedded_column_names(ambag2, 1)\n",
    "    ambag3 = embedded_column_names(ambag3, 1)\n",
    "\n",
    "    # Add county\n",
    "    ambag1[\"county\"] = \"Santa Cruz\"\n",
    "    ambag2[\"county\"] = \"Monterey\"\n",
    "    ambag3[\"county\"] = \"San Benito\"\n",
    "\n",
    "    # Conat\n",
    "    concat1 = pd.concat([ambag1, ambag2, ambag3], axis=0)\n",
    "    concat1 = concat1.drop(columns=[2035.0, 2045.0, 2020.0, 2035.0])\n",
    "\n",
    "    concat1 = to_snakecase(concat1)\n",
    "    return concat1"
   ]
  },
  {
   "cell_type": "code",
   "execution_count": 14,
   "id": "d720503d-34a1-438b-b42a-dc58f4a52aef",
   "metadata": {},
   "outputs": [],
   "source": [
    "ambag = ambag_lrtp()"
   ]
  },
  {
   "cell_type": "code",
   "execution_count": 15,
   "id": "3f4788f7-be99-41ed-953a-0fd636ce643d",
   "metadata": {
    "tags": []
   },
   "outputs": [
    {
     "data": {
      "text/plain": [
       "Index(['ambag_id', 'project', 'project_description', 'total_cost_\\n_$_000s_',\n",
       "       'county'],\n",
       "      dtype='object', name=0)"
      ]
     },
     "execution_count": 15,
     "metadata": {},
     "output_type": "execute_result"
    }
   ],
   "source": [
    "ambag.columns"
   ]
  },
  {
   "cell_type": "code",
   "execution_count": 16,
   "id": "0aa672e4-406a-4390-a822-1b10b1fb8cfb",
   "metadata": {},
   "outputs": [
    {
     "name": "stdout",
     "output_type": "stream",
     "text": [
      "Citywide Bike Lanes                         2\n",
      "The Alameda - Salinas Road Bike Route       2\n",
      "Citywide Sidewalk Program                   2\n",
      "Carmel to Pebble Beach Bike/Ped Facility    1\n",
      "Second Street Bike Lane                     1\n",
      "Name: project, dtype: int64\n",
      "# of unique project titles: 277\n",
      "After dropping duplicates 280\n",
      "Df shape: (280, 5)\n",
      "Index(['ambag_id', 'project', 'project_description', 'total_cost_\\n_$_000s_',\n",
      "       'county'],\n",
      "      dtype='object', name=0)\n"
     ]
    }
   ],
   "source": [
    "give_info(ambag, \"project\", \"project_description\")"
   ]
  },
  {
   "cell_type": "code",
   "execution_count": 17,
   "id": "3fc71478-28be-4e69-9f10-de8b04043119",
   "metadata": {},
   "outputs": [
    {
     "data": {
      "text/html": [
       "<div>\n",
       "<style scoped>\n",
       "    .dataframe tbody tr th:only-of-type {\n",
       "        vertical-align: middle;\n",
       "    }\n",
       "\n",
       "    .dataframe tbody tr th {\n",
       "        vertical-align: top;\n",
       "    }\n",
       "\n",
       "    .dataframe thead th {\n",
       "        text-align: right;\n",
       "    }\n",
       "</style>\n",
       "<table border=\"1\" class=\"dataframe\">\n",
       "  <thead>\n",
       "    <tr style=\"text-align: right;\">\n",
       "      <th></th>\n",
       "      <th>ambag_id</th>\n",
       "      <th>project</th>\n",
       "      <th>project_description</th>\n",
       "      <th>total_cost_\\n_$_000s_</th>\n",
       "      <th>county</th>\n",
       "    </tr>\n",
       "  </thead>\n",
       "  <tbody>\n",
       "    <tr>\n",
       "      <th>133</th>\n",
       "      <td>MON-SOL075-SO</td>\n",
       "      <td>Citywide Bike Lanes</td>\n",
       "      <td>Bike Lanes (2007 TIF M2, 2013 TIF M2); construct bike lanes citywide</td>\n",
       "      <td>1440</td>\n",
       "      <td>Santa Cruz</td>\n",
       "    </tr>\n",
       "    <tr>\n",
       "      <th>52</th>\n",
       "      <td>SC-SV-P41-SCV</td>\n",
       "      <td>Citywide Bike Lanes</td>\n",
       "      <td>Construction of additional bike lanes and paths citywide (including Green Hills).</td>\n",
       "      <td>2060</td>\n",
       "      <td>San Benito</td>\n",
       "    </tr>\n",
       "  </tbody>\n",
       "</table>\n",
       "</div>"
      ],
      "text/plain": [
       "0         ambag_id              project  \\\n",
       "133  MON-SOL075-SO  Citywide Bike Lanes   \n",
       "52   SC-SV-P41-SCV  Citywide Bike Lanes   \n",
       "\n",
       "0                                                                  project_description  \\\n",
       "133               Bike Lanes (2007 TIF M2, 2013 TIF M2); construct bike lanes citywide   \n",
       "52   Construction of additional bike lanes and paths citywide (including Green Hills).   \n",
       "\n",
       "0   total_cost_\\n_$_000s_      county  \n",
       "133                  1440  Santa Cruz  \n",
       "52                   2060  San Benito  "
      ]
     },
     "execution_count": 17,
     "metadata": {},
     "output_type": "execute_result"
    }
   ],
   "source": [
    "ambag.loc[ambag.project == \"Citywide Bike Lanes\"]"
   ]
  },
  {
   "cell_type": "code",
   "execution_count": 18,
   "id": "cda7312d-7ec1-40c0-9c83-690ec53ed953",
   "metadata": {},
   "outputs": [
    {
     "data": {
      "text/html": [
       "<div>\n",
       "<style scoped>\n",
       "    .dataframe tbody tr th:only-of-type {\n",
       "        vertical-align: middle;\n",
       "    }\n",
       "\n",
       "    .dataframe tbody tr th {\n",
       "        vertical-align: top;\n",
       "    }\n",
       "\n",
       "    .dataframe thead th {\n",
       "        text-align: right;\n",
       "    }\n",
       "</style>\n",
       "<table border=\"1\" class=\"dataframe\">\n",
       "  <thead>\n",
       "    <tr style=\"text-align: right;\">\n",
       "      <th></th>\n",
       "      <th>ambag_id</th>\n",
       "      <th>project</th>\n",
       "      <th>project_description</th>\n",
       "      <th>total_cost_\\n_$_000s_</th>\n",
       "      <th>county</th>\n",
       "    </tr>\n",
       "  </thead>\n",
       "  <tbody>\n",
       "    <tr>\n",
       "      <th>27</th>\n",
       "      <td>SB-SBC-A62</td>\n",
       "      <td>The Alameda - Salinas Road Bike Route</td>\n",
       "      <td>Class III, 0.65 miles, 4th Street to Old Stagecoach Road.</td>\n",
       "      <td>9</td>\n",
       "      <td>Monterey</td>\n",
       "    </tr>\n",
       "    <tr>\n",
       "      <th>44</th>\n",
       "      <td>SB-SJB-A26</td>\n",
       "      <td>The Alameda - Salinas Road Bike Route</td>\n",
       "      <td>Class III - Stripping a bike lane from Franklin to Old SJ Hollister Rd., S-10 of the Bike Plan.</td>\n",
       "      <td>50</td>\n",
       "      <td>Monterey</td>\n",
       "    </tr>\n",
       "  </tbody>\n",
       "</table>\n",
       "</div>"
      ],
      "text/plain": [
       "0     ambag_id                                project  \\\n",
       "27  SB-SBC-A62  The Alameda - Salinas Road Bike Route   \n",
       "44  SB-SJB-A26  The Alameda - Salinas Road Bike Route   \n",
       "\n",
       "0                                                                               project_description  \\\n",
       "27                                        Class III, 0.65 miles, 4th Street to Old Stagecoach Road.   \n",
       "44  Class III - Stripping a bike lane from Franklin to Old SJ Hollister Rd., S-10 of the Bike Plan.   \n",
       "\n",
       "0  total_cost_\\n_$_000s_    county  \n",
       "27                     9  Monterey  \n",
       "44                    50  Monterey  "
      ]
     },
     "execution_count": 18,
     "metadata": {},
     "output_type": "execute_result"
    }
   ],
   "source": [
    "ambag.loc[ambag.project == \"The Alameda - Salinas Road Bike Route\"]"
   ]
  },
  {
   "cell_type": "markdown",
   "id": "01a85ba7-2fe4-4105-bbd2-4b6fc03d3dad",
   "metadata": {
    "tags": []
   },
   "source": [
    "### BCAG "
   ]
  },
  {
   "cell_type": "code",
   "execution_count": 19,
   "id": "e70e3c42-6efe-4665-955e-91960758d7fb",
   "metadata": {},
   "outputs": [],
   "source": [
    "def bcag_lrtp():\n",
    "    df = pd.read_excel(f\"{LRTP_GCS}BCAG.xls\")\n",
    "    drop_columns = [\n",
    "        2018,\n",
    "        2020,\n",
    "        2030,\n",
    "        2035,\n",
    "        2040,\n",
    "        \"EXEMPT CODE\",\n",
    "        \"PM 1\",\n",
    "        \"PM 2\",\n",
    "        \"PM 3\",\n",
    "    ]\n",
    "\n",
    "    df = df.drop(columns=drop_columns)\n",
    "    df = to_snakecase(df)\n",
    "    df.cost_estimate = df.cost_estimate * 1_000\n",
    "    df.fund_estimate = (\n",
    "        df.fund_estimate.apply(pd.to_numeric, errors=\"coerce\") * 1_000_000\n",
    "    )\n",
    "\n",
    "    df[\"geometry\"] = gpd.GeoSeries.from_xy(\n",
    "        df.x_coord, df.y_coord, crs=geography_utils.WGS84\n",
    "    )\n",
    "    # Same project is split across multiple rows. Divide out project cost\n",
    "    df = correct_project_cost(df, \"title\", \"cost_estimate\")\n",
    "    df = df.set_geometry(\"geometry\")\n",
    "\n",
    "    return df"
   ]
  },
  {
   "cell_type": "code",
   "execution_count": 20,
   "id": "e58fe25d-aa51-47a4-9913-45173c7eace9",
   "metadata": {},
   "outputs": [],
   "source": [
    "bcag = bcag_lrtp()"
   ]
  },
  {
   "cell_type": "code",
   "execution_count": 21,
   "id": "8b86f25b-f85c-4ed7-b37f-1a0b44770a33",
   "metadata": {},
   "outputs": [
    {
     "data": {
      "text/html": [
       "<div>\n",
       "<style scoped>\n",
       "    .dataframe tbody tr th:only-of-type {\n",
       "        vertical-align: middle;\n",
       "    }\n",
       "\n",
       "    .dataframe tbody tr th {\n",
       "        vertical-align: top;\n",
       "    }\n",
       "\n",
       "    .dataframe thead th {\n",
       "        text-align: right;\n",
       "    }\n",
       "</style>\n",
       "<table border=\"1\" class=\"dataframe\">\n",
       "  <thead>\n",
       "    <tr style=\"text-align: right;\">\n",
       "      <th></th>\n",
       "      <th>rtp_id</th>\n",
       "      <th>agency</th>\n",
       "      <th>ftip</th>\n",
       "      <th>rtp</th>\n",
       "      <th>project_type</th>\n",
       "      <th>title</th>\n",
       "      <th>project_descr</th>\n",
       "      <th>project_id</th>\n",
       "      <th>fund_source</th>\n",
       "      <th>fund_estimate</th>\n",
       "      <th>status</th>\n",
       "      <th>y_coord</th>\n",
       "      <th>x_coord</th>\n",
       "      <th>target_fiscal_year</th>\n",
       "      <th>fund_source_1</th>\n",
       "      <th>fund_source_2</th>\n",
       "      <th>source</th>\n",
       "      <th>title_vi</th>\n",
       "      <th>non_title_vi</th>\n",
       "      <th>ej</th>\n",
       "      <th>non_ej</th>\n",
       "      <th>geometry</th>\n",
       "      <th>total_project_cost</th>\n",
       "      <th>total_project_cost_note</th>\n",
       "    </tr>\n",
       "  </thead>\n",
       "  <tbody>\n",
       "    <tr>\n",
       "      <th>0</th>\n",
       "      <td>1</td>\n",
       "      <td>BCAG</td>\n",
       "      <td>FTIP</td>\n",
       "      <td>RTP</td>\n",
       "      <td>Transit</td>\n",
       "      <td>Butte Regional Transt - Capital and Operating Assistance</td>\n",
       "      <td>Federal Transit Admininstration Program Sections 5307 &amp; 5311 programs to support transit services provided by Butte Regional Transit. (Fixed Route and Paratransit)</td>\n",
       "      <td>20200000200</td>\n",
       "      <td>Federal Transit Administration Funds &amp; Transportation Development Act Funds</td>\n",
       "      <td>NaN</td>\n",
       "      <td>Programmed</td>\n",
       "      <td>39.71</td>\n",
       "      <td>-121.82</td>\n",
       "      <td>Ongoing</td>\n",
       "      <td>FTA</td>\n",
       "      <td>-</td>\n",
       "      <td>B Line Budget</td>\n",
       "      <td>Y</td>\n",
       "      <td>Y</td>\n",
       "      <td>Y</td>\n",
       "      <td>Y</td>\n",
       "      <td>POINT (-121.82174 39.70508)</td>\n",
       "      <td>27300000.00</td>\n",
       "      <td>This is an estimate of how much the project cost, estimated by dividing the total project cost by how many times the project appears in the dataset.</td>\n",
       "    </tr>\n",
       "  </tbody>\n",
       "</table>\n",
       "</div>"
      ],
      "text/plain": [
       "   rtp_id agency  ftip  rtp project_type  \\\n",
       "0       1   BCAG  FTIP  RTP      Transit   \n",
       "\n",
       "                                                       title  \\\n",
       "0  Butte Regional Transt - Capital and Operating Assistance    \n",
       "\n",
       "                                                                                                                                                         project_descr  \\\n",
       "0  Federal Transit Admininstration Program Sections 5307 & 5311 programs to support transit services provided by Butte Regional Transit. (Fixed Route and Paratransit)   \n",
       "\n",
       "    project_id  \\\n",
       "0  20200000200   \n",
       "\n",
       "                                                                   fund_source  \\\n",
       "0  Federal Transit Administration Funds & Transportation Development Act Funds   \n",
       "\n",
       "   fund_estimate       status  y_coord x_coord target_fiscal_year  \\\n",
       "0            NaN  Programmed     39.71 -121.82            Ongoing   \n",
       "\n",
       "  fund_source_1 fund_source_2         source title_vi non_title_vi ej non_ej  \\\n",
       "0           FTA             -  B Line Budget        Y            Y  Y      Y   \n",
       "\n",
       "                      geometry  total_project_cost  \\\n",
       "0  POINT (-121.82174 39.70508)         27300000.00   \n",
       "\n",
       "                                                                                                                                total_project_cost_note  \n",
       "0  This is an estimate of how much the project cost, estimated by dividing the total project cost by how many times the project appears in the dataset.  "
      ]
     },
     "execution_count": 21,
     "metadata": {},
     "output_type": "execute_result"
    }
   ],
   "source": [
    "bcag.head(1)"
   ]
  },
  {
   "cell_type": "code",
   "execution_count": 22,
   "id": "2f89eb95-c0d6-41fe-8288-d2e5f71e02fc",
   "metadata": {
    "tags": []
   },
   "outputs": [
    {
     "name": "stdout",
     "output_type": "stream",
     "text": [
      "Local Highway Bridge Program (HBP Grouped)            68\n",
      "Highway Safety Improvement Program (HSIP Grouped)     19\n",
      "SR 70 Passing Lanes (Segment 3)                        2\n",
      "Eaton Rd Widening                                      2\n",
      "Lincoln Blvd Class 2                                   2\n",
      "Name: title, dtype: int64\n",
      "# of unique project titles: 153\n",
      "After dropping duplicates 228\n",
      "Df shape: (250, 24)\n",
      "Index(['rtp_id', 'agency', 'ftip', 'rtp', 'project_type', 'title',\n",
      "       'project_descr', 'project_id', 'fund_source', 'fund_estimate', 'status',\n",
      "       'y_coord', 'x_coord', 'target_fiscal_year', 'fund_source_1',\n",
      "       'fund_source_2', 'source', 'title_vi', 'non_title_vi', 'ej', 'non_ej',\n",
      "       'geometry', 'total_project_cost', 'total_project_cost_note'],\n",
      "      dtype='object')\n"
     ]
    }
   ],
   "source": [
    "give_info(bcag, \"title\", \"total_project_cost\")"
   ]
  },
  {
   "cell_type": "code",
   "execution_count": 23,
   "id": "6421561e-c0bf-4c6d-8642-5edd41511db9",
   "metadata": {},
   "outputs": [
    {
     "data": {
      "text/plain": [
       "(250, 24)"
      ]
     },
     "execution_count": 23,
     "metadata": {},
     "output_type": "execute_result"
    }
   ],
   "source": [
    "bcag.shape"
   ]
  },
  {
   "cell_type": "markdown",
   "id": "04450281-f55d-414c-b18f-5761a4bb423a",
   "metadata": {
    "tags": []
   },
   "source": [
    "### Fresno COG"
   ]
  },
  {
   "cell_type": "code",
   "execution_count": 24,
   "id": "31550af0-0040-41fa-abfa-88c77f3763be",
   "metadata": {},
   "outputs": [],
   "source": [
    "def fresnocog_lrtp():\n",
    "    columns_to_drop = [\"unnamed:_7\", \"unnamed:_8\", \"unnamed:_9\"]\n",
    "    df1 = to_snakecase(pd.read_excel(f\"{LRTP_GCS}FRESNO_COG_UNconstrained.xlsx\"))\n",
    "    df1[\"financial_constraint\"] = \"unconstrained\"\n",
    "\n",
    "    df2 = to_snakecase(pd.read_excel(f\"{LRTP_GCS}FRESNO_COG_Constrained.xlsx\"))\n",
    "    df2[\"financial_constraint\"] = \"constrained\"\n",
    "\n",
    "    concat1 = pd.concat([df1, df2], axis=0)\n",
    "    concat1 = concat1.drop(columns=columns_to_drop)\n",
    "\n",
    "    return concat1"
   ]
  },
  {
   "cell_type": "code",
   "execution_count": 25,
   "id": "7b167072-0655-47a9-b609-b08b1f72081d",
   "metadata": {},
   "outputs": [],
   "source": [
    "fresno_cog = fresnocog_lrtp()"
   ]
  },
  {
   "cell_type": "code",
   "execution_count": 26,
   "id": "04d24a2a-7223-4d0b-93cf-2b320d19340f",
   "metadata": {},
   "outputs": [
    {
     "name": "stdout",
     "output_type": "stream",
     "text": [
      "Herndon @ SR 99-Widen Undercrossing                            2\n",
      "Willow-International to Copper Southbound: Widen to 3 Lanes    2\n",
      "SHIELDS: GARFIELD to CHATEAU FRESNO                            2\n",
      "Anchor Ave. Park Blvd to Adams                                 2\n",
      "Adams Ave Reconstruction                                       2\n",
      "Name: project_title, dtype: int64\n",
      "# of unique project titles: 3128\n",
      "After dropping duplicates 3143\n",
      "Df shape: (3147, 10)\n",
      "Index(['agency', 'project_id', 'project_title', 'project_description',\n",
      "       'project_type', 'estimated_open_to_traffic',\n",
      "       'estimated\\ntotal_cost\\n_$1,000_', 'est__o2t_year',\n",
      "       'est_total_project_cost', 'financial_constraint'],\n",
      "      dtype='object')\n"
     ]
    }
   ],
   "source": [
    "give_info(fresno_cog, \"project_title\", \"estimated\\ntotal_cost\\n_$1,000_\")"
   ]
  },
  {
   "cell_type": "code",
   "execution_count": 27,
   "id": "db3a79dc-1bda-4b93-b6a4-29b4da77712c",
   "metadata": {},
   "outputs": [
    {
     "data": {
      "text/html": [
       "<div>\n",
       "<style scoped>\n",
       "    .dataframe tbody tr th:only-of-type {\n",
       "        vertical-align: middle;\n",
       "    }\n",
       "\n",
       "    .dataframe tbody tr th {\n",
       "        vertical-align: top;\n",
       "    }\n",
       "\n",
       "    .dataframe thead th {\n",
       "        text-align: right;\n",
       "    }\n",
       "</style>\n",
       "<table border=\"1\" class=\"dataframe\">\n",
       "  <thead>\n",
       "    <tr style=\"text-align: right;\">\n",
       "      <th></th>\n",
       "      <th>agency</th>\n",
       "      <th>project_id</th>\n",
       "      <th>project_title</th>\n",
       "      <th>project_description</th>\n",
       "      <th>project_type</th>\n",
       "      <th>estimated_open_to_traffic</th>\n",
       "      <th>estimated\\ntotal_cost\\n_$1,000_</th>\n",
       "      <th>est__o2t_year</th>\n",
       "      <th>est_total_project_cost</th>\n",
       "      <th>financial_constraint</th>\n",
       "    </tr>\n",
       "  </thead>\n",
       "  <tbody>\n",
       "    <tr>\n",
       "      <th>978</th>\n",
       "      <td>Fresno</td>\n",
       "      <td>FRE111353</td>\n",
       "      <td>Herndon @ SR 99-Widen Undercrossing</td>\n",
       "      <td>Widen Undercrossing to 5 LN</td>\n",
       "      <td>Streets &amp; Roads - Capacity Increasing</td>\n",
       "      <td>2027-2031</td>\n",
       "      <td>21262.00</td>\n",
       "      <td>2028-01-01</td>\n",
       "      <td>21262000.00</td>\n",
       "      <td>constrained</td>\n",
       "    </tr>\n",
       "    <tr>\n",
       "      <th>2076</th>\n",
       "      <td>Fresno</td>\n",
       "      <td>FRE111353</td>\n",
       "      <td>Herndon @ SR 99-Widen Undercrossing</td>\n",
       "      <td>Widen Undercrossing to 5 LN(Measure C Project K8 in the Urban Regional Program)</td>\n",
       "      <td>Streets &amp; Roads-Capacity Increasing</td>\n",
       "      <td>2028</td>\n",
       "      <td>26365.00</td>\n",
       "      <td>NaT</td>\n",
       "      <td>NaN</td>\n",
       "      <td>constrained</td>\n",
       "    </tr>\n",
       "  </tbody>\n",
       "</table>\n",
       "</div>"
      ],
      "text/plain": [
       "      agency project_id                        project_title  \\\n",
       "978   Fresno  FRE111353  Herndon @ SR 99-Widen Undercrossing   \n",
       "2076  Fresno  FRE111353  Herndon @ SR 99-Widen Undercrossing   \n",
       "\n",
       "                                                                  project_description  \\\n",
       "978                                                       Widen Undercrossing to 5 LN   \n",
       "2076  Widen Undercrossing to 5 LN(Measure C Project K8 in the Urban Regional Program)   \n",
       "\n",
       "                               project_type estimated_open_to_traffic  \\\n",
       "978   Streets & Roads - Capacity Increasing                 2027-2031   \n",
       "2076    Streets & Roads-Capacity Increasing                      2028   \n",
       "\n",
       "      estimated\\ntotal_cost\\n_$1,000_ est__o2t_year  est_total_project_cost  \\\n",
       "978                          21262.00    2028-01-01             21262000.00   \n",
       "2076                         26365.00           NaT                     NaN   \n",
       "\n",
       "     financial_constraint  \n",
       "978           constrained  \n",
       "2076          constrained  "
      ]
     },
     "execution_count": 27,
     "metadata": {},
     "output_type": "execute_result"
    }
   ],
   "source": [
    "fresno_cog.loc[fresno_cog.project_title == \"Herndon @ SR 99-Widen Undercrossing\"]"
   ]
  },
  {
   "cell_type": "markdown",
   "id": "aa2d24f5-1c4c-4ef3-8c9c-cbf2d7c027d5",
   "metadata": {
    "tags": []
   },
   "source": [
    "### KCAG"
   ]
  },
  {
   "cell_type": "code",
   "execution_count": 28,
   "id": "d3c7a4b4-6eed-45a0-9588-928707239e6b",
   "metadata": {},
   "outputs": [],
   "source": [
    "def kcag_lrtp():\n",
    "\n",
    "    df = to_snakecase(pd.read_excel(f\"{LRTP_GCS}KCAG.xlsx\"))\n",
    "\n",
    "    # No title column\n",
    "    df[\"title\"] = (df.category + \"-\" + df.description + \"-\" + df.location).fillna(\n",
    "        \"No Title\"\n",
    "    )\n",
    "\n",
    "    # Some duplicates\n",
    "    df = df.drop_duplicates([\"location\", \"category\", \"description\"]).reset_index(\n",
    "        drop=True\n",
    "    )\n",
    "    return df"
   ]
  },
  {
   "cell_type": "code",
   "execution_count": 29,
   "id": "56748d11-2c5b-4eab-992c-ab3747888c6c",
   "metadata": {},
   "outputs": [],
   "source": [
    "kcag = kcag_lrtp()"
   ]
  },
  {
   "cell_type": "code",
   "execution_count": 30,
   "id": "5aa9ec6b-365a-4b0e-8d4f-9c73b41553c3",
   "metadata": {},
   "outputs": [
    {
     "data": {
      "text/plain": [
       "Index(['category', 'jurisdiction', 'state_route', 'post_mile', 'location',\n",
       "       'project_limits', 'description', 'title'],\n",
       "      dtype='object')"
      ]
     },
     "execution_count": 30,
     "metadata": {},
     "output_type": "execute_result"
    }
   ],
   "source": [
    "kcag.columns"
   ]
  },
  {
   "cell_type": "code",
   "execution_count": 31,
   "id": "02b4f1c0-c794-4cf1-adbd-84b50cc2c489",
   "metadata": {},
   "outputs": [
    {
     "data": {
      "text/html": [
       "<div>\n",
       "<style scoped>\n",
       "    .dataframe tbody tr th:only-of-type {\n",
       "        vertical-align: middle;\n",
       "    }\n",
       "\n",
       "    .dataframe tbody tr th {\n",
       "        vertical-align: top;\n",
       "    }\n",
       "\n",
       "    .dataframe thead th {\n",
       "        text-align: right;\n",
       "    }\n",
       "</style>\n",
       "<table border=\"1\" class=\"dataframe\">\n",
       "  <thead>\n",
       "    <tr style=\"text-align: right;\">\n",
       "      <th></th>\n",
       "      <th>category</th>\n",
       "      <th>jurisdiction</th>\n",
       "      <th>state_route</th>\n",
       "      <th>post_mile</th>\n",
       "      <th>location</th>\n",
       "      <th>project_limits</th>\n",
       "      <th>description</th>\n",
       "      <th>title</th>\n",
       "    </tr>\n",
       "  </thead>\n",
       "  <tbody>\n",
       "    <tr>\n",
       "      <th>4</th>\n",
       "      <td>Proposed Improvements</td>\n",
       "      <td>CORCORAN</td>\n",
       "      <td>NaN</td>\n",
       "      <td>NaN</td>\n",
       "      <td>Various Locations</td>\n",
       "      <td>NaN</td>\n",
       "      <td>Pavement Maintenance</td>\n",
       "      <td>Proposed Improvements-Pavement Maintenance-Various Locations</td>\n",
       "    </tr>\n",
       "  </tbody>\n",
       "</table>\n",
       "</div>"
      ],
      "text/plain": [
       "                category jurisdiction state_route post_mile  \\\n",
       "4  Proposed Improvements     CORCORAN         NaN       NaN   \n",
       "\n",
       "            location project_limits           description  \\\n",
       "4  Various Locations            NaN  Pavement Maintenance   \n",
       "\n",
       "                                                          title  \n",
       "4  Proposed Improvements-Pavement Maintenance-Various Locations  "
      ]
     },
     "execution_count": 31,
     "metadata": {},
     "output_type": "execute_result"
    }
   ],
   "source": [
    "kcag[kcag.title == \"Proposed Improvements-Pavement Maintenance-Various Locations\"]"
   ]
  },
  {
   "cell_type": "code",
   "execution_count": 32,
   "id": "a2287888-994e-4544-9862-66319644c622",
   "metadata": {},
   "outputs": [
    {
     "name": "stdout",
     "output_type": "stream",
     "text": [
      "No Title                                          26\n",
      "Proposed Improvements-Overlay-Claudia Drive        1\n",
      "Proposed Improvements-Overlay-Grand Street         1\n",
      "Proposed Improvements-Overlay-Linda Lee Circle     1\n",
      "Proposed Improvements-Overlay-Newbridge Drive      1\n",
      "Name: title, dtype: int64\n",
      "# of unique project titles: 59\n",
      "After dropping duplicates 59\n",
      "Df shape: (84, 8)\n",
      "Index(['category', 'jurisdiction', 'state_route', 'post_mile', 'location',\n",
      "       'project_limits', 'description', 'title'],\n",
      "      dtype='object')\n"
     ]
    }
   ],
   "source": [
    "give_info(kcag, \"title\", \"description\")"
   ]
  },
  {
   "cell_type": "markdown",
   "id": "32750244-6669-4f0f-bfec-b34a2b5305b7",
   "metadata": {},
   "source": [
    "### KernCog - Finish cleaning"
   ]
  },
  {
   "cell_type": "code",
   "execution_count": 118,
   "id": "0f86e8e7-698c-46ab-a4b9-54dc217bb4b4",
   "metadata": {},
   "outputs": [],
   "source": [
    "def kern_lrtp():\n",
    "    sheets_list = [\n",
    "    \"part1\",\"part2\",\"part3\"]\n",
    "    \n",
    "    dict_df = pd.read_excel(f\"{LRTP_GCS}KERNCOG.xlsx\", sheet_name=sheets_list)\n",
    "    \n",
    "    df1 = dict_df.get(sheets_list[0])\n",
    "    df2 = dict_df.get(sheets_list[1])\n",
    "    df3 = dict_df.get(sheets_list[2])\n",
    "    \n",
    "    concat1 = to_snakecase(pd.concat([df1,df2,df3], axis= 0))\n",
    "    \n",
    "    monetary_cols = ['yoe_w__new_revenue_in_$1000',\n",
    "       'yoe_w_o_new_revenue_in_$1000', 'maint__inflation_savings_in_$1000']\n",
    "    \n",
    "    for i in monetary_cols:\n",
    "        concat1[i] = concat1[i].str.replace(\" \", \"\")\n",
    "    \n",
    "    concat1 = concat1[['agency', 'scope'] + monetary_cols]\n",
    "    \n",
    "    concat1 = concat1.dropna(subset = 'scope')\n",
    "    \n",
    "    concat1['title'] = concat1.agency.astype(str) + '-' + concat1.scope.astype(str)\n",
    "    \n",
    "    # Rows to delete \n",
    "    concat1 = concat1[~concat1.title.str.contains(\"(SHOPP|aviation|potential new funds)\")].reset_index(drop = True)\n",
    "    \n",
    "    return concat1"
   ]
  },
  {
   "cell_type": "code",
   "execution_count": 119,
   "id": "2fb65037-a062-4bd9-9eb0-78452ea0f864",
   "metadata": {},
   "outputs": [
    {
     "name": "stderr",
     "output_type": "stream",
     "text": [
      "/tmp/ipykernel_1688/3448040684.py:26: UserWarning: This pattern is interpreted as a regular expression, and has match groups. To actually get the groups, use str.extract.\n"
     ]
    }
   ],
   "source": [
    "kern = kern_lrtp()"
   ]
  },
  {
   "cell_type": "code",
   "execution_count": 120,
   "id": "9fd96d9a-01a3-4dcd-8a03-f65a18cf9b83",
   "metadata": {},
   "outputs": [
    {
     "name": "stdout",
     "output_type": "stream",
     "text": [
      "Next-In                                                                                                                       9\n",
      "Ready-To                                                                                                                      7\n",
      "County Areas - bike facilities Construct Class I (trails), II (lanes) or Class III (routes) Bike Paths; striping; signage     6\n",
      "Bakersfield - Class I Shared Use Path Bike/Ped Bridge                                                                         5\n",
      "Kern County - Inyokern                                                                                                        5\n",
      "Name: title, dtype: int64\n",
      "# of unique project titles: 1333\n",
      "After dropping duplicates 1368\n",
      "Df shape: (1454, 6)\n",
      "Index(['agency', 'scope', 'yoe_w__new_revenue_in_$1000',\n",
      "       'yoe_w_o_new_revenue_in_$1000', 'maint__inflation_savings_in_$1000',\n",
      "       'title'],\n",
      "      dtype='object')\n"
     ]
    }
   ],
   "source": [
    "give_info(kern, \"title\", \"yoe_w__new_revenue_in_$1000\")"
   ]
  },
  {
   "cell_type": "code",
   "execution_count": 128,
   "id": "c4cd290e-2a03-494d-a31f-51cee7647578",
   "metadata": {},
   "outputs": [
    {
     "data": {
      "text/html": [
       "<div>\n",
       "<style scoped>\n",
       "    .dataframe tbody tr th:only-of-type {\n",
       "        vertical-align: middle;\n",
       "    }\n",
       "\n",
       "    .dataframe tbody tr th {\n",
       "        vertical-align: top;\n",
       "    }\n",
       "\n",
       "    .dataframe thead th {\n",
       "        text-align: right;\n",
       "    }\n",
       "</style>\n",
       "<table border=\"1\" class=\"dataframe\">\n",
       "  <thead>\n",
       "    <tr style=\"text-align: right;\">\n",
       "      <th></th>\n",
       "      <th>agency</th>\n",
       "      <th>scope</th>\n",
       "      <th>yoe_w__new_revenue_in_$1000</th>\n",
       "      <th>yoe_w_o_new_revenue_in_$1000</th>\n",
       "      <th>maint__inflation_savings_in_$1000</th>\n",
       "      <th>title</th>\n",
       "    </tr>\n",
       "  </thead>\n",
       "  <tbody>\n",
       "    <tr>\n",
       "      <th>5</th>\n",
       "      <td>Route 184 2Rt 58 to Rt 178</td>\n",
       "      <td>widen to four lanes</td>\n",
       "      <td>78,184</td>\n",
       "      <td>NaN</td>\n",
       "      <td>NaN</td>\n",
       "      <td>Route 184 2Rt 58 to Rt 178 - widen to four lanes</td>\n",
       "    </tr>\n",
       "    <tr>\n",
       "      <th>244</th>\n",
       "      <td>Route 184 2Rt 58 to Rt 178</td>\n",
       "      <td>widen to four lanes</td>\n",
       "      <td>78,184</td>\n",
       "      <td>NaN</td>\n",
       "      <td>11,816</td>\n",
       "      <td>Route 184 2Rt 58 to Rt 178 - widen to four lanes</td>\n",
       "    </tr>\n",
       "  </tbody>\n",
       "</table>\n",
       "</div>"
      ],
      "text/plain": [
       "                          agency                  scope  \\\n",
       "5    Route 184 2Rt 58 to Rt 178    widen to four lanes    \n",
       "244  Route 184 2Rt 58 to Rt 178    widen to four lanes    \n",
       "\n",
       "    yoe_w__new_revenue_in_$1000 yoe_w_o_new_revenue_in_$1000  \\\n",
       "5                        78,184                          NaN   \n",
       "244                      78,184                          NaN   \n",
       "\n",
       "    maint__inflation_savings_in_$1000  \\\n",
       "5                                 NaN   \n",
       "244                            11,816   \n",
       "\n",
       "                                                 title  \n",
       "5    Route 184 2Rt 58 to Rt 178 - widen to four lanes   \n",
       "244  Route 184 2Rt 58 to Rt 178 - widen to four lanes   "
      ]
     },
     "execution_count": 128,
     "metadata": {},
     "output_type": "execute_result"
    }
   ],
   "source": [
    "kern.loc[kern.title.str.contains(\"Route 184 2Rt 58\")]"
   ]
  },
  {
   "cell_type": "code",
   "execution_count": 129,
   "id": "418f3bce-7f68-41f6-9f7b-e581363b45c8",
   "metadata": {},
   "outputs": [],
   "source": [
    "# kern.groupby(['title',\"yoe_w__new_revenue_in_$1000\"]).agg({'scope':'count'}).sort_values(['scope'], ascending = False)"
   ]
  },
  {
   "cell_type": "markdown",
   "id": "366927f7-b7cc-4f40-8fc0-fa4aa9dbba36",
   "metadata": {},
   "source": [
    "### Madera CTC"
   ]
  },
  {
   "cell_type": "code",
   "execution_count": 156,
   "id": "1b8c2c7f-8704-41f1-9591-dafa37c30e27",
   "metadata": {},
   "outputs": [],
   "source": [
    "def madera_lrtp():\n",
    "    sheets_list = [\n",
    "    \"Streets and Roads\",\n",
    "    \"Maintenance\",\n",
    "    \"Safety\",\n",
    "    \"ATP\",\n",
    "    \"Public Transit\",\n",
    "    \"Aviation\",\n",
    "    \"ITS\",\n",
    "    \"Unconstrained\"]\n",
    "    \n",
    "    dict_df = pd.read_excel(f\"{LRTP_GCS}Madera_CTC_cleaned.xlsx\", sheet_name=sheets_list)\n",
    "    df1 = dict_df.get(sheets_list[0])\n",
    "    df2 = dict_df.get(sheets_list[1])\n",
    "    df3 = dict_df.get(sheets_list[2])\n",
    "    df4 = dict_df.get(sheets_list[3])\n",
    "    df5 = dict_df.get(sheets_list[4])\n",
    "    df6 = dict_df.get(sheets_list[5])\n",
    "    df7 = dict_df.get(sheets_list[6])\n",
    "    df8 = dict_df.get(sheets_list[7])\n",
    "    \n",
    "    concat1 = to_snakecase(pd.concat([df1,df2,df3,df4,df5,df6,df7,df8], axis= 0))\n",
    "    \n",
    "    concat1 = concat1.drop(columns = ['proje\\nct_id'])\n",
    "    return concat1"
   ]
  },
  {
   "cell_type": "code",
   "execution_count": 157,
   "id": "66d94b03-eb3c-4570-aa4a-11ca43cf04c0",
   "metadata": {},
   "outputs": [],
   "source": [
    "madera = madera_lrtp()"
   ]
  },
  {
   "cell_type": "code",
   "execution_count": 158,
   "id": "c4af811e-fef6-4ab1-a900-42e1b7373e78",
   "metadata": {},
   "outputs": [
    {
     "data": {
      "text/html": [
       "<div>\n",
       "<style scoped>\n",
       "    .dataframe tbody tr th:only-of-type {\n",
       "        vertical-align: middle;\n",
       "    }\n",
       "\n",
       "    .dataframe tbody tr th {\n",
       "        vertical-align: top;\n",
       "    }\n",
       "\n",
       "    .dataframe thead th {\n",
       "        text-align: right;\n",
       "    }\n",
       "</style>\n",
       "<table border=\"1\" class=\"dataframe\">\n",
       "  <thead>\n",
       "    <tr style=\"text-align: right;\">\n",
       "      <th></th>\n",
       "      <th>category</th>\n",
       "      <th>agency</th>\n",
       "      <th>project_name</th>\n",
       "      <th>location</th>\n",
       "      <th>project_id</th>\n",
       "      <th>description</th>\n",
       "      <th>opening_year</th>\n",
       "      <th>total_cost</th>\n",
       "    </tr>\n",
       "  </thead>\n",
       "  <tbody>\n",
       "    <tr>\n",
       "      <th>85</th>\n",
       "      <td>Public Transit</td>\n",
       "      <td>City of\\nChowchilla</td>\n",
       "      <td>CATX Bus Shelters #1</td>\n",
       "      <td>NaN</td>\n",
       "      <td>BSI-4</td>\n",
       "      <td>Construction of CATX bus shelters\\nat various locations</td>\n",
       "      <td>NaN</td>\n",
       "      <td>98514</td>\n",
       "    </tr>\n",
       "    <tr>\n",
       "      <th>155</th>\n",
       "      <td>Public Transit</td>\n",
       "      <td>Madera County</td>\n",
       "      <td>Bus Replacement #45</td>\n",
       "      <td>NaN</td>\n",
       "      <td>BR-45</td>\n",
       "      <td>Purchase 1 ESCORT Van</td>\n",
       "      <td>NaN</td>\n",
       "      <td>59703</td>\n",
       "    </tr>\n",
       "    <tr>\n",
       "      <th>207</th>\n",
       "      <td>Public Transit</td>\n",
       "      <td>Madera County</td>\n",
       "      <td>Operations &amp; Maintenance #59</td>\n",
       "      <td>NaN</td>\n",
       "      <td>OM-59</td>\n",
       "      <td>Madera County Transit Operating Expenses</td>\n",
       "      <td>NaN</td>\n",
       "      <td>1743844</td>\n",
       "    </tr>\n",
       "  </tbody>\n",
       "</table>\n",
       "</div>"
      ],
      "text/plain": [
       "           category               agency                  project_name  \\\n",
       "85   Public Transit  City of\\nChowchilla          CATX Bus Shelters #1   \n",
       "155  Public Transit        Madera County           Bus Replacement #45   \n",
       "207  Public Transit        Madera County  Operations & Maintenance #59   \n",
       "\n",
       "    location project_id  \\\n",
       "85       NaN      BSI-4   \n",
       "155      NaN      BR-45   \n",
       "207      NaN      OM-59   \n",
       "\n",
       "                                                 description  opening_year  \\\n",
       "85   Construction of CATX bus shelters\\nat various locations           NaN   \n",
       "155                                    Purchase 1 ESCORT Van           NaN   \n",
       "207                 Madera County Transit Operating Expenses           NaN   \n",
       "\n",
       "    total_cost  \n",
       "85       98514  \n",
       "155      59703  \n",
       "207    1743844  "
      ]
     },
     "execution_count": 158,
     "metadata": {},
     "output_type": "execute_result"
    }
   ],
   "source": [
    "madera.sample(3)"
   ]
  },
  {
   "cell_type": "code",
   "execution_count": 159,
   "id": "df6c11ed-39d6-496f-987b-29ee262b601e",
   "metadata": {},
   "outputs": [
    {
     "data": {
      "text/html": [
       "<div>\n",
       "<style scoped>\n",
       "    .dataframe tbody tr th:only-of-type {\n",
       "        vertical-align: middle;\n",
       "    }\n",
       "\n",
       "    .dataframe tbody tr th {\n",
       "        vertical-align: top;\n",
       "    }\n",
       "\n",
       "    .dataframe thead th {\n",
       "        text-align: right;\n",
       "    }\n",
       "</style>\n",
       "<table border=\"1\" class=\"dataframe\">\n",
       "  <thead>\n",
       "    <tr style=\"text-align: right;\">\n",
       "      <th></th>\n",
       "      <th></th>\n",
       "      <th>category</th>\n",
       "    </tr>\n",
       "    <tr>\n",
       "      <th>project_name</th>\n",
       "      <th>total_cost</th>\n",
       "      <th></th>\n",
       "    </tr>\n",
       "  </thead>\n",
       "  <tbody>\n",
       "    <tr>\n",
       "      <th>Various</th>\n",
       "      <th>1000000</th>\n",
       "      <td>3</td>\n",
       "    </tr>\n",
       "    <tr>\n",
       "      <th>Avenue 12</th>\n",
       "      <th>10000000</th>\n",
       "      <td>3</td>\n",
       "    </tr>\n",
       "    <tr>\n",
       "      <th>Road 36</th>\n",
       "      <th>563000</th>\n",
       "      <td>3</td>\n",
       "    </tr>\n",
       "    <tr>\n",
       "      <th>Purchase Transit Vehicle</th>\n",
       "      <th>300000</th>\n",
       "      <td>3</td>\n",
       "    </tr>\n",
       "    <tr>\n",
       "      <th>Road 16</th>\n",
       "      <th>197000</th>\n",
       "      <td>2</td>\n",
       "    </tr>\n",
       "  </tbody>\n",
       "</table>\n",
       "</div>"
      ],
      "text/plain": [
       "                                     category\n",
       "project_name             total_cost          \n",
       "Various                  1000000            3\n",
       "Avenue 12                10000000           3\n",
       "Road 36                  563000             3\n",
       "Purchase Transit Vehicle 300000             3\n",
       "Road 16                  197000             2"
      ]
     },
     "execution_count": 159,
     "metadata": {},
     "output_type": "execute_result"
    }
   ],
   "source": [
    "madera.groupby(['project_name','total_cost']).agg({'category':'count'}).sort_values('category', ascending = False).head()"
   ]
  },
  {
   "cell_type": "code",
   "execution_count": 160,
   "id": "341cc97a-5470-47e7-91f6-d7a9eef88a84",
   "metadata": {},
   "outputs": [
    {
     "name": "stdout",
     "output_type": "stream",
     "text": [
      "Various                            20\n",
      "Avenue 12                          10\n",
      "Avenue 9                            8\n",
      "State Route 41                      6\n",
      "Purchase Transit Van (Electric)     5\n",
      "Name: project_name, dtype: int64\n",
      "# of unique project titles: 515\n",
      "After dropping duplicates 735\n",
      "Df shape: (765, 8)\n",
      "Index(['category', 'agency', 'project_name', 'location', 'project_id',\n",
      "       'description', 'opening_year', 'total_cost'],\n",
      "      dtype='object')\n"
     ]
    }
   ],
   "source": [
    "give_info(madera, 'project_name','total_cost')"
   ]
  },
  {
   "cell_type": "code",
   "execution_count": 164,
   "id": "ff422aef-5859-4bc5-9454-b2ec7c43d6d8",
   "metadata": {},
   "outputs": [],
   "source": [
    "# madera[madera.project_name == \"Various\"]"
   ]
  },
  {
   "cell_type": "code",
   "execution_count": 163,
   "id": "4b15c2bb-14d7-45e7-a25e-8242b740afe3",
   "metadata": {},
   "outputs": [],
   "source": [
    "# madera[madera.project_name == \"Avenue 12\"]"
   ]
  },
  {
   "cell_type": "markdown",
   "id": "9941fbbd-4520-4daa-931a-da6f59b755cf",
   "metadata": {
    "tags": []
   },
   "source": [
    "### MCAGOV"
   ]
  },
  {
   "cell_type": "code",
   "execution_count": 35,
   "id": "284ee593-6a3c-48e2-afc1-d99126bcf3cb",
   "metadata": {},
   "outputs": [],
   "source": [
    "def mcagov_lrtp():\n",
    "\n",
    "    df = to_snakecase(pd.read_excel(f\"{LRTP_GCS}MCAGOV.xlsx\"))\n",
    "\n",
    "    df = df.dropna(subset=[\"title\"]).reset_index(drop=True)\n",
    "\n",
    "    return df"
   ]
  },
  {
   "cell_type": "code",
   "execution_count": 36,
   "id": "3f4e657c-3bed-4764-8175-b3818654abb7",
   "metadata": {},
   "outputs": [],
   "source": [
    "mcagov = mcagov_lrtp()"
   ]
  },
  {
   "cell_type": "code",
   "execution_count": 37,
   "id": "15d75ed6-9171-4bc5-840a-5845ea14952a",
   "metadata": {},
   "outputs": [
    {
     "data": {
      "text/html": [
       "<div>\n",
       "<style scoped>\n",
       "    .dataframe tbody tr th:only-of-type {\n",
       "        vertical-align: middle;\n",
       "    }\n",
       "\n",
       "    .dataframe tbody tr th {\n",
       "        vertical-align: top;\n",
       "    }\n",
       "\n",
       "    .dataframe thead th {\n",
       "        text-align: right;\n",
       "    }\n",
       "</style>\n",
       "<table border=\"1\" class=\"dataframe\">\n",
       "  <thead>\n",
       "    <tr style=\"text-align: right;\">\n",
       "      <th></th>\n",
       "      <th>agency</th>\n",
       "      <th>title</th>\n",
       "      <th>limits_description</th>\n",
       "      <th>type</th>\n",
       "      <th>completion\\nyear</th>\n",
       "      <th>total_cost\\n_$1,000s_</th>\n",
       "      <th>funding_sources</th>\n",
       "    </tr>\n",
       "  </thead>\n",
       "  <tbody>\n",
       "    <tr>\n",
       "      <th>83</th>\n",
       "      <td>SJJPA/SJRRC</td>\n",
       "      <td>Merced Intermodal Track Connector (MITC)</td>\n",
       "      <td>Aerial connector to provide access from new Merced Station to BNSF ROW for the Amtrak San Joaquins. Project includes the expansion of the ACE layover facility to serve Amtrak trains</td>\n",
       "      <td>Rail</td>\n",
       "      <td>2029</td>\n",
       "      <td>254200</td>\n",
       "      <td>SB 132, TIRCP, CRISI, TCEP, INFRA, RAISE, MEGA, Other IIJA and State Rail Funding</td>\n",
       "    </tr>\n",
       "  </tbody>\n",
       "</table>\n",
       "</div>"
      ],
      "text/plain": [
       "         agency                                     title  \\\n",
       "83  SJJPA/SJRRC  Merced Intermodal Track Connector (MITC)   \n",
       "\n",
       "                                                                                                                                                                       limits_description  \\\n",
       "83  Aerial connector to provide access from new Merced Station to BNSF ROW for the Amtrak San Joaquins. Project includes the expansion of the ACE layover facility to serve Amtrak trains   \n",
       "\n",
       "    type completion\\nyear total_cost\\n_$1,000s_  \\\n",
       "83  Rail             2029                254200   \n",
       "\n",
       "                                                                      funding_sources  \n",
       "83  SB 132, TIRCP, CRISI, TCEP, INFRA, RAISE, MEGA, Other IIJA and State Rail Funding  "
      ]
     },
     "execution_count": 37,
     "metadata": {},
     "output_type": "execute_result"
    }
   ],
   "source": [
    "mcagov.sample()"
   ]
  },
  {
   "cell_type": "code",
   "execution_count": 38,
   "id": "203726b0-49af-475e-825a-be328c7663a7",
   "metadata": {},
   "outputs": [
    {
     "name": "stdout",
     "output_type": "stream",
     "text": [
      "Bellevue Rd Realignment/Reconstruction    1\n",
      "Minturn Road Rehabilitation               1\n",
      "MCAG Vanpool Program (dibs)               1\n",
      "Measure V Transit Free Ride Program       1\n",
      "Planada Route Improvements                1\n",
      "Name: title, dtype: int64\n",
      "# of unique project titles: 108\n",
      "After dropping duplicates 108\n",
      "Df shape: (108, 7)\n",
      "Index(['agency', 'title', 'limits_description', 'type', 'completion\\nyear',\n",
      "       'total_cost\\n_$1,000s_', 'funding_sources'],\n",
      "      dtype='object')\n"
     ]
    }
   ],
   "source": [
    "give_info(mcagov, \"title\", \"total_cost\\n_$1,000s_\")"
   ]
  },
  {
   "cell_type": "markdown",
   "id": "0e444a95-c7b8-4248-9715-f5405d263d86",
   "metadata": {
    "tags": []
   },
   "source": [
    "### MTC\n",
    "* 133 projects but point and line map returns 240 ish rows.\n",
    "* Projects that are in different locations can have the same name split by open year...\n",
    "* I guess the geospatial projects are split into various phases while the regular pandas df is just the project in its entirety.\n",
    "* https://www.planbayarea.org/2050-plan/final-plan-bay-area-2050/final-supplemental-reports/interactive-transportation-project-list\n",
    "* https://opendata.mtc.ca.gov/datasets/MTC::2023-transportation-improvement-program-projects-point/about\n",
    "* https://opendata.mtc.ca.gov/datasets/MTC::plan-bay-area-2050-transportation-projects-line/about\n",
    "* https://data.bayareametro.gov/Projects/Plan-Bay-Area-2050-Transportation-Project-List/y7ka-jksz"
   ]
  },
  {
   "cell_type": "code",
   "execution_count": 39,
   "id": "08e57d98-8b32-41ee-a835-0030977f0d1d",
   "metadata": {},
   "outputs": [],
   "source": [
    "def mtc_lrtp():\n",
    "    # Open rest server data\n",
    "    layer_list = [\"planbayarea2050_rtp_line\", \"planbayarea2050_rtp_point\"]\n",
    "    url_pt_1 = \"https://services3.arcgis.com/i2dkYWmb4wHvYPda/ArcGIS/rest/services/\"\n",
    "    url_pt_2 = \"/FeatureServer/0/query?where=1%3D1&objectIds=&time=&geometry=&geometryType=esriGeometryEnvelope&inSR=&spatialRel=esriSpatialRelIntersects&resultType=none&distance=0.0&units=esriSRUnit_Meter&relationParam=&returnGeodetic=false&outFields=*+&returnGeometry=true&featureEncoding=esriDefault&multipatchOption=xyFootprint&maxAllowableOffset=&geometryPrecision=&outSR=&defaultSR=&datumTransformation=&applyVCSProjection=false&returnIdsOnly=false&returnUniqueIdsOnly=false&returnCountOnly=false&returnExtentOnly=false&returnQueryGeometry=false&returnDistinctValues=false&cacheHint=false&orderByFields=&groupByFieldsForStatistics=&outStatistics=&having=&resultOffset=&resultRecordCount=&returnZ=false&returnM=false&returnExceededLimitFeatures=true&quantizationParameters=&sqlFormat=none&f=pgeojson&token=\"\n",
    "    gdf = open_rest_server(url_pt_1, url_pt_2, layer_list)\n",
    "\n",
    "    # Open all MTC projects. Not all projects are mappable.\n",
    "    all_projects_url = \"https://data.bayareametro.gov/resource/y7ka-jksz.json?$query=SELECT%0A%20%20%60plan_strategy%60%2C%0A%20%20%60rtpid%60%2C%0A%20%20%60title%60%2C%0A%20%20%60scope%60%2C%0A%20%20%60open_period%60%2C%0A%20%20%60funding_millions_yoe%60%2C%0A%20%20%60county%60\"\n",
    "    all_projects = pd.read_json(all_projects_url)\n",
    "\n",
    "    # Merge info from all projects to gdf\n",
    "    gdf = pd.merge(\n",
    "        gdf, all_projects, how=\"inner\", left_on=[\"proj_title\"], right_on=[\"title\"]\n",
    "    )\n",
    "\n",
    "    gdf = gdf.drop(columns=[\"title\"])\n",
    "\n",
    "    # Find projects that are unmappable\n",
    "    mtc_geometry_titles = set(gdf.proj_title.unique().tolist())\n",
    "    mtc_all_projects_titles = set(all_projects.title.unique().tolist())\n",
    "    missing_projects = list(mtc_all_projects_titles - mtc_geometry_titles)\n",
    "\n",
    "    # Add back in the  unmappable projects\n",
    "    all_projects = all_projects[all_projects.title.isin(missing_projects)].reset_index(\n",
    "        drop=True\n",
    "    )\n",
    "    all_projects = all_projects.rename(columns={\"title\": \"proj_title\"})\n",
    "    final = pd.concat([all_projects, gdf])\n",
    "\n",
    "    # Correct typo\n",
    "    final = final.rename({\"mode detai\": \"mode_detail\"})\n",
    "\n",
    "    # Set geometry again\n",
    "    final = final.set_geometry(\"geometry\").set_crs(geography_utils.WGS84)\n",
    "\n",
    "    # Same project is split across multiple rows. Divide out project cost\n",
    "    final = correct_project_cost(final, \"proj_title\", \"funding_millions_yoe\")\n",
    "    return final"
   ]
  },
  {
   "cell_type": "code",
   "execution_count": 40,
   "id": "10f74d00-6968-4eef-9ae0-4639b82542b9",
   "metadata": {},
   "outputs": [
    {
     "name": "stderr",
     "output_type": "stream",
     "text": [
      "/opt/conda/lib/python3.9/site-packages/geopandas/array.py:1406: UserWarning: CRS not set for some of the concatenation inputs. Setting output's CRS as WGS 84 (the single non-null crs provided).\n"
     ]
    }
   ],
   "source": [
    "mtc_og = mtc_lrtp()"
   ]
  },
  {
   "cell_type": "code",
   "execution_count": 41,
   "id": "63f72974-017e-4f2f-8d3d-a54dd4b842c6",
   "metadata": {
    "tags": []
   },
   "outputs": [
    {
     "name": "stdout",
     "output_type": "stream",
     "text": [
      "Minor Roadway Improvements | Regional                                           36\n",
      "Express Lanes | Regional                                                        32\n",
      "Other Investments to Expand & Modernize the Regional Rail Network | Regional    15\n",
      "Bay Area Forward Program | Regional                                              8\n",
      "Rapid Bus | AC Transit | Modernization                                           8\n",
      "Name: proj_title, dtype: int64\n",
      "# of unique project titles: 133\n",
      "After dropping duplicates 133\n",
      "Df shape: (282, 20)\n",
      "Index(['plan_strategy', 'rtpid', 'proj_title', 'scope', 'open_period',\n",
      "       'county', 'objectid', 'map_id', 'subcompone', 'open_year', 'strategy',\n",
      "       'rtp_id', 'mode_', 'mode_detai', 'investment', 'shape__length',\n",
      "       'geometry', 'layer_name', 'total_project_cost',\n",
      "       'total_project_cost_note'],\n",
      "      dtype='object')\n"
     ]
    }
   ],
   "source": [
    "give_info(mtc_og, \"proj_title\", \"total_project_cost\")"
   ]
  },
  {
   "cell_type": "code",
   "execution_count": 42,
   "id": "dcdf4707-e3e4-4f58-8edd-1f4b7ba8b186",
   "metadata": {},
   "outputs": [],
   "source": [
    "def harmonize_mtc():\n",
    "    df = mtc_lrtp()\n",
    "    df = harmonizing_lrtp(\n",
    "        df,\n",
    "        project_name_col=\"proj_title\",\n",
    "        project_description_col=\"subcompone\",\n",
    "        project_category_col=\"plan_strategy\",\n",
    "        project_cost_col=\"funding_millions_yoe\",\n",
    "        location_col=\"geometry\",\n",
    "        county_col=\"county\",\n",
    "        city_col=\"\",\n",
    "        project_year_col=\"open_year\",\n",
    "        phase_col=\"\",\n",
    "        program=\"MTC\",\n",
    "        data_source=\"LRTP\",\n",
    "        note_cols=[\n",
    "            \"strategy\",\n",
    "            \"layer_name\",\n",
    "            \"mode_detai\",\n",
    "        ],\n",
    "        cost_in_millions=False,\n",
    "    )\n",
    "\n",
    "    return df"
   ]
  },
  {
   "cell_type": "code",
   "execution_count": 43,
   "id": "8ae87474-d6e1-43e4-9a42-df4f6ba44c3f",
   "metadata": {},
   "outputs": [
    {
     "name": "stderr",
     "output_type": "stream",
     "text": [
      "/opt/conda/lib/python3.9/site-packages/geopandas/array.py:1406: UserWarning: CRS not set for some of the concatenation inputs. Setting output's CRS as WGS 84 (the single non-null crs provided).\n",
      "/tmp/ipykernel_920/3100420876.py:36: UserWarning: This pattern is interpreted as a regular expression, and has match groups. To actually get the groups, use str.extract.\n"
     ]
    }
   ],
   "source": [
    "harmonized_mtc = harmonize_mtc()"
   ]
  },
  {
   "cell_type": "markdown",
   "id": "be9dbf44-0fa5-4082-8a57-79e282a626d1",
   "metadata": {
    "tags": []
   },
   "source": [
    "### Sacramento Area Council of Governments (SACOG)\n",
    "* https://www.sacog.org/sites/main/files/file-attachments/2020_mtp-scs.pdf?1580330993"
   ]
  },
  {
   "cell_type": "code",
   "execution_count": 44,
   "id": "0b456207-635e-46e3-bd71-141fd0712069",
   "metadata": {},
   "outputs": [],
   "source": [
    "# sacog = to_snakecase(gpd.read_file(\"https://services.sacog.org/hosting/rest/services/Hosted/2040_Major_Stops/FeatureServer/0/query?outFields=*&where=1%3D1&f=geojson\"))"
   ]
  },
  {
   "cell_type": "code",
   "execution_count": 45,
   "id": "ab949b09-5219-43cc-b7f4-53ee417c864f",
   "metadata": {},
   "outputs": [],
   "source": [
    "def sacog_lrtp():\n",
    "\n",
    "    df = to_snakecase(pd.read_excel(f\"{LRTP_GCS}SACOG.xlsx\"))\n",
    "\n",
    "    # Delete embedded headers\n",
    "    df = delete_embedded_headers(df, \"description\", \"Description\")\n",
    "\n",
    "    # Delete columns with all nulls\n",
    "    df = df.dropna(axis=1, how=\"all\")\n",
    "\n",
    "    # Drop duplicates\n",
    "    df = df.drop_duplicates().reset_index(drop=True)\n",
    "    return df"
   ]
  },
  {
   "cell_type": "code",
   "execution_count": 46,
   "id": "1ddf05b4-dbaf-45ae-b974-4cda46cd51cd",
   "metadata": {},
   "outputs": [
    {
     "name": "stdout",
     "output_type": "stream",
     "text": [
      "96 rows are headers\n"
     ]
    }
   ],
   "source": [
    "sacog = sacog_lrtp()"
   ]
  },
  {
   "cell_type": "code",
   "execution_count": 47,
   "id": "d6d4c9b3-470e-4d3d-994b-7fc10ed5ba1e",
   "metadata": {},
   "outputs": [
    {
     "data": {
      "text/plain": [
       "Index(['id', 'status__planned,_programmed_or_project_development_only_',\n",
       "       'county', 'lead_agency', 'budget_category', 'title', 'description',\n",
       "       'total_project_cost__2018_dollars_',\n",
       "       'year_of_expenditure_cost_for_planned_projects', 'completion_timing'],\n",
       "      dtype='object')"
      ]
     },
     "execution_count": 47,
     "metadata": {},
     "output_type": "execute_result"
    }
   ],
   "source": [
    "sacog.columns"
   ]
  },
  {
   "cell_type": "code",
   "execution_count": 48,
   "id": "c9ea2918-10cc-4cc4-91e8-084689c7e56e",
   "metadata": {},
   "outputs": [
    {
     "name": "stdout",
     "output_type": "stream",
     "text": [
      "Safety Improvements                            2\n",
      "Connect Card Implementation                    2\n",
      "Aux Lane Project: EB Latrobe Road              1\n",
      "Bus Maintenance Facility #1 Rehabilitation     1\n",
      "Enhanced Employee Protection Warning System    1\n",
      "Name: title, dtype: int64\n",
      "# of unique project titles: 1599\n",
      "After dropping duplicates 1601\n",
      "Df shape: (1601, 10)\n",
      "Index(['id', 'status__planned,_programmed_or_project_development_only_',\n",
      "       'county', 'lead_agency', 'budget_category', 'title', 'description',\n",
      "       'total_project_cost__2018_dollars_',\n",
      "       'year_of_expenditure_cost_for_planned_projects', 'completion_timing'],\n",
      "      dtype='object')\n"
     ]
    }
   ],
   "source": [
    "give_info(sacog, \"title\", \"description\")"
   ]
  },
  {
   "cell_type": "code",
   "execution_count": 49,
   "id": "6c28d9b7-6f91-4d19-93a4-6999311725fc",
   "metadata": {},
   "outputs": [],
   "source": [
    "def harmonize_sacog():\n",
    "    df = sacog_lrtp()\n",
    "    df = harmonizing_lrtp(\n",
    "        df,\n",
    "        project_name_col=\"title\",\n",
    "        project_description_col=\"description\",\n",
    "        project_category_col=\"budget_category\",\n",
    "        project_cost_col=\"total_project_cost__2018_dollars_\",\n",
    "        location_col=\"\",\n",
    "        county_col=\"county\",\n",
    "        city_col=\"\",\n",
    "        project_year_col=\"completion_timing\",\n",
    "        program=\"SACOG\",\n",
    "        phase_col=\"\",\n",
    "        data_source=\"LRTP\",\n",
    "        note_cols=[\n",
    "            \"year_of_expenditure_cost_for_planned_projects\",\n",
    "            \"status__planned,_programmed_or_project_development_only_\",\n",
    "        ],\n",
    "        cost_in_millions=True,\n",
    "    )\n",
    "\n",
    "    return df"
   ]
  },
  {
   "cell_type": "code",
   "execution_count": 50,
   "id": "26424a76-e8f9-4bd1-b6e3-208552cb46e5",
   "metadata": {},
   "outputs": [
    {
     "name": "stdout",
     "output_type": "stream",
     "text": [
      "96 rows are headers\n"
     ]
    },
    {
     "name": "stderr",
     "output_type": "stream",
     "text": [
      "/tmp/ipykernel_920/3100420876.py:36: UserWarning: This pattern is interpreted as a regular expression, and has match groups. To actually get the groups, use str.extract.\n"
     ]
    }
   ],
   "source": [
    "sacog_harmonized = harmonize_sacog()"
   ]
  },
  {
   "cell_type": "markdown",
   "id": "5c6bf430-db1c-40cb-9033-e19708c8c6bd",
   "metadata": {
    "tags": []
   },
   "source": [
    "### Southern California Association of Governments (SCAG) "
   ]
  },
  {
   "cell_type": "code",
   "execution_count": 51,
   "id": "9de6a1bf-486d-476c-bba4-571ab488449d",
   "metadata": {},
   "outputs": [],
   "source": [
    "def scag_lrtp():\n",
    "    sheets_list = [\"Table 1\", \"Table 2\"]\n",
    "    dict_df = pd.read_excel(f\"{LRTP_GCS}SCAG.xlsx\", sheet_name=sheets_list)\n",
    "\n",
    "    df1 = to_snakecase(dict_df.get(\"Table 1\"))\n",
    "    # Drop columns where everything is NA\n",
    "    df1 = df1.dropna(axis=1, how=\"all\")\n",
    "\n",
    "    df2 = to_snakecase(dict_df.get(\"Table 2\"))\n",
    "    df2 = df2.dropna(axis=1, how=\"all\")\n",
    "\n",
    "    # Concat\n",
    "    df3 = pd.concat([df1, df2])\n",
    "\n",
    "    df4 = delete_embedded_headers(df3, \"rtp_id\", \"RTP ID\")\n",
    "\n",
    "    df4 = df4.dropna(\n",
    "        subset=[\"description\", \"lead_agency\", \"project_cost__$1,000s_\"]\n",
    "    ).reset_index(drop=True)\n",
    "\n",
    "    # No project title\n",
    "    df4[\"project_title\"] = (df4.description + \"-\" + df4.lead_agency).fillna(\"No Title\")\n",
    "\n",
    "    # Project cost is in thousands.\n",
    "    # Multiple out\n",
    "    df4[\"project_cost_millions\"] = df4[\"project_cost__$1,000s_\"] * 1_000\n",
    "    return df4"
   ]
  },
  {
   "cell_type": "code",
   "execution_count": 52,
   "id": "c78fe592-971f-445c-a0e1-09c4d7a5f460",
   "metadata": {},
   "outputs": [
    {
     "name": "stdout",
     "output_type": "stream",
     "text": [
      "360 rows are headers\n"
     ]
    }
   ],
   "source": [
    "scag = scag_lrtp()"
   ]
  },
  {
   "cell_type": "code",
   "execution_count": 53,
   "id": "856eb789-fe6e-4944-b35c-fb84e838fbcc",
   "metadata": {},
   "outputs": [
    {
     "name": "stdout",
     "output_type": "stream",
     "text": [
      "WIDEN FROM 2 TO 4 LANES-RIVERSIDE COUNTY      34\n",
      "WIDEN FROM 2 TO 4 LANES-PERRIS                24\n",
      "WIDEN FROM 2 TO 6 LANES-RIVERSIDE COUNTY      20\n",
      "WIDEN FROM 2 TO 4 LANES-DESERT HOT SPRINGS    18\n",
      "WIDEN FROM 4 TO 6 LANES-PALM DESERT           17\n",
      "Name: project_title, dtype: int64\n",
      "# of unique project titles: 2668\n",
      "After dropping duplicates 2850\n",
      "Df shape: (2952, 13)\n",
      "Index(['system', 'lead_agency', 'rtp_id', 'route_#', 'route_name', 'from',\n",
      "       'to', 'description', 'completion_year', 'project_cost__$1,000s_',\n",
      "       'county', 'project_title', 'project_cost_millions'],\n",
      "      dtype='object')\n"
     ]
    }
   ],
   "source": [
    "give_info(scag, \"project_title\", \"route_name\")"
   ]
  },
  {
   "cell_type": "code",
   "execution_count": 54,
   "id": "854792d7-c99f-4fa3-9cfd-2a911c3a8d9e",
   "metadata": {},
   "outputs": [],
   "source": [
    "def harmonize_scag():\n",
    "    df = scag_lrtp()\n",
    "    df = harmonizing_lrtp(\n",
    "        df,\n",
    "        project_name_col=\"project_title\",\n",
    "        project_description_col=\"description\",\n",
    "        project_category_col=\"system\",\n",
    "        project_cost_col=\"project_cost_millions\",\n",
    "        location_col=\"\",\n",
    "        county_col=\"county\",\n",
    "        city_col=\"\",\n",
    "        project_year_col=\"completion_year\",\n",
    "        program=\"SCAG\",\n",
    "        phase_col=\"\",\n",
    "        data_source=\"LRTP\",\n",
    "        note_cols=[\"lead_agency\", \"route_#\", \"route_name\", \"from\", \"to\"],\n",
    "        cost_in_millions=True,\n",
    "    )\n",
    "\n",
    "    return df"
   ]
  },
  {
   "cell_type": "code",
   "execution_count": 55,
   "id": "e0dd0b0c-b560-47c9-a074-295827ca23cc",
   "metadata": {
    "tags": []
   },
   "outputs": [
    {
     "name": "stdout",
     "output_type": "stream",
     "text": [
      "360 rows are headers\n"
     ]
    },
    {
     "name": "stderr",
     "output_type": "stream",
     "text": [
      "/tmp/ipykernel_920/3100420876.py:36: UserWarning: This pattern is interpreted as a regular expression, and has match groups. To actually get the groups, use str.extract.\n"
     ]
    }
   ],
   "source": [
    "scag_harmonized = harmonize_scag()"
   ]
  },
  {
   "cell_type": "code",
   "execution_count": 56,
   "id": "a8aebe1e-9c3b-4083-b616-d3d1b0797948",
   "metadata": {},
   "outputs": [],
   "source": [
    "# scag.head()"
   ]
  },
  {
   "cell_type": "code",
   "execution_count": 57,
   "id": "7a10adb1-926c-47e9-ad34-62208824dcc5",
   "metadata": {
    "tags": []
   },
   "outputs": [],
   "source": [
    "# scag_harmonized.head()"
   ]
  },
  {
   "cell_type": "markdown",
   "id": "8872ef81-828c-4f39-bbb5-ee72db913d6e",
   "metadata": {
    "tags": []
   },
   "source": [
    "### SANDAG\n",
    "* https://www.arcgis.com/home/item.html?id=ba8b2a6247ef463cb7411f039959f3ee\n",
    "* https://www.arcgis.com/apps/mapviewer/index.html?webmap=ba8b2a6247ef463cb7411f039959f3ee"
   ]
  },
  {
   "cell_type": "code",
   "execution_count": 58,
   "id": "7b48c181-36b1-49cb-8c8e-199f45f94a5e",
   "metadata": {},
   "outputs": [],
   "source": [
    "columns_to_keep = [\n",
    "    \"project_title\",\n",
    "    \"lead_agency\",\n",
    "    \"project_year\",\n",
    "    \"project_category\",\n",
    "    \"grant_program\",\n",
    "    \"project_description\",\n",
    "    \"total_project_cost\",\n",
    "    \"location\",\n",
    "    \"city\",\n",
    "    \"county\",\n",
    "    \"data_source\",\n",
    "    \"notes\",\n",
    "]"
   ]
  },
  {
   "cell_type": "code",
   "execution_count": 59,
   "id": "df02e8c2-e29d-44b6-9e47-89656aff07c3",
   "metadata": {},
   "outputs": [],
   "source": [
    "def sandag_lrtp():\n",
    "    sandag_layers_list = [\n",
    "        \"Complete_Corridors_Connectors_Intersections_Ramps_RP2021\",\n",
    "        \"Complete_Corridors_Highway_RP2021\",\n",
    "        \"Transit_Leap_RP2021\",\n",
    "        \"Adopted_Regional_Bike_Network_RP2021\",\n",
    "        \"Mobility_Hubs_and_Flexible_Fleets\",\n",
    "        \"Complete_Corridors_Regional_Arterials\",\n",
    "        \"Goods_Movement\",\n",
    "    ]\n",
    "\n",
    "    sandag_url_pt1 = (\n",
    "        \"https://services1.arcgis.com/HG80xaIVT1z1OdO5/ArcGIS/rest/services/\"\n",
    "    )\n",
    "    sandag_url_pt2 = \"/FeatureServer/0/query?where=1%3D1&objectIds=&time=&geometry=&geometryType=esriGeometryEnvelope&inSR=&spatialRel=esriSpatialRelIntersects&resultType=none&distance=0.0&units=esriSRUnit_Meter&relationParam=&returnGeodetic=false&outFields=*+&returnGeometry=true&featureEncoding=esriDefault&multipatchOption=xyFootprint&maxAllowableOffset=&geometryPrecision=&outSR=&defaultSR=&datumTransformation=&applyVCSProjection=false&returnIdsOnly=false&returnUniqueIdsOnly=false&returnCountOnly=false&returnExtentOnly=false&returnQueryGeometry=false&returnDistinctValues=false&cacheHint=false&orderByFields=&groupByFieldsForStatistics=&outStatistics=&having=&resultOffset=&resultRecordCount=&returnZ=false&returnM=false&returnExceededLimitFeatures=true&quantizationParameters=&sqlFormat=none&f=pgeojson&token=\"\n",
    "    sandag = open_rest_server(sandag_url_pt1, sandag_url_pt2, sandag_layers_list)\n",
    "\n",
    "    # Same project is split across multiple rows. Divide out project cost\n",
    "    sandag.cost2020m = (\n",
    "        sandag.cost2020m.str.replace(\"$\", \"\")\n",
    "        .str.replace(\"N/A\", \"\")\n",
    "        .apply(pd.to_numeric, errors=\"coerce\")\n",
    "    )\n",
    "    sandag = correct_project_cost(sandag, \"project_name\", \"cost2020m\")\n",
    "\n",
    "    return sandag"
   ]
  },
  {
   "cell_type": "code",
   "execution_count": 60,
   "id": "b0f47a03-9eb6-4add-8cbb-df84bc047281",
   "metadata": {},
   "outputs": [
    {
     "name": "stderr",
     "output_type": "stream",
     "text": [
      "/tmp/ipykernel_920/907637890.py:19: FutureWarning: The default value of regex will change from True to False in a future version. In addition, single character regular expressions will *not* be treated as literal strings when regex=True.\n"
     ]
    }
   ],
   "source": [
    "sandag = sandag_lrtp()"
   ]
  },
  {
   "cell_type": "code",
   "execution_count": 61,
   "id": "8c47635c-f39f-4de5-b46c-61a37c9a5f2f",
   "metadata": {
    "tags": []
   },
   "outputs": [
    {
     "data": {
      "text/html": [
       "<div>\n",
       "<style scoped>\n",
       "    .dataframe tbody tr th:only-of-type {\n",
       "        vertical-align: middle;\n",
       "    }\n",
       "\n",
       "    .dataframe tbody tr th {\n",
       "        vertical-align: top;\n",
       "    }\n",
       "\n",
       "    .dataframe thead th {\n",
       "        text-align: right;\n",
       "    }\n",
       "</style>\n",
       "<table border=\"1\" class=\"dataframe\">\n",
       "  <thead>\n",
       "    <tr style=\"text-align: right;\">\n",
       "      <th></th>\n",
       "      <th>project_name</th>\n",
       "      <th>total_project_cost</th>\n",
       "      <th>description</th>\n",
       "    </tr>\n",
       "  </thead>\n",
       "  <tbody>\n",
       "    <tr>\n",
       "      <th>5</th>\n",
       "      <td>I-15 (SR 52)</td>\n",
       "      <td>181.00</td>\n",
       "      <td>West to North and South to East</td>\n",
       "    </tr>\n",
       "    <tr>\n",
       "      <th>41</th>\n",
       "      <td>I-15 (SR 52)</td>\n",
       "      <td>65.33</td>\n",
       "      <td>North to West and East to South</td>\n",
       "    </tr>\n",
       "    <tr>\n",
       "      <th>42</th>\n",
       "      <td>I-15 (SR 52)</td>\n",
       "      <td>65.33</td>\n",
       "      <td>North to East and West to South</td>\n",
       "    </tr>\n",
       "    <tr>\n",
       "      <th>43</th>\n",
       "      <td>I-15 (SR 52)</td>\n",
       "      <td>65.33</td>\n",
       "      <td>South to West and East to North</td>\n",
       "    </tr>\n",
       "  </tbody>\n",
       "</table>\n",
       "</div>"
      ],
      "text/plain": [
       "    project_name  total_project_cost                       description\n",
       "5   I-15 (SR 52)              181.00   West to North and South to East\n",
       "41  I-15 (SR 52)               65.33   North to West and East to South\n",
       "42  I-15 (SR 52)               65.33  North to East and West to South \n",
       "43  I-15 (SR 52)               65.33   South to West and East to North"
      ]
     },
     "execution_count": 61,
     "metadata": {},
     "output_type": "execute_result"
    }
   ],
   "source": [
    "sandag.loc[sandag.project_name == \"I-15 (SR 52)\"][\n",
    "    [\"project_name\", \"total_project_cost\", \"description\"]\n",
    "]"
   ]
  },
  {
   "cell_type": "code",
   "execution_count": 62,
   "id": "eab6975d-c150-48b6-a226-9160815a5f1d",
   "metadata": {},
   "outputs": [
    {
     "name": "stdout",
     "output_type": "stream",
     "text": [
      "N/A                  22\n",
      "I-15 (I-8)            4\n",
      "I-15 (SR 52)          4\n",
      "I-805 (I-8)           4\n",
      "Commuter Rail 398     3\n",
      "Name: project_name, dtype: int64\n",
      "# of unique project titles: 309\n",
      "After dropping duplicates 315\n",
      "Df shape: (416, 55)\n",
      "Index(['objectid', 'type', 'freeway', 'intersecti', 'caption', 'project_id',\n",
      "       'phase', 'direction', 'project_id_1', 'year_built', 'category',\n",
      "       'project_name', 'description', 'aqc_2016_1', 'aqc_2020_1', 'pricmcp',\n",
      "       'conncmcp', 'status', 'categoría', 'corredor', 'nombre_del_proyecto',\n",
      "       'descripción', 'corredores_de_conexión', 'geometry', 'layer_name',\n",
      "       'corridor_i', 'type_1', 'existing', 'limits', 'description_1',\n",
      "       'shape__length', 'route', 'routetype', 'route_desc', 'rp_2021_id',\n",
      "       'rp_2021_id_1', 'primary_corridor', 'connecting_corridor_s_',\n",
      "       'capital_cost___2020__millions', 'name', 'mohubtype', 'mohubsize',\n",
      "       'transitservices', 'globalid', 'icon_url', 'shape__area',\n",
      "       'mohubtype_sp', 'mohubsize_sp', 'area', 'project',\n",
      "       'connecting_corridor', 'cost', 'improvementtype', 'total_project_cost',\n",
      "       'total_project_cost_note'],\n",
      "      dtype='object')\n"
     ]
    }
   ],
   "source": [
    "give_info(sandag, \"project_name\", \"total_project_cost\")"
   ]
  },
  {
   "cell_type": "code",
   "execution_count": 63,
   "id": "8c0d88a6-cf33-4858-8c54-88ef88c56639",
   "metadata": {},
   "outputs": [],
   "source": [
    "def harmonize_sandag():\n",
    "    df = sandag_lrtp()\n",
    "    df = harmonizing_lrtp(\n",
    "        df,\n",
    "        project_name_col=\"project_name\",\n",
    "        project_description_col=\"description\",\n",
    "        project_category_col=\"category\",\n",
    "        project_cost_col=\"cost2020m\",\n",
    "        location_col=\"geometry\",\n",
    "        county_col=\"\",\n",
    "        city_col=\"\",\n",
    "        project_year_col=\"phase\",\n",
    "        phase_col=\"status\",\n",
    "        program=\"SANDAG\",\n",
    "        data_source=\"LRTP\",\n",
    "        note_cols=[\n",
    "            \"aqc_2016_1\",\n",
    "            \"aqc_2020_1\",\n",
    "            \"pricmcp\",\n",
    "            \"conncmcp\",\n",
    "            \"layer_name\",\n",
    "            \"corridor_i\",\n",
    "            \"type_1\",\n",
    "            \"existing\",\n",
    "            \"limits\",\n",
    "            \"description_1\",\n",
    "            \"route\",\n",
    "            \"routetype\",\n",
    "            \"route_desc\",\n",
    "            \"rp_2021_id\",\n",
    "            \"rp_2021_id_1\",\n",
    "            \"capital_cost___2020__millions\",\n",
    "        ],\n",
    "        cost_in_millions=True,\n",
    "    )\n",
    "\n",
    "    return df"
   ]
  },
  {
   "cell_type": "markdown",
   "id": "66381b2e-dc5f-43ee-b469-ab21868160a6",
   "metadata": {
    "tags": []
   },
   "source": [
    "### SBCAG"
   ]
  },
  {
   "cell_type": "code",
   "execution_count": 64,
   "id": "b7790955-642c-400f-be3a-8c2fb288c476",
   "metadata": {},
   "outputs": [],
   "source": [
    "def sbcag_lrtp():\n",
    "\n",
    "    df = to_snakecase(pd.read_excel(f\"{LRTP_GCS}SBCAG.xlsx\"))\n",
    "    drop_columns = [\n",
    "        \"unnamed:_2\",\n",
    "        \"project_type\",\n",
    "        \"unnamed:_4\",\n",
    "        \"unnamed:_6\",\n",
    "        \"unnamed:_8\",\n",
    "        \"unnamed:_9\",\n",
    "        \"unnamed:_10\",\n",
    "        \"unnamed:_13\",\n",
    "    ]\n",
    "    df = df.drop(columns=drop_columns)\n",
    "    df = delete_embedded_headers(df, \"description\", \"Description\")\n",
    "    df = df.dropna(subset=[\"description\"]).reset_index(drop=True)\n",
    "\n",
    "    df = df.drop_duplicates(\n",
    "        subset=[\"phase\", \"project_title\", \"phase\", \"total_cost__$000s_\"]\n",
    "    ).reset_index(drop=True)\n",
    "    return df"
   ]
  },
  {
   "cell_type": "code",
   "execution_count": 65,
   "id": "51bc1d33-07c5-4055-afdc-8a240aad7469",
   "metadata": {},
   "outputs": [
    {
     "name": "stdout",
     "output_type": "stream",
     "text": [
      "65 rows are headers\n"
     ]
    }
   ],
   "source": [
    "sbcag = sbcag_lrtp()"
   ]
  },
  {
   "cell_type": "code",
   "execution_count": null,
   "id": "71313cb2-e225-4bbe-ac1f-ae2c7af239e2",
   "metadata": {},
   "outputs": [],
   "source": []
  },
  {
   "cell_type": "code",
   "execution_count": 66,
   "id": "1ee1b034-e6dc-4948-ade3-35984f57426e",
   "metadata": {},
   "outputs": [
    {
     "name": "stdout",
     "output_type": "stream",
     "text": [
      "SB-PL-15: Upper De la Vina St Gap Closure and Safe Crossings              2\n",
      "CT-1: SR 246 Passing Lanes – Planting Mitigation (FTIP CT93)(EA 0C641)    1\n",
      "SM-PL-10: A Street Widening                                               1\n",
      "Sol-PL-6: Fredensborg Canyon Rd/Adobe Creek Culvert Replacement           1\n",
      "Sol-PL-5: Solvang School Sidewalk Project                                 1\n",
      "Name: project_title, dtype: int64\n",
      "# of unique project titles: 418\n",
      "After dropping duplicates 419\n",
      "Df shape: (419, 7)\n",
      "Index(['type', 'project_title', 'phase', 'description',\n",
      "       'primary_funding_source_s_', 'year', 'total_cost__$000s_'],\n",
      "      dtype='object')\n"
     ]
    }
   ],
   "source": [
    "give_info(sbcag, \"project_title\", \"total_cost__$000s_\")"
   ]
  },
  {
   "cell_type": "markdown",
   "id": "87f84c56-f5d8-44fc-8089-43816b54a259",
   "metadata": {
    "tags": []
   },
   "source": [
    "###  SJCOG"
   ]
  },
  {
   "cell_type": "code",
   "execution_count": 69,
   "id": "80638016-8bb2-494e-9686-802c49d31edb",
   "metadata": {},
   "outputs": [],
   "source": [
    "def sjcog_lrtp():\n",
    "    sheets_list = [\n",
    "        \"1 Mainline\",\n",
    "        \"2 Interchanges\",\n",
    "        \"3 Reg Roadways\",\n",
    "        \"4 RR Xings\",\n",
    "        \"5 Bus Transit\",\n",
    "        \"6 Rail Corridor\",\n",
    "        \"7 Airports\",\n",
    "        \"8 Active Trans Facilities\",\n",
    "        \"9 TCMs\",\n",
    "        \"10 Ops & Maint\",\n",
    "    ]\n",
    "    dict_df = pd.read_excel(f\"{LRTP_GCS}SJCOG.xlsx\", sheet_name=sheets_list)\n",
    "    df1 = to_snakecase(dict_df.get(\"1 Mainline\"))\n",
    "    df2 = to_snakecase(dict_df.get(\"2 Interchanges\"))\n",
    "    df3 = to_snakecase(dict_df.get(\"3 Reg Roadways\"))\n",
    "    df4 = to_snakecase(dict_df.get(\"4 RR Xings\"))\n",
    "    df5 = to_snakecase(dict_df.get(\"5 Bus Transit\"))\n",
    "    df6 = to_snakecase(dict_df.get(\"6 Rail Corridor\"))\n",
    "    df7 = to_snakecase(dict_df.get(\"7 Airports\"))\n",
    "    df8 = to_snakecase(dict_df.get(\"8 Active Trans Facilities\"))\n",
    "    df9 = to_snakecase(dict_df.get(\"9 TCMs\"))\n",
    "    df10 = to_snakecase(dict_df.get(\"10 Ops & Maint\"))\n",
    "\n",
    "    concat1 = pd.concat([df1, df2, df3, df4, df5, df6, df7, df8, df9, df10], axis=0)\n",
    "\n",
    "    sjcog_cols = [\n",
    "        \"_2018_rtp_mpo_id\",\n",
    "        \"ctips_id_#\",\n",
    "        \"jurisdiction\",\n",
    "        \"facility_name_route\",\n",
    "        \"project_description\",\n",
    "        \"project_limits\",\n",
    "        \"total\",\n",
    "        \"ftip_programming\",\n",
    "        \"nepa_approval\",\n",
    "        \"open_to_traffic\",\n",
    "        \"completion\",\n",
    "        \"completion_date\",\n",
    "        \"facility_name_route_1\",\n",
    "        \"project_description_1\",\n",
    "        \"milestone_years_1\",\n",
    "        \"project_name\",\n",
    "    ]\n",
    "\n",
    "    concat1 = concat1.dropna(\n",
    "        subset=[\n",
    "            \"project_description\",\n",
    "            \"_2018_rtp_mpo_id\",\n",
    "        ]\n",
    "    ).reset_index(drop=True)\n",
    "\n",
    "    # Some projects have no titles, create them manually\n",
    "    concat1[\"title_manual\"] = (\n",
    "        concat1.project_limits\n",
    "        + \"-\"\n",
    "        + concat1.jurisdiction\n",
    "        + \"-\"\n",
    "        + concat1.facility_name_route\n",
    "    )  # + ' Cost-' + concat1.total.astype(int).astype(str)\n",
    "    concat1.title_manual = concat1.title_manual.fillna(\"No Title\")\n",
    "    concat1.project_name = concat1.project_name.fillna(concat1.title_manual)\n",
    "\n",
    "    concat1 = concat1[sjcog_cols]\n",
    "\n",
    "    return concat1"
   ]
  },
  {
   "cell_type": "code",
   "execution_count": 70,
   "id": "bd2fd0c9-71c0-4b64-83d4-840e92301a02",
   "metadata": {},
   "outputs": [],
   "source": [
    "sjcog = sjcog_lrtp()"
   ]
  },
  {
   "cell_type": "code",
   "execution_count": 71,
   "id": "49479d46-114a-4328-855c-46bb5ce10165",
   "metadata": {},
   "outputs": [
    {
     "name": "stdout",
     "output_type": "stream",
     "text": [
      "City of Lodi-Lodi-Grapeline Capital                                                                         8\n",
      "Various-Caltrans-Various locations                                                                          8\n",
      "No Title                                                                                                    8\n",
      "City streets, various locations-Stockton-Regional Surface Transportation Program (STP) Lump Sum Projects    2\n",
      "Along Northwest side of I-5 from Brookhurst Blvd to Stewart Road-Lathrop-Golden Valley Parkway              2\n",
      "Name: project_name, dtype: int64\n",
      "# of unique project titles: 236\n",
      "After dropping duplicates 255\n",
      "Df shape: (262, 16)\n",
      "Index(['_2018_rtp_mpo_id', 'ctips_id_#', 'jurisdiction', 'facility_name_route',\n",
      "       'project_description', 'project_limits', 'total', 'ftip_programming',\n",
      "       'nepa_approval', 'open_to_traffic', 'completion', 'completion_date',\n",
      "       'facility_name_route_1', 'project_description_1', 'milestone_years_1',\n",
      "       'project_name'],\n",
      "      dtype='object')\n"
     ]
    }
   ],
   "source": [
    "give_info(sjcog, \"project_name\", \"total\")"
   ]
  },
  {
   "cell_type": "markdown",
   "id": "91e53794-6958-4842-b44b-c8be70e07e28",
   "metadata": {
    "tags": []
   },
   "source": [
    "### Stancog"
   ]
  },
  {
   "cell_type": "code",
   "execution_count": 72,
   "id": "713f30b2-6323-4557-9602-f52612494566",
   "metadata": {},
   "outputs": [],
   "source": [
    "def stancog_lrtp():\n",
    "\n",
    "    df = to_snakecase(pd.read_excel(f\"{LRTP_GCS}STANCOG.xlsx\"))\n",
    "    df = embedded_column_names(df, 1)\n",
    "    keep_columns = [\n",
    "        \"Jurisdiction\",\n",
    "        \"Location\",\n",
    "        \"Project Limits\",\n",
    "        \"Description\",\n",
    "        \"Total Cost\",\n",
    "        \"Open to Traffic\",\n",
    "        \"Funding Source\",\n",
    "        \"System Preserv.\",\n",
    "        \"Capacity Enhance.\",\n",
    "        \"Safety\",\n",
    "        \"Oper.\",\n",
    "        \"Complete Streets\",\n",
    "        \"Active\\nTransporta tion\",\n",
    "        \"Transit\",\n",
    "        \"Other\",\n",
    "    ]\n",
    "\n",
    "    df = df[keep_columns]\n",
    "\n",
    "    df = to_snakecase(df)\n",
    "\n",
    "    df = df.dropna(subset=[\"description\"]).reset_index(drop=True)\n",
    "\n",
    "    df[\"title\"] = (df.location + \"-\" + df.description).fillna(\"No Title\")\n",
    "\n",
    "    df = delete_embedded_headers(df, \"location\", \"Location\")\n",
    "\n",
    "    df = df.drop_duplicates(\n",
    "        subset=[\"title\", \"location\", \"jurisdiction\", \"total_cost\", \"open_to_traffic\"]\n",
    "    ).reset_index(drop=True)\n",
    "    return df"
   ]
  },
  {
   "cell_type": "code",
   "execution_count": 73,
   "id": "00a53e3d-700a-4a78-befc-27e83cd42cad",
   "metadata": {},
   "outputs": [
    {
     "name": "stdout",
     "output_type": "stream",
     "text": [
      "68 rows are headers\n"
     ]
    }
   ],
   "source": [
    "stancog = stancog_lrtp()"
   ]
  },
  {
   "cell_type": "code",
   "execution_count": 74,
   "id": "8a0e5a3b-273d-4781-96fe-abf63b5937e9",
   "metadata": {},
   "outputs": [
    {
     "name": "stdout",
     "output_type": "stream",
     "text": [
      "Whitmore Ave-Install Traffic Signal                   5\n",
      "No Title                                              5\n",
      "W. Main St-Widen to 3 lanes                           4\n",
      "SR-99-Construct NB & SB auxiliary lanes               4\n",
      "SR-33-Install 4 Lane Arterial Roadway Improvements    3\n",
      "Name: title, dtype: int64\n",
      "# of unique project titles: 515\n",
      "After dropping duplicates 552\n",
      "Df shape: (556, 16)\n",
      "Index(['jurisdiction', 'location', 'project_limits', 'description',\n",
      "       'total_cost', 'open_to_traffic', 'funding_source', 'system_preserv_',\n",
      "       'capacity_enhance_', 'safety', 'oper_', 'complete_streets',\n",
      "       'active\\ntransporta_tion', 'transit', 'other', 'title'],\n",
      "      dtype='object', name=0)\n"
     ]
    }
   ],
   "source": [
    "give_info(stancog, \"title\", \"total_cost\")"
   ]
  },
  {
   "cell_type": "markdown",
   "id": "f806dda3-1fb0-4c41-b6b3-729bf31afc3a",
   "metadata": {
    "tags": []
   },
   "source": [
    "### Tahoe\n",
    "* Open data portal: https://www.tahoeopendata.org/search?tags=transportation\n",
    "* https://www.tahoeopendata.org/datasets/TRPA::2020-regional-transportation-plan-projects/about"
   ]
  },
  {
   "cell_type": "code",
   "execution_count": 75,
   "id": "56da12dd-7e5a-4a98-b5d2-05067016d49b",
   "metadata": {},
   "outputs": [],
   "source": [
    "def tmpo_lrtp():\n",
    "    tahoe_url = \"https://maps.trpa.org/server/rest/services/Datadownloader_Transportation/MapServer/19/query?where=1%3D1&text=&objectIds=&time=&timeRelation=esriTimeRelationOverlaps&geometry=&geometryType=esriGeometryEnvelope&inSR=&spatialRel=esriSpatialRelIntersects&distance=&units=esriSRUnit_Foot&relationParam=&outFields=*+&returnGeometry=true&returnTrueCurves=false&maxAllowableOffset=&geometryPrecision=&outSR=&havingClause=&returnIdsOnly=false&returnCountOnly=false&orderByFields=&groupByFieldsForStatistics=&outStatistics=&returnZ=false&returnM=false&gdbVersion=&historicMoment=&returnDistinctValues=false&resultOffset=&resultRecordCount=&returnExtentOnly=false&sqlFormat=none&datumTransformation=&parameterValues=&rangeValues=&quantizationParameters=&featureEncoding=esriDefault&f=geojson\"\n",
    "    gdf = to_snakecase(gpd.read_file(tahoe_url))\n",
    "    gdf.complete_year = gdf.complete_year.astype(int)\n",
    "\n",
    "    # Filter out projects that are not yet completed\n",
    "    gdf2 = gdf[gdf.complete_year > 2022].reset_index(drop=True)\n",
    "\n",
    "    gdf2[\"project_year\"] = (\n",
    "        gdf2.start_year.astype(str) + \"-\" + gdf.complete_year.astype(str)\n",
    "    )\n",
    "    return gdf2"
   ]
  },
  {
   "cell_type": "code",
   "execution_count": 76,
   "id": "7adc4e36-a827-4342-8bdf-eb95d61dc5eb",
   "metadata": {},
   "outputs": [],
   "source": [
    "def harmonize_tahoe():\n",
    "    df = tmpo_lrtp()\n",
    "    df = harmonizing_lrtp(\n",
    "        df,\n",
    "        project_name_col=\"project_name\",\n",
    "        project_description_col=\"description\",\n",
    "        project_category_col=\"category\",\n",
    "        project_cost_col=\"estimated_cost\",\n",
    "        location_col=\"geometry\",\n",
    "        county_col=\"\",\n",
    "        city_col=\"\",\n",
    "        project_year_col=\"project_year\",\n",
    "        program=\"TMPO\",\n",
    "        phase_col=\"phase\",\n",
    "        data_source=\"LRTP\",\n",
    "        note_cols=[\n",
    "            \"implementer\",\n",
    "            \"funding_type\",\n",
    "            \"plan_name\",\n",
    "            \"label\",\n",
    "            \"financial_status\",\n",
    "            \"url\",\n",
    "        ],\n",
    "        cost_in_millions=True,\n",
    "    )\n",
    "\n",
    "    return df"
   ]
  },
  {
   "cell_type": "markdown",
   "id": "cf52b56b-cb26-4784-a794-25180ee1ce2c",
   "metadata": {},
   "source": [
    "### TCAG"
   ]
  },
  {
   "cell_type": "code",
   "execution_count": 77,
   "id": "2e563a31-912a-407e-a1ee-3e27060d18ae",
   "metadata": {},
   "outputs": [],
   "source": [
    "def tcag_lrtp():\n",
    "    df = to_snakecase(pd.read_excel(f\"{LRTP_GCS}TCAG.xlsx\"))\n",
    "\n",
    "    def completion_2035(row):\n",
    "        if row.completed_by_2035_y_n == \"Y\":\n",
    "            return \"2035\"\n",
    "\n",
    "    df[\"completion_year\"] = df.apply(lambda x: completion_2035(x), axis=1)\n",
    "\n",
    "    return df"
   ]
  },
  {
   "cell_type": "code",
   "execution_count": 78,
   "id": "5cac2a0f-cee5-401c-9c83-68ba056a3578",
   "metadata": {},
   "outputs": [],
   "source": [
    "tcag = tcag_lrtp()"
   ]
  },
  {
   "cell_type": "code",
   "execution_count": 79,
   "id": "b51df71b-aff6-47d9-85a6-3fca3395949e",
   "metadata": {},
   "outputs": [
    {
     "data": {
      "text/plain": [
       "Index(['project_id__if_applicable_', 'jurisdiction', 'project_title',\n",
       "       'project_description', 'project_category', 'completed_by_2035_y_n',\n",
       "       'local', 'regional', 'state', 'federal', 'cost_x_1,000',\n",
       "       'completion_year'],\n",
       "      dtype='object')"
      ]
     },
     "execution_count": 79,
     "metadata": {},
     "output_type": "execute_result"
    }
   ],
   "source": [
    "tcag.columns"
   ]
  },
  {
   "cell_type": "code",
   "execution_count": 80,
   "id": "633c1c86-3f05-4faf-bc65-419862cb76e1",
   "metadata": {},
   "outputs": [
    {
     "name": "stdout",
     "output_type": "stream",
     "text": [
      "Bike/Ped Improvements next 9 yrs second half of measure R    9\n",
      "Bike/Ped Improvements next 9 years                           9\n",
      "Purchase Buses                                               4\n",
      "SR 99 Widen existing roadway                                 4\n",
      "Riggin Avenue Widen existing roadway                         4\n",
      "Name: project_title, dtype: int64\n",
      "# of unique project titles: 272\n",
      "After dropping duplicates 321\n",
      "Df shape: (340, 12)\n",
      "Index(['project_id__if_applicable_', 'jurisdiction', 'project_title',\n",
      "       'project_description', 'project_category', 'completed_by_2035_y_n',\n",
      "       'local', 'regional', 'state', 'federal', 'cost_x_1,000',\n",
      "       'completion_year'],\n",
      "      dtype='object')\n"
     ]
    }
   ],
   "source": [
    "give_info(tcag, \"project_title\", \"cost_x_1,000\")"
   ]
  },
  {
   "cell_type": "code",
   "execution_count": null,
   "id": "1c822210-3f93-437e-8823-645cdd99aa80",
   "metadata": {},
   "outputs": [
    {
     "data": {
      "text/html": [
       "<div>\n",
       "<style scoped>\n",
       "    .dataframe tbody tr th:only-of-type {\n",
       "        vertical-align: middle;\n",
       "    }\n",
       "\n",
       "    .dataframe tbody tr th {\n",
       "        vertical-align: top;\n",
       "    }\n",
       "\n",
       "    .dataframe thead th {\n",
       "        text-align: right;\n",
       "    }\n",
       "</style>\n",
       "<table border=\"1\" class=\"dataframe\">\n",
       "  <thead>\n",
       "    <tr style=\"text-align: right;\">\n",
       "      <th></th>\n",
       "      <th>project_id__if_applicable_</th>\n",
       "      <th>jurisdiction</th>\n",
       "      <th>project_title</th>\n",
       "      <th>project_description</th>\n",
       "      <th>project_category</th>\n",
       "      <th>completed_by_2035_y_n</th>\n",
       "      <th>local</th>\n",
       "      <th>regional</th>\n",
       "      <th>state</th>\n",
       "      <th>federal</th>\n",
       "      <th>cost_x_1,000</th>\n",
       "      <th>completion_year</th>\n",
       "    </tr>\n",
       "  </thead>\n",
       "  <tbody>\n",
       "    <tr>\n",
       "      <th>61</th>\n",
       "      <td>NaN</td>\n",
       "      <td>Dinuba</td>\n",
       "      <td>Bike/Ped Improvements next 9 yrs second half of measure R</td>\n",
       "      <td>used $49,000 for alta heritage; $50K used for El Monte Way,</td>\n",
       "      <td>Active Transportation</td>\n",
       "      <td>Y</td>\n",
       "      <td>NaN</td>\n",
       "      <td>X</td>\n",
       "      <td>NaN</td>\n",
       "      <td>NaN</td>\n",
       "      <td>226.00</td>\n",
       "      <td>2035</td>\n",
       "    </tr>\n",
       "    <tr>\n",
       "      <th>62</th>\n",
       "      <td>NaN</td>\n",
       "      <td>Exeter</td>\n",
       "      <td>Bike/Ped Improvements next 9 yrs second half of measure R</td>\n",
       "      <td>Used $485,980. on Belmont Project</td>\n",
       "      <td>Active Transportation</td>\n",
       "      <td>Y</td>\n",
       "      <td>NaN</td>\n",
       "      <td>X</td>\n",
       "      <td>NaN</td>\n",
       "      <td>NaN</td>\n",
       "      <td>14.02</td>\n",
       "      <td>2035</td>\n",
       "    </tr>\n",
       "    <tr>\n",
       "      <th>63</th>\n",
       "      <td>NaN</td>\n",
       "      <td>Lindsay</td>\n",
       "      <td>Bike/Ped Improvements next 9 yrs second half of measure R</td>\n",
       "      <td>NaN</td>\n",
       "      <td>Active Transportation</td>\n",
       "      <td>Y</td>\n",
       "      <td>NaN</td>\n",
       "      <td>X</td>\n",
       "      <td>NaN</td>\n",
       "      <td>NaN</td>\n",
       "      <td>500.00</td>\n",
       "      <td>2035</td>\n",
       "    </tr>\n",
       "    <tr>\n",
       "      <th>64</th>\n",
       "      <td>NaN</td>\n",
       "      <td>Porterville</td>\n",
       "      <td>Bike/Ped Improvements next 9 yrs second half of measure R</td>\n",
       "      <td>used $500,000 on Bike/Ped Various</td>\n",
       "      <td>Active Transportation</td>\n",
       "      <td>Y</td>\n",
       "      <td>NaN</td>\n",
       "      <td>X</td>\n",
       "      <td>NaN</td>\n",
       "      <td>NaN</td>\n",
       "      <td>0.00</td>\n",
       "      <td>2035</td>\n",
       "    </tr>\n",
       "    <tr>\n",
       "      <th>65</th>\n",
       "      <td>NaN</td>\n",
       "      <td>Tulare</td>\n",
       "      <td>Bike/Ped Improvements next 9 yrs second half of measure R</td>\n",
       "      <td>NaN</td>\n",
       "      <td>Active Transportation</td>\n",
       "      <td>Y</td>\n",
       "      <td>NaN</td>\n",
       "      <td>X</td>\n",
       "      <td>NaN</td>\n",
       "      <td>NaN</td>\n",
       "      <td>500.00</td>\n",
       "      <td>2035</td>\n",
       "    </tr>\n",
       "    <tr>\n",
       "      <th>66</th>\n",
       "      <td>NaN</td>\n",
       "      <td>County</td>\n",
       "      <td>Bike/Ped Improvements next 9 yrs second half of measure R</td>\n",
       "      <td>NaN</td>\n",
       "      <td>Active Transportation</td>\n",
       "      <td>Y</td>\n",
       "      <td>NaN</td>\n",
       "      <td>X</td>\n",
       "      <td>NaN</td>\n",
       "      <td>NaN</td>\n",
       "      <td>500.00</td>\n",
       "      <td>2035</td>\n",
       "    </tr>\n",
       "    <tr>\n",
       "      <th>67</th>\n",
       "      <td>NaN</td>\n",
       "      <td>Visalia</td>\n",
       "      <td>Bike/Ped Improvements next 9 yrs second half of measure R</td>\n",
       "      <td>Used on Existing Bike Projects above $500,000</td>\n",
       "      <td>Active Transportation</td>\n",
       "      <td>Y</td>\n",
       "      <td>NaN</td>\n",
       "      <td>X</td>\n",
       "      <td>NaN</td>\n",
       "      <td>NaN</td>\n",
       "      <td>0.00</td>\n",
       "      <td>2035</td>\n",
       "    </tr>\n",
       "    <tr>\n",
       "      <th>68</th>\n",
       "      <td>NaN</td>\n",
       "      <td>Woodlake</td>\n",
       "      <td>Bike/Ped Improvements next 9 yrs second half of measure R</td>\n",
       "      <td>Used $130,000 City plaza; $173,200 No Valencia; 115,000 NS Valencia</td>\n",
       "      <td>Active Transportation</td>\n",
       "      <td>Y</td>\n",
       "      <td>NaN</td>\n",
       "      <td>X</td>\n",
       "      <td>NaN</td>\n",
       "      <td>NaN</td>\n",
       "      <td>81.80</td>\n",
       "      <td>2035</td>\n",
       "    </tr>\n",
       "    <tr>\n",
       "      <th>103</th>\n",
       "      <td>NaN</td>\n",
       "      <td>Dinuba</td>\n",
       "      <td>Bike/Ped Improvements next 9 yrs second half of measure R</td>\n",
       "      <td>used $49,000 for alta heritage; $50K used for El Monte Way,</td>\n",
       "      <td>Active Transportation</td>\n",
       "      <td>Y</td>\n",
       "      <td>NaN</td>\n",
       "      <td>X</td>\n",
       "      <td>NaN</td>\n",
       "      <td>NaN</td>\n",
       "      <td>226.00</td>\n",
       "      <td>2035</td>\n",
       "    </tr>\n",
       "  </tbody>\n",
       "</table>\n",
       "</div>"
      ],
      "text/plain": [
       "    project_id__if_applicable_ jurisdiction  \\\n",
       "61                         NaN       Dinuba   \n",
       "62                         NaN       Exeter   \n",
       "63                         NaN      Lindsay   \n",
       "64                         NaN  Porterville   \n",
       "65                         NaN       Tulare   \n",
       "66                         NaN       County   \n",
       "67                         NaN      Visalia   \n",
       "68                         NaN     Woodlake   \n",
       "103                        NaN       Dinuba   \n",
       "\n",
       "                                                 project_title  \\\n",
       "61   Bike/Ped Improvements next 9 yrs second half of measure R   \n",
       "62   Bike/Ped Improvements next 9 yrs second half of measure R   \n",
       "63   Bike/Ped Improvements next 9 yrs second half of measure R   \n",
       "64   Bike/Ped Improvements next 9 yrs second half of measure R   \n",
       "65   Bike/Ped Improvements next 9 yrs second half of measure R   \n",
       "66   Bike/Ped Improvements next 9 yrs second half of measure R   \n",
       "67   Bike/Ped Improvements next 9 yrs second half of measure R   \n",
       "68   Bike/Ped Improvements next 9 yrs second half of measure R   \n",
       "103  Bike/Ped Improvements next 9 yrs second half of measure R   \n",
       "\n",
       "                                                      project_description  \\\n",
       "61           used $49,000 for alta heritage; $50K used for El Monte Way,    \n",
       "62                                      Used $485,980. on Belmont Project   \n",
       "63                                                                    NaN   \n",
       "64                                      used $500,000 on Bike/Ped Various   \n",
       "65                                                                    NaN   \n",
       "66                                                                    NaN   \n",
       "67                          Used on Existing Bike Projects above $500,000   \n",
       "68   Used $130,000 City plaza; $173,200 No Valencia; 115,000 NS Valencia    \n",
       "103          used $49,000 for alta heritage; $50K used for El Monte Way,    \n",
       "\n",
       "          project_category completed_by_2035_y_n local regional state federal  \\\n",
       "61   Active Transportation                     Y   NaN        X   NaN     NaN   \n",
       "62   Active Transportation                     Y   NaN        X   NaN     NaN   \n",
       "63   Active Transportation                     Y   NaN        X   NaN     NaN   \n",
       "64   Active Transportation                     Y   NaN        X   NaN     NaN   \n",
       "65   Active Transportation                     Y   NaN        X   NaN     NaN   \n",
       "66   Active Transportation                     Y   NaN        X   NaN     NaN   \n",
       "67   Active Transportation                     Y   NaN        X   NaN     NaN   \n",
       "68   Active Transportation                     Y   NaN        X   NaN     NaN   \n",
       "103  Active Transportation                     Y   NaN        X   NaN     NaN   \n",
       "\n",
       "     cost_x_1,000 completion_year  \n",
       "61         226.00            2035  \n",
       "62          14.02            2035  \n",
       "63         500.00            2035  \n",
       "64           0.00            2035  \n",
       "65         500.00            2035  \n",
       "66         500.00            2035  \n",
       "67           0.00            2035  \n",
       "68          81.80            2035  \n",
       "103        226.00            2035  "
      ]
     },
     "execution_count": 81,
     "metadata": {},
     "output_type": "execute_result"
    }
   ],
   "source": [
    "# tcag[tcag.project_title == \"Bike/Ped Improvements next 9 yrs second half of measure R\"]"
   ]
  },
  {
   "cell_type": "markdown",
   "id": "c471e856-9603-4174-85e3-7b5612599f76",
   "metadata": {
    "tags": []
   },
   "source": [
    "## Congestion"
   ]
  },
  {
   "cell_type": "markdown",
   "id": "93a08cfd-9bf0-43c5-aa47-360644e03d3b",
   "metadata": {
    "tags": []
   },
   "source": [
    "#### Lost"
   ]
  },
  {
   "cell_type": "code",
   "execution_count": null,
   "id": "b129f632-67e3-4c4b-b8bc-a129df72e810",
   "metadata": {},
   "outputs": [],
   "source": [
    "stop"
   ]
  },
  {
   "cell_type": "code",
   "execution_count": null,
   "id": "768f56f8-3f8f-4bee-a47d-6e2ad031af6e",
   "metadata": {},
   "outputs": [],
   "source": [
    "lost = harmonization_utils.load_lost()"
   ]
  },
  {
   "cell_type": "code",
   "execution_count": null,
   "id": "82c5ea3e-c588-4b56-92a7-31df48be6a2e",
   "metadata": {},
   "outputs": [],
   "source": [
    "lost.head()"
   ]
  },
  {
   "cell_type": "code",
   "execution_count": null,
   "id": "c99deb53-c295-43ef-aedc-bd34e103f2d4",
   "metadata": {},
   "outputs": [],
   "source": [
    "def harmonize_lost():\n",
    "    df = harmonization_utils.load_lost()\n",
    "    df = harmonizing_lrtp(\n",
    "        df,\n",
    "        project_name_col=\"project_title\",\n",
    "        project_description_col=\"project_description\",\n",
    "        project_category_col=\"project_category\",\n",
    "        project_cost_col=\"cost__in_millions_\",\n",
    "        location_col=\"\",\n",
    "        county_col=\"county\",\n",
    "        city_col=\"city\",\n",
    "        project_year_col=\"\",\n",
    "        program=\"\",\n",
    "        phase_col=\"phase\",\n",
    "        data_source=\"LOST\",\n",
    "        note_cols=[\n",
    "            \"measure\",\n",
    "            \"estimated_lost_funds\",\n",
    "            \"estimated_federal_funds\",\n",
    "            \"estimated_state_funds\",\n",
    "            \"estimated_local_funds\",\n",
    "            \"estimated_other_funds\",\n",
    "            \"notes\",\n",
    "        ],\n",
    "        cost_in_millions=False,\n",
    "    )\n",
    "\n",
    "    return df"
   ]
  },
  {
   "cell_type": "code",
   "execution_count": null,
   "id": "c3bdc3b8-acec-4611-a7ff-1d5a3e28829d",
   "metadata": {},
   "outputs": [],
   "source": [
    "lost_harmonized = harmonize_lost()"
   ]
  },
  {
   "cell_type": "code",
   "execution_count": null,
   "id": "01d6f212-60e9-4064-b5b2-063ecff04bed",
   "metadata": {},
   "outputs": [],
   "source": [
    "lost_harmonized.head()"
   ]
  },
  {
   "cell_type": "code",
   "execution_count": null,
   "id": "b09c5244-9c4e-4c40-b55f-7d20b0c4154b",
   "metadata": {},
   "outputs": [],
   "source": [
    "def all_mpo():\n",
    "    tahoe = harmonize_tahoe()\n",
    "    sandag = harmonize_sandag()\n",
    "    mtc = harmonize_mtc()\n",
    "    lost = harmonize_lost()\n",
    "    sacog = harmonize_sacog()\n",
    "    scag = harmonize_scag()\n",
    "\n",
    "    df = pd.concat([tahoe, mtc, sandag, lost, sacog, scag])\n",
    "\n",
    "    return df"
   ]
  },
  {
   "cell_type": "code",
   "execution_count": null,
   "id": "f6029dfe-f101-4907-b124-02ac0a08983a",
   "metadata": {},
   "outputs": [],
   "source": [
    "all_mpo_df = all_mpo()"
   ]
  },
  {
   "cell_type": "code",
   "execution_count": null,
   "id": "cbf33c3b-c592-4ba3-a422-ccf599a1dcb2",
   "metadata": {},
   "outputs": [],
   "source": [
    "all_mpo_df.groupby([\"grant_program\"]).size()"
   ]
  },
  {
   "cell_type": "code",
   "execution_count": null,
   "id": "48a098da-a194-4515-8bf9-ac08dd3b109e",
   "metadata": {},
   "outputs": [],
   "source": [
    "congest_keywords = [\n",
    "    \"congestion pricing\",\n",
    "    \"variablly priced\",\n",
    "    \"variable tolls\",\n",
    "    \"express lane\",\n",
    "    \"value\",\n",
    "    \"rush hour\",\n",
    "    \"cordon\",\n",
    "    \"dynamic pricing\",\n",
    "    \"dynmically priced\",\n",
    "    \"high occupancy toll\",\n",
    "    \"high-occupancy\" \"mobility pricing\",\n",
    "    \"occupancy\",\n",
    "    \"toll lane\",\n",
    "    \"performance pricing\",\n",
    "    \"peak travel\",\n",
    "    \"managed lane\",\n",
    "    \"tollway\",\n",
    "    \"transponder\",\n",
    "    \"express toll\",\n",
    "    \"fixed pricing\",\n",
    "]"
   ]
  },
  {
   "cell_type": "code",
   "execution_count": null,
   "id": "89a96375-12a8-4c36-a6b9-85946e613e28",
   "metadata": {},
   "outputs": [],
   "source": [
    "def lower_case(df, columns_to_search: list):\n",
    "    \"\"\"\n",
    "    Lowercase certain columns\n",
    "    \"\"\"\n",
    "    new_columns = []\n",
    "    for i in columns_to_search:\n",
    "        df[f\"lower_case_{i}\"] = (\n",
    "            df[i]\n",
    "            .str.lower()\n",
    "            .fillna(\"none\")\n",
    "            .str.replace(\"-\", \"\")\n",
    "            .str.replace(\".\", \"\")\n",
    "            .str.replace(\":\", \"\")\n",
    "        )\n",
    "        new_columns.append(f\"lower_case_{i}\")\n",
    "\n",
    "    return df, new_columns"
   ]
  },
  {
   "cell_type": "code",
   "execution_count": null,
   "id": "8610673b-beb8-43ce-86ad-65a5edbb116b",
   "metadata": {},
   "outputs": [],
   "source": [
    "def find_keywords(df, columns_to_search: list, keywords_search: list):\n",
    "    df2, lower_case_cols_list = lower_case(df, columns_to_search)\n",
    "\n",
    "    keywords_search = f\"({'|'.join(keywords_search)})\"\n",
    "\n",
    "    for i in lower_case_cols_list:\n",
    "        df2[f\"{i}_keyword_search\"] = (\n",
    "            df2[i].str.extract(keywords_search).fillna(\"not congestion\")\n",
    "        )\n",
    "\n",
    "    return df2"
   ]
  },
  {
   "cell_type": "code",
   "execution_count": null,
   "id": "e4ca79dc-e0ec-4e53-a09c-86cf396bb4a9",
   "metadata": {},
   "outputs": [],
   "source": [
    "# test = find_keywords(all_mpo_df,  [\"project_title\", \"project_description\", \"notes\"], congest_keywords)"
   ]
  },
  {
   "cell_type": "code",
   "execution_count": null,
   "id": "f7b3c57c-eee0-418a-82b6-051a01dd2488",
   "metadata": {},
   "outputs": [],
   "source": [
    "def filter_cordon(\n",
    "    df, columns_to_search: list, keywords_search: list, save_to_gcs: bool = False\n",
    "):\n",
    "\n",
    "    # Filter out for Cordon\n",
    "    df = find_keywords(df, columns_to_search, keywords_search)\n",
    "    df2 = (\n",
    "        df[\n",
    "            (df.lower_case_project_title_keyword_search != \"not congestion\")\n",
    "            | (df.lower_case_project_description_keyword_search != \"not congestion\")\n",
    "        ]\n",
    "    ).reset_index(drop=True)\n",
    "\n",
    "    # Delete out HOV\n",
    "    projects_to_delete = [\n",
    "        \"SR 17 Corridor Congestion Relief in Los Gatos\",\n",
    "        \"Interstate 380 Congestion Improvements\",\n",
    "    ]\n",
    "    df2 = df2[~df2.project_title.isin(projects_to_delete)].reset_index(drop=True)\n",
    "\n",
    "    # Drop invalid geometries\n",
    "    gdf = df2[~df2.geometry.is_empty].reset_index(drop=True)\n",
    "    gdf = gdf[gdf.geometry.is_valid].reset_index(drop=True)\n",
    "\n",
    "    gdf = gdf.set_geometry(\"geometry\")\n",
    "    gdf = gdf.fillna(gdf.dtypes.replace({\"float64\": 0.0, \"object\": \"None\"}))\n",
    "\n",
    "    # One version that's a df\n",
    "    columns_to_drop = [\"lower_case_project_title\", \"lower_case_project_description\"]\n",
    "    df2 = df2.drop(columns=columns_to_drop + [\"geometry\"])\n",
    "    # df2 = df2.fillna(df.dtypes.replace({\"float64\": 0.0, \"object\": \"None\"}))\n",
    "\n",
    "    if save_to_gcs:\n",
    "        df2.to_excel(\n",
    "            f\"{harmonization_utils.GCS_FILE_PATH}LRTP/congestion_pricing_sample.xlsx\",\n",
    "            sheet_name=\"Sheet_name_1\",\n",
    "            index=False,\n",
    "        )\n",
    "        gdf.to_file(\"./congestion_pricing_sample.geojson\", driver=\"GeoJSON\")\n",
    "\n",
    "    return gdf, df2"
   ]
  },
  {
   "cell_type": "code",
   "execution_count": null,
   "id": "301e83a2-af81-404f-9451-f9e2d1b3e57d",
   "metadata": {},
   "outputs": [],
   "source": [
    "cordon_gdf, cordon_df = filter_cordon(\n",
    "    all_mpo_df,\n",
    "    [\n",
    "        \"project_title\",\n",
    "        \"project_description\",\n",
    "    ],\n",
    "    congest_keywords,\n",
    ")"
   ]
  },
  {
   "cell_type": "code",
   "execution_count": null,
   "id": "94759bf4-3364-48b2-871a-c5855b4aff06",
   "metadata": {},
   "outputs": [],
   "source": [
    "len(cordon_df.drop_duplicates(subset=[\"project_title\"]))"
   ]
  },
  {
   "cell_type": "code",
   "execution_count": null,
   "id": "73326293-f186-4035-b66e-efcdc8ed00e6",
   "metadata": {
    "tags": []
   },
   "outputs": [],
   "source": [
    "cordon_df.groupby([\"grant_program\"]).agg({\"project_title\": \"nunique\"})"
   ]
  },
  {
   "cell_type": "code",
   "execution_count": null,
   "id": "ff133b8e-e666-4dde-84d4-56e3e6e833b0",
   "metadata": {},
   "outputs": [],
   "source": [
    "cordon_df.grant_program.value_counts()"
   ]
  },
  {
   "cell_type": "code",
   "execution_count": null,
   "id": "b52f9434-889f-42b8-aa33-4c72b02cc828",
   "metadata": {},
   "outputs": [],
   "source": [
    "cordon_df.drop_duplicates(subset=[\"total_project_cost\", \"project_title\",]).groupby(\n",
    "    [\"grant_program\"]\n",
    ").agg({\"total_project_cost\": \"sum\"})"
   ]
  },
  {
   "cell_type": "code",
   "execution_count": null,
   "id": "9de2efe0-ea2b-417c-9718-9660cf91d60b",
   "metadata": {},
   "outputs": [],
   "source": [
    "cols_to_drop = [\n",
    "    \"city\",\n",
    "    \"county\",\n",
    "    \"notes\",\n",
    "    \"phase\",\n",
    "    \"project_year\",\n",
    "]"
   ]
  },
  {
   "cell_type": "code",
   "execution_count": null,
   "id": "b454bd7d-4824-47c7-959b-8b242ad73739",
   "metadata": {
    "scrolled": true,
    "tags": []
   },
   "outputs": [],
   "source": [
    "cordon_df.drop(columns=cols_to_drop).drop_duplicates(\n",
    "    subset=[\"project_title\", \"project_description\"]\n",
    ")"
   ]
  },
  {
   "cell_type": "code",
   "execution_count": null,
   "id": "e5394efd-2a93-46e0-8e5d-bc9326680b24",
   "metadata": {},
   "outputs": [],
   "source": [
    "# cordon_gdf.explore('project_title', cmap= 'tab20c', style_kwds={'weight':6}, legend = False)"
   ]
  }
 ],
 "metadata": {
  "kernelspec": {
   "display_name": "Python 3 (ipykernel)",
   "language": "python",
   "name": "python3"
  },
  "language_info": {
   "codemirror_mode": {
    "name": "ipython",
    "version": 3
   },
   "file_extension": ".py",
   "mimetype": "text/x-python",
   "name": "python",
   "nbconvert_exporter": "python",
   "pygments_lexer": "ipython3",
   "version": "3.9.13"
  }
 },
 "nbformat": 4,
 "nbformat_minor": 5
}
