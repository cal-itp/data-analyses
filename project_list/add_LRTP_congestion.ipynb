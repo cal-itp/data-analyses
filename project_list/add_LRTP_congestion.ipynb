{
 "cells": [
  {
   "cell_type": "markdown",
   "id": "ec8f501a-adea-4a26-a123-b8813b11a7f8",
   "metadata": {},
   "source": [
    "## Long Range Transportation Plan"
   ]
  },
  {
   "cell_type": "code",
   "execution_count": 122,
   "id": "4d9c4625-d899-467f-822f-685ea519e37a",
   "metadata": {},
   "outputs": [],
   "source": [
    "import _categorizing_utils as categorizing_utils\n",
    "import _harmonization_utils as harmonization_utils\n",
    "import _lrtp_utils as lrtp_utils\n",
    "import _specific_list_utils as list_utils\n",
    "import geopandas as gpd\n",
    "import numpy as np\n",
    "import pandas as pd\n",
    "from calitp_data_analysis.sql import to_snakecase"
   ]
  },
  {
   "cell_type": "code",
   "execution_count": 123,
   "id": "acc6bd58-2f9f-41b2-8920-f13e7dee3577",
   "metadata": {},
   "outputs": [],
   "source": [
    "import fsspec"
   ]
  },
  {
   "cell_type": "code",
   "execution_count": 124,
   "id": "872695e0-0621-4425-bf69-ea03f630a746",
   "metadata": {},
   "outputs": [],
   "source": [
    "import warnings\n",
    "warnings.filterwarnings(\"ignore\")"
   ]
  },
  {
   "cell_type": "code",
   "execution_count": 125,
   "id": "c98b342d-5b6d-4ec2-8d19-b57cab057892",
   "metadata": {},
   "outputs": [],
   "source": [
    "pd.options.display.max_columns = 100\n",
    "pd.options.display.float_format = \"{:.2f}\".format\n",
    "pd.set_option(\"display.max_rows\", None)\n",
    "pd.set_option(\"display.max_colwidth\", None)"
   ]
  },
  {
   "cell_type": "markdown",
   "id": "e92a58d1-9231-4237-bb0a-8602c94bcb36",
   "metadata": {},
   "source": [
    "### Ambag"
   ]
  },
  {
   "cell_type": "code",
   "execution_count": 126,
   "id": "d720503d-34a1-438b-b42a-dc58f4a52aef",
   "metadata": {},
   "outputs": [],
   "source": [
    "ambag = lrtp_utils.ambag_lrtp()"
   ]
  },
  {
   "cell_type": "code",
   "execution_count": 127,
   "id": "0aa672e4-406a-4390-a822-1b10b1fb8cfb",
   "metadata": {},
   "outputs": [
    {
     "name": "stdout",
     "output_type": "stream",
     "text": [
      "Citywide Bike Lanes                         2\n",
      "The Alameda - Salinas Road Bike Route       2\n",
      "Citywide Sidewalk Program                   2\n",
      "Carmel to Pebble Beach Bike/Ped Facility    1\n",
      "Second Street Bike Lane                     1\n",
      "Name: project, dtype: int64\n",
      "# of unique project titles: 277\n",
      "After dropping duplicates using project and project_description: 280\n",
      "Df shape: (280, 6)\n",
      "Index(['ambag_id', 'project', 'project_description', 'total_cost_\\n_$_000s_',\n",
      "       'county', 'total_cost_millions'],\n",
      "      dtype='object', name=0)\n"
     ]
    }
   ],
   "source": [
    "lrtp_utils.give_info(ambag, \"project\", \"project_description\")"
   ]
  },
  {
   "cell_type": "code",
   "execution_count": 128,
   "id": "3fc71478-28be-4e69-9f10-de8b04043119",
   "metadata": {},
   "outputs": [
    {
     "data": {
      "text/html": [
       "<div>\n",
       "<style scoped>\n",
       "    .dataframe tbody tr th:only-of-type {\n",
       "        vertical-align: middle;\n",
       "    }\n",
       "\n",
       "    .dataframe tbody tr th {\n",
       "        vertical-align: top;\n",
       "    }\n",
       "\n",
       "    .dataframe thead th {\n",
       "        text-align: right;\n",
       "    }\n",
       "</style>\n",
       "<table border=\"1\" class=\"dataframe\">\n",
       "  <thead>\n",
       "    <tr style=\"text-align: right;\">\n",
       "      <th></th>\n",
       "      <th>ambag_id</th>\n",
       "      <th>project</th>\n",
       "      <th>project_description</th>\n",
       "      <th>total_cost_\\n_$_000s_</th>\n",
       "      <th>county</th>\n",
       "      <th>total_cost_millions</th>\n",
       "    </tr>\n",
       "  </thead>\n",
       "  <tbody>\n",
       "    <tr>\n",
       "      <th>133</th>\n",
       "      <td>MON-SOL075-SO</td>\n",
       "      <td>Citywide Bike Lanes</td>\n",
       "      <td>Bike Lanes (2007 TIF M2, 2013 TIF M2); construct bike lanes citywide</td>\n",
       "      <td>1440</td>\n",
       "      <td>Santa Cruz</td>\n",
       "      <td>1440000</td>\n",
       "    </tr>\n",
       "    <tr>\n",
       "      <th>52</th>\n",
       "      <td>SC-SV-P41-SCV</td>\n",
       "      <td>Citywide Bike Lanes</td>\n",
       "      <td>Construction of additional bike lanes and paths citywide (including Green Hills).</td>\n",
       "      <td>2060</td>\n",
       "      <td>San Benito</td>\n",
       "      <td>2060000</td>\n",
       "    </tr>\n",
       "  </tbody>\n",
       "</table>\n",
       "</div>"
      ],
      "text/plain": [
       "0         ambag_id              project  \\\n",
       "133  MON-SOL075-SO  Citywide Bike Lanes   \n",
       "52   SC-SV-P41-SCV  Citywide Bike Lanes   \n",
       "\n",
       "0                                                                  project_description  \\\n",
       "133               Bike Lanes (2007 TIF M2, 2013 TIF M2); construct bike lanes citywide   \n",
       "52   Construction of additional bike lanes and paths citywide (including Green Hills).   \n",
       "\n",
       "0   total_cost_\\n_$_000s_      county total_cost_millions  \n",
       "133                  1440  Santa Cruz             1440000  \n",
       "52                   2060  San Benito             2060000  "
      ]
     },
     "execution_count": 128,
     "metadata": {},
     "output_type": "execute_result"
    }
   ],
   "source": [
    "ambag.loc[ambag.project == \"Citywide Bike Lanes\"]"
   ]
  },
  {
   "cell_type": "markdown",
   "id": "01a85ba7-2fe4-4105-bbd2-4b6fc03d3dad",
   "metadata": {
    "tags": []
   },
   "source": [
    "### BCAG "
   ]
  },
  {
   "cell_type": "code",
   "execution_count": 129,
   "id": "e58fe25d-aa51-47a4-9913-45173c7eace9",
   "metadata": {},
   "outputs": [],
   "source": [
    "bcag = lrtp_utils.bcag_lrtp()"
   ]
  },
  {
   "cell_type": "code",
   "execution_count": 130,
   "id": "9d9cd08e-dd41-4dfc-849b-1678657752cd",
   "metadata": {},
   "outputs": [
    {
     "data": {
      "text/html": [
       "<div>\n",
       "<style scoped>\n",
       "    .dataframe tbody tr th:only-of-type {\n",
       "        vertical-align: middle;\n",
       "    }\n",
       "\n",
       "    .dataframe tbody tr th {\n",
       "        vertical-align: top;\n",
       "    }\n",
       "\n",
       "    .dataframe thead th {\n",
       "        text-align: right;\n",
       "    }\n",
       "</style>\n",
       "<table border=\"1\" class=\"dataframe\">\n",
       "  <thead>\n",
       "    <tr style=\"text-align: right;\">\n",
       "      <th></th>\n",
       "      <th>fund_estimate</th>\n",
       "      <th>total_project_cost</th>\n",
       "      <th>rtp_id</th>\n",
       "    </tr>\n",
       "  </thead>\n",
       "  <tbody>\n",
       "    <tr>\n",
       "      <th>63</th>\n",
       "      <td>$1.1 million</td>\n",
       "      <td>1100000.00</td>\n",
       "      <td>61</td>\n",
       "    </tr>\n",
       "    <tr>\n",
       "      <th>168</th>\n",
       "      <td>$1.62 million</td>\n",
       "      <td>1620000.00</td>\n",
       "      <td>169</td>\n",
       "    </tr>\n",
       "    <tr>\n",
       "      <th>5</th>\n",
       "      <td>$3.42 million</td>\n",
       "      <td>3420000.00</td>\n",
       "      <td>6</td>\n",
       "    </tr>\n",
       "  </tbody>\n",
       "</table>\n",
       "</div>"
      ],
      "text/plain": [
       "     fund_estimate  total_project_cost  rtp_id\n",
       "63    $1.1 million          1100000.00      61\n",
       "168  $1.62 million          1620000.00     169\n",
       "5    $3.42 million          3420000.00       6"
      ]
     },
     "execution_count": 130,
     "metadata": {},
     "output_type": "execute_result"
    }
   ],
   "source": [
    "bcag[['fund_estimate','total_project_cost','rtp_id']].sample(3)"
   ]
  },
  {
   "cell_type": "code",
   "execution_count": 131,
   "id": "2f89eb95-c0d6-41fe-8288-d2e5f71e02fc",
   "metadata": {
    "tags": []
   },
   "outputs": [
    {
     "name": "stdout",
     "output_type": "stream",
     "text": [
      "New Traffic Signal                                                                                                                                   6\n",
      "Turn lane capacity expansion, storage length expansion, channelization improvements, pedestrian safety due to increased traffic volumes.             4\n",
      "East Gridley Rd. At Feather River, 1.0 mile east of Larkin Rd. Scope is to address cracks with a Methacrylate Deck treatment. Bridge No. 12C0022.    2\n",
      "Roundabout (within existing ROW)                                                                                                                     2\n",
      "operational flow improvments (traffic signals or roundabouts)                                                                                        2\n",
      "Name: project_descr, dtype: int64\n",
      "# of unique project titles: 239\n",
      "After dropping duplicates using project_descr and total_project_cost: 247\n",
      "Df shape: (250, 23)\n",
      "Index(['rtp_id', 'agency', 'ftip', 'rtp', 'project_type', 'title',\n",
      "       'project_descr', 'project_id', 'fund_source', 'fund_estimate', 'status',\n",
      "       'y_coord', 'x_coord', 'target_fiscal_year', 'fund_source_1',\n",
      "       'fund_source_2', 'source', 'title_vi', 'non_title_vi', 'ej', 'non_ej',\n",
      "       'geometry', 'total_project_cost'],\n",
      "      dtype='object')\n"
     ]
    }
   ],
   "source": [
    "lrtp_utils.give_info(bcag, \"project_descr\", \"total_project_cost\")"
   ]
  },
  {
   "cell_type": "code",
   "execution_count": 132,
   "id": "0a252afb-d64c-4f4d-943b-c01fbbc59c31",
   "metadata": {},
   "outputs": [],
   "source": [
    "# bcag.loc[bcag.project_descr == \"Turn lane capacity expansion, storage length expansion, channelization improvements, pedestrian safety due to increased traffic volumes.\"]"
   ]
  },
  {
   "cell_type": "markdown",
   "id": "04450281-f55d-414c-b18f-5761a4bb423a",
   "metadata": {
    "tags": []
   },
   "source": [
    "### Fresno COG"
   ]
  },
  {
   "cell_type": "code",
   "execution_count": 133,
   "id": "7b167072-0655-47a9-b609-b08b1f72081d",
   "metadata": {},
   "outputs": [],
   "source": [
    "fresno_cog = lrtp_utils.fresnocog_lrtp()"
   ]
  },
  {
   "cell_type": "code",
   "execution_count": 134,
   "id": "04d24a2a-7223-4d0b-93cf-2b320d19340f",
   "metadata": {},
   "outputs": [
    {
     "name": "stdout",
     "output_type": "stream",
     "text": [
      "None                                               3\n",
      "SR 41 at Elkhorn Ave Roundabout                    2\n",
      "SR 41 at Mount Whitney Ave Roundabout              2\n",
      "Ventura, SR 41 to SR 99  Widen from 4LU to 4 LD    2\n",
      "Herndon-Polk to Weber : 4Ld to 6LD                 2\n",
      "Name: project_title, dtype: int64\n",
      "# of unique project titles: 3129\n",
      "After dropping duplicates using project_title and estimated\n",
      "total_cost\n",
      "_$1,000_: 3143\n",
      "Df shape: (3147, 10)\n",
      "Index(['agency', 'project_id', 'project_title', 'project_description',\n",
      "       'project_type', 'estimated_open_to_traffic',\n",
      "       'estimated\\ntotal_cost\\n_$1,000_', 'est__o2t_year',\n",
      "       'est_total_project_cost', 'financial_constraint'],\n",
      "      dtype='object')\n"
     ]
    }
   ],
   "source": [
    "lrtp_utils.give_info(fresno_cog, \"project_title\", \"estimated\\ntotal_cost\\n_$1,000_\")"
   ]
  },
  {
   "cell_type": "code",
   "execution_count": 135,
   "id": "42262a99-40ed-4aad-a05a-07bc0b20a970",
   "metadata": {},
   "outputs": [],
   "source": [
    "# fresno_cog.loc[fresno_cog.project_type.str.contains(\"Ac\")]"
   ]
  },
  {
   "cell_type": "code",
   "execution_count": 136,
   "id": "2cf1e5ad-7982-4d1c-b864-9eaa7b056c1f",
   "metadata": {},
   "outputs": [
    {
     "data": {
      "text/html": [
       "<div>\n",
       "<style scoped>\n",
       "    .dataframe tbody tr th:only-of-type {\n",
       "        vertical-align: middle;\n",
       "    }\n",
       "\n",
       "    .dataframe tbody tr th {\n",
       "        vertical-align: top;\n",
       "    }\n",
       "\n",
       "    .dataframe thead th {\n",
       "        text-align: right;\n",
       "    }\n",
       "</style>\n",
       "<table border=\"1\" class=\"dataframe\">\n",
       "  <thead>\n",
       "    <tr style=\"text-align: right;\">\n",
       "      <th></th>\n",
       "      <th></th>\n",
       "      <th>project_description</th>\n",
       "    </tr>\n",
       "    <tr>\n",
       "      <th>project_title</th>\n",
       "      <th>estimated\n",
       "total_cost\n",
       "_$1,000_</th>\n",
       "      <th></th>\n",
       "    </tr>\n",
       "  </thead>\n",
       "  <tbody>\n",
       "    <tr>\n",
       "      <th>Ventura, SR 41 to SR 99  Widen from 4LU to 4 LD</th>\n",
       "      <th>3427.00</th>\n",
       "      <td>2</td>\n",
       "    </tr>\n",
       "    <tr>\n",
       "      <th>Herndon-Polk to Weber : 4Ld to 6LD</th>\n",
       "      <th>2931.00</th>\n",
       "      <td>2</td>\n",
       "    </tr>\n",
       "    <tr>\n",
       "      <th>10th Ave / Kamm Ave Traffic Signal</th>\n",
       "      <th>400.00</th>\n",
       "      <td>1</td>\n",
       "    </tr>\n",
       "    <tr>\n",
       "      <th>Millerton Road From Auberry Rd to SR 168 Shoulder Widening</th>\n",
       "      <th>5910.00</th>\n",
       "      <td>1</td>\n",
       "    </tr>\n",
       "    <tr>\n",
       "      <th>Midtown Trail: Millbrook - Michigan to McKinley</th>\n",
       "      <th>680.00</th>\n",
       "      <td>1</td>\n",
       "    </tr>\n",
       "    <tr>\n",
       "      <th>Milburn &amp; Spruce: New Traffic Signal</th>\n",
       "      <th>620.00</th>\n",
       "      <td>1</td>\n",
       "    </tr>\n",
       "    <tr>\n",
       "      <th>Mill and Orange Park &amp; Ride Lot</th>\n",
       "      <th>505.00</th>\n",
       "      <td>1</td>\n",
       "    </tr>\n",
       "    <tr>\n",
       "      <th>Millbrook &amp; Nees: Left Turn Phasing</th>\n",
       "      <th>380.00</th>\n",
       "      <td>1</td>\n",
       "    </tr>\n",
       "    <tr>\n",
       "      <th>Millbrook &amp; Olympic: New Traffic Signal</th>\n",
       "      <th>500.00</th>\n",
       "      <td>1</td>\n",
       "    </tr>\n",
       "    <tr>\n",
       "      <th>Millbrook - Alluvial to Shepherd: AC Overlay</th>\n",
       "      <th>656.00</th>\n",
       "      <td>1</td>\n",
       "    </tr>\n",
       "  </tbody>\n",
       "</table>\n",
       "</div>"
      ],
      "text/plain": [
       "                                                                                            project_description\n",
       "project_title                                              estimated\\ntotal_cost\\n_$1,000_                     \n",
       "Ventura, SR 41 to SR 99  Widen from 4LU to 4 LD            3427.00                                            2\n",
       "Herndon-Polk to Weber : 4Ld to 6LD                         2931.00                                            2\n",
       "10th Ave / Kamm Ave Traffic Signal                         400.00                                             1\n",
       "Millerton Road From Auberry Rd to SR 168 Shoulder Widening 5910.00                                            1\n",
       "Midtown Trail: Millbrook - Michigan to McKinley            680.00                                             1\n",
       "Milburn & Spruce: New Traffic Signal                       620.00                                             1\n",
       "Mill and Orange Park & Ride Lot                            505.00                                             1\n",
       "Millbrook & Nees: Left Turn Phasing                        380.00                                             1\n",
       "Millbrook & Olympic: New Traffic Signal                    500.00                                             1\n",
       "Millbrook - Alluvial to Shepherd: AC Overlay               656.00                                             1"
      ]
     },
     "metadata": {},
     "output_type": "display_data"
    }
   ],
   "source": [
    "lrtp_utils.group_duplicates(\n",
    "    fresno_cog,\n",
    "    \"project_title\",\n",
    "    \"estimated\\ntotal_cost\\n_$1,000_\",\n",
    "    \"project_description\",\n",
    ")"
   ]
  },
  {
   "cell_type": "code",
   "execution_count": 137,
   "id": "9487a65d-e72e-4026-bf24-609de023f8dc",
   "metadata": {
    "tags": []
   },
   "outputs": [
    {
     "data": {
      "text/html": [
       "<div>\n",
       "<style scoped>\n",
       "    .dataframe tbody tr th:only-of-type {\n",
       "        vertical-align: middle;\n",
       "    }\n",
       "\n",
       "    .dataframe tbody tr th {\n",
       "        vertical-align: top;\n",
       "    }\n",
       "\n",
       "    .dataframe thead th {\n",
       "        text-align: right;\n",
       "    }\n",
       "</style>\n",
       "<table border=\"1\" class=\"dataframe\">\n",
       "  <thead>\n",
       "    <tr style=\"text-align: right;\">\n",
       "      <th></th>\n",
       "      <th>agency</th>\n",
       "      <th>project_id</th>\n",
       "      <th>project_title</th>\n",
       "      <th>project_description</th>\n",
       "      <th>project_type</th>\n",
       "      <th>estimated_open_to_traffic</th>\n",
       "      <th>estimated\\ntotal_cost\\n_$1,000_</th>\n",
       "      <th>est__o2t_year</th>\n",
       "      <th>est_total_project_cost</th>\n",
       "      <th>financial_constraint</th>\n",
       "    </tr>\n",
       "  </thead>\n",
       "  <tbody>\n",
       "    <tr>\n",
       "      <th>989</th>\n",
       "      <td>Fresno</td>\n",
       "      <td>FRE111312</td>\n",
       "      <td>Ventura, SR 41 to SR 99  Widen from 4LU to 4 LD</td>\n",
       "      <td>Widen to 4 LN Divided Arterial</td>\n",
       "      <td>Streets &amp; Roads - Capacity Increasing</td>\n",
       "      <td>2027-2031</td>\n",
       "      <td>3427.00</td>\n",
       "      <td>2028-01-01</td>\n",
       "      <td>3427000.00</td>\n",
       "      <td>constrained</td>\n",
       "    </tr>\n",
       "    <tr>\n",
       "      <th>2071</th>\n",
       "      <td>Fresno</td>\n",
       "      <td>FRE111312</td>\n",
       "      <td>Ventura, SR 41 to SR 99  Widen from 4LU to 4 LD</td>\n",
       "      <td>Widen to 4 LN Divided Arterial(Measure C Project F in the Urban Regional Program)</td>\n",
       "      <td>Streets &amp; Roads-Capacity Increasing</td>\n",
       "      <td>2028</td>\n",
       "      <td>3427.00</td>\n",
       "      <td>NaT</td>\n",
       "      <td>NaN</td>\n",
       "      <td>constrained</td>\n",
       "    </tr>\n",
       "  </tbody>\n",
       "</table>\n",
       "</div>"
      ],
      "text/plain": [
       "      agency project_id                                    project_title  \\\n",
       "989   Fresno  FRE111312  Ventura, SR 41 to SR 99  Widen from 4LU to 4 LD   \n",
       "2071  Fresno  FRE111312  Ventura, SR 41 to SR 99  Widen from 4LU to 4 LD   \n",
       "\n",
       "                                                                    project_description  \\\n",
       "989                                                      Widen to 4 LN Divided Arterial   \n",
       "2071  Widen to 4 LN Divided Arterial(Measure C Project F in the Urban Regional Program)   \n",
       "\n",
       "                               project_type estimated_open_to_traffic  \\\n",
       "989   Streets & Roads - Capacity Increasing                 2027-2031   \n",
       "2071    Streets & Roads-Capacity Increasing                      2028   \n",
       "\n",
       "      estimated\\ntotal_cost\\n_$1,000_ est__o2t_year  est_total_project_cost  \\\n",
       "989                           3427.00    2028-01-01              3427000.00   \n",
       "2071                          3427.00           NaT                     NaN   \n",
       "\n",
       "     financial_constraint  \n",
       "989           constrained  \n",
       "2071          constrained  "
      ]
     },
     "execution_count": 137,
     "metadata": {},
     "output_type": "execute_result"
    }
   ],
   "source": [
    "fresno_cog[fresno_cog.project_title.str.contains(\"Ventura, SR 41\")]"
   ]
  },
  {
   "cell_type": "code",
   "execution_count": 138,
   "id": "0c275b33-b9dd-4670-8668-6a7d554d26c1",
   "metadata": {},
   "outputs": [
    {
     "data": {
      "text/plain": [
       "3427000"
      ]
     },
     "execution_count": 138,
     "metadata": {},
     "output_type": "execute_result"
    }
   ],
   "source": [
    "3427*1_000"
   ]
  },
  {
   "cell_type": "markdown",
   "id": "aa2d24f5-1c4c-4ef3-8c9c-cbf2d7c027d5",
   "metadata": {
    "tags": []
   },
   "source": [
    "### KCAG"
   ]
  },
  {
   "cell_type": "code",
   "execution_count": 139,
   "id": "56748d11-2c5b-4eab-992c-ab3747888c6c",
   "metadata": {},
   "outputs": [],
   "source": [
    "kcag = lrtp_utils.kcag_lrtp()"
   ]
  },
  {
   "cell_type": "code",
   "execution_count": 140,
   "id": "64d2e586-3ed1-41f8-8e73-d7fc4fbc0c06",
   "metadata": {},
   "outputs": [
    {
     "data": {
      "text/html": [
       "<div>\n",
       "<style scoped>\n",
       "    .dataframe tbody tr th:only-of-type {\n",
       "        vertical-align: middle;\n",
       "    }\n",
       "\n",
       "    .dataframe tbody tr th {\n",
       "        vertical-align: top;\n",
       "    }\n",
       "\n",
       "    .dataframe thead th {\n",
       "        text-align: right;\n",
       "    }\n",
       "</style>\n",
       "<table border=\"1\" class=\"dataframe\">\n",
       "  <thead>\n",
       "    <tr style=\"text-align: right;\">\n",
       "      <th></th>\n",
       "      <th>category</th>\n",
       "      <th>jurisdiction</th>\n",
       "      <th>state_route</th>\n",
       "      <th>post_mile</th>\n",
       "      <th>location</th>\n",
       "      <th>project_limits</th>\n",
       "      <th>description</th>\n",
       "      <th>title</th>\n",
       "      <th>total_cost</th>\n",
       "    </tr>\n",
       "  </thead>\n",
       "  <tbody>\n",
       "    <tr>\n",
       "      <th>65</th>\n",
       "      <td>STATE HIGHway projects</td>\n",
       "      <td>NaN</td>\n",
       "      <td>41</td>\n",
       "      <td>8.1/16.3</td>\n",
       "      <td>SR 33 to I-5</td>\n",
       "      <td>Widen from 2 to 4 lanes</td>\n",
       "      <td>NaN</td>\n",
       "      <td>None</td>\n",
       "      <td>0</td>\n",
       "    </tr>\n",
       "  </tbody>\n",
       "</table>\n",
       "</div>"
      ],
      "text/plain": [
       "                   category jurisdiction state_route post_mile      location  \\\n",
       "65  STATE HIGHway projects           NaN          41  8.1/16.3  SR 33 to I-5   \n",
       "\n",
       "             project_limits description title  total_cost  \n",
       "65  Widen from 2 to 4 lanes         NaN  None           0  "
      ]
     },
     "execution_count": 140,
     "metadata": {},
     "output_type": "execute_result"
    }
   ],
   "source": [
    "kcag.sample()"
   ]
  },
  {
   "cell_type": "code",
   "execution_count": 141,
   "id": "2c606c35-d1da-456b-9071-6bee0d332678",
   "metadata": {},
   "outputs": [],
   "source": [
    "# kcag.title.nunique()"
   ]
  },
  {
   "cell_type": "code",
   "execution_count": 142,
   "id": "a2287888-994e-4544-9862-66319644c622",
   "metadata": {},
   "outputs": [
    {
     "name": "stdout",
     "output_type": "stream",
     "text": [
      "Overlay                                                                                        33\n",
      "Widen from 2 to 4 lanes with left turns                                                         4\n",
      "Reconstruct and improve curb/ramps                                                              3\n",
      "Intersection Improvements                                                                       2\n",
      "Overlay of various thicknesses.  Some shoulder work and dig-out and patch prior to overlay.     2\n",
      "Name: description, dtype: int64\n",
      "# of unique project titles: 18\n",
      "After dropping duplicates using description and category: 20\n",
      "Df shape: (84, 9)\n",
      "Index(['category', 'jurisdiction', 'state_route', 'post_mile', 'location',\n",
      "       'project_limits', 'description', 'title', 'total_cost'],\n",
      "      dtype='object')\n"
     ]
    }
   ],
   "source": [
    "lrtp_utils.give_info(kcag, \"description\", \"category\")"
   ]
  },
  {
   "cell_type": "code",
   "execution_count": 143,
   "id": "a7be7fb0-26a3-4bd4-8a47-a718a3472e67",
   "metadata": {},
   "outputs": [
    {
     "data": {
      "text/html": [
       "<div>\n",
       "<style scoped>\n",
       "    .dataframe tbody tr th:only-of-type {\n",
       "        vertical-align: middle;\n",
       "    }\n",
       "\n",
       "    .dataframe tbody tr th {\n",
       "        vertical-align: top;\n",
       "    }\n",
       "\n",
       "    .dataframe thead th {\n",
       "        text-align: right;\n",
       "    }\n",
       "</style>\n",
       "<table border=\"1\" class=\"dataframe\">\n",
       "  <thead>\n",
       "    <tr style=\"text-align: right;\">\n",
       "      <th></th>\n",
       "      <th></th>\n",
       "      <th>category</th>\n",
       "    </tr>\n",
       "    <tr>\n",
       "      <th>location</th>\n",
       "      <th>description</th>\n",
       "      <th></th>\n",
       "    </tr>\n",
       "  </thead>\n",
       "  <tbody>\n",
       "    <tr>\n",
       "      <th>10th Avenue</th>\n",
       "      <th>Widen from 2 to 4 lanes with left turns</th>\n",
       "      <td>1</td>\n",
       "    </tr>\n",
       "    <tr>\n",
       "      <th>Purchase CNG Refuse Vehicle</th>\n",
       "      <th>Vehicle Purchase</th>\n",
       "      <td>1</td>\n",
       "    </tr>\n",
       "    <tr>\n",
       "      <th>Lemoore Avenue</th>\n",
       "      <th>Widen to 5 lanes, add 2 lanes with continuous left turn lane</th>\n",
       "      <td>1</td>\n",
       "    </tr>\n",
       "    <tr>\n",
       "      <th>Linda Lee Circle</th>\n",
       "      <th>Overlay</th>\n",
       "      <td>1</td>\n",
       "    </tr>\n",
       "    <tr>\n",
       "      <th>Madera Street</th>\n",
       "      <th>Reconstruct and improve curb/ramps</th>\n",
       "      <td>1</td>\n",
       "    </tr>\n",
       "    <tr>\n",
       "      <th>Magnolia Street</th>\n",
       "      <th>Overlay</th>\n",
       "      <td>1</td>\n",
       "    </tr>\n",
       "    <tr>\n",
       "      <th>Major Roads</th>\n",
       "      <th>Overlay of various thicknesses.  Some shoulder work and dig-out and patch prior to overlay.</th>\n",
       "      <td>1</td>\n",
       "    </tr>\n",
       "    <tr>\n",
       "      <th>Merced Street</th>\n",
       "      <th>Reconstruct and improve curb/ramps</th>\n",
       "      <td>1</td>\n",
       "    </tr>\n",
       "    <tr>\n",
       "      <th>Minor Roads</th>\n",
       "      <th>Overlay of various thicknesses.  Some shoulder work and dig-out and patch prior to overlay.</th>\n",
       "      <td>1</td>\n",
       "    </tr>\n",
       "    <tr>\n",
       "      <th>Montecito Court</th>\n",
       "      <th>Overlay</th>\n",
       "      <td>1</td>\n",
       "    </tr>\n",
       "  </tbody>\n",
       "</table>\n",
       "</div>"
      ],
      "text/plain": [
       "                                                                                                                         category\n",
       "location                    description                                                                                          \n",
       "10th Avenue                 Widen from 2 to 4 lanes with left turns                                                             1\n",
       "Purchase CNG Refuse Vehicle Vehicle Purchase                                                                                    1\n",
       "Lemoore Avenue              Widen to 5 lanes, add 2 lanes with continuous left turn lane                                        1\n",
       "Linda Lee Circle            Overlay                                                                                             1\n",
       "Madera Street               Reconstruct and improve curb/ramps                                                                  1\n",
       "Magnolia Street             Overlay                                                                                             1\n",
       "Major Roads                 Overlay of various thicknesses.  Some shoulder work and dig-out and patch prior to overlay.         1\n",
       "Merced Street               Reconstruct and improve curb/ramps                                                                  1\n",
       "Minor Roads                 Overlay of various thicknesses.  Some shoulder work and dig-out and patch prior to overlay.         1\n",
       "Montecito Court             Overlay                                                                                             1"
      ]
     },
     "metadata": {},
     "output_type": "display_data"
    }
   ],
   "source": [
    "lrtp_utils.group_duplicates(kcag, \"location\", \"description\", \"category\")"
   ]
  },
  {
   "cell_type": "code",
   "execution_count": 144,
   "id": "e1f24a5e-d46b-4bcb-b075-4f9424634ef5",
   "metadata": {},
   "outputs": [
    {
     "data": {
      "text/plain": [
       "count   84.00\n",
       "mean     0.00\n",
       "std      0.00\n",
       "min      0.00\n",
       "25%      0.00\n",
       "50%      0.00\n",
       "75%      0.00\n",
       "max      0.00\n",
       "Name: total_cost, dtype: float64"
      ]
     },
     "execution_count": 144,
     "metadata": {},
     "output_type": "execute_result"
    }
   ],
   "source": [
    "kcag.total_cost.describe()"
   ]
  },
  {
   "cell_type": "code",
   "execution_count": 145,
   "id": "5755739b-0b41-48fc-b7bf-411b35b25547",
   "metadata": {},
   "outputs": [
    {
     "data": {
      "text/html": [
       "<div>\n",
       "<style scoped>\n",
       "    .dataframe tbody tr th:only-of-type {\n",
       "        vertical-align: middle;\n",
       "    }\n",
       "\n",
       "    .dataframe tbody tr th {\n",
       "        vertical-align: top;\n",
       "    }\n",
       "\n",
       "    .dataframe thead th {\n",
       "        text-align: right;\n",
       "    }\n",
       "</style>\n",
       "<table border=\"1\" class=\"dataframe\">\n",
       "  <thead>\n",
       "    <tr style=\"text-align: right;\">\n",
       "      <th></th>\n",
       "      <th>category</th>\n",
       "      <th>jurisdiction</th>\n",
       "      <th>state_route</th>\n",
       "      <th>post_mile</th>\n",
       "      <th>location</th>\n",
       "      <th>project_limits</th>\n",
       "      <th>description</th>\n",
       "      <th>title</th>\n",
       "      <th>total_cost</th>\n",
       "    </tr>\n",
       "  </thead>\n",
       "  <tbody>\n",
       "    <tr>\n",
       "      <th>33</th>\n",
       "      <td>Proposed Improvements</td>\n",
       "      <td>Lemoore</td>\n",
       "      <td>NaN</td>\n",
       "      <td>NaN</td>\n",
       "      <td>Linda Lee Circle</td>\n",
       "      <td>Cinnamon Dr. to terminus</td>\n",
       "      <td>Overlay</td>\n",
       "      <td>None</td>\n",
       "      <td>0</td>\n",
       "    </tr>\n",
       "  </tbody>\n",
       "</table>\n",
       "</div>"
      ],
      "text/plain": [
       "                 category jurisdiction state_route post_mile  \\\n",
       "33  Proposed Improvements      Lemoore         NaN       NaN   \n",
       "\n",
       "            location            project_limits description title  total_cost  \n",
       "33  Linda Lee Circle  Cinnamon Dr. to terminus     Overlay  None           0  "
      ]
     },
     "execution_count": 145,
     "metadata": {},
     "output_type": "execute_result"
    }
   ],
   "source": [
    "kcag.sample()"
   ]
  },
  {
   "cell_type": "markdown",
   "id": "32750244-6669-4f0f-bfec-b34a2b5305b7",
   "metadata": {},
   "source": [
    "### KernCog"
   ]
  },
  {
   "cell_type": "code",
   "execution_count": 146,
   "id": "2fb65037-a062-4bd9-9eb0-78452ea0f864",
   "metadata": {},
   "outputs": [],
   "source": [
    "kern = lrtp_utils.kern_lrtp()"
   ]
  },
  {
   "cell_type": "code",
   "execution_count": 147,
   "id": "c88e9bbc-3e8e-4200-9a56-f7748f5f7cda",
   "metadata": {},
   "outputs": [
    {
     "data": {
      "text/html": [
       "<div>\n",
       "<style scoped>\n",
       "    .dataframe tbody tr th:only-of-type {\n",
       "        vertical-align: middle;\n",
       "    }\n",
       "\n",
       "    .dataframe tbody tr th {\n",
       "        vertical-align: top;\n",
       "    }\n",
       "\n",
       "    .dataframe thead th {\n",
       "        text-align: right;\n",
       "    }\n",
       "</style>\n",
       "<table border=\"1\" class=\"dataframe\">\n",
       "  <thead>\n",
       "    <tr style=\"text-align: right;\">\n",
       "      <th></th>\n",
       "      <th>project_title</th>\n",
       "      <th>scope</th>\n",
       "      <th>yoe_w__new_revenue</th>\n",
       "      <th>yoe_w_o_new_reven</th>\n",
       "      <th>maint__inflation_savings</th>\n",
       "      <th>cost</th>\n",
       "    </tr>\n",
       "  </thead>\n",
       "  <tbody>\n",
       "    <tr>\n",
       "      <th>450</th>\n",
       "      <td>Bakersfield ‐ Class I Shared Use Path</td>\n",
       "      <td>NE Bakersfield Path (Paladino Dr to Morning Dr Path) 2.7 mi.</td>\n",
       "      <td>2431000</td>\n",
       "      <td>2431000</td>\n",
       "      <td>NaN</td>\n",
       "      <td>2431000</td>\n",
       "    </tr>\n",
       "    <tr>\n",
       "      <th>221</th>\n",
       "      <td>County Areas ‐ active transportation</td>\n",
       "      <td>Safe complete streets, pedestrian enhancements</td>\n",
       "      <td>3225000</td>\n",
       "      <td>112000</td>\n",
       "      <td>$                                      ‐$                                      ‐$                                      ‐$                                      ‐$                                      ‐$                                      ‐$                                      ‐$                                      ‐$                                      ‐$                                      ‐$                                      ‐$                                      ‐$                                      ‐$                                      ‐$                                      ‐$                                      ‐$                                      ‐$                                      ‐$                                      ‐$                                      ‐$                                      ‐$                                      ‐$                                      ‐$                                      ‐$                                      ‐$                                      ‐$                                      ‐$                                      ‐$                                      ‐$                                      ‐$                                      ‐$                                      ‐$                                      ‐$                                      ‐$                                      ‐$                                      ‐$                                      ‐$                                      ‐$                                      ‐$                                      ‐$                                      ‐$                                      ‐$                                      ‐$                                      ‐$                                      ‐$                                      ‐$                                      ‐$                                      ‐$                                      ‐$                                      ‐$                                      ‐$                                      ‐$                                      ‐$                                      ‐$                                      ‐$                                      ‐$                                      ‐$                                      ‐$                                      ‐$                                      ‐$                                      ‐$                                      ‐$                                      ‐$                                      ‐$                                      ‐$                                      ‐$                                      ‐$                                      ‐$                                      ‐$                                      ‐$                                      ‐$                                      ‐$                                      ‐$                                      ‐$                                      ‐$                                      ‐$                                      ‐$                                      ‐$                                      ‐$                                      ‐$                                      ‐$                                      ‐$                                      ‐$                                      ‐$                                      ‐$                                      ‐$                                      ‐$                                      ‐$                                      ‐$                                      ‐$                                      ‐$                                      ‐$                                      ‐$                                      ‐$                                      ‐$                                      ‐$                                      ‐$                                      ‐$                                      ‐$                                      ‐$                                      ‐$                                      ‐$                                      ‐$                                      ‐$                                      ‐$                                      ‐$                                      ‐$                                      ‐$                                      ‐$                                      ‐$                                      ‐$                                      ‐$                                      ‐$                                      ‐$                                      ‐$                                      ‐$                                      ‐$                                      ‐$                                      ‐$                                      ‐$                                      ‐$                                      ‐$                                      ‐$                                      ‐$                                      ‐$                                      ‐$                                      ‐$                                      ‐$                                      ‐$                                      ‐$                                      ‐$                                      ‐$                                      ‐$                                      ‐$                                      ‐$                                      ‐$                                      ‐$                                      ‐$                                      ‐$                                      ‐$                                      ‐$                                      ‐$                                      ‐$                                      ‐$                                      ‐$                                      ‐$                                      ‐$                                      ‐$                                      ‐$                                      ‐$                                      ‐$                                      ‐$                                      ‐$                                      ‐$                                      ‐$                                      ‐$                                      ‐$                                      ‐$                                      ‐$                                      ‐$                                      ‐$                                      ‐$                                      ‐$                                      ‐$                                      ‐$                                      ‐$                                      ‐$                                      ‐$                                      ‐$                                      ‐$                                      ‐$                                      ‐$                                      ‐$                                      ‐$                                      ‐$                                      ‐$                                      ‐$                                      ‐$                                      ‐$                                      ‐$                                      ‐$                                      ‐$                                      ‐$                                      ‐$                                      ‐$                                      ‐$                                      ‐$                                      ‐$                                      ‐$                                      ‐$                                      ‐$                                      ‐$                                      ‐$                                      ‐$                                      ‐$                                      ‐$                                      ‐$                                      ‐$                                      ‐$                                      ‐$                                      ‐$                                      ‐$                                      ‐$                                      ‐$                                      ‐$                                      ‐$                                      ‐$                                      ‐$                                      ‐$                                      ‐$                                      ‐$                                      ‐$                                      ‐$                                      ‐$                                      ‐$                                      ‐$                                      ‐$                                      ‐$                                      ‐$                                      ‐$                                      ‐$                                      ‐$                                      ‐$                                      ‐$                                      ‐$                                      ‐$                                      ‐$                                      ‐$                                      ‐$                                      ‐$                                      ‐$                                      ‐$                                      ‐$                                      ‐$                                      ‐$                                      ‐$                                      ‐$                                      ‐$                                      ‐$                                      ‐$                                      ‐$                                      ‐$                                      ‐$                                      ‐$                                      ‐$                                      ‐$                                      ‐$                                      ‐$                                      ‐$                                      ‐$                                      ‐$                                      ‐$                                      ‐$                                      ‐$                                      ‐$                                      ‐$                                      ‐$                                      ‐$                                      ‐$                                      ‐$                                      ‐$                                      ‐$                                      ‐$                                      ‐$                                      ‐$                                      ‐$                                      ‐$                                      ‐$                                      ‐$                                      ‐$                                      ‐$                                      ‐$                                      ‐$                                      ‐$                                      ‐$                                      ‐$                                      ‐$                                      ‐$                                      ‐$                                      ‐$                                      ‐$                                      ‐$                                      ‐$                                      ‐$                                      ‐$                                      ‐$                                      ‐$                                      ‐$                                      ‐$                                      ‐$                                      ‐$                                      ‐$                                      ‐$                                      ‐$                                      ‐$                                      ‐$                                      ‐$                                      ‐$                                      ‐$                                      ‐$                                      ‐$                                      ‐$                                      ‐$                                      ‐$                                      ‐$                                      ‐$                                      ‐$                                      ‐$                                      ‐$                                      ‐$                                      ‐$                                      ‐$                                      ‐$                                      ‐$                                      ‐$                                      ‐$                                      ‐$                                      ‐$                                      ‐$                                      ‐$                                      ‐$                                      ‐$                                      ‐$                                      ‐$                                      ‐$                                      ‐$                                      ‐$                                      ‐$                                      ‐$                                      ‐$                                      ‐$                                      ‐$                                      ‐$                                      ‐$                                      ‐$                                      ‐$                                      ‐$                                      ‐$                                      ‐$                                      ‐$                                      ‐$                                      ‐$                                      ‐$                                      ‐$                                      ‐$                                      ‐$                                      ‐$                                      ‐$                                      ‐$                                      ‐$                                      ‐$                                      ‐$                                      ‐$                                      ‐$                                      ‐$                                      ‐$                                      ‐$                                      ‐$                                      ‐$                                      ‐$                                      ‐$                                      ‐$                                      ‐$                                      ‐$                                      ‐$                                      ‐$                                      ‐$                                      ‐$                                      ‐$                                      ‐$                                      ‐$                                      ‐$                                      ‐$                                      ‐$                                      ‐$                                      ‐$                                      ‐$                                      ‐$                                      ‐$                                      ‐$                                      ‐$                                      ‐$                                      ‐$                                      ‐$                                      ‐$                                      ‐$                                      ‐$                                      ‐$                                      ‐$                                      ‐$                                      ‐$                                      ‐$                                      ‐$                                      ‐$                                      ‐$                                      ‐$                                      ‐$                                      ‐$                                      ‐$                                      ‐$                                      ‐$                                      ‐$                                      ‐$                                      ‐$                                      ‐$                                      ‐$                                      ‐$                                      ‐$                                      ‐$                                      ‐$                                      ‐$                                      ‐$                                      ‐$                                      ‐$                                      ‐$                                      ‐$                                      ‐$                                      ‐$                                      ‐$                                      ‐$                                      ‐$                                      ‐$                                      ‐$                                      ‐$                                      ‐$                                      ‐$                                      ‐$                                      ‐$                                      ‐$                                      ‐$                                      ‐$                                      ‐$                                      ‐$                                      ‐$                                      ‐$                                      ‐$                                      ‐$                                      ‐$                                      ‐$                                      ‐$                                      ‐$                                      ‐$                                      ‐$                                      ‐$                                      ‐$                                      ‐$                                      ‐$                                      ‐$                                      ‐$                                      ‐$                                      ‐$                                      ‐$                                      ‐$                                      ‐$                                      ‐$                                      ‐$                                      ‐$                                      ‐$                                      ‐$                                      ‐$                                      ‐$                                      ‐$                                      ‐$                                      ‐$                                      ‐$                                      ‐$                                      ‐$                                      ‐$                                      ‐$                                      ‐$                                      ‐$                                      ‐$                                      ‐$                                      ‐$                                      ‐$                                      ‐$                                      ‐$                                      ‐$                                      ‐$                                      ‐$                                      ‐$                                      ‐$                                      ‐$                                      ‐$                                      ‐$                                      ‐$                                      ‐$                                      ‐$                                      ‐$                                      ‐$                                      ‐$                                      ‐$                                      ‐$                                      ‐$                                      ‐$                                      ‐$                                      ‐$                                      ‐$                                      ‐$                                      ‐$                                      ‐$                                      ‐$                                      ‐$                                      ‐$                                      ‐$                                      ‐$                                      ‐$                                      ‐$                                      ‐$                                      ‐$                                      ‐$                                      ‐$                                      ‐$                                      ‐$                                      ‐$                                      ‐$                                      ‐$                                      ‐$                                      ‐$                                      ‐$                                      ‐$                                      ‐$                                      ‐$                                      ‐$                                      ‐$                                      ‐$                                      ‐$                                      ‐$                                      ‐$                                      ‐$                                      ‐$                                      ‐$                                      ‐$                                      ‐$                                      ‐$                                      ‐$                                      ‐$                                      ‐$                                      ‐$                                      ‐$                                      ‐$                                      ‐$                                      ‐$                                      ‐$                                      ‐$                                      ‐$                                      ‐$                                      ‐$                                      ‐$                                      ‐$                                      ‐$                                      ‐$                                      ‐$                                      ‐$                                      ‐$                                      ‐$                                      ‐$                                      ‐$                                      ‐$                                      ‐$                                      ‐$                                      ‐$                                      ‐$                                      ‐$                                      ‐$                                      ‐$                                      ‐$                                      ‐$                                      ‐$                                      ‐$                                      ‐$                                      ‐$                                      ‐$                                      ‐$                                      ‐$                                      ‐$                                      ‐$                                      ‐$                                      ‐$                                      ‐$                                      ‐$                                      ‐$                                      ‐$                                      ‐$                                      ‐$                                      ‐$                                      ‐$                                      ‐$                                      ‐$                                      ‐$                                      ‐$                                      ‐$                                      ‐$                                      ‐$                                      ‐$                                      ‐$                                      ‐$                                      ‐$                                      ‐$                                      ‐$                                      ‐$                                      ‐$                                      ‐$                                      ‐$                                      ‐$                                      ‐$                                      ‐$                                      ‐$                                      ‐$                                      ‐$                                      ‐$                                      ‐$                                      ‐$                                      ‐$                                      ‐$                                      ‐$                                      ‐$                                      ‐$                                      ‐$                                      ‐$                                      ‐$                                      ‐$                                      ‐$                                      ‐$                                      ‐$                                      ‐$                                      ‐$                                      ‐$                                      ‐$                                      ‐$                                      ‐$                                      ‐$                                      ‐$                                      ‐$                                      ‐$                                      ‐$                                      ‐$                                      ‐$                                      ‐$                                      ‐$                                      ‐$                                      ‐$                                      ‐$                                      ‐$                                      ‐$                                      ‐$                                      ‐$                                      ‐$                                      ‐$                                      ‐$                                      ‐$                                      ‐$                                      ‐$                                      ‐$                                      ‐$                                      ‐$                                      ‐$                                      ‐$                                      ‐$                                      ‐$                                      ‐$                                      ‐$                                      ‐$                                      ‐$                                      ‐$                                      ‐$                                      ‐$                                      ‐$                                      ‐$                                      ‐$                                      ‐$                                      ‐$                                      ‐$                                      ‐$                                      ‐$                                      ‐$                                      ‐$                                      ‐$                                      ‐$                                      ‐$                                      ‐$                                      ‐$                                      ‐$                                      ‐$                                      ‐$                                      ‐$                                      ‐$                                      ‐$                                      ‐$                                      ‐$                                      ‐$                                      ‐$                                      ‐$                                      ‐$                                      ‐$                                      ‐$                                      ‐$                                      ‐$                                      ‐$                                      ‐$                                      ‐$                                      ‐$                                      ‐$                                      ‐$                                      ‐$                                      ‐$                                      ‐$                                      ‐$                                      ‐$                                      ‐$                                      ‐$                                      ‐$                                      ‐$                                      ‐$                                      ‐$                                      ‐$                                      ‐$                                      ‐$                                      ‐$                                      ‐$                                      ‐$                                      ‐$                                      ‐$                                      ‐$                                      ‐$                                      ‐$                                      ‐$                                      ‐$                                      ‐$                                      ‐$                                      ‐$                                      ‐$                                      ‐$                                      ‐$                                      ‐$                                      ‐$                                      ‐$                                      ‐$                                      ‐$                                      ‐$                                      ‐$                                      ‐$                                      ‐$                                      ‐$                                      ‐$                                      ‐$                                      ‐$                                      ‐$                                      ‐$                                      ‐$                                      ‐$                                      ‐$                                      ‐$                                      ‐$                                      ‐$                                      ‐$                                      ‐$                                      ‐$                                      ‐$                                      ‐$                                      ‐$                                      ‐$                                      ‐$                                      ‐$                                      ‐$                                      ‐$                                      ‐$                                      ‐$                                      ‐$                                      ‐$                                      ‐$                                      ‐$                                      ‐$                                      ‐$                                      ‐$                                      ‐$                                      ‐$                                      ‐$                                      ‐$                                      ‐$                                      ‐$                                      ‐$                                      ‐$                                      ‐$                                      ‐$                                      ‐$                                      ‐$                                      ‐$                                      ‐$                                      ‐$                                      ‐$                                      ‐$                                      ‐$                                      ‐$                                      ‐$                                      ‐$                                      ‐$                                      ‐$                                      ‐$                                      ‐$                                      ‐$                                      ‐$                                      ‐$                                      ‐$                                      ‐$                                      ‐$                                      ‐$                                      ‐$                                      ‐$                                      ‐$                                      ‐$                                      ‐$                                      ‐$                                      ‐$                                      ‐$                                      ‐$                                      ‐$                                      ‐$                                      ‐$                                      ‐$                                      ‐$                                      ‐$                                      ‐$                                      ‐$                                      ‐$                                      ‐$                                      ‐$                                      ‐$                                      ‐$                                      ‐$                                      ‐$                                      ‐$                                      ‐$                                      ‐$                                      ‐$                                      ‐$                                      ‐$                                      ‐$                                      ‐$                                      ‐$                                      ‐$                                      ‐$                                      ‐$                                      ‐$                                      ‐$                                      ‐$                                      ‐$                                      ‐$                                      ‐$                                      ‐$                                      ‐$                                      ‐$                                      ‐$                                      ‐$                                      ‐$                                      ‐$                                      ‐$                                      ‐$                                      ‐$                                      ‐$                                      ‐$                                      ‐$                                      ‐$                                      ‐$                                      ‐$                                      ‐$                                      ‐$                                      ‐$                                      ‐$                                      ‐$                                      ‐$                                      ‐$                                      ‐$                                      ‐$                                      ‐$                                      ‐$                                      ‐$                                      ‐$                                      ‐$                                      ‐$                                      ‐$                                      ‐$                                      ‐$                                      ‐$                                      ‐$                                      ‐$                                      ‐$                                      ‐$                                      ‐$                                      ‐$                                      ‐$                                      ‐$                                      ‐$                                      ‐$                                      ‐$                                      ‐$                                      ‐$                                      ‐$                                      ‐$                                      ‐$                                      ‐$                                      ‐$                                      ‐$                                      ‐$                                      ‐$                                      ‐$                                      ‐$                                      ‐$                                      ‐$                                      ‐$                                      ‐$                                      ‐$                                      ‐$                                      ‐$                                      ‐$                                      ‐$                                      ‐$                                      ‐$                                      ‐$                                      ‐$                                      ‐$                                      ‐$                                      ‐$                                      ‐$                                      ‐$                                      ‐$                                      ‐$                                      ‐$                                      ‐$                                      ‐$                                      ‐$                                      ‐$                                      ‐$                                      ‐$                                      ‐$                                      ‐$                                      ‐$                                      ‐$                                      ‐$                                      ‐$                                      ‐$                                      ‐$                                      ‐$                                      ‐$                                      ‐$                                      ‐$                                      ‐$                                      ‐$                                      ‐$                                      ‐$                                      ‐$                                      ‐$                                      ‐$                                      ‐$                                      ‐$                                      ‐$                                      ‐$                                      ‐$                                      ‐$                                      ‐$                                      ‐$                                      ‐$                                      ‐$                                      ‐$                                      ‐$                                      ‐$                                      ‐$                                      ‐$                                      ‐$                                      ‐$                                      ‐$                                      ‐$                                      ‐$                                      ‐$                                      ‐$                                      ‐$                                      ‐$                                      ‐$                                      ‐$                                      ‐$                                      ‐$                                      ‐$                                      ‐$                                      ‐$                                      ‐$                                      ‐$                                      ‐$                                      ‐$                                      ‐$                                      ‐$                                      ‐$                                      ‐$                                      ‐$                                      ‐$                                      ‐$                                      ‐$                                      ‐$                                      ‐$                                      ‐$                                      ‐</td>\n",
       "      <td>3225000</td>\n",
       "    </tr>\n",
       "  </tbody>\n",
       "</table>\n",
       "</div>"
      ],
      "text/plain": [
       "                             project_title  \\\n",
       "450  Bakersfield ‐ Class I Shared Use Path   \n",
       "221   County Areas ‐ active transportation   \n",
       "\n",
       "                                                            scope  \\\n",
       "450  NE Bakersfield Path (Paladino Dr to Morning Dr Path) 2.7 mi.   \n",
       "221                Safe complete streets, pedestrian enhancements   \n",
       "\n",
       "    yoe_w__new_revenue yoe_w_o_new_reven  \\\n",
       "450            2431000           2431000   \n",
       "221            3225000            112000   \n",
       "\n",
       "                                                                                                                                                                                                                                                                                                                                                                                                                                                                                                                                                                                                                                                                                                                                                                                                                                                                                                                                                                                                                                                                                                                                                                                                                                                                                                                                                                                                                                                                                                                                                                                                                                                                                                                                                                                                                                                                                                                                                                                                                                                                                                                                                                                                                                                                                                                                                                                                                                                                                                                                                                                                                                                                                                                                                                                                                                                                                                                                                                                                                                                                                                                                                                                                                                                                                                                                                                                                                                                                                                                                                                                                                                                                                                                                                                                                                                                                                                                                                                                                                                                                                                                                                                                                                                                                                                                                                                                                                                                                                                                                                                                                                                                                                                                                                                                                                                                                                                                                                                                                                                                                                                                                                                                                                                                                                                                                                                                                                                                                                                                                                                                                                                                                                                                                                                                                                                                                                                                                                                                                                                                                                                                                                                                                                                                                                                                                                                                                                                                                                                                                                                                                                                                                                                                                                                                                                                                                                                                                                                                                                                                                                                                                                                                                                                                                                                                                                                                                                                                                                                                                                                                                                                                                                                                                                                                                                                                                                                                                                                                                                                                                                                                                                                                                                                                                                                                                                                                                                                                                                                                                                                                                                                                                                                                                                                                                                                                                                                                                                                                                                                                                                                                                                                                                                                                                                                                                                                                                                                                                                                                                                                                                                                                                                                                                                                                                                                                                                                                                                                                                                                                                                                                                                                                                                                                                                                                                                                                                                                                                                                                                                                                                                                                                                                                                                                                                                                                                                                                                                                                                                                                                                                                                                                                                                                                                                                                                                                                                                                                                                                                                                                                                                                                                                                                                                                                                                                                                                                                                                                                                                                                                                                                                                                                                                                                                                                                                                                                                                                                                                                                                                                                                                                                                                                                                                                                                                                                                                                                                                                                                                                                                                                                                                                                                                                                                                                                                                                                                                                                                                                                                                                                                                                                                                                                                                                                                                                                                                                                                                                                                                                                                                                                                                                                                                                                                                                                                                                                                                                                                                                                                                                                                                                                                                                                                                                                                                                                                                                                                                                                                                                                                                                                                                                                                                                                                                                                                                                                                                                                                                                                                                                                                                                                                                                                                                                                                                                                                                                                                                                                                                                                                                                                                                                                                                                                                                                                                                                                                                                                                                                                                                                                                                                                                                                                                                                                                                                                                                                                                                                                                                                                                                                                                                                                                                                                                                                                                                                                                                                                                                                                                                                                                                                                                                                                                                                                                                                                                                                                                                                                                                                                                                                                                                                                                                                                                                                                                                                                                                                                                                                                                                                                                                                                                                                                                                                                                                                                                                                                                                                                                                                                                                                                                                                                                                                                                                                                                                                                                                                                                                                                                                                                                                                                                                                                                                                                                                                                                                                                                                                                                                                                                                                                                                                                                                                                                                                                                                                                                                                                                                                                                                                                                                                                                                                                                                                                                                                                                                                                                                                                                                                                                                                                                                                                                                                                                                                                                                                                                                                                                                                                                                                                                                                                                                                                                                                                                                                                                                                                                                                                                                                                                                                                                                                                                                                                                                                                                                                                                                                                                                                                                                                                                                                                                                                                                                                                                                                                                                                                                                                                                                                                                                                                                                                                                                                                                                                                                                                                                                                                                                                                                                                                                                                                                                                                                                                                                                                                                                                                                                                                                                                                                                                                                                                                                                                                                                                                                                                                                                                                                                                                                                                                                                                                                                                                                                                                                                                                                                                                                                                                                                                                                                                                                                                                                                                                                                                                                                                                                                                                                                                                                                                                                                                                                                                                                                                                                                                                                                                                                                                                                                                                                                                                                                                                                                                                                                                                                                                                                                                                                                                                                                                                                                                                                                                                                                                                                                                                                                                                                                                                                                                                                                                                                                                                                                                                                                                                                                                                                                                                                                                                                                                                                                                                                                                                                                                                                                                                                                                                                                                                                                                                                                                                                                                                                                                                                                                                                                                                                                                                                                                                                                                                                                                                                                                                                                                                                                                                                                                                                                                                                                                                                                                                                                                                                                                                                                                                                                                                                                                                                                                                                                                                                                                                                                                                                                                                                                                                                                                                                                                                                                                                                                                                                                                                                                                                                                                                                                                                                                                                                                                                                                                                                                                                                                                                                                                                                                                                                                                                                                                                                                                                                                                                                                                                                                                                                                                                                                                                                                                                                                                                                                                                                                                                                                                                                                                                                                                                                                                                                                                                                                                                                                                                                                                                                                                                                                                                                                                                                                                                                                                                                                                                                                                                                                                                                                                                                                                                                                                                                                                                                                                                                                                                                                                                                                                                                                                                                                                                                                                                                                                                                                                                                                                                                                                                                                                                                                                                                                                                                                                                                                                                                                                                                                                                                                                                                                                                                                                                                                                                                                                                                                                                                                                                                                                                                                                                                                                                                                                                                                                                                                                                                                                                                                                                                                                                                                                                                                                                                                                                                                                                                                                                                                                                                                                                                                                                                                                                                                                                                                                                                                                                                                                                                                                                                                                                                                                                                                                                                                                                                                                                                                                                                                                                                                                                                                                                                                                                                                                                                                                                                                                                                                                                                                                                                                                                                                                                                                                                                                                                                                                                                                                                                                                                                                                                                                                                                                                                                                                                                                                                                                                                                                                                                                                                                                                                                                                                                                                                                                                                                                                                                                                                                                                                                                                                                                                                                                                                                                                                                                                                                                                                                                                                                                                                                                                                                                                                                                                                                                                                                                                                                                                                                                                                                                                                                                                                                                                                                                                                                                                                                                                                                                                                                                                                                                                                                                                                                                                                                                                                                                                                                                                                                                                                                                                                                                                                                                                                                                                                                                                                                                                                                                                                                                                                                                                                                                                                                                                                                                                                                                                                                                                                                                                             maint__inflation_savings  \\\n",
       "450                                                                                                                                                                                                                                                                                                                                                                                                                                                                                                                                                                                                                                                                                                                                                                                                                                                                                                                                                                                                                                                                                                                                                                                                                                                                                                                                                                                                                                                                                                                                                                                                                                                                                                                                                                                                                                                                                                                                                                                                                                                                                                                                                                                                                                                                                                                                                                                                                                                                                                                                                                                                                                                                                                                                                                                                                                                                                                                                                                                                                                                                                                                                                                                                                                                                                                                                                                                                                                                                                                                                                                                                                                                                                                                                                                                                                                                                                                                                                                                                                                                                                                                                                                                                                                                                                                                                                                                                                                                                                                                                                                                                                                                                                                                                                                                                                                                                                                                                                                                                                                                                                                                                                                                                                                                                                                                                                                                                                                                                                                                                                                                                                                                                                                                                                                                                                                                                                                                                                                                                                                                                                                                                                                                                                                                                                                                                                                                                                                                                                                                                                                                                                                                                                                                                                                                                                                                                                                                                                                                                                                                                                                                                                                                                                                                                                                                                                                                                                                                                                                                                                                                                                                                                                                                                                                                                                                                                                                                                                                                                                                                                                                                                                                                                                                                                                                                                                                                                                                                                                                                                                                                                                                                                                                                                                                                                                                                                                                                                                                                                                                                                                                                                                                                                                                                                                                                                                                                                                                                                                                                                                                                                                                                                                                                                                                                                                                                                                                                                                                                                                                                                                                                                                                                                                                                                                                                                                                                                                                                                                                                                                                                                                                                                                                                                                                                                                                                                                                                                                                                                                                                                                                                                                                                                                                                                                                                                                                                                                                                                                                                                                                                                                                                                                                                                                                                                                                                                                                                                                                                                                                                                                                                                                                                                                                                                                                                                                                                                                                                                                                                                                                                                                                                                                                                                                                                                                                                                                                                                                                                                                                                                                                                                                                                                                                                                                                                                                                                                                                                                                                                                                                                                                                                                                                                                                                                                                                                                                                                                                                                                                                                                                                                                                                                                                                                                                                                                                                                                                                                                                                                                                                                                                                                                                                                                                                                                                                                                                                                                                                                                                                                                                                                                                                                                                                                                                                                                                                                                                                                                                                                                                                                                                                                                                                                                                                                                                                                                                                                                                                                                                                                                                                                                                                                                                                                                                                                                                                                                                                                                                                                                                                                                                                                                                                                                                                                                                                                                                                                                                                                                                                                                                                                                                                                                                                                                                                                                                                                                                                                                                                                                                                                                                                                                                                                                                                                                                                                                                                                                                                                                                                                                                                                                                                                                                                                                                                                                                                                                                                                                                                                                                                                                                                                                                                                                                                                                                                                                                                                                                                                                                                                                                                                                                                                                                                                                                                                                                                                                                                                                                                                                                                                                                                                                                                                                                                                                                                                                                                                                                                                                                                                                                                                                                                                                                                                                                                                                                                                                                                                                                                                                                                                                                                                                                                                                                                                                                                                                                                                                                                                                                                                                                                                                                                                                                                                                                                                                                                                                                                                                                                                                                                                                                                                                                                                                                                                                                                                                                                                                                                                                                                                                                                                                                                                                                                                                                                                                                                                                                                                                                                                                                                                                                                                                                                                                                                                                                                                                                                                                                                                                                                                                                                                                                                                                                                                                                                                                                                                                                                                                                                                                                                                                                                                                                                                                                                                                                                                                                                                                                                                                                                                                                                                                                                                                                                                                                                                                                                                                                                                                                                                                                                                                                                                                                                                                                                                                                                                                                                                                                                                                                                                                                                                                                                                                                                                                                                                                                                                                                                                                                                                                                                                                                                                                                                                                                                                                                                                                                                                                                                                                                                                                                                                                                                                                                                                                                                                                                                                                                                                                                                                                                                                                                                                                                                                                                                                                                                                                                                                                                                                                                                                                                                                                                                                                                                                                                                                                                                                                                                                                                                                                                                                                                                                                                                                                                                                                                                                                                                                                                                                                                                                                                                                                                                                                                                                                                                                                                                                                                                                                                                                                                                                                                                                                                                                                                                                                                                                                                                                                                                                                                                                                                                                                                                                                                                                                                                                                                                                                                                                                                                                                                                                                                                                                                                                                                                                                                                                                                                                                                                                                                                                                                                                                                                                                                                                                                                                                                                                                                                                                                                                                                                                                                                                                                                                                                                                                                                                                                                                                                                                                                                                                                                                                                                                                                                                                                                                                                                                                                                                                                                                                                                                                                                                                                                                                                                                                                                                                                                                                                                                                                                                                                                                                                                                                                                                                                                                                                                                                                                                                                                                                                                                                                                                                                                                                                                                                                                                                                                                                                                                                                                                                                                                                                                                                                                                                                                                                                                                                                                                                                                                                                                                                                                                                                                                                                                                                                                                                                                                                                                                                                                                                                                                                                                                                                                                                                                                                                                                                                                                                                                                                                                                                                                                                                                                                                                                                                                                                                                                                                                                                                                                                                                                                                                                                                                                                                                                                                                                                                                                                                                                                                                                                                                                                                                                                                                                                                                                                                                                                                                                                                                                                                                                                                                                                                                                                                                                                                                                                                                                                                                                                                                                                                                                                                                                                                                                                                                                                                                                                                                                                                                                                                                                                                                                                                                                                                                                                                                                                                                                                                                                                                                                                                                                                                                                                                                                                                                                                                                                                                                                                                                                                                                                                                                                                                                                                                                                                                                                                                                                                                                                                                                                                                                                                                                                                                                                                                                                                                                                                                                                                                                                                                                                                                                                                                                                                                                                                                                                                                                                                                                                                                                                                                                                                                                                                                                                                                                                                                                                                                                                                                                                                                                                                                                                                                                                                                                                                                                                                                                                                                                                                                                                                                                                                                                                                                                                                                                                                                                                                                                                                                                                                                                                                                                                                                                                                                                                                                                                                                                                                                                                                                                                                                                                               NaN   \n",
       "221  $                                      ‐$                                      ‐$                                      ‐$                                      ‐$                                      ‐$                                      ‐$                                      ‐$                                      ‐$                                      ‐$                                      ‐$                                      ‐$                                      ‐$                                      ‐$                                      ‐$                                      ‐$                                      ‐$                                      ‐$                                      ‐$                                      ‐$                                      ‐$                                      ‐$                                      ‐$                                      ‐$                                      ‐$                                      ‐$                                      ‐$                                      ‐$                                      ‐$                                      ‐$                                      ‐$                                      ‐$                                      ‐$                                      ‐$                                      ‐$                                      ‐$                                      ‐$                                      ‐$                                      ‐$                                      ‐$                                      ‐$                                      ‐$                                      ‐$                                      ‐$                                      ‐$                                      ‐$                                      ‐$                                      ‐$                                      ‐$                                      ‐$                                      ‐$                                      ‐$                                      ‐$                                      ‐$                                      ‐$                                      ‐$                                      ‐$                                      ‐$                                      ‐$                                      ‐$                                      ‐$                                      ‐$                                      ‐$                                      ‐$                                      ‐$                                      ‐$                                      ‐$                                      ‐$                                      ‐$                                      ‐$                                      ‐$                                      ‐$                                      ‐$                                      ‐$                                      ‐$                                      ‐$                                      ‐$                                      ‐$                                      ‐$                                      ‐$                                      ‐$                                      ‐$                                      ‐$                                      ‐$                                      ‐$                                      ‐$                                      ‐$                                      ‐$                                      ‐$                                      ‐$                                      ‐$                                      ‐$                                      ‐$                                      ‐$                                      ‐$                                      ‐$                                      ‐$                                      ‐$                                      ‐$                                      ‐$                                      ‐$                                      ‐$                                      ‐$                                      ‐$                                      ‐$                                      ‐$                                      ‐$                                      ‐$                                      ‐$                                      ‐$                                      ‐$                                      ‐$                                      ‐$                                      ‐$                                      ‐$                                      ‐$                                      ‐$                                      ‐$                                      ‐$                                      ‐$                                      ‐$                                      ‐$                                      ‐$                                      ‐$                                      ‐$                                      ‐$                                      ‐$                                      ‐$                                      ‐$                                      ‐$                                      ‐$                                      ‐$                                      ‐$                                      ‐$                                      ‐$                                      ‐$                                      ‐$                                      ‐$                                      ‐$                                      ‐$                                      ‐$                                      ‐$                                      ‐$                                      ‐$                                      ‐$                                      ‐$                                      ‐$                                      ‐$                                      ‐$                                      ‐$                                      ‐$                                      ‐$                                      ‐$                                      ‐$                                      ‐$                                      ‐$                                      ‐$                                      ‐$                                      ‐$                                      ‐$                                      ‐$                                      ‐$                                      ‐$                                      ‐$                                      ‐$                                      ‐$                                      ‐$                                      ‐$                                      ‐$                                      ‐$                                      ‐$                                      ‐$                                      ‐$                                      ‐$                                      ‐$                                      ‐$                                      ‐$                                      ‐$                                      ‐$                                      ‐$                                      ‐$                                      ‐$                                      ‐$                                      ‐$                                      ‐$                                      ‐$                                      ‐$                                      ‐$                                      ‐$                                      ‐$                                      ‐$                                      ‐$                                      ‐$                                      ‐$                                      ‐$                                      ‐$                                      ‐$                                      ‐$                                      ‐$                                      ‐$                                      ‐$                                      ‐$                                      ‐$                                      ‐$                                      ‐$                                      ‐$                                      ‐$                                      ‐$                                      ‐$                                      ‐$                                      ‐$                                      ‐$                                      ‐$                                      ‐$                                      ‐$                                      ‐$                                      ‐$                                      ‐$                                      ‐$                                      ‐$                                      ‐$                                      ‐$                                      ‐$                                      ‐$                                      ‐$                                      ‐$                                      ‐$                                      ‐$                                      ‐$                                      ‐$                                      ‐$                                      ‐$                                      ‐$                                      ‐$                                      ‐$                                      ‐$                                      ‐$                                      ‐$                                      ‐$                                      ‐$                                      ‐$                                      ‐$                                      ‐$                                      ‐$                                      ‐$                                      ‐$                                      ‐$                                      ‐$                                      ‐$                                      ‐$                                      ‐$                                      ‐$                                      ‐$                                      ‐$                                      ‐$                                      ‐$                                      ‐$                                      ‐$                                      ‐$                                      ‐$                                      ‐$                                      ‐$                                      ‐$                                      ‐$                                      ‐$                                      ‐$                                      ‐$                                      ‐$                                      ‐$                                      ‐$                                      ‐$                                      ‐$                                      ‐$                                      ‐$                                      ‐$                                      ‐$                                      ‐$                                      ‐$                                      ‐$                                      ‐$                                      ‐$                                      ‐$                                      ‐$                                      ‐$                                      ‐$                                      ‐$                                      ‐$                                      ‐$                                      ‐$                                      ‐$                                      ‐$                                      ‐$                                      ‐$                                      ‐$                                      ‐$                                      ‐$                                      ‐$                                      ‐$                                      ‐$                                      ‐$                                      ‐$                                      ‐$                                      ‐$                                      ‐$                                      ‐$                                      ‐$                                      ‐$                                      ‐$                                      ‐$                                      ‐$                                      ‐$                                      ‐$                                      ‐$                                      ‐$                                      ‐$                                      ‐$                                      ‐$                                      ‐$                                      ‐$                                      ‐$                                      ‐$                                      ‐$                                      ‐$                                      ‐$                                      ‐$                                      ‐$                                      ‐$                                      ‐$                                      ‐$                                      ‐$                                      ‐$                                      ‐$                                      ‐$                                      ‐$                                      ‐$                                      ‐$                                      ‐$                                      ‐$                                      ‐$                                      ‐$                                      ‐$                                      ‐$                                      ‐$                                      ‐$                                      ‐$                                      ‐$                                      ‐$                                      ‐$                                      ‐$                                      ‐$                                      ‐$                                      ‐$                                      ‐$                                      ‐$                                      ‐$                                      ‐$                                      ‐$                                      ‐$                                      ‐$                                      ‐$                                      ‐$                                      ‐$                                      ‐$                                      ‐$                                      ‐$                                      ‐$                                      ‐$                                      ‐$                                      ‐$                                      ‐$                                      ‐$                                      ‐$                                      ‐$                                      ‐$                                      ‐$                                      ‐$                                      ‐$                                      ‐$                                      ‐$                                      ‐$                                      ‐$                                      ‐$                                      ‐$                                      ‐$                                      ‐$                                      ‐$                                      ‐$                                      ‐$                                      ‐$                                      ‐$                                      ‐$                                      ‐$                                      ‐$                                      ‐$                                      ‐$                                      ‐$                                      ‐$                                      ‐$                                      ‐$                                      ‐$                                      ‐$                                      ‐$                                      ‐$                                      ‐$                                      ‐$                                      ‐$                                      ‐$                                      ‐$                                      ‐$                                      ‐$                                      ‐$                                      ‐$                                      ‐$                                      ‐$                                      ‐$                                      ‐$                                      ‐$                                      ‐$                                      ‐$                                      ‐$                                      ‐$                                      ‐$                                      ‐$                                      ‐$                                      ‐$                                      ‐$                                      ‐$                                      ‐$                                      ‐$                                      ‐$                                      ‐$                                      ‐$                                      ‐$                                      ‐$                                      ‐$                                      ‐$                                      ‐$                                      ‐$                                      ‐$                                      ‐$                                      ‐$                                      ‐$                                      ‐$                                      ‐$                                      ‐$                                      ‐$                                      ‐$                                      ‐$                                      ‐$                                      ‐$                                      ‐$                                      ‐$                                      ‐$                                      ‐$                                      ‐$                                      ‐$                                      ‐$                                      ‐$                                      ‐$                                      ‐$                                      ‐$                                      ‐$                                      ‐$                                      ‐$                                      ‐$                                      ‐$                                      ‐$                                      ‐$                                      ‐$                                      ‐$                                      ‐$                                      ‐$                                      ‐$                                      ‐$                                      ‐$                                      ‐$                                      ‐$                                      ‐$                                      ‐$                                      ‐$                                      ‐$                                      ‐$                                      ‐$                                      ‐$                                      ‐$                                      ‐$                                      ‐$                                      ‐$                                      ‐$                                      ‐$                                      ‐$                                      ‐$                                      ‐$                                      ‐$                                      ‐$                                      ‐$                                      ‐$                                      ‐$                                      ‐$                                      ‐$                                      ‐$                                      ‐$                                      ‐$                                      ‐$                                      ‐$                                      ‐$                                      ‐$                                      ‐$                                      ‐$                                      ‐$                                      ‐$                                      ‐$                                      ‐$                                      ‐$                                      ‐$                                      ‐$                                      ‐$                                      ‐$                                      ‐$                                      ‐$                                      ‐$                                      ‐$                                      ‐$                                      ‐$                                      ‐$                                      ‐$                                      ‐$                                      ‐$                                      ‐$                                      ‐$                                      ‐$                                      ‐$                                      ‐$                                      ‐$                                      ‐$                                      ‐$                                      ‐$                                      ‐$                                      ‐$                                      ‐$                                      ‐$                                      ‐$                                      ‐$                                      ‐$                                      ‐$                                      ‐$                                      ‐$                                      ‐$                                      ‐$                                      ‐$                                      ‐$                                      ‐$                                      ‐$                                      ‐$                                      ‐$                                      ‐$                                      ‐$                                      ‐$                                      ‐$                                      ‐$                                      ‐$                                      ‐$                                      ‐$                                      ‐$                                      ‐$                                      ‐$                                      ‐$                                      ‐$                                      ‐$                                      ‐$                                      ‐$                                      ‐$                                      ‐$                                      ‐$                                      ‐$                                      ‐$                                      ‐$                                      ‐$                                      ‐$                                      ‐$                                      ‐$                                      ‐$                                      ‐$                                      ‐$                                      ‐$                                      ‐$                                      ‐$                                      ‐$                                      ‐$                                      ‐$                                      ‐$                                      ‐$                                      ‐$                                      ‐$                                      ‐$                                      ‐$                                      ‐$                                      ‐$                                      ‐$                                      ‐$                                      ‐$                                      ‐$                                      ‐$                                      ‐$                                      ‐$                                      ‐$                                      ‐$                                      ‐$                                      ‐$                                      ‐$                                      ‐$                                      ‐$                                      ‐$                                      ‐$                                      ‐$                                      ‐$                                      ‐$                                      ‐$                                      ‐$                                      ‐$                                      ‐$                                      ‐$                                      ‐$                                      ‐$                                      ‐$                                      ‐$                                      ‐$                                      ‐$                                      ‐$                                      ‐$                                      ‐$                                      ‐$                                      ‐$                                      ‐$                                      ‐$                                      ‐$                                      ‐$                                      ‐$                                      ‐$                                      ‐$                                      ‐$                                      ‐$                                      ‐$                                      ‐$                                      ‐$                                      ‐$                                      ‐$                                      ‐$                                      ‐$                                      ‐$                                      ‐$                                      ‐$                                      ‐$                                      ‐$                                      ‐$                                      ‐$                                      ‐$                                      ‐$                                      ‐$                                      ‐$                                      ‐$                                      ‐$                                      ‐$                                      ‐$                                      ‐$                                      ‐$                                      ‐$                                      ‐$                                      ‐$                                      ‐$                                      ‐$                                      ‐$                                      ‐$                                      ‐$                                      ‐$                                      ‐$                                      ‐$                                      ‐$                                      ‐$                                      ‐$                                      ‐$                                      ‐$                                      ‐$                                      ‐$                                      ‐$                                      ‐$                                      ‐$                                      ‐$                                      ‐$                                      ‐$                                      ‐$                                      ‐$                                      ‐$                                      ‐$                                      ‐$                                      ‐$                                      ‐$                                      ‐$                                      ‐$                                      ‐$                                      ‐$                                      ‐$                                      ‐$                                      ‐$                                      ‐$                                      ‐$                                      ‐$                                      ‐$                                      ‐$                                      ‐$                                      ‐$                                      ‐$                                      ‐$                                      ‐$                                      ‐$                                      ‐$                                      ‐$                                      ‐$                                      ‐$                                      ‐$                                      ‐$                                      ‐$                                      ‐$                                      ‐$                                      ‐$                                      ‐$                                      ‐$                                      ‐$                                      ‐$                                      ‐$                                      ‐$                                      ‐$                                      ‐$                                      ‐$                                      ‐$                                      ‐$                                      ‐$                                      ‐$                                      ‐$                                      ‐$                                      ‐$                                      ‐$                                      ‐$                                      ‐$                                      ‐$                                      ‐$                                      ‐$                                      ‐$                                      ‐$                                      ‐$                                      ‐$                                      ‐$                                      ‐$                                      ‐$                                      ‐$                                      ‐$                                      ‐$                                      ‐$                                      ‐$                                      ‐$                                      ‐$                                      ‐$                                      ‐$                                      ‐$                                      ‐$                                      ‐$                                      ‐$                                      ‐$                                      ‐$                                      ‐$                                      ‐$                                      ‐$                                      ‐$                                      ‐$                                      ‐$                                      ‐$                                      ‐$                                      ‐$                                      ‐$                                      ‐$                                      ‐$                                      ‐$                                      ‐$                                      ‐$                                      ‐$                                      ‐$                                      ‐$                                      ‐$                                      ‐$                                      ‐$                                      ‐$                                      ‐$                                      ‐$                                      ‐$                                      ‐$                                      ‐$                                      ‐$                                      ‐$                                      ‐$                                      ‐$                                      ‐$                                      ‐$                                      ‐$                                      ‐$                                      ‐$                                      ‐$                                      ‐$                                      ‐$                                      ‐$                                      ‐$                                      ‐$                                      ‐$                                      ‐$                                      ‐$                                      ‐$                                      ‐$                                      ‐$                                      ‐$                                      ‐$                                      ‐$                                      ‐$                                      ‐$                                      ‐$                                      ‐$                                      ‐$                                      ‐$                                      ‐$                                      ‐$                                      ‐$                                      ‐$                                      ‐$                                      ‐$                                      ‐$                                      ‐$                                      ‐$                                      ‐$                                      ‐$                                      ‐$                                      ‐$                                      ‐$                                      ‐$                                      ‐$                                      ‐$                                      ‐$                                      ‐$                                      ‐$                                      ‐$                                      ‐$                                      ‐$                                      ‐$                                      ‐$                                      ‐$                                      ‐$                                      ‐$                                      ‐$                                      ‐$                                      ‐$                                      ‐$                                      ‐$                                      ‐$                                      ‐$                                      ‐$                                      ‐$                                      ‐$                                      ‐$                                      ‐$                                      ‐$                                      ‐$                                      ‐$                                      ‐$                                      ‐$                                      ‐$                                      ‐$                                      ‐$                                      ‐$                                      ‐$                                      ‐$                                      ‐$                                      ‐$                                      ‐$                                      ‐$                                      ‐$                                      ‐$                                      ‐$                                      ‐$                                      ‐$                                      ‐$                                      ‐$                                      ‐$                                      ‐$                                      ‐$                                      ‐$                                      ‐$                                      ‐$                                      ‐$                                      ‐$                                      ‐$                                      ‐$                                      ‐$                                      ‐$                                      ‐$                                      ‐$                                      ‐$                                      ‐$                                      ‐$                                      ‐$                                      ‐$                                      ‐$                                      ‐$                                      ‐$                                      ‐$                                      ‐$                                      ‐$                                      ‐$                                      ‐$                                      ‐$                                      ‐$                                      ‐$                                      ‐$                                      ‐$                                      ‐$                                      ‐$                                      ‐$                                      ‐$                                      ‐$                                      ‐$                                      ‐$                                      ‐$                                      ‐$                                      ‐$                                      ‐$                                      ‐$                                      ‐$                                      ‐$                                      ‐$                                      ‐$                                      ‐$                                      ‐$                                      ‐$                                      ‐$                                      ‐$                                      ‐$                                      ‐$                                      ‐$                                      ‐$                                      ‐$                                      ‐$                                      ‐$                                      ‐$                                      ‐$                                      ‐$                                      ‐$                                      ‐$                                      ‐$                                      ‐$                                      ‐$                                      ‐$                                      ‐$                                      ‐$                                      ‐$                                      ‐$                                      ‐$                                      ‐$                                      ‐$                                      ‐$                                      ‐$                                      ‐$                                      ‐$                                      ‐$                                      ‐$                                      ‐$                                      ‐$                                      ‐$                                      ‐$                                      ‐$                                      ‐$                                      ‐$                                      ‐$                                      ‐$                                      ‐$                                      ‐$                                      ‐$                                      ‐$                                      ‐$                                      ‐$                                      ‐$                                      ‐$                                      ‐$                                      ‐$                                      ‐$                                      ‐$                                      ‐$                                      ‐$                                      ‐$                                      ‐$                                      ‐$                                      ‐$                                      ‐$                                      ‐$                                      ‐$                                      ‐   \n",
       "\n",
       "        cost  \n",
       "450  2431000  \n",
       "221  3225000  "
      ]
     },
     "execution_count": 147,
     "metadata": {},
     "output_type": "execute_result"
    }
   ],
   "source": [
    "kern.sample(2)"
   ]
  },
  {
   "cell_type": "code",
   "execution_count": 148,
   "id": "608a1e17-6cdc-4e03-acc6-dd5c95a1e5df",
   "metadata": {},
   "outputs": [
    {
     "name": "stdout",
     "output_type": "stream",
     "text": [
      "Kern County ‐ Class II Bike Ln        85\n",
      "Bakersfield ‐ Class III Bike Blvd     85\n",
      "Bakersfield ‐ Class II Bike Ln        78\n",
      "Kern County ‐ Sidewalk Improvement    71\n",
      "Kern County ‐ Class III Bike Blvd     35\n",
      "Name: project_title, dtype: int64\n",
      "# of unique project titles: 371\n",
      "After dropping duplicates using project_title and cost: 1180\n",
      "Df shape: (1411, 6)\n",
      "Index(['project_title', 'scope', 'yoe_w__new_revenue', 'yoe_w_o_new_reven',\n",
      "       'maint__inflation_savings', 'cost'],\n",
      "      dtype='object')\n"
     ]
    }
   ],
   "source": [
    "lrtp_utils.give_info(kern, \"project_title\", \"cost\")"
   ]
  },
  {
   "cell_type": "code",
   "execution_count": 149,
   "id": "2650f3db-1397-47bb-a33f-7d851bf24b5d",
   "metadata": {},
   "outputs": [],
   "source": [
    "# kern.loc[kern.project_title == \"M St / Belshaw St‐Park St\"]"
   ]
  },
  {
   "cell_type": "code",
   "execution_count": 150,
   "id": "561d0f4f-7512-492d-95e0-998995b6d707",
   "metadata": {},
   "outputs": [
    {
     "data": {
      "text/html": [
       "<div>\n",
       "<style scoped>\n",
       "    .dataframe tbody tr th:only-of-type {\n",
       "        vertical-align: middle;\n",
       "    }\n",
       "\n",
       "    .dataframe tbody tr th {\n",
       "        vertical-align: top;\n",
       "    }\n",
       "\n",
       "    .dataframe thead th {\n",
       "        text-align: right;\n",
       "    }\n",
       "</style>\n",
       "<table border=\"1\" class=\"dataframe\">\n",
       "  <thead>\n",
       "    <tr style=\"text-align: right;\">\n",
       "      <th></th>\n",
       "      <th></th>\n",
       "      <th>cost</th>\n",
       "    </tr>\n",
       "    <tr>\n",
       "      <th>project_title</th>\n",
       "      <th>scope</th>\n",
       "      <th></th>\n",
       "    </tr>\n",
       "  </thead>\n",
       "  <tbody>\n",
       "    <tr>\n",
       "      <th>County Areas ‐ transit</th>\n",
       "      <th>Senior/disabled &amp; advanced technology transit, vanpools, shared ride, aviation</th>\n",
       "      <td>9</td>\n",
       "    </tr>\n",
       "    <tr>\n",
       "      <th>County Areas ‐ active transportation</th>\n",
       "      <th>Safe complete streets, pedestrian enhancements</th>\n",
       "      <td>5</td>\n",
       "    </tr>\n",
       "    <tr>\n",
       "      <th>County Areas ‐ bike facilities</th>\n",
       "      <th>Construct Class I (trails), II (lanes) or Class III (routes) Bike Paths; striping; signage</th>\n",
       "      <td>3</td>\n",
       "    </tr>\n",
       "    <tr>\n",
       "      <th>Kern County ‐ Complete Streets/ITS I</th>\n",
       "      <th>Other Future developments funded by a transportation impact fee and mitigation</th>\n",
       "      <td>3</td>\n",
       "    </tr>\n",
       "    <tr>\n",
       "      <th>Kern County ‐ Corridor Improvement</th>\n",
       "      <th>Hall Rd (San Emidio St to Habecker Rd) .5 mi.</th>\n",
       "      <td>2</td>\n",
       "    </tr>\n",
       "    <tr>\n",
       "      <th>Route 58</th>\n",
       "      <th>2Future Rt 58 from I‐5 to Heath Rd at Stockdale Hwy ‐ construct new freeway</th>\n",
       "      <td>2</td>\n",
       "    </tr>\n",
       "    <tr>\n",
       "      <th>Kern County ‐ Corridor Improvement</th>\n",
       "      <th>Myrtle Av (Panama Ln to Wharton Av) .9 mi.</th>\n",
       "      <td>2</td>\n",
       "    </tr>\n",
       "    <tr>\n",
       "      <th>Caltrans ‐ Class II Bike Ln</th>\n",
       "      <th>E Bear Mtn Blvd SR 223 (Comanche Dr to Union St) 12.6 mi.</th>\n",
       "      <td>2</td>\n",
       "    </tr>\n",
       "    <tr>\n",
       "      <th>Santa Fe Way</th>\n",
       "      <th>1Hageman to Los Angeles Ave ‐ widen to four lanes</th>\n",
       "      <td>2</td>\n",
       "    </tr>\n",
       "    <tr>\n",
       "      <th>Kern County ‐ Corridor Improvement</th>\n",
       "      <th>San Diego St (Burgundy Av to Wharton Av) .7 mi.</th>\n",
       "      <td>2</td>\n",
       "    </tr>\n",
       "  </tbody>\n",
       "</table>\n",
       "</div>"
      ],
      "text/plain": [
       "                                                                                                                                 cost\n",
       "project_title                        scope                                                                                           \n",
       "County Areas ‐ transit               Senior/disabled & advanced technology transit, vanpools, shared ride, aviation                 9\n",
       "County Areas ‐ active transportation Safe complete streets, pedestrian enhancements                                                 5\n",
       "County Areas ‐ bike facilities       Construct Class I (trails), II (lanes) or Class III (routes) Bike Paths; striping; signage     3\n",
       "Kern County ‐ Complete Streets/ITS I Other Future developments funded by a transportation impact fee and mitigation                 3\n",
       "Kern County ‐ Corridor Improvement   Hall Rd (San Emidio St to Habecker Rd) .5 mi.                                                  2\n",
       "Route 58                             2Future Rt 58 from I‐5 to Heath Rd at Stockdale Hwy ‐ construct new freeway                    2\n",
       "Kern County ‐ Corridor Improvement   Myrtle Av (Panama Ln to Wharton Av) .9 mi.                                                     2\n",
       "Caltrans ‐ Class II Bike Ln          E Bear Mtn Blvd SR 223 (Comanche Dr to Union St) 12.6 mi.                                      2\n",
       "Santa Fe Way                         1Hageman to Los Angeles Ave ‐ widen to four lanes                                              2\n",
       "Kern County ‐ Corridor Improvement   San Diego St (Burgundy Av to Wharton Av) .7 mi.                                                2"
      ]
     },
     "metadata": {},
     "output_type": "display_data"
    }
   ],
   "source": [
    "lrtp_utils.group_duplicates(kern, \"project_title\", \"scope\", \"cost\")"
   ]
  },
  {
   "cell_type": "code",
   "execution_count": 151,
   "id": "ae243c93-50e4-4080-96a7-d2606cc48459",
   "metadata": {},
   "outputs": [
    {
     "data": {
      "text/html": [
       "<div>\n",
       "<style scoped>\n",
       "    .dataframe tbody tr th:only-of-type {\n",
       "        vertical-align: middle;\n",
       "    }\n",
       "\n",
       "    .dataframe tbody tr th {\n",
       "        vertical-align: top;\n",
       "    }\n",
       "\n",
       "    .dataframe thead th {\n",
       "        text-align: right;\n",
       "    }\n",
       "</style>\n",
       "<table border=\"1\" class=\"dataframe\">\n",
       "  <thead>\n",
       "    <tr style=\"text-align: right;\">\n",
       "      <th></th>\n",
       "      <th>project_title</th>\n",
       "      <th>scope</th>\n",
       "      <th>yoe_w__new_revenue</th>\n",
       "      <th>yoe_w_o_new_reven</th>\n",
       "      <th>maint__inflation_savings</th>\n",
       "      <th>cost</th>\n",
       "    </tr>\n",
       "  </thead>\n",
       "  <tbody>\n",
       "    <tr>\n",
       "      <th>155</th>\n",
       "      <td>US 395</td>\n",
       "      <td>Between Rt 178 and China Lake Blvd ‐ construct passing lanes</td>\n",
       "      <td>15117000</td>\n",
       "      <td>191000000</td>\n",
       "      <td>4883000</td>\n",
       "      <td>15117000</td>\n",
       "    </tr>\n",
       "    <tr>\n",
       "      <th>161</th>\n",
       "      <td>US 395</td>\n",
       "      <td>San Bdo County Line to Rt 14 ‐ widen to four lanes</td>\n",
       "      <td>184422000</td>\n",
       "      <td>451035000</td>\n",
       "      <td>59578000</td>\n",
       "      <td>184422000</td>\n",
       "    </tr>\n",
       "  </tbody>\n",
       "</table>\n",
       "</div>"
      ],
      "text/plain": [
       "    project_title  \\\n",
       "155        US 395   \n",
       "161        US 395   \n",
       "\n",
       "                                                            scope  \\\n",
       "155  Between Rt 178 and China Lake Blvd ‐ construct passing lanes   \n",
       "161            San Bdo County Line to Rt 14 ‐ widen to four lanes   \n",
       "\n",
       "    yoe_w__new_revenue yoe_w_o_new_reven maint__inflation_savings       cost  \n",
       "155           15117000         191000000                  4883000   15117000  \n",
       "161          184422000         451035000                 59578000  184422000  "
      ]
     },
     "execution_count": 151,
     "metadata": {},
     "output_type": "execute_result"
    }
   ],
   "source": [
    "kern[kern.project_title == \"US 395\"].sort_values([\"cost\"])"
   ]
  },
  {
   "cell_type": "code",
   "execution_count": 152,
   "id": "7d173e09-556c-4816-b6f0-c03c9c0e4dcf",
   "metadata": {},
   "outputs": [
    {
     "data": {
      "text/html": [
       "<div>\n",
       "<style scoped>\n",
       "    .dataframe tbody tr th:only-of-type {\n",
       "        vertical-align: middle;\n",
       "    }\n",
       "\n",
       "    .dataframe tbody tr th {\n",
       "        vertical-align: top;\n",
       "    }\n",
       "\n",
       "    .dataframe thead th {\n",
       "        text-align: right;\n",
       "    }\n",
       "</style>\n",
       "<table border=\"1\" class=\"dataframe\">\n",
       "  <thead>\n",
       "    <tr style=\"text-align: right;\">\n",
       "      <th></th>\n",
       "      <th>project_title</th>\n",
       "      <th>scope</th>\n",
       "      <th>yoe_w__new_revenue</th>\n",
       "      <th>yoe_w_o_new_reven</th>\n",
       "      <th>maint__inflation_savings</th>\n",
       "      <th>cost</th>\n",
       "    </tr>\n",
       "  </thead>\n",
       "  <tbody>\n",
       "    <tr>\n",
       "      <th>1115</th>\n",
       "      <td>Teh. Willow Springs Rd</td>\n",
       "      <td>Rt 58 to Rosamond Blvd ‐ widen to four lanes</td>\n",
       "      <td>114101000</td>\n",
       "      <td>150961000</td>\n",
       "      <td>36861000</td>\n",
       "      <td>114101000</td>\n",
       "    </tr>\n",
       "    <tr>\n",
       "      <th>1322</th>\n",
       "      <td>Teh. Willow Springs Rd</td>\n",
       "      <td>Rt 58 to Rosamond Blvd ‐ widen to four lanes</td>\n",
       "      <td>377914000</td>\n",
       "      <td>377914000</td>\n",
       "      <td>122086000</td>\n",
       "      <td>377914000</td>\n",
       "    </tr>\n",
       "  </tbody>\n",
       "</table>\n",
       "</div>"
      ],
      "text/plain": [
       "               project_title                                         scope  \\\n",
       "1115  Teh. Willow Springs Rd  Rt 58 to Rosamond Blvd ‐ widen to four lanes   \n",
       "1322  Teh. Willow Springs Rd  Rt 58 to Rosamond Blvd ‐ widen to four lanes   \n",
       "\n",
       "     yoe_w__new_revenue yoe_w_o_new_reven maint__inflation_savings       cost  \n",
       "1115          114101000         150961000                 36861000  114101000  \n",
       "1322          377914000         377914000                122086000  377914000  "
      ]
     },
     "execution_count": 152,
     "metadata": {},
     "output_type": "execute_result"
    }
   ],
   "source": [
    "kern[kern.project_title == \"Teh. Willow Springs Rd\"].sort_values([\"cost\"])"
   ]
  },
  {
   "cell_type": "markdown",
   "id": "366927f7-b7cc-4f40-8fc0-fa4aa9dbba36",
   "metadata": {},
   "source": [
    "### Madera CTC"
   ]
  },
  {
   "cell_type": "code",
   "execution_count": 153,
   "id": "66d94b03-eb3c-4570-aa4a-11ca43cf04c0",
   "metadata": {},
   "outputs": [],
   "source": [
    "madera = lrtp_utils.madera_lrtp()"
   ]
  },
  {
   "cell_type": "code",
   "execution_count": 154,
   "id": "728b50e3-6472-4a21-9dfe-0c6d2fbffaec",
   "metadata": {},
   "outputs": [
    {
     "data": {
      "text/html": [
       "<div>\n",
       "<style scoped>\n",
       "    .dataframe tbody tr th:only-of-type {\n",
       "        vertical-align: middle;\n",
       "    }\n",
       "\n",
       "    .dataframe tbody tr th {\n",
       "        vertical-align: top;\n",
       "    }\n",
       "\n",
       "    .dataframe thead th {\n",
       "        text-align: right;\n",
       "    }\n",
       "</style>\n",
       "<table border=\"1\" class=\"dataframe\">\n",
       "  <thead>\n",
       "    <tr style=\"text-align: right;\">\n",
       "      <th></th>\n",
       "      <th></th>\n",
       "      <th>description</th>\n",
       "    </tr>\n",
       "    <tr>\n",
       "      <th>project_name</th>\n",
       "      <th>total_cost</th>\n",
       "      <th></th>\n",
       "    </tr>\n",
       "  </thead>\n",
       "  <tbody>\n",
       "    <tr>\n",
       "      <th>Purchase Transit Vehicle</th>\n",
       "      <th>300000</th>\n",
       "      <td>3</td>\n",
       "    </tr>\n",
       "    <tr>\n",
       "      <th>Road 36</th>\n",
       "      <th>563000</th>\n",
       "      <td>3</td>\n",
       "    </tr>\n",
       "    <tr>\n",
       "      <th>Avenue 12</th>\n",
       "      <th>10000000</th>\n",
       "      <td>3</td>\n",
       "    </tr>\n",
       "    <tr>\n",
       "      <th>Various</th>\n",
       "      <th>1000000</th>\n",
       "      <td>3</td>\n",
       "    </tr>\n",
       "    <tr>\n",
       "      <th>Sunset Avenue &amp; N Westberry Blvd</th>\n",
       "      <th>$</th>\n",
       "      <td>2</td>\n",
       "    </tr>\n",
       "    <tr>\n",
       "      <th>Pecan Avenue</th>\n",
       "      <th>665000</th>\n",
       "      <td>2</td>\n",
       "    </tr>\n",
       "    <tr>\n",
       "      <th>Avenue 9</th>\n",
       "      <th>567000</th>\n",
       "      <td>2</td>\n",
       "    </tr>\n",
       "    <tr>\n",
       "      <th>James Madison Elementary School SRTS Pedestrian Improvements</th>\n",
       "      <th>$</th>\n",
       "      <td>2</td>\n",
       "    </tr>\n",
       "    <tr>\n",
       "      <th>Northwest Downtown Pedestrian Access</th>\n",
       "      <th>$</th>\n",
       "      <td>2</td>\n",
       "    </tr>\n",
       "    <tr>\n",
       "      <th>SR 41</th>\n",
       "      <th>$            -</th>\n",
       "      <td>2</td>\n",
       "    </tr>\n",
       "  </tbody>\n",
       "</table>\n",
       "</div>"
      ],
      "text/plain": [
       "                                                                             description\n",
       "project_name                                                 total_cost                 \n",
       "Purchase Transit Vehicle                                     300000                    3\n",
       "Road 36                                                      563000                    3\n",
       "Avenue 12                                                    10000000                  3\n",
       "Various                                                      1000000                   3\n",
       "Sunset Avenue & N Westberry Blvd                             $                         2\n",
       "Pecan Avenue                                                 665000                    2\n",
       "Avenue 9                                                     567000                    2\n",
       "James Madison Elementary School SRTS Pedestrian Improvements $                         2\n",
       "Northwest Downtown Pedestrian Access                         $                         2\n",
       "SR 41                                                        $            -            2"
      ]
     },
     "metadata": {},
     "output_type": "display_data"
    }
   ],
   "source": [
    "lrtp_utils.group_duplicates(madera, \"project_name\", \"total_cost\", \"description\")"
   ]
  },
  {
   "cell_type": "code",
   "execution_count": 155,
   "id": "341cc97a-5470-47e7-91f6-d7a9eef88a84",
   "metadata": {},
   "outputs": [
    {
     "name": "stdout",
     "output_type": "stream",
     "text": [
      "Various                            20\n",
      "Avenue 12                          10\n",
      "Avenue 9                            8\n",
      "State Route 41                      6\n",
      "Purchase Transit Van (Electric)     5\n",
      "Name: project_name, dtype: int64\n",
      "# of unique project titles: 515\n",
      "After dropping duplicates using project_name and total_cost: 735\n",
      "Df shape: (765, 8)\n",
      "Index(['category', 'agency', 'project_name', 'location', 'project_id',\n",
      "       'description', 'opening_year', 'total_cost'],\n",
      "      dtype='object')\n"
     ]
    }
   ],
   "source": [
    "lrtp_utils.give_info(madera, \"project_name\", \"total_cost\")"
   ]
  },
  {
   "cell_type": "code",
   "execution_count": 156,
   "id": "183df39e-116f-48c0-86a9-92da0fcef8e0",
   "metadata": {},
   "outputs": [
    {
     "data": {
      "text/html": [
       "<div>\n",
       "<style scoped>\n",
       "    .dataframe tbody tr th:only-of-type {\n",
       "        vertical-align: middle;\n",
       "    }\n",
       "\n",
       "    .dataframe tbody tr th {\n",
       "        vertical-align: top;\n",
       "    }\n",
       "\n",
       "    .dataframe thead th {\n",
       "        text-align: right;\n",
       "    }\n",
       "</style>\n",
       "<table border=\"1\" class=\"dataframe\">\n",
       "  <thead>\n",
       "    <tr style=\"text-align: right;\">\n",
       "      <th></th>\n",
       "      <th>category</th>\n",
       "      <th>agency</th>\n",
       "      <th>project_name</th>\n",
       "      <th>location</th>\n",
       "      <th>project_id</th>\n",
       "      <th>description</th>\n",
       "      <th>opening_year</th>\n",
       "      <th>total_cost</th>\n",
       "    </tr>\n",
       "  </thead>\n",
       "  <tbody>\n",
       "    <tr>\n",
       "      <th>2</th>\n",
       "      <td>Public Transit</td>\n",
       "      <td>City of Madera</td>\n",
       "      <td>Purchase Transit Vehicle</td>\n",
       "      <td>NaN</td>\n",
       "      <td>MAD213201</td>\n",
       "      <td>Purchase new transit vehicle</td>\n",
       "      <td>NaN</td>\n",
       "      <td>300000</td>\n",
       "    </tr>\n",
       "    <tr>\n",
       "      <th>3</th>\n",
       "      <td>Public Transit</td>\n",
       "      <td>City of Madera</td>\n",
       "      <td>Purchase Transit Vehicle</td>\n",
       "      <td>NaN</td>\n",
       "      <td>MAD213202</td>\n",
       "      <td>Purchase new transit vehicle</td>\n",
       "      <td>NaN</td>\n",
       "      <td>300000</td>\n",
       "    </tr>\n",
       "    <tr>\n",
       "      <th>4</th>\n",
       "      <td>Public Transit</td>\n",
       "      <td>City of Madera</td>\n",
       "      <td>Purchase Transit Vehicle</td>\n",
       "      <td>NaN</td>\n",
       "      <td>MAD213203</td>\n",
       "      <td>Purchase new transit vehicle</td>\n",
       "      <td>NaN</td>\n",
       "      <td>300000</td>\n",
       "    </tr>\n",
       "    <tr>\n",
       "      <th>23</th>\n",
       "      <td>Public Transit</td>\n",
       "      <td>Madera County</td>\n",
       "      <td>Purchase Transit Vehicle</td>\n",
       "      <td>NaN</td>\n",
       "      <td>MAD115006</td>\n",
       "      <td>Purchase new transit vehicle</td>\n",
       "      <td>NaN</td>\n",
       "      <td>825000</td>\n",
       "    </tr>\n",
       "    <tr>\n",
       "      <th>24</th>\n",
       "      <td>Public Transit</td>\n",
       "      <td>Madera County</td>\n",
       "      <td>Purchase Transit Vehicle</td>\n",
       "      <td>NaN</td>\n",
       "      <td>MAD115010</td>\n",
       "      <td>Purchase new transit vehicle</td>\n",
       "      <td>NaN</td>\n",
       "      <td>57000</td>\n",
       "    </tr>\n",
       "  </tbody>\n",
       "</table>\n",
       "</div>"
      ],
      "text/plain": [
       "          category          agency              project_name location  \\\n",
       "2   Public Transit  City of Madera  Purchase Transit Vehicle      NaN   \n",
       "3   Public Transit  City of Madera  Purchase Transit Vehicle      NaN   \n",
       "4   Public Transit  City of Madera  Purchase Transit Vehicle      NaN   \n",
       "23  Public Transit   Madera County  Purchase Transit Vehicle      NaN   \n",
       "24  Public Transit   Madera County  Purchase Transit Vehicle      NaN   \n",
       "\n",
       "   project_id                   description  opening_year total_cost  \n",
       "2   MAD213201  Purchase new transit vehicle           NaN     300000  \n",
       "3   MAD213202  Purchase new transit vehicle           NaN     300000  \n",
       "4   MAD213203  Purchase new transit vehicle           NaN     300000  \n",
       "23  MAD115006  Purchase new transit vehicle           NaN     825000  \n",
       "24  MAD115010  Purchase new transit vehicle           NaN      57000  "
      ]
     },
     "execution_count": 156,
     "metadata": {},
     "output_type": "execute_result"
    }
   ],
   "source": [
    "madera[madera.project_name == \"Purchase Transit Vehicle\"]"
   ]
  },
  {
   "cell_type": "code",
   "execution_count": 157,
   "id": "4b15c2bb-14d7-45e7-a25e-8242b740afe3",
   "metadata": {},
   "outputs": [
    {
     "data": {
      "text/html": [
       "<div>\n",
       "<style scoped>\n",
       "    .dataframe tbody tr th:only-of-type {\n",
       "        vertical-align: middle;\n",
       "    }\n",
       "\n",
       "    .dataframe tbody tr th {\n",
       "        vertical-align: top;\n",
       "    }\n",
       "\n",
       "    .dataframe thead th {\n",
       "        text-align: right;\n",
       "    }\n",
       "</style>\n",
       "<table border=\"1\" class=\"dataframe\">\n",
       "  <thead>\n",
       "    <tr style=\"text-align: right;\">\n",
       "      <th></th>\n",
       "      <th>category</th>\n",
       "      <th>agency</th>\n",
       "      <th>project_name</th>\n",
       "      <th>location</th>\n",
       "      <th>project_id</th>\n",
       "      <th>description</th>\n",
       "      <th>opening_year</th>\n",
       "      <th>total_cost</th>\n",
       "    </tr>\n",
       "  </thead>\n",
       "  <tbody>\n",
       "    <tr>\n",
       "      <th>46</th>\n",
       "      <td>Streets and Roads</td>\n",
       "      <td>Madera County</td>\n",
       "      <td>Avenue 12</td>\n",
       "      <td>Road 38 to Road 40</td>\n",
       "      <td>NaN</td>\n",
       "      <td>2 Lanes to 4 Lanes</td>\n",
       "      <td>2027.00</td>\n",
       "      <td>10000000</td>\n",
       "    </tr>\n",
       "    <tr>\n",
       "      <th>47</th>\n",
       "      <td>Streets and Roads</td>\n",
       "      <td>Madera County</td>\n",
       "      <td>Avenue 12</td>\n",
       "      <td>Road 40 to Riverwalk\\nBlvd</td>\n",
       "      <td>NaN</td>\n",
       "      <td>2 Lanes to 6 Lanes</td>\n",
       "      <td>2027.00</td>\n",
       "      <td>10000000</td>\n",
       "    </tr>\n",
       "    <tr>\n",
       "      <th>48</th>\n",
       "      <td>Streets and Roads</td>\n",
       "      <td>Madera County</td>\n",
       "      <td>Avenue 12</td>\n",
       "      <td>Riverwalk Blvd to SR\\n41</td>\n",
       "      <td>NaN</td>\n",
       "      <td>4 Lanes to 8 Lanes</td>\n",
       "      <td>2027.00</td>\n",
       "      <td>10000000</td>\n",
       "    </tr>\n",
       "    <tr>\n",
       "      <th>49</th>\n",
       "      <td>Streets and Roads</td>\n",
       "      <td>Madera County</td>\n",
       "      <td>Avenue 12</td>\n",
       "      <td>SR 41 To Flagbarn Rd</td>\n",
       "      <td>NaN</td>\n",
       "      <td>2 Lanes to 4 Lanes</td>\n",
       "      <td>2030.00</td>\n",
       "      <td>4250000</td>\n",
       "    </tr>\n",
       "    <tr>\n",
       "      <th>51</th>\n",
       "      <td>Streets and Roads</td>\n",
       "      <td>Madera County</td>\n",
       "      <td>Avenue 12</td>\n",
       "      <td>Road 30 1/2 to Road 36</td>\n",
       "      <td>NaN</td>\n",
       "      <td>2 Lanes to 4 Lanes</td>\n",
       "      <td>2030.00</td>\n",
       "      <td>21000000</td>\n",
       "    </tr>\n",
       "  </tbody>\n",
       "</table>\n",
       "</div>"
      ],
      "text/plain": [
       "             category         agency project_name                    location  \\\n",
       "46  Streets and Roads  Madera County    Avenue 12          Road 38 to Road 40   \n",
       "47  Streets and Roads  Madera County    Avenue 12  Road 40 to Riverwalk\\nBlvd   \n",
       "48  Streets and Roads  Madera County    Avenue 12    Riverwalk Blvd to SR\\n41   \n",
       "49  Streets and Roads  Madera County    Avenue 12        SR 41 To Flagbarn Rd   \n",
       "51  Streets and Roads  Madera County    Avenue 12      Road 30 1/2 to Road 36   \n",
       "\n",
       "   project_id         description  opening_year total_cost  \n",
       "46        NaN  2 Lanes to 4 Lanes       2027.00   10000000  \n",
       "47        NaN  2 Lanes to 6 Lanes       2027.00   10000000  \n",
       "48        NaN  4 Lanes to 8 Lanes       2027.00   10000000  \n",
       "49        NaN  2 Lanes to 4 Lanes       2030.00    4250000  \n",
       "51        NaN  2 Lanes to 4 Lanes       2030.00   21000000  "
      ]
     },
     "execution_count": 157,
     "metadata": {},
     "output_type": "execute_result"
    }
   ],
   "source": [
    "madera[madera.project_name == \"Avenue 12\"].head()"
   ]
  },
  {
   "cell_type": "markdown",
   "id": "9941fbbd-4520-4daa-931a-da6f59b755cf",
   "metadata": {
    "tags": []
   },
   "source": [
    "### MCAGOV"
   ]
  },
  {
   "cell_type": "code",
   "execution_count": 158,
   "id": "3f4e657c-3bed-4764-8175-b3818654abb7",
   "metadata": {},
   "outputs": [],
   "source": [
    "mcagov = lrtp_utils.mcagov_lrtp()"
   ]
  },
  {
   "cell_type": "code",
   "execution_count": 159,
   "id": "203726b0-49af-475e-825a-be328c7663a7",
   "metadata": {},
   "outputs": [
    {
     "name": "stdout",
     "output_type": "stream",
     "text": [
      "Bellevue Rd Realignment/Reconstruction    1\n",
      "Minturn Road Rehabilitation               1\n",
      "MCAG Vanpool Program (dibs)               1\n",
      "Measure V Transit Free Ride Program       1\n",
      "Planada Route Improvements                1\n",
      "Name: title, dtype: int64\n",
      "# of unique project titles: 108\n",
      "After dropping duplicates using title and total_cost\n",
      "_$1,000s_: 108\n",
      "Df shape: (108, 8)\n",
      "Index(['agency', 'title', 'limits_description', 'type', 'completion\\nyear',\n",
      "       'total_cost\\n_$1,000s_', 'funding_sources', 'total_cost_millions'],\n",
      "      dtype='object')\n"
     ]
    }
   ],
   "source": [
    "lrtp_utils.give_info(mcagov, \"title\", \"total_cost\\n_$1,000s_\")"
   ]
  },
  {
   "cell_type": "code",
   "execution_count": 160,
   "id": "15d75ed6-9171-4bc5-840a-5845ea14952a",
   "metadata": {},
   "outputs": [
    {
     "data": {
      "text/html": [
       "<div>\n",
       "<style scoped>\n",
       "    .dataframe tbody tr th:only-of-type {\n",
       "        vertical-align: middle;\n",
       "    }\n",
       "\n",
       "    .dataframe tbody tr th {\n",
       "        vertical-align: top;\n",
       "    }\n",
       "\n",
       "    .dataframe thead th {\n",
       "        text-align: right;\n",
       "    }\n",
       "</style>\n",
       "<table border=\"1\" class=\"dataframe\">\n",
       "  <thead>\n",
       "    <tr style=\"text-align: right;\">\n",
       "      <th></th>\n",
       "      <th>agency</th>\n",
       "      <th>title</th>\n",
       "      <th>limits_description</th>\n",
       "      <th>type</th>\n",
       "      <th>completion\\nyear</th>\n",
       "      <th>total_cost\\n_$1,000s_</th>\n",
       "      <th>funding_sources</th>\n",
       "      <th>total_cost_millions</th>\n",
       "    </tr>\n",
       "  </thead>\n",
       "  <tbody>\n",
       "    <tr>\n",
       "      <th>12</th>\n",
       "      <td>Gustine</td>\n",
       "      <td>Gustine Phase 3 Multi-use Path</td>\n",
       "      <td>Extension of multi-use path on Meredith north on Railroad Ave CML-5230(015)</td>\n",
       "      <td>Active (Bike/Ped)</td>\n",
       "      <td>2025</td>\n",
       "      <td>638</td>\n",
       "      <td>CMAQ</td>\n",
       "      <td>638000</td>\n",
       "    </tr>\n",
       "  </tbody>\n",
       "</table>\n",
       "</div>"
      ],
      "text/plain": [
       "     agency                           title  \\\n",
       "12  Gustine  Gustine Phase 3 Multi-use Path   \n",
       "\n",
       "                                                             limits_description  \\\n",
       "12  Extension of multi-use path on Meredith north on Railroad Ave CML-5230(015)   \n",
       "\n",
       "                 type completion\\nyear total_cost\\n_$1,000s_ funding_sources  \\\n",
       "12  Active (Bike/Ped)             2025                   638            CMAQ   \n",
       "\n",
       "   total_cost_millions  \n",
       "12              638000  "
      ]
     },
     "execution_count": 160,
     "metadata": {},
     "output_type": "execute_result"
    }
   ],
   "source": [
    "mcagov.sample()"
   ]
  },
  {
   "cell_type": "markdown",
   "id": "0e444a95-c7b8-4248-9715-f5405d263d86",
   "metadata": {
    "tags": [],
    "toc-hr-collapsed": true
   },
   "source": [
    "### MTC\n",
    "* 133 projects but point and line map returns 240 ish rows.\n",
    "* The geospatial projects are split into various phases while the regular pandas df is just the project in its entirety.\n",
    "* https://www.planbayarea.org/2050-plan/final-plan-bay-area-2050/final-supplemental-reports/interactive-transportation-project-list\n",
    "* https://opendata.mtc.ca.gov/datasets/MTC::2023-transportation-improvement-program-projects-point/about\n",
    "* https://opendata.mtc.ca.gov/datasets/MTC::plan-bay-area-2050-transportation-projects-line/about\n",
    "* https://data.bayareametro.gov/Projects/Plan-Bay-Area-2050-Transportation-Project-List/y7ka-jksz"
   ]
  },
  {
   "cell_type": "code",
   "execution_count": 161,
   "id": "10f74d00-6968-4eef-9ae0-4639b82542b9",
   "metadata": {},
   "outputs": [],
   "source": [
    "mtc_og = lrtp_utils.mtc_lrtp()"
   ]
  },
  {
   "cell_type": "code",
   "execution_count": 162,
   "id": "3178709d-45a0-4be3-919d-9044ac040fe9",
   "metadata": {},
   "outputs": [],
   "source": [
    "# mtc_og.drop(columns = ['geometry','scope']).sample()"
   ]
  },
  {
   "cell_type": "code",
   "execution_count": 163,
   "id": "8c1c0072-9f47-4709-849b-9ddf95fd2b4b",
   "metadata": {},
   "outputs": [],
   "source": [
    "#layer_list = [\"planbayarea2050_rtp_line\", \"planbayarea2050_rtp_point\"]\n",
    "#url_pt_1 = \"https://services3.arcgis.com/i2dkYWmb4wHvYPda/ArcGIS/rest/services/\"\n",
    "#url_pt_2 = \"/FeatureServer/0/query?where=1%3D1&objectIds=&time=&geometry=&geometryType=esriGeometryEnvelope&inSR=&spatialRel=esriSpatialRelIntersects&resultType=none&distance=0.0&units=esriSRUnit_Meter&relationParam=&returnGeodetic=false&outFields=*+&returnGeometry=true&featureEncoding=esriDefault&multipatchOption=xyFootprint&maxAllowableOffset=&geometryPrecision=&outSR=&defaultSR=&datumTransformation=&applyVCSProjection=false&returnIdsOnly=false&returnUniqueIdsOnly=false&returnCountOnly=false&returnExtentOnly=false&returnQueryGeometry=false&returnDistinctValues=false&cacheHint=false&orderByFields=&groupByFieldsForStatistics=&outStatistics=&having=&resultOffset=&resultRecordCount=&returnZ=false&returnM=false&returnExceededLimitFeatures=true&quantizationParameters=&sqlFormat=none&f=pgeojson&token=\"\n",
    "#gdf = lrtp_utils.open_rest_server(url_pt_1, url_pt_2, layer_list)"
   ]
  },
  {
   "cell_type": "code",
   "execution_count": 164,
   "id": "a0e7810f-9985-4728-9c68-61d2c60ced1c",
   "metadata": {},
   "outputs": [],
   "source": [
    "#gdf.columns"
   ]
  },
  {
   "cell_type": "code",
   "execution_count": 165,
   "id": "f0c72ad8-c832-409d-acae-8f3fab2f6897",
   "metadata": {},
   "outputs": [],
   "source": [
    "#gdf.loc[gdf.rtp_id == \"21-T10-088\"]"
   ]
  },
  {
   "cell_type": "code",
   "execution_count": 166,
   "id": "6da996b1-3d9d-4e77-9fb9-db7651ebd650",
   "metadata": {},
   "outputs": [],
   "source": [
    "#all_projects_url = \"https://data.bayareametro.gov/resource/y7ka-jksz.json?$query=SELECT%0A%20%20%60plan_strategy%60%2C%0A%20%20%60rtpid%60%2C%0A%20%20%60title%60%2C%0A%20%20%60scope%60%2C%0A%20%20%60open_period%60%2C%0A%20%20%60funding_millions_yoe%60%2C%0A%20%20%60county%60\"\n",
    "#all_projects = pd.read_json(all_projects_url)"
   ]
  },
  {
   "cell_type": "code",
   "execution_count": 167,
   "id": "a4ab2750-2c65-4eec-8987-50121ff52856",
   "metadata": {},
   "outputs": [],
   "source": [
    "#all_projects.loc[all_projects.rtpid == \"21-T10-088\"]"
   ]
  },
  {
   "cell_type": "code",
   "execution_count": 168,
   "id": "681c2633-fd4c-43c0-b19e-b110c49a2001",
   "metadata": {},
   "outputs": [],
   "source": [
    "#mtc_og.loc[mtc_og.rtpid == \"21-T10-088\"].drop(columns = ['scope','geometry'])"
   ]
  },
  {
   "cell_type": "code",
   "execution_count": 169,
   "id": "2b10cb73-7065-4f06-b169-497240db55c8",
   "metadata": {},
   "outputs": [],
   "source": [
    "#mtc_og.loc[mtc_og.proj_title == \"Light Rail | Service Expansion | VTA | Stevens Creek Blvd\"].drop(columns = ['scope','geometry'])"
   ]
  },
  {
   "cell_type": "markdown",
   "id": "be9dbf44-0fa5-4082-8a57-79e282a626d1",
   "metadata": {
    "tags": []
   },
   "source": [
    "### Sacramento Area Council of Governments (SACOG)\n",
    "* https://www.sacog.org/sites/main/files/file-attachments/2020_mtp-scs.pdf?1580330993"
   ]
  },
  {
   "cell_type": "code",
   "execution_count": 170,
   "id": "1ddf05b4-dbaf-45ae-b974-4cda46cd51cd",
   "metadata": {},
   "outputs": [
    {
     "name": "stdout",
     "output_type": "stream",
     "text": [
      "96 rows are headers\n"
     ]
    }
   ],
   "source": [
    "sacog = lrtp_utils.sacog_lrtp()"
   ]
  },
  {
   "cell_type": "code",
   "execution_count": 171,
   "id": "c9ea2918-10cc-4cc4-91e8-084689c7e56e",
   "metadata": {},
   "outputs": [
    {
     "name": "stdout",
     "output_type": "stream",
     "text": [
      "Safety Improvements                            2\n",
      "Connect Card Implementation                    2\n",
      "Aux Lane Project: EB Latrobe Road              1\n",
      "Bus Maintenance Facility #1 Rehabilitation     1\n",
      "Enhanced Employee Protection Warning System    1\n",
      "Name: title, dtype: int64\n",
      "# of unique project titles: 1599\n",
      "After dropping duplicates using title and description: 1601\n",
      "Df shape: (1601, 10)\n",
      "Index(['id', 'status__planned,_programmed_or_project_development_only_',\n",
      "       'county', 'lead_agency', 'budget_category', 'title', 'description',\n",
      "       'total_project_cost__2018_dollars_',\n",
      "       'year_of_expenditure_cost_for_planned_projects', 'completion_timing'],\n",
      "      dtype='object')\n"
     ]
    }
   ],
   "source": [
    "lrtp_utils.give_info(sacog, \"title\", \"description\")"
   ]
  },
  {
   "cell_type": "code",
   "execution_count": 172,
   "id": "bd1a2880-1e04-4e6a-b3d1-0d3b752c287e",
   "metadata": {},
   "outputs": [
    {
     "data": {
      "text/html": [
       "<div>\n",
       "<style scoped>\n",
       "    .dataframe tbody tr th:only-of-type {\n",
       "        vertical-align: middle;\n",
       "    }\n",
       "\n",
       "    .dataframe tbody tr th {\n",
       "        vertical-align: top;\n",
       "    }\n",
       "\n",
       "    .dataframe thead th {\n",
       "        text-align: right;\n",
       "    }\n",
       "</style>\n",
       "<table border=\"1\" class=\"dataframe\">\n",
       "  <thead>\n",
       "    <tr style=\"text-align: right;\">\n",
       "      <th></th>\n",
       "      <th>id</th>\n",
       "      <th>status__planned,_programmed_or_project_development_only_</th>\n",
       "      <th>county</th>\n",
       "      <th>lead_agency</th>\n",
       "      <th>budget_category</th>\n",
       "      <th>title</th>\n",
       "      <th>description</th>\n",
       "      <th>total_project_cost__2018_dollars_</th>\n",
       "      <th>year_of_expenditure_cost_for_planned_projects</th>\n",
       "      <th>completion_timing</th>\n",
       "    </tr>\n",
       "  </thead>\n",
       "  <tbody>\n",
       "    <tr>\n",
       "      <th>396</th>\n",
       "      <td>PLA25536</td>\n",
       "      <td>Programmed</td>\n",
       "      <td>PLA</td>\n",
       "      <td>Placer County</td>\n",
       "      <td>C- Maintenance &amp; Rehabilitation</td>\n",
       "      <td>Crosby Harold Rd. Bridge</td>\n",
       "      <td>Crosby Harold Rd. Over Doty Creek, 0.9 mi N of Wise Rd.: Replace an existing 1 lane bridge with a new 2 lane bridge. (Toll Credits for PE, ROW, CON).  Toll\\nCredits for ENG, ROW, CON</td>\n",
       "      <td>5000000</td>\n",
       "      <td>NaN</td>\n",
       "      <td>2020-2025</td>\n",
       "    </tr>\n",
       "  </tbody>\n",
       "</table>\n",
       "</div>"
      ],
      "text/plain": [
       "           id status__planned,_programmed_or_project_development_only_ county  \\\n",
       "396  PLA25536                                               Programmed    PLA   \n",
       "\n",
       "       lead_agency                  budget_category                     title  \\\n",
       "396  Placer County  C- Maintenance & Rehabilitation  Crosby Harold Rd. Bridge   \n",
       "\n",
       "                                                                                                                                                                                description  \\\n",
       "396  Crosby Harold Rd. Over Doty Creek, 0.9 mi N of Wise Rd.: Replace an existing 1 lane bridge with a new 2 lane bridge. (Toll Credits for PE, ROW, CON).  Toll\\nCredits for ENG, ROW, CON   \n",
       "\n",
       "    total_project_cost__2018_dollars_  \\\n",
       "396                           5000000   \n",
       "\n",
       "    year_of_expenditure_cost_for_planned_projects completion_timing  \n",
       "396                                           NaN         2020-2025  "
      ]
     },
     "execution_count": 172,
     "metadata": {},
     "output_type": "execute_result"
    }
   ],
   "source": [
    "sacog.sample()"
   ]
  },
  {
   "cell_type": "markdown",
   "id": "8872ef81-828c-4f39-bbb5-ee72db913d6e",
   "metadata": {
    "tags": []
   },
   "source": [
    "### SANDAG\n",
    "* https://www.arcgis.com/home/item.html?id=ba8b2a6247ef463cb7411f039959f3ee\n",
    "* https://www.arcgis.com/apps/mapviewer/index.html?webmap=ba8b2a6247ef463cb7411f039959f3ee"
   ]
  },
  {
   "cell_type": "code",
   "execution_count": 173,
   "id": "b0f47a03-9eb6-4add-8cbb-df84bc047281",
   "metadata": {},
   "outputs": [],
   "source": [
    "sandag = lrtp_utils.sandag_lrtp()"
   ]
  },
  {
   "cell_type": "code",
   "execution_count": 174,
   "id": "c86ac1d5-12d5-4ed8-a91f-54f025d0184c",
   "metadata": {},
   "outputs": [
    {
     "data": {
      "text/html": [
       "<div>\n",
       "<style scoped>\n",
       "    .dataframe tbody tr th:only-of-type {\n",
       "        vertical-align: middle;\n",
       "    }\n",
       "\n",
       "    .dataframe tbody tr th {\n",
       "        vertical-align: top;\n",
       "    }\n",
       "\n",
       "    .dataframe thead th {\n",
       "        text-align: right;\n",
       "    }\n",
       "</style>\n",
       "<table border=\"1\" class=\"dataframe\">\n",
       "  <thead>\n",
       "    <tr style=\"text-align: right;\">\n",
       "      <th></th>\n",
       "      <th></th>\n",
       "      <th>total_project_cost</th>\n",
       "    </tr>\n",
       "    <tr>\n",
       "      <th>project_name</th>\n",
       "      <th>description</th>\n",
       "      <th></th>\n",
       "    </tr>\n",
       "  </thead>\n",
       "  <tbody>\n",
       "    <tr>\n",
       "      <th>LRT 530</th>\n",
       "      <th>Green Line (Santee to Downtown; Double/Third-tracking and Grade Separations)</th>\n",
       "      <td>2</td>\n",
       "    </tr>\n",
       "    <tr>\n",
       "      <th>Rapid 630</th>\n",
       "      <th>Iris Trolley/Palomar to Kearny Mesa via I-5/163 and City College</th>\n",
       "      <td>1</td>\n",
       "    </tr>\n",
       "    <tr>\n",
       "      <th>I-5 (Cassidy St to Harbor Dr.)</th>\n",
       "      <th>6 Freeway Lanes and 4 Managed Lanes</th>\n",
       "      <td>1</td>\n",
       "    </tr>\n",
       "    <tr>\n",
       "      <th>Rapid 471</th>\n",
       "      <th>Downtown Escondido to East Escondido</th>\n",
       "      <td>1</td>\n",
       "    </tr>\n",
       "    <tr>\n",
       "      <th>Rapid 450 Phase 2</th>\n",
       "      <th>Oceanside to Escondido via Palomar Airport Rd and SR 78 (Full version of Rapid)</th>\n",
       "      <td>1</td>\n",
       "    </tr>\n",
       "    <tr>\n",
       "      <th>Rapid 450 Phase 1</th>\n",
       "      <th>Oceanside to Escondido via Palomar Airport Rd and SR 78 (Light version of Rapid)</th>\n",
       "      <td>1</td>\n",
       "    </tr>\n",
       "    <tr>\n",
       "      <th>Rapid 440</th>\n",
       "      <th>Carlsbad to Escondido Transit Center via Palomar Airport Rd</th>\n",
       "      <td>1</td>\n",
       "    </tr>\n",
       "    <tr>\n",
       "      <th>Rapid 41</th>\n",
       "      <th>Fashion Valley to UTC/UC San Diego via Linda Vista and Clairemont</th>\n",
       "      <td>1</td>\n",
       "    </tr>\n",
       "    <tr>\n",
       "      <th>Rapid 30</th>\n",
       "      <th>Balboa Station to Sorrento Mesa via Pacific Beach, La Jolla, UTC</th>\n",
       "      <td>1</td>\n",
       "    </tr>\n",
       "    <tr>\n",
       "      <th>Rapid 295</th>\n",
       "      <th>Spring Valley to Clairemont via La Mesa &amp; Kearny Mesa</th>\n",
       "      <td>1</td>\n",
       "    </tr>\n",
       "  </tbody>\n",
       "</table>\n",
       "</div>"
      ],
      "text/plain": [
       "                                                                                                                 total_project_cost\n",
       "project_name                   description                                                                                         \n",
       "LRT 530                        Green Line (Santee to Downtown; Double/Third-tracking and Grade Separations)                       2\n",
       "Rapid 630                      Iris Trolley/Palomar to Kearny Mesa via I-5/163 and City College                                   1\n",
       "I-5 (Cassidy St to Harbor Dr.) 6 Freeway Lanes and 4 Managed Lanes                                                                1\n",
       "Rapid 471                      Downtown Escondido to East Escondido                                                               1\n",
       "Rapid 450 Phase 2              Oceanside to Escondido via Palomar Airport Rd and SR 78 (Full version of Rapid)                    1\n",
       "Rapid 450 Phase 1              Oceanside to Escondido via Palomar Airport Rd and SR 78 (Light version of Rapid)                   1\n",
       "Rapid 440                      Carlsbad to Escondido Transit Center via Palomar Airport Rd                                        1\n",
       "Rapid 41                       Fashion Valley to UTC/UC San Diego via Linda Vista and Clairemont                                  1\n",
       "Rapid 30                       Balboa Station to Sorrento Mesa via Pacific Beach, La Jolla, UTC                                   1\n",
       "Rapid 295                      Spring Valley to Clairemont via La Mesa & Kearny Mesa                                              1"
      ]
     },
     "metadata": {},
     "output_type": "display_data"
    }
   ],
   "source": [
    "lrtp_utils.group_duplicates(sandag, \"project_name\", \"description\", \"total_project_cost\")"
   ]
  },
  {
   "cell_type": "code",
   "execution_count": 175,
   "id": "8c47635c-f39f-4de5-b46c-61a37c9a5f2f",
   "metadata": {
    "tags": []
   },
   "outputs": [
    {
     "data": {
      "text/html": [
       "<div>\n",
       "<style scoped>\n",
       "    .dataframe tbody tr th:only-of-type {\n",
       "        vertical-align: middle;\n",
       "    }\n",
       "\n",
       "    .dataframe tbody tr th {\n",
       "        vertical-align: top;\n",
       "    }\n",
       "\n",
       "    .dataframe thead th {\n",
       "        text-align: right;\n",
       "    }\n",
       "</style>\n",
       "<table border=\"1\" class=\"dataframe\">\n",
       "  <thead>\n",
       "    <tr style=\"text-align: right;\">\n",
       "      <th></th>\n",
       "      <th>project_name</th>\n",
       "      <th>total_project_cost</th>\n",
       "      <th>description</th>\n",
       "    </tr>\n",
       "  </thead>\n",
       "  <tbody>\n",
       "    <tr>\n",
       "      <th>159</th>\n",
       "      <td>LRT 530</td>\n",
       "      <td>192000000.00</td>\n",
       "      <td>Green Line (Santee to Downtown; Double/Third-tracking and Grade Separations)</td>\n",
       "    </tr>\n",
       "    <tr>\n",
       "      <th>160</th>\n",
       "      <td>LRT 530</td>\n",
       "      <td>192000000.00</td>\n",
       "      <td>Green Line (Santee to Downtown; Double/Third-tracking and Grade Separations)</td>\n",
       "    </tr>\n",
       "  </tbody>\n",
       "</table>\n",
       "</div>"
      ],
      "text/plain": [
       "    project_name  total_project_cost  \\\n",
       "159      LRT 530        192000000.00   \n",
       "160      LRT 530        192000000.00   \n",
       "\n",
       "                                                                      description  \n",
       "159  Green Line (Santee to Downtown; Double/Third-tracking and Grade Separations)  \n",
       "160  Green Line (Santee to Downtown; Double/Third-tracking and Grade Separations)  "
      ]
     },
     "execution_count": 175,
     "metadata": {},
     "output_type": "execute_result"
    }
   ],
   "source": [
    "sandag.loc[sandag.project_name == \"LRT 530\"][\n",
    "    [\"project_name\", \"total_project_cost\", \"description\"]\n",
    "]"
   ]
  },
  {
   "cell_type": "markdown",
   "id": "66381b2e-dc5f-43ee-b469-ab21868160a6",
   "metadata": {
    "tags": []
   },
   "source": [
    "### SBCAG"
   ]
  },
  {
   "cell_type": "code",
   "execution_count": 176,
   "id": "51bc1d33-07c5-4055-afdc-8a240aad7469",
   "metadata": {},
   "outputs": [
    {
     "name": "stdout",
     "output_type": "stream",
     "text": [
      "65 rows are headers\n"
     ]
    }
   ],
   "source": [
    "sbcag = lrtp_utils.sbcag_lrtp()"
   ]
  },
  {
   "cell_type": "code",
   "execution_count": 177,
   "id": "1ee1b034-e6dc-4948-ade3-35984f57426e",
   "metadata": {},
   "outputs": [
    {
     "name": "stdout",
     "output_type": "stream",
     "text": [
      "SB-PL-15: Upper De la Vina St Gap Closure and Safe Crossings              2\n",
      "CT-1: SR 246 Passing Lanes – Planting Mitigation (FTIP CT93)(EA 0C641)    1\n",
      "SM-PL-10: A Street Widening                                               1\n",
      "Sol-PL-6: Fredensborg Canyon Rd/Adobe Creek Culvert Replacement           1\n",
      "Sol-PL-5: Solvang School Sidewalk Project                                 1\n",
      "Name: project_title, dtype: int64\n",
      "# of unique project titles: 418\n",
      "After dropping duplicates using project_title and total_cost__$000s_: 419\n",
      "Df shape: (419, 8)\n",
      "Index(['type', 'project_title', 'phase', 'description',\n",
      "       'primary_funding_source_s_', 'year', 'total_cost__$000s_',\n",
      "       'total_cost_millions'],\n",
      "      dtype='object')\n"
     ]
    }
   ],
   "source": [
    "lrtp_utils.give_info(sbcag, \"project_title\", \"total_cost__$000s_\")"
   ]
  },
  {
   "cell_type": "code",
   "execution_count": 178,
   "id": "50619e00-1e7a-43da-ad1c-9332e31ede92",
   "metadata": {},
   "outputs": [
    {
     "data": {
      "text/html": [
       "<div>\n",
       "<style scoped>\n",
       "    .dataframe tbody tr th:only-of-type {\n",
       "        vertical-align: middle;\n",
       "    }\n",
       "\n",
       "    .dataframe tbody tr th {\n",
       "        vertical-align: top;\n",
       "    }\n",
       "\n",
       "    .dataframe thead th {\n",
       "        text-align: right;\n",
       "    }\n",
       "</style>\n",
       "<table border=\"1\" class=\"dataframe\">\n",
       "  <thead>\n",
       "    <tr style=\"text-align: right;\">\n",
       "      <th></th>\n",
       "      <th>type</th>\n",
       "      <th>project_title</th>\n",
       "      <th>phase</th>\n",
       "      <th>description</th>\n",
       "      <th>primary_funding_source_s_</th>\n",
       "      <th>year</th>\n",
       "      <th>total_cost__$000s_</th>\n",
       "      <th>total_cost_millions</th>\n",
       "    </tr>\n",
       "  </thead>\n",
       "  <tbody>\n",
       "    <tr>\n",
       "      <th>210</th>\n",
       "      <td>Planned</td>\n",
       "      <td>Gu-PL-1: Various Transportation Improvement Projects</td>\n",
       "      <td>VARIOUS</td>\n",
       "      <td>Utilize projected Measure A funds to implement various local transportation improvement projects</td>\n",
       "      <td>NaN</td>\n",
       "      <td>2026-\\n2050</td>\n",
       "      <td>16309</td>\n",
       "      <td>16309000</td>\n",
       "    </tr>\n",
       "  </tbody>\n",
       "</table>\n",
       "</div>"
      ],
      "text/plain": [
       "        type                                         project_title    phase  \\\n",
       "210  Planned  Gu-PL-1: Various Transportation Improvement Projects  VARIOUS   \n",
       "\n",
       "                                                                                          description  \\\n",
       "210  Utilize projected Measure A funds to implement various local transportation improvement projects   \n",
       "\n",
       "    primary_funding_source_s_         year total_cost__$000s_  \\\n",
       "210                       NaN  2026-\\n2050              16309   \n",
       "\n",
       "    total_cost_millions  \n",
       "210            16309000  "
      ]
     },
     "execution_count": 178,
     "metadata": {},
     "output_type": "execute_result"
    }
   ],
   "source": [
    "sbcag.sample()"
   ]
  },
  {
   "cell_type": "markdown",
   "id": "3f34d14f-06cc-40e1-a760-421a29e594b0",
   "metadata": {},
   "source": [
    "### Shasta County Regional Transportation Planning Agency (SCRTPA)"
   ]
  },
  {
   "cell_type": "code",
   "execution_count": 179,
   "id": "bfe246fd-17ec-444d-b47f-c9abb8cf0b0b",
   "metadata": {},
   "outputs": [],
   "source": [
    "scrtpa = lrtp_utils.scrtpa_lrtp()"
   ]
  },
  {
   "cell_type": "code",
   "execution_count": 180,
   "id": "67ede441-9305-4190-a149-408779171ef4",
   "metadata": {},
   "outputs": [
    {
     "name": "stdout",
     "output_type": "stream",
     "text": [
      "E Cypress Ave-Alfreda Way-Victor Ave                      2\n",
      "GROVE ST-B ST-WALNUT ST                                   2\n",
      "Churn Creek Rd-Rancho Rd-Churn Creek Rd/S Bonnyview Rd    2\n",
      "Hartnell Ave-Victor Ave-Shasta View Dr                    2\n",
      "Hawley Rd-Hawley Rd (e/o Norwich Ct)-Collyer Dr           2\n",
      "Name: regional_transportation_projects, dtype: int64\n",
      "# of unique project titles: 1051\n",
      "After dropping duplicates using regional_transportation_projects and cost: 1066\n",
      "Df shape: (1066, 7)\n",
      "Index(['regional_transportation_projects',\n",
      "       'short_term_total_est_cost_of_project',\n",
      "       'long_term_total_est_cost_of_project', 'project_band',\n",
      "       'project_type\\n_project_intent_', 'expected_funding_sources', 'cost'],\n",
      "      dtype='object')\n"
     ]
    }
   ],
   "source": [
    "lrtp_utils.give_info(scrtpa, \"regional_transportation_projects\", \"cost\")"
   ]
  },
  {
   "cell_type": "code",
   "execution_count": 181,
   "id": "7f33f3f3-ad65-4666-bdda-5412d1e87193",
   "metadata": {},
   "outputs": [
    {
     "data": {
      "text/html": [
       "<div>\n",
       "<style scoped>\n",
       "    .dataframe tbody tr th:only-of-type {\n",
       "        vertical-align: middle;\n",
       "    }\n",
       "\n",
       "    .dataframe tbody tr th {\n",
       "        vertical-align: top;\n",
       "    }\n",
       "\n",
       "    .dataframe thead th {\n",
       "        text-align: right;\n",
       "    }\n",
       "</style>\n",
       "<table border=\"1\" class=\"dataframe\">\n",
       "  <thead>\n",
       "    <tr style=\"text-align: right;\">\n",
       "      <th></th>\n",
       "      <th>regional_transportation_projects</th>\n",
       "      <th>short_term_total_est_cost_of_project</th>\n",
       "      <th>long_term_total_est_cost_of_project</th>\n",
       "      <th>project_band</th>\n",
       "      <th>project_type\\n_project_intent_</th>\n",
       "      <th>expected_funding_sources</th>\n",
       "      <th>cost</th>\n",
       "    </tr>\n",
       "  </thead>\n",
       "  <tbody>\n",
       "    <tr>\n",
       "      <th>831</th>\n",
       "      <td>E Cypress Ave-Alfreda Way-Victor Ave</td>\n",
       "      <td>NaN</td>\n",
       "      <td>29913</td>\n",
       "      <td>(2026-2040)</td>\n",
       "      <td>Buffered Bike Lane</td>\n",
       "      <td>unknown</td>\n",
       "      <td>29913</td>\n",
       "    </tr>\n",
       "    <tr>\n",
       "      <th>833</th>\n",
       "      <td>E Cypress Ave-Alfreda Way-Victor Ave</td>\n",
       "      <td>NaN</td>\n",
       "      <td>529884</td>\n",
       "      <td>(2026-2040)</td>\n",
       "      <td>Sidewalk</td>\n",
       "      <td>unknown</td>\n",
       "      <td>529884</td>\n",
       "    </tr>\n",
       "  </tbody>\n",
       "</table>\n",
       "</div>"
      ],
      "text/plain": [
       "         regional_transportation_projects  \\\n",
       "831  E Cypress Ave-Alfreda Way-Victor Ave   \n",
       "833  E Cypress Ave-Alfreda Way-Victor Ave   \n",
       "\n",
       "     short_term_total_est_cost_of_project long_term_total_est_cost_of_project  \\\n",
       "831                                   NaN                               29913   \n",
       "833                                   NaN                              529884   \n",
       "\n",
       "    project_band project_type\\n_project_intent_ expected_funding_sources  \\\n",
       "831  (2026-2040)             Buffered Bike Lane                  unknown   \n",
       "833  (2026-2040)                       Sidewalk                  unknown   \n",
       "\n",
       "       cost  \n",
       "831   29913  \n",
       "833  529884  "
      ]
     },
     "execution_count": 181,
     "metadata": {},
     "output_type": "execute_result"
    }
   ],
   "source": [
    "scrtpa[\n",
    "    scrtpa.regional_transportation_projects == \"E Cypress Ave-Alfreda Way-Victor Ave\"\n",
    "]"
   ]
  },
  {
   "cell_type": "markdown",
   "id": "dd84f14a-b566-4a75-a94a-168c8d6261e3",
   "metadata": {},
   "source": [
    "### San Luis Obispo Council of Governments (SLOCOG)"
   ]
  },
  {
   "cell_type": "code",
   "execution_count": 182,
   "id": "8071c55e-5711-43e7-a03d-a557db4ee05a",
   "metadata": {},
   "outputs": [],
   "source": [
    "slocog = lrtp_utils.slocog_lrtp()"
   ]
  },
  {
   "cell_type": "code",
   "execution_count": 183,
   "id": "f36fa53b-ead9-4d5e-924d-99bd430cf37f",
   "metadata": {},
   "outputs": [
    {
     "name": "stdout",
     "output_type": "stream",
     "text": [
      "Hazel Ln. SRTS Improvements                          2\n",
      "Main St. Sidewalks                                   2\n",
      "Los Berros Rd. Widening                              2\n",
      "Octagon Barn Park-and-Ride Lot and shared-use lot    1\n",
      "Augusta Neighborhood SRTS Improvements               1\n",
      "Name: project_name, dtype: int64\n",
      "# of unique project titles: 416\n",
      "After dropping duplicates using project_name and total_cost: 420\n",
      "Df shape: (420, 12)\n",
      "Index(['index', 'project_name', 'project_description', 'sponsor', 'community',\n",
      "       'time_period', 'project_type', '_2023_rtp_project_id', 'time_horizon',\n",
      "       'total_cost', 'project_id', 'geometry'],\n",
      "      dtype='object')\n"
     ]
    }
   ],
   "source": [
    "lrtp_utils.give_info(slocog, \"project_name\", \"total_cost\")"
   ]
  },
  {
   "cell_type": "code",
   "execution_count": 184,
   "id": "88172771-5fb9-4604-91f7-cbd3e41b4085",
   "metadata": {},
   "outputs": [],
   "source": [
    "# slocog[slocog.project_name == \"Hazel Ln. SRTS Improvements\"].sample()"
   ]
  },
  {
   "cell_type": "markdown",
   "id": "5c6bf430-db1c-40cb-9033-e19708c8c6bd",
   "metadata": {
    "tags": []
   },
   "source": [
    "### Southern California Association of Governments (SCAG) "
   ]
  },
  {
   "cell_type": "code",
   "execution_count": 185,
   "id": "c78fe592-971f-445c-a0e1-09c4d7a5f460",
   "metadata": {},
   "outputs": [
    {
     "name": "stdout",
     "output_type": "stream",
     "text": [
      "360 rows are headers\n"
     ]
    }
   ],
   "source": [
    "scag = lrtp_utils.scag_lrtp()"
   ]
  },
  {
   "cell_type": "code",
   "execution_count": 186,
   "id": "856eb789-fe6e-4944-b35c-fb84e838fbcc",
   "metadata": {},
   "outputs": [
    {
     "name": "stdout",
     "output_type": "stream",
     "text": [
      "WIDEN FROM 2 TO 4 LANES      170\n",
      "WIDEN FROM 4 TO 6 LANES       64\n",
      "WIDEN FROM 2 TO 6 LANES       43\n",
      "CONSTRUCT 4 LANE ARTERIAL     21\n",
      "WIDEN FROM 3 TO 4 LANES       10\n",
      "Name: description, dtype: int64\n",
      "# of unique project titles: 2607\n",
      "After dropping duplicates using description and route_name: 2824\n",
      "Df shape: (2952, 13)\n",
      "Index(['system', 'lead_agency', 'rtp_id', 'route_#', 'route_name', 'from',\n",
      "       'to', 'description', 'completion_year', 'project_cost__$1,000s_',\n",
      "       'county', 'project_title', 'project_cost_millions'],\n",
      "      dtype='object')\n"
     ]
    }
   ],
   "source": [
    "lrtp_utils.give_info(scag, \"description\", \"route_name\")"
   ]
  },
  {
   "cell_type": "code",
   "execution_count": 187,
   "id": "168cb247-70b9-469c-9543-b8213d5dd140",
   "metadata": {},
   "outputs": [
    {
     "data": {
      "text/html": [
       "<div>\n",
       "<style scoped>\n",
       "    .dataframe tbody tr th:only-of-type {\n",
       "        vertical-align: middle;\n",
       "    }\n",
       "\n",
       "    .dataframe tbody tr th {\n",
       "        vertical-align: top;\n",
       "    }\n",
       "\n",
       "    .dataframe thead th {\n",
       "        text-align: right;\n",
       "    }\n",
       "</style>\n",
       "<table border=\"1\" class=\"dataframe\">\n",
       "  <thead>\n",
       "    <tr style=\"text-align: right;\">\n",
       "      <th></th>\n",
       "      <th></th>\n",
       "      <th>project_title</th>\n",
       "    </tr>\n",
       "    <tr>\n",
       "      <th>description</th>\n",
       "      <th>project_cost__$1,000s_</th>\n",
       "      <th></th>\n",
       "    </tr>\n",
       "  </thead>\n",
       "  <tbody>\n",
       "    <tr>\n",
       "      <th rowspan=\"4\" valign=\"top\">WIDEN FROM 2 TO 4 LANES</th>\n",
       "      <th>3000</th>\n",
       "      <td>5</td>\n",
       "    </tr>\n",
       "    <tr>\n",
       "      <th>6000</th>\n",
       "      <td>3</td>\n",
       "    </tr>\n",
       "    <tr>\n",
       "      <th>3210</th>\n",
       "      <td>2</td>\n",
       "    </tr>\n",
       "    <tr>\n",
       "      <th>1878</th>\n",
       "      <td>2</td>\n",
       "    </tr>\n",
       "    <tr>\n",
       "      <th>WIDEN FROM 4 TO 6 LANES</th>\n",
       "      <th>10000</th>\n",
       "      <td>2</td>\n",
       "    </tr>\n",
       "    <tr>\n",
       "      <th rowspan=\"2\" valign=\"top\">WIDEN FROM 2 TO 4 LANES</th>\n",
       "      <th>6901</th>\n",
       "      <td>2</td>\n",
       "    </tr>\n",
       "    <tr>\n",
       "      <th>8000</th>\n",
       "      <td>2</td>\n",
       "    </tr>\n",
       "    <tr>\n",
       "      <th rowspan=\"2\" valign=\"top\">WIDEN FROM 4 TO 6 LANES</th>\n",
       "      <th>5000</th>\n",
       "      <td>2</td>\n",
       "    </tr>\n",
       "    <tr>\n",
       "      <th>20000</th>\n",
       "      <td>2</td>\n",
       "    </tr>\n",
       "    <tr>\n",
       "      <th>WIDEN FROM 2 TO 4 LANES</th>\n",
       "      <th>9571</th>\n",
       "      <td>2</td>\n",
       "    </tr>\n",
       "  </tbody>\n",
       "</table>\n",
       "</div>"
      ],
      "text/plain": [
       "                                                project_title\n",
       "description             project_cost__$1,000s_               \n",
       "WIDEN FROM 2 TO 4 LANES 3000                                5\n",
       "                        6000                                3\n",
       "                        3210                                2\n",
       "                        1878                                2\n",
       "WIDEN FROM 4 TO 6 LANES 10000                               2\n",
       "WIDEN FROM 2 TO 4 LANES 6901                                2\n",
       "                        8000                                2\n",
       "WIDEN FROM 4 TO 6 LANES 5000                                2\n",
       "                        20000                               2\n",
       "WIDEN FROM 2 TO 4 LANES 9571                                2"
      ]
     },
     "metadata": {},
     "output_type": "display_data"
    }
   ],
   "source": [
    "lrtp_utils.group_duplicates(\n",
    "    scag, \"description\", \"project_cost__$1,000s_\", \"project_title\"\n",
    ")"
   ]
  },
  {
   "cell_type": "code",
   "execution_count": 188,
   "id": "122ee499-fd7a-453a-9f86-04e2e2ffdd1f",
   "metadata": {},
   "outputs": [
    {
     "data": {
      "text/html": [
       "<div>\n",
       "<style scoped>\n",
       "    .dataframe tbody tr th:only-of-type {\n",
       "        vertical-align: middle;\n",
       "    }\n",
       "\n",
       "    .dataframe tbody tr th {\n",
       "        vertical-align: top;\n",
       "    }\n",
       "\n",
       "    .dataframe thead th {\n",
       "        text-align: right;\n",
       "    }\n",
       "</style>\n",
       "<table border=\"1\" class=\"dataframe\">\n",
       "  <thead>\n",
       "    <tr style=\"text-align: right;\">\n",
       "      <th></th>\n",
       "      <th>system</th>\n",
       "      <th>lead_agency</th>\n",
       "      <th>rtp_id</th>\n",
       "      <th>route_#</th>\n",
       "      <th>route_name</th>\n",
       "      <th>from</th>\n",
       "      <th>to</th>\n",
       "      <th>description</th>\n",
       "      <th>completion_year</th>\n",
       "      <th>project_cost__$1,000s_</th>\n",
       "      <th>county</th>\n",
       "      <th>project_title</th>\n",
       "      <th>project_cost_millions</th>\n",
       "    </tr>\n",
       "  </thead>\n",
       "  <tbody>\n",
       "    <tr>\n",
       "      <th>1441</th>\n",
       "      <td>LOCAL HIGHWAY</td>\n",
       "      <td>PERRIS</td>\n",
       "      <td>3A01WT105</td>\n",
       "      <td>0</td>\n",
       "      <td>PERRIS BLVD</td>\n",
       "      <td>RAMONA EXPWY</td>\n",
       "      <td>NUEVO RD</td>\n",
       "      <td>WIDEN FROM 4 TO 6 LANES</td>\n",
       "      <td>2025</td>\n",
       "      <td>20000</td>\n",
       "      <td>NaN</td>\n",
       "      <td>No Title</td>\n",
       "      <td>20000000</td>\n",
       "    </tr>\n",
       "    <tr>\n",
       "      <th>1595</th>\n",
       "      <td>LOCAL HIGHWAY</td>\n",
       "      <td>RIVERSIDE,  CITY OF</td>\n",
       "      <td>3A07315</td>\n",
       "      <td>0</td>\n",
       "      <td>VAN BUREN BLVD</td>\n",
       "      <td>AUDREY AVE</td>\n",
       "      <td>GARFIELD</td>\n",
       "      <td>WIDEN FROM 4 TO 6 LANES</td>\n",
       "      <td>2026</td>\n",
       "      <td>20000</td>\n",
       "      <td>NaN</td>\n",
       "      <td>No Title</td>\n",
       "      <td>20000000</td>\n",
       "    </tr>\n",
       "  </tbody>\n",
       "</table>\n",
       "</div>"
      ],
      "text/plain": [
       "             system          lead_agency     rtp_id route_#      route_name  \\\n",
       "1441  LOCAL HIGHWAY               PERRIS  3A01WT105       0     PERRIS BLVD   \n",
       "1595  LOCAL HIGHWAY  RIVERSIDE,  CITY OF    3A07315       0  VAN BUREN BLVD   \n",
       "\n",
       "              from        to              description completion_year  \\\n",
       "1441  RAMONA EXPWY  NUEVO RD  WIDEN FROM 4 TO 6 LANES            2025   \n",
       "1595    AUDREY AVE  GARFIELD  WIDEN FROM 4 TO 6 LANES            2026   \n",
       "\n",
       "     project_cost__$1,000s_ county project_title project_cost_millions  \n",
       "1441                  20000    NaN      No Title              20000000  \n",
       "1595                  20000    NaN      No Title              20000000  "
      ]
     },
     "execution_count": 188,
     "metadata": {},
     "output_type": "execute_result"
    }
   ],
   "source": [
    "scag.loc[\n",
    "    (scag.description == \"WIDEN FROM 4 TO 6 LANES\")\n",
    "    & (scag[\"project_cost__$1,000s_\"] == 20000)\n",
    "]"
   ]
  },
  {
   "cell_type": "markdown",
   "id": "87f84c56-f5d8-44fc-8089-43816b54a259",
   "metadata": {
    "tags": []
   },
   "source": [
    "###  SJCOG"
   ]
  },
  {
   "cell_type": "code",
   "execution_count": 189,
   "id": "bd2fd0c9-71c0-4b64-83d4-840e92301a02",
   "metadata": {},
   "outputs": [],
   "source": [
    "sjcog = lrtp_utils.sjcog_lrtp()"
   ]
  },
  {
   "cell_type": "code",
   "execution_count": 190,
   "id": "49479d46-114a-4328-855c-46bb5ce10165",
   "metadata": {},
   "outputs": [
    {
     "name": "stdout",
     "output_type": "stream",
     "text": [
      "Widen from 2 to 6 lanes                        9\n",
      "Install ramp meters and ITS elements           7\n",
      "Rehabilitation of various streets and roads    7\n",
      "Widen from 2 to 4 lanes                        6\n",
      "Reconstruct interchange                        5\n",
      "Name: project_description, dtype: int64\n",
      "# of unique project titles: 208\n",
      "After dropping duplicates using project_description and total: 252\n",
      "Df shape: (262, 16)\n",
      "Index(['_2018_rtp_mpo_id', 'ctips_id_#', 'jurisdiction', 'facility_name_route',\n",
      "       'project_description', 'project_limits', 'total', 'ftip_programming',\n",
      "       'nepa_approval', 'open_to_traffic', 'completion', 'completion_date',\n",
      "       'facility_name_route_1', 'project_description_1', 'milestone_years_1',\n",
      "       'project_name'],\n",
      "      dtype='object')\n"
     ]
    }
   ],
   "source": [
    "lrtp_utils.give_info(sjcog, \"project_description\", \"total\")"
   ]
  },
  {
   "cell_type": "code",
   "execution_count": 191,
   "id": "5e5f4249-5e64-46e0-9fe4-82d44b6536c6",
   "metadata": {},
   "outputs": [
    {
     "data": {
      "text/html": [
       "<div>\n",
       "<style scoped>\n",
       "    .dataframe tbody tr th:only-of-type {\n",
       "        vertical-align: middle;\n",
       "    }\n",
       "\n",
       "    .dataframe tbody tr th {\n",
       "        vertical-align: top;\n",
       "    }\n",
       "\n",
       "    .dataframe thead th {\n",
       "        text-align: right;\n",
       "    }\n",
       "</style>\n",
       "<table border=\"1\" class=\"dataframe\">\n",
       "  <thead>\n",
       "    <tr style=\"text-align: right;\">\n",
       "      <th></th>\n",
       "      <th></th>\n",
       "      <th>project_name</th>\n",
       "    </tr>\n",
       "    <tr>\n",
       "      <th>project_description</th>\n",
       "      <th>total</th>\n",
       "      <th></th>\n",
       "    </tr>\n",
       "  </thead>\n",
       "  <tbody>\n",
       "    <tr>\n",
       "      <th>Widen from 6 to 8 lanes (inside/outside)</th>\n",
       "      <th>90000000.00</th>\n",
       "      <td>3</td>\n",
       "    </tr>\n",
       "    <tr>\n",
       "      <th>Modification of existing interchange - ENVIRONMENTAL ONLY</th>\n",
       "      <th>2500000.00</th>\n",
       "      <td>2</td>\n",
       "    </tr>\n",
       "    <tr>\n",
       "      <th>Reconstruct interchange</th>\n",
       "      <th>30000000.00</th>\n",
       "      <td>2</td>\n",
       "    </tr>\n",
       "    <tr>\n",
       "      <th>Install ramp meters and ITS elements</th>\n",
       "      <th>23400000.00</th>\n",
       "      <td>2</td>\n",
       "    </tr>\n",
       "    <tr>\n",
       "      <th>Widen from 2 to 6 lanes</th>\n",
       "      <th>9000000.00</th>\n",
       "      <td>2</td>\n",
       "    </tr>\n",
       "    <tr>\n",
       "      <th>Widen 6 to 8 lanes (inside)</th>\n",
       "      <th>90000000.00</th>\n",
       "      <td>2</td>\n",
       "    </tr>\n",
       "    <tr>\n",
       "      <th>Rehabilitation of various streets and roads</th>\n",
       "      <th>197236934.00</th>\n",
       "      <td>1</td>\n",
       "    </tr>\n",
       "    <tr>\n",
       "      <th>Reconstruct interchange to provide 6 through lanes on SR 99, 4 lanes on Harney between Reynolds Ranch Pkwy and SR 99 and modify on-ramps and off-ramps</th>\n",
       "      <th>35000000.00</th>\n",
       "      <td>1</td>\n",
       "    </tr>\n",
       "    <tr>\n",
       "      <th>Reconstruct interchange to provide operational and safety improvements on SR 99 at Turner Road (PM 31.3/31.6)</th>\n",
       "      <th>6331338.00</th>\n",
       "      <td>1</td>\n",
       "    </tr>\n",
       "    <tr>\n",
       "      <th>Reconstruct intersection, including addition of turn pockets, improvement of traffic signal and installation of train pre-emption system for UPRR railroad crossing.</th>\n",
       "      <th>1151725.06</th>\n",
       "      <td>1</td>\n",
       "    </tr>\n",
       "  </tbody>\n",
       "</table>\n",
       "</div>"
      ],
      "text/plain": [
       "                                                                                                                                                                                   project_name\n",
       "project_description                                                                                                                                                  total                     \n",
       "Widen from 6 to 8 lanes (inside/outside)                                                                                                                             90000000.00              3\n",
       "Modification of existing interchange - ENVIRONMENTAL ONLY                                                                                                            2500000.00               2\n",
       "Reconstruct interchange                                                                                                                                              30000000.00              2\n",
       "Install ramp meters and ITS elements                                                                                                                                 23400000.00              2\n",
       "Widen from 2 to 6 lanes                                                                                                                                              9000000.00               2\n",
       "Widen 6 to 8 lanes (inside)                                                                                                                                          90000000.00              2\n",
       "Rehabilitation of various streets and roads                                                                                                                          197236934.00             1\n",
       "Reconstruct interchange to provide 6 through lanes on SR 99, 4 lanes on Harney between Reynolds Ranch Pkwy and SR 99 and modify on-ramps and off-ramps               35000000.00              1\n",
       "Reconstruct interchange to provide operational and safety improvements on SR 99 at Turner Road (PM 31.3/31.6)                                                        6331338.00               1\n",
       "Reconstruct intersection, including addition of turn pockets, improvement of traffic signal and installation of train pre-emption system for UPRR railroad crossing. 1151725.06               1"
      ]
     },
     "metadata": {},
     "output_type": "display_data"
    }
   ],
   "source": [
    "lrtp_utils.group_duplicates(sjcog, \"project_description\", \"total\", \"project_name\")"
   ]
  },
  {
   "cell_type": "code",
   "execution_count": 192,
   "id": "5131ab15-9f50-4b1a-b295-4c4eb118cc3e",
   "metadata": {},
   "outputs": [
    {
     "data": {
      "text/html": [
       "<div>\n",
       "<style scoped>\n",
       "    .dataframe tbody tr th:only-of-type {\n",
       "        vertical-align: middle;\n",
       "    }\n",
       "\n",
       "    .dataframe tbody tr th {\n",
       "        vertical-align: top;\n",
       "    }\n",
       "\n",
       "    .dataframe thead th {\n",
       "        text-align: right;\n",
       "    }\n",
       "</style>\n",
       "<table border=\"1\" class=\"dataframe\">\n",
       "  <thead>\n",
       "    <tr style=\"text-align: right;\">\n",
       "      <th></th>\n",
       "      <th>_2018_rtp_mpo_id</th>\n",
       "      <th>ctips_id_#</th>\n",
       "      <th>jurisdiction</th>\n",
       "      <th>facility_name_route</th>\n",
       "      <th>project_description</th>\n",
       "      <th>project_limits</th>\n",
       "      <th>total</th>\n",
       "      <th>ftip_programming</th>\n",
       "      <th>nepa_approval</th>\n",
       "      <th>open_to_traffic</th>\n",
       "      <th>completion</th>\n",
       "      <th>completion_date</th>\n",
       "      <th>facility_name_route_1</th>\n",
       "      <th>project_description_1</th>\n",
       "      <th>milestone_years_1</th>\n",
       "      <th>project_name</th>\n",
       "    </tr>\n",
       "  </thead>\n",
       "  <tbody>\n",
       "    <tr>\n",
       "      <th>1</th>\n",
       "      <td>SJ07-1003</td>\n",
       "      <td>NaN</td>\n",
       "      <td>Caltrans</td>\n",
       "      <td>I-205 Managed Lanes</td>\n",
       "      <td>Widen from 6 to 8 lanes (inside/outside)</td>\n",
       "      <td>Alameda County Line to Eleventh Street</td>\n",
       "      <td>90000000.00</td>\n",
       "      <td>NaN</td>\n",
       "      <td>2022.00</td>\n",
       "      <td>2028.00</td>\n",
       "      <td>NaN</td>\n",
       "      <td>NaN</td>\n",
       "      <td>NaN</td>\n",
       "      <td>NaN</td>\n",
       "      <td>NaN</td>\n",
       "      <td>None</td>\n",
       "    </tr>\n",
       "    <tr>\n",
       "      <th>2</th>\n",
       "      <td>SJ14-1001</td>\n",
       "      <td>NaN</td>\n",
       "      <td>Caltrans</td>\n",
       "      <td>I-205 Managed Lanes</td>\n",
       "      <td>Widen from 6 to 8 lanes (inside/outside)</td>\n",
       "      <td>Eleventh Street to MacArthur Drive</td>\n",
       "      <td>90000000.00</td>\n",
       "      <td>NaN</td>\n",
       "      <td>2022.00</td>\n",
       "      <td>2028.00</td>\n",
       "      <td>NaN</td>\n",
       "      <td>NaN</td>\n",
       "      <td>NaN</td>\n",
       "      <td>NaN</td>\n",
       "      <td>NaN</td>\n",
       "      <td>None</td>\n",
       "    </tr>\n",
       "    <tr>\n",
       "      <th>3</th>\n",
       "      <td>SJ14-1002</td>\n",
       "      <td>NaN</td>\n",
       "      <td>Caltrans</td>\n",
       "      <td>I-205 Managed Lanes</td>\n",
       "      <td>Widen from 6 to 8 lanes (inside/outside)</td>\n",
       "      <td>MacArthur Drive to I-5</td>\n",
       "      <td>90000000.00</td>\n",
       "      <td>NaN</td>\n",
       "      <td>2022.00</td>\n",
       "      <td>2028.00</td>\n",
       "      <td>NaN</td>\n",
       "      <td>NaN</td>\n",
       "      <td>NaN</td>\n",
       "      <td>NaN</td>\n",
       "      <td>NaN</td>\n",
       "      <td>None</td>\n",
       "    </tr>\n",
       "  </tbody>\n",
       "</table>\n",
       "</div>"
      ],
      "text/plain": [
       "  _2018_rtp_mpo_id ctips_id_# jurisdiction  facility_name_route  \\\n",
       "1        SJ07-1003        NaN     Caltrans  I-205 Managed Lanes   \n",
       "2        SJ14-1001        NaN     Caltrans  I-205 Managed Lanes   \n",
       "3        SJ14-1002        NaN     Caltrans  I-205 Managed Lanes   \n",
       "\n",
       "                        project_description  \\\n",
       "1  Widen from 6 to 8 lanes (inside/outside)   \n",
       "2  Widen from 6 to 8 lanes (inside/outside)   \n",
       "3  Widen from 6 to 8 lanes (inside/outside)   \n",
       "\n",
       "                           project_limits       total ftip_programming  \\\n",
       "1  Alameda County Line to Eleventh Street 90000000.00              NaN   \n",
       "2      Eleventh Street to MacArthur Drive 90000000.00              NaN   \n",
       "3                  MacArthur Drive to I-5 90000000.00              NaN   \n",
       "\n",
       "  nepa_approval open_to_traffic  completion  completion_date  \\\n",
       "1       2022.00         2028.00         NaN              NaN   \n",
       "2       2022.00         2028.00         NaN              NaN   \n",
       "3       2022.00         2028.00         NaN              NaN   \n",
       "\n",
       "  facility_name_route_1 project_description_1  milestone_years_1 project_name  \n",
       "1                   NaN                   NaN                NaN         None  \n",
       "2                   NaN                   NaN                NaN         None  \n",
       "3                   NaN                   NaN                NaN         None  "
      ]
     },
     "execution_count": 192,
     "metadata": {},
     "output_type": "execute_result"
    }
   ],
   "source": [
    "sjcog.loc[\n",
    "    sjcog.project_description == \"Widen from 6 to 8 lanes (inside/outside)\"\n",
    "].head()"
   ]
  },
  {
   "cell_type": "code",
   "execution_count": 193,
   "id": "1bb62df9-ae0b-4c1e-a7f3-0f614c706102",
   "metadata": {},
   "outputs": [
    {
     "data": {
      "text/html": [
       "<div>\n",
       "<style scoped>\n",
       "    .dataframe tbody tr th:only-of-type {\n",
       "        vertical-align: middle;\n",
       "    }\n",
       "\n",
       "    .dataframe tbody tr th {\n",
       "        vertical-align: top;\n",
       "    }\n",
       "\n",
       "    .dataframe thead th {\n",
       "        text-align: right;\n",
       "    }\n",
       "</style>\n",
       "<table border=\"1\" class=\"dataframe\">\n",
       "  <thead>\n",
       "    <tr style=\"text-align: right;\">\n",
       "      <th></th>\n",
       "      <th>_2018_rtp_mpo_id</th>\n",
       "      <th>ctips_id_#</th>\n",
       "      <th>jurisdiction</th>\n",
       "      <th>facility_name_route</th>\n",
       "      <th>project_description</th>\n",
       "      <th>project_limits</th>\n",
       "      <th>total</th>\n",
       "      <th>ftip_programming</th>\n",
       "      <th>nepa_approval</th>\n",
       "      <th>open_to_traffic</th>\n",
       "      <th>completion</th>\n",
       "      <th>completion_date</th>\n",
       "      <th>facility_name_route_1</th>\n",
       "      <th>project_description_1</th>\n",
       "      <th>milestone_years_1</th>\n",
       "      <th>project_name</th>\n",
       "    </tr>\n",
       "  </thead>\n",
       "  <tbody>\n",
       "    <tr>\n",
       "      <th>166</th>\n",
       "      <td>SJ07-6021</td>\n",
       "      <td>NaN</td>\n",
       "      <td>SJRRC</td>\n",
       "      <td>ACE Operations</td>\n",
       "      <td>ACE operations and Capital Access Fee (5 trains from 2012 to 2016, 6 trains from 2017 to 2021, 7 trains from 2022 to 2029 and 8 trains from 2030 to 2041)</td>\n",
       "      <td>SJRRC/Santa Clara/Alameda contributions shown</td>\n",
       "      <td>536397757.00</td>\n",
       "      <td>NaN</td>\n",
       "      <td>NaN</td>\n",
       "      <td>NaN</td>\n",
       "      <td>NaN</td>\n",
       "      <td>2030.00</td>\n",
       "      <td>NaN</td>\n",
       "      <td>NaN</td>\n",
       "      <td>NaN</td>\n",
       "      <td>None</td>\n",
       "    </tr>\n",
       "  </tbody>\n",
       "</table>\n",
       "</div>"
      ],
      "text/plain": [
       "    _2018_rtp_mpo_id ctips_id_# jurisdiction facility_name_route  \\\n",
       "166        SJ07-6021        NaN        SJRRC      ACE Operations   \n",
       "\n",
       "                                                                                                                                           project_description  \\\n",
       "166  ACE operations and Capital Access Fee (5 trains from 2012 to 2016, 6 trains from 2017 to 2021, 7 trains from 2022 to 2029 and 8 trains from 2030 to 2041)   \n",
       "\n",
       "                                    project_limits        total  \\\n",
       "166  SJRRC/Santa Clara/Alameda contributions shown 536397757.00   \n",
       "\n",
       "    ftip_programming nepa_approval open_to_traffic  completion  \\\n",
       "166              NaN           NaN             NaN         NaN   \n",
       "\n",
       "     completion_date facility_name_route_1 project_description_1  \\\n",
       "166          2030.00                   NaN                   NaN   \n",
       "\n",
       "     milestone_years_1 project_name  \n",
       "166                NaN         None  "
      ]
     },
     "execution_count": 193,
     "metadata": {},
     "output_type": "execute_result"
    }
   ],
   "source": [
    "sjcog[~sjcog.completion_date.isna()].sample()"
   ]
  },
  {
   "cell_type": "markdown",
   "id": "91e53794-6958-4842-b44b-c8be70e07e28",
   "metadata": {
    "tags": []
   },
   "source": [
    "### Stancog"
   ]
  },
  {
   "cell_type": "code",
   "execution_count": 194,
   "id": "00a53e3d-700a-4a78-befc-27e83cd42cad",
   "metadata": {},
   "outputs": [
    {
     "name": "stdout",
     "output_type": "stream",
     "text": [
      "68 rows are headers\n"
     ]
    }
   ],
   "source": [
    "stancog = lrtp_utils.stancog_lrtp()"
   ]
  },
  {
   "cell_type": "code",
   "execution_count": 195,
   "id": "3b4d5d97-b428-4db2-a214-9ff957af1f10",
   "metadata": {},
   "outputs": [
    {
     "data": {
      "text/plain": [
       "Index(['jurisdiction', 'location', 'project_limits', 'description',\n",
       "       'total_cost', 'open_to_traffic', 'funding_source', 'system_preserv_',\n",
       "       'capacity_enhance_', 'safety', 'oper_', 'complete_streets',\n",
       "       'active\\ntransporta_tion', 'transit', 'other', 'title'],\n",
       "      dtype='object', name=0)"
      ]
     },
     "execution_count": 195,
     "metadata": {},
     "output_type": "execute_result"
    }
   ],
   "source": [
    "stancog.columns"
   ]
  },
  {
   "cell_type": "code",
   "execution_count": 196,
   "id": "8a0e5a3b-273d-4781-96fe-abf63b5937e9",
   "metadata": {},
   "outputs": [
    {
     "name": "stdout",
     "output_type": "stream",
     "text": [
      "Intersection Improvements               19\n",
      "Install Traffic Signal                  15\n",
      "Widen from 2 to 4 lanes                  8\n",
      "Shoulder Widening - Class 2 Bikepath     7\n",
      "Widen to 3 lanes                         7\n",
      "Name: description, dtype: int64\n",
      "# of unique project titles: 417\n",
      "After dropping duplicates using description and total_cost: 519\n",
      "Df shape: (552, 16)\n",
      "Index(['jurisdiction', 'location', 'project_limits', 'description',\n",
      "       'total_cost', 'open_to_traffic', 'funding_source', 'system_preserv_',\n",
      "       'capacity_enhance_', 'safety', 'oper_', 'complete_streets',\n",
      "       'active\\ntransporta_tion', 'transit', 'other', 'title'],\n",
      "      dtype='object', name=0)\n"
     ]
    }
   ],
   "source": [
    "lrtp_utils.give_info(stancog, \"description\", \"total_cost\")"
   ]
  },
  {
   "cell_type": "code",
   "execution_count": 197,
   "id": "06d94c0a-b568-41a0-874c-f44a6b8ac88f",
   "metadata": {},
   "outputs": [
    {
     "data": {
      "text/html": [
       "<div>\n",
       "<style scoped>\n",
       "    .dataframe tbody tr th:only-of-type {\n",
       "        vertical-align: middle;\n",
       "    }\n",
       "\n",
       "    .dataframe tbody tr th {\n",
       "        vertical-align: top;\n",
       "    }\n",
       "\n",
       "    .dataframe thead th {\n",
       "        text-align: right;\n",
       "    }\n",
       "</style>\n",
       "<table border=\"1\" class=\"dataframe\">\n",
       "  <thead>\n",
       "    <tr style=\"text-align: right;\">\n",
       "      <th></th>\n",
       "      <th></th>\n",
       "      <th>total_cost</th>\n",
       "    </tr>\n",
       "    <tr>\n",
       "      <th>project_limits</th>\n",
       "      <th>description</th>\n",
       "      <th></th>\n",
       "    </tr>\n",
       "  </thead>\n",
       "  <tbody>\n",
       "    <tr>\n",
       "      <th>Intersection</th>\n",
       "      <th>Install Signal &amp; Intersection Improvements</th>\n",
       "      <td>3</td>\n",
       "    </tr>\n",
       "    <tr>\n",
       "      <th>Main Street to T Street</th>\n",
       "      <th>Pavement Rehabilitation, Maintenance</th>\n",
       "      <td>3</td>\n",
       "    </tr>\n",
       "    <tr>\n",
       "      <th>Various Locations</th>\n",
       "      <th>Pedestrian Improvements</th>\n",
       "      <td>2</td>\n",
       "    </tr>\n",
       "    <tr>\n",
       "      <th>Driskell to Sherman Parkway</th>\n",
       "      <th>Pavement Rehabilitation, Maintenance, and complete streets improvements</th>\n",
       "      <td>2</td>\n",
       "    </tr>\n",
       "    <tr>\n",
       "      <th>Highway 33 to Canal School Rd</th>\n",
       "      <th>Install Collector Street improvements</th>\n",
       "      <td>2</td>\n",
       "    </tr>\n",
       "    <tr>\n",
       "      <th>Yolo St to Jensen Rd</th>\n",
       "      <th>Bicycle and Pedestrian Improvements</th>\n",
       "      <td>2</td>\n",
       "    </tr>\n",
       "    <tr>\n",
       "      <th>SR-108 at First Street</th>\n",
       "      <th>Install Congestion Management improvements</th>\n",
       "      <td>1</td>\n",
       "    </tr>\n",
       "    <tr>\n",
       "      <th>SR-108 at Claus</th>\n",
       "      <th>Install signal light at Claus &amp; SR-108 and Install congestion Management Improvements at First Street &amp; SR-108</th>\n",
       "      <td>1</td>\n",
       "    </tr>\n",
       "    <tr>\n",
       "      <th>SR-108 to Riverbank City Limits (Near Oakdale Rd)</th>\n",
       "      <th>Multi-Use Path (Class 1) and pedestrian improvements.  (Non-Motorized Transportation Plan Top 25: Route 22)</th>\n",
       "      <td>1</td>\n",
       "    </tr>\n",
       "    <tr>\n",
       "      <th>S St to Q St</th>\n",
       "      <th>Class 2 Bicycle Lane. Lane narrowing. StanCOG Non-Motorized Transportation Master Plan Project ID: NEW-2</th>\n",
       "      <td>1</td>\n",
       "    </tr>\n",
       "  </tbody>\n",
       "</table>\n",
       "</div>"
      ],
      "text/plain": [
       "0                                                                                                                                                                 total_cost\n",
       "project_limits                                    description                                                                                                               \n",
       "Intersection                                      Install Signal & Intersection Improvements                                                                               3\n",
       "Main Street to T Street                           Pavement Rehabilitation, Maintenance                                                                                     3\n",
       "Various Locations                                 Pedestrian Improvements                                                                                                  2\n",
       "Driskell to Sherman Parkway                       Pavement Rehabilitation, Maintenance, and complete streets improvements                                                  2\n",
       "Highway 33 to Canal School Rd                     Install Collector Street improvements                                                                                    2\n",
       "Yolo St to Jensen Rd                              Bicycle and Pedestrian Improvements                                                                                      2\n",
       "SR-108 at First Street                            Install Congestion Management improvements                                                                               1\n",
       "SR-108 at Claus                                   Install signal light at Claus & SR-108 and Install congestion Management Improvements at First Street & SR-108           1\n",
       "SR-108 to Riverbank City Limits (Near Oakdale Rd) Multi-Use Path (Class 1) and pedestrian improvements.  (Non-Motorized Transportation Plan Top 25: Route 22)              1\n",
       "S St to Q St                                      Class 2 Bicycle Lane. Lane narrowing. StanCOG Non-Motorized Transportation Master Plan Project ID: NEW-2                 1"
      ]
     },
     "metadata": {},
     "output_type": "display_data"
    }
   ],
   "source": [
    "lrtp_utils.group_duplicates(stancog, \"project_limits\", \"description\", \"total_cost\")"
   ]
  },
  {
   "cell_type": "code",
   "execution_count": 198,
   "id": "865b0816-4d3c-47df-b7d7-5827b50c7bbd",
   "metadata": {},
   "outputs": [
    {
     "data": {
      "text/html": [
       "<div>\n",
       "<style scoped>\n",
       "    .dataframe tbody tr th:only-of-type {\n",
       "        vertical-align: middle;\n",
       "    }\n",
       "\n",
       "    .dataframe tbody tr th {\n",
       "        vertical-align: top;\n",
       "    }\n",
       "\n",
       "    .dataframe thead th {\n",
       "        text-align: right;\n",
       "    }\n",
       "</style>\n",
       "<table border=\"1\" class=\"dataframe\">\n",
       "  <thead>\n",
       "    <tr style=\"text-align: right;\">\n",
       "      <th></th>\n",
       "      <th>jurisdiction</th>\n",
       "      <th>location</th>\n",
       "      <th>project_limits</th>\n",
       "      <th>description</th>\n",
       "      <th>total_cost</th>\n",
       "      <th>open_to_traffic</th>\n",
       "      <th>funding_source</th>\n",
       "      <th>system_preserv_</th>\n",
       "      <th>capacity_enhance_</th>\n",
       "      <th>safety</th>\n",
       "      <th>oper_</th>\n",
       "      <th>complete_streets</th>\n",
       "      <th>active\\ntransporta_tion</th>\n",
       "      <th>transit</th>\n",
       "      <th>other</th>\n",
       "      <th>title</th>\n",
       "    </tr>\n",
       "  </thead>\n",
       "  <tbody>\n",
       "    <tr>\n",
       "      <th>0</th>\n",
       "      <td>Ceres</td>\n",
       "      <td>Morgan Rd</td>\n",
       "      <td>Service Rd &amp; Morgan Rd</td>\n",
       "      <td>Install Traffic Signal</td>\n",
       "      <td>347800</td>\n",
       "      <td>2022</td>\n",
       "      <td>PFF, CMAQ</td>\n",
       "      <td>NaN</td>\n",
       "      <td>NaN</td>\n",
       "      <td>X</td>\n",
       "      <td>X</td>\n",
       "      <td>NaN</td>\n",
       "      <td>NaN</td>\n",
       "      <td>NaN</td>\n",
       "      <td>NaN</td>\n",
       "      <td>None</td>\n",
       "    </tr>\n",
       "    <tr>\n",
       "      <th>4</th>\n",
       "      <td>Ceres</td>\n",
       "      <td>Crows Landing Rd</td>\n",
       "      <td>Crows Landing Rd &amp; A Street</td>\n",
       "      <td>Install Traffic Signal</td>\n",
       "      <td>430500</td>\n",
       "      <td>2025</td>\n",
       "      <td>WLSP, PFF</td>\n",
       "      <td>NaN</td>\n",
       "      <td>NaN</td>\n",
       "      <td>X</td>\n",
       "      <td>X</td>\n",
       "      <td>NaN</td>\n",
       "      <td>NaN</td>\n",
       "      <td>NaN</td>\n",
       "      <td>NaN</td>\n",
       "      <td>None</td>\n",
       "    </tr>\n",
       "    <tr>\n",
       "      <th>6</th>\n",
       "      <td>Ceres</td>\n",
       "      <td>Hatch Rd</td>\n",
       "      <td>Hatch Rd &amp; Faith Home Rd</td>\n",
       "      <td>Install Traffic Signal</td>\n",
       "      <td>600000</td>\n",
       "      <td>2025</td>\n",
       "      <td>CMAQ, PFF</td>\n",
       "      <td>NaN</td>\n",
       "      <td>NaN</td>\n",
       "      <td>X</td>\n",
       "      <td>X</td>\n",
       "      <td>NaN</td>\n",
       "      <td>NaN</td>\n",
       "      <td>NaN</td>\n",
       "      <td>NaN</td>\n",
       "      <td>None</td>\n",
       "    </tr>\n",
       "    <tr>\n",
       "      <th>9</th>\n",
       "      <td>Ceres</td>\n",
       "      <td>Crows Landing Rd</td>\n",
       "      <td>Crows Landing Rd &amp; Grayson Rd</td>\n",
       "      <td>Install Traffic Signal</td>\n",
       "      <td>499100</td>\n",
       "      <td>2040</td>\n",
       "      <td>CMAQ, PFF</td>\n",
       "      <td>NaN</td>\n",
       "      <td>NaN</td>\n",
       "      <td>X</td>\n",
       "      <td>X</td>\n",
       "      <td>NaN</td>\n",
       "      <td>NaN</td>\n",
       "      <td>NaN</td>\n",
       "      <td>NaN</td>\n",
       "      <td>None</td>\n",
       "    </tr>\n",
       "    <tr>\n",
       "      <th>10</th>\n",
       "      <td>Ceres</td>\n",
       "      <td>Service Road</td>\n",
       "      <td>Service Road &amp; Ustick</td>\n",
       "      <td>Install Traffic Signal</td>\n",
       "      <td>499100</td>\n",
       "      <td>2035</td>\n",
       "      <td>WLSP, PFF</td>\n",
       "      <td>NaN</td>\n",
       "      <td>NaN</td>\n",
       "      <td>X</td>\n",
       "      <td>X</td>\n",
       "      <td>NaN</td>\n",
       "      <td>NaN</td>\n",
       "      <td>NaN</td>\n",
       "      <td>NaN</td>\n",
       "      <td>None</td>\n",
       "    </tr>\n",
       "    <tr>\n",
       "      <th>11</th>\n",
       "      <td>Ceres</td>\n",
       "      <td>Whitmore Ave</td>\n",
       "      <td>Whitmore Ave. @  E Street</td>\n",
       "      <td>Install Traffic Signal</td>\n",
       "      <td>499100</td>\n",
       "      <td>2030</td>\n",
       "      <td>WLSP, PFF</td>\n",
       "      <td>NaN</td>\n",
       "      <td>NaN</td>\n",
       "      <td>X</td>\n",
       "      <td>X</td>\n",
       "      <td>NaN</td>\n",
       "      <td>NaN</td>\n",
       "      <td>NaN</td>\n",
       "      <td>NaN</td>\n",
       "      <td>None</td>\n",
       "    </tr>\n",
       "    <tr>\n",
       "      <th>12</th>\n",
       "      <td>Ceres</td>\n",
       "      <td>Whitmore Ave</td>\n",
       "      <td>Whitmore Ave &amp; Boothe Rd</td>\n",
       "      <td>Install Traffic Signal</td>\n",
       "      <td>514000</td>\n",
       "      <td>2025</td>\n",
       "      <td>CMAQ, PFF</td>\n",
       "      <td>NaN</td>\n",
       "      <td>NaN</td>\n",
       "      <td>X</td>\n",
       "      <td>X</td>\n",
       "      <td>NaN</td>\n",
       "      <td>NaN</td>\n",
       "      <td>NaN</td>\n",
       "      <td>NaN</td>\n",
       "      <td>None</td>\n",
       "    </tr>\n",
       "    <tr>\n",
       "      <th>13</th>\n",
       "      <td>Ceres</td>\n",
       "      <td>Whitmore Ave</td>\n",
       "      <td>Whitmore Ave. @ Knox Rd</td>\n",
       "      <td>Install Traffic Signal</td>\n",
       "      <td>545300</td>\n",
       "      <td>2030</td>\n",
       "      <td>WLSP, PFF</td>\n",
       "      <td>NaN</td>\n",
       "      <td>NaN</td>\n",
       "      <td>X</td>\n",
       "      <td>X</td>\n",
       "      <td>NaN</td>\n",
       "      <td>NaN</td>\n",
       "      <td>NaN</td>\n",
       "      <td>NaN</td>\n",
       "      <td>None</td>\n",
       "    </tr>\n",
       "    <tr>\n",
       "      <th>16</th>\n",
       "      <td>Ceres</td>\n",
       "      <td>Crows Landing Rd</td>\n",
       "      <td>Crows Landing Rd &amp; B Street</td>\n",
       "      <td>Install Traffic Signal</td>\n",
       "      <td>578500</td>\n",
       "      <td>2030</td>\n",
       "      <td>WLSP, PFF</td>\n",
       "      <td>NaN</td>\n",
       "      <td>NaN</td>\n",
       "      <td>X</td>\n",
       "      <td>X</td>\n",
       "      <td>NaN</td>\n",
       "      <td>NaN</td>\n",
       "      <td>NaN</td>\n",
       "      <td>NaN</td>\n",
       "      <td>None</td>\n",
       "    </tr>\n",
       "    <tr>\n",
       "      <th>17</th>\n",
       "      <td>Ceres</td>\n",
       "      <td>Ustick Rd</td>\n",
       "      <td>Ustick Rd &amp; F Street</td>\n",
       "      <td>Install Traffic Signal</td>\n",
       "      <td>578500</td>\n",
       "      <td>2030</td>\n",
       "      <td>WLSP, PFF</td>\n",
       "      <td>NaN</td>\n",
       "      <td>NaN</td>\n",
       "      <td>X</td>\n",
       "      <td>X</td>\n",
       "      <td>NaN</td>\n",
       "      <td>NaN</td>\n",
       "      <td>NaN</td>\n",
       "      <td>NaN</td>\n",
       "      <td>None</td>\n",
       "    </tr>\n",
       "    <tr>\n",
       "      <th>18</th>\n",
       "      <td>Ceres</td>\n",
       "      <td>Whitmore Ave</td>\n",
       "      <td>Whitmore Ave. and Ustick Rd</td>\n",
       "      <td>Install Traffic Signal</td>\n",
       "      <td>578500</td>\n",
       "      <td>2030</td>\n",
       "      <td>WLSP, PFF</td>\n",
       "      <td>NaN</td>\n",
       "      <td>NaN</td>\n",
       "      <td>X</td>\n",
       "      <td>X</td>\n",
       "      <td>NaN</td>\n",
       "      <td>NaN</td>\n",
       "      <td>NaN</td>\n",
       "      <td>NaN</td>\n",
       "      <td>None</td>\n",
       "    </tr>\n",
       "    <tr>\n",
       "      <th>20</th>\n",
       "      <td>Ceres</td>\n",
       "      <td>Ustick Rd</td>\n",
       "      <td>Ustick Rd &amp; C Street</td>\n",
       "      <td>Install Traffic Signal</td>\n",
       "      <td>670700</td>\n",
       "      <td>2030</td>\n",
       "      <td>WLSP, PFF</td>\n",
       "      <td>NaN</td>\n",
       "      <td>NaN</td>\n",
       "      <td>X</td>\n",
       "      <td>X</td>\n",
       "      <td>NaN</td>\n",
       "      <td>NaN</td>\n",
       "      <td>NaN</td>\n",
       "      <td>NaN</td>\n",
       "      <td>None</td>\n",
       "    </tr>\n",
       "    <tr>\n",
       "      <th>21</th>\n",
       "      <td>Ceres</td>\n",
       "      <td>Whitmore Ave</td>\n",
       "      <td>Whitmore Ave &amp; Faith Home Rd</td>\n",
       "      <td>Install Traffic Signal</td>\n",
       "      <td>670700</td>\n",
       "      <td>2035</td>\n",
       "      <td>CMAQ, PFF</td>\n",
       "      <td>NaN</td>\n",
       "      <td>NaN</td>\n",
       "      <td>X</td>\n",
       "      <td>X</td>\n",
       "      <td>NaN</td>\n",
       "      <td>NaN</td>\n",
       "      <td>NaN</td>\n",
       "      <td>NaN</td>\n",
       "      <td>None</td>\n",
       "    </tr>\n",
       "    <tr>\n",
       "      <th>22</th>\n",
       "      <td>Ceres</td>\n",
       "      <td>Ustick Rd</td>\n",
       "      <td>Ustick Rd &amp; G Street</td>\n",
       "      <td>Install Traffic Signal</td>\n",
       "      <td>777500</td>\n",
       "      <td>2040</td>\n",
       "      <td>WLSP, PFF</td>\n",
       "      <td>NaN</td>\n",
       "      <td>NaN</td>\n",
       "      <td>X</td>\n",
       "      <td>X</td>\n",
       "      <td>NaN</td>\n",
       "      <td>NaN</td>\n",
       "      <td>NaN</td>\n",
       "      <td>NaN</td>\n",
       "      <td>None</td>\n",
       "    </tr>\n",
       "    <tr>\n",
       "      <th>81</th>\n",
       "      <td>Newman</td>\n",
       "      <td>SR-33 (South)</td>\n",
       "      <td>Highway 33/Sherman Parkway</td>\n",
       "      <td>Install Traffic Signal</td>\n",
       "      <td>1900200</td>\n",
       "      <td>2025</td>\n",
       "      <td>CFF, LTF, CMAQ, STBGP, Local</td>\n",
       "      <td>NaN</td>\n",
       "      <td>NaN</td>\n",
       "      <td>X</td>\n",
       "      <td>NaN</td>\n",
       "      <td>X</td>\n",
       "      <td>NaN</td>\n",
       "      <td>NaN</td>\n",
       "      <td>NaN</td>\n",
       "      <td>None</td>\n",
       "    </tr>\n",
       "  </tbody>\n",
       "</table>\n",
       "</div>"
      ],
      "text/plain": [
       "0  jurisdiction          location                 project_limits  \\\n",
       "0         Ceres         Morgan Rd         Service Rd & Morgan Rd   \n",
       "4         Ceres  Crows Landing Rd    Crows Landing Rd & A Street   \n",
       "6         Ceres          Hatch Rd       Hatch Rd & Faith Home Rd   \n",
       "9         Ceres  Crows Landing Rd  Crows Landing Rd & Grayson Rd   \n",
       "10        Ceres      Service Road          Service Road & Ustick   \n",
       "11        Ceres      Whitmore Ave      Whitmore Ave. @  E Street   \n",
       "12        Ceres      Whitmore Ave       Whitmore Ave & Boothe Rd   \n",
       "13        Ceres      Whitmore Ave        Whitmore Ave. @ Knox Rd   \n",
       "16        Ceres  Crows Landing Rd    Crows Landing Rd & B Street   \n",
       "17        Ceres         Ustick Rd           Ustick Rd & F Street   \n",
       "18        Ceres      Whitmore Ave    Whitmore Ave. and Ustick Rd   \n",
       "20        Ceres         Ustick Rd           Ustick Rd & C Street   \n",
       "21        Ceres      Whitmore Ave   Whitmore Ave & Faith Home Rd   \n",
       "22        Ceres         Ustick Rd           Ustick Rd & G Street   \n",
       "81       Newman     SR-33 (South)     Highway 33/Sherman Parkway   \n",
       "\n",
       "0              description total_cost open_to_traffic  \\\n",
       "0   Install Traffic Signal     347800            2022   \n",
       "4   Install Traffic Signal     430500            2025   \n",
       "6   Install Traffic Signal     600000            2025   \n",
       "9   Install Traffic Signal     499100            2040   \n",
       "10  Install Traffic Signal     499100            2035   \n",
       "11  Install Traffic Signal     499100            2030   \n",
       "12  Install Traffic Signal     514000            2025   \n",
       "13  Install Traffic Signal     545300            2030   \n",
       "16  Install Traffic Signal     578500            2030   \n",
       "17  Install Traffic Signal     578500            2030   \n",
       "18  Install Traffic Signal     578500            2030   \n",
       "20  Install Traffic Signal     670700            2030   \n",
       "21  Install Traffic Signal     670700            2035   \n",
       "22  Install Traffic Signal     777500            2040   \n",
       "81  Install Traffic Signal    1900200            2025   \n",
       "\n",
       "0                 funding_source system_preserv_ capacity_enhance_ safety  \\\n",
       "0                      PFF, CMAQ             NaN               NaN      X   \n",
       "4                      WLSP, PFF             NaN               NaN      X   \n",
       "6                      CMAQ, PFF             NaN               NaN      X   \n",
       "9                      CMAQ, PFF             NaN               NaN      X   \n",
       "10                     WLSP, PFF             NaN               NaN      X   \n",
       "11                     WLSP, PFF             NaN               NaN      X   \n",
       "12                     CMAQ, PFF             NaN               NaN      X   \n",
       "13                     WLSP, PFF             NaN               NaN      X   \n",
       "16                     WLSP, PFF             NaN               NaN      X   \n",
       "17                     WLSP, PFF             NaN               NaN      X   \n",
       "18                     WLSP, PFF             NaN               NaN      X   \n",
       "20                     WLSP, PFF             NaN               NaN      X   \n",
       "21                     CMAQ, PFF             NaN               NaN      X   \n",
       "22                     WLSP, PFF             NaN               NaN      X   \n",
       "81  CFF, LTF, CMAQ, STBGP, Local             NaN               NaN      X   \n",
       "\n",
       "0  oper_ complete_streets active\\ntransporta_tion transit other title  \n",
       "0      X              NaN                     NaN     NaN   NaN  None  \n",
       "4      X              NaN                     NaN     NaN   NaN  None  \n",
       "6      X              NaN                     NaN     NaN   NaN  None  \n",
       "9      X              NaN                     NaN     NaN   NaN  None  \n",
       "10     X              NaN                     NaN     NaN   NaN  None  \n",
       "11     X              NaN                     NaN     NaN   NaN  None  \n",
       "12     X              NaN                     NaN     NaN   NaN  None  \n",
       "13     X              NaN                     NaN     NaN   NaN  None  \n",
       "16     X              NaN                     NaN     NaN   NaN  None  \n",
       "17     X              NaN                     NaN     NaN   NaN  None  \n",
       "18     X              NaN                     NaN     NaN   NaN  None  \n",
       "20     X              NaN                     NaN     NaN   NaN  None  \n",
       "21     X              NaN                     NaN     NaN   NaN  None  \n",
       "22     X              NaN                     NaN     NaN   NaN  None  \n",
       "81   NaN                X                     NaN     NaN   NaN  None  "
      ]
     },
     "execution_count": 198,
     "metadata": {},
     "output_type": "execute_result"
    }
   ],
   "source": [
    "stancog.loc[(stancog.description == \"Install Traffic Signal\")\n",
    "]"
   ]
  },
  {
   "cell_type": "markdown",
   "id": "f806dda3-1fb0-4c41-b6b3-729bf31afc3a",
   "metadata": {
    "tags": []
   },
   "source": [
    "### TMPO (Tahoe)\n",
    "* Open data portal: https://www.tahoeopendata.org/search?tags=transportation\n",
    "* https://www.tahoeopendata.org/datasets/TRPA::2020-regional-transportation-plan-projects/about"
   ]
  },
  {
   "cell_type": "code",
   "execution_count": 199,
   "id": "42199cf2-c74f-4311-90a3-f97bb50f02d5",
   "metadata": {},
   "outputs": [],
   "source": [
    "tahoe = lrtp_utils.tmpo_lrtp()"
   ]
  },
  {
   "cell_type": "markdown",
   "id": "cf52b56b-cb26-4784-a794-25180ee1ce2c",
   "metadata": {},
   "source": [
    "### TCAG Tulare County Association of Governments (TCAG)"
   ]
  },
  {
   "cell_type": "code",
   "execution_count": 200,
   "id": "5cac2a0f-cee5-401c-9c83-68ba056a3578",
   "metadata": {},
   "outputs": [],
   "source": [
    "tcag = lrtp_utils.tcag_lrtp()"
   ]
  },
  {
   "cell_type": "code",
   "execution_count": 201,
   "id": "b51df71b-aff6-47d9-85a6-3fca3395949e",
   "metadata": {},
   "outputs": [
    {
     "data": {
      "text/html": [
       "<div>\n",
       "<style scoped>\n",
       "    .dataframe tbody tr th:only-of-type {\n",
       "        vertical-align: middle;\n",
       "    }\n",
       "\n",
       "    .dataframe tbody tr th {\n",
       "        vertical-align: top;\n",
       "    }\n",
       "\n",
       "    .dataframe thead th {\n",
       "        text-align: right;\n",
       "    }\n",
       "</style>\n",
       "<table border=\"1\" class=\"dataframe\">\n",
       "  <thead>\n",
       "    <tr style=\"text-align: right;\">\n",
       "      <th></th>\n",
       "      <th></th>\n",
       "      <th>project_category</th>\n",
       "    </tr>\n",
       "    <tr>\n",
       "      <th>project_title</th>\n",
       "      <th>cost_x_1,000</th>\n",
       "      <th></th>\n",
       "    </tr>\n",
       "  </thead>\n",
       "  <tbody>\n",
       "    <tr>\n",
       "      <th>Bike/Ped Improvements next 9 years</th>\n",
       "      <th>0.00</th>\n",
       "      <td>6</td>\n",
       "    </tr>\n",
       "    <tr>\n",
       "      <th>Bike/Ped Improvements next 9 yrs second half of measure R</th>\n",
       "      <th>500.00</th>\n",
       "      <td>3</td>\n",
       "    </tr>\n",
       "    <tr>\n",
       "      <th>Avenue 316 Construct new roadway</th>\n",
       "      <th>6500.00</th>\n",
       "      <td>3</td>\n",
       "    </tr>\n",
       "    <tr>\n",
       "      <th>Transit Center Minor</th>\n",
       "      <th>300.00</th>\n",
       "      <td>2</td>\n",
       "    </tr>\n",
       "    <tr>\n",
       "      <th>Bike/Ped Improvements next 9 years</th>\n",
       "      <th>390.00</th>\n",
       "      <td>2</td>\n",
       "    </tr>\n",
       "  </tbody>\n",
       "</table>\n",
       "</div>"
      ],
      "text/plain": [
       "                                                                        project_category\n",
       "project_title                                             cost_x_1,000                  \n",
       "Bike/Ped Improvements next 9 years                        0.00                         6\n",
       "Bike/Ped Improvements next 9 yrs second half of measure R 500.00                       3\n",
       "Avenue 316 Construct new roadway                          6500.00                      3\n",
       "Transit Center Minor                                      300.00                       2\n",
       "Bike/Ped Improvements next 9 years                        390.00                       2"
      ]
     },
     "execution_count": 201,
     "metadata": {},
     "output_type": "execute_result"
    }
   ],
   "source": [
    "tcag.groupby([\"project_title\", \"cost_x_1,000\"]).agg(\n",
    "    {\"project_category\": \"count\"}\n",
    ").sort_values(\"project_category\", ascending=False).head()"
   ]
  },
  {
   "cell_type": "code",
   "execution_count": 202,
   "id": "15fd29de-b99a-45e5-9471-ff7da6157b88",
   "metadata": {},
   "outputs": [
    {
     "data": {
      "text/html": [
       "<div>\n",
       "<style scoped>\n",
       "    .dataframe tbody tr th:only-of-type {\n",
       "        vertical-align: middle;\n",
       "    }\n",
       "\n",
       "    .dataframe tbody tr th {\n",
       "        vertical-align: top;\n",
       "    }\n",
       "\n",
       "    .dataframe thead th {\n",
       "        text-align: right;\n",
       "    }\n",
       "</style>\n",
       "<table border=\"1\" class=\"dataframe\">\n",
       "  <thead>\n",
       "    <tr style=\"text-align: right;\">\n",
       "      <th></th>\n",
       "      <th></th>\n",
       "      <th>cost_x_1,000</th>\n",
       "    </tr>\n",
       "    <tr>\n",
       "      <th>project_title</th>\n",
       "      <th>project_description</th>\n",
       "      <th></th>\n",
       "    </tr>\n",
       "  </thead>\n",
       "  <tbody>\n",
       "    <tr>\n",
       "      <th>Bike/Ped</th>\n",
       "      <th>Various</th>\n",
       "      <td>2</td>\n",
       "    </tr>\n",
       "    <tr>\n",
       "      <th>Santa Fe Trail Regional</th>\n",
       "      <th>Santa Fe Trail Regional</th>\n",
       "      <td>2</td>\n",
       "    </tr>\n",
       "    <tr>\n",
       "      <th rowspan=\"2\" valign=\"top\">Purchase Buses</th>\n",
       "      <th>Fleet replacement, expansion and electrification, 2036-2046</th>\n",
       "      <td>2</td>\n",
       "    </tr>\n",
       "    <tr>\n",
       "      <th>Fleet replacement, expansion and electrification, 2022-2035</th>\n",
       "      <td>2</td>\n",
       "    </tr>\n",
       "    <tr>\n",
       "      <th>Bike/Ped Improvements next 9 yrs second half of measure R</th>\n",
       "      <th>used $49,000 for alta heritage; $50K used for El Monte Way,</th>\n",
       "      <td>2</td>\n",
       "    </tr>\n",
       "    <tr>\n",
       "      <th>Bike/Ped Improvements next 9 years</th>\n",
       "      <th>Used $100,000 and $200,000 to Alta Heritage and Roosevelt Paseo respectively</th>\n",
       "      <td>2</td>\n",
       "    </tr>\n",
       "    <tr>\n",
       "      <th>SR 198 Construct new I/C</th>\n",
       "      <th>SR-198 at Road 148 (Tower) Construct new interchange</th>\n",
       "      <td>1</td>\n",
       "    </tr>\n",
       "    <tr>\n",
       "      <th>SR 198 Intersection Improvements</th>\n",
       "      <th>SR-198 at Spruce Rd Roundabout and local street improvements</th>\n",
       "      <td>1</td>\n",
       "    </tr>\n",
       "    <tr>\n",
       "      <th rowspan=\"2\" valign=\"top\">SR 198 Operational  I/C improve.</th>\n",
       "      <th>SR-198 at Lovers Lane Intersection, rehab, operational improvements</th>\n",
       "      <td>1</td>\n",
       "    </tr>\n",
       "    <tr>\n",
       "      <th>SR-198 downtown corridor interchanges Turn lane, intersection, ramp improvements</th>\n",
       "      <td>1</td>\n",
       "    </tr>\n",
       "  </tbody>\n",
       "</table>\n",
       "</div>"
      ],
      "text/plain": [
       "                                                                                                                                            cost_x_1,000\n",
       "project_title                                             project_description                                                                           \n",
       "Bike/Ped                                                  Various                                                                                      2\n",
       "Santa Fe Trail Regional                                   Santa Fe Trail Regional                                                                      2\n",
       "Purchase Buses                                            Fleet replacement, expansion and electrification, 2036-2046                                  2\n",
       "                                                          Fleet replacement, expansion and electrification, 2022-2035                                  2\n",
       "Bike/Ped Improvements next 9 yrs second half of measure R used $49,000 for alta heritage; $50K used for El Monte Way,                                  2\n",
       "Bike/Ped Improvements next 9 years                        Used $100,000 and $200,000 to Alta Heritage and Roosevelt Paseo respectively                 2\n",
       "SR 198 Construct new I/C                                  SR-198 at Road 148 (Tower) Construct new interchange                                         1\n",
       "SR 198 Intersection Improvements                          SR-198 at Spruce Rd Roundabout and local street improvements                                 1\n",
       "SR 198 Operational  I/C improve.                          SR-198 at Lovers Lane Intersection, rehab, operational improvements                          1\n",
       "                                                          SR-198 downtown corridor interchanges Turn lane, intersection, ramp improvements             1"
      ]
     },
     "metadata": {},
     "output_type": "display_data"
    }
   ],
   "source": [
    "lrtp_utils.group_duplicates(\n",
    "    tcag, \"project_title\", \"project_description\", \"cost_x_1,000\"\n",
    ")"
   ]
  },
  {
   "cell_type": "code",
   "execution_count": 203,
   "id": "0b52bc82-b8bb-45f6-9ef9-6f1e0c369a87",
   "metadata": {},
   "outputs": [
    {
     "data": {
      "text/html": [
       "<div>\n",
       "<style scoped>\n",
       "    .dataframe tbody tr th:only-of-type {\n",
       "        vertical-align: middle;\n",
       "    }\n",
       "\n",
       "    .dataframe tbody tr th {\n",
       "        vertical-align: top;\n",
       "    }\n",
       "\n",
       "    .dataframe thead th {\n",
       "        text-align: right;\n",
       "    }\n",
       "</style>\n",
       "<table border=\"1\" class=\"dataframe\">\n",
       "  <thead>\n",
       "    <tr style=\"text-align: right;\">\n",
       "      <th></th>\n",
       "      <th>project_id__if_applicable_</th>\n",
       "      <th>jurisdiction</th>\n",
       "      <th>project_title</th>\n",
       "      <th>project_description</th>\n",
       "      <th>project_category</th>\n",
       "      <th>completed_by_2035_y_n</th>\n",
       "      <th>local</th>\n",
       "      <th>regional</th>\n",
       "      <th>state</th>\n",
       "      <th>federal</th>\n",
       "      <th>cost_x_1,000</th>\n",
       "      <th>completion_year</th>\n",
       "      <th>cost_in_millions</th>\n",
       "    </tr>\n",
       "  </thead>\n",
       "  <tbody>\n",
       "    <tr>\n",
       "      <th>49</th>\n",
       "      <td>NaN</td>\n",
       "      <td>Visalia (Regional)</td>\n",
       "      <td>Santa Fe Trail Regional</td>\n",
       "      <td>Santa Fe Trail Regional</td>\n",
       "      <td>Active Transportation</td>\n",
       "      <td>Y</td>\n",
       "      <td>NaN</td>\n",
       "      <td>X</td>\n",
       "      <td>NaN</td>\n",
       "      <td>NaN</td>\n",
       "      <td>586.37</td>\n",
       "      <td>2035</td>\n",
       "      <td>586370.00</td>\n",
       "    </tr>\n",
       "    <tr>\n",
       "      <th>50</th>\n",
       "      <td>NaN</td>\n",
       "      <td>TCAG</td>\n",
       "      <td>Santa Fe Trail Regional</td>\n",
       "      <td>Santa Fe Trail Regional</td>\n",
       "      <td>Active Transportation</td>\n",
       "      <td>Y</td>\n",
       "      <td>NaN</td>\n",
       "      <td>X</td>\n",
       "      <td>NaN</td>\n",
       "      <td>NaN</td>\n",
       "      <td>2413.63</td>\n",
       "      <td>2035</td>\n",
       "      <td>2413630.00</td>\n",
       "    </tr>\n",
       "  </tbody>\n",
       "</table>\n",
       "</div>"
      ],
      "text/plain": [
       "   project_id__if_applicable_         jurisdiction            project_title  \\\n",
       "49                        NaN   Visalia (Regional)  Santa Fe Trail Regional   \n",
       "50                        NaN                 TCAG  Santa Fe Trail Regional   \n",
       "\n",
       "        project_description       project_category completed_by_2035_y_n  \\\n",
       "49  Santa Fe Trail Regional  Active Transportation                     Y   \n",
       "50  Santa Fe Trail Regional  Active Transportation                     Y   \n",
       "\n",
       "   local regional state federal  cost_x_1,000 completion_year  \\\n",
       "49   NaN        X   NaN     NaN        586.37            2035   \n",
       "50   NaN        X   NaN     NaN       2413.63            2035   \n",
       "\n",
       "    cost_in_millions  \n",
       "49         586370.00  \n",
       "50        2413630.00  "
      ]
     },
     "execution_count": 203,
     "metadata": {},
     "output_type": "execute_result"
    }
   ],
   "source": [
    "tcag.loc[\n",
    "    (tcag.project_title == \"Santa Fe Trail Regional\")\n",
    "    & (tcag.project_description == \"Santa Fe Trail Regional\")\n",
    "]"
   ]
  },
  {
   "cell_type": "markdown",
   "id": "c471e856-9603-4174-85e3-7b5612599f76",
   "metadata": {
    "tags": []
   },
   "source": [
    "## Stack"
   ]
  },
  {
   "cell_type": "markdown",
   "id": "93a08cfd-9bf0-43c5-aa47-360644e03d3b",
   "metadata": {
    "tags": []
   },
   "source": [
    "### Add Lost"
   ]
  },
  {
   "cell_type": "code",
   "execution_count": 204,
   "id": "f6029dfe-f101-4907-b124-02ac0a08983a",
   "metadata": {},
   "outputs": [
    {
     "name": "stdout",
     "output_type": "stream",
     "text": [
      "96 rows are headers\n",
      "65 rows are headers\n",
      "360 rows are headers\n",
      "68 rows are headers\n"
     ]
    }
   ],
   "source": [
    "all_mpo_df, all_mpo_gdf = lrtp_utils.all_mpo(True)"
   ]
  },
  {
   "cell_type": "code",
   "execution_count": 205,
   "id": "6772afd6-afde-4d82-a09c-083b1ae48736",
   "metadata": {},
   "outputs": [],
   "source": [
    "# los_df = harmonization_utils.load_lost()"
   ]
  },
  {
   "cell_type": "code",
   "execution_count": 206,
   "id": "484a3f2a-26e4-435d-a4c2-6d51840ce4fd",
   "metadata": {},
   "outputs": [],
   "source": [
    "# los_df.sample()"
   ]
  },
  {
   "cell_type": "code",
   "execution_count": 207,
   "id": "be762f7a-ed82-42ed-bcd0-289920b33f7e",
   "metadata": {},
   "outputs": [
    {
     "data": {
      "text/plain": [
       "16276"
      ]
     },
     "execution_count": 207,
     "metadata": {},
     "output_type": "execute_result"
    }
   ],
   "source": [
    "len(all_mpo_df)"
   ]
  },
  {
   "cell_type": "code",
   "execution_count": 208,
   "id": "52549449-0d5d-4e68-90bc-0cae80122364",
   "metadata": {},
   "outputs": [
    {
     "data": {
      "text/plain": [
       "(1355, 10)"
      ]
     },
     "execution_count": 208,
     "metadata": {},
     "output_type": "execute_result"
    }
   ],
   "source": [
    "all_mpo_gdf.shape"
   ]
  },
  {
   "cell_type": "code",
   "execution_count": 209,
   "id": "3c3e90b2-46b6-465e-9237-230e5e10103e",
   "metadata": {},
   "outputs": [
    {
     "data": {
      "text/plain": [
       "array(['Bcag Lrtp', 'Mtc Lrtp', 'Sandag Lrtp', 'Slocog Lrtp', 'Tmpo Lrtp'],\n",
       "      dtype=object)"
      ]
     },
     "execution_count": 209,
     "metadata": {},
     "output_type": "execute_result"
    }
   ],
   "source": [
    "all_mpo_gdf.data_source.unique()"
   ]
  },
  {
   "cell_type": "code",
   "execution_count": 210,
   "id": "5b195e08-e9eb-4614-b01d-1d865c8d1c20",
   "metadata": {},
   "outputs": [
    {
     "data": {
      "text/plain": [
       "(16276, 10)"
      ]
     },
     "execution_count": 210,
     "metadata": {},
     "output_type": "execute_result"
    }
   ],
   "source": [
    "all_mpo_df.shape"
   ]
  },
  {
   "cell_type": "code",
   "execution_count": 211,
   "id": "5ea572ea-91ad-4f8f-8e0b-dfd5b8dae60d",
   "metadata": {},
   "outputs": [
    {
     "data": {
      "text/plain": [
       "Fresno Cog Lrtp    3147\n",
       "Scag Lrtp          2952\n",
       "Lost               1849\n",
       "Sacog Lrtp         1601\n",
       "Kern Cog Lrtp      1411\n",
       "Scrtpa Lrtp        1066\n",
       "Madera Ctc Lrtp     765\n",
       "Stancog Lrtp        552\n",
       "Slocog Lrtp         420\n",
       "Sbcag Lrtp          419\n",
       "Sandag Lrtp         416\n",
       "Tcag Lrtp           337\n",
       "Mtc Lrtp            282\n",
       "Ambag Lrtp          280\n",
       "Sjcog Lrtp          262\n",
       "Bcag Lrtp           250\n",
       "Mcagov Lrtp         108\n",
       "Kcag Lrtp            84\n",
       "Tmpo Lrtp            75\n",
       "Name: data_source, dtype: int64"
      ]
     },
     "execution_count": 211,
     "metadata": {},
     "output_type": "execute_result"
    }
   ],
   "source": [
    "all_mpo_df.data_source.value_counts()"
   ]
  },
  {
   "cell_type": "code",
   "execution_count": 212,
   "id": "a576b5eb-52f4-4e28-a54b-f513c16d28e6",
   "metadata": {},
   "outputs": [],
   "source": [
    "# all_mpo_df.drop(columns = ['notes']).sample(3)"
   ]
  },
  {
   "cell_type": "code",
   "execution_count": 213,
   "id": "df5445a0-4fee-437f-bd0d-1e01e7192218",
   "metadata": {},
   "outputs": [],
   "source": [
    "gcs_test = pd.read_excel(\"gs://calitp-analytics-data/data-analyses/project_list/LRTP/all_LRTP_LOST.xlsx\")"
   ]
  },
  {
   "cell_type": "code",
   "execution_count": 214,
   "id": "7a07a07f-a1f9-49ea-88ab-ac9736410c8d",
   "metadata": {},
   "outputs": [
    {
     "data": {
      "text/html": [
       "<div>\n",
       "<style scoped>\n",
       "    .dataframe tbody tr th:only-of-type {\n",
       "        vertical-align: middle;\n",
       "    }\n",
       "\n",
       "    .dataframe tbody tr th {\n",
       "        vertical-align: top;\n",
       "    }\n",
       "\n",
       "    .dataframe thead th {\n",
       "        text-align: right;\n",
       "    }\n",
       "</style>\n",
       "<table border=\"1\" class=\"dataframe\">\n",
       "  <thead>\n",
       "    <tr style=\"text-align: right;\">\n",
       "      <th></th>\n",
       "      <th>project_title</th>\n",
       "      <th>lead_agency</th>\n",
       "      <th>project_year</th>\n",
       "      <th>project_description</th>\n",
       "      <th>total_project_cost</th>\n",
       "      <th>city</th>\n",
       "      <th>county</th>\n",
       "      <th>data_source</th>\n",
       "      <th>notes</th>\n",
       "    </tr>\n",
       "  </thead>\n",
       "  <tbody>\n",
       "    <tr>\n",
       "      <th>5668</th>\n",
       "      <td>Bus Shelters #3</td>\n",
       "      <td>Madera Ctc</td>\n",
       "      <td>NaN</td>\n",
       "      <td>New Bus Stop Shelters</td>\n",
       "      <td>789078.00</td>\n",
       "      <td>None</td>\n",
       "      <td>None</td>\n",
       "      <td>Madera Ctc Lrtp</td>\n",
       "      <td>Category: Public Transit,  Location: Nan</td>\n",
       "    </tr>\n",
       "  </tbody>\n",
       "</table>\n",
       "</div>"
      ],
      "text/plain": [
       "        project_title lead_agency project_year    project_description  \\\n",
       "5668  Bus Shelters #3  Madera Ctc          NaN  New Bus Stop Shelters   \n",
       "\n",
       "      total_project_cost  city county      data_source  \\\n",
       "5668           789078.00  None   None  Madera Ctc Lrtp   \n",
       "\n",
       "                                         notes  \n",
       "5668  Category: Public Transit,  Location: Nan  "
      ]
     },
     "execution_count": 214,
     "metadata": {},
     "output_type": "execute_result"
    }
   ],
   "source": [
    "gcs_test.sample()"
   ]
  },
  {
   "cell_type": "code",
   "execution_count": 215,
   "id": "cb6c58c5-bd5c-4861-b7f4-0a9bf94fa444",
   "metadata": {},
   "outputs": [
    {
     "data": {
      "text/plain": [
       "'\\nall_mpo_gdf.explore(\\n    \"project_title\",\\n    cmap=\"tab20c\",\\n    height=400,\\n    width=600,\\n    style_kwds={\"weight\": 4},\\n    legend=False,\\n)\\n'"
      ]
     },
     "execution_count": 215,
     "metadata": {},
     "output_type": "execute_result"
    }
   ],
   "source": [
    "\"\"\"\n",
    "all_mpo_gdf.explore(\n",
    "    \"project_title\",\n",
    "    cmap=\"tab20c\",\n",
    "    height=400,\n",
    "    width=600,\n",
    "    style_kwds={\"weight\": 4},\n",
    "    legend=False,\n",
    ")\n",
    "\"\"\""
   ]
  },
  {
   "cell_type": "markdown",
   "id": "c69e9400-2b5c-4af0-82ab-d9864191ac27",
   "metadata": {},
   "source": [
    "### Cordon Pricing"
   ]
  },
  {
   "cell_type": "code",
   "execution_count": 216,
   "id": "48a098da-a194-4515-8bf9-ac08dd3b109e",
   "metadata": {},
   "outputs": [],
   "source": [
    "congest_keywords = [\n",
    "    \"congestion pricing\",\n",
    "    \"variable tolls\",\n",
    "    \"express lane\",\n",
    "    \"value pricing\",\n",
    "    \"rush hour\",\n",
    "    \"cordon\",\n",
    "    \"dynamic pricing\",\n",
    "    \"dynamically  priced\",\n",
    "    \"high occupancy\",\n",
    "    \"mobility pricing\",\n",
    "    \"occupancy\",\n",
    "    \"toll lane\",\n",
    "    \"performance pricing\",\n",
    "    \"peak travel\",\n",
    "    \"managed lane\",\n",
    "    \"tollway\",\n",
    "    \"express toll\",\n",
    "    \"fixed pricing\",\n",
    "    \"hot lane\",\n",
    "    \"hov lane\",\n",
    "    \"expressed toll lane\",\n",
    "]"
   ]
  },
  {
   "cell_type": "code",
   "execution_count": 217,
   "id": "a29ac69f-6c3b-4e39-a086-fd5b4a8e081e",
   "metadata": {},
   "outputs": [],
   "source": [
    "cordon_gdf, cordon_df = list_utils.filter_projects(\n",
    "    all_mpo_df,\n",
    "    [\n",
    "        \"project_title\",\n",
    "        \"project_description\",\n",
    "    ],\n",
    "    congest_keywords,\n",
    "    \"congestion_pricing_lrtp_lost\",\n",
    "    True,\n",
    ")"
   ]
  },
  {
   "cell_type": "code",
   "execution_count": 218,
   "id": "6c0c5fcb-fb7a-4be1-8697-7efd3dad357f",
   "metadata": {},
   "outputs": [
    {
     "data": {
      "text/plain": [
       "(175, 85)"
      ]
     },
     "execution_count": 218,
     "metadata": {},
     "output_type": "execute_result"
    }
   ],
   "source": [
    "len(cordon_df), len(cordon_gdf)"
   ]
  },
  {
   "cell_type": "code",
   "execution_count": 219,
   "id": "9b90b426-dd12-48fb-b3b5-fea1043d4309",
   "metadata": {},
   "outputs": [
    {
     "data": {
      "text/plain": [
       "0.010752027525190465"
      ]
     },
     "execution_count": 219,
     "metadata": {},
     "output_type": "execute_result"
    }
   ],
   "source": [
    "len(cordon_df) / len(all_mpo_df)"
   ]
  },
  {
   "cell_type": "code",
   "execution_count": 220,
   "id": "0b70c302-e11d-4511-a8f2-bb29ca7a230c",
   "metadata": {},
   "outputs": [
    {
     "data": {
      "text/plain": [
       "(98, 52)"
      ]
     },
     "execution_count": 220,
     "metadata": {},
     "output_type": "execute_result"
    }
   ],
   "source": [
    "cordon_df.project_title.nunique(), cordon_gdf.project_title.nunique()"
   ]
  },
  {
   "cell_type": "code",
   "execution_count": 221,
   "id": "73326293-f186-4035-b66e-efcdc8ed00e6",
   "metadata": {
    "tags": []
   },
   "outputs": [
    {
     "data": {
      "text/html": [
       "<div>\n",
       "<style scoped>\n",
       "    .dataframe tbody tr th:only-of-type {\n",
       "        vertical-align: middle;\n",
       "    }\n",
       "\n",
       "    .dataframe tbody tr th {\n",
       "        vertical-align: top;\n",
       "    }\n",
       "\n",
       "    .dataframe thead th {\n",
       "        text-align: right;\n",
       "    }\n",
       "</style>\n",
       "<table border=\"1\" class=\"dataframe\">\n",
       "  <thead>\n",
       "    <tr style=\"text-align: right;\">\n",
       "      <th></th>\n",
       "      <th>project_title</th>\n",
       "    </tr>\n",
       "    <tr>\n",
       "      <th>data_source</th>\n",
       "      <th></th>\n",
       "    </tr>\n",
       "  </thead>\n",
       "  <tbody>\n",
       "    <tr>\n",
       "      <th>Fresno Cog Lrtp</th>\n",
       "      <td>2</td>\n",
       "    </tr>\n",
       "    <tr>\n",
       "      <th>Lost</th>\n",
       "      <td>8</td>\n",
       "    </tr>\n",
       "    <tr>\n",
       "      <th>Mtc Lrtp</th>\n",
       "      <td>4</td>\n",
       "    </tr>\n",
       "    <tr>\n",
       "      <th>Sacog Lrtp</th>\n",
       "      <td>30</td>\n",
       "    </tr>\n",
       "    <tr>\n",
       "      <th>Sandag Lrtp</th>\n",
       "      <td>46</td>\n",
       "    </tr>\n",
       "    <tr>\n",
       "      <th>Sbcag Lrtp</th>\n",
       "      <td>4</td>\n",
       "    </tr>\n",
       "    <tr>\n",
       "      <th>Scag Lrtp</th>\n",
       "      <td>1</td>\n",
       "    </tr>\n",
       "    <tr>\n",
       "      <th>Sjcog Lrtp</th>\n",
       "      <td>1</td>\n",
       "    </tr>\n",
       "    <tr>\n",
       "      <th>Slocog Lrtp</th>\n",
       "      <td>1</td>\n",
       "    </tr>\n",
       "    <tr>\n",
       "      <th>Stancog Lrtp</th>\n",
       "      <td>1</td>\n",
       "    </tr>\n",
       "    <tr>\n",
       "      <th>Tmpo Lrtp</th>\n",
       "      <td>1</td>\n",
       "    </tr>\n",
       "  </tbody>\n",
       "</table>\n",
       "</div>"
      ],
      "text/plain": [
       "                 project_title\n",
       "data_source                   \n",
       "Fresno Cog Lrtp              2\n",
       "Lost                         8\n",
       "Mtc Lrtp                     4\n",
       "Sacog Lrtp                  30\n",
       "Sandag Lrtp                 46\n",
       "Sbcag Lrtp                   4\n",
       "Scag Lrtp                    1\n",
       "Sjcog Lrtp                   1\n",
       "Slocog Lrtp                  1\n",
       "Stancog Lrtp                 1\n",
       "Tmpo Lrtp                    1"
      ]
     },
     "execution_count": 221,
     "metadata": {},
     "output_type": "execute_result"
    }
   ],
   "source": [
    "cordon_df.groupby([\"data_source\"]).agg({\"project_title\": \"nunique\"})"
   ]
  },
  {
   "cell_type": "code",
   "execution_count": 222,
   "id": "c9fa0c9e-e596-468b-9e5c-82c7c5b8a7de",
   "metadata": {},
   "outputs": [],
   "source": [
    "gdf_map_subset = [\n",
    "    \"project_title\",\n",
    "    \"lead_agency\",\n",
    "    \"project_year\",\n",
    "    \"total_project_cost\",\n",
    "    \"geometry\",\n",
    "]"
   ]
  },
  {
   "cell_type": "code",
   "execution_count": 223,
   "id": "e5394efd-2a93-46e0-8e5d-bc9326680b24",
   "metadata": {},
   "outputs": [
    {
     "data": {
      "text/plain": [
       "'\\ncordon_gdf[gdf_map_subset].explore(\\n    cmap=\"tab20c\",\\n    height=400,\\n    width=600,\\n    style_kwds={\"weight\": 4},\\n    legend=False,\\n)\\n'"
      ]
     },
     "execution_count": 223,
     "metadata": {},
     "output_type": "execute_result"
    }
   ],
   "source": [
    "\"\"\"\n",
    "cordon_gdf[gdf_map_subset].explore(\n",
    "    cmap=\"tab20c\",\n",
    "    height=400,\n",
    "    width=600,\n",
    "    style_kwds={\"weight\": 4},\n",
    "    legend=False,\n",
    ")\n",
    "\"\"\""
   ]
  },
  {
   "cell_type": "markdown",
   "id": "48b74d9a-1d4a-42f0-a01a-c54fe13a06be",
   "metadata": {},
   "source": [
    "### Categorizing"
   ]
  },
  {
   "cell_type": "code",
   "execution_count": 224,
   "id": "db59042b-cd7b-43e2-9ce7-67839cf8efe3",
   "metadata": {},
   "outputs": [],
   "source": [
    "all_mpo_df = all_mpo_df.fillna(\"None\")"
   ]
  },
  {
   "cell_type": "code",
   "execution_count": 225,
   "id": "54fad5c2-61da-4c4d-a447-7159ea2a2772",
   "metadata": {
    "scrolled": true,
    "tags": []
   },
   "outputs": [],
   "source": [
    "categorized_df = categorizing_utils.add_categories(all_mpo_df)"
   ]
  },
  {
   "cell_type": "code",
   "execution_count": 226,
   "id": "12346bb0-f0f8-4b61-a80c-d5fbf3a51112",
   "metadata": {},
   "outputs": [],
   "source": [
    "drop_cols = [\n",
    "    \"lower_case_project_title\",\n",
    "    \"lower_case_project_description\",\n",
    "    \"lower_case_project_title_keyword_search\",\n",
    "    \"lower_case_project_description_keyword_search\",\n",
    "    \"geometry\",\n",
    "    \"city\",\n",
    "    \"county\",\n",
    "]"
   ]
  },
  {
   "cell_type": "code",
   "execution_count": 227,
   "id": "81033e4f-d917-44cd-84fa-0a9066e6f6c9",
   "metadata": {},
   "outputs": [],
   "source": [
    "categorized_df = categorized_df.drop(columns=drop_cols)"
   ]
  },
  {
   "cell_type": "code",
   "execution_count": 228,
   "id": "e313c8b6-8815-4a02-a62c-8e210841a898",
   "metadata": {},
   "outputs": [
    {
     "data": {
      "text/plain": [
       "0.00    7351\n",
       "1.00    5056\n",
       "2.00    2605\n",
       "3.00     877\n",
       "4.00     297\n",
       "5.00      71\n",
       "6.00      19\n",
       "Name: n_categories, dtype: int64"
      ]
     },
     "execution_count": 228,
     "metadata": {},
     "output_type": "execute_result"
    }
   ],
   "source": [
    "categorized_df.n_categories.value_counts()"
   ]
  },
  {
   "cell_type": "code",
   "execution_count": 229,
   "id": "d3c0bc44-4ebb-48f0-88da-5e0bb6d20661",
   "metadata": {},
   "outputs": [],
   "source": [
    "all_projects_categorized_by_mpo = categorizing_utils.find_categories_by_mpo(categorized_df)"
   ]
  },
  {
   "cell_type": "code",
   "execution_count": 230,
   "id": "c6d4bcf0-1de7-4e5c-ba46-fa9691aab71b",
   "metadata": {},
   "outputs": [
    {
     "data": {
      "text/html": [
       "<div>\n",
       "<style scoped>\n",
       "    .dataframe tbody tr th:only-of-type {\n",
       "        vertical-align: middle;\n",
       "    }\n",
       "\n",
       "    .dataframe tbody tr th {\n",
       "        vertical-align: top;\n",
       "    }\n",
       "\n",
       "    .dataframe thead th {\n",
       "        text-align: right;\n",
       "    }\n",
       "</style>\n",
       "<table border=\"1\" class=\"dataframe\">\n",
       "  <thead>\n",
       "    <tr style=\"text-align: right;\">\n",
       "      <th></th>\n",
       "      <th>data_source</th>\n",
       "      <th>category</th>\n",
       "      <th>total_projects</th>\n",
       "    </tr>\n",
       "  </thead>\n",
       "  <tbody>\n",
       "    <tr>\n",
       "      <th>0</th>\n",
       "      <td>Ambag Lrtp</td>\n",
       "      <td>Active Transp</td>\n",
       "      <td>235.00</td>\n",
       "    </tr>\n",
       "    <tr>\n",
       "      <th>1</th>\n",
       "      <td>Ambag Lrtp</td>\n",
       "      <td>Bridge</td>\n",
       "      <td>10.00</td>\n",
       "    </tr>\n",
       "    <tr>\n",
       "      <th>2</th>\n",
       "      <td>Ambag Lrtp</td>\n",
       "      <td>Congestion Relief</td>\n",
       "      <td>0.00</td>\n",
       "    </tr>\n",
       "    <tr>\n",
       "      <th>3</th>\n",
       "      <td>Ambag Lrtp</td>\n",
       "      <td>Freeway</td>\n",
       "      <td>9.00</td>\n",
       "    </tr>\n",
       "    <tr>\n",
       "      <th>4</th>\n",
       "      <td>Ambag Lrtp</td>\n",
       "      <td>Infra Resiliency Er</td>\n",
       "      <td>39.00</td>\n",
       "    </tr>\n",
       "  </tbody>\n",
       "</table>\n",
       "</div>"
      ],
      "text/plain": [
       "  data_source             category  total_projects\n",
       "0  Ambag Lrtp        Active Transp          235.00\n",
       "1  Ambag Lrtp               Bridge           10.00\n",
       "2  Ambag Lrtp    Congestion Relief            0.00\n",
       "3  Ambag Lrtp              Freeway            9.00\n",
       "4  Ambag Lrtp  Infra Resiliency Er           39.00"
      ]
     },
     "execution_count": 230,
     "metadata": {},
     "output_type": "execute_result"
    }
   ],
   "source": [
    "all_projects_categorized_by_mpo.head()"
   ]
  },
  {
   "cell_type": "code",
   "execution_count": 231,
   "id": "b12bb643-d818-4922-a857-ee2d5ef9fee8",
   "metadata": {},
   "outputs": [
    {
     "data": {
      "text/html": [
       "<div>\n",
       "<style scoped>\n",
       "    .dataframe tbody tr th:only-of-type {\n",
       "        vertical-align: middle;\n",
       "    }\n",
       "\n",
       "    .dataframe tbody tr th {\n",
       "        vertical-align: top;\n",
       "    }\n",
       "\n",
       "    .dataframe thead th {\n",
       "        text-align: right;\n",
       "    }\n",
       "</style>\n",
       "<table border=\"1\" class=\"dataframe\">\n",
       "  <thead>\n",
       "    <tr style=\"text-align: right;\">\n",
       "      <th></th>\n",
       "      <th>Category</th>\n",
       "      <th>Total Projects</th>\n",
       "    </tr>\n",
       "  </thead>\n",
       "  <tbody>\n",
       "    <tr>\n",
       "      <th>0</th>\n",
       "      <td>Active Transp</td>\n",
       "      <td>3140.00</td>\n",
       "    </tr>\n",
       "    <tr>\n",
       "      <th>1</th>\n",
       "      <td>Transit</td>\n",
       "      <td>1612.00</td>\n",
       "    </tr>\n",
       "    <tr>\n",
       "      <th>2</th>\n",
       "      <td>Bridge</td>\n",
       "      <td>769.00</td>\n",
       "    </tr>\n",
       "    <tr>\n",
       "      <th>3</th>\n",
       "      <td>Street</td>\n",
       "      <td>4737.00</td>\n",
       "    </tr>\n",
       "    <tr>\n",
       "      <th>4</th>\n",
       "      <td>Freeway</td>\n",
       "      <td>733.00</td>\n",
       "    </tr>\n",
       "    <tr>\n",
       "      <th>5</th>\n",
       "      <td>Infra Resiliency Er</td>\n",
       "      <td>2820.00</td>\n",
       "    </tr>\n",
       "    <tr>\n",
       "      <th>6</th>\n",
       "      <td>Congestion Relief</td>\n",
       "      <td>108.00</td>\n",
       "    </tr>\n",
       "    <tr>\n",
       "      <th>7</th>\n",
       "      <td>Passenger Mode Shift</td>\n",
       "      <td>111.00</td>\n",
       "    </tr>\n",
       "    <tr>\n",
       "      <th>8</th>\n",
       "      <td>Safety</td>\n",
       "      <td>524.00</td>\n",
       "    </tr>\n",
       "  </tbody>\n",
       "</table>\n",
       "</div>"
      ],
      "text/plain": [
       "               Category  Total Projects\n",
       "0         Active Transp         3140.00\n",
       "1               Transit         1612.00\n",
       "2                Bridge          769.00\n",
       "3                Street         4737.00\n",
       "4               Freeway          733.00\n",
       "5   Infra Resiliency Er         2820.00\n",
       "6     Congestion Relief          108.00\n",
       "7  Passenger Mode Shift          111.00\n",
       "8                Safety          524.00"
      ]
     },
     "execution_count": 231,
     "metadata": {},
     "output_type": "execute_result"
    }
   ],
   "source": [
    "categorizing_utils.count_all_categories(categorized_df)"
   ]
  }
 ],
 "metadata": {
  "kernelspec": {
   "display_name": "Python 3 (ipykernel)",
   "language": "python",
   "name": "python3"
  },
  "language_info": {
   "codemirror_mode": {
    "name": "ipython",
    "version": 3
   },
   "file_extension": ".py",
   "mimetype": "text/x-python",
   "name": "python",
   "nbconvert_exporter": "python",
   "pygments_lexer": "ipython3",
   "version": "3.9.13"
  },
  "toc-autonumbering": false,
  "toc-showcode": false
 },
 "nbformat": 4,
 "nbformat_minor": 5
}
