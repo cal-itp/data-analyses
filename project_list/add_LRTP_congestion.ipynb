{
 "cells": [
  {
   "cell_type": "markdown",
   "id": "ec8f501a-adea-4a26-a123-b8813b11a7f8",
   "metadata": {},
   "source": [
    "## Long Range Transportation Plan"
   ]
  },
  {
   "cell_type": "code",
   "execution_count": null,
   "id": "4d9c4625-d899-467f-822f-685ea519e37a",
   "metadata": {},
   "outputs": [],
   "source": [
    "import _harmonization_utils as harmonization_utils\n",
    "import _specific_list_utils as list_utils\n",
    "import geopandas as gpd\n",
    "import numpy as np\n",
    "import pandas as pd\n",
    "from calitp_data_analysis.sql import to_snakecase\n",
    "from shared_utils import geography_utils, utils"
   ]
  },
  {
   "cell_type": "code",
   "execution_count": null,
   "id": "c98b342d-5b6d-4ec2-8d19-b57cab057892",
   "metadata": {},
   "outputs": [],
   "source": [
    "pd.options.display.max_columns = 100\n",
    "pd.options.display.float_format = \"{:.2f}\".format\n",
    "pd.set_option(\"display.max_rows\", None)\n",
    "pd.set_option(\"display.max_colwidth\", None)"
   ]
  },
  {
   "cell_type": "code",
   "execution_count": null,
   "id": "2cf79fc5-8683-40b7-af93-c9edb9c5bc57",
   "metadata": {},
   "outputs": [],
   "source": [
    "LRTP_GCS = f\"{harmonization_utils.GCS_FILE_PATH}LRTP/\""
   ]
  },
  {
   "cell_type": "markdown",
   "id": "e3e8de85-ee99-4e15-b234-d7a0053bd982",
   "metadata": {
    "tags": []
   },
   "source": [
    "### General Functions"
   ]
  },
  {
   "cell_type": "code",
   "execution_count": null,
   "id": "51dfac91-35f8-4eb0-bcb1-2f7d09296e01",
   "metadata": {},
   "outputs": [],
   "source": [
    "def give_info(df, project_title: str, other_descriptive_col: str):\n",
    "    print(df[project_title].value_counts().head())\n",
    "    print(f\"# of unique project titles: {df[project_title].nunique()}\")\n",
    "    print(\n",
    "        f\"After dropping duplicates using {project_title} and {other_descriptive_col}: {len(df.drop_duplicates(subset = [project_title, other_descriptive_col]))}\"\n",
    "    )\n",
    "    print(f\"Df shape: {df.shape}\")\n",
    "    print(df.columns)"
   ]
  },
  {
   "cell_type": "code",
   "execution_count": null,
   "id": "d86d09e6-ba33-423c-af81-6d65f5444499",
   "metadata": {},
   "outputs": [],
   "source": [
    "def harmonizing_lrtp(\n",
    "    df,\n",
    "    project_name_col: str,\n",
    "    project_description_col: str,\n",
    "    project_category_col: str,\n",
    "    project_cost_col: str,\n",
    "    location_col: str,\n",
    "    county_col: str,\n",
    "    city_col: str,\n",
    "    project_year_col: str,\n",
    "    phase_col: str,\n",
    "    program: str,\n",
    "    data_source: str,\n",
    "    note_cols: list,\n",
    "    cost_in_millions: bool = True,\n",
    "):\n",
    "    \"\"\"\n",
    "    Take a dataset and change the column names/types to\n",
    "    the same names and formats.\n",
    "    \"\"\"\n",
    "    rename_columns = {\n",
    "        project_name_col: \"project_title\",\n",
    "        phase_col: \"phase\",\n",
    "        project_description_col: \"project_description\",\n",
    "        project_category_col: \"project_category\",\n",
    "        project_cost_col: \"total_project_cost\",\n",
    "        location_col: \"geometry\",\n",
    "        county_col: \"county\",\n",
    "        city_col: \"city\",\n",
    "        project_year_col: \"project_year\",\n",
    "    }\n",
    "    # Rename columns\n",
    "    df = df.rename(columns=rename_columns)\n",
    "\n",
    "    # Coerce cost/fund columns to right type\n",
    "    cost_columns = df.columns[df.columns.str.contains(\"(cost|funds)\")].tolist()\n",
    "\n",
    "    for i in cost_columns:\n",
    "        df[i] = df[i].apply(pd.to_numeric, errors=\"coerce\")\n",
    "\n",
    "    # Add MPO & grant program\n",
    "    df[\"lead_agency\"] = program\n",
    "    df[\"grant_program\"] = f\"{program} {data_source}\"\n",
    "\n",
    "    # Add data source\n",
    "    df[\"data_source\"] = data_source\n",
    "\n",
    "    # Divide cost columns by millions\n",
    "    # If bool is set to True\n",
    "    if cost_in_millions:\n",
    "        for i in cost_columns:\n",
    "            df[i] = df[i].divide(1_000_000)\n",
    "\n",
    "    # Fill in any nulls\n",
    "    # df = df.fillna(df.dtypes.replace({\"float64\": 0.0, \"object\": \"None\"}))\n",
    "\n",
    "    # Create columns even if they don't exist, just to harmonize\n",
    "    # before concatting.\n",
    "    create_columns = [\n",
    "        \"county\",\n",
    "        \"city\",\n",
    "        \"notes\",\n",
    "        \"project_year\",\n",
    "        \"project_category\",\n",
    "        \"phase\",\n",
    "    ]\n",
    "    for column in create_columns:\n",
    "        if column not in df:\n",
    "            df[column] = \"None\"\n",
    "    if \"geometry\" not in df:\n",
    "        df[\"geometry\"] = None\n",
    "    # Create notes\n",
    "    df = create_notes(df, note_cols)\n",
    "\n",
    "    columns_to_keep = [\n",
    "        \"project_title\",\n",
    "        \"lead_agency\",\n",
    "        \"project_year\",\n",
    "        \"project_category\",\n",
    "        \"grant_program\",\n",
    "        \"project_description\",\n",
    "        \"phase\",\n",
    "        \"total_project_cost\",\n",
    "        \"geometry\",\n",
    "        \"city\",\n",
    "        \"county\",\n",
    "        \"data_source\",\n",
    "        \"notes\",\n",
    "    ]\n",
    "\n",
    "    df = df[columns_to_keep]\n",
    "\n",
    "    return df"
   ]
  },
  {
   "cell_type": "code",
   "execution_count": null,
   "id": "491babec-45f7-46bd-957f-b10454a423ce",
   "metadata": {},
   "outputs": [],
   "source": [
    "def embedded_column_names(df, data_start: int) -> pd.DataFrame:\n",
    "    \"\"\"\n",
    "    Some excel sheets have headers and column names\n",
    "    embedded in the dataframe. Take them out.\n",
    "    \n",
    "    Args:\n",
    "        data_start: the row number the column names begin.\n",
    "    \"\"\"\n",
    "    # Delete header\n",
    "    df = df.iloc[data_start:].reset_index(drop=True)\n",
    "    # The first row contains column names - update it to the column\n",
    "    df.columns = df.iloc[0]\n",
    "\n",
    "    # Drop the first row as they are now column names\n",
    "    df = df.drop(df.index[0]).reset_index(drop=True)\n",
    "\n",
    "    return df"
   ]
  },
  {
   "cell_type": "code",
   "execution_count": null,
   "id": "21933c7b-c56a-478a-9cd2-01b6f9c7a435",
   "metadata": {},
   "outputs": [],
   "source": [
    "def create_notes(df, note_cols: list):\n",
    "    \"\"\"\n",
    "    Combine mulitple columns together\n",
    "    into a single column to minimize space.\n",
    "    \"\"\"\n",
    "    prefix = \"_\"\n",
    "    for column in note_cols:\n",
    "        df[f\"{prefix}{column}\"] = df[column].astype(str)\n",
    "    note_cols = [prefix + sub for sub in note_cols]\n",
    "\n",
    "    # https://stackoverflow.com/questions/65532480/how-to-combine-column-names-and-values\n",
    "    def combine_notes(x):\n",
    "        return \", \".join([col + \": \" + x[col] for col in note_cols])\n",
    "\n",
    "    df[\"notes\"] = df.apply(combine_notes, axis=1)\n",
    "    df.notes = df.notes.str.replace(\"_\", \" \")\n",
    "\n",
    "    return df"
   ]
  },
  {
   "cell_type": "code",
   "execution_count": null,
   "id": "b2b9fbf7-97d0-4319-b119-a77ca185c21a",
   "metadata": {},
   "outputs": [],
   "source": [
    "def open_rest_server(url_pt_1: str, url_pt_2: str, layer_name: list):\n",
    "    \"\"\"\n",
    "    Open up data that is availably publicly via ArcGis\n",
    "    \"\"\"\n",
    "    full_gdf = pd.DataFrame()\n",
    "    for i in layer_name:\n",
    "        gdf = to_snakecase(gpd.read_file(f\"{url_pt_1}{i}{url_pt_2}\"))\n",
    "        gdf[\"layer_name\"] = i\n",
    "        full_gdf = pd.concat([full_gdf, gdf], axis=0)\n",
    "\n",
    "    return full_gdf"
   ]
  },
  {
   "cell_type": "code",
   "execution_count": null,
   "id": "6759a3d7-4b34-4d4e-a12f-ea0f8e53f261",
   "metadata": {},
   "outputs": [],
   "source": [
    "def delete_embedded_headers(df, column: str, string_search: str) -> pd.DataFrame:\n",
    "    \"\"\"\n",
    "    Some PDFS include the column names embedded mulitple times\n",
    "    within the df. Delete them out.\n",
    "    \n",
    "    Example: Under the column 'description', delete the rows\n",
    "    in which the value is 'description.' This signals that the row\n",
    "    is just repeating the column name again.\n",
    "    \"\"\"\n",
    "    headers = df[df[column].str.contains(string_search) == True]\n",
    "    headers_index_list = headers.index.values.tolist()\n",
    "\n",
    "    print(f\"{len(headers_index_list)} rows are headers\")\n",
    "\n",
    "    df2 = df.drop(headers_index_list).reset_index(drop=True)\n",
    "    return df2"
   ]
  },
  {
   "cell_type": "code",
   "execution_count": null,
   "id": "0c571b45-6c47-417e-a99c-2f953b7b3bf4",
   "metadata": {},
   "outputs": [],
   "source": [
    "def correct_project_cost(df, project_title_col: str, project_total_cost: str):\n",
    "    \"\"\"\n",
    "    For some datasets, the same project\n",
    "    (as determined by the same project name, cost,\n",
    "    and source) is split across multiple rows.\n",
    "\n",
    "    Ex: A project costs $500 million and is\n",
    "    split on 5 rows by phase/location. Each row still lists\n",
    "    the total  cost as $500 million, which is not accurate.\n",
    "    This function will recalculate each of the row to list\n",
    "    $100 mil as the total project cost\n",
    "    \"\"\"\n",
    "    # Create a unique identifier\n",
    "    df[\"unique_identifier\"] = df[project_title_col] + df[project_total_cost].astype(str)\n",
    "\n",
    "    # Create count for each project\n",
    "    df[\"how_many_times_same_proj_appears\"] = (\n",
    "        df.groupby(\"unique_identifier\").cumcount() + 1\n",
    "    )\n",
    "\n",
    "    # Find the total number of times a project title-cost appears.\n",
    "    # Sort by descending and keep only the row with the highest level\n",
    "    keep_cols = [project_title_col,\n",
    "                \"how_many_times_same_proj_appears\",\n",
    "                project_total_cost,\n",
    "                \"unique_identifier\"]\n",
    "    df2 = (df[keep_cols]\n",
    "           .sort_values([project_title_col, \"how_many_times_same_proj_appears\"], ascending=False)\n",
    "           .drop_duplicates(subset=[\"unique_identifier\"])\n",
    "          )\n",
    "    \n",
    "    # Create new funding estimate\n",
    "    df2[\"new_proj_cost\"] = (\n",
    "        df2[project_total_cost] / df2[\"how_many_times_same_proj_appears\"]\n",
    "    )\n",
    "\n",
    "    # Drop some columns\n",
    "    df2 = df2.drop(\n",
    "        columns=[\n",
    "            project_title_col,\n",
    "            project_total_cost,\n",
    "            \"how_many_times_same_proj_appears\",\n",
    "        ]\n",
    "    )\n",
    "\n",
    "    # Merge\n",
    "    m1 = pd.merge(df, df2, how=\"inner\", on=\"unique_identifier\")\n",
    "\n",
    "    # Clean up\n",
    "    m1 = m1.drop(\n",
    "        columns=[\n",
    "            \"unique_identifier\",\n",
    "            \"how_many_times_same_proj_appears\",\n",
    "            project_total_cost,\n",
    "        ]\n",
    "    )\n",
    "    m1[\n",
    "        \"total_project_cost_note\"\n",
    "    ] = \"This is an estimate of how much the project cost, estimated by dividing the total project cost by how many times the project appears in the dataset.\"\n",
    "\n",
    "    # Replace project cost\n",
    "    m1 = m1.rename(columns={\"new_proj_cost\": \"total_project_cost\"})\n",
    "    return m1"
   ]
  },
  {
   "cell_type": "markdown",
   "id": "e92a58d1-9231-4237-bb0a-8602c94bcb36",
   "metadata": {},
   "source": [
    "### Ambag"
   ]
  },
  {
   "cell_type": "code",
   "execution_count": null,
   "id": "dc892005-c596-4b87-b789-5b0d4714cbf4",
   "metadata": {},
   "outputs": [],
   "source": [
    "def ambag_lrtp():\n",
    "    ambag1 = pd.read_excel(\n",
    "        f\"{LRTP_GCS}AMBAG_2045 Revenue Constrained Project List_Monterey County_by Project Type__022823.xlsx\"\n",
    "    )\n",
    "    ambag2 = pd.read_excel(\n",
    "        f\"{LRTP_GCS}AMBAG_2045 Revenue Constrained Project List_San Benito County_by Project Type__022823.xlsx\"\n",
    "    )\n",
    "    ambag3 = pd.read_excel(\n",
    "        f\"{LRTP_GCS}AMBAG_2045 Revenue Constrained Project List_Santa Cruz County_by Project Type__041923.xlsx\"\n",
    "    )\n",
    "\n",
    "    # Move column names up\n",
    "    ambag1 = embedded_column_names(ambag1, 1)\n",
    "    ambag2 = embedded_column_names(ambag2, 1)\n",
    "    ambag3 = embedded_column_names(ambag3, 1)\n",
    "\n",
    "    # Add county\n",
    "    ambag1[\"county\"] = \"Santa Cruz\"\n",
    "    ambag2[\"county\"] = \"Monterey\"\n",
    "    ambag3[\"county\"] = \"San Benito\"\n",
    "\n",
    "    # Conat & clean\n",
    "    concat1 = pd.concat([ambag1, ambag2, ambag3], axis=0)\n",
    "    concat1 = concat1.drop(columns=[2035.0, 2045.0, 2020.0, 2035.0])\n",
    "\n",
    "    concat1 = to_snakecase(concat1)\n",
    "    return concat1"
   ]
  },
  {
   "cell_type": "code",
   "execution_count": null,
   "id": "d720503d-34a1-438b-b42a-dc58f4a52aef",
   "metadata": {},
   "outputs": [],
   "source": [
    "ambag = ambag_lrtp()"
   ]
  },
  {
   "cell_type": "code",
   "execution_count": null,
   "id": "0aa672e4-406a-4390-a822-1b10b1fb8cfb",
   "metadata": {},
   "outputs": [],
   "source": [
    "give_info(ambag, \"project\", \"project_description\")"
   ]
  },
  {
   "cell_type": "code",
   "execution_count": null,
   "id": "3fc71478-28be-4e69-9f10-de8b04043119",
   "metadata": {},
   "outputs": [],
   "source": [
    "ambag.loc[ambag.project == \"Citywide Bike Lanes\"]"
   ]
  },
  {
   "cell_type": "code",
   "execution_count": null,
   "id": "cda7312d-7ec1-40c0-9c83-690ec53ed953",
   "metadata": {},
   "outputs": [],
   "source": [
    "ambag.loc[ambag.project == \"The Alameda - Salinas Road Bike Route\"]"
   ]
  },
  {
   "cell_type": "markdown",
   "id": "01a85ba7-2fe4-4105-bbd2-4b6fc03d3dad",
   "metadata": {
    "tags": []
   },
   "source": [
    "### BCAG "
   ]
  },
  {
   "cell_type": "code",
   "execution_count": null,
   "id": "e70e3c42-6efe-4665-955e-91960758d7fb",
   "metadata": {},
   "outputs": [],
   "source": [
    "def bcag_lrtp():\n",
    "    \"\"\"\n",
    "    Project cost is in thousands\n",
    "    \"\"\"\n",
    "    df = pd.read_excel(f\"{LRTP_GCS}BCAG.xls\")\n",
    "    drop_columns = [\n",
    "        2018,\n",
    "        2020,\n",
    "        2030,\n",
    "        2035,\n",
    "        2040,\n",
    "        \"EXEMPT CODE\",\n",
    "        \"PM 1\",\n",
    "        \"PM 2\",\n",
    "        \"PM 3\",\n",
    "    ]\n",
    "\n",
    "    df = df.drop(columns=drop_columns)\n",
    "    df = to_snakecase(df)\n",
    "    \n",
    "    # Correct cost\n",
    "    # df.cost_estimate = df.cost_estimate * 1_000\n",
    "    df.fund_estimate = (\n",
    "     df.fund_estimate\n",
    "        .str.replace(\"$\",\"\")\n",
    "        .str.replace(\".\",\"\")\n",
    "        .str.replace(\"million\",\"\")\n",
    "        .apply(pd.to_numeric, errors=\"coerce\") * 1_000_000)\n",
    "    \n",
    "    # create geometry\n",
    "    df[\"geometry\"] = gpd.GeoSeries.from_xy(\n",
    "        df.x_coord, df.y_coord, crs=geography_utils.WGS84\n",
    "    )\n",
    "    # Same project is split across multiple rows. Divide out project cost\n",
    "    df = correct_project_cost(df, \"title\", \"cost_estimate\")\n",
    "    df = df.set_geometry(\"geometry\")\n",
    "\n",
    "    return df"
   ]
  },
  {
   "cell_type": "code",
   "execution_count": null,
   "id": "e58fe25d-aa51-47a4-9913-45173c7eace9",
   "metadata": {},
   "outputs": [],
   "source": [
    "bcag = bcag_lrtp()"
   ]
  },
  {
   "cell_type": "code",
   "execution_count": null,
   "id": "8b86f25b-f85c-4ed7-b37f-1a0b44770a33",
   "metadata": {},
   "outputs": [],
   "source": [
    "bcag[['fund_estimate', 'total_project_cost']].sample(5)"
   ]
  },
  {
   "cell_type": "code",
   "execution_count": null,
   "id": "7066686f-f5ce-43fc-8a07-a06956e207a3",
   "metadata": {},
   "outputs": [],
   "source": [
    "bcag.info()"
   ]
  },
  {
   "cell_type": "code",
   "execution_count": null,
   "id": "2f89eb95-c0d6-41fe-8288-d2e5f71e02fc",
   "metadata": {
    "tags": []
   },
   "outputs": [],
   "source": [
    "give_info(bcag, \"title\", \"total_project_cost\")"
   ]
  },
  {
   "cell_type": "code",
   "execution_count": null,
   "id": "6421561e-c0bf-4c6d-8642-5edd41511db9",
   "metadata": {},
   "outputs": [],
   "source": [
    "bcag.shape"
   ]
  },
  {
   "cell_type": "markdown",
   "id": "04450281-f55d-414c-b18f-5761a4bb423a",
   "metadata": {
    "tags": []
   },
   "source": [
    "### Fresno COG"
   ]
  },
  {
   "cell_type": "code",
   "execution_count": null,
   "id": "31550af0-0040-41fa-abfa-88c77f3763be",
   "metadata": {},
   "outputs": [],
   "source": [
    "def fresnocog_lrtp():\n",
    "    columns_to_drop = [\"unnamed:_7\", \"unnamed:_8\", \"unnamed:_9\"]\n",
    "    df1 = to_snakecase(pd.read_excel(f\"{LRTP_GCS}FRESNO_COG_UNconstrained.xlsx\"))\n",
    "    df1[\"financial_constraint\"] = \"unconstrained\"\n",
    "\n",
    "    df2 = to_snakecase(pd.read_excel(f\"{LRTP_GCS}FRESNO_COG_Constrained.xlsx\"))\n",
    "    df2[\"financial_constraint\"] = \"constrained\"\n",
    "\n",
    "    concat1 = pd.concat([df1, df2], axis=0)\n",
    "    concat1 = concat1.drop(columns=columns_to_drop)\n",
    "\n",
    "    return concat1"
   ]
  },
  {
   "cell_type": "code",
   "execution_count": null,
   "id": "7b167072-0655-47a9-b609-b08b1f72081d",
   "metadata": {},
   "outputs": [],
   "source": [
    "fresno_cog = fresnocog_lrtp()"
   ]
  },
  {
   "cell_type": "code",
   "execution_count": null,
   "id": "04d24a2a-7223-4d0b-93cf-2b320d19340f",
   "metadata": {},
   "outputs": [],
   "source": [
    "give_info(fresno_cog, \"project_title\", \"estimated\\ntotal_cost\\n_$1,000_\")"
   ]
  },
  {
   "cell_type": "code",
   "execution_count": null,
   "id": "c7378b34-5acc-4faf-ab19-922b8f57394c",
   "metadata": {},
   "outputs": [],
   "source": [
    "fresno_cog.groupby(['project_title', 'estimated\\ntotal_cost\\n_$1,000_']).agg({'agency':'count'}).sort_values('agency', ascending = False).head()"
   ]
  },
  {
   "cell_type": "code",
   "execution_count": null,
   "id": "2d690043-1f77-4ea4-ab99-b4df7319e865",
   "metadata": {},
   "outputs": [],
   "source": [
    "fresno_cog.project_title = fresno_cog.project_title.fillna('None')"
   ]
  },
  {
   "cell_type": "code",
   "execution_count": null,
   "id": "9487a65d-e72e-4026-bf24-609de023f8dc",
   "metadata": {
    "scrolled": true,
    "tags": []
   },
   "outputs": [],
   "source": [
    "fresno_cog[fresno_cog.project_title.str.contains(\"Ventura, SR 41\")]"
   ]
  },
  {
   "cell_type": "markdown",
   "id": "aa2d24f5-1c4c-4ef3-8c9c-cbf2d7c027d5",
   "metadata": {
    "tags": []
   },
   "source": [
    "### KCAG"
   ]
  },
  {
   "cell_type": "code",
   "execution_count": null,
   "id": "d3c7a4b4-6eed-45a0-9588-928707239e6b",
   "metadata": {},
   "outputs": [],
   "source": [
    "def kcag_lrtp():\n",
    "\n",
    "    df = to_snakecase(pd.read_excel(f\"{LRTP_GCS}KCAG.xlsx\"))\n",
    "\n",
    "    # No title column\n",
    "    df[\"title\"] = (df.category + \"-\" + df.description + \"-\" + df.location).fillna(\n",
    "        \"No Title\"\n",
    "    )\n",
    "\n",
    "    # Some duplicates\n",
    "    df = df.drop_duplicates([\"location\", \"category\", \"description\"]).reset_index(\n",
    "        drop=True\n",
    "    )\n",
    "    return df"
   ]
  },
  {
   "cell_type": "code",
   "execution_count": null,
   "id": "56748d11-2c5b-4eab-992c-ab3747888c6c",
   "metadata": {},
   "outputs": [],
   "source": [
    "kcag = kcag_lrtp()"
   ]
  },
  {
   "cell_type": "code",
   "execution_count": null,
   "id": "02b4f1c0-c794-4cf1-adbd-84b50cc2c489",
   "metadata": {},
   "outputs": [],
   "source": [
    "kcag[kcag.title == \"Proposed Improvements-Pavement Maintenance-Various Locations\"]"
   ]
  },
  {
   "cell_type": "code",
   "execution_count": null,
   "id": "a2287888-994e-4544-9862-66319644c622",
   "metadata": {},
   "outputs": [],
   "source": [
    "give_info(kcag, \"title\", \"description\")"
   ]
  },
  {
   "cell_type": "markdown",
   "id": "32750244-6669-4f0f-bfec-b34a2b5305b7",
   "metadata": {},
   "source": [
    "### INCOMPLETE KernCog"
   ]
  },
  {
   "cell_type": "code",
   "execution_count": null,
   "id": "0f86e8e7-698c-46ab-a4b9-54dc217bb4b4",
   "metadata": {},
   "outputs": [],
   "source": [
    "def kern_lrtp():\n",
    "    sheets_list = [\n",
    "    \"part1\",\"part2\",\"part3\"]\n",
    "    \n",
    "    dict_df = pd.read_excel(f\"{LRTP_GCS}KERNCOG.xlsx\", sheet_name=sheets_list)\n",
    "    \n",
    "    df1 = dict_df.get(sheets_list[0])\n",
    "    df2 = dict_df.get(sheets_list[1])\n",
    "    df3 = dict_df.get(sheets_list[2])\n",
    "    \n",
    "    concat1 = to_snakecase(pd.concat([df1,df2,df3], axis= 0))\n",
    "    \n",
    "    monetary_cols = ['yoe_w__new_revenue_in_$1000',\n",
    "       'yoe_w_o_new_revenue_in_$1000', 'maint__inflation_savings_in_$1000']\n",
    "    \n",
    "    for i in monetary_cols:\n",
    "        concat1[i] = concat1[i].str.replace(\" \", \"\")\n",
    "    \n",
    "    concat1 = concat1[['agency', 'scope'] + monetary_cols]\n",
    "    \n",
    "    concat1 = concat1.dropna(subset = 'scope')\n",
    "    \n",
    "    concat1['title'] = concat1.agency.astype(str) + '-' + concat1.scope.astype(str)\n",
    "    \n",
    "    # Rows to delete \n",
    "    concat1 = concat1[~concat1.title.str.contains(\"(SHOPP|aviation|potential new funds)\")].reset_index(drop = True)\n",
    "    \n",
    "    return concat1"
   ]
  },
  {
   "cell_type": "code",
   "execution_count": null,
   "id": "2fb65037-a062-4bd9-9eb0-78452ea0f864",
   "metadata": {},
   "outputs": [],
   "source": [
    "# kern = kern_lrtp()"
   ]
  },
  {
   "cell_type": "code",
   "execution_count": null,
   "id": "9fd96d9a-01a3-4dcd-8a03-f65a18cf9b83",
   "metadata": {},
   "outputs": [],
   "source": [
    "# give_info(kern, \"title\", \"yoe_w__new_revenue_in_$1000\")"
   ]
  },
  {
   "cell_type": "code",
   "execution_count": null,
   "id": "c4cd290e-2a03-494d-a31f-51cee7647578",
   "metadata": {},
   "outputs": [],
   "source": [
    "# kern.loc[kern.title.str.contains(\"Route 184 2Rt 58\")]"
   ]
  },
  {
   "cell_type": "code",
   "execution_count": null,
   "id": "418f3bce-7f68-41f6-9f7b-e581363b45c8",
   "metadata": {},
   "outputs": [],
   "source": [
    "# kern.groupby(['title',\"yoe_w__new_revenue_in_$1000\"]).agg({'scope':'count'}).sort_values(['scope'], ascending = False)"
   ]
  },
  {
   "cell_type": "markdown",
   "id": "366927f7-b7cc-4f40-8fc0-fa4aa9dbba36",
   "metadata": {},
   "source": [
    "### Madera CTC"
   ]
  },
  {
   "cell_type": "code",
   "execution_count": null,
   "id": "1b8c2c7f-8704-41f1-9591-dafa37c30e27",
   "metadata": {},
   "outputs": [],
   "source": [
    "def madera_lrtp():\n",
    "    sheets_list = [\n",
    "    \"Streets and Roads\",\n",
    "    \"Maintenance\",\n",
    "    \"Safety\",\n",
    "    \"ATP\",\n",
    "    \"Public Transit\",\n",
    "    \"Aviation\",\n",
    "    \"ITS\",\n",
    "    \"Unconstrained\"]\n",
    "    \n",
    "    dict_df = pd.read_excel(f\"{LRTP_GCS}Madera_CTC_cleaned.xlsx\", sheet_name=sheets_list)\n",
    "    df1 = dict_df.get(sheets_list[0])\n",
    "    df2 = dict_df.get(sheets_list[1])\n",
    "    df3 = dict_df.get(sheets_list[2])\n",
    "    df4 = dict_df.get(sheets_list[3])\n",
    "    df5 = dict_df.get(sheets_list[4])\n",
    "    df6 = dict_df.get(sheets_list[5])\n",
    "    df7 = dict_df.get(sheets_list[6])\n",
    "    df8 = dict_df.get(sheets_list[7])\n",
    "    \n",
    "    concat1 = to_snakecase(pd.concat([df1,df2,df3,df4,df5,df6,df7,df8], axis= 0))\n",
    "    \n",
    "    concat1 = concat1.drop(columns = ['proje\\nct_id'])\n",
    "    return concat1"
   ]
  },
  {
   "cell_type": "code",
   "execution_count": null,
   "id": "66d94b03-eb3c-4570-aa4a-11ca43cf04c0",
   "metadata": {},
   "outputs": [],
   "source": [
    "madera = madera_lrtp()"
   ]
  },
  {
   "cell_type": "code",
   "execution_count": null,
   "id": "df6c11ed-39d6-496f-987b-29ee262b601e",
   "metadata": {},
   "outputs": [],
   "source": [
    "madera.groupby(['project_name','total_cost']).agg({'category':'count'}).sort_values('category', ascending = False).head()"
   ]
  },
  {
   "cell_type": "code",
   "execution_count": null,
   "id": "341cc97a-5470-47e7-91f6-d7a9eef88a84",
   "metadata": {},
   "outputs": [],
   "source": [
    "give_info(madera, 'project_name','total_cost')"
   ]
  },
  {
   "cell_type": "code",
   "execution_count": null,
   "id": "ff422aef-5859-4bc5-9454-b2ec7c43d6d8",
   "metadata": {},
   "outputs": [],
   "source": [
    "# madera[madera.project_name == \"Various\"]"
   ]
  },
  {
   "cell_type": "code",
   "execution_count": null,
   "id": "4b15c2bb-14d7-45e7-a25e-8242b740afe3",
   "metadata": {},
   "outputs": [],
   "source": [
    "madera[madera.project_name == \"Avenue 12\"].head()"
   ]
  },
  {
   "cell_type": "markdown",
   "id": "9941fbbd-4520-4daa-931a-da6f59b755cf",
   "metadata": {
    "tags": []
   },
   "source": [
    "### MCAGOV"
   ]
  },
  {
   "cell_type": "code",
   "execution_count": null,
   "id": "284ee593-6a3c-48e2-afc1-d99126bcf3cb",
   "metadata": {},
   "outputs": [],
   "source": [
    "def mcagov_lrtp():\n",
    "\n",
    "    df = to_snakecase(pd.read_excel(f\"{LRTP_GCS}MCAGOV.xlsx\"))\n",
    "\n",
    "    df = df.dropna(subset=[\"title\"]).reset_index(drop=True)\n",
    "\n",
    "    return df"
   ]
  },
  {
   "cell_type": "code",
   "execution_count": null,
   "id": "3f4e657c-3bed-4764-8175-b3818654abb7",
   "metadata": {},
   "outputs": [],
   "source": [
    "mcagov = mcagov_lrtp()"
   ]
  },
  {
   "cell_type": "code",
   "execution_count": null,
   "id": "15d75ed6-9171-4bc5-840a-5845ea14952a",
   "metadata": {},
   "outputs": [],
   "source": [
    "mcagov.sample()"
   ]
  },
  {
   "cell_type": "code",
   "execution_count": null,
   "id": "203726b0-49af-475e-825a-be328c7663a7",
   "metadata": {},
   "outputs": [],
   "source": [
    "give_info(mcagov, \"title\", \"total_cost\\n_$1,000s_\")"
   ]
  },
  {
   "cell_type": "markdown",
   "id": "0e444a95-c7b8-4248-9715-f5405d263d86",
   "metadata": {
    "tags": []
   },
   "source": [
    "### MTC\n",
    "* 133 projects but point and line map returns 240 ish rows.\n",
    "* Projects that are in different locations can have the same name split by open year...\n",
    "* I guess the geospatial projects are split into various phases while the regular pandas df is just the project in its entirety.\n",
    "* https://www.planbayarea.org/2050-plan/final-plan-bay-area-2050/final-supplemental-reports/interactive-transportation-project-list\n",
    "* https://opendata.mtc.ca.gov/datasets/MTC::2023-transportation-improvement-program-projects-point/about\n",
    "* https://opendata.mtc.ca.gov/datasets/MTC::plan-bay-area-2050-transportation-projects-line/about\n",
    "* https://data.bayareametro.gov/Projects/Plan-Bay-Area-2050-Transportation-Project-List/y7ka-jksz"
   ]
  },
  {
   "cell_type": "code",
   "execution_count": null,
   "id": "08e57d98-8b32-41ee-a835-0030977f0d1d",
   "metadata": {},
   "outputs": [],
   "source": [
    "def mtc_lrtp():\n",
    "    # Open rest server data\n",
    "    layer_list = [\"planbayarea2050_rtp_line\", \"planbayarea2050_rtp_point\"]\n",
    "    url_pt_1 = \"https://services3.arcgis.com/i2dkYWmb4wHvYPda/ArcGIS/rest/services/\"\n",
    "    url_pt_2 = \"/FeatureServer/0/query?where=1%3D1&objectIds=&time=&geometry=&geometryType=esriGeometryEnvelope&inSR=&spatialRel=esriSpatialRelIntersects&resultType=none&distance=0.0&units=esriSRUnit_Meter&relationParam=&returnGeodetic=false&outFields=*+&returnGeometry=true&featureEncoding=esriDefault&multipatchOption=xyFootprint&maxAllowableOffset=&geometryPrecision=&outSR=&defaultSR=&datumTransformation=&applyVCSProjection=false&returnIdsOnly=false&returnUniqueIdsOnly=false&returnCountOnly=false&returnExtentOnly=false&returnQueryGeometry=false&returnDistinctValues=false&cacheHint=false&orderByFields=&groupByFieldsForStatistics=&outStatistics=&having=&resultOffset=&resultRecordCount=&returnZ=false&returnM=false&returnExceededLimitFeatures=true&quantizationParameters=&sqlFormat=none&f=pgeojson&token=\"\n",
    "    gdf = open_rest_server(url_pt_1, url_pt_2, layer_list)\n",
    "\n",
    "    # Open all MTC projects. Not all projects are mappable.\n",
    "    all_projects_url = \"https://data.bayareametro.gov/resource/y7ka-jksz.json?$query=SELECT%0A%20%20%60plan_strategy%60%2C%0A%20%20%60rtpid%60%2C%0A%20%20%60title%60%2C%0A%20%20%60scope%60%2C%0A%20%20%60open_period%60%2C%0A%20%20%60funding_millions_yoe%60%2C%0A%20%20%60county%60\"\n",
    "    all_projects = pd.read_json(all_projects_url)\n",
    "\n",
    "    # Merge info from all projects to gdf\n",
    "    gdf = pd.merge(\n",
    "        gdf, all_projects, how=\"inner\", left_on=[\"proj_title\"], right_on=[\"title\"]\n",
    "    )\n",
    "\n",
    "    gdf = gdf.drop(columns=[\"title\"])\n",
    "\n",
    "    # Find projects that are unmappable\n",
    "    mtc_geometry_titles = set(gdf.proj_title.unique().tolist())\n",
    "    mtc_all_projects_titles = set(all_projects.title.unique().tolist())\n",
    "    missing_projects = list(mtc_all_projects_titles - mtc_geometry_titles)\n",
    "\n",
    "    # Add back in the  unmappable projects\n",
    "    all_projects = all_projects[all_projects.title.isin(missing_projects)].reset_index(\n",
    "        drop=True\n",
    "    )\n",
    "    all_projects = all_projects.rename(columns={\"title\": \"proj_title\"})\n",
    "    final = pd.concat([all_projects, gdf])\n",
    "\n",
    "    # Correct typo\n",
    "    final = final.rename({\"mode detai\": \"mode_detail\"})\n",
    "\n",
    "    # Set geometry again\n",
    "    final = final.set_geometry(\"geometry\").set_crs(geography_utils.WGS84)\n",
    "\n",
    "    # Same project is split across multiple rows. Divide out project cost\n",
    "    final = correct_project_cost(final, \"proj_title\", \"funding_millions_yoe\")\n",
    "    return final"
   ]
  },
  {
   "cell_type": "code",
   "execution_count": null,
   "id": "10f74d00-6968-4eef-9ae0-4639b82542b9",
   "metadata": {},
   "outputs": [],
   "source": [
    "mtc_og = mtc_lrtp()"
   ]
  },
  {
   "cell_type": "code",
   "execution_count": null,
   "id": "63f72974-017e-4f2f-8d3d-a54dd4b842c6",
   "metadata": {
    "tags": []
   },
   "outputs": [],
   "source": [
    "give_info(mtc_og, \"proj_title\", \"total_project_cost\")"
   ]
  },
  {
   "cell_type": "code",
   "execution_count": null,
   "id": "dcdf4707-e3e4-4f58-8edd-1f4b7ba8b186",
   "metadata": {},
   "outputs": [],
   "source": [
    "def harmonize_mtc():\n",
    "    df = mtc_lrtp()\n",
    "    df = harmonizing_lrtp(\n",
    "        df,\n",
    "        project_name_col=\"proj_title\",\n",
    "        project_description_col=\"subcompone\",\n",
    "        project_category_col=\"plan_strategy\",\n",
    "        project_cost_col=\"funding_millions_yoe\",\n",
    "        location_col=\"geometry\",\n",
    "        county_col=\"county\",\n",
    "        city_col=\"\",\n",
    "        project_year_col=\"open_year\",\n",
    "        phase_col=\"\",\n",
    "        program=\"MTC\",\n",
    "        data_source=\"LRTP\",\n",
    "        note_cols=[\n",
    "            \"strategy\",\n",
    "            \"layer_name\",\n",
    "            \"mode_detai\",\n",
    "        ],\n",
    "        cost_in_millions=False,\n",
    "    )\n",
    "\n",
    "    return df"
   ]
  },
  {
   "cell_type": "code",
   "execution_count": null,
   "id": "8ae87474-d6e1-43e4-9a42-df4f6ba44c3f",
   "metadata": {},
   "outputs": [],
   "source": [
    "harmonized_mtc = harmonize_mtc()"
   ]
  },
  {
   "cell_type": "markdown",
   "id": "be9dbf44-0fa5-4082-8a57-79e282a626d1",
   "metadata": {
    "tags": []
   },
   "source": [
    "### Sacramento Area Council of Governments (SACOG)\n",
    "* https://www.sacog.org/sites/main/files/file-attachments/2020_mtp-scs.pdf?1580330993"
   ]
  },
  {
   "cell_type": "code",
   "execution_count": null,
   "id": "0b456207-635e-46e3-bd71-141fd0712069",
   "metadata": {},
   "outputs": [],
   "source": [
    "# sacog = to_snakecase(gpd.read_file(\"https://services.sacog.org/hosting/rest/services/Hosted/2040_Major_Stops/FeatureServer/0/query?outFields=*&where=1%3D1&f=geojson\"))"
   ]
  },
  {
   "cell_type": "code",
   "execution_count": null,
   "id": "ab949b09-5219-43cc-b7f4-53ee417c864f",
   "metadata": {},
   "outputs": [],
   "source": [
    "def sacog_lrtp():\n",
    "\n",
    "    df = to_snakecase(pd.read_excel(f\"{LRTP_GCS}SACOG.xlsx\"))\n",
    "\n",
    "    # Delete embedded headers\n",
    "    df = delete_embedded_headers(df, \"description\", \"Description\")\n",
    "\n",
    "    # Delete columns with all nulls\n",
    "    df = df.dropna(axis=1, how=\"all\")\n",
    "\n",
    "    # Drop duplicates\n",
    "    df = df.drop_duplicates().reset_index(drop=True)\n",
    "    \n",
    "    return df"
   ]
  },
  {
   "cell_type": "code",
   "execution_count": null,
   "id": "1ddf05b4-dbaf-45ae-b974-4cda46cd51cd",
   "metadata": {},
   "outputs": [],
   "source": [
    "sacog = sacog_lrtp()"
   ]
  },
  {
   "cell_type": "code",
   "execution_count": null,
   "id": "c9ea2918-10cc-4cc4-91e8-084689c7e56e",
   "metadata": {},
   "outputs": [],
   "source": [
    "give_info(sacog, \"title\", \"description\")"
   ]
  },
  {
   "cell_type": "code",
   "execution_count": null,
   "id": "6c28d9b7-6f91-4d19-93a4-6999311725fc",
   "metadata": {},
   "outputs": [],
   "source": [
    "def harmonize_sacog():\n",
    "    df = sacog_lrtp()\n",
    "    df = harmonizing_lrtp(\n",
    "        df,\n",
    "        project_name_col=\"title\",\n",
    "        project_description_col=\"description\",\n",
    "        project_category_col=\"budget_category\",\n",
    "        project_cost_col=\"total_project_cost__2018_dollars_\",\n",
    "        location_col=\"\",\n",
    "        county_col=\"county\",\n",
    "        city_col=\"\",\n",
    "        project_year_col=\"completion_timing\",\n",
    "        program=\"SACOG\",\n",
    "        phase_col=\"\",\n",
    "        data_source=\"LRTP\",\n",
    "        note_cols=[\n",
    "            \"year_of_expenditure_cost_for_planned_projects\",\n",
    "            \"status__planned,_programmed_or_project_development_only_\",\n",
    "        ],\n",
    "        cost_in_millions=True,\n",
    "    )\n",
    "\n",
    "    return df"
   ]
  },
  {
   "cell_type": "code",
   "execution_count": null,
   "id": "4e48abf5-e61a-44a7-bc0e-85402e61736e",
   "metadata": {},
   "outputs": [],
   "source": [
    "df = to_snakecase(pd.read_excel(f\"{LRTP_GCS}SACOG.xlsx\"))"
   ]
  },
  {
   "cell_type": "markdown",
   "id": "8872ef81-828c-4f39-bbb5-ee72db913d6e",
   "metadata": {
    "tags": []
   },
   "source": [
    "### SANDAG\n",
    "* https://www.arcgis.com/home/item.html?id=ba8b2a6247ef463cb7411f039959f3ee\n",
    "* https://www.arcgis.com/apps/mapviewer/index.html?webmap=ba8b2a6247ef463cb7411f039959f3ee"
   ]
  },
  {
   "cell_type": "code",
   "execution_count": null,
   "id": "7b48c181-36b1-49cb-8c8e-199f45f94a5e",
   "metadata": {},
   "outputs": [],
   "source": [
    "columns_to_keep = [\n",
    "    \"project_title\",\n",
    "    \"lead_agency\",\n",
    "    \"project_year\",\n",
    "    \"project_category\",\n",
    "    \"grant_program\",\n",
    "    \"project_description\",\n",
    "    \"total_project_cost\",\n",
    "    \"location\",\n",
    "    \"city\",\n",
    "    \"county\",\n",
    "    \"data_source\",\n",
    "    \"notes\",\n",
    "]"
   ]
  },
  {
   "cell_type": "code",
   "execution_count": null,
   "id": "df02e8c2-e29d-44b6-9e47-89656aff07c3",
   "metadata": {},
   "outputs": [],
   "source": [
    "def sandag_lrtp():\n",
    "    sandag_layers_list = [\n",
    "        \"Complete_Corridors_Connectors_Intersections_Ramps_RP2021\",\n",
    "        \"Complete_Corridors_Highway_RP2021\",\n",
    "        \"Transit_Leap_RP2021\",\n",
    "        \"Adopted_Regional_Bike_Network_RP2021\",\n",
    "        \"Mobility_Hubs_and_Flexible_Fleets\",\n",
    "        \"Complete_Corridors_Regional_Arterials\",\n",
    "        \"Goods_Movement\",\n",
    "    ]\n",
    "\n",
    "    sandag_url_pt1 = (\n",
    "        \"https://services1.arcgis.com/HG80xaIVT1z1OdO5/ArcGIS/rest/services/\"\n",
    "    )\n",
    "    sandag_url_pt2 = \"/FeatureServer/0/query?where=1%3D1&objectIds=&time=&geometry=&geometryType=esriGeometryEnvelope&inSR=&spatialRel=esriSpatialRelIntersects&resultType=none&distance=0.0&units=esriSRUnit_Meter&relationParam=&returnGeodetic=false&outFields=*+&returnGeometry=true&featureEncoding=esriDefault&multipatchOption=xyFootprint&maxAllowableOffset=&geometryPrecision=&outSR=&defaultSR=&datumTransformation=&applyVCSProjection=false&returnIdsOnly=false&returnUniqueIdsOnly=false&returnCountOnly=false&returnExtentOnly=false&returnQueryGeometry=false&returnDistinctValues=false&cacheHint=false&orderByFields=&groupByFieldsForStatistics=&outStatistics=&having=&resultOffset=&resultRecordCount=&returnZ=false&returnM=false&returnExceededLimitFeatures=true&quantizationParameters=&sqlFormat=none&f=pgeojson&token=\"\n",
    "    sandag = open_rest_server(sandag_url_pt1, sandag_url_pt2, sandag_layers_list)\n",
    "\n",
    "    # Same project is split across multiple rows. Divide out project cost\n",
    "    sandag.cost2020m = (\n",
    "        sandag.cost2020m.str.replace(\"$\", \"\")\n",
    "        .str.replace(\"N/A\", \"\")\n",
    "        .apply(pd.to_numeric, errors=\"coerce\")\n",
    "    )\n",
    "    sandag = correct_project_cost(sandag, \"project_name\", \"cost2020m\")\n",
    "\n",
    "    return sandag"
   ]
  },
  {
   "cell_type": "code",
   "execution_count": null,
   "id": "b0f47a03-9eb6-4add-8cbb-df84bc047281",
   "metadata": {},
   "outputs": [],
   "source": [
    "sandag = sandag_lrtp()"
   ]
  },
  {
   "cell_type": "code",
   "execution_count": null,
   "id": "8c47635c-f39f-4de5-b46c-61a37c9a5f2f",
   "metadata": {
    "tags": []
   },
   "outputs": [],
   "source": [
    "sandag.loc[sandag.project_name == \"I-15 (SR 52)\"][\n",
    "    [\"project_name\", \"total_project_cost\", \"description\"]\n",
    "]"
   ]
  },
  {
   "cell_type": "code",
   "execution_count": null,
   "id": "eab6975d-c150-48b6-a226-9160815a5f1d",
   "metadata": {},
   "outputs": [],
   "source": [
    "give_info(sandag, \"project_name\", \"total_project_cost\")"
   ]
  },
  {
   "cell_type": "code",
   "execution_count": null,
   "id": "8c0d88a6-cf33-4858-8c54-88ef88c56639",
   "metadata": {},
   "outputs": [],
   "source": [
    "def harmonize_sandag():\n",
    "    df = sandag_lrtp()\n",
    "    df = harmonizing_lrtp(\n",
    "        df,\n",
    "        project_name_col=\"project_name\",\n",
    "        project_description_col=\"description\",\n",
    "        project_category_col=\"category\",\n",
    "        project_cost_col=\"cost2020m\",\n",
    "        location_col=\"geometry\",\n",
    "        county_col=\"\",\n",
    "        city_col=\"\",\n",
    "        project_year_col=\"phase\",\n",
    "        phase_col=\"status\",\n",
    "        program=\"SANDAG\",\n",
    "        data_source=\"LRTP\",\n",
    "        note_cols=[\n",
    "            \"aqc_2016_1\",\n",
    "            \"aqc_2020_1\",\n",
    "            \"pricmcp\",\n",
    "            \"conncmcp\",\n",
    "            \"layer_name\",\n",
    "            \"corridor_i\",\n",
    "            \"type_1\",\n",
    "            \"existing\",\n",
    "            \"limits\",\n",
    "            \"description_1\",\n",
    "            \"route\",\n",
    "            \"routetype\",\n",
    "            \"route_desc\",\n",
    "            \"rp_2021_id\",\n",
    "            \"rp_2021_id_1\",\n",
    "            \"capital_cost___2020__millions\",\n",
    "        ],\n",
    "        cost_in_millions=False,\n",
    "    )\n",
    "\n",
    "    return df"
   ]
  },
  {
   "cell_type": "markdown",
   "id": "66381b2e-dc5f-43ee-b469-ab21868160a6",
   "metadata": {
    "tags": []
   },
   "source": [
    "### SBCAG"
   ]
  },
  {
   "cell_type": "code",
   "execution_count": null,
   "id": "b7790955-642c-400f-be3a-8c2fb288c476",
   "metadata": {},
   "outputs": [],
   "source": [
    "def sbcag_lrtp():\n",
    "\n",
    "    df = to_snakecase(pd.read_excel(f\"{LRTP_GCS}SBCAG.xlsx\"))\n",
    "    drop_columns = [\n",
    "        \"unnamed:_2\",\n",
    "        \"project_type\",\n",
    "        \"unnamed:_4\",\n",
    "        \"unnamed:_6\",\n",
    "        \"unnamed:_8\",\n",
    "        \"unnamed:_9\",\n",
    "        \"unnamed:_10\",\n",
    "        \"unnamed:_13\",\n",
    "    ]\n",
    "    df = df.drop(columns=drop_columns)\n",
    "    df = delete_embedded_headers(df, \"description\", \"Description\")\n",
    "    df = df.dropna(subset=[\"description\"]).reset_index(drop=True)\n",
    "\n",
    "    df = df.drop_duplicates(\n",
    "        subset=[\"phase\", \"project_title\", \"phase\", \"total_cost__$000s_\"]\n",
    "    ).reset_index(drop=True)\n",
    "    return df"
   ]
  },
  {
   "cell_type": "code",
   "execution_count": null,
   "id": "51bc1d33-07c5-4055-afdc-8a240aad7469",
   "metadata": {},
   "outputs": [],
   "source": [
    "sbcag = sbcag_lrtp()"
   ]
  },
  {
   "cell_type": "code",
   "execution_count": null,
   "id": "1ee1b034-e6dc-4948-ade3-35984f57426e",
   "metadata": {},
   "outputs": [],
   "source": [
    "give_info(sbcag, \"project_title\", \"total_cost__$000s_\")"
   ]
  },
  {
   "cell_type": "markdown",
   "id": "3f34d14f-06cc-40e1-a760-421a29e594b0",
   "metadata": {},
   "source": [
    "### INCOMPLETE Shasta County Regional Transportation Planning Agency (SCRTPA)"
   ]
  },
  {
   "cell_type": "markdown",
   "id": "dd84f14a-b566-4a75-a94a-168c8d6261e3",
   "metadata": {},
   "source": [
    "### INCOMPLETE San Luis Obispo Council of Governments (SLOCOG)"
   ]
  },
  {
   "cell_type": "markdown",
   "id": "87f84c56-f5d8-44fc-8089-43816b54a259",
   "metadata": {
    "tags": []
   },
   "source": [
    "###  SJCOG"
   ]
  },
  {
   "cell_type": "code",
   "execution_count": null,
   "id": "80638016-8bb2-494e-9686-802c49d31edb",
   "metadata": {},
   "outputs": [],
   "source": [
    "def sjcog_lrtp():\n",
    "    sheets_list = [\n",
    "        \"1 Mainline\",\n",
    "        \"2 Interchanges\",\n",
    "        \"3 Reg Roadways\",\n",
    "        \"4 RR Xings\",\n",
    "        \"5 Bus Transit\",\n",
    "        \"6 Rail Corridor\",\n",
    "        \"7 Airports\",\n",
    "        \"8 Active Trans Facilities\",\n",
    "        \"9 TCMs\",\n",
    "        \"10 Ops & Maint\",\n",
    "    ]\n",
    "    dict_df = pd.read_excel(f\"{LRTP_GCS}SJCOG.xlsx\", sheet_name=sheets_list)\n",
    "    df1 = to_snakecase(dict_df.get(\"1 Mainline\"))\n",
    "    df2 = to_snakecase(dict_df.get(\"2 Interchanges\"))\n",
    "    df3 = to_snakecase(dict_df.get(\"3 Reg Roadways\"))\n",
    "    df4 = to_snakecase(dict_df.get(\"4 RR Xings\"))\n",
    "    df5 = to_snakecase(dict_df.get(\"5 Bus Transit\"))\n",
    "    df6 = to_snakecase(dict_df.get(\"6 Rail Corridor\"))\n",
    "    df7 = to_snakecase(dict_df.get(\"7 Airports\"))\n",
    "    df8 = to_snakecase(dict_df.get(\"8 Active Trans Facilities\"))\n",
    "    df9 = to_snakecase(dict_df.get(\"9 TCMs\"))\n",
    "    df10 = to_snakecase(dict_df.get(\"10 Ops & Maint\"))\n",
    "\n",
    "    concat1 = pd.concat([df1, df2, df3, df4, df5, df6, df7, df8, df9, df10], axis=0)\n",
    "\n",
    "    sjcog_cols = [\n",
    "        \"_2018_rtp_mpo_id\",\n",
    "        \"ctips_id_#\",\n",
    "        \"jurisdiction\",\n",
    "        \"facility_name_route\",\n",
    "        \"project_description\",\n",
    "        \"project_limits\",\n",
    "        \"total\",\n",
    "        \"ftip_programming\",\n",
    "        \"nepa_approval\",\n",
    "        \"open_to_traffic\",\n",
    "        \"completion\",\n",
    "        \"completion_date\",\n",
    "        \"facility_name_route_1\",\n",
    "        \"project_description_1\",\n",
    "        \"milestone_years_1\",\n",
    "        \"project_name\",\n",
    "    ]\n",
    "\n",
    "    concat1 = concat1.dropna(\n",
    "        subset=[\n",
    "            \"project_description\",\n",
    "            \"_2018_rtp_mpo_id\",\n",
    "        ]\n",
    "    ).reset_index(drop=True)\n",
    "\n",
    "    # Some projects have no titles, create them manually\n",
    "    concat1[\"title_manual\"] = (\n",
    "        concat1.project_limits\n",
    "        + \"-\"\n",
    "        + concat1.jurisdiction\n",
    "        + \"-\"\n",
    "        + concat1.facility_name_route\n",
    "    ) \n",
    "    concat1.title_manual = concat1.title_manual.fillna(\"No Title\")\n",
    "    concat1.project_name = concat1.project_name.fillna(concat1.title_manual)\n",
    "\n",
    "    concat1 = concat1[sjcog_cols]\n",
    "\n",
    "    return concat1"
   ]
  },
  {
   "cell_type": "code",
   "execution_count": null,
   "id": "bd2fd0c9-71c0-4b64-83d4-840e92301a02",
   "metadata": {},
   "outputs": [],
   "source": [
    "sjcog = sjcog_lrtp()"
   ]
  },
  {
   "cell_type": "code",
   "execution_count": null,
   "id": "49479d46-114a-4328-855c-46bb5ce10165",
   "metadata": {},
   "outputs": [],
   "source": [
    "give_info(sjcog, \"project_name\", \"total\")"
   ]
  },
  {
   "cell_type": "markdown",
   "id": "5c6bf430-db1c-40cb-9033-e19708c8c6bd",
   "metadata": {
    "tags": []
   },
   "source": [
    "### Southern California Association of Governments (SCAG) "
   ]
  },
  {
   "cell_type": "code",
   "execution_count": null,
   "id": "9de6a1bf-486d-476c-bba4-571ab488449d",
   "metadata": {},
   "outputs": [],
   "source": [
    "def scag_lrtp():\n",
    "    sheets_list = [\"Table 1\", \"Table 2\"]\n",
    "    dict_df = pd.read_excel(f\"{LRTP_GCS}SCAG.xlsx\", sheet_name=sheets_list)\n",
    "\n",
    "    df1 = to_snakecase(dict_df.get(\"Table 1\"))\n",
    "    # Drop columns where everything is NA\n",
    "    df1 = df1.dropna(axis=1, how=\"all\")\n",
    "\n",
    "    df2 = to_snakecase(dict_df.get(\"Table 2\"))\n",
    "    df2 = df2.dropna(axis=1, how=\"all\")\n",
    "\n",
    "    # Concat\n",
    "    df3 = pd.concat([df1, df2])\n",
    "\n",
    "    df4 = delete_embedded_headers(df3, \"rtp_id\", \"RTP ID\")\n",
    "\n",
    "    df4 = df4.dropna(\n",
    "        subset=[\"description\", \"lead_agency\", \"project_cost__$1,000s_\"]\n",
    "    ).reset_index(drop=True)\n",
    "\n",
    "    # No project title - create one\n",
    "    df4[\"project_title\"] = (df4.description + \"-\" + df4.lead_agency).fillna(\"No Title\")\n",
    "\n",
    "    # Project cost is in thousands.\n",
    "    # Multiple out\n",
    "    df4[\"project_cost_millions\"] = df4[\"project_cost__$1,000s_\"] * 1_000\n",
    "    return df4"
   ]
  },
  {
   "cell_type": "code",
   "execution_count": null,
   "id": "c78fe592-971f-445c-a0e1-09c4d7a5f460",
   "metadata": {},
   "outputs": [],
   "source": [
    "scag = scag_lrtp()"
   ]
  },
  {
   "cell_type": "code",
   "execution_count": null,
   "id": "856eb789-fe6e-4944-b35c-fb84e838fbcc",
   "metadata": {},
   "outputs": [],
   "source": [
    "give_info(scag, \"project_title\", \"route_name\")"
   ]
  },
  {
   "cell_type": "code",
   "execution_count": null,
   "id": "854792d7-c99f-4fa3-9cfd-2a911c3a8d9e",
   "metadata": {},
   "outputs": [],
   "source": [
    "def harmonize_scag():\n",
    "    df = scag_lrtp()\n",
    "    df = harmonizing_lrtp(\n",
    "        df,\n",
    "        project_name_col=\"project_title\",\n",
    "        project_description_col=\"description\",\n",
    "        project_category_col=\"system\",\n",
    "        project_cost_col=\"project_cost_millions\",\n",
    "        location_col=\"\",\n",
    "        county_col=\"county\",\n",
    "        city_col=\"\",\n",
    "        project_year_col=\"completion_year\",\n",
    "        program=\"SCAG\",\n",
    "        phase_col=\"\",\n",
    "        data_source=\"LRTP\",\n",
    "        note_cols=[\"lead_agency\", \"route_#\", \"route_name\", \"from\", \"to\"],\n",
    "        cost_in_millions=True,\n",
    "    )\n",
    "\n",
    "    return df"
   ]
  },
  {
   "cell_type": "code",
   "execution_count": null,
   "id": "e0dd0b0c-b560-47c9-a074-295827ca23cc",
   "metadata": {
    "tags": []
   },
   "outputs": [],
   "source": [
    "scag_harmonized = harmonize_scag()"
   ]
  },
  {
   "cell_type": "code",
   "execution_count": null,
   "id": "a8aebe1e-9c3b-4083-b616-d3d1b0797948",
   "metadata": {},
   "outputs": [],
   "source": [
    "# scag.head()"
   ]
  },
  {
   "cell_type": "code",
   "execution_count": null,
   "id": "7a10adb1-926c-47e9-ad34-62208824dcc5",
   "metadata": {
    "tags": []
   },
   "outputs": [],
   "source": [
    "# scag_harmonized.head()"
   ]
  },
  {
   "cell_type": "markdown",
   "id": "91e53794-6958-4842-b44b-c8be70e07e28",
   "metadata": {
    "tags": []
   },
   "source": [
    "### Stancog"
   ]
  },
  {
   "cell_type": "code",
   "execution_count": null,
   "id": "713f30b2-6323-4557-9602-f52612494566",
   "metadata": {},
   "outputs": [],
   "source": [
    "def stancog_lrtp():\n",
    "\n",
    "    df = to_snakecase(pd.read_excel(f\"{LRTP_GCS}STANCOG.xlsx\"))\n",
    "    df = embedded_column_names(df, 1)\n",
    "    keep_columns = [\n",
    "        \"Jurisdiction\",\n",
    "        \"Location\",\n",
    "        \"Project Limits\",\n",
    "        \"Description\",\n",
    "        \"Total Cost\",\n",
    "        \"Open to Traffic\",\n",
    "        \"Funding Source\",\n",
    "        \"System Preserv.\",\n",
    "        \"Capacity Enhance.\",\n",
    "        \"Safety\",\n",
    "        \"Oper.\",\n",
    "        \"Complete Streets\",\n",
    "        \"Active\\nTransporta tion\",\n",
    "        \"Transit\",\n",
    "        \"Other\",\n",
    "    ]\n",
    "\n",
    "    df = df[keep_columns]\n",
    "\n",
    "    df = to_snakecase(df)\n",
    "\n",
    "    df = df.dropna(subset=[\"description\"]).reset_index(drop=True)\n",
    "\n",
    "    df[\"title\"] = (df.location + \"-\" + df.description).fillna(\"No Title\")\n",
    "\n",
    "    df = delete_embedded_headers(df, \"location\", \"Location\")\n",
    "\n",
    "    df = df.drop_duplicates(\n",
    "        subset=[\"title\", \"location\", \"jurisdiction\", \"total_cost\", \"open_to_traffic\"]\n",
    "    ).reset_index(drop=True)\n",
    "    return df"
   ]
  },
  {
   "cell_type": "code",
   "execution_count": null,
   "id": "00a53e3d-700a-4a78-befc-27e83cd42cad",
   "metadata": {},
   "outputs": [],
   "source": [
    "stancog = stancog_lrtp()"
   ]
  },
  {
   "cell_type": "code",
   "execution_count": null,
   "id": "8a0e5a3b-273d-4781-96fe-abf63b5937e9",
   "metadata": {},
   "outputs": [],
   "source": [
    "give_info(stancog, \"title\", \"total_cost\")"
   ]
  },
  {
   "cell_type": "markdown",
   "id": "f806dda3-1fb0-4c41-b6b3-729bf31afc3a",
   "metadata": {
    "tags": []
   },
   "source": [
    "### TMPO (Tahoe)\n",
    "\\\n",
    "* Open data portal: https://www.tahoeopendata.org/search?tags=transportation\n",
    "* https://www.tahoeopendata.org/datasets/TRPA::2020-regional-transportation-plan-projects/about"
   ]
  },
  {
   "cell_type": "code",
   "execution_count": null,
   "id": "56da12dd-7e5a-4a98-b5d2-05067016d49b",
   "metadata": {},
   "outputs": [],
   "source": [
    "def tmpo_lrtp():\n",
    "    tahoe_url = \"https://maps.trpa.org/server/rest/services/Datadownloader_Transportation/MapServer/19/query?where=1%3D1&text=&objectIds=&time=&timeRelation=esriTimeRelationOverlaps&geometry=&geometryType=esriGeometryEnvelope&inSR=&spatialRel=esriSpatialRelIntersects&distance=&units=esriSRUnit_Foot&relationParam=&outFields=*+&returnGeometry=true&returnTrueCurves=false&maxAllowableOffset=&geometryPrecision=&outSR=&havingClause=&returnIdsOnly=false&returnCountOnly=false&orderByFields=&groupByFieldsForStatistics=&outStatistics=&returnZ=false&returnM=false&gdbVersion=&historicMoment=&returnDistinctValues=false&resultOffset=&resultRecordCount=&returnExtentOnly=false&sqlFormat=none&datumTransformation=&parameterValues=&rangeValues=&quantizationParameters=&featureEncoding=esriDefault&f=geojson\"\n",
    "    gdf = to_snakecase(gpd.read_file(tahoe_url))\n",
    "    gdf.complete_year = gdf.complete_year.astype(int)\n",
    "\n",
    "    # Filter out projects that are not yet completed\n",
    "    gdf2 = gdf[gdf.complete_year > 2022].reset_index(drop=True)\n",
    "\n",
    "    gdf2[\"project_year\"] = (\n",
    "        gdf2.start_year.astype(str) + \"-\" + gdf.complete_year.astype(str)\n",
    "    )\n",
    "    return gdf2"
   ]
  },
  {
   "cell_type": "code",
   "execution_count": null,
   "id": "42199cf2-c74f-4311-90a3-f97bb50f02d5",
   "metadata": {},
   "outputs": [],
   "source": [
    "tahoe = tmpo_lrtp()"
   ]
  },
  {
   "cell_type": "code",
   "execution_count": null,
   "id": "df889ca3-c301-41e6-ac6a-b11526802c68",
   "metadata": {
    "tags": []
   },
   "outputs": [],
   "source": [
    "tahoe[['project_name','total_cost']].sort_values(['project_name']).head()"
   ]
  },
  {
   "cell_type": "code",
   "execution_count": null,
   "id": "7adc4e36-a827-4342-8bdf-eb95d61dc5eb",
   "metadata": {},
   "outputs": [],
   "source": [
    "def harmonize_tahoe():\n",
    "    df = tmpo_lrtp()\n",
    "    df = harmonizing_lrtp(\n",
    "        df,\n",
    "        project_name_col=\"project_name\",\n",
    "        project_description_col=\"description\",\n",
    "        project_category_col=\"category\",\n",
    "        project_cost_col=\"estimated_cost\",\n",
    "        location_col=\"geometry\",\n",
    "        county_col=\"\",\n",
    "        city_col=\"\",\n",
    "        project_year_col=\"project_year\",\n",
    "        program=\"TMPO\",\n",
    "        phase_col=\"phase\",\n",
    "        data_source=\"LRTP\",\n",
    "        note_cols=[\n",
    "            \"implementer\",\n",
    "            \"funding_type\",\n",
    "            \"plan_name\",\n",
    "            \"label\",\n",
    "            \"financial_status\",\n",
    "            \"url\",\n",
    "        ],\n",
    "        cost_in_millions=True,\n",
    "    )\n",
    "\n",
    "    return df"
   ]
  },
  {
   "cell_type": "markdown",
   "id": "cf52b56b-cb26-4784-a794-25180ee1ce2c",
   "metadata": {},
   "source": [
    "### TCAG"
   ]
  },
  {
   "cell_type": "code",
   "execution_count": null,
   "id": "2e563a31-912a-407e-a1ee-3e27060d18ae",
   "metadata": {},
   "outputs": [],
   "source": [
    "def tcag_lrtp():\n",
    "    df = to_snakecase(pd.read_excel(f\"{LRTP_GCS}TCAG.xlsx\"))\n",
    "\n",
    "    def completion_2035(row):\n",
    "        if row.completed_by_2035_y_n == \"Y\":\n",
    "            return \"2035\"\n",
    "\n",
    "    df[\"completion_year\"] = df.apply(lambda x: completion_2035(x), axis=1)\n",
    "    \n",
    "    df['cost_in_millions'] = df['cost_x_1,000']*1_000\n",
    "    return df"
   ]
  },
  {
   "cell_type": "code",
   "execution_count": null,
   "id": "5cac2a0f-cee5-401c-9c83-68ba056a3578",
   "metadata": {},
   "outputs": [],
   "source": [
    "tcag = tcag_lrtp()"
   ]
  },
  {
   "cell_type": "code",
   "execution_count": null,
   "id": "b51df71b-aff6-47d9-85a6-3fca3395949e",
   "metadata": {},
   "outputs": [],
   "source": [
    "tcag.groupby([\"project_title\", \"cost_x_1,000\"]).agg({'project_category':'count'}).sort_values('project_category', ascending = False).head()"
   ]
  },
  {
   "cell_type": "code",
   "execution_count": null,
   "id": "633c1c86-3f05-4faf-bc65-419862cb76e1",
   "metadata": {},
   "outputs": [],
   "source": [
    "give_info(tcag, \"project_title\", \"cost_x_1,000\")"
   ]
  },
  {
   "cell_type": "code",
   "execution_count": null,
   "id": "1c822210-3f93-437e-8823-645cdd99aa80",
   "metadata": {},
   "outputs": [],
   "source": [
    "# tcag[tcag.project_title == \"Bike/Ped Improvements next 9 yrs second half of measure R\"]"
   ]
  },
  {
   "cell_type": "markdown",
   "id": "c471e856-9603-4174-85e3-7b5612599f76",
   "metadata": {
    "tags": []
   },
   "source": [
    "## Congestion"
   ]
  },
  {
   "cell_type": "markdown",
   "id": "93a08cfd-9bf0-43c5-aa47-360644e03d3b",
   "metadata": {
    "tags": []
   },
   "source": [
    "#### Lost"
   ]
  },
  {
   "cell_type": "code",
   "execution_count": null,
   "id": "768f56f8-3f8f-4bee-a47d-6e2ad031af6e",
   "metadata": {},
   "outputs": [],
   "source": [
    "lost = harmonization_utils.load_lost()"
   ]
  },
  {
   "cell_type": "code",
   "execution_count": null,
   "id": "c99deb53-c295-43ef-aedc-bd34e103f2d4",
   "metadata": {},
   "outputs": [],
   "source": [
    "def harmonize_lost():\n",
    "    df = harmonization_utils.load_lost()\n",
    "    df = harmonizing_lrtp(\n",
    "        df,\n",
    "        project_name_col=\"project_title\",\n",
    "        project_description_col=\"project_description\",\n",
    "        project_category_col=\"project_category\",\n",
    "        project_cost_col=\"cost__in_millions_\",\n",
    "        location_col=\"\",\n",
    "        county_col=\"county\",\n",
    "        city_col=\"city\",\n",
    "        project_year_col=\"\",\n",
    "        program=\"\",\n",
    "        phase_col=\"phase\",\n",
    "        data_source=\"LOST\",\n",
    "        note_cols=[\n",
    "            \"measure\",\n",
    "            \"estimated_lost_funds\",\n",
    "            \"estimated_federal_funds\",\n",
    "            \"estimated_state_funds\",\n",
    "            \"estimated_local_funds\",\n",
    "            \"estimated_other_funds\",\n",
    "            \"notes\",\n",
    "        ],\n",
    "        cost_in_millions=False,\n",
    "    )\n",
    "\n",
    "    return df"
   ]
  },
  {
   "cell_type": "code",
   "execution_count": null,
   "id": "c3bdc3b8-acec-4611-a7ff-1d5a3e28829d",
   "metadata": {},
   "outputs": [],
   "source": [
    "lost_harmonized = harmonize_lost()"
   ]
  },
  {
   "cell_type": "code",
   "execution_count": null,
   "id": "b09c5244-9c4e-4c40-b55f-7d20b0c4154b",
   "metadata": {},
   "outputs": [],
   "source": [
    "def all_mpo():\n",
    "    tahoe = harmonize_tahoe()\n",
    "    sandag = harmonize_sandag()\n",
    "    mtc = harmonize_mtc()\n",
    "    lost = harmonize_lost()\n",
    "    sacog = harmonize_sacog()\n",
    "    scag = harmonize_scag()\n",
    "\n",
    "    df = pd.concat([tahoe, mtc, sandag, lost, sacog, scag])\n",
    "\n",
    "    return df"
   ]
  },
  {
   "cell_type": "code",
   "execution_count": null,
   "id": "f6029dfe-f101-4907-b124-02ac0a08983a",
   "metadata": {},
   "outputs": [],
   "source": [
    "all_mpo_df = all_mpo()"
   ]
  },
  {
   "cell_type": "code",
   "execution_count": null,
   "id": "cbf33c3b-c592-4ba3-a422-ccf599a1dcb2",
   "metadata": {},
   "outputs": [],
   "source": [
    "all_mpo_df.groupby([\"grant_program\"]).size()"
   ]
  },
  {
   "cell_type": "code",
   "execution_count": null,
   "id": "48a098da-a194-4515-8bf9-ac08dd3b109e",
   "metadata": {},
   "outputs": [],
   "source": [
    "congest_keywords = [\n",
    "    \"congestion pricing\",\n",
    "    \"variablly priced\",\n",
    "    \"variable tolls\",\n",
    "    \"express lane\",\n",
    "    \"value pricing\",\n",
    "    \"rush hour\",\n",
    "    \"cordon\",\n",
    "    \"dynamic pricing\",\n",
    "    \"dynmically priced\",\n",
    "    \"high occupancy toll\",\n",
    "    \"mobility pricing\",\n",
    "    \"occupancy\",\n",
    "    \"toll lane\",\n",
    "    \"performance pricing\",\n",
    "    \"peak travel\",\n",
    "    \"managed lane\",\n",
    "    \"tollway\",\n",
    "    \"transponder\",\n",
    "    \"express toll\",\n",
    "    \"fixed pricing\",\n",
    "]"
   ]
  },
  {
   "cell_type": "code",
   "execution_count": null,
   "id": "301e83a2-af81-404f-9451-f9e2d1b3e57d",
   "metadata": {},
   "outputs": [],
   "source": [
    "cordon_gdf, cordon_df = list_utils.filter_cordon(all_mpo_df,[\"project_title\", \"project_description\",],congest_keywords, True)"
   ]
  },
  {
   "cell_type": "code",
   "execution_count": null,
   "id": "6c0c5fcb-fb7a-4be1-8697-7efd3dad357f",
   "metadata": {},
   "outputs": [],
   "source": [
    "len(cordon_df), len(cordon_gdf)"
   ]
  },
  {
   "cell_type": "code",
   "execution_count": null,
   "id": "a4285906-c2b6-4a0b-b3b6-c781d14af5e6",
   "metadata": {
    "scrolled": true,
    "tags": []
   },
   "outputs": [],
   "source": [
    "cordon_df.sort_values(by = 'project_title')"
   ]
  },
  {
   "cell_type": "code",
   "execution_count": null,
   "id": "73326293-f186-4035-b66e-efcdc8ed00e6",
   "metadata": {
    "tags": []
   },
   "outputs": [],
   "source": [
    "cordon_df.groupby([\"grant_program\"]).agg({\"project_title\": \"count\"})"
   ]
  },
  {
   "cell_type": "code",
   "execution_count": null,
   "id": "620d54f6-cf89-4f60-a834-0f53fab2355c",
   "metadata": {},
   "outputs": [],
   "source": [
    "cordon_df.groupby([\"grant_program\"]).agg({\"total_project_cost\": \"sum\"})"
   ]
  },
  {
   "cell_type": "code",
   "execution_count": null,
   "id": "ff133b8e-e666-4dde-84d4-56e3e6e833b0",
   "metadata": {},
   "outputs": [],
   "source": [
    "cordon_df.grant_program.value_counts()"
   ]
  },
  {
   "cell_type": "code",
   "execution_count": null,
   "id": "7a7e908b-7094-45ee-8be2-5aea244c699c",
   "metadata": {},
   "outputs": [],
   "source": [
    "cordon_gdf.columns"
   ]
  },
  {
   "cell_type": "code",
   "execution_count": null,
   "id": "c9fa0c9e-e596-468b-9e5c-82c7c5b8a7de",
   "metadata": {},
   "outputs": [],
   "source": [
    "gdf_map_subset = ['project_title', 'lead_agency', 'project_year','project_description','total_project_cost','geometry']"
   ]
  },
  {
   "cell_type": "code",
   "execution_count": null,
   "id": "e5394efd-2a93-46e0-8e5d-bc9326680b24",
   "metadata": {},
   "outputs": [],
   "source": [
    "cordon_gdf[gdf_map_subset].explore('project_title', cmap= 'tab20c', style_kwds={'weight':6}, legend = False)"
   ]
  },
  {
   "cell_type": "code",
   "execution_count": null,
   "id": "1b495686-0b2d-4674-926d-efcdd1a9ce46",
   "metadata": {},
   "outputs": [],
   "source": []
  }
 ],
 "metadata": {
  "kernelspec": {
   "display_name": "Python 3 (ipykernel)",
   "language": "python",
   "name": "python3"
  },
  "language_info": {
   "codemirror_mode": {
    "name": "ipython",
    "version": 3
   },
   "file_extension": ".py",
   "mimetype": "text/x-python",
   "name": "python",
   "nbconvert_exporter": "python",
   "pygments_lexer": "ipython3",
   "version": "3.9.13"
  }
 },
 "nbformat": 4,
 "nbformat_minor": 5
}
