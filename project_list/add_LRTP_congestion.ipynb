{
 "cells": [
  {
   "cell_type": "markdown",
   "id": "ec8f501a-adea-4a26-a123-b8813b11a7f8",
   "metadata": {},
   "source": [
    "## Long Range Transportation Plan"
   ]
  },
  {
   "cell_type": "code",
   "execution_count": 59,
   "id": "4d9c4625-d899-467f-822f-685ea519e37a",
   "metadata": {},
   "outputs": [],
   "source": [
    "import _harmonization_utils as harmonization_utils\n",
    "import _specific_list_utils as list_utils\n",
    "import geopandas as gpd\n",
    "import numpy as np\n",
    "import pandas as pd\n",
    "from calitp_data_analysis.sql import to_snakecase"
   ]
  },
  {
   "cell_type": "code",
   "execution_count": 60,
   "id": "acc6bd58-2f9f-41b2-8920-f13e7dee3577",
   "metadata": {},
   "outputs": [],
   "source": [
    "import fsspec"
   ]
  },
  {
   "cell_type": "code",
   "execution_count": 61,
   "id": "c98b342d-5b6d-4ec2-8d19-b57cab057892",
   "metadata": {},
   "outputs": [],
   "source": [
    "pd.options.display.max_columns = 100\n",
    "pd.options.display.float_format = \"{:.2f}\".format\n",
    "pd.set_option(\"display.max_rows\", None)\n",
    "pd.set_option(\"display.max_colwidth\", None)"
   ]
  },
  {
   "cell_type": "code",
   "execution_count": 62,
   "id": "2cf79fc5-8683-40b7-af93-c9edb9c5bc57",
   "metadata": {},
   "outputs": [],
   "source": [
    "LRTP_GCS = f\"{harmonization_utils.GCS_FILE_PATH}LRTP/\""
   ]
  },
  {
   "cell_type": "markdown",
   "id": "e3e8de85-ee99-4e15-b234-d7a0053bd982",
   "metadata": {
    "tags": []
   },
   "source": [
    "### General Functions"
   ]
  },
  {
   "cell_type": "code",
   "execution_count": 63,
   "id": "51dfac91-35f8-4eb0-bcb1-2f7d09296e01",
   "metadata": {},
   "outputs": [],
   "source": [
    "def give_info(df, project_title: str, other_descriptive_col: str):\n",
    "    print(df[project_title].value_counts().head())\n",
    "    print(f\"# of unique project titles: {df[project_title].nunique()}\")\n",
    "    print(\n",
    "        f\"After dropping duplicates using {project_title} and {other_descriptive_col}: {len(df.drop_duplicates(subset = [project_title, other_descriptive_col]))}\"\n",
    "    )\n",
    "    print(f\"Df shape: {df.shape}\")\n",
    "    print(df.columns)"
   ]
  },
  {
   "cell_type": "code",
   "execution_count": 64,
   "id": "d86d09e6-ba33-423c-af81-6d65f5444499",
   "metadata": {},
   "outputs": [],
   "source": [
    "def harmonizing_lrtp(\n",
    "    df,\n",
    "    project_name_col: str,\n",
    "    project_description_col: str,\n",
    "    project_category_col: str,\n",
    "    project_cost_col: str,\n",
    "    location_col: str,\n",
    "    county_col: str,\n",
    "    city_col: str,\n",
    "    project_year_col: str,\n",
    "    phase_col: str,\n",
    "    program: str,\n",
    "    data_source: str,\n",
    "    note_cols: list,\n",
    "    cost_in_millions: bool = True,\n",
    "):\n",
    "    \"\"\"\n",
    "    Take a dataset and change the column names/types to\n",
    "    the same names and formats.\n",
    "    \"\"\"\n",
    "    rename_columns = {\n",
    "        project_name_col: \"project_title\",\n",
    "        phase_col: \"phase\",\n",
    "        project_description_col: \"project_description\",\n",
    "        project_category_col: \"project_category\",\n",
    "        project_cost_col: \"total_project_cost\",\n",
    "        location_col: \"geometry\",\n",
    "        county_col: \"county\",\n",
    "        city_col: \"city\",\n",
    "        project_year_col: \"project_year\",\n",
    "    }\n",
    "    # Rename columns\n",
    "    df = df.rename(columns=rename_columns)\n",
    "\n",
    "    # Coerce cost/fund columns to right type\n",
    "    cost_columns = df.columns[df.columns.str.contains(\"(cost|funds)\")].tolist()\n",
    "\n",
    "    for i in cost_columns:\n",
    "        df[i] = df[i].apply(pd.to_numeric, errors=\"coerce\")\n",
    "\n",
    "    # Add MPO & grant program\n",
    "    df[\"lead_agency\"] = program\n",
    "    df[\"grant_program\"] = f\"{program} {data_source}\"\n",
    "\n",
    "    # Add data source\n",
    "    df[\"data_source\"] = program\n",
    "\n",
    "    # Divide cost columns by millions\n",
    "    # If bool is set to True\n",
    "    if cost_in_millions:\n",
    "        for i in cost_columns:\n",
    "            df[i] = df[i].divide(1_000_000)\n",
    "\n",
    "    # Create columns even if they don't exist, just to harmonize\n",
    "    # before concatting.\n",
    "    create_columns = [\n",
    "        \"county\",\n",
    "        \"city\",\n",
    "        \"notes\",\n",
    "        \"project_year\",\n",
    "        \"project_category\",\n",
    "        \"phase\",\n",
    "        \"project_description\",\n",
    "    ]\n",
    "\n",
    "    for column in create_columns:\n",
    "        if column not in df:\n",
    "            df[column] = \"None\"\n",
    "    if \"geometry\" not in df:\n",
    "        df[\"geometry\"] = None\n",
    "    if \"total_project_cost\" not in df:\n",
    "        df[\"total_project_cost\"]: 0\n",
    "\n",
    "    # Create notes\n",
    "    df = create_notes(df, note_cols)\n",
    "\n",
    "    columns_to_keep = [\n",
    "        \"project_title\",\n",
    "        \"lead_agency\",\n",
    "        \"project_year\",\n",
    "        \"project_category\",\n",
    "        \"grant_program\",\n",
    "        \"project_description\",\n",
    "        \"phase\",\n",
    "        \"total_project_cost\",\n",
    "        \"geometry\",\n",
    "        \"city\",\n",
    "        \"county\",\n",
    "        \"data_source\",\n",
    "        \"notes\",\n",
    "    ]\n",
    "\n",
    "    df = df[columns_to_keep]\n",
    "\n",
    "    return df"
   ]
  },
  {
   "cell_type": "code",
   "execution_count": 65,
   "id": "491babec-45f7-46bd-957f-b10454a423ce",
   "metadata": {},
   "outputs": [],
   "source": [
    "def embedded_column_names(df, data_start: int) -> pd.DataFrame:\n",
    "    \"\"\"\n",
    "    Some excel sheets have headers and column names\n",
    "    embedded in the dataframe. Take them out.\n",
    "\n",
    "    Args:\n",
    "        data_start: the row number the column names begin.\n",
    "    \"\"\"\n",
    "    # Delete header\n",
    "    df = df.iloc[data_start:].reset_index(drop=True)\n",
    "    # The first row contains column names - update it to the column\n",
    "    df.columns = df.iloc[0]\n",
    "\n",
    "    # Drop the first row as they are now column names\n",
    "    df = df.drop(df.index[0]).reset_index(drop=True)\n",
    "\n",
    "    return df"
   ]
  },
  {
   "cell_type": "code",
   "execution_count": 66,
   "id": "21933c7b-c56a-478a-9cd2-01b6f9c7a435",
   "metadata": {},
   "outputs": [],
   "source": [
    "def create_notes(df, note_cols: list):\n",
    "    \"\"\"\n",
    "    Combine mulitple columns together\n",
    "    into a single column to minimize space.\n",
    "    \"\"\"\n",
    "    prefix = \"_\"\n",
    "    for column in note_cols:\n",
    "        df[f\"{prefix}{column}\"] = df[column].astype(str)\n",
    "    note_cols = [prefix + sub for sub in note_cols]\n",
    "\n",
    "    # https://stackoverflow.com/questions/65532480/how-to-combine-column-names-and-values\n",
    "    def combine_notes(x):\n",
    "        return \", \".join([col + \": \" + x[col] for col in note_cols])\n",
    "\n",
    "    df[\"notes\"] = df.apply(combine_notes, axis=1)\n",
    "    df.notes = df.notes.str.replace(\"_\", \" \")\n",
    "\n",
    "    return df"
   ]
  },
  {
   "cell_type": "code",
   "execution_count": 67,
   "id": "b2b9fbf7-97d0-4319-b119-a77ca185c21a",
   "metadata": {},
   "outputs": [],
   "source": [
    "def open_rest_server(url_pt_1: str, url_pt_2: str, layer_name: list):\n",
    "    \"\"\"\n",
    "    Open up data that is availably publicly via ArcGis\n",
    "    \"\"\"\n",
    "    full_gdf = pd.DataFrame()\n",
    "    for i in layer_name:\n",
    "        gdf = to_snakecase(gpd.read_file(f\"{url_pt_1}{i}{url_pt_2}\"))\n",
    "        gdf[\"layer_name\"] = i\n",
    "        full_gdf = pd.concat([full_gdf, gdf], axis=0)\n",
    "\n",
    "    return full_gdf"
   ]
  },
  {
   "cell_type": "code",
   "execution_count": 68,
   "id": "6759a3d7-4b34-4d4e-a12f-ea0f8e53f261",
   "metadata": {},
   "outputs": [],
   "source": [
    "def delete_embedded_headers(df, column: str, string_search: str) -> pd.DataFrame:\n",
    "    \"\"\"\n",
    "    Some PDFS include the column names embedded mulitple times\n",
    "    within the df. Delete them out.\n",
    "\n",
    "    Example: Under the column 'description', delete the rows\n",
    "    in which the value is 'description.' This signals that the row\n",
    "    is just repeating the column name again.\n",
    "    \"\"\"\n",
    "    headers = df[df[column].str.contains(string_search) == True]\n",
    "    headers_index_list = headers.index.values.tolist()\n",
    "\n",
    "    print(f\"{len(headers_index_list)} rows are headers\")\n",
    "\n",
    "    df2 = df.drop(headers_index_list).reset_index(drop=True)\n",
    "    return df2"
   ]
  },
  {
   "cell_type": "code",
   "execution_count": 69,
   "id": "0c571b45-6c47-417e-a99c-2f953b7b3bf4",
   "metadata": {},
   "outputs": [],
   "source": [
    "def correct_project_cost(df, project_title_col: str, project_total_cost: str):\n",
    "    \"\"\"\n",
    "    For some datasets, the same project\n",
    "    (as determined by the same project name, cost,\n",
    "    and source) is split across multiple rows.\n",
    "\n",
    "    Ex: A project costs $500 million and is\n",
    "    split on 5 rows by phase/location. Each row still lists\n",
    "    the total  cost as $500 million, which is not accurate.\n",
    "    This function will recalculate each of the row to list\n",
    "    $100 mil as the total project cost\n",
    "    \"\"\"\n",
    "    # Create a unique identifier\n",
    "    df[\"unique_identifier\"] = df[project_title_col] + df[project_total_cost].astype(str)\n",
    "\n",
    "    # Create count for each project\n",
    "    df[\"how_many_times_same_proj_appears\"] = (\n",
    "        df.groupby(\"unique_identifier\").cumcount() + 1\n",
    "    )\n",
    "\n",
    "    # Find the total number of times a project title-cost appears.\n",
    "    # Sort by descending and keep only the row with the highest level\n",
    "    keep_cols = [\n",
    "        project_title_col,\n",
    "        \"how_many_times_same_proj_appears\",\n",
    "        project_total_cost,\n",
    "        \"unique_identifier\",\n",
    "    ]\n",
    "    df2 = (\n",
    "        df[keep_cols]\n",
    "        .sort_values(\n",
    "            [project_title_col, \"how_many_times_same_proj_appears\"], ascending=False\n",
    "        )\n",
    "        .drop_duplicates(subset=[\"unique_identifier\"])\n",
    "    )\n",
    "\n",
    "    # Create new funding estimate\n",
    "    df2[\"new_proj_cost\"] = (\n",
    "        df2[project_total_cost] / df2[\"how_many_times_same_proj_appears\"]\n",
    "    )\n",
    "\n",
    "    # Drop some columns\n",
    "    df2 = df2.drop(\n",
    "        columns=[\n",
    "            project_title_col,\n",
    "            project_total_cost,\n",
    "            \"how_many_times_same_proj_appears\",\n",
    "        ]\n",
    "    )\n",
    "\n",
    "    # Merge\n",
    "    m1 = pd.merge(df, df2, how=\"inner\", on=\"unique_identifier\")\n",
    "\n",
    "    # Clean up\n",
    "    m1 = m1.drop(\n",
    "        columns=[\n",
    "            \"unique_identifier\",\n",
    "            \"how_many_times_same_proj_appears\",\n",
    "            project_total_cost,\n",
    "        ]\n",
    "    )\n",
    "    m1[\n",
    "        \"total_project_cost_note\"\n",
    "    ] = \"This is an estimate of how much the project cost, estimated by dividing the total project cost by how many times the project appears in the dataset.\"\n",
    "\n",
    "    # Replace project cost\n",
    "    m1 = m1.rename(columns={\"new_proj_cost\": \"total_project_cost\"})\n",
    "    return m1"
   ]
  },
  {
   "cell_type": "markdown",
   "id": "e92a58d1-9231-4237-bb0a-8602c94bcb36",
   "metadata": {},
   "source": [
    "### Ambag"
   ]
  },
  {
   "cell_type": "code",
   "execution_count": 70,
   "id": "dc892005-c596-4b87-b789-5b0d4714cbf4",
   "metadata": {},
   "outputs": [],
   "source": [
    "def ambag_lrtp():\n",
    "    ambag1 = pd.read_excel(\n",
    "        f\"{LRTP_GCS}AMBAG_2045 Revenue Constrained Project List_Monterey County_by Project Type__022823.xlsx\"\n",
    "    )\n",
    "    ambag2 = pd.read_excel(\n",
    "        f\"{LRTP_GCS}AMBAG_2045 Revenue Constrained Project List_San Benito County_by Project Type__022823.xlsx\"\n",
    "    )\n",
    "    ambag3 = pd.read_excel(\n",
    "        f\"{LRTP_GCS}AMBAG_2045 Revenue Constrained Project List_Santa Cruz County_by Project Type__041923.xlsx\"\n",
    "    )\n",
    "\n",
    "    # Move column names up\n",
    "    ambag1 = embedded_column_names(ambag1, 1)\n",
    "    ambag2 = embedded_column_names(ambag2, 1)\n",
    "    ambag3 = embedded_column_names(ambag3, 1)\n",
    "\n",
    "    # Add county\n",
    "    ambag1[\"county\"] = \"Santa Cruz\"\n",
    "    ambag2[\"county\"] = \"Monterey\"\n",
    "    ambag3[\"county\"] = \"San Benito\"\n",
    "\n",
    "    # Conat & clean\n",
    "    concat1 = pd.concat([ambag1, ambag2, ambag3], axis=0)\n",
    "    concat1 = concat1.drop(columns=[2035.0, 2045.0, 2020.0, 2035.0])\n",
    "\n",
    "    concat1 = to_snakecase(concat1)\n",
    "\n",
    "    # Millions\n",
    "    concat1[\"total_cost_millions\"] = concat1[\"total_cost_\\n_$_000s_\"] * 1_000\n",
    "    return concat1"
   ]
  },
  {
   "cell_type": "code",
   "execution_count": 71,
   "id": "d720503d-34a1-438b-b42a-dc58f4a52aef",
   "metadata": {},
   "outputs": [],
   "source": [
    "ambag = ambag_lrtp()"
   ]
  },
  {
   "cell_type": "code",
   "execution_count": 72,
   "id": "0aa672e4-406a-4390-a822-1b10b1fb8cfb",
   "metadata": {},
   "outputs": [
    {
     "name": "stdout",
     "output_type": "stream",
     "text": [
      "Citywide Bike Lanes                         2\n",
      "The Alameda - Salinas Road Bike Route       2\n",
      "Citywide Sidewalk Program                   2\n",
      "Carmel to Pebble Beach Bike/Ped Facility    1\n",
      "Second Street Bike Lane                     1\n",
      "Name: project, dtype: int64\n",
      "# of unique project titles: 277\n",
      "After dropping duplicates using project and project_description: 280\n",
      "Df shape: (280, 6)\n",
      "Index(['ambag_id', 'project', 'project_description', 'total_cost_\\n_$_000s_',\n",
      "       'county', 'total_cost_millions'],\n",
      "      dtype='object', name=0)\n"
     ]
    }
   ],
   "source": [
    "give_info(ambag, \"project\", \"project_description\")"
   ]
  },
  {
   "cell_type": "code",
   "execution_count": 73,
   "id": "3fc71478-28be-4e69-9f10-de8b04043119",
   "metadata": {},
   "outputs": [
    {
     "data": {
      "text/html": [
       "<div>\n",
       "<style scoped>\n",
       "    .dataframe tbody tr th:only-of-type {\n",
       "        vertical-align: middle;\n",
       "    }\n",
       "\n",
       "    .dataframe tbody tr th {\n",
       "        vertical-align: top;\n",
       "    }\n",
       "\n",
       "    .dataframe thead th {\n",
       "        text-align: right;\n",
       "    }\n",
       "</style>\n",
       "<table border=\"1\" class=\"dataframe\">\n",
       "  <thead>\n",
       "    <tr style=\"text-align: right;\">\n",
       "      <th></th>\n",
       "      <th>ambag_id</th>\n",
       "      <th>project</th>\n",
       "      <th>project_description</th>\n",
       "      <th>total_cost_\\n_$_000s_</th>\n",
       "      <th>county</th>\n",
       "      <th>total_cost_millions</th>\n",
       "    </tr>\n",
       "  </thead>\n",
       "  <tbody>\n",
       "    <tr>\n",
       "      <th>133</th>\n",
       "      <td>MON-SOL075-SO</td>\n",
       "      <td>Citywide Bike Lanes</td>\n",
       "      <td>Bike Lanes (2007 TIF M2, 2013 TIF M2); construct bike lanes citywide</td>\n",
       "      <td>1440</td>\n",
       "      <td>Santa Cruz</td>\n",
       "      <td>1440000</td>\n",
       "    </tr>\n",
       "    <tr>\n",
       "      <th>52</th>\n",
       "      <td>SC-SV-P41-SCV</td>\n",
       "      <td>Citywide Bike Lanes</td>\n",
       "      <td>Construction of additional bike lanes and paths citywide (including Green Hills).</td>\n",
       "      <td>2060</td>\n",
       "      <td>San Benito</td>\n",
       "      <td>2060000</td>\n",
       "    </tr>\n",
       "  </tbody>\n",
       "</table>\n",
       "</div>"
      ],
      "text/plain": [
       "0         ambag_id              project  \\\n",
       "133  MON-SOL075-SO  Citywide Bike Lanes   \n",
       "52   SC-SV-P41-SCV  Citywide Bike Lanes   \n",
       "\n",
       "0                                                                  project_description  \\\n",
       "133               Bike Lanes (2007 TIF M2, 2013 TIF M2); construct bike lanes citywide   \n",
       "52   Construction of additional bike lanes and paths citywide (including Green Hills).   \n",
       "\n",
       "0   total_cost_\\n_$_000s_      county total_cost_millions  \n",
       "133                  1440  Santa Cruz             1440000  \n",
       "52                   2060  San Benito             2060000  "
      ]
     },
     "execution_count": 73,
     "metadata": {},
     "output_type": "execute_result"
    }
   ],
   "source": [
    "ambag.loc[ambag.project == \"Citywide Bike Lanes\"]"
   ]
  },
  {
   "cell_type": "code",
   "execution_count": 74,
   "id": "1fe020fc-eaee-417b-9a3a-4c9d74a0d407",
   "metadata": {},
   "outputs": [],
   "source": [
    "def harmonize_ambag():\n",
    "    df = ambag_lrtp()\n",
    "    df = harmonizing_lrtp(\n",
    "        df,\n",
    "        project_name_col=\"project\",\n",
    "        project_description_col=\"project_description\",\n",
    "        project_category_col=\"\",\n",
    "        project_cost_col=\"total_cost_millions\",\n",
    "        location_col=\"\",\n",
    "        county_col=\"\",\n",
    "        city_col=\"\",\n",
    "        project_year_col=\"\",\n",
    "        program=\"AMBAG\",\n",
    "        phase_col=\"\",\n",
    "        data_source=\"LRTP\",\n",
    "        note_cols=[\"county\"],\n",
    "        cost_in_millions=True,\n",
    "    )\n",
    "\n",
    "    return df"
   ]
  },
  {
   "cell_type": "markdown",
   "id": "01a85ba7-2fe4-4105-bbd2-4b6fc03d3dad",
   "metadata": {
    "tags": []
   },
   "source": [
    "### BCAG "
   ]
  },
  {
   "cell_type": "code",
   "execution_count": 75,
   "id": "e70e3c42-6efe-4665-955e-91960758d7fb",
   "metadata": {},
   "outputs": [],
   "source": [
    "def bcag_lrtp():\n",
    "    \"\"\"\n",
    "    Project cost is in thousands\n",
    "    \"\"\"\n",
    "    df = pd.read_excel(f\"{LRTP_GCS}BCAG.xls\")\n",
    "    drop_columns = [\n",
    "        2018,\n",
    "        2020,\n",
    "        2030,\n",
    "        2035,\n",
    "        2040,\n",
    "        \"EXEMPT CODE\",\n",
    "        \"PM 1\",\n",
    "        \"PM 2\",\n",
    "        \"PM 3\",\n",
    "    ]\n",
    "\n",
    "    df = df.drop(columns=drop_columns)\n",
    "    df = to_snakecase(df)\n",
    "\n",
    "    # Correct cost\n",
    "    # df.cost_estimate = df.cost_estimate * 1_000\n",
    "    df.fund_estimate = (\n",
    "        df.fund_estimate.str.replace(\"$\", \"\")\n",
    "        .str.replace(\".\", \"\")\n",
    "        .str.replace(\"million\", \"\")\n",
    "        .apply(pd.to_numeric, errors=\"coerce\")\n",
    "        * 1_000_000\n",
    "    )\n",
    "\n",
    "    # create geometry\n",
    "    df[\"geometry\"] = gpd.GeoSeries.from_xy(df.x_coord, df.y_coord, crs=\"EPSG:4326\")\n",
    "    # Same project is split across multiple rows. Divide out project cost\n",
    "    df = correct_project_cost(df, \"title\", \"cost_estimate\")\n",
    "    df = df.set_geometry(\"geometry\")\n",
    "\n",
    "    return df"
   ]
  },
  {
   "cell_type": "code",
   "execution_count": 76,
   "id": "e58fe25d-aa51-47a4-9913-45173c7eace9",
   "metadata": {},
   "outputs": [
    {
     "name": "stderr",
     "output_type": "stream",
     "text": [
      "/tmp/ipykernel_509/3924302832.py:24: FutureWarning: The default value of regex will change from True to False in a future version. In addition, single character regular expressions will *not* be treated as literal strings when regex=True.\n",
      "  df.fund_estimate.str.replace(\"$\", \"\")\n"
     ]
    }
   ],
   "source": [
    "bcag = bcag_lrtp()"
   ]
  },
  {
   "cell_type": "code",
   "execution_count": 77,
   "id": "2f89eb95-c0d6-41fe-8288-d2e5f71e02fc",
   "metadata": {
    "tags": []
   },
   "outputs": [
    {
     "name": "stdout",
     "output_type": "stream",
     "text": [
      "Local Highway Bridge Program (HBP Grouped)            68\n",
      "Highway Safety Improvement Program (HSIP Grouped)     19\n",
      "SR 70 Passing Lanes (Segment 3)                        2\n",
      "Eaton Rd Widening                                      2\n",
      "Lincoln Blvd Class 2                                   2\n",
      "Name: title, dtype: int64\n",
      "# of unique project titles: 153\n",
      "After dropping duplicates using title and total_project_cost: 228\n",
      "Df shape: (250, 24)\n",
      "Index(['rtp_id', 'agency', 'ftip', 'rtp', 'project_type', 'title',\n",
      "       'project_descr', 'project_id', 'fund_source', 'fund_estimate', 'status',\n",
      "       'y_coord', 'x_coord', 'target_fiscal_year', 'fund_source_1',\n",
      "       'fund_source_2', 'source', 'title_vi', 'non_title_vi', 'ej', 'non_ej',\n",
      "       'geometry', 'total_project_cost', 'total_project_cost_note'],\n",
      "      dtype='object')\n"
     ]
    }
   ],
   "source": [
    "give_info(bcag, \"title\", \"total_project_cost\")"
   ]
  },
  {
   "cell_type": "code",
   "execution_count": 78,
   "id": "6421561e-c0bf-4c6d-8642-5edd41511db9",
   "metadata": {},
   "outputs": [],
   "source": [
    "def harmonize_bcag():\n",
    "    df = bcag_lrtp()\n",
    "    df = harmonizing_lrtp(\n",
    "        df,\n",
    "        project_name_col=\"title\",\n",
    "        project_description_col=\"project_descr\",\n",
    "        project_category_col=\"project_type\",\n",
    "        project_cost_col=\"total_project_cost\",\n",
    "        location_col=\"geometry\",\n",
    "        county_col=\"\",\n",
    "        city_col=\"\",\n",
    "        project_year_col=\"target_fiscal_year\",\n",
    "        program=\"BCAG\",\n",
    "        phase_col=\"status\",\n",
    "        data_source=\"LRTP\",\n",
    "        note_cols=[\n",
    "            \"fund_estimate\",\n",
    "            \"fund_source\",\n",
    "            \"agency\",\n",
    "            \"total_project_cost_note\",\n",
    "        ],\n",
    "        cost_in_millions=True,\n",
    "    )\n",
    "\n",
    "    return df"
   ]
  },
  {
   "cell_type": "markdown",
   "id": "04450281-f55d-414c-b18f-5761a4bb423a",
   "metadata": {
    "tags": []
   },
   "source": [
    "### Fresno COG"
   ]
  },
  {
   "cell_type": "code",
   "execution_count": 79,
   "id": "31550af0-0040-41fa-abfa-88c77f3763be",
   "metadata": {},
   "outputs": [],
   "source": [
    "def fresnocog_lrtp():\n",
    "    columns_to_drop = [\"unnamed:_7\", \"unnamed:_8\", \"unnamed:_9\"]\n",
    "    df1 = to_snakecase(pd.read_excel(f\"{LRTP_GCS}FRESNO_COG_UNconstrained.xlsx\"))\n",
    "    df1[\"financial_constraint\"] = \"unconstrained\"\n",
    "\n",
    "    df2 = to_snakecase(pd.read_excel(f\"{LRTP_GCS}FRESNO_COG_Constrained.xlsx\"))\n",
    "    df2[\"financial_constraint\"] = \"constrained\"\n",
    "\n",
    "    concat1 = pd.concat([df1, df2], axis=0)\n",
    "    concat1 = concat1.drop(columns=columns_to_drop)\n",
    "\n",
    "    return concat1"
   ]
  },
  {
   "cell_type": "code",
   "execution_count": 80,
   "id": "7b167072-0655-47a9-b609-b08b1f72081d",
   "metadata": {},
   "outputs": [],
   "source": [
    "fresno_cog = fresnocog_lrtp()"
   ]
  },
  {
   "cell_type": "code",
   "execution_count": 81,
   "id": "04d24a2a-7223-4d0b-93cf-2b320d19340f",
   "metadata": {},
   "outputs": [
    {
     "name": "stdout",
     "output_type": "stream",
     "text": [
      "Herndon @ SR 99-Widen Undercrossing                            2\n",
      "Willow-International to Copper Southbound: Widen to 3 Lanes    2\n",
      "SHIELDS: GARFIELD to CHATEAU FRESNO                            2\n",
      "Anchor Ave. Park Blvd to Adams                                 2\n",
      "Adams Ave Reconstruction                                       2\n",
      "Name: project_title, dtype: int64\n",
      "# of unique project titles: 3128\n",
      "After dropping duplicates using project_title and estimated\n",
      "total_cost\n",
      "_$1,000_: 3143\n",
      "Df shape: (3147, 10)\n",
      "Index(['agency', 'project_id', 'project_title', 'project_description',\n",
      "       'project_type', 'estimated_open_to_traffic',\n",
      "       'estimated\\ntotal_cost\\n_$1,000_', 'est__o2t_year',\n",
      "       'est_total_project_cost', 'financial_constraint'],\n",
      "      dtype='object')\n"
     ]
    }
   ],
   "source": [
    "give_info(fresno_cog, \"project_title\", \"estimated\\ntotal_cost\\n_$1,000_\")"
   ]
  },
  {
   "cell_type": "code",
   "execution_count": 82,
   "id": "2d690043-1f77-4ea4-ab99-b4df7319e865",
   "metadata": {},
   "outputs": [],
   "source": [
    "fresno_cog.project_title = fresno_cog.project_title.fillna(\"None\")"
   ]
  },
  {
   "cell_type": "code",
   "execution_count": 83,
   "id": "9487a65d-e72e-4026-bf24-609de023f8dc",
   "metadata": {
    "scrolled": true,
    "tags": []
   },
   "outputs": [
    {
     "data": {
      "text/html": [
       "<div>\n",
       "<style scoped>\n",
       "    .dataframe tbody tr th:only-of-type {\n",
       "        vertical-align: middle;\n",
       "    }\n",
       "\n",
       "    .dataframe tbody tr th {\n",
       "        vertical-align: top;\n",
       "    }\n",
       "\n",
       "    .dataframe thead th {\n",
       "        text-align: right;\n",
       "    }\n",
       "</style>\n",
       "<table border=\"1\" class=\"dataframe\">\n",
       "  <thead>\n",
       "    <tr style=\"text-align: right;\">\n",
       "      <th></th>\n",
       "      <th>agency</th>\n",
       "      <th>project_id</th>\n",
       "      <th>project_title</th>\n",
       "      <th>project_description</th>\n",
       "      <th>project_type</th>\n",
       "      <th>estimated_open_to_traffic</th>\n",
       "      <th>estimated\\ntotal_cost\\n_$1,000_</th>\n",
       "      <th>est__o2t_year</th>\n",
       "      <th>est_total_project_cost</th>\n",
       "      <th>financial_constraint</th>\n",
       "    </tr>\n",
       "  </thead>\n",
       "  <tbody>\n",
       "    <tr>\n",
       "      <th>989</th>\n",
       "      <td>Fresno</td>\n",
       "      <td>FRE111312</td>\n",
       "      <td>Ventura, SR 41 to SR 99  Widen from 4LU to 4 LD</td>\n",
       "      <td>Widen to 4 LN Divided Arterial</td>\n",
       "      <td>Streets &amp; Roads - Capacity Increasing</td>\n",
       "      <td>2027-2031</td>\n",
       "      <td>3427.00</td>\n",
       "      <td>2028-01-01</td>\n",
       "      <td>3427000.00</td>\n",
       "      <td>constrained</td>\n",
       "    </tr>\n",
       "    <tr>\n",
       "      <th>2071</th>\n",
       "      <td>Fresno</td>\n",
       "      <td>FRE111312</td>\n",
       "      <td>Ventura, SR 41 to SR 99  Widen from 4LU to 4 LD</td>\n",
       "      <td>Widen to 4 LN Divided Arterial(Measure C Project F in the Urban Regional Program)</td>\n",
       "      <td>Streets &amp; Roads-Capacity Increasing</td>\n",
       "      <td>2028</td>\n",
       "      <td>3427.00</td>\n",
       "      <td>NaT</td>\n",
       "      <td>NaN</td>\n",
       "      <td>constrained</td>\n",
       "    </tr>\n",
       "  </tbody>\n",
       "</table>\n",
       "</div>"
      ],
      "text/plain": [
       "      agency project_id                                    project_title  \\\n",
       "989   Fresno  FRE111312  Ventura, SR 41 to SR 99  Widen from 4LU to 4 LD   \n",
       "2071  Fresno  FRE111312  Ventura, SR 41 to SR 99  Widen from 4LU to 4 LD   \n",
       "\n",
       "                                                                    project_description  \\\n",
       "989                                                      Widen to 4 LN Divided Arterial   \n",
       "2071  Widen to 4 LN Divided Arterial(Measure C Project F in the Urban Regional Program)   \n",
       "\n",
       "                               project_type estimated_open_to_traffic  \\\n",
       "989   Streets & Roads - Capacity Increasing                 2027-2031   \n",
       "2071    Streets & Roads-Capacity Increasing                      2028   \n",
       "\n",
       "      estimated\\ntotal_cost\\n_$1,000_ est__o2t_year  est_total_project_cost  \\\n",
       "989                           3427.00    2028-01-01              3427000.00   \n",
       "2071                          3427.00           NaT                     NaN   \n",
       "\n",
       "     financial_constraint  \n",
       "989           constrained  \n",
       "2071          constrained  "
      ]
     },
     "execution_count": 83,
     "metadata": {},
     "output_type": "execute_result"
    }
   ],
   "source": [
    "fresno_cog[fresno_cog.project_title.str.contains(\"Ventura, SR 41\")]"
   ]
  },
  {
   "cell_type": "code",
   "execution_count": 84,
   "id": "a897d236-2dd8-4ffc-89a8-ee829e583400",
   "metadata": {},
   "outputs": [],
   "source": [
    "def harmonize_fresnocog():\n",
    "    df = fresnocog_lrtp()\n",
    "    df = harmonizing_lrtp(\n",
    "        df,\n",
    "        project_name_col=\"project_title\",\n",
    "        project_description_col=\"project_description\",\n",
    "        project_category_col=\"project_type\",\n",
    "        project_cost_col=\"est_total_project_cost\",\n",
    "        location_col=\"\",\n",
    "        county_col=\"\",\n",
    "        city_col=\"\",\n",
    "        project_year_col=\"estimated_open_to_traffic\",\n",
    "        program=\"Fresno COG\",\n",
    "        phase_col=\"status\",\n",
    "        data_source=\"LRTP\",\n",
    "        note_cols=[\n",
    "            \"financial_constraint\",\n",
    "        ],\n",
    "        cost_in_millions=True,\n",
    "    )\n",
    "\n",
    "    return df"
   ]
  },
  {
   "cell_type": "markdown",
   "id": "aa2d24f5-1c4c-4ef3-8c9c-cbf2d7c027d5",
   "metadata": {
    "tags": []
   },
   "source": [
    "### KCAG"
   ]
  },
  {
   "cell_type": "code",
   "execution_count": 85,
   "id": "d3c7a4b4-6eed-45a0-9588-928707239e6b",
   "metadata": {},
   "outputs": [],
   "source": [
    "def kcag_lrtp():\n",
    "\n",
    "    df = to_snakecase(pd.read_excel(f\"{LRTP_GCS}KCAG.xlsx\"))\n",
    "\n",
    "    # No title column\n",
    "    df[\"title\"] = (df.category + \"-\" + df.description + \"-\" + df.location).fillna(\n",
    "        \"No Title\"\n",
    "    )\n",
    "\n",
    "    # Some duplicates\n",
    "    df = df.drop_duplicates([\"location\", \"category\", \"description\"]).reset_index(\n",
    "        drop=True\n",
    "    )\n",
    "\n",
    "    # Create cost\n",
    "    df[\"total_cost\"] = 0\n",
    "\n",
    "    return df"
   ]
  },
  {
   "cell_type": "code",
   "execution_count": 86,
   "id": "56748d11-2c5b-4eab-992c-ab3747888c6c",
   "metadata": {},
   "outputs": [],
   "source": [
    "kcag = kcag_lrtp()"
   ]
  },
  {
   "cell_type": "code",
   "execution_count": 87,
   "id": "a2287888-994e-4544-9862-66319644c622",
   "metadata": {},
   "outputs": [
    {
     "name": "stdout",
     "output_type": "stream",
     "text": [
      "No Title                                          26\n",
      "Proposed Improvements-Overlay-Claudia Drive        1\n",
      "Proposed Improvements-Overlay-Grand Street         1\n",
      "Proposed Improvements-Overlay-Linda Lee Circle     1\n",
      "Proposed Improvements-Overlay-Newbridge Drive      1\n",
      "Name: title, dtype: int64\n",
      "# of unique project titles: 59\n",
      "After dropping duplicates using title and description: 59\n",
      "Df shape: (84, 9)\n",
      "Index(['category', 'jurisdiction', 'state_route', 'post_mile', 'location',\n",
      "       'project_limits', 'description', 'title', 'total_cost'],\n",
      "      dtype='object')\n"
     ]
    }
   ],
   "source": [
    "give_info(kcag, \"title\", \"description\")"
   ]
  },
  {
   "cell_type": "code",
   "execution_count": 88,
   "id": "02b4f1c0-c794-4cf1-adbd-84b50cc2c489",
   "metadata": {},
   "outputs": [
    {
     "data": {
      "text/html": [
       "<div>\n",
       "<style scoped>\n",
       "    .dataframe tbody tr th:only-of-type {\n",
       "        vertical-align: middle;\n",
       "    }\n",
       "\n",
       "    .dataframe tbody tr th {\n",
       "        vertical-align: top;\n",
       "    }\n",
       "\n",
       "    .dataframe thead th {\n",
       "        text-align: right;\n",
       "    }\n",
       "</style>\n",
       "<table border=\"1\" class=\"dataframe\">\n",
       "  <thead>\n",
       "    <tr style=\"text-align: right;\">\n",
       "      <th></th>\n",
       "      <th>category</th>\n",
       "      <th>jurisdiction</th>\n",
       "      <th>state_route</th>\n",
       "      <th>post_mile</th>\n",
       "      <th>location</th>\n",
       "      <th>project_limits</th>\n",
       "      <th>description</th>\n",
       "      <th>title</th>\n",
       "      <th>total_cost</th>\n",
       "    </tr>\n",
       "  </thead>\n",
       "  <tbody>\n",
       "    <tr>\n",
       "      <th>4</th>\n",
       "      <td>Proposed Improvements</td>\n",
       "      <td>CORCORAN</td>\n",
       "      <td>NaN</td>\n",
       "      <td>NaN</td>\n",
       "      <td>Various Locations</td>\n",
       "      <td>NaN</td>\n",
       "      <td>Pavement Maintenance</td>\n",
       "      <td>Proposed Improvements-Pavement Maintenance-Various Locations</td>\n",
       "      <td>0</td>\n",
       "    </tr>\n",
       "  </tbody>\n",
       "</table>\n",
       "</div>"
      ],
      "text/plain": [
       "                category jurisdiction state_route post_mile  \\\n",
       "4  Proposed Improvements     CORCORAN         NaN       NaN   \n",
       "\n",
       "            location project_limits           description  \\\n",
       "4  Various Locations            NaN  Pavement Maintenance   \n",
       "\n",
       "                                                          title  total_cost  \n",
       "4  Proposed Improvements-Pavement Maintenance-Various Locations           0  "
      ]
     },
     "execution_count": 88,
     "metadata": {},
     "output_type": "execute_result"
    }
   ],
   "source": [
    "kcag[kcag.title == \"Proposed Improvements-Pavement Maintenance-Various Locations\"]"
   ]
  },
  {
   "cell_type": "code",
   "execution_count": 89,
   "id": "00703cf1-bc60-4b4c-bf3f-980b5e11a2ac",
   "metadata": {},
   "outputs": [],
   "source": [
    "def harmonize_kcag():\n",
    "    df = kcag_lrtp()\n",
    "    df = harmonizing_lrtp(\n",
    "        df,\n",
    "        project_name_col=\"title\",\n",
    "        project_description_col=\"description\",\n",
    "        project_category_col=\"category\",\n",
    "        project_cost_col=\"total_cost\",\n",
    "        location_col=\"\",\n",
    "        county_col=\"\",\n",
    "        city_col=\"\",\n",
    "        project_year_col=\"\",\n",
    "        program=\"KCAG\",\n",
    "        phase_col=\"status\",\n",
    "        data_source=\"LRTP\",\n",
    "        note_cols=[\n",
    "            \"location\",\n",
    "            \"jurisdiction\",\n",
    "            \"state_route\",\n",
    "            \"post_mile\",\n",
    "            \"project_limits\",\n",
    "        ],\n",
    "        cost_in_millions=True,\n",
    "    )\n",
    "\n",
    "    return df"
   ]
  },
  {
   "cell_type": "markdown",
   "id": "32750244-6669-4f0f-bfec-b34a2b5305b7",
   "metadata": {},
   "source": [
    "### KernCog"
   ]
  },
  {
   "cell_type": "code",
   "execution_count": 90,
   "id": "0f86e8e7-698c-46ab-a4b9-54dc217bb4b4",
   "metadata": {},
   "outputs": [],
   "source": [
    "def kern_lrtp():\n",
    "    to_keep = [\n",
    "        \"project_title\",\n",
    "        \"scope\",\n",
    "        \"yoe_w__new_revenue\",\n",
    "        \"yoe_w_o_new_reven\",\n",
    "        \"maint__inflation_savings\",\n",
    "    ]\n",
    "\n",
    "    monetary_cols = [\n",
    "        \"yoe_w__new_revenue\",\n",
    "        \"yoe_w_o_new_reven\",\n",
    "        \"maint__inflation_savings\",\n",
    "    ]\n",
    "\n",
    "    df = to_snakecase(pd.read_excel(f\"{LRTP_GCS}KERNCOG.xlsx\", sheet_name=\"Cleaned\"))\n",
    "\n",
    "    df = df[to_keep]\n",
    "\n",
    "    df[monetary_cols] = df[monetary_cols] * 1_000\n",
    "\n",
    "    df[\"cost\"] = df.yoe_w__new_revenue\n",
    "\n",
    "    df.cost = df.cost.fillna(df.yoe_w_o_new_reven)\n",
    "\n",
    "    return df"
   ]
  },
  {
   "cell_type": "code",
   "execution_count": 91,
   "id": "2fb65037-a062-4bd9-9eb0-78452ea0f864",
   "metadata": {},
   "outputs": [],
   "source": [
    "kern = kern_lrtp()"
   ]
  },
  {
   "cell_type": "code",
   "execution_count": 92,
   "id": "23741d1e-1ad5-467a-a4da-9e538d6121e1",
   "metadata": {
    "scrolled": true,
    "tags": []
   },
   "outputs": [],
   "source": [
    "# kern[kern.project_title == \"Kern County ‐ Class II Bike Ln\"].sort_values(['cost'])"
   ]
  },
  {
   "cell_type": "code",
   "execution_count": 93,
   "id": "5682abdb-f4be-4dcc-bf15-f876f3a82030",
   "metadata": {},
   "outputs": [],
   "source": [
    "# kern.sample(5)"
   ]
  },
  {
   "cell_type": "code",
   "execution_count": 94,
   "id": "608a1e17-6cdc-4e03-acc6-dd5c95a1e5df",
   "metadata": {},
   "outputs": [
    {
     "name": "stdout",
     "output_type": "stream",
     "text": [
      "Kern County ‐ Class II Bike Ln        85\n",
      "Bakersfield ‐ Class III Bike Blvd     85\n",
      "Bakersfield ‐ Class II Bike Ln        78\n",
      "Kern County ‐ Sidewalk Improvement    71\n",
      "Kern County ‐ Class III Bike Blvd     35\n",
      "Name: project_title, dtype: int64\n",
      "# of unique project titles: 371\n",
      "After dropping duplicates using project_title and cost: 1180\n",
      "Df shape: (1428, 6)\n",
      "Index(['project_title', 'scope', 'yoe_w__new_revenue', 'yoe_w_o_new_reven',\n",
      "       'maint__inflation_savings', 'cost'],\n",
      "      dtype='object')\n"
     ]
    }
   ],
   "source": [
    "give_info(kern, \"project_title\", \"cost\")"
   ]
  },
  {
   "cell_type": "code",
   "execution_count": 95,
   "id": "1d629b1f-505a-443a-8491-91c84928dfbc",
   "metadata": {},
   "outputs": [],
   "source": [
    "def harmonize_kerncog():\n",
    "    df = kern_lrtp()\n",
    "    df = harmonizing_lrtp(\n",
    "        df,\n",
    "        project_name_col=\"project_title\",\n",
    "        project_description_col=\"scope\",\n",
    "        project_category_col=\"\",\n",
    "        project_cost_col=\"cost\",\n",
    "        location_col=\"\",\n",
    "        county_col=\"\",\n",
    "        city_col=\"\",\n",
    "        project_year_col=\"\",\n",
    "        program=\"Kern Cog\",\n",
    "        phase_col=\"\",\n",
    "        data_source=\"LRTP\",\n",
    "        note_cols=[\n",
    "            \"maint__inflation_savings\",\n",
    "        ],\n",
    "        cost_in_millions=True,\n",
    "    )\n",
    "\n",
    "    return df"
   ]
  },
  {
   "cell_type": "markdown",
   "id": "366927f7-b7cc-4f40-8fc0-fa4aa9dbba36",
   "metadata": {},
   "source": [
    "### Madera CTC"
   ]
  },
  {
   "cell_type": "code",
   "execution_count": 96,
   "id": "1b8c2c7f-8704-41f1-9591-dafa37c30e27",
   "metadata": {},
   "outputs": [],
   "source": [
    "def madera_lrtp():\n",
    "    sheets_list = [\n",
    "        \"Streets and Roads\",\n",
    "        \"Maintenance\",\n",
    "        \"Safety\",\n",
    "        \"ATP\",\n",
    "        \"Public Transit\",\n",
    "        \"Aviation\",\n",
    "        \"ITS\",\n",
    "        \"Unconstrained\",\n",
    "    ]\n",
    "\n",
    "    dict_df = pd.read_excel(\n",
    "        f\"{LRTP_GCS}Madera_CTC_cleaned.xlsx\", sheet_name=sheets_list\n",
    "    )\n",
    "    df1 = dict_df.get(sheets_list[0])\n",
    "    df2 = dict_df.get(sheets_list[1])\n",
    "    df3 = dict_df.get(sheets_list[2])\n",
    "    df4 = dict_df.get(sheets_list[3])\n",
    "    df5 = dict_df.get(sheets_list[4])\n",
    "    df6 = dict_df.get(sheets_list[5])\n",
    "    df7 = dict_df.get(sheets_list[6])\n",
    "    df8 = dict_df.get(sheets_list[7])\n",
    "\n",
    "    concat1 = to_snakecase(pd.concat([df1, df2, df3, df4, df5, df6, df7, df8], axis=0))\n",
    "\n",
    "    concat1 = concat1.drop(columns=[\"proje\\nct_id\"])\n",
    "    return concat1"
   ]
  },
  {
   "cell_type": "code",
   "execution_count": 97,
   "id": "66d94b03-eb3c-4570-aa4a-11ca43cf04c0",
   "metadata": {},
   "outputs": [],
   "source": [
    "madera = madera_lrtp()"
   ]
  },
  {
   "cell_type": "code",
   "execution_count": 98,
   "id": "df6c11ed-39d6-496f-987b-29ee262b601e",
   "metadata": {},
   "outputs": [
    {
     "data": {
      "text/html": [
       "<div>\n",
       "<style scoped>\n",
       "    .dataframe tbody tr th:only-of-type {\n",
       "        vertical-align: middle;\n",
       "    }\n",
       "\n",
       "    .dataframe tbody tr th {\n",
       "        vertical-align: top;\n",
       "    }\n",
       "\n",
       "    .dataframe thead th {\n",
       "        text-align: right;\n",
       "    }\n",
       "</style>\n",
       "<table border=\"1\" class=\"dataframe\">\n",
       "  <thead>\n",
       "    <tr style=\"text-align: right;\">\n",
       "      <th></th>\n",
       "      <th></th>\n",
       "      <th>category</th>\n",
       "    </tr>\n",
       "    <tr>\n",
       "      <th>project_name</th>\n",
       "      <th>total_cost</th>\n",
       "      <th></th>\n",
       "    </tr>\n",
       "  </thead>\n",
       "  <tbody>\n",
       "    <tr>\n",
       "      <th>Various</th>\n",
       "      <th>1000000</th>\n",
       "      <td>3</td>\n",
       "    </tr>\n",
       "    <tr>\n",
       "      <th>Avenue 12</th>\n",
       "      <th>10000000</th>\n",
       "      <td>3</td>\n",
       "    </tr>\n",
       "    <tr>\n",
       "      <th>Road 36</th>\n",
       "      <th>563000</th>\n",
       "      <td>3</td>\n",
       "    </tr>\n",
       "    <tr>\n",
       "      <th>Purchase Transit Vehicle</th>\n",
       "      <th>300000</th>\n",
       "      <td>3</td>\n",
       "    </tr>\n",
       "    <tr>\n",
       "      <th>Road 16</th>\n",
       "      <th>197000</th>\n",
       "      <td>2</td>\n",
       "    </tr>\n",
       "  </tbody>\n",
       "</table>\n",
       "</div>"
      ],
      "text/plain": [
       "                                     category\n",
       "project_name             total_cost          \n",
       "Various                  1000000            3\n",
       "Avenue 12                10000000           3\n",
       "Road 36                  563000             3\n",
       "Purchase Transit Vehicle 300000             3\n",
       "Road 16                  197000             2"
      ]
     },
     "execution_count": 98,
     "metadata": {},
     "output_type": "execute_result"
    }
   ],
   "source": [
    "madera.groupby([\"project_name\", \"total_cost\"]).agg({\"category\": \"count\"}).sort_values(\n",
    "    \"category\", ascending=False\n",
    ").head()"
   ]
  },
  {
   "cell_type": "code",
   "execution_count": 99,
   "id": "341cc97a-5470-47e7-91f6-d7a9eef88a84",
   "metadata": {},
   "outputs": [
    {
     "name": "stdout",
     "output_type": "stream",
     "text": [
      "Various                            20\n",
      "Avenue 12                          10\n",
      "Avenue 9                            8\n",
      "State Route 41                      6\n",
      "Purchase Transit Van (Electric)     5\n",
      "Name: project_name, dtype: int64\n",
      "# of unique project titles: 515\n",
      "After dropping duplicates using project_name and total_cost: 735\n",
      "Df shape: (765, 8)\n",
      "Index(['category', 'agency', 'project_name', 'location', 'project_id',\n",
      "       'description', 'opening_year', 'total_cost'],\n",
      "      dtype='object')\n"
     ]
    }
   ],
   "source": [
    "give_info(madera, \"project_name\", \"total_cost\")"
   ]
  },
  {
   "cell_type": "code",
   "execution_count": 100,
   "id": "ff422aef-5859-4bc5-9454-b2ec7c43d6d8",
   "metadata": {},
   "outputs": [],
   "source": [
    "# madera[madera.project_name == \"Various\"]"
   ]
  },
  {
   "cell_type": "code",
   "execution_count": 101,
   "id": "4b15c2bb-14d7-45e7-a25e-8242b740afe3",
   "metadata": {},
   "outputs": [
    {
     "data": {
      "text/html": [
       "<div>\n",
       "<style scoped>\n",
       "    .dataframe tbody tr th:only-of-type {\n",
       "        vertical-align: middle;\n",
       "    }\n",
       "\n",
       "    .dataframe tbody tr th {\n",
       "        vertical-align: top;\n",
       "    }\n",
       "\n",
       "    .dataframe thead th {\n",
       "        text-align: right;\n",
       "    }\n",
       "</style>\n",
       "<table border=\"1\" class=\"dataframe\">\n",
       "  <thead>\n",
       "    <tr style=\"text-align: right;\">\n",
       "      <th></th>\n",
       "      <th>category</th>\n",
       "      <th>agency</th>\n",
       "      <th>project_name</th>\n",
       "      <th>location</th>\n",
       "      <th>project_id</th>\n",
       "      <th>description</th>\n",
       "      <th>opening_year</th>\n",
       "      <th>total_cost</th>\n",
       "    </tr>\n",
       "  </thead>\n",
       "  <tbody>\n",
       "    <tr>\n",
       "      <th>46</th>\n",
       "      <td>Streets and Roads</td>\n",
       "      <td>Madera County</td>\n",
       "      <td>Avenue 12</td>\n",
       "      <td>Road 38 to Road 40</td>\n",
       "      <td>NaN</td>\n",
       "      <td>2 Lanes to 4 Lanes</td>\n",
       "      <td>2027.00</td>\n",
       "      <td>10000000</td>\n",
       "    </tr>\n",
       "    <tr>\n",
       "      <th>47</th>\n",
       "      <td>Streets and Roads</td>\n",
       "      <td>Madera County</td>\n",
       "      <td>Avenue 12</td>\n",
       "      <td>Road 40 to Riverwalk\\nBlvd</td>\n",
       "      <td>NaN</td>\n",
       "      <td>2 Lanes to 6 Lanes</td>\n",
       "      <td>2027.00</td>\n",
       "      <td>10000000</td>\n",
       "    </tr>\n",
       "    <tr>\n",
       "      <th>48</th>\n",
       "      <td>Streets and Roads</td>\n",
       "      <td>Madera County</td>\n",
       "      <td>Avenue 12</td>\n",
       "      <td>Riverwalk Blvd to SR\\n41</td>\n",
       "      <td>NaN</td>\n",
       "      <td>4 Lanes to 8 Lanes</td>\n",
       "      <td>2027.00</td>\n",
       "      <td>10000000</td>\n",
       "    </tr>\n",
       "    <tr>\n",
       "      <th>49</th>\n",
       "      <td>Streets and Roads</td>\n",
       "      <td>Madera County</td>\n",
       "      <td>Avenue 12</td>\n",
       "      <td>SR 41 To Flagbarn Rd</td>\n",
       "      <td>NaN</td>\n",
       "      <td>2 Lanes to 4 Lanes</td>\n",
       "      <td>2030.00</td>\n",
       "      <td>4250000</td>\n",
       "    </tr>\n",
       "    <tr>\n",
       "      <th>51</th>\n",
       "      <td>Streets and Roads</td>\n",
       "      <td>Madera County</td>\n",
       "      <td>Avenue 12</td>\n",
       "      <td>Road 30 1/2 to Road 36</td>\n",
       "      <td>NaN</td>\n",
       "      <td>2 Lanes to 4 Lanes</td>\n",
       "      <td>2030.00</td>\n",
       "      <td>21000000</td>\n",
       "    </tr>\n",
       "  </tbody>\n",
       "</table>\n",
       "</div>"
      ],
      "text/plain": [
       "             category         agency project_name                    location  \\\n",
       "46  Streets and Roads  Madera County    Avenue 12          Road 38 to Road 40   \n",
       "47  Streets and Roads  Madera County    Avenue 12  Road 40 to Riverwalk\\nBlvd   \n",
       "48  Streets and Roads  Madera County    Avenue 12    Riverwalk Blvd to SR\\n41   \n",
       "49  Streets and Roads  Madera County    Avenue 12        SR 41 To Flagbarn Rd   \n",
       "51  Streets and Roads  Madera County    Avenue 12      Road 30 1/2 to Road 36   \n",
       "\n",
       "   project_id         description  opening_year total_cost  \n",
       "46        NaN  2 Lanes to 4 Lanes       2027.00   10000000  \n",
       "47        NaN  2 Lanes to 6 Lanes       2027.00   10000000  \n",
       "48        NaN  4 Lanes to 8 Lanes       2027.00   10000000  \n",
       "49        NaN  2 Lanes to 4 Lanes       2030.00    4250000  \n",
       "51        NaN  2 Lanes to 4 Lanes       2030.00   21000000  "
      ]
     },
     "execution_count": 101,
     "metadata": {},
     "output_type": "execute_result"
    }
   ],
   "source": [
    "madera[madera.project_name == \"Avenue 12\"].head()"
   ]
  },
  {
   "cell_type": "code",
   "execution_count": 102,
   "id": "00e59fbb-6f9e-4391-b0e3-3f0ac9604b04",
   "metadata": {},
   "outputs": [],
   "source": [
    "def harmonize_madera():\n",
    "    df = madera_lrtp()\n",
    "    df = harmonizing_lrtp(\n",
    "        df,\n",
    "        project_name_col=\"project_name\",\n",
    "        project_description_col=\"description\",\n",
    "        project_category_col=\"category\",\n",
    "        project_cost_col=\"total_cost\",\n",
    "        location_col=\"\",\n",
    "        county_col=\"\",\n",
    "        city_col=\"\",\n",
    "        project_year_col=\"opening_year\",\n",
    "        program=\"Madera CTC\",\n",
    "        phase_col=\"\",\n",
    "        data_source=\"LRTP\",\n",
    "        note_cols=[\n",
    "            \"location\",\n",
    "        ],\n",
    "        cost_in_millions=True,\n",
    "    )\n",
    "\n",
    "    return df"
   ]
  },
  {
   "cell_type": "markdown",
   "id": "9941fbbd-4520-4daa-931a-da6f59b755cf",
   "metadata": {
    "tags": []
   },
   "source": [
    "### MCAGOV"
   ]
  },
  {
   "cell_type": "code",
   "execution_count": 103,
   "id": "284ee593-6a3c-48e2-afc1-d99126bcf3cb",
   "metadata": {},
   "outputs": [],
   "source": [
    "def mcagov_lrtp():\n",
    "\n",
    "    df = to_snakecase(pd.read_excel(f\"{LRTP_GCS}MCAGOV.xlsx\"))\n",
    "\n",
    "    df = df.dropna(subset=[\"title\"]).reset_index(drop=True)\n",
    "\n",
    "    # Millions\n",
    "    df[\"total_cost_millions\"] = df[\"total_cost\\n_$1,000s_\"] * 1_000\n",
    "    return df"
   ]
  },
  {
   "cell_type": "code",
   "execution_count": 104,
   "id": "3f4e657c-3bed-4764-8175-b3818654abb7",
   "metadata": {},
   "outputs": [],
   "source": [
    "mcagov = mcagov_lrtp()"
   ]
  },
  {
   "cell_type": "code",
   "execution_count": 105,
   "id": "203726b0-49af-475e-825a-be328c7663a7",
   "metadata": {},
   "outputs": [
    {
     "name": "stdout",
     "output_type": "stream",
     "text": [
      "Bellevue Rd Realignment/Reconstruction    1\n",
      "Minturn Road Rehabilitation               1\n",
      "MCAG Vanpool Program (dibs)               1\n",
      "Measure V Transit Free Ride Program       1\n",
      "Planada Route Improvements                1\n",
      "Name: title, dtype: int64\n",
      "# of unique project titles: 108\n",
      "After dropping duplicates using title and total_cost\n",
      "_$1,000s_: 108\n",
      "Df shape: (108, 8)\n",
      "Index(['agency', 'title', 'limits_description', 'type', 'completion\\nyear',\n",
      "       'total_cost\\n_$1,000s_', 'funding_sources', 'total_cost_millions'],\n",
      "      dtype='object')\n"
     ]
    }
   ],
   "source": [
    "give_info(mcagov, \"title\", \"total_cost\\n_$1,000s_\")"
   ]
  },
  {
   "cell_type": "code",
   "execution_count": 106,
   "id": "15d75ed6-9171-4bc5-840a-5845ea14952a",
   "metadata": {},
   "outputs": [
    {
     "data": {
      "text/html": [
       "<div>\n",
       "<style scoped>\n",
       "    .dataframe tbody tr th:only-of-type {\n",
       "        vertical-align: middle;\n",
       "    }\n",
       "\n",
       "    .dataframe tbody tr th {\n",
       "        vertical-align: top;\n",
       "    }\n",
       "\n",
       "    .dataframe thead th {\n",
       "        text-align: right;\n",
       "    }\n",
       "</style>\n",
       "<table border=\"1\" class=\"dataframe\">\n",
       "  <thead>\n",
       "    <tr style=\"text-align: right;\">\n",
       "      <th></th>\n",
       "      <th>agency</th>\n",
       "      <th>title</th>\n",
       "      <th>limits_description</th>\n",
       "      <th>type</th>\n",
       "      <th>completion\\nyear</th>\n",
       "      <th>total_cost\\n_$1,000s_</th>\n",
       "      <th>funding_sources</th>\n",
       "      <th>total_cost_millions</th>\n",
       "    </tr>\n",
       "  </thead>\n",
       "  <tbody>\n",
       "    <tr>\n",
       "      <th>100</th>\n",
       "      <td>Caltrans</td>\n",
       "      <td>MER 165 Intersection Control</td>\n",
       "      <td>Near Hilmar, at the intersection with Geer Ave. Intersection Improvements</td>\n",
       "      <td>Road Ops/Safety</td>\n",
       "      <td>2023/24</td>\n",
       "      <td>14623</td>\n",
       "      <td>SHOPP</td>\n",
       "      <td>14623000</td>\n",
       "    </tr>\n",
       "  </tbody>\n",
       "</table>\n",
       "</div>"
      ],
      "text/plain": [
       "       agency                         title  \\\n",
       "100  Caltrans  MER 165 Intersection Control   \n",
       "\n",
       "                                                            limits_description  \\\n",
       "100  Near Hilmar, at the intersection with Geer Ave. Intersection Improvements   \n",
       "\n",
       "                type completion\\nyear total_cost\\n_$1,000s_ funding_sources  \\\n",
       "100  Road Ops/Safety          2023/24                 14623           SHOPP   \n",
       "\n",
       "    total_cost_millions  \n",
       "100            14623000  "
      ]
     },
     "execution_count": 106,
     "metadata": {},
     "output_type": "execute_result"
    }
   ],
   "source": [
    "mcagov.sample()"
   ]
  },
  {
   "cell_type": "code",
   "execution_count": 107,
   "id": "a07af25e-e12d-4fd9-8527-08616180a6f5",
   "metadata": {},
   "outputs": [],
   "source": [
    "def harmonize_mcagov():\n",
    "    df = mcagov_lrtp()\n",
    "    df = harmonizing_lrtp(\n",
    "        df,\n",
    "        project_name_col=\"title\",\n",
    "        project_description_col=\"limits_description\",\n",
    "        project_category_col=\"type\",\n",
    "        project_cost_col=\"total_cost_millions\",\n",
    "        location_col=\"\",\n",
    "        county_col=\"\",\n",
    "        city_col=\"\",\n",
    "        project_year_col=\"completion\\nyear\",\n",
    "        program=\"MCAGOV\",\n",
    "        phase_col=\"\",\n",
    "        data_source=\"LRTP\",\n",
    "        note_cols=[\n",
    "            \"agency\",\n",
    "            \"funding_sources\",\n",
    "        ],\n",
    "        cost_in_millions=True,\n",
    "    )\n",
    "\n",
    "    return df"
   ]
  },
  {
   "cell_type": "markdown",
   "id": "0e444a95-c7b8-4248-9715-f5405d263d86",
   "metadata": {
    "tags": [],
    "toc-hr-collapsed": true
   },
   "source": [
    "### MTC\n",
    "* 133 projects but point and line map returns 240 ish rows.\n",
    "* Projects that are in different locations can have the same name split by open year...\n",
    "* I guess the geospatial projects are split into various phases while the regular pandas df is just the project in its entirety.\n",
    "* https://www.planbayarea.org/2050-plan/final-plan-bay-area-2050/final-supplemental-reports/interactive-transportation-project-list\n",
    "* https://opendata.mtc.ca.gov/datasets/MTC::2023-transportation-improvement-program-projects-point/about\n",
    "* https://opendata.mtc.ca.gov/datasets/MTC::plan-bay-area-2050-transportation-projects-line/about\n",
    "* https://data.bayareametro.gov/Projects/Plan-Bay-Area-2050-Transportation-Project-List/y7ka-jksz"
   ]
  },
  {
   "cell_type": "code",
   "execution_count": 108,
   "id": "08e57d98-8b32-41ee-a835-0030977f0d1d",
   "metadata": {},
   "outputs": [],
   "source": [
    "def mtc_lrtp():\n",
    "    # Open rest server data\n",
    "    layer_list = [\"planbayarea2050_rtp_line\", \"planbayarea2050_rtp_point\"]\n",
    "    url_pt_1 = \"https://services3.arcgis.com/i2dkYWmb4wHvYPda/ArcGIS/rest/services/\"\n",
    "    url_pt_2 = \"/FeatureServer/0/query?where=1%3D1&objectIds=&time=&geometry=&geometryType=esriGeometryEnvelope&inSR=&spatialRel=esriSpatialRelIntersects&resultType=none&distance=0.0&units=esriSRUnit_Meter&relationParam=&returnGeodetic=false&outFields=*+&returnGeometry=true&featureEncoding=esriDefault&multipatchOption=xyFootprint&maxAllowableOffset=&geometryPrecision=&outSR=&defaultSR=&datumTransformation=&applyVCSProjection=false&returnIdsOnly=false&returnUniqueIdsOnly=false&returnCountOnly=false&returnExtentOnly=false&returnQueryGeometry=false&returnDistinctValues=false&cacheHint=false&orderByFields=&groupByFieldsForStatistics=&outStatistics=&having=&resultOffset=&resultRecordCount=&returnZ=false&returnM=false&returnExceededLimitFeatures=true&quantizationParameters=&sqlFormat=none&f=pgeojson&token=\"\n",
    "    gdf = open_rest_server(url_pt_1, url_pt_2, layer_list)\n",
    "\n",
    "    # Open all MTC projects. Not all projects are mappable.\n",
    "    all_projects_url = \"https://data.bayareametro.gov/resource/y7ka-jksz.json?$query=SELECT%0A%20%20%60plan_strategy%60%2C%0A%20%20%60rtpid%60%2C%0A%20%20%60title%60%2C%0A%20%20%60scope%60%2C%0A%20%20%60open_period%60%2C%0A%20%20%60funding_millions_yoe%60%2C%0A%20%20%60county%60\"\n",
    "    all_projects = pd.read_json(all_projects_url)\n",
    "\n",
    "    # Merge info from all projects to gdf\n",
    "    gdf = pd.merge(\n",
    "        gdf, all_projects, how=\"inner\", left_on=[\"proj_title\"], right_on=[\"title\"]\n",
    "    )\n",
    "\n",
    "    gdf = gdf.drop(columns=[\"title\"])\n",
    "\n",
    "    # Find projects that are unmappable\n",
    "    mtc_geometry_titles = set(gdf.proj_title.unique().tolist())\n",
    "    mtc_all_projects_titles = set(all_projects.title.unique().tolist())\n",
    "    missing_projects = list(mtc_all_projects_titles - mtc_geometry_titles)\n",
    "\n",
    "    # Add back in the  unmappable projects\n",
    "    all_projects = all_projects[all_projects.title.isin(missing_projects)].reset_index(\n",
    "        drop=True\n",
    "    )\n",
    "    all_projects = all_projects.rename(columns={\"title\": \"proj_title\"})\n",
    "    final = pd.concat([all_projects, gdf])\n",
    "\n",
    "    # Correct typo\n",
    "    final = final.rename({\"mode detai\": \"mode_detail\"})\n",
    "\n",
    "    # Set geometry again\n",
    "    final = final.set_geometry(\"geometry\").set_crs(\"EPSG:4326\")\n",
    "\n",
    "    # Same project is split across multiple rows. Divide out project cost\n",
    "    final = correct_project_cost(final, \"proj_title\", \"funding_millions_yoe\")\n",
    "    \n",
    "    # Divide project cost over 30 years\n",
    "    final.total_project_cost = final.total_project_cost/30\n",
    "    return final"
   ]
  },
  {
   "cell_type": "code",
   "execution_count": 109,
   "id": "10f74d00-6968-4eef-9ae0-4639b82542b9",
   "metadata": {},
   "outputs": [],
   "source": [
    "mtc_og = mtc_lrtp()"
   ]
  },
  {
   "cell_type": "code",
   "execution_count": 110,
   "id": "feeb6008-65f8-469f-8f27-0e8194682857",
   "metadata": {},
   "outputs": [],
   "source": [
    "# all_projects_url = \"https://data.bayareametro.gov/resource/y7ka-jksz.json?$query=SELECT%0A%20%20%60plan_strategy%60%2C%0A%20%20%60rtpid%60%2C%0A%20%20%60title%60%2C%0A%20%20%60scope%60%2C%0A%20%20%60open_period%60%2C%0A%20%20%60funding_millions_yoe%60%2C%0A%20%20%60county%60\"\n",
    "# all_projects = pd.read_json(all_projects_url)"
   ]
  },
  {
   "cell_type": "code",
   "execution_count": 111,
   "id": "23f74474-f590-489d-bd20-70fd04a222a5",
   "metadata": {},
   "outputs": [],
   "source": [
    "# all_projects.funding_millions_yoe.describe()"
   ]
  },
  {
   "cell_type": "code",
   "execution_count": 112,
   "id": "5e6aab24-e72b-4ccb-8821-49b8a9496453",
   "metadata": {},
   "outputs": [],
   "source": [
    "# all_projects[all_projects.funding_millions_yoe >= 211000]"
   ]
  },
  {
   "cell_type": "code",
   "execution_count": 113,
   "id": "3506fe1c-2717-43bb-a8a8-c215e11ff307",
   "metadata": {},
   "outputs": [],
   "source": [
    "# all_projects[all_projects.rtpid == \"21-T01-003\"]"
   ]
  },
  {
   "cell_type": "code",
   "execution_count": 114,
   "id": "63f72974-017e-4f2f-8d3d-a54dd4b842c6",
   "metadata": {
    "tags": []
   },
   "outputs": [],
   "source": [
    "# give_info(mtc_og, \"proj_title\", \"total_project_cost\")"
   ]
  },
  {
   "cell_type": "code",
   "execution_count": 115,
   "id": "dcdf4707-e3e4-4f58-8edd-1f4b7ba8b186",
   "metadata": {},
   "outputs": [],
   "source": [
    "def harmonize_mtc():\n",
    "    df = mtc_lrtp()\n",
    "    df = harmonizing_lrtp(\n",
    "        df,\n",
    "        project_name_col=\"proj_title\",\n",
    "        project_description_col=\"subcompone\",\n",
    "        project_category_col=\"plan_strategy\",\n",
    "        project_cost_col=\"total_project_cost\",\n",
    "        location_col=\"geometry\",\n",
    "        county_col=\"county\",\n",
    "        city_col=\"\",\n",
    "        project_year_col=\"open_year\",\n",
    "        phase_col=\"\",\n",
    "        program=\"MTC\",\n",
    "        data_source=\"LRTP\",\n",
    "        note_cols=[\n",
    "            \"strategy\",\n",
    "            \"layer_name\",\n",
    "            \"mode_detai\",\n",
    "        ],\n",
    "        cost_in_millions=False,\n",
    "    )\n",
    "\n",
    "    return df"
   ]
  },
  {
   "cell_type": "markdown",
   "id": "be9dbf44-0fa5-4082-8a57-79e282a626d1",
   "metadata": {
    "tags": []
   },
   "source": [
    "### Sacramento Area Council of Governments (SACOG)\n",
    "* https://www.sacog.org/sites/main/files/file-attachments/2020_mtp-scs.pdf?1580330993"
   ]
  },
  {
   "cell_type": "code",
   "execution_count": 116,
   "id": "ab949b09-5219-43cc-b7f4-53ee417c864f",
   "metadata": {},
   "outputs": [],
   "source": [
    "def sacog_lrtp():\n",
    "\n",
    "    df = to_snakecase(pd.read_excel(f\"{LRTP_GCS}SACOG.xlsx\"))\n",
    "\n",
    "    # Delete embedded headers\n",
    "    df = delete_embedded_headers(df, \"description\", \"Description\")\n",
    "\n",
    "    # Delete columns with all nulls\n",
    "    df = df.dropna(axis=1, how=\"all\")\n",
    "\n",
    "    # Drop duplicates\n",
    "    df = df.drop_duplicates().reset_index(drop=True)\n",
    "\n",
    "    return df"
   ]
  },
  {
   "cell_type": "code",
   "execution_count": 117,
   "id": "1ddf05b4-dbaf-45ae-b974-4cda46cd51cd",
   "metadata": {},
   "outputs": [
    {
     "name": "stdout",
     "output_type": "stream",
     "text": [
      "96 rows are headers\n"
     ]
    }
   ],
   "source": [
    "sacog = sacog_lrtp()"
   ]
  },
  {
   "cell_type": "code",
   "execution_count": 118,
   "id": "c9ea2918-10cc-4cc4-91e8-084689c7e56e",
   "metadata": {},
   "outputs": [
    {
     "name": "stdout",
     "output_type": "stream",
     "text": [
      "Safety Improvements                            2\n",
      "Connect Card Implementation                    2\n",
      "Aux Lane Project: EB Latrobe Road              1\n",
      "Bus Maintenance Facility #1 Rehabilitation     1\n",
      "Enhanced Employee Protection Warning System    1\n",
      "Name: title, dtype: int64\n",
      "# of unique project titles: 1599\n",
      "After dropping duplicates using title and description: 1601\n",
      "Df shape: (1601, 10)\n",
      "Index(['id', 'status__planned,_programmed_or_project_development_only_',\n",
      "       'county', 'lead_agency', 'budget_category', 'title', 'description',\n",
      "       'total_project_cost__2018_dollars_',\n",
      "       'year_of_expenditure_cost_for_planned_projects', 'completion_timing'],\n",
      "      dtype='object')\n"
     ]
    }
   ],
   "source": [
    "give_info(sacog, \"title\", \"description\")"
   ]
  },
  {
   "cell_type": "code",
   "execution_count": 119,
   "id": "6c28d9b7-6f91-4d19-93a4-6999311725fc",
   "metadata": {},
   "outputs": [],
   "source": [
    "def harmonize_sacog():\n",
    "    df = sacog_lrtp()\n",
    "    df = harmonizing_lrtp(\n",
    "        df,\n",
    "        project_name_col=\"title\",\n",
    "        project_description_col=\"description\",\n",
    "        project_category_col=\"budget_category\",\n",
    "        project_cost_col=\"total_project_cost__2018_dollars_\",\n",
    "        location_col=\"\",\n",
    "        county_col=\"county\",\n",
    "        city_col=\"\",\n",
    "        project_year_col=\"completion_timing\",\n",
    "        program=\"SACOG\",\n",
    "        phase_col=\"\",\n",
    "        data_source=\"LRTP\",\n",
    "        note_cols=[\n",
    "            \"year_of_expenditure_cost_for_planned_projects\",\n",
    "            \"status__planned,_programmed_or_project_development_only_\",\n",
    "        ],\n",
    "        cost_in_millions=True,\n",
    "    )\n",
    "\n",
    "    return df"
   ]
  },
  {
   "cell_type": "markdown",
   "id": "8872ef81-828c-4f39-bbb5-ee72db913d6e",
   "metadata": {
    "tags": []
   },
   "source": [
    "### SANDAG\n",
    "* https://www.arcgis.com/home/item.html?id=ba8b2a6247ef463cb7411f039959f3ee\n",
    "* https://www.arcgis.com/apps/mapviewer/index.html?webmap=ba8b2a6247ef463cb7411f039959f3ee"
   ]
  },
  {
   "cell_type": "code",
   "execution_count": 120,
   "id": "7b48c181-36b1-49cb-8c8e-199f45f94a5e",
   "metadata": {},
   "outputs": [],
   "source": [
    "columns_to_keep = [\n",
    "    \"project_title\",\n",
    "    \"lead_agency\",\n",
    "    \"project_year\",\n",
    "    \"project_category\",\n",
    "    \"grant_program\",\n",
    "    \"project_description\",\n",
    "    \"total_project_cost\",\n",
    "    \"location\",\n",
    "    \"city\",\n",
    "    \"county\",\n",
    "    \"data_source\",\n",
    "    \"notes\",\n",
    "]"
   ]
  },
  {
   "cell_type": "code",
   "execution_count": 121,
   "id": "df02e8c2-e29d-44b6-9e47-89656aff07c3",
   "metadata": {},
   "outputs": [],
   "source": [
    "def sandag_lrtp():\n",
    "    sandag_layers_list = [\n",
    "        \"Complete_Corridors_Connectors_Intersections_Ramps_RP2021\",\n",
    "        \"Complete_Corridors_Highway_RP2021\",\n",
    "        \"Transit_Leap_RP2021\",\n",
    "        \"Adopted_Regional_Bike_Network_RP2021\",\n",
    "        \"Mobility_Hubs_and_Flexible_Fleets\",\n",
    "        \"Complete_Corridors_Regional_Arterials\",\n",
    "        \"Goods_Movement\",\n",
    "    ]\n",
    "\n",
    "    sandag_url_pt1 = (\n",
    "        \"https://services1.arcgis.com/HG80xaIVT1z1OdO5/ArcGIS/rest/services/\"\n",
    "    )\n",
    "    sandag_url_pt2 = \"/FeatureServer/0/query?where=1%3D1&objectIds=&time=&geometry=&geometryType=esriGeometryEnvelope&inSR=&spatialRel=esriSpatialRelIntersects&resultType=none&distance=0.0&units=esriSRUnit_Meter&relationParam=&returnGeodetic=false&outFields=*+&returnGeometry=true&featureEncoding=esriDefault&multipatchOption=xyFootprint&maxAllowableOffset=&geometryPrecision=&outSR=&defaultSR=&datumTransformation=&applyVCSProjection=false&returnIdsOnly=false&returnUniqueIdsOnly=false&returnCountOnly=false&returnExtentOnly=false&returnQueryGeometry=false&returnDistinctValues=false&cacheHint=false&orderByFields=&groupByFieldsForStatistics=&outStatistics=&having=&resultOffset=&resultRecordCount=&returnZ=false&returnM=false&returnExceededLimitFeatures=true&quantizationParameters=&sqlFormat=none&f=pgeojson&token=\"\n",
    "    sandag = open_rest_server(sandag_url_pt1, sandag_url_pt2, sandag_layers_list)\n",
    "\n",
    "    # Same project is split across multiple rows. Divide out project cost\n",
    "    sandag.cost2020m = (\n",
    "        sandag.cost2020m.str.replace(\"$\", \"\")\n",
    "        .str.replace(\"N/A\", \"\")\n",
    "        .apply(pd.to_numeric, errors=\"coerce\")\n",
    "    )\n",
    "    sandag = correct_project_cost(sandag, \"project_name\", \"cost2020m\")\n",
    "\n",
    "    return sandag"
   ]
  },
  {
   "cell_type": "code",
   "execution_count": 122,
   "id": "b0f47a03-9eb6-4add-8cbb-df84bc047281",
   "metadata": {},
   "outputs": [
    {
     "name": "stderr",
     "output_type": "stream",
     "text": [
      "/tmp/ipykernel_509/3788115394.py:20: FutureWarning: The default value of regex will change from True to False in a future version. In addition, single character regular expressions will *not* be treated as literal strings when regex=True.\n",
      "  sandag.cost2020m.str.replace(\"$\", \"\")\n"
     ]
    }
   ],
   "source": [
    "sandag = sandag_lrtp()"
   ]
  },
  {
   "cell_type": "code",
   "execution_count": 123,
   "id": "8c47635c-f39f-4de5-b46c-61a37c9a5f2f",
   "metadata": {
    "tags": []
   },
   "outputs": [
    {
     "data": {
      "text/html": [
       "<div>\n",
       "<style scoped>\n",
       "    .dataframe tbody tr th:only-of-type {\n",
       "        vertical-align: middle;\n",
       "    }\n",
       "\n",
       "    .dataframe tbody tr th {\n",
       "        vertical-align: top;\n",
       "    }\n",
       "\n",
       "    .dataframe thead th {\n",
       "        text-align: right;\n",
       "    }\n",
       "</style>\n",
       "<table border=\"1\" class=\"dataframe\">\n",
       "  <thead>\n",
       "    <tr style=\"text-align: right;\">\n",
       "      <th></th>\n",
       "      <th>project_name</th>\n",
       "      <th>total_project_cost</th>\n",
       "      <th>description</th>\n",
       "    </tr>\n",
       "  </thead>\n",
       "  <tbody>\n",
       "    <tr>\n",
       "      <th>5</th>\n",
       "      <td>I-15 (SR 52)</td>\n",
       "      <td>181.00</td>\n",
       "      <td>West to North and South to East</td>\n",
       "    </tr>\n",
       "    <tr>\n",
       "      <th>41</th>\n",
       "      <td>I-15 (SR 52)</td>\n",
       "      <td>65.33</td>\n",
       "      <td>North to West and East to South</td>\n",
       "    </tr>\n",
       "    <tr>\n",
       "      <th>42</th>\n",
       "      <td>I-15 (SR 52)</td>\n",
       "      <td>65.33</td>\n",
       "      <td>North to East and West to South</td>\n",
       "    </tr>\n",
       "    <tr>\n",
       "      <th>43</th>\n",
       "      <td>I-15 (SR 52)</td>\n",
       "      <td>65.33</td>\n",
       "      <td>South to West and East to North</td>\n",
       "    </tr>\n",
       "  </tbody>\n",
       "</table>\n",
       "</div>"
      ],
      "text/plain": [
       "    project_name  total_project_cost                       description\n",
       "5   I-15 (SR 52)              181.00   West to North and South to East\n",
       "41  I-15 (SR 52)               65.33   North to West and East to South\n",
       "42  I-15 (SR 52)               65.33  North to East and West to South \n",
       "43  I-15 (SR 52)               65.33   South to West and East to North"
      ]
     },
     "execution_count": 123,
     "metadata": {},
     "output_type": "execute_result"
    }
   ],
   "source": [
    "sandag.loc[sandag.project_name == \"I-15 (SR 52)\"][\n",
    "    [\"project_name\", \"total_project_cost\", \"description\"]\n",
    "]"
   ]
  },
  {
   "cell_type": "code",
   "execution_count": 124,
   "id": "eab6975d-c150-48b6-a226-9160815a5f1d",
   "metadata": {},
   "outputs": [
    {
     "name": "stdout",
     "output_type": "stream",
     "text": [
      "N/A                  22\n",
      "I-15 (I-8)            4\n",
      "I-15 (SR 52)          4\n",
      "I-805 (I-8)           4\n",
      "Commuter Rail 398     3\n",
      "Name: project_name, dtype: int64\n",
      "# of unique project titles: 309\n",
      "After dropping duplicates using project_name and total_project_cost: 315\n",
      "Df shape: (416, 55)\n",
      "Index(['objectid', 'type', 'freeway', 'intersecti', 'caption', 'project_id',\n",
      "       'phase', 'direction', 'project_id_1', 'year_built', 'category',\n",
      "       'project_name', 'description', 'aqc_2016_1', 'aqc_2020_1', 'pricmcp',\n",
      "       'conncmcp', 'status', 'categoría', 'corredor', 'nombre_del_proyecto',\n",
      "       'descripción', 'corredores_de_conexión', 'geometry', 'layer_name',\n",
      "       'corridor_i', 'type_1', 'existing', 'limits', 'description_1',\n",
      "       'shape__length', 'route', 'routetype', 'route_desc', 'rp_2021_id',\n",
      "       'rp_2021_id_1', 'primary_corridor', 'connecting_corridor_s_',\n",
      "       'capital_cost___2020__millions', 'name', 'mohubtype', 'mohubsize',\n",
      "       'transitservices', 'globalid', 'icon_url', 'shape__area',\n",
      "       'mohubtype_sp', 'mohubsize_sp', 'area', 'project',\n",
      "       'connecting_corridor', 'cost', 'improvementtype', 'total_project_cost',\n",
      "       'total_project_cost_note'],\n",
      "      dtype='object')\n"
     ]
    }
   ],
   "source": [
    "give_info(sandag, \"project_name\", \"total_project_cost\")"
   ]
  },
  {
   "cell_type": "code",
   "execution_count": 125,
   "id": "8c0d88a6-cf33-4858-8c54-88ef88c56639",
   "metadata": {},
   "outputs": [],
   "source": [
    "def harmonize_sandag():\n",
    "    df = sandag_lrtp()\n",
    "    df = harmonizing_lrtp(\n",
    "        df,\n",
    "        project_name_col=\"project_name\",\n",
    "        project_description_col=\"description\",\n",
    "        project_category_col=\"category\",\n",
    "        project_cost_col=\"cost2020m\",\n",
    "        location_col=\"geometry\",\n",
    "        county_col=\"\",\n",
    "        city_col=\"\",\n",
    "        project_year_col=\"phase\",\n",
    "        phase_col=\"status\",\n",
    "        program=\"SANDAG\",\n",
    "        data_source=\"LRTP\",\n",
    "        note_cols=[\n",
    "            \"aqc_2016_1\",\n",
    "            \"aqc_2020_1\",\n",
    "            \"pricmcp\",\n",
    "            \"conncmcp\",\n",
    "            \"layer_name\",\n",
    "            \"corridor_i\",\n",
    "            \"type_1\",\n",
    "            \"existing\",\n",
    "            \"limits\",\n",
    "            \"description_1\",\n",
    "            \"route\",\n",
    "            \"routetype\",\n",
    "            \"route_desc\",\n",
    "            \"rp_2021_id\",\n",
    "            \"rp_2021_id_1\",\n",
    "            \"capital_cost___2020__millions\",\n",
    "        ],\n",
    "        cost_in_millions=False,\n",
    "    )\n",
    "\n",
    "    return df"
   ]
  },
  {
   "cell_type": "markdown",
   "id": "66381b2e-dc5f-43ee-b469-ab21868160a6",
   "metadata": {
    "tags": []
   },
   "source": [
    "### SBCAG"
   ]
  },
  {
   "cell_type": "code",
   "execution_count": 126,
   "id": "b7790955-642c-400f-be3a-8c2fb288c476",
   "metadata": {},
   "outputs": [],
   "source": [
    "def sbcag_lrtp():\n",
    "\n",
    "    df = to_snakecase(pd.read_excel(f\"{LRTP_GCS}SBCAG.xlsx\"))\n",
    "    drop_columns = [\n",
    "        \"unnamed:_2\",\n",
    "        \"project_type\",\n",
    "        \"unnamed:_4\",\n",
    "        \"unnamed:_6\",\n",
    "        \"unnamed:_8\",\n",
    "        \"unnamed:_9\",\n",
    "        \"unnamed:_10\",\n",
    "        \"unnamed:_13\",\n",
    "    ]\n",
    "    df = df.drop(columns=drop_columns)\n",
    "    df = delete_embedded_headers(df, \"description\", \"Description\")\n",
    "    df = df.dropna(subset=[\"description\"]).reset_index(drop=True)\n",
    "\n",
    "    df = df.drop_duplicates(\n",
    "        subset=[\"phase\", \"project_title\", \"phase\", \"total_cost__$000s_\"]\n",
    "    ).reset_index(drop=True)\n",
    "\n",
    "    # Millions\n",
    "    df[\"total_cost_millions\"] = df[\"total_cost__$000s_\"] * 1_000\n",
    "\n",
    "    return df"
   ]
  },
  {
   "cell_type": "code",
   "execution_count": 127,
   "id": "51bc1d33-07c5-4055-afdc-8a240aad7469",
   "metadata": {},
   "outputs": [
    {
     "name": "stdout",
     "output_type": "stream",
     "text": [
      "65 rows are headers\n"
     ]
    }
   ],
   "source": [
    "sbcag = sbcag_lrtp()"
   ]
  },
  {
   "cell_type": "code",
   "execution_count": 128,
   "id": "1ee1b034-e6dc-4948-ade3-35984f57426e",
   "metadata": {},
   "outputs": [
    {
     "name": "stdout",
     "output_type": "stream",
     "text": [
      "SB-PL-15: Upper De la Vina St Gap Closure and Safe Crossings              2\n",
      "CT-1: SR 246 Passing Lanes – Planting Mitigation (FTIP CT93)(EA 0C641)    1\n",
      "SM-PL-10: A Street Widening                                               1\n",
      "Sol-PL-6: Fredensborg Canyon Rd/Adobe Creek Culvert Replacement           1\n",
      "Sol-PL-5: Solvang School Sidewalk Project                                 1\n",
      "Name: project_title, dtype: int64\n",
      "# of unique project titles: 418\n",
      "After dropping duplicates using project_title and total_cost__$000s_: 419\n",
      "Df shape: (419, 8)\n",
      "Index(['type', 'project_title', 'phase', 'description',\n",
      "       'primary_funding_source_s_', 'year', 'total_cost__$000s_',\n",
      "       'total_cost_millions'],\n",
      "      dtype='object')\n"
     ]
    }
   ],
   "source": [
    "give_info(sbcag, \"project_title\", \"total_cost__$000s_\")"
   ]
  },
  {
   "cell_type": "code",
   "execution_count": 129,
   "id": "50619e00-1e7a-43da-ad1c-9332e31ede92",
   "metadata": {},
   "outputs": [
    {
     "data": {
      "text/html": [
       "<div>\n",
       "<style scoped>\n",
       "    .dataframe tbody tr th:only-of-type {\n",
       "        vertical-align: middle;\n",
       "    }\n",
       "\n",
       "    .dataframe tbody tr th {\n",
       "        vertical-align: top;\n",
       "    }\n",
       "\n",
       "    .dataframe thead th {\n",
       "        text-align: right;\n",
       "    }\n",
       "</style>\n",
       "<table border=\"1\" class=\"dataframe\">\n",
       "  <thead>\n",
       "    <tr style=\"text-align: right;\">\n",
       "      <th></th>\n",
       "      <th>type</th>\n",
       "      <th>project_title</th>\n",
       "      <th>phase</th>\n",
       "      <th>description</th>\n",
       "      <th>primary_funding_source_s_</th>\n",
       "      <th>year</th>\n",
       "      <th>total_cost__$000s_</th>\n",
       "      <th>total_cost_millions</th>\n",
       "    </tr>\n",
       "  </thead>\n",
       "  <tbody>\n",
       "    <tr>\n",
       "      <th>388</th>\n",
       "      <td>VMT Reducing</td>\n",
       "      <td>SB-IL-1: Pedestrian\\nEnhancements: Sycamore Creek Pedestrian Crossing</td>\n",
       "      <td>PA&amp;ED, PS&amp;E,\\nConstruction</td>\n",
       "      <td>Construct a pedestrian overcrossing from the\\nEastside Neighborhood from Canada Street, crossing Highway 101 and landing near the Sycamore Creek in the Dwight Murphy Field area.  The project would include enhanced crosswalks at several lower Eastside intersection to provide safe access to the crossing.</td>\n",
       "      <td>NaN</td>\n",
       "      <td>NaN</td>\n",
       "      <td>TBD</td>\n",
       "      <td>TBDTBDTBDTBDTBDTBDTBDTBDTBDTBDTBDTBDTBDTBDTBDTBDTBDTBDTBDTBDTBDTBDTBDTBDTBDTBDTBDTBDTBDTBDTBDTBDTBDTBDTBDTBDTBDTBDTBDTBDTBDTBDTBDTBDTBDTBDTBDTBDTBDTBDTBDTBDTBDTBDTBDTBDTBDTBDTBDTBDTBDTBDTBDTBDTBDTBDTBDTBDTBDTBDTBDTBDTBDTBDTBDTBDTBDTBDTBDTBDTBDTBDTBDTBDTBDTBDTBDTBDTBDTBDTBDTBDTBDTBDTBDTBDTBDTBDTBDTBDTBDTBDTBDTBDTBDTBDTBDTBDTBDTBDTBDTBDTBDTBDTBDTBDTBDTBDTBDTBDTBDTBDTBDTBDTBDTBDTBDTBDTBDTBDTBDTBDTBDTBDTBDTBDTBDTBDTBDTBDTBDTBDTBDTBDTBDTBDTBDTBDTBDTBDTBDTBDTBDTBDTBDTBDTBDTBDTBDTBDTBDTBDTBDTBDTBDTBDTBDTBDTBDTBDTBDTBDTBDTBDTBDTBDTBDTBDTBDTBDTBDTBDTBDTBDTBDTBDTBDTBDTBDTBDTBDTBDTBDTBDTBDTBDTBDTBDTBDTBDTBDTBDTBDTBDTBDTBDTBDTBDTBDTBDTBDTBDTBDTBDTBDTBDTBDTBDTBDTBDTBDTBDTBDTBDTBDTBDTBDTBDTBDTBDTBDTBDTBDTBDTBDTBDTBDTBDTBDTBDTBDTBDTBDTBDTBDTBDTBDTBDTBDTBDTBDTBDTBDTBDTBDTBDTBDTBDTBDTBDTBDTBDTBDTBDTBDTBDTBDTBDTBDTBDTBDTBDTBDTBDTBDTBDTBDTBDTBDTBDTBDTBDTBDTBDTBDTBDTBDTBDTBDTBDTBDTBDTBDTBDTBDTBDTBDTBDTBDTBDTBDTBDTBDTBDTBDTBDTBDTBDTBDTBDTBDTBDTBDTBDTBDTBDTBDTBDTBDTBDTBDTBDTBDTBDTBDTBDTBDTBDTBDTBDTBDTBDTBDTBDTBDTBDTBDTBDTBDTBDTBDTBDTBDTBDTBDTBDTBDTBDTBDTBDTBDTBDTBDTBDTBDTBDTBDTBDTBDTBDTBDTBDTBDTBDTBDTBDTBDTBDTBDTBDTBDTBDTBDTBDTBDTBDTBDTBDTBDTBDTBDTBDTBDTBDTBDTBDTBDTBDTBDTBDTBDTBDTBDTBDTBDTBDTBDTBDTBDTBDTBDTBDTBDTBDTBDTBDTBDTBDTBDTBDTBDTBDTBDTBDTBDTBDTBDTBDTBDTBDTBDTBDTBDTBDTBDTBDTBDTBDTBDTBDTBDTBDTBDTBDTBDTBDTBDTBDTBDTBDTBDTBDTBDTBDTBDTBDTBDTBDTBDTBDTBDTBDTBDTBDTBDTBDTBDTBDTBDTBDTBDTBDTBDTBDTBDTBDTBDTBDTBDTBDTBDTBDTBDTBDTBDTBDTBDTBDTBDTBDTBDTBDTBDTBDTBDTBDTBDTBDTBDTBDTBDTBDTBDTBDTBDTBDTBDTBDTBDTBDTBDTBDTBDTBDTBDTBDTBDTBDTBDTBDTBDTBDTBDTBDTBDTBDTBDTBDTBDTBDTBDTBDTBDTBDTBDTBDTBDTBDTBDTBDTBDTBDTBDTBDTBDTBDTBDTBDTBDTBDTBDTBDTBDTBDTBDTBDTBDTBDTBDTBDTBDTBDTBDTBDTBDTBDTBDTBDTBDTBDTBDTBDTBDTBDTBDTBDTBDTBDTBDTBDTBDTBDTBDTBDTBDTBDTBDTBDTBDTBDTBDTBDTBDTBDTBDTBDTBDTBDTBDTBDTBDTBDTBDTBDTBDTBDTBDTBDTBDTBDTBDTBDTBDTBDTBDTBDTBDTBDTBDTBDTBDTBDTBDTBDTBDTBDTBDTBDTBDTBDTBDTBDTBDTBDTBDTBDTBDTBDTBDTBDTBDTBDTBDTBDTBDTBDTBDTBDTBDTBDTBDTBDTBDTBDTBDTBDTBDTBDTBDTBDTBDTBDTBDTBDTBDTBDTBDTBDTBDTBDTBDTBDTBDTBDTBDTBDTBDTBDTBDTBDTBDTBDTBDTBDTBDTBDTBDTBDTBDTBDTBDTBDTBDTBDTBDTBDTBDTBDTBDTBDTBDTBDTBDTBDTBDTBDTBDTBDTBDTBDTBDTBDTBDTBDTBDTBDTBDTBDTBDTBDTBDTBDTBDTBDTBDTBDTBDTBDTBDTBDTBDTBDTBDTBDTBDTBDTBDTBDTBDTBDTBDTBDTBDTBDTBDTBDTBDTBDTBDTBDTBDTBDTBDTBDTBDTBDTBDTBDTBDTBDTBDTBDTBDTBDTBDTBDTBDTBDTBDTBDTBDTBDTBDTBDTBDTBDTBDTBDTBDTBDTBDTBDTBDTBDTBDTBDTBDTBDTBDTBDTBDTBDTBDTBDTBDTBDTBDTBDTBDTBDTBDTBDTBDTBDTBDTBDTBDTBDTBDTBDTBDTBDTBDTBDTBDTBDTBDTBDTBDTBDTBDTBDTBDTBDTBDTBDTBDTBDTBDTBDTBDTBDTBDTBDTBDTBDTBDTBDTBDTBDTBDTBDTBDTBDTBDTBDTBDTBDTBDTBDTBDTBDTBDTBDTBDTBDTBDTBDTBDTBDTBDTBDTBDTBDTBDTBDTBDTBDTBDTBDTBDTBDTBDTBDTBDTBDTBDTBDTBDTBDTBDTBDTBDTBDTBDTBDTBDTBDTBDTBDTBDTBDTBDTBDTBDTBDTBDTBDTBDTBDTBDTBDTBDTBDTBDTBDTBDTBDTBDTBDTBDTBDTBDTBDTBDTBDTBDTBDTBDTBDTBDTBDTBDTBDTBDTBDTBDTBDTBDTBDTBDTBDTBDTBDTBDTBDTBDTBDTBDTBDTBDTBDTBDTBDTBDTBDTBDTBDTBDTBDTBDTBDTBDTBDTBDTBDTBDTBDTBDTBDTBDTBDTBDTBDTBDTBDTBDTBDTBDTBDTBDTBDTBDTBDTBDTBDTBDTBDTBDTBDTBDTBDTBDTBDTBDTBDTBDTBDTBDTBDTBDTBDTBDTBDTBDTBDTBDTBDTBDTBDTBDTBDTBDTBDTBDTBDTBDTBDTBDTBD</td>\n",
       "    </tr>\n",
       "  </tbody>\n",
       "</table>\n",
       "</div>"
      ],
      "text/plain": [
       "             type  \\\n",
       "388  VMT Reducing   \n",
       "\n",
       "                                                             project_title  \\\n",
       "388  SB-IL-1: Pedestrian\\nEnhancements: Sycamore Creek Pedestrian Crossing   \n",
       "\n",
       "                          phase  \\\n",
       "388  PA&ED, PS&E,\\nConstruction   \n",
       "\n",
       "                                                                                                                                                                                                                                                                                                         description  \\\n",
       "388  Construct a pedestrian overcrossing from the\\nEastside Neighborhood from Canada Street, crossing Highway 101 and landing near the Sycamore Creek in the Dwight Murphy Field area.  The project would include enhanced crosswalks at several lower Eastside intersection to provide safe access to the crossing.   \n",
       "\n",
       "    primary_funding_source_s_ year total_cost__$000s_  \\\n",
       "388                       NaN  NaN                TBD   \n",
       "\n",
       "                                                                                                                                                                                                                                                                                                                                                                                                                                                                                                                                                                                                                                                                                                                                                                                                                                                                                                                                                                                                                                                                                                                                                                                                                                                                                                                                                                                                                                                                                                                                                                                                                                                                                                                                                                                                                                                                                                                                                                                                                                                                                                                                                                                                                                                                                                                                                                                                                                                                                                                                                                                                                                                                                                                                                                                                                                                                                                                                                                                                                                                                                                          total_cost_millions  \n",
       "388  TBDTBDTBDTBDTBDTBDTBDTBDTBDTBDTBDTBDTBDTBDTBDTBDTBDTBDTBDTBDTBDTBDTBDTBDTBDTBDTBDTBDTBDTBDTBDTBDTBDTBDTBDTBDTBDTBDTBDTBDTBDTBDTBDTBDTBDTBDTBDTBDTBDTBDTBDTBDTBDTBDTBDTBDTBDTBDTBDTBDTBDTBDTBDTBDTBDTBDTBDTBDTBDTBDTBDTBDTBDTBDTBDTBDTBDTBDTBDTBDTBDTBDTBDTBDTBDTBDTBDTBDTBDTBDTBDTBDTBDTBDTBDTBDTBDTBDTBDTBDTBDTBDTBDTBDTBDTBDTBDTBDTBDTBDTBDTBDTBDTBDTBDTBDTBDTBDTBDTBDTBDTBDTBDTBDTBDTBDTBDTBDTBDTBDTBDTBDTBDTBDTBDTBDTBDTBDTBDTBDTBDTBDTBDTBDTBDTBDTBDTBDTBDTBDTBDTBDTBDTBDTBDTBDTBDTBDTBDTBDTBDTBDTBDTBDTBDTBDTBDTBDTBDTBDTBDTBDTBDTBDTBDTBDTBDTBDTBDTBDTBDTBDTBDTBDTBDTBDTBDTBDTBDTBDTBDTBDTBDTBDTBDTBDTBDTBDTBDTBDTBDTBDTBDTBDTBDTBDTBDTBDTBDTBDTBDTBDTBDTBDTBDTBDTBDTBDTBDTBDTBDTBDTBDTBDTBDTBDTBDTBDTBDTBDTBDTBDTBDTBDTBDTBDTBDTBDTBDTBDTBDTBDTBDTBDTBDTBDTBDTBDTBDTBDTBDTBDTBDTBDTBDTBDTBDTBDTBDTBDTBDTBDTBDTBDTBDTBDTBDTBDTBDTBDTBDTBDTBDTBDTBDTBDTBDTBDTBDTBDTBDTBDTBDTBDTBDTBDTBDTBDTBDTBDTBDTBDTBDTBDTBDTBDTBDTBDTBDTBDTBDTBDTBDTBDTBDTBDTBDTBDTBDTBDTBDTBDTBDTBDTBDTBDTBDTBDTBDTBDTBDTBDTBDTBDTBDTBDTBDTBDTBDTBDTBDTBDTBDTBDTBDTBDTBDTBDTBDTBDTBDTBDTBDTBDTBDTBDTBDTBDTBDTBDTBDTBDTBDTBDTBDTBDTBDTBDTBDTBDTBDTBDTBDTBDTBDTBDTBDTBDTBDTBDTBDTBDTBDTBDTBDTBDTBDTBDTBDTBDTBDTBDTBDTBDTBDTBDTBDTBDTBDTBDTBDTBDTBDTBDTBDTBDTBDTBDTBDTBDTBDTBDTBDTBDTBDTBDTBDTBDTBDTBDTBDTBDTBDTBDTBDTBDTBDTBDTBDTBDTBDTBDTBDTBDTBDTBDTBDTBDTBDTBDTBDTBDTBDTBDTBDTBDTBDTBDTBDTBDTBDTBDTBDTBDTBDTBDTBDTBDTBDTBDTBDTBDTBDTBDTBDTBDTBDTBDTBDTBDTBDTBDTBDTBDTBDTBDTBDTBDTBDTBDTBDTBDTBDTBDTBDTBDTBDTBDTBDTBDTBDTBDTBDTBDTBDTBDTBDTBDTBDTBDTBDTBDTBDTBDTBDTBDTBDTBDTBDTBDTBDTBDTBDTBDTBDTBDTBDTBDTBDTBDTBDTBDTBDTBDTBDTBDTBDTBDTBDTBDTBDTBDTBDTBDTBDTBDTBDTBDTBDTBDTBDTBDTBDTBDTBDTBDTBDTBDTBDTBDTBDTBDTBDTBDTBDTBDTBDTBDTBDTBDTBDTBDTBDTBDTBDTBDTBDTBDTBDTBDTBDTBDTBDTBDTBDTBDTBDTBDTBDTBDTBDTBDTBDTBDTBDTBDTBDTBDTBDTBDTBDTBDTBDTBDTBDTBDTBDTBDTBDTBDTBDTBDTBDTBDTBDTBDTBDTBDTBDTBDTBDTBDTBDTBDTBDTBDTBDTBDTBDTBDTBDTBDTBDTBDTBDTBDTBDTBDTBDTBDTBDTBDTBDTBDTBDTBDTBDTBDTBDTBDTBDTBDTBDTBDTBDTBDTBDTBDTBDTBDTBDTBDTBDTBDTBDTBDTBDTBDTBDTBDTBDTBDTBDTBDTBDTBDTBDTBDTBDTBDTBDTBDTBDTBDTBDTBDTBDTBDTBDTBDTBDTBDTBDTBDTBDTBDTBDTBDTBDTBDTBDTBDTBDTBDTBDTBDTBDTBDTBDTBDTBDTBDTBDTBDTBDTBDTBDTBDTBDTBDTBDTBDTBDTBDTBDTBDTBDTBDTBDTBDTBDTBDTBDTBDTBDTBDTBDTBDTBDTBDTBDTBDTBDTBDTBDTBDTBDTBDTBDTBDTBDTBDTBDTBDTBDTBDTBDTBDTBDTBDTBDTBDTBDTBDTBDTBDTBDTBDTBDTBDTBDTBDTBDTBDTBDTBDTBDTBDTBDTBDTBDTBDTBDTBDTBDTBDTBDTBDTBDTBDTBDTBDTBDTBDTBDTBDTBDTBDTBDTBDTBDTBDTBDTBDTBDTBDTBDTBDTBDTBDTBDTBDTBDTBDTBDTBDTBDTBDTBDTBDTBDTBDTBDTBDTBDTBDTBDTBDTBDTBDTBDTBDTBDTBDTBDTBDTBDTBDTBDTBDTBDTBDTBDTBDTBDTBDTBDTBDTBDTBDTBDTBDTBDTBDTBDTBDTBDTBDTBDTBDTBDTBDTBDTBDTBDTBDTBDTBDTBDTBDTBDTBDTBDTBDTBDTBDTBDTBDTBDTBDTBDTBDTBDTBDTBDTBDTBDTBDTBDTBDTBDTBDTBDTBDTBDTBDTBDTBDTBDTBDTBDTBDTBDTBDTBDTBDTBDTBDTBDTBDTBDTBDTBDTBDTBDTBDTBDTBDTBDTBDTBDTBDTBDTBDTBDTBDTBDTBDTBDTBDTBDTBDTBDTBDTBDTBDTBDTBDTBDTBDTBDTBDTBDTBDTBDTBDTBDTBDTBDTBDTBDTBDTBDTBDTBDTBDTBDTBDTBDTBDTBDTBDTBDTBDTBDTBDTBDTBDTBDTBDTBDTBDTBDTBDTBDTBDTBDTBDTBDTBDTBDTBDTBDTBDTBDTBDTBDTBDTBDTBDTBDTBDTBDTBDTBDTBDTBDTBDTBDTBDTBDTBDTBDTBDTBDTBDTBDTBDTBDTBDTBDTBDTBDTBDTBDTBDTBDTBDTBDTBD  "
      ]
     },
     "execution_count": 129,
     "metadata": {},
     "output_type": "execute_result"
    }
   ],
   "source": [
    "sbcag.sample()"
   ]
  },
  {
   "cell_type": "code",
   "execution_count": 130,
   "id": "b85b15ae-f6bd-4193-bbf6-336a972d9c35",
   "metadata": {},
   "outputs": [],
   "source": [
    "def harmonize_sbcag():\n",
    "    df = sbcag_lrtp()\n",
    "    df = harmonizing_lrtp(\n",
    "        df,\n",
    "        project_name_col=\"project_title\",\n",
    "        project_description_col=\"description\",\n",
    "        project_category_col=\"phase\",\n",
    "        project_cost_col=\"total_cost_millions\",\n",
    "        location_col=\"\",\n",
    "        county_col=\"\",\n",
    "        city_col=\"\",\n",
    "        project_year_col=\"completion\\nyear\",\n",
    "        program=\"SBCAG\",\n",
    "        phase_col=\"\",\n",
    "        data_source=\"LRTP\",\n",
    "        note_cols=[\n",
    "            \"type\",\n",
    "            \"primary_funding_source_s_\",\n",
    "            \"year\",\n",
    "        ],\n",
    "        cost_in_millions=True,\n",
    "    )\n",
    "\n",
    "    return df"
   ]
  },
  {
   "cell_type": "markdown",
   "id": "3f34d14f-06cc-40e1-a760-421a29e594b0",
   "metadata": {},
   "source": [
    "### Shasta County Regional Transportation Planning Agency (SCRTPA)"
   ]
  },
  {
   "cell_type": "code",
   "execution_count": 131,
   "id": "c773508e-8c2d-458b-9024-494452ae1a71",
   "metadata": {},
   "outputs": [],
   "source": [
    "def scrtpa_lrtp():\n",
    "    df = to_snakecase(pd.read_excel(f\"{LRTP_GCS}SRTA.xlsx\", sheet_name=\"Cleaned\"))\n",
    "\n",
    "    to_keep = [\n",
    "        \"regional_transportation_projects\",\n",
    "        \"short_term_total_est_cost_of_project\",\n",
    "        \"long_term_total_est_cost_of_project\",\n",
    "        \"project_band\",\n",
    "        \"project_type\\n_project_intent_\",\n",
    "        \"expected_funding_sources\",\n",
    "    ]\n",
    "\n",
    "    df = df[to_keep]\n",
    "    df[\"cost\"] = df.short_term_total_est_cost_of_project\n",
    "    df.cost = df.cost.fillna(df.long_term_total_est_cost_of_project)\n",
    "\n",
    "    df = df.drop_duplicates()\n",
    "    return df"
   ]
  },
  {
   "cell_type": "code",
   "execution_count": 132,
   "id": "bfe246fd-17ec-444d-b47f-c9abb8cf0b0b",
   "metadata": {},
   "outputs": [],
   "source": [
    "scrtpa = scrtpa_lrtp()"
   ]
  },
  {
   "cell_type": "code",
   "execution_count": 133,
   "id": "f74ebf46-bc14-4cfd-abf0-2aad8e1b1aab",
   "metadata": {},
   "outputs": [],
   "source": [
    "# scrtpa.sample(5)"
   ]
  },
  {
   "cell_type": "code",
   "execution_count": 134,
   "id": "ac78a3b2-6753-4b02-b4f5-6cbb33cf1e05",
   "metadata": {},
   "outputs": [],
   "source": [
    "# scrtpa[scrtpa.regional_transportation_projects == \"Little Street - Realignment\"]"
   ]
  },
  {
   "cell_type": "code",
   "execution_count": 135,
   "id": "7f33f3f3-ad65-4666-bdda-5412d1e87193",
   "metadata": {},
   "outputs": [
    {
     "data": {
      "text/html": [
       "<div>\n",
       "<style scoped>\n",
       "    .dataframe tbody tr th:only-of-type {\n",
       "        vertical-align: middle;\n",
       "    }\n",
       "\n",
       "    .dataframe tbody tr th {\n",
       "        vertical-align: top;\n",
       "    }\n",
       "\n",
       "    .dataframe thead th {\n",
       "        text-align: right;\n",
       "    }\n",
       "</style>\n",
       "<table border=\"1\" class=\"dataframe\">\n",
       "  <thead>\n",
       "    <tr style=\"text-align: right;\">\n",
       "      <th></th>\n",
       "      <th>regional_transportation_projects</th>\n",
       "      <th>short_term_total_est_cost_of_project</th>\n",
       "      <th>long_term_total_est_cost_of_project</th>\n",
       "      <th>project_band</th>\n",
       "      <th>project_type\\n_project_intent_</th>\n",
       "      <th>expected_funding_sources</th>\n",
       "      <th>cost</th>\n",
       "    </tr>\n",
       "  </thead>\n",
       "  <tbody>\n",
       "    <tr>\n",
       "      <th>831</th>\n",
       "      <td>E Cypress Ave-Alfreda Way-Victor Ave</td>\n",
       "      <td>NaN</td>\n",
       "      <td>29913</td>\n",
       "      <td>(2026-2040)</td>\n",
       "      <td>Buffered Bike Lane</td>\n",
       "      <td>unknown</td>\n",
       "      <td>29913</td>\n",
       "    </tr>\n",
       "    <tr>\n",
       "      <th>833</th>\n",
       "      <td>E Cypress Ave-Alfreda Way-Victor Ave</td>\n",
       "      <td>NaN</td>\n",
       "      <td>529884</td>\n",
       "      <td>(2026-2040)</td>\n",
       "      <td>Sidewalk</td>\n",
       "      <td>unknown</td>\n",
       "      <td>529884</td>\n",
       "    </tr>\n",
       "  </tbody>\n",
       "</table>\n",
       "</div>"
      ],
      "text/plain": [
       "         regional_transportation_projects  \\\n",
       "831  E Cypress Ave-Alfreda Way-Victor Ave   \n",
       "833  E Cypress Ave-Alfreda Way-Victor Ave   \n",
       "\n",
       "     short_term_total_est_cost_of_project long_term_total_est_cost_of_project  \\\n",
       "831                                   NaN                               29913   \n",
       "833                                   NaN                              529884   \n",
       "\n",
       "    project_band project_type\\n_project_intent_ expected_funding_sources  \\\n",
       "831  (2026-2040)             Buffered Bike Lane                  unknown   \n",
       "833  (2026-2040)                       Sidewalk                  unknown   \n",
       "\n",
       "       cost  \n",
       "831   29913  \n",
       "833  529884  "
      ]
     },
     "execution_count": 135,
     "metadata": {},
     "output_type": "execute_result"
    }
   ],
   "source": [
    "scrtpa[\n",
    "    scrtpa.regional_transportation_projects == \"E Cypress Ave-Alfreda Way-Victor Ave\"\n",
    "]"
   ]
  },
  {
   "cell_type": "code",
   "execution_count": 136,
   "id": "67ede441-9305-4190-a149-408779171ef4",
   "metadata": {},
   "outputs": [
    {
     "name": "stdout",
     "output_type": "stream",
     "text": [
      "E Cypress Ave-Alfreda Way-Victor Ave                      2\n",
      "GROVE ST-B ST-WALNUT ST                                   2\n",
      "Churn Creek Rd-Rancho Rd-Churn Creek Rd/S Bonnyview Rd    2\n",
      "Hartnell Ave-Victor Ave-Shasta View Dr                    2\n",
      "Hawley Rd-Hawley Rd (e/o Norwich Ct)-Collyer Dr           2\n",
      "Name: regional_transportation_projects, dtype: int64\n",
      "# of unique project titles: 1051\n",
      "After dropping duplicates using regional_transportation_projects and cost: 1066\n",
      "Df shape: (1066, 7)\n",
      "Index(['regional_transportation_projects',\n",
      "       'short_term_total_est_cost_of_project',\n",
      "       'long_term_total_est_cost_of_project', 'project_band',\n",
      "       'project_type\\n_project_intent_', 'expected_funding_sources', 'cost'],\n",
      "      dtype='object')\n"
     ]
    }
   ],
   "source": [
    "give_info(scrtpa, \"regional_transportation_projects\", \"cost\")"
   ]
  },
  {
   "cell_type": "code",
   "execution_count": 137,
   "id": "525eb6b2-24e9-4f39-8545-ac785ca7dfdb",
   "metadata": {},
   "outputs": [],
   "source": [
    "def harmonize_scrtpa():\n",
    "    df = scrtpa_lrtp()\n",
    "    df = harmonizing_lrtp(\n",
    "        df,\n",
    "        project_name_col=\"regional_transportation_projects\",\n",
    "        project_description_col=\"\",\n",
    "        project_category_col=\"project_type\\n_project_intent_\",\n",
    "        project_cost_col=\"cost\",\n",
    "        location_col=\"\",\n",
    "        county_col=\"\",\n",
    "        city_col=\"\",\n",
    "        project_year_col=\"project_band\",\n",
    "        program=\"SCRTPA\",\n",
    "        phase_col=\"\",\n",
    "        data_source=\"LRTP\",\n",
    "        note_cols=[\n",
    "            \"expected_funding_sources\",\n",
    "        ],\n",
    "        cost_in_millions=True,\n",
    "    )\n",
    "\n",
    "    return df"
   ]
  },
  {
   "cell_type": "code",
   "execution_count": 138,
   "id": "809db66d-1963-44d9-ab63-2cf8ea8895a5",
   "metadata": {},
   "outputs": [],
   "source": [
    "# scrtpa.head()"
   ]
  },
  {
   "cell_type": "markdown",
   "id": "dd84f14a-b566-4a75-a94a-168c8d6261e3",
   "metadata": {},
   "source": [
    "### San Luis Obispo Council of Governments (SLOCOG)\n",
    "* Have to paste the data from the word doc and merge with shapefiles, which I'll receive on Monday."
   ]
  },
  {
   "cell_type": "code",
   "execution_count": 139,
   "id": "d2eab35a-ddf1-4785-b006-06d058f728d6",
   "metadata": {},
   "outputs": [],
   "source": [
    "def slocog_lrtp():\n",
    "    df = to_snakecase(pd.read_excel(f\"{LRTP_GCS}SLOCOG.xlsx\"))\n",
    "\n",
    "    df[\"total_cost\"] = df._2021_cost_estimate\n",
    "\n",
    "    # Fill nan with the other columns\n",
    "    df.loc[df.total_cost.isnull(), \"total_cost\"] = df[\"_2045\\ntotal_capital_cost\"]\n",
    "    df.loc[df.total_cost.isnull(), \"total_cost\"] = df.escalated_cost_estimate\n",
    "\n",
    "    drop_cols = [\n",
    "        \"_2045\\ntotal_capital_cost\",\n",
    "        \"_2021_cost_estimate\",\n",
    "        \"escalated_cost_estimate\",\n",
    "        \"project_category\",\n",
    "    ]\n",
    "\n",
    "    df = df.drop(columns=drop_cols)\n",
    "    df = df.reset_index()\n",
    "\n",
    "    # Open up gdf\n",
    "    gdf_url = f\"{LRTP_GCS}SLOCOG Current Projects.zip\"\n",
    "    with fsspec.open(gdf_url) as file:\n",
    "        gdf = to_snakecase(gpd.read_file(file))\n",
    "    gdf = gdf[[\"project_id\", \"geometry\"]]\n",
    "\n",
    "    # Merge -> left b/c some RTP projects have no location info\n",
    "    m1 = pd.merge(\n",
    "        df, gdf, how=\"left\", left_on=[\"_2023_rtp_project_id\"], right_on=[\"project_id\"]\n",
    "    )\n",
    "\n",
    "    m1 = m1.set_geometry(\"geometry\")\n",
    "    m1 = m1.to_crs(\"EPSG:4326\")\n",
    "    return m1"
   ]
  },
  {
   "cell_type": "code",
   "execution_count": 140,
   "id": "8071c55e-5711-43e7-a03d-a557db4ee05a",
   "metadata": {},
   "outputs": [],
   "source": [
    "slocog = slocog_lrtp()"
   ]
  },
  {
   "cell_type": "code",
   "execution_count": 141,
   "id": "f36fa53b-ead9-4d5e-924d-99bd430cf37f",
   "metadata": {},
   "outputs": [
    {
     "name": "stdout",
     "output_type": "stream",
     "text": [
      "Hazel Ln. SRTS Improvements                          2\n",
      "Main St. Sidewalks                                   2\n",
      "Los Berros Rd. Widening                              2\n",
      "Octagon Barn Park-and-Ride Lot and shared-use lot    1\n",
      "Augusta Neighborhood SRTS Improvements               1\n",
      "Name: project_name, dtype: int64\n",
      "# of unique project titles: 416\n",
      "After dropping duplicates using project_name and total_cost: 420\n",
      "Df shape: (420, 12)\n",
      "Index(['index', 'project_name', 'project_description', 'sponsor', 'community',\n",
      "       'time_period', 'project_type', '_2023_rtp_project_id', 'time_horizon',\n",
      "       'total_cost', 'project_id', 'geometry'],\n",
      "      dtype='object')\n"
     ]
    }
   ],
   "source": [
    "give_info(slocog, \"project_name\", \"total_cost\")"
   ]
  },
  {
   "cell_type": "code",
   "execution_count": 142,
   "id": "88172771-5fb9-4604-91f7-cbd3e41b4085",
   "metadata": {},
   "outputs": [
    {
     "data": {
      "text/html": [
       "<div>\n",
       "<style scoped>\n",
       "    .dataframe tbody tr th:only-of-type {\n",
       "        vertical-align: middle;\n",
       "    }\n",
       "\n",
       "    .dataframe tbody tr th {\n",
       "        vertical-align: top;\n",
       "    }\n",
       "\n",
       "    .dataframe thead th {\n",
       "        text-align: right;\n",
       "    }\n",
       "</style>\n",
       "<table border=\"1\" class=\"dataframe\">\n",
       "  <thead>\n",
       "    <tr style=\"text-align: right;\">\n",
       "      <th></th>\n",
       "      <th>index</th>\n",
       "      <th>project_name</th>\n",
       "      <th>project_description</th>\n",
       "      <th>sponsor</th>\n",
       "      <th>community</th>\n",
       "      <th>time_period</th>\n",
       "      <th>project_type</th>\n",
       "      <th>_2023_rtp_project_id</th>\n",
       "      <th>time_horizon</th>\n",
       "      <th>total_cost</th>\n",
       "      <th>project_id</th>\n",
       "      <th>geometry</th>\n",
       "    </tr>\n",
       "  </thead>\n",
       "  <tbody>\n",
       "    <tr>\n",
       "      <th>341</th>\n",
       "      <td>341</td>\n",
       "      <td>Hazel Ln. SRTS Improvements</td>\n",
       "      <td>Construct Class II/Class IV bike lanes on Hazel Ln. between West Tefft St. &amp; Division St.</td>\n",
       "      <td>NaN</td>\n",
       "      <td>NIPOMO</td>\n",
       "      <td>NaN</td>\n",
       "      <td>Unconstrained Active Transportation Investments</td>\n",
       "      <td>STH-AT2-1013</td>\n",
       "      <td>Unconstr.</td>\n",
       "      <td>153000.00</td>\n",
       "      <td>STH-AT2-1013</td>\n",
       "      <td>LINESTRING (-120.49885 35.02392, -120.49615 35.02301, -120.49418 35.02232, -120.49377 35.02219, -120.49313 35.02198, -120.49244 35.02176, -120.49191 35.02158, -120.49068 35.02117, -120.48944 35.02074)</td>\n",
       "    </tr>\n",
       "    <tr>\n",
       "      <th>345</th>\n",
       "      <td>345</td>\n",
       "      <td>Hazel Ln. SRTS Improvements</td>\n",
       "      <td>Pedestrian improvements between W. Tefft St. and Siammons Ln.</td>\n",
       "      <td>NaN</td>\n",
       "      <td>NIPOMO</td>\n",
       "      <td>NaN</td>\n",
       "      <td>Unconstrained Active Transportation Investments</td>\n",
       "      <td>STH-AT4-1402</td>\n",
       "      <td>Unconstr.</td>\n",
       "      <td>459000.00</td>\n",
       "      <td>STH-AT4-1402</td>\n",
       "      <td>LINESTRING (-120.48990 35.02475, -120.48976 35.02438, -120.48974 35.02433, -120.48973 35.02429, -120.48953 35.02372, -120.48936 35.02324, -120.48929 35.02303, -120.48915 35.02268, -120.48906 35.02247, -120.48889 35.02209, -120.48887 35.02205, -120.48887 35.02205, -120.48879 35.02196, -120.48881 35.02194, -120.48886 35.02189, -120.48890 35.02183, -120.48893 35.02178, -120.48895 35.02172, -120.48945 35.02074, -120.48945 35.02074)</td>\n",
       "    </tr>\n",
       "  </tbody>\n",
       "</table>\n",
       "</div>"
      ],
      "text/plain": [
       "     index                 project_name  \\\n",
       "341    341  Hazel Ln. SRTS Improvements   \n",
       "345    345  Hazel Ln. SRTS Improvements   \n",
       "\n",
       "                                                                           project_description  \\\n",
       "341  Construct Class II/Class IV bike lanes on Hazel Ln. between West Tefft St. & Division St.   \n",
       "345                              Pedestrian improvements between W. Tefft St. and Siammons Ln.   \n",
       "\n",
       "    sponsor community time_period  \\\n",
       "341     NaN    NIPOMO         NaN   \n",
       "345     NaN    NIPOMO         NaN   \n",
       "\n",
       "                                         project_type _2023_rtp_project_id  \\\n",
       "341  Unconstrained Active Transportation Investments          STH-AT2-1013   \n",
       "345  Unconstrained Active Transportation Investments          STH-AT4-1402   \n",
       "\n",
       "    time_horizon total_cost    project_id  \\\n",
       "341    Unconstr.  153000.00  STH-AT2-1013   \n",
       "345    Unconstr.  459000.00  STH-AT4-1402   \n",
       "\n",
       "                                                                                                                                                                                                                                                                                                                                                                                                                                            geometry  \n",
       "341                                                                                                                                                                                                                                         LINESTRING (-120.49885 35.02392, -120.49615 35.02301, -120.49418 35.02232, -120.49377 35.02219, -120.49313 35.02198, -120.49244 35.02176, -120.49191 35.02158, -120.49068 35.02117, -120.48944 35.02074)  \n",
       "345  LINESTRING (-120.48990 35.02475, -120.48976 35.02438, -120.48974 35.02433, -120.48973 35.02429, -120.48953 35.02372, -120.48936 35.02324, -120.48929 35.02303, -120.48915 35.02268, -120.48906 35.02247, -120.48889 35.02209, -120.48887 35.02205, -120.48887 35.02205, -120.48879 35.02196, -120.48881 35.02194, -120.48886 35.02189, -120.48890 35.02183, -120.48893 35.02178, -120.48895 35.02172, -120.48945 35.02074, -120.48945 35.02074)  "
      ]
     },
     "execution_count": 142,
     "metadata": {},
     "output_type": "execute_result"
    }
   ],
   "source": [
    "slocog[slocog.project_name == \"Hazel Ln. SRTS Improvements\"]"
   ]
  },
  {
   "cell_type": "code",
   "execution_count": 143,
   "id": "514dde20-ac4a-4420-ad2a-a29e87ce4831",
   "metadata": {},
   "outputs": [],
   "source": [
    "def harmonize_slocog():\n",
    "    df = slocog_lrtp()\n",
    "    df = harmonizing_lrtp(\n",
    "        df,\n",
    "        project_name_col=\"project_name\",\n",
    "        project_description_col=\"project_description\",\n",
    "        project_category_col=\"project_type\",\n",
    "        project_cost_col=\"total_cost\",\n",
    "        location_col=\"\",\n",
    "        county_col=\"\",\n",
    "        city_col=\"\",\n",
    "        project_year_col=\"time_period\",\n",
    "        program=\"SLOCOG\",\n",
    "        phase_col=\"\",\n",
    "        data_source=\"LRTP\",\n",
    "        note_cols=[\"sponsor\", \"community\"],\n",
    "        cost_in_millions=True,\n",
    "    )\n",
    "\n",
    "    return df"
   ]
  },
  {
   "cell_type": "code",
   "execution_count": 144,
   "id": "4a3a5759-0c2a-4fa0-8ef4-03a46e4bc175",
   "metadata": {},
   "outputs": [
    {
     "name": "stderr",
     "output_type": "stream",
     "text": [
      "/tmp/ipykernel_509/263977711.py:36: UserWarning: This pattern is interpreted as a regular expression, and has match groups. To actually get the groups, use str.extract.\n",
      "  cost_columns = df.columns[df.columns.str.contains(\"(cost|funds)\")].tolist()\n"
     ]
    }
   ],
   "source": [
    "harmonized_slocog = harmonize_slocog()"
   ]
  },
  {
   "cell_type": "markdown",
   "id": "87f84c56-f5d8-44fc-8089-43816b54a259",
   "metadata": {
    "tags": []
   },
   "source": [
    "###  SJCOG"
   ]
  },
  {
   "cell_type": "code",
   "execution_count": 145,
   "id": "80638016-8bb2-494e-9686-802c49d31edb",
   "metadata": {},
   "outputs": [],
   "source": [
    "def sjcog_lrtp():\n",
    "    sheets_list = [\n",
    "        \"1 Mainline\",\n",
    "        \"2 Interchanges\",\n",
    "        \"3 Reg Roadways\",\n",
    "        \"4 RR Xings\",\n",
    "        \"5 Bus Transit\",\n",
    "        \"6 Rail Corridor\",\n",
    "        \"7 Airports\",\n",
    "        \"8 Active Trans Facilities\",\n",
    "        \"9 TCMs\",\n",
    "        \"10 Ops & Maint\",\n",
    "    ]\n",
    "    dict_df = pd.read_excel(f\"{LRTP_GCS}SJCOG.xlsx\", sheet_name=sheets_list)\n",
    "    df1 = to_snakecase(dict_df.get(\"1 Mainline\"))\n",
    "    df2 = to_snakecase(dict_df.get(\"2 Interchanges\"))\n",
    "    df3 = to_snakecase(dict_df.get(\"3 Reg Roadways\"))\n",
    "    df4 = to_snakecase(dict_df.get(\"4 RR Xings\"))\n",
    "    df5 = to_snakecase(dict_df.get(\"5 Bus Transit\"))\n",
    "    df6 = to_snakecase(dict_df.get(\"6 Rail Corridor\"))\n",
    "    df7 = to_snakecase(dict_df.get(\"7 Airports\"))\n",
    "    df8 = to_snakecase(dict_df.get(\"8 Active Trans Facilities\"))\n",
    "    df9 = to_snakecase(dict_df.get(\"9 TCMs\"))\n",
    "    df10 = to_snakecase(dict_df.get(\"10 Ops & Maint\"))\n",
    "\n",
    "    concat1 = pd.concat([df1, df2, df3, df4, df5, df6, df7, df8, df9, df10], axis=0)\n",
    "\n",
    "    sjcog_cols = [\n",
    "        \"_2018_rtp_mpo_id\",\n",
    "        \"ctips_id_#\",\n",
    "        \"jurisdiction\",\n",
    "        \"facility_name_route\",\n",
    "        \"project_description\",\n",
    "        \"project_limits\",\n",
    "        \"total\",\n",
    "        \"ftip_programming\",\n",
    "        \"nepa_approval\",\n",
    "        \"open_to_traffic\",\n",
    "        \"completion\",\n",
    "        \"completion_date\",\n",
    "        \"facility_name_route_1\",\n",
    "        \"project_description_1\",\n",
    "        \"milestone_years_1\",\n",
    "        \"project_name\",\n",
    "    ]\n",
    "\n",
    "    concat1 = concat1.dropna(\n",
    "        subset=[\n",
    "            \"project_description\",\n",
    "            \"_2018_rtp_mpo_id\",\n",
    "        ]\n",
    "    ).reset_index(drop=True)\n",
    "\n",
    "    # Some projects have no titles, create them manually\n",
    "    \"\"\"\n",
    "    concat1[\"title_manual\"] = (\n",
    "        concat1.project_limits\n",
    "        + \"-\"\n",
    "        + concat1.jurisdiction\n",
    "        + \"-\"\n",
    "        + concat1.facility_name_route\n",
    "    ) \n",
    "    concat1.title_manual = concat1.title_manual.fillna(\"No Title\")\n",
    "    concat1.project_name = concat1.project_name.fillna(concat1.title_manual)\n",
    "    \"\"\"\n",
    "    concat1.project_name = concat1.project_name.fillna(\"None\")\n",
    "    concat1 = concat1[sjcog_cols]\n",
    "\n",
    "    return concat1"
   ]
  },
  {
   "cell_type": "code",
   "execution_count": 146,
   "id": "bd2fd0c9-71c0-4b64-83d4-840e92301a02",
   "metadata": {},
   "outputs": [],
   "source": [
    "sjcog = sjcog_lrtp()"
   ]
  },
  {
   "cell_type": "code",
   "execution_count": 147,
   "id": "49479d46-114a-4328-855c-46bb5ce10165",
   "metadata": {},
   "outputs": [
    {
     "name": "stdout",
     "output_type": "stream",
     "text": [
      "None                                                        236\n",
      "Bear Creek and Pixley Slough Bicycle and Pedestrian Path      1\n",
      "Park and Ride Lots                                            1\n",
      "Ridesharing and Vanpool Programs                              1\n",
      "Corral Hollow Road Adaptive Traffic Control                   1\n",
      "Name: project_name, dtype: int64\n",
      "# of unique project titles: 27\n",
      "After dropping duplicates using project_name and total: 223\n",
      "Df shape: (262, 16)\n",
      "Index(['_2018_rtp_mpo_id', 'ctips_id_#', 'jurisdiction', 'facility_name_route',\n",
      "       'project_description', 'project_limits', 'total', 'ftip_programming',\n",
      "       'nepa_approval', 'open_to_traffic', 'completion', 'completion_date',\n",
      "       'facility_name_route_1', 'project_description_1', 'milestone_years_1',\n",
      "       'project_name'],\n",
      "      dtype='object')\n"
     ]
    }
   ],
   "source": [
    "give_info(sjcog, \"project_name\", \"total\")"
   ]
  },
  {
   "cell_type": "code",
   "execution_count": 148,
   "id": "b97d0e6a-b1cc-4c48-b1a1-89897e83a49d",
   "metadata": {},
   "outputs": [
    {
     "data": {
      "text/html": [
       "<div>\n",
       "<style scoped>\n",
       "    .dataframe tbody tr th:only-of-type {\n",
       "        vertical-align: middle;\n",
       "    }\n",
       "\n",
       "    .dataframe tbody tr th {\n",
       "        vertical-align: top;\n",
       "    }\n",
       "\n",
       "    .dataframe thead th {\n",
       "        text-align: right;\n",
       "    }\n",
       "</style>\n",
       "<table border=\"1\" class=\"dataframe\">\n",
       "  <thead>\n",
       "    <tr style=\"text-align: right;\">\n",
       "      <th></th>\n",
       "      <th>_2018_rtp_mpo_id</th>\n",
       "      <th>ctips_id_#</th>\n",
       "      <th>jurisdiction</th>\n",
       "      <th>facility_name_route</th>\n",
       "      <th>project_description</th>\n",
       "      <th>project_limits</th>\n",
       "      <th>total</th>\n",
       "      <th>ftip_programming</th>\n",
       "      <th>nepa_approval</th>\n",
       "      <th>open_to_traffic</th>\n",
       "      <th>completion</th>\n",
       "      <th>completion_date</th>\n",
       "      <th>facility_name_route_1</th>\n",
       "      <th>project_description_1</th>\n",
       "      <th>milestone_years_1</th>\n",
       "      <th>project_name</th>\n",
       "    </tr>\n",
       "  </thead>\n",
       "  <tbody>\n",
       "    <tr>\n",
       "      <th>116</th>\n",
       "      <td>SJ18-5054</td>\n",
       "      <td>NaN</td>\n",
       "      <td>Lodi</td>\n",
       "      <td>Grapeline Capital</td>\n",
       "      <td>Bus Wash upgrades</td>\n",
       "      <td>City of Lodi</td>\n",
       "      <td>567748.00</td>\n",
       "      <td>NaN</td>\n",
       "      <td>NaN</td>\n",
       "      <td>NaN</td>\n",
       "      <td>NaN</td>\n",
       "      <td>NaN</td>\n",
       "      <td>NaN</td>\n",
       "      <td>NaN</td>\n",
       "      <td>NaN</td>\n",
       "      <td>None</td>\n",
       "    </tr>\n",
       "  </tbody>\n",
       "</table>\n",
       "</div>"
      ],
      "text/plain": [
       "    _2018_rtp_mpo_id ctips_id_# jurisdiction facility_name_route  \\\n",
       "116        SJ18-5054        NaN         Lodi   Grapeline Capital   \n",
       "\n",
       "    project_description project_limits     total ftip_programming  \\\n",
       "116   Bus Wash upgrades   City of Lodi 567748.00              NaN   \n",
       "\n",
       "    nepa_approval open_to_traffic  completion  completion_date  \\\n",
       "116           NaN             NaN         NaN              NaN   \n",
       "\n",
       "    facility_name_route_1 project_description_1  milestone_years_1  \\\n",
       "116                   NaN                   NaN                NaN   \n",
       "\n",
       "    project_name  \n",
       "116         None  "
      ]
     },
     "execution_count": 148,
     "metadata": {},
     "output_type": "execute_result"
    }
   ],
   "source": [
    "sjcog.sample()"
   ]
  },
  {
   "cell_type": "code",
   "execution_count": 149,
   "id": "d285508c-9ecb-4614-95be-706044b9050c",
   "metadata": {},
   "outputs": [],
   "source": [
    "def harmonize_sjcog():\n",
    "    df = sjcog_lrtp()\n",
    "    df = harmonizing_lrtp(\n",
    "        df,\n",
    "        project_name_col=\"project_name\",\n",
    "        project_description_col=\"project_description\",\n",
    "        project_category_col=\"\",\n",
    "        project_cost_col=\"total\",\n",
    "        location_col=\"\",\n",
    "        county_col=\"\",\n",
    "        city_col=\"\",\n",
    "        project_year_col=\"completion_date\",\n",
    "        program=\"SJCOG\",\n",
    "        phase_col=\"\",\n",
    "        data_source=\"LRTP\",\n",
    "        note_cols=[\n",
    "            \"jurisdiction\",\n",
    "            \"facility_name_route\",\n",
    "            \"project_limits\",\n",
    "            \"ftip_programming\",\n",
    "            \"nepa_approval\",\n",
    "            \"open_to_traffic\",\n",
    "            \"completion\",\n",
    "            \"facility_name_route_1\",\n",
    "            \"project_description_1\",\n",
    "            \"milestone_years_1\",\n",
    "        ],\n",
    "        cost_in_millions=True,\n",
    "    )\n",
    "\n",
    "    return df"
   ]
  },
  {
   "cell_type": "markdown",
   "id": "5c6bf430-db1c-40cb-9033-e19708c8c6bd",
   "metadata": {
    "tags": []
   },
   "source": [
    "### Southern California Association of Governments (SCAG) "
   ]
  },
  {
   "cell_type": "code",
   "execution_count": 150,
   "id": "9de6a1bf-486d-476c-bba4-571ab488449d",
   "metadata": {},
   "outputs": [],
   "source": [
    "def scag_lrtp():\n",
    "    sheets_list = [\"Table 1\", \"Table 2\"]\n",
    "    dict_df = pd.read_excel(f\"{LRTP_GCS}SCAG.xlsx\", sheet_name=sheets_list)\n",
    "\n",
    "    df1 = to_snakecase(dict_df.get(\"Table 1\"))\n",
    "    # Drop columns where everything is NA\n",
    "    df1 = df1.dropna(axis=1, how=\"all\")\n",
    "\n",
    "    df2 = to_snakecase(dict_df.get(\"Table 2\"))\n",
    "    df2 = df2.dropna(axis=1, how=\"all\")\n",
    "\n",
    "    # Concat\n",
    "    df3 = pd.concat([df1, df2])\n",
    "\n",
    "    df4 = delete_embedded_headers(df3, \"rtp_id\", \"RTP ID\")\n",
    "\n",
    "    df4 = df4.dropna(\n",
    "        subset=[\"description\", \"lead_agency\", \"project_cost__$1,000s_\"]\n",
    "    ).reset_index(drop=True)\n",
    "\n",
    "    # No project titles - fill it in\n",
    "    df4[\"project_title\"] = \"No Title\"\n",
    "\n",
    "    # Project cost is in thousands.\n",
    "    # Multiple out\n",
    "    df4[\"project_cost_millions\"] = df4[\"project_cost__$1,000s_\"] * 1_000\n",
    "    return df4"
   ]
  },
  {
   "cell_type": "code",
   "execution_count": 151,
   "id": "c78fe592-971f-445c-a0e1-09c4d7a5f460",
   "metadata": {},
   "outputs": [
    {
     "name": "stdout",
     "output_type": "stream",
     "text": [
      "360 rows are headers\n"
     ]
    }
   ],
   "source": [
    "scag = scag_lrtp()"
   ]
  },
  {
   "cell_type": "code",
   "execution_count": 152,
   "id": "856eb789-fe6e-4944-b35c-fb84e838fbcc",
   "metadata": {},
   "outputs": [
    {
     "name": "stdout",
     "output_type": "stream",
     "text": [
      "WIDEN FROM 2 TO 4 LANES      170\n",
      "WIDEN FROM 4 TO 6 LANES       64\n",
      "WIDEN FROM 2 TO 6 LANES       43\n",
      "CONSTRUCT 4 LANE ARTERIAL     21\n",
      "WIDEN FROM 3 TO 4 LANES       10\n",
      "Name: description, dtype: int64\n",
      "# of unique project titles: 2607\n",
      "After dropping duplicates using description and route_name: 2824\n",
      "Df shape: (2952, 13)\n",
      "Index(['system', 'lead_agency', 'rtp_id', 'route_#', 'route_name', 'from',\n",
      "       'to', 'description', 'completion_year', 'project_cost__$1,000s_',\n",
      "       'county', 'project_title', 'project_cost_millions'],\n",
      "      dtype='object')\n"
     ]
    }
   ],
   "source": [
    "give_info(scag, \"description\", \"route_name\")"
   ]
  },
  {
   "cell_type": "code",
   "execution_count": 153,
   "id": "854792d7-c99f-4fa3-9cfd-2a911c3a8d9e",
   "metadata": {},
   "outputs": [],
   "source": [
    "def harmonize_scag():\n",
    "    df = scag_lrtp()\n",
    "    df = harmonizing_lrtp(\n",
    "        df,\n",
    "        project_name_col=\"project_title\",\n",
    "        project_description_col=\"description\",\n",
    "        project_category_col=\"system\",\n",
    "        project_cost_col=\"project_cost_millions\",\n",
    "        location_col=\"\",\n",
    "        county_col=\"county\",\n",
    "        city_col=\"\",\n",
    "        project_year_col=\"completion_year\",\n",
    "        program=\"SCAG\",\n",
    "        phase_col=\"\",\n",
    "        data_source=\"LRTP\",\n",
    "        note_cols=[\"lead_agency\", \"route_#\", \"route_name\", \"from\", \"to\"],\n",
    "        cost_in_millions=True,\n",
    "    )\n",
    "\n",
    "    return df"
   ]
  },
  {
   "cell_type": "code",
   "execution_count": 154,
   "id": "a8aebe1e-9c3b-4083-b616-d3d1b0797948",
   "metadata": {},
   "outputs": [],
   "source": [
    "# scag.head()"
   ]
  },
  {
   "cell_type": "code",
   "execution_count": 155,
   "id": "7a10adb1-926c-47e9-ad34-62208824dcc5",
   "metadata": {
    "tags": []
   },
   "outputs": [],
   "source": [
    "# scag_harmonized.head()"
   ]
  },
  {
   "cell_type": "markdown",
   "id": "91e53794-6958-4842-b44b-c8be70e07e28",
   "metadata": {
    "tags": []
   },
   "source": [
    "### Stancog"
   ]
  },
  {
   "cell_type": "code",
   "execution_count": 156,
   "id": "713f30b2-6323-4557-9602-f52612494566",
   "metadata": {},
   "outputs": [],
   "source": [
    "def stancog_lrtp():\n",
    "\n",
    "    df = to_snakecase(pd.read_excel(f\"{LRTP_GCS}STANCOG.xlsx\"))\n",
    "    df = embedded_column_names(df, 1)\n",
    "    keep_columns = [\n",
    "        \"Jurisdiction\",\n",
    "        \"Location\",\n",
    "        \"Project Limits\",\n",
    "        \"Description\",\n",
    "        \"Total Cost\",\n",
    "        \"Open to Traffic\",\n",
    "        \"Funding Source\",\n",
    "        \"System Preserv.\",\n",
    "        \"Capacity Enhance.\",\n",
    "        \"Safety\",\n",
    "        \"Oper.\",\n",
    "        \"Complete Streets\",\n",
    "        \"Active\\nTransporta tion\",\n",
    "        \"Transit\",\n",
    "        \"Other\",\n",
    "    ]\n",
    "\n",
    "    df = df[keep_columns]\n",
    "\n",
    "    df = to_snakecase(df)\n",
    "\n",
    "    df = df.dropna(subset=[\"description\"]).reset_index(drop=True)\n",
    "\n",
    "    df[\"title\"] = (df.location + \"-\" + df.description).fillna(\"No Title\")\n",
    "\n",
    "    df = delete_embedded_headers(df, \"location\", \"Location\")\n",
    "\n",
    "    df = df.drop_duplicates(\n",
    "        subset=[\"title\", \"location\", \"jurisdiction\", \"total_cost\", \"open_to_traffic\"]\n",
    "    ).reset_index(drop=True)\n",
    "    return df"
   ]
  },
  {
   "cell_type": "code",
   "execution_count": 157,
   "id": "00a53e3d-700a-4a78-befc-27e83cd42cad",
   "metadata": {},
   "outputs": [
    {
     "name": "stdout",
     "output_type": "stream",
     "text": [
      "68 rows are headers\n"
     ]
    }
   ],
   "source": [
    "stancog = stancog_lrtp()"
   ]
  },
  {
   "cell_type": "code",
   "execution_count": 158,
   "id": "8a0e5a3b-273d-4781-96fe-abf63b5937e9",
   "metadata": {},
   "outputs": [
    {
     "name": "stdout",
     "output_type": "stream",
     "text": [
      "Whitmore Ave-Install Traffic Signal                   5\n",
      "No Title                                              5\n",
      "W. Main St-Widen to 3 lanes                           4\n",
      "SR-99-Construct NB & SB auxiliary lanes               4\n",
      "SR-33-Install 4 Lane Arterial Roadway Improvements    3\n",
      "Name: title, dtype: int64\n",
      "# of unique project titles: 515\n",
      "After dropping duplicates using title and total_cost: 552\n",
      "Df shape: (556, 16)\n",
      "Index(['jurisdiction', 'location', 'project_limits', 'description',\n",
      "       'total_cost', 'open_to_traffic', 'funding_source', 'system_preserv_',\n",
      "       'capacity_enhance_', 'safety', 'oper_', 'complete_streets',\n",
      "       'active\\ntransporta_tion', 'transit', 'other', 'title'],\n",
      "      dtype='object', name=0)\n"
     ]
    }
   ],
   "source": [
    "give_info(stancog, \"title\", \"total_cost\")"
   ]
  },
  {
   "cell_type": "code",
   "execution_count": 159,
   "id": "4c43088d-3c5d-40b9-93a3-8fa7a03aeb39",
   "metadata": {},
   "outputs": [
    {
     "data": {
      "text/html": [
       "<div>\n",
       "<style scoped>\n",
       "    .dataframe tbody tr th:only-of-type {\n",
       "        vertical-align: middle;\n",
       "    }\n",
       "\n",
       "    .dataframe tbody tr th {\n",
       "        vertical-align: top;\n",
       "    }\n",
       "\n",
       "    .dataframe thead th {\n",
       "        text-align: right;\n",
       "    }\n",
       "</style>\n",
       "<table border=\"1\" class=\"dataframe\">\n",
       "  <thead>\n",
       "    <tr style=\"text-align: right;\">\n",
       "      <th></th>\n",
       "      <th>jurisdiction</th>\n",
       "      <th>location</th>\n",
       "      <th>project_limits</th>\n",
       "      <th>description</th>\n",
       "      <th>total_cost</th>\n",
       "      <th>open_to_traffic</th>\n",
       "      <th>funding_source</th>\n",
       "      <th>system_preserv_</th>\n",
       "      <th>capacity_enhance_</th>\n",
       "      <th>safety</th>\n",
       "      <th>oper_</th>\n",
       "      <th>complete_streets</th>\n",
       "      <th>active\\ntransporta_tion</th>\n",
       "      <th>transit</th>\n",
       "      <th>other</th>\n",
       "      <th>title</th>\n",
       "    </tr>\n",
       "  </thead>\n",
       "  <tbody>\n",
       "    <tr>\n",
       "      <th>340</th>\n",
       "      <td>Modesto</td>\n",
       "      <td>Torrid Ave</td>\n",
       "      <td>Mercy Ave to N Carpenter Rd</td>\n",
       "      <td>Class 3 Bicycle Boulevard. Traffic calming, wayfinding. StanCOG Non-Motorized\\nTransportation Master Plan Project ID: MOD-33</td>\n",
       "      <td>90300</td>\n",
       "      <td>2022-2046</td>\n",
       "      <td>ATP, SB 1, BIL/IIJA, CMAQ, STBGP</td>\n",
       "      <td>NaN</td>\n",
       "      <td>NaN</td>\n",
       "      <td>NaN</td>\n",
       "      <td>NaN</td>\n",
       "      <td>NaN</td>\n",
       "      <td>X</td>\n",
       "      <td>NaN</td>\n",
       "      <td>NaN</td>\n",
       "      <td>Torrid Ave-Class 3 Bicycle Boulevard. Traffic calming, wayfinding. StanCOG Non-Motorized\\nTransportation Master Plan Project ID: MOD-33</td>\n",
       "    </tr>\n",
       "  </tbody>\n",
       "</table>\n",
       "</div>"
      ],
      "text/plain": [
       "0   jurisdiction    location               project_limits  \\\n",
       "340      Modesto  Torrid Ave  Mercy Ave to N Carpenter Rd   \n",
       "\n",
       "0                                                                                                                     description  \\\n",
       "340  Class 3 Bicycle Boulevard. Traffic calming, wayfinding. StanCOG Non-Motorized\\nTransportation Master Plan Project ID: MOD-33   \n",
       "\n",
       "0   total_cost open_to_traffic                    funding_source  \\\n",
       "340      90300       2022-2046  ATP, SB 1, BIL/IIJA, CMAQ, STBGP   \n",
       "\n",
       "0   system_preserv_ capacity_enhance_ safety oper_ complete_streets  \\\n",
       "340             NaN               NaN    NaN   NaN              NaN   \n",
       "\n",
       "0   active\\ntransporta_tion transit other  \\\n",
       "340                       X     NaN   NaN   \n",
       "\n",
       "0                                                                                                                                      title  \n",
       "340  Torrid Ave-Class 3 Bicycle Boulevard. Traffic calming, wayfinding. StanCOG Non-Motorized\\nTransportation Master Plan Project ID: MOD-33  "
      ]
     },
     "execution_count": 159,
     "metadata": {},
     "output_type": "execute_result"
    }
   ],
   "source": [
    "stancog.sample()"
   ]
  },
  {
   "cell_type": "code",
   "execution_count": 160,
   "id": "c4ecdc1f-8f88-459f-b417-4cd98c708894",
   "metadata": {},
   "outputs": [],
   "source": [
    "def harmonize_stancog():\n",
    "    df = stancog_lrtp()\n",
    "    df = harmonizing_lrtp(\n",
    "        df,\n",
    "        project_name_col=\"title\",\n",
    "        project_description_col=\"description\",\n",
    "        project_category_col=\"\",\n",
    "        project_cost_col=\"total_cost\",\n",
    "        location_col=\"\",\n",
    "        county_col=\"\",\n",
    "        city_col=\"\",\n",
    "        project_year_col=\"open_to_traffic\",\n",
    "        program=\"STANCOG\",\n",
    "        phase_col=\"\",\n",
    "        data_source=\"LRTP\",\n",
    "        note_cols=[\n",
    "            \"jurisdiction\",\n",
    "            \"location\",\n",
    "            \"project_limits\",\n",
    "            \"funding_source\",\n",
    "            \"system_preserv_\",\n",
    "            \"capacity_enhance_\",\n",
    "            \"safety\",\n",
    "            \"oper_\",\n",
    "            \"complete_streets\",\n",
    "            \"active\\ntransporta_tion\",\n",
    "            \"transit\",\n",
    "            \"other\",\n",
    "        ],\n",
    "        cost_in_millions=True,\n",
    "    )\n",
    "\n",
    "    return df"
   ]
  },
  {
   "cell_type": "code",
   "execution_count": 161,
   "id": "c6316bfe-9122-476b-890b-466a8d5a87e8",
   "metadata": {},
   "outputs": [
    {
     "name": "stdout",
     "output_type": "stream",
     "text": [
      "68 rows are headers\n"
     ]
    },
    {
     "name": "stderr",
     "output_type": "stream",
     "text": [
      "/tmp/ipykernel_509/263977711.py:36: UserWarning: This pattern is interpreted as a regular expression, and has match groups. To actually get the groups, use str.extract.\n",
      "  cost_columns = df.columns[df.columns.str.contains(\"(cost|funds)\")].tolist()\n"
     ]
    },
    {
     "data": {
      "text/plain": [
       "pandas.core.frame.DataFrame"
      ]
     },
     "execution_count": 161,
     "metadata": {},
     "output_type": "execute_result"
    }
   ],
   "source": [
    "type(harmonize_stancog())"
   ]
  },
  {
   "cell_type": "markdown",
   "id": "f806dda3-1fb0-4c41-b6b3-729bf31afc3a",
   "metadata": {
    "tags": []
   },
   "source": [
    "### TMPO (Tahoe)\n",
    "* Open data portal: https://www.tahoeopendata.org/search?tags=transportation\n",
    "* https://www.tahoeopendata.org/datasets/TRPA::2020-regional-transportation-plan-projects/about"
   ]
  },
  {
   "cell_type": "code",
   "execution_count": 162,
   "id": "56da12dd-7e5a-4a98-b5d2-05067016d49b",
   "metadata": {},
   "outputs": [],
   "source": [
    "def tmpo_lrtp():\n",
    "    tahoe_url = \"https://maps.trpa.org/server/rest/services/Datadownloader_Transportation/MapServer/19/query?where=1%3D1&text=&objectIds=&time=&timeRelation=esriTimeRelationOverlaps&geometry=&geometryType=esriGeometryPoint&inSR=&spatialRel=esriSpatialRelIntersects&distance=&units=esriSRUnit_Foot&relationParam=&outFields=*+&returnGeometry=true&returnTrueCurves=false&maxAllowableOffset=&geometryPrecision=&outSR=&havingClause=&returnIdsOnly=false&returnCountOnly=false&orderByFields=&groupByFieldsForStatistics=&outStatistics=&returnZ=false&returnM=false&gdbVersion=&historicMoment=&returnDistinctValues=false&resultOffset=&resultRecordCount=&returnExtentOnly=false&sqlFormat=none&datumTransformation=&parameterValues=&rangeValues=&quantizationParameters=&featureEncoding=esriDefault&f=geojson\"\n",
    "    gdf = to_snakecase(gpd.read_file(tahoe_url))\n",
    "    gdf.complete_year = gdf.complete_year.astype(int)\n",
    "\n",
    "    # Filter out projects that are not yet completed\n",
    "    gdf2 = gdf[gdf.complete_year > 2022].reset_index(drop=True)\n",
    "\n",
    "    gdf2[\"project_year\"] = (\n",
    "        gdf2.start_year.astype(str) + \"-\" + gdf.complete_year.astype(str)\n",
    "    )\n",
    "    return gdf2"
   ]
  },
  {
   "cell_type": "code",
   "execution_count": 163,
   "id": "42199cf2-c74f-4311-90a3-f97bb50f02d5",
   "metadata": {},
   "outputs": [],
   "source": [
    "# tahoe = tmpo_lrtp()"
   ]
  },
  {
   "cell_type": "code",
   "execution_count": 164,
   "id": "7adc4e36-a827-4342-8bdf-eb95d61dc5eb",
   "metadata": {},
   "outputs": [],
   "source": [
    "def harmonize_tahoe():\n",
    "    df = tmpo_lrtp()\n",
    "    df = harmonizing_lrtp(\n",
    "        df,\n",
    "        project_name_col=\"project_name\",\n",
    "        project_description_col=\"description\",\n",
    "        project_category_col=\"category\",\n",
    "        project_cost_col=\"estimated_cost\",\n",
    "        location_col=\"geometry\",\n",
    "        county_col=\"\",\n",
    "        city_col=\"\",\n",
    "        project_year_col=\"project_year\",\n",
    "        program=\"TMPO\",\n",
    "        phase_col=\"phase\",\n",
    "        data_source=\"LRTP\",\n",
    "        note_cols=[\n",
    "            \"implementer\",\n",
    "            \"funding_type\",\n",
    "            \"plan_name\",\n",
    "            \"label\",\n",
    "            \"financial_status\",\n",
    "            \"url\",\n",
    "        ],\n",
    "        cost_in_millions=True,\n",
    "    )\n",
    "\n",
    "    return df"
   ]
  },
  {
   "cell_type": "markdown",
   "id": "cf52b56b-cb26-4784-a794-25180ee1ce2c",
   "metadata": {},
   "source": [
    "### TCAG Tulare County Association of Governments (TCAG)"
   ]
  },
  {
   "cell_type": "code",
   "execution_count": 165,
   "id": "2e563a31-912a-407e-a1ee-3e27060d18ae",
   "metadata": {},
   "outputs": [],
   "source": [
    "def tcag_lrtp():\n",
    "    df = to_snakecase(pd.read_excel(f\"{LRTP_GCS}TCAG.xlsx\"))\n",
    "\n",
    "    def completion_2035(row):\n",
    "        if row.completed_by_2035_y_n == \"Y\":\n",
    "            return \"2035\"\n",
    "\n",
    "    df[\"completion_year\"] = df.apply(lambda x: completion_2035(x), axis=1)\n",
    "\n",
    "    df[\"cost_x_1,000\"] = df[\"cost_x_1,000\"].abs()\n",
    "    df[\"cost_in_millions\"] = df[\"cost_x_1,000\"] * 1_000\n",
    "    return df"
   ]
  },
  {
   "cell_type": "code",
   "execution_count": 166,
   "id": "5cac2a0f-cee5-401c-9c83-68ba056a3578",
   "metadata": {},
   "outputs": [],
   "source": [
    "tcag = tcag_lrtp()"
   ]
  },
  {
   "cell_type": "code",
   "execution_count": 167,
   "id": "b51df71b-aff6-47d9-85a6-3fca3395949e",
   "metadata": {},
   "outputs": [
    {
     "data": {
      "text/html": [
       "<div>\n",
       "<style scoped>\n",
       "    .dataframe tbody tr th:only-of-type {\n",
       "        vertical-align: middle;\n",
       "    }\n",
       "\n",
       "    .dataframe tbody tr th {\n",
       "        vertical-align: top;\n",
       "    }\n",
       "\n",
       "    .dataframe thead th {\n",
       "        text-align: right;\n",
       "    }\n",
       "</style>\n",
       "<table border=\"1\" class=\"dataframe\">\n",
       "  <thead>\n",
       "    <tr style=\"text-align: right;\">\n",
       "      <th></th>\n",
       "      <th></th>\n",
       "      <th>project_category</th>\n",
       "    </tr>\n",
       "    <tr>\n",
       "      <th>project_title</th>\n",
       "      <th>cost_x_1,000</th>\n",
       "      <th></th>\n",
       "    </tr>\n",
       "  </thead>\n",
       "  <tbody>\n",
       "    <tr>\n",
       "      <th>Bike/Ped Improvements next 9 years</th>\n",
       "      <th>0.00</th>\n",
       "      <td>6</td>\n",
       "    </tr>\n",
       "    <tr>\n",
       "      <th>Bike/Ped Improvements next 9 yrs second half of measure R</th>\n",
       "      <th>500.00</th>\n",
       "      <td>3</td>\n",
       "    </tr>\n",
       "    <tr>\n",
       "      <th>Avenue 316 Construct new roadway</th>\n",
       "      <th>6500.00</th>\n",
       "      <td>3</td>\n",
       "    </tr>\n",
       "    <tr>\n",
       "      <th>Bike/Ped Improvements next 9 yrs second half of measure R</th>\n",
       "      <th>226.00</th>\n",
       "      <td>2</td>\n",
       "    </tr>\n",
       "    <tr>\n",
       "      <th>Transit Center Minor</th>\n",
       "      <th>300.00</th>\n",
       "      <td>2</td>\n",
       "    </tr>\n",
       "  </tbody>\n",
       "</table>\n",
       "</div>"
      ],
      "text/plain": [
       "                                                                        project_category\n",
       "project_title                                             cost_x_1,000                  \n",
       "Bike/Ped Improvements next 9 years                        0.00                         6\n",
       "Bike/Ped Improvements next 9 yrs second half of measure R 500.00                       3\n",
       "Avenue 316 Construct new roadway                          6500.00                      3\n",
       "Bike/Ped Improvements next 9 yrs second half of measure R 226.00                       2\n",
       "Transit Center Minor                                      300.00                       2"
      ]
     },
     "execution_count": 167,
     "metadata": {},
     "output_type": "execute_result"
    }
   ],
   "source": [
    "tcag.groupby([\"project_title\", \"cost_x_1,000\"]).agg(\n",
    "    {\"project_category\": \"count\"}\n",
    ").sort_values(\"project_category\", ascending=False).head()"
   ]
  },
  {
   "cell_type": "code",
   "execution_count": 168,
   "id": "633c1c86-3f05-4faf-bc65-419862cb76e1",
   "metadata": {},
   "outputs": [
    {
     "name": "stdout",
     "output_type": "stream",
     "text": [
      "Bike/Ped Improvements next 9 yrs second half of measure R    9\n",
      "Bike/Ped Improvements next 9 years                           9\n",
      "Purchase Buses                                               4\n",
      "SR 99 Widen existing roadway                                 4\n",
      "Riggin Avenue Widen existing roadway                         4\n",
      "Name: project_title, dtype: int64\n",
      "# of unique project titles: 272\n",
      "After dropping duplicates using project_title and cost_x_1,000: 321\n",
      "Df shape: (340, 13)\n",
      "Index(['project_id__if_applicable_', 'jurisdiction', 'project_title',\n",
      "       'project_description', 'project_category', 'completed_by_2035_y_n',\n",
      "       'local', 'regional', 'state', 'federal', 'cost_x_1,000',\n",
      "       'completion_year', 'cost_in_millions'],\n",
      "      dtype='object')\n"
     ]
    }
   ],
   "source": [
    "give_info(tcag, \"project_title\", \"cost_x_1,000\")"
   ]
  },
  {
   "cell_type": "code",
   "execution_count": 169,
   "id": "99bb7719-af22-41cf-9b71-188ea1209e3d",
   "metadata": {},
   "outputs": [],
   "source": [
    "def harmonize_tcag():\n",
    "    df = tcag_lrtp()\n",
    "    df = harmonizing_lrtp(\n",
    "        df,\n",
    "        project_name_col=\"project_title\",\n",
    "        project_description_col=\"project_description\",\n",
    "        project_category_col=\"project_category\",\n",
    "        project_cost_col=\"cost_in_millions\",\n",
    "        location_col=\"\",\n",
    "        county_col=\"\",\n",
    "        city_col=\"\",\n",
    "        project_year_col=\"completion_year\",\n",
    "        program=\"TCAG\",\n",
    "        phase_col=\"\",\n",
    "        data_source=\"LRTP\",\n",
    "        note_cols=[\"jurisdiction\", \"local\", \"regional\", \"federal\", \"state\"],\n",
    "        cost_in_millions=True,\n",
    "    )\n",
    "\n",
    "    return df"
   ]
  },
  {
   "cell_type": "code",
   "execution_count": 170,
   "id": "8645c118-d4ed-4b19-ac3f-c26d96e10e24",
   "metadata": {},
   "outputs": [
    {
     "name": "stderr",
     "output_type": "stream",
     "text": [
      "/tmp/ipykernel_509/263977711.py:36: UserWarning: This pattern is interpreted as a regular expression, and has match groups. To actually get the groups, use str.extract.\n",
      "  cost_columns = df.columns[df.columns.str.contains(\"(cost|funds)\")].tolist()\n"
     ]
    },
    {
     "data": {
      "text/plain": [
       "340"
      ]
     },
     "execution_count": 170,
     "metadata": {},
     "output_type": "execute_result"
    }
   ],
   "source": [
    "len(harmonize_tcag())"
   ]
  },
  {
   "cell_type": "markdown",
   "id": "c471e856-9603-4174-85e3-7b5612599f76",
   "metadata": {
    "tags": []
   },
   "source": [
    "## Stack"
   ]
  },
  {
   "cell_type": "markdown",
   "id": "93a08cfd-9bf0-43c5-aa47-360644e03d3b",
   "metadata": {
    "tags": []
   },
   "source": [
    "### Lost"
   ]
  },
  {
   "cell_type": "code",
   "execution_count": 171,
   "id": "768f56f8-3f8f-4bee-a47d-6e2ad031af6e",
   "metadata": {},
   "outputs": [],
   "source": [
    "# lost = harmonization_utils.load_lost()"
   ]
  },
  {
   "cell_type": "code",
   "execution_count": 172,
   "id": "a5c405c8-f051-410d-b755-c6ad5c410da8",
   "metadata": {},
   "outputs": [],
   "source": [
    "# lost.sample()"
   ]
  },
  {
   "cell_type": "code",
   "execution_count": 173,
   "id": "c99deb53-c295-43ef-aedc-bd34e103f2d4",
   "metadata": {},
   "outputs": [],
   "source": [
    "def harmonize_lost():\n",
    "    df = harmonization_utils.load_lost()\n",
    "    df = harmonizing_lrtp(\n",
    "        df,\n",
    "        project_name_col=\"project_title\",\n",
    "        project_description_col=\"project_description\",\n",
    "        project_category_col=\"project_category\",\n",
    "        project_cost_col=\"cost__in_millions_\",\n",
    "        location_col=\"\",\n",
    "        county_col=\"county\",\n",
    "        city_col=\"city\",\n",
    "        project_year_col=\"\",\n",
    "        program=\"LOST\",\n",
    "        phase_col=\"phase\",\n",
    "        data_source=\"measure\",\n",
    "        note_cols=[\n",
    "            \"measure\",\n",
    "            \"estimated_lost_funds\",\n",
    "            \"estimated_federal_funds\",\n",
    "            \"estimated_state_funds\",\n",
    "            \"estimated_local_funds\",\n",
    "            \"estimated_other_funds\",\n",
    "            \"notes\",\n",
    "        ],\n",
    "        cost_in_millions=False,\n",
    "    )\n",
    "\n",
    "    return df"
   ]
  },
  {
   "cell_type": "code",
   "execution_count": 174,
   "id": "c3bdc3b8-acec-4611-a7ff-1d5a3e28829d",
   "metadata": {},
   "outputs": [
    {
     "name": "stderr",
     "output_type": "stream",
     "text": [
      "/tmp/ipykernel_509/263977711.py:36: UserWarning: This pattern is interpreted as a regular expression, and has match groups. To actually get the groups, use str.extract.\n",
      "  cost_columns = df.columns[df.columns.str.contains(\"(cost|funds)\")].tolist()\n"
     ]
    }
   ],
   "source": [
    "lost_harmonized = harmonize_lost()"
   ]
  },
  {
   "cell_type": "code",
   "execution_count": 175,
   "id": "b09c5244-9c4e-4c40-b55f-7d20b0c4154b",
   "metadata": {},
   "outputs": [],
   "source": [
    "def all_mpo(save_to_gcs: bool = True):\n",
    "\n",
    "    # Load harmonized df\n",
    "    ambag = harmonize_ambag()\n",
    "    bcag = harmonize_bcag()\n",
    "    fresno = harmonize_fresnocog()\n",
    "    kcag = harmonize_kcag()\n",
    "    kern = harmonize_kerncog()\n",
    "    madera = harmonize_madera()\n",
    "    mcagov = harmonize_mcagov()\n",
    "    mtc = harmonize_mtc()\n",
    "    lost = harmonize_lost()\n",
    "    sacog = harmonize_sacog()\n",
    "    sandag = harmonize_sandag()\n",
    "    sbcag = harmonize_sbcag()\n",
    "    scrtpa = harmonize_scrtpa()\n",
    "    sjcog = harmonize_sjcog()\n",
    "    scag = harmonize_scag()\n",
    "    slocog = harmonize_slocog()\n",
    "    stancog = harmonize_stancog()\n",
    "    tahoe = harmonize_tahoe()\n",
    "    tcag = harmonize_tcag()\n",
    "\n",
    "    df_list = [\n",
    "        ambag,\n",
    "        bcag,\n",
    "        fresno,\n",
    "        kern,\n",
    "        kcag,\n",
    "        madera,\n",
    "        mcagov,\n",
    "        mtc,\n",
    "        lost,\n",
    "        sacog,\n",
    "        sandag,\n",
    "        sbcag,\n",
    "        scrtpa,\n",
    "        sjcog,\n",
    "        scag,\n",
    "        slocog,\n",
    "        stancog,\n",
    "        tahoe,\n",
    "        tcag,\n",
    "    ]\n",
    "    df = pd.concat(df_list)\n",
    "\n",
    "    # Clean string columns\n",
    "    str_cols = [\n",
    "        \"project_title\",\n",
    "        \"lead_agency\",\n",
    "        \"project_category\",\n",
    "        \"grant_program\",\n",
    "        \"project_description\",\n",
    "        \"phase\",\n",
    "        \"city\",\n",
    "        \"county\",\n",
    "        \"data_source\",\n",
    "        \"notes\",\n",
    "    ]\n",
    "    for i in str_cols:\n",
    "        df[i] = df[i].str.replace(\"_\", \" \").str.strip().str.title()\n",
    "\n",
    "    # Create gdf\n",
    "    gdf = df[df.geometry != None].reset_index(drop=True)\n",
    "    gdf = gdf.set_geometry(\"geometry\")\n",
    "    gdf.geometry = gdf.geometry.set_crs(\"EPSG:4326\")\n",
    "    gdf = gdf[gdf.geometry.geometry.is_valid].reset_index(drop=True)\n",
    "\n",
    "    if save_to_gcs:\n",
    "        df.drop(columns=[\"geometry\"]).to_excel(\n",
    "            f\"{harmonization_utils.GCS_FILE_PATH}LRTP/all_LRTP_LOST.xlsx\", index=False\n",
    "        )\n",
    "        gdf.to_file(\"./all_LRTP_LOST.geojson\", driver=\"GeoJSON\")\n",
    "\n",
    "    return df, gdf"
   ]
  },
  {
   "cell_type": "code",
   "execution_count": 176,
   "id": "f6029dfe-f101-4907-b124-02ac0a08983a",
   "metadata": {},
   "outputs": [
    {
     "name": "stderr",
     "output_type": "stream",
     "text": [
      "/tmp/ipykernel_509/263977711.py:36: UserWarning: This pattern is interpreted as a regular expression, and has match groups. To actually get the groups, use str.extract.\n",
      "  cost_columns = df.columns[df.columns.str.contains(\"(cost|funds)\")].tolist()\n",
      "/tmp/ipykernel_509/3924302832.py:24: FutureWarning: The default value of regex will change from True to False in a future version. In addition, single character regular expressions will *not* be treated as literal strings when regex=True.\n",
      "  df.fund_estimate.str.replace(\"$\", \"\")\n",
      "/tmp/ipykernel_509/263977711.py:36: UserWarning: This pattern is interpreted as a regular expression, and has match groups. To actually get the groups, use str.extract.\n",
      "  cost_columns = df.columns[df.columns.str.contains(\"(cost|funds)\")].tolist()\n",
      "/tmp/ipykernel_509/263977711.py:36: UserWarning: This pattern is interpreted as a regular expression, and has match groups. To actually get the groups, use str.extract.\n",
      "  cost_columns = df.columns[df.columns.str.contains(\"(cost|funds)\")].tolist()\n",
      "/tmp/ipykernel_509/263977711.py:36: UserWarning: This pattern is interpreted as a regular expression, and has match groups. To actually get the groups, use str.extract.\n",
      "  cost_columns = df.columns[df.columns.str.contains(\"(cost|funds)\")].tolist()\n",
      "/tmp/ipykernel_509/263977711.py:36: UserWarning: This pattern is interpreted as a regular expression, and has match groups. To actually get the groups, use str.extract.\n",
      "  cost_columns = df.columns[df.columns.str.contains(\"(cost|funds)\")].tolist()\n",
      "/tmp/ipykernel_509/263977711.py:36: UserWarning: This pattern is interpreted as a regular expression, and has match groups. To actually get the groups, use str.extract.\n",
      "  cost_columns = df.columns[df.columns.str.contains(\"(cost|funds)\")].tolist()\n",
      "/tmp/ipykernel_509/263977711.py:36: UserWarning: This pattern is interpreted as a regular expression, and has match groups. To actually get the groups, use str.extract.\n",
      "  cost_columns = df.columns[df.columns.str.contains(\"(cost|funds)\")].tolist()\n",
      "/tmp/ipykernel_509/263977711.py:36: UserWarning: This pattern is interpreted as a regular expression, and has match groups. To actually get the groups, use str.extract.\n",
      "  cost_columns = df.columns[df.columns.str.contains(\"(cost|funds)\")].tolist()\n",
      "/tmp/ipykernel_509/263977711.py:36: UserWarning: This pattern is interpreted as a regular expression, and has match groups. To actually get the groups, use str.extract.\n",
      "  cost_columns = df.columns[df.columns.str.contains(\"(cost|funds)\")].tolist()\n"
     ]
    },
    {
     "name": "stdout",
     "output_type": "stream",
     "text": [
      "96 rows are headers\n"
     ]
    },
    {
     "name": "stderr",
     "output_type": "stream",
     "text": [
      "/tmp/ipykernel_509/263977711.py:36: UserWarning: This pattern is interpreted as a regular expression, and has match groups. To actually get the groups, use str.extract.\n",
      "  cost_columns = df.columns[df.columns.str.contains(\"(cost|funds)\")].tolist()\n",
      "/tmp/ipykernel_509/3788115394.py:20: FutureWarning: The default value of regex will change from True to False in a future version. In addition, single character regular expressions will *not* be treated as literal strings when regex=True.\n",
      "  sandag.cost2020m.str.replace(\"$\", \"\")\n",
      "/tmp/ipykernel_509/263977711.py:36: UserWarning: This pattern is interpreted as a regular expression, and has match groups. To actually get the groups, use str.extract.\n",
      "  cost_columns = df.columns[df.columns.str.contains(\"(cost|funds)\")].tolist()\n"
     ]
    },
    {
     "name": "stdout",
     "output_type": "stream",
     "text": [
      "65 rows are headers\n"
     ]
    },
    {
     "name": "stderr",
     "output_type": "stream",
     "text": [
      "/tmp/ipykernel_509/263977711.py:36: UserWarning: This pattern is interpreted as a regular expression, and has match groups. To actually get the groups, use str.extract.\n",
      "  cost_columns = df.columns[df.columns.str.contains(\"(cost|funds)\")].tolist()\n",
      "/tmp/ipykernel_509/263977711.py:36: UserWarning: This pattern is interpreted as a regular expression, and has match groups. To actually get the groups, use str.extract.\n",
      "  cost_columns = df.columns[df.columns.str.contains(\"(cost|funds)\")].tolist()\n",
      "/tmp/ipykernel_509/263977711.py:36: UserWarning: This pattern is interpreted as a regular expression, and has match groups. To actually get the groups, use str.extract.\n",
      "  cost_columns = df.columns[df.columns.str.contains(\"(cost|funds)\")].tolist()\n"
     ]
    },
    {
     "name": "stdout",
     "output_type": "stream",
     "text": [
      "360 rows are headers\n"
     ]
    },
    {
     "name": "stderr",
     "output_type": "stream",
     "text": [
      "/tmp/ipykernel_509/263977711.py:36: UserWarning: This pattern is interpreted as a regular expression, and has match groups. To actually get the groups, use str.extract.\n",
      "  cost_columns = df.columns[df.columns.str.contains(\"(cost|funds)\")].tolist()\n",
      "/tmp/ipykernel_509/263977711.py:36: UserWarning: This pattern is interpreted as a regular expression, and has match groups. To actually get the groups, use str.extract.\n",
      "  cost_columns = df.columns[df.columns.str.contains(\"(cost|funds)\")].tolist()\n"
     ]
    },
    {
     "name": "stdout",
     "output_type": "stream",
     "text": [
      "68 rows are headers\n"
     ]
    },
    {
     "name": "stderr",
     "output_type": "stream",
     "text": [
      "/tmp/ipykernel_509/263977711.py:36: UserWarning: This pattern is interpreted as a regular expression, and has match groups. To actually get the groups, use str.extract.\n",
      "  cost_columns = df.columns[df.columns.str.contains(\"(cost|funds)\")].tolist()\n",
      "/tmp/ipykernel_509/263977711.py:36: UserWarning: This pattern is interpreted as a regular expression, and has match groups. To actually get the groups, use str.extract.\n",
      "  cost_columns = df.columns[df.columns.str.contains(\"(cost|funds)\")].tolist()\n",
      "/tmp/ipykernel_509/263977711.py:36: UserWarning: This pattern is interpreted as a regular expression, and has match groups. To actually get the groups, use str.extract.\n",
      "  cost_columns = df.columns[df.columns.str.contains(\"(cost|funds)\")].tolist()\n"
     ]
    }
   ],
   "source": [
    "all_mpo_df, all_mpo_gdf = all_mpo(False)"
   ]
  },
  {
   "cell_type": "markdown",
   "id": "e1d191f2-bfc8-4835-bfe3-0f32e990bd46",
   "metadata": {},
   "source": [
    "## Presentation Datapalozza"
   ]
  },
  {
   "cell_type": "code",
   "execution_count": 177,
   "id": "fbdbb23f-3f44-40b7-a27f-8452b1ecab1f",
   "metadata": {},
   "outputs": [],
   "source": [
    "# Filter out for lost temporarily for presentation\n",
    "all_mpo_df = all_mpo_df[all_mpo_df.data_source != \"Lost\"]"
   ]
  },
  {
   "cell_type": "code",
   "execution_count": 178,
   "id": "a9ec6519-5cc8-4b59-ba03-6397e5682ba0",
   "metadata": {},
   "outputs": [],
   "source": [
    "all_mpo_gdf = all_mpo_gdf[all_mpo_gdf.data_source != \"Lost\"]"
   ]
  },
  {
   "cell_type": "code",
   "execution_count": 179,
   "id": "3316ed13-e177-4ec8-be5d-11c2cd293f9d",
   "metadata": {},
   "outputs": [
    {
     "data": {
      "text/plain": [
       "((14451, 13), (1355, 13))"
      ]
     },
     "execution_count": 179,
     "metadata": {},
     "output_type": "execute_result"
    }
   ],
   "source": [
    "all_mpo_df.shape, all_mpo_gdf.shape"
   ]
  },
  {
   "cell_type": "code",
   "execution_count": 180,
   "id": "cbf33c3b-c592-4ba3-a422-ccf599a1dcb2",
   "metadata": {},
   "outputs": [
    {
     "data": {
      "text/plain": [
       "417.5"
      ]
     },
     "execution_count": 180,
     "metadata": {},
     "output_type": "execute_result"
    }
   ],
   "source": [
    "all_mpo_df[\"data_source\"].value_counts().median()"
   ]
  },
  {
   "cell_type": "code",
   "execution_count": 181,
   "id": "c0592164-861b-4e6c-a93b-40af17878397",
   "metadata": {},
   "outputs": [],
   "source": [
    "#all_mpo_df.drop(columns=[\"geometry\"]).to_excel(\n",
    "#    f\"{harmonization_utils.GCS_FILE_PATH}LRTP/all_LRTP.xlsx\", index=False\n",
    "#)"
   ]
  },
  {
   "cell_type": "code",
   "execution_count": 182,
   "id": "4c66ebbf-9e83-4f58-9354-fe3e5eaf1aca",
   "metadata": {},
   "outputs": [],
   "source": [
    "# all_mpo_gdf.explore('project_title', legend = False)"
   ]
  },
  {
   "cell_type": "code",
   "execution_count": 183,
   "id": "500165bc-5970-4012-810f-84bada0c1180",
   "metadata": {},
   "outputs": [],
   "source": [
    "preview = [\n",
    "    \"Project Title\",\n",
    "    \"Lead Agency\",\n",
    "    \"Project Year\",\n",
    "    \"Grant Program\",\n",
    "    \"Project Description\",\n",
    "    \"Total Project Cost\",\n",
    "    \"City\",\n",
    "    \"County\",\n",
    "    \"Data Source\",\n",
    "    \"Notes\",\n",
    "]"
   ]
  },
  {
   "cell_type": "code",
   "execution_count": 184,
   "id": "151c2377-49ff-4507-b95a-7c4562258d42",
   "metadata": {},
   "outputs": [],
   "source": [
    "all_mpo_df2 = all_mpo_df.copy()"
   ]
  },
  {
   "cell_type": "code",
   "execution_count": 185,
   "id": "b382e96b-0711-4e4d-bb1e-3889d091a3da",
   "metadata": {},
   "outputs": [],
   "source": [
    "all_mpo_df2.columns = all_mpo_df2.columns.str.replace(\"_\", \" \").str.strip().str.title()"
   ]
  },
  {
   "cell_type": "code",
   "execution_count": 186,
   "id": "7ec8f14b-1e11-4cdb-aa3a-9999d4a56f44",
   "metadata": {
    "tags": []
   },
   "outputs": [
    {
     "data": {
      "text/plain": [
       "(95, 13)"
      ]
     },
     "execution_count": 186,
     "metadata": {},
     "output_type": "execute_result"
    }
   ],
   "source": [
    "all_mpo_df2[all_mpo_df2[\"Total Project Cost\"] == 0].shape"
   ]
  },
  {
   "cell_type": "code",
   "execution_count": 187,
   "id": "b3943052-c674-40e2-9de1-d28ff86aa7a3",
   "metadata": {},
   "outputs": [
    {
     "data": {
      "text/html": [
       "<div>\n",
       "<style scoped>\n",
       "    .dataframe tbody tr th:only-of-type {\n",
       "        vertical-align: middle;\n",
       "    }\n",
       "\n",
       "    .dataframe tbody tr th {\n",
       "        vertical-align: top;\n",
       "    }\n",
       "\n",
       "    .dataframe thead th {\n",
       "        text-align: right;\n",
       "    }\n",
       "</style>\n",
       "<table border=\"1\" class=\"dataframe\">\n",
       "  <thead>\n",
       "    <tr style=\"text-align: right;\">\n",
       "      <th></th>\n",
       "      <th>Project Title</th>\n",
       "      <th>Lead Agency</th>\n",
       "      <th>Project Year</th>\n",
       "      <th>Grant Program</th>\n",
       "      <th>Project Description</th>\n",
       "      <th>Total Project Cost</th>\n",
       "      <th>City</th>\n",
       "      <th>County</th>\n",
       "      <th>Data Source</th>\n",
       "      <th>Notes</th>\n",
       "    </tr>\n",
       "  </thead>\n",
       "  <tbody>\n",
       "    <tr>\n",
       "      <th>1297</th>\n",
       "      <td>Adams: Del Rey To Bethel</td>\n",
       "      <td>Fresno Cog</td>\n",
       "      <td>2032-2036</td>\n",
       "      <td>Fresno Cog Lrtp</td>\n",
       "      <td>Ac Overlay</td>\n",
       "      <td>0.53</td>\n",
       "      <td>None</td>\n",
       "      <td>None</td>\n",
       "      <td>Fresno Cog</td>\n",
       "      <td>Financial Constraint: Constrained</td>\n",
       "    </tr>\n",
       "    <tr>\n",
       "      <th>78</th>\n",
       "      <td>Enterprise Canal -  Dewolf To Bullard: Trail</td>\n",
       "      <td>Fresno Cog</td>\n",
       "      <td>2027-2031</td>\n",
       "      <td>Fresno Cog Lrtp</td>\n",
       "      <td>Trail</td>\n",
       "      <td>2.00</td>\n",
       "      <td>None</td>\n",
       "      <td>None</td>\n",
       "      <td>Fresno Cog</td>\n",
       "      <td>Financial Constraint: Constrained</td>\n",
       "    </tr>\n",
       "    <tr>\n",
       "      <th>274</th>\n",
       "      <td>Corridor &amp; Interchange Improvements | I-880 | Alameda County</td>\n",
       "      <td>Mtc</td>\n",
       "      <td>2021 to 2035</td>\n",
       "      <td>Mtc Lrtp</td>\n",
       "      <td>I-880 Winton Avenue A Street Interchange Reconstruction</td>\n",
       "      <td>7.08</td>\n",
       "      <td>None</td>\n",
       "      <td>Alameda</td>\n",
       "      <td>Mtc</td>\n",
       "      <td>Strategy: T06. Improve Interchanges &amp; Address Highway Bottlenecks,  Layer Name: Planbayarea2050 Rtp Point,  Mode Detai: Interchange</td>\n",
       "    </tr>\n",
       "  </tbody>\n",
       "</table>\n",
       "</div>"
      ],
      "text/plain": [
       "                                                     Project Title  \\\n",
       "1297                                      Adams: Del Rey To Bethel   \n",
       "78                    Enterprise Canal -  Dewolf To Bullard: Trail   \n",
       "274   Corridor & Interchange Improvements | I-880 | Alameda County   \n",
       "\n",
       "     Lead Agency  Project Year    Grant Program  \\\n",
       "1297  Fresno Cog     2032-2036  Fresno Cog Lrtp   \n",
       "78    Fresno Cog     2027-2031  Fresno Cog Lrtp   \n",
       "274          Mtc  2021 to 2035         Mtc Lrtp   \n",
       "\n",
       "                                          Project Description  \\\n",
       "1297                                               Ac Overlay   \n",
       "78                                                      Trail   \n",
       "274   I-880 Winton Avenue A Street Interchange Reconstruction   \n",
       "\n",
       "      Total Project Cost  City   County Data Source  \\\n",
       "1297                0.53  None     None  Fresno Cog   \n",
       "78                  2.00  None     None  Fresno Cog   \n",
       "274                 7.08  None  Alameda         Mtc   \n",
       "\n",
       "                                                                                                                                    Notes  \n",
       "1297                                                                                                    Financial Constraint: Constrained  \n",
       "78                                                                                                      Financial Constraint: Constrained  \n",
       "274   Strategy: T06. Improve Interchanges & Address Highway Bottlenecks,  Layer Name: Planbayarea2050 Rtp Point,  Mode Detai: Interchange  "
      ]
     },
     "execution_count": 187,
     "metadata": {},
     "output_type": "execute_result"
    }
   ],
   "source": [
    "all_mpo_df2[preview].sample(3)"
   ]
  },
  {
   "cell_type": "markdown",
   "id": "c69e9400-2b5c-4af0-82ab-d9864191ac27",
   "metadata": {},
   "source": [
    "### Cordon Pricing"
   ]
  },
  {
   "cell_type": "code",
   "execution_count": 188,
   "id": "5724d6a0-a25e-4461-9837-155f1281bd26",
   "metadata": {},
   "outputs": [],
   "source": [
    "def filter_projects(\n",
    "    df,\n",
    "    columns_to_search: list,\n",
    "    keywords_search: list,\n",
    "    file_name: str,\n",
    "    save_to_gcs: bool = True,\n",
    "):\n",
    "\n",
    "    # Filter out for Cordon\n",
    "    df = list_utils.find_keywords(df, columns_to_search, keywords_search)\n",
    "    df2 = (\n",
    "        df[\n",
    "            (df.lower_case_project_title_keyword_search != \"keyword not found\")\n",
    "            | (df.lower_case_project_description_keyword_search != \"keyword not found\")\n",
    "        ]\n",
    "    ).reset_index(drop=True)\n",
    "\n",
    "    # Delete out non HOV projects that were accidentally picked up\n",
    "    projects_to_delete = [\n",
    "        \"SR 17 Corridor Congestion Relief in Los Gatos\",\n",
    "        \"Interstate 380 Congestion Improvements\",\n",
    "    ]\n",
    "    df2 = df2[~df2.project_title.isin(projects_to_delete)].reset_index(drop=True)\n",
    "\n",
    "    # Change cases\n",
    "    for i in [\"project_title\", \"project_description\"]:\n",
    "        df2[i] = df2[i].str.title()\n",
    "\n",
    "    # Drop invalid geometries\n",
    "    gdf = df2[df2.geometry != None].reset_index(drop=True)\n",
    "    gdf = gdf.set_geometry(\"geometry\")\n",
    "    gdf.geometry = gdf.geometry.set_crs(\"EPSG:4326\")\n",
    "    gdf = gdf[gdf.geometry.is_valid].reset_index(drop=True)\n",
    "    gdf = gdf.fillna(gdf.dtypes.replace({\"float64\": 0.0, \"object\": \"None\"}))\n",
    "\n",
    "    # One version that's a df\n",
    "    columns_to_drop = [\"lower_case_project_title\", \"lower_case_project_description\"]\n",
    "    df2 = df2.drop(columns=columns_to_drop + [\"geometry\"])\n",
    "    df2 = df2.fillna(df.dtypes.replace({\"float64\": 0.0, \"object\": \"None\"}))\n",
    "\n",
    "    if save_to_gcs:\n",
    "        df2.to_excel(\n",
    "            f\"{harmonization_utils.GCS_FILE_PATH}LRTP/{file_name}.xlsx\",\n",
    "            index=False,\n",
    "        )\n",
    "        gdf.to_file(f\"./{file_name}.geojson\", driver=\"GeoJSON\")\n",
    "\n",
    "    return gdf, df2"
   ]
  },
  {
   "cell_type": "code",
   "execution_count": 189,
   "id": "48a098da-a194-4515-8bf9-ac08dd3b109e",
   "metadata": {},
   "outputs": [],
   "source": [
    "congest_keywords = [\n",
    "    \"congestion pricing\",\n",
    "    \"variable tolls\",\n",
    "    \"express lane\",\n",
    "    \"value pricing\",\n",
    "    \"rush hour\",\n",
    "    \"cordon\",\n",
    "    \"dynamic pricing\",\n",
    "    \"dynamically  priced\",\n",
    "    \"high occupancy\",\n",
    "    \"mobility pricing\",\n",
    "    \"occupancy\",\n",
    "    \"toll lane\",\n",
    "    \"performance pricing\",\n",
    "    \"peak travel\",\n",
    "    \"managed lane\",\n",
    "    \"tollway\",\n",
    "    \"express toll\",\n",
    "    \"fixed pricing\",\n",
    "    \"hot lane\",\n",
    "    \"hov lane\",\n",
    "    \"expressed toll lane\",\n",
    "]"
   ]
  },
  {
   "cell_type": "code",
   "execution_count": 190,
   "id": "a29ac69f-6c3b-4e39-a086-fd5b4a8e081e",
   "metadata": {},
   "outputs": [
    {
     "name": "stderr",
     "output_type": "stream",
     "text": [
      "/home/jovyan/data-analyses/project_list/_specific_list_utils.py:17: FutureWarning: The default value of regex will change from True to False in a future version. In addition, single character regular expressions will *not* be treated as literal strings when regex=True.\n",
      "  df[i]\n",
      "/home/jovyan/data-analyses/project_list/_specific_list_utils.py:17: FutureWarning: The default value of regex will change from True to False in a future version. In addition, single character regular expressions will *not* be treated as literal strings when regex=True.\n",
      "  df[i]\n"
     ]
    }
   ],
   "source": [
    "cordon_gdf, cordon_df = filter_projects(\n",
    "    all_mpo_df,\n",
    "    [\n",
    "        \"project_title\",\n",
    "        \"project_description\",\n",
    "    ],\n",
    "    congest_keywords,\n",
    "    \"congestion_pricing_lrtp_only\",\n",
    "    True,\n",
    ")"
   ]
  },
  {
   "cell_type": "code",
   "execution_count": 191,
   "id": "6c0c5fcb-fb7a-4be1-8697-7efd3dad357f",
   "metadata": {},
   "outputs": [
    {
     "data": {
      "text/plain": [
       "(168, 85)"
      ]
     },
     "execution_count": 191,
     "metadata": {},
     "output_type": "execute_result"
    }
   ],
   "source": [
    "len(cordon_df), len(cordon_gdf)"
   ]
  },
  {
   "cell_type": "code",
   "execution_count": 192,
   "id": "9b90b426-dd12-48fb-b3b5-fea1043d4309",
   "metadata": {},
   "outputs": [
    {
     "data": {
      "text/plain": [
       "0.011625493045463982"
      ]
     },
     "execution_count": 192,
     "metadata": {},
     "output_type": "execute_result"
    }
   ],
   "source": [
    "len(cordon_df) / len(all_mpo_df)"
   ]
  },
  {
   "cell_type": "code",
   "execution_count": 193,
   "id": "0b70c302-e11d-4511-a8f2-bb29ca7a230c",
   "metadata": {},
   "outputs": [
    {
     "data": {
      "text/plain": [
       "(92, 52)"
      ]
     },
     "execution_count": 193,
     "metadata": {},
     "output_type": "execute_result"
    }
   ],
   "source": [
    "cordon_df.project_title.nunique(), cordon_gdf.project_title.nunique()"
   ]
  },
  {
   "cell_type": "code",
   "execution_count": 194,
   "id": "96f5ca16-6185-4de4-9a7d-2f142f18e2ca",
   "metadata": {
    "scrolled": true,
    "tags": []
   },
   "outputs": [],
   "source": [
    "# cordon_df[[\"data_source\",'project_title','project_description','lower_case_project_title_keyword_search',\n",
    "#     'lower_case_project_description_keyword_search']]"
   ]
  },
  {
   "cell_type": "code",
   "execution_count": 195,
   "id": "73326293-f186-4035-b66e-efcdc8ed00e6",
   "metadata": {
    "tags": []
   },
   "outputs": [
    {
     "data": {
      "text/html": [
       "<div>\n",
       "<style scoped>\n",
       "    .dataframe tbody tr th:only-of-type {\n",
       "        vertical-align: middle;\n",
       "    }\n",
       "\n",
       "    .dataframe tbody tr th {\n",
       "        vertical-align: top;\n",
       "    }\n",
       "\n",
       "    .dataframe thead th {\n",
       "        text-align: right;\n",
       "    }\n",
       "</style>\n",
       "<table border=\"1\" class=\"dataframe\">\n",
       "  <thead>\n",
       "    <tr style=\"text-align: right;\">\n",
       "      <th></th>\n",
       "      <th>project_title</th>\n",
       "    </tr>\n",
       "    <tr>\n",
       "      <th>grant_program</th>\n",
       "      <th></th>\n",
       "    </tr>\n",
       "  </thead>\n",
       "  <tbody>\n",
       "    <tr>\n",
       "      <th>Fresno Cog Lrtp</th>\n",
       "      <td>2</td>\n",
       "    </tr>\n",
       "    <tr>\n",
       "      <th>Mtc Lrtp</th>\n",
       "      <td>4</td>\n",
       "    </tr>\n",
       "    <tr>\n",
       "      <th>Sacog Lrtp</th>\n",
       "      <td>30</td>\n",
       "    </tr>\n",
       "    <tr>\n",
       "      <th>Sandag Lrtp</th>\n",
       "      <td>46</td>\n",
       "    </tr>\n",
       "    <tr>\n",
       "      <th>Sbcag Lrtp</th>\n",
       "      <td>4</td>\n",
       "    </tr>\n",
       "    <tr>\n",
       "      <th>Scag Lrtp</th>\n",
       "      <td>1</td>\n",
       "    </tr>\n",
       "    <tr>\n",
       "      <th>Sjcog Lrtp</th>\n",
       "      <td>1</td>\n",
       "    </tr>\n",
       "    <tr>\n",
       "      <th>Slocog Lrtp</th>\n",
       "      <td>1</td>\n",
       "    </tr>\n",
       "    <tr>\n",
       "      <th>Stancog Lrtp</th>\n",
       "      <td>2</td>\n",
       "    </tr>\n",
       "    <tr>\n",
       "      <th>Tmpo Lrtp</th>\n",
       "      <td>1</td>\n",
       "    </tr>\n",
       "  </tbody>\n",
       "</table>\n",
       "</div>"
      ],
      "text/plain": [
       "                 project_title\n",
       "grant_program                 \n",
       "Fresno Cog Lrtp              2\n",
       "Mtc Lrtp                     4\n",
       "Sacog Lrtp                  30\n",
       "Sandag Lrtp                 46\n",
       "Sbcag Lrtp                   4\n",
       "Scag Lrtp                    1\n",
       "Sjcog Lrtp                   1\n",
       "Slocog Lrtp                  1\n",
       "Stancog Lrtp                 2\n",
       "Tmpo Lrtp                    1"
      ]
     },
     "execution_count": 195,
     "metadata": {},
     "output_type": "execute_result"
    }
   ],
   "source": [
    "cordon_df.groupby([\"grant_program\"]).agg({\"project_title\": \"nunique\"})"
   ]
  },
  {
   "cell_type": "code",
   "execution_count": 196,
   "id": "620d54f6-cf89-4f60-a834-0f53fab2355c",
   "metadata": {},
   "outputs": [
    {
     "data": {
      "text/html": [
       "<div>\n",
       "<style scoped>\n",
       "    .dataframe tbody tr th:only-of-type {\n",
       "        vertical-align: middle;\n",
       "    }\n",
       "\n",
       "    .dataframe tbody tr th {\n",
       "        vertical-align: top;\n",
       "    }\n",
       "\n",
       "    .dataframe thead th {\n",
       "        text-align: right;\n",
       "    }\n",
       "</style>\n",
       "<table border=\"1\" class=\"dataframe\">\n",
       "  <thead>\n",
       "    <tr style=\"text-align: right;\">\n",
       "      <th></th>\n",
       "      <th>total_project_cost</th>\n",
       "    </tr>\n",
       "    <tr>\n",
       "      <th>data_source</th>\n",
       "      <th></th>\n",
       "    </tr>\n",
       "  </thead>\n",
       "  <tbody>\n",
       "    <tr>\n",
       "      <th>Fresno Cog</th>\n",
       "      <td>605.00</td>\n",
       "    </tr>\n",
       "    <tr>\n",
       "      <th>Mtc</th>\n",
       "      <td>238.67</td>\n",
       "    </tr>\n",
       "    <tr>\n",
       "      <th>Sacog</th>\n",
       "      <td>3231.09</td>\n",
       "    </tr>\n",
       "    <tr>\n",
       "      <th>Sandag</th>\n",
       "      <td>7682.00</td>\n",
       "    </tr>\n",
       "    <tr>\n",
       "      <th>Sbcag</th>\n",
       "      <td>569.32</td>\n",
       "    </tr>\n",
       "    <tr>\n",
       "      <th>Scag</th>\n",
       "      <td>22324.06</td>\n",
       "    </tr>\n",
       "    <tr>\n",
       "      <th>Sjcog</th>\n",
       "      <td>200.00</td>\n",
       "    </tr>\n",
       "    <tr>\n",
       "      <th>Slocog</th>\n",
       "      <td>108.00</td>\n",
       "    </tr>\n",
       "    <tr>\n",
       "      <th>Stancog</th>\n",
       "      <td>0.00</td>\n",
       "    </tr>\n",
       "    <tr>\n",
       "      <th>Tmpo</th>\n",
       "      <td>0.00</td>\n",
       "    </tr>\n",
       "  </tbody>\n",
       "</table>\n",
       "</div>"
      ],
      "text/plain": [
       "             total_project_cost\n",
       "data_source                    \n",
       "Fresno Cog               605.00\n",
       "Mtc                      238.67\n",
       "Sacog                   3231.09\n",
       "Sandag                  7682.00\n",
       "Sbcag                    569.32\n",
       "Scag                   22324.06\n",
       "Sjcog                    200.00\n",
       "Slocog                   108.00\n",
       "Stancog                    0.00\n",
       "Tmpo                       0.00"
      ]
     },
     "execution_count": 196,
     "metadata": {},
     "output_type": "execute_result"
    }
   ],
   "source": [
    "cordon_df.groupby([\"data_source\"]).agg({\"total_project_cost\": \"sum\"})"
   ]
  },
  {
   "cell_type": "code",
   "execution_count": 197,
   "id": "64ea0a3f-5cd1-4ee5-b2ee-70f2e9ec9791",
   "metadata": {},
   "outputs": [
    {
     "data": {
      "text/plain": [
       "count    168.00\n",
       "mean     208.08\n",
       "std      475.51\n",
       "min        0.00\n",
       "25%        4.72\n",
       "50%       75.18\n",
       "75%      201.89\n",
       "max     4700.00\n",
       "Name: total_project_cost, dtype: float64"
      ]
     },
     "execution_count": 197,
     "metadata": {},
     "output_type": "execute_result"
    }
   ],
   "source": [
    "cordon_df.total_project_cost.describe()"
   ]
  },
  {
   "cell_type": "code",
   "execution_count": 198,
   "id": "c9fa0c9e-e596-468b-9e5c-82c7c5b8a7de",
   "metadata": {},
   "outputs": [],
   "source": [
    "gdf_map_subset = [\n",
    "    \"project_title\",\n",
    "    \"lead_agency\",\n",
    "    \"project_year\",\n",
    "    \"total_project_cost\",\n",
    "    \"geometry\",\n",
    "]"
   ]
  },
  {
   "cell_type": "code",
   "execution_count": 199,
   "id": "e5394efd-2a93-46e0-8e5d-bc9326680b24",
   "metadata": {},
   "outputs": [],
   "source": [
    "# cordon_gdf[gdf_map_subset].explore('project_title', cmap= 'tab20c', height = 400, width = 600,  style_kwds={'weight':4}, legend = False)"
   ]
  },
  {
   "cell_type": "markdown",
   "id": "1a8cf388-8b68-405f-8c3a-7a6c42dd28ed",
   "metadata": {
    "tags": []
   },
   "source": [
    "### ATP for Presentation"
   ]
  },
  {
   "cell_type": "code",
   "execution_count": 200,
   "id": "42e2c129-57c8-484d-972c-69ea5ac4924b",
   "metadata": {},
   "outputs": [],
   "source": [
    "atp_keywords = [\n",
    "    \"bicycle\",\n",
    "    \"bike\",\n",
    "    \"pedestrian\",\n",
    "    \"walk\",\n",
    "    \"active trans\",\n",
    "    \"curb\",\n",
    "    \"ramp\",\n",
    "    \"cycle\",\n",
    "    \"atp\",\n",
    "]"
   ]
  },
  {
   "cell_type": "code",
   "execution_count": 201,
   "id": "4d783a79-8474-4260-af62-64925aaba255",
   "metadata": {},
   "outputs": [],
   "source": [
    "all_mpo_df = all_mpo_df.drop(\n",
    "    columns=[\n",
    "        \"lower_case_project_title\",\n",
    "        \"lower_case_project_description\",\n",
    "        \"lower_case_project_title_keyword_search\",\n",
    "        \"lower_case_project_description_keyword_search\",\n",
    "    ]\n",
    ")"
   ]
  },
  {
   "cell_type": "code",
   "execution_count": 202,
   "id": "553393d1-5112-44e1-a376-2ae06586b1d3",
   "metadata": {},
   "outputs": [
    {
     "name": "stderr",
     "output_type": "stream",
     "text": [
      "/home/jovyan/data-analyses/project_list/_specific_list_utils.py:17: FutureWarning: The default value of regex will change from True to False in a future version. In addition, single character regular expressions will *not* be treated as literal strings when regex=True.\n",
      "  df[i]\n",
      "/home/jovyan/data-analyses/project_list/_specific_list_utils.py:17: FutureWarning: The default value of regex will change from True to False in a future version. In addition, single character regular expressions will *not* be treated as literal strings when regex=True.\n",
      "  df[i]\n"
     ]
    }
   ],
   "source": [
    "atp_gdf, atp_df = filter_projects(\n",
    "    all_mpo_df,\n",
    "    [\n",
    "        \"project_title\",\n",
    "        \"project_description\",\n",
    "    ],\n",
    "    atp_keywords,\n",
    "    \"atp_projects\",\n",
    "    True,\n",
    ")"
   ]
  },
  {
   "cell_type": "code",
   "execution_count": 204,
   "id": "0b5e9395-4847-45d8-a93c-041e90cdda7a",
   "metadata": {},
   "outputs": [],
   "source": [
    "atp_df[\"categories\"] = atp_df.lower_case_project_description_keyword_search"
   ]
  },
  {
   "cell_type": "code",
   "execution_count": 205,
   "id": "037e13db-f623-41e3-98c7-6076add20f2a",
   "metadata": {},
   "outputs": [],
   "source": [
    "# Delete \"keyword not found\" result and replace with the keyword from project_title\n",
    "# Save this to GCS\n",
    "# https://stackoverflow.com/questions/62989923/pandas-dataframe-replace-part-of-string-with-value-from-another-column\n",
    "atp_df[\"categories\"] = atp_df.apply(\n",
    "    lambda x: x[\"categories\"].replace(\n",
    "        \"keyword not found\", str(x[\"lower_case_project_title_keyword_search\"])\n",
    "    ),\n",
    "    axis=1,\n",
    ")"
   ]
  },
  {
   "cell_type": "code",
   "execution_count": 206,
   "id": "28681bf5-1c62-498a-8f91-c331ac77818a",
   "metadata": {},
   "outputs": [
    {
     "data": {
      "text/plain": [
       "bike            2032\n",
       "walk             775\n",
       "ramp             540\n",
       "pedestrian       374\n",
       "bicycle          276\n",
       "curb             270\n",
       "active trans      34\n",
       "cycle             24\n",
       "atp               24\n",
       "Name: categories, dtype: int64"
      ]
     },
     "execution_count": 206,
     "metadata": {},
     "output_type": "execute_result"
    }
   ],
   "source": [
    "atp_df.categories.value_counts()"
   ]
  },
  {
   "cell_type": "code",
   "execution_count": 207,
   "id": "d887cac5-e8a9-4386-9f60-f232b0bf05b9",
   "metadata": {},
   "outputs": [],
   "source": [
    "atp = (\n",
    "    atp_df.groupby([\"data_source\"])\n",
    "    .agg({\"project_title\": \"count\"})\n",
    "    .sort_values([\"project_title\"])\n",
    "    .reset_index()\n",
    "    .rename(columns={\"project_title\": \"n_atp_projects\"})\n",
    ")"
   ]
  },
  {
   "cell_type": "code",
   "execution_count": 208,
   "id": "65606a03-a7ce-4d6c-a9ce-23764a428a30",
   "metadata": {},
   "outputs": [],
   "source": [
    "all_projects = (\n",
    "    all_mpo_df.groupby([\"data_source\"])\n",
    "    .agg({\"project_title\": \"count\"})\n",
    "    .sort_values([\"project_title\"])\n",
    "    .reset_index()\n",
    "    .rename(columns={\"project_title\": \"n_projects\"})\n",
    ")"
   ]
  },
  {
   "cell_type": "code",
   "execution_count": 209,
   "id": "8ed407f3-b52d-44fc-9efe-7aa13c8329e0",
   "metadata": {},
   "outputs": [],
   "source": [
    "# Save this to GCS\n",
    "atp_m = pd.merge(atp, all_projects, on=[\"data_source\"], how=\"inner\")"
   ]
  },
  {
   "cell_type": "code",
   "execution_count": 210,
   "id": "307f7a81-a091-402d-aa2e-86edfe0ea76c",
   "metadata": {},
   "outputs": [],
   "source": [
    "atp_m[\"percent_of_atp_projects\"] = atp_m.n_atp_projects / atp_m.n_projects * 100"
   ]
  },
  {
   "cell_type": "code",
   "execution_count": 211,
   "id": "1c89ba02-2378-4815-a03e-7544fbdc915e",
   "metadata": {},
   "outputs": [],
   "source": [
    "atp_m.columns = atp_m.columns.str.replace(\"_\", \" \").str.strip().str.title()"
   ]
  },
  {
   "cell_type": "code",
   "execution_count": 212,
   "id": "5b186d8c-b74f-4bb2-8914-aa7f4695f934",
   "metadata": {},
   "outputs": [],
   "source": [
    "# with pd.ExcelWriter(f\"{harmonization_utils.GCS_FILE_PATH}LRTP/atp_datapalooza.xlsx\") as writer:\n",
    "#    atp_df.to_excel(writer, sheet_name=\"full_atp\", index=False)\n",
    "#   atp_m.to_excel(writer, sheet_name=\"summarized_atp\", index=False)"
   ]
  },
  {
   "cell_type": "markdown",
   "id": "48b74d9a-1d4a-42f0-a01a-c54fe13a06be",
   "metadata": {},
   "source": [
    "### Categorizing"
   ]
  },
  {
   "cell_type": "code",
   "execution_count": 213,
   "id": "db59042b-cd7b-43e2-9ce7-67839cf8efe3",
   "metadata": {},
   "outputs": [],
   "source": [
    "all_mpo_df = all_mpo_df.fillna(\"None\")"
   ]
  },
  {
   "cell_type": "code",
   "execution_count": 216,
   "id": "32ff9d61-c731-41c1-b532-f5996ef4ccb2",
   "metadata": {},
   "outputs": [],
   "source": [
    "def add_categories(df):\n",
    "    \"\"\"\n",
    "    Create general categories for each projects.\n",
    "    https://github.com/cal-itp/data-analyses/blob/29ed3ad1d107c6be09fecbc1a5f3d8ef5f2b2da6/dla/dla_utils/clean_data.py#L305\n",
    "    \"\"\"\n",
    "    # There are many projects that are\n",
    "    ACTIVE_TRANSPORTATION = [\n",
    "        \"bike\",\n",
    "        \"bicycle\",\n",
    "        \"cyclist\",\n",
    "        \"pedestrian\",\n",
    "        ## including the spelling errors of `pedestrian`\n",
    "        \"pedestrain\",\n",
    "        \"crosswalk\",\n",
    "        \"bulb out\",\n",
    "        \"bulb-out\",\n",
    "        \"active transp\",\n",
    "        \"traffic reduction\",\n",
    "        \"speed reduction\",\n",
    "        \"ped\",\n",
    "        \"srts\",\n",
    "        \"safe routes to school\",\n",
    "        \"sidewalk\",\n",
    "        \"side walk\",\n",
    "        \"Cl \",\n",
    "        \"trail\",\n",
    "        \"atp\",\n",
    "    ]\n",
    "    TRANSIT = [\n",
    "        \"bus\",\n",
    "        \"metro\",\n",
    "        \"station\",  # Station comes up a few times as a charging station and also as a train station\n",
    "        \"transit\",\n",
    "        \"fare\",\n",
    "        \"brt\",\n",
    "        \"yarts\",\n",
    "        \"railroad\",\n",
    "        \"highway-rail\",\n",
    "        \"streetcar\",\n",
    "        \"mass transit\",\n",
    "        # , 'station' in description and 'charging station' not in description\n",
    "    ]\n",
    "    BRIDGE = [\"bridge\", \"viaduct\"]\n",
    "    STREET = [\n",
    "        \"traffic signal\",\n",
    "        \"resurface\",\n",
    "        \"resurfacing\",\n",
    "        \"slurry\",\n",
    "        \"seal\" \"sign\",\n",
    "        \"stripe\",\n",
    "        \"striping\",\n",
    "        \"median\",\n",
    "        \"guard rail\",\n",
    "        \"guardrail\",\n",
    "        \"road\",\n",
    "        \"street\",\n",
    "        \"sinkhole\",\n",
    "        \"intersection\",\n",
    "        \"signal\",\n",
    "        \"curb\",\n",
    "        \"light\",\n",
    "        \"tree\",\n",
    "        \"pavement\",\n",
    "        \"roundabout\",\n",
    "    ]\n",
    "\n",
    "    NOT_INC = []\n",
    "\n",
    "    FREEWAY = [\"hov \", \"hot \", \"freeway\", \"highway\", \"express lanes\", \"hwy\"]\n",
    "\n",
    "    INFRA_RESILIENCY_ER = [\n",
    "        \"repair\",\n",
    "        \"emergency\",\n",
    "        \"replace\",\n",
    "        \"retrofit\",\n",
    "        \"rehab\",\n",
    "        \"improvements\",\n",
    "        \"seismic\",\n",
    "        \"reconstruct\",\n",
    "        \"restoration\",\n",
    "    ]\n",
    "\n",
    "    CONGESTION_RELIEF = [\n",
    "        \"congestion\",\n",
    "        \"rideshare\",\n",
    "        \"ridesharing\",\n",
    "        \"vanpool\",\n",
    "        \"car share\",\n",
    "    ]\n",
    "\n",
    "    PASSENGER_MODE = [\"non sov\", \"high quality transit areas\", \"hqta\", \"hov\"]\n",
    "\n",
    "    SAFETY = [\n",
    "        \"fatalities\",\n",
    "        \"safe\",\n",
    "        \"speed management\",\n",
    "        \"signal coordination\",\n",
    "        \"slow speeds\",\n",
    "        \"roundabouts\",\n",
    "        \"victims\",\n",
    "        \"collisions\",\n",
    "        \"collisoins\",\n",
    "        \"protect\",\n",
    "        \"crash\",\n",
    "        \"modification factors\",\n",
    "        \"safety system\",\n",
    "    ]\n",
    "\n",
    "    MANAGED_LANES = [\n",
    "        \"congestion pricing\",\n",
    "        \"variable tolls\",\n",
    "        \"express lane\",\n",
    "        \"value pricing\",\n",
    "        \"rush hour\",\n",
    "        \"cordon\",\n",
    "        \"dynamic pricing\",\n",
    "        \"dynamically  priced\",\n",
    "        \"high occupancy\",\n",
    "        \"mobility pricing\",\n",
    "        \"occupancy\",\n",
    "        \"toll lane\",\n",
    "        \"performance pricing\",\n",
    "        \"peak travel\",\n",
    "        \"managed lane\",\n",
    "        \"tollway\",\n",
    "        \"express toll\",\n",
    "        \"fixed pricing\",\n",
    "        \"hot lane\",\n",
    "        \"hov lane\",\n",
    "        \"expressed toll lane\",\n",
    "    ]\n",
    "\n",
    "    def categorize_project_descriptions(row):\n",
    "        \"\"\"\n",
    "        This function takes a individual type of work description (row of a dataframe)\n",
    "        and returns a dummy flag of 1 if it finds keyword present in\n",
    "        project categories (active transportation, transit, bridge, etc).\n",
    "        A description can contain multiple keywords across categories.\n",
    "        \"\"\"\n",
    "        # Clean up project description 2\n",
    "        project_description = (\n",
    "            row.project_description.lower()\n",
    "            .replace(\"-\", \"\")\n",
    "            .replace(\".\", \"\")\n",
    "            .replace(\":\", \"\")\n",
    "        )\n",
    "\n",
    "        # Store a bunch of columns that will be flagged\n",
    "        # A project can involve multiple things...also, not sure what's in the descriptions\n",
    "        active_transp = \"\"\n",
    "        transit = \"\"\n",
    "        bridge = \"\"\n",
    "        street = \"\"\n",
    "        freeway = \"\"\n",
    "        infra_resiliency_er = \"\"\n",
    "        congestion_relief = \"\"\n",
    "        passenger_mode_shift = \"\"\n",
    "        safety = \"\"\n",
    "        managed_lanes = \"\"\n",
    "\n",
    "        if any(word in project_description for word in ACTIVE_TRANSPORTATION):\n",
    "            active_transp = 1\n",
    "        # if any(word in description if instanceof(word, str) else word(description) for word in TRANSIT)\n",
    "        if any(word in project_description for word in TRANSIT) and not any(\n",
    "            exclude_word in project_description for exclude_word in NOT_INC\n",
    "        ):\n",
    "            transit = 1\n",
    "        if any(word in project_description for word in BRIDGE):\n",
    "            bridge = 1\n",
    "        if any(word in project_description for word in STREET):\n",
    "            street = 1\n",
    "        if any(word in project_description for word in FREEWAY):\n",
    "            freeway = 1\n",
    "        if any(word in project_description for word in INFRA_RESILIENCY_ER):\n",
    "            infra_resiliency_er = 1\n",
    "        if any(word in project_description for word in CONGESTION_RELIEF):\n",
    "            congestion_relief = 1\n",
    "        if any(word in project_description for word in PASSENGER_MODE):\n",
    "            passenger_mode_shift = 1\n",
    "        if any(word in project_description for word in SAFETY):\n",
    "            safety = 1\n",
    "        if any(word in project_description for word in MANAGED_LANES):\n",
    "            managed_lanes = 1\n",
    "        new_cols = [\n",
    "            \"active_transp\",\n",
    "            \"transit\",\n",
    "            \"bridge\",\n",
    "            \"street\",\n",
    "            \"freeway\",\n",
    "            \"infra_resiliency_er\",\n",
    "            \"congestion_relief\",\n",
    "            \"passenger_mode_shift\",\n",
    "            \"safety\",\n",
    "            \"managed_lanes\",\n",
    "        ]\n",
    "\n",
    "        category_series = pd.Series(\n",
    "            [\n",
    "                active_transp,\n",
    "                transit,\n",
    "                bridge,\n",
    "                street,\n",
    "                freeway,\n",
    "                infra_resiliency_er,\n",
    "                congestion_relief,\n",
    "                passenger_mode_shift,\n",
    "                safety,\n",
    "                managed_lanes,\n",
    "            ],\n",
    "            index=new_cols,\n",
    "        )\n",
    "\n",
    "        return category_series\n",
    "\n",
    "    work_categories_df = df.apply(categorize_project_descriptions, axis=1)\n",
    "    new_cols = list(work_categories_df.columns)\n",
    "    df2 = pd.concat([df, work_categories_df], axis=1)\n",
    "    df2[new_cols] = df2[new_cols].apply(pd.to_numeric, errors=\"coerce\").fillna(0)\n",
    "    df2[\"n_categories\"] = df2[new_cols].sum(axis=1)\n",
    "    return df2"
   ]
  },
  {
   "cell_type": "code",
   "execution_count": 217,
   "id": "54fad5c2-61da-4c4d-a447-7159ea2a2772",
   "metadata": {
    "scrolled": true,
    "tags": []
   },
   "outputs": [],
   "source": [
    "categorized_df = add_categories(all_mpo_df)"
   ]
  },
  {
   "cell_type": "code",
   "execution_count": 218,
   "id": "12346bb0-f0f8-4b61-a80c-d5fbf3a51112",
   "metadata": {},
   "outputs": [],
   "source": [
    "drop_cols = [\n",
    "    \"lower_case_project_title\",\n",
    "    \"lower_case_project_description\",\n",
    "    \"lower_case_project_title_keyword_search\",\n",
    "    \"lower_case_project_description_keyword_search\",\n",
    "    \"project_category\",\n",
    "    \"phase\",\n",
    "    \"geometry\",\n",
    "    \"city\",\n",
    "    \"county\",\n",
    "]"
   ]
  },
  {
   "cell_type": "code",
   "execution_count": 219,
   "id": "81033e4f-d917-44cd-84fa-0a9066e6f6c9",
   "metadata": {},
   "outputs": [],
   "source": [
    "categorized_df = categorized_df.drop(columns=drop_cols)"
   ]
  },
  {
   "cell_type": "code",
   "execution_count": 220,
   "id": "e313c8b6-8815-4a02-a62c-8e210841a898",
   "metadata": {},
   "outputs": [
    {
     "data": {
      "text/plain": [
       "0.00    6217\n",
       "1.00    4430\n",
       "2.00    2572\n",
       "3.00     865\n",
       "4.00     287\n",
       "5.00      62\n",
       "6.00      18\n",
       "Name: n_categories, dtype: int64"
      ]
     },
     "execution_count": 220,
     "metadata": {},
     "output_type": "execute_result"
    }
   ],
   "source": [
    "categorized_df.n_categories.value_counts()"
   ]
  },
  {
   "cell_type": "code",
   "execution_count": 221,
   "id": "6bf3cbf4-9fe8-4edb-be34-03fccf3bfff9",
   "metadata": {},
   "outputs": [],
   "source": [
    "categorized_df_subset = categorized_df[\n",
    "    [\n",
    "        \"project_title\",\n",
    "        \"data_source\",\n",
    "        \"active_transp\",\n",
    "        \"transit\",\n",
    "        \"bridge\",\n",
    "        \"street\",\n",
    "        \"freeway\",\n",
    "        \"infra_resiliency_er\",\n",
    "        \"congestion_relief\",\n",
    "        \"passenger_mode_shift\",\n",
    "        \"safety\",\n",
    "        \"managed_lanes\",\n",
    "    ]\n",
    "]"
   ]
  },
  {
   "cell_type": "code",
   "execution_count": 222,
   "id": "0b38e644-f8f4-4c6d-978b-22a9b73a61c4",
   "metadata": {},
   "outputs": [],
   "source": [
    "all_projects = (all_mpo_df\n",
    "                .groupby(['data_source'])\n",
    "                .agg({'project_title':'count'})\n",
    "                .rename(columns = {'project_title':'total_projects'})\n",
    "                .reset_index()\n",
    "               )"
   ]
  },
  {
   "cell_type": "code",
   "execution_count": 223,
   "id": "c42df8f9-55db-414b-aafe-7f7b65049eb7",
   "metadata": {},
   "outputs": [],
   "source": [
    "categorized_df_melt = (pd\n",
    "        .melt(categorized_df_subset, \n",
    "              id_vars=['data_source'], \n",
    "              value_vars=[\"active_transp\",\n",
    "        \"transit\",\n",
    "        \"bridge\",\n",
    "        \"street\",\n",
    "        \"freeway\",\n",
    "        \"infra_resiliency_er\",\n",
    "        \"congestion_relief\",\n",
    "        \"passenger_mode_shift\",\n",
    "        \"safety\",\n",
    "        \"managed_lanes\"])\n",
    "        .rename(columns ={'variable':'category'}\n",
    "                      ))"
   ]
  },
  {
   "cell_type": "code",
   "execution_count": 224,
   "id": "a7072140-51d6-4d53-9955-c4317e2bbaa6",
   "metadata": {
    "scrolled": true,
    "tags": []
   },
   "outputs": [],
   "source": [
    "categorized_df_melt = (categorized_df_melt\n",
    "                       .groupby(['data_source','category'])\n",
    "                       .agg({'value':'sum'})\n",
    "                       .reset_index()\n",
    "                      )"
   ]
  },
  {
   "cell_type": "code",
   "execution_count": 225,
   "id": "d2812596-0898-49d3-bf02-7c31b92c3a9f",
   "metadata": {
    "scrolled": true,
    "tags": []
   },
   "outputs": [],
   "source": [
    "categorized_df_melt.category = categorized_df_melt.category.str.replace(\n",
    "    \"_\", \" \"\n",
    ").str.title()"
   ]
  },
  {
   "cell_type": "code",
   "execution_count": 226,
   "id": "54b8a289-0710-4d88-88e6-50c8350cf13d",
   "metadata": {},
   "outputs": [],
   "source": [
    "new_cols = [\n",
    "    \"active_transp\",\n",
    "    \"transit\",\n",
    "    \"bridge\",\n",
    "    \"street\",\n",
    "    \"freeway\",\n",
    "    \"infra_resiliency_er\",\n",
    "    \"congestion_relief\",\n",
    "    \"passenger_mode_shift\",\n",
    "    \"safety\",\n",
    "    \"managed_lanes\",\n",
    "]"
   ]
  },
  {
   "cell_type": "code",
   "execution_count": 227,
   "id": "c9a691be-be3b-4a37-a63f-07a64de9f01c",
   "metadata": {},
   "outputs": [],
   "source": [
    "category_projects_df = categorized_df[new_cols].sum(axis=0)"
   ]
  },
  {
   "cell_type": "code",
   "execution_count": 228,
   "id": "6d20e162-cb45-419f-b10d-5a31e9b12ab2",
   "metadata": {},
   "outputs": [],
   "source": [
    "category_projects_df = (\n",
    "    category_projects_df.to_frame()\n",
    "    .reset_index()\n",
    "    .rename(columns={\"index\": \"Category\", 0: \"Total Projects\"})\n",
    ")"
   ]
  },
  {
   "cell_type": "code",
   "execution_count": 229,
   "id": "c0b3474b-dd13-4c85-9d83-689b8d5153b1",
   "metadata": {},
   "outputs": [
    {
     "data": {
      "text/html": [
       "<div>\n",
       "<style scoped>\n",
       "    .dataframe tbody tr th:only-of-type {\n",
       "        vertical-align: middle;\n",
       "    }\n",
       "\n",
       "    .dataframe tbody tr th {\n",
       "        vertical-align: top;\n",
       "    }\n",
       "\n",
       "    .dataframe thead th {\n",
       "        text-align: right;\n",
       "    }\n",
       "</style>\n",
       "<table border=\"1\" class=\"dataframe\">\n",
       "  <thead>\n",
       "    <tr style=\"text-align: right;\">\n",
       "      <th></th>\n",
       "      <th>Category</th>\n",
       "      <th>Total Projects</th>\n",
       "    </tr>\n",
       "  </thead>\n",
       "  <tbody>\n",
       "    <tr>\n",
       "      <th>0</th>\n",
       "      <td>active_transp</td>\n",
       "      <td>3068.00</td>\n",
       "    </tr>\n",
       "    <tr>\n",
       "      <th>1</th>\n",
       "      <td>transit</td>\n",
       "      <td>1521.00</td>\n",
       "    </tr>\n",
       "    <tr>\n",
       "      <th>2</th>\n",
       "      <td>bridge</td>\n",
       "      <td>737.00</td>\n",
       "    </tr>\n",
       "    <tr>\n",
       "      <th>3</th>\n",
       "      <td>street</td>\n",
       "      <td>4404.00</td>\n",
       "    </tr>\n",
       "    <tr>\n",
       "      <th>4</th>\n",
       "      <td>freeway</td>\n",
       "      <td>712.00</td>\n",
       "    </tr>\n",
       "    <tr>\n",
       "      <th>5</th>\n",
       "      <td>infra_resiliency_er</td>\n",
       "      <td>2488.00</td>\n",
       "    </tr>\n",
       "    <tr>\n",
       "      <th>6</th>\n",
       "      <td>congestion_relief</td>\n",
       "      <td>81.00</td>\n",
       "    </tr>\n",
       "    <tr>\n",
       "      <th>7</th>\n",
       "      <td>passenger_mode_shift</td>\n",
       "      <td>100.00</td>\n",
       "    </tr>\n",
       "    <tr>\n",
       "      <th>8</th>\n",
       "      <td>safety</td>\n",
       "      <td>458.00</td>\n",
       "    </tr>\n",
       "    <tr>\n",
       "      <th>9</th>\n",
       "      <td>managed_lanes</td>\n",
       "      <td>166.00</td>\n",
       "    </tr>\n",
       "  </tbody>\n",
       "</table>\n",
       "</div>"
      ],
      "text/plain": [
       "               Category  Total Projects\n",
       "0         active_transp         3068.00\n",
       "1               transit         1521.00\n",
       "2                bridge          737.00\n",
       "3                street         4404.00\n",
       "4               freeway          712.00\n",
       "5   infra_resiliency_er         2488.00\n",
       "6     congestion_relief           81.00\n",
       "7  passenger_mode_shift          100.00\n",
       "8                safety          458.00\n",
       "9         managed_lanes          166.00"
      ]
     },
     "execution_count": 229,
     "metadata": {},
     "output_type": "execute_result"
    }
   ],
   "source": [
    "category_projects_df"
   ]
  },
  {
   "cell_type": "code",
   "execution_count": 230,
   "id": "b12bb643-d818-4922-a857-ee2d5ef9fee8",
   "metadata": {},
   "outputs": [],
   "source": [
    "category_projects_df.Category = category_projects_df.Category.str.replace(\n",
    "    \"_\", \" \"\n",
    ").str.title()"
   ]
  },
  {
   "cell_type": "code",
   "execution_count": 231,
   "id": "08d709a7-e6a0-4b19-9005-4e51d5a083ee",
   "metadata": {},
   "outputs": [],
   "source": [
    "with pd.ExcelWriter(f\"{harmonization_utils.GCS_FILE_PATH}LRTP/categorized_datapalooza.xlsx\") as writer:\n",
    "    categorized_df.to_excel(writer, sheet_name=\"categorized\", index=False)\n",
    "    category_projects_df.to_excel(writer, sheet_name=\"total projects\", index=False)\n",
    "    categorized_df_melt.to_excel(writer, sheet_name=\"mpo_categorized\", index=False)"
   ]
  }
 ],
 "metadata": {
  "kernelspec": {
   "display_name": "Python 3 (ipykernel)",
   "language": "python",
   "name": "python3"
  },
  "language_info": {
   "codemirror_mode": {
    "name": "ipython",
    "version": 3
   },
   "file_extension": ".py",
   "mimetype": "text/x-python",
   "name": "python",
   "nbconvert_exporter": "python",
   "pygments_lexer": "ipython3",
   "version": "3.9.13"
  },
  "toc-autonumbering": false,
  "toc-showcode": false
 },
 "nbformat": 4,
 "nbformat_minor": 5
}
