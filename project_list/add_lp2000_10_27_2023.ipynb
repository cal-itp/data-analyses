{
 "cells": [
  {
   "cell_type": "code",
   "execution_count": 143,
   "id": "690f3834",
   "metadata": {},
   "outputs": [],
   "source": [
    "import pandas as pd \n",
    "import sqlalchemy \n",
    "import sys \n",
    "import re\n",
    "import oracledb "
   ]
  },
  {
   "cell_type": "code",
   "execution_count": 144,
   "id": "bc9c8556",
   "metadata": {},
   "outputs": [],
   "source": [
    "oracledb.version = \"8.3.0\" \n",
    "sys.modules[\"cx_Oracle\"] = oracledb "
   ]
  },
  {
   "cell_type": "code",
   "execution_count": 145,
   "id": "0d7cc5e7",
   "metadata": {},
   "outputs": [],
   "source": [
    "pd.options.display.max_columns = 100\n",
    "pd.options.display.float_format = \"{:.2f}\".format\n",
    "pd.set_option(\"display.max_rows\", None)\n",
    "pd.set_option(\"display.max_colwidth\", None)"
   ]
  },
  {
   "cell_type": "code",
   "execution_count": 146,
   "id": "150ac181",
   "metadata": {},
   "outputs": [],
   "source": [
    "DIALECT = 'oracle'  "
   ]
  },
  {
   "cell_type": "code",
   "execution_count": 148,
   "id": "bdf25f1a",
   "metadata": {},
   "outputs": [],
   "source": [
    "# Use SB1_READONLY login\n",
    "ENGINE_PATH_WIN_AUTH =  f\"{DIALECT}://{USERNAME}:{PASSWORD}@{HOST}:{PORT}/?service_name={SERVICE}\" "
   ]
  },
  {
   "cell_type": "code",
   "execution_count": 149,
   "id": "5595350c",
   "metadata": {},
   "outputs": [],
   "source": [
    "engine = sqlalchemy.create_engine(ENGINE_PATH_WIN_AUTH)   "
   ]
  },
  {
   "cell_type": "code",
   "execution_count": 150,
   "id": "14389690",
   "metadata": {},
   "outputs": [],
   "source": [
    "def to_snakecase(df):\n",
    "    df.columns = df.columns.str.lower().str.replace(' ','_')\n",
    "    return df"
   ]
  },
  {
   "cell_type": "markdown",
   "id": "44b09522",
   "metadata": {},
   "source": [
    "## Projects\n",
    "* Should I be filling in NA of comment_desc with other columns? Otherwise this information is going to be lost."
   ]
  },
  {
   "cell_type": "code",
   "execution_count": 151,
   "id": "c9bb15d4",
   "metadata": {
    "scrolled": true
   },
   "outputs": [],
   "source": [
    "projects_df = pd.read_sql_query(\"\"\" \n",
    "SELECT \n",
    "projects.project_id,\n",
    "projects.county_code,\n",
    "projects.comment_desc,\n",
    "projects.district_code, \n",
    "projects.est_total_prj_costs,\n",
    "projects.location_name,\n",
    "projects.project_label_name,\n",
    "projects.original_post_mile_begin_id,\n",
    "projects.original_post_mile_end_id,\n",
    "projects.revised_post_mile_begin_ind,\n",
    "projects.revised_post_mile_end_ind,\n",
    "projects.route_name,\n",
    "projects.state_hwy_ind,\n",
    "projects.senate_district_code,\n",
    "projects.project_category_type_code,\n",
    "projects.work_type_code,\n",
    "projects.update_date_time,\n",
    "local_agencies.agency_name,\n",
    "local_agencies.urban_area_code,\n",
    "counties.county_name,\n",
    "work_types.work_type_desc,\n",
    "project_category_type_codes.category_desc\n",
    "FROM projects \n",
    "LEFT JOIN local_agencies ON projects.agency_code = local_agencies.agency_code\n",
    "LEFT JOIN counties ON projects.county_code = counties.county_code\n",
    "LEFT JOIN work_types ON projects.work_type_code = work_types.work_type_code\n",
    "LEFT JOIN project_category_type_codes ON projects.project_category_type_code = project_category_type_codes.category_code\n",
    "WHERE projects.status_code = 'Active'\n",
    "\"\"\", engine) "
   ]
  },
  {
   "cell_type": "code",
   "execution_count": 152,
   "id": "9c6a6136",
   "metadata": {},
   "outputs": [],
   "source": [
    "projects_df.comment_desc = projects_df.comment_desc.fillna(projects_df.category_desc)"
   ]
  },
  {
   "cell_type": "code",
   "execution_count": 153,
   "id": "ca5a8ca7",
   "metadata": {},
   "outputs": [],
   "source": [
    "projects_df.comment_desc = projects_df.comment_desc.fillna(projects_df.work_type_desc)"
   ]
  },
  {
   "cell_type": "code",
   "execution_count": 154,
   "id": "b88da8ed",
   "metadata": {},
   "outputs": [],
   "source": [
    "projects_df = projects_df.drop(columns = ['work_type_code','project_category_type_code', 'county_code'])"
   ]
  },
  {
   "cell_type": "code",
   "execution_count": 155,
   "id": "3f0361ad",
   "metadata": {},
   "outputs": [],
   "source": [
    "projects_df['current_phase'] = 'single phase'"
   ]
  },
  {
   "cell_type": "code",
   "execution_count": 285,
   "id": "3a8ca472",
   "metadata": {},
   "outputs": [
    {
     "name": "stdout",
     "output_type": "stream",
     "text": [
      "<class 'pandas.core.frame.DataFrame'>\n",
      "RangeIndex: 11768 entries, 0 to 11767\n",
      "Data columns (total 20 columns):\n",
      " #   Column                       Non-Null Count  Dtype         \n",
      "---  ------                       --------------  -----         \n",
      " 0   project_id                   11768 non-null  object        \n",
      " 1   comment_desc                 10892 non-null  object        \n",
      " 2   district_code                11767 non-null  object        \n",
      " 3   est_total_prj_costs          1083 non-null   float64       \n",
      " 4   location_name                11401 non-null  object        \n",
      " 5   project_label_name           10906 non-null  object        \n",
      " 6   original_post_mile_begin_id  750 non-null    float64       \n",
      " 7   original_post_mile_end_id    576 non-null    float64       \n",
      " 8   revised_post_mile_begin_ind  20 non-null     object        \n",
      " 9   revised_post_mile_end_ind    15 non-null     object        \n",
      " 10  route_name                   11447 non-null  object        \n",
      " 11  state_hwy_ind                11405 non-null  object        \n",
      " 12  senate_district_code         0 non-null      object        \n",
      " 13  update_date_time             11699 non-null  datetime64[ns]\n",
      " 14  agency_name                  11767 non-null  object        \n",
      " 15  urban_area_code              5826 non-null   object        \n",
      " 16  county_name                  11763 non-null  object        \n",
      " 17  work_type_desc               2887 non-null   object        \n",
      " 18  category_desc                10055 non-null  object        \n",
      " 19  current_phase                11768 non-null  object        \n",
      "dtypes: datetime64[ns](1), float64(3), object(16)\n",
      "memory usage: 1.8+ MB\n"
     ]
    }
   ],
   "source": [
    "projects_df.info()"
   ]
  },
  {
   "cell_type": "markdown",
   "id": "e0fe254b",
   "metadata": {},
   "source": [
    "## EA Number\n",
    "* Projects can have multiple EA numbers.\n",
    "* Should we keep the most recent EA or all of them -> Ask Tony Hunt."
   ]
  },
  {
   "cell_type": "code",
   "execution_count": 156,
   "id": "fb96a824",
   "metadata": {},
   "outputs": [],
   "source": [
    "ea_df = pd.read_sql_query(\"\"\" \n",
    "SELECT \n",
    "project_id, \n",
    "district_code,\n",
    "ea_assign_date, \n",
    "expense_authorization_id \n",
    "FROM expense_authorizations\n",
    "\"\"\", engine) "
   ]
  },
  {
   "cell_type": "code",
   "execution_count": 157,
   "id": "44018131",
   "metadata": {},
   "outputs": [
    {
     "data": {
      "text/plain": [
       "((49431, 4), 24130)"
      ]
     },
     "execution_count": 157,
     "metadata": {},
     "output_type": "execute_result"
    }
   ],
   "source": [
    "ea_df.shape, ea_df.project_id.nunique()"
   ]
  },
  {
   "cell_type": "code",
   "execution_count": 158,
   "id": "eee7672c",
   "metadata": {},
   "outputs": [],
   "source": [
    "# Do an outer join to understand what's going on under the hood\n",
    "# outer_join = pd.merge(ea_df, projects_df4, on = ['district_code','project_id'], how = \"outer\", indicator = True)"
   ]
  },
  {
   "cell_type": "code",
   "execution_count": 159,
   "id": "8b7a6f5b",
   "metadata": {},
   "outputs": [],
   "source": [
    "# outer_join[['_merge']].value_counts()"
   ]
  },
  {
   "cell_type": "code",
   "execution_count": 160,
   "id": "8ca731d9",
   "metadata": {},
   "outputs": [],
   "source": [
    "# Understand why there are more rows compared to project_ids that are unique\n",
    "# outer_join.loc[outer_join._merge == \"both\"][['project_id']].nunique()"
   ]
  },
  {
   "cell_type": "code",
   "execution_count": 161,
   "id": "b2cb6d0c",
   "metadata": {},
   "outputs": [],
   "source": [
    "# Do an inner merge to get only projects we care about\n",
    "ea_df = pd.merge(projects_df, ea_df, on = ['district_code','project_id'], how = \"inner\")"
   ]
  },
  {
   "cell_type": "code",
   "execution_count": 162,
   "id": "8f6816c6",
   "metadata": {},
   "outputs": [],
   "source": [
    "ea_og_cols = ['district_code', 'expense_authorization_id', 'project_id',\n",
    "      'ea_assign_date']"
   ]
  },
  {
   "cell_type": "code",
   "execution_count": 163,
   "id": "638c4350",
   "metadata": {},
   "outputs": [],
   "source": [
    "# Keep only original columns \n",
    "ea_df = ea_df[ea_og_cols]"
   ]
  },
  {
   "cell_type": "code",
   "execution_count": 164,
   "id": "0547982c",
   "metadata": {},
   "outputs": [
    {
     "data": {
      "text/plain": [
       "3030"
      ]
     },
     "execution_count": 164,
     "metadata": {},
     "output_type": "execute_result"
    }
   ],
   "source": [
    "len(ea_df)"
   ]
  },
  {
   "cell_type": "code",
   "execution_count": 165,
   "id": "5c57055d",
   "metadata": {},
   "outputs": [
    {
     "data": {
      "text/plain": [
       "count   2944.00\n",
       "mean       1.03\n",
       "std        0.18\n",
       "min        1.00\n",
       "25%        1.00\n",
       "50%        1.00\n",
       "75%        1.00\n",
       "max        3.00\n",
       "Name: project_id, dtype: float64"
      ]
     },
     "execution_count": 165,
     "metadata": {},
     "output_type": "execute_result"
    }
   ],
   "source": [
    "ea_df.project_id.value_counts().describe()"
   ]
  },
  {
   "cell_type": "code",
   "execution_count": 166,
   "id": "f245bf36",
   "metadata": {},
   "outputs": [
    {
     "data": {
      "text/plain": [
       "2944"
      ]
     },
     "execution_count": 166,
     "metadata": {},
     "output_type": "execute_result"
    }
   ],
   "source": [
    "ea_df.project_id.nunique()"
   ]
  },
  {
   "cell_type": "code",
   "execution_count": 167,
   "id": "a03488a6",
   "metadata": {},
   "outputs": [
    {
     "data": {
      "text/plain": [
       "5008(072)    3\n",
       "5932(042)    3\n",
       "5006(504)    3\n",
       "5006(635)    3\n",
       "5953(536)    3\n",
       "Name: project_id, dtype: int64"
      ]
     },
     "execution_count": 167,
     "metadata": {},
     "output_type": "execute_result"
    }
   ],
   "source": [
    "ea_df.project_id.value_counts().head()"
   ]
  },
  {
   "cell_type": "code",
   "execution_count": 168,
   "id": "2a24acdd",
   "metadata": {},
   "outputs": [
    {
     "data": {
      "text/html": [
       "<div>\n",
       "<style scoped>\n",
       "    .dataframe tbody tr th:only-of-type {\n",
       "        vertical-align: middle;\n",
       "    }\n",
       "\n",
       "    .dataframe tbody tr th {\n",
       "        vertical-align: top;\n",
       "    }\n",
       "\n",
       "    .dataframe thead th {\n",
       "        text-align: right;\n",
       "    }\n",
       "</style>\n",
       "<table border=\"1\" class=\"dataframe\">\n",
       "  <thead>\n",
       "    <tr style=\"text-align: right;\">\n",
       "      <th></th>\n",
       "      <th>district_code</th>\n",
       "      <th>expense_authorization_id</th>\n",
       "      <th>project_id</th>\n",
       "      <th>ea_assign_date</th>\n",
       "    </tr>\n",
       "  </thead>\n",
       "  <tbody>\n",
       "    <tr>\n",
       "      <th>2381</th>\n",
       "      <td>07</td>\n",
       "      <td>4S6608</td>\n",
       "      <td>5006(635)</td>\n",
       "      <td>2009-09-10 13:58:44</td>\n",
       "    </tr>\n",
       "    <tr>\n",
       "      <th>2382</th>\n",
       "      <td>07</td>\n",
       "      <td>933575</td>\n",
       "      <td>5006(635)</td>\n",
       "      <td>2009-07-02 14:46:18</td>\n",
       "    </tr>\n",
       "    <tr>\n",
       "      <th>2383</th>\n",
       "      <td>07</td>\n",
       "      <td>4U4414</td>\n",
       "      <td>5006(635)</td>\n",
       "      <td>2009-09-10 13:56:35</td>\n",
       "    </tr>\n",
       "  </tbody>\n",
       "</table>\n",
       "</div>"
      ],
      "text/plain": [
       "     district_code expense_authorization_id project_id      ea_assign_date\n",
       "2381            07                   4S6608  5006(635) 2009-09-10 13:58:44\n",
       "2382            07                   933575  5006(635) 2009-07-02 14:46:18\n",
       "2383            07                   4U4414  5006(635) 2009-09-10 13:56:35"
      ]
     },
     "execution_count": 168,
     "metadata": {},
     "output_type": "execute_result"
    }
   ],
   "source": [
    "ea_df.loc[ea_df.project_id == '5006(635)']"
   ]
  },
  {
   "cell_type": "code",
   "execution_count": 169,
   "id": "682ff6e0",
   "metadata": {},
   "outputs": [],
   "source": [
    "# Keep only the most recent EA number so only one EA number per project??\n",
    "# Ea_df2 only keeps the most recent.\n",
    "ea_df2 = (ea_df\n",
    "          .sort_values(['ea_assign_date'], ascending = False)\n",
    "          .drop_duplicates(subset=['project_id','district_code'])\n",
    "          .drop(columns = ['ea_assign_date'])\n",
    "          .reset_index(drop = True)\n",
    "         )"
   ]
  },
  {
   "cell_type": "code",
   "execution_count": 170,
   "id": "c9bfb0a4",
   "metadata": {},
   "outputs": [
    {
     "data": {
      "text/plain": [
       "2944"
      ]
     },
     "execution_count": 170,
     "metadata": {},
     "output_type": "execute_result"
    }
   ],
   "source": [
    "ea_df2.project_id.nunique()"
   ]
  },
  {
   "cell_type": "code",
   "execution_count": 171,
   "id": "c6993849",
   "metadata": {},
   "outputs": [
    {
     "data": {
      "text/html": [
       "<div>\n",
       "<style scoped>\n",
       "    .dataframe tbody tr th:only-of-type {\n",
       "        vertical-align: middle;\n",
       "    }\n",
       "\n",
       "    .dataframe tbody tr th {\n",
       "        vertical-align: top;\n",
       "    }\n",
       "\n",
       "    .dataframe thead th {\n",
       "        text-align: right;\n",
       "    }\n",
       "</style>\n",
       "<table border=\"1\" class=\"dataframe\">\n",
       "  <thead>\n",
       "    <tr style=\"text-align: right;\">\n",
       "      <th></th>\n",
       "      <th>district_code</th>\n",
       "      <th>expense_authorization_id</th>\n",
       "      <th>project_id</th>\n",
       "    </tr>\n",
       "  </thead>\n",
       "  <tbody>\n",
       "    <tr>\n",
       "      <th>0</th>\n",
       "      <td>04</td>\n",
       "      <td>1Q7614</td>\n",
       "      <td>6204(135)</td>\n",
       "    </tr>\n",
       "    <tr>\n",
       "      <th>1</th>\n",
       "      <td>04</td>\n",
       "      <td>985981</td>\n",
       "      <td>6480(026)</td>\n",
       "    </tr>\n",
       "    <tr>\n",
       "      <th>2</th>\n",
       "      <td>04</td>\n",
       "      <td>985980</td>\n",
       "      <td>5933(171)</td>\n",
       "    </tr>\n",
       "    <tr>\n",
       "      <th>3</th>\n",
       "      <td>09</td>\n",
       "      <td>955175</td>\n",
       "      <td>6142(034)</td>\n",
       "    </tr>\n",
       "    <tr>\n",
       "      <th>4</th>\n",
       "      <td>04</td>\n",
       "      <td>985979</td>\n",
       "      <td>5178(016)</td>\n",
       "    </tr>\n",
       "  </tbody>\n",
       "</table>\n",
       "</div>"
      ],
      "text/plain": [
       "  district_code expense_authorization_id project_id\n",
       "0            04                   1Q7614  6204(135)\n",
       "1            04                   985981  6480(026)\n",
       "2            04                   985980  5933(171)\n",
       "3            09                   955175  6142(034)\n",
       "4            04                   985979  5178(016)"
      ]
     },
     "execution_count": 171,
     "metadata": {},
     "output_type": "execute_result"
    }
   ],
   "source": [
    "ea_df2.head()"
   ]
  },
  {
   "cell_type": "code",
   "execution_count": 172,
   "id": "f9eff2f3",
   "metadata": {},
   "outputs": [
    {
     "data": {
      "text/plain": [
       "2873"
      ]
     },
     "execution_count": 172,
     "metadata": {},
     "output_type": "execute_result"
    }
   ],
   "source": [
    "ea_df2.expense_authorization_id.nunique()"
   ]
  },
  {
   "cell_type": "markdown",
   "id": "19049968",
   "metadata": {},
   "source": [
    "#### The same EA number matches to multiple projects\n",
    "* Understand why this is happening\n",
    "* It seems like the same EA number matches multiple projects that have nothing in common."
   ]
  },
  {
   "cell_type": "code",
   "execution_count": 286,
   "id": "503db9e1",
   "metadata": {},
   "outputs": [
    {
     "data": {
      "text/html": [
       "<div>\n",
       "<style scoped>\n",
       "    .dataframe tbody tr th:only-of-type {\n",
       "        vertical-align: middle;\n",
       "    }\n",
       "\n",
       "    .dataframe tbody tr th {\n",
       "        vertical-align: top;\n",
       "    }\n",
       "\n",
       "    .dataframe thead th {\n",
       "        text-align: right;\n",
       "    }\n",
       "</style>\n",
       "<table border=\"1\" class=\"dataframe\">\n",
       "  <thead>\n",
       "    <tr style=\"text-align: right;\">\n",
       "      <th></th>\n",
       "      <th>district_code</th>\n",
       "      <th>expense_authorization_id</th>\n",
       "      <th>project_id</th>\n",
       "      <th>ea_assign_date</th>\n",
       "    </tr>\n",
       "  </thead>\n",
       "  <tbody>\n",
       "    <tr>\n",
       "      <th>127</th>\n",
       "      <td>01</td>\n",
       "      <td>924969</td>\n",
       "      <td>5904(114)</td>\n",
       "      <td>2011-02-28 10:37:39</td>\n",
       "    </tr>\n",
       "    <tr>\n",
       "      <th>404</th>\n",
       "      <td>03</td>\n",
       "      <td>924969</td>\n",
       "      <td>5238(018)</td>\n",
       "      <td>1998-06-04 00:00:00</td>\n",
       "    </tr>\n",
       "    <tr>\n",
       "      <th>1428</th>\n",
       "      <td>08</td>\n",
       "      <td>924969</td>\n",
       "      <td>NBIL(502)</td>\n",
       "      <td>2006-06-23 16:18:52</td>\n",
       "    </tr>\n",
       "  </tbody>\n",
       "</table>\n",
       "</div>"
      ],
      "text/plain": [
       "     district_code expense_authorization_id project_id      ea_assign_date\n",
       "127             01                   924969  5904(114) 2011-02-28 10:37:39\n",
       "404             03                   924969  5238(018) 1998-06-04 00:00:00\n",
       "1428            08                   924969  NBIL(502) 2006-06-23 16:18:52"
      ]
     },
     "execution_count": 286,
     "metadata": {},
     "output_type": "execute_result"
    }
   ],
   "source": [
    "ea_df.loc[ea_df.expense_authorization_id == \"924969\"]"
   ]
  },
  {
   "cell_type": "code",
   "execution_count": 287,
   "id": "0582d2a5",
   "metadata": {},
   "outputs": [
    {
     "data": {
      "text/html": [
       "<div>\n",
       "<style scoped>\n",
       "    .dataframe tbody tr th:only-of-type {\n",
       "        vertical-align: middle;\n",
       "    }\n",
       "\n",
       "    .dataframe tbody tr th {\n",
       "        vertical-align: top;\n",
       "    }\n",
       "\n",
       "    .dataframe thead th {\n",
       "        text-align: right;\n",
       "    }\n",
       "</style>\n",
       "<table border=\"1\" class=\"dataframe\">\n",
       "  <thead>\n",
       "    <tr style=\"text-align: right;\">\n",
       "      <th></th>\n",
       "      <th>district_code</th>\n",
       "      <th>expense_authorization_id</th>\n",
       "      <th>project_id</th>\n",
       "      <th>ea_assign_date</th>\n",
       "    </tr>\n",
       "  </thead>\n",
       "  <tbody>\n",
       "    <tr>\n",
       "      <th>424</th>\n",
       "      <td>08</td>\n",
       "      <td>924360</td>\n",
       "      <td>0061(025)</td>\n",
       "      <td>1998-12-23 00:00:00</td>\n",
       "    </tr>\n",
       "    <tr>\n",
       "      <th>1248</th>\n",
       "      <td>04</td>\n",
       "      <td>924360</td>\n",
       "      <td>6003(030)</td>\n",
       "      <td>2005-05-17 15:25:28</td>\n",
       "    </tr>\n",
       "  </tbody>\n",
       "</table>\n",
       "</div>"
      ],
      "text/plain": [
       "     district_code expense_authorization_id project_id      ea_assign_date\n",
       "424             08                   924360  0061(025) 1998-12-23 00:00:00\n",
       "1248            04                   924360  6003(030) 2005-05-17 15:25:28"
      ]
     },
     "execution_count": 287,
     "metadata": {},
     "output_type": "execute_result"
    }
   ],
   "source": [
    "ea_df.loc[ea_df.expense_authorization_id == \"924360\"]"
   ]
  },
  {
   "cell_type": "code",
   "execution_count": 175,
   "id": "e58e2bc7",
   "metadata": {},
   "outputs": [],
   "source": [
    "#ea_df2.project_id.nunique() == len(ea_df2)"
   ]
  },
  {
   "cell_type": "code",
   "execution_count": 176,
   "id": "36be128e",
   "metadata": {},
   "outputs": [],
   "source": [
    "#len(projects_df6) == len(projects_df)"
   ]
  },
  {
   "cell_type": "markdown",
   "id": "f22f3bd9",
   "metadata": {},
   "source": [
    "* Shares the EA of 924360"
   ]
  },
  {
   "cell_type": "code",
   "execution_count": 177,
   "id": "c4327e30",
   "metadata": {},
   "outputs": [],
   "source": [
    "#projects_df6.loc[projects_df6.project_id == '0061(025)'][preview_cols]"
   ]
  },
  {
   "cell_type": "markdown",
   "id": "7e25fe9c",
   "metadata": {},
   "source": [
    "## EFIS_MV_BUD_STRU_94_LVL_3_VW\n",
    "* Advantage information\n",
    "* LP2000 projects only use pec_code 2030\n",
    "* 10/30: to do, combine the query with efis_join_df"
   ]
  },
  {
   "cell_type": "code",
   "execution_count": 178,
   "id": "f9f06cfa",
   "metadata": {},
   "outputs": [],
   "source": [
    "efis_df = pd.read_sql_query(\"\"\" \n",
    "SELECT \n",
    "adv_project_id,\n",
    "fund_code,\n",
    "pec_code,\n",
    "appropriation_category_code,\n",
    "curr_bud_am,\n",
    "cash_exp_am,\n",
    "pect_task_code\n",
    "FROM EFIS_MV_BUD_STRU_94_LVL_3_VW\n",
    "WHERE pec_code LIKE '%2030%'\n",
    "\"\"\", engine) "
   ]
  },
  {
   "cell_type": "code",
   "execution_count": 179,
   "id": "dfb521d0",
   "metadata": {},
   "outputs": [
    {
     "data": {
      "text/plain": [
       "(45227, 7)"
      ]
     },
     "execution_count": 179,
     "metadata": {},
     "output_type": "execute_result"
    }
   ],
   "source": [
    "efis_df.shape"
   ]
  },
  {
   "cell_type": "code",
   "execution_count": 180,
   "id": "52422939",
   "metadata": {},
   "outputs": [
    {
     "data": {
      "text/plain": [
       "19552"
      ]
     },
     "execution_count": 180,
     "metadata": {},
     "output_type": "execute_result"
    }
   ],
   "source": [
    "efis_df.adv_project_id.nunique()"
   ]
  },
  {
   "cell_type": "markdown",
   "id": "e8befd89",
   "metadata": {},
   "source": [
    "### Efis Join\n",
    "* In SQL: Filtering out 9's also eliminates nulls, which means newer projects or projects with statuses are also eliminated, so I am filtering this out in Python at a later stage.\n"
   ]
  },
  {
   "cell_type": "code",
   "execution_count": 181,
   "id": "e046b88c",
   "metadata": {},
   "outputs": [],
   "source": [
    "efis_join_df = pd.read_sql_query(\"\"\" \n",
    "SELECT \n",
    "adv_project_id,\n",
    "project_id,\n",
    "project_status_code\n",
    "FROM EFIS_MV_R_PROG_VW \n",
    "\"\"\", engine) "
   ]
  },
  {
   "cell_type": "markdown",
   "id": "d1c4df99",
   "metadata": {},
   "source": [
    "* Exclude project status because it's just the financial status of the project, not construction or whatever."
   ]
  },
  {
   "cell_type": "code",
   "execution_count": 182,
   "id": "a7232b09",
   "metadata": {},
   "outputs": [],
   "source": [
    "#project_status = pd.read_sql_query(\"\"\" \n",
    "#SELECT DISTINCT project_status_code, \n",
    "#project_status\n",
    "#FROM ACCOUNTING_EXP_CWA_VW  \n",
    "#\"\"\", engine) "
   ]
  },
  {
   "cell_type": "code",
   "execution_count": 183,
   "id": "c1a9bf0e",
   "metadata": {},
   "outputs": [],
   "source": [
    "# project_status"
   ]
  },
  {
   "cell_type": "code",
   "execution_count": 184,
   "id": "e811b5e2",
   "metadata": {},
   "outputs": [],
   "source": [
    "# Have to fill in nans with no status\n",
    "efis_join_df.project_status_code = efis_join_df.project_status_code.fillna('no status')"
   ]
  },
  {
   "cell_type": "code",
   "execution_count": 185,
   "id": "9c7336f8",
   "metadata": {},
   "outputs": [],
   "source": [
    "# Filter out all 9 codes because this means the project is closed\n",
    "efis_join_df2 = efis_join_df.loc[~efis_join_df.project_status_code.str.contains('9')]"
   ]
  },
  {
   "cell_type": "code",
   "execution_count": 186,
   "id": "4d42c325",
   "metadata": {},
   "outputs": [],
   "source": [
    "# Drop project status code. This is just about the project status from the \n",
    "# Accounting POV\n",
    "efis_join_df2 = efis_join_df2.drop(columns = ['project_status_code'])"
   ]
  },
  {
   "cell_type": "code",
   "execution_count": 187,
   "id": "0f8623fb",
   "metadata": {},
   "outputs": [
    {
     "data": {
      "text/plain": [
       "_merge    \n",
       "left_only     34284\n",
       "both          10958\n",
       "right_only       85\n",
       "dtype: int64"
      ]
     },
     "execution_count": 187,
     "metadata": {},
     "output_type": "execute_result"
    }
   ],
   "source": [
    "pd.merge(efis_df, efis_join_df2, on = ['adv_project_id'], how = 'outer', indicator = True)[['_merge']].value_counts()"
   ]
  },
  {
   "cell_type": "code",
   "execution_count": 188,
   "id": "8a6cde72",
   "metadata": {},
   "outputs": [],
   "source": [
    "efis_m1 = pd.merge(efis_df, efis_join_df2, on = ['adv_project_id'], how = 'inner')"
   ]
  },
  {
   "cell_type": "markdown",
   "id": "35caae64",
   "metadata": {},
   "source": [
    "* 77 project ids missing after inner join."
   ]
  },
  {
   "cell_type": "code",
   "execution_count": 189,
   "id": "afceb420",
   "metadata": {},
   "outputs": [
    {
     "data": {
      "text/plain": [
       "4788"
      ]
     },
     "execution_count": 189,
     "metadata": {},
     "output_type": "execute_result"
    }
   ],
   "source": [
    "efis_join_df2.project_id.nunique()"
   ]
  },
  {
   "cell_type": "code",
   "execution_count": 190,
   "id": "f89ecbbd",
   "metadata": {},
   "outputs": [
    {
     "data": {
      "text/plain": [
       "4718"
      ]
     },
     "execution_count": 190,
     "metadata": {},
     "output_type": "execute_result"
    }
   ],
   "source": [
    "efis_m1.project_id.nunique()"
   ]
  },
  {
   "cell_type": "markdown",
   "id": "6f2a4ece",
   "metadata": {},
   "source": [
    "## Subset only  for the relevant project_ids from `Projects`\n",
    "* Before manipulating"
   ]
  },
  {
   "cell_type": "code",
   "execution_count": 191,
   "id": "f11e6fc4",
   "metadata": {},
   "outputs": [],
   "source": [
    "projects_df_subset = projects_df[['project_id']].drop_duplicates().reset_index(drop = True)"
   ]
  },
  {
   "cell_type": "code",
   "execution_count": 192,
   "id": "83b1c540",
   "metadata": {},
   "outputs": [
    {
     "data": {
      "text/plain": [
       "(11768, (11768, 1))"
      ]
     },
     "execution_count": 192,
     "metadata": {},
     "output_type": "execute_result"
    }
   ],
   "source": [
    "# Make sure it's unique\n",
    "projects_df_subset.project_id.nunique(), projects_df_subset.shape"
   ]
  },
  {
   "cell_type": "code",
   "execution_count": 193,
   "id": "983ce05c",
   "metadata": {},
   "outputs": [
    {
     "data": {
      "text/plain": [
       "(11768, 1)"
      ]
     },
     "execution_count": 193,
     "metadata": {},
     "output_type": "execute_result"
    }
   ],
   "source": [
    "projects_df_subset.shape"
   ]
  },
  {
   "cell_type": "code",
   "execution_count": 194,
   "id": "a2cf22ad",
   "metadata": {},
   "outputs": [
    {
     "data": {
      "text/plain": [
       "_merge    \n",
       "both          10289\n",
       "right_only     7463\n",
       "left_only       669\n",
       "dtype: int64"
      ]
     },
     "execution_count": 194,
     "metadata": {},
     "output_type": "execute_result"
    }
   ],
   "source": [
    "pd.merge(efis_m1, projects_df_subset, on = ['project_id'], how = 'outer', indicator = True)[['_merge']].value_counts()"
   ]
  },
  {
   "cell_type": "code",
   "execution_count": 195,
   "id": "cb24c2e2",
   "metadata": {},
   "outputs": [],
   "source": [
    "accounting_df = pd.merge(efis_m1, projects_df_subset, on = ['project_id'], how = 'inner')"
   ]
  },
  {
   "cell_type": "code",
   "execution_count": 196,
   "id": "9b238f72",
   "metadata": {},
   "outputs": [
    {
     "data": {
      "text/plain": [
       "4305"
      ]
     },
     "execution_count": 196,
     "metadata": {},
     "output_type": "execute_result"
    }
   ],
   "source": [
    "\n",
    "accounting_df.project_id.nunique()"
   ]
  },
  {
   "cell_type": "code",
   "execution_count": 197,
   "id": "f83ce15d",
   "metadata": {},
   "outputs": [
    {
     "data": {
      "text/plain": [
       "6211(130)    32\n",
       "5908(031)    28\n",
       "6053(130)    27\n",
       "6211(131)    27\n",
       "5006(219)    23\n",
       "Name: project_id, dtype: int64"
      ]
     },
     "execution_count": 197,
     "metadata": {},
     "output_type": "execute_result"
    }
   ],
   "source": [
    "accounting_df.project_id.value_counts().head()"
   ]
  },
  {
   "cell_type": "markdown",
   "id": "3e7dd4af",
   "metadata": {},
   "source": [
    "## Bring in pect_description for `Projects` -> Double Check\n",
    "* PEC codes that are not supposed to have a corresponding PECT code have one after my manipulation -> Correct this.\n",
    "* Also need to keep the second duplicate because it's the more recent one\n",
    "* From section 2: https://accounting.onramp.dot.ca.gov/manual/7-program-codes\n",
    "* Double check with LP2000 team this is a correct way of thinking."
   ]
  },
  {
   "cell_type": "code",
   "execution_count": 198,
   "id": "33194243",
   "metadata": {},
   "outputs": [],
   "source": [
    "def load_pec(excel_file:str)-> pd.DataFrame:\n",
    "    df = to_snakecase(pd.read_excel(excel_file))\n",
    "    \n",
    "    # Drop rows that are all nan\n",
    "    df = df.dropna(how='all').reset_index(drop =  True)\n",
    "    \n",
    "    # Keep ONLY rows that have \"X\" under 23/24\n",
    "    # That means they are still relevant\n",
    "    df2 = df.loc[df['23/24'] == 'X'].reset_index(drop = True)\n",
    "    \n",
    "    df2 = df2.drop(columns = ['19/20', '20/21', '21/22', '22/23', '23/24'])\n",
    "    # Find program ONLY rows\n",
    "    program_only = (df2\n",
    "             .drop_duplicates(subset = ['pec'])\n",
    "             .dropna(how='all')\n",
    "             .reset_index(drop = True)\n",
    "             .drop(columns = ['pect'])\n",
    "             .rename(columns = {'description':'program'})\n",
    "            )\n",
    "    \n",
    "    # Merge to get program plus pect\n",
    "    m1 = pd.merge(df2, program_only, how = \"left\", on = ['pec'])\n",
    "    m1 = (m1\n",
    "          .sort_values(['pec','pect'], ascending = [True, False])\n",
    "          .drop_duplicates(subset=['pec', 'description', 'program'])\n",
    "          .rename(columns = {'description':'pect_description'})\n",
    "          .sort_values(['pec','pect'])\n",
    "          .reset_index(drop = True)\n",
    "         )\n",
    "\n",
    "    m1.pec = m1.pec.str.replace('.','')\n",
    "    m1.pect = m1.pect.fillna(0).astype(int)\n",
    "    return m1"
   ]
  },
  {
   "cell_type": "code",
   "execution_count": 199,
   "id": "96b9ab27",
   "metadata": {},
   "outputs": [
    {
     "name": "stderr",
     "output_type": "stream",
     "text": [
      "C:\\Users\\S154408\\AppData\\Local\\ESRI\\conda\\envs\\arcgispro-py3-clone\\lib\\site-packages\\ipykernel_launcher.py:31: FutureWarning: The default value of regex will change from True to False in a future version. In addition, single character regular expressions will*not* be treated as literal strings when regex=True.\n"
     ]
    }
   ],
   "source": [
    "final_pect = load_pec('section2_pect_2023_2024_FY.xlsx')"
   ]
  },
  {
   "cell_type": "code",
   "execution_count": 200,
   "id": "da554116",
   "metadata": {},
   "outputs": [
    {
     "data": {
      "text/plain": [
       "(799, 4)"
      ]
     },
     "execution_count": 200,
     "metadata": {},
     "output_type": "execute_result"
    }
   ],
   "source": [
    "final_pect.shape"
   ]
  },
  {
   "cell_type": "code",
   "execution_count": 201,
   "id": "9abb7310",
   "metadata": {},
   "outputs": [
    {
     "data": {
      "text/html": [
       "<div>\n",
       "<style scoped>\n",
       "    .dataframe tbody tr th:only-of-type {\n",
       "        vertical-align: middle;\n",
       "    }\n",
       "\n",
       "    .dataframe tbody tr th {\n",
       "        vertical-align: top;\n",
       "    }\n",
       "\n",
       "    .dataframe thead th {\n",
       "        text-align: right;\n",
       "    }\n",
       "</style>\n",
       "<table border=\"1\" class=\"dataframe\">\n",
       "  <thead>\n",
       "    <tr style=\"text-align: right;\">\n",
       "      <th></th>\n",
       "      <th>pec</th>\n",
       "      <th>pect</th>\n",
       "      <th>pect_description</th>\n",
       "      <th>program</th>\n",
       "    </tr>\n",
       "  </thead>\n",
       "  <tbody>\n",
       "    <tr>\n",
       "      <th>720</th>\n",
       "      <td>4050203</td>\n",
       "      <td>845</td>\n",
       "      <td>Dumbarton Bridge RM1</td>\n",
       "      <td>Toll Bridge Program</td>\n",
       "    </tr>\n",
       "    <tr>\n",
       "      <th>476</th>\n",
       "      <td>2080385</td>\n",
       "      <td>851</td>\n",
       "      <td>Reimbursement from BATA - Antioch</td>\n",
       "      <td>Reimbursement of Toll Bridge Maintenance and Toll Collection Costs from the Bay Area Toll Authority ( BATA)</td>\n",
       "    </tr>\n",
       "    <tr>\n",
       "      <th>486</th>\n",
       "      <td>2080410</td>\n",
       "      <td>0</td>\n",
       "      <td>Lighting</td>\n",
       "      <td>Lighting</td>\n",
       "    </tr>\n",
       "  </tbody>\n",
       "</table>\n",
       "</div>"
      ],
      "text/plain": [
       "         pec  pect                   pect_description  \\\n",
       "720  4050203   845               Dumbarton Bridge RM1   \n",
       "476  2080385   851  Reimbursement from BATA - Antioch   \n",
       "486  2080410     0                           Lighting   \n",
       "\n",
       "                                                                                                         program  \n",
       "720                                                                                          Toll Bridge Program  \n",
       "476  Reimbursement of Toll Bridge Maintenance and Toll Collection Costs from the Bay Area Toll Authority ( BATA)  \n",
       "486                                                                                                     Lighting  "
      ]
     },
     "execution_count": 201,
     "metadata": {},
     "output_type": "execute_result"
    }
   ],
   "source": [
    "final_pect.sample(3)"
   ]
  },
  {
   "cell_type": "markdown",
   "id": "4e3e39a6",
   "metadata": {},
   "source": [
    "### Turn this part to script once finalized"
   ]
  },
  {
   "cell_type": "code",
   "execution_count": 202,
   "id": "9d07dc9c",
   "metadata": {},
   "outputs": [],
   "source": [
    "accounting_df.pect_task_code = accounting_df.pect_task_code.fillna(0).astype(int)"
   ]
  },
  {
   "cell_type": "code",
   "execution_count": 203,
   "id": "50498b4b",
   "metadata": {},
   "outputs": [],
   "source": [
    "pect_df = pd.merge(accounting_df, final_pect, left_on = ['pec_code', 'pect_task_code'], right_on = ['pec', 'pect'], how = 'left')"
   ]
  },
  {
   "cell_type": "code",
   "execution_count": 204,
   "id": "de116827",
   "metadata": {},
   "outputs": [
    {
     "data": {
      "text/html": [
       "<div>\n",
       "<style scoped>\n",
       "    .dataframe tbody tr th:only-of-type {\n",
       "        vertical-align: middle;\n",
       "    }\n",
       "\n",
       "    .dataframe tbody tr th {\n",
       "        vertical-align: top;\n",
       "    }\n",
       "\n",
       "    .dataframe thead th {\n",
       "        text-align: right;\n",
       "    }\n",
       "</style>\n",
       "<table border=\"1\" class=\"dataframe\">\n",
       "  <thead>\n",
       "    <tr style=\"text-align: right;\">\n",
       "      <th></th>\n",
       "      <th>adv_project_id</th>\n",
       "      <th>fund_code</th>\n",
       "      <th>pec_code</th>\n",
       "      <th>appropriation_category_code</th>\n",
       "      <th>curr_bud_am</th>\n",
       "      <th>cash_exp_am</th>\n",
       "      <th>pect_task_code</th>\n",
       "      <th>project_id</th>\n",
       "    </tr>\n",
       "  </thead>\n",
       "  <tbody>\n",
       "    <tr>\n",
       "      <th>0</th>\n",
       "      <td>0000001449</td>\n",
       "      <td>0042</td>\n",
       "      <td>2030010</td>\n",
       "      <td>0809</td>\n",
       "      <td>0.00</td>\n",
       "      <td>-38.99</td>\n",
       "      <td>535</td>\n",
       "      <td>6200(024)</td>\n",
       "    </tr>\n",
       "  </tbody>\n",
       "</table>\n",
       "</div>"
      ],
      "text/plain": [
       "  adv_project_id fund_code pec_code appropriation_category_code  curr_bud_am  \\\n",
       "0     0000001449      0042  2030010                        0809         0.00   \n",
       "\n",
       "   cash_exp_am  pect_task_code project_id  \n",
       "0       -38.99             535  6200(024)  "
      ]
     },
     "execution_count": 204,
     "metadata": {},
     "output_type": "execute_result"
    }
   ],
   "source": [
    "accounting_df.head(1)"
   ]
  },
  {
   "cell_type": "code",
   "execution_count": 205,
   "id": "f6915f79",
   "metadata": {},
   "outputs": [
    {
     "data": {
      "text/html": [
       "<div>\n",
       "<style scoped>\n",
       "    .dataframe tbody tr th:only-of-type {\n",
       "        vertical-align: middle;\n",
       "    }\n",
       "\n",
       "    .dataframe tbody tr th {\n",
       "        vertical-align: top;\n",
       "    }\n",
       "\n",
       "    .dataframe thead th {\n",
       "        text-align: right;\n",
       "    }\n",
       "</style>\n",
       "<table border=\"1\" class=\"dataframe\">\n",
       "  <thead>\n",
       "    <tr style=\"text-align: right;\">\n",
       "      <th></th>\n",
       "      <th>adv_project_id</th>\n",
       "      <th>fund_code</th>\n",
       "      <th>pec_code</th>\n",
       "      <th>appropriation_category_code</th>\n",
       "      <th>curr_bud_am</th>\n",
       "      <th>cash_exp_am</th>\n",
       "      <th>pect_task_code</th>\n",
       "      <th>project_id</th>\n",
       "      <th>pec</th>\n",
       "      <th>pect</th>\n",
       "      <th>pect_description</th>\n",
       "      <th>program</th>\n",
       "    </tr>\n",
       "  </thead>\n",
       "  <tbody>\n",
       "    <tr>\n",
       "      <th>7498</th>\n",
       "      <td>0813000007</td>\n",
       "      <td>0890</td>\n",
       "      <td>2030010</td>\n",
       "      <td>1112</td>\n",
       "      <td>1645967.06</td>\n",
       "      <td>1645967.06</td>\n",
       "      <td>300</td>\n",
       "      <td>5954(108)</td>\n",
       "      <td>2030010</td>\n",
       "      <td>300.00</td>\n",
       "      <td>Highway Bridge</td>\n",
       "      <td>Local Assistance</td>\n",
       "    </tr>\n",
       "    <tr>\n",
       "      <th>4227</th>\n",
       "      <td>0517000187</td>\n",
       "      <td>0890</td>\n",
       "      <td>2030010</td>\n",
       "      <td>2122</td>\n",
       "      <td>82876.00</td>\n",
       "      <td>0.00</td>\n",
       "      <td>650</td>\n",
       "      <td>32L0(084)</td>\n",
       "      <td>2030010</td>\n",
       "      <td>650.00</td>\n",
       "      <td>Emergency Relief (ER)</td>\n",
       "      <td>Local Assistance</td>\n",
       "    </tr>\n",
       "    <tr>\n",
       "      <th>2899</th>\n",
       "      <td>0416000110</td>\n",
       "      <td>0890</td>\n",
       "      <td>2030010</td>\n",
       "      <td>1516</td>\n",
       "      <td>126000.00</td>\n",
       "      <td>126000.00</td>\n",
       "      <td>300</td>\n",
       "      <td>5094(065)</td>\n",
       "      <td>2030010</td>\n",
       "      <td>300.00</td>\n",
       "      <td>Highway Bridge</td>\n",
       "      <td>Local Assistance</td>\n",
       "    </tr>\n",
       "  </tbody>\n",
       "</table>\n",
       "</div>"
      ],
      "text/plain": [
       "     adv_project_id fund_code pec_code appropriation_category_code  \\\n",
       "7498     0813000007      0890  2030010                        1112   \n",
       "4227     0517000187      0890  2030010                        2122   \n",
       "2899     0416000110      0890  2030010                        1516   \n",
       "\n",
       "      curr_bud_am  cash_exp_am  pect_task_code project_id      pec   pect  \\\n",
       "7498   1645967.06   1645967.06             300  5954(108)  2030010 300.00   \n",
       "4227     82876.00         0.00             650  32L0(084)  2030010 650.00   \n",
       "2899    126000.00    126000.00             300  5094(065)  2030010 300.00   \n",
       "\n",
       "           pect_description           program  \n",
       "7498        Highway Bridge   Local Assistance  \n",
       "4227  Emergency Relief (ER)  Local Assistance  \n",
       "2899        Highway Bridge   Local Assistance  "
      ]
     },
     "execution_count": 205,
     "metadata": {},
     "output_type": "execute_result"
    }
   ],
   "source": [
    "pect_df.sample(3)"
   ]
  },
  {
   "cell_type": "code",
   "execution_count": 206,
   "id": "d17b923a",
   "metadata": {},
   "outputs": [
    {
     "data": {
      "text/plain": [
       "(10289, 4305)"
      ]
     },
     "execution_count": 206,
     "metadata": {},
     "output_type": "execute_result"
    }
   ],
   "source": [
    "len(pect_df), pect_df.project_id.nunique()"
   ]
  },
  {
   "cell_type": "code",
   "execution_count": 207,
   "id": "84a31505",
   "metadata": {},
   "outputs": [],
   "source": [
    "# Subset \n",
    "pect_df2 = pect_df[['pect_description','curr_bud_am', 'project_id']]"
   ]
  },
  {
   "cell_type": "code",
   "execution_count": 208,
   "id": "863b113e",
   "metadata": {},
   "outputs": [],
   "source": [
    "# Need to fill in NA so it'll appear in the pivot properly\n",
    "pect_df2 = pect_df2.fillna('Unknown')"
   ]
  },
  {
   "cell_type": "code",
   "execution_count": 209,
   "id": "8d33c12c",
   "metadata": {},
   "outputs": [
    {
     "data": {
      "text/plain": [
       "10096"
      ]
     },
     "execution_count": 209,
     "metadata": {},
     "output_type": "execute_result"
    }
   ],
   "source": [
    "# Drop duplicates because we only need one PECT description & project_id combo\n",
    "len(pect_df2.drop_duplicates())"
   ]
  },
  {
   "cell_type": "code",
   "execution_count": 210,
   "id": "27c3a8a5",
   "metadata": {},
   "outputs": [],
   "source": [
    "pect_df2 = pect_df2.drop_duplicates().reset_index(drop = True)"
   ]
  },
  {
   "cell_type": "code",
   "execution_count": 211,
   "id": "56fbc89c",
   "metadata": {},
   "outputs": [],
   "source": [
    "# Pivot so the PECT_description becomes the columns\n",
    "# curr_bud_sum are just placeholders\n",
    "pect_df3 = pect_df2.pivot_table(index=['project_id'], columns='pect_description', \n",
    "                    values=['curr_bud_am'], aggfunc='sum')"
   ]
  },
  {
   "cell_type": "code",
   "execution_count": 212,
   "id": "f53db68f",
   "metadata": {},
   "outputs": [],
   "source": [
    "pect_df3.columns = pect_df3.columns.droplevel()"
   ]
  },
  {
   "cell_type": "code",
   "execution_count": 213,
   "id": "62d990e9",
   "metadata": {},
   "outputs": [],
   "source": [
    "pect_df3 = pect_df3.reset_index()"
   ]
  },
  {
   "cell_type": "code",
   "execution_count": 214,
   "id": "d065468d",
   "metadata": {},
   "outputs": [],
   "source": [
    "pect_df3 = pect_df3.fillna('No')"
   ]
  },
  {
   "cell_type": "code",
   "execution_count": 215,
   "id": "182af512",
   "metadata": {},
   "outputs": [
    {
     "data": {
      "text/plain": [
       "(4305, 4305, 4305)"
      ]
     },
     "execution_count": 215,
     "metadata": {},
     "output_type": "execute_result"
    }
   ],
   "source": [
    "pect_df3.project_id.nunique(), pect_df2.project_id.nunique(), pect_df.project_id.nunique()"
   ]
  },
  {
   "cell_type": "code",
   "execution_count": 216,
   "id": "391cfc99",
   "metadata": {},
   "outputs": [],
   "source": [
    "pect_df3 = to_snakecase(pect_df3)"
   ]
  },
  {
   "cell_type": "code",
   "execution_count": 217,
   "id": "98a7e1a6",
   "metadata": {
    "scrolled": true
   },
   "outputs": [],
   "source": [
    "#pect_df3projects = set(pect_df3.project_id.unique().tolist())\n",
    "#pect_df2projects = set(pect_df2.project_id.unique().tolist())\n",
    "#pect_df2projects - pect_df3projects"
   ]
  },
  {
   "cell_type": "code",
   "execution_count": 218,
   "id": "6a5e322b",
   "metadata": {},
   "outputs": [],
   "source": [
    "# pect_df2[pect_df2.project_id == '6115(006)']"
   ]
  },
  {
   "cell_type": "code",
   "execution_count": 219,
   "id": "1e767e54",
   "metadata": {},
   "outputs": [],
   "source": [
    "# Change integers to yes \n",
    "pect_df3 = pect_df3.mask(pect_df3.apply(lambda x : pd.to_numeric(x,errors='coerce')).notnull(),'Yes')"
   ]
  },
  {
   "cell_type": "code",
   "execution_count": 220,
   "id": "864532fc",
   "metadata": {},
   "outputs": [
    {
     "data": {
      "text/plain": [
       "_merge    \n",
       "right_only    7463\n",
       "both          4305\n",
       "left_only        0\n",
       "dtype: int64"
      ]
     },
     "execution_count": 220,
     "metadata": {},
     "output_type": "execute_result"
    }
   ],
   "source": [
    "pd.merge(pect_df3, projects_df, on = ['project_id'], how = 'outer', indicator = True)[['_merge']].value_counts()"
   ]
  },
  {
   "cell_type": "code",
   "execution_count": 221,
   "id": "499e4dcc",
   "metadata": {},
   "outputs": [],
   "source": [
    "# Remove project_id to fill in unknowns later on\n",
    "pect_code_cols = list(pect_df3.columns)\n",
    "pect_code_cols.remove('project_id')"
   ]
  },
  {
   "cell_type": "code",
   "execution_count": 222,
   "id": "4c59d9e9",
   "metadata": {},
   "outputs": [],
   "source": [
    "# Update projects\n",
    "project_df = pd.merge(projects_df, pect_df3, on = ['project_id'], how = 'left')"
   ]
  },
  {
   "cell_type": "code",
   "execution_count": 223,
   "id": "83765a97",
   "metadata": {},
   "outputs": [
    {
     "data": {
      "text/plain": [
       "11768"
      ]
     },
     "execution_count": 223,
     "metadata": {},
     "output_type": "execute_result"
    }
   ],
   "source": [
    "project_df.project_id.nunique()"
   ]
  },
  {
   "cell_type": "code",
   "execution_count": 224,
   "id": "a02d34e9",
   "metadata": {},
   "outputs": [],
   "source": [
    "# Fill in unknown\n",
    "project_df[pect_code_cols] = project_df[pect_code_cols].fillna('Unknown')"
   ]
  },
  {
   "cell_type": "markdown",
   "id": "b08e0591",
   "metadata": {},
   "source": [
    "### Double check"
   ]
  },
  {
   "cell_type": "code",
   "execution_count": 225,
   "id": "d7bb56fa",
   "metadata": {},
   "outputs": [
    {
     "data": {
      "text/html": [
       "<div>\n",
       "<style scoped>\n",
       "    .dataframe tbody tr th:only-of-type {\n",
       "        vertical-align: middle;\n",
       "    }\n",
       "\n",
       "    .dataframe tbody tr th {\n",
       "        vertical-align: top;\n",
       "    }\n",
       "\n",
       "    .dataframe thead th {\n",
       "        text-align: right;\n",
       "    }\n",
       "</style>\n",
       "<table border=\"1\" class=\"dataframe\">\n",
       "  <thead>\n",
       "    <tr style=\"text-align: right;\">\n",
       "      <th></th>\n",
       "      <th>pect_description</th>\n",
       "      <th>curr_bud_am</th>\n",
       "      <th>project_id</th>\n",
       "    </tr>\n",
       "  </thead>\n",
       "  <tbody>\n",
       "    <tr>\n",
       "      <th>1610</th>\n",
       "      <td>Highway Bridge</td>\n",
       "      <td>690839.49</td>\n",
       "      <td>5918(101)</td>\n",
       "    </tr>\n",
       "    <tr>\n",
       "      <th>1611</th>\n",
       "      <td>Earmarks Projects (HPP, DEMO CPFCDS, etc.)</td>\n",
       "      <td>238679.79</td>\n",
       "      <td>5918(101)</td>\n",
       "    </tr>\n",
       "    <tr>\n",
       "      <th>1612</th>\n",
       "      <td>Regional Surface Transportation Block Grant Program (RSTBGP) and Highway Infrastructure Program (HIP)</td>\n",
       "      <td>0.00</td>\n",
       "      <td>5918(101)</td>\n",
       "    </tr>\n",
       "    <tr>\n",
       "      <th>1613</th>\n",
       "      <td>Highway Bridge</td>\n",
       "      <td>472887.51</td>\n",
       "      <td>5918(101)</td>\n",
       "    </tr>\n",
       "  </tbody>\n",
       "</table>\n",
       "</div>"
      ],
      "text/plain": [
       "                                                                                           pect_description  \\\n",
       "1610                                                                                        Highway Bridge    \n",
       "1611                                                             Earmarks Projects (HPP, DEMO CPFCDS, etc.)   \n",
       "1612  Regional Surface Transportation Block Grant Program (RSTBGP) and Highway Infrastructure Program (HIP)   \n",
       "1613                                                                                        Highway Bridge    \n",
       "\n",
       "      curr_bud_am project_id  \n",
       "1610    690839.49  5918(101)  \n",
       "1611    238679.79  5918(101)  \n",
       "1612         0.00  5918(101)  \n",
       "1613    472887.51  5918(101)  "
      ]
     },
     "execution_count": 225,
     "metadata": {},
     "output_type": "execute_result"
    }
   ],
   "source": [
    "pect_df2.loc[pect_df2.project_id == '5918(101)']"
   ]
  },
  {
   "cell_type": "code",
   "execution_count": 226,
   "id": "8c1f5e90",
   "metadata": {},
   "outputs": [
    {
     "data": {
      "text/html": [
       "<style  type=\"text/css\" >\n",
       "#T_f19e5_row0_col29,#T_f19e5_row0_col36,#T_f19e5_row0_col47{\n",
       "            color:  red;\n",
       "        }</style><table id=\"T_f19e5_\" ><thead>    <tr>        <th class=\"blank level0\" ></th>        <th class=\"col_heading level0 col0\" >project_id</th>        <th class=\"col_heading level0 col1\" >comment_desc</th>        <th class=\"col_heading level0 col2\" >district_code</th>        <th class=\"col_heading level0 col3\" >est_total_prj_costs</th>        <th class=\"col_heading level0 col4\" >location_name</th>        <th class=\"col_heading level0 col5\" >project_label_name</th>        <th class=\"col_heading level0 col6\" >original_post_mile_begin_id</th>        <th class=\"col_heading level0 col7\" >original_post_mile_end_id</th>        <th class=\"col_heading level0 col8\" >revised_post_mile_begin_ind</th>        <th class=\"col_heading level0 col9\" >revised_post_mile_end_ind</th>        <th class=\"col_heading level0 col10\" >route_name</th>        <th class=\"col_heading level0 col11\" >state_hwy_ind</th>        <th class=\"col_heading level0 col12\" >senate_district_code</th>        <th class=\"col_heading level0 col13\" >update_date_time</th>        <th class=\"col_heading level0 col14\" >agency_name</th>        <th class=\"col_heading level0 col15\" >urban_area_code</th>        <th class=\"col_heading level0 col16\" >county_name</th>        <th class=\"col_heading level0 col17\" >work_type_desc</th>        <th class=\"col_heading level0 col18\" >category_desc</th>        <th class=\"col_heading level0 col19\" >current_phase</th>        <th class=\"col_heading level0 col20\" >active_transportation_program_(atp)</th>        <th class=\"col_heading level0 col21\" >bridge_inspection_&_scour_evaluation</th>        <th class=\"col_heading level0 col22\" >covid_relief_funds_for_highway_infrastructure_programs_for_stip-covid_augmentation</th>        <th class=\"col_heading level0 col23\" >carbon_reduction_program_(crp)</th>        <th class=\"col_heading level0 col24\" >congestion_mitigation_&_air_quality_improvement_program_(cmaq)</th>        <th class=\"col_heading level0 col25\" >coronavirus_response_and_relief_supplemental_appropriations_act_(crrsaa)_funds</th>        <th class=\"col_heading level0 col26\" >corridor_mobility_improvement_account_(cmia)_program</th>        <th class=\"col_heading level0 col27\" >county_exchange_funds</th>        <th class=\"col_heading level0 col28\" >county_state_match_program</th>        <th class=\"col_heading level0 col29\" >earmarks_projects_(hpp,_demo_cpfcds,_etc.)</th>        <th class=\"col_heading level0 col30\" >emergency_relief_(er)</th>        <th class=\"col_heading level0 col31\" >ferry_boat_program_(fbp)_and_ferry_boat_discretionary_(fbd)_program</th>        <th class=\"col_heading level0 col32\" >funds_for_planning,_programming_and_monitoring_-_rip</th>        <th class=\"col_heading level0 col33\" >general_funded_designated_programs</th>        <th class=\"col_heading level0 col34\" >hazard_elimination_safety_(hes)</th>        <th class=\"col_heading level0 col35\" >high_risk_rural_roads_program_(hr3)</th>        <th class=\"col_heading level0 col36\" >highway_bridge_</th>        <th class=\"col_heading level0 col37\" >highway_safety_improvement_program_(hsip)_(infrastructure)-state_fund</th>        <th class=\"col_heading level0 col38\" >highway_safety_improvement_program_(hsip)_(non-infrastructure)</th>        <th class=\"col_heading level0 col39\" >highway_safety_improvement_program_(hsip)(infrastructure)-federal_fund</th>        <th class=\"col_heading level0 col40\" >local_partnership_program_(lpp_–_competitive)_</th>        <th class=\"col_heading level0 col41\" >local_roads</th>        <th class=\"col_heading level0 col42\" >local_roads_rehabilitation</th>        <th class=\"col_heading level0 col43\" >railroad_grade_crossing_protection</th>        <th class=\"col_heading level0 col44\" >railroad_grade_separations</th>        <th class=\"col_heading level0 col45\" >rebuilding_american_infrastructure_with_sustainability_and_equity_(raise)_and_multimodal_project_discretionary_grant_programs_(e.g.,_infra,_mega,_rstg_or_rural)_</th>        <th class=\"col_heading level0 col46\" >regional_improvement_program_–_regional_share_of_stip_transportation_enhancement_(off_system)</th>        <th class=\"col_heading level0 col47\" >regional_surface_transportation_block_grant_program_(rstbgp)_and_highway_infrastructure_program_(hip)</th>        <th class=\"col_heading level0 col48\" >regional_transportation_planning_agency_(rtpa)_stp_match_exchange</th>        <th class=\"col_heading level0 col49\" >sb1_funded_freeway_service_patrol</th>        <th class=\"col_heading level0 col50\" >shopp-_traffic_light_synchronization_program_(tlsp)-_proposition_1b_bond_funds</th>        <th class=\"col_heading level0 col51\" >safe_routes_to_school_(sr2s_and_srts)</th>        <th class=\"col_heading level0 col52\" >set-aside_coordinated_border_infrastructure_(cbi)_program_under_fast_act</th>        <th class=\"col_heading level0 col53\" >solutions_for_congested_corridors_program_(sccp)</th>        <th class=\"col_heading level0 col54\" >special_programs</th>        <th class=\"col_heading level0 col55\" >state-local_partnership_program_(slpp)_and_local_partnership_program_(lpp-formulaic)</th>        <th class=\"col_heading level0 col56\" >structures_seismic_retrofit_</th>        <th class=\"col_heading level0 col57\" >trade_corridor_enhancement_account_(tcea)_programs_–_local_share</th>        <th class=\"col_heading level0 col58\" >trade_corridor_enhancement_account_(tcea)_programs_–_state_share</th>        <th class=\"col_heading level0 col59\" >trade_corridors_improvement_fund_(tcif)_program_local_streets_&_roads</th>        <th class=\"col_heading level0 col60\" >traffic_congestion_relief_program_(_tcrp_)</th>        <th class=\"col_heading level0 col61\" >unknown</th>    </tr></thead><tbody>\n",
       "                <tr>\n",
       "                        <th id=\"T_f19e5_level0_row0\" class=\"row_heading level0 row0\" >1413</th>\n",
       "                        <td id=\"T_f19e5_row0_col0\" class=\"data row0 col0\" >5918(101)</td>\n",
       "                        <td id=\"T_f19e5_row0_col1\" class=\"data row0 col1\" >4-26-2023: told Neal Hay to do a BAR request and that he cannot  ask for more than what was lapsed - JC\n",
       "\n",
       "1/10/22: TCT JWalton adv of CWA expring and funds lapsing.  need invoice by Apr 1, 2022.  ab\n",
       "8/2/17: email SRiddle re: inactive status.  ab\n",
       "County will seek to replace (SR= 53.6)</td>\n",
       "                        <td id=\"T_f19e5_row0_col2\" class=\"data row0 col2\" >03</td>\n",
       "                        <td id=\"T_f19e5_row0_col3\" class=\"data row0 col3\" >nan</td>\n",
       "                        <td id=\"T_f19e5_row0_col4\" class=\"data row0 col4\" >On Howsley Road, 1.02 Mile East of State Route 99, Br</td>\n",
       "                        <td id=\"T_f19e5_row0_col5\" class=\"data row0 col5\" >Bridge Replacement</td>\n",
       "                        <td id=\"T_f19e5_row0_col6\" class=\"data row0 col6\" >nan</td>\n",
       "                        <td id=\"T_f19e5_row0_col7\" class=\"data row0 col7\" >nan</td>\n",
       "                        <td id=\"T_f19e5_row0_col8\" class=\"data row0 col8\" >None</td>\n",
       "                        <td id=\"T_f19e5_row0_col9\" class=\"data row0 col9\" >None</td>\n",
       "                        <td id=\"T_f19e5_row0_col10\" class=\"data row0 col10\" >0-CR</td>\n",
       "                        <td id=\"T_f19e5_row0_col11\" class=\"data row0 col11\" >N</td>\n",
       "                        <td id=\"T_f19e5_row0_col12\" class=\"data row0 col12\" >None</td>\n",
       "                        <td id=\"T_f19e5_row0_col13\" class=\"data row0 col13\" >2023-04-26 15:16:25</td>\n",
       "                        <td id=\"T_f19e5_row0_col14\" class=\"data row0 col14\" >Sutter County</td>\n",
       "                        <td id=\"T_f19e5_row0_col15\" class=\"data row0 col15\" >None</td>\n",
       "                        <td id=\"T_f19e5_row0_col16\" class=\"data row0 col16\" >Sutter County</td>\n",
       "                        <td id=\"T_f19e5_row0_col17\" class=\"data row0 col17\" >Bridge Replacement - No Added Capacity</td>\n",
       "                        <td id=\"T_f19e5_row0_col18\" class=\"data row0 col18\" >Bridge Replacement</td>\n",
       "                        <td id=\"T_f19e5_row0_col19\" class=\"data row0 col19\" >single phase</td>\n",
       "                        <td id=\"T_f19e5_row0_col20\" class=\"data row0 col20\" >No</td>\n",
       "                        <td id=\"T_f19e5_row0_col21\" class=\"data row0 col21\" >No</td>\n",
       "                        <td id=\"T_f19e5_row0_col22\" class=\"data row0 col22\" >No</td>\n",
       "                        <td id=\"T_f19e5_row0_col23\" class=\"data row0 col23\" >No</td>\n",
       "                        <td id=\"T_f19e5_row0_col24\" class=\"data row0 col24\" >No</td>\n",
       "                        <td id=\"T_f19e5_row0_col25\" class=\"data row0 col25\" >No</td>\n",
       "                        <td id=\"T_f19e5_row0_col26\" class=\"data row0 col26\" >No</td>\n",
       "                        <td id=\"T_f19e5_row0_col27\" class=\"data row0 col27\" >No</td>\n",
       "                        <td id=\"T_f19e5_row0_col28\" class=\"data row0 col28\" >No</td>\n",
       "                        <td id=\"T_f19e5_row0_col29\" class=\"data row0 col29\" >Yes</td>\n",
       "                        <td id=\"T_f19e5_row0_col30\" class=\"data row0 col30\" >No</td>\n",
       "                        <td id=\"T_f19e5_row0_col31\" class=\"data row0 col31\" >No</td>\n",
       "                        <td id=\"T_f19e5_row0_col32\" class=\"data row0 col32\" >No</td>\n",
       "                        <td id=\"T_f19e5_row0_col33\" class=\"data row0 col33\" >No</td>\n",
       "                        <td id=\"T_f19e5_row0_col34\" class=\"data row0 col34\" >No</td>\n",
       "                        <td id=\"T_f19e5_row0_col35\" class=\"data row0 col35\" >No</td>\n",
       "                        <td id=\"T_f19e5_row0_col36\" class=\"data row0 col36\" >Yes</td>\n",
       "                        <td id=\"T_f19e5_row0_col37\" class=\"data row0 col37\" >No</td>\n",
       "                        <td id=\"T_f19e5_row0_col38\" class=\"data row0 col38\" >No</td>\n",
       "                        <td id=\"T_f19e5_row0_col39\" class=\"data row0 col39\" >No</td>\n",
       "                        <td id=\"T_f19e5_row0_col40\" class=\"data row0 col40\" >No</td>\n",
       "                        <td id=\"T_f19e5_row0_col41\" class=\"data row0 col41\" >No</td>\n",
       "                        <td id=\"T_f19e5_row0_col42\" class=\"data row0 col42\" >No</td>\n",
       "                        <td id=\"T_f19e5_row0_col43\" class=\"data row0 col43\" >No</td>\n",
       "                        <td id=\"T_f19e5_row0_col44\" class=\"data row0 col44\" >No</td>\n",
       "                        <td id=\"T_f19e5_row0_col45\" class=\"data row0 col45\" >No</td>\n",
       "                        <td id=\"T_f19e5_row0_col46\" class=\"data row0 col46\" >No</td>\n",
       "                        <td id=\"T_f19e5_row0_col47\" class=\"data row0 col47\" >Yes</td>\n",
       "                        <td id=\"T_f19e5_row0_col48\" class=\"data row0 col48\" >No</td>\n",
       "                        <td id=\"T_f19e5_row0_col49\" class=\"data row0 col49\" >No</td>\n",
       "                        <td id=\"T_f19e5_row0_col50\" class=\"data row0 col50\" >No</td>\n",
       "                        <td id=\"T_f19e5_row0_col51\" class=\"data row0 col51\" >No</td>\n",
       "                        <td id=\"T_f19e5_row0_col52\" class=\"data row0 col52\" >No</td>\n",
       "                        <td id=\"T_f19e5_row0_col53\" class=\"data row0 col53\" >No</td>\n",
       "                        <td id=\"T_f19e5_row0_col54\" class=\"data row0 col54\" >No</td>\n",
       "                        <td id=\"T_f19e5_row0_col55\" class=\"data row0 col55\" >No</td>\n",
       "                        <td id=\"T_f19e5_row0_col56\" class=\"data row0 col56\" >No</td>\n",
       "                        <td id=\"T_f19e5_row0_col57\" class=\"data row0 col57\" >No</td>\n",
       "                        <td id=\"T_f19e5_row0_col58\" class=\"data row0 col58\" >No</td>\n",
       "                        <td id=\"T_f19e5_row0_col59\" class=\"data row0 col59\" >No</td>\n",
       "                        <td id=\"T_f19e5_row0_col60\" class=\"data row0 col60\" >No</td>\n",
       "                        <td id=\"T_f19e5_row0_col61\" class=\"data row0 col61\" >No</td>\n",
       "            </tr>\n",
       "    </tbody></table>"
      ],
      "text/plain": [
       "<pandas.io.formats.style.Styler at 0x25bd9b0dd48>"
      ]
     },
     "execution_count": 226,
     "metadata": {},
     "output_type": "execute_result"
    }
   ],
   "source": [
    "project_df.loc[project_df.project_id == '5918(101)'].style.where(lambda val: 'Yes' in str(val), 'color: red')"
   ]
  },
  {
   "cell_type": "markdown",
   "id": "e2d50c21",
   "metadata": {},
   "source": [
    "## Phase_Funding Table"
   ]
  },
  {
   "cell_type": "markdown",
   "id": "ebf0c60f",
   "metadata": {},
   "source": [
    "### Bring in fund_code\n",
    "* These fund codes were shared by Brian via his contacts in Accounting. Have to request this each fiscal year?"
   ]
  },
  {
   "cell_type": "code",
   "execution_count": 227,
   "id": "8a344942",
   "metadata": {},
   "outputs": [],
   "source": [
    "def load_fund_codes(excel_file:str)->pd.DataFrame:\n",
    "    df = pd.read_excel('lp2000_2023_fund_codes.xlsx')\n",
    "    \n",
    "    # Pad codes\n",
    "    df['0001'] = df['0001'].apply(lambda x: f'{x:04}')\n",
    "    df = df.rename(columns = {'General Fund':'general_fund'})\n",
    "    \n",
    "    return df"
   ]
  },
  {
   "cell_type": "code",
   "execution_count": 228,
   "id": "7344566e",
   "metadata": {},
   "outputs": [],
   "source": [
    "fund_codes = load_fund_codes(\"lp2000_2023_fund_codes.xlsx\")"
   ]
  },
  {
   "cell_type": "code",
   "execution_count": 229,
   "id": "c8bc42a1",
   "metadata": {},
   "outputs": [
    {
     "data": {
      "text/html": [
       "<div>\n",
       "<style scoped>\n",
       "    .dataframe tbody tr th:only-of-type {\n",
       "        vertical-align: middle;\n",
       "    }\n",
       "\n",
       "    .dataframe tbody tr th {\n",
       "        vertical-align: top;\n",
       "    }\n",
       "\n",
       "    .dataframe thead th {\n",
       "        text-align: right;\n",
       "    }\n",
       "</style>\n",
       "<table border=\"1\" class=\"dataframe\">\n",
       "  <thead>\n",
       "    <tr style=\"text-align: right;\">\n",
       "      <th></th>\n",
       "      <th>0001</th>\n",
       "      <th>general_fund</th>\n",
       "    </tr>\n",
       "  </thead>\n",
       "  <tbody>\n",
       "    <tr>\n",
       "      <th>3</th>\n",
       "      <td>0183</td>\n",
       "      <td>Environmental Enhanc &amp; Mitigat Prgm Fd</td>\n",
       "    </tr>\n",
       "    <tr>\n",
       "      <th>10</th>\n",
       "      <td>3291</td>\n",
       "      <td>Trade Corridor Enhancement Account, STF</td>\n",
       "    </tr>\n",
       "    <tr>\n",
       "      <th>1</th>\n",
       "      <td>0045</td>\n",
       "      <td>Bicycle Transportation Account</td>\n",
       "    </tr>\n",
       "  </tbody>\n",
       "</table>\n",
       "</div>"
      ],
      "text/plain": [
       "    0001                             general_fund\n",
       "3   0183   Environmental Enhanc & Mitigat Prgm Fd\n",
       "10  3291  Trade Corridor Enhancement Account, STF\n",
       "1   0045           Bicycle Transportation Account"
      ]
     },
     "execution_count": 229,
     "metadata": {},
     "output_type": "execute_result"
    }
   ],
   "source": [
    "fund_codes.sample(3)"
   ]
  },
  {
   "cell_type": "code",
   "execution_count": 230,
   "id": "d5432747",
   "metadata": {},
   "outputs": [],
   "source": [
    "fund_phase_df = pd.merge(accounting_df, fund_codes, left_on = ['fund_code'], right_on = ['0001'], how = 'left')\n",
    "fund_phase_df = fund_phase_df.drop(columns = ['0001'])"
   ]
  },
  {
   "cell_type": "code",
   "execution_count": 231,
   "id": "9d010bfb",
   "metadata": {},
   "outputs": [
    {
     "data": {
      "text/plain": [
       "4305"
      ]
     },
     "execution_count": 231,
     "metadata": {},
     "output_type": "execute_result"
    }
   ],
   "source": [
    "fund_phase_df.project_id.nunique()"
   ]
  },
  {
   "cell_type": "code",
   "execution_count": 232,
   "id": "acaf7b88",
   "metadata": {},
   "outputs": [],
   "source": [
    "fund_phase_df.general_fund = fund_phase_df.general_fund.fillna('Unknown')"
   ]
  },
  {
   "cell_type": "code",
   "execution_count": 233,
   "id": "4e9538f6",
   "metadata": {},
   "outputs": [
    {
     "data": {
      "text/plain": [
       "Federal Trust Fund                                   7647\n",
       "State Highway Account                                1575\n",
       "Road Maintenance & Rehabilitation Account, STF        433\n",
       "Unknown                                               402\n",
       "Local Bridge Seismic Retrofit Acct                     73\n",
       "Environmental Enhanc & Mitigat Prgm Fd                 56\n",
       "Transportation Investment Fund                         29\n",
       "Transportation Deferred Investment Fund                19\n",
       "Trade Corridor Enhancement Account, STF                18\n",
       "Trade Corridors Improvement Fund                       13\n",
       "Traffic Congestion Relief Fund                          8\n",
       "State-Local Partnership Program Acct                    7\n",
       "Highway Safety,Rehabilitation,& Preservation Acct       7\n",
       "Corridor Mobility Improvement Account                   1\n",
       "Transportation Faciilities Account                      1\n",
       "Name: general_fund, dtype: int64"
      ]
     },
     "execution_count": 233,
     "metadata": {},
     "output_type": "execute_result"
    }
   ],
   "source": [
    "fund_phase_df.general_fund.value_counts()"
   ]
  },
  {
   "cell_type": "code",
   "execution_count": 288,
   "id": "1fb223cf",
   "metadata": {},
   "outputs": [],
   "source": [
    "# Sum up the money received by fund\n",
    "fund_phase_df_pivot1 = (fund_phase_df\n",
    "                  .groupby(['project_id','general_fund'])\n",
    "                  .agg({'curr_bud_am':'sum', \n",
    "                        'cash_exp_am':'sum'})\n",
    "                  .reset_index()\n",
    "                  .rename(columns = {'curr_bud_am':'single_phase_cost',\n",
    "                                    'cash_exp_am':'single_phase_expenditure'})\n",
    "                  )"
   ]
  },
  {
   "cell_type": "code",
   "execution_count": 235,
   "id": "8a90d8e7",
   "metadata": {},
   "outputs": [
    {
     "data": {
      "text/html": [
       "<div>\n",
       "<style scoped>\n",
       "    .dataframe tbody tr th:only-of-type {\n",
       "        vertical-align: middle;\n",
       "    }\n",
       "\n",
       "    .dataframe tbody tr th {\n",
       "        vertical-align: top;\n",
       "    }\n",
       "\n",
       "    .dataframe thead th {\n",
       "        text-align: right;\n",
       "    }\n",
       "</style>\n",
       "<table border=\"1\" class=\"dataframe\">\n",
       "  <thead>\n",
       "    <tr style=\"text-align: right;\">\n",
       "      <th></th>\n",
       "      <th>project_id</th>\n",
       "      <th>general_fund</th>\n",
       "      <th>single_phase_cost</th>\n",
       "      <th>single_phase_expenditure</th>\n",
       "    </tr>\n",
       "  </thead>\n",
       "  <tbody>\n",
       "    <tr>\n",
       "      <th>0</th>\n",
       "      <td>0001(002)</td>\n",
       "      <td>Federal Trust Fund</td>\n",
       "      <td>20743617.04</td>\n",
       "      <td>20743617.04</td>\n",
       "    </tr>\n",
       "    <tr>\n",
       "      <th>1</th>\n",
       "      <td>0014(005)</td>\n",
       "      <td>Federal Trust Fund</td>\n",
       "      <td>879983.23</td>\n",
       "      <td>879983.23</td>\n",
       "    </tr>\n",
       "    <tr>\n",
       "      <th>2</th>\n",
       "      <td>0027(012)</td>\n",
       "      <td>Federal Trust Fund</td>\n",
       "      <td>12830458.87</td>\n",
       "      <td>12830458.87</td>\n",
       "    </tr>\n",
       "    <tr>\n",
       "      <th>3</th>\n",
       "      <td>0061(025)</td>\n",
       "      <td>Federal Trust Fund</td>\n",
       "      <td>2595722.00</td>\n",
       "      <td>2595722.00</td>\n",
       "    </tr>\n",
       "    <tr>\n",
       "      <th>4</th>\n",
       "      <td>15A5(001)</td>\n",
       "      <td>Federal Trust Fund</td>\n",
       "      <td>849820.30</td>\n",
       "      <td>700737.01</td>\n",
       "    </tr>\n",
       "  </tbody>\n",
       "</table>\n",
       "</div>"
      ],
      "text/plain": [
       "  project_id        general_fund  single_phase_cost  single_phase_expenditure\n",
       "0  0001(002)  Federal Trust Fund        20743617.04               20743617.04\n",
       "1  0014(005)  Federal Trust Fund          879983.23                 879983.23\n",
       "2  0027(012)  Federal Trust Fund        12830458.87               12830458.87\n",
       "3  0061(025)  Federal Trust Fund         2595722.00                2595722.00\n",
       "4  15A5(001)  Federal Trust Fund          849820.30                 700737.01"
      ]
     },
     "execution_count": 235,
     "metadata": {},
     "output_type": "execute_result"
    }
   ],
   "source": [
    "fund_phase_df_pivot1.head()"
   ]
  },
  {
   "cell_type": "code",
   "execution_count": 236,
   "id": "7beb8071",
   "metadata": {},
   "outputs": [],
   "source": [
    "# No fund detail -> just want the total cost \n",
    "fund_phase_df_pivot2 = (fund_phase_df\n",
    "                  .groupby(['project_id'])\n",
    "                  .agg({'curr_bud_am':'sum', \n",
    "                        'cash_exp_am':'sum'})\n",
    "                  .reset_index()\n",
    "                  .rename(columns = {'curr_bud_am':'single_phase_cost',\n",
    "                                    'cash_exp_am':'single_phase_expenditure_amt'})\n",
    "                  )"
   ]
  },
  {
   "cell_type": "code",
   "execution_count": 237,
   "id": "8feb664b",
   "metadata": {},
   "outputs": [
    {
     "data": {
      "text/html": [
       "<div>\n",
       "<style scoped>\n",
       "    .dataframe tbody tr th:only-of-type {\n",
       "        vertical-align: middle;\n",
       "    }\n",
       "\n",
       "    .dataframe tbody tr th {\n",
       "        vertical-align: top;\n",
       "    }\n",
       "\n",
       "    .dataframe thead th {\n",
       "        text-align: right;\n",
       "    }\n",
       "</style>\n",
       "<table border=\"1\" class=\"dataframe\">\n",
       "  <thead>\n",
       "    <tr style=\"text-align: right;\">\n",
       "      <th></th>\n",
       "      <th>project_id</th>\n",
       "      <th>single_phase_cost</th>\n",
       "      <th>single_phase_expenditure_amt</th>\n",
       "    </tr>\n",
       "  </thead>\n",
       "  <tbody>\n",
       "    <tr>\n",
       "      <th>0</th>\n",
       "      <td>0001(002)</td>\n",
       "      <td>20743617.04</td>\n",
       "      <td>20743617.04</td>\n",
       "    </tr>\n",
       "    <tr>\n",
       "      <th>1</th>\n",
       "      <td>0014(005)</td>\n",
       "      <td>879983.23</td>\n",
       "      <td>879983.23</td>\n",
       "    </tr>\n",
       "    <tr>\n",
       "      <th>2</th>\n",
       "      <td>0027(012)</td>\n",
       "      <td>12830458.87</td>\n",
       "      <td>12830458.87</td>\n",
       "    </tr>\n",
       "    <tr>\n",
       "      <th>3</th>\n",
       "      <td>0061(025)</td>\n",
       "      <td>2595722.00</td>\n",
       "      <td>2595722.00</td>\n",
       "    </tr>\n",
       "    <tr>\n",
       "      <th>4</th>\n",
       "      <td>15A5(001)</td>\n",
       "      <td>849820.30</td>\n",
       "      <td>700737.01</td>\n",
       "    </tr>\n",
       "  </tbody>\n",
       "</table>\n",
       "</div>"
      ],
      "text/plain": [
       "  project_id  single_phase_cost  single_phase_expenditure_amt\n",
       "0  0001(002)        20743617.04                   20743617.04\n",
       "1  0014(005)          879983.23                     879983.23\n",
       "2  0027(012)        12830458.87                   12830458.87\n",
       "3  0061(025)         2595722.00                    2595722.00\n",
       "4  15A5(001)          849820.30                     700737.01"
      ]
     },
     "execution_count": 237,
     "metadata": {},
     "output_type": "execute_result"
    }
   ],
   "source": [
    "fund_phase_df_pivot2.head()"
   ]
  },
  {
   "cell_type": "code",
   "execution_count": 238,
   "id": "694c3ea3",
   "metadata": {},
   "outputs": [
    {
     "data": {
      "text/plain": [
       "4305"
      ]
     },
     "execution_count": 238,
     "metadata": {},
     "output_type": "execute_result"
    }
   ],
   "source": [
    "fund_phase_df_pivot2.project_id.nunique()"
   ]
  },
  {
   "cell_type": "code",
   "execution_count": 239,
   "id": "def28835",
   "metadata": {},
   "outputs": [],
   "source": [
    "# Pivot so general_fund will be the column names\n",
    "# https://stackoverflow.com/questions/22798934/pandas-long-to-wide-reshape-by-two-variables\n",
    "fund_phase_df_pivot1 = fund_phase_df_pivot1.pivot_table(index=['project_id'], columns='general_fund', \n",
    "                    values=['single_phase_cost'], aggfunc='sum')"
   ]
  },
  {
   "cell_type": "code",
   "execution_count": 240,
   "id": "e32b1394",
   "metadata": {},
   "outputs": [],
   "source": [
    "fund_phase_df_pivot1.columns = fund_phase_df_pivot1.columns.droplevel()"
   ]
  },
  {
   "cell_type": "code",
   "execution_count": 241,
   "id": "6647d17e",
   "metadata": {},
   "outputs": [],
   "source": [
    "fund_phase_df_pivot1 = fund_phase_df_pivot1.reset_index()"
   ]
  },
  {
   "cell_type": "code",
   "execution_count": 242,
   "id": "5f806e1c",
   "metadata": {},
   "outputs": [],
   "source": [
    "fund_phase_df_pivot1 = to_snakecase(fund_phase_df_pivot1)"
   ]
  },
  {
   "cell_type": "code",
   "execution_count": 243,
   "id": "871c217b",
   "metadata": {},
   "outputs": [],
   "source": [
    "# Find state fund only columns\n",
    "state_only_columns = list((fund_phase_df_pivot1.filter(regex='account|fd|acct|fund').columns))"
   ]
  },
  {
   "cell_type": "code",
   "execution_count": 244,
   "id": "52c83028",
   "metadata": {},
   "outputs": [
    {
     "data": {
      "text/plain": [
       "['corridor_mobility_improvement_account',\n",
       " 'environmental_enhanc_&_mitigat_prgm_fd',\n",
       " 'federal_trust_fund',\n",
       " 'highway_safety,rehabilitation,&_preservation_acct',\n",
       " 'local_bridge_seismic_retrofit_acct',\n",
       " 'road_maintenance_&_rehabilitation_account,_stf',\n",
       " 'state_highway_account',\n",
       " 'state-local_partnership_program_acct',\n",
       " 'trade_corridor_enhancement_account,_stf',\n",
       " 'trade_corridors_improvement_fund',\n",
       " 'traffic_congestion_relief_fund',\n",
       " 'transportation_deferred_investment_fund',\n",
       " 'transportation_faciilities_account',\n",
       " 'transportation_investment_fund']"
      ]
     },
     "execution_count": 244,
     "metadata": {},
     "output_type": "execute_result"
    }
   ],
   "source": [
    "state_only_columns"
   ]
  },
  {
   "cell_type": "code",
   "execution_count": 245,
   "id": "2139367b",
   "metadata": {},
   "outputs": [],
   "source": [
    "\n",
    "state_only_columns.remove('federal_trust_fund')"
   ]
  },
  {
   "cell_type": "code",
   "execution_count": 246,
   "id": "590778fd",
   "metadata": {},
   "outputs": [],
   "source": [
    "# Sum up all the state only funds\n",
    "fund_phase_df_pivot1['total_state_funds'] = fund_phase_df_pivot1[state_only_columns].sum(axis = 1).fillna(0)"
   ]
  },
  {
   "cell_type": "code",
   "execution_count": 247,
   "id": "2f7f8d5d",
   "metadata": {},
   "outputs": [],
   "source": [
    "# Mask integers with bool\n",
    "fund_phase_df_pivot_bool = fund_phase_df_pivot1.fillna('No')"
   ]
  },
  {
   "cell_type": "code",
   "execution_count": 248,
   "id": "84f661b8",
   "metadata": {},
   "outputs": [],
   "source": [
    "fund_phase_df_pivot_bool = fund_phase_df_pivot_bool.mask(fund_phase_df_pivot_bool.apply(lambda x : pd.to_numeric(x,errors='coerce')).notnull(),'Yes')"
   ]
  },
  {
   "cell_type": "code",
   "execution_count": 249,
   "id": "b01be19d",
   "metadata": {},
   "outputs": [],
   "source": [
    "# Merge again so projects will have total budgeted amount\n",
    "# for the single phase and expenditure\n",
    "final_fund_phase_df = pd.merge(fund_phase_df_pivot1, fund_phase_df_pivot2, on = ['project_id'])"
   ]
  },
  {
   "cell_type": "code",
   "execution_count": 250,
   "id": "b92aa697",
   "metadata": {},
   "outputs": [],
   "source": [
    "# Make it clear about total federal funds\n",
    "final_fund_phase_df['total_federal_funds'] = final_fund_phase_df.federal_trust_fund"
   ]
  },
  {
   "cell_type": "code",
   "execution_count": 251,
   "id": "feccd5ab",
   "metadata": {},
   "outputs": [
    {
     "data": {
      "text/plain": [
       "(4305, 20)"
      ]
     },
     "execution_count": 251,
     "metadata": {},
     "output_type": "execute_result"
    }
   ],
   "source": [
    "final_fund_phase_df.shape"
   ]
  },
  {
   "cell_type": "code",
   "execution_count": 252,
   "id": "c6b364da",
   "metadata": {},
   "outputs": [
    {
     "data": {
      "text/plain": [
       "4305"
      ]
     },
     "execution_count": 252,
     "metadata": {},
     "output_type": "execute_result"
    }
   ],
   "source": [
    "final_fund_phase_df.project_id.nunique()"
   ]
  },
  {
   "cell_type": "code",
   "execution_count": 253,
   "id": "49267b9b",
   "metadata": {},
   "outputs": [],
   "source": [
    "# Tag whether something is funded by state/federal/both\n",
    "def is_state_funds(row):\n",
    "    if row.total_state_funds > 0:\n",
    "        return \"Yes\"\n",
    "    else:\n",
    "        return \"No\""
   ]
  },
  {
   "cell_type": "code",
   "execution_count": 254,
   "id": "bede5e25",
   "metadata": {},
   "outputs": [],
   "source": [
    "def is_fed_funds(row):\n",
    "    if row.total_federal_funds > 0:\n",
    "        return \"Yes\"\n",
    "    else:\n",
    "        return \"No\""
   ]
  },
  {
   "cell_type": "code",
   "execution_count": 255,
   "id": "a08995e3",
   "metadata": {},
   "outputs": [],
   "source": [
    "final_fund_phase_df[\"is_state\"] = final_fund_phase_df.apply(is_state_funds, axis=1)"
   ]
  },
  {
   "cell_type": "code",
   "execution_count": 256,
   "id": "13f768cb",
   "metadata": {},
   "outputs": [],
   "source": [
    "final_fund_phase_df[\"is_federal\"] = final_fund_phase_df.apply(is_fed_funds, axis=1)"
   ]
  },
  {
   "cell_type": "code",
   "execution_count": 257,
   "id": "bd42f0c3",
   "metadata": {},
   "outputs": [],
   "source": [
    "final_fund_phase_df = final_fund_phase_df.fillna(0)"
   ]
  },
  {
   "cell_type": "markdown",
   "id": "a8e168da",
   "metadata": {},
   "source": [
    "### Double Checking\n",
    "* Make sure the project flag is correct"
   ]
  },
  {
   "cell_type": "code",
   "execution_count": 258,
   "id": "c7651df6",
   "metadata": {},
   "outputs": [
    {
     "data": {
      "text/plain": [
       "6211(130)    32\n",
       "5908(031)    28\n",
       "6053(130)    27\n",
       "6211(131)    27\n",
       "5006(219)    23\n",
       "Name: project_id, dtype: int64"
      ]
     },
     "execution_count": 258,
     "metadata": {},
     "output_type": "execute_result"
    }
   ],
   "source": [
    "fund_phase_df.project_id.value_counts().head()"
   ]
  },
  {
   "cell_type": "code",
   "execution_count": 259,
   "id": "ca87e3a0",
   "metadata": {},
   "outputs": [
    {
     "data": {
      "text/html": [
       "<style  type=\"text/css\" >\n",
       "#T_2b285_row0_col20,#T_2b285_row0_col21{\n",
       "            color:  red;\n",
       "        }</style><table id=\"T_2b285_\" ><thead>    <tr>        <th class=\"blank level0\" ></th>        <th class=\"col_heading level0 col0\" >project_id</th>        <th class=\"col_heading level0 col1\" >corridor_mobility_improvement_account</th>        <th class=\"col_heading level0 col2\" >environmental_enhanc_&_mitigat_prgm_fd</th>        <th class=\"col_heading level0 col3\" >federal_trust_fund</th>        <th class=\"col_heading level0 col4\" >highway_safety,rehabilitation,&_preservation_acct</th>        <th class=\"col_heading level0 col5\" >local_bridge_seismic_retrofit_acct</th>        <th class=\"col_heading level0 col6\" >road_maintenance_&_rehabilitation_account,_stf</th>        <th class=\"col_heading level0 col7\" >state_highway_account</th>        <th class=\"col_heading level0 col8\" >state-local_partnership_program_acct</th>        <th class=\"col_heading level0 col9\" >trade_corridor_enhancement_account,_stf</th>        <th class=\"col_heading level0 col10\" >trade_corridors_improvement_fund</th>        <th class=\"col_heading level0 col11\" >traffic_congestion_relief_fund</th>        <th class=\"col_heading level0 col12\" >transportation_deferred_investment_fund</th>        <th class=\"col_heading level0 col13\" >transportation_faciilities_account</th>        <th class=\"col_heading level0 col14\" >transportation_investment_fund</th>        <th class=\"col_heading level0 col15\" >unknown</th>        <th class=\"col_heading level0 col16\" >total_state_funds</th>        <th class=\"col_heading level0 col17\" >single_phase_cost</th>        <th class=\"col_heading level0 col18\" >single_phase_expenditure_amt</th>        <th class=\"col_heading level0 col19\" >total_federal_funds</th>        <th class=\"col_heading level0 col20\" >is_state</th>        <th class=\"col_heading level0 col21\" >is_federal</th>    </tr></thead><tbody>\n",
       "                <tr>\n",
       "                        <th id=\"T_2b285_level0_row0\" class=\"row_heading level0 row0\" >3209</th>\n",
       "                        <td id=\"T_2b285_row0_col0\" class=\"data row0 col0\" >5944(068)</td>\n",
       "                        <td id=\"T_2b285_row0_col1\" class=\"data row0 col1\" >0.000000</td>\n",
       "                        <td id=\"T_2b285_row0_col2\" class=\"data row0 col2\" >0.000000</td>\n",
       "                        <td id=\"T_2b285_row0_col3\" class=\"data row0 col3\" >5412383.390000</td>\n",
       "                        <td id=\"T_2b285_row0_col4\" class=\"data row0 col4\" >0.000000</td>\n",
       "                        <td id=\"T_2b285_row0_col5\" class=\"data row0 col5\" >0.000000</td>\n",
       "                        <td id=\"T_2b285_row0_col6\" class=\"data row0 col6\" >0.000000</td>\n",
       "                        <td id=\"T_2b285_row0_col7\" class=\"data row0 col7\" >0.000000</td>\n",
       "                        <td id=\"T_2b285_row0_col8\" class=\"data row0 col8\" >0.000000</td>\n",
       "                        <td id=\"T_2b285_row0_col9\" class=\"data row0 col9\" >0.000000</td>\n",
       "                        <td id=\"T_2b285_row0_col10\" class=\"data row0 col10\" >0.000000</td>\n",
       "                        <td id=\"T_2b285_row0_col11\" class=\"data row0 col11\" >0.000000</td>\n",
       "                        <td id=\"T_2b285_row0_col12\" class=\"data row0 col12\" >0.000000</td>\n",
       "                        <td id=\"T_2b285_row0_col13\" class=\"data row0 col13\" >0.000000</td>\n",
       "                        <td id=\"T_2b285_row0_col14\" class=\"data row0 col14\" >85000.000000</td>\n",
       "                        <td id=\"T_2b285_row0_col15\" class=\"data row0 col15\" >0.000000</td>\n",
       "                        <td id=\"T_2b285_row0_col16\" class=\"data row0 col16\" >85000.000000</td>\n",
       "                        <td id=\"T_2b285_row0_col17\" class=\"data row0 col17\" >5497383.390000</td>\n",
       "                        <td id=\"T_2b285_row0_col18\" class=\"data row0 col18\" >5497383.390000</td>\n",
       "                        <td id=\"T_2b285_row0_col19\" class=\"data row0 col19\" >5412383.390000</td>\n",
       "                        <td id=\"T_2b285_row0_col20\" class=\"data row0 col20\" >Yes</td>\n",
       "                        <td id=\"T_2b285_row0_col21\" class=\"data row0 col21\" >Yes</td>\n",
       "            </tr>\n",
       "    </tbody></table>"
      ],
      "text/plain": [
       "<pandas.io.formats.style.Styler at 0x25bd8f64dc8>"
      ]
     },
     "execution_count": 259,
     "metadata": {},
     "output_type": "execute_result"
    }
   ],
   "source": [
    "final_fund_phase_df.loc[final_fund_phase_df.project_id == '5944(068)'].style.where(lambda val: 'Yes' in str(val), 'color: red')"
   ]
  },
  {
   "cell_type": "code",
   "execution_count": 260,
   "id": "f3b59b90",
   "metadata": {},
   "outputs": [
    {
     "data": {
      "text/html": [
       "<div>\n",
       "<style scoped>\n",
       "    .dataframe tbody tr th:only-of-type {\n",
       "        vertical-align: middle;\n",
       "    }\n",
       "\n",
       "    .dataframe tbody tr th {\n",
       "        vertical-align: top;\n",
       "    }\n",
       "\n",
       "    .dataframe thead th {\n",
       "        text-align: right;\n",
       "    }\n",
       "</style>\n",
       "<table border=\"1\" class=\"dataframe\">\n",
       "  <thead>\n",
       "    <tr style=\"text-align: right;\">\n",
       "      <th></th>\n",
       "      <th>adv_project_id</th>\n",
       "      <th>fund_code</th>\n",
       "      <th>pec_code</th>\n",
       "      <th>appropriation_category_code</th>\n",
       "      <th>curr_bud_am</th>\n",
       "      <th>cash_exp_am</th>\n",
       "      <th>pect_task_code</th>\n",
       "      <th>project_id</th>\n",
       "      <th>general_fund</th>\n",
       "    </tr>\n",
       "  </thead>\n",
       "  <tbody>\n",
       "    <tr>\n",
       "      <th>3804</th>\n",
       "      <td>0500000588</td>\n",
       "      <td>0890</td>\n",
       "      <td>2030010</td>\n",
       "      <td>0203</td>\n",
       "      <td>630485.13</td>\n",
       "      <td>630485.13</td>\n",
       "      <td>300</td>\n",
       "      <td>5944(068)</td>\n",
       "      <td>Federal Trust Fund</td>\n",
       "    </tr>\n",
       "    <tr>\n",
       "      <th>3805</th>\n",
       "      <td>0500000588</td>\n",
       "      <td>3008</td>\n",
       "      <td>2030600</td>\n",
       "      <td>0506</td>\n",
       "      <td>85000.00</td>\n",
       "      <td>85000.00</td>\n",
       "      <td>620</td>\n",
       "      <td>5944(068)</td>\n",
       "      <td>Transportation Investment Fund</td>\n",
       "    </tr>\n",
       "    <tr>\n",
       "      <th>3806</th>\n",
       "      <td>0500000588</td>\n",
       "      <td>0890</td>\n",
       "      <td>2030010</td>\n",
       "      <td>0910</td>\n",
       "      <td>809514.72</td>\n",
       "      <td>809514.72</td>\n",
       "      <td>300</td>\n",
       "      <td>5944(068)</td>\n",
       "      <td>Federal Trust Fund</td>\n",
       "    </tr>\n",
       "    <tr>\n",
       "      <th>3807</th>\n",
       "      <td>0500000588</td>\n",
       "      <td>0890</td>\n",
       "      <td>2030010</td>\n",
       "      <td>1213</td>\n",
       "      <td>1001729.00</td>\n",
       "      <td>1001729.00</td>\n",
       "      <td>300</td>\n",
       "      <td>5944(068)</td>\n",
       "      <td>Federal Trust Fund</td>\n",
       "    </tr>\n",
       "    <tr>\n",
       "      <th>3808</th>\n",
       "      <td>0500000588</td>\n",
       "      <td>0890</td>\n",
       "      <td>2030010</td>\n",
       "      <td>1516</td>\n",
       "      <td>2970654.54</td>\n",
       "      <td>2970654.54</td>\n",
       "      <td>300</td>\n",
       "      <td>5944(068)</td>\n",
       "      <td>Federal Trust Fund</td>\n",
       "    </tr>\n",
       "  </tbody>\n",
       "</table>\n",
       "</div>"
      ],
      "text/plain": [
       "     adv_project_id fund_code pec_code appropriation_category_code  \\\n",
       "3804     0500000588      0890  2030010                        0203   \n",
       "3805     0500000588      3008  2030600                        0506   \n",
       "3806     0500000588      0890  2030010                        0910   \n",
       "3807     0500000588      0890  2030010                        1213   \n",
       "3808     0500000588      0890  2030010                        1516   \n",
       "\n",
       "      curr_bud_am  cash_exp_am  pect_task_code project_id  \\\n",
       "3804    630485.13    630485.13             300  5944(068)   \n",
       "3805     85000.00     85000.00             620  5944(068)   \n",
       "3806    809514.72    809514.72             300  5944(068)   \n",
       "3807   1001729.00   1001729.00             300  5944(068)   \n",
       "3808   2970654.54   2970654.54             300  5944(068)   \n",
       "\n",
       "                        general_fund  \n",
       "3804              Federal Trust Fund  \n",
       "3805  Transportation Investment Fund  \n",
       "3806              Federal Trust Fund  \n",
       "3807              Federal Trust Fund  \n",
       "3808              Federal Trust Fund  "
      ]
     },
     "execution_count": 260,
     "metadata": {},
     "output_type": "execute_result"
    }
   ],
   "source": [
    "fund_phase_df.loc[fund_phase_df.project_id == '5944(068)']"
   ]
  },
  {
   "cell_type": "code",
   "execution_count": 261,
   "id": "c6465aa8",
   "metadata": {},
   "outputs": [
    {
     "data": {
      "text/plain": [
       "curr_bud_am   5412383.39\n",
       "dtype: float64"
      ]
     },
     "execution_count": 261,
     "metadata": {},
     "output_type": "execute_result"
    }
   ],
   "source": [
    "fund_phase_df.loc[(fund_phase_df.project_id == '5944(068)')&(fund_phase_df.general_fund == 'Federal Trust Fund')][['curr_bud_am']].sum()"
   ]
  },
  {
   "cell_type": "code",
   "execution_count": 262,
   "id": "1a4ae929",
   "metadata": {},
   "outputs": [
    {
     "data": {
      "text/plain": [
       "curr_bud_am   5497383.39\n",
       "dtype: float64"
      ]
     },
     "execution_count": 262,
     "metadata": {},
     "output_type": "execute_result"
    }
   ],
   "source": [
    "fund_phase_df.loc[fund_phase_df.project_id == '5944(068)'][['curr_bud_am']].sum()"
   ]
  },
  {
   "cell_type": "code",
   "execution_count": 263,
   "id": "5dcaa987",
   "metadata": {},
   "outputs": [
    {
     "data": {
      "text/plain": [
       "3209   5497383.39\n",
       "dtype: float64"
      ]
     },
     "execution_count": 263,
     "metadata": {},
     "output_type": "execute_result"
    }
   ],
   "source": [
    "final_fund_phase_df.loc[final_fund_phase_df.project_id == '5944(068)'].total_state_funds + final_fund_phase_df.loc[final_fund_phase_df.project_id == '5944(068)'].federal_trust_fund"
   ]
  },
  {
   "cell_type": "code",
   "execution_count": 264,
   "id": "88142d1f",
   "metadata": {},
   "outputs": [
    {
     "data": {
      "text/html": [
       "<div>\n",
       "<style scoped>\n",
       "    .dataframe tbody tr th:only-of-type {\n",
       "        vertical-align: middle;\n",
       "    }\n",
       "\n",
       "    .dataframe tbody tr th {\n",
       "        vertical-align: top;\n",
       "    }\n",
       "\n",
       "    .dataframe thead th {\n",
       "        text-align: right;\n",
       "    }\n",
       "</style>\n",
       "<table border=\"1\" class=\"dataframe\">\n",
       "  <thead>\n",
       "    <tr style=\"text-align: right;\">\n",
       "      <th></th>\n",
       "      <th>project_id</th>\n",
       "      <th>corridor_mobility_improvement_account</th>\n",
       "      <th>environmental_enhanc_&amp;_mitigat_prgm_fd</th>\n",
       "      <th>federal_trust_fund</th>\n",
       "      <th>highway_safety,rehabilitation,&amp;_preservation_acct</th>\n",
       "      <th>local_bridge_seismic_retrofit_acct</th>\n",
       "      <th>road_maintenance_&amp;_rehabilitation_account,_stf</th>\n",
       "      <th>state_highway_account</th>\n",
       "      <th>state-local_partnership_program_acct</th>\n",
       "      <th>trade_corridor_enhancement_account,_stf</th>\n",
       "      <th>trade_corridors_improvement_fund</th>\n",
       "      <th>traffic_congestion_relief_fund</th>\n",
       "      <th>transportation_deferred_investment_fund</th>\n",
       "      <th>transportation_faciilities_account</th>\n",
       "      <th>transportation_investment_fund</th>\n",
       "      <th>unknown</th>\n",
       "      <th>total_state_funds</th>\n",
       "      <th>single_phase_cost</th>\n",
       "      <th>single_phase_expenditure_amt</th>\n",
       "      <th>total_federal_funds</th>\n",
       "      <th>is_state</th>\n",
       "      <th>is_federal</th>\n",
       "    </tr>\n",
       "  </thead>\n",
       "  <tbody>\n",
       "    <tr>\n",
       "      <th>383</th>\n",
       "      <td>5006(219)</td>\n",
       "      <td>0.00</td>\n",
       "      <td>0.00</td>\n",
       "      <td>32967253.86</td>\n",
       "      <td>0.00</td>\n",
       "      <td>229400.00</td>\n",
       "      <td>0.00</td>\n",
       "      <td>0.00</td>\n",
       "      <td>0.00</td>\n",
       "      <td>0.00</td>\n",
       "      <td>0.00</td>\n",
       "      <td>0.00</td>\n",
       "      <td>0.00</td>\n",
       "      <td>0.00</td>\n",
       "      <td>0.00</td>\n",
       "      <td>0.00</td>\n",
       "      <td>229400.00</td>\n",
       "      <td>33196653.86</td>\n",
       "      <td>32534546.43</td>\n",
       "      <td>32967253.86</td>\n",
       "      <td>Yes</td>\n",
       "      <td>Yes</td>\n",
       "    </tr>\n",
       "  </tbody>\n",
       "</table>\n",
       "</div>"
      ],
      "text/plain": [
       "    project_id  corridor_mobility_improvement_account  \\\n",
       "383  5006(219)                                   0.00   \n",
       "\n",
       "     environmental_enhanc_&_mitigat_prgm_fd  federal_trust_fund  \\\n",
       "383                                    0.00         32967253.86   \n",
       "\n",
       "     highway_safety,rehabilitation,&_preservation_acct  \\\n",
       "383                                               0.00   \n",
       "\n",
       "     local_bridge_seismic_retrofit_acct  \\\n",
       "383                           229400.00   \n",
       "\n",
       "     road_maintenance_&_rehabilitation_account,_stf  state_highway_account  \\\n",
       "383                                            0.00                   0.00   \n",
       "\n",
       "     state-local_partnership_program_acct  \\\n",
       "383                                  0.00   \n",
       "\n",
       "     trade_corridor_enhancement_account,_stf  \\\n",
       "383                                     0.00   \n",
       "\n",
       "     trade_corridors_improvement_fund  traffic_congestion_relief_fund  \\\n",
       "383                              0.00                            0.00   \n",
       "\n",
       "     transportation_deferred_investment_fund  \\\n",
       "383                                     0.00   \n",
       "\n",
       "     transportation_faciilities_account  transportation_investment_fund  \\\n",
       "383                                0.00                            0.00   \n",
       "\n",
       "     unknown  total_state_funds  single_phase_cost  \\\n",
       "383     0.00          229400.00        33196653.86   \n",
       "\n",
       "     single_phase_expenditure_amt  total_federal_funds is_state is_federal  \n",
       "383                   32534546.43          32967253.86      Yes        Yes  "
      ]
     },
     "execution_count": 264,
     "metadata": {},
     "output_type": "execute_result"
    }
   ],
   "source": [
    "final_fund_phase_df.loc[final_fund_phase_df.project_id == '5006(219)']"
   ]
  },
  {
   "cell_type": "code",
   "execution_count": 265,
   "id": "61f4652c",
   "metadata": {},
   "outputs": [
    {
     "data": {
      "text/plain": [
       "curr_bud_am   32967253.86\n",
       "dtype: float64"
      ]
     },
     "execution_count": 265,
     "metadata": {},
     "output_type": "execute_result"
    }
   ],
   "source": [
    "fund_phase_df.loc[(fund_phase_df.project_id == '5006(219)')&(fund_phase_df.general_fund == 'Federal Trust Fund')][['curr_bud_am']].sum()"
   ]
  },
  {
   "cell_type": "code",
   "execution_count": 266,
   "id": "72e610b6",
   "metadata": {},
   "outputs": [
    {
     "data": {
      "text/plain": [
       "33196653.86"
      ]
     },
     "execution_count": 266,
     "metadata": {},
     "output_type": "execute_result"
    }
   ],
   "source": [
    "229400.00 + 32967253.86"
   ]
  },
  {
   "cell_type": "code",
   "execution_count": 267,
   "id": "9c4e34c0",
   "metadata": {},
   "outputs": [
    {
     "data": {
      "text/html": [
       "<div>\n",
       "<style scoped>\n",
       "    .dataframe tbody tr th:only-of-type {\n",
       "        vertical-align: middle;\n",
       "    }\n",
       "\n",
       "    .dataframe tbody tr th {\n",
       "        vertical-align: top;\n",
       "    }\n",
       "\n",
       "    .dataframe thead th {\n",
       "        text-align: right;\n",
       "    }\n",
       "</style>\n",
       "<table border=\"1\" class=\"dataframe\">\n",
       "  <thead>\n",
       "    <tr style=\"text-align: right;\">\n",
       "      <th></th>\n",
       "      <th>adv_project_id</th>\n",
       "      <th>fund_code</th>\n",
       "      <th>pec_code</th>\n",
       "      <th>appropriation_category_code</th>\n",
       "      <th>curr_bud_am</th>\n",
       "      <th>cash_exp_am</th>\n",
       "      <th>pect_task_code</th>\n",
       "      <th>project_id</th>\n",
       "      <th>general_fund</th>\n",
       "    </tr>\n",
       "  </thead>\n",
       "  <tbody>\n",
       "    <tr>\n",
       "      <th>5734</th>\n",
       "      <td>0700001158</td>\n",
       "      <td>0890</td>\n",
       "      <td>2030010</td>\n",
       "      <td>0506</td>\n",
       "      <td>1000000.00</td>\n",
       "      <td>1000000.00</td>\n",
       "      <td>810</td>\n",
       "      <td>5006(219)</td>\n",
       "      <td>Federal Trust Fund</td>\n",
       "    </tr>\n",
       "    <tr>\n",
       "      <th>5735</th>\n",
       "      <td>0700001158</td>\n",
       "      <td>0890</td>\n",
       "      <td>2030010</td>\n",
       "      <td>1415</td>\n",
       "      <td>0.00</td>\n",
       "      <td>0.00</td>\n",
       "      <td>300</td>\n",
       "      <td>5006(219)</td>\n",
       "      <td>Federal Trust Fund</td>\n",
       "    </tr>\n",
       "    <tr>\n",
       "      <th>5736</th>\n",
       "      <td>0700001158</td>\n",
       "      <td>0890</td>\n",
       "      <td>2030010</td>\n",
       "      <td>0809</td>\n",
       "      <td>1691542.00</td>\n",
       "      <td>1691542.00</td>\n",
       "      <td>810</td>\n",
       "      <td>5006(219)</td>\n",
       "      <td>Federal Trust Fund</td>\n",
       "    </tr>\n",
       "    <tr>\n",
       "      <th>5737</th>\n",
       "      <td>0700001158</td>\n",
       "      <td>0890</td>\n",
       "      <td>2030010</td>\n",
       "      <td>1011</td>\n",
       "      <td>25448.42</td>\n",
       "      <td>25448.42</td>\n",
       "      <td>810</td>\n",
       "      <td>5006(219)</td>\n",
       "      <td>Federal Trust Fund</td>\n",
       "    </tr>\n",
       "    <tr>\n",
       "      <th>5738</th>\n",
       "      <td>0700001158</td>\n",
       "      <td>0890</td>\n",
       "      <td>2030010</td>\n",
       "      <td>1112</td>\n",
       "      <td>20206009.54</td>\n",
       "      <td>20206009.54</td>\n",
       "      <td>300</td>\n",
       "      <td>5006(219)</td>\n",
       "      <td>Federal Trust Fund</td>\n",
       "    </tr>\n",
       "    <tr>\n",
       "      <th>5739</th>\n",
       "      <td>0700001158</td>\n",
       "      <td>0890</td>\n",
       "      <td>2030010</td>\n",
       "      <td>1314</td>\n",
       "      <td>3216979.12</td>\n",
       "      <td>3216979.12</td>\n",
       "      <td>300</td>\n",
       "      <td>5006(219)</td>\n",
       "      <td>Federal Trust Fund</td>\n",
       "    </tr>\n",
       "    <tr>\n",
       "      <th>5740</th>\n",
       "      <td>0700001158</td>\n",
       "      <td>0890</td>\n",
       "      <td>2030010</td>\n",
       "      <td>1415</td>\n",
       "      <td>154672.27</td>\n",
       "      <td>154672.27</td>\n",
       "      <td>300</td>\n",
       "      <td>5006(219)</td>\n",
       "      <td>Federal Trust Fund</td>\n",
       "    </tr>\n",
       "    <tr>\n",
       "      <th>5741</th>\n",
       "      <td>0700001158</td>\n",
       "      <td>0890</td>\n",
       "      <td>2030010</td>\n",
       "      <td>1617</td>\n",
       "      <td>608787.00</td>\n",
       "      <td>294068.82</td>\n",
       "      <td>300</td>\n",
       "      <td>5006(219)</td>\n",
       "      <td>Federal Trust Fund</td>\n",
       "    </tr>\n",
       "    <tr>\n",
       "      <th>5742</th>\n",
       "      <td>0700001158</td>\n",
       "      <td>0890</td>\n",
       "      <td>2030010</td>\n",
       "      <td>1920</td>\n",
       "      <td>1876299.00</td>\n",
       "      <td>1653630.55</td>\n",
       "      <td>300</td>\n",
       "      <td>5006(219)</td>\n",
       "      <td>Federal Trust Fund</td>\n",
       "    </tr>\n",
       "    <tr>\n",
       "      <th>5743</th>\n",
       "      <td>0700001158</td>\n",
       "      <td>0890</td>\n",
       "      <td>2030010</td>\n",
       "      <td>1819</td>\n",
       "      <td>106000.00</td>\n",
       "      <td>94331.53</td>\n",
       "      <td>300</td>\n",
       "      <td>5006(219)</td>\n",
       "      <td>Federal Trust Fund</td>\n",
       "    </tr>\n",
       "    <tr>\n",
       "      <th>5744</th>\n",
       "      <td>0700001158</td>\n",
       "      <td>0890</td>\n",
       "      <td>2030010</td>\n",
       "      <td>1819</td>\n",
       "      <td>626000.00</td>\n",
       "      <td>512947.67</td>\n",
       "      <td>300</td>\n",
       "      <td>5006(219)</td>\n",
       "      <td>Federal Trust Fund</td>\n",
       "    </tr>\n",
       "    <tr>\n",
       "      <th>5745</th>\n",
       "      <td>0700001158</td>\n",
       "      <td>0890</td>\n",
       "      <td>2030010</td>\n",
       "      <td>1011</td>\n",
       "      <td>20985.52</td>\n",
       "      <td>20985.52</td>\n",
       "      <td>300</td>\n",
       "      <td>5006(219)</td>\n",
       "      <td>Federal Trust Fund</td>\n",
       "    </tr>\n",
       "    <tr>\n",
       "      <th>5746</th>\n",
       "      <td>0700001158</td>\n",
       "      <td>0890</td>\n",
       "      <td>2030010</td>\n",
       "      <td>1011</td>\n",
       "      <td>80000.00</td>\n",
       "      <td>80000.00</td>\n",
       "      <td>300</td>\n",
       "      <td>5006(219)</td>\n",
       "      <td>Federal Trust Fund</td>\n",
       "    </tr>\n",
       "    <tr>\n",
       "      <th>5747</th>\n",
       "      <td>0700001158</td>\n",
       "      <td>0890</td>\n",
       "      <td>2030010</td>\n",
       "      <td>1011</td>\n",
       "      <td>210932.42</td>\n",
       "      <td>210932.42</td>\n",
       "      <td>300</td>\n",
       "      <td>5006(219)</td>\n",
       "      <td>Federal Trust Fund</td>\n",
       "    </tr>\n",
       "    <tr>\n",
       "      <th>5748</th>\n",
       "      <td>0700001158</td>\n",
       "      <td>0890</td>\n",
       "      <td>2030010</td>\n",
       "      <td>1011</td>\n",
       "      <td>1338648.66</td>\n",
       "      <td>1338648.66</td>\n",
       "      <td>300</td>\n",
       "      <td>5006(219)</td>\n",
       "      <td>Federal Trust Fund</td>\n",
       "    </tr>\n",
       "    <tr>\n",
       "      <th>5749</th>\n",
       "      <td>0700001158</td>\n",
       "      <td>0890</td>\n",
       "      <td>2030010</td>\n",
       "      <td>1011</td>\n",
       "      <td>19384.57</td>\n",
       "      <td>19384.57</td>\n",
       "      <td>300</td>\n",
       "      <td>5006(219)</td>\n",
       "      <td>Federal Trust Fund</td>\n",
       "    </tr>\n",
       "    <tr>\n",
       "      <th>5750</th>\n",
       "      <td>0700001158</td>\n",
       "      <td>0890</td>\n",
       "      <td>2030010</td>\n",
       "      <td>1415</td>\n",
       "      <td>39345.36</td>\n",
       "      <td>39345.36</td>\n",
       "      <td>300</td>\n",
       "      <td>5006(219)</td>\n",
       "      <td>Federal Trust Fund</td>\n",
       "    </tr>\n",
       "    <tr>\n",
       "      <th>5751</th>\n",
       "      <td>0700001158</td>\n",
       "      <td>0890</td>\n",
       "      <td>2030010</td>\n",
       "      <td>1112</td>\n",
       "      <td>516666.98</td>\n",
       "      <td>516666.98</td>\n",
       "      <td>810</td>\n",
       "      <td>5006(219)</td>\n",
       "      <td>Federal Trust Fund</td>\n",
       "    </tr>\n",
       "    <tr>\n",
       "      <th>5752</th>\n",
       "      <td>0700001158</td>\n",
       "      <td>0890</td>\n",
       "      <td>2030010</td>\n",
       "      <td>1314</td>\n",
       "      <td>0.00</td>\n",
       "      <td>0.00</td>\n",
       "      <td>810</td>\n",
       "      <td>5006(219)</td>\n",
       "      <td>Federal Trust Fund</td>\n",
       "    </tr>\n",
       "    <tr>\n",
       "      <th>5753</th>\n",
       "      <td>0700001158</td>\n",
       "      <td>0890</td>\n",
       "      <td>2030010</td>\n",
       "      <td>1112</td>\n",
       "      <td>0.00</td>\n",
       "      <td>0.00</td>\n",
       "      <td>300</td>\n",
       "      <td>5006(219)</td>\n",
       "      <td>Federal Trust Fund</td>\n",
       "    </tr>\n",
       "    <tr>\n",
       "      <th>5754</th>\n",
       "      <td>0700001158</td>\n",
       "      <td>0890</td>\n",
       "      <td>2030010</td>\n",
       "      <td>1213</td>\n",
       "      <td>392119.00</td>\n",
       "      <td>392119.00</td>\n",
       "      <td>300</td>\n",
       "      <td>5006(219)</td>\n",
       "      <td>Federal Trust Fund</td>\n",
       "    </tr>\n",
       "    <tr>\n",
       "      <th>5755</th>\n",
       "      <td>0700001158</td>\n",
       "      <td>0890</td>\n",
       "      <td>2030010</td>\n",
       "      <td>1415</td>\n",
       "      <td>837434.00</td>\n",
       "      <td>837434.00</td>\n",
       "      <td>300</td>\n",
       "      <td>5006(219)</td>\n",
       "      <td>Federal Trust Fund</td>\n",
       "    </tr>\n",
       "    <tr>\n",
       "      <th>5756</th>\n",
       "      <td>0700001158</td>\n",
       "      <td>6062</td>\n",
       "      <td>2030010</td>\n",
       "      <td>1112</td>\n",
       "      <td>229400.00</td>\n",
       "      <td>229400.00</td>\n",
       "      <td>690</td>\n",
       "      <td>5006(219)</td>\n",
       "      <td>Local Bridge Seismic Retrofit Acct</td>\n",
       "    </tr>\n",
       "  </tbody>\n",
       "</table>\n",
       "</div>"
      ],
      "text/plain": [
       "     adv_project_id fund_code pec_code appropriation_category_code  \\\n",
       "5734     0700001158      0890  2030010                        0506   \n",
       "5735     0700001158      0890  2030010                        1415   \n",
       "5736     0700001158      0890  2030010                        0809   \n",
       "5737     0700001158      0890  2030010                        1011   \n",
       "5738     0700001158      0890  2030010                        1112   \n",
       "5739     0700001158      0890  2030010                        1314   \n",
       "5740     0700001158      0890  2030010                        1415   \n",
       "5741     0700001158      0890  2030010                        1617   \n",
       "5742     0700001158      0890  2030010                        1920   \n",
       "5743     0700001158      0890  2030010                        1819   \n",
       "5744     0700001158      0890  2030010                        1819   \n",
       "5745     0700001158      0890  2030010                        1011   \n",
       "5746     0700001158      0890  2030010                        1011   \n",
       "5747     0700001158      0890  2030010                        1011   \n",
       "5748     0700001158      0890  2030010                        1011   \n",
       "5749     0700001158      0890  2030010                        1011   \n",
       "5750     0700001158      0890  2030010                        1415   \n",
       "5751     0700001158      0890  2030010                        1112   \n",
       "5752     0700001158      0890  2030010                        1314   \n",
       "5753     0700001158      0890  2030010                        1112   \n",
       "5754     0700001158      0890  2030010                        1213   \n",
       "5755     0700001158      0890  2030010                        1415   \n",
       "5756     0700001158      6062  2030010                        1112   \n",
       "\n",
       "      curr_bud_am  cash_exp_am  pect_task_code project_id  \\\n",
       "5734   1000000.00   1000000.00             810  5006(219)   \n",
       "5735         0.00         0.00             300  5006(219)   \n",
       "5736   1691542.00   1691542.00             810  5006(219)   \n",
       "5737     25448.42     25448.42             810  5006(219)   \n",
       "5738  20206009.54  20206009.54             300  5006(219)   \n",
       "5739   3216979.12   3216979.12             300  5006(219)   \n",
       "5740    154672.27    154672.27             300  5006(219)   \n",
       "5741    608787.00    294068.82             300  5006(219)   \n",
       "5742   1876299.00   1653630.55             300  5006(219)   \n",
       "5743    106000.00     94331.53             300  5006(219)   \n",
       "5744    626000.00    512947.67             300  5006(219)   \n",
       "5745     20985.52     20985.52             300  5006(219)   \n",
       "5746     80000.00     80000.00             300  5006(219)   \n",
       "5747    210932.42    210932.42             300  5006(219)   \n",
       "5748   1338648.66   1338648.66             300  5006(219)   \n",
       "5749     19384.57     19384.57             300  5006(219)   \n",
       "5750     39345.36     39345.36             300  5006(219)   \n",
       "5751    516666.98    516666.98             810  5006(219)   \n",
       "5752         0.00         0.00             810  5006(219)   \n",
       "5753         0.00         0.00             300  5006(219)   \n",
       "5754    392119.00    392119.00             300  5006(219)   \n",
       "5755    837434.00    837434.00             300  5006(219)   \n",
       "5756    229400.00    229400.00             690  5006(219)   \n",
       "\n",
       "                            general_fund  \n",
       "5734                  Federal Trust Fund  \n",
       "5735                  Federal Trust Fund  \n",
       "5736                  Federal Trust Fund  \n",
       "5737                  Federal Trust Fund  \n",
       "5738                  Federal Trust Fund  \n",
       "5739                  Federal Trust Fund  \n",
       "5740                  Federal Trust Fund  \n",
       "5741                  Federal Trust Fund  \n",
       "5742                  Federal Trust Fund  \n",
       "5743                  Federal Trust Fund  \n",
       "5744                  Federal Trust Fund  \n",
       "5745                  Federal Trust Fund  \n",
       "5746                  Federal Trust Fund  \n",
       "5747                  Federal Trust Fund  \n",
       "5748                  Federal Trust Fund  \n",
       "5749                  Federal Trust Fund  \n",
       "5750                  Federal Trust Fund  \n",
       "5751                  Federal Trust Fund  \n",
       "5752                  Federal Trust Fund  \n",
       "5753                  Federal Trust Fund  \n",
       "5754                  Federal Trust Fund  \n",
       "5755                  Federal Trust Fund  \n",
       "5756  Local Bridge Seismic Retrofit Acct  "
      ]
     },
     "execution_count": 267,
     "metadata": {},
     "output_type": "execute_result"
    }
   ],
   "source": [
    "fund_phase_df.loc[fund_phase_df.project_id ==  '5006(219)']"
   ]
  },
  {
   "cell_type": "markdown",
   "id": "7f0ddf53",
   "metadata": {},
   "source": [
    "## Awards Table\n",
    "* Appropriation code is the fiscal year of award\n"
   ]
  },
  {
   "cell_type": "code",
   "execution_count": 268,
   "id": "f6e5a5a7",
   "metadata": {},
   "outputs": [
    {
     "data": {
      "text/html": [
       "<div>\n",
       "<style scoped>\n",
       "    .dataframe tbody tr th:only-of-type {\n",
       "        vertical-align: middle;\n",
       "    }\n",
       "\n",
       "    .dataframe tbody tr th {\n",
       "        vertical-align: top;\n",
       "    }\n",
       "\n",
       "    .dataframe thead th {\n",
       "        text-align: right;\n",
       "    }\n",
       "</style>\n",
       "<table border=\"1\" class=\"dataframe\">\n",
       "  <thead>\n",
       "    <tr style=\"text-align: right;\">\n",
       "      <th></th>\n",
       "      <th>adv_project_id</th>\n",
       "      <th>fund_code</th>\n",
       "      <th>pec_code</th>\n",
       "      <th>appropriation_category_code</th>\n",
       "      <th>curr_bud_am</th>\n",
       "      <th>cash_exp_am</th>\n",
       "      <th>pect_task_code</th>\n",
       "      <th>project_id</th>\n",
       "      <th>pec</th>\n",
       "      <th>pect</th>\n",
       "      <th>pect_description</th>\n",
       "      <th>program</th>\n",
       "    </tr>\n",
       "  </thead>\n",
       "  <tbody>\n",
       "    <tr>\n",
       "      <th>858</th>\n",
       "      <td>0214000121</td>\n",
       "      <td>0890</td>\n",
       "      <td>2030010</td>\n",
       "      <td>1617</td>\n",
       "      <td>762938.00</td>\n",
       "      <td>435821.60</td>\n",
       "      <td>560</td>\n",
       "      <td>5905(099)</td>\n",
       "      <td>2030010</td>\n",
       "      <td>560.00</td>\n",
       "      <td>High Risk Rural Roads Program (HR3)</td>\n",
       "      <td>Local Assistance</td>\n",
       "    </tr>\n",
       "  </tbody>\n",
       "</table>\n",
       "</div>"
      ],
      "text/plain": [
       "    adv_project_id fund_code pec_code appropriation_category_code  \\\n",
       "858     0214000121      0890  2030010                        1617   \n",
       "\n",
       "     curr_bud_am  cash_exp_am  pect_task_code project_id      pec   pect  \\\n",
       "858    762938.00    435821.60             560  5905(099)  2030010 560.00   \n",
       "\n",
       "                        pect_description           program  \n",
       "858  High Risk Rural Roads Program (HR3)  Local Assistance  "
      ]
     },
     "execution_count": 268,
     "metadata": {},
     "output_type": "execute_result"
    }
   ],
   "source": [
    "pect_df.sample()"
   ]
  },
  {
   "cell_type": "code",
   "execution_count": 269,
   "id": "51f10795",
   "metadata": {},
   "outputs": [
    {
     "data": {
      "text/html": [
       "<div>\n",
       "<style scoped>\n",
       "    .dataframe tbody tr th:only-of-type {\n",
       "        vertical-align: middle;\n",
       "    }\n",
       "\n",
       "    .dataframe tbody tr th {\n",
       "        vertical-align: top;\n",
       "    }\n",
       "\n",
       "    .dataframe thead th {\n",
       "        text-align: right;\n",
       "    }\n",
       "</style>\n",
       "<table border=\"1\" class=\"dataframe\">\n",
       "  <thead>\n",
       "    <tr style=\"text-align: right;\">\n",
       "      <th></th>\n",
       "      <th>adv_project_id</th>\n",
       "      <th>fund_code</th>\n",
       "      <th>pec_code</th>\n",
       "      <th>appropriation_category_code</th>\n",
       "      <th>curr_bud_am</th>\n",
       "      <th>cash_exp_am</th>\n",
       "      <th>pect_task_code</th>\n",
       "      <th>project_id</th>\n",
       "    </tr>\n",
       "  </thead>\n",
       "  <tbody>\n",
       "    <tr>\n",
       "      <th>5928</th>\n",
       "      <td>0700020294</td>\n",
       "      <td>0890</td>\n",
       "      <td>2030010</td>\n",
       "      <td>1112</td>\n",
       "      <td>554663.00</td>\n",
       "      <td>554663.00</td>\n",
       "      <td>690</td>\n",
       "      <td>5953(650)</td>\n",
       "    </tr>\n",
       "  </tbody>\n",
       "</table>\n",
       "</div>"
      ],
      "text/plain": [
       "     adv_project_id fund_code pec_code appropriation_category_code  \\\n",
       "5928     0700020294      0890  2030010                        1112   \n",
       "\n",
       "      curr_bud_am  cash_exp_am  pect_task_code project_id  \n",
       "5928    554663.00    554663.00             690  5953(650)  "
      ]
     },
     "execution_count": 269,
     "metadata": {},
     "output_type": "execute_result"
    }
   ],
   "source": [
    "accounting_df.sample()"
   ]
  },
  {
   "cell_type": "code",
   "execution_count": 270,
   "id": "e33565a3",
   "metadata": {},
   "outputs": [],
   "source": [
    "# Only want the most recent year of a pec_code listed once\n",
    "awards_df = (pect_df\n",
    "                  .groupby(['project_id', 'program'])\n",
    "                  .agg({'appropriation_category_code':'max'})\n",
    "                  .reset_index()\n",
    "                  .rename(columns = {'appropriation_category_code':'state_fiscal_awarded_year',\n",
    "                                     'program':'grant_program'})\n",
    "                  )"
   ]
  },
  {
   "cell_type": "markdown",
   "id": "edbc2079",
   "metadata": {},
   "source": [
    "## Checks"
   ]
  },
  {
   "cell_type": "code",
   "execution_count": 271,
   "id": "bd775031",
   "metadata": {},
   "outputs": [
    {
     "data": {
      "text/plain": [
       "5182(058)    3\n",
       "5288(046)    3\n",
       "5475(038)    3\n",
       "6066(140)    3\n",
       "6090(059)    3\n",
       "Name: project_id, dtype: int64"
      ]
     },
     "execution_count": 271,
     "metadata": {},
     "output_type": "execute_result"
    }
   ],
   "source": [
    "awards_df.project_id.value_counts().head()"
   ]
  },
  {
   "cell_type": "code",
   "execution_count": 272,
   "id": "d0b1444e",
   "metadata": {},
   "outputs": [
    {
     "data": {
      "text/html": [
       "<div>\n",
       "<style scoped>\n",
       "    .dataframe tbody tr th:only-of-type {\n",
       "        vertical-align: middle;\n",
       "    }\n",
       "\n",
       "    .dataframe tbody tr th {\n",
       "        vertical-align: top;\n",
       "    }\n",
       "\n",
       "    .dataframe thead th {\n",
       "        text-align: right;\n",
       "    }\n",
       "</style>\n",
       "<table border=\"1\" class=\"dataframe\">\n",
       "  <thead>\n",
       "    <tr style=\"text-align: right;\">\n",
       "      <th></th>\n",
       "      <th>project_id</th>\n",
       "      <th>grant_program</th>\n",
       "      <th>state_fiscal_awarded_year</th>\n",
       "    </tr>\n",
       "  </thead>\n",
       "  <tbody>\n",
       "    <tr>\n",
       "      <th>1546</th>\n",
       "      <td>5182(058)</td>\n",
       "      <td>Active Transportation Program (ATP)</td>\n",
       "      <td>2223</td>\n",
       "    </tr>\n",
       "    <tr>\n",
       "      <th>1547</th>\n",
       "      <td>5182(058)</td>\n",
       "      <td>Local Assistance</td>\n",
       "      <td>2223</td>\n",
       "    </tr>\n",
       "    <tr>\n",
       "      <th>1548</th>\n",
       "      <td>5182(058)</td>\n",
       "      <td>Proposition 1B, Hwy Safety, Traffic Reduction, Air Quality , and Port Security Bond Act of 2006, and SB 1: The Road Repair and Accountability Act of 2017</td>\n",
       "      <td>2122</td>\n",
       "    </tr>\n",
       "  </tbody>\n",
       "</table>\n",
       "</div>"
      ],
      "text/plain": [
       "     project_id  \\\n",
       "1546  5182(058)   \n",
       "1547  5182(058)   \n",
       "1548  5182(058)   \n",
       "\n",
       "                                                                                                                                                  grant_program  \\\n",
       "1546                                                                                                                        Active Transportation Program (ATP)   \n",
       "1547                                                                                                                                           Local Assistance   \n",
       "1548  Proposition 1B, Hwy Safety, Traffic Reduction, Air Quality , and Port Security Bond Act of 2006, and SB 1: The Road Repair and Accountability Act of 2017   \n",
       "\n",
       "     state_fiscal_awarded_year  \n",
       "1546                      2223  \n",
       "1547                      2223  \n",
       "1548                      2122  "
      ]
     },
     "execution_count": 272,
     "metadata": {},
     "output_type": "execute_result"
    }
   ],
   "source": [
    "awards_df.loc[awards_df.project_id == \"5182(058)\"]"
   ]
  },
  {
   "cell_type": "code",
   "execution_count": 273,
   "id": "c7feef8d",
   "metadata": {},
   "outputs": [
    {
     "data": {
      "text/html": [
       "<div>\n",
       "<style scoped>\n",
       "    .dataframe tbody tr th:only-of-type {\n",
       "        vertical-align: middle;\n",
       "    }\n",
       "\n",
       "    .dataframe tbody tr th {\n",
       "        vertical-align: top;\n",
       "    }\n",
       "\n",
       "    .dataframe thead th {\n",
       "        text-align: right;\n",
       "    }\n",
       "</style>\n",
       "<table border=\"1\" class=\"dataframe\">\n",
       "  <thead>\n",
       "    <tr style=\"text-align: right;\">\n",
       "      <th></th>\n",
       "      <th>adv_project_id</th>\n",
       "      <th>fund_code</th>\n",
       "      <th>pec_code</th>\n",
       "      <th>appropriation_category_code</th>\n",
       "      <th>curr_bud_am</th>\n",
       "      <th>cash_exp_am</th>\n",
       "      <th>pect_task_code</th>\n",
       "      <th>project_id</th>\n",
       "      <th>pec</th>\n",
       "      <th>pect</th>\n",
       "      <th>pect_description</th>\n",
       "      <th>program</th>\n",
       "    </tr>\n",
       "  </thead>\n",
       "  <tbody>\n",
       "    <tr>\n",
       "      <th>1412</th>\n",
       "      <td>0312000145</td>\n",
       "      <td>0890</td>\n",
       "      <td>2030720</td>\n",
       "      <td>2223</td>\n",
       "      <td>4318000.00</td>\n",
       "      <td>0.00</td>\n",
       "      <td>100</td>\n",
       "      <td>5182(058)</td>\n",
       "      <td>2030720</td>\n",
       "      <td>100.00</td>\n",
       "      <td>Active Transportation Program (ATP)</td>\n",
       "      <td>Active Transportation Program (ATP)</td>\n",
       "    </tr>\n",
       "    <tr>\n",
       "      <th>1413</th>\n",
       "      <td>0312000145</td>\n",
       "      <td>0042</td>\n",
       "      <td>2030210</td>\n",
       "      <td>2122</td>\n",
       "      <td>6239000.00</td>\n",
       "      <td>0.00</td>\n",
       "      <td>350</td>\n",
       "      <td>5182(058)</td>\n",
       "      <td>2030210</td>\n",
       "      <td>350.00</td>\n",
       "      <td>Solutions for Congested Corridors Program (SCCP)</td>\n",
       "      <td>Proposition 1B, Hwy Safety, Traffic Reduction, Air Quality , and Port Security Bond Act of 2006, and SB 1: The Road Repair and Accountability Act of 2017</td>\n",
       "    </tr>\n",
       "    <tr>\n",
       "      <th>1414</th>\n",
       "      <td>0312000145</td>\n",
       "      <td>0890</td>\n",
       "      <td>2030010</td>\n",
       "      <td>1011</td>\n",
       "      <td>456704.00</td>\n",
       "      <td>456704.00</td>\n",
       "      <td>820</td>\n",
       "      <td>5182(058)</td>\n",
       "      <td>2030010</td>\n",
       "      <td>820.00</td>\n",
       "      <td>Congestion Mitigation &amp; Air Quality Improvement Program (CMAQ)</td>\n",
       "      <td>Local Assistance</td>\n",
       "    </tr>\n",
       "    <tr>\n",
       "      <th>1415</th>\n",
       "      <td>0312000145</td>\n",
       "      <td>0890</td>\n",
       "      <td>2030010</td>\n",
       "      <td>1112</td>\n",
       "      <td>0.00</td>\n",
       "      <td>0.00</td>\n",
       "      <td>820</td>\n",
       "      <td>5182(058)</td>\n",
       "      <td>2030010</td>\n",
       "      <td>820.00</td>\n",
       "      <td>Congestion Mitigation &amp; Air Quality Improvement Program (CMAQ)</td>\n",
       "      <td>Local Assistance</td>\n",
       "    </tr>\n",
       "    <tr>\n",
       "      <th>1416</th>\n",
       "      <td>0312000145</td>\n",
       "      <td>0890</td>\n",
       "      <td>2030010</td>\n",
       "      <td>1213</td>\n",
       "      <td>54423.24</td>\n",
       "      <td>54423.24</td>\n",
       "      <td>820</td>\n",
       "      <td>5182(058)</td>\n",
       "      <td>2030010</td>\n",
       "      <td>820.00</td>\n",
       "      <td>Congestion Mitigation &amp; Air Quality Improvement Program (CMAQ)</td>\n",
       "      <td>Local Assistance</td>\n",
       "    </tr>\n",
       "    <tr>\n",
       "      <th>1417</th>\n",
       "      <td>0312000145</td>\n",
       "      <td>0890</td>\n",
       "      <td>2030010</td>\n",
       "      <td>1920</td>\n",
       "      <td>50000.00</td>\n",
       "      <td>13000.00</td>\n",
       "      <td>820</td>\n",
       "      <td>5182(058)</td>\n",
       "      <td>2030010</td>\n",
       "      <td>820.00</td>\n",
       "      <td>Congestion Mitigation &amp; Air Quality Improvement Program (CMAQ)</td>\n",
       "      <td>Local Assistance</td>\n",
       "    </tr>\n",
       "    <tr>\n",
       "      <th>1418</th>\n",
       "      <td>0312000145</td>\n",
       "      <td>0890</td>\n",
       "      <td>2030010</td>\n",
       "      <td>2223</td>\n",
       "      <td>333821.00</td>\n",
       "      <td>0.00</td>\n",
       "      <td>820</td>\n",
       "      <td>5182(058)</td>\n",
       "      <td>2030010</td>\n",
       "      <td>820.00</td>\n",
       "      <td>Congestion Mitigation &amp; Air Quality Improvement Program (CMAQ)</td>\n",
       "      <td>Local Assistance</td>\n",
       "    </tr>\n",
       "    <tr>\n",
       "      <th>1419</th>\n",
       "      <td>0312000145</td>\n",
       "      <td>0890</td>\n",
       "      <td>2030010</td>\n",
       "      <td>1516</td>\n",
       "      <td>34991.76</td>\n",
       "      <td>34991.76</td>\n",
       "      <td>820</td>\n",
       "      <td>5182(058)</td>\n",
       "      <td>2030010</td>\n",
       "      <td>820.00</td>\n",
       "      <td>Congestion Mitigation &amp; Air Quality Improvement Program (CMAQ)</td>\n",
       "      <td>Local Assistance</td>\n",
       "    </tr>\n",
       "  </tbody>\n",
       "</table>\n",
       "</div>"
      ],
      "text/plain": [
       "     adv_project_id fund_code pec_code appropriation_category_code  \\\n",
       "1412     0312000145      0890  2030720                        2223   \n",
       "1413     0312000145      0042  2030210                        2122   \n",
       "1414     0312000145      0890  2030010                        1011   \n",
       "1415     0312000145      0890  2030010                        1112   \n",
       "1416     0312000145      0890  2030010                        1213   \n",
       "1417     0312000145      0890  2030010                        1920   \n",
       "1418     0312000145      0890  2030010                        2223   \n",
       "1419     0312000145      0890  2030010                        1516   \n",
       "\n",
       "      curr_bud_am  cash_exp_am  pect_task_code project_id      pec   pect  \\\n",
       "1412   4318000.00         0.00             100  5182(058)  2030720 100.00   \n",
       "1413   6239000.00         0.00             350  5182(058)  2030210 350.00   \n",
       "1414    456704.00    456704.00             820  5182(058)  2030010 820.00   \n",
       "1415         0.00         0.00             820  5182(058)  2030010 820.00   \n",
       "1416     54423.24     54423.24             820  5182(058)  2030010 820.00   \n",
       "1417     50000.00     13000.00             820  5182(058)  2030010 820.00   \n",
       "1418    333821.00         0.00             820  5182(058)  2030010 820.00   \n",
       "1419     34991.76     34991.76             820  5182(058)  2030010 820.00   \n",
       "\n",
       "                                                    pect_description  \\\n",
       "1412                             Active Transportation Program (ATP)   \n",
       "1413                Solutions for Congested Corridors Program (SCCP)   \n",
       "1414  Congestion Mitigation & Air Quality Improvement Program (CMAQ)   \n",
       "1415  Congestion Mitigation & Air Quality Improvement Program (CMAQ)   \n",
       "1416  Congestion Mitigation & Air Quality Improvement Program (CMAQ)   \n",
       "1417  Congestion Mitigation & Air Quality Improvement Program (CMAQ)   \n",
       "1418  Congestion Mitigation & Air Quality Improvement Program (CMAQ)   \n",
       "1419  Congestion Mitigation & Air Quality Improvement Program (CMAQ)   \n",
       "\n",
       "                                                                                                                                                        program  \n",
       "1412                                                                                                                        Active Transportation Program (ATP)  \n",
       "1413  Proposition 1B, Hwy Safety, Traffic Reduction, Air Quality , and Port Security Bond Act of 2006, and SB 1: The Road Repair and Accountability Act of 2017  \n",
       "1414                                                                                                                                           Local Assistance  \n",
       "1415                                                                                                                                           Local Assistance  \n",
       "1416                                                                                                                                           Local Assistance  \n",
       "1417                                                                                                                                           Local Assistance  \n",
       "1418                                                                                                                                           Local Assistance  \n",
       "1419                                                                                                                                           Local Assistance  "
      ]
     },
     "execution_count": 273,
     "metadata": {},
     "output_type": "execute_result"
    }
   ],
   "source": [
    "# Check original df \n",
    "pect_df.loc[pect_df.project_id == \"5182(058)\"]"
   ]
  },
  {
   "cell_type": "code",
   "execution_count": 274,
   "id": "0bbac42d",
   "metadata": {},
   "outputs": [
    {
     "data": {
      "text/html": [
       "<style  type=\"text/css\" >\n",
       "#T_7f970_row0_col40,#T_7f970_row0_col41,#T_7f970_row0_col47{\n",
       "            color:  red;\n",
       "        }</style><table id=\"T_7f970_\" ><thead>    <tr>        <th class=\"blank level0\" ></th>        <th class=\"col_heading level0 col0\" >project_id</th>        <th class=\"col_heading level0 col1\" >comment_desc</th>        <th class=\"col_heading level0 col2\" >district_code</th>        <th class=\"col_heading level0 col3\" >est_total_prj_costs</th>        <th class=\"col_heading level0 col4\" >location_name</th>        <th class=\"col_heading level0 col5\" >project_label_name</th>        <th class=\"col_heading level0 col6\" >original_post_mile_begin_id</th>        <th class=\"col_heading level0 col7\" >original_post_mile_end_id</th>        <th class=\"col_heading level0 col8\" >revised_post_mile_begin_ind</th>        <th class=\"col_heading level0 col9\" >revised_post_mile_end_ind</th>        <th class=\"col_heading level0 col10\" >route_name</th>        <th class=\"col_heading level0 col11\" >state_hwy_ind</th>        <th class=\"col_heading level0 col12\" >senate_district_code</th>        <th class=\"col_heading level0 col13\" >update_date_time</th>        <th class=\"col_heading level0 col14\" >agency_name</th>        <th class=\"col_heading level0 col15\" >urban_area_code</th>        <th class=\"col_heading level0 col16\" >county_name</th>        <th class=\"col_heading level0 col17\" >work_type_desc</th>        <th class=\"col_heading level0 col18\" >category_desc</th>        <th class=\"col_heading level0 col19\" >current_phase</th>        <th class=\"col_heading level0 col20\" >active_transportation_program_(atp)</th>        <th class=\"col_heading level0 col21\" >bridge_inspection_&_scour_evaluation</th>        <th class=\"col_heading level0 col22\" >covid_relief_funds_for_highway_infrastructure_programs_for_stip-covid_augmentation</th>        <th class=\"col_heading level0 col23\" >carbon_reduction_program_(crp)</th>        <th class=\"col_heading level0 col24\" >congestion_mitigation_&_air_quality_improvement_program_(cmaq)</th>        <th class=\"col_heading level0 col25\" >coronavirus_response_and_relief_supplemental_appropriations_act_(crrsaa)_funds</th>        <th class=\"col_heading level0 col26\" >corridor_mobility_improvement_account_(cmia)_program</th>        <th class=\"col_heading level0 col27\" >county_exchange_funds</th>        <th class=\"col_heading level0 col28\" >county_state_match_program</th>        <th class=\"col_heading level0 col29\" >earmarks_projects_(hpp,_demo_cpfcds,_etc.)</th>        <th class=\"col_heading level0 col30\" >emergency_relief_(er)</th>        <th class=\"col_heading level0 col31\" >ferry_boat_program_(fbp)_and_ferry_boat_discretionary_(fbd)_program</th>        <th class=\"col_heading level0 col32\" >funds_for_planning,_programming_and_monitoring_-_rip</th>        <th class=\"col_heading level0 col33\" >general_funded_designated_programs</th>        <th class=\"col_heading level0 col34\" >hazard_elimination_safety_(hes)</th>        <th class=\"col_heading level0 col35\" >high_risk_rural_roads_program_(hr3)</th>        <th class=\"col_heading level0 col36\" >highway_bridge_</th>        <th class=\"col_heading level0 col37\" >highway_safety_improvement_program_(hsip)_(infrastructure)-state_fund</th>        <th class=\"col_heading level0 col38\" >highway_safety_improvement_program_(hsip)_(non-infrastructure)</th>        <th class=\"col_heading level0 col39\" >highway_safety_improvement_program_(hsip)(infrastructure)-federal_fund</th>        <th class=\"col_heading level0 col40\" >local_partnership_program_(lpp_–_competitive)_</th>        <th class=\"col_heading level0 col41\" >local_roads</th>        <th class=\"col_heading level0 col42\" >local_roads_rehabilitation</th>        <th class=\"col_heading level0 col43\" >railroad_grade_crossing_protection</th>        <th class=\"col_heading level0 col44\" >railroad_grade_separations</th>        <th class=\"col_heading level0 col45\" >rebuilding_american_infrastructure_with_sustainability_and_equity_(raise)_and_multimodal_project_discretionary_grant_programs_(e.g.,_infra,_mega,_rstg_or_rural)_</th>        <th class=\"col_heading level0 col46\" >regional_improvement_program_–_regional_share_of_stip_transportation_enhancement_(off_system)</th>        <th class=\"col_heading level0 col47\" >regional_surface_transportation_block_grant_program_(rstbgp)_and_highway_infrastructure_program_(hip)</th>        <th class=\"col_heading level0 col48\" >regional_transportation_planning_agency_(rtpa)_stp_match_exchange</th>        <th class=\"col_heading level0 col49\" >sb1_funded_freeway_service_patrol</th>        <th class=\"col_heading level0 col50\" >shopp-_traffic_light_synchronization_program_(tlsp)-_proposition_1b_bond_funds</th>        <th class=\"col_heading level0 col51\" >safe_routes_to_school_(sr2s_and_srts)</th>        <th class=\"col_heading level0 col52\" >set-aside_coordinated_border_infrastructure_(cbi)_program_under_fast_act</th>        <th class=\"col_heading level0 col53\" >solutions_for_congested_corridors_program_(sccp)</th>        <th class=\"col_heading level0 col54\" >special_programs</th>        <th class=\"col_heading level0 col55\" >state-local_partnership_program_(slpp)_and_local_partnership_program_(lpp-formulaic)</th>        <th class=\"col_heading level0 col56\" >structures_seismic_retrofit_</th>        <th class=\"col_heading level0 col57\" >trade_corridor_enhancement_account_(tcea)_programs_–_local_share</th>        <th class=\"col_heading level0 col58\" >trade_corridor_enhancement_account_(tcea)_programs_–_state_share</th>        <th class=\"col_heading level0 col59\" >trade_corridors_improvement_fund_(tcif)_program_local_streets_&_roads</th>        <th class=\"col_heading level0 col60\" >traffic_congestion_relief_program_(_tcrp_)</th>        <th class=\"col_heading level0 col61\" >unknown</th>    </tr></thead><tbody>\n",
       "                <tr>\n",
       "                        <th id=\"T_7f970_level0_row0\" class=\"row_heading level0 row0\" >7834</th>\n",
       "                        <td id=\"T_7f970_row0_col0\" class=\"data row0 col0\" >5288(046)</td>\n",
       "                        <td id=\"T_7f970_row0_col1\" class=\"data row0 col1\" >Data Migrated from CTIPS :\r\n",
       "The Project Planning Id are: 1785; \r\n",
       "The locations are :In Folsom on White Rock Road in the vicinity of the Scott Road Intersection. Widen 1 mile of 4-lane roadway and signalize 1 Intersection.;\n",
       "2/13/2020:  This project is the same as STPL-6498(003).  Agency is determining whether CMGC negotiations will be viable via the JPA and if not, project will be turned over to City of Folsom to implement/construct.  CR\n",
       "2/13/2020:  This project is the same as \n",
       "Project has $10,000 LPP and $15,000 RIP/STIP.\n",
       "8/22/22:  Cost adj to correct local funds to local AC $6,201,500.  Erroneously entered as local funds in prior sequence.</td>\n",
       "                        <td id=\"T_7f970_row0_col2\" class=\"data row0 col2\" >03</td>\n",
       "                        <td id=\"T_7f970_row0_col3\" class=\"data row0 col3\" >25750000.000000</td>\n",
       "                        <td id=\"T_7f970_row0_col4\" class=\"data row0 col4\" >In City of Folsom, on White Rock Road from Prairie City Road to East Bidwell Street.</td>\n",
       "                        <td id=\"T_7f970_row0_col5\" class=\"data row0 col5\" >Construct 4 lane road with 8 foot shoulders</td>\n",
       "                        <td id=\"T_7f970_row0_col6\" class=\"data row0 col6\" >nan</td>\n",
       "                        <td id=\"T_7f970_row0_col7\" class=\"data row0 col7\" >nan</td>\n",
       "                        <td id=\"T_7f970_row0_col8\" class=\"data row0 col8\" >None</td>\n",
       "                        <td id=\"T_7f970_row0_col9\" class=\"data row0 col9\" >None</td>\n",
       "                        <td id=\"T_7f970_row0_col10\" class=\"data row0 col10\" >0-FOL</td>\n",
       "                        <td id=\"T_7f970_row0_col11\" class=\"data row0 col11\" >N</td>\n",
       "                        <td id=\"T_7f970_row0_col12\" class=\"data row0 col12\" >None</td>\n",
       "                        <td id=\"T_7f970_row0_col13\" class=\"data row0 col13\" >2023-10-27 10:33:06</td>\n",
       "                        <td id=\"T_7f970_row0_col14\" class=\"data row0 col14\" >Folsom</td>\n",
       "                        <td id=\"T_7f970_row0_col15\" class=\"data row0 col15\" >3067</td>\n",
       "                        <td id=\"T_7f970_row0_col16\" class=\"data row0 col16\" >Sacramento County</td>\n",
       "                        <td id=\"T_7f970_row0_col17\" class=\"data row0 col17\" >None</td>\n",
       "                        <td id=\"T_7f970_row0_col18\" class=\"data row0 col18\" >Roadway Widening</td>\n",
       "                        <td id=\"T_7f970_row0_col19\" class=\"data row0 col19\" >single phase</td>\n",
       "                        <td id=\"T_7f970_row0_col20\" class=\"data row0 col20\" >No</td>\n",
       "                        <td id=\"T_7f970_row0_col21\" class=\"data row0 col21\" >No</td>\n",
       "                        <td id=\"T_7f970_row0_col22\" class=\"data row0 col22\" >No</td>\n",
       "                        <td id=\"T_7f970_row0_col23\" class=\"data row0 col23\" >No</td>\n",
       "                        <td id=\"T_7f970_row0_col24\" class=\"data row0 col24\" >No</td>\n",
       "                        <td id=\"T_7f970_row0_col25\" class=\"data row0 col25\" >No</td>\n",
       "                        <td id=\"T_7f970_row0_col26\" class=\"data row0 col26\" >No</td>\n",
       "                        <td id=\"T_7f970_row0_col27\" class=\"data row0 col27\" >No</td>\n",
       "                        <td id=\"T_7f970_row0_col28\" class=\"data row0 col28\" >No</td>\n",
       "                        <td id=\"T_7f970_row0_col29\" class=\"data row0 col29\" >No</td>\n",
       "                        <td id=\"T_7f970_row0_col30\" class=\"data row0 col30\" >No</td>\n",
       "                        <td id=\"T_7f970_row0_col31\" class=\"data row0 col31\" >No</td>\n",
       "                        <td id=\"T_7f970_row0_col32\" class=\"data row0 col32\" >No</td>\n",
       "                        <td id=\"T_7f970_row0_col33\" class=\"data row0 col33\" >No</td>\n",
       "                        <td id=\"T_7f970_row0_col34\" class=\"data row0 col34\" >No</td>\n",
       "                        <td id=\"T_7f970_row0_col35\" class=\"data row0 col35\" >No</td>\n",
       "                        <td id=\"T_7f970_row0_col36\" class=\"data row0 col36\" >No</td>\n",
       "                        <td id=\"T_7f970_row0_col37\" class=\"data row0 col37\" >No</td>\n",
       "                        <td id=\"T_7f970_row0_col38\" class=\"data row0 col38\" >No</td>\n",
       "                        <td id=\"T_7f970_row0_col39\" class=\"data row0 col39\" >No</td>\n",
       "                        <td id=\"T_7f970_row0_col40\" class=\"data row0 col40\" >Yes</td>\n",
       "                        <td id=\"T_7f970_row0_col41\" class=\"data row0 col41\" >Yes</td>\n",
       "                        <td id=\"T_7f970_row0_col42\" class=\"data row0 col42\" >No</td>\n",
       "                        <td id=\"T_7f970_row0_col43\" class=\"data row0 col43\" >No</td>\n",
       "                        <td id=\"T_7f970_row0_col44\" class=\"data row0 col44\" >No</td>\n",
       "                        <td id=\"T_7f970_row0_col45\" class=\"data row0 col45\" >No</td>\n",
       "                        <td id=\"T_7f970_row0_col46\" class=\"data row0 col46\" >No</td>\n",
       "                        <td id=\"T_7f970_row0_col47\" class=\"data row0 col47\" >Yes</td>\n",
       "                        <td id=\"T_7f970_row0_col48\" class=\"data row0 col48\" >No</td>\n",
       "                        <td id=\"T_7f970_row0_col49\" class=\"data row0 col49\" >No</td>\n",
       "                        <td id=\"T_7f970_row0_col50\" class=\"data row0 col50\" >No</td>\n",
       "                        <td id=\"T_7f970_row0_col51\" class=\"data row0 col51\" >No</td>\n",
       "                        <td id=\"T_7f970_row0_col52\" class=\"data row0 col52\" >No</td>\n",
       "                        <td id=\"T_7f970_row0_col53\" class=\"data row0 col53\" >No</td>\n",
       "                        <td id=\"T_7f970_row0_col54\" class=\"data row0 col54\" >No</td>\n",
       "                        <td id=\"T_7f970_row0_col55\" class=\"data row0 col55\" >No</td>\n",
       "                        <td id=\"T_7f970_row0_col56\" class=\"data row0 col56\" >No</td>\n",
       "                        <td id=\"T_7f970_row0_col57\" class=\"data row0 col57\" >No</td>\n",
       "                        <td id=\"T_7f970_row0_col58\" class=\"data row0 col58\" >No</td>\n",
       "                        <td id=\"T_7f970_row0_col59\" class=\"data row0 col59\" >No</td>\n",
       "                        <td id=\"T_7f970_row0_col60\" class=\"data row0 col60\" >No</td>\n",
       "                        <td id=\"T_7f970_row0_col61\" class=\"data row0 col61\" >No</td>\n",
       "            </tr>\n",
       "    </tbody></table>"
      ],
      "text/plain": [
       "<pandas.io.formats.style.Styler at 0x25bd8d9bb88>"
      ]
     },
     "execution_count": 274,
     "metadata": {},
     "output_type": "execute_result"
    }
   ],
   "source": [
    "project_df[project_df.project_id ==  \"5288(046)\"].style.where(lambda val: 'Yes' in str(val), 'color: red')"
   ]
  },
  {
   "cell_type": "code",
   "execution_count": 275,
   "id": "baf7d57e",
   "metadata": {},
   "outputs": [
    {
     "data": {
      "text/html": [
       "<div>\n",
       "<style scoped>\n",
       "    .dataframe tbody tr th:only-of-type {\n",
       "        vertical-align: middle;\n",
       "    }\n",
       "\n",
       "    .dataframe tbody tr th {\n",
       "        vertical-align: top;\n",
       "    }\n",
       "\n",
       "    .dataframe thead th {\n",
       "        text-align: right;\n",
       "    }\n",
       "</style>\n",
       "<table border=\"1\" class=\"dataframe\">\n",
       "  <thead>\n",
       "    <tr style=\"text-align: right;\">\n",
       "      <th></th>\n",
       "      <th>project_id</th>\n",
       "      <th>grant_program</th>\n",
       "      <th>state_fiscal_awarded_year</th>\n",
       "    </tr>\n",
       "  </thead>\n",
       "  <tbody>\n",
       "    <tr>\n",
       "      <th>2416</th>\n",
       "      <td>5475(038)</td>\n",
       "      <td>Active Transportation Program (ATP)</td>\n",
       "      <td>2223</td>\n",
       "    </tr>\n",
       "    <tr>\n",
       "      <th>2417</th>\n",
       "      <td>5475(038)</td>\n",
       "      <td>Local Assistance</td>\n",
       "      <td>2223</td>\n",
       "    </tr>\n",
       "    <tr>\n",
       "      <th>2418</th>\n",
       "      <td>5475(038)</td>\n",
       "      <td>Proposition 1B, Hwy Safety, Traffic Reduction, Air Quality , and Port Security Bond Act of 2006, and SB 1: The Road Repair and Accountability Act of 2017</td>\n",
       "      <td>2122</td>\n",
       "    </tr>\n",
       "  </tbody>\n",
       "</table>\n",
       "</div>"
      ],
      "text/plain": [
       "     project_id  \\\n",
       "2416  5475(038)   \n",
       "2417  5475(038)   \n",
       "2418  5475(038)   \n",
       "\n",
       "                                                                                                                                                  grant_program  \\\n",
       "2416                                                                                                                        Active Transportation Program (ATP)   \n",
       "2417                                                                                                                                           Local Assistance   \n",
       "2418  Proposition 1B, Hwy Safety, Traffic Reduction, Air Quality , and Port Security Bond Act of 2006, and SB 1: The Road Repair and Accountability Act of 2017   \n",
       "\n",
       "     state_fiscal_awarded_year  \n",
       "2416                      2223  \n",
       "2417                      2223  \n",
       "2418                      2122  "
      ]
     },
     "execution_count": 275,
     "metadata": {},
     "output_type": "execute_result"
    }
   ],
   "source": [
    "awards_df.loc[awards_df.project_id == \"5475(038)\"]"
   ]
  },
  {
   "cell_type": "code",
   "execution_count": 276,
   "id": "b089062a",
   "metadata": {},
   "outputs": [
    {
     "data": {
      "text/html": [
       "<div>\n",
       "<style scoped>\n",
       "    .dataframe tbody tr th:only-of-type {\n",
       "        vertical-align: middle;\n",
       "    }\n",
       "\n",
       "    .dataframe tbody tr th {\n",
       "        vertical-align: top;\n",
       "    }\n",
       "\n",
       "    .dataframe thead th {\n",
       "        text-align: right;\n",
       "    }\n",
       "</style>\n",
       "<table border=\"1\" class=\"dataframe\">\n",
       "  <thead>\n",
       "    <tr style=\"text-align: right;\">\n",
       "      <th></th>\n",
       "      <th>adv_project_id</th>\n",
       "      <th>fund_code</th>\n",
       "      <th>pec_code</th>\n",
       "      <th>appropriation_category_code</th>\n",
       "      <th>curr_bud_am</th>\n",
       "      <th>cash_exp_am</th>\n",
       "      <th>pect_task_code</th>\n",
       "      <th>project_id</th>\n",
       "      <th>pec</th>\n",
       "      <th>pect</th>\n",
       "      <th>pect_description</th>\n",
       "      <th>program</th>\n",
       "    </tr>\n",
       "  </thead>\n",
       "  <tbody>\n",
       "    <tr>\n",
       "      <th>1639</th>\n",
       "      <td>0315000005</td>\n",
       "      <td>0890</td>\n",
       "      <td>2030720</td>\n",
       "      <td>2223</td>\n",
       "      <td>1512000.00</td>\n",
       "      <td>0.00</td>\n",
       "      <td>100</td>\n",
       "      <td>5475(038)</td>\n",
       "      <td>2030720</td>\n",
       "      <td>100.00</td>\n",
       "      <td>Active Transportation Program (ATP)</td>\n",
       "      <td>Active Transportation Program (ATP)</td>\n",
       "    </tr>\n",
       "    <tr>\n",
       "      <th>1640</th>\n",
       "      <td>0315000005</td>\n",
       "      <td>0042</td>\n",
       "      <td>2030210</td>\n",
       "      <td>2122</td>\n",
       "      <td>2860000.00</td>\n",
       "      <td>0.00</td>\n",
       "      <td>350</td>\n",
       "      <td>5475(038)</td>\n",
       "      <td>2030210</td>\n",
       "      <td>350.00</td>\n",
       "      <td>Solutions for Congested Corridors Program (SCCP)</td>\n",
       "      <td>Proposition 1B, Hwy Safety, Traffic Reduction, Air Quality , and Port Security Bond Act of 2006, and SB 1: The Road Repair and Accountability Act of 2017</td>\n",
       "    </tr>\n",
       "    <tr>\n",
       "      <th>1641</th>\n",
       "      <td>0315000005</td>\n",
       "      <td>0890</td>\n",
       "      <td>2030010</td>\n",
       "      <td>1314</td>\n",
       "      <td>1061999.97</td>\n",
       "      <td>1061999.97</td>\n",
       "      <td>820</td>\n",
       "      <td>5475(038)</td>\n",
       "      <td>2030010</td>\n",
       "      <td>820.00</td>\n",
       "      <td>Congestion Mitigation &amp; Air Quality Improvement Program (CMAQ)</td>\n",
       "      <td>Local Assistance</td>\n",
       "    </tr>\n",
       "    <tr>\n",
       "      <th>1642</th>\n",
       "      <td>0315000005</td>\n",
       "      <td>0890</td>\n",
       "      <td>2030010</td>\n",
       "      <td>1516</td>\n",
       "      <td>2898000.00</td>\n",
       "      <td>2898000.00</td>\n",
       "      <td>820</td>\n",
       "      <td>5475(038)</td>\n",
       "      <td>2030010</td>\n",
       "      <td>820.00</td>\n",
       "      <td>Congestion Mitigation &amp; Air Quality Improvement Program (CMAQ)</td>\n",
       "      <td>Local Assistance</td>\n",
       "    </tr>\n",
       "    <tr>\n",
       "      <th>1643</th>\n",
       "      <td>0315000005</td>\n",
       "      <td>0890</td>\n",
       "      <td>2030010</td>\n",
       "      <td>2223</td>\n",
       "      <td>9552155.00</td>\n",
       "      <td>0.00</td>\n",
       "      <td>810</td>\n",
       "      <td>5475(038)</td>\n",
       "      <td>2030010</td>\n",
       "      <td>810.00</td>\n",
       "      <td>Regional Surface Transportation Block Grant Program (RSTBGP) and Highway Infrastructure Program (HIP)</td>\n",
       "      <td>Local Assistance</td>\n",
       "    </tr>\n",
       "  </tbody>\n",
       "</table>\n",
       "</div>"
      ],
      "text/plain": [
       "     adv_project_id fund_code pec_code appropriation_category_code  \\\n",
       "1639     0315000005      0890  2030720                        2223   \n",
       "1640     0315000005      0042  2030210                        2122   \n",
       "1641     0315000005      0890  2030010                        1314   \n",
       "1642     0315000005      0890  2030010                        1516   \n",
       "1643     0315000005      0890  2030010                        2223   \n",
       "\n",
       "      curr_bud_am  cash_exp_am  pect_task_code project_id      pec   pect  \\\n",
       "1639   1512000.00         0.00             100  5475(038)  2030720 100.00   \n",
       "1640   2860000.00         0.00             350  5475(038)  2030210 350.00   \n",
       "1641   1061999.97   1061999.97             820  5475(038)  2030010 820.00   \n",
       "1642   2898000.00   2898000.00             820  5475(038)  2030010 820.00   \n",
       "1643   9552155.00         0.00             810  5475(038)  2030010 810.00   \n",
       "\n",
       "                                                                                           pect_description  \\\n",
       "1639                                                                    Active Transportation Program (ATP)   \n",
       "1640                                                       Solutions for Congested Corridors Program (SCCP)   \n",
       "1641                                         Congestion Mitigation & Air Quality Improvement Program (CMAQ)   \n",
       "1642                                         Congestion Mitigation & Air Quality Improvement Program (CMAQ)   \n",
       "1643  Regional Surface Transportation Block Grant Program (RSTBGP) and Highway Infrastructure Program (HIP)   \n",
       "\n",
       "                                                                                                                                                        program  \n",
       "1639                                                                                                                        Active Transportation Program (ATP)  \n",
       "1640  Proposition 1B, Hwy Safety, Traffic Reduction, Air Quality , and Port Security Bond Act of 2006, and SB 1: The Road Repair and Accountability Act of 2017  \n",
       "1641                                                                                                                                           Local Assistance  \n",
       "1642                                                                                                                                           Local Assistance  \n",
       "1643                                                                                                                                           Local Assistance  "
      ]
     },
     "execution_count": 276,
     "metadata": {},
     "output_type": "execute_result"
    }
   ],
   "source": [
    "# Check original df \n",
    "pect_df.loc[pect_df.project_id ==  \"5475(038)\"]"
   ]
  },
  {
   "cell_type": "code",
   "execution_count": 277,
   "id": "e6406250",
   "metadata": {},
   "outputs": [
    {
     "data": {
      "text/html": [
       "<style  type=\"text/css\" >\n",
       "#T_29512_row0_col20,#T_29512_row0_col24,#T_29512_row0_col47,#T_29512_row0_col53{\n",
       "            color:  red;\n",
       "        }</style><table id=\"T_29512_\" ><thead>    <tr>        <th class=\"blank level0\" ></th>        <th class=\"col_heading level0 col0\" >project_id</th>        <th class=\"col_heading level0 col1\" >comment_desc</th>        <th class=\"col_heading level0 col2\" >district_code</th>        <th class=\"col_heading level0 col3\" >est_total_prj_costs</th>        <th class=\"col_heading level0 col4\" >location_name</th>        <th class=\"col_heading level0 col5\" >project_label_name</th>        <th class=\"col_heading level0 col6\" >original_post_mile_begin_id</th>        <th class=\"col_heading level0 col7\" >original_post_mile_end_id</th>        <th class=\"col_heading level0 col8\" >revised_post_mile_begin_ind</th>        <th class=\"col_heading level0 col9\" >revised_post_mile_end_ind</th>        <th class=\"col_heading level0 col10\" >route_name</th>        <th class=\"col_heading level0 col11\" >state_hwy_ind</th>        <th class=\"col_heading level0 col12\" >senate_district_code</th>        <th class=\"col_heading level0 col13\" >update_date_time</th>        <th class=\"col_heading level0 col14\" >agency_name</th>        <th class=\"col_heading level0 col15\" >urban_area_code</th>        <th class=\"col_heading level0 col16\" >county_name</th>        <th class=\"col_heading level0 col17\" >work_type_desc</th>        <th class=\"col_heading level0 col18\" >category_desc</th>        <th class=\"col_heading level0 col19\" >current_phase</th>        <th class=\"col_heading level0 col20\" >active_transportation_program_(atp)</th>        <th class=\"col_heading level0 col21\" >bridge_inspection_&_scour_evaluation</th>        <th class=\"col_heading level0 col22\" >covid_relief_funds_for_highway_infrastructure_programs_for_stip-covid_augmentation</th>        <th class=\"col_heading level0 col23\" >carbon_reduction_program_(crp)</th>        <th class=\"col_heading level0 col24\" >congestion_mitigation_&_air_quality_improvement_program_(cmaq)</th>        <th class=\"col_heading level0 col25\" >coronavirus_response_and_relief_supplemental_appropriations_act_(crrsaa)_funds</th>        <th class=\"col_heading level0 col26\" >corridor_mobility_improvement_account_(cmia)_program</th>        <th class=\"col_heading level0 col27\" >county_exchange_funds</th>        <th class=\"col_heading level0 col28\" >county_state_match_program</th>        <th class=\"col_heading level0 col29\" >earmarks_projects_(hpp,_demo_cpfcds,_etc.)</th>        <th class=\"col_heading level0 col30\" >emergency_relief_(er)</th>        <th class=\"col_heading level0 col31\" >ferry_boat_program_(fbp)_and_ferry_boat_discretionary_(fbd)_program</th>        <th class=\"col_heading level0 col32\" >funds_for_planning,_programming_and_monitoring_-_rip</th>        <th class=\"col_heading level0 col33\" >general_funded_designated_programs</th>        <th class=\"col_heading level0 col34\" >hazard_elimination_safety_(hes)</th>        <th class=\"col_heading level0 col35\" >high_risk_rural_roads_program_(hr3)</th>        <th class=\"col_heading level0 col36\" >highway_bridge_</th>        <th class=\"col_heading level0 col37\" >highway_safety_improvement_program_(hsip)_(infrastructure)-state_fund</th>        <th class=\"col_heading level0 col38\" >highway_safety_improvement_program_(hsip)_(non-infrastructure)</th>        <th class=\"col_heading level0 col39\" >highway_safety_improvement_program_(hsip)(infrastructure)-federal_fund</th>        <th class=\"col_heading level0 col40\" >local_partnership_program_(lpp_–_competitive)_</th>        <th class=\"col_heading level0 col41\" >local_roads</th>        <th class=\"col_heading level0 col42\" >local_roads_rehabilitation</th>        <th class=\"col_heading level0 col43\" >railroad_grade_crossing_protection</th>        <th class=\"col_heading level0 col44\" >railroad_grade_separations</th>        <th class=\"col_heading level0 col45\" >rebuilding_american_infrastructure_with_sustainability_and_equity_(raise)_and_multimodal_project_discretionary_grant_programs_(e.g.,_infra,_mega,_rstg_or_rural)_</th>        <th class=\"col_heading level0 col46\" >regional_improvement_program_–_regional_share_of_stip_transportation_enhancement_(off_system)</th>        <th class=\"col_heading level0 col47\" >regional_surface_transportation_block_grant_program_(rstbgp)_and_highway_infrastructure_program_(hip)</th>        <th class=\"col_heading level0 col48\" >regional_transportation_planning_agency_(rtpa)_stp_match_exchange</th>        <th class=\"col_heading level0 col49\" >sb1_funded_freeway_service_patrol</th>        <th class=\"col_heading level0 col50\" >shopp-_traffic_light_synchronization_program_(tlsp)-_proposition_1b_bond_funds</th>        <th class=\"col_heading level0 col51\" >safe_routes_to_school_(sr2s_and_srts)</th>        <th class=\"col_heading level0 col52\" >set-aside_coordinated_border_infrastructure_(cbi)_program_under_fast_act</th>        <th class=\"col_heading level0 col53\" >solutions_for_congested_corridors_program_(sccp)</th>        <th class=\"col_heading level0 col54\" >special_programs</th>        <th class=\"col_heading level0 col55\" >state-local_partnership_program_(slpp)_and_local_partnership_program_(lpp-formulaic)</th>        <th class=\"col_heading level0 col56\" >structures_seismic_retrofit_</th>        <th class=\"col_heading level0 col57\" >trade_corridor_enhancement_account_(tcea)_programs_–_local_share</th>        <th class=\"col_heading level0 col58\" >trade_corridor_enhancement_account_(tcea)_programs_–_state_share</th>        <th class=\"col_heading level0 col59\" >trade_corridors_improvement_fund_(tcif)_program_local_streets_&_roads</th>        <th class=\"col_heading level0 col60\" >traffic_congestion_relief_program_(_tcrp_)</th>        <th class=\"col_heading level0 col61\" >unknown</th>    </tr></thead><tbody>\n",
       "                <tr>\n",
       "                        <th id=\"T_29512_level0_row0\" class=\"row_heading level0 row0\" >2664</th>\n",
       "                        <td id=\"T_29512_row0_col0\" class=\"data row0 col0\" >5475(038)</td>\n",
       "                        <td id=\"T_29512_row0_col1\" class=\"data row0 col1\" >10/1/2020:   Original AED date was 9/30/2020, new sequence being done to extend date to 9/30/2022.   There will be a gap of time that is not reimbursable.  CR\n",
       "\n",
       "CMAQ Emissions Benefit:  .03 ROG, .02 NOx, .01 PM10\n",
       "Project has EPSP approval for $2,646,524 of CMAQ for R/W to 15/16 FY.   And EPSP for $291,476 of CMAQ for PE to 15/16 FY.\n",
       "</td>\n",
       "                        <td id=\"T_29512_row0_col2\" class=\"data row0 col2\" >03</td>\n",
       "                        <td id=\"T_29512_row0_col3\" class=\"data row0 col3\" >36291000.000000</td>\n",
       "                        <td id=\"T_29512_row0_col4\" class=\"data row0 col4\" >Auburn Blvd. Complete Streets - Phase 2. On Auburn Blvd, in Citrus Heights from Rusch Park to Northern City Limits.</td>\n",
       "                        <td id=\"T_29512_row0_col5\" class=\"data row0 col5\" >Pedestrian and Bike Path</td>\n",
       "                        <td id=\"T_29512_row0_col6\" class=\"data row0 col6\" >nan</td>\n",
       "                        <td id=\"T_29512_row0_col7\" class=\"data row0 col7\" >nan</td>\n",
       "                        <td id=\"T_29512_row0_col8\" class=\"data row0 col8\" >None</td>\n",
       "                        <td id=\"T_29512_row0_col9\" class=\"data row0 col9\" >None</td>\n",
       "                        <td id=\"T_29512_row0_col10\" class=\"data row0 col10\" >0-CHts</td>\n",
       "                        <td id=\"T_29512_row0_col11\" class=\"data row0 col11\" >N</td>\n",
       "                        <td id=\"T_29512_row0_col12\" class=\"data row0 col12\" >None</td>\n",
       "                        <td id=\"T_29512_row0_col13\" class=\"data row0 col13\" >2023-10-13 13:34:21</td>\n",
       "                        <td id=\"T_29512_row0_col14\" class=\"data row0 col14\" >Citrus Heights</td>\n",
       "                        <td id=\"T_29512_row0_col15\" class=\"data row0 col15\" >3067</td>\n",
       "                        <td id=\"T_29512_row0_col16\" class=\"data row0 col16\" >Sacramento County</td>\n",
       "                        <td id=\"T_29512_row0_col17\" class=\"data row0 col17\" >None</td>\n",
       "                        <td id=\"T_29512_row0_col18\" class=\"data row0 col18\" >Pedestrian and Bike Path</td>\n",
       "                        <td id=\"T_29512_row0_col19\" class=\"data row0 col19\" >single phase</td>\n",
       "                        <td id=\"T_29512_row0_col20\" class=\"data row0 col20\" >Yes</td>\n",
       "                        <td id=\"T_29512_row0_col21\" class=\"data row0 col21\" >No</td>\n",
       "                        <td id=\"T_29512_row0_col22\" class=\"data row0 col22\" >No</td>\n",
       "                        <td id=\"T_29512_row0_col23\" class=\"data row0 col23\" >No</td>\n",
       "                        <td id=\"T_29512_row0_col24\" class=\"data row0 col24\" >Yes</td>\n",
       "                        <td id=\"T_29512_row0_col25\" class=\"data row0 col25\" >No</td>\n",
       "                        <td id=\"T_29512_row0_col26\" class=\"data row0 col26\" >No</td>\n",
       "                        <td id=\"T_29512_row0_col27\" class=\"data row0 col27\" >No</td>\n",
       "                        <td id=\"T_29512_row0_col28\" class=\"data row0 col28\" >No</td>\n",
       "                        <td id=\"T_29512_row0_col29\" class=\"data row0 col29\" >No</td>\n",
       "                        <td id=\"T_29512_row0_col30\" class=\"data row0 col30\" >No</td>\n",
       "                        <td id=\"T_29512_row0_col31\" class=\"data row0 col31\" >No</td>\n",
       "                        <td id=\"T_29512_row0_col32\" class=\"data row0 col32\" >No</td>\n",
       "                        <td id=\"T_29512_row0_col33\" class=\"data row0 col33\" >No</td>\n",
       "                        <td id=\"T_29512_row0_col34\" class=\"data row0 col34\" >No</td>\n",
       "                        <td id=\"T_29512_row0_col35\" class=\"data row0 col35\" >No</td>\n",
       "                        <td id=\"T_29512_row0_col36\" class=\"data row0 col36\" >No</td>\n",
       "                        <td id=\"T_29512_row0_col37\" class=\"data row0 col37\" >No</td>\n",
       "                        <td id=\"T_29512_row0_col38\" class=\"data row0 col38\" >No</td>\n",
       "                        <td id=\"T_29512_row0_col39\" class=\"data row0 col39\" >No</td>\n",
       "                        <td id=\"T_29512_row0_col40\" class=\"data row0 col40\" >No</td>\n",
       "                        <td id=\"T_29512_row0_col41\" class=\"data row0 col41\" >No</td>\n",
       "                        <td id=\"T_29512_row0_col42\" class=\"data row0 col42\" >No</td>\n",
       "                        <td id=\"T_29512_row0_col43\" class=\"data row0 col43\" >No</td>\n",
       "                        <td id=\"T_29512_row0_col44\" class=\"data row0 col44\" >No</td>\n",
       "                        <td id=\"T_29512_row0_col45\" class=\"data row0 col45\" >No</td>\n",
       "                        <td id=\"T_29512_row0_col46\" class=\"data row0 col46\" >No</td>\n",
       "                        <td id=\"T_29512_row0_col47\" class=\"data row0 col47\" >Yes</td>\n",
       "                        <td id=\"T_29512_row0_col48\" class=\"data row0 col48\" >No</td>\n",
       "                        <td id=\"T_29512_row0_col49\" class=\"data row0 col49\" >No</td>\n",
       "                        <td id=\"T_29512_row0_col50\" class=\"data row0 col50\" >No</td>\n",
       "                        <td id=\"T_29512_row0_col51\" class=\"data row0 col51\" >No</td>\n",
       "                        <td id=\"T_29512_row0_col52\" class=\"data row0 col52\" >No</td>\n",
       "                        <td id=\"T_29512_row0_col53\" class=\"data row0 col53\" >Yes</td>\n",
       "                        <td id=\"T_29512_row0_col54\" class=\"data row0 col54\" >No</td>\n",
       "                        <td id=\"T_29512_row0_col55\" class=\"data row0 col55\" >No</td>\n",
       "                        <td id=\"T_29512_row0_col56\" class=\"data row0 col56\" >No</td>\n",
       "                        <td id=\"T_29512_row0_col57\" class=\"data row0 col57\" >No</td>\n",
       "                        <td id=\"T_29512_row0_col58\" class=\"data row0 col58\" >No</td>\n",
       "                        <td id=\"T_29512_row0_col59\" class=\"data row0 col59\" >No</td>\n",
       "                        <td id=\"T_29512_row0_col60\" class=\"data row0 col60\" >No</td>\n",
       "                        <td id=\"T_29512_row0_col61\" class=\"data row0 col61\" >No</td>\n",
       "            </tr>\n",
       "    </tbody></table>"
      ],
      "text/plain": [
       "<pandas.io.formats.style.Styler at 0x25bda4194c8>"
      ]
     },
     "execution_count": 277,
     "metadata": {},
     "output_type": "execute_result"
    }
   ],
   "source": [
    "project_df[project_df.project_id ==  \"5475(038)\"].style.where(lambda val: 'Yes' in str(val), 'color: red')"
   ]
  },
  {
   "cell_type": "markdown",
   "id": "643a54b1",
   "metadata": {},
   "source": [
    "## Save to Excel/Final Touches"
   ]
  },
  {
   "cell_type": "code",
   "execution_count": 278,
   "id": "ccc8fee4",
   "metadata": {},
   "outputs": [],
   "source": [
    "# https://stackoverflow.com/questions/28837057/pandas-writing-an-excel-file-containing-unicode-illegalcharactererror\n",
    "project_df = project_df.applymap(lambda x: x.encode('unicode_escape').\n",
    "                 decode('utf-8') if isinstance(x, str) else x)"
   ]
  },
  {
   "cell_type": "code",
   "execution_count": 279,
   "id": "12096bef",
   "metadata": {},
   "outputs": [
    {
     "data": {
      "text/plain": [
       "(11768, 62)"
      ]
     },
     "execution_count": 279,
     "metadata": {},
     "output_type": "execute_result"
    }
   ],
   "source": [
    "project_df.shape"
   ]
  },
  {
   "cell_type": "code",
   "execution_count": 280,
   "id": "f9e11b2a",
   "metadata": {},
   "outputs": [
    {
     "data": {
      "text/plain": [
       "11768"
      ]
     },
     "execution_count": 280,
     "metadata": {},
     "output_type": "execute_result"
    }
   ],
   "source": [
    "project_df.project_id.nunique()"
   ]
  },
  {
   "cell_type": "code",
   "execution_count": 281,
   "id": "d1896385",
   "metadata": {},
   "outputs": [],
   "source": [
    "# Split off county\n",
    "county_df = project_df[['project_id', 'project_label_name','county_name']]"
   ]
  },
  {
   "cell_type": "code",
   "execution_count": 282,
   "id": "4a61a680",
   "metadata": {},
   "outputs": [],
   "source": [
    "# Split off districts\n",
    "district_df = project_df[['project_id', 'project_label_name','district_code']]"
   ]
  },
  {
   "cell_type": "code",
   "execution_count": 283,
   "id": "99035caf",
   "metadata": {},
   "outputs": [],
   "source": [
    "project_df = project_df.drop(columns = ['county_name', 'district_code','unknown'])"
   ]
  },
  {
   "cell_type": "code",
   "execution_count": 284,
   "id": "96b26252",
   "metadata": {},
   "outputs": [],
   "source": [
    "\n",
    "with pd.ExcelWriter(\"./LP2000.xlsx\") as writer:\n",
    "    project_df.to_excel(writer, sheet_name=\"project\", index=False)\n",
    "    county_df.to_excel(writer, sheet_name=\"county\", index=False)\n",
    "    district_df.to_excel(writer, sheet_name=\"district\", index=False)\n",
    "    awards_df.to_excel(writer, sheet_name=\"awards\", index=False)\n",
    "    final_fund_phase_df.to_excel(writer, sheet_name=\"phase_funding\", index=False)\n"
   ]
  }
 ],
 "metadata": {
  "kernelspec": {
   "display_name": "Python 3 (ipykernel)",
   "language": "python",
   "name": "python3"
  },
  "language_info": {
   "codemirror_mode": {
    "name": "ipython",
    "version": 3
   },
   "file_extension": ".py",
   "mimetype": "text/x-python",
   "name": "python",
   "nbconvert_exporter": "python",
   "pygments_lexer": "ipython3",
   "version": "3.9.13"
  }
 },
 "nbformat": 4,
 "nbformat_minor": 5
}
