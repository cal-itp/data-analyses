{
 "cells": [
  {
   "cell_type": "markdown",
   "id": "ec8f501a-adea-4a26-a123-b8813b11a7f8",
   "metadata": {},
   "source": [
    "## Long Range Transportation Plan"
   ]
  },
  {
   "cell_type": "code",
   "execution_count": 1,
   "id": "4d9c4625-d899-467f-822f-685ea519e37a",
   "metadata": {},
   "outputs": [
    {
     "name": "stderr",
     "output_type": "stream",
     "text": [
      "/opt/conda/lib/python3.9/site-packages/geopandas/_compat.py:123: UserWarning: The Shapely GEOS version (3.11.1-CAPI-1.17.1) is incompatible with the GEOS version PyGEOS was compiled with (3.10.1-CAPI-1.16.0). Conversions between both will be slow.\n",
      "  warnings.warn(\n",
      "/home/jovyan/data-analyses/project_list/_sb1_utils.py:1: UserWarning: Shapely 2.0 is installed, but because PyGEOS is also installed, GeoPandas will still use PyGEOS by default for now. To force to use and test Shapely 2.0, you have to set the environment variable USE_PYGEOS=0. You can do this before starting the Python process, or in your code before importing geopandas:\n",
      "\n",
      "import os\n",
      "os.environ['USE_PYGEOS'] = '0'\n",
      "import geopandas\n",
      "\n",
      "In a future release, GeoPandas will switch to using Shapely by default. If you are using PyGEOS directly (calling PyGEOS functions on geometries from GeoPandas), this will then stop working and you are encouraged to migrate from PyGEOS to Shapely 2.0 (https://shapely.readthedocs.io/en/latest/migration_pygeos.html).\n",
      "  import geopandas as gpd\n"
     ]
    }
   ],
   "source": [
    "import _harmonization_utils as harmonization_utils\n",
    "import geopandas as gpd\n",
    "import numpy as np\n",
    "import pandas as pd\n",
    "from calitp_data_analysis.sql import to_snakecase\n",
    "from shared_utils import geography_utils, utils"
   ]
  },
  {
   "cell_type": "code",
   "execution_count": 2,
   "id": "c98b342d-5b6d-4ec2-8d19-b57cab057892",
   "metadata": {},
   "outputs": [],
   "source": [
    "pd.options.display.max_columns = 100\n",
    "pd.options.display.float_format = \"{:.2f}\".format\n",
    "pd.set_option(\"display.max_rows\", None)\n",
    "pd.set_option(\"display.max_colwidth\", None)"
   ]
  },
  {
   "cell_type": "markdown",
   "id": "8872ef81-828c-4f39-bbb5-ee72db913d6e",
   "metadata": {},
   "source": [
    "### SANDAG\n",
    "* https://www.arcgis.com/home/item.html?id=ba8b2a6247ef463cb7411f039959f3ee\n",
    "* https://www.arcgis.com/apps/mapviewer/index.html?webmap=ba8b2a6247ef463cb7411f039959f3ee"
   ]
  },
  {
   "cell_type": "code",
   "execution_count": 3,
   "id": "7b48c181-36b1-49cb-8c8e-199f45f94a5e",
   "metadata": {},
   "outputs": [],
   "source": [
    "columns_to_keep = [\n",
    "    \"project_title\",\n",
    "    \"lead_agency\",\n",
    "    \"project_year\",\n",
    "    \"project_category\",\n",
    "    \"grant_program\",\n",
    "    \"project_description\",\n",
    "    \"total_project_cost\",\n",
    "    \"location\",\n",
    "    \"city\",\n",
    "    \"county\",\n",
    "    \"data_source\",\n",
    "    \"notes\",\n",
    "]"
   ]
  },
  {
   "cell_type": "code",
   "execution_count": 4,
   "id": "21933c7b-c56a-478a-9cd2-01b6f9c7a435",
   "metadata": {},
   "outputs": [],
   "source": [
    "def create_notes(df, note_cols: list):\n",
    "    prefix = \"_\"\n",
    "    for column in note_cols:\n",
    "        df[f\"{prefix}{column}\"] = df[column].astype(str)\n",
    "    note_cols = [prefix + sub for sub in note_cols]\n",
    "\n",
    "    # https://stackoverflow.com/questions/65532480/how-to-combine-column-names-and-values\n",
    "    def combine_notes(x):\n",
    "        return \", \".join([col + \": \" + x[col] for col in note_cols])\n",
    "\n",
    "    df[\"notes\"] = df.apply(combine_notes, axis=1)\n",
    "    df.notes = df.notes.str.replace(\"_\", \" \")\n",
    "\n",
    "    return df"
   ]
  },
  {
   "cell_type": "code",
   "execution_count": 5,
   "id": "d86d09e6-ba33-423c-af81-6d65f5444499",
   "metadata": {},
   "outputs": [],
   "source": [
    "def harmonizing_lrtp(\n",
    "    df,\n",
    "    project_name_col: str,\n",
    "    project_description_col: str,\n",
    "    project_category_col: str,\n",
    "    project_cost_col: str,\n",
    "    location_col: str,\n",
    "    county_col: str,\n",
    "    city_col: str,\n",
    "    project_year_col: str,\n",
    "    phase_col: str,\n",
    "    program: str,\n",
    "    data_source: str,\n",
    "    note_cols: list,\n",
    "    cost_in_millions: bool = True,\n",
    "):\n",
    "    \"\"\"\n",
    "    Take a dataset and change the column names/types to\n",
    "    the same names and formats.\n",
    "    \"\"\"\n",
    "    rename_columns = {\n",
    "        project_name_col: \"project_title\",\n",
    "        phase_col: \"phase\",\n",
    "        project_description_col: \"project_description\",\n",
    "        project_category_col: \"project_category\",\n",
    "        project_cost_col: \"total_project_cost\",\n",
    "        location_col: \"geometry\",\n",
    "        county_col: \"county\",\n",
    "        city_col: \"city\",\n",
    "        project_year_col: \"project_year\",\n",
    "    }\n",
    "    # Rename columns\n",
    "    df = df.rename(columns=rename_columns)\n",
    "\n",
    "    # Coerce cost/fund columns to right type\n",
    "    cost_columns = df.columns[df.columns.str.contains(\"(cost|funds)\")].tolist()\n",
    "    for i in cost_columns:\n",
    "        try:\n",
    "            df[i] = (\n",
    "                df[i]\n",
    "                .str.replace(\"$\", \"\")\n",
    "                .str.replace(\",\", \"\")\n",
    "                .apply(pd.to_numeric, errors=\"coerce\")\n",
    "                .fillna(0)\n",
    "            )\n",
    "        except:\n",
    "            df[i] = df[i].apply(pd.to_numeric, errors=\"coerce\").fillna(0)\n",
    "\n",
    "    # Add MPO & grant program\n",
    "    df[\"lead_agency\"] = program\n",
    "    df[\"grant_program\"] = f\"{program} {data_source}\"\n",
    "\n",
    "    # Add data source\n",
    "    df[\"data_source\"] = data_source\n",
    "\n",
    "    # Divide cost columns by millions\n",
    "    # If bool is set to True\n",
    "    if cost_in_millions:\n",
    "        for i in cost_columns:\n",
    "            df[i] = df[i].divide(1_000_000)\n",
    "\n",
    "    # Fill in any nulls\n",
    "    # df = df.fillna(df.dtypes.replace({\"float64\": 0.0, \"object\": \"None\"}))\n",
    "\n",
    "    # Create columns even if they don't exist, just to harmonize\n",
    "    # before concatting.\n",
    "    create_columns = [\n",
    "        \"county\",\n",
    "        \"city\",\n",
    "        \"notes\",\n",
    "        \"project_year\",\n",
    "        \"project_category\",\n",
    "        \"phase\",\n",
    "    ]\n",
    "    for column in create_columns:\n",
    "        if column not in df:\n",
    "            df[column] = \"None\"\n",
    "    if \"geometry\" not in df:\n",
    "        df[\"geometry\"] = None\n",
    "    # Create notes\n",
    "    df = create_notes(df, note_cols)\n",
    "\n",
    "    columns_to_keep = [\n",
    "        \"project_title\",\n",
    "        \"lead_agency\",\n",
    "        \"project_year\",\n",
    "        \"project_category\",\n",
    "        \"grant_program\",\n",
    "        \"project_description\",\n",
    "        \"phase\",\n",
    "        \"total_project_cost\",\n",
    "        \"geometry\",\n",
    "        \"city\",\n",
    "        \"county\",\n",
    "        \"data_source\",\n",
    "        \"notes\",\n",
    "    ]\n",
    "\n",
    "    df = df[columns_to_keep]\n",
    "\n",
    "    return df"
   ]
  },
  {
   "cell_type": "code",
   "execution_count": 6,
   "id": "b2b9fbf7-97d0-4319-b119-a77ca185c21a",
   "metadata": {},
   "outputs": [],
   "source": [
    "def open_rest_server(url_pt_1: str, url_pt_2: str, layer_name: list):\n",
    "    full_gdf = pd.DataFrame()\n",
    "    for i in layer_name:\n",
    "        gdf = to_snakecase(gpd.read_file(f\"{url_pt_1}{i}{url_pt_2}\"))\n",
    "        gdf[\"layer_name\"] = i\n",
    "        full_gdf = pd.concat([full_gdf, gdf], axis=0)\n",
    "\n",
    "    return full_gdf"
   ]
  },
  {
   "cell_type": "code",
   "execution_count": 7,
   "id": "df02e8c2-e29d-44b6-9e47-89656aff07c3",
   "metadata": {},
   "outputs": [],
   "source": [
    "def sandag_lrtp():\n",
    "    sandag_layers_list = [\n",
    "        \"Complete_Corridors_Connectors_Intersections_Ramps_RP2021\",\n",
    "        \"Complete_Corridors_Highway_RP2021\",\n",
    "        \"Transit_Leap_RP2021\",\n",
    "        \"Adopted_Regional_Bike_Network_RP2021\",\n",
    "        \"Mobility_Hubs_and_Flexible_Fleets\",\n",
    "        \"Complete_Corridors_Regional_Arterials\",\n",
    "        \"Goods_Movement\",\n",
    "    ]\n",
    "\n",
    "    sandag_url_pt1 = (\n",
    "        \"https://services1.arcgis.com/HG80xaIVT1z1OdO5/ArcGIS/rest/services/\"\n",
    "    )\n",
    "    sandag_url_pt2 = \"/FeatureServer/0/query?where=1%3D1&objectIds=&time=&geometry=&geometryType=esriGeometryEnvelope&inSR=&spatialRel=esriSpatialRelIntersects&resultType=none&distance=0.0&units=esriSRUnit_Meter&relationParam=&returnGeodetic=false&outFields=*+&returnGeometry=true&featureEncoding=esriDefault&multipatchOption=xyFootprint&maxAllowableOffset=&geometryPrecision=&outSR=&defaultSR=&datumTransformation=&applyVCSProjection=false&returnIdsOnly=false&returnUniqueIdsOnly=false&returnCountOnly=false&returnExtentOnly=false&returnQueryGeometry=false&returnDistinctValues=false&cacheHint=false&orderByFields=&groupByFieldsForStatistics=&outStatistics=&having=&resultOffset=&resultRecordCount=&returnZ=false&returnM=false&returnExceededLimitFeatures=true&quantizationParameters=&sqlFormat=none&f=pgeojson&token=\"\n",
    "    sandag = open_rest_server(sandag_url_pt1, sandag_url_pt2, sandag_layers_list)\n",
    "   \n",
    "    return sandag"
   ]
  },
  {
   "cell_type": "code",
   "execution_count": 8,
   "id": "8c0d88a6-cf33-4858-8c54-88ef88c56639",
   "metadata": {},
   "outputs": [],
   "source": [
    "def harmonize_sandag():\n",
    "    df = sandag_lrtp()\n",
    "    df = harmonizing_lrtp(\n",
    "        df,\n",
    "        project_name_col=\"project_name\",\n",
    "        project_description_col=\"description\",\n",
    "        project_category_col=\"category\",\n",
    "        project_cost_col=\"cost2020m\",\n",
    "        location_col=\"geometry\",\n",
    "        county_col=\"\",\n",
    "        city_col=\"\",\n",
    "        project_year_col=\"phase\",\n",
    "        phase_col=\"status\",\n",
    "        program=\"SANDAG\",\n",
    "        data_source=\"LRTP\",\n",
    "        note_cols=[\n",
    "            \"aqc_2016_1\",\n",
    "            \"aqc_2020_1\",\n",
    "            \"pricmcp\",\n",
    "            \"conncmcp\",\n",
    "            \"layer_name\",\n",
    "            \"corridor_i\",\n",
    "            \"type_1\",\n",
    "            \"existing\",\n",
    "            \"limits\",\n",
    "            \"description_1\",\n",
    "            \"route\",\n",
    "            \"routetype\",\n",
    "            \"route_desc\",\n",
    "            \"rp_2021_id\",\n",
    "            \"rp_2021_id_1\",\n",
    "            \"capital_cost___2020__millions\",\n",
    "        ],\n",
    "        cost_in_millions=False,\n",
    "    )\n",
    "\n",
    "    return df"
   ]
  },
  {
   "cell_type": "markdown",
   "id": "0e444a95-c7b8-4248-9715-f5405d263d86",
   "metadata": {
    "tags": []
   },
   "source": [
    "### MTC\n",
    "* 133 projects but point and line map returns 240 ish rows.\n",
    "* Projects that are in different locations can have the same name split by open year...\n",
    "* I guess the geospatial projects are split into various phases while the regular pandas df is just the project in its entirety.\n",
    "* https://www.planbayarea.org/2050-plan/final-plan-bay-area-2050/final-supplemental-reports/interactive-transportation-project-list\n",
    "* https://opendata.mtc.ca.gov/datasets/MTC::2023-transportation-improvement-program-projects-point/about\n",
    "* https://opendata.mtc.ca.gov/datasets/MTC::plan-bay-area-2050-transportation-projects-line/about\n",
    "* https://data.bayareametro.gov/Projects/Plan-Bay-Area-2050-Transportation-Project-List/y7ka-jksz"
   ]
  },
  {
   "cell_type": "code",
   "execution_count": 9,
   "id": "08e57d98-8b32-41ee-a835-0030977f0d1d",
   "metadata": {},
   "outputs": [],
   "source": [
    "def mtc_lrtp():\n",
    "    # Open rest server data\n",
    "    layer_list = [\"planbayarea2050_rtp_line\", \"planbayarea2050_rtp_point\"]\n",
    "    url_pt_1 = \"https://services3.arcgis.com/i2dkYWmb4wHvYPda/ArcGIS/rest/services/\"\n",
    "    url_pt_2 = \"/FeatureServer/0/query?where=1%3D1&objectIds=&time=&geometry=&geometryType=esriGeometryEnvelope&inSR=&spatialRel=esriSpatialRelIntersects&resultType=none&distance=0.0&units=esriSRUnit_Meter&relationParam=&returnGeodetic=false&outFields=*+&returnGeometry=true&featureEncoding=esriDefault&multipatchOption=xyFootprint&maxAllowableOffset=&geometryPrecision=&outSR=&defaultSR=&datumTransformation=&applyVCSProjection=false&returnIdsOnly=false&returnUniqueIdsOnly=false&returnCountOnly=false&returnExtentOnly=false&returnQueryGeometry=false&returnDistinctValues=false&cacheHint=false&orderByFields=&groupByFieldsForStatistics=&outStatistics=&having=&resultOffset=&resultRecordCount=&returnZ=false&returnM=false&returnExceededLimitFeatures=true&quantizationParameters=&sqlFormat=none&f=pgeojson&token=\"\n",
    "    gdf = open_rest_server(url_pt_1, url_pt_2, layer_list)\n",
    "\n",
    "    # Open all MTC projects. Not all projects are mappable.\n",
    "    all_projects_url = \"https://data.bayareametro.gov/resource/y7ka-jksz.json?$query=SELECT%0A%20%20%60plan_strategy%60%2C%0A%20%20%60rtpid%60%2C%0A%20%20%60title%60%2C%0A%20%20%60scope%60%2C%0A%20%20%60open_period%60%2C%0A%20%20%60funding_millions_yoe%60%2C%0A%20%20%60county%60\"\n",
    "    all_projects = pd.read_json(all_projects_url)\n",
    "\n",
    "    # Merge info from all projects to gdf\n",
    "    gdf = pd.merge(\n",
    "        gdf, all_projects, how=\"inner\", left_on=[\"proj_title\"], right_on=[\"title\"]\n",
    "    )\n",
    "\n",
    "    gdf = gdf.drop(columns=[\"title\"])\n",
    "\n",
    "    # Find projects that are unmappable\n",
    "    mtc_geometry_titles = set(gdf.proj_title.unique().tolist())\n",
    "    mtc_all_projects_titles = set(all_projects.title.unique().tolist())\n",
    "    missing_projects = list(mtc_all_projects_titles - mtc_geometry_titles)\n",
    "\n",
    "    # Add back in the  unmappable projects\n",
    "    all_projects = all_projects[all_projects.title.isin(missing_projects)].reset_index(\n",
    "        drop=True\n",
    "    )\n",
    "    all_projects = all_projects.rename(columns={\"title\": \"proj_title\"})\n",
    "    final = pd.concat([all_projects, gdf])\n",
    "\n",
    "    # Correct typo\n",
    "    final = final.rename({\"mode detai\": \"mode_detail\"})\n",
    "\n",
    "    # Set geometry again\n",
    "    final = final.set_geometry(\"geometry\").set_crs(geography_utils.WGS84)\n",
    "    return final"
   ]
  },
  {
   "cell_type": "code",
   "execution_count": null,
   "id": "10f74d00-6968-4eef-9ae0-4639b82542b9",
   "metadata": {},
   "outputs": [],
   "source": []
  },
  {
   "cell_type": "code",
   "execution_count": 10,
   "id": "dcdf4707-e3e4-4f58-8edd-1f4b7ba8b186",
   "metadata": {},
   "outputs": [],
   "source": [
    "def harmonize_mtc():\n",
    "    df = mtc_lrtp()\n",
    "    df = harmonizing_lrtp(\n",
    "        df,\n",
    "        project_name_col=\"proj_title\",\n",
    "        project_description_col=\"subcompone\",\n",
    "        project_category_col=\"plan_strategy\",\n",
    "        project_cost_col=\"funding_millions_yoe\",\n",
    "        location_col=\"geometry\",\n",
    "        county_col=\"county\",\n",
    "        city_col=\"\",\n",
    "        project_year_col=\"open_year\",\n",
    "        phase_col=\"\",\n",
    "        program=\"MTC\",\n",
    "        data_source=\"LRTP\",\n",
    "        note_cols=[\n",
    "            \"strategy\",\n",
    "            \"layer_name\",\n",
    "            \"mode_detai\",\n",
    "        ],\n",
    "        cost_in_millions=False,\n",
    "    )\n",
    "\n",
    "    return df"
   ]
  },
  {
   "cell_type": "markdown",
   "id": "f806dda3-1fb0-4c41-b6b3-729bf31afc3a",
   "metadata": {},
   "source": [
    "### Tahoe\n",
    "* Open data portal: https://www.tahoeopendata.org/search?tags=transportation\n",
    "* https://www.tahoeopendata.org/datasets/TRPA::2020-regional-transportation-plan-projects/about"
   ]
  },
  {
   "cell_type": "code",
   "execution_count": 11,
   "id": "56da12dd-7e5a-4a98-b5d2-05067016d49b",
   "metadata": {},
   "outputs": [],
   "source": [
    "def tmpo_lrtp():\n",
    "    tahoe_url = \"https://maps.trpa.org/server/rest/services/Datadownloader_Transportation/MapServer/19/query?where=1%3D1&text=&objectIds=&time=&timeRelation=esriTimeRelationOverlaps&geometry=&geometryType=esriGeometryEnvelope&inSR=&spatialRel=esriSpatialRelIntersects&distance=&units=esriSRUnit_Foot&relationParam=&outFields=*+&returnGeometry=true&returnTrueCurves=false&maxAllowableOffset=&geometryPrecision=&outSR=&havingClause=&returnIdsOnly=false&returnCountOnly=false&orderByFields=&groupByFieldsForStatistics=&outStatistics=&returnZ=false&returnM=false&gdbVersion=&historicMoment=&returnDistinctValues=false&resultOffset=&resultRecordCount=&returnExtentOnly=false&sqlFormat=none&datumTransformation=&parameterValues=&rangeValues=&quantizationParameters=&featureEncoding=esriDefault&f=geojson\"\n",
    "    gdf = to_snakecase(gpd.read_file(tahoe_url))\n",
    "    gdf.complete_year = gdf.complete_year.astype(int)\n",
    "\n",
    "    # Filter out projects that are not yet completed\n",
    "    gdf2 = gdf[gdf.complete_year > 2022].reset_index(drop=True)\n",
    "\n",
    "    gdf2[\"project_year\"] = (\n",
    "        gdf2.start_year.astype(str) + \"-\" + gdf.complete_year.astype(str)\n",
    "    )\n",
    "    return gdf2"
   ]
  },
  {
   "cell_type": "code",
   "execution_count": 12,
   "id": "7adc4e36-a827-4342-8bdf-eb95d61dc5eb",
   "metadata": {},
   "outputs": [],
   "source": [
    "def harmonize_tahoe():\n",
    "    df = tmpo_lrtp()\n",
    "    df = harmonizing_lrtp(\n",
    "        df,\n",
    "        project_name_col=\"project_name\",\n",
    "        project_description_col=\"description\",\n",
    "        project_category_col=\"category\",\n",
    "        project_cost_col=\"estimated_cost\",\n",
    "        location_col=\"geometry\",\n",
    "        county_col=\"\",\n",
    "        city_col=\"\",\n",
    "        project_year_col=\"project_year\",\n",
    "        program=\"TMPO\",\n",
    "        phase_col=\"phase\",\n",
    "        data_source=\"LRTP\",\n",
    "        note_cols=[\n",
    "            \"implementer\",\n",
    "            \"funding_type\",\n",
    "            \"plan_name\",\n",
    "            \"label\",\n",
    "            \"financial_status\",\n",
    "            \"url\",\n",
    "        ],\n",
    "        cost_in_millions=True,\n",
    "    )\n",
    "\n",
    "    return df"
   ]
  },
  {
   "cell_type": "markdown",
   "id": "5c6bf430-db1c-40cb-9033-e19708c8c6bd",
   "metadata": {},
   "source": [
    "### Southern California Association of Governments (SCAG)"
   ]
  },
  {
   "cell_type": "code",
   "execution_count": 13,
   "id": "63e3d295-8f8b-46a2-bb34-72828a7343ae",
   "metadata": {},
   "outputs": [],
   "source": [
    "# LA 2016 landuse. just stuff like business parks/residential/etc\n",
    "# scag1 = to_snakecase(gpd.read_file(\"https://services5.arcgis.com/YzWImMY4GtDcMxOx/ArcGIS/rest/services/2016_Land_Use_Information_for_Los_Angeles_County2/FeatureServer/0/query?where=1%3D1&objectIds=&time=&geometry=&geometryType=esriGeometryEnvelope&inSR=&spatialRel=esriSpatialRelIntersects&resultType=none&distance=0.0&units=esriSRUnit_Meter&relationParam=&returnGeodetic=false&outFields=*+&returnGeometry=true&returnCentroid=false&featureEncoding=esriDefault&multipatchOption=xyFootprint&maxAllowableOffset=&geometryPrecision=&outSR=&defaultSR=&datumTransformation=&applyVCSProjection=false&returnIdsOnly=false&returnUniqueIdsOnly=false&returnCountOnly=false&returnExtentOnly=false&returnQueryGeometry=false&returnDistinctValues=false&cacheHint=false&orderByFields=&groupByFieldsForStatistics=&outStatistics=&having=&resultOffset=&resultRecordCount=&returnZ=false&returnM=false&returnExceededLimitFeatures=true&quantizationParameters=&sqlFormat=none&f=pgeojson&token=\"))"
   ]
  },
  {
   "cell_type": "code",
   "execution_count": 14,
   "id": "0283043f-629e-4a0f-a350-f38983af4479",
   "metadata": {},
   "outputs": [],
   "source": [
    "# Transit Priority Areas (Plan Year 2045) - SCAG region\n",
    "# https://gisdata-scag.opendata.arcgis.com/datasets/4c80e5d1fa584c329676fbd23765edfc_0/explore?location=34.156350%2C-118.170650%2C9.63\n",
    "#scag2 = to_snakecase(gpd.read_file(\"https://maps.scag.ca.gov/scaggis/rest/services/OpenData/TPA_RTP2020_Plan2045_boundary_scag/MapServer/0/query?outFields=*&where=1%3D1&f=geojson\")) "
   ]
  },
  {
   "cell_type": "code",
   "execution_count": 15,
   "id": "57b981cc-cf6f-468c-bffd-bee086e0805c",
   "metadata": {},
   "outputs": [],
   "source": [
    "#scag2.shape"
   ]
  },
  {
   "cell_type": "code",
   "execution_count": 16,
   "id": "5a815539-cb7c-447b-9e5c-6d89a6cb3981",
   "metadata": {},
   "outputs": [],
   "source": [
    "#scag2.plot()"
   ]
  },
  {
   "cell_type": "markdown",
   "id": "be9dbf44-0fa5-4082-8a57-79e282a626d1",
   "metadata": {},
   "source": [
    "### Sacramento Area Council of Governments (SACOG)\n",
    "* https://www.sacog.org/sites/main/files/file-attachments/2020_mtp-scs.pdf?1580330993"
   ]
  },
  {
   "cell_type": "code",
   "execution_count": 17,
   "id": "0b456207-635e-46e3-bd71-141fd0712069",
   "metadata": {},
   "outputs": [],
   "source": [
    "#sacog = to_snakecase(gpd.read_file(\"https://services.sacog.org/hosting/rest/services/Hosted/2040_Major_Stops/FeatureServer/0/query?outFields=*&where=1%3D1&f=geojson\"))"
   ]
  },
  {
   "cell_type": "markdown",
   "id": "93a08cfd-9bf0-43c5-aa47-360644e03d3b",
   "metadata": {},
   "source": [
    "### Lost"
   ]
  },
  {
   "cell_type": "code",
   "execution_count": 18,
   "id": "768f56f8-3f8f-4bee-a47d-6e2ad031af6e",
   "metadata": {},
   "outputs": [],
   "source": [
    "lost = harmonization_utils.load_lost()"
   ]
  },
  {
   "cell_type": "code",
   "execution_count": 19,
   "id": "82c5ea3e-c588-4b56-92a7-31df48be6a2e",
   "metadata": {},
   "outputs": [
    {
     "data": {
      "text/html": [
       "<div>\n",
       "<style scoped>\n",
       "    .dataframe tbody tr th:only-of-type {\n",
       "        vertical-align: middle;\n",
       "    }\n",
       "\n",
       "    .dataframe tbody tr th {\n",
       "        vertical-align: top;\n",
       "    }\n",
       "\n",
       "    .dataframe thead th {\n",
       "        text-align: right;\n",
       "    }\n",
       "</style>\n",
       "<table border=\"1\" class=\"dataframe\">\n",
       "  <thead>\n",
       "    <tr style=\"text-align: right;\">\n",
       "      <th></th>\n",
       "      <th>measure</th>\n",
       "      <th>local_returns</th>\n",
       "      <th>project_category</th>\n",
       "      <th>location</th>\n",
       "      <th>project_title</th>\n",
       "      <th>cost__in_millions_</th>\n",
       "      <th>estimated_lost_funds</th>\n",
       "      <th>estimated_federal_funds</th>\n",
       "      <th>estimated_state_funds</th>\n",
       "      <th>estimated_local_funds</th>\n",
       "      <th>estimated_other_funds</th>\n",
       "      <th>project_description</th>\n",
       "      <th>agency</th>\n",
       "      <th>county</th>\n",
       "      <th>city</th>\n",
       "      <th>notes</th>\n",
       "    </tr>\n",
       "  </thead>\n",
       "  <tbody>\n",
       "    <tr>\n",
       "      <th>194</th>\n",
       "      <td>imperial_d_2008</td>\n",
       "      <td>Yes</td>\n",
       "      <td>NaN</td>\n",
       "      <td>NaN</td>\n",
       "      <td>o st from barioni blvd to 13 st</td>\n",
       "      <td>0</td>\n",
       "      <td>0</td>\n",
       "      <td>0.00</td>\n",
       "      <td>0.00</td>\n",
       "      <td>0</td>\n",
       "      <td>0.00</td>\n",
       "      <td>construction/repair/maintenance</td>\n",
       "      <td>NaN</td>\n",
       "      <td>imperial</td>\n",
       "      <td>City of Westmorland</td>\n",
       "      <td>NaN</td>\n",
       "    </tr>\n",
       "  </tbody>\n",
       "</table>\n",
       "</div>"
      ],
      "text/plain": [
       "             measure local_returns project_category location  \\\n",
       "194  imperial_d_2008           Yes              NaN      NaN   \n",
       "\n",
       "                       project_title cost__in_millions_ estimated_lost_funds  \\\n",
       "194  o st from barioni blvd to 13 st                  0                    0   \n",
       "\n",
       "     estimated_federal_funds  estimated_state_funds  estimated_local_funds  \\\n",
       "194                     0.00                   0.00                      0   \n",
       "\n",
       "     estimated_other_funds              project_description agency    county  \\\n",
       "194                   0.00  construction/repair/maintenance    NaN  imperial   \n",
       "\n",
       "                    city notes  \n",
       "194  City of Westmorland   NaN  "
      ]
     },
     "execution_count": 19,
     "metadata": {},
     "output_type": "execute_result"
    }
   ],
   "source": [
    "lost.sample()"
   ]
  },
  {
   "cell_type": "code",
   "execution_count": 20,
   "id": "c99deb53-c295-43ef-aedc-bd34e103f2d4",
   "metadata": {},
   "outputs": [],
   "source": [
    "def harmonize_lost():\n",
    "    df = harmonization_utils.load_lost()\n",
    "    df = harmonizing_lrtp(\n",
    "        df,\n",
    "        project_name_col=\"project_title\",\n",
    "        project_description_col=\"project_description\",\n",
    "        project_category_col=\"project_category\",\n",
    "        project_cost_col=\"cost__in_millions_\",\n",
    "        location_col=\"\",\n",
    "        county_col=\"county\",\n",
    "        city_col=\"city\",\n",
    "        project_year_col=\"\",\n",
    "        program=\"\",\n",
    "        phase_col=\"phase\",\n",
    "        data_source=\"LOST\",\n",
    "        note_cols=[\"measure\", 'estimated_lost_funds',\n",
    "       'estimated_federal_funds', 'estimated_state_funds',\n",
    "       'estimated_local_funds', 'estimated_other_funds',\"notes\"],\n",
    "        cost_in_millions=False,\n",
    "    )\n",
    "    \n",
    "    \n",
    "    return df"
   ]
  },
  {
   "cell_type": "markdown",
   "id": "e3e8de85-ee99-4e15-b234-d7a0053bd982",
   "metadata": {
    "tags": []
   },
   "source": [
    "### Project Cost Division"
   ]
  },
  {
   "cell_type": "code",
   "execution_count": 32,
   "id": "0c571b45-6c47-417e-a99c-2f953b7b3bf4",
   "metadata": {},
   "outputs": [],
   "source": [
    "def correct_project_cost(df, project_title_col:str, project_total_cost:str):\n",
    "    \"\"\"\n",
    "    For some datasets, the same project \n",
    "    (as determined by the same project name, cost,\n",
    "    and source) is split across multiple rows. \n",
    "\n",
    "    Ex: A project costs $500 million and is \n",
    "    split on 5 rows by phase/location. Each row still lists \n",
    "    the total  cost as $500 million, which is not accurate.\n",
    "    This function will recalculate each of the row to list\n",
    "    $100 mil as the total project cost\n",
    "    \"\"\"\n",
    "    # Create a unique identifier\n",
    "    df['unique_identifier'] =  df[project_title_col] + df[project_total_cost].astype(str)\n",
    "    \n",
    "    # Create count for each project\n",
    "    df['how_many_times_same_proj_appears'] = df.groupby('unique_identifier').cumcount()+1\n",
    "    \n",
    "    # Find the total number of times a project title-cost appears. \n",
    "    # Sort by descending and keep only the row with the highest level\n",
    "    df2 = (df[[project_title_col,'how_many_times_same_proj_appears',project_total_cost, 'unique_identifier']]\n",
    "            .sort_values([project_title_col, 'how_many_times_same_proj_appears'], ascending = False)\n",
    "            .drop_duplicates(subset = ['unique_identifier'])\n",
    "           ) \n",
    "    # Create new funding estimate\n",
    "    df2['new_proj_cost'] = df2[project_total_cost] / df2[\"how_many_times_same_proj_appears\"]\n",
    "    \n",
    "    # Drop some columns\n",
    "    df2 = df2.drop(columns = [project_title_col,project_total_cost,'how_many_times_same_proj_appears'])\n",
    "    \n",
    "    # Merge\n",
    "    m1 = pd.merge(df, df2, how = \"inner\", on = \"unique_identifier\")\n",
    "    \n",
    "    # Clean up\n",
    "    m1 = m1.drop(columns = ['unique_identifier', 'how_many_times_same_proj_appears', project_total_cost])\n",
    "    m1['total_project_cost_note'] = \"This is an estimate of how much the project cost, estimated by dividing the total project cost by how many times the project appears in the dataset.\"\n",
    "    \n",
    "    # Replace project cost\n",
    "    m1 = m1.rename(columns = {'new_proj_cost':'total_project_cost'})\n",
    "    return m1"
   ]
  },
  {
   "cell_type": "code",
   "execution_count": 26,
   "id": "95463ed0-9d8b-4606-8793-0a6ebff3fd3c",
   "metadata": {},
   "outputs": [
    {
     "name": "stderr",
     "output_type": "stream",
     "text": [
      "/opt/conda/lib/python3.9/site-packages/geopandas/array.py:1406: UserWarning: CRS not set for some of the concatenation inputs. Setting output's CRS as WGS 84 (the single non-null crs provided).\n",
      "/tmp/ipykernel_749/1718985932.py:36: UserWarning: This pattern is interpreted as a regular expression, and has match groups. To actually get the groups, use str.extract.\n"
     ]
    }
   ],
   "source": [
    "mtc = harmonize_mtc()"
   ]
  },
  {
   "cell_type": "code",
   "execution_count": 34,
   "id": "01373cc4-0dc8-42bd-a520-a68a5c564b69",
   "metadata": {},
   "outputs": [],
   "source": [
    "mtc2 = correct_project_cost(mtc,'project_title', 'total_project_cost')"
   ]
  },
  {
   "cell_type": "code",
   "execution_count": 31,
   "id": "0f980a6c-6653-437e-abb4-16b2ed4c1ead",
   "metadata": {},
   "outputs": [
    {
     "data": {
      "text/plain": [
       "Index(['project_title', 'lead_agency', 'project_year', 'project_category',\n",
       "       'grant_program', 'project_description', 'phase', 'geometry', 'city',\n",
       "       'county', 'data_source', 'notes', 'new_proj_cost',\n",
       "       'total_project_cost_note'],\n",
       "      dtype='object')"
      ]
     },
     "execution_count": 31,
     "metadata": {},
     "output_type": "execute_result"
    }
   ],
   "source": [
    "mtc2.columns"
   ]
  },
  {
   "cell_type": "code",
   "execution_count": 39,
   "id": "28c6961f-ead5-4d58-8d71-ead74b46df8e",
   "metadata": {
    "tags": []
   },
   "outputs": [
    {
     "data": {
      "text/html": [
       "<div>\n",
       "<style scoped>\n",
       "    .dataframe tbody tr th:only-of-type {\n",
       "        vertical-align: middle;\n",
       "    }\n",
       "\n",
       "    .dataframe tbody tr th {\n",
       "        vertical-align: top;\n",
       "    }\n",
       "\n",
       "    .dataframe thead th {\n",
       "        text-align: right;\n",
       "    }\n",
       "</style>\n",
       "<table border=\"1\" class=\"dataframe\">\n",
       "  <thead>\n",
       "    <tr style=\"text-align: right;\">\n",
       "      <th></th>\n",
       "      <th>project_title</th>\n",
       "      <th>total_project_cost</th>\n",
       "    </tr>\n",
       "  </thead>\n",
       "  <tbody>\n",
       "    <tr>\n",
       "      <th>16</th>\n",
       "      <td>511 Bay Area Program | Regional</td>\n",
       "      <td>340.00</td>\n",
       "    </tr>\n",
       "    <tr>\n",
       "      <th>17</th>\n",
       "      <td>All Electronic Tolling Program | Regional</td>\n",
       "      <td>200.00</td>\n",
       "    </tr>\n",
       "    <tr>\n",
       "      <th>245</th>\n",
       "      <td>Automated People Mover | Service Expansion | VTA | Mineta San Jose International Airport Connector Automated People Mover</td>\n",
       "      <td>500.00</td>\n",
       "    </tr>\n",
       "    <tr>\n",
       "      <th>115</th>\n",
       "      <td>BRT | Modernization | AC Transit | 23rd St</td>\n",
       "      <td>259.00</td>\n",
       "    </tr>\n",
       "    <tr>\n",
       "      <th>143</th>\n",
       "      <td>BRT | Modernization | AC Transit | San Pablo Ave</td>\n",
       "      <td>300.00</td>\n",
       "    </tr>\n",
       "    <tr>\n",
       "      <th>212</th>\n",
       "      <td>BRT | Modernization | SFMTA | Geary Blvd</td>\n",
       "      <td>388.50</td>\n",
       "    </tr>\n",
       "    <tr>\n",
       "      <th>213</th>\n",
       "      <td>BRT | Modernization | SFMTA | Geary Blvd</td>\n",
       "      <td>388.50</td>\n",
       "    </tr>\n",
       "    <tr>\n",
       "      <th>214</th>\n",
       "      <td>BRT | Modernization | SFMTA | Geneva Ave/Harney Way</td>\n",
       "      <td>68.00</td>\n",
       "    </tr>\n",
       "    <tr>\n",
       "      <th>223</th>\n",
       "      <td>BRT | Modernization | SFMTA | Van Ness Ave</td>\n",
       "      <td>225.00</td>\n",
       "    </tr>\n",
       "    <tr>\n",
       "      <th>227</th>\n",
       "      <td>BRT | Modernization | SamTrans | El Camino Real</td>\n",
       "      <td>352.00</td>\n",
       "    </tr>\n",
       "  </tbody>\n",
       "</table>\n",
       "</div>"
      ],
      "text/plain": [
       "                                                                                                                 project_title  \\\n",
       "16                                                                                             511 Bay Area Program | Regional   \n",
       "17                                                                                   All Electronic Tolling Program | Regional   \n",
       "245  Automated People Mover | Service Expansion | VTA | Mineta San Jose International Airport Connector Automated People Mover   \n",
       "115                                                                                 BRT | Modernization | AC Transit | 23rd St   \n",
       "143                                                                           BRT | Modernization | AC Transit | San Pablo Ave   \n",
       "212                                                                                   BRT | Modernization | SFMTA | Geary Blvd   \n",
       "213                                                                                   BRT | Modernization | SFMTA | Geary Blvd   \n",
       "214                                                                        BRT | Modernization | SFMTA | Geneva Ave/Harney Way   \n",
       "223                                                                                 BRT | Modernization | SFMTA | Van Ness Ave   \n",
       "227                                                                            BRT | Modernization | SamTrans | El Camino Real   \n",
       "\n",
       "     total_project_cost  \n",
       "16               340.00  \n",
       "17               200.00  \n",
       "245              500.00  \n",
       "115              259.00  \n",
       "143              300.00  \n",
       "212              388.50  \n",
       "213              388.50  \n",
       "214               68.00  \n",
       "223              225.00  \n",
       "227              352.00  "
      ]
     },
     "execution_count": 39,
     "metadata": {},
     "output_type": "execute_result"
    }
   ],
   "source": [
    "mtc2.drop(columns= ['geometry'])[['project_title','total_project_cost']].sort_values(['project_title']).head(10)"
   ]
  },
  {
   "cell_type": "markdown",
   "id": "c471e856-9603-4174-85e3-7b5612599f76",
   "metadata": {},
   "source": [
    "### Concat"
   ]
  },
  {
   "cell_type": "code",
   "execution_count": null,
   "id": "b09c5244-9c4e-4c40-b55f-7d20b0c4154b",
   "metadata": {},
   "outputs": [],
   "source": [
    "def all_mpo():\n",
    "    tahoe = harmonize_tahoe()\n",
    "    sandag = harmonize_sandag()\n",
    "    mtc = harmonize_mtc()\n",
    "    lost = harmonize_lost()\n",
    "    df = pd.concat([tahoe, mtc, sandag, lost])\n",
    "\n",
    "    return df"
   ]
  },
  {
   "cell_type": "code",
   "execution_count": null,
   "id": "f6029dfe-f101-4907-b124-02ac0a08983a",
   "metadata": {},
   "outputs": [],
   "source": [
    "all_mpo_df = all_mpo()"
   ]
  },
  {
   "cell_type": "code",
   "execution_count": null,
   "id": "cbf33c3b-c592-4ba3-a422-ccf599a1dcb2",
   "metadata": {},
   "outputs": [],
   "source": [
    "all_mpo_df.groupby([\"grant_program\"]).size()"
   ]
  },
  {
   "cell_type": "code",
   "execution_count": null,
   "id": "48a098da-a194-4515-8bf9-ac08dd3b109e",
   "metadata": {},
   "outputs": [],
   "source": [
    "congest_keywords = [\n",
    "    \"congestion pricing\",\n",
    "    \"variablly priced\",\n",
    "    \"variable tolls\",\n",
    "    \"express lane\",\n",
    "    \"value\",\n",
    "    \"rush hour\",\n",
    "    \"cordon\",\n",
    "    \"dynamic pricing\",\n",
    "    \"dynmically priced\",\n",
    "    \"high occupancy toll\",\n",
    "    \"high-occupancy\"\n",
    "    \"mobility pricing\",\n",
    "    \"occupancy\",\n",
    "    \"toll lane\",\n",
    "    \"performance pricing\",\n",
    "    \"peak travel\",\n",
    "    \"managed\",\n",
    "    \"tollway\",\n",
    "    \"transponder\",\n",
    "    \"express toll\",\n",
    "    \"fixed\"\n",
    "]"
   ]
  },
  {
   "cell_type": "code",
   "execution_count": null,
   "id": "89a96375-12a8-4c36-a6b9-85946e613e28",
   "metadata": {},
   "outputs": [],
   "source": [
    "def lower_case(df, columns_to_search: list):\n",
    "    \"\"\"\n",
    "    Lowercase certain columns\n",
    "    \"\"\"\n",
    "    new_columns = []\n",
    "    for i in columns_to_search:\n",
    "        df[f\"lower_case_{i}\"] = (df[i].str.lower().fillna(\"none\")\n",
    "                                 .str.replace(\"-\",\"\")\n",
    "                                 .str.replace(\".\",\"\")\n",
    "                                 .str.replace(\":\",\"\")\n",
    "                                )\n",
    "        new_columns.append(f\"lower_case_{i}\")\n",
    "\n",
    "    return df,new_columns"
   ]
  },
  {
   "cell_type": "code",
   "execution_count": null,
   "id": "8610673b-beb8-43ce-86ad-65a5edbb116b",
   "metadata": {},
   "outputs": [],
   "source": [
    "def find_keywords(df, columns_to_search:list, keywords_search:list):\n",
    "    df2, lower_case_cols_list = lower_case(df, columns_to_search)\n",
    "    \n",
    "    keywords_search = f\"({'|'.join(keywords_search)})\"\n",
    "    \n",
    "    for i in lower_case_cols_list:\n",
    "        df2[f\"{i}_keyword_search\"] = df2[i].str.extract(keywords_search).fillna(\"not congestion\")\n",
    "    \n",
    "    return df2"
   ]
  },
  {
   "cell_type": "code",
   "execution_count": null,
   "id": "e4ca79dc-e0ec-4e53-a09c-86cf396bb4a9",
   "metadata": {},
   "outputs": [],
   "source": [
    "# test = find_keywords(all_mpo_df,  [\"project_title\", \"project_description\", \"notes\"], congest_keywords)"
   ]
  },
  {
   "cell_type": "code",
   "execution_count": null,
   "id": "f7b3c57c-eee0-418a-82b6-051a01dd2488",
   "metadata": {},
   "outputs": [],
   "source": [
    "def filter_cordon(df, columns_to_search:list, keywords_search:list, save_to_gcs: bool = False):\n",
    "\n",
    "    # Filter out for Cordon \n",
    "    df = find_keywords(df, columns_to_search, keywords_search)\n",
    "    df2 = (df[(df.lower_case_project_title_keyword_search != \"not congestion\")\n",
    "        | (df.lower_case_project_description_keyword_search != \"not congestion\")]).reset_index(drop=True)\n",
    "    \n",
    "    # Delete out HOV\n",
    "    projects_to_delete = [\"SR 17 Corridor Congestion Relief in Los Gatos\",\n",
    "                         \"Interstate 380 Congestion Improvements\"]\n",
    "    df2 = df2[~df2.project_title.isin(projects_to_delete)].reset_index(drop = True)\n",
    "\n",
    "    # Drop invalid geometries\n",
    "    gdf = df2[~df2.geometry.is_empty].reset_index(drop = True)\n",
    "    gdf = gdf[gdf.geometry.is_valid].reset_index(drop = True)\n",
    "    \n",
    "    gdf = gdf.set_geometry(\"geometry\")\n",
    "    gdf = gdf.fillna(gdf.dtypes.replace({\"float64\": 0.0, \"object\": \"None\"}))\n",
    "\n",
    "    # One version that's a df\n",
    "    columns_to_drop = ['lower_case_project_title', 'lower_case_project_description']\n",
    "    df2 = df2.drop(columns = columns_to_drop + ['geometry'])\n",
    "    # df2 = df2.fillna(df.dtypes.replace({\"float64\": 0.0, \"object\": \"None\"}))\n",
    "    \n",
    "    if save_to_gcs:\n",
    "        df2.to_excel(f\"{harmonization_utils.GCS_FILE_PATH}LRTP/congestion_pricing_sample.xlsx\", sheet_name=\"Sheet_name_1\", index=False)\n",
    "        gdf.to_file(\"./congestion_pricing_sample.geojson\", driver=\"GeoJSON\")\n",
    "        \n",
    "    return gdf, df2"
   ]
  },
  {
   "cell_type": "code",
   "execution_count": null,
   "id": "301e83a2-af81-404f-9451-f9e2d1b3e57d",
   "metadata": {},
   "outputs": [],
   "source": [
    "cordon_gdf, cordon_df = filter_cordon(all_mpo_df, [\"project_title\", \"project_description\",], congest_keywords)"
   ]
  },
  {
   "cell_type": "code",
   "execution_count": null,
   "id": "94759bf4-3364-48b2-871a-c5855b4aff06",
   "metadata": {},
   "outputs": [],
   "source": [
    "len(cordon_df.drop_duplicates(subset = ['project_title']))"
   ]
  },
  {
   "cell_type": "code",
   "execution_count": null,
   "id": "73326293-f186-4035-b66e-efcdc8ed00e6",
   "metadata": {
    "tags": []
   },
   "outputs": [],
   "source": [
    "cordon_df.groupby([\"grant_program\"]).agg({\"project_title\":\"nunique\"})"
   ]
  },
  {
   "cell_type": "code",
   "execution_count": null,
   "id": "ff133b8e-e666-4dde-84d4-56e3e6e833b0",
   "metadata": {},
   "outputs": [],
   "source": [
    "cordon_df.grant_program.value_counts()"
   ]
  },
  {
   "cell_type": "code",
   "execution_count": null,
   "id": "b52f9434-889f-42b8-aa33-4c72b02cc828",
   "metadata": {},
   "outputs": [],
   "source": [
    "cordon_df.drop_duplicates(subset = ['total_project_cost','project_title',]).groupby([\"grant_program\"]).agg({'total_project_cost':'sum'})"
   ]
  },
  {
   "cell_type": "code",
   "execution_count": null,
   "id": "9de2efe0-ea2b-417c-9718-9660cf91d60b",
   "metadata": {},
   "outputs": [],
   "source": [
    "cols_to_drop = ['city','county', 'notes', 'phase']"
   ]
  },
  {
   "cell_type": "code",
   "execution_count": null,
   "id": "b454bd7d-4824-47c7-959b-8b242ad73739",
   "metadata": {
    "scrolled": true,
    "tags": []
   },
   "outputs": [],
   "source": [
    "cordon_df.drop(columns =cols_to_drop).drop_duplicates(subset = ['project_title', 'project_description'])"
   ]
  },
  {
   "cell_type": "code",
   "execution_count": null,
   "id": "e5394efd-2a93-46e0-8e5d-bc9326680b24",
   "metadata": {},
   "outputs": [],
   "source": [
    "cordon_gdf.explore('project_title', cmap= 'tab20c', style_kwds={'weight':6}, legend = False)"
   ]
  }
 ],
 "metadata": {
  "kernelspec": {
   "display_name": "Python 3 (ipykernel)",
   "language": "python",
   "name": "python3"
  },
  "language_info": {
   "codemirror_mode": {
    "name": "ipython",
    "version": 3
   },
   "file_extension": ".py",
   "mimetype": "text/x-python",
   "name": "python",
   "nbconvert_exporter": "python",
   "pygments_lexer": "ipython3",
   "version": "3.9.13"
  }
 },
 "nbformat": 4,
 "nbformat_minor": 5
}
