{
 "cells": [
  {
   "cell_type": "markdown",
   "id": "ec8f501a-adea-4a26-a123-b8813b11a7f8",
   "metadata": {},
   "source": [
    "## Long Range Transportation Plan"
   ]
  },
  {
   "cell_type": "code",
   "execution_count": 1,
   "id": "4d9c4625-d899-467f-822f-685ea519e37a",
   "metadata": {},
   "outputs": [
    {
     "name": "stderr",
     "output_type": "stream",
     "text": [
      "/opt/conda/lib/python3.9/site-packages/geopandas/_compat.py:123: UserWarning: The Shapely GEOS version (3.11.1-CAPI-1.17.1) is incompatible with the GEOS version PyGEOS was compiled with (3.10.1-CAPI-1.16.0). Conversions between both will be slow.\n",
      "  warnings.warn(\n",
      "/home/jovyan/data-analyses/project_list/_sb1_utils.py:1: UserWarning: Shapely 2.0 is installed, but because PyGEOS is also installed, GeoPandas will still use PyGEOS by default for now. To force to use and test Shapely 2.0, you have to set the environment variable USE_PYGEOS=0. You can do this before starting the Python process, or in your code before importing geopandas:\n",
      "\n",
      "import os\n",
      "os.environ['USE_PYGEOS'] = '0'\n",
      "import geopandas\n",
      "\n",
      "In a future release, GeoPandas will switch to using Shapely by default. If you are using PyGEOS directly (calling PyGEOS functions on geometries from GeoPandas), this will then stop working and you are encouraged to migrate from PyGEOS to Shapely 2.0 (https://shapely.readthedocs.io/en/latest/migration_pygeos.html).\n",
      "  import geopandas as gpd\n"
     ]
    }
   ],
   "source": [
    "import _harmonization_utils as harmonization_utils\n",
    "import geopandas as gpd\n",
    "import numpy as np\n",
    "import pandas as pd\n",
    "from calitp_data_analysis.sql import to_snakecase\n",
    "from shared_utils import geography_utils, utils"
   ]
  },
  {
   "cell_type": "code",
   "execution_count": 2,
   "id": "c98b342d-5b6d-4ec2-8d19-b57cab057892",
   "metadata": {},
   "outputs": [],
   "source": [
    "pd.options.display.max_columns = 100\n",
    "pd.options.display.float_format = \"{:.2f}\".format\n",
    "pd.set_option(\"display.max_rows\", None)\n",
    "pd.set_option(\"display.max_colwidth\", None)"
   ]
  },
  {
   "cell_type": "markdown",
   "id": "8872ef81-828c-4f39-bbb5-ee72db913d6e",
   "metadata": {},
   "source": [
    "### SANDAG\n",
    "* https://www.arcgis.com/home/item.html?id=ba8b2a6247ef463cb7411f039959f3ee\n",
    "* https://www.arcgis.com/apps/mapviewer/index.html?webmap=ba8b2a6247ef463cb7411f039959f3ee"
   ]
  },
  {
   "cell_type": "code",
   "execution_count": 3,
   "id": "7b48c181-36b1-49cb-8c8e-199f45f94a5e",
   "metadata": {},
   "outputs": [],
   "source": [
    "columns_to_keep = [\n",
    "    \"project_title\",\n",
    "    \"lead_agency\",\n",
    "    \"project_year\",\n",
    "    \"project_category\",\n",
    "    \"grant_program\",\n",
    "    \"project_description\",\n",
    "    \"total_project_cost\",\n",
    "    \"location\",\n",
    "    \"city\",\n",
    "    \"county\",\n",
    "    \"data_source\",\n",
    "    \"notes\",\n",
    "]"
   ]
  },
  {
   "cell_type": "code",
   "execution_count": 4,
   "id": "21933c7b-c56a-478a-9cd2-01b6f9c7a435",
   "metadata": {},
   "outputs": [],
   "source": [
    "def create_notes(df, note_cols: list):\n",
    "    prefix = \"_\"\n",
    "    for column in note_cols:\n",
    "        df[f\"{prefix}{column}\"] = df[column].astype(str)\n",
    "    note_cols = [prefix + sub for sub in note_cols]\n",
    "\n",
    "    # https://stackoverflow.com/questions/65532480/how-to-combine-column-names-and-values\n",
    "    def combine_notes(x):\n",
    "        return \", \".join([col + \": \" + x[col] for col in note_cols])\n",
    "\n",
    "    df[\"notes\"] = df.apply(combine_notes, axis=1)\n",
    "    df.notes = df.notes.str.replace(\"_\", \" \")\n",
    "\n",
    "    return df"
   ]
  },
  {
   "cell_type": "code",
   "execution_count": 5,
   "id": "d86d09e6-ba33-423c-af81-6d65f5444499",
   "metadata": {},
   "outputs": [],
   "source": [
    "def harmonizing_lrtp(\n",
    "    df,\n",
    "    project_name_col: str,\n",
    "    project_description_col: str,\n",
    "    project_category_col: str,\n",
    "    project_cost_col: str,\n",
    "    location_col: str,\n",
    "    county_col: str,\n",
    "    city_col: str,\n",
    "    project_year_col: str,\n",
    "    phase_col: str,\n",
    "    program: str,\n",
    "    data_source: str,\n",
    "    note_cols: list,\n",
    "    cost_in_millions: bool = True,\n",
    "):\n",
    "    \"\"\"\n",
    "    Take a dataset and change the column names/types to\n",
    "    the same names and formats.\n",
    "    \"\"\"\n",
    "    rename_columns = {\n",
    "        project_name_col: \"project_title\",\n",
    "        phase_col: \"phase\",\n",
    "        project_description_col: \"project_description\",\n",
    "        project_category_col: \"project_category\",\n",
    "        project_cost_col: \"total_project_cost\",\n",
    "        location_col: \"geometry\",\n",
    "        county_col: \"county\",\n",
    "        city_col: \"city\",\n",
    "        project_year_col: \"project_year\",\n",
    "    }\n",
    "    # Rename columns\n",
    "    df = df.rename(columns=rename_columns)\n",
    "\n",
    "    # Coerce cost/fund columns to right type\n",
    "    cost_columns = df.columns[df.columns.str.contains(\"(cost|funds)\")].tolist()\n",
    "    for i in cost_columns:\n",
    "        try:\n",
    "            df[i] = (\n",
    "                df[i]\n",
    "                .str.replace(\"$\", \"\")\n",
    "                .str.replace(\",\", \"\")\n",
    "                .apply(pd.to_numeric, errors=\"coerce\")\n",
    "                .fillna(0)\n",
    "            )\n",
    "        except:\n",
    "            df[i] = df[i].apply(pd.to_numeric, errors=\"coerce\").fillna(0)\n",
    "\n",
    "    # Add MPO & grant program\n",
    "    df[\"lead_agency\"] = program\n",
    "    df[\"grant_program\"] = f\"{program} {data_source}\"\n",
    "\n",
    "    # Add data source\n",
    "    df[\"data_source\"] = data_source\n",
    "\n",
    "    # Divide cost columns by millions\n",
    "    # If bool is set to True\n",
    "    if cost_in_millions:\n",
    "        for i in cost_columns:\n",
    "            df[i] = df[i].divide(1_000_000)\n",
    "\n",
    "    # Fill in any nulls\n",
    "    # df = df.fillna(df.dtypes.replace({\"float64\": 0.0, \"object\": \"None\"}))\n",
    "\n",
    "    # Create columns even if they don't exist, just to harmonize\n",
    "    # before concatting.\n",
    "    create_columns = [\n",
    "        \"county\",\n",
    "        \"city\",\n",
    "        \"notes\",\n",
    "        \"project_year\",\n",
    "        \"project_category\",\n",
    "        \"phase\",\n",
    "    ]\n",
    "    for column in create_columns:\n",
    "        if column not in df:\n",
    "            df[column] = \"None\"\n",
    "            \n",
    "    # Create notes\n",
    "    df = create_notes(df, note_cols)\n",
    "\n",
    "    columns_to_keep = [\n",
    "        \"project_title\",\n",
    "        \"lead_agency\",\n",
    "        \"project_year\",\n",
    "        \"project_category\",\n",
    "        \"grant_program\",\n",
    "        \"project_description\",\n",
    "        \"phase\",\n",
    "        \"total_project_cost\",\n",
    "        \"geometry\",\n",
    "        \"city\",\n",
    "        \"county\",\n",
    "        \"data_source\",\n",
    "        \"notes\",\n",
    "    ]\n",
    "\n",
    "    df = df[columns_to_keep]\n",
    "\n",
    "    return df"
   ]
  },
  {
   "cell_type": "code",
   "execution_count": 6,
   "id": "b2b9fbf7-97d0-4319-b119-a77ca185c21a",
   "metadata": {},
   "outputs": [],
   "source": [
    "def open_rest_server(url_pt_1: str, url_pt_2: str, layer_name: list):\n",
    "    full_gdf = pd.DataFrame()\n",
    "    for i in layer_name:\n",
    "        gdf = to_snakecase(gpd.read_file(f\"{url_pt_1}{i}{url_pt_2}\"))\n",
    "        gdf[\"layer_name\"] = i\n",
    "        full_gdf = pd.concat([full_gdf, gdf], axis=0)\n",
    "\n",
    "    return full_gdf"
   ]
  },
  {
   "cell_type": "code",
   "execution_count": 7,
   "id": "df02e8c2-e29d-44b6-9e47-89656aff07c3",
   "metadata": {},
   "outputs": [],
   "source": [
    "def sandag_lrtp():\n",
    "    sandag_layers_list = [\n",
    "        \"Complete_Corridors_Connectors_Intersections_Ramps_RP2021\",\n",
    "        \"Complete_Corridors_Highway_RP2021\",\n",
    "        \"Transit_Leap_RP2021\",\n",
    "        \"Adopted_Regional_Bike_Network_RP2021\",\n",
    "        \"Mobility_Hubs_and_Flexible_Fleets\",\n",
    "        \"Complete_Corridors_Regional_Arterials\",\n",
    "        \"Goods_Movement\",\n",
    "    ]\n",
    "\n",
    "    sandag_url_pt1 = (\n",
    "        \"https://services1.arcgis.com/HG80xaIVT1z1OdO5/ArcGIS/rest/services/\"\n",
    "    )\n",
    "    sandag_url_pt2 = \"/FeatureServer/0/query?where=1%3D1&objectIds=&time=&geometry=&geometryType=esriGeometryEnvelope&inSR=&spatialRel=esriSpatialRelIntersects&resultType=none&distance=0.0&units=esriSRUnit_Meter&relationParam=&returnGeodetic=false&outFields=*+&returnGeometry=true&featureEncoding=esriDefault&multipatchOption=xyFootprint&maxAllowableOffset=&geometryPrecision=&outSR=&defaultSR=&datumTransformation=&applyVCSProjection=false&returnIdsOnly=false&returnUniqueIdsOnly=false&returnCountOnly=false&returnExtentOnly=false&returnQueryGeometry=false&returnDistinctValues=false&cacheHint=false&orderByFields=&groupByFieldsForStatistics=&outStatistics=&having=&resultOffset=&resultRecordCount=&returnZ=false&returnM=false&returnExceededLimitFeatures=true&quantizationParameters=&sqlFormat=none&f=pgeojson&token=\"\n",
    "    sandag = open_rest_server(sandag_url_pt1, sandag_url_pt2, sandag_layers_list)\n",
    "   \n",
    "    return sandag"
   ]
  },
  {
   "cell_type": "code",
   "execution_count": 8,
   "id": "f02886c6-0347-46eb-b6cf-5159f5277e3b",
   "metadata": {},
   "outputs": [],
   "source": [
    "sandag = sandag_lrtp()"
   ]
  },
  {
   "cell_type": "code",
   "execution_count": 9,
   "id": "ae6dc4d7-4d1f-4c9b-832a-a65f0cb80f3a",
   "metadata": {},
   "outputs": [
    {
     "data": {
      "text/plain": [
       "Index(['objectid', 'type', 'freeway', 'intersecti', 'caption', 'project_id',\n",
       "       'phase', 'direction', 'project_id_1', 'year_built', 'category',\n",
       "       'project_name', 'description', 'cost2020m', 'aqc_2016_1', 'aqc_2020_1',\n",
       "       'pricmcp', 'conncmcp', 'status', 'categoría', 'corredor',\n",
       "       'nombre_del_proyecto', 'descripción', 'corredores_de_conexión',\n",
       "       'geometry', 'layer_name', 'corridor_i', 'type_1', 'existing', 'limits',\n",
       "       'description_1', 'shape__length', 'route', 'routetype', 'route_desc',\n",
       "       'rp_2021_id', 'rp_2021_id_1', 'primary_corridor',\n",
       "       'connecting_corridor_s_', 'capital_cost___2020__millions', 'name',\n",
       "       'mohubtype', 'mohubsize', 'transitservices', 'globalid', 'icon_url',\n",
       "       'shape__area', 'mohubtype_sp', 'mohubsize_sp', 'area', 'project',\n",
       "       'connecting_corridor', 'cost', 'improvementtype'],\n",
       "      dtype='object')"
      ]
     },
     "execution_count": 9,
     "metadata": {},
     "output_type": "execute_result"
    }
   ],
   "source": [
    "sandag.columns"
   ]
  },
  {
   "cell_type": "code",
   "execution_count": 10,
   "id": "d54cd0be-12ee-4c5c-96b0-d69d5ed294df",
   "metadata": {},
   "outputs": [
    {
     "data": {
      "text/plain": [
       "N/A                                                            22\n",
       "I-15 (I-8)                                                      4\n",
       "I-15 (SR 52)                                                    4\n",
       "I-805 (I-8)                                                     4\n",
       "Commuter Rail 398                                               3\n",
       "Central Coast Corridor                                          3\n",
       "Camp Pendleton Trail                                            2\n",
       "Central Avenue Bikeway                                          2\n",
       "LRT 399                                                         2\n",
       "San Diego River Bikeway Connections                             2\n",
       "Commuter Rail 582                                               2\n",
       "Border to Bayshore Bikeway                                      2\n",
       "San Diego River Trail - Mast Park to Lakeside baseball park     2\n",
       "Bay to Ranch Bikeway                                            2\n",
       "I-5 (SR 78)                                                     2\n",
       "Name: project_name, dtype: int64"
      ]
     },
     "execution_count": 10,
     "metadata": {},
     "output_type": "execute_result"
    }
   ],
   "source": [
    "sandag.project_name.value_counts().head(15)"
   ]
  },
  {
   "cell_type": "code",
   "execution_count": 11,
   "id": "5782c1b4-d250-452e-8719-d111708bbdfd",
   "metadata": {},
   "outputs": [
    {
     "data": {
      "text/plain": [
       "416"
      ]
     },
     "execution_count": 11,
     "metadata": {},
     "output_type": "execute_result"
    }
   ],
   "source": [
    "len(sandag)"
   ]
  },
  {
   "cell_type": "code",
   "execution_count": 12,
   "id": "9154c42c-37de-482b-8c3c-319740b9ceb4",
   "metadata": {},
   "outputs": [
    {
     "data": {
      "text/plain": [
       "Proposed    289\n",
       "Existing     55\n",
       "NB           26\n",
       "Name: status, dtype: int64"
      ]
     },
     "execution_count": 12,
     "metadata": {},
     "output_type": "execute_result"
    }
   ],
   "source": [
    "sandag.status.value_counts()"
   ]
  },
  {
   "cell_type": "code",
   "execution_count": 13,
   "id": "e65e9868-377f-4bc8-9d60-8256a96cd894",
   "metadata": {
    "scrolled": true,
    "tags": []
   },
   "outputs": [],
   "source": [
    "# sandag[sandag.project_name == \"Commuter Rail 398\"].drop(columns = ['geometry','caption'])"
   ]
  },
  {
   "cell_type": "code",
   "execution_count": 14,
   "id": "89fb6718-0ab8-4750-b0da-199fff03e283",
   "metadata": {},
   "outputs": [],
   "source": [
    "# sandag[sandag.project_name == \"Bay to Ranch Bikeway\"].drop(columns = ['geometry','caption'])"
   ]
  },
  {
   "cell_type": "code",
   "execution_count": 15,
   "id": "d96836f5-a6b7-47ae-9e2c-fa60cb04ab77",
   "metadata": {},
   "outputs": [],
   "source": [
    "# sandag[sandag.project_name == \"Central Avenue Bikeway\"].drop(columns = ['geometry','caption'])"
   ]
  },
  {
   "cell_type": "code",
   "execution_count": 16,
   "id": "1cc5ba4b-328d-486a-a8de-92643ccb09a9",
   "metadata": {},
   "outputs": [],
   "source": [
    "# sandag[sandag.project_name == \"Central Avenue Bikeway\"].explore('description')"
   ]
  },
  {
   "cell_type": "code",
   "execution_count": 17,
   "id": "6be936c8-b49a-41a5-b7dd-76c479773238",
   "metadata": {},
   "outputs": [],
   "source": [
    "# sandag[sandag.project_name == \"Bay to Ranch Bikeway\"].explore('description')"
   ]
  },
  {
   "cell_type": "code",
   "execution_count": 18,
   "id": "7cafbb23-9b99-4446-9ebc-71b7462d117a",
   "metadata": {
    "scrolled": true,
    "tags": []
   },
   "outputs": [],
   "source": [
    "# sandag[sandag.project_name == \"I-15 (I-8)\"].drop(columns = ['geometry','caption'])"
   ]
  },
  {
   "cell_type": "code",
   "execution_count": 19,
   "id": "8c0d88a6-cf33-4858-8c54-88ef88c56639",
   "metadata": {},
   "outputs": [],
   "source": [
    "def harmonize_sandag():\n",
    "    df = sandag_lrtp()\n",
    "    df = harmonizing_lrtp(\n",
    "        df,\n",
    "        project_name_col=\"project_name\",\n",
    "        project_description_col=\"description\",\n",
    "        project_category_col=\"category\",\n",
    "        project_cost_col=\"cost2020m\",\n",
    "        location_col=\"geometry\",\n",
    "        county_col=\"\",\n",
    "        city_col=\"\",\n",
    "        project_year_col=\"phase\",\n",
    "        phase_col=\"status\",\n",
    "        program=\"SANDAG\",\n",
    "        data_source=\"LRTP\",\n",
    "        note_cols=[\n",
    "            \"aqc_2016_1\",\n",
    "            \"aqc_2020_1\",\n",
    "            \"pricmcp\",\n",
    "            \"conncmcp\",\n",
    "            \"layer_name\",\n",
    "            \"corridor_i\",\n",
    "            \"type_1\",\n",
    "            \"existing\",\n",
    "            \"limits\",\n",
    "            \"description_1\",\n",
    "            \"route\",\n",
    "            \"routetype\",\n",
    "            \"route_desc\",\n",
    "            \"rp_2021_id\",\n",
    "            \"rp_2021_id_1\",\n",
    "            \"capital_cost___2020__millions\",\n",
    "        ],\n",
    "        cost_in_millions=False,\n",
    "    )\n",
    "\n",
    "    return df"
   ]
  },
  {
   "cell_type": "code",
   "execution_count": 20,
   "id": "e24cc455-9627-4679-aee8-98843a49931b",
   "metadata": {},
   "outputs": [
    {
     "name": "stderr",
     "output_type": "stream",
     "text": [
      "/tmp/ipykernel_1996/28610779.py:36: UserWarning: This pattern is interpreted as a regular expression, and has match groups. To actually get the groups, use str.extract.\n",
      "/tmp/ipykernel_1996/28610779.py:40: FutureWarning: The default value of regex will change from True to False in a future version. In addition, single character regular expressions will *not* be treated as literal strings when regex=True.\n"
     ]
    }
   ],
   "source": [
    "test = harmonize_sandag()"
   ]
  },
  {
   "cell_type": "code",
   "execution_count": 21,
   "id": "a8e3f993-9d83-4298-aa8c-dc3839032bb6",
   "metadata": {
    "tags": []
   },
   "outputs": [],
   "source": [
    "# test.drop(columns = ['geometry']).head()"
   ]
  },
  {
   "cell_type": "markdown",
   "id": "0e444a95-c7b8-4248-9715-f5405d263d86",
   "metadata": {
    "tags": []
   },
   "source": [
    "### MTC\n",
    "* 133 projects but point and line map returns 240 ish rows.\n",
    "* Projects that are in different locations can have the same name split by open year...\n",
    "* I guess the geospatial projects are split into various phases while the regular pandas df is just the project in its entirety.\n",
    "* https://www.planbayarea.org/2050-plan/final-plan-bay-area-2050/final-supplemental-reports/interactive-transportation-project-list\n",
    "* https://opendata.mtc.ca.gov/datasets/MTC::2023-transportation-improvement-program-projects-point/about\n",
    "* https://opendata.mtc.ca.gov/datasets/MTC::plan-bay-area-2050-transportation-projects-line/about\n",
    "* https://data.bayareametro.gov/Projects/Plan-Bay-Area-2050-Transportation-Project-List/y7ka-jksz"
   ]
  },
  {
   "cell_type": "code",
   "execution_count": 22,
   "id": "08e57d98-8b32-41ee-a835-0030977f0d1d",
   "metadata": {},
   "outputs": [],
   "source": [
    "def mtc_lrtp():\n",
    "    # Open rest server data\n",
    "    layer_list = [\"planbayarea2050_rtp_line\", \"planbayarea2050_rtp_point\"]\n",
    "    url_pt_1 = \"https://services3.arcgis.com/i2dkYWmb4wHvYPda/ArcGIS/rest/services/\"\n",
    "    url_pt_2 = \"/FeatureServer/0/query?where=1%3D1&objectIds=&time=&geometry=&geometryType=esriGeometryEnvelope&inSR=&spatialRel=esriSpatialRelIntersects&resultType=none&distance=0.0&units=esriSRUnit_Meter&relationParam=&returnGeodetic=false&outFields=*+&returnGeometry=true&featureEncoding=esriDefault&multipatchOption=xyFootprint&maxAllowableOffset=&geometryPrecision=&outSR=&defaultSR=&datumTransformation=&applyVCSProjection=false&returnIdsOnly=false&returnUniqueIdsOnly=false&returnCountOnly=false&returnExtentOnly=false&returnQueryGeometry=false&returnDistinctValues=false&cacheHint=false&orderByFields=&groupByFieldsForStatistics=&outStatistics=&having=&resultOffset=&resultRecordCount=&returnZ=false&returnM=false&returnExceededLimitFeatures=true&quantizationParameters=&sqlFormat=none&f=pgeojson&token=\"\n",
    "    gdf = open_rest_server(url_pt_1, url_pt_2, layer_list)\n",
    "\n",
    "    # Open all MTC projects. Not all projects are mappable.\n",
    "    all_projects_url = \"https://data.bayareametro.gov/resource/y7ka-jksz.json?$query=SELECT%0A%20%20%60plan_strategy%60%2C%0A%20%20%60rtpid%60%2C%0A%20%20%60title%60%2C%0A%20%20%60scope%60%2C%0A%20%20%60open_period%60%2C%0A%20%20%60funding_millions_yoe%60%2C%0A%20%20%60county%60\"\n",
    "    all_projects = pd.read_json(all_projects_url)\n",
    "\n",
    "    # Merge info from all projects to gdf\n",
    "    gdf = pd.merge(\n",
    "        gdf, all_projects, how=\"inner\", left_on=[\"proj_title\"], right_on=[\"title\"]\n",
    "    )\n",
    "\n",
    "    gdf = gdf.drop(columns=[\"title\"])\n",
    "\n",
    "    # Find projects that are unmappable\n",
    "    mtc_geometry_titles = set(gdf.proj_title.unique().tolist())\n",
    "    mtc_all_projects_titles = set(all_projects.title.unique().tolist())\n",
    "    missing_projects = list(mtc_all_projects_titles - mtc_geometry_titles)\n",
    "\n",
    "    # Add back in the  unmappable projects\n",
    "    all_projects = all_projects[all_projects.title.isin(missing_projects)].reset_index(\n",
    "        drop=True\n",
    "    )\n",
    "    all_projects = all_projects.rename(columns={\"title\": \"proj_title\"})\n",
    "    final = pd.concat([all_projects, gdf])\n",
    "\n",
    "    # Correct typo\n",
    "    final = final.rename({\"mode detai\": \"mode_detail\"})\n",
    "\n",
    "    # Set geometry again\n",
    "    final = final.set_geometry(\"geometry\").set_crs(geography_utils.WGS84)\n",
    "    return final"
   ]
  },
  {
   "cell_type": "code",
   "execution_count": 23,
   "id": "6ca7c2b4-8ae0-4e00-b8e4-413a31aeb7f0",
   "metadata": {},
   "outputs": [
    {
     "name": "stderr",
     "output_type": "stream",
     "text": [
      "/opt/conda/lib/python3.9/site-packages/geopandas/array.py:1406: UserWarning: CRS not set for some of the concatenation inputs. Setting output's CRS as WGS 84 (the single non-null crs provided).\n"
     ]
    }
   ],
   "source": [
    "mtc  = mtc_lrtp()"
   ]
  },
  {
   "cell_type": "code",
   "execution_count": 24,
   "id": "959883fb-e7f8-4539-827a-24904da0737f",
   "metadata": {},
   "outputs": [
    {
     "data": {
      "text/plain": [
       "Index(['plan_strategy', 'rtpid', 'proj_title', 'scope', 'open_period',\n",
       "       'funding_millions_yoe', 'county', 'objectid', 'map_id', 'subcompone',\n",
       "       'open_year', 'strategy', 'rtp_id', 'mode_', 'mode_detai', 'investment',\n",
       "       'shape__length', 'geometry', 'layer_name'],\n",
       "      dtype='object')"
      ]
     },
     "execution_count": 24,
     "metadata": {},
     "output_type": "execute_result"
    }
   ],
   "source": [
    "mtc.columns"
   ]
  },
  {
   "cell_type": "code",
   "execution_count": 25,
   "id": "7d95fe8f-4177-4759-a365-f48928868c14",
   "metadata": {},
   "outputs": [
    {
     "data": {
      "text/plain": [
       "Minor Roadway Improvements | Regional                                                      36\n",
       "Express Lanes | Regional                                                                   32\n",
       "Other Investments to Expand & Modernize the Regional Rail Network | Regional               15\n",
       "Bay Area Forward Program | Regional                                                         8\n",
       "Rapid Bus | AC Transit | Modernization                                                      8\n",
       "Other Investments to Enhance Local Transit Frequency, Capacity & Reliability | Regional     7\n",
       "Corridor & Interchange Improvements | US-101 | Santa Clara County                           7\n",
       "Corridor & Interchange Improvements | I-280 | Santa Clara County                            6\n",
       "Corridor & Interchange Improvements | SR-237 | Santa Clara County                           5\n",
       "Corridor & Interchange Improvements | US-101 | Sonoma County                                5\n",
       "Corridor & Interchange Improvements | SR-29 | Napa County                                   4\n",
       "Multimodal Transportation Enhancements | AC Transit and WETA | Alameda Point                3\n",
       "Congestion Pricing | Treasure Island                                                        3\n",
       "Corridor & Interchange Improvements | SR-4 | Contra Costa County                            3\n",
       "Local Bus | Service Frequency Boost | NVTA                                                  3\n",
       "Name: proj_title, dtype: int64"
      ]
     },
     "execution_count": 25,
     "metadata": {},
     "output_type": "execute_result"
    }
   ],
   "source": [
    "mtc.proj_title.value_counts().head(15)"
   ]
  },
  {
   "cell_type": "code",
   "execution_count": 26,
   "id": "a673cac6-8734-4618-a350-b860a5539b05",
   "metadata": {},
   "outputs": [],
   "source": [
    "# mtc[mtc.proj_title == \"Congestion Pricing | Treasure Island\"].drop(columns = ['geometry','scope'])"
   ]
  },
  {
   "cell_type": "code",
   "execution_count": 27,
   "id": "5178149b-57b8-4eb9-9914-8f787aa99868",
   "metadata": {
    "scrolled": true,
    "tags": []
   },
   "outputs": [],
   "source": [
    "# mtc[mtc.proj_title == \"Minor Roadway Improvements | Regional\"].drop(columns = ['geometry']).head()"
   ]
  },
  {
   "cell_type": "code",
   "execution_count": 28,
   "id": "dcdf4707-e3e4-4f58-8edd-1f4b7ba8b186",
   "metadata": {},
   "outputs": [],
   "source": [
    "def harmonize_mtc():\n",
    "    df = mtc_lrtp()\n",
    "    df = harmonizing_lrtp(\n",
    "        df,\n",
    "        project_name_col=\"proj_title\",\n",
    "        project_description_col=\"subcompone\",\n",
    "        project_category_col=\"plan_strategy\",\n",
    "        project_cost_col=\"funding_millions_yoe\",\n",
    "        location_col=\"geometry\",\n",
    "        county_col=\"county\",\n",
    "        city_col=\"\",\n",
    "        project_year_col=\"open_year\",\n",
    "        phase_col=\"\",\n",
    "        program=\"MTC\",\n",
    "        data_source=\"LRTP\",\n",
    "        note_cols=[\n",
    "            \"strategy\",\n",
    "            \"layer_name\",\n",
    "            \"mode_detai\",\n",
    "        ],\n",
    "        cost_in_millions=False,\n",
    "    )\n",
    "\n",
    "    return df"
   ]
  },
  {
   "cell_type": "code",
   "execution_count": 29,
   "id": "ca867322-082e-4fd0-9647-a8d55ff4bfea",
   "metadata": {},
   "outputs": [
    {
     "name": "stderr",
     "output_type": "stream",
     "text": [
      "/opt/conda/lib/python3.9/site-packages/geopandas/array.py:1406: UserWarning: CRS not set for some of the concatenation inputs. Setting output's CRS as WGS 84 (the single non-null crs provided).\n",
      "/tmp/ipykernel_1996/28610779.py:36: UserWarning: This pattern is interpreted as a regular expression, and has match groups. To actually get the groups, use str.extract.\n"
     ]
    }
   ],
   "source": [
    "mtc_test = harmonize_mtc()"
   ]
  },
  {
   "cell_type": "code",
   "execution_count": 30,
   "id": "44fffe18-0009-46b0-9a87-6212827e510c",
   "metadata": {
    "scrolled": true,
    "tags": []
   },
   "outputs": [],
   "source": [
    "# mtc_test.project_description.value_counts()"
   ]
  },
  {
   "cell_type": "code",
   "execution_count": 31,
   "id": "21fa4aec-708b-4d20-944a-aa032f1a631b",
   "metadata": {},
   "outputs": [],
   "source": [
    "# mtc_test.drop(columns = ['geometry']).head()"
   ]
  },
  {
   "cell_type": "markdown",
   "id": "f806dda3-1fb0-4c41-b6b3-729bf31afc3a",
   "metadata": {},
   "source": [
    "### Tahoe\n",
    "* Open data portal: https://www.tahoeopendata.org/search?tags=transportation\n",
    "* https://www.tahoeopendata.org/datasets/TRPA::2020-regional-transportation-plan-projects/about"
   ]
  },
  {
   "cell_type": "code",
   "execution_count": 32,
   "id": "56da12dd-7e5a-4a98-b5d2-05067016d49b",
   "metadata": {},
   "outputs": [],
   "source": [
    "def tmpo_lrtp():\n",
    "    tahoe_url = \"https://maps.trpa.org/server/rest/services/Datadownloader_Transportation/MapServer/19/query?where=1%3D1&text=&objectIds=&time=&timeRelation=esriTimeRelationOverlaps&geometry=&geometryType=esriGeometryEnvelope&inSR=&spatialRel=esriSpatialRelIntersects&distance=&units=esriSRUnit_Foot&relationParam=&outFields=*+&returnGeometry=true&returnTrueCurves=false&maxAllowableOffset=&geometryPrecision=&outSR=&havingClause=&returnIdsOnly=false&returnCountOnly=false&orderByFields=&groupByFieldsForStatistics=&outStatistics=&returnZ=false&returnM=false&gdbVersion=&historicMoment=&returnDistinctValues=false&resultOffset=&resultRecordCount=&returnExtentOnly=false&sqlFormat=none&datumTransformation=&parameterValues=&rangeValues=&quantizationParameters=&featureEncoding=esriDefault&f=geojson\"\n",
    "    gdf = to_snakecase(gpd.read_file(tahoe_url))\n",
    "    gdf.complete_year = gdf.complete_year.astype(int)\n",
    "\n",
    "    # Filter out projects that are not yet completed\n",
    "    gdf2 = gdf[gdf.complete_year > 2022].reset_index(drop=True)\n",
    "\n",
    "    gdf2[\"project_year\"] = (\n",
    "        gdf2.start_year.astype(str) + \"-\" + gdf.complete_year.astype(str)\n",
    "    )\n",
    "    return gdf2"
   ]
  },
  {
   "cell_type": "code",
   "execution_count": 33,
   "id": "1009e743-9913-4347-b835-d5a56848c4cd",
   "metadata": {},
   "outputs": [],
   "source": [
    "tahoe_original = tmpo_lrtp()"
   ]
  },
  {
   "cell_type": "code",
   "execution_count": 34,
   "id": "2aed5c6d-64af-43de-b24b-9d63ef66c58e",
   "metadata": {},
   "outputs": [
    {
     "data": {
      "text/plain": [
       "75"
      ]
     },
     "execution_count": 34,
     "metadata": {},
     "output_type": "execute_result"
    }
   ],
   "source": [
    "len(tahoe_original)"
   ]
  },
  {
   "cell_type": "code",
   "execution_count": 35,
   "id": "382c0519-8361-42c7-be66-447fe7203546",
   "metadata": {},
   "outputs": [
    {
     "data": {
      "text/plain": [
       "South Lake Tahoe Airport Improvement Project                               2\n",
       "Tallac Historic Site, Valhalla, and the Visitor Center Improvements        1\n",
       "Upper Truckee River Class 1 Trail Widening - Tahoe City to Squaw Valley    1\n",
       "TTD Transit Operations - Phase 2035                                        1\n",
       "Private Transit Operations - Phase 2025                                    1\n",
       "Name: project_name, dtype: int64"
      ]
     },
     "execution_count": 35,
     "metadata": {},
     "output_type": "execute_result"
    }
   ],
   "source": [
    "tahoe_original.project_name.value_counts().head()"
   ]
  },
  {
   "cell_type": "code",
   "execution_count": 36,
   "id": "21975f3a-121c-4fbf-8b92-8b96128f505d",
   "metadata": {},
   "outputs": [],
   "source": [
    "# tahoe_original[tahoe_original.project_name == \"South Lake Tahoe Airport Improvement Project\"].explore(\"category\")"
   ]
  },
  {
   "cell_type": "code",
   "execution_count": 37,
   "id": "ebb59259-6613-4bc4-96f5-6be6223fb0e8",
   "metadata": {},
   "outputs": [],
   "source": [
    "# tahoe_original[tahoe_original.project_name == \"South Lake Tahoe Airport Improvement Project\"].drop(columns = ['geometry','description'])"
   ]
  },
  {
   "cell_type": "code",
   "execution_count": 38,
   "id": "7adc4e36-a827-4342-8bdf-eb95d61dc5eb",
   "metadata": {},
   "outputs": [],
   "source": [
    "def harmonize_tahoe():\n",
    "    df = tmpo_lrtp()\n",
    "    df = harmonizing_lrtp(\n",
    "        df,\n",
    "        project_name_col=\"project_name\",\n",
    "        project_description_col=\"description\",\n",
    "        project_category_col=\"category\",\n",
    "        project_cost_col=\"estimated_cost\",\n",
    "        location_col=\"geometry\",\n",
    "        county_col=\"\",\n",
    "        city_col=\"\",\n",
    "        project_year_col=\"project_year\",\n",
    "        program=\"TMPO\",\n",
    "        phase_col=\"phase\",\n",
    "        data_source=\"LRTP\",\n",
    "        note_cols=[\n",
    "            \"implementer\",\n",
    "            \"funding_type\",\n",
    "            \"plan_name\",\n",
    "            \"label\",\n",
    "            \"financial_status\",\n",
    "            \"url\",\n",
    "        ],\n",
    "        cost_in_millions=True,\n",
    "    )\n",
    "\n",
    "    return df"
   ]
  },
  {
   "cell_type": "code",
   "execution_count": 39,
   "id": "ac3a5452-c9af-42d6-9093-49fa52b8c194",
   "metadata": {},
   "outputs": [
    {
     "name": "stderr",
     "output_type": "stream",
     "text": [
      "/tmp/ipykernel_1996/28610779.py:36: UserWarning: This pattern is interpreted as a regular expression, and has match groups. To actually get the groups, use str.extract.\n",
      "/tmp/ipykernel_1996/28610779.py:40: FutureWarning: The default value of regex will change from True to False in a future version. In addition, single character regular expressions will *not* be treated as literal strings when regex=True.\n"
     ]
    }
   ],
   "source": [
    "tahoe_test = harmonize_tahoe()"
   ]
  },
  {
   "cell_type": "code",
   "execution_count": 40,
   "id": "3f75872b-7723-403e-b976-7de3b55b90d7",
   "metadata": {},
   "outputs": [],
   "source": [
    "# tahoe_test.columns"
   ]
  },
  {
   "cell_type": "markdown",
   "id": "c471e856-9603-4174-85e3-7b5612599f76",
   "metadata": {},
   "source": [
    "### Concat all 3"
   ]
  },
  {
   "cell_type": "code",
   "execution_count": 41,
   "id": "b09c5244-9c4e-4c40-b55f-7d20b0c4154b",
   "metadata": {},
   "outputs": [],
   "source": [
    "def all_mpo():\n",
    "    tahoe = harmonize_tahoe().reset_index(drop = True)\n",
    "    sandag = harmonize_sandag().reset_index(drop = True)\n",
    "    mtc = harmonize_mtc().reset_index(drop = True)\n",
    "\n",
    "    df = pd.concat([tahoe, mtc, sandag])\n",
    "\n",
    "    return df"
   ]
  },
  {
   "cell_type": "code",
   "execution_count": 42,
   "id": "f6029dfe-f101-4907-b124-02ac0a08983a",
   "metadata": {},
   "outputs": [
    {
     "name": "stderr",
     "output_type": "stream",
     "text": [
      "/tmp/ipykernel_1996/28610779.py:36: UserWarning: This pattern is interpreted as a regular expression, and has match groups. To actually get the groups, use str.extract.\n",
      "/tmp/ipykernel_1996/28610779.py:40: FutureWarning: The default value of regex will change from True to False in a future version. In addition, single character regular expressions will *not* be treated as literal strings when regex=True.\n",
      "/tmp/ipykernel_1996/28610779.py:36: UserWarning: This pattern is interpreted as a regular expression, and has match groups. To actually get the groups, use str.extract.\n",
      "/tmp/ipykernel_1996/28610779.py:40: FutureWarning: The default value of regex will change from True to False in a future version. In addition, single character regular expressions will *not* be treated as literal strings when regex=True.\n",
      "/opt/conda/lib/python3.9/site-packages/geopandas/array.py:1406: UserWarning: CRS not set for some of the concatenation inputs. Setting output's CRS as WGS 84 (the single non-null crs provided).\n",
      "/tmp/ipykernel_1996/28610779.py:36: UserWarning: This pattern is interpreted as a regular expression, and has match groups. To actually get the groups, use str.extract.\n"
     ]
    }
   ],
   "source": [
    "all_mpo_df = all_mpo()"
   ]
  },
  {
   "cell_type": "code",
   "execution_count": 43,
   "id": "cbf33c3b-c592-4ba3-a422-ccf599a1dcb2",
   "metadata": {},
   "outputs": [
    {
     "data": {
      "text/plain": [
       "grant_program\n",
       "MTC LRTP       282\n",
       "SANDAG LRTP    416\n",
       "TMPO LRTP       75\n",
       "dtype: int64"
      ]
     },
     "execution_count": 43,
     "metadata": {},
     "output_type": "execute_result"
    }
   ],
   "source": [
    "all_mpo_df.groupby([\"grant_program\"]).size()"
   ]
  },
  {
   "cell_type": "code",
   "execution_count": 44,
   "id": "513ebf48-ca95-489d-aca7-a1b6956d5522",
   "metadata": {},
   "outputs": [
    {
     "data": {
      "text/html": [
       "<div>\n",
       "<style scoped>\n",
       "    .dataframe tbody tr th:only-of-type {\n",
       "        vertical-align: middle;\n",
       "    }\n",
       "\n",
       "    .dataframe tbody tr th {\n",
       "        vertical-align: top;\n",
       "    }\n",
       "\n",
       "    .dataframe thead th {\n",
       "        text-align: right;\n",
       "    }\n",
       "</style>\n",
       "<table border=\"1\" class=\"dataframe\">\n",
       "  <thead>\n",
       "    <tr style=\"text-align: right;\">\n",
       "      <th></th>\n",
       "      <th>project_title</th>\n",
       "    </tr>\n",
       "    <tr>\n",
       "      <th>grant_program</th>\n",
       "      <th></th>\n",
       "    </tr>\n",
       "  </thead>\n",
       "  <tbody>\n",
       "    <tr>\n",
       "      <th>MTC LRTP</th>\n",
       "      <td>133</td>\n",
       "    </tr>\n",
       "    <tr>\n",
       "      <th>SANDAG LRTP</th>\n",
       "      <td>309</td>\n",
       "    </tr>\n",
       "    <tr>\n",
       "      <th>TMPO LRTP</th>\n",
       "      <td>74</td>\n",
       "    </tr>\n",
       "  </tbody>\n",
       "</table>\n",
       "</div>"
      ],
      "text/plain": [
       "               project_title\n",
       "grant_program               \n",
       "MTC LRTP                 133\n",
       "SANDAG LRTP              309\n",
       "TMPO LRTP                 74"
      ]
     },
     "execution_count": 44,
     "metadata": {},
     "output_type": "execute_result"
    }
   ],
   "source": [
    "all_mpo_df.groupby(['grant_program']).agg({'project_title':'nunique'})"
   ]
  },
  {
   "cell_type": "code",
   "execution_count": 45,
   "id": "48a098da-a194-4515-8bf9-ac08dd3b109e",
   "metadata": {},
   "outputs": [],
   "source": [
    "congest_keywords = [\n",
    "    \"congest\",\n",
    "    \"variabl\",\n",
    "    \"variable tolls\",\n",
    "    \"express lane\",\n",
    "    \"value\",\n",
    "    \"rush\",\n",
    "    \"pric\",\n",
    "    \"off peak\",\n",
    "    \"cordon\",\n",
    "    \"dynamic pricing\",\n",
    "    \"dynmically priced\",\n",
    "    \"hot\",\n",
    "    \"mobility pricing\",\n",
    "    \"occupancy\",\n",
    "    \"toll lane\",\n",
    "    \"performance pricing\",\n",
    "    \"managed\",\n",
    "    \"charg\",\n",
    "    \"tollway\",\n",
    "    \"transponder\",\n",
    "    \"charge\",\n",
    "    \"express toll\",\n",
    "    \"fixed\"\n",
    "]"
   ]
  },
  {
   "cell_type": "code",
   "execution_count": 46,
   "id": "89a96375-12a8-4c36-a6b9-85946e613e28",
   "metadata": {},
   "outputs": [],
   "source": [
    "def lower_case(df, columns_to_search: list):\n",
    "    \"\"\"\n",
    "    Lowercase certain columns\n",
    "    \"\"\"\n",
    "    new_columns = []\n",
    "    for i in columns_to_search:\n",
    "        df[f\"lower_case_{i}\"] = (df[i].str.lower().fillna(\"none\")\n",
    "                                 .str.replace(\"-\",\"\")\n",
    "                                 .str.replace(\".\",\"\")\n",
    "                                 .str.replace(\":\",\"\")\n",
    "                                )\n",
    "        new_columns.append(f\"lower_case_{i}\")\n",
    "\n",
    "    return df,new_columns"
   ]
  },
  {
   "cell_type": "code",
   "execution_count": 47,
   "id": "8610673b-beb8-43ce-86ad-65a5edbb116b",
   "metadata": {},
   "outputs": [],
   "source": [
    "def find_keywords(df, columns_to_search:list, keywords_search:list):\n",
    "    df2, lower_case_cols_list = lower_case(df, columns_to_search)\n",
    "    \n",
    "    keywords_search = f\"({'|'.join(keywords_search)})\"\n",
    "    \n",
    "    for i in lower_case_cols_list:\n",
    "        df2[f\"{i}_keyword_search\"] = df2[i].str.extract(keywords_search).fillna(\"not congestion\")\n",
    "    \n",
    "    return df2"
   ]
  },
  {
   "cell_type": "code",
   "execution_count": 48,
   "id": "e4ca79dc-e0ec-4e53-a09c-86cf396bb4a9",
   "metadata": {},
   "outputs": [],
   "source": [
    "# test = find_keywords(all_mpo_df,  [\"project_title\", \"project_description\", \"notes\"], congest_keywords)"
   ]
  },
  {
   "cell_type": "code",
   "execution_count": 49,
   "id": "f7b3c57c-eee0-418a-82b6-051a01dd2488",
   "metadata": {},
   "outputs": [],
   "source": [
    "def filter_cordon(df, columns_to_search:list, keywords_search:list):\n",
    "\n",
    "    # Filter out for Cordon \n",
    "    df = find_keywords(df, columns_to_search, keywords_search)\n",
    "    df2 = (df[(df.lower_case_project_title_keyword_search != \"not congestion\")\n",
    "        | (df.lower_case_project_description_keyword_search != \"not congestion\")]).reset_index(drop=True)\n",
    "    \n",
    "    # Delete out HOV\n",
    "    projects_to_delete = [\"SR 17 Corridor Congestion Relief in Los Gatos\",\n",
    "                         \"Interstate 380 Congestion Improvements\"]\n",
    "    df2 = df2[~df2.project_title.isin(projects_to_delete)].reset_index(drop = True)\n",
    "    \n",
    "    # One version that's a gdf\n",
    "    gdf = df2.set_geometry(\"geometry\")\n",
    "    \n",
    "    # Drop invalid geometries\n",
    "    gdf = gdf[~gdf.geometry.is_empty].reset_index(drop = True)\n",
    "    gdf = gdf[gdf.geometry.is_valid].reset_index(drop = True)\n",
    "    gdf = gdf.fillna(gdf.dtypes.replace({\"float64\": 0.0, \"object\": \"None\"}))\n",
    "\n",
    "    # One version that's a df\n",
    "    columns_to_drop = ['lower_case_project_title', 'lower_case_project_description']\n",
    "    df2 = df2.drop(columns = columns_to_drop + ['geometry'])\n",
    "    df2 = df2.fillna(df.dtypes.replace({\"float64\": 0.0, \"object\": \"None\"}))\n",
    "    \n",
    "    return gdf,df2"
   ]
  },
  {
   "cell_type": "code",
   "execution_count": 50,
   "id": "301e83a2-af81-404f-9451-f9e2d1b3e57d",
   "metadata": {},
   "outputs": [
    {
     "name": "stderr",
     "output_type": "stream",
     "text": [
      "/tmp/ipykernel_1996/4229074955.py:7: FutureWarning: The default value of regex will change from True to False in a future version. In addition, single character regular expressions will *not* be treated as literal strings when regex=True.\n",
      "/tmp/ipykernel_1996/4229074955.py:7: FutureWarning: The default value of regex will change from True to False in a future version. In addition, single character regular expressions will *not* be treated as literal strings when regex=True.\n"
     ]
    }
   ],
   "source": [
    "cordon_gdf, cordon_df = filter_cordon(all_mpo_df, [\"project_title\", \"project_description\",], congest_keywords)"
   ]
  },
  {
   "cell_type": "code",
   "execution_count": 51,
   "id": "96f8fcb5-3e2c-4444-94bc-2c7f6fb73822",
   "metadata": {},
   "outputs": [
    {
     "data": {
      "text/plain": [
       "87"
      ]
     },
     "execution_count": 51,
     "metadata": {},
     "output_type": "execute_result"
    }
   ],
   "source": [
    "len(cordon_gdf)"
   ]
  },
  {
   "cell_type": "code",
   "execution_count": 52,
   "id": "94759bf4-3364-48b2-871a-c5855b4aff06",
   "metadata": {},
   "outputs": [
    {
     "data": {
      "text/plain": [
       "54"
      ]
     },
     "execution_count": 52,
     "metadata": {},
     "output_type": "execute_result"
    }
   ],
   "source": [
    "len(cordon_df.drop_duplicates(subset = ['project_title']))"
   ]
  },
  {
   "cell_type": "code",
   "execution_count": 53,
   "id": "73326293-f186-4035-b66e-efcdc8ed00e6",
   "metadata": {
    "tags": []
   },
   "outputs": [
    {
     "data": {
      "text/html": [
       "<div>\n",
       "<style scoped>\n",
       "    .dataframe tbody tr th:only-of-type {\n",
       "        vertical-align: middle;\n",
       "    }\n",
       "\n",
       "    .dataframe tbody tr th {\n",
       "        vertical-align: top;\n",
       "    }\n",
       "\n",
       "    .dataframe thead th {\n",
       "        text-align: right;\n",
       "    }\n",
       "</style>\n",
       "<table border=\"1\" class=\"dataframe\">\n",
       "  <thead>\n",
       "    <tr style=\"text-align: right;\">\n",
       "      <th></th>\n",
       "      <th>project_title</th>\n",
       "    </tr>\n",
       "    <tr>\n",
       "      <th>grant_program</th>\n",
       "      <th></th>\n",
       "    </tr>\n",
       "  </thead>\n",
       "  <tbody>\n",
       "    <tr>\n",
       "      <th>MTC LRTP</th>\n",
       "      <td>7</td>\n",
       "    </tr>\n",
       "    <tr>\n",
       "      <th>SANDAG LRTP</th>\n",
       "      <td>46</td>\n",
       "    </tr>\n",
       "    <tr>\n",
       "      <th>TMPO LRTP</th>\n",
       "      <td>1</td>\n",
       "    </tr>\n",
       "  </tbody>\n",
       "</table>\n",
       "</div>"
      ],
      "text/plain": [
       "               project_title\n",
       "grant_program               \n",
       "MTC LRTP                   7\n",
       "SANDAG LRTP               46\n",
       "TMPO LRTP                  1"
      ]
     },
     "execution_count": 53,
     "metadata": {},
     "output_type": "execute_result"
    }
   ],
   "source": [
    "cordon_df.groupby([\"grant_program\"]).agg({\"project_title\":\"nunique\"})"
   ]
  },
  {
   "cell_type": "code",
   "execution_count": 55,
   "id": "36e7d73a-81a2-476f-90fa-4efa050c7320",
   "metadata": {},
   "outputs": [],
   "source": [
    "# cordon_gdf.to_file(\"./congestion_pricing_sample.geojson\", driver=\"GeoJSON\")"
   ]
  },
  {
   "cell_type": "code",
   "execution_count": null,
   "id": "832c2d45-3bd2-4a97-9da1-1fb1f6a19ca2",
   "metadata": {},
   "outputs": [],
   "source": [
    "cordon_df.to_excel(\"gs://calitp-analytics-data/data-analyses/project_list/LRTP/congestion_pricing_sample.xlsx\", sheet_name=\"Sheet_name_1\", index=False)"
   ]
  },
  {
   "cell_type": "code",
   "execution_count": null,
   "id": "ff133b8e-e666-4dde-84d4-56e3e6e833b0",
   "metadata": {},
   "outputs": [],
   "source": [
    "cordon_df.grant_program.value_counts()"
   ]
  },
  {
   "cell_type": "code",
   "execution_count": null,
   "id": "b52f9434-889f-42b8-aa33-4c72b02cc828",
   "metadata": {},
   "outputs": [],
   "source": [
    "cordon_df.drop_duplicates(subset = ['total_project_cost','project_title',]).groupby([\"grant_program\"]).agg({'total_project_cost':'sum'})"
   ]
  },
  {
   "cell_type": "code",
   "execution_count": null,
   "id": "9de2efe0-ea2b-417c-9718-9660cf91d60b",
   "metadata": {},
   "outputs": [],
   "source": [
    "cols_to_drop = ['city','county', 'lower_case_project_description_keyword_search', 'lower_case_project_title_keyword_search']"
   ]
  },
  {
   "cell_type": "code",
   "execution_count": null,
   "id": "b454bd7d-4824-47c7-959b-8b242ad73739",
   "metadata": {
    "scrolled": true,
    "tags": []
   },
   "outputs": [],
   "source": [
    "# cordon_df.drop(columns =cols_to_drop).drop_duplicates(subset = ['project_title', 'project_description'])"
   ]
  },
  {
   "cell_type": "code",
   "execution_count": null,
   "id": "e5394efd-2a93-46e0-8e5d-bc9326680b24",
   "metadata": {},
   "outputs": [],
   "source": [
    "cordon_gdf.explore('project_title', cmap= 'tab20c', style_kwds={'weight':6}, legend = False)"
   ]
  }
 ],
 "metadata": {
  "kernelspec": {
   "display_name": "Python 3 (ipykernel)",
   "language": "python",
   "name": "python3"
  },
  "language_info": {
   "codemirror_mode": {
    "name": "ipython",
    "version": 3
   },
   "file_extension": ".py",
   "mimetype": "text/x-python",
   "name": "python",
   "nbconvert_exporter": "python",
   "pygments_lexer": "ipython3",
   "version": "3.9.13"
  }
 },
 "nbformat": 4,
 "nbformat_minor": 5
}
