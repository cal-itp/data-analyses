{
 "cells": [
  {
   "cell_type": "markdown",
   "id": "71a4e0ce-09a1-4369-9953-ca9630ee653b",
   "metadata": {},
   "source": [
    "## https://github.com/cal-itp/data-analyses/issues/890"
   ]
  },
  {
   "cell_type": "code",
   "execution_count": 1,
   "id": "0846f21e-ec73-4371-a795-d90c2337416d",
   "metadata": {},
   "outputs": [],
   "source": [
    "import _harmonization_utils as har_utils\n",
    "import _lrtp_utils as lrtp_utils\n",
    "import _sb1_utils as sb1_utils\n",
    "import _state_rail_plan_utils as srp_utils\n",
    "import geopandas as gpd\n",
    "import pandas as pd\n",
    "from calitp_data_analysis import utils\n",
    "from calitp_data_analysis.sql import to_snakecase"
   ]
  },
  {
   "cell_type": "code",
   "execution_count": 2,
   "id": "2fc7da2e-d0a5-4f1e-ac73-297936d05f71",
   "metadata": {},
   "outputs": [],
   "source": [
    "pd.options.display.max_columns = 100\n",
    "pd.options.display.float_format = \"{:.2f}\".format\n",
    "pd.set_option(\"display.max_rows\", None)\n",
    "pd.set_option(\"display.max_colwidth\", None)"
   ]
  },
  {
   "cell_type": "code",
   "execution_count": 3,
   "id": "16dafdc5-a04e-4cc2-ab04-408dcb52b216",
   "metadata": {},
   "outputs": [],
   "source": [
    "GCS_FILE_PATH = \"gs://calitp-analytics-data/data-analyses/sb125/\""
   ]
  },
  {
   "cell_type": "markdown",
   "id": "fa5790e0-fd8d-444a-a887-0be57a4e556d",
   "metadata": {
    "tags": []
   },
   "source": [
    "### Load Data\n",
    "* Need to include LP2000\n",
    "* Add in data source columns\n",
    "* Add in phase:\n",
    "    *  3 phases of projects: planned / partially funded / funded & under construction\n",
    "    * state rail plan (planned)\n",
    "    * LRTP (partially funded)\n",
    "    * LP2000, Black Cat, TIRCP (under construction)"
   ]
  },
  {
   "cell_type": "code",
   "execution_count": 4,
   "id": "1a35fe87-4210-432a-87d1-e47bf34e2c9c",
   "metadata": {},
   "outputs": [],
   "source": [
    "def load_lrtp():\n",
    "    lrtp_df, lrtp_gdf = lrtp_utils.all_mpo(True)\n",
    "    lrtp_df = lrtp_df.loc[lrtp_df.data_source != \"Lost\"].reset_index(drop=True)\n",
    "    lrtp_df[\"program_col\"] = lrtp_df.data_source\n",
    "    lrtp_df[\"dds_phase\"] = \"Partially Funded\"\n",
    "    return lrtp_df"
   ]
  },
  {
   "cell_type": "code",
   "execution_count": 5,
   "id": "244adf42-c641-4c00-85ab-b27b843ce5ed",
   "metadata": {},
   "outputs": [
    {
     "name": "stderr",
     "output_type": "stream",
     "text": [
      "/home/jovyan/data-analyses/project_list/_lrtp_utils.py:66: UserWarning: This pattern is interpreted as a regular expression, and has match groups. To actually get the groups, use str.extract.\n",
      "  cost_columns = df.columns[df.columns.str.contains(\"(cost|funds)\")].tolist()\n",
      "/home/jovyan/data-analyses/project_list/_lrtp_utils.py:66: UserWarning: This pattern is interpreted as a regular expression, and has match groups. To actually get the groups, use str.extract.\n",
      "  cost_columns = df.columns[df.columns.str.contains(\"(cost|funds)\")].tolist()\n",
      "/home/jovyan/data-analyses/project_list/_lrtp_utils.py:66: UserWarning: This pattern is interpreted as a regular expression, and has match groups. To actually get the groups, use str.extract.\n",
      "  cost_columns = df.columns[df.columns.str.contains(\"(cost|funds)\")].tolist()\n",
      "/home/jovyan/data-analyses/project_list/_lrtp_utils.py:66: UserWarning: This pattern is interpreted as a regular expression, and has match groups. To actually get the groups, use str.extract.\n",
      "  cost_columns = df.columns[df.columns.str.contains(\"(cost|funds)\")].tolist()\n",
      "/home/jovyan/data-analyses/project_list/_lrtp_utils.py:66: UserWarning: This pattern is interpreted as a regular expression, and has match groups. To actually get the groups, use str.extract.\n",
      "  cost_columns = df.columns[df.columns.str.contains(\"(cost|funds)\")].tolist()\n",
      "/home/jovyan/data-analyses/project_list/_lrtp_utils.py:66: UserWarning: This pattern is interpreted as a regular expression, and has match groups. To actually get the groups, use str.extract.\n",
      "  cost_columns = df.columns[df.columns.str.contains(\"(cost|funds)\")].tolist()\n",
      "/home/jovyan/data-analyses/project_list/_lrtp_utils.py:66: UserWarning: This pattern is interpreted as a regular expression, and has match groups. To actually get the groups, use str.extract.\n",
      "  cost_columns = df.columns[df.columns.str.contains(\"(cost|funds)\")].tolist()\n",
      "/home/jovyan/data-analyses/project_list/_lrtp_utils.py:66: UserWarning: This pattern is interpreted as a regular expression, and has match groups. To actually get the groups, use str.extract.\n",
      "  cost_columns = df.columns[df.columns.str.contains(\"(cost|funds)\")].tolist()\n"
     ]
    },
    {
     "name": "stdout",
     "output_type": "stream",
     "text": [
      "96 rows are headers\n"
     ]
    },
    {
     "name": "stderr",
     "output_type": "stream",
     "text": [
      "/home/jovyan/data-analyses/project_list/_lrtp_utils.py:66: UserWarning: This pattern is interpreted as a regular expression, and has match groups. To actually get the groups, use str.extract.\n",
      "  cost_columns = df.columns[df.columns.str.contains(\"(cost|funds)\")].tolist()\n",
      "/home/jovyan/data-analyses/project_list/_lrtp_utils.py:720: FutureWarning: The default value of regex will change from True to False in a future version. In addition, single character regular expressions will *not* be treated as literal strings when regex=True.\n",
      "  sandag.cost2020m.str.replace(\"$\", \"\")\n",
      "/home/jovyan/data-analyses/project_list/_lrtp_utils.py:66: UserWarning: This pattern is interpreted as a regular expression, and has match groups. To actually get the groups, use str.extract.\n",
      "  cost_columns = df.columns[df.columns.str.contains(\"(cost|funds)\")].tolist()\n"
     ]
    },
    {
     "name": "stdout",
     "output_type": "stream",
     "text": [
      "65 rows are headers\n"
     ]
    },
    {
     "name": "stderr",
     "output_type": "stream",
     "text": [
      "/home/jovyan/data-analyses/project_list/_lrtp_utils.py:66: UserWarning: This pattern is interpreted as a regular expression, and has match groups. To actually get the groups, use str.extract.\n",
      "  cost_columns = df.columns[df.columns.str.contains(\"(cost|funds)\")].tolist()\n",
      "/home/jovyan/data-analyses/project_list/_lrtp_utils.py:66: UserWarning: This pattern is interpreted as a regular expression, and has match groups. To actually get the groups, use str.extract.\n",
      "  cost_columns = df.columns[df.columns.str.contains(\"(cost|funds)\")].tolist()\n",
      "/home/jovyan/data-analyses/project_list/_lrtp_utils.py:66: UserWarning: This pattern is interpreted as a regular expression, and has match groups. To actually get the groups, use str.extract.\n",
      "  cost_columns = df.columns[df.columns.str.contains(\"(cost|funds)\")].tolist()\n"
     ]
    },
    {
     "name": "stdout",
     "output_type": "stream",
     "text": [
      "360 rows are headers\n"
     ]
    },
    {
     "name": "stderr",
     "output_type": "stream",
     "text": [
      "/home/jovyan/data-analyses/project_list/_lrtp_utils.py:66: UserWarning: This pattern is interpreted as a regular expression, and has match groups. To actually get the groups, use str.extract.\n",
      "  cost_columns = df.columns[df.columns.str.contains(\"(cost|funds)\")].tolist()\n",
      "/home/jovyan/data-analyses/project_list/_lrtp_utils.py:66: UserWarning: This pattern is interpreted as a regular expression, and has match groups. To actually get the groups, use str.extract.\n",
      "  cost_columns = df.columns[df.columns.str.contains(\"(cost|funds)\")].tolist()\n"
     ]
    },
    {
     "name": "stdout",
     "output_type": "stream",
     "text": [
      "68 rows are headers\n"
     ]
    },
    {
     "name": "stderr",
     "output_type": "stream",
     "text": [
      "/home/jovyan/data-analyses/project_list/_lrtp_utils.py:66: UserWarning: This pattern is interpreted as a regular expression, and has match groups. To actually get the groups, use str.extract.\n",
      "  cost_columns = df.columns[df.columns.str.contains(\"(cost|funds)\")].tolist()\n",
      "/home/jovyan/data-analyses/project_list/_lrtp_utils.py:66: UserWarning: This pattern is interpreted as a regular expression, and has match groups. To actually get the groups, use str.extract.\n",
      "  cost_columns = df.columns[df.columns.str.contains(\"(cost|funds)\")].tolist()\n",
      "/home/jovyan/data-analyses/project_list/_lrtp_utils.py:66: UserWarning: This pattern is interpreted as a regular expression, and has match groups. To actually get the groups, use str.extract.\n",
      "  cost_columns = df.columns[df.columns.str.contains(\"(cost|funds)\")].tolist()\n",
      "/home/jovyan/data-analyses/project_list/_lrtp_utils.py:66: UserWarning: This pattern is interpreted as a regular expression, and has match groups. To actually get the groups, use str.extract.\n",
      "  cost_columns = df.columns[df.columns.str.contains(\"(cost|funds)\")].tolist()\n"
     ]
    }
   ],
   "source": [
    "lrtp_df = load_lrtp()"
   ]
  },
  {
   "cell_type": "code",
   "execution_count": 6,
   "id": "6e19fdfe-f080-42d1-95e2-32194ae30fe7",
   "metadata": {},
   "outputs": [],
   "source": [
    "def load_srp():\n",
    "    df = har_utils.load_state_rail_plan()\n",
    "    df[\"source\"] = \"State Rail Plan\"\n",
    "    df[\"program\"] = \"State Rail Plan\"\n",
    "    df[\"dds_phase\"] = \"Planned\"\n",
    "    return df"
   ]
  },
  {
   "cell_type": "code",
   "execution_count": 7,
   "id": "d869746c-6051-4ed2-bf2c-6228c7289b27",
   "metadata": {},
   "outputs": [],
   "source": [
    "srp_df = load_srp()"
   ]
  },
  {
   "cell_type": "markdown",
   "id": "d0db5626-00a2-40f3-bcd0-3657667a33ea",
   "metadata": {},
   "source": [
    "#### Sb1: Which col represents total project cost? cost, totalcosts, costfull\n",
    "* Also filter out for ONLY TIRCP projects?"
   ]
  },
  {
   "cell_type": "code",
   "execution_count": 8,
   "id": "1af45f91-0c76-4753-80b8-04e836ab487f",
   "metadata": {},
   "outputs": [],
   "source": [
    "def load_sb1():\n",
    "    df = sb1_utils.load_sb1()\n",
    "    df[\"source\"] = \"SB1 Feature Server\"\n",
    "    df[\"dds_phase\"] = \"Under Construction\"\n",
    "    return df"
   ]
  },
  {
   "cell_type": "code",
   "execution_count": 9,
   "id": "92039992-3b23-4610-b795-1804dee2806b",
   "metadata": {},
   "outputs": [
    {
     "name": "stderr",
     "output_type": "stream",
     "text": [
      "/home/jovyan/data-analyses/project_list/_sb1_utils.py:23: FutureWarning: The default value of regex will change from True to False in a future version. In addition, single character regular expressions will *not* be treated as literal strings when regex=True.\n",
      "  gdf[i]\n",
      "/home/jovyan/data-analyses/project_list/_sb1_utils.py:23: FutureWarning: The default value of regex will change from True to False in a future version.\n",
      "  gdf[i]\n"
     ]
    },
    {
     "name": "stdout",
     "output_type": "stream",
     "text": [
      "0 rows are mising geometry\n",
      "7917 rows contain invalid geography\n"
     ]
    }
   ],
   "source": [
    "sb1_df = load_sb1()"
   ]
  },
  {
   "cell_type": "code",
   "execution_count": 40,
   "id": "47867edf-066d-45f0-825f-f2ab33075e20",
   "metadata": {},
   "outputs": [
    {
     "data": {
      "text/plain": [
       "201718 Local Streets And Roads                3814\n",
       "201819 Local Streets And Roads                2295\n",
       "State Highway Projects                        1089\n",
       "Local Streets And Roads                        539\n",
       "State Of Good Repair                           429\n",
       "State Transit Assistance                       370\n",
       "Active Transportation Program                  318\n",
       "Local Partnership Program                      174\n",
       "Transit And Intercity Rail Capital Program      60\n",
       "Trade Corridor Enhancement Program              57\n",
       "State Rail Assistance                           23\n",
       "Solutions For Congested Corridors Program       17\n",
       "Solutions To Congested Corridors Program         1\n",
       "Name: projprogram, dtype: int64"
      ]
     },
     "execution_count": 40,
     "metadata": {},
     "output_type": "execute_result"
    }
   ],
   "source": [
    "sb1_df.projprogram.value_counts()"
   ]
  },
  {
   "cell_type": "markdown",
   "id": "01a9b959-4980-4f01-a846-d2ee187483e7",
   "metadata": {},
   "source": [
    "#### Blackcat: Ask what grant_encumbered_amount,local_encumbered_amount,total_encumbered_amount,activebalance mean?"
   ]
  },
  {
   "cell_type": "code",
   "execution_count": 10,
   "id": "1725c8ef-4f4a-4853-a0da-e522d2c66b8d",
   "metadata": {},
   "outputs": [],
   "source": [
    "def load_blackcat(file: str) -> pd.DataFrame:\n",
    "    df = to_snakecase(pd.read_excel(f\"{GCS_FILE_PATH}{file}\"))\n",
    "    df[\"data_source\"] = \"Blackcat\"\n",
    "    df[\"dds_phase\"] = \"Under Construction\"\n",
    "    return df"
   ]
  },
  {
   "cell_type": "code",
   "execution_count": 11,
   "id": "1d61aabb-01c4-4dce-adc4-58fb8f34663a",
   "metadata": {},
   "outputs": [],
   "source": [
    "blackcat_df = load_blackcat(\"Grant+Projects_1_17_2024.xlsx\")"
   ]
  },
  {
   "cell_type": "code",
   "execution_count": 12,
   "id": "fa78dddc-c348-4ace-b04a-711adcc0c489",
   "metadata": {},
   "outputs": [],
   "source": [
    "def aggregate_to_one_line(\n",
    "    df: pd.DataFrame, column_to_group: str, column_to_summarize: str\n",
    "):\n",
    "    df[f\"new_{column_to_summarize}\"] = df.groupby(column_to_group)[\n",
    "        column_to_summarize\n",
    "    ].transform(lambda x: \",\".join(x))\n",
    "    df2 = df[[f\"new_{column_to_summarize}\", column_to_group]]\n",
    "    df2 = df2.drop_duplicates(subset=column_to_group).reset_index(drop=True)\n",
    "    df2 = df2.rename(columns={f\"new_{column_to_summarize}\": column_to_summarize})\n",
    "    return df2"
   ]
  },
  {
   "cell_type": "code",
   "execution_count": 33,
   "id": "84638089-3c86-46fa-9911-5ac18991de5d",
   "metadata": {},
   "outputs": [],
   "source": [
    "def load_lp2000(file: str):\n",
    "    df_project = to_snakecase(\n",
    "        pd.read_excel(f\"{GCS_FILE_PATH}{file}\", sheet_name=\"project\")\n",
    "    )\n",
    "\n",
    "    df_county = to_snakecase(\n",
    "        pd.read_excel(f\"{GCS_FILE_PATH}{file}\", sheet_name=\"county\")\n",
    "    ).drop(columns=[\"project_label_name\"])\n",
    "\n",
    "    df_district = to_snakecase(\n",
    "        pd.read_excel(f\"{GCS_FILE_PATH}{file}\", sheet_name=\"district\")\n",
    "    ).drop(columns=[\"project_label_name\"])\n",
    "\n",
    "    df_award = to_snakecase(\n",
    "        pd.read_excel(f\"{GCS_FILE_PATH}{file}\", sheet_name=\"awards\")\n",
    "    )\n",
    "\n",
    "    # Clean up awards so if project has multiple entries, this is all\n",
    "    # on one line instead of mulitple lines\n",
    "    df_award2 = aggregate_to_one_line(df_award, \"project_id\", \"grant_program\")\n",
    "    \n",
    "    # Merge \n",
    "    lp2000_df = (\n",
    "        pd.merge(df_project, df_county, on=\"project_id\", how=\"left\")\n",
    "        .merge(df_district, on=\"project_id\", how=\"left\")\n",
    "        .merge(df_award2, on=\"project_id\", how=\"left\")\n",
    "    )\n",
    "    \n",
    "    # Create \n",
    "    lp2000_df[\"postmile_combined\"] = (\n",
    "        \"begin: \"\n",
    "        + lp2000_df.revised_post_mile_begin_ind\n",
    "        + \"end: \"\n",
    "        + lp2000_df.revised_post_mile_end_ind\n",
    "    )\n",
    "    lp2000_df_to_keep = [\n",
    "        \"comment_desc\",\n",
    "        \"est_total_prj_costs\",\n",
    "        \"location_name\",\n",
    "        \"route_name\",\n",
    "        \"state_hwy_ind\",\n",
    "        \"senate_district_code\",\n",
    "        \"update_date_time\",\n",
    "        \"agency_name\",\n",
    "        \"urban_area_code\",\n",
    "        \"work_type_desc\",\n",
    "        \"category_desc\",\n",
    "        \"current_phase\",\n",
    "        \"county_name\",\n",
    "        \"project_label_name\",\n",
    "        \"district_code\",\n",
    "        \"grant_program\",\n",
    "        \"postmile_combined\",\n",
    "    ]\n",
    "    lp2000_df = lp2000_df[lp2000_df_to_keep]\n",
    "    lp2000_df[\"dds_phase\"] = \"Under Construction\"\n",
    "    lp2000_df[\"source\"] = \"LP2000\"\n",
    "    return lp2000_df"
   ]
  },
  {
   "cell_type": "code",
   "execution_count": 34,
   "id": "80a62aa6-79df-411c-b87f-c18cefa37af4",
   "metadata": {},
   "outputs": [],
   "source": [
    "lp2000_df = load_lp2000(\"LP2000.xlsx\")"
   ]
  },
  {
   "cell_type": "markdown",
   "id": "64174dbe-918e-424c-9cc3-b1502bd24e2a",
   "metadata": {},
   "source": [
    "### Harmonize it"
   ]
  },
  {
   "cell_type": "code",
   "execution_count": 18,
   "id": "8192764f-6b2c-41e6-892e-0b3debace384",
   "metadata": {},
   "outputs": [],
   "source": [
    "def create_notes(df, note_cols: list, new_col_name: str):\n",
    "    \"\"\"\n",
    "    Concat multiple columns into one.\n",
    "    \"\"\"\n",
    "    prefix = \"_\"\n",
    "    for column in note_cols:\n",
    "        df[f\"{prefix}{column}\"] = df[column].astype(str)\n",
    "    note_cols = [prefix + sub for sub in note_cols]\n",
    "\n",
    "    # https://stackoverflow.com/questions/65532480/how-to-combine-column-names-and-values\n",
    "    def combine_notes(x):\n",
    "        return \", \".join([col + \": \" + x[col] for col in note_cols])\n",
    "\n",
    "    df[new_col_name] = df.apply(combine_notes, axis=1)\n",
    "    df[new_col_name] = df[new_col_name].str.replace(\"_\", \" \")\n",
    "    df[new_col_name] = df[new_col_name].fillna(\"None\")\n",
    "    return df"
   ]
  },
  {
   "cell_type": "code",
   "execution_count": 19,
   "id": "d11cb637-71b5-4dde-81cd-84dae5f79ff4",
   "metadata": {},
   "outputs": [],
   "source": [
    "def harmonizing(\n",
    "    df,\n",
    "    agency_name_col: str,\n",
    "    project_name_col: str,\n",
    "    project_description_col: str,\n",
    "    phase_col: str,\n",
    "    project_cost_col: str,\n",
    "    geography_col: str,\n",
    "    post_mile_col: str,\n",
    "    county_col: str,\n",
    "    city_col: str,\n",
    "    district_col: str,\n",
    "    project_start_year_col: str,\n",
    "    project_completion_year_col: str,\n",
    "    program_col: str,\n",
    "    data_source: str,\n",
    "    fund_cols: list,\n",
    "    notes_cols: list,\n",
    "):\n",
    "    \"\"\"\n",
    "    Take a dataset and change the column names/types to\n",
    "    default names and formats.\n",
    "    \"\"\"\n",
    "    rename_columns = {\n",
    "        agency_name_col: \"lead_agency\",\n",
    "        project_name_col: \"project_title\",\n",
    "        project_description_col: \"project_description\",\n",
    "        project_cost_col: \"total_project_cost\",\n",
    "        geography_col: \"geometry\",\n",
    "        phase_col: \"phase\",\n",
    "        post_mile_col: \"post_mile\",\n",
    "        county_col: \"county\",\n",
    "        city_col: \"city\",\n",
    "        district_col: \"ct_district\",\n",
    "        project_start_year_col: \"project_start_year\",\n",
    "        project_completion_year_col: \"project_completion_year\",\n",
    "        program_col: \"grant_program\",\n",
    "        data_source: \"source\",\n",
    "    }\n",
    "    # Rename columns\n",
    "    df = df.rename(columns=rename_columns)\n",
    "\n",
    "    # Create columns even if they don't exist, just to harmonize\n",
    "    # before concatting.\n",
    "    create_columns = [\n",
    "        \"county\",\n",
    "        \"city\",\n",
    "        \"notes\",\n",
    "        \"project_start_year\",\n",
    "        \"project_completion_year\",\n",
    "        \"post_mile\",\n",
    "        \"phase\",\n",
    "        \"project_title\",\n",
    "        \"ct_district\",\n",
    "    ]\n",
    "    for column in create_columns:\n",
    "        if column not in df:\n",
    "            df[column] = \"None\"\n",
    "    if \"geometry\" not in df:\n",
    "        df[\"geometry\"] = None\n",
    "    if \"grant_program\" not in df:\n",
    "        df[\"grant_program\"] = data_source\n",
    "    if \"total_project_cost\" not in df:\n",
    "        df[\"total_project_cost\"] = 0\n",
    "\n",
    "    # Clean up monetary columns to be interger\n",
    "    cost_columns = df.columns[df.columns.str.contains(\"(cost|funds)\")].tolist()\n",
    "    for i in cost_columns:\n",
    "        df[i] = df[i].apply(pd.to_numeric, errors=\"coerce\").fillna(0)\n",
    "\n",
    "    # Add new column with funding breakout\n",
    "    # Since it's summarized above and the details are suppressed.\n",
    "    df[\"total_available_funds\"] = df[fund_cols].sum(axis=1)\n",
    "    df = create_notes(df, fund_cols, \"funding_notes\")\n",
    "\n",
    "    # Add column for unfunded needs\n",
    "    # df[\"unfunded_needs_estimate\"] = (\n",
    "    #    df[\"total_project_cost\"] - df[\"total_available_funds\"]\n",
    "    # )\n",
    "\n",
    "    # Create notes - aka other columns that were supressed\n",
    "    df = create_notes(df, notes_cols, \"notes\")\n",
    "\n",
    "    # Fill in nones\n",
    "    geometry_column = \"geometry\"\n",
    "\n",
    "    # Create a dictionary to specify replacement values for each data type\n",
    "    replacement_values = {\"float64\": 0.0, \"object\": \"None\"}\n",
    "\n",
    "    # Exclude the geometry column from the fillna operation\n",
    "    columns_to_fill = [col for col in df.columns if col != geometry_column]\n",
    "\n",
    "    # Fill null values in selected columns\n",
    "    df[columns_to_fill] = df[columns_to_fill].fillna(\n",
    "        df.dtypes.replace(replacement_values)\n",
    "    )\n",
    "\n",
    "    columns_to_keep = [\n",
    "        \"project_title\",\n",
    "        \"lead_agency\",\n",
    "        \"project_description\",\n",
    "        \"total_project_cost\",\n",
    "        \"total_available_funds\",\n",
    "        \"phase\",\n",
    "        \"post_mile\",\n",
    "        \"county\",\n",
    "        \"city\",\n",
    "        \"ct_district\",\n",
    "        \"project_start_year\",\n",
    "        \"project_completion_year\",\n",
    "        \"geometry\",\n",
    "        \"grant_program\",\n",
    "        \"source\",\n",
    "        \"notes\",\n",
    "        \"funding_notes\",\n",
    "    ]\n",
    "\n",
    "    # Only keep certain columns\n",
    "    df = df[columns_to_keep]\n",
    "    return df"
   ]
  },
  {
   "cell_type": "code",
   "execution_count": 20,
   "id": "ef2297c5-825c-49be-a892-3081052516c4",
   "metadata": {},
   "outputs": [
    {
     "name": "stderr",
     "output_type": "stream",
     "text": [
      "/tmp/ipykernel_298/1799387336.py:67: UserWarning: This pattern is interpreted as a regular expression, and has match groups. To actually get the groups, use str.extract.\n",
      "  cost_columns = df.columns[df.columns.str.contains(\"(cost|funds)\")].tolist()\n"
     ]
    }
   ],
   "source": [
    "lrtp_df_harmonized = harmonizing(\n",
    "    df=lrtp_df,\n",
    "    agency_name_col=\"lead_agency\",\n",
    "    project_name_col=\"project_title\",\n",
    "    project_description_col=\"project_description\",\n",
    "    phase_col=\"dds_phase\",\n",
    "    project_cost_col=\"total_project_cost\",\n",
    "    geography_col=\"geometry\",\n",
    "    post_mile_col=\"\",\n",
    "    county_col=\"county\",\n",
    "    city_col=\"city\",\n",
    "    district_col=\"\",\n",
    "    project_start_year_col=\"\",\n",
    "    project_completion_year_col=\"\",\n",
    "    program_col=\"program_col\",\n",
    "    data_source=\"data_source\",\n",
    "    fund_cols=[],\n",
    "    notes_cols=[\"notes\"],\n",
    ")"
   ]
  },
  {
   "cell_type": "code",
   "execution_count": 21,
   "id": "eb25aa9a-92ad-4b95-bb62-6b3b0bca3495",
   "metadata": {},
   "outputs": [
    {
     "data": {
      "text/html": [
       "<div>\n",
       "<style scoped>\n",
       "    .dataframe tbody tr th:only-of-type {\n",
       "        vertical-align: middle;\n",
       "    }\n",
       "\n",
       "    .dataframe tbody tr th {\n",
       "        vertical-align: top;\n",
       "    }\n",
       "\n",
       "    .dataframe thead th {\n",
       "        text-align: right;\n",
       "    }\n",
       "</style>\n",
       "<table border=\"1\" class=\"dataframe\">\n",
       "  <thead>\n",
       "    <tr style=\"text-align: right;\">\n",
       "      <th></th>\n",
       "      <th>project_title</th>\n",
       "      <th>lead_agency</th>\n",
       "      <th>project_description</th>\n",
       "      <th>total_project_cost</th>\n",
       "      <th>total_available_funds</th>\n",
       "      <th>phase</th>\n",
       "      <th>post_mile</th>\n",
       "      <th>county</th>\n",
       "      <th>city</th>\n",
       "      <th>ct_district</th>\n",
       "      <th>project_start_year</th>\n",
       "      <th>project_completion_year</th>\n",
       "      <th>geometry</th>\n",
       "      <th>grant_program</th>\n",
       "      <th>source</th>\n",
       "      <th>notes</th>\n",
       "      <th>funding_notes</th>\n",
       "    </tr>\n",
       "  </thead>\n",
       "  <tbody>\n",
       "    <tr>\n",
       "      <th>7957</th>\n",
       "      <td>Sr 905 (Siempre Viva Rd)</td>\n",
       "      <td>Sandag</td>\n",
       "      <td>North</td>\n",
       "      <td>42000000.00</td>\n",
       "      <td>0.00</td>\n",
       "      <td>Partially Funded</td>\n",
       "      <td>None</td>\n",
       "      <td>None</td>\n",
       "      <td>None</td>\n",
       "      <td>None</td>\n",
       "      <td>None</td>\n",
       "      <td>None</td>\n",
       "      <td>POINT (-116.939865968489 32.5554557291213)</td>\n",
       "      <td>Sandag Lrtp</td>\n",
       "      <td>Sandag Lrtp</td>\n",
       "      <td>notes: Category: Complete Corridor: Dar,  Status: Proposed,  Aqc 2016 1: 2050,  Aqc 2020 1: 2050,  Pricmcp: Sb2S,  Conncmcp: Sr 125,  Layer Name: Complete Corridors Connectors Intersections Ramps Rp2021,  Corridor I: Nan,  Type 1: Nan,  Existing: Nan,  Limits: Nan,  Description 1: Nan,  Route: Nan,  Routetype: Nan,  Route Desc: Nan,  Rp 2021 Id: Nan,  Rp 2021 Id 1: Nan,  Capital Cost   2020  Millions: Nan</td>\n",
       "      <td></td>\n",
       "    </tr>\n",
       "  </tbody>\n",
       "</table>\n",
       "</div>"
      ],
      "text/plain": [
       "                 project_title lead_agency project_description  \\\n",
       "7957  Sr 905 (Siempre Viva Rd)      Sandag               North   \n",
       "\n",
       "      total_project_cost  total_available_funds             phase post_mile  \\\n",
       "7957         42000000.00                   0.00  Partially Funded      None   \n",
       "\n",
       "     county  city ct_district project_start_year project_completion_year  \\\n",
       "7957   None  None        None               None                    None   \n",
       "\n",
       "                                        geometry grant_program       source  \\\n",
       "7957  POINT (-116.939865968489 32.5554557291213)   Sandag Lrtp  Sandag Lrtp   \n",
       "\n",
       "                                                                                                                                                                                                                                                                                                                                                                                                                          notes  \\\n",
       "7957   notes: Category: Complete Corridor: Dar,  Status: Proposed,  Aqc 2016 1: 2050,  Aqc 2020 1: 2050,  Pricmcp: Sb2S,  Conncmcp: Sr 125,  Layer Name: Complete Corridors Connectors Intersections Ramps Rp2021,  Corridor I: Nan,  Type 1: Nan,  Existing: Nan,  Limits: Nan,  Description 1: Nan,  Route: Nan,  Routetype: Nan,  Route Desc: Nan,  Rp 2021 Id: Nan,  Rp 2021 Id 1: Nan,  Capital Cost   2020  Millions: Nan   \n",
       "\n",
       "     funding_notes  \n",
       "7957                "
      ]
     },
     "execution_count": 21,
     "metadata": {},
     "output_type": "execute_result"
    }
   ],
   "source": [
    "lrtp_df_harmonized.sample()"
   ]
  },
  {
   "cell_type": "code",
   "execution_count": 22,
   "id": "d2d15a6b-9c44-4124-8d60-da74a9180c52",
   "metadata": {},
   "outputs": [
    {
     "name": "stderr",
     "output_type": "stream",
     "text": [
      "/tmp/ipykernel_298/1799387336.py:67: UserWarning: This pattern is interpreted as a regular expression, and has match groups. To actually get the groups, use str.extract.\n",
      "  cost_columns = df.columns[df.columns.str.contains(\"(cost|funds)\")].tolist()\n"
     ]
    }
   ],
   "source": [
    "blackcat_df_harmonized = harmonizing(\n",
    "    df=blackcat_df,\n",
    "    agency_name_col=\"organization_name\",\n",
    "    project_name_col=\"\",\n",
    "    project_description_col=\"description\",\n",
    "    phase_col=\"dds_phase\",\n",
    "    project_cost_col=\"\",\n",
    "    geography_col=\"\",\n",
    "    post_mile_col=\"\",\n",
    "    county_col=\"\",\n",
    "    city_col=\"\",\n",
    "    district_col=\"\",\n",
    "    project_start_year_col=\"project_year\",\n",
    "    project_completion_year_col=\"project_closed_date\",\n",
    "    program_col=\"funding_program\",\n",
    "    data_source=\"data_source\",\n",
    "    fund_cols=[\"allocationamount\"],\n",
    "    notes_cols=[\n",
    "        \"grant_fiscal_year\",\n",
    "        \"grant_encumbered_amount\",\n",
    "        \"local_encumbered_amount\",\n",
    "        \"total_encumbered_amount\",\n",
    "        \"expendedamount\",\n",
    "        \"activebalance\",\n",
    "        \"closedoutbalance\",\n",
    "        \"project_status\",\n",
    "    ],\n",
    ")"
   ]
  },
  {
   "cell_type": "code",
   "execution_count": 23,
   "id": "a7102189-3816-4423-9220-0dc340603b37",
   "metadata": {},
   "outputs": [
    {
     "name": "stderr",
     "output_type": "stream",
     "text": [
      "/tmp/ipykernel_298/1799387336.py:67: UserWarning: This pattern is interpreted as a regular expression, and has match groups. To actually get the groups, use str.extract.\n",
      "  cost_columns = df.columns[df.columns.str.contains(\"(cost|funds)\")].tolist()\n"
     ]
    }
   ],
   "source": [
    "sb1_df_harmonized = harmonizing(\n",
    "    df=sb1_df,\n",
    "    agency_name_col=\"projagency\",\n",
    "    project_name_col=\"projname\",\n",
    "    project_description_col=\"description\",\n",
    "    phase_col=\"dds_phase\",\n",
    "    project_cost_col=\"totalcosts\",\n",
    "    geography_col=\"geometry\",\n",
    "    post_mile_col=\"\",\n",
    "    county_col=\"countyname\",\n",
    "    city_col=\"cityname\",\n",
    "    district_col=\"\",\n",
    "    project_start_year_col=\"\",\n",
    "    project_completion_year_col=\"\",\n",
    "    program_col=\"projprogram\",\n",
    "    data_source=\"source\",\n",
    "    fund_cols=[],\n",
    "    notes_cols=[\n",
    "        \"projcategory\",\n",
    "        \"projprogcode\",\n",
    "        \"multiprogfunded\",\n",
    "        \"projstatus\",\n",
    "        \"cost\",\n",
    "        \"assemblydistrict\",\n",
    "        \"senatedistrict\",\n",
    "        \"assemblycode\",\n",
    "        \"senatecode\",\n",
    "        \"appagencyname\",\n",
    "        \"impagencyname\",\n",
    "        \"routes\",\n",
    "        \"constyear\",\n",
    "        \"costfull\",\n",
    "    ],\n",
    ")"
   ]
  },
  {
   "cell_type": "code",
   "execution_count": 24,
   "id": "5648d023-4b18-4d8c-a7d2-0a43bc105649",
   "metadata": {},
   "outputs": [
    {
     "data": {
      "text/plain": [
       "201718 Local Streets And Roads                3814\n",
       "201819 Local Streets And Roads                2295\n",
       "State Highway Projects                        1089\n",
       "Local Streets And Roads                        539\n",
       "State Of Good Repair                           429\n",
       "State Transit Assistance                       370\n",
       "Active Transportation Program                  318\n",
       "Local Partnership Program                      174\n",
       "Transit And Intercity Rail Capital Program      60\n",
       "Trade Corridor Enhancement Program              57\n",
       "State Rail Assistance                           23\n",
       "Solutions For Congested Corridors Program       17\n",
       "Solutions To Congested Corridors Program         1\n",
       "Name: grant_program, dtype: int64"
      ]
     },
     "execution_count": 24,
     "metadata": {},
     "output_type": "execute_result"
    }
   ],
   "source": [
    "sb1_df_harmonized.grant_program.value_counts()"
   ]
  },
  {
   "cell_type": "code",
   "execution_count": 25,
   "id": "a2d74753-0c1c-4a40-a5ed-761074112b13",
   "metadata": {},
   "outputs": [
    {
     "name": "stderr",
     "output_type": "stream",
     "text": [
      "/tmp/ipykernel_298/1799387336.py:67: UserWarning: This pattern is interpreted as a regular expression, and has match groups. To actually get the groups, use str.extract.\n",
      "  cost_columns = df.columns[df.columns.str.contains(\"(cost|funds)\")].tolist()\n"
     ]
    }
   ],
   "source": [
    "srp_df_harmonized = harmonizing(\n",
    "    df=srp_df,\n",
    "    agency_name_col=\"lead_agency\",\n",
    "    project_name_col=\"project_name\",\n",
    "    project_description_col=\"project_description\",\n",
    "    phase_col=\"\",\n",
    "    project_cost_col=\"total_project_cost\",\n",
    "    geography_col=\"\",\n",
    "    post_mile_col=\"\",\n",
    "    county_col=\"\",\n",
    "    city_col=\"\",\n",
    "    district_col=\"\",\n",
    "    project_start_year_col=\"\",\n",
    "    project_completion_year_col=\"\",\n",
    "    program_col=\"program\",\n",
    "    data_source=\"source\",\n",
    "    fund_cols=[],\n",
    "    notes_cols=[\n",
    "        \"project_time_horizon\",\n",
    "        \"srp_region\",\n",
    "        \"corridor\",\n",
    "        \"sub_corridor_node_1\",\n",
    "        \"sub_corridor_node_2\",\n",
    "        \"itsp_corridor\",\n",
    "        \"project_category\",\n",
    "    ],\n",
    ")"
   ]
  },
  {
   "cell_type": "code",
   "execution_count": 26,
   "id": "61691c27-c3a7-4864-a365-62d931b47e8f",
   "metadata": {},
   "outputs": [
    {
     "data": {
      "text/html": [
       "<div>\n",
       "<style scoped>\n",
       "    .dataframe tbody tr th:only-of-type {\n",
       "        vertical-align: middle;\n",
       "    }\n",
       "\n",
       "    .dataframe tbody tr th {\n",
       "        vertical-align: top;\n",
       "    }\n",
       "\n",
       "    .dataframe thead th {\n",
       "        text-align: right;\n",
       "    }\n",
       "</style>\n",
       "<table border=\"1\" class=\"dataframe\">\n",
       "  <thead>\n",
       "    <tr style=\"text-align: right;\">\n",
       "      <th></th>\n",
       "      <th>comment_desc</th>\n",
       "      <th>est_total_prj_costs</th>\n",
       "      <th>location_name</th>\n",
       "      <th>route_name</th>\n",
       "      <th>state_hwy_ind</th>\n",
       "      <th>senate_district_code</th>\n",
       "      <th>update_date_time</th>\n",
       "      <th>agency_name</th>\n",
       "      <th>urban_area_code</th>\n",
       "      <th>work_type_desc</th>\n",
       "      <th>category_desc</th>\n",
       "      <th>current_phase</th>\n",
       "      <th>county_name</th>\n",
       "      <th>project_label_name</th>\n",
       "      <th>district_code</th>\n",
       "      <th>grant_program</th>\n",
       "    </tr>\n",
       "  </thead>\n",
       "  <tbody>\n",
       "    <tr>\n",
       "      <th>9669</th>\n",
       "      <td>I-15 Express Lanes (Contract 1): Construct 1 Exp. Lane in each direction between Cantu-Galleano Ranch Rd. and SR-60 and 2 Exp. Lanes in each direction between SR-60 and north of Foothill Blvd. Additional improvements to AUX LN widening, undercrossing, and reconstruction of ramps and lane transitions where needed.</td>\n",
       "      <td>NaN</td>\n",
       "      <td>NaN</td>\n",
       "      <td>1-SBCT</td>\n",
       "      <td>Y</td>\n",
       "      <td>NaN</td>\n",
       "      <td>2023-05-30 14:19:03</td>\n",
       "      <td>San Bernardino County Transportation Authority</td>\n",
       "      <td>NaN</td>\n",
       "      <td>NaN</td>\n",
       "      <td>Road Related - Other</td>\n",
       "      <td>single phase</td>\n",
       "      <td>San Bernardino County</td>\n",
       "      <td>Road Related - Other</td>\n",
       "      <td>8.00</td>\n",
       "      <td>NaN</td>\n",
       "    </tr>\n",
       "  </tbody>\n",
       "</table>\n",
       "</div>"
      ],
      "text/plain": [
       "                                                                                                                                                                                                                                                                                                                    comment_desc  \\\n",
       "9669  I-15 Express Lanes (Contract 1): Construct 1 Exp. Lane in each direction between Cantu-Galleano Ranch Rd. and SR-60 and 2 Exp. Lanes in each direction between SR-60 and north of Foothill Blvd. Additional improvements to AUX LN widening, undercrossing, and reconstruction of ramps and lane transitions where needed.   \n",
       "\n",
       "      est_total_prj_costs location_name route_name state_hwy_ind  \\\n",
       "9669                  NaN           NaN     1-SBCT             Y   \n",
       "\n",
       "      senate_district_code    update_date_time  \\\n",
       "9669                   NaN 2023-05-30 14:19:03   \n",
       "\n",
       "                                         agency_name  urban_area_code  \\\n",
       "9669  San Bernardino County Transportation Authority              NaN   \n",
       "\n",
       "     work_type_desc         category_desc current_phase  \\\n",
       "9669            NaN  Road Related - Other  single phase   \n",
       "\n",
       "                county_name    project_label_name  district_code grant_program  \n",
       "9669  San Bernardino County  Road Related - Other           8.00           NaN  "
      ]
     },
     "execution_count": 26,
     "metadata": {},
     "output_type": "execute_result"
    }
   ],
   "source": [
    "lp2000_df.sample()"
   ]
  },
  {
   "cell_type": "code",
   "execution_count": 36,
   "id": "ea07a74f-4b34-4a37-bcdc-54f02befe02e",
   "metadata": {},
   "outputs": [
    {
     "data": {
      "text/plain": [
       "Index(['comment_desc', 'est_total_prj_costs', 'location_name', 'route_name',\n",
       "       'state_hwy_ind', 'senate_district_code', 'update_date_time',\n",
       "       'agency_name', 'urban_area_code', 'work_type_desc', 'category_desc',\n",
       "       'current_phase', 'county_name', 'project_label_name', 'district_code',\n",
       "       'grant_program', 'postmile_combined', 'dds_phase', 'source'],\n",
       "      dtype='object')"
      ]
     },
     "execution_count": 36,
     "metadata": {},
     "output_type": "execute_result"
    }
   ],
   "source": [
    "lp2000_df.columns"
   ]
  },
  {
   "cell_type": "code",
   "execution_count": 37,
   "id": "d588d001-9707-472f-a9bb-5dbf2cfd0d95",
   "metadata": {},
   "outputs": [
    {
     "name": "stderr",
     "output_type": "stream",
     "text": [
      "/tmp/ipykernel_298/1799387336.py:67: UserWarning: This pattern is interpreted as a regular expression, and has match groups. To actually get the groups, use str.extract.\n",
      "  cost_columns = df.columns[df.columns.str.contains(\"(cost|funds)\")].tolist()\n"
     ]
    }
   ],
   "source": [
    "lp2000_df_harmonized = harmonizing(\n",
    "    df=lp2000_df,\n",
    "    agency_name_col=\"agency_name\",\n",
    "    project_name_col=\"project_label_name\",\n",
    "    project_description_col=\"comment_desc\",\n",
    "    phase_col=\"dds_phase\",\n",
    "    project_cost_col=\"est_total_prj_costs\",\n",
    "    geography_col=\"\",\n",
    "    post_mile_col=\"\",\n",
    "    county_col=\"county_name\",\n",
    "    city_col=\"\",\n",
    "    district_col=\"\",\n",
    "    project_start_year_col=\"\",\n",
    "    project_completion_year_col=\"\",\n",
    "    program_col=\"grant_program\",\n",
    "    data_source=\"source\",\n",
    "    fund_cols=[],\n",
    "    notes_cols=[\n",
    "        \"location_name\",\n",
    "        \"route_name\",\n",
    "        \"state_hwy_ind\",\n",
    "        \"senate_district_code\",\n",
    "        \"work_type_desc\",\n",
    "        \"category_desc\",\n",
    "        \"district_code\",\n",
    "        \"postmile_combined\",\n",
    "    ],\n",
    ")"
   ]
  },
  {
   "cell_type": "code",
   "execution_count": 38,
   "id": "214471a7-e23b-41f0-8898-3bcaeaf4d948",
   "metadata": {},
   "outputs": [
    {
     "data": {
      "text/html": [
       "<div>\n",
       "<style scoped>\n",
       "    .dataframe tbody tr th:only-of-type {\n",
       "        vertical-align: middle;\n",
       "    }\n",
       "\n",
       "    .dataframe tbody tr th {\n",
       "        vertical-align: top;\n",
       "    }\n",
       "\n",
       "    .dataframe thead th {\n",
       "        text-align: right;\n",
       "    }\n",
       "</style>\n",
       "<table border=\"1\" class=\"dataframe\">\n",
       "  <thead>\n",
       "    <tr style=\"text-align: right;\">\n",
       "      <th></th>\n",
       "      <th>project_title</th>\n",
       "      <th>lead_agency</th>\n",
       "      <th>project_description</th>\n",
       "      <th>total_project_cost</th>\n",
       "      <th>total_available_funds</th>\n",
       "      <th>phase</th>\n",
       "      <th>post_mile</th>\n",
       "      <th>county</th>\n",
       "      <th>city</th>\n",
       "      <th>ct_district</th>\n",
       "      <th>project_start_year</th>\n",
       "      <th>project_completion_year</th>\n",
       "      <th>geometry</th>\n",
       "      <th>grant_program</th>\n",
       "      <th>source</th>\n",
       "      <th>notes</th>\n",
       "      <th>funding_notes</th>\n",
       "    </tr>\n",
       "  </thead>\n",
       "  <tbody>\n",
       "    <tr>\n",
       "      <th>649</th>\n",
       "      <td>Implement parking pricing pilot programs in Residential Preferential Permit (RPP) areas adjacent to</td>\n",
       "      <td>Berkeley</td>\n",
       "      <td>(work description continued) ...existing Southside/telegraph and Elmwood goBerkeely areas, including comprehensive data collection using existing Automated License Plate Recognition system, extensive public outreach, introduction of a pay-by-phone payment system, and upgrades to existing parking signage. Implement targeted TDM strategies in pilot areas, including  education/outreach and transit and biking incentives, focused on employees and residents in and around pilot areas.</td>\n",
       "      <td>0.00</td>\n",
       "      <td>0.00</td>\n",
       "      <td>Under Construction</td>\n",
       "      <td>None</td>\n",
       "      <td>Alameda County</td>\n",
       "      <td>None</td>\n",
       "      <td>None</td>\n",
       "      <td>None</td>\n",
       "      <td>None</td>\n",
       "      <td>None</td>\n",
       "      <td>Local Assistance</td>\n",
       "      <td>LP2000</td>\n",
       "      <td>location name: Residential areas adjacent to Southside/Telegraph and Elmwood go Berkeley areas.,  route name: 0-BER,  state hwy ind: N,  senate district code: nan,  work type desc: nan,  category desc: Miscellaneous - Other,  district code: 4.0,  postmile combined: nan</td>\n",
       "      <td></td>\n",
       "    </tr>\n",
       "    <tr>\n",
       "      <th>6744</th>\n",
       "      <td>None</td>\n",
       "      <td>San Clemente</td>\n",
       "      <td>Road Related - Other</td>\n",
       "      <td>0.00</td>\n",
       "      <td>0.00</td>\n",
       "      <td>Under Construction</td>\n",
       "      <td>None</td>\n",
       "      <td>Orange County</td>\n",
       "      <td>None</td>\n",
       "      <td>None</td>\n",
       "      <td>None</td>\n",
       "      <td>None</td>\n",
       "      <td>None</td>\n",
       "      <td>None</td>\n",
       "      <td>LP2000</td>\n",
       "      <td>location name: REUSE THIS PROJECT NO.,  route name: 0-SCLE,  state hwy ind: N,  senate district code: nan,  work type desc: Safety,  category desc: Road Related - Other,  district code: 12.0,  postmile combined: nan</td>\n",
       "      <td></td>\n",
       "    </tr>\n",
       "  </tbody>\n",
       "</table>\n",
       "</div>"
      ],
      "text/plain": [
       "                                                                                            project_title  \\\n",
       "649   Implement parking pricing pilot programs in Residential Preferential Permit (RPP) areas adjacent to   \n",
       "6744                                                                                                 None   \n",
       "\n",
       "       lead_agency  \\\n",
       "649       Berkeley   \n",
       "6744  San Clemente   \n",
       "\n",
       "                                                                                                                                                                                                                                                                                                                                                                                                                                                                                     project_description  \\\n",
       "649   (work description continued) ...existing Southside/telegraph and Elmwood goBerkeely areas, including comprehensive data collection using existing Automated License Plate Recognition system, extensive public outreach, introduction of a pay-by-phone payment system, and upgrades to existing parking signage. Implement targeted TDM strategies in pilot areas, including  education/outreach and transit and biking incentives, focused on employees and residents in and around pilot areas.   \n",
       "6744                                                                                                                                                                                                                                                                                                                                                                                                                                                                                Road Related - Other   \n",
       "\n",
       "      total_project_cost  total_available_funds               phase post_mile  \\\n",
       "649                 0.00                   0.00  Under Construction      None   \n",
       "6744                0.00                   0.00  Under Construction      None   \n",
       "\n",
       "              county  city ct_district project_start_year  \\\n",
       "649   Alameda County  None        None               None   \n",
       "6744   Orange County  None        None               None   \n",
       "\n",
       "     project_completion_year geometry     grant_program  source  \\\n",
       "649                     None     None  Local Assistance  LP2000   \n",
       "6744                    None     None              None  LP2000   \n",
       "\n",
       "                                                                                                                                                                                                                                                                               notes  \\\n",
       "649    location name: Residential areas adjacent to Southside/Telegraph and Elmwood go Berkeley areas.,  route name: 0-BER,  state hwy ind: N,  senate district code: nan,  work type desc: nan,  category desc: Miscellaneous - Other,  district code: 4.0,  postmile combined: nan   \n",
       "6744                                                         location name: REUSE THIS PROJECT NO.,  route name: 0-SCLE,  state hwy ind: N,  senate district code: nan,  work type desc: Safety,  category desc: Road Related - Other,  district code: 12.0,  postmile combined: nan   \n",
       "\n",
       "     funding_notes  \n",
       "649                 \n",
       "6744                "
      ]
     },
     "execution_count": 38,
     "metadata": {},
     "output_type": "execute_result"
    }
   ],
   "source": [
    "lp2000_df_harmonized.sample(2)"
   ]
  }
 ],
 "metadata": {
  "kernelspec": {
   "display_name": "Python 3 (ipykernel)",
   "language": "python",
   "name": "python3"
  },
  "language_info": {
   "codemirror_mode": {
    "name": "ipython",
    "version": 3
   },
   "file_extension": ".py",
   "mimetype": "text/x-python",
   "name": "python",
   "nbconvert_exporter": "python",
   "pygments_lexer": "ipython3",
   "version": "3.9.13"
  }
 },
 "nbformat": 4,
 "nbformat_minor": 5
}
