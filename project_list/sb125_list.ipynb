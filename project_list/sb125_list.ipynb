{
 "cells": [
  {
   "cell_type": "markdown",
   "id": "71a4e0ce-09a1-4369-9953-ca9630ee653b",
   "metadata": {},
   "source": [
    "## https://github.com/cal-itp/data-analyses/issues/890"
   ]
  },
  {
   "cell_type": "code",
   "execution_count": 1,
   "id": "0846f21e-ec73-4371-a795-d90c2337416d",
   "metadata": {},
   "outputs": [],
   "source": [
    "import _harmonization_utils as har_utils\n",
    "import _lrtp_utils as lrtp_utils\n",
    "import _sb1_utils as sb1_utils\n",
    "import _specific_list_utils\n",
    "import _state_rail_plan_utils as srp_utils\n",
    "import geopandas as gpd\n",
    "import pandas as pd\n",
    "from calitp_data_analysis import utils\n",
    "from calitp_data_analysis.sql import to_snakecase\n"
   ]
  },
  {
   "cell_type": "code",
   "execution_count": 2,
   "id": "2fc7da2e-d0a5-4f1e-ac73-297936d05f71",
   "metadata": {},
   "outputs": [],
   "source": [
    "pd.options.display.max_columns = 100\n",
    "pd.options.display.float_format = \"{:.2f}\".format\n",
    "pd.set_option(\"display.max_rows\", None)\n",
    "pd.set_option(\"display.max_colwidth\", None)"
   ]
  },
  {
   "cell_type": "code",
   "execution_count": 3,
   "id": "16dafdc5-a04e-4cc2-ab04-408dcb52b216",
   "metadata": {},
   "outputs": [],
   "source": [
    "GCS_FILE_PATH = \"gs://calitp-analytics-data/data-analyses/sb125/local_transit_list/\""
   ]
  },
  {
   "cell_type": "markdown",
   "id": "fa5790e0-fd8d-444a-a887-0be57a4e556d",
   "metadata": {
    "tags": []
   },
   "source": [
    "### Load Data\n",
    "* Need to include LP2000\n",
    "* Add in data source columns\n",
    "* Add in phase:\n",
    "    *  3 phases of projects: planned / partially funded / funded & under construction\n",
    "    * state rail plan (planned)\n",
    "    * LRTP (partially funded)\n",
    "    * LP2000, Black Cat, TIRCP (under construction)"
   ]
  },
  {
   "cell_type": "code",
   "execution_count": 4,
   "id": "1a35fe87-4210-432a-87d1-e47bf34e2c9c",
   "metadata": {},
   "outputs": [],
   "source": [
    "def load_lrtp():\n",
    "    lrtp_df, lrtp_gdf = lrtp_utils.all_mpo(True)\n",
    "    lrtp_df = lrtp_df.loc[lrtp_df.data_source != \"Lost\"].reset_index(drop=True)\n",
    "    lrtp_df[\"program_col\"] = \"None\"\n",
    "    lrtp_df[\"dds_phase\"] = \"Partially Funded\"\n",
    "    return lrtp_df"
   ]
  },
  {
   "cell_type": "code",
   "execution_count": 5,
   "id": "244adf42-c641-4c00-85ab-b27b843ce5ed",
   "metadata": {},
   "outputs": [
    {
     "name": "stderr",
     "output_type": "stream",
     "text": [
      "/home/jovyan/data-analyses/project_list/_lrtp_utils.py:66: UserWarning: This pattern is interpreted as a regular expression, and has match groups. To actually get the groups, use str.extract.\n",
      "  cost_columns = df.columns[df.columns.str.contains(\"(cost|funds)\")].tolist()\n",
      "/home/jovyan/data-analyses/project_list/_lrtp_utils.py:66: UserWarning: This pattern is interpreted as a regular expression, and has match groups. To actually get the groups, use str.extract.\n",
      "  cost_columns = df.columns[df.columns.str.contains(\"(cost|funds)\")].tolist()\n",
      "/home/jovyan/data-analyses/project_list/_lrtp_utils.py:66: UserWarning: This pattern is interpreted as a regular expression, and has match groups. To actually get the groups, use str.extract.\n",
      "  cost_columns = df.columns[df.columns.str.contains(\"(cost|funds)\")].tolist()\n",
      "/home/jovyan/data-analyses/project_list/_lrtp_utils.py:66: UserWarning: This pattern is interpreted as a regular expression, and has match groups. To actually get the groups, use str.extract.\n",
      "  cost_columns = df.columns[df.columns.str.contains(\"(cost|funds)\")].tolist()\n",
      "/home/jovyan/data-analyses/project_list/_lrtp_utils.py:66: UserWarning: This pattern is interpreted as a regular expression, and has match groups. To actually get the groups, use str.extract.\n",
      "  cost_columns = df.columns[df.columns.str.contains(\"(cost|funds)\")].tolist()\n",
      "/home/jovyan/data-analyses/project_list/_lrtp_utils.py:66: UserWarning: This pattern is interpreted as a regular expression, and has match groups. To actually get the groups, use str.extract.\n",
      "  cost_columns = df.columns[df.columns.str.contains(\"(cost|funds)\")].tolist()\n",
      "/home/jovyan/data-analyses/project_list/_lrtp_utils.py:66: UserWarning: This pattern is interpreted as a regular expression, and has match groups. To actually get the groups, use str.extract.\n",
      "  cost_columns = df.columns[df.columns.str.contains(\"(cost|funds)\")].tolist()\n",
      "/home/jovyan/data-analyses/project_list/_lrtp_utils.py:66: UserWarning: This pattern is interpreted as a regular expression, and has match groups. To actually get the groups, use str.extract.\n",
      "  cost_columns = df.columns[df.columns.str.contains(\"(cost|funds)\")].tolist()\n"
     ]
    },
    {
     "name": "stdout",
     "output_type": "stream",
     "text": [
      "96 rows are headers\n"
     ]
    },
    {
     "name": "stderr",
     "output_type": "stream",
     "text": [
      "/home/jovyan/data-analyses/project_list/_lrtp_utils.py:66: UserWarning: This pattern is interpreted as a regular expression, and has match groups. To actually get the groups, use str.extract.\n",
      "  cost_columns = df.columns[df.columns.str.contains(\"(cost|funds)\")].tolist()\n",
      "/home/jovyan/data-analyses/project_list/_lrtp_utils.py:720: FutureWarning: The default value of regex will change from True to False in a future version. In addition, single character regular expressions will *not* be treated as literal strings when regex=True.\n",
      "  sandag.cost2020m.str.replace(\"$\", \"\")\n",
      "/home/jovyan/data-analyses/project_list/_lrtp_utils.py:66: UserWarning: This pattern is interpreted as a regular expression, and has match groups. To actually get the groups, use str.extract.\n",
      "  cost_columns = df.columns[df.columns.str.contains(\"(cost|funds)\")].tolist()\n"
     ]
    },
    {
     "name": "stdout",
     "output_type": "stream",
     "text": [
      "65 rows are headers\n"
     ]
    },
    {
     "name": "stderr",
     "output_type": "stream",
     "text": [
      "/home/jovyan/data-analyses/project_list/_lrtp_utils.py:66: UserWarning: This pattern is interpreted as a regular expression, and has match groups. To actually get the groups, use str.extract.\n",
      "  cost_columns = df.columns[df.columns.str.contains(\"(cost|funds)\")].tolist()\n",
      "/home/jovyan/data-analyses/project_list/_lrtp_utils.py:66: UserWarning: This pattern is interpreted as a regular expression, and has match groups. To actually get the groups, use str.extract.\n",
      "  cost_columns = df.columns[df.columns.str.contains(\"(cost|funds)\")].tolist()\n",
      "/home/jovyan/data-analyses/project_list/_lrtp_utils.py:66: UserWarning: This pattern is interpreted as a regular expression, and has match groups. To actually get the groups, use str.extract.\n",
      "  cost_columns = df.columns[df.columns.str.contains(\"(cost|funds)\")].tolist()\n"
     ]
    },
    {
     "name": "stdout",
     "output_type": "stream",
     "text": [
      "360 rows are headers\n"
     ]
    },
    {
     "name": "stderr",
     "output_type": "stream",
     "text": [
      "/home/jovyan/data-analyses/project_list/_lrtp_utils.py:66: UserWarning: This pattern is interpreted as a regular expression, and has match groups. To actually get the groups, use str.extract.\n",
      "  cost_columns = df.columns[df.columns.str.contains(\"(cost|funds)\")].tolist()\n",
      "/home/jovyan/data-analyses/project_list/_lrtp_utils.py:66: UserWarning: This pattern is interpreted as a regular expression, and has match groups. To actually get the groups, use str.extract.\n",
      "  cost_columns = df.columns[df.columns.str.contains(\"(cost|funds)\")].tolist()\n"
     ]
    },
    {
     "name": "stdout",
     "output_type": "stream",
     "text": [
      "68 rows are headers\n"
     ]
    },
    {
     "name": "stderr",
     "output_type": "stream",
     "text": [
      "/home/jovyan/data-analyses/project_list/_lrtp_utils.py:66: UserWarning: This pattern is interpreted as a regular expression, and has match groups. To actually get the groups, use str.extract.\n",
      "  cost_columns = df.columns[df.columns.str.contains(\"(cost|funds)\")].tolist()\n",
      "/home/jovyan/data-analyses/project_list/_lrtp_utils.py:66: UserWarning: This pattern is interpreted as a regular expression, and has match groups. To actually get the groups, use str.extract.\n",
      "  cost_columns = df.columns[df.columns.str.contains(\"(cost|funds)\")].tolist()\n",
      "/home/jovyan/data-analyses/project_list/_lrtp_utils.py:66: UserWarning: This pattern is interpreted as a regular expression, and has match groups. To actually get the groups, use str.extract.\n",
      "  cost_columns = df.columns[df.columns.str.contains(\"(cost|funds)\")].tolist()\n",
      "/home/jovyan/data-analyses/project_list/_lrtp_utils.py:66: UserWarning: This pattern is interpreted as a regular expression, and has match groups. To actually get the groups, use str.extract.\n",
      "  cost_columns = df.columns[df.columns.str.contains(\"(cost|funds)\")].tolist()\n"
     ]
    }
   ],
   "source": [
    "lrtp_df = load_lrtp()"
   ]
  },
  {
   "cell_type": "code",
   "execution_count": 6,
   "id": "6e19fdfe-f080-42d1-95e2-32194ae30fe7",
   "metadata": {},
   "outputs": [],
   "source": [
    "def load_srp():\n",
    "    df = srp_utils.clean_state_rail_plan(srp_utils.state_rail_plan_file)\n",
    "    df[\"source\"] = \"State Rail Plan\"\n",
    "    df[\"program\"] = \"State Rail Plan\"\n",
    "    df[\"dds_phase\"] = \"Planned\"\n",
    "    return df"
   ]
  },
  {
   "cell_type": "code",
   "execution_count": 7,
   "id": "d869746c-6051-4ed2-bf2c-6228c7289b27",
   "metadata": {},
   "outputs": [],
   "source": [
    "srp_df = load_srp()"
   ]
  },
  {
   "cell_type": "markdown",
   "id": "d0db5626-00a2-40f3-bcd0-3657667a33ea",
   "metadata": {},
   "source": [
    "#### Sb1: Which col represents total project cost? cost, totalcosts, costfull\n",
    "* Also filter out for ONLY TIRCP projects?"
   ]
  },
  {
   "cell_type": "code",
   "execution_count": 8,
   "id": "1af45f91-0c76-4753-80b8-04e836ab487f",
   "metadata": {},
   "outputs": [],
   "source": [
    "def load_sb1():\n",
    "    # Only includes in progress/incomplete projects\n",
    "    df = sb1_utils.load_sb1()\n",
    "    df[\"source\"] = \"SB1 Feature Server\"\n",
    "    df[\"dds_phase\"] = \"Under Construction\"\n",
    "    df = df.loc[\n",
    "        df.projprogram == \"Transit And Intercity Rail Capital Program\"\n",
    "    ].reset_index(drop=True)\n",
    "    return df"
   ]
  },
  {
   "cell_type": "code",
   "execution_count": 9,
   "id": "92039992-3b23-4610-b795-1804dee2806b",
   "metadata": {},
   "outputs": [
    {
     "name": "stderr",
     "output_type": "stream",
     "text": [
      "/home/jovyan/data-analyses/project_list/_sb1_utils.py:23: FutureWarning: The default value of regex will change from True to False in a future version. In addition, single character regular expressions will *not* be treated as literal strings when regex=True.\n",
      "  gdf[i]\n",
      "/home/jovyan/data-analyses/project_list/_sb1_utils.py:23: FutureWarning: The default value of regex will change from True to False in a future version.\n",
      "  gdf[i]\n"
     ]
    },
    {
     "name": "stdout",
     "output_type": "stream",
     "text": [
      "0 rows are mising geometry\n",
      "7917 rows contain invalid geography\n"
     ]
    }
   ],
   "source": [
    "sb1_df = load_sb1()"
   ]
  },
  {
   "cell_type": "code",
   "execution_count": 10,
   "id": "47867edf-066d-45f0-825f-f2ab33075e20",
   "metadata": {},
   "outputs": [
    {
     "data": {
      "text/plain": [
       "Transit And Intercity Rail Capital Program    60\n",
       "Name: projprogram, dtype: int64"
      ]
     },
     "execution_count": 10,
     "metadata": {},
     "output_type": "execute_result"
    }
   ],
   "source": [
    "sb1_df.projprogram.value_counts()"
   ]
  },
  {
   "cell_type": "markdown",
   "id": "01a9b959-4980-4f01-a846-d2ee187483e7",
   "metadata": {},
   "source": [
    "#### Blackcat: Ask what grant_encumbered_amount,local_encumbered_amount,total_encumbered_amount,activebalance mean?"
   ]
  },
  {
   "cell_type": "code",
   "execution_count": 11,
   "id": "1725c8ef-4f4a-4853-a0da-e522d2c66b8d",
   "metadata": {},
   "outputs": [],
   "source": [
    "def load_blackcat(file: str) -> pd.DataFrame:\n",
    "    df = to_snakecase(pd.read_excel(f\"{GCS_FILE_PATH}{file}\"))\n",
    "    df[\"data_source\"] = \"Blackcat\"\n",
    "    df[\"dds_phase\"] = \"Under Construction\"\n",
    "    return df"
   ]
  },
  {
   "cell_type": "code",
   "execution_count": 12,
   "id": "1d61aabb-01c4-4dce-adc4-58fb8f34663a",
   "metadata": {},
   "outputs": [],
   "source": [
    "blackcat_df = load_blackcat(\"Grant+Projects_1_17_2024.xlsx\")"
   ]
  },
  {
   "cell_type": "code",
   "execution_count": 13,
   "id": "c730a842-c9ff-42f4-a6b6-486448990623",
   "metadata": {},
   "outputs": [
    {
     "data": {
      "text/html": [
       "<div>\n",
       "<style scoped>\n",
       "    .dataframe tbody tr th:only-of-type {\n",
       "        vertical-align: middle;\n",
       "    }\n",
       "\n",
       "    .dataframe tbody tr th {\n",
       "        vertical-align: top;\n",
       "    }\n",
       "\n",
       "    .dataframe thead th {\n",
       "        text-align: right;\n",
       "    }\n",
       "</style>\n",
       "<table border=\"1\" class=\"dataframe\">\n",
       "  <thead>\n",
       "    <tr style=\"text-align: right;\">\n",
       "      <th></th>\n",
       "      <th>grant_fiscal_year</th>\n",
       "      <th>funding_program</th>\n",
       "      <th>grant_number</th>\n",
       "      <th>project_year</th>\n",
       "      <th>organization_name</th>\n",
       "      <th>upin</th>\n",
       "      <th>description</th>\n",
       "      <th>ali</th>\n",
       "      <th>contract_number</th>\n",
       "      <th>allocationamount</th>\n",
       "      <th>grant_encumbered_amount</th>\n",
       "      <th>local_encumbered_amount</th>\n",
       "      <th>total_encumbered_amount</th>\n",
       "      <th>expendedamount</th>\n",
       "      <th>activebalance</th>\n",
       "      <th>closedoutbalance</th>\n",
       "      <th>project_status</th>\n",
       "      <th>project_closed_by</th>\n",
       "      <th>project_closed_date</th>\n",
       "      <th>project_closed_time</th>\n",
       "      <th>data_source</th>\n",
       "      <th>dds_phase</th>\n",
       "    </tr>\n",
       "  </thead>\n",
       "  <tbody>\n",
       "    <tr>\n",
       "      <th>0</th>\n",
       "      <td>2011</td>\n",
       "      <td>Section 5311</td>\n",
       "      <td>CA-18-X047 | 0012000083</td>\n",
       "      <td>2016</td>\n",
       "      <td>City of Chowchilla</td>\n",
       "      <td>BCG0000228</td>\n",
       "      <td>Operating Assistance</td>\n",
       "      <td>300902</td>\n",
       "      <td>64BO17-00368</td>\n",
       "      <td>53221.00</td>\n",
       "      <td>114511.00</td>\n",
       "      <td>211651.00</td>\n",
       "      <td>326162.00</td>\n",
       "      <td>53221.00</td>\n",
       "      <td>0.00</td>\n",
       "      <td>0</td>\n",
       "      <td>Open</td>\n",
       "      <td>NaN</td>\n",
       "      <td>NaN</td>\n",
       "      <td>NaN</td>\n",
       "      <td>Blackcat</td>\n",
       "      <td>Under Construction</td>\n",
       "    </tr>\n",
       "    <tr>\n",
       "      <th>1</th>\n",
       "      <td>2011</td>\n",
       "      <td>Section 5311</td>\n",
       "      <td>CA-18-X047 | 0012000083</td>\n",
       "      <td>2016</td>\n",
       "      <td>Madera County</td>\n",
       "      <td>BCG0000283</td>\n",
       "      <td>Buy &lt;30-Ft Bus For Expansion</td>\n",
       "      <td>111304</td>\n",
       "      <td>64BC17-00408</td>\n",
       "      <td>110663.00</td>\n",
       "      <td>110663.00</td>\n",
       "      <td>14337.00</td>\n",
       "      <td>125000.00</td>\n",
       "      <td>101352.02</td>\n",
       "      <td>9310.98</td>\n",
       "      <td>0</td>\n",
       "      <td>Open</td>\n",
       "      <td>NaN</td>\n",
       "      <td>NaN</td>\n",
       "      <td>NaN</td>\n",
       "      <td>Blackcat</td>\n",
       "      <td>Under Construction</td>\n",
       "    </tr>\n",
       "  </tbody>\n",
       "</table>\n",
       "</div>"
      ],
      "text/plain": [
       "   grant_fiscal_year funding_program             grant_number  project_year  \\\n",
       "0               2011    Section 5311  CA-18-X047 | 0012000083          2016   \n",
       "1               2011    Section 5311  CA-18-X047 | 0012000083          2016   \n",
       "\n",
       "     organization_name        upin                   description     ali  \\\n",
       "0  City of Chowchilla   BCG0000228          Operating Assistance  300902   \n",
       "1        Madera County  BCG0000283  Buy <30-Ft Bus For Expansion  111304   \n",
       "\n",
       "  contract_number  allocationamount  grant_encumbered_amount  \\\n",
       "0    64BO17-00368          53221.00                114511.00   \n",
       "1    64BC17-00408         110663.00                110663.00   \n",
       "\n",
       "   local_encumbered_amount  total_encumbered_amount  expendedamount  \\\n",
       "0                211651.00                326162.00        53221.00   \n",
       "1                 14337.00                125000.00       101352.02   \n",
       "\n",
       "   activebalance  closedoutbalance project_status  project_closed_by  \\\n",
       "0           0.00                 0           Open                NaN   \n",
       "1        9310.98                 0           Open                NaN   \n",
       "\n",
       "   project_closed_date  project_closed_time data_source           dds_phase  \n",
       "0                  NaN                  NaN    Blackcat  Under Construction  \n",
       "1                  NaN                  NaN    Blackcat  Under Construction  "
      ]
     },
     "execution_count": 13,
     "metadata": {},
     "output_type": "execute_result"
    }
   ],
   "source": [
    "blackcat_df.head(2)"
   ]
  },
  {
   "cell_type": "code",
   "execution_count": 14,
   "id": "fa78dddc-c348-4ace-b04a-711adcc0c489",
   "metadata": {},
   "outputs": [],
   "source": [
    "def aggregate_to_one_line(\n",
    "    df: pd.DataFrame, column_to_group: str, column_to_summarize: str\n",
    "):\n",
    "    \"\"\"\n",
    "    Aggregate all values onto one line by one goruping val.\n",
    "    Ex: project ABC has two rows because it has two values for the \"fund column\"\n",
    "    as it receives money from fund 1 and fund 2. This function will\n",
    "    combine fund 1 and fund 2 to fund 1, fund2 into one row.\n",
    "    \"\"\"\n",
    "    df[f\"new_{column_to_summarize}\"] = df.groupby(column_to_group)[\n",
    "        column_to_summarize\n",
    "    ].transform(lambda x: \",\".join(x))\n",
    "    df2 = df[[f\"new_{column_to_summarize}\", column_to_group]]\n",
    "    df2 = df2.drop_duplicates(subset=column_to_group).reset_index(drop=True)\n",
    "    df2 = df2.rename(columns={f\"new_{column_to_summarize}\": column_to_summarize})\n",
    "    return df2"
   ]
  },
  {
   "cell_type": "code",
   "execution_count": 17,
   "id": "84638089-3c86-46fa-9911-5ac18991de5d",
   "metadata": {},
   "outputs": [],
   "source": [
    "def load_lp2000(file: str):\n",
    "    LP2000_PATH =  \"gs://calitp-analytics-data/data-analyses/project_list/LP2000_CTIPS/\"\n",
    "    df_project = to_snakecase(\n",
    "        pd.read_excel(f\"{LP2000_PATH}{file}\", sheet_name=\"project\")\n",
    "    )\n",
    "\n",
    "    df_county = to_snakecase(\n",
    "        pd.read_excel(f\"{LP2000_PATH}{file}\", sheet_name=\"county\")\n",
    "    ).drop(columns=[\"project_label_name\"])\n",
    "\n",
    "    df_district = to_snakecase(\n",
    "        pd.read_excel(f\"{LP2000_PATH}{file}\", sheet_name=\"district\")\n",
    "    ).drop(columns=[\"project_label_name\"])\n",
    "\n",
    "    df_award = to_snakecase(\n",
    "        pd.read_excel(f\"{LP2000_PATH}{file}\", sheet_name=\"awards\")\n",
    "    )\n",
    "\n",
    "    # Clean up awards so if project has multiple entries, this is all\n",
    "    # on one line instead of mulitple lines\n",
    "    df_award2 = aggregate_to_one_line(df_award, \"project_id\", \"grant_program\")\n",
    "\n",
    "    # Merge\n",
    "    lp2000_df = (\n",
    "        pd.merge(df_project, df_county, on=\"project_id\", how=\"left\")\n",
    "        .merge(df_district, on=\"project_id\", how=\"left\")\n",
    "        .merge(df_award2, on=\"project_id\", how=\"left\")\n",
    "    )\n",
    "\n",
    "    # Create\n",
    "    lp2000_df[\"postmile_combined\"] = (\n",
    "        \"begin: \"\n",
    "        + lp2000_df.revised_post_mile_begin_ind\n",
    "        + \"end: \"\n",
    "        + lp2000_df.revised_post_mile_end_ind\n",
    "    )\n",
    "    lp2000_df_to_keep = [\n",
    "        \"comment_desc\",\n",
    "        \"est_total_prj_costs\",\n",
    "        \"location_name\",\n",
    "        \"route_name\",\n",
    "        \"state_hwy_ind\",\n",
    "        \"senate_district_code\",\n",
    "        \"update_date_time\",\n",
    "        \"agency_name\",\n",
    "        \"urban_area_code\",\n",
    "        \"work_type_desc\",\n",
    "        \"category_desc\",\n",
    "        \"current_phase\",\n",
    "        \"county_name\",\n",
    "        \"project_label_name\",\n",
    "        \"district_code\",\n",
    "        \"grant_program\",\n",
    "        \"postmile_combined\",\n",
    "    ]\n",
    "    lp2000_df = lp2000_df[lp2000_df_to_keep]\n",
    "    lp2000_df[\"dds_phase\"] = \"Under Construction\"\n",
    "    lp2000_df[\"source\"] = \"LP2000\"\n",
    "    return lp2000_df"
   ]
  },
  {
   "cell_type": "code",
   "execution_count": 19,
   "id": "80a62aa6-79df-411c-b87f-c18cefa37af4",
   "metadata": {},
   "outputs": [],
   "source": [
    "lp2000_df = load_lp2000(\"LP2000_projects.xlsx\")"
   ]
  },
  {
   "cell_type": "markdown",
   "id": "64174dbe-918e-424c-9cc3-b1502bd24e2a",
   "metadata": {},
   "source": [
    "### Harmonize it"
   ]
  },
  {
   "cell_type": "code",
   "execution_count": 20,
   "id": "8192764f-6b2c-41e6-892e-0b3debace384",
   "metadata": {},
   "outputs": [],
   "source": [
    "def create_notes(df, note_cols: list, new_col_name: str):\n",
    "    \"\"\"\n",
    "    Concat multiple columns into one.\n",
    "    \"\"\"\n",
    "    prefix = \"_\"\n",
    "    for column in note_cols:\n",
    "        df[f\"{prefix}{column}\"] = df[column].astype(str)\n",
    "    note_cols = [prefix + sub for sub in note_cols]\n",
    "\n",
    "    # https://stackoverflow.com/questions/65532480/how-to-combine-column-names-and-values\n",
    "    def combine_notes(x):\n",
    "        return \", \".join([col + \": \" + x[col] for col in note_cols])\n",
    "\n",
    "    df[new_col_name] = df.apply(combine_notes, axis=1)\n",
    "    df[new_col_name] = df[new_col_name].str.replace(\"_\", \" \")\n",
    "    df[new_col_name] = df[new_col_name].fillna(\"None\")\n",
    "    return df"
   ]
  },
  {
   "cell_type": "code",
   "execution_count": 21,
   "id": "d11cb637-71b5-4dde-81cd-84dae5f79ff4",
   "metadata": {},
   "outputs": [],
   "source": [
    "def harmonizing(\n",
    "    df,\n",
    "    agency_name_col: str,\n",
    "    project_name_col: str,\n",
    "    project_description_col: str,\n",
    "    phase_col: str,\n",
    "    project_cost_col: str,\n",
    "    geography_col: str,\n",
    "    post_mile_col: str,\n",
    "    county_col: str,\n",
    "    city_col: str,\n",
    "    district_col: str,\n",
    "    project_start_year_col: str,\n",
    "    project_completion_year_col: str,\n",
    "    program_col: str,\n",
    "    data_source: str,\n",
    "    fund_cols: list,\n",
    "    notes_cols: list,\n",
    "):\n",
    "    \"\"\"\n",
    "    Take a dataset and change the column names/types to\n",
    "    default names and formats.\n",
    "    \"\"\"\n",
    "    rename_columns = {\n",
    "        agency_name_col: \"lead_agency\",\n",
    "        project_name_col: \"project_title\",\n",
    "        project_description_col: \"project_description\",\n",
    "        project_cost_col: \"total_project_cost\",\n",
    "        geography_col: \"geometry\",\n",
    "        phase_col: \"phase\",\n",
    "        post_mile_col: \"post_mile\",\n",
    "        county_col: \"county\",\n",
    "        city_col: \"city\",\n",
    "        district_col: \"ct_district\",\n",
    "        project_start_year_col: \"project_start_year\",\n",
    "        project_completion_year_col: \"project_completion_year\",\n",
    "        program_col: \"grant_program\",\n",
    "        data_source: \"source\",\n",
    "    }\n",
    "    # Rename columns\n",
    "    df = df.rename(columns=rename_columns)\n",
    "\n",
    "    # Create columns even if they don't exist, just to harmonize\n",
    "    # before concatting.\n",
    "    create_columns = [\n",
    "        \"county\",\n",
    "        \"city\",\n",
    "        \"notes\",\n",
    "        \"project_start_year\",\n",
    "        \"project_completion_year\",\n",
    "        \"post_mile\",\n",
    "        \"phase\",\n",
    "        \"project_title\",\n",
    "        \"ct_district\",\n",
    "    ]\n",
    "    for column in create_columns:\n",
    "        if column not in df:\n",
    "            df[column] = \"None\"\n",
    "    if \"geometry\" not in df:\n",
    "        df[\"geometry\"] = None\n",
    "    if \"grant_program\" not in df:\n",
    "        df[\"grant_program\"] = data_source\n",
    "    if \"total_project_cost\" not in df:\n",
    "        df[\"total_project_cost\"] = 0\n",
    "\n",
    "    # Clean up monetary columns to be interger\n",
    "    cost_columns = df.columns[df.columns.str.contains(\"(cost|funds)\")].tolist()\n",
    "    for i in cost_columns:\n",
    "        df[i] = df[i].apply(pd.to_numeric, errors=\"coerce\").fillna(0)\n",
    "\n",
    "    # Add new column with funding breakout\n",
    "    # Since it's summarized above and the details are suppressed.\n",
    "    df[\"total_available_funds\"] = df[fund_cols].sum(axis=1)\n",
    "    df = create_notes(df, fund_cols, \"funding_notes\")\n",
    "\n",
    "    # Create notes - aka other columns that were supressed\n",
    "    df = create_notes(df, notes_cols, \"notes\")\n",
    "\n",
    "    # Fill in nones\n",
    "    geometry_column = \"geometry\"\n",
    "\n",
    "    # Create a dictionary to specify replacement values for each data type\n",
    "    replacement_values = {\"float64\": 0.0, \"object\": \"None\"}\n",
    "\n",
    "    # Exclude the geometry column from the fillna operation\n",
    "    columns_to_fill = [col for col in df.columns if col != geometry_column]\n",
    "\n",
    "    # Fill null values in selected columns\n",
    "    df[columns_to_fill] = df[columns_to_fill].fillna(\n",
    "        df.dtypes.replace(replacement_values)\n",
    "    )\n",
    "\n",
    "    columns_to_keep = [\n",
    "        \"project_title\",\n",
    "        \"lead_agency\",\n",
    "        \"project_description\",\n",
    "        \"total_project_cost\",\n",
    "        \"total_available_funds\",\n",
    "        \"phase\",\n",
    "        \"post_mile\",\n",
    "        \"county\",\n",
    "        \"city\",\n",
    "        \"ct_district\",\n",
    "        \"project_start_year\",\n",
    "        \"project_completion_year\",\n",
    "        \"geometry\",\n",
    "        \"grant_program\",\n",
    "        \"source\",\n",
    "        \"notes\",\n",
    "        \"funding_notes\",\n",
    "    ]\n",
    "\n",
    "    # Only keep certain columns\n",
    "    df = df[columns_to_keep]\n",
    "    return df"
   ]
  },
  {
   "cell_type": "code",
   "execution_count": 22,
   "id": "ef2297c5-825c-49be-a892-3081052516c4",
   "metadata": {},
   "outputs": [
    {
     "name": "stderr",
     "output_type": "stream",
     "text": [
      "/tmp/ipykernel_224/4025938624.py:67: UserWarning: This pattern is interpreted as a regular expression, and has match groups. To actually get the groups, use str.extract.\n",
      "  cost_columns = df.columns[df.columns.str.contains(\"(cost|funds)\")].tolist()\n"
     ]
    }
   ],
   "source": [
    "lrtp_df_harmonized = harmonizing(\n",
    "    df=lrtp_df,\n",
    "    agency_name_col=\"lead_agency\",\n",
    "    project_name_col=\"project_title\",\n",
    "    project_description_col=\"project_description\",\n",
    "    phase_col=\"dds_phase\",\n",
    "    project_cost_col=\"total_project_cost\",\n",
    "    geography_col=\"geometry\",\n",
    "    post_mile_col=\"\",\n",
    "    county_col=\"county\",\n",
    "    city_col=\"city\",\n",
    "    district_col=\"\",\n",
    "    project_start_year_col=\"\",\n",
    "    project_completion_year_col=\"\",\n",
    "    program_col=\"program_col\",\n",
    "    data_source=\"data_source\",\n",
    "    fund_cols=[],\n",
    "    notes_cols=[\"notes\"],\n",
    ")"
   ]
  },
  {
   "cell_type": "code",
   "execution_count": 23,
   "id": "eb25aa9a-92ad-4b95-bb62-6b3b0bca3495",
   "metadata": {},
   "outputs": [
    {
     "data": {
      "text/html": [
       "<div>\n",
       "<style scoped>\n",
       "    .dataframe tbody tr th:only-of-type {\n",
       "        vertical-align: middle;\n",
       "    }\n",
       "\n",
       "    .dataframe tbody tr th {\n",
       "        vertical-align: top;\n",
       "    }\n",
       "\n",
       "    .dataframe thead th {\n",
       "        text-align: right;\n",
       "    }\n",
       "</style>\n",
       "<table border=\"1\" class=\"dataframe\">\n",
       "  <thead>\n",
       "    <tr style=\"text-align: right;\">\n",
       "      <th></th>\n",
       "      <th>project_title</th>\n",
       "      <th>lead_agency</th>\n",
       "      <th>project_description</th>\n",
       "      <th>total_project_cost</th>\n",
       "      <th>total_available_funds</th>\n",
       "      <th>phase</th>\n",
       "      <th>post_mile</th>\n",
       "      <th>county</th>\n",
       "      <th>city</th>\n",
       "      <th>ct_district</th>\n",
       "      <th>project_start_year</th>\n",
       "      <th>project_completion_year</th>\n",
       "      <th>geometry</th>\n",
       "      <th>grant_program</th>\n",
       "      <th>source</th>\n",
       "      <th>notes</th>\n",
       "      <th>funding_notes</th>\n",
       "    </tr>\n",
       "  </thead>\n",
       "  <tbody>\n",
       "    <tr>\n",
       "      <th>11690</th>\n",
       "      <td>No Title</td>\n",
       "      <td>Scag</td>\n",
       "      <td>In Western Riverside County In The City Of Riverside - Spruce St Grade Separation: Grade Separate Existing Spruce St/Bnsf Rail Crossing By Constructing A 4-Ln (2 Lns In Ea Dir) Non-Capacity Enhancing Underpass On Spruce St Btwn Sr91 Eb Off Ramp And 800 Ft E/O Kansas St (Pa&amp;Ed Only).</td>\n",
       "      <td>1500000.00</td>\n",
       "      <td>0.00</td>\n",
       "      <td>Partially Funded</td>\n",
       "      <td>None</td>\n",
       "      <td>None</td>\n",
       "      <td>None</td>\n",
       "      <td>None</td>\n",
       "      <td>None</td>\n",
       "      <td>None</td>\n",
       "      <td>None</td>\n",
       "      <td>None</td>\n",
       "      <td>Scag Lrtp</td>\n",
       "      <td>notes: System: Local Highway,  Route #: 0,  Route Name: Nan,  From: Nan,  To: Nan</td>\n",
       "      <td></td>\n",
       "    </tr>\n",
       "  </tbody>\n",
       "</table>\n",
       "</div>"
      ],
      "text/plain": [
       "      project_title lead_agency  \\\n",
       "11690      No Title        Scag   \n",
       "\n",
       "                                                                                                                                                                                                                                                                               project_description  \\\n",
       "11690  In Western Riverside County In The City Of Riverside - Spruce St Grade Separation: Grade Separate Existing Spruce St/Bnsf Rail Crossing By Constructing A 4-Ln (2 Lns In Ea Dir) Non-Capacity Enhancing Underpass On Spruce St Btwn Sr91 Eb Off Ramp And 800 Ft E/O Kansas St (Pa&Ed Only).   \n",
       "\n",
       "       total_project_cost  total_available_funds             phase post_mile  \\\n",
       "11690          1500000.00                   0.00  Partially Funded      None   \n",
       "\n",
       "      county  city ct_district project_start_year project_completion_year  \\\n",
       "11690   None  None        None               None                    None   \n",
       "\n",
       "      geometry grant_program     source  \\\n",
       "11690     None          None  Scag Lrtp   \n",
       "\n",
       "                                                                                    notes  \\\n",
       "11690   notes: System: Local Highway,  Route #: 0,  Route Name: Nan,  From: Nan,  To: Nan   \n",
       "\n",
       "      funding_notes  \n",
       "11690                "
      ]
     },
     "execution_count": 23,
     "metadata": {},
     "output_type": "execute_result"
    }
   ],
   "source": [
    "lrtp_df_harmonized.sample()"
   ]
  },
  {
   "cell_type": "code",
   "execution_count": 24,
   "id": "d2d15a6b-9c44-4124-8d60-da74a9180c52",
   "metadata": {},
   "outputs": [
    {
     "name": "stderr",
     "output_type": "stream",
     "text": [
      "/tmp/ipykernel_224/4025938624.py:67: UserWarning: This pattern is interpreted as a regular expression, and has match groups. To actually get the groups, use str.extract.\n",
      "  cost_columns = df.columns[df.columns.str.contains(\"(cost|funds)\")].tolist()\n"
     ]
    }
   ],
   "source": [
    "blackcat_df_harmonized = harmonizing(\n",
    "    df=blackcat_df,\n",
    "    agency_name_col=\"organization_name\",\n",
    "    project_name_col=\"\",\n",
    "    project_description_col=\"description\",\n",
    "    phase_col=\"dds_phase\",\n",
    "    project_cost_col=\"\",\n",
    "    geography_col=\"\",\n",
    "    post_mile_col=\"\",\n",
    "    county_col=\"\",\n",
    "    city_col=\"\",\n",
    "    district_col=\"\",\n",
    "    project_start_year_col=\"project_year\",\n",
    "    project_completion_year_col=\"project_closed_date\",\n",
    "    program_col=\"funding_program\",\n",
    "    data_source=\"data_source\",\n",
    "    fund_cols=[\"allocationamount\"],\n",
    "    notes_cols=[\n",
    "        \"grant_fiscal_year\",\n",
    "        \"grant_encumbered_amount\",\n",
    "        \"local_encumbered_amount\",\n",
    "        \"total_encumbered_amount\",\n",
    "        \"expendedamount\",\n",
    "        \"activebalance\",\n",
    "        \"closedoutbalance\",\n",
    "        \"project_status\",\n",
    "    ],\n",
    ")"
   ]
  },
  {
   "cell_type": "code",
   "execution_count": 25,
   "id": "a7102189-3816-4423-9220-0dc340603b37",
   "metadata": {},
   "outputs": [
    {
     "name": "stderr",
     "output_type": "stream",
     "text": [
      "/tmp/ipykernel_224/4025938624.py:67: UserWarning: This pattern is interpreted as a regular expression, and has match groups. To actually get the groups, use str.extract.\n",
      "  cost_columns = df.columns[df.columns.str.contains(\"(cost|funds)\")].tolist()\n"
     ]
    }
   ],
   "source": [
    "sb1_df_harmonized = harmonizing(\n",
    "    df=sb1_df,\n",
    "    agency_name_col=\"projagency\",\n",
    "    project_name_col=\"projname\",\n",
    "    project_description_col=\"description\",\n",
    "    phase_col=\"dds_phase\",\n",
    "    project_cost_col=\"totalcosts\",\n",
    "    geography_col=\"geometry\",\n",
    "    post_mile_col=\"\",\n",
    "    county_col=\"countyname\",\n",
    "    city_col=\"cityname\",\n",
    "    district_col=\"\",\n",
    "    project_start_year_col=\"\",\n",
    "    project_completion_year_col=\"\",\n",
    "    program_col=\"projprogram\",\n",
    "    data_source=\"source\",\n",
    "    fund_cols=[],\n",
    "    notes_cols=[\n",
    "        \"projcategory\",\n",
    "        \"projprogcode\",\n",
    "        \"multiprogfunded\",\n",
    "        \"projstatus\",\n",
    "        \"cost\",\n",
    "        \"assemblydistrict\",\n",
    "        \"senatedistrict\",\n",
    "        \"assemblycode\",\n",
    "        \"senatecode\",\n",
    "        \"appagencyname\",\n",
    "        \"impagencyname\",\n",
    "        \"routes\",\n",
    "        \"constyear\",\n",
    "        \"costfull\",\n",
    "    ],\n",
    ")"
   ]
  },
  {
   "cell_type": "code",
   "execution_count": 26,
   "id": "5648d023-4b18-4d8c-a7d2-0a43bc105649",
   "metadata": {},
   "outputs": [
    {
     "data": {
      "text/plain": [
       "Transit And Intercity Rail Capital Program    60\n",
       "Name: grant_program, dtype: int64"
      ]
     },
     "execution_count": 26,
     "metadata": {},
     "output_type": "execute_result"
    }
   ],
   "source": [
    "sb1_df_harmonized.grant_program.value_counts()"
   ]
  },
  {
   "cell_type": "code",
   "execution_count": 27,
   "id": "a2d74753-0c1c-4a40-a5ed-761074112b13",
   "metadata": {},
   "outputs": [
    {
     "name": "stderr",
     "output_type": "stream",
     "text": [
      "/tmp/ipykernel_224/4025938624.py:67: UserWarning: This pattern is interpreted as a regular expression, and has match groups. To actually get the groups, use str.extract.\n",
      "  cost_columns = df.columns[df.columns.str.contains(\"(cost|funds)\")].tolist()\n"
     ]
    }
   ],
   "source": [
    "srp_df_harmonized = harmonizing(\n",
    "    df=srp_df,\n",
    "    agency_name_col=\"lead_agency\",\n",
    "    project_name_col=\"project_name\",\n",
    "    project_description_col=\"project_description\",\n",
    "    phase_col=\"\",\n",
    "    project_cost_col=\"total_project_cost\",\n",
    "    geography_col=\"\",\n",
    "    post_mile_col=\"\",\n",
    "    county_col=\"\",\n",
    "    city_col=\"\",\n",
    "    district_col=\"\",\n",
    "    project_start_year_col=\"\",\n",
    "    project_completion_year_col=\"\",\n",
    "    program_col=\"program\",\n",
    "    data_source=\"source\",\n",
    "    fund_cols=[],\n",
    "    notes_cols=[\n",
    "        \"project_time_horizon\",\n",
    "        \"srp_region\",\n",
    "        \"corridor\",\n",
    "        \"sub_corridor_node_1\",\n",
    "        \"sub_corridor_node_2\",\n",
    "        \"itsp_corridor\",\n",
    "        \"project_category\",\n",
    "    ],\n",
    ")"
   ]
  },
  {
   "cell_type": "code",
   "execution_count": 28,
   "id": "d588d001-9707-472f-a9bb-5dbf2cfd0d95",
   "metadata": {},
   "outputs": [
    {
     "name": "stderr",
     "output_type": "stream",
     "text": [
      "/tmp/ipykernel_224/4025938624.py:67: UserWarning: This pattern is interpreted as a regular expression, and has match groups. To actually get the groups, use str.extract.\n",
      "  cost_columns = df.columns[df.columns.str.contains(\"(cost|funds)\")].tolist()\n"
     ]
    }
   ],
   "source": [
    "lp2000_df_harmonized = harmonizing(\n",
    "    df=lp2000_df,\n",
    "    agency_name_col=\"agency_name\",\n",
    "    project_name_col=\"project_label_name\",\n",
    "    project_description_col=\"work_type_desc\",\n",
    "    phase_col=\"dds_phase\",\n",
    "    project_cost_col=\"est_total_prj_costs\",\n",
    "    geography_col=\"\",\n",
    "    post_mile_col=\"\",\n",
    "    county_col=\"county_name\",\n",
    "    city_col=\"\",\n",
    "    district_col=\"\",\n",
    "    project_start_year_col=\"\",\n",
    "    project_completion_year_col=\"\",\n",
    "    program_col=\"grant_program\",\n",
    "    data_source=\"source\",\n",
    "    fund_cols=[],\n",
    "    notes_cols=[\n",
    "        \"location_name\",\n",
    "        \"route_name\",\n",
    "        \"state_hwy_ind\",\n",
    "        \"senate_district_code\",\n",
    "        \"category_desc\",\n",
    "        \"district_code\",\n",
    "        \"comment_desc\",\n",
    "        \"postmile_combined\",\n",
    "    ],\n",
    ")"
   ]
  },
  {
   "cell_type": "markdown",
   "id": "2757ecf8-b382-431e-b5c4-96389ad2e927",
   "metadata": {},
   "source": [
    "### Stack\n",
    "Waiting\n",
    "* Clarify the monetary cols of SB1 & BlackCat\n",
    "\n",
    "Christian's Notes\n",
    "* What amount of transit related projects are in this big list? \n",
    "* How big the projects are by cost? \n",
    "* Compare the cost of all the transit projects against all the projects in the list?\n",
    "* Use percentages.\n",
    "\n",
    "Done\n",
    "* Harmonize county/city/lead agency names\n",
    "* LRTP grant program should be none'"
   ]
  },
  {
   "cell_type": "code",
   "execution_count": 29,
   "id": "2ebe704e-3375-4be9-bb2c-5ee6079ba0d3",
   "metadata": {},
   "outputs": [],
   "source": [
    "complete = pd.concat(\n",
    "    [\n",
    "        lrtp_df_harmonized,\n",
    "        blackcat_df_harmonized,\n",
    "        sb1_df_harmonized,\n",
    "        srp_df_harmonized,\n",
    "        lp2000_df_harmonized,\n",
    "    ],\n",
    "    ignore_index=True,\n",
    ")"
   ]
  },
  {
   "cell_type": "code",
   "execution_count": 30,
   "id": "189437cf-117a-4b8a-a89f-ae68fe988cc4",
   "metadata": {},
   "outputs": [],
   "source": [
    "def clean_strings(df: pd.DataFrame, column: str) -> pd.DataFrame:\n",
    "    \"\"\"\n",
    "    Use to clean project names\n",
    "    \"\"\"\n",
    "    # Convert to lowercase and strip leading/trailing whitespaces\n",
    "    df[column] = df[column].str.title().str.strip()\n",
    "\n",
    "    # Replace consecutive whitespaces with a single space\n",
    "    df[column] = df[column].replace(r\"\\s+\", \" \", regex=True)\n",
    "\n",
    "    # Remove specific characters\n",
    "    chars_to_remove = [\"-\", \"/\", \")\", \"(\", \".\", \"County\", \"Of\", \"District\"]\n",
    "    for char in chars_to_remove:\n",
    "        df[column] = df[column].str.replace(char, \"\")\n",
    "\n",
    "    df[column] = df[column].astype(str).replace(\"\\d+\", \"\", regex=True)\n",
    "    return df"
   ]
  },
  {
   "cell_type": "code",
   "execution_count": 31,
   "id": "6c911fdc-7bf4-4529-91bd-dcfe6667ee78",
   "metadata": {},
   "outputs": [
    {
     "name": "stderr",
     "output_type": "stream",
     "text": [
      "/tmp/ipykernel_224/309772486.py:14: FutureWarning: The default value of regex will change from True to False in a future version. In addition, single character regular expressions will *not* be treated as literal strings when regex=True.\n",
      "  df[column] = df[column].str.replace(char, \"\")\n"
     ]
    }
   ],
   "source": [
    "complete = clean_strings(complete, \"lead_agency\")"
   ]
  },
  {
   "cell_type": "code",
   "execution_count": 32,
   "id": "7d458a7b-63ee-428a-9a81-61cf32b88e7d",
   "metadata": {},
   "outputs": [
    {
     "data": {
      "text/plain": [
       "1056"
      ]
     },
     "execution_count": 32,
     "metadata": {},
     "output_type": "execute_result"
    }
   ],
   "source": [
    "complete.lead_agency.nunique()"
   ]
  },
  {
   "cell_type": "code",
   "execution_count": 33,
   "id": "ccaacd62-b205-42d7-9338-bba3fdb27404",
   "metadata": {},
   "outputs": [
    {
     "data": {
      "text/plain": [
       "29420"
      ]
     },
     "execution_count": 33,
     "metadata": {},
     "output_type": "execute_result"
    }
   ],
   "source": [
    "len(complete)"
   ]
  },
  {
   "cell_type": "code",
   "execution_count": 34,
   "id": "4d391464-d622-44ae-99ec-3f6829ccc589",
   "metadata": {},
   "outputs": [
    {
     "data": {
      "text/plain": [
       "LP2000                11272\n",
       "Blackcat               3385\n",
       "Fresno Cog Lrtp        3147\n",
       "Scag Lrtp              2952\n",
       "Sacog Lrtp             1601\n",
       "Kern Cog Lrtp          1411\n",
       "Scrtpa Lrtp            1066\n",
       "Madera Ctc Lrtp         765\n",
       "Stancog Lrtp            552\n",
       "Slocog Lrtp             420\n",
       "Sbcag Lrtp              419\n",
       "Sandag Lrtp             416\n",
       "Tcag Lrtp               337\n",
       "Mtc Lrtp                282\n",
       "Ambag Lrtp              280\n",
       "State Rail Plan         276\n",
       "Sjcog Lrtp              262\n",
       "Bcag Lrtp               250\n",
       "Mcagov Lrtp             108\n",
       "Kcag Lrtp                84\n",
       "Tmpo Lrtp                75\n",
       "SB1 Feature Server       60\n",
       "Name: source, dtype: int64"
      ]
     },
     "execution_count": 34,
     "metadata": {},
     "output_type": "execute_result"
    }
   ],
   "source": [
    "complete.source.value_counts()"
   ]
  },
  {
   "cell_type": "markdown",
   "id": "3be25882-b1fb-47a5-9c3e-7fb9ea11e37b",
   "metadata": {},
   "source": [
    "#### Try to find duplicated projects"
   ]
  },
  {
   "cell_type": "code",
   "execution_count": 35,
   "id": "f47bff65-2a07-41b1-b5ee-8bf27de8b1fc",
   "metadata": {},
   "outputs": [
    {
     "data": {
      "text/html": [
       "<div>\n",
       "<style scoped>\n",
       "    .dataframe tbody tr th:only-of-type {\n",
       "        vertical-align: middle;\n",
       "    }\n",
       "\n",
       "    .dataframe tbody tr th {\n",
       "        vertical-align: top;\n",
       "    }\n",
       "\n",
       "    .dataframe thead th {\n",
       "        text-align: right;\n",
       "    }\n",
       "</style>\n",
       "<table border=\"1\" class=\"dataframe\">\n",
       "  <thead>\n",
       "    <tr style=\"text-align: right;\">\n",
       "      <th></th>\n",
       "      <th>project_title</th>\n",
       "      <th>lead_agency</th>\n",
       "      <th>project_description</th>\n",
       "      <th>total_project_cost</th>\n",
       "      <th>total_available_funds</th>\n",
       "      <th>phase</th>\n",
       "      <th>post_mile</th>\n",
       "      <th>county</th>\n",
       "      <th>city</th>\n",
       "      <th>ct_district</th>\n",
       "      <th>project_start_year</th>\n",
       "      <th>project_completion_year</th>\n",
       "      <th>geometry</th>\n",
       "      <th>grant_program</th>\n",
       "      <th>source</th>\n",
       "      <th>notes</th>\n",
       "      <th>funding_notes</th>\n",
       "    </tr>\n",
       "  </thead>\n",
       "  <tbody>\n",
       "    <tr>\n",
       "      <th>21922</th>\n",
       "      <td>Construct Curb, Gutter and Sidewalk</td>\n",
       "      <td>Merced</td>\n",
       "      <td>None</td>\n",
       "      <td>0.00</td>\n",
       "      <td>0.00</td>\n",
       "      <td>Under Construction</td>\n",
       "      <td>None</td>\n",
       "      <td>Merced County</td>\n",
       "      <td>None</td>\n",
       "      <td>None</td>\n",
       "      <td>None</td>\n",
       "      <td>None</td>\n",
       "      <td>None</td>\n",
       "      <td>None</td>\n",
       "      <td>LP2000</td>\n",
       "      <td>location name: Along Echo Street and Lander Ave,  route name: 0-CR,  state hwy ind: N,  senate district code: nan,  category desc: Miscellaneous - Other,  district code: 10.0,  comment desc: Miscellaneous - Other,  postmile combined: nan</td>\n",
       "      <td></td>\n",
       "    </tr>\n",
       "  </tbody>\n",
       "</table>\n",
       "</div>"
      ],
      "text/plain": [
       "                             project_title lead_agency project_description  \\\n",
       "21922  Construct Curb, Gutter and Sidewalk     Merced                 None   \n",
       "\n",
       "       total_project_cost  total_available_funds               phase  \\\n",
       "21922                0.00                   0.00  Under Construction   \n",
       "\n",
       "      post_mile         county  city ct_district project_start_year  \\\n",
       "21922      None  Merced County  None        None               None   \n",
       "\n",
       "      project_completion_year geometry grant_program  source  \\\n",
       "21922                    None     None          None  LP2000   \n",
       "\n",
       "                                                                                                                                                                                                                                                notes  \\\n",
       "21922   location name: Along Echo Street and Lander Ave,  route name: 0-CR,  state hwy ind: N,  senate district code: nan,  category desc: Miscellaneous - Other,  district code: 10.0,  comment desc: Miscellaneous - Other,  postmile combined: nan   \n",
       "\n",
       "      funding_notes  \n",
       "21922                "
      ]
     },
     "execution_count": 35,
     "metadata": {},
     "output_type": "execute_result"
    }
   ],
   "source": [
    "complete.sample()"
   ]
  },
  {
   "cell_type": "code",
   "execution_count": 36,
   "id": "57a6ba28-e795-4bf2-a1b3-83f747d5c7b2",
   "metadata": {},
   "outputs": [],
   "source": [
    "projects_main_info = complete.project_title + '-' + complete.project_description  + '-' + complete.source  + '-' + complete.county  + '-' + complete.notes + '-' + complete.total_project_cost.astype(str)"
   ]
  },
  {
   "cell_type": "code",
   "execution_count": 37,
   "id": "d22e2d61-847f-4c7d-b542-04fb1ef65b8a",
   "metadata": {},
   "outputs": [
    {
     "data": {
      "text/plain": [
       "pandas.core.series.Series"
      ]
     },
     "execution_count": 37,
     "metadata": {},
     "output_type": "execute_result"
    }
   ],
   "source": [
    "type(projects_main_info)"
   ]
  },
  {
   "cell_type": "code",
   "execution_count": 38,
   "id": "8c79d083-50cd-4baf-acd9-02279e255ac6",
   "metadata": {},
   "outputs": [],
   "source": [
    "\n",
    "main_info = projects_main_info.to_frame()"
   ]
  },
  {
   "cell_type": "code",
   "execution_count": 39,
   "id": "92a926d4-90c8-41a3-9b62-19ab0d81ba2e",
   "metadata": {},
   "outputs": [],
   "source": [
    "main_info = main_info.rename(columns = {0:'project_info'})"
   ]
  },
  {
   "cell_type": "code",
   "execution_count": 40,
   "id": "b607cb21-0735-46ee-9f32-840d31e09d9f",
   "metadata": {},
   "outputs": [
    {
     "data": {
      "text/plain": [
       "29420"
      ]
     },
     "execution_count": 40,
     "metadata": {},
     "output_type": "execute_result"
    }
   ],
   "source": [
    "len(main_info)"
   ]
  },
  {
   "cell_type": "code",
   "execution_count": 41,
   "id": "958fabea-d9c7-4e70-9c18-53ee5792606d",
   "metadata": {},
   "outputs": [],
   "source": [
    "# Assuming main_info.project_info.value_counts() gives you a Series\n",
    "value_counts_series = main_info.project_info.value_counts()\n",
    "\n",
    "# Convert the Series to a DataFrame with columns 'value' and 'count'\n",
    "df_value_counts = value_counts_series.reset_index()\n",
    "df_value_counts.columns = ['project_info', 'total_values']"
   ]
  },
  {
   "cell_type": "code",
   "execution_count": 42,
   "id": "063ff71f-032a-4564-8398-cfbd982859ab",
   "metadata": {},
   "outputs": [
    {
     "data": {
      "text/plain": [
       "28228"
      ]
     },
     "execution_count": 42,
     "metadata": {},
     "output_type": "execute_result"
    }
   ],
   "source": [
    "len(df_value_counts)"
   ]
  },
  {
   "cell_type": "code",
   "execution_count": 43,
   "id": "35cf6fe5-dba8-46c4-8a47-15d4eabac99f",
   "metadata": {},
   "outputs": [
    {
     "data": {
      "text/plain": [
       "count   28228.00\n",
       "mean        1.04\n",
       "std         0.62\n",
       "min         1.00\n",
       "25%         1.00\n",
       "50%         1.00\n",
       "75%         1.00\n",
       "max        34.00\n",
       "Name: total_values, dtype: float64"
      ]
     },
     "execution_count": 43,
     "metadata": {},
     "output_type": "execute_result"
    }
   ],
   "source": [
    "df_value_counts.total_values.describe()"
   ]
  },
  {
   "cell_type": "code",
   "execution_count": 44,
   "id": "afd35c1b-d15b-4b7a-98e4-2c8ba9ab175b",
   "metadata": {},
   "outputs": [
    {
     "data": {
      "text/plain": [
       "403"
      ]
     },
     "execution_count": 44,
     "metadata": {},
     "output_type": "execute_result"
    }
   ],
   "source": [
    "len(df_value_counts.loc[df_value_counts.total_values > 1])"
   ]
  },
  {
   "cell_type": "code",
   "execution_count": 45,
   "id": "320fe207-3176-4f70-85a5-52b627d12dc1",
   "metadata": {
    "tags": []
   },
   "outputs": [
    {
     "data": {
      "text/html": [
       "<div>\n",
       "<style scoped>\n",
       "    .dataframe tbody tr th:only-of-type {\n",
       "        vertical-align: middle;\n",
       "    }\n",
       "\n",
       "    .dataframe tbody tr th {\n",
       "        vertical-align: top;\n",
       "    }\n",
       "\n",
       "    .dataframe thead th {\n",
       "        text-align: right;\n",
       "    }\n",
       "</style>\n",
       "<table border=\"1\" class=\"dataframe\">\n",
       "  <thead>\n",
       "    <tr style=\"text-align: right;\">\n",
       "      <th></th>\n",
       "      <th>project_info</th>\n",
       "      <th>total_values</th>\n",
       "    </tr>\n",
       "  </thead>\n",
       "  <tbody>\n",
       "    <tr>\n",
       "      <th>0</th>\n",
       "      <td>None-Purchase Replacement Van-Blackcat-None- grant fiscal year: 2019,  grant encumbered amount: 56000.0,  local encumbered amount: 0.0,  total encumbered amount: 56000.0,  expendedamount: 0.0,  activebalance: 44800.0,  closedoutbalance: 0,  project status: Open-0.0</td>\n",
       "      <td>34</td>\n",
       "    </tr>\n",
       "    <tr>\n",
       "      <th>1</th>\n",
       "      <td>None-Purchase Replacement Van-Blackcat-None- grant fiscal year: 2019,  grant encumbered amount: 56000.0,  local encumbered amount: 0.0,  total encumbered amount: 56000.0,  expendedamount: 0.0,  activebalance: 11200.0,  closedoutbalance: 0,  project status: Open-0.0</td>\n",
       "      <td>34</td>\n",
       "    </tr>\n",
       "    <tr>\n",
       "      <th>2</th>\n",
       "      <td>None-None-Sandag Lrtp-None- notes: Category: Nan,  Status: Nan,  Aqc 2016 1: Nan,  Aqc 2020 1: Nan,  Pricmcp: Nan,  Conncmcp: Nan,  Layer Name: Mobility Hubs And Flexible Fleets,  Corridor I: Nan,  Type 1: Nan,  Existing: Nan,  Limits: Nan,  Description 1: Nan,  Route: Nan,  Routetype: Nan,  Route Desc: Nan,  Rp 2021 Id: Nan,  Rp 2021 Id 1: Nan,  Capital Cost   2020  Millions: Nan-0.0</td>\n",
       "      <td>31</td>\n",
       "    </tr>\n",
       "    <tr>\n",
       "      <th>3</th>\n",
       "      <td>None-Purchase Replacement &lt; 30 Ft Bus-Blackcat-None- grant fiscal year: 2021,  grant encumbered amount: 84000.0,  local encumbered amount: 0.0,  total encumbered amount: 84000.0,  expendedamount: 0.0,  activebalance: 84000.0,  closedoutbalance: 0,  project status: Open-0.0</td>\n",
       "      <td>29</td>\n",
       "    </tr>\n",
       "    <tr>\n",
       "      <th>4</th>\n",
       "      <td>Emergency Opening-None-LP2000-Tulare County- location name: nan,  route name: 0-CR,  state hwy ind: N,  senate district code: nan,  category desc: Emergency Opening,  district code: 6.0,  comment desc: Emergency Opening,  postmile combined: nan-0.0</td>\n",
       "      <td>22</td>\n",
       "    </tr>\n",
       "  </tbody>\n",
       "</table>\n",
       "</div>"
      ],
      "text/plain": [
       "                                                                                                                                                                                                                                                                                                                                                                                          project_info  \\\n",
       "0                                                                                                                            None-Purchase Replacement Van-Blackcat-None- grant fiscal year: 2019,  grant encumbered amount: 56000.0,  local encumbered amount: 0.0,  total encumbered amount: 56000.0,  expendedamount: 0.0,  activebalance: 44800.0,  closedoutbalance: 0,  project status: Open-0.0   \n",
       "1                                                                                                                            None-Purchase Replacement Van-Blackcat-None- grant fiscal year: 2019,  grant encumbered amount: 56000.0,  local encumbered amount: 0.0,  total encumbered amount: 56000.0,  expendedamount: 0.0,  activebalance: 11200.0,  closedoutbalance: 0,  project status: Open-0.0   \n",
       "2  None-None-Sandag Lrtp-None- notes: Category: Nan,  Status: Nan,  Aqc 2016 1: Nan,  Aqc 2020 1: Nan,  Pricmcp: Nan,  Conncmcp: Nan,  Layer Name: Mobility Hubs And Flexible Fleets,  Corridor I: Nan,  Type 1: Nan,  Existing: Nan,  Limits: Nan,  Description 1: Nan,  Route: Nan,  Routetype: Nan,  Route Desc: Nan,  Rp 2021 Id: Nan,  Rp 2021 Id 1: Nan,  Capital Cost   2020  Millions: Nan-0.0   \n",
       "3                                                                                                                    None-Purchase Replacement < 30 Ft Bus-Blackcat-None- grant fiscal year: 2021,  grant encumbered amount: 84000.0,  local encumbered amount: 0.0,  total encumbered amount: 84000.0,  expendedamount: 0.0,  activebalance: 84000.0,  closedoutbalance: 0,  project status: Open-0.0   \n",
       "4                                                                                                                                             Emergency Opening-None-LP2000-Tulare County- location name: nan,  route name: 0-CR,  state hwy ind: N,  senate district code: nan,  category desc: Emergency Opening,  district code: 6.0,  comment desc: Emergency Opening,  postmile combined: nan-0.0   \n",
       "\n",
       "   total_values  \n",
       "0            34  \n",
       "1            34  \n",
       "2            31  \n",
       "3            29  \n",
       "4            22  "
      ]
     },
     "execution_count": 45,
     "metadata": {},
     "output_type": "execute_result"
    }
   ],
   "source": [
    "df_value_counts.loc[df_value_counts.total_values > 1].sort_values(by = ['total_values'], ascending = False).head()"
   ]
  },
  {
   "cell_type": "code",
   "execution_count": 46,
   "id": "efe2427d-adfb-47ca-994e-83f442dedfa3",
   "metadata": {},
   "outputs": [],
   "source": [
    "# complete.loc[(complete.source == \"LP2000\") & (complete.project_title == \"Emergency Opening\")  & (complete.county == \"Tulare County\")]."
   ]
  },
  {
   "cell_type": "code",
   "execution_count": 47,
   "id": "c959117b-091d-4610-b36f-202f3dd97c9e",
   "metadata": {},
   "outputs": [],
   "source": [
    "def filter_projects(\n",
    "    df,\n",
    "    columns_to_search: list,\n",
    "    keywords_search: list,\n",
    "    file_name: str,\n",
    "    gcs_path: str,\n",
    "    projects_to_del: list,\n",
    "):\n",
    "\n",
    "    # Filter out for Cordon\n",
    "    df = _specific_list_utils.find_keywords(df, columns_to_search, keywords_search)\n",
    "    df2 = (\n",
    "        df[\n",
    "            (df.lower_case_project_title_keyword_search != \"keyword not found\")\n",
    "            | (df.lower_case_project_description_keyword_search != \"keyword not found\")\n",
    "        ]\n",
    "    ).reset_index(drop=True)\n",
    "\n",
    "    # Delete out non HOV projects that were accidentally picked up\n",
    "    projects_to_delete = []\n",
    "    df2 = df2[~df2.project_title.isin(projects_to_delete)].reset_index(drop=True)\n",
    "\n",
    "    # Change cases\n",
    "    for i in [\"project_title\", \"project_description\"]:\n",
    "        df2[i] = df2[i].str.title()\n",
    "\n",
    "    columns_to_drop = [\"lower_case_project_title\", \"lower_case_project_description\"]\n",
    "    df2 = df2.drop(columns=columns_to_drop)\n",
    "    df2 = df2.fillna(df.dtypes.replace({\"float64\": 0.0, \"object\": \"None\"}))\n",
    "\n",
    "    df2.to_excel(f\"{gcs_path}{file_name}.xlsx\", index=False)\n",
    "    return df2"
   ]
  },
  {
   "cell_type": "code",
   "execution_count": 48,
   "id": "e3325be6-ab38-4dd9-9a7f-17c05972bef7",
   "metadata": {},
   "outputs": [],
   "source": [
    "transit_terms = [\n",
    "    \"automated transit\",\n",
    "    \"brt\",\n",
    "    \"bus\",\n",
    "    \"bus depot\",\n",
    "    \"bus lane\",\n",
    "    \"bus lanes\",\n",
    "    \"bus network\",\n",
    "    \"bus rapid transit\",\n",
    "    \"bus route\",\n",
    "    \"bus routes\",\n",
    "    \"bus service\",\n",
    "    \"bus shelter\",\n",
    "    \"bus stop\",\n",
    "    \"bus terminal\",\n",
    "    \"buses\",\n",
    "    \"commuter rail\",\n",
    "    \"express bus\",\n",
    "    \"fare card\",\n",
    "    \"fare collection\",\n",
    "    \"fare evasion\",\n",
    "    \"fare integration\",\n",
    "    \"fare payment\",\n",
    "    \"fare structure\",\n",
    "    \"fare subsidy\",\n",
    "    \"fare technology\",\n",
    "    \"farebox\",\n",
    "    \"ferry\",\n",
    "    \"ferrys\",\n",
    "    \"high quality transit areas\",\n",
    "    \"integrated transit\",\n",
    "    \"intermodal\",\n",
    "    \"light rail\",\n",
    "    \"light rail vehicles\",\n",
    "    \"locomotives\",\n",
    "    \"mobility as a service\",\n",
    "    \"mobility hub\",\n",
    "    \"multimodal\",\n",
    "    \"paratransit\",\n",
    "    \"rail\",\n",
    "    \"rail network\",\n",
    "    \"railroad\",\n",
    "    \"shuttle\",\n",
    "    \"shuttles\",\n",
    "    \"station\",\n",
    "    \"terminal\",\n",
    "    \"train\",\n",
    "    \"trains\",\n",
    "    \"transit\",\n",
    "    \"transit agency\",\n",
    "    \"transit center\",\n",
    "    \"transit hub\",\n",
    "    \"transit signal priority\",\n",
    "    \"transit-oriented development\",\n",
    "    \"transportation equity\",\n",
    "    \"trolley\",\n",
    "    \"trolleys\",\n",
    "    \"van\",\n",
    "    \"vans\"\n",
    "]\n"
   ]
  },
  {
   "cell_type": "code",
   "execution_count": 49,
   "id": "e00e746a-acdb-4232-8916-24159e10c7fe",
   "metadata": {},
   "outputs": [
    {
     "data": {
      "text/plain": [
       "58"
      ]
     },
     "execution_count": 49,
     "metadata": {},
     "output_type": "execute_result"
    }
   ],
   "source": [
    "len(transit_terms)"
   ]
  },
  {
   "cell_type": "code",
   "execution_count": 50,
   "id": "44233fea-c8a1-4f48-b96c-1f74b58b083c",
   "metadata": {},
   "outputs": [
    {
     "name": "stderr",
     "output_type": "stream",
     "text": [
      "/home/jovyan/data-analyses/project_list/_specific_list_utils.py:18: FutureWarning: The default value of regex will change from True to False in a future version. In addition, single character regular expressions will *not* be treated as literal strings when regex=True.\n",
      "  df[i]\n",
      "/home/jovyan/data-analyses/project_list/_specific_list_utils.py:18: FutureWarning: The default value of regex will change from True to False in a future version. In addition, single character regular expressions will *not* be treated as literal strings when regex=True.\n",
      "  df[i]\n"
     ]
    }
   ],
   "source": [
    "transit_df = filter_projects(\n",
    "    complete,\n",
    "    [\n",
    "        \"project_title\",\n",
    "        \"project_description\",\n",
    "    ],\n",
    "    transit_terms,\n",
    "    \"sb125_transit\",\n",
    "    GCS_FILE_PATH,\n",
    "    [],\n",
    ")"
   ]
  },
  {
   "cell_type": "code",
   "execution_count": 51,
   "id": "45ac2172-9b5f-4506-b082-3277e7ddb280",
   "metadata": {},
   "outputs": [
    {
     "data": {
      "text/plain": [
       "(4186, 19)"
      ]
     },
     "execution_count": 51,
     "metadata": {},
     "output_type": "execute_result"
    }
   ],
   "source": [
    "transit_df.shape"
   ]
  },
  {
   "cell_type": "markdown",
   "id": "41d425c7-3266-476c-9020-4ed04dcd9af4",
   "metadata": {},
   "source": [
    "### Insights"
   ]
  },
  {
   "cell_type": "code",
   "execution_count": 52,
   "id": "74c46a32-087b-41d1-801b-289a1ae54b90",
   "metadata": {},
   "outputs": [
    {
     "data": {
      "text/plain": [
       "'14% or 4186 of projects in this list are related to Transit'"
      ]
     },
     "execution_count": 52,
     "metadata": {},
     "output_type": "execute_result"
    }
   ],
   "source": [
    "f\"{(int(len(transit_df) / len(complete) * 100))}% or {len(transit_df)} of projects in this list are related to Transit\""
   ]
  },
  {
   "cell_type": "code",
   "execution_count": 53,
   "id": "a83ec341-f24c-4e47-800a-1889c48c9d8a",
   "metadata": {},
   "outputs": [],
   "source": [
    "transit_cost = int(transit_df.total_project_cost.sum())"
   ]
  },
  {
   "cell_type": "code",
   "execution_count": 54,
   "id": "a9c90ab2-be8a-44a3-8dad-372a0b9e762e",
   "metadata": {},
   "outputs": [],
   "source": [
    "formatted_total_cost = \"{:,}\".format(transit_cost)"
   ]
  },
  {
   "cell_type": "code",
   "execution_count": 55,
   "id": "9aa09882-5c2c-40f0-a93a-e74abd5d2916",
   "metadata": {},
   "outputs": [],
   "source": [
    "total_projects_cost = int(complete.total_project_cost.sum())"
   ]
  },
  {
   "cell_type": "code",
   "execution_count": 56,
   "id": "ec85ce97-a0d7-469f-9138-caba4711a37d",
   "metadata": {},
   "outputs": [],
   "source": [
    "formatted_projects_cost = \"{:,}\".format(total_projects_cost)"
   ]
  },
  {
   "cell_type": "code",
   "execution_count": 57,
   "id": "a33a45f1-3047-4178-9c24-6a2384fece0a",
   "metadata": {},
   "outputs": [
    {
     "data": {
      "text/plain": [
       "'The total estimated cost is $299,572,489,073 compared to $670,035,689,953 in all the compiled projects. This makes up 44% of the requested funding (that we have on file).'"
      ]
     },
     "execution_count": 57,
     "metadata": {},
     "output_type": "execute_result"
    }
   ],
   "source": [
    "f\"The total estimated cost is ${formatted_total_cost} compared to ${formatted_projects_cost} in all the compiled projects. This makes up {int((transit_cost/total_projects_cost) * 100)}% of the requested funding (that we have on file).\""
   ]
  },
  {
   "cell_type": "code",
   "execution_count": 58,
   "id": "57514f7f-cece-467b-a4c2-d4a891c1878f",
   "metadata": {},
   "outputs": [
    {
     "data": {
      "text/plain": [
       "Blackcat              1459\n",
       "Scag Lrtp              660\n",
       "LP2000                 639\n",
       "Sacog Lrtp             201\n",
       "Madera Ctc Lrtp        199\n",
       "Fresno Cog Lrtp        181\n",
       "State Rail Plan        161\n",
       "Mtc Lrtp               107\n",
       "Sbcag Lrtp              95\n",
       "Sjcog Lrtp              63\n",
       "Sandag Lrtp             63\n",
       "Scrtpa Lrtp             60\n",
       "SB1 Feature Server      50\n",
       "Stancog Lrtp            49\n",
       "Kern Cog Lrtp           45\n",
       "Slocog Lrtp             35\n",
       "Tmpo Lrtp               31\n",
       "Bcag Lrtp               26\n",
       "Ambag Lrtp              26\n",
       "Tcag Lrtp               25\n",
       "Mcagov Lrtp             10\n",
       "Kcag Lrtp                1\n",
       "Name: source, dtype: int64"
      ]
     },
     "execution_count": 58,
     "metadata": {},
     "output_type": "execute_result"
    }
   ],
   "source": [
    "transit_df.source.value_counts()"
   ]
  },
  {
   "cell_type": "markdown",
   "id": "e349dfc3-bd19-45d9-af24-6998814a77a2",
   "metadata": {},
   "source": [
    "#### Keywords that were picked up"
   ]
  },
  {
   "cell_type": "code",
   "execution_count": 59,
   "id": "0723a569-2807-4cfe-a552-4259132ef40a",
   "metadata": {},
   "outputs": [],
   "source": [
    "def count_categories(df: pd.DataFrame, column: str):\n",
    "    # Convert the result to a DataFrame\n",
    "    filtered_df = df.loc[df[column] != \"keyword not found\"][[column]].value_counts()\n",
    "    result_df = pd.DataFrame(filtered_df, columns=[\"Count\"])\n",
    "\n",
    "    # Reset the index to make the keyword a regular column\n",
    "    result_df = result_df.reset_index()\n",
    "\n",
    "    # Rename the columns if needed\n",
    "    result_df.columns = [\"Keyword\", \"Count\"]\n",
    "    return result_df"
   ]
  },
  {
   "cell_type": "code",
   "execution_count": 60,
   "id": "9d34f03f-0685-496b-816f-4a435e75f56c",
   "metadata": {},
   "outputs": [],
   "source": [
    "proj_desc = count_categories(\n",
    "    transit_df, \"lower_case_project_description_keyword_search\"\n",
    ")"
   ]
  },
  {
   "cell_type": "code",
   "execution_count": 61,
   "id": "6f9c0470-a9b1-47fb-aa1b-10d864b3da34",
   "metadata": {},
   "outputs": [],
   "source": [
    "title = count_categories(transit_df, \"lower_case_project_title_keyword_search\")"
   ]
  },
  {
   "cell_type": "code",
   "execution_count": 62,
   "id": "c31bfc4d-7acc-402b-a22f-0f9c5bb74b90",
   "metadata": {},
   "outputs": [],
   "source": [
    "categories = pd.merge(proj_desc, title, on=\"Keyword\", how=\"outer\", indicator=True)"
   ]
  },
  {
   "cell_type": "code",
   "execution_count": 63,
   "id": "30c575f5-3cee-4f84-86ec-c491564c120b",
   "metadata": {},
   "outputs": [],
   "source": [
    "categories[\"Total Projects\"] = categories.Count_x.fillna(0) + categories.Count_y.fillna(\n",
    "    0\n",
    ")"
   ]
  },
  {
   "cell_type": "code",
   "execution_count": 64,
   "id": "5789e0cc-751c-4471-919e-6321cf3ff3fc",
   "metadata": {},
   "outputs": [],
   "source": [
    "categories = (\n",
    "    categories.sort_values(by=[\"Total Projects\"], ascending=False)\n",
    "    .reset_index(drop=True)\n",
    "    .drop(columns=[\"Count_x\", \"Count_y\", \"_merge\"])\n",
    ")"
   ]
  },
  {
   "cell_type": "code",
   "execution_count": 65,
   "id": "f488ab7a-9a99-4890-ad9f-fc0e3209c5f7",
   "metadata": {},
   "outputs": [
    {
     "data": {
      "text/html": [
       "<div>\n",
       "<style scoped>\n",
       "    .dataframe tbody tr th:only-of-type {\n",
       "        vertical-align: middle;\n",
       "    }\n",
       "\n",
       "    .dataframe tbody tr th {\n",
       "        vertical-align: top;\n",
       "    }\n",
       "\n",
       "    .dataframe thead th {\n",
       "        text-align: right;\n",
       "    }\n",
       "</style>\n",
       "<table border=\"1\" class=\"dataframe\">\n",
       "  <thead>\n",
       "    <tr style=\"text-align: right;\">\n",
       "      <th></th>\n",
       "      <th>Keyword</th>\n",
       "      <th>Total Projects</th>\n",
       "    </tr>\n",
       "  </thead>\n",
       "  <tbody>\n",
       "    <tr>\n",
       "      <th>0</th>\n",
       "      <td>bus</td>\n",
       "      <td>1725.00</td>\n",
       "    </tr>\n",
       "    <tr>\n",
       "      <th>1</th>\n",
       "      <td>transit</td>\n",
       "      <td>959.00</td>\n",
       "    </tr>\n",
       "    <tr>\n",
       "      <th>2</th>\n",
       "      <td>van</td>\n",
       "      <td>408.00</td>\n",
       "    </tr>\n",
       "    <tr>\n",
       "      <th>3</th>\n",
       "      <td>rail</td>\n",
       "      <td>375.00</td>\n",
       "    </tr>\n",
       "    <tr>\n",
       "      <th>4</th>\n",
       "      <td>buses</td>\n",
       "      <td>259.00</td>\n",
       "    </tr>\n",
       "    <tr>\n",
       "      <th>5</th>\n",
       "      <td>station</td>\n",
       "      <td>251.00</td>\n",
       "    </tr>\n",
       "    <tr>\n",
       "      <th>6</th>\n",
       "      <td>railroad</td>\n",
       "      <td>209.00</td>\n",
       "    </tr>\n",
       "    <tr>\n",
       "      <th>7</th>\n",
       "      <td>paratransit</td>\n",
       "      <td>86.00</td>\n",
       "    </tr>\n",
       "    <tr>\n",
       "      <th>8</th>\n",
       "      <td>multimodal</td>\n",
       "      <td>78.00</td>\n",
       "    </tr>\n",
       "    <tr>\n",
       "      <th>9</th>\n",
       "      <td>light rail</td>\n",
       "      <td>73.00</td>\n",
       "    </tr>\n",
       "    <tr>\n",
       "      <th>10</th>\n",
       "      <td>ferry</td>\n",
       "      <td>64.00</td>\n",
       "    </tr>\n",
       "    <tr>\n",
       "      <th>11</th>\n",
       "      <td>intermodal</td>\n",
       "      <td>41.00</td>\n",
       "    </tr>\n",
       "    <tr>\n",
       "      <th>12</th>\n",
       "      <td>brt</td>\n",
       "      <td>37.00</td>\n",
       "    </tr>\n",
       "    <tr>\n",
       "      <th>13</th>\n",
       "      <td>train</td>\n",
       "      <td>34.00</td>\n",
       "    </tr>\n",
       "    <tr>\n",
       "      <th>14</th>\n",
       "      <td>terminal</td>\n",
       "      <td>31.00</td>\n",
       "    </tr>\n",
       "    <tr>\n",
       "      <th>15</th>\n",
       "      <td>commuter rail</td>\n",
       "      <td>30.00</td>\n",
       "    </tr>\n",
       "    <tr>\n",
       "      <th>16</th>\n",
       "      <td>express bus</td>\n",
       "      <td>29.00</td>\n",
       "    </tr>\n",
       "    <tr>\n",
       "      <th>17</th>\n",
       "      <td>trains</td>\n",
       "      <td>20.00</td>\n",
       "    </tr>\n",
       "    <tr>\n",
       "      <th>18</th>\n",
       "      <td>trolley</td>\n",
       "      <td>18.00</td>\n",
       "    </tr>\n",
       "    <tr>\n",
       "      <th>19</th>\n",
       "      <td>shuttle</td>\n",
       "      <td>17.00</td>\n",
       "    </tr>\n",
       "    <tr>\n",
       "      <th>20</th>\n",
       "      <td>locomotives</td>\n",
       "      <td>16.00</td>\n",
       "    </tr>\n",
       "    <tr>\n",
       "      <th>21</th>\n",
       "      <td>vans</td>\n",
       "      <td>15.00</td>\n",
       "    </tr>\n",
       "    <tr>\n",
       "      <th>22</th>\n",
       "      <td>mobility hub</td>\n",
       "      <td>14.00</td>\n",
       "    </tr>\n",
       "    <tr>\n",
       "      <th>23</th>\n",
       "      <td>fare collection</td>\n",
       "      <td>8.00</td>\n",
       "    </tr>\n",
       "    <tr>\n",
       "      <th>24</th>\n",
       "      <td>integrated transit</td>\n",
       "      <td>4.00</td>\n",
       "    </tr>\n",
       "    <tr>\n",
       "      <th>25</th>\n",
       "      <td>trolleys</td>\n",
       "      <td>2.00</td>\n",
       "    </tr>\n",
       "    <tr>\n",
       "      <th>26</th>\n",
       "      <td>fare payment</td>\n",
       "      <td>2.00</td>\n",
       "    </tr>\n",
       "    <tr>\n",
       "      <th>27</th>\n",
       "      <td>farebox</td>\n",
       "      <td>1.00</td>\n",
       "    </tr>\n",
       "    <tr>\n",
       "      <th>28</th>\n",
       "      <td>fare technology</td>\n",
       "      <td>1.00</td>\n",
       "    </tr>\n",
       "    <tr>\n",
       "      <th>29</th>\n",
       "      <td>shuttles</td>\n",
       "      <td>1.00</td>\n",
       "    </tr>\n",
       "    <tr>\n",
       "      <th>30</th>\n",
       "      <td>mobility as a service</td>\n",
       "      <td>1.00</td>\n",
       "    </tr>\n",
       "    <tr>\n",
       "      <th>31</th>\n",
       "      <td>automated transit</td>\n",
       "      <td>1.00</td>\n",
       "    </tr>\n",
       "  </tbody>\n",
       "</table>\n",
       "</div>"
      ],
      "text/plain": [
       "                  Keyword  Total Projects\n",
       "0                     bus         1725.00\n",
       "1                 transit          959.00\n",
       "2                     van          408.00\n",
       "3                    rail          375.00\n",
       "4                   buses          259.00\n",
       "5                 station          251.00\n",
       "6                railroad          209.00\n",
       "7             paratransit           86.00\n",
       "8              multimodal           78.00\n",
       "9              light rail           73.00\n",
       "10                  ferry           64.00\n",
       "11             intermodal           41.00\n",
       "12                    brt           37.00\n",
       "13                  train           34.00\n",
       "14               terminal           31.00\n",
       "15          commuter rail           30.00\n",
       "16            express bus           29.00\n",
       "17                 trains           20.00\n",
       "18                trolley           18.00\n",
       "19                shuttle           17.00\n",
       "20            locomotives           16.00\n",
       "21                   vans           15.00\n",
       "22           mobility hub           14.00\n",
       "23        fare collection            8.00\n",
       "24     integrated transit            4.00\n",
       "25               trolleys            2.00\n",
       "26           fare payment            2.00\n",
       "27                farebox            1.00\n",
       "28        fare technology            1.00\n",
       "29               shuttles            1.00\n",
       "30  mobility as a service            1.00\n",
       "31      automated transit            1.00"
      ]
     },
     "execution_count": 65,
     "metadata": {},
     "output_type": "execute_result"
    }
   ],
   "source": [
    "categories"
   ]
  }
 ],
 "metadata": {
  "kernelspec": {
   "display_name": "Python 3 (ipykernel)",
   "language": "python",
   "name": "python3"
  },
  "language_info": {
   "codemirror_mode": {
    "name": "ipython",
    "version": 3
   },
   "file_extension": ".py",
   "mimetype": "text/x-python",
   "name": "python",
   "nbconvert_exporter": "python",
   "pygments_lexer": "ipython3",
   "version": "3.9.13"
  }
 },
 "nbformat": 4,
 "nbformat_minor": 5
}
