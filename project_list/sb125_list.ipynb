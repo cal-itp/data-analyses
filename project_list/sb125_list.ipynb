{
 "cells": [
  {
   "cell_type": "code",
   "execution_count": 15,
   "id": "0846f21e-ec73-4371-a795-d90c2337416d",
   "metadata": {},
   "outputs": [],
   "source": [
    "import _harmonization_utils as har_utils\n",
    "import _lrtp_utils as lrtp_utils\n",
    "import _sb1_utils as sb1_utils\n",
    "import _state_rail_plan_utils as srp_utils\n",
    "import geopandas as gpd\n",
    "import pandas as pd\n",
    "from calitp_data_analysis import utils\n",
    "from calitp_data_analysis.sql import to_snakecase"
   ]
  },
  {
   "cell_type": "code",
   "execution_count": 16,
   "id": "2fc7da2e-d0a5-4f1e-ac73-297936d05f71",
   "metadata": {},
   "outputs": [],
   "source": [
    "pd.options.display.max_columns = 100\n",
    "pd.options.display.float_format = \"{:.2f}\".format\n",
    "pd.set_option(\"display.max_rows\", None)\n",
    "pd.set_option(\"display.max_colwidth\", None)"
   ]
  },
  {
   "cell_type": "code",
   "execution_count": 17,
   "id": "16dafdc5-a04e-4cc2-ab04-408dcb52b216",
   "metadata": {},
   "outputs": [],
   "source": [
    "GCS_FILE_PATH = \"gs://calitp-analytics-data/data-analyses/sb125/\""
   ]
  },
  {
   "cell_type": "markdown",
   "id": "fa5790e0-fd8d-444a-a887-0be57a4e556d",
   "metadata": {},
   "source": [
    "### Load Data\n",
    "* Need to include LP2000\n",
    "* Add in data source columns\n",
    "* Get clarification on some of the cols I don't know"
   ]
  },
  {
   "cell_type": "code",
   "execution_count": 65,
   "id": "f207bff0-3a76-4df7-a782-97cf0db7d238",
   "metadata": {},
   "outputs": [
    {
     "data": {
      "text/plain": [
       "array(['Ambag Lrtp', 'Bcag Lrtp', 'Fresno Cog Lrtp', 'Kern Cog Lrtp',\n",
       "       'Kcag Lrtp', 'Madera Ctc Lrtp', 'Mcagov Lrtp', 'Mtc Lrtp',\n",
       "       'Sacog Lrtp', 'Sandag Lrtp', 'Sbcag Lrtp', 'Scrtpa Lrtp',\n",
       "       'Sjcog Lrtp', 'Scag Lrtp', 'Slocog Lrtp', 'Stancog Lrtp',\n",
       "       'Tmpo Lrtp', 'Tcag Lrtp', 'Lost'], dtype=object)"
      ]
     },
     "execution_count": 65,
     "metadata": {},
     "output_type": "execute_result"
    }
   ],
   "source": [
    "lrtp_df.data_source.unique()"
   ]
  },
  {
   "cell_type": "code",
   "execution_count": 67,
   "id": "1a35fe87-4210-432a-87d1-e47bf34e2c9c",
   "metadata": {},
   "outputs": [],
   "source": [
    "def load_lrtp():\n",
    "    lrtp_df, lrtp_gdf = lrtp_utils.all_mpo(True)\n",
    "    lrtp_df = lrtp_df.loc[lrtp_df.data_source != \"Lost\"].reset_index(drop=True)\n",
    "    lrtp_df[\"program_col\"] = lrtp_df.data_source\n",
    "    return lrtp_df"
   ]
  },
  {
   "cell_type": "code",
   "execution_count": 68,
   "id": "244adf42-c641-4c00-85ab-b27b843ce5ed",
   "metadata": {},
   "outputs": [
    {
     "name": "stderr",
     "output_type": "stream",
     "text": [
      "/home/jovyan/data-analyses/project_list/_lrtp_utils.py:66: UserWarning: This pattern is interpreted as a regular expression, and has match groups. To actually get the groups, use str.extract.\n",
      "  cost_columns = df.columns[df.columns.str.contains(\"(cost|funds)\")].tolist()\n",
      "/home/jovyan/data-analyses/project_list/_lrtp_utils.py:66: UserWarning: This pattern is interpreted as a regular expression, and has match groups. To actually get the groups, use str.extract.\n",
      "  cost_columns = df.columns[df.columns.str.contains(\"(cost|funds)\")].tolist()\n",
      "/home/jovyan/data-analyses/project_list/_lrtp_utils.py:66: UserWarning: This pattern is interpreted as a regular expression, and has match groups. To actually get the groups, use str.extract.\n",
      "  cost_columns = df.columns[df.columns.str.contains(\"(cost|funds)\")].tolist()\n",
      "/home/jovyan/data-analyses/project_list/_lrtp_utils.py:66: UserWarning: This pattern is interpreted as a regular expression, and has match groups. To actually get the groups, use str.extract.\n",
      "  cost_columns = df.columns[df.columns.str.contains(\"(cost|funds)\")].tolist()\n",
      "/home/jovyan/data-analyses/project_list/_lrtp_utils.py:66: UserWarning: This pattern is interpreted as a regular expression, and has match groups. To actually get the groups, use str.extract.\n",
      "  cost_columns = df.columns[df.columns.str.contains(\"(cost|funds)\")].tolist()\n",
      "/home/jovyan/data-analyses/project_list/_lrtp_utils.py:66: UserWarning: This pattern is interpreted as a regular expression, and has match groups. To actually get the groups, use str.extract.\n",
      "  cost_columns = df.columns[df.columns.str.contains(\"(cost|funds)\")].tolist()\n",
      "/home/jovyan/data-analyses/project_list/_lrtp_utils.py:66: UserWarning: This pattern is interpreted as a regular expression, and has match groups. To actually get the groups, use str.extract.\n",
      "  cost_columns = df.columns[df.columns.str.contains(\"(cost|funds)\")].tolist()\n",
      "/home/jovyan/data-analyses/project_list/_lrtp_utils.py:66: UserWarning: This pattern is interpreted as a regular expression, and has match groups. To actually get the groups, use str.extract.\n",
      "  cost_columns = df.columns[df.columns.str.contains(\"(cost|funds)\")].tolist()\n"
     ]
    },
    {
     "name": "stdout",
     "output_type": "stream",
     "text": [
      "96 rows are headers\n"
     ]
    },
    {
     "name": "stderr",
     "output_type": "stream",
     "text": [
      "/home/jovyan/data-analyses/project_list/_lrtp_utils.py:66: UserWarning: This pattern is interpreted as a regular expression, and has match groups. To actually get the groups, use str.extract.\n",
      "  cost_columns = df.columns[df.columns.str.contains(\"(cost|funds)\")].tolist()\n",
      "/home/jovyan/data-analyses/project_list/_lrtp_utils.py:720: FutureWarning: The default value of regex will change from True to False in a future version. In addition, single character regular expressions will *not* be treated as literal strings when regex=True.\n",
      "  sandag.cost2020m.str.replace(\"$\", \"\")\n",
      "/home/jovyan/data-analyses/project_list/_lrtp_utils.py:66: UserWarning: This pattern is interpreted as a regular expression, and has match groups. To actually get the groups, use str.extract.\n",
      "  cost_columns = df.columns[df.columns.str.contains(\"(cost|funds)\")].tolist()\n"
     ]
    },
    {
     "name": "stdout",
     "output_type": "stream",
     "text": [
      "65 rows are headers\n"
     ]
    },
    {
     "name": "stderr",
     "output_type": "stream",
     "text": [
      "/home/jovyan/data-analyses/project_list/_lrtp_utils.py:66: UserWarning: This pattern is interpreted as a regular expression, and has match groups. To actually get the groups, use str.extract.\n",
      "  cost_columns = df.columns[df.columns.str.contains(\"(cost|funds)\")].tolist()\n",
      "/home/jovyan/data-analyses/project_list/_lrtp_utils.py:66: UserWarning: This pattern is interpreted as a regular expression, and has match groups. To actually get the groups, use str.extract.\n",
      "  cost_columns = df.columns[df.columns.str.contains(\"(cost|funds)\")].tolist()\n",
      "/home/jovyan/data-analyses/project_list/_lrtp_utils.py:66: UserWarning: This pattern is interpreted as a regular expression, and has match groups. To actually get the groups, use str.extract.\n",
      "  cost_columns = df.columns[df.columns.str.contains(\"(cost|funds)\")].tolist()\n"
     ]
    },
    {
     "name": "stdout",
     "output_type": "stream",
     "text": [
      "360 rows are headers\n"
     ]
    },
    {
     "name": "stderr",
     "output_type": "stream",
     "text": [
      "/home/jovyan/data-analyses/project_list/_lrtp_utils.py:66: UserWarning: This pattern is interpreted as a regular expression, and has match groups. To actually get the groups, use str.extract.\n",
      "  cost_columns = df.columns[df.columns.str.contains(\"(cost|funds)\")].tolist()\n",
      "/home/jovyan/data-analyses/project_list/_lrtp_utils.py:66: UserWarning: This pattern is interpreted as a regular expression, and has match groups. To actually get the groups, use str.extract.\n",
      "  cost_columns = df.columns[df.columns.str.contains(\"(cost|funds)\")].tolist()\n"
     ]
    },
    {
     "name": "stdout",
     "output_type": "stream",
     "text": [
      "68 rows are headers\n"
     ]
    },
    {
     "name": "stderr",
     "output_type": "stream",
     "text": [
      "/home/jovyan/data-analyses/project_list/_lrtp_utils.py:66: UserWarning: This pattern is interpreted as a regular expression, and has match groups. To actually get the groups, use str.extract.\n",
      "  cost_columns = df.columns[df.columns.str.contains(\"(cost|funds)\")].tolist()\n",
      "/home/jovyan/data-analyses/project_list/_lrtp_utils.py:66: UserWarning: This pattern is interpreted as a regular expression, and has match groups. To actually get the groups, use str.extract.\n",
      "  cost_columns = df.columns[df.columns.str.contains(\"(cost|funds)\")].tolist()\n",
      "/home/jovyan/data-analyses/project_list/_lrtp_utils.py:66: UserWarning: This pattern is interpreted as a regular expression, and has match groups. To actually get the groups, use str.extract.\n",
      "  cost_columns = df.columns[df.columns.str.contains(\"(cost|funds)\")].tolist()\n",
      "/home/jovyan/data-analyses/project_list/_lrtp_utils.py:66: UserWarning: This pattern is interpreted as a regular expression, and has match groups. To actually get the groups, use str.extract.\n",
      "  cost_columns = df.columns[df.columns.str.contains(\"(cost|funds)\")].tolist()\n"
     ]
    }
   ],
   "source": [
    "lrtp_df = load_lrtp()"
   ]
  },
  {
   "cell_type": "code",
   "execution_count": 19,
   "id": "d869746c-6051-4ed2-bf2c-6228c7289b27",
   "metadata": {},
   "outputs": [],
   "source": [
    "srp_df = har_utils.load_state_rail_plan()"
   ]
  },
  {
   "cell_type": "markdown",
   "id": "d0db5626-00a2-40f3-bcd0-3657667a33ea",
   "metadata": {},
   "source": [
    "#### Sb1: Which col represents total project cost? cost, totalcosts, costfull"
   ]
  },
  {
   "cell_type": "code",
   "execution_count": 20,
   "id": "1af45f91-0c76-4753-80b8-04e836ab487f",
   "metadata": {},
   "outputs": [
    {
     "name": "stderr",
     "output_type": "stream",
     "text": [
      "/home/jovyan/data-analyses/project_list/_sb1_utils.py:23: FutureWarning: The default value of regex will change from True to False in a future version. In addition, single character regular expressions will *not* be treated as literal strings when regex=True.\n",
      "  gdf[i]\n",
      "/home/jovyan/data-analyses/project_list/_sb1_utils.py:23: FutureWarning: The default value of regex will change from True to False in a future version.\n",
      "  gdf[i]\n"
     ]
    },
    {
     "name": "stdout",
     "output_type": "stream",
     "text": [
      "0 rows are mising geometry\n",
      "7917 rows contain invalid geography\n"
     ]
    }
   ],
   "source": [
    "sb1_df = sb1_utils.load_sb1()"
   ]
  },
  {
   "cell_type": "code",
   "execution_count": 63,
   "id": "92039992-3b23-4610-b795-1804dee2806b",
   "metadata": {},
   "outputs": [
    {
     "data": {
      "text/plain": [
       "Index(['projectid', 'projname', 'projcatcode', 'projcategory', 'projprogcode',\n",
       "       'projprogram', 'multiprogfunded', 'projstatus', 'description', 'cost',\n",
       "       'assemblydistrict', 'senatedistrict', 'assemblycode', 'senatecode',\n",
       "       'countyname', 'cityname', 'countycode', 'citycode', 'appagencyname',\n",
       "       'impagencyname', 'geometry', 'totalcosts', 'routes', 'constyear',\n",
       "       'costfull', 'projagency', 'source'],\n",
       "      dtype='object')"
      ]
     },
     "execution_count": 63,
     "metadata": {},
     "output_type": "execute_result"
    }
   ],
   "source": [
    "sb1_df.columns"
   ]
  },
  {
   "cell_type": "markdown",
   "id": "01a9b959-4980-4f01-a846-d2ee187483e7",
   "metadata": {},
   "source": [
    "#### Blackcat: Ask what grant_encumbered_amount,local_encumbered_amount,total_encumbered_amount,activebalance mean?"
   ]
  },
  {
   "cell_type": "code",
   "execution_count": 29,
   "id": "1725c8ef-4f4a-4853-a0da-e522d2c66b8d",
   "metadata": {},
   "outputs": [],
   "source": [
    "def load_blackcat(file: str) -> pd.DataFrame:\n",
    "    df = to_snakecase(pd.read_excel(f\"{GCS_FILE_PATH}{file}\"))\n",
    "    df[\"data_source\"] = \"Blackcat\"\n",
    "    return df"
   ]
  },
  {
   "cell_type": "code",
   "execution_count": 30,
   "id": "1d61aabb-01c4-4dce-adc4-58fb8f34663a",
   "metadata": {},
   "outputs": [],
   "source": [
    "blackcat_df = load_blackcat(\"Grant+Projects_1_17_2024.xlsx\")"
   ]
  },
  {
   "cell_type": "code",
   "execution_count": 32,
   "id": "8227ed13-903f-4ba8-b8a7-2dd23182e16c",
   "metadata": {},
   "outputs": [
    {
     "data": {
      "text/plain": [
       "Open              3314\n",
       "In Development      71\n",
       "Name: project_status, dtype: int64"
      ]
     },
     "execution_count": 32,
     "metadata": {},
     "output_type": "execute_result"
    }
   ],
   "source": [
    "blackcat_df.project_status.value_counts()"
   ]
  },
  {
   "cell_type": "code",
   "execution_count": 31,
   "id": "09d2b653-1fe2-491d-aa9e-d1a897816991",
   "metadata": {},
   "outputs": [
    {
     "data": {
      "text/html": [
       "<div>\n",
       "<style scoped>\n",
       "    .dataframe tbody tr th:only-of-type {\n",
       "        vertical-align: middle;\n",
       "    }\n",
       "\n",
       "    .dataframe tbody tr th {\n",
       "        vertical-align: top;\n",
       "    }\n",
       "\n",
       "    .dataframe thead th {\n",
       "        text-align: right;\n",
       "    }\n",
       "</style>\n",
       "<table border=\"1\" class=\"dataframe\">\n",
       "  <thead>\n",
       "    <tr style=\"text-align: right;\">\n",
       "      <th></th>\n",
       "      <th>grant_fiscal_year</th>\n",
       "      <th>funding_program</th>\n",
       "      <th>grant_number</th>\n",
       "      <th>project_year</th>\n",
       "      <th>organization_name</th>\n",
       "      <th>upin</th>\n",
       "      <th>description</th>\n",
       "      <th>ali</th>\n",
       "      <th>contract_number</th>\n",
       "      <th>allocationamount</th>\n",
       "      <th>grant_encumbered_amount</th>\n",
       "      <th>local_encumbered_amount</th>\n",
       "      <th>total_encumbered_amount</th>\n",
       "      <th>expendedamount</th>\n",
       "      <th>activebalance</th>\n",
       "      <th>closedoutbalance</th>\n",
       "      <th>project_status</th>\n",
       "      <th>project_closed_by</th>\n",
       "      <th>project_closed_date</th>\n",
       "      <th>project_closed_time</th>\n",
       "      <th>data_source</th>\n",
       "    </tr>\n",
       "  </thead>\n",
       "  <tbody>\n",
       "    <tr>\n",
       "      <th>0</th>\n",
       "      <td>2011</td>\n",
       "      <td>Section 5311</td>\n",
       "      <td>CA-18-X047 | 0012000083</td>\n",
       "      <td>2016</td>\n",
       "      <td>City of Chowchilla</td>\n",
       "      <td>BCG0000228</td>\n",
       "      <td>Operating Assistance</td>\n",
       "      <td>300902</td>\n",
       "      <td>64BO17-00368</td>\n",
       "      <td>53221.00</td>\n",
       "      <td>114511.00</td>\n",
       "      <td>211651.00</td>\n",
       "      <td>326162.00</td>\n",
       "      <td>53221.00</td>\n",
       "      <td>0.00</td>\n",
       "      <td>0</td>\n",
       "      <td>Open</td>\n",
       "      <td>NaN</td>\n",
       "      <td>NaN</td>\n",
       "      <td>NaN</td>\n",
       "      <td>Blackcat</td>\n",
       "    </tr>\n",
       "    <tr>\n",
       "      <th>1</th>\n",
       "      <td>2011</td>\n",
       "      <td>Section 5311</td>\n",
       "      <td>CA-18-X047 | 0012000083</td>\n",
       "      <td>2016</td>\n",
       "      <td>Madera County</td>\n",
       "      <td>BCG0000283</td>\n",
       "      <td>Buy &lt;30-Ft Bus For Expansion</td>\n",
       "      <td>111304</td>\n",
       "      <td>64BC17-00408</td>\n",
       "      <td>110663.00</td>\n",
       "      <td>110663.00</td>\n",
       "      <td>14337.00</td>\n",
       "      <td>125000.00</td>\n",
       "      <td>101352.02</td>\n",
       "      <td>9310.98</td>\n",
       "      <td>0</td>\n",
       "      <td>Open</td>\n",
       "      <td>NaN</td>\n",
       "      <td>NaN</td>\n",
       "      <td>NaN</td>\n",
       "      <td>Blackcat</td>\n",
       "    </tr>\n",
       "  </tbody>\n",
       "</table>\n",
       "</div>"
      ],
      "text/plain": [
       "   grant_fiscal_year funding_program             grant_number  project_year  \\\n",
       "0               2011    Section 5311  CA-18-X047 | 0012000083          2016   \n",
       "1               2011    Section 5311  CA-18-X047 | 0012000083          2016   \n",
       "\n",
       "     organization_name        upin                   description     ali  \\\n",
       "0  City of Chowchilla   BCG0000228          Operating Assistance  300902   \n",
       "1        Madera County  BCG0000283  Buy <30-Ft Bus For Expansion  111304   \n",
       "\n",
       "  contract_number  allocationamount  grant_encumbered_amount  \\\n",
       "0    64BO17-00368          53221.00                114511.00   \n",
       "1    64BC17-00408         110663.00                110663.00   \n",
       "\n",
       "   local_encumbered_amount  total_encumbered_amount  expendedamount  \\\n",
       "0                211651.00                326162.00        53221.00   \n",
       "1                 14337.00                125000.00       101352.02   \n",
       "\n",
       "   activebalance  closedoutbalance project_status  project_closed_by  \\\n",
       "0           0.00                 0           Open                NaN   \n",
       "1        9310.98                 0           Open                NaN   \n",
       "\n",
       "   project_closed_date  project_closed_time data_source  \n",
       "0                  NaN                  NaN    Blackcat  \n",
       "1                  NaN                  NaN    Blackcat  "
      ]
     },
     "execution_count": 31,
     "metadata": {},
     "output_type": "execute_result"
    }
   ],
   "source": [
    "blackcat_df.head(2)"
   ]
  },
  {
   "cell_type": "code",
   "execution_count": 85,
   "id": "80a62aa6-79df-411c-b87f-c18cefa37af4",
   "metadata": {},
   "outputs": [],
   "source": [
    "lp2000 = \"LP2000.xlsx\""
   ]
  },
  {
   "cell_type": "code",
   "execution_count": 87,
   "id": "52b1b591-fd4c-4625-808a-7a77a423c359",
   "metadata": {},
   "outputs": [],
   "source": [
    "df_project = to_snakecase(pd.read_excel(f\"{GCS_FILE_PATH}{lp2000}\", sheet_name=\"project\"))"
   ]
  },
  {
   "cell_type": "code",
   "execution_count": 90,
   "id": "e29be85d-fca1-4ddc-9a86-e322eefb75ce",
   "metadata": {},
   "outputs": [
    {
     "data": {
      "text/html": [
       "<div>\n",
       "<style scoped>\n",
       "    .dataframe tbody tr th:only-of-type {\n",
       "        vertical-align: middle;\n",
       "    }\n",
       "\n",
       "    .dataframe tbody tr th {\n",
       "        vertical-align: top;\n",
       "    }\n",
       "\n",
       "    .dataframe thead th {\n",
       "        text-align: right;\n",
       "    }\n",
       "</style>\n",
       "<table border=\"1\" class=\"dataframe\">\n",
       "  <thead>\n",
       "    <tr style=\"text-align: right;\">\n",
       "      <th></th>\n",
       "      <th>project_id</th>\n",
       "      <th>comment_desc</th>\n",
       "      <th>est_total_prj_costs</th>\n",
       "      <th>location_name</th>\n",
       "      <th>project_label_name</th>\n",
       "      <th>original_post_mile_begin_id</th>\n",
       "      <th>original_post_mile_end_id</th>\n",
       "      <th>revised_post_mile_begin_ind</th>\n",
       "      <th>revised_post_mile_end_ind</th>\n",
       "      <th>route_name</th>\n",
       "      <th>state_hwy_ind</th>\n",
       "      <th>senate_district_code</th>\n",
       "      <th>update_date_time</th>\n",
       "      <th>agency_name</th>\n",
       "      <th>urban_area_code</th>\n",
       "      <th>work_type_desc</th>\n",
       "      <th>category_desc</th>\n",
       "      <th>current_phase</th>\n",
       "      <th>active_transportation_program__atp_</th>\n",
       "      <th>bridge_inspection___scour_evaluation</th>\n",
       "      <th>covid_relief_funds_for_highway_infrastructure_programs_for_stip_covid_augmentation</th>\n",
       "      <th>carbon_reduction_program__crp_</th>\n",
       "      <th>congestion_mitigation___air_quality_improvement_program__cmaq_</th>\n",
       "      <th>coronavirus_response_and_relief_supplemental_appropriations_act__crrsaa__funds</th>\n",
       "      <th>corridor_mobility_improvement_account__cmia__program</th>\n",
       "      <th>county_exchange_funds</th>\n",
       "      <th>county_state_match_program</th>\n",
       "      <th>earmarks_projects__hpp,_demo_cpfcds,_etc__</th>\n",
       "      <th>emergency_relief__er_</th>\n",
       "      <th>ferry_boat_program__fbp__and_ferry_boat_discretionary__fbd__program</th>\n",
       "      <th>funds_for_planning,_programming_and_monitoring___rip</th>\n",
       "      <th>general_funded_designated_programs</th>\n",
       "      <th>hazard_elimination_safety__hes_</th>\n",
       "      <th>high_risk_rural_roads_program__hr3_</th>\n",
       "      <th>highway_bridge_</th>\n",
       "      <th>highway_safety_improvement_program__hsip___infrastructure__state_fund</th>\n",
       "      <th>highway_safety_improvement_program__hsip___non_infrastructure_</th>\n",
       "      <th>highway_safety_improvement_program__hsip__infrastructure__federal_fund</th>\n",
       "      <th>local_partnership_program__lpp_–_competitive__</th>\n",
       "      <th>local_roads</th>\n",
       "      <th>local_roads_rehabilitation</th>\n",
       "      <th>railroad_grade_crossing_protection</th>\n",
       "      <th>railroad_grade_separations</th>\n",
       "      <th>rebuilding_american_infrastructure_with_sustainability_and_equity__raise__and_multimodal_project_discretionary_grant_programs__e_g_,_infra,_mega,_rstg_or_rural__</th>\n",
       "      <th>regional_improvement_program_–_regional_share_of_stip_transportation_enhancement__off_system_</th>\n",
       "      <th>regional_surface_transportation_block_grant_program__rstbgp__and_highway_infrastructure_program__hip_</th>\n",
       "      <th>regional_transportation_planning_agency__rtpa__stp_match_exchange</th>\n",
       "      <th>sb1_funded_freeway_service_patrol</th>\n",
       "      <th>shopp__traffic_light_synchronization_program__tlsp___proposition_1b_bond_funds</th>\n",
       "      <th>safe_routes_to_school__sr2s_and_srts_</th>\n",
       "      <th>set_aside_coordinated_border_infrastructure__cbi__program_under_fast_act</th>\n",
       "      <th>solutions_for_congested_corridors_program__sccp_</th>\n",
       "      <th>special_programs</th>\n",
       "      <th>state_local_partnership_program__slpp__and_local_partnership_program__lpp_formulaic_</th>\n",
       "      <th>structures_seismic_retrofit_</th>\n",
       "      <th>trade_corridor_enhancement_account__tcea__programs_–_local_share</th>\n",
       "      <th>trade_corridor_enhancement_account__tcea__programs_–_state_share</th>\n",
       "      <th>trade_corridors_improvement_fund__tcif__program_local_streets___roads</th>\n",
       "      <th>traffic_congestion_relief_program___tcrp__</th>\n",
       "    </tr>\n",
       "  </thead>\n",
       "  <tbody>\n",
       "    <tr>\n",
       "      <th>7097</th>\n",
       "      <td>32L0(557)</td>\n",
       "      <td>DVH-SCRCO-069,004,005\\nCA17-2\\n</td>\n",
       "      <td>NaN</td>\n",
       "      <td>Branciforte Dr PM 0.92,1.77,2.22</td>\n",
       "      <td>Road Reconstruction-CON ONLY</td>\n",
       "      <td>NaN</td>\n",
       "      <td>NaN</td>\n",
       "      <td>NaN</td>\n",
       "      <td>NaN</td>\n",
       "      <td>0-CR</td>\n",
       "      <td>N</td>\n",
       "      <td>NaN</td>\n",
       "      <td>2019-08-26 16:21:36</td>\n",
       "      <td>Santa Cruz County</td>\n",
       "      <td>NaN</td>\n",
       "      <td>NaN</td>\n",
       "      <td>Road Reconstruction</td>\n",
       "      <td>single phase</td>\n",
       "      <td>Unknown</td>\n",
       "      <td>Unknown</td>\n",
       "      <td>Unknown</td>\n",
       "      <td>Unknown</td>\n",
       "      <td>Unknown</td>\n",
       "      <td>Unknown</td>\n",
       "      <td>Unknown</td>\n",
       "      <td>Unknown</td>\n",
       "      <td>Unknown</td>\n",
       "      <td>Unknown</td>\n",
       "      <td>Unknown</td>\n",
       "      <td>Unknown</td>\n",
       "      <td>Unknown</td>\n",
       "      <td>Unknown</td>\n",
       "      <td>Unknown</td>\n",
       "      <td>Unknown</td>\n",
       "      <td>Unknown</td>\n",
       "      <td>Unknown</td>\n",
       "      <td>Unknown</td>\n",
       "      <td>Unknown</td>\n",
       "      <td>Unknown</td>\n",
       "      <td>Unknown</td>\n",
       "      <td>Unknown</td>\n",
       "      <td>Unknown</td>\n",
       "      <td>Unknown</td>\n",
       "      <td>Unknown</td>\n",
       "      <td>Unknown</td>\n",
       "      <td>Unknown</td>\n",
       "      <td>Unknown</td>\n",
       "      <td>Unknown</td>\n",
       "      <td>Unknown</td>\n",
       "      <td>Unknown</td>\n",
       "      <td>Unknown</td>\n",
       "      <td>Unknown</td>\n",
       "      <td>Unknown</td>\n",
       "      <td>Unknown</td>\n",
       "      <td>Unknown</td>\n",
       "      <td>Unknown</td>\n",
       "      <td>Unknown</td>\n",
       "      <td>Unknown</td>\n",
       "      <td>Unknown</td>\n",
       "    </tr>\n",
       "  </tbody>\n",
       "</table>\n",
       "</div>"
      ],
      "text/plain": [
       "     project_id                     comment_desc  est_total_prj_costs  \\\n",
       "7097  32L0(557)  DVH-SCRCO-069,004,005\\nCA17-2\\n                  NaN   \n",
       "\n",
       "                         location_name            project_label_name  \\\n",
       "7097  Branciforte Dr PM 0.92,1.77,2.22  Road Reconstruction-CON ONLY   \n",
       "\n",
       "      original_post_mile_begin_id  original_post_mile_end_id  \\\n",
       "7097                          NaN                        NaN   \n",
       "\n",
       "     revised_post_mile_begin_ind revised_post_mile_end_ind route_name  \\\n",
       "7097                         NaN                       NaN       0-CR   \n",
       "\n",
       "     state_hwy_ind  senate_district_code    update_date_time  \\\n",
       "7097             N                   NaN 2019-08-26 16:21:36   \n",
       "\n",
       "            agency_name  urban_area_code work_type_desc        category_desc  \\\n",
       "7097  Santa Cruz County              NaN            NaN  Road Reconstruction   \n",
       "\n",
       "     current_phase active_transportation_program__atp_  \\\n",
       "7097  single phase                             Unknown   \n",
       "\n",
       "     bridge_inspection___scour_evaluation  \\\n",
       "7097                              Unknown   \n",
       "\n",
       "     covid_relief_funds_for_highway_infrastructure_programs_for_stip_covid_augmentation  \\\n",
       "7097                                                                            Unknown   \n",
       "\n",
       "     carbon_reduction_program__crp_  \\\n",
       "7097                        Unknown   \n",
       "\n",
       "     congestion_mitigation___air_quality_improvement_program__cmaq_  \\\n",
       "7097                                                        Unknown   \n",
       "\n",
       "     coronavirus_response_and_relief_supplemental_appropriations_act__crrsaa__funds  \\\n",
       "7097                                                                        Unknown   \n",
       "\n",
       "     corridor_mobility_improvement_account__cmia__program  \\\n",
       "7097                                              Unknown   \n",
       "\n",
       "     county_exchange_funds county_state_match_program  \\\n",
       "7097               Unknown                    Unknown   \n",
       "\n",
       "     earmarks_projects__hpp,_demo_cpfcds,_etc__ emergency_relief__er_  \\\n",
       "7097                                    Unknown               Unknown   \n",
       "\n",
       "     ferry_boat_program__fbp__and_ferry_boat_discretionary__fbd__program  \\\n",
       "7097                                                             Unknown   \n",
       "\n",
       "     funds_for_planning,_programming_and_monitoring___rip  \\\n",
       "7097                                              Unknown   \n",
       "\n",
       "     general_funded_designated_programs hazard_elimination_safety__hes_  \\\n",
       "7097                            Unknown                         Unknown   \n",
       "\n",
       "     high_risk_rural_roads_program__hr3_ highway_bridge_  \\\n",
       "7097                             Unknown         Unknown   \n",
       "\n",
       "     highway_safety_improvement_program__hsip___infrastructure__state_fund  \\\n",
       "7097                                                               Unknown   \n",
       "\n",
       "     highway_safety_improvement_program__hsip___non_infrastructure_  \\\n",
       "7097                                                        Unknown   \n",
       "\n",
       "     highway_safety_improvement_program__hsip__infrastructure__federal_fund  \\\n",
       "7097                                                                Unknown   \n",
       "\n",
       "     local_partnership_program__lpp_–_competitive__ local_roads  \\\n",
       "7097                                        Unknown     Unknown   \n",
       "\n",
       "     local_roads_rehabilitation railroad_grade_crossing_protection  \\\n",
       "7097                    Unknown                            Unknown   \n",
       "\n",
       "     railroad_grade_separations  \\\n",
       "7097                    Unknown   \n",
       "\n",
       "     rebuilding_american_infrastructure_with_sustainability_and_equity__raise__and_multimodal_project_discretionary_grant_programs__e_g_,_infra,_mega,_rstg_or_rural__  \\\n",
       "7097                                                                                                                                                           Unknown   \n",
       "\n",
       "     regional_improvement_program_–_regional_share_of_stip_transportation_enhancement__off_system_  \\\n",
       "7097                                                                                       Unknown   \n",
       "\n",
       "     regional_surface_transportation_block_grant_program__rstbgp__and_highway_infrastructure_program__hip_  \\\n",
       "7097                                                                                               Unknown   \n",
       "\n",
       "     regional_transportation_planning_agency__rtpa__stp_match_exchange  \\\n",
       "7097                                                           Unknown   \n",
       "\n",
       "     sb1_funded_freeway_service_patrol  \\\n",
       "7097                           Unknown   \n",
       "\n",
       "     shopp__traffic_light_synchronization_program__tlsp___proposition_1b_bond_funds  \\\n",
       "7097                                                                        Unknown   \n",
       "\n",
       "     safe_routes_to_school__sr2s_and_srts_  \\\n",
       "7097                               Unknown   \n",
       "\n",
       "     set_aside_coordinated_border_infrastructure__cbi__program_under_fast_act  \\\n",
       "7097                                                                  Unknown   \n",
       "\n",
       "     solutions_for_congested_corridors_program__sccp_ special_programs  \\\n",
       "7097                                          Unknown          Unknown   \n",
       "\n",
       "     state_local_partnership_program__slpp__and_local_partnership_program__lpp_formulaic_  \\\n",
       "7097                                                                              Unknown   \n",
       "\n",
       "     structures_seismic_retrofit_  \\\n",
       "7097                      Unknown   \n",
       "\n",
       "     trade_corridor_enhancement_account__tcea__programs_–_local_share  \\\n",
       "7097                                                          Unknown   \n",
       "\n",
       "     trade_corridor_enhancement_account__tcea__programs_–_state_share  \\\n",
       "7097                                                          Unknown   \n",
       "\n",
       "     trade_corridors_improvement_fund__tcif__program_local_streets___roads  \\\n",
       "7097                                                               Unknown   \n",
       "\n",
       "     traffic_congestion_relief_program___tcrp__  \n",
       "7097                                    Unknown  "
      ]
     },
     "execution_count": 90,
     "metadata": {},
     "output_type": "execute_result"
    }
   ],
   "source": [
    "df_project.sample()"
   ]
  },
  {
   "cell_type": "code",
   "execution_count": 112,
   "id": "fd12c7d3-53c2-4cf1-92b2-a8dbcce38223",
   "metadata": {},
   "outputs": [],
   "source": [
    "df_county = to_snakecase(pd.read_excel(f\"{GCS_FILE_PATH}{lp2000}\", sheet_name=\"county\")).drop(columns = ['project_label_name'])"
   ]
  },
  {
   "cell_type": "code",
   "execution_count": 113,
   "id": "dea49f06-8899-4e28-8a16-3bc7999d27b2",
   "metadata": {},
   "outputs": [
    {
     "data": {
      "text/html": [
       "<div>\n",
       "<style scoped>\n",
       "    .dataframe tbody tr th:only-of-type {\n",
       "        vertical-align: middle;\n",
       "    }\n",
       "\n",
       "    .dataframe tbody tr th {\n",
       "        vertical-align: top;\n",
       "    }\n",
       "\n",
       "    .dataframe thead th {\n",
       "        text-align: right;\n",
       "    }\n",
       "</style>\n",
       "<table border=\"1\" class=\"dataframe\">\n",
       "  <thead>\n",
       "    <tr style=\"text-align: right;\">\n",
       "      <th></th>\n",
       "      <th>project_id</th>\n",
       "      <th>county_name</th>\n",
       "    </tr>\n",
       "  </thead>\n",
       "  <tbody>\n",
       "    <tr>\n",
       "      <th>2508</th>\n",
       "      <td>5006(761)</td>\n",
       "      <td>Los Angeles County</td>\n",
       "    </tr>\n",
       "  </tbody>\n",
       "</table>\n",
       "</div>"
      ],
      "text/plain": [
       "     project_id         county_name\n",
       "2508  5006(761)  Los Angeles County"
      ]
     },
     "execution_count": 113,
     "metadata": {},
     "output_type": "execute_result"
    }
   ],
   "source": [
    "df_county.sample()"
   ]
  },
  {
   "cell_type": "code",
   "execution_count": 114,
   "id": "e2ad4bd8-8bad-4d77-be46-fe07bcf26284",
   "metadata": {},
   "outputs": [],
   "source": [
    "df_district = to_snakecase(pd.read_excel(f\"{GCS_FILE_PATH}{lp2000}\", sheet_name=\"district\")).drop(columns = ['project_label_name'])"
   ]
  },
  {
   "cell_type": "code",
   "execution_count": 115,
   "id": "32775829-c468-4b79-abcb-3cf3ec08c28d",
   "metadata": {},
   "outputs": [
    {
     "data": {
      "text/html": [
       "<div>\n",
       "<style scoped>\n",
       "    .dataframe tbody tr th:only-of-type {\n",
       "        vertical-align: middle;\n",
       "    }\n",
       "\n",
       "    .dataframe tbody tr th {\n",
       "        vertical-align: top;\n",
       "    }\n",
       "\n",
       "    .dataframe thead th {\n",
       "        text-align: right;\n",
       "    }\n",
       "</style>\n",
       "<table border=\"1\" class=\"dataframe\">\n",
       "  <thead>\n",
       "    <tr style=\"text-align: right;\">\n",
       "      <th></th>\n",
       "      <th>project_id</th>\n",
       "      <th>district_code</th>\n",
       "    </tr>\n",
       "  </thead>\n",
       "  <tbody>\n",
       "    <tr>\n",
       "      <th>3701</th>\n",
       "      <td>6153(015)</td>\n",
       "      <td>2.00</td>\n",
       "    </tr>\n",
       "  </tbody>\n",
       "</table>\n",
       "</div>"
      ],
      "text/plain": [
       "     project_id  district_code\n",
       "3701  6153(015)           2.00"
      ]
     },
     "execution_count": 115,
     "metadata": {},
     "output_type": "execute_result"
    }
   ],
   "source": [
    "df_district.sample()"
   ]
  },
  {
   "cell_type": "code",
   "execution_count": 117,
   "id": "04733056-be62-49db-9882-3f8cfb647345",
   "metadata": {},
   "outputs": [],
   "source": [
    "df_award = to_snakecase(pd.read_excel(f\"{GCS_FILE_PATH}{lp2000}\", sheet_name=\"awards\"))"
   ]
  },
  {
   "cell_type": "code",
   "execution_count": 118,
   "id": "c4011471-8036-49b6-8305-992433af2edc",
   "metadata": {},
   "outputs": [],
   "source": [
    "lp2000_df = pd.merge(df_project, df_county, on = \"project_id\", how = \"left\").merge(df_district, on = \"project_id\", how = \"left\").merge(df_award, on = \"project_id\", how = \"left\")"
   ]
  },
  {
   "cell_type": "code",
   "execution_count": 120,
   "id": "20562894-adc4-434d-9ac3-05764da287d7",
   "metadata": {},
   "outputs": [],
   "source": [
    "lp2000_df_to_keep = ['project_id', 'comment_desc', 'est_total_prj_costs', 'location_name',\n",
    "       'project_label_name', 'original_post_mile_begin_id',\n",
    "       'original_post_mile_end_id', 'revised_post_mile_begin_ind',\n",
    "       'revised_post_mile_end_ind', 'route_name', 'state_hwy_ind',\n",
    "       'senate_district_code', 'update_date_time', 'agency_name',\n",
    "       'urban_area_code', 'work_type_desc', 'category_desc', 'current_phase',\n",
    "       'county_name', 'project_label_name', 'district_code', 'grant_program',\n",
    "       'state_fiscal_awarded_year']"
   ]
  },
  {
   "cell_type": "code",
   "execution_count": 121,
   "id": "c8fd0c2e-a55d-4235-8c6e-1976b89ef359",
   "metadata": {},
   "outputs": [],
   "source": [
    "lp2000_df = lp2000_df[lp2000_df_to_keep]"
   ]
  },
  {
   "cell_type": "markdown",
   "id": "64174dbe-918e-424c-9cc3-b1502bd24e2a",
   "metadata": {},
   "source": [
    "### Harmonize it"
   ]
  },
  {
   "cell_type": "code",
   "execution_count": 122,
   "id": "8192764f-6b2c-41e6-892e-0b3debace384",
   "metadata": {},
   "outputs": [],
   "source": [
    "def create_notes(df, note_cols: list, new_col_name: str):\n",
    "    \"\"\"\n",
    "    Concat multiple columns into one.\n",
    "    \"\"\"\n",
    "    prefix = \"_\"\n",
    "    for column in note_cols:\n",
    "        df[f\"{prefix}{column}\"] = df[column].astype(str)\n",
    "    note_cols = [prefix + sub for sub in note_cols]\n",
    "\n",
    "    # https://stackoverflow.com/questions/65532480/how-to-combine-column-names-and-values\n",
    "    def combine_notes(x):\n",
    "        return \", \".join([col + \": \" + x[col] for col in note_cols])\n",
    "\n",
    "    df[new_col_name] = df.apply(combine_notes, axis=1)\n",
    "    df[new_col_name] = df[new_col_name].str.replace(\"_\", \" \")\n",
    "\n",
    "    return df"
   ]
  },
  {
   "cell_type": "code",
   "execution_count": 123,
   "id": "d11cb637-71b5-4dde-81cd-84dae5f79ff4",
   "metadata": {},
   "outputs": [],
   "source": [
    "def harmonizing(\n",
    "    df,\n",
    "    agency_name_col: str,\n",
    "    project_name_col: str,\n",
    "    project_description_col: str,\n",
    "    phase_col: str,\n",
    "    project_cost_col: str,\n",
    "    geography_col: str,\n",
    "    post_mile_col: str,\n",
    "    county_col: str,\n",
    "    city_col: str,\n",
    "    district_col: str,\n",
    "    project_start_year_col: str,\n",
    "    project_completion_year_col: str,\n",
    "    program_col: str,\n",
    "    data_source: str,\n",
    "    fund_cols: list,\n",
    "    notes_cols: list,\n",
    "):\n",
    "    \"\"\"\n",
    "    Take a dataset and change the column names/types to\n",
    "    default names and formats.\n",
    "    \"\"\"\n",
    "    rename_columns = {\n",
    "        agency_name_col: \"lead_agency\",\n",
    "        project_name_col: \"project_title\",\n",
    "        project_description_col: \"project_description\",\n",
    "        project_cost_col: \"total_project_cost\",\n",
    "        geography_col: \"geometry\",\n",
    "        phase_col: \"phase\",\n",
    "        post_mile_col: \"post_mile\",\n",
    "        county_col: \"county\",\n",
    "        city_col: \"city\",\n",
    "        district_col: \"ct_district\",\n",
    "        project_start_year_col: \"project_start_year\",\n",
    "        project_completion_year_col: \"project_completion_year\",\n",
    "        program_col: \"grant_program\",\n",
    "        data_source: \"source\",\n",
    "    }\n",
    "    # Rename columns\n",
    "    df = df.rename(columns=rename_columns)\n",
    "\n",
    "    # Create columns even if they don't exist, just to harmonize\n",
    "    # before concatting.\n",
    "    create_columns = [\n",
    "        \"county\",\n",
    "        \"city\",\n",
    "        \"notes\",\n",
    "        \"project_start_year\",\n",
    "        \"project_completion_year\",\n",
    "        \"post_mile\",\n",
    "        \"phase\",\n",
    "        \"project_title\",\n",
    "        \"ct_district\",\n",
    "    ]\n",
    "    for column in create_columns:\n",
    "        if column not in df:\n",
    "            df[column] = \"None\"\n",
    "    if \"geometry\" not in df:\n",
    "        df[\"geometry\"] = None\n",
    "    if \"grant_program\" not in df:\n",
    "        df[\"grant_program\"] = data_source\n",
    "    if \"total_project_cost\" not in df:\n",
    "        df[\"total_project_cost\"] = 0\n",
    "\n",
    "    # Clean up monetary columns to be interger\n",
    "    cost_columns = df.columns[df.columns.str.contains(\"(cost|funds)\")].tolist()\n",
    "    for i in cost_columns:\n",
    "        df[i] = df[i].apply(pd.to_numeric, errors=\"coerce\").fillna(0)\n",
    "\n",
    "    # Add new column with funding breakout\n",
    "    # Since it's summarized above and the details are suppressed.\n",
    "    df[\"total_available_funds\"] = df[fund_cols].sum(axis=1)\n",
    "    df = create_notes(df, fund_cols, \"funding_notes\")\n",
    "\n",
    "    # Add column for unfunded needs\n",
    "    df[\"unfunded_needs_estimate\"] = df[\"total_project_cost\"] - df[\"total_available_funds\"]\n",
    "\n",
    "    # Create notes - aka other columns that were supressed\n",
    "    df = create_notes(df, notes_cols, \"notes\")\n",
    "\n",
    "    # Fill in nones\n",
    "    geometry_column = \"geometry\"\n",
    "\n",
    "    # Create a dictionary to specify replacement values for each data type\n",
    "    replacement_values = {\"float64\": 0.0, \"object\": \"None\"}\n",
    "\n",
    "    # Exclude the geometry column from the fillna operation\n",
    "    columns_to_fill = [col for col in df.columns if col != geometry_column]\n",
    "\n",
    "    # Fill null values in selected columns\n",
    "    df[columns_to_fill] = df[columns_to_fill].fillna(\n",
    "        df.dtypes.replace(replacement_values)\n",
    "    )\n",
    "\n",
    "    columns_to_keep = [\n",
    "        \"project_title\",\n",
    "        \"lead_agency\",\n",
    "        \"project_description\",\n",
    "        \"total_project_cost\",\n",
    "        \"total_available_funds\",\n",
    "        \"unfunded_needs_estimate\",\n",
    "        \"phase\",\n",
    "        \"post_mile\",\n",
    "        \"county\",\n",
    "        \"city\",\n",
    "        \"ct_district\",\n",
    "        \"project_start_year\",\n",
    "        \"project_completion_year\",\n",
    "        \"geometry\",\n",
    "        \"grant_program\",\n",
    "        \"source\",\n",
    "        \"notes\",\n",
    "    ]\n",
    "\n",
    "    # Only keep certain columns\n",
    "    df = df[columns_to_keep]\n",
    "    return df"
   ]
  },
  {
   "cell_type": "code",
   "execution_count": 124,
   "id": "ef2297c5-825c-49be-a892-3081052516c4",
   "metadata": {},
   "outputs": [
    {
     "name": "stderr",
     "output_type": "stream",
     "text": [
      "/tmp/ipykernel_357/4209738999.py:67: UserWarning: This pattern is interpreted as a regular expression, and has match groups. To actually get the groups, use str.extract.\n",
      "  cost_columns = df.columns[df.columns.str.contains(\"(cost|funds)\")].tolist()\n"
     ]
    }
   ],
   "source": [
    "lrtp_df_harmonized = harmonizing(\n",
    "    df=lrtp_df,\n",
    "    agency_name_col=\"lead_agency\",\n",
    "    project_name_col=\"project_title\",\n",
    "    project_description_col=\"project_description\",\n",
    "    phase_col=\"\",\n",
    "    project_cost_col=\"total_project_cost\",\n",
    "    geography_col=\"geometry\",\n",
    "    post_mile_col=\"\",\n",
    "    county_col=\"county\",\n",
    "    city_col=\"city\",\n",
    "    district_col=\"\",\n",
    "    project_start_year_col=\"\",\n",
    "    project_completion_year_col=\"\",\n",
    "    program_col=\"program_col\",\n",
    "    data_source=\"data_source\",\n",
    "    fund_cols=[],\n",
    "    notes_cols=[\"notes\"],\n",
    ")"
   ]
  },
  {
   "cell_type": "code",
   "execution_count": 125,
   "id": "d2d15a6b-9c44-4124-8d60-da74a9180c52",
   "metadata": {},
   "outputs": [
    {
     "name": "stderr",
     "output_type": "stream",
     "text": [
      "/tmp/ipykernel_357/4209738999.py:67: UserWarning: This pattern is interpreted as a regular expression, and has match groups. To actually get the groups, use str.extract.\n",
      "  cost_columns = df.columns[df.columns.str.contains(\"(cost|funds)\")].tolist()\n"
     ]
    }
   ],
   "source": [
    "blackcat_df_harmonized = harmonizing(\n",
    "    df=blackcat_df,\n",
    "    agency_name_col=\"organization_name\",\n",
    "    project_name_col=\"\",\n",
    "    project_description_col=\"description\",\n",
    "    phase_col=\"\",\n",
    "    project_cost_col=\"\",\n",
    "    geography_col=\"\",\n",
    "    post_mile_col=\"\",\n",
    "    county_col=\"\",\n",
    "    city_col=\"\",\n",
    "    district_col=\"\",\n",
    "    project_start_year_col=\"project_year\",\n",
    "    project_completion_year_col=\"\",\n",
    "    program_col=\"funding_program\",\n",
    "    data_source=\"data_source\",\n",
    "    fund_cols=[\"allocationamount\"],\n",
    "    notes_cols=[\n",
    "        \"project_status\",\n",
    "        \"grant_fiscal_year\",\n",
    "        \"project_closed_by\",\n",
    "        \"project_closed_date\",\n",
    "        \"project_closed_time\",\n",
    "    ],\n",
    ")"
   ]
  },
  {
   "cell_type": "code",
   "execution_count": 126,
   "id": "0d459490-28dc-4670-b255-956fc125b1e5",
   "metadata": {},
   "outputs": [
    {
     "data": {
      "text/html": [
       "<div>\n",
       "<style scoped>\n",
       "    .dataframe tbody tr th:only-of-type {\n",
       "        vertical-align: middle;\n",
       "    }\n",
       "\n",
       "    .dataframe tbody tr th {\n",
       "        vertical-align: top;\n",
       "    }\n",
       "\n",
       "    .dataframe thead th {\n",
       "        text-align: right;\n",
       "    }\n",
       "</style>\n",
       "<table border=\"1\" class=\"dataframe\">\n",
       "  <thead>\n",
       "    <tr style=\"text-align: right;\">\n",
       "      <th></th>\n",
       "      <th>project_title</th>\n",
       "      <th>lead_agency</th>\n",
       "      <th>project_description</th>\n",
       "      <th>total_project_cost</th>\n",
       "      <th>total_available_funds</th>\n",
       "      <th>unfunded_needs_estimate</th>\n",
       "      <th>phase</th>\n",
       "      <th>post_mile</th>\n",
       "      <th>county</th>\n",
       "      <th>city</th>\n",
       "      <th>ct_district</th>\n",
       "      <th>project_start_year</th>\n",
       "      <th>project_completion_year</th>\n",
       "      <th>geometry</th>\n",
       "      <th>grant_program</th>\n",
       "      <th>source</th>\n",
       "      <th>notes</th>\n",
       "    </tr>\n",
       "  </thead>\n",
       "  <tbody>\n",
       "    <tr>\n",
       "      <th>18</th>\n",
       "      <td>None</td>\n",
       "      <td>San Diego Metropolitan Transit System</td>\n",
       "      <td>Operating Assistance Sliding Scale</td>\n",
       "      <td>0</td>\n",
       "      <td>131388.00</td>\n",
       "      <td>-131388.00</td>\n",
       "      <td>None</td>\n",
       "      <td>None</td>\n",
       "      <td>None</td>\n",
       "      <td>None</td>\n",
       "      <td>None</td>\n",
       "      <td>2017</td>\n",
       "      <td>None</td>\n",
       "      <td>None</td>\n",
       "      <td>Section 5311</td>\n",
       "      <td>Blackcat</td>\n",
       "      <td>project status: Open,  grant fiscal year: 2014,  project closed by: nan,  project closed date: nan,  project closed time: nan</td>\n",
       "    </tr>\n",
       "  </tbody>\n",
       "</table>\n",
       "</div>"
      ],
      "text/plain": [
       "   project_title                            lead_agency  \\\n",
       "18          None  San Diego Metropolitan Transit System   \n",
       "\n",
       "                    project_description  total_project_cost  \\\n",
       "18  Operating Assistance Sliding Scale                    0   \n",
       "\n",
       "    total_available_funds  unfunded_needs_estimate phase post_mile county  \\\n",
       "18              131388.00               -131388.00  None      None   None   \n",
       "\n",
       "    city ct_district  project_start_year project_completion_year geometry  \\\n",
       "18  None        None                2017                    None     None   \n",
       "\n",
       "   grant_program    source  \\\n",
       "18  Section 5311  Blackcat   \n",
       "\n",
       "                                                                                                                             notes  \n",
       "18   project status: Open,  grant fiscal year: 2014,  project closed by: nan,  project closed date: nan,  project closed time: nan  "
      ]
     },
     "execution_count": 126,
     "metadata": {},
     "output_type": "execute_result"
    }
   ],
   "source": [
    "blackcat_df_harmonized.sample()"
   ]
  },
  {
   "cell_type": "code",
   "execution_count": 127,
   "id": "dbe02b35-3725-4ca1-9f81-763053005614",
   "metadata": {},
   "outputs": [],
   "source": [
    "sb1_df[\"source\"] = \"SB1 Feature Server\""
   ]
  },
  {
   "cell_type": "code",
   "execution_count": 128,
   "id": "a7102189-3816-4423-9220-0dc340603b37",
   "metadata": {},
   "outputs": [
    {
     "name": "stderr",
     "output_type": "stream",
     "text": [
      "/tmp/ipykernel_357/4209738999.py:67: UserWarning: This pattern is interpreted as a regular expression, and has match groups. To actually get the groups, use str.extract.\n",
      "  cost_columns = df.columns[df.columns.str.contains(\"(cost|funds)\")].tolist()\n"
     ]
    }
   ],
   "source": [
    "sb1_df_harmonized = harmonizing(\n",
    "    df=sb1_df,\n",
    "    agency_name_col=\"projagency\",\n",
    "    project_name_col=\"projname\",\n",
    "    project_description_col=\"description\",\n",
    "    phase_col=\"\",\n",
    "    project_cost_col=\"totalcosts\",\n",
    "    geography_col=\"geometry\",\n",
    "    post_mile_col=\"\",\n",
    "    county_col=\"countyname\",\n",
    "    city_col=\"cityname\",\n",
    "    district_col=\"\",\n",
    "    project_start_year_col=\"\",\n",
    "    project_completion_year_col=\"\",\n",
    "    program_col=\"projprogram\",\n",
    "    data_source=\"source\",\n",
    "    fund_cols=[],\n",
    "    notes_cols=[\n",
    "        \"projcategory\",\n",
    "        \"projprogcode\",\n",
    "        \"multiprogfunded\",\n",
    "        \"projstatus\",\n",
    "        \"cost\",\n",
    "        \"assemblydistrict\",\n",
    "        \"senatedistrict\",\n",
    "        \"assemblycode\",\n",
    "        \"senatecode\",\n",
    "        \"appagencyname\",\n",
    "        \"impagencyname\",\n",
    "        \"routes\",\n",
    "        \"constyear\",\n",
    "        \"costfull\",\n",
    "    ],\n",
    ")"
   ]
  },
  {
   "cell_type": "code",
   "execution_count": 129,
   "id": "2cca67e1-da72-45bf-aa5c-3ca79f2d8efe",
   "metadata": {},
   "outputs": [
    {
     "data": {
      "text/html": [
       "<div>\n",
       "<style scoped>\n",
       "    .dataframe tbody tr th:only-of-type {\n",
       "        vertical-align: middle;\n",
       "    }\n",
       "\n",
       "    .dataframe tbody tr th {\n",
       "        vertical-align: top;\n",
       "    }\n",
       "\n",
       "    .dataframe thead th {\n",
       "        text-align: right;\n",
       "    }\n",
       "</style>\n",
       "<table border=\"1\" class=\"dataframe\">\n",
       "  <thead>\n",
       "    <tr style=\"text-align: right;\">\n",
       "      <th></th>\n",
       "      <th>project_time_horizon</th>\n",
       "      <th>project_name</th>\n",
       "      <th>project_description</th>\n",
       "      <th>lead_agency</th>\n",
       "      <th>total_project_cost</th>\n",
       "      <th>srp_region</th>\n",
       "      <th>corridor</th>\n",
       "      <th>sub_corridor_node_1</th>\n",
       "      <th>sub_corridor_node_2</th>\n",
       "      <th>itsp_corridor</th>\n",
       "      <th>project_category</th>\n",
       "      <th>source</th>\n",
       "      <th>program</th>\n",
       "    </tr>\n",
       "  </thead>\n",
       "  <tbody>\n",
       "    <tr>\n",
       "      <th>36</th>\n",
       "      <td>Near Term</td>\n",
       "      <td>Perris South Station and Layover Track Expansion</td>\n",
       "      <td>Add New track and a second platform at the Perris South Station along with a fourth layover track at the maintenance facility.</td>\n",
       "      <td>**Other</td>\n",
       "      <td>25000000</td>\n",
       "      <td>Southern California Megaregion</td>\n",
       "      <td>Inland Empire Corridor</td>\n",
       "      <td>Riverside</td>\n",
       "      <td>Hemet</td>\n",
       "      <td>South Coast - Central Coast</td>\n",
       "      <td>Capital</td>\n",
       "      <td>State Rail Plan</td>\n",
       "      <td>State Rail Plan</td>\n",
       "    </tr>\n",
       "  </tbody>\n",
       "</table>\n",
       "</div>"
      ],
      "text/plain": [
       "   project_time_horizon                                      project_name  \\\n",
       "36            Near Term  Perris South Station and Layover Track Expansion   \n",
       "\n",
       "                                                                                                               project_description  \\\n",
       "36  Add New track and a second platform at the Perris South Station along with a fourth layover track at the maintenance facility.   \n",
       "\n",
       "   lead_agency total_project_cost                      srp_region  \\\n",
       "36     **Other           25000000  Southern California Megaregion   \n",
       "\n",
       "                  corridor sub_corridor_node_1 sub_corridor_node_2  \\\n",
       "36  Inland Empire Corridor           Riverside               Hemet   \n",
       "\n",
       "                  itsp_corridor project_category           source  \\\n",
       "36  South Coast - Central Coast          Capital  State Rail Plan   \n",
       "\n",
       "            program  \n",
       "36  State Rail Plan  "
      ]
     },
     "execution_count": 129,
     "metadata": {},
     "output_type": "execute_result"
    }
   ],
   "source": [
    "srp_df.sample()"
   ]
  },
  {
   "cell_type": "code",
   "execution_count": 130,
   "id": "793f5595-df8d-4d41-aedd-648cb2ddb93b",
   "metadata": {},
   "outputs": [],
   "source": [
    "srp_df[\"source\"] = \"State Rail Plan\""
   ]
  },
  {
   "cell_type": "code",
   "execution_count": 131,
   "id": "aa311bd3-eff0-43f6-afdf-d6b9777b362f",
   "metadata": {},
   "outputs": [],
   "source": [
    "srp_df[\"program\"] = \"State Rail Plan\""
   ]
  },
  {
   "cell_type": "code",
   "execution_count": 132,
   "id": "a2d74753-0c1c-4a40-a5ed-761074112b13",
   "metadata": {},
   "outputs": [
    {
     "name": "stderr",
     "output_type": "stream",
     "text": [
      "/tmp/ipykernel_357/4209738999.py:67: UserWarning: This pattern is interpreted as a regular expression, and has match groups. To actually get the groups, use str.extract.\n",
      "  cost_columns = df.columns[df.columns.str.contains(\"(cost|funds)\")].tolist()\n"
     ]
    }
   ],
   "source": [
    "srp_df_harmonized = harmonizing(\n",
    "    df=srp_df,\n",
    "    agency_name_col=\"lead_agency\",\n",
    "    project_name_col=\"project_name\",\n",
    "    project_description_col=\"project_description\",\n",
    "    phase_col=\"\",\n",
    "    project_cost_col=\"total_project_cost\",\n",
    "    geography_col=\"\",\n",
    "    post_mile_col=\"\",\n",
    "    county_col=\"\",\n",
    "    city_col=\"\",\n",
    "    district_col=\"\",\n",
    "    project_start_year_col=\"\",\n",
    "    project_completion_year_col=\"\",\n",
    "    program_col=\"program\",\n",
    "    data_source=\"source\",\n",
    "    fund_cols=[],\n",
    "    notes_cols=[\n",
    "        \"project_time_horizon\",\n",
    "        \"srp_region\",\n",
    "        \"corridor\",\n",
    "        \"sub_corridor_node_1\",\n",
    "        \"sub_corridor_node_2\",\n",
    "        \"itsp_corridor\",\n",
    "        \"project_category\",\n",
    "    ],\n",
    ")"
   ]
  },
  {
   "cell_type": "code",
   "execution_count": 133,
   "id": "e2b06743-540e-40d0-82cc-c72411b5cf9b",
   "metadata": {},
   "outputs": [
    {
     "data": {
      "text/plain": [
       "Index(['project_id', 'comment_desc', 'est_total_prj_costs', 'location_name',\n",
       "       'project_label_name', 'original_post_mile_begin_id',\n",
       "       'original_post_mile_end_id', 'revised_post_mile_begin_ind',\n",
       "       'revised_post_mile_end_ind', 'route_name', 'state_hwy_ind',\n",
       "       'senate_district_code', 'update_date_time', 'agency_name',\n",
       "       'urban_area_code', 'work_type_desc', 'category_desc', 'current_phase',\n",
       "       'county_name', 'project_label_name', 'district_code', 'grant_program',\n",
       "       'state_fiscal_awarded_year'],\n",
       "      dtype='object')"
      ]
     },
     "execution_count": 133,
     "metadata": {},
     "output_type": "execute_result"
    }
   ],
   "source": [
    "lp2000_df.columns"
   ]
  },
  {
   "cell_type": "code",
   "execution_count": 134,
   "id": "61691c27-c3a7-4864-a365-62d931b47e8f",
   "metadata": {},
   "outputs": [
    {
     "data": {
      "text/html": [
       "<div>\n",
       "<style scoped>\n",
       "    .dataframe tbody tr th:only-of-type {\n",
       "        vertical-align: middle;\n",
       "    }\n",
       "\n",
       "    .dataframe tbody tr th {\n",
       "        vertical-align: top;\n",
       "    }\n",
       "\n",
       "    .dataframe thead th {\n",
       "        text-align: right;\n",
       "    }\n",
       "</style>\n",
       "<table border=\"1\" class=\"dataframe\">\n",
       "  <thead>\n",
       "    <tr style=\"text-align: right;\">\n",
       "      <th></th>\n",
       "      <th>project_id</th>\n",
       "      <th>comment_desc</th>\n",
       "      <th>est_total_prj_costs</th>\n",
       "      <th>location_name</th>\n",
       "      <th>project_label_name</th>\n",
       "      <th>original_post_mile_begin_id</th>\n",
       "      <th>original_post_mile_end_id</th>\n",
       "      <th>revised_post_mile_begin_ind</th>\n",
       "      <th>revised_post_mile_end_ind</th>\n",
       "      <th>route_name</th>\n",
       "      <th>state_hwy_ind</th>\n",
       "      <th>senate_district_code</th>\n",
       "      <th>update_date_time</th>\n",
       "      <th>agency_name</th>\n",
       "      <th>urban_area_code</th>\n",
       "      <th>work_type_desc</th>\n",
       "      <th>category_desc</th>\n",
       "      <th>current_phase</th>\n",
       "      <th>county_name</th>\n",
       "      <th>project_label_name</th>\n",
       "      <th>district_code</th>\n",
       "      <th>grant_program</th>\n",
       "      <th>state_fiscal_awarded_year</th>\n",
       "    </tr>\n",
       "  </thead>\n",
       "  <tbody>\n",
       "    <tr>\n",
       "      <th>5628</th>\n",
       "      <td>6204(069)</td>\n",
       "      <td>HOV Lane</td>\n",
       "      <td>NaN</td>\n",
       "      <td>Santa Rosa-Windsor : US 101 btw Steele Lane in Santa Rosa and Windsor River in windsor; Widen from 4 to 6 lanes for High Occupancy Vehicle (HOV) lanes</td>\n",
       "      <td>HOV Lane</td>\n",
       "      <td>NaN</td>\n",
       "      <td>NaN</td>\n",
       "      <td>NaN</td>\n",
       "      <td>NaN</td>\n",
       "      <td>101-CT04</td>\n",
       "      <td>Y</td>\n",
       "      <td>NaN</td>\n",
       "      <td>2023-10-17 13:27:38</td>\n",
       "      <td>Caltrans</td>\n",
       "      <td>NaN</td>\n",
       "      <td>NaN</td>\n",
       "      <td>HOV Lane</td>\n",
       "      <td>single phase</td>\n",
       "      <td>Sonoma County</td>\n",
       "      <td>HOV Lane</td>\n",
       "      <td>4.00</td>\n",
       "      <td>NaN</td>\n",
       "      <td>NaN</td>\n",
       "    </tr>\n",
       "  </tbody>\n",
       "</table>\n",
       "</div>"
      ],
      "text/plain": [
       "     project_id comment_desc  est_total_prj_costs  \\\n",
       "5628  6204(069)     HOV Lane                  NaN   \n",
       "\n",
       "                                                                                                                                               location_name  \\\n",
       "5628  Santa Rosa-Windsor : US 101 btw Steele Lane in Santa Rosa and Windsor River in windsor; Widen from 4 to 6 lanes for High Occupancy Vehicle (HOV) lanes   \n",
       "\n",
       "     project_label_name  original_post_mile_begin_id  \\\n",
       "5628           HOV Lane                          NaN   \n",
       "\n",
       "      original_post_mile_end_id revised_post_mile_begin_ind  \\\n",
       "5628                        NaN                         NaN   \n",
       "\n",
       "     revised_post_mile_end_ind route_name state_hwy_ind  senate_district_code  \\\n",
       "5628                       NaN   101-CT04             Y                   NaN   \n",
       "\n",
       "        update_date_time agency_name  urban_area_code work_type_desc  \\\n",
       "5628 2023-10-17 13:27:38    Caltrans              NaN            NaN   \n",
       "\n",
       "     category_desc current_phase    county_name project_label_name  \\\n",
       "5628      HOV Lane  single phase  Sonoma County           HOV Lane   \n",
       "\n",
       "      district_code grant_program  state_fiscal_awarded_year  \n",
       "5628           4.00           NaN                        NaN  "
      ]
     },
     "execution_count": 134,
     "metadata": {},
     "output_type": "execute_result"
    }
   ],
   "source": [
    "lp2000_df.sample()"
   ]
  }
 ],
 "metadata": {
  "kernelspec": {
   "display_name": "Python 3 (ipykernel)",
   "language": "python",
   "name": "python3"
  },
  "language_info": {
   "codemirror_mode": {
    "name": "ipython",
    "version": 3
   },
   "file_extension": ".py",
   "mimetype": "text/x-python",
   "name": "python",
   "nbconvert_exporter": "python",
   "pygments_lexer": "ipython3",
   "version": "3.9.13"
  }
 },
 "nbformat": 4,
 "nbformat_minor": 5
}
