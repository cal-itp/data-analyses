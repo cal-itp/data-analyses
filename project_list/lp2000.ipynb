{
 "cells": [
  {
   "cell_type": "code",
   "execution_count": null,
   "id": "40251a67",
   "metadata": {},
   "outputs": [],
   "source": [
    "import pandas as pd \n",
    "import sqlalchemy \n",
    "import sys \n",
    "import oracledb "
   ]
  },
  {
   "cell_type": "code",
   "execution_count": null,
   "id": "0a7ac8d0",
   "metadata": {},
   "outputs": [],
   "source": [
    "oracledb.version = \"8.3.0\" \n",
    "sys.modules[\"cx_Oracle\"] = oracledb "
   ]
  },
  {
   "cell_type": "code",
   "execution_count": null,
   "id": "dec52f0e",
   "metadata": {},
   "outputs": [],
   "source": [
    "pd.options.display.max_columns = 100\n",
    "pd.options.display.float_format = \"{:.2f}\".format\n",
    "pd.set_option(\"display.max_rows\", None)\n",
    "pd.set_option(\"display.max_colwidth\", None)"
   ]
  },
  {
   "cell_type": "code",
   "execution_count": null,
   "id": "bdf35c70",
   "metadata": {},
   "outputs": [],
   "source": [
    "DIALECT = 'oracle'  "
   ]
  },
  {
   "cell_type": "code",
   "execution_count": null,
   "id": "7210ddf6",
   "metadata": {},
   "outputs": [],
   "source": [
    "ENGINE_PATH_WIN_AUTH =  f\"{DIALECT}://{USERNAME}:{PASSWORD}@{HOST}:{PORT}/?service_name={SERVICE}\" "
   ]
  },
  {
   "cell_type": "code",
   "execution_count": null,
   "id": "9d1d3f39",
   "metadata": {},
   "outputs": [],
   "source": [
    "engine = sqlalchemy.create_engine(ENGINE_PATH_WIN_AUTH)   "
   ]
  },
  {
   "cell_type": "markdown",
   "id": "222253a6",
   "metadata": {},
   "source": [
    "## Projects\n",
    "* Each project has a unique row\n",
    "* Use status_code to filter only for active projects"
   ]
  },
  {
   "cell_type": "code",
   "execution_count": null,
   "id": "9a69d8a0",
   "metadata": {},
   "outputs": [],
   "source": [
    "projects_df = pd.read_sql_query(\"\"\" \n",
    "SELECT \n",
    "agency_code,\n",
    "county_code,\n",
    "comment_desc,\n",
    "district_code, \n",
    "est_total_prj_costs,\n",
    "location_name,\n",
    "project_id, \n",
    "project_label_name,\n",
    "project_planning_id,\n",
    "project_category_type_code,\n",
    "original_post_mile_begin_id,\n",
    "original_post_mile_end_id,\n",
    "revised_post_mile_begin_ind,\n",
    "revised_post_mile_end_ind,\n",
    "route_name,\n",
    "state_hwy_ind,\n",
    "senate_district_code,\n",
    "work_type_code \n",
    "FROM projects \n",
    "WHERE status_code = 'Active'\n",
    "\"\"\", engine) "
   ]
  },
  {
   "cell_type": "code",
   "execution_count": null,
   "id": "3335ae5e",
   "metadata": {},
   "outputs": [],
   "source": [
    "projects_df.shape"
   ]
  },
  {
   "cell_type": "code",
   "execution_count": null,
   "id": "b0a79691",
   "metadata": {},
   "outputs": [],
   "source": [
    "projects_df.head()"
   ]
  },
  {
   "cell_type": "code",
   "execution_count": null,
   "id": "9ba2f70d",
   "metadata": {},
   "outputs": [],
   "source": [
    "projects_df.project_id.nunique()"
   ]
  },
  {
   "cell_type": "markdown",
   "id": "60e63700",
   "metadata": {},
   "source": [
    "## Local Agencies"
   ]
  },
  {
   "cell_type": "code",
   "execution_count": null,
   "id": "c7faaf6a",
   "metadata": {},
   "outputs": [],
   "source": [
    "local_agencies_df = pd.read_sql_query(\"\"\" \n",
    "SELECT \n",
    "agency_code,\n",
    "agency_name,\n",
    "congressional_district,\n",
    "urban_area_code\n",
    "FROM local_agencies\n",
    "\"\"\", engine) "
   ]
  },
  {
   "cell_type": "code",
   "execution_count": null,
   "id": "2d497582",
   "metadata": {},
   "outputs": [],
   "source": [
    "local_agencies_df.shape"
   ]
  },
  {
   "cell_type": "code",
   "execution_count": null,
   "id": "d1dfbd73",
   "metadata": {},
   "outputs": [],
   "source": [
    "local_agencies_df.agency_name.nunique()"
   ]
  },
  {
   "cell_type": "code",
   "execution_count": null,
   "id": "07c86490",
   "metadata": {},
   "outputs": [],
   "source": [
    "projects_df2 = pd.merge(projects_df, local_agencies_df, on = \"agency_code\", how = \"left\")"
   ]
  },
  {
   "cell_type": "markdown",
   "id": "533e3403",
   "metadata": {},
   "source": [
    "## Counties\n"
   ]
  },
  {
   "cell_type": "code",
   "execution_count": null,
   "id": "ac80c6e0",
   "metadata": {},
   "outputs": [],
   "source": [
    "counties_df = pd.read_sql_query(\"\"\" \n",
    "SELECT \n",
    "county_code,\n",
    "county_name\n",
    "FROM counties\n",
    "\"\"\", engine) "
   ]
  },
  {
   "cell_type": "code",
   "execution_count": null,
   "id": "301cb30f",
   "metadata": {},
   "outputs": [],
   "source": [
    "counties_df.shape"
   ]
  },
  {
   "cell_type": "code",
   "execution_count": null,
   "id": "a1d883fb",
   "metadata": {},
   "outputs": [],
   "source": [
    "projects_df3 = pd.merge(projects_df2, counties_df, on = \"county_code\", how = \"left\")"
   ]
  },
  {
   "cell_type": "code",
   "execution_count": null,
   "id": "b90d3671",
   "metadata": {},
   "outputs": [],
   "source": [
    "projects_df3 = projects_df3.drop(columns = ['agency_code', 'county_code'])"
   ]
  },
  {
   "cell_type": "markdown",
   "id": "e2b15cef",
   "metadata": {},
   "source": [
    "## Work Types"
   ]
  },
  {
   "cell_type": "code",
   "execution_count": null,
   "id": "0007bd00",
   "metadata": {},
   "outputs": [],
   "source": [
    "work_types_df = pd.read_sql_query(\"\"\" \n",
    "SELECT \n",
    "work_type_code,\n",
    "work_type_desc\n",
    "FROM work_types\n",
    "\"\"\", engine) "
   ]
  },
  {
   "cell_type": "code",
   "execution_count": null,
   "id": "0c099f14",
   "metadata": {},
   "outputs": [],
   "source": [
    "projects_df4 = pd.merge(projects_df3, work_types_df, on = \"work_type_code\", how = \"left\")"
   ]
  },
  {
   "cell_type": "code",
   "execution_count": null,
   "id": "e570d68a",
   "metadata": {},
   "outputs": [],
   "source": [
    "projects_df4.sample(3)"
   ]
  },
  {
   "cell_type": "code",
   "execution_count": null,
   "id": "a09b7b69",
   "metadata": {},
   "outputs": [],
   "source": [
    "projects_df4.columns"
   ]
  },
  {
   "cell_type": "code",
   "execution_count": null,
   "id": "c323bc77",
   "metadata": {},
   "outputs": [],
   "source": [
    "projects_df4[['project_planning_id','district_code']].sample(1)"
   ]
  },
  {
   "cell_type": "markdown",
   "id": "59421e10",
   "metadata": {},
   "source": [
    "## EA Number\n",
    "project_id,\n",
    "district_code,\n",
    "ea_assign_date,\n",
    "expense_authorization_id\n",
    "FROM"
   ]
  },
  {
   "cell_type": "code",
   "execution_count": null,
   "id": "8e96b9a3",
   "metadata": {},
   "outputs": [],
   "source": [
    "ea_df = pd.read_sql_query(\"\"\" \n",
    "SELECT \n",
    "* FROM expense_authorizations\n",
    "\"\"\", engine) "
   ]
  },
  {
   "cell_type": "code",
   "execution_count": null,
   "id": "e2b1efa9",
   "metadata": {},
   "outputs": [],
   "source": [
    "ea_df.shape, ea_df.project_id.nunique()"
   ]
  },
  {
   "cell_type": "code",
   "execution_count": null,
   "id": "7e7bbc88",
   "metadata": {},
   "outputs": [],
   "source": [
    "ea_df.columns"
   ]
  },
  {
   "cell_type": "code",
   "execution_count": null,
   "id": "f5d56558",
   "metadata": {},
   "outputs": [],
   "source": [
    "# join with only the relevant projects 1st\n",
    "outer_join = pd.merge(ea_df, projects_df4, on = ['district_code','project_id'], how = \"outer\", indicator = True)"
   ]
  },
  {
   "cell_type": "code",
   "execution_count": null,
   "id": "9ad33039",
   "metadata": {},
   "outputs": [],
   "source": [
    "outer_join[['_merge']].value_counts()"
   ]
  },
  {
   "cell_type": "code",
   "execution_count": null,
   "id": "4435941e",
   "metadata": {},
   "outputs": [],
   "source": [
    "outer_join.loc[outer_join._merge == \"both\"][['project_id']].nunique()"
   ]
  },
  {
   "cell_type": "code",
   "execution_count": null,
   "id": "8f2ead77",
   "metadata": {},
   "outputs": [],
   "source": [
    "\n",
    "ea_df = pd.merge(projects_df4, ea_df, on = ['district_code','project_id'], how = \"inner\")"
   ]
  },
  {
   "cell_type": "code",
   "execution_count": null,
   "id": "0447abe1",
   "metadata": {},
   "outputs": [],
   "source": [
    "ea_og_cols = ['district_code', 'expense_authorization_id', 'project_id',\n",
    "       'multi_phase_ind', 'ea_assign_date', 'updater_user_name',\n",
    "       'last_digit_validation_no', 'ea_comments']"
   ]
  },
  {
   "cell_type": "code",
   "execution_count": null,
   "id": "9a82f706",
   "metadata": {},
   "outputs": [],
   "source": [
    "ea_df = ea_df[ea_og_cols]"
   ]
  },
  {
   "cell_type": "code",
   "execution_count": null,
   "id": "1f8ffb92",
   "metadata": {},
   "outputs": [],
   "source": [
    "len(ea_df)"
   ]
  },
  {
   "cell_type": "code",
   "execution_count": null,
   "id": "6ae80a06",
   "metadata": {},
   "outputs": [],
   "source": [
    "ea_df.project_id.value_counts().describe()"
   ]
  },
  {
   "cell_type": "code",
   "execution_count": null,
   "id": "9d69bfa7",
   "metadata": {},
   "outputs": [],
   "source": [
    "ea_df.project_id.value_counts().head()"
   ]
  },
  {
   "cell_type": "code",
   "execution_count": null,
   "id": "08f6913c",
   "metadata": {},
   "outputs": [],
   "source": [
    "ea_df.loc[ea_df.project_id == \"5932(042)\"].sort_values(['ea_assign_date'], ascending = False)"
   ]
  },
  {
   "cell_type": "code",
   "execution_count": null,
   "id": "476e6dff",
   "metadata": {},
   "outputs": [],
   "source": [
    "# ea_df.loc[ea_df.project_id == \"5006(504)\"].sort_values(['ea_assign_date'], ascending = False)"
   ]
  },
  {
   "cell_type": "code",
   "execution_count": null,
   "id": "35dfd72b",
   "metadata": {},
   "outputs": [],
   "source": [
    "# ea_df = ea_df.sort_values(['ea_assign_date'], ascending = False).reset_index(drop = True)"
   ]
  },
  {
   "cell_type": "code",
   "execution_count": null,
   "id": "94bfd3b3",
   "metadata": {},
   "outputs": [],
   "source": [
    "ea_df.project_id.nunique()"
   ]
  },
  {
   "cell_type": "code",
   "execution_count": null,
   "id": "81aaa156",
   "metadata": {},
   "outputs": [],
   "source": [
    "ea_df2.project_id.nunique()"
   ]
  },
  {
   "cell_type": "code",
   "execution_count": null,
   "id": "4280b3ac",
   "metadata": {},
   "outputs": [],
   "source": [
    "ea_df2.expense_authorization_id.nunique()"
   ]
  },
  {
   "cell_type": "code",
   "execution_count": null,
   "id": "2ac3fe5c",
   "metadata": {},
   "outputs": [],
   "source": [
    "ea_df2.expense_authorization_id.value_counts().head()"
   ]
  },
  {
   "cell_type": "code",
   "execution_count": null,
   "id": "e55820dc",
   "metadata": {},
   "outputs": [],
   "source": [
    "ea_df.loc[ea_df.expense_authorization_id == \"924969\"]"
   ]
  },
  {
   "cell_type": "code",
   "execution_count": null,
   "id": "c762590f",
   "metadata": {},
   "outputs": [],
   "source": [
    "ea_df.loc[ea_df.expense_authorization_id == \"924360\"]"
   ]
  },
  {
   "cell_type": "code",
   "execution_count": null,
   "id": "75c7ff9b",
   "metadata": {},
   "outputs": [],
   "source": [
    "# Keep only the most recent EA number\n",
    "# Only one EA number per project\n",
    "ea_df2 = (ea_df\n",
    "          .sort_values(['ea_assign_date'], ascending = False)\n",
    "          .drop_duplicates(subset=['project_id','district_code'])\n",
    "          .drop(columns = ['ea_assign_date'])\n",
    "          .reset_index(drop = True)\n",
    "         )"
   ]
  },
  {
   "cell_type": "code",
   "execution_count": null,
   "id": "fb5481a0",
   "metadata": {},
   "outputs": [],
   "source": [
    "ea_df2.project_id.nunique() == len(ea_df2)"
   ]
  },
  {
   "cell_type": "code",
   "execution_count": null,
   "id": "a74d0854",
   "metadata": {},
   "outputs": [],
   "source": [
    "ea_df2.loc[ea_df2.project_id == \"5006(504)\"]"
   ]
  },
  {
   "cell_type": "code",
   "execution_count": null,
   "id": "05e1e412",
   "metadata": {},
   "outputs": [],
   "source": [
    "# Merge with project\n",
    "projects_df5 = pd.merge(projects_df4, ea_df2, on = ['district_code','project_id'], how = \"left\")"
   ]
  },
  {
   "cell_type": "code",
   "execution_count": null,
   "id": "e660fb75",
   "metadata": {},
   "outputs": [],
   "source": [
    "len(projects_df5) == len(projects_df)"
   ]
  },
  {
   "cell_type": "code",
   "execution_count": null,
   "id": "3698c445",
   "metadata": {},
   "outputs": [],
   "source": [
    "projects_df5.loc[projects_df5.project_id == \"5006(504)\"]"
   ]
  },
  {
   "cell_type": "markdown",
   "id": "97965180",
   "metadata": {},
   "source": [
    "## Agreement & Fund Program Year\n",
    "* How does this differ from the Finance Letter?\n",
    "* What does the program_code stand for...\n",
    "* What's the difference between program_year.agreement vs fund_program_year.fund_programmed_amounts"
   ]
  },
  {
   "cell_type": "code",
   "execution_count": null,
   "id": "944f3071",
   "metadata": {},
   "outputs": [],
   "source": [
    "agreement_df = pd.read_sql_query(\"\"\" \n",
    "SELECT \n",
    "program_year,\n",
    "prefix_project_id,\n",
    "program_code \n",
    "FROM agreements\n",
    "WHERE program_year IS NOT null\n",
    "\"\"\", engine) "
   ]
  },
  {
   "cell_type": "code",
   "execution_count": null,
   "id": "5c6d4b33",
   "metadata": {},
   "outputs": [],
   "source": [
    "agreement_df.head()"
   ]
  },
  {
   "cell_type": "code",
   "execution_count": null,
   "id": "4037f6a6",
   "metadata": {},
   "outputs": [],
   "source": [
    "agreement_df[['prefix', 'project_id']] = agreement_df.prefix_project_id.str.rsplit('-', n=1, expand=True)"
   ]
  },
  {
   "cell_type": "code",
   "execution_count": null,
   "id": "bdf1b9bb",
   "metadata": {},
   "outputs": [],
   "source": [
    "agreement_df.shape, agreement_df.prefix_project_id.nunique()"
   ]
  },
  {
   "cell_type": "code",
   "execution_count": null,
   "id": "7df6ce8d",
   "metadata": {},
   "outputs": [],
   "source": [
    "agreement_df.prefix.value_counts().head()"
   ]
  },
  {
   "cell_type": "code",
   "execution_count": null,
   "id": "92fd1342",
   "metadata": {},
   "outputs": [],
   "source": [
    "agreement_df.program_code.value_counts()"
   ]
  },
  {
   "cell_type": "markdown",
   "id": "684b412c",
   "metadata": {},
   "source": [
    "### Fund Programmed Amounts\n",
    "* what do the acronyms stand for?"
   ]
  },
  {
   "cell_type": "code",
   "execution_count": null,
   "id": "b144e422",
   "metadata": {},
   "outputs": [],
   "source": [
    "fund_program_df = pd.read_sql_query(\"\"\" \n",
    "SELECT *\n",
    "FROM fund_programed_amounts\n",
    "\"\"\", engine) "
   ]
  },
  {
   "cell_type": "code",
   "execution_count": null,
   "id": "e3e2638d",
   "metadata": {},
   "outputs": [],
   "source": [
    "fund_program_df.project_id.nunique(), fund_program_df.shape"
   ]
  },
  {
   "cell_type": "code",
   "execution_count": null,
   "id": "68a9c7b1",
   "metadata": {},
   "outputs": [],
   "source": [
    "og_fund_cols = list(fund_program_df.columns)"
   ]
  },
  {
   "cell_type": "code",
   "execution_count": null,
   "id": "0140a8e3",
   "metadata": {},
   "outputs": [],
   "source": [
    "# Merge with project_df6 to get only the projects we care about\n",
    "fund_program_df2 = pd.merge(fund_program_df, projects_df5, on = \"project_id\", how ='inner')"
   ]
  },
  {
   "cell_type": "code",
   "execution_count": null,
   "id": "923649ae",
   "metadata": {},
   "outputs": [],
   "source": [
    "fund_program_df2.project_id.nunique()"
   ]
  },
  {
   "cell_type": "code",
   "execution_count": null,
   "id": "701d99d7",
   "metadata": {},
   "outputs": [],
   "source": [
    "fund_program_df2.project_id.value_counts().head()"
   ]
  },
  {
   "cell_type": "code",
   "execution_count": null,
   "id": "cae5757b",
   "metadata": {},
   "outputs": [],
   "source": [
    "fund_program_df2 = fund_program_df2[og_fund_cols]"
   ]
  },
  {
   "cell_type": "code",
   "execution_count": null,
   "id": "bf6659e0",
   "metadata": {},
   "outputs": [],
   "source": [
    "fund_program_df2.phase_id.unique()"
   ]
  },
  {
   "cell_type": "code",
   "execution_count": null,
   "id": "49c1e49b",
   "metadata": {},
   "outputs": [],
   "source": [
    "fund_program_df2.head()"
   ]
  },
  {
   "cell_type": "markdown",
   "id": "e3ec6d71",
   "metadata": {},
   "source": [
    "#### Test with one project"
   ]
  },
  {
   "cell_type": "code",
   "execution_count": null,
   "id": "3167b89d",
   "metadata": {},
   "outputs": [],
   "source": [
    "one_project = fund_program_df2.loc[fund_program_df2.project_id == \"5907(014)\"]"
   ]
  },
  {
   "cell_type": "code",
   "execution_count": null,
   "id": "17439ee2",
   "metadata": {},
   "outputs": [],
   "source": [
    "test_group2.loc[test_group2.project_id == \"5907(014)\"]"
   ]
  },
  {
   "cell_type": "code",
   "execution_count": null,
   "id": "c2786537",
   "metadata": {},
   "outputs": [],
   "source": [
    "one_project.ctips_id.nunique()"
   ]
  },
  {
   "cell_type": "code",
   "execution_count": null,
   "id": "d66f65af",
   "metadata": {},
   "outputs": [],
   "source": [
    "one_project.ctips_project_id.nunique()"
   ]
  },
  {
   "cell_type": "code",
   "execution_count": null,
   "id": "11363d4c",
   "metadata": {},
   "outputs": [],
   "source": [
    "one_project.groupby(['project_id','phase_id','program_code',]).agg({'programmed_amt':'sum'}).reset_index()"
   ]
  },
  {
   "cell_type": "code",
   "execution_count": null,
   "id": "ded3692e",
   "metadata": {},
   "outputs": [],
   "source": [
    "one_project"
   ]
  },
  {
   "cell_type": "markdown",
   "id": "f6536157",
   "metadata": {},
   "source": [
    "#### Merge and compare fund programmed amounts with agreement "
   ]
  },
  {
   "cell_type": "code",
   "execution_count": null,
   "id": "e3c0b24b",
   "metadata": {},
   "outputs": [],
   "source": [
    "pd.merge(fund_program_df2, agreement_df, left_on = ['project_id'], right_on = ['project_id'], how = \"outer\", indicator = True)[['_merge']].value_counts()"
   ]
  },
  {
   "cell_type": "code",
   "execution_count": null,
   "id": "20e99420",
   "metadata": {},
   "outputs": [],
   "source": [
    "m1 = pd.merge(fund_program_df2, agreement_df,  left_on = ['project_id','fund_program_year'], right_on = ['project_id','program_year'],how = \"left\", indicator = True)"
   ]
  },
  {
   "cell_type": "code",
   "execution_count": null,
   "id": "1071a25f",
   "metadata": {},
   "outputs": [],
   "source": [
    "m1.loc[m1._merge == \"both\"].head()"
   ]
  },
  {
   "cell_type": "code",
   "execution_count": null,
   "id": "dfdc221c",
   "metadata": {},
   "outputs": [],
   "source": [
    "# pd.merge(agreement_df, projects_df5, on = ['project_id'], how = \"outer\", indicator = True)[['_merge']].value_counts()"
   ]
  },
  {
   "cell_type": "code",
   "execution_count": null,
   "id": "96c07d19",
   "metadata": {},
   "outputs": [],
   "source": [
    "# projects_df6 = pd.merge(projects_df5, agreement_df, on = ['project_id'], how = \"left\")"
   ]
  },
  {
   "cell_type": "code",
   "execution_count": null,
   "id": "a6d4c686",
   "metadata": {},
   "outputs": [],
   "source": [
    "# projects_df6.program_year.value_counts()"
   ]
  },
  {
   "cell_type": "markdown",
   "id": "ee5da3dd",
   "metadata": {},
   "source": [
    "## EFIS_MV_BUD_STRU_94_LVL_3_VW\n",
    "* How to link this to `projects?`"
   ]
  },
  {
   "cell_type": "code",
   "execution_count": null,
   "id": "a8c8fe85",
   "metadata": {},
   "outputs": [],
   "source": [
    "efis_df = pd.read_sql_query(\"\"\" \n",
    "SELECT *\n",
    "FROM EFIS_MV_BUD_STRU_94_LVL_3_VW\n",
    "\"\"\", engine) "
   ]
  },
  {
   "cell_type": "code",
   "execution_count": null,
   "id": "371f02e7",
   "metadata": {},
   "outputs": [],
   "source": [
    "# This is not working \n",
    "efis_join_df = pd.read_sql_query(\"\"\" \n",
    "SELECT * FROM EFIS_MV_R_PROJECTS_VW\n",
    "\"\"\", engine) "
   ]
  },
  {
   "cell_type": "code",
   "execution_count": null,
   "id": "a80a63c1",
   "metadata": {},
   "outputs": [],
   "source": [
    "efis_df.shape"
   ]
  },
  {
   "cell_type": "code",
   "execution_count": null,
   "id": "2ea7e87d",
   "metadata": {},
   "outputs": [],
   "source": [
    "efis_df.ppno.nunique()"
   ]
  },
  {
   "cell_type": "code",
   "execution_count": null,
   "id": "f6953e60",
   "metadata": {},
   "outputs": [],
   "source": [
    "efis_df.adv_project_id.nunique()"
   ]
  },
  {
   "cell_type": "code",
   "execution_count": null,
   "id": "278047c0",
   "metadata": {},
   "outputs": [],
   "source": [
    "efis_df.head()"
   ]
  },
  {
   "cell_type": "code",
   "execution_count": null,
   "id": "433392aa",
   "metadata": {},
   "outputs": [],
   "source": [
    "pd.merge(efis_df, projects_df5, left_on = ['adv_project_id'], right_on = ['project_id'], how = 'outer', indicator = True)[['_merge']].value_counts()"
   ]
  },
  {
   "cell_type": "markdown",
   "id": "8f9de028",
   "metadata": {},
   "source": [
    "## Draft\n",
    "### Project Letter Components \n",
    "* Might not need to addthis?"
   ]
  },
  {
   "cell_type": "code",
   "execution_count": null,
   "id": "99e29abc",
   "metadata": {},
   "outputs": [],
   "source": [
    "#project_letter_df = pd.read_sql_query(\"\"\" \n",
    "#SELECT finance_letter_item_code, item_code_desc FROM finance_letter_components\n",
    "#\"\"\", engine) "
   ]
  },
  {
   "cell_type": "code",
   "execution_count": null,
   "id": "19ad3027",
   "metadata": {},
   "outputs": [],
   "source": [
    "#project_letter_df"
   ]
  },
  {
   "cell_type": "markdown",
   "id": "63f8e015",
   "metadata": {
    "tags": []
   },
   "source": [
    "### Project Finance Letters\n",
    "* What do all the item codes mean?\n",
    "* What differentiates all the finance_header from each other?"
   ]
  },
  {
   "cell_type": "code",
   "execution_count": null,
   "id": "3fcce7d4",
   "metadata": {},
   "outputs": [],
   "source": [
    "finance_letters_df = pd.read_sql_query(\"\"\" \n",
    "SELECT \n",
    "project_id, field_order_seq, fin_ltr_seq,\n",
    "       finance_letter_item_code, finance_header1, finance_amt1,\n",
    "       finance_header2, finance_amt2, finance_header3, finance_amt3,\n",
    "       finance_header4, finance_amt4, finance_header5, finance_amt5,\n",
    "       finance_header6, finance_amt6, finance_header7, finance_amt7,\n",
    "       finance_header8, finance_amt8, finance_header9, finance_amt9,\n",
    "       finance_header10, finance_amt10, finance_header11,\n",
    "       finance_amt11, finance_header12, finance_amt12,\n",
    "       finance_header13, finance_amt13, total_cost_work_amt,\n",
    "       total_participation_cost_amt, fed_reimbursement, finance_header14,\n",
    "       finance_amt14, finance_header15, finance_amt15,\n",
    "       prorata_or_lumpsum, create_date, finance_header16,\n",
    "       finance_amt16, finance_header17, finance_amt17,\n",
    "       finance_header18, finance_amt18, finance_header19,\n",
    "       finance_amt19, finance_header20, finance_amt20\n",
    "FROM project_finance_letters\n",
    "\"\"\", engine) "
   ]
  },
  {
   "cell_type": "code",
   "execution_count": null,
   "id": "1b88116b",
   "metadata": {},
   "outputs": [],
   "source": [
    "# finance_letters_df.columns"
   ]
  },
  {
   "cell_type": "code",
   "execution_count": null,
   "id": "2846191a",
   "metadata": {},
   "outputs": [],
   "source": [
    "# ['project_finance_letters.' + s for s in list(finance_letters_df.columns)]"
   ]
  },
  {
   "cell_type": "code",
   "execution_count": null,
   "id": "36fa890c",
   "metadata": {},
   "outputs": [],
   "source": [
    "finance_letters_df.project_id.nunique()"
   ]
  },
  {
   "cell_type": "code",
   "execution_count": null,
   "id": "bcef7b14",
   "metadata": {},
   "outputs": [],
   "source": [
    "finance_letters_df.project_id.value_counts().head(10)"
   ]
  },
  {
   "cell_type": "code",
   "execution_count": null,
   "id": "5c49f2d2",
   "metadata": {},
   "outputs": [],
   "source": [
    "finance_letters_df.finance_header18.value_counts()"
   ]
  },
  {
   "cell_type": "code",
   "execution_count": null,
   "id": "c19a15df",
   "metadata": {},
   "outputs": [],
   "source": [
    "finance_letters_df.finance_header10.nunique()"
   ]
  },
  {
   "cell_type": "markdown",
   "id": "8849a505",
   "metadata": {},
   "source": [
    "#### Test to see the difference between total_cost_work_amt and summing all finance_amt columns"
   ]
  },
  {
   "cell_type": "code",
   "execution_count": null,
   "id": "021a3f17",
   "metadata": {},
   "outputs": [],
   "source": [
    "test_projects = [\"6211(131)\",\"5133(035)\", \"5003(003)\"]"
   ]
  },
  {
   "cell_type": "code",
   "execution_count": null,
   "id": "8868080d",
   "metadata": {},
   "outputs": [],
   "source": [
    "# test_df = finance_letters_df.loc[finance_letters_df.project_id.isin(test_projects)].reset_index(drop = True)"
   ]
  },
  {
   "cell_type": "markdown",
   "id": "458a4283",
   "metadata": {},
   "source": [
    "* Understanding the relationship between the finance_amt columns, the total_cost_work_amt, and total_participation_cost_amt.\n",
    "* It seems like all the finance amounts summed equal to total_cost_work_amt"
   ]
  },
  {
   "cell_type": "code",
   "execution_count": null,
   "id": "32d1bf16",
   "metadata": {},
   "outputs": [],
   "source": [
    "# finance_letter_columns = list(finance_letters_df.columns)"
   ]
  },
  {
   "cell_type": "code",
   "execution_count": null,
   "id": "bee9c928",
   "metadata": {},
   "outputs": [],
   "source": [
    "# finance_amts = [col for col in finance_letter_columns if 'finance_amt' in col]"
   ]
  },
  {
   "cell_type": "code",
   "execution_count": null,
   "id": "93a85e06",
   "metadata": {},
   "outputs": [],
   "source": [
    "# finance_letters_df['all_finance_amt_summed'] = finance_letters_df[finance_amts].sum(axis=1)"
   ]
  },
  {
   "cell_type": "code",
   "execution_count": null,
   "id": "d5f6fdc3",
   "metadata": {},
   "outputs": [],
   "source": [
    "# finance_letters_df.shape,finance_letters_df.fin_ltr_seq.nunique()"
   ]
  },
  {
   "cell_type": "code",
   "execution_count": null,
   "id": "92e73a99",
   "metadata": {},
   "outputs": [],
   "source": [
    "test_grouped = (finance_letters_df\n",
    "                .groupby(['project_id','finance_letter_item_code','fin_ltr_seq'])\n",
    "                .agg({'all_finance_amt_summed':'max', 'total_cost_work_amt':'max','total_participation_cost_amt':'max'})\n",
    "                .reset_index())"
   ]
  },
  {
   "cell_type": "code",
   "execution_count": null,
   "id": "1293dd01",
   "metadata": {},
   "outputs": [],
   "source": [
    "test_grouped['finance_amt_v_to_total_cost'] = (test_grouped.all_finance_amt_summed - test_grouped.total_cost_work_amt).fillna(0).astype(int)"
   ]
  },
  {
   "cell_type": "code",
   "execution_count": null,
   "id": "9b0e9b7c",
   "metadata": {},
   "outputs": [],
   "source": [
    "test_grouped['finance_amt_v_to_parti'] = test_grouped.all_finance_amt_summed - test_grouped.total_participation_cost_amt"
   ]
  },
  {
   "cell_type": "code",
   "execution_count": null,
   "id": "c34b0c99",
   "metadata": {},
   "outputs": [],
   "source": [
    "test_grouped.finance_amt_v_to_total_cost.value_counts()"
   ]
  },
  {
   "cell_type": "code",
   "execution_count": null,
   "id": "8453b22c",
   "metadata": {},
   "outputs": [],
   "source": [
    "test_grouped.loc[test_grouped.finance_amt_v_to_total_cost == 28460]"
   ]
  },
  {
   "cell_type": "code",
   "execution_count": null,
   "id": "23798ba1",
   "metadata": {},
   "outputs": [],
   "source": [
    "finance_letters_df.project_id.value_counts().head()"
   ]
  },
  {
   "cell_type": "code",
   "execution_count": null,
   "id": "0adbfd1c",
   "metadata": {
    "scrolled": true
   },
   "outputs": [],
   "source": [
    "# test_df.loc[test_df.fin_ltr_seq == 92475].T"
   ]
  },
  {
   "cell_type": "markdown",
   "id": "d4d0a021",
   "metadata": {},
   "source": [
    "* Is it ok to sum up by project_id and phase to get the total amount?\n",
    "* How to incorporate program information?\n",
    "    * Explode finance_header stuff, separate out by commas, and remove duplicates?\n",
    "* Safe to filter out \"BLANK\" values in the finance_letter_item_code column?\n",
    "* Group columns together. Ex: Right of Way is separated into a few different columns."
   ]
  },
  {
   "cell_type": "code",
   "execution_count": null,
   "id": "ef2b5688",
   "metadata": {},
   "outputs": [],
   "source": [
    "finance_headers = [col for col in finance_letter_columns if 'finance_header' in col]"
   ]
  },
  {
   "cell_type": "code",
   "execution_count": null,
   "id": "bd4e1e6e",
   "metadata": {},
   "outputs": [],
   "source": [
    "def delete_repeated_element(df, col: str):\n",
    "    \"\"\"\n",
    "    If an element is repeated more than once and delinated by commas\n",
    "    in a column, delete the duplicative ones.\n",
    "    \n",
    "    Ex: the column \"grocery_list\" has apples, cherries, cheese, and apples.\n",
    "    Keep apples only once. \n",
    "    \"\"\"\n",
    "    df[col] = (\n",
    "        df[col]\n",
    "        .apply(lambda x: \", \".join(set([y.strip() for y in x.split(\",\")])))\n",
    "        .str.strip()\n",
    "    )\n",
    "    return df"
   ]
  },
  {
   "cell_type": "code",
   "execution_count": null,
   "id": "ea6668c7",
   "metadata": {},
   "outputs": [],
   "source": [
    "# test_df['program'] = test_df[finance_headers].apply(lambda row: ','.join(row.values.astype(str)), axis=1)"
   ]
  },
  {
   "cell_type": "code",
   "execution_count": null,
   "id": "93cd84c6",
   "metadata": {},
   "outputs": [],
   "source": [
    "# test_df = delete_repeated_element(test_df, 'program')"
   ]
  },
  {
   "cell_type": "markdown",
   "id": "1ab5f26e",
   "metadata": {},
   "source": [
    "* Why are some columns blank? Can I just delete them?"
   ]
  },
  {
   "cell_type": "code",
   "execution_count": null,
   "id": "365bf4a8",
   "metadata": {},
   "outputs": [],
   "source": [
    "test_group2 = (finance_letters_df\n",
    "               .groupby(['project_id','finance_letter_item_code'])\n",
    "               .agg({'total_cost_work_amt':'sum'})\n",
    "               .reset_index()\n",
    "              )"
   ]
  },
  {
   "cell_type": "code",
   "execution_count": null,
   "id": "c089fdd8",
   "metadata": {},
   "outputs": [],
   "source": [
    "test_group2 = (test_group2\n",
    "               .pivot(index = ['project_id'],columns = ['finance_letter_item_code'], \n",
    "                      values=[\"total_cost_work_amt\"])\n",
    "               .reset_index()\n",
    "              )"
   ]
  },
  {
   "cell_type": "code",
   "execution_count": null,
   "id": "d4103aa2",
   "metadata": {},
   "outputs": [],
   "source": [
    "test_group2.columns = test_group2.columns.droplevel(0)"
   ]
  },
  {
   "cell_type": "code",
   "execution_count": null,
   "id": "ad012725",
   "metadata": {},
   "outputs": [],
   "source": [
    "test_group2.columns"
   ]
  },
  {
   "cell_type": "code",
   "execution_count": null,
   "id": "46269381",
   "metadata": {},
   "outputs": [],
   "source": [
    "test_group2.columns = ['project_id', 'ACE', 'AFM', 'APE', 'APEPA', 'APEPS', 'BLANK', 'CON', 'CONTR',\n",
    "       'E&P', 'FACT', 'FLIN', 'OSFCE', 'OTHER', 'PS&E', 'RPC01', 'RW', 'RWAQ',\n",
    "       'RWENG', 'RWRA', 'RWURC', 'SCE', 'SFM', 'SFMT', 'SFMTO', 'SPE', 'SQA']"
   ]
  },
  {
   "cell_type": "code",
   "execution_count": null,
   "id": "d834f8ac",
   "metadata": {},
   "outputs": [],
   "source": [
    "test_group2.BLANK.value_counts()"
   ]
  },
  {
   "cell_type": "code",
   "execution_count": null,
   "id": "5a0c16cb",
   "metadata": {},
   "outputs": [],
   "source": [
    "finance_letters_df.loc[finance_letters_df.project_id == \"5133(035)\"][['finance_letter_item_code']].value_counts()"
   ]
  },
  {
   "cell_type": "code",
   "execution_count": null,
   "id": "cd2bf1c2",
   "metadata": {},
   "outputs": [],
   "source": [
    "test_group2.loc[test_group2.project_id == \"5133(035)\"]"
   ]
  },
  {
   "cell_type": "code",
   "execution_count": null,
   "id": "2bdf88c2",
   "metadata": {},
   "outputs": [],
   "source": [
    "rwaq_test = finance_letters_df[(finance_letters_df.project_id == \"5133(035)\") & (finance_letters_df.finance_letter_item_code == 'RWAQ')][['total_cost_work_amt']].sum()"
   ]
  },
  {
   "cell_type": "code",
   "execution_count": null,
   "id": "ae6160a2",
   "metadata": {},
   "outputs": [],
   "source": [
    "14418598.00 == rwaq_test"
   ]
  }
 ],
 "metadata": {
  "kernelspec": {
   "display_name": "Python 3 (ipykernel)",
   "language": "python",
   "name": "python3"
  },
  "language_info": {
   "codemirror_mode": {
    "name": "ipython",
    "version": 3
   },
   "file_extension": ".py",
   "mimetype": "text/x-python",
   "name": "python",
   "nbconvert_exporter": "python",
   "pygments_lexer": "ipython3",
   "version": "3.9.13"
  }
 },
 "nbformat": 4,
 "nbformat_minor": 5
}
