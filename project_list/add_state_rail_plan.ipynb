{
 "cells": [
  {
   "cell_type": "markdown",
   "id": "5740e08d-abf3-46b1-92b8-a8ddce585392",
   "metadata": {},
   "source": [
    "## Add State Rail Plan\n",
    "* https://dot.ca.gov/-/media/dot-media/programs/rail-mass-transportation/documents/california-state-rail-plan/20230310-casrp-appendices-final.pdf"
   ]
  },
  {
   "cell_type": "code",
   "execution_count": 1,
   "id": "01336859-33a7-4467-8117-da475df01c71",
   "metadata": {},
   "outputs": [],
   "source": [
    "import _utils\n",
    "import _state_rail_plan_utils as srp_utils\n",
    "import pandas as pd\n",
    "from calitp_data_analysis.sql import to_snakecase"
   ]
  },
  {
   "cell_type": "code",
   "execution_count": 2,
   "id": "c6197d2e-aea2-46e1-9de2-bab8904711ba",
   "metadata": {},
   "outputs": [],
   "source": [
    "pd.options.display.max_columns = 100\n",
    "pd.options.display.float_format = \"{:.2f}\".format\n",
    "pd.set_option(\"display.max_rows\", None)\n",
    "pd.set_option(\"display.max_colwidth\", None)"
   ]
  },
  {
   "cell_type": "code",
   "execution_count": 3,
   "id": "da5fb061-607b-4b7f-85ba-536f3aedb0da",
   "metadata": {},
   "outputs": [],
   "source": [
    "import intake\n",
    "catalog = intake.open_catalog(\"./catalog.yml\")"
   ]
  },
  {
   "cell_type": "code",
   "execution_count": 4,
   "id": "f589da7c-c33e-4175-abfa-f12712d4fa0b",
   "metadata": {},
   "outputs": [],
   "source": [
    "state_rail_plan = \"State Rail Plan/230307_CapitalProjectReview.xlsx\""
   ]
  },
  {
   "cell_type": "code",
   "execution_count": 5,
   "id": "1938ed1e-b4db-4d93-a701-464e0d5ebb3f",
   "metadata": {},
   "outputs": [],
   "source": [
    "state_rail_plan = srp_utils.clean_state_rail_plan(state_rail_plan)"
   ]
  },
  {
   "cell_type": "code",
   "execution_count": 6,
   "id": "ca9d8bd6-9762-49f6-a3b3-3e76a7af7133",
   "metadata": {},
   "outputs": [
    {
     "data": {
      "text/plain": [
       "(276, 11)"
      ]
     },
     "execution_count": 6,
     "metadata": {},
     "output_type": "execute_result"
    }
   ],
   "source": [
    "state_rail_plan.shape"
   ]
  },
  {
   "cell_type": "code",
   "execution_count": 7,
   "id": "d01806ff-dd4c-418b-ba17-ca1a7cfa146d",
   "metadata": {},
   "outputs": [
    {
     "data": {
      "text/html": [
       "<div>\n",
       "<style scoped>\n",
       "    .dataframe tbody tr th:only-of-type {\n",
       "        vertical-align: middle;\n",
       "    }\n",
       "\n",
       "    .dataframe tbody tr th {\n",
       "        vertical-align: top;\n",
       "    }\n",
       "\n",
       "    .dataframe thead th {\n",
       "        text-align: right;\n",
       "    }\n",
       "</style>\n",
       "<table border=\"1\" class=\"dataframe\">\n",
       "  <thead>\n",
       "    <tr style=\"text-align: right;\">\n",
       "      <th></th>\n",
       "      <th>project_time_horizon</th>\n",
       "      <th>project_name</th>\n",
       "      <th>project_description</th>\n",
       "      <th>lead_agency</th>\n",
       "      <th>total_project_cost</th>\n",
       "      <th>srp_region</th>\n",
       "      <th>corridor</th>\n",
       "      <th>sub_corridor_node_1</th>\n",
       "      <th>sub_corridor_node_2</th>\n",
       "      <th>itsp_corridor</th>\n",
       "      <th>project_category</th>\n",
       "    </tr>\n",
       "  </thead>\n",
       "  <tbody>\n",
       "    <tr>\n",
       "      <th>28</th>\n",
       "      <td>Near Term</td>\n",
       "      <td>Stations: Channel Street Improvements</td>\n",
       "      <td>This project will complete improvements along East Channel Street between North Aurora Street and a half-block west of North Stanislaus Street in Downtown Stockton. The project seeks to improve sidewalks, curb ramps, lighting, and road surfaces, and includes bulb-outs, street trees, Class III bicycle markings. The project will also make improvements along three intersecting streets of Stanislaus St, Grant St, and Aurora St between Minor Avenue and Weber Avenue. This project will improve the connectivity between the Stockton ACE Station, San Joaquin RTD’s Downtown Transit Center, and Downtown Stockton’s Waterfront Entertainment District.</td>\n",
       "      <td>**Multiple</td>\n",
       "      <td>6992000</td>\n",
       "      <td>San Joaquin Valley</td>\n",
       "      <td>Altamont Corridor</td>\n",
       "      <td>Stockton</td>\n",
       "      <td>San Jose</td>\n",
       "      <td>San Jose/San Francisco Bay Area - Central Valley-Los Angeles</td>\n",
       "      <td>Capital</td>\n",
       "    </tr>\n",
       "    <tr>\n",
       "      <th>22</th>\n",
       "      <td>Mid Term</td>\n",
       "      <td>Roadway Grade Separations: West Lane/UPRR Fresno Sub</td>\n",
       "      <td>Roadway grade separation at West Lane.  This is an investment in the existing San Joaquins Corridor between Stockton and Sacramento Valley Station on the UP Fresno Subdivision.</td>\n",
       "      <td>SJJPA</td>\n",
       "      <td>50000000</td>\n",
       "      <td>San Joaquin Valley</td>\n",
       "      <td>Northern San Joaquin Valley Corridor\\n(Valley Rail)</td>\n",
       "      <td>Sacramento</td>\n",
       "      <td>Stockton</td>\n",
       "      <td>San Jose/San Francisco Bay Area - Central Valley-Los Angeles</td>\n",
       "      <td>Grade Separation</td>\n",
       "    </tr>\n",
       "    <tr>\n",
       "      <th>15</th>\n",
       "      <td>Near Term</td>\n",
       "      <td>Merced Extension Track Work and Stations Phase 1</td>\n",
       "      <td>Phase 1 stations and track work to extend ACE Service from Ceres to Merced on the UP Fresno Subdivision.</td>\n",
       "      <td>**Multiple</td>\n",
       "      <td>320650000</td>\n",
       "      <td>San Joaquin Valley</td>\n",
       "      <td>Norther San Joaquin Valley Corridor</td>\n",
       "      <td>Stockton</td>\n",
       "      <td>Merced</td>\n",
       "      <td>San Jose/San Francisco Bay Area - Central Valley-Los Angeles</td>\n",
       "      <td>Capital</td>\n",
       "    </tr>\n",
       "    <tr>\n",
       "      <th>54</th>\n",
       "      <td>Near Term</td>\n",
       "      <td>Davis Station Platform Replacement and Track Improvements</td>\n",
       "      <td>One new or improved station. Eliminates danger from passengers crossing active main line track to reach their train. Provide ADA accessible 8 inch above top rail platform for both main tracks. Currently only one main track served with accessible platform, other track served by boarding off pedestrian crossings. Eliminate holdout rule to improve freight train operation and corridor fluidity. Project Partners are Capitol Corridor Joint Powers Authority, City of Davis, Amtrak, and Union Pacific Railroad. Federal 80%/State, Local, Private 20% shares are for illustrative purposes only and any proposed project shares may differ.</td>\n",
       "      <td>CCJPA</td>\n",
       "      <td>50000000</td>\n",
       "      <td>Northern California Megaregion</td>\n",
       "      <td>Sacramento to SF Bay Area Corridor</td>\n",
       "      <td>Sacramento</td>\n",
       "      <td>Richmond</td>\n",
       "      <td>San Jose/San Francisco Bay Area - Sacramento - Northern Nevada</td>\n",
       "      <td>Capital</td>\n",
       "    </tr>\n",
       "    <tr>\n",
       "      <th>95</th>\n",
       "      <td>Near Term</td>\n",
       "      <td>Lancaster Outlying Point Storage Tracks, and Design for Maintenance Facility (Build-out is in Pkg C)</td>\n",
       "      <td>Preliminary design for a Lancaster Area Light Maintenance Facility separate from the station.  Construction of additional 2 - 1000 ft yard storage tracks, with full toilet dump facilities.  Also, prepares design for Lancaster Area Light Maintenance Facility.</td>\n",
       "      <td>Metrolink</td>\n",
       "      <td>55620000</td>\n",
       "      <td>Southern California Megaregion</td>\n",
       "      <td>Antelope Valley Corridor</td>\n",
       "      <td>Lancaster</td>\n",
       "      <td>Palmdale</td>\n",
       "      <td>San Jose/San Francisco Bay Area - Central Valley-Los Angeles</td>\n",
       "      <td>Capital</td>\n",
       "    </tr>\n",
       "  </tbody>\n",
       "</table>\n",
       "</div>"
      ],
      "text/plain": [
       "   project_time_horizon  \\\n",
       "28            Near Term   \n",
       "22             Mid Term   \n",
       "15            Near Term   \n",
       "54            Near Term   \n",
       "95            Near Term   \n",
       "\n",
       "                                                                                            project_name  \\\n",
       "28                                                                 Stations: Channel Street Improvements   \n",
       "22                                                  Roadway Grade Separations: West Lane/UPRR Fresno Sub   \n",
       "15                                                      Merced Extension Track Work and Stations Phase 1   \n",
       "54                                             Davis Station Platform Replacement and Track Improvements   \n",
       "95  Lancaster Outlying Point Storage Tracks, and Design for Maintenance Facility (Build-out is in Pkg C)   \n",
       "\n",
       "                                                                                                                                                                                                                                                                                                                                                                                                                                                                                                                                                                                                                                                     project_description  \\\n",
       "28  This project will complete improvements along East Channel Street between North Aurora Street and a half-block west of North Stanislaus Street in Downtown Stockton. The project seeks to improve sidewalks, curb ramps, lighting, and road surfaces, and includes bulb-outs, street trees, Class III bicycle markings. The project will also make improvements along three intersecting streets of Stanislaus St, Grant St, and Aurora St between Minor Avenue and Weber Avenue. This project will improve the connectivity between the Stockton ACE Station, San Joaquin RTD’s Downtown Transit Center, and Downtown Stockton’s Waterfront Entertainment District.   \n",
       "22                                                                                                                                                                                                                                                                                                                                                                                                                                                                                      Roadway grade separation at West Lane.  This is an investment in the existing San Joaquins Corridor between Stockton and Sacramento Valley Station on the UP Fresno Subdivision.   \n",
       "15                                                                                                                                                                                                                                                                                                                                                                                                                                                                                                                                                              Phase 1 stations and track work to extend ACE Service from Ceres to Merced on the UP Fresno Subdivision.   \n",
       "54                One new or improved station. Eliminates danger from passengers crossing active main line track to reach their train. Provide ADA accessible 8 inch above top rail platform for both main tracks. Currently only one main track served with accessible platform, other track served by boarding off pedestrian crossings. Eliminate holdout rule to improve freight train operation and corridor fluidity. Project Partners are Capitol Corridor Joint Powers Authority, City of Davis, Amtrak, and Union Pacific Railroad. Federal 80%/State, Local, Private 20% shares are for illustrative purposes only and any proposed project shares may differ.   \n",
       "95                                                                                                                                                                                                                                                                                                                                                                                                    Preliminary design for a Lancaster Area Light Maintenance Facility separate from the station.  Construction of additional 2 - 1000 ft yard storage tracks, with full toilet dump facilities.  Also, prepares design for Lancaster Area Light Maintenance Facility.   \n",
       "\n",
       "   lead_agency total_project_cost                      srp_region  \\\n",
       "28  **Multiple            6992000              San Joaquin Valley   \n",
       "22       SJJPA           50000000              San Joaquin Valley   \n",
       "15  **Multiple          320650000              San Joaquin Valley   \n",
       "54       CCJPA           50000000  Northern California Megaregion   \n",
       "95   Metrolink           55620000  Southern California Megaregion   \n",
       "\n",
       "                                               corridor sub_corridor_node_1  \\\n",
       "28                                    Altamont Corridor            Stockton   \n",
       "22  Northern San Joaquin Valley Corridor\\n(Valley Rail)          Sacramento   \n",
       "15                  Norther San Joaquin Valley Corridor            Stockton   \n",
       "54                   Sacramento to SF Bay Area Corridor          Sacramento   \n",
       "95                             Antelope Valley Corridor           Lancaster   \n",
       "\n",
       "   sub_corridor_node_2  \\\n",
       "28            San Jose   \n",
       "22            Stockton   \n",
       "15              Merced   \n",
       "54            Richmond   \n",
       "95            Palmdale   \n",
       "\n",
       "                                                     itsp_corridor  \\\n",
       "28    San Jose/San Francisco Bay Area - Central Valley-Los Angeles   \n",
       "22    San Jose/San Francisco Bay Area - Central Valley-Los Angeles   \n",
       "15    San Jose/San Francisco Bay Area - Central Valley-Los Angeles   \n",
       "54  San Jose/San Francisco Bay Area - Sacramento - Northern Nevada   \n",
       "95    San Jose/San Francisco Bay Area - Central Valley-Los Angeles   \n",
       "\n",
       "    project_category  \n",
       "28           Capital  \n",
       "22  Grade Separation  \n",
       "15           Capital  \n",
       "54           Capital  \n",
       "95           Capital  "
      ]
     },
     "execution_count": 7,
     "metadata": {},
     "output_type": "execute_result"
    }
   ],
   "source": [
    "state_rail_plan.sample(5)"
   ]
  }
 ],
 "metadata": {
  "kernelspec": {
   "display_name": "Python 3 (ipykernel)",
   "language": "python",
   "name": "python3"
  },
  "language_info": {
   "codemirror_mode": {
    "name": "ipython",
    "version": 3
   },
   "file_extension": ".py",
   "mimetype": "text/x-python",
   "name": "python",
   "nbconvert_exporter": "python",
   "pygments_lexer": "ipython3",
   "version": "3.9.13"
  }
 },
 "nbformat": 4,
 "nbformat_minor": 5
}
