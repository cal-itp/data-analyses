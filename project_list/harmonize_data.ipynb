{
 "cells": [
  {
   "cell_type": "markdown",
   "id": "77106c12-82aa-4be4-8d9c-e66fafec4d67",
   "metadata": {},
   "source": [
    "## General function to clean up data from various grants"
   ]
  },
  {
   "cell_type": "code",
   "execution_count": 1,
   "id": "06ac19fe-7b6c-4560-9740-8a4f72c5b6e1",
   "metadata": {},
   "outputs": [],
   "source": [
    "import _utils\n",
    "import _state_rail_plan_utils as srp_utils\n",
    "import pandas as pd\n",
    "from calitp_data_analysis.sql import to_snakecase"
   ]
  },
  {
   "cell_type": "code",
   "execution_count": 2,
   "id": "e7b68eeb-422d-4be8-b557-7bd9e95599af",
   "metadata": {},
   "outputs": [],
   "source": [
    "pd.options.display.max_columns = 100\n",
    "pd.options.display.float_format = \"{:.2f}\".format\n",
    "pd.set_option(\"display.max_rows\", None)\n",
    "pd.set_option(\"display.max_colwidth\", None)"
   ]
  },
  {
   "cell_type": "code",
   "execution_count": 3,
   "id": "778e5f38-73ba-43d9-b05d-5feaefdf9e60",
   "metadata": {},
   "outputs": [],
   "source": [
    "state_rail_plan = srp_utils.clean_state_rail_plan(srp_utils.state_rail_plan_file)"
   ]
  },
  {
   "cell_type": "code",
   "execution_count": 4,
   "id": "4da1b099-988e-4954-90fc-a2ca96c33878",
   "metadata": {},
   "outputs": [
    {
     "data": {
      "text/plain": [
       "(276, 11)"
      ]
     },
     "execution_count": 4,
     "metadata": {},
     "output_type": "execute_result"
    }
   ],
   "source": [
    "state_rail_plan.shape"
   ]
  },
  {
   "cell_type": "code",
   "execution_count": 5,
   "id": "68792f8e-0c04-45fd-8677-3e8e7a94ff31",
   "metadata": {},
   "outputs": [],
   "source": [
    "def harmonizing(df, \n",
    "                agency_name: str,\n",
    "                project_name:str,\n",
    "                project_description:str,\n",
    "                project_cost:str,\n",
    "                location:str,\n",
    "                program:str,\n",
    "                cost_in_millions:bool = True):\n",
    "    \n",
    "    # Rename columns\n",
    "    rename_columns = {agency_name: 'lead_agency',\n",
    "                      project_name: 'project_title',\n",
    "                      project_description: 'project_description',\n",
    "                      project_cost: 'total_project_cost',\n",
    "                      location: 'project_location'}\n",
    "    \n",
    "    df = df.rename(columns = rename_columns)\n",
    "    \n",
    "    # Coerce cost/fund columns to right type\n",
    "    # Find any columns that contains cost or fund in it.\n",
    "    cost_columns = df.columns[df.columns.str.contains(\"(cost|funds)\")].tolist()\n",
    "    \n",
    "    for i in cost_columns:\n",
    "        df[i]= df[i].apply(pd.to_numeric, errors = 'coerce').fillna(0)\n",
    "    \n",
    "    # Clean up string columns\n",
    "    string_cols = df.select_dtypes(include=['object']).columns.to_list()\n",
    "    for i in string_cols:\n",
    "        df[i] = df[i].str.strip().str.title()\n",
    "        \n",
    "    # Fill in any nulls\n",
    "    df = df.fillna(df.dtypes.replace({'float64': 0.0, 'object': 'None'}))\n",
    "\n",
    "    # Add data source\n",
    "    df['data_source'] = program \n",
    "    \n",
    "    # Divide cost columns by millions\n",
    "    # If bool is set to True\n",
    "    if cost_in_millions:\n",
    "        for i in cost_columns:\n",
    "            df[i] = df[i].divide(1000000)\n",
    "    else:\n",
    "        df\n",
    "        \n",
    "    return df"
   ]
  },
  {
   "cell_type": "code",
   "execution_count": 6,
   "id": "bf5a74ee-7a3f-4793-ba29-d7d83e01c9ce",
   "metadata": {},
   "outputs": [
    {
     "name": "stderr",
     "output_type": "stream",
     "text": [
      "/tmp/ipykernel_1774/1322079061.py:21: UserWarning: This pattern has match groups. To actually get the groups, use str.extract.\n",
      "  cost_columns = df.columns[df.columns.str.contains(\"(cost|funds)\")].tolist()\n"
     ]
    }
   ],
   "source": [
    "state_rail_plan_test = harmonizing(state_rail_plan, 'lead_agency', 'project_name','project_description','total_project_cost', 'corridor', 'State Rail Plan') "
   ]
  },
  {
   "cell_type": "code",
   "execution_count": 7,
   "id": "8dfdb863-9cde-4c2e-9eae-557ff6339e3f",
   "metadata": {},
   "outputs": [
    {
     "data": {
      "text/html": [
       "<div>\n",
       "<style scoped>\n",
       "    .dataframe tbody tr th:only-of-type {\n",
       "        vertical-align: middle;\n",
       "    }\n",
       "\n",
       "    .dataframe tbody tr th {\n",
       "        vertical-align: top;\n",
       "    }\n",
       "\n",
       "    .dataframe thead th {\n",
       "        text-align: right;\n",
       "    }\n",
       "</style>\n",
       "<table border=\"1\" class=\"dataframe\">\n",
       "  <thead>\n",
       "    <tr style=\"text-align: right;\">\n",
       "      <th></th>\n",
       "      <th>project_time_horizon</th>\n",
       "      <th>project_name</th>\n",
       "      <th>project_description</th>\n",
       "      <th>lead_agency</th>\n",
       "      <th>total_project_cost</th>\n",
       "      <th>srp_region</th>\n",
       "      <th>corridor</th>\n",
       "      <th>sub_corridor_node_1</th>\n",
       "      <th>sub_corridor_node_2</th>\n",
       "      <th>itsp_corridor</th>\n",
       "      <th>project_category</th>\n",
       "    </tr>\n",
       "  </thead>\n",
       "  <tbody>\n",
       "    <tr>\n",
       "      <th>10</th>\n",
       "      <td>Mid Term</td>\n",
       "      <td>Roadway Grade Separations: Sankey Road/UPRR Sacramento Sub</td>\n",
       "      <td>Roadway grade separation at Sankey Road.   This project supports a future extension of Valley Rail Service north of Sacramento towards Chico.</td>\n",
       "      <td>**Multiple</td>\n",
       "      <td>35000000</td>\n",
       "      <td>Northern California Megaregion</td>\n",
       "      <td>Sacramento Valley Corridor</td>\n",
       "      <td>Chico</td>\n",
       "      <td>Sacramento</td>\n",
       "      <td>Sacramento Valley - Oregon Border</td>\n",
       "      <td>Grade Separation</td>\n",
       "    </tr>\n",
       "  </tbody>\n",
       "</table>\n",
       "</div>"
      ],
      "text/plain": [
       "   project_time_horizon  \\\n",
       "10             Mid Term   \n",
       "\n",
       "                                                  project_name  \\\n",
       "10  Roadway Grade Separations: Sankey Road/UPRR Sacramento Sub   \n",
       "\n",
       "                                                                                                                              project_description  \\\n",
       "10  Roadway grade separation at Sankey Road.   This project supports a future extension of Valley Rail Service north of Sacramento towards Chico.   \n",
       "\n",
       "   lead_agency total_project_cost                      srp_region  \\\n",
       "10  **Multiple           35000000  Northern California Megaregion   \n",
       "\n",
       "                      corridor sub_corridor_node_1 sub_corridor_node_2  \\\n",
       "10  Sacramento Valley Corridor               Chico          Sacramento   \n",
       "\n",
       "                        itsp_corridor  project_category  \n",
       "10  Sacramento Valley - Oregon Border  Grade Separation  "
      ]
     },
     "execution_count": 7,
     "metadata": {},
     "output_type": "execute_result"
    }
   ],
   "source": [
    "state_rail_plan.sample()"
   ]
  },
  {
   "cell_type": "code",
   "execution_count": 8,
   "id": "8d2c30ff-ffb3-42f7-9395-2d1bf8e681d4",
   "metadata": {},
   "outputs": [
    {
     "data": {
      "text/html": [
       "<div>\n",
       "<style scoped>\n",
       "    .dataframe tbody tr th:only-of-type {\n",
       "        vertical-align: middle;\n",
       "    }\n",
       "\n",
       "    .dataframe tbody tr th {\n",
       "        vertical-align: top;\n",
       "    }\n",
       "\n",
       "    .dataframe thead th {\n",
       "        text-align: right;\n",
       "    }\n",
       "</style>\n",
       "<table border=\"1\" class=\"dataframe\">\n",
       "  <thead>\n",
       "    <tr style=\"text-align: right;\">\n",
       "      <th></th>\n",
       "      <th>project_time_horizon</th>\n",
       "      <th>project_title</th>\n",
       "      <th>project_description</th>\n",
       "      <th>lead_agency</th>\n",
       "      <th>total_project_cost</th>\n",
       "      <th>srp_region</th>\n",
       "      <th>project_location</th>\n",
       "      <th>sub_corridor_node_1</th>\n",
       "      <th>sub_corridor_node_2</th>\n",
       "      <th>itsp_corridor</th>\n",
       "      <th>project_category</th>\n",
       "      <th>data_source</th>\n",
       "    </tr>\n",
       "  </thead>\n",
       "  <tbody>\n",
       "    <tr>\n",
       "      <th>108</th>\n",
       "      <td>Near Term</td>\n",
       "      <td>San Diego Convention Center Station</td>\n",
       "      <td>New Station At San Diego Convention Center. Tbd Regular Revenue Service Or Special Event Only.</td>\n",
       "      <td>Nctd</td>\n",
       "      <td>52.92</td>\n",
       "      <td>South Coast</td>\n",
       "      <td>Los Angeles To San Diego Corridor</td>\n",
       "      <td>Oceanside</td>\n",
       "      <td>San Diego</td>\n",
       "      <td>South Coast - Central Coast</td>\n",
       "      <td>Capital</td>\n",
       "      <td>State Rail Plan</td>\n",
       "    </tr>\n",
       "  </tbody>\n",
       "</table>\n",
       "</div>"
      ],
      "text/plain": [
       "    project_time_horizon                        project_title  \\\n",
       "108            Near Term  San Diego Convention Center Station   \n",
       "\n",
       "                                                                                project_description  \\\n",
       "108  New Station At San Diego Convention Center. Tbd Regular Revenue Service Or Special Event Only.   \n",
       "\n",
       "    lead_agency  total_project_cost   srp_region  \\\n",
       "108        Nctd               52.92  South Coast   \n",
       "\n",
       "                      project_location sub_corridor_node_1  \\\n",
       "108  Los Angeles To San Diego Corridor           Oceanside   \n",
       "\n",
       "    sub_corridor_node_2                itsp_corridor project_category  \\\n",
       "108           San Diego  South Coast - Central Coast          Capital   \n",
       "\n",
       "         data_source  \n",
       "108  State Rail Plan  "
      ]
     },
     "execution_count": 8,
     "metadata": {},
     "output_type": "execute_result"
    }
   ],
   "source": [
    "state_rail_plan_test.sample()"
   ]
  },
  {
   "cell_type": "code",
   "execution_count": 9,
   "id": "9e0aafa9-f747-498d-ab45-f62feef6df7a",
   "metadata": {},
   "outputs": [],
   "source": [
    "lost = to_snakecase(pd.read_excel(f\"{srp_utils.GCS_FILE_PATH}LOST/LOST_all_projects.xlsx\", sheet_name = \"Main\"))"
   ]
  },
  {
   "cell_type": "code",
   "execution_count": 11,
   "id": "1b42c82a-e7dd-4770-99a4-d9edffa30f4a",
   "metadata": {},
   "outputs": [
    {
     "name": "stderr",
     "output_type": "stream",
     "text": [
      "/tmp/ipykernel_1774/1322079061.py:21: UserWarning: This pattern has match groups. To actually get the groups, use str.extract.\n",
      "  cost_columns = df.columns[df.columns.str.contains(\"(cost|funds)\")].tolist()\n"
     ]
    }
   ],
   "source": [
    "lost_test = harmonizing(lost, 'agency', 'project_title','project_description','cost__in_millions_', 'location', 'LOST') "
   ]
  },
  {
   "cell_type": "code",
   "execution_count": 15,
   "id": "9a00956f-e1bf-4dcd-9a5a-cbf5464a05b7",
   "metadata": {},
   "outputs": [
    {
     "data": {
      "text/html": [
       "<div>\n",
       "<style scoped>\n",
       "    .dataframe tbody tr th:only-of-type {\n",
       "        vertical-align: middle;\n",
       "    }\n",
       "\n",
       "    .dataframe tbody tr th {\n",
       "        vertical-align: top;\n",
       "    }\n",
       "\n",
       "    .dataframe thead th {\n",
       "        text-align: right;\n",
       "    }\n",
       "</style>\n",
       "<table border=\"1\" class=\"dataframe\">\n",
       "  <thead>\n",
       "    <tr style=\"text-align: right;\">\n",
       "      <th></th>\n",
       "      <th>measure</th>\n",
       "      <th>local_returns</th>\n",
       "      <th>project_category</th>\n",
       "      <th>location</th>\n",
       "      <th>project_title</th>\n",
       "      <th>cost__in_millions_</th>\n",
       "      <th>estimated_lost_funds</th>\n",
       "      <th>estimated_federal_funds</th>\n",
       "      <th>estimated_state_funds</th>\n",
       "      <th>estimated_local_funds</th>\n",
       "      <th>estimated_other_funds</th>\n",
       "      <th>project_description</th>\n",
       "      <th>agency</th>\n",
       "      <th>county</th>\n",
       "      <th>city</th>\n",
       "      <th>notes</th>\n",
       "    </tr>\n",
       "  </thead>\n",
       "  <tbody>\n",
       "    <tr>\n",
       "      <th>1816</th>\n",
       "      <td>tulare_r_2006</td>\n",
       "      <td>No</td>\n",
       "      <td>NaN</td>\n",
       "      <td>NaN</td>\n",
       "      <td>Visalia Signals (7) various locations PS&amp;E,ROW,CON</td>\n",
       "      <td>1.40</td>\n",
       "      <td>0</td>\n",
       "      <td>0.00</td>\n",
       "      <td>0.00</td>\n",
       "      <td>0</td>\n",
       "      <td>0.00</td>\n",
       "      <td>ps&amp;e, row, con</td>\n",
       "      <td>NaN</td>\n",
       "      <td>tulare</td>\n",
       "      <td>NaN</td>\n",
       "      <td>NaN</td>\n",
       "    </tr>\n",
       "  </tbody>\n",
       "</table>\n",
       "</div>"
      ],
      "text/plain": [
       "            measure local_returns project_category location  \\\n",
       "1816  tulare_r_2006            No              NaN      NaN   \n",
       "\n",
       "                                            project_title cost__in_millions_  \\\n",
       "1816  Visalia Signals (7) various locations PS&E,ROW,CON                1.40   \n",
       "\n",
       "     estimated_lost_funds  estimated_federal_funds  estimated_state_funds  \\\n",
       "1816                    0                     0.00                   0.00   \n",
       "\n",
       "      estimated_local_funds  estimated_other_funds project_description agency  \\\n",
       "1816                      0                   0.00      ps&e, row, con    NaN   \n",
       "\n",
       "      county city notes  \n",
       "1816  tulare  NaN   NaN  "
      ]
     },
     "execution_count": 15,
     "metadata": {},
     "output_type": "execute_result"
    }
   ],
   "source": [
    "lost.sample()"
   ]
  },
  {
   "cell_type": "code",
   "execution_count": 14,
   "id": "108eb542-89b4-4ad3-a600-e456f915f194",
   "metadata": {},
   "outputs": [
    {
     "data": {
      "text/html": [
       "<div>\n",
       "<style scoped>\n",
       "    .dataframe tbody tr th:only-of-type {\n",
       "        vertical-align: middle;\n",
       "    }\n",
       "\n",
       "    .dataframe tbody tr th {\n",
       "        vertical-align: top;\n",
       "    }\n",
       "\n",
       "    .dataframe thead th {\n",
       "        text-align: right;\n",
       "    }\n",
       "</style>\n",
       "<table border=\"1\" class=\"dataframe\">\n",
       "  <thead>\n",
       "    <tr style=\"text-align: right;\">\n",
       "      <th></th>\n",
       "      <th>measure</th>\n",
       "      <th>local_returns</th>\n",
       "      <th>project_category</th>\n",
       "      <th>project_location</th>\n",
       "      <th>project_title</th>\n",
       "      <th>total_project_cost</th>\n",
       "      <th>estimated_lost_funds</th>\n",
       "      <th>estimated_federal_funds</th>\n",
       "      <th>estimated_state_funds</th>\n",
       "      <th>estimated_local_funds</th>\n",
       "      <th>estimated_other_funds</th>\n",
       "      <th>project_description</th>\n",
       "      <th>lead_agency</th>\n",
       "      <th>county</th>\n",
       "      <th>city</th>\n",
       "      <th>notes</th>\n",
       "      <th>data_source</th>\n",
       "    </tr>\n",
       "  </thead>\n",
       "  <tbody>\n",
       "    <tr>\n",
       "      <th>1104</th>\n",
       "      <td>Sacramento_A2_2004</td>\n",
       "      <td>No</td>\n",
       "      <td>Local Road Maintenance, Safety And Congestion Relief\\nProgram</td>\n",
       "      <td>None</td>\n",
       "      <td>Installing Fog/Rain/Night Roadway Reflectors</td>\n",
       "      <td>0.00</td>\n",
       "      <td>0.00</td>\n",
       "      <td>0.00</td>\n",
       "      <td>0.00</td>\n",
       "      <td>0.00</td>\n",
       "      <td>0.00</td>\n",
       "      <td>None</td>\n",
       "      <td>None</td>\n",
       "      <td>Sacramento</td>\n",
       "      <td>None</td>\n",
       "      <td>No Specific Amounts For Each Project. Divided Total Fund Slated For A Project Category By Number Of Projects In That Category.</td>\n",
       "      <td>LOST</td>\n",
       "    </tr>\n",
       "  </tbody>\n",
       "</table>\n",
       "</div>"
      ],
      "text/plain": [
       "                 measure local_returns  \\\n",
       "1104  Sacramento_A2_2004            No   \n",
       "\n",
       "                                                   project_category  \\\n",
       "1104  Local Road Maintenance, Safety And Congestion Relief\\nProgram   \n",
       "\n",
       "     project_location                                 project_title  \\\n",
       "1104             None  Installing Fog/Rain/Night Roadway Reflectors   \n",
       "\n",
       "      total_project_cost  estimated_lost_funds  estimated_federal_funds  \\\n",
       "1104                0.00                  0.00                     0.00   \n",
       "\n",
       "      estimated_state_funds  estimated_local_funds  estimated_other_funds  \\\n",
       "1104                   0.00                   0.00                   0.00   \n",
       "\n",
       "     project_description lead_agency      county  city  \\\n",
       "1104                None        None  Sacramento  None   \n",
       "\n",
       "                                                                                                                               notes  \\\n",
       "1104  No Specific Amounts For Each Project. Divided Total Fund Slated For A Project Category By Number Of Projects In That Category.   \n",
       "\n",
       "     data_source  \n",
       "1104        LOST  "
      ]
     },
     "execution_count": 14,
     "metadata": {},
     "output_type": "execute_result"
    }
   ],
   "source": [
    "lost_test.sample()"
   ]
  }
 ],
 "metadata": {
  "kernelspec": {
   "display_name": "Python 3 (ipykernel)",
   "language": "python",
   "name": "python3"
  },
  "language_info": {
   "codemirror_mode": {
    "name": "ipython",
    "version": 3
   },
   "file_extension": ".py",
   "mimetype": "text/x-python",
   "name": "python",
   "nbconvert_exporter": "python",
   "pygments_lexer": "ipython3",
   "version": "3.9.13"
  }
 },
 "nbformat": 4,
 "nbformat_minor": 5
}
