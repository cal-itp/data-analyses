{
 "cells": [
  {
   "cell_type": "markdown",
   "id": "77106c12-82aa-4be4-8d9c-e66fafec4d67",
   "metadata": {},
   "source": [
    "## General function to clean up data from various grants"
   ]
  },
  {
   "cell_type": "code",
   "execution_count": 1,
   "id": "06ac19fe-7b6c-4560-9740-8a4f72c5b6e1",
   "metadata": {},
   "outputs": [],
   "source": [
    "import _utils\n",
    "import _state_rail_plan_utils as srp_utils\n",
    "import pandas as pd\n",
    "from calitp_data_analysis.sql import to_snakecase"
   ]
  },
  {
   "cell_type": "code",
   "execution_count": 2,
   "id": "e7b68eeb-422d-4be8-b557-7bd9e95599af",
   "metadata": {},
   "outputs": [],
   "source": [
    "pd.options.display.max_columns = 100\n",
    "pd.options.display.float_format = \"{:.2f}\".format\n",
    "pd.set_option(\"display.max_rows\", None)\n",
    "pd.set_option(\"display.max_colwidth\", None)"
   ]
  },
  {
   "cell_type": "code",
   "execution_count": 3,
   "id": "778e5f38-73ba-43d9-b05d-5feaefdf9e60",
   "metadata": {},
   "outputs": [],
   "source": [
    "def load_state_rail_plan():\n",
    "    df = srp_utils.clean_state_rail_plan(srp_utils.state_rail_plan_file)\n",
    "    return df"
   ]
  },
  {
   "cell_type": "code",
   "execution_count": 4,
   "id": "3df5e655-9400-46c7-ab26-750324079599",
   "metadata": {},
   "outputs": [],
   "source": [
    "def load_lost():\n",
    "    df = to_snakecase(pd.read_excel(f\"{srp_utils.GCS_FILE_PATH}LOST/LOST_all_projects.xlsx\", sheet_name = \"Main\"))\n",
    "    return df"
   ]
  },
  {
   "cell_type": "code",
   "execution_count": 5,
   "id": "0e9d4133-4337-4fc6-93d0-85ab2df7668b",
   "metadata": {},
   "outputs": [],
   "source": [
    "srp = load_state_rail_plan()"
   ]
  },
  {
   "cell_type": "code",
   "execution_count": 6,
   "id": "9e0aafa9-f747-498d-ab45-f62feef6df7a",
   "metadata": {},
   "outputs": [],
   "source": [
    "lost = load_lost()"
   ]
  },
  {
   "cell_type": "code",
   "execution_count": 7,
   "id": "bfdc14b2-f080-474a-b765-b11feccd4cfd",
   "metadata": {},
   "outputs": [],
   "source": [
    "def funding_vs_expenses(df):\n",
    "    \"\"\"\n",
    "    Determine if a project is fully funded or not\n",
    "    \"\"\"\n",
    "    if df[\"total_project_cost\"] == 0:\n",
    "        return \"No project cost info\"\n",
    "    elif df[\"total_available_funds\"] == 0:\n",
    "        return \"No available funding info\"\n",
    "    elif df[\"total_available_funds\"] == df[\"total_project_cost\"]:\n",
    "        return \"Fully funded\"\n",
    "    else:\n",
    "        return \"Not fully funded\"\n"
   ]
  },
  {
   "cell_type": "code",
   "execution_count": 20,
   "id": "bebaa7e5-6893-4664-85bf-0a88e859a738",
   "metadata": {},
   "outputs": [],
   "source": [
    "def organization_cleaning(df, agency_col: str):\n",
    "    df[agency_col] = (\n",
    "        df[agency_col]\n",
    "        .str.strip()\n",
    "        .str.split(\",\")\n",
    "        .str[0]\n",
    "        .str.replace(\"/\", \"\")\n",
    "        .str.split(\"(\")\n",
    "        .str[0]\n",
    "        .str.split(\"/\")\n",
    "        .str[0]\n",
    "        .str.split(\";\")\n",
    "        .str[0]\n",
    "        .str.title()\n",
    "        .str.replace(\"Trasit\", \"Transit\")\n",
    "        .str.replace(\"*\",\"\")\n",
    "        .str.strip() #strip whitespaces again after getting rid of certain things\n",
    "    )\n",
    "    return df"
   ]
  },
  {
   "cell_type": "code",
   "execution_count": 21,
   "id": "68792f8e-0c04-45fd-8677-3e8e7a94ff31",
   "metadata": {},
   "outputs": [],
   "source": [
    "def harmonizing(df, \n",
    "                agency_name: str,\n",
    "                project_name:str,\n",
    "                project_description:str,\n",
    "                project_cost:str,\n",
    "                location:str,\n",
    "                county:str,\n",
    "                city:str,\n",
    "                program:str,\n",
    "                fund_cols:list,\n",
    "                cost_in_millions:bool = True):\n",
    "    \n",
    "    # Rename columns\n",
    "    rename_columns = {agency_name: 'lead_agency',\n",
    "                      project_name: 'project_title',\n",
    "                      project_description: 'project_description',\n",
    "                      project_cost: 'total_project_cost',\n",
    "                      location: 'project_location',\n",
    "                      county: 'project_county',\n",
    "                      city: 'project_city'}\n",
    "    \n",
    "    df = df.rename(columns = rename_columns)\n",
    "    \n",
    "    # Coerce cost/fund columns to right type\n",
    "    cost_columns = df.columns[df.columns.str.contains(\"(cost|funds)\")].tolist()\n",
    "    for i in cost_columns:\n",
    "        df[i]= df[i].apply(pd.to_numeric, errors = 'coerce').fillna(0)\n",
    "    \n",
    "    # Clean up string columns\n",
    "    string_cols = df.select_dtypes(include=['object']).columns.to_list()\n",
    "    for i in string_cols:\n",
    "        df[i] = df[i].str.strip().str.title()\n",
    "        \n",
    "    # Clean agency names\n",
    "    df = organization_cleaning(df, 'lead_agency')\n",
    "    \n",
    "    # Add data source\n",
    "    df['data_source'] = program \n",
    "    \n",
    "    # Divide cost columns by millions\n",
    "    # If bool is set to True\n",
    "    if cost_in_millions:\n",
    "        for i in cost_columns:\n",
    "            df[i] = df[i].divide(1000000)\n",
    "    else:\n",
    "        df\n",
    "    \n",
    "   # Create columns even if they don't exist, just to harmonize \n",
    "   # before concatting.\n",
    "    if 'project_county' not in df:\n",
    "        df['project_county'] = \"None\"\n",
    "    if 'project_city' not in df:\n",
    "        df['project_city'] = \"None\"\n",
    "    if 'notes' not in df:\n",
    "        df['notes'] = \"None\" \n",
    "    \n",
    "    # Determine the project completely funded or not?\n",
    "    df['total_available_funds'] = df[fund_cols].sum(axis=1)\n",
    "    df['fully_funded'] = df.apply(funding_vs_expenses, axis=1)\n",
    "    \n",
    "    # Only keep certain columns\n",
    "    columns_to_keep = ['project_title','lead_agency','project_description',\n",
    "                       'total_project_cost','fully_funded','total_available_funds',\n",
    "                       'project_location','project_county','project_city','notes','data_source']\n",
    "    df = df[columns_to_keep]\n",
    "    \n",
    "    # Fill in any nulls\n",
    "    df = df.fillna(df.dtypes.replace({'float64': 0.0, 'object': 'None'}))\n",
    "\n",
    "    return df"
   ]
  },
  {
   "cell_type": "code",
   "execution_count": 22,
   "id": "bf5a74ee-7a3f-4793-ba29-d7d83e01c9ce",
   "metadata": {},
   "outputs": [
    {
     "name": "stderr",
     "output_type": "stream",
     "text": [
      "/tmp/ipykernel_742/3262329779.py:25: UserWarning: This pattern has match groups. To actually get the groups, use str.extract.\n",
      "  cost_columns = df.columns[df.columns.str.contains(\"(cost|funds)\")].tolist()\n",
      "/tmp/ipykernel_742/3921616735.py:3: FutureWarning: The default value of regex will change from True to False in a future version. In addition, single character regular expressions will *not* be treated as literal strings when regex=True.\n",
      "  df[agency_col]\n"
     ]
    }
   ],
   "source": [
    "state_rail_plan_test = harmonizing(srp, 'lead_agency', 'project_name','project_description','total_project_cost', 'corridor', '', '', 'State Rail Plan', []) "
   ]
  },
  {
   "cell_type": "code",
   "execution_count": 23,
   "id": "7e3d93aa-2b5b-4c8d-bd7f-bd016b3f3993",
   "metadata": {},
   "outputs": [
    {
     "data": {
      "text/html": [
       "<div>\n",
       "<style scoped>\n",
       "    .dataframe tbody tr th:only-of-type {\n",
       "        vertical-align: middle;\n",
       "    }\n",
       "\n",
       "    .dataframe tbody tr th {\n",
       "        vertical-align: top;\n",
       "    }\n",
       "\n",
       "    .dataframe thead th {\n",
       "        text-align: right;\n",
       "    }\n",
       "</style>\n",
       "<table border=\"1\" class=\"dataframe\">\n",
       "  <thead>\n",
       "    <tr style=\"text-align: right;\">\n",
       "      <th></th>\n",
       "      <th>project_title</th>\n",
       "      <th>lead_agency</th>\n",
       "      <th>project_description</th>\n",
       "      <th>total_project_cost</th>\n",
       "      <th>fully_funded</th>\n",
       "      <th>total_available_funds</th>\n",
       "      <th>project_location</th>\n",
       "      <th>project_county</th>\n",
       "      <th>project_city</th>\n",
       "      <th>notes</th>\n",
       "      <th>data_source</th>\n",
       "    </tr>\n",
       "  </thead>\n",
       "  <tbody>\n",
       "    <tr>\n",
       "      <th>86</th>\n",
       "      <td>El Monte Station Ped Improvements And Siding Extension</td>\n",
       "      <td>Metrolink</td>\n",
       "      <td>Eliminates Hold Out Rule And Adds Pedestrian Safety Treatments At Ends Of Station To Allow Meets At Mid-Platform.  Extends Platform Westward, Extends Siding Track West Toward Flyover.  Upgrade To Higher Speed Switch And Add New Signaling.</td>\n",
       "      <td>22.16</td>\n",
       "      <td>No available funding info</td>\n",
       "      <td>0.00</td>\n",
       "      <td>Ca High Speed Rail Phase 1 Corridor</td>\n",
       "      <td>None</td>\n",
       "      <td>None</td>\n",
       "      <td>None</td>\n",
       "      <td>State Rail Plan</td>\n",
       "    </tr>\n",
       "  </tbody>\n",
       "</table>\n",
       "</div>"
      ],
      "text/plain": [
       "                                             project_title lead_agency  \\\n",
       "86  El Monte Station Ped Improvements And Siding Extension   Metrolink   \n",
       "\n",
       "                                                                                                                                                                                                                               project_description  \\\n",
       "86  Eliminates Hold Out Rule And Adds Pedestrian Safety Treatments At Ends Of Station To Allow Meets At Mid-Platform.  Extends Platform Westward, Extends Siding Track West Toward Flyover.  Upgrade To Higher Speed Switch And Add New Signaling.   \n",
       "\n",
       "    total_project_cost               fully_funded  total_available_funds  \\\n",
       "86               22.16  No available funding info                   0.00   \n",
       "\n",
       "                       project_location project_county project_city notes  \\\n",
       "86  Ca High Speed Rail Phase 1 Corridor           None         None  None   \n",
       "\n",
       "        data_source  \n",
       "86  State Rail Plan  "
      ]
     },
     "execution_count": 23,
     "metadata": {},
     "output_type": "execute_result"
    }
   ],
   "source": [
    "state_rail_plan_test.sample()"
   ]
  },
  {
   "cell_type": "code",
   "execution_count": 24,
   "id": "1b42c82a-e7dd-4770-99a4-d9edffa30f4a",
   "metadata": {},
   "outputs": [
    {
     "name": "stderr",
     "output_type": "stream",
     "text": [
      "/tmp/ipykernel_742/3262329779.py:25: UserWarning: This pattern has match groups. To actually get the groups, use str.extract.\n",
      "  cost_columns = df.columns[df.columns.str.contains(\"(cost|funds)\")].tolist()\n",
      "/tmp/ipykernel_742/3921616735.py:3: FutureWarning: The default value of regex will change from True to False in a future version. In addition, single character regular expressions will *not* be treated as literal strings when regex=True.\n",
      "  df[agency_col]\n"
     ]
    }
   ],
   "source": [
    "lost_test = harmonizing(lost, 'agency', 'project_title','project_description','cost__in_millions_', 'location', 'county','city', 'LOST', ['estimated_federal_funds', 'estimated_state_funds',\n",
    "     'estimated_local_funds', 'estimated_other_funds']) "
   ]
  },
  {
   "cell_type": "code",
   "execution_count": 25,
   "id": "7f7d3c2d-8e14-4a26-a50b-243f61c5a2c7",
   "metadata": {},
   "outputs": [
    {
     "data": {
      "text/html": [
       "<div>\n",
       "<style scoped>\n",
       "    .dataframe tbody tr th:only-of-type {\n",
       "        vertical-align: middle;\n",
       "    }\n",
       "\n",
       "    .dataframe tbody tr th {\n",
       "        vertical-align: top;\n",
       "    }\n",
       "\n",
       "    .dataframe thead th {\n",
       "        text-align: right;\n",
       "    }\n",
       "</style>\n",
       "<table border=\"1\" class=\"dataframe\">\n",
       "  <thead>\n",
       "    <tr style=\"text-align: right;\">\n",
       "      <th></th>\n",
       "      <th>project_title</th>\n",
       "      <th>lead_agency</th>\n",
       "      <th>project_description</th>\n",
       "      <th>total_project_cost</th>\n",
       "      <th>fully_funded</th>\n",
       "      <th>total_available_funds</th>\n",
       "      <th>project_location</th>\n",
       "      <th>project_county</th>\n",
       "      <th>project_city</th>\n",
       "      <th>notes</th>\n",
       "      <th>data_source</th>\n",
       "    </tr>\n",
       "  </thead>\n",
       "  <tbody>\n",
       "    <tr>\n",
       "      <th>1210</th>\n",
       "      <td>Calistoga Drive From Vallejo Street To Union Road</td>\n",
       "      <td>None</td>\n",
       "      <td>None</td>\n",
       "      <td>0.00</td>\n",
       "      <td>No project cost info</td>\n",
       "      <td>0.00</td>\n",
       "      <td>None</td>\n",
       "      <td>San Benito</td>\n",
       "      <td>None</td>\n",
       "      <td>None</td>\n",
       "      <td>LOST</td>\n",
       "    </tr>\n",
       "  </tbody>\n",
       "</table>\n",
       "</div>"
      ],
      "text/plain": [
       "                                          project_title lead_agency  \\\n",
       "1210  Calistoga Drive From Vallejo Street To Union Road        None   \n",
       "\n",
       "     project_description  total_project_cost          fully_funded  \\\n",
       "1210                None                0.00  No project cost info   \n",
       "\n",
       "      total_available_funds project_location project_county project_city  \\\n",
       "1210                   0.00             None     San Benito         None   \n",
       "\n",
       "     notes data_source  \n",
       "1210  None        LOST  "
      ]
     },
     "execution_count": 25,
     "metadata": {},
     "output_type": "execute_result"
    }
   ],
   "source": [
    "lost_test.sample()"
   ]
  },
  {
   "cell_type": "code",
   "execution_count": 26,
   "id": "7f0d594d-741e-40b4-a705-1e6c65113592",
   "metadata": {},
   "outputs": [],
   "source": [
    "def add_all_projects():\n",
    "    \n",
    "    # Load original dataframes\n",
    "    state_rail_plan = load_state_rail_plan()\n",
    "    lost = load_lost()\n",
    "    \n",
    "    # Clean dataframes\n",
    "    state_rail_plan = harmonizing(state_rail_plan, 'lead_agency', 'project_name','project_description','total_project_cost', 'corridor', '', '', 'State Rail Plan', []) \n",
    "    lost = harmonizing(lost, 'agency', 'project_title','project_description','cost__in_millions_', 'location', 'county','city', 'LOST', ['estimated_federal_funds', 'estimated_state_funds',\n",
    "       'estimated_local_funds', 'estimated_other_funds']) \n",
    "    \n",
    "    # Concat\n",
    "    all_projects = pd.concat([lost, state_rail_plan])\n",
    "    \n",
    "    return all_projects"
   ]
  },
  {
   "cell_type": "code",
   "execution_count": 27,
   "id": "2a06d4af-7691-4a94-9e57-53308bf38f79",
   "metadata": {},
   "outputs": [
    {
     "name": "stderr",
     "output_type": "stream",
     "text": [
      "/tmp/ipykernel_742/3262329779.py:25: UserWarning: This pattern has match groups. To actually get the groups, use str.extract.\n",
      "  cost_columns = df.columns[df.columns.str.contains(\"(cost|funds)\")].tolist()\n",
      "/tmp/ipykernel_742/3921616735.py:3: FutureWarning: The default value of regex will change from True to False in a future version. In addition, single character regular expressions will *not* be treated as literal strings when regex=True.\n",
      "  df[agency_col]\n"
     ]
    }
   ],
   "source": [
    "all_projects_df = add_all_projects()"
   ]
  },
  {
   "cell_type": "code",
   "execution_count": 28,
   "id": "43128509-b278-4371-a703-84a17465abf1",
   "metadata": {},
   "outputs": [
    {
     "data": {
      "text/plain": [
       "(2125, 11)"
      ]
     },
     "execution_count": 28,
     "metadata": {},
     "output_type": "execute_result"
    }
   ],
   "source": [
    "all_projects_df.shape"
   ]
  },
  {
   "cell_type": "code",
   "execution_count": 29,
   "id": "eb385dda-5ca3-43db-aa29-3a16b124375a",
   "metadata": {},
   "outputs": [
    {
     "data": {
      "text/plain": [
       "No project cost info         1089\n",
       "No available funding info     839\n",
       "Not fully funded              169\n",
       "Fully funded                   28\n",
       "Name: fully_funded, dtype: int64"
      ]
     },
     "execution_count": 29,
     "metadata": {},
     "output_type": "execute_result"
    }
   ],
   "source": [
    "all_projects_df.fully_funded.value_counts()"
   ]
  },
  {
   "cell_type": "code",
   "execution_count": 30,
   "id": "a7a17643-12b5-44af-94a8-b52a0ecab7f2",
   "metadata": {},
   "outputs": [
    {
     "data": {
      "text/plain": [
       "Imperial          726\n",
       "None              276\n",
       "San Mateo         169\n",
       "Los Angeles       126\n",
       "Alameda           102\n",
       "Santa Clara       100\n",
       "San Benito         85\n",
       "San Diego          59\n",
       "San Joaquin        56\n",
       "San Bernardino     52\n",
       "Sacramento         51\n",
       "Tulare             49\n",
       "Sonoma             49\n",
       "Santa Barbara      37\n",
       "Madera             36\n",
       "San Francisco      28\n",
       "Riverside          27\n",
       "Stanislaus         20\n",
       "Contra             19\n",
       "Orange             19\n",
       "Monterey           17\n",
       "Santa Cruz          9\n",
       "Marin               7\n",
       "Fresno              5\n",
       "Los Angelest        1\n",
       "Name: project_county, dtype: int64"
      ]
     },
     "execution_count": 30,
     "metadata": {},
     "output_type": "execute_result"
    }
   ],
   "source": [
    "all_projects_df.project_county.value_counts()"
   ]
  },
  {
   "cell_type": "code",
   "execution_count": 31,
   "id": "c8d13d12-3110-4a68-908e-0ecc90dd5a6e",
   "metadata": {},
   "outputs": [
    {
     "data": {
      "text/plain": [
       "None                                                                                                                              1756\n",
       "Multiple                                                                                                                            46\n",
       "Metrolink                                                                                                                           42\n",
       "Caltrans                                                                                                                            34\n",
       "Sjrrc                                                                                                                               25\n",
       "Sandag                                                                                                                              22\n",
       "Lossan                                                                                                                              18\n",
       "Sjjpa                                                                                                                               17\n",
       "Bnsf                                                                                                                                12\n",
       "Tamc                                                                                                                                 9\n",
       "Ccjpa                                                                                                                                9\n",
       "Nctd                                                                                                                                 7\n",
       "Samtrans                                                                                                                             6\n",
       "No Specific Amounts For Each Project. Divided Total Fund Slated For A Project Category By Number Of Projects In That Category.       6\n",
       "County Of Sonoma                                                                                                                     6\n",
       "Bart                                                                                                                                 6\n",
       "Smart                                                                                                                                6\n",
       "Caltrain                                                                                                                             5\n",
       "Other                                                                                                                                5\n",
       "Tbd                                                                                                                                  5\n",
       "Caltrans And Scta                                                                                                                    5\n",
       "City Of Santa Rosa                                                                                                                   4\n",
       "Sonoma County                                                                                                                        4\n",
       "Octa                                                                                                                                 4\n",
       "Ac Transit                                                                                                                           4\n",
       "City Of Livermore                                                                                                                    4\n",
       "City Of San Leandro                                                                                                                  3\n",
       "Alameda County                                                                                                                       3\n",
       "Valley Link                                                                                                                          3\n",
       "Sccrtc                                                                                                                               2\n",
       "City Of Hayward                                                                                                                      2\n",
       "City Of Oakland                                                                                                                      2\n",
       "La Metro                                                                                                                             2\n",
       "Mst With Outreach Partners In The Veterans Community                                                                                 2\n",
       "Pcjpb                                                                                                                                2\n",
       "City Of Petaluma                                                                                                                     2\n",
       "County Of Sonoma And Caltrans                                                                                                        2\n",
       "Mst                                                                                                                                  2\n",
       "Tjpa                                                                                                                                 1\n",
       "City Of Simi Valley                                                                                                                  1\n",
       "City Of Hercules                                                                                                                     1\n",
       "City Of Goleta                                                                                                                       1\n",
       "City Of Camarillo                                                                                                                    1\n",
       "Slocog                                                                                                                               1\n",
       "City Of Oxnard                                                                                                                       1\n",
       "Sdmts                                                                                                                                1\n",
       "Sonomacounty                                                                                                                         1\n",
       "Caltrans And Sonoma County                                                                                                           1\n",
       "Caltrans And Local Jurisdictions                                                                                                     1\n",
       "City Of Oaklandbart                                                                                                                  1\n",
       "Caltransalameda County Cma                                                                                                           1\n",
       "City Of Alameda                                                                                                                      1\n",
       "City Of Dublin                                                                                                                       1\n",
       "City Of Newark                                                                                                                       1\n",
       "City Of Union City                                                                                                                   1\n",
       "Papco                                                                                                                                1\n",
       "Mst Would Lead As The Program Administrator                                                                                          1\n",
       "Typically Managed By A County Department                                                                                             1\n",
       "South San Francisco And Redwood City                                                                                                 1\n",
       "Pacifica                                                                                                                             1\n",
       "City Of San Mateo                                                                                                                    1\n",
       "Santa Clara Valley Transportation Authority                                                                                          1\n",
       "Sonoma County Transportation Authority                                                                                               1\n",
       "Alameda County Cma                                                                                                                   1\n",
       "City Of Rohnert Park                                                                                                                 1\n",
       "City Of Sebastopol                                                                                                                   1\n",
       "City Of Healdsburg                                                                                                                   1\n",
       "Smart And Local Jurisdictions                                                                                                        1\n",
       "Calsta                                                                                                                               1\n",
       "Name: lead_agency, dtype: int64"
      ]
     },
     "execution_count": 31,
     "metadata": {},
     "output_type": "execute_result"
    }
   ],
   "source": [
    "all_projects_df.lead_agency.value_counts()"
   ]
  }
 ],
 "metadata": {
  "kernelspec": {
   "display_name": "Python 3 (ipykernel)",
   "language": "python",
   "name": "python3"
  },
  "language_info": {
   "codemirror_mode": {
    "name": "ipython",
    "version": 3
   },
   "file_extension": ".py",
   "mimetype": "text/x-python",
   "name": "python",
   "nbconvert_exporter": "python",
   "pygments_lexer": "ipython3",
   "version": "3.9.13"
  }
 },
 "nbformat": 4,
 "nbformat_minor": 5
}
