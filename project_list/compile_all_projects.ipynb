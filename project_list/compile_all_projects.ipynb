{
 "cells": [
  {
   "cell_type": "markdown",
   "id": "77106c12-82aa-4be4-8d9c-e66fafec4d67",
   "metadata": {},
   "source": [
    "## General function to clean up data from various grants"
   ]
  },
  {
   "cell_type": "code",
   "execution_count": 1,
   "id": "06ac19fe-7b6c-4560-9740-8a4f72c5b6e1",
   "metadata": {},
   "outputs": [
    {
     "name": "stderr",
     "output_type": "stream",
     "text": [
      "/opt/conda/lib/python3.9/site-packages/geopandas/_compat.py:123: UserWarning: The Shapely GEOS version (3.11.1-CAPI-1.17.1) is incompatible with the GEOS version PyGEOS was compiled with (3.10.1-CAPI-1.16.0). Conversions between both will be slow.\n",
      "  warnings.warn(\n",
      "/home/jovyan/data-analyses/project_list/_sb1_utils.py:1: UserWarning: Shapely 2.0 is installed, but because PyGEOS is also installed, GeoPandas will still use PyGEOS by default for now. To force to use and test Shapely 2.0, you have to set the environment variable USE_PYGEOS=0. You can do this before starting the Python process, or in your code before importing geopandas:\n",
      "\n",
      "import os\n",
      "os.environ['USE_PYGEOS'] = '0'\n",
      "import geopandas\n",
      "\n",
      "In a future release, GeoPandas will switch to using Shapely by default. If you are using PyGEOS directly (calling PyGEOS functions on geometries from GeoPandas), this will then stop working and you are encouraged to migrate from PyGEOS to Shapely 2.0 (https://shapely.readthedocs.io/en/latest/migration_pygeos.html).\n",
      "  import geopandas as gpd\n"
     ]
    }
   ],
   "source": [
    "import _cleaning_utils\n",
    "import _harmonization_utils as harmonization_utils\n",
    "import _state_rail_plan_utils as srp_utils\n",
    "import pandas as pd\n",
    "from calitp_data_analysis.sql import to_snakecase\n",
    "\n",
    "import shapely \n",
    "import geopandas as gpd"
   ]
  },
  {
   "cell_type": "code",
   "execution_count": 2,
   "id": "d78be4e7-2349-4ffd-9d59-f9fa450ae7dd",
   "metadata": {},
   "outputs": [],
   "source": [
    "import re\n",
    "import nltk\n",
    "from nltk import ngrams\n",
    "from nltk.corpus import stopwords\n",
    "from nltk.tokenize import sent_tokenize, word_tokenize\n",
    "import re\n",
    "from collections import Counter\n",
    "from autocorrect import Speller"
   ]
  },
  {
   "cell_type": "code",
   "execution_count": 3,
   "id": "e7b68eeb-422d-4be8-b557-7bd9e95599af",
   "metadata": {},
   "outputs": [],
   "source": [
    "pd.options.display.max_columns = 100\n",
    "pd.options.display.float_format = \"{:.2f}\".format\n",
    "pd.set_option(\"display.max_rows\", None)\n",
    "pd.set_option(\"display.max_colwidth\", None)"
   ]
  },
  {
   "cell_type": "code",
   "execution_count": 4,
   "id": "8f02b741-487c-49e5-a860-7d278e2e11e9",
   "metadata": {},
   "outputs": [],
   "source": [
    "# sb1 = harmonization_utils.load_sb1()"
   ]
  },
  {
   "cell_type": "code",
   "execution_count": 5,
   "id": "0541b671-a020-485f-9b0a-f46238f1d4f9",
   "metadata": {},
   "outputs": [],
   "source": [
    "# lost = harmonization_utils.load_lost()"
   ]
  },
  {
   "cell_type": "code",
   "execution_count": 6,
   "id": "78b5d13c-f4ba-4baf-8c3a-f520a960a44a",
   "metadata": {},
   "outputs": [],
   "source": [
    "# srp = harmonization_utils.load_state_rail_plan()"
   ]
  },
  {
   "cell_type": "code",
   "execution_count": 7,
   "id": "291e821d-9b3f-40a2-bde9-7a12b31eb410",
   "metadata": {},
   "outputs": [],
   "source": [
    "def harmonizing(\n",
    "    df,\n",
    "    agency_name_col: str,\n",
    "    project_name_col: str,\n",
    "    project_description_col: str,\n",
    "    project_category_col: str,\n",
    "    project_cost_col: str,\n",
    "    location_col: str,\n",
    "    county_col: str,\n",
    "    city_col: str,\n",
    "    project_year_col: str,\n",
    "    program_col: str,\n",
    "    data_source: str,\n",
    "    fund_cols: list,\n",
    "    cost_in_millions: bool = True,\n",
    "):\n",
    "    \"\"\"\n",
    "    Take a dataset and change the column names/types to\n",
    "    default names and formats.\n",
    "    \n",
    "    Add metric if the project is fully funded or not.\n",
    "    \"\"\"\n",
    "    # Rename columns\n",
    "    rename_columns = {\n",
    "        agency_name_col: \"lead_agency\",\n",
    "        project_name_col: \"project_title\",\n",
    "        project_description_col: \"project_description\",\n",
    "        project_category_col: \"project_category\",\n",
    "        project_cost_col: \"total_project_cost\",\n",
    "        location_col: \"location\",\n",
    "        county_col: \"county\",\n",
    "        city_col: \"city\",\n",
    "        project_year_col: \"project_year\",\n",
    "        program_col: \"grant_program\"\n",
    "    }\n",
    "\n",
    "    df = df.rename(columns=rename_columns)\n",
    "\n",
    "    # Coerce cost/fund columns to right type\n",
    "    cost_columns = df.columns[df.columns.str.contains(\"(cost|funds)\")].tolist()\n",
    "    for i in cost_columns:\n",
    "        df[i] = df[i].apply(pd.to_numeric, errors=\"coerce\").fillna(0)\n",
    "\n",
    "    # Clean up string columns\n",
    "    string_cols = df.select_dtypes(include=[\"object\"]).columns.to_list()\n",
    "    for i in string_cols:\n",
    "        df[i] = df[i].str.strip().str.title()\n",
    "    \n",
    "    # Clean agency names\n",
    "    df = harmonization_utils.organization_cleaning(df, \"lead_agency\")\n",
    "\n",
    "    # Add data source\n",
    "    df[\"data_source\"] = data_source\n",
    "\n",
    "    # Divide cost columns by millions\n",
    "    # If bool is set to True\n",
    "    if cost_in_millions:\n",
    "        for i in cost_columns:\n",
    "            df[i] = df[i].divide(1_000_000)\n",
    "\n",
    "    # Create columns even if they don't exist, just to harmonize\n",
    "    # before concatting.\n",
    "    create_columns = [\"county\",\"city\",\"notes\", \"project_year\", \"project_category\"]\n",
    "    for column in create_columns:\n",
    "        if column not in df:\n",
    "            df[column] = \"None\"\n",
    "    if \"grant_program\" not in df:\n",
    "        df[\"grant_program\"] = data_source\n",
    "\n",
    "    # Determine if the project completely funded or not?\n",
    "    # Add up all available funds\n",
    "    df[\"total_available_funds\"] = df[fund_cols].sum(axis=1)\n",
    "\n",
    "    # Compare if available funds is greater or equal to\n",
    "    # total project cost\n",
    "    df[\"fully_funded\"] = df.apply(harmonization_utils.funding_vs_expenses, axis=1)\n",
    "    \n",
    "    # Create a project id - first LOST project is LOST-1, \n",
    "    # second LOST is LOST-2, LOST-3, LOST-4, etc\n",
    "    df['project_id'] =  df.data_source + '-' + df.groupby('data_source').cumcount().astype('str')\n",
    "    \n",
    "    # Only keep certain columns\n",
    "    columns_to_keep = [\n",
    "        \"project_title\",\n",
    "        \"lead_agency\",\n",
    "        \"project_year\",\n",
    "        \"project_category\",\n",
    "        \"grant_program\",\n",
    "        \"project_description\",\n",
    "        \"total_project_cost\",\n",
    "        \"fully_funded\",\n",
    "        \"total_available_funds\",\n",
    "        \"location\",\n",
    "        \"county\",\n",
    "        \"city\",\n",
    "        \"notes\",\n",
    "        \"data_source\",\n",
    "        \"project_id\",\n",
    "    ]\n",
    "    df = df[columns_to_keep]\n",
    "\n",
    "    # Fill in any nulls\n",
    "    df = df.fillna(df.dtypes.replace({\"float64\": 0.0, \"object\": \"None\"}))\n",
    "\n",
    "    return df"
   ]
  },
  {
   "cell_type": "code",
   "execution_count": 8,
   "id": "0ea5badb-841b-4941-b48f-23d750b5ed27",
   "metadata": {},
   "outputs": [],
   "source": [
    "def harmonize_srp():\n",
    "    df = harmonization_utils.load_state_rail_plan()\n",
    "    df = harmonizing(\n",
    "        df,\n",
    "        agency_name_col=\"lead_agency\",\n",
    "        project_name_col=\"project_name\",\n",
    "        project_description_col=\"project_description\",\n",
    "        project_category_col=\"project_category\",\n",
    "        project_cost_col=\"total_project_cost\",\n",
    "        location_col=\"corridor\",\n",
    "        county_col=\"\",\n",
    "        city_col=\"\",\n",
    "        project_year_col=\"\",\n",
    "        program_col= \"\",\n",
    "        data_source = \"State Rail Plan\",\n",
    "        fund_cols=[],\n",
    "        cost_in_millions=True,)\n",
    "        \n",
    "    return df"
   ]
  },
  {
   "cell_type": "code",
   "execution_count": 9,
   "id": "23804222-466a-4754-a1ad-fd8f3f8a5239",
   "metadata": {},
   "outputs": [],
   "source": [
    "def harominze_lost():\n",
    "    df = harmonization_utils.load_lost()\n",
    "    df = harmonizing(\n",
    "        df,\n",
    "        agency_name_col=\"agency\",\n",
    "         project_name_col = \"project_title\",\n",
    "        project_description_col=\"project_description\",\n",
    "        project_category_col= \"project_category\",\n",
    "         project_cost_col=\"cost__in_millions_\",\n",
    "        location_col = \"location\",\n",
    "        county_col = \"county\",\n",
    "        city_col = \"city\",\n",
    "        project_year_col = \"\",\n",
    "        program_col = \"\",\n",
    "        data_source = \"LOST\",\n",
    "        fund_cols = [\n",
    "            \"estimated_lost_funds\",\n",
    "            \"estimated_federal_funds\",\n",
    "            \"estimated_state_funds\",\n",
    "            \"estimated_local_funds\",\n",
    "            \"estimated_other_funds\",\n",
    "        ],\n",
    "        cost_in_millions = False,\n",
    "    )\n",
    "        \n",
    "    return df"
   ]
  },
  {
   "cell_type": "code",
   "execution_count": 10,
   "id": "20e8a81a-e6b1-4bdf-a0f8-21420c62b68a",
   "metadata": {},
   "outputs": [],
   "source": [
    "def harmonize_sb1():\n",
    "    df = harmonization_utils.load_sb1()\n",
    "    df = harmonizing(\n",
    "        df,\n",
    "        agency_name_col=\"agencies\",\n",
    "        project_name_col=\"projecttitle_x\",\n",
    "        project_description_col=\"projectdescription\",\n",
    "        project_category_col=\"\",\n",
    "        project_cost_col=\"totalcost\",\n",
    "        location_col=\"geometry\",\n",
    "        county_col=\"countynames\",\n",
    "        city_col=\"citynames\",\n",
    "        project_year_col=\"fiscalyears\",\n",
    "        program_col=\"programcodes\",\n",
    "        data_source = \"SB1\",\n",
    "        fund_cols=[\"sb1funds\", \"iijafunds\"],\n",
    "        cost_in_millions=True,\n",
    "    )\n",
    "        \n",
    "    return df"
   ]
  },
  {
   "cell_type": "code",
   "execution_count": 32,
   "id": "697c2148-4b34-465b-8299-0e166f58f937",
   "metadata": {},
   "outputs": [
    {
     "name": "stderr",
     "output_type": "stream",
     "text": [
      "/home/jovyan/data-analyses/project_list/_sb1_utils.py:30: FutureWarning: The default value of regex will change from True to False in a future version. In addition, single character regular expressions will *not* be treated as literal strings when regex=True.\n",
      "/home/jovyan/data-analyses/project_list/_sb1_utils.py:37: FutureWarning: The default value of regex will change from True to False in a future version.\n",
      "/home/jovyan/data-analyses/project_list/_sb1_utils.py:30: FutureWarning: The default value of regex will change from True to False in a future version. In addition, single character regular expressions will *not* be treated as literal strings when regex=True.\n"
     ]
    }
   ],
   "source": [
    "sb1 = harmonization_utils.load_sb1()"
   ]
  },
  {
   "cell_type": "code",
   "execution_count": 33,
   "id": "e083ef43-5273-4106-809c-b711b6627c90",
   "metadata": {},
   "outputs": [],
   "source": [
    "sb1_funds = [\"sb1funds\", \"iijafunds\"]"
   ]
  },
  {
   "cell_type": "code",
   "execution_count": 47,
   "id": "07ac72b5-dcb7-40d2-a250-17ee7eedf1f0",
   "metadata": {},
   "outputs": [],
   "source": [
    "# sb1[\"sb1funds\"] = sb1[\"sb1funds\"].astype(str)"
   ]
  },
  {
   "cell_type": "code",
   "execution_count": 48,
   "id": "6c4aa207-d1ff-40df-812f-7ebb77587a65",
   "metadata": {},
   "outputs": [],
   "source": [
    "# sb1[\"iijafunds\"] = sb1[\"iijafunds\"].astype(str)"
   ]
  },
  {
   "cell_type": "code",
   "execution_count": 49,
   "id": "aff72c96-d6ea-4b35-8b4f-bc7ab8e6b479",
   "metadata": {},
   "outputs": [],
   "source": [
    "# https://stackoverflow.com/questions/65532480/how-to-combine-column-names-and-values\n",
    "def address(x):\n",
    "    return ', '.join([col + ': ' + x[col] for col in sb1_funds])"
   ]
  },
  {
   "cell_type": "code",
   "execution_count": 50,
   "id": "a3642fa8-cfad-47a2-9583-632cd08c9f96",
   "metadata": {},
   "outputs": [],
   "source": [
    "sb1['notes'] = sb1.apply(address, axis = 1)"
   ]
  },
  {
   "cell_type": "code",
   "execution_count": 51,
   "id": "5869752c-a5c2-479f-8b95-ce5266bb9543",
   "metadata": {},
   "outputs": [
    {
     "data": {
      "text/html": [
       "<div>\n",
       "<style scoped>\n",
       "    .dataframe tbody tr th:only-of-type {\n",
       "        vertical-align: middle;\n",
       "    }\n",
       "\n",
       "    .dataframe tbody tr th {\n",
       "        vertical-align: top;\n",
       "    }\n",
       "\n",
       "    .dataframe thead th {\n",
       "        text-align: right;\n",
       "    }\n",
       "</style>\n",
       "<table border=\"1\" class=\"dataframe\">\n",
       "  <thead>\n",
       "    <tr style=\"text-align: right;\">\n",
       "      <th></th>\n",
       "      <th>notes</th>\n",
       "    </tr>\n",
       "  </thead>\n",
       "  <tbody>\n",
       "    <tr>\n",
       "      <th>4716</th>\n",
       "      <td>sb1funds: 297531.0, iijafunds: 0.0</td>\n",
       "    </tr>\n",
       "    <tr>\n",
       "      <th>4527</th>\n",
       "      <td>sb1funds: 1425000.0, iijafunds: 10997000.0</td>\n",
       "    </tr>\n",
       "    <tr>\n",
       "      <th>1301</th>\n",
       "      <td>sb1funds: 0.0, iijafunds: 0.0</td>\n",
       "    </tr>\n",
       "    <tr>\n",
       "      <th>5713</th>\n",
       "      <td>sb1funds: 158056.0, iijafunds: 0.0</td>\n",
       "    </tr>\n",
       "    <tr>\n",
       "      <th>4131</th>\n",
       "      <td>sb1funds: 0.0, iijafunds: 1035000.0</td>\n",
       "    </tr>\n",
       "    <tr>\n",
       "      <th>3055</th>\n",
       "      <td>sb1funds: 0.0, iijafunds: 0.0</td>\n",
       "    </tr>\n",
       "    <tr>\n",
       "      <th>1984</th>\n",
       "      <td>sb1funds: 108506.0, iijafunds: 0.0</td>\n",
       "    </tr>\n",
       "    <tr>\n",
       "      <th>1605</th>\n",
       "      <td>sb1funds: 973000.0, iijafunds: 0.0</td>\n",
       "    </tr>\n",
       "    <tr>\n",
       "      <th>5659</th>\n",
       "      <td>sb1funds: 1480000.0, iijafunds: 0.0</td>\n",
       "    </tr>\n",
       "    <tr>\n",
       "      <th>1172</th>\n",
       "      <td>sb1funds: 0.0, iijafunds: 0.0</td>\n",
       "    </tr>\n",
       "  </tbody>\n",
       "</table>\n",
       "</div>"
      ],
      "text/plain": [
       "                                           notes\n",
       "4716          sb1funds: 297531.0, iijafunds: 0.0\n",
       "4527  sb1funds: 1425000.0, iijafunds: 10997000.0\n",
       "1301               sb1funds: 0.0, iijafunds: 0.0\n",
       "5713          sb1funds: 158056.0, iijafunds: 0.0\n",
       "4131         sb1funds: 0.0, iijafunds: 1035000.0\n",
       "3055               sb1funds: 0.0, iijafunds: 0.0\n",
       "1984          sb1funds: 108506.0, iijafunds: 0.0\n",
       "1605          sb1funds: 973000.0, iijafunds: 0.0\n",
       "5659         sb1funds: 1480000.0, iijafunds: 0.0\n",
       "1172               sb1funds: 0.0, iijafunds: 0.0"
      ]
     },
     "execution_count": 51,
     "metadata": {},
     "output_type": "execute_result"
    }
   ],
   "source": [
    "sb1[['notes']].sample(10)"
   ]
  },
  {
   "cell_type": "code",
   "execution_count": 11,
   "id": "f9a86d28-9b77-48c3-ba6d-27dc360f2fd0",
   "metadata": {},
   "outputs": [],
   "source": [
    "\n",
    "def get_list_of_words(df, col: str) -> list:\n",
    "    \"\"\"\n",
    "    Natalie's function to clean and place words in a project description column\n",
    "    into a list\n",
    "    \"\"\"\n",
    "    # get just the one col\n",
    "    column = df[[col]]\n",
    "\n",
    "    # remove single-dimensional entries from the shape of an array\n",
    "    col_text = column.squeeze()\n",
    "    # get list of words\n",
    "    text_list = col_text.tolist()\n",
    "\n",
    "    # Join all the column into one large text blob, lower text\n",
    "    text_list = \" \".join(text_list).lower()\n",
    "\n",
    "    # remove punctuation\n",
    "    text_list = re.sub(r\"[^\\w\\s]\", \"\", text_list)\n",
    "\n",
    "    # List of stopwords\n",
    "    swords = [re.sub(r\"[^A-z\\s]\", \"\", sword) for sword in stopwords.words(\"english\")]\n",
    "    \n",
    "    # Remove stopwords\n",
    "    clean_text_list = [\n",
    "        word for word in word_tokenize(text_list.lower()) if word not in swords\n",
    "    ]\n",
    "\n",
    "    return clean_text_list"
   ]
  },
  {
   "cell_type": "code",
   "execution_count": 12,
   "id": "cd602787-2444-49c5-8bb8-c59a63975de5",
   "metadata": {},
   "outputs": [],
   "source": [
    "def find_common_phrases(df, description_column:str, values_to_add:list):\n",
    "    \n",
    "    # Break apart every word in the description column into a list\n",
    "    descriptions_list = get_list_of_words(df, description_column)\n",
    "    \n",
    "    # Get phrases of whatever length you want (2,3,4,etc)\n",
    "    c = Counter([\" \".join(y) for x in [2] for y in ngrams(descriptions_list, x)])\n",
    "    \n",
    "    # Make a dataframe out of the counter values\n",
    "    df_phrases = pd.DataFrame({\"phrases\": list(c.keys()), \"total\": list(c.values())})\n",
    "    \n",
    "    # Take phrases that are repeated more than 40 times and turn it into a list\n",
    "    df_phrases = ((df_phrases.loc[df_phrases[\"total\"] > 40])).reset_index(drop = True)\n",
    "    common_phrases_list = df_phrases.phrases.tolist()\n",
    "    \n",
    "    counties = [\"san bernardino\",\"los angeles\",\"contra costa\", \"el dorado\",\n",
    "                \"san luis obispo\", \"luis obispo\", \"del norte\", \"san francisco\"]\n",
    "    \n",
    "    common_phrases_list = list(set(common_phrases_list) - set(counties))\n",
    "    \n",
    "    # CLean up the list to delete county information/etc\n",
    "    words_to_delete = ['county','route', 'dollar','mile','santa','project','san','lanes','lane',\n",
    "                      '2','4','financial','prop','best']\n",
    "    \n",
    "    for word in words_to_delete:\n",
    "        common_phrases_list = [ x for x in common_phrases_list if word not in x ]\n",
    "\n",
    "    # ADD certain keywords here \n",
    "    # Operating Additional Service\n",
    "    common_phrases_list.extend(values_to_add)\n",
    "    \n",
    "    return common_phrases_list "
   ]
  },
  {
   "cell_type": "code",
   "execution_count": 13,
   "id": "ec139873-4bb7-4428-9fd7-ceb9e247d4a3",
   "metadata": {},
   "outputs": [],
   "source": [
    "def categorize_projects(df, \n",
    "                        description_column:str,\n",
    "                        project_id_column:str,\n",
    "                        title_column:str,\n",
    "                        values_to_add:list):\n",
    "    \n",
    "    # Find most common 2 word phrases for some automatic project categories\n",
    "    common_phrases_list = find_common_phrases(df,description_column,values_to_add)\n",
    "    \n",
    "    # Place all the words in common_phrases_list into a blob named query\n",
    "    # https://stackoverflow.com/questions/64727090/extract-all-matching-keywords-from-a-list-of-words-and-create-a-new-dataframe-pa\n",
    "    query = \"|\".join(common_phrases_list)\n",
    "    \n",
    "    # Remove punctation and lower strings in original description column befores searching\n",
    "    df[\"clean_description\"] = (df[description_column]\n",
    "                      .str.lower()\n",
    "                      .str.replace(\"-\", \" \", regex=True)\n",
    "                      .str.replace(\"(\",\" \", regex=True)\n",
    "                      .str.replace(\")\",\" \", regex=True)\n",
    "                      .str.replace(\".\",\" \", regex=True)\n",
    "                      .str.strip()\n",
    "                     )\n",
    "    \n",
    "    # Search through description column for the most common phrases \n",
    "    # Input the results in the new column\n",
    "    df[\"auto_project_category\"] = df[\"clean_description\"].str.findall(\n",
    "    r\"\\b({})\\b\".format(query))\n",
    "    \n",
    "    # Explode to take categories out of a list\n",
    "    # Drop duplicate project keywords by title\n",
    "    df = (df\n",
    "          .explode(\"auto_project_category\")\n",
    "          .sort_values([project_id_column, title_column])\n",
    "          .drop_duplicates(subset=[description_column, project_id_column, title_column, \"auto_project_category\"]))\n",
    "    \n",
    "    # Fill any uncategorized projects as \"Other\"\n",
    "    df[\"auto_project_category\"] = (df[\"auto_project_category\"].fillna(\"Other\").str.title())\n",
    "    \n",
    "    # Correct spelling\n",
    "    spell = Speller(lang='en')\n",
    "    df[\"auto_project_category\"] = df[\"auto_project_category\"].apply(lambda x: \" \".join([spell(i) for i in x.split()]))\n",
    "    \n",
    "    # Summarize - put all the categories onto one line\n",
    "    df = (df\n",
    "          .groupby([description_column, project_id_column, title_column,])[\"auto_project_category\"]\n",
    "          .apply(\",\".join)\n",
    "          .reset_index())\n",
    "    \n",
    "    return df"
   ]
  },
  {
   "cell_type": "code",
   "execution_count": 23,
   "id": "d123f3b9-da23-4d4d-a2e2-dc3769100171",
   "metadata": {},
   "outputs": [],
   "source": [
    "def add_all_projects():\n",
    "\n",
    "    # Load  dataframes\n",
    "    state_rail_plan = harmonize_srp()\n",
    "    lost = harominze_lost()\n",
    "    sb1 = harmonize_sb1()\n",
    "    \n",
    "    # Concat for df\n",
    "    all_projects_df = pd.concat([lost, state_rail_plan, sb1])\n",
    "    \n",
    "    # Categorize\n",
    "    categories = categorize_projects(all_projects_df, 'project_description','project_title','project_id',\n",
    "                                       ['operating','service','zero emission vehicle','zev','maintain/repair',\n",
    "                                       'repair/replace'])\n",
    "    \n",
    "    # Merge categorized \n",
    "    all_projects_df = pd.merge(all_projects_df.drop(columns = ['clean_description']),\n",
    "                                    categories, \n",
    "                                    how = \"left\",\n",
    "                                    on = ['project_description','project_title','project_id']\n",
    "                 )\n",
    "    \n",
    "    # Rename\n",
    "    all_projects_df = (all_projects_df.drop(columns = ['auto_project_category_x'])\n",
    "                                     .rename(columns = {'auto_project_category_y':'auto_tagged_project_categories'})\n",
    "                       )\n",
    "    # Concat for gdf\n",
    "    all_projects_gdf = pd.concat([sb1])\n",
    "    all_projects_gdf = all_projects_gdf.set_geometry('location')\n",
    "    \n",
    "    return all_projects_df, all_projects_gdf"
   ]
  },
  {
   "cell_type": "code",
   "execution_count": 21,
   "id": "87a29e05-0ba6-40cb-93e2-d097159e6235",
   "metadata": {},
   "outputs": [
    {
     "name": "stderr",
     "output_type": "stream",
     "text": [
      "/tmp/ipykernel_2317/2109136578.py:40: UserWarning: This pattern is interpreted as a regular expression, and has match groups. To actually get the groups, use str.extract.\n",
      "/home/jovyan/data-analyses/project_list/_harmonization_utils.py:34: FutureWarning: The default value of regex will change from True to False in a future version. In addition, single character regular expressions will *not* be treated as literal strings when regex=True.\n",
      "/tmp/ipykernel_2317/2109136578.py:40: UserWarning: This pattern is interpreted as a regular expression, and has match groups. To actually get the groups, use str.extract.\n",
      "/home/jovyan/data-analyses/project_list/_harmonization_utils.py:34: FutureWarning: The default value of regex will change from True to False in a future version. In addition, single character regular expressions will *not* be treated as literal strings when regex=True.\n",
      "/home/jovyan/data-analyses/project_list/_sb1_utils.py:30: FutureWarning: The default value of regex will change from True to False in a future version. In addition, single character regular expressions will *not* be treated as literal strings when regex=True.\n",
      "/home/jovyan/data-analyses/project_list/_sb1_utils.py:37: FutureWarning: The default value of regex will change from True to False in a future version.\n",
      "/home/jovyan/data-analyses/project_list/_sb1_utils.py:30: FutureWarning: The default value of regex will change from True to False in a future version. In addition, single character regular expressions will *not* be treated as literal strings when regex=True.\n",
      "/tmp/ipykernel_2317/2109136578.py:40: UserWarning: This pattern is interpreted as a regular expression, and has match groups. To actually get the groups, use str.extract.\n",
      "/home/jovyan/data-analyses/project_list/_harmonization_utils.py:34: FutureWarning: The default value of regex will change from True to False in a future version. In addition, single character regular expressions will *not* be treated as literal strings when regex=True.\n"
     ]
    }
   ],
   "source": [
    "all_projects, all_projects_geo = add_all_projects()"
   ]
  },
  {
   "cell_type": "code",
   "execution_count": 53,
   "id": "3380651a-7ff3-4785-b43d-81cf3ec6adda",
   "metadata": {},
   "outputs": [],
   "source": [
    "# all_projects[['project_category','grant_program','project_description', 'auto_project_category_y']].sample(100)"
   ]
  },
  {
   "cell_type": "markdown",
   "id": "85cfedf8-14aa-4d6c-b30e-cc9f6ee5bbf8",
   "metadata": {},
   "source": [
    "### Look at the data"
   ]
  },
  {
   "cell_type": "code",
   "execution_count": 54,
   "id": "65ac20ed-0cfc-43a7-850d-a8ed395df37d",
   "metadata": {},
   "outputs": [
    {
     "data": {
      "text/plain": [
       "(8229, 17)"
      ]
     },
     "execution_count": 54,
     "metadata": {},
     "output_type": "execute_result"
    }
   ],
   "source": [
    "all_projects.shape"
   ]
  },
  {
   "cell_type": "code",
   "execution_count": 55,
   "id": "e006ee21-bdd2-4cd8-9843-79642e1136d2",
   "metadata": {},
   "outputs": [
    {
     "data": {
      "text/plain": [
       "No available funding info   44.65\n",
       "Partially funded            28.13\n",
       "Fully funded                13.99\n",
       "No project cost info        13.23\n",
       "Name: fully_funded, dtype: float64"
      ]
     },
     "execution_count": 55,
     "metadata": {},
     "output_type": "execute_result"
    }
   ],
   "source": [
    "all_projects.fully_funded.value_counts() / len(all_projects) * 100"
   ]
  },
  {
   "cell_type": "code",
   "execution_count": 56,
   "id": "9d55e4ed-9b69-4111-b2ed-69715c9d90c5",
   "metadata": {},
   "outputs": [
    {
     "data": {
      "text/plain": [
       "710"
      ]
     },
     "execution_count": 56,
     "metadata": {},
     "output_type": "execute_result"
    }
   ],
   "source": [
    "all_projects.lead_agency.nunique()"
   ]
  },
  {
   "cell_type": "code",
   "execution_count": 63,
   "id": "01a534d9-75e4-4ff8-aa11-99db480de733",
   "metadata": {},
   "outputs": [
    {
     "data": {
      "text/plain": [
       "count    8229.00\n",
       "mean       37.33\n",
       "std       420.84\n",
       "min         0.00\n",
       "25%         0.39\n",
       "50%         3.15\n",
       "75%        12.15\n",
       "max     30000.00\n",
       "Name: total_project_cost, dtype: float64"
      ]
     },
     "execution_count": 63,
     "metadata": {},
     "output_type": "execute_result"
    }
   ],
   "source": [
    "all_projects.total_project_cost.describe()"
   ]
  },
  {
   "cell_type": "code",
   "execution_count": 57,
   "id": "6985e5d0-cf27-423f-8775-16eb3c518beb",
   "metadata": {
    "tags": []
   },
   "outputs": [
    {
     "data": {
      "text/html": [
       "<div>\n",
       "<style scoped>\n",
       "    .dataframe tbody tr th:only-of-type {\n",
       "        vertical-align: middle;\n",
       "    }\n",
       "\n",
       "    .dataframe tbody tr th {\n",
       "        vertical-align: top;\n",
       "    }\n",
       "\n",
       "    .dataframe thead th {\n",
       "        text-align: right;\n",
       "    }\n",
       "</style>\n",
       "<table border=\"1\" class=\"dataframe\">\n",
       "  <thead>\n",
       "    <tr style=\"text-align: right;\">\n",
       "      <th></th>\n",
       "      <th>project_id</th>\n",
       "    </tr>\n",
       "    <tr>\n",
       "      <th>data_source</th>\n",
       "      <th></th>\n",
       "    </tr>\n",
       "  </thead>\n",
       "  <tbody>\n",
       "    <tr>\n",
       "      <th>LOST</th>\n",
       "      <td>277</td>\n",
       "    </tr>\n",
       "    <tr>\n",
       "      <th>SB1</th>\n",
       "      <td>874</td>\n",
       "    </tr>\n",
       "  </tbody>\n",
       "</table>\n",
       "</div>"
      ],
      "text/plain": [
       "             project_id\n",
       "data_source            \n",
       "LOST                277\n",
       "SB1                 874"
      ]
     },
     "execution_count": 57,
     "metadata": {},
     "output_type": "execute_result"
    }
   ],
   "source": [
    "all_projects.loc[all_projects.fully_funded == \"Fully funded\"].groupby(\n",
    "    [\"data_source\"]\n",
    ").agg({\"project_id\":\"nunique\"})"
   ]
  },
  {
   "cell_type": "code",
   "execution_count": 58,
   "id": "3259fc95-2db6-46ad-8cc6-a0357aa19077",
   "metadata": {},
   "outputs": [
    {
     "data": {
      "text/html": [
       "<div>\n",
       "<style scoped>\n",
       "    .dataframe tbody tr th:only-of-type {\n",
       "        vertical-align: middle;\n",
       "    }\n",
       "\n",
       "    .dataframe tbody tr th {\n",
       "        vertical-align: top;\n",
       "    }\n",
       "\n",
       "    .dataframe thead th {\n",
       "        text-align: right;\n",
       "    }\n",
       "</style>\n",
       "<table border=\"1\" class=\"dataframe\">\n",
       "  <thead>\n",
       "    <tr style=\"text-align: right;\">\n",
       "      <th></th>\n",
       "      <th>project_id</th>\n",
       "    </tr>\n",
       "    <tr>\n",
       "      <th>data_source</th>\n",
       "      <th></th>\n",
       "    </tr>\n",
       "  </thead>\n",
       "  <tbody>\n",
       "    <tr>\n",
       "      <th>LOST</th>\n",
       "      <td>65</td>\n",
       "    </tr>\n",
       "    <tr>\n",
       "      <th>SB1</th>\n",
       "      <td>2250</td>\n",
       "    </tr>\n",
       "  </tbody>\n",
       "</table>\n",
       "</div>"
      ],
      "text/plain": [
       "             project_id\n",
       "data_source            \n",
       "LOST                 65\n",
       "SB1                2250"
      ]
     },
     "execution_count": 58,
     "metadata": {},
     "output_type": "execute_result"
    }
   ],
   "source": [
    "all_projects.loc[all_projects.fully_funded == \"Partially funded\"].groupby(\n",
    "    [\"data_source\"]\n",
    ").agg({\"project_id\":\"nunique\"})"
   ]
  },
  {
   "cell_type": "code",
   "execution_count": 59,
   "id": "2ef08825-9e29-4268-9172-d0d83e08243b",
   "metadata": {},
   "outputs": [
    {
     "data": {
      "text/html": [
       "<div>\n",
       "<style scoped>\n",
       "    .dataframe tbody tr th:only-of-type {\n",
       "        vertical-align: middle;\n",
       "    }\n",
       "\n",
       "    .dataframe tbody tr th {\n",
       "        vertical-align: top;\n",
       "    }\n",
       "\n",
       "    .dataframe thead th {\n",
       "        text-align: right;\n",
       "    }\n",
       "</style>\n",
       "<table border=\"1\" class=\"dataframe\">\n",
       "  <thead>\n",
       "    <tr style=\"text-align: right;\">\n",
       "      <th></th>\n",
       "      <th>project_id</th>\n",
       "    </tr>\n",
       "    <tr>\n",
       "      <th>data_source</th>\n",
       "      <th></th>\n",
       "    </tr>\n",
       "  </thead>\n",
       "  <tbody>\n",
       "    <tr>\n",
       "      <th>LOST</th>\n",
       "      <td>1849</td>\n",
       "    </tr>\n",
       "    <tr>\n",
       "      <th>SB1</th>\n",
       "      <td>6104</td>\n",
       "    </tr>\n",
       "    <tr>\n",
       "      <th>State Rail Plan</th>\n",
       "      <td>276</td>\n",
       "    </tr>\n",
       "  </tbody>\n",
       "</table>\n",
       "</div>"
      ],
      "text/plain": [
       "                 project_id\n",
       "data_source                \n",
       "LOST                   1849\n",
       "SB1                    6104\n",
       "State Rail Plan         276"
      ]
     },
     "execution_count": 59,
     "metadata": {},
     "output_type": "execute_result"
    }
   ],
   "source": [
    "all_projects.groupby(['data_source']).agg({\"project_id\":\"nunique\"})"
   ]
  },
  {
   "cell_type": "code",
   "execution_count": 60,
   "id": "171611d6-acf9-46d8-9814-20534114d43e",
   "metadata": {},
   "outputs": [
    {
     "data": {
      "text/html": [
       "<div>\n",
       "<style scoped>\n",
       "    .dataframe tbody tr th:only-of-type {\n",
       "        vertical-align: middle;\n",
       "    }\n",
       "\n",
       "    .dataframe tbody tr th {\n",
       "        vertical-align: top;\n",
       "    }\n",
       "\n",
       "    .dataframe thead th {\n",
       "        text-align: right;\n",
       "    }\n",
       "</style>\n",
       "<table border=\"1\" class=\"dataframe\">\n",
       "  <thead>\n",
       "    <tr style=\"text-align: right;\">\n",
       "      <th></th>\n",
       "      <th></th>\n",
       "      <th>project_id</th>\n",
       "    </tr>\n",
       "    <tr>\n",
       "      <th>data_source</th>\n",
       "      <th>fully_funded</th>\n",
       "      <th></th>\n",
       "    </tr>\n",
       "  </thead>\n",
       "  <tbody>\n",
       "    <tr>\n",
       "      <th rowspan=\"4\" valign=\"top\">LOST</th>\n",
       "      <th>Fully funded</th>\n",
       "      <td>277</td>\n",
       "    </tr>\n",
       "    <tr>\n",
       "      <th>No available funding info</th>\n",
       "      <td>423</td>\n",
       "    </tr>\n",
       "    <tr>\n",
       "      <th>No project cost info</th>\n",
       "      <td>1084</td>\n",
       "    </tr>\n",
       "    <tr>\n",
       "      <th>Partially funded</th>\n",
       "      <td>65</td>\n",
       "    </tr>\n",
       "    <tr>\n",
       "      <th rowspan=\"3\" valign=\"top\">SB1</th>\n",
       "      <th>Fully funded</th>\n",
       "      <td>874</td>\n",
       "    </tr>\n",
       "    <tr>\n",
       "      <th>No available funding info</th>\n",
       "      <td>2980</td>\n",
       "    </tr>\n",
       "    <tr>\n",
       "      <th>Partially funded</th>\n",
       "      <td>2250</td>\n",
       "    </tr>\n",
       "    <tr>\n",
       "      <th rowspan=\"2\" valign=\"top\">State Rail Plan</th>\n",
       "      <th>No available funding info</th>\n",
       "      <td>271</td>\n",
       "    </tr>\n",
       "    <tr>\n",
       "      <th>No project cost info</th>\n",
       "      <td>5</td>\n",
       "    </tr>\n",
       "  </tbody>\n",
       "</table>\n",
       "</div>"
      ],
      "text/plain": [
       "                                           project_id\n",
       "data_source     fully_funded                         \n",
       "LOST            Fully funded                      277\n",
       "                No available funding info         423\n",
       "                No project cost info             1084\n",
       "                Partially funded                   65\n",
       "SB1             Fully funded                      874\n",
       "                No available funding info        2980\n",
       "                Partially funded                 2250\n",
       "State Rail Plan No available funding info         271\n",
       "                No project cost info                5"
      ]
     },
     "execution_count": 60,
     "metadata": {},
     "output_type": "execute_result"
    }
   ],
   "source": [
    "all_projects.groupby(['data_source','fully_funded']).agg({\"project_id\":\"nunique\"})"
   ]
  },
  {
   "cell_type": "code",
   "execution_count": 61,
   "id": "2a06d4af-7691-4a94-9e57-53308bf38f79",
   "metadata": {},
   "outputs": [],
   "source": [
    "# all_projects_df = harmonization_utils.add_all_projects()"
   ]
  }
 ],
 "metadata": {
  "kernelspec": {
   "display_name": "Python 3 (ipykernel)",
   "language": "python",
   "name": "python3"
  },
  "language_info": {
   "codemirror_mode": {
    "name": "ipython",
    "version": 3
   },
   "file_extension": ".py",
   "mimetype": "text/x-python",
   "name": "python",
   "nbconvert_exporter": "python",
   "pygments_lexer": "ipython3",
   "version": "3.9.13"
  }
 },
 "nbformat": 4,
 "nbformat_minor": 5
}
