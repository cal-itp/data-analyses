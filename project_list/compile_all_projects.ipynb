{
 "cells": [
  {
   "cell_type": "markdown",
   "id": "a47ae6dd-278c-42d0-a708-f72088e55f51",
   "metadata": {},
   "source": [
    "## Compile Projects\n",
    "To-do\n",
    "* Figure out how to version things b/c projects will get updated and we want to track any changes.\n",
    "* This only needs to be done with data from lp2000 and ctips.\n",
    "* Need to track changes across all the different dataframes\n",
    "* Use merges to figure it out?"
   ]
  },
  {
   "cell_type": "code",
   "execution_count": 1,
   "id": "bd086d78-ffe5-4cf3-9f70-f5b7f3a5cf40",
   "metadata": {},
   "outputs": [],
   "source": [
    "import _harmonization_utils as har_utils\n",
    "import _lrtp_utils as lrtp_utils\n",
    "import _sb1_utils as sb1_utils\n",
    "import _specific_list_utils\n",
    "import _state_rail_plan_utils as srp_utils\n",
    "import geopandas as gpd\n",
    "import pandas as pd\n",
    "from calitp_data_analysis.sql import to_snakecase\n",
    "import hashlib\n",
    "from datetime import datetime"
   ]
  },
  {
   "cell_type": "code",
   "execution_count": 2,
   "id": "7a1e769e-8af3-4bb8-87c9-e3b1c64c644b",
   "metadata": {},
   "outputs": [],
   "source": [
    "pd.options.display.max_columns = 100\n",
    "pd.options.display.float_format = \"{:.2f}\".format\n",
    "pd.set_option(\"display.max_rows\", None)\n",
    "pd.set_option(\"display.max_colwidth\", None)"
   ]
  },
  {
   "cell_type": "code",
   "execution_count": 3,
   "id": "9f74e0a0-c1e5-4e42-8d06-11e0ef0464ab",
   "metadata": {},
   "outputs": [],
   "source": [
    "GCS_FILE_PATH = \"gs://calitp-analytics-data/data-analyses/project_list/\""
   ]
  },
  {
   "cell_type": "markdown",
   "id": "9dc3a31d-a797-4ea0-ad80-a4adb5b4c740",
   "metadata": {},
   "source": [
    "### LRTP/LOST"
   ]
  },
  {
   "cell_type": "code",
   "execution_count": 19,
   "id": "67204871-470c-41ec-bf61-6b82b90c88e4",
   "metadata": {},
   "outputs": [
    {
     "name": "stderr",
     "output_type": "stream",
     "text": [
      "/home/jovyan/data-analyses/project_list/_lrtp_utils.py:66: UserWarning: This pattern is interpreted as a regular expression, and has match groups. To actually get the groups, use str.extract.\n",
      "  cost_columns = df.columns[df.columns.str.contains(\"(cost|funds)\")].tolist()\n",
      "/home/jovyan/data-analyses/project_list/_lrtp_utils.py:66: UserWarning: This pattern is interpreted as a regular expression, and has match groups. To actually get the groups, use str.extract.\n",
      "  cost_columns = df.columns[df.columns.str.contains(\"(cost|funds)\")].tolist()\n",
      "/home/jovyan/data-analyses/project_list/_lrtp_utils.py:66: UserWarning: This pattern is interpreted as a regular expression, and has match groups. To actually get the groups, use str.extract.\n",
      "  cost_columns = df.columns[df.columns.str.contains(\"(cost|funds)\")].tolist()\n",
      "/home/jovyan/data-analyses/project_list/_lrtp_utils.py:66: UserWarning: This pattern is interpreted as a regular expression, and has match groups. To actually get the groups, use str.extract.\n",
      "  cost_columns = df.columns[df.columns.str.contains(\"(cost|funds)\")].tolist()\n",
      "/home/jovyan/data-analyses/project_list/_lrtp_utils.py:66: UserWarning: This pattern is interpreted as a regular expression, and has match groups. To actually get the groups, use str.extract.\n",
      "  cost_columns = df.columns[df.columns.str.contains(\"(cost|funds)\")].tolist()\n",
      "/home/jovyan/data-analyses/project_list/_lrtp_utils.py:66: UserWarning: This pattern is interpreted as a regular expression, and has match groups. To actually get the groups, use str.extract.\n",
      "  cost_columns = df.columns[df.columns.str.contains(\"(cost|funds)\")].tolist()\n",
      "/home/jovyan/data-analyses/project_list/_lrtp_utils.py:66: UserWarning: This pattern is interpreted as a regular expression, and has match groups. To actually get the groups, use str.extract.\n",
      "  cost_columns = df.columns[df.columns.str.contains(\"(cost|funds)\")].tolist()\n",
      "/home/jovyan/data-analyses/project_list/_lrtp_utils.py:66: UserWarning: This pattern is interpreted as a regular expression, and has match groups. To actually get the groups, use str.extract.\n",
      "  cost_columns = df.columns[df.columns.str.contains(\"(cost|funds)\")].tolist()\n"
     ]
    },
    {
     "name": "stdout",
     "output_type": "stream",
     "text": [
      "96 rows are headers\n"
     ]
    },
    {
     "name": "stderr",
     "output_type": "stream",
     "text": [
      "/home/jovyan/data-analyses/project_list/_lrtp_utils.py:66: UserWarning: This pattern is interpreted as a regular expression, and has match groups. To actually get the groups, use str.extract.\n",
      "  cost_columns = df.columns[df.columns.str.contains(\"(cost|funds)\")].tolist()\n",
      "/home/jovyan/data-analyses/project_list/_lrtp_utils.py:720: FutureWarning: The default value of regex will change from True to False in a future version. In addition, single character regular expressions will *not* be treated as literal strings when regex=True.\n",
      "  sandag.cost2020m.str.replace(\"$\", \"\")\n",
      "/home/jovyan/data-analyses/project_list/_lrtp_utils.py:66: UserWarning: This pattern is interpreted as a regular expression, and has match groups. To actually get the groups, use str.extract.\n",
      "  cost_columns = df.columns[df.columns.str.contains(\"(cost|funds)\")].tolist()\n"
     ]
    },
    {
     "name": "stdout",
     "output_type": "stream",
     "text": [
      "65 rows are headers\n"
     ]
    },
    {
     "name": "stderr",
     "output_type": "stream",
     "text": [
      "/home/jovyan/data-analyses/project_list/_lrtp_utils.py:66: UserWarning: This pattern is interpreted as a regular expression, and has match groups. To actually get the groups, use str.extract.\n",
      "  cost_columns = df.columns[df.columns.str.contains(\"(cost|funds)\")].tolist()\n",
      "/home/jovyan/data-analyses/project_list/_lrtp_utils.py:66: UserWarning: This pattern is interpreted as a regular expression, and has match groups. To actually get the groups, use str.extract.\n",
      "  cost_columns = df.columns[df.columns.str.contains(\"(cost|funds)\")].tolist()\n",
      "/home/jovyan/data-analyses/project_list/_lrtp_utils.py:66: UserWarning: This pattern is interpreted as a regular expression, and has match groups. To actually get the groups, use str.extract.\n",
      "  cost_columns = df.columns[df.columns.str.contains(\"(cost|funds)\")].tolist()\n"
     ]
    },
    {
     "name": "stdout",
     "output_type": "stream",
     "text": [
      "360 rows are headers\n"
     ]
    },
    {
     "name": "stderr",
     "output_type": "stream",
     "text": [
      "/home/jovyan/data-analyses/project_list/_lrtp_utils.py:66: UserWarning: This pattern is interpreted as a regular expression, and has match groups. To actually get the groups, use str.extract.\n",
      "  cost_columns = df.columns[df.columns.str.contains(\"(cost|funds)\")].tolist()\n",
      "/home/jovyan/data-analyses/project_list/_lrtp_utils.py:66: UserWarning: This pattern is interpreted as a regular expression, and has match groups. To actually get the groups, use str.extract.\n",
      "  cost_columns = df.columns[df.columns.str.contains(\"(cost|funds)\")].tolist()\n"
     ]
    },
    {
     "name": "stdout",
     "output_type": "stream",
     "text": [
      "68 rows are headers\n"
     ]
    },
    {
     "name": "stderr",
     "output_type": "stream",
     "text": [
      "/home/jovyan/data-analyses/project_list/_lrtp_utils.py:66: UserWarning: This pattern is interpreted as a regular expression, and has match groups. To actually get the groups, use str.extract.\n",
      "  cost_columns = df.columns[df.columns.str.contains(\"(cost|funds)\")].tolist()\n",
      "/home/jovyan/data-analyses/project_list/_lrtp_utils.py:66: UserWarning: This pattern is interpreted as a regular expression, and has match groups. To actually get the groups, use str.extract.\n",
      "  cost_columns = df.columns[df.columns.str.contains(\"(cost|funds)\")].tolist()\n",
      "/home/jovyan/data-analyses/project_list/_lrtp_utils.py:66: UserWarning: This pattern is interpreted as a regular expression, and has match groups. To actually get the groups, use str.extract.\n",
      "  cost_columns = df.columns[df.columns.str.contains(\"(cost|funds)\")].tolist()\n",
      "/home/jovyan/data-analyses/project_list/_lrtp_utils.py:66: UserWarning: This pattern is interpreted as a regular expression, and has match groups. To actually get the groups, use str.extract.\n",
      "  cost_columns = df.columns[df.columns.str.contains(\"(cost|funds)\")].tolist()\n"
     ]
    }
   ],
   "source": [
    "lrtp_lost_df, lrtp_lost_gdf = lrtp_utils.all_mpo(True)"
   ]
  },
  {
   "cell_type": "code",
   "execution_count": 21,
   "id": "052c4887-4ca7-4ae9-bb15-cdbc26544298",
   "metadata": {},
   "outputs": [],
   "source": [
    "def unique_project_number(df:pd.DataFrame) -> pd.DataFrame:\n",
    "    df['timestamp'] = datetime.now().strftime('%Y%m%d%H%M%S')\n",
    "    df['combo'] = df.apply(lambda row: f\"{row.name}{row['timestamp']}{''.join(map(str, row))}\", axis=1)\n",
    "    df['project_number'] = df['combo'].apply(lambda x: hashlib.sha256(x.encode('utf-8')).hexdigest()[:12])\n",
    "    df = df.drop(columns = ['combo', 'timestamp'])\n",
    "    return df"
   ]
  },
  {
   "cell_type": "code",
   "execution_count": 22,
   "id": "4fb60368-eb54-4c9e-a422-c42f45ad74b0",
   "metadata": {},
   "outputs": [],
   "source": [
    "lrtp_lost_df = unique_project_number(lrtp_lost_df)"
   ]
  },
  {
   "cell_type": "code",
   "execution_count": 23,
   "id": "846f7621-4999-4a7d-b2f7-ec0a18b19ac5",
   "metadata": {},
   "outputs": [
    {
     "data": {
      "text/plain": [
       "16276"
      ]
     },
     "execution_count": 23,
     "metadata": {},
     "output_type": "execute_result"
    }
   ],
   "source": [
    "lrtp_lost_df.project_number.nunique()"
   ]
  },
  {
   "cell_type": "code",
   "execution_count": 55,
   "id": "d5cd997b-dc72-4f04-9950-158fe13c25fb",
   "metadata": {},
   "outputs": [],
   "source": [
    "def separate_out_df(df:pd.DataFrame, columns_to_keep: list)-> pd.DataFrame:\n",
    "    \"\"\"\n",
    "    Subset the column, drop any rows \n",
    "    in which the values are Nan or \"None.\"\n",
    "    \"\"\"\n",
    "    # Subset\n",
    "    df2 = df[columns_to_keep]\n",
    "    \n",
    "    # Fill in missing values\n",
    "    try:\n",
    "        df2 = df2.fillna('none')\n",
    "    except:\n",
    "        df2\n",
    "    \n",
    "    # Remove project_number and keep only cols of interest\n",
    "    columns_to_keep.remove('project_number')\n",
    "    \n",
    "    # Drop rows that are nan or \"None\" based on how many columns are listed\n",
    "    if len(columns_to_keep) == 1:\n",
    "        df2 = df2.dropna(how = \"any\")\n",
    "        df2 = df2[df2.applymap(lambda x: x.lower() if isinstance(x, str) else x) != 'none'].dropna()\n",
    "        \n",
    "    # If there are more than one column to separate out,\n",
    "    # keep any row that has a non-null value \n",
    "    else:\n",
    "        df2 = df2.dropna(how = \"all\", subset = columns_to_keep)\n",
    "    return df2"
   ]
  },
  {
   "cell_type": "code",
   "execution_count": 25,
   "id": "8acf0ccd-3b35-41db-9320-3352b9b4e813",
   "metadata": {},
   "outputs": [],
   "source": [
    "lrtp_lost_county = separate_out_df(lrtp_lost_df, ['project_number', 'county'])"
   ]
  },
  {
   "cell_type": "code",
   "execution_count": 26,
   "id": "c75b08c0-4da0-44d0-b675-dc848240b994",
   "metadata": {},
   "outputs": [
    {
     "data": {
      "text/plain": [
       "(16276, 11)"
      ]
     },
     "execution_count": 26,
     "metadata": {},
     "output_type": "execute_result"
    }
   ],
   "source": [
    "lrtp_lost_df.shape"
   ]
  },
  {
   "cell_type": "code",
   "execution_count": 27,
   "id": "fce5ffc2-1b46-4f8d-bbb1-2a9251d35a8c",
   "metadata": {},
   "outputs": [
    {
     "data": {
      "text/plain": [
       "(4012, 2)"
      ]
     },
     "execution_count": 27,
     "metadata": {},
     "output_type": "execute_result"
    }
   ],
   "source": [
    "lrtp_lost_county.shape"
   ]
  },
  {
   "cell_type": "code",
   "execution_count": 28,
   "id": "71ff78d9-cafc-4bc4-bc68-2f0e001a5acd",
   "metadata": {},
   "outputs": [],
   "source": [
    "lrtp_lost_city = separate_out_df(lrtp_lost_df, ['project_number', 'city'])"
   ]
  },
  {
   "cell_type": "code",
   "execution_count": 29,
   "id": "4116f424-755e-4382-98c7-c3f0c65c5514",
   "metadata": {},
   "outputs": [
    {
     "data": {
      "text/plain": [
       "(745, 2)"
      ]
     },
     "execution_count": 29,
     "metadata": {},
     "output_type": "execute_result"
    }
   ],
   "source": [
    "lrtp_lost_city.shape"
   ]
  },
  {
   "cell_type": "code",
   "execution_count": 30,
   "id": "829f6817-f0f7-4193-9ce8-f9732baff8d8",
   "metadata": {},
   "outputs": [],
   "source": [
    "lrtp_lost_agency = separate_out_df(lrtp_lost_df, ['project_number', 'lead_agency'])"
   ]
  },
  {
   "cell_type": "code",
   "execution_count": 31,
   "id": "78df708c-82cf-44ae-99f4-dd84e7c40dc1",
   "metadata": {},
   "outputs": [
    {
     "data": {
      "text/plain": [
       "(16276, 2)"
      ]
     },
     "execution_count": 31,
     "metadata": {},
     "output_type": "execute_result"
    }
   ],
   "source": [
    "lrtp_lost_agency.shape"
   ]
  },
  {
   "cell_type": "code",
   "execution_count": 32,
   "id": "dd61d79c-9999-4c11-9353-47ac4f16b8b1",
   "metadata": {},
   "outputs": [
    {
     "data": {
      "text/html": [
       "<div>\n",
       "<style scoped>\n",
       "    .dataframe tbody tr th:only-of-type {\n",
       "        vertical-align: middle;\n",
       "    }\n",
       "\n",
       "    .dataframe tbody tr th {\n",
       "        vertical-align: top;\n",
       "    }\n",
       "\n",
       "    .dataframe thead th {\n",
       "        text-align: right;\n",
       "    }\n",
       "</style>\n",
       "<table border=\"1\" class=\"dataframe\">\n",
       "  <thead>\n",
       "    <tr style=\"text-align: right;\">\n",
       "      <th></th>\n",
       "      <th>project_number</th>\n",
       "      <th>lead_agency</th>\n",
       "    </tr>\n",
       "  </thead>\n",
       "  <tbody>\n",
       "    <tr>\n",
       "      <th>61</th>\n",
       "      <td>8d1631fce5bc</td>\n",
       "      <td>Slocog</td>\n",
       "    </tr>\n",
       "  </tbody>\n",
       "</table>\n",
       "</div>"
      ],
      "text/plain": [
       "   project_number lead_agency\n",
       "61   8d1631fce5bc      Slocog"
      ]
     },
     "execution_count": 32,
     "metadata": {},
     "output_type": "execute_result"
    }
   ],
   "source": [
    "lrtp_lost_agency.sample()"
   ]
  },
  {
   "cell_type": "code",
   "execution_count": 33,
   "id": "5c3dfa8a-480a-4062-b59c-0ce5dff75cdc",
   "metadata": {},
   "outputs": [],
   "source": [
    "lrtp_lost_geo = separate_out_df(lrtp_lost_df, ['project_number', 'geometry'])"
   ]
  },
  {
   "cell_type": "code",
   "execution_count": 34,
   "id": "40998366-218c-4c9b-b890-dc97769e3893",
   "metadata": {},
   "outputs": [
    {
     "data": {
      "text/plain": [
       "((1357, 2), (1355, 10))"
      ]
     },
     "execution_count": 34,
     "metadata": {},
     "output_type": "execute_result"
    }
   ],
   "source": [
    "lrtp_lost_geo.shape, lrtp_lost_gdf.shape"
   ]
  },
  {
   "cell_type": "code",
   "execution_count": 35,
   "id": "92fe5891-014e-4177-beb6-1e83c957d0fb",
   "metadata": {},
   "outputs": [],
   "source": [
    "lrtp_to_drop = ['county', 'city', 'lead_agency', 'geometry']"
   ]
  },
  {
   "cell_type": "code",
   "execution_count": 36,
   "id": "29ca0b11-6244-455b-96b2-dd53144d7c0e",
   "metadata": {},
   "outputs": [],
   "source": [
    "# lrtp_lost_df = lrtp_lost_df.drop(columns = lrtp_to_drop)"
   ]
  },
  {
   "cell_type": "code",
   "execution_count": 37,
   "id": "3a475324-4f2d-41a3-8b1f-ac4f0eaf0962",
   "metadata": {},
   "outputs": [
    {
     "data": {
      "text/html": [
       "<div>\n",
       "<style scoped>\n",
       "    .dataframe tbody tr th:only-of-type {\n",
       "        vertical-align: middle;\n",
       "    }\n",
       "\n",
       "    .dataframe tbody tr th {\n",
       "        vertical-align: top;\n",
       "    }\n",
       "\n",
       "    .dataframe thead th {\n",
       "        text-align: right;\n",
       "    }\n",
       "</style>\n",
       "<table border=\"1\" class=\"dataframe\">\n",
       "  <thead>\n",
       "    <tr style=\"text-align: right;\">\n",
       "      <th></th>\n",
       "      <th>project_title</th>\n",
       "      <th>lead_agency</th>\n",
       "      <th>project_year</th>\n",
       "      <th>project_description</th>\n",
       "      <th>total_project_cost</th>\n",
       "      <th>geometry</th>\n",
       "      <th>city</th>\n",
       "      <th>county</th>\n",
       "      <th>data_source</th>\n",
       "      <th>notes</th>\n",
       "      <th>project_number</th>\n",
       "    </tr>\n",
       "  </thead>\n",
       "  <tbody>\n",
       "    <tr>\n",
       "      <th>416</th>\n",
       "      <td>None</td>\n",
       "      <td>Stancog</td>\n",
       "      <td>2022-2046</td>\n",
       "      <td>Bicycle Lane (Class 2), Buffered Bicycle Lane (Class 2), Bicycle Route With Wide Shoulders (Class 3.5), Separated Bike Lane (Class 4), And Pedestrian Improvements.\\n(Non-Motorized Transportation Plan Top 25: Route 25)</td>\n",
       "      <td>8027400.00</td>\n",
       "      <td>None</td>\n",
       "      <td>None</td>\n",
       "      <td>None</td>\n",
       "      <td>Stancog Lrtp</td>\n",
       "      <td>Jurisdiction: Stanislaus County,  Location: Rhode Rd/7Th St/Nunes Rd/N. Golden State Blvd,  Project Limits: Moore Rd To W. Christofferson Pkwy,  Funding Source: Atp, Sb 1, Bil/Iija, Cmaq, Stbgp,  System Preserv : Nan,  Capacity Enhance : Nan,  Safety: Nan,  Oper : Nan,  Complete Streets: Nan,  Active\\nTransporta Tion: X,  Transit: Nan,  Other: Nan</td>\n",
       "      <td>a32f75c83b70</td>\n",
       "    </tr>\n",
       "  </tbody>\n",
       "</table>\n",
       "</div>"
      ],
      "text/plain": [
       "    project_title lead_agency project_year  \\\n",
       "416          None     Stancog    2022-2046   \n",
       "\n",
       "                                                                                                                                                                                                           project_description  \\\n",
       "416  Bicycle Lane (Class 2), Buffered Bicycle Lane (Class 2), Bicycle Route With Wide Shoulders (Class 3.5), Separated Bike Lane (Class 4), And Pedestrian Improvements.\\n(Non-Motorized Transportation Plan Top 25: Route 25)   \n",
       "\n",
       "     total_project_cost geometry  city county   data_source  \\\n",
       "416          8027400.00     None  None   None  Stancog Lrtp   \n",
       "\n",
       "                                                                                                                                                                                                                                                                                                                                                             notes  \\\n",
       "416  Jurisdiction: Stanislaus County,  Location: Rhode Rd/7Th St/Nunes Rd/N. Golden State Blvd,  Project Limits: Moore Rd To W. Christofferson Pkwy,  Funding Source: Atp, Sb 1, Bil/Iija, Cmaq, Stbgp,  System Preserv : Nan,  Capacity Enhance : Nan,  Safety: Nan,  Oper : Nan,  Complete Streets: Nan,  Active\\nTransporta Tion: X,  Transit: Nan,  Other: Nan   \n",
       "\n",
       "    project_number  \n",
       "416   a32f75c83b70  "
      ]
     },
     "execution_count": 37,
     "metadata": {},
     "output_type": "execute_result"
    }
   ],
   "source": [
    "lrtp_lost_df.sample()"
   ]
  },
  {
   "cell_type": "markdown",
   "id": "0d3280f2-67c1-418d-8161-4a577b9d3034",
   "metadata": {},
   "source": [
    "### SB1"
   ]
  },
  {
   "cell_type": "code",
   "execution_count": 38,
   "id": "6d530178-4f39-475b-b533-822b0b19f237",
   "metadata": {},
   "outputs": [
    {
     "name": "stderr",
     "output_type": "stream",
     "text": [
      "/home/jovyan/data-analyses/project_list/_sb1_utils.py:23: FutureWarning: The default value of regex will change from True to False in a future version. In addition, single character regular expressions will *not* be treated as literal strings when regex=True.\n",
      "  gdf[i]\n",
      "/home/jovyan/data-analyses/project_list/_sb1_utils.py:23: FutureWarning: The default value of regex will change from True to False in a future version.\n",
      "  gdf[i]\n"
     ]
    },
    {
     "name": "stdout",
     "output_type": "stream",
     "text": [
      "0 rows are mising geometry\n",
      "7917 rows contain invalid geography\n"
     ]
    }
   ],
   "source": [
    "sb1_df = sb1_utils.load_sb1()"
   ]
  },
  {
   "cell_type": "code",
   "execution_count": 40,
   "id": "7ee96e11-1d68-4991-8089-5749adacb311",
   "metadata": {},
   "outputs": [],
   "source": [
    "sb1_df = unique_project_number(sb1_df)"
   ]
  },
  {
   "cell_type": "code",
   "execution_count": 76,
   "id": "931ef88d-caf9-4201-bc18-d874197be065",
   "metadata": {},
   "outputs": [
    {
     "data": {
      "text/html": [
       "<div>\n",
       "<style scoped>\n",
       "    .dataframe tbody tr th:only-of-type {\n",
       "        vertical-align: middle;\n",
       "    }\n",
       "\n",
       "    .dataframe tbody tr th {\n",
       "        vertical-align: top;\n",
       "    }\n",
       "\n",
       "    .dataframe thead th {\n",
       "        text-align: right;\n",
       "    }\n",
       "</style>\n",
       "<table border=\"1\" class=\"dataframe\">\n",
       "  <thead>\n",
       "    <tr style=\"text-align: right;\">\n",
       "      <th></th>\n",
       "      <th>projectid</th>\n",
       "      <th>projname</th>\n",
       "      <th>projcatcode</th>\n",
       "      <th>projcategory</th>\n",
       "      <th>projprogcode</th>\n",
       "      <th>projprogram</th>\n",
       "      <th>multiprogfunded</th>\n",
       "      <th>projstatus</th>\n",
       "      <th>description</th>\n",
       "      <th>cost</th>\n",
       "      <th>assemblydistrict</th>\n",
       "      <th>senatedistrict</th>\n",
       "      <th>assemblycode</th>\n",
       "      <th>senatecode</th>\n",
       "      <th>countyname</th>\n",
       "      <th>cityname</th>\n",
       "      <th>countycode</th>\n",
       "      <th>citycode</th>\n",
       "      <th>appagencyname</th>\n",
       "      <th>impagencyname</th>\n",
       "      <th>geometry</th>\n",
       "      <th>totalcosts</th>\n",
       "      <th>routes</th>\n",
       "      <th>constyear</th>\n",
       "      <th>costfull</th>\n",
       "      <th>projagency</th>\n",
       "      <th>project_number</th>\n",
       "      <th>assembly_same</th>\n",
       "      <th>senate_same</th>\n",
       "    </tr>\n",
       "  </thead>\n",
       "  <tbody>\n",
       "    <tr>\n",
       "      <th>3449</th>\n",
       "      <td>LsrFy17185261Pp030</td>\n",
       "      <td>Slurry Seal Parker Avenue</td>\n",
       "      <td>Local</td>\n",
       "      <td>Local And Regional</td>\n",
       "      <td>Lsr1718</td>\n",
       "      <td>201718 Local Streets And Roads</td>\n",
       "      <td>NaN</td>\n",
       "      <td>PreConstruction</td>\n",
       "      <td>Slurry Seal 16324 Sf For Roadway With 69 Pci</td>\n",
       "      <td>NaN</td>\n",
       "      <td>24</td>\n",
       "      <td>13</td>\n",
       "      <td>24</td>\n",
       "      <td>13</td>\n",
       "      <td>San Mateo</td>\n",
       "      <td>Atherton  Submitted By City</td>\n",
       "      <td>Sm</td>\n",
       "      <td>Atn</td>\n",
       "      <td>NaN</td>\n",
       "      <td>NaN</td>\n",
       "      <td>None</td>\n",
       "      <td>NaN</td>\n",
       "      <td>NaN</td>\n",
       "      <td>2018</td>\n",
       "      <td>NaN</td>\n",
       "      <td>Atherton    City</td>\n",
       "      <td>c61c443fb21d</td>\n",
       "      <td>True</td>\n",
       "      <td>True</td>\n",
       "    </tr>\n",
       "  </tbody>\n",
       "</table>\n",
       "</div>"
      ],
      "text/plain": [
       "               projectid                   projname projcatcode  \\\n",
       "3449  LsrFy17185261Pp030  Slurry Seal Parker Avenue       Local   \n",
       "\n",
       "            projcategory projprogcode                     projprogram  \\\n",
       "3449  Local And Regional      Lsr1718  201718 Local Streets And Roads   \n",
       "\n",
       "     multiprogfunded       projstatus  \\\n",
       "3449             NaN  PreConstruction   \n",
       "\n",
       "                                       description cost assemblydistrict  \\\n",
       "3449  Slurry Seal 16324 Sf For Roadway With 69 Pci  NaN               24   \n",
       "\n",
       "     senatedistrict assemblycode senatecode countyname  \\\n",
       "3449             13           24         13  San Mateo   \n",
       "\n",
       "                         cityname countycode citycode appagencyname  \\\n",
       "3449  Atherton  Submitted By City         Sm      Atn           NaN   \n",
       "\n",
       "     impagencyname geometry totalcosts routes constyear  costfull  \\\n",
       "3449           NaN     None        NaN    NaN      2018       NaN   \n",
       "\n",
       "            projagency project_number  assembly_same  senate_same  \n",
       "3449  Atherton    City   c61c443fb21d           True         True  "
      ]
     },
     "execution_count": 76,
     "metadata": {},
     "output_type": "execute_result"
    }
   ],
   "source": [
    "sb1_df.sample()"
   ]
  },
  {
   "cell_type": "code",
   "execution_count": 41,
   "id": "e37cf474-f657-4dbb-8969-23e14001ac84",
   "metadata": {},
   "outputs": [
    {
     "data": {
      "text/plain": [
       "9186"
      ]
     },
     "execution_count": 41,
     "metadata": {},
     "output_type": "execute_result"
    }
   ],
   "source": [
    "len(sb1_df)"
   ]
  },
  {
   "cell_type": "code",
   "execution_count": 42,
   "id": "eb4314bc-8d4f-4a1b-8425-034091a4f57f",
   "metadata": {},
   "outputs": [
    {
     "data": {
      "text/plain": [
       "9186"
      ]
     },
     "execution_count": 42,
     "metadata": {},
     "output_type": "execute_result"
    }
   ],
   "source": [
    "sb1_df.project_number.nunique()"
   ]
  },
  {
   "cell_type": "markdown",
   "id": "b09c99bf-a44e-4c8d-a9fb-fb3a86ffa1eb",
   "metadata": {},
   "source": [
    "#### Check that assemblydistrict and assemblycode are the same values"
   ]
  },
  {
   "cell_type": "code",
   "execution_count": 43,
   "id": "2ec3775a-1d30-4f88-bea1-37f55a29e767",
   "metadata": {},
   "outputs": [],
   "source": [
    "sb1_df['assembly_same'] = sb1_df.assemblycode == sb1_df.assemblydistrict"
   ]
  },
  {
   "cell_type": "code",
   "execution_count": 44,
   "id": "41b4f512-89a6-4a08-b0bd-f1ed309d9c34",
   "metadata": {},
   "outputs": [
    {
     "data": {
      "text/plain": [
       "True     7217\n",
       "False    1969\n",
       "Name: assembly_same, dtype: int64"
      ]
     },
     "execution_count": 44,
     "metadata": {},
     "output_type": "execute_result"
    }
   ],
   "source": [
    "sb1_df.assembly_same.value_counts()"
   ]
  },
  {
   "cell_type": "code",
   "execution_count": 45,
   "id": "76325c35-f25b-4635-8601-3f576557abee",
   "metadata": {},
   "outputs": [],
   "source": [
    "sb1_df['senate_same'] = sb1_df.senatedistrict == sb1_df.senatecode"
   ]
  },
  {
   "cell_type": "code",
   "execution_count": 46,
   "id": "5962a32a-c9d2-4373-8e05-329b62b42256",
   "metadata": {},
   "outputs": [
    {
     "data": {
      "text/plain": [
       "True     6950\n",
       "False    2236\n",
       "Name: senate_same, dtype: int64"
      ]
     },
     "execution_count": 46,
     "metadata": {},
     "output_type": "execute_result"
    }
   ],
   "source": [
    "sb1_df.senate_same.value_counts()"
   ]
  },
  {
   "cell_type": "code",
   "execution_count": 47,
   "id": "0a1360f5-eb9a-49a9-947e-249f3d8e9b99",
   "metadata": {},
   "outputs": [],
   "source": [
    "sb1_county = separate_out_df(sb1_df, ['project_number', 'countyname'])"
   ]
  },
  {
   "cell_type": "code",
   "execution_count": 48,
   "id": "0330602b-7b39-48c9-835f-d7cbbd4fcd3f",
   "metadata": {},
   "outputs": [],
   "source": [
    "def explode_dataframe(df:pd.DataFrame, column_to_explode:str)-> pd.DataFrame:\n",
    "    df['Column2'] = df[column_to_explode].apply(lambda x: [int(i) if i.isdigit() else i for i in x.replace(',', '').split()])\n",
    "    df = df.drop(columns = [column_to_explode])\n",
    "    df2 = df.explode('Column2')\n",
    "    df2 = df2.rename(columns = {'Column2': column_to_explode})\n",
    "    return df2"
   ]
  },
  {
   "cell_type": "code",
   "execution_count": 49,
   "id": "ea4fd105-9188-426f-a724-5de40ae5af4b",
   "metadata": {},
   "outputs": [],
   "source": [
    "sb1_assembly = separate_out_df(sb1_df, ['project_number', 'assemblydistrict'])"
   ]
  },
  {
   "cell_type": "code",
   "execution_count": 50,
   "id": "6b621482-fb52-441f-9fde-bb021dda35c5",
   "metadata": {},
   "outputs": [],
   "source": [
    "sb1_assembly = explode_dataframe(sb1_assembly, 'assemblydistrict')"
   ]
  },
  {
   "cell_type": "code",
   "execution_count": 51,
   "id": "a0e95618-ea4f-4b7d-b1fc-954a780dd86f",
   "metadata": {},
   "outputs": [],
   "source": [
    "sb1_senate = separate_out_df(sb1_df, ['project_number', 'senatedistrict'])"
   ]
  },
  {
   "cell_type": "code",
   "execution_count": 52,
   "id": "1d67d259-8822-4512-877b-bc1b66de7d96",
   "metadata": {},
   "outputs": [],
   "source": [
    "sb1_senate = explode_dataframe(sb1_senate, 'senatedistrict')"
   ]
  },
  {
   "cell_type": "code",
   "execution_count": 53,
   "id": "137fda15-a412-49fe-be74-48d58f750bb3",
   "metadata": {},
   "outputs": [],
   "source": [
    "sb1_city = separate_out_df(sb1_df, ['project_number', 'cityname'])"
   ]
  },
  {
   "cell_type": "code",
   "execution_count": 56,
   "id": "d98c2dc2-3232-4fe0-ba3f-6f2d148fb755",
   "metadata": {},
   "outputs": [],
   "source": [
    "sb1_geo = separate_out_df(sb1_df, ['project_number', 'geometry'])"
   ]
  },
  {
   "cell_type": "code",
   "execution_count": 57,
   "id": "67e7d80d-ee5c-4c1b-8337-bb30be56f585",
   "metadata": {},
   "outputs": [],
   "source": [
    "sb1_awards = separate_out_df(sb1_df, ['project_number', 'projprogram'])"
   ]
  },
  {
   "cell_type": "code",
   "execution_count": 58,
   "id": "ab21d511-2062-4c89-ad45-dfdc95721cc1",
   "metadata": {},
   "outputs": [
    {
     "data": {
      "text/plain": [
       "((9186, 2), (1585, 2), (6696, 2))"
      ]
     },
     "execution_count": 58,
     "metadata": {},
     "output_type": "execute_result"
    }
   ],
   "source": [
    "sb1_awards.shape, sb1_geo.shape, sb1_city.shape"
   ]
  },
  {
   "cell_type": "code",
   "execution_count": 59,
   "id": "d09e706e-cf16-4434-8b4b-b2661f0ba742",
   "metadata": {},
   "outputs": [],
   "source": [
    "sb1_agencies = separate_out_df(sb1_df, ['project_number', 'projagency', 'appagencyname', 'impagencyname'])"
   ]
  },
  {
   "cell_type": "code",
   "execution_count": 60,
   "id": "9a07f377-dc3d-402c-8c26-2f7def5abb41",
   "metadata": {},
   "outputs": [
    {
     "data": {
      "text/plain": [
       "(9186, 4)"
      ]
     },
     "execution_count": 60,
     "metadata": {},
     "output_type": "execute_result"
    }
   ],
   "source": [
    "sb1_agencies.shape"
   ]
  },
  {
   "cell_type": "markdown",
   "id": "1150a152-1432-40b9-a946-6a79964bf720",
   "metadata": {},
   "source": [
    "### LP2000"
   ]
  },
  {
   "cell_type": "code",
   "execution_count": 79,
   "id": "b1c94570-cb6c-4e47-91c9-59caf8512dc7",
   "metadata": {},
   "outputs": [],
   "source": [
    "def load_lp2000(file: str):\n",
    "    \n",
    "    df_project = to_snakecase(\n",
    "        pd.read_excel(f\"{GCS_FILE_PATH}LP2000_CTIPS/{file}\", sheet_name=\"project\")\n",
    "    )\n",
    "\n",
    "    df_county = to_snakecase(\n",
    "        pd.read_excel(f\"{GCS_FILE_PATH}LP2000_CTIPS/{file}\", sheet_name=\"county\")\n",
    "    ).drop(columns=[\"project_label_name\"])\n",
    "\n",
    "    df_district = to_snakecase(\n",
    "        pd.read_excel(f\"{GCS_FILE_PATH}LP2000_CTIPS/{file}\", sheet_name=\"district\")\n",
    "    ).drop(columns=[\"project_label_name\"])\n",
    "\n",
    "    df_award = to_snakecase(\n",
    "        pd.read_excel(f\"{GCS_FILE_PATH}LP2000_CTIPS/{file}\", sheet_name=\"awards\")\n",
    "    )\n",
    "    \n",
    "    df_phase = to_snakecase(\n",
    "        pd.read_excel(f\"{GCS_FILE_PATH}LP2000_CTIPS/{file}\", sheet_name=\"phase_funding\")\n",
    "    )\n",
    "    \n",
    "    return df_project, df_county, df_district, df_award, df_phase"
   ]
  },
  {
   "cell_type": "code",
   "execution_count": 80,
   "id": "91c989ec-208b-4053-8ae8-3e3a0e44c5c8",
   "metadata": {},
   "outputs": [],
   "source": [
    "lp2000_project, lp2000_county, lp2000_district, lp2000_award, lp2000_phase = load_lp2000(\"LP2000_projects.xlsx\")"
   ]
  },
  {
   "cell_type": "code",
   "execution_count": 63,
   "id": "f7947161-a519-4342-8672-edbdba742984",
   "metadata": {},
   "outputs": [],
   "source": [
    "# lp2000_project = unique_project_number(lp2000_project)"
   ]
  },
  {
   "cell_type": "code",
   "execution_count": 64,
   "id": "4e674bed-ebd1-43eb-a944-721e30f22cfb",
   "metadata": {},
   "outputs": [
    {
     "data": {
      "text/plain": [
       "(11272, 11272)"
      ]
     },
     "execution_count": 64,
     "metadata": {},
     "output_type": "execute_result"
    }
   ],
   "source": [
    "len(lp2000_project), lp2000_project.project_number.nunique()"
   ]
  },
  {
   "cell_type": "code",
   "execution_count": 75,
   "id": "219ec508-8706-49f0-ae04-711599d967a2",
   "metadata": {},
   "outputs": [],
   "source": [
    "def add_project_number(df_with_project_name:pd.DataFrame, right_project:pd.DataFrame, merge_col:str)-> pd.DataFrame:\n",
    "    m1 = pd.merge(df_with_project_name, right_project, on = merge_col, how = 'inner')\n",
    "    return m1"
   ]
  },
  {
   "cell_type": "code",
   "execution_count": 71,
   "id": "ad4f5fbd-918e-4c7d-9f11-74060ca6b9a2",
   "metadata": {},
   "outputs": [],
   "source": [
    "lp2000_project_subset = lp2000_project[['project_number', 'project_id']]"
   ]
  },
  {
   "cell_type": "code",
   "execution_count": 72,
   "id": "64e0b2f1-2214-4822-b5d9-6c27a9be79ee",
   "metadata": {},
   "outputs": [],
   "source": [
    "lp2000_county_df = pd.merge(lp2000_project_subset, lp2000_county, on = 'project_id', how = 'inner')"
   ]
  },
  {
   "cell_type": "code",
   "execution_count": 73,
   "id": "633651e5-f043-4a8a-a4b4-9e5d42ac3803",
   "metadata": {},
   "outputs": [
    {
     "data": {
      "text/html": [
       "<div>\n",
       "<style scoped>\n",
       "    .dataframe tbody tr th:only-of-type {\n",
       "        vertical-align: middle;\n",
       "    }\n",
       "\n",
       "    .dataframe tbody tr th {\n",
       "        vertical-align: top;\n",
       "    }\n",
       "\n",
       "    .dataframe thead th {\n",
       "        text-align: right;\n",
       "    }\n",
       "</style>\n",
       "<table border=\"1\" class=\"dataframe\">\n",
       "  <thead>\n",
       "    <tr style=\"text-align: right;\">\n",
       "      <th></th>\n",
       "      <th>project_number</th>\n",
       "      <th>project_id</th>\n",
       "      <th>county_name</th>\n",
       "    </tr>\n",
       "  </thead>\n",
       "  <tbody>\n",
       "    <tr>\n",
       "      <th>4377</th>\n",
       "      <td>0b952b66e020</td>\n",
       "      <td>5202(007)</td>\n",
       "      <td>Los Angeles County</td>\n",
       "    </tr>\n",
       "  </tbody>\n",
       "</table>\n",
       "</div>"
      ],
      "text/plain": [
       "     project_number project_id         county_name\n",
       "4377   0b952b66e020  5202(007)  Los Angeles County"
      ]
     },
     "execution_count": 73,
     "metadata": {},
     "output_type": "execute_result"
    }
   ],
   "source": [
    "lp2000_county_df.sample()"
   ]
  },
  {
   "cell_type": "code",
   "execution_count": 74,
   "id": "d45e35b7-604a-4103-ad2c-8e8ba3d8946a",
   "metadata": {},
   "outputs": [
    {
     "data": {
      "text/html": [
       "<div>\n",
       "<style scoped>\n",
       "    .dataframe tbody tr th:only-of-type {\n",
       "        vertical-align: middle;\n",
       "    }\n",
       "\n",
       "    .dataframe tbody tr th {\n",
       "        vertical-align: top;\n",
       "    }\n",
       "\n",
       "    .dataframe thead th {\n",
       "        text-align: right;\n",
       "    }\n",
       "</style>\n",
       "<table border=\"1\" class=\"dataframe\">\n",
       "  <thead>\n",
       "    <tr style=\"text-align: right;\">\n",
       "      <th></th>\n",
       "      <th>project_id</th>\n",
       "      <th>comment_desc</th>\n",
       "      <th>est_total_prj_costs</th>\n",
       "      <th>location_name</th>\n",
       "      <th>project_label_name</th>\n",
       "      <th>original_post_mile_begin_id</th>\n",
       "      <th>original_post_mile_end_id</th>\n",
       "      <th>revised_post_mile_begin_ind</th>\n",
       "      <th>revised_post_mile_end_ind</th>\n",
       "      <th>route_name</th>\n",
       "      <th>state_hwy_ind</th>\n",
       "      <th>senate_district_code</th>\n",
       "      <th>update_date_time</th>\n",
       "      <th>agency_name</th>\n",
       "      <th>urban_area_code</th>\n",
       "      <th>work_type_desc</th>\n",
       "      <th>category_desc</th>\n",
       "      <th>current_phase</th>\n",
       "      <th>active_transportation_program__atp_</th>\n",
       "      <th>bridge_inspection___scour_evaluation</th>\n",
       "      <th>covid_relief_funds_for_highway_infrastructure_programs_for_stip_covid_augmentation</th>\n",
       "      <th>carbon_reduction_program__crp_</th>\n",
       "      <th>congestion_mitigation___air_quality_improvement_program__cmaq_</th>\n",
       "      <th>coronavirus_response_and_relief_supplemental_appropriations_act__crrsaa__funds</th>\n",
       "      <th>corridor_mobility_improvement_account__cmia__program</th>\n",
       "      <th>county_exchange_funds</th>\n",
       "      <th>county_state_match_program</th>\n",
       "      <th>earmarks_projects__hpp,_demo_cpfcds,_etc__</th>\n",
       "      <th>emergency_relief__er_</th>\n",
       "      <th>ferry_boat_program__fbp__and_ferry_boat_discretionary__fbd__program</th>\n",
       "      <th>funds_for_planning,_programming_and_monitoring___rip</th>\n",
       "      <th>general_funded_designated_programs</th>\n",
       "      <th>hazard_elimination_safety__hes_</th>\n",
       "      <th>high_risk_rural_roads_program__hr3_</th>\n",
       "      <th>highway_bridge_</th>\n",
       "      <th>highway_safety_improvement_program__hsip___infrastructure__state_fund</th>\n",
       "      <th>highway_safety_improvement_program__hsip___non_infrastructure_</th>\n",
       "      <th>highway_safety_improvement_program__hsip__infrastructure__federal_fund</th>\n",
       "      <th>local_partnership_program__lpp_–_competitive__</th>\n",
       "      <th>local_roads</th>\n",
       "      <th>local_roads_rehabilitation</th>\n",
       "      <th>railroad_grade_crossing_protection</th>\n",
       "      <th>railroad_grade_separations</th>\n",
       "      <th>rebuilding_american_infrastructure_with_sustainability_and_equity__raise__and_multimodal_project_discretionary_grant_programs__e_g_,_infra,_mega,_rstg_or_rural__</th>\n",
       "      <th>regional_improvement_program_–_regional_share_of_stip_transportation_enhancement__off_system_</th>\n",
       "      <th>regional_surface_transportation_block_grant_program__rstbgp__and_highway_infrastructure_program__hip_</th>\n",
       "      <th>regional_transportation_planning_agency__rtpa__stp_match_exchange</th>\n",
       "      <th>sb1_funded_freeway_service_patrol</th>\n",
       "      <th>shopp__traffic_light_synchronization_program__tlsp___proposition_1b_bond_funds</th>\n",
       "      <th>safe_routes_to_school__sr2s_and_srts_</th>\n",
       "      <th>set_aside_coordinated_border_infrastructure__cbi__program_under_fast_act</th>\n",
       "      <th>solutions_for_congested_corridors_program__sccp_</th>\n",
       "      <th>special_programs</th>\n",
       "      <th>state_local_partnership_program__slpp__and_local_partnership_program__lpp_formulaic_</th>\n",
       "      <th>structures_seismic_retrofit_</th>\n",
       "      <th>trade_corridor_enhancement_account__tcea__programs_–_local_share</th>\n",
       "      <th>trade_corridor_enhancement_account__tcea__programs_–_state_share</th>\n",
       "      <th>trade_corridors_improvement_fund__tcif__program_local_streets___roads</th>\n",
       "      <th>traffic_congestion_relief_program___tcrp__</th>\n",
       "      <th>project_number</th>\n",
       "    </tr>\n",
       "  </thead>\n",
       "  <tbody>\n",
       "    <tr>\n",
       "      <th>4377</th>\n",
       "      <td>5202(007)</td>\n",
       "      <td>file has been transferred to Saad issa on 12/14/05. Mike Benyamin\\n\\nInactive- ms</td>\n",
       "      <td>NaN</td>\n",
       "      <td>Various Locations Citywide</td>\n",
       "      <td>Traffic Sign Upgrades</td>\n",
       "      <td>NaN</td>\n",
       "      <td>NaN</td>\n",
       "      <td>NaN</td>\n",
       "      <td>NaN</td>\n",
       "      <td>0-SFR</td>\n",
       "      <td>N</td>\n",
       "      <td>NaN</td>\n",
       "      <td>2010-08-09 20:04:27</td>\n",
       "      <td>San Fernando</td>\n",
       "      <td>3041.00</td>\n",
       "      <td>NaN</td>\n",
       "      <td>Signs</td>\n",
       "      <td>single phase</td>\n",
       "      <td>Unknown</td>\n",
       "      <td>Unknown</td>\n",
       "      <td>Unknown</td>\n",
       "      <td>Unknown</td>\n",
       "      <td>Unknown</td>\n",
       "      <td>Unknown</td>\n",
       "      <td>Unknown</td>\n",
       "      <td>Unknown</td>\n",
       "      <td>Unknown</td>\n",
       "      <td>Unknown</td>\n",
       "      <td>Unknown</td>\n",
       "      <td>Unknown</td>\n",
       "      <td>Unknown</td>\n",
       "      <td>Unknown</td>\n",
       "      <td>Unknown</td>\n",
       "      <td>Unknown</td>\n",
       "      <td>Unknown</td>\n",
       "      <td>Unknown</td>\n",
       "      <td>Unknown</td>\n",
       "      <td>Unknown</td>\n",
       "      <td>Unknown</td>\n",
       "      <td>Unknown</td>\n",
       "      <td>Unknown</td>\n",
       "      <td>Unknown</td>\n",
       "      <td>Unknown</td>\n",
       "      <td>Unknown</td>\n",
       "      <td>Unknown</td>\n",
       "      <td>Unknown</td>\n",
       "      <td>Unknown</td>\n",
       "      <td>Unknown</td>\n",
       "      <td>Unknown</td>\n",
       "      <td>Unknown</td>\n",
       "      <td>Unknown</td>\n",
       "      <td>Unknown</td>\n",
       "      <td>Unknown</td>\n",
       "      <td>Unknown</td>\n",
       "      <td>Unknown</td>\n",
       "      <td>Unknown</td>\n",
       "      <td>Unknown</td>\n",
       "      <td>Unknown</td>\n",
       "      <td>Unknown</td>\n",
       "      <td>0b952b66e020</td>\n",
       "    </tr>\n",
       "  </tbody>\n",
       "</table>\n",
       "</div>"
      ],
      "text/plain": [
       "     project_id  \\\n",
       "4377  5202(007)   \n",
       "\n",
       "                                                                           comment_desc  \\\n",
       "4377  file has been transferred to Saad issa on 12/14/05. Mike Benyamin\\n\\nInactive- ms   \n",
       "\n",
       "      est_total_prj_costs               location_name     project_label_name  \\\n",
       "4377                  NaN  Various Locations Citywide  Traffic Sign Upgrades   \n",
       "\n",
       "      original_post_mile_begin_id  original_post_mile_end_id  \\\n",
       "4377                          NaN                        NaN   \n",
       "\n",
       "     revised_post_mile_begin_ind revised_post_mile_end_ind route_name  \\\n",
       "4377                         NaN                       NaN      0-SFR   \n",
       "\n",
       "     state_hwy_ind  senate_district_code    update_date_time   agency_name  \\\n",
       "4377             N                   NaN 2010-08-09 20:04:27  San Fernando   \n",
       "\n",
       "      urban_area_code work_type_desc category_desc current_phase  \\\n",
       "4377          3041.00            NaN         Signs  single phase   \n",
       "\n",
       "     active_transportation_program__atp_ bridge_inspection___scour_evaluation  \\\n",
       "4377                             Unknown                              Unknown   \n",
       "\n",
       "     covid_relief_funds_for_highway_infrastructure_programs_for_stip_covid_augmentation  \\\n",
       "4377                                                                            Unknown   \n",
       "\n",
       "     carbon_reduction_program__crp_  \\\n",
       "4377                        Unknown   \n",
       "\n",
       "     congestion_mitigation___air_quality_improvement_program__cmaq_  \\\n",
       "4377                                                        Unknown   \n",
       "\n",
       "     coronavirus_response_and_relief_supplemental_appropriations_act__crrsaa__funds  \\\n",
       "4377                                                                        Unknown   \n",
       "\n",
       "     corridor_mobility_improvement_account__cmia__program  \\\n",
       "4377                                              Unknown   \n",
       "\n",
       "     county_exchange_funds county_state_match_program  \\\n",
       "4377               Unknown                    Unknown   \n",
       "\n",
       "     earmarks_projects__hpp,_demo_cpfcds,_etc__ emergency_relief__er_  \\\n",
       "4377                                    Unknown               Unknown   \n",
       "\n",
       "     ferry_boat_program__fbp__and_ferry_boat_discretionary__fbd__program  \\\n",
       "4377                                                             Unknown   \n",
       "\n",
       "     funds_for_planning,_programming_and_monitoring___rip  \\\n",
       "4377                                              Unknown   \n",
       "\n",
       "     general_funded_designated_programs hazard_elimination_safety__hes_  \\\n",
       "4377                            Unknown                         Unknown   \n",
       "\n",
       "     high_risk_rural_roads_program__hr3_ highway_bridge_  \\\n",
       "4377                             Unknown         Unknown   \n",
       "\n",
       "     highway_safety_improvement_program__hsip___infrastructure__state_fund  \\\n",
       "4377                                                               Unknown   \n",
       "\n",
       "     highway_safety_improvement_program__hsip___non_infrastructure_  \\\n",
       "4377                                                        Unknown   \n",
       "\n",
       "     highway_safety_improvement_program__hsip__infrastructure__federal_fund  \\\n",
       "4377                                                                Unknown   \n",
       "\n",
       "     local_partnership_program__lpp_–_competitive__ local_roads  \\\n",
       "4377                                        Unknown     Unknown   \n",
       "\n",
       "     local_roads_rehabilitation railroad_grade_crossing_protection  \\\n",
       "4377                    Unknown                            Unknown   \n",
       "\n",
       "     railroad_grade_separations  \\\n",
       "4377                    Unknown   \n",
       "\n",
       "     rebuilding_american_infrastructure_with_sustainability_and_equity__raise__and_multimodal_project_discretionary_grant_programs__e_g_,_infra,_mega,_rstg_or_rural__  \\\n",
       "4377                                                                                                                                                           Unknown   \n",
       "\n",
       "     regional_improvement_program_–_regional_share_of_stip_transportation_enhancement__off_system_  \\\n",
       "4377                                                                                       Unknown   \n",
       "\n",
       "     regional_surface_transportation_block_grant_program__rstbgp__and_highway_infrastructure_program__hip_  \\\n",
       "4377                                                                                               Unknown   \n",
       "\n",
       "     regional_transportation_planning_agency__rtpa__stp_match_exchange  \\\n",
       "4377                                                           Unknown   \n",
       "\n",
       "     sb1_funded_freeway_service_patrol  \\\n",
       "4377                           Unknown   \n",
       "\n",
       "     shopp__traffic_light_synchronization_program__tlsp___proposition_1b_bond_funds  \\\n",
       "4377                                                                        Unknown   \n",
       "\n",
       "     safe_routes_to_school__sr2s_and_srts_  \\\n",
       "4377                               Unknown   \n",
       "\n",
       "     set_aside_coordinated_border_infrastructure__cbi__program_under_fast_act  \\\n",
       "4377                                                                  Unknown   \n",
       "\n",
       "     solutions_for_congested_corridors_program__sccp_ special_programs  \\\n",
       "4377                                          Unknown          Unknown   \n",
       "\n",
       "     state_local_partnership_program__slpp__and_local_partnership_program__lpp_formulaic_  \\\n",
       "4377                                                                              Unknown   \n",
       "\n",
       "     structures_seismic_retrofit_  \\\n",
       "4377                      Unknown   \n",
       "\n",
       "     trade_corridor_enhancement_account__tcea__programs_–_local_share  \\\n",
       "4377                                                          Unknown   \n",
       "\n",
       "     trade_corridor_enhancement_account__tcea__programs_–_state_share  \\\n",
       "4377                                                          Unknown   \n",
       "\n",
       "     trade_corridors_improvement_fund__tcif__program_local_streets___roads  \\\n",
       "4377                                                               Unknown   \n",
       "\n",
       "     traffic_congestion_relief_program___tcrp__ project_number  \n",
       "4377                                    Unknown   0b952b66e020  "
      ]
     },
     "execution_count": 74,
     "metadata": {},
     "output_type": "execute_result"
    }
   ],
   "source": [
    "lp2000_project.loc[lp2000_project.project_id == \"5202(007)\"]"
   ]
  },
  {
   "cell_type": "code",
   "execution_count": 77,
   "id": "03314dd0-426d-4e29-a6cf-6450757356ae",
   "metadata": {},
   "outputs": [
    {
     "data": {
      "text/plain": [
       "(11272, 11272)"
      ]
     },
     "execution_count": 77,
     "metadata": {},
     "output_type": "execute_result"
    }
   ],
   "source": [
    "len(lp2000_project), lp2000_project.project_id.nunique()"
   ]
  },
  {
   "cell_type": "code",
   "execution_count": 81,
   "id": "5380e43e-d74d-44a9-a1df-ffe1f916aefd",
   "metadata": {},
   "outputs": [
    {
     "data": {
      "text/plain": [
       "11263"
      ]
     },
     "execution_count": 81,
     "metadata": {},
     "output_type": "execute_result"
    }
   ],
   "source": [
    "len(lp2000_project.drop(columns = ['project_id']).drop_duplicates())"
   ]
  },
  {
   "cell_type": "code",
   "execution_count": 82,
   "id": "c0725be7-0bad-4e3e-b664-4db1ade8b3c5",
   "metadata": {},
   "outputs": [
    {
     "data": {
      "text/plain": [
       "9"
      ]
     },
     "execution_count": 82,
     "metadata": {},
     "output_type": "execute_result"
    }
   ],
   "source": [
    "11272-11263"
   ]
  },
  {
   "cell_type": "markdown",
   "id": "fd3d068b-b95f-494d-bbbd-e0605c68f616",
   "metadata": {},
   "source": [
    "### CTIPS"
   ]
  },
  {
   "cell_type": "code",
   "execution_count": null,
   "id": "b8f5a6af-db4a-4d1a-9bcc-7e8324b61947",
   "metadata": {},
   "outputs": [],
   "source": [
    "def load_ctips(file: str):\n",
    "  \n",
    "    df_project = to_snakecase(\n",
    "        pd.read_excel(f\"{GCS_FILE_PATH}LP2000_CTIPS/{file}\", sheet_name=\"project\")\n",
    "    )\n",
    "\n",
    "    df_county = to_snakecase(\n",
    "        pd.read_excel(f\"{GCS_FILE_PATH}LP2000_CTIPS/{file}\", sheet_name=\"county\")\n",
    "    )\n",
    "\n",
    "    df_district = to_snakecase(\n",
    "        pd.read_excel(f\"{GCS_FILE_PATH}LP2000_CTIPS/{file}\", sheet_name=\"district\")\n",
    "    )\n",
    "\n",
    "    df_phase = to_snakecase(\n",
    "        pd.read_excel(f\"{GCS_FILE_PATH}LP2000_CTIPS/{file}\", sheet_name=\"phase_funding\")\n",
    "    )\n",
    "    \n",
    "    df_award = to_snakecase(\n",
    "        pd.read_excel(f\"{GCS_FILE_PATH}LP2000_CTIPS/{file}\", sheet_name=\"awards\")\n",
    "    )\n",
    "    \n",
    "    df_house = to_snakecase(\n",
    "        pd.read_excel(f\"{GCS_FILE_PATH}LP2000_CTIPS/{file}\", sheet_name=\"us_house\")\n",
    "    )\n",
    "    \n",
    "    df_senate = to_snakecase(\n",
    "        pd.read_excel(f\"{GCS_FILE_PATH}LP2000_CTIPS/{file}\", sheet_name=\"senate\")\n",
    "    )\n",
    "    \n",
    "    df_assembly = to_snakecase(\n",
    "        pd.read_excel(f\"{GCS_FILE_PATH}LP2000_CTIPS/{file}\", sheet_name=\"assembly\")\n",
    "    )\n",
    "    return df_project, df_county, df_district, df_phase, df_award, df_house, df_senate, df_assembly"
   ]
  },
  {
   "cell_type": "code",
   "execution_count": null,
   "id": "9372c9cb-a54a-4a2d-8f64-ca919f6b7b75",
   "metadata": {},
   "outputs": [],
   "source": [
    "ctips_project, ctips_county, ctips_district, ctips_phase, ctips_award, ctips_house, ctips_senate, ctips_assembly = load_ctips('CTIPS.xlsx')"
   ]
  },
  {
   "cell_type": "code",
   "execution_count": null,
   "id": "1a53792b-c209-4303-a14f-59ea9ef03c9c",
   "metadata": {},
   "outputs": [],
   "source": [
    "ctips_project.sample()"
   ]
  },
  {
   "cell_type": "markdown",
   "id": "4940bb3c-6170-4e12-a8ff-c4e97d7dbff2",
   "metadata": {},
   "source": [
    "### State Rail Plan"
   ]
  },
  {
   "cell_type": "code",
   "execution_count": null,
   "id": "8a61f896-808c-44cc-ae3b-5c651bcee78e",
   "metadata": {},
   "outputs": [],
   "source": [
    "srp_df = har_utils.load_state_rail_plan()"
   ]
  },
  {
   "cell_type": "code",
   "execution_count": null,
   "id": "5469cc55-0034-469e-b199-991ca7ada378",
   "metadata": {},
   "outputs": [],
   "source": [
    "srp_df = generate_alphanumeric_ids(srp_df, 8)"
   ]
  },
  {
   "cell_type": "code",
   "execution_count": null,
   "id": "95a7939f-4021-4b00-b036-07d5fed90a4a",
   "metadata": {},
   "outputs": [],
   "source": [
    "srp_df.sample()"
   ]
  },
  {
   "cell_type": "code",
   "execution_count": null,
   "id": "b2bfef02-8d49-4a62-b49b-3807610f9fe4",
   "metadata": {},
   "outputs": [],
   "source": [
    "srp_df_agency = separate_out_df(srp_df, ['project_number', 'lead_agency'])"
   ]
  },
  {
   "cell_type": "code",
   "execution_count": null,
   "id": "98052546-11e9-4e94-8cc1-0e334e5606f4",
   "metadata": {},
   "outputs": [],
   "source": []
  }
 ],
 "metadata": {
  "kernelspec": {
   "display_name": "Python 3 (ipykernel)",
   "language": "python",
   "name": "python3"
  },
  "language_info": {
   "codemirror_mode": {
    "name": "ipython",
    "version": 3
   },
   "file_extension": ".py",
   "mimetype": "text/x-python",
   "name": "python",
   "nbconvert_exporter": "python",
   "pygments_lexer": "ipython3",
   "version": "3.9.13"
  }
 },
 "nbformat": 4,
 "nbformat_minor": 5
}
