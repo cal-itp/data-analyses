{
 "cells": [
  {
   "cell_type": "markdown",
   "id": "a47ae6dd-278c-42d0-a708-f72088e55f51",
   "metadata": {},
   "source": [
    "## Compile Projects\n",
    "To-do\n",
    "* Figure out how to version things b/c projects will get updated and we want to track any changes.\n",
    "* This only needs to be done with data from lp2000 and ctips.\n",
    "* Need to track changes across all the different dataframes\n",
    "* Use merges to figure it out?"
   ]
  },
  {
   "cell_type": "code",
   "execution_count": 1,
   "id": "bd086d78-ffe5-4cf3-9f70-f5b7f3a5cf40",
   "metadata": {},
   "outputs": [],
   "source": [
    "import _harmonization_utils as har_utils\n",
    "import _lrtp_utils as lrtp_utils\n",
    "import _sb1_utils as sb1_utils\n",
    "import _specific_list_utils\n",
    "import _state_rail_plan_utils as srp_utils\n",
    "import geopandas as gpd\n",
    "import pandas as pd\n",
    "from calitp_data_analysis.sql import to_snakecase\n",
    "import hashlib\n",
    "from datetime import datetime"
   ]
  },
  {
   "cell_type": "code",
   "execution_count": 2,
   "id": "7a1e769e-8af3-4bb8-87c9-e3b1c64c644b",
   "metadata": {},
   "outputs": [],
   "source": [
    "pd.options.display.max_columns = 100\n",
    "pd.options.display.float_format = \"{:.2f}\".format\n",
    "pd.set_option(\"display.max_rows\", None)\n",
    "pd.set_option(\"display.max_colwidth\", None)"
   ]
  },
  {
   "cell_type": "code",
   "execution_count": 3,
   "id": "9f74e0a0-c1e5-4e42-8d06-11e0ef0464ab",
   "metadata": {},
   "outputs": [],
   "source": [
    "GCS_FILE_PATH = \"gs://calitp-analytics-data/data-analyses/project_list/\""
   ]
  },
  {
   "cell_type": "markdown",
   "id": "9dc3a31d-a797-4ea0-ad80-a4adb5b4c740",
   "metadata": {},
   "source": [
    "### LRTP/LOST"
   ]
  },
  {
   "cell_type": "code",
   "execution_count": 4,
   "id": "67204871-470c-41ec-bf61-6b82b90c88e4",
   "metadata": {},
   "outputs": [
    {
     "name": "stderr",
     "output_type": "stream",
     "text": [
      "/home/jovyan/data-analyses/project_list/_lrtp_utils.py:66: UserWarning: This pattern is interpreted as a regular expression, and has match groups. To actually get the groups, use str.extract.\n",
      "  cost_columns = df.columns[df.columns.str.contains(\"(cost|funds)\")].tolist()\n",
      "/home/jovyan/data-analyses/project_list/_lrtp_utils.py:66: UserWarning: This pattern is interpreted as a regular expression, and has match groups. To actually get the groups, use str.extract.\n",
      "  cost_columns = df.columns[df.columns.str.contains(\"(cost|funds)\")].tolist()\n",
      "/home/jovyan/data-analyses/project_list/_lrtp_utils.py:66: UserWarning: This pattern is interpreted as a regular expression, and has match groups. To actually get the groups, use str.extract.\n",
      "  cost_columns = df.columns[df.columns.str.contains(\"(cost|funds)\")].tolist()\n",
      "/home/jovyan/data-analyses/project_list/_lrtp_utils.py:66: UserWarning: This pattern is interpreted as a regular expression, and has match groups. To actually get the groups, use str.extract.\n",
      "  cost_columns = df.columns[df.columns.str.contains(\"(cost|funds)\")].tolist()\n",
      "/home/jovyan/data-analyses/project_list/_lrtp_utils.py:66: UserWarning: This pattern is interpreted as a regular expression, and has match groups. To actually get the groups, use str.extract.\n",
      "  cost_columns = df.columns[df.columns.str.contains(\"(cost|funds)\")].tolist()\n",
      "/home/jovyan/data-analyses/project_list/_lrtp_utils.py:66: UserWarning: This pattern is interpreted as a regular expression, and has match groups. To actually get the groups, use str.extract.\n",
      "  cost_columns = df.columns[df.columns.str.contains(\"(cost|funds)\")].tolist()\n",
      "/home/jovyan/data-analyses/project_list/_lrtp_utils.py:66: UserWarning: This pattern is interpreted as a regular expression, and has match groups. To actually get the groups, use str.extract.\n",
      "  cost_columns = df.columns[df.columns.str.contains(\"(cost|funds)\")].tolist()\n",
      "/home/jovyan/data-analyses/project_list/_lrtp_utils.py:66: UserWarning: This pattern is interpreted as a regular expression, and has match groups. To actually get the groups, use str.extract.\n",
      "  cost_columns = df.columns[df.columns.str.contains(\"(cost|funds)\")].tolist()\n"
     ]
    },
    {
     "name": "stdout",
     "output_type": "stream",
     "text": [
      "96 rows are headers\n"
     ]
    },
    {
     "name": "stderr",
     "output_type": "stream",
     "text": [
      "/home/jovyan/data-analyses/project_list/_lrtp_utils.py:66: UserWarning: This pattern is interpreted as a regular expression, and has match groups. To actually get the groups, use str.extract.\n",
      "  cost_columns = df.columns[df.columns.str.contains(\"(cost|funds)\")].tolist()\n",
      "/home/jovyan/data-analyses/project_list/_lrtp_utils.py:720: FutureWarning: The default value of regex will change from True to False in a future version. In addition, single character regular expressions will *not* be treated as literal strings when regex=True.\n",
      "  sandag.cost2020m.str.replace(\"$\", \"\")\n",
      "/home/jovyan/data-analyses/project_list/_lrtp_utils.py:66: UserWarning: This pattern is interpreted as a regular expression, and has match groups. To actually get the groups, use str.extract.\n",
      "  cost_columns = df.columns[df.columns.str.contains(\"(cost|funds)\")].tolist()\n"
     ]
    },
    {
     "name": "stdout",
     "output_type": "stream",
     "text": [
      "65 rows are headers\n"
     ]
    },
    {
     "name": "stderr",
     "output_type": "stream",
     "text": [
      "/home/jovyan/data-analyses/project_list/_lrtp_utils.py:66: UserWarning: This pattern is interpreted as a regular expression, and has match groups. To actually get the groups, use str.extract.\n",
      "  cost_columns = df.columns[df.columns.str.contains(\"(cost|funds)\")].tolist()\n",
      "/home/jovyan/data-analyses/project_list/_lrtp_utils.py:66: UserWarning: This pattern is interpreted as a regular expression, and has match groups. To actually get the groups, use str.extract.\n",
      "  cost_columns = df.columns[df.columns.str.contains(\"(cost|funds)\")].tolist()\n",
      "/home/jovyan/data-analyses/project_list/_lrtp_utils.py:66: UserWarning: This pattern is interpreted as a regular expression, and has match groups. To actually get the groups, use str.extract.\n",
      "  cost_columns = df.columns[df.columns.str.contains(\"(cost|funds)\")].tolist()\n"
     ]
    },
    {
     "name": "stdout",
     "output_type": "stream",
     "text": [
      "360 rows are headers\n"
     ]
    },
    {
     "name": "stderr",
     "output_type": "stream",
     "text": [
      "/home/jovyan/data-analyses/project_list/_lrtp_utils.py:66: UserWarning: This pattern is interpreted as a regular expression, and has match groups. To actually get the groups, use str.extract.\n",
      "  cost_columns = df.columns[df.columns.str.contains(\"(cost|funds)\")].tolist()\n",
      "/home/jovyan/data-analyses/project_list/_lrtp_utils.py:66: UserWarning: This pattern is interpreted as a regular expression, and has match groups. To actually get the groups, use str.extract.\n",
      "  cost_columns = df.columns[df.columns.str.contains(\"(cost|funds)\")].tolist()\n"
     ]
    },
    {
     "name": "stdout",
     "output_type": "stream",
     "text": [
      "68 rows are headers\n"
     ]
    },
    {
     "name": "stderr",
     "output_type": "stream",
     "text": [
      "/home/jovyan/data-analyses/project_list/_lrtp_utils.py:66: UserWarning: This pattern is interpreted as a regular expression, and has match groups. To actually get the groups, use str.extract.\n",
      "  cost_columns = df.columns[df.columns.str.contains(\"(cost|funds)\")].tolist()\n",
      "/home/jovyan/data-analyses/project_list/_lrtp_utils.py:66: UserWarning: This pattern is interpreted as a regular expression, and has match groups. To actually get the groups, use str.extract.\n",
      "  cost_columns = df.columns[df.columns.str.contains(\"(cost|funds)\")].tolist()\n",
      "/home/jovyan/data-analyses/project_list/_lrtp_utils.py:66: UserWarning: This pattern is interpreted as a regular expression, and has match groups. To actually get the groups, use str.extract.\n",
      "  cost_columns = df.columns[df.columns.str.contains(\"(cost|funds)\")].tolist()\n",
      "/home/jovyan/data-analyses/project_list/_lrtp_utils.py:66: UserWarning: This pattern is interpreted as a regular expression, and has match groups. To actually get the groups, use str.extract.\n",
      "  cost_columns = df.columns[df.columns.str.contains(\"(cost|funds)\")].tolist()\n"
     ]
    }
   ],
   "source": [
    "lrtp_lost_df, lrtp_lost_gdf = lrtp_utils.all_mpo(True)"
   ]
  },
  {
   "cell_type": "code",
   "execution_count": 5,
   "id": "052c4887-4ca7-4ae9-bb15-cdbc26544298",
   "metadata": {},
   "outputs": [],
   "source": [
    "def database_unique_project_number(df:pd.DataFrame, project_id_col:str, database:str) -> pd.DataFrame:\n",
    "   \n",
    "    # df['combo'] = df.apply(lambda row: f\"{row.name}{row['timestamp']}{''.join(map(str, row))}\", axis=1)\n",
    "    # df['project_number'] = df['combo'].apply(lambda x: hashlib.sha256(x.encode('utf-8')).hexdigest()[:12])\n",
    "    # df = df.drop(columns = ['combo', 'timestamp'])\n",
    "    \n",
    "    df['project_number'] = df[project_id_col].astype(str) + df[database].str.replace(' ', '_')\n",
    "    # Pad the number\n",
    "    df['project_number'] = df['project_number'].str.pad(width=14, fillchar='0')\n",
    "    \n",
    "    # df = df.drop(columns = [project_id_col])\n",
    "    return df"
   ]
  },
  {
   "cell_type": "code",
   "execution_count": 6,
   "id": "3213fb0f-224b-4858-b34a-06dd94a5ad57",
   "metadata": {},
   "outputs": [],
   "source": [
    "def non_database_unique_project_number(df:pd.DataFrame, data_source_col:str) -> pd.DataFrame:\n",
    "   \n",
    "    df['project_count'] = df.groupby([data_source_col]).cumcount().astype(int)+1\n",
    "    # Pad the number\n",
    "    df['project_number'] = df[data_source_col].str.replace(' ', '_') + df.project_count.astype(str)\n",
    "    \n",
    "    df.project_number = df.project_number.str.pad(width=14, fillchar='0')\n",
    "    \n",
    "    df = df.drop(columns = ['project_count'])\n",
    "    return df"
   ]
  },
  {
   "cell_type": "code",
   "execution_count": 7,
   "id": "d5cd997b-dc72-4f04-9950-158fe13c25fb",
   "metadata": {},
   "outputs": [],
   "source": [
    "def separate_out_df(df:pd.DataFrame, columns_to_keep: list)-> pd.DataFrame:\n",
    "    \"\"\"\n",
    "    Subset the column, drop any rows \n",
    "    in which the values are Nan or \"None.\"\n",
    "    \"\"\"\n",
    "    # Subset\n",
    "    df2 = df[columns_to_keep]\n",
    "    \n",
    "    # Fill in missing values\n",
    "    try:\n",
    "        df2 = df2.fillna('none')\n",
    "    except:\n",
    "        df2\n",
    "    \n",
    "    # Remove project_number and keep only cols of interest\n",
    "    columns_to_keep.remove('project_number')\n",
    "    \n",
    "    # Drop rows that are nan or \"None\" based on how many columns are listed\n",
    "    if len(columns_to_keep) == 1:\n",
    "        df2 = df2.dropna(how = \"any\")\n",
    "        df2 = df2[df2.applymap(lambda x: x.lower() if isinstance(x, str) else x) != 'none'].dropna()\n",
    "        \n",
    "    # If there are more than one column to separate out,\n",
    "    # keep any row that has a non-null value \n",
    "    else:\n",
    "        df2 = df2.dropna(how = \"all\", subset = columns_to_keep)\n",
    "    return df2"
   ]
  },
  {
   "cell_type": "code",
   "execution_count": 8,
   "id": "8c2a4e5e-a942-4dc6-8bfd-644fa9aa1a8b",
   "metadata": {},
   "outputs": [],
   "source": [
    "lrtp_lost_df = non_database_unique_project_number(lrtp_lost_df, 'data_source')"
   ]
  },
  {
   "cell_type": "code",
   "execution_count": 9,
   "id": "36cc0d3a-f9d6-4644-b42b-57e4ab624637",
   "metadata": {},
   "outputs": [
    {
     "data": {
      "text/html": [
       "<div>\n",
       "<style scoped>\n",
       "    .dataframe tbody tr th:only-of-type {\n",
       "        vertical-align: middle;\n",
       "    }\n",
       "\n",
       "    .dataframe tbody tr th {\n",
       "        vertical-align: top;\n",
       "    }\n",
       "\n",
       "    .dataframe thead th {\n",
       "        text-align: right;\n",
       "    }\n",
       "</style>\n",
       "<table border=\"1\" class=\"dataframe\">\n",
       "  <thead>\n",
       "    <tr style=\"text-align: right;\">\n",
       "      <th></th>\n",
       "      <th>project_title</th>\n",
       "      <th>lead_agency</th>\n",
       "      <th>project_year</th>\n",
       "      <th>project_description</th>\n",
       "      <th>total_project_cost</th>\n",
       "      <th>geometry</th>\n",
       "      <th>city</th>\n",
       "      <th>county</th>\n",
       "      <th>data_source</th>\n",
       "      <th>notes</th>\n",
       "      <th>project_number</th>\n",
       "    </tr>\n",
       "  </thead>\n",
       "  <tbody>\n",
       "    <tr>\n",
       "      <th>805</th>\n",
       "      <td>Kern County ‐ Class Iii Bike Blvd</td>\n",
       "      <td>Kern Cog</td>\n",
       "      <td>None</td>\n",
       "      <td>Habecker Rd (Panama Rd To Di Giorgio Rd) 1. Mi.                                                                              $                         50</td>\n",
       "      <td>50000.00</td>\n",
       "      <td>None</td>\n",
       "      <td>None</td>\n",
       "      <td>None</td>\n",
       "      <td>Kern Cog Lrtp</td>\n",
       "      <td>Yoe W  New Revenue: 50000,  Yoe W O New Reven: 50000</td>\n",
       "      <td>Kern_Cog_Lrtp806</td>\n",
       "    </tr>\n",
       "  </tbody>\n",
       "</table>\n",
       "</div>"
      ],
      "text/plain": [
       "                         project_title lead_agency project_year  \\\n",
       "805  Kern County ‐ Class Iii Bike Blvd    Kern Cog         None   \n",
       "\n",
       "                                                                                                                                           project_description  \\\n",
       "805  Habecker Rd (Panama Rd To Di Giorgio Rd) 1. Mi.                                                                              $                         50   \n",
       "\n",
       "     total_project_cost geometry  city county    data_source  \\\n",
       "805            50000.00     None  None   None  Kern Cog Lrtp   \n",
       "\n",
       "                                                    notes    project_number  \n",
       "805  Yoe W  New Revenue: 50000,  Yoe W O New Reven: 50000  Kern_Cog_Lrtp806  "
      ]
     },
     "execution_count": 9,
     "metadata": {},
     "output_type": "execute_result"
    }
   ],
   "source": [
    "lrtp_lost_df.sample()"
   ]
  },
  {
   "cell_type": "code",
   "execution_count": 10,
   "id": "8acf0ccd-3b35-41db-9320-3352b9b4e813",
   "metadata": {},
   "outputs": [],
   "source": [
    "lrtp_lost_county = separate_out_df(lrtp_lost_df, ['project_number', 'county'])"
   ]
  },
  {
   "cell_type": "code",
   "execution_count": 11,
   "id": "fce5ffc2-1b46-4f8d-bbb1-2a9251d35a8c",
   "metadata": {},
   "outputs": [
    {
     "data": {
      "text/html": [
       "<div>\n",
       "<style scoped>\n",
       "    .dataframe tbody tr th:only-of-type {\n",
       "        vertical-align: middle;\n",
       "    }\n",
       "\n",
       "    .dataframe tbody tr th {\n",
       "        vertical-align: top;\n",
       "    }\n",
       "\n",
       "    .dataframe thead th {\n",
       "        text-align: right;\n",
       "    }\n",
       "</style>\n",
       "<table border=\"1\" class=\"dataframe\">\n",
       "  <thead>\n",
       "    <tr style=\"text-align: right;\">\n",
       "      <th></th>\n",
       "      <th>project_number</th>\n",
       "      <th>county</th>\n",
       "    </tr>\n",
       "  </thead>\n",
       "  <tbody>\n",
       "    <tr>\n",
       "      <th>146</th>\n",
       "      <td>000Mtc_Lrtp147</td>\n",
       "      <td>Various</td>\n",
       "    </tr>\n",
       "  </tbody>\n",
       "</table>\n",
       "</div>"
      ],
      "text/plain": [
       "     project_number   county\n",
       "146  000Mtc_Lrtp147  Various"
      ]
     },
     "execution_count": 11,
     "metadata": {},
     "output_type": "execute_result"
    }
   ],
   "source": [
    "lrtp_lost_county.sample()"
   ]
  },
  {
   "cell_type": "code",
   "execution_count": 12,
   "id": "71ff78d9-cafc-4bc4-bc68-2f0e001a5acd",
   "metadata": {},
   "outputs": [],
   "source": [
    "lrtp_lost_city = separate_out_df(lrtp_lost_df, ['project_number', 'city'])"
   ]
  },
  {
   "cell_type": "code",
   "execution_count": 13,
   "id": "4116f424-755e-4382-98c7-c3f0c65c5514",
   "metadata": {},
   "outputs": [
    {
     "data": {
      "text/plain": [
       "(745, 2)"
      ]
     },
     "execution_count": 13,
     "metadata": {},
     "output_type": "execute_result"
    }
   ],
   "source": [
    "lrtp_lost_city.shape"
   ]
  },
  {
   "cell_type": "code",
   "execution_count": 14,
   "id": "829f6817-f0f7-4193-9ce8-f9732baff8d8",
   "metadata": {},
   "outputs": [],
   "source": [
    "lrtp_lost_agency = separate_out_df(lrtp_lost_df, ['project_number', 'lead_agency'])"
   ]
  },
  {
   "cell_type": "code",
   "execution_count": 15,
   "id": "dd61d79c-9999-4c11-9353-47ac4f16b8b1",
   "metadata": {},
   "outputs": [
    {
     "data": {
      "text/html": [
       "<div>\n",
       "<style scoped>\n",
       "    .dataframe tbody tr th:only-of-type {\n",
       "        vertical-align: middle;\n",
       "    }\n",
       "\n",
       "    .dataframe tbody tr th {\n",
       "        vertical-align: top;\n",
       "    }\n",
       "\n",
       "    .dataframe thead th {\n",
       "        text-align: right;\n",
       "    }\n",
       "</style>\n",
       "<table border=\"1\" class=\"dataframe\">\n",
       "  <thead>\n",
       "    <tr style=\"text-align: right;\">\n",
       "      <th></th>\n",
       "      <th>project_number</th>\n",
       "      <th>lead_agency</th>\n",
       "    </tr>\n",
       "  </thead>\n",
       "  <tbody>\n",
       "    <tr>\n",
       "      <th>19</th>\n",
       "      <td>00000000Lost20</td>\n",
       "      <td>Lost</td>\n",
       "    </tr>\n",
       "  </tbody>\n",
       "</table>\n",
       "</div>"
      ],
      "text/plain": [
       "    project_number lead_agency\n",
       "19  00000000Lost20        Lost"
      ]
     },
     "execution_count": 15,
     "metadata": {},
     "output_type": "execute_result"
    }
   ],
   "source": [
    "lrtp_lost_agency.sample()"
   ]
  },
  {
   "cell_type": "code",
   "execution_count": 16,
   "id": "5c3dfa8a-480a-4062-b59c-0ce5dff75cdc",
   "metadata": {},
   "outputs": [],
   "source": [
    "lrtp_lost_geo = separate_out_df(lrtp_lost_df, ['project_number', 'geometry'])"
   ]
  },
  {
   "cell_type": "code",
   "execution_count": 17,
   "id": "40998366-218c-4c9b-b890-dc97769e3893",
   "metadata": {},
   "outputs": [
    {
     "data": {
      "text/plain": [
       "((1357, 2), (1355, 10))"
      ]
     },
     "execution_count": 17,
     "metadata": {},
     "output_type": "execute_result"
    }
   ],
   "source": [
    "lrtp_lost_geo.shape, lrtp_lost_gdf.shape"
   ]
  },
  {
   "cell_type": "code",
   "execution_count": 18,
   "id": "92fe5891-014e-4177-beb6-1e83c957d0fb",
   "metadata": {},
   "outputs": [],
   "source": [
    "lrtp_to_drop = ['county', 'city', 'lead_agency', 'geometry']"
   ]
  },
  {
   "cell_type": "code",
   "execution_count": 19,
   "id": "29ca0b11-6244-455b-96b2-dd53144d7c0e",
   "metadata": {},
   "outputs": [],
   "source": [
    "lrtp_lost_df = lrtp_lost_df.drop(columns = lrtp_to_drop)"
   ]
  },
  {
   "cell_type": "code",
   "execution_count": 20,
   "id": "3a475324-4f2d-41a3-8b1f-ac4f0eaf0962",
   "metadata": {},
   "outputs": [
    {
     "data": {
      "text/html": [
       "<div>\n",
       "<style scoped>\n",
       "    .dataframe tbody tr th:only-of-type {\n",
       "        vertical-align: middle;\n",
       "    }\n",
       "\n",
       "    .dataframe tbody tr th {\n",
       "        vertical-align: top;\n",
       "    }\n",
       "\n",
       "    .dataframe thead th {\n",
       "        text-align: right;\n",
       "    }\n",
       "</style>\n",
       "<table border=\"1\" class=\"dataframe\">\n",
       "  <thead>\n",
       "    <tr style=\"text-align: right;\">\n",
       "      <th></th>\n",
       "      <th>project_title</th>\n",
       "      <th>project_year</th>\n",
       "      <th>project_description</th>\n",
       "      <th>total_project_cost</th>\n",
       "      <th>data_source</th>\n",
       "      <th>notes</th>\n",
       "      <th>project_number</th>\n",
       "    </tr>\n",
       "  </thead>\n",
       "  <tbody>\n",
       "    <tr>\n",
       "      <th>47</th>\n",
       "      <td>Placerville Dr Bridge Widening</td>\n",
       "      <td>2020-2025</td>\n",
       "      <td>Hangtown Creek Bridge At Placerville Drive, 0.3 Mi West Of Cold Springs Rd: Replace Existing Functionally Obsolete 2-Lane Bridge With A New 4-Lane Bridge.</td>\n",
       "      <td>4935550.00</td>\n",
       "      <td>Sacog Lrtp</td>\n",
       "      <td>Budget Category: B- Road &amp; Highway Capacity,  Year Of Expenditure Cost For Planned Projects: Nan,  Status  Planned, Programmed Or Project Development Only : Programmed</td>\n",
       "      <td>00Sacog_Lrtp48</td>\n",
       "    </tr>\n",
       "  </tbody>\n",
       "</table>\n",
       "</div>"
      ],
      "text/plain": [
       "                     project_title project_year  \\\n",
       "47  Placerville Dr Bridge Widening    2020-2025   \n",
       "\n",
       "                                                                                                                                           project_description  \\\n",
       "47  Hangtown Creek Bridge At Placerville Drive, 0.3 Mi West Of Cold Springs Rd: Replace Existing Functionally Obsolete 2-Lane Bridge With A New 4-Lane Bridge.   \n",
       "\n",
       "    total_project_cost data_source  \\\n",
       "47          4935550.00  Sacog Lrtp   \n",
       "\n",
       "                                                                                                                                                                      notes  \\\n",
       "47  Budget Category: B- Road & Highway Capacity,  Year Of Expenditure Cost For Planned Projects: Nan,  Status  Planned, Programmed Or Project Development Only : Programmed   \n",
       "\n",
       "    project_number  \n",
       "47  00Sacog_Lrtp48  "
      ]
     },
     "execution_count": 20,
     "metadata": {},
     "output_type": "execute_result"
    }
   ],
   "source": [
    "lrtp_lost_df.sample()"
   ]
  },
  {
   "cell_type": "markdown",
   "id": "0d3280f2-67c1-418d-8161-4a577b9d3034",
   "metadata": {},
   "source": [
    "### SB1"
   ]
  },
  {
   "cell_type": "code",
   "execution_count": 21,
   "id": "6d530178-4f39-475b-b533-822b0b19f237",
   "metadata": {},
   "outputs": [
    {
     "name": "stderr",
     "output_type": "stream",
     "text": [
      "/home/jovyan/data-analyses/project_list/_sb1_utils.py:23: FutureWarning: The default value of regex will change from True to False in a future version. In addition, single character regular expressions will *not* be treated as literal strings when regex=True.\n",
      "  gdf[i]\n",
      "/home/jovyan/data-analyses/project_list/_sb1_utils.py:23: FutureWarning: The default value of regex will change from True to False in a future version.\n",
      "  gdf[i]\n"
     ]
    },
    {
     "name": "stdout",
     "output_type": "stream",
     "text": [
      "0 rows are mising geometry\n",
      "7917 rows contain invalid geography\n"
     ]
    }
   ],
   "source": [
    "sb1_df = sb1_utils.load_sb1()"
   ]
  },
  {
   "cell_type": "code",
   "execution_count": 22,
   "id": "6ada2e47-2dd7-4997-8145-1329748d7dd8",
   "metadata": {},
   "outputs": [],
   "source": [
    "#  sb1_df['data_source'] = \"SB1 Server\""
   ]
  },
  {
   "cell_type": "code",
   "execution_count": 23,
   "id": "7ee96e11-1d68-4991-8089-5749adacb311",
   "metadata": {},
   "outputs": [],
   "source": [
    "sb1_df = database_unique_project_number(sb1_df, 'projectid', 'data_source')"
   ]
  },
  {
   "cell_type": "code",
   "execution_count": 24,
   "id": "931ef88d-caf9-4201-bc18-d874197be065",
   "metadata": {},
   "outputs": [
    {
     "data": {
      "text/html": [
       "<div>\n",
       "<style scoped>\n",
       "    .dataframe tbody tr th:only-of-type {\n",
       "        vertical-align: middle;\n",
       "    }\n",
       "\n",
       "    .dataframe tbody tr th {\n",
       "        vertical-align: top;\n",
       "    }\n",
       "\n",
       "    .dataframe thead th {\n",
       "        text-align: right;\n",
       "    }\n",
       "</style>\n",
       "<table border=\"1\" class=\"dataframe\">\n",
       "  <thead>\n",
       "    <tr style=\"text-align: right;\">\n",
       "      <th></th>\n",
       "      <th>projectid</th>\n",
       "      <th>projname</th>\n",
       "      <th>projcatcode</th>\n",
       "      <th>projcategory</th>\n",
       "      <th>projprogcode</th>\n",
       "      <th>projprogram</th>\n",
       "      <th>multiprogfunded</th>\n",
       "      <th>projstatus</th>\n",
       "      <th>description</th>\n",
       "      <th>cost</th>\n",
       "      <th>assemblydistrict</th>\n",
       "      <th>senatedistrict</th>\n",
       "      <th>assemblycode</th>\n",
       "      <th>senatecode</th>\n",
       "      <th>countyname</th>\n",
       "      <th>cityname</th>\n",
       "      <th>countycode</th>\n",
       "      <th>citycode</th>\n",
       "      <th>appagencyname</th>\n",
       "      <th>impagencyname</th>\n",
       "      <th>geometry</th>\n",
       "      <th>totalcosts</th>\n",
       "      <th>routes</th>\n",
       "      <th>constyear</th>\n",
       "      <th>costfull</th>\n",
       "      <th>projagency</th>\n",
       "      <th>data_source</th>\n",
       "      <th>project_number</th>\n",
       "    </tr>\n",
       "  </thead>\n",
       "  <tbody>\n",
       "    <tr>\n",
       "      <th>2286</th>\n",
       "      <td>LsrFy17185085Pp001</td>\n",
       "      <td>Roadway Scrub Seal 1</td>\n",
       "      <td>Local</td>\n",
       "      <td>Local And Regional</td>\n",
       "      <td>Lsr1718</td>\n",
       "      <td>201718 Local Streets And Roads</td>\n",
       "      <td>NaN</td>\n",
       "      <td>PreConstruction</td>\n",
       "      <td>Scrub Seal Roadway Rehabilitation Project</td>\n",
       "      <td>NaN</td>\n",
       "      <td>21</td>\n",
       "      <td>12</td>\n",
       "      <td>21</td>\n",
       "      <td>12</td>\n",
       "      <td>Merced</td>\n",
       "      <td>Merced  Submitted By City</td>\n",
       "      <td>Mer</td>\n",
       "      <td>Mer</td>\n",
       "      <td>NaN</td>\n",
       "      <td>NaN</td>\n",
       "      <td>None</td>\n",
       "      <td>NaN</td>\n",
       "      <td>NaN</td>\n",
       "      <td>2018</td>\n",
       "      <td>0.00</td>\n",
       "      <td>Merced    City</td>\n",
       "      <td>SB1 Server</td>\n",
       "      <td>LsrFy17185085Pp001SB1_Server</td>\n",
       "    </tr>\n",
       "  </tbody>\n",
       "</table>\n",
       "</div>"
      ],
      "text/plain": [
       "               projectid              projname projcatcode  \\\n",
       "2286  LsrFy17185085Pp001  Roadway Scrub Seal 1       Local   \n",
       "\n",
       "            projcategory projprogcode                     projprogram  \\\n",
       "2286  Local And Regional      Lsr1718  201718 Local Streets And Roads   \n",
       "\n",
       "     multiprogfunded       projstatus  \\\n",
       "2286             NaN  PreConstruction   \n",
       "\n",
       "                                    description cost assemblydistrict  \\\n",
       "2286  Scrub Seal Roadway Rehabilitation Project  NaN               21   \n",
       "\n",
       "     senatedistrict assemblycode senatecode countyname  \\\n",
       "2286             12           21         12     Merced   \n",
       "\n",
       "                       cityname countycode citycode appagencyname  \\\n",
       "2286  Merced  Submitted By City        Mer      Mer           NaN   \n",
       "\n",
       "     impagencyname geometry totalcosts routes constyear  costfull  \\\n",
       "2286           NaN     None        NaN    NaN      2018      0.00   \n",
       "\n",
       "          projagency data_source                project_number  \n",
       "2286  Merced    City  SB1 Server  LsrFy17185085Pp001SB1_Server  "
      ]
     },
     "execution_count": 24,
     "metadata": {},
     "output_type": "execute_result"
    }
   ],
   "source": [
    "sb1_df.sample()"
   ]
  },
  {
   "cell_type": "code",
   "execution_count": 25,
   "id": "e37cf474-f657-4dbb-8969-23e14001ac84",
   "metadata": {},
   "outputs": [
    {
     "data": {
      "text/plain": [
       "9186"
      ]
     },
     "execution_count": 25,
     "metadata": {},
     "output_type": "execute_result"
    }
   ],
   "source": [
    "len(sb1_df)"
   ]
  },
  {
   "cell_type": "code",
   "execution_count": 26,
   "id": "eb4314bc-8d4f-4a1b-8425-034091a4f57f",
   "metadata": {},
   "outputs": [
    {
     "data": {
      "text/plain": [
       "7603"
      ]
     },
     "execution_count": 26,
     "metadata": {},
     "output_type": "execute_result"
    }
   ],
   "source": [
    "sb1_df.project_number.nunique()"
   ]
  },
  {
   "cell_type": "markdown",
   "id": "b09c99bf-a44e-4c8d-a9fb-fb3a86ffa1eb",
   "metadata": {},
   "source": [
    "#### Check that assemblydistrict and assemblycode are the same values"
   ]
  },
  {
   "cell_type": "code",
   "execution_count": 27,
   "id": "2ec3775a-1d30-4f88-bea1-37f55a29e767",
   "metadata": {},
   "outputs": [],
   "source": [
    "sb1_df['assembly_same'] = sb1_df.assemblycode == sb1_df.assemblydistrict"
   ]
  },
  {
   "cell_type": "code",
   "execution_count": 28,
   "id": "41b4f512-89a6-4a08-b0bd-f1ed309d9c34",
   "metadata": {},
   "outputs": [
    {
     "data": {
      "text/plain": [
       "True     7217\n",
       "False    1969\n",
       "Name: assembly_same, dtype: int64"
      ]
     },
     "execution_count": 28,
     "metadata": {},
     "output_type": "execute_result"
    }
   ],
   "source": [
    "sb1_df.assembly_same.value_counts()"
   ]
  },
  {
   "cell_type": "code",
   "execution_count": 29,
   "id": "76325c35-f25b-4635-8601-3f576557abee",
   "metadata": {},
   "outputs": [],
   "source": [
    "sb1_df['senate_same'] = sb1_df.senatedistrict == sb1_df.senatecode"
   ]
  },
  {
   "cell_type": "code",
   "execution_count": 30,
   "id": "5962a32a-c9d2-4373-8e05-329b62b42256",
   "metadata": {},
   "outputs": [
    {
     "data": {
      "text/plain": [
       "True     6950\n",
       "False    2236\n",
       "Name: senate_same, dtype: int64"
      ]
     },
     "execution_count": 30,
     "metadata": {},
     "output_type": "execute_result"
    }
   ],
   "source": [
    "sb1_df.senate_same.value_counts()"
   ]
  },
  {
   "cell_type": "code",
   "execution_count": 31,
   "id": "0a1360f5-eb9a-49a9-947e-249f3d8e9b99",
   "metadata": {},
   "outputs": [],
   "source": [
    "sb1_county = separate_out_df(sb1_df, ['project_number', 'countyname'])"
   ]
  },
  {
   "cell_type": "code",
   "execution_count": 32,
   "id": "0330602b-7b39-48c9-835f-d7cbbd4fcd3f",
   "metadata": {},
   "outputs": [],
   "source": [
    "def explode_dataframe(df:pd.DataFrame, column_to_explode:str)-> pd.DataFrame:\n",
    "    df['Column2'] = df[column_to_explode].apply(lambda x: [int(i) if i.isdigit() else i for i in x.replace(',', '').split()])\n",
    "    df = df.drop(columns = [column_to_explode])\n",
    "    df2 = df.explode('Column2')\n",
    "    df2 = df2.rename(columns = {'Column2': column_to_explode})\n",
    "    return df2"
   ]
  },
  {
   "cell_type": "code",
   "execution_count": 33,
   "id": "ea4fd105-9188-426f-a724-5de40ae5af4b",
   "metadata": {},
   "outputs": [],
   "source": [
    "sb1_assembly = separate_out_df(sb1_df, ['project_number', 'assemblydistrict'])"
   ]
  },
  {
   "cell_type": "code",
   "execution_count": 34,
   "id": "6b621482-fb52-441f-9fde-bb021dda35c5",
   "metadata": {},
   "outputs": [],
   "source": [
    "sb1_assembly = explode_dataframe(sb1_assembly, 'assemblydistrict')"
   ]
  },
  {
   "cell_type": "code",
   "execution_count": 35,
   "id": "a0e95618-ea4f-4b7d-b1fc-954a780dd86f",
   "metadata": {},
   "outputs": [],
   "source": [
    "sb1_senate = separate_out_df(sb1_df, ['project_number', 'senatedistrict'])"
   ]
  },
  {
   "cell_type": "code",
   "execution_count": 36,
   "id": "1d67d259-8822-4512-877b-bc1b66de7d96",
   "metadata": {},
   "outputs": [],
   "source": [
    "sb1_senate = explode_dataframe(sb1_senate, 'senatedistrict')"
   ]
  },
  {
   "cell_type": "code",
   "execution_count": 37,
   "id": "137fda15-a412-49fe-be74-48d58f750bb3",
   "metadata": {},
   "outputs": [],
   "source": [
    "sb1_city = separate_out_df(sb1_df, ['project_number', 'cityname'])"
   ]
  },
  {
   "cell_type": "code",
   "execution_count": 38,
   "id": "d98c2dc2-3232-4fe0-ba3f-6f2d148fb755",
   "metadata": {},
   "outputs": [],
   "source": [
    "sb1_geo = separate_out_df(sb1_df, ['project_number', 'geometry'])"
   ]
  },
  {
   "cell_type": "code",
   "execution_count": 39,
   "id": "67e7d80d-ee5c-4c1b-8337-bb30be56f585",
   "metadata": {},
   "outputs": [],
   "source": [
    "sb1_awards = separate_out_df(sb1_df, ['project_number', 'projprogram'])"
   ]
  },
  {
   "cell_type": "code",
   "execution_count": 40,
   "id": "ab21d511-2062-4c89-ad45-dfdc95721cc1",
   "metadata": {},
   "outputs": [
    {
     "data": {
      "text/plain": [
       "((9186, 2), (1585, 2), (6696, 2))"
      ]
     },
     "execution_count": 40,
     "metadata": {},
     "output_type": "execute_result"
    }
   ],
   "source": [
    "sb1_awards.shape, sb1_geo.shape, sb1_city.shape"
   ]
  },
  {
   "cell_type": "code",
   "execution_count": 41,
   "id": "d09e706e-cf16-4434-8b4b-b2661f0ba742",
   "metadata": {},
   "outputs": [],
   "source": [
    "sb1_agencies = separate_out_df(sb1_df, ['project_number', 'projagency', 'appagencyname', 'impagencyname'])"
   ]
  },
  {
   "cell_type": "code",
   "execution_count": 42,
   "id": "9a07f377-dc3d-402c-8c26-2f7def5abb41",
   "metadata": {},
   "outputs": [
    {
     "data": {
      "text/plain": [
       "(9186, 4)"
      ]
     },
     "execution_count": 42,
     "metadata": {},
     "output_type": "execute_result"
    }
   ],
   "source": [
    "sb1_agencies.shape"
   ]
  },
  {
   "cell_type": "markdown",
   "id": "1150a152-1432-40b9-a946-6a79964bf720",
   "metadata": {},
   "source": [
    "### LP2000"
   ]
  },
  {
   "cell_type": "code",
   "execution_count": 43,
   "id": "b1c94570-cb6c-4e47-91c9-59caf8512dc7",
   "metadata": {},
   "outputs": [],
   "source": [
    "def load_lp2000(file: str):\n",
    "    \n",
    "    df_project = to_snakecase(\n",
    "        pd.read_excel(f\"{GCS_FILE_PATH}LP2000_CTIPS/{file}\", sheet_name=\"project\")\n",
    "    )\n",
    "\n",
    "    df_county = to_snakecase(\n",
    "        pd.read_excel(f\"{GCS_FILE_PATH}LP2000_CTIPS/{file}\", sheet_name=\"county\")\n",
    "    ).drop(columns=[\"project_label_name\"])\n",
    "\n",
    "    df_district = to_snakecase(\n",
    "        pd.read_excel(f\"{GCS_FILE_PATH}LP2000_CTIPS/{file}\", sheet_name=\"district\")\n",
    "    ).drop(columns=[\"project_label_name\"])\n",
    "\n",
    "    df_award = to_snakecase(\n",
    "        pd.read_excel(f\"{GCS_FILE_PATH}LP2000_CTIPS/{file}\", sheet_name=\"awards\")\n",
    "    )\n",
    "    \n",
    "    df_phase = to_snakecase(\n",
    "        pd.read_excel(f\"{GCS_FILE_PATH}LP2000_CTIPS/{file}\", sheet_name=\"phase_funding\")\n",
    "    )\n",
    "    \n",
    "    df_project['data_source'] = \"lp2000\"\n",
    "    # Add timestamp column \n",
    "    return df_project, df_county, df_district, df_award, df_phase"
   ]
  },
  {
   "cell_type": "code",
   "execution_count": 44,
   "id": "91c989ec-208b-4053-8ae8-3e3a0e44c5c8",
   "metadata": {},
   "outputs": [],
   "source": [
    "lp2000_project, lp2000_county, lp2000_district, lp2000_award, lp2000_phase = load_lp2000(\"LP2000_projects.xlsx\")"
   ]
  },
  {
   "cell_type": "code",
   "execution_count": 45,
   "id": "f7947161-a519-4342-8672-edbdba742984",
   "metadata": {},
   "outputs": [],
   "source": [
    "lp2000_project = database_unique_project_number(lp2000_project, 'project_id', 'data_source')"
   ]
  },
  {
   "cell_type": "code",
   "execution_count": 46,
   "id": "4e674bed-ebd1-43eb-a944-721e30f22cfb",
   "metadata": {},
   "outputs": [
    {
     "data": {
      "text/plain": [
       "(11272, 11272)"
      ]
     },
     "execution_count": 46,
     "metadata": {},
     "output_type": "execute_result"
    }
   ],
   "source": [
    "len(lp2000_project), lp2000_project.project_number.nunique()"
   ]
  },
  {
   "cell_type": "code",
   "execution_count": 47,
   "id": "219ec508-8706-49f0-ae04-711599d967a2",
   "metadata": {},
   "outputs": [],
   "source": [
    "def add_project_number(df_with_project_num:pd.DataFrame, target_df:pd.DataFrame, merge_col:str)-> pd.DataFrame:\n",
    "    df_with_project_num_subset = df_with_project_num[['project_number'] + [merge_col]]\n",
    "    m1 = pd.merge(df_with_project_num_subset, target_df, on = merge_col, how = 'inner')\n",
    "    m1 = m1.drop(columns = merge_col)\n",
    "    return m1"
   ]
  },
  {
   "cell_type": "code",
   "execution_count": 48,
   "id": "64e0b2f1-2214-4822-b5d9-6c27a9be79ee",
   "metadata": {},
   "outputs": [],
   "source": [
    "lp2000_county = add_project_number(lp2000_project, lp2000_county, 'project_id')"
   ]
  },
  {
   "cell_type": "code",
   "execution_count": 49,
   "id": "633651e5-f043-4a8a-a4b4-9e5d42ac3803",
   "metadata": {},
   "outputs": [
    {
     "data": {
      "text/html": [
       "<div>\n",
       "<style scoped>\n",
       "    .dataframe tbody tr th:only-of-type {\n",
       "        vertical-align: middle;\n",
       "    }\n",
       "\n",
       "    .dataframe tbody tr th {\n",
       "        vertical-align: top;\n",
       "    }\n",
       "\n",
       "    .dataframe thead th {\n",
       "        text-align: right;\n",
       "    }\n",
       "</style>\n",
       "<table border=\"1\" class=\"dataframe\">\n",
       "  <thead>\n",
       "    <tr style=\"text-align: right;\">\n",
       "      <th></th>\n",
       "      <th>project_number</th>\n",
       "      <th>county_name</th>\n",
       "    </tr>\n",
       "  </thead>\n",
       "  <tbody>\n",
       "    <tr>\n",
       "      <th>7872</th>\n",
       "      <td>5079(032)lp2000</td>\n",
       "      <td>San Diego County</td>\n",
       "    </tr>\n",
       "  </tbody>\n",
       "</table>\n",
       "</div>"
      ],
      "text/plain": [
       "       project_number       county_name\n",
       "7872  5079(032)lp2000  San Diego County"
      ]
     },
     "execution_count": 49,
     "metadata": {},
     "output_type": "execute_result"
    }
   ],
   "source": [
    "lp2000_county.sample()"
   ]
  },
  {
   "cell_type": "code",
   "execution_count": 51,
   "id": "70329916-8d4e-4405-9f7c-98cbef049535",
   "metadata": {},
   "outputs": [],
   "source": [
    "lp2000_district = add_project_number(lp2000_project, lp2000_district, 'project_id')"
   ]
  },
  {
   "cell_type": "code",
   "execution_count": 52,
   "id": "105508f5-fceb-42c8-bab3-c279c53e9b2a",
   "metadata": {},
   "outputs": [
    {
     "data": {
      "text/html": [
       "<div>\n",
       "<style scoped>\n",
       "    .dataframe tbody tr th:only-of-type {\n",
       "        vertical-align: middle;\n",
       "    }\n",
       "\n",
       "    .dataframe tbody tr th {\n",
       "        vertical-align: top;\n",
       "    }\n",
       "\n",
       "    .dataframe thead th {\n",
       "        text-align: right;\n",
       "    }\n",
       "</style>\n",
       "<table border=\"1\" class=\"dataframe\">\n",
       "  <thead>\n",
       "    <tr style=\"text-align: right;\">\n",
       "      <th></th>\n",
       "      <th>project_number</th>\n",
       "      <th>district_code</th>\n",
       "    </tr>\n",
       "  </thead>\n",
       "  <tbody>\n",
       "    <tr>\n",
       "      <th>8080</th>\n",
       "      <td>5137(055)lp2000</td>\n",
       "      <td>4.00</td>\n",
       "    </tr>\n",
       "  </tbody>\n",
       "</table>\n",
       "</div>"
      ],
      "text/plain": [
       "       project_number  district_code\n",
       "8080  5137(055)lp2000           4.00"
      ]
     },
     "execution_count": 52,
     "metadata": {},
     "output_type": "execute_result"
    }
   ],
   "source": [
    "lp2000_district.sample()"
   ]
  },
  {
   "cell_type": "code",
   "execution_count": 53,
   "id": "bca7afef-8ed9-40ac-a689-e8396cd8ab19",
   "metadata": {},
   "outputs": [],
   "source": [
    "lp2000_award = add_project_number(lp2000_project, lp2000_award, 'project_id')"
   ]
  },
  {
   "cell_type": "code",
   "execution_count": 54,
   "id": "a71ee439-2e7b-4e43-96f6-14e3011fc59f",
   "metadata": {},
   "outputs": [
    {
     "data": {
      "text/html": [
       "<div>\n",
       "<style scoped>\n",
       "    .dataframe tbody tr th:only-of-type {\n",
       "        vertical-align: middle;\n",
       "    }\n",
       "\n",
       "    .dataframe tbody tr th {\n",
       "        vertical-align: top;\n",
       "    }\n",
       "\n",
       "    .dataframe thead th {\n",
       "        text-align: right;\n",
       "    }\n",
       "</style>\n",
       "<table border=\"1\" class=\"dataframe\">\n",
       "  <thead>\n",
       "    <tr style=\"text-align: right;\">\n",
       "      <th></th>\n",
       "      <th>project_number</th>\n",
       "      <th>grant_program</th>\n",
       "      <th>state_fiscal_awarded_year</th>\n",
       "    </tr>\n",
       "  </thead>\n",
       "  <tbody>\n",
       "    <tr>\n",
       "      <th>900</th>\n",
       "      <td>5132(047)lp2000</td>\n",
       "      <td>Active Transportation Program (ATP)</td>\n",
       "      <td>1819</td>\n",
       "    </tr>\n",
       "  </tbody>\n",
       "</table>\n",
       "</div>"
      ],
      "text/plain": [
       "      project_number                        grant_program  \\\n",
       "900  5132(047)lp2000  Active Transportation Program (ATP)   \n",
       "\n",
       "     state_fiscal_awarded_year  \n",
       "900                       1819  "
      ]
     },
     "execution_count": 54,
     "metadata": {},
     "output_type": "execute_result"
    }
   ],
   "source": [
    "lp2000_award.sample()"
   ]
  },
  {
   "cell_type": "code",
   "execution_count": 55,
   "id": "db98127f-27ef-4b47-b79b-cd063c64f15c",
   "metadata": {},
   "outputs": [],
   "source": [
    "lp2000_phase = add_project_number(lp2000_project, lp2000_phase, 'project_id')"
   ]
  },
  {
   "cell_type": "code",
   "execution_count": 56,
   "id": "dea60692-0168-40f2-9d38-4b1221fdc4b3",
   "metadata": {},
   "outputs": [
    {
     "data": {
      "text/html": [
       "<div>\n",
       "<style scoped>\n",
       "    .dataframe tbody tr th:only-of-type {\n",
       "        vertical-align: middle;\n",
       "    }\n",
       "\n",
       "    .dataframe tbody tr th {\n",
       "        vertical-align: top;\n",
       "    }\n",
       "\n",
       "    .dataframe thead th {\n",
       "        text-align: right;\n",
       "    }\n",
       "</style>\n",
       "<table border=\"1\" class=\"dataframe\">\n",
       "  <thead>\n",
       "    <tr style=\"text-align: right;\">\n",
       "      <th></th>\n",
       "      <th>project_number</th>\n",
       "      <th>single_phase_cost</th>\n",
       "      <th>single_phase_expenditure_amt</th>\n",
       "      <th>total_state_funds</th>\n",
       "      <th>total_federal_funds</th>\n",
       "      <th>is_state</th>\n",
       "      <th>is_federal</th>\n",
       "    </tr>\n",
       "  </thead>\n",
       "  <tbody>\n",
       "    <tr>\n",
       "      <th>1172</th>\n",
       "      <td>5940(099)lp2000</td>\n",
       "      <td>645000.00</td>\n",
       "      <td>531159.50</td>\n",
       "      <td>0.00</td>\n",
       "      <td>645000.00</td>\n",
       "      <td>No</td>\n",
       "      <td>Yes</td>\n",
       "    </tr>\n",
       "  </tbody>\n",
       "</table>\n",
       "</div>"
      ],
      "text/plain": [
       "       project_number  single_phase_cost  single_phase_expenditure_amt  \\\n",
       "1172  5940(099)lp2000          645000.00                     531159.50   \n",
       "\n",
       "      total_state_funds  total_federal_funds is_state is_federal  \n",
       "1172               0.00            645000.00       No        Yes  "
      ]
     },
     "execution_count": 56,
     "metadata": {},
     "output_type": "execute_result"
    }
   ],
   "source": [
    "lp2000_phase.sample()"
   ]
  },
  {
   "cell_type": "markdown",
   "id": "fd3d068b-b95f-494d-bbbd-e0605c68f616",
   "metadata": {},
   "source": [
    "### CTIPS"
   ]
  },
  {
   "cell_type": "code",
   "execution_count": 57,
   "id": "b8f5a6af-db4a-4d1a-9bcc-7e8324b61947",
   "metadata": {},
   "outputs": [],
   "source": [
    "def load_ctips(file: str):\n",
    "  \n",
    "    df_project = to_snakecase(\n",
    "        pd.read_excel(f\"{GCS_FILE_PATH}LP2000_CTIPS/{file}\", sheet_name=\"project\")\n",
    "    )\n",
    "    \n",
    "    df_agency = to_snakecase(\n",
    "        pd.read_excel(f\"{GCS_FILE_PATH}LP2000_CTIPS/{file}\", sheet_name=\"agencies\")\n",
    "    )\n",
    "\n",
    "    df_county = to_snakecase(\n",
    "        pd.read_excel(f\"{GCS_FILE_PATH}LP2000_CTIPS/{file}\", sheet_name=\"county\")\n",
    "    )\n",
    "\n",
    "    df_district = to_snakecase(\n",
    "        pd.read_excel(f\"{GCS_FILE_PATH}LP2000_CTIPS/{file}\", sheet_name=\"district\")\n",
    "    )\n",
    "\n",
    "    df_phase = to_snakecase(\n",
    "        pd.read_excel(f\"{GCS_FILE_PATH}LP2000_CTIPS/{file}\", sheet_name=\"phase_funding\")\n",
    "    )\n",
    "    \n",
    "    df_award = to_snakecase(\n",
    "        pd.read_excel(f\"{GCS_FILE_PATH}LP2000_CTIPS/{file}\", sheet_name=\"awards\")\n",
    "    )\n",
    "    \n",
    "    df_house = to_snakecase(\n",
    "        pd.read_excel(f\"{GCS_FILE_PATH}LP2000_CTIPS/{file}\", sheet_name=\"us_house\")\n",
    "    )\n",
    "    \n",
    "    df_senate = to_snakecase(\n",
    "        pd.read_excel(f\"{GCS_FILE_PATH}LP2000_CTIPS/{file}\", sheet_name=\"senate\")\n",
    "    )\n",
    "    \n",
    "    df_assembly = to_snakecase(\n",
    "        pd.read_excel(f\"{GCS_FILE_PATH}LP2000_CTIPS/{file}\", sheet_name=\"assembly\")\n",
    "    )\n",
    "    \n",
    "    df_project['data_source'] = \"CTIPS\"\n",
    "    return df_project, df_agency, df_county, df_district, df_phase, df_award, df_house, df_senate, df_assembly"
   ]
  },
  {
   "cell_type": "code",
   "execution_count": 58,
   "id": "9372c9cb-a54a-4a2d-8f64-ca919f6b7b75",
   "metadata": {},
   "outputs": [],
   "source": [
    "ctips_project, ctips_agencies, ctips_county, ctips_district, ctips_phase, ctips_award, ctips_house, ctips_senate, ctips_assembly = load_ctips('CTIPS_data.xlsx')"
   ]
  },
  {
   "cell_type": "code",
   "execution_count": 59,
   "id": "afa38e64-96c1-4915-ba84-f8a9c94b7dec",
   "metadata": {},
   "outputs": [],
   "source": [
    "ctips_project = database_unique_project_number(ctips_project, 'ctips_id', 'data_source')"
   ]
  },
  {
   "cell_type": "code",
   "execution_count": 60,
   "id": "1a53792b-c209-4303-a14f-59ea9ef03c9c",
   "metadata": {},
   "outputs": [],
   "source": [
    "ctips_agencies = add_project_number(ctips_project, ctips_agencies, 'ctips_id')"
   ]
  },
  {
   "cell_type": "code",
   "execution_count": 61,
   "id": "e458f0eb-c5e6-4448-8471-6b51d42a5026",
   "metadata": {},
   "outputs": [],
   "source": [
    "ctips_county = add_project_number(ctips_project, ctips_county, 'ctips_id')"
   ]
  },
  {
   "cell_type": "code",
   "execution_count": 62,
   "id": "253173fb-058f-4e4d-a58e-819a41640623",
   "metadata": {},
   "outputs": [],
   "source": [
    "ctips_district = add_project_number(ctips_project, ctips_district, 'ctips_id')"
   ]
  },
  {
   "cell_type": "code",
   "execution_count": 63,
   "id": "ac89e81a-b054-4ace-a756-d1f6f42b5f4a",
   "metadata": {},
   "outputs": [],
   "source": [
    "ctips_phase = add_project_number(ctips_project, ctips_phase, 'ctips_id')"
   ]
  },
  {
   "cell_type": "code",
   "execution_count": 64,
   "id": "4f9a0e9f-4656-427a-bb2d-64fd47867c38",
   "metadata": {},
   "outputs": [],
   "source": [
    "ctips_award = add_project_number(ctips_project, ctips_award, 'ctips_id')"
   ]
  },
  {
   "cell_type": "code",
   "execution_count": 65,
   "id": "d1cb3cb4-27d0-4233-9be3-dfa7777654f8",
   "metadata": {},
   "outputs": [],
   "source": [
    "ctips_house = add_project_number(ctips_project, ctips_house, 'ctips_id')"
   ]
  },
  {
   "cell_type": "code",
   "execution_count": 66,
   "id": "b70111af-a320-47f4-9043-6f7bff083ba6",
   "metadata": {},
   "outputs": [],
   "source": [
    "ctips_senate = add_project_number(ctips_project, ctips_senate, 'ctips_id')"
   ]
  },
  {
   "cell_type": "code",
   "execution_count": 67,
   "id": "013ac5bd-4b27-4456-93d0-05f166faa2de",
   "metadata": {},
   "outputs": [],
   "source": [
    "ctips_assembly = add_project_number(ctips_project, ctips_assembly, 'ctips_id')"
   ]
  },
  {
   "cell_type": "code",
   "execution_count": 68,
   "id": "2523b63e-2846-41e9-b0f8-9158ecc1ab44",
   "metadata": {},
   "outputs": [
    {
     "data": {
      "text/html": [
       "<div>\n",
       "<style scoped>\n",
       "    .dataframe tbody tr th:only-of-type {\n",
       "        vertical-align: middle;\n",
       "    }\n",
       "\n",
       "    .dataframe tbody tr th {\n",
       "        vertical-align: top;\n",
       "    }\n",
       "\n",
       "    .dataframe thead th {\n",
       "        text-align: right;\n",
       "    }\n",
       "</style>\n",
       "<table border=\"1\" class=\"dataframe\">\n",
       "  <thead>\n",
       "    <tr style=\"text-align: right;\">\n",
       "      <th></th>\n",
       "      <th>project_number</th>\n",
       "      <th>line_year</th>\n",
       "      <th>program</th>\n",
       "      <th>progdesc</th>\n",
       "    </tr>\n",
       "  </thead>\n",
       "  <tbody>\n",
       "    <tr>\n",
       "      <th>38150</th>\n",
       "      <td>20700000779CTIPS</td>\n",
       "      <td>2004</td>\n",
       "      <td>Local Funds</td>\n",
       "      <td>None</td>\n",
       "    </tr>\n",
       "  </tbody>\n",
       "</table>\n",
       "</div>"
      ],
      "text/plain": [
       "         project_number  line_year      program progdesc\n",
       "38150  20700000779CTIPS       2004  Local Funds     None"
      ]
     },
     "execution_count": 68,
     "metadata": {},
     "output_type": "execute_result"
    }
   ],
   "source": [
    "ctips_award.sample()"
   ]
  },
  {
   "cell_type": "code",
   "execution_count": 69,
   "id": "b9ba6f79-0aee-4b22-abe0-a820f0e54f3f",
   "metadata": {},
   "outputs": [
    {
     "data": {
      "text/html": [
       "<div>\n",
       "<style scoped>\n",
       "    .dataframe tbody tr th:only-of-type {\n",
       "        vertical-align: middle;\n",
       "    }\n",
       "\n",
       "    .dataframe tbody tr th {\n",
       "        vertical-align: top;\n",
       "    }\n",
       "\n",
       "    .dataframe thead th {\n",
       "        text-align: right;\n",
       "    }\n",
       "</style>\n",
       "<table border=\"1\" class=\"dataframe\">\n",
       "  <thead>\n",
       "    <tr style=\"text-align: right;\">\n",
       "      <th></th>\n",
       "      <th>project_number</th>\n",
       "      <th>assembly</th>\n",
       "    </tr>\n",
       "  </thead>\n",
       "  <tbody>\n",
       "    <tr>\n",
       "      <th>3585</th>\n",
       "      <td>10900003088CTIPS</td>\n",
       "      <td>56</td>\n",
       "    </tr>\n",
       "  </tbody>\n",
       "</table>\n",
       "</div>"
      ],
      "text/plain": [
       "        project_number  assembly\n",
       "3585  10900003088CTIPS        56"
      ]
     },
     "execution_count": 69,
     "metadata": {},
     "output_type": "execute_result"
    }
   ],
   "source": [
    "ctips_assembly.sample()"
   ]
  },
  {
   "cell_type": "code",
   "execution_count": 70,
   "id": "7ec47b06-d391-4297-b634-5abbf32d7203",
   "metadata": {},
   "outputs": [
    {
     "data": {
      "text/html": [
       "<div>\n",
       "<style scoped>\n",
       "    .dataframe tbody tr th:only-of-type {\n",
       "        vertical-align: middle;\n",
       "    }\n",
       "\n",
       "    .dataframe tbody tr th {\n",
       "        vertical-align: top;\n",
       "    }\n",
       "\n",
       "    .dataframe thead th {\n",
       "        text-align: right;\n",
       "    }\n",
       "</style>\n",
       "<table border=\"1\" class=\"dataframe\">\n",
       "  <thead>\n",
       "    <tr style=\"text-align: right;\">\n",
       "      <th></th>\n",
       "      <th>project_number</th>\n",
       "      <th>agency_name</th>\n",
       "      <th>implpaed_agency</th>\n",
       "      <th>implpse_agency</th>\n",
       "      <th>implrw_agency</th>\n",
       "      <th>implcon_agency</th>\n",
       "    </tr>\n",
       "  </thead>\n",
       "  <tbody>\n",
       "    <tr>\n",
       "      <th>7776</th>\n",
       "      <td>10900004425CTIPS</td>\n",
       "      <td>Caltrans</td>\n",
       "      <td>NaN</td>\n",
       "      <td>NaN</td>\n",
       "      <td>NaN</td>\n",
       "      <td>NaN</td>\n",
       "    </tr>\n",
       "  </tbody>\n",
       "</table>\n",
       "</div>"
      ],
      "text/plain": [
       "        project_number agency_name implpaed_agency implpse_agency  \\\n",
       "7776  10900004425CTIPS    Caltrans             NaN            NaN   \n",
       "\n",
       "     implrw_agency implcon_agency  \n",
       "7776           NaN            NaN  "
      ]
     },
     "execution_count": 70,
     "metadata": {},
     "output_type": "execute_result"
    }
   ],
   "source": [
    "ctips_agencies.sample()"
   ]
  },
  {
   "cell_type": "markdown",
   "id": "4940bb3c-6170-4e12-a8ff-c4e97d7dbff2",
   "metadata": {},
   "source": [
    "### State Rail Plan"
   ]
  },
  {
   "cell_type": "code",
   "execution_count": 71,
   "id": "8a61f896-808c-44cc-ae3b-5c651bcee78e",
   "metadata": {},
   "outputs": [],
   "source": [
    "srp_df = har_utils.load_state_rail_plan()"
   ]
  },
  {
   "cell_type": "code",
   "execution_count": 75,
   "id": "e787a504-db6c-494f-ba22-9a28ca9a2c1b",
   "metadata": {},
   "outputs": [],
   "source": [
    "srp_df = non_database_unique_project_number(srp_df, 'data_source')"
   ]
  },
  {
   "cell_type": "code",
   "execution_count": 77,
   "id": "95a7939f-4021-4b00-b036-07d5fed90a4a",
   "metadata": {},
   "outputs": [
    {
     "data": {
      "text/html": [
       "<div>\n",
       "<style scoped>\n",
       "    .dataframe tbody tr th:only-of-type {\n",
       "        vertical-align: middle;\n",
       "    }\n",
       "\n",
       "    .dataframe tbody tr th {\n",
       "        vertical-align: top;\n",
       "    }\n",
       "\n",
       "    .dataframe thead th {\n",
       "        text-align: right;\n",
       "    }\n",
       "</style>\n",
       "<table border=\"1\" class=\"dataframe\">\n",
       "  <thead>\n",
       "    <tr style=\"text-align: right;\">\n",
       "      <th></th>\n",
       "      <th>project_time_horizon</th>\n",
       "      <th>project_name</th>\n",
       "      <th>project_description</th>\n",
       "      <th>lead_agency</th>\n",
       "      <th>total_project_cost</th>\n",
       "      <th>srp_region</th>\n",
       "      <th>corridor</th>\n",
       "      <th>sub_corridor_node_1</th>\n",
       "      <th>sub_corridor_node_2</th>\n",
       "      <th>itsp_corridor</th>\n",
       "      <th>project_category</th>\n",
       "      <th>data_source</th>\n",
       "      <th>project_number</th>\n",
       "    </tr>\n",
       "  </thead>\n",
       "  <tbody>\n",
       "    <tr>\n",
       "      <th>195</th>\n",
       "      <td>Mid Term</td>\n",
       "      <td>Orange - Olive Junction Improvements and Wye</td>\n",
       "      <td>The existing wye consists of a single, uncontrolled track and will require modifications to provide PTC-ready track and signal systems. A new crossover will need to be constructed west of the existing wye. Existing ties will be replaced with concrete ties. New control points will be installed. Grade crossings will need to be upgraded to meet quiet zone requirements. A drainage system that includes grading and new catch basins may be necessary pending further preliminary investigation.</td>\n",
       "      <td>Metrolink</td>\n",
       "      <td>32635000</td>\n",
       "      <td>Southern California Megaregion</td>\n",
       "      <td>CA High Speed Rail Phase 1 Corridor</td>\n",
       "      <td>Los Angeles</td>\n",
       "      <td>Anaheim</td>\n",
       "      <td>San Jose/San Francisco Bay Area - Sacramento - Northern Nevada</td>\n",
       "      <td>Capital</td>\n",
       "      <td>State Rail Plan</td>\n",
       "      <td>State_Rail_Plan196</td>\n",
       "    </tr>\n",
       "  </tbody>\n",
       "</table>\n",
       "</div>"
      ],
      "text/plain": [
       "    project_time_horizon                                  project_name  \\\n",
       "195             Mid Term  Orange - Olive Junction Improvements and Wye   \n",
       "\n",
       "                                                                                                                                                                                                                                                                                                                                                                                                                                                                                           project_description  \\\n",
       "195  The existing wye consists of a single, uncontrolled track and will require modifications to provide PTC-ready track and signal systems. A new crossover will need to be constructed west of the existing wye. Existing ties will be replaced with concrete ties. New control points will be installed. Grade crossings will need to be upgraded to meet quiet zone requirements. A drainage system that includes grading and new catch basins may be necessary pending further preliminary investigation.   \n",
       "\n",
       "    lead_agency total_project_cost                      srp_region  \\\n",
       "195   Metrolink           32635000  Southern California Megaregion   \n",
       "\n",
       "                                corridor sub_corridor_node_1  \\\n",
       "195  CA High Speed Rail Phase 1 Corridor         Los Angeles   \n",
       "\n",
       "    sub_corridor_node_2  \\\n",
       "195             Anaheim   \n",
       "\n",
       "                                                      itsp_corridor  \\\n",
       "195  San Jose/San Francisco Bay Area - Sacramento - Northern Nevada   \n",
       "\n",
       "    project_category      data_source      project_number  \n",
       "195          Capital  State Rail Plan  State_Rail_Plan196  "
      ]
     },
     "execution_count": 77,
     "metadata": {},
     "output_type": "execute_result"
    }
   ],
   "source": [
    "srp_df.sample()"
   ]
  },
  {
   "cell_type": "code",
   "execution_count": 78,
   "id": "b2bfef02-8d49-4a62-b49b-3807610f9fe4",
   "metadata": {},
   "outputs": [],
   "source": [
    "srp_df_agency = separate_out_df(srp_df, ['project_number', 'lead_agency'])"
   ]
  },
  {
   "cell_type": "code",
   "execution_count": 79,
   "id": "98052546-11e9-4e94-8cc1-0e334e5606f4",
   "metadata": {},
   "outputs": [],
   "source": [
    "srp_df = srp_df.drop(columns = ['lead_agency'])"
   ]
  }
 ],
 "metadata": {
  "kernelspec": {
   "display_name": "Python 3 (ipykernel)",
   "language": "python",
   "name": "python3"
  },
  "language_info": {
   "codemirror_mode": {
    "name": "ipython",
    "version": 3
   },
   "file_extension": ".py",
   "mimetype": "text/x-python",
   "name": "python",
   "nbconvert_exporter": "python",
   "pygments_lexer": "ipython3",
   "version": "3.9.13"
  }
 },
 "nbformat": 4,
 "nbformat_minor": 5
}
