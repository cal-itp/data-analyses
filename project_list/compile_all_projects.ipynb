{
 "cells": [
  {
   "cell_type": "code",
   "execution_count": 1,
   "id": "bd086d78-ffe5-4cf3-9f70-f5b7f3a5cf40",
   "metadata": {},
   "outputs": [],
   "source": [
    "import _harmonization_utils as har_utils\n",
    "import _lrtp_utils as lrtp_utils\n",
    "import _sb1_utils as sb1_utils\n",
    "import _specific_list_utils\n",
    "import _state_rail_plan_utils as srp_utils\n",
    "import geopandas as gpd\n",
    "import pandas as pd\n",
    "from calitp_data_analysis.sql import to_snakecase\n",
    "import random\n",
    "import string"
   ]
  },
  {
   "cell_type": "code",
   "execution_count": 2,
   "id": "7a1e769e-8af3-4bb8-87c9-e3b1c64c644b",
   "metadata": {},
   "outputs": [],
   "source": [
    "pd.options.display.max_columns = 100\n",
    "pd.options.display.float_format = \"{:.2f}\".format\n",
    "pd.set_option(\"display.max_rows\", None)\n",
    "pd.set_option(\"display.max_colwidth\", None)"
   ]
  },
  {
   "cell_type": "code",
   "execution_count": 3,
   "id": "9f74e0a0-c1e5-4e42-8d06-11e0ef0464ab",
   "metadata": {},
   "outputs": [],
   "source": [
    "GCS_FILE_PATH = \"gs://calitp-analytics-data/data-analyses/project_list/\""
   ]
  },
  {
   "cell_type": "markdown",
   "id": "9dc3a31d-a797-4ea0-ad80-a4adb5b4c740",
   "metadata": {},
   "source": [
    "### LRTP/LOST"
   ]
  },
  {
   "cell_type": "code",
   "execution_count": 75,
   "id": "5961e6e9-e3e9-43ce-afcc-3b3cb44fb5fd",
   "metadata": {},
   "outputs": [],
   "source": [
    "def generate_alphanumeric_ids(df:pd.DataFrame, id_length=8):\n",
    "    \"\"\"\n",
    "    Generate alphanumeric IDs for each row in a Pandas DataFrame and add them to a new column.\n",
    "\n",
    "    Parameters:\n",
    "    - df (pd.DataFrame): Input DataFrame.\n",
    "    - id_column_name (str): Name of the new column to store the generated IDs (default is 'alphanumeric_id').\n",
    "    - id_length (int): Length of the generated ID (default is 8).\n",
    "\n",
    "    Returns:\n",
    "    - pd.DataFrame: DataFrame with the new column containing alphanumeric IDs.\n",
    "    \"\"\"\n",
    "    characters = string.ascii_letters + string.digits\n",
    "    df['project_number'] = [''.join(random.choice(characters) for _ in range(id_length)) for _ in range(len(df))]\n",
    "    return df\n"
   ]
  },
  {
   "cell_type": "code",
   "execution_count": 76,
   "id": "67204871-470c-41ec-bf61-6b82b90c88e4",
   "metadata": {},
   "outputs": [
    {
     "name": "stderr",
     "output_type": "stream",
     "text": [
      "/home/jovyan/data-analyses/project_list/_lrtp_utils.py:66: UserWarning: This pattern is interpreted as a regular expression, and has match groups. To actually get the groups, use str.extract.\n",
      "  cost_columns = df.columns[df.columns.str.contains(\"(cost|funds)\")].tolist()\n",
      "/home/jovyan/data-analyses/project_list/_lrtp_utils.py:66: UserWarning: This pattern is interpreted as a regular expression, and has match groups. To actually get the groups, use str.extract.\n",
      "  cost_columns = df.columns[df.columns.str.contains(\"(cost|funds)\")].tolist()\n",
      "/home/jovyan/data-analyses/project_list/_lrtp_utils.py:66: UserWarning: This pattern is interpreted as a regular expression, and has match groups. To actually get the groups, use str.extract.\n",
      "  cost_columns = df.columns[df.columns.str.contains(\"(cost|funds)\")].tolist()\n",
      "/home/jovyan/data-analyses/project_list/_lrtp_utils.py:66: UserWarning: This pattern is interpreted as a regular expression, and has match groups. To actually get the groups, use str.extract.\n",
      "  cost_columns = df.columns[df.columns.str.contains(\"(cost|funds)\")].tolist()\n",
      "/home/jovyan/data-analyses/project_list/_lrtp_utils.py:66: UserWarning: This pattern is interpreted as a regular expression, and has match groups. To actually get the groups, use str.extract.\n",
      "  cost_columns = df.columns[df.columns.str.contains(\"(cost|funds)\")].tolist()\n",
      "/home/jovyan/data-analyses/project_list/_lrtp_utils.py:66: UserWarning: This pattern is interpreted as a regular expression, and has match groups. To actually get the groups, use str.extract.\n",
      "  cost_columns = df.columns[df.columns.str.contains(\"(cost|funds)\")].tolist()\n",
      "/home/jovyan/data-analyses/project_list/_lrtp_utils.py:66: UserWarning: This pattern is interpreted as a regular expression, and has match groups. To actually get the groups, use str.extract.\n",
      "  cost_columns = df.columns[df.columns.str.contains(\"(cost|funds)\")].tolist()\n",
      "/home/jovyan/data-analyses/project_list/_lrtp_utils.py:66: UserWarning: This pattern is interpreted as a regular expression, and has match groups. To actually get the groups, use str.extract.\n",
      "  cost_columns = df.columns[df.columns.str.contains(\"(cost|funds)\")].tolist()\n"
     ]
    },
    {
     "name": "stdout",
     "output_type": "stream",
     "text": [
      "96 rows are headers\n"
     ]
    },
    {
     "name": "stderr",
     "output_type": "stream",
     "text": [
      "/home/jovyan/data-analyses/project_list/_lrtp_utils.py:66: UserWarning: This pattern is interpreted as a regular expression, and has match groups. To actually get the groups, use str.extract.\n",
      "  cost_columns = df.columns[df.columns.str.contains(\"(cost|funds)\")].tolist()\n",
      "/home/jovyan/data-analyses/project_list/_lrtp_utils.py:720: FutureWarning: The default value of regex will change from True to False in a future version. In addition, single character regular expressions will *not* be treated as literal strings when regex=True.\n",
      "  sandag.cost2020m.str.replace(\"$\", \"\")\n",
      "/home/jovyan/data-analyses/project_list/_lrtp_utils.py:66: UserWarning: This pattern is interpreted as a regular expression, and has match groups. To actually get the groups, use str.extract.\n",
      "  cost_columns = df.columns[df.columns.str.contains(\"(cost|funds)\")].tolist()\n"
     ]
    },
    {
     "name": "stdout",
     "output_type": "stream",
     "text": [
      "65 rows are headers\n"
     ]
    },
    {
     "name": "stderr",
     "output_type": "stream",
     "text": [
      "/home/jovyan/data-analyses/project_list/_lrtp_utils.py:66: UserWarning: This pattern is interpreted as a regular expression, and has match groups. To actually get the groups, use str.extract.\n",
      "  cost_columns = df.columns[df.columns.str.contains(\"(cost|funds)\")].tolist()\n",
      "/home/jovyan/data-analyses/project_list/_lrtp_utils.py:66: UserWarning: This pattern is interpreted as a regular expression, and has match groups. To actually get the groups, use str.extract.\n",
      "  cost_columns = df.columns[df.columns.str.contains(\"(cost|funds)\")].tolist()\n",
      "/home/jovyan/data-analyses/project_list/_lrtp_utils.py:66: UserWarning: This pattern is interpreted as a regular expression, and has match groups. To actually get the groups, use str.extract.\n",
      "  cost_columns = df.columns[df.columns.str.contains(\"(cost|funds)\")].tolist()\n"
     ]
    },
    {
     "name": "stdout",
     "output_type": "stream",
     "text": [
      "360 rows are headers\n"
     ]
    },
    {
     "name": "stderr",
     "output_type": "stream",
     "text": [
      "/home/jovyan/data-analyses/project_list/_lrtp_utils.py:66: UserWarning: This pattern is interpreted as a regular expression, and has match groups. To actually get the groups, use str.extract.\n",
      "  cost_columns = df.columns[df.columns.str.contains(\"(cost|funds)\")].tolist()\n",
      "/home/jovyan/data-analyses/project_list/_lrtp_utils.py:66: UserWarning: This pattern is interpreted as a regular expression, and has match groups. To actually get the groups, use str.extract.\n",
      "  cost_columns = df.columns[df.columns.str.contains(\"(cost|funds)\")].tolist()\n"
     ]
    },
    {
     "name": "stdout",
     "output_type": "stream",
     "text": [
      "68 rows are headers\n"
     ]
    },
    {
     "name": "stderr",
     "output_type": "stream",
     "text": [
      "/home/jovyan/data-analyses/project_list/_lrtp_utils.py:66: UserWarning: This pattern is interpreted as a regular expression, and has match groups. To actually get the groups, use str.extract.\n",
      "  cost_columns = df.columns[df.columns.str.contains(\"(cost|funds)\")].tolist()\n",
      "/home/jovyan/data-analyses/project_list/_lrtp_utils.py:66: UserWarning: This pattern is interpreted as a regular expression, and has match groups. To actually get the groups, use str.extract.\n",
      "  cost_columns = df.columns[df.columns.str.contains(\"(cost|funds)\")].tolist()\n",
      "/home/jovyan/data-analyses/project_list/_lrtp_utils.py:66: UserWarning: This pattern is interpreted as a regular expression, and has match groups. To actually get the groups, use str.extract.\n",
      "  cost_columns = df.columns[df.columns.str.contains(\"(cost|funds)\")].tolist()\n",
      "/home/jovyan/data-analyses/project_list/_lrtp_utils.py:66: UserWarning: This pattern is interpreted as a regular expression, and has match groups. To actually get the groups, use str.extract.\n",
      "  cost_columns = df.columns[df.columns.str.contains(\"(cost|funds)\")].tolist()\n"
     ]
    }
   ],
   "source": [
    "lrtp_lost_df, lrtp_lost_gdf = lrtp_utils.all_mpo(True)"
   ]
  },
  {
   "cell_type": "code",
   "execution_count": 77,
   "id": "16532512-f8f9-42f2-86d4-c0c18ab4bb01",
   "metadata": {},
   "outputs": [],
   "source": [
    "lrtp_lost_df = generate_alphanumeric_ids(lrtp_lost_df, 8)"
   ]
  },
  {
   "cell_type": "code",
   "execution_count": 78,
   "id": "a61faa19-a176-4725-85db-2f170a29c9f6",
   "metadata": {},
   "outputs": [
    {
     "data": {
      "text/html": [
       "<div>\n",
       "<style scoped>\n",
       "    .dataframe tbody tr th:only-of-type {\n",
       "        vertical-align: middle;\n",
       "    }\n",
       "\n",
       "    .dataframe tbody tr th {\n",
       "        vertical-align: top;\n",
       "    }\n",
       "\n",
       "    .dataframe thead th {\n",
       "        text-align: right;\n",
       "    }\n",
       "</style>\n",
       "<table border=\"1\" class=\"dataframe\">\n",
       "  <thead>\n",
       "    <tr style=\"text-align: right;\">\n",
       "      <th></th>\n",
       "      <th>project_title</th>\n",
       "      <th>lead_agency</th>\n",
       "      <th>project_year</th>\n",
       "      <th>project_description</th>\n",
       "      <th>total_project_cost</th>\n",
       "      <th>geometry</th>\n",
       "      <th>city</th>\n",
       "      <th>county</th>\n",
       "      <th>data_source</th>\n",
       "      <th>notes</th>\n",
       "      <th>project_number</th>\n",
       "    </tr>\n",
       "  </thead>\n",
       "  <tbody>\n",
       "    <tr>\n",
       "      <th>0</th>\n",
       "      <td>Carmel To Pebble Beach Bike/Ped Facility</td>\n",
       "      <td>Ambag</td>\n",
       "      <td>None</td>\n",
       "      <td>Construct Class I Or Class Ii Bike Facility.</td>\n",
       "      <td>86000.00</td>\n",
       "      <td>None</td>\n",
       "      <td>None</td>\n",
       "      <td>Santa Cruz</td>\n",
       "      <td>Ambag Lrtp</td>\n",
       "      <td></td>\n",
       "      <td>91UKEzRW</td>\n",
       "    </tr>\n",
       "    <tr>\n",
       "      <th>1</th>\n",
       "      <td>Sr 1 Carmel Corridor Between Carmel River Bridge And Carpenter Street</td>\n",
       "      <td>Ambag</td>\n",
       "      <td>None</td>\n",
       "      <td>Provide Accomodation For Bicyclists Along State Route 1 Bike Route.</td>\n",
       "      <td>500000.00</td>\n",
       "      <td>None</td>\n",
       "      <td>None</td>\n",
       "      <td>Santa Cruz</td>\n",
       "      <td>Ambag Lrtp</td>\n",
       "      <td></td>\n",
       "      <td>K2QvYDoG</td>\n",
       "    </tr>\n",
       "  </tbody>\n",
       "</table>\n",
       "</div>"
      ],
      "text/plain": [
       "                                                           project_title  \\\n",
       "0                               Carmel To Pebble Beach Bike/Ped Facility   \n",
       "1  Sr 1 Carmel Corridor Between Carmel River Bridge And Carpenter Street   \n",
       "\n",
       "  lead_agency project_year  \\\n",
       "0       Ambag         None   \n",
       "1       Ambag         None   \n",
       "\n",
       "                                                   project_description  \\\n",
       "0                         Construct Class I Or Class Ii Bike Facility.   \n",
       "1  Provide Accomodation For Bicyclists Along State Route 1 Bike Route.   \n",
       "\n",
       "   total_project_cost geometry  city      county data_source notes  \\\n",
       "0            86000.00     None  None  Santa Cruz  Ambag Lrtp         \n",
       "1           500000.00     None  None  Santa Cruz  Ambag Lrtp         \n",
       "\n",
       "  project_number  \n",
       "0       91UKEzRW  \n",
       "1       K2QvYDoG  "
      ]
     },
     "execution_count": 78,
     "metadata": {},
     "output_type": "execute_result"
    }
   ],
   "source": [
    "lrtp_lost_df.head(2)"
   ]
  },
  {
   "cell_type": "code",
   "execution_count": 224,
   "id": "d5cd997b-dc72-4f04-9950-158fe13c25fb",
   "metadata": {},
   "outputs": [],
   "source": [
    "def separate_out_df(df:pd.DataFrame, columns_to_keep: list)-> pd.DataFrame:\n",
    "    \"\"\"\n",
    "    Subset the column, drop any rows \n",
    "    in which the values are Nan or \"None.\"\n",
    "    \"\"\"\n",
    "    # Subset\n",
    "    df2 = df[columns_to_keep]\n",
    "    \n",
    "    # Fill in missing values\n",
    "    df2 = df2.fillna('none')\n",
    "    \n",
    "    # Remove project_number and keep only cols of interest\n",
    "    columns_to_keep.remove('project_number')\n",
    "    \n",
    "    # Drop rows that are nan or \"None\" based on how many columns are listed\n",
    "    if len(columns_to_keep) == 1:\n",
    "        df2 = df2.dropna(how = \"any\")\n",
    "        df2 = df2[df2.applymap(lambda x: x.lower() if isinstance(x, str) else x) != 'none'].dropna()\n",
    "        \n",
    "    # If there are more than one column to separate out,\n",
    "    # keep any row that has a non-null value \n",
    "    else:\n",
    "        df2 = df2.dropna(how = \"all\", subset = columns_to_keep)\n",
    "    return df2"
   ]
  },
  {
   "cell_type": "code",
   "execution_count": 117,
   "id": "8acf0ccd-3b35-41db-9320-3352b9b4e813",
   "metadata": {},
   "outputs": [],
   "source": [
    "lrtp_lost_county = separate_out_df(lrtp_lost_df, ['project_number', 'county'])"
   ]
  },
  {
   "cell_type": "code",
   "execution_count": 118,
   "id": "c75b08c0-4da0-44d0-b675-dc848240b994",
   "metadata": {},
   "outputs": [
    {
     "data": {
      "text/plain": [
       "(16276, 11)"
      ]
     },
     "execution_count": 118,
     "metadata": {},
     "output_type": "execute_result"
    }
   ],
   "source": [
    "lrtp_lost_df.shape"
   ]
  },
  {
   "cell_type": "code",
   "execution_count": 119,
   "id": "fce5ffc2-1b46-4f8d-bbb1-2a9251d35a8c",
   "metadata": {},
   "outputs": [
    {
     "data": {
      "text/plain": [
       "(4012, 2)"
      ]
     },
     "execution_count": 119,
     "metadata": {},
     "output_type": "execute_result"
    }
   ],
   "source": [
    "lrtp_lost_county.shape"
   ]
  },
  {
   "cell_type": "code",
   "execution_count": 120,
   "id": "71ff78d9-cafc-4bc4-bc68-2f0e001a5acd",
   "metadata": {},
   "outputs": [],
   "source": [
    "lrtp_lost_city = separate_out_df(lrtp_lost_df, ['project_number', 'city'])"
   ]
  },
  {
   "cell_type": "code",
   "execution_count": 121,
   "id": "4116f424-755e-4382-98c7-c3f0c65c5514",
   "metadata": {},
   "outputs": [
    {
     "data": {
      "text/plain": [
       "(745, 2)"
      ]
     },
     "execution_count": 121,
     "metadata": {},
     "output_type": "execute_result"
    }
   ],
   "source": [
    "lrtp_lost_city.shape"
   ]
  },
  {
   "cell_type": "code",
   "execution_count": 122,
   "id": "829f6817-f0f7-4193-9ce8-f9732baff8d8",
   "metadata": {},
   "outputs": [],
   "source": [
    "lrtp_lost_agency = separate_out_df(lrtp_lost_df, ['project_number', 'lead_agency'])"
   ]
  },
  {
   "cell_type": "code",
   "execution_count": 123,
   "id": "78df708c-82cf-44ae-99f4-dd84e7c40dc1",
   "metadata": {},
   "outputs": [
    {
     "data": {
      "text/plain": [
       "(16276, 2)"
      ]
     },
     "execution_count": 123,
     "metadata": {},
     "output_type": "execute_result"
    }
   ],
   "source": [
    "lrtp_lost_agency.shape"
   ]
  },
  {
   "cell_type": "code",
   "execution_count": 124,
   "id": "dd61d79c-9999-4c11-9353-47ac4f16b8b1",
   "metadata": {},
   "outputs": [
    {
     "data": {
      "text/html": [
       "<div>\n",
       "<style scoped>\n",
       "    .dataframe tbody tr th:only-of-type {\n",
       "        vertical-align: middle;\n",
       "    }\n",
       "\n",
       "    .dataframe tbody tr th {\n",
       "        vertical-align: top;\n",
       "    }\n",
       "\n",
       "    .dataframe thead th {\n",
       "        text-align: right;\n",
       "    }\n",
       "</style>\n",
       "<table border=\"1\" class=\"dataframe\">\n",
       "  <thead>\n",
       "    <tr style=\"text-align: right;\">\n",
       "      <th></th>\n",
       "      <th>project_number</th>\n",
       "      <th>lead_agency</th>\n",
       "    </tr>\n",
       "  </thead>\n",
       "  <tbody>\n",
       "    <tr>\n",
       "      <th>13</th>\n",
       "      <td>8xH5shJ9</td>\n",
       "      <td>Madera Ctc</td>\n",
       "    </tr>\n",
       "  </tbody>\n",
       "</table>\n",
       "</div>"
      ],
      "text/plain": [
       "   project_number lead_agency\n",
       "13       8xH5shJ9  Madera Ctc"
      ]
     },
     "execution_count": 124,
     "metadata": {},
     "output_type": "execute_result"
    }
   ],
   "source": [
    "lrtp_lost_agency.sample()"
   ]
  },
  {
   "cell_type": "code",
   "execution_count": 125,
   "id": "5c3dfa8a-480a-4062-b59c-0ce5dff75cdc",
   "metadata": {},
   "outputs": [],
   "source": [
    "lrtp_lost_geo = separate_out_df(lrtp_lost_df, ['project_number', 'geometry'])"
   ]
  },
  {
   "cell_type": "code",
   "execution_count": 126,
   "id": "40998366-218c-4c9b-b890-dc97769e3893",
   "metadata": {},
   "outputs": [
    {
     "data": {
      "text/plain": [
       "((1357, 2), (1355, 10))"
      ]
     },
     "execution_count": 126,
     "metadata": {},
     "output_type": "execute_result"
    }
   ],
   "source": [
    "lrtp_lost_geo.shape, lrtp_lost_gdf.shape"
   ]
  },
  {
   "cell_type": "code",
   "execution_count": 127,
   "id": "92fe5891-014e-4177-beb6-1e83c957d0fb",
   "metadata": {},
   "outputs": [],
   "source": [
    "lrtp_to_drop = ['county', 'city', 'lead_agency', 'geometry']"
   ]
  },
  {
   "cell_type": "code",
   "execution_count": 128,
   "id": "29ca0b11-6244-455b-96b2-dd53144d7c0e",
   "metadata": {},
   "outputs": [],
   "source": [
    "# lrtp_lost_df = lrtp_lost_df.drop(columns = lrtp_to_drop)"
   ]
  },
  {
   "cell_type": "code",
   "execution_count": 129,
   "id": "3a475324-4f2d-41a3-8b1f-ac4f0eaf0962",
   "metadata": {},
   "outputs": [
    {
     "data": {
      "text/html": [
       "<div>\n",
       "<style scoped>\n",
       "    .dataframe tbody tr th:only-of-type {\n",
       "        vertical-align: middle;\n",
       "    }\n",
       "\n",
       "    .dataframe tbody tr th {\n",
       "        vertical-align: top;\n",
       "    }\n",
       "\n",
       "    .dataframe thead th {\n",
       "        text-align: right;\n",
       "    }\n",
       "</style>\n",
       "<table border=\"1\" class=\"dataframe\">\n",
       "  <thead>\n",
       "    <tr style=\"text-align: right;\">\n",
       "      <th></th>\n",
       "      <th>project_title</th>\n",
       "      <th>lead_agency</th>\n",
       "      <th>project_year</th>\n",
       "      <th>project_description</th>\n",
       "      <th>total_project_cost</th>\n",
       "      <th>geometry</th>\n",
       "      <th>city</th>\n",
       "      <th>county</th>\n",
       "      <th>data_source</th>\n",
       "      <th>notes</th>\n",
       "      <th>project_number</th>\n",
       "    </tr>\n",
       "  </thead>\n",
       "  <tbody>\n",
       "    <tr>\n",
       "      <th>129</th>\n",
       "      <td>Bus Expansion #6</td>\n",
       "      <td>Madera Ctc</td>\n",
       "      <td>NaN</td>\n",
       "      <td>Purchase 1 Dar Vehicle</td>\n",
       "      <td>339355.00</td>\n",
       "      <td>None</td>\n",
       "      <td>None</td>\n",
       "      <td>None</td>\n",
       "      <td>Madera Ctc Lrtp</td>\n",
       "      <td>Category: Public Transit,  Location: Nan</td>\n",
       "      <td>s0mlY5ts</td>\n",
       "    </tr>\n",
       "  </tbody>\n",
       "</table>\n",
       "</div>"
      ],
      "text/plain": [
       "        project_title lead_agency project_year     project_description  \\\n",
       "129  Bus Expansion #6  Madera Ctc          NaN  Purchase 1 Dar Vehicle   \n",
       "\n",
       "     total_project_cost geometry  city county      data_source  \\\n",
       "129           339355.00     None  None   None  Madera Ctc Lrtp   \n",
       "\n",
       "                                        notes project_number  \n",
       "129  Category: Public Transit,  Location: Nan       s0mlY5ts  "
      ]
     },
     "execution_count": 129,
     "metadata": {},
     "output_type": "execute_result"
    }
   ],
   "source": [
    "lrtp_lost_df.sample()"
   ]
  },
  {
   "cell_type": "markdown",
   "id": "0d3280f2-67c1-418d-8161-4a577b9d3034",
   "metadata": {},
   "source": [
    "### SB1"
   ]
  },
  {
   "cell_type": "code",
   "execution_count": 130,
   "id": "6d530178-4f39-475b-b533-822b0b19f237",
   "metadata": {},
   "outputs": [
    {
     "name": "stderr",
     "output_type": "stream",
     "text": [
      "/home/jovyan/data-analyses/project_list/_sb1_utils.py:23: FutureWarning: The default value of regex will change from True to False in a future version. In addition, single character regular expressions will *not* be treated as literal strings when regex=True.\n",
      "  gdf[i]\n",
      "/home/jovyan/data-analyses/project_list/_sb1_utils.py:23: FutureWarning: The default value of regex will change from True to False in a future version.\n",
      "  gdf[i]\n"
     ]
    },
    {
     "name": "stdout",
     "output_type": "stream",
     "text": [
      "0 rows are mising geometry\n",
      "7917 rows contain invalid geography\n"
     ]
    }
   ],
   "source": [
    "sb1_df = sb1_utils.load_sb1()"
   ]
  },
  {
   "cell_type": "code",
   "execution_count": 131,
   "id": "7ee96e11-1d68-4991-8089-5749adacb311",
   "metadata": {},
   "outputs": [],
   "source": [
    "sb1_df = generate_alphanumeric_ids(sb1_df, 8)"
   ]
  },
  {
   "cell_type": "markdown",
   "id": "b09c99bf-a44e-4c8d-a9fb-fb3a86ffa1eb",
   "metadata": {},
   "source": [
    "#### Check that assemblydistrict and assemblycode are the same values"
   ]
  },
  {
   "cell_type": "code",
   "execution_count": 151,
   "id": "2ec3775a-1d30-4f88-bea1-37f55a29e767",
   "metadata": {},
   "outputs": [],
   "source": [
    "sb1_df['assembly_same'] = sb1_df.assemblycode == sb1_df.assemblydistrict"
   ]
  },
  {
   "cell_type": "code",
   "execution_count": 153,
   "id": "41b4f512-89a6-4a08-b0bd-f1ed309d9c34",
   "metadata": {},
   "outputs": [
    {
     "data": {
      "text/plain": [
       "True     7217\n",
       "False    1969\n",
       "Name: assembly_same, dtype: int64"
      ]
     },
     "execution_count": 153,
     "metadata": {},
     "output_type": "execute_result"
    }
   ],
   "source": [
    "sb1_df.assembly_same.value_counts()"
   ]
  },
  {
   "cell_type": "code",
   "execution_count": 152,
   "id": "76325c35-f25b-4635-8601-3f576557abee",
   "metadata": {},
   "outputs": [],
   "source": [
    "sb1_df['senate_same'] = sb1_df.senatedistrict == sb1_df.senatecode"
   ]
  },
  {
   "cell_type": "code",
   "execution_count": 154,
   "id": "5962a32a-c9d2-4373-8e05-329b62b42256",
   "metadata": {},
   "outputs": [
    {
     "data": {
      "text/plain": [
       "True     6950\n",
       "False    2236\n",
       "Name: senate_same, dtype: int64"
      ]
     },
     "execution_count": 154,
     "metadata": {},
     "output_type": "execute_result"
    }
   ],
   "source": [
    "sb1_df.senate_same.value_counts()"
   ]
  },
  {
   "cell_type": "code",
   "execution_count": 132,
   "id": "0a1360f5-eb9a-49a9-947e-249f3d8e9b99",
   "metadata": {},
   "outputs": [],
   "source": [
    "sb1_county = separate_out_df(sb1_df, ['project_number', 'countyname'])"
   ]
  },
  {
   "cell_type": "markdown",
   "id": "929a1f55-add8-4dc6-8231-38a5dc7711d6",
   "metadata": {},
   "source": [
    "#### Need to figure out a way to get values delinated by commas into its own row"
   ]
  },
  {
   "cell_type": "code",
   "execution_count": 215,
   "id": "0330602b-7b39-48c9-835f-d7cbbd4fcd3f",
   "metadata": {},
   "outputs": [],
   "source": [
    "def explode_dataframe(df:pd.DataFrame, column_to_explode:str)-> pd.DataFrame:\n",
    "    df['Column2'] = df[column_to_explode].apply(lambda x: [int(i) if i.isdigit() else i for i in x.replace(',', '').split()])\n",
    "    df = df.drop(columns = [column_to_explode])\n",
    "    df2 = df.explode('Column2')\n",
    "    df2 = df2.rename(columns = {'Column2': column_to_explode})\n",
    "    return df2"
   ]
  },
  {
   "cell_type": "code",
   "execution_count": 133,
   "id": "ea4fd105-9188-426f-a724-5de40ae5af4b",
   "metadata": {},
   "outputs": [],
   "source": [
    "sb1_assembly = separate_out_df(sb1_df, ['project_number', 'assemblydistrict'])"
   ]
  },
  {
   "cell_type": "code",
   "execution_count": 219,
   "id": "6b621482-fb52-441f-9fde-bb021dda35c5",
   "metadata": {},
   "outputs": [],
   "source": [
    "sb1_assembly = explode_dataframe(sb1_assembly, 'assemblydistrict')"
   ]
  },
  {
   "cell_type": "code",
   "execution_count": 216,
   "id": "a0e95618-ea4f-4b7d-b1fc-954a780dd86f",
   "metadata": {},
   "outputs": [],
   "source": [
    "sb1_senate = separate_out_df(sb1_df, ['project_number', 'senatedistrict'])"
   ]
  },
  {
   "cell_type": "code",
   "execution_count": 217,
   "id": "1d67d259-8822-4512-877b-bc1b66de7d96",
   "metadata": {},
   "outputs": [],
   "source": [
    "sb1_senate = explode_dataframe(sb1_senate, 'senatedistrict')"
   ]
  },
  {
   "cell_type": "code",
   "execution_count": 135,
   "id": "137fda15-a412-49fe-be74-48d58f750bb3",
   "metadata": {},
   "outputs": [],
   "source": [
    "sb1_city = separate_out_df(sb1_df, ['project_number', 'cityname'])"
   ]
  },
  {
   "cell_type": "code",
   "execution_count": 136,
   "id": "d98c2dc2-3232-4fe0-ba3f-6f2d148fb755",
   "metadata": {},
   "outputs": [],
   "source": [
    "sb1_geo = separate_out_df(sb1_df, ['project_number', 'geometry'])"
   ]
  },
  {
   "cell_type": "code",
   "execution_count": 137,
   "id": "67e7d80d-ee5c-4c1b-8337-bb30be56f585",
   "metadata": {},
   "outputs": [],
   "source": [
    "sb1_awards = separate_out_df(sb1_df, ['project_number', 'projprogram'])"
   ]
  },
  {
   "cell_type": "code",
   "execution_count": 147,
   "id": "ab21d511-2062-4c89-ad45-dfdc95721cc1",
   "metadata": {},
   "outputs": [
    {
     "data": {
      "text/plain": [
       "((9186, 2), (1585, 2), (6696, 2))"
      ]
     },
     "execution_count": 147,
     "metadata": {},
     "output_type": "execute_result"
    }
   ],
   "source": [
    "sb1_awards.shape, sb1_geo.shape, sb1_city.shape"
   ]
  },
  {
   "cell_type": "markdown",
   "id": "2a88d5b4-891f-4ff1-b4b2-425e5677b3c7",
   "metadata": {},
   "source": [
    "#### Fix this so that a row is kept even if all three of the non project-number rows are nan"
   ]
  },
  {
   "cell_type": "code",
   "execution_count": 138,
   "id": "d09e706e-cf16-4434-8b4b-b2661f0ba742",
   "metadata": {},
   "outputs": [],
   "source": [
    "sb1_agencies = separate_out_df(sb1_df, ['project_number', 'projagency', 'appagencyname', 'impagencyname'])"
   ]
  },
  {
   "cell_type": "code",
   "execution_count": 139,
   "id": "9a07f377-dc3d-402c-8c26-2f7def5abb41",
   "metadata": {},
   "outputs": [
    {
     "data": {
      "text/plain": [
       "(8130, 4)"
      ]
     },
     "execution_count": 139,
     "metadata": {},
     "output_type": "execute_result"
    }
   ],
   "source": [
    "sb1_agencies.shape"
   ]
  },
  {
   "cell_type": "markdown",
   "id": "1150a152-1432-40b9-a946-6a79964bf720",
   "metadata": {},
   "source": [
    "### LP2000"
   ]
  },
  {
   "cell_type": "code",
   "execution_count": 221,
   "id": "b1c94570-cb6c-4e47-91c9-59caf8512dc7",
   "metadata": {},
   "outputs": [],
   "source": [
    "def load_lp2000(file: str):\n",
    "    \n",
    "    df_project = to_snakecase(\n",
    "        pd.read_excel(f\"{GCS_FILE_PATH}LP2000_CTIPS/{file}\", sheet_name=\"project\")\n",
    "    )\n",
    "\n",
    "    df_county = to_snakecase(\n",
    "        pd.read_excel(f\"{GCS_FILE_PATH}LP2000_CTIPS/{file}\", sheet_name=\"county\")\n",
    "    ).drop(columns=[\"project_label_name\"])\n",
    "\n",
    "    df_district = to_snakecase(\n",
    "        pd.read_excel(f\"{GCS_FILE_PATH}LP2000_CTIPS/{file}\", sheet_name=\"district\")\n",
    "    ).drop(columns=[\"project_label_name\"])\n",
    "\n",
    "    df_award = to_snakecase(\n",
    "        pd.read_excel(f\"{GCS_FILE_PATH}LP2000_CTIPS/{file}\", sheet_name=\"awards\")\n",
    "    )\n",
    "    \n",
    "    df_phase = to_snakecase(\n",
    "        pd.read_excel(f\"{GCS_FILE_PATH}LP2000_CTIPS/{file}\", sheet_name=\"phase_funding\")\n",
    "    )\n",
    "    \n",
    "    return df_project, df_county, df_district, df_award, df_phase"
   ]
  },
  {
   "cell_type": "code",
   "execution_count": 222,
   "id": "91c989ec-208b-4053-8ae8-3e3a0e44c5c8",
   "metadata": {},
   "outputs": [],
   "source": [
    "lp2000_project, lp2000_county, lp2000_district, lp2000_award, lp2000_phase = load_lp2000(\"LP2000_projects.xlsx\")"
   ]
  },
  {
   "cell_type": "markdown",
   "id": "fd3d068b-b95f-494d-bbbd-e0605c68f616",
   "metadata": {},
   "source": [
    "### CTIPS"
   ]
  },
  {
   "cell_type": "code",
   "execution_count": 225,
   "id": "b8f5a6af-db4a-4d1a-9bcc-7e8324b61947",
   "metadata": {},
   "outputs": [],
   "source": [
    "def load_ctips(file: str):\n",
    "  \n",
    "    df_project = to_snakecase(\n",
    "        pd.read_excel(f\"{GCS_FILE_PATH}LP2000_CTIPS/{file}\", sheet_name=\"project\")\n",
    "    )\n",
    "\n",
    "    df_county = to_snakecase(\n",
    "        pd.read_excel(f\"{GCS_FILE_PATH}LP2000_CTIPS/{file}\", sheet_name=\"county\")\n",
    "    )\n",
    "\n",
    "    df_district = to_snakecase(\n",
    "        pd.read_excel(f\"{GCS_FILE_PATH}LP2000_CTIPS/{file}\", sheet_name=\"district\")\n",
    "    )\n",
    "\n",
    "    df_phase = to_snakecase(\n",
    "        pd.read_excel(f\"{GCS_FILE_PATH}LP2000_CTIPS/{file}\", sheet_name=\"phase_funding\")\n",
    "    )\n",
    "    \n",
    "    df_award = to_snakecase(\n",
    "        pd.read_excel(f\"{GCS_FILE_PATH}LP2000_CTIPS/{file}\", sheet_name=\"awards\")\n",
    "    )\n",
    "    \n",
    "    df_house = to_snakecase(\n",
    "        pd.read_excel(f\"{GCS_FILE_PATH}LP2000_CTIPS/{file}\", sheet_name=\"us_house\")\n",
    "    )\n",
    "    \n",
    "    df_senate = to_snakecase(\n",
    "        pd.read_excel(f\"{GCS_FILE_PATH}LP2000_CTIPS/{file}\", sheet_name=\"senate\")\n",
    "    )\n",
    "    \n",
    "    df_assembly = to_snakecase(\n",
    "        pd.read_excel(f\"{GCS_FILE_PATH}LP2000_CTIPS/{file}\", sheet_name=\"assembly\")\n",
    "    )\n",
    "    return df_project, df_county, df_district, df_phase, df_award, df_house, df_senate, df_assembly"
   ]
  },
  {
   "cell_type": "code",
   "execution_count": 226,
   "id": "9372c9cb-a54a-4a2d-8f64-ca919f6b7b75",
   "metadata": {},
   "outputs": [],
   "source": [
    "ctips_project, ctips_county, ctips_district, ctips_phase, ctips_award, ctips_house, ctips_senate, ctips_assembly = load_ctips('CTIPS.xlsx')"
   ]
  },
  {
   "cell_type": "code",
   "execution_count": 232,
   "id": "1a53792b-c209-4303-a14f-59ea9ef03c9c",
   "metadata": {},
   "outputs": [
    {
     "data": {
      "text/html": [
       "<div>\n",
       "<style scoped>\n",
       "    .dataframe tbody tr th:only-of-type {\n",
       "        vertical-align: middle;\n",
       "    }\n",
       "\n",
       "    .dataframe tbody tr th {\n",
       "        vertical-align: top;\n",
       "    }\n",
       "\n",
       "    .dataframe thead th {\n",
       "        text-align: right;\n",
       "    }\n",
       "</style>\n",
       "<table border=\"1\" class=\"dataframe\">\n",
       "  <thead>\n",
       "    <tr style=\"text-align: right;\">\n",
       "      <th></th>\n",
       "      <th>ctips_id</th>\n",
       "      <th>const_date</th>\n",
       "      <th>countyid</th>\n",
       "      <th>countyid2</th>\n",
       "      <th>countyid3</th>\n",
       "      <th>document</th>\n",
       "      <th>docyear</th>\n",
       "      <th>ea_number</th>\n",
       "      <th>high_ver</th>\n",
       "      <th>high_offcl</th>\n",
       "      <th>needpurpose</th>\n",
       "      <th>progcode1</th>\n",
       "      <th>ppno</th>\n",
       "      <th>proj_desc</th>\n",
       "      <th>postmiles1</th>\n",
       "      <th>pm1b</th>\n",
       "      <th>pm2b</th>\n",
       "      <th>pm3b</th>\n",
       "      <th>pm1a</th>\n",
       "      <th>pm2a</th>\n",
       "      <th>pm3a</th>\n",
       "      <th>route1</th>\n",
       "      <th>route2</th>\n",
       "      <th>route3</th>\n",
       "      <th>rtl</th>\n",
       "      <th>title</th>\n",
       "      <th>sponsoring_agency</th>\n",
       "      <th>agency_name</th>\n",
       "      <th>implpse_agency</th>\n",
       "      <th>implrw_agency</th>\n",
       "      <th>implcon_agency</th>\n",
       "      <th>implpse_agency_1</th>\n",
       "    </tr>\n",
       "  </thead>\n",
       "  <tbody>\n",
       "    <tr>\n",
       "      <th>26476</th>\n",
       "      <td>21400000568</td>\n",
       "      <td>datetime64[ns]</td>\n",
       "      <td>STA</td>\n",
       "      <td>None</td>\n",
       "      <td>None</td>\n",
       "      <td>FTIP</td>\n",
       "      <td>2010</td>\n",
       "      <td>None</td>\n",
       "      <td>1</td>\n",
       "      <td>1</td>\n",
       "      <td>None</td>\n",
       "      <td>None</td>\n",
       "      <td>None</td>\n",
       "      <td>Grouped Projects For Purchase Of Support Vehicles - Projects Are Consistent With 40 Cfr Part 93.126 Exempt Tables 2 And Tables 3 Categories</td>\n",
       "      <td>0.00</td>\n",
       "      <td>0.00</td>\n",
       "      <td>0.00</td>\n",
       "      <td>0.00</td>\n",
       "      <td>0.00</td>\n",
       "      <td>0.00</td>\n",
       "      <td>0.00</td>\n",
       "      <td>None</td>\n",
       "      <td>None</td>\n",
       "      <td>None</td>\n",
       "      <td>datetime64[ns]</td>\n",
       "      <td>Grouped Projects For Purchase Of Support Vehicles</td>\n",
       "      <td>Various Agencies</td>\n",
       "      <td>NaN</td>\n",
       "      <td>NaN</td>\n",
       "      <td>NaN</td>\n",
       "      <td>NaN</td>\n",
       "      <td>NaN</td>\n",
       "    </tr>\n",
       "  </tbody>\n",
       "</table>\n",
       "</div>"
      ],
      "text/plain": [
       "          ctips_id      const_date countyid countyid2 countyid3 document  \\\n",
       "26476  21400000568  datetime64[ns]      STA      None      None     FTIP   \n",
       "\n",
       "       docyear ea_number  high_ver  high_offcl needpurpose progcode1  ppno  \\\n",
       "26476     2010      None         1           1        None      None  None   \n",
       "\n",
       "                                                                                                                                         proj_desc  \\\n",
       "26476  Grouped Projects For Purchase Of Support Vehicles - Projects Are Consistent With 40 Cfr Part 93.126 Exempt Tables 2 And Tables 3 Categories   \n",
       "\n",
       "       postmiles1  pm1b  pm2b  pm3b  pm1a  pm2a  pm3a route1 route2 route3  \\\n",
       "26476        0.00  0.00  0.00  0.00  0.00  0.00  0.00   None   None   None   \n",
       "\n",
       "                  rtl                                              title  \\\n",
       "26476  datetime64[ns]  Grouped Projects For Purchase Of Support Vehicles   \n",
       "\n",
       "      sponsoring_agency agency_name implpse_agency implrw_agency  \\\n",
       "26476  Various Agencies         NaN            NaN           NaN   \n",
       "\n",
       "      implcon_agency implpse_agency_1  \n",
       "26476            NaN              NaN  "
      ]
     },
     "execution_count": 232,
     "metadata": {},
     "output_type": "execute_result"
    }
   ],
   "source": [
    "ctips_project.sample()"
   ]
  },
  {
   "cell_type": "markdown",
   "id": "4940bb3c-6170-4e12-a8ff-c4e97d7dbff2",
   "metadata": {},
   "source": [
    "### State Rail Plan"
   ]
  },
  {
   "cell_type": "code",
   "execution_count": 227,
   "id": "8a61f896-808c-44cc-ae3b-5c651bcee78e",
   "metadata": {},
   "outputs": [],
   "source": [
    "srp_df = har_utils.load_state_rail_plan()"
   ]
  },
  {
   "cell_type": "code",
   "execution_count": 229,
   "id": "5469cc55-0034-469e-b199-991ca7ada378",
   "metadata": {},
   "outputs": [],
   "source": [
    "srp_df = generate_alphanumeric_ids(srp_df, 8)"
   ]
  },
  {
   "cell_type": "code",
   "execution_count": 230,
   "id": "95a7939f-4021-4b00-b036-07d5fed90a4a",
   "metadata": {},
   "outputs": [
    {
     "data": {
      "text/html": [
       "<div>\n",
       "<style scoped>\n",
       "    .dataframe tbody tr th:only-of-type {\n",
       "        vertical-align: middle;\n",
       "    }\n",
       "\n",
       "    .dataframe tbody tr th {\n",
       "        vertical-align: top;\n",
       "    }\n",
       "\n",
       "    .dataframe thead th {\n",
       "        text-align: right;\n",
       "    }\n",
       "</style>\n",
       "<table border=\"1\" class=\"dataframe\">\n",
       "  <thead>\n",
       "    <tr style=\"text-align: right;\">\n",
       "      <th></th>\n",
       "      <th>project_time_horizon</th>\n",
       "      <th>project_name</th>\n",
       "      <th>project_description</th>\n",
       "      <th>lead_agency</th>\n",
       "      <th>total_project_cost</th>\n",
       "      <th>srp_region</th>\n",
       "      <th>corridor</th>\n",
       "      <th>sub_corridor_node_1</th>\n",
       "      <th>sub_corridor_node_2</th>\n",
       "      <th>itsp_corridor</th>\n",
       "      <th>project_category</th>\n",
       "      <th>project_number</th>\n",
       "    </tr>\n",
       "  </thead>\n",
       "  <tbody>\n",
       "    <tr>\n",
       "      <th>32</th>\n",
       "      <td>Near Term</td>\n",
       "      <td>San Luis Obispo (Central Coast) Layover Facility (Full Build Out)</td>\n",
       "      <td>Project will construct a new and expanded layover facility in San Luis Obispo that will improve intercity passenger rail service. The Pacific Surfliner would be able to improve the ridership, revenue, and expand service through additional layover capacity. The project will facilitate the maintenance of equipment mid-route and at route terminus.</td>\n",
       "      <td>**Multiple</td>\n",
       "      <td>77458000</td>\n",
       "      <td>Southern California Megaregion</td>\n",
       "      <td>Central Coast to Los Angeles Corridor</td>\n",
       "      <td>San Luis Obispo</td>\n",
       "      <td>Goleta</td>\n",
       "      <td>South Coast - Central Coast</td>\n",
       "      <td>Capital</td>\n",
       "      <td>TWrUKFmm</td>\n",
       "    </tr>\n",
       "  </tbody>\n",
       "</table>\n",
       "</div>"
      ],
      "text/plain": [
       "   project_time_horizon  \\\n",
       "32            Near Term   \n",
       "\n",
       "                                                         project_name  \\\n",
       "32  San Luis Obispo (Central Coast) Layover Facility (Full Build Out)   \n",
       "\n",
       "                                                                                                                                                                                                                                                                                                                                           project_description  \\\n",
       "32  Project will construct a new and expanded layover facility in San Luis Obispo that will improve intercity passenger rail service. The Pacific Surfliner would be able to improve the ridership, revenue, and expand service through additional layover capacity. The project will facilitate the maintenance of equipment mid-route and at route terminus.   \n",
       "\n",
       "   lead_agency total_project_cost                      srp_region  \\\n",
       "32  **Multiple           77458000  Southern California Megaregion   \n",
       "\n",
       "                                 corridor sub_corridor_node_1  \\\n",
       "32  Central Coast to Los Angeles Corridor     San Luis Obispo   \n",
       "\n",
       "   sub_corridor_node_2                itsp_corridor project_category  \\\n",
       "32              Goleta  South Coast - Central Coast          Capital   \n",
       "\n",
       "   project_number  \n",
       "32       TWrUKFmm  "
      ]
     },
     "execution_count": 230,
     "metadata": {},
     "output_type": "execute_result"
    }
   ],
   "source": [
    "srp_df.sample()"
   ]
  },
  {
   "cell_type": "code",
   "execution_count": 231,
   "id": "b2bfef02-8d49-4a62-b49b-3807610f9fe4",
   "metadata": {},
   "outputs": [],
   "source": [
    "srp_df_agency = separate_out_df(srp_df, ['project_number', 'lead_agency'])"
   ]
  },
  {
   "cell_type": "code",
   "execution_count": null,
   "id": "98052546-11e9-4e94-8cc1-0e334e5606f4",
   "metadata": {},
   "outputs": [],
   "source": []
  }
 ],
 "metadata": {
  "kernelspec": {
   "display_name": "Python 3 (ipykernel)",
   "language": "python",
   "name": "python3"
  },
  "language_info": {
   "codemirror_mode": {
    "name": "ipython",
    "version": 3
   },
   "file_extension": ".py",
   "mimetype": "text/x-python",
   "name": "python",
   "nbconvert_exporter": "python",
   "pygments_lexer": "ipython3",
   "version": "3.9.13"
  }
 },
 "nbformat": 4,
 "nbformat_minor": 5
}
