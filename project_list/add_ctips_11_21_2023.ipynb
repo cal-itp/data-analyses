{
 "cells": [
  {
   "cell_type": "markdown",
   "id": "fddd4840",
   "metadata": {},
   "source": [
    "## CTIPS\n",
    "* https://ctips-prod.dot.ca.gov/ctips/LoginMediatorForm.do"
   ]
  },
  {
   "cell_type": "code",
   "execution_count": null,
   "id": "368f3cfe",
   "metadata": {},
   "outputs": [],
   "source": [
    "import pandas as pd \n",
    "import sqlalchemy \n",
    "import sys \n",
    "import re\n",
    "import oracledb "
   ]
  },
  {
   "cell_type": "code",
   "execution_count": null,
   "id": "2d67c606",
   "metadata": {},
   "outputs": [],
   "source": [
    "oracledb.version = \"8.3.0\" \n",
    "sys.modules[\"cx_Oracle\"] = oracledb "
   ]
  },
  {
   "cell_type": "code",
   "execution_count": null,
   "id": "4364580a",
   "metadata": {},
   "outputs": [],
   "source": [
    "pd.options.display.max_columns = 100\n",
    "pd.options.display.float_format = \"{:.2f}\".format\n",
    "pd.set_option(\"display.max_rows\", None)\n",
    "pd.set_option(\"display.max_colwidth\", None)"
   ]
  },
  {
   "cell_type": "code",
   "execution_count": null,
   "id": "f67c06ec",
   "metadata": {},
   "outputs": [],
   "source": []
  },
  {
   "cell_type": "code",
   "execution_count": null,
   "id": "313a1570",
   "metadata": {},
   "outputs": [],
   "source": [
    "# Use SB1_READONLY login\n",
    "ENGINE_PATH_WIN_AUTH =  f\"{DIALECT}://{USERNAME}:{PASSWORD}@{HOST}:{PORT}/?service_name={SERVICE}\" "
   ]
  },
  {
   "cell_type": "code",
   "execution_count": null,
   "id": "6b864719",
   "metadata": {},
   "outputs": [],
   "source": [
    "engine = sqlalchemy.create_engine(ENGINE_PATH_WIN_AUTH)   "
   ]
  },
  {
   "cell_type": "code",
   "execution_count": null,
   "id": "510debd3",
   "metadata": {},
   "outputs": [],
   "source": [
    "def to_snakecase(df):\n",
    "    df.columns = df.columns.str.lower().str.replace(' ','_')\n",
    "    return df"
   ]
  },
  {
   "cell_type": "markdown",
   "id": "3934005a",
   "metadata": {},
   "source": [
    "### Project \n",
    "* Base Table\n",
    "* Ask if someone can help me fill out the DDP6/DDP8 with the columns I wish for?\n",
    "* Include FULL_FUNDING column to indicate full funding of a project. \n",
    "* ACRHIVE column flags a project as being completed and archived\n",
    "* How does PROJECTID differ than CTIPS_ID\n",
    "    * Check # of Project ID is the same/different than # of CTIPS-id\n",
    "* Mulitple rows for the same project with version: HIGH_VER indicates latest version of a project\n",
    "\n",
    "\n",
    "To Do\n",
    "* Clean up strings"
   ]
  },
  {
   "cell_type": "code",
   "execution_count": null,
   "id": "66069dee",
   "metadata": {},
   "outputs": [],
   "source": [
    "projects_df = pd.read_sql_query(\"\"\" \n",
    "SELECT \n",
    "archive,\n",
    "agencyid,\n",
    "bond99,\n",
    "cmia,\n",
    "countyid,\n",
    "ctips_id,\n",
    "const_date,\n",
    "districtid,\n",
    "ea_number,\n",
    "high_ver,\n",
    "lupdate, \n",
    "full_fnding,\n",
    "needpurpose,\n",
    "progcode1,\n",
    "ppno,\n",
    "proj_desc,\n",
    "postmiles1,\n",
    "projcomp_date,\n",
    "projectid,\n",
    "ports,\n",
    "route1,\n",
    "stip,\n",
    "shopp,\n",
    "title,\n",
    "tcif,\n",
    "tcrpno,\n",
    "tcrp,\n",
    "urbanid\n",
    "FROM project\n",
    "\"\"\", engine) "
   ]
  },
  {
   "cell_type": "code",
   "execution_count": null,
   "id": "bec853d2",
   "metadata": {},
   "outputs": [],
   "source": [
    "projects_df.shape"
   ]
  },
  {
   "cell_type": "code",
   "execution_count": null,
   "id": "ca8790a5",
   "metadata": {},
   "outputs": [],
   "source": [
    "projects_df.ctips_id.nunique()"
   ]
  },
  {
   "cell_type": "code",
   "execution_count": null,
   "id": "1479635d",
   "metadata": {},
   "outputs": [],
   "source": [
    "projects_df.archive.value_counts()"
   ]
  },
  {
   "cell_type": "code",
   "execution_count": null,
   "id": "1bc77e8f",
   "metadata": {},
   "outputs": [],
   "source": [
    "projects_df.info()"
   ]
  },
  {
   "cell_type": "code",
   "execution_count": null,
   "id": "29c3a663",
   "metadata": {},
   "outputs": [],
   "source": [
    "projects_df.ctips_id.nunique()"
   ]
  },
  {
   "cell_type": "code",
   "execution_count": null,
   "id": "62a81468",
   "metadata": {},
   "outputs": [],
   "source": [
    "projects_df.projectid.nunique()"
   ]
  },
  {
   "cell_type": "markdown",
   "id": "78040e6d",
   "metadata": {},
   "source": [
    "### A bit of cleaning"
   ]
  },
  {
   "cell_type": "code",
   "execution_count": null,
   "id": "a1854bb2",
   "metadata": {},
   "outputs": [],
   "source": [
    "projects_df = projects_df.fillna(projects_df.dtypes.replace({'float64': 0.0, 'object': 'None', 'int64': 0}))"
   ]
  },
  {
   "cell_type": "code",
   "execution_count": null,
   "id": "e8ab3bae",
   "metadata": {},
   "outputs": [],
   "source": [
    "string_cols = [col for col in projects_df.columns if projects_df[col].dtype == 'object']"
   ]
  },
  {
   "cell_type": "code",
   "execution_count": null,
   "id": "5a121581",
   "metadata": {},
   "outputs": [],
   "source": [
    "projects_df.info()"
   ]
  },
  {
   "cell_type": "code",
   "execution_count": null,
   "id": "6df68a46",
   "metadata": {},
   "outputs": [],
   "source": [
    "string_cols = [\n",
    " 'needpurpose',\n",
    "\n",
    " 'proj_desc',\n",
    " 'route1',\n",
    " 'title']"
   ]
  },
  {
   "cell_type": "code",
   "execution_count": null,
   "id": "d20937ce",
   "metadata": {},
   "outputs": [],
   "source": [
    "for i in string_cols:\n",
    "        projects_df[i] = projects_df[i].str.title().str.lstrip().str.rstrip()\n",
    "        projects_df[i] = projects_df[i].replace(r'\\s+', ' ', regex=True)"
   ]
  },
  {
   "cell_type": "markdown",
   "id": "ad75947f",
   "metadata": {},
   "source": [
    "### Looking at duplicate projects"
   ]
  },
  {
   "cell_type": "code",
   "execution_count": null,
   "id": "593c0ede",
   "metadata": {},
   "outputs": [],
   "source": [
    "projects_df.title.value_counts().head()"
   ]
  },
  {
   "cell_type": "code",
   "execution_count": null,
   "id": "62ba8520",
   "metadata": {},
   "outputs": [],
   "source": [
    "duplicate_projects = projects_df.groupby(['title', 'proj_desc','districtid','agencyid']).agg({'projectid':'nunique'\n",
    "}).reset_index()"
   ]
  },
  {
   "cell_type": "code",
   "execution_count": null,
   "id": "3c1e4274",
   "metadata": {},
   "outputs": [],
   "source": [
    "duplicate_projects.projectid.describe()"
   ]
  },
  {
   "cell_type": "code",
   "execution_count": null,
   "id": "61cff20c",
   "metadata": {},
   "outputs": [],
   "source": [
    "duplicate_projects.sort_values(['projectid'], ascending = False).head()"
   ]
  },
  {
   "cell_type": "markdown",
   "id": "1431f5ac",
   "metadata": {},
   "source": [
    "### Why is the `ctips_id` the same but `projectid` differs?\n",
    "* How can there be four \"1\" if there is only one high version?"
   ]
  },
  {
   "cell_type": "code",
   "execution_count": null,
   "id": "0bb8bcfc",
   "metadata": {
    "scrolled": true
   },
   "outputs": [],
   "source": [
    "one_project = projects_df.loc[(projects_df.title == \"Grouped Projects For Bicycle And Pedestrian Facili\") & (projects_df.districtid == \"11\") & (projects_df.agencyid == '6066')]"
   ]
  },
  {
   "cell_type": "code",
   "execution_count": null,
   "id": "74e46b7e",
   "metadata": {},
   "outputs": [],
   "source": [
    "one_project.high_ver.value_counts()"
   ]
  },
  {
   "cell_type": "code",
   "execution_count": null,
   "id": "f2c2c168",
   "metadata": {},
   "outputs": [],
   "source": []
  },
  {
   "cell_type": "code",
   "execution_count": null,
   "id": "3e56273a",
   "metadata": {},
   "outputs": [],
   "source": [
    "one_project.ctips_id.unique()"
   ]
  },
  {
   "cell_type": "code",
   "execution_count": null,
   "id": "76b4285f",
   "metadata": {},
   "outputs": [],
   "source": [
    "one_project.ctips_id.nunique()"
   ]
  },
  {
   "cell_type": "code",
   "execution_count": null,
   "id": "07987c82",
   "metadata": {},
   "outputs": [],
   "source": [
    "one_project.projectid.nunique()"
   ]
  },
  {
   "cell_type": "code",
   "execution_count": null,
   "id": "3906d873",
   "metadata": {},
   "outputs": [],
   "source": [
    "# projects_df.needpurpose.value_counts().head()"
   ]
  },
  {
   "cell_type": "code",
   "execution_count": null,
   "id": "546212ee",
   "metadata": {},
   "outputs": [],
   "source": [
    "one_project.loc[one_project.high_ver == 1][['ctips_id']].drop_duplicates()"
   ]
  },
  {
   "cell_type": "code",
   "execution_count": null,
   "id": "0dab2307",
   "metadata": {},
   "outputs": [],
   "source": [
    "one_project.loc[one_project.high_ver == 1][['proj_desc']].drop_duplicates()"
   ]
  },
  {
   "cell_type": "code",
   "execution_count": null,
   "id": "c37fa497",
   "metadata": {},
   "outputs": [],
   "source": [
    "one_project.loc[one_project.high_ver == 1]"
   ]
  },
  {
   "cell_type": "markdown",
   "id": "09a788d8",
   "metadata": {},
   "source": [
    "### Keep only the high_ver/filter out archive\n",
    "* Archive: FTIP: Flags a project as being completed and archived. STIP: Flags a project where funds needed to be allocated are allocated and final expenditures have been reported.\n",
    "    * Assume archive = 1 means it's done. "
   ]
  },
  {
   "cell_type": "code",
   "execution_count": null,
   "id": "e08d2ba3",
   "metadata": {},
   "outputs": [],
   "source": [
    "projects_df.columns"
   ]
  },
  {
   "cell_type": "code",
   "execution_count": null,
   "id": "ea43c363",
   "metadata": {},
   "outputs": [],
   "source": [
    "projects_df.archive = projects_df.archive.fillna(0)"
   ]
  },
  {
   "cell_type": "code",
   "execution_count": null,
   "id": "f56232c8",
   "metadata": {},
   "outputs": [],
   "source": [
    "projects_df.archive.value_counts()"
   ]
  },
  {
   "cell_type": "code",
   "execution_count": null,
   "id": "cc28045f",
   "metadata": {},
   "outputs": [],
   "source": [
    "projects_df2 = projects_df.loc[projects_df.archive != 1]"
   ]
  },
  {
   "cell_type": "markdown",
   "id": "c76df5ac",
   "metadata": {},
   "source": [
    "#### TO DO: sort by lupdate"
   ]
  },
  {
   "cell_type": "code",
   "execution_count": null,
   "id": "2a711d75",
   "metadata": {},
   "outputs": [],
   "source": [
    "projects_df2 = projects_df2.sort_values(by = ['ctips_id', 'projectid','proj_desc', 'high_ver'], ascending = False)"
   ]
  },
  {
   "cell_type": "code",
   "execution_count": null,
   "id": "0ab2601d",
   "metadata": {},
   "outputs": [],
   "source": [
    "projects_df2 = projects_df2.drop_duplicates(subset = ['ctips_id']).reset_index(drop = True)"
   ]
  },
  {
   "cell_type": "code",
   "execution_count": null,
   "id": "2ea608f4",
   "metadata": {},
   "outputs": [],
   "source": [
    "projects_df2.shape"
   ]
  },
  {
   "cell_type": "code",
   "execution_count": null,
   "id": "aefb5396",
   "metadata": {},
   "outputs": [],
   "source": [
    "projects_df2.loc[(projects_df2.ctips_id == 10600000223)]"
   ]
  },
  {
   "cell_type": "code",
   "execution_count": null,
   "id": "902a7e64",
   "metadata": {},
   "outputs": [],
   "source": [
    "projects_df2.ctips_id.nunique()"
   ]
  },
  {
   "cell_type": "code",
   "execution_count": null,
   "id": "8ea8ac9d",
   "metadata": {},
   "outputs": [],
   "source": [
    "projects_df2.info()"
   ]
  },
  {
   "cell_type": "code",
   "execution_count": null,
   "id": "23da7c78",
   "metadata": {},
   "outputs": [],
   "source": [
    "projects_df2.loc[(projects_df2.title == \"Grouped Projects For Bicycle And Pedestrian Facili\") & (projects_df2.districtid == \"11\") & (projects_df2.agencyid == '6066')]"
   ]
  },
  {
   "cell_type": "markdown",
   "id": "b90c52f0",
   "metadata": {},
   "source": [
    "### PROJSCHE\n",
    "* What's M010, can't find it in the data dictionary"
   ]
  },
  {
   "cell_type": "code",
   "execution_count": null,
   "id": "68863fa0",
   "metadata": {},
   "outputs": [],
   "source": [
    "projsche_df = pd.read_sql_query(\"\"\" \n",
    "SELECT *\n",
    "FROM projsche\n",
    "\"\"\", engine) "
   ]
  },
  {
   "cell_type": "code",
   "execution_count": null,
   "id": "8c8fbc9b",
   "metadata": {},
   "outputs": [],
   "source": [
    "projsche_df.shape"
   ]
  },
  {
   "cell_type": "code",
   "execution_count": null,
   "id": "d0836c9a",
   "metadata": {},
   "outputs": [],
   "source": [
    "projsche_df.columns"
   ]
  },
  {
   "cell_type": "code",
   "execution_count": null,
   "id": "c82553ba",
   "metadata": {},
   "outputs": [],
   "source": [
    "projsche_df.projectid.nunique()"
   ]
  },
  {
   "cell_type": "code",
   "execution_count": null,
   "id": "2825bf82",
   "metadata": {},
   "outputs": [],
   "source": [
    "project_rename = {\n",
    "     'm020': 'pa_ed_begin', 'm200a':'pa_ed_end', 'm200b':'ps_e_begin',\n",
    "       'm224':'begin_row', 'm410':'end_row', 'm500':' con_start_date',\n",
    "    'm600':'con_end_date', 'm700':'begin_closeout', 'm800':'end_closeout',\n",
    "}"
   ]
  },
  {
   "cell_type": "code",
   "execution_count": null,
   "id": "7beaedb9",
   "metadata": {},
   "outputs": [],
   "source": [
    "projsche_df = projsche_df.rename(columns = project_rename)"
   ]
  },
  {
   "cell_type": "code",
   "execution_count": null,
   "id": "1dccce45",
   "metadata": {},
   "outputs": [],
   "source": [
    "keep = ['projectid', 'pa_ed_begin','pa_ed_end',\n",
    "       'ps_e_begin',  'begin_row', 'end_row', ' con_start_date',\n",
    "       'con_end_date', 'begin_closeout', 'end_closeout'\n",
    "      ]"
   ]
  },
  {
   "cell_type": "code",
   "execution_count": null,
   "id": "8bf0d76d",
   "metadata": {},
   "outputs": [],
   "source": [
    "projsche_df2 = projsche_df[keep]"
   ]
  },
  {
   "cell_type": "code",
   "execution_count": null,
   "id": "e646cfc3",
   "metadata": {},
   "outputs": [],
   "source": [
    "projsche_df2.info()"
   ]
  },
  {
   "cell_type": "code",
   "execution_count": null,
   "id": "2f350eb5",
   "metadata": {},
   "outputs": [],
   "source": [
    "keep.remove('projectid')"
   ]
  },
  {
   "cell_type": "code",
   "execution_count": null,
   "id": "7860615f",
   "metadata": {},
   "outputs": [],
   "source": [
    "projsche_df3 = projsche_df2.dropna( how = \"all\", subset = keep).reset_index(drop = True)"
   ]
  },
  {
   "cell_type": "code",
   "execution_count": null,
   "id": "38a150e9",
   "metadata": {},
   "outputs": [],
   "source": [
    "projsche_df3.info()"
   ]
  },
  {
   "cell_type": "code",
   "execution_count": null,
   "id": "fb8de734",
   "metadata": {},
   "outputs": [],
   "source": [
    "projsche_df3.sample(3)"
   ]
  },
  {
   "cell_type": "code",
   "execution_count": null,
   "id": "354cd401",
   "metadata": {},
   "outputs": [],
   "source": [
    "pd.merge(projsche_df3, projects_df2, on ='projectid', how = 'outer', indicator = True)[['_merge']].value_counts()"
   ]
  },
  {
   "cell_type": "code",
   "execution_count": null,
   "id": "f56fd7cc",
   "metadata": {},
   "outputs": [],
   "source": [
    "m1 = pd.merge(projects_df2, projsche_df3,  on ='projectid', how = 'left')"
   ]
  },
  {
   "cell_type": "code",
   "execution_count": null,
   "id": "bab6ed9e",
   "metadata": {},
   "outputs": [],
   "source": [
    "len(projects_df2)"
   ]
  },
  {
   "cell_type": "code",
   "execution_count": null,
   "id": "6d2b4e5f",
   "metadata": {},
   "outputs": [],
   "source": [
    "len(m1)"
   ]
  },
  {
   "cell_type": "markdown",
   "id": "0a8391b1",
   "metadata": {},
   "source": [
    "### AGENCY"
   ]
  },
  {
   "cell_type": "code",
   "execution_count": null,
   "id": "fb548845",
   "metadata": {
    "scrolled": true
   },
   "outputs": [],
   "source": [
    "agency_df = pd.read_sql_query(\"\"\" \n",
    "SELECT \n",
    "name AS agency_name,\n",
    "agencyid\n",
    "FROM agncy\n",
    "\"\"\", engine) "
   ]
  },
  {
   "cell_type": "code",
   "execution_count": null,
   "id": "df6ff091",
   "metadata": {},
   "outputs": [],
   "source": [
    "agency_df.shape"
   ]
  },
  {
   "cell_type": "code",
   "execution_count": null,
   "id": "f5a0083a",
   "metadata": {},
   "outputs": [],
   "source": [
    "agency_df.head()"
   ]
  },
  {
   "cell_type": "code",
   "execution_count": null,
   "id": "4c653d24",
   "metadata": {},
   "outputs": [],
   "source": [
    "agency_df.agencyid.nunique()"
   ]
  },
  {
   "cell_type": "code",
   "execution_count": null,
   "id": "17291da1",
   "metadata": {},
   "outputs": [],
   "source": [
    "pd.merge(m1, agency_df, on ='agencyid', how = 'outer', indicator = True)[['_merge']].value_counts()"
   ]
  },
  {
   "cell_type": "code",
   "execution_count": null,
   "id": "d5f60015",
   "metadata": {},
   "outputs": [],
   "source": [
    "m2 = pd.merge(m1, agency_df,  on ='agencyid', how = 'left')"
   ]
  },
  {
   "cell_type": "markdown",
   "id": "019202f2",
   "metadata": {},
   "source": [
    "### COUNTY"
   ]
  },
  {
   "cell_type": "code",
   "execution_count": null,
   "id": "5d1a415a",
   "metadata": {},
   "outputs": [],
   "source": [
    "county_df = pd.read_sql_query(\"\"\" \n",
    "SELECT \n",
    "name AS county_name,\n",
    "countyid\n",
    "FROM county\n",
    "\"\"\", engine) "
   ]
  },
  {
   "cell_type": "code",
   "execution_count": null,
   "id": "58e6b363",
   "metadata": {},
   "outputs": [],
   "source": [
    "county_df.head()"
   ]
  },
  {
   "cell_type": "code",
   "execution_count": null,
   "id": "05b2f636",
   "metadata": {},
   "outputs": [],
   "source": [
    "county_df.shape"
   ]
  },
  {
   "cell_type": "code",
   "execution_count": null,
   "id": "f6529b86",
   "metadata": {},
   "outputs": [],
   "source": [
    "county_df.countyid.nunique()"
   ]
  },
  {
   "cell_type": "code",
   "execution_count": null,
   "id": "bc46bb72",
   "metadata": {},
   "outputs": [],
   "source": [
    "m2.columns"
   ]
  },
  {
   "cell_type": "code",
   "execution_count": null,
   "id": "5532108f",
   "metadata": {},
   "outputs": [],
   "source": [
    "m3 = pd.merge(m2, county_df,  on ='countyid', how = 'left')"
   ]
  },
  {
   "cell_type": "code",
   "execution_count": null,
   "id": "9b0422a4",
   "metadata": {},
   "outputs": [],
   "source": [
    "m3.sample()"
   ]
  },
  {
   "cell_type": "markdown",
   "id": "7fd8fd19",
   "metadata": {},
   "source": [
    "### FUNDLINE\n",
    "* 1,090,000 rows\n",
    "*  Why are there so many rows?"
   ]
  },
  {
   "cell_type": "code",
   "execution_count": null,
   "id": "ea5f121a",
   "metadata": {},
   "outputs": [],
   "source": [
    "fundline_df = pd.read_sql_query(\"\"\" \n",
    "SELECT \n",
    "con,\n",
    "pe_paed,\n",
    "pe_env,\n",
    "pe_rw,\n",
    "pe_con,\n",
    "projectid,\n",
    "line_year,\n",
    "actiondate\n",
    "FROM fundline\n",
    "\"\"\", engine) "
   ]
  },
  {
   "cell_type": "code",
   "execution_count": null,
   "id": "403fbaac",
   "metadata": {},
   "outputs": [],
   "source": [
    "#fundline_df2 = pd.read_sql_query(\"\"\" \n",
    "#SELECT \n",
    "#*\n",
    "#FROM fundline\n",
    "#\"\"\", engine) "
   ]
  },
  {
   "cell_type": "code",
   "execution_count": null,
   "id": "8ebeb975",
   "metadata": {},
   "outputs": [],
   "source": [
    "# fundline_df2.loc[fundline_df2.projectid == 10900013875]"
   ]
  },
  {
   "cell_type": "code",
   "execution_count": null,
   "id": "44f9d4db",
   "metadata": {},
   "outputs": [],
   "source": [
    "fundline_df.shape"
   ]
  },
  {
   "cell_type": "code",
   "execution_count": null,
   "id": "72dcde2c",
   "metadata": {},
   "outputs": [],
   "source": [
    "fundline_df.head()"
   ]
  },
  {
   "cell_type": "code",
   "execution_count": null,
   "id": "115fc1ae",
   "metadata": {},
   "outputs": [],
   "source": [
    "fundline_df.projectid.nunique()"
   ]
  },
  {
   "cell_type": "markdown",
   "id": "0bcc5a79",
   "metadata": {},
   "source": [
    "#### Delete rows in which project is is zero b/c none of the rows from `projects` have a projectid of 0."
   ]
  },
  {
   "cell_type": "code",
   "execution_count": null,
   "id": "3cdd1810",
   "metadata": {},
   "outputs": [],
   "source": [
    "fundline_df.projectid.value_counts().head()"
   ]
  },
  {
   "cell_type": "code",
   "execution_count": null,
   "id": "a559cc62",
   "metadata": {},
   "outputs": [],
   "source": [
    "fundline_df.info()"
   ]
  },
  {
   "cell_type": "code",
   "execution_count": null,
   "id": "2979711d",
   "metadata": {},
   "outputs": [],
   "source": [
    "projectid_zero = fundline_df.loc[fundline_df.projectid == 0]"
   ]
  },
  {
   "cell_type": "code",
   "execution_count": null,
   "id": "e5adb2cf",
   "metadata": {},
   "outputs": [],
   "source": [
    "projectid_zero.sample(10)"
   ]
  },
  {
   "cell_type": "code",
   "execution_count": null,
   "id": "d1b44a44",
   "metadata": {},
   "outputs": [],
   "source": [
    "projectid_zero.pe_paed.describe()"
   ]
  },
  {
   "cell_type": "code",
   "execution_count": null,
   "id": "ec9888a2",
   "metadata": {},
   "outputs": [],
   "source": [
    "m3.loc[m3.projectid == 0].shape"
   ]
  },
  {
   "cell_type": "code",
   "execution_count": null,
   "id": "bcc8bca7",
   "metadata": {},
   "outputs": [],
   "source": [
    "fundline_df2 = fundline_df.loc[fundline_df.projectid != 0].reset_index(drop = True)"
   ]
  },
  {
   "cell_type": "code",
   "execution_count": null,
   "id": "3657c7aa",
   "metadata": {},
   "outputs": [],
   "source": [
    "fundline_df2.shape"
   ]
  },
  {
   "cell_type": "code",
   "execution_count": null,
   "id": "f1a2f7aa",
   "metadata": {},
   "outputs": [],
   "source": [
    "fundline_df2.info()"
   ]
  },
  {
   "cell_type": "markdown",
   "id": "65aaa3e6",
   "metadata": {},
   "source": [
    "#### Questions\n",
    "* Why are there so many duplicates?\n",
    "    * If I drop the duplicates across the dataframe for all rows, only 77,369 rows left out of 210,092.\n",
    "* Using project 10900013875 as an example\n",
    "    * How do I know which value to use for 2011 if there are so many of them?\n",
    "    * Is there a column that signals which row is the most recently updated from 2011?\n",
    "    * If I want this data to be one row for one project, can I sum up all the years together? \n",
    "    * Is there a way to find out which fund/program this pot of money is coming from. \n",
    "        * For construction in 2013, 5,000 comes from ATP, 10,000 comes from Sb1, etc etc"
   ]
  },
  {
   "cell_type": "code",
   "execution_count": null,
   "id": "21746945",
   "metadata": {},
   "outputs": [],
   "source": [
    "fundline_df2.projectid.value_counts().head()"
   ]
  },
  {
   "cell_type": "code",
   "execution_count": null,
   "id": "02135052",
   "metadata": {},
   "outputs": [],
   "source": [
    "# fundline_df3 = fundline_df2.drop_duplicates().sort_values(['line_year','con', 'pe_paed', 'pe_env', 'pe_rw', 'pe_con', 'actiondate'], ascending = False)"
   ]
  },
  {
   "cell_type": "code",
   "execution_count": null,
   "id": "05d56dcc",
   "metadata": {},
   "outputs": [],
   "source": [
    "len(fundline_df2.drop_duplicates())"
   ]
  },
  {
   "cell_type": "code",
   "execution_count": null,
   "id": "9090f205",
   "metadata": {},
   "outputs": [],
   "source": [
    "fundline_df3 = fundline_df2.drop_duplicates().reset_index(drop = True)"
   ]
  },
  {
   "cell_type": "code",
   "execution_count": null,
   "id": "4d0858c7",
   "metadata": {},
   "outputs": [],
   "source": [
    "len(fundline_df3), len(fundline_df2)"
   ]
  },
  {
   "cell_type": "code",
   "execution_count": null,
   "id": "ee69d394",
   "metadata": {},
   "outputs": [],
   "source": [
    "fundline_df3.columns"
   ]
  },
  {
   "cell_type": "code",
   "execution_count": null,
   "id": "31482798",
   "metadata": {},
   "outputs": [],
   "source": [
    "sum_cols = ['con', 'pe_paed', 'pe_env', 'pe_rw', 'pe_con']"
   ]
  },
  {
   "cell_type": "code",
   "execution_count": null,
   "id": "c4a4de35",
   "metadata": {},
   "outputs": [],
   "source": [
    "fundline_df3.loc[fundline_df3.projectid == 10900013875].groupby(['projectid']).agg(\n",
    "    {**{e: \"sum\" for e in sum_cols}}\n",
    ")"
   ]
  },
  {
   "cell_type": "code",
   "execution_count": null,
   "id": "3379c0b1",
   "metadata": {},
   "outputs": [],
   "source": [
    "fundline_df3.loc[fundline_df3.projectid == 10900013875].sort_values(by=['line_year'])"
   ]
  },
  {
   "cell_type": "code",
   "execution_count": null,
   "id": "150db9bc",
   "metadata": {},
   "outputs": [],
   "source": [
    "pd.merge(m3, fundline_df3, on ='projectid', how = 'outer', indicator = True)[['_merge']].value_counts()"
   ]
  },
  {
   "cell_type": "markdown",
   "id": "e4dbd5d8",
   "metadata": {},
   "source": [
    "### Political"
   ]
  },
  {
   "cell_type": "code",
   "execution_count": null,
   "id": "2b669774",
   "metadata": {},
   "outputs": [],
   "source": [
    "political_df = pd.read_sql_query(\"\"\" \n",
    "SELECT \n",
    "assembly01,\n",
    "ushouse01,\n",
    "ssenate01,\n",
    "projectid\n",
    "FROM politcal\n",
    "\"\"\", engine) "
   ]
  },
  {
   "cell_type": "code",
   "execution_count": null,
   "id": "49406d0d",
   "metadata": {},
   "outputs": [],
   "source": [
    "political_df.shape"
   ]
  },
  {
   "cell_type": "code",
   "execution_count": null,
   "id": "da1b590c",
   "metadata": {},
   "outputs": [],
   "source": [
    "political_df.info()"
   ]
  },
  {
   "cell_type": "code",
   "execution_count": null,
   "id": "bed3cfdc",
   "metadata": {},
   "outputs": [],
   "source": [
    "political_df = political_df.dropna(how = \"any\")"
   ]
  },
  {
   "cell_type": "code",
   "execution_count": null,
   "id": "0211f577",
   "metadata": {},
   "outputs": [],
   "source": [
    "political_df.info()"
   ]
  },
  {
   "cell_type": "code",
   "execution_count": null,
   "id": "e0b4ad46",
   "metadata": {},
   "outputs": [],
   "source": [
    "pd.merge(m3, political_df, on ='projectid', how = 'outer', indicator = True)[['_merge']].value_counts()"
   ]
  },
  {
   "cell_type": "markdown",
   "id": "5731fb2e",
   "metadata": {},
   "source": [
    "#### Change this to m4 later"
   ]
  },
  {
   "cell_type": "code",
   "execution_count": null,
   "id": "1b7f8581",
   "metadata": {},
   "outputs": [],
   "source": [
    "m5 = pd.merge(m3, political_df, on ='projectid', how = 'left')"
   ]
  },
  {
   "cell_type": "code",
   "execution_count": null,
   "id": "cc8c7dd2",
   "metadata": {},
   "outputs": [],
   "source": [
    "m5.info()"
   ]
  },
  {
   "cell_type": "markdown",
   "id": "409f34d7",
   "metadata": {},
   "source": [
    "### Fundtype\n",
    "* Difference between fundid and fundsource?\n",
    "* Can't find these columns in the data dictionary\n",
    "    * p35\n",
    "    * mionr\n",
    "* Difference between procode and programid? \n",
    "* Programid links to  PROGMAIN\n",
    "* Why are there so many fundtypeid that list essentailly the same information? "
   ]
  },
  {
   "cell_type": "code",
   "execution_count": null,
   "id": "060d0ae8",
   "metadata": {},
   "outputs": [],
   "source": [
    "fundtype_df = pd.read_sql_query(\"\"\" \n",
    "SELECT \n",
    "*\n",
    "FROM fundtype\n",
    "\"\"\", engine) "
   ]
  },
  {
   "cell_type": "code",
   "execution_count": null,
   "id": "565b7236",
   "metadata": {},
   "outputs": [],
   "source": [
    "fundtype_df.head()"
   ]
  },
  {
   "cell_type": "code",
   "execution_count": null,
   "id": "4982c609",
   "metadata": {},
   "outputs": [],
   "source": [
    "fundtype_df.projectid.nunique()"
   ]
  },
  {
   "cell_type": "code",
   "execution_count": null,
   "id": "8068bd7e",
   "metadata": {},
   "outputs": [],
   "source": [
    "fundtype_df.fundtypeid.nunique()"
   ]
  },
  {
   "cell_type": "code",
   "execution_count": null,
   "id": "aa069687",
   "metadata": {},
   "outputs": [],
   "source": [
    "fundtype_df.info()"
   ]
  },
  {
   "cell_type": "code",
   "execution_count": null,
   "id": "57dc641e",
   "metadata": {
    "scrolled": true
   },
   "outputs": [],
   "source": [
    "# fundtype_df.projectid.value_counts()"
   ]
  },
  {
   "cell_type": "code",
   "execution_count": null,
   "id": "4bbc52a9",
   "metadata": {},
   "outputs": [],
   "source": [
    "fundtype_df.projectid.value_counts().describe()"
   ]
  },
  {
   "cell_type": "markdown",
   "id": "06c95ee3",
   "metadata": {},
   "source": [
    "#### See why there are so many rows for one projectid.\n",
    "* Repeated info for every column except fundtypeid which has a unique value "
   ]
  },
  {
   "cell_type": "code",
   "execution_count": null,
   "id": "42c77245",
   "metadata": {},
   "outputs": [],
   "source": [
    "len(fundtype_df.drop(columns = ['fundtypeid']).drop_duplicates())"
   ]
  },
  {
   "cell_type": "code",
   "execution_count": null,
   "id": "1e0c7311",
   "metadata": {},
   "outputs": [],
   "source": [
    "fundtype_df.drop(columns = ['fundtypeid']).loc[fundtype_df.projectid ==20700009251].drop_duplicates()"
   ]
  },
  {
   "cell_type": "code",
   "execution_count": null,
   "id": "5867b0f9",
   "metadata": {},
   "outputs": [],
   "source": [
    "fundtype_df2 = fundtype_df.drop(columns = ['fundtypeid']).drop_duplicates().reset_index(drop = True)"
   ]
  },
  {
   "cell_type": "code",
   "execution_count": null,
   "id": "01c2f6f9",
   "metadata": {},
   "outputs": [],
   "source": [
    "len(fundtype_df2), len(fundtype_df)"
   ]
  },
  {
   "cell_type": "markdown",
   "id": "b5cbe58b",
   "metadata": {},
   "source": [
    "#### Spelled out fund and program names"
   ]
  },
  {
   "cell_type": "code",
   "execution_count": null,
   "id": "566aec0e",
   "metadata": {},
   "outputs": [],
   "source": [
    "progmain_df = pd.read_sql_query(\"\"\" \n",
    "SELECT \n",
    "*\n",
    "FROM progmain\n",
    "\"\"\", engine) "
   ]
  },
  {
   "cell_type": "code",
   "execution_count": null,
   "id": "e130a232",
   "metadata": {},
   "outputs": [],
   "source": [
    "progmain_df.head()"
   ]
  },
  {
   "cell_type": "code",
   "execution_count": null,
   "id": "b740a22f",
   "metadata": {},
   "outputs": [],
   "source": [
    "progmain_df = progmain_df[['programid', 'category']]"
   ]
  },
  {
   "cell_type": "code",
   "execution_count": null,
   "id": "122bcde9",
   "metadata": {},
   "outputs": [],
   "source": [
    "progmain_df.shape"
   ]
  },
  {
   "cell_type": "code",
   "execution_count": null,
   "id": "4d4b7b74",
   "metadata": {},
   "outputs": [],
   "source": [
    "progmain_df = progmain_df.rename(columns = {'category':'program'})"
   ]
  },
  {
   "cell_type": "code",
   "execution_count": null,
   "id": "23747b6c",
   "metadata": {},
   "outputs": [],
   "source": [
    "progmain_df.programid.nunique()"
   ]
  },
  {
   "cell_type": "code",
   "execution_count": null,
   "id": "438f5cf1",
   "metadata": {},
   "outputs": [],
   "source": [
    "fund_df = pd.read_sql_query(\"\"\" \n",
    "SELECT \n",
    "*\n",
    "FROM fund\n",
    "\"\"\", engine) "
   ]
  },
  {
   "cell_type": "code",
   "execution_count": null,
   "id": "23e02f8e",
   "metadata": {},
   "outputs": [],
   "source": [
    "fund_df2 = fund_df[['fund','fundid']]"
   ]
  },
  {
   "cell_type": "code",
   "execution_count": null,
   "id": "9bb42c6b",
   "metadata": {},
   "outputs": [],
   "source": [
    "fund_df2.shape"
   ]
  },
  {
   "cell_type": "code",
   "execution_count": null,
   "id": "78518514",
   "metadata": {},
   "outputs": [],
   "source": [
    "fund_df2.fund.nunique()"
   ]
  },
  {
   "cell_type": "code",
   "execution_count": null,
   "id": "62715e63",
   "metadata": {},
   "outputs": [],
   "source": [
    "fund_df2.fund.value_counts().head(10)"
   ]
  },
  {
   "cell_type": "code",
   "execution_count": null,
   "id": "dd95d9d4",
   "metadata": {},
   "outputs": [],
   "source": [
    "fund_df2.loc[fund_df2.fund == \"Advanced Transportation and Congestion Management\"]"
   ]
  },
  {
   "cell_type": "code",
   "execution_count": null,
   "id": "80c7b3da",
   "metadata": {},
   "outputs": [],
   "source": [
    "    fund_df2.fundid.nunique()"
   ]
  },
  {
   "cell_type": "markdown",
   "id": "0b6d5c71",
   "metadata": {},
   "source": [
    "#### Merge"
   ]
  },
  {
   "cell_type": "code",
   "execution_count": null,
   "id": "857c59d0",
   "metadata": {},
   "outputs": [],
   "source": [
    "fundtype_df2.columns"
   ]
  },
  {
   "cell_type": "code",
   "execution_count": null,
   "id": "eca0126b",
   "metadata": {},
   "outputs": [],
   "source": [
    "progmain_df.columns"
   ]
  },
  {
   "cell_type": "code",
   "execution_count": null,
   "id": "91315466",
   "metadata": {},
   "outputs": [],
   "source": [
    "fundtype_m1 = pd.merge(fundtype_df2, progmain_df, on = \"programid\", how = \"left\").merge(fund_df2, on = \"fundid\", how = \"left\")"
   ]
  },
  {
   "cell_type": "code",
   "execution_count": null,
   "id": "3b4dd16b",
   "metadata": {},
   "outputs": [],
   "source": [
    "len(fundtype_m1), len(fundtype_df2)"
   ]
  },
  {
   "cell_type": "code",
   "execution_count": null,
   "id": "29ea3907",
   "metadata": {},
   "outputs": [],
   "source": [
    "cols_to_keep = ['fundsource', 'minor', 'progcode',\n",
    "       'projectid', 'notes', \n",
    "       'program', 'fund']"
   ]
  },
  {
   "cell_type": "code",
   "execution_count": null,
   "id": "9c08d879",
   "metadata": {},
   "outputs": [],
   "source": [
    "fundtype_m2 = fundtype_m1[cols_to_keep]"
   ]
  },
  {
   "cell_type": "markdown",
   "id": "73653afe",
   "metadata": {},
   "source": [
    "#### Is there a way to tell how much money came from each fund?\n",
    "* For the project below, 10,000 comes from demonstration fund, 4,000 comes from general funds, 20,000 comes from future funds"
   ]
  },
  {
   "cell_type": "code",
   "execution_count": null,
   "id": "9b16ae39",
   "metadata": {},
   "outputs": [],
   "source": [
    "fundtype_m1.loc[fundtype_m1.projectid == 20600035929]"
   ]
  },
  {
   "cell_type": "code",
   "execution_count": null,
   "id": "806c185c",
   "metadata": {},
   "outputs": [],
   "source": [
    "fundtype_m2.loc[fundtype_m2.projectid == 20600035929]"
   ]
  },
  {
   "cell_type": "code",
   "execution_count": null,
   "id": "85a9f5e7",
   "metadata": {},
   "outputs": [],
   "source": [
    "fundtype_m2.projectid.value_counts().describe()"
   ]
  },
  {
   "cell_type": "code",
   "execution_count": null,
   "id": "7ec481e9",
   "metadata": {},
   "outputs": [],
   "source": [
    "fundtype_m2.program.value_counts()"
   ]
  },
  {
   "cell_type": "code",
   "execution_count": null,
   "id": "3ed5ec8b",
   "metadata": {},
   "outputs": [],
   "source": [
    "fundtype_m2.program.unique()"
   ]
  },
  {
   "cell_type": "code",
   "execution_count": null,
   "id": "8c2271ee",
   "metadata": {},
   "outputs": [],
   "source": [
    " pd.merge(m5[['projectid']], fundtype_m2, on ='projectid', how = 'outer', indicator = True)[['_merge']].value_counts()"
   ]
  },
  {
   "cell_type": "code",
   "execution_count": null,
   "id": "c78164ba",
   "metadata": {},
   "outputs": [],
   "source": [
    "# This is a separate table\n",
    "fundtype_final = pd.merge(m5[['projectid']], fundtype_m2, on ='projectid', how = 'inner')"
   ]
  },
  {
   "cell_type": "code",
   "execution_count": null,
   "id": "d5d256d9",
   "metadata": {},
   "outputs": [],
   "source": [
    "fundtype_final = fundtype_final.sort_values(['projectid']).reset_index(drop = True)"
   ]
  },
  {
   "cell_type": "code",
   "execution_count": null,
   "id": "49626bec",
   "metadata": {},
   "outputs": [],
   "source": [
    "fundtype_final.head(20)"
   ]
  }
 ],
 "metadata": {
  "kernelspec": {
   "display_name": "Python 3 (ipykernel)",
   "language": "python",
   "name": "python3"
  },
  "language_info": {
   "codemirror_mode": {
    "name": "ipython",
    "version": 3
   },
   "file_extension": ".py",
   "mimetype": "text/x-python",
   "name": "python",
   "nbconvert_exporter": "python",
   "pygments_lexer": "ipython3",
   "version": "3.9.13"
  }
 },
 "nbformat": 4,
 "nbformat_minor": 5
}
