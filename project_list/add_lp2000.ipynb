{
 "cells": [
  {
   "cell_type": "code",
   "execution_count": null,
   "id": "148ca5b5",
   "metadata": {},
   "outputs": [],
   "source": [
    "import pandas as pd \n",
    "import sqlalchemy \n",
    "import sys \n",
    "import oracledb "
   ]
  },
  {
   "cell_type": "code",
   "execution_count": null,
   "id": "90f33e88",
   "metadata": {},
   "outputs": [],
   "source": [
    "oracledb.version = \"8.3.0\" \n",
    "sys.modules[\"cx_Oracle\"] = oracledb "
   ]
  },
  {
   "cell_type": "code",
   "execution_count": null,
   "id": "79ee4936",
   "metadata": {},
   "outputs": [],
   "source": [
    "pd.options.display.max_columns = 100\n",
    "pd.options.display.float_format = \"{:.2f}\".format\n",
    "pd.set_option(\"display.max_rows\", None)\n",
    "pd.set_option(\"display.max_colwidth\", None)"
   ]
  },
  {
   "cell_type": "code",
   "execution_count": null,
   "id": "e00b326e",
   "metadata": {},
   "outputs": [],
   "source": [
    "DIALECT = 'oracle'  \n",
    "   "
   ]
  },
  {
   "cell_type": "code",
   "execution_count": null,
   "id": "3bbf1a13",
   "metadata": {},
   "outputs": [],
   "source": [
    "ENGINE_PATH_WIN_AUTH =  f\"{DIALECT}://{USERNAME}:{PASSWORD}@{HOST}:{PORT}/?service_name={SERVICE}\" "
   ]
  },
  {
   "cell_type": "code",
   "execution_count": null,
   "id": "6f8f3472",
   "metadata": {},
   "outputs": [],
   "source": [
    "engine = sqlalchemy.create_engine(ENGINE_PATH_WIN_AUTH)   "
   ]
  },
  {
   "cell_type": "markdown",
   "id": "d875eb89",
   "metadata": {},
   "source": [
    "## Projects\n",
    "* Each project has a unique row\n",
    "* Use status_code to filter only for active projects"
   ]
  },
  {
   "cell_type": "code",
   "execution_count": null,
   "id": "2b945ee2",
   "metadata": {},
   "outputs": [],
   "source": [
    "projects_df = pd.read_sql_query(\"\"\" \n",
    "SELECT \n",
    "agency_code,\n",
    "county_code,\n",
    "comment_desc,\n",
    "district_code, \n",
    "est_total_prj_costs,\n",
    "location_name,\n",
    "project_id, \n",
    "project_label_name,\n",
    "project_planning_id,\n",
    "project_category_type_code,\n",
    "original_post_mile_begin_id,\n",
    "original_post_mile_end_id,\n",
    "revised_post_mile_begin_ind,\n",
    "revised_post_mile_end_ind,\n",
    "route_name,\n",
    "state_hwy_ind,\n",
    "senate_district_code,\n",
    "work_type_code \n",
    "FROM projects \n",
    "WHERE status_code = 'Active'\n",
    "\"\"\", engine) "
   ]
  },
  {
   "cell_type": "code",
   "execution_count": null,
   "id": "6f142dea",
   "metadata": {},
   "outputs": [],
   "source": [
    "projects_df.shape"
   ]
  },
  {
   "cell_type": "code",
   "execution_count": null,
   "id": "e25789bf",
   "metadata": {},
   "outputs": [],
   "source": [
    "projects_df.head()"
   ]
  },
  {
   "cell_type": "code",
   "execution_count": null,
   "id": "582e5e07",
   "metadata": {},
   "outputs": [],
   "source": [
    "projects_df.project_id.nunique()"
   ]
  },
  {
   "cell_type": "markdown",
   "id": "b9786ad5",
   "metadata": {},
   "source": [
    "## Local Agencies"
   ]
  },
  {
   "cell_type": "code",
   "execution_count": null,
   "id": "c7d526d3",
   "metadata": {},
   "outputs": [],
   "source": [
    "local_agencies_df = pd.read_sql_query(\"\"\" \n",
    "SELECT \n",
    "agency_code,\n",
    "agency_name,\n",
    "congressional_district,\n",
    "urban_area_code\n",
    "FROM local_agencies\n",
    "\"\"\", engine) "
   ]
  },
  {
   "cell_type": "code",
   "execution_count": null,
   "id": "61382550",
   "metadata": {},
   "outputs": [],
   "source": [
    "local_agencies_df.shape"
   ]
  },
  {
   "cell_type": "code",
   "execution_count": null,
   "id": "1e68e98f",
   "metadata": {},
   "outputs": [],
   "source": [
    "local_agencies_df.head()"
   ]
  },
  {
   "cell_type": "code",
   "execution_count": null,
   "id": "b2b1b4e6",
   "metadata": {},
   "outputs": [],
   "source": [
    "local_agencies_df.agency_name.nunique()"
   ]
  },
  {
   "cell_type": "code",
   "execution_count": null,
   "id": "8309a33b",
   "metadata": {},
   "outputs": [],
   "source": [
    "# Check for obvious duplicates\n",
    "# I don't see any\n",
    "# local_agencies_df.sort_values(by=['agency_name'])"
   ]
  },
  {
   "cell_type": "code",
   "execution_count": null,
   "id": "e01f3045",
   "metadata": {},
   "outputs": [],
   "source": [
    "projects_df2 = pd.merge(projects_df, local_agencies_df, on = \"agency_code\", how = \"left\")"
   ]
  },
  {
   "cell_type": "markdown",
   "id": "d600f2a1",
   "metadata": {},
   "source": [
    "## Counties\n"
   ]
  },
  {
   "cell_type": "code",
   "execution_count": null,
   "id": "2f9f63c8",
   "metadata": {},
   "outputs": [],
   "source": [
    "counties_df = pd.read_sql_query(\"\"\" \n",
    "SELECT \n",
    "county_code,\n",
    "county_name\n",
    "FROM counties\n",
    "\"\"\", engine) "
   ]
  },
  {
   "cell_type": "code",
   "execution_count": null,
   "id": "52594266",
   "metadata": {},
   "outputs": [],
   "source": [
    "counties_df.shape"
   ]
  },
  {
   "cell_type": "code",
   "execution_count": null,
   "id": "1f083198",
   "metadata": {},
   "outputs": [],
   "source": [
    "projects_df3 = pd.merge(projects_df2, counties_df, on = \"county_code\", how = \"left\")"
   ]
  },
  {
   "cell_type": "code",
   "execution_count": null,
   "id": "7e4d6ed9",
   "metadata": {},
   "outputs": [],
   "source": [
    "projects_df3 = projects_df3.drop(columns = ['agency_code', 'county_code'])"
   ]
  },
  {
   "cell_type": "markdown",
   "id": "cd01e37d",
   "metadata": {},
   "source": [
    "## Work Types"
   ]
  },
  {
   "cell_type": "code",
   "execution_count": null,
   "id": "43a5e878",
   "metadata": {},
   "outputs": [],
   "source": [
    "work_types_df = pd.read_sql_query(\"\"\" \n",
    "SELECT \n",
    "work_type_code,\n",
    "work_type_desc\n",
    "FROM work_types\n",
    "\"\"\", engine) "
   ]
  },
  {
   "cell_type": "code",
   "execution_count": null,
   "id": "1f7e2089",
   "metadata": {},
   "outputs": [],
   "source": [
    "projects_df4 = pd.merge(projects_df3, work_types_df, on = \"work_type_code\", how = \"left\")"
   ]
  },
  {
   "cell_type": "code",
   "execution_count": null,
   "id": "51cb3cbe",
   "metadata": {},
   "outputs": [],
   "source": [
    "projects_df4.info()"
   ]
  },
  {
   "cell_type": "code",
   "execution_count": null,
   "id": "509b545f",
   "metadata": {},
   "outputs": [],
   "source": [
    "projects_df4.sample(3)"
   ]
  },
  {
   "cell_type": "markdown",
   "id": "480dd941",
   "metadata": {},
   "source": [
    "## Project Finance Letters\n",
    "* What do all the item codes mean?\n",
    "* What differentiates all the finance_header from each other?"
   ]
  },
  {
   "cell_type": "code",
   "execution_count": null,
   "id": "84433876",
   "metadata": {},
   "outputs": [],
   "source": [
    "finance_letters_df = pd.read_sql_query(\"\"\" \n",
    "SELECT \n",
    "project_id, field_order_seq, fin_ltr_seq,\n",
    "       finance_letter_item_code, finance_header1, finance_amt1,\n",
    "       finance_header2, finance_amt2, finance_header3, finance_amt3,\n",
    "       finance_header4, finance_amt4, finance_header5, finance_amt5,\n",
    "       finance_header6, finance_amt6, finance_header7, finance_amt7,\n",
    "       finance_header8, finance_amt8, finance_header9, finance_amt9,\n",
    "       finance_header10, finance_amt10, finance_header11,\n",
    "       finance_amt11, finance_header12, finance_amt12,\n",
    "       finance_header13, finance_amt13, total_cost_work_amt,\n",
    "       total_participation_cost_amt, fed_reimbursement, finance_header14,\n",
    "       finance_amt14, finance_header15, finance_amt15,\n",
    "       prorata_or_lumpsum, create_date, finance_header16,\n",
    "       finance_amt16, finance_header17, finance_amt17,\n",
    "       finance_header18, finance_amt18, finance_header19,\n",
    "       finance_amt19, finance_header20, finance_amt20\n",
    "FROM project_finance_letters\n",
    "\"\"\", engine) "
   ]
  },
  {
   "cell_type": "code",
   "execution_count": null,
   "id": "68dbb4d3",
   "metadata": {},
   "outputs": [],
   "source": [
    "# finance_letters_df.columns"
   ]
  },
  {
   "cell_type": "code",
   "execution_count": null,
   "id": "c1dca7e6",
   "metadata": {},
   "outputs": [],
   "source": [
    "# ['project_finance_letters.' + s for s in list(finance_letters_df.columns)]"
   ]
  },
  {
   "cell_type": "code",
   "execution_count": null,
   "id": "77856297",
   "metadata": {},
   "outputs": [],
   "source": [
    "finance_letters_df.project_id.nunique()"
   ]
  },
  {
   "cell_type": "code",
   "execution_count": null,
   "id": "01c745a5",
   "metadata": {},
   "outputs": [],
   "source": [
    "finance_letters_df.project_id.value_counts().head(10)"
   ]
  },
  {
   "cell_type": "code",
   "execution_count": null,
   "id": "6a36721e",
   "metadata": {},
   "outputs": [],
   "source": [
    "finance_letters_df.finance_header1.nunique()"
   ]
  },
  {
   "cell_type": "code",
   "execution_count": null,
   "id": "28747ce9",
   "metadata": {},
   "outputs": [],
   "source": [
    "finance_letters_df.finance_header2.nunique()"
   ]
  },
  {
   "cell_type": "code",
   "execution_count": null,
   "id": "b8775990",
   "metadata": {},
   "outputs": [],
   "source": [
    "finance_letters_df.finance_header2.value_counts().head()"
   ]
  },
  {
   "cell_type": "code",
   "execution_count": null,
   "id": "a4aa8dd7",
   "metadata": {},
   "outputs": [],
   "source": [
    "finance_letters_df.finance_header18.value_counts()"
   ]
  },
  {
   "cell_type": "code",
   "execution_count": null,
   "id": "4be4425e",
   "metadata": {},
   "outputs": [],
   "source": [
    "finance_letters_df.finance_header10.nunique()"
   ]
  },
  {
   "cell_type": "markdown",
   "id": "588e1b93",
   "metadata": {},
   "source": [
    "### Test with a few projects"
   ]
  },
  {
   "cell_type": "code",
   "execution_count": null,
   "id": "c0585001",
   "metadata": {},
   "outputs": [],
   "source": [
    "test_projects = [\"6211(131)\",\"5133(035)\", \"5003(003)\"]"
   ]
  },
  {
   "cell_type": "code",
   "execution_count": null,
   "id": "4898a4db",
   "metadata": {},
   "outputs": [],
   "source": [
    "# test_df = finance_letters_df.loc[finance_letters_df.project_id.isin(test_projects)].reset_index(drop = True)"
   ]
  },
  {
   "cell_type": "markdown",
   "id": "ec8c8ed6",
   "metadata": {},
   "source": [
    "* Understanding the relationship between the finance_amt columns, the total_cost_work_amt, and total_participation_cost_amt.\n",
    "* It seems like all the finance amounts summed equal to total_cost_work_amt"
   ]
  },
  {
   "cell_type": "code",
   "execution_count": null,
   "id": "67dd8f65",
   "metadata": {},
   "outputs": [],
   "source": [
    "finance_letter_columns = list(finance_letters_df.columns)"
   ]
  },
  {
   "cell_type": "code",
   "execution_count": null,
   "id": "b1ca70bd",
   "metadata": {},
   "outputs": [],
   "source": [
    "finance_amts = [col for col in finance_letter_columns if 'finance_amt' in col]"
   ]
  },
  {
   "cell_type": "code",
   "execution_count": null,
   "id": "8ff8af60",
   "metadata": {},
   "outputs": [],
   "source": [
    "finance_letters_df['all_finance_amt_summed'] = finance_letters_df[finance_amts].sum(axis=1)"
   ]
  },
  {
   "cell_type": "code",
   "execution_count": null,
   "id": "66b4aaea",
   "metadata": {},
   "outputs": [],
   "source": [
    "finance_letters_df.shape,finance_letters_df.fin_ltr_seq.nunique()"
   ]
  },
  {
   "cell_type": "markdown",
   "id": "cba72e70",
   "metadata": {},
   "source": [
    "* Understand the difference between summing up all the all finance amt vs total cost work amt"
   ]
  },
  {
   "cell_type": "code",
   "execution_count": null,
   "id": "af92433b",
   "metadata": {},
   "outputs": [],
   "source": [
    "test_grouped = (finance_letters_df\n",
    "                .groupby(['project_id','finance_letter_item_code','fin_ltr_seq'])\n",
    "                .agg({'all_finance_amt_summed':'max', 'total_cost_work_amt':'max','total_participation_cost_amt':'max'})\n",
    "                .reset_index())"
   ]
  },
  {
   "cell_type": "code",
   "execution_count": null,
   "id": "64f4909f",
   "metadata": {},
   "outputs": [],
   "source": [
    "test_grouped['finance_amt_v_to_total_cost'] = (test_grouped.all_finance_amt_summed - test_grouped.total_cost_work_amt).fillna(0).astype(int)"
   ]
  },
  {
   "cell_type": "code",
   "execution_count": null,
   "id": "c9d6cfc4",
   "metadata": {},
   "outputs": [],
   "source": [
    "test_grouped['finance_amt_v_to_parti'] = test_grouped.all_finance_amt_summed - test_grouped.total_participation_cost_amt"
   ]
  },
  {
   "cell_type": "code",
   "execution_count": null,
   "id": "899f01da",
   "metadata": {},
   "outputs": [],
   "source": [
    "test_grouped.finance_amt_v_to_total_cost.value_counts()"
   ]
  },
  {
   "cell_type": "code",
   "execution_count": null,
   "id": "e4d3cc29",
   "metadata": {},
   "outputs": [],
   "source": [
    "test_grouped.loc[test_grouped.finance_amt_v_to_total_cost == 28460]"
   ]
  },
  {
   "cell_type": "code",
   "execution_count": null,
   "id": "01f744cf",
   "metadata": {},
   "outputs": [],
   "source": [
    "finance_letters_df.loc[finance_letters_df.project_id == \"5030(025)\"]"
   ]
  },
  {
   "cell_type": "code",
   "execution_count": null,
   "id": "86b098a2",
   "metadata": {
    "scrolled": true
   },
   "outputs": [],
   "source": [
    "# test_df.loc[test_df.fin_ltr_seq == 92475].T"
   ]
  },
  {
   "cell_type": "markdown",
   "id": "80733525",
   "metadata": {},
   "source": [
    "* Is it ok to sum up by project_id and phase to get the total amount?\n",
    "* How to incorporate program information?\n",
    "    * Explode finance_header stuff, separate out by commas, and remove duplicates?\n",
    "* Safe to filter out \"BLANK\" values in the finance_letter_item_code column?\n",
    "* Group columns together. Ex: Right of Way is separated into a few different columns."
   ]
  },
  {
   "cell_type": "code",
   "execution_count": null,
   "id": "a26e64a5",
   "metadata": {},
   "outputs": [],
   "source": [
    "finance_headers = [col for col in finance_letter_columns if 'finance_header' in col]"
   ]
  },
  {
   "cell_type": "code",
   "execution_count": null,
   "id": "580c1ff4",
   "metadata": {},
   "outputs": [],
   "source": [
    "def delete_repeated_element(df, col: str):\n",
    "    \"\"\"\n",
    "    If an element is repeated more than once and delinated by commas\n",
    "    in a column, delete the duplicative ones.\n",
    "    \n",
    "    Ex: the column \"grocery_list\" has apples, cherries, cheese, and apples.\n",
    "    Keep apples only once. \n",
    "    \"\"\"\n",
    "    df[col] = (\n",
    "        df[col]\n",
    "        .apply(lambda x: \", \".join(set([y.strip() for y in x.split(\",\")])))\n",
    "        .str.strip()\n",
    "    )\n",
    "    return df"
   ]
  },
  {
   "cell_type": "code",
   "execution_count": null,
   "id": "088c8c67",
   "metadata": {},
   "outputs": [],
   "source": [
    "# test_df['program'] = test_df[finance_headers].apply(lambda row: ','.join(row.values.astype(str)), axis=1)"
   ]
  },
  {
   "cell_type": "code",
   "execution_count": null,
   "id": "8f3c0a30",
   "metadata": {},
   "outputs": [],
   "source": [
    "# test_df = delete_repeated_element(test_df, 'program')"
   ]
  },
  {
   "cell_type": "markdown",
   "id": "969e6a57",
   "metadata": {},
   "source": [
    "* Why are some columns blank? Can I just delete them?"
   ]
  },
  {
   "cell_type": "code",
   "execution_count": null,
   "id": "19907ab0",
   "metadata": {},
   "outputs": [],
   "source": [
    "test_group2 = (finance_letters_df\n",
    "               .groupby(['project_id','finance_letter_item_code'])\n",
    "               .agg({'total_cost_work_amt':'sum'})\n",
    "               .reset_index()\n",
    "              )"
   ]
  },
  {
   "cell_type": "code",
   "execution_count": null,
   "id": "fde41d9c",
   "metadata": {},
   "outputs": [],
   "source": [
    "test_group2 = (test_group2\n",
    "               .pivot(index = ['project_id'],columns = ['finance_letter_item_code'], \n",
    "                      values=[\"total_cost_work_amt\"])\n",
    "               .reset_index()\n",
    "              )"
   ]
  },
  {
   "cell_type": "code",
   "execution_count": null,
   "id": "5c996d8e",
   "metadata": {},
   "outputs": [],
   "source": [
    "test_group2.columns = test_group2.columns.droplevel(0)"
   ]
  },
  {
   "cell_type": "code",
   "execution_count": null,
   "id": "f62e5a64",
   "metadata": {},
   "outputs": [],
   "source": [
    "test_group2.columns"
   ]
  },
  {
   "cell_type": "code",
   "execution_count": null,
   "id": "75394f57",
   "metadata": {},
   "outputs": [],
   "source": [
    "test_group2.columns = ['project_id', 'ACE', 'AFM', 'APE', 'APEPA', 'APEPS', 'BLANK', 'CON', 'CONTR',\n",
    "       'E&P', 'FACT', 'FLIN', 'OSFCE', 'OTHER', 'PS&E', 'RPC01', 'RW', 'RWAQ',\n",
    "       'RWENG', 'RWRA', 'RWURC', 'SCE', 'SFM', 'SFMT', 'SFMTO', 'SPE', 'SQA']"
   ]
  },
  {
   "cell_type": "code",
   "execution_count": null,
   "id": "c68249cb",
   "metadata": {},
   "outputs": [],
   "source": [
    "test_group2.BLANK.value_counts()"
   ]
  },
  {
   "cell_type": "code",
   "execution_count": null,
   "id": "ece6b98e",
   "metadata": {},
   "outputs": [],
   "source": [
    "test_group2.loc[test_group2.project_id == \"5003(033)\"]"
   ]
  },
  {
   "cell_type": "code",
   "execution_count": null,
   "id": "c5655498",
   "metadata": {},
   "outputs": [],
   "source": [
    "finance_letters_df[(finance_letters_df.project_id == \"5003(033)\") & (finance_letters_df.finance_letter_item_code == 'CON')][['total_cost_work_amt','all_finance_amt_summed']].sum()"
   ]
  },
  {
   "cell_type": "code",
   "execution_count": null,
   "id": "2dfadad4",
   "metadata": {},
   "outputs": [],
   "source": [
    "finance_letters_df[(finance_letters_df.project_id == \"5003(033)\") & (finance_letters_df.finance_letter_item_code == 'CON')]"
   ]
  },
  {
   "cell_type": "code",
   "execution_count": null,
   "id": "ed2fc5f3",
   "metadata": {},
   "outputs": [],
   "source": [
    "finance_letters_df[(finance_letters_df.project_id == \"6211(131)\") & (finance_letters_df.finance_letter_item_code == 'CON')][['total_cost_work_amt','all_finance_amt_summed']].sum()"
   ]
  },
  {
   "cell_type": "markdown",
   "id": "10b6e842",
   "metadata": {},
   "source": [
    "## EA Number"
   ]
  },
  {
   "cell_type": "code",
   "execution_count": null,
   "id": "e77a27ff",
   "metadata": {},
   "outputs": [],
   "source": [
    "ea_df = pd.read_sql_query(\"\"\" \n",
    "SELECT \n",
    "project_id,\n",
    "district_code,\n",
    "ea_assign_date,\n",
    "expense_authorization_id\n",
    "FROM expense_authorizations\n",
    "\"\"\", engine) "
   ]
  },
  {
   "cell_type": "code",
   "execution_count": null,
   "id": "25e60fc8",
   "metadata": {},
   "outputs": [],
   "source": [
    "ea_df.shape, ea_df.project_id.nunique()"
   ]
  },
  {
   "cell_type": "code",
   "execution_count": null,
   "id": "b8026dec",
   "metadata": {},
   "outputs": [],
   "source": [
    "ea_df.columns"
   ]
  },
  {
   "cell_type": "code",
   "execution_count": null,
   "id": "58edc258",
   "metadata": {},
   "outputs": [],
   "source": [
    "# join with only the relevant projects 1st\n",
    "pd.merge(ea_df, projects_df4, on = ['district_code','project_id'], how = \"outer\", indicator = True)[['_merge']].value_counts()"
   ]
  },
  {
   "cell_type": "code",
   "execution_count": null,
   "id": "a1aefeb2",
   "metadata": {},
   "outputs": [],
   "source": [
    "# Check out why some project_ids have multiple rows. Is it the same ea number\n",
    "ea_df = pd.merge(projects_df4, ea_df, on = ['district_code','project_id'], how = \"inner\")"
   ]
  },
  {
   "cell_type": "code",
   "execution_count": null,
   "id": "e15d1e71",
   "metadata": {},
   "outputs": [],
   "source": [
    "ea_og_cols = ['project_id', 'ea_assign_date', 'expense_authorization_id', 'district_code']"
   ]
  },
  {
   "cell_type": "code",
   "execution_count": null,
   "id": "59c416aa",
   "metadata": {},
   "outputs": [],
   "source": [
    "ea_df = ea_df[ea_og_cols]"
   ]
  },
  {
   "cell_type": "code",
   "execution_count": null,
   "id": "8e231559",
   "metadata": {},
   "outputs": [],
   "source": [
    "ea_df.project_id.value_counts().describe()"
   ]
  },
  {
   "cell_type": "code",
   "execution_count": null,
   "id": "d1a84e4c",
   "metadata": {},
   "outputs": [],
   "source": [
    "ea_df.project_id.value_counts().head()"
   ]
  },
  {
   "cell_type": "markdown",
   "id": "cddfef08",
   "metadata": {},
   "source": [
    "### QUESTIONS\n",
    "* Only keep the most recent EA number?\n",
    "* How are EA numbers assigned?"
   ]
  },
  {
   "cell_type": "code",
   "execution_count": null,
   "id": "d8cf4a64",
   "metadata": {},
   "outputs": [],
   "source": [
    "ea_df.loc[ea_df.project_id == \"5932(042)\"].sort_values(['ea_assign_date'], ascending = False)"
   ]
  },
  {
   "cell_type": "code",
   "execution_count": null,
   "id": "d7fee4c6",
   "metadata": {},
   "outputs": [],
   "source": [
    "ea_df = ea_df.sort_values(['ea_assign_date'], ascending = False).reset_index(drop = True)"
   ]
  },
  {
   "cell_type": "code",
   "execution_count": null,
   "id": "08baa29f",
   "metadata": {},
   "outputs": [],
   "source": [
    "# Keep only the most recent EA number\n",
    "# Only one EA number per project\n",
    "ea_df2 = (ea_df\n",
    "          .drop_duplicates(subset=['project_id','district_code'])\n",
    "          .drop(columns = ['ea_assign_date'])\n",
    "          .reset_index(drop = True)\n",
    "         )"
   ]
  },
  {
   "cell_type": "code",
   "execution_count": null,
   "id": "dfb5741f",
   "metadata": {},
   "outputs": [],
   "source": [
    "ea_df.project_id.nunique()"
   ]
  },
  {
   "cell_type": "code",
   "execution_count": null,
   "id": "8dd22309",
   "metadata": {},
   "outputs": [],
   "source": [
    "ea_df2.project_id.nunique()"
   ]
  },
  {
   "cell_type": "code",
   "execution_count": null,
   "id": "0c362b54",
   "metadata": {},
   "outputs": [],
   "source": [
    "ea_df2.project_id.nunique() == len(ea_df2)"
   ]
  },
  {
   "cell_type": "code",
   "execution_count": null,
   "id": "e2e8ae12",
   "metadata": {},
   "outputs": [],
   "source": [
    "ea_df2.loc[ea_df2.project_id == \"5006(504)\"]"
   ]
  },
  {
   "cell_type": "code",
   "execution_count": null,
   "id": "cc9f68b4",
   "metadata": {},
   "outputs": [],
   "source": [
    "# Merge with project\n",
    "projects_df5 = pd.merge(projects_df4, ea_df2, on = ['district_code','project_id'], how = \"left\")"
   ]
  },
  {
   "cell_type": "code",
   "execution_count": null,
   "id": "dc81fe4d",
   "metadata": {},
   "outputs": [],
   "source": [
    "len(projects_df5) == len(projects_df)"
   ]
  },
  {
   "cell_type": "code",
   "execution_count": null,
   "id": "437580c5",
   "metadata": {},
   "outputs": [],
   "source": [
    "projects_df5.loc[projects_df5.project_id == \"5006(504)\"]"
   ]
  },
  {
   "cell_type": "markdown",
   "id": "516f2386",
   "metadata": {},
   "source": [
    "## Agreement & Fund Program Year\n",
    "* How does this differ from the Finance Letter?\n",
    "* What does the program_code stand for...\n",
    "* What's the difference between program_year.agreement vs fund_program_year.fund_programmed_amounts"
   ]
  },
  {
   "cell_type": "code",
   "execution_count": null,
   "id": "0a7ce6f3",
   "metadata": {},
   "outputs": [],
   "source": [
    "agreement_df = pd.read_sql_query(\"\"\" \n",
    "SELECT \n",
    "program_year,\n",
    "prefix_project_id,\n",
    "program_code \n",
    "FROM agreements\n",
    "WHERE program_year IS NOT null\n",
    "\"\"\", engine) "
   ]
  },
  {
   "cell_type": "code",
   "execution_count": null,
   "id": "7d7e8f8a",
   "metadata": {},
   "outputs": [],
   "source": [
    "agreement_df.head()"
   ]
  },
  {
   "cell_type": "code",
   "execution_count": null,
   "id": "7a930ba4",
   "metadata": {},
   "outputs": [],
   "source": [
    "agreement_df[['prefix', 'project_id']] = agreement_df.prefix_project_id.str.rsplit('-', n=1, expand=True)"
   ]
  },
  {
   "cell_type": "code",
   "execution_count": null,
   "id": "a140534b",
   "metadata": {},
   "outputs": [],
   "source": [
    "agreement_df.shape, agreement_df.prefix_project_id.nunique()"
   ]
  },
  {
   "cell_type": "code",
   "execution_count": null,
   "id": "ad7c3afc",
   "metadata": {},
   "outputs": [],
   "source": [
    "agreement_df.prefix.value_counts().head()"
   ]
  },
  {
   "cell_type": "code",
   "execution_count": null,
   "id": "0dbed99b",
   "metadata": {},
   "outputs": [],
   "source": [
    "agreement_df.program_code.value_counts()"
   ]
  },
  {
   "cell_type": "markdown",
   "id": "33b0beee",
   "metadata": {},
   "source": [
    "### Fund Programmed Amounts"
   ]
  },
  {
   "cell_type": "code",
   "execution_count": null,
   "id": "aaacc076",
   "metadata": {},
   "outputs": [],
   "source": [
    "fund_program_df = pd.read_sql_query(\"\"\" \n",
    "SELECT *\n",
    "FROM fund_programed_amounts\n",
    "\"\"\", engine) "
   ]
  },
  {
   "cell_type": "code",
   "execution_count": null,
   "id": "32796999",
   "metadata": {},
   "outputs": [],
   "source": [
    "fund_program_df.project_id.nunique(), fund_program_df.shape"
   ]
  },
  {
   "cell_type": "code",
   "execution_count": null,
   "id": "e53992e3",
   "metadata": {},
   "outputs": [],
   "source": [
    "og_fund_cols = list(fund_program_df.columns)"
   ]
  },
  {
   "cell_type": "code",
   "execution_count": null,
   "id": "59eb4e0f",
   "metadata": {},
   "outputs": [],
   "source": [
    "og_fund_cols"
   ]
  },
  {
   "cell_type": "code",
   "execution_count": null,
   "id": "019cefd9",
   "metadata": {},
   "outputs": [],
   "source": [
    "# Merge with project_df6 to get only the projects we care about\n",
    "fund_program_df2 = pd.merge(fund_program_df, projects_df5, on = \"project_id\", how ='inner')"
   ]
  },
  {
   "cell_type": "code",
   "execution_count": null,
   "id": "34fc4a61",
   "metadata": {},
   "outputs": [],
   "source": [
    "fund_program_df2.project_id.nunique()"
   ]
  },
  {
   "cell_type": "code",
   "execution_count": null,
   "id": "db8b7db3",
   "metadata": {},
   "outputs": [],
   "source": [
    "fund_program_df2.project_id.value_counts().head()"
   ]
  },
  {
   "cell_type": "code",
   "execution_count": null,
   "id": "8c5aa97e",
   "metadata": {},
   "outputs": [],
   "source": [
    "fund_program_df2 = fund_program_df2[og_fund_cols]"
   ]
  },
  {
   "cell_type": "markdown",
   "id": "01dc61be",
   "metadata": {},
   "source": [
    "#### Test with one project"
   ]
  },
  {
   "cell_type": "code",
   "execution_count": null,
   "id": "60eec34a",
   "metadata": {},
   "outputs": [],
   "source": [
    "one_project = fund_program_df2.loc[fund_program_df2.project_id == \"5907(014)\"]"
   ]
  },
  {
   "cell_type": "code",
   "execution_count": null,
   "id": "53a177d0",
   "metadata": {},
   "outputs": [],
   "source": [
    "one_project.ctips_id.nunique()"
   ]
  },
  {
   "cell_type": "code",
   "execution_count": null,
   "id": "8efcf086",
   "metadata": {},
   "outputs": [],
   "source": [
    "one_project.ctips_project_id.nunique()"
   ]
  },
  {
   "cell_type": "code",
   "execution_count": null,
   "id": "1d60e3ff",
   "metadata": {},
   "outputs": [],
   "source": [
    "one_project.ctips_id.shape"
   ]
  },
  {
   "cell_type": "code",
   "execution_count": null,
   "id": "33af3434",
   "metadata": {},
   "outputs": [],
   "source": [
    "one_project.groupby(['project_id','phase_id','program_code',]).agg({'programmed_amt':'sum'}).reset_index()"
   ]
  },
  {
   "cell_type": "code",
   "execution_count": null,
   "id": "0bc8abaa",
   "metadata": {},
   "outputs": [],
   "source": [
    "one_project"
   ]
  },
  {
   "cell_type": "markdown",
   "id": "2a2405b9",
   "metadata": {},
   "source": [
    "#### Merge and compare fund programmed amounts with agreement "
   ]
  },
  {
   "cell_type": "code",
   "execution_count": null,
   "id": "aac733e2",
   "metadata": {},
   "outputs": [],
   "source": [
    "pd.merge(agreement_df, fund_program_df, left_on = ['project_id'], right_on = ['project_id'], how = \"outer\", indicator = True)[['_merge']].value_counts()"
   ]
  },
  {
   "cell_type": "code",
   "execution_count": null,
   "id": "ef18b2d1",
   "metadata": {},
   "outputs": [],
   "source": [
    "m1 = pd.merge(agreement_df, fund_program_df, left_on = ['project_id','program_year'], right_on = ['project_id','fund_program_year'], how = \"inner\")"
   ]
  },
  {
   "cell_type": "code",
   "execution_count": null,
   "id": "fae58274",
   "metadata": {},
   "outputs": [],
   "source": [
    "m1.loc[m1.project_id == \"5424(002)\"]"
   ]
  },
  {
   "cell_type": "code",
   "execution_count": null,
   "id": "6249f54d",
   "metadata": {},
   "outputs": [],
   "source": [
    "# pd.merge(agreement_df, projects_df5, on = ['project_id'], how = \"outer\", indicator = True)[['_merge']].value_counts()"
   ]
  },
  {
   "cell_type": "code",
   "execution_count": null,
   "id": "00e0dd03",
   "metadata": {},
   "outputs": [],
   "source": [
    "# projects_df6 = pd.merge(projects_df5, agreement_df, on = ['project_id'], how = \"left\")"
   ]
  },
  {
   "cell_type": "code",
   "execution_count": null,
   "id": "2fcfbc13",
   "metadata": {},
   "outputs": [],
   "source": [
    "# projects_df6.program_year.value_counts()"
   ]
  },
  {
   "cell_type": "code",
   "execution_count": null,
   "id": "ecbe5e05",
   "metadata": {},
   "outputs": [],
   "source": []
  },
  {
   "cell_type": "markdown",
   "id": "9385d367",
   "metadata": {},
   "source": [
    "## Project Letter Components \n",
    "* Might not need to addthis?"
   ]
  },
  {
   "cell_type": "code",
   "execution_count": null,
   "id": "c48b40f2",
   "metadata": {},
   "outputs": [],
   "source": [
    "#project_letter_df = pd.read_sql_query(\"\"\" \n",
    "#SELECT finance_letter_item_code, item_code_desc FROM finance_letter_components\n",
    "#\"\"\", engine) "
   ]
  },
  {
   "cell_type": "code",
   "execution_count": null,
   "id": "efbe0740",
   "metadata": {},
   "outputs": [],
   "source": [
    "#project_letter_df"
   ]
  }
 ],
 "metadata": {
  "kernelspec": {
   "display_name": "Python 3 (ipykernel)",
   "language": "python",
   "name": "python3"
  },
  "language_info": {
   "codemirror_mode": {
    "name": "ipython",
    "version": 3
   },
   "file_extension": ".py",
   "mimetype": "text/x-python",
   "name": "python",
   "nbconvert_exporter": "python",
   "pygments_lexer": "ipython3",
   "version": "3.9.13"
  }
 },
 "nbformat": 4,
 "nbformat_minor": 5
}
