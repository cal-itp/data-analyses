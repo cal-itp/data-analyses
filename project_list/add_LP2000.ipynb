{
 "cells": [
  {
   "cell_type": "code",
   "execution_count": 1,
   "id": "9863b19b",
   "metadata": {},
   "outputs": [],
   "source": [
    "import pandas as pd \n",
    "import sqlalchemy \n",
    "import sys \n",
    "import re\n",
    "import oracledb "
   ]
  },
  {
   "cell_type": "code",
   "execution_count": 2,
   "id": "a01795a9",
   "metadata": {},
   "outputs": [],
   "source": [
    "oracledb.version = \"8.3.0\" \n",
    "sys.modules[\"cx_Oracle\"] = oracledb "
   ]
  },
  {
   "cell_type": "code",
   "execution_count": 3,
   "id": "a4a92cb5",
   "metadata": {},
   "outputs": [],
   "source": [
    "pd.options.display.max_columns = 100\n",
    "pd.options.display.float_format = \"{:.2f}\".format\n",
    "pd.set_option(\"display.max_rows\", None)\n",
    "pd.set_option(\"display.max_colwidth\", None)"
   ]
  },
  {
   "cell_type": "code",
   "execution_count": 5,
   "id": "d2d424fa",
   "metadata": {},
   "outputs": [],
   "source": [
    "DIALECT = 'oracle'  "
   ]
  },
  {
   "cell_type": "code",
   "execution_count": 6,
   "id": "d0c0fba7",
   "metadata": {},
   "outputs": [],
   "source": [
    "ENGINE_PATH_WIN_AUTH =  f\"{DIALECT}://{USERNAME}:{PASSWORD}@{HOST}:{PORT}/?service_name={SERVICE}\" "
   ]
  },
  {
   "cell_type": "code",
   "execution_count": 7,
   "id": "72c48a64",
   "metadata": {},
   "outputs": [],
   "source": [
    "engine = sqlalchemy.create_engine(ENGINE_PATH_WIN_AUTH)   "
   ]
  },
  {
   "cell_type": "code",
   "execution_count": 8,
   "id": "b7ea8fb7",
   "metadata": {},
   "outputs": [],
   "source": [
    "def to_snakecase(df):\n",
    "    df.columns = df.columns.str.lower().str.replace(' ','_')\n",
    "    return df"
   ]
  },
  {
   "cell_type": "markdown",
   "id": "2beaf7dc",
   "metadata": {},
   "source": [
    "## Projects\n",
    "* Each project has a unique row\n",
    "* Use status_code to filter only for active projects"
   ]
  },
  {
   "cell_type": "code",
   "execution_count": 9,
   "id": "d118c6bb",
   "metadata": {
    "scrolled": true
   },
   "outputs": [],
   "source": [
    "projects_df = pd.read_sql_query(\"\"\" \n",
    "SELECT \n",
    "projects.project_id,\n",
    "projects.county_code,\n",
    "projects.comment_desc,\n",
    "projects.district_code, \n",
    "projects.est_total_prj_costs,\n",
    "projects.location_name,\n",
    "projects.project_label_name,\n",
    "projects.original_post_mile_begin_id,\n",
    "projects.original_post_mile_end_id,\n",
    "projects.revised_post_mile_begin_ind,\n",
    "projects.revised_post_mile_end_ind,\n",
    "projects.route_name,\n",
    "projects.state_hwy_ind,\n",
    "projects.senate_district_code,\n",
    "local_agencies.agency_name,\n",
    "local_agencies.urban_area_code,\n",
    "counties.county_name,\n",
    "work_types.work_type_desc,\n",
    "project_category_type_codes.category_desc\n",
    "FROM projects \n",
    "LEFT JOIN local_agencies ON projects.agency_code = local_agencies.agency_code\n",
    "LEFT JOIN counties ON projects.county_code = counties.county_code\n",
    "LEFT JOIN work_types ON projects.work_type_code = work_types.work_type_code\n",
    "LEFT JOIN project_category_type_codes ON projects.project_category_type_code = project_category_type_codes.category_code\n",
    "WHERE projects.status_code = 'Active'\n",
    "\"\"\", engine) "
   ]
  },
  {
   "cell_type": "code",
   "execution_count": 11,
   "id": "37bfbd8a",
   "metadata": {},
   "outputs": [],
   "source": [
    "projects_df.comment_desc = projects_df.comment_desc.fillna(projects_df.category_desc)"
   ]
  },
  {
   "cell_type": "code",
   "execution_count": 12,
   "id": "e016b29c",
   "metadata": {},
   "outputs": [],
   "source": [
    "projects_df.comment_desc = projects_df.comment_desc.fillna(projects_df.work_type_desc)"
   ]
  },
  {
   "cell_type": "code",
   "execution_count": 13,
   "id": "e9961cb5",
   "metadata": {},
   "outputs": [],
   "source": [
    "projects_df = projects_df.drop(columns = ['category_desc','work_type_desc'])"
   ]
  },
  {
   "cell_type": "code",
   "execution_count": 14,
   "id": "6d4a4241",
   "metadata": {},
   "outputs": [],
   "source": [
    "projects_df['current_phase'] = 'single phase'"
   ]
  },
  {
   "cell_type": "code",
   "execution_count": 15,
   "id": "298f7f73",
   "metadata": {},
   "outputs": [
    {
     "name": "stdout",
     "output_type": "stream",
     "text": [
      "<class 'pandas.core.frame.DataFrame'>\n",
      "RangeIndex: 11645 entries, 0 to 11644\n",
      "Data columns (total 19 columns):\n",
      " #   Column                       Non-Null Count  Dtype  \n",
      "---  ------                       --------------  -----  \n",
      " 0   project_id                   11645 non-null  object \n",
      " 1   county_code                  11640 non-null  object \n",
      " 2   comment_desc                 10766 non-null  object \n",
      " 3   district_code                11644 non-null  object \n",
      " 4   est_total_prj_costs          976 non-null    float64\n",
      " 5   location_name                11277 non-null  object \n",
      " 6   project_label_name           10791 non-null  object \n",
      " 7   project_planning_id          2048 non-null   object \n",
      " 8   original_post_mile_begin_id  750 non-null    float64\n",
      " 9   original_post_mile_end_id    576 non-null    float64\n",
      " 10  revised_post_mile_begin_ind  20 non-null     object \n",
      " 11  revised_post_mile_end_ind    15 non-null     object \n",
      " 12  route_name                   11324 non-null  object \n",
      " 13  state_hwy_ind                11282 non-null  object \n",
      " 14  senate_district_code         0 non-null      object \n",
      " 15  agency_name                  11644 non-null  object \n",
      " 16  urban_area_code              5756 non-null   object \n",
      " 17  county_name                  11640 non-null  object \n",
      " 18  current_phase                11645 non-null  object \n",
      "dtypes: float64(3), object(16)\n",
      "memory usage: 1.7+ MB\n"
     ]
    }
   ],
   "source": [
    "projects_df.info()"
   ]
  },
  {
   "cell_type": "code",
   "execution_count": 16,
   "id": "cd4bed14",
   "metadata": {},
   "outputs": [
    {
     "data": {
      "text/html": [
       "<div>\n",
       "<style scoped>\n",
       "    .dataframe tbody tr th:only-of-type {\n",
       "        vertical-align: middle;\n",
       "    }\n",
       "\n",
       "    .dataframe tbody tr th {\n",
       "        vertical-align: top;\n",
       "    }\n",
       "\n",
       "    .dataframe thead th {\n",
       "        text-align: right;\n",
       "    }\n",
       "</style>\n",
       "<table border=\"1\" class=\"dataframe\">\n",
       "  <thead>\n",
       "    <tr style=\"text-align: right;\">\n",
       "      <th></th>\n",
       "      <th>project_id</th>\n",
       "      <th>county_code</th>\n",
       "      <th>comment_desc</th>\n",
       "      <th>district_code</th>\n",
       "      <th>est_total_prj_costs</th>\n",
       "      <th>location_name</th>\n",
       "      <th>project_label_name</th>\n",
       "      <th>project_planning_id</th>\n",
       "      <th>original_post_mile_begin_id</th>\n",
       "      <th>original_post_mile_end_id</th>\n",
       "      <th>revised_post_mile_begin_ind</th>\n",
       "      <th>revised_post_mile_end_ind</th>\n",
       "      <th>route_name</th>\n",
       "      <th>state_hwy_ind</th>\n",
       "      <th>senate_district_code</th>\n",
       "      <th>agency_name</th>\n",
       "      <th>urban_area_code</th>\n",
       "      <th>county_name</th>\n",
       "      <th>current_phase</th>\n",
       "    </tr>\n",
       "  </thead>\n",
       "  <tbody>\n",
       "    <tr>\n",
       "      <th>1070</th>\n",
       "      <td>5006(791)</td>\n",
       "      <td>5953</td>\n",
       "      <td>Unique Project ID; HSIP6-07-017\\n\\n08/1/18     3 LOCATIONS ONLY at CON</td>\n",
       "      <td>07</td>\n",
       "      <td>NaN</td>\n",
       "      <td>Olympic Blvd/Orme Ave, Olympic Blvd/Camulos St, Olympic Blvd/S Dacotah St</td>\n",
       "      <td>Install Activated Pedestrian Warning Devices (APWDs); construct bulb-outs</td>\n",
       "      <td>None</td>\n",
       "      <td>NaN</td>\n",
       "      <td>NaN</td>\n",
       "      <td>None</td>\n",
       "      <td>None</td>\n",
       "      <td>0-LA</td>\n",
       "      <td>N</td>\n",
       "      <td>None</td>\n",
       "      <td>Los Angeles</td>\n",
       "      <td>3041</td>\n",
       "      <td>Los Angeles County</td>\n",
       "      <td>single phase</td>\n",
       "    </tr>\n",
       "    <tr>\n",
       "      <th>3538</th>\n",
       "      <td>5108(017)</td>\n",
       "      <td>5953</td>\n",
       "      <td>inactive</td>\n",
       "      <td>07</td>\n",
       "      <td>NaN</td>\n",
       "      <td>ORANGE AVE.: PACIFIC COAST HWY. TO 20TH ST.</td>\n",
       "      <td>RESURF./RECON PAVEMENT/WIDEN/SIGNALS</td>\n",
       "      <td>None</td>\n",
       "      <td>0.00</td>\n",
       "      <td>0.00</td>\n",
       "      <td>None</td>\n",
       "      <td>None</td>\n",
       "      <td>0-LBCH</td>\n",
       "      <td>N</td>\n",
       "      <td>None</td>\n",
       "      <td>Long Beach</td>\n",
       "      <td>3041</td>\n",
       "      <td>Los Angeles County</td>\n",
       "      <td>single phase</td>\n",
       "    </tr>\n",
       "    <tr>\n",
       "      <th>10375</th>\n",
       "      <td>15J7(021)</td>\n",
       "      <td>5936</td>\n",
       "      <td>LTP-SCRCO-018\\n\\nEO only</td>\n",
       "      <td>05</td>\n",
       "      <td>892755.00</td>\n",
       "      <td>Soquel San Jose PM 6.59</td>\n",
       "      <td>Road Reconstruction</td>\n",
       "      <td>None</td>\n",
       "      <td>NaN</td>\n",
       "      <td>NaN</td>\n",
       "      <td>None</td>\n",
       "      <td>None</td>\n",
       "      <td>0-CR</td>\n",
       "      <td>N</td>\n",
       "      <td>None</td>\n",
       "      <td>Santa Cruz County</td>\n",
       "      <td>None</td>\n",
       "      <td>Santa Cruz County</td>\n",
       "      <td>single phase</td>\n",
       "    </tr>\n",
       "  </tbody>\n",
       "</table>\n",
       "</div>"
      ],
      "text/plain": [
       "      project_id county_code  \\\n",
       "1070   5006(791)        5953   \n",
       "3538   5108(017)        5953   \n",
       "10375  15J7(021)        5936   \n",
       "\n",
       "                                                                 comment_desc  \\\n",
       "1070   Unique Project ID; HSIP6-07-017\\n\\n08/1/18     3 LOCATIONS ONLY at CON   \n",
       "3538                                                                 inactive   \n",
       "10375                                                LTP-SCRCO-018\\n\\nEO only   \n",
       "\n",
       "      district_code  est_total_prj_costs  \\\n",
       "1070             07                  NaN   \n",
       "3538             07                  NaN   \n",
       "10375            05            892755.00   \n",
       "\n",
       "                                                                   location_name  \\\n",
       "1070   Olympic Blvd/Orme Ave, Olympic Blvd/Camulos St, Olympic Blvd/S Dacotah St   \n",
       "3538                                 ORANGE AVE.: PACIFIC COAST HWY. TO 20TH ST.   \n",
       "10375                                                    Soquel San Jose PM 6.59   \n",
       "\n",
       "                                                              project_label_name  \\\n",
       "1070   Install Activated Pedestrian Warning Devices (APWDs); construct bulb-outs   \n",
       "3538                                        RESURF./RECON PAVEMENT/WIDEN/SIGNALS   \n",
       "10375                                                        Road Reconstruction   \n",
       "\n",
       "      project_planning_id  original_post_mile_begin_id  \\\n",
       "1070                 None                          NaN   \n",
       "3538                 None                         0.00   \n",
       "10375                None                          NaN   \n",
       "\n",
       "       original_post_mile_end_id revised_post_mile_begin_ind  \\\n",
       "1070                         NaN                        None   \n",
       "3538                        0.00                        None   \n",
       "10375                        NaN                        None   \n",
       "\n",
       "      revised_post_mile_end_ind route_name state_hwy_ind senate_district_code  \\\n",
       "1070                       None       0-LA             N                 None   \n",
       "3538                       None     0-LBCH             N                 None   \n",
       "10375                      None       0-CR             N                 None   \n",
       "\n",
       "             agency_name urban_area_code         county_name current_phase  \n",
       "1070         Los Angeles            3041  Los Angeles County  single phase  \n",
       "3538          Long Beach            3041  Los Angeles County  single phase  \n",
       "10375  Santa Cruz County            None   Santa Cruz County  single phase  "
      ]
     },
     "execution_count": 16,
     "metadata": {},
     "output_type": "execute_result"
    }
   ],
   "source": [
    "projects_df.sample(3)"
   ]
  },
  {
   "cell_type": "markdown",
   "id": "9f5a4b2b",
   "metadata": {},
   "source": [
    "## EA Number\n",
    "* Projects can have multiple EA numbers.\n",
    "* Should we keep the most recent EA or all of them -> Ask Tony Hunt."
   ]
  },
  {
   "cell_type": "code",
   "execution_count": 17,
   "id": "84e9b782",
   "metadata": {},
   "outputs": [],
   "source": [
    "ea_df = pd.read_sql_query(\"\"\" \n",
    "SELECT \n",
    "project_id, \n",
    "district_code,\n",
    "ea_assign_date, \n",
    "expense_authorization_id \n",
    "FROM expense_authorizations\n",
    "\"\"\", engine) "
   ]
  },
  {
   "cell_type": "code",
   "execution_count": 18,
   "id": "69cce4cb",
   "metadata": {},
   "outputs": [
    {
     "data": {
      "text/plain": [
       "((49431, 4), 24130)"
      ]
     },
     "execution_count": 18,
     "metadata": {},
     "output_type": "execute_result"
    }
   ],
   "source": [
    "ea_df.shape, ea_df.project_id.nunique()"
   ]
  },
  {
   "cell_type": "code",
   "execution_count": 19,
   "id": "fba0025b",
   "metadata": {},
   "outputs": [],
   "source": [
    "# Do an outer join to understand what's going on under the hood\n",
    "# outer_join = pd.merge(ea_df, projects_df4, on = ['district_code','project_id'], how = \"outer\", indicator = True)"
   ]
  },
  {
   "cell_type": "code",
   "execution_count": 20,
   "id": "08c2bad9",
   "metadata": {},
   "outputs": [],
   "source": [
    "# outer_join[['_merge']].value_counts()"
   ]
  },
  {
   "cell_type": "code",
   "execution_count": 21,
   "id": "6d53c9ea",
   "metadata": {},
   "outputs": [],
   "source": [
    "# Understand why there are more rows compared to project_ids that are unique\n",
    "# outer_join.loc[outer_join._merge == \"both\"][['project_id']].nunique()"
   ]
  },
  {
   "cell_type": "code",
   "execution_count": 22,
   "id": "411ad670",
   "metadata": {},
   "outputs": [],
   "source": [
    "# Do an inner merge to get only projects we care about\n",
    "ea_df = pd.merge(projects_df, ea_df, on = ['district_code','project_id'], how = \"inner\")"
   ]
  },
  {
   "cell_type": "code",
   "execution_count": 23,
   "id": "4457a640",
   "metadata": {},
   "outputs": [],
   "source": [
    "ea_og_cols = ['district_code', 'expense_authorization_id', 'project_id',\n",
    "      'ea_assign_date']"
   ]
  },
  {
   "cell_type": "code",
   "execution_count": 24,
   "id": "d8f3ea66",
   "metadata": {},
   "outputs": [],
   "source": [
    "# Keep only original columns \n",
    "ea_df = ea_df[ea_og_cols]"
   ]
  },
  {
   "cell_type": "code",
   "execution_count": 25,
   "id": "ca6e1e2f",
   "metadata": {},
   "outputs": [
    {
     "data": {
      "text/plain": [
       "3030"
      ]
     },
     "execution_count": 25,
     "metadata": {},
     "output_type": "execute_result"
    }
   ],
   "source": [
    "len(ea_df)"
   ]
  },
  {
   "cell_type": "code",
   "execution_count": 26,
   "id": "f03748e9",
   "metadata": {},
   "outputs": [
    {
     "data": {
      "text/plain": [
       "count   2944.00\n",
       "mean       1.03\n",
       "std        0.18\n",
       "min        1.00\n",
       "25%        1.00\n",
       "50%        1.00\n",
       "75%        1.00\n",
       "max        3.00\n",
       "Name: project_id, dtype: float64"
      ]
     },
     "execution_count": 26,
     "metadata": {},
     "output_type": "execute_result"
    }
   ],
   "source": [
    "ea_df.project_id.value_counts().describe()"
   ]
  },
  {
   "cell_type": "code",
   "execution_count": 27,
   "id": "d74b9488",
   "metadata": {},
   "outputs": [
    {
     "data": {
      "text/plain": [
       "2944"
      ]
     },
     "execution_count": 27,
     "metadata": {},
     "output_type": "execute_result"
    }
   ],
   "source": [
    "ea_df.project_id.nunique()"
   ]
  },
  {
   "cell_type": "code",
   "execution_count": 28,
   "id": "11cc8d6d",
   "metadata": {},
   "outputs": [
    {
     "data": {
      "text/plain": [
       "5006(504)    3\n",
       "5953(536)    3\n",
       "5932(042)    3\n",
       "5006(635)    3\n",
       "5008(072)    3\n",
       "Name: project_id, dtype: int64"
      ]
     },
     "execution_count": 28,
     "metadata": {},
     "output_type": "execute_result"
    }
   ],
   "source": [
    "ea_df.project_id.value_counts().head()"
   ]
  },
  {
   "cell_type": "code",
   "execution_count": 29,
   "id": "8f95e0f5",
   "metadata": {},
   "outputs": [
    {
     "data": {
      "text/html": [
       "<div>\n",
       "<style scoped>\n",
       "    .dataframe tbody tr th:only-of-type {\n",
       "        vertical-align: middle;\n",
       "    }\n",
       "\n",
       "    .dataframe tbody tr th {\n",
       "        vertical-align: top;\n",
       "    }\n",
       "\n",
       "    .dataframe thead th {\n",
       "        text-align: right;\n",
       "    }\n",
       "</style>\n",
       "<table border=\"1\" class=\"dataframe\">\n",
       "  <thead>\n",
       "    <tr style=\"text-align: right;\">\n",
       "      <th></th>\n",
       "      <th>district_code</th>\n",
       "      <th>expense_authorization_id</th>\n",
       "      <th>project_id</th>\n",
       "      <th>ea_assign_date</th>\n",
       "    </tr>\n",
       "  </thead>\n",
       "  <tbody>\n",
       "    <tr>\n",
       "      <th>2381</th>\n",
       "      <td>07</td>\n",
       "      <td>4S6608</td>\n",
       "      <td>5006(635)</td>\n",
       "      <td>2009-09-10 13:58:44</td>\n",
       "    </tr>\n",
       "    <tr>\n",
       "      <th>2382</th>\n",
       "      <td>07</td>\n",
       "      <td>933575</td>\n",
       "      <td>5006(635)</td>\n",
       "      <td>2009-07-02 14:46:18</td>\n",
       "    </tr>\n",
       "    <tr>\n",
       "      <th>2383</th>\n",
       "      <td>07</td>\n",
       "      <td>4U4414</td>\n",
       "      <td>5006(635)</td>\n",
       "      <td>2009-09-10 13:56:35</td>\n",
       "    </tr>\n",
       "  </tbody>\n",
       "</table>\n",
       "</div>"
      ],
      "text/plain": [
       "     district_code expense_authorization_id project_id      ea_assign_date\n",
       "2381            07                   4S6608  5006(635) 2009-09-10 13:58:44\n",
       "2382            07                   933575  5006(635) 2009-07-02 14:46:18\n",
       "2383            07                   4U4414  5006(635) 2009-09-10 13:56:35"
      ]
     },
     "execution_count": 29,
     "metadata": {},
     "output_type": "execute_result"
    }
   ],
   "source": [
    "ea_df.loc[ea_df.project_id == '5006(635)']"
   ]
  },
  {
   "cell_type": "code",
   "execution_count": 30,
   "id": "3f2efd76",
   "metadata": {},
   "outputs": [],
   "source": [
    "# Keep only the most recent EA number so only one EA number per project??\n",
    "ea_df2 = (ea_df\n",
    "          .sort_values(['ea_assign_date'], ascending = False)\n",
    "          .drop_duplicates(subset=['project_id','district_code'])\n",
    "          .drop(columns = ['ea_assign_date'])\n",
    "          .reset_index(drop = True)\n",
    "         )"
   ]
  },
  {
   "cell_type": "code",
   "execution_count": 31,
   "id": "0b74540f",
   "metadata": {},
   "outputs": [
    {
     "data": {
      "text/plain": [
       "2944"
      ]
     },
     "execution_count": 31,
     "metadata": {},
     "output_type": "execute_result"
    }
   ],
   "source": [
    "ea_df2.project_id.nunique()"
   ]
  },
  {
   "cell_type": "code",
   "execution_count": 32,
   "id": "45ba9352",
   "metadata": {},
   "outputs": [
    {
     "data": {
      "text/html": [
       "<div>\n",
       "<style scoped>\n",
       "    .dataframe tbody tr th:only-of-type {\n",
       "        vertical-align: middle;\n",
       "    }\n",
       "\n",
       "    .dataframe tbody tr th {\n",
       "        vertical-align: top;\n",
       "    }\n",
       "\n",
       "    .dataframe thead th {\n",
       "        text-align: right;\n",
       "    }\n",
       "</style>\n",
       "<table border=\"1\" class=\"dataframe\">\n",
       "  <thead>\n",
       "    <tr style=\"text-align: right;\">\n",
       "      <th></th>\n",
       "      <th>district_code</th>\n",
       "      <th>expense_authorization_id</th>\n",
       "      <th>project_id</th>\n",
       "    </tr>\n",
       "  </thead>\n",
       "  <tbody>\n",
       "    <tr>\n",
       "      <th>0</th>\n",
       "      <td>04</td>\n",
       "      <td>1Q7614</td>\n",
       "      <td>6204(135)</td>\n",
       "    </tr>\n",
       "    <tr>\n",
       "      <th>1</th>\n",
       "      <td>04</td>\n",
       "      <td>985981</td>\n",
       "      <td>6480(026)</td>\n",
       "    </tr>\n",
       "    <tr>\n",
       "      <th>2</th>\n",
       "      <td>04</td>\n",
       "      <td>985980</td>\n",
       "      <td>5933(171)</td>\n",
       "    </tr>\n",
       "    <tr>\n",
       "      <th>3</th>\n",
       "      <td>09</td>\n",
       "      <td>955175</td>\n",
       "      <td>6142(034)</td>\n",
       "    </tr>\n",
       "    <tr>\n",
       "      <th>4</th>\n",
       "      <td>04</td>\n",
       "      <td>985979</td>\n",
       "      <td>5178(016)</td>\n",
       "    </tr>\n",
       "  </tbody>\n",
       "</table>\n",
       "</div>"
      ],
      "text/plain": [
       "  district_code expense_authorization_id project_id\n",
       "0            04                   1Q7614  6204(135)\n",
       "1            04                   985981  6480(026)\n",
       "2            04                   985980  5933(171)\n",
       "3            09                   955175  6142(034)\n",
       "4            04                   985979  5178(016)"
      ]
     },
     "execution_count": 32,
     "metadata": {},
     "output_type": "execute_result"
    }
   ],
   "source": [
    "ea_df2.head()"
   ]
  },
  {
   "cell_type": "code",
   "execution_count": 33,
   "id": "1104879f",
   "metadata": {},
   "outputs": [
    {
     "data": {
      "text/plain": [
       "2873"
      ]
     },
     "execution_count": 33,
     "metadata": {},
     "output_type": "execute_result"
    }
   ],
   "source": [
    "ea_df2.expense_authorization_id.nunique()"
   ]
  },
  {
   "cell_type": "markdown",
   "id": "45a7cb57",
   "metadata": {},
   "source": [
    "#### The same EA number matches to multiple projects\n",
    "* Understand why this is happening\n",
    "* It seems like the same EA number matches multiple projects that have nothing in common."
   ]
  },
  {
   "cell_type": "code",
   "execution_count": 34,
   "id": "0db7e472",
   "metadata": {},
   "outputs": [],
   "source": [
    "#ea_df.loc[ea_df.expense_authorization_id == \"924969\"]"
   ]
  },
  {
   "cell_type": "code",
   "execution_count": 35,
   "id": "a85ee96e",
   "metadata": {},
   "outputs": [],
   "source": [
    "#ea_df.loc[ea_df.expense_authorization_id == \"924360\"]"
   ]
  },
  {
   "cell_type": "code",
   "execution_count": 36,
   "id": "87678947",
   "metadata": {},
   "outputs": [],
   "source": [
    "#ea_df2.project_id.nunique() == len(ea_df2)"
   ]
  },
  {
   "cell_type": "code",
   "execution_count": 37,
   "id": "adeec654",
   "metadata": {},
   "outputs": [],
   "source": [
    "#len(projects_df6) == len(projects_df)"
   ]
  },
  {
   "cell_type": "markdown",
   "id": "fe14921b",
   "metadata": {},
   "source": [
    "* Shares the EA of 924360"
   ]
  },
  {
   "cell_type": "code",
   "execution_count": 38,
   "id": "19294f14",
   "metadata": {},
   "outputs": [],
   "source": [
    "#projects_df6.loc[projects_df6.project_id == '0061(025)'][preview_cols]"
   ]
  },
  {
   "cell_type": "markdown",
   "id": "7ac6f63b",
   "metadata": {},
   "source": [
    "## EFIS_MV_BUD_STRU_94_LVL_3_VW"
   ]
  },
  {
   "cell_type": "code",
   "execution_count": 39,
   "id": "1a581026",
   "metadata": {},
   "outputs": [],
   "source": [
    "efis_df = pd.read_sql_query(\"\"\" \n",
    "SELECT \n",
    "adv_project_id,\n",
    "fund_code,\n",
    "pec_code,\n",
    "appropriation_category_code,\n",
    "curr_bud_am,\n",
    "cash_exp_am,\n",
    "pect_task_code\n",
    "FROM EFIS_MV_BUD_STRU_94_LVL_3_VW\n",
    "WHERE pec_code LIKE '%2030%'\n",
    "\"\"\", engine) "
   ]
  },
  {
   "cell_type": "code",
   "execution_count": 40,
   "id": "6d224cf7",
   "metadata": {},
   "outputs": [
    {
     "data": {
      "text/plain": [
       "(45133, 7)"
      ]
     },
     "execution_count": 40,
     "metadata": {},
     "output_type": "execute_result"
    }
   ],
   "source": [
    "efis_df.shape"
   ]
  },
  {
   "cell_type": "code",
   "execution_count": 41,
   "id": "33716cff",
   "metadata": {},
   "outputs": [
    {
     "data": {
      "text/plain": [
       "19497"
      ]
     },
     "execution_count": 41,
     "metadata": {},
     "output_type": "execute_result"
    }
   ],
   "source": [
    "efis_df.adv_project_id.nunique()"
   ]
  },
  {
   "cell_type": "markdown",
   "id": "ba3aeb53",
   "metadata": {},
   "source": [
    "### Efis Join\n",
    "\n",
    "* In SQL: Filtering out 9's also eliminates nulls, which means newer projects or projects with statuses are also eliminated\n"
   ]
  },
  {
   "cell_type": "code",
   "execution_count": 42,
   "id": "c1f57ca7",
   "metadata": {},
   "outputs": [],
   "source": [
    "efis_join_df = pd.read_sql_query(\"\"\" \n",
    "SELECT \n",
    "adv_project_id,\n",
    "project_id,\n",
    "project_status_code\n",
    "FROM EFIS_MV_R_PROG_VW \n",
    "\"\"\", engine) "
   ]
  },
  {
   "cell_type": "markdown",
   "id": "bbb49a0b",
   "metadata": {},
   "source": [
    "* Exclude project status because it's just the financial status of the project, not construction or whatever."
   ]
  },
  {
   "cell_type": "code",
   "execution_count": 43,
   "id": "2d682515",
   "metadata": {},
   "outputs": [],
   "source": [
    "#project_status = pd.read_sql_query(\"\"\" \n",
    "#SELECT DISTINCT project_status_code, \n",
    "#project_status\n",
    "#FROM ACCOUNTING_EXP_CWA_VW  \n",
    "#\"\"\", engine) "
   ]
  },
  {
   "cell_type": "code",
   "execution_count": 44,
   "id": "e2ce386e",
   "metadata": {},
   "outputs": [],
   "source": [
    "# project_status"
   ]
  },
  {
   "cell_type": "code",
   "execution_count": 45,
   "id": "3236ccaf",
   "metadata": {},
   "outputs": [],
   "source": [
    "# Have to fill in nans with no status\n",
    "efis_join_df.project_status_code = efis_join_df.project_status_code.fillna('no status')"
   ]
  },
  {
   "cell_type": "code",
   "execution_count": 46,
   "id": "fbd78520",
   "metadata": {},
   "outputs": [],
   "source": [
    "# Filter out all 9 codes because this means the project is closed\n",
    "efis_join_df2 = efis_join_df.loc[~efis_join_df.project_status_code.str.contains('9')]"
   ]
  },
  {
   "cell_type": "code",
   "execution_count": 47,
   "id": "70b876ef",
   "metadata": {},
   "outputs": [],
   "source": [
    "# Drop project status code. This is just about the project status from the \n",
    "# Accounting POV\n",
    "efis_join_df2 = efis_join_df2.drop(columns = ['project_status_code'])"
   ]
  },
  {
   "cell_type": "code",
   "execution_count": 48,
   "id": "177e6305",
   "metadata": {},
   "outputs": [
    {
     "data": {
      "text/plain": [
       "_merge    \n",
       "left_only     33921\n",
       "both          11227\n",
       "right_only       88\n",
       "dtype: int64"
      ]
     },
     "execution_count": 48,
     "metadata": {},
     "output_type": "execute_result"
    }
   ],
   "source": [
    "pd.merge(efis_df, efis_join_df2, on = ['adv_project_id'], how = 'outer', indicator = True)[['_merge']].value_counts()"
   ]
  },
  {
   "cell_type": "code",
   "execution_count": 49,
   "id": "c10f1f95",
   "metadata": {},
   "outputs": [],
   "source": [
    "efis_m1 = pd.merge(efis_df, efis_join_df2, on = ['adv_project_id'], how = 'inner')"
   ]
  },
  {
   "cell_type": "code",
   "execution_count": 50,
   "id": "5230f383",
   "metadata": {},
   "outputs": [
    {
     "data": {
      "text/plain": [
       "4891"
      ]
     },
     "execution_count": 50,
     "metadata": {},
     "output_type": "execute_result"
    }
   ],
   "source": [
    "efis_join_df2.project_id.nunique()"
   ]
  },
  {
   "cell_type": "code",
   "execution_count": 51,
   "id": "76d46094",
   "metadata": {},
   "outputs": [
    {
     "data": {
      "text/plain": [
       "4818"
      ]
     },
     "execution_count": 51,
     "metadata": {},
     "output_type": "execute_result"
    }
   ],
   "source": [
    "efis_m1.project_id.nunique()"
   ]
  },
  {
   "cell_type": "markdown",
   "id": "74bd4e05",
   "metadata": {},
   "source": [
    "## Subset only  for the project_ids from `Projects`\n",
    "* Before manipulating"
   ]
  },
  {
   "cell_type": "code",
   "execution_count": 52,
   "id": "b8db5fcc",
   "metadata": {},
   "outputs": [],
   "source": [
    "projects_df_subset = projects_df[['project_id']]"
   ]
  },
  {
   "cell_type": "code",
   "execution_count": 53,
   "id": "43e99104",
   "metadata": {},
   "outputs": [
    {
     "data": {
      "text/plain": [
       "(11645, 1)"
      ]
     },
     "execution_count": 53,
     "metadata": {},
     "output_type": "execute_result"
    }
   ],
   "source": [
    "projects_df_subset.shape"
   ]
  },
  {
   "cell_type": "code",
   "execution_count": 54,
   "id": "7b43c985",
   "metadata": {},
   "outputs": [
    {
     "data": {
      "text/plain": [
       "_merge    \n",
       "both          10566\n",
       "right_only     7238\n",
       "left_only       661\n",
       "dtype: int64"
      ]
     },
     "execution_count": 54,
     "metadata": {},
     "output_type": "execute_result"
    }
   ],
   "source": [
    "pd.merge(efis_m1, projects_df_subset, on = ['project_id'], how = 'outer', indicator = True)[['_merge']].value_counts()"
   ]
  },
  {
   "cell_type": "code",
   "execution_count": 55,
   "id": "3b0f54b4",
   "metadata": {},
   "outputs": [],
   "source": [
    "accounting_df = pd.merge(efis_m1, projects_df_subset, on = ['project_id'], how = 'inner')"
   ]
  },
  {
   "cell_type": "code",
   "execution_count": 56,
   "id": "45d0df78",
   "metadata": {},
   "outputs": [
    {
     "data": {
      "text/plain": [
       "4407"
      ]
     },
     "execution_count": 56,
     "metadata": {},
     "output_type": "execute_result"
    }
   ],
   "source": [
    "\n",
    "accounting_df.project_id.nunique()"
   ]
  },
  {
   "cell_type": "code",
   "execution_count": 57,
   "id": "0fbfa71b",
   "metadata": {},
   "outputs": [
    {
     "data": {
      "text/plain": [
       "6211(130)    32\n",
       "5908(031)    28\n",
       "6211(131)    27\n",
       "6053(130)    25\n",
       "5006(219)    23\n",
       "Name: project_id, dtype: int64"
      ]
     },
     "execution_count": 57,
     "metadata": {},
     "output_type": "execute_result"
    }
   ],
   "source": [
    "accounting_df.project_id.value_counts().head()"
   ]
  },
  {
   "cell_type": "markdown",
   "id": "c26e3c01",
   "metadata": {},
   "source": [
    "## Bring in pect_description for `Projects` -> Double Check\n",
    "* PEC codes that are not supposed to have a corresponding PECT code have one after my manipulation -> Correct this.\n",
    "* Also need to keep the second duplicate because it's the more recent one\n",
    "* "
   ]
  },
  {
   "cell_type": "code",
   "execution_count": 58,
   "id": "3114bbc7",
   "metadata": {},
   "outputs": [],
   "source": [
    "def load_pec(excel_file:str)-> pd.DataFrame:\n",
    "    df = to_snakecase(pd.read_excel(excel_file))\n",
    "    # Drop rows that are all nan\n",
    "    df = df.dropna(how='all').reset_index(drop =  True)\n",
    "    \n",
    "    # Keep ONLY rows that have \"X\" under 23/24\n",
    "    df2 = df.loc[df['23/24'] == 'X'].reset_index(drop = True)\n",
    "    \n",
    "    # Find program ONLY rows\n",
    "    program_only = (df2\n",
    "             .drop_duplicates(subset = ['pec'])\n",
    "             .dropna(how='all')\n",
    "             .reset_index(drop = True)\n",
    "             .drop(columns = ['pect','19/20', '20/21', '21/22', '22/23', '23/24'])\n",
    "             .rename(columns = {'description':'program'})\n",
    "            )\n",
    "    \n",
    "    m1 = pd.merge(df2, program_only, how = \"left\", on = ['pec'])\n",
    "    m1 = (m1\n",
    "          .sort_values(['pec','pect'], ascending = [True, False])\n",
    "          .drop_duplicates(subset=['pec', 'description', 'program'])\n",
    "          .drop(columns = ['19/20', '20/21', '21/22', '22/23', '23/24'])\n",
    "          .rename(columns = {'description':'pect_description'})\n",
    "          .sort_values(['pec','pect'])\n",
    "          \n",
    "          .reset_index(drop = True)\n",
    "         )\n",
    "\n",
    "    m1.pec = m1.pec.str.replace('.','')\n",
    "    m1.pect = m1.pect.fillna(0).astype(int)\n",
    "    return m1"
   ]
  },
  {
   "cell_type": "code",
   "execution_count": 59,
   "id": "c198307b",
   "metadata": {},
   "outputs": [
    {
     "name": "stderr",
     "output_type": "stream",
     "text": [
      "C:\\Users\\S154408\\AppData\\Local\\ESRI\\conda\\envs\\arcgispro-py3-clone\\lib\\site-packages\\ipykernel_launcher.py:29: FutureWarning: The default value of regex will change from True to False in a future version. In addition, single character regular expressions will*not* be treated as literal strings when regex=True.\n"
     ]
    }
   ],
   "source": [
    "final_pect = load_pec('section2_pect_2023_2024_FY.xlsx')"
   ]
  },
  {
   "cell_type": "code",
   "execution_count": 60,
   "id": "184231f2",
   "metadata": {},
   "outputs": [
    {
     "data": {
      "text/plain": [
       "(799, 4)"
      ]
     },
     "execution_count": 60,
     "metadata": {},
     "output_type": "execute_result"
    }
   ],
   "source": [
    "final_pect.shape"
   ]
  },
  {
   "cell_type": "code",
   "execution_count": 61,
   "id": "928cebda",
   "metadata": {
    "scrolled": true
   },
   "outputs": [],
   "source": [
    "# final_pect"
   ]
  },
  {
   "cell_type": "code",
   "execution_count": 62,
   "id": "b4477ca5",
   "metadata": {},
   "outputs": [],
   "source": [
    "accounting_df.pect_task_code = accounting_df.pect_task_code.fillna(0).astype(int)"
   ]
  },
  {
   "cell_type": "code",
   "execution_count": 63,
   "id": "418face4",
   "metadata": {},
   "outputs": [],
   "source": [
    "pect_df = pd.merge(accounting_df, final_pect, left_on = ['pec_code', 'pect_task_code'], right_on = ['pec', 'pect'], how = 'left')"
   ]
  },
  {
   "cell_type": "code",
   "execution_count": 64,
   "id": "dfecc8eb",
   "metadata": {},
   "outputs": [
    {
     "data": {
      "text/html": [
       "<div>\n",
       "<style scoped>\n",
       "    .dataframe tbody tr th:only-of-type {\n",
       "        vertical-align: middle;\n",
       "    }\n",
       "\n",
       "    .dataframe tbody tr th {\n",
       "        vertical-align: top;\n",
       "    }\n",
       "\n",
       "    .dataframe thead th {\n",
       "        text-align: right;\n",
       "    }\n",
       "</style>\n",
       "<table border=\"1\" class=\"dataframe\">\n",
       "  <thead>\n",
       "    <tr style=\"text-align: right;\">\n",
       "      <th></th>\n",
       "      <th>adv_project_id</th>\n",
       "      <th>fund_code</th>\n",
       "      <th>pec_code</th>\n",
       "      <th>appropriation_category_code</th>\n",
       "      <th>curr_bud_am</th>\n",
       "      <th>cash_exp_am</th>\n",
       "      <th>pect_task_code</th>\n",
       "      <th>project_id</th>\n",
       "    </tr>\n",
       "  </thead>\n",
       "  <tbody>\n",
       "    <tr>\n",
       "      <th>0</th>\n",
       "      <td>0000001449</td>\n",
       "      <td>0042</td>\n",
       "      <td>2030010</td>\n",
       "      <td>0809</td>\n",
       "      <td>0.00</td>\n",
       "      <td>-38.99</td>\n",
       "      <td>535</td>\n",
       "      <td>6200(024)</td>\n",
       "    </tr>\n",
       "  </tbody>\n",
       "</table>\n",
       "</div>"
      ],
      "text/plain": [
       "  adv_project_id fund_code pec_code appropriation_category_code  curr_bud_am  \\\n",
       "0     0000001449      0042  2030010                        0809         0.00   \n",
       "\n",
       "   cash_exp_am  pect_task_code project_id  \n",
       "0       -38.99             535  6200(024)  "
      ]
     },
     "execution_count": 64,
     "metadata": {},
     "output_type": "execute_result"
    }
   ],
   "source": [
    "accounting_df.head(1)"
   ]
  },
  {
   "cell_type": "code",
   "execution_count": 65,
   "id": "57d6dd6b",
   "metadata": {},
   "outputs": [
    {
     "data": {
      "text/html": [
       "<div>\n",
       "<style scoped>\n",
       "    .dataframe tbody tr th:only-of-type {\n",
       "        vertical-align: middle;\n",
       "    }\n",
       "\n",
       "    .dataframe tbody tr th {\n",
       "        vertical-align: top;\n",
       "    }\n",
       "\n",
       "    .dataframe thead th {\n",
       "        text-align: right;\n",
       "    }\n",
       "</style>\n",
       "<table border=\"1\" class=\"dataframe\">\n",
       "  <thead>\n",
       "    <tr style=\"text-align: right;\">\n",
       "      <th></th>\n",
       "      <th>adv_project_id</th>\n",
       "      <th>fund_code</th>\n",
       "      <th>pec_code</th>\n",
       "      <th>appropriation_category_code</th>\n",
       "      <th>curr_bud_am</th>\n",
       "      <th>cash_exp_am</th>\n",
       "      <th>pect_task_code</th>\n",
       "      <th>project_id</th>\n",
       "      <th>pec</th>\n",
       "      <th>pect</th>\n",
       "      <th>pect_description</th>\n",
       "      <th>program</th>\n",
       "    </tr>\n",
       "  </thead>\n",
       "  <tbody>\n",
       "    <tr>\n",
       "      <th>0</th>\n",
       "      <td>0000001449</td>\n",
       "      <td>0042</td>\n",
       "      <td>2030010</td>\n",
       "      <td>0809</td>\n",
       "      <td>0.00</td>\n",
       "      <td>-38.99</td>\n",
       "      <td>535</td>\n",
       "      <td>6200(024)</td>\n",
       "      <td>2030010</td>\n",
       "      <td>535.00</td>\n",
       "      <td>Safe Routes to School (SR2S and SRTS)</td>\n",
       "      <td>Local Assistance</td>\n",
       "    </tr>\n",
       "  </tbody>\n",
       "</table>\n",
       "</div>"
      ],
      "text/plain": [
       "  adv_project_id fund_code pec_code appropriation_category_code  curr_bud_am  \\\n",
       "0     0000001449      0042  2030010                        0809         0.00   \n",
       "\n",
       "   cash_exp_am  pect_task_code project_id      pec   pect  \\\n",
       "0       -38.99             535  6200(024)  2030010 535.00   \n",
       "\n",
       "                        pect_description           program  \n",
       "0  Safe Routes to School (SR2S and SRTS)  Local Assistance  "
      ]
     },
     "execution_count": 65,
     "metadata": {},
     "output_type": "execute_result"
    }
   ],
   "source": [
    "pect_df.head(1)"
   ]
  },
  {
   "cell_type": "code",
   "execution_count": 66,
   "id": "8a5a1e88",
   "metadata": {},
   "outputs": [],
   "source": [
    "# Subset \n",
    "pect_df2 = pect_df[['pect_description','curr_bud_am', 'project_id']]"
   ]
  },
  {
   "cell_type": "code",
   "execution_count": 67,
   "id": "1cc393bc",
   "metadata": {},
   "outputs": [
    {
     "data": {
      "text/plain": [
       "10566"
      ]
     },
     "execution_count": 67,
     "metadata": {},
     "output_type": "execute_result"
    }
   ],
   "source": [
    "len(pect_df2)"
   ]
  },
  {
   "cell_type": "code",
   "execution_count": 68,
   "id": "ce78bc43",
   "metadata": {},
   "outputs": [
    {
     "data": {
      "text/plain": [
       "10368"
      ]
     },
     "execution_count": 68,
     "metadata": {},
     "output_type": "execute_result"
    }
   ],
   "source": [
    "# Drop duplicates because we only need one PECT description & project_id combo\n",
    "len(pect_df2.drop_duplicates())"
   ]
  },
  {
   "cell_type": "code",
   "execution_count": 69,
   "id": "6b8a9794",
   "metadata": {},
   "outputs": [],
   "source": [
    "pect_df2 = pect_df2.drop_duplicates().reset_index(drop = True)"
   ]
  },
  {
   "cell_type": "code",
   "execution_count": 70,
   "id": "bad2947f",
   "metadata": {},
   "outputs": [],
   "source": [
    "# Pivot so the PECT_description becomes the columns\n",
    "# curr_bud_sum are just placeholders\n",
    "pect_df3 = pect_df2.pivot_table(index=['project_id'], columns='pect_description', \n",
    "                    values=['curr_bud_am'], aggfunc='sum')"
   ]
  },
  {
   "cell_type": "code",
   "execution_count": 71,
   "id": "2551c4db",
   "metadata": {},
   "outputs": [],
   "source": [
    "pect_df3.columns = pect_df3.columns.droplevel()"
   ]
  },
  {
   "cell_type": "code",
   "execution_count": 72,
   "id": "95f03084",
   "metadata": {},
   "outputs": [],
   "source": [
    "pect_df3 = pect_df3.reset_index()"
   ]
  },
  {
   "cell_type": "code",
   "execution_count": 73,
   "id": "ed73b9c2",
   "metadata": {},
   "outputs": [],
   "source": [
    "pect_df3 = pect_df3.fillna('No')"
   ]
  },
  {
   "cell_type": "code",
   "execution_count": 74,
   "id": "b83c66cf",
   "metadata": {},
   "outputs": [
    {
     "data": {
      "text/html": [
       "<div>\n",
       "<style scoped>\n",
       "    .dataframe tbody tr th:only-of-type {\n",
       "        vertical-align: middle;\n",
       "    }\n",
       "\n",
       "    .dataframe tbody tr th {\n",
       "        vertical-align: top;\n",
       "    }\n",
       "\n",
       "    .dataframe thead th {\n",
       "        text-align: right;\n",
       "    }\n",
       "</style>\n",
       "<table border=\"1\" class=\"dataframe\">\n",
       "  <thead>\n",
       "    <tr style=\"text-align: right;\">\n",
       "      <th>pect_description</th>\n",
       "      <th>project_id</th>\n",
       "      <th>Active Transportation Program (ATP)</th>\n",
       "      <th>Bridge Inspection &amp; Scour Evaluation</th>\n",
       "      <th>COVID Relief Funds for Highway Infrastructure Programs for STIP-COVID Augmentation</th>\n",
       "      <th>Carbon Reduction Program (CRP)</th>\n",
       "      <th>Congestion Mitigation &amp; Air Quality Improvement Program (CMAQ)</th>\n",
       "      <th>Coronavirus Response and Relief Supplemental Appropriations Act (CRRSAA) Funds</th>\n",
       "      <th>Corridor Mobility Improvement Account (CMIA) Program</th>\n",
       "      <th>County Exchange Funds</th>\n",
       "      <th>County State Match Program</th>\n",
       "      <th>Earmarks Projects (HPP, DEMO CPFCDS, etc.)</th>\n",
       "      <th>Emergency Relief (ER)</th>\n",
       "      <th>Ferry Boat Program (FBP) and Ferry Boat Discretionary (FBD) Program</th>\n",
       "      <th>Funds for Planning, Programming and Monitoring - RIP</th>\n",
       "      <th>General Funded Designated Programs</th>\n",
       "      <th>Hazard Elimination Safety (HES)</th>\n",
       "      <th>High Risk Rural Roads Program (HR3)</th>\n",
       "      <th>Highway Bridge</th>\n",
       "      <th>Highway Safety Improvement Program (HSIP) (Infrastructure)-State Fund</th>\n",
       "      <th>Highway Safety Improvement Program (HSIP) (Non-Infrastructure)</th>\n",
       "      <th>Highway Safety Improvement Program (HSIP)(Infrastructure)-Federal Fund</th>\n",
       "      <th>Local Partnership Program (LPP – Competitive)</th>\n",
       "      <th>Local Roads</th>\n",
       "      <th>Local Roads Rehabilitation</th>\n",
       "      <th>Railroad Grade Crossing Protection</th>\n",
       "      <th>Railroad Grade Separations</th>\n",
       "      <th>Rebuilding American Infrastructure with Sustainability and Equity (RAISE) and Multimodal Project Discretionary Grant Programs (e.g., INFRA, MEGA, RSTG or RURAL)</th>\n",
       "      <th>Regional Improvement Program – Regional Share of STIP Transportation Enhancement (Off System)</th>\n",
       "      <th>Regional Surface Transportation Block Grant Program (RSTBGP) and Highway Infrastructure Program (HIP)</th>\n",
       "      <th>Regional Transportation Planning Agency (RTPA) STP Match Exchange</th>\n",
       "      <th>SB1 Funded Freeway Service Patrol</th>\n",
       "      <th>SHOPP- Traffic Light Synchronization Program (TLSP)- Proposition 1B Bond Funds</th>\n",
       "      <th>Safe Routes to School (SR2S and SRTS)</th>\n",
       "      <th>Set-Aside Coordinated Border Infrastructure (CBI) Program under FAST Act</th>\n",
       "      <th>Solutions for Congested Corridors Program (SCCP)</th>\n",
       "      <th>Special Programs</th>\n",
       "      <th>State-Local Partnership Program (SLPP) and Local Partnership Program (LPP-Formulaic)</th>\n",
       "      <th>Structures Seismic Retrofit</th>\n",
       "      <th>Trade Corridor Enhancement Account (TCEA) Programs – Local Share</th>\n",
       "      <th>Trade Corridor Enhancement Account (TCEA) Programs – State Share</th>\n",
       "      <th>Trade Corridors Improvement Fund (TCIF) Program Local Streets &amp; Roads</th>\n",
       "      <th>Traffic Congestion Relief Program ( TCRP )</th>\n",
       "    </tr>\n",
       "  </thead>\n",
       "  <tbody>\n",
       "    <tr>\n",
       "      <th>3805</th>\n",
       "      <td>6088(082)</td>\n",
       "      <td>No</td>\n",
       "      <td>No</td>\n",
       "      <td>No</td>\n",
       "      <td>No</td>\n",
       "      <td>No</td>\n",
       "      <td>No</td>\n",
       "      <td>No</td>\n",
       "      <td>No</td>\n",
       "      <td>No</td>\n",
       "      <td>No</td>\n",
       "      <td>No</td>\n",
       "      <td>No</td>\n",
       "      <td>290000.0</td>\n",
       "      <td>No</td>\n",
       "      <td>No</td>\n",
       "      <td>No</td>\n",
       "      <td>No</td>\n",
       "      <td>No</td>\n",
       "      <td>No</td>\n",
       "      <td>No</td>\n",
       "      <td>No</td>\n",
       "      <td>No</td>\n",
       "      <td>No</td>\n",
       "      <td>No</td>\n",
       "      <td>No</td>\n",
       "      <td>No</td>\n",
       "      <td>No</td>\n",
       "      <td>No</td>\n",
       "      <td>No</td>\n",
       "      <td>No</td>\n",
       "      <td>No</td>\n",
       "      <td>No</td>\n",
       "      <td>No</td>\n",
       "      <td>No</td>\n",
       "      <td>No</td>\n",
       "      <td>No</td>\n",
       "      <td>No</td>\n",
       "      <td>No</td>\n",
       "      <td>No</td>\n",
       "      <td>No</td>\n",
       "      <td>No</td>\n",
       "    </tr>\n",
       "  </tbody>\n",
       "</table>\n",
       "</div>"
      ],
      "text/plain": [
       "pect_description project_id Active Transportation Program (ATP)  \\\n",
       "3805              6088(082)                                  No   \n",
       "\n",
       "pect_description Bridge Inspection & Scour Evaluation  \\\n",
       "3805                                               No   \n",
       "\n",
       "pect_description COVID Relief Funds for Highway Infrastructure Programs for STIP-COVID Augmentation  \\\n",
       "3805                                                                                             No   \n",
       "\n",
       "pect_description Carbon Reduction Program (CRP)  \\\n",
       "3805                                         No   \n",
       "\n",
       "pect_description Congestion Mitigation & Air Quality Improvement Program (CMAQ)  \\\n",
       "3805                                                                         No   \n",
       "\n",
       "pect_description Coronavirus Response and Relief Supplemental Appropriations Act (CRRSAA) Funds  \\\n",
       "3805                                                                                         No   \n",
       "\n",
       "pect_description Corridor Mobility Improvement Account (CMIA) Program  \\\n",
       "3805                                                               No   \n",
       "\n",
       "pect_description County Exchange Funds County State Match Program  \\\n",
       "3805                                No                         No   \n",
       "\n",
       "pect_description Earmarks Projects (HPP, DEMO CPFCDS, etc.)  \\\n",
       "3805                                                     No   \n",
       "\n",
       "pect_description Emergency Relief (ER)  \\\n",
       "3805                                No   \n",
       "\n",
       "pect_description Ferry Boat Program (FBP) and Ferry Boat Discretionary (FBD) Program  \\\n",
       "3805                                                                              No   \n",
       "\n",
       "pect_description Funds for Planning, Programming and Monitoring - RIP  \\\n",
       "3805                                                         290000.0   \n",
       "\n",
       "pect_description General Funded Designated Programs  \\\n",
       "3805                                             No   \n",
       "\n",
       "pect_description Hazard Elimination Safety (HES)  \\\n",
       "3805                                          No   \n",
       "\n",
       "pect_description High Risk Rural Roads Program (HR3) Highway Bridge   \\\n",
       "3805                                              No              No   \n",
       "\n",
       "pect_description Highway Safety Improvement Program (HSIP) (Infrastructure)-State Fund  \\\n",
       "3805                                                                                No   \n",
       "\n",
       "pect_description Highway Safety Improvement Program (HSIP) (Non-Infrastructure)  \\\n",
       "3805                                                                         No   \n",
       "\n",
       "pect_description Highway Safety Improvement Program (HSIP)(Infrastructure)-Federal Fund  \\\n",
       "3805                                                                                 No   \n",
       "\n",
       "pect_description Local Partnership Program (LPP – Competitive)  Local Roads  \\\n",
       "3805                                                         No          No   \n",
       "\n",
       "pect_description Local Roads Rehabilitation  \\\n",
       "3805                                     No   \n",
       "\n",
       "pect_description Railroad Grade Crossing Protection  \\\n",
       "3805                                             No   \n",
       "\n",
       "pect_description Railroad Grade Separations  \\\n",
       "3805                                     No   \n",
       "\n",
       "pect_description Rebuilding American Infrastructure with Sustainability and Equity (RAISE) and Multimodal Project Discretionary Grant Programs (e.g., INFRA, MEGA, RSTG or RURAL)   \\\n",
       "3805                                                                                                                                                                            No   \n",
       "\n",
       "pect_description Regional Improvement Program – Regional Share of STIP Transportation Enhancement (Off System)  \\\n",
       "3805                                                                                                        No   \n",
       "\n",
       "pect_description Regional Surface Transportation Block Grant Program (RSTBGP) and Highway Infrastructure Program (HIP)  \\\n",
       "3805                                                                                                                No   \n",
       "\n",
       "pect_description Regional Transportation Planning Agency (RTPA) STP Match Exchange  \\\n",
       "3805                                                                            No   \n",
       "\n",
       "pect_description SB1 Funded Freeway Service Patrol  \\\n",
       "3805                                            No   \n",
       "\n",
       "pect_description SHOPP- Traffic Light Synchronization Program (TLSP)- Proposition 1B Bond Funds  \\\n",
       "3805                                                                                         No   \n",
       "\n",
       "pect_description Safe Routes to School (SR2S and SRTS)  \\\n",
       "3805                                                No   \n",
       "\n",
       "pect_description Set-Aside Coordinated Border Infrastructure (CBI) Program under FAST Act  \\\n",
       "3805                                                                                   No   \n",
       "\n",
       "pect_description Solutions for Congested Corridors Program (SCCP)  \\\n",
       "3805                                                           No   \n",
       "\n",
       "pect_description Special Programs  \\\n",
       "3805                           No   \n",
       "\n",
       "pect_description State-Local Partnership Program (SLPP) and Local Partnership Program (LPP-Formulaic)  \\\n",
       "3805                                                                                               No   \n",
       "\n",
       "pect_description Structures Seismic Retrofit   \\\n",
       "3805                                       No   \n",
       "\n",
       "pect_description Trade Corridor Enhancement Account (TCEA) Programs – Local Share  \\\n",
       "3805                                                                           No   \n",
       "\n",
       "pect_description Trade Corridor Enhancement Account (TCEA) Programs – State Share  \\\n",
       "3805                                                                           No   \n",
       "\n",
       "pect_description Trade Corridors Improvement Fund (TCIF) Program Local Streets & Roads  \\\n",
       "3805                                                                                No   \n",
       "\n",
       "pect_description Traffic Congestion Relief Program ( TCRP )  \n",
       "3805                                                     No  "
      ]
     },
     "execution_count": 74,
     "metadata": {},
     "output_type": "execute_result"
    }
   ],
   "source": [
    "pect_df3.sample()"
   ]
  },
  {
   "cell_type": "code",
   "execution_count": 75,
   "id": "a4602e09",
   "metadata": {},
   "outputs": [],
   "source": [
    "# Change integers to yes \n",
    "pect_df3 = pect_df3.mask(pect_df3.apply(lambda x : pd.to_numeric(x,errors='coerce')).notnull(),'Yes')"
   ]
  },
  {
   "cell_type": "code",
   "execution_count": 76,
   "id": "e43b1b61",
   "metadata": {},
   "outputs": [],
   "source": [
    "pect_df3 = to_snakecase(pect_df3)"
   ]
  },
  {
   "cell_type": "code",
   "execution_count": 77,
   "id": "784ac5b7",
   "metadata": {},
   "outputs": [
    {
     "data": {
      "text/plain": [
       "4356"
      ]
     },
     "execution_count": 77,
     "metadata": {},
     "output_type": "execute_result"
    }
   ],
   "source": [
    "pect_df3.project_id.nunique()"
   ]
  },
  {
   "cell_type": "code",
   "execution_count": 78,
   "id": "547cf04c",
   "metadata": {},
   "outputs": [
    {
     "data": {
      "text/plain": [
       "_merge    \n",
       "right_only    7289\n",
       "both          4356\n",
       "left_only        0\n",
       "dtype: int64"
      ]
     },
     "execution_count": 78,
     "metadata": {},
     "output_type": "execute_result"
    }
   ],
   "source": [
    "pd.merge(pect_df3, projects_df, on = ['project_id'], how = 'outer', indicator = True)[['_merge']].value_counts()"
   ]
  },
  {
   "cell_type": "code",
   "execution_count": 79,
   "id": "db82588f",
   "metadata": {},
   "outputs": [],
   "source": [
    "pect_code_cols = list(pect_df3.columns)"
   ]
  },
  {
   "cell_type": "code",
   "execution_count": 80,
   "id": "1a97a0f8",
   "metadata": {},
   "outputs": [],
   "source": [
    "pect_code_cols.remove('project_id')"
   ]
  },
  {
   "cell_type": "code",
   "execution_count": 81,
   "id": "9a6001d8",
   "metadata": {},
   "outputs": [],
   "source": [
    "# Update projects\n",
    "project_df = pd.merge(projects_df, pect_df3, on = ['project_id'], how = 'left')"
   ]
  },
  {
   "cell_type": "code",
   "execution_count": 82,
   "id": "fd7fc638",
   "metadata": {},
   "outputs": [
    {
     "data": {
      "text/plain": [
       "11645"
      ]
     },
     "execution_count": 82,
     "metadata": {},
     "output_type": "execute_result"
    }
   ],
   "source": [
    "project_df.project_id.nunique()"
   ]
  },
  {
   "cell_type": "code",
   "execution_count": 83,
   "id": "7d3e7fec",
   "metadata": {},
   "outputs": [],
   "source": [
    "# Fill in unknown\n",
    "project_df[pect_code_cols] = project_df[pect_code_cols].fillna('Unknown')"
   ]
  },
  {
   "cell_type": "markdown",
   "id": "91ece3f7",
   "metadata": {},
   "source": [
    "### Double check"
   ]
  },
  {
   "cell_type": "code",
   "execution_count": 84,
   "id": "99f487db",
   "metadata": {},
   "outputs": [
    {
     "data": {
      "text/html": [
       "<div>\n",
       "<style scoped>\n",
       "    .dataframe tbody tr th:only-of-type {\n",
       "        vertical-align: middle;\n",
       "    }\n",
       "\n",
       "    .dataframe tbody tr th {\n",
       "        vertical-align: top;\n",
       "    }\n",
       "\n",
       "    .dataframe thead th {\n",
       "        text-align: right;\n",
       "    }\n",
       "</style>\n",
       "<table border=\"1\" class=\"dataframe\">\n",
       "  <thead>\n",
       "    <tr style=\"text-align: right;\">\n",
       "      <th></th>\n",
       "      <th>pect_description</th>\n",
       "      <th>curr_bud_am</th>\n",
       "      <th>project_id</th>\n",
       "    </tr>\n",
       "  </thead>\n",
       "  <tbody>\n",
       "    <tr>\n",
       "      <th>1677</th>\n",
       "      <td>Highway Bridge</td>\n",
       "      <td>690839.49</td>\n",
       "      <td>5918(101)</td>\n",
       "    </tr>\n",
       "    <tr>\n",
       "      <th>1678</th>\n",
       "      <td>Earmarks Projects (HPP, DEMO CPFCDS, etc.)</td>\n",
       "      <td>238679.79</td>\n",
       "      <td>5918(101)</td>\n",
       "    </tr>\n",
       "    <tr>\n",
       "      <th>1679</th>\n",
       "      <td>Regional Surface Transportation Block Grant Program (RSTBGP) and Highway Infrastructure Program (HIP)</td>\n",
       "      <td>0.00</td>\n",
       "      <td>5918(101)</td>\n",
       "    </tr>\n",
       "    <tr>\n",
       "      <th>1680</th>\n",
       "      <td>Highway Bridge</td>\n",
       "      <td>472887.51</td>\n",
       "      <td>5918(101)</td>\n",
       "    </tr>\n",
       "  </tbody>\n",
       "</table>\n",
       "</div>"
      ],
      "text/plain": [
       "                                                                                           pect_description  \\\n",
       "1677                                                                                        Highway Bridge    \n",
       "1678                                                             Earmarks Projects (HPP, DEMO CPFCDS, etc.)   \n",
       "1679  Regional Surface Transportation Block Grant Program (RSTBGP) and Highway Infrastructure Program (HIP)   \n",
       "1680                                                                                        Highway Bridge    \n",
       "\n",
       "      curr_bud_am project_id  \n",
       "1677    690839.49  5918(101)  \n",
       "1678    238679.79  5918(101)  \n",
       "1679         0.00  5918(101)  \n",
       "1680    472887.51  5918(101)  "
      ]
     },
     "execution_count": 84,
     "metadata": {},
     "output_type": "execute_result"
    }
   ],
   "source": [
    "pect_df2.loc[pect_df2.project_id == '5918(101)']"
   ]
  },
  {
   "cell_type": "code",
   "execution_count": 85,
   "id": "d687f20e",
   "metadata": {},
   "outputs": [
    {
     "data": {
      "text/html": [
       "<style  type=\"text/css\" >\n",
       "#T_f1a02_row0_col28,#T_f1a02_row0_col35,#T_f1a02_row0_col46{\n",
       "            color:  red;\n",
       "        }</style><table id=\"T_f1a02_\" ><thead>    <tr>        <th class=\"blank level0\" ></th>        <th class=\"col_heading level0 col0\" >project_id</th>        <th class=\"col_heading level0 col1\" >county_code</th>        <th class=\"col_heading level0 col2\" >comment_desc</th>        <th class=\"col_heading level0 col3\" >district_code</th>        <th class=\"col_heading level0 col4\" >est_total_prj_costs</th>        <th class=\"col_heading level0 col5\" >location_name</th>        <th class=\"col_heading level0 col6\" >project_label_name</th>        <th class=\"col_heading level0 col7\" >project_planning_id</th>        <th class=\"col_heading level0 col8\" >original_post_mile_begin_id</th>        <th class=\"col_heading level0 col9\" >original_post_mile_end_id</th>        <th class=\"col_heading level0 col10\" >revised_post_mile_begin_ind</th>        <th class=\"col_heading level0 col11\" >revised_post_mile_end_ind</th>        <th class=\"col_heading level0 col12\" >route_name</th>        <th class=\"col_heading level0 col13\" >state_hwy_ind</th>        <th class=\"col_heading level0 col14\" >senate_district_code</th>        <th class=\"col_heading level0 col15\" >agency_name</th>        <th class=\"col_heading level0 col16\" >urban_area_code</th>        <th class=\"col_heading level0 col17\" >county_name</th>        <th class=\"col_heading level0 col18\" >current_phase</th>        <th class=\"col_heading level0 col19\" >active_transportation_program_(atp)</th>        <th class=\"col_heading level0 col20\" >bridge_inspection_&_scour_evaluation</th>        <th class=\"col_heading level0 col21\" >covid_relief_funds_for_highway_infrastructure_programs_for_stip-covid_augmentation</th>        <th class=\"col_heading level0 col22\" >carbon_reduction_program_(crp)</th>        <th class=\"col_heading level0 col23\" >congestion_mitigation_&_air_quality_improvement_program_(cmaq)</th>        <th class=\"col_heading level0 col24\" >coronavirus_response_and_relief_supplemental_appropriations_act_(crrsaa)_funds</th>        <th class=\"col_heading level0 col25\" >corridor_mobility_improvement_account_(cmia)_program</th>        <th class=\"col_heading level0 col26\" >county_exchange_funds</th>        <th class=\"col_heading level0 col27\" >county_state_match_program</th>        <th class=\"col_heading level0 col28\" >earmarks_projects_(hpp,_demo_cpfcds,_etc.)</th>        <th class=\"col_heading level0 col29\" >emergency_relief_(er)</th>        <th class=\"col_heading level0 col30\" >ferry_boat_program_(fbp)_and_ferry_boat_discretionary_(fbd)_program</th>        <th class=\"col_heading level0 col31\" >funds_for_planning,_programming_and_monitoring_-_rip</th>        <th class=\"col_heading level0 col32\" >general_funded_designated_programs</th>        <th class=\"col_heading level0 col33\" >hazard_elimination_safety_(hes)</th>        <th class=\"col_heading level0 col34\" >high_risk_rural_roads_program_(hr3)</th>        <th class=\"col_heading level0 col35\" >highway_bridge_</th>        <th class=\"col_heading level0 col36\" >highway_safety_improvement_program_(hsip)_(infrastructure)-state_fund</th>        <th class=\"col_heading level0 col37\" >highway_safety_improvement_program_(hsip)_(non-infrastructure)</th>        <th class=\"col_heading level0 col38\" >highway_safety_improvement_program_(hsip)(infrastructure)-federal_fund</th>        <th class=\"col_heading level0 col39\" >local_partnership_program_(lpp_–_competitive)_</th>        <th class=\"col_heading level0 col40\" >local_roads</th>        <th class=\"col_heading level0 col41\" >local_roads_rehabilitation</th>        <th class=\"col_heading level0 col42\" >railroad_grade_crossing_protection</th>        <th class=\"col_heading level0 col43\" >railroad_grade_separations</th>        <th class=\"col_heading level0 col44\" >rebuilding_american_infrastructure_with_sustainability_and_equity_(raise)_and_multimodal_project_discretionary_grant_programs_(e.g.,_infra,_mega,_rstg_or_rural)_</th>        <th class=\"col_heading level0 col45\" >regional_improvement_program_–_regional_share_of_stip_transportation_enhancement_(off_system)</th>        <th class=\"col_heading level0 col46\" >regional_surface_transportation_block_grant_program_(rstbgp)_and_highway_infrastructure_program_(hip)</th>        <th class=\"col_heading level0 col47\" >regional_transportation_planning_agency_(rtpa)_stp_match_exchange</th>        <th class=\"col_heading level0 col48\" >sb1_funded_freeway_service_patrol</th>        <th class=\"col_heading level0 col49\" >shopp-_traffic_light_synchronization_program_(tlsp)-_proposition_1b_bond_funds</th>        <th class=\"col_heading level0 col50\" >safe_routes_to_school_(sr2s_and_srts)</th>        <th class=\"col_heading level0 col51\" >set-aside_coordinated_border_infrastructure_(cbi)_program_under_fast_act</th>        <th class=\"col_heading level0 col52\" >solutions_for_congested_corridors_program_(sccp)</th>        <th class=\"col_heading level0 col53\" >special_programs</th>        <th class=\"col_heading level0 col54\" >state-local_partnership_program_(slpp)_and_local_partnership_program_(lpp-formulaic)</th>        <th class=\"col_heading level0 col55\" >structures_seismic_retrofit_</th>        <th class=\"col_heading level0 col56\" >trade_corridor_enhancement_account_(tcea)_programs_–_local_share</th>        <th class=\"col_heading level0 col57\" >trade_corridor_enhancement_account_(tcea)_programs_–_state_share</th>        <th class=\"col_heading level0 col58\" >trade_corridors_improvement_fund_(tcif)_program_local_streets_&_roads</th>        <th class=\"col_heading level0 col59\" >traffic_congestion_relief_program_(_tcrp_)</th>    </tr></thead><tbody>\n",
       "                <tr>\n",
       "                        <th id=\"T_f1a02_level0_row0\" class=\"row_heading level0 row0\" >1413</th>\n",
       "                        <td id=\"T_f1a02_row0_col0\" class=\"data row0 col0\" >5918(101)</td>\n",
       "                        <td id=\"T_f1a02_row0_col1\" class=\"data row0 col1\" >5918</td>\n",
       "                        <td id=\"T_f1a02_row0_col2\" class=\"data row0 col2\" >4-26-2023: told Neal Hay to do a BAR request and that he cannot  ask for more than what was lapsed - JC\n",
       "\n",
       "1/10/22: TCT JWalton adv of CWA expring and funds lapsing.  need invoice by Apr 1, 2022.  ab\n",
       "8/2/17: email SRiddle re: inactive status.  ab\n",
       "County will seek to replace (SR= 53.6)</td>\n",
       "                        <td id=\"T_f1a02_row0_col3\" class=\"data row0 col3\" >03</td>\n",
       "                        <td id=\"T_f1a02_row0_col4\" class=\"data row0 col4\" >nan</td>\n",
       "                        <td id=\"T_f1a02_row0_col5\" class=\"data row0 col5\" >On Howsley Road, 1.02 Mile East of State Route 99, Br</td>\n",
       "                        <td id=\"T_f1a02_row0_col6\" class=\"data row0 col6\" >Bridge Replacement</td>\n",
       "                        <td id=\"T_f1a02_row0_col7\" class=\"data row0 col7\" >None</td>\n",
       "                        <td id=\"T_f1a02_row0_col8\" class=\"data row0 col8\" >nan</td>\n",
       "                        <td id=\"T_f1a02_row0_col9\" class=\"data row0 col9\" >nan</td>\n",
       "                        <td id=\"T_f1a02_row0_col10\" class=\"data row0 col10\" >None</td>\n",
       "                        <td id=\"T_f1a02_row0_col11\" class=\"data row0 col11\" >None</td>\n",
       "                        <td id=\"T_f1a02_row0_col12\" class=\"data row0 col12\" >0-CR</td>\n",
       "                        <td id=\"T_f1a02_row0_col13\" class=\"data row0 col13\" >N</td>\n",
       "                        <td id=\"T_f1a02_row0_col14\" class=\"data row0 col14\" >None</td>\n",
       "                        <td id=\"T_f1a02_row0_col15\" class=\"data row0 col15\" >Sutter County</td>\n",
       "                        <td id=\"T_f1a02_row0_col16\" class=\"data row0 col16\" >None</td>\n",
       "                        <td id=\"T_f1a02_row0_col17\" class=\"data row0 col17\" >Sutter County</td>\n",
       "                        <td id=\"T_f1a02_row0_col18\" class=\"data row0 col18\" >single phase</td>\n",
       "                        <td id=\"T_f1a02_row0_col19\" class=\"data row0 col19\" >No</td>\n",
       "                        <td id=\"T_f1a02_row0_col20\" class=\"data row0 col20\" >No</td>\n",
       "                        <td id=\"T_f1a02_row0_col21\" class=\"data row0 col21\" >No</td>\n",
       "                        <td id=\"T_f1a02_row0_col22\" class=\"data row0 col22\" >No</td>\n",
       "                        <td id=\"T_f1a02_row0_col23\" class=\"data row0 col23\" >No</td>\n",
       "                        <td id=\"T_f1a02_row0_col24\" class=\"data row0 col24\" >No</td>\n",
       "                        <td id=\"T_f1a02_row0_col25\" class=\"data row0 col25\" >No</td>\n",
       "                        <td id=\"T_f1a02_row0_col26\" class=\"data row0 col26\" >No</td>\n",
       "                        <td id=\"T_f1a02_row0_col27\" class=\"data row0 col27\" >No</td>\n",
       "                        <td id=\"T_f1a02_row0_col28\" class=\"data row0 col28\" >Yes</td>\n",
       "                        <td id=\"T_f1a02_row0_col29\" class=\"data row0 col29\" >No</td>\n",
       "                        <td id=\"T_f1a02_row0_col30\" class=\"data row0 col30\" >No</td>\n",
       "                        <td id=\"T_f1a02_row0_col31\" class=\"data row0 col31\" >No</td>\n",
       "                        <td id=\"T_f1a02_row0_col32\" class=\"data row0 col32\" >No</td>\n",
       "                        <td id=\"T_f1a02_row0_col33\" class=\"data row0 col33\" >No</td>\n",
       "                        <td id=\"T_f1a02_row0_col34\" class=\"data row0 col34\" >No</td>\n",
       "                        <td id=\"T_f1a02_row0_col35\" class=\"data row0 col35\" >Yes</td>\n",
       "                        <td id=\"T_f1a02_row0_col36\" class=\"data row0 col36\" >No</td>\n",
       "                        <td id=\"T_f1a02_row0_col37\" class=\"data row0 col37\" >No</td>\n",
       "                        <td id=\"T_f1a02_row0_col38\" class=\"data row0 col38\" >No</td>\n",
       "                        <td id=\"T_f1a02_row0_col39\" class=\"data row0 col39\" >No</td>\n",
       "                        <td id=\"T_f1a02_row0_col40\" class=\"data row0 col40\" >No</td>\n",
       "                        <td id=\"T_f1a02_row0_col41\" class=\"data row0 col41\" >No</td>\n",
       "                        <td id=\"T_f1a02_row0_col42\" class=\"data row0 col42\" >No</td>\n",
       "                        <td id=\"T_f1a02_row0_col43\" class=\"data row0 col43\" >No</td>\n",
       "                        <td id=\"T_f1a02_row0_col44\" class=\"data row0 col44\" >No</td>\n",
       "                        <td id=\"T_f1a02_row0_col45\" class=\"data row0 col45\" >No</td>\n",
       "                        <td id=\"T_f1a02_row0_col46\" class=\"data row0 col46\" >Yes</td>\n",
       "                        <td id=\"T_f1a02_row0_col47\" class=\"data row0 col47\" >No</td>\n",
       "                        <td id=\"T_f1a02_row0_col48\" class=\"data row0 col48\" >No</td>\n",
       "                        <td id=\"T_f1a02_row0_col49\" class=\"data row0 col49\" >No</td>\n",
       "                        <td id=\"T_f1a02_row0_col50\" class=\"data row0 col50\" >No</td>\n",
       "                        <td id=\"T_f1a02_row0_col51\" class=\"data row0 col51\" >No</td>\n",
       "                        <td id=\"T_f1a02_row0_col52\" class=\"data row0 col52\" >No</td>\n",
       "                        <td id=\"T_f1a02_row0_col53\" class=\"data row0 col53\" >No</td>\n",
       "                        <td id=\"T_f1a02_row0_col54\" class=\"data row0 col54\" >No</td>\n",
       "                        <td id=\"T_f1a02_row0_col55\" class=\"data row0 col55\" >No</td>\n",
       "                        <td id=\"T_f1a02_row0_col56\" class=\"data row0 col56\" >No</td>\n",
       "                        <td id=\"T_f1a02_row0_col57\" class=\"data row0 col57\" >No</td>\n",
       "                        <td id=\"T_f1a02_row0_col58\" class=\"data row0 col58\" >No</td>\n",
       "                        <td id=\"T_f1a02_row0_col59\" class=\"data row0 col59\" >No</td>\n",
       "            </tr>\n",
       "    </tbody></table>"
      ],
      "text/plain": [
       "<pandas.io.formats.style.Styler at 0x28f0fb99f88>"
      ]
     },
     "execution_count": 85,
     "metadata": {},
     "output_type": "execute_result"
    }
   ],
   "source": [
    "project_df.loc[project_df.project_id == '5918(101)'].style.where(lambda val: 'Yes' in str(val), 'color: red')"
   ]
  },
  {
   "cell_type": "code",
   "execution_count": 86,
   "id": "79b36f65",
   "metadata": {},
   "outputs": [
    {
     "data": {
      "text/html": [
       "<div>\n",
       "<style scoped>\n",
       "    .dataframe tbody tr th:only-of-type {\n",
       "        vertical-align: middle;\n",
       "    }\n",
       "\n",
       "    .dataframe tbody tr th {\n",
       "        vertical-align: top;\n",
       "    }\n",
       "\n",
       "    .dataframe thead th {\n",
       "        text-align: right;\n",
       "    }\n",
       "</style>\n",
       "<table border=\"1\" class=\"dataframe\">\n",
       "  <thead>\n",
       "    <tr style=\"text-align: right;\">\n",
       "      <th></th>\n",
       "      <th>project_id</th>\n",
       "      <th>county_code</th>\n",
       "      <th>comment_desc</th>\n",
       "      <th>district_code</th>\n",
       "      <th>est_total_prj_costs</th>\n",
       "      <th>location_name</th>\n",
       "      <th>project_label_name</th>\n",
       "      <th>project_planning_id</th>\n",
       "      <th>original_post_mile_begin_id</th>\n",
       "      <th>original_post_mile_end_id</th>\n",
       "      <th>revised_post_mile_begin_ind</th>\n",
       "      <th>revised_post_mile_end_ind</th>\n",
       "      <th>route_name</th>\n",
       "      <th>state_hwy_ind</th>\n",
       "      <th>senate_district_code</th>\n",
       "      <th>agency_name</th>\n",
       "      <th>urban_area_code</th>\n",
       "      <th>county_name</th>\n",
       "      <th>current_phase</th>\n",
       "      <th>active_transportation_program_(atp)</th>\n",
       "      <th>bridge_inspection_&amp;_scour_evaluation</th>\n",
       "      <th>covid_relief_funds_for_highway_infrastructure_programs_for_stip-covid_augmentation</th>\n",
       "      <th>carbon_reduction_program_(crp)</th>\n",
       "      <th>congestion_mitigation_&amp;_air_quality_improvement_program_(cmaq)</th>\n",
       "      <th>coronavirus_response_and_relief_supplemental_appropriations_act_(crrsaa)_funds</th>\n",
       "      <th>corridor_mobility_improvement_account_(cmia)_program</th>\n",
       "      <th>county_exchange_funds</th>\n",
       "      <th>county_state_match_program</th>\n",
       "      <th>earmarks_projects_(hpp,_demo_cpfcds,_etc.)</th>\n",
       "      <th>emergency_relief_(er)</th>\n",
       "      <th>ferry_boat_program_(fbp)_and_ferry_boat_discretionary_(fbd)_program</th>\n",
       "      <th>funds_for_planning,_programming_and_monitoring_-_rip</th>\n",
       "      <th>general_funded_designated_programs</th>\n",
       "      <th>hazard_elimination_safety_(hes)</th>\n",
       "      <th>high_risk_rural_roads_program_(hr3)</th>\n",
       "      <th>highway_bridge_</th>\n",
       "      <th>highway_safety_improvement_program_(hsip)_(infrastructure)-state_fund</th>\n",
       "      <th>highway_safety_improvement_program_(hsip)_(non-infrastructure)</th>\n",
       "      <th>highway_safety_improvement_program_(hsip)(infrastructure)-federal_fund</th>\n",
       "      <th>local_partnership_program_(lpp_–_competitive)_</th>\n",
       "      <th>local_roads</th>\n",
       "      <th>local_roads_rehabilitation</th>\n",
       "      <th>railroad_grade_crossing_protection</th>\n",
       "      <th>railroad_grade_separations</th>\n",
       "      <th>rebuilding_american_infrastructure_with_sustainability_and_equity_(raise)_and_multimodal_project_discretionary_grant_programs_(e.g.,_infra,_mega,_rstg_or_rural)_</th>\n",
       "      <th>regional_improvement_program_–_regional_share_of_stip_transportation_enhancement_(off_system)</th>\n",
       "      <th>regional_surface_transportation_block_grant_program_(rstbgp)_and_highway_infrastructure_program_(hip)</th>\n",
       "      <th>regional_transportation_planning_agency_(rtpa)_stp_match_exchange</th>\n",
       "      <th>sb1_funded_freeway_service_patrol</th>\n",
       "      <th>shopp-_traffic_light_synchronization_program_(tlsp)-_proposition_1b_bond_funds</th>\n",
       "      <th>safe_routes_to_school_(sr2s_and_srts)</th>\n",
       "      <th>set-aside_coordinated_border_infrastructure_(cbi)_program_under_fast_act</th>\n",
       "      <th>solutions_for_congested_corridors_program_(sccp)</th>\n",
       "      <th>special_programs</th>\n",
       "      <th>state-local_partnership_program_(slpp)_and_local_partnership_program_(lpp-formulaic)</th>\n",
       "      <th>structures_seismic_retrofit_</th>\n",
       "      <th>trade_corridor_enhancement_account_(tcea)_programs_–_local_share</th>\n",
       "      <th>trade_corridor_enhancement_account_(tcea)_programs_–_state_share</th>\n",
       "      <th>trade_corridors_improvement_fund_(tcif)_program_local_streets_&amp;_roads</th>\n",
       "      <th>traffic_congestion_relief_program_(_tcrp_)</th>\n",
       "    </tr>\n",
       "  </thead>\n",
       "  <tbody>\n",
       "    <tr>\n",
       "      <th>8860</th>\n",
       "      <td>5150(015)</td>\n",
       "      <td>5953</td>\n",
       "      <td>Data Migrated from CTIPS :\\r\\nThe Project Planning Id are: 5328; \\r\\nThe locations are :Install Rectangular Rapid Flashing Beacons (RRFB) with LED lights, updated signing, and pavement markings at uncontrolled crosswalks.;</td>\n",
       "      <td>07</td>\n",
       "      <td>NaN</td>\n",
       "      <td>Install Rectangular Rapid Flashing Beacons (RRFB) with LED lights, updated signing, and pavement markings at uncontrolled crosswalks.</td>\n",
       "      <td>Phase 2 of completion pedestrian safety at the remaining uncontrolled crosswalk location in the cit</td>\n",
       "      <td>5328</td>\n",
       "      <td>NaN</td>\n",
       "      <td>NaN</td>\n",
       "      <td>None</td>\n",
       "      <td>None</td>\n",
       "      <td>0-HNTP</td>\n",
       "      <td>N</td>\n",
       "      <td>None</td>\n",
       "      <td>Huntington Park</td>\n",
       "      <td>3041</td>\n",
       "      <td>Los Angeles County</td>\n",
       "      <td>single phase</td>\n",
       "      <td>Unknown</td>\n",
       "      <td>Unknown</td>\n",
       "      <td>Unknown</td>\n",
       "      <td>Unknown</td>\n",
       "      <td>Unknown</td>\n",
       "      <td>Unknown</td>\n",
       "      <td>Unknown</td>\n",
       "      <td>Unknown</td>\n",
       "      <td>Unknown</td>\n",
       "      <td>Unknown</td>\n",
       "      <td>Unknown</td>\n",
       "      <td>Unknown</td>\n",
       "      <td>Unknown</td>\n",
       "      <td>Unknown</td>\n",
       "      <td>Unknown</td>\n",
       "      <td>Unknown</td>\n",
       "      <td>Unknown</td>\n",
       "      <td>Unknown</td>\n",
       "      <td>Unknown</td>\n",
       "      <td>Unknown</td>\n",
       "      <td>Unknown</td>\n",
       "      <td>Unknown</td>\n",
       "      <td>Unknown</td>\n",
       "      <td>Unknown</td>\n",
       "      <td>Unknown</td>\n",
       "      <td>Unknown</td>\n",
       "      <td>Unknown</td>\n",
       "      <td>Unknown</td>\n",
       "      <td>Unknown</td>\n",
       "      <td>Unknown</td>\n",
       "      <td>Unknown</td>\n",
       "      <td>Unknown</td>\n",
       "      <td>Unknown</td>\n",
       "      <td>Unknown</td>\n",
       "      <td>Unknown</td>\n",
       "      <td>Unknown</td>\n",
       "      <td>Unknown</td>\n",
       "      <td>Unknown</td>\n",
       "      <td>Unknown</td>\n",
       "      <td>Unknown</td>\n",
       "      <td>Unknown</td>\n",
       "    </tr>\n",
       "  </tbody>\n",
       "</table>\n",
       "</div>"
      ],
      "text/plain": [
       "     project_id county_code  \\\n",
       "8860  5150(015)        5953   \n",
       "\n",
       "                                                                                                                                                                                                                        comment_desc  \\\n",
       "8860  Data Migrated from CTIPS :\\r\\nThe Project Planning Id are: 5328; \\r\\nThe locations are :Install Rectangular Rapid Flashing Beacons (RRFB) with LED lights, updated signing, and pavement markings at uncontrolled crosswalks.;   \n",
       "\n",
       "     district_code  est_total_prj_costs  \\\n",
       "8860            07                  NaN   \n",
       "\n",
       "                                                                                                                              location_name  \\\n",
       "8860  Install Rectangular Rapid Flashing Beacons (RRFB) with LED lights, updated signing, and pavement markings at uncontrolled crosswalks.   \n",
       "\n",
       "                                                                                        project_label_name  \\\n",
       "8860   Phase 2 of completion pedestrian safety at the remaining uncontrolled crosswalk location in the cit   \n",
       "\n",
       "     project_planning_id  original_post_mile_begin_id  \\\n",
       "8860                5328                          NaN   \n",
       "\n",
       "      original_post_mile_end_id revised_post_mile_begin_ind  \\\n",
       "8860                        NaN                        None   \n",
       "\n",
       "     revised_post_mile_end_ind route_name state_hwy_ind senate_district_code  \\\n",
       "8860                      None     0-HNTP             N                 None   \n",
       "\n",
       "          agency_name urban_area_code         county_name current_phase  \\\n",
       "8860  Huntington Park            3041  Los Angeles County  single phase   \n",
       "\n",
       "     active_transportation_program_(atp) bridge_inspection_&_scour_evaluation  \\\n",
       "8860                             Unknown                              Unknown   \n",
       "\n",
       "     covid_relief_funds_for_highway_infrastructure_programs_for_stip-covid_augmentation  \\\n",
       "8860                                                                            Unknown   \n",
       "\n",
       "     carbon_reduction_program_(crp)  \\\n",
       "8860                        Unknown   \n",
       "\n",
       "     congestion_mitigation_&_air_quality_improvement_program_(cmaq)  \\\n",
       "8860                                                        Unknown   \n",
       "\n",
       "     coronavirus_response_and_relief_supplemental_appropriations_act_(crrsaa)_funds  \\\n",
       "8860                                                                        Unknown   \n",
       "\n",
       "     corridor_mobility_improvement_account_(cmia)_program  \\\n",
       "8860                                              Unknown   \n",
       "\n",
       "     county_exchange_funds county_state_match_program  \\\n",
       "8860               Unknown                    Unknown   \n",
       "\n",
       "     earmarks_projects_(hpp,_demo_cpfcds,_etc.) emergency_relief_(er)  \\\n",
       "8860                                    Unknown               Unknown   \n",
       "\n",
       "     ferry_boat_program_(fbp)_and_ferry_boat_discretionary_(fbd)_program  \\\n",
       "8860                                                             Unknown   \n",
       "\n",
       "     funds_for_planning,_programming_and_monitoring_-_rip  \\\n",
       "8860                                              Unknown   \n",
       "\n",
       "     general_funded_designated_programs hazard_elimination_safety_(hes)  \\\n",
       "8860                            Unknown                         Unknown   \n",
       "\n",
       "     high_risk_rural_roads_program_(hr3) highway_bridge_  \\\n",
       "8860                             Unknown         Unknown   \n",
       "\n",
       "     highway_safety_improvement_program_(hsip)_(infrastructure)-state_fund  \\\n",
       "8860                                                               Unknown   \n",
       "\n",
       "     highway_safety_improvement_program_(hsip)_(non-infrastructure)  \\\n",
       "8860                                                        Unknown   \n",
       "\n",
       "     highway_safety_improvement_program_(hsip)(infrastructure)-federal_fund  \\\n",
       "8860                                                                Unknown   \n",
       "\n",
       "     local_partnership_program_(lpp_–_competitive)_ local_roads  \\\n",
       "8860                                        Unknown     Unknown   \n",
       "\n",
       "     local_roads_rehabilitation railroad_grade_crossing_protection  \\\n",
       "8860                    Unknown                            Unknown   \n",
       "\n",
       "     railroad_grade_separations  \\\n",
       "8860                    Unknown   \n",
       "\n",
       "     rebuilding_american_infrastructure_with_sustainability_and_equity_(raise)_and_multimodal_project_discretionary_grant_programs_(e.g.,_infra,_mega,_rstg_or_rural)_  \\\n",
       "8860                                                                                                                                                           Unknown   \n",
       "\n",
       "     regional_improvement_program_–_regional_share_of_stip_transportation_enhancement_(off_system)  \\\n",
       "8860                                                                                       Unknown   \n",
       "\n",
       "     regional_surface_transportation_block_grant_program_(rstbgp)_and_highway_infrastructure_program_(hip)  \\\n",
       "8860                                                                                               Unknown   \n",
       "\n",
       "     regional_transportation_planning_agency_(rtpa)_stp_match_exchange  \\\n",
       "8860                                                           Unknown   \n",
       "\n",
       "     sb1_funded_freeway_service_patrol  \\\n",
       "8860                           Unknown   \n",
       "\n",
       "     shopp-_traffic_light_synchronization_program_(tlsp)-_proposition_1b_bond_funds  \\\n",
       "8860                                                                        Unknown   \n",
       "\n",
       "     safe_routes_to_school_(sr2s_and_srts)  \\\n",
       "8860                               Unknown   \n",
       "\n",
       "     set-aside_coordinated_border_infrastructure_(cbi)_program_under_fast_act  \\\n",
       "8860                                                                  Unknown   \n",
       "\n",
       "     solutions_for_congested_corridors_program_(sccp) special_programs  \\\n",
       "8860                                          Unknown          Unknown   \n",
       "\n",
       "     state-local_partnership_program_(slpp)_and_local_partnership_program_(lpp-formulaic)  \\\n",
       "8860                                                                              Unknown   \n",
       "\n",
       "     structures_seismic_retrofit_  \\\n",
       "8860                      Unknown   \n",
       "\n",
       "     trade_corridor_enhancement_account_(tcea)_programs_–_local_share  \\\n",
       "8860                                                          Unknown   \n",
       "\n",
       "     trade_corridor_enhancement_account_(tcea)_programs_–_state_share  \\\n",
       "8860                                                          Unknown   \n",
       "\n",
       "     trade_corridors_improvement_fund_(tcif)_program_local_streets_&_roads  \\\n",
       "8860                                                               Unknown   \n",
       "\n",
       "     traffic_congestion_relief_program_(_tcrp_)  \n",
       "8860                                    Unknown  "
      ]
     },
     "execution_count": 86,
     "metadata": {},
     "output_type": "execute_result"
    }
   ],
   "source": [
    "project_df.sample()"
   ]
  },
  {
   "cell_type": "markdown",
   "id": "f1252df9",
   "metadata": {},
   "source": [
    "## Phase_Funding Table"
   ]
  },
  {
   "cell_type": "markdown",
   "id": "883bac96",
   "metadata": {},
   "source": [
    "### Bring in fund_code"
   ]
  },
  {
   "cell_type": "code",
   "execution_count": 87,
   "id": "a99390f6",
   "metadata": {},
   "outputs": [],
   "source": [
    "def load_fund_codes(excel_file:str)->pd.DataFrame:\n",
    "    df = pd.read_excel('lp2000_2023_fund_codes.xlsx')\n",
    "    \n",
    "    # Pad codes\n",
    "    df['0001'] = df['0001'].apply(lambda x: f'{x:04}')\n",
    "    df = df.rename(columns = {'General Fund':'general_fund'})\n",
    "    \n",
    "    return df"
   ]
  },
  {
   "cell_type": "code",
   "execution_count": 88,
   "id": "a0477fe6",
   "metadata": {},
   "outputs": [],
   "source": [
    "fund_codes = load_fund_codes(\"lp2000_2023_fund_codes.xlsx\")"
   ]
  },
  {
   "cell_type": "code",
   "execution_count": 89,
   "id": "088e8ddf",
   "metadata": {},
   "outputs": [],
   "source": [
    "fund_phase_df = pd.merge(accounting_df, fund_codes, left_on = ['fund_code'], right_on = ['0001'], how = 'left')\n",
    "fund_phase_df = fund_phase_df.drop(columns = ['0001'])"
   ]
  },
  {
   "cell_type": "code",
   "execution_count": 90,
   "id": "89d0b410",
   "metadata": {},
   "outputs": [],
   "source": [
    "fund_phase_df.general_fund = fund_phase_df.general_fund.fillna('No Fund Info')"
   ]
  },
  {
   "cell_type": "code",
   "execution_count": 91,
   "id": "bde5dad3",
   "metadata": {},
   "outputs": [
    {
     "data": {
      "text/plain": [
       "Federal Trust Fund                                   7918\n",
       "State Highway Account                                1580\n",
       "Road Maintenance & Rehabilitation Account, STF        437\n",
       "No Fund Info                                          394\n",
       "Local Bridge Seismic Retrofit Acct                     76\n",
       "Environmental Enhanc & Mitigat Prgm Fd                 56\n",
       "Transportation Investment Fund                         30\n",
       "Transportation Deferred Investment Fund                20\n",
       "Trade Corridor Enhancement Account, STF                18\n",
       "Trade Corridors Improvement Fund                       13\n",
       "Traffic Congestion Relief Fund                          8\n",
       "State-Local Partnership Program Acct                    7\n",
       "Highway Safety,Rehabilitation,& Preservation Acct       7\n",
       "Transportation Faciilities Account                      1\n",
       "Corridor Mobility Improvement Account                   1\n",
       "Name: general_fund, dtype: int64"
      ]
     },
     "execution_count": 91,
     "metadata": {},
     "output_type": "execute_result"
    }
   ],
   "source": [
    "fund_phase_df.general_fund.value_counts()"
   ]
  },
  {
   "cell_type": "code",
   "execution_count": 92,
   "id": "b754e3ca",
   "metadata": {},
   "outputs": [],
   "source": [
    "# Sum up everything \n",
    "fund_phase_df_pivot1 = (fund_phase_df\n",
    "                  .groupby(['project_id','general_fund'])\n",
    "                  .agg({'curr_bud_am':'sum', \n",
    "                        'cash_exp_am':'sum'})\n",
    "                  .reset_index()\n",
    "                  .rename(columns = {'curr_bud_am':'single_phase_cost',\n",
    "                                    'cash_exp_am':'single_phase_expenditure'})\n",
    "                  )"
   ]
  },
  {
   "cell_type": "code",
   "execution_count": 93,
   "id": "c2b762c1",
   "metadata": {},
   "outputs": [
    {
     "data": {
      "text/html": [
       "<div>\n",
       "<style scoped>\n",
       "    .dataframe tbody tr th:only-of-type {\n",
       "        vertical-align: middle;\n",
       "    }\n",
       "\n",
       "    .dataframe tbody tr th {\n",
       "        vertical-align: top;\n",
       "    }\n",
       "\n",
       "    .dataframe thead th {\n",
       "        text-align: right;\n",
       "    }\n",
       "</style>\n",
       "<table border=\"1\" class=\"dataframe\">\n",
       "  <thead>\n",
       "    <tr style=\"text-align: right;\">\n",
       "      <th></th>\n",
       "      <th>project_id</th>\n",
       "      <th>general_fund</th>\n",
       "      <th>single_phase_cost</th>\n",
       "      <th>single_phase_expenditure</th>\n",
       "    </tr>\n",
       "  </thead>\n",
       "  <tbody>\n",
       "    <tr>\n",
       "      <th>0</th>\n",
       "      <td>0001(002)</td>\n",
       "      <td>Federal Trust Fund</td>\n",
       "      <td>20743617.04</td>\n",
       "      <td>20743617.04</td>\n",
       "    </tr>\n",
       "    <tr>\n",
       "      <th>1</th>\n",
       "      <td>0014(005)</td>\n",
       "      <td>Federal Trust Fund</td>\n",
       "      <td>879983.23</td>\n",
       "      <td>879983.23</td>\n",
       "    </tr>\n",
       "    <tr>\n",
       "      <th>2</th>\n",
       "      <td>0027(012)</td>\n",
       "      <td>Federal Trust Fund</td>\n",
       "      <td>12830458.87</td>\n",
       "      <td>12830458.87</td>\n",
       "    </tr>\n",
       "    <tr>\n",
       "      <th>3</th>\n",
       "      <td>0061(025)</td>\n",
       "      <td>Federal Trust Fund</td>\n",
       "      <td>2595722.00</td>\n",
       "      <td>2595722.00</td>\n",
       "    </tr>\n",
       "    <tr>\n",
       "      <th>4</th>\n",
       "      <td>15A5(001)</td>\n",
       "      <td>Federal Trust Fund</td>\n",
       "      <td>849820.30</td>\n",
       "      <td>700737.01</td>\n",
       "    </tr>\n",
       "  </tbody>\n",
       "</table>\n",
       "</div>"
      ],
      "text/plain": [
       "  project_id        general_fund  single_phase_cost  single_phase_expenditure\n",
       "0  0001(002)  Federal Trust Fund        20743617.04               20743617.04\n",
       "1  0014(005)  Federal Trust Fund          879983.23                 879983.23\n",
       "2  0027(012)  Federal Trust Fund        12830458.87               12830458.87\n",
       "3  0061(025)  Federal Trust Fund         2595722.00                2595722.00\n",
       "4  15A5(001)  Federal Trust Fund          849820.30                 700737.01"
      ]
     },
     "execution_count": 93,
     "metadata": {},
     "output_type": "execute_result"
    }
   ],
   "source": [
    "fund_phase_df_pivot1.head()"
   ]
  },
  {
   "cell_type": "code",
   "execution_count": 94,
   "id": "281f0886",
   "metadata": {},
   "outputs": [],
   "source": [
    "# No fund detail -> just want the total cost \n",
    "fund_phase_df_pivot2 = (fund_phase_df\n",
    "                  .groupby(['project_id'])\n",
    "                  .agg({'curr_bud_am':'sum', \n",
    "                        'cash_exp_am':'sum'})\n",
    "                  .reset_index()\n",
    "                  .rename(columns = {'curr_bud_am':'single_phase_cost',\n",
    "                                    'cash_exp_am':'single_phase_expenditure_amt'})\n",
    "                  )"
   ]
  },
  {
   "cell_type": "code",
   "execution_count": 95,
   "id": "d1b67a3f",
   "metadata": {},
   "outputs": [
    {
     "data": {
      "text/html": [
       "<div>\n",
       "<style scoped>\n",
       "    .dataframe tbody tr th:only-of-type {\n",
       "        vertical-align: middle;\n",
       "    }\n",
       "\n",
       "    .dataframe tbody tr th {\n",
       "        vertical-align: top;\n",
       "    }\n",
       "\n",
       "    .dataframe thead th {\n",
       "        text-align: right;\n",
       "    }\n",
       "</style>\n",
       "<table border=\"1\" class=\"dataframe\">\n",
       "  <thead>\n",
       "    <tr style=\"text-align: right;\">\n",
       "      <th></th>\n",
       "      <th>project_id</th>\n",
       "      <th>single_phase_cost</th>\n",
       "      <th>single_phase_expenditure_amt</th>\n",
       "    </tr>\n",
       "  </thead>\n",
       "  <tbody>\n",
       "    <tr>\n",
       "      <th>0</th>\n",
       "      <td>0001(002)</td>\n",
       "      <td>20743617.04</td>\n",
       "      <td>20743617.04</td>\n",
       "    </tr>\n",
       "    <tr>\n",
       "      <th>1</th>\n",
       "      <td>0014(005)</td>\n",
       "      <td>879983.23</td>\n",
       "      <td>879983.23</td>\n",
       "    </tr>\n",
       "    <tr>\n",
       "      <th>2</th>\n",
       "      <td>0027(012)</td>\n",
       "      <td>12830458.87</td>\n",
       "      <td>12830458.87</td>\n",
       "    </tr>\n",
       "    <tr>\n",
       "      <th>3</th>\n",
       "      <td>0061(025)</td>\n",
       "      <td>2595722.00</td>\n",
       "      <td>2595722.00</td>\n",
       "    </tr>\n",
       "    <tr>\n",
       "      <th>4</th>\n",
       "      <td>15A5(001)</td>\n",
       "      <td>849820.30</td>\n",
       "      <td>700737.01</td>\n",
       "    </tr>\n",
       "  </tbody>\n",
       "</table>\n",
       "</div>"
      ],
      "text/plain": [
       "  project_id  single_phase_cost  single_phase_expenditure_amt\n",
       "0  0001(002)        20743617.04                   20743617.04\n",
       "1  0014(005)          879983.23                     879983.23\n",
       "2  0027(012)        12830458.87                   12830458.87\n",
       "3  0061(025)         2595722.00                    2595722.00\n",
       "4  15A5(001)          849820.30                     700737.01"
      ]
     },
     "execution_count": 95,
     "metadata": {},
     "output_type": "execute_result"
    }
   ],
   "source": [
    "fund_phase_df_pivot2.head()"
   ]
  },
  {
   "cell_type": "code",
   "execution_count": 96,
   "id": "9e783436",
   "metadata": {},
   "outputs": [],
   "source": [
    "# Pivot so general_fund will be the column names\n",
    "# https://stackoverflow.com/questions/22798934/pandas-long-to-wide-reshape-by-two-variables\n",
    "fund_phase_df_pivot1 = fund_phase_df_pivot1.pivot_table(index=['project_id'], columns='general_fund', \n",
    "                    values=['single_phase_cost'], aggfunc='sum')"
   ]
  },
  {
   "cell_type": "code",
   "execution_count": 97,
   "id": "7a3a66d3",
   "metadata": {},
   "outputs": [],
   "source": [
    "fund_phase_df_pivot1.columns = fund_phase_df_pivot1.columns.droplevel()"
   ]
  },
  {
   "cell_type": "code",
   "execution_count": 98,
   "id": "30ae1067",
   "metadata": {},
   "outputs": [],
   "source": [
    "fund_phase_df_pivot1 = fund_phase_df_pivot1.reset_index()"
   ]
  },
  {
   "cell_type": "code",
   "execution_count": 99,
   "id": "021140db",
   "metadata": {},
   "outputs": [],
   "source": [
    "fund_phase_df_pivot1 = to_snakecase(fund_phase_df_pivot1)"
   ]
  },
  {
   "cell_type": "code",
   "execution_count": 100,
   "id": "23023022",
   "metadata": {},
   "outputs": [],
   "source": [
    "state_only_columns = list((fund_phase_df_pivot1.filter(regex='account|fd|acct|fund').columns))"
   ]
  },
  {
   "cell_type": "code",
   "execution_count": 101,
   "id": "1d790c5e",
   "metadata": {},
   "outputs": [],
   "source": [
    "state_only_columns.remove('no_fund_info')"
   ]
  },
  {
   "cell_type": "code",
   "execution_count": 102,
   "id": "f6bb400d",
   "metadata": {},
   "outputs": [],
   "source": [
    "state_only_columns.remove('federal_trust_fund')"
   ]
  },
  {
   "cell_type": "code",
   "execution_count": 103,
   "id": "d951cddb",
   "metadata": {},
   "outputs": [],
   "source": [
    "fund_phase_df_pivot1['total_state_funds'] = fund_phase_df_pivot1[state_only_columns].sum(axis = 1).fillna(0)"
   ]
  },
  {
   "cell_type": "code",
   "execution_count": 104,
   "id": "76c7fa9f",
   "metadata": {},
   "outputs": [],
   "source": [
    "# Mask integers with bool\n",
    "fund_phase_df_pivot_bool = fund_phase_df_pivot1.fillna('No')"
   ]
  },
  {
   "cell_type": "code",
   "execution_count": 105,
   "id": "6902350d",
   "metadata": {},
   "outputs": [],
   "source": [
    "fund_phase_df_pivot_bool = fund_phase_df_pivot_bool.mask(fund_phase_df_pivot_bool.apply(lambda x : pd.to_numeric(x,errors='coerce')).notnull(),'Yes')"
   ]
  },
  {
   "cell_type": "code",
   "execution_count": 106,
   "id": "1a905b14",
   "metadata": {},
   "outputs": [],
   "source": [
    "# Merge again so projects will have total budgeted amount\n",
    "# for the single phase and expenditure\n",
    "final_fund_phase_df = pd.merge(fund_phase_df_pivot1, fund_phase_df_pivot2, on = ['project_id'])"
   ]
  },
  {
   "cell_type": "code",
   "execution_count": 107,
   "id": "2a8fca95",
   "metadata": {},
   "outputs": [],
   "source": [
    "final_fund_phase_df['total_federal_funds'] = final_fund_phase_df.federal_trust_fund"
   ]
  },
  {
   "cell_type": "code",
   "execution_count": 108,
   "id": "8e6801cc",
   "metadata": {},
   "outputs": [
    {
     "data": {
      "text/plain": [
       "(4407, 20)"
      ]
     },
     "execution_count": 108,
     "metadata": {},
     "output_type": "execute_result"
    }
   ],
   "source": [
    "final_fund_phase_df.shape"
   ]
  },
  {
   "cell_type": "code",
   "execution_count": 109,
   "id": "c15c5770",
   "metadata": {},
   "outputs": [
    {
     "data": {
      "text/plain": [
       "4407"
      ]
     },
     "execution_count": 109,
     "metadata": {},
     "output_type": "execute_result"
    }
   ],
   "source": [
    "final_fund_phase_df.project_id.nunique()"
   ]
  },
  {
   "cell_type": "code",
   "execution_count": 110,
   "id": "a98a3277",
   "metadata": {},
   "outputs": [],
   "source": [
    "def is_state_funds(row):\n",
    "    if row.total_state_funds > 0:\n",
    "        return \"Yes\"\n",
    "    else:\n",
    "        return \"No\""
   ]
  },
  {
   "cell_type": "code",
   "execution_count": 111,
   "id": "89beba64",
   "metadata": {},
   "outputs": [],
   "source": [
    "def is_fed_funds(row):\n",
    "    if row.total_federal_funds > 0:\n",
    "        return \"Yes\"\n",
    "    else:\n",
    "        return \"No\""
   ]
  },
  {
   "cell_type": "code",
   "execution_count": 112,
   "id": "ed9e1cfc",
   "metadata": {},
   "outputs": [],
   "source": [
    "final_fund_phase_df[\"is_state\"] = final_fund_phase_df.apply(is_state_funds, axis=1)"
   ]
  },
  {
   "cell_type": "code",
   "execution_count": 113,
   "id": "6589dd4a",
   "metadata": {},
   "outputs": [],
   "source": [
    "final_fund_phase_df[\"is_federal\"] = final_fund_phase_df.apply(is_fed_funds, axis=1)"
   ]
  },
  {
   "cell_type": "code",
   "execution_count": 114,
   "id": "19a9c10e",
   "metadata": {},
   "outputs": [],
   "source": [
    "final_fund_phase_df = final_fund_phase_df.fillna(0)"
   ]
  },
  {
   "cell_type": "code",
   "execution_count": 115,
   "id": "0e32b258",
   "metadata": {},
   "outputs": [
    {
     "data": {
      "text/html": [
       "<div>\n",
       "<style scoped>\n",
       "    .dataframe tbody tr th:only-of-type {\n",
       "        vertical-align: middle;\n",
       "    }\n",
       "\n",
       "    .dataframe tbody tr th {\n",
       "        vertical-align: top;\n",
       "    }\n",
       "\n",
       "    .dataframe thead th {\n",
       "        text-align: right;\n",
       "    }\n",
       "</style>\n",
       "<table border=\"1\" class=\"dataframe\">\n",
       "  <thead>\n",
       "    <tr style=\"text-align: right;\">\n",
       "      <th></th>\n",
       "      <th>project_id</th>\n",
       "      <th>corridor_mobility_improvement_account</th>\n",
       "      <th>environmental_enhanc_&amp;_mitigat_prgm_fd</th>\n",
       "      <th>federal_trust_fund</th>\n",
       "      <th>highway_safety,rehabilitation,&amp;_preservation_acct</th>\n",
       "      <th>local_bridge_seismic_retrofit_acct</th>\n",
       "      <th>no_fund_info</th>\n",
       "      <th>road_maintenance_&amp;_rehabilitation_account,_stf</th>\n",
       "      <th>state_highway_account</th>\n",
       "      <th>state-local_partnership_program_acct</th>\n",
       "      <th>trade_corridor_enhancement_account,_stf</th>\n",
       "      <th>trade_corridors_improvement_fund</th>\n",
       "      <th>traffic_congestion_relief_fund</th>\n",
       "      <th>transportation_deferred_investment_fund</th>\n",
       "      <th>transportation_faciilities_account</th>\n",
       "      <th>transportation_investment_fund</th>\n",
       "      <th>total_state_funds</th>\n",
       "      <th>single_phase_cost</th>\n",
       "      <th>single_phase_expenditure_amt</th>\n",
       "      <th>total_federal_funds</th>\n",
       "      <th>is_state</th>\n",
       "      <th>is_federal</th>\n",
       "    </tr>\n",
       "  </thead>\n",
       "  <tbody>\n",
       "    <tr>\n",
       "      <th>3593</th>\n",
       "      <td>5961(018)</td>\n",
       "      <td>0.00</td>\n",
       "      <td>0.00</td>\n",
       "      <td>0.00</td>\n",
       "      <td>0.00</td>\n",
       "      <td>0.00</td>\n",
       "      <td>3023637.00</td>\n",
       "      <td>0.00</td>\n",
       "      <td>0.00</td>\n",
       "      <td>0.00</td>\n",
       "      <td>0.00</td>\n",
       "      <td>0.00</td>\n",
       "      <td>0.00</td>\n",
       "      <td>0.00</td>\n",
       "      <td>0.00</td>\n",
       "      <td>0.00</td>\n",
       "      <td>0.00</td>\n",
       "      <td>3023637.00</td>\n",
       "      <td>0.00</td>\n",
       "      <td>0.00</td>\n",
       "      <td>No</td>\n",
       "      <td>No</td>\n",
       "    </tr>\n",
       "  </tbody>\n",
       "</table>\n",
       "</div>"
      ],
      "text/plain": [
       "     project_id  corridor_mobility_improvement_account  \\\n",
       "3593  5961(018)                                   0.00   \n",
       "\n",
       "      environmental_enhanc_&_mitigat_prgm_fd  federal_trust_fund  \\\n",
       "3593                                    0.00                0.00   \n",
       "\n",
       "      highway_safety,rehabilitation,&_preservation_acct  \\\n",
       "3593                                               0.00   \n",
       "\n",
       "      local_bridge_seismic_retrofit_acct  no_fund_info  \\\n",
       "3593                                0.00    3023637.00   \n",
       "\n",
       "      road_maintenance_&_rehabilitation_account,_stf  state_highway_account  \\\n",
       "3593                                            0.00                   0.00   \n",
       "\n",
       "      state-local_partnership_program_acct  \\\n",
       "3593                                  0.00   \n",
       "\n",
       "      trade_corridor_enhancement_account,_stf  \\\n",
       "3593                                     0.00   \n",
       "\n",
       "      trade_corridors_improvement_fund  traffic_congestion_relief_fund  \\\n",
       "3593                              0.00                            0.00   \n",
       "\n",
       "      transportation_deferred_investment_fund  \\\n",
       "3593                                     0.00   \n",
       "\n",
       "      transportation_faciilities_account  transportation_investment_fund  \\\n",
       "3593                                0.00                            0.00   \n",
       "\n",
       "      total_state_funds  single_phase_cost  single_phase_expenditure_amt  \\\n",
       "3593               0.00         3023637.00                          0.00   \n",
       "\n",
       "      total_federal_funds is_state is_federal  \n",
       "3593                 0.00       No         No  "
      ]
     },
     "execution_count": 115,
     "metadata": {},
     "output_type": "execute_result"
    }
   ],
   "source": [
    "final_fund_phase_df.loc[final_fund_phase_df.no_fund_info != 0 ].sample()"
   ]
  },
  {
   "cell_type": "code",
   "execution_count": 116,
   "id": "cb0fdc23",
   "metadata": {},
   "outputs": [
    {
     "data": {
      "text/html": [
       "<div>\n",
       "<style scoped>\n",
       "    .dataframe tbody tr th:only-of-type {\n",
       "        vertical-align: middle;\n",
       "    }\n",
       "\n",
       "    .dataframe tbody tr th {\n",
       "        vertical-align: top;\n",
       "    }\n",
       "\n",
       "    .dataframe thead th {\n",
       "        text-align: right;\n",
       "    }\n",
       "</style>\n",
       "<table border=\"1\" class=\"dataframe\">\n",
       "  <thead>\n",
       "    <tr style=\"text-align: right;\">\n",
       "      <th></th>\n",
       "      <th></th>\n",
       "      <th>project_id</th>\n",
       "    </tr>\n",
       "    <tr>\n",
       "      <th>is_state</th>\n",
       "      <th>is_federal</th>\n",
       "      <th></th>\n",
       "    </tr>\n",
       "  </thead>\n",
       "  <tbody>\n",
       "    <tr>\n",
       "      <th rowspan=\"2\" valign=\"top\">No</th>\n",
       "      <th>No</th>\n",
       "      <td>356</td>\n",
       "    </tr>\n",
       "    <tr>\n",
       "      <th>Yes</th>\n",
       "      <td>2657</td>\n",
       "    </tr>\n",
       "    <tr>\n",
       "      <th rowspan=\"2\" valign=\"top\">Yes</th>\n",
       "      <th>No</th>\n",
       "      <td>1253</td>\n",
       "    </tr>\n",
       "    <tr>\n",
       "      <th>Yes</th>\n",
       "      <td>141</td>\n",
       "    </tr>\n",
       "  </tbody>\n",
       "</table>\n",
       "</div>"
      ],
      "text/plain": [
       "                     project_id\n",
       "is_state is_federal            \n",
       "No       No                 356\n",
       "         Yes               2657\n",
       "Yes      No                1253\n",
       "         Yes                141"
      ]
     },
     "execution_count": 116,
     "metadata": {},
     "output_type": "execute_result"
    }
   ],
   "source": [
    "final_fund_phase_df.groupby(['is_state','is_federal']).agg({\"project_id\":'nunique'})"
   ]
  },
  {
   "cell_type": "markdown",
   "id": "9ec14040",
   "metadata": {},
   "source": [
    "### Double Checking\n",
    "* Make sure the project flag is correct"
   ]
  },
  {
   "cell_type": "code",
   "execution_count": 117,
   "id": "b8e3efd4",
   "metadata": {},
   "outputs": [
    {
     "data": {
      "text/plain": [
       "6211(130)    32\n",
       "5908(031)    28\n",
       "6211(131)    27\n",
       "6053(130)    25\n",
       "5006(219)    23\n",
       "Name: project_id, dtype: int64"
      ]
     },
     "execution_count": 117,
     "metadata": {},
     "output_type": "execute_result"
    }
   ],
   "source": [
    "fund_phase_df.project_id.value_counts().head()"
   ]
  },
  {
   "cell_type": "code",
   "execution_count": 118,
   "id": "21f95d4d",
   "metadata": {},
   "outputs": [
    {
     "data": {
      "text/html": [
       "<style  type=\"text/css\" >\n",
       "#T_a844c_row0_col20,#T_a844c_row0_col21{\n",
       "            color:  red;\n",
       "        }</style><table id=\"T_a844c_\" ><thead>    <tr>        <th class=\"blank level0\" ></th>        <th class=\"col_heading level0 col0\" >project_id</th>        <th class=\"col_heading level0 col1\" >corridor_mobility_improvement_account</th>        <th class=\"col_heading level0 col2\" >environmental_enhanc_&_mitigat_prgm_fd</th>        <th class=\"col_heading level0 col3\" >federal_trust_fund</th>        <th class=\"col_heading level0 col4\" >highway_safety,rehabilitation,&_preservation_acct</th>        <th class=\"col_heading level0 col5\" >local_bridge_seismic_retrofit_acct</th>        <th class=\"col_heading level0 col6\" >no_fund_info</th>        <th class=\"col_heading level0 col7\" >road_maintenance_&_rehabilitation_account,_stf</th>        <th class=\"col_heading level0 col8\" >state_highway_account</th>        <th class=\"col_heading level0 col9\" >state-local_partnership_program_acct</th>        <th class=\"col_heading level0 col10\" >trade_corridor_enhancement_account,_stf</th>        <th class=\"col_heading level0 col11\" >trade_corridors_improvement_fund</th>        <th class=\"col_heading level0 col12\" >traffic_congestion_relief_fund</th>        <th class=\"col_heading level0 col13\" >transportation_deferred_investment_fund</th>        <th class=\"col_heading level0 col14\" >transportation_faciilities_account</th>        <th class=\"col_heading level0 col15\" >transportation_investment_fund</th>        <th class=\"col_heading level0 col16\" >total_state_funds</th>        <th class=\"col_heading level0 col17\" >single_phase_cost</th>        <th class=\"col_heading level0 col18\" >single_phase_expenditure_amt</th>        <th class=\"col_heading level0 col19\" >total_federal_funds</th>        <th class=\"col_heading level0 col20\" >is_state</th>        <th class=\"col_heading level0 col21\" >is_federal</th>    </tr></thead><tbody>\n",
       "                <tr>\n",
       "                        <th id=\"T_a844c_level0_row0\" class=\"row_heading level0 row0\" >3296</th>\n",
       "                        <td id=\"T_a844c_row0_col0\" class=\"data row0 col0\" >5944(068)</td>\n",
       "                        <td id=\"T_a844c_row0_col1\" class=\"data row0 col1\" >0.000000</td>\n",
       "                        <td id=\"T_a844c_row0_col2\" class=\"data row0 col2\" >0.000000</td>\n",
       "                        <td id=\"T_a844c_row0_col3\" class=\"data row0 col3\" >5412383.390000</td>\n",
       "                        <td id=\"T_a844c_row0_col4\" class=\"data row0 col4\" >0.000000</td>\n",
       "                        <td id=\"T_a844c_row0_col5\" class=\"data row0 col5\" >0.000000</td>\n",
       "                        <td id=\"T_a844c_row0_col6\" class=\"data row0 col6\" >0.000000</td>\n",
       "                        <td id=\"T_a844c_row0_col7\" class=\"data row0 col7\" >0.000000</td>\n",
       "                        <td id=\"T_a844c_row0_col8\" class=\"data row0 col8\" >0.000000</td>\n",
       "                        <td id=\"T_a844c_row0_col9\" class=\"data row0 col9\" >0.000000</td>\n",
       "                        <td id=\"T_a844c_row0_col10\" class=\"data row0 col10\" >0.000000</td>\n",
       "                        <td id=\"T_a844c_row0_col11\" class=\"data row0 col11\" >0.000000</td>\n",
       "                        <td id=\"T_a844c_row0_col12\" class=\"data row0 col12\" >0.000000</td>\n",
       "                        <td id=\"T_a844c_row0_col13\" class=\"data row0 col13\" >0.000000</td>\n",
       "                        <td id=\"T_a844c_row0_col14\" class=\"data row0 col14\" >0.000000</td>\n",
       "                        <td id=\"T_a844c_row0_col15\" class=\"data row0 col15\" >85000.000000</td>\n",
       "                        <td id=\"T_a844c_row0_col16\" class=\"data row0 col16\" >85000.000000</td>\n",
       "                        <td id=\"T_a844c_row0_col17\" class=\"data row0 col17\" >5497383.390000</td>\n",
       "                        <td id=\"T_a844c_row0_col18\" class=\"data row0 col18\" >5497383.390000</td>\n",
       "                        <td id=\"T_a844c_row0_col19\" class=\"data row0 col19\" >5412383.390000</td>\n",
       "                        <td id=\"T_a844c_row0_col20\" class=\"data row0 col20\" >Yes</td>\n",
       "                        <td id=\"T_a844c_row0_col21\" class=\"data row0 col21\" >Yes</td>\n",
       "            </tr>\n",
       "    </tbody></table>"
      ],
      "text/plain": [
       "<pandas.io.formats.style.Styler at 0x28f11ef8548>"
      ]
     },
     "execution_count": 118,
     "metadata": {},
     "output_type": "execute_result"
    }
   ],
   "source": [
    "final_fund_phase_df.loc[final_fund_phase_df.project_id == '5944(068)'].style.where(lambda val: 'Yes' in str(val), 'color: red')"
   ]
  },
  {
   "cell_type": "code",
   "execution_count": 119,
   "id": "51ae9264",
   "metadata": {},
   "outputs": [
    {
     "data": {
      "text/html": [
       "<div>\n",
       "<style scoped>\n",
       "    .dataframe tbody tr th:only-of-type {\n",
       "        vertical-align: middle;\n",
       "    }\n",
       "\n",
       "    .dataframe tbody tr th {\n",
       "        vertical-align: top;\n",
       "    }\n",
       "\n",
       "    .dataframe thead th {\n",
       "        text-align: right;\n",
       "    }\n",
       "</style>\n",
       "<table border=\"1\" class=\"dataframe\">\n",
       "  <thead>\n",
       "    <tr style=\"text-align: right;\">\n",
       "      <th></th>\n",
       "      <th>adv_project_id</th>\n",
       "      <th>fund_code</th>\n",
       "      <th>pec_code</th>\n",
       "      <th>appropriation_category_code</th>\n",
       "      <th>curr_bud_am</th>\n",
       "      <th>cash_exp_am</th>\n",
       "      <th>pect_task_code</th>\n",
       "      <th>project_id</th>\n",
       "      <th>general_fund</th>\n",
       "    </tr>\n",
       "  </thead>\n",
       "  <tbody>\n",
       "    <tr>\n",
       "      <th>3907</th>\n",
       "      <td>0500000588</td>\n",
       "      <td>0890</td>\n",
       "      <td>2030010</td>\n",
       "      <td>0203</td>\n",
       "      <td>630485.13</td>\n",
       "      <td>630485.13</td>\n",
       "      <td>300</td>\n",
       "      <td>5944(068)</td>\n",
       "      <td>Federal Trust Fund</td>\n",
       "    </tr>\n",
       "    <tr>\n",
       "      <th>3908</th>\n",
       "      <td>0500000588</td>\n",
       "      <td>3008</td>\n",
       "      <td>2030600</td>\n",
       "      <td>0506</td>\n",
       "      <td>85000.00</td>\n",
       "      <td>85000.00</td>\n",
       "      <td>620</td>\n",
       "      <td>5944(068)</td>\n",
       "      <td>Transportation Investment Fund</td>\n",
       "    </tr>\n",
       "    <tr>\n",
       "      <th>3909</th>\n",
       "      <td>0500000588</td>\n",
       "      <td>0890</td>\n",
       "      <td>2030010</td>\n",
       "      <td>0910</td>\n",
       "      <td>809514.72</td>\n",
       "      <td>809514.72</td>\n",
       "      <td>300</td>\n",
       "      <td>5944(068)</td>\n",
       "      <td>Federal Trust Fund</td>\n",
       "    </tr>\n",
       "    <tr>\n",
       "      <th>3910</th>\n",
       "      <td>0500000588</td>\n",
       "      <td>0890</td>\n",
       "      <td>2030010</td>\n",
       "      <td>1213</td>\n",
       "      <td>1001729.00</td>\n",
       "      <td>1001729.00</td>\n",
       "      <td>300</td>\n",
       "      <td>5944(068)</td>\n",
       "      <td>Federal Trust Fund</td>\n",
       "    </tr>\n",
       "    <tr>\n",
       "      <th>3911</th>\n",
       "      <td>0500000588</td>\n",
       "      <td>0890</td>\n",
       "      <td>2030010</td>\n",
       "      <td>1516</td>\n",
       "      <td>2970654.54</td>\n",
       "      <td>2970654.54</td>\n",
       "      <td>300</td>\n",
       "      <td>5944(068)</td>\n",
       "      <td>Federal Trust Fund</td>\n",
       "    </tr>\n",
       "  </tbody>\n",
       "</table>\n",
       "</div>"
      ],
      "text/plain": [
       "     adv_project_id fund_code pec_code appropriation_category_code  \\\n",
       "3907     0500000588      0890  2030010                        0203   \n",
       "3908     0500000588      3008  2030600                        0506   \n",
       "3909     0500000588      0890  2030010                        0910   \n",
       "3910     0500000588      0890  2030010                        1213   \n",
       "3911     0500000588      0890  2030010                        1516   \n",
       "\n",
       "      curr_bud_am  cash_exp_am  pect_task_code project_id  \\\n",
       "3907    630485.13    630485.13             300  5944(068)   \n",
       "3908     85000.00     85000.00             620  5944(068)   \n",
       "3909    809514.72    809514.72             300  5944(068)   \n",
       "3910   1001729.00   1001729.00             300  5944(068)   \n",
       "3911   2970654.54   2970654.54             300  5944(068)   \n",
       "\n",
       "                        general_fund  \n",
       "3907              Federal Trust Fund  \n",
       "3908  Transportation Investment Fund  \n",
       "3909              Federal Trust Fund  \n",
       "3910              Federal Trust Fund  \n",
       "3911              Federal Trust Fund  "
      ]
     },
     "execution_count": 119,
     "metadata": {},
     "output_type": "execute_result"
    }
   ],
   "source": [
    "fund_phase_df.loc[fund_phase_df.project_id == '5944(068)']"
   ]
  },
  {
   "cell_type": "code",
   "execution_count": 120,
   "id": "1e14f697",
   "metadata": {},
   "outputs": [
    {
     "data": {
      "text/plain": [
       "curr_bud_am   5412383.39\n",
       "dtype: float64"
      ]
     },
     "execution_count": 120,
     "metadata": {},
     "output_type": "execute_result"
    }
   ],
   "source": [
    "fund_phase_df.loc[(fund_phase_df.project_id == '5944(068)')&(fund_phase_df.general_fund == 'Federal Trust Fund')][['curr_bud_am']].sum()"
   ]
  },
  {
   "cell_type": "code",
   "execution_count": 121,
   "id": "0bcd89e6",
   "metadata": {},
   "outputs": [
    {
     "data": {
      "text/plain": [
       "curr_bud_am   5497383.39\n",
       "dtype: float64"
      ]
     },
     "execution_count": 121,
     "metadata": {},
     "output_type": "execute_result"
    }
   ],
   "source": [
    "fund_phase_df.loc[fund_phase_df.project_id == '5944(068)'][['curr_bud_am']].sum()"
   ]
  },
  {
   "cell_type": "code",
   "execution_count": 122,
   "id": "0305719f",
   "metadata": {},
   "outputs": [
    {
     "data": {
      "text/plain": [
       "3296   5497383.39\n",
       "dtype: float64"
      ]
     },
     "execution_count": 122,
     "metadata": {},
     "output_type": "execute_result"
    }
   ],
   "source": [
    "final_fund_phase_df.loc[final_fund_phase_df.project_id == '5944(068)'].total_state_funds + final_fund_phase_df.loc[final_fund_phase_df.project_id == '5944(068)'].federal_trust_fund"
   ]
  },
  {
   "cell_type": "code",
   "execution_count": 123,
   "id": "de7f9707",
   "metadata": {},
   "outputs": [
    {
     "data": {
      "text/html": [
       "<div>\n",
       "<style scoped>\n",
       "    .dataframe tbody tr th:only-of-type {\n",
       "        vertical-align: middle;\n",
       "    }\n",
       "\n",
       "    .dataframe tbody tr th {\n",
       "        vertical-align: top;\n",
       "    }\n",
       "\n",
       "    .dataframe thead th {\n",
       "        text-align: right;\n",
       "    }\n",
       "</style>\n",
       "<table border=\"1\" class=\"dataframe\">\n",
       "  <thead>\n",
       "    <tr style=\"text-align: right;\">\n",
       "      <th></th>\n",
       "      <th>project_id</th>\n",
       "      <th>corridor_mobility_improvement_account</th>\n",
       "      <th>environmental_enhanc_&amp;_mitigat_prgm_fd</th>\n",
       "      <th>federal_trust_fund</th>\n",
       "      <th>highway_safety,rehabilitation,&amp;_preservation_acct</th>\n",
       "      <th>local_bridge_seismic_retrofit_acct</th>\n",
       "      <th>no_fund_info</th>\n",
       "      <th>road_maintenance_&amp;_rehabilitation_account,_stf</th>\n",
       "      <th>state_highway_account</th>\n",
       "      <th>state-local_partnership_program_acct</th>\n",
       "      <th>trade_corridor_enhancement_account,_stf</th>\n",
       "      <th>trade_corridors_improvement_fund</th>\n",
       "      <th>traffic_congestion_relief_fund</th>\n",
       "      <th>transportation_deferred_investment_fund</th>\n",
       "      <th>transportation_faciilities_account</th>\n",
       "      <th>transportation_investment_fund</th>\n",
       "      <th>total_state_funds</th>\n",
       "      <th>single_phase_cost</th>\n",
       "      <th>single_phase_expenditure_amt</th>\n",
       "      <th>total_federal_funds</th>\n",
       "      <th>is_state</th>\n",
       "      <th>is_federal</th>\n",
       "    </tr>\n",
       "  </thead>\n",
       "  <tbody>\n",
       "    <tr>\n",
       "      <th>399</th>\n",
       "      <td>5006(219)</td>\n",
       "      <td>0.00</td>\n",
       "      <td>0.00</td>\n",
       "      <td>32967253.86</td>\n",
       "      <td>0.00</td>\n",
       "      <td>229400.00</td>\n",
       "      <td>0.00</td>\n",
       "      <td>0.00</td>\n",
       "      <td>0.00</td>\n",
       "      <td>0.00</td>\n",
       "      <td>0.00</td>\n",
       "      <td>0.00</td>\n",
       "      <td>0.00</td>\n",
       "      <td>0.00</td>\n",
       "      <td>0.00</td>\n",
       "      <td>0.00</td>\n",
       "      <td>229400.00</td>\n",
       "      <td>33196653.86</td>\n",
       "      <td>32534546.43</td>\n",
       "      <td>32967253.86</td>\n",
       "      <td>Yes</td>\n",
       "      <td>Yes</td>\n",
       "    </tr>\n",
       "  </tbody>\n",
       "</table>\n",
       "</div>"
      ],
      "text/plain": [
       "    project_id  corridor_mobility_improvement_account  \\\n",
       "399  5006(219)                                   0.00   \n",
       "\n",
       "     environmental_enhanc_&_mitigat_prgm_fd  federal_trust_fund  \\\n",
       "399                                    0.00         32967253.86   \n",
       "\n",
       "     highway_safety,rehabilitation,&_preservation_acct  \\\n",
       "399                                               0.00   \n",
       "\n",
       "     local_bridge_seismic_retrofit_acct  no_fund_info  \\\n",
       "399                           229400.00          0.00   \n",
       "\n",
       "     road_maintenance_&_rehabilitation_account,_stf  state_highway_account  \\\n",
       "399                                            0.00                   0.00   \n",
       "\n",
       "     state-local_partnership_program_acct  \\\n",
       "399                                  0.00   \n",
       "\n",
       "     trade_corridor_enhancement_account,_stf  \\\n",
       "399                                     0.00   \n",
       "\n",
       "     trade_corridors_improvement_fund  traffic_congestion_relief_fund  \\\n",
       "399                              0.00                            0.00   \n",
       "\n",
       "     transportation_deferred_investment_fund  \\\n",
       "399                                     0.00   \n",
       "\n",
       "     transportation_faciilities_account  transportation_investment_fund  \\\n",
       "399                                0.00                            0.00   \n",
       "\n",
       "     total_state_funds  single_phase_cost  single_phase_expenditure_amt  \\\n",
       "399          229400.00        33196653.86                   32534546.43   \n",
       "\n",
       "     total_federal_funds is_state is_federal  \n",
       "399          32967253.86      Yes        Yes  "
      ]
     },
     "execution_count": 123,
     "metadata": {},
     "output_type": "execute_result"
    }
   ],
   "source": [
    "final_fund_phase_df.loc[final_fund_phase_df.project_id == '5006(219)']"
   ]
  },
  {
   "cell_type": "code",
   "execution_count": 124,
   "id": "6ae848db",
   "metadata": {},
   "outputs": [
    {
     "data": {
      "text/plain": [
       "curr_bud_am   32967253.86\n",
       "dtype: float64"
      ]
     },
     "execution_count": 124,
     "metadata": {},
     "output_type": "execute_result"
    }
   ],
   "source": [
    "fund_phase_df.loc[(fund_phase_df.project_id == '5006(219)')&(fund_phase_df.general_fund == 'Federal Trust Fund')][['curr_bud_am']].sum()"
   ]
  },
  {
   "cell_type": "code",
   "execution_count": 125,
   "id": "622b6a79",
   "metadata": {},
   "outputs": [
    {
     "data": {
      "text/plain": [
       "33196653.86"
      ]
     },
     "execution_count": 125,
     "metadata": {},
     "output_type": "execute_result"
    }
   ],
   "source": [
    "229400.00 + 32967253.86"
   ]
  },
  {
   "cell_type": "code",
   "execution_count": 126,
   "id": "d506db0b",
   "metadata": {},
   "outputs": [
    {
     "data": {
      "text/html": [
       "<div>\n",
       "<style scoped>\n",
       "    .dataframe tbody tr th:only-of-type {\n",
       "        vertical-align: middle;\n",
       "    }\n",
       "\n",
       "    .dataframe tbody tr th {\n",
       "        vertical-align: top;\n",
       "    }\n",
       "\n",
       "    .dataframe thead th {\n",
       "        text-align: right;\n",
       "    }\n",
       "</style>\n",
       "<table border=\"1\" class=\"dataframe\">\n",
       "  <thead>\n",
       "    <tr style=\"text-align: right;\">\n",
       "      <th></th>\n",
       "      <th>adv_project_id</th>\n",
       "      <th>fund_code</th>\n",
       "      <th>pec_code</th>\n",
       "      <th>appropriation_category_code</th>\n",
       "      <th>curr_bud_am</th>\n",
       "      <th>cash_exp_am</th>\n",
       "      <th>pect_task_code</th>\n",
       "      <th>project_id</th>\n",
       "      <th>general_fund</th>\n",
       "    </tr>\n",
       "  </thead>\n",
       "  <tbody>\n",
       "    <tr>\n",
       "      <th>5904</th>\n",
       "      <td>0700001158</td>\n",
       "      <td>0890</td>\n",
       "      <td>2030010</td>\n",
       "      <td>0506</td>\n",
       "      <td>1000000.00</td>\n",
       "      <td>1000000.00</td>\n",
       "      <td>810</td>\n",
       "      <td>5006(219)</td>\n",
       "      <td>Federal Trust Fund</td>\n",
       "    </tr>\n",
       "    <tr>\n",
       "      <th>5905</th>\n",
       "      <td>0700001158</td>\n",
       "      <td>0890</td>\n",
       "      <td>2030010</td>\n",
       "      <td>1415</td>\n",
       "      <td>0.00</td>\n",
       "      <td>0.00</td>\n",
       "      <td>300</td>\n",
       "      <td>5006(219)</td>\n",
       "      <td>Federal Trust Fund</td>\n",
       "    </tr>\n",
       "    <tr>\n",
       "      <th>5906</th>\n",
       "      <td>0700001158</td>\n",
       "      <td>0890</td>\n",
       "      <td>2030010</td>\n",
       "      <td>0809</td>\n",
       "      <td>1691542.00</td>\n",
       "      <td>1691542.00</td>\n",
       "      <td>810</td>\n",
       "      <td>5006(219)</td>\n",
       "      <td>Federal Trust Fund</td>\n",
       "    </tr>\n",
       "    <tr>\n",
       "      <th>5907</th>\n",
       "      <td>0700001158</td>\n",
       "      <td>0890</td>\n",
       "      <td>2030010</td>\n",
       "      <td>1011</td>\n",
       "      <td>25448.42</td>\n",
       "      <td>25448.42</td>\n",
       "      <td>810</td>\n",
       "      <td>5006(219)</td>\n",
       "      <td>Federal Trust Fund</td>\n",
       "    </tr>\n",
       "    <tr>\n",
       "      <th>5908</th>\n",
       "      <td>0700001158</td>\n",
       "      <td>0890</td>\n",
       "      <td>2030010</td>\n",
       "      <td>1112</td>\n",
       "      <td>20206009.54</td>\n",
       "      <td>20206009.54</td>\n",
       "      <td>300</td>\n",
       "      <td>5006(219)</td>\n",
       "      <td>Federal Trust Fund</td>\n",
       "    </tr>\n",
       "    <tr>\n",
       "      <th>5909</th>\n",
       "      <td>0700001158</td>\n",
       "      <td>0890</td>\n",
       "      <td>2030010</td>\n",
       "      <td>1314</td>\n",
       "      <td>3216979.12</td>\n",
       "      <td>3216979.12</td>\n",
       "      <td>300</td>\n",
       "      <td>5006(219)</td>\n",
       "      <td>Federal Trust Fund</td>\n",
       "    </tr>\n",
       "    <tr>\n",
       "      <th>5910</th>\n",
       "      <td>0700001158</td>\n",
       "      <td>0890</td>\n",
       "      <td>2030010</td>\n",
       "      <td>1415</td>\n",
       "      <td>154672.27</td>\n",
       "      <td>154672.27</td>\n",
       "      <td>300</td>\n",
       "      <td>5006(219)</td>\n",
       "      <td>Federal Trust Fund</td>\n",
       "    </tr>\n",
       "    <tr>\n",
       "      <th>5911</th>\n",
       "      <td>0700001158</td>\n",
       "      <td>0890</td>\n",
       "      <td>2030010</td>\n",
       "      <td>1617</td>\n",
       "      <td>608787.00</td>\n",
       "      <td>294068.82</td>\n",
       "      <td>300</td>\n",
       "      <td>5006(219)</td>\n",
       "      <td>Federal Trust Fund</td>\n",
       "    </tr>\n",
       "    <tr>\n",
       "      <th>5912</th>\n",
       "      <td>0700001158</td>\n",
       "      <td>0890</td>\n",
       "      <td>2030010</td>\n",
       "      <td>1920</td>\n",
       "      <td>1876299.00</td>\n",
       "      <td>1653630.55</td>\n",
       "      <td>300</td>\n",
       "      <td>5006(219)</td>\n",
       "      <td>Federal Trust Fund</td>\n",
       "    </tr>\n",
       "    <tr>\n",
       "      <th>5913</th>\n",
       "      <td>0700001158</td>\n",
       "      <td>0890</td>\n",
       "      <td>2030010</td>\n",
       "      <td>1819</td>\n",
       "      <td>106000.00</td>\n",
       "      <td>94331.53</td>\n",
       "      <td>300</td>\n",
       "      <td>5006(219)</td>\n",
       "      <td>Federal Trust Fund</td>\n",
       "    </tr>\n",
       "    <tr>\n",
       "      <th>5914</th>\n",
       "      <td>0700001158</td>\n",
       "      <td>0890</td>\n",
       "      <td>2030010</td>\n",
       "      <td>1819</td>\n",
       "      <td>626000.00</td>\n",
       "      <td>512947.67</td>\n",
       "      <td>300</td>\n",
       "      <td>5006(219)</td>\n",
       "      <td>Federal Trust Fund</td>\n",
       "    </tr>\n",
       "    <tr>\n",
       "      <th>5915</th>\n",
       "      <td>0700001158</td>\n",
       "      <td>0890</td>\n",
       "      <td>2030010</td>\n",
       "      <td>1011</td>\n",
       "      <td>20985.52</td>\n",
       "      <td>20985.52</td>\n",
       "      <td>300</td>\n",
       "      <td>5006(219)</td>\n",
       "      <td>Federal Trust Fund</td>\n",
       "    </tr>\n",
       "    <tr>\n",
       "      <th>5916</th>\n",
       "      <td>0700001158</td>\n",
       "      <td>0890</td>\n",
       "      <td>2030010</td>\n",
       "      <td>1011</td>\n",
       "      <td>80000.00</td>\n",
       "      <td>80000.00</td>\n",
       "      <td>300</td>\n",
       "      <td>5006(219)</td>\n",
       "      <td>Federal Trust Fund</td>\n",
       "    </tr>\n",
       "    <tr>\n",
       "      <th>5917</th>\n",
       "      <td>0700001158</td>\n",
       "      <td>0890</td>\n",
       "      <td>2030010</td>\n",
       "      <td>1011</td>\n",
       "      <td>210932.42</td>\n",
       "      <td>210932.42</td>\n",
       "      <td>300</td>\n",
       "      <td>5006(219)</td>\n",
       "      <td>Federal Trust Fund</td>\n",
       "    </tr>\n",
       "    <tr>\n",
       "      <th>5918</th>\n",
       "      <td>0700001158</td>\n",
       "      <td>0890</td>\n",
       "      <td>2030010</td>\n",
       "      <td>1011</td>\n",
       "      <td>1338648.66</td>\n",
       "      <td>1338648.66</td>\n",
       "      <td>300</td>\n",
       "      <td>5006(219)</td>\n",
       "      <td>Federal Trust Fund</td>\n",
       "    </tr>\n",
       "    <tr>\n",
       "      <th>5919</th>\n",
       "      <td>0700001158</td>\n",
       "      <td>0890</td>\n",
       "      <td>2030010</td>\n",
       "      <td>1011</td>\n",
       "      <td>19384.57</td>\n",
       "      <td>19384.57</td>\n",
       "      <td>300</td>\n",
       "      <td>5006(219)</td>\n",
       "      <td>Federal Trust Fund</td>\n",
       "    </tr>\n",
       "    <tr>\n",
       "      <th>5920</th>\n",
       "      <td>0700001158</td>\n",
       "      <td>0890</td>\n",
       "      <td>2030010</td>\n",
       "      <td>1415</td>\n",
       "      <td>39345.36</td>\n",
       "      <td>39345.36</td>\n",
       "      <td>300</td>\n",
       "      <td>5006(219)</td>\n",
       "      <td>Federal Trust Fund</td>\n",
       "    </tr>\n",
       "    <tr>\n",
       "      <th>5921</th>\n",
       "      <td>0700001158</td>\n",
       "      <td>0890</td>\n",
       "      <td>2030010</td>\n",
       "      <td>1112</td>\n",
       "      <td>516666.98</td>\n",
       "      <td>516666.98</td>\n",
       "      <td>810</td>\n",
       "      <td>5006(219)</td>\n",
       "      <td>Federal Trust Fund</td>\n",
       "    </tr>\n",
       "    <tr>\n",
       "      <th>5922</th>\n",
       "      <td>0700001158</td>\n",
       "      <td>0890</td>\n",
       "      <td>2030010</td>\n",
       "      <td>1314</td>\n",
       "      <td>0.00</td>\n",
       "      <td>0.00</td>\n",
       "      <td>810</td>\n",
       "      <td>5006(219)</td>\n",
       "      <td>Federal Trust Fund</td>\n",
       "    </tr>\n",
       "    <tr>\n",
       "      <th>5923</th>\n",
       "      <td>0700001158</td>\n",
       "      <td>0890</td>\n",
       "      <td>2030010</td>\n",
       "      <td>1112</td>\n",
       "      <td>0.00</td>\n",
       "      <td>0.00</td>\n",
       "      <td>300</td>\n",
       "      <td>5006(219)</td>\n",
       "      <td>Federal Trust Fund</td>\n",
       "    </tr>\n",
       "    <tr>\n",
       "      <th>5924</th>\n",
       "      <td>0700001158</td>\n",
       "      <td>0890</td>\n",
       "      <td>2030010</td>\n",
       "      <td>1213</td>\n",
       "      <td>392119.00</td>\n",
       "      <td>392119.00</td>\n",
       "      <td>300</td>\n",
       "      <td>5006(219)</td>\n",
       "      <td>Federal Trust Fund</td>\n",
       "    </tr>\n",
       "    <tr>\n",
       "      <th>5925</th>\n",
       "      <td>0700001158</td>\n",
       "      <td>0890</td>\n",
       "      <td>2030010</td>\n",
       "      <td>1415</td>\n",
       "      <td>837434.00</td>\n",
       "      <td>837434.00</td>\n",
       "      <td>300</td>\n",
       "      <td>5006(219)</td>\n",
       "      <td>Federal Trust Fund</td>\n",
       "    </tr>\n",
       "    <tr>\n",
       "      <th>5926</th>\n",
       "      <td>0700001158</td>\n",
       "      <td>6062</td>\n",
       "      <td>2030010</td>\n",
       "      <td>1112</td>\n",
       "      <td>229400.00</td>\n",
       "      <td>229400.00</td>\n",
       "      <td>690</td>\n",
       "      <td>5006(219)</td>\n",
       "      <td>Local Bridge Seismic Retrofit Acct</td>\n",
       "    </tr>\n",
       "  </tbody>\n",
       "</table>\n",
       "</div>"
      ],
      "text/plain": [
       "     adv_project_id fund_code pec_code appropriation_category_code  \\\n",
       "5904     0700001158      0890  2030010                        0506   \n",
       "5905     0700001158      0890  2030010                        1415   \n",
       "5906     0700001158      0890  2030010                        0809   \n",
       "5907     0700001158      0890  2030010                        1011   \n",
       "5908     0700001158      0890  2030010                        1112   \n",
       "5909     0700001158      0890  2030010                        1314   \n",
       "5910     0700001158      0890  2030010                        1415   \n",
       "5911     0700001158      0890  2030010                        1617   \n",
       "5912     0700001158      0890  2030010                        1920   \n",
       "5913     0700001158      0890  2030010                        1819   \n",
       "5914     0700001158      0890  2030010                        1819   \n",
       "5915     0700001158      0890  2030010                        1011   \n",
       "5916     0700001158      0890  2030010                        1011   \n",
       "5917     0700001158      0890  2030010                        1011   \n",
       "5918     0700001158      0890  2030010                        1011   \n",
       "5919     0700001158      0890  2030010                        1011   \n",
       "5920     0700001158      0890  2030010                        1415   \n",
       "5921     0700001158      0890  2030010                        1112   \n",
       "5922     0700001158      0890  2030010                        1314   \n",
       "5923     0700001158      0890  2030010                        1112   \n",
       "5924     0700001158      0890  2030010                        1213   \n",
       "5925     0700001158      0890  2030010                        1415   \n",
       "5926     0700001158      6062  2030010                        1112   \n",
       "\n",
       "      curr_bud_am  cash_exp_am  pect_task_code project_id  \\\n",
       "5904   1000000.00   1000000.00             810  5006(219)   \n",
       "5905         0.00         0.00             300  5006(219)   \n",
       "5906   1691542.00   1691542.00             810  5006(219)   \n",
       "5907     25448.42     25448.42             810  5006(219)   \n",
       "5908  20206009.54  20206009.54             300  5006(219)   \n",
       "5909   3216979.12   3216979.12             300  5006(219)   \n",
       "5910    154672.27    154672.27             300  5006(219)   \n",
       "5911    608787.00    294068.82             300  5006(219)   \n",
       "5912   1876299.00   1653630.55             300  5006(219)   \n",
       "5913    106000.00     94331.53             300  5006(219)   \n",
       "5914    626000.00    512947.67             300  5006(219)   \n",
       "5915     20985.52     20985.52             300  5006(219)   \n",
       "5916     80000.00     80000.00             300  5006(219)   \n",
       "5917    210932.42    210932.42             300  5006(219)   \n",
       "5918   1338648.66   1338648.66             300  5006(219)   \n",
       "5919     19384.57     19384.57             300  5006(219)   \n",
       "5920     39345.36     39345.36             300  5006(219)   \n",
       "5921    516666.98    516666.98             810  5006(219)   \n",
       "5922         0.00         0.00             810  5006(219)   \n",
       "5923         0.00         0.00             300  5006(219)   \n",
       "5924    392119.00    392119.00             300  5006(219)   \n",
       "5925    837434.00    837434.00             300  5006(219)   \n",
       "5926    229400.00    229400.00             690  5006(219)   \n",
       "\n",
       "                            general_fund  \n",
       "5904                  Federal Trust Fund  \n",
       "5905                  Federal Trust Fund  \n",
       "5906                  Federal Trust Fund  \n",
       "5907                  Federal Trust Fund  \n",
       "5908                  Federal Trust Fund  \n",
       "5909                  Federal Trust Fund  \n",
       "5910                  Federal Trust Fund  \n",
       "5911                  Federal Trust Fund  \n",
       "5912                  Federal Trust Fund  \n",
       "5913                  Federal Trust Fund  \n",
       "5914                  Federal Trust Fund  \n",
       "5915                  Federal Trust Fund  \n",
       "5916                  Federal Trust Fund  \n",
       "5917                  Federal Trust Fund  \n",
       "5918                  Federal Trust Fund  \n",
       "5919                  Federal Trust Fund  \n",
       "5920                  Federal Trust Fund  \n",
       "5921                  Federal Trust Fund  \n",
       "5922                  Federal Trust Fund  \n",
       "5923                  Federal Trust Fund  \n",
       "5924                  Federal Trust Fund  \n",
       "5925                  Federal Trust Fund  \n",
       "5926  Local Bridge Seismic Retrofit Acct  "
      ]
     },
     "execution_count": 126,
     "metadata": {},
     "output_type": "execute_result"
    }
   ],
   "source": [
    "fund_phase_df.loc[fund_phase_df.project_id ==  '5006(219)']"
   ]
  },
  {
   "cell_type": "markdown",
   "id": "63c1621d",
   "metadata": {},
   "source": [
    "## Awards Table"
   ]
  },
  {
   "cell_type": "code",
   "execution_count": 127,
   "id": "b1e04d72",
   "metadata": {},
   "outputs": [
    {
     "data": {
      "text/html": [
       "<div>\n",
       "<style scoped>\n",
       "    .dataframe tbody tr th:only-of-type {\n",
       "        vertical-align: middle;\n",
       "    }\n",
       "\n",
       "    .dataframe tbody tr th {\n",
       "        vertical-align: top;\n",
       "    }\n",
       "\n",
       "    .dataframe thead th {\n",
       "        text-align: right;\n",
       "    }\n",
       "</style>\n",
       "<table border=\"1\" class=\"dataframe\">\n",
       "  <thead>\n",
       "    <tr style=\"text-align: right;\">\n",
       "      <th></th>\n",
       "      <th>adv_project_id</th>\n",
       "      <th>fund_code</th>\n",
       "      <th>pec_code</th>\n",
       "      <th>appropriation_category_code</th>\n",
       "      <th>curr_bud_am</th>\n",
       "      <th>cash_exp_am</th>\n",
       "      <th>pect_task_code</th>\n",
       "      <th>project_id</th>\n",
       "      <th>pec</th>\n",
       "      <th>pect</th>\n",
       "      <th>pect_description</th>\n",
       "      <th>program</th>\n",
       "    </tr>\n",
       "  </thead>\n",
       "  <tbody>\n",
       "    <tr>\n",
       "      <th>10321</th>\n",
       "      <td>1214000100</td>\n",
       "      <td>0890</td>\n",
       "      <td>2030010</td>\n",
       "      <td>1920</td>\n",
       "      <td>357.00</td>\n",
       "      <td>357.00</td>\n",
       "      <td>810</td>\n",
       "      <td>6212(024)</td>\n",
       "      <td>2030010</td>\n",
       "      <td>810.00</td>\n",
       "      <td>Regional Surface Transportation Block Grant Program (RSTBGP) and Highway Infrastructure Program (HIP)</td>\n",
       "      <td>Local Assistance</td>\n",
       "    </tr>\n",
       "  </tbody>\n",
       "</table>\n",
       "</div>"
      ],
      "text/plain": [
       "      adv_project_id fund_code pec_code appropriation_category_code  \\\n",
       "10321     1214000100      0890  2030010                        1920   \n",
       "\n",
       "       curr_bud_am  cash_exp_am  pect_task_code project_id      pec   pect  \\\n",
       "10321       357.00       357.00             810  6212(024)  2030010 810.00   \n",
       "\n",
       "                                                                                            pect_description  \\\n",
       "10321  Regional Surface Transportation Block Grant Program (RSTBGP) and Highway Infrastructure Program (HIP)   \n",
       "\n",
       "                program  \n",
       "10321  Local Assistance  "
      ]
     },
     "execution_count": 127,
     "metadata": {},
     "output_type": "execute_result"
    }
   ],
   "source": [
    "pect_df.sample()"
   ]
  },
  {
   "cell_type": "code",
   "execution_count": 128,
   "id": "da0423c1",
   "metadata": {},
   "outputs": [
    {
     "data": {
      "text/html": [
       "<div>\n",
       "<style scoped>\n",
       "    .dataframe tbody tr th:only-of-type {\n",
       "        vertical-align: middle;\n",
       "    }\n",
       "\n",
       "    .dataframe tbody tr th {\n",
       "        vertical-align: top;\n",
       "    }\n",
       "\n",
       "    .dataframe thead th {\n",
       "        text-align: right;\n",
       "    }\n",
       "</style>\n",
       "<table border=\"1\" class=\"dataframe\">\n",
       "  <thead>\n",
       "    <tr style=\"text-align: right;\">\n",
       "      <th></th>\n",
       "      <th>adv_project_id</th>\n",
       "      <th>fund_code</th>\n",
       "      <th>pec_code</th>\n",
       "      <th>appropriation_category_code</th>\n",
       "      <th>curr_bud_am</th>\n",
       "      <th>cash_exp_am</th>\n",
       "      <th>pect_task_code</th>\n",
       "      <th>project_id</th>\n",
       "    </tr>\n",
       "  </thead>\n",
       "  <tbody>\n",
       "    <tr>\n",
       "      <th>4419</th>\n",
       "      <td>0518000016</td>\n",
       "      <td>0890</td>\n",
       "      <td>2030010</td>\n",
       "      <td>2021</td>\n",
       "      <td>359344.00</td>\n",
       "      <td>11339.39</td>\n",
       "      <td>650</td>\n",
       "      <td>32L0(337)</td>\n",
       "    </tr>\n",
       "  </tbody>\n",
       "</table>\n",
       "</div>"
      ],
      "text/plain": [
       "     adv_project_id fund_code pec_code appropriation_category_code  \\\n",
       "4419     0518000016      0890  2030010                        2021   \n",
       "\n",
       "      curr_bud_am  cash_exp_am  pect_task_code project_id  \n",
       "4419    359344.00     11339.39             650  32L0(337)  "
      ]
     },
     "execution_count": 128,
     "metadata": {},
     "output_type": "execute_result"
    }
   ],
   "source": [
    "accounting_df.sample()"
   ]
  },
  {
   "cell_type": "code",
   "execution_count": 129,
   "id": "928be65e",
   "metadata": {},
   "outputs": [],
   "source": [
    "# Only want the most recent year of a pec_code listed once\n",
    "awards_df = (pect_df\n",
    "                  .groupby(['project_id', 'program'])\n",
    "                  .agg({'appropriation_category_code':'max'})\n",
    "                  .reset_index()\n",
    "                  .rename(columns = {'appropriation_category_code':'state_fiscal_awarded_year',\n",
    "                                     'program':'grant_program'})\n",
    "                  )"
   ]
  },
  {
   "cell_type": "markdown",
   "id": "aa318849",
   "metadata": {},
   "source": [
    "## Checks"
   ]
  },
  {
   "cell_type": "code",
   "execution_count": 130,
   "id": "e2b0af9a",
   "metadata": {},
   "outputs": [
    {
     "data": {
      "text/plain": [
       "6066(140)    3\n",
       "5956(221)    3\n",
       "5938(233)    3\n",
       "5475(038)    3\n",
       "6090(059)    3\n",
       "Name: project_id, dtype: int64"
      ]
     },
     "execution_count": 130,
     "metadata": {},
     "output_type": "execute_result"
    }
   ],
   "source": [
    "awards_df.project_id.value_counts().head()"
   ]
  },
  {
   "cell_type": "code",
   "execution_count": 131,
   "id": "72fe5e16",
   "metadata": {},
   "outputs": [
    {
     "data": {
      "text/html": [
       "<div>\n",
       "<style scoped>\n",
       "    .dataframe tbody tr th:only-of-type {\n",
       "        vertical-align: middle;\n",
       "    }\n",
       "\n",
       "    .dataframe tbody tr th {\n",
       "        vertical-align: top;\n",
       "    }\n",
       "\n",
       "    .dataframe thead th {\n",
       "        text-align: right;\n",
       "    }\n",
       "</style>\n",
       "<table border=\"1\" class=\"dataframe\">\n",
       "  <thead>\n",
       "    <tr style=\"text-align: right;\">\n",
       "      <th></th>\n",
       "      <th>project_id</th>\n",
       "      <th>grant_program</th>\n",
       "      <th>state_fiscal_awarded_year</th>\n",
       "    </tr>\n",
       "  </thead>\n",
       "  <tbody>\n",
       "    <tr>\n",
       "      <th>1950</th>\n",
       "      <td>5288(046)</td>\n",
       "      <td>Local Assistance</td>\n",
       "      <td>2223</td>\n",
       "    </tr>\n",
       "    <tr>\n",
       "      <th>1951</th>\n",
       "      <td>5288(046)</td>\n",
       "      <td>Proposition 1B, Hwy Safety, Traffic Reduction, Air Quality , and Port Security Bond Act of 2006, and SB 1: The Road Repair and Accountability Act of 2017</td>\n",
       "      <td>1718</td>\n",
       "    </tr>\n",
       "    <tr>\n",
       "      <th>1952</th>\n",
       "      <td>5288(046)</td>\n",
       "      <td>State Transportation Improvement Program (STIP)</td>\n",
       "      <td>1819</td>\n",
       "    </tr>\n",
       "  </tbody>\n",
       "</table>\n",
       "</div>"
      ],
      "text/plain": [
       "     project_id  \\\n",
       "1950  5288(046)   \n",
       "1951  5288(046)   \n",
       "1952  5288(046)   \n",
       "\n",
       "                                                                                                                                                  grant_program  \\\n",
       "1950                                                                                                                                           Local Assistance   \n",
       "1951  Proposition 1B, Hwy Safety, Traffic Reduction, Air Quality , and Port Security Bond Act of 2006, and SB 1: The Road Repair and Accountability Act of 2017   \n",
       "1952                                                                                                            State Transportation Improvement Program (STIP)   \n",
       "\n",
       "     state_fiscal_awarded_year  \n",
       "1950                      2223  \n",
       "1951                      1718  \n",
       "1952                      1819  "
      ]
     },
     "execution_count": 131,
     "metadata": {},
     "output_type": "execute_result"
    }
   ],
   "source": [
    "awards_df.loc[awards_df.project_id == \"5288(046)\"]"
   ]
  },
  {
   "cell_type": "code",
   "execution_count": 132,
   "id": "d9edbf0a",
   "metadata": {},
   "outputs": [
    {
     "data": {
      "text/html": [
       "<div>\n",
       "<style scoped>\n",
       "    .dataframe tbody tr th:only-of-type {\n",
       "        vertical-align: middle;\n",
       "    }\n",
       "\n",
       "    .dataframe tbody tr th {\n",
       "        vertical-align: top;\n",
       "    }\n",
       "\n",
       "    .dataframe thead th {\n",
       "        text-align: right;\n",
       "    }\n",
       "</style>\n",
       "<table border=\"1\" class=\"dataframe\">\n",
       "  <thead>\n",
       "    <tr style=\"text-align: right;\">\n",
       "      <th></th>\n",
       "      <th>adv_project_id</th>\n",
       "      <th>fund_code</th>\n",
       "      <th>pec_code</th>\n",
       "      <th>appropriation_category_code</th>\n",
       "      <th>curr_bud_am</th>\n",
       "      <th>cash_exp_am</th>\n",
       "      <th>pect_task_code</th>\n",
       "      <th>project_id</th>\n",
       "      <th>pec</th>\n",
       "      <th>pect</th>\n",
       "      <th>pect_description</th>\n",
       "      <th>program</th>\n",
       "    </tr>\n",
       "  </thead>\n",
       "  <tbody>\n",
       "    <tr>\n",
       "      <th>2189</th>\n",
       "      <td>0320000120</td>\n",
       "      <td>0890</td>\n",
       "      <td>2030600</td>\n",
       "      <td>1819</td>\n",
       "      <td>1985000.00</td>\n",
       "      <td>1673403.81</td>\n",
       "      <td>620</td>\n",
       "      <td>5288(046)</td>\n",
       "      <td>2030600</td>\n",
       "      <td>620.00</td>\n",
       "      <td>Local Roads</td>\n",
       "      <td>State Transportation Improvement Program (STIP)</td>\n",
       "    </tr>\n",
       "    <tr>\n",
       "      <th>2190</th>\n",
       "      <td>0320000120</td>\n",
       "      <td>3290</td>\n",
       "      <td>2030210</td>\n",
       "      <td>1718</td>\n",
       "      <td>10000000.00</td>\n",
       "      <td>8419665.27</td>\n",
       "      <td>210</td>\n",
       "      <td>5288(046)</td>\n",
       "      <td>2030210</td>\n",
       "      <td>210.00</td>\n",
       "      <td>Local Partnership Program (LPP – Competitive)</td>\n",
       "      <td>Proposition 1B, Hwy Safety, Traffic Reduction, Air Quality , and Port Security Bond Act of 2006, and SB 1: The Road Repair and Accountability Act of 2017</td>\n",
       "    </tr>\n",
       "    <tr>\n",
       "      <th>2191</th>\n",
       "      <td>0320000120</td>\n",
       "      <td>0890</td>\n",
       "      <td>2030600</td>\n",
       "      <td>1819</td>\n",
       "      <td>13015000.00</td>\n",
       "      <td>10872625.70</td>\n",
       "      <td>620</td>\n",
       "      <td>5288(046)</td>\n",
       "      <td>2030600</td>\n",
       "      <td>620.00</td>\n",
       "      <td>Local Roads</td>\n",
       "      <td>State Transportation Improvement Program (STIP)</td>\n",
       "    </tr>\n",
       "    <tr>\n",
       "      <th>2192</th>\n",
       "      <td>0320000120</td>\n",
       "      <td>0890</td>\n",
       "      <td>2030010</td>\n",
       "      <td>2223</td>\n",
       "      <td>750000.00</td>\n",
       "      <td>0.00</td>\n",
       "      <td>810</td>\n",
       "      <td>5288(046)</td>\n",
       "      <td>2030010</td>\n",
       "      <td>810.00</td>\n",
       "      <td>Regional Surface Transportation Block Grant Program (RSTBGP) and Highway Infrastructure Program (HIP)</td>\n",
       "      <td>Local Assistance</td>\n",
       "    </tr>\n",
       "  </tbody>\n",
       "</table>\n",
       "</div>"
      ],
      "text/plain": [
       "     adv_project_id fund_code pec_code appropriation_category_code  \\\n",
       "2189     0320000120      0890  2030600                        1819   \n",
       "2190     0320000120      3290  2030210                        1718   \n",
       "2191     0320000120      0890  2030600                        1819   \n",
       "2192     0320000120      0890  2030010                        2223   \n",
       "\n",
       "      curr_bud_am  cash_exp_am  pect_task_code project_id      pec   pect  \\\n",
       "2189   1985000.00   1673403.81             620  5288(046)  2030600 620.00   \n",
       "2190  10000000.00   8419665.27             210  5288(046)  2030210 210.00   \n",
       "2191  13015000.00  10872625.70             620  5288(046)  2030600 620.00   \n",
       "2192    750000.00         0.00             810  5288(046)  2030010 810.00   \n",
       "\n",
       "                                                                                           pect_description  \\\n",
       "2189                                                                                            Local Roads   \n",
       "2190                                                         Local Partnership Program (LPP – Competitive)    \n",
       "2191                                                                                            Local Roads   \n",
       "2192  Regional Surface Transportation Block Grant Program (RSTBGP) and Highway Infrastructure Program (HIP)   \n",
       "\n",
       "                                                                                                                                                        program  \n",
       "2189                                                                                                            State Transportation Improvement Program (STIP)  \n",
       "2190  Proposition 1B, Hwy Safety, Traffic Reduction, Air Quality , and Port Security Bond Act of 2006, and SB 1: The Road Repair and Accountability Act of 2017  \n",
       "2191                                                                                                            State Transportation Improvement Program (STIP)  \n",
       "2192                                                                                                                                           Local Assistance  "
      ]
     },
     "execution_count": 132,
     "metadata": {},
     "output_type": "execute_result"
    }
   ],
   "source": [
    "# Check original df \n",
    "pect_df.loc[pect_df.project_id == \"5288(046)\"]"
   ]
  },
  {
   "cell_type": "code",
   "execution_count": 133,
   "id": "147d89b7",
   "metadata": {},
   "outputs": [
    {
     "data": {
      "text/html": [
       "<style  type=\"text/css\" >\n",
       "#T_243e2_row0_col39,#T_243e2_row0_col40,#T_243e2_row0_col46{\n",
       "            color:  red;\n",
       "        }</style><table id=\"T_243e2_\" ><thead>    <tr>        <th class=\"blank level0\" ></th>        <th class=\"col_heading level0 col0\" >project_id</th>        <th class=\"col_heading level0 col1\" >county_code</th>        <th class=\"col_heading level0 col2\" >comment_desc</th>        <th class=\"col_heading level0 col3\" >district_code</th>        <th class=\"col_heading level0 col4\" >est_total_prj_costs</th>        <th class=\"col_heading level0 col5\" >location_name</th>        <th class=\"col_heading level0 col6\" >project_label_name</th>        <th class=\"col_heading level0 col7\" >project_planning_id</th>        <th class=\"col_heading level0 col8\" >original_post_mile_begin_id</th>        <th class=\"col_heading level0 col9\" >original_post_mile_end_id</th>        <th class=\"col_heading level0 col10\" >revised_post_mile_begin_ind</th>        <th class=\"col_heading level0 col11\" >revised_post_mile_end_ind</th>        <th class=\"col_heading level0 col12\" >route_name</th>        <th class=\"col_heading level0 col13\" >state_hwy_ind</th>        <th class=\"col_heading level0 col14\" >senate_district_code</th>        <th class=\"col_heading level0 col15\" >agency_name</th>        <th class=\"col_heading level0 col16\" >urban_area_code</th>        <th class=\"col_heading level0 col17\" >county_name</th>        <th class=\"col_heading level0 col18\" >current_phase</th>        <th class=\"col_heading level0 col19\" >active_transportation_program_(atp)</th>        <th class=\"col_heading level0 col20\" >bridge_inspection_&_scour_evaluation</th>        <th class=\"col_heading level0 col21\" >covid_relief_funds_for_highway_infrastructure_programs_for_stip-covid_augmentation</th>        <th class=\"col_heading level0 col22\" >carbon_reduction_program_(crp)</th>        <th class=\"col_heading level0 col23\" >congestion_mitigation_&_air_quality_improvement_program_(cmaq)</th>        <th class=\"col_heading level0 col24\" >coronavirus_response_and_relief_supplemental_appropriations_act_(crrsaa)_funds</th>        <th class=\"col_heading level0 col25\" >corridor_mobility_improvement_account_(cmia)_program</th>        <th class=\"col_heading level0 col26\" >county_exchange_funds</th>        <th class=\"col_heading level0 col27\" >county_state_match_program</th>        <th class=\"col_heading level0 col28\" >earmarks_projects_(hpp,_demo_cpfcds,_etc.)</th>        <th class=\"col_heading level0 col29\" >emergency_relief_(er)</th>        <th class=\"col_heading level0 col30\" >ferry_boat_program_(fbp)_and_ferry_boat_discretionary_(fbd)_program</th>        <th class=\"col_heading level0 col31\" >funds_for_planning,_programming_and_monitoring_-_rip</th>        <th class=\"col_heading level0 col32\" >general_funded_designated_programs</th>        <th class=\"col_heading level0 col33\" >hazard_elimination_safety_(hes)</th>        <th class=\"col_heading level0 col34\" >high_risk_rural_roads_program_(hr3)</th>        <th class=\"col_heading level0 col35\" >highway_bridge_</th>        <th class=\"col_heading level0 col36\" >highway_safety_improvement_program_(hsip)_(infrastructure)-state_fund</th>        <th class=\"col_heading level0 col37\" >highway_safety_improvement_program_(hsip)_(non-infrastructure)</th>        <th class=\"col_heading level0 col38\" >highway_safety_improvement_program_(hsip)(infrastructure)-federal_fund</th>        <th class=\"col_heading level0 col39\" >local_partnership_program_(lpp_–_competitive)_</th>        <th class=\"col_heading level0 col40\" >local_roads</th>        <th class=\"col_heading level0 col41\" >local_roads_rehabilitation</th>        <th class=\"col_heading level0 col42\" >railroad_grade_crossing_protection</th>        <th class=\"col_heading level0 col43\" >railroad_grade_separations</th>        <th class=\"col_heading level0 col44\" >rebuilding_american_infrastructure_with_sustainability_and_equity_(raise)_and_multimodal_project_discretionary_grant_programs_(e.g.,_infra,_mega,_rstg_or_rural)_</th>        <th class=\"col_heading level0 col45\" >regional_improvement_program_–_regional_share_of_stip_transportation_enhancement_(off_system)</th>        <th class=\"col_heading level0 col46\" >regional_surface_transportation_block_grant_program_(rstbgp)_and_highway_infrastructure_program_(hip)</th>        <th class=\"col_heading level0 col47\" >regional_transportation_planning_agency_(rtpa)_stp_match_exchange</th>        <th class=\"col_heading level0 col48\" >sb1_funded_freeway_service_patrol</th>        <th class=\"col_heading level0 col49\" >shopp-_traffic_light_synchronization_program_(tlsp)-_proposition_1b_bond_funds</th>        <th class=\"col_heading level0 col50\" >safe_routes_to_school_(sr2s_and_srts)</th>        <th class=\"col_heading level0 col51\" >set-aside_coordinated_border_infrastructure_(cbi)_program_under_fast_act</th>        <th class=\"col_heading level0 col52\" >solutions_for_congested_corridors_program_(sccp)</th>        <th class=\"col_heading level0 col53\" >special_programs</th>        <th class=\"col_heading level0 col54\" >state-local_partnership_program_(slpp)_and_local_partnership_program_(lpp-formulaic)</th>        <th class=\"col_heading level0 col55\" >structures_seismic_retrofit_</th>        <th class=\"col_heading level0 col56\" >trade_corridor_enhancement_account_(tcea)_programs_–_local_share</th>        <th class=\"col_heading level0 col57\" >trade_corridor_enhancement_account_(tcea)_programs_–_state_share</th>        <th class=\"col_heading level0 col58\" >trade_corridors_improvement_fund_(tcif)_program_local_streets_&_roads</th>        <th class=\"col_heading level0 col59\" >traffic_congestion_relief_program_(_tcrp_)</th>    </tr></thead><tbody>\n",
       "                <tr>\n",
       "                        <th id=\"T_243e2_level0_row0\" class=\"row_heading level0 row0\" >7834</th>\n",
       "                        <td id=\"T_243e2_row0_col0\" class=\"data row0 col0\" >5288(046)</td>\n",
       "                        <td id=\"T_243e2_row0_col1\" class=\"data row0 col1\" >5924</td>\n",
       "                        <td id=\"T_243e2_row0_col2\" class=\"data row0 col2\" >Data Migrated from CTIPS :\r\n",
       "The Project Planning Id are: 1785; \r\n",
       "The locations are :In Folsom on White Rock Road in the vicinity of the Scott Road Intersection. Widen 1 mile of 4-lane roadway and signalize 1 Intersection.;\n",
       "2/13/2020:  This project is the same as STPL-6498(003).  Agency is determining whether CMGC negotiations will be viable via the JPA and if not, project will be turned over to City of Folsom to implement/construct.  CR\n",
       "2/13/2020:  This project is the same as \n",
       "Project has $10,000 LPP and $15,000 RIP/STIP.\n",
       "8/22/22:  Cost adj to correct local funds to local AC $6,201,500.  Erroneously entered as local funds in prior sequence.</td>\n",
       "                        <td id=\"T_243e2_row0_col3\" class=\"data row0 col3\" >03</td>\n",
       "                        <td id=\"T_243e2_row0_col4\" class=\"data row0 col4\" >25750000.000000</td>\n",
       "                        <td id=\"T_243e2_row0_col5\" class=\"data row0 col5\" >In City of Folsom, on White Rock Road from Prairie City Road to East Bidwell Street.</td>\n",
       "                        <td id=\"T_243e2_row0_col6\" class=\"data row0 col6\" >Construct 4 lane road with 8 foot shoulders</td>\n",
       "                        <td id=\"T_243e2_row0_col7\" class=\"data row0 col7\" >1785</td>\n",
       "                        <td id=\"T_243e2_row0_col8\" class=\"data row0 col8\" >nan</td>\n",
       "                        <td id=\"T_243e2_row0_col9\" class=\"data row0 col9\" >nan</td>\n",
       "                        <td id=\"T_243e2_row0_col10\" class=\"data row0 col10\" >None</td>\n",
       "                        <td id=\"T_243e2_row0_col11\" class=\"data row0 col11\" >None</td>\n",
       "                        <td id=\"T_243e2_row0_col12\" class=\"data row0 col12\" >0-FOL</td>\n",
       "                        <td id=\"T_243e2_row0_col13\" class=\"data row0 col13\" >N</td>\n",
       "                        <td id=\"T_243e2_row0_col14\" class=\"data row0 col14\" >None</td>\n",
       "                        <td id=\"T_243e2_row0_col15\" class=\"data row0 col15\" >Folsom</td>\n",
       "                        <td id=\"T_243e2_row0_col16\" class=\"data row0 col16\" >3067</td>\n",
       "                        <td id=\"T_243e2_row0_col17\" class=\"data row0 col17\" >Sacramento County</td>\n",
       "                        <td id=\"T_243e2_row0_col18\" class=\"data row0 col18\" >single phase</td>\n",
       "                        <td id=\"T_243e2_row0_col19\" class=\"data row0 col19\" >No</td>\n",
       "                        <td id=\"T_243e2_row0_col20\" class=\"data row0 col20\" >No</td>\n",
       "                        <td id=\"T_243e2_row0_col21\" class=\"data row0 col21\" >No</td>\n",
       "                        <td id=\"T_243e2_row0_col22\" class=\"data row0 col22\" >No</td>\n",
       "                        <td id=\"T_243e2_row0_col23\" class=\"data row0 col23\" >No</td>\n",
       "                        <td id=\"T_243e2_row0_col24\" class=\"data row0 col24\" >No</td>\n",
       "                        <td id=\"T_243e2_row0_col25\" class=\"data row0 col25\" >No</td>\n",
       "                        <td id=\"T_243e2_row0_col26\" class=\"data row0 col26\" >No</td>\n",
       "                        <td id=\"T_243e2_row0_col27\" class=\"data row0 col27\" >No</td>\n",
       "                        <td id=\"T_243e2_row0_col28\" class=\"data row0 col28\" >No</td>\n",
       "                        <td id=\"T_243e2_row0_col29\" class=\"data row0 col29\" >No</td>\n",
       "                        <td id=\"T_243e2_row0_col30\" class=\"data row0 col30\" >No</td>\n",
       "                        <td id=\"T_243e2_row0_col31\" class=\"data row0 col31\" >No</td>\n",
       "                        <td id=\"T_243e2_row0_col32\" class=\"data row0 col32\" >No</td>\n",
       "                        <td id=\"T_243e2_row0_col33\" class=\"data row0 col33\" >No</td>\n",
       "                        <td id=\"T_243e2_row0_col34\" class=\"data row0 col34\" >No</td>\n",
       "                        <td id=\"T_243e2_row0_col35\" class=\"data row0 col35\" >No</td>\n",
       "                        <td id=\"T_243e2_row0_col36\" class=\"data row0 col36\" >No</td>\n",
       "                        <td id=\"T_243e2_row0_col37\" class=\"data row0 col37\" >No</td>\n",
       "                        <td id=\"T_243e2_row0_col38\" class=\"data row0 col38\" >No</td>\n",
       "                        <td id=\"T_243e2_row0_col39\" class=\"data row0 col39\" >Yes</td>\n",
       "                        <td id=\"T_243e2_row0_col40\" class=\"data row0 col40\" >Yes</td>\n",
       "                        <td id=\"T_243e2_row0_col41\" class=\"data row0 col41\" >No</td>\n",
       "                        <td id=\"T_243e2_row0_col42\" class=\"data row0 col42\" >No</td>\n",
       "                        <td id=\"T_243e2_row0_col43\" class=\"data row0 col43\" >No</td>\n",
       "                        <td id=\"T_243e2_row0_col44\" class=\"data row0 col44\" >No</td>\n",
       "                        <td id=\"T_243e2_row0_col45\" class=\"data row0 col45\" >No</td>\n",
       "                        <td id=\"T_243e2_row0_col46\" class=\"data row0 col46\" >Yes</td>\n",
       "                        <td id=\"T_243e2_row0_col47\" class=\"data row0 col47\" >No</td>\n",
       "                        <td id=\"T_243e2_row0_col48\" class=\"data row0 col48\" >No</td>\n",
       "                        <td id=\"T_243e2_row0_col49\" class=\"data row0 col49\" >No</td>\n",
       "                        <td id=\"T_243e2_row0_col50\" class=\"data row0 col50\" >No</td>\n",
       "                        <td id=\"T_243e2_row0_col51\" class=\"data row0 col51\" >No</td>\n",
       "                        <td id=\"T_243e2_row0_col52\" class=\"data row0 col52\" >No</td>\n",
       "                        <td id=\"T_243e2_row0_col53\" class=\"data row0 col53\" >No</td>\n",
       "                        <td id=\"T_243e2_row0_col54\" class=\"data row0 col54\" >No</td>\n",
       "                        <td id=\"T_243e2_row0_col55\" class=\"data row0 col55\" >No</td>\n",
       "                        <td id=\"T_243e2_row0_col56\" class=\"data row0 col56\" >No</td>\n",
       "                        <td id=\"T_243e2_row0_col57\" class=\"data row0 col57\" >No</td>\n",
       "                        <td id=\"T_243e2_row0_col58\" class=\"data row0 col58\" >No</td>\n",
       "                        <td id=\"T_243e2_row0_col59\" class=\"data row0 col59\" >No</td>\n",
       "            </tr>\n",
       "    </tbody></table>"
      ],
      "text/plain": [
       "<pandas.io.formats.style.Styler at 0x28f12aa4488>"
      ]
     },
     "execution_count": 133,
     "metadata": {},
     "output_type": "execute_result"
    }
   ],
   "source": [
    "project_df[project_df.project_id ==  \"5288(046)\"].style.where(lambda val: 'Yes' in str(val), 'color: red')"
   ]
  },
  {
   "cell_type": "code",
   "execution_count": 134,
   "id": "a68867bc",
   "metadata": {},
   "outputs": [
    {
     "data": {
      "text/html": [
       "<div>\n",
       "<style scoped>\n",
       "    .dataframe tbody tr th:only-of-type {\n",
       "        vertical-align: middle;\n",
       "    }\n",
       "\n",
       "    .dataframe tbody tr th {\n",
       "        vertical-align: top;\n",
       "    }\n",
       "\n",
       "    .dataframe thead th {\n",
       "        text-align: right;\n",
       "    }\n",
       "</style>\n",
       "<table border=\"1\" class=\"dataframe\">\n",
       "  <thead>\n",
       "    <tr style=\"text-align: right;\">\n",
       "      <th></th>\n",
       "      <th>project_id</th>\n",
       "      <th>grant_program</th>\n",
       "      <th>state_fiscal_awarded_year</th>\n",
       "    </tr>\n",
       "  </thead>\n",
       "  <tbody>\n",
       "    <tr>\n",
       "      <th>2475</th>\n",
       "      <td>5475(038)</td>\n",
       "      <td>Active Transportation Program (ATP)</td>\n",
       "      <td>2223</td>\n",
       "    </tr>\n",
       "    <tr>\n",
       "      <th>2476</th>\n",
       "      <td>5475(038)</td>\n",
       "      <td>Local Assistance</td>\n",
       "      <td>2223</td>\n",
       "    </tr>\n",
       "    <tr>\n",
       "      <th>2477</th>\n",
       "      <td>5475(038)</td>\n",
       "      <td>Proposition 1B, Hwy Safety, Traffic Reduction, Air Quality , and Port Security Bond Act of 2006, and SB 1: The Road Repair and Accountability Act of 2017</td>\n",
       "      <td>2122</td>\n",
       "    </tr>\n",
       "  </tbody>\n",
       "</table>\n",
       "</div>"
      ],
      "text/plain": [
       "     project_id  \\\n",
       "2475  5475(038)   \n",
       "2476  5475(038)   \n",
       "2477  5475(038)   \n",
       "\n",
       "                                                                                                                                                  grant_program  \\\n",
       "2475                                                                                                                        Active Transportation Program (ATP)   \n",
       "2476                                                                                                                                           Local Assistance   \n",
       "2477  Proposition 1B, Hwy Safety, Traffic Reduction, Air Quality , and Port Security Bond Act of 2006, and SB 1: The Road Repair and Accountability Act of 2017   \n",
       "\n",
       "     state_fiscal_awarded_year  \n",
       "2475                      2223  \n",
       "2476                      2223  \n",
       "2477                      2122  "
      ]
     },
     "execution_count": 134,
     "metadata": {},
     "output_type": "execute_result"
    }
   ],
   "source": [
    "awards_df.loc[awards_df.project_id == \"5475(038)\"]"
   ]
  },
  {
   "cell_type": "code",
   "execution_count": 135,
   "id": "e60de3e7",
   "metadata": {},
   "outputs": [
    {
     "data": {
      "text/html": [
       "<div>\n",
       "<style scoped>\n",
       "    .dataframe tbody tr th:only-of-type {\n",
       "        vertical-align: middle;\n",
       "    }\n",
       "\n",
       "    .dataframe tbody tr th {\n",
       "        vertical-align: top;\n",
       "    }\n",
       "\n",
       "    .dataframe thead th {\n",
       "        text-align: right;\n",
       "    }\n",
       "</style>\n",
       "<table border=\"1\" class=\"dataframe\">\n",
       "  <thead>\n",
       "    <tr style=\"text-align: right;\">\n",
       "      <th></th>\n",
       "      <th>adv_project_id</th>\n",
       "      <th>fund_code</th>\n",
       "      <th>pec_code</th>\n",
       "      <th>appropriation_category_code</th>\n",
       "      <th>curr_bud_am</th>\n",
       "      <th>cash_exp_am</th>\n",
       "      <th>pect_task_code</th>\n",
       "      <th>project_id</th>\n",
       "      <th>pec</th>\n",
       "      <th>pect</th>\n",
       "      <th>pect_description</th>\n",
       "      <th>program</th>\n",
       "    </tr>\n",
       "  </thead>\n",
       "  <tbody>\n",
       "    <tr>\n",
       "      <th>1708</th>\n",
       "      <td>0315000005</td>\n",
       "      <td>0890</td>\n",
       "      <td>2030720</td>\n",
       "      <td>2223</td>\n",
       "      <td>1512000.00</td>\n",
       "      <td>0.00</td>\n",
       "      <td>100</td>\n",
       "      <td>5475(038)</td>\n",
       "      <td>2030720</td>\n",
       "      <td>100.00</td>\n",
       "      <td>Active Transportation Program (ATP)</td>\n",
       "      <td>Active Transportation Program (ATP)</td>\n",
       "    </tr>\n",
       "    <tr>\n",
       "      <th>1709</th>\n",
       "      <td>0315000005</td>\n",
       "      <td>0042</td>\n",
       "      <td>2030210</td>\n",
       "      <td>2122</td>\n",
       "      <td>2860000.00</td>\n",
       "      <td>0.00</td>\n",
       "      <td>350</td>\n",
       "      <td>5475(038)</td>\n",
       "      <td>2030210</td>\n",
       "      <td>350.00</td>\n",
       "      <td>Solutions for Congested Corridors Program (SCCP)</td>\n",
       "      <td>Proposition 1B, Hwy Safety, Traffic Reduction, Air Quality , and Port Security Bond Act of 2006, and SB 1: The Road Repair and Accountability Act of 2017</td>\n",
       "    </tr>\n",
       "    <tr>\n",
       "      <th>1710</th>\n",
       "      <td>0315000005</td>\n",
       "      <td>0890</td>\n",
       "      <td>2030010</td>\n",
       "      <td>1314</td>\n",
       "      <td>1061999.97</td>\n",
       "      <td>1061999.97</td>\n",
       "      <td>820</td>\n",
       "      <td>5475(038)</td>\n",
       "      <td>2030010</td>\n",
       "      <td>820.00</td>\n",
       "      <td>Congestion Mitigation &amp; Air Quality Improvement Program (CMAQ)</td>\n",
       "      <td>Local Assistance</td>\n",
       "    </tr>\n",
       "    <tr>\n",
       "      <th>1711</th>\n",
       "      <td>0315000005</td>\n",
       "      <td>0890</td>\n",
       "      <td>2030010</td>\n",
       "      <td>1516</td>\n",
       "      <td>2898000.00</td>\n",
       "      <td>2898000.00</td>\n",
       "      <td>820</td>\n",
       "      <td>5475(038)</td>\n",
       "      <td>2030010</td>\n",
       "      <td>820.00</td>\n",
       "      <td>Congestion Mitigation &amp; Air Quality Improvement Program (CMAQ)</td>\n",
       "      <td>Local Assistance</td>\n",
       "    </tr>\n",
       "    <tr>\n",
       "      <th>1712</th>\n",
       "      <td>0315000005</td>\n",
       "      <td>0890</td>\n",
       "      <td>2030010</td>\n",
       "      <td>2223</td>\n",
       "      <td>9552155.00</td>\n",
       "      <td>0.00</td>\n",
       "      <td>810</td>\n",
       "      <td>5475(038)</td>\n",
       "      <td>2030010</td>\n",
       "      <td>810.00</td>\n",
       "      <td>Regional Surface Transportation Block Grant Program (RSTBGP) and Highway Infrastructure Program (HIP)</td>\n",
       "      <td>Local Assistance</td>\n",
       "    </tr>\n",
       "  </tbody>\n",
       "</table>\n",
       "</div>"
      ],
      "text/plain": [
       "     adv_project_id fund_code pec_code appropriation_category_code  \\\n",
       "1708     0315000005      0890  2030720                        2223   \n",
       "1709     0315000005      0042  2030210                        2122   \n",
       "1710     0315000005      0890  2030010                        1314   \n",
       "1711     0315000005      0890  2030010                        1516   \n",
       "1712     0315000005      0890  2030010                        2223   \n",
       "\n",
       "      curr_bud_am  cash_exp_am  pect_task_code project_id      pec   pect  \\\n",
       "1708   1512000.00         0.00             100  5475(038)  2030720 100.00   \n",
       "1709   2860000.00         0.00             350  5475(038)  2030210 350.00   \n",
       "1710   1061999.97   1061999.97             820  5475(038)  2030010 820.00   \n",
       "1711   2898000.00   2898000.00             820  5475(038)  2030010 820.00   \n",
       "1712   9552155.00         0.00             810  5475(038)  2030010 810.00   \n",
       "\n",
       "                                                                                           pect_description  \\\n",
       "1708                                                                    Active Transportation Program (ATP)   \n",
       "1709                                                       Solutions for Congested Corridors Program (SCCP)   \n",
       "1710                                         Congestion Mitigation & Air Quality Improvement Program (CMAQ)   \n",
       "1711                                         Congestion Mitigation & Air Quality Improvement Program (CMAQ)   \n",
       "1712  Regional Surface Transportation Block Grant Program (RSTBGP) and Highway Infrastructure Program (HIP)   \n",
       "\n",
       "                                                                                                                                                        program  \n",
       "1708                                                                                                                        Active Transportation Program (ATP)  \n",
       "1709  Proposition 1B, Hwy Safety, Traffic Reduction, Air Quality , and Port Security Bond Act of 2006, and SB 1: The Road Repair and Accountability Act of 2017  \n",
       "1710                                                                                                                                           Local Assistance  \n",
       "1711                                                                                                                                           Local Assistance  \n",
       "1712                                                                                                                                           Local Assistance  "
      ]
     },
     "execution_count": 135,
     "metadata": {},
     "output_type": "execute_result"
    }
   ],
   "source": [
    "# Check original df \n",
    "pect_df.loc[pect_df.project_id ==  \"5475(038)\"]"
   ]
  },
  {
   "cell_type": "code",
   "execution_count": 136,
   "id": "99af4dab",
   "metadata": {},
   "outputs": [
    {
     "data": {
      "text/html": [
       "<style  type=\"text/css\" >\n",
       "#T_84bf1_row0_col19,#T_84bf1_row0_col23,#T_84bf1_row0_col46,#T_84bf1_row0_col52{\n",
       "            color:  red;\n",
       "        }</style><table id=\"T_84bf1_\" ><thead>    <tr>        <th class=\"blank level0\" ></th>        <th class=\"col_heading level0 col0\" >project_id</th>        <th class=\"col_heading level0 col1\" >county_code</th>        <th class=\"col_heading level0 col2\" >comment_desc</th>        <th class=\"col_heading level0 col3\" >district_code</th>        <th class=\"col_heading level0 col4\" >est_total_prj_costs</th>        <th class=\"col_heading level0 col5\" >location_name</th>        <th class=\"col_heading level0 col6\" >project_label_name</th>        <th class=\"col_heading level0 col7\" >project_planning_id</th>        <th class=\"col_heading level0 col8\" >original_post_mile_begin_id</th>        <th class=\"col_heading level0 col9\" >original_post_mile_end_id</th>        <th class=\"col_heading level0 col10\" >revised_post_mile_begin_ind</th>        <th class=\"col_heading level0 col11\" >revised_post_mile_end_ind</th>        <th class=\"col_heading level0 col12\" >route_name</th>        <th class=\"col_heading level0 col13\" >state_hwy_ind</th>        <th class=\"col_heading level0 col14\" >senate_district_code</th>        <th class=\"col_heading level0 col15\" >agency_name</th>        <th class=\"col_heading level0 col16\" >urban_area_code</th>        <th class=\"col_heading level0 col17\" >county_name</th>        <th class=\"col_heading level0 col18\" >current_phase</th>        <th class=\"col_heading level0 col19\" >active_transportation_program_(atp)</th>        <th class=\"col_heading level0 col20\" >bridge_inspection_&_scour_evaluation</th>        <th class=\"col_heading level0 col21\" >covid_relief_funds_for_highway_infrastructure_programs_for_stip-covid_augmentation</th>        <th class=\"col_heading level0 col22\" >carbon_reduction_program_(crp)</th>        <th class=\"col_heading level0 col23\" >congestion_mitigation_&_air_quality_improvement_program_(cmaq)</th>        <th class=\"col_heading level0 col24\" >coronavirus_response_and_relief_supplemental_appropriations_act_(crrsaa)_funds</th>        <th class=\"col_heading level0 col25\" >corridor_mobility_improvement_account_(cmia)_program</th>        <th class=\"col_heading level0 col26\" >county_exchange_funds</th>        <th class=\"col_heading level0 col27\" >county_state_match_program</th>        <th class=\"col_heading level0 col28\" >earmarks_projects_(hpp,_demo_cpfcds,_etc.)</th>        <th class=\"col_heading level0 col29\" >emergency_relief_(er)</th>        <th class=\"col_heading level0 col30\" >ferry_boat_program_(fbp)_and_ferry_boat_discretionary_(fbd)_program</th>        <th class=\"col_heading level0 col31\" >funds_for_planning,_programming_and_monitoring_-_rip</th>        <th class=\"col_heading level0 col32\" >general_funded_designated_programs</th>        <th class=\"col_heading level0 col33\" >hazard_elimination_safety_(hes)</th>        <th class=\"col_heading level0 col34\" >high_risk_rural_roads_program_(hr3)</th>        <th class=\"col_heading level0 col35\" >highway_bridge_</th>        <th class=\"col_heading level0 col36\" >highway_safety_improvement_program_(hsip)_(infrastructure)-state_fund</th>        <th class=\"col_heading level0 col37\" >highway_safety_improvement_program_(hsip)_(non-infrastructure)</th>        <th class=\"col_heading level0 col38\" >highway_safety_improvement_program_(hsip)(infrastructure)-federal_fund</th>        <th class=\"col_heading level0 col39\" >local_partnership_program_(lpp_–_competitive)_</th>        <th class=\"col_heading level0 col40\" >local_roads</th>        <th class=\"col_heading level0 col41\" >local_roads_rehabilitation</th>        <th class=\"col_heading level0 col42\" >railroad_grade_crossing_protection</th>        <th class=\"col_heading level0 col43\" >railroad_grade_separations</th>        <th class=\"col_heading level0 col44\" >rebuilding_american_infrastructure_with_sustainability_and_equity_(raise)_and_multimodal_project_discretionary_grant_programs_(e.g.,_infra,_mega,_rstg_or_rural)_</th>        <th class=\"col_heading level0 col45\" >regional_improvement_program_–_regional_share_of_stip_transportation_enhancement_(off_system)</th>        <th class=\"col_heading level0 col46\" >regional_surface_transportation_block_grant_program_(rstbgp)_and_highway_infrastructure_program_(hip)</th>        <th class=\"col_heading level0 col47\" >regional_transportation_planning_agency_(rtpa)_stp_match_exchange</th>        <th class=\"col_heading level0 col48\" >sb1_funded_freeway_service_patrol</th>        <th class=\"col_heading level0 col49\" >shopp-_traffic_light_synchronization_program_(tlsp)-_proposition_1b_bond_funds</th>        <th class=\"col_heading level0 col50\" >safe_routes_to_school_(sr2s_and_srts)</th>        <th class=\"col_heading level0 col51\" >set-aside_coordinated_border_infrastructure_(cbi)_program_under_fast_act</th>        <th class=\"col_heading level0 col52\" >solutions_for_congested_corridors_program_(sccp)</th>        <th class=\"col_heading level0 col53\" >special_programs</th>        <th class=\"col_heading level0 col54\" >state-local_partnership_program_(slpp)_and_local_partnership_program_(lpp-formulaic)</th>        <th class=\"col_heading level0 col55\" >structures_seismic_retrofit_</th>        <th class=\"col_heading level0 col56\" >trade_corridor_enhancement_account_(tcea)_programs_–_local_share</th>        <th class=\"col_heading level0 col57\" >trade_corridor_enhancement_account_(tcea)_programs_–_state_share</th>        <th class=\"col_heading level0 col58\" >trade_corridors_improvement_fund_(tcif)_program_local_streets_&_roads</th>        <th class=\"col_heading level0 col59\" >traffic_congestion_relief_program_(_tcrp_)</th>    </tr></thead><tbody>\n",
       "                <tr>\n",
       "                        <th id=\"T_84bf1_level0_row0\" class=\"row_heading level0 row0\" >2664</th>\n",
       "                        <td id=\"T_84bf1_row0_col0\" class=\"data row0 col0\" >5475(038)</td>\n",
       "                        <td id=\"T_84bf1_row0_col1\" class=\"data row0 col1\" >5924</td>\n",
       "                        <td id=\"T_84bf1_row0_col2\" class=\"data row0 col2\" >10/1/2020:   Original AED date was 9/30/2020, new sequence being done to extend date to 9/30/2022.   There will be a gap of time that is not reimbursable.  CR\n",
       "\n",
       "CMAQ Emissions Benefit:  .03 ROG, .02 NOx, .01 PM10\n",
       "Project has EPSP approval for $2,646,524 of CMAQ for R/W to 15/16 FY.   And EPSP for $291,476 of CMAQ for PE to 15/16 FY.\n",
       "</td>\n",
       "                        <td id=\"T_84bf1_row0_col3\" class=\"data row0 col3\" >03</td>\n",
       "                        <td id=\"T_84bf1_row0_col4\" class=\"data row0 col4\" >36291000.000000</td>\n",
       "                        <td id=\"T_84bf1_row0_col5\" class=\"data row0 col5\" >Auburn Blvd. Complete Streets - Phase 2. On Auburn Blvd, in Citrus Heights from Rusch Park to Northern City Limits.</td>\n",
       "                        <td id=\"T_84bf1_row0_col6\" class=\"data row0 col6\" >Pedestrian and Bike Path</td>\n",
       "                        <td id=\"T_84bf1_row0_col7\" class=\"data row0 col7\" >1804A</td>\n",
       "                        <td id=\"T_84bf1_row0_col8\" class=\"data row0 col8\" >nan</td>\n",
       "                        <td id=\"T_84bf1_row0_col9\" class=\"data row0 col9\" >nan</td>\n",
       "                        <td id=\"T_84bf1_row0_col10\" class=\"data row0 col10\" >None</td>\n",
       "                        <td id=\"T_84bf1_row0_col11\" class=\"data row0 col11\" >None</td>\n",
       "                        <td id=\"T_84bf1_row0_col12\" class=\"data row0 col12\" >0-CHts</td>\n",
       "                        <td id=\"T_84bf1_row0_col13\" class=\"data row0 col13\" >N</td>\n",
       "                        <td id=\"T_84bf1_row0_col14\" class=\"data row0 col14\" >None</td>\n",
       "                        <td id=\"T_84bf1_row0_col15\" class=\"data row0 col15\" >Citrus Heights</td>\n",
       "                        <td id=\"T_84bf1_row0_col16\" class=\"data row0 col16\" >3067</td>\n",
       "                        <td id=\"T_84bf1_row0_col17\" class=\"data row0 col17\" >Sacramento County</td>\n",
       "                        <td id=\"T_84bf1_row0_col18\" class=\"data row0 col18\" >single phase</td>\n",
       "                        <td id=\"T_84bf1_row0_col19\" class=\"data row0 col19\" >Yes</td>\n",
       "                        <td id=\"T_84bf1_row0_col20\" class=\"data row0 col20\" >No</td>\n",
       "                        <td id=\"T_84bf1_row0_col21\" class=\"data row0 col21\" >No</td>\n",
       "                        <td id=\"T_84bf1_row0_col22\" class=\"data row0 col22\" >No</td>\n",
       "                        <td id=\"T_84bf1_row0_col23\" class=\"data row0 col23\" >Yes</td>\n",
       "                        <td id=\"T_84bf1_row0_col24\" class=\"data row0 col24\" >No</td>\n",
       "                        <td id=\"T_84bf1_row0_col25\" class=\"data row0 col25\" >No</td>\n",
       "                        <td id=\"T_84bf1_row0_col26\" class=\"data row0 col26\" >No</td>\n",
       "                        <td id=\"T_84bf1_row0_col27\" class=\"data row0 col27\" >No</td>\n",
       "                        <td id=\"T_84bf1_row0_col28\" class=\"data row0 col28\" >No</td>\n",
       "                        <td id=\"T_84bf1_row0_col29\" class=\"data row0 col29\" >No</td>\n",
       "                        <td id=\"T_84bf1_row0_col30\" class=\"data row0 col30\" >No</td>\n",
       "                        <td id=\"T_84bf1_row0_col31\" class=\"data row0 col31\" >No</td>\n",
       "                        <td id=\"T_84bf1_row0_col32\" class=\"data row0 col32\" >No</td>\n",
       "                        <td id=\"T_84bf1_row0_col33\" class=\"data row0 col33\" >No</td>\n",
       "                        <td id=\"T_84bf1_row0_col34\" class=\"data row0 col34\" >No</td>\n",
       "                        <td id=\"T_84bf1_row0_col35\" class=\"data row0 col35\" >No</td>\n",
       "                        <td id=\"T_84bf1_row0_col36\" class=\"data row0 col36\" >No</td>\n",
       "                        <td id=\"T_84bf1_row0_col37\" class=\"data row0 col37\" >No</td>\n",
       "                        <td id=\"T_84bf1_row0_col38\" class=\"data row0 col38\" >No</td>\n",
       "                        <td id=\"T_84bf1_row0_col39\" class=\"data row0 col39\" >No</td>\n",
       "                        <td id=\"T_84bf1_row0_col40\" class=\"data row0 col40\" >No</td>\n",
       "                        <td id=\"T_84bf1_row0_col41\" class=\"data row0 col41\" >No</td>\n",
       "                        <td id=\"T_84bf1_row0_col42\" class=\"data row0 col42\" >No</td>\n",
       "                        <td id=\"T_84bf1_row0_col43\" class=\"data row0 col43\" >No</td>\n",
       "                        <td id=\"T_84bf1_row0_col44\" class=\"data row0 col44\" >No</td>\n",
       "                        <td id=\"T_84bf1_row0_col45\" class=\"data row0 col45\" >No</td>\n",
       "                        <td id=\"T_84bf1_row0_col46\" class=\"data row0 col46\" >Yes</td>\n",
       "                        <td id=\"T_84bf1_row0_col47\" class=\"data row0 col47\" >No</td>\n",
       "                        <td id=\"T_84bf1_row0_col48\" class=\"data row0 col48\" >No</td>\n",
       "                        <td id=\"T_84bf1_row0_col49\" class=\"data row0 col49\" >No</td>\n",
       "                        <td id=\"T_84bf1_row0_col50\" class=\"data row0 col50\" >No</td>\n",
       "                        <td id=\"T_84bf1_row0_col51\" class=\"data row0 col51\" >No</td>\n",
       "                        <td id=\"T_84bf1_row0_col52\" class=\"data row0 col52\" >Yes</td>\n",
       "                        <td id=\"T_84bf1_row0_col53\" class=\"data row0 col53\" >No</td>\n",
       "                        <td id=\"T_84bf1_row0_col54\" class=\"data row0 col54\" >No</td>\n",
       "                        <td id=\"T_84bf1_row0_col55\" class=\"data row0 col55\" >No</td>\n",
       "                        <td id=\"T_84bf1_row0_col56\" class=\"data row0 col56\" >No</td>\n",
       "                        <td id=\"T_84bf1_row0_col57\" class=\"data row0 col57\" >No</td>\n",
       "                        <td id=\"T_84bf1_row0_col58\" class=\"data row0 col58\" >No</td>\n",
       "                        <td id=\"T_84bf1_row0_col59\" class=\"data row0 col59\" >No</td>\n",
       "            </tr>\n",
       "    </tbody></table>"
      ],
      "text/plain": [
       "<pandas.io.formats.style.Styler at 0x28f12aae3c8>"
      ]
     },
     "execution_count": 136,
     "metadata": {},
     "output_type": "execute_result"
    }
   ],
   "source": [
    "project_df[project_df.project_id ==  \"5475(038)\"].style.where(lambda val: 'Yes' in str(val), 'color: red')"
   ]
  },
  {
   "cell_type": "markdown",
   "id": "f7e5d131",
   "metadata": {},
   "source": [
    "## Save to Excel"
   ]
  },
  {
   "cell_type": "code",
   "execution_count": 137,
   "id": "ffcd3e02",
   "metadata": {},
   "outputs": [],
   "source": [
    "# https://stackoverflow.com/questions/28837057/pandas-writing-an-excel-file-containing-unicode-illegalcharactererror\n",
    "project_df = project_df.applymap(lambda x: x.encode('unicode_escape').\n",
    "                 decode('utf-8') if isinstance(x, str) else x)"
   ]
  },
  {
   "cell_type": "code",
   "execution_count": 138,
   "id": "4caac068",
   "metadata": {},
   "outputs": [
    {
     "data": {
      "text/html": [
       "<div>\n",
       "<style scoped>\n",
       "    .dataframe tbody tr th:only-of-type {\n",
       "        vertical-align: middle;\n",
       "    }\n",
       "\n",
       "    .dataframe tbody tr th {\n",
       "        vertical-align: top;\n",
       "    }\n",
       "\n",
       "    .dataframe thead th {\n",
       "        text-align: right;\n",
       "    }\n",
       "</style>\n",
       "<table border=\"1\" class=\"dataframe\">\n",
       "  <thead>\n",
       "    <tr style=\"text-align: right;\">\n",
       "      <th></th>\n",
       "      <th>project_id</th>\n",
       "      <th>county_code</th>\n",
       "      <th>comment_desc</th>\n",
       "      <th>district_code</th>\n",
       "      <th>est_total_prj_costs</th>\n",
       "      <th>location_name</th>\n",
       "      <th>project_label_name</th>\n",
       "      <th>project_planning_id</th>\n",
       "      <th>original_post_mile_begin_id</th>\n",
       "      <th>original_post_mile_end_id</th>\n",
       "      <th>revised_post_mile_begin_ind</th>\n",
       "      <th>revised_post_mile_end_ind</th>\n",
       "      <th>route_name</th>\n",
       "      <th>state_hwy_ind</th>\n",
       "      <th>senate_district_code</th>\n",
       "      <th>agency_name</th>\n",
       "      <th>urban_area_code</th>\n",
       "      <th>county_name</th>\n",
       "      <th>current_phase</th>\n",
       "      <th>active_transportation_program_(atp)</th>\n",
       "      <th>bridge_inspection_&amp;_scour_evaluation</th>\n",
       "      <th>covid_relief_funds_for_highway_infrastructure_programs_for_stip-covid_augmentation</th>\n",
       "      <th>carbon_reduction_program_(crp)</th>\n",
       "      <th>congestion_mitigation_&amp;_air_quality_improvement_program_(cmaq)</th>\n",
       "      <th>coronavirus_response_and_relief_supplemental_appropriations_act_(crrsaa)_funds</th>\n",
       "      <th>corridor_mobility_improvement_account_(cmia)_program</th>\n",
       "      <th>county_exchange_funds</th>\n",
       "      <th>county_state_match_program</th>\n",
       "      <th>earmarks_projects_(hpp,_demo_cpfcds,_etc.)</th>\n",
       "      <th>emergency_relief_(er)</th>\n",
       "      <th>ferry_boat_program_(fbp)_and_ferry_boat_discretionary_(fbd)_program</th>\n",
       "      <th>funds_for_planning,_programming_and_monitoring_-_rip</th>\n",
       "      <th>general_funded_designated_programs</th>\n",
       "      <th>hazard_elimination_safety_(hes)</th>\n",
       "      <th>high_risk_rural_roads_program_(hr3)</th>\n",
       "      <th>highway_bridge_</th>\n",
       "      <th>highway_safety_improvement_program_(hsip)_(infrastructure)-state_fund</th>\n",
       "      <th>highway_safety_improvement_program_(hsip)_(non-infrastructure)</th>\n",
       "      <th>highway_safety_improvement_program_(hsip)(infrastructure)-federal_fund</th>\n",
       "      <th>local_partnership_program_(lpp_–_competitive)_</th>\n",
       "      <th>local_roads</th>\n",
       "      <th>local_roads_rehabilitation</th>\n",
       "      <th>railroad_grade_crossing_protection</th>\n",
       "      <th>railroad_grade_separations</th>\n",
       "      <th>rebuilding_american_infrastructure_with_sustainability_and_equity_(raise)_and_multimodal_project_discretionary_grant_programs_(e.g.,_infra,_mega,_rstg_or_rural)_</th>\n",
       "      <th>regional_improvement_program_–_regional_share_of_stip_transportation_enhancement_(off_system)</th>\n",
       "      <th>regional_surface_transportation_block_grant_program_(rstbgp)_and_highway_infrastructure_program_(hip)</th>\n",
       "      <th>regional_transportation_planning_agency_(rtpa)_stp_match_exchange</th>\n",
       "      <th>sb1_funded_freeway_service_patrol</th>\n",
       "      <th>shopp-_traffic_light_synchronization_program_(tlsp)-_proposition_1b_bond_funds</th>\n",
       "      <th>safe_routes_to_school_(sr2s_and_srts)</th>\n",
       "      <th>set-aside_coordinated_border_infrastructure_(cbi)_program_under_fast_act</th>\n",
       "      <th>solutions_for_congested_corridors_program_(sccp)</th>\n",
       "      <th>special_programs</th>\n",
       "      <th>state-local_partnership_program_(slpp)_and_local_partnership_program_(lpp-formulaic)</th>\n",
       "      <th>structures_seismic_retrofit_</th>\n",
       "      <th>trade_corridor_enhancement_account_(tcea)_programs_–_local_share</th>\n",
       "      <th>trade_corridor_enhancement_account_(tcea)_programs_–_state_share</th>\n",
       "      <th>trade_corridors_improvement_fund_(tcif)_program_local_streets_&amp;_roads</th>\n",
       "      <th>traffic_congestion_relief_program_(_tcrp_)</th>\n",
       "    </tr>\n",
       "  </thead>\n",
       "  <tbody>\n",
       "    <tr>\n",
       "      <th>4782</th>\n",
       "      <td>5252(008)</td>\n",
       "      <td>5942</td>\n",
       "      <td>Road Reconstruction</td>\n",
       "      <td>06</td>\n",
       "      <td>NaN</td>\n",
       "      <td>Proj# ready for use.</td>\n",
       "      <td>None</td>\n",
       "      <td>None</td>\n",
       "      <td>NaN</td>\n",
       "      <td>NaN</td>\n",
       "      <td>None</td>\n",
       "      <td>None</td>\n",
       "      <td>None</td>\n",
       "      <td>None</td>\n",
       "      <td>None</td>\n",
       "      <td>Parlier</td>\n",
       "      <td>3198</td>\n",
       "      <td>Fresno County</td>\n",
       "      <td>single phase</td>\n",
       "      <td>Unknown</td>\n",
       "      <td>Unknown</td>\n",
       "      <td>Unknown</td>\n",
       "      <td>Unknown</td>\n",
       "      <td>Unknown</td>\n",
       "      <td>Unknown</td>\n",
       "      <td>Unknown</td>\n",
       "      <td>Unknown</td>\n",
       "      <td>Unknown</td>\n",
       "      <td>Unknown</td>\n",
       "      <td>Unknown</td>\n",
       "      <td>Unknown</td>\n",
       "      <td>Unknown</td>\n",
       "      <td>Unknown</td>\n",
       "      <td>Unknown</td>\n",
       "      <td>Unknown</td>\n",
       "      <td>Unknown</td>\n",
       "      <td>Unknown</td>\n",
       "      <td>Unknown</td>\n",
       "      <td>Unknown</td>\n",
       "      <td>Unknown</td>\n",
       "      <td>Unknown</td>\n",
       "      <td>Unknown</td>\n",
       "      <td>Unknown</td>\n",
       "      <td>Unknown</td>\n",
       "      <td>Unknown</td>\n",
       "      <td>Unknown</td>\n",
       "      <td>Unknown</td>\n",
       "      <td>Unknown</td>\n",
       "      <td>Unknown</td>\n",
       "      <td>Unknown</td>\n",
       "      <td>Unknown</td>\n",
       "      <td>Unknown</td>\n",
       "      <td>Unknown</td>\n",
       "      <td>Unknown</td>\n",
       "      <td>Unknown</td>\n",
       "      <td>Unknown</td>\n",
       "      <td>Unknown</td>\n",
       "      <td>Unknown</td>\n",
       "      <td>Unknown</td>\n",
       "      <td>Unknown</td>\n",
       "    </tr>\n",
       "    <tr>\n",
       "      <th>2631</th>\n",
       "      <td>5932(095)</td>\n",
       "      <td>5932</td>\n",
       "      <td>Bridge Replacement</td>\n",
       "      <td>10</td>\n",
       "      <td>NaN</td>\n",
       "      <td>Old Wards Ferry Road over Curtis Creek, Bridge 32C0017.</td>\n",
       "      <td>Bridge Replacement - single-lane bridge with a wider single-lane bridge</td>\n",
       "      <td>None</td>\n",
       "      <td>NaN</td>\n",
       "      <td>NaN</td>\n",
       "      <td>None</td>\n",
       "      <td>None</td>\n",
       "      <td>0-CR</td>\n",
       "      <td>N</td>\n",
       "      <td>None</td>\n",
       "      <td>Tuolumne County</td>\n",
       "      <td>None</td>\n",
       "      <td>Tuolumne County</td>\n",
       "      <td>single phase</td>\n",
       "      <td>No</td>\n",
       "      <td>No</td>\n",
       "      <td>No</td>\n",
       "      <td>No</td>\n",
       "      <td>No</td>\n",
       "      <td>No</td>\n",
       "      <td>No</td>\n",
       "      <td>No</td>\n",
       "      <td>No</td>\n",
       "      <td>No</td>\n",
       "      <td>No</td>\n",
       "      <td>No</td>\n",
       "      <td>No</td>\n",
       "      <td>No</td>\n",
       "      <td>No</td>\n",
       "      <td>No</td>\n",
       "      <td>Yes</td>\n",
       "      <td>No</td>\n",
       "      <td>No</td>\n",
       "      <td>No</td>\n",
       "      <td>No</td>\n",
       "      <td>No</td>\n",
       "      <td>No</td>\n",
       "      <td>No</td>\n",
       "      <td>No</td>\n",
       "      <td>No</td>\n",
       "      <td>No</td>\n",
       "      <td>No</td>\n",
       "      <td>No</td>\n",
       "      <td>No</td>\n",
       "      <td>No</td>\n",
       "      <td>No</td>\n",
       "      <td>No</td>\n",
       "      <td>No</td>\n",
       "      <td>No</td>\n",
       "      <td>No</td>\n",
       "      <td>No</td>\n",
       "      <td>No</td>\n",
       "      <td>No</td>\n",
       "      <td>No</td>\n",
       "      <td>No</td>\n",
       "    </tr>\n",
       "    <tr>\n",
       "      <th>2324</th>\n",
       "      <td>5089(028)</td>\n",
       "      <td>5919</td>\n",
       "      <td>Asphalt Concrete Overlay</td>\n",
       "      <td>03</td>\n",
       "      <td>NaN</td>\n",
       "      <td>Joiner Parkway Repaving Project</td>\n",
       "      <td>Asphalt Concrete Overlay</td>\n",
       "      <td>None</td>\n",
       "      <td>NaN</td>\n",
       "      <td>NaN</td>\n",
       "      <td>None</td>\n",
       "      <td>None</td>\n",
       "      <td>0-LNCN</td>\n",
       "      <td>N</td>\n",
       "      <td>None</td>\n",
       "      <td>Lincoln</td>\n",
       "      <td>3135</td>\n",
       "      <td>Placer County</td>\n",
       "      <td>single phase</td>\n",
       "      <td>No</td>\n",
       "      <td>No</td>\n",
       "      <td>No</td>\n",
       "      <td>No</td>\n",
       "      <td>No</td>\n",
       "      <td>No</td>\n",
       "      <td>No</td>\n",
       "      <td>No</td>\n",
       "      <td>No</td>\n",
       "      <td>No</td>\n",
       "      <td>No</td>\n",
       "      <td>No</td>\n",
       "      <td>No</td>\n",
       "      <td>No</td>\n",
       "      <td>No</td>\n",
       "      <td>No</td>\n",
       "      <td>No</td>\n",
       "      <td>No</td>\n",
       "      <td>No</td>\n",
       "      <td>No</td>\n",
       "      <td>No</td>\n",
       "      <td>No</td>\n",
       "      <td>No</td>\n",
       "      <td>No</td>\n",
       "      <td>No</td>\n",
       "      <td>No</td>\n",
       "      <td>No</td>\n",
       "      <td>Yes</td>\n",
       "      <td>No</td>\n",
       "      <td>No</td>\n",
       "      <td>No</td>\n",
       "      <td>No</td>\n",
       "      <td>No</td>\n",
       "      <td>No</td>\n",
       "      <td>No</td>\n",
       "      <td>No</td>\n",
       "      <td>No</td>\n",
       "      <td>No</td>\n",
       "      <td>No</td>\n",
       "      <td>No</td>\n",
       "      <td>No</td>\n",
       "    </tr>\n",
       "  </tbody>\n",
       "</table>\n",
       "</div>"
      ],
      "text/plain": [
       "     project_id county_code              comment_desc district_code  \\\n",
       "4782  5252(008)        5942       Road Reconstruction            06   \n",
       "2631  5932(095)        5932        Bridge Replacement            10   \n",
       "2324  5089(028)        5919  Asphalt Concrete Overlay            03   \n",
       "\n",
       "      est_total_prj_costs  \\\n",
       "4782                  NaN   \n",
       "2631                  NaN   \n",
       "2324                  NaN   \n",
       "\n",
       "                                                location_name  \\\n",
       "4782                                     Proj# ready for use.   \n",
       "2631  Old Wards Ferry Road over Curtis Creek, Bridge 32C0017.   \n",
       "2324                          Joiner Parkway Repaving Project   \n",
       "\n",
       "                                                           project_label_name  \\\n",
       "4782                                                                     None   \n",
       "2631  Bridge Replacement - single-lane bridge with a wider single-lane bridge   \n",
       "2324                                                 Asphalt Concrete Overlay   \n",
       "\n",
       "     project_planning_id  original_post_mile_begin_id  \\\n",
       "4782                None                          NaN   \n",
       "2631                None                          NaN   \n",
       "2324                None                          NaN   \n",
       "\n",
       "      original_post_mile_end_id revised_post_mile_begin_ind  \\\n",
       "4782                        NaN                        None   \n",
       "2631                        NaN                        None   \n",
       "2324                        NaN                        None   \n",
       "\n",
       "     revised_post_mile_end_ind route_name state_hwy_ind senate_district_code  \\\n",
       "4782                      None       None          None                 None   \n",
       "2631                      None       0-CR             N                 None   \n",
       "2324                      None     0-LNCN             N                 None   \n",
       "\n",
       "          agency_name urban_area_code      county_name current_phase  \\\n",
       "4782          Parlier            3198    Fresno County  single phase   \n",
       "2631  Tuolumne County            None  Tuolumne County  single phase   \n",
       "2324          Lincoln            3135    Placer County  single phase   \n",
       "\n",
       "     active_transportation_program_(atp) bridge_inspection_&_scour_evaluation  \\\n",
       "4782                             Unknown                              Unknown   \n",
       "2631                                  No                                   No   \n",
       "2324                                  No                                   No   \n",
       "\n",
       "     covid_relief_funds_for_highway_infrastructure_programs_for_stip-covid_augmentation  \\\n",
       "4782                                                                            Unknown   \n",
       "2631                                                                                 No   \n",
       "2324                                                                                 No   \n",
       "\n",
       "     carbon_reduction_program_(crp)  \\\n",
       "4782                        Unknown   \n",
       "2631                             No   \n",
       "2324                             No   \n",
       "\n",
       "     congestion_mitigation_&_air_quality_improvement_program_(cmaq)  \\\n",
       "4782                                                        Unknown   \n",
       "2631                                                             No   \n",
       "2324                                                             No   \n",
       "\n",
       "     coronavirus_response_and_relief_supplemental_appropriations_act_(crrsaa)_funds  \\\n",
       "4782                                                                        Unknown   \n",
       "2631                                                                             No   \n",
       "2324                                                                             No   \n",
       "\n",
       "     corridor_mobility_improvement_account_(cmia)_program  \\\n",
       "4782                                              Unknown   \n",
       "2631                                                   No   \n",
       "2324                                                   No   \n",
       "\n",
       "     county_exchange_funds county_state_match_program  \\\n",
       "4782               Unknown                    Unknown   \n",
       "2631                    No                         No   \n",
       "2324                    No                         No   \n",
       "\n",
       "     earmarks_projects_(hpp,_demo_cpfcds,_etc.) emergency_relief_(er)  \\\n",
       "4782                                    Unknown               Unknown   \n",
       "2631                                         No                    No   \n",
       "2324                                         No                    No   \n",
       "\n",
       "     ferry_boat_program_(fbp)_and_ferry_boat_discretionary_(fbd)_program  \\\n",
       "4782                                                             Unknown   \n",
       "2631                                                                  No   \n",
       "2324                                                                  No   \n",
       "\n",
       "     funds_for_planning,_programming_and_monitoring_-_rip  \\\n",
       "4782                                              Unknown   \n",
       "2631                                                   No   \n",
       "2324                                                   No   \n",
       "\n",
       "     general_funded_designated_programs hazard_elimination_safety_(hes)  \\\n",
       "4782                            Unknown                         Unknown   \n",
       "2631                                 No                              No   \n",
       "2324                                 No                              No   \n",
       "\n",
       "     high_risk_rural_roads_program_(hr3) highway_bridge_  \\\n",
       "4782                             Unknown         Unknown   \n",
       "2631                                  No             Yes   \n",
       "2324                                  No              No   \n",
       "\n",
       "     highway_safety_improvement_program_(hsip)_(infrastructure)-state_fund  \\\n",
       "4782                                                               Unknown   \n",
       "2631                                                                    No   \n",
       "2324                                                                    No   \n",
       "\n",
       "     highway_safety_improvement_program_(hsip)_(non-infrastructure)  \\\n",
       "4782                                                        Unknown   \n",
       "2631                                                             No   \n",
       "2324                                                             No   \n",
       "\n",
       "     highway_safety_improvement_program_(hsip)(infrastructure)-federal_fund  \\\n",
       "4782                                                                Unknown   \n",
       "2631                                                                     No   \n",
       "2324                                                                     No   \n",
       "\n",
       "     local_partnership_program_(lpp_–_competitive)_ local_roads  \\\n",
       "4782                                        Unknown     Unknown   \n",
       "2631                                             No          No   \n",
       "2324                                             No          No   \n",
       "\n",
       "     local_roads_rehabilitation railroad_grade_crossing_protection  \\\n",
       "4782                    Unknown                            Unknown   \n",
       "2631                         No                                 No   \n",
       "2324                         No                                 No   \n",
       "\n",
       "     railroad_grade_separations  \\\n",
       "4782                    Unknown   \n",
       "2631                         No   \n",
       "2324                         No   \n",
       "\n",
       "     rebuilding_american_infrastructure_with_sustainability_and_equity_(raise)_and_multimodal_project_discretionary_grant_programs_(e.g.,_infra,_mega,_rstg_or_rural)_  \\\n",
       "4782                                                                                                                                                           Unknown   \n",
       "2631                                                                                                                                                                No   \n",
       "2324                                                                                                                                                                No   \n",
       "\n",
       "     regional_improvement_program_–_regional_share_of_stip_transportation_enhancement_(off_system)  \\\n",
       "4782                                                                                       Unknown   \n",
       "2631                                                                                            No   \n",
       "2324                                                                                            No   \n",
       "\n",
       "     regional_surface_transportation_block_grant_program_(rstbgp)_and_highway_infrastructure_program_(hip)  \\\n",
       "4782                                                                                               Unknown   \n",
       "2631                                                                                                    No   \n",
       "2324                                                                                                   Yes   \n",
       "\n",
       "     regional_transportation_planning_agency_(rtpa)_stp_match_exchange  \\\n",
       "4782                                                           Unknown   \n",
       "2631                                                                No   \n",
       "2324                                                                No   \n",
       "\n",
       "     sb1_funded_freeway_service_patrol  \\\n",
       "4782                           Unknown   \n",
       "2631                                No   \n",
       "2324                                No   \n",
       "\n",
       "     shopp-_traffic_light_synchronization_program_(tlsp)-_proposition_1b_bond_funds  \\\n",
       "4782                                                                        Unknown   \n",
       "2631                                                                             No   \n",
       "2324                                                                             No   \n",
       "\n",
       "     safe_routes_to_school_(sr2s_and_srts)  \\\n",
       "4782                               Unknown   \n",
       "2631                                    No   \n",
       "2324                                    No   \n",
       "\n",
       "     set-aside_coordinated_border_infrastructure_(cbi)_program_under_fast_act  \\\n",
       "4782                                                                  Unknown   \n",
       "2631                                                                       No   \n",
       "2324                                                                       No   \n",
       "\n",
       "     solutions_for_congested_corridors_program_(sccp) special_programs  \\\n",
       "4782                                          Unknown          Unknown   \n",
       "2631                                               No               No   \n",
       "2324                                               No               No   \n",
       "\n",
       "     state-local_partnership_program_(slpp)_and_local_partnership_program_(lpp-formulaic)  \\\n",
       "4782                                                                              Unknown   \n",
       "2631                                                                                   No   \n",
       "2324                                                                                   No   \n",
       "\n",
       "     structures_seismic_retrofit_  \\\n",
       "4782                      Unknown   \n",
       "2631                           No   \n",
       "2324                           No   \n",
       "\n",
       "     trade_corridor_enhancement_account_(tcea)_programs_–_local_share  \\\n",
       "4782                                                          Unknown   \n",
       "2631                                                               No   \n",
       "2324                                                               No   \n",
       "\n",
       "     trade_corridor_enhancement_account_(tcea)_programs_–_state_share  \\\n",
       "4782                                                          Unknown   \n",
       "2631                                                               No   \n",
       "2324                                                               No   \n",
       "\n",
       "     trade_corridors_improvement_fund_(tcif)_program_local_streets_&_roads  \\\n",
       "4782                                                               Unknown   \n",
       "2631                                                                    No   \n",
       "2324                                                                    No   \n",
       "\n",
       "     traffic_congestion_relief_program_(_tcrp_)  \n",
       "4782                                    Unknown  \n",
       "2631                                         No  \n",
       "2324                                         No  "
      ]
     },
     "execution_count": 138,
     "metadata": {},
     "output_type": "execute_result"
    }
   ],
   "source": [
    "project_df.sample(3)"
   ]
  },
  {
   "cell_type": "code",
   "execution_count": 140,
   "id": "285ac1b5",
   "metadata": {},
   "outputs": [],
   "source": [
    "\n",
    "with pd.ExcelWriter(f\"LP2000.xlsx\") as writer:\n",
    "    awards_df.to_excel(writer, sheet_name=\"awards\", index=False)\n",
    "    final_fund_phase_df.to_excel(writer, sheet_name=\"phase_funding\", index=False)\n",
    "    project_df.to_excel(writer, sheet_name=\"project\", index=False)"
   ]
  }
 ],
 "metadata": {
  "kernelspec": {
   "display_name": "Python 3 (ipykernel)",
   "language": "python",
   "name": "python3"
  },
  "language_info": {
   "codemirror_mode": {
    "name": "ipython",
    "version": 3
   },
   "file_extension": ".py",
   "mimetype": "text/x-python",
   "name": "python",
   "nbconvert_exporter": "python",
   "pygments_lexer": "ipython3",
   "version": "3.9.13"
  }
 },
 "nbformat": 4,
 "nbformat_minor": 5
}
