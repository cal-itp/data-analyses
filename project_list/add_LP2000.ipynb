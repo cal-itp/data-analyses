{
 "cells": [
  {
   "cell_type": "code",
   "execution_count": null,
   "id": "85fc3b81",
   "metadata": {},
   "outputs": [],
   "source": [
    "import pandas as pd \n",
    "import sqlalchemy \n",
    "import sys \n",
    "import re\n",
    "import oracledb "
   ]
  },
  {
   "cell_type": "code",
   "execution_count": null,
   "id": "9729a159",
   "metadata": {},
   "outputs": [],
   "source": [
    "oracledb.version = \"8.3.0\" \n",
    "sys.modules[\"cx_Oracle\"] = oracledb "
   ]
  },
  {
   "cell_type": "code",
   "execution_count": null,
   "id": "cbd6b43c",
   "metadata": {},
   "outputs": [],
   "source": [
    "pd.options.display.max_columns = 100\n",
    "pd.options.display.float_format = \"{:.2f}\".format\n",
    "pd.set_option(\"display.max_rows\", None)\n",
    "pd.set_option(\"display.max_colwidth\", None)"
   ]
  },
  {
   "cell_type": "code",
   "execution_count": null,
   "id": "70f92493",
   "metadata": {},
   "outputs": [],
   "source": [
    "DIALECT = 'oracle'  "
   ]
  },
  {
   "cell_type": "code",
   "execution_count": null,
   "id": "503ca4d1",
   "metadata": {},
   "outputs": [],
   "source": [
    "ENGINE_PATH_WIN_AUTH =  f\"{DIALECT}://{USERNAME}:{PASSWORD}@{HOST}:{PORT}/?service_name={SERVICE}\" "
   ]
  },
  {
   "cell_type": "code",
   "execution_count": null,
   "id": "fba87a2f",
   "metadata": {},
   "outputs": [],
   "source": [
    "engine = sqlalchemy.create_engine(ENGINE_PATH_WIN_AUTH)   "
   ]
  },
  {
   "cell_type": "markdown",
   "id": "2d27a1b3",
   "metadata": {},
   "source": [
    "## Projects\n",
    "* Each project has a unique row\n",
    "* Use status_code to filter only for active projects"
   ]
  },
  {
   "cell_type": "code",
   "execution_count": null,
   "id": "40d86dad",
   "metadata": {},
   "outputs": [],
   "source": [
    "projects_df = pd.read_sql_query(\"\"\" \n",
    "SELECT \n",
    "agency_code,\n",
    "county_code,\n",
    "comment_desc,\n",
    "district_code, \n",
    "est_total_prj_costs,\n",
    "location_name,\n",
    "project_id, \n",
    "project_label_name,\n",
    "project_planning_id,\n",
    "project_category_type_code,\n",
    "original_post_mile_begin_id,\n",
    "original_post_mile_end_id,\n",
    "revised_post_mile_begin_ind,\n",
    "revised_post_mile_end_ind,\n",
    "route_name,\n",
    "state_hwy_ind,\n",
    "senate_district_code,\n",
    "work_type_code \n",
    "FROM projects \n",
    "WHERE status_code = 'Active'\n",
    "\"\"\", engine) "
   ]
  },
  {
   "cell_type": "code",
   "execution_count": null,
   "id": "74cc7db3",
   "metadata": {},
   "outputs": [],
   "source": [
    "projects_df.shape"
   ]
  },
  {
   "cell_type": "code",
   "execution_count": null,
   "id": "18cc6215",
   "metadata": {},
   "outputs": [],
   "source": [
    "projects_df.head()"
   ]
  },
  {
   "cell_type": "code",
   "execution_count": null,
   "id": "705763b6",
   "metadata": {},
   "outputs": [],
   "source": [
    "projects_df.project_id.nunique()"
   ]
  },
  {
   "cell_type": "markdown",
   "id": "0ca3f550",
   "metadata": {},
   "source": [
    "## Local Agencies\n",
    "* To do: later just use y/n for urban_area_code. it doesn't mean which urban area the project is located in, I just want to know whether or not it is in an urban area."
   ]
  },
  {
   "cell_type": "code",
   "execution_count": null,
   "id": "aa11c72e",
   "metadata": {},
   "outputs": [],
   "source": [
    "local_agencies_df = pd.read_sql_query(\"\"\" \n",
    "SELECT \n",
    "agency_code,\n",
    "agency_name,\n",
    "congressional_district,\n",
    "urban_area_code\n",
    "FROM local_agencies\n",
    "\"\"\", engine) "
   ]
  },
  {
   "cell_type": "code",
   "execution_count": null,
   "id": "bc13894d",
   "metadata": {},
   "outputs": [],
   "source": [
    "local_agencies_df.shape"
   ]
  },
  {
   "cell_type": "code",
   "execution_count": null,
   "id": "4942cfc4",
   "metadata": {},
   "outputs": [],
   "source": [
    "local_agencies_df.agency_name.nunique()"
   ]
  },
  {
   "cell_type": "code",
   "execution_count": null,
   "id": "8a23d42f",
   "metadata": {},
   "outputs": [],
   "source": [
    "projects_df2 = pd.merge(projects_df, local_agencies_df, on = \"agency_code\", how = \"left\")"
   ]
  },
  {
   "cell_type": "markdown",
   "id": "81ff07aa",
   "metadata": {},
   "source": [
    "## Assembly Districts"
   ]
  },
  {
   "cell_type": "code",
   "execution_count": null,
   "id": "eecc5b21",
   "metadata": {},
   "outputs": [],
   "source": [
    "subset = ['agency_code', 'project_id', 'project_label_name','comment_desc', 'location_name']"
   ]
  },
  {
   "cell_type": "code",
   "execution_count": null,
   "id": "bf61307c",
   "metadata": {},
   "outputs": [],
   "source": [
    "projects_df2_subset = projects_df2[subset]"
   ]
  },
  {
   "cell_type": "markdown",
   "id": "fbe591cb",
   "metadata": {},
   "source": [
    "### Split this out to its own dataframe\n",
    "* Or else the dataframe becomes 70,000 + rows because an agency can fall in mulitple assembly districts."
   ]
  },
  {
   "cell_type": "code",
   "execution_count": null,
   "id": "7d2b62da",
   "metadata": {},
   "outputs": [],
   "source": [
    "assembly_df = pd.read_sql_query(\"\"\" \n",
    "SELECT * FROM assembly_districts\n",
    "\"\"\", engine) "
   ]
  },
  {
   "cell_type": "code",
   "execution_count": null,
   "id": "8e439d55",
   "metadata": {},
   "outputs": [],
   "source": [
    "assembly_districts = pd.merge(projects_df2_subset, assembly_df, on = \"agency_code\", how = \"left\")"
   ]
  },
  {
   "cell_type": "markdown",
   "id": "45003842",
   "metadata": {},
   "source": [
    "## Counties\n"
   ]
  },
  {
   "cell_type": "code",
   "execution_count": null,
   "id": "1a353862",
   "metadata": {},
   "outputs": [],
   "source": [
    "counties_df = pd.read_sql_query(\"\"\" \n",
    "SELECT \n",
    "county_code,\n",
    "county_name\n",
    "FROM counties\n",
    "\"\"\", engine) "
   ]
  },
  {
   "cell_type": "code",
   "execution_count": null,
   "id": "41d2229f",
   "metadata": {},
   "outputs": [],
   "source": [
    "counties_df.shape"
   ]
  },
  {
   "cell_type": "code",
   "execution_count": null,
   "id": "eec73c91",
   "metadata": {},
   "outputs": [],
   "source": [
    "projects_df3 = pd.merge(projects_df2, counties_df, on = \"county_code\", how = \"left\")"
   ]
  },
  {
   "cell_type": "code",
   "execution_count": null,
   "id": "0850e235",
   "metadata": {},
   "outputs": [],
   "source": [
    "projects_df3 = projects_df3.drop(columns = ['agency_code', 'county_code'])"
   ]
  },
  {
   "cell_type": "markdown",
   "id": "29b4db05",
   "metadata": {},
   "source": [
    "## Work Types"
   ]
  },
  {
   "cell_type": "code",
   "execution_count": null,
   "id": "cef00862",
   "metadata": {},
   "outputs": [],
   "source": [
    "work_types_df = pd.read_sql_query(\"\"\" \n",
    "SELECT \n",
    "work_type_code,\n",
    "work_type_desc\n",
    "FROM work_types\n",
    "\"\"\", engine) "
   ]
  },
  {
   "cell_type": "code",
   "execution_count": null,
   "id": "acfe754e",
   "metadata": {},
   "outputs": [],
   "source": [
    "projects_df4 = pd.merge(projects_df3, work_types_df, on = \"work_type_code\", how = \"left\")"
   ]
  },
  {
   "cell_type": "code",
   "execution_count": null,
   "id": "55453b77",
   "metadata": {},
   "outputs": [],
   "source": [
    "projects_df4[['project_category_type_code','work_type_code','work_type_desc']].sample(5)"
   ]
  },
  {
   "cell_type": "markdown",
   "id": "a3dc5129",
   "metadata": {},
   "source": [
    "## Project Category Type Codes"
   ]
  },
  {
   "cell_type": "code",
   "execution_count": null,
   "id": "5c2b5314",
   "metadata": {},
   "outputs": [],
   "source": [
    "project_cat_df = pd.read_sql_query(\"\"\" \n",
    "SELECT category_code, category_desc FROM project_category_type_codes\n",
    "\"\"\", engine) "
   ]
  },
  {
   "cell_type": "code",
   "execution_count": null,
   "id": "240931db",
   "metadata": {},
   "outputs": [],
   "source": [
    "projects_df5 = pd.merge(projects_df4, project_cat_df, left_on = \"project_category_type_code\",\n",
    "         right_on = \"category_code\", how = \"left\") "
   ]
  },
  {
   "cell_type": "code",
   "execution_count": null,
   "id": "d0e60c02",
   "metadata": {},
   "outputs": [],
   "source": [
    "projects_df5[['project_category_type_code','category_desc','work_type_code','work_type_desc']].sample(20)"
   ]
  },
  {
   "cell_type": "code",
   "execution_count": null,
   "id": "be4b16f5",
   "metadata": {},
   "outputs": [],
   "source": [
    "projects_df5 = projects_df5.drop(columns = ['project_category_type_code', 'work_type_code'])"
   ]
  },
  {
   "cell_type": "code",
   "execution_count": null,
   "id": "05b32f64",
   "metadata": {},
   "outputs": [],
   "source": [
    "# There are no merges when I use program_category_code for project_cat_df\n",
    "#pd.merge(projects_df4, project_cat_df, left_on = \"project_category_type_code\",\n",
    "#         right_on = \"program_category_code\", how = \"outer\", indicator = True)[['_merge']].value_counts()"
   ]
  },
  {
   "cell_type": "markdown",
   "id": "9e2931d3",
   "metadata": {},
   "source": [
    "## EA Number\n",
    "* Projects can have multiple EA numbers.\n",
    "* Although EA numbers are antiquated, I will still keep the most recent EA number if it's available because this might be useful to find the same project in a different system."
   ]
  },
  {
   "cell_type": "code",
   "execution_count": null,
   "id": "7cd91f0d",
   "metadata": {},
   "outputs": [],
   "source": [
    "ea_df = pd.read_sql_query(\"\"\" \n",
    "SELECT \n",
    "project_id, \n",
    "district_code,\n",
    "ea_assign_date, \n",
    "expense_authorization_id \n",
    "FROM expense_authorizations\n",
    "\"\"\", engine) "
   ]
  },
  {
   "cell_type": "code",
   "execution_count": null,
   "id": "711e49d8",
   "metadata": {},
   "outputs": [],
   "source": [
    "ea_df.shape, ea_df.project_id.nunique()"
   ]
  },
  {
   "cell_type": "code",
   "execution_count": null,
   "id": "e6d3c8f2",
   "metadata": {},
   "outputs": [],
   "source": [
    "# Do an outer join to understand what's going on under the hood\n",
    "# outer_join = pd.merge(ea_df, projects_df4, on = ['district_code','project_id'], how = \"outer\", indicator = True)"
   ]
  },
  {
   "cell_type": "code",
   "execution_count": null,
   "id": "462c9cec",
   "metadata": {},
   "outputs": [],
   "source": [
    "# outer_join[['_merge']].value_counts()"
   ]
  },
  {
   "cell_type": "code",
   "execution_count": null,
   "id": "74944c75",
   "metadata": {},
   "outputs": [],
   "source": [
    "# Understand why there are more rows compared to project_ids that are unique\n",
    "# Mult\n",
    "# outer_join.loc[outer_join._merge == \"both\"][['project_id']].nunique()"
   ]
  },
  {
   "cell_type": "code",
   "execution_count": null,
   "id": "42dc455e",
   "metadata": {},
   "outputs": [],
   "source": [
    "# Do an inner merge to get only \n",
    "ea_df = pd.merge(projects_df4, ea_df, on = ['district_code','project_id'], how = \"inner\")"
   ]
  },
  {
   "cell_type": "code",
   "execution_count": null,
   "id": "0b98b852",
   "metadata": {},
   "outputs": [],
   "source": [
    "ea_og_cols = ['district_code', 'expense_authorization_id', 'project_id',\n",
    "      'ea_assign_date']"
   ]
  },
  {
   "cell_type": "code",
   "execution_count": null,
   "id": "141e2f0a",
   "metadata": {},
   "outputs": [],
   "source": [
    "# Keep only original columns \n",
    "ea_df = ea_df[ea_og_cols]"
   ]
  },
  {
   "cell_type": "code",
   "execution_count": null,
   "id": "6ad59867",
   "metadata": {},
   "outputs": [],
   "source": [
    "len(ea_df)"
   ]
  },
  {
   "cell_type": "code",
   "execution_count": null,
   "id": "d0e93790",
   "metadata": {},
   "outputs": [],
   "source": [
    "ea_df.project_id.value_counts().describe()"
   ]
  },
  {
   "cell_type": "code",
   "execution_count": null,
   "id": "50167270",
   "metadata": {},
   "outputs": [],
   "source": [
    "ea_df.project_id.value_counts().head()"
   ]
  },
  {
   "cell_type": "code",
   "execution_count": null,
   "id": "15e84814",
   "metadata": {},
   "outputs": [],
   "source": [
    "# Keep only the most recent EA number\n",
    "# Only one EA number per project\n",
    "ea_df2 = (ea_df\n",
    "          .sort_values(['ea_assign_date'], ascending = False)\n",
    "          .drop_duplicates(subset=['project_id','district_code'])\n",
    "          .drop(columns = ['ea_assign_date'])\n",
    "          .reset_index(drop = True)\n",
    "         )"
   ]
  },
  {
   "cell_type": "code",
   "execution_count": null,
   "id": "aac6b499",
   "metadata": {},
   "outputs": [],
   "source": [
    "ea_df2.project_id.nunique()"
   ]
  },
  {
   "cell_type": "code",
   "execution_count": null,
   "id": "4c6a8320",
   "metadata": {},
   "outputs": [],
   "source": [
    "ea_df2.expense_authorization_id.nunique()"
   ]
  },
  {
   "cell_type": "markdown",
   "id": "b98cae5e",
   "metadata": {},
   "source": [
    "#### The same EA number matches to multiple projects\n",
    "* Understand why this is happening\n",
    "* It seems like the same EA number matches multiple projects that have nothing in common."
   ]
  },
  {
   "cell_type": "code",
   "execution_count": null,
   "id": "1e231ddf",
   "metadata": {},
   "outputs": [],
   "source": [
    "ea_df2.expense_authorization_id.value_counts().head(20)"
   ]
  },
  {
   "cell_type": "code",
   "execution_count": null,
   "id": "d72eade6",
   "metadata": {},
   "outputs": [],
   "source": [
    "ea_df.loc[ea_df.expense_authorization_id == \"924969\"]"
   ]
  },
  {
   "cell_type": "code",
   "execution_count": null,
   "id": "aa0dab6d",
   "metadata": {},
   "outputs": [],
   "source": [
    "ea_df.loc[ea_df.expense_authorization_id == \"924360\"]"
   ]
  },
  {
   "cell_type": "code",
   "execution_count": null,
   "id": "2a3c20d1",
   "metadata": {},
   "outputs": [],
   "source": [
    "ea_df2.project_id.nunique() == len(ea_df2)"
   ]
  },
  {
   "cell_type": "code",
   "execution_count": null,
   "id": "80bd9bab",
   "metadata": {},
   "outputs": [],
   "source": [
    "# Merge with project\n",
    "projects_df6 = pd.merge(projects_df5, ea_df2[['project_id','district_code','expense_authorization_id']], on = ['district_code','project_id'], how = \"left\")"
   ]
  },
  {
   "cell_type": "code",
   "execution_count": null,
   "id": "35f1d8a2",
   "metadata": {},
   "outputs": [],
   "source": [
    "len(projects_df6) == len(projects_df)"
   ]
  },
  {
   "cell_type": "code",
   "execution_count": null,
   "id": "582fb218",
   "metadata": {},
   "outputs": [],
   "source": [
    "preview_cols = ['expense_authorization_id','district_code', 'est_total_prj_costs', \n",
    "                'location_name',\n",
    "       'project_id', 'project_label_name', 'project_planning_id',\n",
    "       'senate_district_code',  'agency_name',\n",
    "       'congressional_district', 'urban_area_code', 'county_name',\n",
    "       'work_type_desc',\n",
    "       'category_desc', ]"
   ]
  },
  {
   "cell_type": "markdown",
   "id": "77736039",
   "metadata": {},
   "source": [
    "* Shares the EA of 924360"
   ]
  },
  {
   "cell_type": "code",
   "execution_count": null,
   "id": "cae63c9d",
   "metadata": {},
   "outputs": [],
   "source": [
    "projects_df6.loc[projects_df6.project_id == '0061(025)'][preview_cols]"
   ]
  },
  {
   "cell_type": "markdown",
   "id": "c2ed5d8e",
   "metadata": {},
   "source": [
    "## EFIS_MV_BUD_STRU_94_LVL_3_VW\n",
    "* There is filter out closed projects using a table sourced from Advantage.\n",
    "* Send duplicated project IDS. "
   ]
  },
  {
   "cell_type": "code",
   "execution_count": null,
   "id": "f23eeec7",
   "metadata": {},
   "outputs": [],
   "source": [
    "efis_df = pd.read_sql_query(\"\"\" \n",
    "SELECT *\n",
    "FROM EFIS_MV_BUD_STRU_94_LVL_3_VW\n",
    "WHERE pec_code LIKE '%2030%'\n",
    "\"\"\", engine) "
   ]
  },
  {
   "cell_type": "code",
   "execution_count": null,
   "id": "d012a29e",
   "metadata": {},
   "outputs": [],
   "source": [
    "efis_df.shape"
   ]
  },
  {
   "cell_type": "code",
   "execution_count": null,
   "id": "b73cb0de",
   "metadata": {},
   "outputs": [],
   "source": [
    "efis_df.pec_code.value_counts()"
   ]
  },
  {
   "cell_type": "code",
   "execution_count": null,
   "id": "ef371280",
   "metadata": {},
   "outputs": [],
   "source": [
    "efis_df.adv_project_id.nunique()"
   ]
  },
  {
   "cell_type": "code",
   "execution_count": null,
   "id": "8ddc2d11",
   "metadata": {},
   "outputs": [],
   "source": [
    "efis_df.adv_project_id.value_counts().sample(5)"
   ]
  },
  {
   "cell_type": "code",
   "execution_count": null,
   "id": "14f157bb",
   "metadata": {},
   "outputs": [],
   "source": [
    "efis_df_column = list(efis_df.columns)"
   ]
  },
  {
   "cell_type": "code",
   "execution_count": null,
   "id": "ef7b10e4",
   "metadata": {},
   "outputs": [],
   "source": [
    "len(efis_df_column)"
   ]
  },
  {
   "cell_type": "code",
   "execution_count": null,
   "id": "7d6bc95e",
   "metadata": {},
   "outputs": [],
   "source": [
    "efis_df_column_subset = ['adv_project_id',\n",
    " 'phase_code',\n",
    " 'fund_code',\n",
    " 'pec_code',\n",
    " 'pect_task_code',\n",
    " 'appropriation_category_code','orig_bud_am',\n",
    " 'curr_bud_am','cash_exp_am','enc_am']"
   ]
  },
  {
   "cell_type": "markdown",
   "id": "a73c2798",
   "metadata": {},
   "source": [
    "### Efis Join\n",
    "* Use project_status_code, if it's 9* which means it has been closed.\n",
    "* 7 is in final voucher but not completed. \n",
    "* Use wildcard to eliminate all the 9's."
   ]
  },
  {
   "cell_type": "code",
   "execution_count": null,
   "id": "94b109cc",
   "metadata": {},
   "outputs": [],
   "source": [
    "\n",
    "efis_join_df = pd.read_sql_query(\"\"\" \n",
    "SELECT adv_project_id,\n",
    "project_id,\n",
    "project_status_code\n",
    "FROM EFIS_MV_R_PROG_VW\n",
    "WHERE project_status_code NOT LIKE '%9%'\n",
    "\"\"\", engine) "
   ]
  },
  {
   "cell_type": "code",
   "execution_count": null,
   "id": "5c7bd5ca",
   "metadata": {},
   "outputs": [],
   "source": [
    "efis_join_df.shape"
   ]
  },
  {
   "cell_type": "code",
   "execution_count": null,
   "id": "4598f4ea",
   "metadata": {},
   "outputs": [],
   "source": [
    "efis_join_df.project_status_code.value_counts()"
   ]
  },
  {
   "cell_type": "code",
   "execution_count": null,
   "id": "340e9613",
   "metadata": {},
   "outputs": [],
   "source": [
    "efis_join_df.project_id.nunique()"
   ]
  },
  {
   "cell_type": "code",
   "execution_count": null,
   "id": "a538bdb0",
   "metadata": {},
   "outputs": [],
   "source": [
    "efis_join_df.project_id.value_counts().head()"
   ]
  },
  {
   "cell_type": "code",
   "execution_count": null,
   "id": "530adbc1",
   "metadata": {},
   "outputs": [],
   "source": [
    "# projects_df6.loc[projects_df6.project_id == '5405(077)']"
   ]
  },
  {
   "cell_type": "markdown",
   "id": "a36cc510",
   "metadata": {},
   "source": [
    "* Not everything has merged"
   ]
  },
  {
   "cell_type": "code",
   "execution_count": null,
   "id": "866e38c5",
   "metadata": {},
   "outputs": [],
   "source": [
    "efis_df.shape"
   ]
  },
  {
   "cell_type": "code",
   "execution_count": null,
   "id": "52d6daaf",
   "metadata": {},
   "outputs": [],
   "source": [
    "efis_join_df.shape"
   ]
  },
  {
   "cell_type": "code",
   "execution_count": null,
   "id": "7913229c",
   "metadata": {},
   "outputs": [],
   "source": [
    "pd.merge(efis_df, efis_join_df, on = ['adv_project_id'], how = 'outer', indicator = True)[['_merge']].value_counts()"
   ]
  },
  {
   "cell_type": "code",
   "execution_count": null,
   "id": "af16848d",
   "metadata": {},
   "outputs": [],
   "source": [
    "f\"{(26434+18576+22)-len(efis_df)} more rows\""
   ]
  },
  {
   "cell_type": "code",
   "execution_count": null,
   "id": "f1ebd11b",
   "metadata": {},
   "outputs": [],
   "source": [
    "efis_m1 = pd.merge(efis_df, efis_join_df, on = ['adv_project_id'], how = 'inner')"
   ]
  },
  {
   "cell_type": "markdown",
   "id": "f091e777",
   "metadata": {},
   "source": [
    "#### Merge Efis with a subset of projects\n",
    "* Because need to manipulate this data a little bit"
   ]
  },
  {
   "cell_type": "code",
   "execution_count": null,
   "id": "06ae437a",
   "metadata": {},
   "outputs": [],
   "source": [
    "projects_df_subset_cols = ['project_label_name', 'project_id', 'work_type_desc', 'district_code','category_desc','location_name']"
   ]
  },
  {
   "cell_type": "code",
   "execution_count": null,
   "id": "fe66258d",
   "metadata": {},
   "outputs": [],
   "source": [
    "projects_df_subset = projects_df6[projects_df_subset_cols]"
   ]
  },
  {
   "cell_type": "code",
   "execution_count": null,
   "id": "ff3b9f98",
   "metadata": {},
   "outputs": [],
   "source": [
    "pd.merge(efis_m1, projects_df_subset, on = ['project_id'], how = 'outer', indicator = True)[['_merge']].value_counts()"
   ]
  },
  {
   "cell_type": "code",
   "execution_count": null,
   "id": "eec880e2",
   "metadata": {},
   "outputs": [],
   "source": [
    "advantage_m = pd.merge(efis_m1, projects_df_subset, on = ['project_id'], how = 'inner')"
   ]
  },
  {
   "cell_type": "code",
   "execution_count": null,
   "id": "8a7cc339",
   "metadata": {},
   "outputs": [],
   "source": [
    "advantage_m.project_id.nunique()"
   ]
  },
  {
   "cell_type": "code",
   "execution_count": null,
   "id": "94f324ce",
   "metadata": {},
   "outputs": [],
   "source": [
    "advantage_m.pec_code.value_counts()"
   ]
  },
  {
   "cell_type": "code",
   "execution_count": null,
   "id": "cc14f7c4",
   "metadata": {},
   "outputs": [],
   "source": [
    "advantage_m.fund_code.value_counts()"
   ]
  },
  {
   "cell_type": "code",
   "execution_count": null,
   "id": "d0eec3cd",
   "metadata": {},
   "outputs": [],
   "source": [
    "advantage_m.sample()"
   ]
  },
  {
   "cell_type": "markdown",
   "id": "26c29f61",
   "metadata": {},
   "source": [
    "#### Bring in pec_code/fund_code\n",
    "* Section 4 https://accounting.onramp.dot.ca.gov/manual/7-program-codes"
   ]
  },
  {
   "cell_type": "code",
   "execution_count": null,
   "id": "98f014b4",
   "metadata": {},
   "outputs": [],
   "source": [
    "section_4 = pd.read_excel('Section 4 Program Codes.xlsx')"
   ]
  },
  {
   "cell_type": "code",
   "execution_count": null,
   "id": "ec7fe46b",
   "metadata": {},
   "outputs": [],
   "source": [
    "section_4[['code', 'definition1']] = section_4['Section 4 '].str.rsplit('-', n=1, expand=True)"
   ]
  },
  {
   "cell_type": "code",
   "execution_count": null,
   "id": "64ed4078",
   "metadata": {},
   "outputs": [],
   "source": [
    "# Just drop the rows that don't play nice for now\n",
    "section_5 = section_4.dropna(subset = ['definition1'])"
   ]
  },
  {
   "cell_type": "code",
   "execution_count": null,
   "id": "1d9a2eb1",
   "metadata": {},
   "outputs": [],
   "source": [
    "section_5.info()"
   ]
  },
  {
   "cell_type": "code",
   "execution_count": null,
   "id": "03a901d1",
   "metadata": {},
   "outputs": [],
   "source": [
    "section_5[['code1','code2','code3', 'code4']] = section_5['Section 4 '].str.rsplit('.', n=1, expand=True)"
   ]
  },
  {
   "cell_type": "code",
   "execution_count": null,
   "id": "c309470e",
   "metadata": {},
   "outputs": [],
   "source": [
    "section_4"
   ]
  },
  {
   "cell_type": "markdown",
   "id": "2817527d",
   "metadata": {},
   "source": [
    "#### Summarize information\n",
    "##### Sum up everything since this is all single phase anyway"
   ]
  },
  {
   "cell_type": "code",
   "execution_count": null,
   "id": "4c9d2cc3",
   "metadata": {},
   "outputs": [],
   "source": [
    "efis_df_column_subset.insert(0,'project_id')"
   ]
  },
  {
   "cell_type": "code",
   "execution_count": null,
   "id": "ceb27613",
   "metadata": {},
   "outputs": [],
   "source": [
    "advantage_m = advantage_m[efis_df_column_subset] "
   ]
  },
  {
   "cell_type": "code",
   "execution_count": null,
   "id": "045d4593",
   "metadata": {},
   "outputs": [],
   "source": [
    "# Sum up everything since this is all single phase anyway\n",
    "lp2000_phase = (advantage_m\n",
    "                  .groupby(['project_id','fund_code','pec_code'])\n",
    "                  .agg({'orig_bud_am':'sum', \n",
    "                        'cash_exp_am':'sum'})\n",
    "                  .reset_index()\n",
    "                  .rename(columns = {'orig_bud_am':'total_encumbrance_amt',\n",
    "                                    'cash_exp_am':'total_expenditure_amt'})\n",
    "                  )"
   ]
  },
  {
   "cell_type": "code",
   "execution_count": null,
   "id": "f6509a68",
   "metadata": {},
   "outputs": [],
   "source": [
    "lp2000_phase.shape"
   ]
  },
  {
   "cell_type": "code",
   "execution_count": null,
   "id": "fa960fbb",
   "metadata": {},
   "outputs": [],
   "source": [
    "lp2000_phase.head()"
   ]
  },
  {
   "cell_type": "code",
   "execution_count": null,
   "id": "7a1fbe04",
   "metadata": {},
   "outputs": [],
   "source": [
    "lp2000_phase.project_id.nunique()"
   ]
  },
  {
   "cell_type": "markdown",
   "id": "e03684fd",
   "metadata": {},
   "source": [
    "##### Summarize the program info\n",
    "* Is the year considered \"awarded\" year"
   ]
  },
  {
   "cell_type": "code",
   "execution_count": null,
   "id": "0acac6c9",
   "metadata": {},
   "outputs": [],
   "source": [
    "advantage_m.sample()"
   ]
  },
  {
   "cell_type": "code",
   "execution_count": null,
   "id": "e45e3de8",
   "metadata": {},
   "outputs": [],
   "source": [
    "# Only want the most recent year of a pec_code listed once\n",
    "lp2000_awards1 = (advantage_m\n",
    "                  .groupby(['project_id', 'pec_code'])\n",
    "                  .agg({'appropriation_category_code':'max'})\n",
    "                  .reset_index()\n",
    "                  .rename(columns = {'appropriation_category_code':'year'})\n",
    "                  .drop_duplicates(subset = ['project_id','pec_code'])\n",
    "                  )"
   ]
  },
  {
   "cell_type": "code",
   "execution_count": null,
   "id": "778f5425",
   "metadata": {},
   "outputs": [],
   "source": [
    "lp2000_awards1.shape"
   ]
  },
  {
   "cell_type": "code",
   "execution_count": null,
   "id": "fa9b99f6",
   "metadata": {},
   "outputs": [],
   "source": [
    "lp2000_awards1.project_id.value_counts().head()"
   ]
  },
  {
   "cell_type": "code",
   "execution_count": null,
   "id": "264c3054",
   "metadata": {},
   "outputs": [],
   "source": [
    "lp2000_awards1.loc[lp2000_awards1.project_id == \"5182(058)\"]"
   ]
  },
  {
   "cell_type": "code",
   "execution_count": null,
   "id": "0474bcbb",
   "metadata": {},
   "outputs": [],
   "source": [
    "# Only want the most recent year of a pec_code listed once\n",
    "lp2000_awards2 = (advantage_m\n",
    "                  .groupby(['project_id', 'fund_code'])\n",
    "                  .agg({'appropriation_category_code':'max'})\n",
    "                  .reset_index()\n",
    "                  .rename(columns = {'appropriation_category_code':'year'})\n",
    "                  .drop_duplicates(subset = ['project_id','fund_code'])\n",
    "                  )"
   ]
  },
  {
   "cell_type": "code",
   "execution_count": null,
   "id": "5f0dcdcf",
   "metadata": {},
   "outputs": [],
   "source": [
    "lp2000_awards2.shape"
   ]
  },
  {
   "cell_type": "code",
   "execution_count": null,
   "id": "04b11ee4",
   "metadata": {},
   "outputs": [],
   "source": [
    "lp2000_awards2.project_id.value_counts().head()"
   ]
  },
  {
   "cell_type": "code",
   "execution_count": null,
   "id": "4ae0fe7f",
   "metadata": {},
   "outputs": [],
   "source": [
    "lp2000_awards2.loc[lp2000_awards2.project_id == \"5182(058)\"]"
   ]
  },
  {
   "cell_type": "markdown",
   "id": "10674cbb",
   "metadata": {},
   "source": [
    "#### Understand why some advantage ids have multiple projects\n",
    "* Older projects may have mulitple project IDS\n",
    "* However, it should be one to one. \n",
    "* These are exceptions, glitches from migrating to a new system \n",
    "* Anything with 3-4 zeroes are older, should have been converted back in early 2010's.\n",
    "* These duplicated projects in advantage are essentially closed. \n",
    "* They should be closed in LP2000.\n",
    "* Send them a list of all the projects that have duplicated advantage ids to close."
   ]
  },
  {
   "cell_type": "code",
   "execution_count": null,
   "id": "f9363cc8",
   "metadata": {},
   "outputs": [],
   "source": [
    "(efis_m2\n",
    " .groupby(['adv_project_id',])\n",
    " .agg({'project_id':'nunique'})\n",
    " .sort_values(['project_id'], ascending = False)\n",
    " .head(10)\n",
    ")"
   ]
  },
  {
   "cell_type": "markdown",
   "id": "d8e26bbb",
   "metadata": {},
   "source": [
    "#### 1100000058"
   ]
  },
  {
   "cell_type": "code",
   "execution_count": null,
   "id": "cddbed1f",
   "metadata": {
    "scrolled": true
   },
   "outputs": [],
   "source": [
    "# efis_m2[efis_m2.adv_project_id == '1100000058'][efis_df_column_subset]"
   ]
  },
  {
   "cell_type": "code",
   "execution_count": null,
   "id": "e9840108",
   "metadata": {},
   "outputs": [],
   "source": [
    "efis_m2[efis_m2.adv_project_id == '1100000092'][['adv_project_id','project_id']].drop_duplicates()"
   ]
  },
  {
   "cell_type": "code",
   "execution_count": null,
   "id": "a77315c4",
   "metadata": {},
   "outputs": [],
   "source": [
    "projects_df_subset[projects_df_subset.project_id == '5004(140)']"
   ]
  },
  {
   "cell_type": "code",
   "execution_count": null,
   "id": "44c487f4",
   "metadata": {},
   "outputs": [],
   "source": [
    "projects_df_subset[projects_df_subset.project_id == '6211(093)']"
   ]
  },
  {
   "cell_type": "markdown",
   "id": "6924ac43",
   "metadata": {},
   "source": [
    "## Find Repeated Projects\n",
    "* I noticed project ids are the same, except for the stuff in the parantheses"
   ]
  },
  {
   "cell_type": "code",
   "execution_count": null,
   "id": "b5b94957",
   "metadata": {
    "scrolled": true
   },
   "outputs": [],
   "source": [
    "# Delete out any extremely vague location names/project_id2 that just say \"county\" or \"city\"\n",
    "# repeated_projs3 = (repeated_projs2[(repeated_projs2.location_name.str.contains('City|County|Programming')==False) & (repeated_projs2.location_name_length > 4)]).reset_index()"
   ]
  },
  {
   "cell_type": "code",
   "execution_count": null,
   "id": "3a29c594",
   "metadata": {},
   "outputs": [],
   "source": [
    "projects_df_og = pd.read_sql_query(\"\"\" \n",
    "SELECT *\n",
    "FROM projects \n",
    "WHERE status_code = 'Active'\n",
    "\"\"\", engine) "
   ]
  },
  {
   "cell_type": "code",
   "execution_count": null,
   "id": "dc4c5206",
   "metadata": {},
   "outputs": [],
   "source": [
    "subset_to_drop = list(projects_df_g.columns)"
   ]
  },
  {
   "cell_type": "code",
   "execution_count": null,
   "id": "1773b21a",
   "metadata": {},
   "outputs": [],
   "source": [
    "# Drop all duplicates for all columns except the few that follow\n",
    "subset_to_drop.remove('project_id')"
   ]
  },
  {
   "cell_type": "code",
   "execution_count": null,
   "id": "82a0fc0b",
   "metadata": {},
   "outputs": [],
   "source": [
    "subset_to_drop.remove('updater_user_name')"
   ]
  },
  {
   "cell_type": "code",
   "execution_count": null,
   "id": "d13c72ed",
   "metadata": {},
   "outputs": [],
   "source": [
    "subset_to_drop.remove('update_date_time')"
   ]
  },
  {
   "cell_type": "code",
   "execution_count": null,
   "id": "0bdf28b4",
   "metadata": {},
   "outputs": [],
   "source": [
    "subset_to_drop.remove('create_user_name')"
   ]
  },
  {
   "cell_type": "code",
   "execution_count": null,
   "id": "afe91e69",
   "metadata": {},
   "outputs": [],
   "source": [
    "subset_to_drop.remove('create_date_time')"
   ]
  },
  {
   "cell_type": "code",
   "execution_count": null,
   "id": "164b8300",
   "metadata": {},
   "outputs": [],
   "source": [
    "# Remove duplicated projects\n",
    "projects_no_dups = projects_df_g.drop_duplicates(subset=subset_to_drop).reset_index(drop = True)"
   ]
  },
  {
   "cell_type": "code",
   "execution_count": null,
   "id": "bae6ae93",
   "metadata": {},
   "outputs": [],
   "source": [
    "len(projects_no_dups)"
   ]
  },
  {
   "cell_type": "code",
   "execution_count": null,
   "id": "f856a100",
   "metadata": {},
   "outputs": [],
   "source": [
    "# Find common columns for merging\n",
    "common_cols = list(set(subset_to_drop).intersection(filtered_projects))"
   ]
  },
  {
   "cell_type": "code",
   "execution_count": null,
   "id": "2a1e493e",
   "metadata": {},
   "outputs": [],
   "source": [
    "common_cols.insert(0,'project_id')"
   ]
  },
  {
   "cell_type": "code",
   "execution_count": null,
   "id": "ddab112e",
   "metadata": {},
   "outputs": [],
   "source": [
    "# Merge the og df w/ duplicates and the one w/o duplicates\n",
    "projects_m1 = pd.merge(projects_df6, projects_no_dups, on = common_cols, how = \"outer\", indicator = True)"
   ]
  },
  {
   "cell_type": "code",
   "execution_count": null,
   "id": "38c12166",
   "metadata": {},
   "outputs": [],
   "source": [
    "projects_m1._merge.value_counts()"
   ]
  },
  {
   "cell_type": "code",
   "execution_count": null,
   "id": "8a18ad97",
   "metadata": {},
   "outputs": [],
   "source": [
    "# look at the dropped rows to analyze the duplicate rows. \n",
    "# How to find the ones it is exactly like?? \n",
    "duplicate_rows = projects_m1.loc[projects_m1._merge == \"left_only\"]"
   ]
  },
  {
   "cell_type": "code",
   "execution_count": null,
   "id": "5e7e976a",
   "metadata": {},
   "outputs": [],
   "source": [
    "duplicate_rows.project_id.nunique()"
   ]
  },
  {
   "cell_type": "code",
   "execution_count": null,
   "id": "df097e41",
   "metadata": {},
   "outputs": [],
   "source": [
    "# Check out duplicated projects in the original dataframe\n",
    "dup_projects = list(duplicate_rows.project_id.unique())"
   ]
  },
  {
   "cell_type": "code",
   "execution_count": null,
   "id": "a3f57b2e",
   "metadata": {},
   "outputs": [],
   "source": [
    "subset_preview = ['project_label_name', 'district_code', 'est_total_prj_costs', 'location_name',\n",
    "       'project_id', 'project_label_name','comment_desc',\n",
    "      ]"
   ]
  },
  {
   "cell_type": "code",
   "execution_count": null,
   "id": "35d032b5",
   "metadata": {},
   "outputs": [],
   "source": [
    "duplicate_projects = projects_df_og.loc[projects_df_og.project_id.isin(dup_projects)].sort_values(['project_label_name','project_id'])"
   ]
  },
  {
   "cell_type": "code",
   "execution_count": null,
   "id": "afafdcaa",
   "metadata": {},
   "outputs": [],
   "source": [
    "# duplicate_projects.to_excel(\"./duplicated_projects_LP2000.xlsx\", sheet_name=\"Sheet_name_1\", index=False)"
   ]
  }
 ],
 "metadata": {
  "kernelspec": {
   "display_name": "Python 3 (ipykernel)",
   "language": "python",
   "name": "python3"
  },
  "language_info": {
   "codemirror_mode": {
    "name": "ipython",
    "version": 3
   },
   "file_extension": ".py",
   "mimetype": "text/x-python",
   "name": "python",
   "nbconvert_exporter": "python",
   "pygments_lexer": "ipython3",
   "version": "3.9.13"
  }
 },
 "nbformat": 4,
 "nbformat_minor": 5
}
