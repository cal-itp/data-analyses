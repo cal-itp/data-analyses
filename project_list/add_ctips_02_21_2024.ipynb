{
 "cells": [
  {
   "cell_type": "markdown",
   "id": "1e57c806",
   "metadata": {},
   "source": [
    "## CTIPS\n",
    "* https://ctips-prod.dot.ca.gov/ctips/LoginMediatorForm.do\n",
    "\n",
    "### To do\n",
    "* Get total cost\n",
    "    * total_cost: The total cost of this project.\n",
    "    Total project cost can be calculated using 3 tables: project, fundtype, and fundline\n",
    "    AH: which columns do I use from fundtype, project, and fundline to calculate the total cost?\n",
    "    You can calculate total programmed for a project using: fundline.action = P and project.high_offlc = 1\n",
    "    Then sum ( fundline.pe_paed + fundline.pe_env + fundline.pe_rw + fundline.pe_con + fundline.rw + fundline.con )\n",
    "\n",
    "* Ask if DSHOPP means draft SHOPP project\n",
    "* PROJSCHE - not a lot of matches"
   ]
  },
  {
   "cell_type": "code",
   "execution_count": null,
   "id": "331fca6b",
   "metadata": {},
   "outputs": [],
   "source": [
    "import pandas as pd \n",
    "import sqlalchemy \n",
    "import sys \n",
    "import re\n",
    "import oracledb \n",
    "import _database_utils as _utils \n",
    "import _csis_utils"
   ]
  },
  {
   "cell_type": "code",
   "execution_count": null,
   "id": "cdf61f63",
   "metadata": {},
   "outputs": [],
   "source": [
    "oracledb.version = \"8.3.0\" \n",
    "sys.modules[\"cx_Oracle\"] = oracledb "
   ]
  },
  {
   "cell_type": "code",
   "execution_count": null,
   "id": "b510d7b1",
   "metadata": {},
   "outputs": [],
   "source": [
    "pd.options.display.max_columns = 400\n",
    "pd.options.display.float_format = \"{:.2f}\".format\n",
    "pd.set_option(\"display.max_rows\", None)\n",
    "pd.set_option(\"display.max_colwidth\", None)"
   ]
  },
  {
   "cell_type": "code",
   "execution_count": null,
   "id": "06b673b3",
   "metadata": {},
   "outputs": [],
   "source": [
    "\n",
    "ENGINE_PATH_WIN_AUTH =  f\"{DIALECT}://{USERNAME}:{PASSWORD}@{HOST}:{PORT}/?service_name={SERVICE}\" "
   ]
  },
  {
   "cell_type": "code",
   "execution_count": null,
   "id": "7525e19c",
   "metadata": {},
   "outputs": [],
   "source": [
    "engine = sqlalchemy.create_engine(ENGINE_PATH_WIN_AUTH)   "
   ]
  },
  {
   "cell_type": "markdown",
   "id": "9a6c14bd",
   "metadata": {},
   "source": [
    "## Project Base Table\n",
    "### Project\n",
    "Project.agencyid = project sponsor\n",
    "\n",
    "Implpaed = Implementing Agency for PA&ED\n",
    "\n",
    "Implpse = Implementing Agency for PS&E\n",
    "\n",
    "implcon = Implementing Agency for Construction\n",
    "\n",
    "implrw = Implementing Agency for Right of Way\n"
   ]
  },
  {
   "cell_type": "code",
   "execution_count": null,
   "id": "87510d9c",
   "metadata": {},
   "outputs": [],
   "source": [
    "projects_df = pd.read_sql_query(\"\"\" \n",
    "SELECT \n",
    "ctips_id,\n",
    "appdate, \n",
    "archive,\n",
    "agencyid,\n",
    "const_date,\n",
    "countyid,\n",
    "countyid2,\n",
    "countyid3,\n",
    "chg_offcl,\n",
    "chg_qual1,\n",
    "chg_qual2,\n",
    "districtid,\n",
    "document,\n",
    "docyear,\n",
    "ea_number,\n",
    "high_ver,\n",
    "high_offcl,\n",
    "implpaed, \n",
    "implpse, \n",
    "implrw, \n",
    "implcon, \n",
    "needpurpose,\n",
    "progcode1,\n",
    "ppno,\n",
    "proj_desc,\n",
    "postmiles1,\n",
    "pm1b,\n",
    "pm2b,\n",
    "pm3b,\n",
    "pm1a,\n",
    "pm2a,\n",
    "pm3a,\n",
    "projcomp_date,\n",
    "projectid,\n",
    "route1,\n",
    "route2,\n",
    "route3,\n",
    "rtl,\n",
    "title,\n",
    "version\n",
    "FROM ctips.project\n",
    "ORDER BY high_ver DESC, version DESC, high_offcl DESC\n",
    "\"\"\", engine) "
   ]
  },
  {
   "cell_type": "code",
   "execution_count": null,
   "id": "6e6fb595",
   "metadata": {},
   "outputs": [],
   "source": [
    "projects_df.document.unique()"
   ]
  },
  {
   "cell_type": "markdown",
   "id": "1fc58d5e",
   "metadata": {},
   "source": [
    "#### DOUBLE check filtering on document"
   ]
  },
  {
   "cell_type": "code",
   "execution_count": null,
   "id": "de82322c",
   "metadata": {},
   "outputs": [],
   "source": [
    "projects_table = _csis_utils.csis_clean_project(projects_df)"
   ]
  },
  {
   "cell_type": "code",
   "execution_count": null,
   "id": "05f51a07",
   "metadata": {},
   "outputs": [],
   "source": [
    "projects_table.document.unique()"
   ]
  },
  {
   "cell_type": "code",
   "execution_count": null,
   "id": "32ae2bab",
   "metadata": {},
   "outputs": [],
   "source": [
    "len(projects_table)"
   ]
  },
  {
   "cell_type": "code",
   "execution_count": null,
   "id": "1a634f44",
   "metadata": {},
   "outputs": [],
   "source": [
    "projects_table.ctips_id.nunique()"
   ]
  },
  {
   "cell_type": "markdown",
   "id": "4adbcc27",
   "metadata": {},
   "source": [
    "### PROJSCHE"
   ]
  },
  {
   "cell_type": "code",
   "execution_count": null,
   "id": "096e0ffd",
   "metadata": {},
   "outputs": [],
   "source": [
    "projsche_df = pd.read_sql_query(\"\"\" \n",
    "SELECT \n",
    "projectid,\n",
    "m020 AS pa_ed_begin,\n",
    "m200a AS pa_ed_end,\n",
    "m200b AS ps_e_begin,\n",
    "m224 AS begin_row,\n",
    "m410 AS end_row,\n",
    "m500 AS con_start_date,\n",
    "m600 AS con_end_date,\n",
    "m700 AS begin_closeout,\n",
    "m800 AS end_closeout\n",
    "FROM ctips.projsche\n",
    "\"\"\", engine) "
   ]
  },
  {
   "cell_type": "code",
   "execution_count": null,
   "id": "0c32c036",
   "metadata": {},
   "outputs": [],
   "source": [
    "projsche_drop_cols = list(projsche_df.columns)"
   ]
  },
  {
   "cell_type": "code",
   "execution_count": null,
   "id": "8a85af0f",
   "metadata": {},
   "outputs": [],
   "source": [
    "projsche_drop_cols.remove('projectid')"
   ]
  },
  {
   "cell_type": "code",
   "execution_count": null,
   "id": "acb324e6",
   "metadata": {},
   "outputs": [],
   "source": [
    "# I want to drop the rows in which ALL values in the date columns are empty\n",
    "projsche_df2 = projsche_df.dropna(how = \"all\", subset = projsche_drop_cols).reset_index(drop = True)"
   ]
  },
  {
   "cell_type": "code",
   "execution_count": null,
   "id": "dc6578cc",
   "metadata": {},
   "outputs": [],
   "source": [
    "len(projsche_df2), len(projsche_df)"
   ]
  },
  {
   "cell_type": "code",
   "execution_count": null,
   "id": "fef2ed85",
   "metadata": {},
   "outputs": [],
   "source": [
    "projsche_df2.projectid.nunique()"
   ]
  },
  {
   "cell_type": "code",
   "execution_count": null,
   "id": "c613a019",
   "metadata": {},
   "outputs": [],
   "source": [
    "projsche_df2.projectid.value_counts().head()"
   ]
  },
  {
   "cell_type": "markdown",
   "id": "320571a7",
   "metadata": {},
   "source": [
    "#### Not a lot of matching values"
   ]
  },
  {
   "cell_type": "code",
   "execution_count": null,
   "id": "311506d2",
   "metadata": {},
   "outputs": [],
   "source": [
    "pd.merge(projsche_df2, projects_table, on ='projectid', how = 'outer', indicator = True)[['_merge']].value_counts()"
   ]
  },
  {
   "cell_type": "code",
   "execution_count": null,
   "id": "c6def815",
   "metadata": {},
   "outputs": [],
   "source": [
    "phase_dates_df = pd.merge(projects_table[['ctips_id', 'projectid']], projsche_df2,  on ='projectid', how = 'inner')"
   ]
  },
  {
   "cell_type": "code",
   "execution_count": null,
   "id": "68d8a80c",
   "metadata": {},
   "outputs": [],
   "source": [
    "phase_dates_df.ctips_id.nunique()"
   ]
  },
  {
   "cell_type": "code",
   "execution_count": null,
   "id": "fe1013ec",
   "metadata": {},
   "outputs": [],
   "source": [
    "phase_dates_df.head()"
   ]
  },
  {
   "cell_type": "markdown",
   "id": "6aee9af0",
   "metadata": {},
   "source": [
    "### AGENCY"
   ]
  },
  {
   "cell_type": "code",
   "execution_count": null,
   "id": "fda0b02a",
   "metadata": {
    "scrolled": true
   },
   "outputs": [],
   "source": [
    "agency_df = pd.read_sql_query(\"\"\" \n",
    "SELECT \n",
    "name AS agency_name,\n",
    "agencyid\n",
    "FROM ctips.agncy\n",
    "\"\"\", engine) "
   ]
  },
  {
   "cell_type": "code",
   "execution_count": null,
   "id": "68229e79",
   "metadata": {},
   "outputs": [],
   "source": [
    "agency_df.sample()"
   ]
  },
  {
   "cell_type": "code",
   "execution_count": null,
   "id": "d3e86563",
   "metadata": {},
   "outputs": [],
   "source": [
    "projects_table = pd.merge(projects_table, agency_df,  on ='agencyid', how = 'left')"
   ]
  },
  {
   "cell_type": "code",
   "execution_count": null,
   "id": "d6177b3d",
   "metadata": {},
   "outputs": [],
   "source": [
    "phase_agency_cols = ['implpaed','implpse','implrw', 'implcon']"
   ]
  },
  {
   "cell_type": "code",
   "execution_count": null,
   "id": "197380b2",
   "metadata": {},
   "outputs": [],
   "source": [
    "for i in phase_agency_cols:\n",
    "    projects_table = _csis_utils.add_agencies(projects_table, agency_df, i)"
   ]
  },
  {
   "cell_type": "code",
   "execution_count": null,
   "id": "34b5bffe",
   "metadata": {},
   "outputs": [],
   "source": [
    "projects_table.sample()"
   ]
  },
  {
   "cell_type": "code",
   "execution_count": null,
   "id": "1f0675e4",
   "metadata": {},
   "outputs": [],
   "source": [
    "projects_table = projects_table.drop(columns = phase_agency_cols)"
   ]
  },
  {
   "cell_type": "markdown",
   "id": "f39f398c",
   "metadata": {},
   "source": [
    "### COUNTY"
   ]
  },
  {
   "cell_type": "code",
   "execution_count": null,
   "id": "72df0bb3",
   "metadata": {},
   "outputs": [],
   "source": [
    "county_df = pd.read_sql_query(\"\"\" \n",
    "SELECT \n",
    "name AS county_name,\n",
    "countyid\n",
    "FROM ctips.county\n",
    "\"\"\", engine) "
   ]
  },
  {
   "cell_type": "code",
   "execution_count": null,
   "id": "a3be2d02",
   "metadata": {},
   "outputs": [],
   "source": [
    "county_projects_df = pd.merge(projects_table[['ctips_id','countyid', 'countyid2', 'countyid3']], county_df,  on ='countyid', how = 'left')"
   ]
  },
  {
   "cell_type": "code",
   "execution_count": null,
   "id": "43179a66",
   "metadata": {},
   "outputs": [],
   "source": [
    "county_projects_df.sample()"
   ]
  },
  {
   "cell_type": "code",
   "execution_count": null,
   "id": "421e9af2",
   "metadata": {},
   "outputs": [],
   "source": [
    "countyid_cols =  ['countyid2', 'countyid3']"
   ]
  },
  {
   "cell_type": "code",
   "execution_count": null,
   "id": "74dfdb02",
   "metadata": {},
   "outputs": [],
   "source": [
    "for i in countyid_cols:\n",
    "    county_projects_df =  _csis_utils.add_counties(county_projects_df, county_df, i)"
   ]
  },
  {
   "cell_type": "code",
   "execution_count": null,
   "id": "ffaf0f1e",
   "metadata": {},
   "outputs": [],
   "source": [
    "county_projects_df = county_projects_df[['ctips_id', 'county_name', 'countyid2_county', 'countyid3_county']]"
   ]
  },
  {
   "cell_type": "code",
   "execution_count": null,
   "id": "e617a674",
   "metadata": {},
   "outputs": [],
   "source": [
    "county_projects_df.sample()"
   ]
  },
  {
   "cell_type": "code",
   "execution_count": null,
   "id": "a36adee5",
   "metadata": {
    "scrolled": true
   },
   "outputs": [],
   "source": [
    "# Melt this from wide to long\n",
    "county_projects_df2 = pd.melt(county_projects_df, id_vars=['ctips_id'], value_vars=['county_name','countyid2_county','countyid3_county'])"
   ]
  },
  {
   "cell_type": "code",
   "execution_count": null,
   "id": "b1597b8d",
   "metadata": {},
   "outputs": [],
   "source": [
    "county_projects_df2.sample()"
   ]
  },
  {
   "cell_type": "code",
   "execution_count": null,
   "id": "4311b58e",
   "metadata": {},
   "outputs": [],
   "source": [
    "county_projects_df2 = county_projects_df2.sort_values(by = ['ctips_id']).dropna().reset_index(drop = True)"
   ]
  },
  {
   "cell_type": "code",
   "execution_count": null,
   "id": "adc68256",
   "metadata": {},
   "outputs": [],
   "source": [
    "county_projects_df2 = county_projects_df2.drop(columns = ['variable']).rename(columns = {'value':'county'})"
   ]
  },
  {
   "cell_type": "code",
   "execution_count": null,
   "id": "bb00e398",
   "metadata": {},
   "outputs": [],
   "source": [
    "county_projects_df2.ctips_id.value_counts().describe()"
   ]
  },
  {
   "cell_type": "code",
   "execution_count": null,
   "id": "aa7b2579",
   "metadata": {},
   "outputs": [],
   "source": [
    "county_projects_df2.loc[county_projects_df2.ctips_id == 10600002937]"
   ]
  },
  {
   "cell_type": "code",
   "execution_count": null,
   "id": "2f1d8ea6",
   "metadata": {},
   "outputs": [],
   "source": [
    "projects_table = projects_table.drop(columns = countyid_cols)"
   ]
  },
  {
   "cell_type": "markdown",
   "id": "87d196cc",
   "metadata": {},
   "source": [
    "### FUNDLINE\n",
    "* For action: Action: P = programmed, V= vote, A=award"
   ]
  },
  {
   "cell_type": "code",
   "execution_count": null,
   "id": "7fc7047a",
   "metadata": {},
   "outputs": [],
   "source": [
    "fundline_df = pd.read_sql_query(\"\"\" \n",
    "SELECT \n",
    "    action,\n",
    "    con,\n",
    "    rw,\n",
    "    pe_paed,\n",
    "    pe_env,\n",
    "    pe_rw,\n",
    "    pe_con,\n",
    "    pe_total,\n",
    "    fundlineid,\n",
    "    fundtypeid,\n",
    "    line_year,\n",
    "    actiondate\n",
    "FROM ctips.fundline\n",
    "WHERE action = 'P'\n",
    "\"\"\", engine)\n"
   ]
  },
  {
   "cell_type": "code",
   "execution_count": null,
   "id": "cc6ac7b6",
   "metadata": {},
   "outputs": [],
   "source": [
    "fundline_df.action.value_counts()"
   ]
  },
  {
   "cell_type": "markdown",
   "id": "d38f6532",
   "metadata": {},
   "source": [
    "### Fundtype\n",
    "* Fundtype.agencyid = funding agency"
   ]
  },
  {
   "cell_type": "code",
   "execution_count": null,
   "id": "03ad06ed",
   "metadata": {},
   "outputs": [],
   "source": [
    "fundtype_df = pd.read_sql_query(\"\"\" \n",
    "SELECT \n",
    "fundtypeid,\n",
    "fundid,\n",
    "progcode,\n",
    "programid,\n",
    "projectid,\n",
    "agencyid\n",
    "FROM ctips.fundtype\n",
    "\"\"\", engine) "
   ]
  },
  {
   "cell_type": "markdown",
   "id": "471153ad",
   "metadata": {},
   "source": [
    "#### Merge everything"
   ]
  },
  {
   "cell_type": "code",
   "execution_count": null,
   "id": "2242bbf2",
   "metadata": {},
   "outputs": [],
   "source": [
    "pd.merge(fundtype_df,\n",
    "         fundline_df,  \n",
    "         on = ['fundtypeid'], \n",
    "         how = \"outer\",\n",
    "         indicator = True,)[['_merge']].value_counts()"
   ]
  },
  {
   "cell_type": "code",
   "execution_count": null,
   "id": "56d38a60",
   "metadata": {},
   "outputs": [],
   "source": [
    "pd.merge(fundtype_df,fundline_df,  on = ['fundtypeid'], how = \"outer\", indicator = True)[['_merge']].value_counts()"
   ]
  },
  {
   "cell_type": "code",
   "execution_count": null,
   "id": "dc6f24e1",
   "metadata": {},
   "outputs": [],
   "source": [
    "fund_m1 = pd.merge(fundtype_df,fundline_df,  on = ['fundtypeid'], how = \"left\")"
   ]
  },
  {
   "cell_type": "code",
   "execution_count": null,
   "id": "8939f75b",
   "metadata": {},
   "outputs": [],
   "source": [
    "final_fund_m = pd.merge(projects_table[['projectid','ctips_id', 'document']], fund_m1, on = ['projectid'], how = \"inner\")"
   ]
  },
  {
   "cell_type": "code",
   "execution_count": null,
   "id": "51fa4c0f",
   "metadata": {},
   "outputs": [],
   "source": [
    "final_fund_m.ctips_id.nunique(), len(final_fund_m)"
   ]
  },
  {
   "cell_type": "code",
   "execution_count": null,
   "id": "a2301d5a",
   "metadata": {},
   "outputs": [],
   "source": [
    "projects_table.ctips_id.nunique()"
   ]
  },
  {
   "cell_type": "code",
   "execution_count": null,
   "id": "42f5bd20",
   "metadata": {},
   "outputs": [],
   "source": [
    "29152-29116"
   ]
  },
  {
   "cell_type": "markdown",
   "id": "0722f47b",
   "metadata": {},
   "source": [
    "### Progmain"
   ]
  },
  {
   "cell_type": "code",
   "execution_count": null,
   "id": "f612c3ba",
   "metadata": {},
   "outputs": [],
   "source": [
    "progmain_df = pd.read_sql_query(\"\"\" \n",
    "SELECT \n",
    "programid,\n",
    "category AS program\n",
    "FROM ctips.progmain\n",
    "\"\"\", engine) "
   ]
  },
  {
   "cell_type": "markdown",
   "id": "dae62ff2",
   "metadata": {},
   "source": [
    "### Fund"
   ]
  },
  {
   "cell_type": "code",
   "execution_count": null,
   "id": "abeb1cf9",
   "metadata": {},
   "outputs": [],
   "source": [
    "fund_df = pd.read_sql_query(\"\"\" \n",
    "SELECT \n",
    "fund,\n",
    "fundid,\n",
    "type AS fund_type_1_fed_2_state_3_local\n",
    "FROM ctips.fund\n",
    "\"\"\", engine) "
   ]
  },
  {
   "cell_type": "markdown",
   "id": "ae1f680e",
   "metadata": {},
   "source": [
    "### Progsub\n",
    "* Some progcodes have more than one progdesc\n",
    "* Dropped duplicates bc the progdesc are similar\n",
    "double_ids = ['20.30.010.820',\n",
    "             '20.XX.723.000',\n",
    "            '20.30.010.810',\n",
    "             '20.XX.720.100',\n",
    "             '20.30.010.817',\n",
    "              '20.30.210.200'\n",
    "             ]"
   ]
  },
  {
   "cell_type": "code",
   "execution_count": null,
   "id": "c2f0bcec",
   "metadata": {},
   "outputs": [],
   "source": [
    "progsub_df = pd.read_sql_query(\"\"\" \n",
    "SELECT \n",
    "progcode,\n",
    "progdesc\n",
    "FROM ctips.progsub\n",
    "\"\"\", engine) "
   ]
  },
  {
   "cell_type": "code",
   "execution_count": null,
   "id": "88794e92",
   "metadata": {},
   "outputs": [],
   "source": [
    "progsub_df2 = progsub_df.drop_duplicates(subset = ['progcode'])"
   ]
  },
  {
   "cell_type": "markdown",
   "id": "236a5e98",
   "metadata": {},
   "source": [
    "### Merge for work below"
   ]
  },
  {
   "cell_type": "code",
   "execution_count": null,
   "id": "e438665d",
   "metadata": {},
   "outputs": [],
   "source": [
    "final_fund_m.sample()"
   ]
  },
  {
   "cell_type": "code",
   "execution_count": null,
   "id": "9d7341c6",
   "metadata": {},
   "outputs": [],
   "source": [
    "funding_w_program_info = ((final_fund_m\n",
    "                           .merge(progmain_df, on = ['programid'], how = \"left\")\n",
    "                           .merge(fund_df, on =['fundid'], how = \"left\")\n",
    "                           .merge(progsub_df2, on = ['progcode'], how = \"left\"))\n",
    "                           .drop(columns = ['fundid','programid', 'progcode']))"
   ]
  },
  {
   "cell_type": "code",
   "execution_count": null,
   "id": "e8efa77b",
   "metadata": {},
   "outputs": [],
   "source": [
    "funding_w_program_info.fund.nunique()"
   ]
  },
  {
   "cell_type": "code",
   "execution_count": null,
   "id": "fe4ec8c0",
   "metadata": {},
   "outputs": [],
   "source": [
    "funding_w_program_info['fund'] = funding_w_program_info.fund + '-' + funding_w_program_info.fund_type_1_fed_2_state_3_local.astype('str')"
   ]
  },
  {
   "cell_type": "code",
   "execution_count": null,
   "id": "69499228",
   "metadata": {},
   "outputs": [],
   "source": [
    "funding_w_program_info = funding_w_program_info.fillna(funding_w_program_info.dtypes.replace({'float64': 0.0, 'object': 'None'}))"
   ]
  },
  {
   "cell_type": "code",
   "execution_count": null,
   "id": "29d0d6f8",
   "metadata": {},
   "outputs": [],
   "source": [
    "funding_w_program_info.sample()"
   ]
  },
  {
   "cell_type": "code",
   "execution_count": null,
   "id": "0311f5c0",
   "metadata": {},
   "outputs": [],
   "source": [
    "funding_w_program_info.shape"
   ]
  },
  {
   "cell_type": "code",
   "execution_count": null,
   "id": "6c6ae432",
   "metadata": {},
   "outputs": [],
   "source": [
    "funding_w_program_info.action.value_counts()"
   ]
  },
  {
   "cell_type": "markdown",
   "id": "b203d580",
   "metadata": {},
   "source": [
    "#### Filter out programmed temporarily for now."
   ]
  },
  {
   "cell_type": "code",
   "execution_count": null,
   "id": "ea7a292d",
   "metadata": {},
   "outputs": [],
   "source": [
    "funding_w_program_info = funding_w_program_info.loc[funding_w_program_info.action == \"P\"].reset_index(drop = True)"
   ]
  },
  {
   "cell_type": "markdown",
   "id": "0920e3c2",
   "metadata": {},
   "source": [
    "## Phase Funding Table"
   ]
  },
  {
   "cell_type": "markdown",
   "id": "03e10f95",
   "metadata": {},
   "source": [
    "#### First: find the # of funds a project has programmed/voted/awarded for each fund"
   ]
  },
  {
   "cell_type": "code",
   "execution_count": null,
   "id": "b4bde774",
   "metadata": {},
   "outputs": [],
   "source": [
    "columns_to_agg = {**dict.fromkeys(['con', 'rw',\n",
    "       'pe_paed', 'pe_env', 'pe_rw', 'pe_con', 'pe_total'], 'sum')}\n"
   ]
  },
  {
   "cell_type": "code",
   "execution_count": null,
   "id": "531ee9f5",
   "metadata": {},
   "outputs": [],
   "source": [
    "columns_to_agg"
   ]
  },
  {
   "cell_type": "code",
   "execution_count": null,
   "id": "11b5f191",
   "metadata": {},
   "outputs": [],
   "source": [
    "# I want to find the total funds a project will receive for each fund\n",
    "total_cost = funding_w_program_info.groupby(['ctips_id','fund','document']).agg(columns_to_agg).reset_index()"
   ]
  },
  {
   "cell_type": "code",
   "execution_count": null,
   "id": "17396ff5",
   "metadata": {},
   "outputs": [],
   "source": [
    "total_cost.sample()"
   ]
  },
  {
   "cell_type": "markdown",
   "id": "f6059d2f",
   "metadata": {},
   "source": [
    "##### Separate out FTIP and everything else to calculate total funds a project is estimated to receive"
   ]
  },
  {
   "cell_type": "code",
   "execution_count": null,
   "id": "c2c6638f",
   "metadata": {},
   "outputs": [],
   "source": [
    "# Calculate out FTIP and oither documents in 2 stages\n",
    "ftip_only = total_cost.loc[total_cost.document.isin(['FTIP','DFTIP' ])].reset_index(drop = True)"
   ]
  },
  {
   "cell_type": "code",
   "execution_count": null,
   "id": "48c83f88",
   "metadata": {},
   "outputs": [],
   "source": [
    "total_cost_ftip = ftip_only.groupby(['ctips_id', 'fund']).agg(columns_to_agg).reset_index()"
   ]
  },
  {
   "cell_type": "code",
   "execution_count": null,
   "id": "f8bd716d",
   "metadata": {},
   "outputs": [],
   "source": [
    "cols_to_keep = ['ctips_id', 'fund', 'total_cost']"
   ]
  },
  {
   "cell_type": "code",
   "execution_count": null,
   "id": "5e613cf0",
   "metadata": {},
   "outputs": [],
   "source": [
    "total_cost_ftip['total_cost'] = total_cost_ftip.con + total_cost_ftip.rw + total_cost_ftip.pe_total"
   ]
  },
  {
   "cell_type": "code",
   "execution_count": null,
   "id": "f74a386e",
   "metadata": {},
   "outputs": [],
   "source": [
    "total_cost_ftip = total_cost_ftip[cols_to_keep]"
   ]
  },
  {
   "cell_type": "code",
   "execution_count": null,
   "id": "1118b944",
   "metadata": {},
   "outputs": [],
   "source": [
    "everything_else = total_cost.loc[~total_cost.document.isin(['FTIP','DFTIP'])].reset_index(drop = True)"
   ]
  },
  {
   "cell_type": "code",
   "execution_count": null,
   "id": "3070d228",
   "metadata": {},
   "outputs": [],
   "source": [
    "everything_else = everything_else.groupby(['ctips_id', 'fund']).agg(columns_to_agg).reset_index()"
   ]
  },
  {
   "cell_type": "code",
   "execution_count": null,
   "id": "d5ad472a",
   "metadata": {},
   "outputs": [],
   "source": [
    "everything_else['total_cost'] = everything_else.con + everything_else.rw + everything_else.pe_paed + everything_else.pe_env + everything_else.pe_rw + everything_else.pe_con"
   ]
  },
  {
   "cell_type": "code",
   "execution_count": null,
   "id": "e24f20fb",
   "metadata": {},
   "outputs": [],
   "source": [
    "everything_else = everything_else[cols_to_keep]"
   ]
  },
  {
   "cell_type": "code",
   "execution_count": null,
   "id": "f442ffe1",
   "metadata": {},
   "outputs": [],
   "source": [
    "total_requested_funds_final = pd.concat([everything_else, total_cost_ftip])"
   ]
  },
  {
   "cell_type": "code",
   "execution_count": null,
   "id": "9c2d01f9",
   "metadata": {},
   "outputs": [],
   "source": [
    "len(total_requested_funds_final), total_requested_funds_final.ctips_id.nunique()"
   ]
  },
  {
   "cell_type": "code",
   "execution_count": null,
   "id": "8f48aed8",
   "metadata": {},
   "outputs": [],
   "source": [
    "total_requested_funds_final.ctips_id.value_counts().describe()"
   ]
  },
  {
   "cell_type": "markdown",
   "id": "cd9c7213",
   "metadata": {},
   "source": [
    "##### One project"
   ]
  },
  {
   "cell_type": "code",
   "execution_count": null,
   "id": "36c4d445",
   "metadata": {},
   "outputs": [],
   "source": [
    "total_requested_funds_final.loc[total_requested_funds_final.ctips_id == 20300000209]"
   ]
  },
  {
   "cell_type": "code",
   "execution_count": null,
   "id": "f4c616bd",
   "metadata": {},
   "outputs": [],
   "source": [
    "8900.00+63400.00"
   ]
  },
  {
   "cell_type": "code",
   "execution_count": null,
   "id": "aa2dbaff",
   "metadata": {},
   "outputs": [],
   "source": [
    "9700.00+1100.00"
   ]
  },
  {
   "cell_type": "code",
   "execution_count": null,
   "id": "5e7b5497",
   "metadata": {},
   "outputs": [],
   "source": [
    "# Original \n",
    "funding_w_program_info.loc[funding_w_program_info.ctips_id == 20300000209]"
   ]
  },
  {
   "cell_type": "markdown",
   "id": "6921ff42",
   "metadata": {},
   "source": [
    "#### Pivot - I want the dataframe to be wide instead of long"
   ]
  },
  {
   "cell_type": "code",
   "execution_count": null,
   "id": "9e73a815",
   "metadata": {},
   "outputs": [],
   "source": [
    "fund_table = total_requested_funds_final.pivot_table(index=['ctips_id'], columns='fund', \n",
    "                    values=['total_cost'], aggfunc='sum')"
   ]
  },
  {
   "cell_type": "code",
   "execution_count": null,
   "id": "369e76a8",
   "metadata": {},
   "outputs": [],
   "source": [
    "fund_table.columns = fund_table.columns.droplevel()"
   ]
  },
  {
   "cell_type": "code",
   "execution_count": null,
   "id": "8da306ee",
   "metadata": {},
   "outputs": [],
   "source": [
    "fund_table = fund_table.reset_index()"
   ]
  },
  {
   "cell_type": "code",
   "execution_count": null,
   "id": "089794b7",
   "metadata": {},
   "outputs": [],
   "source": [
    "fund_table.shape"
   ]
  },
  {
   "cell_type": "code",
   "execution_count": null,
   "id": "0bba2cfa",
   "metadata": {},
   "outputs": [],
   "source": [
    "fund_table = _utils.to_snakecase(fund_table)"
   ]
  },
  {
   "cell_type": "markdown",
   "id": "dd91c841",
   "metadata": {},
   "source": [
    "#### Second: find the amount of $ for each phase"
   ]
  },
  {
   "cell_type": "code",
   "execution_count": null,
   "id": "08582661",
   "metadata": {},
   "outputs": [],
   "source": [
    "cost_per_phase = funding_w_program_info.groupby(['ctips_id']).agg(columns_to_agg).reset_index()"
   ]
  },
  {
   "cell_type": "code",
   "execution_count": null,
   "id": "b362f3c0",
   "metadata": {},
   "outputs": [],
   "source": [
    "cost_per_phase.shape, cost_per_phase.ctips_id.nunique()"
   ]
  },
  {
   "cell_type": "code",
   "execution_count": null,
   "id": "439f1946",
   "metadata": {},
   "outputs": [],
   "source": [
    "63400.00+9700.00+11300"
   ]
  },
  {
   "cell_type": "code",
   "execution_count": null,
   "id": "9e885972",
   "metadata": {},
   "outputs": [],
   "source": [
    "fund_table.loc[fund_table.ctips_id == 20300000209].dropna(axis=1)"
   ]
  },
  {
   "cell_type": "code",
   "execution_count": null,
   "id": "b1c458ea",
   "metadata": {},
   "outputs": [],
   "source": [
    "cost_per_phase.loc[cost_per_phase.ctips_id == 20300000209].dropna(axis=1)"
   ]
  },
  {
   "cell_type": "markdown",
   "id": "08564b97",
   "metadata": {},
   "source": [
    "#### Third: merge these 2 tables"
   ]
  },
  {
   "cell_type": "code",
   "execution_count": null,
   "id": "41e08290",
   "metadata": {},
   "outputs": [],
   "source": [
    "final_phase_funding_table = pd.merge(fund_table, cost_per_phase, on = [\"ctips_id\"], how = \"inner\")"
   ]
  },
  {
   "cell_type": "code",
   "execution_count": null,
   "id": "79f2f2f2",
   "metadata": {},
   "outputs": [],
   "source": [
    "len(final_phase_funding_table)"
   ]
  },
  {
   "cell_type": "code",
   "execution_count": null,
   "id": "2c33f3ae",
   "metadata": {},
   "outputs": [],
   "source": [
    "final_phase_funding_table.head(2)"
   ]
  },
  {
   "cell_type": "code",
   "execution_count": null,
   "id": "97ad053f",
   "metadata": {},
   "outputs": [],
   "source": [
    "final_phase_funding_table.ctips_id.nunique(), len(final_phase_funding_table)"
   ]
  },
  {
   "cell_type": "markdown",
   "id": "a824983c",
   "metadata": {},
   "source": [
    "#### Fourth: find state v federal \n",
    "* State funds is a lot more."
   ]
  },
  {
   "cell_type": "code",
   "execution_count": null,
   "id": "b3471a77",
   "metadata": {},
   "outputs": [],
   "source": [
    "\n",
    "federal_funds = _csis_utils.calculate_state_fed_local_total_funds(final_phase_funding_table, ['1.0'], 'total_federal_funds')\n"
   ]
  },
  {
   "cell_type": "code",
   "execution_count": null,
   "id": "4b164f51",
   "metadata": {},
   "outputs": [],
   "source": [
    "state_funds = _csis_utils.calculate_state_fed_local_total_funds(final_phase_funding_table, ['2.0'], 'total_state_funds')\n"
   ]
  },
  {
   "cell_type": "code",
   "execution_count": null,
   "id": "356faf47",
   "metadata": {},
   "outputs": [],
   "source": [
    "local_funds = _csis_utils.calculate_state_fed_local_total_funds(final_phase_funding_table, ['3.0'], 'total_local_funds')\n"
   ]
  },
  {
   "cell_type": "code",
   "execution_count": null,
   "id": "1c0975b2",
   "metadata": {},
   "outputs": [],
   "source": [
    "final_phase_funding_table[\"is_state\"] = final_phase_funding_table.apply(_utils.is_state_funds, axis=1)"
   ]
  },
  {
   "cell_type": "code",
   "execution_count": null,
   "id": "14e14a4c",
   "metadata": {},
   "outputs": [],
   "source": [
    "final_phase_funding_table[\"is_federal\"] = final_phase_funding_table.apply(_utils.is_fed_funds, axis=1)"
   ]
  },
  {
   "cell_type": "code",
   "execution_count": null,
   "id": "7a125f0f",
   "metadata": {},
   "outputs": [],
   "source": [
    "final_phase_funding_table[\"is_local\"] = final_phase_funding_table.apply(_utils.is_local_funds, axis=1)"
   ]
  },
  {
   "cell_type": "markdown",
   "id": "f83111de",
   "metadata": {},
   "source": [
    "##### Check that I summed up federal funds correctly\n",
    "* State not summing up correctly"
   ]
  },
  {
   "cell_type": "code",
   "execution_count": null,
   "id": "f9609041",
   "metadata": {},
   "outputs": [],
   "source": [
    "funding_w_program_info.loc[funding_w_program_info.ctips_id == 20920011849][['fund_type_1_fed_2_state_3_local']].value_counts()"
   ]
  },
  {
   "cell_type": "code",
   "execution_count": null,
   "id": "7134d80d",
   "metadata": {},
   "outputs": [],
   "source": [
    "funding_w_program_info.loc[(funding_w_program_info.ctips_id == 20920011849) & (funding_w_program_info.fund == 'Public Transportation Modernization Improvement-2.0-2.0')][['con']].sum()"
   ]
  },
  {
   "cell_type": "code",
   "execution_count": null,
   "id": "421b4f27",
   "metadata": {},
   "outputs": [],
   "source": [
    "funding_w_program_info.loc[(funding_w_program_info.ctips_id == 20920011849) & (funding_w_program_info.fund == 'Public Transportation Modernization Improvement-2.0-2.0')][['rw']].sum()"
   ]
  },
  {
   "cell_type": "code",
   "execution_count": null,
   "id": "c24b6f55",
   "metadata": {},
   "outputs": [],
   "source": [
    "funding_w_program_info.loc[(funding_w_program_info.ctips_id == 20920011849) & (funding_w_program_info.fund == 'Public Transportation Modernization Improvement-2.0-2.0')][['pe_total']].sum()"
   ]
  },
  {
   "cell_type": "code",
   "execution_count": null,
   "id": "6671324b",
   "metadata": {},
   "outputs": [],
   "source": [
    "112386000.00+12213000.00+4351000.00 == 128950000.0"
   ]
  },
  {
   "cell_type": "code",
   "execution_count": null,
   "id": "14d0f887",
   "metadata": {},
   "outputs": [],
   "source": [
    "final_phase_funding_table.loc[final_phase_funding_table.ctips_id == 20920011849].dropna(axis=1).T"
   ]
  },
  {
   "cell_type": "code",
   "execution_count": null,
   "id": "9a1bbfda",
   "metadata": {},
   "outputs": [],
   "source": [
    "(final_phase_funding_table\n",
    " .groupby(['is_state', 'is_federal', 'is_local'])\n",
    " .agg({'ctips_id':'nunique'})\n",
    " .reset_index()\n",
    " .sort_values(by = ['ctips_id']))"
   ]
  },
  {
   "cell_type": "markdown",
   "id": "ded58f7d",
   "metadata": {},
   "source": [
    "#### Fifth: Drop everything before `con`\n",
    "* Need to differentiate between `pe_total` for FTIP vs `pe_total` for everything else."
   ]
  },
  {
   "cell_type": "code",
   "execution_count": null,
   "id": "e10c8f52",
   "metadata": {},
   "outputs": [],
   "source": [
    "to_keep = ['ctips_id','con','rw', 'pe_env', 'pe_rw', 'pe_con', 'pe_total', 'total_federal_funds',\n",
    "       'total_state_funds', 'total_local_funds', 'is_local', 'is_state',\n",
    "       'is_federal']"
   ]
  },
  {
   "cell_type": "code",
   "execution_count": null,
   "id": "d7173842",
   "metadata": {},
   "outputs": [],
   "source": [
    "final_phase_funding_table2 = final_phase_funding_table[to_keep]"
   ]
  },
  {
   "cell_type": "code",
   "execution_count": null,
   "id": "ea702394",
   "metadata": {},
   "outputs": [],
   "source": [
    "final_phase_funding_table2.head()"
   ]
  },
  {
   "cell_type": "markdown",
   "id": "d5a5f2bb",
   "metadata": {},
   "source": [
    "#### Sixth: Merge on `phase_dates_df` with all the phase dates"
   ]
  },
  {
   "cell_type": "code",
   "execution_count": null,
   "id": "6025a9f1",
   "metadata": {},
   "outputs": [],
   "source": [
    "phase_dates_df.ctips_id.nunique(), len(phase_dates_df)"
   ]
  },
  {
   "cell_type": "code",
   "execution_count": null,
   "id": "7cafa19d",
   "metadata": {},
   "outputs": [],
   "source": [
    "projects_table.ctips_id.nunique(), len(projects_table)"
   ]
  },
  {
   "cell_type": "code",
   "execution_count": null,
   "id": "f7d0efa3",
   "metadata": {},
   "outputs": [],
   "source": [
    "final_phase_funding_table.ctips_id.nunique(), len(final_phase_funding_table)"
   ]
  },
  {
   "cell_type": "code",
   "execution_count": null,
   "id": "77a24a8c",
   "metadata": {},
   "outputs": [],
   "source": [
    "final_phase_funding_table2 = pd.merge(final_phase_funding_table2, phase_dates_df, on = \"ctips_id\", how = \"outer\")"
   ]
  },
  {
   "cell_type": "code",
   "execution_count": null,
   "id": "023f3588",
   "metadata": {},
   "outputs": [],
   "source": [
    "pd.merge(final_phase_funding_table2, phase_dates_df, on = \"ctips_id\", how = \"outer\", indicator = True)[['_merge']].value_counts()"
   ]
  },
  {
   "cell_type": "code",
   "execution_count": null,
   "id": "3fc198d0",
   "metadata": {},
   "outputs": [],
   "source": [
    "final_phase_funding_table2.ctips_id.nunique()"
   ]
  },
  {
   "cell_type": "code",
   "execution_count": null,
   "id": "b6c2a48f",
   "metadata": {},
   "outputs": [],
   "source": [
    "projects_table.ctips_id.nunique()"
   ]
  },
  {
   "cell_type": "markdown",
   "id": "a7dc1126",
   "metadata": {},
   "source": [
    "#### Seventh: Merge some other dates found in the `projects` dataframe."
   ]
  },
  {
   "cell_type": "code",
   "execution_count": null,
   "id": "94edbad1",
   "metadata": {},
   "outputs": [],
   "source": [
    "project_date_cols = ['const_date', 'rtl', 'ctips_id', 'projcomp_date']"
   ]
  },
  {
   "cell_type": "code",
   "execution_count": null,
   "id": "0e2fe592",
   "metadata": {},
   "outputs": [],
   "source": [
    "projects_dates = projects_table[project_date_cols]"
   ]
  },
  {
   "cell_type": "code",
   "execution_count": null,
   "id": "73a1417a",
   "metadata": {},
   "outputs": [],
   "source": [
    "project_date_cols.remove('ctips_id')"
   ]
  },
  {
   "cell_type": "code",
   "execution_count": null,
   "id": "3e4e98bd",
   "metadata": {},
   "outputs": [],
   "source": [
    "projects_table = projects_table.drop(columns = project_date_cols)"
   ]
  },
  {
   "cell_type": "code",
   "execution_count": null,
   "id": "57b81fba",
   "metadata": {},
   "outputs": [],
   "source": [
    "# I'm only interested in rwos in which at least one of the dates are populated\n",
    "projects_dates2 = projects_dates.loc[(projects_dates.rtl != 'datetime64[ns]') |  (projects_dates.const_date != 'datetime64[ns]')].reset_index(drop = True)"
   ]
  },
  {
   "cell_type": "code",
   "execution_count": null,
   "id": "818abaad",
   "metadata": {},
   "outputs": [],
   "source": [
    "projects_dates2 = projects_dates2.rename(columns = {'const_date': 'construction_completion_date', 'rtl':'ready_to_list_date'})"
   ]
  },
  {
   "cell_type": "code",
   "execution_count": null,
   "id": "10943300",
   "metadata": {},
   "outputs": [],
   "source": [
    "final_phase_funding_table3 = pd.merge(final_phase_funding_table2, projects_dates2, on = 'ctips_id', how = 'left')"
   ]
  },
  {
   "cell_type": "code",
   "execution_count": null,
   "id": "e0b5c9fd",
   "metadata": {},
   "outputs": [],
   "source": [
    "final_phase_funding_table3.ctips_id.nunique()"
   ]
  },
  {
   "cell_type": "code",
   "execution_count": null,
   "id": "5002bf51",
   "metadata": {},
   "outputs": [],
   "source": [
    "projects_table.ctips_id.nunique()"
   ]
  },
  {
   "cell_type": "markdown",
   "id": "4f590b0e",
   "metadata": {},
   "source": [
    "### Awards Table\n",
    "* Take final_fund_m and sort it by year\n",
    "* Line year is \"fiscal year of this fund record Note that the year listed is the second in the pair of fiscal year notation.  For example if the funds for this record are for fiscal year 1998/99, then this record will hold the value 1999.\"\n",
    "* These aren't really programs, funds?"
   ]
  },
  {
   "cell_type": "code",
   "execution_count": null,
   "id": "52bfb5ea",
   "metadata": {},
   "outputs": [],
   "source": [
    "# del out '',\n",
    "awards = funding_w_program_info[['ctips_id','line_year', 'program', 'progdesc']]"
   ]
  },
  {
   "cell_type": "code",
   "execution_count": null,
   "id": "dbcb89fb",
   "metadata": {},
   "outputs": [],
   "source": [
    "# Just drop dups across\n",
    "awards2 = awards.drop_duplicates().reset_index(drop = True)"
   ]
  },
  {
   "cell_type": "code",
   "execution_count": null,
   "id": "d2fe1729",
   "metadata": {},
   "outputs": [],
   "source": [
    "len(awards), len(awards2)"
   ]
  },
  {
   "cell_type": "code",
   "execution_count": null,
   "id": "306fde98",
   "metadata": {},
   "outputs": [],
   "source": [
    "awards3 = awards2.sort_values(by = ['ctips_id','program','line_year', ], ascending = [False, False, False])"
   ]
  },
  {
   "cell_type": "code",
   "execution_count": null,
   "id": "ef54634e",
   "metadata": {},
   "outputs": [],
   "source": [
    "awards4 = awards3.drop_duplicates(subset = ['ctips_id','program'])"
   ]
  },
  {
   "cell_type": "code",
   "execution_count": null,
   "id": "84467f0d",
   "metadata": {},
   "outputs": [],
   "source": [
    "awards4.ctips_id.nunique()"
   ]
  },
  {
   "cell_type": "markdown",
   "id": "de8480c4",
   "metadata": {},
   "source": [
    "#### Check w/ one project"
   ]
  },
  {
   "cell_type": "code",
   "execution_count": null,
   "id": "6c4766bd",
   "metadata": {
    "scrolled": true
   },
   "outputs": [],
   "source": [
    "# awards3.loc[awards3.ctips_id == 20700001649]"
   ]
  },
  {
   "cell_type": "code",
   "execution_count": null,
   "id": "8048727d",
   "metadata": {},
   "outputs": [],
   "source": [
    "awards4.loc[awards4.ctips_id == 20700001649]"
   ]
  },
  {
   "cell_type": "code",
   "execution_count": null,
   "id": "8f0c78a8",
   "metadata": {},
   "outputs": [],
   "source": [
    "awards4.ctips_id.value_counts().describe()"
   ]
  },
  {
   "cell_type": "code",
   "execution_count": null,
   "id": "bd4cacf9",
   "metadata": {},
   "outputs": [],
   "source": [
    "awards4.ctips_id.value_counts().head(10)"
   ]
  },
  {
   "cell_type": "markdown",
   "id": "33ec46a8",
   "metadata": {},
   "source": [
    "### Political"
   ]
  },
  {
   "cell_type": "code",
   "execution_count": null,
   "id": "d256a277",
   "metadata": {},
   "outputs": [],
   "source": [
    "political_df = pd.read_sql_query(\"\"\" \n",
    "SELECT \n",
    "*\n",
    "FROM ctips.politcal\n",
    "\"\"\", engine) "
   ]
  },
  {
   "cell_type": "code",
   "execution_count": null,
   "id": "95616eb2",
   "metadata": {},
   "outputs": [],
   "source": [
    "# Drop any rows with nulls\n",
    "# There are a bunch of rows that are 0 \n",
    "political_df_without_na = political_df.dropna(how = \"any\")"
   ]
  },
  {
   "cell_type": "code",
   "execution_count": null,
   "id": "3ede35ba",
   "metadata": {},
   "outputs": [],
   "source": [
    "len(political_df), political_df.projectid.nunique()"
   ]
  },
  {
   "cell_type": "code",
   "execution_count": null,
   "id": "3d0b0790",
   "metadata": {},
   "outputs": [],
   "source": [
    "political_df.head()"
   ]
  },
  {
   "cell_type": "code",
   "execution_count": null,
   "id": "1bf56a9c",
   "metadata": {},
   "outputs": [],
   "source": [
    "len(political_df_without_na)"
   ]
  },
  {
   "cell_type": "code",
   "execution_count": null,
   "id": "ef597573",
   "metadata": {},
   "outputs": [],
   "source": [
    "political_df_without_na.head()"
   ]
  },
  {
   "cell_type": "code",
   "execution_count": null,
   "id": "49ccb448",
   "metadata": {},
   "outputs": [],
   "source": [
    "political_df2 = pd.merge(projects_table[['ctips_id', 'projectid']], political_df_without_na, on ='projectid', how = 'inner')"
   ]
  },
  {
   "cell_type": "code",
   "execution_count": null,
   "id": "ee357e4e",
   "metadata": {},
   "outputs": [],
   "source": [
    "political_df2.shape, political_df2.projectid.nunique(), political_df2.ctips_id.nunique()"
   ]
  },
  {
   "cell_type": "code",
   "execution_count": null,
   "id": "82c8e22c",
   "metadata": {},
   "outputs": [],
   "source": [
    "assembly_df = _csis_utils.clean_political(political_df2, 'assembly')"
   ]
  },
  {
   "cell_type": "code",
   "execution_count": null,
   "id": "3e34803a",
   "metadata": {},
   "outputs": [],
   "source": [
    "assembly_df.ctips_id.value_counts().head()"
   ]
  },
  {
   "cell_type": "code",
   "execution_count": null,
   "id": "1d8586e2",
   "metadata": {},
   "outputs": [],
   "source": [
    "len(assembly_df), assembly_df.ctips_id.nunique()"
   ]
  },
  {
   "cell_type": "code",
   "execution_count": null,
   "id": "4e36025e",
   "metadata": {},
   "outputs": [],
   "source": [
    "senate_df = _csis_utils.clean_political(political_df2, 'ssenate')"
   ]
  },
  {
   "cell_type": "code",
   "execution_count": null,
   "id": "0d02b8b0",
   "metadata": {},
   "outputs": [],
   "source": [
    "len(senate_df), senate_df.ctips_id.nunique()"
   ]
  },
  {
   "cell_type": "code",
   "execution_count": null,
   "id": "37cfedd3",
   "metadata": {},
   "outputs": [],
   "source": [
    "ushouse_df = _csis_utils.clean_political(political_df2, 'ushouse')"
   ]
  },
  {
   "cell_type": "code",
   "execution_count": null,
   "id": "adbf20b9",
   "metadata": {},
   "outputs": [],
   "source": [
    "len(ushouse_df), ushouse_df.ctips_id.nunique()"
   ]
  },
  {
   "cell_type": "code",
   "execution_count": null,
   "id": "192df3c5",
   "metadata": {},
   "outputs": [],
   "source": [
    "ushouse_df.ushouse.value_counts().head()"
   ]
  },
  {
   "cell_type": "markdown",
   "id": "ba49612f",
   "metadata": {},
   "source": [
    "#### Double check"
   ]
  },
  {
   "cell_type": "code",
   "execution_count": null,
   "id": "58fbabd0",
   "metadata": {
    "scrolled": true
   },
   "outputs": [],
   "source": [
    "assembly_df.loc[assembly_df.ctips_id == 10900000289]"
   ]
  },
  {
   "cell_type": "code",
   "execution_count": null,
   "id": "2940ed0f",
   "metadata": {},
   "outputs": [],
   "source": [
    "political_df2.loc[political_df2.ctips_id == 10900000289]"
   ]
  },
  {
   "cell_type": "code",
   "execution_count": null,
   "id": "638d08e0",
   "metadata": {},
   "outputs": [],
   "source": [
    "# projects_table.loc[projects_table.ctips_id == 10900000289]"
   ]
  },
  {
   "cell_type": "markdown",
   "id": "c2b6fa42",
   "metadata": {},
   "source": [
    "## Save to Excel"
   ]
  },
  {
   "cell_type": "code",
   "execution_count": null,
   "id": "d08d935d",
   "metadata": {},
   "outputs": [],
   "source": [
    "district_df = projects_table[['ctips_id','districtid']].drop_duplicates()"
   ]
  },
  {
   "cell_type": "code",
   "execution_count": null,
   "id": "c9655708",
   "metadata": {},
   "outputs": [],
   "source": [
    "district_df.shape"
   ]
  },
  {
   "cell_type": "code",
   "execution_count": null,
   "id": "31352c30",
   "metadata": {},
   "outputs": [],
   "source": [
    "# projects_table = projects_table.fillna(projects_table.dtypes.replace({'float64': 0.0, 'object': 'None'}))"
   ]
  },
  {
   "cell_type": "code",
   "execution_count": null,
   "id": "622ac980",
   "metadata": {},
   "outputs": [],
   "source": [
    "district_df = district_df.fillna(district_df.dtypes.replace({'float64': 0.0, 'object': 'None'})).drop_duplicates()"
   ]
  },
  {
   "cell_type": "code",
   "execution_count": null,
   "id": "88b9aa82",
   "metadata": {},
   "outputs": [],
   "source": [
    "final_phase_funding_table3 = final_phase_funding_table3.fillna(district_df.dtypes.replace({'float64': 0.0, 'object': 'None'}))"
   ]
  },
  {
   "cell_type": "code",
   "execution_count": null,
   "id": "dcc066c2",
   "metadata": {},
   "outputs": [],
   "source": [
    "awards4 = awards4.fillna(awards4.dtypes.replace({'float64': 0.0, 'object': 'None'}))"
   ]
  },
  {
   "cell_type": "code",
   "execution_count": null,
   "id": "e9967490",
   "metadata": {},
   "outputs": [],
   "source": [
    "ushouse_df = ushouse_df.fillna(ushouse_df.dtypes.replace({'float64': 0.0, 'object': 'None'}))"
   ]
  },
  {
   "cell_type": "code",
   "execution_count": null,
   "id": "a846c82d",
   "metadata": {},
   "outputs": [],
   "source": [
    "senate_df = senate_df.fillna(senate_df.dtypes.replace({'float64': 0.0, 'object': 'None'}))"
   ]
  },
  {
   "cell_type": "code",
   "execution_count": null,
   "id": "6bd77a85",
   "metadata": {},
   "outputs": [],
   "source": [
    "assembly_df = assembly_df.fillna(assembly_df.dtypes.replace({'float64': 0.0, 'object': 'None'}))"
   ]
  },
  {
   "cell_type": "code",
   "execution_count": null,
   "id": "fb81f83e",
   "metadata": {},
   "outputs": [],
   "source": [
    "assembly_df.ctips_id.nunique(), awards4.ctips_id.nunique()"
   ]
  },
  {
   "cell_type": "code",
   "execution_count": null,
   "id": "e26e7701",
   "metadata": {},
   "outputs": [],
   "source": [
    "final_phase_funding_table3.ctips_id.nunique()"
   ]
  },
  {
   "cell_type": "code",
   "execution_count": null,
   "id": "bb1a3085",
   "metadata": {},
   "outputs": [],
   "source": [
    "county_projects_df2.ctips_id.nunique()"
   ]
  },
  {
   "cell_type": "code",
   "execution_count": null,
   "id": "6ed4aa81",
   "metadata": {},
   "outputs": [],
   "source": [
    "district_df.ctips_id.nunique()"
   ]
  },
  {
   "cell_type": "code",
   "execution_count": null,
   "id": "f8d433cc",
   "metadata": {},
   "outputs": [],
   "source": [
    "# drop_cols = ['chg_offcl', 'chg_qual1', 'chg_qual2','districtid', 'appdate', 'version','projcomp_date', 'agencyid', 'projectid', 'archive', 'agency_name']"
   ]
  },
  {
   "cell_type": "markdown",
   "id": "f3552a50",
   "metadata": {},
   "source": [
    "#### ASK WHY SOME PROJECTS have 15 which means the project is done? But archive is 0?"
   ]
  },
  {
   "cell_type": "code",
   "execution_count": null,
   "id": "dde3c7b4",
   "metadata": {},
   "outputs": [],
   "source": [
    "projects_table.archive.unique()"
   ]
  },
  {
   "cell_type": "code",
   "execution_count": null,
   "id": "a804c48f",
   "metadata": {},
   "outputs": [],
   "source": [
    "projects_table.chg_qual1.value_counts()"
   ]
  },
  {
   "cell_type": "code",
   "execution_count": null,
   "id": "5b8cbb62",
   "metadata": {},
   "outputs": [],
   "source": [
    "proj_cols_drop = ['appdate', 'archive',\n",
    "       'high_ver', 'high_offcl', 'progcode1',\n",
    "       'agencyid', 'projectid',\n",
    "       'version', 'countyid']"
   ]
  },
  {
   "cell_type": "code",
   "execution_count": null,
   "id": "cacb064a",
   "metadata": {},
   "outputs": [],
   "source": [
    "agency_cols = ['agency_name', 'implpaed_agency',\n",
    "       'implpse_agency', 'implrw_agency', 'implcon_agency']"
   ]
  },
  {
   "cell_type": "code",
   "execution_count": null,
   "id": "b7fe0d71",
   "metadata": {},
   "outputs": [],
   "source": [
    "agency_df = projects_table[agency_cols + ['ctips_id']]"
   ]
  },
  {
   "cell_type": "code",
   "execution_count": null,
   "id": "5ca7649f",
   "metadata": {},
   "outputs": [],
   "source": [
    "agency_df.head()"
   ]
  },
  {
   "cell_type": "code",
   "execution_count": null,
   "id": "34b5ca5c",
   "metadata": {},
   "outputs": [],
   "source": [
    "projects_table = projects_table.drop(columns = proj_cols_drop + agency_cols)"
   ]
  },
  {
   "cell_type": "code",
   "execution_count": null,
   "id": "1bc2a413",
   "metadata": {},
   "outputs": [],
   "source": [
    "district_df.sample()"
   ]
  },
  {
   "cell_type": "code",
   "execution_count": null,
   "id": "18d7f4d8",
   "metadata": {},
   "outputs": [],
   "source": [
    "county_projects_df2.sample()"
   ]
  },
  {
   "cell_type": "code",
   "execution_count": null,
   "id": "b717d091",
   "metadata": {},
   "outputs": [],
   "source": [
    "final_phase_funding_table3.sample()"
   ]
  },
  {
   "cell_type": "code",
   "execution_count": null,
   "id": "76719372",
   "metadata": {},
   "outputs": [],
   "source": [
    "awards4.sample()"
   ]
  },
  {
   "cell_type": "code",
   "execution_count": null,
   "id": "2b8f5328",
   "metadata": {},
   "outputs": [],
   "source": [
    "ushouse_df.sample()"
   ]
  },
  {
   "cell_type": "code",
   "execution_count": null,
   "id": "c68207d5",
   "metadata": {},
   "outputs": [],
   "source": [
    "senate_df.sample()"
   ]
  },
  {
   "cell_type": "code",
   "execution_count": null,
   "id": "fb0745dd",
   "metadata": {},
   "outputs": [],
   "source": [
    "assembly_df.sample()"
   ]
  },
  {
   "cell_type": "code",
   "execution_count": null,
   "id": "dc7fed4b",
   "metadata": {},
   "outputs": [],
   "source": [
    "\n",
    "with pd.ExcelWriter(\"CTIPS_data.xlsx\") as writer:\n",
    "    projects_table.to_excel(writer, sheet_name=\"project\", index=False)\n",
    "    agency_df.to_excel(writer, sheet_name=\"agencies\", index=False)\n",
    "    district_df.to_excel(writer, sheet_name=\"district\", index=False)\n",
    "    county_projects_df2.to_excel(writer, sheet_name=\"county\", index=False)\n",
    "    final_phase_funding_table3.to_excel(writer, sheet_name=\"phase_funding\", index=False)\n",
    "    awards4.to_excel(writer, sheet_name=\"awards\", index=False)\n",
    "    ushouse_df.to_excel(writer, sheet_name=\"us_house\", index=False)\n",
    "    senate_df.to_excel(writer, sheet_name=\"senate\", index=False)\n",
    "    assembly_df.to_excel(writer, sheet_name=\"assembly\", index=False)\n"
   ]
  }
 ],
 "metadata": {
  "kernelspec": {
   "display_name": "Python 3 (ipykernel)",
   "language": "python",
   "name": "python3"
  },
  "language_info": {
   "codemirror_mode": {
    "name": "ipython",
    "version": 3
   },
   "file_extension": ".py",
   "mimetype": "text/x-python",
   "name": "python",
   "nbconvert_exporter": "python",
   "pygments_lexer": "ipython3",
   "version": "3.9.13"
  }
 },
 "nbformat": 4,
 "nbformat_minor": 5
}
