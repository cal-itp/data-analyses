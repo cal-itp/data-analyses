{
 "cells": [
  {
   "cell_type": "markdown",
   "id": "7298c2c5",
   "metadata": {},
   "source": [
    "## CTIPS\n",
    "* https://ctips-prod.dot.ca.gov/ctips/LoginMediatorForm.do"
   ]
  },
  {
   "cell_type": "code",
   "execution_count": null,
   "id": "957f9269",
   "metadata": {},
   "outputs": [],
   "source": [
    "import pandas as pd \n",
    "import sqlalchemy \n",
    "import sys \n",
    "import re\n",
    "import oracledb "
   ]
  },
  {
   "cell_type": "code",
   "execution_count": null,
   "id": "0b5e5043",
   "metadata": {},
   "outputs": [],
   "source": [
    "oracledb.version = \"8.3.0\" \n",
    "sys.modules[\"cx_Oracle\"] = oracledb "
   ]
  },
  {
   "cell_type": "code",
   "execution_count": null,
   "id": "e9b23bbf",
   "metadata": {},
   "outputs": [],
   "source": [
    "pd.options.display.max_columns = 100\n",
    "pd.options.display.float_format = \"{:.2f}\".format\n",
    "pd.set_option(\"display.max_rows\", None)\n",
    "pd.set_option(\"display.max_colwidth\", None)"
   ]
  },
  {
   "cell_type": "code",
   "execution_count": null,
   "id": "02a0480e",
   "metadata": {},
   "outputs": [],
   "source": [
    "\n",
    "ENGINE_PATH_WIN_AUTH =  f\"{DIALECT}://{USERNAME}:{PASSWORD}@{HOST}:{PORT}/?service_name={SERVICE}\" "
   ]
  },
  {
   "cell_type": "code",
   "execution_count": null,
   "id": "65933706",
   "metadata": {},
   "outputs": [],
   "source": [
    "engine = sqlalchemy.create_engine(ENGINE_PATH_WIN_AUTH)   "
   ]
  },
  {
   "cell_type": "code",
   "execution_count": null,
   "id": "c6f5db95",
   "metadata": {},
   "outputs": [],
   "source": [
    "def to_snakecase(df):\n",
    "    df.columns = df.columns.str.lower().str.replace(' ','_')\n",
    "    return df"
   ]
  },
  {
   "cell_type": "markdown",
   "id": "41cc4aad",
   "metadata": {},
   "source": [
    "### Project \n",
    "['projectid',\n",
    " 'ctips_id',\n",
    " 'countyid',\n",
    " 'docyear',\n",
    " 'document',\n",
    " 'districtid',\n",
    " 'ea_number',\n",
    " 'high_ver',\n",
    " 'mpoid',\n",
    " 'official',\n",
    " 'ppno',\n",
    " 'version',\n",
    " 'adminappv',\n",
    " 'agencyid',\n",
    " 'airco',\n",
    " 'aircode',\n",
    " 'appdate',\n",
    " 'approve',\n",
    " 'aprv_fed',\n",
    " 'aprv_mpo',\n",
    " 'aprv_state',\n",
    " 'award_fa',\n",
    " 'basinid',\n",
    " 'bridge_num',\n",
    " 'capinc',\n",
    " 'chg_offcl',\n",
    " 'chg_qual1',\n",
    " 'chg_qual2',\n",
    " 'comnt_dist',\n",
    " 'comnt_mpo',\n",
    " 'comnt_senr',\n",
    " 'contrib',\n",
    " 'corridor',\n",
    " 'ct_candt',\n",
    " 'deny_fed',\n",
    " 'deny_state',\n",
    " 'proj_desc',\n",
    " 'docprint',\n",
    " 'elementid',\n",
    " 'env',\n",
    " 'env_doc',\n",
    " 'ext_xfdt',\n",
    " 'ext_xfer',\n",
    " 'flag_a',\n",
    " 'flag_b',\n",
    " 'flag_c',\n",
    " 'flag_d',\n",
    " 'flag_e',\n",
    " 'ftipinfocg',\n",
    " 'ftip_amend',\n",
    " 'ftip_xfer',\n",
    " 'ftip_xfdt',\n",
    " 'kp1a',\n",
    " 'kp1af',\n",
    " 'kp1b',\n",
    " 'kp1bf',\n",
    " 'kplength1',\n",
    " 'law',\n",
    " 'lupdate',\n",
    " 'lupdateid',\n",
    " 'maintenace',\n",
    " 'miscfield1',\n",
    " 'miscfield2',\n",
    " 'miscfield3',\n",
    " 'miscfield4',\n",
    " 'mpo',\n",
    " 'mpoupdate',\n",
    " 'northsouth',\n",
    " 'no_pesplit',\n",
    " 'p116prj',\n",
    " 'perfmeaval',\n",
    " 'perfmeacod',\n",
    " 'pm1a',\n",
    " 'pm1af',\n",
    " 'pm1b',\n",
    " 'pm1bf',\n",
    " 'pmcfon',\n",
    " 'pmpfon',\n",
    " 'pmpfonarea',\n",
    " 'postmiles1',\n",
    " 'prjmgr',\n",
    " 'prjmgrphon',\n",
    " 'puc',\n",
    " 'route1',\n",
    " 'sourceorig',\n",
    " 'stip_amend',\n",
    " 'system',\n",
    " 'systemid',\n",
    " 'tciprj',\n",
    " 'title',\n",
    " 'tollbridge',\n",
    " 'urbanid',\n",
    " 'const_date',\n",
    " 'fund_res',\n",
    " 'aqexemptid',\n",
    " 'sj_groupid',\n",
    " 'cost_incr',\n",
    " 'scope_incr',\n",
    " 'cost_decr',\n",
    " 'scope_decr',\n",
    " 'sch_delay',\n",
    " 'sch_adv',\n",
    " 'fnd_src_ch',\n",
    " 'compnt_chg',\n",
    " 'split_comb',\n",
    " 'other_chg',\n",
    " 'fco',\n",
    " 'comnt_ct',\n",
    " 'comnt_fed',\n",
    " 'ctc_mtg_dt',\n",
    " 'extwaivno',\n",
    " 'extappvdte',\n",
    " 'prjsplit',\n",
    " 'prjcomb',\n",
    " 'awd_extwaivno',\n",
    " 'awd_extappvdte',\n",
    " 'bookitem',\n",
    " 'pmeas_val2',\n",
    " 'pmeas_cod2',\n",
    " 'pmeas_val3',\n",
    " 'pmeas_cod3',\n",
    " 'high_offcl',\n",
    " 'rtpaid',\n",
    " 'archive',\n",
    " 'sponsorid',\n",
    " 'stip_xfer',\n",
    " 'shopp_xfer',\n",
    " 'full_fnding',\n",
    " 'rtl',\n",
    " 'tcm1',\n",
    " 'tcm2',\n",
    " 'progcode1',\n",
    " 'progcode2',\n",
    " 'progcode3',\n",
    " 'progcode4',\n",
    " 'pmeas_val4',\n",
    " 'pmeas_cod4',\n",
    " 'needpurpose',\n",
    " 'stip',\n",
    " 'shopp',\n",
    " 'tcif',\n",
    " 'cmia',\n",
    " 'bond99',\n",
    " 'ports',\n",
    " 'tcrpno',\n",
    " 'tcrp',\n",
    " 'implpaed',\n",
    " 'implpse',\n",
    " 'implrw',\n",
    " 'implcon',\n",
    " 'ccc',\n",
    " 'countyid2',\n",
    " 'route2',\n",
    " 'pm2bf',\n",
    " 'pm2b',\n",
    " 'pm2af',\n",
    " 'pm2a',\n",
    " 'countyid3',\n",
    " 'route3',\n",
    " 'pm3bf',\n",
    " 'pm3b',\n",
    " 'pm3af',\n",
    " 'pm3a',\n",
    " 'pmemail',\n",
    " 'postmile2',\n",
    " 'postmile3',\n",
    " 'slpp',\n",
    " 'tlsp',\n",
    " 'efisprojid',\n",
    " 'ppr_ada',\n",
    " 'ppr_sustain',\n",
    " 'ppr_reduce_ghg',\n",
    " 'ppr_bike',\n",
    " 'ppr_rev_lane',\n",
    " 'ppr_benefits',\n",
    " 'g13',\n",
    " 'longlead',\n",
    " 'sb1_base',\n",
    " 'route1s',\n",
    " 'pm1bs',\n",
    " 'pm1as',\n",
    " 'route2s',\n",
    " 'pm2bs',\n",
    " 'pm2as',\n",
    " 'route3s',\n",
    " 'pm3bs',\n",
    " 'pm3as',\n",
    " 'ppr_add_info',\n",
    " 'ppr_nhs',\n",
    " 'ppr_road_class',\n",
    " 'asset_class',\n",
    " 'amendment',\n",
    " 'ppr_finalized_date',\n",
    " 'programs',\n",
    " 'ppr_id',\n",
    " 'co_nom_agencies',\n",
    " 'fund_programs',\n",
    " 'exp_extappvdte',\n",
    " 'exp_extwaivno',\n",
    " 'comp_extappvdte',\n",
    " 'comp_extwaivno',\n",
    " 'projcomp_date',\n",
    " 'air_quality_approval']"
   ]
  },
  {
   "cell_type": "code",
   "execution_count": null,
   "id": "b54b567a",
   "metadata": {},
   "outputs": [],
   "source": [
    "#projects_df = pd.read_sql_query(\"\"\" \n",
    "#SELECT \n",
    "#*\n",
    "#FROM ctips.project\n",
    "#WHERE archive = 0\n",
    "# \"\"\", engine) "
   ]
  },
  {
   "cell_type": "code",
   "execution_count": null,
   "id": "53ac2a94",
   "metadata": {},
   "outputs": [],
   "source": [
    "# list(projects_df.columns)"
   ]
  },
  {
   "cell_type": "code",
   "execution_count": null,
   "id": "c0f9401f",
   "metadata": {},
   "outputs": [],
   "source": [
    "projects_df = pd.read_sql_query(\"\"\" \n",
    "SELECT \n",
    "appdate, \n",
    "archive,\n",
    "agencyid,\n",
    "bond99,\n",
    "cmia,\n",
    "ctips_id,\n",
    "const_date,\n",
    "countyid,\n",
    "countyid2,\n",
    "countyid3,\n",
    "chg_offcl,\n",
    "chg_qual1,\n",
    "chg_qual2,\n",
    "districtid,\n",
    "ea_number,\n",
    "high_ver,\n",
    "high_offcl,\n",
    "implpaed, \n",
    "implpse, \n",
    "implrw, \n",
    "implcon, \n",
    "lupdate, \n",
    "needpurpose,\n",
    "progcode1,\n",
    "ppno,\n",
    "proj_desc,\n",
    "postmiles1,\n",
    "pm1b,\n",
    "pm2b,\n",
    "pm3b,\n",
    "pm1a,\n",
    "pm2a,\n",
    "pm3a,\n",
    "projcomp_date,\n",
    "projectid,\n",
    "route1,\n",
    "route2,\n",
    "route3,\n",
    "rtl,\n",
    "stip,\n",
    "shopp,\n",
    "title,\n",
    "tcif,\n",
    "tcrpno,\n",
    "tcrp,\n",
    "urbanid\n",
    "FROM ctips.project\n",
    "WHERE archive = 0\n",
    "\"\"\", engine) "
   ]
  },
  {
   "cell_type": "code",
   "execution_count": null,
   "id": "fb7bbb43",
   "metadata": {},
   "outputs": [],
   "source": [
    "projects_df.shape"
   ]
  },
  {
   "cell_type": "code",
   "execution_count": null,
   "id": "31a07fa7",
   "metadata": {},
   "outputs": [],
   "source": [
    "projects_df.projectid.nunique()"
   ]
  },
  {
   "cell_type": "code",
   "execution_count": null,
   "id": "0276e78f",
   "metadata": {},
   "outputs": [],
   "source": [
    "projects_df.ctips_id.nunique()"
   ]
  },
  {
   "cell_type": "markdown",
   "id": "0bae5dfd",
   "metadata": {},
   "source": [
    "### A bit of cleaning"
   ]
  },
  {
   "cell_type": "code",
   "execution_count": null,
   "id": "61890250",
   "metadata": {},
   "outputs": [],
   "source": [
    "projects_df = projects_df.fillna(projects_df.dtypes.replace({'float64': 0.0, 'object': 'None', 'int64': 0}))"
   ]
  },
  {
   "cell_type": "code",
   "execution_count": null,
   "id": "2809b058",
   "metadata": {},
   "outputs": [],
   "source": [
    "string_cols = [col for col in projects_df.columns if projects_df[col].dtype == 'object']"
   ]
  },
  {
   "cell_type": "code",
   "execution_count": null,
   "id": "37418bef",
   "metadata": {},
   "outputs": [],
   "source": [
    "string_cols = [\n",
    " 'needpurpose',\n",
    " 'proj_desc',\n",
    " 'route1',\n",
    " 'title']"
   ]
  },
  {
   "cell_type": "code",
   "execution_count": null,
   "id": "7424931d",
   "metadata": {},
   "outputs": [],
   "source": [
    "for i in string_cols:\n",
    "        projects_df[i] = projects_df[i].str.title().str.lstrip().str.rstrip()\n",
    "        projects_df[i] = projects_df[i].replace(r'\\s+', ' ', regex=True)"
   ]
  },
  {
   "cell_type": "markdown",
   "id": "72539ed9",
   "metadata": {},
   "source": [
    "### Looking at duplicate projects"
   ]
  },
  {
   "cell_type": "code",
   "execution_count": null,
   "id": "210fbcfa",
   "metadata": {},
   "outputs": [],
   "source": [
    "projects_df.title.value_counts().head()"
   ]
  },
  {
   "cell_type": "code",
   "execution_count": null,
   "id": "2507290e",
   "metadata": {},
   "outputs": [],
   "source": [
    "duplicate_projects = projects_df.groupby(['ctips_id','title', 'proj_desc','districtid','agencyid']).agg({'projectid':'nunique'\n",
    "}).reset_index()"
   ]
  },
  {
   "cell_type": "code",
   "execution_count": null,
   "id": "4ada1cbf",
   "metadata": {},
   "outputs": [],
   "source": [
    "duplicate_projects.projectid.describe()"
   ]
  },
  {
   "cell_type": "code",
   "execution_count": null,
   "id": "deb14480",
   "metadata": {},
   "outputs": [],
   "source": [
    "duplicate_projects.sort_values(['projectid'], ascending = False).sample(3)"
   ]
  },
  {
   "cell_type": "markdown",
   "id": "ae8c6fe6",
   "metadata": {},
   "source": [
    "### 1 row = 1 project \n",
    "* Some projects don't have a high version?"
   ]
  },
  {
   "cell_type": "code",
   "execution_count": null,
   "id": "90dc1f8e",
   "metadata": {},
   "outputs": [],
   "source": [
    "projects_df2 = projects_df.sort_values(by = ['high_ver','high_offcl'], ascending = [False, False])"
   ]
  },
  {
   "cell_type": "code",
   "execution_count": null,
   "id": "892d561a",
   "metadata": {},
   "outputs": [],
   "source": [
    "projects_df2.ctips_id.value_counts().head()"
   ]
  },
  {
   "cell_type": "code",
   "execution_count": null,
   "id": "c38bb7b8",
   "metadata": {},
   "outputs": [],
   "source": [
    "# projects_df.query('ctips_id == 10600001907').drop(columns = ['proj_desc'])"
   ]
  },
  {
   "cell_type": "code",
   "execution_count": null,
   "id": "010d6e35",
   "metadata": {},
   "outputs": [],
   "source": [
    "# projects_df2.query('ctips_id == 10100000003').drop(columns = ['proj_desc'])"
   ]
  },
  {
   "cell_type": "code",
   "execution_count": null,
   "id": "0ffe8cfc",
   "metadata": {},
   "outputs": [],
   "source": [
    "# projects_df2.query('ctips_id == 10600001907')"
   ]
  },
  {
   "cell_type": "code",
   "execution_count": null,
   "id": "4de4f003",
   "metadata": {},
   "outputs": [],
   "source": [
    "projects_df3 = projects_df2.drop_duplicates(subset = ['ctips_id']).reset_index(drop = True)"
   ]
  },
  {
   "cell_type": "code",
   "execution_count": null,
   "id": "e988f523",
   "metadata": {},
   "outputs": [],
   "source": [
    "len(projects_df3.loc[(projects_df3.high_ver == 0) & (projects_df2.high_offcl == 0)])"
   ]
  },
  {
   "cell_type": "code",
   "execution_count": null,
   "id": "5ca1574a",
   "metadata": {},
   "outputs": [],
   "source": [
    "len(projects_df3.loc[(projects_df3.high_ver == 1) & (projects_df2.high_offcl == 1)])"
   ]
  },
  {
   "cell_type": "code",
   "execution_count": null,
   "id": "ab641112",
   "metadata": {},
   "outputs": [],
   "source": [
    "len(projects_df3.loc[(projects_df3.high_ver == 1) & (projects_df2.high_offcl == 0)])"
   ]
  },
  {
   "cell_type": "code",
   "execution_count": null,
   "id": "290401e6",
   "metadata": {},
   "outputs": [],
   "source": [
    "len(projects_df3.loc[(projects_df3.high_ver == 0) & (projects_df2.high_offcl == 1)])"
   ]
  },
  {
   "cell_type": "code",
   "execution_count": null,
   "id": "32415855",
   "metadata": {},
   "outputs": [],
   "source": [
    "no_high_version = projects_df3.loc[(projects_df3.high_ver == 0) & (projects_df2.high_offcl == 0)]"
   ]
  },
  {
   "cell_type": "code",
   "execution_count": null,
   "id": "b1c24440",
   "metadata": {},
   "outputs": [],
   "source": [
    "no_high_version.ctips_id.unique()"
   ]
  },
  {
   "cell_type": "code",
   "execution_count": null,
   "id": "6d8f9041",
   "metadata": {},
   "outputs": [],
   "source": [
    "no_high_version.ctips_id.nunique()"
   ]
  },
  {
   "cell_type": "code",
   "execution_count": null,
   "id": "9b334560",
   "metadata": {},
   "outputs": [],
   "source": [
    "len(projects_df2)"
   ]
  },
  {
   "cell_type": "code",
   "execution_count": null,
   "id": "b22f05be",
   "metadata": {},
   "outputs": [],
   "source": [
    "len(projects_df3)"
   ]
  },
  {
   "cell_type": "code",
   "execution_count": null,
   "id": "77f8a85c",
   "metadata": {},
   "outputs": [],
   "source": [
    "len(projects_df3) == projects_df3.ctips_id.nunique()"
   ]
  },
  {
   "cell_type": "code",
   "execution_count": null,
   "id": "d27194b3",
   "metadata": {},
   "outputs": [],
   "source": [
    "projects_df3.query('ctips_id == 10600001907')"
   ]
  },
  {
   "cell_type": "code",
   "execution_count": null,
   "id": "0037a7de",
   "metadata": {},
   "outputs": [],
   "source": [
    "projects_df2.query('ctips_id == 10600001907')"
   ]
  },
  {
   "cell_type": "markdown",
   "id": "edd34cfb",
   "metadata": {},
   "source": [
    "####  Note, if the CTIPS_ID digits 2 and 3 = 30, then the project is a “Rural Non-MPO” project (within the rural non-MPO portion of the state)."
   ]
  },
  {
   "cell_type": "code",
   "execution_count": null,
   "id": "7bb836d9",
   "metadata": {},
   "outputs": [],
   "source": [
    "projects_df3['ctips_string'] = projects_df3.ctips_id.astype(str).str[1:3].astype(int)"
   ]
  },
  {
   "cell_type": "code",
   "execution_count": null,
   "id": "e4fe7205",
   "metadata": {},
   "outputs": [],
   "source": [
    "def urban_or_rural(row):\n",
    "    if row.ctips_string == 30:\n",
    "        return \"Rural Non-MPO\"\n",
    "    else:\n",
    "        return \"Urban\"\n",
    "\n",
    "\n",
    "projects_df3[\"urban_or_rural\"] = projects_df3.apply(lambda x: urban_or_rural(x), axis=1)"
   ]
  },
  {
   "cell_type": "code",
   "execution_count": null,
   "id": "bcb78020",
   "metadata": {},
   "outputs": [],
   "source": [
    "projects_df3[['ctips_id','ctips_string', 'urban_or_rural', 'appdate']].sample(10)"
   ]
  },
  {
   "cell_type": "code",
   "execution_count": null,
   "id": "d14da2ed",
   "metadata": {},
   "outputs": [],
   "source": [
    "projects_df3.urban_or_rural.value_counts()"
   ]
  },
  {
   "cell_type": "code",
   "execution_count": null,
   "id": "a76e4374",
   "metadata": {},
   "outputs": [],
   "source": [
    "projects_df3.high_ver.value_counts()"
   ]
  },
  {
   "cell_type": "code",
   "execution_count": null,
   "id": "38ad28b7",
   "metadata": {},
   "outputs": [],
   "source": [
    "projects_df3.high_offcl.value_counts()"
   ]
  },
  {
   "cell_type": "markdown",
   "id": "5b435167",
   "metadata": {},
   "source": [
    "### PROJSCHE"
   ]
  },
  {
   "cell_type": "code",
   "execution_count": null,
   "id": "f3a9c92c",
   "metadata": {},
   "outputs": [],
   "source": [
    "projsche_df = pd.read_sql_query(\"\"\" \n",
    "SELECT \n",
    "projectid,\n",
    "m020 AS pa_ed_begin,\n",
    "m200a AS pa_ed_end,\n",
    "m200b AS ps_e_begin,\n",
    "m224 AS begin_row,\n",
    "m410 AS end_row,\n",
    "m500 AS con_start_date,\n",
    "m600 AS con_end_date,\n",
    "m700 AS begin_closeout,\n",
    "m800 AS end_closeout\n",
    "FROM ctips.projsche\n",
    "\"\"\", engine) "
   ]
  },
  {
   "cell_type": "code",
   "execution_count": null,
   "id": "e0268218",
   "metadata": {},
   "outputs": [],
   "source": [
    "projsche_df.columns"
   ]
  },
  {
   "cell_type": "markdown",
   "id": "32828930",
   "metadata": {},
   "source": [
    "#### 2nd Question: Delete all the rows in which all the date values are empty...There are many of them"
   ]
  },
  {
   "cell_type": "code",
   "execution_count": null,
   "id": "e33c3efc",
   "metadata": {},
   "outputs": [],
   "source": [
    "projsche_df.info()"
   ]
  },
  {
   "cell_type": "code",
   "execution_count": null,
   "id": "130a4058",
   "metadata": {},
   "outputs": [],
   "source": [
    "projsche_drop_cols = list(projsche_df.columns)"
   ]
  },
  {
   "cell_type": "code",
   "execution_count": null,
   "id": "2a05d994",
   "metadata": {},
   "outputs": [],
   "source": [
    "projsche_drop_cols.remove('projectid')"
   ]
  },
  {
   "cell_type": "code",
   "execution_count": null,
   "id": "cc88db95",
   "metadata": {},
   "outputs": [],
   "source": [
    "projsche_drop_cols"
   ]
  },
  {
   "cell_type": "code",
   "execution_count": null,
   "id": "8bf7d92c",
   "metadata": {},
   "outputs": [],
   "source": [
    "# I want to drop the rows in which ALL values in the date columns are empty\n",
    "projsche_df2 = projsche_df.dropna(how = \"all\", subset = projsche_drop_cols).reset_index(drop = True)"
   ]
  },
  {
   "cell_type": "code",
   "execution_count": null,
   "id": "c160c66a",
   "metadata": {},
   "outputs": [],
   "source": [
    "len(projsche_df2), len(projsche_df)"
   ]
  },
  {
   "cell_type": "code",
   "execution_count": null,
   "id": "e4f84c5f",
   "metadata": {},
   "outputs": [],
   "source": [
    "projsche_df2.projectid.nunique()"
   ]
  },
  {
   "cell_type": "code",
   "execution_count": null,
   "id": "896687f2",
   "metadata": {},
   "outputs": [],
   "source": [
    "projsche_df2.sample(10)"
   ]
  },
  {
   "cell_type": "markdown",
   "id": "006eaf89",
   "metadata": {},
   "source": [
    "#### Not a lot of matching values"
   ]
  },
  {
   "cell_type": "code",
   "execution_count": null,
   "id": "44c212d3",
   "metadata": {},
   "outputs": [],
   "source": [
    "pd.merge(projsche_df2, projects_df3, on ='projectid', how = 'outer', indicator = True)[['_merge']].value_counts()"
   ]
  },
  {
   "cell_type": "code",
   "execution_count": null,
   "id": "5be29765",
   "metadata": {},
   "outputs": [],
   "source": [
    "m1 = pd.merge(projects_df3, projsche_df2,  on ='projectid', how = 'left')"
   ]
  },
  {
   "cell_type": "markdown",
   "id": "66b32d5c",
   "metadata": {},
   "source": [
    "### AGENCY"
   ]
  },
  {
   "cell_type": "code",
   "execution_count": null,
   "id": "e8f56522",
   "metadata": {
    "scrolled": true
   },
   "outputs": [],
   "source": [
    "agency_df = pd.read_sql_query(\"\"\" \n",
    "SELECT \n",
    "name AS agency_name,\n",
    "agencyid\n",
    "FROM ctips.agncy\n",
    "\"\"\", engine) "
   ]
  },
  {
   "cell_type": "code",
   "execution_count": null,
   "id": "71c11a68",
   "metadata": {},
   "outputs": [],
   "source": [
    "agency_df.shape"
   ]
  },
  {
   "cell_type": "code",
   "execution_count": null,
   "id": "6538ce2d",
   "metadata": {},
   "outputs": [],
   "source": [
    "agency_df.agencyid.nunique()"
   ]
  },
  {
   "cell_type": "code",
   "execution_count": null,
   "id": "d134bc25",
   "metadata": {},
   "outputs": [],
   "source": [
    "agency_df.head()"
   ]
  },
  {
   "cell_type": "code",
   "execution_count": null,
   "id": "00227770",
   "metadata": {},
   "outputs": [],
   "source": [
    "pd.merge(m1, agency_df, on ='agencyid', how = 'outer', indicator = True)[['_merge']].value_counts()"
   ]
  },
  {
   "cell_type": "code",
   "execution_count": null,
   "id": "7e8e441f",
   "metadata": {},
   "outputs": [],
   "source": [
    "m2 = pd.merge(m1, agency_df,  on ='agencyid', how = 'left')"
   ]
  },
  {
   "cell_type": "markdown",
   "id": "03e0c350",
   "metadata": {},
   "source": [
    "### COUNTY"
   ]
  },
  {
   "cell_type": "code",
   "execution_count": null,
   "id": "68c4f9b1",
   "metadata": {},
   "outputs": [],
   "source": [
    "county_df = pd.read_sql_query(\"\"\" \n",
    "SELECT \n",
    "name AS county_name,\n",
    "countyid\n",
    "FROM ctips.county\n",
    "\"\"\", engine) "
   ]
  },
  {
   "cell_type": "code",
   "execution_count": null,
   "id": "d897b2b7",
   "metadata": {},
   "outputs": [],
   "source": [
    "county_df.head()"
   ]
  },
  {
   "cell_type": "code",
   "execution_count": null,
   "id": "d257aed1",
   "metadata": {},
   "outputs": [],
   "source": [
    "county_df.shape"
   ]
  },
  {
   "cell_type": "code",
   "execution_count": null,
   "id": "13a8bb6b",
   "metadata": {},
   "outputs": [],
   "source": [
    "county_df.countyid.nunique()"
   ]
  },
  {
   "cell_type": "code",
   "execution_count": null,
   "id": "92a6c095",
   "metadata": {},
   "outputs": [],
   "source": [
    "m3 = pd.merge(m2, county_df,  on ='countyid', how = 'left')"
   ]
  },
  {
   "cell_type": "code",
   "execution_count": null,
   "id": "aa5b266f",
   "metadata": {},
   "outputs": [],
   "source": [
    "stop"
   ]
  },
  {
   "cell_type": "markdown",
   "id": "39023f83",
   "metadata": {},
   "source": [
    "### FUNDLINE\n",
    "* For action: Action: P = programmed, V= vote, A=award"
   ]
  },
  {
   "cell_type": "code",
   "execution_count": null,
   "id": "2506e37c",
   "metadata": {},
   "outputs": [],
   "source": [
    "fundline_df = pd.read_sql_query(\"\"\" \n",
    "SELECT \n",
    "action,\n",
    "con,\n",
    "pe_paed,\n",
    "pe_env,\n",
    "pe_rw,\n",
    "pe_con,\n",
    "fundlineid,\n",
    "fundtypeid,\n",
    "line_year,\n",
    "actiondate\n",
    "FROM ctips.fundline\n",
    "\"\"\", engine) "
   ]
  },
  {
   "cell_type": "code",
   "execution_count": null,
   "id": "6c0fa99a",
   "metadata": {},
   "outputs": [],
   "source": [
    "fundline_df.shape"
   ]
  },
  {
   "cell_type": "code",
   "execution_count": null,
   "id": "3e387ce0",
   "metadata": {},
   "outputs": [],
   "source": [
    "fundline_df.head()"
   ]
  },
  {
   "cell_type": "code",
   "execution_count": null,
   "id": "c28ec41b",
   "metadata": {},
   "outputs": [],
   "source": [
    "fundline_df.info()"
   ]
  },
  {
   "cell_type": "code",
   "execution_count": null,
   "id": "cc586455",
   "metadata": {},
   "outputs": [],
   "source": [
    "stop"
   ]
  },
  {
   "cell_type": "markdown",
   "id": "8e77c3d6",
   "metadata": {},
   "source": [
    "### Fundtype\n",
    "* Fundtype.agencyid = funding agency"
   ]
  },
  {
   "cell_type": "code",
   "execution_count": null,
   "id": "add18e69",
   "metadata": {},
   "outputs": [],
   "source": [
    "fundtype_df = pd.read_sql_query(\"\"\" \n",
    "SELECT \n",
    "fundtypeid,\n",
    "fundid,\n",
    "progcode,\n",
    "programid,\n",
    "projectid,\n",
    "agencyid\n",
    "FROM ctips.fundtype\n",
    "\"\"\", engine) "
   ]
  },
  {
   "cell_type": "code",
   "execution_count": null,
   "id": "db931110",
   "metadata": {},
   "outputs": [],
   "source": [
    "fundtype_df.shape"
   ]
  },
  {
   "cell_type": "code",
   "execution_count": null,
   "id": "e5269c94",
   "metadata": {},
   "outputs": [],
   "source": [
    "fundtype_df.fundid.nunique()"
   ]
  },
  {
   "cell_type": "code",
   "execution_count": null,
   "id": "9d1eed44",
   "metadata": {},
   "outputs": [],
   "source": [
    "fundtype_df.projectid.nunique()"
   ]
  },
  {
   "cell_type": "code",
   "execution_count": null,
   "id": "71958481",
   "metadata": {},
   "outputs": [],
   "source": [
    "fundtype_df.fundtypeid.nunique()"
   ]
  },
  {
   "cell_type": "code",
   "execution_count": null,
   "id": "1995c7dd",
   "metadata": {},
   "outputs": [],
   "source": [
    "fundtype_df.columns"
   ]
  },
  {
   "cell_type": "markdown",
   "id": "bc6c25fe",
   "metadata": {},
   "source": [
    "#### Is this the correct join? "
   ]
  },
  {
   "cell_type": "code",
   "execution_count": null,
   "id": "71c09a3e",
   "metadata": {},
   "outputs": [],
   "source": [
    "fundtype_m1 = pd.merge(fundtype_df.drop(columns = ['projectid']),fundline_df,  on = ['fundtypeid'], how = \"left\")"
   ]
  },
  {
   "cell_type": "code",
   "execution_count": null,
   "id": "726e5eeb",
   "metadata": {},
   "outputs": [],
   "source": [
    "m3.projectid.nunique(), len(m3)"
   ]
  },
  {
   "cell_type": "code",
   "execution_count": null,
   "id": "436df90b",
   "metadata": {},
   "outputs": [],
   "source": [
    "project_preview = ['ctips_id','projectid', 'high_ver', 'high_offcl']"
   ]
  },
  {
   "cell_type": "code",
   "execution_count": null,
   "id": "b829896a",
   "metadata": {},
   "outputs": [],
   "source": [
    "fundtype_m2 = pd.merge(m3[project_preview], fundtype_df['projectid'], on = ['projectid'], how = \"inner\")"
   ]
  },
  {
   "cell_type": "code",
   "execution_count": null,
   "id": "58079bdd",
   "metadata": {},
   "outputs": [],
   "source": [
    "fundtype_m2.shape"
   ]
  },
  {
   "cell_type": "code",
   "execution_count": null,
   "id": "ea323e53",
   "metadata": {},
   "outputs": [],
   "source": [
    "fundtype_m2.projectid.value_counts().head()"
   ]
  },
  {
   "cell_type": "code",
   "execution_count": null,
   "id": "f383ea9c",
   "metadata": {},
   "outputs": [],
   "source": [
    "fundtype_m2.projectid.value_counts().describe()"
   ]
  },
  {
   "cell_type": "code",
   "execution_count": null,
   "id": "af4cd1b8",
   "metadata": {},
   "outputs": [],
   "source": [
    "fundtype_m1.columns"
   ]
  },
  {
   "cell_type": "code",
   "execution_count": null,
   "id": "f484aed7",
   "metadata": {},
   "outputs": [],
   "source": [
    "fundtype_m2.columns"
   ]
  },
  {
   "cell_type": "code",
   "execution_count": null,
   "id": "35316acd",
   "metadata": {},
   "outputs": [],
   "source": [
    "final_fund_merge = pd.merge(fundtype_m1, fundtype_m2, on = ['fundtypeid'], how = \"inner\")"
   ]
  },
  {
   "cell_type": "code",
   "execution_count": null,
   "id": "edbc9843",
   "metadata": {},
   "outputs": [],
   "source": [
    "final_fund_merge.shape"
   ]
  },
  {
   "cell_type": "code",
   "execution_count": null,
   "id": "70b6d559",
   "metadata": {},
   "outputs": [],
   "source": [
    "final_fund_merge.projectid.value_counts().head()"
   ]
  },
  {
   "cell_type": "markdown",
   "id": "ee501018",
   "metadata": {},
   "source": [
    "#### Test"
   ]
  },
  {
   "cell_type": "code",
   "execution_count": null,
   "id": "a20d78be",
   "metadata": {},
   "outputs": [],
   "source": [
    "m3.query('projectid == 20700006229').drop(columns = ['proj_desc'])[['projectid','ctips_id', 'high_ver', 'high_offcl']]"
   ]
  },
  {
   "cell_type": "code",
   "execution_count": null,
   "id": "fe88f908",
   "metadata": {},
   "outputs": [],
   "source": [
    "fundtype_m2.loc[fundtype_m2.projectid == 20700006229].sort_values(['fundid']).shape"
   ]
  },
  {
   "cell_type": "code",
   "execution_count": null,
   "id": "8764c6ad",
   "metadata": {},
   "outputs": [],
   "source": [
    "final_fund_merge.columns"
   ]
  },
  {
   "cell_type": "code",
   "execution_count": null,
   "id": "263350ad",
   "metadata": {},
   "outputs": [],
   "source": [
    "final_fund_merge.loc[final_fund_merge.projectid == 20700006229].sort_values(['fundid'])"
   ]
  },
  {
   "cell_type": "markdown",
   "id": "7d0992bb",
   "metadata": {},
   "source": [
    "### Progmain"
   ]
  },
  {
   "cell_type": "code",
   "execution_count": null,
   "id": "b16b4e50",
   "metadata": {},
   "outputs": [],
   "source": [
    "progmain_df = pd.read_sql_query(\"\"\" \n",
    "SELECT \n",
    "programid,\n",
    "category\n",
    "FROM ctips.progmain\n",
    "\"\"\", engine) "
   ]
  },
  {
   "cell_type": "code",
   "execution_count": null,
   "id": "dd7af1d6",
   "metadata": {},
   "outputs": [],
   "source": [
    "progmain_df.head()"
   ]
  },
  {
   "cell_type": "code",
   "execution_count": null,
   "id": "09502e26",
   "metadata": {},
   "outputs": [],
   "source": [
    "progmain_df = progmain_df.rename(columns = {'category':'program'})"
   ]
  },
  {
   "cell_type": "code",
   "execution_count": null,
   "id": "47f58d08",
   "metadata": {},
   "outputs": [],
   "source": [
    "progmain_df.programid.nunique()"
   ]
  },
  {
   "cell_type": "code",
   "execution_count": null,
   "id": "e3744582",
   "metadata": {},
   "outputs": [],
   "source": [
    "progmain_df.programid.shape"
   ]
  },
  {
   "cell_type": "markdown",
   "id": "bfe7703b",
   "metadata": {},
   "source": [
    "### Fund"
   ]
  },
  {
   "cell_type": "code",
   "execution_count": null,
   "id": "9dbaf87b",
   "metadata": {},
   "outputs": [],
   "source": [
    "fund_df = pd.read_sql_query(\"\"\" \n",
    "SELECT \n",
    "fund,\n",
    "fundid\n",
    "FROM ctips.fund\n",
    "\"\"\", engine) "
   ]
  },
  {
   "cell_type": "markdown",
   "id": "4a3c7909",
   "metadata": {},
   "source": [
    "### Progsub"
   ]
  },
  {
   "cell_type": "code",
   "execution_count": null,
   "id": "bbd1ddec",
   "metadata": {},
   "outputs": [],
   "source": [
    "progsub_df = pd.read_sql_query(\"\"\" \n",
    "SELECT \n",
    "progcode,\n",
    "progdesc\n",
    "FROM ctips.progsub\n",
    "\"\"\", engine) "
   ]
  },
  {
   "cell_type": "code",
   "execution_count": null,
   "id": "fceb5239",
   "metadata": {},
   "outputs": [],
   "source": [
    "progsub_df.head(1)"
   ]
  },
  {
   "cell_type": "code",
   "execution_count": null,
   "id": "37b94e24",
   "metadata": {},
   "outputs": [],
   "source": [
    "progsub_df.shape"
   ]
  },
  {
   "cell_type": "code",
   "execution_count": null,
   "id": "ead15d01",
   "metadata": {},
   "outputs": [],
   "source": [
    "progsub_df.progcode.nunique()"
   ]
  },
  {
   "cell_type": "code",
   "execution_count": null,
   "id": "4f0f0586",
   "metadata": {},
   "outputs": [],
   "source": [
    "progsub_df.progcode.value_counts().head()"
   ]
  },
  {
   "cell_type": "code",
   "execution_count": null,
   "id": "b6a1067f",
   "metadata": {},
   "outputs": [],
   "source": [
    "progsub_df.loc[progsub_df.progcode == \"20.30.720.100\"]"
   ]
  },
  {
   "cell_type": "markdown",
   "id": "94a997ff",
   "metadata": {},
   "source": [
    "### Merge"
   ]
  },
  {
   "cell_type": "code",
   "execution_count": null,
   "id": "427133b5",
   "metadata": {},
   "outputs": [],
   "source": [
    "fundline_m1.columns"
   ]
  },
  {
   "cell_type": "code",
   "execution_count": null,
   "id": "6172c6bd",
   "metadata": {},
   "outputs": [],
   "source": [
    "fundline_m2 = (fundline_m1.merge(progmain_df, on = ['programid'], how = \"left\")\n",
    "              .merge(fund_df, on =['fundid'], how = \"left\")\n",
    "              .merge(progsub_df, on = ['progcode'], how = 'left'))"
   ]
  },
  {
   "cell_type": "code",
   "execution_count": null,
   "id": "1446fb81",
   "metadata": {},
   "outputs": [],
   "source": [
    "fundline_m2.sample(3)"
   ]
  },
  {
   "cell_type": "code",
   "execution_count": null,
   "id": "1b04fd9f",
   "metadata": {},
   "outputs": [],
   "source": [
    "fundline_m2.projectid.value_counts().head()"
   ]
  },
  {
   "cell_type": "code",
   "execution_count": null,
   "id": "a15843a7",
   "metadata": {},
   "outputs": [],
   "source": [
    "fundline_m2.projectid.value_counts().describe()"
   ]
  },
  {
   "cell_type": "markdown",
   "id": "519ae041",
   "metadata": {},
   "source": [
    "### Political"
   ]
  },
  {
   "cell_type": "code",
   "execution_count": null,
   "id": "32d3a7f0",
   "metadata": {},
   "outputs": [],
   "source": [
    "political_df = pd.read_sql_query(\"\"\" \n",
    "SELECT \n",
    "assembly01,\n",
    "ushouse01,\n",
    "ssenate01,\n",
    "projectid\n",
    "FROM ctips.politcal\n",
    "\"\"\", engine) \n",
    "# Drop any rows with nulls\n",
    "political_df = political_df.dropna(how = \"any\")\n",
    "pd.merge(m3, political_df, on ='projectid', how = 'outer', indicator = True)[['_merge']].value_counts()\n",
    "m4 = pd.merge(m3, political_df, on ='projectid', how = 'left')"
   ]
  }
 ],
 "metadata": {
  "kernelspec": {
   "display_name": "Python 3",
   "language": "python",
   "name": "python3"
  },
  "language_info": {
   "codemirror_mode": {
    "name": "ipython",
    "version": 3
   },
   "file_extension": ".py",
   "mimetype": "text/x-python",
   "name": "python",
   "nbconvert_exporter": "python",
   "pygments_lexer": "ipython3",
   "version": "3.7.16"
  }
 },
 "nbformat": 4,
 "nbformat_minor": 5
}
