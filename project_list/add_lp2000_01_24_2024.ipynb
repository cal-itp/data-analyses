{
 "cells": [
  {
   "cell_type": "code",
   "execution_count": 1,
   "id": "b7e8790f",
   "metadata": {},
   "outputs": [],
   "source": [
    "import pandas as pd \n",
    "import sqlalchemy \n",
    "import sys \n",
    "import re\n",
    "import oracledb \n",
    "import _database_utils as _utils "
   ]
  },
  {
   "cell_type": "code",
   "execution_count": 2,
   "id": "b9f4a73c",
   "metadata": {},
   "outputs": [],
   "source": [
    "oracledb.version = \"8.3.0\" \n",
    "sys.modules[\"cx_Oracle\"] = oracledb "
   ]
  },
  {
   "cell_type": "code",
   "execution_count": 3,
   "id": "e06681e8",
   "metadata": {},
   "outputs": [],
   "source": [
    "pd.options.display.max_columns = 100\n",
    "pd.options.display.float_format = \"{:.2f}\".format\n",
    "pd.set_option(\"display.max_rows\", None)\n",
    "pd.set_option(\"display.max_colwidth\", None)"
   ]
  },
  {
   "cell_type": "code",
   "execution_count": 5,
   "id": "a1bf2f34",
   "metadata": {},
   "outputs": [],
   "source": [
    "DIALECT = 'oracle'  "
   ]
  },
  {
   "cell_type": "code",
   "execution_count": 6,
   "id": "053f212c",
   "metadata": {},
   "outputs": [],
   "source": [
    "# Use SB1_READONLY login\n",
    "ENGINE_PATH_WIN_AUTH =  f\"{DIALECT}://{USERNAME}:{PASSWORD}@{HOST}:{PORT}/?service_name={SERVICE}\" "
   ]
  },
  {
   "cell_type": "code",
   "execution_count": 7,
   "id": "f446f7a3",
   "metadata": {},
   "outputs": [],
   "source": [
    "engine = sqlalchemy.create_engine(ENGINE_PATH_WIN_AUTH)   "
   ]
  },
  {
   "cell_type": "markdown",
   "id": "5e5e7b24",
   "metadata": {},
   "source": [
    "## Projects\n",
    "* Should I be filling in NA of comment_desc with other columns? Otherwise this information is going to be lost."
   ]
  },
  {
   "cell_type": "code",
   "execution_count": 8,
   "id": "254d963f",
   "metadata": {
    "scrolled": true
   },
   "outputs": [],
   "source": [
    "projects_df = pd.read_sql_query(\"\"\" \n",
    "SELECT \n",
    "projects.project_id,\n",
    "projects.county_code,\n",
    "projects.comment_desc,\n",
    "projects.district_code, \n",
    "projects.est_total_prj_costs,\n",
    "projects.location_name,\n",
    "projects.project_label_name,\n",
    "projects.original_post_mile_begin_id,\n",
    "projects.original_post_mile_end_id,\n",
    "projects.revised_post_mile_begin_ind,\n",
    "projects.revised_post_mile_end_ind,\n",
    "projects.route_name,\n",
    "projects.state_hwy_ind,\n",
    "projects.senate_district_code,\n",
    "projects.project_category_type_code,\n",
    "projects.work_type_code,\n",
    "projects.update_date_time,\n",
    "local_agencies.agency_name,\n",
    "local_agencies.urban_area_code,\n",
    "counties.county_name,\n",
    "work_types.work_type_desc,\n",
    "project_category_type_codes.category_desc\n",
    "FROM projects \n",
    "LEFT JOIN local_agencies ON projects.agency_code = local_agencies.agency_code\n",
    "LEFT JOIN counties ON projects.county_code = counties.county_code\n",
    "LEFT JOIN work_types ON projects.work_type_code = work_types.work_type_code\n",
    "LEFT JOIN project_category_type_codes ON projects.project_category_type_code = project_category_type_codes.category_code\n",
    "WHERE projects.status_code = 'Active'\n",
    "\"\"\", engine) "
   ]
  },
  {
   "cell_type": "code",
   "execution_count": 9,
   "id": "7138a0f2",
   "metadata": {},
   "outputs": [],
   "source": [
    "projects_df.comment_desc = projects_df.comment_desc.fillna(projects_df.category_desc)"
   ]
  },
  {
   "cell_type": "code",
   "execution_count": 10,
   "id": "bf77a59d",
   "metadata": {},
   "outputs": [],
   "source": [
    "projects_df.comment_desc = projects_df.comment_desc.fillna(projects_df.work_type_desc)"
   ]
  },
  {
   "cell_type": "code",
   "execution_count": 11,
   "id": "6ef5f157",
   "metadata": {},
   "outputs": [],
   "source": [
    "projects_df = projects_df.drop(columns = ['work_type_code','project_category_type_code', 'county_code'])"
   ]
  },
  {
   "cell_type": "code",
   "execution_count": 12,
   "id": "6dd37cbb",
   "metadata": {},
   "outputs": [],
   "source": [
    "projects_df['current_phase'] = 'single phase'"
   ]
  },
  {
   "cell_type": "code",
   "execution_count": 13,
   "id": "a91e2bf9",
   "metadata": {},
   "outputs": [
    {
     "name": "stdout",
     "output_type": "stream",
     "text": [
      "<class 'pandas.core.frame.DataFrame'>\n",
      "RangeIndex: 11272 entries, 0 to 11271\n",
      "Data columns (total 20 columns):\n",
      " #   Column                       Non-Null Count  Dtype         \n",
      "---  ------                       --------------  -----         \n",
      " 0   project_id                   11272 non-null  object        \n",
      " 1   comment_desc                 10399 non-null  object        \n",
      " 2   district_code                11271 non-null  object        \n",
      " 3   est_total_prj_costs          1329 non-null   float64       \n",
      " 4   location_name                10906 non-null  object        \n",
      " 5   project_label_name           10414 non-null  object        \n",
      " 6   original_post_mile_begin_id  734 non-null    float64       \n",
      " 7   original_post_mile_end_id    570 non-null    float64       \n",
      " 8   revised_post_mile_begin_ind  20 non-null     object        \n",
      " 9   revised_post_mile_end_ind    15 non-null     object        \n",
      " 10  route_name                   10950 non-null  object        \n",
      " 11  state_hwy_ind                10909 non-null  object        \n",
      " 12  senate_district_code         0 non-null      object        \n",
      " 13  update_date_time             11203 non-null  datetime64[ns]\n",
      " 14  agency_name                  11271 non-null  object        \n",
      " 15  urban_area_code              5605 non-null   object        \n",
      " 16  county_name                  11267 non-null  object        \n",
      " 17  work_type_desc               2711 non-null   object        \n",
      " 18  category_desc                9581 non-null   object        \n",
      " 19  current_phase                11272 non-null  object        \n",
      "dtypes: datetime64[ns](1), float64(3), object(16)\n",
      "memory usage: 1.7+ MB\n"
     ]
    }
   ],
   "source": [
    "projects_df.info()"
   ]
  },
  {
   "cell_type": "markdown",
   "id": "948e473b",
   "metadata": {},
   "source": [
    "## EA Number\n",
    "* Projects can have multiple EA numbers.\n",
    "* Should we keep the most recent EA or all of them -> Ask Tony Hunt."
   ]
  },
  {
   "cell_type": "code",
   "execution_count": 14,
   "id": "c78a9816",
   "metadata": {},
   "outputs": [],
   "source": [
    "ea_df = pd.read_sql_query(\"\"\" \n",
    "SELECT \n",
    "project_id, \n",
    "district_code,\n",
    "ea_assign_date, \n",
    "expense_authorization_id \n",
    "FROM expense_authorizations\n",
    "\"\"\", engine) "
   ]
  },
  {
   "cell_type": "code",
   "execution_count": 15,
   "id": "3f67c483",
   "metadata": {},
   "outputs": [
    {
     "data": {
      "text/plain": [
       "((49431, 4), 24130)"
      ]
     },
     "execution_count": 15,
     "metadata": {},
     "output_type": "execute_result"
    }
   ],
   "source": [
    "ea_df.shape, ea_df.project_id.nunique()"
   ]
  },
  {
   "cell_type": "code",
   "execution_count": 16,
   "id": "07a9f913",
   "metadata": {},
   "outputs": [],
   "source": [
    "# Do an outer join to understand what's going on under the hood\n",
    "# outer_join = pd.merge(ea_df, projects_df4, on = ['district_code','project_id'], how = \"outer\", indicator = True)"
   ]
  },
  {
   "cell_type": "code",
   "execution_count": 17,
   "id": "342ee6c4",
   "metadata": {},
   "outputs": [],
   "source": [
    "# outer_join[['_merge']].value_counts()"
   ]
  },
  {
   "cell_type": "code",
   "execution_count": 18,
   "id": "b50c43f3",
   "metadata": {},
   "outputs": [],
   "source": [
    "# Understand why there are more rows compared to project_ids that are unique\n",
    "# outer_join.loc[outer_join._merge == \"both\"][['project_id']].nunique()"
   ]
  },
  {
   "cell_type": "code",
   "execution_count": 19,
   "id": "8f43633c",
   "metadata": {},
   "outputs": [],
   "source": [
    "# Do an inner merge to get only projects we care about\n",
    "ea_df = pd.merge(projects_df, ea_df, on = ['district_code','project_id'], how = \"inner\")"
   ]
  },
  {
   "cell_type": "code",
   "execution_count": 20,
   "id": "6c6b17aa",
   "metadata": {},
   "outputs": [],
   "source": [
    "ea_og_cols = ['district_code', 'expense_authorization_id', 'project_id',\n",
    "      'ea_assign_date']"
   ]
  },
  {
   "cell_type": "code",
   "execution_count": 21,
   "id": "6efbe740",
   "metadata": {},
   "outputs": [],
   "source": [
    "# Keep only original columns \n",
    "ea_df = ea_df[ea_og_cols]"
   ]
  },
  {
   "cell_type": "code",
   "execution_count": 22,
   "id": "10aaabe1",
   "metadata": {},
   "outputs": [
    {
     "data": {
      "text/plain": [
       "2961"
      ]
     },
     "execution_count": 22,
     "metadata": {},
     "output_type": "execute_result"
    }
   ],
   "source": [
    "len(ea_df)"
   ]
  },
  {
   "cell_type": "code",
   "execution_count": 23,
   "id": "98e5481f",
   "metadata": {},
   "outputs": [
    {
     "data": {
      "text/plain": [
       "count   2880.00\n",
       "mean       1.03\n",
       "std        0.17\n",
       "min        1.00\n",
       "25%        1.00\n",
       "50%        1.00\n",
       "75%        1.00\n",
       "max        3.00\n",
       "Name: project_id, dtype: float64"
      ]
     },
     "execution_count": 23,
     "metadata": {},
     "output_type": "execute_result"
    }
   ],
   "source": [
    "ea_df.project_id.value_counts().describe()"
   ]
  },
  {
   "cell_type": "code",
   "execution_count": 24,
   "id": "8ae90cf5",
   "metadata": {},
   "outputs": [
    {
     "data": {
      "text/plain": [
       "2880"
      ]
     },
     "execution_count": 24,
     "metadata": {},
     "output_type": "execute_result"
    }
   ],
   "source": [
    "ea_df.project_id.nunique()"
   ]
  },
  {
   "cell_type": "code",
   "execution_count": 25,
   "id": "ae8a5b68",
   "metadata": {},
   "outputs": [
    {
     "data": {
      "text/plain": [
       "5008(072)    3\n",
       "5953(536)    3\n",
       "5932(042)    3\n",
       "5006(504)    3\n",
       "5435(010)    2\n",
       "Name: project_id, dtype: int64"
      ]
     },
     "execution_count": 25,
     "metadata": {},
     "output_type": "execute_result"
    }
   ],
   "source": [
    "ea_df.project_id.value_counts().head()"
   ]
  },
  {
   "cell_type": "code",
   "execution_count": 26,
   "id": "d8e0c58a",
   "metadata": {},
   "outputs": [
    {
     "data": {
      "text/html": [
       "<div>\n",
       "<style scoped>\n",
       "    .dataframe tbody tr th:only-of-type {\n",
       "        vertical-align: middle;\n",
       "    }\n",
       "\n",
       "    .dataframe tbody tr th {\n",
       "        vertical-align: top;\n",
       "    }\n",
       "\n",
       "    .dataframe thead th {\n",
       "        text-align: right;\n",
       "    }\n",
       "</style>\n",
       "<table border=\"1\" class=\"dataframe\">\n",
       "  <thead>\n",
       "    <tr style=\"text-align: right;\">\n",
       "      <th></th>\n",
       "      <th>district_code</th>\n",
       "      <th>expense_authorization_id</th>\n",
       "      <th>project_id</th>\n",
       "      <th>ea_assign_date</th>\n",
       "    </tr>\n",
       "  </thead>\n",
       "  <tbody>\n",
       "  </tbody>\n",
       "</table>\n",
       "</div>"
      ],
      "text/plain": [
       "Empty DataFrame\n",
       "Columns: [district_code, expense_authorization_id, project_id, ea_assign_date]\n",
       "Index: []"
      ]
     },
     "execution_count": 26,
     "metadata": {},
     "output_type": "execute_result"
    }
   ],
   "source": [
    "ea_df.loc[ea_df.project_id == '5006(635)']"
   ]
  },
  {
   "cell_type": "code",
   "execution_count": 27,
   "id": "6d002cda",
   "metadata": {},
   "outputs": [],
   "source": [
    "# Keep only the most recent EA number so only one EA number per project??\n",
    "# Ea_df2 only keeps the most recent.\n",
    "ea_df2 = (ea_df\n",
    "          .sort_values(['ea_assign_date'], ascending = False)\n",
    "          .drop_duplicates(subset=['project_id','district_code'])\n",
    "          .drop(columns = ['ea_assign_date'])\n",
    "          .reset_index(drop = True)\n",
    "         )"
   ]
  },
  {
   "cell_type": "code",
   "execution_count": 28,
   "id": "df8f4a43",
   "metadata": {},
   "outputs": [
    {
     "data": {
      "text/plain": [
       "2880"
      ]
     },
     "execution_count": 28,
     "metadata": {},
     "output_type": "execute_result"
    }
   ],
   "source": [
    "ea_df2.project_id.nunique()"
   ]
  },
  {
   "cell_type": "code",
   "execution_count": 29,
   "id": "4a81759a",
   "metadata": {},
   "outputs": [
    {
     "data": {
      "text/html": [
       "<div>\n",
       "<style scoped>\n",
       "    .dataframe tbody tr th:only-of-type {\n",
       "        vertical-align: middle;\n",
       "    }\n",
       "\n",
       "    .dataframe tbody tr th {\n",
       "        vertical-align: top;\n",
       "    }\n",
       "\n",
       "    .dataframe thead th {\n",
       "        text-align: right;\n",
       "    }\n",
       "</style>\n",
       "<table border=\"1\" class=\"dataframe\">\n",
       "  <thead>\n",
       "    <tr style=\"text-align: right;\">\n",
       "      <th></th>\n",
       "      <th>district_code</th>\n",
       "      <th>expense_authorization_id</th>\n",
       "      <th>project_id</th>\n",
       "    </tr>\n",
       "  </thead>\n",
       "  <tbody>\n",
       "    <tr>\n",
       "      <th>0</th>\n",
       "      <td>04</td>\n",
       "      <td>1Q7614</td>\n",
       "      <td>6204(135)</td>\n",
       "    </tr>\n",
       "    <tr>\n",
       "      <th>1</th>\n",
       "      <td>04</td>\n",
       "      <td>985981</td>\n",
       "      <td>6480(026)</td>\n",
       "    </tr>\n",
       "    <tr>\n",
       "      <th>2</th>\n",
       "      <td>04</td>\n",
       "      <td>985980</td>\n",
       "      <td>5933(171)</td>\n",
       "    </tr>\n",
       "    <tr>\n",
       "      <th>3</th>\n",
       "      <td>09</td>\n",
       "      <td>955175</td>\n",
       "      <td>6142(034)</td>\n",
       "    </tr>\n",
       "    <tr>\n",
       "      <th>4</th>\n",
       "      <td>04</td>\n",
       "      <td>985979</td>\n",
       "      <td>5178(016)</td>\n",
       "    </tr>\n",
       "  </tbody>\n",
       "</table>\n",
       "</div>"
      ],
      "text/plain": [
       "  district_code expense_authorization_id project_id\n",
       "0            04                   1Q7614  6204(135)\n",
       "1            04                   985981  6480(026)\n",
       "2            04                   985980  5933(171)\n",
       "3            09                   955175  6142(034)\n",
       "4            04                   985979  5178(016)"
      ]
     },
     "execution_count": 29,
     "metadata": {},
     "output_type": "execute_result"
    }
   ],
   "source": [
    "ea_df2.head()"
   ]
  },
  {
   "cell_type": "code",
   "execution_count": 30,
   "id": "28a7a7e1",
   "metadata": {},
   "outputs": [
    {
     "data": {
      "text/plain": [
       "2814"
      ]
     },
     "execution_count": 30,
     "metadata": {},
     "output_type": "execute_result"
    }
   ],
   "source": [
    "ea_df2.expense_authorization_id.nunique()"
   ]
  },
  {
   "cell_type": "markdown",
   "id": "6f73b4a0",
   "metadata": {},
   "source": [
    "#### The same EA number matches to multiple projects\n",
    "* Understand why this is happening\n",
    "* It seems like the same EA number matches multiple projects that have nothing in common."
   ]
  },
  {
   "cell_type": "code",
   "execution_count": 31,
   "id": "6575e623",
   "metadata": {},
   "outputs": [
    {
     "data": {
      "text/html": [
       "<div>\n",
       "<style scoped>\n",
       "    .dataframe tbody tr th:only-of-type {\n",
       "        vertical-align: middle;\n",
       "    }\n",
       "\n",
       "    .dataframe tbody tr th {\n",
       "        vertical-align: top;\n",
       "    }\n",
       "\n",
       "    .dataframe thead th {\n",
       "        text-align: right;\n",
       "    }\n",
       "</style>\n",
       "<table border=\"1\" class=\"dataframe\">\n",
       "  <thead>\n",
       "    <tr style=\"text-align: right;\">\n",
       "      <th></th>\n",
       "      <th>district_code</th>\n",
       "      <th>expense_authorization_id</th>\n",
       "      <th>project_id</th>\n",
       "      <th>ea_assign_date</th>\n",
       "    </tr>\n",
       "  </thead>\n",
       "  <tbody>\n",
       "    <tr>\n",
       "      <th>120</th>\n",
       "      <td>01</td>\n",
       "      <td>924969</td>\n",
       "      <td>5904(114)</td>\n",
       "      <td>2011-02-28 10:37:39</td>\n",
       "    </tr>\n",
       "    <tr>\n",
       "      <th>390</th>\n",
       "      <td>03</td>\n",
       "      <td>924969</td>\n",
       "      <td>5238(018)</td>\n",
       "      <td>1998-06-04 00:00:00</td>\n",
       "    </tr>\n",
       "    <tr>\n",
       "      <th>1396</th>\n",
       "      <td>08</td>\n",
       "      <td>924969</td>\n",
       "      <td>NBIL(502)</td>\n",
       "      <td>2006-06-23 16:18:52</td>\n",
       "    </tr>\n",
       "  </tbody>\n",
       "</table>\n",
       "</div>"
      ],
      "text/plain": [
       "     district_code expense_authorization_id project_id      ea_assign_date\n",
       "120             01                   924969  5904(114) 2011-02-28 10:37:39\n",
       "390             03                   924969  5238(018) 1998-06-04 00:00:00\n",
       "1396            08                   924969  NBIL(502) 2006-06-23 16:18:52"
      ]
     },
     "execution_count": 31,
     "metadata": {},
     "output_type": "execute_result"
    }
   ],
   "source": [
    "ea_df.loc[ea_df.expense_authorization_id == \"924969\"]"
   ]
  },
  {
   "cell_type": "code",
   "execution_count": 32,
   "id": "3ebc8d00",
   "metadata": {},
   "outputs": [
    {
     "data": {
      "text/html": [
       "<div>\n",
       "<style scoped>\n",
       "    .dataframe tbody tr th:only-of-type {\n",
       "        vertical-align: middle;\n",
       "    }\n",
       "\n",
       "    .dataframe tbody tr th {\n",
       "        vertical-align: top;\n",
       "    }\n",
       "\n",
       "    .dataframe thead th {\n",
       "        text-align: right;\n",
       "    }\n",
       "</style>\n",
       "<table border=\"1\" class=\"dataframe\">\n",
       "  <thead>\n",
       "    <tr style=\"text-align: right;\">\n",
       "      <th></th>\n",
       "      <th>district_code</th>\n",
       "      <th>expense_authorization_id</th>\n",
       "      <th>project_id</th>\n",
       "      <th>ea_assign_date</th>\n",
       "    </tr>\n",
       "  </thead>\n",
       "  <tbody>\n",
       "    <tr>\n",
       "      <th>409</th>\n",
       "      <td>08</td>\n",
       "      <td>924360</td>\n",
       "      <td>0061(025)</td>\n",
       "      <td>1998-12-23 00:00:00</td>\n",
       "    </tr>\n",
       "    <tr>\n",
       "      <th>1218</th>\n",
       "      <td>04</td>\n",
       "      <td>924360</td>\n",
       "      <td>6003(030)</td>\n",
       "      <td>2005-05-17 15:25:28</td>\n",
       "    </tr>\n",
       "  </tbody>\n",
       "</table>\n",
       "</div>"
      ],
      "text/plain": [
       "     district_code expense_authorization_id project_id      ea_assign_date\n",
       "409             08                   924360  0061(025) 1998-12-23 00:00:00\n",
       "1218            04                   924360  6003(030) 2005-05-17 15:25:28"
      ]
     },
     "execution_count": 32,
     "metadata": {},
     "output_type": "execute_result"
    }
   ],
   "source": [
    "ea_df.loc[ea_df.expense_authorization_id == \"924360\"]"
   ]
  },
  {
   "cell_type": "code",
   "execution_count": 33,
   "id": "8c407170",
   "metadata": {},
   "outputs": [],
   "source": [
    "#ea_df2.project_id.nunique() == len(ea_df2)"
   ]
  },
  {
   "cell_type": "code",
   "execution_count": 34,
   "id": "d5982845",
   "metadata": {},
   "outputs": [],
   "source": [
    "#len(projects_df6) == len(projects_df)"
   ]
  },
  {
   "cell_type": "markdown",
   "id": "b41a3e92",
   "metadata": {},
   "source": [
    "* Shares the EA of 924360"
   ]
  },
  {
   "cell_type": "code",
   "execution_count": 35,
   "id": "00e0889b",
   "metadata": {},
   "outputs": [],
   "source": [
    "#projects_df6.loc[projects_df6.project_id == '0061(025)'][preview_cols]"
   ]
  },
  {
   "cell_type": "markdown",
   "id": "cbd3c992",
   "metadata": {},
   "source": [
    "## EFIS_MV_BUD_STRU_94_LVL_3_VW\n",
    "* Advantage information\n",
    "* LP2000 projects only use pec_code 2030\n",
    "* 10/30: to do, combine the query with efis_join_df"
   ]
  },
  {
   "cell_type": "code",
   "execution_count": 36,
   "id": "adeb37a5",
   "metadata": {},
   "outputs": [],
   "source": [
    "efis_df = pd.read_sql_query(\"\"\" \n",
    "SELECT \n",
    "adv_project_id,\n",
    "fund_code,\n",
    "pec_code,\n",
    "appropriation_category_code,\n",
    "curr_bud_am,\n",
    "cash_exp_am,\n",
    "pect_task_code\n",
    "FROM EFIS_MV_BUD_STRU_94_LVL_3_VW\n",
    "WHERE pec_code LIKE '%2030%'\n",
    "\"\"\", engine) "
   ]
  },
  {
   "cell_type": "code",
   "execution_count": 37,
   "id": "664c144a",
   "metadata": {},
   "outputs": [
    {
     "data": {
      "text/plain": [
       "(45666, 7)"
      ]
     },
     "execution_count": 37,
     "metadata": {},
     "output_type": "execute_result"
    }
   ],
   "source": [
    "efis_df.shape"
   ]
  },
  {
   "cell_type": "code",
   "execution_count": 38,
   "id": "1cc8c5d9",
   "metadata": {},
   "outputs": [
    {
     "data": {
      "text/plain": [
       "19821"
      ]
     },
     "execution_count": 38,
     "metadata": {},
     "output_type": "execute_result"
    }
   ],
   "source": [
    "efis_df.adv_project_id.nunique()"
   ]
  },
  {
   "cell_type": "markdown",
   "id": "2a74da37",
   "metadata": {},
   "source": [
    "### Efis Join\n",
    "* In SQL: Filtering out 9's also eliminates nulls, which means newer projects or projects with statuses are also eliminated, so I am filtering this out in Python at a later stage.\n"
   ]
  },
  {
   "cell_type": "code",
   "execution_count": 39,
   "id": "972329d2",
   "metadata": {},
   "outputs": [],
   "source": [
    "efis_join_df = pd.read_sql_query(\"\"\" \n",
    "SELECT \n",
    "adv_project_id,\n",
    "project_id,\n",
    "project_status_code\n",
    "FROM EFIS_MV_R_PROG_VW \n",
    "\"\"\", engine) "
   ]
  },
  {
   "cell_type": "markdown",
   "id": "3c566ba3",
   "metadata": {},
   "source": [
    "* Exclude project status because it's just the financial status of the project, not construction or whatever."
   ]
  },
  {
   "cell_type": "code",
   "execution_count": 40,
   "id": "c936398b",
   "metadata": {},
   "outputs": [],
   "source": [
    "#project_status = pd.read_sql_query(\"\"\" \n",
    "#SELECT DISTINCT project_status_code, \n",
    "#project_status\n",
    "#FROM ACCOUNTING_EXP_CWA_VW  \n",
    "#\"\"\", engine) "
   ]
  },
  {
   "cell_type": "code",
   "execution_count": 41,
   "id": "a39f1bad",
   "metadata": {},
   "outputs": [],
   "source": [
    "# project_status"
   ]
  },
  {
   "cell_type": "code",
   "execution_count": 42,
   "id": "e3c9315e",
   "metadata": {},
   "outputs": [],
   "source": [
    "# Have to fill in nans with no status\n",
    "efis_join_df.project_status_code = efis_join_df.project_status_code.fillna('no status')"
   ]
  },
  {
   "cell_type": "code",
   "execution_count": 43,
   "id": "c818486a",
   "metadata": {},
   "outputs": [],
   "source": [
    "# Filter out all 9 codes because this means the project is closed\n",
    "efis_join_df2 = efis_join_df.loc[~efis_join_df.project_status_code.str.contains('9')]"
   ]
  },
  {
   "cell_type": "code",
   "execution_count": 44,
   "id": "918cc1c9",
   "metadata": {},
   "outputs": [],
   "source": [
    "# Drop project status code. This is just about the project status from the \n",
    "# Accounting POV\n",
    "efis_join_df2 = efis_join_df2.drop(columns = ['project_status_code'])"
   ]
  },
  {
   "cell_type": "code",
   "execution_count": 45,
   "id": "13a41288",
   "metadata": {},
   "outputs": [
    {
     "data": {
      "text/plain": [
       "_merge    \n",
       "left_only     34832\n",
       "both          10849\n",
       "right_only       83\n",
       "dtype: int64"
      ]
     },
     "execution_count": 45,
     "metadata": {},
     "output_type": "execute_result"
    }
   ],
   "source": [
    "pd.merge(efis_df, efis_join_df2, on = ['adv_project_id'], how = 'outer', indicator = True)[['_merge']].value_counts()"
   ]
  },
  {
   "cell_type": "code",
   "execution_count": 46,
   "id": "bd3a6659",
   "metadata": {},
   "outputs": [],
   "source": [
    "efis_m1 = pd.merge(efis_df, efis_join_df2, on = ['adv_project_id'], how = 'inner')"
   ]
  },
  {
   "cell_type": "markdown",
   "id": "1c85c416",
   "metadata": {},
   "source": [
    "* 77 project ids missing after inner join."
   ]
  },
  {
   "cell_type": "code",
   "execution_count": 47,
   "id": "7b2672b6",
   "metadata": {},
   "outputs": [
    {
     "data": {
      "text/plain": [
       "4810"
      ]
     },
     "execution_count": 47,
     "metadata": {},
     "output_type": "execute_result"
    }
   ],
   "source": [
    "efis_join_df2.project_id.nunique()"
   ]
  },
  {
   "cell_type": "code",
   "execution_count": 48,
   "id": "a5b6529d",
   "metadata": {},
   "outputs": [
    {
     "data": {
      "text/plain": [
       "4742"
      ]
     },
     "execution_count": 48,
     "metadata": {},
     "output_type": "execute_result"
    }
   ],
   "source": [
    "efis_m1.project_id.nunique()"
   ]
  },
  {
   "cell_type": "markdown",
   "id": "bfb5e764",
   "metadata": {},
   "source": [
    "## Subset only  for the relevant project_ids from `Projects`\n",
    "* Before manipulating"
   ]
  },
  {
   "cell_type": "code",
   "execution_count": 49,
   "id": "0c99473a",
   "metadata": {},
   "outputs": [],
   "source": [
    "projects_df_subset = projects_df[['project_id']].drop_duplicates().reset_index(drop = True)"
   ]
  },
  {
   "cell_type": "code",
   "execution_count": 50,
   "id": "0be547fb",
   "metadata": {},
   "outputs": [
    {
     "data": {
      "text/plain": [
       "(11272, (11272, 1))"
      ]
     },
     "execution_count": 50,
     "metadata": {},
     "output_type": "execute_result"
    }
   ],
   "source": [
    "# Make sure it's unique\n",
    "projects_df_subset.project_id.nunique(), projects_df_subset.shape"
   ]
  },
  {
   "cell_type": "code",
   "execution_count": 51,
   "id": "98a8470f",
   "metadata": {},
   "outputs": [
    {
     "data": {
      "text/plain": [
       "(11272, 1)"
      ]
     },
     "execution_count": 51,
     "metadata": {},
     "output_type": "execute_result"
    }
   ],
   "source": [
    "projects_df_subset.shape"
   ]
  },
  {
   "cell_type": "code",
   "execution_count": 52,
   "id": "abf5aa6c",
   "metadata": {},
   "outputs": [
    {
     "data": {
      "text/plain": [
       "_merge    \n",
       "both          10186\n",
       "right_only     6942\n",
       "left_only       663\n",
       "dtype: int64"
      ]
     },
     "execution_count": 52,
     "metadata": {},
     "output_type": "execute_result"
    }
   ],
   "source": [
    "pd.merge(efis_m1, projects_df_subset, on = ['project_id'], how = 'outer', indicator = True)[['_merge']].value_counts()"
   ]
  },
  {
   "cell_type": "code",
   "execution_count": 53,
   "id": "715ef53f",
   "metadata": {},
   "outputs": [],
   "source": [
    "accounting_df = pd.merge(efis_m1, projects_df_subset, on = ['project_id'], how = 'inner')"
   ]
  },
  {
   "cell_type": "code",
   "execution_count": 54,
   "id": "a0b7ce55",
   "metadata": {},
   "outputs": [
    {
     "data": {
      "text/plain": [
       "4330"
      ]
     },
     "execution_count": 54,
     "metadata": {},
     "output_type": "execute_result"
    }
   ],
   "source": [
    "\n",
    "accounting_df.project_id.nunique()"
   ]
  },
  {
   "cell_type": "code",
   "execution_count": 55,
   "id": "a276ed04",
   "metadata": {},
   "outputs": [
    {
     "data": {
      "text/plain": [
       "6211(130)    32\n",
       "5908(031)    28\n",
       "6053(130)    27\n",
       "6211(131)    27\n",
       "5006(219)    23\n",
       "Name: project_id, dtype: int64"
      ]
     },
     "execution_count": 55,
     "metadata": {},
     "output_type": "execute_result"
    }
   ],
   "source": [
    "accounting_df.project_id.value_counts().head()"
   ]
  },
  {
   "cell_type": "markdown",
   "id": "e9341b04",
   "metadata": {},
   "source": [
    "## Bring in pect_description for `Projects` -> Double Check\n",
    "* PEC codes that are not supposed to have a corresponding PECT code have one after my manipulation -> Correct this.\n",
    "* Also need to keep the second duplicate because it's the more recent one\n",
    "* From section 2: https://accounting.onramp.dot.ca.gov/manual/7-program-codes\n",
    "* Double check with LP2000 team this is a correct way of thinking."
   ]
  },
  {
   "cell_type": "code",
   "execution_count": 56,
   "id": "67c1fc59",
   "metadata": {},
   "outputs": [],
   "source": [
    "def load_pec(excel_file:str)-> pd.DataFrame:\n",
    "    df = _utils.to_snakecase(pd.read_excel(excel_file))\n",
    "    \n",
    "    # Drop rows that are all nan\n",
    "    df = df.dropna(how='all').reset_index(drop =  True)\n",
    "    \n",
    "    # Keep ONLY rows that have \"X\" under 23/24\n",
    "    # That means they are still relevant\n",
    "    df2 = df.loc[df['23/24'] == 'X'].reset_index(drop = True)\n",
    "    \n",
    "    df2 = df2.drop(columns = ['19/20', '20/21', '21/22', '22/23', '23/24'])\n",
    "    # Find program ONLY rows\n",
    "    program_only = (df2\n",
    "             .drop_duplicates(subset = ['pec'])\n",
    "             .dropna(how='all')\n",
    "             .reset_index(drop = True)\n",
    "             .drop(columns = ['pect'])\n",
    "             .rename(columns = {'description':'program'})\n",
    "            )\n",
    "    \n",
    "    # Merge to get program plus pect\n",
    "    m1 = pd.merge(df2, program_only, how = \"left\", on = ['pec'])\n",
    "    m1 = (m1\n",
    "          .sort_values(['pec','pect'], ascending = [True, False])\n",
    "          .drop_duplicates(subset=['pec', 'description', 'program'])\n",
    "          .rename(columns = {'description':'pect_description'})\n",
    "          .sort_values(['pec','pect'])\n",
    "          .reset_index(drop = True)\n",
    "         )\n",
    "\n",
    "    m1.pec = m1.pec.str.replace('.','')\n",
    "    m1.pect = m1.pect.fillna(0).astype(int)\n",
    "    return m1"
   ]
  },
  {
   "cell_type": "code",
   "execution_count": 57,
   "id": "a5ddf1bf",
   "metadata": {},
   "outputs": [
    {
     "name": "stderr",
     "output_type": "stream",
     "text": [
      "C:\\Users\\S154408\\AppData\\Local\\ESRI\\conda\\envs\\arcgispro-py3-clone\\lib\\site-packages\\ipykernel_launcher.py:31: FutureWarning: The default value of regex will change from True to False in a future version. In addition, single character regular expressions will*not* be treated as literal strings when regex=True.\n"
     ]
    }
   ],
   "source": [
    "final_pect = load_pec('section2_pect_2023_2024_FY.xlsx')"
   ]
  },
  {
   "cell_type": "code",
   "execution_count": 58,
   "id": "72100e15",
   "metadata": {},
   "outputs": [
    {
     "data": {
      "text/plain": [
       "(799, 4)"
      ]
     },
     "execution_count": 58,
     "metadata": {},
     "output_type": "execute_result"
    }
   ],
   "source": [
    "final_pect.shape"
   ]
  },
  {
   "cell_type": "code",
   "execution_count": 59,
   "id": "95554c2e",
   "metadata": {},
   "outputs": [
    {
     "data": {
      "text/html": [
       "<div>\n",
       "<style scoped>\n",
       "    .dataframe tbody tr th:only-of-type {\n",
       "        vertical-align: middle;\n",
       "    }\n",
       "\n",
       "    .dataframe tbody tr th {\n",
       "        vertical-align: top;\n",
       "    }\n",
       "\n",
       "    .dataframe thead th {\n",
       "        text-align: right;\n",
       "    }\n",
       "</style>\n",
       "<table border=\"1\" class=\"dataframe\">\n",
       "  <thead>\n",
       "    <tr style=\"text-align: right;\">\n",
       "      <th></th>\n",
       "      <th>pec</th>\n",
       "      <th>pect</th>\n",
       "      <th>pect_description</th>\n",
       "      <th>program</th>\n",
       "    </tr>\n",
       "  </thead>\n",
       "  <tbody>\n",
       "    <tr>\n",
       "      <th>682</th>\n",
       "      <td>4050201</td>\n",
       "      <td>151</td>\n",
       "      <td>Drainage System Restoration</td>\n",
       "      <td>State Hwy Operation &amp; Protection Program (SHOPP)</td>\n",
       "    </tr>\n",
       "    <tr>\n",
       "      <th>494</th>\n",
       "      <td>2080437</td>\n",
       "      <td>0</td>\n",
       "      <td>TMS Electrical Material Procurement</td>\n",
       "      <td>Transportation Management System (TMS) Electrical Material Procurement</td>\n",
       "    </tr>\n",
       "    <tr>\n",
       "      <th>331</th>\n",
       "      <td>2030010</td>\n",
       "      <td>630</td>\n",
       "      <td>Rebuilding American Infrastructure with Sustainability and Equity (RAISE) and Multimodal Project Discretionary Grant Programs (e.g., INFRA, MEGA, RSTG or RURAL)</td>\n",
       "      <td>Local Assistance</td>\n",
       "    </tr>\n",
       "  </tbody>\n",
       "</table>\n",
       "</div>"
      ],
      "text/plain": [
       "         pec  pect  \\\n",
       "682  4050201   151   \n",
       "494  2080437     0   \n",
       "331  2030010   630   \n",
       "\n",
       "                                                                                                                                                      pect_description  \\\n",
       "682                                                                                                                                        Drainage System Restoration   \n",
       "494                                                                                                                                TMS Electrical Material Procurement   \n",
       "331  Rebuilding American Infrastructure with Sustainability and Equity (RAISE) and Multimodal Project Discretionary Grant Programs (e.g., INFRA, MEGA, RSTG or RURAL)    \n",
       "\n",
       "                                                                    program  \n",
       "682                        State Hwy Operation & Protection Program (SHOPP)  \n",
       "494  Transportation Management System (TMS) Electrical Material Procurement  \n",
       "331                                                        Local Assistance  "
      ]
     },
     "execution_count": 59,
     "metadata": {},
     "output_type": "execute_result"
    }
   ],
   "source": [
    "final_pect.sample(3)"
   ]
  },
  {
   "cell_type": "markdown",
   "id": "7ae7dade",
   "metadata": {},
   "source": [
    "### Turn this part to script once finalized"
   ]
  },
  {
   "cell_type": "code",
   "execution_count": 60,
   "id": "d16d49fe",
   "metadata": {},
   "outputs": [],
   "source": [
    "accounting_df.pect_task_code = accounting_df.pect_task_code.fillna(0).astype(int)"
   ]
  },
  {
   "cell_type": "code",
   "execution_count": 61,
   "id": "1915efd6",
   "metadata": {},
   "outputs": [],
   "source": [
    "pect_df = pd.merge(accounting_df, final_pect, left_on = ['pec_code', 'pect_task_code'], right_on = ['pec', 'pect'], how = 'left')"
   ]
  },
  {
   "cell_type": "code",
   "execution_count": 62,
   "id": "5b161320",
   "metadata": {},
   "outputs": [
    {
     "data": {
      "text/html": [
       "<div>\n",
       "<style scoped>\n",
       "    .dataframe tbody tr th:only-of-type {\n",
       "        vertical-align: middle;\n",
       "    }\n",
       "\n",
       "    .dataframe tbody tr th {\n",
       "        vertical-align: top;\n",
       "    }\n",
       "\n",
       "    .dataframe thead th {\n",
       "        text-align: right;\n",
       "    }\n",
       "</style>\n",
       "<table border=\"1\" class=\"dataframe\">\n",
       "  <thead>\n",
       "    <tr style=\"text-align: right;\">\n",
       "      <th></th>\n",
       "      <th>adv_project_id</th>\n",
       "      <th>fund_code</th>\n",
       "      <th>pec_code</th>\n",
       "      <th>appropriation_category_code</th>\n",
       "      <th>curr_bud_am</th>\n",
       "      <th>cash_exp_am</th>\n",
       "      <th>pect_task_code</th>\n",
       "      <th>project_id</th>\n",
       "    </tr>\n",
       "  </thead>\n",
       "  <tbody>\n",
       "    <tr>\n",
       "      <th>0</th>\n",
       "      <td>0000001449</td>\n",
       "      <td>0042</td>\n",
       "      <td>2030010</td>\n",
       "      <td>0809</td>\n",
       "      <td>0.00</td>\n",
       "      <td>-38.99</td>\n",
       "      <td>535</td>\n",
       "      <td>6200(024)</td>\n",
       "    </tr>\n",
       "  </tbody>\n",
       "</table>\n",
       "</div>"
      ],
      "text/plain": [
       "  adv_project_id fund_code pec_code appropriation_category_code  curr_bud_am  \\\n",
       "0     0000001449      0042  2030010                        0809         0.00   \n",
       "\n",
       "   cash_exp_am  pect_task_code project_id  \n",
       "0       -38.99             535  6200(024)  "
      ]
     },
     "execution_count": 62,
     "metadata": {},
     "output_type": "execute_result"
    }
   ],
   "source": [
    "accounting_df.head(1)"
   ]
  },
  {
   "cell_type": "code",
   "execution_count": 63,
   "id": "2b9bc1bf",
   "metadata": {},
   "outputs": [
    {
     "data": {
      "text/html": [
       "<div>\n",
       "<style scoped>\n",
       "    .dataframe tbody tr th:only-of-type {\n",
       "        vertical-align: middle;\n",
       "    }\n",
       "\n",
       "    .dataframe tbody tr th {\n",
       "        vertical-align: top;\n",
       "    }\n",
       "\n",
       "    .dataframe thead th {\n",
       "        text-align: right;\n",
       "    }\n",
       "</style>\n",
       "<table border=\"1\" class=\"dataframe\">\n",
       "  <thead>\n",
       "    <tr style=\"text-align: right;\">\n",
       "      <th></th>\n",
       "      <th>adv_project_id</th>\n",
       "      <th>fund_code</th>\n",
       "      <th>pec_code</th>\n",
       "      <th>appropriation_category_code</th>\n",
       "      <th>curr_bud_am</th>\n",
       "      <th>cash_exp_am</th>\n",
       "      <th>pect_task_code</th>\n",
       "      <th>project_id</th>\n",
       "      <th>pec</th>\n",
       "      <th>pect</th>\n",
       "      <th>pect_description</th>\n",
       "      <th>program</th>\n",
       "    </tr>\n",
       "  </thead>\n",
       "  <tbody>\n",
       "    <tr>\n",
       "      <th>1678</th>\n",
       "      <td>0316000060</td>\n",
       "      <td>0890</td>\n",
       "      <td>2030010</td>\n",
       "      <td>2122</td>\n",
       "      <td>200000.00</td>\n",
       "      <td>62549.18</td>\n",
       "      <td>820</td>\n",
       "      <td>6203(069)</td>\n",
       "      <td>2030010</td>\n",
       "      <td>820.00</td>\n",
       "      <td>Congestion Mitigation &amp; Air Quality Improvement Program (CMAQ)</td>\n",
       "      <td>Local Assistance</td>\n",
       "    </tr>\n",
       "    <tr>\n",
       "      <th>6994</th>\n",
       "      <td>0722000309</td>\n",
       "      <td>3290</td>\n",
       "      <td>2030720</td>\n",
       "      <td>2021</td>\n",
       "      <td>10000.00</td>\n",
       "      <td>3520.00</td>\n",
       "      <td>100</td>\n",
       "      <td>5352(023)</td>\n",
       "      <td>2030720</td>\n",
       "      <td>100.00</td>\n",
       "      <td>Active Transportation Program (ATP)</td>\n",
       "      <td>Active Transportation Program (ATP)</td>\n",
       "    </tr>\n",
       "    <tr>\n",
       "      <th>2823</th>\n",
       "      <td>0415000111</td>\n",
       "      <td>0890</td>\n",
       "      <td>2030010</td>\n",
       "      <td>1617</td>\n",
       "      <td>350000.00</td>\n",
       "      <td>350000.00</td>\n",
       "      <td>300</td>\n",
       "      <td>6003(052)</td>\n",
       "      <td>2030010</td>\n",
       "      <td>300.00</td>\n",
       "      <td>Highway Bridge</td>\n",
       "      <td>Local Assistance</td>\n",
       "    </tr>\n",
       "  </tbody>\n",
       "</table>\n",
       "</div>"
      ],
      "text/plain": [
       "     adv_project_id fund_code pec_code appropriation_category_code  \\\n",
       "1678     0316000060      0890  2030010                        2122   \n",
       "6994     0722000309      3290  2030720                        2021   \n",
       "2823     0415000111      0890  2030010                        1617   \n",
       "\n",
       "      curr_bud_am  cash_exp_am  pect_task_code project_id      pec   pect  \\\n",
       "1678    200000.00     62549.18             820  6203(069)  2030010 820.00   \n",
       "6994     10000.00      3520.00             100  5352(023)  2030720 100.00   \n",
       "2823    350000.00    350000.00             300  6003(052)  2030010 300.00   \n",
       "\n",
       "                                                    pect_description  \\\n",
       "1678  Congestion Mitigation & Air Quality Improvement Program (CMAQ)   \n",
       "6994                             Active Transportation Program (ATP)   \n",
       "2823                                                 Highway Bridge    \n",
       "\n",
       "                                  program  \n",
       "1678                     Local Assistance  \n",
       "6994  Active Transportation Program (ATP)  \n",
       "2823                     Local Assistance  "
      ]
     },
     "execution_count": 63,
     "metadata": {},
     "output_type": "execute_result"
    }
   ],
   "source": [
    "pect_df.sample(3)"
   ]
  },
  {
   "cell_type": "code",
   "execution_count": 64,
   "id": "f0749fec",
   "metadata": {},
   "outputs": [
    {
     "data": {
      "text/plain": [
       "(10186, 4330)"
      ]
     },
     "execution_count": 64,
     "metadata": {},
     "output_type": "execute_result"
    }
   ],
   "source": [
    "len(pect_df), pect_df.project_id.nunique()"
   ]
  },
  {
   "cell_type": "code",
   "execution_count": 65,
   "id": "23164a0d",
   "metadata": {},
   "outputs": [],
   "source": [
    "# Subset \n",
    "pect_df2 = pect_df[['pect_description','curr_bud_am', 'project_id']]"
   ]
  },
  {
   "cell_type": "code",
   "execution_count": 66,
   "id": "af61c211",
   "metadata": {},
   "outputs": [],
   "source": [
    "# Need to fill in NA so it'll appear in the pivot properly\n",
    "pect_df2 = pect_df2.fillna('Unknown')"
   ]
  },
  {
   "cell_type": "code",
   "execution_count": 67,
   "id": "26e84b16",
   "metadata": {},
   "outputs": [
    {
     "data": {
      "text/plain": [
       "9999"
      ]
     },
     "execution_count": 67,
     "metadata": {},
     "output_type": "execute_result"
    }
   ],
   "source": [
    "# Drop duplicates because we only need one PECT description & project_id combo\n",
    "len(pect_df2.drop_duplicates())"
   ]
  },
  {
   "cell_type": "code",
   "execution_count": 68,
   "id": "25132e11",
   "metadata": {},
   "outputs": [],
   "source": [
    "pect_df2 = pect_df2.drop_duplicates().reset_index(drop = True)"
   ]
  },
  {
   "cell_type": "code",
   "execution_count": 69,
   "id": "6b9911a3",
   "metadata": {},
   "outputs": [],
   "source": [
    "# Pivot so the PECT_description becomes the columns\n",
    "# curr_bud_sum are just placeholders\n",
    "pect_df3 = pect_df2.pivot_table(index=['project_id'], columns='pect_description', \n",
    "                    values=['curr_bud_am'], aggfunc='sum')"
   ]
  },
  {
   "cell_type": "code",
   "execution_count": 70,
   "id": "f4502e96",
   "metadata": {},
   "outputs": [],
   "source": [
    "pect_df3.columns = pect_df3.columns.droplevel()"
   ]
  },
  {
   "cell_type": "code",
   "execution_count": 71,
   "id": "13866e8a",
   "metadata": {},
   "outputs": [],
   "source": [
    "pect_df3 = pect_df3.reset_index()"
   ]
  },
  {
   "cell_type": "code",
   "execution_count": 72,
   "id": "e428d60c",
   "metadata": {},
   "outputs": [],
   "source": [
    "pect_df3 = pect_df3.fillna('No')"
   ]
  },
  {
   "cell_type": "code",
   "execution_count": 73,
   "id": "c23e02b1",
   "metadata": {},
   "outputs": [
    {
     "data": {
      "text/plain": [
       "(4330, 4330, 4330)"
      ]
     },
     "execution_count": 73,
     "metadata": {},
     "output_type": "execute_result"
    }
   ],
   "source": [
    "pect_df3.project_id.nunique(), pect_df2.project_id.nunique(), pect_df.project_id.nunique()"
   ]
  },
  {
   "cell_type": "code",
   "execution_count": 74,
   "id": "9106c0ef",
   "metadata": {},
   "outputs": [],
   "source": [
    "pect_df3 = _utils.to_snakecase(pect_df3)"
   ]
  },
  {
   "cell_type": "code",
   "execution_count": 75,
   "id": "653ba5a5",
   "metadata": {
    "scrolled": true
   },
   "outputs": [],
   "source": [
    "#pect_df3projects = set(pect_df3.project_id.unique().tolist())\n",
    "#pect_df2projects = set(pect_df2.project_id.unique().tolist())\n",
    "#pect_df2projects - pect_df3projects"
   ]
  },
  {
   "cell_type": "code",
   "execution_count": 76,
   "id": "eed16ac2",
   "metadata": {},
   "outputs": [],
   "source": [
    "# pect_df2[pect_df2.project_id == '6115(006)']"
   ]
  },
  {
   "cell_type": "code",
   "execution_count": 77,
   "id": "be991521",
   "metadata": {},
   "outputs": [],
   "source": [
    "# Change integers to yes \n",
    "pect_df3 = pect_df3.mask(pect_df3.apply(lambda x : pd.to_numeric(x,errors='coerce')).notnull(),'Yes')"
   ]
  },
  {
   "cell_type": "code",
   "execution_count": 78,
   "id": "6c7b81c5",
   "metadata": {},
   "outputs": [
    {
     "data": {
      "text/plain": [
       "_merge    \n",
       "right_only    6942\n",
       "both          4330\n",
       "left_only        0\n",
       "dtype: int64"
      ]
     },
     "execution_count": 78,
     "metadata": {},
     "output_type": "execute_result"
    }
   ],
   "source": [
    "pd.merge(pect_df3, projects_df, on = ['project_id'], how = 'outer', indicator = True)[['_merge']].value_counts()"
   ]
  },
  {
   "cell_type": "code",
   "execution_count": 79,
   "id": "f7e7d7f3",
   "metadata": {},
   "outputs": [],
   "source": [
    "# Remove project_id to fill in unknowns later on\n",
    "pect_code_cols = list(pect_df3.columns)\n",
    "pect_code_cols.remove('project_id')"
   ]
  },
  {
   "cell_type": "code",
   "execution_count": 80,
   "id": "034acf09",
   "metadata": {},
   "outputs": [],
   "source": [
    "# Update projects\n",
    "project_df = pd.merge(projects_df, pect_df3, on = ['project_id'], how = 'left')"
   ]
  },
  {
   "cell_type": "code",
   "execution_count": 81,
   "id": "ad74eafc",
   "metadata": {},
   "outputs": [
    {
     "data": {
      "text/plain": [
       "11272"
      ]
     },
     "execution_count": 81,
     "metadata": {},
     "output_type": "execute_result"
    }
   ],
   "source": [
    "project_df.project_id.nunique()"
   ]
  },
  {
   "cell_type": "code",
   "execution_count": 82,
   "id": "6e2873ec",
   "metadata": {},
   "outputs": [],
   "source": [
    "# Fill in unknown\n",
    "project_df[pect_code_cols] = project_df[pect_code_cols].fillna('Unknown')"
   ]
  },
  {
   "cell_type": "markdown",
   "id": "d414f29a",
   "metadata": {},
   "source": [
    "### Double check"
   ]
  },
  {
   "cell_type": "code",
   "execution_count": 83,
   "id": "d2561ecb",
   "metadata": {},
   "outputs": [
    {
     "data": {
      "text/html": [
       "<div>\n",
       "<style scoped>\n",
       "    .dataframe tbody tr th:only-of-type {\n",
       "        vertical-align: middle;\n",
       "    }\n",
       "\n",
       "    .dataframe tbody tr th {\n",
       "        vertical-align: top;\n",
       "    }\n",
       "\n",
       "    .dataframe thead th {\n",
       "        text-align: right;\n",
       "    }\n",
       "</style>\n",
       "<table border=\"1\" class=\"dataframe\">\n",
       "  <thead>\n",
       "    <tr style=\"text-align: right;\">\n",
       "      <th></th>\n",
       "      <th>pect_description</th>\n",
       "      <th>curr_bud_am</th>\n",
       "      <th>project_id</th>\n",
       "    </tr>\n",
       "  </thead>\n",
       "  <tbody>\n",
       "    <tr>\n",
       "      <th>1615</th>\n",
       "      <td>Highway Bridge</td>\n",
       "      <td>690839.49</td>\n",
       "      <td>5918(101)</td>\n",
       "    </tr>\n",
       "    <tr>\n",
       "      <th>1616</th>\n",
       "      <td>Earmarks Projects (HPP, DEMO CPFCDS, etc.)</td>\n",
       "      <td>238679.79</td>\n",
       "      <td>5918(101)</td>\n",
       "    </tr>\n",
       "    <tr>\n",
       "      <th>1617</th>\n",
       "      <td>Regional Surface Transportation Block Grant Program (RSTBGP) and Highway Infrastructure Program (HIP)</td>\n",
       "      <td>0.00</td>\n",
       "      <td>5918(101)</td>\n",
       "    </tr>\n",
       "    <tr>\n",
       "      <th>1618</th>\n",
       "      <td>Highway Bridge</td>\n",
       "      <td>472887.51</td>\n",
       "      <td>5918(101)</td>\n",
       "    </tr>\n",
       "  </tbody>\n",
       "</table>\n",
       "</div>"
      ],
      "text/plain": [
       "                                                                                           pect_description  \\\n",
       "1615                                                                                        Highway Bridge    \n",
       "1616                                                             Earmarks Projects (HPP, DEMO CPFCDS, etc.)   \n",
       "1617  Regional Surface Transportation Block Grant Program (RSTBGP) and Highway Infrastructure Program (HIP)   \n",
       "1618                                                                                        Highway Bridge    \n",
       "\n",
       "      curr_bud_am project_id  \n",
       "1615    690839.49  5918(101)  \n",
       "1616    238679.79  5918(101)  \n",
       "1617         0.00  5918(101)  \n",
       "1618    472887.51  5918(101)  "
      ]
     },
     "execution_count": 83,
     "metadata": {},
     "output_type": "execute_result"
    }
   ],
   "source": [
    "pect_df2.loc[pect_df2.project_id == '5918(101)']"
   ]
  },
  {
   "cell_type": "code",
   "execution_count": 84,
   "id": "50113d38",
   "metadata": {},
   "outputs": [
    {
     "data": {
      "text/html": [
       "<style  type=\"text/css\" >\n",
       "#T_3da78_row0_col29,#T_3da78_row0_col36,#T_3da78_row0_col47{\n",
       "            color:  red;\n",
       "        }</style><table id=\"T_3da78_\" ><thead>    <tr>        <th class=\"blank level0\" ></th>        <th class=\"col_heading level0 col0\" >project_id</th>        <th class=\"col_heading level0 col1\" >comment_desc</th>        <th class=\"col_heading level0 col2\" >district_code</th>        <th class=\"col_heading level0 col3\" >est_total_prj_costs</th>        <th class=\"col_heading level0 col4\" >location_name</th>        <th class=\"col_heading level0 col5\" >project_label_name</th>        <th class=\"col_heading level0 col6\" >original_post_mile_begin_id</th>        <th class=\"col_heading level0 col7\" >original_post_mile_end_id</th>        <th class=\"col_heading level0 col8\" >revised_post_mile_begin_ind</th>        <th class=\"col_heading level0 col9\" >revised_post_mile_end_ind</th>        <th class=\"col_heading level0 col10\" >route_name</th>        <th class=\"col_heading level0 col11\" >state_hwy_ind</th>        <th class=\"col_heading level0 col12\" >senate_district_code</th>        <th class=\"col_heading level0 col13\" >update_date_time</th>        <th class=\"col_heading level0 col14\" >agency_name</th>        <th class=\"col_heading level0 col15\" >urban_area_code</th>        <th class=\"col_heading level0 col16\" >county_name</th>        <th class=\"col_heading level0 col17\" >work_type_desc</th>        <th class=\"col_heading level0 col18\" >category_desc</th>        <th class=\"col_heading level0 col19\" >current_phase</th>        <th class=\"col_heading level0 col20\" >active_transportation_program_(atp)</th>        <th class=\"col_heading level0 col21\" >bridge_inspection_&_scour_evaluation</th>        <th class=\"col_heading level0 col22\" >covid_relief_funds_for_highway_infrastructure_programs_for_stip-covid_augmentation</th>        <th class=\"col_heading level0 col23\" >carbon_reduction_program_(crp)</th>        <th class=\"col_heading level0 col24\" >congestion_mitigation_&_air_quality_improvement_program_(cmaq)</th>        <th class=\"col_heading level0 col25\" >coronavirus_response_and_relief_supplemental_appropriations_act_(crrsaa)_funds</th>        <th class=\"col_heading level0 col26\" >corridor_mobility_improvement_account_(cmia)_program</th>        <th class=\"col_heading level0 col27\" >county_exchange_funds</th>        <th class=\"col_heading level0 col28\" >county_state_match_program</th>        <th class=\"col_heading level0 col29\" >earmarks_projects_(hpp,_demo_cpfcds,_etc.)</th>        <th class=\"col_heading level0 col30\" >emergency_relief_(er)</th>        <th class=\"col_heading level0 col31\" >ferry_boat_program_(fbp)_and_ferry_boat_discretionary_(fbd)_program</th>        <th class=\"col_heading level0 col32\" >funds_for_planning,_programming_and_monitoring_-_rip</th>        <th class=\"col_heading level0 col33\" >general_funded_designated_programs</th>        <th class=\"col_heading level0 col34\" >hazard_elimination_safety_(hes)</th>        <th class=\"col_heading level0 col35\" >high_risk_rural_roads_program_(hr3)</th>        <th class=\"col_heading level0 col36\" >highway_bridge_</th>        <th class=\"col_heading level0 col37\" >highway_safety_improvement_program_(hsip)_(infrastructure)-state_fund</th>        <th class=\"col_heading level0 col38\" >highway_safety_improvement_program_(hsip)_(non-infrastructure)</th>        <th class=\"col_heading level0 col39\" >highway_safety_improvement_program_(hsip)(infrastructure)-federal_fund</th>        <th class=\"col_heading level0 col40\" >local_partnership_program_(lpp_–_competitive)_</th>        <th class=\"col_heading level0 col41\" >local_roads</th>        <th class=\"col_heading level0 col42\" >local_roads_rehabilitation</th>        <th class=\"col_heading level0 col43\" >railroad_grade_crossing_protection</th>        <th class=\"col_heading level0 col44\" >railroad_grade_separations</th>        <th class=\"col_heading level0 col45\" >rebuilding_american_infrastructure_with_sustainability_and_equity_(raise)_and_multimodal_project_discretionary_grant_programs_(e.g.,_infra,_mega,_rstg_or_rural)_</th>        <th class=\"col_heading level0 col46\" >regional_improvement_program_–_regional_share_of_stip_transportation_enhancement_(off_system)</th>        <th class=\"col_heading level0 col47\" >regional_surface_transportation_block_grant_program_(rstbgp)_and_highway_infrastructure_program_(hip)</th>        <th class=\"col_heading level0 col48\" >regional_transportation_planning_agency_(rtpa)_stp_match_exchange</th>        <th class=\"col_heading level0 col49\" >sb1_funded_freeway_service_patrol</th>        <th class=\"col_heading level0 col50\" >shopp-_traffic_light_synchronization_program_(tlsp)-_proposition_1b_bond_funds</th>        <th class=\"col_heading level0 col51\" >safe_routes_to_school_(sr2s_and_srts)</th>        <th class=\"col_heading level0 col52\" >set-aside_coordinated_border_infrastructure_(cbi)_program_under_fast_act</th>        <th class=\"col_heading level0 col53\" >solutions_for_congested_corridors_program_(sccp)</th>        <th class=\"col_heading level0 col54\" >special_programs</th>        <th class=\"col_heading level0 col55\" >state-local_partnership_program_(slpp)_and_local_partnership_program_(lpp-formulaic)</th>        <th class=\"col_heading level0 col56\" >structures_seismic_retrofit_</th>        <th class=\"col_heading level0 col57\" >trade_corridor_enhancement_account_(tcea)_programs_–_local_share</th>        <th class=\"col_heading level0 col58\" >trade_corridor_enhancement_account_(tcea)_programs_–_state_share</th>        <th class=\"col_heading level0 col59\" >trade_corridors_improvement_fund_(tcif)_program_local_streets_&_roads</th>        <th class=\"col_heading level0 col60\" >traffic_congestion_relief_program_(_tcrp_)</th>        <th class=\"col_heading level0 col61\" >unknown</th>    </tr></thead><tbody>\n",
       "                <tr>\n",
       "                        <th id=\"T_3da78_level0_row0\" class=\"row_heading level0 row0\" >1277</th>\n",
       "                        <td id=\"T_3da78_row0_col0\" class=\"data row0 col0\" >5918(101)</td>\n",
       "                        <td id=\"T_3da78_row0_col1\" class=\"data row0 col1\" >4-26-2023: told Neal Hay to do a BAR request and that he cannot  ask for more than what was lapsed - JC\n",
       "\n",
       "1/10/22: TCT JWalton adv of CWA expring and funds lapsing.  need invoice by Apr 1, 2022.  ab\n",
       "8/2/17: email SRiddle re: inactive status.  ab\n",
       "County will seek to replace (SR= 53.6)</td>\n",
       "                        <td id=\"T_3da78_row0_col2\" class=\"data row0 col2\" >03</td>\n",
       "                        <td id=\"T_3da78_row0_col3\" class=\"data row0 col3\" >nan</td>\n",
       "                        <td id=\"T_3da78_row0_col4\" class=\"data row0 col4\" >On Howsley Road, 1.02 Mile East of State Route 99, Br</td>\n",
       "                        <td id=\"T_3da78_row0_col5\" class=\"data row0 col5\" >Bridge Replacement</td>\n",
       "                        <td id=\"T_3da78_row0_col6\" class=\"data row0 col6\" >nan</td>\n",
       "                        <td id=\"T_3da78_row0_col7\" class=\"data row0 col7\" >nan</td>\n",
       "                        <td id=\"T_3da78_row0_col8\" class=\"data row0 col8\" >None</td>\n",
       "                        <td id=\"T_3da78_row0_col9\" class=\"data row0 col9\" >None</td>\n",
       "                        <td id=\"T_3da78_row0_col10\" class=\"data row0 col10\" >0-CR</td>\n",
       "                        <td id=\"T_3da78_row0_col11\" class=\"data row0 col11\" >N</td>\n",
       "                        <td id=\"T_3da78_row0_col12\" class=\"data row0 col12\" >None</td>\n",
       "                        <td id=\"T_3da78_row0_col13\" class=\"data row0 col13\" >2023-04-26 15:16:25</td>\n",
       "                        <td id=\"T_3da78_row0_col14\" class=\"data row0 col14\" >Sutter County</td>\n",
       "                        <td id=\"T_3da78_row0_col15\" class=\"data row0 col15\" >None</td>\n",
       "                        <td id=\"T_3da78_row0_col16\" class=\"data row0 col16\" >Sutter County</td>\n",
       "                        <td id=\"T_3da78_row0_col17\" class=\"data row0 col17\" >Bridge Replacement - No Added Capacity</td>\n",
       "                        <td id=\"T_3da78_row0_col18\" class=\"data row0 col18\" >Bridge Replacement</td>\n",
       "                        <td id=\"T_3da78_row0_col19\" class=\"data row0 col19\" >single phase</td>\n",
       "                        <td id=\"T_3da78_row0_col20\" class=\"data row0 col20\" >No</td>\n",
       "                        <td id=\"T_3da78_row0_col21\" class=\"data row0 col21\" >No</td>\n",
       "                        <td id=\"T_3da78_row0_col22\" class=\"data row0 col22\" >No</td>\n",
       "                        <td id=\"T_3da78_row0_col23\" class=\"data row0 col23\" >No</td>\n",
       "                        <td id=\"T_3da78_row0_col24\" class=\"data row0 col24\" >No</td>\n",
       "                        <td id=\"T_3da78_row0_col25\" class=\"data row0 col25\" >No</td>\n",
       "                        <td id=\"T_3da78_row0_col26\" class=\"data row0 col26\" >No</td>\n",
       "                        <td id=\"T_3da78_row0_col27\" class=\"data row0 col27\" >No</td>\n",
       "                        <td id=\"T_3da78_row0_col28\" class=\"data row0 col28\" >No</td>\n",
       "                        <td id=\"T_3da78_row0_col29\" class=\"data row0 col29\" >Yes</td>\n",
       "                        <td id=\"T_3da78_row0_col30\" class=\"data row0 col30\" >No</td>\n",
       "                        <td id=\"T_3da78_row0_col31\" class=\"data row0 col31\" >No</td>\n",
       "                        <td id=\"T_3da78_row0_col32\" class=\"data row0 col32\" >No</td>\n",
       "                        <td id=\"T_3da78_row0_col33\" class=\"data row0 col33\" >No</td>\n",
       "                        <td id=\"T_3da78_row0_col34\" class=\"data row0 col34\" >No</td>\n",
       "                        <td id=\"T_3da78_row0_col35\" class=\"data row0 col35\" >No</td>\n",
       "                        <td id=\"T_3da78_row0_col36\" class=\"data row0 col36\" >Yes</td>\n",
       "                        <td id=\"T_3da78_row0_col37\" class=\"data row0 col37\" >No</td>\n",
       "                        <td id=\"T_3da78_row0_col38\" class=\"data row0 col38\" >No</td>\n",
       "                        <td id=\"T_3da78_row0_col39\" class=\"data row0 col39\" >No</td>\n",
       "                        <td id=\"T_3da78_row0_col40\" class=\"data row0 col40\" >No</td>\n",
       "                        <td id=\"T_3da78_row0_col41\" class=\"data row0 col41\" >No</td>\n",
       "                        <td id=\"T_3da78_row0_col42\" class=\"data row0 col42\" >No</td>\n",
       "                        <td id=\"T_3da78_row0_col43\" class=\"data row0 col43\" >No</td>\n",
       "                        <td id=\"T_3da78_row0_col44\" class=\"data row0 col44\" >No</td>\n",
       "                        <td id=\"T_3da78_row0_col45\" class=\"data row0 col45\" >No</td>\n",
       "                        <td id=\"T_3da78_row0_col46\" class=\"data row0 col46\" >No</td>\n",
       "                        <td id=\"T_3da78_row0_col47\" class=\"data row0 col47\" >Yes</td>\n",
       "                        <td id=\"T_3da78_row0_col48\" class=\"data row0 col48\" >No</td>\n",
       "                        <td id=\"T_3da78_row0_col49\" class=\"data row0 col49\" >No</td>\n",
       "                        <td id=\"T_3da78_row0_col50\" class=\"data row0 col50\" >No</td>\n",
       "                        <td id=\"T_3da78_row0_col51\" class=\"data row0 col51\" >No</td>\n",
       "                        <td id=\"T_3da78_row0_col52\" class=\"data row0 col52\" >No</td>\n",
       "                        <td id=\"T_3da78_row0_col53\" class=\"data row0 col53\" >No</td>\n",
       "                        <td id=\"T_3da78_row0_col54\" class=\"data row0 col54\" >No</td>\n",
       "                        <td id=\"T_3da78_row0_col55\" class=\"data row0 col55\" >No</td>\n",
       "                        <td id=\"T_3da78_row0_col56\" class=\"data row0 col56\" >No</td>\n",
       "                        <td id=\"T_3da78_row0_col57\" class=\"data row0 col57\" >No</td>\n",
       "                        <td id=\"T_3da78_row0_col58\" class=\"data row0 col58\" >No</td>\n",
       "                        <td id=\"T_3da78_row0_col59\" class=\"data row0 col59\" >No</td>\n",
       "                        <td id=\"T_3da78_row0_col60\" class=\"data row0 col60\" >No</td>\n",
       "                        <td id=\"T_3da78_row0_col61\" class=\"data row0 col61\" >No</td>\n",
       "            </tr>\n",
       "    </tbody></table>"
      ],
      "text/plain": [
       "<pandas.io.formats.style.Styler at 0x1d6d5024948>"
      ]
     },
     "execution_count": 84,
     "metadata": {},
     "output_type": "execute_result"
    }
   ],
   "source": [
    "project_df.loc[project_df.project_id == '5918(101)'].style.where(lambda val: 'Yes' in str(val), 'color: red')"
   ]
  },
  {
   "cell_type": "markdown",
   "id": "734fa9d5",
   "metadata": {},
   "source": [
    "## Phase_Funding Table"
   ]
  },
  {
   "cell_type": "markdown",
   "id": "8d673df6",
   "metadata": {},
   "source": [
    "### Bring in fund_code\n",
    "* These fund codes were shared by Brian via his contacts in Accounting. Have to request this each fiscal year?"
   ]
  },
  {
   "cell_type": "code",
   "execution_count": 85,
   "id": "38f9b021",
   "metadata": {},
   "outputs": [],
   "source": [
    "def load_fund_codes(excel_file:str)->pd.DataFrame:\n",
    "    df = pd.read_excel('lp2000_2023_fund_codes.xlsx')\n",
    "    \n",
    "    # Pad codes\n",
    "    df['0001'] = df['0001'].apply(lambda x: f'{x:04}')\n",
    "    df = df.rename(columns = {'General Fund':'general_fund'})\n",
    "    \n",
    "    return df"
   ]
  },
  {
   "cell_type": "code",
   "execution_count": 86,
   "id": "cf667c4c",
   "metadata": {},
   "outputs": [],
   "source": [
    "fund_codes = load_fund_codes(\"lp2000_2023_fund_codes.xlsx\")"
   ]
  },
  {
   "cell_type": "code",
   "execution_count": 87,
   "id": "eed59562",
   "metadata": {},
   "outputs": [
    {
     "data": {
      "text/html": [
       "<div>\n",
       "<style scoped>\n",
       "    .dataframe tbody tr th:only-of-type {\n",
       "        vertical-align: middle;\n",
       "    }\n",
       "\n",
       "    .dataframe tbody tr th {\n",
       "        vertical-align: top;\n",
       "    }\n",
       "\n",
       "    .dataframe thead th {\n",
       "        text-align: right;\n",
       "    }\n",
       "</style>\n",
       "<table border=\"1\" class=\"dataframe\">\n",
       "  <thead>\n",
       "    <tr style=\"text-align: right;\">\n",
       "      <th></th>\n",
       "      <th>0001</th>\n",
       "      <th>general_fund</th>\n",
       "    </tr>\n",
       "  </thead>\n",
       "  <tbody>\n",
       "    <tr>\n",
       "      <th>12</th>\n",
       "      <td>6056</td>\n",
       "      <td>Trade Corridors Improvement Fund</td>\n",
       "    </tr>\n",
       "    <tr>\n",
       "      <th>5</th>\n",
       "      <td>3007</td>\n",
       "      <td>Traffic Congestion Relief Fund</td>\n",
       "    </tr>\n",
       "    <tr>\n",
       "      <th>3</th>\n",
       "      <td>0183</td>\n",
       "      <td>Environmental Enhanc &amp; Mitigat Prgm Fd</td>\n",
       "    </tr>\n",
       "  </tbody>\n",
       "</table>\n",
       "</div>"
      ],
      "text/plain": [
       "    0001                            general_fund\n",
       "12  6056        Trade Corridors Improvement Fund\n",
       "5   3007          Traffic Congestion Relief Fund\n",
       "3   0183  Environmental Enhanc & Mitigat Prgm Fd"
      ]
     },
     "execution_count": 87,
     "metadata": {},
     "output_type": "execute_result"
    }
   ],
   "source": [
    "fund_codes.sample(3)"
   ]
  },
  {
   "cell_type": "code",
   "execution_count": 88,
   "id": "990c4044",
   "metadata": {},
   "outputs": [],
   "source": [
    "fund_phase_df = pd.merge(accounting_df, fund_codes, left_on = ['fund_code'], right_on = ['0001'], how = 'left')\n",
    "fund_phase_df = fund_phase_df.drop(columns = ['0001'])"
   ]
  },
  {
   "cell_type": "code",
   "execution_count": 89,
   "id": "2d4e7ec1",
   "metadata": {},
   "outputs": [
    {
     "data": {
      "text/plain": [
       "4330"
      ]
     },
     "execution_count": 89,
     "metadata": {},
     "output_type": "execute_result"
    }
   ],
   "source": [
    "fund_phase_df.project_id.nunique()"
   ]
  },
  {
   "cell_type": "code",
   "execution_count": 90,
   "id": "67589974",
   "metadata": {},
   "outputs": [],
   "source": [
    "fund_phase_df.general_fund = fund_phase_df.general_fund.fillna('Unknown')"
   ]
  },
  {
   "cell_type": "code",
   "execution_count": 91,
   "id": "bc661a10",
   "metadata": {},
   "outputs": [
    {
     "data": {
      "text/plain": [
       "Federal Trust Fund                                   7464\n",
       "State Highway Account                                1563\n",
       "Unknown                                               505\n",
       "Road Maintenance & Rehabilitation Account, STF        424\n",
       "Local Bridge Seismic Retrofit Acct                     72\n",
       "Environmental Enhanc & Mitigat Prgm Fd                 56\n",
       "Transportation Investment Fund                         28\n",
       "Transportation Deferred Investment Fund                19\n",
       "Trade Corridor Enhancement Account, STF                18\n",
       "Trade Corridors Improvement Fund                       13\n",
       "Traffic Congestion Relief Fund                          8\n",
       "Highway Safety,Rehabilitation,& Preservation Acct       7\n",
       "State-Local Partnership Program Acct                    7\n",
       "Transportation Faciilities Account                      1\n",
       "Corridor Mobility Improvement Account                   1\n",
       "Name: general_fund, dtype: int64"
      ]
     },
     "execution_count": 91,
     "metadata": {},
     "output_type": "execute_result"
    }
   ],
   "source": [
    "fund_phase_df.general_fund.value_counts()"
   ]
  },
  {
   "cell_type": "code",
   "execution_count": 92,
   "id": "cc3fbc10",
   "metadata": {},
   "outputs": [],
   "source": [
    "# Sum up the money received by fund\n",
    "fund_phase_df_pivot1 = (fund_phase_df\n",
    "                  .groupby(['project_id','general_fund'])\n",
    "                  .agg({'curr_bud_am':'sum', \n",
    "                        'cash_exp_am':'sum'})\n",
    "                  .reset_index()\n",
    "                  .rename(columns = {'curr_bud_am':'single_phase_cost',\n",
    "                                    'cash_exp_am':'single_phase_expenditure'})\n",
    "                  )"
   ]
  },
  {
   "cell_type": "code",
   "execution_count": 93,
   "id": "f1f73846",
   "metadata": {},
   "outputs": [
    {
     "data": {
      "text/html": [
       "<div>\n",
       "<style scoped>\n",
       "    .dataframe tbody tr th:only-of-type {\n",
       "        vertical-align: middle;\n",
       "    }\n",
       "\n",
       "    .dataframe tbody tr th {\n",
       "        vertical-align: top;\n",
       "    }\n",
       "\n",
       "    .dataframe thead th {\n",
       "        text-align: right;\n",
       "    }\n",
       "</style>\n",
       "<table border=\"1\" class=\"dataframe\">\n",
       "  <thead>\n",
       "    <tr style=\"text-align: right;\">\n",
       "      <th></th>\n",
       "      <th>project_id</th>\n",
       "      <th>general_fund</th>\n",
       "      <th>single_phase_cost</th>\n",
       "      <th>single_phase_expenditure</th>\n",
       "    </tr>\n",
       "  </thead>\n",
       "  <tbody>\n",
       "    <tr>\n",
       "      <th>0</th>\n",
       "      <td>0001(002)</td>\n",
       "      <td>Federal Trust Fund</td>\n",
       "      <td>20743617.04</td>\n",
       "      <td>20743617.04</td>\n",
       "    </tr>\n",
       "    <tr>\n",
       "      <th>1</th>\n",
       "      <td>0014(005)</td>\n",
       "      <td>Federal Trust Fund</td>\n",
       "      <td>879983.23</td>\n",
       "      <td>879983.23</td>\n",
       "    </tr>\n",
       "    <tr>\n",
       "      <th>2</th>\n",
       "      <td>0027(012)</td>\n",
       "      <td>Federal Trust Fund</td>\n",
       "      <td>12830458.87</td>\n",
       "      <td>12830458.87</td>\n",
       "    </tr>\n",
       "    <tr>\n",
       "      <th>3</th>\n",
       "      <td>0061(025)</td>\n",
       "      <td>Federal Trust Fund</td>\n",
       "      <td>2595722.00</td>\n",
       "      <td>2595722.00</td>\n",
       "    </tr>\n",
       "    <tr>\n",
       "      <th>4</th>\n",
       "      <td>15A5(013)</td>\n",
       "      <td>Federal Trust Fund</td>\n",
       "      <td>172633.00</td>\n",
       "      <td>0.00</td>\n",
       "    </tr>\n",
       "  </tbody>\n",
       "</table>\n",
       "</div>"
      ],
      "text/plain": [
       "  project_id        general_fund  single_phase_cost  single_phase_expenditure\n",
       "0  0001(002)  Federal Trust Fund        20743617.04               20743617.04\n",
       "1  0014(005)  Federal Trust Fund          879983.23                 879983.23\n",
       "2  0027(012)  Federal Trust Fund        12830458.87               12830458.87\n",
       "3  0061(025)  Federal Trust Fund         2595722.00                2595722.00\n",
       "4  15A5(013)  Federal Trust Fund          172633.00                      0.00"
      ]
     },
     "execution_count": 93,
     "metadata": {},
     "output_type": "execute_result"
    }
   ],
   "source": [
    "fund_phase_df_pivot1.head()"
   ]
  },
  {
   "cell_type": "code",
   "execution_count": 94,
   "id": "6060dc89",
   "metadata": {},
   "outputs": [],
   "source": [
    "# No fund detail -> just want the total cost \n",
    "fund_phase_df_pivot2 = (fund_phase_df\n",
    "                  .groupby(['project_id'])\n",
    "                  .agg({'curr_bud_am':'sum', \n",
    "                        'cash_exp_am':'sum'})\n",
    "                  .reset_index()\n",
    "                  .rename(columns = {'curr_bud_am':'single_phase_cost',\n",
    "                                    'cash_exp_am':'single_phase_expenditure_amt'})\n",
    "                  )"
   ]
  },
  {
   "cell_type": "code",
   "execution_count": 95,
   "id": "108ba2d2",
   "metadata": {},
   "outputs": [
    {
     "data": {
      "text/html": [
       "<div>\n",
       "<style scoped>\n",
       "    .dataframe tbody tr th:only-of-type {\n",
       "        vertical-align: middle;\n",
       "    }\n",
       "\n",
       "    .dataframe tbody tr th {\n",
       "        vertical-align: top;\n",
       "    }\n",
       "\n",
       "    .dataframe thead th {\n",
       "        text-align: right;\n",
       "    }\n",
       "</style>\n",
       "<table border=\"1\" class=\"dataframe\">\n",
       "  <thead>\n",
       "    <tr style=\"text-align: right;\">\n",
       "      <th></th>\n",
       "      <th>project_id</th>\n",
       "      <th>single_phase_cost</th>\n",
       "      <th>single_phase_expenditure_amt</th>\n",
       "    </tr>\n",
       "  </thead>\n",
       "  <tbody>\n",
       "    <tr>\n",
       "      <th>0</th>\n",
       "      <td>0001(002)</td>\n",
       "      <td>20743617.04</td>\n",
       "      <td>20743617.04</td>\n",
       "    </tr>\n",
       "    <tr>\n",
       "      <th>1</th>\n",
       "      <td>0014(005)</td>\n",
       "      <td>879983.23</td>\n",
       "      <td>879983.23</td>\n",
       "    </tr>\n",
       "    <tr>\n",
       "      <th>2</th>\n",
       "      <td>0027(012)</td>\n",
       "      <td>12830458.87</td>\n",
       "      <td>12830458.87</td>\n",
       "    </tr>\n",
       "    <tr>\n",
       "      <th>3</th>\n",
       "      <td>0061(025)</td>\n",
       "      <td>2595722.00</td>\n",
       "      <td>2595722.00</td>\n",
       "    </tr>\n",
       "    <tr>\n",
       "      <th>4</th>\n",
       "      <td>15A5(013)</td>\n",
       "      <td>172633.00</td>\n",
       "      <td>0.00</td>\n",
       "    </tr>\n",
       "  </tbody>\n",
       "</table>\n",
       "</div>"
      ],
      "text/plain": [
       "  project_id  single_phase_cost  single_phase_expenditure_amt\n",
       "0  0001(002)        20743617.04                   20743617.04\n",
       "1  0014(005)          879983.23                     879983.23\n",
       "2  0027(012)        12830458.87                   12830458.87\n",
       "3  0061(025)         2595722.00                    2595722.00\n",
       "4  15A5(013)          172633.00                          0.00"
      ]
     },
     "execution_count": 95,
     "metadata": {},
     "output_type": "execute_result"
    }
   ],
   "source": [
    "fund_phase_df_pivot2.head()"
   ]
  },
  {
   "cell_type": "code",
   "execution_count": 96,
   "id": "499a97b5",
   "metadata": {},
   "outputs": [
    {
     "data": {
      "text/plain": [
       "4330"
      ]
     },
     "execution_count": 96,
     "metadata": {},
     "output_type": "execute_result"
    }
   ],
   "source": [
    "fund_phase_df_pivot2.project_id.nunique()"
   ]
  },
  {
   "cell_type": "code",
   "execution_count": 97,
   "id": "ad620b44",
   "metadata": {},
   "outputs": [],
   "source": [
    "# Pivot so general_fund will be the column names\n",
    "# https://stackoverflow.com/questions/22798934/pandas-long-to-wide-reshape-by-two-variables\n",
    "fund_phase_df_pivot1 = fund_phase_df_pivot1.pivot_table(index=['project_id'], columns='general_fund', \n",
    "                    values=['single_phase_cost'], aggfunc='sum')"
   ]
  },
  {
   "cell_type": "code",
   "execution_count": 98,
   "id": "4b8ac706",
   "metadata": {},
   "outputs": [],
   "source": [
    "fund_phase_df_pivot1.columns = fund_phase_df_pivot1.columns.droplevel()"
   ]
  },
  {
   "cell_type": "code",
   "execution_count": 99,
   "id": "5dc3d5e0",
   "metadata": {},
   "outputs": [],
   "source": [
    "fund_phase_df_pivot1 = fund_phase_df_pivot1.reset_index()"
   ]
  },
  {
   "cell_type": "code",
   "execution_count": 100,
   "id": "e53fe275",
   "metadata": {},
   "outputs": [],
   "source": [
    "fund_phase_df_pivot1 = _utils.to_snakecase(fund_phase_df_pivot1)"
   ]
  },
  {
   "cell_type": "code",
   "execution_count": 101,
   "id": "4491ab40",
   "metadata": {},
   "outputs": [],
   "source": [
    "# Find state fund only columns\n",
    "state_only_columns = list((fund_phase_df_pivot1.filter(regex='account|fd|acct|fund').columns))"
   ]
  },
  {
   "cell_type": "code",
   "execution_count": 102,
   "id": "0e29b5dc",
   "metadata": {},
   "outputs": [
    {
     "data": {
      "text/plain": [
       "['corridor_mobility_improvement_account',\n",
       " 'environmental_enhanc_&_mitigat_prgm_fd',\n",
       " 'federal_trust_fund',\n",
       " 'highway_safety,rehabilitation,&_preservation_acct',\n",
       " 'local_bridge_seismic_retrofit_acct',\n",
       " 'road_maintenance_&_rehabilitation_account,_stf',\n",
       " 'state_highway_account',\n",
       " 'state-local_partnership_program_acct',\n",
       " 'trade_corridor_enhancement_account,_stf',\n",
       " 'trade_corridors_improvement_fund',\n",
       " 'traffic_congestion_relief_fund',\n",
       " 'transportation_deferred_investment_fund',\n",
       " 'transportation_faciilities_account',\n",
       " 'transportation_investment_fund']"
      ]
     },
     "execution_count": 102,
     "metadata": {},
     "output_type": "execute_result"
    }
   ],
   "source": [
    "state_only_columns"
   ]
  },
  {
   "cell_type": "code",
   "execution_count": 103,
   "id": "65359dc1",
   "metadata": {},
   "outputs": [],
   "source": [
    "\n",
    "state_only_columns.remove('federal_trust_fund')"
   ]
  },
  {
   "cell_type": "code",
   "execution_count": 104,
   "id": "e0568769",
   "metadata": {},
   "outputs": [],
   "source": [
    "# Sum up all the state only funds\n",
    "fund_phase_df_pivot1['total_state_funds'] = fund_phase_df_pivot1[state_only_columns].sum(axis = 1).fillna(0)"
   ]
  },
  {
   "cell_type": "code",
   "execution_count": 105,
   "id": "5c6f2da7",
   "metadata": {},
   "outputs": [],
   "source": [
    "# Mask integers with bool\n",
    "fund_phase_df_pivot_bool = fund_phase_df_pivot1.fillna('No')"
   ]
  },
  {
   "cell_type": "code",
   "execution_count": 106,
   "id": "efd1406e",
   "metadata": {},
   "outputs": [],
   "source": [
    "fund_phase_df_pivot_bool = fund_phase_df_pivot_bool.mask(fund_phase_df_pivot_bool.apply(lambda x : pd.to_numeric(x,errors='coerce')).notnull(),'Yes')"
   ]
  },
  {
   "cell_type": "code",
   "execution_count": 107,
   "id": "de4dd1bf",
   "metadata": {},
   "outputs": [],
   "source": [
    "# Merge again so projects will have total budgeted amount\n",
    "# for the single phase and expenditure\n",
    "final_fund_phase_df = pd.merge(fund_phase_df_pivot1, fund_phase_df_pivot2, on = ['project_id'])"
   ]
  },
  {
   "cell_type": "code",
   "execution_count": 108,
   "id": "03047890",
   "metadata": {},
   "outputs": [],
   "source": [
    "# Make it clear about total federal funds\n",
    "final_fund_phase_df['total_federal_funds'] = final_fund_phase_df.federal_trust_fund"
   ]
  },
  {
   "cell_type": "code",
   "execution_count": 109,
   "id": "d81411fd",
   "metadata": {},
   "outputs": [
    {
     "data": {
      "text/plain": [
       "(4330, 20)"
      ]
     },
     "execution_count": 109,
     "metadata": {},
     "output_type": "execute_result"
    }
   ],
   "source": [
    "final_fund_phase_df.shape"
   ]
  },
  {
   "cell_type": "code",
   "execution_count": 110,
   "id": "e98e4b0a",
   "metadata": {},
   "outputs": [
    {
     "data": {
      "text/plain": [
       "4330"
      ]
     },
     "execution_count": 110,
     "metadata": {},
     "output_type": "execute_result"
    }
   ],
   "source": [
    "final_fund_phase_df.project_id.nunique()"
   ]
  },
  {
   "cell_type": "code",
   "execution_count": 111,
   "id": "417a220f",
   "metadata": {},
   "outputs": [],
   "source": [
    "final_fund_phase_df[\"is_state\"] = final_fund_phase_df.apply(_utils.is_state_funds, axis=1)"
   ]
  },
  {
   "cell_type": "code",
   "execution_count": 112,
   "id": "04ad9e81",
   "metadata": {},
   "outputs": [],
   "source": [
    "final_fund_phase_df[\"is_federal\"] = final_fund_phase_df.apply(_utils.is_fed_funds, axis=1)"
   ]
  },
  {
   "cell_type": "code",
   "execution_count": 113,
   "id": "e6911d49",
   "metadata": {},
   "outputs": [],
   "source": [
    "final_fund_phase_df = final_fund_phase_df.fillna(0)"
   ]
  },
  {
   "cell_type": "code",
   "execution_count": 114,
   "id": "85bdef30",
   "metadata": {},
   "outputs": [],
   "source": [
    "to_keep = ['project_id',  'single_phase_cost',\n",
    "       'single_phase_expenditure_amt', 'total_state_funds','total_federal_funds', 'is_state',\n",
    "       'is_federal']"
   ]
  },
  {
   "cell_type": "code",
   "execution_count": 115,
   "id": "9a936952",
   "metadata": {},
   "outputs": [],
   "source": [
    "final_fund_phase_df2 = final_fund_phase_df[to_keep]"
   ]
  },
  {
   "cell_type": "code",
   "execution_count": 116,
   "id": "41b0c099",
   "metadata": {
    "scrolled": true
   },
   "outputs": [
    {
     "data": {
      "text/html": [
       "<div>\n",
       "<style scoped>\n",
       "    .dataframe tbody tr th:only-of-type {\n",
       "        vertical-align: middle;\n",
       "    }\n",
       "\n",
       "    .dataframe tbody tr th {\n",
       "        vertical-align: top;\n",
       "    }\n",
       "\n",
       "    .dataframe thead th {\n",
       "        text-align: right;\n",
       "    }\n",
       "</style>\n",
       "<table border=\"1\" class=\"dataframe\">\n",
       "  <thead>\n",
       "    <tr style=\"text-align: right;\">\n",
       "      <th></th>\n",
       "      <th>project_id</th>\n",
       "      <th>corridor_mobility_improvement_account</th>\n",
       "      <th>environmental_enhanc_&amp;_mitigat_prgm_fd</th>\n",
       "      <th>federal_trust_fund</th>\n",
       "      <th>highway_safety,rehabilitation,&amp;_preservation_acct</th>\n",
       "      <th>local_bridge_seismic_retrofit_acct</th>\n",
       "      <th>road_maintenance_&amp;_rehabilitation_account,_stf</th>\n",
       "      <th>state_highway_account</th>\n",
       "      <th>state-local_partnership_program_acct</th>\n",
       "      <th>trade_corridor_enhancement_account,_stf</th>\n",
       "      <th>trade_corridors_improvement_fund</th>\n",
       "      <th>traffic_congestion_relief_fund</th>\n",
       "      <th>transportation_deferred_investment_fund</th>\n",
       "      <th>transportation_faciilities_account</th>\n",
       "      <th>transportation_investment_fund</th>\n",
       "      <th>unknown</th>\n",
       "      <th>total_state_funds</th>\n",
       "      <th>single_phase_cost</th>\n",
       "      <th>single_phase_expenditure_amt</th>\n",
       "      <th>total_federal_funds</th>\n",
       "      <th>is_state</th>\n",
       "      <th>is_federal</th>\n",
       "    </tr>\n",
       "  </thead>\n",
       "  <tbody>\n",
       "    <tr>\n",
       "      <th>55</th>\n",
       "      <td>18D3(041)</td>\n",
       "      <td>0.00</td>\n",
       "      <td>0.00</td>\n",
       "      <td>0.00</td>\n",
       "      <td>0.00</td>\n",
       "      <td>0.00</td>\n",
       "      <td>0.00</td>\n",
       "      <td>0.00</td>\n",
       "      <td>0.00</td>\n",
       "      <td>0.00</td>\n",
       "      <td>0.00</td>\n",
       "      <td>0.00</td>\n",
       "      <td>0.00</td>\n",
       "      <td>0.00</td>\n",
       "      <td>0.00</td>\n",
       "      <td>0.00</td>\n",
       "      <td>0.00</td>\n",
       "      <td>0.00</td>\n",
       "      <td>0.00</td>\n",
       "      <td>0.00</td>\n",
       "      <td>No</td>\n",
       "      <td>No</td>\n",
       "    </tr>\n",
       "    <tr>\n",
       "      <th>57</th>\n",
       "      <td>2006(034)</td>\n",
       "      <td>0.00</td>\n",
       "      <td>0.00</td>\n",
       "      <td>0.00</td>\n",
       "      <td>0.00</td>\n",
       "      <td>0.00</td>\n",
       "      <td>0.00</td>\n",
       "      <td>0.00</td>\n",
       "      <td>0.00</td>\n",
       "      <td>0.00</td>\n",
       "      <td>0.00</td>\n",
       "      <td>0.00</td>\n",
       "      <td>0.00</td>\n",
       "      <td>0.00</td>\n",
       "      <td>0.00</td>\n",
       "      <td>0.00</td>\n",
       "      <td>0.00</td>\n",
       "      <td>0.00</td>\n",
       "      <td>0.00</td>\n",
       "      <td>0.00</td>\n",
       "      <td>No</td>\n",
       "      <td>No</td>\n",
       "    </tr>\n",
       "    <tr>\n",
       "      <th>58</th>\n",
       "      <td>2006(048)</td>\n",
       "      <td>0.00</td>\n",
       "      <td>0.00</td>\n",
       "      <td>0.00</td>\n",
       "      <td>0.00</td>\n",
       "      <td>0.00</td>\n",
       "      <td>0.00</td>\n",
       "      <td>0.00</td>\n",
       "      <td>0.00</td>\n",
       "      <td>0.00</td>\n",
       "      <td>0.00</td>\n",
       "      <td>0.00</td>\n",
       "      <td>0.00</td>\n",
       "      <td>0.00</td>\n",
       "      <td>0.00</td>\n",
       "      <td>0.00</td>\n",
       "      <td>0.00</td>\n",
       "      <td>0.00</td>\n",
       "      <td>0.00</td>\n",
       "      <td>0.00</td>\n",
       "      <td>No</td>\n",
       "      <td>No</td>\n",
       "    </tr>\n",
       "    <tr>\n",
       "      <th>59</th>\n",
       "      <td>2006(049)</td>\n",
       "      <td>0.00</td>\n",
       "      <td>0.00</td>\n",
       "      <td>0.00</td>\n",
       "      <td>0.00</td>\n",
       "      <td>0.00</td>\n",
       "      <td>0.00</td>\n",
       "      <td>0.00</td>\n",
       "      <td>0.00</td>\n",
       "      <td>0.00</td>\n",
       "      <td>0.00</td>\n",
       "      <td>0.00</td>\n",
       "      <td>0.00</td>\n",
       "      <td>0.00</td>\n",
       "      <td>0.00</td>\n",
       "      <td>0.00</td>\n",
       "      <td>0.00</td>\n",
       "      <td>0.00</td>\n",
       "      <td>0.00</td>\n",
       "      <td>0.00</td>\n",
       "      <td>No</td>\n",
       "      <td>No</td>\n",
       "    </tr>\n",
       "    <tr>\n",
       "      <th>60</th>\n",
       "      <td>2006(053)</td>\n",
       "      <td>0.00</td>\n",
       "      <td>0.00</td>\n",
       "      <td>0.00</td>\n",
       "      <td>0.00</td>\n",
       "      <td>0.00</td>\n",
       "      <td>0.00</td>\n",
       "      <td>0.00</td>\n",
       "      <td>0.00</td>\n",
       "      <td>0.00</td>\n",
       "      <td>0.00</td>\n",
       "      <td>0.00</td>\n",
       "      <td>0.00</td>\n",
       "      <td>0.00</td>\n",
       "      <td>0.00</td>\n",
       "      <td>0.00</td>\n",
       "      <td>0.00</td>\n",
       "      <td>0.00</td>\n",
       "      <td>0.00</td>\n",
       "      <td>0.00</td>\n",
       "      <td>No</td>\n",
       "      <td>No</td>\n",
       "    </tr>\n",
       "  </tbody>\n",
       "</table>\n",
       "</div>"
      ],
      "text/plain": [
       "   project_id  corridor_mobility_improvement_account  \\\n",
       "55  18D3(041)                                   0.00   \n",
       "57  2006(034)                                   0.00   \n",
       "58  2006(048)                                   0.00   \n",
       "59  2006(049)                                   0.00   \n",
       "60  2006(053)                                   0.00   \n",
       "\n",
       "    environmental_enhanc_&_mitigat_prgm_fd  federal_trust_fund  \\\n",
       "55                                    0.00                0.00   \n",
       "57                                    0.00                0.00   \n",
       "58                                    0.00                0.00   \n",
       "59                                    0.00                0.00   \n",
       "60                                    0.00                0.00   \n",
       "\n",
       "    highway_safety,rehabilitation,&_preservation_acct  \\\n",
       "55                                               0.00   \n",
       "57                                               0.00   \n",
       "58                                               0.00   \n",
       "59                                               0.00   \n",
       "60                                               0.00   \n",
       "\n",
       "    local_bridge_seismic_retrofit_acct  \\\n",
       "55                                0.00   \n",
       "57                                0.00   \n",
       "58                                0.00   \n",
       "59                                0.00   \n",
       "60                                0.00   \n",
       "\n",
       "    road_maintenance_&_rehabilitation_account,_stf  state_highway_account  \\\n",
       "55                                            0.00                   0.00   \n",
       "57                                            0.00                   0.00   \n",
       "58                                            0.00                   0.00   \n",
       "59                                            0.00                   0.00   \n",
       "60                                            0.00                   0.00   \n",
       "\n",
       "    state-local_partnership_program_acct  \\\n",
       "55                                  0.00   \n",
       "57                                  0.00   \n",
       "58                                  0.00   \n",
       "59                                  0.00   \n",
       "60                                  0.00   \n",
       "\n",
       "    trade_corridor_enhancement_account,_stf  trade_corridors_improvement_fund  \\\n",
       "55                                     0.00                              0.00   \n",
       "57                                     0.00                              0.00   \n",
       "58                                     0.00                              0.00   \n",
       "59                                     0.00                              0.00   \n",
       "60                                     0.00                              0.00   \n",
       "\n",
       "    traffic_congestion_relief_fund  transportation_deferred_investment_fund  \\\n",
       "55                            0.00                                     0.00   \n",
       "57                            0.00                                     0.00   \n",
       "58                            0.00                                     0.00   \n",
       "59                            0.00                                     0.00   \n",
       "60                            0.00                                     0.00   \n",
       "\n",
       "    transportation_faciilities_account  transportation_investment_fund  \\\n",
       "55                                0.00                            0.00   \n",
       "57                                0.00                            0.00   \n",
       "58                                0.00                            0.00   \n",
       "59                                0.00                            0.00   \n",
       "60                                0.00                            0.00   \n",
       "\n",
       "    unknown  total_state_funds  single_phase_cost  \\\n",
       "55     0.00               0.00               0.00   \n",
       "57     0.00               0.00               0.00   \n",
       "58     0.00               0.00               0.00   \n",
       "59     0.00               0.00               0.00   \n",
       "60     0.00               0.00               0.00   \n",
       "\n",
       "    single_phase_expenditure_amt  total_federal_funds is_state is_federal  \n",
       "55                          0.00                 0.00       No         No  \n",
       "57                          0.00                 0.00       No         No  \n",
       "58                          0.00                 0.00       No         No  \n",
       "59                          0.00                 0.00       No         No  \n",
       "60                          0.00                 0.00       No         No  "
      ]
     },
     "execution_count": 116,
     "metadata": {},
     "output_type": "execute_result"
    }
   ],
   "source": [
    "final_fund_phase_df.loc[(final_fund_phase_df.is_state == \"No\") & (final_fund_phase_df.is_federal == \"No\")].head()"
   ]
  },
  {
   "cell_type": "code",
   "execution_count": 117,
   "id": "2f222fad",
   "metadata": {},
   "outputs": [
    {
     "data": {
      "text/html": [
       "<div>\n",
       "<style scoped>\n",
       "    .dataframe tbody tr th:only-of-type {\n",
       "        vertical-align: middle;\n",
       "    }\n",
       "\n",
       "    .dataframe tbody tr th {\n",
       "        vertical-align: top;\n",
       "    }\n",
       "\n",
       "    .dataframe thead th {\n",
       "        text-align: right;\n",
       "    }\n",
       "</style>\n",
       "<table border=\"1\" class=\"dataframe\">\n",
       "  <thead>\n",
       "    <tr style=\"text-align: right;\">\n",
       "      <th></th>\n",
       "      <th></th>\n",
       "      <th>project_id</th>\n",
       "    </tr>\n",
       "    <tr>\n",
       "      <th>is_state</th>\n",
       "      <th>is_federal</th>\n",
       "      <th></th>\n",
       "    </tr>\n",
       "  </thead>\n",
       "  <tbody>\n",
       "    <tr>\n",
       "      <th rowspan=\"2\" valign=\"top\">No</th>\n",
       "      <th>No</th>\n",
       "      <td>448</td>\n",
       "    </tr>\n",
       "    <tr>\n",
       "      <th>Yes</th>\n",
       "      <td>2500</td>\n",
       "    </tr>\n",
       "    <tr>\n",
       "      <th rowspan=\"2\" valign=\"top\">Yes</th>\n",
       "      <th>No</th>\n",
       "      <td>1247</td>\n",
       "    </tr>\n",
       "    <tr>\n",
       "      <th>Yes</th>\n",
       "      <td>135</td>\n",
       "    </tr>\n",
       "  </tbody>\n",
       "</table>\n",
       "</div>"
      ],
      "text/plain": [
       "                     project_id\n",
       "is_state is_federal            \n",
       "No       No                 448\n",
       "         Yes               2500\n",
       "Yes      No                1247\n",
       "         Yes                135"
      ]
     },
     "execution_count": 117,
     "metadata": {},
     "output_type": "execute_result"
    }
   ],
   "source": [
    "final_fund_phase_df.groupby(['is_state', 'is_federal']).agg({'project_id':'nunique'})"
   ]
  },
  {
   "cell_type": "markdown",
   "id": "31cc5696",
   "metadata": {},
   "source": [
    "### Double Checking\n",
    "* Make sure the project flag is correct"
   ]
  },
  {
   "cell_type": "code",
   "execution_count": 118,
   "id": "e71ef88d",
   "metadata": {},
   "outputs": [],
   "source": [
    "# fund_phase_df.project_id.value_counts().head()"
   ]
  },
  {
   "cell_type": "code",
   "execution_count": 119,
   "id": "87447a97",
   "metadata": {},
   "outputs": [],
   "source": [
    "# final_fund_phase_df.loc[final_fund_phase_df.project_id == '5944(068)'].style.where(lambda val: 'Yes' in str(val), 'color: red')"
   ]
  },
  {
   "cell_type": "code",
   "execution_count": 120,
   "id": "ff83f49b",
   "metadata": {},
   "outputs": [],
   "source": [
    "# fund_phase_df.loc[fund_phase_df.project_id == '5944(068)']"
   ]
  },
  {
   "cell_type": "code",
   "execution_count": 121,
   "id": "f8a7cc78",
   "metadata": {},
   "outputs": [],
   "source": [
    "# fund_phase_df.loc[(fund_phase_df.project_id == '5944(068)')&(fund_phase_df.general_fund == 'Federal Trust Fund')][['curr_bud_am']].sum()"
   ]
  },
  {
   "cell_type": "code",
   "execution_count": 122,
   "id": "f8d7e6c6",
   "metadata": {},
   "outputs": [],
   "source": [
    "# fund_phase_df.loc[fund_phase_df.project_id == '5944(068)'][['curr_bud_am']].sum()"
   ]
  },
  {
   "cell_type": "code",
   "execution_count": 123,
   "id": "ef5bdbcc",
   "metadata": {},
   "outputs": [],
   "source": [
    "# final_fund_phase_df.loc[final_fund_phase_df.project_id == '5944(068)'].total_state_funds + final_fund_phase_df.loc[final_fund_phase_df.project_id == '5944(068)'].federal_trust_fund"
   ]
  },
  {
   "cell_type": "code",
   "execution_count": 124,
   "id": "bbce5cbd",
   "metadata": {},
   "outputs": [],
   "source": [
    "# final_fund_phase_df.loc[final_fund_phase_df.project_id == '5006(219)']"
   ]
  },
  {
   "cell_type": "code",
   "execution_count": 125,
   "id": "f61fbd0b",
   "metadata": {},
   "outputs": [],
   "source": [
    "# fund_phase_df.loc[(fund_phase_df.project_id == '5006(219)')&(fund_phase_df.general_fund == 'Federal Trust Fund')][['curr_bud_am']].sum()"
   ]
  },
  {
   "cell_type": "code",
   "execution_count": 126,
   "id": "9eb9c539",
   "metadata": {},
   "outputs": [
    {
     "data": {
      "text/plain": [
       "33196653.86"
      ]
     },
     "execution_count": 126,
     "metadata": {},
     "output_type": "execute_result"
    }
   ],
   "source": [
    "229400.00 + 32967253.86"
   ]
  },
  {
   "cell_type": "code",
   "execution_count": 127,
   "id": "a12dbb0c",
   "metadata": {},
   "outputs": [],
   "source": [
    "# fund_phase_df.loc[fund_phase_df.project_id ==  '5006(219)']"
   ]
  },
  {
   "cell_type": "markdown",
   "id": "46c290bd",
   "metadata": {},
   "source": [
    "## Awards Table\n",
    "* Appropriation code is the fiscal year of award\n"
   ]
  },
  {
   "cell_type": "code",
   "execution_count": 128,
   "id": "8d2670d1",
   "metadata": {},
   "outputs": [
    {
     "data": {
      "text/html": [
       "<div>\n",
       "<style scoped>\n",
       "    .dataframe tbody tr th:only-of-type {\n",
       "        vertical-align: middle;\n",
       "    }\n",
       "\n",
       "    .dataframe tbody tr th {\n",
       "        vertical-align: top;\n",
       "    }\n",
       "\n",
       "    .dataframe thead th {\n",
       "        text-align: right;\n",
       "    }\n",
       "</style>\n",
       "<table border=\"1\" class=\"dataframe\">\n",
       "  <thead>\n",
       "    <tr style=\"text-align: right;\">\n",
       "      <th></th>\n",
       "      <th>adv_project_id</th>\n",
       "      <th>fund_code</th>\n",
       "      <th>pec_code</th>\n",
       "      <th>appropriation_category_code</th>\n",
       "      <th>curr_bud_am</th>\n",
       "      <th>cash_exp_am</th>\n",
       "      <th>pect_task_code</th>\n",
       "      <th>project_id</th>\n",
       "      <th>pec</th>\n",
       "      <th>pect</th>\n",
       "      <th>pect_description</th>\n",
       "      <th>program</th>\n",
       "    </tr>\n",
       "  </thead>\n",
       "  <tbody>\n",
       "    <tr>\n",
       "      <th>8504</th>\n",
       "      <td>1013000080</td>\n",
       "      <td>0042</td>\n",
       "      <td>2030600</td>\n",
       "      <td>1213</td>\n",
       "      <td>25000.00</td>\n",
       "      <td>25000.00</td>\n",
       "      <td>621</td>\n",
       "      <td>5940(103)</td>\n",
       "      <td>2030600</td>\n",
       "      <td>621.00</td>\n",
       "      <td>Local Roads Rehabilitation</td>\n",
       "      <td>State Transportation Improvement Program (STIP)</td>\n",
       "    </tr>\n",
       "  </tbody>\n",
       "</table>\n",
       "</div>"
      ],
      "text/plain": [
       "     adv_project_id fund_code pec_code appropriation_category_code  \\\n",
       "8504     1013000080      0042  2030600                        1213   \n",
       "\n",
       "      curr_bud_am  cash_exp_am  pect_task_code project_id      pec   pect  \\\n",
       "8504     25000.00     25000.00             621  5940(103)  2030600 621.00   \n",
       "\n",
       "                pect_description  \\\n",
       "8504  Local Roads Rehabilitation   \n",
       "\n",
       "                                              program  \n",
       "8504  State Transportation Improvement Program (STIP)  "
      ]
     },
     "execution_count": 128,
     "metadata": {},
     "output_type": "execute_result"
    }
   ],
   "source": [
    "pect_df.sample()"
   ]
  },
  {
   "cell_type": "code",
   "execution_count": 129,
   "id": "d48c1f0f",
   "metadata": {},
   "outputs": [
    {
     "data": {
      "text/html": [
       "<div>\n",
       "<style scoped>\n",
       "    .dataframe tbody tr th:only-of-type {\n",
       "        vertical-align: middle;\n",
       "    }\n",
       "\n",
       "    .dataframe tbody tr th {\n",
       "        vertical-align: top;\n",
       "    }\n",
       "\n",
       "    .dataframe thead th {\n",
       "        text-align: right;\n",
       "    }\n",
       "</style>\n",
       "<table border=\"1\" class=\"dataframe\">\n",
       "  <thead>\n",
       "    <tr style=\"text-align: right;\">\n",
       "      <th></th>\n",
       "      <th>adv_project_id</th>\n",
       "      <th>fund_code</th>\n",
       "      <th>pec_code</th>\n",
       "      <th>appropriation_category_code</th>\n",
       "      <th>curr_bud_am</th>\n",
       "      <th>cash_exp_am</th>\n",
       "      <th>pect_task_code</th>\n",
       "      <th>project_id</th>\n",
       "    </tr>\n",
       "  </thead>\n",
       "  <tbody>\n",
       "    <tr>\n",
       "      <th>6581</th>\n",
       "      <td>0718000255</td>\n",
       "      <td>0890</td>\n",
       "      <td>2030010</td>\n",
       "      <td>2122</td>\n",
       "      <td>1238310.00</td>\n",
       "      <td>0.00</td>\n",
       "      <td>550</td>\n",
       "      <td>5257(037)</td>\n",
       "    </tr>\n",
       "  </tbody>\n",
       "</table>\n",
       "</div>"
      ],
      "text/plain": [
       "     adv_project_id fund_code pec_code appropriation_category_code  \\\n",
       "6581     0718000255      0890  2030010                        2122   \n",
       "\n",
       "      curr_bud_am  cash_exp_am  pect_task_code project_id  \n",
       "6581   1238310.00         0.00             550  5257(037)  "
      ]
     },
     "execution_count": 129,
     "metadata": {},
     "output_type": "execute_result"
    }
   ],
   "source": [
    "accounting_df.sample()"
   ]
  },
  {
   "cell_type": "code",
   "execution_count": 130,
   "id": "2c9cca16",
   "metadata": {},
   "outputs": [],
   "source": [
    "# Only want the most recent year of a pec_code listed once\n",
    "awards_df = (pect_df\n",
    "                  .groupby(['project_id', 'program'])\n",
    "                  .agg({'appropriation_category_code':'max'})\n",
    "                  .reset_index()\n",
    "                  .rename(columns = {'appropriation_category_code':'state_fiscal_awarded_year',\n",
    "                                     'program':'grant_program'})\n",
    "                  )"
   ]
  },
  {
   "cell_type": "markdown",
   "id": "3de7091b",
   "metadata": {},
   "source": [
    "## Checks"
   ]
  },
  {
   "cell_type": "code",
   "execution_count": 131,
   "id": "b7c63b95",
   "metadata": {},
   "outputs": [
    {
     "data": {
      "text/plain": [
       "6066(140)    3\n",
       "5938(233)    3\n",
       "5956(221)    3\n",
       "5182(058)    3\n",
       "5475(038)    3\n",
       "Name: project_id, dtype: int64"
      ]
     },
     "execution_count": 131,
     "metadata": {},
     "output_type": "execute_result"
    }
   ],
   "source": [
    "awards_df.project_id.value_counts().head()"
   ]
  },
  {
   "cell_type": "code",
   "execution_count": 132,
   "id": "da2a3dcc",
   "metadata": {},
   "outputs": [
    {
     "data": {
      "text/html": [
       "<div>\n",
       "<style scoped>\n",
       "    .dataframe tbody tr th:only-of-type {\n",
       "        vertical-align: middle;\n",
       "    }\n",
       "\n",
       "    .dataframe tbody tr th {\n",
       "        vertical-align: top;\n",
       "    }\n",
       "\n",
       "    .dataframe thead th {\n",
       "        text-align: right;\n",
       "    }\n",
       "</style>\n",
       "<table border=\"1\" class=\"dataframe\">\n",
       "  <thead>\n",
       "    <tr style=\"text-align: right;\">\n",
       "      <th></th>\n",
       "      <th>project_id</th>\n",
       "      <th>grant_program</th>\n",
       "      <th>state_fiscal_awarded_year</th>\n",
       "    </tr>\n",
       "  </thead>\n",
       "  <tbody>\n",
       "    <tr>\n",
       "      <th>1550</th>\n",
       "      <td>5182(058)</td>\n",
       "      <td>Active Transportation Program (ATP)</td>\n",
       "      <td>2223</td>\n",
       "    </tr>\n",
       "    <tr>\n",
       "      <th>1551</th>\n",
       "      <td>5182(058)</td>\n",
       "      <td>Local Assistance</td>\n",
       "      <td>2223</td>\n",
       "    </tr>\n",
       "    <tr>\n",
       "      <th>1552</th>\n",
       "      <td>5182(058)</td>\n",
       "      <td>Proposition 1B, Hwy Safety, Traffic Reduction, Air Quality , and Port Security Bond Act of 2006, and SB 1: The Road Repair and Accountability Act of 2017</td>\n",
       "      <td>2122</td>\n",
       "    </tr>\n",
       "  </tbody>\n",
       "</table>\n",
       "</div>"
      ],
      "text/plain": [
       "     project_id  \\\n",
       "1550  5182(058)   \n",
       "1551  5182(058)   \n",
       "1552  5182(058)   \n",
       "\n",
       "                                                                                                                                                  grant_program  \\\n",
       "1550                                                                                                                        Active Transportation Program (ATP)   \n",
       "1551                                                                                                                                           Local Assistance   \n",
       "1552  Proposition 1B, Hwy Safety, Traffic Reduction, Air Quality , and Port Security Bond Act of 2006, and SB 1: The Road Repair and Accountability Act of 2017   \n",
       "\n",
       "     state_fiscal_awarded_year  \n",
       "1550                      2223  \n",
       "1551                      2223  \n",
       "1552                      2122  "
      ]
     },
     "execution_count": 132,
     "metadata": {},
     "output_type": "execute_result"
    }
   ],
   "source": [
    "awards_df.loc[awards_df.project_id == \"5182(058)\"]"
   ]
  },
  {
   "cell_type": "code",
   "execution_count": 133,
   "id": "d6d426ce",
   "metadata": {},
   "outputs": [],
   "source": [
    "# Check original df \n",
    "# pect_df.loc[pect_df.project_id == \"5182(058)\"]"
   ]
  },
  {
   "cell_type": "code",
   "execution_count": 134,
   "id": "887d4afd",
   "metadata": {},
   "outputs": [],
   "source": [
    "# project_df[project_df.project_id ==  \"5288(046)\"].style.where(lambda val: 'Yes' in str(val), 'color: red')"
   ]
  },
  {
   "cell_type": "code",
   "execution_count": 135,
   "id": "8bb2e36c",
   "metadata": {},
   "outputs": [
    {
     "data": {
      "text/html": [
       "<div>\n",
       "<style scoped>\n",
       "    .dataframe tbody tr th:only-of-type {\n",
       "        vertical-align: middle;\n",
       "    }\n",
       "\n",
       "    .dataframe tbody tr th {\n",
       "        vertical-align: top;\n",
       "    }\n",
       "\n",
       "    .dataframe thead th {\n",
       "        text-align: right;\n",
       "    }\n",
       "</style>\n",
       "<table border=\"1\" class=\"dataframe\">\n",
       "  <thead>\n",
       "    <tr style=\"text-align: right;\">\n",
       "      <th></th>\n",
       "      <th>project_id</th>\n",
       "      <th>grant_program</th>\n",
       "      <th>state_fiscal_awarded_year</th>\n",
       "    </tr>\n",
       "  </thead>\n",
       "  <tbody>\n",
       "    <tr>\n",
       "      <th>2442</th>\n",
       "      <td>5475(038)</td>\n",
       "      <td>Active Transportation Program (ATP)</td>\n",
       "      <td>2223</td>\n",
       "    </tr>\n",
       "    <tr>\n",
       "      <th>2443</th>\n",
       "      <td>5475(038)</td>\n",
       "      <td>Local Assistance</td>\n",
       "      <td>2223</td>\n",
       "    </tr>\n",
       "    <tr>\n",
       "      <th>2444</th>\n",
       "      <td>5475(038)</td>\n",
       "      <td>Proposition 1B, Hwy Safety, Traffic Reduction, Air Quality , and Port Security Bond Act of 2006, and SB 1: The Road Repair and Accountability Act of 2017</td>\n",
       "      <td>2122</td>\n",
       "    </tr>\n",
       "  </tbody>\n",
       "</table>\n",
       "</div>"
      ],
      "text/plain": [
       "     project_id  \\\n",
       "2442  5475(038)   \n",
       "2443  5475(038)   \n",
       "2444  5475(038)   \n",
       "\n",
       "                                                                                                                                                  grant_program  \\\n",
       "2442                                                                                                                        Active Transportation Program (ATP)   \n",
       "2443                                                                                                                                           Local Assistance   \n",
       "2444  Proposition 1B, Hwy Safety, Traffic Reduction, Air Quality , and Port Security Bond Act of 2006, and SB 1: The Road Repair and Accountability Act of 2017   \n",
       "\n",
       "     state_fiscal_awarded_year  \n",
       "2442                      2223  \n",
       "2443                      2223  \n",
       "2444                      2122  "
      ]
     },
     "execution_count": 135,
     "metadata": {},
     "output_type": "execute_result"
    }
   ],
   "source": [
    "awards_df.loc[awards_df.project_id == \"5475(038)\"]"
   ]
  },
  {
   "cell_type": "code",
   "execution_count": 136,
   "id": "42649961",
   "metadata": {},
   "outputs": [],
   "source": [
    "# Check original df \n",
    "# pect_df.loc[pect_df.project_id ==  \"5475(038)\"]"
   ]
  },
  {
   "cell_type": "code",
   "execution_count": 137,
   "id": "ebc41d72",
   "metadata": {},
   "outputs": [
    {
     "data": {
      "text/html": [
       "<style  type=\"text/css\" >\n",
       "#T_b81e5_row0_col20,#T_b81e5_row0_col24,#T_b81e5_row0_col47,#T_b81e5_row0_col53{\n",
       "            color:  red;\n",
       "        }</style><table id=\"T_b81e5_\" ><thead>    <tr>        <th class=\"blank level0\" ></th>        <th class=\"col_heading level0 col0\" >project_id</th>        <th class=\"col_heading level0 col1\" >comment_desc</th>        <th class=\"col_heading level0 col2\" >district_code</th>        <th class=\"col_heading level0 col3\" >est_total_prj_costs</th>        <th class=\"col_heading level0 col4\" >location_name</th>        <th class=\"col_heading level0 col5\" >project_label_name</th>        <th class=\"col_heading level0 col6\" >original_post_mile_begin_id</th>        <th class=\"col_heading level0 col7\" >original_post_mile_end_id</th>        <th class=\"col_heading level0 col8\" >revised_post_mile_begin_ind</th>        <th class=\"col_heading level0 col9\" >revised_post_mile_end_ind</th>        <th class=\"col_heading level0 col10\" >route_name</th>        <th class=\"col_heading level0 col11\" >state_hwy_ind</th>        <th class=\"col_heading level0 col12\" >senate_district_code</th>        <th class=\"col_heading level0 col13\" >update_date_time</th>        <th class=\"col_heading level0 col14\" >agency_name</th>        <th class=\"col_heading level0 col15\" >urban_area_code</th>        <th class=\"col_heading level0 col16\" >county_name</th>        <th class=\"col_heading level0 col17\" >work_type_desc</th>        <th class=\"col_heading level0 col18\" >category_desc</th>        <th class=\"col_heading level0 col19\" >current_phase</th>        <th class=\"col_heading level0 col20\" >active_transportation_program_(atp)</th>        <th class=\"col_heading level0 col21\" >bridge_inspection_&_scour_evaluation</th>        <th class=\"col_heading level0 col22\" >covid_relief_funds_for_highway_infrastructure_programs_for_stip-covid_augmentation</th>        <th class=\"col_heading level0 col23\" >carbon_reduction_program_(crp)</th>        <th class=\"col_heading level0 col24\" >congestion_mitigation_&_air_quality_improvement_program_(cmaq)</th>        <th class=\"col_heading level0 col25\" >coronavirus_response_and_relief_supplemental_appropriations_act_(crrsaa)_funds</th>        <th class=\"col_heading level0 col26\" >corridor_mobility_improvement_account_(cmia)_program</th>        <th class=\"col_heading level0 col27\" >county_exchange_funds</th>        <th class=\"col_heading level0 col28\" >county_state_match_program</th>        <th class=\"col_heading level0 col29\" >earmarks_projects_(hpp,_demo_cpfcds,_etc.)</th>        <th class=\"col_heading level0 col30\" >emergency_relief_(er)</th>        <th class=\"col_heading level0 col31\" >ferry_boat_program_(fbp)_and_ferry_boat_discretionary_(fbd)_program</th>        <th class=\"col_heading level0 col32\" >funds_for_planning,_programming_and_monitoring_-_rip</th>        <th class=\"col_heading level0 col33\" >general_funded_designated_programs</th>        <th class=\"col_heading level0 col34\" >hazard_elimination_safety_(hes)</th>        <th class=\"col_heading level0 col35\" >high_risk_rural_roads_program_(hr3)</th>        <th class=\"col_heading level0 col36\" >highway_bridge_</th>        <th class=\"col_heading level0 col37\" >highway_safety_improvement_program_(hsip)_(infrastructure)-state_fund</th>        <th class=\"col_heading level0 col38\" >highway_safety_improvement_program_(hsip)_(non-infrastructure)</th>        <th class=\"col_heading level0 col39\" >highway_safety_improvement_program_(hsip)(infrastructure)-federal_fund</th>        <th class=\"col_heading level0 col40\" >local_partnership_program_(lpp_–_competitive)_</th>        <th class=\"col_heading level0 col41\" >local_roads</th>        <th class=\"col_heading level0 col42\" >local_roads_rehabilitation</th>        <th class=\"col_heading level0 col43\" >railroad_grade_crossing_protection</th>        <th class=\"col_heading level0 col44\" >railroad_grade_separations</th>        <th class=\"col_heading level0 col45\" >rebuilding_american_infrastructure_with_sustainability_and_equity_(raise)_and_multimodal_project_discretionary_grant_programs_(e.g.,_infra,_mega,_rstg_or_rural)_</th>        <th class=\"col_heading level0 col46\" >regional_improvement_program_–_regional_share_of_stip_transportation_enhancement_(off_system)</th>        <th class=\"col_heading level0 col47\" >regional_surface_transportation_block_grant_program_(rstbgp)_and_highway_infrastructure_program_(hip)</th>        <th class=\"col_heading level0 col48\" >regional_transportation_planning_agency_(rtpa)_stp_match_exchange</th>        <th class=\"col_heading level0 col49\" >sb1_funded_freeway_service_patrol</th>        <th class=\"col_heading level0 col50\" >shopp-_traffic_light_synchronization_program_(tlsp)-_proposition_1b_bond_funds</th>        <th class=\"col_heading level0 col51\" >safe_routes_to_school_(sr2s_and_srts)</th>        <th class=\"col_heading level0 col52\" >set-aside_coordinated_border_infrastructure_(cbi)_program_under_fast_act</th>        <th class=\"col_heading level0 col53\" >solutions_for_congested_corridors_program_(sccp)</th>        <th class=\"col_heading level0 col54\" >special_programs</th>        <th class=\"col_heading level0 col55\" >state-local_partnership_program_(slpp)_and_local_partnership_program_(lpp-formulaic)</th>        <th class=\"col_heading level0 col56\" >structures_seismic_retrofit_</th>        <th class=\"col_heading level0 col57\" >trade_corridor_enhancement_account_(tcea)_programs_–_local_share</th>        <th class=\"col_heading level0 col58\" >trade_corridor_enhancement_account_(tcea)_programs_–_state_share</th>        <th class=\"col_heading level0 col59\" >trade_corridors_improvement_fund_(tcif)_program_local_streets_&_roads</th>        <th class=\"col_heading level0 col60\" >traffic_congestion_relief_program_(_tcrp_)</th>        <th class=\"col_heading level0 col61\" >unknown</th>    </tr></thead><tbody>\n",
       "                <tr>\n",
       "                        <th id=\"T_b81e5_level0_row0\" class=\"row_heading level0 row0\" >2418</th>\n",
       "                        <td id=\"T_b81e5_row0_col0\" class=\"data row0 col0\" >5475(038)</td>\n",
       "                        <td id=\"T_b81e5_row0_col1\" class=\"data row0 col1\" >10/1/2020:   Original AED date was 9/30/2020, new sequence being done to extend date to 9/30/2022.   There will be a gap of time that is not reimbursable.  CR\n",
       "\n",
       "CMAQ Emissions Benefit:  .03 ROG, .02 NOx, .01 PM10\n",
       "Project has EPSP approval for $2,646,524 of CMAQ for R/W to 15/16 FY.   And EPSP for $291,476 of CMAQ for PE to 15/16 FY.\n",
       "</td>\n",
       "                        <td id=\"T_b81e5_row0_col2\" class=\"data row0 col2\" >03</td>\n",
       "                        <td id=\"T_b81e5_row0_col3\" class=\"data row0 col3\" >36291000.000000</td>\n",
       "                        <td id=\"T_b81e5_row0_col4\" class=\"data row0 col4\" >Auburn Blvd. Complete Streets - Phase 2. On Auburn Blvd, in Citrus Heights from Rusch Park to Northern City Limits.</td>\n",
       "                        <td id=\"T_b81e5_row0_col5\" class=\"data row0 col5\" >Pedestrian and Bike Path</td>\n",
       "                        <td id=\"T_b81e5_row0_col6\" class=\"data row0 col6\" >nan</td>\n",
       "                        <td id=\"T_b81e5_row0_col7\" class=\"data row0 col7\" >nan</td>\n",
       "                        <td id=\"T_b81e5_row0_col8\" class=\"data row0 col8\" >None</td>\n",
       "                        <td id=\"T_b81e5_row0_col9\" class=\"data row0 col9\" >None</td>\n",
       "                        <td id=\"T_b81e5_row0_col10\" class=\"data row0 col10\" >0-CHts</td>\n",
       "                        <td id=\"T_b81e5_row0_col11\" class=\"data row0 col11\" >N</td>\n",
       "                        <td id=\"T_b81e5_row0_col12\" class=\"data row0 col12\" >None</td>\n",
       "                        <td id=\"T_b81e5_row0_col13\" class=\"data row0 col13\" >2023-10-13 13:34:21</td>\n",
       "                        <td id=\"T_b81e5_row0_col14\" class=\"data row0 col14\" >Citrus Heights</td>\n",
       "                        <td id=\"T_b81e5_row0_col15\" class=\"data row0 col15\" >3067</td>\n",
       "                        <td id=\"T_b81e5_row0_col16\" class=\"data row0 col16\" >Sacramento County</td>\n",
       "                        <td id=\"T_b81e5_row0_col17\" class=\"data row0 col17\" >None</td>\n",
       "                        <td id=\"T_b81e5_row0_col18\" class=\"data row0 col18\" >Pedestrian and Bike Path</td>\n",
       "                        <td id=\"T_b81e5_row0_col19\" class=\"data row0 col19\" >single phase</td>\n",
       "                        <td id=\"T_b81e5_row0_col20\" class=\"data row0 col20\" >Yes</td>\n",
       "                        <td id=\"T_b81e5_row0_col21\" class=\"data row0 col21\" >No</td>\n",
       "                        <td id=\"T_b81e5_row0_col22\" class=\"data row0 col22\" >No</td>\n",
       "                        <td id=\"T_b81e5_row0_col23\" class=\"data row0 col23\" >No</td>\n",
       "                        <td id=\"T_b81e5_row0_col24\" class=\"data row0 col24\" >Yes</td>\n",
       "                        <td id=\"T_b81e5_row0_col25\" class=\"data row0 col25\" >No</td>\n",
       "                        <td id=\"T_b81e5_row0_col26\" class=\"data row0 col26\" >No</td>\n",
       "                        <td id=\"T_b81e5_row0_col27\" class=\"data row0 col27\" >No</td>\n",
       "                        <td id=\"T_b81e5_row0_col28\" class=\"data row0 col28\" >No</td>\n",
       "                        <td id=\"T_b81e5_row0_col29\" class=\"data row0 col29\" >No</td>\n",
       "                        <td id=\"T_b81e5_row0_col30\" class=\"data row0 col30\" >No</td>\n",
       "                        <td id=\"T_b81e5_row0_col31\" class=\"data row0 col31\" >No</td>\n",
       "                        <td id=\"T_b81e5_row0_col32\" class=\"data row0 col32\" >No</td>\n",
       "                        <td id=\"T_b81e5_row0_col33\" class=\"data row0 col33\" >No</td>\n",
       "                        <td id=\"T_b81e5_row0_col34\" class=\"data row0 col34\" >No</td>\n",
       "                        <td id=\"T_b81e5_row0_col35\" class=\"data row0 col35\" >No</td>\n",
       "                        <td id=\"T_b81e5_row0_col36\" class=\"data row0 col36\" >No</td>\n",
       "                        <td id=\"T_b81e5_row0_col37\" class=\"data row0 col37\" >No</td>\n",
       "                        <td id=\"T_b81e5_row0_col38\" class=\"data row0 col38\" >No</td>\n",
       "                        <td id=\"T_b81e5_row0_col39\" class=\"data row0 col39\" >No</td>\n",
       "                        <td id=\"T_b81e5_row0_col40\" class=\"data row0 col40\" >No</td>\n",
       "                        <td id=\"T_b81e5_row0_col41\" class=\"data row0 col41\" >No</td>\n",
       "                        <td id=\"T_b81e5_row0_col42\" class=\"data row0 col42\" >No</td>\n",
       "                        <td id=\"T_b81e5_row0_col43\" class=\"data row0 col43\" >No</td>\n",
       "                        <td id=\"T_b81e5_row0_col44\" class=\"data row0 col44\" >No</td>\n",
       "                        <td id=\"T_b81e5_row0_col45\" class=\"data row0 col45\" >No</td>\n",
       "                        <td id=\"T_b81e5_row0_col46\" class=\"data row0 col46\" >No</td>\n",
       "                        <td id=\"T_b81e5_row0_col47\" class=\"data row0 col47\" >Yes</td>\n",
       "                        <td id=\"T_b81e5_row0_col48\" class=\"data row0 col48\" >No</td>\n",
       "                        <td id=\"T_b81e5_row0_col49\" class=\"data row0 col49\" >No</td>\n",
       "                        <td id=\"T_b81e5_row0_col50\" class=\"data row0 col50\" >No</td>\n",
       "                        <td id=\"T_b81e5_row0_col51\" class=\"data row0 col51\" >No</td>\n",
       "                        <td id=\"T_b81e5_row0_col52\" class=\"data row0 col52\" >No</td>\n",
       "                        <td id=\"T_b81e5_row0_col53\" class=\"data row0 col53\" >Yes</td>\n",
       "                        <td id=\"T_b81e5_row0_col54\" class=\"data row0 col54\" >No</td>\n",
       "                        <td id=\"T_b81e5_row0_col55\" class=\"data row0 col55\" >No</td>\n",
       "                        <td id=\"T_b81e5_row0_col56\" class=\"data row0 col56\" >No</td>\n",
       "                        <td id=\"T_b81e5_row0_col57\" class=\"data row0 col57\" >No</td>\n",
       "                        <td id=\"T_b81e5_row0_col58\" class=\"data row0 col58\" >No</td>\n",
       "                        <td id=\"T_b81e5_row0_col59\" class=\"data row0 col59\" >No</td>\n",
       "                        <td id=\"T_b81e5_row0_col60\" class=\"data row0 col60\" >No</td>\n",
       "                        <td id=\"T_b81e5_row0_col61\" class=\"data row0 col61\" >No</td>\n",
       "            </tr>\n",
       "    </tbody></table>"
      ],
      "text/plain": [
       "<pandas.io.formats.style.Styler at 0x1d6d8f99288>"
      ]
     },
     "execution_count": 137,
     "metadata": {},
     "output_type": "execute_result"
    }
   ],
   "source": [
    "project_df[project_df.project_id ==  \"5475(038)\"].style.where(lambda val: 'Yes' in str(val), 'color: red')"
   ]
  },
  {
   "cell_type": "markdown",
   "id": "6f411cf3",
   "metadata": {},
   "source": [
    "## Save to Excel/Final Touches"
   ]
  },
  {
   "cell_type": "code",
   "execution_count": 138,
   "id": "fa95350c",
   "metadata": {},
   "outputs": [],
   "source": [
    "# https://stackoverflow.com/questions/28837057/pandas-writing-an-excel-file-containing-unicode-illegalcharactererror\n",
    "project_df = project_df.applymap(lambda x: x.encode('unicode_escape').\n",
    "                 decode('utf-8') if isinstance(x, str) else x)"
   ]
  },
  {
   "cell_type": "code",
   "execution_count": 139,
   "id": "d3b61876",
   "metadata": {},
   "outputs": [
    {
     "data": {
      "text/plain": [
       "(11272, 62)"
      ]
     },
     "execution_count": 139,
     "metadata": {},
     "output_type": "execute_result"
    }
   ],
   "source": [
    "project_df.shape"
   ]
  },
  {
   "cell_type": "code",
   "execution_count": 140,
   "id": "4b0c3eb1",
   "metadata": {},
   "outputs": [
    {
     "data": {
      "text/plain": [
       "11272"
      ]
     },
     "execution_count": 140,
     "metadata": {},
     "output_type": "execute_result"
    }
   ],
   "source": [
    "project_df.project_id.nunique()"
   ]
  },
  {
   "cell_type": "code",
   "execution_count": 141,
   "id": "63073ff2",
   "metadata": {},
   "outputs": [],
   "source": [
    "# Split off county\n",
    "county_df = project_df[['project_id', 'project_label_name','county_name']]"
   ]
  },
  {
   "cell_type": "code",
   "execution_count": 142,
   "id": "eded55f3",
   "metadata": {},
   "outputs": [],
   "source": [
    "# Split off districts\n",
    "district_df = project_df[['project_id', 'project_label_name','district_code']]"
   ]
  },
  {
   "cell_type": "code",
   "execution_count": 143,
   "id": "b65fdd45",
   "metadata": {},
   "outputs": [],
   "source": [
    "project_df = project_df.drop(columns = ['county_name', 'district_code','unknown'])"
   ]
  },
  {
   "cell_type": "code",
   "execution_count": 147,
   "id": "ebc5cc10",
   "metadata": {},
   "outputs": [],
   "source": [
    "\n",
    "with pd.ExcelWriter(\"LP2000_projects.xlsx\") as writer:\n",
    "    project_df.to_excel(writer, sheet_name=\"project\", index=False)\n",
    "    county_df.to_excel(writer, sheet_name=\"county\", index=False)\n",
    "    district_df.to_excel(writer, sheet_name=\"district\", index=False)\n",
    "    awards_df.to_excel(writer, sheet_name=\"awards\", index=False)\n",
    "    final_fund_phase_df2.to_excel(writer, sheet_name=\"phase_funding\", index=False)\n"
   ]
  }
 ],
 "metadata": {
  "kernelspec": {
   "display_name": "Python 3 (ipykernel)",
   "language": "python",
   "name": "python3"
  },
  "language_info": {
   "codemirror_mode": {
    "name": "ipython",
    "version": 3
   },
   "file_extension": ".py",
   "mimetype": "text/x-python",
   "name": "python",
   "nbconvert_exporter": "python",
   "pygments_lexer": "ipython3",
   "version": "3.9.13"
  }
 },
 "nbformat": 4,
 "nbformat_minor": 5
}
