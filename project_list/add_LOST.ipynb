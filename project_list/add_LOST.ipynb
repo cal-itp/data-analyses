{
 "cells": [
  {
   "cell_type": "markdown",
   "id": "b6e2161d-dd47-4570-9c83-ac011a66b5ce",
   "metadata": {},
   "source": [
    "## LOST\n",
    "* https://github.com/camelot-dev/camelot\n",
    "* https://stackoverflow.com/questions/62044535/how-to-extract-tables-from-pdf-using-camelot\n",
    "* https://camelot-py.readthedocs.io/en/master/user/quickstart.html#specify-page-numbers\n",
    "\n",
    "* pip install \"camelot-py[base]\""
   ]
  },
  {
   "cell_type": "code",
   "execution_count": 1,
   "id": "045bd253-8147-4a0a-9b21-1581701fa6c6",
   "metadata": {},
   "outputs": [],
   "source": [
    "import camelot\n",
    "import _utils\n",
    "import pandas as pd\n",
    "from calitp_data_analysis.sql import to_snakecase"
   ]
  },
  {
   "cell_type": "code",
   "execution_count": 2,
   "id": "1388fdbf-4043-4a05-ad50-4c3082491305",
   "metadata": {},
   "outputs": [],
   "source": [
    "pd.options.display.max_columns = 100\n",
    "pd.options.display.float_format = \"{:.2f}\".format\n",
    "pd.set_option(\"display.max_rows\", None)\n",
    "pd.set_option(\"display.max_colwidth\", None)"
   ]
  },
  {
   "cell_type": "code",
   "execution_count": 3,
   "id": "844d829c-c9c1-49b0-b8ac-3dac3e28451f",
   "metadata": {},
   "outputs": [],
   "source": [
    "GCS_FILE_PATH = \"gs://calitp-analytics-data/data-analyses/project_list/LOST/\""
   ]
  },
  {
   "cell_type": "code",
   "execution_count": 4,
   "id": "3e7615c0-2f45-4554-ab77-6e5f8644b203",
   "metadata": {},
   "outputs": [],
   "source": [
    "alameda_b_2000 = _utils.open_pdf(\"alameda_b_2000\", \"41,42\")"
   ]
  },
  {
   "cell_type": "code",
   "execution_count": 5,
   "id": "9c85102a-305b-4507-90c1-b7c2c5766115",
   "metadata": {},
   "outputs": [],
   "source": [
    "los_angeles_m_2016 = _utils.open_pdf(\"los_angeles_m_2016\", \"25,26\")"
   ]
  },
  {
   "cell_type": "code",
   "execution_count": 6,
   "id": "ecb5e506-9c3f-4896-a55e-1c0290660ac2",
   "metadata": {},
   "outputs": [],
   "source": [
    "monterey_x_2016 = _utils.open_pdf(\"monterey_x_2016\", \"3\")"
   ]
  },
  {
   "cell_type": "code",
   "execution_count": 7,
   "id": "f1e1dfc5-a0ce-4b01-a7d1-53a2d4b0cd7d",
   "metadata": {},
   "outputs": [],
   "source": [
    "san_bernardino_I2_2018 = _utils.open_pdf(\"san_bernardino_I2_2018\", \"11,12,13,14,15,16,17,18,19,20\")"
   ]
  },
  {
   "cell_type": "code",
   "execution_count": 8,
   "id": "f7150c1b-5765-4fc3-8b26-ff1151a1bdec",
   "metadata": {},
   "outputs": [
    {
     "name": "stderr",
     "output_type": "stream",
     "text": [
      "/opt/conda/lib/python3.9/site-packages/camelot/parsers/stream.py:365: UserWarning: No tables found in table area 1\n",
      "  warnings.warn(f\"No tables found in table area {table_idx + 1}\")\n",
      "/opt/conda/lib/python3.9/site-packages/camelot/parsers/stream.py:365: UserWarning: No tables found in table area 2\n",
      "  warnings.warn(f\"No tables found in table area {table_idx + 1}\")\n"
     ]
    }
   ],
   "source": [
    "san_joaquin_k_2003 = _utils.open_pdf(\"san_joaquin_k_2003\", \"30,31,32,33\")"
   ]
  },
  {
   "cell_type": "code",
   "execution_count": 9,
   "id": "85a83e3e-a96e-4d49-aaf4-40d3067b09e6",
   "metadata": {},
   "outputs": [],
   "source": [
    "tulare_r_2006 = _utils.open_pdf(\"tulare_r_2006\", \"13,14,15,16,17\")"
   ]
  },
  {
   "cell_type": "code",
   "execution_count": 10,
   "id": "341f2466-951a-40b3-b588-1c68df4d260f",
   "metadata": {},
   "outputs": [],
   "source": [
    "santa_clara_a_2000 = _utils.open_pdf(\"santa_clara_a_2000\", \"1\")"
   ]
  },
  {
   "cell_type": "code",
   "execution_count": 11,
   "id": "a184cce7-7c25-4810-966c-fe6dae4e3c01",
   "metadata": {
    "scrolled": true,
    "tags": []
   },
   "outputs": [],
   "source": [
    "alameda_b_2000= _utils.clean_LOST_pdf(alameda_b_2000, 5, \"alameda_b_2000\", \"\")"
   ]
  },
  {
   "cell_type": "code",
   "execution_count": 12,
   "id": "57e9313f-f041-453f-b5c7-ad8faf72e5a7",
   "metadata": {},
   "outputs": [],
   "source": [
    "los_angeles_m_2016 = _utils.clean_LOST_pdf(los_angeles_m_2016, 11, \"los_angeles_m_2016\", \"\")"
   ]
  },
  {
   "cell_type": "code",
   "execution_count": 13,
   "id": "aa15ba27-2bad-4cc8-b41e-26a698c3d9bc",
   "metadata": {},
   "outputs": [],
   "source": [
    "with pd.ExcelWriter(f\"{GCS_FILE_PATH}LOST.xlsx\") as writer:\n",
    "    alameda_b_2000.to_excel(writer, sheet_name=\"alameda_b_2000\", index=True)\n",
    "    los_angeles_m_2016.to_excel(writer, sheet_name=\"los_angeles_m_2016\", index=True)\n",
    "    monterey_x_2016.to_excel(writer, sheet_name=\"monterey_x_2016\", index=True)\n",
    "    san_bernardino_I2_2018.to_excel(writer, sheet_name=\"san_bernardino_I2_2018\", index=True)\n",
    "    san_joaquin_k_2003.to_excel(writer, sheet_name=\"san_joaquin_k_2003\", index=True)\n",
    "    santa_clara_a_2000.to_excel(writer, sheet_name=\"santa_clara_a_2000\", index=True)\n",
    "    tulare_r_2006.to_excel(writer, sheet_name=\"tulare_r_2006\", index=True)"
   ]
  }
 ],
 "metadata": {
  "kernelspec": {
   "display_name": "Python 3 (ipykernel)",
   "language": "python",
   "name": "python3"
  },
  "language_info": {
   "codemirror_mode": {
    "name": "ipython",
    "version": 3
   },
   "file_extension": ".py",
   "mimetype": "text/x-python",
   "name": "python",
   "nbconvert_exporter": "python",
   "pygments_lexer": "ipython3",
   "version": "3.9.13"
  }
 },
 "nbformat": 4,
 "nbformat_minor": 5
}
