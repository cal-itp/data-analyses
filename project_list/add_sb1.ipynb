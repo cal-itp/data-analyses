{
 "cells": [
  {
   "cell_type": "markdown",
   "id": "79a419d1-4725-471f-9ba9-7c1015125039",
   "metadata": {},
   "source": [
    "## SB1 \n",
    "* Need to find out\n",
    "    * What's the difference between RCA/RCA_Projects_092023 (FeatureServer) and RCA/RCA_Projects_102023 (FeatureServer) here https://odpsvcs.dot.ca.gov/arcgis/rest/services/RCA?\n",
    "    * What's the right link to use to grab the projects: https://odpsvcs.dot.ca.gov/arcgis/rest/services/SB1/SB1_ProjectData/FeatureServer or https://odpsvcs.dot.ca.gov/arcgis/rest/services/RCA?\n",
    "        * I think link 1 is related to the SB1 map online\n",
    "        * Unsure what the second map is about?"
   ]
  },
  {
   "cell_type": "code",
   "execution_count": 23,
   "id": "f6ddf257-863a-41d8-9830-ef8b7d91647b",
   "metadata": {},
   "outputs": [],
   "source": [
    "import _harmonization_utils\n",
    "import geopandas as gpd\n",
    "import numpy as np\n",
    "import pandas as pd\n",
    "from calitp_data_analysis import utils\n",
    "from calitp_data_analysis.sql import to_snakecase"
   ]
  },
  {
   "cell_type": "code",
   "execution_count": 24,
   "id": "2a49b60c-2fb0-44fd-80c4-a7f98556585d",
   "metadata": {},
   "outputs": [],
   "source": [
    "pd.options.display.max_columns = 100\n",
    "pd.options.display.float_format = \"{:.2f}\".format\n",
    "pd.set_option(\"display.max_rows\", None)\n",
    "pd.set_option(\"display.max_colwidth\", None)"
   ]
  },
  {
   "cell_type": "markdown",
   "id": "d5fc1c97-8288-4de2-aee0-45cef8af6d8c",
   "metadata": {},
   "source": [
    "### Link 1\n",
    "* SB1 Only\n",
    "* https://odpsvcs.dot.ca.gov/arcgis/rest/services/SB1/SB1_ProjectData/FeatureServer"
   ]
  },
  {
   "cell_type": "code",
   "execution_count": 25,
   "id": "aa6cf22d-a5dd-4092-80fb-1c9fb84b2fda",
   "metadata": {},
   "outputs": [],
   "source": [
    "def sb1_basic_cleaning(\n",
    "    gdf: gpd.GeoDataFrame, project_name_col: str, agency_col: str\n",
    ") -> gpd.GeoDataFrame:\n",
    "    \"\"\"\n",
    "    Perform basic cleaning before joining\n",
    "    SB1 & Non SHOPP data together.\n",
    "    \"\"\"\n",
    "    # Some project names contain the year. Remove anything after 20..\n",
    "    gdf[project_name_col] = gdf[project_name_col].str.split(\"20\").str[0]\n",
    "\n",
    "    # Get rid of | in object cols\n",
    "    # https://stackoverflow.com/questions/68152902/extracting-only-object-type-columns-in-a-separate-list-from-a-data-frame-in-pand\n",
    "    string_cols = gdf.select_dtypes(include=[\"object\"]).columns.to_list()\n",
    "    try:\n",
    "        for i in string_cols:\n",
    "            gdf[i] = (\n",
    "                gdf[i]\n",
    "                .str.replace(\"|\", \"\")\n",
    "                .str.title()\n",
    "                .str.replace(\"[^\\w\\s]\", \"\")\n",
    "                .str.strip()\n",
    "            )\n",
    "            gdf[i] = gdf[i].fillna(\"None\")\n",
    "    except:\n",
    "        pass\n",
    "\n",
    "    # Project agency always says \"Los Angeles submitted by county\"\n",
    "    # or \"Fremont submitted by city.\" Remove submitted by.\n",
    "    gdf[agency_col] = gdf[agency_col].str.replace(\"Submitted By\", \" \")\n",
    "\n",
    "    return gdf"
   ]
  },
  {
   "cell_type": "code",
   "execution_count": 26,
   "id": "adf481c8-cc07-436b-868e-f2017ddbca1b",
   "metadata": {},
   "outputs": [],
   "source": [
    "def load_sb1() -> gpd.GeoDataFrame:\n",
    "    \"\"\"\n",
    "    Load all the projects on the SB1 map from the Feature Server.\n",
    "\n",
    "    https://odpsvcs.dot.ca.gov/arcgis/rest/services/SB1/SB1_ProjectData/FeatureServer\n",
    "    \"\"\"\n",
    "    sb1_pt1 = \"https://odpsvcs.dot.ca.gov/arcgis/rest/services/SB1/SB1_ProjectData/FeatureServer/\"\n",
    "    sb1_pt2 = \"/query?where=1%3D1&objectIds=&time=&geometry=&geometryType=esriGeometryEnvelope&inSR=&spatialRel=esriSpatialRelIntersects&distance=&units=esriSRUnit_Foot&relationParam=&outFields=*+&returnGeometry=true&maxAllowableOffset=&geometryPrecision=&outSR=&gdbVersion=&historicMoment=&returnDistinctValues=false&returnIdsOnly=false&returnCountOnly=false&returnExtentOnly=false&orderByFields=&groupByFieldsForStatistics=&outStatistics=&returnZ=false&returnM=false&multipatchOption=&resultOffset=&resultRecordCount=&returnTrueCurves=false&sqlFormat=none&f=geojson\"\n",
    "\n",
    "    full_gdf = pd.DataFrame()\n",
    "    for i in list(map(str, [*range(0, 16)])):\n",
    "        df = to_snakecase(gpd.read_file(f\"{sb1_pt1}{i}{sb1_pt2}\"))\n",
    "        full_gdf = pd.concat([full_gdf, df], axis=0)\n",
    "\n",
    "    # Basic cleaning\n",
    "    full_gdf = sb1_basic_cleaning(\n",
    "        full_gdf,\n",
    "        \"projname\",\n",
    "        \"projagency\",\n",
    "    )\n",
    "\n",
    "    # Find missing geo\n",
    "    missing_geo = full_gdf[(full_gdf.geometry.is_empty)]\n",
    "    print(f\"{len(missing_geo)} rows are mising geometry\")\n",
    "\n",
    "    # Find invalid geo\n",
    "    invalid_geo = full_gdf[~full_gdf.geometry.is_valid].reset_index(drop=True)\n",
    "    print(f\"{len(invalid_geo)} rows contain invalid geography\")\n",
    "\n",
    "    # Filter out completed\n",
    "    full_gdf = full_gdf.loc[full_gdf.projstatus != \"Completed\"].reset_index(drop=True)\n",
    "    \n",
    "    # Cols to keep\n",
    "    keep = ['projectid', 'projname', 'projcatcode', 'projcategory',\n",
    "       'projprogcode', 'projprogram', 'multiprogfunded', 'projstatus',\n",
    "       'description', 'cost', 'assemblydistrict', 'senatedistrict',\n",
    "       'assemblycode', 'senatecode', 'countyname', 'cityname', 'countycode',\n",
    "       'citycode', 'appagencyname', 'impagencyname',\n",
    "       'geometry','totalcosts',\n",
    "        'routes', 'constyear', 'costfull',\n",
    "       'projagency']\n",
    "    \n",
    "    full_gdf = full_gdf[keep] \n",
    "    return full_gdf"
   ]
  },
  {
   "cell_type": "code",
   "execution_count": 27,
   "id": "a86b2bc6-e1db-403f-a365-82dc3f529bcf",
   "metadata": {
    "tags": []
   },
   "outputs": [
    {
     "name": "stderr",
     "output_type": "stream",
     "text": [
      "/tmp/ipykernel_549/787113024.py:17: FutureWarning: The default value of regex will change from True to False in a future version. In addition, single character regular expressions will *not* be treated as literal strings when regex=True.\n",
      "  gdf[i]\n",
      "/tmp/ipykernel_549/787113024.py:17: FutureWarning: The default value of regex will change from True to False in a future version.\n",
      "  gdf[i]\n"
     ]
    },
    {
     "name": "stdout",
     "output_type": "stream",
     "text": [
      "0 rows are mising geometry\n",
      "7917 rows contain invalid geography\n"
     ]
    }
   ],
   "source": [
    "sb1_df1 = load_sb1()"
   ]
  },
  {
   "cell_type": "code",
   "execution_count": 28,
   "id": "84f7a67f-cbed-4588-b215-4bd3079ed01d",
   "metadata": {},
   "outputs": [
    {
     "data": {
      "text/plain": [
       "5278"
      ]
     },
     "execution_count": 28,
     "metadata": {},
     "output_type": "execute_result"
    }
   ],
   "source": [
    "sb1_df1.projname.nunique()"
   ]
  },
  {
   "cell_type": "code",
   "execution_count": 29,
   "id": "a33ebc54-c82e-41fc-b1b7-5af0b74b50ba",
   "metadata": {},
   "outputs": [
    {
     "data": {
      "text/plain": [
       "7603"
      ]
     },
     "execution_count": 29,
     "metadata": {},
     "output_type": "execute_result"
    }
   ],
   "source": [
    "sb1_df1.projectid.nunique()"
   ]
  },
  {
   "cell_type": "markdown",
   "id": "52b798fd-3cd4-4612-b350-4df987926f10",
   "metadata": {},
   "source": [
    "### Looking at duplicated projectid & objectid"
   ]
  },
  {
   "cell_type": "code",
   "execution_count": 30,
   "id": "20019700-a25b-444b-9241-9b383562ae36",
   "metadata": {},
   "outputs": [
    {
     "data": {
      "text/plain": [
       "9186"
      ]
     },
     "execution_count": 30,
     "metadata": {},
     "output_type": "execute_result"
    }
   ],
   "source": [
    "len(sb1_df1.drop_duplicates())"
   ]
  },
  {
   "cell_type": "code",
   "execution_count": 31,
   "id": "c8eeeba1-ae79-4315-ac7a-4ddf2b87d924",
   "metadata": {},
   "outputs": [
    {
     "data": {
      "text/plain": [
       "None          964\n",
       "0715000051      3\n",
       "0716000346      3\n",
       "0717000054      3\n",
       "0717000060      3\n",
       "Name: projectid, dtype: int64"
      ]
     },
     "execution_count": 31,
     "metadata": {},
     "output_type": "execute_result"
    }
   ],
   "source": [
    "sb1_df1.projectid.value_counts().head(5)"
   ]
  },
  {
   "cell_type": "code",
   "execution_count": 32,
   "id": "81c0e313-bb8f-4b3f-9671-9b86cda70647",
   "metadata": {},
   "outputs": [
    {
     "data": {
      "text/plain": [
       "count   7603.00\n",
       "mean       1.21\n",
       "std       11.05\n",
       "min        1.00\n",
       "25%        1.00\n",
       "50%        1.00\n",
       "75%        1.00\n",
       "max      964.00\n",
       "Name: projectid, dtype: float64"
      ]
     },
     "execution_count": 32,
     "metadata": {},
     "output_type": "execute_result"
    }
   ],
   "source": [
    "sb1_df1.projectid.value_counts().describe()"
   ]
  },
  {
   "cell_type": "markdown",
   "id": "a2c2a5cd-fac0-4dc7-8f1d-1a0367967525",
   "metadata": {},
   "source": [
    "#### Testing dropping duplicates"
   ]
  },
  {
   "cell_type": "code",
   "execution_count": 33,
   "id": "ee0e9acd-cbee-463c-b523-8a0a846decd2",
   "metadata": {},
   "outputs": [
    {
     "data": {
      "text/plain": [
       "Index(['projectid', 'projname', 'projcatcode', 'projcategory', 'projprogcode',\n",
       "       'projprogram', 'multiprogfunded', 'projstatus', 'description', 'cost',\n",
       "       'assemblydistrict', 'senatedistrict', 'assemblycode', 'senatecode',\n",
       "       'countyname', 'cityname', 'countycode', 'citycode', 'appagencyname',\n",
       "       'impagencyname', 'geometry', 'totalcosts', 'routes', 'constyear',\n",
       "       'costfull', 'projagency'],\n",
       "      dtype='object')"
      ]
     },
     "execution_count": 33,
     "metadata": {},
     "output_type": "execute_result"
    }
   ],
   "source": [
    "sb1_df1.columns"
   ]
  },
  {
   "cell_type": "code",
   "execution_count": 34,
   "id": "ec337059-2324-4be2-b62c-fa288c4ea67c",
   "metadata": {},
   "outputs": [],
   "source": [
    "df1 = sb1_df1.sort_values(['projectid','projname','description'])"
   ]
  },
  {
   "cell_type": "code",
   "execution_count": 35,
   "id": "8f66aa0e-d56e-4d32-8559-df3e0bcd0484",
   "metadata": {},
   "outputs": [],
   "source": [
    "df1 = sb1_df1.sort_values(['totalcosts', 'cost', 'costfull'], ascending = [False, False, False])"
   ]
  },
  {
   "cell_type": "code",
   "execution_count": 36,
   "id": "a4607120-6a09-46fc-ba64-7471aee354ed",
   "metadata": {},
   "outputs": [],
   "source": [
    "df1['costfull'] = df1.groupby(['projectid','projname','description'])['costfull'].ffill()"
   ]
  },
  {
   "cell_type": "code",
   "execution_count": 37,
   "id": "da37751d-183b-4800-94eb-7ba7e602b7b3",
   "metadata": {},
   "outputs": [],
   "source": [
    "df1['totalcosts'] = df1.groupby(['projectid','projname','description'])['totalcosts'].ffill()"
   ]
  },
  {
   "cell_type": "code",
   "execution_count": 38,
   "id": "2031cde5-d3d3-4ec8-8620-f34432e88d1e",
   "metadata": {},
   "outputs": [],
   "source": [
    "df1['costfull'] = df1.groupby(['projectid','projname','description'])['costfull'].ffill()"
   ]
  },
  {
   "cell_type": "code",
   "execution_count": 39,
   "id": "cb654516-3021-4f84-b488-6c67e1e1f456",
   "metadata": {},
   "outputs": [],
   "source": [
    "df1 = df1.sort_values(['projagency'], ascending = [True])"
   ]
  },
  {
   "cell_type": "code",
   "execution_count": 40,
   "id": "8433079d-d364-48d2-a71d-703986738d3b",
   "metadata": {},
   "outputs": [],
   "source": [
    "df1.projagency = df1.projagency.replace(regex='None', value=np.nan)"
   ]
  },
  {
   "cell_type": "code",
   "execution_count": 48,
   "id": "9020f347-c5aa-4588-b67b-2e0bfc664e86",
   "metadata": {},
   "outputs": [],
   "source": [
    "df1['projagency'] = df1.groupby(['projectid','projname','description'])['projagency'].ffill()"
   ]
  },
  {
   "cell_type": "code",
   "execution_count": 49,
   "id": "724ac668-07bb-477d-842d-ab15743cec69",
   "metadata": {},
   "outputs": [],
   "source": [
    "dont_preview = ['description','geometry']"
   ]
  },
  {
   "cell_type": "code",
   "execution_count": 50,
   "id": "b48f9b7a-78dc-4343-8b8f-2f08f5d7ab0c",
   "metadata": {},
   "outputs": [
    {
     "data": {
      "text/html": [
       "<div>\n",
       "<style scoped>\n",
       "    .dataframe tbody tr th:only-of-type {\n",
       "        vertical-align: middle;\n",
       "    }\n",
       "\n",
       "    .dataframe tbody tr th {\n",
       "        vertical-align: top;\n",
       "    }\n",
       "\n",
       "    .dataframe thead th {\n",
       "        text-align: right;\n",
       "    }\n",
       "</style>\n",
       "<table border=\"1\" class=\"dataframe\">\n",
       "  <thead>\n",
       "    <tr style=\"text-align: right;\">\n",
       "      <th></th>\n",
       "      <th>projectid</th>\n",
       "      <th>projname</th>\n",
       "      <th>projcatcode</th>\n",
       "      <th>projcategory</th>\n",
       "      <th>projprogcode</th>\n",
       "      <th>projprogram</th>\n",
       "      <th>multiprogfunded</th>\n",
       "      <th>projstatus</th>\n",
       "      <th>cost</th>\n",
       "      <th>assemblydistrict</th>\n",
       "      <th>senatedistrict</th>\n",
       "      <th>assemblycode</th>\n",
       "      <th>senatecode</th>\n",
       "      <th>countyname</th>\n",
       "      <th>cityname</th>\n",
       "      <th>countycode</th>\n",
       "      <th>citycode</th>\n",
       "      <th>appagencyname</th>\n",
       "      <th>impagencyname</th>\n",
       "      <th>totalcosts</th>\n",
       "      <th>routes</th>\n",
       "      <th>constyear</th>\n",
       "      <th>costfull</th>\n",
       "      <th>projagency</th>\n",
       "    </tr>\n",
       "  </thead>\n",
       "  <tbody>\n",
       "    <tr>\n",
       "      <th>9025</th>\n",
       "      <td>0717000060</td>\n",
       "      <td>Los Angeles 2 5 91  405 Upgrade Traffic Management System Mobility Project</td>\n",
       "      <td>State</td>\n",
       "      <td>State</td>\n",
       "      <td>Shp</td>\n",
       "      <td>State Highway Projects</td>\n",
       "      <td>None</td>\n",
       "      <td>PreConstruction</td>\n",
       "      <td>24700000</td>\n",
       "      <td>43 51 57 58 62 63 64 65 66</td>\n",
       "      <td>24 25 26 29 32 33 35</td>\n",
       "      <td>435157586263646566</td>\n",
       "      <td>24252629323335</td>\n",
       "      <td>Los Angeles</td>\n",
       "      <td>None</td>\n",
       "      <td>La</td>\n",
       "      <td>None</td>\n",
       "      <td>None</td>\n",
       "      <td>None</td>\n",
       "      <td>None</td>\n",
       "      <td>None</td>\n",
       "      <td>None</td>\n",
       "      <td>24697000.00</td>\n",
       "      <td>Caltrans</td>\n",
       "    </tr>\n",
       "    <tr>\n",
       "      <th>941</th>\n",
       "      <td>0717000060</td>\n",
       "      <td>Los Angeles 2 5 91  405 Upgrade Traffic Management System Mobility Project</td>\n",
       "      <td>State</td>\n",
       "      <td>State</td>\n",
       "      <td>Shp</td>\n",
       "      <td>State Highway Projects</td>\n",
       "      <td>None</td>\n",
       "      <td>PreConstruction</td>\n",
       "      <td>24700000</td>\n",
       "      <td>43 51 57 58 62 63 64 65 66</td>\n",
       "      <td>24 25 26 29 32 33 35</td>\n",
       "      <td>435157586263646566</td>\n",
       "      <td>24252629323335</td>\n",
       "      <td>Los Angeles</td>\n",
       "      <td></td>\n",
       "      <td>La</td>\n",
       "      <td></td>\n",
       "      <td>None</td>\n",
       "      <td>None</td>\n",
       "      <td>None</td>\n",
       "      <td>2591405</td>\n",
       "      <td>None</td>\n",
       "      <td>24697000.00</td>\n",
       "      <td>Caltrans</td>\n",
       "    </tr>\n",
       "    <tr>\n",
       "      <th>377</th>\n",
       "      <td>0717000060</td>\n",
       "      <td>Los Angeles 2 5 91  405 Upgrade Traffic Management System Mobility Project</td>\n",
       "      <td>State</td>\n",
       "      <td>State</td>\n",
       "      <td>Shp</td>\n",
       "      <td>State Highway Projects</td>\n",
       "      <td>None</td>\n",
       "      <td>PreConstruction</td>\n",
       "      <td>24700000</td>\n",
       "      <td>43 51 57 58 62 63 64 65 66</td>\n",
       "      <td>24 25 26 29 32 33 35</td>\n",
       "      <td>435157586263646566</td>\n",
       "      <td>24252629323335</td>\n",
       "      <td>Los Angeles</td>\n",
       "      <td></td>\n",
       "      <td>La</td>\n",
       "      <td></td>\n",
       "      <td>None</td>\n",
       "      <td>None</td>\n",
       "      <td>None</td>\n",
       "      <td>2591405</td>\n",
       "      <td>None</td>\n",
       "      <td>24697000.00</td>\n",
       "      <td>Caltrans</td>\n",
       "    </tr>\n",
       "  </tbody>\n",
       "</table>\n",
       "</div>"
      ],
      "text/plain": [
       "       projectid  \\\n",
       "9025  0717000060   \n",
       "941   0717000060   \n",
       "377   0717000060   \n",
       "\n",
       "                                                                        projname  \\\n",
       "9025  Los Angeles 2 5 91  405 Upgrade Traffic Management System Mobility Project   \n",
       "941   Los Angeles 2 5 91  405 Upgrade Traffic Management System Mobility Project   \n",
       "377   Los Angeles 2 5 91  405 Upgrade Traffic Management System Mobility Project   \n",
       "\n",
       "     projcatcode projcategory projprogcode             projprogram  \\\n",
       "9025       State        State          Shp  State Highway Projects   \n",
       "941        State        State          Shp  State Highway Projects   \n",
       "377        State        State          Shp  State Highway Projects   \n",
       "\n",
       "     multiprogfunded       projstatus      cost            assemblydistrict  \\\n",
       "9025            None  PreConstruction  24700000  43 51 57 58 62 63 64 65 66   \n",
       "941             None  PreConstruction  24700000  43 51 57 58 62 63 64 65 66   \n",
       "377             None  PreConstruction  24700000  43 51 57 58 62 63 64 65 66   \n",
       "\n",
       "            senatedistrict        assemblycode      senatecode   countyname  \\\n",
       "9025  24 25 26 29 32 33 35  435157586263646566  24252629323335  Los Angeles   \n",
       "941   24 25 26 29 32 33 35  435157586263646566  24252629323335  Los Angeles   \n",
       "377   24 25 26 29 32 33 35  435157586263646566  24252629323335  Los Angeles   \n",
       "\n",
       "     cityname countycode citycode appagencyname impagencyname totalcosts  \\\n",
       "9025     None         La     None          None          None       None   \n",
       "941                   La                   None          None       None   \n",
       "377                   La                   None          None       None   \n",
       "\n",
       "       routes constyear    costfull projagency  \n",
       "9025     None      None 24697000.00   Caltrans  \n",
       "941   2591405      None 24697000.00   Caltrans  \n",
       "377   2591405      None 24697000.00   Caltrans  "
      ]
     },
     "execution_count": 50,
     "metadata": {},
     "output_type": "execute_result"
    }
   ],
   "source": [
    "df1.loc[df1.projectid == \"0717000060\"].drop(columns = dont_preview)"
   ]
  },
  {
   "cell_type": "code",
   "execution_count": 62,
   "id": "d4f6eeb6-d3f8-4e1a-bcfd-d27d5adecbdf",
   "metadata": {},
   "outputs": [],
   "source": [
    "df1 = df1.replace(regex='None', value=np.nan)"
   ]
  },
  {
   "cell_type": "code",
   "execution_count": 63,
   "id": "b1ae9217-4a9f-4a26-b0a7-1919ccf84fd2",
   "metadata": {},
   "outputs": [],
   "source": [
    "df1['geom_type'] = df1.geometry.geom_type"
   ]
  },
  {
   "cell_type": "code",
   "execution_count": 64,
   "id": "4af059eb-d901-48e3-bd16-c33ef49d3fef",
   "metadata": {},
   "outputs": [],
   "source": [
    "df1 = df1.sort_values(['geom_type']).reset_index(drop = True)"
   ]
  },
  {
   "cell_type": "code",
   "execution_count": 65,
   "id": "66c8544c-4e52-44a7-b7bf-d3984f4c2805",
   "metadata": {},
   "outputs": [],
   "source": [
    "drop_dups = ['projectid', 'projname', 'projcatcode', 'projcategory', 'projprogcode',\n",
    "       'projprogram', 'multiprogfunded', 'projstatus', 'description', 'cost',\n",
    "       'assemblydistrict', 'senatedistrict', 'assemblycode', 'senatecode',\n",
    "       'countyname', 'cityname', 'countycode', 'citycode', 'appagencyname',\n",
    "       'impagencyname', 'totalcosts', 'routes', 'constyear',\n",
    "       'costfull', 'projagency', ]"
   ]
  },
  {
   "cell_type": "code",
   "execution_count": 66,
   "id": "035996d8-6f78-4745-a82e-59ddc66b5429",
   "metadata": {},
   "outputs": [
    {
     "data": {
      "text/plain": [
       "9147"
      ]
     },
     "execution_count": 66,
     "metadata": {},
     "output_type": "execute_result"
    }
   ],
   "source": [
    "len(df1.drop_duplicates(subset = drop_dups))"
   ]
  },
  {
   "cell_type": "code",
   "execution_count": 67,
   "id": "48608215-3634-4c3c-bdd6-42a1bd7757c8",
   "metadata": {},
   "outputs": [
    {
     "data": {
      "text/plain": [
       "9186"
      ]
     },
     "execution_count": 67,
     "metadata": {},
     "output_type": "execute_result"
    }
   ],
   "source": [
    "len(df1)"
   ]
  },
  {
   "cell_type": "code",
   "execution_count": 68,
   "id": "d342b1a2-641b-4e4e-9ad3-45362cb13f6e",
   "metadata": {},
   "outputs": [],
   "source": [
    "df2 = df1.drop_duplicates(subset = drop_dups)"
   ]
  },
  {
   "cell_type": "code",
   "execution_count": 69,
   "id": "1b1bbaae-aa2e-48c3-9d46-5778b55597e1",
   "metadata": {},
   "outputs": [
    {
     "name": "stderr",
     "output_type": "stream",
     "text": [
      "/opt/conda/lib/python3.9/site-packages/geopandas/geodataframe.py:1543: SettingWithCopyWarning: \n",
      "A value is trying to be set on a copy of a slice from a DataFrame.\n",
      "Try using .loc[row_indexer,col_indexer] = value instead\n",
      "\n",
      "See the caveats in the documentation: https://pandas.pydata.org/pandas-docs/stable/user_guide/indexing.html#returning-a-view-versus-a-copy\n",
      "  super().__setitem__(key, value)\n"
     ]
    }
   ],
   "source": [
    "df2['number_of_nans'] = df2.isnull().sum(axis=1)"
   ]
  },
  {
   "cell_type": "code",
   "execution_count": 74,
   "id": "32112950-c731-47a8-9687-2b6ccc6c5eb6",
   "metadata": {},
   "outputs": [],
   "source": [
    "df2 = df2.sort_values(['number_of_nans']).reset_index(drop = True)"
   ]
  },
  {
   "cell_type": "code",
   "execution_count": 75,
   "id": "c2925003-e2a9-4081-9eae-afa3eb532b74",
   "metadata": {},
   "outputs": [
    {
     "data": {
      "text/html": [
       "<div>\n",
       "<style scoped>\n",
       "    .dataframe tbody tr th:only-of-type {\n",
       "        vertical-align: middle;\n",
       "    }\n",
       "\n",
       "    .dataframe tbody tr th {\n",
       "        vertical-align: top;\n",
       "    }\n",
       "\n",
       "    .dataframe thead th {\n",
       "        text-align: right;\n",
       "    }\n",
       "</style>\n",
       "<table border=\"1\" class=\"dataframe\">\n",
       "  <thead>\n",
       "    <tr style=\"text-align: right;\">\n",
       "      <th></th>\n",
       "      <th>projectid</th>\n",
       "      <th>projname</th>\n",
       "      <th>projcatcode</th>\n",
       "      <th>projcategory</th>\n",
       "      <th>projprogcode</th>\n",
       "      <th>projprogram</th>\n",
       "      <th>multiprogfunded</th>\n",
       "      <th>projstatus</th>\n",
       "      <th>cost</th>\n",
       "      <th>assemblydistrict</th>\n",
       "      <th>senatedistrict</th>\n",
       "      <th>assemblycode</th>\n",
       "      <th>senatecode</th>\n",
       "      <th>countyname</th>\n",
       "      <th>cityname</th>\n",
       "      <th>countycode</th>\n",
       "      <th>citycode</th>\n",
       "      <th>appagencyname</th>\n",
       "      <th>impagencyname</th>\n",
       "      <th>totalcosts</th>\n",
       "      <th>routes</th>\n",
       "      <th>constyear</th>\n",
       "      <th>costfull</th>\n",
       "      <th>projagency</th>\n",
       "      <th>geom_type</th>\n",
       "      <th>number_of_nans</th>\n",
       "    </tr>\n",
       "  </thead>\n",
       "  <tbody>\n",
       "    <tr>\n",
       "      <th>521</th>\n",
       "      <td>0717000060</td>\n",
       "      <td>Los Angeles 2 5 91  405 Upgrade Traffic Management System Mobility Project</td>\n",
       "      <td>State</td>\n",
       "      <td>State</td>\n",
       "      <td>Shp</td>\n",
       "      <td>State Highway Projects</td>\n",
       "      <td>NaN</td>\n",
       "      <td>PreConstruction</td>\n",
       "      <td>24700000</td>\n",
       "      <td>43 51 57 58 62 63 64 65 66</td>\n",
       "      <td>24 25 26 29 32 33 35</td>\n",
       "      <td>435157586263646566</td>\n",
       "      <td>24252629323335</td>\n",
       "      <td>Los Angeles</td>\n",
       "      <td></td>\n",
       "      <td>La</td>\n",
       "      <td></td>\n",
       "      <td>NaN</td>\n",
       "      <td>NaN</td>\n",
       "      <td>NaN</td>\n",
       "      <td>2591405</td>\n",
       "      <td>NaN</td>\n",
       "      <td>24697000.00</td>\n",
       "      <td>Caltrans</td>\n",
       "      <td>LineString</td>\n",
       "      <td>5</td>\n",
       "    </tr>\n",
       "    <tr>\n",
       "      <th>6125</th>\n",
       "      <td>0717000060</td>\n",
       "      <td>Los Angeles 2 5 91  405 Upgrade Traffic Management System Mobility Project</td>\n",
       "      <td>State</td>\n",
       "      <td>State</td>\n",
       "      <td>Shp</td>\n",
       "      <td>State Highway Projects</td>\n",
       "      <td>NaN</td>\n",
       "      <td>PreConstruction</td>\n",
       "      <td>24700000</td>\n",
       "      <td>43 51 57 58 62 63 64 65 66</td>\n",
       "      <td>24 25 26 29 32 33 35</td>\n",
       "      <td>435157586263646566</td>\n",
       "      <td>24252629323335</td>\n",
       "      <td>Los Angeles</td>\n",
       "      <td>NaN</td>\n",
       "      <td>La</td>\n",
       "      <td>NaN</td>\n",
       "      <td>NaN</td>\n",
       "      <td>NaN</td>\n",
       "      <td>NaN</td>\n",
       "      <td>NaN</td>\n",
       "      <td>NaN</td>\n",
       "      <td>24697000.00</td>\n",
       "      <td>Caltrans</td>\n",
       "      <td>None</td>\n",
       "      <td>10</td>\n",
       "    </tr>\n",
       "  </tbody>\n",
       "</table>\n",
       "</div>"
      ],
      "text/plain": [
       "       projectid  \\\n",
       "521   0717000060   \n",
       "6125  0717000060   \n",
       "\n",
       "                                                                        projname  \\\n",
       "521   Los Angeles 2 5 91  405 Upgrade Traffic Management System Mobility Project   \n",
       "6125  Los Angeles 2 5 91  405 Upgrade Traffic Management System Mobility Project   \n",
       "\n",
       "     projcatcode projcategory projprogcode             projprogram  \\\n",
       "521        State        State          Shp  State Highway Projects   \n",
       "6125       State        State          Shp  State Highway Projects   \n",
       "\n",
       "     multiprogfunded       projstatus      cost            assemblydistrict  \\\n",
       "521              NaN  PreConstruction  24700000  43 51 57 58 62 63 64 65 66   \n",
       "6125             NaN  PreConstruction  24700000  43 51 57 58 62 63 64 65 66   \n",
       "\n",
       "            senatedistrict        assemblycode      senatecode   countyname  \\\n",
       "521   24 25 26 29 32 33 35  435157586263646566  24252629323335  Los Angeles   \n",
       "6125  24 25 26 29 32 33 35  435157586263646566  24252629323335  Los Angeles   \n",
       "\n",
       "     cityname countycode citycode appagencyname impagencyname totalcosts  \\\n",
       "521                   La                    NaN           NaN        NaN   \n",
       "6125      NaN         La      NaN           NaN           NaN        NaN   \n",
       "\n",
       "       routes constyear    costfull projagency   geom_type  number_of_nans  \n",
       "521   2591405       NaN 24697000.00   Caltrans  LineString               5  \n",
       "6125      NaN       NaN 24697000.00   Caltrans        None              10  "
      ]
     },
     "execution_count": 75,
     "metadata": {},
     "output_type": "execute_result"
    }
   ],
   "source": [
    "df2.loc[df2.projectid == \"0717000060\"].drop(columns = dont_preview)"
   ]
  },
  {
   "cell_type": "markdown",
   "id": "4d935b73-1b17-494e-94c5-943fb6dc7a83",
   "metadata": {},
   "source": [
    "### Keep the row with geo\n",
    "* How to keep the same project with geographies for 1+ row but not in another\n",
    "* "
   ]
  },
  {
   "cell_type": "code",
   "execution_count": 80,
   "id": "1e2c6118-e3cd-4fac-9681-cac2ea4ef51b",
   "metadata": {},
   "outputs": [],
   "source": [
    "drop_dups = ['projectid', 'projname', 'projstatus', 'description', 'cost',\n",
    "        'totalcosts', \n",
    "       'costfull', 'projagency', ]"
   ]
  },
  {
   "cell_type": "code",
   "execution_count": 81,
   "id": "fa64eb05-4f2a-40a4-9e17-af87977de883",
   "metadata": {},
   "outputs": [],
   "source": [
    "df3 = df2.drop_duplicates(subset = drop_dups)"
   ]
  },
  {
   "cell_type": "code",
   "execution_count": 82,
   "id": "e38fc755-9bb4-40c6-8963-8ce29aa24f02",
   "metadata": {
    "scrolled": true,
    "tags": []
   },
   "outputs": [
    {
     "data": {
      "text/html": [
       "<div>\n",
       "<style scoped>\n",
       "    .dataframe tbody tr th:only-of-type {\n",
       "        vertical-align: middle;\n",
       "    }\n",
       "\n",
       "    .dataframe tbody tr th {\n",
       "        vertical-align: top;\n",
       "    }\n",
       "\n",
       "    .dataframe thead th {\n",
       "        text-align: right;\n",
       "    }\n",
       "</style>\n",
       "<table border=\"1\" class=\"dataframe\">\n",
       "  <thead>\n",
       "    <tr style=\"text-align: right;\">\n",
       "      <th></th>\n",
       "      <th>projectid</th>\n",
       "      <th>projname</th>\n",
       "      <th>projcatcode</th>\n",
       "      <th>projcategory</th>\n",
       "      <th>projprogcode</th>\n",
       "      <th>projprogram</th>\n",
       "      <th>multiprogfunded</th>\n",
       "      <th>projstatus</th>\n",
       "      <th>cost</th>\n",
       "      <th>assemblydistrict</th>\n",
       "      <th>senatedistrict</th>\n",
       "      <th>assemblycode</th>\n",
       "      <th>senatecode</th>\n",
       "      <th>countyname</th>\n",
       "      <th>cityname</th>\n",
       "      <th>countycode</th>\n",
       "      <th>citycode</th>\n",
       "      <th>appagencyname</th>\n",
       "      <th>impagencyname</th>\n",
       "      <th>totalcosts</th>\n",
       "      <th>routes</th>\n",
       "      <th>constyear</th>\n",
       "      <th>costfull</th>\n",
       "      <th>projagency</th>\n",
       "      <th>geom_type</th>\n",
       "      <th>number_of_nans</th>\n",
       "    </tr>\n",
       "  </thead>\n",
       "  <tbody>\n",
       "    <tr>\n",
       "      <th>521</th>\n",
       "      <td>0717000060</td>\n",
       "      <td>Los Angeles 2 5 91  405 Upgrade Traffic Management System Mobility Project</td>\n",
       "      <td>State</td>\n",
       "      <td>State</td>\n",
       "      <td>Shp</td>\n",
       "      <td>State Highway Projects</td>\n",
       "      <td>NaN</td>\n",
       "      <td>PreConstruction</td>\n",
       "      <td>24700000</td>\n",
       "      <td>43 51 57 58 62 63 64 65 66</td>\n",
       "      <td>24 25 26 29 32 33 35</td>\n",
       "      <td>435157586263646566</td>\n",
       "      <td>24252629323335</td>\n",
       "      <td>Los Angeles</td>\n",
       "      <td></td>\n",
       "      <td>La</td>\n",
       "      <td></td>\n",
       "      <td>NaN</td>\n",
       "      <td>NaN</td>\n",
       "      <td>NaN</td>\n",
       "      <td>2591405</td>\n",
       "      <td>NaN</td>\n",
       "      <td>24697000.00</td>\n",
       "      <td>Caltrans</td>\n",
       "      <td>LineString</td>\n",
       "      <td>5</td>\n",
       "    </tr>\n",
       "  </tbody>\n",
       "</table>\n",
       "</div>"
      ],
      "text/plain": [
       "      projectid  \\\n",
       "521  0717000060   \n",
       "\n",
       "                                                                       projname  \\\n",
       "521  Los Angeles 2 5 91  405 Upgrade Traffic Management System Mobility Project   \n",
       "\n",
       "    projcatcode projcategory projprogcode             projprogram  \\\n",
       "521       State        State          Shp  State Highway Projects   \n",
       "\n",
       "    multiprogfunded       projstatus      cost            assemblydistrict  \\\n",
       "521             NaN  PreConstruction  24700000  43 51 57 58 62 63 64 65 66   \n",
       "\n",
       "           senatedistrict        assemblycode      senatecode   countyname  \\\n",
       "521  24 25 26 29 32 33 35  435157586263646566  24252629323335  Los Angeles   \n",
       "\n",
       "    cityname countycode citycode appagencyname impagencyname totalcosts  \\\n",
       "521                  La                    NaN           NaN        NaN   \n",
       "\n",
       "      routes constyear    costfull projagency   geom_type  number_of_nans  \n",
       "521  2591405       NaN 24697000.00   Caltrans  LineString               5  "
      ]
     },
     "execution_count": 82,
     "metadata": {},
     "output_type": "execute_result"
    }
   ],
   "source": [
    "df3.loc[df3.projectid == \"0717000060\"].drop(columns = dont_preview)"
   ]
  },
  {
   "cell_type": "code",
   "execution_count": 84,
   "id": "72a9aaf4-f36a-46ac-8b6f-04a67631750a",
   "metadata": {},
   "outputs": [
    {
     "data": {
      "text/html": [
       "<div>\n",
       "<style scoped>\n",
       "    .dataframe tbody tr th:only-of-type {\n",
       "        vertical-align: middle;\n",
       "    }\n",
       "\n",
       "    .dataframe tbody tr th {\n",
       "        vertical-align: top;\n",
       "    }\n",
       "\n",
       "    .dataframe thead th {\n",
       "        text-align: right;\n",
       "    }\n",
       "</style>\n",
       "<table border=\"1\" class=\"dataframe\">\n",
       "  <thead>\n",
       "    <tr style=\"text-align: right;\">\n",
       "      <th></th>\n",
       "      <th>projectid</th>\n",
       "      <th>projname</th>\n",
       "      <th>projcatcode</th>\n",
       "      <th>projcategory</th>\n",
       "      <th>projprogcode</th>\n",
       "      <th>projprogram</th>\n",
       "      <th>multiprogfunded</th>\n",
       "      <th>projstatus</th>\n",
       "      <th>cost</th>\n",
       "      <th>assemblydistrict</th>\n",
       "      <th>senatedistrict</th>\n",
       "      <th>assemblycode</th>\n",
       "      <th>senatecode</th>\n",
       "      <th>countyname</th>\n",
       "      <th>cityname</th>\n",
       "      <th>countycode</th>\n",
       "      <th>citycode</th>\n",
       "      <th>appagencyname</th>\n",
       "      <th>impagencyname</th>\n",
       "      <th>totalcosts</th>\n",
       "      <th>routes</th>\n",
       "      <th>constyear</th>\n",
       "      <th>costfull</th>\n",
       "      <th>projagency</th>\n",
       "      <th>geom_type</th>\n",
       "      <th>number_of_nans</th>\n",
       "    </tr>\n",
       "  </thead>\n",
       "  <tbody>\n",
       "    <tr>\n",
       "      <th>207</th>\n",
       "      <td>0715000051</td>\n",
       "      <td>Los Angeles 110 2 5  405 Traffic Management System Installation Project</td>\n",
       "      <td>State</td>\n",
       "      <td>State</td>\n",
       "      <td>Shp</td>\n",
       "      <td>State Highway Projects</td>\n",
       "      <td>NaN</td>\n",
       "      <td>PreConstruction</td>\n",
       "      <td>38500000</td>\n",
       "      <td>43 51 53 59 62 64 66 70</td>\n",
       "      <td>24 25 26 30 35</td>\n",
       "      <td>4351535962646670</td>\n",
       "      <td>2425263035</td>\n",
       "      <td>Los Angeles</td>\n",
       "      <td>Carson Glendale Hawthorne Los Angeles</td>\n",
       "      <td>La</td>\n",
       "      <td>Crsngndlhawla</td>\n",
       "      <td>NaN</td>\n",
       "      <td>NaN</td>\n",
       "      <td>NaN</td>\n",
       "      <td>25110405</td>\n",
       "      <td>NaN</td>\n",
       "      <td>38547000.00</td>\n",
       "      <td>Caltrans</td>\n",
       "      <td>LineString</td>\n",
       "      <td>5</td>\n",
       "    </tr>\n",
       "  </tbody>\n",
       "</table>\n",
       "</div>"
      ],
      "text/plain": [
       "      projectid  \\\n",
       "207  0715000051   \n",
       "\n",
       "                                                                    projname  \\\n",
       "207  Los Angeles 110 2 5  405 Traffic Management System Installation Project   \n",
       "\n",
       "    projcatcode projcategory projprogcode             projprogram  \\\n",
       "207       State        State          Shp  State Highway Projects   \n",
       "\n",
       "    multiprogfunded       projstatus      cost         assemblydistrict  \\\n",
       "207             NaN  PreConstruction  38500000  43 51 53 59 62 64 66 70   \n",
       "\n",
       "     senatedistrict      assemblycode  senatecode   countyname  \\\n",
       "207  24 25 26 30 35  4351535962646670  2425263035  Los Angeles   \n",
       "\n",
       "                                  cityname countycode       citycode  \\\n",
       "207  Carson Glendale Hawthorne Los Angeles         La  Crsngndlhawla   \n",
       "\n",
       "    appagencyname impagencyname totalcosts    routes constyear    costfull  \\\n",
       "207           NaN           NaN        NaN  25110405       NaN 38547000.00   \n",
       "\n",
       "    projagency   geom_type  number_of_nans  \n",
       "207   Caltrans  LineString               5  "
      ]
     },
     "execution_count": 84,
     "metadata": {},
     "output_type": "execute_result"
    }
   ],
   "source": [
    "df3.loc[df3.projectid == \"0715000051\"].drop(columns = dont_preview)"
   ]
  },
  {
   "cell_type": "code",
   "execution_count": 85,
   "id": "bf17b5bf-9a7c-4d1e-a0e8-50bdb6a2348d",
   "metadata": {},
   "outputs": [
    {
     "data": {
      "text/html": [
       "<div>\n",
       "<style scoped>\n",
       "    .dataframe tbody tr th:only-of-type {\n",
       "        vertical-align: middle;\n",
       "    }\n",
       "\n",
       "    .dataframe tbody tr th {\n",
       "        vertical-align: top;\n",
       "    }\n",
       "\n",
       "    .dataframe thead th {\n",
       "        text-align: right;\n",
       "    }\n",
       "</style>\n",
       "<table border=\"1\" class=\"dataframe\">\n",
       "  <thead>\n",
       "    <tr style=\"text-align: right;\">\n",
       "      <th></th>\n",
       "      <th>projectid</th>\n",
       "      <th>projname</th>\n",
       "      <th>projcatcode</th>\n",
       "      <th>projcategory</th>\n",
       "      <th>projprogcode</th>\n",
       "      <th>projprogram</th>\n",
       "      <th>multiprogfunded</th>\n",
       "      <th>projstatus</th>\n",
       "      <th>cost</th>\n",
       "      <th>assemblydistrict</th>\n",
       "      <th>senatedistrict</th>\n",
       "      <th>assemblycode</th>\n",
       "      <th>senatecode</th>\n",
       "      <th>countyname</th>\n",
       "      <th>cityname</th>\n",
       "      <th>countycode</th>\n",
       "      <th>citycode</th>\n",
       "      <th>appagencyname</th>\n",
       "      <th>impagencyname</th>\n",
       "      <th>totalcosts</th>\n",
       "      <th>routes</th>\n",
       "      <th>constyear</th>\n",
       "      <th>costfull</th>\n",
       "      <th>projagency</th>\n",
       "      <th>geom_type</th>\n",
       "    </tr>\n",
       "  </thead>\n",
       "  <tbody>\n",
       "    <tr>\n",
       "      <th>201</th>\n",
       "      <td>0715000051</td>\n",
       "      <td>Los Angeles 110 2 5  405 Traffic Management System Installation Project</td>\n",
       "      <td>State</td>\n",
       "      <td>State</td>\n",
       "      <td>Shp</td>\n",
       "      <td>State Highway Projects</td>\n",
       "      <td>NaN</td>\n",
       "      <td>PreConstruction</td>\n",
       "      <td>38500000</td>\n",
       "      <td>43 51 53 59 62 64 66 70</td>\n",
       "      <td>24 25 26 30 35</td>\n",
       "      <td>4351535962646670</td>\n",
       "      <td>2425263035</td>\n",
       "      <td>Los Angeles</td>\n",
       "      <td>Carson Glendale Hawthorne Los Angeles</td>\n",
       "      <td>La</td>\n",
       "      <td>Crsngndlhawla</td>\n",
       "      <td>NaN</td>\n",
       "      <td>NaN</td>\n",
       "      <td>NaN</td>\n",
       "      <td>25110405</td>\n",
       "      <td>NaN</td>\n",
       "      <td>38547000.00</td>\n",
       "      <td>Caltrans</td>\n",
       "      <td>LineString</td>\n",
       "    </tr>\n",
       "    <tr>\n",
       "      <th>391</th>\n",
       "      <td>0715000051</td>\n",
       "      <td>Los Angeles 110 2 5  405 Traffic Management System Installation Project</td>\n",
       "      <td>State</td>\n",
       "      <td>State</td>\n",
       "      <td>Shp</td>\n",
       "      <td>State Highway Projects</td>\n",
       "      <td>NaN</td>\n",
       "      <td>PreConstruction</td>\n",
       "      <td>38500000</td>\n",
       "      <td>43 51 53 59 62 64 66 70</td>\n",
       "      <td>24 25 26 30 35</td>\n",
       "      <td>4351535962646670</td>\n",
       "      <td>2425263035</td>\n",
       "      <td>Los Angeles</td>\n",
       "      <td>Carson Glendale Hawthorne Los Angeles</td>\n",
       "      <td>La</td>\n",
       "      <td>Crsngndlhawla</td>\n",
       "      <td>NaN</td>\n",
       "      <td>NaN</td>\n",
       "      <td>NaN</td>\n",
       "      <td>25110405</td>\n",
       "      <td>NaN</td>\n",
       "      <td>38547000.00</td>\n",
       "      <td>Caltrans</td>\n",
       "      <td>MultiPoint</td>\n",
       "    </tr>\n",
       "    <tr>\n",
       "      <th>2502</th>\n",
       "      <td>0715000051</td>\n",
       "      <td>Los Angeles 110 2 5  405 Traffic Management System Installation Project</td>\n",
       "      <td>State</td>\n",
       "      <td>State</td>\n",
       "      <td>Shp</td>\n",
       "      <td>State Highway Projects</td>\n",
       "      <td>NaN</td>\n",
       "      <td>PreConstruction</td>\n",
       "      <td>38500000</td>\n",
       "      <td>43 51 53 59 62 64 66 70</td>\n",
       "      <td>24 25 26 30 35</td>\n",
       "      <td>4351535962646670</td>\n",
       "      <td>2425263035</td>\n",
       "      <td>Los Angeles</td>\n",
       "      <td>Carson Glendale Hawthorne Los Angeles</td>\n",
       "      <td>La</td>\n",
       "      <td>Crsngndlhawla</td>\n",
       "      <td>NaN</td>\n",
       "      <td>NaN</td>\n",
       "      <td>NaN</td>\n",
       "      <td>NaN</td>\n",
       "      <td>2019</td>\n",
       "      <td>38547000.00</td>\n",
       "      <td>Caltrans</td>\n",
       "      <td>None</td>\n",
       "    </tr>\n",
       "  </tbody>\n",
       "</table>\n",
       "</div>"
      ],
      "text/plain": [
       "       projectid  \\\n",
       "201   0715000051   \n",
       "391   0715000051   \n",
       "2502  0715000051   \n",
       "\n",
       "                                                                     projname  \\\n",
       "201   Los Angeles 110 2 5  405 Traffic Management System Installation Project   \n",
       "391   Los Angeles 110 2 5  405 Traffic Management System Installation Project   \n",
       "2502  Los Angeles 110 2 5  405 Traffic Management System Installation Project   \n",
       "\n",
       "     projcatcode projcategory projprogcode             projprogram  \\\n",
       "201        State        State          Shp  State Highway Projects   \n",
       "391        State        State          Shp  State Highway Projects   \n",
       "2502       State        State          Shp  State Highway Projects   \n",
       "\n",
       "     multiprogfunded       projstatus      cost         assemblydistrict  \\\n",
       "201              NaN  PreConstruction  38500000  43 51 53 59 62 64 66 70   \n",
       "391              NaN  PreConstruction  38500000  43 51 53 59 62 64 66 70   \n",
       "2502             NaN  PreConstruction  38500000  43 51 53 59 62 64 66 70   \n",
       "\n",
       "      senatedistrict      assemblycode  senatecode   countyname  \\\n",
       "201   24 25 26 30 35  4351535962646670  2425263035  Los Angeles   \n",
       "391   24 25 26 30 35  4351535962646670  2425263035  Los Angeles   \n",
       "2502  24 25 26 30 35  4351535962646670  2425263035  Los Angeles   \n",
       "\n",
       "                                   cityname countycode       citycode  \\\n",
       "201   Carson Glendale Hawthorne Los Angeles         La  Crsngndlhawla   \n",
       "391   Carson Glendale Hawthorne Los Angeles         La  Crsngndlhawla   \n",
       "2502  Carson Glendale Hawthorne Los Angeles         La  Crsngndlhawla   \n",
       "\n",
       "     appagencyname impagencyname totalcosts    routes constyear    costfull  \\\n",
       "201            NaN           NaN        NaN  25110405       NaN 38547000.00   \n",
       "391            NaN           NaN        NaN  25110405       NaN 38547000.00   \n",
       "2502           NaN           NaN        NaN       NaN      2019 38547000.00   \n",
       "\n",
       "     projagency   geom_type  \n",
       "201    Caltrans  LineString  \n",
       "391    Caltrans  MultiPoint  \n",
       "2502   Caltrans        None  "
      ]
     },
     "execution_count": 85,
     "metadata": {},
     "output_type": "execute_result"
    }
   ],
   "source": [
    "df1.loc[df1.projectid == \"0715000051\"].drop(columns = dont_preview)"
   ]
  },
  {
   "cell_type": "code",
   "execution_count": 86,
   "id": "5115c314-89db-4ecc-819c-165223da8ad4",
   "metadata": {},
   "outputs": [
    {
     "data": {
      "text/plain": [
       "9186"
      ]
     },
     "execution_count": 86,
     "metadata": {},
     "output_type": "execute_result"
    }
   ],
   "source": [
    "len(sb1_df1)"
   ]
  },
  {
   "cell_type": "code",
   "execution_count": 87,
   "id": "aefcb891-f282-4153-a72a-c83d5d94ba1f",
   "metadata": {},
   "outputs": [
    {
     "data": {
      "text/plain": [
       "7984"
      ]
     },
     "execution_count": 87,
     "metadata": {},
     "output_type": "execute_result"
    }
   ],
   "source": [
    "len(df3)"
   ]
  },
  {
   "cell_type": "code",
   "execution_count": 88,
   "id": "8eb3f14d-eaa4-47ae-abc3-7087045b2660",
   "metadata": {},
   "outputs": [
    {
     "data": {
      "text/plain": [
       "LppcC1Fy17206069Pp22    1\n",
       "LsrFy17185322Pp011      1\n",
       "LsrFy17185160Pp203      1\n",
       "LsrFy17185377Pp008      1\n",
       "LsrFy17185255Pp024      1\n",
       "Name: projectid, dtype: int64"
      ]
     },
     "execution_count": 88,
     "metadata": {},
     "output_type": "execute_result"
    }
   ],
   "source": [
    "df3.projectid.value_counts().head()"
   ]
  },
  {
   "cell_type": "code",
   "execution_count": 92,
   "id": "92492c83-63ca-412d-95f3-975b3052d486",
   "metadata": {},
   "outputs": [
    {
     "data": {
      "text/plain": [
       "7602"
      ]
     },
     "execution_count": 92,
     "metadata": {},
     "output_type": "execute_result"
    }
   ],
   "source": [
    "df3.projectid.nunique()"
   ]
  },
  {
   "cell_type": "code",
   "execution_count": 93,
   "id": "fa4d38b6-4f5e-454f-8006-42988db9f268",
   "metadata": {},
   "outputs": [
    {
     "data": {
      "text/plain": [
       "7603"
      ]
     },
     "execution_count": 93,
     "metadata": {},
     "output_type": "execute_result"
    }
   ],
   "source": [
    "sb1_df1.projectid.nunique()"
   ]
  },
  {
   "cell_type": "code",
   "execution_count": 94,
   "id": "c95787a0-82d5-48ae-b45a-c49ce3dd64f0",
   "metadata": {},
   "outputs": [
    {
     "data": {
      "text/plain": [
       "5278"
      ]
     },
     "execution_count": 94,
     "metadata": {},
     "output_type": "execute_result"
    }
   ],
   "source": [
    "sb1_df1.projname.nuqnique()"
   ]
  },
  {
   "cell_type": "code",
   "execution_count": 96,
   "id": "99fdac16-9cd9-44e7-8404-edc902b6d7ed",
   "metadata": {},
   "outputs": [
    {
     "data": {
      "text/plain": [
       "None                           781\n",
       "                               705\n",
       "Fy                             177\n",
       "Crack Seal                     122\n",
       "Maintenance  Rehabilitation    113\n",
       "Name: projname, dtype: int64"
      ]
     },
     "execution_count": 96,
     "metadata": {},
     "output_type": "execute_result"
    }
   ],
   "source": [
    "sb1_df1.projname.value_counts().head()"
   ]
  },
  {
   "cell_type": "code",
   "execution_count": 95,
   "id": "3ddc34db-55a6-4a32-beaf-ad2d5ea8826d",
   "metadata": {},
   "outputs": [
    {
     "data": {
      "text/plain": [
       "5277"
      ]
     },
     "execution_count": 95,
     "metadata": {},
     "output_type": "execute_result"
    }
   ],
   "source": [
    "df3.projname.nunique()"
   ]
  },
  {
   "cell_type": "code",
   "execution_count": 97,
   "id": "4e5f6009-3bb9-42eb-8999-b3956f322285",
   "metadata": {},
   "outputs": [
    {
     "data": {
      "text/plain": [
       "                                701\n",
       "Fy                              177\n",
       "Crack Seal                      122\n",
       "Maintenance  Rehabilitation     113\n",
       "Citywide Slurry Seal Project    107\n",
       "Name: projname, dtype: int64"
      ]
     },
     "execution_count": 97,
     "metadata": {},
     "output_type": "execute_result"
    }
   ],
   "source": [
    "df3.projname.value_counts().head()"
   ]
  },
  {
   "cell_type": "code",
   "execution_count": 91,
   "id": "68a8ab89-7c9b-4435-894b-25c484e54ef3",
   "metadata": {},
   "outputs": [
    {
     "name": "stdout",
     "output_type": "stream",
     "text": [
      "<class 'geopandas.geodataframe.GeoDataFrame'>\n",
      "Int64Index: 7984 entries, 0 to 9146\n",
      "Data columns (total 28 columns):\n",
      " #   Column            Non-Null Count  Dtype   \n",
      "---  ------            --------------  -----   \n",
      " 0   projectid         7602 non-null   object  \n",
      " 1   projname          7775 non-null   object  \n",
      " 2   projcatcode       7984 non-null   object  \n",
      " 3   projcategory      7984 non-null   object  \n",
      " 4   projprogcode      7984 non-null   object  \n",
      " 5   projprogram       7984 non-null   object  \n",
      " 6   multiprogfunded   5 non-null      object  \n",
      " 7   projstatus        7602 non-null   object  \n",
      " 8   description       7517 non-null   object  \n",
      " 9   cost              1493 non-null   object  \n",
      " 10  assemblydistrict  7983 non-null   object  \n",
      " 11  senatedistrict    7983 non-null   object  \n",
      " 12  assemblycode      7983 non-null   object  \n",
      " 13  senatecode        7983 non-null   object  \n",
      " 14  countyname        7982 non-null   object  \n",
      " 15  cityname          5756 non-null   object  \n",
      " 16  countycode        7983 non-null   object  \n",
      " 17  citycode          5751 non-null   object  \n",
      " 18  appagencyname     63 non-null     object  \n",
      " 19  impagencyname     63 non-null     object  \n",
      " 20  geometry          977 non-null    geometry\n",
      " 21  totalcosts        381 non-null    object  \n",
      " 22  routes            521 non-null    object  \n",
      " 23  constyear         6168 non-null   object  \n",
      " 24  costfull          6631 non-null   float64 \n",
      " 25  projagency        7601 non-null   object  \n",
      " 26  geom_type         977 non-null    object  \n",
      " 27  number_of_nans    7984 non-null   int64   \n",
      "dtypes: float64(1), geometry(1), int64(1), object(25)\n",
      "memory usage: 1.8+ MB\n"
     ]
    }
   ],
   "source": [
    "df3.info()"
   ]
  },
  {
   "cell_type": "markdown",
   "id": "02989f7a-b78a-4390-b153-f7a3682b4feb",
   "metadata": {},
   "source": [
    "### Separate out SB1 based on our table schema"
   ]
  },
  {
   "cell_type": "code",
   "execution_count": null,
   "id": "36b42703-90f6-42b3-8a4e-95807d7eed0b",
   "metadata": {},
   "outputs": [],
   "source": [
    "def merge(df: pd.DataFrame, subset_cols: list):\n",
    "    df2 = df[subset_cols]\n",
    "    display(\n",
    "        pd.merge(df, df2, on=subset_cols, how=\"inner\", indicator=True)[\n",
    "            [\"_merge\"]\n",
    "        ].value_counts()\n",
    "    )\n",
    "    return df2"
   ]
  },
  {
   "cell_type": "markdown",
   "id": "fc043281-e587-42c1-a3f5-efa284412ae1",
   "metadata": {},
   "source": [
    "#### Assembly Districts"
   ]
  },
  {
   "cell_type": "code",
   "execution_count": null,
   "id": "92637342-cc6a-475c-987a-78151ef012f2",
   "metadata": {},
   "outputs": [],
   "source": [
    "assembly_subset = [\n",
    "    \"objectid\",\n",
    "    \"projectid\",\n",
    "    \"projname\",\n",
    "    \"projagency\",\n",
    "    \"assemblycode\",\n",
    "    \"assemblydistrict\",\n",
    "]"
   ]
  },
  {
   "cell_type": "code",
   "execution_count": null,
   "id": "88a6100c-69d1-42bb-94e8-95784ab0f714",
   "metadata": {},
   "outputs": [],
   "source": [
    "sb1_df1.columns"
   ]
  },
  {
   "cell_type": "code",
   "execution_count": null,
   "id": "a4003904-96e2-4eac-bd20-d487ef1f8809",
   "metadata": {},
   "outputs": [],
   "source": [
    "assembly_df = merge(sb1_df1, assembly_subset)"
   ]
  },
  {
   "cell_type": "code",
   "execution_count": null,
   "id": "7d787b4b-4569-4338-b20e-66b001a85c5d",
   "metadata": {},
   "outputs": [],
   "source": [
    "assembly_df.sample(3)"
   ]
  },
  {
   "cell_type": "markdown",
   "id": "e8ba98f9-824a-4109-88e1-9b7785126569",
   "metadata": {},
   "source": [
    "#### Awards"
   ]
  },
  {
   "cell_type": "code",
   "execution_count": null,
   "id": "489bb001-46e5-42e7-8534-71515c855691",
   "metadata": {},
   "outputs": [],
   "source": [
    "sb1_df1.columns"
   ]
  },
  {
   "cell_type": "code",
   "execution_count": null,
   "id": "cc37c7d7-80a8-48e0-a514-4ff14b7038a7",
   "metadata": {},
   "outputs": [],
   "source": [
    "awards_subset = [\n",
    "    \"objectid\",\n",
    "    \"projectid\",\n",
    "    \"projname\",\n",
    "    \"projagency\",\n",
    "    \"projprogcode\",\n",
    "    \"projprogram\",\n",
    "    \"multiprogfunded\",\n",
    "]"
   ]
  },
  {
   "cell_type": "code",
   "execution_count": null,
   "id": "188fe7d9-3e87-4239-9bfa-7d2d0561ac08",
   "metadata": {},
   "outputs": [],
   "source": [
    "awards_df = merge(sb1_df1, awards_subset)"
   ]
  },
  {
   "cell_type": "code",
   "execution_count": null,
   "id": "53d12a10-7b90-436f-abf2-e167679b3957",
   "metadata": {},
   "outputs": [],
   "source": [
    "awards_df.projprogram.value_counts()"
   ]
  },
  {
   "cell_type": "markdown",
   "id": "22d227d2-462f-47d3-8165-f55301313ffb",
   "metadata": {},
   "source": [
    "#### County"
   ]
  },
  {
   "cell_type": "code",
   "execution_count": null,
   "id": "104793ba-80b9-44fd-bda3-e533188a0700",
   "metadata": {},
   "outputs": [],
   "source": [
    "county_subset = [\n",
    "    \"objectid\",\n",
    "    \"projectid\",\n",
    "    \"projname\",\n",
    "    \"projagency\",\n",
    "    \"countyname\",\n",
    "    \"countycode\",\n",
    "]"
   ]
  },
  {
   "cell_type": "code",
   "execution_count": null,
   "id": "c16ba1cb-b2d5-42fc-bc1a-8641519caff8",
   "metadata": {},
   "outputs": [],
   "source": [
    "county_df = merge(sb1_df1, county_subset)"
   ]
  },
  {
   "cell_type": "code",
   "execution_count": null,
   "id": "8c5eb6ab-9a9c-4bb1-82e5-49afb7e3879d",
   "metadata": {},
   "outputs": [],
   "source": [
    "county_df.sample(3)"
   ]
  },
  {
   "cell_type": "markdown",
   "id": "d78ffda2-8b92-4d3f-9efa-4f89453e7863",
   "metadata": {},
   "source": [
    "#### City"
   ]
  },
  {
   "cell_type": "code",
   "execution_count": null,
   "id": "9b14db81-d362-47c6-a87d-31c99fd95a35",
   "metadata": {},
   "outputs": [],
   "source": [
    "city_subset = [\n",
    "    \"objectid\",\n",
    "    \"projectid\",\n",
    "    \"projname\",\n",
    "    \"projagency\",\n",
    "    \"cityname\",\n",
    "    \"citycode\",\n",
    "]"
   ]
  },
  {
   "cell_type": "code",
   "execution_count": null,
   "id": "11c163a0-9d43-409b-85d8-99ff4d3f3390",
   "metadata": {},
   "outputs": [],
   "source": [
    "city_df = merge(sb1_df1, city_subset)"
   ]
  },
  {
   "cell_type": "markdown",
   "id": "e1bc5532-9433-4292-89c6-324057060466",
   "metadata": {},
   "source": [
    "#### Senate District"
   ]
  },
  {
   "cell_type": "code",
   "execution_count": null,
   "id": "80e67da3-05a2-4fbf-ade4-2478d49281fe",
   "metadata": {},
   "outputs": [],
   "source": [
    "sb1_df1.columns"
   ]
  },
  {
   "cell_type": "code",
   "execution_count": null,
   "id": "e237a21d-db21-4a59-bf3c-d216c9d3a524",
   "metadata": {},
   "outputs": [],
   "source": [
    "senate_subset = [\n",
    "    \"objectid\",\n",
    "    \"projectid\",\n",
    "    \"projname\",\n",
    "    \"projagency\",\n",
    "    \"senatedistrict\",\n",
    "    \"senatecode\",\n",
    "]"
   ]
  },
  {
   "cell_type": "code",
   "execution_count": null,
   "id": "dfcd4081-a4f4-4e48-92b4-05764d94d58e",
   "metadata": {},
   "outputs": [],
   "source": [
    "senate_df = merge(sb1_df1, senate_subset)"
   ]
  },
  {
   "cell_type": "markdown",
   "id": "f3a4b55b-9a5d-4424-bf32-0bb96f4cb9dd",
   "metadata": {},
   "source": [
    "#### Geometry"
   ]
  },
  {
   "cell_type": "code",
   "execution_count": null,
   "id": "1a318b26-749c-4a11-abc3-f81a7a480c9d",
   "metadata": {},
   "outputs": [],
   "source": [
    "geo_subset = [\"objectid\", \"projectid\", \"projname\", \"projagency\", \"geometry\"]"
   ]
  },
  {
   "cell_type": "code",
   "execution_count": null,
   "id": "b578a75d-f86c-4598-b1e2-0b9ae051fc14",
   "metadata": {},
   "outputs": [],
   "source": [
    "gdf = merge(sb1_df1, geo_subset)"
   ]
  },
  {
   "cell_type": "code",
   "execution_count": null,
   "id": "7c0d3db6-4a83-4889-9ac3-dc9c0799c019",
   "metadata": {},
   "outputs": [],
   "source": [
    "type(gdf)"
   ]
  },
  {
   "cell_type": "markdown",
   "id": "ea6c795c-32de-413f-aaf8-682a33d6d3e1",
   "metadata": {},
   "source": [
    "#### Project Base Table"
   ]
  },
  {
   "cell_type": "code",
   "execution_count": null,
   "id": "425ab7ca-8978-425a-bec5-4f80f1ba5265",
   "metadata": {},
   "outputs": [],
   "source": [
    "project_subset = [\n",
    "    \"objectid\",\n",
    "    \"projectid\",\n",
    "    \"projname\",\n",
    "    \"description\",\n",
    "    \"cost\",\n",
    "    \"totalcosts\",\n",
    "    \"routes\",\n",
    "    \"costfull\",\n",
    "    \"projagency\",\n",
    "    \"appagencyname\",\n",
    "    \"impagencyname\",\n",
    "]"
   ]
  },
  {
   "cell_type": "code",
   "execution_count": null,
   "id": "8f90b9d5-6d35-4854-b5e3-eb548f6edbfb",
   "metadata": {},
   "outputs": [],
   "source": [
    "project_df = sb1_df1[project_subset]"
   ]
  },
  {
   "cell_type": "code",
   "execution_count": null,
   "id": "a06a45c9-d488-4189-bd61-59f04c68672f",
   "metadata": {
    "scrolled": true,
    "tags": []
   },
   "outputs": [],
   "source": [
    "# project_df.sample(100)"
   ]
  },
  {
   "cell_type": "markdown",
   "id": "d55f7d87-fe27-4afd-8cf1-3d1119fe5a32",
   "metadata": {},
   "source": [
    "#### Phase Funding"
   ]
  },
  {
   "cell_type": "code",
   "execution_count": null,
   "id": "57e7241e-3630-4c7c-936e-e906699adf84",
   "metadata": {},
   "outputs": [],
   "source": [
    "phase_subset = [\n",
    "    \"objectid\",\n",
    "    \"projectid\",\n",
    "    \"projname\",\n",
    "    \"projstatus\",\n",
    "    \"projagency\",\n",
    "    \"constyear\",\n",
    "]"
   ]
  },
  {
   "cell_type": "code",
   "execution_count": null,
   "id": "9bc86fa4-3a9c-4e26-8334-41c88e896c35",
   "metadata": {},
   "outputs": [],
   "source": [
    "phase_df = merge(sb1_df1, phase_subset)"
   ]
  },
  {
   "cell_type": "code",
   "execution_count": null,
   "id": "169c9cbf-8810-4321-9981-65061902c5e2",
   "metadata": {},
   "outputs": [],
   "source": [
    "phase_df.head()"
   ]
  },
  {
   "cell_type": "code",
   "execution_count": null,
   "id": "e17b3d5f-a38f-4ebd-890c-7bcaff24e10c",
   "metadata": {},
   "outputs": [],
   "source": [
    "url_pt1 = \"https://odpsvcs.dot.ca.gov/arcgis/rest/services/RCA/RCA_Projects_092023/FeatureServer/\""
   ]
  },
  {
   "cell_type": "code",
   "execution_count": null,
   "id": "0f249d5a-2024-4430-be15-41111e2d24b8",
   "metadata": {},
   "outputs": [],
   "source": [
    "url_pt2 = \"/query?where=1%3D1&objectIds=&time=&geometry=&geometryType=esriGeometryEnvelope&inSR=&spatialRel=esriSpatialRelIntersects&distance=&units=esriSRUnit_Foot&relationParam=&outFields=*+&returnGeometry=true&maxAllowableOffset=&geometryPrecision=&outSR=&gdbVersion=&historicMoment=&returnDistinctValues=false&returnIdsOnly=false&returnCountOnly=false&returnExtentOnly=false&orderByFields=&groupByFieldsForStatistics=&outStatistics=&returnZ=false&returnM=false&multipatchOption=&resultOffset=&resultRecordCount=&returnTrueCurves=false&sqlFormat=none&f=geojson\""
   ]
  },
  {
   "cell_type": "code",
   "execution_count": null,
   "id": "6a2aedac-dc9e-4f74-83ad-d430cc90986f",
   "metadata": {},
   "outputs": [],
   "source": [
    "int_to_string = list(map(str, [*range(0, 28)]))"
   ]
  },
  {
   "cell_type": "code",
   "execution_count": null,
   "id": "fcca6479-bf48-4032-b6fe-a32bc1a0b164",
   "metadata": {
    "scrolled": true,
    "tags": []
   },
   "outputs": [],
   "source": [
    "full_gdf = pd.DataFrame()\n",
    "for i in int_to_string:\n",
    "    df = to_snakecase(gpd.read_file(f\"{url_pt1}{i}{url_pt2}\"))\n",
    "    full_gdf = pd.concat([full_gdf, df], axis=0)"
   ]
  },
  {
   "cell_type": "code",
   "execution_count": null,
   "id": "3b80765a-5b46-4c8a-9769-acfdf40b9ec7",
   "metadata": {},
   "outputs": [],
   "source": [
    "full_gdf.shape"
   ]
  },
  {
   "cell_type": "code",
   "execution_count": null,
   "id": "bd86047d-72a8-43f9-98ae-1f124e34b1f3",
   "metadata": {},
   "outputs": [],
   "source": [
    "full_gdf.shape, sb1_df1.shape"
   ]
  },
  {
   "cell_type": "markdown",
   "id": "4abd76e2-50d0-43d0-84e9-84150579a2f6",
   "metadata": {},
   "source": [
    "#### Compare"
   ]
  },
  {
   "cell_type": "code",
   "execution_count": null,
   "id": "673b736b-7429-4511-ab8f-d9a6d806d074",
   "metadata": {},
   "outputs": [],
   "source": [
    "full_gdf.columns"
   ]
  },
  {
   "cell_type": "code",
   "execution_count": null,
   "id": "b1fd0977-c490-4a01-a3a9-49e90e91a012",
   "metadata": {},
   "outputs": [],
   "source": [
    "full_gdf2 = full_gdf[\n",
    "    [\"projecttitle\", \"projectdescription\", \"countycodes\", \"ct_districts\"]\n",
    "]"
   ]
  },
  {
   "cell_type": "code",
   "execution_count": null,
   "id": "d33b713d-bc5e-48a3-8441-6a7ea6689002",
   "metadata": {},
   "outputs": [],
   "source": [
    "sb1_df1.columns"
   ]
  },
  {
   "cell_type": "code",
   "execution_count": null,
   "id": "0e27d7f3-5e22-491d-822f-526c4f27089c",
   "metadata": {},
   "outputs": [],
   "source": [
    "sb1_df2 = sb1_df1[[\"projname\", \"projagency\", \"description\", \"countycode\"]]"
   ]
  },
  {
   "cell_type": "code",
   "execution_count": null,
   "id": "c85e7c28-9ca0-4d6a-ad08-1174676d6f48",
   "metadata": {},
   "outputs": [],
   "source": [
    "pd.merge(\n",
    "    sb1_df2,\n",
    "    full_gdf2,\n",
    "    left_on=[\"projname\", \"description\", \"countycode\"],\n",
    "    right_on=[\"projecttitle\", \"projectdescription\", \"countycodes\"],\n",
    "    how=\"outer\",\n",
    "    indicator=True,\n",
    ")[[\"_merge\"]].value_counts()"
   ]
  },
  {
   "cell_type": "code",
   "execution_count": null,
   "id": "ce5115bf-9f02-47b9-9fa5-86bd3371c896",
   "metadata": {},
   "outputs": [],
   "source": [
    "pd.merge(\n",
    "    sb1_df2,\n",
    "    full_gdf2,\n",
    "    left_on=[\"projname\", \"description\"],\n",
    "    right_on=[\"projecttitle\", \"projectdescription\"],\n",
    "    how=\"outer\",\n",
    "    indicator=True,\n",
    ")[[\"_merge\"]].value_counts()"
   ]
  },
  {
   "cell_type": "code",
   "execution_count": null,
   "id": "62679591-eac5-429b-999b-630e77cc9735",
   "metadata": {},
   "outputs": [],
   "source": [
    "pd.merge(\n",
    "    sb1_df2,\n",
    "    full_gdf2,\n",
    "    left_on=[\"projname\", \"countycode\"],\n",
    "    right_on=[\"projecttitle\", \"countycodes\"],\n",
    "    how=\"outer\",\n",
    "    indicator=True,\n",
    ")[[\"_merge\"]].value_counts()"
   ]
  },
  {
   "cell_type": "code",
   "execution_count": null,
   "id": "629b5faf-1278-41cb-9c62-ebea1a730848",
   "metadata": {},
   "outputs": [],
   "source": [
    "url_pt1 = \"https://odpsvcs.dot.ca.gov/arcgis/rest/services/RCA/RCA_Projects_032022/FeatureServer/\"\n",
    "url_pt2 = \"/query?where=1%3D1&objectIds=&time=&geometry=&geometryType=esriGeometryEnvelope&inSR=&spatialRel=esriSpatialRelIntersects&distance=&units=esriSRUnit_Foot&relationParam=&outFields=*+&returnGeometry=true&maxAllowableOffset=&geometryPrecision=&outSR=&gdbVersion=&historicMoment=&returnDistinctValues=false&returnIdsOnly=false&returnCountOnly=false&returnExtentOnly=false&orderByFields=&groupByFieldsForStatistics=&outStatistics=&returnZ=false&returnM=false&multipatchOption=&resultOffset=&resultRecordCount=&returnTrueCurves=false&sqlFormat=none&f=geojson\""
   ]
  },
  {
   "cell_type": "code",
   "execution_count": null,
   "id": "c30d39fb-1ff7-4160-af7e-1360d0806d50",
   "metadata": {},
   "outputs": [],
   "source": [
    "def sb1_basic_cleaning(\n",
    "    gdf: gpd.GeoDataFrame, project_name_col: str\n",
    ") -> gpd.GeoDataFrame:\n",
    "    \"\"\"\n",
    "    Perform basic cleaning before joining\n",
    "    SB1 & Non SHOPP data together.\n",
    "    \"\"\"\n",
    "    # Some project names contain the year. Remove anything after 20..\n",
    "    gdf[project_name_col] = gdf[project_name_col].str.split(\"20\").str[0]\n",
    "\n",
    "    # Get rid of | in object cols\n",
    "    # https://stackoverflow.com/questions/68152902/extracting-only-object-type-columns-in-a-separate-list-from-a-data-frame-in-pand\n",
    "    string_cols = gdf.select_dtypes(include=[\"object\"]).columns.to_list()\n",
    "    try:\n",
    "        for i in string_cols:\n",
    "            gdf[i] = (\n",
    "                gdf[i]\n",
    "                .str.replace(\"|\", \"\")\n",
    "                .str.lower()\n",
    "                .str.replace(\"[^\\w\\s]\", \"\")\n",
    "                .str.strip()\n",
    "            )\n",
    "    except:\n",
    "        pass\n",
    "\n",
    "    # Try to extract titles from popups\n",
    "    try:\n",
    "        df[\"popup\"] = (\n",
    "            df[\"popup\"]\n",
    "            .str.split(\"<br  />\")\n",
    "            .str[1]\n",
    "            .str.split(\"20\")\n",
    "            .str[0]\n",
    "            .str.lower()\n",
    "            .str.strip()\n",
    "            .str.replace(\"[^\\w\\s]\", \"\")\n",
    "        )\n",
    "    except:\n",
    "        pass\n",
    "\n",
    "    return gdf"
   ]
  },
  {
   "cell_type": "code",
   "execution_count": null,
   "id": "fe57ecfb-fd8c-4008-87c2-1f5a3c26d746",
   "metadata": {},
   "outputs": [],
   "source": [
    "def load_sb1_all_projects() -> pd.DataFrame:\n",
    "    \"\"\"\n",
    "    Load in all projects layer of SB1 because it\n",
    "    contains a value for every row in the\n",
    "    project title column.\n",
    "    \"\"\"\n",
    "    df = f\"{url_pt1}22{url_pt2}\"\n",
    "\n",
    "    df = to_snakecase(gpd.read_file(df))\n",
    "\n",
    "    # No geometry, just drop it\n",
    "    df = df.drop(columns=[\"geometry\"])\n",
    "\n",
    "    # Basic cleaning\n",
    "    df = sb1_basic_cleaning(\n",
    "        df, \"implementingagency\", \"projecttitle\", \"projectid\", \"projectdescription\"\n",
    "    )\n",
    "\n",
    "    return df"
   ]
  },
  {
   "cell_type": "code",
   "execution_count": null,
   "id": "a9ad9c79-56b3-4400-9697-b7efccfe1db0",
   "metadata": {},
   "outputs": [],
   "source": [
    "def sb1_final() -> gpd.GeoDataFrame:\n",
    "    \"\"\"\n",
    "    Layers 0-21 with geographic information\n",
    "    don't always have project titles for each\n",
    "    of the projects. Merge these layers with\n",
    "    layer 22, which does have title information.\n",
    "    \"\"\"\n",
    "    all_projects_subset = [\n",
    "        \"projecttitle\",\n",
    "        \"programcodes\",\n",
    "        \"totalcost\",\n",
    "        \"implementingagency\",\n",
    "        \"fiscalyearcode\",\n",
    "    ]\n",
    "\n",
    "    sb1_geo, missing_geo = load_sb1_rest_server()\n",
    "    sb1_all_projects = load_sb1_all_projects()[all_projects_subset]\n",
    "\n",
    "    # Merge\n",
    "    merge1 = pd.merge(\n",
    "        sb1_geo,\n",
    "        sb1_all_projects,\n",
    "        how=\"left\",\n",
    "        left_on=[\"programcodes\", \"totalcost\", \"agencies\", \"fiscalyearcodes\"],\n",
    "        right_on=[\"programcodes\", \"totalcost\", \"implementingagency\", \"fiscalyearcode\"],\n",
    "    )\n",
    "\n",
    "    # Fill in missing project titles in sb1_geo with information from\n",
    "    # sb1_all_projects\n",
    "    merge1.projecttitle_x = merge1.projecttitle_x.fillna(merge1.projecttitle_y)\n",
    "\n",
    "    # Fill missing titles with none\n",
    "    merge1.projecttitle_x = merge1.projecttitle_x.fillna(\"None\")\n",
    "\n",
    "    # Drop columns\n",
    "    merge1 = merge1.drop(columns=[\"projecttitle_y\"])\n",
    "\n",
    "    # Add a new column detailing where this information comes from\n",
    "    merge1 = merge1.assign(notes=merge1.programcodes + \"/\" + \"SB1\")\n",
    "\n",
    "    merge1 = merge1.fillna(merge1.dtypes.replace({\"float64\": 0.0, \"object\": \"None\"}))\n",
    "    return merge1"
   ]
  },
  {
   "cell_type": "code",
   "execution_count": null,
   "id": "bcc62451-98c7-4187-bab3-ad89a039cf75",
   "metadata": {},
   "outputs": [],
   "source": [
    "sb1_final_gdf = sb1_final()"
   ]
  },
  {
   "cell_type": "code",
   "execution_count": null,
   "id": "afbd958b-5836-4789-9372-62edac321165",
   "metadata": {},
   "outputs": [],
   "source": [
    "sb1_final_gdf.projectstatuscodes.value_counts()"
   ]
  },
  {
   "cell_type": "code",
   "execution_count": null,
   "id": "c2af4504-84bc-48b5-85ad-0b0324510590",
   "metadata": {},
   "outputs": [],
   "source": [
    "len(sb1_final_gdf), sb1_final_gdf.geometry.nunique()"
   ]
  },
  {
   "cell_type": "code",
   "execution_count": null,
   "id": "a52f1771-0064-493b-a339-d1dcece8ed2b",
   "metadata": {},
   "outputs": [],
   "source": [
    "sb1_final_gdf.info()"
   ]
  },
  {
   "cell_type": "code",
   "execution_count": null,
   "id": "23f286bd-e22d-4885-8997-1ba4353648a1",
   "metadata": {},
   "outputs": [],
   "source": [
    "sb1_final_gdf.projecttitle_x.value_counts().head(10)"
   ]
  },
  {
   "cell_type": "code",
   "execution_count": null,
   "id": "f2edcfa1-080f-4f09-bd3d-2a72c1e12149",
   "metadata": {},
   "outputs": [],
   "source": [
    "sb1_final_gdf[sb1_final_gdf.projecttitle_x == \"major damage restoration\"].groupby(\n",
    "    [\"projecttitle_x\", \"countynames\"]\n",
    ").agg({\"objectid\": \"count\"}).head()"
   ]
  },
  {
   "cell_type": "code",
   "execution_count": null,
   "id": "218ee516-3050-40dc-ae03-34d4a4e5ff3e",
   "metadata": {},
   "outputs": [],
   "source": [
    "sb1_final_gdf.projectstatuscodes.value_counts()"
   ]
  },
  {
   "cell_type": "code",
   "execution_count": null,
   "id": "61f6be29-f2ab-4f89-9ea7-98c44733ad86",
   "metadata": {},
   "outputs": [],
   "source": [
    "sb1_final_gdf.projectstatuscodes.unique()"
   ]
  },
  {
   "cell_type": "code",
   "execution_count": null,
   "id": "a9b35d63-e309-4bf4-a0bb-c3b15951240b",
   "metadata": {},
   "outputs": [],
   "source": [
    "sb1_final_gdf.projectstatuses.value_counts()"
   ]
  },
  {
   "cell_type": "code",
   "execution_count": null,
   "id": "e7b4eea5-18d9-4f5e-82ec-dfd499c3371e",
   "metadata": {
    "scrolled": true,
    "tags": []
   },
   "outputs": [],
   "source": [
    "sb1_final_gdf[\n",
    "    (sb1_final_gdf.projecttitle_x == \"major damage restoration\")\n",
    "    & (sb1_final_gdf.countynames == \"Alameda\")\n",
    "]"
   ]
  },
  {
   "cell_type": "code",
   "execution_count": null,
   "id": "14887b33-91fd-4ade-8c79-788024fe192f",
   "metadata": {},
   "outputs": [],
   "source": [
    "sb1_final_gdf[\n",
    "    (sb1_final_gdf.projecttitle_x == \"major damage restoration\")\n",
    "    & (sb1_final_gdf.countynames == \"Alameda\")\n",
    "].plot()"
   ]
  },
  {
   "cell_type": "code",
   "execution_count": null,
   "id": "c216f060-648a-4294-b07d-9142d23d6827",
   "metadata": {},
   "outputs": [],
   "source": [
    "# sb1_final_gdf[sb1_final_gdf.projecttitle_x == \"major damage restoration\"].explore()"
   ]
  }
 ],
 "metadata": {
  "kernelspec": {
   "display_name": "Python 3 (ipykernel)",
   "language": "python",
   "name": "python3"
  },
  "language_info": {
   "codemirror_mode": {
    "name": "ipython",
    "version": 3
   },
   "file_extension": ".py",
   "mimetype": "text/x-python",
   "name": "python",
   "nbconvert_exporter": "python",
   "pygments_lexer": "ipython3",
   "version": "3.9.13"
  }
 },
 "nbformat": 4,
 "nbformat_minor": 5
}
