{
 "cells": [
  {
   "cell_type": "markdown",
   "id": "79a419d1-4725-471f-9ba9-7c1015125039",
   "metadata": {},
   "source": [
    "## SB1 \n",
    "* Need to find out\n",
    "    * What's the difference between RCA/RCA_Projects_092023 (FeatureServer) and RCA/RCA_Projects_102023 (FeatureServer) here https://odpsvcs.dot.ca.gov/arcgis/rest/services/RCA?\n",
    "    * What's the right link to use to grab the projects: https://odpsvcs.dot.ca.gov/arcgis/rest/services/SB1/SB1_ProjectData/FeatureServer or https://odpsvcs.dot.ca.gov/arcgis/rest/services/RCA?\n",
    "        * I think link 1 is related to the SB1 map online\n",
    "        * Unsure what the second map is about?"
   ]
  },
  {
   "cell_type": "code",
   "execution_count": 1,
   "id": "f6ddf257-863a-41d8-9830-ef8b7d91647b",
   "metadata": {},
   "outputs": [],
   "source": [
    "import geopandas as gpd\n",
    "import numpy as np\n",
    "import pandas as pd\n",
    "import _harmonization_utils \n",
    "from calitp_data_analysis.sql import to_snakecase\n",
    "from calitp_data_analysis import utils"
   ]
  },
  {
   "cell_type": "code",
   "execution_count": 2,
   "id": "2a49b60c-2fb0-44fd-80c4-a7f98556585d",
   "metadata": {},
   "outputs": [],
   "source": [
    "pd.options.display.max_columns = 100\n",
    "pd.options.display.float_format = \"{:.2f}\".format\n",
    "pd.set_option(\"display.max_rows\", None)\n",
    "pd.set_option(\"display.max_colwidth\", None)"
   ]
  },
  {
   "cell_type": "code",
   "execution_count": 3,
   "id": "b0bb2532-b0d2-4a06-a9e1-ab7b2615b1be",
   "metadata": {},
   "outputs": [],
   "source": [
    "# sb1, missing_geo_sb1 = load_sb1_rest_server()"
   ]
  },
  {
   "cell_type": "code",
   "execution_count": 4,
   "id": "3ac7b6d2-492b-414c-8dc5-73ca033d1a9b",
   "metadata": {},
   "outputs": [],
   "source": [
    "# len(sb1), type(sb1)"
   ]
  },
  {
   "cell_type": "code",
   "execution_count": 5,
   "id": "62aa37e5-91cc-4c7b-88da-8498f05baa78",
   "metadata": {},
   "outputs": [],
   "source": [
    "# len(missing_geo_sb1)"
   ]
  },
  {
   "cell_type": "code",
   "execution_count": null,
   "id": "bc2484ee-dfd5-4e15-b858-e264f6008b36",
   "metadata": {},
   "outputs": [],
   "source": [
    "# sb1_all_projects = load_sb1_all_projects()"
   ]
  },
  {
   "cell_type": "code",
   "execution_count": null,
   "id": "17f555ad-8990-41bb-a50c-da5a9a960b66",
   "metadata": {},
   "outputs": [],
   "source": [
    "# len(sb1_all_projects)"
   ]
  },
  {
   "cell_type": "markdown",
   "id": "90e7db56-e45a-42cc-aae3-ad42664615b3",
   "metadata": {},
   "source": [
    "### Link above broken, try new link\n",
    "* https://odpsvcs.dot.ca.gov/arcgis/rest/services/RCA/RCA_Projects_092023/FeatureServer"
   ]
  },
  {
   "cell_type": "markdown",
   "id": "d5fc1c97-8288-4de2-aee0-45cef8af6d8c",
   "metadata": {},
   "source": [
    "#### Link 1\n",
    "* SB1 Only\n",
    "* https://odpsvcs.dot.ca.gov/arcgis/rest/services/SB1/SB1_ProjectData/FeatureServer"
   ]
  },
  {
   "cell_type": "code",
   "execution_count": 71,
   "id": "aa6cf22d-a5dd-4092-80fb-1c9fb84b2fda",
   "metadata": {},
   "outputs": [],
   "source": [
    "def sb1_basic_cleaning(\n",
    "    gdf: gpd.GeoDataFrame, \n",
    "    project_name_col:str,\n",
    "    agency_col:str)-> gpd.GeoDataFrame:\n",
    "    \"\"\"\n",
    "    Perform basic cleaning before joining\n",
    "    SB1 & Non SHOPP data together.\n",
    "    \"\"\"\n",
    "    # Some project names contain the year. Remove anything after 20..\n",
    "    gdf[project_name_col] = gdf[project_name_col].str.split(\"20\").str[0]\n",
    "    \n",
    "   \n",
    "    # Get rid of | in object cols\n",
    "    # https://stackoverflow.com/questions/68152902/extracting-only-object-type-columns-in-a-separate-list-from-a-data-frame-in-pand\n",
    "    string_cols = gdf.select_dtypes(include=[\"object\"]).columns.to_list()\n",
    "    try:\n",
    "        for i in string_cols:\n",
    "            gdf[i] = gdf[i].str.replace(\"|\", \"\").str.title().str.replace(\"[^\\w\\s]\", \"\").str.strip()\n",
    "            gdf[i] = gdf[i].fillna('None')\n",
    "    except:\n",
    "        pass\n",
    "    \n",
    "    # Project agency always says \"Los Angeles submitted by county\" \n",
    "    # or \"Fremont submitted by city.\" Remove submitted by.\n",
    "    gdf[agency_col]  = gdf[agency_col].str.replace('Submitted By', ' ')\n",
    "    \n",
    " \n",
    "    return gdf"
   ]
  },
  {
   "cell_type": "code",
   "execution_count": 82,
   "id": "adf481c8-cc07-436b-868e-f2017ddbca1b",
   "metadata": {},
   "outputs": [],
   "source": [
    "def load_sb1() -> gpd.GeoDataFrame:\n",
    "    \"\"\"\n",
    "    Load all the projects on the SB1 map from the Feature Server.\n",
    "\n",
    "    https://odpsvcs.dot.ca.gov/arcgis/rest/services/SB1/SB1_ProjectData/FeatureServer\n",
    "    \"\"\"\n",
    "    sb1_pt1 = \"https://odpsvcs.dot.ca.gov/arcgis/rest/services/SB1/SB1_ProjectData/FeatureServer/\"\n",
    "    sb1_pt2 = \"/query?where=1%3D1&objectIds=&time=&geometry=&geometryType=esriGeometryEnvelope&inSR=&spatialRel=esriSpatialRelIntersects&distance=&units=esriSRUnit_Foot&relationParam=&outFields=*+&returnGeometry=true&maxAllowableOffset=&geometryPrecision=&outSR=&gdbVersion=&historicMoment=&returnDistinctValues=false&returnIdsOnly=false&returnCountOnly=false&returnExtentOnly=false&orderByFields=&groupByFieldsForStatistics=&outStatistics=&returnZ=false&returnM=false&multipatchOption=&resultOffset=&resultRecordCount=&returnTrueCurves=false&sqlFormat=none&f=geojson\"\n",
    "\n",
    "    full_gdf = pd.DataFrame()\n",
    "    for i in list(map(str, [*range(0, 16)])):\n",
    "        df = to_snakecase(gpd.read_file(f\"{sb1_pt1}{i}{sb1_pt2}\"))\n",
    "        full_gdf = pd.concat([full_gdf, df], axis=0)\n",
    "    \n",
    "    # Basic cleaning\n",
    "    full_gdf = sb1_basic_cleaning(\n",
    "        full_gdf, \"projname\", \"projagency\",\n",
    "    )\n",
    "    \n",
    "    # Find missing geo\n",
    "    missing_geo = full_gdf[(full_gdf.geometry.is_empty)]\n",
    "    print(f\"{len(missing_geo)} rows are mising geometry\")\n",
    "    \n",
    "    # Find invalid geo\n",
    "    invalid_geo = full_gdf[~full_gdf.geometry.is_valid].reset_index(drop = True)\n",
    "    print(f\"{len(invalid_geo)} rows contain invalid geography\")\n",
    "    \n",
    "    # Filter out completed\n",
    "    full_gdf = full_gdf.loc[full_gdf.projstatus != \"Completed\"].reset_index(drop = True)\n",
    "    return full_gdf"
   ]
  },
  {
   "cell_type": "code",
   "execution_count": 83,
   "id": "a86b2bc6-e1db-403f-a365-82dc3f529bcf",
   "metadata": {
    "scrolled": true,
    "tags": []
   },
   "outputs": [
    {
     "name": "stderr",
     "output_type": "stream",
     "text": [
      "/tmp/ipykernel_786/2564796168.py:18: FutureWarning: The default value of regex will change from True to False in a future version. In addition, single character regular expressions will *not* be treated as literal strings when regex=True.\n",
      "  gdf[i] = gdf[i].str.replace(\"|\", \"\").str.title().str.replace(\"[^\\w\\s]\", \"\").str.strip()\n",
      "/tmp/ipykernel_786/2564796168.py:18: FutureWarning: The default value of regex will change from True to False in a future version.\n",
      "  gdf[i] = gdf[i].str.replace(\"|\", \"\").str.title().str.replace(\"[^\\w\\s]\", \"\").str.strip()\n"
     ]
    },
    {
     "name": "stdout",
     "output_type": "stream",
     "text": [
      "0 rows are mising geometry\n",
      "7917 rows contain invalid geography\n"
     ]
    }
   ],
   "source": [
    "sb1_df1 = load_sb1()"
   ]
  },
  {
   "cell_type": "code",
   "execution_count": 74,
   "id": "84f7a67f-cbed-4588-b215-4bd3079ed01d",
   "metadata": {},
   "outputs": [
    {
     "data": {
      "text/plain": [
       "5430"
      ]
     },
     "execution_count": 74,
     "metadata": {},
     "output_type": "execute_result"
    }
   ],
   "source": [
    "sb1_df1.projname.nunique()"
   ]
  },
  {
   "cell_type": "code",
   "execution_count": 75,
   "id": "a33ebc54-c82e-41fc-b1b7-5af0b74b50ba",
   "metadata": {},
   "outputs": [
    {
     "data": {
      "text/plain": [
       "7919"
      ]
     },
     "execution_count": 75,
     "metadata": {},
     "output_type": "execute_result"
    }
   ],
   "source": [
    "sb1_df1.projectid.nunique()"
   ]
  },
  {
   "cell_type": "code",
   "execution_count": 76,
   "id": "868c3a1a-bd32-4992-9c25-0b501fee9571",
   "metadata": {},
   "outputs": [
    {
     "data": {
      "text/plain": [
       "array(['Solutions To Congested Corridors Program',\n",
       "       'Trade Corridor Enhancement Program',\n",
       "       'Solutions For Congested Corridors Program',\n",
       "       'State Rail Assistance',\n",
       "       'Transit And Intercity Rail Capital Program',\n",
       "       'State Of Good Repair', 'State Highway Projects',\n",
       "       'State Transit Assistance', 'Local Partnership Program',\n",
       "       'Active Transportation Program', 'Local Streets And Roads',\n",
       "       '201718 Local Streets And Roads', '201819 Local Streets And Roads'],\n",
       "      dtype=object)"
      ]
     },
     "execution_count": 76,
     "metadata": {},
     "output_type": "execute_result"
    }
   ],
   "source": [
    "sb1_df1.projprogram.unique()"
   ]
  },
  {
   "cell_type": "code",
   "execution_count": 77,
   "id": "fb9fd4ca-4b89-4569-a916-eb63c9b55f78",
   "metadata": {},
   "outputs": [
    {
     "data": {
      "text/plain": [
       "9536"
      ]
     },
     "execution_count": 77,
     "metadata": {},
     "output_type": "execute_result"
    }
   ],
   "source": [
    " len(sb1_df1)"
   ]
  },
  {
   "cell_type": "code",
   "execution_count": 79,
   "id": "4547ebc3-fa0f-411c-98d0-5f112fd09e65",
   "metadata": {},
   "outputs": [
    {
     "data": {
      "text/plain": [
       "Index(['objectid', 'projectid', 'projname', 'projcatcode', 'projcategory',\n",
       "       'projprogcode', 'projprogram', 'multiprogfunded', 'projstatus',\n",
       "       'description', 'cost', 'assemblydistrict', 'senatedistrict',\n",
       "       'assemblycode', 'senatecode', 'countyname', 'cityname', 'countycode',\n",
       "       'citycode', 'appagencyname', 'impagencyname', 'popuptitle', 'popup',\n",
       "       'geometry', 'projcount', 'totalcosts', 'projlisturl', 'projlist2url',\n",
       "       'mponame', 'mpocode', 'assetcategory', 'bphotojpg', 'bphotohtml',\n",
       "       'aphotojpg', 'aphotohtml', 'routes', 'constyear', 'costfull',\n",
       "       'projagency'],\n",
       "      dtype='object')"
      ]
     },
     "execution_count": 79,
     "metadata": {},
     "output_type": "execute_result"
    }
   ],
   "source": [
    "sb1_df1.columns"
   ]
  },
  {
   "cell_type": "code",
   "execution_count": 81,
   "id": "ec8392ec-f31c-4f1e-a018-f68a017baacf",
   "metadata": {},
   "outputs": [
    {
     "data": {
      "text/plain": [
       "PreConstruction    7093\n",
       "Construction       1129\n",
       "None                964\n",
       "Completed           350\n",
       "Name: projstatus, dtype: int64"
      ]
     },
     "execution_count": 81,
     "metadata": {},
     "output_type": "execute_result"
    }
   ],
   "source": [
    "sb1_df1.projstatus.value_counts()"
   ]
  },
  {
   "cell_type": "code",
   "execution_count": 80,
   "id": "b87443ca-0d66-414a-a5b9-d1dc64e57d50",
   "metadata": {},
   "outputs": [
    {
     "data": {
      "text/html": [
       "<div>\n",
       "<style scoped>\n",
       "    .dataframe tbody tr th:only-of-type {\n",
       "        vertical-align: middle;\n",
       "    }\n",
       "\n",
       "    .dataframe tbody tr th {\n",
       "        vertical-align: top;\n",
       "    }\n",
       "\n",
       "    .dataframe thead th {\n",
       "        text-align: right;\n",
       "    }\n",
       "</style>\n",
       "<table border=\"1\" class=\"dataframe\">\n",
       "  <thead>\n",
       "    <tr style=\"text-align: right;\">\n",
       "      <th></th>\n",
       "      <th>objectid</th>\n",
       "      <th>projectid</th>\n",
       "      <th>projname</th>\n",
       "      <th>projcatcode</th>\n",
       "      <th>projcategory</th>\n",
       "      <th>projprogcode</th>\n",
       "      <th>projprogram</th>\n",
       "      <th>multiprogfunded</th>\n",
       "      <th>projstatus</th>\n",
       "      <th>description</th>\n",
       "      <th>cost</th>\n",
       "      <th>assemblydistrict</th>\n",
       "      <th>senatedistrict</th>\n",
       "      <th>assemblycode</th>\n",
       "      <th>senatecode</th>\n",
       "      <th>countyname</th>\n",
       "      <th>cityname</th>\n",
       "      <th>countycode</th>\n",
       "      <th>citycode</th>\n",
       "      <th>appagencyname</th>\n",
       "      <th>impagencyname</th>\n",
       "      <th>popuptitle</th>\n",
       "      <th>popup</th>\n",
       "      <th>projcount</th>\n",
       "      <th>totalcosts</th>\n",
       "      <th>projlisturl</th>\n",
       "      <th>projlist2url</th>\n",
       "      <th>mponame</th>\n",
       "      <th>mpocode</th>\n",
       "      <th>assetcategory</th>\n",
       "      <th>bphotojpg</th>\n",
       "      <th>bphotohtml</th>\n",
       "      <th>aphotojpg</th>\n",
       "      <th>aphotohtml</th>\n",
       "      <th>routes</th>\n",
       "      <th>constyear</th>\n",
       "      <th>costfull</th>\n",
       "      <th>projagency</th>\n",
       "    </tr>\n",
       "  </thead>\n",
       "  <tbody>\n",
       "    <tr>\n",
       "      <th>3838</th>\n",
       "      <td>169568</td>\n",
       "      <td>LsrFy17185944Pp012</td>\n",
       "      <td>Intergarrison Road</td>\n",
       "      <td>Local</td>\n",
       "      <td>Local And Regional</td>\n",
       "      <td>Lsr1718</td>\n",
       "      <td>201718 Local Streets And Roads</td>\n",
       "      <td>None</td>\n",
       "      <td>PreConstruction</td>\n",
       "      <td>Overlay 08 Of A Mile Of Road</td>\n",
       "      <td>None</td>\n",
       "      <td>29</td>\n",
       "      <td>17</td>\n",
       "      <td>29</td>\n",
       "      <td>17</td>\n",
       "      <td>Monterey  Submitted By County</td>\n",
       "      <td>None</td>\n",
       "      <td>Mon</td>\n",
       "      <td>None</td>\n",
       "      <td>None</td>\n",
       "      <td>None</td>\n",
       "      <td>None</td>\n",
       "      <td>None</td>\n",
       "      <td>NaN</td>\n",
       "      <td>None</td>\n",
       "      <td>None</td>\n",
       "      <td>None</td>\n",
       "      <td>None</td>\n",
       "      <td>None</td>\n",
       "      <td>None</td>\n",
       "      <td>None</td>\n",
       "      <td>None</td>\n",
       "      <td>None</td>\n",
       "      <td>None</td>\n",
       "      <td>None</td>\n",
       "      <td>2020</td>\n",
       "      <td>0.00</td>\n",
       "      <td>Monterey    County</td>\n",
       "    </tr>\n",
       "    <tr>\n",
       "      <th>2311</th>\n",
       "      <td>168032</td>\n",
       "      <td>LsrFy17185360Pp002</td>\n",
       "      <td>Alley Hawthorne</td>\n",
       "      <td>Local</td>\n",
       "      <td>Local And Regional</td>\n",
       "      <td>Lsr1718</td>\n",
       "      <td>201718 Local Streets And Roads</td>\n",
       "      <td>None</td>\n",
       "      <td>PreConstruction</td>\n",
       "      <td>RepaveResurface 005 Miles Of Road Replace 600 Square Feet Of Cross Gutter</td>\n",
       "      <td>None</td>\n",
       "      <td>62</td>\n",
       "      <td>35</td>\n",
       "      <td>62</td>\n",
       "      <td>35</td>\n",
       "      <td>Los Angeles</td>\n",
       "      <td>Lawndale  Submitted By City</td>\n",
       "      <td>La</td>\n",
       "      <td>Lndl</td>\n",
       "      <td>None</td>\n",
       "      <td>None</td>\n",
       "      <td>None</td>\n",
       "      <td>None</td>\n",
       "      <td>NaN</td>\n",
       "      <td>None</td>\n",
       "      <td>None</td>\n",
       "      <td>None</td>\n",
       "      <td>None</td>\n",
       "      <td>None</td>\n",
       "      <td>None</td>\n",
       "      <td>None</td>\n",
       "      <td>None</td>\n",
       "      <td>None</td>\n",
       "      <td>None</td>\n",
       "      <td>None</td>\n",
       "      <td>2018</td>\n",
       "      <td>0.00</td>\n",
       "      <td>Lawndale    City</td>\n",
       "    </tr>\n",
       "    <tr>\n",
       "      <th>3740</th>\n",
       "      <td>169470</td>\n",
       "      <td>LsrFy17185936Pp002</td>\n",
       "      <td>Bear Creek Rd</td>\n",
       "      <td>Local</td>\n",
       "      <td>Local And Regional</td>\n",
       "      <td>Lsr1718</td>\n",
       "      <td>201718 Local Streets And Roads</td>\n",
       "      <td>None</td>\n",
       "      <td>PreConstruction</td>\n",
       "      <td>RoadwayEmbankment Settling 70 L  Recommend Wb Traveled Way And Shoulder Reconstruction And Retaining Wall Soldier Pile Installation</td>\n",
       "      <td>None</td>\n",
       "      <td>29</td>\n",
       "      <td>17</td>\n",
       "      <td>29</td>\n",
       "      <td>17</td>\n",
       "      <td>Santa Cruz  Submitted By County</td>\n",
       "      <td>None</td>\n",
       "      <td>Scr</td>\n",
       "      <td>None</td>\n",
       "      <td>None</td>\n",
       "      <td>None</td>\n",
       "      <td>None</td>\n",
       "      <td>None</td>\n",
       "      <td>NaN</td>\n",
       "      <td>None</td>\n",
       "      <td>None</td>\n",
       "      <td>None</td>\n",
       "      <td>None</td>\n",
       "      <td>None</td>\n",
       "      <td>None</td>\n",
       "      <td>None</td>\n",
       "      <td>None</td>\n",
       "      <td>None</td>\n",
       "      <td>None</td>\n",
       "      <td>None</td>\n",
       "      <td>2018</td>\n",
       "      <td>0.00</td>\n",
       "      <td>Santa Cruz    County</td>\n",
       "    </tr>\n",
       "  </tbody>\n",
       "</table>\n",
       "</div>"
      ],
      "text/plain": [
       "      objectid           projectid            projname projcatcode  \\\n",
       "3838    169568  LsrFy17185944Pp012  Intergarrison Road       Local   \n",
       "2311    168032  LsrFy17185360Pp002     Alley Hawthorne       Local   \n",
       "3740    169470  LsrFy17185936Pp002       Bear Creek Rd       Local   \n",
       "\n",
       "            projcategory projprogcode                     projprogram  \\\n",
       "3838  Local And Regional      Lsr1718  201718 Local Streets And Roads   \n",
       "2311  Local And Regional      Lsr1718  201718 Local Streets And Roads   \n",
       "3740  Local And Regional      Lsr1718  201718 Local Streets And Roads   \n",
       "\n",
       "     multiprogfunded       projstatus  \\\n",
       "3838            None  PreConstruction   \n",
       "2311            None  PreConstruction   \n",
       "3740            None  PreConstruction   \n",
       "\n",
       "                                                                                                                              description  \\\n",
       "3838                                                                                                         Overlay 08 Of A Mile Of Road   \n",
       "2311                                                            RepaveResurface 005 Miles Of Road Replace 600 Square Feet Of Cross Gutter   \n",
       "3740  RoadwayEmbankment Settling 70 L  Recommend Wb Traveled Way And Shoulder Reconstruction And Retaining Wall Soldier Pile Installation   \n",
       "\n",
       "      cost assemblydistrict senatedistrict assemblycode senatecode  \\\n",
       "3838  None               29             17           29         17   \n",
       "2311  None               62             35           62         35   \n",
       "3740  None               29             17           29         17   \n",
       "\n",
       "                           countyname                     cityname countycode  \\\n",
       "3838    Monterey  Submitted By County                         None        Mon   \n",
       "2311                      Los Angeles  Lawndale  Submitted By City         La   \n",
       "3740  Santa Cruz  Submitted By County                         None        Scr   \n",
       "\n",
       "     citycode appagencyname impagencyname popuptitle popup  projcount  \\\n",
       "3838     None          None          None       None  None        NaN   \n",
       "2311     Lndl          None          None       None  None        NaN   \n",
       "3740     None          None          None       None  None        NaN   \n",
       "\n",
       "     totalcosts projlisturl projlist2url mponame mpocode assetcategory  \\\n",
       "3838       None        None         None    None    None          None   \n",
       "2311       None        None         None    None    None          None   \n",
       "3740       None        None         None    None    None          None   \n",
       "\n",
       "     bphotojpg bphotohtml aphotojpg aphotohtml routes constyear  costfull  \\\n",
       "3838      None       None      None       None   None      2020      0.00   \n",
       "2311      None       None      None       None   None      2018      0.00   \n",
       "3740      None       None      None       None   None      2018      0.00   \n",
       "\n",
       "                projagency  \n",
       "3838    Monterey    County  \n",
       "2311      Lawndale    City  \n",
       "3740  Santa Cruz    County  "
      ]
     },
     "execution_count": 80,
     "metadata": {},
     "output_type": "execute_result"
    }
   ],
   "source": [
    "sb1_df1.drop(columns = ['geometry']).sample(3)"
   ]
  },
  {
   "cell_type": "code",
   "execution_count": 50,
   "id": "a1abd41c-7d81-482e-b2bb-0445930849e7",
   "metadata": {},
   "outputs": [],
   "source": [
    "# sb1_df1.explore('projname', legend = False)"
   ]
  },
  {
   "cell_type": "markdown",
   "id": "7f9453dd-7e02-49b7-8a68-d29520bdf4b7",
   "metadata": {
    "tags": []
   },
   "source": [
    "#### Link 2\n",
    "* This includes IIJA\n",
    "* https://odpsvcs.dot.ca.gov/arcgis/rest/services/RCA/RCA_Projects_092023/FeatureServer\n",
    "* Why are there LESS projects below compared to SB1??"
   ]
  },
  {
   "cell_type": "code",
   "execution_count": 101,
   "id": "e17b3d5f-a38f-4ebd-890c-7bcaff24e10c",
   "metadata": {},
   "outputs": [],
   "source": [
    "url_pt1 = \"https://odpsvcs.dot.ca.gov/arcgis/rest/services/RCA/RCA_Projects_092023/FeatureServer/\""
   ]
  },
  {
   "cell_type": "code",
   "execution_count": 102,
   "id": "0f249d5a-2024-4430-be15-41111e2d24b8",
   "metadata": {},
   "outputs": [],
   "source": [
    "url_pt2 = \"/query?where=1%3D1&objectIds=&time=&geometry=&geometryType=esriGeometryEnvelope&inSR=&spatialRel=esriSpatialRelIntersects&distance=&units=esriSRUnit_Foot&relationParam=&outFields=*+&returnGeometry=true&maxAllowableOffset=&geometryPrecision=&outSR=&gdbVersion=&historicMoment=&returnDistinctValues=false&returnIdsOnly=false&returnCountOnly=false&returnExtentOnly=false&orderByFields=&groupByFieldsForStatistics=&outStatistics=&returnZ=false&returnM=false&multipatchOption=&resultOffset=&resultRecordCount=&returnTrueCurves=false&sqlFormat=none&f=geojson\""
   ]
  },
  {
   "cell_type": "code",
   "execution_count": 103,
   "id": "6a2aedac-dc9e-4f74-83ad-d430cc90986f",
   "metadata": {},
   "outputs": [],
   "source": [
    "int_to_string = list(map(str, [*range(0, 28)]))"
   ]
  },
  {
   "cell_type": "code",
   "execution_count": 104,
   "id": "fcca6479-bf48-4032-b6fe-a32bc1a0b164",
   "metadata": {
    "scrolled": true,
    "tags": []
   },
   "outputs": [],
   "source": [
    "full_gdf = pd.DataFrame()\n",
    "for i in int_to_string:\n",
    "    df = to_snakecase(gpd.read_file(f\"{url_pt1}{i}{url_pt2}\"))\n",
    "    full_gdf = pd.concat([full_gdf, df], axis=0)"
   ]
  },
  {
   "cell_type": "code",
   "execution_count": 105,
   "id": "3b80765a-5b46-4c8a-9769-acfdf40b9ec7",
   "metadata": {},
   "outputs": [
    {
     "data": {
      "text/plain": [
       "(7631, 38)"
      ]
     },
     "execution_count": 105,
     "metadata": {},
     "output_type": "execute_result"
    }
   ],
   "source": [
    "full_gdf.shape"
   ]
  },
  {
   "cell_type": "code",
   "execution_count": 106,
   "id": "bd86047d-72a8-43f9-98ae-1f124e34b1f3",
   "metadata": {},
   "outputs": [
    {
     "data": {
      "text/plain": [
       "((7631, 38), (9186, 39))"
      ]
     },
     "execution_count": 106,
     "metadata": {},
     "output_type": "execute_result"
    }
   ],
   "source": [
    "full_gdf.shape, sb1_df1.shape"
   ]
  },
  {
   "cell_type": "markdown",
   "id": "4abd76e2-50d0-43d0-84e9-84150579a2f6",
   "metadata": {},
   "source": [
    "#### Compare"
   ]
  },
  {
   "cell_type": "code",
   "execution_count": 109,
   "id": "673b736b-7429-4511-ab8f-d9a6d806d074",
   "metadata": {},
   "outputs": [
    {
     "data": {
      "text/plain": [
       "Index(['objectid', 'agencyids', 'agencies', 'programcodes', 'iijaprogram',\n",
       "       'iijacodes', 'projectstatuscodes', 'fiscalyears', 'fiscalyearcodes',\n",
       "       'projectstatuses', 'sb1funds', 'iijafunds', 'totalcost', 'dateupdated',\n",
       "       'projectcount', 'assemblydistricts', 'senatedistricts',\n",
       "       'congressionaldistricts', 'assemblycodes', 'senatecodes',\n",
       "       'congressionalcodes', 'countynames', 'citynames', 'countycodes',\n",
       "       'citycodes', 'ct_codes', 'ct_districts', 'issb1', 'isiija', 'isonshs',\n",
       "       'issb1codes', 'isiijacode', 'isonshscodes', 'popup', 'geometry',\n",
       "       'projectid', 'projecttitle', 'projectdescription'],\n",
       "      dtype='object')"
      ]
     },
     "execution_count": 109,
     "metadata": {},
     "output_type": "execute_result"
    }
   ],
   "source": [
    "full_gdf.columns"
   ]
  },
  {
   "cell_type": "code",
   "execution_count": 112,
   "id": "b1fd0977-c490-4a01-a3a9-49e90e91a012",
   "metadata": {},
   "outputs": [],
   "source": [
    "full_gdf2 = full_gdf[['projecttitle', 'projectdescription','countycodes', 'ct_districts']]"
   ]
  },
  {
   "cell_type": "code",
   "execution_count": 110,
   "id": "d33b713d-bc5e-48a3-8441-6a7ea6689002",
   "metadata": {},
   "outputs": [
    {
     "data": {
      "text/plain": [
       "Index(['objectid', 'projectid', 'projname', 'projcatcode', 'projcategory',\n",
       "       'projprogcode', 'projprogram', 'multiprogfunded', 'projstatus',\n",
       "       'description', 'cost', 'assemblydistrict', 'senatedistrict',\n",
       "       'assemblycode', 'senatecode', 'countyname', 'cityname', 'countycode',\n",
       "       'citycode', 'appagencyname', 'impagencyname', 'popuptitle', 'popup',\n",
       "       'geometry', 'projcount', 'totalcosts', 'projlisturl', 'projlist2url',\n",
       "       'mponame', 'mpocode', 'assetcategory', 'bphotojpg', 'bphotohtml',\n",
       "       'aphotojpg', 'aphotohtml', 'routes', 'constyear', 'costfull',\n",
       "       'projagency'],\n",
       "      dtype='object')"
      ]
     },
     "execution_count": 110,
     "metadata": {},
     "output_type": "execute_result"
    }
   ],
   "source": [
    "sb1_df1.columns"
   ]
  },
  {
   "cell_type": "code",
   "execution_count": 117,
   "id": "0e27d7f3-5e22-491d-822f-526c4f27089c",
   "metadata": {},
   "outputs": [],
   "source": [
    "sb1_df2 = sb1_df1[['projname','projagency', 'description', 'countycode']]"
   ]
  },
  {
   "cell_type": "code",
   "execution_count": 118,
   "id": "c85e7c28-9ca0-4d6a-ad08-1174676d6f48",
   "metadata": {},
   "outputs": [
    {
     "data": {
      "text/plain": [
       "_merge    \n",
       "left_only     9186\n",
       "right_only    7631\n",
       "both             0\n",
       "dtype: int64"
      ]
     },
     "execution_count": 118,
     "metadata": {},
     "output_type": "execute_result"
    }
   ],
   "source": [
    "pd.merge(sb1_df2, full_gdf2, left_on = ['projname','description', 'countycode'],\n",
    "         right_on = ['projecttitle', 'projectdescription','countycodes'], how = 'outer',\n",
    "         indicator = True)[['_merge']].value_counts()"
   ]
  },
  {
   "cell_type": "code",
   "execution_count": 119,
   "id": "ce5115bf-9f02-47b9-9fa5-86bd3371c896",
   "metadata": {},
   "outputs": [
    {
     "data": {
      "text/plain": [
       "_merge    \n",
       "left_only     9186\n",
       "right_only    7631\n",
       "both             0\n",
       "dtype: int64"
      ]
     },
     "execution_count": 119,
     "metadata": {},
     "output_type": "execute_result"
    }
   ],
   "source": [
    "pd.merge(sb1_df2, full_gdf2, left_on = ['projname','description'],\n",
    "         right_on = ['projecttitle', 'projectdescription'], how = 'outer',\n",
    "         indicator = True)[['_merge']].value_counts()"
   ]
  },
  {
   "cell_type": "code",
   "execution_count": 120,
   "id": "62679591-eac5-429b-999b-630e77cc9735",
   "metadata": {},
   "outputs": [
    {
     "data": {
      "text/plain": [
       "_merge    \n",
       "left_only     9186\n",
       "right_only    7631\n",
       "both             0\n",
       "dtype: int64"
      ]
     },
     "execution_count": 120,
     "metadata": {},
     "output_type": "execute_result"
    }
   ],
   "source": [
    "pd.merge(sb1_df2, full_gdf2, left_on = ['projname','countycode'],\n",
    "         right_on = ['projecttitle', 'countycodes'], how = 'outer',\n",
    "         indicator = True)[['_merge']].value_counts()"
   ]
  },
  {
   "cell_type": "markdown",
   "id": "e46a15a4-f773-4acc-8552-32666d730744",
   "metadata": {},
   "source": [
    "### Original functions"
   ]
  },
  {
   "cell_type": "code",
   "execution_count": null,
   "id": "629b5faf-1278-41cb-9c62-ebea1a730848",
   "metadata": {},
   "outputs": [],
   "source": [
    "url_pt1 = \"https://odpsvcs.dot.ca.gov/arcgis/rest/services/RCA/RCA_Projects_032022/FeatureServer/\"\n",
    "url_pt2 = \"/query?where=1%3D1&objectIds=&time=&geometry=&geometryType=esriGeometryEnvelope&inSR=&spatialRel=esriSpatialRelIntersects&distance=&units=esriSRUnit_Foot&relationParam=&outFields=*+&returnGeometry=true&maxAllowableOffset=&geometryPrecision=&outSR=&gdbVersion=&historicMoment=&returnDistinctValues=false&returnIdsOnly=false&returnCountOnly=false&returnExtentOnly=false&orderByFields=&groupByFieldsForStatistics=&outStatistics=&returnZ=false&returnM=false&multipatchOption=&resultOffset=&resultRecordCount=&returnTrueCurves=false&sqlFormat=none&f=geojson\""
   ]
  },
  {
   "cell_type": "code",
   "execution_count": null,
   "id": "c30d39fb-1ff7-4160-af7e-1360d0806d50",
   "metadata": {},
   "outputs": [],
   "source": [
    "def sb1_basic_cleaning(\n",
    "    gdf: gpd.GeoDataFrame, \n",
    "    project_name_col:str )-> gpd.GeoDataFrame:\n",
    "    \"\"\"\n",
    "    Perform basic cleaning before joining\n",
    "    SB1 & Non SHOPP data together.\n",
    "    \"\"\"\n",
    "    # Some project names contain the year. Remove anything after 20..\n",
    "    gdf[project_name_col] = gdf[project_name_col].str.split(\"20\").str[0]\n",
    "\n",
    "    # Get rid of | in object cols\n",
    "    # https://stackoverflow.com/questions/68152902/extracting-only-object-type-columns-in-a-separate-list-from-a-data-frame-in-pand\n",
    "    string_cols = gdf.select_dtypes(include=[\"object\"]).columns.to_list()\n",
    "    try:\n",
    "        for i in string_cols:\n",
    "            gdf[i] = gdf[i].str.replace(\"|\", \"\").str.lower().str.replace(\"[^\\w\\s]\", \"\").str.strip()\n",
    "    except:\n",
    "        pass\n",
    "\n",
    "    # Try to extract titles from popups\n",
    "    try:\n",
    "        df[\"popup\"] = (\n",
    "            df[\"popup\"]\n",
    "            .str.split(\"<br  />\")\n",
    "            .str[1]\n",
    "            .str.split(\"20\")\n",
    "            .str[0]\n",
    "            .str.lower()\n",
    "            .str.strip()\n",
    "            .str.replace(\"[^\\w\\s]\", \"\")\n",
    "        )\n",
    "    except:\n",
    "        pass\n",
    "\n",
    "    return gdf"
   ]
  },
  {
   "cell_type": "code",
   "execution_count": null,
   "id": "fe57ecfb-fd8c-4008-87c2-1f5a3c26d746",
   "metadata": {},
   "outputs": [],
   "source": [
    "def load_sb1_all_projects() -> pd.DataFrame:\n",
    "    \"\"\"\n",
    "    Load in all projects layer of SB1 because it\n",
    "    contains a value for every row in the\n",
    "    project title column.\n",
    "    \"\"\"\n",
    "    df = f\"{url_pt1}22{url_pt2}\"\n",
    "\n",
    "    df = to_snakecase(gpd.read_file(df))\n",
    "\n",
    "    # No geometry, just drop it\n",
    "    df = df.drop(columns=[\"geometry\"])\n",
    "\n",
    "    # Basic cleaning\n",
    "    df = sb1_basic_cleaning(\n",
    "        df, \"implementingagency\", \"projecttitle\", \"projectid\", \"projectdescription\"\n",
    "    )\n",
    "\n",
    "    return df"
   ]
  },
  {
   "cell_type": "code",
   "execution_count": null,
   "id": "a9ad9c79-56b3-4400-9697-b7efccfe1db0",
   "metadata": {},
   "outputs": [],
   "source": [
    "def sb1_final() -> gpd.GeoDataFrame:\n",
    "    \"\"\"\n",
    "    Layers 0-21 with geographic information\n",
    "    don't always have project titles for each\n",
    "    of the projects. Merge these layers with\n",
    "    layer 22, which does have title information.\n",
    "    \"\"\"\n",
    "    all_projects_subset = [\n",
    "        \"projecttitle\",\n",
    "        \"programcodes\",\n",
    "        \"totalcost\",\n",
    "        \"implementingagency\",\n",
    "        \"fiscalyearcode\",\n",
    "    ]\n",
    "\n",
    "    sb1_geo, missing_geo = load_sb1_rest_server()\n",
    "    sb1_all_projects = load_sb1_all_projects()[all_projects_subset]\n",
    "\n",
    "    # Merge\n",
    "    merge1 = pd.merge(\n",
    "        sb1_geo,\n",
    "        sb1_all_projects,\n",
    "        how=\"left\",\n",
    "        left_on=[\"programcodes\", \"totalcost\", \"agencies\", \"fiscalyearcodes\"],\n",
    "        right_on=[\"programcodes\", \"totalcost\", \"implementingagency\", \"fiscalyearcode\"],\n",
    "    )\n",
    "\n",
    "    # Fill in missing project titles in sb1_geo with information from\n",
    "    # sb1_all_projects\n",
    "    merge1.projecttitle_x = merge1.projecttitle_x.fillna(merge1.projecttitle_y)\n",
    "\n",
    "    # Fill missing titles with none\n",
    "    merge1.projecttitle_x = merge1.projecttitle_x.fillna(\"None\")\n",
    "    \n",
    "    # Drop columns\n",
    "    merge1 = merge1.drop(columns = ['projecttitle_y'])\n",
    "    \n",
    "    # Add a new column detailing where this information comes from \n",
    "    merge1 = merge1.assign(\n",
    "        notes = merge1.programcodes + '/' + 'SB1')\n",
    "    \n",
    "    merge1 = merge1.fillna(merge1.dtypes.replace({'float64': 0.0, 'object': 'None'}))\n",
    "    return merge1"
   ]
  },
  {
   "cell_type": "code",
   "execution_count": null,
   "id": "bcc62451-98c7-4187-bab3-ad89a039cf75",
   "metadata": {},
   "outputs": [],
   "source": [
    "sb1_final_gdf = sb1_final()"
   ]
  },
  {
   "cell_type": "code",
   "execution_count": null,
   "id": "afbd958b-5836-4789-9372-62edac321165",
   "metadata": {},
   "outputs": [],
   "source": [
    "sb1_final_gdf.projectstatuscodes.value_counts()"
   ]
  },
  {
   "cell_type": "code",
   "execution_count": null,
   "id": "c2af4504-84bc-48b5-85ad-0b0324510590",
   "metadata": {},
   "outputs": [],
   "source": [
    "len(sb1_final_gdf), sb1_final_gdf.geometry.nunique()"
   ]
  },
  {
   "cell_type": "code",
   "execution_count": null,
   "id": "a52f1771-0064-493b-a339-d1dcece8ed2b",
   "metadata": {},
   "outputs": [],
   "source": [
    "sb1_final_gdf.info()"
   ]
  },
  {
   "cell_type": "code",
   "execution_count": null,
   "id": "23f286bd-e22d-4885-8997-1ba4353648a1",
   "metadata": {},
   "outputs": [],
   "source": [
    "sb1_final_gdf.projecttitle_x.value_counts().head(10)"
   ]
  },
  {
   "cell_type": "code",
   "execution_count": null,
   "id": "f2edcfa1-080f-4f09-bd3d-2a72c1e12149",
   "metadata": {},
   "outputs": [],
   "source": [
    "sb1_final_gdf[sb1_final_gdf.projecttitle_x == \"major damage restoration\"].groupby(['projecttitle_x', 'countynames']).agg({'objectid':'count'}).head()"
   ]
  },
  {
   "cell_type": "code",
   "execution_count": null,
   "id": "218ee516-3050-40dc-ae03-34d4a4e5ff3e",
   "metadata": {},
   "outputs": [],
   "source": [
    "sb1_final_gdf.projectstatuscodes.value_counts()"
   ]
  },
  {
   "cell_type": "code",
   "execution_count": null,
   "id": "61f6be29-f2ab-4f89-9ea7-98c44733ad86",
   "metadata": {},
   "outputs": [],
   "source": [
    "sb1_final_gdf.projectstatuscodes.unique()"
   ]
  },
  {
   "cell_type": "code",
   "execution_count": null,
   "id": "a9b35d63-e309-4bf4-a0bb-c3b15951240b",
   "metadata": {},
   "outputs": [],
   "source": [
    "sb1_final_gdf.projectstatuses.value_counts()"
   ]
  },
  {
   "cell_type": "code",
   "execution_count": null,
   "id": "e7b4eea5-18d9-4f5e-82ec-dfd499c3371e",
   "metadata": {
    "scrolled": true,
    "tags": []
   },
   "outputs": [],
   "source": [
    "sb1_final_gdf[(sb1_final_gdf.projecttitle_x == \"major damage restoration\") & (sb1_final_gdf.countynames == \"Alameda\")]"
   ]
  },
  {
   "cell_type": "code",
   "execution_count": null,
   "id": "14887b33-91fd-4ade-8c79-788024fe192f",
   "metadata": {},
   "outputs": [],
   "source": [
    "sb1_final_gdf[(sb1_final_gdf.projecttitle_x == \"major damage restoration\") & (sb1_final_gdf.countynames == \"Alameda\")].plot()"
   ]
  },
  {
   "cell_type": "code",
   "execution_count": null,
   "id": "c216f060-648a-4294-b07d-9142d23d6827",
   "metadata": {},
   "outputs": [],
   "source": [
    "# sb1_final_gdf[sb1_final_gdf.projecttitle_x == \"major damage restoration\"].explore()"
   ]
  }
 ],
 "metadata": {
  "kernelspec": {
   "display_name": "Python 3 (ipykernel)",
   "language": "python",
   "name": "python3"
  },
  "language_info": {
   "codemirror_mode": {
    "name": "ipython",
    "version": 3
   },
   "file_extension": ".py",
   "mimetype": "text/x-python",
   "name": "python",
   "nbconvert_exporter": "python",
   "pygments_lexer": "ipython3",
   "version": "3.9.13"
  }
 },
 "nbformat": 4,
 "nbformat_minor": 5
}
