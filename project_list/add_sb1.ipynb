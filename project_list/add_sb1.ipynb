{
 "cells": [
  {
   "cell_type": "markdown",
   "id": "79a419d1-4725-471f-9ba9-7c1015125039",
   "metadata": {},
   "source": [
    "## SB1 \n",
    "* Need to find out\n",
    "    * What's the difference between RCA/RCA_Projects_092023 (FeatureServer) and RCA/RCA_Projects_102023 (FeatureServer) here https://odpsvcs.dot.ca.gov/arcgis/rest/services/RCA?\n",
    "    * What's the right link to use to grab the projects: https://odpsvcs.dot.ca.gov/arcgis/rest/services/SB1/SB1_ProjectData/FeatureServer or https://odpsvcs.dot.ca.gov/arcgis/rest/services/RCA?\n",
    "        * I think link 1 is related to the SB1 map online\n",
    "        * Unsure what the second map is about?"
   ]
  },
  {
   "cell_type": "code",
   "execution_count": 1,
   "id": "f6ddf257-863a-41d8-9830-ef8b7d91647b",
   "metadata": {},
   "outputs": [],
   "source": [
    "import _harmonization_utils\n",
    "import _sb1_utils\n",
    "import geopandas as gpd\n",
    "import numpy as np\n",
    "import pandas as pd\n",
    "from calitp_data_analysis import utils\n",
    "from calitp_data_analysis.sql import to_snakecase"
   ]
  },
  {
   "cell_type": "code",
   "execution_count": 2,
   "id": "2a49b60c-2fb0-44fd-80c4-a7f98556585d",
   "metadata": {},
   "outputs": [],
   "source": [
    "pd.options.display.max_columns = 100\n",
    "pd.options.display.float_format = \"{:.2f}\".format\n",
    "pd.set_option(\"display.max_rows\", None)\n",
    "pd.set_option(\"display.max_colwidth\", None)"
   ]
  },
  {
   "cell_type": "markdown",
   "id": "52b798fd-3cd4-4612-b350-4df987926f10",
   "metadata": {},
   "source": [
    "### Looking at duplicated projectid & objectid"
   ]
  },
  {
   "cell_type": "code",
   "execution_count": 3,
   "id": "724ac668-07bb-477d-842d-ab15743cec69",
   "metadata": {},
   "outputs": [
    {
     "name": "stderr",
     "output_type": "stream",
     "text": [
      "/home/jovyan/data-analyses/project_list/_sb1_utils.py:23: FutureWarning: The default value of regex will change from True to False in a future version. In addition, single character regular expressions will *not* be treated as literal strings when regex=True.\n",
      "  gdf[i]\n",
      "/home/jovyan/data-analyses/project_list/_sb1_utils.py:23: FutureWarning: The default value of regex will change from True to False in a future version.\n",
      "  gdf[i]\n"
     ]
    },
    {
     "name": "stdout",
     "output_type": "stream",
     "text": [
      "0 rows are mising geometry\n",
      "7917 rows contain invalid geography\n"
     ]
    }
   ],
   "source": [
    "project_table = _sb1_utils.load_sb1()"
   ]
  },
  {
   "cell_type": "code",
   "execution_count": 4,
   "id": "28fbf86c-8032-4e2d-ac2c-dd8c7143eaf3",
   "metadata": {},
   "outputs": [],
   "source": [
    "dont_preview = [\"geometry\", \"description\"]"
   ]
  },
  {
   "cell_type": "code",
   "execution_count": 5,
   "id": "b48f9b7a-78dc-4343-8b8f-2f08f5d7ab0c",
   "metadata": {},
   "outputs": [
    {
     "data": {
      "text/html": [
       "<div>\n",
       "<style scoped>\n",
       "    .dataframe tbody tr th:only-of-type {\n",
       "        vertical-align: middle;\n",
       "    }\n",
       "\n",
       "    .dataframe tbody tr th {\n",
       "        vertical-align: top;\n",
       "    }\n",
       "\n",
       "    .dataframe thead th {\n",
       "        text-align: right;\n",
       "    }\n",
       "</style>\n",
       "<table border=\"1\" class=\"dataframe\">\n",
       "  <thead>\n",
       "    <tr style=\"text-align: right;\">\n",
       "      <th></th>\n",
       "      <th>projectid</th>\n",
       "      <th>projname</th>\n",
       "      <th>projcatcode</th>\n",
       "      <th>projcategory</th>\n",
       "      <th>projprogcode</th>\n",
       "      <th>projprogram</th>\n",
       "      <th>multiprogfunded</th>\n",
       "      <th>projstatus</th>\n",
       "      <th>cost</th>\n",
       "      <th>assemblydistrict</th>\n",
       "      <th>senatedistrict</th>\n",
       "      <th>assemblycode</th>\n",
       "      <th>senatecode</th>\n",
       "      <th>countyname</th>\n",
       "      <th>cityname</th>\n",
       "      <th>countycode</th>\n",
       "      <th>citycode</th>\n",
       "      <th>appagencyname</th>\n",
       "      <th>impagencyname</th>\n",
       "      <th>totalcosts</th>\n",
       "      <th>routes</th>\n",
       "      <th>constyear</th>\n",
       "      <th>costfull</th>\n",
       "      <th>projagency</th>\n",
       "    </tr>\n",
       "  </thead>\n",
       "  <tbody>\n",
       "    <tr>\n",
       "      <th>924</th>\n",
       "      <td>0715000051</td>\n",
       "      <td>Los Angeles 110 2 5  405 Traffic Management System Installation Project</td>\n",
       "      <td>State</td>\n",
       "      <td>State</td>\n",
       "      <td>Shp</td>\n",
       "      <td>State Highway Projects</td>\n",
       "      <td>NaN</td>\n",
       "      <td>PreConstruction</td>\n",
       "      <td>38500000</td>\n",
       "      <td>43 51 53 59 62 64 66 70</td>\n",
       "      <td>24 25 26 30 35</td>\n",
       "      <td>4351535962646670</td>\n",
       "      <td>2425263035</td>\n",
       "      <td>Los Angeles</td>\n",
       "      <td>Carson Glendale Hawthorne Los Angeles</td>\n",
       "      <td>La</td>\n",
       "      <td>Crsngndlhawla</td>\n",
       "      <td>NaN</td>\n",
       "      <td>NaN</td>\n",
       "      <td>NaN</td>\n",
       "      <td>25110405</td>\n",
       "      <td>2019</td>\n",
       "      <td>38547000.00</td>\n",
       "      <td>Caltrans</td>\n",
       "    </tr>\n",
       "    <tr>\n",
       "      <th>357</th>\n",
       "      <td>0715000051</td>\n",
       "      <td>Los Angeles 110 2 5  405 Traffic Management System Installation Project</td>\n",
       "      <td>State</td>\n",
       "      <td>State</td>\n",
       "      <td>Shp</td>\n",
       "      <td>State Highway Projects</td>\n",
       "      <td>NaN</td>\n",
       "      <td>PreConstruction</td>\n",
       "      <td>38500000</td>\n",
       "      <td>43 51 53 59 62 64 66 70</td>\n",
       "      <td>24 25 26 30 35</td>\n",
       "      <td>4351535962646670</td>\n",
       "      <td>2425263035</td>\n",
       "      <td>Los Angeles</td>\n",
       "      <td>Carson Glendale Hawthorne Los Angeles</td>\n",
       "      <td>La</td>\n",
       "      <td>Crsngndlhawla</td>\n",
       "      <td>NaN</td>\n",
       "      <td>NaN</td>\n",
       "      <td>NaN</td>\n",
       "      <td>25110405</td>\n",
       "      <td>2019</td>\n",
       "      <td>38547000.00</td>\n",
       "      <td>Caltrans</td>\n",
       "    </tr>\n",
       "    <tr>\n",
       "      <th>9001</th>\n",
       "      <td>0715000051</td>\n",
       "      <td>Los Angeles 110 2 5  405 Traffic Management System Installation Project</td>\n",
       "      <td>State</td>\n",
       "      <td>State</td>\n",
       "      <td>Shp</td>\n",
       "      <td>State Highway Projects</td>\n",
       "      <td>NaN</td>\n",
       "      <td>PreConstruction</td>\n",
       "      <td>38500000</td>\n",
       "      <td>43 51 53 59 62 64 66 70</td>\n",
       "      <td>24 25 26 30 35</td>\n",
       "      <td>4351535962646670</td>\n",
       "      <td>2425263035</td>\n",
       "      <td>Los Angeles</td>\n",
       "      <td>Carson Glendale Hawthorne Los Angeles</td>\n",
       "      <td>La</td>\n",
       "      <td>Crsngndlhawla</td>\n",
       "      <td>NaN</td>\n",
       "      <td>NaN</td>\n",
       "      <td>NaN</td>\n",
       "      <td>25110405</td>\n",
       "      <td>2019</td>\n",
       "      <td>38547000.00</td>\n",
       "      <td>Caltrans</td>\n",
       "    </tr>\n",
       "  </tbody>\n",
       "</table>\n",
       "</div>"
      ],
      "text/plain": [
       "       projectid  \\\n",
       "924   0715000051   \n",
       "357   0715000051   \n",
       "9001  0715000051   \n",
       "\n",
       "                                                                     projname  \\\n",
       "924   Los Angeles 110 2 5  405 Traffic Management System Installation Project   \n",
       "357   Los Angeles 110 2 5  405 Traffic Management System Installation Project   \n",
       "9001  Los Angeles 110 2 5  405 Traffic Management System Installation Project   \n",
       "\n",
       "     projcatcode projcategory projprogcode             projprogram  \\\n",
       "924        State        State          Shp  State Highway Projects   \n",
       "357        State        State          Shp  State Highway Projects   \n",
       "9001       State        State          Shp  State Highway Projects   \n",
       "\n",
       "     multiprogfunded       projstatus      cost         assemblydistrict  \\\n",
       "924              NaN  PreConstruction  38500000  43 51 53 59 62 64 66 70   \n",
       "357              NaN  PreConstruction  38500000  43 51 53 59 62 64 66 70   \n",
       "9001             NaN  PreConstruction  38500000  43 51 53 59 62 64 66 70   \n",
       "\n",
       "      senatedistrict      assemblycode  senatecode   countyname  \\\n",
       "924   24 25 26 30 35  4351535962646670  2425263035  Los Angeles   \n",
       "357   24 25 26 30 35  4351535962646670  2425263035  Los Angeles   \n",
       "9001  24 25 26 30 35  4351535962646670  2425263035  Los Angeles   \n",
       "\n",
       "                                   cityname countycode       citycode  \\\n",
       "924   Carson Glendale Hawthorne Los Angeles         La  Crsngndlhawla   \n",
       "357   Carson Glendale Hawthorne Los Angeles         La  Crsngndlhawla   \n",
       "9001  Carson Glendale Hawthorne Los Angeles         La  Crsngndlhawla   \n",
       "\n",
       "     appagencyname impagencyname totalcosts    routes constyear    costfull  \\\n",
       "924            NaN           NaN        NaN  25110405      2019 38547000.00   \n",
       "357            NaN           NaN        NaN  25110405      2019 38547000.00   \n",
       "9001           NaN           NaN        NaN  25110405      2019 38547000.00   \n",
       "\n",
       "     projagency  \n",
       "924    Caltrans  \n",
       "357    Caltrans  \n",
       "9001   Caltrans  "
      ]
     },
     "execution_count": 5,
     "metadata": {},
     "output_type": "execute_result"
    }
   ],
   "source": [
    "project_table.loc[project_table.projectid == \"0715000051\"].drop(columns=dont_preview)"
   ]
  },
  {
   "cell_type": "code",
   "execution_count": 6,
   "id": "d9adc0ff-34c2-48ef-8876-5722de4ce5b1",
   "metadata": {},
   "outputs": [
    {
     "data": {
      "text/html": [
       "<div>\n",
       "<style scoped>\n",
       "    .dataframe tbody tr th:only-of-type {\n",
       "        vertical-align: middle;\n",
       "    }\n",
       "\n",
       "    .dataframe tbody tr th {\n",
       "        vertical-align: top;\n",
       "    }\n",
       "\n",
       "    .dataframe thead th {\n",
       "        text-align: right;\n",
       "    }\n",
       "</style>\n",
       "<table border=\"1\" class=\"dataframe\">\n",
       "  <thead>\n",
       "    <tr style=\"text-align: right;\">\n",
       "      <th></th>\n",
       "      <th>projectid</th>\n",
       "      <th>projname</th>\n",
       "      <th>projcatcode</th>\n",
       "      <th>projcategory</th>\n",
       "      <th>projprogcode</th>\n",
       "      <th>projprogram</th>\n",
       "      <th>multiprogfunded</th>\n",
       "      <th>projstatus</th>\n",
       "      <th>cost</th>\n",
       "      <th>assemblydistrict</th>\n",
       "      <th>senatedistrict</th>\n",
       "      <th>assemblycode</th>\n",
       "      <th>senatecode</th>\n",
       "      <th>countyname</th>\n",
       "      <th>cityname</th>\n",
       "      <th>countycode</th>\n",
       "      <th>citycode</th>\n",
       "      <th>appagencyname</th>\n",
       "      <th>impagencyname</th>\n",
       "      <th>totalcosts</th>\n",
       "      <th>routes</th>\n",
       "      <th>constyear</th>\n",
       "      <th>costfull</th>\n",
       "      <th>projagency</th>\n",
       "    </tr>\n",
       "  </thead>\n",
       "  <tbody>\n",
       "    <tr>\n",
       "      <th>9025</th>\n",
       "      <td>0717000060</td>\n",
       "      <td>Los Angeles 2 5 91  405 Upgrade Traffic Management System Mobility Project</td>\n",
       "      <td>State</td>\n",
       "      <td>State</td>\n",
       "      <td>Shp</td>\n",
       "      <td>State Highway Projects</td>\n",
       "      <td>NaN</td>\n",
       "      <td>PreConstruction</td>\n",
       "      <td>24700000</td>\n",
       "      <td>43 51 57 58 62 63 64 65 66</td>\n",
       "      <td>24 25 26 29 32 33 35</td>\n",
       "      <td>435157586263646566</td>\n",
       "      <td>24252629323335</td>\n",
       "      <td>Los Angeles</td>\n",
       "      <td>NaN</td>\n",
       "      <td>La</td>\n",
       "      <td>NaN</td>\n",
       "      <td>NaN</td>\n",
       "      <td>NaN</td>\n",
       "      <td>NaN</td>\n",
       "      <td>2591405</td>\n",
       "      <td>NaN</td>\n",
       "      <td>24697000.00</td>\n",
       "      <td>Caltrans</td>\n",
       "    </tr>\n",
       "    <tr>\n",
       "      <th>941</th>\n",
       "      <td>0717000060</td>\n",
       "      <td>Los Angeles 2 5 91  405 Upgrade Traffic Management System Mobility Project</td>\n",
       "      <td>State</td>\n",
       "      <td>State</td>\n",
       "      <td>Shp</td>\n",
       "      <td>State Highway Projects</td>\n",
       "      <td>NaN</td>\n",
       "      <td>PreConstruction</td>\n",
       "      <td>24700000</td>\n",
       "      <td>43 51 57 58 62 63 64 65 66</td>\n",
       "      <td>24 25 26 29 32 33 35</td>\n",
       "      <td>435157586263646566</td>\n",
       "      <td>24252629323335</td>\n",
       "      <td>Los Angeles</td>\n",
       "      <td></td>\n",
       "      <td>La</td>\n",
       "      <td></td>\n",
       "      <td>NaN</td>\n",
       "      <td>NaN</td>\n",
       "      <td>NaN</td>\n",
       "      <td>2591405</td>\n",
       "      <td>NaN</td>\n",
       "      <td>24697000.00</td>\n",
       "      <td>Caltrans</td>\n",
       "    </tr>\n",
       "    <tr>\n",
       "      <th>377</th>\n",
       "      <td>0717000060</td>\n",
       "      <td>Los Angeles 2 5 91  405 Upgrade Traffic Management System Mobility Project</td>\n",
       "      <td>State</td>\n",
       "      <td>State</td>\n",
       "      <td>Shp</td>\n",
       "      <td>State Highway Projects</td>\n",
       "      <td>NaN</td>\n",
       "      <td>PreConstruction</td>\n",
       "      <td>24700000</td>\n",
       "      <td>43 51 57 58 62 63 64 65 66</td>\n",
       "      <td>24 25 26 29 32 33 35</td>\n",
       "      <td>435157586263646566</td>\n",
       "      <td>24252629323335</td>\n",
       "      <td>Los Angeles</td>\n",
       "      <td></td>\n",
       "      <td>La</td>\n",
       "      <td></td>\n",
       "      <td>NaN</td>\n",
       "      <td>NaN</td>\n",
       "      <td>NaN</td>\n",
       "      <td>2591405</td>\n",
       "      <td>NaN</td>\n",
       "      <td>24697000.00</td>\n",
       "      <td>Caltrans</td>\n",
       "    </tr>\n",
       "  </tbody>\n",
       "</table>\n",
       "</div>"
      ],
      "text/plain": [
       "       projectid  \\\n",
       "9025  0717000060   \n",
       "941   0717000060   \n",
       "377   0717000060   \n",
       "\n",
       "                                                                        projname  \\\n",
       "9025  Los Angeles 2 5 91  405 Upgrade Traffic Management System Mobility Project   \n",
       "941   Los Angeles 2 5 91  405 Upgrade Traffic Management System Mobility Project   \n",
       "377   Los Angeles 2 5 91  405 Upgrade Traffic Management System Mobility Project   \n",
       "\n",
       "     projcatcode projcategory projprogcode             projprogram  \\\n",
       "9025       State        State          Shp  State Highway Projects   \n",
       "941        State        State          Shp  State Highway Projects   \n",
       "377        State        State          Shp  State Highway Projects   \n",
       "\n",
       "     multiprogfunded       projstatus      cost            assemblydistrict  \\\n",
       "9025             NaN  PreConstruction  24700000  43 51 57 58 62 63 64 65 66   \n",
       "941              NaN  PreConstruction  24700000  43 51 57 58 62 63 64 65 66   \n",
       "377              NaN  PreConstruction  24700000  43 51 57 58 62 63 64 65 66   \n",
       "\n",
       "            senatedistrict        assemblycode      senatecode   countyname  \\\n",
       "9025  24 25 26 29 32 33 35  435157586263646566  24252629323335  Los Angeles   \n",
       "941   24 25 26 29 32 33 35  435157586263646566  24252629323335  Los Angeles   \n",
       "377   24 25 26 29 32 33 35  435157586263646566  24252629323335  Los Angeles   \n",
       "\n",
       "     cityname countycode citycode appagencyname impagencyname totalcosts  \\\n",
       "9025      NaN         La      NaN           NaN           NaN        NaN   \n",
       "941                   La                    NaN           NaN        NaN   \n",
       "377                   La                    NaN           NaN        NaN   \n",
       "\n",
       "       routes constyear    costfull projagency  \n",
       "9025  2591405       NaN 24697000.00   Caltrans  \n",
       "941   2591405       NaN 24697000.00   Caltrans  \n",
       "377   2591405       NaN 24697000.00   Caltrans  "
      ]
     },
     "execution_count": 6,
     "metadata": {},
     "output_type": "execute_result"
    }
   ],
   "source": [
    "project_table.loc[project_table.projectid == \"0717000060\"].drop(columns=dont_preview)"
   ]
  },
  {
   "cell_type": "code",
   "execution_count": 7,
   "id": "cca29105-3551-498f-ad17-7259fe927009",
   "metadata": {},
   "outputs": [],
   "source": [
    "# sb1_df1.loc[sb1_df1.projectid == \"0200020286\"].drop(columns = dont_preview)"
   ]
  },
  {
   "cell_type": "code",
   "execution_count": 8,
   "id": "6bd748e7-42b9-4454-b807-3b9be49846c3",
   "metadata": {},
   "outputs": [
    {
     "data": {
      "text/plain": [
       "9186"
      ]
     },
     "execution_count": 8,
     "metadata": {},
     "output_type": "execute_result"
    }
   ],
   "source": [
    "len(project_table)"
   ]
  },
  {
   "cell_type": "markdown",
   "id": "f0beb53d-e1bf-4d1e-b384-ff98f56eb915",
   "metadata": {},
   "source": [
    "#### Once I want to concat Sb1 with the other data sources, I need one row = one project. \n",
    "* Right now, there are multiple rows for each project to account for a project being constructed in 1+ areas.\n",
    "* Keep the row with the least number of nans for the project id."
   ]
  },
  {
   "cell_type": "code",
   "execution_count": 9,
   "id": "2ed0d8de-0342-4523-8da2-c40f9d28ba06",
   "metadata": {},
   "outputs": [],
   "source": [
    "project_table2 = _sb1_utils.one_row_one_project(project_table)"
   ]
  },
  {
   "cell_type": "code",
   "execution_count": 10,
   "id": "52e4def5-4dc5-4a31-81f7-4f5a13596e55",
   "metadata": {},
   "outputs": [
    {
     "data": {
      "text/plain": [
       "8261"
      ]
     },
     "execution_count": 10,
     "metadata": {},
     "output_type": "execute_result"
    }
   ],
   "source": [
    "len(project_table2)"
   ]
  },
  {
   "cell_type": "code",
   "execution_count": 11,
   "id": "1fa9bbf2-fff4-4d01-9aba-9bfa77d4410d",
   "metadata": {},
   "outputs": [
    {
     "data": {
      "text/plain": [
       "(7602, 5277, 5062)"
      ]
     },
     "execution_count": 11,
     "metadata": {},
     "output_type": "execute_result"
    }
   ],
   "source": [
    "project_table.projectid.nunique(), project_table.projname.nunique(), project_table.description.nunique()"
   ]
  },
  {
   "cell_type": "code",
   "execution_count": 12,
   "id": "e9eee7d3-1fb3-4fb1-930a-1bdba37ba84e",
   "metadata": {},
   "outputs": [
    {
     "data": {
      "text/plain": [
       "(7602, 5277, 5062)"
      ]
     },
     "execution_count": 12,
     "metadata": {},
     "output_type": "execute_result"
    }
   ],
   "source": [
    "project_table2.projectid.nunique(), project_table2.projname.nunique(), project_table2.description.nunique()"
   ]
  },
  {
   "cell_type": "code",
   "execution_count": 13,
   "id": "7fd6ca9a-cc78-44b9-bcad-1b979e8a5c22",
   "metadata": {},
   "outputs": [
    {
     "data": {
      "text/plain": [
       "SccpC1Fy17216065Pp01    2\n",
       "LppcC1Fy17206507Pp19    1\n",
       "LsrFy17185163Pp005      1\n",
       "LsrFy17185278Pp001      1\n",
       "LsrFy17185243Pp074      1\n",
       "Name: projectid, dtype: int64"
      ]
     },
     "execution_count": 13,
     "metadata": {},
     "output_type": "execute_result"
    }
   ],
   "source": [
    "    project_table2.projectid.value_counts().head()"
   ]
  },
  {
   "cell_type": "code",
   "execution_count": 14,
   "id": "03125a4e-8cdd-403a-b3c5-6ccc236dbd39",
   "metadata": {},
   "outputs": [
    {
     "data": {
      "text/plain": [
       "(7602, 5277, 5062)"
      ]
     },
     "execution_count": 14,
     "metadata": {},
     "output_type": "execute_result"
    }
   ],
   "source": [
    "project_table2.projectid.nunique(), project_table2.projname.nunique(), project_table2.description.nunique()"
   ]
  },
  {
   "cell_type": "code",
   "execution_count": 15,
   "id": "e2e9dd64-c9ee-4df1-b61d-025065cf8259",
   "metadata": {},
   "outputs": [
    {
     "data": {
      "text/html": [
       "<div>\n",
       "<style scoped>\n",
       "    .dataframe tbody tr th:only-of-type {\n",
       "        vertical-align: middle;\n",
       "    }\n",
       "\n",
       "    .dataframe tbody tr th {\n",
       "        vertical-align: top;\n",
       "    }\n",
       "\n",
       "    .dataframe thead th {\n",
       "        text-align: right;\n",
       "    }\n",
       "</style>\n",
       "<table border=\"1\" class=\"dataframe\">\n",
       "  <thead>\n",
       "    <tr style=\"text-align: right;\">\n",
       "      <th></th>\n",
       "      <th>projectid</th>\n",
       "      <th>projname</th>\n",
       "      <th>projcatcode</th>\n",
       "      <th>projcategory</th>\n",
       "      <th>projprogcode</th>\n",
       "      <th>projprogram</th>\n",
       "      <th>multiprogfunded</th>\n",
       "      <th>projstatus</th>\n",
       "      <th>cost</th>\n",
       "      <th>assemblydistrict</th>\n",
       "      <th>senatedistrict</th>\n",
       "      <th>assemblycode</th>\n",
       "      <th>senatecode</th>\n",
       "      <th>countyname</th>\n",
       "      <th>cityname</th>\n",
       "      <th>countycode</th>\n",
       "      <th>citycode</th>\n",
       "      <th>appagencyname</th>\n",
       "      <th>impagencyname</th>\n",
       "      <th>totalcosts</th>\n",
       "      <th>routes</th>\n",
       "      <th>constyear</th>\n",
       "      <th>costfull</th>\n",
       "      <th>projagency</th>\n",
       "      <th>number_of_nans</th>\n",
       "    </tr>\n",
       "  </thead>\n",
       "  <tbody>\n",
       "    <tr>\n",
       "      <th>8682</th>\n",
       "      <td>0200020286</td>\n",
       "      <td>Lassen  Modoc 299 Pavement Rehab Project</td>\n",
       "      <td>State</td>\n",
       "      <td>State</td>\n",
       "      <td>Shp</td>\n",
       "      <td>State Highway Projects</td>\n",
       "      <td>NaN</td>\n",
       "      <td>PreConstruction</td>\n",
       "      <td>25200000</td>\n",
       "      <td>01</td>\n",
       "      <td>01</td>\n",
       "      <td>01</td>\n",
       "      <td>01</td>\n",
       "      <td>Lassen Modoc</td>\n",
       "      <td>NaN</td>\n",
       "      <td>Lasmod</td>\n",
       "      <td>NaN</td>\n",
       "      <td>NaN</td>\n",
       "      <td>NaN</td>\n",
       "      <td>NaN</td>\n",
       "      <td>299</td>\n",
       "      <td>2020</td>\n",
       "      <td>25161000.00</td>\n",
       "      <td>Caltrans</td>\n",
       "      <td>7</td>\n",
       "    </tr>\n",
       "    <tr>\n",
       "      <th>732</th>\n",
       "      <td>0200020286</td>\n",
       "      <td>Lassen  Modoc 299 Pavement Rehab Project</td>\n",
       "      <td>State</td>\n",
       "      <td>State</td>\n",
       "      <td>Shp</td>\n",
       "      <td>State Highway Projects</td>\n",
       "      <td>NaN</td>\n",
       "      <td>PreConstruction</td>\n",
       "      <td>25200000</td>\n",
       "      <td>01</td>\n",
       "      <td>01</td>\n",
       "      <td>01</td>\n",
       "      <td>01</td>\n",
       "      <td>Lassen Modoc</td>\n",
       "      <td></td>\n",
       "      <td>Lasmod</td>\n",
       "      <td></td>\n",
       "      <td>NaN</td>\n",
       "      <td>NaN</td>\n",
       "      <td>NaN</td>\n",
       "      <td>299</td>\n",
       "      <td>2020</td>\n",
       "      <td>25161000.00</td>\n",
       "      <td>Caltrans</td>\n",
       "      <td>4</td>\n",
       "    </tr>\n",
       "    <tr>\n",
       "      <th>244</th>\n",
       "      <td>0200020286</td>\n",
       "      <td>Lassen  Modoc 299 Pavement Rehab Project</td>\n",
       "      <td>State</td>\n",
       "      <td>State</td>\n",
       "      <td>Shp</td>\n",
       "      <td>State Highway Projects</td>\n",
       "      <td>NaN</td>\n",
       "      <td>PreConstruction</td>\n",
       "      <td>25200000</td>\n",
       "      <td>01</td>\n",
       "      <td>01</td>\n",
       "      <td>01</td>\n",
       "      <td>01</td>\n",
       "      <td>Lassen Modoc</td>\n",
       "      <td></td>\n",
       "      <td>Lasmod</td>\n",
       "      <td></td>\n",
       "      <td>NaN</td>\n",
       "      <td>NaN</td>\n",
       "      <td>NaN</td>\n",
       "      <td>299</td>\n",
       "      <td>2020</td>\n",
       "      <td>25161000.00</td>\n",
       "      <td>Caltrans</td>\n",
       "      <td>4</td>\n",
       "    </tr>\n",
       "  </tbody>\n",
       "</table>\n",
       "</div>"
      ],
      "text/plain": [
       "       projectid                                  projname projcatcode  \\\n",
       "8682  0200020286  Lassen  Modoc 299 Pavement Rehab Project       State   \n",
       "732   0200020286  Lassen  Modoc 299 Pavement Rehab Project       State   \n",
       "244   0200020286  Lassen  Modoc 299 Pavement Rehab Project       State   \n",
       "\n",
       "     projcategory projprogcode             projprogram multiprogfunded  \\\n",
       "8682        State          Shp  State Highway Projects             NaN   \n",
       "732         State          Shp  State Highway Projects             NaN   \n",
       "244         State          Shp  State Highway Projects             NaN   \n",
       "\n",
       "           projstatus      cost assemblydistrict senatedistrict assemblycode  \\\n",
       "8682  PreConstruction  25200000               01             01           01   \n",
       "732   PreConstruction  25200000               01             01           01   \n",
       "244   PreConstruction  25200000               01             01           01   \n",
       "\n",
       "     senatecode    countyname cityname countycode citycode appagencyname  \\\n",
       "8682         01  Lassen Modoc      NaN     Lasmod      NaN           NaN   \n",
       "732          01  Lassen Modoc              Lasmod                    NaN   \n",
       "244          01  Lassen Modoc              Lasmod                    NaN   \n",
       "\n",
       "     impagencyname totalcosts routes constyear    costfull projagency  \\\n",
       "8682           NaN        NaN    299      2020 25161000.00   Caltrans   \n",
       "732            NaN        NaN    299      2020 25161000.00   Caltrans   \n",
       "244            NaN        NaN    299      2020 25161000.00   Caltrans   \n",
       "\n",
       "      number_of_nans  \n",
       "8682               7  \n",
       "732                4  \n",
       "244                4  "
      ]
     },
     "execution_count": 15,
     "metadata": {},
     "output_type": "execute_result"
    }
   ],
   "source": [
    "project_table.loc[project_table.projectid == \"0200020286\"].drop(columns=dont_preview)"
   ]
  },
  {
   "cell_type": "code",
   "execution_count": 16,
   "id": "5a623c74-a0db-48d0-98bf-73744f541d60",
   "metadata": {},
   "outputs": [
    {
     "data": {
      "text/html": [
       "<div>\n",
       "<style scoped>\n",
       "    .dataframe tbody tr th:only-of-type {\n",
       "        vertical-align: middle;\n",
       "    }\n",
       "\n",
       "    .dataframe tbody tr th {\n",
       "        vertical-align: top;\n",
       "    }\n",
       "\n",
       "    .dataframe thead th {\n",
       "        text-align: right;\n",
       "    }\n",
       "</style>\n",
       "<table border=\"1\" class=\"dataframe\">\n",
       "  <thead>\n",
       "    <tr style=\"text-align: right;\">\n",
       "      <th></th>\n",
       "      <th>projectid</th>\n",
       "      <th>projname</th>\n",
       "      <th>projcatcode</th>\n",
       "      <th>projcategory</th>\n",
       "      <th>projprogcode</th>\n",
       "      <th>projprogram</th>\n",
       "      <th>multiprogfunded</th>\n",
       "      <th>projstatus</th>\n",
       "      <th>cost</th>\n",
       "      <th>assemblydistrict</th>\n",
       "      <th>senatedistrict</th>\n",
       "      <th>assemblycode</th>\n",
       "      <th>senatecode</th>\n",
       "      <th>countyname</th>\n",
       "      <th>countycode</th>\n",
       "      <th>appagencyname</th>\n",
       "      <th>impagencyname</th>\n",
       "      <th>totalcosts</th>\n",
       "      <th>routes</th>\n",
       "      <th>constyear</th>\n",
       "      <th>costfull</th>\n",
       "      <th>projagency</th>\n",
       "    </tr>\n",
       "  </thead>\n",
       "  <tbody>\n",
       "    <tr>\n",
       "      <th>199</th>\n",
       "      <td>0200020286</td>\n",
       "      <td>Lassen  Modoc 299 Pavement Rehab Project</td>\n",
       "      <td>State</td>\n",
       "      <td>State</td>\n",
       "      <td>Shp</td>\n",
       "      <td>State Highway Projects</td>\n",
       "      <td>NaN</td>\n",
       "      <td>PreConstruction</td>\n",
       "      <td>25200000</td>\n",
       "      <td>01</td>\n",
       "      <td>01</td>\n",
       "      <td>01</td>\n",
       "      <td>01</td>\n",
       "      <td>Lassen Modoc</td>\n",
       "      <td>Lasmod</td>\n",
       "      <td>NaN</td>\n",
       "      <td>NaN</td>\n",
       "      <td>NaN</td>\n",
       "      <td>299</td>\n",
       "      <td>2020</td>\n",
       "      <td>25161000.00</td>\n",
       "      <td>Caltrans</td>\n",
       "    </tr>\n",
       "  </tbody>\n",
       "</table>\n",
       "</div>"
      ],
      "text/plain": [
       "      projectid                                  projname projcatcode  \\\n",
       "199  0200020286  Lassen  Modoc 299 Pavement Rehab Project       State   \n",
       "\n",
       "    projcategory projprogcode             projprogram multiprogfunded  \\\n",
       "199        State          Shp  State Highway Projects             NaN   \n",
       "\n",
       "          projstatus      cost assemblydistrict senatedistrict assemblycode  \\\n",
       "199  PreConstruction  25200000               01             01           01   \n",
       "\n",
       "    senatecode    countyname countycode appagencyname impagencyname  \\\n",
       "199         01  Lassen Modoc     Lasmod           NaN           NaN   \n",
       "\n",
       "    totalcosts routes constyear    costfull projagency  \n",
       "199        NaN    299      2020 25161000.00   Caltrans  "
      ]
     },
     "execution_count": 16,
     "metadata": {},
     "output_type": "execute_result"
    }
   ],
   "source": [
    "project_table2.loc[project_table2.projectid == \"0200020286\"].drop(columns=\"description\")"
   ]
  },
  {
   "cell_type": "code",
   "execution_count": 17,
   "id": "87348d6a-525f-481b-b457-550901e20324",
   "metadata": {},
   "outputs": [
    {
     "data": {
      "text/html": [
       "<div>\n",
       "<style scoped>\n",
       "    .dataframe tbody tr th:only-of-type {\n",
       "        vertical-align: middle;\n",
       "    }\n",
       "\n",
       "    .dataframe tbody tr th {\n",
       "        vertical-align: top;\n",
       "    }\n",
       "\n",
       "    .dataframe thead th {\n",
       "        text-align: right;\n",
       "    }\n",
       "</style>\n",
       "<table border=\"1\" class=\"dataframe\">\n",
       "  <thead>\n",
       "    <tr style=\"text-align: right;\">\n",
       "      <th></th>\n",
       "      <th>projectid</th>\n",
       "      <th>projname</th>\n",
       "      <th>projcatcode</th>\n",
       "      <th>projcategory</th>\n",
       "      <th>projprogcode</th>\n",
       "      <th>projprogram</th>\n",
       "      <th>multiprogfunded</th>\n",
       "      <th>projstatus</th>\n",
       "      <th>cost</th>\n",
       "      <th>assemblydistrict</th>\n",
       "      <th>senatedistrict</th>\n",
       "      <th>assemblycode</th>\n",
       "      <th>senatecode</th>\n",
       "      <th>countyname</th>\n",
       "      <th>countycode</th>\n",
       "      <th>appagencyname</th>\n",
       "      <th>impagencyname</th>\n",
       "      <th>totalcosts</th>\n",
       "      <th>routes</th>\n",
       "      <th>constyear</th>\n",
       "      <th>costfull</th>\n",
       "      <th>projagency</th>\n",
       "    </tr>\n",
       "  </thead>\n",
       "  <tbody>\n",
       "    <tr>\n",
       "      <th>0</th>\n",
       "      <td>LppcC1Fy17206507Pp19</td>\n",
       "      <td>Redlands Passenger Rail</td>\n",
       "      <td>Local</td>\n",
       "      <td>Local And Regional</td>\n",
       "      <td>Lpp</td>\n",
       "      <td>Local Partnership Program</td>\n",
       "      <td>Local Partnership Program 10831000Solutions For Congested Corridors 65000000</td>\n",
       "      <td>Construction</td>\n",
       "      <td>10831000</td>\n",
       "      <td>40 47</td>\n",
       "      <td>20 23</td>\n",
       "      <td>4047</td>\n",
       "      <td>2023</td>\n",
       "      <td>San Bernardino</td>\n",
       "      <td>Sbd</td>\n",
       "      <td>San Bernardino County Transportation Authority</td>\n",
       "      <td>San Bernardino County Transportation Authority</td>\n",
       "      <td>NaN</td>\n",
       "      <td>NaN</td>\n",
       "      <td>2019</td>\n",
       "      <td>10831000.00</td>\n",
       "      <td>San Bernardino County Transportation Authority</td>\n",
       "    </tr>\n",
       "  </tbody>\n",
       "</table>\n",
       "</div>"
      ],
      "text/plain": [
       "              projectid                 projname projcatcode  \\\n",
       "0  LppcC1Fy17206507Pp19  Redlands Passenger Rail       Local   \n",
       "\n",
       "         projcategory projprogcode                projprogram  \\\n",
       "0  Local And Regional          Lpp  Local Partnership Program   \n",
       "\n",
       "                                                                multiprogfunded  \\\n",
       "0  Local Partnership Program 10831000Solutions For Congested Corridors 65000000   \n",
       "\n",
       "     projstatus      cost assemblydistrict senatedistrict assemblycode  \\\n",
       "0  Construction  10831000            40 47          20 23         4047   \n",
       "\n",
       "  senatecode      countyname countycode  \\\n",
       "0       2023  San Bernardino        Sbd   \n",
       "\n",
       "                                    appagencyname  \\\n",
       "0  San Bernardino County Transportation Authority   \n",
       "\n",
       "                                    impagencyname totalcosts routes constyear  \\\n",
       "0  San Bernardino County Transportation Authority        NaN    NaN      2019   \n",
       "\n",
       "     costfull                                      projagency  \n",
       "0 10831000.00  San Bernardino County Transportation Authority  "
      ]
     },
     "execution_count": 17,
     "metadata": {},
     "output_type": "execute_result"
    }
   ],
   "source": [
    "project_table2.loc[project_table2.projectid == \"LppcC1Fy17206507Pp19\"].drop(\n",
    "    columns=\"description\"\n",
    ")"
   ]
  },
  {
   "cell_type": "code",
   "execution_count": 18,
   "id": "ce188929-b8bc-4acd-80df-7e10b6d80ac2",
   "metadata": {},
   "outputs": [
    {
     "data": {
      "text/html": [
       "<div>\n",
       "<style scoped>\n",
       "    .dataframe tbody tr th:only-of-type {\n",
       "        vertical-align: middle;\n",
       "    }\n",
       "\n",
       "    .dataframe tbody tr th {\n",
       "        vertical-align: top;\n",
       "    }\n",
       "\n",
       "    .dataframe thead th {\n",
       "        text-align: right;\n",
       "    }\n",
       "</style>\n",
       "<table border=\"1\" class=\"dataframe\">\n",
       "  <thead>\n",
       "    <tr style=\"text-align: right;\">\n",
       "      <th></th>\n",
       "      <th>projectid</th>\n",
       "      <th>projname</th>\n",
       "      <th>projcatcode</th>\n",
       "      <th>projcategory</th>\n",
       "      <th>projprogcode</th>\n",
       "      <th>projprogram</th>\n",
       "      <th>multiprogfunded</th>\n",
       "      <th>projstatus</th>\n",
       "      <th>cost</th>\n",
       "      <th>assemblydistrict</th>\n",
       "      <th>senatedistrict</th>\n",
       "      <th>assemblycode</th>\n",
       "      <th>senatecode</th>\n",
       "      <th>countyname</th>\n",
       "      <th>countycode</th>\n",
       "      <th>appagencyname</th>\n",
       "      <th>impagencyname</th>\n",
       "      <th>totalcosts</th>\n",
       "      <th>routes</th>\n",
       "      <th>constyear</th>\n",
       "      <th>costfull</th>\n",
       "      <th>projagency</th>\n",
       "    </tr>\n",
       "  </thead>\n",
       "  <tbody>\n",
       "    <tr>\n",
       "      <th>24</th>\n",
       "      <td>TcepC1Fy17206249Pp10</td>\n",
       "      <td>Rt 8068012 Interchange Package 2A</td>\n",
       "      <td>Local</td>\n",
       "      <td>Local And Regional</td>\n",
       "      <td>Tce</td>\n",
       "      <td>Trade Corridor Enhancement Program</td>\n",
       "      <td>NaN</td>\n",
       "      <td>Construction</td>\n",
       "      <td>53200000</td>\n",
       "      <td>04 11</td>\n",
       "      <td>03</td>\n",
       "      <td>0411</td>\n",
       "      <td>03</td>\n",
       "      <td>Solano</td>\n",
       "      <td>Sol</td>\n",
       "      <td>Solano Transportation Authority</td>\n",
       "      <td>Sta</td>\n",
       "      <td>NaN</td>\n",
       "      <td>NaN</td>\n",
       "      <td>2021</td>\n",
       "      <td>53200000.00</td>\n",
       "      <td>Solano Transportation Authority</td>\n",
       "    </tr>\n",
       "  </tbody>\n",
       "</table>\n",
       "</div>"
      ],
      "text/plain": [
       "               projectid                           projname projcatcode  \\\n",
       "24  TcepC1Fy17206249Pp10  Rt 8068012 Interchange Package 2A       Local   \n",
       "\n",
       "          projcategory projprogcode                         projprogram  \\\n",
       "24  Local And Regional          Tce  Trade Corridor Enhancement Program   \n",
       "\n",
       "   multiprogfunded    projstatus      cost assemblydistrict senatedistrict  \\\n",
       "24             NaN  Construction  53200000            04 11             03   \n",
       "\n",
       "   assemblycode senatecode countyname countycode  \\\n",
       "24         0411         03     Solano        Sol   \n",
       "\n",
       "                      appagencyname impagencyname totalcosts routes constyear  \\\n",
       "24  Solano Transportation Authority           Sta        NaN    NaN      2021   \n",
       "\n",
       "      costfull                       projagency  \n",
       "24 53200000.00  Solano Transportation Authority  "
      ]
     },
     "execution_count": 18,
     "metadata": {},
     "output_type": "execute_result"
    }
   ],
   "source": [
    "project_table2.loc[project_table2.projectid == \"TcepC1Fy17206249Pp10\"].drop(\n",
    "    columns=\"description\"\n",
    ")"
   ]
  },
  {
   "cell_type": "markdown",
   "id": "02989f7a-b78a-4390-b153-f7a3682b4feb",
   "metadata": {},
   "source": [
    "### Separate out SB1 based on our table schema"
   ]
  },
  {
   "cell_type": "code",
   "execution_count": 19,
   "id": "36b42703-90f6-42b3-8a4e-95807d7eed0b",
   "metadata": {},
   "outputs": [],
   "source": [
    "def merge(df: pd.DataFrame, subset_cols: list):\n",
    "    df2 = df[subset_cols]\n",
    "    display(\n",
    "        pd.merge(df, df2, on=subset_cols, how=\"inner\", indicator=True)[\n",
    "            [\"_merge\"]\n",
    "        ].value_counts()\n",
    "    )\n",
    "    return df2"
   ]
  },
  {
   "cell_type": "markdown",
   "id": "fc043281-e587-42c1-a3f5-efa284412ae1",
   "metadata": {},
   "source": [
    "#### Assembly Districts"
   ]
  },
  {
   "cell_type": "code",
   "execution_count": 20,
   "id": "92637342-cc6a-475c-987a-78151ef012f2",
   "metadata": {},
   "outputs": [],
   "source": [
    "assembly_subset = [\n",
    "    \"objectid\",\n",
    "    \"projectid\",\n",
    "    \"projname\",\n",
    "    \"projagency\",\n",
    "    \"assemblycode\",\n",
    "    \"assemblydistrict\",\n",
    "]"
   ]
  },
  {
   "cell_type": "code",
   "execution_count": 21,
   "id": "88a6100c-69d1-42bb-94e8-95784ab0f714",
   "metadata": {},
   "outputs": [
    {
     "ename": "NameError",
     "evalue": "name 'sb1_df1' is not defined",
     "output_type": "error",
     "traceback": [
      "\u001b[0;31m---------------------------------------------------------------------------\u001b[0m",
      "\u001b[0;31mNameError\u001b[0m                                 Traceback (most recent call last)",
      "Cell \u001b[0;32mIn[21], line 1\u001b[0m\n\u001b[0;32m----> 1\u001b[0m \u001b[43msb1_df1\u001b[49m\u001b[38;5;241m.\u001b[39mcolumns\n",
      "\u001b[0;31mNameError\u001b[0m: name 'sb1_df1' is not defined"
     ]
    }
   ],
   "source": [
    "sb1_df1.columns"
   ]
  },
  {
   "cell_type": "code",
   "execution_count": null,
   "id": "a4003904-96e2-4eac-bd20-d487ef1f8809",
   "metadata": {},
   "outputs": [],
   "source": [
    "assembly_df = merge(sb1_df1, assembly_subset)"
   ]
  },
  {
   "cell_type": "code",
   "execution_count": null,
   "id": "7d787b4b-4569-4338-b20e-66b001a85c5d",
   "metadata": {},
   "outputs": [],
   "source": [
    "assembly_df.sample(3)"
   ]
  },
  {
   "cell_type": "markdown",
   "id": "e8ba98f9-824a-4109-88e1-9b7785126569",
   "metadata": {},
   "source": [
    "#### Awards"
   ]
  },
  {
   "cell_type": "code",
   "execution_count": null,
   "id": "489bb001-46e5-42e7-8534-71515c855691",
   "metadata": {},
   "outputs": [],
   "source": [
    "sb1_df1.columns"
   ]
  },
  {
   "cell_type": "code",
   "execution_count": null,
   "id": "cc37c7d7-80a8-48e0-a514-4ff14b7038a7",
   "metadata": {},
   "outputs": [],
   "source": [
    "awards_subset = [\n",
    "    \"objectid\",\n",
    "    \"projectid\",\n",
    "    \"projname\",\n",
    "    \"projagency\",\n",
    "    \"projprogcode\",\n",
    "    \"projprogram\",\n",
    "    \"multiprogfunded\",\n",
    "]"
   ]
  },
  {
   "cell_type": "code",
   "execution_count": null,
   "id": "188fe7d9-3e87-4239-9bfa-7d2d0561ac08",
   "metadata": {},
   "outputs": [],
   "source": [
    "awards_df = merge(sb1_df1, awards_subset)"
   ]
  },
  {
   "cell_type": "code",
   "execution_count": null,
   "id": "53d12a10-7b90-436f-abf2-e167679b3957",
   "metadata": {},
   "outputs": [],
   "source": [
    "awards_df.projprogram.value_counts()"
   ]
  },
  {
   "cell_type": "markdown",
   "id": "22d227d2-462f-47d3-8165-f55301313ffb",
   "metadata": {},
   "source": [
    "#### County"
   ]
  },
  {
   "cell_type": "code",
   "execution_count": null,
   "id": "104793ba-80b9-44fd-bda3-e533188a0700",
   "metadata": {},
   "outputs": [],
   "source": [
    "county_subset = [\n",
    "    \"objectid\",\n",
    "    \"projectid\",\n",
    "    \"projname\",\n",
    "    \"projagency\",\n",
    "    \"countyname\",\n",
    "    \"countycode\",\n",
    "]"
   ]
  },
  {
   "cell_type": "code",
   "execution_count": null,
   "id": "c16ba1cb-b2d5-42fc-bc1a-8641519caff8",
   "metadata": {},
   "outputs": [],
   "source": [
    "county_df = merge(sb1_df1, county_subset)"
   ]
  },
  {
   "cell_type": "code",
   "execution_count": null,
   "id": "8c5eb6ab-9a9c-4bb1-82e5-49afb7e3879d",
   "metadata": {},
   "outputs": [],
   "source": [
    "county_df.sample(3)"
   ]
  },
  {
   "cell_type": "markdown",
   "id": "d78ffda2-8b92-4d3f-9efa-4f89453e7863",
   "metadata": {},
   "source": [
    "#### City"
   ]
  },
  {
   "cell_type": "code",
   "execution_count": null,
   "id": "9b14db81-d362-47c6-a87d-31c99fd95a35",
   "metadata": {},
   "outputs": [],
   "source": [
    "city_subset = [\n",
    "    \"objectid\",\n",
    "    \"projectid\",\n",
    "    \"projname\",\n",
    "    \"projagency\",\n",
    "    \"cityname\",\n",
    "    \"citycode\",\n",
    "]"
   ]
  },
  {
   "cell_type": "code",
   "execution_count": null,
   "id": "11c163a0-9d43-409b-85d8-99ff4d3f3390",
   "metadata": {},
   "outputs": [],
   "source": [
    "city_df = merge(sb1_df1, city_subset)"
   ]
  },
  {
   "cell_type": "markdown",
   "id": "e1bc5532-9433-4292-89c6-324057060466",
   "metadata": {},
   "source": [
    "#### Senate District"
   ]
  },
  {
   "cell_type": "code",
   "execution_count": null,
   "id": "80e67da3-05a2-4fbf-ade4-2478d49281fe",
   "metadata": {},
   "outputs": [],
   "source": [
    "sb1_df1.columns"
   ]
  },
  {
   "cell_type": "code",
   "execution_count": null,
   "id": "e237a21d-db21-4a59-bf3c-d216c9d3a524",
   "metadata": {},
   "outputs": [],
   "source": [
    "senate_subset = [\n",
    "    \"objectid\",\n",
    "    \"projectid\",\n",
    "    \"projname\",\n",
    "    \"projagency\",\n",
    "    \"senatedistrict\",\n",
    "    \"senatecode\",\n",
    "]"
   ]
  },
  {
   "cell_type": "code",
   "execution_count": null,
   "id": "dfcd4081-a4f4-4e48-92b4-05764d94d58e",
   "metadata": {},
   "outputs": [],
   "source": [
    "senate_df = merge(sb1_df1, senate_subset)"
   ]
  },
  {
   "cell_type": "markdown",
   "id": "f3a4b55b-9a5d-4424-bf32-0bb96f4cb9dd",
   "metadata": {},
   "source": [
    "#### Geometry"
   ]
  },
  {
   "cell_type": "code",
   "execution_count": null,
   "id": "1a318b26-749c-4a11-abc3-f81a7a480c9d",
   "metadata": {},
   "outputs": [],
   "source": [
    "geo_subset = [\"objectid\", \"projectid\", \"projname\", \"projagency\", \"geometry\"]"
   ]
  },
  {
   "cell_type": "code",
   "execution_count": null,
   "id": "b578a75d-f86c-4598-b1e2-0b9ae051fc14",
   "metadata": {},
   "outputs": [],
   "source": [
    "gdf = merge(sb1_df1, geo_subset)"
   ]
  },
  {
   "cell_type": "code",
   "execution_count": null,
   "id": "7c0d3db6-4a83-4889-9ac3-dc9c0799c019",
   "metadata": {},
   "outputs": [],
   "source": [
    "type(gdf)"
   ]
  },
  {
   "cell_type": "markdown",
   "id": "ea6c795c-32de-413f-aaf8-682a33d6d3e1",
   "metadata": {},
   "source": [
    "#### Project Base Table"
   ]
  },
  {
   "cell_type": "code",
   "execution_count": null,
   "id": "425ab7ca-8978-425a-bec5-4f80f1ba5265",
   "metadata": {},
   "outputs": [],
   "source": [
    "project_subset = [\n",
    "    \"objectid\",\n",
    "    \"projectid\",\n",
    "    \"projname\",\n",
    "    \"description\",\n",
    "    \"cost\",\n",
    "    \"totalcosts\",\n",
    "    \"routes\",\n",
    "    \"costfull\",\n",
    "    \"projagency\",\n",
    "    \"appagencyname\",\n",
    "    \"impagencyname\",\n",
    "]"
   ]
  },
  {
   "cell_type": "code",
   "execution_count": null,
   "id": "8f90b9d5-6d35-4854-b5e3-eb548f6edbfb",
   "metadata": {},
   "outputs": [],
   "source": [
    "project_df = sb1_df1[project_subset]"
   ]
  },
  {
   "cell_type": "code",
   "execution_count": null,
   "id": "a06a45c9-d488-4189-bd61-59f04c68672f",
   "metadata": {
    "scrolled": true,
    "tags": []
   },
   "outputs": [],
   "source": [
    "# project_df.sample(100)"
   ]
  },
  {
   "cell_type": "markdown",
   "id": "d55f7d87-fe27-4afd-8cf1-3d1119fe5a32",
   "metadata": {},
   "source": [
    "#### Phase Funding"
   ]
  },
  {
   "cell_type": "code",
   "execution_count": null,
   "id": "57e7241e-3630-4c7c-936e-e906699adf84",
   "metadata": {},
   "outputs": [],
   "source": [
    "phase_subset = [\n",
    "    \"objectid\",\n",
    "    \"projectid\",\n",
    "    \"projname\",\n",
    "    \"projstatus\",\n",
    "    \"projagency\",\n",
    "    \"constyear\",\n",
    "]"
   ]
  },
  {
   "cell_type": "code",
   "execution_count": null,
   "id": "9bc86fa4-3a9c-4e26-8334-41c88e896c35",
   "metadata": {},
   "outputs": [],
   "source": [
    "phase_df = merge(sb1_df1, phase_subset)"
   ]
  },
  {
   "cell_type": "code",
   "execution_count": null,
   "id": "169c9cbf-8810-4321-9981-65061902c5e2",
   "metadata": {},
   "outputs": [],
   "source": [
    "phase_df.head()"
   ]
  },
  {
   "cell_type": "code",
   "execution_count": null,
   "id": "e17b3d5f-a38f-4ebd-890c-7bcaff24e10c",
   "metadata": {},
   "outputs": [],
   "source": [
    "url_pt1 = \"https://odpsvcs.dot.ca.gov/arcgis/rest/services/RCA/RCA_Projects_092023/FeatureServer/\""
   ]
  },
  {
   "cell_type": "code",
   "execution_count": null,
   "id": "0f249d5a-2024-4430-be15-41111e2d24b8",
   "metadata": {},
   "outputs": [],
   "source": [
    "url_pt2 = \"/query?where=1%3D1&objectIds=&time=&geometry=&geometryType=esriGeometryEnvelope&inSR=&spatialRel=esriSpatialRelIntersects&distance=&units=esriSRUnit_Foot&relationParam=&outFields=*+&returnGeometry=true&maxAllowableOffset=&geometryPrecision=&outSR=&gdbVersion=&historicMoment=&returnDistinctValues=false&returnIdsOnly=false&returnCountOnly=false&returnExtentOnly=false&orderByFields=&groupByFieldsForStatistics=&outStatistics=&returnZ=false&returnM=false&multipatchOption=&resultOffset=&resultRecordCount=&returnTrueCurves=false&sqlFormat=none&f=geojson\""
   ]
  },
  {
   "cell_type": "code",
   "execution_count": null,
   "id": "6a2aedac-dc9e-4f74-83ad-d430cc90986f",
   "metadata": {},
   "outputs": [],
   "source": [
    "int_to_string = list(map(str, [*range(0, 28)]))"
   ]
  },
  {
   "cell_type": "code",
   "execution_count": null,
   "id": "fcca6479-bf48-4032-b6fe-a32bc1a0b164",
   "metadata": {
    "scrolled": true,
    "tags": []
   },
   "outputs": [],
   "source": [
    "full_gdf = pd.DataFrame()\n",
    "for i in int_to_string:\n",
    "    df = to_snakecase(gpd.read_file(f\"{url_pt1}{i}{url_pt2}\"))\n",
    "    full_gdf = pd.concat([full_gdf, df], axis=0)"
   ]
  },
  {
   "cell_type": "code",
   "execution_count": null,
   "id": "3b80765a-5b46-4c8a-9769-acfdf40b9ec7",
   "metadata": {},
   "outputs": [],
   "source": [
    "full_gdf.shape"
   ]
  },
  {
   "cell_type": "code",
   "execution_count": null,
   "id": "bd86047d-72a8-43f9-98ae-1f124e34b1f3",
   "metadata": {},
   "outputs": [],
   "source": [
    "full_gdf.shape, sb1_df1.shape"
   ]
  },
  {
   "cell_type": "markdown",
   "id": "4abd76e2-50d0-43d0-84e9-84150579a2f6",
   "metadata": {},
   "source": [
    "#### Compare"
   ]
  },
  {
   "cell_type": "code",
   "execution_count": null,
   "id": "673b736b-7429-4511-ab8f-d9a6d806d074",
   "metadata": {},
   "outputs": [],
   "source": [
    "full_gdf.columns"
   ]
  },
  {
   "cell_type": "code",
   "execution_count": null,
   "id": "b1fd0977-c490-4a01-a3a9-49e90e91a012",
   "metadata": {},
   "outputs": [],
   "source": [
    "full_gdf2 = full_gdf[\n",
    "    [\"projecttitle\", \"projectdescription\", \"countycodes\", \"ct_districts\"]\n",
    "]"
   ]
  },
  {
   "cell_type": "code",
   "execution_count": null,
   "id": "d33b713d-bc5e-48a3-8441-6a7ea6689002",
   "metadata": {},
   "outputs": [],
   "source": [
    "sb1_df1.columns"
   ]
  },
  {
   "cell_type": "code",
   "execution_count": null,
   "id": "0e27d7f3-5e22-491d-822f-526c4f27089c",
   "metadata": {},
   "outputs": [],
   "source": [
    "sb1_df2 = sb1_df1[[\"projname\", \"projagency\", \"description\", \"countycode\"]]"
   ]
  },
  {
   "cell_type": "code",
   "execution_count": null,
   "id": "c85e7c28-9ca0-4d6a-ad08-1174676d6f48",
   "metadata": {},
   "outputs": [],
   "source": [
    "pd.merge(\n",
    "    sb1_df2,\n",
    "    full_gdf2,\n",
    "    left_on=[\"projname\", \"description\", \"countycode\"],\n",
    "    right_on=[\"projecttitle\", \"projectdescription\", \"countycodes\"],\n",
    "    how=\"outer\",\n",
    "    indicator=True,\n",
    ")[[\"_merge\"]].value_counts()"
   ]
  },
  {
   "cell_type": "code",
   "execution_count": null,
   "id": "ce5115bf-9f02-47b9-9fa5-86bd3371c896",
   "metadata": {},
   "outputs": [],
   "source": [
    "pd.merge(\n",
    "    sb1_df2,\n",
    "    full_gdf2,\n",
    "    left_on=[\"projname\", \"description\"],\n",
    "    right_on=[\"projecttitle\", \"projectdescription\"],\n",
    "    how=\"outer\",\n",
    "    indicator=True,\n",
    ")[[\"_merge\"]].value_counts()"
   ]
  },
  {
   "cell_type": "code",
   "execution_count": null,
   "id": "62679591-eac5-429b-999b-630e77cc9735",
   "metadata": {},
   "outputs": [],
   "source": [
    "pd.merge(\n",
    "    sb1_df2,\n",
    "    full_gdf2,\n",
    "    left_on=[\"projname\", \"countycode\"],\n",
    "    right_on=[\"projecttitle\", \"countycodes\"],\n",
    "    how=\"outer\",\n",
    "    indicator=True,\n",
    ")[[\"_merge\"]].value_counts()"
   ]
  },
  {
   "cell_type": "code",
   "execution_count": null,
   "id": "629b5faf-1278-41cb-9c62-ebea1a730848",
   "metadata": {},
   "outputs": [],
   "source": [
    "url_pt1 = \"https://odpsvcs.dot.ca.gov/arcgis/rest/services/RCA/RCA_Projects_032022/FeatureServer/\"\n",
    "url_pt2 = \"/query?where=1%3D1&objectIds=&time=&geometry=&geometryType=esriGeometryEnvelope&inSR=&spatialRel=esriSpatialRelIntersects&distance=&units=esriSRUnit_Foot&relationParam=&outFields=*+&returnGeometry=true&maxAllowableOffset=&geometryPrecision=&outSR=&gdbVersion=&historicMoment=&returnDistinctValues=false&returnIdsOnly=false&returnCountOnly=false&returnExtentOnly=false&orderByFields=&groupByFieldsForStatistics=&outStatistics=&returnZ=false&returnM=false&multipatchOption=&resultOffset=&resultRecordCount=&returnTrueCurves=false&sqlFormat=none&f=geojson\""
   ]
  },
  {
   "cell_type": "code",
   "execution_count": null,
   "id": "c30d39fb-1ff7-4160-af7e-1360d0806d50",
   "metadata": {},
   "outputs": [],
   "source": [
    "def sb1_basic_cleaning(\n",
    "    gdf: gpd.GeoDataFrame, project_name_col: str\n",
    ") -> gpd.GeoDataFrame:\n",
    "    \"\"\"\n",
    "    Perform basic cleaning before joining\n",
    "    SB1 & Non SHOPP data together.\n",
    "    \"\"\"\n",
    "    # Some project names contain the year. Remove anything after 20..\n",
    "    gdf[project_name_col] = gdf[project_name_col].str.split(\"20\").str[0]\n",
    "\n",
    "    # Get rid of | in object cols\n",
    "    # https://stackoverflow.com/questions/68152902/extracting-only-object-type-columns-in-a-separate-list-from-a-data-frame-in-pand\n",
    "    string_cols = gdf.select_dtypes(include=[\"object\"]).columns.to_list()\n",
    "    try:\n",
    "        for i in string_cols:\n",
    "            gdf[i] = (\n",
    "                gdf[i]\n",
    "                .str.replace(\"|\", \"\")\n",
    "                .str.lower()\n",
    "                .str.replace(\"[^\\w\\s]\", \"\")\n",
    "                .str.strip()\n",
    "            )\n",
    "    except:\n",
    "        pass\n",
    "\n",
    "    # Try to extract titles from popups\n",
    "    try:\n",
    "        df[\"popup\"] = (\n",
    "            df[\"popup\"]\n",
    "            .str.split(\"<br  />\")\n",
    "            .str[1]\n",
    "            .str.split(\"20\")\n",
    "            .str[0]\n",
    "            .str.lower()\n",
    "            .str.strip()\n",
    "            .str.replace(\"[^\\w\\s]\", \"\")\n",
    "        )\n",
    "    except:\n",
    "        pass\n",
    "\n",
    "    return gdf"
   ]
  },
  {
   "cell_type": "code",
   "execution_count": null,
   "id": "fe57ecfb-fd8c-4008-87c2-1f5a3c26d746",
   "metadata": {},
   "outputs": [],
   "source": [
    "def load_sb1_all_projects() -> pd.DataFrame:\n",
    "    \"\"\"\n",
    "    Load in all projects layer of SB1 because it\n",
    "    contains a value for every row in the\n",
    "    project title column.\n",
    "    \"\"\"\n",
    "    df = f\"{url_pt1}22{url_pt2}\"\n",
    "\n",
    "    df = to_snakecase(gpd.read_file(df))\n",
    "\n",
    "    # No geometry, just drop it\n",
    "    df = df.drop(columns=[\"geometry\"])\n",
    "\n",
    "    # Basic cleaning\n",
    "    df = sb1_basic_cleaning(\n",
    "        df, \"implementingagency\", \"projecttitle\", \"projectid\", \"projectdescription\"\n",
    "    )\n",
    "\n",
    "    return df"
   ]
  },
  {
   "cell_type": "code",
   "execution_count": null,
   "id": "a9ad9c79-56b3-4400-9697-b7efccfe1db0",
   "metadata": {},
   "outputs": [],
   "source": [
    "def sb1_final() -> gpd.GeoDataFrame:\n",
    "    \"\"\"\n",
    "    Layers 0-21 with geographic information\n",
    "    don't always have project titles for each\n",
    "    of the projects. Merge these layers with\n",
    "    layer 22, which does have title information.\n",
    "    \"\"\"\n",
    "    all_projects_subset = [\n",
    "        \"projecttitle\",\n",
    "        \"programcodes\",\n",
    "        \"totalcost\",\n",
    "        \"implementingagency\",\n",
    "        \"fiscalyearcode\",\n",
    "    ]\n",
    "\n",
    "    sb1_geo, missing_geo = load_sb1_rest_server()\n",
    "    sb1_all_projects = load_sb1_all_projects()[all_projects_subset]\n",
    "\n",
    "    # Merge\n",
    "    merge1 = pd.merge(\n",
    "        sb1_geo,\n",
    "        sb1_all_projects,\n",
    "        how=\"left\",\n",
    "        left_on=[\"programcodes\", \"totalcost\", \"agencies\", \"fiscalyearcodes\"],\n",
    "        right_on=[\"programcodes\", \"totalcost\", \"implementingagency\", \"fiscalyearcode\"],\n",
    "    )\n",
    "\n",
    "    # Fill in missing project titles in sb1_geo with information from\n",
    "    # sb1_all_projects\n",
    "    merge1.projecttitle_x = merge1.projecttitle_x.fillna(merge1.projecttitle_y)\n",
    "\n",
    "    # Fill missing titles with none\n",
    "    merge1.projecttitle_x = merge1.projecttitle_x.fillna(\"None\")\n",
    "\n",
    "    # Drop columns\n",
    "    merge1 = merge1.drop(columns=[\"projecttitle_y\"])\n",
    "\n",
    "    # Add a new column detailing where this information comes from\n",
    "    merge1 = merge1.assign(notes=merge1.programcodes + \"/\" + \"SB1\")\n",
    "\n",
    "    merge1 = merge1.fillna(merge1.dtypes.replace({\"float64\": 0.0, \"object\": \"None\"}))\n",
    "    return merge1"
   ]
  },
  {
   "cell_type": "code",
   "execution_count": null,
   "id": "bcc62451-98c7-4187-bab3-ad89a039cf75",
   "metadata": {},
   "outputs": [],
   "source": [
    "sb1_final_gdf = sb1_final()"
   ]
  },
  {
   "cell_type": "code",
   "execution_count": null,
   "id": "afbd958b-5836-4789-9372-62edac321165",
   "metadata": {},
   "outputs": [],
   "source": [
    "sb1_final_gdf.projectstatuscodes.value_counts()"
   ]
  },
  {
   "cell_type": "code",
   "execution_count": null,
   "id": "c2af4504-84bc-48b5-85ad-0b0324510590",
   "metadata": {},
   "outputs": [],
   "source": [
    "len(sb1_final_gdf), sb1_final_gdf.geometry.nunique()"
   ]
  },
  {
   "cell_type": "code",
   "execution_count": null,
   "id": "a52f1771-0064-493b-a339-d1dcece8ed2b",
   "metadata": {},
   "outputs": [],
   "source": [
    "sb1_final_gdf.info()"
   ]
  },
  {
   "cell_type": "code",
   "execution_count": null,
   "id": "23f286bd-e22d-4885-8997-1ba4353648a1",
   "metadata": {},
   "outputs": [],
   "source": [
    "sb1_final_gdf.projecttitle_x.value_counts().head(10)"
   ]
  },
  {
   "cell_type": "code",
   "execution_count": null,
   "id": "f2edcfa1-080f-4f09-bd3d-2a72c1e12149",
   "metadata": {},
   "outputs": [],
   "source": [
    "sb1_final_gdf[sb1_final_gdf.projecttitle_x == \"major damage restoration\"].groupby(\n",
    "    [\"projecttitle_x\", \"countynames\"]\n",
    ").agg({\"objectid\": \"count\"}).head()"
   ]
  },
  {
   "cell_type": "code",
   "execution_count": null,
   "id": "218ee516-3050-40dc-ae03-34d4a4e5ff3e",
   "metadata": {},
   "outputs": [],
   "source": [
    "sb1_final_gdf.projectstatuscodes.value_counts()"
   ]
  },
  {
   "cell_type": "code",
   "execution_count": null,
   "id": "61f6be29-f2ab-4f89-9ea7-98c44733ad86",
   "metadata": {},
   "outputs": [],
   "source": [
    "sb1_final_gdf.projectstatuscodes.unique()"
   ]
  },
  {
   "cell_type": "code",
   "execution_count": null,
   "id": "a9b35d63-e309-4bf4-a0bb-c3b15951240b",
   "metadata": {},
   "outputs": [],
   "source": [
    "sb1_final_gdf.projectstatuses.value_counts()"
   ]
  },
  {
   "cell_type": "code",
   "execution_count": null,
   "id": "e7b4eea5-18d9-4f5e-82ec-dfd499c3371e",
   "metadata": {
    "scrolled": true,
    "tags": []
   },
   "outputs": [],
   "source": [
    "sb1_final_gdf[\n",
    "    (sb1_final_gdf.projecttitle_x == \"major damage restoration\")\n",
    "    & (sb1_final_gdf.countynames == \"Alameda\")\n",
    "]"
   ]
  },
  {
   "cell_type": "code",
   "execution_count": null,
   "id": "14887b33-91fd-4ade-8c79-788024fe192f",
   "metadata": {},
   "outputs": [],
   "source": [
    "sb1_final_gdf[\n",
    "    (sb1_final_gdf.projecttitle_x == \"major damage restoration\")\n",
    "    & (sb1_final_gdf.countynames == \"Alameda\")\n",
    "].plot()"
   ]
  },
  {
   "cell_type": "code",
   "execution_count": null,
   "id": "c216f060-648a-4294-b07d-9142d23d6827",
   "metadata": {},
   "outputs": [],
   "source": [
    "# sb1_final_gdf[sb1_final_gdf.projecttitle_x == \"major damage restoration\"].explore()"
   ]
  }
 ],
 "metadata": {
  "kernelspec": {
   "display_name": "Python 3 (ipykernel)",
   "language": "python",
   "name": "python3"
  },
  "language_info": {
   "codemirror_mode": {
    "name": "ipython",
    "version": 3
   },
   "file_extension": ".py",
   "mimetype": "text/x-python",
   "name": "python",
   "nbconvert_exporter": "python",
   "pygments_lexer": "ipython3",
   "version": "3.9.13"
  }
 },
 "nbformat": 4,
 "nbformat_minor": 5
}
