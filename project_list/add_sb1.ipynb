{
 "cells": [
  {
   "cell_type": "markdown",
   "id": "79a419d1-4725-471f-9ba9-7c1015125039",
   "metadata": {},
   "source": [
    "## SB1 \n",
    "* Need to find out\n",
    "    * What's the difference between RCA/RCA_Projects_092023 (FeatureServer) and RCA/RCA_Projects_102023 (FeatureServer) here https://odpsvcs.dot.ca.gov/arcgis/rest/services/RCA?\n",
    "    * What's the right link to use to grab the projects: https://odpsvcs.dot.ca.gov/arcgis/rest/services/SB1/SB1_ProjectData/FeatureServer or https://odpsvcs.dot.ca.gov/arcgis/rest/services/RCA?\n",
    "        * I think link 1 is related to the SB1 map online\n",
    "        * Unsure what the second map is about?"
   ]
  },
  {
   "cell_type": "code",
   "execution_count": 1,
   "id": "f6ddf257-863a-41d8-9830-ef8b7d91647b",
   "metadata": {},
   "outputs": [],
   "source": [
    "import geopandas as gpd\n",
    "import numpy as np\n",
    "import pandas as pd\n",
    "import _harmonization_utils \n",
    "from calitp_data_analysis.sql import to_snakecase\n",
    "from calitp_data_analysis import utils"
   ]
  },
  {
   "cell_type": "code",
   "execution_count": 2,
   "id": "2a49b60c-2fb0-44fd-80c4-a7f98556585d",
   "metadata": {},
   "outputs": [],
   "source": [
    "pd.options.display.max_columns = 100\n",
    "pd.options.display.float_format = \"{:.2f}\".format\n",
    "pd.set_option(\"display.max_rows\", None)\n",
    "pd.set_option(\"display.max_colwidth\", None)"
   ]
  },
  {
   "cell_type": "code",
   "execution_count": 3,
   "id": "b0bb2532-b0d2-4a06-a9e1-ab7b2615b1be",
   "metadata": {},
   "outputs": [],
   "source": [
    "# sb1, missing_geo_sb1 = load_sb1_rest_server()"
   ]
  },
  {
   "cell_type": "code",
   "execution_count": 4,
   "id": "3ac7b6d2-492b-414c-8dc5-73ca033d1a9b",
   "metadata": {},
   "outputs": [],
   "source": [
    "# len(sb1), type(sb1)"
   ]
  },
  {
   "cell_type": "code",
   "execution_count": 5,
   "id": "62aa37e5-91cc-4c7b-88da-8498f05baa78",
   "metadata": {},
   "outputs": [],
   "source": [
    "# len(missing_geo_sb1)"
   ]
  },
  {
   "cell_type": "code",
   "execution_count": 6,
   "id": "bc2484ee-dfd5-4e15-b858-e264f6008b36",
   "metadata": {},
   "outputs": [],
   "source": [
    "# sb1_all_projects = load_sb1_all_projects()"
   ]
  },
  {
   "cell_type": "code",
   "execution_count": 7,
   "id": "17f555ad-8990-41bb-a50c-da5a9a960b66",
   "metadata": {},
   "outputs": [],
   "source": [
    "# len(sb1_all_projects)"
   ]
  },
  {
   "cell_type": "markdown",
   "id": "90e7db56-e45a-42cc-aae3-ad42664615b3",
   "metadata": {},
   "source": [
    "### Link above broken, try new link\n",
    "* https://odpsvcs.dot.ca.gov/arcgis/rest/services/RCA/RCA_Projects_092023/FeatureServer"
   ]
  },
  {
   "cell_type": "markdown",
   "id": "d5fc1c97-8288-4de2-aee0-45cef8af6d8c",
   "metadata": {},
   "source": [
    "#### Link 1\n",
    "* SB1 Only\n",
    "* https://odpsvcs.dot.ca.gov/arcgis/rest/services/SB1/SB1_ProjectData/FeatureServer"
   ]
  },
  {
   "cell_type": "code",
   "execution_count": 8,
   "id": "aa6cf22d-a5dd-4092-80fb-1c9fb84b2fda",
   "metadata": {},
   "outputs": [],
   "source": [
    "def sb1_basic_cleaning(\n",
    "    gdf: gpd.GeoDataFrame, \n",
    "    project_name_col:str,\n",
    "    agency_col:str)-> gpd.GeoDataFrame:\n",
    "    \"\"\"\n",
    "    Perform basic cleaning before joining\n",
    "    SB1 & Non SHOPP data together.\n",
    "    \"\"\"\n",
    "    # Some project names contain the year. Remove anything after 20..\n",
    "    gdf[project_name_col] = gdf[project_name_col].str.split(\"20\").str[0]\n",
    "    \n",
    "   \n",
    "    # Get rid of | in object cols\n",
    "    # https://stackoverflow.com/questions/68152902/extracting-only-object-type-columns-in-a-separate-list-from-a-data-frame-in-pand\n",
    "    string_cols = gdf.select_dtypes(include=[\"object\"]).columns.to_list()\n",
    "    try:\n",
    "        for i in string_cols:\n",
    "            gdf[i] = gdf[i].str.replace(\"|\", \"\").str.title().str.replace(\"[^\\w\\s]\", \"\").str.strip()\n",
    "            gdf[i] = gdf[i].fillna('None')\n",
    "    except:\n",
    "        pass\n",
    "    \n",
    "    # Project agency always says \"Los Angeles submitted by county\" \n",
    "    # or \"Fremont submitted by city.\" Remove submitted by.\n",
    "    gdf[agency_col]  = gdf[agency_col].str.replace('Submitted By', ' ')\n",
    "    \n",
    " \n",
    "    return gdf"
   ]
  },
  {
   "cell_type": "code",
   "execution_count": 9,
   "id": "adf481c8-cc07-436b-868e-f2017ddbca1b",
   "metadata": {},
   "outputs": [],
   "source": [
    "def load_sb1() -> gpd.GeoDataFrame:\n",
    "    \"\"\"\n",
    "    Load all the projects on the SB1 map from the Feature Server.\n",
    "\n",
    "    https://odpsvcs.dot.ca.gov/arcgis/rest/services/SB1/SB1_ProjectData/FeatureServer\n",
    "    \"\"\"\n",
    "    sb1_pt1 = \"https://odpsvcs.dot.ca.gov/arcgis/rest/services/SB1/SB1_ProjectData/FeatureServer/\"\n",
    "    sb1_pt2 = \"/query?where=1%3D1&objectIds=&time=&geometry=&geometryType=esriGeometryEnvelope&inSR=&spatialRel=esriSpatialRelIntersects&distance=&units=esriSRUnit_Foot&relationParam=&outFields=*+&returnGeometry=true&maxAllowableOffset=&geometryPrecision=&outSR=&gdbVersion=&historicMoment=&returnDistinctValues=false&returnIdsOnly=false&returnCountOnly=false&returnExtentOnly=false&orderByFields=&groupByFieldsForStatistics=&outStatistics=&returnZ=false&returnM=false&multipatchOption=&resultOffset=&resultRecordCount=&returnTrueCurves=false&sqlFormat=none&f=geojson\"\n",
    "\n",
    "    full_gdf = pd.DataFrame()\n",
    "    for i in list(map(str, [*range(0, 16)])):\n",
    "        df = to_snakecase(gpd.read_file(f\"{sb1_pt1}{i}{sb1_pt2}\"))\n",
    "        full_gdf = pd.concat([full_gdf, df], axis=0)\n",
    "    \n",
    "    # Basic cleaning\n",
    "    full_gdf = sb1_basic_cleaning(\n",
    "        full_gdf, \"projname\", \"projagency\",\n",
    "    )\n",
    "    \n",
    "    # Find missing geo\n",
    "    missing_geo = full_gdf[(full_gdf.geometry.is_empty)]\n",
    "    print(f\"{len(missing_geo)} rows are mising geometry\")\n",
    "    \n",
    "    # Find invalid geo\n",
    "    invalid_geo = full_gdf[~full_gdf.geometry.is_valid].reset_index(drop = True)\n",
    "    print(f\"{len(invalid_geo)} rows contain invalid geography\")\n",
    "    \n",
    "    # Filter out completed\n",
    "    full_gdf = full_gdf.loc[full_gdf.projstatus != \"Completed\"].reset_index(drop = True)\n",
    "    return full_gdf"
   ]
  },
  {
   "cell_type": "code",
   "execution_count": 10,
   "id": "a86b2bc6-e1db-403f-a365-82dc3f529bcf",
   "metadata": {
    "tags": []
   },
   "outputs": [
    {
     "name": "stderr",
     "output_type": "stream",
     "text": [
      "/tmp/ipykernel_856/2564796168.py:18: FutureWarning: The default value of regex will change from True to False in a future version. In addition, single character regular expressions will *not* be treated as literal strings when regex=True.\n",
      "  gdf[i] = gdf[i].str.replace(\"|\", \"\").str.title().str.replace(\"[^\\w\\s]\", \"\").str.strip()\n",
      "/tmp/ipykernel_856/2564796168.py:18: FutureWarning: The default value of regex will change from True to False in a future version.\n",
      "  gdf[i] = gdf[i].str.replace(\"|\", \"\").str.title().str.replace(\"[^\\w\\s]\", \"\").str.strip()\n"
     ]
    },
    {
     "name": "stdout",
     "output_type": "stream",
     "text": [
      "0 rows are mising geometry\n",
      "7917 rows contain invalid geography\n"
     ]
    }
   ],
   "source": [
    "sb1_df1 = load_sb1()"
   ]
  },
  {
   "cell_type": "code",
   "execution_count": 11,
   "id": "84f7a67f-cbed-4588-b215-4bd3079ed01d",
   "metadata": {},
   "outputs": [
    {
     "data": {
      "text/plain": [
       "5278"
      ]
     },
     "execution_count": 11,
     "metadata": {},
     "output_type": "execute_result"
    }
   ],
   "source": [
    "sb1_df1.projname.nunique()"
   ]
  },
  {
   "cell_type": "code",
   "execution_count": 12,
   "id": "a33ebc54-c82e-41fc-b1b7-5af0b74b50ba",
   "metadata": {},
   "outputs": [
    {
     "data": {
      "text/plain": [
       "7603"
      ]
     },
     "execution_count": 12,
     "metadata": {},
     "output_type": "execute_result"
    }
   ],
   "source": [
    "sb1_df1.projectid.nunique()"
   ]
  },
  {
   "cell_type": "code",
   "execution_count": 14,
   "id": "fb9fd4ca-4b89-4569-a916-eb63c9b55f78",
   "metadata": {},
   "outputs": [
    {
     "data": {
      "text/plain": [
       "9186"
      ]
     },
     "execution_count": 14,
     "metadata": {},
     "output_type": "execute_result"
    }
   ],
   "source": [
    " len(sb1_df1)"
   ]
  },
  {
   "cell_type": "code",
   "execution_count": 16,
   "id": "ec8392ec-f31c-4f1e-a018-f68a017baacf",
   "metadata": {},
   "outputs": [
    {
     "data": {
      "text/plain": [
       "PreConstruction    7093\n",
       "Construction       1129\n",
       "None                964\n",
       "Name: projstatus, dtype: int64"
      ]
     },
     "execution_count": 16,
     "metadata": {},
     "output_type": "execute_result"
    }
   ],
   "source": [
    "sb1_df1.projstatus.value_counts()"
   ]
  },
  {
   "cell_type": "code",
   "execution_count": 23,
   "id": "22320893-7a64-4f13-bfd5-d85c5f55f33d",
   "metadata": {},
   "outputs": [
    {
     "data": {
      "text/plain": [
       "201718 Local Streets And Roads                3814\n",
       "201819 Local Streets And Roads                2295\n",
       "State Highway Projects                        1089\n",
       "Local Streets And Roads                        539\n",
       "State Of Good Repair                           429\n",
       "State Transit Assistance                       370\n",
       "Active Transportation Program                  318\n",
       "Local Partnership Program                      174\n",
       "Transit And Intercity Rail Capital Program      60\n",
       "Trade Corridor Enhancement Program              57\n",
       "State Rail Assistance                           23\n",
       "Solutions For Congested Corridors Program       17\n",
       "Solutions To Congested Corridors Program         1\n",
       "Name: projprogram, dtype: int64"
      ]
     },
     "execution_count": 23,
     "metadata": {},
     "output_type": "execute_result"
    }
   ],
   "source": [
    "sb1_df1.projprogram.value_counts()"
   ]
  },
  {
   "cell_type": "code",
   "execution_count": 26,
   "id": "b87443ca-0d66-414a-a5b9-d1dc64e57d50",
   "metadata": {},
   "outputs": [
    {
     "data": {
      "text/html": [
       "<div>\n",
       "<style scoped>\n",
       "    .dataframe tbody tr th:only-of-type {\n",
       "        vertical-align: middle;\n",
       "    }\n",
       "\n",
       "    .dataframe tbody tr th {\n",
       "        vertical-align: top;\n",
       "    }\n",
       "\n",
       "    .dataframe thead th {\n",
       "        text-align: right;\n",
       "    }\n",
       "</style>\n",
       "<table border=\"1\" class=\"dataframe\">\n",
       "  <thead>\n",
       "    <tr style=\"text-align: right;\">\n",
       "      <th></th>\n",
       "      <th>objectid</th>\n",
       "      <th>projectid</th>\n",
       "      <th>projname</th>\n",
       "      <th>projcatcode</th>\n",
       "      <th>projcategory</th>\n",
       "      <th>projprogcode</th>\n",
       "      <th>projprogram</th>\n",
       "      <th>multiprogfunded</th>\n",
       "      <th>projstatus</th>\n",
       "      <th>cost</th>\n",
       "      <th>assemblydistrict</th>\n",
       "      <th>senatedistrict</th>\n",
       "      <th>assemblycode</th>\n",
       "      <th>senatecode</th>\n",
       "      <th>countyname</th>\n",
       "      <th>cityname</th>\n",
       "      <th>countycode</th>\n",
       "      <th>citycode</th>\n",
       "      <th>appagencyname</th>\n",
       "      <th>impagencyname</th>\n",
       "      <th>popuptitle</th>\n",
       "      <th>popup</th>\n",
       "      <th>projcount</th>\n",
       "      <th>totalcosts</th>\n",
       "      <th>projlisturl</th>\n",
       "      <th>projlist2url</th>\n",
       "      <th>mponame</th>\n",
       "      <th>mpocode</th>\n",
       "      <th>assetcategory</th>\n",
       "      <th>bphotojpg</th>\n",
       "      <th>bphotohtml</th>\n",
       "      <th>aphotojpg</th>\n",
       "      <th>aphotohtml</th>\n",
       "      <th>routes</th>\n",
       "      <th>constyear</th>\n",
       "      <th>costfull</th>\n",
       "      <th>projagency</th>\n",
       "    </tr>\n",
       "  </thead>\n",
       "  <tbody>\n",
       "    <tr>\n",
       "      <th>1421</th>\n",
       "      <td>4384</td>\n",
       "      <td>None</td>\n",
       "      <td>None</td>\n",
       "      <td>Local</td>\n",
       "      <td>Local And Regional</td>\n",
       "      <td>Lsr</td>\n",
       "      <td>Local Streets And Roads</td>\n",
       "      <td>None</td>\n",
       "      <td>None</td>\n",
       "      <td>None</td>\n",
       "      <td>03 3</td>\n",
       "      <td>04 4</td>\n",
       "      <td>03</td>\n",
       "      <td>04</td>\n",
       "      <td>Butte</td>\n",
       "      <td>Paradise</td>\n",
       "      <td>But</td>\n",
       "      <td>Prds</td>\n",
       "      <td>None</td>\n",
       "      <td>None</td>\n",
       "      <td>None</td>\n",
       "      <td>BSubmitted By City OfB ParadiseBr Br BYear 201718 ProjectsBBr BNumber Of ProjectsB 4Br A HrefHttpsSb1MapDotCaGovSb1MapSb1_TableHtmlProjprogcodeLsr1718CitycodePrds Style Target_BlankView Project ListABr Br BYear 201819 ProjectsBBr BNumber Of ProjectsB 1Br A HrefHttpsSb1MapDotCaGovSb1MapSb1_TableHtmlProjprogcodeLsr1819CitycodePrds Style Target_BlankView Project ListABr Br</td>\n",
       "      <td>5.00</td>\n",
       "      <td>None</td>\n",
       "      <td>HttpsSb1MapDotCaGovSb1MapSb1_TableHtmlProjprogcodeLsr1718CitycodePrds</td>\n",
       "      <td>HttpsSb1MapDotCaGovSb1MapSb1_TableHtmlProjprogcodeLsr1819CitycodePrds</td>\n",
       "      <td>None</td>\n",
       "      <td>None</td>\n",
       "      <td>None</td>\n",
       "      <td>None</td>\n",
       "      <td>None</td>\n",
       "      <td>None</td>\n",
       "      <td>None</td>\n",
       "      <td>None</td>\n",
       "      <td>None</td>\n",
       "      <td>NaN</td>\n",
       "      <td>None</td>\n",
       "    </tr>\n",
       "    <tr>\n",
       "      <th>8569</th>\n",
       "      <td>173041</td>\n",
       "      <td>Atp03A05005R</td>\n",
       "      <td>Rincon MultiUse Trail</td>\n",
       "      <td>State</td>\n",
       "      <td>State</td>\n",
       "      <td>Atp</td>\n",
       "      <td>Active Transportation Program</td>\n",
       "      <td>None</td>\n",
       "      <td>PreConstruction</td>\n",
       "      <td>7828000</td>\n",
       "      <td>37</td>\n",
       "      <td>19</td>\n",
       "      <td>37</td>\n",
       "      <td>19</td>\n",
       "      <td>Santa Barbara</td>\n",
       "      <td>Santa Barbara</td>\n",
       "      <td>Sb</td>\n",
       "      <td>Sb</td>\n",
       "      <td>None</td>\n",
       "      <td>None</td>\n",
       "      <td>None</td>\n",
       "      <td>None</td>\n",
       "      <td>NaN</td>\n",
       "      <td>None</td>\n",
       "      <td>None</td>\n",
       "      <td>None</td>\n",
       "      <td>None</td>\n",
       "      <td>None</td>\n",
       "      <td>None</td>\n",
       "      <td>None</td>\n",
       "      <td>None</td>\n",
       "      <td>None</td>\n",
       "      <td>None</td>\n",
       "      <td>None</td>\n",
       "      <td>None</td>\n",
       "      <td>7828000.00</td>\n",
       "      <td>Santa Barbara County</td>\n",
       "    </tr>\n",
       "    <tr>\n",
       "      <th>6230</th>\n",
       "      <td>170655</td>\n",
       "      <td>LsrFy18195140Pp115</td>\n",
       "      <td>Bridgeford Street Rehab</td>\n",
       "      <td>Local</td>\n",
       "      <td>Local And Regional</td>\n",
       "      <td>Lsr1819</td>\n",
       "      <td>201819 Local Streets And Roads</td>\n",
       "      <td>None</td>\n",
       "      <td>PreConstruction</td>\n",
       "      <td>None</td>\n",
       "      <td>3</td>\n",
       "      <td>4</td>\n",
       "      <td>03</td>\n",
       "      <td>04</td>\n",
       "      <td>Butte</td>\n",
       "      <td>Gridley  Submitted By City</td>\n",
       "      <td>But</td>\n",
       "      <td>Grd</td>\n",
       "      <td>None</td>\n",
       "      <td>None</td>\n",
       "      <td>None</td>\n",
       "      <td>None</td>\n",
       "      <td>NaN</td>\n",
       "      <td>None</td>\n",
       "      <td>None</td>\n",
       "      <td>None</td>\n",
       "      <td>None</td>\n",
       "      <td>None</td>\n",
       "      <td>None</td>\n",
       "      <td>None</td>\n",
       "      <td>None</td>\n",
       "      <td>None</td>\n",
       "      <td>None</td>\n",
       "      <td>None</td>\n",
       "      <td>2021</td>\n",
       "      <td>0.00</td>\n",
       "      <td>Gridley    City</td>\n",
       "    </tr>\n",
       "  </tbody>\n",
       "</table>\n",
       "</div>"
      ],
      "text/plain": [
       "      objectid           projectid                 projname projcatcode  \\\n",
       "1421      4384                None                     None       Local   \n",
       "8569    173041        Atp03A05005R    Rincon MultiUse Trail       State   \n",
       "6230    170655  LsrFy18195140Pp115  Bridgeford Street Rehab       Local   \n",
       "\n",
       "            projcategory projprogcode                     projprogram  \\\n",
       "1421  Local And Regional          Lsr         Local Streets And Roads   \n",
       "8569               State          Atp   Active Transportation Program   \n",
       "6230  Local And Regional      Lsr1819  201819 Local Streets And Roads   \n",
       "\n",
       "     multiprogfunded       projstatus     cost assemblydistrict  \\\n",
       "1421            None             None     None             03 3   \n",
       "8569            None  PreConstruction  7828000               37   \n",
       "6230            None  PreConstruction     None                3   \n",
       "\n",
       "     senatedistrict assemblycode senatecode     countyname  \\\n",
       "1421           04 4           03         04          Butte   \n",
       "8569             19           37         19  Santa Barbara   \n",
       "6230              4           03         04          Butte   \n",
       "\n",
       "                        cityname countycode citycode appagencyname  \\\n",
       "1421                    Paradise        But     Prds          None   \n",
       "8569               Santa Barbara         Sb       Sb          None   \n",
       "6230  Gridley  Submitted By City        But      Grd          None   \n",
       "\n",
       "     impagencyname popuptitle  \\\n",
       "1421          None       None   \n",
       "8569          None       None   \n",
       "6230          None       None   \n",
       "\n",
       "                                                                                                                                                                                                                                                                                                                                                                                     popup  \\\n",
       "1421  BSubmitted By City OfB ParadiseBr Br BYear 201718 ProjectsBBr BNumber Of ProjectsB 4Br A HrefHttpsSb1MapDotCaGovSb1MapSb1_TableHtmlProjprogcodeLsr1718CitycodePrds Style Target_BlankView Project ListABr Br BYear 201819 ProjectsBBr BNumber Of ProjectsB 1Br A HrefHttpsSb1MapDotCaGovSb1MapSb1_TableHtmlProjprogcodeLsr1819CitycodePrds Style Target_BlankView Project ListABr Br   \n",
       "8569                                                                                                                                                                                                                                                                                                                                                                                  None   \n",
       "6230                                                                                                                                                                                                                                                                                                                                                                                  None   \n",
       "\n",
       "      projcount totalcosts  \\\n",
       "1421       5.00       None   \n",
       "8569        NaN       None   \n",
       "6230        NaN       None   \n",
       "\n",
       "                                                                projlisturl  \\\n",
       "1421  HttpsSb1MapDotCaGovSb1MapSb1_TableHtmlProjprogcodeLsr1718CitycodePrds   \n",
       "8569                                                                   None   \n",
       "6230                                                                   None   \n",
       "\n",
       "                                                               projlist2url  \\\n",
       "1421  HttpsSb1MapDotCaGovSb1MapSb1_TableHtmlProjprogcodeLsr1819CitycodePrds   \n",
       "8569                                                                   None   \n",
       "6230                                                                   None   \n",
       "\n",
       "     mponame mpocode assetcategory bphotojpg bphotohtml aphotojpg aphotohtml  \\\n",
       "1421    None    None          None      None       None      None       None   \n",
       "8569    None    None          None      None       None      None       None   \n",
       "6230    None    None          None      None       None      None       None   \n",
       "\n",
       "     routes constyear   costfull            projagency  \n",
       "1421   None      None        NaN                  None  \n",
       "8569   None      None 7828000.00  Santa Barbara County  \n",
       "6230   None      2021       0.00       Gridley    City  "
      ]
     },
     "execution_count": 26,
     "metadata": {},
     "output_type": "execute_result"
    }
   ],
   "source": [
    "sb1_df1.drop(columns = ['geometry', 'description']).sample(3)"
   ]
  },
  {
   "cell_type": "code",
   "execution_count": 29,
   "id": "1275f602-0e1f-434b-9ef9-bfea6b5f79c2",
   "metadata": {},
   "outputs": [
    {
     "data": {
      "text/plain": [
       "(9007, 9186)"
      ]
     },
     "execution_count": 29,
     "metadata": {},
     "output_type": "execute_result"
    }
   ],
   "source": [
    "sb1_df1.objectid.nunique(), len(sb1_df1)"
   ]
  },
  {
   "cell_type": "markdown",
   "id": "02989f7a-b78a-4390-b153-f7a3682b4feb",
   "metadata": {},
   "source": [
    "### Separate out SB1 based on our table schema"
   ]
  },
  {
   "cell_type": "code",
   "execution_count": 39,
   "id": "36b42703-90f6-42b3-8a4e-95807d7eed0b",
   "metadata": {},
   "outputs": [],
   "source": [
    "def merge(df:pd.DataFrame, subset_cols: list):\n",
    "    df2 = df[subset_cols]\n",
    "    display(pd.merge(df, df2, on = subset_cols, how = \"inner\", indicator = True)[['_merge']].value_counts())\n",
    "    return df2"
   ]
  },
  {
   "cell_type": "markdown",
   "id": "fc043281-e587-42c1-a3f5-efa284412ae1",
   "metadata": {},
   "source": [
    "#### Assembly Districts"
   ]
  },
  {
   "cell_type": "code",
   "execution_count": 41,
   "id": "92637342-cc6a-475c-987a-78151ef012f2",
   "metadata": {},
   "outputs": [],
   "source": [
    "assembly_subset = ['objectid', 'projectid', 'projname', 'projagency', 'assemblycode',\n",
    "                  'assemblydistrict']"
   ]
  },
  {
   "cell_type": "code",
   "execution_count": 44,
   "id": "a4003904-96e2-4eac-bd20-d487ef1f8809",
   "metadata": {},
   "outputs": [
    {
     "data": {
      "text/plain": [
       "_merge    \n",
       "both          9186\n",
       "left_only        0\n",
       "right_only       0\n",
       "dtype: int64"
      ]
     },
     "metadata": {},
     "output_type": "display_data"
    }
   ],
   "source": [
    "assembly_df = merge(sb1_df1, assembly_subset)"
   ]
  },
  {
   "cell_type": "code",
   "execution_count": 68,
   "id": "7d787b4b-4569-4338-b20e-66b001a85c5d",
   "metadata": {},
   "outputs": [
    {
     "data": {
      "text/html": [
       "<div>\n",
       "<style scoped>\n",
       "    .dataframe tbody tr th:only-of-type {\n",
       "        vertical-align: middle;\n",
       "    }\n",
       "\n",
       "    .dataframe tbody tr th {\n",
       "        vertical-align: top;\n",
       "    }\n",
       "\n",
       "    .dataframe thead th {\n",
       "        text-align: right;\n",
       "    }\n",
       "</style>\n",
       "<table border=\"1\" class=\"dataframe\">\n",
       "  <thead>\n",
       "    <tr style=\"text-align: right;\">\n",
       "      <th></th>\n",
       "      <th>objectid</th>\n",
       "      <th>projectid</th>\n",
       "      <th>projname</th>\n",
       "      <th>projagency</th>\n",
       "      <th>assemblycode</th>\n",
       "      <th>assemblydistrict</th>\n",
       "    </tr>\n",
       "  </thead>\n",
       "  <tbody>\n",
       "    <tr>\n",
       "      <th>7985</th>\n",
       "      <td>172419</td>\n",
       "      <td>Sgr201803010098</td>\n",
       "      <td>Culver Citybus Fy19 Preventive Maintenance</td>\n",
       "      <td>City Of Culver City</td>\n",
       "      <td>54</td>\n",
       "      <td>54</td>\n",
       "    </tr>\n",
       "    <tr>\n",
       "      <th>4551</th>\n",
       "      <td>168911</td>\n",
       "      <td>LsrFy17185940Pp013</td>\n",
       "      <td>Beach Rd Improvements</td>\n",
       "      <td>Mariposa    County</td>\n",
       "      <td>05</td>\n",
       "      <td>05</td>\n",
       "    </tr>\n",
       "    <tr>\n",
       "      <th>431</th>\n",
       "      <td>1576</td>\n",
       "      <td>1118000197</td>\n",
       "      <td>San Diego 8 Bridge Rehabilitation Project</td>\n",
       "      <td>None</td>\n",
       "      <td>71</td>\n",
       "      <td>71</td>\n",
       "    </tr>\n",
       "  </tbody>\n",
       "</table>\n",
       "</div>"
      ],
      "text/plain": [
       "      objectid           projectid  \\\n",
       "7985    172419     Sgr201803010098   \n",
       "4551    168911  LsrFy17185940Pp013   \n",
       "431       1576          1118000197   \n",
       "\n",
       "                                        projname           projagency  \\\n",
       "7985  Culver Citybus Fy19 Preventive Maintenance  City Of Culver City   \n",
       "4551                       Beach Rd Improvements   Mariposa    County   \n",
       "431    San Diego 8 Bridge Rehabilitation Project                 None   \n",
       "\n",
       "     assemblycode assemblydistrict  \n",
       "7985           54               54  \n",
       "4551           05               05  \n",
       "431            71               71  "
      ]
     },
     "execution_count": 68,
     "metadata": {},
     "output_type": "execute_result"
    }
   ],
   "source": [
    "assembly_df.sample(3)"
   ]
  },
  {
   "cell_type": "markdown",
   "id": "e8ba98f9-824a-4109-88e1-9b7785126569",
   "metadata": {},
   "source": [
    "#### Awards"
   ]
  },
  {
   "cell_type": "code",
   "execution_count": 52,
   "id": "cc37c7d7-80a8-48e0-a514-4ff14b7038a7",
   "metadata": {},
   "outputs": [],
   "source": [
    "awards_subset =  ['objectid', 'projectid', 'projname', 'projagency',  'projprogcode', 'projprogram','multiprogfunded',]"
   ]
  },
  {
   "cell_type": "code",
   "execution_count": 53,
   "id": "188fe7d9-3e87-4239-9bfa-7d2d0561ac08",
   "metadata": {},
   "outputs": [
    {
     "data": {
      "text/plain": [
       "_merge    \n",
       "both          9186\n",
       "left_only        0\n",
       "right_only       0\n",
       "dtype: int64"
      ]
     },
     "metadata": {},
     "output_type": "display_data"
    }
   ],
   "source": [
    "awards_df = merge(sb1_df1, awards_subset)"
   ]
  },
  {
   "cell_type": "code",
   "execution_count": 71,
   "id": "53d12a10-7b90-436f-abf2-e167679b3957",
   "metadata": {},
   "outputs": [
    {
     "data": {
      "text/plain": [
       "201718 Local Streets And Roads                3814\n",
       "201819 Local Streets And Roads                2295\n",
       "State Highway Projects                        1089\n",
       "Local Streets And Roads                        539\n",
       "State Of Good Repair                           429\n",
       "State Transit Assistance                       370\n",
       "Active Transportation Program                  318\n",
       "Local Partnership Program                      174\n",
       "Transit And Intercity Rail Capital Program      60\n",
       "Trade Corridor Enhancement Program              57\n",
       "State Rail Assistance                           23\n",
       "Solutions For Congested Corridors Program       17\n",
       "Solutions To Congested Corridors Program         1\n",
       "Name: projprogram, dtype: int64"
      ]
     },
     "execution_count": 71,
     "metadata": {},
     "output_type": "execute_result"
    }
   ],
   "source": [
    "awards_df.projprogram.value_counts()"
   ]
  },
  {
   "cell_type": "markdown",
   "id": "22d227d2-462f-47d3-8165-f55301313ffb",
   "metadata": {},
   "source": [
    "#### County"
   ]
  },
  {
   "cell_type": "code",
   "execution_count": 43,
   "id": "104793ba-80b9-44fd-bda3-e533188a0700",
   "metadata": {},
   "outputs": [],
   "source": [
    "county_subset = ['objectid', 'projectid', 'projname', 'projagency', 'countyname', 'countycode',]"
   ]
  },
  {
   "cell_type": "code",
   "execution_count": 45,
   "id": "c16ba1cb-b2d5-42fc-bc1a-8641519caff8",
   "metadata": {},
   "outputs": [
    {
     "data": {
      "text/plain": [
       "_merge    \n",
       "both          9186\n",
       "left_only        0\n",
       "right_only       0\n",
       "dtype: int64"
      ]
     },
     "metadata": {},
     "output_type": "display_data"
    }
   ],
   "source": [
    "county_df = merge(sb1_df1, county_subset)"
   ]
  },
  {
   "cell_type": "code",
   "execution_count": 70,
   "id": "8c5eb6ab-9a9c-4bb1-82e5-49afb7e3879d",
   "metadata": {},
   "outputs": [
    {
     "data": {
      "text/html": [
       "<div>\n",
       "<style scoped>\n",
       "    .dataframe tbody tr th:only-of-type {\n",
       "        vertical-align: middle;\n",
       "    }\n",
       "\n",
       "    .dataframe tbody tr th {\n",
       "        vertical-align: top;\n",
       "    }\n",
       "\n",
       "    .dataframe thead th {\n",
       "        text-align: right;\n",
       "    }\n",
       "</style>\n",
       "<table border=\"1\" class=\"dataframe\">\n",
       "  <thead>\n",
       "    <tr style=\"text-align: right;\">\n",
       "      <th></th>\n",
       "      <th>objectid</th>\n",
       "      <th>projectid</th>\n",
       "      <th>projname</th>\n",
       "      <th>projagency</th>\n",
       "      <th>countyname</th>\n",
       "      <th>countycode</th>\n",
       "    </tr>\n",
       "  </thead>\n",
       "  <tbody>\n",
       "    <tr>\n",
       "      <th>230</th>\n",
       "      <td>1991</td>\n",
       "      <td>None</td>\n",
       "      <td>Replace Fixed Route Buses</td>\n",
       "      <td>None</td>\n",
       "      <td>Yuba</td>\n",
       "      <td>Yub</td>\n",
       "    </tr>\n",
       "    <tr>\n",
       "      <th>465</th>\n",
       "      <td>2322</td>\n",
       "      <td>None</td>\n",
       "      <td>None</td>\n",
       "      <td>None</td>\n",
       "      <td>San Joaquin</td>\n",
       "      <td>Sj</td>\n",
       "    </tr>\n",
       "    <tr>\n",
       "      <th>5672</th>\n",
       "      <td>170100</td>\n",
       "      <td>LsrFy18195006Pp668</td>\n",
       "      <td>Adams From Fairfax To Crenshaw 1718 Carryover</td>\n",
       "      <td>Los Angeles    City</td>\n",
       "      <td>Los Angeles</td>\n",
       "      <td>La</td>\n",
       "    </tr>\n",
       "  </tbody>\n",
       "</table>\n",
       "</div>"
      ],
      "text/plain": [
       "      objectid           projectid  \\\n",
       "230       1991                None   \n",
       "465       2322                None   \n",
       "5672    170100  LsrFy18195006Pp668   \n",
       "\n",
       "                                           projname           projagency  \\\n",
       "230                       Replace Fixed Route Buses                 None   \n",
       "465                                            None                 None   \n",
       "5672  Adams From Fairfax To Crenshaw 1718 Carryover  Los Angeles    City   \n",
       "\n",
       "       countyname countycode  \n",
       "230          Yuba        Yub  \n",
       "465   San Joaquin         Sj  \n",
       "5672  Los Angeles         La  "
      ]
     },
     "execution_count": 70,
     "metadata": {},
     "output_type": "execute_result"
    }
   ],
   "source": [
    "county_df.sample(3)"
   ]
  },
  {
   "cell_type": "markdown",
   "id": "d78ffda2-8b92-4d3f-9efa-4f89453e7863",
   "metadata": {},
   "source": [
    "#### City"
   ]
  },
  {
   "cell_type": "code",
   "execution_count": 50,
   "id": "9b14db81-d362-47c6-a87d-31c99fd95a35",
   "metadata": {},
   "outputs": [],
   "source": [
    "city_subset = ['objectid', 'projectid', 'projname', 'projagency', 'cityname', 'citycode',]"
   ]
  },
  {
   "cell_type": "code",
   "execution_count": 51,
   "id": "11c163a0-9d43-409b-85d8-99ff4d3f3390",
   "metadata": {},
   "outputs": [
    {
     "data": {
      "text/plain": [
       "_merge    \n",
       "both          9186\n",
       "left_only        0\n",
       "right_only       0\n",
       "dtype: int64"
      ]
     },
     "metadata": {},
     "output_type": "display_data"
    }
   ],
   "source": [
    "city_df = merge(sb1_df1, city_subset)"
   ]
  },
  {
   "cell_type": "markdown",
   "id": "e1bc5532-9433-4292-89c6-324057060466",
   "metadata": {},
   "source": [
    "#### Senate District"
   ]
  },
  {
   "cell_type": "code",
   "execution_count": 28,
   "id": "80e67da3-05a2-4fbf-ade4-2478d49281fe",
   "metadata": {},
   "outputs": [
    {
     "data": {
      "text/plain": [
       "Index(['objectid', 'projectid', 'projname', 'projcatcode', 'projcategory',\n",
       "       'projprogcode', 'projprogram', 'multiprogfunded', 'projstatus',\n",
       "       'description', 'cost', 'assemblydistrict', 'senatedistrict',\n",
       "       'assemblycode', 'senatecode', 'countyname', 'cityname', 'countycode',\n",
       "       'citycode', 'appagencyname', 'impagencyname', 'popuptitle', 'popup',\n",
       "       'geometry', 'projcount', 'totalcosts', 'projlisturl', 'projlist2url',\n",
       "       'mponame', 'mpocode', 'assetcategory', 'bphotojpg', 'bphotohtml',\n",
       "       'aphotojpg', 'aphotohtml', 'routes', 'constyear', 'costfull',\n",
       "       'projagency'],\n",
       "      dtype='object')"
      ]
     },
     "execution_count": 28,
     "metadata": {},
     "output_type": "execute_result"
    }
   ],
   "source": [
    "sb1_df1.columns"
   ]
  },
  {
   "cell_type": "code",
   "execution_count": 57,
   "id": "e237a21d-db21-4a59-bf3c-d216c9d3a524",
   "metadata": {},
   "outputs": [],
   "source": [
    "senate_subset = ['objectid', 'projectid', 'projname', 'projagency','senatedistrict','senatecode']"
   ]
  },
  {
   "cell_type": "code",
   "execution_count": 58,
   "id": "dfcd4081-a4f4-4e48-92b4-05764d94d58e",
   "metadata": {},
   "outputs": [
    {
     "data": {
      "text/plain": [
       "_merge    \n",
       "both          9186\n",
       "left_only        0\n",
       "right_only       0\n",
       "dtype: int64"
      ]
     },
     "metadata": {},
     "output_type": "display_data"
    }
   ],
   "source": [
    "senate_df = merge(sb1_df1, senate_subset)"
   ]
  },
  {
   "cell_type": "markdown",
   "id": "f3a4b55b-9a5d-4424-bf32-0bb96f4cb9dd",
   "metadata": {},
   "source": [
    "#### Geometry"
   ]
  },
  {
   "cell_type": "code",
   "execution_count": 60,
   "id": "1a318b26-749c-4a11-abc3-f81a7a480c9d",
   "metadata": {},
   "outputs": [],
   "source": [
    "geo_subset = ['objectid', 'projectid', 'projname', 'projagency','geometry']"
   ]
  },
  {
   "cell_type": "code",
   "execution_count": 62,
   "id": "b578a75d-f86c-4598-b1e2-0b9ae051fc14",
   "metadata": {},
   "outputs": [
    {
     "data": {
      "text/plain": [
       "_merge    \n",
       "both          9186\n",
       "left_only        0\n",
       "right_only       0\n",
       "dtype: int64"
      ]
     },
     "metadata": {},
     "output_type": "display_data"
    }
   ],
   "source": [
    "gdf = merge(sb1_df1, geo_subset)"
   ]
  },
  {
   "cell_type": "code",
   "execution_count": 63,
   "id": "7c0d3db6-4a83-4889-9ac3-dc9c0799c019",
   "metadata": {},
   "outputs": [
    {
     "data": {
      "text/plain": [
       "geopandas.geodataframe.GeoDataFrame"
      ]
     },
     "execution_count": 63,
     "metadata": {},
     "output_type": "execute_result"
    }
   ],
   "source": [
    "type(gdf)"
   ]
  },
  {
   "cell_type": "markdown",
   "id": "ea6c795c-32de-413f-aaf8-682a33d6d3e1",
   "metadata": {},
   "source": [
    "#### Project Base Table"
   ]
  },
  {
   "cell_type": "code",
   "execution_count": 64,
   "id": "425ab7ca-8978-425a-bec5-4f80f1ba5265",
   "metadata": {},
   "outputs": [],
   "source": [
    "project_subset = ['objectid', 'projectid', 'projname',  \n",
    "       'description', 'cost', 'totalcosts', 'routes','costfull','projagency', 'appagencyname', 'impagencyname',\n",
    "       ]"
   ]
  },
  {
   "cell_type": "code",
   "execution_count": 65,
   "id": "8f90b9d5-6d35-4854-b5e3-eb548f6edbfb",
   "metadata": {},
   "outputs": [],
   "source": [
    "project_df = sb1_df1[project_subset]"
   ]
  },
  {
   "cell_type": "code",
   "execution_count": 79,
   "id": "a06a45c9-d488-4189-bd61-59f04c68672f",
   "metadata": {
    "scrolled": true,
    "tags": []
   },
   "outputs": [],
   "source": [
    "# project_df.sample(100)"
   ]
  },
  {
   "cell_type": "markdown",
   "id": "d55f7d87-fe27-4afd-8cf1-3d1119fe5a32",
   "metadata": {},
   "source": [
    "#### Phase Funding"
   ]
  },
  {
   "cell_type": "code",
   "execution_count": 66,
   "id": "57e7241e-3630-4c7c-936e-e906699adf84",
   "metadata": {},
   "outputs": [],
   "source": [
    "phase_subset = ['objectid', 'projectid', 'projname', 'projstatus', 'projagency','constyear', ]"
   ]
  },
  {
   "cell_type": "code",
   "execution_count": 67,
   "id": "9bc86fa4-3a9c-4e26-8334-41c88e896c35",
   "metadata": {},
   "outputs": [
    {
     "data": {
      "text/plain": [
       "_merge    \n",
       "both          9186\n",
       "left_only        0\n",
       "right_only       0\n",
       "dtype: int64"
      ]
     },
     "metadata": {},
     "output_type": "display_data"
    }
   ],
   "source": [
    "phase_df = merge(sb1_df1, phase_subset)"
   ]
  },
  {
   "cell_type": "markdown",
   "id": "7f9453dd-7e02-49b7-8a68-d29520bdf4b7",
   "metadata": {
    "tags": []
   },
   "source": [
    "### Scratch\n",
    "#### Link 2\n",
    "* This includes IIJA\n",
    "* https://odpsvcs.dot.ca.gov/arcgis/rest/services/RCA/RCA_Projects_092023/FeatureServer\n",
    "* Why are there LESS projects below compared to SB1??"
   ]
  },
  {
   "cell_type": "code",
   "execution_count": 19,
   "id": "e17b3d5f-a38f-4ebd-890c-7bcaff24e10c",
   "metadata": {},
   "outputs": [],
   "source": [
    "url_pt1 = \"https://odpsvcs.dot.ca.gov/arcgis/rest/services/RCA/RCA_Projects_092023/FeatureServer/\""
   ]
  },
  {
   "cell_type": "code",
   "execution_count": 20,
   "id": "0f249d5a-2024-4430-be15-41111e2d24b8",
   "metadata": {},
   "outputs": [],
   "source": [
    "url_pt2 = \"/query?where=1%3D1&objectIds=&time=&geometry=&geometryType=esriGeometryEnvelope&inSR=&spatialRel=esriSpatialRelIntersects&distance=&units=esriSRUnit_Foot&relationParam=&outFields=*+&returnGeometry=true&maxAllowableOffset=&geometryPrecision=&outSR=&gdbVersion=&historicMoment=&returnDistinctValues=false&returnIdsOnly=false&returnCountOnly=false&returnExtentOnly=false&orderByFields=&groupByFieldsForStatistics=&outStatistics=&returnZ=false&returnM=false&multipatchOption=&resultOffset=&resultRecordCount=&returnTrueCurves=false&sqlFormat=none&f=geojson\""
   ]
  },
  {
   "cell_type": "code",
   "execution_count": 21,
   "id": "6a2aedac-dc9e-4f74-83ad-d430cc90986f",
   "metadata": {},
   "outputs": [],
   "source": [
    "int_to_string = list(map(str, [*range(0, 28)]))"
   ]
  },
  {
   "cell_type": "code",
   "execution_count": 22,
   "id": "fcca6479-bf48-4032-b6fe-a32bc1a0b164",
   "metadata": {
    "scrolled": true,
    "tags": []
   },
   "outputs": [
    {
     "ename": "HTTPError",
     "evalue": "HTTP Error 500: Internal Server Error",
     "output_type": "error",
     "traceback": [
      "\u001b[0;31m---------------------------------------------------------------------------\u001b[0m",
      "\u001b[0;31mHTTPError\u001b[0m                                 Traceback (most recent call last)",
      "Cell \u001b[0;32mIn[22], line 3\u001b[0m\n\u001b[1;32m      1\u001b[0m full_gdf \u001b[38;5;241m=\u001b[39m pd\u001b[38;5;241m.\u001b[39mDataFrame()\n\u001b[1;32m      2\u001b[0m \u001b[38;5;28;01mfor\u001b[39;00m i \u001b[38;5;129;01min\u001b[39;00m int_to_string:\n\u001b[0;32m----> 3\u001b[0m     df \u001b[38;5;241m=\u001b[39m to_snakecase(\u001b[43mgpd\u001b[49m\u001b[38;5;241;43m.\u001b[39;49m\u001b[43mread_file\u001b[49m\u001b[43m(\u001b[49m\u001b[38;5;124;43mf\u001b[39;49m\u001b[38;5;124;43m\"\u001b[39;49m\u001b[38;5;132;43;01m{\u001b[39;49;00m\u001b[43murl_pt1\u001b[49m\u001b[38;5;132;43;01m}\u001b[39;49;00m\u001b[38;5;132;43;01m{\u001b[39;49;00m\u001b[43mi\u001b[49m\u001b[38;5;132;43;01m}\u001b[39;49;00m\u001b[38;5;132;43;01m{\u001b[39;49;00m\u001b[43murl_pt2\u001b[49m\u001b[38;5;132;43;01m}\u001b[39;49;00m\u001b[38;5;124;43m\"\u001b[39;49m\u001b[43m)\u001b[49m)\n\u001b[1;32m      4\u001b[0m     full_gdf \u001b[38;5;241m=\u001b[39m pd\u001b[38;5;241m.\u001b[39mconcat([full_gdf, df], axis\u001b[38;5;241m=\u001b[39m\u001b[38;5;241m0\u001b[39m)\n",
      "File \u001b[0;32m/opt/conda/lib/python3.9/site-packages/geopandas/io/file.py:281\u001b[0m, in \u001b[0;36m_read_file\u001b[0;34m(filename, bbox, mask, rows, engine, **kwargs)\u001b[0m\n\u001b[1;32m    275\u001b[0m from_bytes \u001b[38;5;241m=\u001b[39m \u001b[38;5;28;01mFalse\u001b[39;00m\n\u001b[1;32m    276\u001b[0m \u001b[38;5;28;01mif\u001b[39;00m _is_url(filename):\n\u001b[1;32m    277\u001b[0m     \u001b[38;5;66;03m# if it is a url that supports random access -> pass through to\u001b[39;00m\n\u001b[1;32m    278\u001b[0m     \u001b[38;5;66;03m# pyogrio/fiona as is (to support downloading only part of the file)\u001b[39;00m\n\u001b[1;32m    279\u001b[0m     \u001b[38;5;66;03m# otherwise still download manually because pyogrio/fiona don't support\u001b[39;00m\n\u001b[1;32m    280\u001b[0m     \u001b[38;5;66;03m# all types of urls (https://github.com/geopandas/geopandas/issues/2908)\u001b[39;00m\n\u001b[0;32m--> 281\u001b[0m     \u001b[38;5;28;01mwith\u001b[39;00m \u001b[43murllib\u001b[49m\u001b[38;5;241;43m.\u001b[39;49m\u001b[43mrequest\u001b[49m\u001b[38;5;241;43m.\u001b[39;49m\u001b[43murlopen\u001b[49m\u001b[43m(\u001b[49m\u001b[43mfilename\u001b[49m\u001b[43m)\u001b[49m \u001b[38;5;28;01mas\u001b[39;00m response:\n\u001b[1;32m    282\u001b[0m         \u001b[38;5;28;01mif\u001b[39;00m \u001b[38;5;129;01mnot\u001b[39;00m response\u001b[38;5;241m.\u001b[39mheaders\u001b[38;5;241m.\u001b[39mget(\u001b[38;5;124m\"\u001b[39m\u001b[38;5;124mAccept-Ranges\u001b[39m\u001b[38;5;124m\"\u001b[39m) \u001b[38;5;241m==\u001b[39m \u001b[38;5;124m\"\u001b[39m\u001b[38;5;124mbytes\u001b[39m\u001b[38;5;124m\"\u001b[39m:\n\u001b[1;32m    283\u001b[0m             filename \u001b[38;5;241m=\u001b[39m response\u001b[38;5;241m.\u001b[39mread()\n",
      "File \u001b[0;32m/opt/conda/lib/python3.9/urllib/request.py:214\u001b[0m, in \u001b[0;36murlopen\u001b[0;34m(url, data, timeout, cafile, capath, cadefault, context)\u001b[0m\n\u001b[1;32m    212\u001b[0m \u001b[38;5;28;01melse\u001b[39;00m:\n\u001b[1;32m    213\u001b[0m     opener \u001b[38;5;241m=\u001b[39m _opener\n\u001b[0;32m--> 214\u001b[0m \u001b[38;5;28;01mreturn\u001b[39;00m \u001b[43mopener\u001b[49m\u001b[38;5;241;43m.\u001b[39;49m\u001b[43mopen\u001b[49m\u001b[43m(\u001b[49m\u001b[43murl\u001b[49m\u001b[43m,\u001b[49m\u001b[43m \u001b[49m\u001b[43mdata\u001b[49m\u001b[43m,\u001b[49m\u001b[43m \u001b[49m\u001b[43mtimeout\u001b[49m\u001b[43m)\u001b[49m\n",
      "File \u001b[0;32m/opt/conda/lib/python3.9/urllib/request.py:523\u001b[0m, in \u001b[0;36mOpenerDirector.open\u001b[0;34m(self, fullurl, data, timeout)\u001b[0m\n\u001b[1;32m    521\u001b[0m \u001b[38;5;28;01mfor\u001b[39;00m processor \u001b[38;5;129;01min\u001b[39;00m \u001b[38;5;28mself\u001b[39m\u001b[38;5;241m.\u001b[39mprocess_response\u001b[38;5;241m.\u001b[39mget(protocol, []):\n\u001b[1;32m    522\u001b[0m     meth \u001b[38;5;241m=\u001b[39m \u001b[38;5;28mgetattr\u001b[39m(processor, meth_name)\n\u001b[0;32m--> 523\u001b[0m     response \u001b[38;5;241m=\u001b[39m \u001b[43mmeth\u001b[49m\u001b[43m(\u001b[49m\u001b[43mreq\u001b[49m\u001b[43m,\u001b[49m\u001b[43m \u001b[49m\u001b[43mresponse\u001b[49m\u001b[43m)\u001b[49m\n\u001b[1;32m    525\u001b[0m \u001b[38;5;28;01mreturn\u001b[39;00m response\n",
      "File \u001b[0;32m/opt/conda/lib/python3.9/urllib/request.py:632\u001b[0m, in \u001b[0;36mHTTPErrorProcessor.http_response\u001b[0;34m(self, request, response)\u001b[0m\n\u001b[1;32m    629\u001b[0m \u001b[38;5;66;03m# According to RFC 2616, \"2xx\" code indicates that the client's\u001b[39;00m\n\u001b[1;32m    630\u001b[0m \u001b[38;5;66;03m# request was successfully received, understood, and accepted.\u001b[39;00m\n\u001b[1;32m    631\u001b[0m \u001b[38;5;28;01mif\u001b[39;00m \u001b[38;5;129;01mnot\u001b[39;00m (\u001b[38;5;241m200\u001b[39m \u001b[38;5;241m<\u001b[39m\u001b[38;5;241m=\u001b[39m code \u001b[38;5;241m<\u001b[39m \u001b[38;5;241m300\u001b[39m):\n\u001b[0;32m--> 632\u001b[0m     response \u001b[38;5;241m=\u001b[39m \u001b[38;5;28;43mself\u001b[39;49m\u001b[38;5;241;43m.\u001b[39;49m\u001b[43mparent\u001b[49m\u001b[38;5;241;43m.\u001b[39;49m\u001b[43merror\u001b[49m\u001b[43m(\u001b[49m\n\u001b[1;32m    633\u001b[0m \u001b[43m        \u001b[49m\u001b[38;5;124;43m'\u001b[39;49m\u001b[38;5;124;43mhttp\u001b[39;49m\u001b[38;5;124;43m'\u001b[39;49m\u001b[43m,\u001b[49m\u001b[43m \u001b[49m\u001b[43mrequest\u001b[49m\u001b[43m,\u001b[49m\u001b[43m \u001b[49m\u001b[43mresponse\u001b[49m\u001b[43m,\u001b[49m\u001b[43m \u001b[49m\u001b[43mcode\u001b[49m\u001b[43m,\u001b[49m\u001b[43m \u001b[49m\u001b[43mmsg\u001b[49m\u001b[43m,\u001b[49m\u001b[43m \u001b[49m\u001b[43mhdrs\u001b[49m\u001b[43m)\u001b[49m\n\u001b[1;32m    635\u001b[0m \u001b[38;5;28;01mreturn\u001b[39;00m response\n",
      "File \u001b[0;32m/opt/conda/lib/python3.9/urllib/request.py:561\u001b[0m, in \u001b[0;36mOpenerDirector.error\u001b[0;34m(self, proto, *args)\u001b[0m\n\u001b[1;32m    559\u001b[0m \u001b[38;5;28;01mif\u001b[39;00m http_err:\n\u001b[1;32m    560\u001b[0m     args \u001b[38;5;241m=\u001b[39m (\u001b[38;5;28mdict\u001b[39m, \u001b[38;5;124m'\u001b[39m\u001b[38;5;124mdefault\u001b[39m\u001b[38;5;124m'\u001b[39m, \u001b[38;5;124m'\u001b[39m\u001b[38;5;124mhttp_error_default\u001b[39m\u001b[38;5;124m'\u001b[39m) \u001b[38;5;241m+\u001b[39m orig_args\n\u001b[0;32m--> 561\u001b[0m     \u001b[38;5;28;01mreturn\u001b[39;00m \u001b[38;5;28;43mself\u001b[39;49m\u001b[38;5;241;43m.\u001b[39;49m\u001b[43m_call_chain\u001b[49m\u001b[43m(\u001b[49m\u001b[38;5;241;43m*\u001b[39;49m\u001b[43margs\u001b[49m\u001b[43m)\u001b[49m\n",
      "File \u001b[0;32m/opt/conda/lib/python3.9/urllib/request.py:494\u001b[0m, in \u001b[0;36mOpenerDirector._call_chain\u001b[0;34m(self, chain, kind, meth_name, *args)\u001b[0m\n\u001b[1;32m    492\u001b[0m \u001b[38;5;28;01mfor\u001b[39;00m handler \u001b[38;5;129;01min\u001b[39;00m handlers:\n\u001b[1;32m    493\u001b[0m     func \u001b[38;5;241m=\u001b[39m \u001b[38;5;28mgetattr\u001b[39m(handler, meth_name)\n\u001b[0;32m--> 494\u001b[0m     result \u001b[38;5;241m=\u001b[39m \u001b[43mfunc\u001b[49m\u001b[43m(\u001b[49m\u001b[38;5;241;43m*\u001b[39;49m\u001b[43margs\u001b[49m\u001b[43m)\u001b[49m\n\u001b[1;32m    495\u001b[0m     \u001b[38;5;28;01mif\u001b[39;00m result \u001b[38;5;129;01mis\u001b[39;00m \u001b[38;5;129;01mnot\u001b[39;00m \u001b[38;5;28;01mNone\u001b[39;00m:\n\u001b[1;32m    496\u001b[0m         \u001b[38;5;28;01mreturn\u001b[39;00m result\n",
      "File \u001b[0;32m/opt/conda/lib/python3.9/urllib/request.py:641\u001b[0m, in \u001b[0;36mHTTPDefaultErrorHandler.http_error_default\u001b[0;34m(self, req, fp, code, msg, hdrs)\u001b[0m\n\u001b[1;32m    640\u001b[0m \u001b[38;5;28;01mdef\u001b[39;00m \u001b[38;5;21mhttp_error_default\u001b[39m(\u001b[38;5;28mself\u001b[39m, req, fp, code, msg, hdrs):\n\u001b[0;32m--> 641\u001b[0m     \u001b[38;5;28;01mraise\u001b[39;00m HTTPError(req\u001b[38;5;241m.\u001b[39mfull_url, code, msg, hdrs, fp)\n",
      "\u001b[0;31mHTTPError\u001b[0m: HTTP Error 500: Internal Server Error"
     ]
    }
   ],
   "source": [
    "full_gdf = pd.DataFrame()\n",
    "for i in int_to_string:\n",
    "    df = to_snakecase(gpd.read_file(f\"{url_pt1}{i}{url_pt2}\"))\n",
    "    full_gdf = pd.concat([full_gdf, df], axis=0)"
   ]
  },
  {
   "cell_type": "code",
   "execution_count": null,
   "id": "3b80765a-5b46-4c8a-9769-acfdf40b9ec7",
   "metadata": {},
   "outputs": [],
   "source": [
    "full_gdf.shape"
   ]
  },
  {
   "cell_type": "code",
   "execution_count": null,
   "id": "bd86047d-72a8-43f9-98ae-1f124e34b1f3",
   "metadata": {},
   "outputs": [],
   "source": [
    "full_gdf.shape, sb1_df1.shape"
   ]
  },
  {
   "cell_type": "markdown",
   "id": "4abd76e2-50d0-43d0-84e9-84150579a2f6",
   "metadata": {},
   "source": [
    "#### Compare"
   ]
  },
  {
   "cell_type": "code",
   "execution_count": null,
   "id": "673b736b-7429-4511-ab8f-d9a6d806d074",
   "metadata": {},
   "outputs": [],
   "source": [
    "full_gdf.columns"
   ]
  },
  {
   "cell_type": "code",
   "execution_count": null,
   "id": "b1fd0977-c490-4a01-a3a9-49e90e91a012",
   "metadata": {},
   "outputs": [],
   "source": [
    "full_gdf2 = full_gdf[['projecttitle', 'projectdescription','countycodes', 'ct_districts']]"
   ]
  },
  {
   "cell_type": "code",
   "execution_count": null,
   "id": "d33b713d-bc5e-48a3-8441-6a7ea6689002",
   "metadata": {},
   "outputs": [],
   "source": [
    "sb1_df1.columns"
   ]
  },
  {
   "cell_type": "code",
   "execution_count": null,
   "id": "0e27d7f3-5e22-491d-822f-526c4f27089c",
   "metadata": {},
   "outputs": [],
   "source": [
    "sb1_df2 = sb1_df1[['projname','projagency', 'description', 'countycode']]"
   ]
  },
  {
   "cell_type": "code",
   "execution_count": null,
   "id": "c85e7c28-9ca0-4d6a-ad08-1174676d6f48",
   "metadata": {},
   "outputs": [],
   "source": [
    "pd.merge(sb1_df2, full_gdf2, left_on = ['projname','description', 'countycode'],\n",
    "         right_on = ['projecttitle', 'projectdescription','countycodes'], how = 'outer',\n",
    "         indicator = True)[['_merge']].value_counts()"
   ]
  },
  {
   "cell_type": "code",
   "execution_count": null,
   "id": "ce5115bf-9f02-47b9-9fa5-86bd3371c896",
   "metadata": {},
   "outputs": [],
   "source": [
    "pd.merge(sb1_df2, full_gdf2, left_on = ['projname','description'],\n",
    "         right_on = ['projecttitle', 'projectdescription'], how = 'outer',\n",
    "         indicator = True)[['_merge']].value_counts()"
   ]
  },
  {
   "cell_type": "code",
   "execution_count": null,
   "id": "62679591-eac5-429b-999b-630e77cc9735",
   "metadata": {},
   "outputs": [],
   "source": [
    "pd.merge(sb1_df2, full_gdf2, left_on = ['projname','countycode'],\n",
    "         right_on = ['projecttitle', 'countycodes'], how = 'outer',\n",
    "         indicator = True)[['_merge']].value_counts()"
   ]
  },
  {
   "cell_type": "markdown",
   "id": "e46a15a4-f773-4acc-8552-32666d730744",
   "metadata": {},
   "source": [
    "### Original functions"
   ]
  },
  {
   "cell_type": "code",
   "execution_count": null,
   "id": "629b5faf-1278-41cb-9c62-ebea1a730848",
   "metadata": {},
   "outputs": [],
   "source": [
    "url_pt1 = \"https://odpsvcs.dot.ca.gov/arcgis/rest/services/RCA/RCA_Projects_032022/FeatureServer/\"\n",
    "url_pt2 = \"/query?where=1%3D1&objectIds=&time=&geometry=&geometryType=esriGeometryEnvelope&inSR=&spatialRel=esriSpatialRelIntersects&distance=&units=esriSRUnit_Foot&relationParam=&outFields=*+&returnGeometry=true&maxAllowableOffset=&geometryPrecision=&outSR=&gdbVersion=&historicMoment=&returnDistinctValues=false&returnIdsOnly=false&returnCountOnly=false&returnExtentOnly=false&orderByFields=&groupByFieldsForStatistics=&outStatistics=&returnZ=false&returnM=false&multipatchOption=&resultOffset=&resultRecordCount=&returnTrueCurves=false&sqlFormat=none&f=geojson\""
   ]
  },
  {
   "cell_type": "code",
   "execution_count": null,
   "id": "c30d39fb-1ff7-4160-af7e-1360d0806d50",
   "metadata": {},
   "outputs": [],
   "source": [
    "def sb1_basic_cleaning(\n",
    "    gdf: gpd.GeoDataFrame, \n",
    "    project_name_col:str )-> gpd.GeoDataFrame:\n",
    "    \"\"\"\n",
    "    Perform basic cleaning before joining\n",
    "    SB1 & Non SHOPP data together.\n",
    "    \"\"\"\n",
    "    # Some project names contain the year. Remove anything after 20..\n",
    "    gdf[project_name_col] = gdf[project_name_col].str.split(\"20\").str[0]\n",
    "\n",
    "    # Get rid of | in object cols\n",
    "    # https://stackoverflow.com/questions/68152902/extracting-only-object-type-columns-in-a-separate-list-from-a-data-frame-in-pand\n",
    "    string_cols = gdf.select_dtypes(include=[\"object\"]).columns.to_list()\n",
    "    try:\n",
    "        for i in string_cols:\n",
    "            gdf[i] = gdf[i].str.replace(\"|\", \"\").str.lower().str.replace(\"[^\\w\\s]\", \"\").str.strip()\n",
    "    except:\n",
    "        pass\n",
    "\n",
    "    # Try to extract titles from popups\n",
    "    try:\n",
    "        df[\"popup\"] = (\n",
    "            df[\"popup\"]\n",
    "            .str.split(\"<br  />\")\n",
    "            .str[1]\n",
    "            .str.split(\"20\")\n",
    "            .str[0]\n",
    "            .str.lower()\n",
    "            .str.strip()\n",
    "            .str.replace(\"[^\\w\\s]\", \"\")\n",
    "        )\n",
    "    except:\n",
    "        pass\n",
    "\n",
    "    return gdf"
   ]
  },
  {
   "cell_type": "code",
   "execution_count": null,
   "id": "fe57ecfb-fd8c-4008-87c2-1f5a3c26d746",
   "metadata": {},
   "outputs": [],
   "source": [
    "def load_sb1_all_projects() -> pd.DataFrame:\n",
    "    \"\"\"\n",
    "    Load in all projects layer of SB1 because it\n",
    "    contains a value for every row in the\n",
    "    project title column.\n",
    "    \"\"\"\n",
    "    df = f\"{url_pt1}22{url_pt2}\"\n",
    "\n",
    "    df = to_snakecase(gpd.read_file(df))\n",
    "\n",
    "    # No geometry, just drop it\n",
    "    df = df.drop(columns=[\"geometry\"])\n",
    "\n",
    "    # Basic cleaning\n",
    "    df = sb1_basic_cleaning(\n",
    "        df, \"implementingagency\", \"projecttitle\", \"projectid\", \"projectdescription\"\n",
    "    )\n",
    "\n",
    "    return df"
   ]
  },
  {
   "cell_type": "code",
   "execution_count": null,
   "id": "a9ad9c79-56b3-4400-9697-b7efccfe1db0",
   "metadata": {},
   "outputs": [],
   "source": [
    "def sb1_final() -> gpd.GeoDataFrame:\n",
    "    \"\"\"\n",
    "    Layers 0-21 with geographic information\n",
    "    don't always have project titles for each\n",
    "    of the projects. Merge these layers with\n",
    "    layer 22, which does have title information.\n",
    "    \"\"\"\n",
    "    all_projects_subset = [\n",
    "        \"projecttitle\",\n",
    "        \"programcodes\",\n",
    "        \"totalcost\",\n",
    "        \"implementingagency\",\n",
    "        \"fiscalyearcode\",\n",
    "    ]\n",
    "\n",
    "    sb1_geo, missing_geo = load_sb1_rest_server()\n",
    "    sb1_all_projects = load_sb1_all_projects()[all_projects_subset]\n",
    "\n",
    "    # Merge\n",
    "    merge1 = pd.merge(\n",
    "        sb1_geo,\n",
    "        sb1_all_projects,\n",
    "        how=\"left\",\n",
    "        left_on=[\"programcodes\", \"totalcost\", \"agencies\", \"fiscalyearcodes\"],\n",
    "        right_on=[\"programcodes\", \"totalcost\", \"implementingagency\", \"fiscalyearcode\"],\n",
    "    )\n",
    "\n",
    "    # Fill in missing project titles in sb1_geo with information from\n",
    "    # sb1_all_projects\n",
    "    merge1.projecttitle_x = merge1.projecttitle_x.fillna(merge1.projecttitle_y)\n",
    "\n",
    "    # Fill missing titles with none\n",
    "    merge1.projecttitle_x = merge1.projecttitle_x.fillna(\"None\")\n",
    "    \n",
    "    # Drop columns\n",
    "    merge1 = merge1.drop(columns = ['projecttitle_y'])\n",
    "    \n",
    "    # Add a new column detailing where this information comes from \n",
    "    merge1 = merge1.assign(\n",
    "        notes = merge1.programcodes + '/' + 'SB1')\n",
    "    \n",
    "    merge1 = merge1.fillna(merge1.dtypes.replace({'float64': 0.0, 'object': 'None'}))\n",
    "    return merge1"
   ]
  },
  {
   "cell_type": "code",
   "execution_count": null,
   "id": "bcc62451-98c7-4187-bab3-ad89a039cf75",
   "metadata": {},
   "outputs": [],
   "source": [
    "sb1_final_gdf = sb1_final()"
   ]
  },
  {
   "cell_type": "code",
   "execution_count": null,
   "id": "afbd958b-5836-4789-9372-62edac321165",
   "metadata": {},
   "outputs": [],
   "source": [
    "sb1_final_gdf.projectstatuscodes.value_counts()"
   ]
  },
  {
   "cell_type": "code",
   "execution_count": null,
   "id": "c2af4504-84bc-48b5-85ad-0b0324510590",
   "metadata": {},
   "outputs": [],
   "source": [
    "len(sb1_final_gdf), sb1_final_gdf.geometry.nunique()"
   ]
  },
  {
   "cell_type": "code",
   "execution_count": null,
   "id": "a52f1771-0064-493b-a339-d1dcece8ed2b",
   "metadata": {},
   "outputs": [],
   "source": [
    "sb1_final_gdf.info()"
   ]
  },
  {
   "cell_type": "code",
   "execution_count": null,
   "id": "23f286bd-e22d-4885-8997-1ba4353648a1",
   "metadata": {},
   "outputs": [],
   "source": [
    "sb1_final_gdf.projecttitle_x.value_counts().head(10)"
   ]
  },
  {
   "cell_type": "code",
   "execution_count": null,
   "id": "f2edcfa1-080f-4f09-bd3d-2a72c1e12149",
   "metadata": {},
   "outputs": [],
   "source": [
    "sb1_final_gdf[sb1_final_gdf.projecttitle_x == \"major damage restoration\"].groupby(['projecttitle_x', 'countynames']).agg({'objectid':'count'}).head()"
   ]
  },
  {
   "cell_type": "code",
   "execution_count": null,
   "id": "218ee516-3050-40dc-ae03-34d4a4e5ff3e",
   "metadata": {},
   "outputs": [],
   "source": [
    "sb1_final_gdf.projectstatuscodes.value_counts()"
   ]
  },
  {
   "cell_type": "code",
   "execution_count": null,
   "id": "61f6be29-f2ab-4f89-9ea7-98c44733ad86",
   "metadata": {},
   "outputs": [],
   "source": [
    "sb1_final_gdf.projectstatuscodes.unique()"
   ]
  },
  {
   "cell_type": "code",
   "execution_count": null,
   "id": "a9b35d63-e309-4bf4-a0bb-c3b15951240b",
   "metadata": {},
   "outputs": [],
   "source": [
    "sb1_final_gdf.projectstatuses.value_counts()"
   ]
  },
  {
   "cell_type": "code",
   "execution_count": null,
   "id": "e7b4eea5-18d9-4f5e-82ec-dfd499c3371e",
   "metadata": {
    "scrolled": true,
    "tags": []
   },
   "outputs": [],
   "source": [
    "sb1_final_gdf[(sb1_final_gdf.projecttitle_x == \"major damage restoration\") & (sb1_final_gdf.countynames == \"Alameda\")]"
   ]
  },
  {
   "cell_type": "code",
   "execution_count": null,
   "id": "14887b33-91fd-4ade-8c79-788024fe192f",
   "metadata": {},
   "outputs": [],
   "source": [
    "sb1_final_gdf[(sb1_final_gdf.projecttitle_x == \"major damage restoration\") & (sb1_final_gdf.countynames == \"Alameda\")].plot()"
   ]
  },
  {
   "cell_type": "code",
   "execution_count": null,
   "id": "c216f060-648a-4294-b07d-9142d23d6827",
   "metadata": {},
   "outputs": [],
   "source": [
    "# sb1_final_gdf[sb1_final_gdf.projecttitle_x == \"major damage restoration\"].explore()"
   ]
  }
 ],
 "metadata": {
  "kernelspec": {
   "display_name": "Python 3 (ipykernel)",
   "language": "python",
   "name": "python3"
  },
  "language_info": {
   "codemirror_mode": {
    "name": "ipython",
    "version": 3
   },
   "file_extension": ".py",
   "mimetype": "text/x-python",
   "name": "python",
   "nbconvert_exporter": "python",
   "pygments_lexer": "ipython3",
   "version": "3.9.13"
  }
 },
 "nbformat": 4,
 "nbformat_minor": 5
}
