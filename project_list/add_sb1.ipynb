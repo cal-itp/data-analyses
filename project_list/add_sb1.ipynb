{
 "cells": [
  {
   "cell_type": "markdown",
   "id": "79a419d1-4725-471f-9ba9-7c1015125039",
   "metadata": {},
   "source": [
    "## SB1 \n",
    "* Need to find out\n",
    "    * What's the difference between RCA/RCA_Projects_092023 (FeatureServer) and RCA/RCA_Projects_102023 (FeatureServer) here https://odpsvcs.dot.ca.gov/arcgis/rest/services/RCA?\n",
    "    * What's the right link to use to grab the projects: https://odpsvcs.dot.ca.gov/arcgis/rest/services/SB1/SB1_ProjectData/FeatureServer or https://odpsvcs.dot.ca.gov/arcgis/rest/services/RCA?\n",
    "        * I think link 1 is related to the SB1 map online\n",
    "        * Unsure what the second map is about?"
   ]
  },
  {
   "cell_type": "code",
   "execution_count": 1,
   "id": "f6ddf257-863a-41d8-9830-ef8b7d91647b",
   "metadata": {},
   "outputs": [],
   "source": [
    "import _harmonization_utils\n",
    "import geopandas as gpd\n",
    "import numpy as np\n",
    "import pandas as pd\n",
    "from calitp_data_analysis import utils\n",
    "from calitp_data_analysis.sql import to_snakecase"
   ]
  },
  {
   "cell_type": "code",
   "execution_count": 2,
   "id": "2a49b60c-2fb0-44fd-80c4-a7f98556585d",
   "metadata": {},
   "outputs": [],
   "source": [
    "pd.options.display.max_columns = 100\n",
    "pd.options.display.float_format = \"{:.2f}\".format\n",
    "pd.set_option(\"display.max_rows\", None)\n",
    "pd.set_option(\"display.max_colwidth\", None)"
   ]
  },
  {
   "cell_type": "markdown",
   "id": "d5fc1c97-8288-4de2-aee0-45cef8af6d8c",
   "metadata": {},
   "source": [
    "#### Link 1\n",
    "* SB1 Only\n",
    "* https://odpsvcs.dot.ca.gov/arcgis/rest/services/SB1/SB1_ProjectData/FeatureServer"
   ]
  },
  {
   "cell_type": "code",
   "execution_count": 3,
   "id": "aa6cf22d-a5dd-4092-80fb-1c9fb84b2fda",
   "metadata": {},
   "outputs": [],
   "source": [
    "def sb1_basic_cleaning(\n",
    "    gdf: gpd.GeoDataFrame, project_name_col: str, agency_col: str\n",
    ") -> gpd.GeoDataFrame:\n",
    "    \"\"\"\n",
    "    Perform basic cleaning before joining\n",
    "    SB1 & Non SHOPP data together.\n",
    "    \"\"\"\n",
    "    # Some project names contain the year. Remove anything after 20..\n",
    "    gdf[project_name_col] = gdf[project_name_col].str.split(\"20\").str[0]\n",
    "\n",
    "    # Get rid of | in object cols\n",
    "    # https://stackoverflow.com/questions/68152902/extracting-only-object-type-columns-in-a-separate-list-from-a-data-frame-in-pand\n",
    "    string_cols = gdf.select_dtypes(include=[\"object\"]).columns.to_list()\n",
    "    try:\n",
    "        for i in string_cols:\n",
    "            gdf[i] = (\n",
    "                gdf[i]\n",
    "                .str.replace(\"|\", \"\")\n",
    "                .str.title()\n",
    "                .str.replace(\"[^\\w\\s]\", \"\")\n",
    "                .str.strip()\n",
    "            )\n",
    "            gdf[i] = gdf[i].fillna(\"None\")\n",
    "    except:\n",
    "        pass\n",
    "\n",
    "    # Project agency always says \"Los Angeles submitted by county\"\n",
    "    # or \"Fremont submitted by city.\" Remove submitted by.\n",
    "    gdf[agency_col] = gdf[agency_col].str.replace(\"Submitted By\", \" \")\n",
    "\n",
    "    return gdf"
   ]
  },
  {
   "cell_type": "code",
   "execution_count": 4,
   "id": "adf481c8-cc07-436b-868e-f2017ddbca1b",
   "metadata": {},
   "outputs": [],
   "source": [
    "def load_sb1() -> gpd.GeoDataFrame:\n",
    "    \"\"\"\n",
    "    Load all the projects on the SB1 map from the Feature Server.\n",
    "\n",
    "    https://odpsvcs.dot.ca.gov/arcgis/rest/services/SB1/SB1_ProjectData/FeatureServer\n",
    "    \"\"\"\n",
    "    sb1_pt1 = \"https://odpsvcs.dot.ca.gov/arcgis/rest/services/SB1/SB1_ProjectData/FeatureServer/\"\n",
    "    sb1_pt2 = \"/query?where=1%3D1&objectIds=&time=&geometry=&geometryType=esriGeometryEnvelope&inSR=&spatialRel=esriSpatialRelIntersects&distance=&units=esriSRUnit_Foot&relationParam=&outFields=*+&returnGeometry=true&maxAllowableOffset=&geometryPrecision=&outSR=&gdbVersion=&historicMoment=&returnDistinctValues=false&returnIdsOnly=false&returnCountOnly=false&returnExtentOnly=false&orderByFields=&groupByFieldsForStatistics=&outStatistics=&returnZ=false&returnM=false&multipatchOption=&resultOffset=&resultRecordCount=&returnTrueCurves=false&sqlFormat=none&f=geojson\"\n",
    "\n",
    "    full_gdf = pd.DataFrame()\n",
    "    for i in list(map(str, [*range(0, 16)])):\n",
    "        df = to_snakecase(gpd.read_file(f\"{sb1_pt1}{i}{sb1_pt2}\"))\n",
    "        full_gdf = pd.concat([full_gdf, df], axis=0)\n",
    "\n",
    "    # Basic cleaning\n",
    "    full_gdf = sb1_basic_cleaning(\n",
    "        full_gdf,\n",
    "        \"projname\",\n",
    "        \"projagency\",\n",
    "    )\n",
    "\n",
    "    # Find missing geo\n",
    "    missing_geo = full_gdf[(full_gdf.geometry.is_empty)]\n",
    "    print(f\"{len(missing_geo)} rows are mising geometry\")\n",
    "\n",
    "    # Find invalid geo\n",
    "    invalid_geo = full_gdf[~full_gdf.geometry.is_valid].reset_index(drop=True)\n",
    "    print(f\"{len(invalid_geo)} rows contain invalid geography\")\n",
    "\n",
    "    # Filter out completed\n",
    "    full_gdf = full_gdf.loc[full_gdf.projstatus != \"Completed\"].reset_index(drop=True)\n",
    "    return full_gdf"
   ]
  },
  {
   "cell_type": "code",
   "execution_count": 5,
   "id": "a86b2bc6-e1db-403f-a365-82dc3f529bcf",
   "metadata": {
    "tags": []
   },
   "outputs": [
    {
     "name": "stderr",
     "output_type": "stream",
     "text": [
      "/tmp/ipykernel_291/2564796168.py:18: FutureWarning: The default value of regex will change from True to False in a future version. In addition, single character regular expressions will *not* be treated as literal strings when regex=True.\n",
      "  gdf[i] = gdf[i].str.replace(\"|\", \"\").str.title().str.replace(\"[^\\w\\s]\", \"\").str.strip()\n",
      "/tmp/ipykernel_291/2564796168.py:18: FutureWarning: The default value of regex will change from True to False in a future version.\n",
      "  gdf[i] = gdf[i].str.replace(\"|\", \"\").str.title().str.replace(\"[^\\w\\s]\", \"\").str.strip()\n"
     ]
    },
    {
     "name": "stdout",
     "output_type": "stream",
     "text": [
      "0 rows are mising geometry\n",
      "7917 rows contain invalid geography\n"
     ]
    }
   ],
   "source": [
    "sb1_df1 = load_sb1()"
   ]
  },
  {
   "cell_type": "code",
   "execution_count": 6,
   "id": "84f7a67f-cbed-4588-b215-4bd3079ed01d",
   "metadata": {},
   "outputs": [
    {
     "data": {
      "text/plain": [
       "5278"
      ]
     },
     "execution_count": 6,
     "metadata": {},
     "output_type": "execute_result"
    }
   ],
   "source": [
    "sb1_df1.projname.nunique()"
   ]
  },
  {
   "cell_type": "code",
   "execution_count": 7,
   "id": "a33ebc54-c82e-41fc-b1b7-5af0b74b50ba",
   "metadata": {},
   "outputs": [
    {
     "data": {
      "text/plain": [
       "7603"
      ]
     },
     "execution_count": 7,
     "metadata": {},
     "output_type": "execute_result"
    }
   ],
   "source": [
    "sb1_df1.projectid.nunique()"
   ]
  },
  {
   "cell_type": "code",
   "execution_count": 8,
   "id": "fb9fd4ca-4b89-4569-a916-eb63c9b55f78",
   "metadata": {},
   "outputs": [
    {
     "data": {
      "text/plain": [
       "9186"
      ]
     },
     "execution_count": 8,
     "metadata": {},
     "output_type": "execute_result"
    }
   ],
   "source": [
    "len(sb1_df1)"
   ]
  },
  {
   "cell_type": "code",
   "execution_count": 9,
   "id": "ec8392ec-f31c-4f1e-a018-f68a017baacf",
   "metadata": {},
   "outputs": [
    {
     "data": {
      "text/plain": [
       "PreConstruction    7093\n",
       "Construction       1129\n",
       "None                964\n",
       "Name: projstatus, dtype: int64"
      ]
     },
     "execution_count": 9,
     "metadata": {},
     "output_type": "execute_result"
    }
   ],
   "source": [
    "sb1_df1.projstatus.value_counts()"
   ]
  },
  {
   "cell_type": "code",
   "execution_count": 10,
   "id": "22320893-7a64-4f13-bfd5-d85c5f55f33d",
   "metadata": {},
   "outputs": [
    {
     "data": {
      "text/plain": [
       "201718 Local Streets And Roads                3814\n",
       "201819 Local Streets And Roads                2295\n",
       "State Highway Projects                        1089\n",
       "Local Streets And Roads                        539\n",
       "State Of Good Repair                           429\n",
       "State Transit Assistance                       370\n",
       "Active Transportation Program                  318\n",
       "Local Partnership Program                      174\n",
       "Transit And Intercity Rail Capital Program      60\n",
       "Trade Corridor Enhancement Program              57\n",
       "State Rail Assistance                           23\n",
       "Solutions For Congested Corridors Program       17\n",
       "Solutions To Congested Corridors Program         1\n",
       "Name: projprogram, dtype: int64"
      ]
     },
     "execution_count": 10,
     "metadata": {},
     "output_type": "execute_result"
    }
   ],
   "source": [
    "sb1_df1.projprogram.value_counts()"
   ]
  },
  {
   "cell_type": "code",
   "execution_count": 12,
   "id": "1275f602-0e1f-434b-9ef9-bfea6b5f79c2",
   "metadata": {},
   "outputs": [
    {
     "data": {
      "text/plain": [
       "(9007, 9186)"
      ]
     },
     "execution_count": 12,
     "metadata": {},
     "output_type": "execute_result"
    }
   ],
   "source": [
    "sb1_df1.objectid.nunique(), len(sb1_df1)"
   ]
  },
  {
   "cell_type": "markdown",
   "id": "02989f7a-b78a-4390-b153-f7a3682b4feb",
   "metadata": {},
   "source": [
    "### Separate out SB1 based on our table schema"
   ]
  },
  {
   "cell_type": "code",
   "execution_count": 13,
   "id": "36b42703-90f6-42b3-8a4e-95807d7eed0b",
   "metadata": {},
   "outputs": [],
   "source": [
    "def merge(df: pd.DataFrame, subset_cols: list):\n",
    "    df2 = df[subset_cols]\n",
    "    display(\n",
    "        pd.merge(df, df2, on=subset_cols, how=\"inner\", indicator=True)[\n",
    "            [\"_merge\"]\n",
    "        ].value_counts()\n",
    "    )\n",
    "    return df2"
   ]
  },
  {
   "cell_type": "markdown",
   "id": "fc043281-e587-42c1-a3f5-efa284412ae1",
   "metadata": {},
   "source": [
    "#### Assembly Districts"
   ]
  },
  {
   "cell_type": "code",
   "execution_count": 14,
   "id": "92637342-cc6a-475c-987a-78151ef012f2",
   "metadata": {},
   "outputs": [],
   "source": [
    "assembly_subset = [\n",
    "    \"objectid\",\n",
    "    \"projectid\",\n",
    "    \"projname\",\n",
    "    \"projagency\",\n",
    "    \"assemblycode\",\n",
    "    \"assemblydistrict\",\n",
    "]"
   ]
  },
  {
   "cell_type": "code",
   "execution_count": 37,
   "id": "88a6100c-69d1-42bb-94e8-95784ab0f714",
   "metadata": {},
   "outputs": [
    {
     "data": {
      "text/plain": [
       "Index(['objectid', 'projectid', 'projname', 'projcatcode', 'projcategory',\n",
       "       'projprogcode', 'projprogram', 'multiprogfunded', 'projstatus',\n",
       "       'description', 'cost', 'assemblydistrict', 'senatedistrict',\n",
       "       'assemblycode', 'senatecode', 'countyname', 'cityname', 'countycode',\n",
       "       'citycode', 'appagencyname', 'impagencyname', 'popuptitle', 'popup',\n",
       "       'geometry', 'projcount', 'totalcosts', 'projlisturl', 'projlist2url',\n",
       "       'mponame', 'mpocode', 'assetcategory', 'bphotojpg', 'bphotohtml',\n",
       "       'aphotojpg', 'aphotohtml', 'routes', 'constyear', 'costfull',\n",
       "       'projagency'],\n",
       "      dtype='object')"
      ]
     },
     "execution_count": 37,
     "metadata": {},
     "output_type": "execute_result"
    }
   ],
   "source": [
    "sb1_df1.columns"
   ]
  },
  {
   "cell_type": "code",
   "execution_count": 15,
   "id": "a4003904-96e2-4eac-bd20-d487ef1f8809",
   "metadata": {},
   "outputs": [
    {
     "data": {
      "text/plain": [
       "_merge    \n",
       "both          9186\n",
       "left_only        0\n",
       "right_only       0\n",
       "dtype: int64"
      ]
     },
     "metadata": {},
     "output_type": "display_data"
    }
   ],
   "source": [
    "assembly_df = merge(sb1_df1, assembly_subset)"
   ]
  },
  {
   "cell_type": "code",
   "execution_count": 16,
   "id": "7d787b4b-4569-4338-b20e-66b001a85c5d",
   "metadata": {},
   "outputs": [
    {
     "data": {
      "text/html": [
       "<div>\n",
       "<style scoped>\n",
       "    .dataframe tbody tr th:only-of-type {\n",
       "        vertical-align: middle;\n",
       "    }\n",
       "\n",
       "    .dataframe tbody tr th {\n",
       "        vertical-align: top;\n",
       "    }\n",
       "\n",
       "    .dataframe thead th {\n",
       "        text-align: right;\n",
       "    }\n",
       "</style>\n",
       "<table border=\"1\" class=\"dataframe\">\n",
       "  <thead>\n",
       "    <tr style=\"text-align: right;\">\n",
       "      <th></th>\n",
       "      <th>objectid</th>\n",
       "      <th>projectid</th>\n",
       "      <th>projname</th>\n",
       "      <th>projagency</th>\n",
       "      <th>assemblycode</th>\n",
       "      <th>assemblydistrict</th>\n",
       "    </tr>\n",
       "  </thead>\n",
       "  <tbody>\n",
       "    <tr>\n",
       "      <th>1000</th>\n",
       "      <td>2117</td>\n",
       "      <td>1016000053</td>\n",
       "      <td>San Joaquin 4 5  99 Changeable Message Signs Mobility Project</td>\n",
       "      <td>None</td>\n",
       "      <td>13</td>\n",
       "      <td>13</td>\n",
       "    </tr>\n",
       "    <tr>\n",
       "      <th>1736</th>\n",
       "      <td>165871</td>\n",
       "      <td>LppfC1Fy17196406Pp17</td>\n",
       "      <td>MarinSonoma Narrows Design Contracts B1Ph1 And A4</td>\n",
       "      <td>Transportation Authority Marin County</td>\n",
       "      <td>10</td>\n",
       "      <td>10</td>\n",
       "    </tr>\n",
       "    <tr>\n",
       "      <th>6255</th>\n",
       "      <td>170679</td>\n",
       "      <td>LsrFy18195147Pp1546</td>\n",
       "      <td>9Th Street Rehabilitation Originally Listed In Fy</td>\n",
       "      <td>Upland    City</td>\n",
       "      <td>41</td>\n",
       "      <td>41</td>\n",
       "    </tr>\n",
       "  </tbody>\n",
       "</table>\n",
       "</div>"
      ],
      "text/plain": [
       "      objectid             projectid  \\\n",
       "1000      2117            1016000053   \n",
       "1736    165871  LppfC1Fy17196406Pp17   \n",
       "6255    170679   LsrFy18195147Pp1546   \n",
       "\n",
       "                                                           projname  \\\n",
       "1000  San Joaquin 4 5  99 Changeable Message Signs Mobility Project   \n",
       "1736              MarinSonoma Narrows Design Contracts B1Ph1 And A4   \n",
       "6255              9Th Street Rehabilitation Originally Listed In Fy   \n",
       "\n",
       "                                 projagency assemblycode assemblydistrict  \n",
       "1000                                   None           13               13  \n",
       "1736  Transportation Authority Marin County           10               10  \n",
       "6255                         Upland    City           41               41  "
      ]
     },
     "execution_count": 16,
     "metadata": {},
     "output_type": "execute_result"
    }
   ],
   "source": [
    "assembly_df.sample(3)"
   ]
  },
  {
   "cell_type": "markdown",
   "id": "e8ba98f9-824a-4109-88e1-9b7785126569",
   "metadata": {},
   "source": [
    "#### Awards"
   ]
  },
  {
   "cell_type": "code",
   "execution_count": 38,
   "id": "489bb001-46e5-42e7-8534-71515c855691",
   "metadata": {},
   "outputs": [
    {
     "data": {
      "text/plain": [
       "Index(['objectid', 'projectid', 'projname', 'projcatcode', 'projcategory',\n",
       "       'projprogcode', 'projprogram', 'multiprogfunded', 'projstatus',\n",
       "       'description', 'cost', 'assemblydistrict', 'senatedistrict',\n",
       "       'assemblycode', 'senatecode', 'countyname', 'cityname', 'countycode',\n",
       "       'citycode', 'appagencyname', 'impagencyname', 'popuptitle', 'popup',\n",
       "       'geometry', 'projcount', 'totalcosts', 'projlisturl', 'projlist2url',\n",
       "       'mponame', 'mpocode', 'assetcategory', 'bphotojpg', 'bphotohtml',\n",
       "       'aphotojpg', 'aphotohtml', 'routes', 'constyear', 'costfull',\n",
       "       'projagency'],\n",
       "      dtype='object')"
      ]
     },
     "execution_count": 38,
     "metadata": {},
     "output_type": "execute_result"
    }
   ],
   "source": [
    "sb1_df1.columns"
   ]
  },
  {
   "cell_type": "code",
   "execution_count": 17,
   "id": "cc37c7d7-80a8-48e0-a514-4ff14b7038a7",
   "metadata": {},
   "outputs": [],
   "source": [
    "awards_subset = [\n",
    "    \"objectid\",\n",
    "    \"projectid\",\n",
    "    \"projname\",\n",
    "    \"projagency\",\n",
    "    \"projprogcode\",\n",
    "    \"projprogram\",\n",
    "    \"multiprogfunded\",\n",
    "]"
   ]
  },
  {
   "cell_type": "code",
   "execution_count": 18,
   "id": "188fe7d9-3e87-4239-9bfa-7d2d0561ac08",
   "metadata": {},
   "outputs": [
    {
     "data": {
      "text/plain": [
       "_merge    \n",
       "both          9186\n",
       "left_only        0\n",
       "right_only       0\n",
       "dtype: int64"
      ]
     },
     "metadata": {},
     "output_type": "display_data"
    }
   ],
   "source": [
    "awards_df = merge(sb1_df1, awards_subset)"
   ]
  },
  {
   "cell_type": "code",
   "execution_count": 19,
   "id": "53d12a10-7b90-436f-abf2-e167679b3957",
   "metadata": {},
   "outputs": [
    {
     "data": {
      "text/plain": [
       "201718 Local Streets And Roads                3814\n",
       "201819 Local Streets And Roads                2295\n",
       "State Highway Projects                        1089\n",
       "Local Streets And Roads                        539\n",
       "State Of Good Repair                           429\n",
       "State Transit Assistance                       370\n",
       "Active Transportation Program                  318\n",
       "Local Partnership Program                      174\n",
       "Transit And Intercity Rail Capital Program      60\n",
       "Trade Corridor Enhancement Program              57\n",
       "State Rail Assistance                           23\n",
       "Solutions For Congested Corridors Program       17\n",
       "Solutions To Congested Corridors Program         1\n",
       "Name: projprogram, dtype: int64"
      ]
     },
     "execution_count": 19,
     "metadata": {},
     "output_type": "execute_result"
    }
   ],
   "source": [
    "awards_df.projprogram.value_counts()"
   ]
  },
  {
   "cell_type": "markdown",
   "id": "22d227d2-462f-47d3-8165-f55301313ffb",
   "metadata": {},
   "source": [
    "#### County"
   ]
  },
  {
   "cell_type": "code",
   "execution_count": 20,
   "id": "104793ba-80b9-44fd-bda3-e533188a0700",
   "metadata": {},
   "outputs": [],
   "source": [
    "county_subset = [\n",
    "    \"objectid\",\n",
    "    \"projectid\",\n",
    "    \"projname\",\n",
    "    \"projagency\",\n",
    "    \"countyname\",\n",
    "    \"countycode\",\n",
    "]"
   ]
  },
  {
   "cell_type": "code",
   "execution_count": 21,
   "id": "c16ba1cb-b2d5-42fc-bc1a-8641519caff8",
   "metadata": {},
   "outputs": [
    {
     "data": {
      "text/plain": [
       "_merge    \n",
       "both          9186\n",
       "left_only        0\n",
       "right_only       0\n",
       "dtype: int64"
      ]
     },
     "metadata": {},
     "output_type": "display_data"
    }
   ],
   "source": [
    "county_df = merge(sb1_df1, county_subset)"
   ]
  },
  {
   "cell_type": "code",
   "execution_count": 22,
   "id": "8c5eb6ab-9a9c-4bb1-82e5-49afb7e3879d",
   "metadata": {},
   "outputs": [
    {
     "data": {
      "text/html": [
       "<div>\n",
       "<style scoped>\n",
       "    .dataframe tbody tr th:only-of-type {\n",
       "        vertical-align: middle;\n",
       "    }\n",
       "\n",
       "    .dataframe tbody tr th {\n",
       "        vertical-align: top;\n",
       "    }\n",
       "\n",
       "    .dataframe thead th {\n",
       "        text-align: right;\n",
       "    }\n",
       "</style>\n",
       "<table border=\"1\" class=\"dataframe\">\n",
       "  <thead>\n",
       "    <tr style=\"text-align: right;\">\n",
       "      <th></th>\n",
       "      <th>objectid</th>\n",
       "      <th>projectid</th>\n",
       "      <th>projname</th>\n",
       "      <th>projagency</th>\n",
       "      <th>countyname</th>\n",
       "      <th>countycode</th>\n",
       "    </tr>\n",
       "  </thead>\n",
       "  <tbody>\n",
       "    <tr>\n",
       "      <th>1477</th>\n",
       "      <td>4440</td>\n",
       "      <td>None</td>\n",
       "      <td>None</td>\n",
       "      <td>None</td>\n",
       "      <td>Orange</td>\n",
       "      <td>Ora</td>\n",
       "    </tr>\n",
       "    <tr>\n",
       "      <th>2705</th>\n",
       "      <td>166997</td>\n",
       "      <td>LsrFy17185160Pp179</td>\n",
       "      <td>Crack Seal</td>\n",
       "      <td>Los Banos    City</td>\n",
       "      <td>Merced</td>\n",
       "      <td>Mer</td>\n",
       "    </tr>\n",
       "    <tr>\n",
       "      <th>3868</th>\n",
       "      <td>168205</td>\n",
       "      <td>LsrFy17185386Pp001</td>\n",
       "      <td></td>\n",
       "      <td>Clayton    City</td>\n",
       "      <td>Contra Costa</td>\n",
       "      <td>Cc</td>\n",
       "    </tr>\n",
       "  </tbody>\n",
       "</table>\n",
       "</div>"
      ],
      "text/plain": [
       "      objectid           projectid    projname         projagency  \\\n",
       "1477      4440                None        None               None   \n",
       "2705    166997  LsrFy17185160Pp179  Crack Seal  Los Banos    City   \n",
       "3868    168205  LsrFy17185386Pp001                Clayton    City   \n",
       "\n",
       "        countyname countycode  \n",
       "1477        Orange        Ora  \n",
       "2705        Merced        Mer  \n",
       "3868  Contra Costa         Cc  "
      ]
     },
     "execution_count": 22,
     "metadata": {},
     "output_type": "execute_result"
    }
   ],
   "source": [
    "county_df.sample(3)"
   ]
  },
  {
   "cell_type": "markdown",
   "id": "d78ffda2-8b92-4d3f-9efa-4f89453e7863",
   "metadata": {},
   "source": [
    "#### City"
   ]
  },
  {
   "cell_type": "code",
   "execution_count": 23,
   "id": "9b14db81-d362-47c6-a87d-31c99fd95a35",
   "metadata": {},
   "outputs": [],
   "source": [
    "city_subset = [\n",
    "    \"objectid\",\n",
    "    \"projectid\",\n",
    "    \"projname\",\n",
    "    \"projagency\",\n",
    "    \"cityname\",\n",
    "    \"citycode\",\n",
    "]"
   ]
  },
  {
   "cell_type": "code",
   "execution_count": 24,
   "id": "11c163a0-9d43-409b-85d8-99ff4d3f3390",
   "metadata": {},
   "outputs": [
    {
     "data": {
      "text/plain": [
       "_merge    \n",
       "both          9186\n",
       "left_only        0\n",
       "right_only       0\n",
       "dtype: int64"
      ]
     },
     "metadata": {},
     "output_type": "display_data"
    }
   ],
   "source": [
    "city_df = merge(sb1_df1, city_subset)"
   ]
  },
  {
   "cell_type": "markdown",
   "id": "e1bc5532-9433-4292-89c6-324057060466",
   "metadata": {},
   "source": [
    "#### Senate District"
   ]
  },
  {
   "cell_type": "code",
   "execution_count": 25,
   "id": "80e67da3-05a2-4fbf-ade4-2478d49281fe",
   "metadata": {},
   "outputs": [
    {
     "data": {
      "text/plain": [
       "Index(['objectid', 'projectid', 'projname', 'projcatcode', 'projcategory',\n",
       "       'projprogcode', 'projprogram', 'multiprogfunded', 'projstatus',\n",
       "       'description', 'cost', 'assemblydistrict', 'senatedistrict',\n",
       "       'assemblycode', 'senatecode', 'countyname', 'cityname', 'countycode',\n",
       "       'citycode', 'appagencyname', 'impagencyname', 'popuptitle', 'popup',\n",
       "       'geometry', 'projcount', 'totalcosts', 'projlisturl', 'projlist2url',\n",
       "       'mponame', 'mpocode', 'assetcategory', 'bphotojpg', 'bphotohtml',\n",
       "       'aphotojpg', 'aphotohtml', 'routes', 'constyear', 'costfull',\n",
       "       'projagency'],\n",
       "      dtype='object')"
      ]
     },
     "execution_count": 25,
     "metadata": {},
     "output_type": "execute_result"
    }
   ],
   "source": [
    "sb1_df1.columns"
   ]
  },
  {
   "cell_type": "code",
   "execution_count": 26,
   "id": "e237a21d-db21-4a59-bf3c-d216c9d3a524",
   "metadata": {},
   "outputs": [],
   "source": [
    "senate_subset = [\n",
    "    \"objectid\",\n",
    "    \"projectid\",\n",
    "    \"projname\",\n",
    "    \"projagency\",\n",
    "    \"senatedistrict\",\n",
    "    \"senatecode\",\n",
    "]"
   ]
  },
  {
   "cell_type": "code",
   "execution_count": 27,
   "id": "dfcd4081-a4f4-4e48-92b4-05764d94d58e",
   "metadata": {},
   "outputs": [
    {
     "data": {
      "text/plain": [
       "_merge    \n",
       "both          9186\n",
       "left_only        0\n",
       "right_only       0\n",
       "dtype: int64"
      ]
     },
     "metadata": {},
     "output_type": "display_data"
    }
   ],
   "source": [
    "senate_df = merge(sb1_df1, senate_subset)"
   ]
  },
  {
   "cell_type": "markdown",
   "id": "f3a4b55b-9a5d-4424-bf32-0bb96f4cb9dd",
   "metadata": {},
   "source": [
    "#### Geometry"
   ]
  },
  {
   "cell_type": "code",
   "execution_count": 28,
   "id": "1a318b26-749c-4a11-abc3-f81a7a480c9d",
   "metadata": {},
   "outputs": [],
   "source": [
    "geo_subset = [\"objectid\", \"projectid\", \"projname\", \"projagency\", \"geometry\"]"
   ]
  },
  {
   "cell_type": "code",
   "execution_count": 29,
   "id": "b578a75d-f86c-4598-b1e2-0b9ae051fc14",
   "metadata": {},
   "outputs": [
    {
     "data": {
      "text/plain": [
       "_merge    \n",
       "both          9186\n",
       "left_only        0\n",
       "right_only       0\n",
       "dtype: int64"
      ]
     },
     "metadata": {},
     "output_type": "display_data"
    }
   ],
   "source": [
    "gdf = merge(sb1_df1, geo_subset)"
   ]
  },
  {
   "cell_type": "code",
   "execution_count": 30,
   "id": "7c0d3db6-4a83-4889-9ac3-dc9c0799c019",
   "metadata": {},
   "outputs": [
    {
     "data": {
      "text/plain": [
       "geopandas.geodataframe.GeoDataFrame"
      ]
     },
     "execution_count": 30,
     "metadata": {},
     "output_type": "execute_result"
    }
   ],
   "source": [
    "type(gdf)"
   ]
  },
  {
   "cell_type": "markdown",
   "id": "ea6c795c-32de-413f-aaf8-682a33d6d3e1",
   "metadata": {},
   "source": [
    "#### Project Base Table"
   ]
  },
  {
   "cell_type": "code",
   "execution_count": 31,
   "id": "425ab7ca-8978-425a-bec5-4f80f1ba5265",
   "metadata": {},
   "outputs": [],
   "source": [
    "project_subset = [\n",
    "    \"objectid\",\n",
    "    \"projectid\",\n",
    "    \"projname\",\n",
    "    \"description\",\n",
    "    \"cost\",\n",
    "    \"totalcosts\",\n",
    "    \"routes\",\n",
    "    \"costfull\",\n",
    "    \"projagency\",\n",
    "    \"appagencyname\",\n",
    "    \"impagencyname\",\n",
    "]"
   ]
  },
  {
   "cell_type": "code",
   "execution_count": 32,
   "id": "8f90b9d5-6d35-4854-b5e3-eb548f6edbfb",
   "metadata": {},
   "outputs": [],
   "source": [
    "project_df = sb1_df1[project_subset]"
   ]
  },
  {
   "cell_type": "code",
   "execution_count": 33,
   "id": "a06a45c9-d488-4189-bd61-59f04c68672f",
   "metadata": {
    "scrolled": true,
    "tags": []
   },
   "outputs": [],
   "source": [
    "# project_df.sample(100)"
   ]
  },
  {
   "cell_type": "markdown",
   "id": "d55f7d87-fe27-4afd-8cf1-3d1119fe5a32",
   "metadata": {},
   "source": [
    "#### Phase Funding"
   ]
  },
  {
   "cell_type": "code",
   "execution_count": 34,
   "id": "57e7241e-3630-4c7c-936e-e906699adf84",
   "metadata": {},
   "outputs": [],
   "source": [
    "phase_subset = [\n",
    "    \"objectid\",\n",
    "    \"projectid\",\n",
    "    \"projname\",\n",
    "    \"projstatus\",\n",
    "    \"projagency\",\n",
    "    \"constyear\",\n",
    "]"
   ]
  },
  {
   "cell_type": "code",
   "execution_count": 35,
   "id": "9bc86fa4-3a9c-4e26-8334-41c88e896c35",
   "metadata": {},
   "outputs": [
    {
     "data": {
      "text/plain": [
       "_merge    \n",
       "both          9186\n",
       "left_only        0\n",
       "right_only       0\n",
       "dtype: int64"
      ]
     },
     "metadata": {},
     "output_type": "display_data"
    }
   ],
   "source": [
    "phase_df = merge(sb1_df1, phase_subset)"
   ]
  },
  {
   "cell_type": "code",
   "execution_count": 36,
   "id": "f0af1ce0-111c-4ec5-9267-92a8de80cc44",
   "metadata": {},
   "outputs": [
    {
     "ename": "NameError",
     "evalue": "name 'stop' is not defined",
     "output_type": "error",
     "traceback": [
      "\u001b[0;31m---------------------------------------------------------------------------\u001b[0m",
      "\u001b[0;31mNameError\u001b[0m                                 Traceback (most recent call last)",
      "Cell \u001b[0;32mIn[36], line 1\u001b[0m\n\u001b[0;32m----> 1\u001b[0m \u001b[43mstop\u001b[49m\n",
      "\u001b[0;31mNameError\u001b[0m: name 'stop' is not defined"
     ]
    }
   ],
   "source": [
    "stop"
   ]
  },
  {
   "cell_type": "markdown",
   "id": "7f9453dd-7e02-49b7-8a68-d29520bdf4b7",
   "metadata": {
    "tags": []
   },
   "source": [
    "### Scratch\n",
    "#### Link 2\n",
    "* This includes IIJA\n",
    "* https://odpsvcs.dot.ca.gov/arcgis/rest/services/RCA/RCA_Projects_092023/FeatureServer\n",
    "* Why are there LESS projects below compared to SB1??"
   ]
  },
  {
   "cell_type": "code",
   "execution_count": null,
   "id": "e17b3d5f-a38f-4ebd-890c-7bcaff24e10c",
   "metadata": {},
   "outputs": [],
   "source": [
    "url_pt1 = \"https://odpsvcs.dot.ca.gov/arcgis/rest/services/RCA/RCA_Projects_092023/FeatureServer/\""
   ]
  },
  {
   "cell_type": "code",
   "execution_count": null,
   "id": "0f249d5a-2024-4430-be15-41111e2d24b8",
   "metadata": {},
   "outputs": [],
   "source": [
    "url_pt2 = \"/query?where=1%3D1&objectIds=&time=&geometry=&geometryType=esriGeometryEnvelope&inSR=&spatialRel=esriSpatialRelIntersects&distance=&units=esriSRUnit_Foot&relationParam=&outFields=*+&returnGeometry=true&maxAllowableOffset=&geometryPrecision=&outSR=&gdbVersion=&historicMoment=&returnDistinctValues=false&returnIdsOnly=false&returnCountOnly=false&returnExtentOnly=false&orderByFields=&groupByFieldsForStatistics=&outStatistics=&returnZ=false&returnM=false&multipatchOption=&resultOffset=&resultRecordCount=&returnTrueCurves=false&sqlFormat=none&f=geojson\""
   ]
  },
  {
   "cell_type": "code",
   "execution_count": null,
   "id": "6a2aedac-dc9e-4f74-83ad-d430cc90986f",
   "metadata": {},
   "outputs": [],
   "source": [
    "int_to_string = list(map(str, [*range(0, 28)]))"
   ]
  },
  {
   "cell_type": "code",
   "execution_count": null,
   "id": "fcca6479-bf48-4032-b6fe-a32bc1a0b164",
   "metadata": {
    "scrolled": true,
    "tags": []
   },
   "outputs": [],
   "source": [
    "full_gdf = pd.DataFrame()\n",
    "for i in int_to_string:\n",
    "    df = to_snakecase(gpd.read_file(f\"{url_pt1}{i}{url_pt2}\"))\n",
    "    full_gdf = pd.concat([full_gdf, df], axis=0)"
   ]
  },
  {
   "cell_type": "code",
   "execution_count": null,
   "id": "3b80765a-5b46-4c8a-9769-acfdf40b9ec7",
   "metadata": {},
   "outputs": [],
   "source": [
    "full_gdf.shape"
   ]
  },
  {
   "cell_type": "code",
   "execution_count": null,
   "id": "bd86047d-72a8-43f9-98ae-1f124e34b1f3",
   "metadata": {},
   "outputs": [],
   "source": [
    "full_gdf.shape, sb1_df1.shape"
   ]
  },
  {
   "cell_type": "markdown",
   "id": "4abd76e2-50d0-43d0-84e9-84150579a2f6",
   "metadata": {},
   "source": [
    "#### Compare"
   ]
  },
  {
   "cell_type": "code",
   "execution_count": null,
   "id": "673b736b-7429-4511-ab8f-d9a6d806d074",
   "metadata": {},
   "outputs": [],
   "source": [
    "full_gdf.columns"
   ]
  },
  {
   "cell_type": "code",
   "execution_count": null,
   "id": "b1fd0977-c490-4a01-a3a9-49e90e91a012",
   "metadata": {},
   "outputs": [],
   "source": [
    "full_gdf2 = full_gdf[\n",
    "    [\"projecttitle\", \"projectdescription\", \"countycodes\", \"ct_districts\"]\n",
    "]"
   ]
  },
  {
   "cell_type": "code",
   "execution_count": null,
   "id": "d33b713d-bc5e-48a3-8441-6a7ea6689002",
   "metadata": {},
   "outputs": [],
   "source": [
    "sb1_df1.columns"
   ]
  },
  {
   "cell_type": "code",
   "execution_count": null,
   "id": "0e27d7f3-5e22-491d-822f-526c4f27089c",
   "metadata": {},
   "outputs": [],
   "source": [
    "sb1_df2 = sb1_df1[[\"projname\", \"projagency\", \"description\", \"countycode\"]]"
   ]
  },
  {
   "cell_type": "code",
   "execution_count": null,
   "id": "c85e7c28-9ca0-4d6a-ad08-1174676d6f48",
   "metadata": {},
   "outputs": [],
   "source": [
    "pd.merge(\n",
    "    sb1_df2,\n",
    "    full_gdf2,\n",
    "    left_on=[\"projname\", \"description\", \"countycode\"],\n",
    "    right_on=[\"projecttitle\", \"projectdescription\", \"countycodes\"],\n",
    "    how=\"outer\",\n",
    "    indicator=True,\n",
    ")[[\"_merge\"]].value_counts()"
   ]
  },
  {
   "cell_type": "code",
   "execution_count": null,
   "id": "ce5115bf-9f02-47b9-9fa5-86bd3371c896",
   "metadata": {},
   "outputs": [],
   "source": [
    "pd.merge(\n",
    "    sb1_df2,\n",
    "    full_gdf2,\n",
    "    left_on=[\"projname\", \"description\"],\n",
    "    right_on=[\"projecttitle\", \"projectdescription\"],\n",
    "    how=\"outer\",\n",
    "    indicator=True,\n",
    ")[[\"_merge\"]].value_counts()"
   ]
  },
  {
   "cell_type": "code",
   "execution_count": null,
   "id": "62679591-eac5-429b-999b-630e77cc9735",
   "metadata": {},
   "outputs": [],
   "source": [
    "pd.merge(\n",
    "    sb1_df2,\n",
    "    full_gdf2,\n",
    "    left_on=[\"projname\", \"countycode\"],\n",
    "    right_on=[\"projecttitle\", \"countycodes\"],\n",
    "    how=\"outer\",\n",
    "    indicator=True,\n",
    ")[[\"_merge\"]].value_counts()"
   ]
  },
  {
   "cell_type": "markdown",
   "id": "e46a15a4-f773-4acc-8552-32666d730744",
   "metadata": {},
   "source": [
    "### Original functions"
   ]
  },
  {
   "cell_type": "code",
   "execution_count": null,
   "id": "629b5faf-1278-41cb-9c62-ebea1a730848",
   "metadata": {},
   "outputs": [],
   "source": [
    "url_pt1 = \"https://odpsvcs.dot.ca.gov/arcgis/rest/services/RCA/RCA_Projects_032022/FeatureServer/\"\n",
    "url_pt2 = \"/query?where=1%3D1&objectIds=&time=&geometry=&geometryType=esriGeometryEnvelope&inSR=&spatialRel=esriSpatialRelIntersects&distance=&units=esriSRUnit_Foot&relationParam=&outFields=*+&returnGeometry=true&maxAllowableOffset=&geometryPrecision=&outSR=&gdbVersion=&historicMoment=&returnDistinctValues=false&returnIdsOnly=false&returnCountOnly=false&returnExtentOnly=false&orderByFields=&groupByFieldsForStatistics=&outStatistics=&returnZ=false&returnM=false&multipatchOption=&resultOffset=&resultRecordCount=&returnTrueCurves=false&sqlFormat=none&f=geojson\""
   ]
  },
  {
   "cell_type": "code",
   "execution_count": null,
   "id": "c30d39fb-1ff7-4160-af7e-1360d0806d50",
   "metadata": {},
   "outputs": [],
   "source": [
    "def sb1_basic_cleaning(\n",
    "    gdf: gpd.GeoDataFrame, project_name_col: str\n",
    ") -> gpd.GeoDataFrame:\n",
    "    \"\"\"\n",
    "    Perform basic cleaning before joining\n",
    "    SB1 & Non SHOPP data together.\n",
    "    \"\"\"\n",
    "    # Some project names contain the year. Remove anything after 20..\n",
    "    gdf[project_name_col] = gdf[project_name_col].str.split(\"20\").str[0]\n",
    "\n",
    "    # Get rid of | in object cols\n",
    "    # https://stackoverflow.com/questions/68152902/extracting-only-object-type-columns-in-a-separate-list-from-a-data-frame-in-pand\n",
    "    string_cols = gdf.select_dtypes(include=[\"object\"]).columns.to_list()\n",
    "    try:\n",
    "        for i in string_cols:\n",
    "            gdf[i] = (\n",
    "                gdf[i]\n",
    "                .str.replace(\"|\", \"\")\n",
    "                .str.lower()\n",
    "                .str.replace(\"[^\\w\\s]\", \"\")\n",
    "                .str.strip()\n",
    "            )\n",
    "    except:\n",
    "        pass\n",
    "\n",
    "    # Try to extract titles from popups\n",
    "    try:\n",
    "        df[\"popup\"] = (\n",
    "            df[\"popup\"]\n",
    "            .str.split(\"<br  />\")\n",
    "            .str[1]\n",
    "            .str.split(\"20\")\n",
    "            .str[0]\n",
    "            .str.lower()\n",
    "            .str.strip()\n",
    "            .str.replace(\"[^\\w\\s]\", \"\")\n",
    "        )\n",
    "    except:\n",
    "        pass\n",
    "\n",
    "    return gdf"
   ]
  },
  {
   "cell_type": "code",
   "execution_count": null,
   "id": "fe57ecfb-fd8c-4008-87c2-1f5a3c26d746",
   "metadata": {},
   "outputs": [],
   "source": [
    "def load_sb1_all_projects() -> pd.DataFrame:\n",
    "    \"\"\"\n",
    "    Load in all projects layer of SB1 because it\n",
    "    contains a value for every row in the\n",
    "    project title column.\n",
    "    \"\"\"\n",
    "    df = f\"{url_pt1}22{url_pt2}\"\n",
    "\n",
    "    df = to_snakecase(gpd.read_file(df))\n",
    "\n",
    "    # No geometry, just drop it\n",
    "    df = df.drop(columns=[\"geometry\"])\n",
    "\n",
    "    # Basic cleaning\n",
    "    df = sb1_basic_cleaning(\n",
    "        df, \"implementingagency\", \"projecttitle\", \"projectid\", \"projectdescription\"\n",
    "    )\n",
    "\n",
    "    return df"
   ]
  },
  {
   "cell_type": "code",
   "execution_count": null,
   "id": "a9ad9c79-56b3-4400-9697-b7efccfe1db0",
   "metadata": {},
   "outputs": [],
   "source": [
    "def sb1_final() -> gpd.GeoDataFrame:\n",
    "    \"\"\"\n",
    "    Layers 0-21 with geographic information\n",
    "    don't always have project titles for each\n",
    "    of the projects. Merge these layers with\n",
    "    layer 22, which does have title information.\n",
    "    \"\"\"\n",
    "    all_projects_subset = [\n",
    "        \"projecttitle\",\n",
    "        \"programcodes\",\n",
    "        \"totalcost\",\n",
    "        \"implementingagency\",\n",
    "        \"fiscalyearcode\",\n",
    "    ]\n",
    "\n",
    "    sb1_geo, missing_geo = load_sb1_rest_server()\n",
    "    sb1_all_projects = load_sb1_all_projects()[all_projects_subset]\n",
    "\n",
    "    # Merge\n",
    "    merge1 = pd.merge(\n",
    "        sb1_geo,\n",
    "        sb1_all_projects,\n",
    "        how=\"left\",\n",
    "        left_on=[\"programcodes\", \"totalcost\", \"agencies\", \"fiscalyearcodes\"],\n",
    "        right_on=[\"programcodes\", \"totalcost\", \"implementingagency\", \"fiscalyearcode\"],\n",
    "    )\n",
    "\n",
    "    # Fill in missing project titles in sb1_geo with information from\n",
    "    # sb1_all_projects\n",
    "    merge1.projecttitle_x = merge1.projecttitle_x.fillna(merge1.projecttitle_y)\n",
    "\n",
    "    # Fill missing titles with none\n",
    "    merge1.projecttitle_x = merge1.projecttitle_x.fillna(\"None\")\n",
    "\n",
    "    # Drop columns\n",
    "    merge1 = merge1.drop(columns=[\"projecttitle_y\"])\n",
    "\n",
    "    # Add a new column detailing where this information comes from\n",
    "    merge1 = merge1.assign(notes=merge1.programcodes + \"/\" + \"SB1\")\n",
    "\n",
    "    merge1 = merge1.fillna(merge1.dtypes.replace({\"float64\": 0.0, \"object\": \"None\"}))\n",
    "    return merge1"
   ]
  },
  {
   "cell_type": "code",
   "execution_count": null,
   "id": "bcc62451-98c7-4187-bab3-ad89a039cf75",
   "metadata": {},
   "outputs": [],
   "source": [
    "sb1_final_gdf = sb1_final()"
   ]
  },
  {
   "cell_type": "code",
   "execution_count": null,
   "id": "afbd958b-5836-4789-9372-62edac321165",
   "metadata": {},
   "outputs": [],
   "source": [
    "sb1_final_gdf.projectstatuscodes.value_counts()"
   ]
  },
  {
   "cell_type": "code",
   "execution_count": null,
   "id": "c2af4504-84bc-48b5-85ad-0b0324510590",
   "metadata": {},
   "outputs": [],
   "source": [
    "len(sb1_final_gdf), sb1_final_gdf.geometry.nunique()"
   ]
  },
  {
   "cell_type": "code",
   "execution_count": null,
   "id": "a52f1771-0064-493b-a339-d1dcece8ed2b",
   "metadata": {},
   "outputs": [],
   "source": [
    "sb1_final_gdf.info()"
   ]
  },
  {
   "cell_type": "code",
   "execution_count": null,
   "id": "23f286bd-e22d-4885-8997-1ba4353648a1",
   "metadata": {},
   "outputs": [],
   "source": [
    "sb1_final_gdf.projecttitle_x.value_counts().head(10)"
   ]
  },
  {
   "cell_type": "code",
   "execution_count": null,
   "id": "f2edcfa1-080f-4f09-bd3d-2a72c1e12149",
   "metadata": {},
   "outputs": [],
   "source": [
    "sb1_final_gdf[sb1_final_gdf.projecttitle_x == \"major damage restoration\"].groupby(\n",
    "    [\"projecttitle_x\", \"countynames\"]\n",
    ").agg({\"objectid\": \"count\"}).head()"
   ]
  },
  {
   "cell_type": "code",
   "execution_count": null,
   "id": "218ee516-3050-40dc-ae03-34d4a4e5ff3e",
   "metadata": {},
   "outputs": [],
   "source": [
    "sb1_final_gdf.projectstatuscodes.value_counts()"
   ]
  },
  {
   "cell_type": "code",
   "execution_count": null,
   "id": "61f6be29-f2ab-4f89-9ea7-98c44733ad86",
   "metadata": {},
   "outputs": [],
   "source": [
    "sb1_final_gdf.projectstatuscodes.unique()"
   ]
  },
  {
   "cell_type": "code",
   "execution_count": null,
   "id": "a9b35d63-e309-4bf4-a0bb-c3b15951240b",
   "metadata": {},
   "outputs": [],
   "source": [
    "sb1_final_gdf.projectstatuses.value_counts()"
   ]
  },
  {
   "cell_type": "code",
   "execution_count": null,
   "id": "e7b4eea5-18d9-4f5e-82ec-dfd499c3371e",
   "metadata": {
    "scrolled": true,
    "tags": []
   },
   "outputs": [],
   "source": [
    "sb1_final_gdf[\n",
    "    (sb1_final_gdf.projecttitle_x == \"major damage restoration\")\n",
    "    & (sb1_final_gdf.countynames == \"Alameda\")\n",
    "]"
   ]
  },
  {
   "cell_type": "code",
   "execution_count": null,
   "id": "14887b33-91fd-4ade-8c79-788024fe192f",
   "metadata": {},
   "outputs": [],
   "source": [
    "sb1_final_gdf[\n",
    "    (sb1_final_gdf.projecttitle_x == \"major damage restoration\")\n",
    "    & (sb1_final_gdf.countynames == \"Alameda\")\n",
    "].plot()"
   ]
  },
  {
   "cell_type": "code",
   "execution_count": null,
   "id": "c216f060-648a-4294-b07d-9142d23d6827",
   "metadata": {},
   "outputs": [],
   "source": [
    "# sb1_final_gdf[sb1_final_gdf.projecttitle_x == \"major damage restoration\"].explore()"
   ]
  }
 ],
 "metadata": {
  "kernelspec": {
   "display_name": "Python 3 (ipykernel)",
   "language": "python",
   "name": "python3"
  },
  "language_info": {
   "codemirror_mode": {
    "name": "ipython",
    "version": 3
   },
   "file_extension": ".py",
   "mimetype": "text/x-python",
   "name": "python",
   "nbconvert_exporter": "python",
   "pygments_lexer": "ipython3",
   "version": "3.9.13"
  }
 },
 "nbformat": 4,
 "nbformat_minor": 5
}
