{
 "cells": [
  {
   "cell_type": "code",
   "execution_count": 1,
   "id": "f6ddf257-863a-41d8-9830-ef8b7d91647b",
   "metadata": {},
   "outputs": [],
   "source": [
    "import geopandas as gpd\n",
    "import numpy as np\n",
    "import pandas as pd\n",
    "import _harmonization_utils \n",
    "from calitp_data_analysis.sql import to_snakecase\n",
    "from calitp_data_analysis import utils"
   ]
  },
  {
   "cell_type": "code",
   "execution_count": 2,
   "id": "2a49b60c-2fb0-44fd-80c4-a7f98556585d",
   "metadata": {},
   "outputs": [],
   "source": [
    "pd.options.display.max_columns = 100\n",
    "pd.options.display.float_format = \"{:.2f}\".format\n",
    "pd.set_option(\"display.max_rows\", None)\n",
    "pd.set_option(\"display.max_colwidth\", None)"
   ]
  },
  {
   "cell_type": "code",
   "execution_count": 3,
   "id": "629b5faf-1278-41cb-9c62-ebea1a730848",
   "metadata": {},
   "outputs": [],
   "source": [
    "url_pt1 = \"https://odpsvcs.dot.ca.gov/arcgis/rest/services/RCA/RCA_Projects_032022/FeatureServer/\"\n",
    "url_pt2 = \"/query?where=1%3D1&objectIds=&time=&geometry=&geometryType=esriGeometryEnvelope&inSR=&spatialRel=esriSpatialRelIntersects&distance=&units=esriSRUnit_Foot&relationParam=&outFields=*+&returnGeometry=true&maxAllowableOffset=&geometryPrecision=&outSR=&gdbVersion=&historicMoment=&returnDistinctValues=false&returnIdsOnly=false&returnCountOnly=false&returnExtentOnly=false&orderByFields=&groupByFieldsForStatistics=&outStatistics=&returnZ=false&returnM=false&multipatchOption=&resultOffset=&resultRecordCount=&returnTrueCurves=false&sqlFormat=none&f=geojson\""
   ]
  },
  {
   "cell_type": "code",
   "execution_count": 4,
   "id": "aa6cf22d-a5dd-4092-80fb-1c9fb84b2fda",
   "metadata": {},
   "outputs": [],
   "source": [
    "def sb1_basic_cleaning(\n",
    "    df,\n",
    "    agency_col: str,\n",
    "    project_name_col: str,\n",
    "    project_id_col: str,\n",
    "    project_desc_col: str,\n",
    "):\n",
    "    \"\"\"\n",
    "    Perform basic cleaning before joining\n",
    "    SB1 & Non SHOPP data together.\n",
    "    \"\"\"\n",
    "    # Remove all punctation, lowercase, and strip whitespaces from\n",
    "    # project titles & descriptions.\n",
    "    for i in [project_name_col, project_desc_col]:\n",
    "        df[i] = df[i].str.lower().str.replace(\"[^\\w\\s]\", \"\").str.strip()\n",
    "\n",
    "    # Some project names contain the year. Remove anything after 20..\n",
    "    df[project_name_col] = df[project_name_col].str.split(\"20\").str[0]\n",
    "\n",
    "    # Get rid of | in object cols\n",
    "    # https://stackoverflow.com/questions/68152902/extracting-only-object-type-columns-in-a-separate-list-from-a-data-frame-in-pand\n",
    "    string_cols = df.select_dtypes(include=[\"object\"]).columns.to_list()\n",
    "    try:\n",
    "        for i in string_cols:\n",
    "            df[i] = df[i].str.replace(\"|\", \"\")\n",
    "    except:\n",
    "        pass\n",
    "\n",
    "    # Try to extract titles from popups\n",
    "    try:\n",
    "        df[\"popup\"] = (\n",
    "            df[\"popup\"]\n",
    "            .str.split(\"<br  />\")\n",
    "            .str[1]\n",
    "            .str.split(\"20\")\n",
    "            .str[0]\n",
    "            .str.lower()\n",
    "            .str.strip()\n",
    "            .str.replace(\"[^\\w\\s]\", \"\")\n",
    "        )\n",
    "    except:\n",
    "        pass\n",
    "\n",
    "    return df"
   ]
  },
  {
   "cell_type": "code",
   "execution_count": 5,
   "id": "cbb423a0-a31b-4c28-8d58-14ef58a32b82",
   "metadata": {},
   "outputs": [],
   "source": [
    "def load_sb1_rest_server() -> gpd.GeoDataFrame:\n",
    "    \"\"\"\n",
    "    Load all the projects on the SB1\n",
    "    map from the Feature Server.\n",
    "\n",
    "    https://odpsvcs.dot.ca.gov/arcgis/rest/services/RCA/RCA_Projects_032022/FeatureServer\n",
    "    \"\"\"\n",
    "    full_gdf = pd.DataFrame()\n",
    "    for i in [*range(0, 22)]:\n",
    "        df = to_snakecase(gpd.read_file(f\"{url_pt1}{i}{url_pt2}\"))\n",
    "        full_gdf = pd.concat([full_gdf, df], axis=0)\n",
    "\n",
    "    # Basic cleaning\n",
    "    full_gdf = sb1_basic_cleaning(\n",
    "        full_gdf, \"agencies\", \"projecttitle\", \"projectid\", \"projectdescription\"\n",
    "    )\n",
    "\n",
    "    # Fill in project titles that are empty with information\n",
    "    # gleaned from the pop up.\n",
    "    full_gdf[\"projecttitle\"] = full_gdf[\"projecttitle\"].fillna(full_gdf[\"popup\"])\n",
    "\n",
    "    # Throw out missing geometry\n",
    "    missing_geo = full_gdf[full_gdf.geometry.is_empty]\n",
    "    full_gdf = full_gdf[~full_gdf.geometry.is_empty].reset_index(drop=True)\n",
    "\n",
    "    return full_gdf, missing_geo"
   ]
  },
  {
   "cell_type": "code",
   "execution_count": 6,
   "id": "b0bb2532-b0d2-4a06-a9e1-ab7b2615b1be",
   "metadata": {},
   "outputs": [],
   "source": [
    "# sb1, missing_geo_sb1 = load_sb1_rest_server()"
   ]
  },
  {
   "cell_type": "code",
   "execution_count": 7,
   "id": "3ac7b6d2-492b-414c-8dc5-73ca033d1a9b",
   "metadata": {},
   "outputs": [],
   "source": [
    "# len(sb1), type(sb1)"
   ]
  },
  {
   "cell_type": "code",
   "execution_count": 8,
   "id": "62aa37e5-91cc-4c7b-88da-8498f05baa78",
   "metadata": {},
   "outputs": [],
   "source": [
    "# len(missing_geo_sb1)"
   ]
  },
  {
   "cell_type": "code",
   "execution_count": 9,
   "id": "fe57ecfb-fd8c-4008-87c2-1f5a3c26d746",
   "metadata": {},
   "outputs": [],
   "source": [
    "def load_sb1_all_projects() -> pd.DataFrame:\n",
    "    \"\"\"\n",
    "    Load in all projects layer of SB1 because it\n",
    "    contains a value for every row in the\n",
    "    project title column.\n",
    "    \"\"\"\n",
    "    df = f\"{url_pt1}22{url_pt2}\"\n",
    "\n",
    "    df = to_snakecase(gpd.read_file(df))\n",
    "\n",
    "    # No geometry, just drop it\n",
    "    df = df.drop(columns=[\"geometry\"])\n",
    "\n",
    "    # Basic cleaning\n",
    "    df = sb1_basic_cleaning(\n",
    "        df, \"implementingagency\", \"projecttitle\", \"projectid\", \"projectdescription\"\n",
    "    )\n",
    "\n",
    "    return df"
   ]
  },
  {
   "cell_type": "code",
   "execution_count": 10,
   "id": "bc2484ee-dfd5-4e15-b858-e264f6008b36",
   "metadata": {},
   "outputs": [],
   "source": [
    "# sb1_all_projects = load_sb1_all_projects()"
   ]
  },
  {
   "cell_type": "code",
   "execution_count": 11,
   "id": "17f555ad-8990-41bb-a50c-da5a9a960b66",
   "metadata": {},
   "outputs": [],
   "source": [
    "# len(sb1_all_projects)"
   ]
  },
  {
   "cell_type": "markdown",
   "id": "90e7db56-e45a-42cc-aae3-ad42664615b3",
   "metadata": {},
   "source": [
    "#### Link above broken, try new link\n",
    "* https://odpsvcs.dot.ca.gov/arcgis/rest/services/RCA/RCA_Projects_092023/FeatureServer"
   ]
  },
  {
   "cell_type": "code",
   "execution_count": 30,
   "id": "e17b3d5f-a38f-4ebd-890c-7bcaff24e10c",
   "metadata": {},
   "outputs": [],
   "source": [
    "url_pt1 = \"https://odpsvcs.dot.ca.gov/arcgis/rest/services/RCA/RCA_Projects_092023/FeatureServer/\""
   ]
  },
  {
   "cell_type": "code",
   "execution_count": 31,
   "id": "0f249d5a-2024-4430-be15-41111e2d24b8",
   "metadata": {},
   "outputs": [],
   "source": [
    "url_pt2 = \"/query?where=1%3D1&objectIds=&time=&geometry=&geometryType=esriGeometryEnvelope&inSR=&spatialRel=esriSpatialRelIntersects&distance=&units=esriSRUnit_Foot&relationParam=&outFields=*+&returnGeometry=true&maxAllowableOffset=&geometryPrecision=&outSR=&gdbVersion=&historicMoment=&returnDistinctValues=false&returnIdsOnly=false&returnCountOnly=false&returnExtentOnly=false&orderByFields=&groupByFieldsForStatistics=&outStatistics=&returnZ=false&returnM=false&multipatchOption=&resultOffset=&resultRecordCount=&returnTrueCurves=false&sqlFormat=none&f=geojson\""
   ]
  },
  {
   "cell_type": "code",
   "execution_count": 34,
   "id": "fb8c5a23-5b90-4b93-bbd4-6d2283153bdb",
   "metadata": {},
   "outputs": [],
   "source": [
    "url1 = \"https://odpsvcs.dot.ca.gov/arcgis/rest/services/RCA/RCA_Projects_092023/FeatureServer/0/query?where=1%3D1&objectIds=&time=&geometry=&geometryType=esriGeometryEnvelope&inSR=&spatialRel=esriSpatialRelIntersects&distance=&units=esriSRUnit_Foot&relationParam=&outFields=*+&returnGeometry=true&maxAllowableOffset=&geometryPrecision=&outSR=&gdbVersion=&historicMoment=&returnDistinctValues=false&returnIdsOnly=false&returnCountOnly=false&returnExtentOnly=false&orderByFields=&groupByFieldsForStatistics=&outStatistics=&returnZ=false&returnM=false&multipatchOption=&resultOffset=&resultRecordCount=&returnTrueCurves=false&sqlFormat=none&f=geojson\""
   ]
  },
  {
   "cell_type": "code",
   "execution_count": 28,
   "id": "a4f66b35-3fde-428d-bb2e-b2c68694869d",
   "metadata": {},
   "outputs": [],
   "source": [
    "url2 = \"https://odpsvcs.dot.ca.gov/arcgis/rest/services/RCA/RCA_Projects_092023/FeatureServer/1/query?where=1%3D1&objectIds=&time=&geometry=&geometryType=esriGeometryEnvelope&inSR=&spatialRel=esriSpatialRelIntersects&distance=&units=esriSRUnit_Foot&relationParam=&outFields=*+&returnGeometry=true&maxAllowableOffset=&geometryPrecision=&outSR=&gdbVersion=&historicMoment=&returnDistinctValues=false&returnIdsOnly=false&returnCountOnly=false&returnExtentOnly=false&orderByFields=&groupByFieldsForStatistics=&outStatistics=&returnZ=false&returnM=false&multipatchOption=&resultOffset=&resultRecordCount=&returnTrueCurves=false&sqlFormat=none&f=geojson\""
   ]
  },
  {
   "cell_type": "code",
   "execution_count": 29,
   "id": "60cc4875-3007-4612-a731-a257c1b69464",
   "metadata": {},
   "outputs": [],
   "source": [
    "test_df = gpd.read_file(url2)"
   ]
  },
  {
   "cell_type": "code",
   "execution_count": 32,
   "id": "3222748f-56db-4b35-9b6e-9947f5395e5d",
   "metadata": {},
   "outputs": [],
   "source": [
    "test_0 = \"0\""
   ]
  },
  {
   "cell_type": "code",
   "execution_count": 33,
   "id": "b6b8f145-21ce-4793-9ee7-fc52f34aa4e0",
   "metadata": {},
   "outputs": [],
   "source": [
    "test_df = gpd.read_file(f\"{url_pt1}{test_0}{url_pt2}\")"
   ]
  },
  {
   "cell_type": "code",
   "execution_count": 59,
   "id": "6a2aedac-dc9e-4f74-83ad-d430cc90986f",
   "metadata": {},
   "outputs": [],
   "source": [
    "int_to_string = list(map(str, [*range(0, 28)]))"
   ]
  },
  {
   "cell_type": "code",
   "execution_count": 45,
   "id": "fcca6479-bf48-4032-b6fe-a32bc1a0b164",
   "metadata": {
    "scrolled": true,
    "tags": []
   },
   "outputs": [],
   "source": [
    "for i in int_to_string:\n",
    "    df = to_snakecase(gpd.read_file(f\"{url_pt1}{i}{url_pt2}\"))\n",
    "    full_gdf = pd.concat([full_gdf, df], axis=0)"
   ]
  },
  {
   "cell_type": "code",
   "execution_count": 46,
   "id": "3b80765a-5b46-4c8a-9769-acfdf40b9ec7",
   "metadata": {},
   "outputs": [
    {
     "data": {
      "text/plain": [
       "(21759, 76)"
      ]
     },
     "execution_count": 46,
     "metadata": {},
     "output_type": "execute_result"
    }
   ],
   "source": [
    "full_gdf.shape"
   ]
  },
  {
   "cell_type": "code",
   "execution_count": 54,
   "id": "759cd847-e6ff-450b-852f-cfad401bba9c",
   "metadata": {},
   "outputs": [
    {
     "data": {
      "text/plain": [
       "14814"
      ]
     },
     "execution_count": 54,
     "metadata": {},
     "output_type": "execute_result"
    }
   ],
   "source": [
    "full_gdf.objectid.nunique()"
   ]
  },
  {
   "cell_type": "code",
   "execution_count": 63,
   "id": "9c10ef27-3269-4dd5-9cbc-1a3aecdcb578",
   "metadata": {},
   "outputs": [
    {
     "data": {
      "text/plain": [
       "2017 Residential Slurry Seal Project    286\n",
       "Fog Seal                                121\n",
       "Crack Seal                              120\n",
       "Citywide Slurry Seal Project            107\n",
       "ANNUAL STREET RESURFACING                69\n",
       "Name: projname, dtype: int64"
      ]
     },
     "execution_count": 63,
     "metadata": {},
     "output_type": "execute_result"
    }
   ],
   "source": [
    "full_gdf.projname.value_counts().head()"
   ]
  },
  {
   "cell_type": "code",
   "execution_count": 65,
   "id": "39301c0b-bb5f-4ad9-8891-b2a09477d9b0",
   "metadata": {},
   "outputs": [
    {
     "data": {
      "text/html": [
       "<div>\n",
       "<style scoped>\n",
       "    .dataframe tbody tr th:only-of-type {\n",
       "        vertical-align: middle;\n",
       "    }\n",
       "\n",
       "    .dataframe tbody tr th {\n",
       "        vertical-align: top;\n",
       "    }\n",
       "\n",
       "    .dataframe thead th {\n",
       "        text-align: right;\n",
       "    }\n",
       "</style>\n",
       "<table border=\"1\" class=\"dataframe\">\n",
       "  <thead>\n",
       "    <tr style=\"text-align: right;\">\n",
       "      <th></th>\n",
       "      <th>projname</th>\n",
       "      <th>projecttitle</th>\n",
       "    </tr>\n",
       "  </thead>\n",
       "  <tbody>\n",
       "    <tr>\n",
       "      <th>920</th>\n",
       "      <td>NaN</td>\n",
       "      <td>Major Damage Restoration</td>\n",
       "    </tr>\n",
       "    <tr>\n",
       "      <th>460</th>\n",
       "      <td>NaN</td>\n",
       "      <td>Pavement - HM1 -SB1</td>\n",
       "    </tr>\n",
       "    <tr>\n",
       "      <th>6160</th>\n",
       "      <td>Hazel Dell Road</td>\n",
       "      <td>NaN</td>\n",
       "    </tr>\n",
       "    <tr>\n",
       "      <th>598</th>\n",
       "      <td>NaN</td>\n",
       "      <td>Safety - HM4</td>\n",
       "    </tr>\n",
       "    <tr>\n",
       "      <th>1135</th>\n",
       "      <td>NaN</td>\n",
       "      <td>Bridge Rail Replacement and Upgrade</td>\n",
       "    </tr>\n",
       "    <tr>\n",
       "      <th>1102</th>\n",
       "      <td>NaN</td>\n",
       "      <td>Multiple Objective</td>\n",
       "    </tr>\n",
       "    <tr>\n",
       "      <th>1265</th>\n",
       "      <td>Crack Seal</td>\n",
       "      <td>NaN</td>\n",
       "    </tr>\n",
       "    <tr>\n",
       "      <th>764</th>\n",
       "      <td>Locust St.</td>\n",
       "      <td>NaN</td>\n",
       "    </tr>\n",
       "    <tr>\n",
       "      <th>1106</th>\n",
       "      <td>Fog Seal</td>\n",
       "      <td>NaN</td>\n",
       "    </tr>\n",
       "    <tr>\n",
       "      <th>6682</th>\n",
       "      <td>Preventive Maintenance</td>\n",
       "      <td>NaN</td>\n",
       "    </tr>\n",
       "    <tr>\n",
       "      <th>134</th>\n",
       "      <td>|Replacement Engines for Diesel Hybrid Buses |</td>\n",
       "      <td>NaN</td>\n",
       "    </tr>\n",
       "    <tr>\n",
       "      <th>887</th>\n",
       "      <td>NaN</td>\n",
       "      <td>Safety Improvements</td>\n",
       "    </tr>\n",
       "    <tr>\n",
       "      <th>252</th>\n",
       "      <td>NaN</td>\n",
       "      <td>Drainage System Restoration</td>\n",
       "    </tr>\n",
       "    <tr>\n",
       "      <th>2066</th>\n",
       "      <td>57th Street</td>\n",
       "      <td>NaN</td>\n",
       "    </tr>\n",
       "    <tr>\n",
       "      <th>737</th>\n",
       "      <td>NaN</td>\n",
       "      <td>NaN</td>\n",
       "    </tr>\n",
       "    <tr>\n",
       "      <th>4685</th>\n",
       "      <td>13TH STREET PEDESTRIAN IMPROVEMENTS</td>\n",
       "      <td>NaN</td>\n",
       "    </tr>\n",
       "    <tr>\n",
       "      <th>59</th>\n",
       "      <td>NaN</td>\n",
       "      <td>Bridge Rehabilitation in San Francisco County</td>\n",
       "    </tr>\n",
       "    <tr>\n",
       "      <th>364</th>\n",
       "      <td>NaN</td>\n",
       "      <td>Pavement - HM1</td>\n",
       "    </tr>\n",
       "    <tr>\n",
       "      <th>43</th>\n",
       "      <td>NaN</td>\n",
       "      <td>NaN</td>\n",
       "    </tr>\n",
       "    <tr>\n",
       "      <th>3672</th>\n",
       "      <td>Asphalt Rubber Seal of Various Roadways in Alameda County</td>\n",
       "      <td>NaN</td>\n",
       "    </tr>\n",
       "    <tr>\n",
       "      <th>529</th>\n",
       "      <td>NaN</td>\n",
       "      <td>Major Damage Restoration</td>\n",
       "    </tr>\n",
       "    <tr>\n",
       "      <th>773</th>\n",
       "      <td>Airport Road Repair and Class II Bike Lane Project</td>\n",
       "      <td>NaN</td>\n",
       "    </tr>\n",
       "    <tr>\n",
       "      <th>362</th>\n",
       "      <td>Streetlights, 555 Pacific Ave. to Beach St.</td>\n",
       "      <td>NaN</td>\n",
       "    </tr>\n",
       "    <tr>\n",
       "      <th>357</th>\n",
       "      <td>NaN</td>\n",
       "      <td>NaN</td>\n",
       "    </tr>\n",
       "    <tr>\n",
       "      <th>7660</th>\n",
       "      <td>Humboldt 101 Koke Culverts Project</td>\n",
       "      <td>NaN</td>\n",
       "    </tr>\n",
       "    <tr>\n",
       "      <th>3389</th>\n",
       "      <td>Janesville Grade Chip Seal</td>\n",
       "      <td>NaN</td>\n",
       "    </tr>\n",
       "    <tr>\n",
       "      <th>389</th>\n",
       "      <td>NaN</td>\n",
       "      <td>Bridge-SB1</td>\n",
       "    </tr>\n",
       "    <tr>\n",
       "      <th>1041</th>\n",
       "      <td>NaN</td>\n",
       "      <td>Major Damage Restoration</td>\n",
       "    </tr>\n",
       "    <tr>\n",
       "      <th>6771</th>\n",
       "      <td>Corporation Yard Transit Fleet Electrification</td>\n",
       "      <td>NaN</td>\n",
       "    </tr>\n",
       "    <tr>\n",
       "      <th>3974</th>\n",
       "      <td>Shoulder Improvements on Petrol Road from Airport Drive to Greenview Lane</td>\n",
       "      <td>NaN</td>\n",
       "    </tr>\n",
       "    <tr>\n",
       "      <th>1558</th>\n",
       "      <td>NaN</td>\n",
       "      <td>Pavement Rehabilitation</td>\n",
       "    </tr>\n",
       "    <tr>\n",
       "      <th>3561</th>\n",
       "      <td>Power Inn Rd Improvements Project</td>\n",
       "      <td>NaN</td>\n",
       "    </tr>\n",
       "    <tr>\n",
       "      <th>989</th>\n",
       "      <td>NaN</td>\n",
       "      <td>Safety Improvements</td>\n",
       "    </tr>\n",
       "    <tr>\n",
       "      <th>1932</th>\n",
       "      <td>NaN</td>\n",
       "      <td>Bridge Major Rehabilitation</td>\n",
       "    </tr>\n",
       "    <tr>\n",
       "      <th>715</th>\n",
       "      <td>NaN</td>\n",
       "      <td>NaN</td>\n",
       "    </tr>\n",
       "    <tr>\n",
       "      <th>122</th>\n",
       "      <td>NaN</td>\n",
       "      <td>Mobility - Operational Improvements</td>\n",
       "    </tr>\n",
       "    <tr>\n",
       "      <th>6875</th>\n",
       "      <td>MTC Regional Coordination Program and Regional Means-Based Fare Funding Reserve</td>\n",
       "      <td>NaN</td>\n",
       "    </tr>\n",
       "    <tr>\n",
       "      <th>83</th>\n",
       "      <td>NaN</td>\n",
       "      <td>Improve Traffic Signals in Orange County</td>\n",
       "    </tr>\n",
       "    <tr>\n",
       "      <th>23</th>\n",
       "      <td>NaN</td>\n",
       "      <td>Road Restoration &amp; Rehabilitation in Sierra County</td>\n",
       "    </tr>\n",
       "    <tr>\n",
       "      <th>7449</th>\n",
       "      <td>Amador &amp; Tuolumne 88, 49, 108 &amp; 120 Drainage System Restoration Project</td>\n",
       "      <td>NaN</td>\n",
       "    </tr>\n",
       "    <tr>\n",
       "      <th>55</th>\n",
       "      <td>NaN</td>\n",
       "      <td>NaN</td>\n",
       "    </tr>\n",
       "    <tr>\n",
       "      <th>656</th>\n",
       "      <td>NaN</td>\n",
       "      <td>NaN</td>\n",
       "    </tr>\n",
       "    <tr>\n",
       "      <th>2531</th>\n",
       "      <td>Hickman Street Improvements</td>\n",
       "      <td>NaN</td>\n",
       "    </tr>\n",
       "    <tr>\n",
       "      <th>649</th>\n",
       "      <td>NaN</td>\n",
       "      <td>NaN</td>\n",
       "    </tr>\n",
       "    <tr>\n",
       "      <th>113</th>\n",
       "      <td>NaN</td>\n",
       "      <td>NaN</td>\n",
       "    </tr>\n",
       "    <tr>\n",
       "      <th>5673</th>\n",
       "      <td>6th Street Pavement Rehabilitation</td>\n",
       "      <td>NaN</td>\n",
       "    </tr>\n",
       "    <tr>\n",
       "      <th>4420</th>\n",
       "      <td>Yerba Buena Avenue Resurfacing</td>\n",
       "      <td>NaN</td>\n",
       "    </tr>\n",
       "    <tr>\n",
       "      <th>669</th>\n",
       "      <td>School Zone Striping Improvements</td>\n",
       "      <td>NaN</td>\n",
       "    </tr>\n",
       "    <tr>\n",
       "      <th>813</th>\n",
       "      <td>NaN</td>\n",
       "      <td>Major Damage Restoration</td>\n",
       "    </tr>\n",
       "    <tr>\n",
       "      <th>5454</th>\n",
       "      <td>Walnut Grove Resurfacing Project (17/18 Carryover)</td>\n",
       "      <td>NaN</td>\n",
       "    </tr>\n",
       "  </tbody>\n",
       "</table>\n",
       "</div>"
      ],
      "text/plain": [
       "                                                                             projname  \\\n",
       "920                                                                               NaN   \n",
       "460                                                                               NaN   \n",
       "6160                                                                  Hazel Dell Road   \n",
       "598                                                                               NaN   \n",
       "1135                                                                              NaN   \n",
       "1102                                                                              NaN   \n",
       "1265                                                                       Crack Seal   \n",
       "764                                                                        Locust St.   \n",
       "1106                                                                         Fog Seal   \n",
       "6682                                                           Preventive Maintenance   \n",
       "134                                    |Replacement Engines for Diesel Hybrid Buses |   \n",
       "887                                                                               NaN   \n",
       "252                                                                               NaN   \n",
       "2066                                                                      57th Street   \n",
       "737                                                                               NaN   \n",
       "4685                                              13TH STREET PEDESTRIAN IMPROVEMENTS   \n",
       "59                                                                                NaN   \n",
       "364                                                                               NaN   \n",
       "43                                                                                NaN   \n",
       "3672                        Asphalt Rubber Seal of Various Roadways in Alameda County   \n",
       "529                                                                               NaN   \n",
       "773                                Airport Road Repair and Class II Bike Lane Project   \n",
       "362                                       Streetlights, 555 Pacific Ave. to Beach St.   \n",
       "357                                                                               NaN   \n",
       "7660                                               Humboldt 101 Koke Culverts Project   \n",
       "3389                                                       Janesville Grade Chip Seal   \n",
       "389                                                                               NaN   \n",
       "1041                                                                              NaN   \n",
       "6771                                   Corporation Yard Transit Fleet Electrification   \n",
       "3974        Shoulder Improvements on Petrol Road from Airport Drive to Greenview Lane   \n",
       "1558                                                                              NaN   \n",
       "3561                                                Power Inn Rd Improvements Project   \n",
       "989                                                                               NaN   \n",
       "1932                                                                              NaN   \n",
       "715                                                                               NaN   \n",
       "122                                                                               NaN   \n",
       "6875  MTC Regional Coordination Program and Regional Means-Based Fare Funding Reserve   \n",
       "83                                                                                NaN   \n",
       "23                                                                                NaN   \n",
       "7449          Amador & Tuolumne 88, 49, 108 & 120 Drainage System Restoration Project   \n",
       "55                                                                                NaN   \n",
       "656                                                                               NaN   \n",
       "2531                                                      Hickman Street Improvements   \n",
       "649                                                                               NaN   \n",
       "113                                                                               NaN   \n",
       "5673                                               6th Street Pavement Rehabilitation   \n",
       "4420                                                   Yerba Buena Avenue Resurfacing   \n",
       "669                                                 School Zone Striping Improvements   \n",
       "813                                                                               NaN   \n",
       "5454                               Walnut Grove Resurfacing Project (17/18 Carryover)   \n",
       "\n",
       "                                            projecttitle  \n",
       "920                             Major Damage Restoration  \n",
       "460                                  Pavement - HM1 -SB1  \n",
       "6160                                                 NaN  \n",
       "598                                         Safety - HM4  \n",
       "1135                 Bridge Rail Replacement and Upgrade  \n",
       "1102                                  Multiple Objective  \n",
       "1265                                                 NaN  \n",
       "764                                                  NaN  \n",
       "1106                                                 NaN  \n",
       "6682                                                 NaN  \n",
       "134                                                  NaN  \n",
       "887                                  Safety Improvements  \n",
       "252                          Drainage System Restoration  \n",
       "2066                                                 NaN  \n",
       "737                                                  NaN  \n",
       "4685                                                 NaN  \n",
       "59         Bridge Rehabilitation in San Francisco County  \n",
       "364                                       Pavement - HM1  \n",
       "43                                                   NaN  \n",
       "3672                                                 NaN  \n",
       "529                             Major Damage Restoration  \n",
       "773                                                  NaN  \n",
       "362                                                  NaN  \n",
       "357                                                  NaN  \n",
       "7660                                                 NaN  \n",
       "3389                                                 NaN  \n",
       "389                                           Bridge-SB1  \n",
       "1041                            Major Damage Restoration  \n",
       "6771                                                 NaN  \n",
       "3974                                                 NaN  \n",
       "1558                             Pavement Rehabilitation  \n",
       "3561                                                 NaN  \n",
       "989                                  Safety Improvements  \n",
       "1932                         Bridge Major Rehabilitation  \n",
       "715                                                  NaN  \n",
       "122                  Mobility - Operational Improvements  \n",
       "6875                                                 NaN  \n",
       "83              Improve Traffic Signals in Orange County  \n",
       "23    Road Restoration & Rehabilitation in Sierra County  \n",
       "7449                                                 NaN  \n",
       "55                                                   NaN  \n",
       "656                                                  NaN  \n",
       "2531                                                 NaN  \n",
       "649                                                  NaN  \n",
       "113                                                  NaN  \n",
       "5673                                                 NaN  \n",
       "4420                                                 NaN  \n",
       "669                                                  NaN  \n",
       "813                             Major Damage Restoration  \n",
       "5454                                                 NaN  "
      ]
     },
     "execution_count": 65,
     "metadata": {},
     "output_type": "execute_result"
    }
   ],
   "source": [
    "full_gdf[['projname', 'projecttitle']].sample(50)\n",
    "          "
   ]
  },
  {
   "cell_type": "code",
   "execution_count": 53,
   "id": "2fdbdcac-c135-4aaa-a669-10583945aeb0",
   "metadata": {},
   "outputs": [
    {
     "name": "stdout",
     "output_type": "stream",
     "text": [
      "<class 'geopandas.geodataframe.GeoDataFrame'>\n",
      "Int64Index: 21759 entries, 0 to 51\n",
      "Data columns (total 76 columns):\n",
      " #   Column                  Non-Null Count  Dtype   \n",
      "---  ------                  --------------  -----   \n",
      " 0   objectid                21759 non-null  float64 \n",
      " 1   projectid               17269 non-null  object  \n",
      " 2   projname                8755 non-null   object  \n",
      " 3   projcatcode             9536 non-null   object  \n",
      " 4   projcategory            9536 non-null   object  \n",
      " 5   projprogcode            9536 non-null   object  \n",
      " 6   projprogram             9536 non-null   object  \n",
      " 7   multiprogfunded         5 non-null      object  \n",
      " 8   projstatus              8572 non-null   object  \n",
      " 9   description             8492 non-null   object  \n",
      " 10  cost                    2181 non-null   object  \n",
      " 11  assemblydistrict        9535 non-null   object  \n",
      " 12  senatedistrict          9535 non-null   object  \n",
      " 13  assemblycode            9535 non-null   object  \n",
      " 14  senatecode              9535 non-null   object  \n",
      " 15  countyname              9534 non-null   object  \n",
      " 16  cityname                6967 non-null   object  \n",
      " 17  countycode              9535 non-null   object  \n",
      " 18  citycode                6962 non-null   object  \n",
      " 19  appagencyname           64 non-null     object  \n",
      " 20  impagencyname           64 non-null     object  \n",
      " 21  popuptitle              64 non-null     object  \n",
      " 22  popup                   9136 non-null   object  \n",
      " 23  geometry                13826 non-null  geometry\n",
      " 24  projcount               964 non-null    float64 \n",
      " 25  totalcosts              425 non-null    object  \n",
      " 26  projlisturl             539 non-null    object  \n",
      " 27  projlist2url            539 non-null    object  \n",
      " 28  mponame                 10 non-null     object  \n",
      " 29  mpocode                 10 non-null     object  \n",
      " 30  assetcategory           1157 non-null   object  \n",
      " 31  bphotojpg               584 non-null    object  \n",
      " 32  bphotohtml              584 non-null    object  \n",
      " 33  aphotojpg               579 non-null    object  \n",
      " 34  aphotohtml              579 non-null    object  \n",
      " 35  routes                  580 non-null    object  \n",
      " 36  constyear               6789 non-null   object  \n",
      " 37  costfull                6771 non-null   float64 \n",
      " 38  projagency              7917 non-null   object  \n",
      " 39  dataset                 16 non-null     object  \n",
      " 40  yyyy_mm_dd              16 non-null     object  \n",
      " 41  date_updated            16 non-null     float64 \n",
      " 42  agencyids               12106 non-null  object  \n",
      " 43  agencies                11292 non-null  object  \n",
      " 44  programcodes            12207 non-null  object  \n",
      " 45  iijaprogram             1724 non-null   object  \n",
      " 46  iijacodes               1726 non-null   object  \n",
      " 47  projectstatuscodes      12207 non-null  object  \n",
      " 48  fiscalyears             12207 non-null  object  \n",
      " 49  fiscalyearcodes         12184 non-null  object  \n",
      " 50  projectstatuses         12207 non-null  object  \n",
      " 51  sb1funds                12181 non-null  float64 \n",
      " 52  iijafunds               9347 non-null   float64 \n",
      " 53  totalcost               11589 non-null  float64 \n",
      " 54  dateupdated             12207 non-null  object  \n",
      " 55  projectcount            12207 non-null  float64 \n",
      " 56  assemblydistricts       12207 non-null  object  \n",
      " 57  senatedistricts         12207 non-null  object  \n",
      " 58  congressionaldistricts  11130 non-null  object  \n",
      " 59  assemblycodes           12207 non-null  object  \n",
      " 60  senatecodes             12207 non-null  object  \n",
      " 61  congressionalcodes      11130 non-null  object  \n",
      " 62  countynames             12207 non-null  object  \n",
      " 63  citynames               8819 non-null   object  \n",
      " 64  countycodes             12207 non-null  object  \n",
      " 65  citycodes               8819 non-null   object  \n",
      " 66  ct_codes                12207 non-null  object  \n",
      " 67  ct_districts            10995 non-null  object  \n",
      " 68  issb1                   3020 non-null   object  \n",
      " 69  isiija                  3310 non-null   object  \n",
      " 70  isonshs                 3020 non-null   object  \n",
      " 71  issb1codes              11627 non-null  object  \n",
      " 72  isiijacode              3310 non-null   object  \n",
      " 73  isonshscodes            12031 non-null  object  \n",
      " 74  projecttitle            7893 non-null   object  \n",
      " 75  projectdescription      7897 non-null   object  \n",
      "dtypes: float64(8), geometry(1), object(67)\n",
      "memory usage: 12.8+ MB\n"
     ]
    }
   ],
   "source": [
    "full_gdf.info()"
   ]
  },
  {
   "cell_type": "code",
   "execution_count": 47,
   "id": "6692a84c-5273-41ed-83e2-b7e5fcfaebd9",
   "metadata": {},
   "outputs": [],
   "source": [
    "full_gdf2 = full_gdf[full_gdf.geometry.is_valid].reset_index(drop=True)"
   ]
  },
  {
   "cell_type": "code",
   "execution_count": 48,
   "id": "8cf4154e-fdd2-4723-9928-a2d8a6438dcc",
   "metadata": {},
   "outputs": [
    {
     "data": {
      "text/plain": [
       "(13826, 76)"
      ]
     },
     "execution_count": 48,
     "metadata": {},
     "output_type": "execute_result"
    }
   ],
   "source": [
    "full_gdf2.shape"
   ]
  },
  {
   "cell_type": "code",
   "execution_count": 60,
   "id": "cf64fae2-f9e7-4ea3-a0de-b113c5d7f904",
   "metadata": {},
   "outputs": [],
   "source": [
    "# Project table\n",
    "project_url = \"https://odpsvcs.dot.ca.gov/arcgis/rest/services/RCA/RCA_Projects_092023/FeatureServer/28/query?where=1%3D1&objectIds=&time=&geometry=&geometryType=esriGeometryEnvelope&inSR=&spatialRel=esriSpatialRelIntersects&distance=&units=esriSRUnit_Foot&relationParam=&outFields=*+&returnGeometry=true&maxAllowableOffset=&geometryPrecision=&outSR=&gdbVersion=&historicMoment=&returnDistinctValues=false&returnIdsOnly=false&returnCountOnly=false&returnExtentOnly=false&orderByFields=&groupByFieldsForStatistics=&outStatistics=&returnZ=false&returnM=false&multipatchOption=&resultOffset=&resultRecordCount=&returnTrueCurves=false&sqlFormat=none&f=geojson\"\n",
    "projct_df = gpd.read_file(project_url)"
   ]
  },
  {
   "cell_type": "code",
   "execution_count": 61,
   "id": "4bff8f19-0212-4b2e-88a3-f7953eb9250c",
   "metadata": {},
   "outputs": [
    {
     "data": {
      "text/plain": [
       "(15384, 37)"
      ]
     },
     "execution_count": 61,
     "metadata": {},
     "output_type": "execute_result"
    }
   ],
   "source": [
    "projct_df.shape"
   ]
  },
  {
   "cell_type": "code",
   "execution_count": 62,
   "id": "015d2355-815e-4bec-bd3f-69d2284df4ac",
   "metadata": {},
   "outputs": [
    {
     "name": "stdout",
     "output_type": "stream",
     "text": [
      "<class 'geopandas.geodataframe.GeoDataFrame'>\n",
      "RangeIndex: 15384 entries, 0 to 15383\n",
      "Data columns (total 37 columns):\n",
      " #   Column                  Non-Null Count  Dtype   \n",
      "---  ------                  --------------  -----   \n",
      " 0   OBJECTID                15384 non-null  int64   \n",
      " 1   ProjectID               15384 non-null  object  \n",
      " 2   ProjectTitle            15384 non-null  object  \n",
      " 3   Program                 15384 non-null  object  \n",
      " 4   IIJAProgram             15384 non-null  object  \n",
      " 5   ProjectDescription      15384 non-null  object  \n",
      " 6   TotalCost               14392 non-null  float64 \n",
      " 7   FiscalYear              15384 non-null  object  \n",
      " 8   SB1Funds                15356 non-null  float64 \n",
      " 9   IIJAFunds               13729 non-null  float64 \n",
      " 10  AgencyID                15384 non-null  object  \n",
      " 11  ImplementingAgency      15384 non-null  object  \n",
      " 12  AssemblyDistricts       15384 non-null  object  \n",
      " 13  SenateDistricts         15384 non-null  object  \n",
      " 14  CongressionalDistricts  15384 non-null  object  \n",
      " 15  CountyNames             15384 non-null  object  \n",
      " 16  CityNames               15384 non-null  object  \n",
      " 17  CT_Districts            15384 non-null  object  \n",
      " 18  DateUpdated             15384 non-null  object  \n",
      " 19  ProjectStatus           15384 non-null  object  \n",
      " 20  ProgramCodes            15384 non-null  object  \n",
      " 21  IIJACodes               15384 non-null  object  \n",
      " 22  IsSB1                   15384 non-null  object  \n",
      " 23  IsIIJA                  15384 non-null  object  \n",
      " 24  IsOnSHS                 15384 non-null  object  \n",
      " 25  IsOnSHSCode             15384 non-null  object  \n",
      " 26  IsSB1Code               15384 non-null  object  \n",
      " 27  IsIIJACode              15384 non-null  object  \n",
      " 28  AssemblyCodes           15384 non-null  object  \n",
      " 29  SenateCodes             15384 non-null  object  \n",
      " 30  CongressionalCodes      15384 non-null  object  \n",
      " 31  CountyCodes             15384 non-null  object  \n",
      " 32  CityCodes               15384 non-null  object  \n",
      " 33  CT_Codes                15384 non-null  object  \n",
      " 34  FiscalYearCode          15384 non-null  object  \n",
      " 35  ProjectStatusCodes      15384 non-null  object  \n",
      " 36  geometry                0 non-null      geometry\n",
      "dtypes: float64(3), geometry(1), int64(1), object(32)\n",
      "memory usage: 4.3+ MB\n"
     ]
    }
   ],
   "source": [
    "projct_df.info()"
   ]
  },
  {
   "cell_type": "code",
   "execution_count": 56,
   "id": "d9808a44-ee20-45fd-8b5b-0c613b11be69",
   "metadata": {},
   "outputs": [],
   "source": [
    "# full_gdf2.explore('projname')"
   ]
  },
  {
   "cell_type": "code",
   "execution_count": 12,
   "id": "a9ad9c79-56b3-4400-9697-b7efccfe1db0",
   "metadata": {},
   "outputs": [],
   "source": [
    "def sb1_final() -> gpd.GeoDataFrame:\n",
    "    \"\"\"\n",
    "    Layers 0-21 with geographic information\n",
    "    don't always have project titles for each\n",
    "    of the projects. Merge these layers with\n",
    "    layer 22, which does have title information.\n",
    "    \"\"\"\n",
    "    all_projects_subset = [\n",
    "        \"projecttitle\",\n",
    "        \"programcodes\",\n",
    "        \"totalcost\",\n",
    "        \"implementingagency\",\n",
    "        \"fiscalyearcode\",\n",
    "    ]\n",
    "\n",
    "    sb1_geo, missing_geo = load_sb1_rest_server()\n",
    "    sb1_all_projects = load_sb1_all_projects()[all_projects_subset]\n",
    "\n",
    "    # Merge\n",
    "    merge1 = pd.merge(\n",
    "        sb1_geo,\n",
    "        sb1_all_projects,\n",
    "        how=\"left\",\n",
    "        left_on=[\"programcodes\", \"totalcost\", \"agencies\", \"fiscalyearcodes\"],\n",
    "        right_on=[\"programcodes\", \"totalcost\", \"implementingagency\", \"fiscalyearcode\"],\n",
    "    )\n",
    "\n",
    "    # Fill in missing project titles in sb1_geo with information from\n",
    "    # sb1_all_projects\n",
    "    merge1.projecttitle_x = merge1.projecttitle_x.fillna(merge1.projecttitle_y)\n",
    "\n",
    "    # Fill missing titles with none\n",
    "    merge1.projecttitle_x = merge1.projecttitle_x.fillna(\"None\")\n",
    "    \n",
    "    # Drop columns\n",
    "    merge1 = merge1.drop(columns = ['projecttitle_y'])\n",
    "    \n",
    "    # Add a new column detailing where this information comes from \n",
    "    merge1 = merge1.assign(\n",
    "        notes = merge1.programcodes + '/' + 'SB1')\n",
    "    \n",
    "    merge1 = merge1.fillna(merge1.dtypes.replace({'float64': 0.0, 'object': 'None'}))\n",
    "    return merge1"
   ]
  },
  {
   "cell_type": "code",
   "execution_count": 13,
   "id": "bcc62451-98c7-4187-bab3-ad89a039cf75",
   "metadata": {},
   "outputs": [
    {
     "ename": "HTTPError",
     "evalue": "HTTP Error 500: Internal Server Error",
     "output_type": "error",
     "traceback": [
      "\u001b[0;31m---------------------------------------------------------------------------\u001b[0m",
      "\u001b[0;31mHTTPError\u001b[0m                                 Traceback (most recent call last)",
      "Cell \u001b[0;32mIn[13], line 1\u001b[0m\n\u001b[0;32m----> 1\u001b[0m sb1_final_gdf \u001b[38;5;241m=\u001b[39m \u001b[43msb1_final\u001b[49m\u001b[43m(\u001b[49m\u001b[43m)\u001b[49m\n",
      "Cell \u001b[0;32mIn[12], line 16\u001b[0m, in \u001b[0;36msb1_final\u001b[0;34m()\u001b[0m\n\u001b[1;32m      2\u001b[0m \u001b[38;5;250m\u001b[39m\u001b[38;5;124;03m\"\"\"\u001b[39;00m\n\u001b[1;32m      3\u001b[0m \u001b[38;5;124;03mLayers 0-21 with geographic information\u001b[39;00m\n\u001b[1;32m      4\u001b[0m \u001b[38;5;124;03mdon't always have project titles for each\u001b[39;00m\n\u001b[1;32m      5\u001b[0m \u001b[38;5;124;03mof the projects. Merge these layers with\u001b[39;00m\n\u001b[1;32m      6\u001b[0m \u001b[38;5;124;03mlayer 22, which does have title information.\u001b[39;00m\n\u001b[1;32m      7\u001b[0m \u001b[38;5;124;03m\"\"\"\u001b[39;00m\n\u001b[1;32m      8\u001b[0m all_projects_subset \u001b[38;5;241m=\u001b[39m [\n\u001b[1;32m      9\u001b[0m     \u001b[38;5;124m\"\u001b[39m\u001b[38;5;124mprojecttitle\u001b[39m\u001b[38;5;124m\"\u001b[39m,\n\u001b[1;32m     10\u001b[0m     \u001b[38;5;124m\"\u001b[39m\u001b[38;5;124mprogramcodes\u001b[39m\u001b[38;5;124m\"\u001b[39m,\n\u001b[0;32m   (...)\u001b[0m\n\u001b[1;32m     13\u001b[0m     \u001b[38;5;124m\"\u001b[39m\u001b[38;5;124mfiscalyearcode\u001b[39m\u001b[38;5;124m\"\u001b[39m,\n\u001b[1;32m     14\u001b[0m ]\n\u001b[0;32m---> 16\u001b[0m sb1_geo, missing_geo \u001b[38;5;241m=\u001b[39m \u001b[43mload_sb1_rest_server\u001b[49m\u001b[43m(\u001b[49m\u001b[43m)\u001b[49m\n\u001b[1;32m     17\u001b[0m sb1_all_projects \u001b[38;5;241m=\u001b[39m load_sb1_all_projects()[all_projects_subset]\n\u001b[1;32m     19\u001b[0m \u001b[38;5;66;03m# Merge\u001b[39;00m\n",
      "Cell \u001b[0;32mIn[5], line 10\u001b[0m, in \u001b[0;36mload_sb1_rest_server\u001b[0;34m()\u001b[0m\n\u001b[1;32m      8\u001b[0m full_gdf \u001b[38;5;241m=\u001b[39m pd\u001b[38;5;241m.\u001b[39mDataFrame()\n\u001b[1;32m      9\u001b[0m \u001b[38;5;28;01mfor\u001b[39;00m i \u001b[38;5;129;01min\u001b[39;00m [\u001b[38;5;241m*\u001b[39m\u001b[38;5;28mrange\u001b[39m(\u001b[38;5;241m0\u001b[39m, \u001b[38;5;241m22\u001b[39m)]:\n\u001b[0;32m---> 10\u001b[0m     df \u001b[38;5;241m=\u001b[39m to_snakecase(\u001b[43mgpd\u001b[49m\u001b[38;5;241;43m.\u001b[39;49m\u001b[43mread_file\u001b[49m\u001b[43m(\u001b[49m\u001b[38;5;124;43mf\u001b[39;49m\u001b[38;5;124;43m\"\u001b[39;49m\u001b[38;5;132;43;01m{\u001b[39;49;00m\u001b[43murl_pt1\u001b[49m\u001b[38;5;132;43;01m}\u001b[39;49;00m\u001b[38;5;132;43;01m{\u001b[39;49;00m\u001b[43mi\u001b[49m\u001b[38;5;132;43;01m}\u001b[39;49;00m\u001b[38;5;132;43;01m{\u001b[39;49;00m\u001b[43murl_pt2\u001b[49m\u001b[38;5;132;43;01m}\u001b[39;49;00m\u001b[38;5;124;43m\"\u001b[39;49m\u001b[43m)\u001b[49m)\n\u001b[1;32m     11\u001b[0m     full_gdf \u001b[38;5;241m=\u001b[39m pd\u001b[38;5;241m.\u001b[39mconcat([full_gdf, df], axis\u001b[38;5;241m=\u001b[39m\u001b[38;5;241m0\u001b[39m)\n\u001b[1;32m     13\u001b[0m \u001b[38;5;66;03m# Basic cleaning\u001b[39;00m\n",
      "File \u001b[0;32m/opt/conda/lib/python3.9/site-packages/geopandas/io/file.py:281\u001b[0m, in \u001b[0;36m_read_file\u001b[0;34m(filename, bbox, mask, rows, engine, **kwargs)\u001b[0m\n\u001b[1;32m    275\u001b[0m from_bytes \u001b[38;5;241m=\u001b[39m \u001b[38;5;28;01mFalse\u001b[39;00m\n\u001b[1;32m    276\u001b[0m \u001b[38;5;28;01mif\u001b[39;00m _is_url(filename):\n\u001b[1;32m    277\u001b[0m     \u001b[38;5;66;03m# if it is a url that supports random access -> pass through to\u001b[39;00m\n\u001b[1;32m    278\u001b[0m     \u001b[38;5;66;03m# pyogrio/fiona as is (to support downloading only part of the file)\u001b[39;00m\n\u001b[1;32m    279\u001b[0m     \u001b[38;5;66;03m# otherwise still download manually because pyogrio/fiona don't support\u001b[39;00m\n\u001b[1;32m    280\u001b[0m     \u001b[38;5;66;03m# all types of urls (https://github.com/geopandas/geopandas/issues/2908)\u001b[39;00m\n\u001b[0;32m--> 281\u001b[0m     \u001b[38;5;28;01mwith\u001b[39;00m \u001b[43murllib\u001b[49m\u001b[38;5;241;43m.\u001b[39;49m\u001b[43mrequest\u001b[49m\u001b[38;5;241;43m.\u001b[39;49m\u001b[43murlopen\u001b[49m\u001b[43m(\u001b[49m\u001b[43mfilename\u001b[49m\u001b[43m)\u001b[49m \u001b[38;5;28;01mas\u001b[39;00m response:\n\u001b[1;32m    282\u001b[0m         \u001b[38;5;28;01mif\u001b[39;00m \u001b[38;5;129;01mnot\u001b[39;00m response\u001b[38;5;241m.\u001b[39mheaders\u001b[38;5;241m.\u001b[39mget(\u001b[38;5;124m\"\u001b[39m\u001b[38;5;124mAccept-Ranges\u001b[39m\u001b[38;5;124m\"\u001b[39m) \u001b[38;5;241m==\u001b[39m \u001b[38;5;124m\"\u001b[39m\u001b[38;5;124mbytes\u001b[39m\u001b[38;5;124m\"\u001b[39m:\n\u001b[1;32m    283\u001b[0m             filename \u001b[38;5;241m=\u001b[39m response\u001b[38;5;241m.\u001b[39mread()\n",
      "File \u001b[0;32m/opt/conda/lib/python3.9/urllib/request.py:214\u001b[0m, in \u001b[0;36murlopen\u001b[0;34m(url, data, timeout, cafile, capath, cadefault, context)\u001b[0m\n\u001b[1;32m    212\u001b[0m \u001b[38;5;28;01melse\u001b[39;00m:\n\u001b[1;32m    213\u001b[0m     opener \u001b[38;5;241m=\u001b[39m _opener\n\u001b[0;32m--> 214\u001b[0m \u001b[38;5;28;01mreturn\u001b[39;00m \u001b[43mopener\u001b[49m\u001b[38;5;241;43m.\u001b[39;49m\u001b[43mopen\u001b[49m\u001b[43m(\u001b[49m\u001b[43murl\u001b[49m\u001b[43m,\u001b[49m\u001b[43m \u001b[49m\u001b[43mdata\u001b[49m\u001b[43m,\u001b[49m\u001b[43m \u001b[49m\u001b[43mtimeout\u001b[49m\u001b[43m)\u001b[49m\n",
      "File \u001b[0;32m/opt/conda/lib/python3.9/urllib/request.py:523\u001b[0m, in \u001b[0;36mOpenerDirector.open\u001b[0;34m(self, fullurl, data, timeout)\u001b[0m\n\u001b[1;32m    521\u001b[0m \u001b[38;5;28;01mfor\u001b[39;00m processor \u001b[38;5;129;01min\u001b[39;00m \u001b[38;5;28mself\u001b[39m\u001b[38;5;241m.\u001b[39mprocess_response\u001b[38;5;241m.\u001b[39mget(protocol, []):\n\u001b[1;32m    522\u001b[0m     meth \u001b[38;5;241m=\u001b[39m \u001b[38;5;28mgetattr\u001b[39m(processor, meth_name)\n\u001b[0;32m--> 523\u001b[0m     response \u001b[38;5;241m=\u001b[39m \u001b[43mmeth\u001b[49m\u001b[43m(\u001b[49m\u001b[43mreq\u001b[49m\u001b[43m,\u001b[49m\u001b[43m \u001b[49m\u001b[43mresponse\u001b[49m\u001b[43m)\u001b[49m\n\u001b[1;32m    525\u001b[0m \u001b[38;5;28;01mreturn\u001b[39;00m response\n",
      "File \u001b[0;32m/opt/conda/lib/python3.9/urllib/request.py:632\u001b[0m, in \u001b[0;36mHTTPErrorProcessor.http_response\u001b[0;34m(self, request, response)\u001b[0m\n\u001b[1;32m    629\u001b[0m \u001b[38;5;66;03m# According to RFC 2616, \"2xx\" code indicates that the client's\u001b[39;00m\n\u001b[1;32m    630\u001b[0m \u001b[38;5;66;03m# request was successfully received, understood, and accepted.\u001b[39;00m\n\u001b[1;32m    631\u001b[0m \u001b[38;5;28;01mif\u001b[39;00m \u001b[38;5;129;01mnot\u001b[39;00m (\u001b[38;5;241m200\u001b[39m \u001b[38;5;241m<\u001b[39m\u001b[38;5;241m=\u001b[39m code \u001b[38;5;241m<\u001b[39m \u001b[38;5;241m300\u001b[39m):\n\u001b[0;32m--> 632\u001b[0m     response \u001b[38;5;241m=\u001b[39m \u001b[38;5;28;43mself\u001b[39;49m\u001b[38;5;241;43m.\u001b[39;49m\u001b[43mparent\u001b[49m\u001b[38;5;241;43m.\u001b[39;49m\u001b[43merror\u001b[49m\u001b[43m(\u001b[49m\n\u001b[1;32m    633\u001b[0m \u001b[43m        \u001b[49m\u001b[38;5;124;43m'\u001b[39;49m\u001b[38;5;124;43mhttp\u001b[39;49m\u001b[38;5;124;43m'\u001b[39;49m\u001b[43m,\u001b[49m\u001b[43m \u001b[49m\u001b[43mrequest\u001b[49m\u001b[43m,\u001b[49m\u001b[43m \u001b[49m\u001b[43mresponse\u001b[49m\u001b[43m,\u001b[49m\u001b[43m \u001b[49m\u001b[43mcode\u001b[49m\u001b[43m,\u001b[49m\u001b[43m \u001b[49m\u001b[43mmsg\u001b[49m\u001b[43m,\u001b[49m\u001b[43m \u001b[49m\u001b[43mhdrs\u001b[49m\u001b[43m)\u001b[49m\n\u001b[1;32m    635\u001b[0m \u001b[38;5;28;01mreturn\u001b[39;00m response\n",
      "File \u001b[0;32m/opt/conda/lib/python3.9/urllib/request.py:561\u001b[0m, in \u001b[0;36mOpenerDirector.error\u001b[0;34m(self, proto, *args)\u001b[0m\n\u001b[1;32m    559\u001b[0m \u001b[38;5;28;01mif\u001b[39;00m http_err:\n\u001b[1;32m    560\u001b[0m     args \u001b[38;5;241m=\u001b[39m (\u001b[38;5;28mdict\u001b[39m, \u001b[38;5;124m'\u001b[39m\u001b[38;5;124mdefault\u001b[39m\u001b[38;5;124m'\u001b[39m, \u001b[38;5;124m'\u001b[39m\u001b[38;5;124mhttp_error_default\u001b[39m\u001b[38;5;124m'\u001b[39m) \u001b[38;5;241m+\u001b[39m orig_args\n\u001b[0;32m--> 561\u001b[0m     \u001b[38;5;28;01mreturn\u001b[39;00m \u001b[38;5;28;43mself\u001b[39;49m\u001b[38;5;241;43m.\u001b[39;49m\u001b[43m_call_chain\u001b[49m\u001b[43m(\u001b[49m\u001b[38;5;241;43m*\u001b[39;49m\u001b[43margs\u001b[49m\u001b[43m)\u001b[49m\n",
      "File \u001b[0;32m/opt/conda/lib/python3.9/urllib/request.py:494\u001b[0m, in \u001b[0;36mOpenerDirector._call_chain\u001b[0;34m(self, chain, kind, meth_name, *args)\u001b[0m\n\u001b[1;32m    492\u001b[0m \u001b[38;5;28;01mfor\u001b[39;00m handler \u001b[38;5;129;01min\u001b[39;00m handlers:\n\u001b[1;32m    493\u001b[0m     func \u001b[38;5;241m=\u001b[39m \u001b[38;5;28mgetattr\u001b[39m(handler, meth_name)\n\u001b[0;32m--> 494\u001b[0m     result \u001b[38;5;241m=\u001b[39m \u001b[43mfunc\u001b[49m\u001b[43m(\u001b[49m\u001b[38;5;241;43m*\u001b[39;49m\u001b[43margs\u001b[49m\u001b[43m)\u001b[49m\n\u001b[1;32m    495\u001b[0m     \u001b[38;5;28;01mif\u001b[39;00m result \u001b[38;5;129;01mis\u001b[39;00m \u001b[38;5;129;01mnot\u001b[39;00m \u001b[38;5;28;01mNone\u001b[39;00m:\n\u001b[1;32m    496\u001b[0m         \u001b[38;5;28;01mreturn\u001b[39;00m result\n",
      "File \u001b[0;32m/opt/conda/lib/python3.9/urllib/request.py:641\u001b[0m, in \u001b[0;36mHTTPDefaultErrorHandler.http_error_default\u001b[0;34m(self, req, fp, code, msg, hdrs)\u001b[0m\n\u001b[1;32m    640\u001b[0m \u001b[38;5;28;01mdef\u001b[39;00m \u001b[38;5;21mhttp_error_default\u001b[39m(\u001b[38;5;28mself\u001b[39m, req, fp, code, msg, hdrs):\n\u001b[0;32m--> 641\u001b[0m     \u001b[38;5;28;01mraise\u001b[39;00m HTTPError(req\u001b[38;5;241m.\u001b[39mfull_url, code, msg, hdrs, fp)\n",
      "\u001b[0;31mHTTPError\u001b[0m: HTTP Error 500: Internal Server Error"
     ]
    }
   ],
   "source": [
    "sb1_final_gdf = sb1_final()"
   ]
  },
  {
   "cell_type": "code",
   "execution_count": null,
   "id": "afbd958b-5836-4789-9372-62edac321165",
   "metadata": {},
   "outputs": [],
   "source": [
    "sb1_final_gdf.projectstatuscodes.value_counts()"
   ]
  },
  {
   "cell_type": "code",
   "execution_count": null,
   "id": "c2af4504-84bc-48b5-85ad-0b0324510590",
   "metadata": {},
   "outputs": [],
   "source": [
    "len(sb1_final_gdf), sb1_final_gdf.geometry.nunique()"
   ]
  },
  {
   "cell_type": "code",
   "execution_count": null,
   "id": "a52f1771-0064-493b-a339-d1dcece8ed2b",
   "metadata": {},
   "outputs": [],
   "source": [
    "sb1_final_gdf.info()"
   ]
  },
  {
   "cell_type": "code",
   "execution_count": null,
   "id": "23f286bd-e22d-4885-8997-1ba4353648a1",
   "metadata": {},
   "outputs": [],
   "source": [
    "sb1_final_gdf.projecttitle_x.value_counts().head(10)"
   ]
  },
  {
   "cell_type": "code",
   "execution_count": null,
   "id": "f2edcfa1-080f-4f09-bd3d-2a72c1e12149",
   "metadata": {},
   "outputs": [],
   "source": [
    "sb1_final_gdf[sb1_final_gdf.projecttitle_x == \"major damage restoration\"].groupby(['projecttitle_x', 'countynames']).agg({'objectid':'count'}).head()"
   ]
  },
  {
   "cell_type": "code",
   "execution_count": null,
   "id": "218ee516-3050-40dc-ae03-34d4a4e5ff3e",
   "metadata": {},
   "outputs": [],
   "source": [
    "sb1_final_gdf.projectstatuscodes.value_counts()"
   ]
  },
  {
   "cell_type": "code",
   "execution_count": null,
   "id": "61f6be29-f2ab-4f89-9ea7-98c44733ad86",
   "metadata": {},
   "outputs": [],
   "source": [
    "sb1_final_gdf.projectstatuscodes.unique()"
   ]
  },
  {
   "cell_type": "code",
   "execution_count": null,
   "id": "a9b35d63-e309-4bf4-a0bb-c3b15951240b",
   "metadata": {},
   "outputs": [],
   "source": [
    "sb1_final_gdf.projectstatuses.value_counts()"
   ]
  },
  {
   "cell_type": "code",
   "execution_count": null,
   "id": "e7b4eea5-18d9-4f5e-82ec-dfd499c3371e",
   "metadata": {
    "scrolled": true,
    "tags": []
   },
   "outputs": [],
   "source": [
    "sb1_final_gdf[(sb1_final_gdf.projecttitle_x == \"major damage restoration\") & (sb1_final_gdf.countynames == \"Alameda\")]"
   ]
  },
  {
   "cell_type": "code",
   "execution_count": null,
   "id": "14887b33-91fd-4ade-8c79-788024fe192f",
   "metadata": {},
   "outputs": [],
   "source": [
    "sb1_final_gdf[(sb1_final_gdf.projecttitle_x == \"major damage restoration\") & (sb1_final_gdf.countynames == \"Alameda\")].plot()"
   ]
  },
  {
   "cell_type": "code",
   "execution_count": null,
   "id": "c216f060-648a-4294-b07d-9142d23d6827",
   "metadata": {},
   "outputs": [],
   "source": [
    "# sb1_final_gdf[sb1_final_gdf.projecttitle_x == \"major damage restoration\"].explore()"
   ]
  }
 ],
 "metadata": {
  "kernelspec": {
   "display_name": "Python 3 (ipykernel)",
   "language": "python",
   "name": "python3"
  },
  "language_info": {
   "codemirror_mode": {
    "name": "ipython",
    "version": 3
   },
   "file_extension": ".py",
   "mimetype": "text/x-python",
   "name": "python",
   "nbconvert_exporter": "python",
   "pygments_lexer": "ipython3",
   "version": "3.9.13"
  }
 },
 "nbformat": 4,
 "nbformat_minor": 5
}
