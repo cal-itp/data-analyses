{
 "cells": [
  {
   "cell_type": "markdown",
   "id": "79a419d1-4725-471f-9ba9-7c1015125039",
   "metadata": {},
   "source": [
    "## SB1 \n",
    "* Need to find out\n",
    "    * What's the difference between RCA/RCA_Projects_092023 (FeatureServer) and RCA/RCA_Projects_102023 (FeatureServer) here https://odpsvcs.dot.ca.gov/arcgis/rest/services/RCA?\n",
    "    * What's the right link to use to grab the projects: https://odpsvcs.dot.ca.gov/arcgis/rest/services/SB1/SB1_ProjectData/FeatureServer or https://odpsvcs.dot.ca.gov/arcgis/rest/services/RCA?\n",
    "        * I think link 1 is related to the SB1 map online\n",
    "        * Unsure what the second map is about?"
   ]
  },
  {
   "cell_type": "code",
   "execution_count": 1,
   "id": "f6ddf257-863a-41d8-9830-ef8b7d91647b",
   "metadata": {},
   "outputs": [],
   "source": [
    "import _harmonization_utils\n",
    "import _sb1_utils\n",
    "import geopandas as gpd\n",
    "import numpy as np\n",
    "import pandas as pd\n",
    "from calitp_data_analysis import utils\n",
    "from calitp_data_analysis.sql import to_snakecase"
   ]
  },
  {
   "cell_type": "code",
   "execution_count": 2,
   "id": "2a49b60c-2fb0-44fd-80c4-a7f98556585d",
   "metadata": {},
   "outputs": [],
   "source": [
    "pd.options.display.max_columns = 100\n",
    "pd.options.display.float_format = \"{:.2f}\".format\n",
    "pd.set_option(\"display.max_rows\", None)\n",
    "pd.set_option(\"display.max_colwidth\", None)"
   ]
  },
  {
   "cell_type": "markdown",
   "id": "e2f53b93-94e6-4f5a-933f-0f08ae33f234",
   "metadata": {},
   "source": [
    "### Checking for districts"
   ]
  },
  {
   "cell_type": "code",
   "execution_count": 3,
   "id": "40f0f004-f487-46a2-9ead-449dbd7877bd",
   "metadata": {},
   "outputs": [],
   "source": [
    "sb1_pt1 = \"https://odpsvcs.dot.ca.gov/arcgis/rest/services/SB1/SB1_ProjectData/FeatureServer/\"\n",
    "sb1_pt2 = \"/query?where=1%3D1&objectIds=&time=&geometry=&geometryType=esriGeometryEnvelope&inSR=&spatialRel=esriSpatialRelIntersects&distance=&units=esriSRUnit_Foot&relationParam=&outFields=*+&returnGeometry=true&maxAllowableOffset=&geometryPrecision=&outSR=&gdbVersion=&historicMoment=&returnDistinctValues=false&returnIdsOnly=false&returnCountOnly=false&returnExtentOnly=false&orderByFields=&groupByFieldsForStatistics=&outStatistics=&returnZ=false&returnM=false&multipatchOption=&resultOffset=&resultRecordCount=&returnTrueCurves=false&sqlFormat=none&f=geojson\"\n",
    "\n",
    "full_gdf = pd.DataFrame()\n",
    "for i in list(map(str, [*range(0, 16)])):\n",
    "        df = to_snakecase(gpd.read_file(f\"{sb1_pt1}{i}{sb1_pt2}\"))\n",
    "        full_gdf = pd.concat([full_gdf, df], axis=0)"
   ]
  },
  {
   "cell_type": "code",
   "execution_count": 4,
   "id": "a33cdb31-576d-4a0b-b868-db8925fe11a9",
   "metadata": {},
   "outputs": [
    {
     "data": {
      "text/html": [
       "<div>\n",
       "<style scoped>\n",
       "    .dataframe tbody tr th:only-of-type {\n",
       "        vertical-align: middle;\n",
       "    }\n",
       "\n",
       "    .dataframe tbody tr th {\n",
       "        vertical-align: top;\n",
       "    }\n",
       "\n",
       "    .dataframe thead th {\n",
       "        text-align: right;\n",
       "    }\n",
       "</style>\n",
       "<table border=\"1\" class=\"dataframe\">\n",
       "  <thead>\n",
       "    <tr style=\"text-align: right;\">\n",
       "      <th></th>\n",
       "      <th>objectid</th>\n",
       "      <th>projectid</th>\n",
       "      <th>projname</th>\n",
       "      <th>projcatcode</th>\n",
       "      <th>projcategory</th>\n",
       "      <th>projprogcode</th>\n",
       "      <th>projprogram</th>\n",
       "      <th>multiprogfunded</th>\n",
       "      <th>projstatus</th>\n",
       "      <th>description</th>\n",
       "      <th>cost</th>\n",
       "      <th>assemblydistrict</th>\n",
       "      <th>senatedistrict</th>\n",
       "      <th>assemblycode</th>\n",
       "      <th>senatecode</th>\n",
       "      <th>countyname</th>\n",
       "      <th>cityname</th>\n",
       "      <th>countycode</th>\n",
       "      <th>citycode</th>\n",
       "      <th>appagencyname</th>\n",
       "      <th>impagencyname</th>\n",
       "      <th>popuptitle</th>\n",
       "      <th>popup</th>\n",
       "      <th>geometry</th>\n",
       "      <th>projcount</th>\n",
       "      <th>totalcosts</th>\n",
       "      <th>projlisturl</th>\n",
       "      <th>projlist2url</th>\n",
       "      <th>mponame</th>\n",
       "      <th>mpocode</th>\n",
       "      <th>assetcategory</th>\n",
       "      <th>bphotojpg</th>\n",
       "      <th>bphotohtml</th>\n",
       "      <th>aphotojpg</th>\n",
       "      <th>aphotohtml</th>\n",
       "      <th>routes</th>\n",
       "      <th>constyear</th>\n",
       "      <th>costfull</th>\n",
       "      <th>projagency</th>\n",
       "    </tr>\n",
       "  </thead>\n",
       "  <tbody>\n",
       "    <tr>\n",
       "      <th>40</th>\n",
       "      <td>2349</td>\n",
       "      <td>NaN</td>\n",
       "      <td>NaN</td>\n",
       "      <td>Transit</td>\n",
       "      <td>State Transit</td>\n",
       "      <td>STA</td>\n",
       "      <td>State Transit Assistance</td>\n",
       "      <td>NaN</td>\n",
       "      <td>NaN</td>\n",
       "      <td>NaN</td>\n",
       "      <td>NaN</td>\n",
       "      <td>5</td>\n",
       "      <td>1</td>\n",
       "      <td>|05|</td>\n",
       "      <td>|01|</td>\n",
       "      <td>Placer</td>\n",
       "      <td>Auburn</td>\n",
       "      <td>|PLA|</td>\n",
       "      <td>|AUB|</td>\n",
       "      <td>NaN</td>\n",
       "      <td>NaN</td>\n",
       "      <td>NaN</td>\n",
       "      <td>&lt;b&gt;Agency:&lt;/b&gt;&lt;br /&gt;City of Auburn&lt;br /&gt;&lt;br /&gt;&lt;b&gt;Estimated Award Increase (SB1):&lt;/b&gt; $32,000&lt;br /&gt;&lt;br /&gt;</td>\n",
       "      <td>POINT (-121.07499 38.89992)</td>\n",
       "      <td>1.00</td>\n",
       "      <td>$32,000</td>\n",
       "      <td>NaN</td>\n",
       "      <td>NaN</td>\n",
       "      <td>NaN</td>\n",
       "      <td>NaN</td>\n",
       "      <td>NaN</td>\n",
       "      <td>NaN</td>\n",
       "      <td>NaN</td>\n",
       "      <td>NaN</td>\n",
       "      <td>NaN</td>\n",
       "      <td>NaN</td>\n",
       "      <td>NaN</td>\n",
       "      <td>NaN</td>\n",
       "      <td>NaN</td>\n",
       "    </tr>\n",
       "  </tbody>\n",
       "</table>\n",
       "</div>"
      ],
      "text/plain": [
       "    objectid projectid projname projcatcode   projcategory projprogcode  \\\n",
       "40      2349       NaN      NaN     Transit  State Transit          STA   \n",
       "\n",
       "                 projprogram multiprogfunded projstatus description cost  \\\n",
       "40  State Transit Assistance             NaN        NaN         NaN  NaN   \n",
       "\n",
       "   assemblydistrict senatedistrict assemblycode senatecode countyname  \\\n",
       "40                5              1         |05|       |01|     Placer   \n",
       "\n",
       "   cityname countycode citycode appagencyname impagencyname popuptitle  \\\n",
       "40   Auburn      |PLA|    |AUB|           NaN           NaN        NaN   \n",
       "\n",
       "                                                                                                       popup  \\\n",
       "40  <b>Agency:</b><br />City of Auburn<br /><br /><b>Estimated Award Increase (SB1):</b> $32,000<br /><br />   \n",
       "\n",
       "                       geometry  projcount totalcosts projlisturl  \\\n",
       "40  POINT (-121.07499 38.89992)       1.00    $32,000         NaN   \n",
       "\n",
       "   projlist2url mponame mpocode assetcategory bphotojpg bphotohtml aphotojpg  \\\n",
       "40          NaN     NaN     NaN           NaN       NaN        NaN       NaN   \n",
       "\n",
       "   aphotohtml routes constyear  costfull projagency  \n",
       "40        NaN    NaN       NaN       NaN        NaN  "
      ]
     },
     "execution_count": 4,
     "metadata": {},
     "output_type": "execute_result"
    }
   ],
   "source": [
    "full_gdf.sample()"
   ]
  },
  {
   "cell_type": "markdown",
   "id": "52b798fd-3cd4-4612-b350-4df987926f10",
   "metadata": {},
   "source": [
    "### Looking at duplicated projectid & objectid"
   ]
  },
  {
   "cell_type": "code",
   "execution_count": null,
   "id": "724ac668-07bb-477d-842d-ab15743cec69",
   "metadata": {},
   "outputs": [],
   "source": [
    "project_table = _sb1_utils.load_sb1()"
   ]
  },
  {
   "cell_type": "code",
   "execution_count": null,
   "id": "28fbf86c-8032-4e2d-ac2c-dd8c7143eaf3",
   "metadata": {},
   "outputs": [],
   "source": [
    "dont_preview = [\"geometry\", \"description\"]"
   ]
  },
  {
   "cell_type": "code",
   "execution_count": null,
   "id": "b48f9b7a-78dc-4343-8b8f-2f08f5d7ab0c",
   "metadata": {},
   "outputs": [],
   "source": [
    "project_table.loc[project_table.projectid == \"0715000051\"].drop(columns=dont_preview)"
   ]
  },
  {
   "cell_type": "code",
   "execution_count": null,
   "id": "d9adc0ff-34c2-48ef-8876-5722de4ce5b1",
   "metadata": {},
   "outputs": [],
   "source": [
    "project_table.loc[project_table.projectid == \"0717000060\"].drop(columns=dont_preview)"
   ]
  },
  {
   "cell_type": "code",
   "execution_count": null,
   "id": "cca29105-3551-498f-ad17-7259fe927009",
   "metadata": {},
   "outputs": [],
   "source": [
    "# sb1_df1.loc[sb1_df1.projectid == \"0200020286\"].drop(columns = dont_preview)"
   ]
  },
  {
   "cell_type": "code",
   "execution_count": null,
   "id": "6bd748e7-42b9-4454-b807-3b9be49846c3",
   "metadata": {},
   "outputs": [],
   "source": [
    "len(project_table)"
   ]
  },
  {
   "cell_type": "markdown",
   "id": "f0beb53d-e1bf-4d1e-b384-ff98f56eb915",
   "metadata": {},
   "source": [
    "#### Once I want to concat Sb1 with the other data sources, I need one row = one project. \n",
    "* Right now, there are multiple rows for each project to account for a project being constructed in 1+ areas.\n",
    "* Keep the row with the least number of nans for the project id."
   ]
  },
  {
   "cell_type": "code",
   "execution_count": null,
   "id": "2ed0d8de-0342-4523-8da2-c40f9d28ba06",
   "metadata": {},
   "outputs": [],
   "source": [
    "project_table2 = _sb1_utils.one_row_one_project(project_table)"
   ]
  },
  {
   "cell_type": "code",
   "execution_count": null,
   "id": "52e4def5-4dc5-4a31-81f7-4f5a13596e55",
   "metadata": {},
   "outputs": [],
   "source": [
    "len(project_table2)"
   ]
  },
  {
   "cell_type": "code",
   "execution_count": null,
   "id": "1fa9bbf2-fff4-4d01-9aba-9bfa77d4410d",
   "metadata": {},
   "outputs": [],
   "source": [
    "project_table.projectid.nunique(), project_table.projname.nunique(), project_table.description.nunique()"
   ]
  },
  {
   "cell_type": "code",
   "execution_count": null,
   "id": "e9eee7d3-1fb3-4fb1-930a-1bdba37ba84e",
   "metadata": {},
   "outputs": [],
   "source": [
    "project_table2.projectid.nunique(), project_table2.projname.nunique(), project_table2.description.nunique()"
   ]
  },
  {
   "cell_type": "code",
   "execution_count": null,
   "id": "7fd6ca9a-cc78-44b9-bcad-1b979e8a5c22",
   "metadata": {},
   "outputs": [],
   "source": [
    "    project_table2.projectid.value_counts().head()"
   ]
  },
  {
   "cell_type": "code",
   "execution_count": null,
   "id": "03125a4e-8cdd-403a-b3c5-6ccc236dbd39",
   "metadata": {},
   "outputs": [],
   "source": [
    "project_table2.projectid.nunique(), project_table2.projname.nunique(), project_table2.description.nunique()"
   ]
  },
  {
   "cell_type": "code",
   "execution_count": null,
   "id": "e2e9dd64-c9ee-4df1-b61d-025065cf8259",
   "metadata": {},
   "outputs": [],
   "source": [
    "project_table.loc[project_table.projectid == \"0200020286\"].drop(columns=dont_preview)"
   ]
  },
  {
   "cell_type": "code",
   "execution_count": null,
   "id": "5a623c74-a0db-48d0-98bf-73744f541d60",
   "metadata": {},
   "outputs": [],
   "source": [
    "project_table2.loc[project_table2.projectid == \"0200020286\"].drop(columns=\"description\")"
   ]
  },
  {
   "cell_type": "code",
   "execution_count": null,
   "id": "87348d6a-525f-481b-b457-550901e20324",
   "metadata": {},
   "outputs": [],
   "source": [
    "project_table2.loc[project_table2.projectid == \"LppcC1Fy17206507Pp19\"].drop(\n",
    "    columns=\"description\"\n",
    ")"
   ]
  },
  {
   "cell_type": "code",
   "execution_count": null,
   "id": "ce188929-b8bc-4acd-80df-7e10b6d80ac2",
   "metadata": {},
   "outputs": [],
   "source": [
    "project_table2.loc[project_table2.projectid == \"TcepC1Fy17206249Pp10\"].drop(\n",
    "    columns=\"description\"\n",
    ")"
   ]
  },
  {
   "cell_type": "markdown",
   "id": "02989f7a-b78a-4390-b153-f7a3682b4feb",
   "metadata": {},
   "source": [
    "### Separate out SB1 based on our table schema"
   ]
  },
  {
   "cell_type": "code",
   "execution_count": null,
   "id": "36b42703-90f6-42b3-8a4e-95807d7eed0b",
   "metadata": {},
   "outputs": [],
   "source": [
    "def merge(df: pd.DataFrame, subset_cols: list):\n",
    "    df2 = df[subset_cols]\n",
    "    display(\n",
    "        pd.merge(df, df2, on=subset_cols, how=\"inner\", indicator=True)[\n",
    "            [\"_merge\"]\n",
    "        ].value_counts()\n",
    "    )\n",
    "    return df2"
   ]
  },
  {
   "cell_type": "markdown",
   "id": "fc043281-e587-42c1-a3f5-efa284412ae1",
   "metadata": {},
   "source": [
    "#### Assembly Districts"
   ]
  },
  {
   "cell_type": "code",
   "execution_count": null,
   "id": "92637342-cc6a-475c-987a-78151ef012f2",
   "metadata": {},
   "outputs": [],
   "source": [
    "assembly_subset = [\n",
    "    \"objectid\",\n",
    "    \"projectid\",\n",
    "    \"projname\",\n",
    "    \"projagency\",\n",
    "    \"assemblycode\",\n",
    "    \"assemblydistrict\",\n",
    "]"
   ]
  },
  {
   "cell_type": "code",
   "execution_count": null,
   "id": "88a6100c-69d1-42bb-94e8-95784ab0f714",
   "metadata": {},
   "outputs": [],
   "source": [
    "sb1_df1.columns"
   ]
  },
  {
   "cell_type": "code",
   "execution_count": null,
   "id": "a4003904-96e2-4eac-bd20-d487ef1f8809",
   "metadata": {},
   "outputs": [],
   "source": [
    "assembly_df = merge(sb1_df1, assembly_subset)"
   ]
  },
  {
   "cell_type": "code",
   "execution_count": null,
   "id": "7d787b4b-4569-4338-b20e-66b001a85c5d",
   "metadata": {},
   "outputs": [],
   "source": [
    "assembly_df.sample(3)"
   ]
  },
  {
   "cell_type": "markdown",
   "id": "e8ba98f9-824a-4109-88e1-9b7785126569",
   "metadata": {},
   "source": [
    "#### Awards"
   ]
  },
  {
   "cell_type": "code",
   "execution_count": null,
   "id": "489bb001-46e5-42e7-8534-71515c855691",
   "metadata": {},
   "outputs": [],
   "source": [
    "sb1_df1.columns"
   ]
  },
  {
   "cell_type": "code",
   "execution_count": null,
   "id": "cc37c7d7-80a8-48e0-a514-4ff14b7038a7",
   "metadata": {},
   "outputs": [],
   "source": [
    "awards_subset = [\n",
    "    \"objectid\",\n",
    "    \"projectid\",\n",
    "    \"projname\",\n",
    "    \"projagency\",\n",
    "    \"projprogcode\",\n",
    "    \"projprogram\",\n",
    "    \"multiprogfunded\",\n",
    "]"
   ]
  },
  {
   "cell_type": "code",
   "execution_count": null,
   "id": "188fe7d9-3e87-4239-9bfa-7d2d0561ac08",
   "metadata": {},
   "outputs": [],
   "source": [
    "awards_df = merge(sb1_df1, awards_subset)"
   ]
  },
  {
   "cell_type": "code",
   "execution_count": null,
   "id": "53d12a10-7b90-436f-abf2-e167679b3957",
   "metadata": {},
   "outputs": [],
   "source": [
    "awards_df.projprogram.value_counts()"
   ]
  },
  {
   "cell_type": "markdown",
   "id": "22d227d2-462f-47d3-8165-f55301313ffb",
   "metadata": {},
   "source": [
    "#### County"
   ]
  },
  {
   "cell_type": "code",
   "execution_count": null,
   "id": "104793ba-80b9-44fd-bda3-e533188a0700",
   "metadata": {},
   "outputs": [],
   "source": [
    "county_subset = [\n",
    "    \"objectid\",\n",
    "    \"projectid\",\n",
    "    \"projname\",\n",
    "    \"projagency\",\n",
    "    \"countyname\",\n",
    "    \"countycode\",\n",
    "]"
   ]
  },
  {
   "cell_type": "code",
   "execution_count": null,
   "id": "c16ba1cb-b2d5-42fc-bc1a-8641519caff8",
   "metadata": {},
   "outputs": [],
   "source": [
    "county_df = merge(sb1_df1, county_subset)"
   ]
  },
  {
   "cell_type": "code",
   "execution_count": null,
   "id": "8c5eb6ab-9a9c-4bb1-82e5-49afb7e3879d",
   "metadata": {},
   "outputs": [],
   "source": [
    "county_df.sample(3)"
   ]
  },
  {
   "cell_type": "markdown",
   "id": "d78ffda2-8b92-4d3f-9efa-4f89453e7863",
   "metadata": {},
   "source": [
    "#### City"
   ]
  },
  {
   "cell_type": "code",
   "execution_count": null,
   "id": "9b14db81-d362-47c6-a87d-31c99fd95a35",
   "metadata": {},
   "outputs": [],
   "source": [
    "city_subset = [\n",
    "    \"objectid\",\n",
    "    \"projectid\",\n",
    "    \"projname\",\n",
    "    \"projagency\",\n",
    "    \"cityname\",\n",
    "    \"citycode\",\n",
    "]"
   ]
  },
  {
   "cell_type": "code",
   "execution_count": null,
   "id": "11c163a0-9d43-409b-85d8-99ff4d3f3390",
   "metadata": {},
   "outputs": [],
   "source": [
    "city_df = merge(sb1_df1, city_subset)"
   ]
  },
  {
   "cell_type": "markdown",
   "id": "e1bc5532-9433-4292-89c6-324057060466",
   "metadata": {},
   "source": [
    "#### Senate District"
   ]
  },
  {
   "cell_type": "code",
   "execution_count": null,
   "id": "80e67da3-05a2-4fbf-ade4-2478d49281fe",
   "metadata": {},
   "outputs": [],
   "source": [
    "sb1_df1.columns"
   ]
  },
  {
   "cell_type": "code",
   "execution_count": null,
   "id": "e237a21d-db21-4a59-bf3c-d216c9d3a524",
   "metadata": {},
   "outputs": [],
   "source": [
    "senate_subset = [\n",
    "    \"objectid\",\n",
    "    \"projectid\",\n",
    "    \"projname\",\n",
    "    \"projagency\",\n",
    "    \"senatedistrict\",\n",
    "    \"senatecode\",\n",
    "]"
   ]
  },
  {
   "cell_type": "code",
   "execution_count": null,
   "id": "dfcd4081-a4f4-4e48-92b4-05764d94d58e",
   "metadata": {},
   "outputs": [],
   "source": [
    "senate_df = merge(sb1_df1, senate_subset)"
   ]
  },
  {
   "cell_type": "markdown",
   "id": "f3a4b55b-9a5d-4424-bf32-0bb96f4cb9dd",
   "metadata": {},
   "source": [
    "#### Geometry"
   ]
  },
  {
   "cell_type": "code",
   "execution_count": null,
   "id": "1a318b26-749c-4a11-abc3-f81a7a480c9d",
   "metadata": {},
   "outputs": [],
   "source": [
    "geo_subset = [\"objectid\", \"projectid\", \"projname\", \"projagency\", \"geometry\"]"
   ]
  },
  {
   "cell_type": "code",
   "execution_count": null,
   "id": "b578a75d-f86c-4598-b1e2-0b9ae051fc14",
   "metadata": {},
   "outputs": [],
   "source": [
    "gdf = merge(sb1_df1, geo_subset)"
   ]
  },
  {
   "cell_type": "code",
   "execution_count": null,
   "id": "7c0d3db6-4a83-4889-9ac3-dc9c0799c019",
   "metadata": {},
   "outputs": [],
   "source": [
    "type(gdf)"
   ]
  },
  {
   "cell_type": "markdown",
   "id": "ea6c795c-32de-413f-aaf8-682a33d6d3e1",
   "metadata": {},
   "source": [
    "#### Project Base Table"
   ]
  },
  {
   "cell_type": "code",
   "execution_count": null,
   "id": "425ab7ca-8978-425a-bec5-4f80f1ba5265",
   "metadata": {},
   "outputs": [],
   "source": [
    "project_subset = [\n",
    "    \"objectid\",\n",
    "    \"projectid\",\n",
    "    \"projname\",\n",
    "    \"description\",\n",
    "    \"cost\",\n",
    "    \"totalcosts\",\n",
    "    \"routes\",\n",
    "    \"costfull\",\n",
    "    \"projagency\",\n",
    "    \"appagencyname\",\n",
    "    \"impagencyname\",\n",
    "]"
   ]
  },
  {
   "cell_type": "code",
   "execution_count": null,
   "id": "8f90b9d5-6d35-4854-b5e3-eb548f6edbfb",
   "metadata": {},
   "outputs": [],
   "source": [
    "project_df = sb1_df1[project_subset]"
   ]
  },
  {
   "cell_type": "code",
   "execution_count": null,
   "id": "a06a45c9-d488-4189-bd61-59f04c68672f",
   "metadata": {
    "scrolled": true,
    "tags": []
   },
   "outputs": [],
   "source": [
    "# project_df.sample(100)"
   ]
  },
  {
   "cell_type": "markdown",
   "id": "d55f7d87-fe27-4afd-8cf1-3d1119fe5a32",
   "metadata": {},
   "source": [
    "#### Phase Funding"
   ]
  },
  {
   "cell_type": "code",
   "execution_count": null,
   "id": "57e7241e-3630-4c7c-936e-e906699adf84",
   "metadata": {},
   "outputs": [],
   "source": [
    "phase_subset = [\n",
    "    \"objectid\",\n",
    "    \"projectid\",\n",
    "    \"projname\",\n",
    "    \"projstatus\",\n",
    "    \"projagency\",\n",
    "    \"constyear\",\n",
    "]"
   ]
  },
  {
   "cell_type": "code",
   "execution_count": null,
   "id": "9bc86fa4-3a9c-4e26-8334-41c88e896c35",
   "metadata": {},
   "outputs": [],
   "source": [
    "phase_df = merge(sb1_df1, phase_subset)"
   ]
  },
  {
   "cell_type": "code",
   "execution_count": null,
   "id": "169c9cbf-8810-4321-9981-65061902c5e2",
   "metadata": {},
   "outputs": [],
   "source": [
    "phase_df.head()"
   ]
  },
  {
   "cell_type": "code",
   "execution_count": null,
   "id": "e17b3d5f-a38f-4ebd-890c-7bcaff24e10c",
   "metadata": {},
   "outputs": [],
   "source": [
    "url_pt1 = \"https://odpsvcs.dot.ca.gov/arcgis/rest/services/RCA/RCA_Projects_092023/FeatureServer/\""
   ]
  },
  {
   "cell_type": "code",
   "execution_count": null,
   "id": "0f249d5a-2024-4430-be15-41111e2d24b8",
   "metadata": {},
   "outputs": [],
   "source": [
    "url_pt2 = \"/query?where=1%3D1&objectIds=&time=&geometry=&geometryType=esriGeometryEnvelope&inSR=&spatialRel=esriSpatialRelIntersects&distance=&units=esriSRUnit_Foot&relationParam=&outFields=*+&returnGeometry=true&maxAllowableOffset=&geometryPrecision=&outSR=&gdbVersion=&historicMoment=&returnDistinctValues=false&returnIdsOnly=false&returnCountOnly=false&returnExtentOnly=false&orderByFields=&groupByFieldsForStatistics=&outStatistics=&returnZ=false&returnM=false&multipatchOption=&resultOffset=&resultRecordCount=&returnTrueCurves=false&sqlFormat=none&f=geojson\""
   ]
  },
  {
   "cell_type": "code",
   "execution_count": null,
   "id": "6a2aedac-dc9e-4f74-83ad-d430cc90986f",
   "metadata": {},
   "outputs": [],
   "source": [
    "int_to_string = list(map(str, [*range(0, 28)]))"
   ]
  },
  {
   "cell_type": "code",
   "execution_count": null,
   "id": "fcca6479-bf48-4032-b6fe-a32bc1a0b164",
   "metadata": {
    "scrolled": true,
    "tags": []
   },
   "outputs": [],
   "source": [
    "full_gdf = pd.DataFrame()\n",
    "for i in int_to_string:\n",
    "    df = to_snakecase(gpd.read_file(f\"{url_pt1}{i}{url_pt2}\"))\n",
    "    full_gdf = pd.concat([full_gdf, df], axis=0)"
   ]
  },
  {
   "cell_type": "code",
   "execution_count": null,
   "id": "3b80765a-5b46-4c8a-9769-acfdf40b9ec7",
   "metadata": {},
   "outputs": [],
   "source": [
    "full_gdf.shape"
   ]
  },
  {
   "cell_type": "code",
   "execution_count": null,
   "id": "bd86047d-72a8-43f9-98ae-1f124e34b1f3",
   "metadata": {},
   "outputs": [],
   "source": [
    "full_gdf.shape, sb1_df1.shape"
   ]
  },
  {
   "cell_type": "markdown",
   "id": "4abd76e2-50d0-43d0-84e9-84150579a2f6",
   "metadata": {},
   "source": [
    "#### Compare"
   ]
  },
  {
   "cell_type": "code",
   "execution_count": null,
   "id": "673b736b-7429-4511-ab8f-d9a6d806d074",
   "metadata": {},
   "outputs": [],
   "source": [
    "full_gdf.columns"
   ]
  },
  {
   "cell_type": "code",
   "execution_count": null,
   "id": "b1fd0977-c490-4a01-a3a9-49e90e91a012",
   "metadata": {},
   "outputs": [],
   "source": [
    "full_gdf2 = full_gdf[\n",
    "    [\"projecttitle\", \"projectdescription\", \"countycodes\", \"ct_districts\"]\n",
    "]"
   ]
  },
  {
   "cell_type": "code",
   "execution_count": null,
   "id": "d33b713d-bc5e-48a3-8441-6a7ea6689002",
   "metadata": {},
   "outputs": [],
   "source": [
    "sb1_df1.columns"
   ]
  },
  {
   "cell_type": "code",
   "execution_count": null,
   "id": "0e27d7f3-5e22-491d-822f-526c4f27089c",
   "metadata": {},
   "outputs": [],
   "source": [
    "sb1_df2 = sb1_df1[[\"projname\", \"projagency\", \"description\", \"countycode\"]]"
   ]
  },
  {
   "cell_type": "code",
   "execution_count": null,
   "id": "c85e7c28-9ca0-4d6a-ad08-1174676d6f48",
   "metadata": {},
   "outputs": [],
   "source": [
    "pd.merge(\n",
    "    sb1_df2,\n",
    "    full_gdf2,\n",
    "    left_on=[\"projname\", \"description\", \"countycode\"],\n",
    "    right_on=[\"projecttitle\", \"projectdescription\", \"countycodes\"],\n",
    "    how=\"outer\",\n",
    "    indicator=True,\n",
    ")[[\"_merge\"]].value_counts()"
   ]
  },
  {
   "cell_type": "code",
   "execution_count": null,
   "id": "ce5115bf-9f02-47b9-9fa5-86bd3371c896",
   "metadata": {},
   "outputs": [],
   "source": [
    "pd.merge(\n",
    "    sb1_df2,\n",
    "    full_gdf2,\n",
    "    left_on=[\"projname\", \"description\"],\n",
    "    right_on=[\"projecttitle\", \"projectdescription\"],\n",
    "    how=\"outer\",\n",
    "    indicator=True,\n",
    ")[[\"_merge\"]].value_counts()"
   ]
  },
  {
   "cell_type": "code",
   "execution_count": null,
   "id": "62679591-eac5-429b-999b-630e77cc9735",
   "metadata": {},
   "outputs": [],
   "source": [
    "pd.merge(\n",
    "    sb1_df2,\n",
    "    full_gdf2,\n",
    "    left_on=[\"projname\", \"countycode\"],\n",
    "    right_on=[\"projecttitle\", \"countycodes\"],\n",
    "    how=\"outer\",\n",
    "    indicator=True,\n",
    ")[[\"_merge\"]].value_counts()"
   ]
  },
  {
   "cell_type": "code",
   "execution_count": null,
   "id": "629b5faf-1278-41cb-9c62-ebea1a730848",
   "metadata": {},
   "outputs": [],
   "source": [
    "url_pt1 = \"https://odpsvcs.dot.ca.gov/arcgis/rest/services/RCA/RCA_Projects_032022/FeatureServer/\"\n",
    "url_pt2 = \"/query?where=1%3D1&objectIds=&time=&geometry=&geometryType=esriGeometryEnvelope&inSR=&spatialRel=esriSpatialRelIntersects&distance=&units=esriSRUnit_Foot&relationParam=&outFields=*+&returnGeometry=true&maxAllowableOffset=&geometryPrecision=&outSR=&gdbVersion=&historicMoment=&returnDistinctValues=false&returnIdsOnly=false&returnCountOnly=false&returnExtentOnly=false&orderByFields=&groupByFieldsForStatistics=&outStatistics=&returnZ=false&returnM=false&multipatchOption=&resultOffset=&resultRecordCount=&returnTrueCurves=false&sqlFormat=none&f=geojson\""
   ]
  },
  {
   "cell_type": "code",
   "execution_count": null,
   "id": "c30d39fb-1ff7-4160-af7e-1360d0806d50",
   "metadata": {},
   "outputs": [],
   "source": [
    "def sb1_basic_cleaning(\n",
    "    gdf: gpd.GeoDataFrame, project_name_col: str\n",
    ") -> gpd.GeoDataFrame:\n",
    "    \"\"\"\n",
    "    Perform basic cleaning before joining\n",
    "    SB1 & Non SHOPP data together.\n",
    "    \"\"\"\n",
    "    # Some project names contain the year. Remove anything after 20..\n",
    "    gdf[project_name_col] = gdf[project_name_col].str.split(\"20\").str[0]\n",
    "\n",
    "    # Get rid of | in object cols\n",
    "    # https://stackoverflow.com/questions/68152902/extracting-only-object-type-columns-in-a-separate-list-from-a-data-frame-in-pand\n",
    "    string_cols = gdf.select_dtypes(include=[\"object\"]).columns.to_list()\n",
    "    try:\n",
    "        for i in string_cols:\n",
    "            gdf[i] = (\n",
    "                gdf[i]\n",
    "                .str.replace(\"|\", \"\")\n",
    "                .str.lower()\n",
    "                .str.replace(\"[^\\w\\s]\", \"\")\n",
    "                .str.strip()\n",
    "            )\n",
    "    except:\n",
    "        pass\n",
    "\n",
    "    # Try to extract titles from popups\n",
    "    try:\n",
    "        df[\"popup\"] = (\n",
    "            df[\"popup\"]\n",
    "            .str.split(\"<br  />\")\n",
    "            .str[1]\n",
    "            .str.split(\"20\")\n",
    "            .str[0]\n",
    "            .str.lower()\n",
    "            .str.strip()\n",
    "            .str.replace(\"[^\\w\\s]\", \"\")\n",
    "        )\n",
    "    except:\n",
    "        pass\n",
    "\n",
    "    return gdf"
   ]
  },
  {
   "cell_type": "code",
   "execution_count": null,
   "id": "fe57ecfb-fd8c-4008-87c2-1f5a3c26d746",
   "metadata": {},
   "outputs": [],
   "source": [
    "def load_sb1_all_projects() -> pd.DataFrame:\n",
    "    \"\"\"\n",
    "    Load in all projects layer of SB1 because it\n",
    "    contains a value for every row in the\n",
    "    project title column.\n",
    "    \"\"\"\n",
    "    df = f\"{url_pt1}22{url_pt2}\"\n",
    "\n",
    "    df = to_snakecase(gpd.read_file(df))\n",
    "\n",
    "    # No geometry, just drop it\n",
    "    df = df.drop(columns=[\"geometry\"])\n",
    "\n",
    "    # Basic cleaning\n",
    "    df = sb1_basic_cleaning(\n",
    "        df, \"implementingagency\", \"projecttitle\", \"projectid\", \"projectdescription\"\n",
    "    )\n",
    "\n",
    "    return df"
   ]
  },
  {
   "cell_type": "code",
   "execution_count": null,
   "id": "a9ad9c79-56b3-4400-9697-b7efccfe1db0",
   "metadata": {},
   "outputs": [],
   "source": [
    "def sb1_final() -> gpd.GeoDataFrame:\n",
    "    \"\"\"\n",
    "    Layers 0-21 with geographic information\n",
    "    don't always have project titles for each\n",
    "    of the projects. Merge these layers with\n",
    "    layer 22, which does have title information.\n",
    "    \"\"\"\n",
    "    all_projects_subset = [\n",
    "        \"projecttitle\",\n",
    "        \"programcodes\",\n",
    "        \"totalcost\",\n",
    "        \"implementingagency\",\n",
    "        \"fiscalyearcode\",\n",
    "    ]\n",
    "\n",
    "    sb1_geo, missing_geo = load_sb1_rest_server()\n",
    "    sb1_all_projects = load_sb1_all_projects()[all_projects_subset]\n",
    "\n",
    "    # Merge\n",
    "    merge1 = pd.merge(\n",
    "        sb1_geo,\n",
    "        sb1_all_projects,\n",
    "        how=\"left\",\n",
    "        left_on=[\"programcodes\", \"totalcost\", \"agencies\", \"fiscalyearcodes\"],\n",
    "        right_on=[\"programcodes\", \"totalcost\", \"implementingagency\", \"fiscalyearcode\"],\n",
    "    )\n",
    "\n",
    "    # Fill in missing project titles in sb1_geo with information from\n",
    "    # sb1_all_projects\n",
    "    merge1.projecttitle_x = merge1.projecttitle_x.fillna(merge1.projecttitle_y)\n",
    "\n",
    "    # Fill missing titles with none\n",
    "    merge1.projecttitle_x = merge1.projecttitle_x.fillna(\"None\")\n",
    "\n",
    "    # Drop columns\n",
    "    merge1 = merge1.drop(columns=[\"projecttitle_y\"])\n",
    "\n",
    "    # Add a new column detailing where this information comes from\n",
    "    merge1 = merge1.assign(notes=merge1.programcodes + \"/\" + \"SB1\")\n",
    "\n",
    "    merge1 = merge1.fillna(merge1.dtypes.replace({\"float64\": 0.0, \"object\": \"None\"}))\n",
    "    return merge1"
   ]
  },
  {
   "cell_type": "code",
   "execution_count": null,
   "id": "bcc62451-98c7-4187-bab3-ad89a039cf75",
   "metadata": {},
   "outputs": [],
   "source": [
    "sb1_final_gdf = sb1_final()"
   ]
  },
  {
   "cell_type": "code",
   "execution_count": null,
   "id": "afbd958b-5836-4789-9372-62edac321165",
   "metadata": {},
   "outputs": [],
   "source": [
    "sb1_final_gdf.projectstatuscodes.value_counts()"
   ]
  },
  {
   "cell_type": "code",
   "execution_count": null,
   "id": "c2af4504-84bc-48b5-85ad-0b0324510590",
   "metadata": {},
   "outputs": [],
   "source": [
    "len(sb1_final_gdf), sb1_final_gdf.geometry.nunique()"
   ]
  },
  {
   "cell_type": "code",
   "execution_count": null,
   "id": "a52f1771-0064-493b-a339-d1dcece8ed2b",
   "metadata": {},
   "outputs": [],
   "source": [
    "sb1_final_gdf.info()"
   ]
  },
  {
   "cell_type": "code",
   "execution_count": null,
   "id": "23f286bd-e22d-4885-8997-1ba4353648a1",
   "metadata": {},
   "outputs": [],
   "source": [
    "sb1_final_gdf.projecttitle_x.value_counts().head(10)"
   ]
  },
  {
   "cell_type": "code",
   "execution_count": null,
   "id": "f2edcfa1-080f-4f09-bd3d-2a72c1e12149",
   "metadata": {},
   "outputs": [],
   "source": [
    "sb1_final_gdf[sb1_final_gdf.projecttitle_x == \"major damage restoration\"].groupby(\n",
    "    [\"projecttitle_x\", \"countynames\"]\n",
    ").agg({\"objectid\": \"count\"}).head()"
   ]
  },
  {
   "cell_type": "code",
   "execution_count": null,
   "id": "218ee516-3050-40dc-ae03-34d4a4e5ff3e",
   "metadata": {},
   "outputs": [],
   "source": [
    "sb1_final_gdf.projectstatuscodes.value_counts()"
   ]
  },
  {
   "cell_type": "code",
   "execution_count": null,
   "id": "61f6be29-f2ab-4f89-9ea7-98c44733ad86",
   "metadata": {},
   "outputs": [],
   "source": [
    "sb1_final_gdf.projectstatuscodes.unique()"
   ]
  },
  {
   "cell_type": "code",
   "execution_count": null,
   "id": "a9b35d63-e309-4bf4-a0bb-c3b15951240b",
   "metadata": {},
   "outputs": [],
   "source": [
    "sb1_final_gdf.projectstatuses.value_counts()"
   ]
  },
  {
   "cell_type": "code",
   "execution_count": null,
   "id": "e7b4eea5-18d9-4f5e-82ec-dfd499c3371e",
   "metadata": {
    "scrolled": true,
    "tags": []
   },
   "outputs": [],
   "source": [
    "sb1_final_gdf[\n",
    "    (sb1_final_gdf.projecttitle_x == \"major damage restoration\")\n",
    "    & (sb1_final_gdf.countynames == \"Alameda\")\n",
    "]"
   ]
  },
  {
   "cell_type": "code",
   "execution_count": null,
   "id": "14887b33-91fd-4ade-8c79-788024fe192f",
   "metadata": {},
   "outputs": [],
   "source": [
    "sb1_final_gdf[\n",
    "    (sb1_final_gdf.projecttitle_x == \"major damage restoration\")\n",
    "    & (sb1_final_gdf.countynames == \"Alameda\")\n",
    "].plot()"
   ]
  },
  {
   "cell_type": "code",
   "execution_count": null,
   "id": "c216f060-648a-4294-b07d-9142d23d6827",
   "metadata": {},
   "outputs": [],
   "source": [
    "# sb1_final_gdf[sb1_final_gdf.projecttitle_x == \"major damage restoration\"].explore()"
   ]
  }
 ],
 "metadata": {
  "kernelspec": {
   "display_name": "Python 3 (ipykernel)",
   "language": "python",
   "name": "python3"
  },
  "language_info": {
   "codemirror_mode": {
    "name": "ipython",
    "version": 3
   },
   "file_extension": ".py",
   "mimetype": "text/x-python",
   "name": "python",
   "nbconvert_exporter": "python",
   "pygments_lexer": "ipython3",
   "version": "3.9.13"
  }
 },
 "nbformat": 4,
 "nbformat_minor": 5
}
