{
 "cells": [
  {
   "cell_type": "markdown",
   "id": "5740e08d-abf3-46b1-92b8-a8ddce585392",
   "metadata": {},
   "source": [
    "## Add State Rail Plan\n",
    "* https://dot.ca.gov/-/media/dot-media/programs/rail-mass-transportation/documents/california-state-rail-plan/20230310-casrp-appendices-final.pdf"
   ]
  },
  {
   "cell_type": "code",
   "execution_count": 1,
   "id": "01336859-33a7-4467-8117-da475df01c71",
   "metadata": {},
   "outputs": [],
   "source": [
    "import _utils\n",
    "import _state_rail_plan_utils as srp_utils\n",
    "import pandas as pd\n",
    "from calitp_data_analysis.sql import to_snakecase"
   ]
  },
  {
   "cell_type": "code",
   "execution_count": 2,
   "id": "c6197d2e-aea2-46e1-9de2-bab8904711ba",
   "metadata": {},
   "outputs": [],
   "source": [
    "pd.options.display.max_columns = 100\n",
    "pd.options.display.float_format = \"{:.2f}\".format\n",
    "pd.set_option(\"display.max_rows\", None)\n",
    "pd.set_option(\"display.max_colwidth\", None)"
   ]
  },
  {
   "cell_type": "code",
   "execution_count": 3,
   "id": "da5fb061-607b-4b7f-85ba-536f3aedb0da",
   "metadata": {},
   "outputs": [],
   "source": [
    "import intake\n",
    "catalog = intake.open_catalog(\"./catalog.yml\")"
   ]
  },
  {
   "cell_type": "code",
   "execution_count": 4,
   "id": "f589da7c-c33e-4175-abfa-f12712d4fa0b",
   "metadata": {},
   "outputs": [],
   "source": [
    "state_rail_plan = \"State Rail Plan/230307_CapitalProjectReview.xlsx\""
   ]
  },
  {
   "cell_type": "code",
   "execution_count": 5,
   "id": "1938ed1e-b4db-4d93-a701-464e0d5ebb3f",
   "metadata": {},
   "outputs": [],
   "source": [
    "state_rail_plan = srp_utils.clean_state_rail_plan(state_rail_plan)"
   ]
  },
  {
   "cell_type": "code",
   "execution_count": 6,
   "id": "ca9d8bd6-9762-49f6-a3b3-3e76a7af7133",
   "metadata": {},
   "outputs": [
    {
     "data": {
      "text/plain": [
       "(276, 11)"
      ]
     },
     "execution_count": 6,
     "metadata": {},
     "output_type": "execute_result"
    }
   ],
   "source": [
    "state_rail_plan.shape"
   ]
  }
 ],
 "metadata": {
  "kernelspec": {
   "display_name": "Python 3 (ipykernel)",
   "language": "python",
   "name": "python3"
  },
  "language_info": {
   "codemirror_mode": {
    "name": "ipython",
    "version": 3
   },
   "file_extension": ".py",
   "mimetype": "text/x-python",
   "name": "python",
   "nbconvert_exporter": "python",
   "pygments_lexer": "ipython3",
   "version": "3.9.13"
  }
 },
 "nbformat": 4,
 "nbformat_minor": 5
}
