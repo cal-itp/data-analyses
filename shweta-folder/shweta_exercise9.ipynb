{
 "cells": [
  {
   "cell_type": "markdown",
   "id": "84872c99-cfe4-4298-b2c1-e968dae374ab",
   "metadata": {},
   "source": [
    "# Exercise 9: series\n",
    "\n",
    "* pandas series vs numpy arrays [explanation](https://jakevdp.github.io/PythonDataScienceHandbook/03.01-introducing-pandas-objects.html)\n",
    "\n",
    "### Common series operations\n",
    "These are the most common series operations we use. Refer to the `pandas` docs for even more!\n",
    "\n",
    "* Getting dates, hours, minutes from datetime types (`df.datetime_col.dt.date`)\n",
    "* Parsing strings (`df.string_col.str.split('_')`)\n",
    "\n",
    "### Common geoseries operations\n",
    "These are the most common. Refer to the `geopandas` docs for even more!\n",
    "\n",
    "* `distance` between 2 points or a point to a polygon or line [docs](https://geopandas.org/en/stable/docs/reference/api/geopandas.GeoSeries.distance.html)\n",
    "* `intersects`: [docs](https://geopandas.org/en/stable/docs/reference/api/geopandas.GeoSeries.intersects.html)\n",
    "* `within`: [docs](https://geopandas.org/en/stable/docs/reference/api/geopandas.GeoSeries.within.html)\n",
    "* `contains`: [docs](https://geopandas.org/en/stable/docs/reference/api/geopandas.GeoSeries.contains.html)\n",
    "\n",
    "In fact, we've often used geoseries methods without even realizing it. Often, we'd create a new column that stores either the line's length or a polygon's area. `gdf.geometry` is a geoseries, and we call methods on that geoseries, and add that as a new column.\n",
    "\n",
    "For calculations like `length`, `area`, and `distance`, we need to use a projected CRS that has units like meters or feet. We cannot use decimal degrees (do not use WGS 84 / `EPSG:4326`)! Distance calculations must be done only once the spherical 3D Earth has been converted into a 2D plane.\n",
    "\n",
    "* `length`: get the length of a line (`gdf.geometry.length`)\n",
    "* `area`: get the area of a polygon (`gdf.geometry.area`)\n",
    "* `centroid`: get the centroid of a polygon (`gdf.geometry.centroid`)\n",
    "* `x`: get the x coordinate of a point (`gdf.geometry.x`)\n",
    "* `y`: get the y coordinate of a point (`gdf.geometry.y`)\n",
    "\n",
    "### Arrays\n",
    "* Occasionally, we may even use arrays, especially when the datasets get even larger but we have simple mathematical calculations\n",
    "* If we need to apply an exponential decay function to a distance column, we essentially want to multiple `distance` by some number\n",
    "* Since this exponential decay function is somewhat custom and requires us to write our own formula, we would extract the column as a series (`df.distance`) and multiply each value by some other number.\n",
    "* Even quicker is to use `numpy` with `distance_array = np.array(df.distance)` and get `exponential_array = distance_array*some_number`"
   ]
  },
  {
   "cell_type": "code",
   "execution_count": 1,
   "id": "857e8b4d-efc3-4919-85da-6af600d4a39c",
   "metadata": {},
   "outputs": [],
   "source": [
    "import geopandas as gpd\n",
    "import intake\n",
    "import numpy as np\n",
    "import pandas as pd\n",
    "\n",
    "\n",
    "catalog = intake.open_catalog(\n",
    "    \"../_shared_utils/shared_utils/shared_data_catalog.yml\")"
   ]
  },
  {
   "cell_type": "markdown",
   "id": "0aac8643-45b0-47c6-af66-7e718942f82d",
   "metadata": {},
   "source": [
    "If you're asking how far is a transit stop from the interstate, you'd want the distance of every point (every row) compared to an interstate highway geometry.\n",
    "\n",
    "Let's prep the datasets to use series / geoseries to do this."
   ]
  },
  {
   "cell_type": "code",
   "execution_count": 2,
   "id": "4769438c-5b5d-4e94-b214-cda4fbedd13e",
   "metadata": {},
   "outputs": [],
   "source": [
    "stops = catalog.ca_transit_stops.read()[[\"agency\", \"stop_id\", \n",
    "                                         \"stop_name\", \"geometry\"]]\n",
    "highways = catalog.state_highway_network.read()"
   ]
  },
  {
   "cell_type": "markdown",
   "id": "2e8d2b6e-8f36-4469-8e44-17ac5c17002b",
   "metadata": {},
   "source": [
    "Since we want to know the distance from a stop's point to the interstate generally, we need a dissolve. We don't want to compare the distance against the I-5, the I-10 individually, but to the interstate system as a whole."
   ]
  },
  {
   "cell_type": "code",
   "execution_count": 3,
   "id": "3f018c30-e3db-4092-bf47-9bcae8a726a8",
   "metadata": {},
   "outputs": [
    {
     "data": {
      "text/html": [
       "<div>\n",
       "<style scoped>\n",
       "    .dataframe tbody tr th:only-of-type {\n",
       "        vertical-align: middle;\n",
       "    }\n",
       "\n",
       "    .dataframe tbody tr th {\n",
       "        vertical-align: top;\n",
       "    }\n",
       "\n",
       "    .dataframe thead th {\n",
       "        text-align: right;\n",
       "    }\n",
       "</style>\n",
       "<table border=\"1\" class=\"dataframe\">\n",
       "  <thead>\n",
       "    <tr style=\"text-align: right;\">\n",
       "      <th></th>\n",
       "      <th>Route</th>\n",
       "      <th>County</th>\n",
       "      <th>District</th>\n",
       "      <th>RouteType</th>\n",
       "      <th>Direction</th>\n",
       "      <th>geometry</th>\n",
       "    </tr>\n",
       "  </thead>\n",
       "  <tbody>\n",
       "    <tr>\n",
       "      <th>0</th>\n",
       "      <td>1</td>\n",
       "      <td>LA</td>\n",
       "      <td>7</td>\n",
       "      <td>State</td>\n",
       "      <td>NB</td>\n",
       "      <td>MULTILINESTRING ((-118.14322 33.79010, -118.14...</td>\n",
       "    </tr>\n",
       "    <tr>\n",
       "      <th>1</th>\n",
       "      <td>1</td>\n",
       "      <td>LA</td>\n",
       "      <td>7</td>\n",
       "      <td>State</td>\n",
       "      <td>SB</td>\n",
       "      <td>MULTILINESTRING ((-118.39630 33.94454, -118.39...</td>\n",
       "    </tr>\n",
       "  </tbody>\n",
       "</table>\n",
       "</div>"
      ],
      "text/plain": [
       "   Route County  District RouteType Direction  \\\n",
       "0      1     LA         7     State        NB   \n",
       "1      1     LA         7     State        SB   \n",
       "\n",
       "                                            geometry  \n",
       "0  MULTILINESTRING ((-118.14322 33.79010, -118.14...  \n",
       "1  MULTILINESTRING ((-118.39630 33.94454, -118.39...  "
      ]
     },
     "execution_count": 3,
     "metadata": {},
     "output_type": "execute_result"
    }
   ],
   "source": [
    "highways.head(2)"
   ]
  },
  {
   "cell_type": "code",
   "execution_count": 4,
   "id": "87324210-da50-4973-b652-703355bc8407",
   "metadata": {},
   "outputs": [],
   "source": [
    "interstates = (highways[highways.RouteType==\"Interstate\"]\n",
    "               .dissolve()\n",
    "               .reset_index()\n",
    "               [[\"geometry\"]]\n",
    "              )"
   ]
  },
  {
   "cell_type": "code",
   "execution_count": 5,
   "id": "93b966ed-3115-425d-8521-1d98403a526c",
   "metadata": {},
   "outputs": [
    {
     "data": {
      "text/plain": [
       "geopandas.geodataframe.GeoDataFrame"
      ]
     },
     "execution_count": 5,
     "metadata": {},
     "output_type": "execute_result"
    }
   ],
   "source": [
    "# This is still a gdf, just with 1 column\n",
    "type(interstates)"
   ]
  },
  {
   "cell_type": "code",
   "execution_count": 6,
   "id": "6d77f3c0-d520-4d90-a7ee-8466b26daf28",
   "metadata": {},
   "outputs": [
    {
     "name": "stdout",
     "output_type": "stream",
     "text": [
      "<class 'geopandas.geoseries.GeoSeries'>\n",
      "<class 'geopandas.geoseries.GeoSeries'>\n"
     ]
    }
   ],
   "source": [
    "# Pulling out the individual column, it becomes a series/geoseries.\n",
    "# It's a geoseries here because we had a gdf. \n",
    "# If it was a df, it would be a series.\n",
    "print(type(stops.geometry))\n",
    "print(type(interstates.geometry))"
   ]
  },
  {
   "cell_type": "markdown",
   "id": "76e590eb-aeaf-437f-a5b7-5b6947dd34cc",
   "metadata": {},
   "source": [
    "Distance is something you can calculate using `geopandas`.\n",
    "\n",
    "Specifically, it takes a geoseries on the left, and either a geoseries or a single geometry on the right.\n",
    "\n",
    "An example of having 2 geoseries would be comparing the distance between 2 points. On the left, it would be a geoseries of the origin points and on the right, destination points."
   ]
  },
  {
   "cell_type": "code",
   "execution_count": 7,
   "id": "98652a57-47f1-4fce-940d-01530e6c112d",
   "metadata": {},
   "outputs": [
    {
     "name": "stderr",
     "output_type": "stream",
     "text": [
      "/tmp/ipykernel_414/2451250416.py:2: UserWarning: Geometry is in a geographic CRS. Results from 'distance' are likely incorrect. Use 'GeoSeries.to_crs()' to re-project geometries to a projected CRS before this operation.\n",
      "\n",
      "  stops.geometry.distance(interstates.geometry.iloc[0])\n"
     ]
    },
    {
     "data": {
      "text/plain": [
       "0         0.023029\n",
       "1         0.024552\n",
       "2         0.027300\n",
       "3         0.026145\n",
       "4         0.023530\n",
       "            ...   \n",
       "124173    0.294958\n",
       "124174    0.293110\n",
       "124175    0.292390\n",
       "124176    0.293875\n",
       "124177    0.291830\n",
       "Length: 124178, dtype: float64"
      ]
     },
     "execution_count": 7,
     "metadata": {},
     "output_type": "execute_result"
    }
   ],
   "source": [
    "# We get a warning if we leave it in EPSG:4326!\n",
    "stops.geometry.distance(interstates.geometry.iloc[0])"
   ]
  },
  {
   "cell_type": "code",
   "execution_count": 8,
   "id": "01f76443-ff98-4340-bc40-5ee42c5534be",
   "metadata": {},
   "outputs": [],
   "source": [
    "stops_geom = stops.to_crs(\"EPSG:2229\").geometry\n",
    "interstates_geom = interstates.to_crs(\"EPSG:2229\").geometry.iloc[0]"
   ]
  },
  {
   "cell_type": "code",
   "execution_count": 9,
   "id": "1cc464f7-3f5f-4b60-9ab8-0e24cbf02c5d",
   "metadata": {},
   "outputs": [],
   "source": [
    "distance_series = stops_geom.distance(interstates_geom)"
   ]
  },
  {
   "cell_type": "code",
   "execution_count": 10,
   "id": "f7aff458-964e-4b07-aed7-49bad17a90a1",
   "metadata": {},
   "outputs": [
    {
     "name": "stdout",
     "output_type": "stream",
     "text": [
      "# rows in stops: 124178\n",
      "# rows in stops: 124178\n"
     ]
    }
   ],
   "source": [
    "# Let's make sure that for every stop, a distance is calculated\n",
    "print(f\"# rows in stops: {len(stops_geom)}\")\n",
    "print(f\"# rows in stops: {len(distance_series)}\")"
   ]
  },
  {
   "cell_type": "code",
   "execution_count": 11,
   "id": "0dd7a990-e28b-4927-8215-b7255e450730",
   "metadata": {},
   "outputs": [
    {
     "data": {
      "text/plain": [
       "pandas.core.series.Series"
      ]
     },
     "execution_count": 11,
     "metadata": {},
     "output_type": "execute_result"
    }
   ],
   "source": [
    "# distance is numeric, not a geometry, so we're back to being a series\n",
    "type(distance_series)"
   ]
  },
  {
   "cell_type": "markdown",
   "id": "c264d096-fbc3-4450-9f9c-1bf11b805267",
   "metadata": {},
   "source": [
    "What can we do with this? \n",
    "\n",
    "We usually add it as a new column. Since we did nothing to shift the index, we can just attach the series back to our gdf.\n",
    "\n",
    "Getting a distance calculation using geoseries is much quicker than a row-wise lambda function where you calculate the distance.\n",
    "\n",
    "```\n",
    "Alternative method that's slower:\n",
    "      \n",
    "interstate_geom = interstates.geometry.iloc[0]\n",
    "\n",
    "stops = stops.assign(\n",
    "   distance = stops.geometry.apply(\n",
    "         lambda x: x.distance(interstate_geom))\n",
    ")   \n",
    "```"
   ]
  },
  {
   "cell_type": "code",
   "execution_count": 12,
   "id": "7609c11a-be1d-491d-a6ef-a6418b90d821",
   "metadata": {},
   "outputs": [],
   "source": [
    "stops = stops.assign(\n",
    "    distance_to_interstate = distance_series\n",
    ")"
   ]
  },
  {
   "cell_type": "code",
   "execution_count": 13,
   "id": "4990dead-00a1-482f-ac6b-26b31e7289fb",
   "metadata": {},
   "outputs": [
    {
     "name": "stdout",
     "output_type": "stream",
     "text": [
      "25.8 s ± 209 ms per loop (mean ± std. dev. of 7 runs, 1 loop each)\n"
     ]
    }
   ],
   "source": [
    "%%timeit\n",
    "distance_series = stops_geom.distance(interstates_geom)"
   ]
  },
  {
   "cell_type": "code",
   "execution_count": 14,
   "id": "955c45f0-bf8b-41f5-a2c8-7dfcc2513463",
   "metadata": {},
   "outputs": [
    {
     "name": "stdout",
     "output_type": "stream",
     "text": [
      "39.8 s ± 1.68 s per loop (mean ± std. dev. of 7 runs, 1 loop each)\n"
     ]
    }
   ],
   "source": [
    "%%timeit\n",
    "stops.assign(\n",
    "   distance = stops.geometry.apply(\n",
    "         lambda x: x.distance(interstates_geom))\n",
    ")   "
   ]
  },
  {
   "cell_type": "code",
   "execution_count": 15,
   "id": "9ef4ec02-0486-4103-87a0-4d41a1520318",
   "metadata": {},
   "outputs": [],
   "source": [
    "import dask_geopandas as dg\n",
    "\n",
    "stops_gddf = dg.from_geopandas(stops, npartitions=2)\n",
    "stops_geom_dg = stops_gddf.to_crs(\"EPSG:2229\").geometry"
   ]
  },
  {
   "cell_type": "code",
   "execution_count": 16,
   "id": "6a486f4a-4ddf-4a2a-83d0-454fd4684e73",
   "metadata": {},
   "outputs": [
    {
     "name": "stdout",
     "output_type": "stream",
     "text": [
      "2.12 ms ± 189 µs per loop (mean ± std. dev. of 7 runs, 100 loops each)\n"
     ]
    }
   ],
   "source": [
    "%%timeit\n",
    "\n",
    "distance_series = stops_geom_dg.distance(interstates_geom)"
   ]
  },
  {
   "cell_type": "markdown",
   "id": "fd487060-64f6-46f0-b600-f0856957077b",
   "metadata": {},
   "source": [
    "## To Do\n",
    "\n",
    "* Use the `stop_times` table and `stops` table.\n",
    "* Calculate the straight line distance between the first and last stop for each trip. Call this column `trip_distance`\n",
    "* Calculate the distance between each stop to the nearest interstate. For each trip, keep the value for the stop that's the closest to the interstate. Call this column `shortest_distance_hwy`.\n",
    "* For each trip, add these 2 new columns, but use series, geoseries, and/or arrays to assign it.\n",
    "* Provide a preview of the resulting df (do not export)"
   ]
  },
  {
   "cell_type": "code",
   "execution_count": 17,
   "id": "9382c83d-d0d7-462d-bd64-3854d6f5325e",
   "metadata": {},
   "outputs": [],
   "source": [
    "GCS_FILE_PATH = (\"gs://calitp-analytics-data/data-analyses/\"\n",
    "                 \"rt_delay/compiled_cached_views/\"\n",
    "                )\n",
    "\n",
    "analysis_date = \"2023-01-18\"\n",
    "STOP_TIMES_FILE = f\"{GCS_FILE_PATH}st_{analysis_date}.parquet\"\n",
    "STOPS_FILE = f\"{GCS_FILE_PATH}stops_{analysis_date}.parquet\"\n",
    "highways = catalog.state_highway_network.read()"
   ]
  },
  {
   "cell_type": "code",
   "execution_count": 18,
   "id": "40679d08-9805-4da3-bca4-9c00cee7a551",
   "metadata": {},
   "outputs": [
    {
     "name": "stderr",
     "output_type": "stream",
     "text": [
      "/opt/conda/lib/python3.9/site-packages/google/auth/_default.py:78: UserWarning: Your application has authenticated using end user credentials from Google Cloud SDK without a quota project. You might receive a \"quota exceeded\" or \"API not enabled\" error. See the following page for troubleshooting: https://cloud.google.com/docs/authentication/adc-troubleshooting/user-creds. \n",
      "  warnings.warn(_CLOUD_SDK_CREDENTIALS_WARNING)\n"
     ]
    }
   ],
   "source": [
    "stops = pd.read_parquet(STOPS_FILE)\n",
    "stop_times = pd.read_parquet(STOP_TIMES_FILE)"
   ]
  },
  {
   "cell_type": "markdown",
   "id": "2c76559e-0e71-4892-8643-bcd01fdc13e0",
   "metadata": {},
   "source": [
    "#### STOPS"
   ]
  },
  {
   "cell_type": "code",
   "execution_count": 19,
   "id": "3eadf344-76b2-4908-b6ba-9dbb3cedface",
   "metadata": {},
   "outputs": [
    {
     "data": {
      "text/html": [
       "<div>\n",
       "<style scoped>\n",
       "    .dataframe tbody tr th:only-of-type {\n",
       "        vertical-align: middle;\n",
       "    }\n",
       "\n",
       "    .dataframe tbody tr th {\n",
       "        vertical-align: top;\n",
       "    }\n",
       "\n",
       "    .dataframe thead th {\n",
       "        text-align: right;\n",
       "    }\n",
       "</style>\n",
       "<table border=\"1\" class=\"dataframe\">\n",
       "  <thead>\n",
       "    <tr style=\"text-align: right;\">\n",
       "      <th></th>\n",
       "      <th>feed_key</th>\n",
       "      <th>stop_id</th>\n",
       "      <th>stop_key</th>\n",
       "      <th>stop_name</th>\n",
       "      <th>route_type_0</th>\n",
       "      <th>route_type_1</th>\n",
       "      <th>route_type_2</th>\n",
       "      <th>route_type_3</th>\n",
       "      <th>route_type_4</th>\n",
       "      <th>route_type_5</th>\n",
       "      <th>route_type_6</th>\n",
       "      <th>route_type_7</th>\n",
       "      <th>route_type_11</th>\n",
       "      <th>route_type_12</th>\n",
       "      <th>missing_route_type</th>\n",
       "      <th>geometry</th>\n",
       "    </tr>\n",
       "  </thead>\n",
       "  <tbody>\n",
       "    <tr>\n",
       "      <th>0</th>\n",
       "      <td>6adf6cd9b6d24ab4ee8ee220e3697a73</td>\n",
       "      <td>15193</td>\n",
       "      <td>d4eb0920e7e256606df449c31b3c3e6a</td>\n",
       "      <td>Vanowen / Encino</td>\n",
       "      <td>NaN</td>\n",
       "      <td>NaN</td>\n",
       "      <td>NaN</td>\n",
       "      <td>69.0</td>\n",
       "      <td>NaN</td>\n",
       "      <td>NaN</td>\n",
       "      <td>None</td>\n",
       "      <td>None</td>\n",
       "      <td>None</td>\n",
       "      <td>None</td>\n",
       "      <td>None</td>\n",
       "      <td>b'\\x01\\x01\\x00\\x00\\x00?\\xe5\\x98,\\xee\\xa0]\\xc0\\...</td>\n",
       "    </tr>\n",
       "    <tr>\n",
       "      <th>1</th>\n",
       "      <td>6adf6cd9b6d24ab4ee8ee220e3697a73</td>\n",
       "      <td>14025</td>\n",
       "      <td>038cca58ef5f071ff5c94b8213989f87</td>\n",
       "      <td>Vermont / 110th</td>\n",
       "      <td>NaN</td>\n",
       "      <td>NaN</td>\n",
       "      <td>NaN</td>\n",
       "      <td>107.0</td>\n",
       "      <td>NaN</td>\n",
       "      <td>NaN</td>\n",
       "      <td>None</td>\n",
       "      <td>None</td>\n",
       "      <td>None</td>\n",
       "      <td>None</td>\n",
       "      <td>None</td>\n",
       "      <td>b'\\x01\\x01\\x00\\x00\\x00\\x10\\x1em\\x1c\\xb1\\x92]\\x...</td>\n",
       "    </tr>\n",
       "  </tbody>\n",
       "</table>\n",
       "</div>"
      ],
      "text/plain": [
       "                           feed_key stop_id                          stop_key  \\\n",
       "0  6adf6cd9b6d24ab4ee8ee220e3697a73   15193  d4eb0920e7e256606df449c31b3c3e6a   \n",
       "1  6adf6cd9b6d24ab4ee8ee220e3697a73   14025  038cca58ef5f071ff5c94b8213989f87   \n",
       "\n",
       "          stop_name  route_type_0  route_type_1  route_type_2  route_type_3  \\\n",
       "0  Vanowen / Encino           NaN           NaN           NaN          69.0   \n",
       "1   Vermont / 110th           NaN           NaN           NaN         107.0   \n",
       "\n",
       "   route_type_4  route_type_5 route_type_6 route_type_7 route_type_11  \\\n",
       "0           NaN           NaN         None         None          None   \n",
       "1           NaN           NaN         None         None          None   \n",
       "\n",
       "  route_type_12 missing_route_type  \\\n",
       "0          None               None   \n",
       "1          None               None   \n",
       "\n",
       "                                            geometry  \n",
       "0  b'\\x01\\x01\\x00\\x00\\x00?\\xe5\\x98,\\xee\\xa0]\\xc0\\...  \n",
       "1  b'\\x01\\x01\\x00\\x00\\x00\\x10\\x1em\\x1c\\xb1\\x92]\\x...  "
      ]
     },
     "execution_count": 19,
     "metadata": {},
     "output_type": "execute_result"
    }
   ],
   "source": [
    "stops.head(2)"
   ]
  },
  {
   "cell_type": "code",
   "execution_count": 20,
   "id": "8214abfe-e294-4410-9bb8-2f939beaa069",
   "metadata": {},
   "outputs": [
    {
     "data": {
      "text/plain": [
       "pandas.core.frame.DataFrame"
      ]
     },
     "execution_count": 20,
     "metadata": {},
     "output_type": "execute_result"
    }
   ],
   "source": [
    "type(stops)"
   ]
  },
  {
   "cell_type": "markdown",
   "id": "68642369-14aa-4ac8-ba60-c5c6fec697c0",
   "metadata": {},
   "source": [
    "- Geometry column contains well known binary element wkb, hence using loads to change the dataset to gdf"
   ]
  },
  {
   "cell_type": "code",
   "execution_count": 21,
   "id": "60927a77-fe7a-464e-889f-c49ea173bac7",
   "metadata": {},
   "outputs": [
    {
     "name": "stdout",
     "output_type": "stream",
     "text": [
      "Requirement already satisfied: shapely in /opt/conda/lib/python3.9/site-packages (2.0.1)\n",
      "Requirement already satisfied: numpy>=1.14 in /opt/conda/lib/python3.9/site-packages (from shapely) (1.23.5)\n",
      "Note: you may need to restart the kernel to use updated packages.\n"
     ]
    }
   ],
   "source": [
    "pip install shapely "
   ]
  },
  {
   "cell_type": "code",
   "execution_count": 22,
   "id": "610c412e-e540-42e6-84df-4b238d16477e",
   "metadata": {},
   "outputs": [],
   "source": [
    "from shapely.wkb import loads "
   ]
  },
  {
   "cell_type": "code",
   "execution_count": 23,
   "id": "080dc76e-d0bb-4930-b322-a2af3c0c40be",
   "metadata": {},
   "outputs": [],
   "source": [
    "stops['geometry'] = stops['geometry'].apply(lambda x:loads(x)) "
   ]
  },
  {
   "cell_type": "code",
   "execution_count": 24,
   "id": "5e9c7ca3-43a6-49a5-a749-ae9bb6db2c65",
   "metadata": {},
   "outputs": [],
   "source": [
    "stops_gdf = gpd.GeoDataFrame(stops, geometry = 'geometry')"
   ]
  },
  {
   "cell_type": "code",
   "execution_count": 25,
   "id": "e2f3d112-5f7a-4e59-9a2d-0994e695831f",
   "metadata": {},
   "outputs": [
    {
     "data": {
      "text/plain": [
       "geopandas.geodataframe.GeoDataFrame"
      ]
     },
     "execution_count": 25,
     "metadata": {},
     "output_type": "execute_result"
    }
   ],
   "source": [
    "type(stops_gdf)"
   ]
  },
  {
   "cell_type": "code",
   "execution_count": 26,
   "id": "7ce9c496-7c00-4a2c-8fc6-00d98198dac9",
   "metadata": {},
   "outputs": [
    {
     "data": {
      "text/html": [
       "<div>\n",
       "<style scoped>\n",
       "    .dataframe tbody tr th:only-of-type {\n",
       "        vertical-align: middle;\n",
       "    }\n",
       "\n",
       "    .dataframe tbody tr th {\n",
       "        vertical-align: top;\n",
       "    }\n",
       "\n",
       "    .dataframe thead th {\n",
       "        text-align: right;\n",
       "    }\n",
       "</style>\n",
       "<table border=\"1\" class=\"dataframe\">\n",
       "  <thead>\n",
       "    <tr style=\"text-align: right;\">\n",
       "      <th></th>\n",
       "      <th>feed_key</th>\n",
       "      <th>stop_id</th>\n",
       "      <th>stop_key</th>\n",
       "      <th>stop_name</th>\n",
       "      <th>route_type_0</th>\n",
       "      <th>route_type_1</th>\n",
       "      <th>route_type_2</th>\n",
       "      <th>route_type_3</th>\n",
       "      <th>route_type_4</th>\n",
       "      <th>route_type_5</th>\n",
       "      <th>route_type_6</th>\n",
       "      <th>route_type_7</th>\n",
       "      <th>route_type_11</th>\n",
       "      <th>route_type_12</th>\n",
       "      <th>missing_route_type</th>\n",
       "      <th>geometry</th>\n",
       "    </tr>\n",
       "  </thead>\n",
       "  <tbody>\n",
       "    <tr>\n",
       "      <th>0</th>\n",
       "      <td>6adf6cd9b6d24ab4ee8ee220e3697a73</td>\n",
       "      <td>15193</td>\n",
       "      <td>d4eb0920e7e256606df449c31b3c3e6a</td>\n",
       "      <td>Vanowen / Encino</td>\n",
       "      <td>NaN</td>\n",
       "      <td>NaN</td>\n",
       "      <td>NaN</td>\n",
       "      <td>69.0</td>\n",
       "      <td>NaN</td>\n",
       "      <td>NaN</td>\n",
       "      <td>None</td>\n",
       "      <td>None</td>\n",
       "      <td>None</td>\n",
       "      <td>None</td>\n",
       "      <td>None</td>\n",
       "      <td>POINT (-118.51454 34.19401)</td>\n",
       "    </tr>\n",
       "    <tr>\n",
       "      <th>1</th>\n",
       "      <td>6adf6cd9b6d24ab4ee8ee220e3697a73</td>\n",
       "      <td>14025</td>\n",
       "      <td>038cca58ef5f071ff5c94b8213989f87</td>\n",
       "      <td>Vermont / 110th</td>\n",
       "      <td>NaN</td>\n",
       "      <td>NaN</td>\n",
       "      <td>NaN</td>\n",
       "      <td>107.0</td>\n",
       "      <td>NaN</td>\n",
       "      <td>NaN</td>\n",
       "      <td>None</td>\n",
       "      <td>None</td>\n",
       "      <td>None</td>\n",
       "      <td>None</td>\n",
       "      <td>None</td>\n",
       "      <td>POINT (-118.29206 33.93564)</td>\n",
       "    </tr>\n",
       "  </tbody>\n",
       "</table>\n",
       "</div>"
      ],
      "text/plain": [
       "                           feed_key stop_id                          stop_key  \\\n",
       "0  6adf6cd9b6d24ab4ee8ee220e3697a73   15193  d4eb0920e7e256606df449c31b3c3e6a   \n",
       "1  6adf6cd9b6d24ab4ee8ee220e3697a73   14025  038cca58ef5f071ff5c94b8213989f87   \n",
       "\n",
       "          stop_name  route_type_0  route_type_1  route_type_2  route_type_3  \\\n",
       "0  Vanowen / Encino           NaN           NaN           NaN          69.0   \n",
       "1   Vermont / 110th           NaN           NaN           NaN         107.0   \n",
       "\n",
       "   route_type_4  route_type_5 route_type_6 route_type_7 route_type_11  \\\n",
       "0           NaN           NaN         None         None          None   \n",
       "1           NaN           NaN         None         None          None   \n",
       "\n",
       "  route_type_12 missing_route_type                     geometry  \n",
       "0          None               None  POINT (-118.51454 34.19401)  \n",
       "1          None               None  POINT (-118.29206 33.93564)  "
      ]
     },
     "execution_count": 26,
     "metadata": {},
     "output_type": "execute_result"
    }
   ],
   "source": [
    "stops_gdf.head(2)"
   ]
  },
  {
   "cell_type": "markdown",
   "id": "89d1cb71-f128-4e09-a083-22da813f2f40",
   "metadata": {},
   "source": [
    "- Changing the CRS to EPSG:2229"
   ]
  },
  {
   "cell_type": "code",
   "execution_count": 27,
   "id": "28980664-dacc-44e7-82df-96e0e700a0cd",
   "metadata": {},
   "outputs": [],
   "source": [
    "stops_geom = stops_gdf.set_crs('EPSG:2229')"
   ]
  },
  {
   "cell_type": "code",
   "execution_count": 28,
   "id": "2f348371-086d-4349-8351-c4453fb9385e",
   "metadata": {},
   "outputs": [
    {
     "data": {
      "text/plain": [
       "<Projected CRS: EPSG:2229>\n",
       "Name: NAD83 / California zone 5 (ftUS)\n",
       "Axis Info [cartesian]:\n",
       "- X[east]: Easting (US survey foot)\n",
       "- Y[north]: Northing (US survey foot)\n",
       "Area of Use:\n",
       "- name: United States (USA) - California - counties Kern; Los Angeles; San Bernardino; San Luis Obispo; Santa Barbara; Ventura.\n",
       "- bounds: (-121.42, 32.76, -114.12, 35.81)\n",
       "Coordinate Operation:\n",
       "- name: SPCS83 California zone 5 (US Survey feet)\n",
       "- method: Lambert Conic Conformal (2SP)\n",
       "Datum: North American Datum 1983\n",
       "- Ellipsoid: GRS 1980\n",
       "- Prime Meridian: Greenwich"
      ]
     },
     "execution_count": 28,
     "metadata": {},
     "output_type": "execute_result"
    }
   ],
   "source": [
    "stops_geom.crs"
   ]
  },
  {
   "cell_type": "markdown",
   "id": "494a2260-f080-44f0-985c-5482e54f3e09",
   "metadata": {},
   "source": [
    "#### STOP TIMES"
   ]
  },
  {
   "cell_type": "code",
   "execution_count": 29,
   "id": "e9884f25-c225-4a43-a31f-9c8fdb35b578",
   "metadata": {},
   "outputs": [
    {
     "data": {
      "text/html": [
       "<div>\n",
       "<style scoped>\n",
       "    .dataframe tbody tr th:only-of-type {\n",
       "        vertical-align: middle;\n",
       "    }\n",
       "\n",
       "    .dataframe tbody tr th {\n",
       "        vertical-align: top;\n",
       "    }\n",
       "\n",
       "    .dataframe thead th {\n",
       "        text-align: right;\n",
       "    }\n",
       "</style>\n",
       "<table border=\"1\" class=\"dataframe\">\n",
       "  <thead>\n",
       "    <tr style=\"text-align: right;\">\n",
       "      <th></th>\n",
       "      <th>feed_key</th>\n",
       "      <th>trip_id</th>\n",
       "      <th>stop_id</th>\n",
       "      <th>stop_sequence</th>\n",
       "      <th>timepoint</th>\n",
       "      <th>arrival_sec</th>\n",
       "      <th>departure_sec</th>\n",
       "      <th>arrival_hour</th>\n",
       "      <th>departure_hour</th>\n",
       "    </tr>\n",
       "  </thead>\n",
       "  <tbody>\n",
       "    <tr>\n",
       "      <th>0</th>\n",
       "      <td>48138ae7269d615d5509958097039bf7</td>\n",
       "      <td>t287-b194-sl4_merged_3564</td>\n",
       "      <td>1140</td>\n",
       "      <td>11</td>\n",
       "      <td>NaN</td>\n",
       "      <td>25047</td>\n",
       "      <td>25047</td>\n",
       "      <td>6</td>\n",
       "      <td>6</td>\n",
       "    </tr>\n",
       "    <tr>\n",
       "      <th>1</th>\n",
       "      <td>48138ae7269d615d5509958097039bf7</td>\n",
       "      <td>t708-b12D-sl4_merged_4213</td>\n",
       "      <td>1161</td>\n",
       "      <td>25</td>\n",
       "      <td>NaN</td>\n",
       "      <td>66583</td>\n",
       "      <td>66583</td>\n",
       "      <td>18</td>\n",
       "      <td>18</td>\n",
       "    </tr>\n",
       "  </tbody>\n",
       "</table>\n",
       "</div>"
      ],
      "text/plain": [
       "                           feed_key                    trip_id stop_id  \\\n",
       "0  48138ae7269d615d5509958097039bf7  t287-b194-sl4_merged_3564    1140   \n",
       "1  48138ae7269d615d5509958097039bf7  t708-b12D-sl4_merged_4213    1161   \n",
       "\n",
       "   stop_sequence  timepoint  arrival_sec  departure_sec  arrival_hour  \\\n",
       "0             11        NaN        25047          25047             6   \n",
       "1             25        NaN        66583          66583            18   \n",
       "\n",
       "   departure_hour  \n",
       "0               6  \n",
       "1              18  "
      ]
     },
     "execution_count": 29,
     "metadata": {},
     "output_type": "execute_result"
    }
   ],
   "source": [
    "stop_times.head(2)"
   ]
  },
  {
   "cell_type": "code",
   "execution_count": 30,
   "id": "6fef1731-5d9d-4f9f-8c1f-a0351d743219",
   "metadata": {},
   "outputs": [
    {
     "data": {
      "text/plain": [
       "pandas.core.frame.DataFrame"
      ]
     },
     "execution_count": 30,
     "metadata": {},
     "output_type": "execute_result"
    }
   ],
   "source": [
    "type(stop_times)"
   ]
  },
  {
   "cell_type": "markdown",
   "id": "e8933779-f959-4aa2-ada3-335a5672cebe",
   "metadata": {},
   "source": [
    "#### Creating a join between STOP and STOP TIMES"
   ]
  },
  {
   "cell_type": "code",
   "execution_count": 31,
   "id": "05092d5c-5d51-4ed3-81cf-4f7d5afd7ed5",
   "metadata": {},
   "outputs": [],
   "source": [
    "merge = pd.merge(stops_geom, stop_times, how= 'inner', on=[\"feed_key\", \"stop_id\"])"
   ]
  },
  {
   "cell_type": "code",
   "execution_count": 32,
   "id": "a187edfd-3c5f-4ba2-b332-073aeb13e954",
   "metadata": {},
   "outputs": [
    {
     "data": {
      "text/html": [
       "<div>\n",
       "<style scoped>\n",
       "    .dataframe tbody tr th:only-of-type {\n",
       "        vertical-align: middle;\n",
       "    }\n",
       "\n",
       "    .dataframe tbody tr th {\n",
       "        vertical-align: top;\n",
       "    }\n",
       "\n",
       "    .dataframe thead th {\n",
       "        text-align: right;\n",
       "    }\n",
       "</style>\n",
       "<table border=\"1\" class=\"dataframe\">\n",
       "  <thead>\n",
       "    <tr style=\"text-align: right;\">\n",
       "      <th></th>\n",
       "      <th>feed_key</th>\n",
       "      <th>stop_id</th>\n",
       "      <th>stop_key</th>\n",
       "      <th>stop_name</th>\n",
       "      <th>route_type_0</th>\n",
       "      <th>route_type_1</th>\n",
       "      <th>route_type_2</th>\n",
       "      <th>route_type_3</th>\n",
       "      <th>route_type_4</th>\n",
       "      <th>route_type_5</th>\n",
       "      <th>...</th>\n",
       "      <th>route_type_12</th>\n",
       "      <th>missing_route_type</th>\n",
       "      <th>geometry</th>\n",
       "      <th>trip_id</th>\n",
       "      <th>stop_sequence</th>\n",
       "      <th>timepoint</th>\n",
       "      <th>arrival_sec</th>\n",
       "      <th>departure_sec</th>\n",
       "      <th>arrival_hour</th>\n",
       "      <th>departure_hour</th>\n",
       "    </tr>\n",
       "  </thead>\n",
       "  <tbody>\n",
       "    <tr>\n",
       "      <th>0</th>\n",
       "      <td>6adf6cd9b6d24ab4ee8ee220e3697a73</td>\n",
       "      <td>15193</td>\n",
       "      <td>d4eb0920e7e256606df449c31b3c3e6a</td>\n",
       "      <td>Vanowen / Encino</td>\n",
       "      <td>NaN</td>\n",
       "      <td>NaN</td>\n",
       "      <td>NaN</td>\n",
       "      <td>69.0</td>\n",
       "      <td>NaN</td>\n",
       "      <td>NaN</td>\n",
       "      <td>...</td>\n",
       "      <td>None</td>\n",
       "      <td>None</td>\n",
       "      <td>POINT (-118.515 34.194)</td>\n",
       "      <td>10165002071128-DEC22</td>\n",
       "      <td>54</td>\n",
       "      <td>0.0</td>\n",
       "      <td>44760</td>\n",
       "      <td>44760</td>\n",
       "      <td>12</td>\n",
       "      <td>12</td>\n",
       "    </tr>\n",
       "    <tr>\n",
       "      <th>1</th>\n",
       "      <td>6adf6cd9b6d24ab4ee8ee220e3697a73</td>\n",
       "      <td>15193</td>\n",
       "      <td>d4eb0920e7e256606df449c31b3c3e6a</td>\n",
       "      <td>Vanowen / Encino</td>\n",
       "      <td>NaN</td>\n",
       "      <td>NaN</td>\n",
       "      <td>NaN</td>\n",
       "      <td>69.0</td>\n",
       "      <td>NaN</td>\n",
       "      <td>NaN</td>\n",
       "      <td>...</td>\n",
       "      <td>None</td>\n",
       "      <td>None</td>\n",
       "      <td>POINT (-118.515 34.194)</td>\n",
       "      <td>10165002070728-DEC22</td>\n",
       "      <td>54</td>\n",
       "      <td>0.0</td>\n",
       "      <td>30480</td>\n",
       "      <td>30480</td>\n",
       "      <td>8</td>\n",
       "      <td>8</td>\n",
       "    </tr>\n",
       "  </tbody>\n",
       "</table>\n",
       "<p>2 rows × 23 columns</p>\n",
       "</div>"
      ],
      "text/plain": [
       "                           feed_key stop_id                          stop_key  \\\n",
       "0  6adf6cd9b6d24ab4ee8ee220e3697a73   15193  d4eb0920e7e256606df449c31b3c3e6a   \n",
       "1  6adf6cd9b6d24ab4ee8ee220e3697a73   15193  d4eb0920e7e256606df449c31b3c3e6a   \n",
       "\n",
       "          stop_name  route_type_0  route_type_1  route_type_2  route_type_3  \\\n",
       "0  Vanowen / Encino           NaN           NaN           NaN          69.0   \n",
       "1  Vanowen / Encino           NaN           NaN           NaN          69.0   \n",
       "\n",
       "   route_type_4  route_type_5  ... route_type_12 missing_route_type  \\\n",
       "0           NaN           NaN  ...          None               None   \n",
       "1           NaN           NaN  ...          None               None   \n",
       "\n",
       "                  geometry               trip_id stop_sequence timepoint  \\\n",
       "0  POINT (-118.515 34.194)  10165002071128-DEC22            54       0.0   \n",
       "1  POINT (-118.515 34.194)  10165002070728-DEC22            54       0.0   \n",
       "\n",
       "  arrival_sec  departure_sec  arrival_hour  departure_hour  \n",
       "0       44760          44760            12              12  \n",
       "1       30480          30480             8               8  \n",
       "\n",
       "[2 rows x 23 columns]"
      ]
     },
     "execution_count": 32,
     "metadata": {},
     "output_type": "execute_result"
    }
   ],
   "source": [
    "merge.head(2)"
   ]
  },
  {
   "cell_type": "markdown",
   "id": "0d8e8962-0e8c-4975-9441-5f5cc1cc350a",
   "metadata": {},
   "source": [
    "## Calculate the straight line distance between the first and last stop for each trip."
   ]
  },
  {
   "cell_type": "markdown",
   "id": "64595bed-c0dd-4bf9-aaba-c9f379985724",
   "metadata": {},
   "source": [
    "\n",
    "- Stop_Sequence = Order of stops for a particular trip. The values must increase along the trip but do not need to be consecutive.\n",
    "\n",
    "#### Steps:\n",
    "- Creating maximum and minimum sequence data to find the first and last stop of a trip\n",
    "- Adding geometry to the Max and Min table by creating a merge with merged table to find the distance between two sequences\n",
    "- Changing Pandas Dataset to gdf\n",
    "- Calculating the distance between the geometries\n",
    "- Adding the distance column to each trip_id\n"
   ]
  },
  {
   "cell_type": "markdown",
   "id": "48a2d831-9fe3-481c-a228-94e019ab828f",
   "metadata": {},
   "source": [
    "#### Creating maximum and minimum sequence data to find the first and last stop of a trip"
   ]
  },
  {
   "cell_type": "code",
   "execution_count": 33,
   "id": "9872dfd2-a077-4505-b9e6-fcc4e2b544e8",
   "metadata": {},
   "outputs": [],
   "source": [
    "pivot_max = merge.pivot_table(index='trip_id', values='stop_sequence', aggfunc='max').reset_index()"
   ]
  },
  {
   "cell_type": "code",
   "execution_count": 34,
   "id": "835e771f-e394-4329-bd8c-64a32db5bd52",
   "metadata": {},
   "outputs": [],
   "source": [
    "pivot_min = merge.pivot_table(index='trip_id', values='stop_sequence', aggfunc='min').reset_index()"
   ]
  },
  {
   "cell_type": "code",
   "execution_count": 35,
   "id": "61b3793d-becc-4061-b94e-bc56b7f0d3a8",
   "metadata": {},
   "outputs": [
    {
     "data": {
      "text/html": [
       "<div>\n",
       "<style scoped>\n",
       "    .dataframe tbody tr th:only-of-type {\n",
       "        vertical-align: middle;\n",
       "    }\n",
       "\n",
       "    .dataframe tbody tr th {\n",
       "        vertical-align: top;\n",
       "    }\n",
       "\n",
       "    .dataframe thead th {\n",
       "        text-align: right;\n",
       "    }\n",
       "</style>\n",
       "<table border=\"1\" class=\"dataframe\">\n",
       "  <thead>\n",
       "    <tr style=\"text-align: right;\">\n",
       "      <th></th>\n",
       "      <th>trip_id</th>\n",
       "      <th>stop_sequence</th>\n",
       "    </tr>\n",
       "  </thead>\n",
       "  <tbody>\n",
       "    <tr>\n",
       "      <th>0</th>\n",
       "      <td>002bqqucv</td>\n",
       "      <td>10</td>\n",
       "    </tr>\n",
       "    <tr>\n",
       "      <th>1</th>\n",
       "      <td>00339a54-1d52-408a-a0a5-db494ca7bef2</td>\n",
       "      <td>92</td>\n",
       "    </tr>\n",
       "  </tbody>\n",
       "</table>\n",
       "</div>"
      ],
      "text/plain": [
       "                                trip_id  stop_sequence\n",
       "0                             002bqqucv             10\n",
       "1  00339a54-1d52-408a-a0a5-db494ca7bef2             92"
      ]
     },
     "execution_count": 35,
     "metadata": {},
     "output_type": "execute_result"
    }
   ],
   "source": [
    "pivot_max.head(2)"
   ]
  },
  {
   "cell_type": "code",
   "execution_count": 36,
   "id": "dcb2046b-75ea-4de2-a1d3-80c8bcec0d91",
   "metadata": {},
   "outputs": [
    {
     "data": {
      "text/html": [
       "<div>\n",
       "<style scoped>\n",
       "    .dataframe tbody tr th:only-of-type {\n",
       "        vertical-align: middle;\n",
       "    }\n",
       "\n",
       "    .dataframe tbody tr th {\n",
       "        vertical-align: top;\n",
       "    }\n",
       "\n",
       "    .dataframe thead th {\n",
       "        text-align: right;\n",
       "    }\n",
       "</style>\n",
       "<table border=\"1\" class=\"dataframe\">\n",
       "  <thead>\n",
       "    <tr style=\"text-align: right;\">\n",
       "      <th></th>\n",
       "      <th>trip_id</th>\n",
       "      <th>stop_sequence</th>\n",
       "    </tr>\n",
       "  </thead>\n",
       "  <tbody>\n",
       "    <tr>\n",
       "      <th>0</th>\n",
       "      <td>002bqqucv</td>\n",
       "      <td>1</td>\n",
       "    </tr>\n",
       "    <tr>\n",
       "      <th>1</th>\n",
       "      <td>00339a54-1d52-408a-a0a5-db494ca7bef2</td>\n",
       "      <td>0</td>\n",
       "    </tr>\n",
       "  </tbody>\n",
       "</table>\n",
       "</div>"
      ],
      "text/plain": [
       "                                trip_id  stop_sequence\n",
       "0                             002bqqucv              1\n",
       "1  00339a54-1d52-408a-a0a5-db494ca7bef2              0"
      ]
     },
     "execution_count": 36,
     "metadata": {},
     "output_type": "execute_result"
    }
   ],
   "source": [
    "pivot_min.head(2)"
   ]
  },
  {
   "cell_type": "markdown",
   "id": "0a3bfda2-a354-4a00-b838-c8d783638c46",
   "metadata": {},
   "source": [
    "#### Adding geometry to the Max and Min table by creating a merge with merged table to find the distance between two sequences\n"
   ]
  },
  {
   "cell_type": "code",
   "execution_count": 37,
   "id": "81109466-a50c-4776-ac55-2d72266679bd",
   "metadata": {},
   "outputs": [],
   "source": [
    "max_geom = pivot_max.merge(\n",
    "    merge[['trip_id', 'geometry', 'stop_sequence']],\n",
    "    on=['trip_id', 'stop_sequence'],\n",
    "    how='left'\n",
    ")"
   ]
  },
  {
   "cell_type": "code",
   "execution_count": 38,
   "id": "ce8c4c70-ec8a-4df5-ad0e-d87f97d82eda",
   "metadata": {},
   "outputs": [],
   "source": [
    "min_geom = pivot_min.merge(\n",
    "    merge[['trip_id', 'geometry', 'stop_sequence']],\n",
    "    on=['trip_id', 'stop_sequence'],\n",
    "    how='left'\n",
    ")"
   ]
  },
  {
   "cell_type": "code",
   "execution_count": 39,
   "id": "d0be98dd-3fff-41cc-a7d4-ce51545e77b3",
   "metadata": {},
   "outputs": [
    {
     "data": {
      "text/html": [
       "<div>\n",
       "<style scoped>\n",
       "    .dataframe tbody tr th:only-of-type {\n",
       "        vertical-align: middle;\n",
       "    }\n",
       "\n",
       "    .dataframe tbody tr th {\n",
       "        vertical-align: top;\n",
       "    }\n",
       "\n",
       "    .dataframe thead th {\n",
       "        text-align: right;\n",
       "    }\n",
       "</style>\n",
       "<table border=\"1\" class=\"dataframe\">\n",
       "  <thead>\n",
       "    <tr style=\"text-align: right;\">\n",
       "      <th></th>\n",
       "      <th>trip_id</th>\n",
       "      <th>stop_sequence</th>\n",
       "      <th>geometry</th>\n",
       "    </tr>\n",
       "  </thead>\n",
       "  <tbody>\n",
       "    <tr>\n",
       "      <th>0</th>\n",
       "      <td>002bqqucv</td>\n",
       "      <td>10</td>\n",
       "      <td>POINT (-122.399 37.632)</td>\n",
       "    </tr>\n",
       "    <tr>\n",
       "      <th>1</th>\n",
       "      <td>00339a54-1d52-408a-a0a5-db494ca7bef2</td>\n",
       "      <td>92</td>\n",
       "      <td>POINT (-121.764 38.660)</td>\n",
       "    </tr>\n",
       "  </tbody>\n",
       "</table>\n",
       "</div>"
      ],
      "text/plain": [
       "                                trip_id  stop_sequence  \\\n",
       "0                             002bqqucv             10   \n",
       "1  00339a54-1d52-408a-a0a5-db494ca7bef2             92   \n",
       "\n",
       "                  geometry  \n",
       "0  POINT (-122.399 37.632)  \n",
       "1  POINT (-121.764 38.660)  "
      ]
     },
     "execution_count": 39,
     "metadata": {},
     "output_type": "execute_result"
    }
   ],
   "source": [
    "max_geom.head(2)"
   ]
  },
  {
   "cell_type": "code",
   "execution_count": 40,
   "id": "79366e24-c6dc-44c8-9227-d1b40448f717",
   "metadata": {},
   "outputs": [
    {
     "data": {
      "text/html": [
       "<div>\n",
       "<style scoped>\n",
       "    .dataframe tbody tr th:only-of-type {\n",
       "        vertical-align: middle;\n",
       "    }\n",
       "\n",
       "    .dataframe tbody tr th {\n",
       "        vertical-align: top;\n",
       "    }\n",
       "\n",
       "    .dataframe thead th {\n",
       "        text-align: right;\n",
       "    }\n",
       "</style>\n",
       "<table border=\"1\" class=\"dataframe\">\n",
       "  <thead>\n",
       "    <tr style=\"text-align: right;\">\n",
       "      <th></th>\n",
       "      <th>trip_id</th>\n",
       "      <th>stop_sequence</th>\n",
       "      <th>geometry</th>\n",
       "    </tr>\n",
       "  </thead>\n",
       "  <tbody>\n",
       "    <tr>\n",
       "      <th>0</th>\n",
       "      <td>002bqqucv</td>\n",
       "      <td>1</td>\n",
       "      <td>POINT (-122.399 37.632)</td>\n",
       "    </tr>\n",
       "    <tr>\n",
       "      <th>1</th>\n",
       "      <td>00339a54-1d52-408a-a0a5-db494ca7bef2</td>\n",
       "      <td>0</td>\n",
       "      <td>POINT (-121.764 38.660)</td>\n",
       "    </tr>\n",
       "  </tbody>\n",
       "</table>\n",
       "</div>"
      ],
      "text/plain": [
       "                                trip_id  stop_sequence  \\\n",
       "0                             002bqqucv              1   \n",
       "1  00339a54-1d52-408a-a0a5-db494ca7bef2              0   \n",
       "\n",
       "                  geometry  \n",
       "0  POINT (-122.399 37.632)  \n",
       "1  POINT (-121.764 38.660)  "
      ]
     },
     "execution_count": 40,
     "metadata": {},
     "output_type": "execute_result"
    }
   ],
   "source": [
    "min_geom.head(2)"
   ]
  },
  {
   "cell_type": "code",
   "execution_count": 41,
   "id": "d142690b-a0b5-41a6-8f6b-309c6333ac2c",
   "metadata": {},
   "outputs": [
    {
     "data": {
      "text/plain": [
       "pandas.core.frame.DataFrame"
      ]
     },
     "execution_count": 41,
     "metadata": {},
     "output_type": "execute_result"
    }
   ],
   "source": [
    "type(max_geom)\n",
    "type(min_geom)"
   ]
  },
  {
   "cell_type": "markdown",
   "id": "0c065601-5a0d-4f15-940c-2325d7ebcc99",
   "metadata": {},
   "source": [
    "#### Changing Pandas Dataset to gdf"
   ]
  },
  {
   "cell_type": "code",
   "execution_count": 42,
   "id": "dde4cf12-b118-4bfe-936b-b561ac3e7b6c",
   "metadata": {},
   "outputs": [],
   "source": [
    "gdf_max = gpd.GeoDataFrame(max_geom, geometry= 'geometry').set_crs('EPSG:2229')\n",
    "gdf_min = gpd.GeoDataFrame(min_geom, geometry= 'geometry').set_crs('EPSG:2229')                      "
   ]
  },
  {
   "cell_type": "code",
   "execution_count": 43,
   "id": "a6328f96-727f-41b0-bf7d-c25700c13308",
   "metadata": {},
   "outputs": [
    {
     "data": {
      "text/plain": [
       "<Projected CRS: EPSG:2229>\n",
       "Name: NAD83 / California zone 5 (ftUS)\n",
       "Axis Info [cartesian]:\n",
       "- X[east]: Easting (US survey foot)\n",
       "- Y[north]: Northing (US survey foot)\n",
       "Area of Use:\n",
       "- name: United States (USA) - California - counties Kern; Los Angeles; San Bernardino; San Luis Obispo; Santa Barbara; Ventura.\n",
       "- bounds: (-121.42, 32.76, -114.12, 35.81)\n",
       "Coordinate Operation:\n",
       "- name: SPCS83 California zone 5 (US Survey feet)\n",
       "- method: Lambert Conic Conformal (2SP)\n",
       "Datum: North American Datum 1983\n",
       "- Ellipsoid: GRS 1980\n",
       "- Prime Meridian: Greenwich"
      ]
     },
     "execution_count": 43,
     "metadata": {},
     "output_type": "execute_result"
    }
   ],
   "source": [
    "gdf_max.crs"
   ]
  },
  {
   "cell_type": "code",
   "execution_count": 44,
   "id": "61a6c95d-0090-4749-8dc4-8c0eb41f8c28",
   "metadata": {},
   "outputs": [
    {
     "data": {
      "text/plain": [
       "<Projected CRS: EPSG:2229>\n",
       "Name: NAD83 / California zone 5 (ftUS)\n",
       "Axis Info [cartesian]:\n",
       "- X[east]: Easting (US survey foot)\n",
       "- Y[north]: Northing (US survey foot)\n",
       "Area of Use:\n",
       "- name: United States (USA) - California - counties Kern; Los Angeles; San Bernardino; San Luis Obispo; Santa Barbara; Ventura.\n",
       "- bounds: (-121.42, 32.76, -114.12, 35.81)\n",
       "Coordinate Operation:\n",
       "- name: SPCS83 California zone 5 (US Survey feet)\n",
       "- method: Lambert Conic Conformal (2SP)\n",
       "Datum: North American Datum 1983\n",
       "- Ellipsoid: GRS 1980\n",
       "- Prime Meridian: Greenwich"
      ]
     },
     "execution_count": 44,
     "metadata": {},
     "output_type": "execute_result"
    }
   ],
   "source": [
    "gdf_min.crs"
   ]
  },
  {
   "cell_type": "markdown",
   "id": "2a85c539-b706-43b3-89b8-d908e02961cc",
   "metadata": {},
   "source": [
    "#### Calculating the distance between the geometries "
   ]
  },
  {
   "cell_type": "code",
   "execution_count": 45,
   "id": "e77b0c99-b176-4c0f-94c2-8f711f2680f2",
   "metadata": {},
   "outputs": [
    {
     "name": "stderr",
     "output_type": "stream",
     "text": [
      "/tmp/ipykernel_414/668153502.py:1: UserWarning: The indices of the two GeoSeries are different.\n",
      "  distance = gdf_min.distance(gdf_max)\n"
     ]
    }
   ],
   "source": [
    "distance = gdf_min.distance(gdf_max)"
   ]
  },
  {
   "cell_type": "code",
   "execution_count": 46,
   "id": "18ab3e3c-d454-4a96-b8ad-6f8aa61aa2e9",
   "metadata": {},
   "outputs": [
    {
     "data": {
      "text/plain": [
       "0         0.000000\n",
       "1         0.000000\n",
       "2         0.000000\n",
       "3         0.000492\n",
       "4         0.000492\n",
       "            ...   \n",
       "107337         NaN\n",
       "107338         NaN\n",
       "107339         NaN\n",
       "107340         NaN\n",
       "107341         NaN\n",
       "Length: 107342, dtype: float64"
      ]
     },
     "execution_count": 46,
     "metadata": {},
     "output_type": "execute_result"
    }
   ],
   "source": [
    "distance"
   ]
  },
  {
   "cell_type": "markdown",
   "id": "9ef5e754-7fe4-414b-9f7d-e009b4bd7d6d",
   "metadata": {},
   "source": [
    "#### Adding the distance column to each trip_id"
   ]
  },
  {
   "cell_type": "code",
   "execution_count": 47,
   "id": "af290742-1a5b-4c26-873b-9529476f1f75",
   "metadata": {},
   "outputs": [],
   "source": [
    "merged_gdf = gpd.GeoDataFrame.merge(gdf_max, gdf_min,left_on='trip_id', right_on = 'trip_id', suffixes = ('_max', '_min'))"
   ]
  },
  {
   "cell_type": "code",
   "execution_count": 48,
   "id": "55003105-f8d2-4d21-94a8-37cc8322f4c2",
   "metadata": {},
   "outputs": [
    {
     "name": "stderr",
     "output_type": "stream",
     "text": [
      "/tmp/ipykernel_414/2648238731.py:1: UserWarning: The indices of the two GeoSeries are different.\n",
      "  merged_gdf = merged_gdf.assign(trip_distance = gdf_min.distance(gdf_max))\n"
     ]
    }
   ],
   "source": [
    "merged_gdf = merged_gdf.assign(trip_distance = gdf_min.distance(gdf_max))"
   ]
  },
  {
   "cell_type": "markdown",
   "id": "1a34d575-38a3-4de0-bfa8-a6b759abf904",
   "metadata": {},
   "source": [
    "## Calculate the distance between each stop to the nearest interstate. For each trip, keep the value for the stop that's the closest to the interstate"
   ]
  },
  {
   "cell_type": "markdown",
   "id": "802c21b6-f8c7-4c34-9391-1c4a3e4c1122",
   "metadata": {},
   "source": [
    "Steps\n",
    "- Checking tables and CRS\n",
    "- Changing the CRS of interstates data\n",
    "- Calculating the distance\n",
    "- Adding the shortest distance to highway column to each trip_id"
   ]
  },
  {
   "cell_type": "markdown",
   "id": "d84479b2-1695-4564-83e4-d80fb450f22f",
   "metadata": {},
   "source": [
    "#### Checking tables and CRS"
   ]
  },
  {
   "cell_type": "code",
   "execution_count": 49,
   "id": "aeadcbf5-ffa3-4c92-830a-ae00e480db18",
   "metadata": {},
   "outputs": [
    {
     "data": {
      "text/html": [
       "<div>\n",
       "<style scoped>\n",
       "    .dataframe tbody tr th:only-of-type {\n",
       "        vertical-align: middle;\n",
       "    }\n",
       "\n",
       "    .dataframe tbody tr th {\n",
       "        vertical-align: top;\n",
       "    }\n",
       "\n",
       "    .dataframe thead th {\n",
       "        text-align: right;\n",
       "    }\n",
       "</style>\n",
       "<table border=\"1\" class=\"dataframe\">\n",
       "  <thead>\n",
       "    <tr style=\"text-align: right;\">\n",
       "      <th></th>\n",
       "      <th>geometry</th>\n",
       "    </tr>\n",
       "  </thead>\n",
       "  <tbody>\n",
       "    <tr>\n",
       "      <th>0</th>\n",
       "      <td>MULTILINESTRING ((-122.06017 39.01932, -122.06...</td>\n",
       "    </tr>\n",
       "  </tbody>\n",
       "</table>\n",
       "</div>"
      ],
      "text/plain": [
       "                                            geometry\n",
       "0  MULTILINESTRING ((-122.06017 39.01932, -122.06..."
      ]
     },
     "execution_count": 49,
     "metadata": {},
     "output_type": "execute_result"
    }
   ],
   "source": [
    "interstates.head(2)"
   ]
  },
  {
   "cell_type": "code",
   "execution_count": 50,
   "id": "65807173-a6a6-4cdd-a1fa-1b5a1f57c164",
   "metadata": {},
   "outputs": [
    {
     "data": {
      "text/html": [
       "<div>\n",
       "<style scoped>\n",
       "    .dataframe tbody tr th:only-of-type {\n",
       "        vertical-align: middle;\n",
       "    }\n",
       "\n",
       "    .dataframe tbody tr th {\n",
       "        vertical-align: top;\n",
       "    }\n",
       "\n",
       "    .dataframe thead th {\n",
       "        text-align: right;\n",
       "    }\n",
       "</style>\n",
       "<table border=\"1\" class=\"dataframe\">\n",
       "  <thead>\n",
       "    <tr style=\"text-align: right;\">\n",
       "      <th></th>\n",
       "      <th>feed_key</th>\n",
       "      <th>stop_id</th>\n",
       "      <th>stop_key</th>\n",
       "      <th>stop_name</th>\n",
       "      <th>route_type_0</th>\n",
       "      <th>route_type_1</th>\n",
       "      <th>route_type_2</th>\n",
       "      <th>route_type_3</th>\n",
       "      <th>route_type_4</th>\n",
       "      <th>route_type_5</th>\n",
       "      <th>route_type_6</th>\n",
       "      <th>route_type_7</th>\n",
       "      <th>route_type_11</th>\n",
       "      <th>route_type_12</th>\n",
       "      <th>missing_route_type</th>\n",
       "      <th>geometry</th>\n",
       "    </tr>\n",
       "  </thead>\n",
       "  <tbody>\n",
       "    <tr>\n",
       "      <th>0</th>\n",
       "      <td>6adf6cd9b6d24ab4ee8ee220e3697a73</td>\n",
       "      <td>15193</td>\n",
       "      <td>d4eb0920e7e256606df449c31b3c3e6a</td>\n",
       "      <td>Vanowen / Encino</td>\n",
       "      <td>NaN</td>\n",
       "      <td>NaN</td>\n",
       "      <td>NaN</td>\n",
       "      <td>69.0</td>\n",
       "      <td>NaN</td>\n",
       "      <td>NaN</td>\n",
       "      <td>None</td>\n",
       "      <td>None</td>\n",
       "      <td>None</td>\n",
       "      <td>None</td>\n",
       "      <td>None</td>\n",
       "      <td>POINT (-118.515 34.194)</td>\n",
       "    </tr>\n",
       "    <tr>\n",
       "      <th>1</th>\n",
       "      <td>6adf6cd9b6d24ab4ee8ee220e3697a73</td>\n",
       "      <td>14025</td>\n",
       "      <td>038cca58ef5f071ff5c94b8213989f87</td>\n",
       "      <td>Vermont / 110th</td>\n",
       "      <td>NaN</td>\n",
       "      <td>NaN</td>\n",
       "      <td>NaN</td>\n",
       "      <td>107.0</td>\n",
       "      <td>NaN</td>\n",
       "      <td>NaN</td>\n",
       "      <td>None</td>\n",
       "      <td>None</td>\n",
       "      <td>None</td>\n",
       "      <td>None</td>\n",
       "      <td>None</td>\n",
       "      <td>POINT (-118.292 33.936)</td>\n",
       "    </tr>\n",
       "  </tbody>\n",
       "</table>\n",
       "</div>"
      ],
      "text/plain": [
       "                           feed_key stop_id                          stop_key  \\\n",
       "0  6adf6cd9b6d24ab4ee8ee220e3697a73   15193  d4eb0920e7e256606df449c31b3c3e6a   \n",
       "1  6adf6cd9b6d24ab4ee8ee220e3697a73   14025  038cca58ef5f071ff5c94b8213989f87   \n",
       "\n",
       "          stop_name  route_type_0  route_type_1  route_type_2  route_type_3  \\\n",
       "0  Vanowen / Encino           NaN           NaN           NaN          69.0   \n",
       "1   Vermont / 110th           NaN           NaN           NaN         107.0   \n",
       "\n",
       "   route_type_4  route_type_5 route_type_6 route_type_7 route_type_11  \\\n",
       "0           NaN           NaN         None         None          None   \n",
       "1           NaN           NaN         None         None          None   \n",
       "\n",
       "  route_type_12 missing_route_type                 geometry  \n",
       "0          None               None  POINT (-118.515 34.194)  \n",
       "1          None               None  POINT (-118.292 33.936)  "
      ]
     },
     "execution_count": 50,
     "metadata": {},
     "output_type": "execute_result"
    }
   ],
   "source": [
    "stops_geom.head(2)"
   ]
  },
  {
   "cell_type": "code",
   "execution_count": 51,
   "id": "3a5dc2a9-a84b-44ef-932c-dc6dd7a596b4",
   "metadata": {},
   "outputs": [
    {
     "data": {
      "text/plain": [
       "<Geographic 2D CRS: EPSG:4326>\n",
       "Name: WGS 84\n",
       "Axis Info [ellipsoidal]:\n",
       "- Lat[north]: Geodetic latitude (degree)\n",
       "- Lon[east]: Geodetic longitude (degree)\n",
       "Area of Use:\n",
       "- name: World.\n",
       "- bounds: (-180.0, -90.0, 180.0, 90.0)\n",
       "Datum: World Geodetic System 1984 ensemble\n",
       "- Ellipsoid: WGS 84\n",
       "- Prime Meridian: Greenwich"
      ]
     },
     "execution_count": 51,
     "metadata": {},
     "output_type": "execute_result"
    }
   ],
   "source": [
    "interstates.crs"
   ]
  },
  {
   "cell_type": "code",
   "execution_count": 52,
   "id": "c5eb9d72-8a78-4956-8bd5-4513cee90a55",
   "metadata": {},
   "outputs": [
    {
     "data": {
      "text/plain": [
       "<Projected CRS: EPSG:2229>\n",
       "Name: NAD83 / California zone 5 (ftUS)\n",
       "Axis Info [cartesian]:\n",
       "- X[east]: Easting (US survey foot)\n",
       "- Y[north]: Northing (US survey foot)\n",
       "Area of Use:\n",
       "- name: United States (USA) - California - counties Kern; Los Angeles; San Bernardino; San Luis Obispo; Santa Barbara; Ventura.\n",
       "- bounds: (-121.42, 32.76, -114.12, 35.81)\n",
       "Coordinate Operation:\n",
       "- name: SPCS83 California zone 5 (US Survey feet)\n",
       "- method: Lambert Conic Conformal (2SP)\n",
       "Datum: North American Datum 1983\n",
       "- Ellipsoid: GRS 1980\n",
       "- Prime Meridian: Greenwich"
      ]
     },
     "execution_count": 52,
     "metadata": {},
     "output_type": "execute_result"
    }
   ],
   "source": [
    "stops_geom.crs"
   ]
  },
  {
   "cell_type": "markdown",
   "id": "d6dbb6a9-c727-4a99-86cd-b50a8f9d9095",
   "metadata": {},
   "source": [
    "#### Changing the CRS of interstates data"
   ]
  },
  {
   "cell_type": "code",
   "execution_count": 53,
   "id": "bd092999-98ac-4993-b24f-592fd271858f",
   "metadata": {},
   "outputs": [],
   "source": [
    "interstates_geom = interstates.to_crs(\"EPSG:2229\").geometry.iloc[0]"
   ]
  },
  {
   "cell_type": "markdown",
   "id": "95a669a6-68ac-43ca-b172-e28257676141",
   "metadata": {},
   "source": [
    "#### Calculating the distance"
   ]
  },
  {
   "cell_type": "code",
   "execution_count": 54,
   "id": "b5d06f86-9b41-49a9-8e63-2e934d2d4d4c",
   "metadata": {},
   "outputs": [],
   "source": [
    "shortest_distance_hwy = stops_geom.distance(interstates_geom)"
   ]
  },
  {
   "cell_type": "code",
   "execution_count": 55,
   "id": "480a1785-ca18-4631-8f42-4bab159b2b66",
   "metadata": {},
   "outputs": [
    {
     "data": {
      "text/plain": [
       "0        6.153002e+06\n",
       "1        6.153002e+06\n",
       "2        6.153001e+06\n",
       "3        6.153001e+06\n",
       "4        6.153001e+06\n",
       "             ...     \n",
       "84683    6.153003e+06\n",
       "84684    6.153003e+06\n",
       "84685    6.153003e+06\n",
       "84686    6.153003e+06\n",
       "84687    6.153003e+06\n",
       "Length: 84688, dtype: float64"
      ]
     },
     "execution_count": 55,
     "metadata": {},
     "output_type": "execute_result"
    }
   ],
   "source": [
    "shortest_distance_hwy"
   ]
  },
  {
   "cell_type": "code",
   "execution_count": 56,
   "id": "85f26bf1-de2a-42eb-9785-a448c2619cf9",
   "metadata": {
    "tags": []
   },
   "outputs": [],
   "source": [
    "merged_stops_gdf = stops_geom.assign(shortest_distance_hwy = stops_geom.distance(interstates_geom))"
   ]
  },
  {
   "cell_type": "markdown",
   "id": "49f76c7e-7161-497c-8ee3-dcda355a1da7",
   "metadata": {},
   "source": [
    "#### Adding the shortest distance to highway column to each trip_id"
   ]
  },
  {
   "cell_type": "code",
   "execution_count": 57,
   "id": "03f90375-fe8b-4c90-9124-2cb865d53c55",
   "metadata": {},
   "outputs": [
    {
     "data": {
      "text/html": [
       "<div>\n",
       "<style scoped>\n",
       "    .dataframe tbody tr th:only-of-type {\n",
       "        vertical-align: middle;\n",
       "    }\n",
       "\n",
       "    .dataframe tbody tr th {\n",
       "        vertical-align: top;\n",
       "    }\n",
       "\n",
       "    .dataframe thead th {\n",
       "        text-align: right;\n",
       "    }\n",
       "</style>\n",
       "<table border=\"1\" class=\"dataframe\">\n",
       "  <thead>\n",
       "    <tr style=\"text-align: right;\">\n",
       "      <th></th>\n",
       "      <th>feed_key</th>\n",
       "      <th>stop_id</th>\n",
       "      <th>stop_key</th>\n",
       "      <th>stop_name</th>\n",
       "      <th>route_type_0</th>\n",
       "      <th>route_type_1</th>\n",
       "      <th>route_type_2</th>\n",
       "      <th>route_type_3</th>\n",
       "      <th>route_type_4</th>\n",
       "      <th>route_type_5</th>\n",
       "      <th>route_type_6</th>\n",
       "      <th>route_type_7</th>\n",
       "      <th>route_type_11</th>\n",
       "      <th>route_type_12</th>\n",
       "      <th>missing_route_type</th>\n",
       "      <th>geometry</th>\n",
       "      <th>shortest_distance_hwy</th>\n",
       "    </tr>\n",
       "  </thead>\n",
       "  <tbody>\n",
       "    <tr>\n",
       "      <th>0</th>\n",
       "      <td>6adf6cd9b6d24ab4ee8ee220e3697a73</td>\n",
       "      <td>15193</td>\n",
       "      <td>d4eb0920e7e256606df449c31b3c3e6a</td>\n",
       "      <td>Vanowen / Encino</td>\n",
       "      <td>NaN</td>\n",
       "      <td>NaN</td>\n",
       "      <td>NaN</td>\n",
       "      <td>69.0</td>\n",
       "      <td>NaN</td>\n",
       "      <td>NaN</td>\n",
       "      <td>None</td>\n",
       "      <td>None</td>\n",
       "      <td>None</td>\n",
       "      <td>None</td>\n",
       "      <td>None</td>\n",
       "      <td>POINT (-118.515 34.194)</td>\n",
       "      <td>6.153002e+06</td>\n",
       "    </tr>\n",
       "    <tr>\n",
       "      <th>1</th>\n",
       "      <td>6adf6cd9b6d24ab4ee8ee220e3697a73</td>\n",
       "      <td>14025</td>\n",
       "      <td>038cca58ef5f071ff5c94b8213989f87</td>\n",
       "      <td>Vermont / 110th</td>\n",
       "      <td>NaN</td>\n",
       "      <td>NaN</td>\n",
       "      <td>NaN</td>\n",
       "      <td>107.0</td>\n",
       "      <td>NaN</td>\n",
       "      <td>NaN</td>\n",
       "      <td>None</td>\n",
       "      <td>None</td>\n",
       "      <td>None</td>\n",
       "      <td>None</td>\n",
       "      <td>None</td>\n",
       "      <td>POINT (-118.292 33.936)</td>\n",
       "      <td>6.153002e+06</td>\n",
       "    </tr>\n",
       "  </tbody>\n",
       "</table>\n",
       "</div>"
      ],
      "text/plain": [
       "                           feed_key stop_id                          stop_key  \\\n",
       "0  6adf6cd9b6d24ab4ee8ee220e3697a73   15193  d4eb0920e7e256606df449c31b3c3e6a   \n",
       "1  6adf6cd9b6d24ab4ee8ee220e3697a73   14025  038cca58ef5f071ff5c94b8213989f87   \n",
       "\n",
       "          stop_name  route_type_0  route_type_1  route_type_2  route_type_3  \\\n",
       "0  Vanowen / Encino           NaN           NaN           NaN          69.0   \n",
       "1   Vermont / 110th           NaN           NaN           NaN         107.0   \n",
       "\n",
       "   route_type_4  route_type_5 route_type_6 route_type_7 route_type_11  \\\n",
       "0           NaN           NaN         None         None          None   \n",
       "1           NaN           NaN         None         None          None   \n",
       "\n",
       "  route_type_12 missing_route_type                 geometry  \\\n",
       "0          None               None  POINT (-118.515 34.194)   \n",
       "1          None               None  POINT (-118.292 33.936)   \n",
       "\n",
       "   shortest_distance_hwy  \n",
       "0           6.153002e+06  \n",
       "1           6.153002e+06  "
      ]
     },
     "execution_count": 57,
     "metadata": {},
     "output_type": "execute_result"
    }
   ],
   "source": [
    "merged_stops_gdf.head(2)"
   ]
  },
  {
   "cell_type": "code",
   "execution_count": 58,
   "id": "e61d4972-bb9e-49b0-b6a5-b876169975bc",
   "metadata": {},
   "outputs": [
    {
     "data": {
      "text/html": [
       "<div>\n",
       "<style scoped>\n",
       "    .dataframe tbody tr th:only-of-type {\n",
       "        vertical-align: middle;\n",
       "    }\n",
       "\n",
       "    .dataframe tbody tr th {\n",
       "        vertical-align: top;\n",
       "    }\n",
       "\n",
       "    .dataframe thead th {\n",
       "        text-align: right;\n",
       "    }\n",
       "</style>\n",
       "<table border=\"1\" class=\"dataframe\">\n",
       "  <thead>\n",
       "    <tr style=\"text-align: right;\">\n",
       "      <th></th>\n",
       "      <th>feed_key</th>\n",
       "      <th>stop_id</th>\n",
       "      <th>stop_key</th>\n",
       "      <th>stop_name</th>\n",
       "      <th>route_type_0</th>\n",
       "      <th>route_type_1</th>\n",
       "      <th>route_type_2</th>\n",
       "      <th>route_type_3</th>\n",
       "      <th>route_type_4</th>\n",
       "      <th>route_type_5</th>\n",
       "      <th>...</th>\n",
       "      <th>route_type_12</th>\n",
       "      <th>missing_route_type</th>\n",
       "      <th>geometry</th>\n",
       "      <th>trip_id</th>\n",
       "      <th>stop_sequence</th>\n",
       "      <th>timepoint</th>\n",
       "      <th>arrival_sec</th>\n",
       "      <th>departure_sec</th>\n",
       "      <th>arrival_hour</th>\n",
       "      <th>departure_hour</th>\n",
       "    </tr>\n",
       "  </thead>\n",
       "  <tbody>\n",
       "    <tr>\n",
       "      <th>0</th>\n",
       "      <td>6adf6cd9b6d24ab4ee8ee220e3697a73</td>\n",
       "      <td>15193</td>\n",
       "      <td>d4eb0920e7e256606df449c31b3c3e6a</td>\n",
       "      <td>Vanowen / Encino</td>\n",
       "      <td>NaN</td>\n",
       "      <td>NaN</td>\n",
       "      <td>NaN</td>\n",
       "      <td>69.0</td>\n",
       "      <td>NaN</td>\n",
       "      <td>NaN</td>\n",
       "      <td>...</td>\n",
       "      <td>None</td>\n",
       "      <td>None</td>\n",
       "      <td>POINT (-118.515 34.194)</td>\n",
       "      <td>10165002071128-DEC22</td>\n",
       "      <td>54</td>\n",
       "      <td>0.0</td>\n",
       "      <td>44760</td>\n",
       "      <td>44760</td>\n",
       "      <td>12</td>\n",
       "      <td>12</td>\n",
       "    </tr>\n",
       "    <tr>\n",
       "      <th>1</th>\n",
       "      <td>6adf6cd9b6d24ab4ee8ee220e3697a73</td>\n",
       "      <td>15193</td>\n",
       "      <td>d4eb0920e7e256606df449c31b3c3e6a</td>\n",
       "      <td>Vanowen / Encino</td>\n",
       "      <td>NaN</td>\n",
       "      <td>NaN</td>\n",
       "      <td>NaN</td>\n",
       "      <td>69.0</td>\n",
       "      <td>NaN</td>\n",
       "      <td>NaN</td>\n",
       "      <td>...</td>\n",
       "      <td>None</td>\n",
       "      <td>None</td>\n",
       "      <td>POINT (-118.515 34.194)</td>\n",
       "      <td>10165002070728-DEC22</td>\n",
       "      <td>54</td>\n",
       "      <td>0.0</td>\n",
       "      <td>30480</td>\n",
       "      <td>30480</td>\n",
       "      <td>8</td>\n",
       "      <td>8</td>\n",
       "    </tr>\n",
       "  </tbody>\n",
       "</table>\n",
       "<p>2 rows × 23 columns</p>\n",
       "</div>"
      ],
      "text/plain": [
       "                           feed_key stop_id                          stop_key  \\\n",
       "0  6adf6cd9b6d24ab4ee8ee220e3697a73   15193  d4eb0920e7e256606df449c31b3c3e6a   \n",
       "1  6adf6cd9b6d24ab4ee8ee220e3697a73   15193  d4eb0920e7e256606df449c31b3c3e6a   \n",
       "\n",
       "          stop_name  route_type_0  route_type_1  route_type_2  route_type_3  \\\n",
       "0  Vanowen / Encino           NaN           NaN           NaN          69.0   \n",
       "1  Vanowen / Encino           NaN           NaN           NaN          69.0   \n",
       "\n",
       "   route_type_4  route_type_5  ... route_type_12 missing_route_type  \\\n",
       "0           NaN           NaN  ...          None               None   \n",
       "1           NaN           NaN  ...          None               None   \n",
       "\n",
       "                  geometry               trip_id stop_sequence timepoint  \\\n",
       "0  POINT (-118.515 34.194)  10165002071128-DEC22            54       0.0   \n",
       "1  POINT (-118.515 34.194)  10165002070728-DEC22            54       0.0   \n",
       "\n",
       "  arrival_sec  departure_sec  arrival_hour  departure_hour  \n",
       "0       44760          44760            12              12  \n",
       "1       30480          30480             8               8  \n",
       "\n",
       "[2 rows x 23 columns]"
      ]
     },
     "execution_count": 58,
     "metadata": {},
     "output_type": "execute_result"
    }
   ],
   "source": [
    "merge.head(2)"
   ]
  },
  {
   "cell_type": "code",
   "execution_count": 59,
   "id": "c814ab27-54c6-493b-a7da-226e4f0ce19e",
   "metadata": {},
   "outputs": [],
   "source": [
    "merged_stops_trip_id = merge.merge(\n",
    "    merged_stops_gdf,\n",
    "    on= ['feed_key', 'stop_id','stop_key'], \n",
    "    how = 'inner',\n",
    "    )[['feed_key', 'stop_id', 'stop_key', 'trip_id', 'shortest_distance_hwy']].drop_duplicates()"
   ]
  },
  {
   "cell_type": "code",
   "execution_count": 60,
   "id": "113c8f8f-4ff2-4881-b8af-f7f2b48d0ea1",
   "metadata": {},
   "outputs": [
    {
     "data": {
      "text/html": [
       "<div>\n",
       "<style scoped>\n",
       "    .dataframe tbody tr th:only-of-type {\n",
       "        vertical-align: middle;\n",
       "    }\n",
       "\n",
       "    .dataframe tbody tr th {\n",
       "        vertical-align: top;\n",
       "    }\n",
       "\n",
       "    .dataframe thead th {\n",
       "        text-align: right;\n",
       "    }\n",
       "</style>\n",
       "<table border=\"1\" class=\"dataframe\">\n",
       "  <thead>\n",
       "    <tr style=\"text-align: right;\">\n",
       "      <th></th>\n",
       "      <th>feed_key</th>\n",
       "      <th>stop_id</th>\n",
       "      <th>stop_key</th>\n",
       "      <th>trip_id</th>\n",
       "      <th>shortest_distance_hwy</th>\n",
       "    </tr>\n",
       "  </thead>\n",
       "  <tbody>\n",
       "    <tr>\n",
       "      <th>0</th>\n",
       "      <td>6adf6cd9b6d24ab4ee8ee220e3697a73</td>\n",
       "      <td>15193</td>\n",
       "      <td>d4eb0920e7e256606df449c31b3c3e6a</td>\n",
       "      <td>10165002071128-DEC22</td>\n",
       "      <td>6.153002e+06</td>\n",
       "    </tr>\n",
       "    <tr>\n",
       "      <th>1</th>\n",
       "      <td>6adf6cd9b6d24ab4ee8ee220e3697a73</td>\n",
       "      <td>15193</td>\n",
       "      <td>d4eb0920e7e256606df449c31b3c3e6a</td>\n",
       "      <td>10165002070728-DEC22</td>\n",
       "      <td>6.153002e+06</td>\n",
       "    </tr>\n",
       "  </tbody>\n",
       "</table>\n",
       "</div>"
      ],
      "text/plain": [
       "                           feed_key stop_id                          stop_key  \\\n",
       "0  6adf6cd9b6d24ab4ee8ee220e3697a73   15193  d4eb0920e7e256606df449c31b3c3e6a   \n",
       "1  6adf6cd9b6d24ab4ee8ee220e3697a73   15193  d4eb0920e7e256606df449c31b3c3e6a   \n",
       "\n",
       "                trip_id  shortest_distance_hwy  \n",
       "0  10165002071128-DEC22           6.153002e+06  \n",
       "1  10165002070728-DEC22           6.153002e+06  "
      ]
     },
     "execution_count": 60,
     "metadata": {},
     "output_type": "execute_result"
    }
   ],
   "source": [
    "merged_stops_trip_id.head(2)"
   ]
  },
  {
   "cell_type": "markdown",
   "id": "56c22e59-78e0-4f00-8528-de8289d31049",
   "metadata": {},
   "source": [
    "## For each trip, add these 2 new columns, but use series, geoseries, and/or arrays to assign it"
   ]
  },
  {
   "cell_type": "markdown",
   "id": "b0081197-bae8-41ba-99dd-66d8eead05bf",
   "metadata": {},
   "source": [
    "Steps\n",
    "- Adding distance column \n",
    "- Adding shortest distance to the highway column"
   ]
  },
  {
   "cell_type": "code",
   "execution_count": 61,
   "id": "61c7810e-1321-4b15-bf1c-856fb43c1559",
   "metadata": {},
   "outputs": [],
   "source": [
    "trip_ids = stop_times.trip_id.reset_index()[['trip_id']]\n"
   ]
  },
  {
   "cell_type": "code",
   "execution_count": 62,
   "id": "5d270dde-ec63-462c-bd85-38b1e1edb32e",
   "metadata": {},
   "outputs": [],
   "source": [
    "unique_trip_ids = trip_ids.merge(merged_gdf[['trip_id', 'trip_distance']], on = 'trip_id', how = 'inner').drop_duplicates()"
   ]
  },
  {
   "cell_type": "code",
   "execution_count": 63,
   "id": "3f643ac9-42f4-466e-b47e-097a236f6358",
   "metadata": {},
   "outputs": [
    {
     "data": {
      "text/html": [
       "<div>\n",
       "<style scoped>\n",
       "    .dataframe tbody tr th:only-of-type {\n",
       "        vertical-align: middle;\n",
       "    }\n",
       "\n",
       "    .dataframe tbody tr th {\n",
       "        vertical-align: top;\n",
       "    }\n",
       "\n",
       "    .dataframe thead th {\n",
       "        text-align: right;\n",
       "    }\n",
       "</style>\n",
       "<table border=\"1\" class=\"dataframe\">\n",
       "  <thead>\n",
       "    <tr style=\"text-align: right;\">\n",
       "      <th></th>\n",
       "      <th>trip_id</th>\n",
       "      <th>trip_distance</th>\n",
       "    </tr>\n",
       "  </thead>\n",
       "  <tbody>\n",
       "    <tr>\n",
       "      <th>0</th>\n",
       "      <td>t287-b194-sl4_merged_3564</td>\n",
       "      <td>1.239299</td>\n",
       "    </tr>\n",
       "    <tr>\n",
       "      <th>29</th>\n",
       "      <td>t708-b12D-sl4_merged_4213</td>\n",
       "      <td>7.959108</td>\n",
       "    </tr>\n",
       "  </tbody>\n",
       "</table>\n",
       "</div>"
      ],
      "text/plain": [
       "                      trip_id  trip_distance\n",
       "0   t287-b194-sl4_merged_3564       1.239299\n",
       "29  t708-b12D-sl4_merged_4213       7.959108"
      ]
     },
     "execution_count": 63,
     "metadata": {},
     "output_type": "execute_result"
    }
   ],
   "source": [
    "unique_trip_ids.head(2)"
   ]
  },
  {
   "cell_type": "code",
   "execution_count": 64,
   "id": "fe215360-f3b4-458b-a233-99105355b717",
   "metadata": {},
   "outputs": [],
   "source": [
    "trips_final = unique_trip_ids.merge(merged_stops_trip_id[['trip_id', 'shortest_distance_hwy']], on='trip_id', how = 'inner').drop_duplicates()"
   ]
  },
  {
   "cell_type": "code",
   "execution_count": 65,
   "id": "14cb4065-e2cd-464a-80fa-b0351f30059b",
   "metadata": {},
   "outputs": [
    {
     "data": {
      "text/html": [
       "<div>\n",
       "<style scoped>\n",
       "    .dataframe tbody tr th:only-of-type {\n",
       "        vertical-align: middle;\n",
       "    }\n",
       "\n",
       "    .dataframe tbody tr th {\n",
       "        vertical-align: top;\n",
       "    }\n",
       "\n",
       "    .dataframe thead th {\n",
       "        text-align: right;\n",
       "    }\n",
       "</style>\n",
       "<table border=\"1\" class=\"dataframe\">\n",
       "  <thead>\n",
       "    <tr style=\"text-align: right;\">\n",
       "      <th></th>\n",
       "      <th>trip_id</th>\n",
       "      <th>trip_distance</th>\n",
       "      <th>shortest_distance_hwy</th>\n",
       "    </tr>\n",
       "  </thead>\n",
       "  <tbody>\n",
       "    <tr>\n",
       "      <th>0</th>\n",
       "      <td>t287-b194-sl4_merged_3564</td>\n",
       "      <td>1.239299</td>\n",
       "      <td>6.153001e+06</td>\n",
       "    </tr>\n",
       "    <tr>\n",
       "      <th>1</th>\n",
       "      <td>t287-b194-sl4_merged_3564</td>\n",
       "      <td>1.239299</td>\n",
       "      <td>6.153001e+06</td>\n",
       "    </tr>\n",
       "    <tr>\n",
       "      <th>2</th>\n",
       "      <td>t287-b194-sl4_merged_3564</td>\n",
       "      <td>1.239299</td>\n",
       "      <td>6.153001e+06</td>\n",
       "    </tr>\n",
       "    <tr>\n",
       "      <th>3</th>\n",
       "      <td>t287-b194-sl4_merged_3564</td>\n",
       "      <td>1.239299</td>\n",
       "      <td>6.153001e+06</td>\n",
       "    </tr>\n",
       "    <tr>\n",
       "      <th>4</th>\n",
       "      <td>t287-b194-sl4_merged_3564</td>\n",
       "      <td>1.239299</td>\n",
       "      <td>6.153001e+06</td>\n",
       "    </tr>\n",
       "    <tr>\n",
       "      <th>5</th>\n",
       "      <td>t287-b194-sl4_merged_3564</td>\n",
       "      <td>1.239299</td>\n",
       "      <td>6.153001e+06</td>\n",
       "    </tr>\n",
       "    <tr>\n",
       "      <th>6</th>\n",
       "      <td>t287-b194-sl4_merged_3564</td>\n",
       "      <td>1.239299</td>\n",
       "      <td>6.153001e+06</td>\n",
       "    </tr>\n",
       "    <tr>\n",
       "      <th>7</th>\n",
       "      <td>t287-b194-sl4_merged_3564</td>\n",
       "      <td>1.239299</td>\n",
       "      <td>6.153001e+06</td>\n",
       "    </tr>\n",
       "    <tr>\n",
       "      <th>8</th>\n",
       "      <td>t287-b194-sl4_merged_3564</td>\n",
       "      <td>1.239299</td>\n",
       "      <td>6.153001e+06</td>\n",
       "    </tr>\n",
       "    <tr>\n",
       "      <th>9</th>\n",
       "      <td>t287-b194-sl4_merged_3564</td>\n",
       "      <td>1.239299</td>\n",
       "      <td>6.153001e+06</td>\n",
       "    </tr>\n",
       "  </tbody>\n",
       "</table>\n",
       "</div>"
      ],
      "text/plain": [
       "                     trip_id  trip_distance  shortest_distance_hwy\n",
       "0  t287-b194-sl4_merged_3564       1.239299           6.153001e+06\n",
       "1  t287-b194-sl4_merged_3564       1.239299           6.153001e+06\n",
       "2  t287-b194-sl4_merged_3564       1.239299           6.153001e+06\n",
       "3  t287-b194-sl4_merged_3564       1.239299           6.153001e+06\n",
       "4  t287-b194-sl4_merged_3564       1.239299           6.153001e+06\n",
       "5  t287-b194-sl4_merged_3564       1.239299           6.153001e+06\n",
       "6  t287-b194-sl4_merged_3564       1.239299           6.153001e+06\n",
       "7  t287-b194-sl4_merged_3564       1.239299           6.153001e+06\n",
       "8  t287-b194-sl4_merged_3564       1.239299           6.153001e+06\n",
       "9  t287-b194-sl4_merged_3564       1.239299           6.153001e+06"
      ]
     },
     "execution_count": 65,
     "metadata": {},
     "output_type": "execute_result"
    }
   ],
   "source": [
    "trips_final.head(10)"
   ]
  },
  {
   "cell_type": "code",
   "execution_count": null,
   "id": "e40462bc-5213-4719-99ca-f6c77b01ed4d",
   "metadata": {},
   "outputs": [],
   "source": []
  }
 ],
 "metadata": {
  "kernelspec": {
   "display_name": "Python 3 (ipykernel)",
   "language": "python",
   "name": "python3"
  },
  "language_info": {
   "codemirror_mode": {
    "name": "ipython",
    "version": 3
   },
   "file_extension": ".py",
   "mimetype": "text/x-python",
   "name": "python",
   "nbconvert_exporter": "python",
   "pygments_lexer": "ipython3",
   "version": "3.9.13"
  }
 },
 "nbformat": 4,
 "nbformat_minor": 5
}
