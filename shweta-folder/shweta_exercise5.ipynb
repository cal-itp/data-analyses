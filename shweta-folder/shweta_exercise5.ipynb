{
 "cells": [
  {
   "cell_type": "markdown",
   "id": "be271b0b-3fc1-4b28-998f-6c3ee50140f3",
   "metadata": {},
   "source": [
    "## Exercise 5: Geospatial wrangling and making maps\n",
    "\n",
    "Skills: \n",
    "* More geospatial practice building on earlier skills\n",
    "* Make a map with `geopandas`\n",
    "\n",
    "References: \n",
    "* https://docs.calitp.org/data-infra/analytics_new_analysts/02-data-analysis-intermediate.html\n",
    "* https://docs.calitp.org/data-infra/analytics_tools/python_libraries.html"
   ]
  },
  {
   "cell_type": "code",
   "execution_count": 1,
   "id": "cd857644-ccaa-4eb8-8e67-f506a46bbace",
   "metadata": {},
   "outputs": [
    {
     "name": "stderr",
     "output_type": "stream",
     "text": [
      "/opt/conda/lib/python3.9/site-packages/google/auth/_default.py:78: UserWarning: Your application has authenticated using end user credentials from Google Cloud SDK without a quota project. You might receive a \"quota exceeded\" or \"API not enabled\" error. See the following page for troubleshooting: https://cloud.google.com/docs/authentication/adc-troubleshooting/user-creds. \n",
      "  warnings.warn(_CLOUD_SDK_CREDENTIALS_WARNING)\n",
      "/opt/conda/lib/python3.9/site-packages/google/auth/_default.py:78: UserWarning: Your application has authenticated using end user credentials from Google Cloud SDK without a quota project. You might receive a \"quota exceeded\" or \"API not enabled\" error. See the following page for troubleshooting: https://cloud.google.com/docs/authentication/adc-troubleshooting/user-creds. \n",
      "  warnings.warn(_CLOUD_SDK_CREDENTIALS_WARNING)\n",
      "/opt/conda/lib/python3.9/site-packages/google/auth/_default.py:78: UserWarning: Your application has authenticated using end user credentials from Google Cloud SDK without a quota project. You might receive a \"quota exceeded\" or \"API not enabled\" error. See the following page for troubleshooting: https://cloud.google.com/docs/authentication/adc-troubleshooting/user-creds. \n",
      "  warnings.warn(_CLOUD_SDK_CREDENTIALS_WARNING)\n"
     ]
    }
   ],
   "source": [
    "import geopandas as gpd\n",
    "import intake\n",
    "import os\n",
    "import pandas as pd\n",
    "import shapely\n",
    "\n",
    "os.environ[\"CALITP_BQ_MAX_BYTES\"] = str(100_000_000_000)\n",
    "\n",
    "from calitp_data_analysis.tables import tbls\n",
    "from siuba import *\n",
    "\n",
    "# Hint: if this doesn't import: refer to docs for correctly import\n",
    "# cd into _shared_utils folder, run the make setup_env command\n",
    "import shared_utils\n"
   ]
  },
  {
   "cell_type": "markdown",
   "id": "6c762aa7-15ac-4f6d-9867-e35b0b723a57",
   "metadata": {
    "tags": []
   },
   "source": [
    "## Research Question\n",
    "\n",
    "What's the average number of trips per stop by operators in southern California? Show visualizations at the operator and county-level.\n",
    "<br>**Geographic scope:** southern California counties\n",
    "<br>**Deliverables:** chart(s) and map(s) showing metrics comparing across counties and also across operators. Make these visualizations using function(s).\n",
    "\n",
    "### Prep data\n",
    "\n",
    "* Use the same query, but grab a different set of operators. These are in southern California, so the map should zoom in counties ranging from LA to SD.\n",
    "* *Hint*: for some counties, there are multiple operators. Make sure the average stop events per stop by counties is the weighted average.\n",
    "* Use the same [shapefile for CA counties](https://gis.data.ca.gov/datasets/CALFIRE-Forestry::california-county-boundaries/explore?location=37.246136%2C-119.002032%2C6.12) as in Exercise 4.\n",
    "* Join the data and only keep counties that have bus stops.\n",
    "* If you cannot connect to the warehouse, use this dict to map feed_keys to names.\n",
    "    ```\n",
    "    feed_keys_to_names_dict = {\n",
    "        \"71d91d70ad6c07b1f9b0a618ffceef93\": \"Alhambra Schedule\",\n",
    "        \"a7ba6f075198e9bf9152fab6c7faf0f6\": \"San Diego Schedule\",\n",
    "        \"4f77ef02b983eccc0869c7540f98a7d0\": \"Big Blue Bus Schedule\"\n",
    "        \"ae93a53469371fb3f9059d2097f66842\": \"OmniTrans Schedule\",\n",
    "        \"180d48eb03829594478082dca5782ccd\": \"Culver City Schedule\"\n",
    "    }\n",
    "    ```"
   ]
  },
  {
   "cell_type": "code",
   "execution_count": 2,
   "id": "70512352-33d1-4724-bc4f-fe05defeab77",
   "metadata": {
    "tags": []
   },
   "outputs": [
    {
     "name": "stdout",
     "output_type": "stream",
     "text": [
      "['Fx', 'GCS_PROJECT', 'Literal', 'METROLINK_ROUTE_TO_SHAPE', 'METROLINK_SHAPE_TO_ROUTE', 'Pipeable', 'Union', '_', '__builtins__', '__cached__', '__doc__', '__file__', '__loader__', '__name__', '__package__', '__spec__', 'across', 'add_count', 'anti_join', 'arrange', 'case_when', 'check_operator_feeds', 'collect', 'complete', 'count', 'datetime', 'distinct', 'expand', 'extract', 'fill_in_metrolink_trips_df_with_shape_id', 'filter', 'filter_custom_col', 'filter_date', 'filter_feed_options', 'filter_operator', 'filter_start_end_ts', 'full_join', 'gather', 'geography_utils', 'get_metrolink_feed_key', 'get_shapes', 'get_stop_times', 'get_stops', 'get_trips', 'gpd', 'group_by', 'head', 'hour_tuple_to_seconds', 'if_else', 'inner_join', 'join', 'left_join', 'mutate', 'nest', 'pd', 'pipe', 'rename', 'right_join', 'schedule_daily_feed_to_gtfs_dataset_name', 'schedule_rt_utils', 'select', 'semi_join', 'separate', 'shapely', 'show_query', 'siuba', 'spread', 'subset_cols', 'summarize', 'tbl', 'tbls', 'top_n', 'transmute', 'ungroup', 'unite', 'unnest']\n"
     ]
    }
   ],
   "source": [
    "#checking what is included in the shared_utils.gtfs_utils_v2 module\n",
    "\n",
    "print(dir(shared_utils.gtfs_utils_v2)) "
   ]
  },
  {
   "cell_type": "code",
   "execution_count": 3,
   "id": "3d11c71e-06f2-4419-827e-8a4e0876f412",
   "metadata": {
    "tags": []
   },
   "outputs": [
    {
     "data": {
      "text/html": [
       "<div>\n",
       "<style scoped>\n",
       "    .dataframe tbody tr th:only-of-type {\n",
       "        vertical-align: middle;\n",
       "    }\n",
       "\n",
       "    .dataframe tbody tr th {\n",
       "        vertical-align: top;\n",
       "    }\n",
       "\n",
       "    .dataframe thead th {\n",
       "        text-align: right;\n",
       "    }\n",
       "</style>\n",
       "<table border=\"1\" class=\"dataframe\">\n",
       "  <thead>\n",
       "    <tr style=\"text-align: right;\">\n",
       "      <th></th>\n",
       "      <th>feed_key</th>\n",
       "      <th>name</th>\n",
       "    </tr>\n",
       "  </thead>\n",
       "  <tbody>\n",
       "    <tr>\n",
       "      <th>0</th>\n",
       "      <td>5efaa2460085a481db5dfbf57ae78187</td>\n",
       "      <td>Kern Schedule</td>\n",
       "    </tr>\n",
       "    <tr>\n",
       "      <th>1</th>\n",
       "      <td>c50220b8622624dfa0c5c22859b14694</td>\n",
       "      <td>Humboldt Schedule</td>\n",
       "    </tr>\n",
       "    <tr>\n",
       "      <th>2</th>\n",
       "      <td>1b77ef49f5bc70038cbf15e4f5f98477</td>\n",
       "      <td>Compton Schedule</td>\n",
       "    </tr>\n",
       "    <tr>\n",
       "      <th>3</th>\n",
       "      <td>4b6b673ab50c016344c1adf09de2cc84</td>\n",
       "      <td>Banning Pass Schedule</td>\n",
       "    </tr>\n",
       "    <tr>\n",
       "      <th>4</th>\n",
       "      <td>7a7e9069dedca7a58e5a89aaa0a97256</td>\n",
       "      <td>Bay Area 511 Santa Rosa CityBus Schedule</td>\n",
       "    </tr>\n",
       "    <tr>\n",
       "      <th>...</th>\n",
       "      <td>...</td>\n",
       "      <td>...</td>\n",
       "    </tr>\n",
       "    <tr>\n",
       "      <th>195</th>\n",
       "      <td>be1ab75c2b37f1ee2964d0c00b56707f</td>\n",
       "      <td>Huntington Schedule</td>\n",
       "    </tr>\n",
       "    <tr>\n",
       "      <th>196</th>\n",
       "      <td>3551cafd288e0f647ff54627e26d0479</td>\n",
       "      <td>SBMTD Schedule</td>\n",
       "    </tr>\n",
       "    <tr>\n",
       "      <th>197</th>\n",
       "      <td>b20a7d27be377835a8d542b5b7a34e9a</td>\n",
       "      <td>El Segundo Schedule</td>\n",
       "    </tr>\n",
       "    <tr>\n",
       "      <th>198</th>\n",
       "      <td>a7fdbe01be9a5f96e9e45a3aceb17167</td>\n",
       "      <td>Turlock Schedule</td>\n",
       "    </tr>\n",
       "    <tr>\n",
       "      <th>199</th>\n",
       "      <td>d76560b3dfecce2d588023bf1d1c4c2d</td>\n",
       "      <td>Alhambra Schedule</td>\n",
       "    </tr>\n",
       "  </tbody>\n",
       "</table>\n",
       "<p>200 rows × 2 columns</p>\n",
       "</div>"
      ],
      "text/plain": [
       "                             feed_key  \\\n",
       "0    5efaa2460085a481db5dfbf57ae78187   \n",
       "1    c50220b8622624dfa0c5c22859b14694   \n",
       "2    1b77ef49f5bc70038cbf15e4f5f98477   \n",
       "3    4b6b673ab50c016344c1adf09de2cc84   \n",
       "4    7a7e9069dedca7a58e5a89aaa0a97256   \n",
       "..                                ...   \n",
       "195  be1ab75c2b37f1ee2964d0c00b56707f   \n",
       "196  3551cafd288e0f647ff54627e26d0479   \n",
       "197  b20a7d27be377835a8d542b5b7a34e9a   \n",
       "198  a7fdbe01be9a5f96e9e45a3aceb17167   \n",
       "199  d76560b3dfecce2d588023bf1d1c4c2d   \n",
       "\n",
       "                                         name  \n",
       "0                               Kern Schedule  \n",
       "1                           Humboldt Schedule  \n",
       "2                            Compton Schedule  \n",
       "3                       Banning Pass Schedule  \n",
       "4    Bay Area 511 Santa Rosa CityBus Schedule  \n",
       "..                                        ...  \n",
       "195                       Huntington Schedule  \n",
       "196                            SBMTD Schedule  \n",
       "197                       El Segundo Schedule  \n",
       "198                          Turlock Schedule  \n",
       "199                         Alhambra Schedule  \n",
       "\n",
       "[200 rows x 2 columns]"
      ]
     },
     "execution_count": 3,
     "metadata": {},
     "output_type": "execute_result"
    }
   ],
   "source": [
    "#schedule_daily_feed_to_organization name has changed to schedule_daily_feed_to_gtfs_dataset_name\n",
    "feeds_to_names = shared_utils.gtfs_utils_v2.schedule_daily_feed_to_gtfs_dataset_name(\n",
    "    selected_date = \"2022-06-01\",\n",
    "    get_df = True\n",
    ")[[\"feed_key\", \"name\"]].drop_duplicates()\n",
    "\n",
    "feeds_to_names"
   ]
  },
  {
   "cell_type": "code",
   "execution_count": 4,
   "id": "277963d3-fb42-44db-83ae-9ba310e6c383",
   "metadata": {},
   "outputs": [],
   "source": [
    "OPERATORS = [\n",
    "    \"Alhambra Schedule\", \n",
    "    \"San Diego Schedule\",\n",
    "    \"Big Blue Bus Schedule\",\n",
    "    \"Culver City Schedule\",\n",
    "    \"OmniTrans Schedule\",\n",
    "    \"OCTA Schedule\"\n",
    "]\n",
    "\n",
    "SUBSET_FEEDS = feeds_to_names[\n",
    "    feeds_to_names.name.isin(OPERATORS)\n",
    "].feed_key.tolist()\n"
   ]
  },
  {
   "cell_type": "code",
   "execution_count": 5,
   "id": "cb619ecd-d33d-4d77-b9d0-547958dd069f",
   "metadata": {},
   "outputs": [
    {
     "name": "stderr",
     "output_type": "stream",
     "text": [
      "/opt/conda/lib/python3.9/site-packages/sqlalchemy_bigquery/_types.py:101: SAWarning: Did not recognize type 'GEOGRAPHY' of column 'pt_geom'\n",
      "  sqlalchemy.util.warn(\n"
     ]
    }
   ],
   "source": [
    "stops = (\n",
    "    tbls.mart_gtfs.fct_daily_scheduled_stops()\n",
    "    >> filter(_.feed_key.isin(SUBSET_FEEDS))\n",
    "    >> filter(_.service_date == \"2022-06-01\")\n",
    "    >> select(_.feed_key, \n",
    "              _.stop_id, _.pt_geom)\n",
    "    >> collect()\n",
    ")"
   ]
  },
  {
   "cell_type": "markdown",
   "id": "8a89644b-4f56-40cc-b808-d5ddb7cfd1ef",
   "metadata": {},
   "source": [
    "Check the type of `stops`. Is it a pandas df or geopandas gdf?"
   ]
  },
  {
   "cell_type": "code",
   "execution_count": 6,
   "id": "716059a9-55e4-4696-a6ae-26ae982b70ed",
   "metadata": {},
   "outputs": [
    {
     "data": {
      "text/plain": [
       "pandas.core.frame.DataFrame"
      ]
     },
     "execution_count": 6,
     "metadata": {},
     "output_type": "execute_result"
    }
   ],
   "source": [
    "type(stops)"
   ]
  },
  {
   "cell_type": "markdown",
   "id": "77f40a98-ec77-4608-94c0-c8e2255324a6",
   "metadata": {},
   "source": [
    "> Stops is pandas dataframe."
   ]
  },
  {
   "cell_type": "code",
   "execution_count": 7,
   "id": "e005feff-97dc-4972-9f7e-a80896e37d5c",
   "metadata": {},
   "outputs": [
    {
     "data": {
      "text/html": [
       "<div>\n",
       "<style scoped>\n",
       "    .dataframe tbody tr th:only-of-type {\n",
       "        vertical-align: middle;\n",
       "    }\n",
       "\n",
       "    .dataframe tbody tr th {\n",
       "        vertical-align: top;\n",
       "    }\n",
       "\n",
       "    .dataframe thead th {\n",
       "        text-align: right;\n",
       "    }\n",
       "</style>\n",
       "<table border=\"1\" class=\"dataframe\">\n",
       "  <thead>\n",
       "    <tr style=\"text-align: right;\">\n",
       "      <th></th>\n",
       "      <th>feed_key</th>\n",
       "      <th>stop_id</th>\n",
       "      <th>pt_geom</th>\n",
       "    </tr>\n",
       "  </thead>\n",
       "  <tbody>\n",
       "    <tr>\n",
       "      <th>0</th>\n",
       "      <td>41ee0151e3cac17098d055ce25b3f104</td>\n",
       "      <td>151</td>\n",
       "      <td>POINT(-118.414249 33.992827)</td>\n",
       "    </tr>\n",
       "    <tr>\n",
       "      <th>1</th>\n",
       "      <td>41ee0151e3cac17098d055ce25b3f104</td>\n",
       "      <td>152</td>\n",
       "      <td>POINT(-118.412862 33.994731)</td>\n",
       "    </tr>\n",
       "    <tr>\n",
       "      <th>2</th>\n",
       "      <td>41ee0151e3cac17098d055ce25b3f104</td>\n",
       "      <td>153</td>\n",
       "      <td>POINT(-118.411612 33.996444)</td>\n",
       "    </tr>\n",
       "    <tr>\n",
       "      <th>3</th>\n",
       "      <td>41ee0151e3cac17098d055ce25b3f104</td>\n",
       "      <td>154</td>\n",
       "      <td>POINT(-118.410039 33.998632)</td>\n",
       "    </tr>\n",
       "    <tr>\n",
       "      <th>4</th>\n",
       "      <td>41ee0151e3cac17098d055ce25b3f104</td>\n",
       "      <td>155</td>\n",
       "      <td>POINT(-118.408081 34.001101)</td>\n",
       "    </tr>\n",
       "    <tr>\n",
       "      <th>...</th>\n",
       "      <td>...</td>\n",
       "      <td>...</td>\n",
       "      <td>...</td>\n",
       "    </tr>\n",
       "    <tr>\n",
       "      <th>13242</th>\n",
       "      <td>e7985c6c0c873f17871d79a527a50afa</td>\n",
       "      <td>7249</td>\n",
       "      <td>POINT(-117.815121 33.745222)</td>\n",
       "    </tr>\n",
       "    <tr>\n",
       "      <th>13243</th>\n",
       "      <td>e7985c6c0c873f17871d79a527a50afa</td>\n",
       "      <td>7250</td>\n",
       "      <td>POINT(-117.816895 33.74346)</td>\n",
       "    </tr>\n",
       "    <tr>\n",
       "      <th>13244</th>\n",
       "      <td>e7985c6c0c873f17871d79a527a50afa</td>\n",
       "      <td>6309</td>\n",
       "      <td>POINT(-117.876418 33.750429)</td>\n",
       "    </tr>\n",
       "    <tr>\n",
       "      <th>13245</th>\n",
       "      <td>e7985c6c0c873f17871d79a527a50afa</td>\n",
       "      <td>1030</td>\n",
       "      <td>POINT(-117.883635 33.915522)</td>\n",
       "    </tr>\n",
       "    <tr>\n",
       "      <th>13246</th>\n",
       "      <td>e7985c6c0c873f17871d79a527a50afa</td>\n",
       "      <td>4022</td>\n",
       "      <td>POINT(-118.116923 33.775131)</td>\n",
       "    </tr>\n",
       "  </tbody>\n",
       "</table>\n",
       "<p>13247 rows × 3 columns</p>\n",
       "</div>"
      ],
      "text/plain": [
       "                               feed_key stop_id                       pt_geom\n",
       "0      41ee0151e3cac17098d055ce25b3f104     151  POINT(-118.414249 33.992827)\n",
       "1      41ee0151e3cac17098d055ce25b3f104     152  POINT(-118.412862 33.994731)\n",
       "2      41ee0151e3cac17098d055ce25b3f104     153  POINT(-118.411612 33.996444)\n",
       "3      41ee0151e3cac17098d055ce25b3f104     154  POINT(-118.410039 33.998632)\n",
       "4      41ee0151e3cac17098d055ce25b3f104     155  POINT(-118.408081 34.001101)\n",
       "...                                 ...     ...                           ...\n",
       "13242  e7985c6c0c873f17871d79a527a50afa    7249  POINT(-117.815121 33.745222)\n",
       "13243  e7985c6c0c873f17871d79a527a50afa    7250   POINT(-117.816895 33.74346)\n",
       "13244  e7985c6c0c873f17871d79a527a50afa    6309  POINT(-117.876418 33.750429)\n",
       "13245  e7985c6c0c873f17871d79a527a50afa    1030  POINT(-117.883635 33.915522)\n",
       "13246  e7985c6c0c873f17871d79a527a50afa    4022  POINT(-118.116923 33.775131)\n",
       "\n",
       "[13247 rows x 3 columns]"
      ]
     },
     "execution_count": 7,
     "metadata": {},
     "output_type": "execute_result"
    }
   ],
   "source": [
    "stops"
   ]
  },
  {
   "cell_type": "code",
   "execution_count": 8,
   "id": "5d1b1ae2-84a6-4f0a-8635-6f8575bf842c",
   "metadata": {
    "tags": []
   },
   "outputs": [],
   "source": [
    "# Turn stops into a gdf\n",
    "geom = [shapely.wkt.loads(x) for x in stops.pt_geom]\n",
    "\n",
    "stops = gpd.GeoDataFrame(\n",
    "    stops, \n",
    "    geometry=geom, \n",
    "    crs=\"EPSG:4326\"\n",
    ").drop(columns=\"pt_geom\")"
   ]
  },
  {
   "cell_type": "markdown",
   "id": "ea41dd6f-4e50-4dc3-a349-82ef1acdd621",
   "metadata": {},
   "source": [
    "Check the type of `stops`. Is it a pandas df or geopandas gdf?\n",
    "\n",
    "What is the CRS and geometry column name?"
   ]
  },
  {
   "cell_type": "code",
   "execution_count": 9,
   "id": "2de7a91f-a372-4f58-b20c-51a039afb286",
   "metadata": {},
   "outputs": [
    {
     "data": {
      "text/plain": [
       "geopandas.geodataframe.GeoDataFrame"
      ]
     },
     "execution_count": 9,
     "metadata": {},
     "output_type": "execute_result"
    }
   ],
   "source": [
    "type(stops)"
   ]
  },
  {
   "cell_type": "code",
   "execution_count": 10,
   "id": "dc786a6a-16b1-43f6-84e4-23ad01866f2c",
   "metadata": {},
   "outputs": [
    {
     "data": {
      "text/plain": [
       "'geometry'"
      ]
     },
     "execution_count": 10,
     "metadata": {},
     "output_type": "execute_result"
    }
   ],
   "source": [
    "stops.geometry.name"
   ]
  },
  {
   "cell_type": "code",
   "execution_count": 11,
   "id": "17289138-06b9-484d-b0bd-58698fc49550",
   "metadata": {
    "tags": []
   },
   "outputs": [
    {
     "data": {
      "text/plain": [
       "<Geographic 2D CRS: EPSG:4326>\n",
       "Name: WGS 84\n",
       "Axis Info [ellipsoidal]:\n",
       "- Lat[north]: Geodetic latitude (degree)\n",
       "- Lon[east]: Geodetic longitude (degree)\n",
       "Area of Use:\n",
       "- name: World.\n",
       "- bounds: (-180.0, -90.0, 180.0, 90.0)\n",
       "Datum: World Geodetic System 1984 ensemble\n",
       "- Ellipsoid: WGS 84\n",
       "- Prime Meridian: Greenwich"
      ]
     },
     "execution_count": 11,
     "metadata": {},
     "output_type": "execute_result"
    }
   ],
   "source": [
    "stops.crs"
   ]
  },
  {
   "cell_type": "markdown",
   "id": "893a7fff-a99e-4eed-ae04-1cf5f6549f9d",
   "metadata": {},
   "source": [
    "### Bring in a new table from BigQuery\n",
    "\n",
    "* In `mart_gtfs`, bring in the table called `fct_daily_scheduled_stops` for the subset of feeds defined above.\n",
    "* Modify the snippet below to:\n",
    "   * filter for the subset of operators\n",
    "   * only keep columns: `feed_key`, `stop_id`, `stop_event_count`"
   ]
  },
  {
   "cell_type": "code",
   "execution_count": 84,
   "id": "14b70ab4-b500-4d89-b9bc-fbb9363b0ef3",
   "metadata": {
    "tags": []
   },
   "outputs": [
    {
     "data": {
      "text/html": [
       "<div>\n",
       "<style scoped>\n",
       "    .dataframe tbody tr th:only-of-type {\n",
       "        vertical-align: middle;\n",
       "    }\n",
       "\n",
       "    .dataframe tbody tr th {\n",
       "        vertical-align: top;\n",
       "    }\n",
       "\n",
       "    .dataframe thead th {\n",
       "        text-align: right;\n",
       "    }\n",
       "</style>\n",
       "<table border=\"1\" class=\"dataframe\">\n",
       "  <thead>\n",
       "    <tr style=\"text-align: right;\">\n",
       "      <th></th>\n",
       "      <th>feed_key</th>\n",
       "      <th>stop_id</th>\n",
       "      <th>stop_event_count</th>\n",
       "      <th>pt_geom</th>\n",
       "    </tr>\n",
       "  </thead>\n",
       "  <tbody>\n",
       "    <tr>\n",
       "      <th>0</th>\n",
       "      <td>a3af905228efc93bb48f360b92965afb</td>\n",
       "      <td>7498</td>\n",
       "      <td>1</td>\n",
       "      <td>POINT(-117.566836 34.018881)</td>\n",
       "    </tr>\n",
       "    <tr>\n",
       "      <th>1</th>\n",
       "      <td>a3af905228efc93bb48f360b92965afb</td>\n",
       "      <td>7510</td>\n",
       "      <td>1</td>\n",
       "      <td>POINT(-117.56684 34.01906)</td>\n",
       "    </tr>\n",
       "    <tr>\n",
       "      <th>2</th>\n",
       "      <td>a3af905228efc93bb48f360b92965afb</td>\n",
       "      <td>8924</td>\n",
       "      <td>1</td>\n",
       "      <td>POINT(-117.575712 34.001556)</td>\n",
       "    </tr>\n",
       "    <tr>\n",
       "      <th>3</th>\n",
       "      <td>a3af905228efc93bb48f360b92965afb</td>\n",
       "      <td>8925</td>\n",
       "      <td>1</td>\n",
       "      <td>POINT(-117.575702 34.007739)</td>\n",
       "    </tr>\n",
       "    <tr>\n",
       "      <th>4</th>\n",
       "      <td>a3af905228efc93bb48f360b92965afb</td>\n",
       "      <td>8926</td>\n",
       "      <td>1</td>\n",
       "      <td>POINT(-117.575993 34.006527)</td>\n",
       "    </tr>\n",
       "    <tr>\n",
       "      <th>...</th>\n",
       "      <td>...</td>\n",
       "      <td>...</td>\n",
       "      <td>...</td>\n",
       "      <td>...</td>\n",
       "    </tr>\n",
       "    <tr>\n",
       "      <th>13242</th>\n",
       "      <td>239e56d11510f71d7182a24c5621be8c</td>\n",
       "      <td>1184</td>\n",
       "      <td>205</td>\n",
       "      <td>POINT(-118.444813 34.069451)</td>\n",
       "    </tr>\n",
       "    <tr>\n",
       "      <th>13243</th>\n",
       "      <td>239e56d11510f71d7182a24c5621be8c</td>\n",
       "      <td>72</td>\n",
       "      <td>216</td>\n",
       "      <td>POINT(-118.484154 34.011762)</td>\n",
       "    </tr>\n",
       "    <tr>\n",
       "      <th>13244</th>\n",
       "      <td>239e56d11510f71d7182a24c5621be8c</td>\n",
       "      <td>304</td>\n",
       "      <td>237</td>\n",
       "      <td>POINT(-118.444838 34.059653)</td>\n",
       "    </tr>\n",
       "    <tr>\n",
       "      <th>13245</th>\n",
       "      <td>239e56d11510f71d7182a24c5621be8c</td>\n",
       "      <td>402</td>\n",
       "      <td>246</td>\n",
       "      <td>POINT(-118.445258 34.062525)</td>\n",
       "    </tr>\n",
       "    <tr>\n",
       "      <th>13246</th>\n",
       "      <td>239e56d11510f71d7182a24c5621be8c</td>\n",
       "      <td>21</td>\n",
       "      <td>251</td>\n",
       "      <td>POINT(-118.49245 34.014137)</td>\n",
       "    </tr>\n",
       "  </tbody>\n",
       "</table>\n",
       "<p>13247 rows × 4 columns</p>\n",
       "</div>"
      ],
      "text/plain": [
       "                               feed_key stop_id  stop_event_count  \\\n",
       "0      a3af905228efc93bb48f360b92965afb    7498                 1   \n",
       "1      a3af905228efc93bb48f360b92965afb    7510                 1   \n",
       "2      a3af905228efc93bb48f360b92965afb    8924                 1   \n",
       "3      a3af905228efc93bb48f360b92965afb    8925                 1   \n",
       "4      a3af905228efc93bb48f360b92965afb    8926                 1   \n",
       "...                                 ...     ...               ...   \n",
       "13242  239e56d11510f71d7182a24c5621be8c    1184               205   \n",
       "13243  239e56d11510f71d7182a24c5621be8c      72               216   \n",
       "13244  239e56d11510f71d7182a24c5621be8c     304               237   \n",
       "13245  239e56d11510f71d7182a24c5621be8c     402               246   \n",
       "13246  239e56d11510f71d7182a24c5621be8c      21               251   \n",
       "\n",
       "                            pt_geom  \n",
       "0      POINT(-117.566836 34.018881)  \n",
       "1        POINT(-117.56684 34.01906)  \n",
       "2      POINT(-117.575712 34.001556)  \n",
       "3      POINT(-117.575702 34.007739)  \n",
       "4      POINT(-117.575993 34.006527)  \n",
       "...                             ...  \n",
       "13242  POINT(-118.444813 34.069451)  \n",
       "13243  POINT(-118.484154 34.011762)  \n",
       "13244  POINT(-118.444838 34.059653)  \n",
       "13245  POINT(-118.445258 34.062525)  \n",
       "13246   POINT(-118.49245 34.014137)  \n",
       "\n",
       "[13247 rows x 4 columns]"
      ]
     },
     "execution_count": 84,
     "metadata": {},
     "output_type": "execute_result"
    }
   ],
   "source": [
    "stop_counts = (\n",
    "    tbls.mart_gtfs.fct_daily_scheduled_stops()\n",
    "    >> filter(_.service_date == \"2022-06-01\")\n",
    "    >> filter(_.feed_key.isin(SUBSET_FEEDS))\n",
    "    >> select(_.feed_key, _.stop_id, _.stop_event_count, _.pt_geom)\n",
    "    >> collect()\n",
    ")\n",
    "\n",
    "stop_counts"
   ]
  },
  {
   "cell_type": "code",
   "execution_count": 13,
   "id": "918d1f37-7887-46e7-bdf9-11b2a7b255f8",
   "metadata": {},
   "outputs": [],
   "source": [
    "# Turn stops into a gdf\n",
    "geom1 = [shapely.wkt.loads(x) for x in stop_counts.pt_geom]\n",
    "\n",
    "stop_counts = gpd.GeoDataFrame(\n",
    "    stop_counts, \n",
    "    geometry=geom1, \n",
    "    crs=\"EPSG:4326\"\n",
    ").drop(columns=\"pt_geom\")\n",
    "\n"
   ]
  },
  {
   "cell_type": "markdown",
   "id": "e8f32be3-7e0e-4c51-affd-1c67b879b0ec",
   "metadata": {},
   "source": [
    "### Aggregate\n",
    "* Write a function to aggregate to the operator level or county level, add new columns for desired metrics.\n",
    "* Merge in CA shapefile to get a gdf.\n",
    "* Add another `geometry` column, called `centroid`, and grab the county's centroid.\n",
    "* Refer to [docs](https://geopandas.org/en/stable/docs/reference/api/geopandas.GeoDataFrame.set_geometry.html) to see how to pick which column to use as the `geometry` for the gdf, since technically, a gdf can handle multiple geometry columns."
   ]
  },
  {
   "cell_type": "code",
   "execution_count": 14,
   "id": "34d6c962-a61a-4df2-9244-7bf4ca0415c4",
   "metadata": {
    "tags": []
   },
   "outputs": [
    {
     "data": {
      "text/html": [
       "<div>\n",
       "<style scoped>\n",
       "    .dataframe tbody tr th:only-of-type {\n",
       "        vertical-align: middle;\n",
       "    }\n",
       "\n",
       "    .dataframe tbody tr th {\n",
       "        vertical-align: top;\n",
       "    }\n",
       "\n",
       "    .dataframe thead th {\n",
       "        text-align: right;\n",
       "    }\n",
       "</style>\n",
       "<table border=\"1\" class=\"dataframe\">\n",
       "  <thead>\n",
       "    <tr style=\"text-align: right;\">\n",
       "      <th></th>\n",
       "      <th>OBJECTID</th>\n",
       "      <th>COUNTY_NAME</th>\n",
       "      <th>COUNTY_ABBREV</th>\n",
       "      <th>COUNTY_NUM</th>\n",
       "      <th>COUNTY_CODE</th>\n",
       "      <th>COUNTY_FIPS</th>\n",
       "      <th>ISLAND</th>\n",
       "      <th>Shape__Area</th>\n",
       "      <th>Shape__Length</th>\n",
       "      <th>GlobalID</th>\n",
       "      <th>geometry</th>\n",
       "    </tr>\n",
       "  </thead>\n",
       "  <tbody>\n",
       "    <tr>\n",
       "      <th>0</th>\n",
       "      <td>1</td>\n",
       "      <td>Alameda</td>\n",
       "      <td>ALA</td>\n",
       "      <td>1</td>\n",
       "      <td>01</td>\n",
       "      <td>001</td>\n",
       "      <td>NaN</td>\n",
       "      <td>3.402787e+09</td>\n",
       "      <td>308998.650766</td>\n",
       "      <td>e6f92268-d2dd-4cfb-8b79-5b4b2f07c559</td>\n",
       "      <td>POLYGON ((-122.27125 37.90503, -122.27024 37.9...</td>\n",
       "    </tr>\n",
       "    <tr>\n",
       "      <th>1</th>\n",
       "      <td>2</td>\n",
       "      <td>Alpine</td>\n",
       "      <td>ALP</td>\n",
       "      <td>2</td>\n",
       "      <td>02</td>\n",
       "      <td>003</td>\n",
       "      <td>NaN</td>\n",
       "      <td>3.146939e+09</td>\n",
       "      <td>274888.492411</td>\n",
       "      <td>870479b2-480a-494b-8352-ad60578839c1</td>\n",
       "      <td>POLYGON ((-119.58667 38.71420, -119.58653 38.7...</td>\n",
       "    </tr>\n",
       "  </tbody>\n",
       "</table>\n",
       "</div>"
      ],
      "text/plain": [
       "   OBJECTID COUNTY_NAME COUNTY_ABBREV  COUNTY_NUM COUNTY_CODE COUNTY_FIPS  \\\n",
       "0         1     Alameda           ALA           1          01         001   \n",
       "1         2      Alpine           ALP           2          02         003   \n",
       "\n",
       "  ISLAND   Shape__Area  Shape__Length                              GlobalID  \\\n",
       "0    NaN  3.402787e+09  308998.650766  e6f92268-d2dd-4cfb-8b79-5b4b2f07c559   \n",
       "1    NaN  3.146939e+09  274888.492411  870479b2-480a-494b-8352-ad60578839c1   \n",
       "\n",
       "                                            geometry  \n",
       "0  POLYGON ((-122.27125 37.90503, -122.27024 37.9...  \n",
       "1  POLYGON ((-119.58667 38.71420, -119.58653 38.7...  "
      ]
     },
     "execution_count": 14,
     "metadata": {},
     "output_type": "execute_result"
    }
   ],
   "source": [
    "#Bringing in the CA shapefile from the URL\n",
    "LONG_URL_PATH = \"https://services1.arcgis.com/jUJYIo9tSA7EHvfZ/arcgis/rest/services/California_County_Boundaries/FeatureServer/0/query?outFields=*&where=1%3D1&f=geojson\"\n",
    "CA_county = gpd.read_file(LONG_URL_PATH)\n",
    "CA_county.head(2)"
   ]
  },
  {
   "cell_type": "code",
   "execution_count": 17,
   "id": "9654fa1e-da4c-4e03-90b8-3c4572b01637",
   "metadata": {},
   "outputs": [
    {
     "data": {
      "text/html": [
       "<div>\n",
       "<style scoped>\n",
       "    .dataframe tbody tr th:only-of-type {\n",
       "        vertical-align: middle;\n",
       "    }\n",
       "\n",
       "    .dataframe tbody tr th {\n",
       "        vertical-align: top;\n",
       "    }\n",
       "\n",
       "    .dataframe thead th {\n",
       "        text-align: right;\n",
       "    }\n",
       "</style>\n",
       "<table border=\"1\" class=\"dataframe\">\n",
       "  <thead>\n",
       "    <tr style=\"text-align: right;\">\n",
       "      <th></th>\n",
       "      <th>OBJECTID</th>\n",
       "      <th>COUNTY_NAME</th>\n",
       "      <th>COUNTY_ABBREV</th>\n",
       "      <th>COUNTY_NUM</th>\n",
       "      <th>COUNTY_CODE</th>\n",
       "      <th>COUNTY_FIPS</th>\n",
       "      <th>ISLAND</th>\n",
       "      <th>Shape__Area</th>\n",
       "      <th>Shape__Length</th>\n",
       "      <th>GlobalID</th>\n",
       "      <th>geometry</th>\n",
       "      <th>index_right</th>\n",
       "      <th>feed_key</th>\n",
       "      <th>stop_id</th>\n",
       "      <th>stop_event_count</th>\n",
       "    </tr>\n",
       "  </thead>\n",
       "  <tbody>\n",
       "    <tr>\n",
       "      <th>18</th>\n",
       "      <td>19</td>\n",
       "      <td>Los Angeles</td>\n",
       "      <td>LOS</td>\n",
       "      <td>19</td>\n",
       "      <td>19</td>\n",
       "      <td>037</td>\n",
       "      <td>NaN</td>\n",
       "      <td>1.505469e+10</td>\n",
       "      <td>629726.475248</td>\n",
       "      <td>3b1e1d69-2b1a-464d-ba43-611c4201b219</td>\n",
       "      <td>POLYGON ((-117.66733 34.79317, -117.66728 34.7...</td>\n",
       "      <td>3046</td>\n",
       "      <td>e7985c6c0c873f17871d79a527a50afa</td>\n",
       "      <td>4086</td>\n",
       "      <td>16</td>\n",
       "    </tr>\n",
       "    <tr>\n",
       "      <th>18</th>\n",
       "      <td>19</td>\n",
       "      <td>Los Angeles</td>\n",
       "      <td>LOS</td>\n",
       "      <td>19</td>\n",
       "      <td>19</td>\n",
       "      <td>037</td>\n",
       "      <td>NaN</td>\n",
       "      <td>1.505469e+10</td>\n",
       "      <td>629726.475248</td>\n",
       "      <td>3b1e1d69-2b1a-464d-ba43-611c4201b219</td>\n",
       "      <td>POLYGON ((-117.66733 34.79317, -117.66728 34.7...</td>\n",
       "      <td>3324</td>\n",
       "      <td>e7985c6c0c873f17871d79a527a50afa</td>\n",
       "      <td>4069</td>\n",
       "      <td>17</td>\n",
       "    </tr>\n",
       "  </tbody>\n",
       "</table>\n",
       "</div>"
      ],
      "text/plain": [
       "    OBJECTID  COUNTY_NAME COUNTY_ABBREV  COUNTY_NUM COUNTY_CODE COUNTY_FIPS  \\\n",
       "18        19  Los Angeles           LOS          19          19         037   \n",
       "18        19  Los Angeles           LOS          19          19         037   \n",
       "\n",
       "   ISLAND   Shape__Area  Shape__Length                              GlobalID  \\\n",
       "18    NaN  1.505469e+10  629726.475248  3b1e1d69-2b1a-464d-ba43-611c4201b219   \n",
       "18    NaN  1.505469e+10  629726.475248  3b1e1d69-2b1a-464d-ba43-611c4201b219   \n",
       "\n",
       "                                             geometry  index_right  \\\n",
       "18  POLYGON ((-117.66733 34.79317, -117.66728 34.7...         3046   \n",
       "18  POLYGON ((-117.66733 34.79317, -117.66728 34.7...         3324   \n",
       "\n",
       "                            feed_key stop_id  stop_event_count  \n",
       "18  e7985c6c0c873f17871d79a527a50afa    4086                16  \n",
       "18  e7985c6c0c873f17871d79a527a50afa    4069                17  "
      ]
     },
     "execution_count": 17,
     "metadata": {},
     "output_type": "execute_result"
    }
   ],
   "source": [
    "county_stops = gpd.sjoin(\n",
    "    CA_county, \n",
    "    stop_counts, \n",
    "    how = 'inner',\n",
    "    predicate = 'intersects'\n",
    ")\n",
    "\n",
    "county_stops.geometry.unique()\n",
    "county_stops.head(2)"
   ]
  },
  {
   "cell_type": "code",
   "execution_count": 45,
   "id": "f582f56c-1ec2-43a4-921c-3589ea9e807d",
   "metadata": {
    "tags": []
   },
   "outputs": [
    {
     "name": "stderr",
     "output_type": "stream",
     "text": [
      "/tmp/ipykernel_382/2062410969.py:2: UserWarning: Geometry is in a geographic CRS. Results from 'centroid' are likely incorrect. Use 'GeoSeries.to_crs()' to re-project geometries to a projected CRS before this operation.\n",
      "\n",
      "  centroid = county_stops.geometry.centroid\n"
     ]
    },
    {
     "data": {
      "text/html": [
       "<div>\n",
       "<style scoped>\n",
       "    .dataframe tbody tr th:only-of-type {\n",
       "        vertical-align: middle;\n",
       "    }\n",
       "\n",
       "    .dataframe tbody tr th {\n",
       "        vertical-align: top;\n",
       "    }\n",
       "\n",
       "    .dataframe thead th {\n",
       "        text-align: right;\n",
       "    }\n",
       "</style>\n",
       "<table border=\"1\" class=\"dataframe\">\n",
       "  <thead>\n",
       "    <tr style=\"text-align: right;\">\n",
       "      <th></th>\n",
       "      <th>OBJECTID</th>\n",
       "      <th>COUNTY_NAME</th>\n",
       "      <th>COUNTY_ABBREV</th>\n",
       "      <th>COUNTY_NUM</th>\n",
       "      <th>COUNTY_CODE</th>\n",
       "      <th>COUNTY_FIPS</th>\n",
       "      <th>ISLAND</th>\n",
       "      <th>Shape__Area</th>\n",
       "      <th>Shape__Length</th>\n",
       "      <th>GlobalID</th>\n",
       "      <th>geometry</th>\n",
       "      <th>index_right</th>\n",
       "      <th>feed_key</th>\n",
       "      <th>stop_id</th>\n",
       "      <th>stop_event_count</th>\n",
       "      <th>centroid</th>\n",
       "    </tr>\n",
       "  </thead>\n",
       "  <tbody>\n",
       "    <tr>\n",
       "      <th>18</th>\n",
       "      <td>19</td>\n",
       "      <td>Los Angeles</td>\n",
       "      <td>LOS</td>\n",
       "      <td>19</td>\n",
       "      <td>19</td>\n",
       "      <td>037</td>\n",
       "      <td>NaN</td>\n",
       "      <td>1.505469e+10</td>\n",
       "      <td>629726.475248</td>\n",
       "      <td>3b1e1d69-2b1a-464d-ba43-611c4201b219</td>\n",
       "      <td>POLYGON ((-117.66733 34.79317, -117.66728 34.7...</td>\n",
       "      <td>3046</td>\n",
       "      <td>e7985c6c0c873f17871d79a527a50afa</td>\n",
       "      <td>4086</td>\n",
       "      <td>16</td>\n",
       "      <td>POINT (-118.21689 34.36117)</td>\n",
       "    </tr>\n",
       "    <tr>\n",
       "      <th>18</th>\n",
       "      <td>19</td>\n",
       "      <td>Los Angeles</td>\n",
       "      <td>LOS</td>\n",
       "      <td>19</td>\n",
       "      <td>19</td>\n",
       "      <td>037</td>\n",
       "      <td>NaN</td>\n",
       "      <td>1.505469e+10</td>\n",
       "      <td>629726.475248</td>\n",
       "      <td>3b1e1d69-2b1a-464d-ba43-611c4201b219</td>\n",
       "      <td>POLYGON ((-117.66733 34.79317, -117.66728 34.7...</td>\n",
       "      <td>3324</td>\n",
       "      <td>e7985c6c0c873f17871d79a527a50afa</td>\n",
       "      <td>4069</td>\n",
       "      <td>17</td>\n",
       "      <td>POINT (-118.21689 34.36117)</td>\n",
       "    </tr>\n",
       "  </tbody>\n",
       "</table>\n",
       "</div>"
      ],
      "text/plain": [
       "    OBJECTID  COUNTY_NAME COUNTY_ABBREV  COUNTY_NUM COUNTY_CODE COUNTY_FIPS  \\\n",
       "18        19  Los Angeles           LOS          19          19         037   \n",
       "18        19  Los Angeles           LOS          19          19         037   \n",
       "\n",
       "   ISLAND   Shape__Area  Shape__Length                              GlobalID  \\\n",
       "18    NaN  1.505469e+10  629726.475248  3b1e1d69-2b1a-464d-ba43-611c4201b219   \n",
       "18    NaN  1.505469e+10  629726.475248  3b1e1d69-2b1a-464d-ba43-611c4201b219   \n",
       "\n",
       "                                             geometry  index_right  \\\n",
       "18  POLYGON ((-117.66733 34.79317, -117.66728 34.7...         3046   \n",
       "18  POLYGON ((-117.66733 34.79317, -117.66728 34.7...         3324   \n",
       "\n",
       "                            feed_key stop_id  stop_event_count  \\\n",
       "18  e7985c6c0c873f17871d79a527a50afa    4086                16   \n",
       "18  e7985c6c0c873f17871d79a527a50afa    4069                17   \n",
       "\n",
       "                       centroid  \n",
       "18  POINT (-118.21689 34.36117)  \n",
       "18  POINT (-118.21689 34.36117)  "
      ]
     },
     "execution_count": 45,
     "metadata": {},
     "output_type": "execute_result"
    }
   ],
   "source": [
    "county_stops = county_stops.assign(\n",
    "    centroid = county_stops.geometry.centroid\n",
    ")\n",
    "\n",
    "county_stops = county_stops.set_geometry('centroid')\n",
    "county_stops.head(2)"
   ]
  },
  {
   "cell_type": "markdown",
   "id": "850a99ad-130e-4c86-a14f-3dfe5aead9b1",
   "metadata": {
    "tags": []
   },
   "source": [
    "> Geodataframe can contain other columns with geometrical (shapely) objects but only one column can be active geometry at a time. "
   ]
  },
  {
   "cell_type": "code",
   "execution_count": 35,
   "id": "a6108d3f-c0ef-4ee6-9dc1-90d2a4f124cf",
   "metadata": {},
   "outputs": [
    {
     "data": {
      "text/plain": [
       "'centroid'"
      ]
     },
     "execution_count": 35,
     "metadata": {},
     "output_type": "execute_result"
    }
   ],
   "source": [
    "county_stops.geometry.name"
   ]
  },
  {
   "cell_type": "markdown",
   "id": "533611ec-f316-4459-9237-476e5fcbfee0",
   "metadata": {},
   "source": [
    "### Visualizations\n",
    "* Make one chart for comparing trips per stop by operators, and another chart for comparing it by counties. Use a function to do this.\n",
    "* Make 1 map for comparing trips per stop by counties. Use `gdf.explore()` to do this.\n",
    "* Visualizations should follow the Cal-ITP style guide: [styleguide example notebook](https://github.com/cal-itp/data-analyses/blob/main/starter_kit/style-guide-examples.ipynb)\n",
    "* More on `folium` and `ipyleaflet`: https://github.com/jorisvandenbossche/geopandas-tutorial/blob/master/05-more-on-visualization.ipynb"
   ]
  },
  {
   "cell_type": "code",
   "execution_count": 42,
   "id": "aa235ae9-72ac-420f-95dc-def854bcfdbe",
   "metadata": {
    "tags": []
   },
   "outputs": [
    {
     "data": {
      "text/html": [
       "<div>\n",
       "<style scoped>\n",
       "    .dataframe tbody tr th:only-of-type {\n",
       "        vertical-align: middle;\n",
       "    }\n",
       "\n",
       "    .dataframe tbody tr th {\n",
       "        vertical-align: top;\n",
       "    }\n",
       "\n",
       "    .dataframe thead th {\n",
       "        text-align: right;\n",
       "    }\n",
       "</style>\n",
       "<table border=\"1\" class=\"dataframe\">\n",
       "  <thead>\n",
       "    <tr style=\"text-align: right;\">\n",
       "      <th></th>\n",
       "      <th>COUNTY_NAME</th>\n",
       "      <th>stop_event_count</th>\n",
       "      <th>stop_id</th>\n",
       "    </tr>\n",
       "  </thead>\n",
       "  <tbody>\n",
       "    <tr>\n",
       "      <th>0</th>\n",
       "      <td>Los Angeles</td>\n",
       "      <td>73507</td>\n",
       "      <td>1539</td>\n",
       "    </tr>\n",
       "    <tr>\n",
       "      <th>1</th>\n",
       "      <td>Orange</td>\n",
       "      <td>178772</td>\n",
       "      <td>5221</td>\n",
       "    </tr>\n",
       "    <tr>\n",
       "      <th>2</th>\n",
       "      <td>Riverside</td>\n",
       "      <td>147</td>\n",
       "      <td>4</td>\n",
       "    </tr>\n",
       "    <tr>\n",
       "      <th>3</th>\n",
       "      <td>San Bernardino</td>\n",
       "      <td>57712</td>\n",
       "      <td>2257</td>\n",
       "    </tr>\n",
       "    <tr>\n",
       "      <th>4</th>\n",
       "      <td>San Diego</td>\n",
       "      <td>228968</td>\n",
       "      <td>4226</td>\n",
       "    </tr>\n",
       "  </tbody>\n",
       "</table>\n",
       "</div>"
      ],
      "text/plain": [
       "      COUNTY_NAME  stop_event_count  stop_id\n",
       "0     Los Angeles             73507     1539\n",
       "1          Orange            178772     5221\n",
       "2       Riverside               147        4\n",
       "3  San Bernardino             57712     2257\n",
       "4       San Diego            228968     4226"
      ]
     },
     "execution_count": 42,
     "metadata": {},
     "output_type": "execute_result"
    }
   ],
   "source": [
    "trips_county = (county_stops.groupby(['COUNTY_NAME'])\n",
    "            .agg({'stop_event_count' : 'sum',\n",
    "                 'stop_id': 'count'}\n",
    "                ).reset_index()\n",
    "           )\n",
    "\n",
    "trips_county"
   ]
  },
  {
   "cell_type": "code",
   "execution_count": 36,
   "id": "f2349ddd-8cb6-4452-95ab-8a0d1aca3b20",
   "metadata": {},
   "outputs": [],
   "source": [
    "# To add styleguide\n",
    "from calitp_data_analysis import styleguide\n",
    "from calitp_data_analysis import calitp_color_palette as cp"
   ]
  },
  {
   "cell_type": "code",
   "execution_count": 44,
   "id": "8a53b451-e4ae-4c10-b9a0-5b82d2343835",
   "metadata": {},
   "outputs": [
    {
     "data": {
      "text/html": [
       "<div>\n",
       "<style scoped>\n",
       "    .dataframe tbody tr th:only-of-type {\n",
       "        vertical-align: middle;\n",
       "    }\n",
       "\n",
       "    .dataframe tbody tr th {\n",
       "        vertical-align: top;\n",
       "    }\n",
       "\n",
       "    .dataframe thead th {\n",
       "        text-align: right;\n",
       "    }\n",
       "</style>\n",
       "<table border=\"1\" class=\"dataframe\">\n",
       "  <thead>\n",
       "    <tr style=\"text-align: right;\">\n",
       "      <th></th>\n",
       "      <th>COUNTY_NAME</th>\n",
       "      <th>stop_event_count</th>\n",
       "      <th>stop_id</th>\n",
       "      <th>trips_per_stop</th>\n",
       "    </tr>\n",
       "  </thead>\n",
       "  <tbody>\n",
       "    <tr>\n",
       "      <th>0</th>\n",
       "      <td>Los Angeles</td>\n",
       "      <td>73507</td>\n",
       "      <td>1539</td>\n",
       "      <td>47.762833</td>\n",
       "    </tr>\n",
       "    <tr>\n",
       "      <th>1</th>\n",
       "      <td>Orange</td>\n",
       "      <td>178772</td>\n",
       "      <td>5221</td>\n",
       "      <td>34.240950</td>\n",
       "    </tr>\n",
       "    <tr>\n",
       "      <th>2</th>\n",
       "      <td>Riverside</td>\n",
       "      <td>147</td>\n",
       "      <td>4</td>\n",
       "      <td>36.750000</td>\n",
       "    </tr>\n",
       "    <tr>\n",
       "      <th>3</th>\n",
       "      <td>San Bernardino</td>\n",
       "      <td>57712</td>\n",
       "      <td>2257</td>\n",
       "      <td>25.570226</td>\n",
       "    </tr>\n",
       "    <tr>\n",
       "      <th>4</th>\n",
       "      <td>San Diego</td>\n",
       "      <td>228968</td>\n",
       "      <td>4226</td>\n",
       "      <td>54.180786</td>\n",
       "    </tr>\n",
       "  </tbody>\n",
       "</table>\n",
       "</div>"
      ],
      "text/plain": [
       "      COUNTY_NAME  stop_event_count  stop_id  trips_per_stop\n",
       "0     Los Angeles             73507     1539       47.762833\n",
       "1          Orange            178772     5221       34.240950\n",
       "2       Riverside               147        4       36.750000\n",
       "3  San Bernardino             57712     2257       25.570226\n",
       "4       San Diego            228968     4226       54.180786"
      ]
     },
     "execution_count": 44,
     "metadata": {},
     "output_type": "execute_result"
    }
   ],
   "source": [
    "trips_county = trips_county.assign(\n",
    "    trips_per_stop = trips_county['stop_event_count']/trips_county['stop_id']\n",
    ")\n",
    "trips_county"
   ]
  },
  {
   "cell_type": "markdown",
   "id": "c2dbfb90-1ffa-4ac9-9c96-9fd1b13273d7",
   "metadata": {},
   "source": [
    "Make a chart and a map of total stop events by county."
   ]
  },
  {
   "cell_type": "code",
   "execution_count": 77,
   "id": "c5d80a9d-79d2-4b79-b687-1e5effdd854f",
   "metadata": {
    "tags": []
   },
   "outputs": [
    {
     "data": {
      "text/plain": [
       "['CALITP_CATEGORY_BOLD_COLORS',\n",
       " 'CALITP_CATEGORY_BRIGHT_COLORS',\n",
       " 'CALITP_DIVERGING_COLORS',\n",
       " 'CALITP_SEQUENTIAL_COLORS',\n",
       " '__builtins__',\n",
       " '__cached__',\n",
       " '__doc__',\n",
       " '__file__',\n",
       " '__loader__',\n",
       " '__name__',\n",
       " '__package__',\n",
       " '__spec__']"
      ]
     },
     "execution_count": 77,
     "metadata": {},
     "output_type": "execute_result"
    }
   ],
   "source": [
    "dir(cp)"
   ]
  },
  {
   "cell_type": "code",
   "execution_count": 80,
   "id": "05489f8d-3b5c-4fbc-9650-94ed122b7ade",
   "metadata": {
    "tags": []
   },
   "outputs": [
    {
     "data": {
      "text/html": [
       "\n",
       "<style>\n",
       "  #altair-viz-ef8098e50d1945039c50e790bd3bc81a.vega-embed {\n",
       "    width: 100%;\n",
       "    display: flex;\n",
       "  }\n",
       "\n",
       "  #altair-viz-ef8098e50d1945039c50e790bd3bc81a.vega-embed details,\n",
       "  #altair-viz-ef8098e50d1945039c50e790bd3bc81a.vega-embed details summary {\n",
       "    position: relative;\n",
       "  }\n",
       "</style>\n",
       "<div id=\"altair-viz-ef8098e50d1945039c50e790bd3bc81a\"></div>\n",
       "<script type=\"text/javascript\">\n",
       "  var VEGA_DEBUG = (typeof VEGA_DEBUG == \"undefined\") ? {} : VEGA_DEBUG;\n",
       "  (function(spec, embedOpt){\n",
       "    let outputDiv = document.currentScript.previousElementSibling;\n",
       "    if (outputDiv.id !== \"altair-viz-ef8098e50d1945039c50e790bd3bc81a\") {\n",
       "      outputDiv = document.getElementById(\"altair-viz-ef8098e50d1945039c50e790bd3bc81a\");\n",
       "    }\n",
       "    const paths = {\n",
       "      \"vega\": \"https://cdn.jsdelivr.net/npm/vega@5?noext\",\n",
       "      \"vega-lib\": \"https://cdn.jsdelivr.net/npm/vega-lib?noext\",\n",
       "      \"vega-lite\": \"https://cdn.jsdelivr.net/npm/vega-lite@5.14.1?noext\",\n",
       "      \"vega-embed\": \"https://cdn.jsdelivr.net/npm/vega-embed@6?noext\",\n",
       "    };\n",
       "\n",
       "    function maybeLoadScript(lib, version) {\n",
       "      var key = `${lib.replace(\"-\", \"\")}_version`;\n",
       "      return (VEGA_DEBUG[key] == version) ?\n",
       "        Promise.resolve(paths[lib]) :\n",
       "        new Promise(function(resolve, reject) {\n",
       "          var s = document.createElement('script');\n",
       "          document.getElementsByTagName(\"head\")[0].appendChild(s);\n",
       "          s.async = true;\n",
       "          s.onload = () => {\n",
       "            VEGA_DEBUG[key] = version;\n",
       "            return resolve(paths[lib]);\n",
       "          };\n",
       "          s.onerror = () => reject(`Error loading script: ${paths[lib]}`);\n",
       "          s.src = paths[lib];\n",
       "        });\n",
       "    }\n",
       "\n",
       "    function showError(err) {\n",
       "      outputDiv.innerHTML = `<div class=\"error\" style=\"color:red;\">${err}</div>`;\n",
       "      throw err;\n",
       "    }\n",
       "\n",
       "    function displayChart(vegaEmbed) {\n",
       "      vegaEmbed(outputDiv, spec, embedOpt)\n",
       "        .catch(err => showError(`Javascript Error: ${err.message}<br>This usually means there's a typo in your chart specification. See the javascript console for the full traceback.`));\n",
       "    }\n",
       "\n",
       "    if(typeof define === \"function\" && define.amd) {\n",
       "      requirejs.config({paths});\n",
       "      require([\"vega-embed\"], displayChart, err => showError(`Error loading script: ${err.message}`));\n",
       "    } else {\n",
       "      maybeLoadScript(\"vega\", \"5\")\n",
       "        .then(() => maybeLoadScript(\"vega-lite\", \"5.14.1\"))\n",
       "        .then(() => maybeLoadScript(\"vega-embed\", \"6\"))\n",
       "        .catch(showError)\n",
       "        .then(() => displayChart(vegaEmbed));\n",
       "    }\n",
       "  })({\"config\": {\"view\": {\"continuousWidth\": 300, \"continuousHeight\": 300}, \"axis\": {\"domainColor\": \"#cbcbcb\", \"grid\": true, \"gridColor\": \"#cbcbcb\", \"gridWidth\": 1, \"labelColor\": \"#474747\", \"labelFont\": \"Nunito Sans\", \"labelFontSize\": 10, \"labelPadding\": 4, \"tickColor\": \"#cbcbcb\", \"tickSize\": 10, \"titleColor\": \"#333\", \"titleFont\": \"Raleway\", \"titleFontSize\": 12, \"titlePadding\": 10}, \"axisBand\": {\"grid\": false}, \"background\": \"white\", \"font\": \"Raleway\", \"header\": {\"labelFont\": \"Nunito Sans\", \"titleFont\": \"Raleway\"}, \"legend\": {\"labelColor\": \"#333\", \"labelFont\": \"Nunito Sans\", \"labelFontSize\": 11, \"labelLimit\": 0, \"padding\": 1, \"symbolSize\": 30, \"symbolType\": \"square\", \"titleColor\": \"#333\", \"titleFont\": \"Raleway\", \"titleFontSize\": 14, \"titlePadding\": 10}, \"title\": {\"anchor\": \"middle\", \"font\": \"Raleway\", \"fontSize\": 18, \"fontWeight\": 300, \"offset\": 20}}, \"data\": {\"name\": \"data-c4d1a71573451ecaa8b1ab03e2c7219b\"}, \"mark\": {\"type\": \"bar\"}, \"encoding\": {\"color\": {\"field\": \"stop_event_count\", \"scale\": {\"range\": [\"#136C97\", \"#E16B26\", \"#F6BF16\", \"#00896B\", \"#7790A3\", \"#5B559C\"]}, \"type\": \"quantitative\"}, \"x\": {\"field\": \"COUNTY_NAME\", \"title\": \"county\", \"type\": \"nominal\"}, \"y\": {\"field\": \"stop_event_count\", \"title\": \"total stop events\", \"type\": \"quantitative\"}}, \"height\": 250, \"title\": \"total stop events by county\", \"width\": 400, \"$schema\": \"https://vega.github.io/schema/vega-lite/v5.14.1.json\", \"datasets\": {\"data-c4d1a71573451ecaa8b1ab03e2c7219b\": [{\"COUNTY_NAME\": \"Los Angeles\", \"stop_event_count\": 73507, \"stop_id\": 1539, \"trips_per_stop\": 47.762833008447046}, {\"COUNTY_NAME\": \"Orange\", \"stop_event_count\": 178772, \"stop_id\": 5221, \"trips_per_stop\": 34.24095000957671}, {\"COUNTY_NAME\": \"Riverside\", \"stop_event_count\": 147, \"stop_id\": 4, \"trips_per_stop\": 36.75}, {\"COUNTY_NAME\": \"San Bernardino\", \"stop_event_count\": 57712, \"stop_id\": 2257, \"trips_per_stop\": 25.570225963668587}, {\"COUNTY_NAME\": \"San Diego\", \"stop_event_count\": 228968, \"stop_id\": 4226, \"trips_per_stop\": 54.18078561287269}]}}, {\"mode\": \"vega-lite\"});\n",
       "</script>"
      ],
      "text/plain": [
       "alt.Chart(...)"
      ]
     },
     "metadata": {},
     "output_type": "display_data"
    }
   ],
   "source": [
    "import altair as alt\n",
    "\n",
    "def make_chart(trips_county, colorscale): \n",
    "    chart = (alt.Chart(trips_county)\n",
    "             .mark_bar()\n",
    "             .encode(\n",
    "                 x=alt.X(\"COUNTY_NAME\", title=\"county\"),\n",
    "                 y=alt.Y(\"stop_event_count\", title=\"total stop events\"),\n",
    "                 color = alt.Color(\"stop_event_count\",\n",
    "                                   scale = alt.Scale(range=colorscale),\n",
    "                                  ),\n",
    "             ).properties(title=\"total stop events by county\")\n",
    "            )\n",
    "    chart = styleguide.preset_chart_config(chart)\n",
    "    display(chart)\n",
    "\n",
    "make_chart(trips_county, cp.CALITP_CATEGORY_BOLD_COLORS)\n",
    "\n",
    "                 \n",
    "\n"
   ]
  },
  {
   "cell_type": "markdown",
   "id": "b25d7866-a582-4af8-a64b-af1b35fbdfff",
   "metadata": {
    "tags": []
   },
   "source": [
    "Make a chart and a map of stop events per stop by county."
   ]
  },
  {
   "cell_type": "code",
   "execution_count": 82,
   "id": "b0ad7f55-cfb0-4415-a327-abc8cef3fbf5",
   "metadata": {},
   "outputs": [
    {
     "data": {
      "text/html": [
       "\n",
       "<style>\n",
       "  #altair-viz-1d1252d7ec4c45d99b9330a518e18d41.vega-embed {\n",
       "    width: 100%;\n",
       "    display: flex;\n",
       "  }\n",
       "\n",
       "  #altair-viz-1d1252d7ec4c45d99b9330a518e18d41.vega-embed details,\n",
       "  #altair-viz-1d1252d7ec4c45d99b9330a518e18d41.vega-embed details summary {\n",
       "    position: relative;\n",
       "  }\n",
       "</style>\n",
       "<div id=\"altair-viz-1d1252d7ec4c45d99b9330a518e18d41\"></div>\n",
       "<script type=\"text/javascript\">\n",
       "  var VEGA_DEBUG = (typeof VEGA_DEBUG == \"undefined\") ? {} : VEGA_DEBUG;\n",
       "  (function(spec, embedOpt){\n",
       "    let outputDiv = document.currentScript.previousElementSibling;\n",
       "    if (outputDiv.id !== \"altair-viz-1d1252d7ec4c45d99b9330a518e18d41\") {\n",
       "      outputDiv = document.getElementById(\"altair-viz-1d1252d7ec4c45d99b9330a518e18d41\");\n",
       "    }\n",
       "    const paths = {\n",
       "      \"vega\": \"https://cdn.jsdelivr.net/npm/vega@5?noext\",\n",
       "      \"vega-lib\": \"https://cdn.jsdelivr.net/npm/vega-lib?noext\",\n",
       "      \"vega-lite\": \"https://cdn.jsdelivr.net/npm/vega-lite@5.14.1?noext\",\n",
       "      \"vega-embed\": \"https://cdn.jsdelivr.net/npm/vega-embed@6?noext\",\n",
       "    };\n",
       "\n",
       "    function maybeLoadScript(lib, version) {\n",
       "      var key = `${lib.replace(\"-\", \"\")}_version`;\n",
       "      return (VEGA_DEBUG[key] == version) ?\n",
       "        Promise.resolve(paths[lib]) :\n",
       "        new Promise(function(resolve, reject) {\n",
       "          var s = document.createElement('script');\n",
       "          document.getElementsByTagName(\"head\")[0].appendChild(s);\n",
       "          s.async = true;\n",
       "          s.onload = () => {\n",
       "            VEGA_DEBUG[key] = version;\n",
       "            return resolve(paths[lib]);\n",
       "          };\n",
       "          s.onerror = () => reject(`Error loading script: ${paths[lib]}`);\n",
       "          s.src = paths[lib];\n",
       "        });\n",
       "    }\n",
       "\n",
       "    function showError(err) {\n",
       "      outputDiv.innerHTML = `<div class=\"error\" style=\"color:red;\">${err}</div>`;\n",
       "      throw err;\n",
       "    }\n",
       "\n",
       "    function displayChart(vegaEmbed) {\n",
       "      vegaEmbed(outputDiv, spec, embedOpt)\n",
       "        .catch(err => showError(`Javascript Error: ${err.message}<br>This usually means there's a typo in your chart specification. See the javascript console for the full traceback.`));\n",
       "    }\n",
       "\n",
       "    if(typeof define === \"function\" && define.amd) {\n",
       "      requirejs.config({paths});\n",
       "      require([\"vega-embed\"], displayChart, err => showError(`Error loading script: ${err.message}`));\n",
       "    } else {\n",
       "      maybeLoadScript(\"vega\", \"5\")\n",
       "        .then(() => maybeLoadScript(\"vega-lite\", \"5.14.1\"))\n",
       "        .then(() => maybeLoadScript(\"vega-embed\", \"6\"))\n",
       "        .catch(showError)\n",
       "        .then(() => displayChart(vegaEmbed));\n",
       "    }\n",
       "  })({\"config\": {\"view\": {\"continuousWidth\": 300, \"continuousHeight\": 300}, \"axis\": {\"domainColor\": \"#cbcbcb\", \"grid\": true, \"gridColor\": \"#cbcbcb\", \"gridWidth\": 1, \"labelColor\": \"#474747\", \"labelFont\": \"Nunito Sans\", \"labelFontSize\": 10, \"labelPadding\": 4, \"tickColor\": \"#cbcbcb\", \"tickSize\": 10, \"titleColor\": \"#333\", \"titleFont\": \"Raleway\", \"titleFontSize\": 12, \"titlePadding\": 10}, \"axisBand\": {\"grid\": false}, \"background\": \"white\", \"font\": \"Raleway\", \"header\": {\"labelFont\": \"Nunito Sans\", \"titleFont\": \"Raleway\"}, \"legend\": {\"labelColor\": \"#333\", \"labelFont\": \"Nunito Sans\", \"labelFontSize\": 11, \"labelLimit\": 0, \"padding\": 1, \"symbolSize\": 30, \"symbolType\": \"square\", \"titleColor\": \"#333\", \"titleFont\": \"Raleway\", \"titleFontSize\": 14, \"titlePadding\": 10}, \"title\": {\"anchor\": \"middle\", \"font\": \"Raleway\", \"fontSize\": 18, \"fontWeight\": 300, \"offset\": 20}}, \"data\": {\"name\": \"data-c4d1a71573451ecaa8b1ab03e2c7219b\"}, \"mark\": {\"type\": \"bar\"}, \"encoding\": {\"color\": {\"field\": \"trips_per_stop\", \"scale\": {\"range\": [\"#2EA8CE\", \"#EB9F3C\", \"#F4D837\", \"#51BF9D\", \"#8CBCCB\", \"#9487C0\"]}, \"type\": \"quantitative\"}, \"x\": {\"field\": \"COUNTY_NAME\", \"title\": \"county\", \"type\": \"nominal\"}, \"y\": {\"field\": \"trips_per_stop\", \"title\": \"trips per stop\", \"type\": \"quantitative\"}}, \"height\": 250, \"title\": \"trips per stop by county\", \"width\": 400, \"$schema\": \"https://vega.github.io/schema/vega-lite/v5.14.1.json\", \"datasets\": {\"data-c4d1a71573451ecaa8b1ab03e2c7219b\": [{\"COUNTY_NAME\": \"Los Angeles\", \"stop_event_count\": 73507, \"stop_id\": 1539, \"trips_per_stop\": 47.762833008447046}, {\"COUNTY_NAME\": \"Orange\", \"stop_event_count\": 178772, \"stop_id\": 5221, \"trips_per_stop\": 34.24095000957671}, {\"COUNTY_NAME\": \"Riverside\", \"stop_event_count\": 147, \"stop_id\": 4, \"trips_per_stop\": 36.75}, {\"COUNTY_NAME\": \"San Bernardino\", \"stop_event_count\": 57712, \"stop_id\": 2257, \"trips_per_stop\": 25.570225963668587}, {\"COUNTY_NAME\": \"San Diego\", \"stop_event_count\": 228968, \"stop_id\": 4226, \"trips_per_stop\": 54.18078561287269}]}}, {\"mode\": \"vega-lite\"});\n",
       "</script>"
      ],
      "text/plain": [
       "alt.Chart(...)"
      ]
     },
     "metadata": {},
     "output_type": "display_data"
    }
   ],
   "source": [
    "import altair as alt\n",
    "\n",
    "def make_chart(trips_county, colorscale): \n",
    "    chart = (alt.Chart(trips_county)\n",
    "             .mark_bar()\n",
    "             .encode(\n",
    "                 x=alt.X(\"COUNTY_NAME\", title=\"county\"),\n",
    "                 y=alt.Y(\"trips_per_stop\", title=\"trips per stop\"),\n",
    "                 color = alt.Color(\"trips_per_stop\",\n",
    "                                   scale = alt.Scale(range=colorscale),\n",
    "                                  ),\n",
    "             ).properties(title=\"trips per stop by county\")\n",
    "            )\n",
    "    chart = styleguide.preset_chart_config(chart)\n",
    "    display(chart)\n",
    "\n",
    "make_chart(trips_county, cp.CALITP_CATEGORY_BRIGHT_COLORS)"
   ]
  },
  {
   "cell_type": "markdown",
   "id": "90ed5119-967d-496f-a6a2-70d6ebefa435",
   "metadata": {},
   "source": [
    "Use a Markdown cell and write how you would summarize and interpret the visualizations."
   ]
  },
  {
   "cell_type": "markdown",
   "id": "561897fb-350a-4cb5-981b-6fcd5ec5a760",
   "metadata": {
    "tags": []
   },
   "source": [
    "- San Diego has the highest number of trips per stop followed by Los Angeles.\n",
    "- San Diego has the highest number of stops event count followed by Orange and Los Angeles county. "
   ]
  },
  {
   "cell_type": "code",
   "execution_count": null,
   "id": "6d7f81e9-6417-45e7-977e-33acc9961858",
   "metadata": {},
   "outputs": [],
   "source": []
  }
 ],
 "metadata": {
  "kernelspec": {
   "display_name": "Python 3 (ipykernel)",
   "language": "python",
   "name": "python3"
  },
  "language_info": {
   "codemirror_mode": {
    "name": "ipython",
    "version": 3
   },
   "file_extension": ".py",
   "mimetype": "text/x-python",
   "name": "python",
   "nbconvert_exporter": "python",
   "pygments_lexer": "ipython3",
   "version": "3.9.13"
  }
 },
 "nbformat": 4,
 "nbformat_minor": 5
}
