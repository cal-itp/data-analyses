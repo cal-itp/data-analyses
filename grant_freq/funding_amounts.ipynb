{
 "cells": [
  {
   "cell_type": "code",
   "execution_count": null,
   "id": "6d3f80fc-ae74-4113-9242-704471a95c66",
   "metadata": {},
   "outputs": [],
   "source": [
    "import pandas as pd\n",
    "from calitp_data_analysis.sql import to_snakecase"
   ]
  },
  {
   "cell_type": "code",
   "execution_count": null,
   "id": "2b3bca02-9486-4f13-9c1d-dcff304193e1",
   "metadata": {},
   "outputs": [],
   "source": [
    "import altair as alt"
   ]
  },
  {
   "cell_type": "code",
   "execution_count": null,
   "id": "612b959e-48d6-4876-b74d-b740e59c39ad",
   "metadata": {},
   "outputs": [],
   "source": [
    "# from shared_utils import altair_utils\n",
    "from shared_utils import calitp_color_palette as cp\n",
    "from shared_utils import styleguide"
   ]
  },
  {
   "cell_type": "code",
   "execution_count": null,
   "id": "78f3847c-a378-4a56-9d26-2f6cc0c57b5c",
   "metadata": {},
   "outputs": [],
   "source": [
    "import intake"
   ]
  },
  {
   "cell_type": "code",
   "execution_count": null,
   "id": "b0a213a0-59bc-4036-855f-414b4a1ba48d",
   "metadata": {},
   "outputs": [],
   "source": [
    "pd.set_option(\"display.precision\", 2)"
   ]
  },
  {
   "cell_type": "code",
   "execution_count": null,
   "id": "0fb8db4f-bf1d-4c15-ada9-42619b0487b4",
   "metadata": {},
   "outputs": [],
   "source": [
    "# read directly from google sheet instead of this\n",
    "#df = to_snakecase(pd.read_excel('OFFICIAGrantsOverviewandWalkthrough.xlsx'))"
   ]
  },
  {
   "cell_type": "code",
   "execution_count": null,
   "id": "b3726e6e-f181-4d86-8eb8-3b1697f514b6",
   "metadata": {},
   "outputs": [],
   "source": [
    "sheet_id = \"12pw6_2OSHKGksnLQlvwvo6P8VljzQ9pse7E9zGDSpg4\"\n",
    "sheet_name = \"current_grants\"\n",
    "url = f\"https://docs.google.com/spreadsheets/d/{sheet_id}/gviz/tq?tqx=out:csv&sheet={sheet_name}\"\n",
    "df = to_snakecase(pd.read_csv(url))"
   ]
  },
  {
   "cell_type": "code",
   "execution_count": null,
   "id": "c0352a4a-3551-4b92-b03d-5800d6c403c6",
   "metadata": {},
   "outputs": [],
   "source": [
    "df = df.rename(columns={'grant_type__formula,_competitive,_both,_discretionary_n_a_':'distribution_type',\n",
    "                       'current__in_this_fy__or_expired':'current'})"
   ]
  },
  {
   "cell_type": "code",
   "execution_count": null,
   "id": "88082761-0943-4a9b-ab54-c3392f39a1e2",
   "metadata": {},
   "outputs": [],
   "source": [
    "df.sample()"
   ]
  },
  {
   "cell_type": "code",
   "execution_count": null,
   "id": "850dbd55-adfa-456c-a708-3e4249cb9997",
   "metadata": {},
   "outputs": [],
   "source": [
    "df.info()"
   ]
  },
  {
   "cell_type": "code",
   "execution_count": null,
   "id": "3b09b370-fd35-4533-8db7-07001c3b3e19",
   "metadata": {},
   "outputs": [],
   "source": [
    "df.federal_or_state_funded.value_counts()"
   ]
  },
  {
   "cell_type": "code",
   "execution_count": null,
   "id": "b2aacd92-32a5-4d32-98d6-c4a7c3b9bcc8",
   "metadata": {},
   "outputs": [],
   "source": [
    "(\n",
    "    df\n",
    "    >>filter(_.federal_or_state_funded=='State')\n",
    "    >> group_by(_.division, _.federal_or_state_funded)\n",
    "    >> summarize(avg_funds=(_.funding_amount_available.mean()))\n",
    ")"
   ]
  },
  {
   "cell_type": "code",
   "execution_count": null,
   "id": "811d5e7d-4abb-4e27-9ef6-8cea2428d26e",
   "metadata": {},
   "outputs": [],
   "source": [
    "chart = (\n",
    "    alt.Chart(\n",
    "        (\n",
    "    df\n",
    "    >>filter(_.federal_or_state_funded=='State')\n",
    "    >> group_by(_.division, _.federal_or_state_funded)\n",
    "    >> summarize(avg_funds=(_.funding_amount_available.mean()))\n",
    ")\n",
    "    )\n",
    "    .mark_bar()\n",
    "    .encode(\n",
    "        x=alt.X(\n",
    "            \"avg_funds\", axis=alt.Axis(format=\"$.2s\"), title=\"Average Funds Available\"\n",
    "        ),\n",
    "        y=alt.Y(\"division\", title=\"Division\"),\n",
    "        color=alt.Color(\n",
    "            \"federal_or_state_funded\",\n",
    "            title=\"Origin of Funding\",\n",
    "            scale=alt.Scale(range=cp.CALITP_CATEGORY_BRIGHT_COLORS),\n",
    "        ),\n",
    "    )\n",
    "    .properties(title=\"Average Funds Available by Type\")\n",
    ")\n",
    "styleguide.preset_chart_config(chart)"
   ]
  },
  {
   "cell_type": "code",
   "execution_count": null,
   "id": "60890433-b5dc-45d0-b414-654a4e89a5bd",
   "metadata": {},
   "outputs": [],
   "source": []
  },
  {
   "cell_type": "code",
   "execution_count": null,
   "id": "8bdda844-e30c-4029-9f7e-9c0b57909085",
   "metadata": {},
   "outputs": [],
   "source": [
    "chart = (\n",
    "    alt.Chart(\n",
    "       (\n",
    "    df\n",
    "    >>filter(_.federal_or_state_funded=='Federal')\n",
    "    >> group_by(_.division, _.federal_or_state_funded)\n",
    "    >> summarize(avg_funds=(_.funding_amount_available.mean()))\n",
    ")\n",
    "    )\n",
    "    .mark_bar()\n",
    "    .encode(\n",
    "        x=alt.X(\n",
    "            \"avg_funds\", axis=alt.Axis(format=\"$.2s\"), title=\"Average Funds Available\"\n",
    "        ),\n",
    "        y=alt.Y(\"division\", title=\"Division\"),\n",
    "        color=alt.Color(\n",
    "            \"federal_or_state_funded\",\n",
    "            title=\"Origin of Funding\",\n",
    "            scale=alt.Scale(range=cp.CALITP_CATEGORY_BRIGHT_COLORS),\n",
    "        ),\n",
    "    )\n",
    "    .properties(title=\"Average Funds Available by Type (Nation-wide)\")\n",
    ")\n",
    "styleguide.preset_chart_config(chart)"
   ]
  },
  {
   "cell_type": "code",
   "execution_count": null,
   "id": "1461955f-8e81-4604-88fd-34f36d639894",
   "metadata": {},
   "outputs": [],
   "source": [
    "df.sample(10)"
   ]
  },
  {
   "cell_type": "code",
   "execution_count": null,
   "id": "59f22b15-b82c-441f-99b7-03043cd8a399",
   "metadata": {},
   "outputs": [],
   "source": [
    "df>>group_by(_.division)>>summarize(avg_funds = (_.funding_amount_available.mean()))"
   ]
  },
  {
   "cell_type": "code",
   "execution_count": null,
   "id": "9cf62138-7a31-4338-8f78-a9ce2b1dc217",
   "metadata": {},
   "outputs": [],
   "source": [
    "chart = (\n",
    "    alt.Chart(\n",
    "        (\n",
    "            df\n",
    "             >>filter(_.federal_or_state_funded=='State')\n",
    "            >> group_by(_.division)\n",
    "            >> summarize(avg_funds=(_.funding_amount_available.mean()))\n",
    "        )\n",
    "    )\n",
    "    .mark_bar()\n",
    "    .encode(\n",
    "        x=alt.X(\n",
    "            \"avg_funds\", axis=alt.Axis(format=\"$.2s\"), title=\"Average Funds Available\"\n",
    "        ),\n",
    "        y=alt.Y(\"division\", title=\"Division\"),\n",
    "        color=alt.Color(\n",
    "            \"division\",\n",
    "            title=\"Division\",\n",
    "            scale=alt.Scale(range=cp.CALITP_CATEGORY_BRIGHT_COLORS),\n",
    "        ),\n",
    "    )\n",
    "    .properties(title=\"Average Funds Available by Division\")\n",
    ")\n",
    "styleguide.preset_chart_config(chart)"
   ]
  },
  {
   "cell_type": "code",
   "execution_count": null,
   "id": "ab40eaf8-9bd1-498f-9c23-12701b68a940",
   "metadata": {},
   "outputs": [],
   "source": [
    "chart = (\n",
    "    alt.Chart(\n",
    "        (\n",
    "            df\n",
    "             >>filter(_.federal_or_state_funded=='Federal')\n",
    "            >> group_by(_.division)\n",
    "            >> summarize(avg_funds=(_.funding_amount_available.mean()))\n",
    "        )\n",
    "    )\n",
    "    .mark_bar()\n",
    "    .encode(\n",
    "        x=alt.X(\n",
    "            \"avg_funds\", axis=alt.Axis(format=\"$.2s\"), title=\"Average Funds Available\"\n",
    "        ),\n",
    "        y=alt.Y(\"division\", title=\"Division\"),\n",
    "        color=alt.Color(\n",
    "            \"division\",\n",
    "            title=\"Division\",\n",
    "            scale=alt.Scale(range=cp.CALITP_CATEGORY_BRIGHT_COLORS),\n",
    "        ),\n",
    "    )\n",
    "    .properties(title=\"Average Funds Available by Division (Nation-wide)\")\n",
    ")\n",
    "styleguide.preset_chart_config(chart)"
   ]
  },
  {
   "cell_type": "code",
   "execution_count": null,
   "id": "336b34dc-a658-4739-8dda-278071ae0e11",
   "metadata": {},
   "outputs": [],
   "source": []
  },
  {
   "cell_type": "code",
   "execution_count": null,
   "id": "7cbd1013-ee3e-4c69-87b3-597d2c1ea2c7",
   "metadata": {},
   "outputs": [],
   "source": [
    "df>>group_by(_.grant_type, _.division)>>summarize(avg_funds = (_.funding_amount_available.mean()))"
   ]
  },
  {
   "cell_type": "code",
   "execution_count": null,
   "id": "e6761204-e123-40a8-96e0-58ff96428040",
   "metadata": {},
   "outputs": [],
   "source": [
    "chart = (\n",
    "    alt.Chart(\n",
    "        (\n",
    "            df\n",
    "             >>filter(_.federal_or_state_funded=='State')\n",
    "            >> group_by(_.grant_type, _.division)\n",
    "            >> summarize(avg_funds=(_.funding_amount_available.mean()))\n",
    "        )\n",
    "    )\n",
    "    .mark_bar()\n",
    "    .encode(\n",
    "        x=alt.X(\n",
    "            \"avg_funds\",\n",
    "            axis=alt.Axis(format=\"$.2s\"),\n",
    "            title=(\"Average Funds Available\"),\n",
    "            sort=(\"-y\"),\n",
    "        ),\n",
    "        y=alt.Y(\"division\", title=\"Division\"),\n",
    "        color=alt.Color(\n",
    "            \"grant_type\",\n",
    "            scale=alt.Scale(range=cp.CALITP_CATEGORY_BRIGHT_COLORS),\n",
    "            legend=alt.Legend(title=(\"Grant Type\")),\n",
    "        ),\n",
    "    )\n",
    "    .properties(title=\"Average Funds Available by Disvision and Grant Distribution Type\")\n",
    ")\n",
    "chart = styleguide.preset_chart_config(chart)\n",
    "chart"
   ]
  },
  {
   "cell_type": "code",
   "execution_count": null,
   "id": "6d7bb7ab-add2-4896-b5bb-db38fdd735b9",
   "metadata": {},
   "outputs": [],
   "source": [
    "chart = (\n",
    "    alt.Chart(\n",
    "        (\n",
    "            df\n",
    "             >>filter(_.federal_or_state_funded=='Federal')\n",
    "            >> group_by(_.grant_type, _.division)\n",
    "            >> summarize(avg_funds=(_.funding_amount_available.mean()))\n",
    "        )\n",
    "    )\n",
    "    .mark_bar()\n",
    "    .encode(\n",
    "        x=alt.X(\n",
    "            \"avg_funds\",\n",
    "            axis=alt.Axis(format=\"$.2s\"),\n",
    "            title=(\"Average Funds Available\"),\n",
    "            sort=(\"-y\"),\n",
    "        ),\n",
    "        y=alt.Y(\"division\", title=\"Division\"),\n",
    "        color=alt.Color(\n",
    "            \"grant_type\",\n",
    "            scale=alt.Scale(range=cp.CALITP_CATEGORY_BRIGHT_COLORS),\n",
    "            legend=alt.Legend(title=(\"Grant Type\")),\n",
    "        ),\n",
    "    )\n",
    "    .properties(title=\"Average Funds Available by Disvision and Grant Distribution Type (Nation-wide)\")\n",
    ")\n",
    "chart = styleguide.preset_chart_config(chart)\n",
    "chart"
   ]
  },
  {
   "cell_type": "code",
   "execution_count": null,
   "id": "44ecb31f-9ef2-463c-a1ed-948771546a72",
   "metadata": {},
   "outputs": [],
   "source": []
  },
  {
   "cell_type": "code",
   "execution_count": null,
   "id": "d71ab351-d94c-4d32-a154-60087d3e2d69",
   "metadata": {},
   "outputs": [],
   "source": []
  },
  {
   "cell_type": "code",
   "execution_count": null,
   "id": "d7f21a87-98d9-49f7-992d-aeb1f8799b94",
   "metadata": {},
   "outputs": [],
   "source": []
  },
  {
   "cell_type": "code",
   "execution_count": null,
   "id": "d33b6077-ec15-4356-be92-28703f8f4ae8",
   "metadata": {},
   "outputs": [],
   "source": []
  },
  {
   "cell_type": "code",
   "execution_count": null,
   "id": "217c591a-827d-42e3-a9e9-64c2c9b69160",
   "metadata": {},
   "outputs": [],
   "source": []
  }
 ],
 "metadata": {
  "kernelspec": {
   "display_name": "Python 3 (ipykernel)",
   "language": "python",
   "name": "python3"
  },
  "language_info": {
   "codemirror_mode": {
    "name": "ipython",
    "version": 3
   },
   "file_extension": ".py",
   "mimetype": "text/x-python",
   "name": "python",
   "nbconvert_exporter": "python",
   "pygments_lexer": "ipython3",
   "version": "3.9.13"
  },
  "widgets": {
   "application/vnd.jupyter.widget-state+json": {
    "state": {},
    "version_major": 2,
    "version_minor": 0
   }
  }
 },
 "nbformat": 4,
 "nbformat_minor": 5
}
