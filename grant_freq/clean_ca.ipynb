{
 "cells": [
  {
   "cell_type": "markdown",
   "id": "4f01ee78-9c7b-4dbc-a515-d9f9b7363653",
   "metadata": {},
   "source": [
    "# Clean CA Data"
   ]
  },
  {
   "cell_type": "code",
   "execution_count": 1,
   "id": "22ea844e-e559-4e28-841d-6e17b4a170ef",
   "metadata": {},
   "outputs": [],
   "source": [
    "import pandas as pd\n",
    "import numpy as np\n",
    "from siuba import *"
   ]
  },
  {
   "cell_type": "code",
   "execution_count": 2,
   "id": "9375f54f-33de-43d7-83ae-e07c58df7987",
   "metadata": {},
   "outputs": [],
   "source": [
    "from calitp import to_snakecase"
   ]
  },
  {
   "cell_type": "code",
   "execution_count": 3,
   "id": "05098470-a391-40f8-99f9-4022b11ce777",
   "metadata": {},
   "outputs": [],
   "source": [
    "pd.set_option('display.max_columns', None)\n",
    "#pd.options.display.float_format = '{:,.2f}'.format\n",
    "#pd.set_option('display.max_colwidth', None)"
   ]
  },
  {
   "cell_type": "code",
   "execution_count": 4,
   "id": "aac5cc6b-3414-4a1c-a64f-9fe5aa2277fb",
   "metadata": {},
   "outputs": [],
   "source": [
    "#!pip install lxml"
   ]
  },
  {
   "cell_type": "code",
   "execution_count": 5,
   "id": "2c36d1f3-f484-4ec7-b2b5-efa1bce59970",
   "metadata": {},
   "outputs": [],
   "source": [
    "# help from: https://towardsdatascience.com/how-to-get-tables-from-websites-into-pandas-dataframes-e82bd8a0ac59\n",
    "aw = (pd.read_html('https://cleancalifornia.dot.ca.gov/local-grants')[0])\n",
    "aw = aw.dropna(how = 'all')\n",
    "aw = to_snakecase(aw)"
   ]
  },
  {
   "cell_type": "code",
   "execution_count": 6,
   "id": "2a32d756-384f-4fd8-811e-a82a5f68a222",
   "metadata": {},
   "outputs": [],
   "source": [
    "aw['app_fy'] = 2021"
   ]
  },
  {
   "cell_type": "code",
   "execution_count": 7,
   "id": "ea07030d-b013-4d05-9c11-1f612695fc06",
   "metadata": {},
   "outputs": [
    {
     "data": {
      "text/html": [
       "<div>\n",
       "<style scoped>\n",
       "    .dataframe tbody tr th:only-of-type {\n",
       "        vertical-align: middle;\n",
       "    }\n",
       "\n",
       "    .dataframe tbody tr th {\n",
       "        vertical-align: top;\n",
       "    }\n",
       "\n",
       "    .dataframe thead th {\n",
       "        text-align: right;\n",
       "    }\n",
       "</style>\n",
       "<table border=\"1\" class=\"dataframe\">\n",
       "  <thead>\n",
       "    <tr style=\"text-align: right;\">\n",
       "      <th></th>\n",
       "      <th>agency_name</th>\n",
       "      <th>project_title</th>\n",
       "      <th>grant_amount</th>\n",
       "      <th>total_project_cost</th>\n",
       "      <th>project_description</th>\n",
       "      <th>app_fy</th>\n",
       "    </tr>\n",
       "  </thead>\n",
       "  <tbody>\n",
       "    <tr>\n",
       "      <th>1</th>\n",
       "      <td>Alameda County District Attorney's Office</td>\n",
       "      <td>Alameda County District Attorney’s Clean Stree...</td>\n",
       "      <td>$2,369,091</td>\n",
       "      <td>$3,010,069</td>\n",
       "      <td>The Alameda County District Attorney’s (DA) of...</td>\n",
       "      <td>2021</td>\n",
       "    </tr>\n",
       "    <tr>\n",
       "      <th>2</th>\n",
       "      <td>City of Anaheim</td>\n",
       "      <td>North La Palma Green Promenade, Paseo and Park...</td>\n",
       "      <td>$2,639,009</td>\n",
       "      <td>$3,518,679</td>\n",
       "      <td>Clean California Funds will allow the City of ...</td>\n",
       "      <td>2021</td>\n",
       "    </tr>\n",
       "    <tr>\n",
       "      <th>3</th>\n",
       "      <td>City of Bakersfield</td>\n",
       "      <td>Garces Memorial Circle Enhancement Project</td>\n",
       "      <td>$1,491,250</td>\n",
       "      <td>$1,491,250</td>\n",
       "      <td>The Garces Memorial Circle is a roundabout tha...</td>\n",
       "      <td>2021</td>\n",
       "    </tr>\n",
       "    <tr>\n",
       "      <th>4</th>\n",
       "      <td>City of Bell Gardens</td>\n",
       "      <td>BG Keep Parks Clean Beautification Project</td>\n",
       "      <td>$510,067</td>\n",
       "      <td>$510,067</td>\n",
       "      <td>The project will improve Hannon Park and Julia...</td>\n",
       "      <td>2021</td>\n",
       "    </tr>\n",
       "    <tr>\n",
       "      <th>5</th>\n",
       "      <td>City of Berkeley</td>\n",
       "      <td>Martin Luther King Jr. Civic Center Park - Tur...</td>\n",
       "      <td>$591,666</td>\n",
       "      <td>$946,666</td>\n",
       "      <td>The Project will convert the existing defunct ...</td>\n",
       "      <td>2021</td>\n",
       "    </tr>\n",
       "  </tbody>\n",
       "</table>\n",
       "</div>"
      ],
      "text/plain": [
       "                                 agency_name  \\\n",
       "1  Alameda County District Attorney's Office   \n",
       "2                            City of Anaheim   \n",
       "3                        City of Bakersfield   \n",
       "4                       City of Bell Gardens   \n",
       "5                           City of Berkeley   \n",
       "\n",
       "                                       project_title grant_amount  \\\n",
       "1  Alameda County District Attorney’s Clean Stree...   $2,369,091   \n",
       "2  North La Palma Green Promenade, Paseo and Park...   $2,639,009   \n",
       "3         Garces Memorial Circle Enhancement Project   $1,491,250   \n",
       "4         BG Keep Parks Clean Beautification Project     $510,067   \n",
       "5  Martin Luther King Jr. Civic Center Park - Tur...     $591,666   \n",
       "\n",
       "  total_project_cost                                project_description  \\\n",
       "1         $3,010,069  The Alameda County District Attorney’s (DA) of...   \n",
       "2         $3,518,679  Clean California Funds will allow the City of ...   \n",
       "3         $1,491,250  The Garces Memorial Circle is a roundabout tha...   \n",
       "4           $510,067  The project will improve Hannon Park and Julia...   \n",
       "5           $946,666  The Project will convert the existing defunct ...   \n",
       "\n",
       "   app_fy  \n",
       "1    2021  \n",
       "2    2021  \n",
       "3    2021  \n",
       "4    2021  \n",
       "5    2021  "
      ]
     },
     "execution_count": 7,
     "metadata": {},
     "output_type": "execute_result"
    }
   ],
   "source": [
    "aw.head()"
   ]
  },
  {
   "cell_type": "markdown",
   "id": "9b65f136-e43d-4800-97b0-743b7fe75ad7",
   "metadata": {
    "jp-MarkdownHeadingCollapsed": true,
    "tags": []
   },
   "source": [
    "## Application Data"
   ]
  },
  {
   "cell_type": "code",
   "execution_count": 7,
   "id": "2147fc20-1f36-4c3a-b4f7-16da96148437",
   "metadata": {},
   "outputs": [],
   "source": [
    "## read in Clean CA applications \n",
    "# NOTE: do not need this anymore"
   ]
  },
  {
   "cell_type": "code",
   "execution_count": 8,
   "id": "56c68267-4072-48be-93af-d9b39fc2104b",
   "metadata": {},
   "outputs": [],
   "source": [
    "# apps = pd.read_excel('cc-lgp-app-log-order-recd-v3.xlsx')\n",
    "# apps = apps.dropna(how='all')\n",
    "# apps = apps.rename(columns = {'Implementing Agency Name': 'Agency Name',\n",
    "#                              'Project Title ':'Project Title'})\n",
    "# apps = to_snakecase(apps)"
   ]
  },
  {
   "cell_type": "code",
   "execution_count": 9,
   "id": "6b71b9ec-d80c-420e-95e6-d2dd1afe4e17",
   "metadata": {},
   "outputs": [],
   "source": [
    "#apps"
   ]
  },
  {
   "cell_type": "code",
   "execution_count": 10,
   "id": "e9712540-3a53-4124-8a59-d034340d4a72",
   "metadata": {},
   "outputs": [],
   "source": [
    "#apps['app_year'] = 2021"
   ]
  },
  {
   "cell_type": "code",
   "execution_count": 11,
   "id": "c0f974d3-7a53-48df-b68c-fcc2eb50582f",
   "metadata": {},
   "outputs": [],
   "source": [
    "#apps"
   ]
  },
  {
   "cell_type": "code",
   "execution_count": null,
   "id": "7b0fcf79-4967-4544-bb8c-e1dd64ea1407",
   "metadata": {},
   "outputs": [],
   "source": []
  },
  {
   "cell_type": "markdown",
   "id": "16fb45fe-046a-40e8-8ece-a4277814d687",
   "metadata": {},
   "source": [
    "### joins "
   ]
  },
  {
   "cell_type": "code",
   "execution_count": 12,
   "id": "a16430f9-7407-4aa8-a2da-9a47e8c6512e",
   "metadata": {},
   "outputs": [],
   "source": [
    "# test = aw.merge(\n",
    "#     apps,\n",
    "#     how=\"outer\",\n",
    "#     on =[\"agency_name\", \"project_title\"],\n",
    "#     indicator=True,\n",
    "# )"
   ]
  },
  {
   "cell_type": "code",
   "execution_count": 13,
   "id": "83a3fb0a-6cf3-4af4-997d-083fe208f6e9",
   "metadata": {},
   "outputs": [],
   "source": [
    "# test._merge.value_counts()"
   ]
  },
  {
   "cell_type": "markdown",
   "id": "cfa73c69-2eae-40b8-9928-fc17c7f6511d",
   "metadata": {},
   "source": [
    "#### Reminder:\n",
    "* right = application list 2021\n",
    "* left = awarded list \n",
    "* both = awarded in 2021\n",
    "\n",
    "should be 105 awarded projects in the both category"
   ]
  },
  {
   "cell_type": "code",
   "execution_count": 14,
   "id": "c1247112-5c5f-4479-bec0-002bed58e7dd",
   "metadata": {},
   "outputs": [],
   "source": [
    "# (test >> filter(_._merge  != (\"both\"))>>arrange(_.agency_name))"
   ]
  },
  {
   "cell_type": "code",
   "execution_count": 56,
   "id": "4b64567e-db14-4805-8771-d7b17fc30cba",
   "metadata": {},
   "outputs": [],
   "source": [
    "### merging again on project title"
   ]
  },
  {
   "cell_type": "code",
   "execution_count": 15,
   "id": "6e6387c9-f5ab-4b7a-a5c0-f3858c759306",
   "metadata": {},
   "outputs": [],
   "source": [
    "# test2 = aw.merge(\n",
    "#     apps,\n",
    "#     how=\"outer\",\n",
    "#     on = \"project_title\",\n",
    "#     indicator=True,\n",
    "# )"
   ]
  },
  {
   "cell_type": "code",
   "execution_count": 16,
   "id": "86670b9a-2fd6-4898-be25-e11627898a71",
   "metadata": {},
   "outputs": [],
   "source": [
    "# test2._merge.value_counts()"
   ]
  },
  {
   "cell_type": "code",
   "execution_count": 17,
   "id": "469a7922-bcf0-49a6-abd5-5b52a853b939",
   "metadata": {},
   "outputs": [],
   "source": [
    "# (test >> filter(_._merge == (\"both\")) >> arrange(_.agency_name))"
   ]
  },
  {
   "cell_type": "code",
   "execution_count": null,
   "id": "db8fe068-e4f6-472c-b960-ea1ee9efe90d",
   "metadata": {},
   "outputs": [],
   "source": []
  },
  {
   "cell_type": "markdown",
   "id": "59005ab8-8fed-47e4-b36b-35c498e1e0fe",
   "metadata": {},
   "source": [
    "## Preliminary Analysis"
   ]
  },
  {
   "cell_type": "code",
   "execution_count": 15,
   "id": "94cfe0d1-9512-4af3-be53-18bdb70fc46c",
   "metadata": {},
   "outputs": [
    {
     "name": "stdout",
     "output_type": "stream",
     "text": [
      "There are 87 unique agencies that received Clean CA funds\n"
     ]
    }
   ],
   "source": [
    "print(f\"There are {len(aw>>count(_.agency_name))} unique agencies that received Clean CA funds\")"
   ]
  },
  {
   "cell_type": "code",
   "execution_count": 12,
   "id": "7e2e1de1-708a-4dd8-9371-9e58a871c735",
   "metadata": {},
   "outputs": [
    {
     "data": {
      "text/html": [
       "<div>\n",
       "<style scoped>\n",
       "    .dataframe tbody tr th:only-of-type {\n",
       "        vertical-align: middle;\n",
       "    }\n",
       "\n",
       "    .dataframe tbody tr th {\n",
       "        vertical-align: top;\n",
       "    }\n",
       "\n",
       "    .dataframe thead th {\n",
       "        text-align: right;\n",
       "    }\n",
       "</style>\n",
       "<table border=\"1\" class=\"dataframe\">\n",
       "  <thead>\n",
       "    <tr style=\"text-align: right;\">\n",
       "      <th></th>\n",
       "      <th>agency_name</th>\n",
       "      <th>n</th>\n",
       "    </tr>\n",
       "  </thead>\n",
       "  <tbody>\n",
       "    <tr>\n",
       "      <th>48</th>\n",
       "      <td>City of Sacramento</td>\n",
       "      <td>5</td>\n",
       "    </tr>\n",
       "    <tr>\n",
       "      <th>17</th>\n",
       "      <td>City of Glendale</td>\n",
       "      <td>3</td>\n",
       "    </tr>\n",
       "    <tr>\n",
       "      <th>29</th>\n",
       "      <td>City of Los Angeles</td>\n",
       "      <td>3</td>\n",
       "    </tr>\n",
       "    <tr>\n",
       "      <th>68</th>\n",
       "      <td>County of Kern</td>\n",
       "      <td>3</td>\n",
       "    </tr>\n",
       "    <tr>\n",
       "      <th>73</th>\n",
       "      <td>County of Tuolumne</td>\n",
       "      <td>3</td>\n",
       "    </tr>\n",
       "    <tr>\n",
       "      <th>36</th>\n",
       "      <td>City of Oakland</td>\n",
       "      <td>2</td>\n",
       "    </tr>\n",
       "    <tr>\n",
       "      <th>40</th>\n",
       "      <td>City of Pico Rivera</td>\n",
       "      <td>2</td>\n",
       "    </tr>\n",
       "    <tr>\n",
       "      <th>41</th>\n",
       "      <td>City of Pittsburg</td>\n",
       "      <td>2</td>\n",
       "    </tr>\n",
       "    <tr>\n",
       "      <th>45</th>\n",
       "      <td>City of Richmond</td>\n",
       "      <td>2</td>\n",
       "    </tr>\n",
       "    <tr>\n",
       "      <th>47</th>\n",
       "      <td>City of Rio Dell</td>\n",
       "      <td>2</td>\n",
       "    </tr>\n",
       "    <tr>\n",
       "      <th>77</th>\n",
       "      <td>Housing Authority of the City of Los Angeles</td>\n",
       "      <td>2</td>\n",
       "    </tr>\n",
       "  </tbody>\n",
       "</table>\n",
       "</div>"
      ],
      "text/plain": [
       "                                     agency_name  n\n",
       "48                            City of Sacramento  5\n",
       "17                              City of Glendale  3\n",
       "29                           City of Los Angeles  3\n",
       "68                                County of Kern  3\n",
       "73                            County of Tuolumne  3\n",
       "36                               City of Oakland  2\n",
       "40                           City of Pico Rivera  2\n",
       "41                             City of Pittsburg  2\n",
       "45                              City of Richmond  2\n",
       "47                              City of Rio Dell  2\n",
       "77  Housing Authority of the City of Los Angeles  2"
      ]
     },
     "execution_count": 12,
     "metadata": {},
     "output_type": "execute_result"
    }
   ],
   "source": [
    "aw>>count(_.agency_name)>>arrange(-_.n)>>filter(_.n>1)"
   ]
  },
  {
   "cell_type": "code",
   "execution_count": 25,
   "id": "fe9c7b79-a65e-4601-9329-49df69c96831",
   "metadata": {},
   "outputs": [],
   "source": [
    "#aw.grant_amount.astype('Int64')"
   ]
  },
  {
   "cell_type": "code",
   "execution_count": 30,
   "id": "c93922d4-c77e-4f6f-89c7-5e96b5e6bb61",
   "metadata": {},
   "outputs": [],
   "source": [
    "aw['total_project_cost'] = aw.total_project_cost.replace('[\\$,]', '', regex=True).astype(int)"
   ]
  },
  {
   "cell_type": "code",
   "execution_count": 32,
   "id": "cca46dc4-bebb-4e1c-91aa-127074e76bfa",
   "metadata": {},
   "outputs": [],
   "source": [
    "aw['grant_amount'] = aw.grant_amount.replace('[\\$,]', '', regex=True).astype(int)"
   ]
  },
  {
   "cell_type": "code",
   "execution_count": 33,
   "id": "17b25a3f-06d4-4025-abb8-f7809df523c9",
   "metadata": {},
   "outputs": [],
   "source": [
    "aw['remaining_cost'] = (aw['total_project_cost'] - aw['grant_amount'])"
   ]
  },
  {
   "cell_type": "code",
   "execution_count": 45,
   "id": "658f4e22-1c79-46b1-b620-68c8a6df152d",
   "metadata": {},
   "outputs": [
    {
     "data": {
      "text/html": [
       "<div>\n",
       "<style scoped>\n",
       "    .dataframe tbody tr th:only-of-type {\n",
       "        vertical-align: middle;\n",
       "    }\n",
       "\n",
       "    .dataframe tbody tr th {\n",
       "        vertical-align: top;\n",
       "    }\n",
       "\n",
       "    .dataframe thead th {\n",
       "        text-align: right;\n",
       "    }\n",
       "</style>\n",
       "<table border=\"1\" class=\"dataframe\">\n",
       "  <thead>\n",
       "    <tr style=\"text-align: right;\">\n",
       "      <th></th>\n",
       "      <th>agency_name</th>\n",
       "      <th>project_title</th>\n",
       "      <th>grant_amount</th>\n",
       "      <th>total_project_cost</th>\n",
       "      <th>project_description</th>\n",
       "      <th>app_fy</th>\n",
       "      <th>remaining_cost</th>\n",
       "    </tr>\n",
       "  </thead>\n",
       "  <tbody>\n",
       "    <tr>\n",
       "      <th>1</th>\n",
       "      <td>Alameda County District Attorney's Office</td>\n",
       "      <td>Alameda County District Attorney’s Clean Stree...</td>\n",
       "      <td>2369091</td>\n",
       "      <td>3010069</td>\n",
       "      <td>The Alameda County District Attorney’s (DA) of...</td>\n",
       "      <td>2021</td>\n",
       "      <td>640978</td>\n",
       "    </tr>\n",
       "    <tr>\n",
       "      <th>2</th>\n",
       "      <td>City of Anaheim</td>\n",
       "      <td>North La Palma Green Promenade, Paseo and Park...</td>\n",
       "      <td>2639009</td>\n",
       "      <td>3518679</td>\n",
       "      <td>Clean California Funds will allow the City of ...</td>\n",
       "      <td>2021</td>\n",
       "      <td>879670</td>\n",
       "    </tr>\n",
       "    <tr>\n",
       "      <th>3</th>\n",
       "      <td>City of Bakersfield</td>\n",
       "      <td>Garces Memorial Circle Enhancement Project</td>\n",
       "      <td>1491250</td>\n",
       "      <td>1491250</td>\n",
       "      <td>The Garces Memorial Circle is a roundabout tha...</td>\n",
       "      <td>2021</td>\n",
       "      <td>0</td>\n",
       "    </tr>\n",
       "    <tr>\n",
       "      <th>4</th>\n",
       "      <td>City of Bell Gardens</td>\n",
       "      <td>BG Keep Parks Clean Beautification Project</td>\n",
       "      <td>510067</td>\n",
       "      <td>510067</td>\n",
       "      <td>The project will improve Hannon Park and Julia...</td>\n",
       "      <td>2021</td>\n",
       "      <td>0</td>\n",
       "    </tr>\n",
       "    <tr>\n",
       "      <th>5</th>\n",
       "      <td>City of Berkeley</td>\n",
       "      <td>Martin Luther King Jr. Civic Center Park - Tur...</td>\n",
       "      <td>591666</td>\n",
       "      <td>946666</td>\n",
       "      <td>The Project will convert the existing defunct ...</td>\n",
       "      <td>2021</td>\n",
       "      <td>355000</td>\n",
       "    </tr>\n",
       "    <tr>\n",
       "      <th>...</th>\n",
       "      <td>...</td>\n",
       "      <td>...</td>\n",
       "      <td>...</td>\n",
       "      <td>...</td>\n",
       "      <td>...</td>\n",
       "      <td>...</td>\n",
       "      <td>...</td>\n",
       "    </tr>\n",
       "    <tr>\n",
       "      <th>101</th>\n",
       "      <td>Riverside University Health System-Public Health</td>\n",
       "      <td>Clean, Beautiful and Resilient Oasis</td>\n",
       "      <td>2150942</td>\n",
       "      <td>2150942</td>\n",
       "      <td>This proposal will address infrastructure and ...</td>\n",
       "      <td>2021</td>\n",
       "      <td>0</td>\n",
       "    </tr>\n",
       "    <tr>\n",
       "      <th>102</th>\n",
       "      <td>Santa Ynez Chumash Tribe</td>\n",
       "      <td>Outdoor Space</td>\n",
       "      <td>303800</td>\n",
       "      <td>303800</td>\n",
       "      <td>The Santa Ynez Band of Chumash Indians will re...</td>\n",
       "      <td>2021</td>\n",
       "      <td>0</td>\n",
       "    </tr>\n",
       "    <tr>\n",
       "      <th>103</th>\n",
       "      <td>San Francisco Municipal Transportation Agency</td>\n",
       "      <td>South of Market (SoMa) Transit Gardens Connect...</td>\n",
       "      <td>1824328</td>\n",
       "      <td>3649395</td>\n",
       "      <td>Funds from Clean California will support the S...</td>\n",
       "      <td>2021</td>\n",
       "      <td>1825067</td>\n",
       "    </tr>\n",
       "    <tr>\n",
       "      <th>104</th>\n",
       "      <td>Southgate Recreation &amp; Park District</td>\n",
       "      <td>South Sacramento Parks &amp; Pathways Beautificati...</td>\n",
       "      <td>5000000</td>\n",
       "      <td>5001512</td>\n",
       "      <td>The Southgate Recreation &amp; Park District (Sout...</td>\n",
       "      <td>2021</td>\n",
       "      <td>1512</td>\n",
       "    </tr>\n",
       "    <tr>\n",
       "      <th>105</th>\n",
       "      <td>The Manchester Band of Pomo Indians</td>\n",
       "      <td>Manchester/ Point Arena Tribal Clean-Up</td>\n",
       "      <td>264038</td>\n",
       "      <td>264038</td>\n",
       "      <td>On our land there are many areas that require ...</td>\n",
       "      <td>2021</td>\n",
       "      <td>0</td>\n",
       "    </tr>\n",
       "  </tbody>\n",
       "</table>\n",
       "<p>105 rows × 7 columns</p>\n",
       "</div>"
      ],
      "text/plain": [
       "                                          agency_name  \\\n",
       "1           Alameda County District Attorney's Office   \n",
       "2                                     City of Anaheim   \n",
       "3                                 City of Bakersfield   \n",
       "4                                City of Bell Gardens   \n",
       "5                                    City of Berkeley   \n",
       "..                                                ...   \n",
       "101  Riverside University Health System-Public Health   \n",
       "102                          Santa Ynez Chumash Tribe   \n",
       "103     San Francisco Municipal Transportation Agency   \n",
       "104              Southgate Recreation & Park District   \n",
       "105               The Manchester Band of Pomo Indians   \n",
       "\n",
       "                                         project_title  grant_amount  \\\n",
       "1    Alameda County District Attorney’s Clean Stree...       2369091   \n",
       "2    North La Palma Green Promenade, Paseo and Park...       2639009   \n",
       "3           Garces Memorial Circle Enhancement Project       1491250   \n",
       "4           BG Keep Parks Clean Beautification Project        510067   \n",
       "5    Martin Luther King Jr. Civic Center Park - Tur...        591666   \n",
       "..                                                 ...           ...   \n",
       "101               Clean, Beautiful and Resilient Oasis       2150942   \n",
       "102                                      Outdoor Space        303800   \n",
       "103  South of Market (SoMa) Transit Gardens Connect...       1824328   \n",
       "104  South Sacramento Parks & Pathways Beautificati...       5000000   \n",
       "105            Manchester/ Point Arena Tribal Clean-Up        264038   \n",
       "\n",
       "     total_project_cost                                project_description  \\\n",
       "1               3010069  The Alameda County District Attorney’s (DA) of...   \n",
       "2               3518679  Clean California Funds will allow the City of ...   \n",
       "3               1491250  The Garces Memorial Circle is a roundabout tha...   \n",
       "4                510067  The project will improve Hannon Park and Julia...   \n",
       "5                946666  The Project will convert the existing defunct ...   \n",
       "..                  ...                                                ...   \n",
       "101             2150942  This proposal will address infrastructure and ...   \n",
       "102              303800  The Santa Ynez Band of Chumash Indians will re...   \n",
       "103             3649395  Funds from Clean California will support the S...   \n",
       "104             5001512  The Southgate Recreation & Park District (Sout...   \n",
       "105              264038  On our land there are many areas that require ...   \n",
       "\n",
       "     app_fy  remaining_cost  \n",
       "1      2021          640978  \n",
       "2      2021          879670  \n",
       "3      2021               0  \n",
       "4      2021               0  \n",
       "5      2021          355000  \n",
       "..      ...             ...  \n",
       "101    2021               0  \n",
       "102    2021               0  \n",
       "103    2021         1825067  \n",
       "104    2021            1512  \n",
       "105    2021               0  \n",
       "\n",
       "[105 rows x 7 columns]"
      ]
     },
     "execution_count": 45,
     "metadata": {},
     "output_type": "execute_result"
    }
   ],
   "source": [
    "aw"
   ]
  },
  {
   "cell_type": "code",
   "execution_count": 41,
   "id": "04e51574-76ee-49b3-bb42-42db5366c8c8",
   "metadata": {},
   "outputs": [
    {
     "name": "stdout",
     "output_type": "stream",
     "text": [
      "50 agencies project costs are covered by the grant amount.\n"
     ]
    }
   ],
   "source": [
    "print(f\"{len(aw>>filter(_.remaining_cost==0)>>count(_.agency_name))} agencies project costs are covered by the grant amount.\")"
   ]
  },
  {
   "cell_type": "markdown",
   "id": "6ce0be8f-0588-405e-8286-30c981abfc9f",
   "metadata": {},
   "source": [
    "#### exporting to parquet"
   ]
  },
  {
   "cell_type": "code",
   "execution_count": 47,
   "id": "2e0f3ba6-8309-4169-832e-f8a0366a49e3",
   "metadata": {},
   "outputs": [],
   "source": [
    "#aw.to_parquet('cleanca.parquet')"
   ]
  },
  {
   "cell_type": "code",
   "execution_count": null,
   "id": "94b89991-bab3-4419-aca2-8ec69dd04e98",
   "metadata": {},
   "outputs": [],
   "source": []
  },
  {
   "cell_type": "code",
   "execution_count": null,
   "id": "440ee418-1754-41c0-bfe4-5744fa8355c3",
   "metadata": {},
   "outputs": [],
   "source": []
  },
  {
   "cell_type": "code",
   "execution_count": null,
   "id": "90ca7c3b-d020-4918-bb9d-bf881c31dd29",
   "metadata": {},
   "outputs": [],
   "source": []
  }
 ],
 "metadata": {
  "kernelspec": {
   "display_name": "Python 3 (ipykernel)",
   "language": "python",
   "name": "python3"
  },
  "language_info": {
   "codemirror_mode": {
    "name": "ipython",
    "version": 3
   },
   "file_extension": ".py",
   "mimetype": "text/x-python",
   "name": "python",
   "nbconvert_exporter": "python",
   "pygments_lexer": "ipython3",
   "version": "3.9.10"
  },
  "widgets": {
   "application/vnd.jupyter.widget-state+json": {
    "state": {},
    "version_major": 2,
    "version_minor": 0
   }
  }
 },
 "nbformat": 4,
 "nbformat_minor": 5
}
