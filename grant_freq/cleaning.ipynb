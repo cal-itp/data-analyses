{
 "cells": [
  {
   "cell_type": "markdown",
   "id": "581e214d-4637-4e33-9ccf-84c8f54c8eb3",
   "metadata": {},
   "source": [
    "# Grants Overview\n",
    "***\n",
    "* [Cleaning up and checking the data entered.](https://docs.google.com/spreadsheets/d/12pw6_2OSHKGksnLQlvwvo6P8VljzQ9pse7E9zGDSpg4/edit#gid=0)"
   ]
  },
  {
   "cell_type": "code",
   "execution_count": 28,
   "id": "f2c063c3-d86e-4028-88c7-5fb7baf70584",
   "metadata": {},
   "outputs": [],
   "source": [
    "import pandas as pd\n",
    "import numpy as np\n",
    "from siuba import *\n",
    "from calitp import *\n",
    "import altair as alt\n",
    "import shared_utils \n",
    "from shared_utils import altair_utils\n",
    "from shared_utils import geography_utils\n",
    "from shared_utils import calitp_color_palette as cp\n",
    "from shared_utils import styleguide\n",
    "pd.options.display.max_columns = 100\n",
    "pd.options.display.max_rows = 100\n",
    "pd.set_option(\"display.max_colwidth\", None)\n",
    "from IPython.display import HTML, Image, Markdown, display, display_html"
   ]
  },
  {
   "cell_type": "code",
   "execution_count": 2,
   "id": "81bc7eb2-de23-4a16-9279-3690077c3595",
   "metadata": {},
   "outputs": [],
   "source": [
    "sheet_id = \"12pw6_2OSHKGksnLQlvwvo6P8VljzQ9pse7E9zGDSpg4\"\n",
    "sheet_name = \"current_grants\"\n",
    "url = f\"https://docs.google.com/spreadsheets/d/{sheet_id}/gviz/tq?tqx=out:csv&sheet={sheet_name}\"\n",
    "#https://docs.google.com/spreadsheets/d/12pw6_2OSHKGksnLQlvwvo6P8VljzQ9pse7E9zGDSpg4/edit#gid=0\n",
    "df = to_snakecase(pd.read_csv(url)) "
   ]
  },
  {
   "cell_type": "code",
   "execution_count": 3,
   "id": "0cac35d7-dc45-49fc-b5b4-aa68051f8194",
   "metadata": {},
   "outputs": [],
   "source": [
    "\n",
    "#df = df.iloc[:,1:25]"
   ]
  },
  {
   "cell_type": "code",
   "execution_count": 4,
   "id": "7055fff6-eebd-4970-a6b6-c56a575270e2",
   "metadata": {},
   "outputs": [],
   "source": [
    "#Fill in missing values for eligiblity that are null with 0 \n",
    "eligiblity = ['eligibility:_transit',\n",
    "       'eligibility:_municipality', 'eligibility:_school_district',\n",
    "       'eligibility:_mpo', 'eligibility:_county_regional_govt__not_mpo',\n",
    "       'eligibility:_other_local_entity__non_municipality_',\n",
    "       'eligibility:_state_public_lands', 'eligibility:_federal_public_lands',\n",
    "       'eligibility:_tribal_government', 'eligibility:_non_profit',\n",
    "       'eligibility:_state_department_', 'eligibility:_for_profit_companies'] "
   ]
  },
  {
   "cell_type": "code",
   "execution_count": 5,
   "id": "27381411-78ea-4160-8e64-03252fdc316a",
   "metadata": {},
   "outputs": [],
   "source": [
    "df[eligiblity] = df[eligiblity].fillna(0)"
   ]
  },
  {
   "cell_type": "code",
   "execution_count": 6,
   "id": "7d1e5baf-521e-4f93-a8d1-5853c34bc081",
   "metadata": {},
   "outputs": [
    {
     "data": {
      "text/plain": [
       "75"
      ]
     },
     "execution_count": 6,
     "metadata": {},
     "output_type": "execute_result"
    }
   ],
   "source": [
    "df['grant_program'].nunique()"
   ]
  },
  {
   "cell_type": "code",
   "execution_count": 44,
   "id": "40cac3f1-8583-4110-9441-7c9725425f3b",
   "metadata": {},
   "outputs": [
    {
     "data": {
      "text/plain": [
       "Index(['grant_#', 'division', 'grant_program', 'notice_of_funding',\n",
       "       'fy_due_date', 'months_to_apply__c_d_', 'fy_cycle',\n",
       "       'funding_amount_available', 'funding_amount_flags',\n",
       "       'agency_eligibility', 'grant_type', 'federal_or_state_funded',\n",
       "       'eligibility_restrictions', 'current__in_this_fy__or_expired',\n",
       "       'eligibility:_transit', 'eligibility:_municipality',\n",
       "       'eligibility:_school_district', 'eligibility:_mpo',\n",
       "       'eligibility:_county_regional_govt__not_mpo',\n",
       "       'eligibility:_other_local_entity__non_municipality_',\n",
       "       'eligibility:_state_public_lands', 'eligibility:_federal_public_lands',\n",
       "       'eligibility:_tribal_government', 'eligibility:_non_profit',\n",
       "       'eligibility:_state_department_', 'eligibility:_for_profit_companies',\n",
       "       'unnamed:_26', 'unnamed:_27', 'unnamed:_28', 'unnamed:_29',\n",
       "       'unnamed:_30', 'unnamed:_31', 'unnamed:_32', 'unnamed:_33',\n",
       "       'unnamed:_34', 'unnamed:_35', 'unnamed:_36', 'unnamed:_37',\n",
       "       'total_eligible_applicants'],\n",
       "      dtype='object')"
      ]
     },
     "execution_count": 44,
     "metadata": {},
     "output_type": "execute_result"
    }
   ],
   "source": [
    "df.columns"
   ]
  },
  {
   "cell_type": "code",
   "execution_count": 7,
   "id": "9542849d-6e3f-423d-a090-b9100e07ed5b",
   "metadata": {
    "tags": []
   },
   "outputs": [
    {
     "data": {
      "text/html": [
       "<div>\n",
       "<style scoped>\n",
       "    .dataframe tbody tr th:only-of-type {\n",
       "        vertical-align: middle;\n",
       "    }\n",
       "\n",
       "    .dataframe tbody tr th {\n",
       "        vertical-align: top;\n",
       "    }\n",
       "\n",
       "    .dataframe thead th {\n",
       "        text-align: right;\n",
       "    }\n",
       "</style>\n",
       "<table border=\"1\" class=\"dataframe\">\n",
       "  <thead>\n",
       "    <tr style=\"text-align: right;\">\n",
       "      <th></th>\n",
       "      <th>grant_#</th>\n",
       "      <th>division</th>\n",
       "      <th>grant_program</th>\n",
       "      <th>notice_of_funding</th>\n",
       "      <th>fy_due_date</th>\n",
       "      <th>months_to_apply__c_d_</th>\n",
       "      <th>fy_cycle</th>\n",
       "      <th>funding_amount_available</th>\n",
       "      <th>funding_amount_flags</th>\n",
       "      <th>agency_eligibility</th>\n",
       "    </tr>\n",
       "  </thead>\n",
       "  <tbody>\n",
       "    <tr>\n",
       "      <th>35</th>\n",
       "      <td>36</td>\n",
       "      <td>Federal Highway Administration (DOT)</td>\n",
       "      <td>Bridge Investment Program</td>\n",
       "      <td>June 10, 2022</td>\n",
       "      <td>September 8, 2022</td>\n",
       "      <td>2</td>\n",
       "      <td>1 Year</td>\n",
       "      <td>2500000000</td>\n",
       "      <td>No Flags</td>\n",
       "      <td>•State\\r\\n •MPO (w/ pop. &gt;200K)\\r\\n• Local government\\r\\n• Special purpose district or public authority with a transportation\\r\\nfunction\\r\\n• Federal land management agency\\r\\n• Tribal government</td>\n",
       "    </tr>\n",
       "    <tr>\n",
       "      <th>56</th>\n",
       "      <td>58</td>\n",
       "      <td>Federal Transit Administration (DOT)</td>\n",
       "      <td>Public Transportation on Indian Reservations Formula</td>\n",
       "      <td>Formula funds are apportioned after appropriations are received.</td>\n",
       "      <td>Missing</td>\n",
       "      <td>Missing</td>\n",
       "      <td>Year of Apportionment plus two years\\r</td>\n",
       "      <td>183250437</td>\n",
       "      <td>No Flags</td>\n",
       "      <td>Federally recognized Indian Tribes and Alaska Native Villages\\n</td>\n",
       "    </tr>\n",
       "    <tr>\n",
       "      <th>72</th>\n",
       "      <td>74</td>\n",
       "      <td>Federal Highway Administration (DOT)</td>\n",
       "      <td>Strategic Innovation for Revenue Collection\\r\\n(Set-aside)</td>\n",
       "      <td>Missing</td>\n",
       "      <td>Missing</td>\n",
       "      <td>Missing</td>\n",
       "      <td>Available until expended\\r</td>\n",
       "      <td>15000000</td>\n",
       "      <td>No Flags</td>\n",
       "      <td>States, Metropolitan Planning Organizations, and Local governments</td>\n",
       "    </tr>\n",
       "  </tbody>\n",
       "</table>\n",
       "</div>"
      ],
      "text/plain": [
       "    grant_#                              division  \\\n",
       "35       36  Federal Highway Administration (DOT)   \n",
       "56       58  Federal Transit Administration (DOT)   \n",
       "72       74  Federal Highway Administration (DOT)   \n",
       "\n",
       "                                                 grant_program  \\\n",
       "35                                   Bridge Investment Program   \n",
       "56        Public Transportation on Indian Reservations Formula   \n",
       "72  Strategic Innovation for Revenue Collection\\r\\n(Set-aside)   \n",
       "\n",
       "                                                    notice_of_funding  \\\n",
       "35                                                      June 10, 2022   \n",
       "56  Formula funds are apportioned after appropriations are received.    \n",
       "72                                                            Missing   \n",
       "\n",
       "          fy_due_date months_to_apply__c_d_  \\\n",
       "35  September 8, 2022                     2   \n",
       "56            Missing               Missing   \n",
       "72            Missing               Missing   \n",
       "\n",
       "                                  fy_cycle  funding_amount_available  \\\n",
       "35                                  1 Year                2500000000   \n",
       "56  Year of Apportionment plus two years\\r                 183250437   \n",
       "72              Available until expended\\r                  15000000   \n",
       "\n",
       "   funding_amount_flags  \\\n",
       "35             No Flags   \n",
       "56             No Flags   \n",
       "72             No Flags   \n",
       "\n",
       "                                                                                                                                                                                      agency_eligibility  \n",
       "35  •State\\r\\n •MPO (w/ pop. >200K)\\r\\n• Local government\\r\\n• Special purpose district or public authority with a transportation\\r\\nfunction\\r\\n• Federal land management agency\\r\\n• Tribal government  \n",
       "56                                                                                                                                       Federally recognized Indian Tribes and Alaska Native Villages\\n  \n",
       "72                                                                                                                                    States, Metropolitan Planning Organizations, and Local governments  "
      ]
     },
     "execution_count": 7,
     "metadata": {},
     "output_type": "execute_result"
    }
   ],
   "source": [
    "df.iloc[:,0:10].sample(3)"
   ]
  },
  {
   "cell_type": "markdown",
   "id": "7f63b1eb-0973-47b6-a1ab-2ed215dd7397",
   "metadata": {},
   "source": [
    "## Looking at value counts to ensure the entered data makes sense\n",
    "***"
   ]
  },
  {
   "cell_type": "code",
   "execution_count": 8,
   "id": "d9ffde0e-d2b2-495b-8f62-7d3f81af17ec",
   "metadata": {},
   "outputs": [],
   "source": [
    "value_count_cols = ['division', \n",
    "       'months_to_apply__c_d_', 'fy_cycle','grant_type', 'federal_or_state_funded','funding_amount_flags']"
   ]
  },
  {
   "cell_type": "code",
   "execution_count": 9,
   "id": "97a10ce4-ae86-4233-84dd-4818413eb59a",
   "metadata": {},
   "outputs": [
    {
     "name": "stdout",
     "output_type": "stream",
     "text": [
      "\n",
      "division\n",
      "Federal Transit Administration (DOT)     18\n",
      "Federal Highway Administration (DOT)     17\n",
      "DLA                                      13\n",
      "SB1                                       8\n",
      "DRMT                                      8\n",
      "Office of the Secretary (DOT)             6\n",
      "SB1/DLA                                   2\n",
      "Caltrans - Unknown Division               1\n",
      "Clean CA                                  1\n",
      "DLA                                       1\n",
      "Federal Railroad Administration (DOT)     1\n",
      "Name: division, dtype: int64\n",
      "\n",
      "months_to_apply__c_d_\n",
      "Missing    55\n",
      "1           8\n",
      "3           6\n",
      "2           5\n",
      "4           1\n",
      "5           1\n",
      "Name: months_to_apply__c_d_, dtype: int64\n",
      "\n",
      "fy_cycle\n",
      "1 Year                                                                                                                                      22\n",
      "Available until expended                                                                                                                     7\n",
      "2 Years                                                                                                                                      6\n",
      "Period of Availability: 4 year                                                                                                               5\n",
      "Period of Availability: 4 year\\r                                                                                                             4\n",
      "Missing                                                                                                                                      4\n",
      "Year of Apportionment plus three years                                                                                                       3\n",
      "2 Year                                                                                                                                       2\n",
      "4 year                                                                                                                                       2\n",
      "Year of allocation plus two years                                                                                                            2\n",
      "Available until expended\\r                                                                                                                   2\n",
      "Single                                                                                                                                       2\n",
      "1 Year/Until Expended                                                                                                                        2\n",
      "Year of Apportionment plus two years\\r                                                                                                       2\n",
      "Year of Allocation plus five years\\r                                                                                                         1\n",
      "To be determined                                                                                                                             1\n",
      "5 Years                                                                                                                                      1\n",
      "TBD                                                                                                                                          1\n",
      "2 Years (sometimes 1)                                                                                                                        1\n",
      "3 Years                                                                                                                                      1\n",
      "Rolling                                                                                                                                      1\n",
      "1 Year (varies)                                                                                                                              1\n",
      "1 Year (3 cycles total)                                                                                                                      1\n",
      "Single (then additional)                                                                                                                     1\n",
      "Section 5310 funds are available to the states during the fiscal year of apportionment plus two additional years (total of three years).     1\n",
      "Name: fy_cycle, dtype: int64\n",
      "\n",
      "grant_type\n",
      "Competitive                                                    42\n",
      "Formula                                                         9\n",
      "Competitive                                                     6\n",
      "Grant                                                           4\n",
      "Both                                                            3\n",
      "Missing                                                         3\n",
      "Cooperative Agreement or Interagency Agreemen                   2\n",
      "First Come First Serve Basis                                    1\n",
      "Discretionary                                                   1\n",
      "Loan                                                            1\n",
      "Competitive Grants, Cooperative Agreements, other contracts     1\n",
      "Cooperative Agreement, Contract, Competitive grant\\r            1\n",
      "Distributed through the Tribal Transportation Program           1\n",
      "Grants, Cooperative Agreements, other contracts\\r               1\n",
      "Name: grant_type, dtype: int64\n",
      "\n",
      "federal_or_state_funded\n",
      "Federal    59\n",
      "State      12\n",
      "Both        4\n",
      "Missing     1\n",
      "Name: federal_or_state_funded, dtype: int64\n",
      "\n",
      "funding_amount_flags\n",
      "No Flags                     65\n",
      "Nationwide                    6\n",
      "Conflicting Amounts           2\n",
      "Lump sum across all years     2\n",
      "Draft                         1\n",
      "Name: funding_amount_flags, dtype: int64\n"
     ]
    }
   ],
   "source": [
    "#https://stackoverflow.com/questions/32589829/how-to-get-value-counts-for-multiple-columns-at-once-in-pandas-dataframe\n",
    "for column in df[value_count_cols]:\n",
    "     print(\"\\n\" + column)\n",
    "     print(df[column].value_counts())"
   ]
  },
  {
   "cell_type": "markdown",
   "id": "f939f4df-7dc1-42c8-8809-5da149a8c452",
   "metadata": {},
   "source": [
    "## Analyze how many grants x entity\n",
    "***"
   ]
  },
  {
   "cell_type": "code",
   "execution_count": 10,
   "id": "8df1c7f6-5e65-451b-aa04-673aed954c51",
   "metadata": {},
   "outputs": [],
   "source": [
    "eligibility = df[eligiblity].sum().sort_values().to_frame().reset_index().rename(columns = {'index':'Entity',0:'# of Grants'}).replace(r\"_\", \" \", regex=True)"
   ]
  },
  {
   "cell_type": "code",
   "execution_count": 11,
   "id": "0d6c9778-7c98-4640-aaf0-b32179a02a5f",
   "metadata": {},
   "outputs": [],
   "source": [
    "eligibility['Entity'] = eligibility['Entity'].replace(r\"eligibility:\", \"\", regex= True).str.title()"
   ]
  },
  {
   "cell_type": "code",
   "execution_count": 34,
   "id": "8b77bf33-9d0c-4a96-ade5-fca00914b375",
   "metadata": {},
   "outputs": [
    {
     "data": {
      "text/html": [
       "<style type=\"text/css\">\n",
       "#T_02fe6 th {\n",
       "  text-align: center;\n",
       "}\n",
       "#T_02fe6_row0_col0, #T_02fe6_row0_col1, #T_02fe6_row1_col0, #T_02fe6_row1_col1, #T_02fe6_row2_col0, #T_02fe6_row2_col1, #T_02fe6_row3_col0, #T_02fe6_row3_col1, #T_02fe6_row4_col0, #T_02fe6_row4_col1, #T_02fe6_row5_col0, #T_02fe6_row5_col1, #T_02fe6_row6_col0, #T_02fe6_row6_col1, #T_02fe6_row7_col0, #T_02fe6_row7_col1, #T_02fe6_row8_col0, #T_02fe6_row8_col1, #T_02fe6_row9_col0, #T_02fe6_row9_col1, #T_02fe6_row10_col0, #T_02fe6_row10_col1, #T_02fe6_row11_col0, #T_02fe6_row11_col1 {\n",
       "  background-color: white;\n",
       "  text-align: center;\n",
       "}\n",
       "</style>\n",
       "<table id=\"T_02fe6\">\n",
       "  <thead>\n",
       "    <tr>\n",
       "      <th id=\"T_02fe6_level0_col0\" class=\"col_heading level0 col0\" >Entity</th>\n",
       "      <th id=\"T_02fe6_level0_col1\" class=\"col_heading level0 col1\" ># of Grants</th>\n",
       "    </tr>\n",
       "  </thead>\n",
       "  <tbody>\n",
       "    <tr>\n",
       "      <td id=\"T_02fe6_row0_col0\" class=\"data row0 col0\" > For Profit Companies</td>\n",
       "      <td id=\"T_02fe6_row0_col1\" class=\"data row0 col1\" >2.000000</td>\n",
       "    </tr>\n",
       "    <tr>\n",
       "      <td id=\"T_02fe6_row1_col0\" class=\"data row1 col0\" > School District</td>\n",
       "      <td id=\"T_02fe6_row1_col1\" class=\"data row1 col1\" >3.000000</td>\n",
       "    </tr>\n",
       "    <tr>\n",
       "      <td id=\"T_02fe6_row2_col0\" class=\"data row2 col0\" > Federal Public Lands</td>\n",
       "      <td id=\"T_02fe6_row2_col1\" class=\"data row2 col1\" >4.000000</td>\n",
       "    </tr>\n",
       "    <tr>\n",
       "      <td id=\"T_02fe6_row3_col0\" class=\"data row3 col0\" > State Public Lands</td>\n",
       "      <td id=\"T_02fe6_row3_col1\" class=\"data row3 col1\" >6.000000</td>\n",
       "    </tr>\n",
       "    <tr>\n",
       "      <td id=\"T_02fe6_row4_col0\" class=\"data row4 col0\" > Non Profit</td>\n",
       "      <td id=\"T_02fe6_row4_col1\" class=\"data row4 col1\" >14.000000</td>\n",
       "    </tr>\n",
       "    <tr>\n",
       "      <td id=\"T_02fe6_row5_col0\" class=\"data row5 col0\" > Transit</td>\n",
       "      <td id=\"T_02fe6_row5_col1\" class=\"data row5 col1\" >20.000000</td>\n",
       "    </tr>\n",
       "    <tr>\n",
       "      <td id=\"T_02fe6_row6_col0\" class=\"data row6 col0\" > Other Local Entity  Non Municipality </td>\n",
       "      <td id=\"T_02fe6_row6_col1\" class=\"data row6 col1\" >23.000000</td>\n",
       "    </tr>\n",
       "    <tr>\n",
       "      <td id=\"T_02fe6_row7_col0\" class=\"data row7 col0\" > Mpo</td>\n",
       "      <td id=\"T_02fe6_row7_col1\" class=\"data row7 col1\" >32.000000</td>\n",
       "    </tr>\n",
       "    <tr>\n",
       "      <td id=\"T_02fe6_row8_col0\" class=\"data row8 col0\" > Municipality</td>\n",
       "      <td id=\"T_02fe6_row8_col1\" class=\"data row8 col1\" >37.000000</td>\n",
       "    </tr>\n",
       "    <tr>\n",
       "      <td id=\"T_02fe6_row9_col0\" class=\"data row9 col0\" > State Department </td>\n",
       "      <td id=\"T_02fe6_row9_col1\" class=\"data row9 col1\" >38.000000</td>\n",
       "    </tr>\n",
       "    <tr>\n",
       "      <td id=\"T_02fe6_row10_col0\" class=\"data row10 col0\" > Tribal Government</td>\n",
       "      <td id=\"T_02fe6_row10_col1\" class=\"data row10 col1\" >41.000000</td>\n",
       "    </tr>\n",
       "    <tr>\n",
       "      <td id=\"T_02fe6_row11_col0\" class=\"data row11 col0\" > County Regional Govt  Not Mpo</td>\n",
       "      <td id=\"T_02fe6_row11_col1\" class=\"data row11 col1\" >44.000000</td>\n",
       "    </tr>\n",
       "  </tbody>\n",
       "</table>\n"
      ],
      "text/plain": [
       "<pandas.io.formats.style.Styler at 0x7fb9b447e410>"
      ]
     },
     "execution_count": 34,
     "metadata": {},
     "output_type": "execute_result"
    }
   ],
   "source": [
    "eligibility.style.hide(axis=\"index\").set_properties(**{\"background-color\": \"white\"}).set_table_styles([dict(selector=\"th\", props=[(\"text-align\", \"center\")])]\n",
    ").set_properties(**{\"text-align\": \"center\"})"
   ]
  },
  {
   "cell_type": "markdown",
   "id": "aa1bb3e7-7311-4349-b2f7-de4230b6d465",
   "metadata": {},
   "source": [
    "## Sums\n",
    "***"
   ]
  },
  {
   "cell_type": "code",
   "execution_count": 50,
   "id": "a712c01d-0abc-4c4c-bb37-dd06f1dbbc1a",
   "metadata": {},
   "outputs": [
    {
     "data": {
      "text/plain": [
       "52515005298"
      ]
     },
     "execution_count": 50,
     "metadata": {},
     "output_type": "execute_result"
    }
   ],
   "source": [
    "df['funding_amount_available'].sum()"
   ]
  },
  {
   "cell_type": "code",
   "execution_count": 51,
   "id": "5341ff13-95f7-446c-a55f-f35d0185c930",
   "metadata": {},
   "outputs": [],
   "source": [
    "sum_df = df.groupby('funding_amount_flags').agg({'funding_amount_available':'sum'})"
   ]
  },
  {
   "cell_type": "code",
   "execution_count": 52,
   "id": "9b2f0380-8532-49a2-abd0-a110977af5a3",
   "metadata": {},
   "outputs": [],
   "source": [
    "sum_df[\"funding_amount_available\"] = (\n",
    "    \"$\"\n",
    "    + (sum_df[\"funding_amount_available\"].astype(float) / 1000000000)\n",
    "    .round()\n",
    "    .astype(str)\n",
    "    + \"B\"\n",
    ")"
   ]
  },
  {
   "cell_type": "code",
   "execution_count": 53,
   "id": "b5363dca-d669-4a06-b1d2-3d8f72f5d8fd",
   "metadata": {},
   "outputs": [
    {
     "data": {
      "text/html": [
       "<div>\n",
       "<style scoped>\n",
       "    .dataframe tbody tr th:only-of-type {\n",
       "        vertical-align: middle;\n",
       "    }\n",
       "\n",
       "    .dataframe tbody tr th {\n",
       "        vertical-align: top;\n",
       "    }\n",
       "\n",
       "    .dataframe thead th {\n",
       "        text-align: right;\n",
       "    }\n",
       "</style>\n",
       "<table border=\"1\" class=\"dataframe\">\n",
       "  <thead>\n",
       "    <tr style=\"text-align: right;\">\n",
       "      <th></th>\n",
       "      <th>funding_amount_flags</th>\n",
       "      <th>funding_amount_available</th>\n",
       "    </tr>\n",
       "  </thead>\n",
       "  <tbody>\n",
       "    <tr>\n",
       "      <th>0</th>\n",
       "      <td>Conflicting Amounts</td>\n",
       "      <td>$6.0B</td>\n",
       "    </tr>\n",
       "    <tr>\n",
       "      <th>1</th>\n",
       "      <td>Draft</td>\n",
       "      <td>$1.0B</td>\n",
       "    </tr>\n",
       "    <tr>\n",
       "      <th>2</th>\n",
       "      <td>Lump sum across all years</td>\n",
       "      <td>$1.0B</td>\n",
       "    </tr>\n",
       "    <tr>\n",
       "      <th>3</th>\n",
       "      <td>Nationwide</td>\n",
       "      <td>$12.0B</td>\n",
       "    </tr>\n",
       "    <tr>\n",
       "      <th>4</th>\n",
       "      <td>No Flags</td>\n",
       "      <td>$33.0B</td>\n",
       "    </tr>\n",
       "  </tbody>\n",
       "</table>\n",
       "</div>"
      ],
      "text/plain": [
       "        funding_amount_flags funding_amount_available\n",
       "0        Conflicting Amounts                    $6.0B\n",
       "1                      Draft                    $1.0B\n",
       "2  Lump sum across all years                    $1.0B\n",
       "3                 Nationwide                   $12.0B\n",
       "4                   No Flags                   $33.0B"
      ]
     },
     "execution_count": 53,
     "metadata": {},
     "output_type": "execute_result"
    }
   ],
   "source": [
    "sum_df.reset_index()"
   ]
  },
  {
   "cell_type": "code",
   "execution_count": 54,
   "id": "d8dabe52-f8f3-4378-894e-7079ec1d77cb",
   "metadata": {},
   "outputs": [],
   "source": [
    "fed_state = df.groupby('federal_or_state_funded').agg({'funding_amount_available':'sum'})\n",
    "fed_state[\"funding_amount_available\"] = (\n",
    "    \"$\"\n",
    "    + (fed_state[\"funding_amount_available\"].astype(float) / 1000000000)\n",
    "    .round()\n",
    "    .astype(str)\n",
    "    + \"B\"\n",
    ")"
   ]
  },
  {
   "cell_type": "code",
   "execution_count": 55,
   "id": "d0a57066-9508-45e6-b45c-47db4d7debd2",
   "metadata": {},
   "outputs": [
    {
     "data": {
      "text/html": [
       "<div>\n",
       "<style scoped>\n",
       "    .dataframe tbody tr th:only-of-type {\n",
       "        vertical-align: middle;\n",
       "    }\n",
       "\n",
       "    .dataframe tbody tr th {\n",
       "        vertical-align: top;\n",
       "    }\n",
       "\n",
       "    .dataframe thead th {\n",
       "        text-align: right;\n",
       "    }\n",
       "</style>\n",
       "<table border=\"1\" class=\"dataframe\">\n",
       "  <thead>\n",
       "    <tr style=\"text-align: right;\">\n",
       "      <th></th>\n",
       "      <th>funding_amount_available</th>\n",
       "    </tr>\n",
       "    <tr>\n",
       "      <th>federal_or_state_funded</th>\n",
       "      <th></th>\n",
       "    </tr>\n",
       "  </thead>\n",
       "  <tbody>\n",
       "    <tr>\n",
       "      <th>Both</th>\n",
       "      <td>$6.0B</td>\n",
       "    </tr>\n",
       "    <tr>\n",
       "      <th>Federal</th>\n",
       "      <td>$43.0B</td>\n",
       "    </tr>\n",
       "    <tr>\n",
       "      <th>Missing</th>\n",
       "      <td>$0.0B</td>\n",
       "    </tr>\n",
       "    <tr>\n",
       "      <th>State</th>\n",
       "      <td>$3.0B</td>\n",
       "    </tr>\n",
       "  </tbody>\n",
       "</table>\n",
       "</div>"
      ],
      "text/plain": [
       "                        funding_amount_available\n",
       "federal_or_state_funded                         \n",
       "Both                                       $6.0B\n",
       "Federal                                   $43.0B\n",
       "Missing                                    $0.0B\n",
       "State                                      $3.0B"
      ]
     },
     "execution_count": 55,
     "metadata": {},
     "output_type": "execute_result"
    }
   ],
   "source": [
    "fed_state"
   ]
  },
  {
   "cell_type": "markdown",
   "id": "d563f734-b173-489d-a7f0-52b888509006",
   "metadata": {},
   "source": [
    "## How much 'competition' for grants?\n",
    "***\n",
    "* Count number of eligible applicants per grant. \n",
    "* Rough draft."
   ]
  },
  {
   "cell_type": "code",
   "execution_count": 56,
   "id": "f914a1d4-10fc-41ec-910f-3144df5b5f78",
   "metadata": {},
   "outputs": [],
   "source": [
    "#df[\"agency_eligibility\"]  = df[\"agency_eligibility\"].replace(r\"•\", \",\", regex= True).replace(r\"and\", \",\", regex= True)"
   ]
  },
  {
   "cell_type": "code",
   "execution_count": 57,
   "id": "0a94594d-bf44-4cc4-ad7b-43d2ec1c0a87",
   "metadata": {},
   "outputs": [],
   "source": [
    "df[\"agency_eligibility\"]  = df[\"agency_eligibility\"].replace(r\"(•|and|;)\", \",\", regex= True)"
   ]
  },
  {
   "cell_type": "code",
   "execution_count": 58,
   "id": "df47f5e9-165c-4848-ac8d-e1992c8bf43a",
   "metadata": {},
   "outputs": [],
   "source": [
    "df[\"total_eligible_applicants\"] = (\n",
    "    df[\"agency_eligibility\"]\n",
    "    .str.split(\",+\")\n",
    "    .str.len()\n",
    "    .groupby(df.grant_program)\n",
    "    .transform(\"sum\")\n",
    ")"
   ]
  },
  {
   "cell_type": "code",
   "execution_count": 59,
   "id": "745f2fdf-6b29-411c-8274-1decdb5eefcc",
   "metadata": {
    "tags": []
   },
   "outputs": [
    {
     "data": {
      "text/html": [
       "<div>\n",
       "<style scoped>\n",
       "    .dataframe tbody tr th:only-of-type {\n",
       "        vertical-align: middle;\n",
       "    }\n",
       "\n",
       "    .dataframe tbody tr th {\n",
       "        vertical-align: top;\n",
       "    }\n",
       "\n",
       "    .dataframe thead th {\n",
       "        text-align: right;\n",
       "    }\n",
       "</style>\n",
       "<table border=\"1\" class=\"dataframe\">\n",
       "  <thead>\n",
       "    <tr style=\"text-align: right;\">\n",
       "      <th></th>\n",
       "      <th>agency_eligibility</th>\n",
       "      <th>total_eligible_applicants</th>\n",
       "    </tr>\n",
       "  </thead>\n",
       "  <tbody>\n",
       "    <tr>\n",
       "      <th>8</th>\n",
       "      <td>Entities that operate fixed route bus service or that allocate funding to fixed route bus operators, , State or local governmental entities that operate fixed ro ute bus service that are eligible to receive direct grants under 5307 , 5311.</td>\n",
       "      <td>4</td>\n",
       "    </tr>\n",
       "    <tr>\n",
       "      <th>5</th>\n",
       "      <td>States or local government authorities, private non-profit organizations, or operators of public transportation that receive a grant indirectly through a recipient.</td>\n",
       "      <td>3</td>\n",
       "    </tr>\n",
       "    <tr>\n",
       "      <th>65</th>\n",
       "      <td>(A) A metropolitan planning organization, (B) a political subdivision of a\\r\\nState, (C) a federally recognized Tribal government, , (D) a multijurisdictional group\\r\\nof entities described in any of subparagraphs (A) through (C).</td>\n",
       "      <td>5</td>\n",
       "    </tr>\n",
       "  </tbody>\n",
       "</table>\n",
       "</div>"
      ],
      "text/plain": [
       "                                                                                                                                                                                                                                 agency_eligibility  \\\n",
       "8   Entities that operate fixed route bus service or that allocate funding to fixed route bus operators, , State or local governmental entities that operate fixed ro ute bus service that are eligible to receive direct grants under 5307 , 5311.   \n",
       "5                                                                              States or local government authorities, private non-profit organizations, or operators of public transportation that receive a grant indirectly through a recipient.   \n",
       "65           (A) A metropolitan planning organization, (B) a political subdivision of a\\r\\nState, (C) a federally recognized Tribal government, , (D) a multijurisdictional group\\r\\nof entities described in any of subparagraphs (A) through (C).   \n",
       "\n",
       "    total_eligible_applicants  \n",
       "8                           4  \n",
       "5                           3  \n",
       "65                          5  "
      ]
     },
     "execution_count": 59,
     "metadata": {},
     "output_type": "execute_result"
    }
   ],
   "source": [
    "df[['agency_eligibility','total_eligible_applicants']].sort_values('total_eligible_applicants').sample(3)"
   ]
  },
  {
   "cell_type": "code",
   "execution_count": 60,
   "id": "90a1ca3a-4464-419b-a0b2-f829090d1956",
   "metadata": {},
   "outputs": [
    {
     "data": {
      "text/plain": [
       "3     14\n",
       "1     14\n",
       "2     12\n",
       "4     10\n",
       "5      6\n",
       "8      5\n",
       "7      3\n",
       "11     3\n",
       "10     2\n",
       "9      2\n",
       "6      1\n",
       "16     1\n",
       "12     1\n",
       "22     1\n",
       "23     1\n",
       "Name: total_eligible_applicants, dtype: int64"
      ]
     },
     "execution_count": 60,
     "metadata": {},
     "output_type": "execute_result"
    }
   ],
   "source": [
    "df['total_eligible_applicants'].value_counts()"
   ]
  },
  {
   "cell_type": "code",
   "execution_count": 61,
   "id": "c717a042-85b0-436d-b1b3-bf245d39f9b8",
   "metadata": {},
   "outputs": [
    {
     "data": {
      "text/plain": [
       "3.0"
      ]
     },
     "execution_count": 61,
     "metadata": {},
     "output_type": "execute_result"
    }
   ],
   "source": [
    "df['total_eligible_applicants'].median()"
   ]
  },
  {
   "cell_type": "code",
   "execution_count": 62,
   "id": "e9fe47b9-d2a3-4ae7-9eaa-60024d783770",
   "metadata": {},
   "outputs": [
    {
     "data": {
      "text/plain": [
       "4.75"
      ]
     },
     "execution_count": 62,
     "metadata": {},
     "output_type": "execute_result"
    }
   ],
   "source": [
    "df['total_eligible_applicants'].mean()"
   ]
  }
 ],
 "metadata": {
  "kernelspec": {
   "display_name": "Python 3 (ipykernel)",
   "language": "python",
   "name": "python3"
  },
  "language_info": {
   "codemirror_mode": {
    "name": "ipython",
    "version": 3
   },
   "file_extension": ".py",
   "mimetype": "text/x-python",
   "name": "python",
   "nbconvert_exporter": "python",
   "pygments_lexer": "ipython3",
   "version": "3.10.4"
  }
 },
 "nbformat": 4,
 "nbformat_minor": 5
}
