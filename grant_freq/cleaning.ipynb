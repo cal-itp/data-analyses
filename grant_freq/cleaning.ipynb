{
 "cells": [
  {
   "cell_type": "markdown",
   "id": "581e214d-4637-4e33-9ccf-84c8f54c8eb3",
   "metadata": {},
   "source": [
    "# Grants Overview\n",
    "***\n",
    "* [Cleaning up and checking the data entered.](https://docs.google.com/spreadsheets/d/12pw6_2OSHKGksnLQlvwvo6P8VljzQ9pse7E9zGDSpg4/edit#gid=0)"
   ]
  },
  {
   "cell_type": "code",
   "execution_count": 1,
   "id": "f2c063c3-d86e-4028-88c7-5fb7baf70584",
   "metadata": {},
   "outputs": [
    {
     "name": "stderr",
     "output_type": "stream",
     "text": [
      "/opt/conda/lib/python3.10/site-packages/geopandas/_compat.py:111: UserWarning: The Shapely GEOS version (3.10.2-CAPI-1.16.0) is incompatible with the GEOS version PyGEOS was compiled with (3.10.1-CAPI-1.16.0). Conversions between both will be slow.\n",
      "  warnings.warn(\n"
     ]
    }
   ],
   "source": [
    "import pandas as pd\n",
    "import numpy as np\n",
    "from siuba import *\n",
    "from calitp import *\n",
    "import altair as alt\n",
    "import shared_utils \n",
    "from shared_utils import altair_utils\n",
    "from shared_utils import geography_utils\n",
    "from shared_utils import calitp_color_palette as cp\n",
    "from shared_utils import styleguide\n",
    "pd.options.display.max_columns = 100\n",
    "pd.options.display.max_rows = 100\n",
    "pd.set_option(\"display.max_colwidth\", None)\n",
    "from IPython.display import HTML, Image, Markdown, display, display_html"
   ]
  },
  {
   "cell_type": "code",
   "execution_count": 2,
   "id": "81bc7eb2-de23-4a16-9279-3690077c3595",
   "metadata": {},
   "outputs": [],
   "source": [
    "sheet_id = \"12pw6_2OSHKGksnLQlvwvo6P8VljzQ9pse7E9zGDSpg4\"\n",
    "sheet_name = \"current_grants\"\n",
    "url = f\"https://docs.google.com/spreadsheets/d/{sheet_id}/gviz/tq?tqx=out:csv&sheet={sheet_name}\"\n",
    "df = to_snakecase(pd.read_csv(url)) "
   ]
  },
  {
   "cell_type": "code",
   "execution_count": 3,
   "id": "0cac35d7-dc45-49fc-b5b4-aa68051f8194",
   "metadata": {},
   "outputs": [],
   "source": [
    "#Delete unnecessary columns\n",
    "df = df.iloc[:,1:26]"
   ]
  },
  {
   "cell_type": "code",
   "execution_count": 4,
   "id": "7055fff6-eebd-4970-a6b6-c56a575270e2",
   "metadata": {},
   "outputs": [],
   "source": [
    "#Fill in missing values for eligiblity that are null with 0 \n",
    "eligiblity = ['eligibility:_transit',\n",
    "       'eligibility:_municipality', 'eligibility:_school_district',\n",
    "       'eligibility:_mpo', 'eligibility:_county_regional_govt__not_mpo',\n",
    "       'eligibility:_other_local_entity__non_municipality_',\n",
    "       'eligibility:_state_public_lands', 'eligibility:_federal_public_lands',\n",
    "       'eligibility:_tribal_government', 'eligibility:_non_profit',\n",
    "       'eligibility:_state_department_', 'eligibility:_for_profit_companies'] "
   ]
  },
  {
   "cell_type": "code",
   "execution_count": 5,
   "id": "27381411-78ea-4160-8e64-03252fdc316a",
   "metadata": {},
   "outputs": [],
   "source": [
    "df[eligiblity] = df[eligiblity].fillna(0)"
   ]
  },
  {
   "cell_type": "code",
   "execution_count": 6,
   "id": "7d1e5baf-521e-4f93-a8d1-5853c34bc081",
   "metadata": {},
   "outputs": [
    {
     "data": {
      "text/plain": [
       "75"
      ]
     },
     "execution_count": 6,
     "metadata": {},
     "output_type": "execute_result"
    }
   ],
   "source": [
    "df['grant_program'].nunique()"
   ]
  },
  {
   "cell_type": "markdown",
   "id": "7f63b1eb-0973-47b6-a1ab-2ed215dd7397",
   "metadata": {},
   "source": [
    "## Looking at value counts to ensure the entered data makes sense\n",
    "***"
   ]
  },
  {
   "cell_type": "code",
   "execution_count": 61,
   "id": "d9ffde0e-d2b2-495b-8f62-7d3f81af17ec",
   "metadata": {},
   "outputs": [],
   "source": [
    "value_count_cols = ['division', \n",
    "       'weeks_to_apply__c_d_', 'fy_cycle','grant_type', 'federal_or_state_funded','funding_amount_flags', 'notice_of_funding']"
   ]
  },
  {
   "cell_type": "code",
   "execution_count": 62,
   "id": "97a10ce4-ae86-4233-84dd-4818413eb59a",
   "metadata": {},
   "outputs": [
    {
     "name": "stdout",
     "output_type": "stream",
     "text": [
      "\n",
      "division\n",
      "Federal Transit Administration (DOT)     18\n",
      "Federal Highway Administration (DOT)     17\n",
      "DLA                                      13\n",
      "SB1                                       8\n",
      "DRMT                                      8\n",
      "Office of the Secretary (DOT)             6\n",
      "SB1/DLA                                   2\n",
      "Caltrans - Unknown Division               1\n",
      "Clean CA                                  1\n",
      "DLA                                       1\n",
      "Federal Railroad Administration (DOT)     1\n",
      "Name: division, dtype: int64\n",
      "\n",
      "weeks_to_apply__c_d_\n",
      "Missing    49\n",
      "9           5\n",
      "8           4\n",
      "13          4\n",
      "15          3\n",
      "4           3\n",
      "7           1\n",
      "10          1\n",
      "18          1\n",
      "24          1\n",
      "12          1\n",
      "17          1\n",
      "11          1\n",
      "14          1\n",
      "Name: weeks_to_apply__c_d_, dtype: int64\n",
      "\n",
      "fy_cycle\n",
      "1 Year                                                                                                                                      22\n",
      "Available until expended                                                                                                                     7\n",
      "2 Years                                                                                                                                      6\n",
      "Period of Availability: 4 year                                                                                                               5\n",
      "Period of Availability: 4 year\\r                                                                                                             4\n",
      "Missing                                                                                                                                      4\n",
      "Year of Apportionment plus three years                                                                                                       3\n",
      "2 Year                                                                                                                                       2\n",
      "4 year                                                                                                                                       2\n",
      "Year of allocation plus two years                                                                                                            2\n",
      "Available until expended\\r                                                                                                                   2\n",
      "Single                                                                                                                                       2\n",
      "1 Year/Until Expended                                                                                                                        2\n",
      "Year of Apportionment plus two years\\r                                                                                                       2\n",
      "Year of Allocation plus five years\\r                                                                                                         1\n",
      "To be determined                                                                                                                             1\n",
      "5 Years                                                                                                                                      1\n",
      "TBD                                                                                                                                          1\n",
      "2 Years (sometimes 1)                                                                                                                        1\n",
      "3 Years                                                                                                                                      1\n",
      "Rolling                                                                                                                                      1\n",
      "1 Year (varies)                                                                                                                              1\n",
      "1 Year (3 cycles total)                                                                                                                      1\n",
      "Single (then additional)                                                                                                                     1\n",
      "Section 5310 funds are available to the states during the fiscal year of apportionment plus two additional years (total of three years).     1\n",
      "Name: fy_cycle, dtype: int64\n",
      "\n",
      "grant_type\n",
      "Competitive                                                    42\n",
      "Formula                                                         9\n",
      "Competitive                                                     6\n",
      "Grant                                                           4\n",
      "Both                                                            3\n",
      "Missing                                                         3\n",
      "Cooperative Agreement or Interagency Agreemen                   2\n",
      "First Come First Serve Basis                                    1\n",
      "Discretionary                                                   1\n",
      "Loan                                                            1\n",
      "Competitive Grants, Cooperative Agreements, other contracts     1\n",
      "Cooperative Agreement, Contract, Competitive grant\\r            1\n",
      "Distributed through the Tribal Transportation Program           1\n",
      "Grants, Cooperative Agreements, other contracts\\r               1\n",
      "Name: grant_type, dtype: int64\n",
      "\n",
      "federal_or_state_funded\n",
      "Federal    59\n",
      "State      12\n",
      "Both        4\n",
      "Missing     1\n",
      "Name: federal_or_state_funded, dtype: int64\n",
      "\n",
      "funding_amount_flags\n",
      "No Flags                     65\n",
      "Nationwide                    6\n",
      "Conflicting Amounts           2\n",
      "Lump sum across all years     2\n",
      "Draft                         1\n",
      "Name: funding_amount_flags, dtype: int64\n",
      "\n",
      "notice_of_funding\n",
      "Missing                                                              23\n",
      "TBD                                                                   7\n",
      "2nd Quarter of 2022                                                   4\n",
      "March 1, 2022                                                         3\n",
      "August 17, 2022                                                       3\n",
      "1st Quarter of 2022                                                   2\n",
      "February 1, 2022                                                      2\n",
      "March 16, 2022                                                        2\n",
      "September 1, 2022                                                     2\n",
      "February 1, 2016                                                      2\n",
      "Formula funds are apportioned after appropriations are received.      2\n",
      "June 7, 2022                                                          1\n",
      "March 22, 2022                                                        1\n",
      "August 23, 2021                                                       1\n",
      "September 15, 2022                                                    1\n",
      "May 26, 2022                                                          1\n",
      "August 1, 2021                                                        1\n",
      " Non-expiring, available until expended\\r                             1\n",
      "April 12, 2022                                                        1\n",
      "November 12, 2021                                                     1\n",
      "January 28, 2022                                                      1\n",
      "Oct 20, 2021                                                          1\n",
      "June 1, 2022                                                          1\n",
      "June 10, 2022                                                         1\n",
      "December 1, 2021                                                      1\n",
      "Missing                                                               1\n",
      "December 8, 2020                                                      1\n",
      "January 15, 2021                                                      1\n",
      "Rolling                                                               1\n",
      "May 9, 2022                                                           1\n",
      "December 1, 2020                                                      1\n",
      "July 1, 2022                                                          1\n",
      "January 3, 2022                                                       1\n",
      "November 19, 2021                                                     1\n",
      "February 16, 2022                                                     1\n",
      "Name: notice_of_funding, dtype: int64\n"
     ]
    }
   ],
   "source": [
    "#https://stackoverflow.com/questions/32589829/how-to-get-value-counts-for-multiple-columns-at-once-in-pandas-dataframe\n",
    "for column in df[value_count_cols]:\n",
    "     print(\"\\n\" + column)\n",
    "     print(df[column].value_counts())"
   ]
  },
  {
   "cell_type": "markdown",
   "id": "f939f4df-7dc1-42c8-8809-5da149a8c452",
   "metadata": {},
   "source": [
    "## Analyze how many grants x entity\n",
    "***"
   ]
  },
  {
   "cell_type": "code",
   "execution_count": 12,
   "id": "8df1c7f6-5e65-451b-aa04-673aed954c51",
   "metadata": {},
   "outputs": [],
   "source": [
    "eligibility = df[eligiblity].sum().sort_values().to_frame().reset_index().rename(columns = {'index':'Entity',0:'# of Grants'}).replace(r\"_\", \" \", regex=True)"
   ]
  },
  {
   "cell_type": "code",
   "execution_count": 13,
   "id": "0d6c9778-7c98-4640-aaf0-b32179a02a5f",
   "metadata": {},
   "outputs": [],
   "source": [
    "eligibility['Entity'] = eligibility['Entity'].replace(r\"eligibility:\", \"\", regex= True).str.title()"
   ]
  },
  {
   "cell_type": "code",
   "execution_count": 14,
   "id": "8b77bf33-9d0c-4a96-ade5-fca00914b375",
   "metadata": {},
   "outputs": [
    {
     "data": {
      "text/html": [
       "<style type=\"text/css\">\n",
       "#T_cbb49 th {\n",
       "  text-align: center;\n",
       "}\n",
       "#T_cbb49_row0_col0, #T_cbb49_row0_col1, #T_cbb49_row1_col0, #T_cbb49_row1_col1, #T_cbb49_row2_col0, #T_cbb49_row2_col1, #T_cbb49_row3_col0, #T_cbb49_row3_col1, #T_cbb49_row4_col0, #T_cbb49_row4_col1, #T_cbb49_row5_col0, #T_cbb49_row5_col1, #T_cbb49_row6_col0, #T_cbb49_row6_col1, #T_cbb49_row7_col0, #T_cbb49_row7_col1, #T_cbb49_row8_col0, #T_cbb49_row8_col1, #T_cbb49_row9_col0, #T_cbb49_row9_col1, #T_cbb49_row10_col0, #T_cbb49_row10_col1, #T_cbb49_row11_col0, #T_cbb49_row11_col1 {\n",
       "  background-color: white;\n",
       "  text-align: center;\n",
       "}\n",
       "</style>\n",
       "<table id=\"T_cbb49\">\n",
       "  <thead>\n",
       "    <tr>\n",
       "      <th id=\"T_cbb49_level0_col0\" class=\"col_heading level0 col0\" >Entity</th>\n",
       "      <th id=\"T_cbb49_level0_col1\" class=\"col_heading level0 col1\" ># of Grants</th>\n",
       "    </tr>\n",
       "  </thead>\n",
       "  <tbody>\n",
       "    <tr>\n",
       "      <td id=\"T_cbb49_row0_col0\" class=\"data row0 col0\" > For Profit Companies</td>\n",
       "      <td id=\"T_cbb49_row0_col1\" class=\"data row0 col1\" >2.000000</td>\n",
       "    </tr>\n",
       "    <tr>\n",
       "      <td id=\"T_cbb49_row1_col0\" class=\"data row1 col0\" > School District</td>\n",
       "      <td id=\"T_cbb49_row1_col1\" class=\"data row1 col1\" >3.000000</td>\n",
       "    </tr>\n",
       "    <tr>\n",
       "      <td id=\"T_cbb49_row2_col0\" class=\"data row2 col0\" > Federal Public Lands</td>\n",
       "      <td id=\"T_cbb49_row2_col1\" class=\"data row2 col1\" >4.000000</td>\n",
       "    </tr>\n",
       "    <tr>\n",
       "      <td id=\"T_cbb49_row3_col0\" class=\"data row3 col0\" > State Public Lands</td>\n",
       "      <td id=\"T_cbb49_row3_col1\" class=\"data row3 col1\" >6.000000</td>\n",
       "    </tr>\n",
       "    <tr>\n",
       "      <td id=\"T_cbb49_row4_col0\" class=\"data row4 col0\" > Non Profit</td>\n",
       "      <td id=\"T_cbb49_row4_col1\" class=\"data row4 col1\" >14.000000</td>\n",
       "    </tr>\n",
       "    <tr>\n",
       "      <td id=\"T_cbb49_row5_col0\" class=\"data row5 col0\" > Transit</td>\n",
       "      <td id=\"T_cbb49_row5_col1\" class=\"data row5 col1\" >20.000000</td>\n",
       "    </tr>\n",
       "    <tr>\n",
       "      <td id=\"T_cbb49_row6_col0\" class=\"data row6 col0\" > Other Local Entity  Non Municipality </td>\n",
       "      <td id=\"T_cbb49_row6_col1\" class=\"data row6 col1\" >23.000000</td>\n",
       "    </tr>\n",
       "    <tr>\n",
       "      <td id=\"T_cbb49_row7_col0\" class=\"data row7 col0\" > Mpo</td>\n",
       "      <td id=\"T_cbb49_row7_col1\" class=\"data row7 col1\" >32.000000</td>\n",
       "    </tr>\n",
       "    <tr>\n",
       "      <td id=\"T_cbb49_row8_col0\" class=\"data row8 col0\" > Municipality</td>\n",
       "      <td id=\"T_cbb49_row8_col1\" class=\"data row8 col1\" >37.000000</td>\n",
       "    </tr>\n",
       "    <tr>\n",
       "      <td id=\"T_cbb49_row9_col0\" class=\"data row9 col0\" > State Department </td>\n",
       "      <td id=\"T_cbb49_row9_col1\" class=\"data row9 col1\" >38.000000</td>\n",
       "    </tr>\n",
       "    <tr>\n",
       "      <td id=\"T_cbb49_row10_col0\" class=\"data row10 col0\" > Tribal Government</td>\n",
       "      <td id=\"T_cbb49_row10_col1\" class=\"data row10 col1\" >41.000000</td>\n",
       "    </tr>\n",
       "    <tr>\n",
       "      <td id=\"T_cbb49_row11_col0\" class=\"data row11 col0\" > County Regional Govt  Not Mpo</td>\n",
       "      <td id=\"T_cbb49_row11_col1\" class=\"data row11 col1\" >44.000000</td>\n",
       "    </tr>\n",
       "  </tbody>\n",
       "</table>\n"
      ],
      "text/plain": [
       "<pandas.io.formats.style.Styler at 0x7f054d8e18a0>"
      ]
     },
     "execution_count": 14,
     "metadata": {},
     "output_type": "execute_result"
    }
   ],
   "source": [
    "eligibility.style.hide(axis=\"index\").set_properties(**{\"background-color\": \"white\"}).set_table_styles([dict(selector=\"th\", props=[(\"text-align\", \"center\")])]\n",
    ").set_properties(**{\"text-align\": \"center\"})"
   ]
  },
  {
   "cell_type": "markdown",
   "id": "aa1bb3e7-7311-4349-b2f7-de4230b6d465",
   "metadata": {},
   "source": [
    "## Sums\n",
    "***"
   ]
  },
  {
   "cell_type": "code",
   "execution_count": 15,
   "id": "a712c01d-0abc-4c4c-bb37-dd06f1dbbc1a",
   "metadata": {},
   "outputs": [
    {
     "data": {
      "text/plain": [
       "52515005298"
      ]
     },
     "execution_count": 15,
     "metadata": {},
     "output_type": "execute_result"
    }
   ],
   "source": [
    "df['funding_amount_available'].sum()"
   ]
  },
  {
   "cell_type": "code",
   "execution_count": 36,
   "id": "5341ff13-95f7-446c-a55f-f35d0185c930",
   "metadata": {},
   "outputs": [],
   "source": [
    "sum_df = df.groupby(['funding_amount_flags', 'division']).agg({'funding_amount_available':'sum'})"
   ]
  },
  {
   "cell_type": "code",
   "execution_count": 37,
   "id": "9b2f0380-8532-49a2-abd0-a110977af5a3",
   "metadata": {},
   "outputs": [],
   "source": [
    "sum_df[\"funding_amount_available\"] = (\n",
    "    \"$\"\n",
    "    + (sum_df[\"funding_amount_available\"].astype(float) / 1000000000)\n",
    "    .round()\n",
    "    .astype(str)\n",
    "    + \"B\"\n",
    ")"
   ]
  },
  {
   "cell_type": "code",
   "execution_count": 38,
   "id": "b5363dca-d669-4a06-b1d2-3d8f72f5d8fd",
   "metadata": {},
   "outputs": [
    {
     "data": {
      "text/html": [
       "<div>\n",
       "<style scoped>\n",
       "    .dataframe tbody tr th:only-of-type {\n",
       "        vertical-align: middle;\n",
       "    }\n",
       "\n",
       "    .dataframe tbody tr th {\n",
       "        vertical-align: top;\n",
       "    }\n",
       "\n",
       "    .dataframe thead th {\n",
       "        text-align: right;\n",
       "    }\n",
       "</style>\n",
       "<table border=\"1\" class=\"dataframe\">\n",
       "  <thead>\n",
       "    <tr style=\"text-align: right;\">\n",
       "      <th></th>\n",
       "      <th>funding_amount_flags</th>\n",
       "      <th>division</th>\n",
       "      <th>funding_amount_available</th>\n",
       "    </tr>\n",
       "  </thead>\n",
       "  <tbody>\n",
       "    <tr>\n",
       "      <th>0</th>\n",
       "      <td>Conflicting Amounts</td>\n",
       "      <td>SB1</td>\n",
       "      <td>$6.0B</td>\n",
       "    </tr>\n",
       "    <tr>\n",
       "      <th>1</th>\n",
       "      <td>Draft</td>\n",
       "      <td>SB1</td>\n",
       "      <td>$1.0B</td>\n",
       "    </tr>\n",
       "    <tr>\n",
       "      <th>2</th>\n",
       "      <td>Lump sum across all years</td>\n",
       "      <td>Federal Highway Administration (DOT)</td>\n",
       "      <td>$1.0B</td>\n",
       "    </tr>\n",
       "    <tr>\n",
       "      <th>3</th>\n",
       "      <td>Lump sum across all years</td>\n",
       "      <td>Federal Transit Administration (DOT)</td>\n",
       "      <td>$0.0B</td>\n",
       "    </tr>\n",
       "    <tr>\n",
       "      <th>4</th>\n",
       "      <td>Nationwide</td>\n",
       "      <td>Caltrans - Unknown Division</td>\n",
       "      <td>$2.0B</td>\n",
       "    </tr>\n",
       "    <tr>\n",
       "      <th>5</th>\n",
       "      <td>Nationwide</td>\n",
       "      <td>DRMT</td>\n",
       "      <td>$10.0B</td>\n",
       "    </tr>\n",
       "    <tr>\n",
       "      <th>6</th>\n",
       "      <td>No Flags</td>\n",
       "      <td>Clean CA</td>\n",
       "      <td>$0.0B</td>\n",
       "    </tr>\n",
       "    <tr>\n",
       "      <th>7</th>\n",
       "      <td>No Flags</td>\n",
       "      <td>DLA</td>\n",
       "      <td>$1.0B</td>\n",
       "    </tr>\n",
       "    <tr>\n",
       "      <th>8</th>\n",
       "      <td>No Flags</td>\n",
       "      <td>DLA</td>\n",
       "      <td>$0.0B</td>\n",
       "    </tr>\n",
       "    <tr>\n",
       "      <th>9</th>\n",
       "      <td>No Flags</td>\n",
       "      <td>DRMT</td>\n",
       "      <td>$1.0B</td>\n",
       "    </tr>\n",
       "    <tr>\n",
       "      <th>10</th>\n",
       "      <td>No Flags</td>\n",
       "      <td>Federal Highway Administration (DOT)</td>\n",
       "      <td>$6.0B</td>\n",
       "    </tr>\n",
       "    <tr>\n",
       "      <th>11</th>\n",
       "      <td>No Flags</td>\n",
       "      <td>Federal Railroad Administration (DOT)</td>\n",
       "      <td>$1.0B</td>\n",
       "    </tr>\n",
       "    <tr>\n",
       "      <th>12</th>\n",
       "      <td>No Flags</td>\n",
       "      <td>Federal Transit Administration (DOT)</td>\n",
       "      <td>$9.0B</td>\n",
       "    </tr>\n",
       "    <tr>\n",
       "      <th>13</th>\n",
       "      <td>No Flags</td>\n",
       "      <td>Office of the Secretary (DOT)</td>\n",
       "      <td>$12.0B</td>\n",
       "    </tr>\n",
       "    <tr>\n",
       "      <th>14</th>\n",
       "      <td>No Flags</td>\n",
       "      <td>SB1</td>\n",
       "      <td>$1.0B</td>\n",
       "    </tr>\n",
       "    <tr>\n",
       "      <th>15</th>\n",
       "      <td>No Flags</td>\n",
       "      <td>SB1/DLA</td>\n",
       "      <td>$1.0B</td>\n",
       "    </tr>\n",
       "  </tbody>\n",
       "</table>\n",
       "</div>"
      ],
      "text/plain": [
       "         funding_amount_flags                               division  \\\n",
       "0         Conflicting Amounts                                    SB1   \n",
       "1                       Draft                                    SB1   \n",
       "2   Lump sum across all years   Federal Highway Administration (DOT)   \n",
       "3   Lump sum across all years   Federal Transit Administration (DOT)   \n",
       "4                  Nationwide            Caltrans - Unknown Division   \n",
       "5                  Nationwide                                   DRMT   \n",
       "6                    No Flags                               Clean CA   \n",
       "7                    No Flags                                    DLA   \n",
       "8                    No Flags                                   DLA    \n",
       "9                    No Flags                                   DRMT   \n",
       "10                   No Flags   Federal Highway Administration (DOT)   \n",
       "11                   No Flags  Federal Railroad Administration (DOT)   \n",
       "12                   No Flags   Federal Transit Administration (DOT)   \n",
       "13                   No Flags          Office of the Secretary (DOT)   \n",
       "14                   No Flags                                    SB1   \n",
       "15                   No Flags                                SB1/DLA   \n",
       "\n",
       "   funding_amount_available  \n",
       "0                     $6.0B  \n",
       "1                     $1.0B  \n",
       "2                     $1.0B  \n",
       "3                     $0.0B  \n",
       "4                     $2.0B  \n",
       "5                    $10.0B  \n",
       "6                     $0.0B  \n",
       "7                     $1.0B  \n",
       "8                     $0.0B  \n",
       "9                     $1.0B  \n",
       "10                    $6.0B  \n",
       "11                    $1.0B  \n",
       "12                    $9.0B  \n",
       "13                   $12.0B  \n",
       "14                    $1.0B  \n",
       "15                    $1.0B  "
      ]
     },
     "execution_count": 38,
     "metadata": {},
     "output_type": "execute_result"
    }
   ],
   "source": [
    "sum_df.reset_index()"
   ]
  },
  {
   "cell_type": "code",
   "execution_count": 39,
   "id": "d8dabe52-f8f3-4378-894e-7079ec1d77cb",
   "metadata": {},
   "outputs": [],
   "source": [
    "fed_state = df.groupby('federal_or_state_funded').agg({'funding_amount_available':'sum'})\n",
    "fed_state[\"funding_amount_available\"] = (\n",
    "    \"$\"\n",
    "    + (fed_state[\"funding_amount_available\"].astype(float) / 1000000000)\n",
    "    .round()\n",
    "    .astype(str)\n",
    "    + \"B\"\n",
    ")"
   ]
  },
  {
   "cell_type": "code",
   "execution_count": 40,
   "id": "d0a57066-9508-45e6-b45c-47db4d7debd2",
   "metadata": {},
   "outputs": [
    {
     "data": {
      "text/html": [
       "<div>\n",
       "<style scoped>\n",
       "    .dataframe tbody tr th:only-of-type {\n",
       "        vertical-align: middle;\n",
       "    }\n",
       "\n",
       "    .dataframe tbody tr th {\n",
       "        vertical-align: top;\n",
       "    }\n",
       "\n",
       "    .dataframe thead th {\n",
       "        text-align: right;\n",
       "    }\n",
       "</style>\n",
       "<table border=\"1\" class=\"dataframe\">\n",
       "  <thead>\n",
       "    <tr style=\"text-align: right;\">\n",
       "      <th></th>\n",
       "      <th>funding_amount_available</th>\n",
       "    </tr>\n",
       "    <tr>\n",
       "      <th>federal_or_state_funded</th>\n",
       "      <th></th>\n",
       "    </tr>\n",
       "  </thead>\n",
       "  <tbody>\n",
       "    <tr>\n",
       "      <th>Both</th>\n",
       "      <td>$6.0B</td>\n",
       "    </tr>\n",
       "    <tr>\n",
       "      <th>Federal</th>\n",
       "      <td>$43.0B</td>\n",
       "    </tr>\n",
       "    <tr>\n",
       "      <th>Missing</th>\n",
       "      <td>$0.0B</td>\n",
       "    </tr>\n",
       "    <tr>\n",
       "      <th>State</th>\n",
       "      <td>$3.0B</td>\n",
       "    </tr>\n",
       "  </tbody>\n",
       "</table>\n",
       "</div>"
      ],
      "text/plain": [
       "                        funding_amount_available\n",
       "federal_or_state_funded                         \n",
       "Both                                       $6.0B\n",
       "Federal                                   $43.0B\n",
       "Missing                                    $0.0B\n",
       "State                                      $3.0B"
      ]
     },
     "execution_count": 40,
     "metadata": {},
     "output_type": "execute_result"
    }
   ],
   "source": [
    "fed_state"
   ]
  },
  {
   "cell_type": "markdown",
   "id": "d563f734-b173-489d-a7f0-52b888509006",
   "metadata": {},
   "source": [
    "## How much 'competition' for grants?\n",
    "***\n",
    "* Count number of eligible applicants per grant. \n"
   ]
  },
  {
   "cell_type": "code",
   "execution_count": 41,
   "id": "fdb80bd6-bb8c-4857-8e39-c76e67323f78",
   "metadata": {},
   "outputs": [],
   "source": [
    "#Subset dataframe \n",
    "df_elgibility = df[['grant_program', 'eligibility:_transit',\n",
    "       'eligibility:_municipality', 'eligibility:_school_district',\n",
    "       'eligibility:_mpo', 'eligibility:_county_regional_govt__not_mpo',\n",
    "       'eligibility:_other_local_entity__non_municipality_',\n",
    "       'eligibility:_state_public_lands', 'eligibility:_federal_public_lands',\n",
    "       'eligibility:_tribal_government', 'eligibility:_non_profit',\n",
    "       'eligibility:_state_department_', 'eligibility:_for_profit_companies']]"
   ]
  },
  {
   "cell_type": "code",
   "execution_count": 42,
   "id": "1a5be763-e74e-46ae-a851-dad465dc1a68",
   "metadata": {
    "tags": []
   },
   "outputs": [
    {
     "name": "stderr",
     "output_type": "stream",
     "text": [
      "/tmp/ipykernel_2287/324345935.py:2: SettingWithCopyWarning: \n",
      "A value is trying to be set on a copy of a slice from a DataFrame.\n",
      "Try using .loc[row_indexer,col_indexer] = value instead\n",
      "\n",
      "See the caveats in the documentation: https://pandas.pydata.org/pandas-docs/stable/user_guide/indexing.html#returning-a-view-versus-a-copy\n"
     ]
    }
   ],
   "source": [
    "#Sum up eligibility \n",
    "df_elgibility['total_eligible_applicants'] = df_elgibility.iloc[:, 1:13].sum(axis=1)\n",
    "\n",
    "#Drop old columns to simplify dataframe\n",
    "df_elgibility = df_elgibility[['grant_program','total_eligible_applicants']] "
   ]
  },
  {
   "cell_type": "code",
   "execution_count": 52,
   "id": "36add810-ccf9-4280-8fd4-5af65af580ac",
   "metadata": {
    "tags": []
   },
   "outputs": [
    {
     "data": {
      "text/html": [
       "<div>\n",
       "<style scoped>\n",
       "    .dataframe tbody tr th:only-of-type {\n",
       "        vertical-align: middle;\n",
       "    }\n",
       "\n",
       "    .dataframe tbody tr th {\n",
       "        vertical-align: top;\n",
       "    }\n",
       "\n",
       "    .dataframe thead th {\n",
       "        text-align: right;\n",
       "    }\n",
       "</style>\n",
       "<table border=\"1\" class=\"dataframe\">\n",
       "  <thead>\n",
       "    <tr style=\"text-align: right;\">\n",
       "      <th></th>\n",
       "      <th>grant_program</th>\n",
       "      <th>total_eligible_applicants</th>\n",
       "    </tr>\n",
       "  </thead>\n",
       "  <tbody>\n",
       "    <tr>\n",
       "      <th>45</th>\n",
       "      <td>Tribal Transportation Program</td>\n",
       "      <td>1.0</td>\n",
       "    </tr>\n",
       "    <tr>\n",
       "      <th>39</th>\n",
       "      <td>All Stations Accessibility Program</td>\n",
       "      <td>2.0</td>\n",
       "    </tr>\n",
       "    <tr>\n",
       "      <th>53</th>\n",
       "      <td>Bus and Bus Facilities Competitive Grants</td>\n",
       "      <td>5.0</td>\n",
       "    </tr>\n",
       "  </tbody>\n",
       "</table>\n",
       "</div>"
      ],
      "text/plain": [
       "                                grant_program  total_eligible_applicants\n",
       "45              Tribal Transportation Program                        1.0\n",
       "39         All Stations Accessibility Program                        2.0\n",
       "53  Bus and Bus Facilities Competitive Grants                        5.0"
      ]
     },
     "execution_count": 52,
     "metadata": {},
     "output_type": "execute_result"
    }
   ],
   "source": [
    "df_elgibility.sample(3)"
   ]
  },
  {
   "cell_type": "code",
   "execution_count": 44,
   "id": "2ed89105-0694-4e35-bb22-5ea096fcf7d9",
   "metadata": {},
   "outputs": [
    {
     "data": {
      "text/plain": [
       "1.0     17\n",
       "5.0     16\n",
       "2.0     13\n",
       "4.0      8\n",
       "3.0      8\n",
       "6.0      5\n",
       "8.0      3\n",
       "0.0      3\n",
       "10.0     2\n",
       "11.0     1\n",
       "Name: total_eligible_applicants, dtype: int64"
      ]
     },
     "execution_count": 44,
     "metadata": {},
     "output_type": "execute_result"
    }
   ],
   "source": [
    "df_elgibility['total_eligible_applicants'].value_counts()"
   ]
  },
  {
   "cell_type": "code",
   "execution_count": 45,
   "id": "22f37c6b-93a5-40fa-b46a-90efa8281033",
   "metadata": {},
   "outputs": [
    {
     "data": {
      "text/plain": [
       "3.0"
      ]
     },
     "execution_count": 45,
     "metadata": {},
     "output_type": "execute_result"
    }
   ],
   "source": [
    "df_elgibility['total_eligible_applicants'].median()"
   ]
  },
  {
   "cell_type": "markdown",
   "id": "93dabd92-8d71-433b-92c4-57fbc24f819d",
   "metadata": {},
   "source": [
    "## NOFO and Due Dates\n"
   ]
  },
  {
   "cell_type": "code",
   "execution_count": 46,
   "id": "824db3a0-94cf-4f40-8004-5640f7704f47",
   "metadata": {},
   "outputs": [],
   "source": [
    "populated_dates = df[(df['notice_of_funding'] != 'Missing') & (df['fy_due_date'] != 'Missing') & (df['fy_due_date'] != 'Rolling')]\n"
   ]
  },
  {
   "cell_type": "code",
   "execution_count": 47,
   "id": "282020a0-cf19-4c12-82b7-4174756bf5d8",
   "metadata": {},
   "outputs": [
    {
     "data": {
      "text/plain": [
       "'Only 27 or  0.35526315789473684  rows have a complete date information'"
      ]
     },
     "execution_count": 47,
     "metadata": {},
     "output_type": "execute_result"
    }
   ],
   "source": [
    "f'Only {len(populated_dates)} or  {(len(populated_dates)/len(df))}  rows have a complete date information' "
   ]
  },
  {
   "cell_type": "code",
   "execution_count": 48,
   "id": "8118dc64-2d78-491c-ad74-b30fb4923727",
   "metadata": {
    "scrolled": true,
    "tags": []
   },
   "outputs": [],
   "source": [
    "populated_dates = populated_dates[['division', 'grant_program', 'notice_of_funding', 'fy_due_date',\n",
    "       'weeks_to_apply__c_d_']]"
   ]
  },
  {
   "cell_type": "code",
   "execution_count": 49,
   "id": "6d9e18e2-7775-47c9-b10d-a2d84414b273",
   "metadata": {
    "scrolled": true,
    "tags": []
   },
   "outputs": [
    {
     "data": {
      "text/html": [
       "<div>\n",
       "<style scoped>\n",
       "    .dataframe tbody tr th:only-of-type {\n",
       "        vertical-align: middle;\n",
       "    }\n",
       "\n",
       "    .dataframe tbody tr th {\n",
       "        vertical-align: top;\n",
       "    }\n",
       "\n",
       "    .dataframe thead th {\n",
       "        text-align: right;\n",
       "    }\n",
       "</style>\n",
       "<table border=\"1\" class=\"dataframe\">\n",
       "  <thead>\n",
       "    <tr style=\"text-align: right;\">\n",
       "      <th></th>\n",
       "      <th>division</th>\n",
       "      <th>grant_program</th>\n",
       "      <th>notice_of_funding</th>\n",
       "      <th>fy_due_date</th>\n",
       "      <th>weeks_to_apply__c_d_</th>\n",
       "    </tr>\n",
       "  </thead>\n",
       "  <tbody>\n",
       "    <tr>\n",
       "      <th>18</th>\n",
       "      <td>SB1</td>\n",
       "      <td>Caltrans Sustainable Transportation Planning: Strategic Partnership &amp; Strategic Partnership -Transit</td>\n",
       "      <td>December 1, 2020</td>\n",
       "      <td>February 12, 2021</td>\n",
       "      <td>10</td>\n",
       "    </tr>\n",
       "    <tr>\n",
       "      <th>43</th>\n",
       "      <td>Office of the Secretary (DOT)</td>\n",
       "      <td>Local and Regional Project Assistance Grants (RAISE)</td>\n",
       "      <td>January 28, 2022</td>\n",
       "      <td>April 14, 2022</td>\n",
       "      <td>11</td>\n",
       "    </tr>\n",
       "    <tr>\n",
       "      <th>34</th>\n",
       "      <td>Federal Highway Administration (DOT)</td>\n",
       "      <td>Nationally Significant Federal Lands and Tribal Project Program</td>\n",
       "      <td>Oct 20, 2021</td>\n",
       "      <td>January 9, 2022</td>\n",
       "      <td>12</td>\n",
       "    </tr>\n",
       "    <tr>\n",
       "      <th>35</th>\n",
       "      <td>Federal Highway Administration (DOT)</td>\n",
       "      <td>Bridge Investment Program</td>\n",
       "      <td>June 10, 2022</td>\n",
       "      <td>September 8, 2022</td>\n",
       "      <td>13</td>\n",
       "    </tr>\n",
       "    <tr>\n",
       "      <th>22</th>\n",
       "      <td>DLA</td>\n",
       "      <td>Safe Route To School Program (SRTS)</td>\n",
       "      <td>March 16, 2022</td>\n",
       "      <td>June 15, 2022</td>\n",
       "      <td>13</td>\n",
       "    </tr>\n",
       "    <tr>\n",
       "      <th>15</th>\n",
       "      <td>SB1/DLA</td>\n",
       "      <td>Active Transportation Program</td>\n",
       "      <td>March 16, 2022</td>\n",
       "      <td>June 15, 2022</td>\n",
       "      <td>13</td>\n",
       "    </tr>\n",
       "    <tr>\n",
       "      <th>12</th>\n",
       "      <td>SB1</td>\n",
       "      <td>Trade Corridor Enhancement Program</td>\n",
       "      <td>August 17, 2022</td>\n",
       "      <td>November 18, 2022</td>\n",
       "      <td>13</td>\n",
       "    </tr>\n",
       "    <tr>\n",
       "      <th>75</th>\n",
       "      <td>Federal Transit Administration (DOT)</td>\n",
       "      <td>Public Transportation on Indian Reservations Program; Tribal Transit Competitive Program</td>\n",
       "      <td>February 16, 2022</td>\n",
       "      <td>May 25, 2022</td>\n",
       "      <td>14</td>\n",
       "    </tr>\n",
       "    <tr>\n",
       "      <th>11</th>\n",
       "      <td>SB1</td>\n",
       "      <td>​​Solutions for Congested Corridors Program</td>\n",
       "      <td>August 17, 2022</td>\n",
       "      <td>December 2, 2022</td>\n",
       "      <td>15</td>\n",
       "    </tr>\n",
       "    <tr>\n",
       "      <th>3</th>\n",
       "      <td>DRMT</td>\n",
       "      <td>Transit Intercity and Rail Capital Program</td>\n",
       "      <td>November 19, 2021</td>\n",
       "      <td>March 3, 2022</td>\n",
       "      <td>15</td>\n",
       "    </tr>\n",
       "    <tr>\n",
       "      <th>14</th>\n",
       "      <td>SB1</td>\n",
       "      <td>Local Partnership Program</td>\n",
       "      <td>August 17, 2022</td>\n",
       "      <td>November 28, 2022</td>\n",
       "      <td>15</td>\n",
       "    </tr>\n",
       "    <tr>\n",
       "      <th>41</th>\n",
       "      <td>Federal Railroad Administration (DOT)</td>\n",
       "      <td>Consolidated Rail Infrastructure &amp; Safety Improvements Grant Program</td>\n",
       "      <td>August 1, 2021</td>\n",
       "      <td>November 29, 2021</td>\n",
       "      <td>17</td>\n",
       "    </tr>\n",
       "    <tr>\n",
       "      <th>23</th>\n",
       "      <td>DLA</td>\n",
       "      <td>Local Highway Safety Improvement Program (HSIP)</td>\n",
       "      <td>May 9, 2022</td>\n",
       "      <td>September 12, 2022</td>\n",
       "      <td>18</td>\n",
       "    </tr>\n",
       "    <tr>\n",
       "      <th>28</th>\n",
       "      <td>DLA</td>\n",
       "      <td>Federal Lands Access Program (FLAP)</td>\n",
       "      <td>December 8, 2020</td>\n",
       "      <td>May 27, 2021</td>\n",
       "      <td>24</td>\n",
       "    </tr>\n",
       "    <tr>\n",
       "      <th>17</th>\n",
       "      <td>SB1</td>\n",
       "      <td>Caltrans Sustainable Transportation Planning: Sustainable Communities</td>\n",
       "      <td>September 1, 2022</td>\n",
       "      <td>October 1, 2022</td>\n",
       "      <td>4</td>\n",
       "    </tr>\n",
       "    <tr>\n",
       "      <th>24</th>\n",
       "      <td>DLA</td>\n",
       "      <td>HSIP Systemic Safety Analysis Report Program (SSARP)</td>\n",
       "      <td>February 1, 2016</td>\n",
       "      <td>March 1, 2016</td>\n",
       "      <td>4</td>\n",
       "    </tr>\n",
       "    <tr>\n",
       "      <th>33</th>\n",
       "      <td>DLA</td>\n",
       "      <td>Systemic Safety Analysis Report Program (under HSIP)</td>\n",
       "      <td>February 1, 2016</td>\n",
       "      <td>March 1, 2016</td>\n",
       "      <td>4</td>\n",
       "    </tr>\n",
       "    <tr>\n",
       "      <th>10</th>\n",
       "      <td>DRMT</td>\n",
       "      <td>Low Carbon Transit Operations Program (already in Consolidated Application)</td>\n",
       "      <td>February 1, 2022</td>\n",
       "      <td>March 25, 2022</td>\n",
       "      <td>7</td>\n",
       "    </tr>\n",
       "    <tr>\n",
       "      <th>7</th>\n",
       "      <td>DRMT</td>\n",
       "      <td>Federal CMAQ (already in Consolidated Application)</td>\n",
       "      <td>March 1, 2022</td>\n",
       "      <td>April 29, 2022</td>\n",
       "      <td>8</td>\n",
       "    </tr>\n",
       "    <tr>\n",
       "      <th>6</th>\n",
       "      <td>DRMT</td>\n",
       "      <td>Rural Transit &amp; Intercity Bus  5311 &amp; 5311f (already in Consolidated Application)</td>\n",
       "      <td>March 1, 2022</td>\n",
       "      <td>April 29, 2022</td>\n",
       "      <td>8</td>\n",
       "    </tr>\n",
       "    <tr>\n",
       "      <th>5</th>\n",
       "      <td>DRMT</td>\n",
       "      <td>5310 Enhanced Mobility of Seniors and Individuals with Disabilities Program</td>\n",
       "      <td>January 3, 2022</td>\n",
       "      <td>March 2, 2022</td>\n",
       "      <td>8</td>\n",
       "    </tr>\n",
       "    <tr>\n",
       "      <th>8</th>\n",
       "      <td>DRMT</td>\n",
       "      <td>\\n\\nLow or No Emission Vehicle Program 5339 (already in Consolidated Application)</td>\n",
       "      <td>March 1, 2022</td>\n",
       "      <td>April 29, 2022</td>\n",
       "      <td>8</td>\n",
       "    </tr>\n",
       "    <tr>\n",
       "      <th>9</th>\n",
       "      <td>DRMT</td>\n",
       "      <td>State of Good Repair</td>\n",
       "      <td>July 1, 2022</td>\n",
       "      <td>September 1, 2022</td>\n",
       "      <td>9</td>\n",
       "    </tr>\n",
       "    <tr>\n",
       "      <th>59</th>\n",
       "      <td>Federal Transit Administration (DOT)</td>\n",
       "      <td>Pilot Program for Transit Oriented Development</td>\n",
       "      <td>May 26, 2022</td>\n",
       "      <td>7/25/2022</td>\n",
       "      <td>9</td>\n",
       "    </tr>\n",
       "    <tr>\n",
       "      <th>73</th>\n",
       "      <td>Federal Transit Administration (DOT)</td>\n",
       "      <td>Bus Exportable Power Systems</td>\n",
       "      <td>April 12, 2022</td>\n",
       "      <td>June 13, 2022</td>\n",
       "      <td>9</td>\n",
       "    </tr>\n",
       "    <tr>\n",
       "      <th>74</th>\n",
       "      <td>Federal Transit Administration (DOT)</td>\n",
       "      <td>Enhancing Mobility Innovation</td>\n",
       "      <td>November 12, 2021</td>\n",
       "      <td>January 11, 2022</td>\n",
       "      <td>9</td>\n",
       "    </tr>\n",
       "    <tr>\n",
       "      <th>2</th>\n",
       "      <td>Clean CA</td>\n",
       "      <td>Clean California Local Grant Program</td>\n",
       "      <td>December 1, 2021</td>\n",
       "      <td>February 1, 2022</td>\n",
       "      <td>9</td>\n",
       "    </tr>\n",
       "  </tbody>\n",
       "</table>\n",
       "</div>"
      ],
      "text/plain": [
       "                                 division  \\\n",
       "18                                    SB1   \n",
       "43          Office of the Secretary (DOT)   \n",
       "34   Federal Highway Administration (DOT)   \n",
       "35   Federal Highway Administration (DOT)   \n",
       "22                                    DLA   \n",
       "15                                SB1/DLA   \n",
       "12                                    SB1   \n",
       "75   Federal Transit Administration (DOT)   \n",
       "11                                    SB1   \n",
       "3                                    DRMT   \n",
       "14                                    SB1   \n",
       "41  Federal Railroad Administration (DOT)   \n",
       "23                                    DLA   \n",
       "28                                    DLA   \n",
       "17                                    SB1   \n",
       "24                                    DLA   \n",
       "33                                    DLA   \n",
       "10                                   DRMT   \n",
       "7                                    DRMT   \n",
       "6                                    DRMT   \n",
       "5                                    DRMT   \n",
       "8                                    DRMT   \n",
       "9                                    DRMT   \n",
       "59   Federal Transit Administration (DOT)   \n",
       "73   Federal Transit Administration (DOT)   \n",
       "74   Federal Transit Administration (DOT)   \n",
       "2                                Clean CA   \n",
       "\n",
       "                                                                                           grant_program  \\\n",
       "18  Caltrans Sustainable Transportation Planning: Strategic Partnership & Strategic Partnership -Transit   \n",
       "43                                                  Local and Regional Project Assistance Grants (RAISE)   \n",
       "34                                       Nationally Significant Federal Lands and Tribal Project Program   \n",
       "35                                                                             Bridge Investment Program   \n",
       "22                                                                   Safe Route To School Program (SRTS)   \n",
       "15                                                                         Active Transportation Program   \n",
       "12                                                                    Trade Corridor Enhancement Program   \n",
       "75              Public Transportation on Indian Reservations Program; Tribal Transit Competitive Program   \n",
       "11                                                           ​​Solutions for Congested Corridors Program   \n",
       "3                                                             Transit Intercity and Rail Capital Program   \n",
       "14                                                                             Local Partnership Program   \n",
       "41                                  Consolidated Rail Infrastructure & Safety Improvements Grant Program   \n",
       "23                                                       Local Highway Safety Improvement Program (HSIP)   \n",
       "28                                                                   Federal Lands Access Program (FLAP)   \n",
       "17                                 Caltrans Sustainable Transportation Planning: Sustainable Communities   \n",
       "24                                                  HSIP Systemic Safety Analysis Report Program (SSARP)   \n",
       "33                                                  Systemic Safety Analysis Report Program (under HSIP)   \n",
       "10                           Low Carbon Transit Operations Program (already in Consolidated Application)   \n",
       "7                                                     Federal CMAQ (already in Consolidated Application)   \n",
       "6                      Rural Transit & Intercity Bus  5311 & 5311f (already in Consolidated Application)   \n",
       "5                           5310 Enhanced Mobility of Seniors and Individuals with Disabilities Program    \n",
       "8                     \\n\\nLow or No Emission Vehicle Program 5339 (already in Consolidated Application)    \n",
       "9                                                                                  State of Good Repair    \n",
       "59                                                        Pilot Program for Transit Oriented Development   \n",
       "73                                                                          Bus Exportable Power Systems   \n",
       "74                                                                         Enhancing Mobility Innovation   \n",
       "2                                                                   Clean California Local Grant Program   \n",
       "\n",
       "    notice_of_funding         fy_due_date weeks_to_apply__c_d_  \n",
       "18   December 1, 2020   February 12, 2021                   10  \n",
       "43   January 28, 2022      April 14, 2022                   11  \n",
       "34       Oct 20, 2021     January 9, 2022                   12  \n",
       "35      June 10, 2022   September 8, 2022                   13  \n",
       "22     March 16, 2022       June 15, 2022                   13  \n",
       "15     March 16, 2022       June 15, 2022                   13  \n",
       "12    August 17, 2022   November 18, 2022                   13  \n",
       "75  February 16, 2022        May 25, 2022                   14  \n",
       "11    August 17, 2022    December 2, 2022                   15  \n",
       "3   November 19, 2021       March 3, 2022                   15  \n",
       "14    August 17, 2022   November 28, 2022                   15  \n",
       "41     August 1, 2021   November 29, 2021                   17  \n",
       "23        May 9, 2022  September 12, 2022                   18  \n",
       "28   December 8, 2020        May 27, 2021                   24  \n",
       "17  September 1, 2022     October 1, 2022                    4  \n",
       "24   February 1, 2016       March 1, 2016                    4  \n",
       "33   February 1, 2016       March 1, 2016                    4  \n",
       "10   February 1, 2022      March 25, 2022                    7  \n",
       "7       March 1, 2022      April 29, 2022                    8  \n",
       "6       March 1, 2022      April 29, 2022                    8  \n",
       "5     January 3, 2022       March 2, 2022                    8  \n",
       "8       March 1, 2022      April 29, 2022                    8  \n",
       "9        July 1, 2022   September 1, 2022                    9  \n",
       "59       May 26, 2022           7/25/2022                    9  \n",
       "73     April 12, 2022       June 13, 2022                    9  \n",
       "74  November 12, 2021    January 11, 2022                    9  \n",
       "2    December 1, 2021    February 1, 2022                    9  "
      ]
     },
     "execution_count": 49,
     "metadata": {},
     "output_type": "execute_result"
    }
   ],
   "source": [
    "populated_dates.sort_values('weeks_to_apply__c_d_')"
   ]
  },
  {
   "cell_type": "code",
   "execution_count": 50,
   "id": "730a727a-506c-492c-a390-2c658c8e9a6c",
   "metadata": {
    "tags": []
   },
   "outputs": [
    {
     "data": {
      "text/plain": [
       "9     5\n",
       "8     4\n",
       "13    4\n",
       "15    3\n",
       "4     3\n",
       "7     1\n",
       "10    1\n",
       "18    1\n",
       "24    1\n",
       "12    1\n",
       "17    1\n",
       "11    1\n",
       "14    1\n",
       "Name: weeks_to_apply__c_d_, dtype: int64"
      ]
     },
     "execution_count": 50,
     "metadata": {},
     "output_type": "execute_result"
    }
   ],
   "source": [
    "populated_dates['weeks_to_apply__c_d_'].value_counts()"
   ]
  },
  {
   "cell_type": "code",
   "execution_count": 51,
   "id": "4acefd3f-f0be-442e-84ce-7c47fc7c033b",
   "metadata": {},
   "outputs": [
    {
     "data": {
      "text/plain": [
       "10.0"
      ]
     },
     "execution_count": 51,
     "metadata": {},
     "output_type": "execute_result"
    }
   ],
   "source": [
    "populated_dates['weeks_to_apply__c_d_'].median()"
   ]
  }
 ],
 "metadata": {
  "kernelspec": {
   "display_name": "Python 3 (ipykernel)",
   "language": "python",
   "name": "python3"
  },
  "language_info": {
   "codemirror_mode": {
    "name": "ipython",
    "version": 3
   },
   "file_extension": ".py",
   "mimetype": "text/x-python",
   "name": "python",
   "nbconvert_exporter": "python",
   "pygments_lexer": "ipython3",
   "version": "3.10.4"
  }
 },
 "nbformat": 4,
 "nbformat_minor": 5
}
