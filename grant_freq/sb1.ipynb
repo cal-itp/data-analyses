{
 "cells": [
  {
   "cell_type": "code",
   "execution_count": 33,
   "id": "14352cf6-b8d7-4faa-9003-02b241a9798d",
   "metadata": {},
   "outputs": [],
   "source": [
    "import pandas as pd\n",
    "from calitp import to_snakecase\n",
    "from siuba import *"
   ]
  },
  {
   "cell_type": "code",
   "execution_count": 34,
   "id": "6273f1e6-7138-4be1-be84-7a43a57d0db4",
   "metadata": {},
   "outputs": [],
   "source": [
    "sb = pd.read_csv(\"https://raw.githubusercontent.com/cal-itp/sb1_ucla/main/SB1_Table_01112022.csv\")"
   ]
  },
  {
   "cell_type": "code",
   "execution_count": 40,
   "id": "b5c436e2-b682-414b-8ce8-23db12e65810",
   "metadata": {},
   "outputs": [],
   "source": [
    "sb = to_snakecase(sb)"
   ]
  },
  {
   "cell_type": "code",
   "execution_count": 36,
   "id": "d2b5f43e-0e8d-48f6-87e3-18ad01ac5631",
   "metadata": {},
   "outputs": [],
   "source": [
    "sb['grant_type']= 'sb1'"
   ]
  },
  {
   "cell_type": "code",
   "execution_count": 41,
   "id": "f2590f38-445b-41e9-a223-05ffb7e175dd",
   "metadata": {},
   "outputs": [
    {
     "data": {
      "text/html": [
       "<div>\n",
       "<style scoped>\n",
       "    .dataframe tbody tr th:only-of-type {\n",
       "        vertical-align: middle;\n",
       "    }\n",
       "\n",
       "    .dataframe tbody tr th {\n",
       "        vertical-align: top;\n",
       "    }\n",
       "\n",
       "    .dataframe thead th {\n",
       "        text-align: right;\n",
       "    }\n",
       "</style>\n",
       "<table border=\"1\" class=\"dataframe\">\n",
       "  <thead>\n",
       "    <tr style=\"text-align: right;\">\n",
       "      <th></th>\n",
       "      <th>project_id</th>\n",
       "      <th>project_name</th>\n",
       "      <th>implementing_agency</th>\n",
       "      <th>program</th>\n",
       "      <th>project_description</th>\n",
       "      <th>total_cost</th>\n",
       "      <th>sb_1_funds</th>\n",
       "      <th>fiscal_year</th>\n",
       "      <th>is_sb_1?</th>\n",
       "      <th>project_status</th>\n",
       "      <th>assembly_districts</th>\n",
       "      <th>senate_districts</th>\n",
       "      <th>counties</th>\n",
       "      <th>cities</th>\n",
       "      <th>caltrans_districts</th>\n",
       "      <th>is_on_shs?</th>\n",
       "      <th>date_updated</th>\n",
       "      <th>grant_type</th>\n",
       "    </tr>\n",
       "  </thead>\n",
       "  <tbody>\n",
       "    <tr>\n",
       "      <th>6412</th>\n",
       "      <td>'0115000029</td>\n",
       "      <td>Redwood Mobility Education Program</td>\n",
       "      <td>Humboldt County</td>\n",
       "      <td>Active Transportation Program</td>\n",
       "      <td>This NI project includes 4 schools within Eure...</td>\n",
       "      <td>600000.0</td>\n",
       "      <td>0.0</td>\n",
       "      <td>14/15</td>\n",
       "      <td>N</td>\n",
       "      <td>Completed</td>\n",
       "      <td>2</td>\n",
       "      <td>2</td>\n",
       "      <td>Humboldt</td>\n",
       "      <td>Arcata, Blue Lake, Eureka, Ferndale, Fortuna, ...</td>\n",
       "      <td>1</td>\n",
       "      <td>N</td>\n",
       "      <td>9/13/2021</td>\n",
       "      <td>sb1</td>\n",
       "    </tr>\n",
       "  </tbody>\n",
       "</table>\n",
       "</div>"
      ],
      "text/plain": [
       "       project_id                        project_name implementing_agency  \\\n",
       "6412  '0115000029  Redwood Mobility Education Program     Humboldt County   \n",
       "\n",
       "                            program  \\\n",
       "6412  Active Transportation Program   \n",
       "\n",
       "                                    project_description  total_cost  \\\n",
       "6412  This NI project includes 4 schools within Eure...    600000.0   \n",
       "\n",
       "      sb_1_funds fiscal_year is_sb_1? project_status assembly_districts  \\\n",
       "6412         0.0       14/15        N      Completed                  2   \n",
       "\n",
       "     senate_districts  counties  \\\n",
       "6412                2  Humboldt   \n",
       "\n",
       "                                                 cities caltrans_districts  \\\n",
       "6412  Arcata, Blue Lake, Eureka, Ferndale, Fortuna, ...                  1   \n",
       "\n",
       "     is_on_shs? date_updated grant_type  \n",
       "6412          N    9/13/2021        sb1  "
      ]
     },
     "execution_count": 41,
     "metadata": {},
     "output_type": "execute_result"
    }
   ],
   "source": [
    "sb.sample()"
   ]
  },
  {
   "cell_type": "code",
   "execution_count": 42,
   "id": "ff287d83-dc23-4a26-9ecb-5da5c27105c7",
   "metadata": {},
   "outputs": [
    {
     "data": {
      "text/plain": [
       "19/20     3257\n",
       "18/19     1667\n",
       "20/21     1319\n",
       "17/18      826\n",
       "21/22      436\n",
       "22/23      333\n",
       "14/15      263\n",
       "23/24      244\n",
       "16/17      221\n",
       "15/16      200\n",
       "24/25      187\n",
       "25/26       17\n",
       "26/27       14\n",
       "13-Dec       1\n",
       "Name: fiscal_year, dtype: int64"
      ]
     },
     "execution_count": 42,
     "metadata": {},
     "output_type": "execute_result"
    }
   ],
   "source": [
    "sb.fiscal_year.value_counts()"
   ]
  },
  {
   "cell_type": "code",
   "execution_count": 43,
   "id": "3076e146-a926-453e-8478-11d033057d16",
   "metadata": {},
   "outputs": [],
   "source": [
    "sb21 = sb>>filter(_.fiscal_year==\"21/22\")"
   ]
  },
  {
   "cell_type": "code",
   "execution_count": 44,
   "id": "02493c54-0e0d-4a2e-a33e-6e7a9e7ece0a",
   "metadata": {},
   "outputs": [],
   "source": [
    "sb20 = sb>>filter(_.fiscal_year==\"20/21\")"
   ]
  },
  {
   "cell_type": "code",
   "execution_count": 10,
   "id": "a236831d-42a6-4ab4-9a5e-b0384e90fae4",
   "metadata": {},
   "outputs": [],
   "source": [
    "### exporting to parquet. "
   ]
  },
  {
   "cell_type": "code",
   "execution_count": 47,
   "id": "fc42c6a3-b44b-4eff-a0a8-b0cc1954c760",
   "metadata": {},
   "outputs": [],
   "source": [
    "#sb21.to_parquet('sb21.parquet')"
   ]
  },
  {
   "cell_type": "code",
   "execution_count": 48,
   "id": "9fd6d45f-2e57-417e-be7a-9c5634861263",
   "metadata": {},
   "outputs": [],
   "source": [
    "#sb20.to_parquet('sb20.parquet')"
   ]
  },
  {
   "cell_type": "markdown",
   "id": "06ab29cf-4b49-42bf-bb7d-991dc430cae1",
   "metadata": {},
   "source": [
    "## Preliminary Analysis"
   ]
  },
  {
   "cell_type": "code",
   "execution_count": 16,
   "id": "6c5fdc55-4d67-4a1a-b4f3-53c718993222",
   "metadata": {},
   "outputs": [
    {
     "name": "stdout",
     "output_type": "stream",
     "text": [
      "<class 'pandas.core.frame.DataFrame'>\n",
      "Int64Index: 436 entries, 1010 to 8093\n",
      "Data columns (total 17 columns):\n",
      " #   Column               Non-Null Count  Dtype  \n",
      "---  ------               --------------  -----  \n",
      " 0   project_id           436 non-null    object \n",
      " 1   project_name         436 non-null    object \n",
      " 2   implementing_agency  436 non-null    object \n",
      " 3   program              436 non-null    object \n",
      " 4   project_description  436 non-null    object \n",
      " 5   total_cost           436 non-null    float64\n",
      " 6   sb_1_funds           436 non-null    float64\n",
      " 7   fiscal_year          436 non-null    object \n",
      " 8   is_sb_1?             436 non-null    object \n",
      " 9   project_status       436 non-null    object \n",
      " 10  assembly_districts   436 non-null    object \n",
      " 11  senate_districts     436 non-null    object \n",
      " 12  counties             436 non-null    object \n",
      " 13  cities               310 non-null    object \n",
      " 14  caltrans_districts   436 non-null    object \n",
      " 15  is_on_shs?           436 non-null    object \n",
      " 16  date_updated         436 non-null    object \n",
      "dtypes: float64(2), object(15)\n",
      "memory usage: 61.3+ KB\n"
     ]
    }
   ],
   "source": [
    "sb21.info()"
   ]
  },
  {
   "cell_type": "code",
   "execution_count": 8,
   "id": "4661d71f-5bdd-4e01-9f20-c5b8695eedfe",
   "metadata": {},
   "outputs": [
    {
     "data": {
      "text/html": [
       "<div>\n",
       "<style scoped>\n",
       "    .dataframe tbody tr th:only-of-type {\n",
       "        vertical-align: middle;\n",
       "    }\n",
       "\n",
       "    .dataframe tbody tr th {\n",
       "        vertical-align: top;\n",
       "    }\n",
       "\n",
       "    .dataframe thead th {\n",
       "        text-align: right;\n",
       "    }\n",
       "</style>\n",
       "<table border=\"1\" class=\"dataframe\">\n",
       "  <thead>\n",
       "    <tr style=\"text-align: right;\">\n",
       "      <th></th>\n",
       "      <th>project_id</th>\n",
       "      <th>project_name</th>\n",
       "      <th>implementing_agency</th>\n",
       "      <th>program</th>\n",
       "      <th>project_description</th>\n",
       "      <th>total_cost</th>\n",
       "      <th>sb_1_funds</th>\n",
       "      <th>fiscal_year</th>\n",
       "      <th>is_sb_1?</th>\n",
       "      <th>project_status</th>\n",
       "      <th>assembly_districts</th>\n",
       "      <th>senate_districts</th>\n",
       "      <th>counties</th>\n",
       "      <th>cities</th>\n",
       "      <th>caltrans_districts</th>\n",
       "      <th>is_on_shs?</th>\n",
       "      <th>date_updated</th>\n",
       "    </tr>\n",
       "  </thead>\n",
       "  <tbody>\n",
       "    <tr>\n",
       "      <th>1010</th>\n",
       "      <td>'04-2905F</td>\n",
       "      <td>Interstate 680 Southbound Express Lane from St...</td>\n",
       "      <td>Caltrans</td>\n",
       "      <td>Local Partnership Program - Competitive</td>\n",
       "      <td>From State Route 84 (Alameda County) to Alcost...</td>\n",
       "      <td>247000000.0</td>\n",
       "      <td>25000000.0</td>\n",
       "      <td>21/22</td>\n",
       "      <td>Y</td>\n",
       "      <td>Planned</td>\n",
       "      <td>16, 20, 25</td>\n",
       "      <td>07, 10</td>\n",
       "      <td>Alameda, Contra Costa, Santa Clara</td>\n",
       "      <td>Dublin, Fremont, Milpitas, Pleasanton, San Ramon</td>\n",
       "      <td>4</td>\n",
       "      <td>Y</td>\n",
       "      <td>5/25/2021</td>\n",
       "    </tr>\n",
       "    <tr>\n",
       "      <th>1011</th>\n",
       "      <td>'1200020328</td>\n",
       "      <td>Route 55 Improvements</td>\n",
       "      <td>Caltrans</td>\n",
       "      <td>Local Partnership Program - Competitive</td>\n",
       "      <td>In the cities of Irvine, Santa Ana and Tustin,...</td>\n",
       "      <td>349212000.0</td>\n",
       "      <td>25000000.0</td>\n",
       "      <td>21/22</td>\n",
       "      <td>Y</td>\n",
       "      <td>Planned</td>\n",
       "      <td>68, 69, 74</td>\n",
       "      <td>34, 37</td>\n",
       "      <td>Orange</td>\n",
       "      <td>NaN</td>\n",
       "      <td>12</td>\n",
       "      <td>Y</td>\n",
       "      <td>5/24/2021</td>\n",
       "    </tr>\n",
       "    <tr>\n",
       "      <th>1012</th>\n",
       "      <td>'0616000074</td>\n",
       "      <td>Commercial Avenue Interchange Project</td>\n",
       "      <td>Caltrans</td>\n",
       "      <td>Local Partnership Program - Competitive</td>\n",
       "      <td>In Tulare County near Tulare from 0.2 mile nor...</td>\n",
       "      <td>73300000.0</td>\n",
       "      <td>9000000.0</td>\n",
       "      <td>21/22</td>\n",
       "      <td>Y</td>\n",
       "      <td>Planned</td>\n",
       "      <td>26</td>\n",
       "      <td>16</td>\n",
       "      <td>Tulare</td>\n",
       "      <td>Tulare</td>\n",
       "      <td>6</td>\n",
       "      <td>Y</td>\n",
       "      <td>5/24/2021</td>\n",
       "    </tr>\n",
       "    <tr>\n",
       "      <th>1016</th>\n",
       "      <td>'0400000769</td>\n",
       "      <td>SR 12/29/221 Intersection Improvements</td>\n",
       "      <td>Caltrans</td>\n",
       "      <td>Local Partnership Program - Formulaic</td>\n",
       "      <td>In Napa County. Construct various partial grad...</td>\n",
       "      <td>63578000.0</td>\n",
       "      <td>422000.0</td>\n",
       "      <td>21/22</td>\n",
       "      <td>Y</td>\n",
       "      <td>Planned</td>\n",
       "      <td>4</td>\n",
       "      <td>3</td>\n",
       "      <td>Napa</td>\n",
       "      <td>Napa</td>\n",
       "      <td>4</td>\n",
       "      <td>Y</td>\n",
       "      <td>5/24/2021</td>\n",
       "    </tr>\n",
       "    <tr>\n",
       "      <th>1018</th>\n",
       "      <td>'0518000131</td>\n",
       "      <td>South Coast 101 HOV Lanes - Montecito to Santa...</td>\n",
       "      <td>Caltrans</td>\n",
       "      <td>Local Partnership Program - Formulaic</td>\n",
       "      <td>In and near Montecito and Santa Barbara, from ...</td>\n",
       "      <td>51855000.0</td>\n",
       "      <td>3681000.0</td>\n",
       "      <td>21/22</td>\n",
       "      <td>Y</td>\n",
       "      <td>Planned</td>\n",
       "      <td>37</td>\n",
       "      <td>19</td>\n",
       "      <td>Santa Barbara</td>\n",
       "      <td>Santa Barbara</td>\n",
       "      <td>5</td>\n",
       "      <td>Y</td>\n",
       "      <td>5/24/2021</td>\n",
       "    </tr>\n",
       "  </tbody>\n",
       "</table>\n",
       "</div>"
      ],
      "text/plain": [
       "       project_id                                       project_name  \\\n",
       "1010    '04-2905F  Interstate 680 Southbound Express Lane from St...   \n",
       "1011  '1200020328                              Route 55 Improvements   \n",
       "1012  '0616000074              Commercial Avenue Interchange Project   \n",
       "1016  '0400000769             SR 12/29/221 Intersection Improvements   \n",
       "1018  '0518000131  South Coast 101 HOV Lanes - Montecito to Santa...   \n",
       "\n",
       "     implementing_agency                                  program  \\\n",
       "1010            Caltrans  Local Partnership Program - Competitive   \n",
       "1011            Caltrans  Local Partnership Program - Competitive   \n",
       "1012            Caltrans  Local Partnership Program - Competitive   \n",
       "1016            Caltrans    Local Partnership Program - Formulaic   \n",
       "1018            Caltrans    Local Partnership Program - Formulaic   \n",
       "\n",
       "                                    project_description   total_cost  \\\n",
       "1010  From State Route 84 (Alameda County) to Alcost...  247000000.0   \n",
       "1011  In the cities of Irvine, Santa Ana and Tustin,...  349212000.0   \n",
       "1012  In Tulare County near Tulare from 0.2 mile nor...   73300000.0   \n",
       "1016  In Napa County. Construct various partial grad...   63578000.0   \n",
       "1018  In and near Montecito and Santa Barbara, from ...   51855000.0   \n",
       "\n",
       "      sb_1_funds fiscal_year is_sb_1? project_status assembly_districts  \\\n",
       "1010  25000000.0       21/22        Y        Planned         16, 20, 25   \n",
       "1011  25000000.0       21/22        Y        Planned         68, 69, 74   \n",
       "1012   9000000.0       21/22        Y        Planned                 26   \n",
       "1016    422000.0       21/22        Y        Planned                  4   \n",
       "1018   3681000.0       21/22        Y        Planned                 37   \n",
       "\n",
       "     senate_districts                            counties  \\\n",
       "1010           07, 10  Alameda, Contra Costa, Santa Clara   \n",
       "1011           34, 37                              Orange   \n",
       "1012               16                              Tulare   \n",
       "1016                3                                Napa   \n",
       "1018               19                       Santa Barbara   \n",
       "\n",
       "                                                cities caltrans_districts  \\\n",
       "1010  Dublin, Fremont, Milpitas, Pleasanton, San Ramon                  4   \n",
       "1011                                               NaN                 12   \n",
       "1012                                            Tulare                  6   \n",
       "1016                                              Napa                  4   \n",
       "1018                                     Santa Barbara                  5   \n",
       "\n",
       "     is_on_shs? date_updated  \n",
       "1010          Y    5/25/2021  \n",
       "1011          Y    5/24/2021  \n",
       "1012          Y    5/24/2021  \n",
       "1016          Y    5/24/2021  \n",
       "1018          Y    5/24/2021  "
      ]
     },
     "execution_count": 8,
     "metadata": {},
     "output_type": "execute_result"
    }
   ],
   "source": [
    "sb21.head()"
   ]
  },
  {
   "cell_type": "code",
   "execution_count": 24,
   "id": "46f9cb28-62da-4814-a6c1-71a5b3177907",
   "metadata": {},
   "outputs": [
    {
     "data": {
      "text/plain": [
       "Planned        243\n",
       "Completed      106\n",
       "In Progress     87\n",
       "Name: project_status, dtype: int64"
      ]
     },
     "execution_count": 24,
     "metadata": {},
     "output_type": "execute_result"
    }
   ],
   "source": [
    "sb21.project_status.value_counts()"
   ]
  },
  {
   "cell_type": "code",
   "execution_count": 29,
   "id": "9dda2294-6b9e-422a-8eb9-83dd8b980428",
   "metadata": {},
   "outputs": [
    {
     "data": {
      "text/plain": [
       "State Hwy Operations & Protection Program Major    390\n",
       "Solutions for Congested Corridors Program           14\n",
       "Local Partnership Program - Competitive             11\n",
       "Trade Corridor Enhancement Program                  11\n",
       "Local Partnership Program - Formulaic               10\n",
       "Name: program, dtype: int64"
      ]
     },
     "execution_count": 29,
     "metadata": {},
     "output_type": "execute_result"
    }
   ],
   "source": [
    "sb21.program.value_counts()"
   ]
  },
  {
   "cell_type": "code",
   "execution_count": 32,
   "id": "928bb0e6-0819-4b46-a4c6-1256fc6cf657",
   "metadata": {},
   "outputs": [],
   "source": [
    "# might want to get rid of the Formulaic info since we are intersted in Competitive "
   ]
  },
  {
   "cell_type": "code",
   "execution_count": 28,
   "id": "76e75c0c-93ae-47f8-9c77-3cd88fe7efc4",
   "metadata": {},
   "outputs": [
    {
     "name": "stdout",
     "output_type": "stream",
     "text": [
      "There are 25 implemeting agencies\n"
     ]
    }
   ],
   "source": [
    "print(f\"There are {len(sb21>>count(_.implementing_agency)>>arrange(-_.n))} implemeting agencies\")"
   ]
  },
  {
   "cell_type": "code",
   "execution_count": null,
   "id": "e11fc6d0-30cb-473b-9b8a-005544f47b70",
   "metadata": {},
   "outputs": [],
   "source": []
  },
  {
   "cell_type": "code",
   "execution_count": null,
   "id": "117232a2-bf71-4a7c-b92e-affd5cc7513f",
   "metadata": {},
   "outputs": [],
   "source": []
  },
  {
   "cell_type": "code",
   "execution_count": null,
   "id": "a89981ae-1ac8-4d10-bdcc-913b230d55bd",
   "metadata": {},
   "outputs": [],
   "source": []
  },
  {
   "cell_type": "code",
   "execution_count": null,
   "id": "5b7a8a59-4f63-4849-b96f-2f2259623c15",
   "metadata": {},
   "outputs": [],
   "source": []
  },
  {
   "cell_type": "code",
   "execution_count": null,
   "id": "4d01a44f-3f40-46f4-ad5b-9a903d849398",
   "metadata": {},
   "outputs": [],
   "source": []
  },
  {
   "cell_type": "code",
   "execution_count": null,
   "id": "91454ec6-5c12-457a-88b4-f10669de4283",
   "metadata": {},
   "outputs": [],
   "source": []
  }
 ],
 "metadata": {
  "kernelspec": {
   "display_name": "Python 3 (ipykernel)",
   "language": "python",
   "name": "python3"
  },
  "language_info": {
   "codemirror_mode": {
    "name": "ipython",
    "version": 3
   },
   "file_extension": ".py",
   "mimetype": "text/x-python",
   "name": "python",
   "nbconvert_exporter": "python",
   "pygments_lexer": "ipython3",
   "version": "3.9.10"
  },
  "widgets": {
   "application/vnd.jupyter.widget-state+json": {
    "state": {},
    "version_major": 2,
    "version_minor": 0
   }
  }
 },
 "nbformat": 4,
 "nbformat_minor": 5
}
