{
 "cells": [
  {
   "cell_type": "markdown",
   "id": "35d54f2d-d500-4643-b217-ef40a034fa7f",
   "metadata": {},
   "source": [
    "# Related Issues"
   ]
  },
  {
   "cell_type": "markdown",
   "id": "29fe50ee-0173-45de-854a-9125098bfd2f",
   "metadata": {},
   "source": [
    "## [Research Request - Transit Agency Peer Groups subtask: NTD Characteristics #1442](https://github.com/cal-itp/data-analyses/issues/1442)\n"
   ]
  },
  {
   "cell_type": "markdown",
   "id": "450c9b3f-1fb2-46c7-98c0-f97f51c37a39",
   "metadata": {},
   "source": [
    "## via Juan Matute  email 5/29/2025\n",
    "In a more advanced version, operators would be clustered into groups of 10 or more based on: \n",
    "\n",
    "- mode of service, \n",
    "- vehicles available, \n",
    "- population density of service territory, \n",
    "- job density of service territory, and, perhaps, \n",
    "- service area overlap with other transit operators (a GTFS spatial analysis exercise).  \n",
    "\n",
    "An agency scoring in the bottom 1 or 2 of the cluster would get some remedial help in their triennial audit.Or face consolidation (FWIW, I like the BC Transit model for consolidation starting in 1979).  \n",
    "\n",
    "Several large transit operators, especially those operating rail, wouldn't be candidates for consolidation and wouldn't fit this clustering method and would instead rely on a triennial audit, where I would expect trends over time for GTFS-RT quality, customer experience metrics (Transit App surveys or mystery shops) and several of these metrics to be considered holistically.  \n",
    "\n",
    "And perhaps agency costs would be adjusted for regional consumer price index maintained by California Department of Industrial Relations.  Either that or they'd just be clustered with regional peers.\n"
   ]
  },
  {
   "cell_type": "markdown",
   "id": "62771c8b-1866-4b75-b5fb-1eb6bc5fbddf",
   "metadata": {},
   "source": [
    "## [Transit Agency Peer Groups literature review #1562](https://github.com/cal-itp/data-analyses/issues/1562)\n",
    "\n",
    "Link to literature document (requires sharepoint): https://caltrans.sharepoint.com/:w:/r/sites/DOTPMPHQ-DDSContractors/_layouts/15/Doc.aspx?sourcedoc=%7B61CE5D08-BDAC-4947-ADE3-59CA472CF679%7D&file=transit_peer_groups_lit_review.docx&action=default&mobileredirect=true"
   ]
  },
  {
   "cell_type": "markdown",
   "id": "59517a56-1cbb-4a84-bfe8-2b474c2785e3",
   "metadata": {},
   "source": [
    "## [Exploratory clustering analysis with NTD data #1580](https://github.com/cal-itp/data-analyses/issues/1580)\n",
    "\n",
    "This notebook"
   ]
  },
  {
   "cell_type": "code",
   "execution_count": 3,
   "id": "366bb9d7-c171-42e4-a4b6-9185f0104ce0",
   "metadata": {
    "tags": []
   },
   "outputs": [],
   "source": [
    "# scikit learns imports for clustering\n",
    "from sklearn.cluster import AgglomerativeClustering # has linage arg for \"ward\"\n",
    "import pandas as pd"
   ]
  },
  {
   "cell_type": "code",
   "execution_count": 4,
   "id": "24281883-86a3-46b6-829c-e660f65373d8",
   "metadata": {
    "tags": []
   },
   "outputs": [],
   "source": [
    "# new imports to query warehouse using SQLAlchemy\n",
    "from calitp_data_analysis.tables import tbls\n",
    "from calitp_data_analysis.sql import get_engine\n",
    "\n",
    "db_engine = get_engine()\n",
    "\n",
    "pd.set_option(\"display.max_columns\", None)\n",
    "pd.set_option(\"display.max_rows\", None)"
   ]
  },
  {
   "cell_type": "code",
   "execution_count": null,
   "id": "0e6fdb7f-851b-4cb7-95e1-c9c66590c52c",
   "metadata": {},
   "outputs": [],
   "source": []
  }
 ],
 "metadata": {
  "kernelspec": {
   "display_name": "Python 3 (ipykernel)",
   "language": "python",
   "name": "python3"
  },
  "language_info": {
   "codemirror_mode": {
    "name": "ipython",
    "version": 3
   },
   "file_extension": ".py",
   "mimetype": "text/x-python",
   "name": "python",
   "nbconvert_exporter": "python",
   "pygments_lexer": "ipython3",
   "version": "3.11.10"
  }
 },
 "nbformat": 4,
 "nbformat_minor": 5
}
