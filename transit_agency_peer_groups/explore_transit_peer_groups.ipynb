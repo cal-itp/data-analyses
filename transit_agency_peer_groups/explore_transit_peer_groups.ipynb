{
 "cells": [
  {
   "cell_type": "markdown",
   "id": "35d54f2d-d500-4643-b217-ef40a034fa7f",
   "metadata": {},
   "source": [
    "# Related Issues"
   ]
  },
  {
   "cell_type": "markdown",
   "id": "29fe50ee-0173-45de-854a-9125098bfd2f",
   "metadata": {},
   "source": [
    "## [Research Request - Transit Agency Peer Groups subtask: NTD Characteristics #1442](https://github.com/cal-itp/data-analyses/issues/1442)\n"
   ]
  },
  {
   "cell_type": "markdown",
   "id": "450c9b3f-1fb2-46c7-98c0-f97f51c37a39",
   "metadata": {},
   "source": [
    "## via Juan Matute  email 5/29/2025\n",
    "In a more advanced version, operators would be clustered into groups of 10 or more based on: \n",
    "\n",
    "- mode of service, \n",
    "- vehicles available, \n",
    "- population density of service territory, \n",
    "- job density of service territory, and, perhaps, \n",
    "- service area overlap with other transit operators (a GTFS spatial analysis exercise).  \n",
    "\n",
    "An agency scoring in the bottom 1 or 2 of the cluster would get some remedial help in their triennial audit.Or face consolidation (FWIW, I like the BC Transit model for consolidation starting in 1979).  \n",
    "\n",
    "Several large transit operators, especially those operating rail, wouldn't be candidates for consolidation and wouldn't fit this clustering method and would instead rely on a triennial audit, where I would expect trends over time for GTFS-RT quality, customer experience metrics (Transit App surveys or mystery shops) and several of these metrics to be considered holistically.  \n",
    "\n",
    "And perhaps agency costs would be adjusted for regional consumer price index maintained by California Department of Industrial Relations.  Either that or they'd just be clustered with regional peers.\n"
   ]
  },
  {
   "cell_type": "markdown",
   "id": "62771c8b-1866-4b75-b5fb-1eb6bc5fbddf",
   "metadata": {},
   "source": [
    "## [Transit Agency Peer Groups literature review #1562](https://github.com/cal-itp/data-analyses/issues/1562)\n",
    "\n",
    "Link to literature document (requires sharepoint): https://caltrans.sharepoint.com/:w:/r/sites/DOTPMPHQ-DDSContractors/_layouts/15/Doc.aspx?sourcedoc=%7B61CE5D08-BDAC-4947-ADE3-59CA472CF679%7D&file=transit_peer_groups_lit_review.docx&action=default&mobileredirect=true"
   ]
  },
  {
   "cell_type": "markdown",
   "id": "59517a56-1cbb-4a84-bfe8-2b474c2785e3",
   "metadata": {},
   "source": [
    "## [Exploratory clustering analysis with NTD data #1580](https://github.com/cal-itp/data-analyses/issues/1580)\n",
    "\n",
    "This notebook"
   ]
  },
  {
   "cell_type": "code",
   "execution_count": 1,
   "id": "366bb9d7-c171-42e4-a4b6-9185f0104ce0",
   "metadata": {
    "tags": []
   },
   "outputs": [],
   "source": [
    "# scikit learns imports for clustering\n",
    "from sklearn.cluster import AgglomerativeClustering # has linage arg for \"ward\"\n",
    "import pandas as pd"
   ]
  },
  {
   "cell_type": "code",
   "execution_count": 4,
   "id": "24281883-86a3-46b6-829c-e660f65373d8",
   "metadata": {
    "tags": []
   },
   "outputs": [],
   "source": [
    "# new imports to query warehouse using SQLAlchemy\n",
    "#from calitp_data_analysis.tables import tbls\n",
    "from calitp_data_analysis.sql import get_engine\n",
    "\n",
    "db_engine = get_engine()\n",
    "\n",
    "pd.set_option(\"display.max_columns\", None)\n",
    "pd.set_option(\"display.max_rows\", None)"
   ]
  },
  {
   "cell_type": "markdown",
   "id": "340a6486-717d-4cd5-b122-c70be40bf044",
   "metadata": {},
   "source": [
    "## example syntax for new query method\n",
    "```\n",
    "with db_engine.connect() as connection:\n",
    "    query = f\"\"\"\n",
    "        SELECT {','.join(time_series_by_mode_opexp_columns)}\n",
    "        FROM cal-itp-data-infra.mart_ntd_funding_and_expenses.fct_service_data_and_operating_expenses_time_series_by_mode_opexp_total\n",
    "        WHERE state = 'CA'\n",
    "         AND primary_uza_name LIKE %(uza_match)s\n",
    "         AND year IN UNNEST(%(years)s)\n",
    "         AND opexp_total IS NOT NULL\n",
    "    \"\"\"\n",
    "    op_total = pd.read_sql(query, connection, params={'uza_match': '%, CA%', 'years': year_list})\n",
    "\n",
    "op_total.info()\n",
    "```"
   ]
  },
  {
   "cell_type": "markdown",
   "id": "06a5f818-0dbd-4eea-94dc-b53b3929c449",
   "metadata": {},
   "source": [
    "## Test Query\n",
    "query NTD data from `mart_ntd_funding_and_expenses.fct_service_data_and_operating_expenses_time_series_by_mode...`. Same data used for the transit performance metrics"
   ]
  },
  {
   "cell_type": "code",
   "execution_count": 5,
   "id": "a83944b5-d444-4658-8bbc-6253af2b0bce",
   "metadata": {
    "tags": []
   },
   "outputs": [],
   "source": [
    "year_list = [2018, 2019, 2020, 2021, 2022, 2023]\n",
    "\n",
    "fct_service_base_columns = [\n",
    "    'source_agency',\n",
    "    'agency_status',\n",
    "    'source_city',\n",
    "    'mode',\n",
    "    'service',\n",
    "    'ntd_id',\n",
    "    'reporter_type',\n",
    "    'reporting_module',\n",
    "    'source_state',\n",
    "    'primary_uza_name',\n",
    "    'year',\n",
    "    \"uza_area_sq_miles\",\n",
    "    \"uza_population\"   \n",
    "]"
   ]
  },
  {
   "cell_type": "code",
   "execution_count": 6,
   "id": "22bef185-a96d-45a9-a683-a32b9ec72191",
   "metadata": {
    "tags": []
   },
   "outputs": [],
   "source": [
    "time_series_by_mode_opexp_columns = fct_service_base_columns + ['opexp_total']\n",
    "\n",
    "with db_engine.connect() as connection:\n",
    "    query = f\"\"\"\n",
    "        SELECT {','.join(time_series_by_mode_opexp_columns)}\n",
    "        FROM cal-itp-data-infra.mart_ntd_funding_and_expenses.fct_service_data_and_operating_expenses_time_series_by_mode_opexp_total\n",
    "        WHERE state = 'CA'\n",
    "         AND primary_uza_name LIKE %(uza_match)s\n",
    "         AND year IN UNNEST(%(years)s)\n",
    "         AND opexp_total IS NOT NULL\n",
    "    \"\"\"\n",
    "    op_total = pd.read_sql(query, connection, params={'uza_match': '%, CA%', 'years': year_list})\n",
    "\n"
   ]
  },
  {
   "cell_type": "code",
   "execution_count": 7,
   "id": "d21e41ee-7ca5-4167-b77d-ea0bd611027e",
   "metadata": {
    "tags": []
   },
   "outputs": [],
   "source": [
    "time_series_by_mode_upt_columns = fct_service_base_columns + ['upt']\n",
    "# mart_ntd_funding_and_expenses.fct_service_data_and_operating_expenses_time_series_by_mode_upt\n",
    "\n",
    "with db_engine.connect() as connection:\n",
    "    query = f\"\"\"\n",
    "        SELECT {','.join(time_series_by_mode_upt_columns)}\n",
    "        FROM cal-itp-data-infra.mart_ntd_funding_and_expenses.fct_service_data_and_operating_expenses_time_series_by_mode_upt\n",
    "        WHERE source_state = 'CA'\n",
    "         AND primary_uza_name LIKE %(uza_match)s\n",
    "         AND year IN UNNEST(%(years)s)\n",
    "         AND upt IS NOT NULL\n",
    "    \"\"\"\n",
    "    mode_upt = pd.read_sql(query, connection, params={'uza_match': '%, CA%', 'years': year_list})\n"
   ]
  },
  {
   "cell_type": "code",
   "execution_count": 8,
   "id": "7b838dea-552c-4014-a12e-63fc7867de91",
   "metadata": {
    "tags": []
   },
   "outputs": [],
   "source": [
    "time_series_by_mode_vrh_columns = fct_service_base_columns + ['vrh']\n",
    "# mart_ntd_funding_and_expenses.fct_service_data_and_operating_expenses_time_series_by_mode_vrh\n",
    "\n",
    "with db_engine.connect() as connection:\n",
    "    query = f\"\"\"\n",
    "        SELECT {','.join(time_series_by_mode_vrh_columns)}\n",
    "        FROM cal-itp-data-infra.mart_ntd_funding_and_expenses.fct_service_data_and_operating_expenses_time_series_by_mode_vrh\n",
    "        WHERE source_state = 'CA'\n",
    "         AND primary_uza_name LIKE %(uza_match)s\n",
    "         AND year IN UNNEST(%(years)s)\n",
    "         AND vrh IS NOT NULL\n",
    "    \"\"\"\n",
    "    mode_vrh = pd.read_sql(query, connection, params={'uza_match': '%, CA%', 'years': year_list})\n",
    "\n"
   ]
  },
  {
   "cell_type": "code",
   "execution_count": 9,
   "id": "15e58de4-02de-4c98-bdcf-ed1c2d22858e",
   "metadata": {
    "tags": []
   },
   "outputs": [],
   "source": [
    "time_series_by_mode_vrm_columns = fct_service_base_columns + ['vrm']\n",
    "# mart_ntd_funding_and_expenses.fct_service_data_and_operating_expenses_time_series_by_mode_vrm\n",
    "\n",
    "with db_engine.connect() as connection:\n",
    "    query = f\"\"\"\n",
    "        SELECT {','.join(time_series_by_mode_vrm_columns)}\n",
    "        FROM cal-itp-data-infra.mart_ntd_funding_and_expenses.fct_service_data_and_operating_expenses_time_series_by_mode_vrm\n",
    "        WHERE source_state = 'CA'\n",
    "         AND primary_uza_name LIKE %(uza_match)s\n",
    "         AND year IN UNNEST(%(years)s)\n",
    "         AND vrm IS NOT NULL\n",
    "    \"\"\"\n",
    "    mode_vrm = pd.read_sql(query, connection, params={'uza_match': '%, CA%', 'years': year_list})\n",
    "\n"
   ]
  },
  {
   "cell_type": "markdown",
   "id": "2eaffc84-82a0-439d-b43f-9bd0ec2492ab",
   "metadata": {
    "jp-MarkdownHeadingCollapsed": true,
    "tags": []
   },
   "source": [
    "### confirming all queries work"
   ]
  },
  {
   "cell_type": "code",
   "execution_count": null,
   "id": "82332dee-90ee-4cc4-83af-2d30afd032ce",
   "metadata": {
    "tags": []
   },
   "outputs": [],
   "source": [
    "df_list = [\n",
    "    op_total,\n",
    "    mode_upt,\n",
    "    mode_vrh,\n",
    "    mode_vrm\n",
    "    ]\n",
    "\n",
    "for df in df_list:\n",
    "    print(\n",
    "        f\"\"\"Columns:{df.columns},\n",
    "        Shape:{df.shape} \n",
    "        \"\"\"\n",
    "    )"
   ]
  },
  {
   "cell_type": "markdown",
   "id": "490fae86-34fa-42e4-9b1a-288a8761e84a",
   "metadata": {},
   "source": [
    "## Test combining all queries"
   ]
  },
  {
   "cell_type": "code",
   "execution_count": 10,
   "id": "6889b151-0ff8-464f-8aed-06a1629fa488",
   "metadata": {
    "tags": []
   },
   "outputs": [
    {
     "data": {
      "text/plain": [
       "['source_agency',\n",
       " 'agency_status',\n",
       " 'source_city',\n",
       " 'mode',\n",
       " 'service',\n",
       " 'ntd_id',\n",
       " 'reporter_type',\n",
       " 'reporting_module',\n",
       " 'source_state',\n",
       " 'primary_uza_name',\n",
       " 'year',\n",
       " 'uza_area_sq_miles',\n",
       " 'uza_population',\n",
       " 'opexp_total']"
      ]
     },
     "execution_count": 10,
     "metadata": {},
     "output_type": "execute_result"
    }
   ],
   "source": [
    "time_series_by_mode_opexp_columns"
   ]
  },
  {
   "cell_type": "code",
   "execution_count": 11,
   "id": "06153f72-05dc-46ce-8456-b8ca627f1d6c",
   "metadata": {
    "tags": []
   },
   "outputs": [
    {
     "data": {
      "text/plain": [
       "'op_total.source_agency, op_total.agency_status, op_total.source_city, op_total.mode, op_total.service, op_total.ntd_id, op_total.reporter_type, op_total.reporting_module, op_total.source_state, op_total.primary_uza_name, op_total.year, op_total.uza_area_sq_miles, op_total.uza_population, op_total.opexp_total'"
      ]
     },
     "execution_count": 11,
     "metadata": {},
     "output_type": "execute_result"
    }
   ],
   "source": [
    "\", \".join([f\"op_total.{col}\" for col in time_series_by_mode_opexp_columns])"
   ]
  },
  {
   "cell_type": "code",
   "execution_count": 16,
   "id": "4d3a75fc-37f6-44f4-9b96-f75031a2a1f2",
   "metadata": {
    "tags": []
   },
   "outputs": [],
   "source": [
    "with db_engine.connect() as connection:\n",
    "    all_query = f\"\"\"\n",
    "        SELECT DISTINCT\n",
    "            {\", \".join([f\"op_total.{col}\" for col in time_series_by_mode_opexp_columns])},\n",
    "            mode_upt.upt,\n",
    "            mode_vrh.vrh,\n",
    "            mode_vrm.vrm,\n",
    "        FROM\n",
    "          cal-itp-data-infra.mart_ntd_funding_and_expenses.fct_service_data_and_operating_expenses_time_series_by_mode_opexp_total AS op_total\n",
    "        JOIN\n",
    "          cal-itp-data-infra.mart_ntd_funding_and_expenses.fct_service_data_and_operating_expenses_time_series_by_mode_upt AS mode_upt\n",
    "        ON\n",
    "          op_total.ntd_id = mode_upt.ntd_id\n",
    "          AND mode_upt.source_state = 'CA'\n",
    "          AND mode_upt.year = 2023\n",
    "          AND mode_upt.upt IS NOT NULL\n",
    "        JOIN\n",
    "          cal-itp-data-infra.mart_ntd_funding_and_expenses.fct_service_data_and_operating_expenses_time_series_by_mode_vrh AS mode_vrh\n",
    "        ON\n",
    "          op_total.ntd_id = mode_vrh.ntd_id\n",
    "          AND mode_vrh.source_state = 'CA'\n",
    "          AND mode_vrh.year = 2023\n",
    "          AND mode_vrh.vrh IS NOT NULL\n",
    "        JOIN\n",
    "          cal-itp-data-infra.mart_ntd_funding_and_expenses.fct_service_data_and_operating_expenses_time_series_by_mode_vrm AS mode_vrm\n",
    "        ON\n",
    "          op_total.ntd_id = mode_vrm.ntd_id\n",
    "          AND mode_vrm.source_state = 'CA'\n",
    "          AND mode_vrm.year = 2023\n",
    "          AND mode_vrm.vrm IS NOT NULL\n",
    "        WHERE\n",
    "          op_total.source_state = \"CA\"\n",
    "          AND op_total.year = 2023\n",
    "          AND op_total.opexp_total IS NOT NULL\n",
    "        LIMIT 1000\n",
    "\n",
    "    \"\"\"\n",
    "    test_q = pd.read_sql(all_query, connection)"
   ]
  },
  {
   "cell_type": "code",
   "execution_count": 17,
   "id": "61830f28-0fbd-4404-b8d7-538fb9493b69",
   "metadata": {
    "tags": []
   },
   "outputs": [
    {
     "name": "stdout",
     "output_type": "stream",
     "text": [
      "<class 'pandas.core.frame.DataFrame'>\n",
      "RangeIndex: 1000 entries, 0 to 999\n",
      "Data columns (total 17 columns):\n",
      " #   Column             Non-Null Count  Dtype  \n",
      "---  ------             --------------  -----  \n",
      " 0   source_agency      1000 non-null   object \n",
      " 1   agency_status      1000 non-null   object \n",
      " 2   source_city        1000 non-null   object \n",
      " 3   mode               1000 non-null   object \n",
      " 4   service            1000 non-null   object \n",
      " 5   ntd_id             1000 non-null   object \n",
      " 6   reporter_type      1000 non-null   object \n",
      " 7   reporting_module   1000 non-null   object \n",
      " 8   source_state       1000 non-null   object \n",
      " 9   primary_uza_name   1000 non-null   object \n",
      " 10  year               1000 non-null   int64  \n",
      " 11  uza_area_sq_miles  1000 non-null   float64\n",
      " 12  uza_population     1000 non-null   int64  \n",
      " 13  opexp_total        1000 non-null   int64  \n",
      " 14  upt                1000 non-null   int64  \n",
      " 15  vrh                1000 non-null   int64  \n",
      " 16  vrm                1000 non-null   int64  \n",
      "dtypes: float64(1), int64(6), object(10)\n",
      "memory usage: 132.9+ KB\n"
     ]
    }
   ],
   "source": [
    "test_q.info()"
   ]
  },
  {
   "cell_type": "code",
   "execution_count": 20,
   "id": "0a2053f5-2368-4014-8eb0-063dea644974",
   "metadata": {
    "tags": []
   },
   "outputs": [
    {
     "data": {
      "text/plain": [
       "Alameda-Contra Costa Transit District                              625\n",
       "Amador Transit (AT)                                                 81\n",
       "Antelope Valley Transit Authority (AVTA)                            81\n",
       "Central Contra Costa Transit Authority (CCCTA)                      81\n",
       "City and County of San Francisco (SFMTA) - Transit Division         57\n",
       "Access Services (AS)                                                16\n",
       "Anaheim Transportation Network (ATN)                                16\n",
       "Butte County Association of Governments (BCAG)                      16\n",
       "Calaveras Transit Agency (CTA)                                      16\n",
       "Blue Lake Rancheria (BLRTS) - Transportation                         8\n",
       "Altamont Corridor Express (ACE)                                      1\n",
       "California Vanpool Authority (CVA)                                   1\n",
       "Chemehuevi Indian Tribe (CTA) - Reality and Planning department      1\n",
       "Name: source_agency, dtype: int64"
      ]
     },
     "execution_count": 20,
     "metadata": {},
     "output_type": "execute_result"
    }
   ],
   "source": [
    "test_q[\"source_agency\"].value_counts()"
   ]
  },
  {
   "cell_type": "markdown",
   "id": "8f888f46-978a-4ebb-bcd4-351658729ed5",
   "metadata": {},
   "source": [
    "## Reading in cleaned data from `transit_performance_metrics`\n",
    "this merged data from `mart_ntd_funding_and_expenses.fct_service_data_and_operating_expenses_time_series_by_mode_..` tables"
   ]
  },
  {
   "cell_type": "code",
   "execution_count": 13,
   "id": "9edecc60-4246-407a-955c-4720f27cdc93",
   "metadata": {
    "tags": []
   },
   "outputs": [],
   "source": [
    "df = pd.read_parquet(f\"gs://calitp-analytics-data/data-analyses/ntd/raw_transit_performance_metrics_data.parquet\")"
   ]
  },
  {
   "cell_type": "code",
   "execution_count": 23,
   "id": "295a2c09-3dc1-4378-86ff-d837340bbfa5",
   "metadata": {
    "tags": []
   },
   "outputs": [
    {
     "name": "stdout",
     "output_type": "stream",
     "text": [
      "<class 'pandas.core.frame.DataFrame'>\n",
      "Int64Index: 338 entries, 190 to 2089\n",
      "Data columns (total 17 columns):\n",
      " #   Column            Non-Null Count  Dtype   \n",
      "---  ------            --------------  -----   \n",
      " 0   agency_name       338 non-null    object  \n",
      " 1   agency_status     338 non-null    object  \n",
      " 2   city              338 non-null    object  \n",
      " 3   mode              338 non-null    object  \n",
      " 4   service           338 non-null    object  \n",
      " 5   ntd_id            338 non-null    object  \n",
      " 6   reporter_type     338 non-null    object  \n",
      " 7   reporting_module  338 non-null    object  \n",
      " 8   state             338 non-null    object  \n",
      " 9   primary_uza_name  338 non-null    object  \n",
      " 10  year              338 non-null    object  \n",
      " 11  upt               338 non-null    int64   \n",
      " 12  vrh               338 non-null    int64   \n",
      " 13  vrm               338 non-null    int64   \n",
      " 14  opexp_total       338 non-null    int64   \n",
      " 15  RTPA              338 non-null    object  \n",
      " 16  _merge            338 non-null    category\n",
      "dtypes: category(1), int64(4), object(12)\n",
      "memory usage: 45.3+ KB\n"
     ]
    },
    {
     "data": {
      "text/plain": [
       "None"
      ]
     },
     "metadata": {},
     "output_type": "display_data"
    },
    {
     "data": {
      "text/html": [
       "<div>\n",
       "<style scoped>\n",
       "    .dataframe tbody tr th:only-of-type {\n",
       "        vertical-align: middle;\n",
       "    }\n",
       "\n",
       "    .dataframe tbody tr th {\n",
       "        vertical-align: top;\n",
       "    }\n",
       "\n",
       "    .dataframe thead th {\n",
       "        text-align: right;\n",
       "    }\n",
       "</style>\n",
       "<table border=\"1\" class=\"dataframe\">\n",
       "  <thead>\n",
       "    <tr style=\"text-align: right;\">\n",
       "      <th></th>\n",
       "      <th>upt</th>\n",
       "      <th>vrh</th>\n",
       "      <th>vrm</th>\n",
       "      <th>opexp_total</th>\n",
       "    </tr>\n",
       "  </thead>\n",
       "  <tbody>\n",
       "    <tr>\n",
       "      <th>count</th>\n",
       "      <td>2.091000e+03</td>\n",
       "      <td>2.091000e+03</td>\n",
       "      <td>2.091000e+03</td>\n",
       "      <td>2.091000e+03</td>\n",
       "    </tr>\n",
       "    <tr>\n",
       "      <th>mean</th>\n",
       "      <td>2.660662e+06</td>\n",
       "      <td>1.161680e+05</td>\n",
       "      <td>1.754771e+06</td>\n",
       "      <td>2.223394e+07</td>\n",
       "    </tr>\n",
       "    <tr>\n",
       "      <th>std</th>\n",
       "      <td>1.405787e+07</td>\n",
       "      <td>3.934805e+05</td>\n",
       "      <td>5.856907e+06</td>\n",
       "      <td>8.622174e+07</td>\n",
       "    </tr>\n",
       "    <tr>\n",
       "      <th>min</th>\n",
       "      <td>0.000000e+00</td>\n",
       "      <td>0.000000e+00</td>\n",
       "      <td>0.000000e+00</td>\n",
       "      <td>0.000000e+00</td>\n",
       "    </tr>\n",
       "    <tr>\n",
       "      <th>25%</th>\n",
       "      <td>1.887900e+04</td>\n",
       "      <td>5.847500e+03</td>\n",
       "      <td>6.586950e+04</td>\n",
       "      <td>5.853455e+05</td>\n",
       "    </tr>\n",
       "    <tr>\n",
       "      <th>50%</th>\n",
       "      <td>7.961300e+04</td>\n",
       "      <td>1.750400e+04</td>\n",
       "      <td>2.583970e+05</td>\n",
       "      <td>1.841343e+06</td>\n",
       "    </tr>\n",
       "    <tr>\n",
       "      <th>75%</th>\n",
       "      <td>5.417190e+05</td>\n",
       "      <td>6.606900e+04</td>\n",
       "      <td>1.021278e+06</td>\n",
       "      <td>8.832687e+06</td>\n",
       "    </tr>\n",
       "    <tr>\n",
       "      <th>max</th>\n",
       "      <td>2.609022e+08</td>\n",
       "      <td>6.341989e+06</td>\n",
       "      <td>8.378382e+07</td>\n",
       "      <td>1.355086e+09</td>\n",
       "    </tr>\n",
       "  </tbody>\n",
       "</table>\n",
       "</div>"
      ],
      "text/plain": [
       "                upt           vrh           vrm   opexp_total\n",
       "count  2.091000e+03  2.091000e+03  2.091000e+03  2.091000e+03\n",
       "mean   2.660662e+06  1.161680e+05  1.754771e+06  2.223394e+07\n",
       "std    1.405787e+07  3.934805e+05  5.856907e+06  8.622174e+07\n",
       "min    0.000000e+00  0.000000e+00  0.000000e+00  0.000000e+00\n",
       "25%    1.887900e+04  5.847500e+03  6.586950e+04  5.853455e+05\n",
       "50%    7.961300e+04  1.750400e+04  2.583970e+05  1.841343e+06\n",
       "75%    5.417190e+05  6.606900e+04  1.021278e+06  8.832687e+06\n",
       "max    2.609022e+08  6.341989e+06  8.378382e+07  1.355086e+09"
      ]
     },
     "metadata": {},
     "output_type": "display_data"
    },
    {
     "data": {
      "text/plain": [
       "2019    358\n",
       "2020    355\n",
       "2018    348\n",
       "2021    347\n",
       "2022    345\n",
       "2023    338\n",
       "Name: year, dtype: int64"
      ]
     },
     "metadata": {},
     "output_type": "display_data"
    }
   ],
   "source": [
    "display(\n",
    "    df[df[\"year\"]== \"2023\"].info(),\n",
    "    df.describe(),\n",
    "    df[\"year\"].value_counts()\n",
    ")"
   ]
  },
  {
   "cell_type": "code",
   "execution_count": null,
   "id": "a1d66ac2-6fd5-4a4f-ac00-b4532ec443d5",
   "metadata": {
    "tags": []
   },
   "outputs": [],
   "source": [
    "df[df[\"city\"].str.contains(\"Sacramento\")][\"agency_name\"].unique()"
   ]
  },
  {
   "cell_type": "code",
   "execution_count": null,
   "id": "45d3fa8f-ac35-4941-ba5d-1ad93e1c421b",
   "metadata": {},
   "outputs": [],
   "source": []
  }
 ],
 "metadata": {
  "kernelspec": {
   "display_name": "Python 3 (ipykernel)",
   "language": "python",
   "name": "python3"
  },
  "language_info": {
   "codemirror_mode": {
    "name": "ipython",
    "version": 3
   },
   "file_extension": ".py",
   "mimetype": "text/x-python",
   "name": "python",
   "nbconvert_exporter": "python",
   "pygments_lexer": "ipython3",
   "version": "3.11.10"
  }
 },
 "nbformat": 4,
 "nbformat_minor": 5
}
