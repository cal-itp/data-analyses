{
 "cells": [
  {
   "cell_type": "markdown",
   "id": "9e9b1052-adbd-4759-a091-3805119fb023",
   "metadata": {},
   "source": [
    "# Clustering with 2023 data ONLY\n",
    "\n",
    "Try with only 2023 data"
   ]
  },
  {
   "cell_type": "code",
   "execution_count": 1,
   "id": "e0261fc4-67f7-425d-b3f4-dea35c3c2947",
   "metadata": {},
   "outputs": [
    {
     "name": "stdout",
     "output_type": "stream",
     "text": [
      "Requirement already satisfied: scipy==1.11.4 in /opt/conda/lib/python3.11/site-packages (1.11.4)\n",
      "Requirement already satisfied: numpy<1.28.0,>=1.21.6 in /opt/conda/lib/python3.11/site-packages (from scipy==1.11.4) (1.26.4)\n"
     ]
    }
   ],
   "source": [
    "!pip install scipy==1.11.4"
   ]
  },
  {
   "cell_type": "code",
   "execution_count": 2,
   "id": "5f0307af-4035-4f72-8ab1-9d373ad1b493",
   "metadata": {
    "tags": []
   },
   "outputs": [],
   "source": [
    "from calitp_data_analysis.sql import query_sql\n",
    "from utils_transit_peer_groups import *\n",
    "import sys\n",
    "import altair as alt\n",
    "import pandas as pd\n",
    "\n",
    "sys.path.append(\"../ntd/monthly_ridership_report\")\n",
    "from update_vars import GCS_FILE_PATH, NTD_MODES, NTD_TOS\n",
    "\n",
    "pd.set_option(\"display.max_rows\", None)\n",
    "pd.set_option(\"display.max_columns\", None)"
   ]
  },
  {
   "cell_type": "code",
   "execution_count": 3,
   "id": "72036839-5fc3-4130-95e4-e3769d084309",
   "metadata": {
    "tags": []
   },
   "outputs": [],
   "source": [
    "import plotly.figure_factory as ff\n",
    "import matplotlib.pyplot as plt\n",
    "from scipy.cluster.hierarchy import dendrogram, linkage"
   ]
  },
  {
   "cell_type": "code",
   "execution_count": 4,
   "id": "ef0189f8-46f2-4658-8f49-ce98f6a87a8c",
   "metadata": {},
   "outputs": [],
   "source": [
    "fixed_guideway = [\n",
    "    \"SR\",\n",
    "    \"HR\",\n",
    "    \"YR\",\n",
    "    \"CR\",\n",
    "    \"CC\",\n",
    "    \"LR\",\n",
    "    \"MG\",\n",
    "    \"TB\",\n",
    "]\n",
    "\n",
    "nonfixed_guideway = [\n",
    "    \"DR\",\n",
    "    \"MB\",\n",
    "    \"DT\",\n",
    "    \"CB\",\n",
    "    \"VP\",\n",
    "    \"RB\",\n",
    "    \"JT\"\n",
    "]\n",
    "\n",
    "other_modes = [\n",
    "    \"FB\",\n",
    "    \"OT\", # no clue what this is, not in NTD glossary\n",
    "    \"OR\", # same with this\n",
    "    \n",
    "]\n",
    "\n",
    "mode_dict ={\n",
    "    \"SR\":\"fixed_guideway\",\n",
    "    \"HR\":\"fixed_guideway\",\n",
    "    \"YR\":\"fixed_guideway\",\n",
    "    \"CR\":\"fixed_guideway\",\n",
    "    \"CC\":\"fixed_guideway\",\n",
    "    \"LR\":\"fixed_guideway\",\n",
    "    \"MG\":\"fixed_guideway\",\n",
    "    \"TB\":\"fixed_guideway\",\n",
    "    \"DR\":\"nonfixed_guideway\",\n",
    "    \"MB\":\"nonfixed_guideway\",\n",
    "    \"DT\":\"nonfixed_guideway\",\n",
    "    \"CB\":\"nonfixed_guideway\",\n",
    "    \"VP\":\"nonfixed_guideway\",\n",
    "    \"RB\":\"nonfixed_guideway\",\n",
    "    \"JT\":\"nonfixed_guideway\",\n",
    "    \"FB\":\"other_mode\",\n",
    "    \"OT\":\"other_mode\", # no clue what this is, not in NTD glossary\n",
    "    \"OR\":\"other_mode\",\n",
    "}"
   ]
  },
  {
   "cell_type": "code",
   "execution_count": 5,
   "id": "51ad341f-f961-48e8-8757-51229c1e7d86",
   "metadata": {
    "tags": []
   },
   "outputs": [],
   "source": [
    "#ID cols\n",
    "id_cols = [\n",
    "    \"ntd_id\",\n",
    "    \"source_agency\",\n",
    "    \"city\",\n",
    "    \"primary_uza_name\"\n",
    "]\n",
    "# include in clustering\n",
    "categorical_cols = [\"mode_group\", \"service\", \"reporter_type\"]\n",
    "\n",
    "# include in clustering\n",
    "numerical_cols = [\n",
    "    \"total_upt\",\n",
    "    \"total_vrh\",\n",
    "    \"total_vrm\",\n",
    "    \"opexp_total\",\n",
    "    \"total_voms\",\n",
    "    # \"uza_population\",\n",
    "    # \"uza_area_sq_miles\",\n",
    "]"
   ]
  },
  {
   "cell_type": "code",
   "execution_count": null,
   "id": "de1e7694-fb16-469b-85d1-e3998680c911",
   "metadata": {
    "tags": []
   },
   "outputs": [],
   "source": [
    "# alt method to query warehous data, via cal-itp docs\n",
    "# query = f\"\"\"\n",
    "#         SELECT\n",
    "#           upt.ntd_id,\n",
    "#           upt.source_agency,\n",
    "#           upt.agency_status,\n",
    "#           upt.city,\n",
    "#           upt.primary_uza_name,\n",
    "#           upt.uza_population,\n",
    "#           upt.uza_area_sq_miles,\n",
    "#           upt.year,\n",
    "#           upt.mode,\n",
    "#           upt.service,\n",
    "#           upt.reporter_type,\n",
    "#           SUM(upt.upt) AS total_upt,\n",
    "#           SUM(voms.voms) AS total_voms,\n",
    "#           SUM(vrh.vrh) AS total_vrh,\n",
    "#           SUM(vrm.vrm) AS total_vrm,\n",
    "#           SUM(opexp_total.opexp_total) AS opexp_total\n",
    "#         FROM\n",
    "#           cal-itp-data-infra.mart_ntd_funding_and_expenses.fct_service_data_and_operating_expenses_time_series_by_mode_upt AS upt\n",
    "#         INNER JOIN\n",
    "#           cal-itp-data-infra.mart_ntd_funding_and_expenses.fct_service_data_and_operating_expenses_time_series_by_mode_voms AS voms\n",
    "#         ON\n",
    "#           upt.ntd_id = voms.ntd_id\n",
    "#           AND upt.year = voms.year\n",
    "#           AND upt.source_agency = voms.source_agency\n",
    "#           AND upt.agency_status = voms.agency_status\n",
    "#           AND upt.primary_uza_name = voms.primary_uza_name\n",
    "#           AND upt.uza_population = voms.uza_population\n",
    "#           AND upt.uza_area_sq_miles = voms.uza_area_sq_miles\n",
    "#         INNER JOIN\n",
    "#           cal-itp-data-infra.mart_ntd_funding_and_expenses.fct_service_data_and_operating_expenses_time_series_by_mode_vrh AS vrh\n",
    "#         ON\n",
    "#           upt.ntd_id = vrh.ntd_id\n",
    "#           AND upt.year = vrh.year\n",
    "#           AND upt.source_agency = vrh.source_agency\n",
    "#           AND upt.agency_status = vrh.agency_status\n",
    "#           AND upt.primary_uza_name = vrh.primary_uza_name\n",
    "#           AND upt.uza_population = vrh.uza_population\n",
    "#           AND upt.uza_area_sq_miles = vrh.uza_area_sq_miles\n",
    "#         INNER JOIN\n",
    "#           cal-itp-data-infra.mart_ntd_funding_and_expenses.fct_service_data_and_operating_expenses_time_series_by_mode_vrm AS vrm\n",
    "#         ON\n",
    "#           upt.ntd_id = vrm.ntd_id\n",
    "#           AND upt.year = vrm.year\n",
    "#           AND upt.source_agency = vrm.source_agency\n",
    "#           AND upt.agency_status = vrm.agency_status\n",
    "#           AND upt.primary_uza_name = vrm.primary_uza_name\n",
    "#           AND upt.uza_population = vrm.uza_population\n",
    "#           AND upt.uza_area_sq_miles = vrm.uza_area_sq_miles\n",
    "#         INNER JOIN\n",
    "#           cal-itp-data-infra.mart_ntd_funding_and_expenses.fct_service_data_and_operating_expenses_time_series_by_mode_opexp_total AS opexp_total\n",
    "#         ON\n",
    "#           upt.ntd_id = opexp_total.ntd_id\n",
    "#           AND upt.year = opexp_total.year\n",
    "#           AND upt.source_agency = opexp_total.source_agency\n",
    "#           AND upt.agency_status = opexp_total.agency_status\n",
    "#           AND upt.primary_uza_name = opexp_total.primary_uza_name\n",
    "#           AND upt.uza_population = opexp_total.uza_population\n",
    "#           AND upt.uza_area_sq_miles = opexp_total.uza_area_sq_miles\n",
    "#         WHERE\n",
    "#           upt.source_state = \"CA\"\n",
    "#           AND upt.year = 2023\n",
    "#         GROUP BY\n",
    "#           upt.ntd_id,\n",
    "#           upt.source_agency,\n",
    "#           upt.agency_status,\n",
    "#           upt.city,\n",
    "#           upt.year,\n",
    "#           upt.primary_uza_name,\n",
    "#           upt.uza_population,\n",
    "#           upt.uza_area_sq_miles,\n",
    "#           upt.mode,\n",
    "#           upt.service,\n",
    "#           upt.reporter_type\n",
    "#         \"\"\"\n",
    "\n",
    "# ntd_2023_data = query_sql(query).fillna({\n",
    "#     \"city\":\"none\",\n",
    "#     \"total_upt\":0,\n",
    "#     \"total_vrh\":0,\n",
    "#     \"total_vrm\":0,\n",
    "#     \"opexp_total\":0,\n",
    "#     \"total_voms\":0,\n",
    "# })"
   ]
  },
  {
   "cell_type": "markdown",
   "id": "f6169720-0807-4e5d-b60e-139e60c1648b",
   "metadata": {},
   "source": [
    "#### Save query data to GCS"
   ]
  },
  {
   "cell_type": "code",
   "execution_count": 7,
   "id": "0d397529-8abd-43d5-8079-98de1105bd1d",
   "metadata": {
    "tags": []
   },
   "outputs": [],
   "source": [
    "gcs_file_path = \"gs://calitp-analytics-data/data-analyses/transit_peer_groups/\"\n",
    "# ntd_2023_data.to_parquet(f\"{gcs_file_path}ntd_2023_data.parquet\")"
   ]
  },
  {
   "cell_type": "markdown",
   "id": "04099d68-8612-4e7f-81cf-00e02490f78b",
   "metadata": {
    "tags": []
   },
   "source": [
    "#### read in saved query data from GCS"
   ]
  },
  {
   "cell_type": "code",
   "execution_count": 8,
   "id": "c045338f-6292-4121-8ad3-5bf5e718ed2d",
   "metadata": {
    "tags": []
   },
   "outputs": [],
   "source": [
    "ntd_2023_data = pd.read_parquet(f\"{gcs_file_path}ntd_2023_data.parquet\")"
   ]
  },
  {
   "cell_type": "code",
   "execution_count": 9,
   "id": "d02c0b1c-07a2-43d7-95a9-ba38a3966811",
   "metadata": {
    "tags": []
   },
   "outputs": [],
   "source": [
    "ntd_2023_data[numerical_cols] = ntd_2023_data[numerical_cols].astype(\"int64\", errors=\"ignore\")"
   ]
  },
  {
   "cell_type": "markdown",
   "id": "afc47797-f15c-4cd6-8223-376b35da27ff",
   "metadata": {},
   "source": [
    "## replace values for mode and tos"
   ]
  },
  {
   "cell_type": "code",
   "execution_count": 10,
   "id": "c2b517d5-c3b2-4183-b5c2-80115083c828",
   "metadata": {
    "tags": []
   },
   "outputs": [],
   "source": [
    "service_dict = {\n",
    "    \"TX\":\"PT\",\n",
    "    \"TN\":\"PT\"\n",
    "}\n",
    "\n",
    "ntd_2023_data[\"service\"] = ntd_2023_data[\"service\"].replace(service_dict)"
   ]
  },
  {
   "cell_type": "code",
   "execution_count": 11,
   "id": "cd756ab5-e1b6-436a-b47a-fddd1c810c34",
   "metadata": {
    "tags": []
   },
   "outputs": [
    {
     "data": {
      "text/plain": [
       "array(['PT', 'DO'], dtype=object)"
      ]
     },
     "execution_count": 11,
     "metadata": {},
     "output_type": "execute_result"
    }
   ],
   "source": [
    "ntd_2023_data[\"service\"].unique()"
   ]
  },
  {
   "cell_type": "code",
   "execution_count": 12,
   "id": "ea1346bb-5f71-40ea-b249-cef5a9b116a9",
   "metadata": {
    "tags": []
   },
   "outputs": [],
   "source": [
    "ntd_2023_data[\"mode_group\"] = ntd_2023_data[\"mode\"].map(mode_dict)"
   ]
  },
  {
   "cell_type": "code",
   "execution_count": 13,
   "id": "47197fcc-b710-40ed-93cc-cdc0b95e99d6",
   "metadata": {
    "tags": []
   },
   "outputs": [
    {
     "data": {
      "text/plain": [
       "array(['nonfixed_guideway', 'fixed_guideway', 'other_mode'], dtype=object)"
      ]
     },
     "execution_count": 13,
     "metadata": {},
     "output_type": "execute_result"
    }
   ],
   "source": [
    "ntd_2023_data[\"mode_group\"].unique()"
   ]
  },
  {
   "cell_type": "markdown",
   "id": "da44675b-a983-4c62-aaa9-3e1c9869b2e1",
   "metadata": {},
   "source": [
    "## 2023 - explore data"
   ]
  },
  {
   "cell_type": "code",
   "execution_count": 14,
   "id": "d778d13a-f14d-406b-8cfd-6c3b84ef53ce",
   "metadata": {
    "tags": []
   },
   "outputs": [
    {
     "name": "stdout",
     "output_type": "stream",
     "text": [
      "<class 'pandas.core.frame.DataFrame'>\n",
      "RangeIndex: 667 entries, 0 to 666\n",
      "Data columns (total 17 columns):\n",
      " #   Column             Non-Null Count  Dtype  \n",
      "---  ------             --------------  -----  \n",
      " 0   ntd_id             667 non-null    object \n",
      " 1   source_agency      667 non-null    object \n",
      " 2   agency_status      667 non-null    object \n",
      " 3   city               667 non-null    object \n",
      " 4   primary_uza_name   667 non-null    object \n",
      " 5   uza_population     667 non-null    int64  \n",
      " 6   uza_area_sq_miles  667 non-null    float64\n",
      " 7   year               667 non-null    int64  \n",
      " 8   mode               667 non-null    object \n",
      " 9   service            667 non-null    object \n",
      " 10  reporter_type      667 non-null    object \n",
      " 11  total_upt          667 non-null    int64  \n",
      " 12  total_voms         667 non-null    int64  \n",
      " 13  total_vrh          667 non-null    int64  \n",
      " 14  total_vrm          667 non-null    int64  \n",
      " 15  opexp_total        667 non-null    int64  \n",
      " 16  mode_group         667 non-null    object \n",
      "dtypes: float64(1), int64(7), object(9)\n",
      "memory usage: 88.7+ KB\n"
     ]
    },
    {
     "data": {
      "text/plain": [
       "None"
      ]
     },
     "metadata": {},
     "output_type": "display_data"
    },
    {
     "data": {
      "text/plain": [
       "PT    437\n",
       "DO    230\n",
       "Name: service, dtype: int64"
      ]
     },
     "metadata": {},
     "output_type": "display_data"
    },
    {
     "data": {
      "text/plain": [
       "nonfixed_guideway    623\n",
       "fixed_guideway        28\n",
       "other_mode            16\n",
       "Name: mode_group, dtype: int64"
      ]
     },
     "metadata": {},
     "output_type": "display_data"
    }
   ],
   "source": [
    "display(\n",
    "    ntd_2023_data.info(),\n",
    "\n",
    "    ntd_2023_data[\"service\"].value_counts(),\n",
    "\n",
    "    ntd_2023_data[\"mode_group\"].value_counts(),\n",
    ")"
   ]
  },
  {
   "cell_type": "markdown",
   "id": "adfece3b-1cb9-4074-9685-1ec04b9209a0",
   "metadata": {},
   "source": [
    "## 2023 - correlation matrix"
   ]
  },
  {
   "cell_type": "code",
   "execution_count": 15,
   "id": "04444c2f-8eee-4fe3-9984-bfb2553db771",
   "metadata": {
    "tags": []
   },
   "outputs": [
    {
     "data": {
      "text/html": [
       "<div>\n",
       "<style scoped>\n",
       "    .dataframe tbody tr th:only-of-type {\n",
       "        vertical-align: middle;\n",
       "    }\n",
       "\n",
       "    .dataframe tbody tr th {\n",
       "        vertical-align: top;\n",
       "    }\n",
       "\n",
       "    .dataframe thead th {\n",
       "        text-align: right;\n",
       "    }\n",
       "</style>\n",
       "<table border=\"1\" class=\"dataframe\">\n",
       "  <thead>\n",
       "    <tr style=\"text-align: right;\">\n",
       "      <th></th>\n",
       "      <th>total_upt</th>\n",
       "      <th>total_vrh</th>\n",
       "      <th>total_vrm</th>\n",
       "      <th>opexp_total</th>\n",
       "      <th>total_voms</th>\n",
       "    </tr>\n",
       "  </thead>\n",
       "  <tbody>\n",
       "    <tr>\n",
       "      <th>total_upt</th>\n",
       "      <td>1.000000</td>\n",
       "      <td>0.447327</td>\n",
       "      <td>0.438990</td>\n",
       "      <td>0.467137</td>\n",
       "      <td>0.428977</td>\n",
       "    </tr>\n",
       "    <tr>\n",
       "      <th>total_vrh</th>\n",
       "      <td>0.447327</td>\n",
       "      <td>1.000000</td>\n",
       "      <td>0.993603</td>\n",
       "      <td>0.970093</td>\n",
       "      <td>0.992880</td>\n",
       "    </tr>\n",
       "    <tr>\n",
       "      <th>total_vrm</th>\n",
       "      <td>0.438990</td>\n",
       "      <td>0.993603</td>\n",
       "      <td>1.000000</td>\n",
       "      <td>0.958037</td>\n",
       "      <td>0.991704</td>\n",
       "    </tr>\n",
       "    <tr>\n",
       "      <th>opexp_total</th>\n",
       "      <td>0.467137</td>\n",
       "      <td>0.970093</td>\n",
       "      <td>0.958037</td>\n",
       "      <td>1.000000</td>\n",
       "      <td>0.939107</td>\n",
       "    </tr>\n",
       "    <tr>\n",
       "      <th>total_voms</th>\n",
       "      <td>0.428977</td>\n",
       "      <td>0.992880</td>\n",
       "      <td>0.991704</td>\n",
       "      <td>0.939107</td>\n",
       "      <td>1.000000</td>\n",
       "    </tr>\n",
       "  </tbody>\n",
       "</table>\n",
       "</div>"
      ],
      "text/plain": [
       "             total_upt  total_vrh  total_vrm  opexp_total  total_voms\n",
       "total_upt     1.000000   0.447327   0.438990     0.467137    0.428977\n",
       "total_vrh     0.447327   1.000000   0.993603     0.970093    0.992880\n",
       "total_vrm     0.438990   0.993603   1.000000     0.958037    0.991704\n",
       "opexp_total   0.467137   0.970093   0.958037     1.000000    0.939107\n",
       "total_voms    0.428977   0.992880   0.991704     0.939107    1.000000"
      ]
     },
     "execution_count": 15,
     "metadata": {},
     "output_type": "execute_result"
    }
   ],
   "source": [
    "ntd_2023_data[numerical_cols].corr()"
   ]
  },
  {
   "cell_type": "markdown",
   "id": "b10687bd-a265-4dab-8c37-633274322310",
   "metadata": {
    "jp-MarkdownHeadingCollapsed": true,
    "tags": []
   },
   "source": [
    "## 2023 - Manual Hierarchal clustering w/ ward"
   ]
  },
  {
   "cell_type": "code",
   "execution_count": null,
   "id": "56ca49d7-56fc-467f-b3db-f8a4a1e76f91",
   "metadata": {
    "tags": []
   },
   "outputs": [],
   "source": [
    "from sklearn.cluster import AgglomerativeClustering \n",
    "from sklearn.compose import ColumnTransformer\n",
    "from sklearn.pipeline import Pipeline\n",
    "from sklearn.preprocessing import OneHotEncoder, StandardScaler"
   ]
  },
  {
   "cell_type": "code",
   "execution_count": null,
   "id": "244ece50-b6d0-4da7-930b-adb052098864",
   "metadata": {
    "tags": []
   },
   "outputs": [],
   "source": [
    "numerical_cols"
   ]
  },
  {
   "cell_type": "code",
   "execution_count": null,
   "id": "bb3e06fa-007b-46ee-964c-b85f62e14ecb",
   "metadata": {
    "tags": []
   },
   "outputs": [],
   "source": [
    "categorical_cols"
   ]
  },
  {
   "cell_type": "code",
   "execution_count": null,
   "id": "3d82839d-1150-46b1-ba38-c2994e667303",
   "metadata": {
    "tags": []
   },
   "outputs": [],
   "source": [
    "# 1. set up pre-processing steps with column transformer\n",
    "\n",
    "preprocessor = ColumnTransformer(\n",
    "    [\n",
    "        (\"ntd_metrics\", StandardScaler(), numerical_cols),\n",
    "        (\"categorical\", OneHotEncoder(drop=\"first\", sparse_output=False), categorical_cols)\n",
    "    ]\n",
    ")\n",
    "preprocessor"
   ]
  },
  {
   "cell_type": "code",
   "execution_count": null,
   "id": "f704fd24-09d7-49ad-9ca7-3e0d3663ae27",
   "metadata": {
    "tags": []
   },
   "outputs": [],
   "source": [
    "# 2. set up pipeline. First pre-processing, then clustering\n",
    "pipeline = Pipeline(\n",
    "    [\n",
    "        (\"preprocessing\", preprocessor),\n",
    "        (\"clustering\", AgglomerativeClustering(n_clusters=10, linkage=\"ward\"))\n",
    "    ]\n",
    ")\n",
    "\n",
    "pipeline"
   ]
  },
  {
   "cell_type": "markdown",
   "id": "841500fa-19c6-4c33-8878-ccd36d9e0256",
   "metadata": {},
   "source": [
    "### Clustering with entire raw data "
   ]
  },
  {
   "cell_type": "code",
   "execution_count": null,
   "id": "71c54cb8-82e8-4e33-8908-470ebcdeb2e4",
   "metadata": {
    "tags": []
   },
   "outputs": [],
   "source": [
    "# 3. use pipeline to fit clustering model. create new column for clustering\n",
    "ntd_2023_fit = ntd_2023_data.copy() # why do i need to copy/clone?\n",
    "\n",
    "ntd_2023_fit[\"cluster_name\"] = pipeline.fit_predict(ntd_2023_fit)"
   ]
  },
  {
   "cell_type": "code",
   "execution_count": null,
   "id": "8be82efc-d18e-4e03-ac25-add0a6e62cce",
   "metadata": {},
   "outputs": [],
   "source": [
    "display(\n",
    "    ntd_2023_fit[\"cluster_name\"].value_counts(),\n",
    "    ntd_2023_fit[[\"source_agency\",\"total_upt\",\"total_vrh\",\"cluster_name\"]].sample(3)\n",
    ")"
   ]
  },
  {
   "cell_type": "code",
   "execution_count": null,
   "id": "43a4a9ed-5267-42cd-a599-e17eae86380c",
   "metadata": {
    "tags": []
   },
   "outputs": [],
   "source": [
    "ntd_2023_data[\"service\"].unique()"
   ]
  },
  {
   "cell_type": "markdown",
   "id": "389ba766-7562-476c-8f3a-93c2aebf8bd1",
   "metadata": {
    "tags": []
   },
   "source": [
    "### what are the feature columns with onehotencoding drop=first?"
   ]
  },
  {
   "cell_type": "code",
   "execution_count": null,
   "id": "b37f9691-6b83-4c01-819a-ea6c51671d2f",
   "metadata": {
    "tags": []
   },
   "outputs": [],
   "source": [
    "feature_names = preprocessor.get_feature_names_out()\n",
    "display(list(feature_names))"
   ]
  },
  {
   "cell_type": "markdown",
   "id": "e93ca956-cc9a-4c5a-b131-d541c371d134",
   "metadata": {
    "tags": []
   },
   "source": [
    "### what are the feature columns with `onehotencoding drop=None`?\n"
   ]
  },
  {
   "cell_type": "code",
   "execution_count": null,
   "id": "86151283-605b-4578-b8d5-a8461cd02def",
   "metadata": {
    "tags": []
   },
   "outputs": [],
   "source": [
    "preprocessor_2 = ColumnTransformer(\n",
    "    [\n",
    "        (\"ntd_metrics\", StandardScaler(), numerical_cols),\n",
    "        (\"categorical\", OneHotEncoder(\n",
    "            # drop=\"first\", \n",
    "            sparse_output=False\n",
    "        ), categorical_cols)\n",
    "    ]\n",
    ")\n",
    "\n",
    "pipeline_2 = Pipeline(\n",
    "    [\n",
    "        (\"preprocessing\", preprocessor_2),\n",
    "        (\"clustering\", AgglomerativeClustering(n_clusters=10, linkage=\"ward\"))\n",
    "    ]\n",
    ")\n",
    "\n",
    "ntd_2023_fit_2 = ntd_2023_data.copy()\n",
    "\n",
    "ntd_2023_fit_2[\"cluster\"] = pipeline_2.fit_predict(ntd_2023_fit_2)"
   ]
  },
  {
   "cell_type": "code",
   "execution_count": null,
   "id": "1f5d1963-cec4-454f-b84f-413ab69c51df",
   "metadata": {
    "tags": []
   },
   "outputs": [],
   "source": [
    "feature_names_2= preprocessor_2.get_feature_names_out()\n",
    "\n",
    "display(list(feature_names_2)) # service_DO appears"
   ]
  },
  {
   "cell_type": "markdown",
   "id": "bc88cb20-8ad7-4bf2-8e32-d00253e5ece2",
   "metadata": {
    "tags": []
   },
   "source": [
    "## Using utils function to cluster"
   ]
  },
  {
   "cell_type": "markdown",
   "id": "50d48193-f514-4bcd-bd55-02322e74cac0",
   "metadata": {},
   "source": [
    "### Group Datset by `mode_group`"
   ]
  },
  {
   "cell_type": "code",
   "execution_count": 16,
   "id": "222262a6-8562-4bf1-8909-6c2c6b825fa6",
   "metadata": {
    "tags": []
   },
   "outputs": [],
   "source": [
    "ntd_2023_grouped = ntd_2023_data.groupby(id_cols+[\"mode_group\"]).agg({\n",
    "    num_col:\"sum\" for num_col in numerical_cols\n",
    "}).reset_index()\n"
   ]
  },
  {
   "cell_type": "markdown",
   "id": "3fe1c3cc-8966-46bb-8c75-c25c9a2b3a7d",
   "metadata": {},
   "source": [
    "### grouped 2023 data, all modes"
   ]
  },
  {
   "cell_type": "code",
   "execution_count": 28,
   "id": "1e416cb8-1564-43eb-b9fc-694921263e46",
   "metadata": {
    "scrolled": true,
    "tags": []
   },
   "outputs": [],
   "source": [
    "cluster_2023 = make_hierarchal_clustering(\n",
    "    data = ntd_2023_grouped,\n",
    "    num_cols = numerical_cols,\n",
    "    cat_cols = [\"mode_group\"],\n",
    "    cluster_num = 10\n",
    ")\n",
    "\n",
    "z_cluster_2023 = make_dendrogram_data(\n",
    "    data = cluster_2023,\n",
    "    num_cols = numerical_cols,\n",
    "    cat_cols = [\"mode_group\"]\n",
    ")\n",
    "\n",
    "display(cluster_2023[\"cluster_name\"].value_counts())\n",
    "\n",
    "plt.figure(figsize=(20, 10))\n",
    "dendrogram(\n",
    "    z_cluster_2023, \n",
    "    labels=cluster_2023[\"source_agency\"].tolist(), \n",
    "    leaf_rotation=90\n",
    ")\n",
    "plt.title(\"Dendrogram (Ward's Method)\")\n",
    "plt.xlabel(\"ntd_id\")\n",
    "plt.ylabel(\"Distance\")\n",
    "plt.tight_layout()\n",
    "plt.show()\n",
    "\n",
    "for i in cluster_2023[\"cluster_name\"].unique():\n",
    "    print(f\"\"\"\n",
    "    \\n How many unique agencies are in Cluster {i}: {cluster_2023[cluster_2023['cluster_name']==i][\"source_agency\"].nunique()}\n",
    "    Cluster {i} sample:\"\"\")\n",
    "    display(cluster_2023[cluster_2023[\"cluster_name\"]==i].head()),\n",
    "    print(f\"\\nCluster {i} summary stats:\")\n",
    "    display(cluster_2023[cluster_2023[\"cluster_name\"]==i].describe())"
   ]
  },
  {
   "cell_type": "markdown",
   "id": "fa87284d-3db4-4a92-bae3-7dc9975cb174",
   "metadata": {},
   "source": [
    "### 2023 data, non-fixed route modes"
   ]
  },
  {
   "cell_type": "code",
   "execution_count": 36,
   "id": "0066d688-936d-4e25-b619-877d21180951",
   "metadata": {
    "tags": []
   },
   "outputs": [],
   "source": [
    "nonfixed_guideway = ntd_2023_grouped[ntd_2023_grouped[\"mode_group\"]==\"nonfixed_guideway\"]"
   ]
  },
  {
   "cell_type": "code",
   "execution_count": 45,
   "id": "a353b36a-60cd-49ad-9fcb-9ae6f48e80b1",
   "metadata": {
    "scrolled": true,
    "tags": []
   },
   "outputs": [
    {
     "data": {
      "text/plain": [
       "4    226\n",
       "6     12\n",
       "0      3\n",
       "2      2\n",
       "1      2\n",
       "7      1\n",
       "5      1\n",
       "9      1\n",
       "8      1\n",
       "3      1\n",
       "Name: cluster_name, dtype: int64"
      ]
     },
     "metadata": {},
     "output_type": "display_data"
    },
    {
     "data": {
      "image/png": "[encoded data removed]",
      "text/plain": [
       "<Figure size 1500x500 with 1 Axes>"
      ]
     },
     "metadata": {},
     "output_type": "display_data"
    },
    {
     "name": "stdout",
     "output_type": "stream",
     "text": [
      "\n",
      "    \n",
      " How many unique agencies are in Cluster 2: 2\n",
      "    Cluster 2 sample:\n"
     ]
    },
    {
     "data": {
      "text/html": [
       "<div>\n",
       "<style scoped>\n",
       "    .dataframe tbody tr th:only-of-type {\n",
       "        vertical-align: middle;\n",
       "    }\n",
       "\n",
       "    .dataframe tbody tr th {\n",
       "        vertical-align: top;\n",
       "    }\n",
       "\n",
       "    .dataframe thead th {\n",
       "        text-align: right;\n",
       "    }\n",
       "</style>\n",
       "<table border=\"1\" class=\"dataframe\">\n",
       "  <thead>\n",
       "    <tr style=\"text-align: right;\">\n",
       "      <th></th>\n",
       "      <th>ntd_id</th>\n",
       "      <th>source_agency</th>\n",
       "      <th>city</th>\n",
       "      <th>primary_uza_name</th>\n",
       "      <th>mode_group</th>\n",
       "      <th>total_upt</th>\n",
       "      <th>total_vrh</th>\n",
       "      <th>total_vrm</th>\n",
       "      <th>opexp_total</th>\n",
       "      <th>total_voms</th>\n",
       "      <th>cluster_name</th>\n",
       "    </tr>\n",
       "  </thead>\n",
       "  <tbody>\n",
       "    <tr>\n",
       "      <th>1</th>\n",
       "      <td>90003</td>\n",
       "      <td>San Francisco Bay Area Rapid Transit District ...</td>\n",
       "      <td>Oakland</td>\n",
       "      <td>San Francisco--Oakland, CA</td>\n",
       "      <td>nonfixed_guideway</td>\n",
       "      <td>0</td>\n",
       "      <td>681018500</td>\n",
       "      <td>21308437250</td>\n",
       "      <td>195646239500</td>\n",
       "      <td>145500</td>\n",
       "      <td>2</td>\n",
       "    </tr>\n",
       "    <tr>\n",
       "      <th>6</th>\n",
       "      <td>90009</td>\n",
       "      <td>San Mateo County Transit District (SMCTD)</td>\n",
       "      <td>San Carlos</td>\n",
       "      <td>San Francisco--Oakland, CA</td>\n",
       "      <td>nonfixed_guideway</td>\n",
       "      <td>11370903120</td>\n",
       "      <td>844783344</td>\n",
       "      <td>10100632608</td>\n",
       "      <td>249542380368</td>\n",
       "      <td>428976</td>\n",
       "      <td>2</td>\n",
       "    </tr>\n",
       "  </tbody>\n",
       "</table>\n",
       "</div>"
      ],
      "text/plain": [
       "  ntd_id                                      source_agency        city  \\\n",
       "1  90003  San Francisco Bay Area Rapid Transit District ...     Oakland   \n",
       "6  90009          San Mateo County Transit District (SMCTD)  San Carlos   \n",
       "\n",
       "             primary_uza_name         mode_group    total_upt  total_vrh  \\\n",
       "1  San Francisco--Oakland, CA  nonfixed_guideway            0  681018500   \n",
       "6  San Francisco--Oakland, CA  nonfixed_guideway  11370903120  844783344   \n",
       "\n",
       "     total_vrm   opexp_total  total_voms  cluster_name  \n",
       "1  21308437250  195646239500      145500             2  \n",
       "6  10100632608  249542380368      428976             2  "
      ]
     },
     "metadata": {},
     "output_type": "display_data"
    },
    {
     "name": "stdout",
     "output_type": "stream",
     "text": [
      "\n",
      "Cluster 2 summary stats:\n"
     ]
    },
    {
     "data": {
      "text/html": [
       "<div>\n",
       "<style scoped>\n",
       "    .dataframe tbody tr th:only-of-type {\n",
       "        vertical-align: middle;\n",
       "    }\n",
       "\n",
       "    .dataframe tbody tr th {\n",
       "        vertical-align: top;\n",
       "    }\n",
       "\n",
       "    .dataframe thead th {\n",
       "        text-align: right;\n",
       "    }\n",
       "</style>\n",
       "<table border=\"1\" class=\"dataframe\">\n",
       "  <thead>\n",
       "    <tr style=\"text-align: right;\">\n",
       "      <th></th>\n",
       "      <th>total_upt</th>\n",
       "      <th>total_vrh</th>\n",
       "      <th>total_vrm</th>\n",
       "      <th>opexp_total</th>\n",
       "      <th>total_voms</th>\n",
       "      <th>cluster_name</th>\n",
       "    </tr>\n",
       "  </thead>\n",
       "  <tbody>\n",
       "    <tr>\n",
       "      <th>count</th>\n",
       "      <td>2.000000e+00</td>\n",
       "      <td>2.000000e+00</td>\n",
       "      <td>2.000000e+00</td>\n",
       "      <td>2.000000e+00</td>\n",
       "      <td>2.000000</td>\n",
       "      <td>2.0</td>\n",
       "    </tr>\n",
       "    <tr>\n",
       "      <th>mean</th>\n",
       "      <td>5.685452e+09</td>\n",
       "      <td>7.629009e+08</td>\n",
       "      <td>1.570453e+10</td>\n",
       "      <td>2.225943e+11</td>\n",
       "      <td>287238.000000</td>\n",
       "      <td>2.0</td>\n",
       "    </tr>\n",
       "    <tr>\n",
       "      <th>std</th>\n",
       "      <td>8.040443e+09</td>\n",
       "      <td>1.157992e+08</td>\n",
       "      <td>7.925115e+09</td>\n",
       "      <td>3.811033e+10</td>\n",
       "      <td>200447.801904</td>\n",
       "      <td>0.0</td>\n",
       "    </tr>\n",
       "    <tr>\n",
       "      <th>min</th>\n",
       "      <td>0.000000e+00</td>\n",
       "      <td>6.810185e+08</td>\n",
       "      <td>1.010063e+10</td>\n",
       "      <td>1.956462e+11</td>\n",
       "      <td>145500.000000</td>\n",
       "      <td>2.0</td>\n",
       "    </tr>\n",
       "    <tr>\n",
       "      <th>25%</th>\n",
       "      <td>2.842726e+09</td>\n",
       "      <td>7.219597e+08</td>\n",
       "      <td>1.290258e+10</td>\n",
       "      <td>2.091203e+11</td>\n",
       "      <td>216369.000000</td>\n",
       "      <td>2.0</td>\n",
       "    </tr>\n",
       "    <tr>\n",
       "      <th>50%</th>\n",
       "      <td>5.685452e+09</td>\n",
       "      <td>7.629009e+08</td>\n",
       "      <td>1.570453e+10</td>\n",
       "      <td>2.225943e+11</td>\n",
       "      <td>287238.000000</td>\n",
       "      <td>2.0</td>\n",
       "    </tr>\n",
       "    <tr>\n",
       "      <th>75%</th>\n",
       "      <td>8.528177e+09</td>\n",
       "      <td>8.038421e+08</td>\n",
       "      <td>1.850649e+10</td>\n",
       "      <td>2.360683e+11</td>\n",
       "      <td>358107.000000</td>\n",
       "      <td>2.0</td>\n",
       "    </tr>\n",
       "    <tr>\n",
       "      <th>max</th>\n",
       "      <td>1.137090e+10</td>\n",
       "      <td>8.447833e+08</td>\n",
       "      <td>2.130844e+10</td>\n",
       "      <td>2.495424e+11</td>\n",
       "      <td>428976.000000</td>\n",
       "      <td>2.0</td>\n",
       "    </tr>\n",
       "  </tbody>\n",
       "</table>\n",
       "</div>"
      ],
      "text/plain": [
       "          total_upt     total_vrh     total_vrm   opexp_total     total_voms  \\\n",
       "count  2.000000e+00  2.000000e+00  2.000000e+00  2.000000e+00       2.000000   \n",
       "mean   5.685452e+09  7.629009e+08  1.570453e+10  2.225943e+11  287238.000000   \n",
       "std    8.040443e+09  1.157992e+08  7.925115e+09  3.811033e+10  200447.801904   \n",
       "min    0.000000e+00  6.810185e+08  1.010063e+10  1.956462e+11  145500.000000   \n",
       "25%    2.842726e+09  7.219597e+08  1.290258e+10  2.091203e+11  216369.000000   \n",
       "50%    5.685452e+09  7.629009e+08  1.570453e+10  2.225943e+11  287238.000000   \n",
       "75%    8.528177e+09  8.038421e+08  1.850649e+10  2.360683e+11  358107.000000   \n",
       "max    1.137090e+10  8.447833e+08  2.130844e+10  2.495424e+11  428976.000000   \n",
       "\n",
       "       cluster_name  \n",
       "count           2.0  \n",
       "mean            2.0  \n",
       "std             0.0  \n",
       "min             2.0  \n",
       "25%             2.0  \n",
       "50%             2.0  \n",
       "75%             2.0  \n",
       "max             2.0  "
      ]
     },
     "metadata": {},
     "output_type": "display_data"
    },
    {
     "name": "stdout",
     "output_type": "stream",
     "text": [
      "\n",
      "    \n",
      " How many unique agencies are in Cluster 4: 226\n",
      "    Cluster 4 sample:\n"
     ]
    },
    {
     "data": {
      "text/html": [
       "<div>\n",
       "<style scoped>\n",
       "    .dataframe tbody tr th:only-of-type {\n",
       "        vertical-align: middle;\n",
       "    }\n",
       "\n",
       "    .dataframe tbody tr th {\n",
       "        vertical-align: top;\n",
       "    }\n",
       "\n",
       "    .dataframe thead th {\n",
       "        text-align: right;\n",
       "    }\n",
       "</style>\n",
       "<table border=\"1\" class=\"dataframe\">\n",
       "  <thead>\n",
       "    <tr style=\"text-align: right;\">\n",
       "      <th></th>\n",
       "      <th>ntd_id</th>\n",
       "      <th>source_agency</th>\n",
       "      <th>city</th>\n",
       "      <th>primary_uza_name</th>\n",
       "      <th>mode_group</th>\n",
       "      <th>total_upt</th>\n",
       "      <th>total_vrh</th>\n",
       "      <th>total_vrm</th>\n",
       "      <th>opexp_total</th>\n",
       "      <th>total_voms</th>\n",
       "      <th>cluster_name</th>\n",
       "    </tr>\n",
       "  </thead>\n",
       "  <tbody>\n",
       "    <tr>\n",
       "      <th>2</th>\n",
       "      <td>90004</td>\n",
       "      <td>Golden Empire Transit District (GET)</td>\n",
       "      <td>Bakersfield</td>\n",
       "      <td>Bakersfield, CA</td>\n",
       "      <td>nonfixed_guideway</td>\n",
       "      <td>266781033</td>\n",
       "      <td>23436378</td>\n",
       "      <td>317845296</td>\n",
       "      <td>2960905266</td>\n",
       "      <td>7209</td>\n",
       "      <td>4</td>\n",
       "    </tr>\n",
       "    <tr>\n",
       "      <th>4</th>\n",
       "      <td>90007</td>\n",
       "      <td>City of Modesto (MAX)</td>\n",
       "      <td>none</td>\n",
       "      <td>Modesto, CA</td>\n",
       "      <td>nonfixed_guideway</td>\n",
       "      <td>0</td>\n",
       "      <td>0</td>\n",
       "      <td>0</td>\n",
       "      <td>0</td>\n",
       "      <td>0</td>\n",
       "      <td>4</td>\n",
       "    </tr>\n",
       "    <tr>\n",
       "      <th>14</th>\n",
       "      <td>90016</td>\n",
       "      <td>Golden Gate Bridge, Highway and Transportation...</td>\n",
       "      <td>San Francisco</td>\n",
       "      <td>San Francisco--Oakland, CA</td>\n",
       "      <td>nonfixed_guideway</td>\n",
       "      <td>338146048</td>\n",
       "      <td>27674880</td>\n",
       "      <td>460013760</td>\n",
       "      <td>22968043392</td>\n",
       "      <td>11904</td>\n",
       "      <td>4</td>\n",
       "    </tr>\n",
       "    <tr>\n",
       "      <th>16</th>\n",
       "      <td>90017</td>\n",
       "      <td>City of Santa Rosa - Transit Division</td>\n",
       "      <td>Santa Rosa</td>\n",
       "      <td>Santa Rosa, CA</td>\n",
       "      <td>nonfixed_guideway</td>\n",
       "      <td>106899426</td>\n",
       "      <td>6831216</td>\n",
       "      <td>76119102</td>\n",
       "      <td>1105818399</td>\n",
       "      <td>2349</td>\n",
       "      <td>4</td>\n",
       "    </tr>\n",
       "    <tr>\n",
       "      <th>21</th>\n",
       "      <td>90021</td>\n",
       "      <td>Los Angeles County Metropolitan Transportation...</td>\n",
       "      <td>none</td>\n",
       "      <td>Los Angeles--Long Beach--Anaheim, CA</td>\n",
       "      <td>nonfixed_guideway</td>\n",
       "      <td>0</td>\n",
       "      <td>0</td>\n",
       "      <td>0</td>\n",
       "      <td>0</td>\n",
       "      <td>0</td>\n",
       "      <td>4</td>\n",
       "    </tr>\n",
       "  </tbody>\n",
       "</table>\n",
       "</div>"
      ],
      "text/plain": [
       "   ntd_id                                      source_agency           city  \\\n",
       "2   90004               Golden Empire Transit District (GET)    Bakersfield   \n",
       "4   90007                              City of Modesto (MAX)           none   \n",
       "14  90016  Golden Gate Bridge, Highway and Transportation...  San Francisco   \n",
       "16  90017              City of Santa Rosa - Transit Division     Santa Rosa   \n",
       "21  90021  Los Angeles County Metropolitan Transportation...           none   \n",
       "\n",
       "                        primary_uza_name         mode_group  total_upt  \\\n",
       "2                        Bakersfield, CA  nonfixed_guideway  266781033   \n",
       "4                            Modesto, CA  nonfixed_guideway          0   \n",
       "14            San Francisco--Oakland, CA  nonfixed_guideway  338146048   \n",
       "16                        Santa Rosa, CA  nonfixed_guideway  106899426   \n",
       "21  Los Angeles--Long Beach--Anaheim, CA  nonfixed_guideway          0   \n",
       "\n",
       "    total_vrh  total_vrm  opexp_total  total_voms  cluster_name  \n",
       "2    23436378  317845296   2960905266        7209             4  \n",
       "4           0          0            0           0             4  \n",
       "14   27674880  460013760  22968043392       11904             4  \n",
       "16    6831216   76119102   1105818399        2349             4  \n",
       "21          0          0            0           0             4  "
      ]
     },
     "metadata": {},
     "output_type": "display_data"
    },
    {
     "name": "stdout",
     "output_type": "stream",
     "text": [
      "\n",
      "Cluster 4 summary stats:\n"
     ]
    },
    {
     "data": {
      "text/html": [
       "<div>\n",
       "<style scoped>\n",
       "    .dataframe tbody tr th:only-of-type {\n",
       "        vertical-align: middle;\n",
       "    }\n",
       "\n",
       "    .dataframe tbody tr th {\n",
       "        vertical-align: top;\n",
       "    }\n",
       "\n",
       "    .dataframe thead th {\n",
       "        text-align: right;\n",
       "    }\n",
       "</style>\n",
       "<table border=\"1\" class=\"dataframe\">\n",
       "  <thead>\n",
       "    <tr style=\"text-align: right;\">\n",
       "      <th></th>\n",
       "      <th>total_upt</th>\n",
       "      <th>total_vrh</th>\n",
       "      <th>total_vrm</th>\n",
       "      <th>opexp_total</th>\n",
       "      <th>total_voms</th>\n",
       "      <th>cluster_name</th>\n",
       "    </tr>\n",
       "  </thead>\n",
       "  <tbody>\n",
       "    <tr>\n",
       "      <th>count</th>\n",
       "      <td>2.260000e+02</td>\n",
       "      <td>2.260000e+02</td>\n",
       "      <td>2.260000e+02</td>\n",
       "      <td>2.260000e+02</td>\n",
       "      <td>226.000000</td>\n",
       "      <td>226.0</td>\n",
       "    </tr>\n",
       "    <tr>\n",
       "      <th>mean</th>\n",
       "      <td>3.015625e+07</td>\n",
       "      <td>3.563901e+06</td>\n",
       "      <td>5.674015e+07</td>\n",
       "      <td>5.766812e+08</td>\n",
       "      <td>1765.287611</td>\n",
       "      <td>4.0</td>\n",
       "    </tr>\n",
       "    <tr>\n",
       "      <th>std</th>\n",
       "      <td>8.758801e+07</td>\n",
       "      <td>1.022764e+07</td>\n",
       "      <td>1.672354e+08</td>\n",
       "      <td>2.044182e+09</td>\n",
       "      <td>4619.415844</td>\n",
       "      <td>0.0</td>\n",
       "    </tr>\n",
       "    <tr>\n",
       "      <th>min</th>\n",
       "      <td>0.000000e+00</td>\n",
       "      <td>0.000000e+00</td>\n",
       "      <td>0.000000e+00</td>\n",
       "      <td>0.000000e+00</td>\n",
       "      <td>0.000000</td>\n",
       "      <td>4.0</td>\n",
       "    </tr>\n",
       "    <tr>\n",
       "      <th>25%</th>\n",
       "      <td>6.992250e+03</td>\n",
       "      <td>3.336750e+03</td>\n",
       "      <td>3.238000e+04</td>\n",
       "      <td>4.309695e+05</td>\n",
       "      <td>3.000000</td>\n",
       "      <td>4.0</td>\n",
       "    </tr>\n",
       "    <tr>\n",
       "      <th>50%</th>\n",
       "      <td>7.432300e+05</td>\n",
       "      <td>2.001920e+05</td>\n",
       "      <td>2.256872e+06</td>\n",
       "      <td>1.904360e+07</td>\n",
       "      <td>128.000000</td>\n",
       "      <td>4.0</td>\n",
       "    </tr>\n",
       "    <tr>\n",
       "      <th>75%</th>\n",
       "      <td>9.644576e+06</td>\n",
       "      <td>1.626178e+06</td>\n",
       "      <td>2.090256e+07</td>\n",
       "      <td>2.290462e+08</td>\n",
       "      <td>969.000000</td>\n",
       "      <td>4.0</td>\n",
       "    </tr>\n",
       "    <tr>\n",
       "      <th>max</th>\n",
       "      <td>6.742484e+08</td>\n",
       "      <td>8.570312e+07</td>\n",
       "      <td>1.373459e+09</td>\n",
       "      <td>2.296804e+10</td>\n",
       "      <td>33453.000000</td>\n",
       "      <td>4.0</td>\n",
       "    </tr>\n",
       "  </tbody>\n",
       "</table>\n",
       "</div>"
      ],
      "text/plain": [
       "          total_upt     total_vrh     total_vrm   opexp_total    total_voms  \\\n",
       "count  2.260000e+02  2.260000e+02  2.260000e+02  2.260000e+02    226.000000   \n",
       "mean   3.015625e+07  3.563901e+06  5.674015e+07  5.766812e+08   1765.287611   \n",
       "std    8.758801e+07  1.022764e+07  1.672354e+08  2.044182e+09   4619.415844   \n",
       "min    0.000000e+00  0.000000e+00  0.000000e+00  0.000000e+00      0.000000   \n",
       "25%    6.992250e+03  3.336750e+03  3.238000e+04  4.309695e+05      3.000000   \n",
       "50%    7.432300e+05  2.001920e+05  2.256872e+06  1.904360e+07    128.000000   \n",
       "75%    9.644576e+06  1.626178e+06  2.090256e+07  2.290462e+08    969.000000   \n",
       "max    6.742484e+08  8.570312e+07  1.373459e+09  2.296804e+10  33453.000000   \n",
       "\n",
       "       cluster_name  \n",
       "count         226.0  \n",
       "mean            4.0  \n",
       "std             0.0  \n",
       "min             4.0  \n",
       "25%             4.0  \n",
       "50%             4.0  \n",
       "75%             4.0  \n",
       "max             4.0  "
      ]
     },
     "metadata": {},
     "output_type": "display_data"
    },
    {
     "name": "stdout",
     "output_type": "stream",
     "text": [
      "\n",
      "    \n",
      " How many unique agencies are in Cluster 6: 12\n",
      "    Cluster 6 sample:\n"
     ]
    },
    {
     "data": {
      "text/html": [
       "<div>\n",
       "<style scoped>\n",
       "    .dataframe tbody tr th:only-of-type {\n",
       "        vertical-align: middle;\n",
       "    }\n",
       "\n",
       "    .dataframe tbody tr th {\n",
       "        vertical-align: top;\n",
       "    }\n",
       "\n",
       "    .dataframe thead th {\n",
       "        text-align: right;\n",
       "    }\n",
       "</style>\n",
       "<table border=\"1\" class=\"dataframe\">\n",
       "  <thead>\n",
       "    <tr style=\"text-align: right;\">\n",
       "      <th></th>\n",
       "      <th>ntd_id</th>\n",
       "      <th>source_agency</th>\n",
       "      <th>city</th>\n",
       "      <th>primary_uza_name</th>\n",
       "      <th>mode_group</th>\n",
       "      <th>total_upt</th>\n",
       "      <th>total_vrh</th>\n",
       "      <th>total_vrm</th>\n",
       "      <th>opexp_total</th>\n",
       "      <th>total_voms</th>\n",
       "      <th>cluster_name</th>\n",
       "    </tr>\n",
       "  </thead>\n",
       "  <tbody>\n",
       "    <tr>\n",
       "      <th>3</th>\n",
       "      <td>90006</td>\n",
       "      <td>Santa Cruz Metropolitan Transit District (SCMTD)</td>\n",
       "      <td>Santa Cruz</td>\n",
       "      <td>Santa Cruz, CA</td>\n",
       "      <td>nonfixed_guideway</td>\n",
       "      <td>4341633696</td>\n",
       "      <td>278313408</td>\n",
       "      <td>3855763296</td>\n",
       "      <td>62945840016</td>\n",
       "      <td>120528</td>\n",
       "      <td>6</td>\n",
       "    </tr>\n",
       "    <tr>\n",
       "      <th>5</th>\n",
       "      <td>90008</td>\n",
       "      <td>City of Santa Monica (BBB) - Department of Tra...</td>\n",
       "      <td>Santa Monica</td>\n",
       "      <td>Los Angeles--Long Beach--Anaheim, CA</td>\n",
       "      <td>nonfixed_guideway</td>\n",
       "      <td>4854828125</td>\n",
       "      <td>260590000</td>\n",
       "      <td>2450246875</td>\n",
       "      <td>50485795000</td>\n",
       "      <td>89375</td>\n",
       "      <td>6</td>\n",
       "    </tr>\n",
       "    <tr>\n",
       "      <th>7</th>\n",
       "      <td>90010</td>\n",
       "      <td>City of Torrance (TTS) - Transit Department</td>\n",
       "      <td>Torrance</td>\n",
       "      <td>Los Angeles--Long Beach--Anaheim, CA</td>\n",
       "      <td>nonfixed_guideway</td>\n",
       "      <td>2384742384</td>\n",
       "      <td>134169696</td>\n",
       "      <td>1818096192</td>\n",
       "      <td>33137987760</td>\n",
       "      <td>95904</td>\n",
       "      <td>6</td>\n",
       "    </tr>\n",
       "    <tr>\n",
       "      <th>19</th>\n",
       "      <td>90020</td>\n",
       "      <td>Santa Barbara Metropolitan Transit District (S...</td>\n",
       "      <td>Santa Barbara</td>\n",
       "      <td>Santa Barbara, CA</td>\n",
       "      <td>nonfixed_guideway</td>\n",
       "      <td>2834047500</td>\n",
       "      <td>105446250</td>\n",
       "      <td>1278271875</td>\n",
       "      <td>16932812500</td>\n",
       "      <td>39375</td>\n",
       "      <td>6</td>\n",
       "    </tr>\n",
       "    <tr>\n",
       "      <th>23</th>\n",
       "      <td>90023</td>\n",
       "      <td>Long Beach Transit (LBT)</td>\n",
       "      <td>Long Beach</td>\n",
       "      <td>Los Angeles--Long Beach--Anaheim, CA</td>\n",
       "      <td>nonfixed_guideway</td>\n",
       "      <td>10501878125</td>\n",
       "      <td>328398500</td>\n",
       "      <td>3246311500</td>\n",
       "      <td>56129280000</td>\n",
       "      <td>83500</td>\n",
       "      <td>6</td>\n",
       "    </tr>\n",
       "  </tbody>\n",
       "</table>\n",
       "</div>"
      ],
      "text/plain": [
       "   ntd_id                                      source_agency           city  \\\n",
       "3   90006   Santa Cruz Metropolitan Transit District (SCMTD)     Santa Cruz   \n",
       "5   90008  City of Santa Monica (BBB) - Department of Tra...   Santa Monica   \n",
       "7   90010        City of Torrance (TTS) - Transit Department       Torrance   \n",
       "19  90020  Santa Barbara Metropolitan Transit District (S...  Santa Barbara   \n",
       "23  90023                           Long Beach Transit (LBT)     Long Beach   \n",
       "\n",
       "                        primary_uza_name         mode_group    total_upt  \\\n",
       "3                         Santa Cruz, CA  nonfixed_guideway   4341633696   \n",
       "5   Los Angeles--Long Beach--Anaheim, CA  nonfixed_guideway   4854828125   \n",
       "7   Los Angeles--Long Beach--Anaheim, CA  nonfixed_guideway   2384742384   \n",
       "19                     Santa Barbara, CA  nonfixed_guideway   2834047500   \n",
       "23  Los Angeles--Long Beach--Anaheim, CA  nonfixed_guideway  10501878125   \n",
       "\n",
       "    total_vrh   total_vrm  opexp_total  total_voms  cluster_name  \n",
       "3   278313408  3855763296  62945840016      120528             6  \n",
       "5   260590000  2450246875  50485795000       89375             6  \n",
       "7   134169696  1818096192  33137987760       95904             6  \n",
       "19  105446250  1278271875  16932812500       39375             6  \n",
       "23  328398500  3246311500  56129280000       83500             6  "
      ]
     },
     "metadata": {},
     "output_type": "display_data"
    },
    {
     "name": "stdout",
     "output_type": "stream",
     "text": [
      "\n",
      "Cluster 6 summary stats:\n"
     ]
    },
    {
     "data": {
      "text/html": [
       "<div>\n",
       "<style scoped>\n",
       "    .dataframe tbody tr th:only-of-type {\n",
       "        vertical-align: middle;\n",
       "    }\n",
       "\n",
       "    .dataframe tbody tr th {\n",
       "        vertical-align: top;\n",
       "    }\n",
       "\n",
       "    .dataframe thead th {\n",
       "        text-align: right;\n",
       "    }\n",
       "</style>\n",
       "<table border=\"1\" class=\"dataframe\">\n",
       "  <thead>\n",
       "    <tr style=\"text-align: right;\">\n",
       "      <th></th>\n",
       "      <th>total_upt</th>\n",
       "      <th>total_vrh</th>\n",
       "      <th>total_vrm</th>\n",
       "      <th>opexp_total</th>\n",
       "      <th>total_voms</th>\n",
       "      <th>cluster_name</th>\n",
       "    </tr>\n",
       "  </thead>\n",
       "  <tbody>\n",
       "    <tr>\n",
       "      <th>count</th>\n",
       "      <td>1.200000e+01</td>\n",
       "      <td>1.200000e+01</td>\n",
       "      <td>1.200000e+01</td>\n",
       "      <td>1.200000e+01</td>\n",
       "      <td>12.000000</td>\n",
       "      <td>12.0</td>\n",
       "    </tr>\n",
       "    <tr>\n",
       "      <th>mean</th>\n",
       "      <td>4.133634e+09</td>\n",
       "      <td>2.673126e+08</td>\n",
       "      <td>3.681424e+09</td>\n",
       "      <td>4.494376e+10</td>\n",
       "      <td>122254.250000</td>\n",
       "      <td>6.0</td>\n",
       "    </tr>\n",
       "    <tr>\n",
       "      <th>std</th>\n",
       "      <td>3.291951e+09</td>\n",
       "      <td>1.437038e+08</td>\n",
       "      <td>2.011490e+09</td>\n",
       "      <td>2.282101e+10</td>\n",
       "      <td>68759.037519</td>\n",
       "      <td>0.0</td>\n",
       "    </tr>\n",
       "    <tr>\n",
       "      <th>min</th>\n",
       "      <td>2.871753e+08</td>\n",
       "      <td>8.403635e+07</td>\n",
       "      <td>1.278272e+09</td>\n",
       "      <td>9.316946e+09</td>\n",
       "      <td>39375.000000</td>\n",
       "      <td>6.0</td>\n",
       "    </tr>\n",
       "    <tr>\n",
       "      <th>25%</th>\n",
       "      <td>2.208796e+09</td>\n",
       "      <td>1.478129e+08</td>\n",
       "      <td>2.418169e+09</td>\n",
       "      <td>2.484077e+10</td>\n",
       "      <td>73618.000000</td>\n",
       "      <td>6.0</td>\n",
       "    </tr>\n",
       "    <tr>\n",
       "      <th>50%</th>\n",
       "      <td>3.129097e+09</td>\n",
       "      <td>2.694517e+08</td>\n",
       "      <td>2.917916e+09</td>\n",
       "      <td>5.330754e+10</td>\n",
       "      <td>92639.500000</td>\n",
       "      <td>6.0</td>\n",
       "    </tr>\n",
       "    <tr>\n",
       "      <th>75%</th>\n",
       "      <td>5.250561e+09</td>\n",
       "      <td>3.544161e+08</td>\n",
       "      <td>4.615413e+09</td>\n",
       "      <td>6.312150e+10</td>\n",
       "      <td>195405.250000</td>\n",
       "      <td>6.0</td>\n",
       "    </tr>\n",
       "    <tr>\n",
       "      <th>max</th>\n",
       "      <td>1.050188e+10</td>\n",
       "      <td>5.227350e+08</td>\n",
       "      <td>7.867703e+09</td>\n",
       "      <td>7.259978e+10</td>\n",
       "      <td>231250.000000</td>\n",
       "      <td>6.0</td>\n",
       "    </tr>\n",
       "  </tbody>\n",
       "</table>\n",
       "</div>"
      ],
      "text/plain": [
       "          total_upt     total_vrh     total_vrm   opexp_total     total_voms  \\\n",
       "count  1.200000e+01  1.200000e+01  1.200000e+01  1.200000e+01      12.000000   \n",
       "mean   4.133634e+09  2.673126e+08  3.681424e+09  4.494376e+10  122254.250000   \n",
       "std    3.291951e+09  1.437038e+08  2.011490e+09  2.282101e+10   68759.037519   \n",
       "min    2.871753e+08  8.403635e+07  1.278272e+09  9.316946e+09   39375.000000   \n",
       "25%    2.208796e+09  1.478129e+08  2.418169e+09  2.484077e+10   73618.000000   \n",
       "50%    3.129097e+09  2.694517e+08  2.917916e+09  5.330754e+10   92639.500000   \n",
       "75%    5.250561e+09  3.544161e+08  4.615413e+09  6.312150e+10  195405.250000   \n",
       "max    1.050188e+10  5.227350e+08  7.867703e+09  7.259978e+10  231250.000000   \n",
       "\n",
       "       cluster_name  \n",
       "count          12.0  \n",
       "mean            6.0  \n",
       "std             0.0  \n",
       "min             6.0  \n",
       "25%             6.0  \n",
       "50%             6.0  \n",
       "75%             6.0  \n",
       "max             6.0  "
      ]
     },
     "metadata": {},
     "output_type": "display_data"
    },
    {
     "name": "stdout",
     "output_type": "stream",
     "text": [
      "\n",
      "    \n",
      " How many unique agencies are in Cluster 0: 3\n",
      "    Cluster 0 sample:\n"
     ]
    },
    {
     "data": {
      "text/html": [
       "<div>\n",
       "<style scoped>\n",
       "    .dataframe tbody tr th:only-of-type {\n",
       "        vertical-align: middle;\n",
       "    }\n",
       "\n",
       "    .dataframe tbody tr th {\n",
       "        vertical-align: top;\n",
       "    }\n",
       "\n",
       "    .dataframe thead th {\n",
       "        text-align: right;\n",
       "    }\n",
       "</style>\n",
       "<table border=\"1\" class=\"dataframe\">\n",
       "  <thead>\n",
       "    <tr style=\"text-align: right;\">\n",
       "      <th></th>\n",
       "      <th>ntd_id</th>\n",
       "      <th>source_agency</th>\n",
       "      <th>city</th>\n",
       "      <th>primary_uza_name</th>\n",
       "      <th>mode_group</th>\n",
       "      <th>total_upt</th>\n",
       "      <th>total_vrh</th>\n",
       "      <th>total_vrm</th>\n",
       "      <th>opexp_total</th>\n",
       "      <th>total_voms</th>\n",
       "      <th>cluster_name</th>\n",
       "    </tr>\n",
       "  </thead>\n",
       "  <tbody>\n",
       "    <tr>\n",
       "      <th>8</th>\n",
       "      <td>90012</td>\n",
       "      <td>San Joaquin Regional Transit District (RTD)</td>\n",
       "      <td>Stockton</td>\n",
       "      <td>Stockton, CA</td>\n",
       "      <td>nonfixed_guideway</td>\n",
       "      <td>23017890000</td>\n",
       "      <td>1976640000</td>\n",
       "      <td>26122860000</td>\n",
       "      <td>423491840000</td>\n",
       "      <td>930000</td>\n",
       "      <td>0</td>\n",
       "    </tr>\n",
       "    <tr>\n",
       "      <th>11</th>\n",
       "      <td>90014</td>\n",
       "      <td>Alameda-Contra Costa Transit District</td>\n",
       "      <td>Oakland</td>\n",
       "      <td>San Francisco--Oakland, CA</td>\n",
       "      <td>nonfixed_guideway</td>\n",
       "      <td>45606313872</td>\n",
       "      <td>2653795872</td>\n",
       "      <td>28966434624</td>\n",
       "      <td>689999057280</td>\n",
       "      <td>803520</td>\n",
       "      <td>0</td>\n",
       "    </tr>\n",
       "    <tr>\n",
       "      <th>18</th>\n",
       "      <td>90019</td>\n",
       "      <td>Sacramento Regional Transit District</td>\n",
       "      <td>Sacramento</td>\n",
       "      <td>Sacramento, CA</td>\n",
       "      <td>nonfixed_guideway</td>\n",
       "      <td>19709203948</td>\n",
       "      <td>2097958128</td>\n",
       "      <td>28880955348</td>\n",
       "      <td>490542980466</td>\n",
       "      <td>769692</td>\n",
       "      <td>0</td>\n",
       "    </tr>\n",
       "  </tbody>\n",
       "</table>\n",
       "</div>"
      ],
      "text/plain": [
       "   ntd_id                                source_agency        city  \\\n",
       "8   90012  San Joaquin Regional Transit District (RTD)    Stockton   \n",
       "11  90014        Alameda-Contra Costa Transit District     Oakland   \n",
       "18  90019         Sacramento Regional Transit District  Sacramento   \n",
       "\n",
       "              primary_uza_name         mode_group    total_upt   total_vrh  \\\n",
       "8                 Stockton, CA  nonfixed_guideway  23017890000  1976640000   \n",
       "11  San Francisco--Oakland, CA  nonfixed_guideway  45606313872  2653795872   \n",
       "18              Sacramento, CA  nonfixed_guideway  19709203948  2097958128   \n",
       "\n",
       "      total_vrm   opexp_total  total_voms  cluster_name  \n",
       "8   26122860000  423491840000      930000             0  \n",
       "11  28966434624  689999057280      803520             0  \n",
       "18  28880955348  490542980466      769692             0  "
      ]
     },
     "metadata": {},
     "output_type": "display_data"
    },
    {
     "name": "stdout",
     "output_type": "stream",
     "text": [
      "\n",
      "Cluster 0 summary stats:\n"
     ]
    },
    {
     "data": {
      "text/html": [
       "<div>\n",
       "<style scoped>\n",
       "    .dataframe tbody tr th:only-of-type {\n",
       "        vertical-align: middle;\n",
       "    }\n",
       "\n",
       "    .dataframe tbody tr th {\n",
       "        vertical-align: top;\n",
       "    }\n",
       "\n",
       "    .dataframe thead th {\n",
       "        text-align: right;\n",
       "    }\n",
       "</style>\n",
       "<table border=\"1\" class=\"dataframe\">\n",
       "  <thead>\n",
       "    <tr style=\"text-align: right;\">\n",
       "      <th></th>\n",
       "      <th>total_upt</th>\n",
       "      <th>total_vrh</th>\n",
       "      <th>total_vrm</th>\n",
       "      <th>opexp_total</th>\n",
       "      <th>total_voms</th>\n",
       "      <th>cluster_name</th>\n",
       "    </tr>\n",
       "  </thead>\n",
       "  <tbody>\n",
       "    <tr>\n",
       "      <th>count</th>\n",
       "      <td>3.000000e+00</td>\n",
       "      <td>3.000000e+00</td>\n",
       "      <td>3.000000e+00</td>\n",
       "      <td>3.000000e+00</td>\n",
       "      <td>3.000000</td>\n",
       "      <td>3.0</td>\n",
       "    </tr>\n",
       "    <tr>\n",
       "      <th>mean</th>\n",
       "      <td>2.944447e+10</td>\n",
       "      <td>2.242798e+09</td>\n",
       "      <td>2.799008e+10</td>\n",
       "      <td>5.346780e+11</td>\n",
       "      <td>834404.000000</td>\n",
       "      <td>0.0</td>\n",
       "    </tr>\n",
       "    <tr>\n",
       "      <th>std</th>\n",
       "      <td>1.409400e+10</td>\n",
       "      <td>3.610664e+08</td>\n",
       "      <td>1.617628e+09</td>\n",
       "      <td>1.386270e+11</td>\n",
       "      <td>84498.697079</td>\n",
       "      <td>0.0</td>\n",
       "    </tr>\n",
       "    <tr>\n",
       "      <th>min</th>\n",
       "      <td>1.970920e+10</td>\n",
       "      <td>1.976640e+09</td>\n",
       "      <td>2.612286e+10</td>\n",
       "      <td>4.234918e+11</td>\n",
       "      <td>769692.000000</td>\n",
       "      <td>0.0</td>\n",
       "    </tr>\n",
       "    <tr>\n",
       "      <th>25%</th>\n",
       "      <td>2.136355e+10</td>\n",
       "      <td>2.037299e+09</td>\n",
       "      <td>2.750191e+10</td>\n",
       "      <td>4.570174e+11</td>\n",
       "      <td>786606.000000</td>\n",
       "      <td>0.0</td>\n",
       "    </tr>\n",
       "    <tr>\n",
       "      <th>50%</th>\n",
       "      <td>2.301789e+10</td>\n",
       "      <td>2.097958e+09</td>\n",
       "      <td>2.888096e+10</td>\n",
       "      <td>4.905430e+11</td>\n",
       "      <td>803520.000000</td>\n",
       "      <td>0.0</td>\n",
       "    </tr>\n",
       "    <tr>\n",
       "      <th>75%</th>\n",
       "      <td>3.431210e+10</td>\n",
       "      <td>2.375877e+09</td>\n",
       "      <td>2.892369e+10</td>\n",
       "      <td>5.902710e+11</td>\n",
       "      <td>866760.000000</td>\n",
       "      <td>0.0</td>\n",
       "    </tr>\n",
       "    <tr>\n",
       "      <th>max</th>\n",
       "      <td>4.560631e+10</td>\n",
       "      <td>2.653796e+09</td>\n",
       "      <td>2.896643e+10</td>\n",
       "      <td>6.899991e+11</td>\n",
       "      <td>930000.000000</td>\n",
       "      <td>0.0</td>\n",
       "    </tr>\n",
       "  </tbody>\n",
       "</table>\n",
       "</div>"
      ],
      "text/plain": [
       "          total_upt     total_vrh     total_vrm   opexp_total     total_voms  \\\n",
       "count  3.000000e+00  3.000000e+00  3.000000e+00  3.000000e+00       3.000000   \n",
       "mean   2.944447e+10  2.242798e+09  2.799008e+10  5.346780e+11  834404.000000   \n",
       "std    1.409400e+10  3.610664e+08  1.617628e+09  1.386270e+11   84498.697079   \n",
       "min    1.970920e+10  1.976640e+09  2.612286e+10  4.234918e+11  769692.000000   \n",
       "25%    2.136355e+10  2.037299e+09  2.750191e+10  4.570174e+11  786606.000000   \n",
       "50%    2.301789e+10  2.097958e+09  2.888096e+10  4.905430e+11  803520.000000   \n",
       "75%    3.431210e+10  2.375877e+09  2.892369e+10  5.902710e+11  866760.000000   \n",
       "max    4.560631e+10  2.653796e+09  2.896643e+10  6.899991e+11  930000.000000   \n",
       "\n",
       "       cluster_name  \n",
       "count           3.0  \n",
       "mean            0.0  \n",
       "std             0.0  \n",
       "min             0.0  \n",
       "25%             0.0  \n",
       "50%             0.0  \n",
       "75%             0.0  \n",
       "max             0.0  "
      ]
     },
     "metadata": {},
     "output_type": "display_data"
    },
    {
     "name": "stdout",
     "output_type": "stream",
     "text": [
      "\n",
      "    \n",
      " How many unique agencies are in Cluster 7: 1\n",
      "    Cluster 7 sample:\n"
     ]
    },
    {
     "data": {
      "text/html": [
       "<div>\n",
       "<style scoped>\n",
       "    .dataframe tbody tr th:only-of-type {\n",
       "        vertical-align: middle;\n",
       "    }\n",
       "\n",
       "    .dataframe tbody tr th {\n",
       "        vertical-align: top;\n",
       "    }\n",
       "\n",
       "    .dataframe thead th {\n",
       "        text-align: right;\n",
       "    }\n",
       "</style>\n",
       "<table border=\"1\" class=\"dataframe\">\n",
       "  <thead>\n",
       "    <tr style=\"text-align: right;\">\n",
       "      <th></th>\n",
       "      <th>ntd_id</th>\n",
       "      <th>source_agency</th>\n",
       "      <th>city</th>\n",
       "      <th>primary_uza_name</th>\n",
       "      <th>mode_group</th>\n",
       "      <th>total_upt</th>\n",
       "      <th>total_vrh</th>\n",
       "      <th>total_vrm</th>\n",
       "      <th>opexp_total</th>\n",
       "      <th>total_voms</th>\n",
       "      <th>cluster_name</th>\n",
       "    </tr>\n",
       "  </thead>\n",
       "  <tbody>\n",
       "    <tr>\n",
       "      <th>10</th>\n",
       "      <td>90013</td>\n",
       "      <td>Santa Clara Valley Transportation Authority (VTA)</td>\n",
       "      <td>San Jose</td>\n",
       "      <td>San Jose, CA</td>\n",
       "      <td>nonfixed_guideway</td>\n",
       "      <td>80716316672</td>\n",
       "      <td>5324295168</td>\n",
       "      <td>66905994240</td>\n",
       "      <td>1394906022912</td>\n",
       "      <td>1572864</td>\n",
       "      <td>7</td>\n",
       "    </tr>\n",
       "  </tbody>\n",
       "</table>\n",
       "</div>"
      ],
      "text/plain": [
       "   ntd_id                                      source_agency      city  \\\n",
       "10  90013  Santa Clara Valley Transportation Authority (VTA)  San Jose   \n",
       "\n",
       "   primary_uza_name         mode_group    total_upt   total_vrh    total_vrm  \\\n",
       "10     San Jose, CA  nonfixed_guideway  80716316672  5324295168  66905994240   \n",
       "\n",
       "      opexp_total  total_voms  cluster_name  \n",
       "10  1394906022912     1572864             7  "
      ]
     },
     "metadata": {},
     "output_type": "display_data"
    },
    {
     "name": "stdout",
     "output_type": "stream",
     "text": [
      "\n",
      "Cluster 7 summary stats:\n"
     ]
    },
    {
     "data": {
      "text/html": [
       "<div>\n",
       "<style scoped>\n",
       "    .dataframe tbody tr th:only-of-type {\n",
       "        vertical-align: middle;\n",
       "    }\n",
       "\n",
       "    .dataframe tbody tr th {\n",
       "        vertical-align: top;\n",
       "    }\n",
       "\n",
       "    .dataframe thead th {\n",
       "        text-align: right;\n",
       "    }\n",
       "</style>\n",
       "<table border=\"1\" class=\"dataframe\">\n",
       "  <thead>\n",
       "    <tr style=\"text-align: right;\">\n",
       "      <th></th>\n",
       "      <th>total_upt</th>\n",
       "      <th>total_vrh</th>\n",
       "      <th>total_vrm</th>\n",
       "      <th>opexp_total</th>\n",
       "      <th>total_voms</th>\n",
       "      <th>cluster_name</th>\n",
       "    </tr>\n",
       "  </thead>\n",
       "  <tbody>\n",
       "    <tr>\n",
       "      <th>count</th>\n",
       "      <td>1.000000e+00</td>\n",
       "      <td>1.000000e+00</td>\n",
       "      <td>1.000000e+00</td>\n",
       "      <td>1.000000e+00</td>\n",
       "      <td>1.0</td>\n",
       "      <td>1.0</td>\n",
       "    </tr>\n",
       "    <tr>\n",
       "      <th>mean</th>\n",
       "      <td>8.071632e+10</td>\n",
       "      <td>5.324295e+09</td>\n",
       "      <td>6.690599e+10</td>\n",
       "      <td>1.394906e+12</td>\n",
       "      <td>1572864.0</td>\n",
       "      <td>7.0</td>\n",
       "    </tr>\n",
       "    <tr>\n",
       "      <th>std</th>\n",
       "      <td>NaN</td>\n",
       "      <td>NaN</td>\n",
       "      <td>NaN</td>\n",
       "      <td>NaN</td>\n",
       "      <td>NaN</td>\n",
       "      <td>NaN</td>\n",
       "    </tr>\n",
       "    <tr>\n",
       "      <th>min</th>\n",
       "      <td>8.071632e+10</td>\n",
       "      <td>5.324295e+09</td>\n",
       "      <td>6.690599e+10</td>\n",
       "      <td>1.394906e+12</td>\n",
       "      <td>1572864.0</td>\n",
       "      <td>7.0</td>\n",
       "    </tr>\n",
       "    <tr>\n",
       "      <th>25%</th>\n",
       "      <td>8.071632e+10</td>\n",
       "      <td>5.324295e+09</td>\n",
       "      <td>6.690599e+10</td>\n",
       "      <td>1.394906e+12</td>\n",
       "      <td>1572864.0</td>\n",
       "      <td>7.0</td>\n",
       "    </tr>\n",
       "    <tr>\n",
       "      <th>50%</th>\n",
       "      <td>8.071632e+10</td>\n",
       "      <td>5.324295e+09</td>\n",
       "      <td>6.690599e+10</td>\n",
       "      <td>1.394906e+12</td>\n",
       "      <td>1572864.0</td>\n",
       "      <td>7.0</td>\n",
       "    </tr>\n",
       "    <tr>\n",
       "      <th>75%</th>\n",
       "      <td>8.071632e+10</td>\n",
       "      <td>5.324295e+09</td>\n",
       "      <td>6.690599e+10</td>\n",
       "      <td>1.394906e+12</td>\n",
       "      <td>1572864.0</td>\n",
       "      <td>7.0</td>\n",
       "    </tr>\n",
       "    <tr>\n",
       "      <th>max</th>\n",
       "      <td>8.071632e+10</td>\n",
       "      <td>5.324295e+09</td>\n",
       "      <td>6.690599e+10</td>\n",
       "      <td>1.394906e+12</td>\n",
       "      <td>1572864.0</td>\n",
       "      <td>7.0</td>\n",
       "    </tr>\n",
       "  </tbody>\n",
       "</table>\n",
       "</div>"
      ],
      "text/plain": [
       "          total_upt     total_vrh     total_vrm   opexp_total  total_voms  \\\n",
       "count  1.000000e+00  1.000000e+00  1.000000e+00  1.000000e+00         1.0   \n",
       "mean   8.071632e+10  5.324295e+09  6.690599e+10  1.394906e+12   1572864.0   \n",
       "std             NaN           NaN           NaN           NaN         NaN   \n",
       "min    8.071632e+10  5.324295e+09  6.690599e+10  1.394906e+12   1572864.0   \n",
       "25%    8.071632e+10  5.324295e+09  6.690599e+10  1.394906e+12   1572864.0   \n",
       "50%    8.071632e+10  5.324295e+09  6.690599e+10  1.394906e+12   1572864.0   \n",
       "75%    8.071632e+10  5.324295e+09  6.690599e+10  1.394906e+12   1572864.0   \n",
       "max    8.071632e+10  5.324295e+09  6.690599e+10  1.394906e+12   1572864.0   \n",
       "\n",
       "       cluster_name  \n",
       "count           1.0  \n",
       "mean            7.0  \n",
       "std             NaN  \n",
       "min             7.0  \n",
       "25%             7.0  \n",
       "50%             7.0  \n",
       "75%             7.0  \n",
       "max             7.0  "
      ]
     },
     "metadata": {},
     "output_type": "display_data"
    },
    {
     "name": "stdout",
     "output_type": "stream",
     "text": [
      "\n",
      "    \n",
      " How many unique agencies are in Cluster 5: 1\n",
      "    Cluster 5 sample:\n"
     ]
    },
    {
     "data": {
      "text/html": [
       "<div>\n",
       "<style scoped>\n",
       "    .dataframe tbody tr th:only-of-type {\n",
       "        vertical-align: middle;\n",
       "    }\n",
       "\n",
       "    .dataframe tbody tr th {\n",
       "        vertical-align: top;\n",
       "    }\n",
       "\n",
       "    .dataframe thead th {\n",
       "        text-align: right;\n",
       "    }\n",
       "</style>\n",
       "<table border=\"1\" class=\"dataframe\">\n",
       "  <thead>\n",
       "    <tr style=\"text-align: right;\">\n",
       "      <th></th>\n",
       "      <th>ntd_id</th>\n",
       "      <th>source_agency</th>\n",
       "      <th>city</th>\n",
       "      <th>primary_uza_name</th>\n",
       "      <th>mode_group</th>\n",
       "      <th>total_upt</th>\n",
       "      <th>total_vrh</th>\n",
       "      <th>total_vrm</th>\n",
       "      <th>opexp_total</th>\n",
       "      <th>total_voms</th>\n",
       "      <th>cluster_name</th>\n",
       "    </tr>\n",
       "  </thead>\n",
       "  <tbody>\n",
       "    <tr>\n",
       "      <th>13</th>\n",
       "      <td>90015</td>\n",
       "      <td>City and County of San Francisco (SFMTA) - Tra...</td>\n",
       "      <td>San Francisco</td>\n",
       "      <td>San Francisco--Oakland, CA</td>\n",
       "      <td>nonfixed_guideway</td>\n",
       "      <td>173086298854</td>\n",
       "      <td>3397994670</td>\n",
       "      <td>24907847433</td>\n",
       "      <td>1002754932081</td>\n",
       "      <td>796446</td>\n",
       "      <td>5</td>\n",
       "    </tr>\n",
       "  </tbody>\n",
       "</table>\n",
       "</div>"
      ],
      "text/plain": [
       "   ntd_id                                      source_agency           city  \\\n",
       "13  90015  City and County of San Francisco (SFMTA) - Tra...  San Francisco   \n",
       "\n",
       "              primary_uza_name         mode_group     total_upt   total_vrh  \\\n",
       "13  San Francisco--Oakland, CA  nonfixed_guideway  173086298854  3397994670   \n",
       "\n",
       "      total_vrm    opexp_total  total_voms  cluster_name  \n",
       "13  24907847433  1002754932081      796446             5  "
      ]
     },
     "metadata": {},
     "output_type": "display_data"
    },
    {
     "name": "stdout",
     "output_type": "stream",
     "text": [
      "\n",
      "Cluster 5 summary stats:\n"
     ]
    },
    {
     "data": {
      "text/html": [
       "<div>\n",
       "<style scoped>\n",
       "    .dataframe tbody tr th:only-of-type {\n",
       "        vertical-align: middle;\n",
       "    }\n",
       "\n",
       "    .dataframe tbody tr th {\n",
       "        vertical-align: top;\n",
       "    }\n",
       "\n",
       "    .dataframe thead th {\n",
       "        text-align: right;\n",
       "    }\n",
       "</style>\n",
       "<table border=\"1\" class=\"dataframe\">\n",
       "  <thead>\n",
       "    <tr style=\"text-align: right;\">\n",
       "      <th></th>\n",
       "      <th>total_upt</th>\n",
       "      <th>total_vrh</th>\n",
       "      <th>total_vrm</th>\n",
       "      <th>opexp_total</th>\n",
       "      <th>total_voms</th>\n",
       "      <th>cluster_name</th>\n",
       "    </tr>\n",
       "  </thead>\n",
       "  <tbody>\n",
       "    <tr>\n",
       "      <th>count</th>\n",
       "      <td>1.000000e+00</td>\n",
       "      <td>1.000000e+00</td>\n",
       "      <td>1.000000e+00</td>\n",
       "      <td>1.000000e+00</td>\n",
       "      <td>1.0</td>\n",
       "      <td>1.0</td>\n",
       "    </tr>\n",
       "    <tr>\n",
       "      <th>mean</th>\n",
       "      <td>1.730863e+11</td>\n",
       "      <td>3.397995e+09</td>\n",
       "      <td>2.490785e+10</td>\n",
       "      <td>1.002755e+12</td>\n",
       "      <td>796446.0</td>\n",
       "      <td>5.0</td>\n",
       "    </tr>\n",
       "    <tr>\n",
       "      <th>std</th>\n",
       "      <td>NaN</td>\n",
       "      <td>NaN</td>\n",
       "      <td>NaN</td>\n",
       "      <td>NaN</td>\n",
       "      <td>NaN</td>\n",
       "      <td>NaN</td>\n",
       "    </tr>\n",
       "    <tr>\n",
       "      <th>min</th>\n",
       "      <td>1.730863e+11</td>\n",
       "      <td>3.397995e+09</td>\n",
       "      <td>2.490785e+10</td>\n",
       "      <td>1.002755e+12</td>\n",
       "      <td>796446.0</td>\n",
       "      <td>5.0</td>\n",
       "    </tr>\n",
       "    <tr>\n",
       "      <th>25%</th>\n",
       "      <td>1.730863e+11</td>\n",
       "      <td>3.397995e+09</td>\n",
       "      <td>2.490785e+10</td>\n",
       "      <td>1.002755e+12</td>\n",
       "      <td>796446.0</td>\n",
       "      <td>5.0</td>\n",
       "    </tr>\n",
       "    <tr>\n",
       "      <th>50%</th>\n",
       "      <td>1.730863e+11</td>\n",
       "      <td>3.397995e+09</td>\n",
       "      <td>2.490785e+10</td>\n",
       "      <td>1.002755e+12</td>\n",
       "      <td>796446.0</td>\n",
       "      <td>5.0</td>\n",
       "    </tr>\n",
       "    <tr>\n",
       "      <th>75%</th>\n",
       "      <td>1.730863e+11</td>\n",
       "      <td>3.397995e+09</td>\n",
       "      <td>2.490785e+10</td>\n",
       "      <td>1.002755e+12</td>\n",
       "      <td>796446.0</td>\n",
       "      <td>5.0</td>\n",
       "    </tr>\n",
       "    <tr>\n",
       "      <th>max</th>\n",
       "      <td>1.730863e+11</td>\n",
       "      <td>3.397995e+09</td>\n",
       "      <td>2.490785e+10</td>\n",
       "      <td>1.002755e+12</td>\n",
       "      <td>796446.0</td>\n",
       "      <td>5.0</td>\n",
       "    </tr>\n",
       "  </tbody>\n",
       "</table>\n",
       "</div>"
      ],
      "text/plain": [
       "          total_upt     total_vrh     total_vrm   opexp_total  total_voms  \\\n",
       "count  1.000000e+00  1.000000e+00  1.000000e+00  1.000000e+00         1.0   \n",
       "mean   1.730863e+11  3.397995e+09  2.490785e+10  1.002755e+12    796446.0   \n",
       "std             NaN           NaN           NaN           NaN         NaN   \n",
       "min    1.730863e+11  3.397995e+09  2.490785e+10  1.002755e+12    796446.0   \n",
       "25%    1.730863e+11  3.397995e+09  2.490785e+10  1.002755e+12    796446.0   \n",
       "50%    1.730863e+11  3.397995e+09  2.490785e+10  1.002755e+12    796446.0   \n",
       "75%    1.730863e+11  3.397995e+09  2.490785e+10  1.002755e+12    796446.0   \n",
       "max    1.730863e+11  3.397995e+09  2.490785e+10  1.002755e+12    796446.0   \n",
       "\n",
       "       cluster_name  \n",
       "count           1.0  \n",
       "mean            5.0  \n",
       "std             NaN  \n",
       "min             5.0  \n",
       "25%             5.0  \n",
       "50%             5.0  \n",
       "75%             5.0  \n",
       "max             5.0  "
      ]
     },
     "metadata": {},
     "output_type": "display_data"
    },
    {
     "name": "stdout",
     "output_type": "stream",
     "text": [
      "\n",
      "    \n",
      " How many unique agencies are in Cluster 9: 1\n",
      "    Cluster 9 sample:\n"
     ]
    },
    {
     "data": {
      "text/html": [
       "<div>\n",
       "<style scoped>\n",
       "    .dataframe tbody tr th:only-of-type {\n",
       "        vertical-align: middle;\n",
       "    }\n",
       "\n",
       "    .dataframe tbody tr th {\n",
       "        vertical-align: top;\n",
       "    }\n",
       "\n",
       "    .dataframe thead th {\n",
       "        text-align: right;\n",
       "    }\n",
       "</style>\n",
       "<table border=\"1\" class=\"dataframe\">\n",
       "  <thead>\n",
       "    <tr style=\"text-align: right;\">\n",
       "      <th></th>\n",
       "      <th>ntd_id</th>\n",
       "      <th>source_agency</th>\n",
       "      <th>city</th>\n",
       "      <th>primary_uza_name</th>\n",
       "      <th>mode_group</th>\n",
       "      <th>total_upt</th>\n",
       "      <th>total_vrh</th>\n",
       "      <th>total_vrm</th>\n",
       "      <th>opexp_total</th>\n",
       "      <th>total_voms</th>\n",
       "      <th>cluster_name</th>\n",
       "    </tr>\n",
       "  </thead>\n",
       "  <tbody>\n",
       "    <tr>\n",
       "      <th>27</th>\n",
       "      <td>90026</td>\n",
       "      <td>San Diego Metropolitan Transit System (MTS)</td>\n",
       "      <td>San Diego</td>\n",
       "      <td>San Diego, CA</td>\n",
       "      <td>nonfixed_guideway</td>\n",
       "      <td>77946071203</td>\n",
       "      <td>5295664122</td>\n",
       "      <td>70169463042</td>\n",
       "      <td>726918729684</td>\n",
       "      <td>1592892</td>\n",
       "      <td>9</td>\n",
       "    </tr>\n",
       "  </tbody>\n",
       "</table>\n",
       "</div>"
      ],
      "text/plain": [
       "   ntd_id                                source_agency       city  \\\n",
       "27  90026  San Diego Metropolitan Transit System (MTS)  San Diego   \n",
       "\n",
       "   primary_uza_name         mode_group    total_upt   total_vrh    total_vrm  \\\n",
       "27    San Diego, CA  nonfixed_guideway  77946071203  5295664122  70169463042   \n",
       "\n",
       "     opexp_total  total_voms  cluster_name  \n",
       "27  726918729684     1592892             9  "
      ]
     },
     "metadata": {},
     "output_type": "display_data"
    },
    {
     "name": "stdout",
     "output_type": "stream",
     "text": [
      "\n",
      "Cluster 9 summary stats:\n"
     ]
    },
    {
     "data": {
      "text/html": [
       "<div>\n",
       "<style scoped>\n",
       "    .dataframe tbody tr th:only-of-type {\n",
       "        vertical-align: middle;\n",
       "    }\n",
       "\n",
       "    .dataframe tbody tr th {\n",
       "        vertical-align: top;\n",
       "    }\n",
       "\n",
       "    .dataframe thead th {\n",
       "        text-align: right;\n",
       "    }\n",
       "</style>\n",
       "<table border=\"1\" class=\"dataframe\">\n",
       "  <thead>\n",
       "    <tr style=\"text-align: right;\">\n",
       "      <th></th>\n",
       "      <th>total_upt</th>\n",
       "      <th>total_vrh</th>\n",
       "      <th>total_vrm</th>\n",
       "      <th>opexp_total</th>\n",
       "      <th>total_voms</th>\n",
       "      <th>cluster_name</th>\n",
       "    </tr>\n",
       "  </thead>\n",
       "  <tbody>\n",
       "    <tr>\n",
       "      <th>count</th>\n",
       "      <td>1.000000e+00</td>\n",
       "      <td>1.000000e+00</td>\n",
       "      <td>1.000000e+00</td>\n",
       "      <td>1.000000e+00</td>\n",
       "      <td>1.0</td>\n",
       "      <td>1.0</td>\n",
       "    </tr>\n",
       "    <tr>\n",
       "      <th>mean</th>\n",
       "      <td>7.794607e+10</td>\n",
       "      <td>5.295664e+09</td>\n",
       "      <td>7.016946e+10</td>\n",
       "      <td>7.269187e+11</td>\n",
       "      <td>1592892.0</td>\n",
       "      <td>9.0</td>\n",
       "    </tr>\n",
       "    <tr>\n",
       "      <th>std</th>\n",
       "      <td>NaN</td>\n",
       "      <td>NaN</td>\n",
       "      <td>NaN</td>\n",
       "      <td>NaN</td>\n",
       "      <td>NaN</td>\n",
       "      <td>NaN</td>\n",
       "    </tr>\n",
       "    <tr>\n",
       "      <th>min</th>\n",
       "      <td>7.794607e+10</td>\n",
       "      <td>5.295664e+09</td>\n",
       "      <td>7.016946e+10</td>\n",
       "      <td>7.269187e+11</td>\n",
       "      <td>1592892.0</td>\n",
       "      <td>9.0</td>\n",
       "    </tr>\n",
       "    <tr>\n",
       "      <th>25%</th>\n",
       "      <td>7.794607e+10</td>\n",
       "      <td>5.295664e+09</td>\n",
       "      <td>7.016946e+10</td>\n",
       "      <td>7.269187e+11</td>\n",
       "      <td>1592892.0</td>\n",
       "      <td>9.0</td>\n",
       "    </tr>\n",
       "    <tr>\n",
       "      <th>50%</th>\n",
       "      <td>7.794607e+10</td>\n",
       "      <td>5.295664e+09</td>\n",
       "      <td>7.016946e+10</td>\n",
       "      <td>7.269187e+11</td>\n",
       "      <td>1592892.0</td>\n",
       "      <td>9.0</td>\n",
       "    </tr>\n",
       "    <tr>\n",
       "      <th>75%</th>\n",
       "      <td>7.794607e+10</td>\n",
       "      <td>5.295664e+09</td>\n",
       "      <td>7.016946e+10</td>\n",
       "      <td>7.269187e+11</td>\n",
       "      <td>1592892.0</td>\n",
       "      <td>9.0</td>\n",
       "    </tr>\n",
       "    <tr>\n",
       "      <th>max</th>\n",
       "      <td>7.794607e+10</td>\n",
       "      <td>5.295664e+09</td>\n",
       "      <td>7.016946e+10</td>\n",
       "      <td>7.269187e+11</td>\n",
       "      <td>1592892.0</td>\n",
       "      <td>9.0</td>\n",
       "    </tr>\n",
       "  </tbody>\n",
       "</table>\n",
       "</div>"
      ],
      "text/plain": [
       "          total_upt     total_vrh     total_vrm   opexp_total  total_voms  \\\n",
       "count  1.000000e+00  1.000000e+00  1.000000e+00  1.000000e+00         1.0   \n",
       "mean   7.794607e+10  5.295664e+09  7.016946e+10  7.269187e+11   1592892.0   \n",
       "std             NaN           NaN           NaN           NaN         NaN   \n",
       "min    7.794607e+10  5.295664e+09  7.016946e+10  7.269187e+11   1592892.0   \n",
       "25%    7.794607e+10  5.295664e+09  7.016946e+10  7.269187e+11   1592892.0   \n",
       "50%    7.794607e+10  5.295664e+09  7.016946e+10  7.269187e+11   1592892.0   \n",
       "75%    7.794607e+10  5.295664e+09  7.016946e+10  7.269187e+11   1592892.0   \n",
       "max    7.794607e+10  5.295664e+09  7.016946e+10  7.269187e+11   1592892.0   \n",
       "\n",
       "       cluster_name  \n",
       "count           1.0  \n",
       "mean            9.0  \n",
       "std             NaN  \n",
       "min             9.0  \n",
       "25%             9.0  \n",
       "50%             9.0  \n",
       "75%             9.0  \n",
       "max             9.0  "
      ]
     },
     "metadata": {},
     "output_type": "display_data"
    },
    {
     "name": "stdout",
     "output_type": "stream",
     "text": [
      "\n",
      "    \n",
      " How many unique agencies are in Cluster 1: 2\n",
      "    Cluster 1 sample:\n"
     ]
    },
    {
     "data": {
      "text/html": [
       "<div>\n",
       "<style scoped>\n",
       "    .dataframe tbody tr th:only-of-type {\n",
       "        vertical-align: middle;\n",
       "    }\n",
       "\n",
       "    .dataframe tbody tr th {\n",
       "        vertical-align: top;\n",
       "    }\n",
       "\n",
       "    .dataframe thead th {\n",
       "        text-align: right;\n",
       "    }\n",
       "</style>\n",
       "<table border=\"1\" class=\"dataframe\">\n",
       "  <thead>\n",
       "    <tr style=\"text-align: right;\">\n",
       "      <th></th>\n",
       "      <th>ntd_id</th>\n",
       "      <th>source_agency</th>\n",
       "      <th>city</th>\n",
       "      <th>primary_uza_name</th>\n",
       "      <th>mode_group</th>\n",
       "      <th>total_upt</th>\n",
       "      <th>total_vrh</th>\n",
       "      <th>total_vrm</th>\n",
       "      <th>opexp_total</th>\n",
       "      <th>total_voms</th>\n",
       "      <th>cluster_name</th>\n",
       "    </tr>\n",
       "  </thead>\n",
       "  <tbody>\n",
       "    <tr>\n",
       "      <th>33</th>\n",
       "      <td>90030</td>\n",
       "      <td>North County Transit District (NCTD)</td>\n",
       "      <td>Oceanside</td>\n",
       "      <td>San Diego, CA</td>\n",
       "      <td>nonfixed_guideway</td>\n",
       "      <td>30407781186</td>\n",
       "      <td>1533483576</td>\n",
       "      <td>23923196424</td>\n",
       "      <td>395725656492</td>\n",
       "      <td>551124</td>\n",
       "      <td>1</td>\n",
       "    </tr>\n",
       "    <tr>\n",
       "      <th>34</th>\n",
       "      <td>90031</td>\n",
       "      <td>Riverside Transit Agency (RTA)</td>\n",
       "      <td>Riverside</td>\n",
       "      <td>Riverside--San Bernardino, CA</td>\n",
       "      <td>nonfixed_guideway</td>\n",
       "      <td>12596743257</td>\n",
       "      <td>1486795240</td>\n",
       "      <td>22182774173</td>\n",
       "      <td>218920409246</td>\n",
       "      <td>506611</td>\n",
       "      <td>1</td>\n",
       "    </tr>\n",
       "  </tbody>\n",
       "</table>\n",
       "</div>"
      ],
      "text/plain": [
       "   ntd_id                         source_agency       city  \\\n",
       "33  90030  North County Transit District (NCTD)  Oceanside   \n",
       "34  90031        Riverside Transit Agency (RTA)  Riverside   \n",
       "\n",
       "                 primary_uza_name         mode_group    total_upt   total_vrh  \\\n",
       "33                  San Diego, CA  nonfixed_guideway  30407781186  1533483576   \n",
       "34  Riverside--San Bernardino, CA  nonfixed_guideway  12596743257  1486795240   \n",
       "\n",
       "      total_vrm   opexp_total  total_voms  cluster_name  \n",
       "33  23923196424  395725656492      551124             1  \n",
       "34  22182774173  218920409246      506611             1  "
      ]
     },
     "metadata": {},
     "output_type": "display_data"
    },
    {
     "name": "stdout",
     "output_type": "stream",
     "text": [
      "\n",
      "Cluster 1 summary stats:\n"
     ]
    },
    {
     "data": {
      "text/html": [
       "<div>\n",
       "<style scoped>\n",
       "    .dataframe tbody tr th:only-of-type {\n",
       "        vertical-align: middle;\n",
       "    }\n",
       "\n",
       "    .dataframe tbody tr th {\n",
       "        vertical-align: top;\n",
       "    }\n",
       "\n",
       "    .dataframe thead th {\n",
       "        text-align: right;\n",
       "    }\n",
       "</style>\n",
       "<table border=\"1\" class=\"dataframe\">\n",
       "  <thead>\n",
       "    <tr style=\"text-align: right;\">\n",
       "      <th></th>\n",
       "      <th>total_upt</th>\n",
       "      <th>total_vrh</th>\n",
       "      <th>total_vrm</th>\n",
       "      <th>opexp_total</th>\n",
       "      <th>total_voms</th>\n",
       "      <th>cluster_name</th>\n",
       "    </tr>\n",
       "  </thead>\n",
       "  <tbody>\n",
       "    <tr>\n",
       "      <th>count</th>\n",
       "      <td>2.000000e+00</td>\n",
       "      <td>2.000000e+00</td>\n",
       "      <td>2.000000e+00</td>\n",
       "      <td>2.000000e+00</td>\n",
       "      <td>2.000000</td>\n",
       "      <td>2.0</td>\n",
       "    </tr>\n",
       "    <tr>\n",
       "      <th>mean</th>\n",
       "      <td>2.150226e+10</td>\n",
       "      <td>1.510139e+09</td>\n",
       "      <td>2.305299e+10</td>\n",
       "      <td>3.073230e+11</td>\n",
       "      <td>528867.500000</td>\n",
       "      <td>1.0</td>\n",
       "    </tr>\n",
       "    <tr>\n",
       "      <th>std</th>\n",
       "      <td>1.259431e+10</td>\n",
       "      <td>3.301364e+07</td>\n",
       "      <td>1.230664e+09</td>\n",
       "      <td>1.250202e+11</td>\n",
       "      <td>31475.444151</td>\n",
       "      <td>0.0</td>\n",
       "    </tr>\n",
       "    <tr>\n",
       "      <th>min</th>\n",
       "      <td>1.259674e+10</td>\n",
       "      <td>1.486795e+09</td>\n",
       "      <td>2.218277e+10</td>\n",
       "      <td>2.189204e+11</td>\n",
       "      <td>506611.000000</td>\n",
       "      <td>1.0</td>\n",
       "    </tr>\n",
       "    <tr>\n",
       "      <th>25%</th>\n",
       "      <td>1.704950e+10</td>\n",
       "      <td>1.498467e+09</td>\n",
       "      <td>2.261788e+10</td>\n",
       "      <td>2.631217e+11</td>\n",
       "      <td>517739.250000</td>\n",
       "      <td>1.0</td>\n",
       "    </tr>\n",
       "    <tr>\n",
       "      <th>50%</th>\n",
       "      <td>2.150226e+10</td>\n",
       "      <td>1.510139e+09</td>\n",
       "      <td>2.305299e+10</td>\n",
       "      <td>3.073230e+11</td>\n",
       "      <td>528867.500000</td>\n",
       "      <td>1.0</td>\n",
       "    </tr>\n",
       "    <tr>\n",
       "      <th>75%</th>\n",
       "      <td>2.595502e+10</td>\n",
       "      <td>1.521811e+09</td>\n",
       "      <td>2.348809e+10</td>\n",
       "      <td>3.515243e+11</td>\n",
       "      <td>539995.750000</td>\n",
       "      <td>1.0</td>\n",
       "    </tr>\n",
       "    <tr>\n",
       "      <th>max</th>\n",
       "      <td>3.040778e+10</td>\n",
       "      <td>1.533484e+09</td>\n",
       "      <td>2.392320e+10</td>\n",
       "      <td>3.957257e+11</td>\n",
       "      <td>551124.000000</td>\n",
       "      <td>1.0</td>\n",
       "    </tr>\n",
       "  </tbody>\n",
       "</table>\n",
       "</div>"
      ],
      "text/plain": [
       "          total_upt     total_vrh     total_vrm   opexp_total     total_voms  \\\n",
       "count  2.000000e+00  2.000000e+00  2.000000e+00  2.000000e+00       2.000000   \n",
       "mean   2.150226e+10  1.510139e+09  2.305299e+10  3.073230e+11  528867.500000   \n",
       "std    1.259431e+10  3.301364e+07  1.230664e+09  1.250202e+11   31475.444151   \n",
       "min    1.259674e+10  1.486795e+09  2.218277e+10  2.189204e+11  506611.000000   \n",
       "25%    1.704950e+10  1.498467e+09  2.261788e+10  2.631217e+11  517739.250000   \n",
       "50%    2.150226e+10  1.510139e+09  2.305299e+10  3.073230e+11  528867.500000   \n",
       "75%    2.595502e+10  1.521811e+09  2.348809e+10  3.515243e+11  539995.750000   \n",
       "max    3.040778e+10  1.533484e+09  2.392320e+10  3.957257e+11  551124.000000   \n",
       "\n",
       "       cluster_name  \n",
       "count           2.0  \n",
       "mean            1.0  \n",
       "std             0.0  \n",
       "min             1.0  \n",
       "25%             1.0  \n",
       "50%             1.0  \n",
       "75%             1.0  \n",
       "max             1.0  "
      ]
     },
     "metadata": {},
     "output_type": "display_data"
    },
    {
     "name": "stdout",
     "output_type": "stream",
     "text": [
      "\n",
      "    \n",
      " How many unique agencies are in Cluster 8: 1\n",
      "    Cluster 8 sample:\n"
     ]
    },
    {
     "data": {
      "text/html": [
       "<div>\n",
       "<style scoped>\n",
       "    .dataframe tbody tr th:only-of-type {\n",
       "        vertical-align: middle;\n",
       "    }\n",
       "\n",
       "    .dataframe tbody tr th {\n",
       "        vertical-align: top;\n",
       "    }\n",
       "\n",
       "    .dataframe thead th {\n",
       "        text-align: right;\n",
       "    }\n",
       "</style>\n",
       "<table border=\"1\" class=\"dataframe\">\n",
       "  <thead>\n",
       "    <tr style=\"text-align: right;\">\n",
       "      <th></th>\n",
       "      <th>ntd_id</th>\n",
       "      <th>source_agency</th>\n",
       "      <th>city</th>\n",
       "      <th>primary_uza_name</th>\n",
       "      <th>mode_group</th>\n",
       "      <th>total_upt</th>\n",
       "      <th>total_vrh</th>\n",
       "      <th>total_vrm</th>\n",
       "      <th>opexp_total</th>\n",
       "      <th>total_voms</th>\n",
       "      <th>cluster_name</th>\n",
       "    </tr>\n",
       "  </thead>\n",
       "  <tbody>\n",
       "    <tr>\n",
       "      <th>37</th>\n",
       "      <td>90036</td>\n",
       "      <td>Orange County Transportation Authority (OCTA)</td>\n",
       "      <td>Orange</td>\n",
       "      <td>Los Angeles--Long Beach--Anaheim, CA</td>\n",
       "      <td>nonfixed_guideway</td>\n",
       "      <td>478390107008</td>\n",
       "      <td>24879221037</td>\n",
       "      <td>335795843097</td>\n",
       "      <td>3860309607264</td>\n",
       "      <td>9679032</td>\n",
       "      <td>8</td>\n",
       "    </tr>\n",
       "  </tbody>\n",
       "</table>\n",
       "</div>"
      ],
      "text/plain": [
       "   ntd_id                                  source_agency    city  \\\n",
       "37  90036  Orange County Transportation Authority (OCTA)  Orange   \n",
       "\n",
       "                        primary_uza_name         mode_group     total_upt  \\\n",
       "37  Los Angeles--Long Beach--Anaheim, CA  nonfixed_guideway  478390107008   \n",
       "\n",
       "      total_vrh     total_vrm    opexp_total  total_voms  cluster_name  \n",
       "37  24879221037  335795843097  3860309607264     9679032             8  "
      ]
     },
     "metadata": {},
     "output_type": "display_data"
    },
    {
     "name": "stdout",
     "output_type": "stream",
     "text": [
      "\n",
      "Cluster 8 summary stats:\n"
     ]
    },
    {
     "data": {
      "text/html": [
       "<div>\n",
       "<style scoped>\n",
       "    .dataframe tbody tr th:only-of-type {\n",
       "        vertical-align: middle;\n",
       "    }\n",
       "\n",
       "    .dataframe tbody tr th {\n",
       "        vertical-align: top;\n",
       "    }\n",
       "\n",
       "    .dataframe thead th {\n",
       "        text-align: right;\n",
       "    }\n",
       "</style>\n",
       "<table border=\"1\" class=\"dataframe\">\n",
       "  <thead>\n",
       "    <tr style=\"text-align: right;\">\n",
       "      <th></th>\n",
       "      <th>total_upt</th>\n",
       "      <th>total_vrh</th>\n",
       "      <th>total_vrm</th>\n",
       "      <th>opexp_total</th>\n",
       "      <th>total_voms</th>\n",
       "      <th>cluster_name</th>\n",
       "    </tr>\n",
       "  </thead>\n",
       "  <tbody>\n",
       "    <tr>\n",
       "      <th>count</th>\n",
       "      <td>1.000000e+00</td>\n",
       "      <td>1.000000e+00</td>\n",
       "      <td>1.000000e+00</td>\n",
       "      <td>1.000000e+00</td>\n",
       "      <td>1.0</td>\n",
       "      <td>1.0</td>\n",
       "    </tr>\n",
       "    <tr>\n",
       "      <th>mean</th>\n",
       "      <td>4.783901e+11</td>\n",
       "      <td>2.487922e+10</td>\n",
       "      <td>3.357958e+11</td>\n",
       "      <td>3.860310e+12</td>\n",
       "      <td>9679032.0</td>\n",
       "      <td>8.0</td>\n",
       "    </tr>\n",
       "    <tr>\n",
       "      <th>std</th>\n",
       "      <td>NaN</td>\n",
       "      <td>NaN</td>\n",
       "      <td>NaN</td>\n",
       "      <td>NaN</td>\n",
       "      <td>NaN</td>\n",
       "      <td>NaN</td>\n",
       "    </tr>\n",
       "    <tr>\n",
       "      <th>min</th>\n",
       "      <td>4.783901e+11</td>\n",
       "      <td>2.487922e+10</td>\n",
       "      <td>3.357958e+11</td>\n",
       "      <td>3.860310e+12</td>\n",
       "      <td>9679032.0</td>\n",
       "      <td>8.0</td>\n",
       "    </tr>\n",
       "    <tr>\n",
       "      <th>25%</th>\n",
       "      <td>4.783901e+11</td>\n",
       "      <td>2.487922e+10</td>\n",
       "      <td>3.357958e+11</td>\n",
       "      <td>3.860310e+12</td>\n",
       "      <td>9679032.0</td>\n",
       "      <td>8.0</td>\n",
       "    </tr>\n",
       "    <tr>\n",
       "      <th>50%</th>\n",
       "      <td>4.783901e+11</td>\n",
       "      <td>2.487922e+10</td>\n",
       "      <td>3.357958e+11</td>\n",
       "      <td>3.860310e+12</td>\n",
       "      <td>9679032.0</td>\n",
       "      <td>8.0</td>\n",
       "    </tr>\n",
       "    <tr>\n",
       "      <th>75%</th>\n",
       "      <td>4.783901e+11</td>\n",
       "      <td>2.487922e+10</td>\n",
       "      <td>3.357958e+11</td>\n",
       "      <td>3.860310e+12</td>\n",
       "      <td>9679032.0</td>\n",
       "      <td>8.0</td>\n",
       "    </tr>\n",
       "    <tr>\n",
       "      <th>max</th>\n",
       "      <td>4.783901e+11</td>\n",
       "      <td>2.487922e+10</td>\n",
       "      <td>3.357958e+11</td>\n",
       "      <td>3.860310e+12</td>\n",
       "      <td>9679032.0</td>\n",
       "      <td>8.0</td>\n",
       "    </tr>\n",
       "  </tbody>\n",
       "</table>\n",
       "</div>"
      ],
      "text/plain": [
       "          total_upt     total_vrh     total_vrm   opexp_total  total_voms  \\\n",
       "count  1.000000e+00  1.000000e+00  1.000000e+00  1.000000e+00         1.0   \n",
       "mean   4.783901e+11  2.487922e+10  3.357958e+11  3.860310e+12   9679032.0   \n",
       "std             NaN           NaN           NaN           NaN         NaN   \n",
       "min    4.783901e+11  2.487922e+10  3.357958e+11  3.860310e+12   9679032.0   \n",
       "25%    4.783901e+11  2.487922e+10  3.357958e+11  3.860310e+12   9679032.0   \n",
       "50%    4.783901e+11  2.487922e+10  3.357958e+11  3.860310e+12   9679032.0   \n",
       "75%    4.783901e+11  2.487922e+10  3.357958e+11  3.860310e+12   9679032.0   \n",
       "max    4.783901e+11  2.487922e+10  3.357958e+11  3.860310e+12   9679032.0   \n",
       "\n",
       "       cluster_name  \n",
       "count           1.0  \n",
       "mean            8.0  \n",
       "std             NaN  \n",
       "min             8.0  \n",
       "25%             8.0  \n",
       "50%             8.0  \n",
       "75%             8.0  \n",
       "max             8.0  "
      ]
     },
     "metadata": {},
     "output_type": "display_data"
    },
    {
     "name": "stdout",
     "output_type": "stream",
     "text": [
      "\n",
      "    \n",
      " How many unique agencies are in Cluster 3: 1\n",
      "    Cluster 3 sample:\n"
     ]
    },
    {
     "data": {
      "text/html": [
       "<div>\n",
       "<style scoped>\n",
       "    .dataframe tbody tr th:only-of-type {\n",
       "        vertical-align: middle;\n",
       "    }\n",
       "\n",
       "    .dataframe tbody tr th {\n",
       "        vertical-align: top;\n",
       "    }\n",
       "\n",
       "    .dataframe thead th {\n",
       "        text-align: right;\n",
       "    }\n",
       "</style>\n",
       "<table border=\"1\" class=\"dataframe\">\n",
       "  <thead>\n",
       "    <tr style=\"text-align: right;\">\n",
       "      <th></th>\n",
       "      <th>ntd_id</th>\n",
       "      <th>source_agency</th>\n",
       "      <th>city</th>\n",
       "      <th>primary_uza_name</th>\n",
       "      <th>mode_group</th>\n",
       "      <th>total_upt</th>\n",
       "      <th>total_vrh</th>\n",
       "      <th>total_vrm</th>\n",
       "      <th>opexp_total</th>\n",
       "      <th>total_voms</th>\n",
       "      <th>cluster_name</th>\n",
       "    </tr>\n",
       "  </thead>\n",
       "  <tbody>\n",
       "    <tr>\n",
       "      <th>77</th>\n",
       "      <td>90154</td>\n",
       "      <td>Los Angeles County Metropolitan Transportation...</td>\n",
       "      <td>Los Angeles</td>\n",
       "      <td>Los Angeles--Long Beach--Anaheim, CA</td>\n",
       "      <td>nonfixed_guideway</td>\n",
       "      <td>871872614400</td>\n",
       "      <td>25252331520</td>\n",
       "      <td>336284070912</td>\n",
       "      <td>6748030116864</td>\n",
       "      <td>8143872</td>\n",
       "      <td>3</td>\n",
       "    </tr>\n",
       "  </tbody>\n",
       "</table>\n",
       "</div>"
      ],
      "text/plain": [
       "   ntd_id                                      source_agency         city  \\\n",
       "77  90154  Los Angeles County Metropolitan Transportation...  Los Angeles   \n",
       "\n",
       "                        primary_uza_name         mode_group     total_upt  \\\n",
       "77  Los Angeles--Long Beach--Anaheim, CA  nonfixed_guideway  871872614400   \n",
       "\n",
       "      total_vrh     total_vrm    opexp_total  total_voms  cluster_name  \n",
       "77  25252331520  336284070912  6748030116864     8143872             3  "
      ]
     },
     "metadata": {},
     "output_type": "display_data"
    },
    {
     "name": "stdout",
     "output_type": "stream",
     "text": [
      "\n",
      "Cluster 3 summary stats:\n"
     ]
    },
    {
     "data": {
      "text/html": [
       "<div>\n",
       "<style scoped>\n",
       "    .dataframe tbody tr th:only-of-type {\n",
       "        vertical-align: middle;\n",
       "    }\n",
       "\n",
       "    .dataframe tbody tr th {\n",
       "        vertical-align: top;\n",
       "    }\n",
       "\n",
       "    .dataframe thead th {\n",
       "        text-align: right;\n",
       "    }\n",
       "</style>\n",
       "<table border=\"1\" class=\"dataframe\">\n",
       "  <thead>\n",
       "    <tr style=\"text-align: right;\">\n",
       "      <th></th>\n",
       "      <th>total_upt</th>\n",
       "      <th>total_vrh</th>\n",
       "      <th>total_vrm</th>\n",
       "      <th>opexp_total</th>\n",
       "      <th>total_voms</th>\n",
       "      <th>cluster_name</th>\n",
       "    </tr>\n",
       "  </thead>\n",
       "  <tbody>\n",
       "    <tr>\n",
       "      <th>count</th>\n",
       "      <td>1.000000e+00</td>\n",
       "      <td>1.000000e+00</td>\n",
       "      <td>1.000000e+00</td>\n",
       "      <td>1.000000e+00</td>\n",
       "      <td>1.0</td>\n",
       "      <td>1.0</td>\n",
       "    </tr>\n",
       "    <tr>\n",
       "      <th>mean</th>\n",
       "      <td>8.718726e+11</td>\n",
       "      <td>2.525233e+10</td>\n",
       "      <td>3.362841e+11</td>\n",
       "      <td>6.748030e+12</td>\n",
       "      <td>8143872.0</td>\n",
       "      <td>3.0</td>\n",
       "    </tr>\n",
       "    <tr>\n",
       "      <th>std</th>\n",
       "      <td>NaN</td>\n",
       "      <td>NaN</td>\n",
       "      <td>NaN</td>\n",
       "      <td>NaN</td>\n",
       "      <td>NaN</td>\n",
       "      <td>NaN</td>\n",
       "    </tr>\n",
       "    <tr>\n",
       "      <th>min</th>\n",
       "      <td>8.718726e+11</td>\n",
       "      <td>2.525233e+10</td>\n",
       "      <td>3.362841e+11</td>\n",
       "      <td>6.748030e+12</td>\n",
       "      <td>8143872.0</td>\n",
       "      <td>3.0</td>\n",
       "    </tr>\n",
       "    <tr>\n",
       "      <th>25%</th>\n",
       "      <td>8.718726e+11</td>\n",
       "      <td>2.525233e+10</td>\n",
       "      <td>3.362841e+11</td>\n",
       "      <td>6.748030e+12</td>\n",
       "      <td>8143872.0</td>\n",
       "      <td>3.0</td>\n",
       "    </tr>\n",
       "    <tr>\n",
       "      <th>50%</th>\n",
       "      <td>8.718726e+11</td>\n",
       "      <td>2.525233e+10</td>\n",
       "      <td>3.362841e+11</td>\n",
       "      <td>6.748030e+12</td>\n",
       "      <td>8143872.0</td>\n",
       "      <td>3.0</td>\n",
       "    </tr>\n",
       "    <tr>\n",
       "      <th>75%</th>\n",
       "      <td>8.718726e+11</td>\n",
       "      <td>2.525233e+10</td>\n",
       "      <td>3.362841e+11</td>\n",
       "      <td>6.748030e+12</td>\n",
       "      <td>8143872.0</td>\n",
       "      <td>3.0</td>\n",
       "    </tr>\n",
       "    <tr>\n",
       "      <th>max</th>\n",
       "      <td>8.718726e+11</td>\n",
       "      <td>2.525233e+10</td>\n",
       "      <td>3.362841e+11</td>\n",
       "      <td>6.748030e+12</td>\n",
       "      <td>8143872.0</td>\n",
       "      <td>3.0</td>\n",
       "    </tr>\n",
       "  </tbody>\n",
       "</table>\n",
       "</div>"
      ],
      "text/plain": [
       "          total_upt     total_vrh     total_vrm   opexp_total  total_voms  \\\n",
       "count  1.000000e+00  1.000000e+00  1.000000e+00  1.000000e+00         1.0   \n",
       "mean   8.718726e+11  2.525233e+10  3.362841e+11  6.748030e+12   8143872.0   \n",
       "std             NaN           NaN           NaN           NaN         NaN   \n",
       "min    8.718726e+11  2.525233e+10  3.362841e+11  6.748030e+12   8143872.0   \n",
       "25%    8.718726e+11  2.525233e+10  3.362841e+11  6.748030e+12   8143872.0   \n",
       "50%    8.718726e+11  2.525233e+10  3.362841e+11  6.748030e+12   8143872.0   \n",
       "75%    8.718726e+11  2.525233e+10  3.362841e+11  6.748030e+12   8143872.0   \n",
       "max    8.718726e+11  2.525233e+10  3.362841e+11  6.748030e+12   8143872.0   \n",
       "\n",
       "       cluster_name  \n",
       "count           1.0  \n",
       "mean            3.0  \n",
       "std             NaN  \n",
       "min             3.0  \n",
       "25%             3.0  \n",
       "50%             3.0  \n",
       "75%             3.0  \n",
       "max             3.0  "
      ]
     },
     "metadata": {},
     "output_type": "display_data"
    }
   ],
   "source": [
    "non_fixed_route_cluster = make_hierarchal_clustering(\n",
    "    data = nonfixed_guideway,\n",
    "    num_cols = numerical_cols,\n",
    "    cat_cols = [\"mode_group\"],\n",
    "    cluster_num = 10\n",
    "    \n",
    ")\n",
    "\n",
    "z_nonfixed_route = make_dendrogram_data(\n",
    "    data = nonfixed_guideway,\n",
    "    num_cols = numerical_cols,\n",
    "    cat_cols = [\"mode_group\"]\n",
    ")\n",
    "\n",
    "display(non_fixed_route_cluster[\"cluster_name\"].value_counts())\n",
    "\n",
    "\n",
    "plt.figure(figsize=(15, 5))\n",
    "dendrogram(z_nonfixed_route, labels=nonfixed_guideway[\"ntd_id\"].tolist(), leaf_rotation=90)\n",
    "plt.title(\"Dendrogram (Ward's Method)\")\n",
    "plt.xlabel(\"ntd_id\")\n",
    "plt.ylabel(\"Distance\")\n",
    "plt.tight_layout()\n",
    "plt.show()\n",
    "\n",
    "\n",
    "for i in non_fixed_route_cluster[\"cluster_name\"].unique():\n",
    "    print(f\"\"\"\n",
    "    \\n How many unique agencies are in Cluster {i}: {non_fixed_route_cluster[non_fixed_route_cluster['cluster_name']==i][\"source_agency\"].nunique()}\n",
    "    Cluster {i} sample:\"\"\")\n",
    "    display(non_fixed_route_cluster[non_fixed_route_cluster[\"cluster_name\"]==i].head()),\n",
    "    print(f\"\\nCluster {i} summary stats:\")\n",
    "    display(non_fixed_route_cluster[non_fixed_route_cluster[\"cluster_name\"]==i].describe())\n",
    "\n",
    "    \n",
    "# fig_nonfixed_route = ff.create_dendrogram(z_nonfixed_route, labels = non_fixed_route_data[\"source_agency\"].tolist())\n",
    "# fig_nonfixed_route.update_layout(width=800, height=500)\n",
    "# fig_nonfixed_route.show()"
   ]
  },
  {
   "cell_type": "markdown",
   "id": "c45acf8e-3655-4966-addf-c3bc9bcaa512",
   "metadata": {},
   "source": [
    "### 2023 data, fixed route modes"
   ]
  },
  {
   "cell_type": "code",
   "execution_count": 47,
   "id": "1441975d-c6ea-4b70-84f3-b7f9c1f71dc8",
   "metadata": {
    "tags": []
   },
   "outputs": [],
   "source": [
    "fixed_route_data = ntd_2023_grouped[ntd_2023_grouped[\"mode_group\"]==\"fixed_guideway\"]"
   ]
  },
  {
   "cell_type": "code",
   "execution_count": 49,
   "id": "5720876c-bf1c-41b6-9d53-8f2c19c99aec",
   "metadata": {
    "scrolled": true,
    "tags": []
   },
   "outputs": [
    {
     "data": {
      "text/html": [
       "<div>\n",
       "<style scoped>\n",
       "    .dataframe tbody tr th:only-of-type {\n",
       "        vertical-align: middle;\n",
       "    }\n",
       "\n",
       "    .dataframe tbody tr th {\n",
       "        vertical-align: top;\n",
       "    }\n",
       "\n",
       "    .dataframe thead th {\n",
       "        text-align: right;\n",
       "    }\n",
       "</style>\n",
       "<table border=\"1\" class=\"dataframe\">\n",
       "  <thead>\n",
       "    <tr style=\"text-align: right;\">\n",
       "      <th></th>\n",
       "      <th>ntd_id</th>\n",
       "      <th>source_agency</th>\n",
       "      <th>city</th>\n",
       "      <th>primary_uza_name</th>\n",
       "      <th>mode_group</th>\n",
       "      <th>total_upt</th>\n",
       "      <th>total_vrh</th>\n",
       "      <th>total_vrm</th>\n",
       "      <th>opexp_total</th>\n",
       "      <th>total_voms</th>\n",
       "      <th>cluster_name</th>\n",
       "    </tr>\n",
       "  </thead>\n",
       "  <tbody>\n",
       "    <tr>\n",
       "      <th>0</th>\n",
       "      <td>90003</td>\n",
       "      <td>San Francisco Bay Area Rapid Transit District ...</td>\n",
       "      <td>Oakland</td>\n",
       "      <td>San Francisco--Oakland, CA</td>\n",
       "      <td>fixed_guideway</td>\n",
       "      <td>31727751250</td>\n",
       "      <td>1021527750</td>\n",
       "      <td>31962655875</td>\n",
       "      <td>293469359250</td>\n",
       "      <td>218250</td>\n",
       "      <td>6</td>\n",
       "    </tr>\n",
       "    <tr>\n",
       "      <th>9</th>\n",
       "      <td>90013</td>\n",
       "      <td>Santa Clara Valley Transportation Authority (VTA)</td>\n",
       "      <td>San Jose</td>\n",
       "      <td>San Jose, CA</td>\n",
       "      <td>fixed_guideway</td>\n",
       "      <td>16989417472</td>\n",
       "      <td>1774765056</td>\n",
       "      <td>22301998080</td>\n",
       "      <td>464968674304</td>\n",
       "      <td>524288</td>\n",
       "      <td>8</td>\n",
       "    </tr>\n",
       "    <tr>\n",
       "      <th>12</th>\n",
       "      <td>90015</td>\n",
       "      <td>City and County of San Francisco (SFMTA) - Tra...</td>\n",
       "      <td>San Francisco</td>\n",
       "      <td>San Francisco--Oakland, CA</td>\n",
       "      <td>fixed_guideway</td>\n",
       "      <td>160959292039</td>\n",
       "      <td>4530659560</td>\n",
       "      <td>33210463244</td>\n",
       "      <td>1337006576108</td>\n",
       "      <td>1061928</td>\n",
       "      <td>7</td>\n",
       "    </tr>\n",
       "    <tr>\n",
       "      <th>17</th>\n",
       "      <td>90019</td>\n",
       "      <td>Sacramento Regional Transit District</td>\n",
       "      <td>Sacramento</td>\n",
       "      <td>Sacramento, CA</td>\n",
       "      <td>fixed_guideway</td>\n",
       "      <td>14744348920</td>\n",
       "      <td>349659688</td>\n",
       "      <td>4813492558</td>\n",
       "      <td>81757163411</td>\n",
       "      <td>128282</td>\n",
       "      <td>3</td>\n",
       "    </tr>\n",
       "    <tr>\n",
       "      <th>20</th>\n",
       "      <td>90021</td>\n",
       "      <td>Los Angeles County Metropolitan Transportation...</td>\n",
       "      <td>none</td>\n",
       "      <td>Los Angeles--Long Beach--Anaheim, CA</td>\n",
       "      <td>fixed_guideway</td>\n",
       "      <td>0</td>\n",
       "      <td>0</td>\n",
       "      <td>0</td>\n",
       "      <td>0</td>\n",
       "      <td>0</td>\n",
       "      <td>0</td>\n",
       "    </tr>\n",
       "  </tbody>\n",
       "</table>\n",
       "</div>"
      ],
      "text/plain": [
       "   ntd_id                                      source_agency           city  \\\n",
       "0   90003  San Francisco Bay Area Rapid Transit District ...        Oakland   \n",
       "9   90013  Santa Clara Valley Transportation Authority (VTA)       San Jose   \n",
       "12  90015  City and County of San Francisco (SFMTA) - Tra...  San Francisco   \n",
       "17  90019               Sacramento Regional Transit District     Sacramento   \n",
       "20  90021  Los Angeles County Metropolitan Transportation...           none   \n",
       "\n",
       "                        primary_uza_name      mode_group     total_upt  \\\n",
       "0             San Francisco--Oakland, CA  fixed_guideway   31727751250   \n",
       "9                           San Jose, CA  fixed_guideway   16989417472   \n",
       "12            San Francisco--Oakland, CA  fixed_guideway  160959292039   \n",
       "17                        Sacramento, CA  fixed_guideway   14744348920   \n",
       "20  Los Angeles--Long Beach--Anaheim, CA  fixed_guideway             0   \n",
       "\n",
       "     total_vrh    total_vrm    opexp_total  total_voms  cluster_name  \n",
       "0   1021527750  31962655875   293469359250      218250             6  \n",
       "9   1774765056  22301998080   464968674304      524288             8  \n",
       "12  4530659560  33210463244  1337006576108     1061928             7  \n",
       "17   349659688   4813492558    81757163411      128282             3  \n",
       "20           0            0              0           0             0  "
      ]
     },
     "metadata": {},
     "output_type": "display_data"
    },
    {
     "data": {
      "application/vnd.plotly.v1+json": {
       "config": {
        "plotlyServerURL": "https://plot.ly"
       },
       "data": [
        {
         "hoverinfo": "text",
         "marker": {
          "color": "rgb(61,153,112)"
         },
         "mode": "lines",
         "type": "scatter",
         "x": [
          5,
          5,
          15,
          15
         ],
         "xaxis": "x",
         "y": [
          0,
          8.836745605140843,
          8.836745605140843,
          0
         ],
         "yaxis": "y"
        },
        {
         "hoverinfo": "text",
         "marker": {
          "color": "rgb(255,65,54)"
         },
         "mode": "lines",
         "type": "scatter",
         "x": [
          35,
          35,
          45,
          45
         ],
         "xaxis": "x",
         "y": [
          0,
          2.9948382855943283,
          2.9948382855943283,
          0
         ],
         "yaxis": "y"
        },
        {
         "hoverinfo": "text",
         "marker": {
          "color": "rgb(255,65,54)"
         },
         "mode": "lines",
         "type": "scatter",
         "x": [
          25,
          25,
          40,
          40
         ],
         "xaxis": "x",
         "y": [
          0,
          3.7071920320844844,
          3.7071920320844844,
          2.9948382855943283
         ],
         "yaxis": "y"
        },
        {
         "hoverinfo": "text",
         "marker": {
          "color": "rgb(255,65,54)"
         },
         "mode": "lines",
         "type": "scatter",
         "x": [
          65,
          65,
          75,
          75
         ],
         "xaxis": "x",
         "y": [
          0,
          4.791883157997874,
          4.791883157997874,
          0
         ],
         "yaxis": "y"
        },
        {
         "hoverinfo": "text",
         "marker": {
          "color": "rgb(255,65,54)"
         },
         "mode": "lines",
         "type": "scatter",
         "x": [
          55,
          55,
          70,
          70
         ],
         "xaxis": "x",
         "y": [
          0,
          5.51330577872382,
          5.51330577872382,
          4.791883157997874
         ],
         "yaxis": "y"
        },
        {
         "hoverinfo": "text",
         "marker": {
          "color": "rgb(255,65,54)"
         },
         "mode": "lines",
         "type": "scatter",
         "x": [
          95,
          95,
          105,
          105
         ],
         "xaxis": "x",
         "y": [
          0,
          1.7320686354230985,
          1.7320686354230985,
          0
         ],
         "yaxis": "y"
        },
        {
         "hoverinfo": "text",
         "marker": {
          "color": "rgb(255,65,54)"
         },
         "mode": "lines",
         "type": "scatter",
         "x": [
          115,
          115,
          125,
          125
         ],
         "xaxis": "x",
         "y": [
          0,
          3.464101667180786,
          3.464101667180786,
          0
         ],
         "yaxis": "y"
        },
        {
         "hoverinfo": "text",
         "marker": {
          "color": "rgb(255,65,54)"
         },
         "mode": "lines",
         "type": "scatter",
         "x": [
          100,
          100,
          120,
          120
         ],
         "xaxis": "x",
         "y": [
          1.7320686354230985,
          6.0000111309356665,
          6.0000111309356665,
          3.464101667180786
         ],
         "yaxis": "y"
        },
        {
         "hoverinfo": "text",
         "marker": {
          "color": "rgb(255,65,54)"
         },
         "mode": "lines",
         "type": "scatter",
         "x": [
          85,
          85,
          110,
          110
         ],
         "xaxis": "x",
         "y": [
          0,
          12.009719033723862,
          12.009719033723862,
          6.0000111309356665
         ],
         "yaxis": "y"
        },
        {
         "hoverinfo": "text",
         "marker": {
          "color": "rgb(255,65,54)"
         },
         "mode": "lines",
         "type": "scatter",
         "x": [
          62.5,
          62.5,
          97.5,
          97.5
         ],
         "xaxis": "x",
         "y": [
          5.51330577872382,
          14.616621813227768,
          14.616621813227768,
          12.009719033723862
         ],
         "yaxis": "y"
        },
        {
         "hoverinfo": "text",
         "marker": {
          "color": "rgb(255,65,54)"
         },
         "mode": "lines",
         "type": "scatter",
         "x": [
          32.5,
          32.5,
          80,
          80
         ],
         "xaxis": "x",
         "y": [
          3.7071920320844844,
          21.057392385107747,
          21.057392385107747,
          14.616621813227768
         ],
         "yaxis": "y"
        },
        {
         "hoverinfo": "text",
         "marker": {
          "color": "rgb(0,116,217)"
         },
         "mode": "lines",
         "type": "scatter",
         "x": [
          10,
          10,
          56.25,
          56.25
         ],
         "xaxis": "x",
         "y": [
          8.836745605140843,
          32.89244479266062,
          32.89244479266062,
          21.057392385107747
         ],
         "yaxis": "y"
        }
       ],
       "layout": {
        "autosize": false,
        "height": 500,
        "hovermode": "closest",
        "showlegend": false,
        "template": {
         "data": {
          "bar": [
           {
            "error_x": {
             "color": "#2a3f5f"
            },
            "error_y": {
             "color": "#2a3f5f"
            },
            "marker": {
             "line": {
              "color": "#E5ECF6",
              "width": 0.5
             },
             "pattern": {
              "fillmode": "overlay",
              "size": 10,
              "solidity": 0.2
             }
            },
            "type": "bar"
           }
          ],
          "barpolar": [
           {
            "marker": {
             "line": {
              "color": "#E5ECF6",
              "width": 0.5
             },
             "pattern": {
              "fillmode": "overlay",
              "size": 10,
              "solidity": 0.2
             }
            },
            "type": "barpolar"
           }
          ],
          "carpet": [
           {
            "aaxis": {
             "endlinecolor": "#2a3f5f",
             "gridcolor": "white",
             "linecolor": "white",
             "minorgridcolor": "white",
             "startlinecolor": "#2a3f5f"
            },
            "baxis": {
             "endlinecolor": "#2a3f5f",
             "gridcolor": "white",
             "linecolor": "white",
             "minorgridcolor": "white",
             "startlinecolor": "#2a3f5f"
            },
            "type": "carpet"
           }
          ],
          "choropleth": [
           {
            "colorbar": {
             "outlinewidth": 0,
             "ticks": ""
            },
            "type": "choropleth"
           }
          ],
          "contour": [
           {
            "colorbar": {
             "outlinewidth": 0,
             "ticks": ""
            },
            "colorscale": [
             [
              0,
              "#0d0887"
             ],
             [
              0.1111111111111111,
              "#46039f"
             ],
             [
              0.2222222222222222,
              "#7201a8"
             ],
             [
              0.3333333333333333,
              "#9c179e"
             ],
             [
              0.4444444444444444,
              "#bd3786"
             ],
             [
              0.5555555555555556,
              "#d8576b"
             ],
             [
              0.6666666666666666,
              "#ed7953"
             ],
             [
              0.7777777777777778,
              "#fb9f3a"
             ],
             [
              0.8888888888888888,
              "#fdca26"
             ],
             [
              1,
              "#f0f921"
             ]
            ],
            "type": "contour"
           }
          ],
          "contourcarpet": [
           {
            "colorbar": {
             "outlinewidth": 0,
             "ticks": ""
            },
            "type": "contourcarpet"
           }
          ],
          "heatmap": [
           {
            "colorbar": {
             "outlinewidth": 0,
             "ticks": ""
            },
            "colorscale": [
             [
              0,
              "#0d0887"
             ],
             [
              0.1111111111111111,
              "#46039f"
             ],
             [
              0.2222222222222222,
              "#7201a8"
             ],
             [
              0.3333333333333333,
              "#9c179e"
             ],
             [
              0.4444444444444444,
              "#bd3786"
             ],
             [
              0.5555555555555556,
              "#d8576b"
             ],
             [
              0.6666666666666666,
              "#ed7953"
             ],
             [
              0.7777777777777778,
              "#fb9f3a"
             ],
             [
              0.8888888888888888,
              "#fdca26"
             ],
             [
              1,
              "#f0f921"
             ]
            ],
            "type": "heatmap"
           }
          ],
          "heatmapgl": [
           {
            "colorbar": {
             "outlinewidth": 0,
             "ticks": ""
            },
            "colorscale": [
             [
              0,
              "#0d0887"
             ],
             [
              0.1111111111111111,
              "#46039f"
             ],
             [
              0.2222222222222222,
              "#7201a8"
             ],
             [
              0.3333333333333333,
              "#9c179e"
             ],
             [
              0.4444444444444444,
              "#bd3786"
             ],
             [
              0.5555555555555556,
              "#d8576b"
             ],
             [
              0.6666666666666666,
              "#ed7953"
             ],
             [
              0.7777777777777778,
              "#fb9f3a"
             ],
             [
              0.8888888888888888,
              "#fdca26"
             ],
             [
              1,
              "#f0f921"
             ]
            ],
            "type": "heatmapgl"
           }
          ],
          "histogram": [
           {
            "marker": {
             "pattern": {
              "fillmode": "overlay",
              "size": 10,
              "solidity": 0.2
             }
            },
            "type": "histogram"
           }
          ],
          "histogram2d": [
           {
            "colorbar": {
             "outlinewidth": 0,
             "ticks": ""
            },
            "colorscale": [
             [
              0,
              "#0d0887"
             ],
             [
              0.1111111111111111,
              "#46039f"
             ],
             [
              0.2222222222222222,
              "#7201a8"
             ],
             [
              0.3333333333333333,
              "#9c179e"
             ],
             [
              0.4444444444444444,
              "#bd3786"
             ],
             [
              0.5555555555555556,
              "#d8576b"
             ],
             [
              0.6666666666666666,
              "#ed7953"
             ],
             [
              0.7777777777777778,
              "#fb9f3a"
             ],
             [
              0.8888888888888888,
              "#fdca26"
             ],
             [
              1,
              "#f0f921"
             ]
            ],
            "type": "histogram2d"
           }
          ],
          "histogram2dcontour": [
           {
            "colorbar": {
             "outlinewidth": 0,
             "ticks": ""
            },
            "colorscale": [
             [
              0,
              "#0d0887"
             ],
             [
              0.1111111111111111,
              "#46039f"
             ],
             [
              0.2222222222222222,
              "#7201a8"
             ],
             [
              0.3333333333333333,
              "#9c179e"
             ],
             [
              0.4444444444444444,
              "#bd3786"
             ],
             [
              0.5555555555555556,
              "#d8576b"
             ],
             [
              0.6666666666666666,
              "#ed7953"
             ],
             [
              0.7777777777777778,
              "#fb9f3a"
             ],
             [
              0.8888888888888888,
              "#fdca26"
             ],
             [
              1,
              "#f0f921"
             ]
            ],
            "type": "histogram2dcontour"
           }
          ],
          "mesh3d": [
           {
            "colorbar": {
             "outlinewidth": 0,
             "ticks": ""
            },
            "type": "mesh3d"
           }
          ],
          "parcoords": [
           {
            "line": {
             "colorbar": {
              "outlinewidth": 0,
              "ticks": ""
             }
            },
            "type": "parcoords"
           }
          ],
          "pie": [
           {
            "automargin": true,
            "type": "pie"
           }
          ],
          "scatter": [
           {
            "marker": {
             "colorbar": {
              "outlinewidth": 0,
              "ticks": ""
             }
            },
            "type": "scatter"
           }
          ],
          "scatter3d": [
           {
            "line": {
             "colorbar": {
              "outlinewidth": 0,
              "ticks": ""
             }
            },
            "marker": {
             "colorbar": {
              "outlinewidth": 0,
              "ticks": ""
             }
            },
            "type": "scatter3d"
           }
          ],
          "scattercarpet": [
           {
            "marker": {
             "colorbar": {
              "outlinewidth": 0,
              "ticks": ""
             }
            },
            "type": "scattercarpet"
           }
          ],
          "scattergeo": [
           {
            "marker": {
             "colorbar": {
              "outlinewidth": 0,
              "ticks": ""
             }
            },
            "type": "scattergeo"
           }
          ],
          "scattergl": [
           {
            "marker": {
             "colorbar": {
              "outlinewidth": 0,
              "ticks": ""
             }
            },
            "type": "scattergl"
           }
          ],
          "scattermapbox": [
           {
            "marker": {
             "colorbar": {
              "outlinewidth": 0,
              "ticks": ""
             }
            },
            "type": "scattermapbox"
           }
          ],
          "scatterpolar": [
           {
            "marker": {
             "colorbar": {
              "outlinewidth": 0,
              "ticks": ""
             }
            },
            "type": "scatterpolar"
           }
          ],
          "scatterpolargl": [
           {
            "marker": {
             "colorbar": {
              "outlinewidth": 0,
              "ticks": ""
             }
            },
            "type": "scatterpolargl"
           }
          ],
          "scatterternary": [
           {
            "marker": {
             "colorbar": {
              "outlinewidth": 0,
              "ticks": ""
             }
            },
            "type": "scatterternary"
           }
          ],
          "surface": [
           {
            "colorbar": {
             "outlinewidth": 0,
             "ticks": ""
            },
            "colorscale": [
             [
              0,
              "#0d0887"
             ],
             [
              0.1111111111111111,
              "#46039f"
             ],
             [
              0.2222222222222222,
              "#7201a8"
             ],
             [
              0.3333333333333333,
              "#9c179e"
             ],
             [
              0.4444444444444444,
              "#bd3786"
             ],
             [
              0.5555555555555556,
              "#d8576b"
             ],
             [
              0.6666666666666666,
              "#ed7953"
             ],
             [
              0.7777777777777778,
              "#fb9f3a"
             ],
             [
              0.8888888888888888,
              "#fdca26"
             ],
             [
              1,
              "#f0f921"
             ]
            ],
            "type": "surface"
           }
          ],
          "table": [
           {
            "cells": {
             "fill": {
              "color": "#EBF0F8"
             },
             "line": {
              "color": "white"
             }
            },
            "header": {
             "fill": {
              "color": "#C8D4E3"
             },
             "line": {
              "color": "white"
             }
            },
            "type": "table"
           }
          ]
         },
         "layout": {
          "annotationdefaults": {
           "arrowcolor": "#2a3f5f",
           "arrowhead": 0,
           "arrowwidth": 1
          },
          "autotypenumbers": "strict",
          "coloraxis": {
           "colorbar": {
            "outlinewidth": 0,
            "ticks": ""
           }
          },
          "colorscale": {
           "diverging": [
            [
             0,
             "#8e0152"
            ],
            [
             0.1,
             "#c51b7d"
            ],
            [
             0.2,
             "#de77ae"
            ],
            [
             0.3,
             "#f1b6da"
            ],
            [
             0.4,
             "#fde0ef"
            ],
            [
             0.5,
             "#f7f7f7"
            ],
            [
             0.6,
             "#e6f5d0"
            ],
            [
             0.7,
             "#b8e186"
            ],
            [
             0.8,
             "#7fbc41"
            ],
            [
             0.9,
             "#4d9221"
            ],
            [
             1,
             "#276419"
            ]
           ],
           "sequential": [
            [
             0,
             "#0d0887"
            ],
            [
             0.1111111111111111,
             "#46039f"
            ],
            [
             0.2222222222222222,
             "#7201a8"
            ],
            [
             0.3333333333333333,
             "#9c179e"
            ],
            [
             0.4444444444444444,
             "#bd3786"
            ],
            [
             0.5555555555555556,
             "#d8576b"
            ],
            [
             0.6666666666666666,
             "#ed7953"
            ],
            [
             0.7777777777777778,
             "#fb9f3a"
            ],
            [
             0.8888888888888888,
             "#fdca26"
            ],
            [
             1,
             "#f0f921"
            ]
           ],
           "sequentialminus": [
            [
             0,
             "#0d0887"
            ],
            [
             0.1111111111111111,
             "#46039f"
            ],
            [
             0.2222222222222222,
             "#7201a8"
            ],
            [
             0.3333333333333333,
             "#9c179e"
            ],
            [
             0.4444444444444444,
             "#bd3786"
            ],
            [
             0.5555555555555556,
             "#d8576b"
            ],
            [
             0.6666666666666666,
             "#ed7953"
            ],
            [
             0.7777777777777778,
             "#fb9f3a"
            ],
            [
             0.8888888888888888,
             "#fdca26"
            ],
            [
             1,
             "#f0f921"
            ]
           ]
          },
          "colorway": [
           "#636efa",
           "#EF553B",
           "#00cc96",
           "#ab63fa",
           "#FFA15A",
           "#19d3f3",
           "#FF6692",
           "#B6E880",
           "#FF97FF",
           "#FECB52"
          ],
          "font": {
           "color": "#2a3f5f"
          },
          "geo": {
           "bgcolor": "white",
           "lakecolor": "white",
           "landcolor": "#E5ECF6",
           "showlakes": true,
           "showland": true,
           "subunitcolor": "white"
          },
          "hoverlabel": {
           "align": "left"
          },
          "hovermode": "closest",
          "mapbox": {
           "style": "light"
          },
          "paper_bgcolor": "white",
          "plot_bgcolor": "#E5ECF6",
          "polar": {
           "angularaxis": {
            "gridcolor": "white",
            "linecolor": "white",
            "ticks": ""
           },
           "bgcolor": "#E5ECF6",
           "radialaxis": {
            "gridcolor": "white",
            "linecolor": "white",
            "ticks": ""
           }
          },
          "scene": {
           "xaxis": {
            "backgroundcolor": "#E5ECF6",
            "gridcolor": "white",
            "gridwidth": 2,
            "linecolor": "white",
            "showbackground": true,
            "ticks": "",
            "zerolinecolor": "white"
           },
           "yaxis": {
            "backgroundcolor": "#E5ECF6",
            "gridcolor": "white",
            "gridwidth": 2,
            "linecolor": "white",
            "showbackground": true,
            "ticks": "",
            "zerolinecolor": "white"
           },
           "zaxis": {
            "backgroundcolor": "#E5ECF6",
            "gridcolor": "white",
            "gridwidth": 2,
            "linecolor": "white",
            "showbackground": true,
            "ticks": "",
            "zerolinecolor": "white"
           }
          },
          "shapedefaults": {
           "line": {
            "color": "#2a3f5f"
           }
          },
          "ternary": {
           "aaxis": {
            "gridcolor": "white",
            "linecolor": "white",
            "ticks": ""
           },
           "baxis": {
            "gridcolor": "white",
            "linecolor": "white",
            "ticks": ""
           },
           "bgcolor": "#E5ECF6",
           "caxis": {
            "gridcolor": "white",
            "linecolor": "white",
            "ticks": ""
           }
          },
          "title": {
           "x": 0.05
          },
          "xaxis": {
           "automargin": true,
           "gridcolor": "white",
           "linecolor": "white",
           "ticks": "",
           "title": {
            "standoff": 15
           },
           "zerolinecolor": "white",
           "zerolinewidth": 2
          },
          "yaxis": {
           "automargin": true,
           "gridcolor": "white",
           "linecolor": "white",
           "ticks": "",
           "title": {
            "standoff": 15
           },
           "zerolinecolor": "white",
           "zerolinewidth": 2
          }
         }
        },
        "width": 800,
        "xaxis": {
         "autorange": true,
         "mirror": "allticks",
         "range": [
          0,
          125
         ],
         "rangemode": "tozero",
         "showgrid": false,
         "showline": true,
         "showticklabels": true,
         "tickmode": "array",
         "ticks": "outside",
         "ticktext": [
          "9",
          "12",
          "0",
          "5",
          "10",
          "7",
          "6",
          "8",
          "11",
          "3",
          "4",
          "1",
          "2"
         ],
         "tickvals": [
          5,
          15,
          25,
          35,
          45,
          55,
          65,
          75,
          85,
          95,
          105,
          115,
          125
         ],
         "type": "linear",
         "zeroline": false
        },
        "yaxis": {
         "autorange": true,
         "mirror": "allticks",
         "range": [
          0,
          34.623626097537496
         ],
         "rangemode": "tozero",
         "showgrid": false,
         "showline": true,
         "showticklabels": true,
         "ticks": "outside",
         "type": "linear",
         "zeroline": false
        }
       }
      },
      "image/png": "[encoded data removed]",
      "text/html": [
       "<div>                            <div id=\"c362cc13-2fe0-47d4-be92-8800d7641604\" class=\"plotly-graph-div\" style=\"height:500px; width:800px;\"></div>            <script type=\"text/javascript\">                require([\"plotly\"], function(Plotly) {                    window.PLOTLYENV=window.PLOTLYENV || {};                                    if (document.getElementById(\"c362cc13-2fe0-47d4-be92-8800d7641604\")) {                    Plotly.newPlot(                        \"c362cc13-2fe0-47d4-be92-8800d7641604\",                        [{\"hoverinfo\":\"text\",\"marker\":{\"color\":\"rgb(61,153,112)\"},\"mode\":\"lines\",\"x\":[5.0,5.0,15.0,15.0],\"xaxis\":\"x\",\"y\":[0.0,8.836745605140843,8.836745605140843,0.0],\"yaxis\":\"y\",\"type\":\"scatter\"},{\"hoverinfo\":\"text\",\"marker\":{\"color\":\"rgb(255,65,54)\"},\"mode\":\"lines\",\"x\":[35.0,35.0,45.0,45.0],\"xaxis\":\"x\",\"y\":[0.0,2.9948382855943283,2.9948382855943283,0.0],\"yaxis\":\"y\",\"type\":\"scatter\"},{\"hoverinfo\":\"text\",\"marker\":{\"color\":\"rgb(255,65,54)\"},\"mode\":\"lines\",\"x\":[25.0,25.0,40.0,40.0],\"xaxis\":\"x\",\"y\":[0.0,3.7071920320844844,3.7071920320844844,2.9948382855943283],\"yaxis\":\"y\",\"type\":\"scatter\"},{\"hoverinfo\":\"text\",\"marker\":{\"color\":\"rgb(255,65,54)\"},\"mode\":\"lines\",\"x\":[65.0,65.0,75.0,75.0],\"xaxis\":\"x\",\"y\":[0.0,4.791883157997874,4.791883157997874,0.0],\"yaxis\":\"y\",\"type\":\"scatter\"},{\"hoverinfo\":\"text\",\"marker\":{\"color\":\"rgb(255,65,54)\"},\"mode\":\"lines\",\"x\":[55.0,55.0,70.0,70.0],\"xaxis\":\"x\",\"y\":[0.0,5.51330577872382,5.51330577872382,4.791883157997874],\"yaxis\":\"y\",\"type\":\"scatter\"},{\"hoverinfo\":\"text\",\"marker\":{\"color\":\"rgb(255,65,54)\"},\"mode\":\"lines\",\"x\":[95.0,95.0,105.0,105.0],\"xaxis\":\"x\",\"y\":[0.0,1.7320686354230985,1.7320686354230985,0.0],\"yaxis\":\"y\",\"type\":\"scatter\"},{\"hoverinfo\":\"text\",\"marker\":{\"color\":\"rgb(255,65,54)\"},\"mode\":\"lines\",\"x\":[115.0,115.0,125.0,125.0],\"xaxis\":\"x\",\"y\":[0.0,3.464101667180786,3.464101667180786,0.0],\"yaxis\":\"y\",\"type\":\"scatter\"},{\"hoverinfo\":\"text\",\"marker\":{\"color\":\"rgb(255,65,54)\"},\"mode\":\"lines\",\"x\":[100.0,100.0,120.0,120.0],\"xaxis\":\"x\",\"y\":[1.7320686354230985,6.0000111309356665,6.0000111309356665,3.464101667180786],\"yaxis\":\"y\",\"type\":\"scatter\"},{\"hoverinfo\":\"text\",\"marker\":{\"color\":\"rgb(255,65,54)\"},\"mode\":\"lines\",\"x\":[85.0,85.0,110.0,110.0],\"xaxis\":\"x\",\"y\":[0.0,12.009719033723862,12.009719033723862,6.0000111309356665],\"yaxis\":\"y\",\"type\":\"scatter\"},{\"hoverinfo\":\"text\",\"marker\":{\"color\":\"rgb(255,65,54)\"},\"mode\":\"lines\",\"x\":[62.5,62.5,97.5,97.5],\"xaxis\":\"x\",\"y\":[5.51330577872382,14.616621813227768,14.616621813227768,12.009719033723862],\"yaxis\":\"y\",\"type\":\"scatter\"},{\"hoverinfo\":\"text\",\"marker\":{\"color\":\"rgb(255,65,54)\"},\"mode\":\"lines\",\"x\":[32.5,32.5,80.0,80.0],\"xaxis\":\"x\",\"y\":[3.7071920320844844,21.057392385107747,21.057392385107747,14.616621813227768],\"yaxis\":\"y\",\"type\":\"scatter\"},{\"hoverinfo\":\"text\",\"marker\":{\"color\":\"rgb(0,116,217)\"},\"mode\":\"lines\",\"x\":[10.0,10.0,56.25,56.25],\"xaxis\":\"x\",\"y\":[8.836745605140843,32.89244479266062,32.89244479266062,21.057392385107747],\"yaxis\":\"y\",\"type\":\"scatter\"}],                        {\"autosize\":false,\"height\":500,\"hovermode\":\"closest\",\"showlegend\":false,\"width\":800,\"xaxis\":{\"mirror\":\"allticks\",\"rangemode\":\"tozero\",\"showgrid\":false,\"showline\":true,\"showticklabels\":true,\"tickmode\":\"array\",\"ticks\":\"outside\",\"ticktext\":[\"9\",\"12\",\"0\",\"5\",\"10\",\"7\",\"6\",\"8\",\"11\",\"3\",\"4\",\"1\",\"2\"],\"tickvals\":[5.0,15.0,25.0,35.0,45.0,55.0,65.0,75.0,85.0,95.0,105.0,115.0,125.0],\"type\":\"linear\",\"zeroline\":false},\"yaxis\":{\"mirror\":\"allticks\",\"rangemode\":\"tozero\",\"showgrid\":false,\"showline\":true,\"showticklabels\":true,\"ticks\":\"outside\",\"type\":\"linear\",\"zeroline\":false},\"template\":{\"data\":{\"bar\":[{\"error_x\":{\"color\":\"#2a3f5f\"},\"error_y\":{\"color\":\"#2a3f5f\"},\"marker\":{\"line\":{\"color\":\"#E5ECF6\",\"width\":0.5},\"pattern\":{\"fillmode\":\"overlay\",\"size\":10,\"solidity\":0.2}},\"type\":\"bar\"}],\"barpolar\":[{\"marker\":{\"line\":{\"color\":\"#E5ECF6\",\"width\":0.5},\"pattern\":{\"fillmode\":\"overlay\",\"size\":10,\"solidity\":0.2}},\"type\":\"barpolar\"}],\"carpet\":[{\"aaxis\":{\"endlinecolor\":\"#2a3f5f\",\"gridcolor\":\"white\",\"linecolor\":\"white\",\"minorgridcolor\":\"white\",\"startlinecolor\":\"#2a3f5f\"},\"baxis\":{\"endlinecolor\":\"#2a3f5f\",\"gridcolor\":\"white\",\"linecolor\":\"white\",\"minorgridcolor\":\"white\",\"startlinecolor\":\"#2a3f5f\"},\"type\":\"carpet\"}],\"choropleth\":[{\"colorbar\":{\"outlinewidth\":0,\"ticks\":\"\"},\"type\":\"choropleth\"}],\"contour\":[{\"colorbar\":{\"outlinewidth\":0,\"ticks\":\"\"},\"colorscale\":[[0.0,\"#0d0887\"],[0.1111111111111111,\"#46039f\"],[0.2222222222222222,\"#7201a8\"],[0.3333333333333333,\"#9c179e\"],[0.4444444444444444,\"#bd3786\"],[0.5555555555555556,\"#d8576b\"],[0.6666666666666666,\"#ed7953\"],[0.7777777777777778,\"#fb9f3a\"],[0.8888888888888888,\"#fdca26\"],[1.0,\"#f0f921\"]],\"type\":\"contour\"}],\"contourcarpet\":[{\"colorbar\":{\"outlinewidth\":0,\"ticks\":\"\"},\"type\":\"contourcarpet\"}],\"heatmap\":[{\"colorbar\":{\"outlinewidth\":0,\"ticks\":\"\"},\"colorscale\":[[0.0,\"#0d0887\"],[0.1111111111111111,\"#46039f\"],[0.2222222222222222,\"#7201a8\"],[0.3333333333333333,\"#9c179e\"],[0.4444444444444444,\"#bd3786\"],[0.5555555555555556,\"#d8576b\"],[0.6666666666666666,\"#ed7953\"],[0.7777777777777778,\"#fb9f3a\"],[0.8888888888888888,\"#fdca26\"],[1.0,\"#f0f921\"]],\"type\":\"heatmap\"}],\"heatmapgl\":[{\"colorbar\":{\"outlinewidth\":0,\"ticks\":\"\"},\"colorscale\":[[0.0,\"#0d0887\"],[0.1111111111111111,\"#46039f\"],[0.2222222222222222,\"#7201a8\"],[0.3333333333333333,\"#9c179e\"],[0.4444444444444444,\"#bd3786\"],[0.5555555555555556,\"#d8576b\"],[0.6666666666666666,\"#ed7953\"],[0.7777777777777778,\"#fb9f3a\"],[0.8888888888888888,\"#fdca26\"],[1.0,\"#f0f921\"]],\"type\":\"heatmapgl\"}],\"histogram\":[{\"marker\":{\"pattern\":{\"fillmode\":\"overlay\",\"size\":10,\"solidity\":0.2}},\"type\":\"histogram\"}],\"histogram2d\":[{\"colorbar\":{\"outlinewidth\":0,\"ticks\":\"\"},\"colorscale\":[[0.0,\"#0d0887\"],[0.1111111111111111,\"#46039f\"],[0.2222222222222222,\"#7201a8\"],[0.3333333333333333,\"#9c179e\"],[0.4444444444444444,\"#bd3786\"],[0.5555555555555556,\"#d8576b\"],[0.6666666666666666,\"#ed7953\"],[0.7777777777777778,\"#fb9f3a\"],[0.8888888888888888,\"#fdca26\"],[1.0,\"#f0f921\"]],\"type\":\"histogram2d\"}],\"histogram2dcontour\":[{\"colorbar\":{\"outlinewidth\":0,\"ticks\":\"\"},\"colorscale\":[[0.0,\"#0d0887\"],[0.1111111111111111,\"#46039f\"],[0.2222222222222222,\"#7201a8\"],[0.3333333333333333,\"#9c179e\"],[0.4444444444444444,\"#bd3786\"],[0.5555555555555556,\"#d8576b\"],[0.6666666666666666,\"#ed7953\"],[0.7777777777777778,\"#fb9f3a\"],[0.8888888888888888,\"#fdca26\"],[1.0,\"#f0f921\"]],\"type\":\"histogram2dcontour\"}],\"mesh3d\":[{\"colorbar\":{\"outlinewidth\":0,\"ticks\":\"\"},\"type\":\"mesh3d\"}],\"parcoords\":[{\"line\":{\"colorbar\":{\"outlinewidth\":0,\"ticks\":\"\"}},\"type\":\"parcoords\"}],\"pie\":[{\"automargin\":true,\"type\":\"pie\"}],\"scatter\":[{\"marker\":{\"colorbar\":{\"outlinewidth\":0,\"ticks\":\"\"}},\"type\":\"scatter\"}],\"scatter3d\":[{\"line\":{\"colorbar\":{\"outlinewidth\":0,\"ticks\":\"\"}},\"marker\":{\"colorbar\":{\"outlinewidth\":0,\"ticks\":\"\"}},\"type\":\"scatter3d\"}],\"scattercarpet\":[{\"marker\":{\"colorbar\":{\"outlinewidth\":0,\"ticks\":\"\"}},\"type\":\"scattercarpet\"}],\"scattergeo\":[{\"marker\":{\"colorbar\":{\"outlinewidth\":0,\"ticks\":\"\"}},\"type\":\"scattergeo\"}],\"scattergl\":[{\"marker\":{\"colorbar\":{\"outlinewidth\":0,\"ticks\":\"\"}},\"type\":\"scattergl\"}],\"scattermapbox\":[{\"marker\":{\"colorbar\":{\"outlinewidth\":0,\"ticks\":\"\"}},\"type\":\"scattermapbox\"}],\"scatterpolar\":[{\"marker\":{\"colorbar\":{\"outlinewidth\":0,\"ticks\":\"\"}},\"type\":\"scatterpolar\"}],\"scatterpolargl\":[{\"marker\":{\"colorbar\":{\"outlinewidth\":0,\"ticks\":\"\"}},\"type\":\"scatterpolargl\"}],\"scatterternary\":[{\"marker\":{\"colorbar\":{\"outlinewidth\":0,\"ticks\":\"\"}},\"type\":\"scatterternary\"}],\"surface\":[{\"colorbar\":{\"outlinewidth\":0,\"ticks\":\"\"},\"colorscale\":[[0.0,\"#0d0887\"],[0.1111111111111111,\"#46039f\"],[0.2222222222222222,\"#7201a8\"],[0.3333333333333333,\"#9c179e\"],[0.4444444444444444,\"#bd3786\"],[0.5555555555555556,\"#d8576b\"],[0.6666666666666666,\"#ed7953\"],[0.7777777777777778,\"#fb9f3a\"],[0.8888888888888888,\"#fdca26\"],[1.0,\"#f0f921\"]],\"type\":\"surface\"}],\"table\":[{\"cells\":{\"fill\":{\"color\":\"#EBF0F8\"},\"line\":{\"color\":\"white\"}},\"header\":{\"fill\":{\"color\":\"#C8D4E3\"},\"line\":{\"color\":\"white\"}},\"type\":\"table\"}]},\"layout\":{\"annotationdefaults\":{\"arrowcolor\":\"#2a3f5f\",\"arrowhead\":0,\"arrowwidth\":1},\"autotypenumbers\":\"strict\",\"coloraxis\":{\"colorbar\":{\"outlinewidth\":0,\"ticks\":\"\"}},\"colorscale\":{\"diverging\":[[0,\"#8e0152\"],[0.1,\"#c51b7d\"],[0.2,\"#de77ae\"],[0.3,\"#f1b6da\"],[0.4,\"#fde0ef\"],[0.5,\"#f7f7f7\"],[0.6,\"#e6f5d0\"],[0.7,\"#b8e186\"],[0.8,\"#7fbc41\"],[0.9,\"#4d9221\"],[1,\"#276419\"]],\"sequential\":[[0.0,\"#0d0887\"],[0.1111111111111111,\"#46039f\"],[0.2222222222222222,\"#7201a8\"],[0.3333333333333333,\"#9c179e\"],[0.4444444444444444,\"#bd3786\"],[0.5555555555555556,\"#d8576b\"],[0.6666666666666666,\"#ed7953\"],[0.7777777777777778,\"#fb9f3a\"],[0.8888888888888888,\"#fdca26\"],[1.0,\"#f0f921\"]],\"sequentialminus\":[[0.0,\"#0d0887\"],[0.1111111111111111,\"#46039f\"],[0.2222222222222222,\"#7201a8\"],[0.3333333333333333,\"#9c179e\"],[0.4444444444444444,\"#bd3786\"],[0.5555555555555556,\"#d8576b\"],[0.6666666666666666,\"#ed7953\"],[0.7777777777777778,\"#fb9f3a\"],[0.8888888888888888,\"#fdca26\"],[1.0,\"#f0f921\"]]},\"colorway\":[\"#636efa\",\"#EF553B\",\"#00cc96\",\"#ab63fa\",\"#FFA15A\",\"#19d3f3\",\"#FF6692\",\"#B6E880\",\"#FF97FF\",\"#FECB52\"],\"font\":{\"color\":\"#2a3f5f\"},\"geo\":{\"bgcolor\":\"white\",\"lakecolor\":\"white\",\"landcolor\":\"#E5ECF6\",\"showlakes\":true,\"showland\":true,\"subunitcolor\":\"white\"},\"hoverlabel\":{\"align\":\"left\"},\"hovermode\":\"closest\",\"mapbox\":{\"style\":\"light\"},\"paper_bgcolor\":\"white\",\"plot_bgcolor\":\"#E5ECF6\",\"polar\":{\"angularaxis\":{\"gridcolor\":\"white\",\"linecolor\":\"white\",\"ticks\":\"\"},\"bgcolor\":\"#E5ECF6\",\"radialaxis\":{\"gridcolor\":\"white\",\"linecolor\":\"white\",\"ticks\":\"\"}},\"scene\":{\"xaxis\":{\"backgroundcolor\":\"#E5ECF6\",\"gridcolor\":\"white\",\"gridwidth\":2,\"linecolor\":\"white\",\"showbackground\":true,\"ticks\":\"\",\"zerolinecolor\":\"white\"},\"yaxis\":{\"backgroundcolor\":\"#E5ECF6\",\"gridcolor\":\"white\",\"gridwidth\":2,\"linecolor\":\"white\",\"showbackground\":true,\"ticks\":\"\",\"zerolinecolor\":\"white\"},\"zaxis\":{\"backgroundcolor\":\"#E5ECF6\",\"gridcolor\":\"white\",\"gridwidth\":2,\"linecolor\":\"white\",\"showbackground\":true,\"ticks\":\"\",\"zerolinecolor\":\"white\"}},\"shapedefaults\":{\"line\":{\"color\":\"#2a3f5f\"}},\"ternary\":{\"aaxis\":{\"gridcolor\":\"white\",\"linecolor\":\"white\",\"ticks\":\"\"},\"baxis\":{\"gridcolor\":\"white\",\"linecolor\":\"white\",\"ticks\":\"\"},\"bgcolor\":\"#E5ECF6\",\"caxis\":{\"gridcolor\":\"white\",\"linecolor\":\"white\",\"ticks\":\"\"}},\"title\":{\"x\":0.05},\"xaxis\":{\"automargin\":true,\"gridcolor\":\"white\",\"linecolor\":\"white\",\"ticks\":\"\",\"title\":{\"standoff\":15},\"zerolinecolor\":\"white\",\"zerolinewidth\":2},\"yaxis\":{\"automargin\":true,\"gridcolor\":\"white\",\"linecolor\":\"white\",\"ticks\":\"\",\"title\":{\"standoff\":15},\"zerolinecolor\":\"white\",\"zerolinewidth\":2}}}},                        {\"responsive\": true}                    ).then(function(){\n",
       "                            \n",
       "var gd = document.getElementById('c362cc13-2fe0-47d4-be92-8800d7641604');\n",
       "var x = new MutationObserver(function (mutations, observer) {{\n",
       "        var display = window.getComputedStyle(gd).display;\n",
       "        if (!display || display === 'none') {{\n",
       "            console.log([gd, 'removed!']);\n",
       "            Plotly.purge(gd);\n",
       "            observer.disconnect();\n",
       "        }}\n",
       "}});\n",
       "\n",
       "// Listen for the removal of the full notebook cells\n",
       "var notebookContainer = gd.closest('#notebook-container');\n",
       "if (notebookContainer) {{\n",
       "    x.observe(notebookContainer, {childList: true});\n",
       "}}\n",
       "\n",
       "// Listen for the clearing of the current output cell\n",
       "var outputEl = gd.closest('.output');\n",
       "if (outputEl) {{\n",
       "    x.observe(outputEl, {childList: true});\n",
       "}}\n",
       "\n",
       "                        })                };                });            </script>        </div>"
      ]
     },
     "metadata": {},
     "output_type": "display_data"
    },
    {
     "data": {
      "image/png": "[encoded data removed]",
      "text/plain": [
       "<Figure size 1000x500 with 1 Axes>"
      ]
     },
     "metadata": {},
     "output_type": "display_data"
    },
    {
     "name": "stdout",
     "output_type": "stream",
     "text": [
      "\n",
      "    \n",
      " How many unique agencies are in Cluster 6: 1\n",
      "    Cluster 6 sample:\n"
     ]
    },
    {
     "data": {
      "text/html": [
       "<div>\n",
       "<style scoped>\n",
       "    .dataframe tbody tr th:only-of-type {\n",
       "        vertical-align: middle;\n",
       "    }\n",
       "\n",
       "    .dataframe tbody tr th {\n",
       "        vertical-align: top;\n",
       "    }\n",
       "\n",
       "    .dataframe thead th {\n",
       "        text-align: right;\n",
       "    }\n",
       "</style>\n",
       "<table border=\"1\" class=\"dataframe\">\n",
       "  <thead>\n",
       "    <tr style=\"text-align: right;\">\n",
       "      <th></th>\n",
       "      <th>ntd_id</th>\n",
       "      <th>source_agency</th>\n",
       "      <th>city</th>\n",
       "      <th>primary_uza_name</th>\n",
       "      <th>mode_group</th>\n",
       "      <th>total_upt</th>\n",
       "      <th>total_vrh</th>\n",
       "      <th>total_vrm</th>\n",
       "      <th>opexp_total</th>\n",
       "      <th>total_voms</th>\n",
       "      <th>cluster_name</th>\n",
       "    </tr>\n",
       "  </thead>\n",
       "  <tbody>\n",
       "    <tr>\n",
       "      <th>0</th>\n",
       "      <td>90003</td>\n",
       "      <td>San Francisco Bay Area Rapid Transit District ...</td>\n",
       "      <td>Oakland</td>\n",
       "      <td>San Francisco--Oakland, CA</td>\n",
       "      <td>fixed_guideway</td>\n",
       "      <td>31727751250</td>\n",
       "      <td>1021527750</td>\n",
       "      <td>31962655875</td>\n",
       "      <td>293469359250</td>\n",
       "      <td>218250</td>\n",
       "      <td>6</td>\n",
       "    </tr>\n",
       "  </tbody>\n",
       "</table>\n",
       "</div>"
      ],
      "text/plain": [
       "  ntd_id                                      source_agency     city  \\\n",
       "0  90003  San Francisco Bay Area Rapid Transit District ...  Oakland   \n",
       "\n",
       "             primary_uza_name      mode_group    total_upt   total_vrh  \\\n",
       "0  San Francisco--Oakland, CA  fixed_guideway  31727751250  1021527750   \n",
       "\n",
       "     total_vrm   opexp_total  total_voms  cluster_name  \n",
       "0  31962655875  293469359250      218250             6  "
      ]
     },
     "metadata": {},
     "output_type": "display_data"
    },
    {
     "name": "stdout",
     "output_type": "stream",
     "text": [
      "\n",
      "    \n",
      " How many unique agencies are in Cluster 8: 1\n",
      "    Cluster 8 sample:\n"
     ]
    },
    {
     "data": {
      "text/html": [
       "<div>\n",
       "<style scoped>\n",
       "    .dataframe tbody tr th:only-of-type {\n",
       "        vertical-align: middle;\n",
       "    }\n",
       "\n",
       "    .dataframe tbody tr th {\n",
       "        vertical-align: top;\n",
       "    }\n",
       "\n",
       "    .dataframe thead th {\n",
       "        text-align: right;\n",
       "    }\n",
       "</style>\n",
       "<table border=\"1\" class=\"dataframe\">\n",
       "  <thead>\n",
       "    <tr style=\"text-align: right;\">\n",
       "      <th></th>\n",
       "      <th>ntd_id</th>\n",
       "      <th>source_agency</th>\n",
       "      <th>city</th>\n",
       "      <th>primary_uza_name</th>\n",
       "      <th>mode_group</th>\n",
       "      <th>total_upt</th>\n",
       "      <th>total_vrh</th>\n",
       "      <th>total_vrm</th>\n",
       "      <th>opexp_total</th>\n",
       "      <th>total_voms</th>\n",
       "      <th>cluster_name</th>\n",
       "    </tr>\n",
       "  </thead>\n",
       "  <tbody>\n",
       "    <tr>\n",
       "      <th>9</th>\n",
       "      <td>90013</td>\n",
       "      <td>Santa Clara Valley Transportation Authority (VTA)</td>\n",
       "      <td>San Jose</td>\n",
       "      <td>San Jose, CA</td>\n",
       "      <td>fixed_guideway</td>\n",
       "      <td>16989417472</td>\n",
       "      <td>1774765056</td>\n",
       "      <td>22301998080</td>\n",
       "      <td>464968674304</td>\n",
       "      <td>524288</td>\n",
       "      <td>8</td>\n",
       "    </tr>\n",
       "  </tbody>\n",
       "</table>\n",
       "</div>"
      ],
      "text/plain": [
       "  ntd_id                                      source_agency      city  \\\n",
       "9  90013  Santa Clara Valley Transportation Authority (VTA)  San Jose   \n",
       "\n",
       "  primary_uza_name      mode_group    total_upt   total_vrh    total_vrm  \\\n",
       "9     San Jose, CA  fixed_guideway  16989417472  1774765056  22301998080   \n",
       "\n",
       "    opexp_total  total_voms  cluster_name  \n",
       "9  464968674304      524288             8  "
      ]
     },
     "metadata": {},
     "output_type": "display_data"
    },
    {
     "name": "stdout",
     "output_type": "stream",
     "text": [
      "\n",
      "    \n",
      " How many unique agencies are in Cluster 7: 1\n",
      "    Cluster 7 sample:\n"
     ]
    },
    {
     "data": {
      "text/html": [
       "<div>\n",
       "<style scoped>\n",
       "    .dataframe tbody tr th:only-of-type {\n",
       "        vertical-align: middle;\n",
       "    }\n",
       "\n",
       "    .dataframe tbody tr th {\n",
       "        vertical-align: top;\n",
       "    }\n",
       "\n",
       "    .dataframe thead th {\n",
       "        text-align: right;\n",
       "    }\n",
       "</style>\n",
       "<table border=\"1\" class=\"dataframe\">\n",
       "  <thead>\n",
       "    <tr style=\"text-align: right;\">\n",
       "      <th></th>\n",
       "      <th>ntd_id</th>\n",
       "      <th>source_agency</th>\n",
       "      <th>city</th>\n",
       "      <th>primary_uza_name</th>\n",
       "      <th>mode_group</th>\n",
       "      <th>total_upt</th>\n",
       "      <th>total_vrh</th>\n",
       "      <th>total_vrm</th>\n",
       "      <th>opexp_total</th>\n",
       "      <th>total_voms</th>\n",
       "      <th>cluster_name</th>\n",
       "    </tr>\n",
       "  </thead>\n",
       "  <tbody>\n",
       "    <tr>\n",
       "      <th>12</th>\n",
       "      <td>90015</td>\n",
       "      <td>City and County of San Francisco (SFMTA) - Tra...</td>\n",
       "      <td>San Francisco</td>\n",
       "      <td>San Francisco--Oakland, CA</td>\n",
       "      <td>fixed_guideway</td>\n",
       "      <td>160959292039</td>\n",
       "      <td>4530659560</td>\n",
       "      <td>33210463244</td>\n",
       "      <td>1337006576108</td>\n",
       "      <td>1061928</td>\n",
       "      <td>7</td>\n",
       "    </tr>\n",
       "  </tbody>\n",
       "</table>\n",
       "</div>"
      ],
      "text/plain": [
       "   ntd_id                                      source_agency           city  \\\n",
       "12  90015  City and County of San Francisco (SFMTA) - Tra...  San Francisco   \n",
       "\n",
       "              primary_uza_name      mode_group     total_upt   total_vrh  \\\n",
       "12  San Francisco--Oakland, CA  fixed_guideway  160959292039  4530659560   \n",
       "\n",
       "      total_vrm    opexp_total  total_voms  cluster_name  \n",
       "12  33210463244  1337006576108     1061928             7  "
      ]
     },
     "metadata": {},
     "output_type": "display_data"
    },
    {
     "name": "stdout",
     "output_type": "stream",
     "text": [
      "\n",
      "    \n",
      " How many unique agencies are in Cluster 3: 1\n",
      "    Cluster 3 sample:\n"
     ]
    },
    {
     "data": {
      "text/html": [
       "<div>\n",
       "<style scoped>\n",
       "    .dataframe tbody tr th:only-of-type {\n",
       "        vertical-align: middle;\n",
       "    }\n",
       "\n",
       "    .dataframe tbody tr th {\n",
       "        vertical-align: top;\n",
       "    }\n",
       "\n",
       "    .dataframe thead th {\n",
       "        text-align: right;\n",
       "    }\n",
       "</style>\n",
       "<table border=\"1\" class=\"dataframe\">\n",
       "  <thead>\n",
       "    <tr style=\"text-align: right;\">\n",
       "      <th></th>\n",
       "      <th>ntd_id</th>\n",
       "      <th>source_agency</th>\n",
       "      <th>city</th>\n",
       "      <th>primary_uza_name</th>\n",
       "      <th>mode_group</th>\n",
       "      <th>total_upt</th>\n",
       "      <th>total_vrh</th>\n",
       "      <th>total_vrm</th>\n",
       "      <th>opexp_total</th>\n",
       "      <th>total_voms</th>\n",
       "      <th>cluster_name</th>\n",
       "    </tr>\n",
       "  </thead>\n",
       "  <tbody>\n",
       "    <tr>\n",
       "      <th>17</th>\n",
       "      <td>90019</td>\n",
       "      <td>Sacramento Regional Transit District</td>\n",
       "      <td>Sacramento</td>\n",
       "      <td>Sacramento, CA</td>\n",
       "      <td>fixed_guideway</td>\n",
       "      <td>14744348920</td>\n",
       "      <td>349659688</td>\n",
       "      <td>4813492558</td>\n",
       "      <td>81757163411</td>\n",
       "      <td>128282</td>\n",
       "      <td>3</td>\n",
       "    </tr>\n",
       "  </tbody>\n",
       "</table>\n",
       "</div>"
      ],
      "text/plain": [
       "   ntd_id                         source_agency        city primary_uza_name  \\\n",
       "17  90019  Sacramento Regional Transit District  Sacramento   Sacramento, CA   \n",
       "\n",
       "        mode_group    total_upt  total_vrh   total_vrm  opexp_total  \\\n",
       "17  fixed_guideway  14744348920  349659688  4813492558  81757163411   \n",
       "\n",
       "    total_voms  cluster_name  \n",
       "17      128282             3  "
      ]
     },
     "metadata": {},
     "output_type": "display_data"
    },
    {
     "name": "stdout",
     "output_type": "stream",
     "text": [
      "\n",
      "    \n",
      " How many unique agencies are in Cluster 0: 5\n",
      "    Cluster 0 sample:\n"
     ]
    },
    {
     "data": {
      "text/html": [
       "<div>\n",
       "<style scoped>\n",
       "    .dataframe tbody tr th:only-of-type {\n",
       "        vertical-align: middle;\n",
       "    }\n",
       "\n",
       "    .dataframe tbody tr th {\n",
       "        vertical-align: top;\n",
       "    }\n",
       "\n",
       "    .dataframe thead th {\n",
       "        text-align: right;\n",
       "    }\n",
       "</style>\n",
       "<table border=\"1\" class=\"dataframe\">\n",
       "  <thead>\n",
       "    <tr style=\"text-align: right;\">\n",
       "      <th></th>\n",
       "      <th>ntd_id</th>\n",
       "      <th>source_agency</th>\n",
       "      <th>city</th>\n",
       "      <th>primary_uza_name</th>\n",
       "      <th>mode_group</th>\n",
       "      <th>total_upt</th>\n",
       "      <th>total_vrh</th>\n",
       "      <th>total_vrm</th>\n",
       "      <th>opexp_total</th>\n",
       "      <th>total_voms</th>\n",
       "      <th>cluster_name</th>\n",
       "    </tr>\n",
       "  </thead>\n",
       "  <tbody>\n",
       "    <tr>\n",
       "      <th>20</th>\n",
       "      <td>90021</td>\n",
       "      <td>Los Angeles County Metropolitan Transportation...</td>\n",
       "      <td>none</td>\n",
       "      <td>Los Angeles--Long Beach--Anaheim, CA</td>\n",
       "      <td>fixed_guideway</td>\n",
       "      <td>0</td>\n",
       "      <td>0</td>\n",
       "      <td>0</td>\n",
       "      <td>0</td>\n",
       "      <td>0</td>\n",
       "      <td>0</td>\n",
       "    </tr>\n",
       "    <tr>\n",
       "      <th>45</th>\n",
       "      <td>90054</td>\n",
       "      <td>San Diego Trolley, Inc. (MTS)</td>\n",
       "      <td>none</td>\n",
       "      <td>San Diego, CA</td>\n",
       "      <td>fixed_guideway</td>\n",
       "      <td>0</td>\n",
       "      <td>0</td>\n",
       "      <td>0</td>\n",
       "      <td>0</td>\n",
       "      <td>0</td>\n",
       "      <td>0</td>\n",
       "    </tr>\n",
       "    <tr>\n",
       "      <th>65</th>\n",
       "      <td>90134</td>\n",
       "      <td>Peninsula Corridor Joint Powers Board (PCJPB)</td>\n",
       "      <td>San Carlos</td>\n",
       "      <td>San Francisco--Oakland, CA</td>\n",
       "      <td>fixed_guideway</td>\n",
       "      <td>112193856</td>\n",
       "      <td>1713224</td>\n",
       "      <td>54405024</td>\n",
       "      <td>1383146680</td>\n",
       "      <td>680</td>\n",
       "      <td>0</td>\n",
       "    </tr>\n",
       "    <tr>\n",
       "      <th>99</th>\n",
       "      <td>90182</td>\n",
       "      <td>Altamont Corridor Express (ACE)</td>\n",
       "      <td>Stockton</td>\n",
       "      <td>Stockton, CA</td>\n",
       "      <td>fixed_guideway</td>\n",
       "      <td>7591968</td>\n",
       "      <td>198656</td>\n",
       "      <td>7908240</td>\n",
       "      <td>289204088</td>\n",
       "      <td>216</td>\n",
       "      <td>0</td>\n",
       "    </tr>\n",
       "    <tr>\n",
       "      <th>196</th>\n",
       "      <td>90299</td>\n",
       "      <td>Sonoma-Marin Area Rail Transit District (SMART)</td>\n",
       "      <td>Petaluma</td>\n",
       "      <td>Santa Rosa, CA</td>\n",
       "      <td>fixed_guideway</td>\n",
       "      <td>10241584</td>\n",
       "      <td>273784</td>\n",
       "      <td>7818472</td>\n",
       "      <td>244680528</td>\n",
       "      <td>96</td>\n",
       "      <td>0</td>\n",
       "    </tr>\n",
       "  </tbody>\n",
       "</table>\n",
       "</div>"
      ],
      "text/plain": [
       "    ntd_id                                      source_agency        city  \\\n",
       "20   90021  Los Angeles County Metropolitan Transportation...        none   \n",
       "45   90054                      San Diego Trolley, Inc. (MTS)        none   \n",
       "65   90134      Peninsula Corridor Joint Powers Board (PCJPB)  San Carlos   \n",
       "99   90182                    Altamont Corridor Express (ACE)    Stockton   \n",
       "196  90299    Sonoma-Marin Area Rail Transit District (SMART)    Petaluma   \n",
       "\n",
       "                         primary_uza_name      mode_group  total_upt  \\\n",
       "20   Los Angeles--Long Beach--Anaheim, CA  fixed_guideway          0   \n",
       "45                          San Diego, CA  fixed_guideway          0   \n",
       "65             San Francisco--Oakland, CA  fixed_guideway  112193856   \n",
       "99                           Stockton, CA  fixed_guideway    7591968   \n",
       "196                        Santa Rosa, CA  fixed_guideway   10241584   \n",
       "\n",
       "     total_vrh  total_vrm  opexp_total  total_voms  cluster_name  \n",
       "20           0          0            0           0             0  \n",
       "45           0          0            0           0             0  \n",
       "65     1713224   54405024   1383146680         680             0  \n",
       "99      198656    7908240    289204088         216             0  \n",
       "196     273784    7818472    244680528          96             0  "
      ]
     },
     "metadata": {},
     "output_type": "display_data"
    },
    {
     "name": "stdout",
     "output_type": "stream",
     "text": [
      "\n",
      "    \n",
      " How many unique agencies are in Cluster 5: 1\n",
      "    Cluster 5 sample:\n"
     ]
    },
    {
     "data": {
      "text/html": [
       "<div>\n",
       "<style scoped>\n",
       "    .dataframe tbody tr th:only-of-type {\n",
       "        vertical-align: middle;\n",
       "    }\n",
       "\n",
       "    .dataframe tbody tr th {\n",
       "        vertical-align: top;\n",
       "    }\n",
       "\n",
       "    .dataframe thead th {\n",
       "        text-align: right;\n",
       "    }\n",
       "</style>\n",
       "<table border=\"1\" class=\"dataframe\">\n",
       "  <thead>\n",
       "    <tr style=\"text-align: right;\">\n",
       "      <th></th>\n",
       "      <th>ntd_id</th>\n",
       "      <th>source_agency</th>\n",
       "      <th>city</th>\n",
       "      <th>primary_uza_name</th>\n",
       "      <th>mode_group</th>\n",
       "      <th>total_upt</th>\n",
       "      <th>total_vrh</th>\n",
       "      <th>total_vrm</th>\n",
       "      <th>opexp_total</th>\n",
       "      <th>total_voms</th>\n",
       "      <th>cluster_name</th>\n",
       "    </tr>\n",
       "  </thead>\n",
       "  <tbody>\n",
       "    <tr>\n",
       "      <th>26</th>\n",
       "      <td>90026</td>\n",
       "      <td>San Diego Metropolitan Transit System (MTS)</td>\n",
       "      <td>San Diego</td>\n",
       "      <td>San Diego, CA</td>\n",
       "      <td>fixed_guideway</td>\n",
       "      <td>86549711360</td>\n",
       "      <td>882610687</td>\n",
       "      <td>11694910507</td>\n",
       "      <td>121153121614</td>\n",
       "      <td>265482</td>\n",
       "      <td>5</td>\n",
       "    </tr>\n",
       "  </tbody>\n",
       "</table>\n",
       "</div>"
      ],
      "text/plain": [
       "   ntd_id                                source_agency       city  \\\n",
       "26  90026  San Diego Metropolitan Transit System (MTS)  San Diego   \n",
       "\n",
       "   primary_uza_name      mode_group    total_upt  total_vrh    total_vrm  \\\n",
       "26    San Diego, CA  fixed_guideway  86549711360  882610687  11694910507   \n",
       "\n",
       "     opexp_total  total_voms  cluster_name  \n",
       "26  121153121614      265482             5  "
      ]
     },
     "metadata": {},
     "output_type": "display_data"
    },
    {
     "name": "stdout",
     "output_type": "stream",
     "text": [
      "\n",
      "    \n",
      " How many unique agencies are in Cluster 9: 1\n",
      "    Cluster 9 sample:\n"
     ]
    },
    {
     "data": {
      "text/html": [
       "<div>\n",
       "<style scoped>\n",
       "    .dataframe tbody tr th:only-of-type {\n",
       "        vertical-align: middle;\n",
       "    }\n",
       "\n",
       "    .dataframe tbody tr th {\n",
       "        vertical-align: top;\n",
       "    }\n",
       "\n",
       "    .dataframe thead th {\n",
       "        text-align: right;\n",
       "    }\n",
       "</style>\n",
       "<table border=\"1\" class=\"dataframe\">\n",
       "  <thead>\n",
       "    <tr style=\"text-align: right;\">\n",
       "      <th></th>\n",
       "      <th>ntd_id</th>\n",
       "      <th>source_agency</th>\n",
       "      <th>city</th>\n",
       "      <th>primary_uza_name</th>\n",
       "      <th>mode_group</th>\n",
       "      <th>total_upt</th>\n",
       "      <th>total_vrh</th>\n",
       "      <th>total_vrm</th>\n",
       "      <th>opexp_total</th>\n",
       "      <th>total_voms</th>\n",
       "      <th>cluster_name</th>\n",
       "    </tr>\n",
       "  </thead>\n",
       "  <tbody>\n",
       "    <tr>\n",
       "      <th>32</th>\n",
       "      <td>90030</td>\n",
       "      <td>North County Transit District (NCTD)</td>\n",
       "      <td>Oceanside</td>\n",
       "      <td>San Diego, CA</td>\n",
       "      <td>fixed_guideway</td>\n",
       "      <td>16388019873</td>\n",
       "      <td>1916854470</td>\n",
       "      <td>29903995530</td>\n",
       "      <td>494657070615</td>\n",
       "      <td>688905</td>\n",
       "      <td>9</td>\n",
       "    </tr>\n",
       "  </tbody>\n",
       "</table>\n",
       "</div>"
      ],
      "text/plain": [
       "   ntd_id                         source_agency       city primary_uza_name  \\\n",
       "32  90030  North County Transit District (NCTD)  Oceanside    San Diego, CA   \n",
       "\n",
       "        mode_group    total_upt   total_vrh    total_vrm   opexp_total  \\\n",
       "32  fixed_guideway  16388019873  1916854470  29903995530  494657070615   \n",
       "\n",
       "    total_voms  cluster_name  \n",
       "32      688905             9  "
      ]
     },
     "metadata": {},
     "output_type": "display_data"
    },
    {
     "name": "stdout",
     "output_type": "stream",
     "text": [
      "\n",
      "    \n",
      " How many unique agencies are in Cluster 4: 1\n",
      "    Cluster 4 sample:\n"
     ]
    },
    {
     "data": {
      "text/html": [
       "<div>\n",
       "<style scoped>\n",
       "    .dataframe tbody tr th:only-of-type {\n",
       "        vertical-align: middle;\n",
       "    }\n",
       "\n",
       "    .dataframe tbody tr th {\n",
       "        vertical-align: top;\n",
       "    }\n",
       "\n",
       "    .dataframe thead th {\n",
       "        text-align: right;\n",
       "    }\n",
       "</style>\n",
       "<table border=\"1\" class=\"dataframe\">\n",
       "  <thead>\n",
       "    <tr style=\"text-align: right;\">\n",
       "      <th></th>\n",
       "      <th>ntd_id</th>\n",
       "      <th>source_agency</th>\n",
       "      <th>city</th>\n",
       "      <th>primary_uza_name</th>\n",
       "      <th>mode_group</th>\n",
       "      <th>total_upt</th>\n",
       "      <th>total_vrh</th>\n",
       "      <th>total_vrm</th>\n",
       "      <th>opexp_total</th>\n",
       "      <th>total_voms</th>\n",
       "      <th>cluster_name</th>\n",
       "    </tr>\n",
       "  </thead>\n",
       "  <tbody>\n",
       "    <tr>\n",
       "      <th>36</th>\n",
       "      <td>90036</td>\n",
       "      <td>Orange County Transportation Authority (OCTA)</td>\n",
       "      <td>Orange</td>\n",
       "      <td>Los Angeles--Long Beach--Anaheim, CA</td>\n",
       "      <td>fixed_guideway</td>\n",
       "      <td>0</td>\n",
       "      <td>5528715786</td>\n",
       "      <td>74621298466</td>\n",
       "      <td>857846579392</td>\n",
       "      <td>2150896</td>\n",
       "      <td>4</td>\n",
       "    </tr>\n",
       "  </tbody>\n",
       "</table>\n",
       "</div>"
      ],
      "text/plain": [
       "   ntd_id                                  source_agency    city  \\\n",
       "36  90036  Orange County Transportation Authority (OCTA)  Orange   \n",
       "\n",
       "                        primary_uza_name      mode_group  total_upt  \\\n",
       "36  Los Angeles--Long Beach--Anaheim, CA  fixed_guideway          0   \n",
       "\n",
       "     total_vrh    total_vrm   opexp_total  total_voms  cluster_name  \n",
       "36  5528715786  74621298466  857846579392     2150896             4  "
      ]
     },
     "metadata": {},
     "output_type": "display_data"
    },
    {
     "name": "stdout",
     "output_type": "stream",
     "text": [
      "\n",
      "    \n",
      " How many unique agencies are in Cluster 1: 1\n",
      "    Cluster 1 sample:\n"
     ]
    },
    {
     "data": {
      "text/html": [
       "<div>\n",
       "<style scoped>\n",
       "    .dataframe tbody tr th:only-of-type {\n",
       "        vertical-align: middle;\n",
       "    }\n",
       "\n",
       "    .dataframe tbody tr th {\n",
       "        vertical-align: top;\n",
       "    }\n",
       "\n",
       "    .dataframe thead th {\n",
       "        text-align: right;\n",
       "    }\n",
       "</style>\n",
       "<table border=\"1\" class=\"dataframe\">\n",
       "  <thead>\n",
       "    <tr style=\"text-align: right;\">\n",
       "      <th></th>\n",
       "      <th>ntd_id</th>\n",
       "      <th>source_agency</th>\n",
       "      <th>city</th>\n",
       "      <th>primary_uza_name</th>\n",
       "      <th>mode_group</th>\n",
       "      <th>total_upt</th>\n",
       "      <th>total_vrh</th>\n",
       "      <th>total_vrm</th>\n",
       "      <th>opexp_total</th>\n",
       "      <th>total_voms</th>\n",
       "      <th>cluster_name</th>\n",
       "    </tr>\n",
       "  </thead>\n",
       "  <tbody>\n",
       "    <tr>\n",
       "      <th>75</th>\n",
       "      <td>90151</td>\n",
       "      <td>Southern California Regional Rail Authority (S...</td>\n",
       "      <td>Los Angeles</td>\n",
       "      <td>Los Angeles--Long Beach--Anaheim, CA</td>\n",
       "      <td>fixed_guideway</td>\n",
       "      <td>59254464</td>\n",
       "      <td>4902224</td>\n",
       "      <td>177320976</td>\n",
       "      <td>4453328064</td>\n",
       "      <td>3120</td>\n",
       "      <td>1</td>\n",
       "    </tr>\n",
       "  </tbody>\n",
       "</table>\n",
       "</div>"
      ],
      "text/plain": [
       "   ntd_id                                      source_agency         city  \\\n",
       "75  90151  Southern California Regional Rail Authority (S...  Los Angeles   \n",
       "\n",
       "                        primary_uza_name      mode_group  total_upt  \\\n",
       "75  Los Angeles--Long Beach--Anaheim, CA  fixed_guideway   59254464   \n",
       "\n",
       "    total_vrh  total_vrm  opexp_total  total_voms  cluster_name  \n",
       "75    4902224  177320976   4453328064        3120             1  "
      ]
     },
     "metadata": {},
     "output_type": "display_data"
    },
    {
     "name": "stdout",
     "output_type": "stream",
     "text": [
      "\n",
      "    \n",
      " How many unique agencies are in Cluster 2: 1\n",
      "    Cluster 2 sample:\n"
     ]
    },
    {
     "data": {
      "text/html": [
       "<div>\n",
       "<style scoped>\n",
       "    .dataframe tbody tr th:only-of-type {\n",
       "        vertical-align: middle;\n",
       "    }\n",
       "\n",
       "    .dataframe tbody tr th {\n",
       "        vertical-align: top;\n",
       "    }\n",
       "\n",
       "    .dataframe thead th {\n",
       "        text-align: right;\n",
       "    }\n",
       "</style>\n",
       "<table border=\"1\" class=\"dataframe\">\n",
       "  <thead>\n",
       "    <tr style=\"text-align: right;\">\n",
       "      <th></th>\n",
       "      <th>ntd_id</th>\n",
       "      <th>source_agency</th>\n",
       "      <th>city</th>\n",
       "      <th>primary_uza_name</th>\n",
       "      <th>mode_group</th>\n",
       "      <th>total_upt</th>\n",
       "      <th>total_vrh</th>\n",
       "      <th>total_vrm</th>\n",
       "      <th>opexp_total</th>\n",
       "      <th>total_voms</th>\n",
       "      <th>cluster_name</th>\n",
       "    </tr>\n",
       "  </thead>\n",
       "  <tbody>\n",
       "    <tr>\n",
       "      <th>76</th>\n",
       "      <td>90154</td>\n",
       "      <td>Los Angeles County Metropolitan Transportation...</td>\n",
       "      <td>Los Angeles</td>\n",
       "      <td>Los Angeles--Long Beach--Anaheim, CA</td>\n",
       "      <td>fixed_guideway</td>\n",
       "      <td>259862208512</td>\n",
       "      <td>8417443840</td>\n",
       "      <td>112094690304</td>\n",
       "      <td>2249343372288</td>\n",
       "      <td>2714624</td>\n",
       "      <td>2</td>\n",
       "    </tr>\n",
       "  </tbody>\n",
       "</table>\n",
       "</div>"
      ],
      "text/plain": [
       "   ntd_id                                      source_agency         city  \\\n",
       "76  90154  Los Angeles County Metropolitan Transportation...  Los Angeles   \n",
       "\n",
       "                        primary_uza_name      mode_group     total_upt  \\\n",
       "76  Los Angeles--Long Beach--Anaheim, CA  fixed_guideway  259862208512   \n",
       "\n",
       "     total_vrh     total_vrm    opexp_total  total_voms  cluster_name  \n",
       "76  8417443840  112094690304  2249343372288     2714624             2  "
      ]
     },
     "metadata": {},
     "output_type": "display_data"
    }
   ],
   "source": [
    "fixed_route_2023 = make_hierarchal_clustering(\n",
    "    data = fixed_route_data,\n",
    "    num_cols = numerical_cols,\n",
    "    cat_cols = [\"mode_group\"],\n",
    "    cluster_num = 10\n",
    "    \n",
    ")\n",
    "\n",
    "z_fixed_route = make_dendrogram_data(\n",
    "    data = fixed_route_data,\n",
    "    num_cols = numerical_cols,\n",
    "    cat_cols = [\"mode_group\"]\n",
    ")\n",
    "\n",
    "display(fixed_route_2023.head())\n",
    "\n",
    "\n",
    "fig_fixed_route = ff.create_dendrogram(z_fixed_route,)\n",
    "fig_fixed_route.update_layout(width=800, height=500)\n",
    "fig_fixed_route.show()\n",
    "\n",
    "\n",
    "plt.figure(figsize=(10, 5))\n",
    "dendrogram(z_fixed_route, labels=fixed_route_data[\"ntd_id\"].tolist(), leaf_rotation=90)\n",
    "plt.title(\"Dendrogram (Ward's Method)\")\n",
    "plt.xlabel(\"ntd_id\")\n",
    "plt.ylabel(\"Distance\")\n",
    "plt.tight_layout()\n",
    "plt.show()\n",
    "\n",
    "\n",
    "for i in fixed_route_2023[\"cluster_name\"].unique():\n",
    "    print(f\"\"\"\n",
    "    \\n How many unique agencies are in Cluster {i}: {fixed_route_2023[fixed_route_2023['cluster_name']==i][\"source_agency\"].nunique()}\n",
    "    Cluster {i} sample:\"\"\")\n",
    "    display(fixed_route_2023[fixed_route_2023[\"cluster_name\"]==i].head())"
   ]
  },
  {
   "cell_type": "markdown",
   "id": "d322ac2c-6952-423b-850a-1a51aaf5cfe9",
   "metadata": {},
   "source": [
    "### 2023 data, other modes, PT/DO service"
   ]
  },
  {
   "cell_type": "code",
   "execution_count": 55,
   "id": "85fc9b14-60a4-4645-be44-94f144a2ecd3",
   "metadata": {
    "tags": []
   },
   "outputs": [],
   "source": [
    "other_mode_2023 = ntd_2023_grouped[ntd_2023_grouped[\"mode_group\"]==\"other_mode\"]"
   ]
  },
  {
   "cell_type": "code",
   "execution_count": 58,
   "id": "1b83c3e2-7cdf-49c8-9b52-1c1dbcd71e96",
   "metadata": {
    "tags": []
   },
   "outputs": [
    {
     "data": {
      "text/plain": [
       "0    6\n",
       "5    1\n",
       "7    1\n",
       "8    1\n",
       "9    1\n",
       "6    1\n",
       "4    1\n",
       "3    1\n",
       "1    1\n",
       "2    1\n",
       "Name: cluster_name, dtype: int64"
      ]
     },
     "metadata": {},
     "output_type": "display_data"
    },
    {
     "data": {
      "application/vnd.plotly.v1+json": {
       "config": {
        "plotlyServerURL": "https://plot.ly"
       },
       "data": [
        {
         "hoverinfo": "text",
         "marker": {
          "color": "rgb(61,153,112)"
         },
         "mode": "lines",
         "type": "scatter",
         "x": [
          5,
          5,
          15,
          15
         ],
         "xaxis": "x",
         "y": [
          0,
          3.60649733851202,
          3.60649733851202,
          0
         ],
         "yaxis": "y"
        },
        {
         "hoverinfo": "text",
         "marker": {
          "color": "rgb(61,153,112)"
         },
         "mode": "lines",
         "type": "scatter",
         "x": [
          25,
          25,
          35,
          35
         ],
         "xaxis": "x",
         "y": [
          0,
          4.242757961954672,
          4.242757961954672,
          0
         ],
         "yaxis": "y"
        },
        {
         "hoverinfo": "text",
         "marker": {
          "color": "rgb(61,153,112)"
         },
         "mode": "lines",
         "type": "scatter",
         "x": [
          65,
          65,
          75,
          75
         ],
         "xaxis": "x",
         "y": [
          0,
          1.7321425692880277,
          1.7321425692880277,
          0
         ],
         "yaxis": "y"
        },
        {
         "hoverinfo": "text",
         "marker": {
          "color": "rgb(61,153,112)"
         },
         "mode": "lines",
         "type": "scatter",
         "x": [
          55,
          55,
          70,
          70
         ],
         "xaxis": "x",
         "y": [
          0,
          3.000075945301242,
          3.000075945301242,
          1.7321425692880277
         ],
         "yaxis": "y"
        },
        {
         "hoverinfo": "text",
         "marker": {
          "color": "rgb(61,153,112)"
         },
         "mode": "lines",
         "type": "scatter",
         "x": [
          45,
          45,
          62.5,
          62.5
         ],
         "xaxis": "x",
         "y": [
          0,
          6.164518824158537,
          6.164518824158537,
          3.000075945301242
         ],
         "yaxis": "y"
        },
        {
         "hoverinfo": "text",
         "marker": {
          "color": "rgb(61,153,112)"
         },
         "mode": "lines",
         "type": "scatter",
         "x": [
          30,
          30,
          53.75,
          53.75
         ],
         "xaxis": "x",
         "y": [
          4.242757961954672,
          10.049880796263851,
          10.049880796263851,
          6.164518824158537
         ],
         "yaxis": "y"
        },
        {
         "hoverinfo": "text",
         "marker": {
          "color": "rgb(61,153,112)"
         },
         "mode": "lines",
         "type": "scatter",
         "x": [
          10,
          10,
          41.875,
          41.875
         ],
         "xaxis": "x",
         "y": [
          3.60649733851202,
          19.026309565377495,
          19.026309565377495,
          10.049880796263851
         ],
         "yaxis": "y"
        },
        {
         "hoverinfo": "text",
         "marker": {
          "color": "rgb(255,65,54)"
         },
         "mode": "lines",
         "type": "scatter",
         "x": [
          85,
          85,
          95,
          95
         ],
         "xaxis": "x",
         "y": [
          0,
          6.40587100298975,
          6.40587100298975,
          0
         ],
         "yaxis": "y"
        },
        {
         "hoverinfo": "text",
         "marker": {
          "color": "rgb(35,205,205)"
         },
         "mode": "lines",
         "type": "scatter",
         "x": [
          105,
          105,
          115,
          115
         ],
         "xaxis": "x",
         "y": [
          0,
          4.564269121684373,
          4.564269121684373,
          0
         ],
         "yaxis": "y"
        },
        {
         "hoverinfo": "text",
         "marker": {
          "color": "rgb(35,205,205)"
         },
         "mode": "lines",
         "type": "scatter",
         "x": [
          125,
          125,
          135,
          135
         ],
         "xaxis": "x",
         "y": [
          0,
          5.255796350995893,
          5.255796350995893,
          0
         ],
         "yaxis": "y"
        },
        {
         "hoverinfo": "text",
         "marker": {
          "color": "rgb(35,205,205)"
         },
         "mode": "lines",
         "type": "scatter",
         "x": [
          110,
          110,
          130,
          130
         ],
         "xaxis": "x",
         "y": [
          4.564269121684373,
          13.062344021509201,
          13.062344021509201,
          5.255796350995893
         ],
         "yaxis": "y"
        },
        {
         "hoverinfo": "text",
         "marker": {
          "color": "rgb(0,116,217)"
         },
         "mode": "lines",
         "type": "scatter",
         "x": [
          90,
          90,
          120,
          120
         ],
         "xaxis": "x",
         "y": [
          6.40587100298975,
          25.11069999747404,
          25.11069999747404,
          13.062344021509201
         ],
         "yaxis": "y"
        },
        {
         "hoverinfo": "text",
         "marker": {
          "color": "rgb(0,116,217)"
         },
         "mode": "lines",
         "type": "scatter",
         "x": [
          25.9375,
          25.9375,
          105,
          105
         ],
         "xaxis": "x",
         "y": [
          19.026309565377495,
          29.23875291172571,
          29.23875291172571,
          25.11069999747404
         ],
         "yaxis": "y"
        }
       ],
       "layout": {
        "autosize": false,
        "height": 500,
        "hovermode": "closest",
        "showlegend": false,
        "template": {
         "data": {
          "bar": [
           {
            "error_x": {
             "color": "#2a3f5f"
            },
            "error_y": {
             "color": "#2a3f5f"
            },
            "marker": {
             "line": {
              "color": "#E5ECF6",
              "width": 0.5
             },
             "pattern": {
              "fillmode": "overlay",
              "size": 10,
              "solidity": 0.2
             }
            },
            "type": "bar"
           }
          ],
          "barpolar": [
           {
            "marker": {
             "line": {
              "color": "#E5ECF6",
              "width": 0.5
             },
             "pattern": {
              "fillmode": "overlay",
              "size": 10,
              "solidity": 0.2
             }
            },
            "type": "barpolar"
           }
          ],
          "carpet": [
           {
            "aaxis": {
             "endlinecolor": "#2a3f5f",
             "gridcolor": "white",
             "linecolor": "white",
             "minorgridcolor": "white",
             "startlinecolor": "#2a3f5f"
            },
            "baxis": {
             "endlinecolor": "#2a3f5f",
             "gridcolor": "white",
             "linecolor": "white",
             "minorgridcolor": "white",
             "startlinecolor": "#2a3f5f"
            },
            "type": "carpet"
           }
          ],
          "choropleth": [
           {
            "colorbar": {
             "outlinewidth": 0,
             "ticks": ""
            },
            "type": "choropleth"
           }
          ],
          "contour": [
           {
            "colorbar": {
             "outlinewidth": 0,
             "ticks": ""
            },
            "colorscale": [
             [
              0,
              "#0d0887"
             ],
             [
              0.1111111111111111,
              "#46039f"
             ],
             [
              0.2222222222222222,
              "#7201a8"
             ],
             [
              0.3333333333333333,
              "#9c179e"
             ],
             [
              0.4444444444444444,
              "#bd3786"
             ],
             [
              0.5555555555555556,
              "#d8576b"
             ],
             [
              0.6666666666666666,
              "#ed7953"
             ],
             [
              0.7777777777777778,
              "#fb9f3a"
             ],
             [
              0.8888888888888888,
              "#fdca26"
             ],
             [
              1,
              "#f0f921"
             ]
            ],
            "type": "contour"
           }
          ],
          "contourcarpet": [
           {
            "colorbar": {
             "outlinewidth": 0,
             "ticks": ""
            },
            "type": "contourcarpet"
           }
          ],
          "heatmap": [
           {
            "colorbar": {
             "outlinewidth": 0,
             "ticks": ""
            },
            "colorscale": [
             [
              0,
              "#0d0887"
             ],
             [
              0.1111111111111111,
              "#46039f"
             ],
             [
              0.2222222222222222,
              "#7201a8"
             ],
             [
              0.3333333333333333,
              "#9c179e"
             ],
             [
              0.4444444444444444,
              "#bd3786"
             ],
             [
              0.5555555555555556,
              "#d8576b"
             ],
             [
              0.6666666666666666,
              "#ed7953"
             ],
             [
              0.7777777777777778,
              "#fb9f3a"
             ],
             [
              0.8888888888888888,
              "#fdca26"
             ],
             [
              1,
              "#f0f921"
             ]
            ],
            "type": "heatmap"
           }
          ],
          "heatmapgl": [
           {
            "colorbar": {
             "outlinewidth": 0,
             "ticks": ""
            },
            "colorscale": [
             [
              0,
              "#0d0887"
             ],
             [
              0.1111111111111111,
              "#46039f"
             ],
             [
              0.2222222222222222,
              "#7201a8"
             ],
             [
              0.3333333333333333,
              "#9c179e"
             ],
             [
              0.4444444444444444,
              "#bd3786"
             ],
             [
              0.5555555555555556,
              "#d8576b"
             ],
             [
              0.6666666666666666,
              "#ed7953"
             ],
             [
              0.7777777777777778,
              "#fb9f3a"
             ],
             [
              0.8888888888888888,
              "#fdca26"
             ],
             [
              1,
              "#f0f921"
             ]
            ],
            "type": "heatmapgl"
           }
          ],
          "histogram": [
           {
            "marker": {
             "pattern": {
              "fillmode": "overlay",
              "size": 10,
              "solidity": 0.2
             }
            },
            "type": "histogram"
           }
          ],
          "histogram2d": [
           {
            "colorbar": {
             "outlinewidth": 0,
             "ticks": ""
            },
            "colorscale": [
             [
              0,
              "#0d0887"
             ],
             [
              0.1111111111111111,
              "#46039f"
             ],
             [
              0.2222222222222222,
              "#7201a8"
             ],
             [
              0.3333333333333333,
              "#9c179e"
             ],
             [
              0.4444444444444444,
              "#bd3786"
             ],
             [
              0.5555555555555556,
              "#d8576b"
             ],
             [
              0.6666666666666666,
              "#ed7953"
             ],
             [
              0.7777777777777778,
              "#fb9f3a"
             ],
             [
              0.8888888888888888,
              "#fdca26"
             ],
             [
              1,
              "#f0f921"
             ]
            ],
            "type": "histogram2d"
           }
          ],
          "histogram2dcontour": [
           {
            "colorbar": {
             "outlinewidth": 0,
             "ticks": ""
            },
            "colorscale": [
             [
              0,
              "#0d0887"
             ],
             [
              0.1111111111111111,
              "#46039f"
             ],
             [
              0.2222222222222222,
              "#7201a8"
             ],
             [
              0.3333333333333333,
              "#9c179e"
             ],
             [
              0.4444444444444444,
              "#bd3786"
             ],
             [
              0.5555555555555556,
              "#d8576b"
             ],
             [
              0.6666666666666666,
              "#ed7953"
             ],
             [
              0.7777777777777778,
              "#fb9f3a"
             ],
             [
              0.8888888888888888,
              "#fdca26"
             ],
             [
              1,
              "#f0f921"
             ]
            ],
            "type": "histogram2dcontour"
           }
          ],
          "mesh3d": [
           {
            "colorbar": {
             "outlinewidth": 0,
             "ticks": ""
            },
            "type": "mesh3d"
           }
          ],
          "parcoords": [
           {
            "line": {
             "colorbar": {
              "outlinewidth": 0,
              "ticks": ""
             }
            },
            "type": "parcoords"
           }
          ],
          "pie": [
           {
            "automargin": true,
            "type": "pie"
           }
          ],
          "scatter": [
           {
            "marker": {
             "colorbar": {
              "outlinewidth": 0,
              "ticks": ""
             }
            },
            "type": "scatter"
           }
          ],
          "scatter3d": [
           {
            "line": {
             "colorbar": {
              "outlinewidth": 0,
              "ticks": ""
             }
            },
            "marker": {
             "colorbar": {
              "outlinewidth": 0,
              "ticks": ""
             }
            },
            "type": "scatter3d"
           }
          ],
          "scattercarpet": [
           {
            "marker": {
             "colorbar": {
              "outlinewidth": 0,
              "ticks": ""
             }
            },
            "type": "scattercarpet"
           }
          ],
          "scattergeo": [
           {
            "marker": {
             "colorbar": {
              "outlinewidth": 0,
              "ticks": ""
             }
            },
            "type": "scattergeo"
           }
          ],
          "scattergl": [
           {
            "marker": {
             "colorbar": {
              "outlinewidth": 0,
              "ticks": ""
             }
            },
            "type": "scattergl"
           }
          ],
          "scattermapbox": [
           {
            "marker": {
             "colorbar": {
              "outlinewidth": 0,
              "ticks": ""
             }
            },
            "type": "scattermapbox"
           }
          ],
          "scatterpolar": [
           {
            "marker": {
             "colorbar": {
              "outlinewidth": 0,
              "ticks": ""
             }
            },
            "type": "scatterpolar"
           }
          ],
          "scatterpolargl": [
           {
            "marker": {
             "colorbar": {
              "outlinewidth": 0,
              "ticks": ""
             }
            },
            "type": "scatterpolargl"
           }
          ],
          "scatterternary": [
           {
            "marker": {
             "colorbar": {
              "outlinewidth": 0,
              "ticks": ""
             }
            },
            "type": "scatterternary"
           }
          ],
          "surface": [
           {
            "colorbar": {
             "outlinewidth": 0,
             "ticks": ""
            },
            "colorscale": [
             [
              0,
              "#0d0887"
             ],
             [
              0.1111111111111111,
              "#46039f"
             ],
             [
              0.2222222222222222,
              "#7201a8"
             ],
             [
              0.3333333333333333,
              "#9c179e"
             ],
             [
              0.4444444444444444,
              "#bd3786"
             ],
             [
              0.5555555555555556,
              "#d8576b"
             ],
             [
              0.6666666666666666,
              "#ed7953"
             ],
             [
              0.7777777777777778,
              "#fb9f3a"
             ],
             [
              0.8888888888888888,
              "#fdca26"
             ],
             [
              1,
              "#f0f921"
             ]
            ],
            "type": "surface"
           }
          ],
          "table": [
           {
            "cells": {
             "fill": {
              "color": "#EBF0F8"
             },
             "line": {
              "color": "white"
             }
            },
            "header": {
             "fill": {
              "color": "#C8D4E3"
             },
             "line": {
              "color": "white"
             }
            },
            "type": "table"
           }
          ]
         },
         "layout": {
          "annotationdefaults": {
           "arrowcolor": "#2a3f5f",
           "arrowhead": 0,
           "arrowwidth": 1
          },
          "autotypenumbers": "strict",
          "coloraxis": {
           "colorbar": {
            "outlinewidth": 0,
            "ticks": ""
           }
          },
          "colorscale": {
           "diverging": [
            [
             0,
             "#8e0152"
            ],
            [
             0.1,
             "#c51b7d"
            ],
            [
             0.2,
             "#de77ae"
            ],
            [
             0.3,
             "#f1b6da"
            ],
            [
             0.4,
             "#fde0ef"
            ],
            [
             0.5,
             "#f7f7f7"
            ],
            [
             0.6,
             "#e6f5d0"
            ],
            [
             0.7,
             "#b8e186"
            ],
            [
             0.8,
             "#7fbc41"
            ],
            [
             0.9,
             "#4d9221"
            ],
            [
             1,
             "#276419"
            ]
           ],
           "sequential": [
            [
             0,
             "#0d0887"
            ],
            [
             0.1111111111111111,
             "#46039f"
            ],
            [
             0.2222222222222222,
             "#7201a8"
            ],
            [
             0.3333333333333333,
             "#9c179e"
            ],
            [
             0.4444444444444444,
             "#bd3786"
            ],
            [
             0.5555555555555556,
             "#d8576b"
            ],
            [
             0.6666666666666666,
             "#ed7953"
            ],
            [
             0.7777777777777778,
             "#fb9f3a"
            ],
            [
             0.8888888888888888,
             "#fdca26"
            ],
            [
             1,
             "#f0f921"
            ]
           ],
           "sequentialminus": [
            [
             0,
             "#0d0887"
            ],
            [
             0.1111111111111111,
             "#46039f"
            ],
            [
             0.2222222222222222,
             "#7201a8"
            ],
            [
             0.3333333333333333,
             "#9c179e"
            ],
            [
             0.4444444444444444,
             "#bd3786"
            ],
            [
             0.5555555555555556,
             "#d8576b"
            ],
            [
             0.6666666666666666,
             "#ed7953"
            ],
            [
             0.7777777777777778,
             "#fb9f3a"
            ],
            [
             0.8888888888888888,
             "#fdca26"
            ],
            [
             1,
             "#f0f921"
            ]
           ]
          },
          "colorway": [
           "#636efa",
           "#EF553B",
           "#00cc96",
           "#ab63fa",
           "#FFA15A",
           "#19d3f3",
           "#FF6692",
           "#B6E880",
           "#FF97FF",
           "#FECB52"
          ],
          "font": {
           "color": "#2a3f5f"
          },
          "geo": {
           "bgcolor": "white",
           "lakecolor": "white",
           "landcolor": "#E5ECF6",
           "showlakes": true,
           "showland": true,
           "subunitcolor": "white"
          },
          "hoverlabel": {
           "align": "left"
          },
          "hovermode": "closest",
          "mapbox": {
           "style": "light"
          },
          "paper_bgcolor": "white",
          "plot_bgcolor": "#E5ECF6",
          "polar": {
           "angularaxis": {
            "gridcolor": "white",
            "linecolor": "white",
            "ticks": ""
           },
           "bgcolor": "#E5ECF6",
           "radialaxis": {
            "gridcolor": "white",
            "linecolor": "white",
            "ticks": ""
           }
          },
          "scene": {
           "xaxis": {
            "backgroundcolor": "#E5ECF6",
            "gridcolor": "white",
            "gridwidth": 2,
            "linecolor": "white",
            "showbackground": true,
            "ticks": "",
            "zerolinecolor": "white"
           },
           "yaxis": {
            "backgroundcolor": "#E5ECF6",
            "gridcolor": "white",
            "gridwidth": 2,
            "linecolor": "white",
            "showbackground": true,
            "ticks": "",
            "zerolinecolor": "white"
           },
           "zaxis": {
            "backgroundcolor": "#E5ECF6",
            "gridcolor": "white",
            "gridwidth": 2,
            "linecolor": "white",
            "showbackground": true,
            "ticks": "",
            "zerolinecolor": "white"
           }
          },
          "shapedefaults": {
           "line": {
            "color": "#2a3f5f"
           }
          },
          "ternary": {
           "aaxis": {
            "gridcolor": "white",
            "linecolor": "white",
            "ticks": ""
           },
           "baxis": {
            "gridcolor": "white",
            "linecolor": "white",
            "ticks": ""
           },
           "bgcolor": "#E5ECF6",
           "caxis": {
            "gridcolor": "white",
            "linecolor": "white",
            "ticks": ""
           }
          },
          "title": {
           "x": 0.05
          },
          "xaxis": {
           "automargin": true,
           "gridcolor": "white",
           "linecolor": "white",
           "ticks": "",
           "title": {
            "standoff": 15
           },
           "zerolinecolor": "white",
           "zerolinewidth": 2
          },
          "yaxis": {
           "automargin": true,
           "gridcolor": "white",
           "linecolor": "white",
           "ticks": "",
           "title": {
            "standoff": 15
           },
           "zerolinecolor": "white",
           "zerolinewidth": 2
          }
         }
        },
        "width": 800,
        "xaxis": {
         "autorange": true,
         "mirror": "allticks",
         "range": [
          0,
          135
         ],
         "rangemode": "tozero",
         "showgrid": false,
         "showline": true,
         "showticklabels": true,
         "tickmode": "array",
         "ticks": "outside",
         "ticktext": [
          "0",
          "7",
          "1",
          "5",
          "6",
          "2",
          "3",
          "4",
          "8",
          "9",
          "12",
          "13",
          "10",
          "11"
         ],
         "tickvals": [
          5,
          15,
          25,
          35,
          45,
          55,
          65,
          75,
          85,
          95,
          105,
          115,
          125,
          135
         ],
         "type": "linear",
         "zeroline": false
        },
        "yaxis": {
         "autorange": true,
         "mirror": "allticks",
         "range": [
          0,
          30.7776346439218
         ],
         "rangemode": "tozero",
         "showgrid": false,
         "showline": true,
         "showticklabels": true,
         "ticks": "outside",
         "type": "linear",
         "zeroline": false
        }
       }
      },
      "image/png": "[encoded data removed]",
      "text/html": [
       "<div>                            <div id=\"4ec75b5f-fab8-4be6-942e-12b0bfc5afbc\" class=\"plotly-graph-div\" style=\"height:500px; width:800px;\"></div>            <script type=\"text/javascript\">                require([\"plotly\"], function(Plotly) {                    window.PLOTLYENV=window.PLOTLYENV || {};                                    if (document.getElementById(\"4ec75b5f-fab8-4be6-942e-12b0bfc5afbc\")) {                    Plotly.newPlot(                        \"4ec75b5f-fab8-4be6-942e-12b0bfc5afbc\",                        [{\"hoverinfo\":\"text\",\"marker\":{\"color\":\"rgb(61,153,112)\"},\"mode\":\"lines\",\"x\":[5.0,5.0,15.0,15.0],\"xaxis\":\"x\",\"y\":[0.0,3.60649733851202,3.60649733851202,0.0],\"yaxis\":\"y\",\"type\":\"scatter\"},{\"hoverinfo\":\"text\",\"marker\":{\"color\":\"rgb(61,153,112)\"},\"mode\":\"lines\",\"x\":[25.0,25.0,35.0,35.0],\"xaxis\":\"x\",\"y\":[0.0,4.242757961954672,4.242757961954672,0.0],\"yaxis\":\"y\",\"type\":\"scatter\"},{\"hoverinfo\":\"text\",\"marker\":{\"color\":\"rgb(61,153,112)\"},\"mode\":\"lines\",\"x\":[65.0,65.0,75.0,75.0],\"xaxis\":\"x\",\"y\":[0.0,1.7321425692880277,1.7321425692880277,0.0],\"yaxis\":\"y\",\"type\":\"scatter\"},{\"hoverinfo\":\"text\",\"marker\":{\"color\":\"rgb(61,153,112)\"},\"mode\":\"lines\",\"x\":[55.0,55.0,70.0,70.0],\"xaxis\":\"x\",\"y\":[0.0,3.000075945301242,3.000075945301242,1.7321425692880277],\"yaxis\":\"y\",\"type\":\"scatter\"},{\"hoverinfo\":\"text\",\"marker\":{\"color\":\"rgb(61,153,112)\"},\"mode\":\"lines\",\"x\":[45.0,45.0,62.5,62.5],\"xaxis\":\"x\",\"y\":[0.0,6.164518824158537,6.164518824158537,3.000075945301242],\"yaxis\":\"y\",\"type\":\"scatter\"},{\"hoverinfo\":\"text\",\"marker\":{\"color\":\"rgb(61,153,112)\"},\"mode\":\"lines\",\"x\":[30.0,30.0,53.75,53.75],\"xaxis\":\"x\",\"y\":[4.242757961954672,10.049880796263851,10.049880796263851,6.164518824158537],\"yaxis\":\"y\",\"type\":\"scatter\"},{\"hoverinfo\":\"text\",\"marker\":{\"color\":\"rgb(61,153,112)\"},\"mode\":\"lines\",\"x\":[10.0,10.0,41.875,41.875],\"xaxis\":\"x\",\"y\":[3.60649733851202,19.026309565377495,19.026309565377495,10.049880796263851],\"yaxis\":\"y\",\"type\":\"scatter\"},{\"hoverinfo\":\"text\",\"marker\":{\"color\":\"rgb(255,65,54)\"},\"mode\":\"lines\",\"x\":[85.0,85.0,95.0,95.0],\"xaxis\":\"x\",\"y\":[0.0,6.40587100298975,6.40587100298975,0.0],\"yaxis\":\"y\",\"type\":\"scatter\"},{\"hoverinfo\":\"text\",\"marker\":{\"color\":\"rgb(35,205,205)\"},\"mode\":\"lines\",\"x\":[105.0,105.0,115.0,115.0],\"xaxis\":\"x\",\"y\":[0.0,4.564269121684373,4.564269121684373,0.0],\"yaxis\":\"y\",\"type\":\"scatter\"},{\"hoverinfo\":\"text\",\"marker\":{\"color\":\"rgb(35,205,205)\"},\"mode\":\"lines\",\"x\":[125.0,125.0,135.0,135.0],\"xaxis\":\"x\",\"y\":[0.0,5.255796350995893,5.255796350995893,0.0],\"yaxis\":\"y\",\"type\":\"scatter\"},{\"hoverinfo\":\"text\",\"marker\":{\"color\":\"rgb(35,205,205)\"},\"mode\":\"lines\",\"x\":[110.0,110.0,130.0,130.0],\"xaxis\":\"x\",\"y\":[4.564269121684373,13.062344021509201,13.062344021509201,5.255796350995893],\"yaxis\":\"y\",\"type\":\"scatter\"},{\"hoverinfo\":\"text\",\"marker\":{\"color\":\"rgb(0,116,217)\"},\"mode\":\"lines\",\"x\":[90.0,90.0,120.0,120.0],\"xaxis\":\"x\",\"y\":[6.40587100298975,25.11069999747404,25.11069999747404,13.062344021509201],\"yaxis\":\"y\",\"type\":\"scatter\"},{\"hoverinfo\":\"text\",\"marker\":{\"color\":\"rgb(0,116,217)\"},\"mode\":\"lines\",\"x\":[25.9375,25.9375,105.0,105.0],\"xaxis\":\"x\",\"y\":[19.026309565377495,29.23875291172571,29.23875291172571,25.11069999747404],\"yaxis\":\"y\",\"type\":\"scatter\"}],                        {\"autosize\":false,\"height\":500,\"hovermode\":\"closest\",\"showlegend\":false,\"width\":800,\"xaxis\":{\"mirror\":\"allticks\",\"rangemode\":\"tozero\",\"showgrid\":false,\"showline\":true,\"showticklabels\":true,\"tickmode\":\"array\",\"ticks\":\"outside\",\"ticktext\":[\"0\",\"7\",\"1\",\"5\",\"6\",\"2\",\"3\",\"4\",\"8\",\"9\",\"12\",\"13\",\"10\",\"11\"],\"tickvals\":[5.0,15.0,25.0,35.0,45.0,55.0,65.0,75.0,85.0,95.0,105.0,115.0,125.0,135.0],\"type\":\"linear\",\"zeroline\":false},\"yaxis\":{\"mirror\":\"allticks\",\"rangemode\":\"tozero\",\"showgrid\":false,\"showline\":true,\"showticklabels\":true,\"ticks\":\"outside\",\"type\":\"linear\",\"zeroline\":false},\"template\":{\"data\":{\"bar\":[{\"error_x\":{\"color\":\"#2a3f5f\"},\"error_y\":{\"color\":\"#2a3f5f\"},\"marker\":{\"line\":{\"color\":\"#E5ECF6\",\"width\":0.5},\"pattern\":{\"fillmode\":\"overlay\",\"size\":10,\"solidity\":0.2}},\"type\":\"bar\"}],\"barpolar\":[{\"marker\":{\"line\":{\"color\":\"#E5ECF6\",\"width\":0.5},\"pattern\":{\"fillmode\":\"overlay\",\"size\":10,\"solidity\":0.2}},\"type\":\"barpolar\"}],\"carpet\":[{\"aaxis\":{\"endlinecolor\":\"#2a3f5f\",\"gridcolor\":\"white\",\"linecolor\":\"white\",\"minorgridcolor\":\"white\",\"startlinecolor\":\"#2a3f5f\"},\"baxis\":{\"endlinecolor\":\"#2a3f5f\",\"gridcolor\":\"white\",\"linecolor\":\"white\",\"minorgridcolor\":\"white\",\"startlinecolor\":\"#2a3f5f\"},\"type\":\"carpet\"}],\"choropleth\":[{\"colorbar\":{\"outlinewidth\":0,\"ticks\":\"\"},\"type\":\"choropleth\"}],\"contour\":[{\"colorbar\":{\"outlinewidth\":0,\"ticks\":\"\"},\"colorscale\":[[0.0,\"#0d0887\"],[0.1111111111111111,\"#46039f\"],[0.2222222222222222,\"#7201a8\"],[0.3333333333333333,\"#9c179e\"],[0.4444444444444444,\"#bd3786\"],[0.5555555555555556,\"#d8576b\"],[0.6666666666666666,\"#ed7953\"],[0.7777777777777778,\"#fb9f3a\"],[0.8888888888888888,\"#fdca26\"],[1.0,\"#f0f921\"]],\"type\":\"contour\"}],\"contourcarpet\":[{\"colorbar\":{\"outlinewidth\":0,\"ticks\":\"\"},\"type\":\"contourcarpet\"}],\"heatmap\":[{\"colorbar\":{\"outlinewidth\":0,\"ticks\":\"\"},\"colorscale\":[[0.0,\"#0d0887\"],[0.1111111111111111,\"#46039f\"],[0.2222222222222222,\"#7201a8\"],[0.3333333333333333,\"#9c179e\"],[0.4444444444444444,\"#bd3786\"],[0.5555555555555556,\"#d8576b\"],[0.6666666666666666,\"#ed7953\"],[0.7777777777777778,\"#fb9f3a\"],[0.8888888888888888,\"#fdca26\"],[1.0,\"#f0f921\"]],\"type\":\"heatmap\"}],\"heatmapgl\":[{\"colorbar\":{\"outlinewidth\":0,\"ticks\":\"\"},\"colorscale\":[[0.0,\"#0d0887\"],[0.1111111111111111,\"#46039f\"],[0.2222222222222222,\"#7201a8\"],[0.3333333333333333,\"#9c179e\"],[0.4444444444444444,\"#bd3786\"],[0.5555555555555556,\"#d8576b\"],[0.6666666666666666,\"#ed7953\"],[0.7777777777777778,\"#fb9f3a\"],[0.8888888888888888,\"#fdca26\"],[1.0,\"#f0f921\"]],\"type\":\"heatmapgl\"}],\"histogram\":[{\"marker\":{\"pattern\":{\"fillmode\":\"overlay\",\"size\":10,\"solidity\":0.2}},\"type\":\"histogram\"}],\"histogram2d\":[{\"colorbar\":{\"outlinewidth\":0,\"ticks\":\"\"},\"colorscale\":[[0.0,\"#0d0887\"],[0.1111111111111111,\"#46039f\"],[0.2222222222222222,\"#7201a8\"],[0.3333333333333333,\"#9c179e\"],[0.4444444444444444,\"#bd3786\"],[0.5555555555555556,\"#d8576b\"],[0.6666666666666666,\"#ed7953\"],[0.7777777777777778,\"#fb9f3a\"],[0.8888888888888888,\"#fdca26\"],[1.0,\"#f0f921\"]],\"type\":\"histogram2d\"}],\"histogram2dcontour\":[{\"colorbar\":{\"outlinewidth\":0,\"ticks\":\"\"},\"colorscale\":[[0.0,\"#0d0887\"],[0.1111111111111111,\"#46039f\"],[0.2222222222222222,\"#7201a8\"],[0.3333333333333333,\"#9c179e\"],[0.4444444444444444,\"#bd3786\"],[0.5555555555555556,\"#d8576b\"],[0.6666666666666666,\"#ed7953\"],[0.7777777777777778,\"#fb9f3a\"],[0.8888888888888888,\"#fdca26\"],[1.0,\"#f0f921\"]],\"type\":\"histogram2dcontour\"}],\"mesh3d\":[{\"colorbar\":{\"outlinewidth\":0,\"ticks\":\"\"},\"type\":\"mesh3d\"}],\"parcoords\":[{\"line\":{\"colorbar\":{\"outlinewidth\":0,\"ticks\":\"\"}},\"type\":\"parcoords\"}],\"pie\":[{\"automargin\":true,\"type\":\"pie\"}],\"scatter\":[{\"marker\":{\"colorbar\":{\"outlinewidth\":0,\"ticks\":\"\"}},\"type\":\"scatter\"}],\"scatter3d\":[{\"line\":{\"colorbar\":{\"outlinewidth\":0,\"ticks\":\"\"}},\"marker\":{\"colorbar\":{\"outlinewidth\":0,\"ticks\":\"\"}},\"type\":\"scatter3d\"}],\"scattercarpet\":[{\"marker\":{\"colorbar\":{\"outlinewidth\":0,\"ticks\":\"\"}},\"type\":\"scattercarpet\"}],\"scattergeo\":[{\"marker\":{\"colorbar\":{\"outlinewidth\":0,\"ticks\":\"\"}},\"type\":\"scattergeo\"}],\"scattergl\":[{\"marker\":{\"colorbar\":{\"outlinewidth\":0,\"ticks\":\"\"}},\"type\":\"scattergl\"}],\"scattermapbox\":[{\"marker\":{\"colorbar\":{\"outlinewidth\":0,\"ticks\":\"\"}},\"type\":\"scattermapbox\"}],\"scatterpolar\":[{\"marker\":{\"colorbar\":{\"outlinewidth\":0,\"ticks\":\"\"}},\"type\":\"scatterpolar\"}],\"scatterpolargl\":[{\"marker\":{\"colorbar\":{\"outlinewidth\":0,\"ticks\":\"\"}},\"type\":\"scatterpolargl\"}],\"scatterternary\":[{\"marker\":{\"colorbar\":{\"outlinewidth\":0,\"ticks\":\"\"}},\"type\":\"scatterternary\"}],\"surface\":[{\"colorbar\":{\"outlinewidth\":0,\"ticks\":\"\"},\"colorscale\":[[0.0,\"#0d0887\"],[0.1111111111111111,\"#46039f\"],[0.2222222222222222,\"#7201a8\"],[0.3333333333333333,\"#9c179e\"],[0.4444444444444444,\"#bd3786\"],[0.5555555555555556,\"#d8576b\"],[0.6666666666666666,\"#ed7953\"],[0.7777777777777778,\"#fb9f3a\"],[0.8888888888888888,\"#fdca26\"],[1.0,\"#f0f921\"]],\"type\":\"surface\"}],\"table\":[{\"cells\":{\"fill\":{\"color\":\"#EBF0F8\"},\"line\":{\"color\":\"white\"}},\"header\":{\"fill\":{\"color\":\"#C8D4E3\"},\"line\":{\"color\":\"white\"}},\"type\":\"table\"}]},\"layout\":{\"annotationdefaults\":{\"arrowcolor\":\"#2a3f5f\",\"arrowhead\":0,\"arrowwidth\":1},\"autotypenumbers\":\"strict\",\"coloraxis\":{\"colorbar\":{\"outlinewidth\":0,\"ticks\":\"\"}},\"colorscale\":{\"diverging\":[[0,\"#8e0152\"],[0.1,\"#c51b7d\"],[0.2,\"#de77ae\"],[0.3,\"#f1b6da\"],[0.4,\"#fde0ef\"],[0.5,\"#f7f7f7\"],[0.6,\"#e6f5d0\"],[0.7,\"#b8e186\"],[0.8,\"#7fbc41\"],[0.9,\"#4d9221\"],[1,\"#276419\"]],\"sequential\":[[0.0,\"#0d0887\"],[0.1111111111111111,\"#46039f\"],[0.2222222222222222,\"#7201a8\"],[0.3333333333333333,\"#9c179e\"],[0.4444444444444444,\"#bd3786\"],[0.5555555555555556,\"#d8576b\"],[0.6666666666666666,\"#ed7953\"],[0.7777777777777778,\"#fb9f3a\"],[0.8888888888888888,\"#fdca26\"],[1.0,\"#f0f921\"]],\"sequentialminus\":[[0.0,\"#0d0887\"],[0.1111111111111111,\"#46039f\"],[0.2222222222222222,\"#7201a8\"],[0.3333333333333333,\"#9c179e\"],[0.4444444444444444,\"#bd3786\"],[0.5555555555555556,\"#d8576b\"],[0.6666666666666666,\"#ed7953\"],[0.7777777777777778,\"#fb9f3a\"],[0.8888888888888888,\"#fdca26\"],[1.0,\"#f0f921\"]]},\"colorway\":[\"#636efa\",\"#EF553B\",\"#00cc96\",\"#ab63fa\",\"#FFA15A\",\"#19d3f3\",\"#FF6692\",\"#B6E880\",\"#FF97FF\",\"#FECB52\"],\"font\":{\"color\":\"#2a3f5f\"},\"geo\":{\"bgcolor\":\"white\",\"lakecolor\":\"white\",\"landcolor\":\"#E5ECF6\",\"showlakes\":true,\"showland\":true,\"subunitcolor\":\"white\"},\"hoverlabel\":{\"align\":\"left\"},\"hovermode\":\"closest\",\"mapbox\":{\"style\":\"light\"},\"paper_bgcolor\":\"white\",\"plot_bgcolor\":\"#E5ECF6\",\"polar\":{\"angularaxis\":{\"gridcolor\":\"white\",\"linecolor\":\"white\",\"ticks\":\"\"},\"bgcolor\":\"#E5ECF6\",\"radialaxis\":{\"gridcolor\":\"white\",\"linecolor\":\"white\",\"ticks\":\"\"}},\"scene\":{\"xaxis\":{\"backgroundcolor\":\"#E5ECF6\",\"gridcolor\":\"white\",\"gridwidth\":2,\"linecolor\":\"white\",\"showbackground\":true,\"ticks\":\"\",\"zerolinecolor\":\"white\"},\"yaxis\":{\"backgroundcolor\":\"#E5ECF6\",\"gridcolor\":\"white\",\"gridwidth\":2,\"linecolor\":\"white\",\"showbackground\":true,\"ticks\":\"\",\"zerolinecolor\":\"white\"},\"zaxis\":{\"backgroundcolor\":\"#E5ECF6\",\"gridcolor\":\"white\",\"gridwidth\":2,\"linecolor\":\"white\",\"showbackground\":true,\"ticks\":\"\",\"zerolinecolor\":\"white\"}},\"shapedefaults\":{\"line\":{\"color\":\"#2a3f5f\"}},\"ternary\":{\"aaxis\":{\"gridcolor\":\"white\",\"linecolor\":\"white\",\"ticks\":\"\"},\"baxis\":{\"gridcolor\":\"white\",\"linecolor\":\"white\",\"ticks\":\"\"},\"bgcolor\":\"#E5ECF6\",\"caxis\":{\"gridcolor\":\"white\",\"linecolor\":\"white\",\"ticks\":\"\"}},\"title\":{\"x\":0.05},\"xaxis\":{\"automargin\":true,\"gridcolor\":\"white\",\"linecolor\":\"white\",\"ticks\":\"\",\"title\":{\"standoff\":15},\"zerolinecolor\":\"white\",\"zerolinewidth\":2},\"yaxis\":{\"automargin\":true,\"gridcolor\":\"white\",\"linecolor\":\"white\",\"ticks\":\"\",\"title\":{\"standoff\":15},\"zerolinecolor\":\"white\",\"zerolinewidth\":2}}}},                        {\"responsive\": true}                    ).then(function(){\n",
       "                            \n",
       "var gd = document.getElementById('4ec75b5f-fab8-4be6-942e-12b0bfc5afbc');\n",
       "var x = new MutationObserver(function (mutations, observer) {{\n",
       "        var display = window.getComputedStyle(gd).display;\n",
       "        if (!display || display === 'none') {{\n",
       "            console.log([gd, 'removed!']);\n",
       "            Plotly.purge(gd);\n",
       "            observer.disconnect();\n",
       "        }}\n",
       "}});\n",
       "\n",
       "// Listen for the removal of the full notebook cells\n",
       "var notebookContainer = gd.closest('#notebook-container');\n",
       "if (notebookContainer) {{\n",
       "    x.observe(notebookContainer, {childList: true});\n",
       "}}\n",
       "\n",
       "// Listen for the clearing of the current output cell\n",
       "var outputEl = gd.closest('.output');\n",
       "if (outputEl) {{\n",
       "    x.observe(outputEl, {childList: true});\n",
       "}}\n",
       "\n",
       "                        })                };                });            </script>        </div>"
      ]
     },
     "metadata": {},
     "output_type": "display_data"
    },
    {
     "name": "stdout",
     "output_type": "stream",
     "text": [
      "\n",
      "    \n",
      " How many unique agencies are in Cluster 5: 1\n",
      "    Cluster 5 sample:\n"
     ]
    },
    {
     "data": {
      "text/html": [
       "<div>\n",
       "<style scoped>\n",
       "    .dataframe tbody tr th:only-of-type {\n",
       "        vertical-align: middle;\n",
       "    }\n",
       "\n",
       "    .dataframe tbody tr th {\n",
       "        vertical-align: top;\n",
       "    }\n",
       "\n",
       "    .dataframe thead th {\n",
       "        text-align: right;\n",
       "    }\n",
       "</style>\n",
       "<table border=\"1\" class=\"dataframe\">\n",
       "  <thead>\n",
       "    <tr style=\"text-align: right;\">\n",
       "      <th></th>\n",
       "      <th>ntd_id</th>\n",
       "      <th>source_agency</th>\n",
       "      <th>city</th>\n",
       "      <th>primary_uza_name</th>\n",
       "      <th>mode_group</th>\n",
       "      <th>total_upt</th>\n",
       "      <th>total_vrh</th>\n",
       "      <th>total_vrm</th>\n",
       "      <th>opexp_total</th>\n",
       "      <th>total_voms</th>\n",
       "      <th>cluster_name</th>\n",
       "    </tr>\n",
       "  </thead>\n",
       "  <tbody>\n",
       "    <tr>\n",
       "      <th>15</th>\n",
       "      <td>90016</td>\n",
       "      <td>Golden Gate Bridge, Highway and Transportation...</td>\n",
       "      <td>San Francisco</td>\n",
       "      <td>San Francisco--Oakland, CA</td>\n",
       "      <td>other_mode</td>\n",
       "      <td>295854592</td>\n",
       "      <td>9224960</td>\n",
       "      <td>153337920</td>\n",
       "      <td>7656014464</td>\n",
       "      <td>3968</td>\n",
       "      <td>5</td>\n",
       "    </tr>\n",
       "  </tbody>\n",
       "</table>\n",
       "</div>"
      ],
      "text/plain": [
       "   ntd_id                                      source_agency           city  \\\n",
       "15  90016  Golden Gate Bridge, Highway and Transportation...  San Francisco   \n",
       "\n",
       "              primary_uza_name  mode_group  total_upt  total_vrh  total_vrm  \\\n",
       "15  San Francisco--Oakland, CA  other_mode  295854592    9224960  153337920   \n",
       "\n",
       "    opexp_total  total_voms  cluster_name  \n",
       "15   7656014464        3968             5  "
      ]
     },
     "metadata": {},
     "output_type": "display_data"
    },
    {
     "name": "stdout",
     "output_type": "stream",
     "text": [
      "\n",
      "Cluster 5 summary stats:\n"
     ]
    },
    {
     "data": {
      "text/html": [
       "<div>\n",
       "<style scoped>\n",
       "    .dataframe tbody tr th:only-of-type {\n",
       "        vertical-align: middle;\n",
       "    }\n",
       "\n",
       "    .dataframe tbody tr th {\n",
       "        vertical-align: top;\n",
       "    }\n",
       "\n",
       "    .dataframe thead th {\n",
       "        text-align: right;\n",
       "    }\n",
       "</style>\n",
       "<table border=\"1\" class=\"dataframe\">\n",
       "  <thead>\n",
       "    <tr style=\"text-align: right;\">\n",
       "      <th></th>\n",
       "      <th>total_upt</th>\n",
       "      <th>total_vrh</th>\n",
       "      <th>total_vrm</th>\n",
       "      <th>opexp_total</th>\n",
       "      <th>total_voms</th>\n",
       "      <th>cluster_name</th>\n",
       "    </tr>\n",
       "  </thead>\n",
       "  <tbody>\n",
       "    <tr>\n",
       "      <th>count</th>\n",
       "      <td>1.0</td>\n",
       "      <td>1.0</td>\n",
       "      <td>1.0</td>\n",
       "      <td>1.000000e+00</td>\n",
       "      <td>1.0</td>\n",
       "      <td>1.0</td>\n",
       "    </tr>\n",
       "    <tr>\n",
       "      <th>mean</th>\n",
       "      <td>295854592.0</td>\n",
       "      <td>9224960.0</td>\n",
       "      <td>153337920.0</td>\n",
       "      <td>7.656014e+09</td>\n",
       "      <td>3968.0</td>\n",
       "      <td>5.0</td>\n",
       "    </tr>\n",
       "    <tr>\n",
       "      <th>std</th>\n",
       "      <td>NaN</td>\n",
       "      <td>NaN</td>\n",
       "      <td>NaN</td>\n",
       "      <td>NaN</td>\n",
       "      <td>NaN</td>\n",
       "      <td>NaN</td>\n",
       "    </tr>\n",
       "    <tr>\n",
       "      <th>min</th>\n",
       "      <td>295854592.0</td>\n",
       "      <td>9224960.0</td>\n",
       "      <td>153337920.0</td>\n",
       "      <td>7.656014e+09</td>\n",
       "      <td>3968.0</td>\n",
       "      <td>5.0</td>\n",
       "    </tr>\n",
       "    <tr>\n",
       "      <th>25%</th>\n",
       "      <td>295854592.0</td>\n",
       "      <td>9224960.0</td>\n",
       "      <td>153337920.0</td>\n",
       "      <td>7.656014e+09</td>\n",
       "      <td>3968.0</td>\n",
       "      <td>5.0</td>\n",
       "    </tr>\n",
       "    <tr>\n",
       "      <th>50%</th>\n",
       "      <td>295854592.0</td>\n",
       "      <td>9224960.0</td>\n",
       "      <td>153337920.0</td>\n",
       "      <td>7.656014e+09</td>\n",
       "      <td>3968.0</td>\n",
       "      <td>5.0</td>\n",
       "    </tr>\n",
       "    <tr>\n",
       "      <th>75%</th>\n",
       "      <td>295854592.0</td>\n",
       "      <td>9224960.0</td>\n",
       "      <td>153337920.0</td>\n",
       "      <td>7.656014e+09</td>\n",
       "      <td>3968.0</td>\n",
       "      <td>5.0</td>\n",
       "    </tr>\n",
       "    <tr>\n",
       "      <th>max</th>\n",
       "      <td>295854592.0</td>\n",
       "      <td>9224960.0</td>\n",
       "      <td>153337920.0</td>\n",
       "      <td>7.656014e+09</td>\n",
       "      <td>3968.0</td>\n",
       "      <td>5.0</td>\n",
       "    </tr>\n",
       "  </tbody>\n",
       "</table>\n",
       "</div>"
      ],
      "text/plain": [
       "         total_upt  total_vrh    total_vrm   opexp_total  total_voms  \\\n",
       "count          1.0        1.0          1.0  1.000000e+00         1.0   \n",
       "mean   295854592.0  9224960.0  153337920.0  7.656014e+09      3968.0   \n",
       "std            NaN        NaN          NaN           NaN         NaN   \n",
       "min    295854592.0  9224960.0  153337920.0  7.656014e+09      3968.0   \n",
       "25%    295854592.0  9224960.0  153337920.0  7.656014e+09      3968.0   \n",
       "50%    295854592.0  9224960.0  153337920.0  7.656014e+09      3968.0   \n",
       "75%    295854592.0  9224960.0  153337920.0  7.656014e+09      3968.0   \n",
       "max    295854592.0  9224960.0  153337920.0  7.656014e+09      3968.0   \n",
       "\n",
       "       cluster_name  \n",
       "count           1.0  \n",
       "mean            5.0  \n",
       "std             NaN  \n",
       "min             5.0  \n",
       "25%             5.0  \n",
       "50%             5.0  \n",
       "75%             5.0  \n",
       "max             5.0  "
      ]
     },
     "metadata": {},
     "output_type": "display_data"
    },
    {
     "name": "stdout",
     "output_type": "stream",
     "text": [
      "\n",
      "    \n",
      " How many unique agencies are in Cluster 7: 1\n",
      "    Cluster 7 sample:\n"
     ]
    },
    {
     "data": {
      "text/html": [
       "<div>\n",
       "<style scoped>\n",
       "    .dataframe tbody tr th:only-of-type {\n",
       "        vertical-align: middle;\n",
       "    }\n",
       "\n",
       "    .dataframe tbody tr th {\n",
       "        vertical-align: top;\n",
       "    }\n",
       "\n",
       "    .dataframe thead th {\n",
       "        text-align: right;\n",
       "    }\n",
       "</style>\n",
       "<table border=\"1\" class=\"dataframe\">\n",
       "  <thead>\n",
       "    <tr style=\"text-align: right;\">\n",
       "      <th></th>\n",
       "      <th>ntd_id</th>\n",
       "      <th>source_agency</th>\n",
       "      <th>city</th>\n",
       "      <th>primary_uza_name</th>\n",
       "      <th>mode_group</th>\n",
       "      <th>total_upt</th>\n",
       "      <th>total_vrh</th>\n",
       "      <th>total_vrm</th>\n",
       "      <th>opexp_total</th>\n",
       "      <th>total_voms</th>\n",
       "      <th>cluster_name</th>\n",
       "    </tr>\n",
       "  </thead>\n",
       "  <tbody>\n",
       "    <tr>\n",
       "      <th>24</th>\n",
       "      <td>90023</td>\n",
       "      <td>Long Beach Transit (LBT)</td>\n",
       "      <td>Long Beach</td>\n",
       "      <td>Los Angeles--Long Beach--Anaheim, CA</td>\n",
       "      <td>other_mode</td>\n",
       "      <td>0</td>\n",
       "      <td>82099625</td>\n",
       "      <td>811577875</td>\n",
       "      <td>14032320000</td>\n",
       "      <td>20875</td>\n",
       "      <td>7</td>\n",
       "    </tr>\n",
       "  </tbody>\n",
       "</table>\n",
       "</div>"
      ],
      "text/plain": [
       "   ntd_id             source_agency        city  \\\n",
       "24  90023  Long Beach Transit (LBT)  Long Beach   \n",
       "\n",
       "                        primary_uza_name  mode_group  total_upt  total_vrh  \\\n",
       "24  Los Angeles--Long Beach--Anaheim, CA  other_mode          0   82099625   \n",
       "\n",
       "    total_vrm  opexp_total  total_voms  cluster_name  \n",
       "24  811577875  14032320000       20875             7  "
      ]
     },
     "metadata": {},
     "output_type": "display_data"
    },
    {
     "name": "stdout",
     "output_type": "stream",
     "text": [
      "\n",
      "Cluster 7 summary stats:\n"
     ]
    },
    {
     "data": {
      "text/html": [
       "<div>\n",
       "<style scoped>\n",
       "    .dataframe tbody tr th:only-of-type {\n",
       "        vertical-align: middle;\n",
       "    }\n",
       "\n",
       "    .dataframe tbody tr th {\n",
       "        vertical-align: top;\n",
       "    }\n",
       "\n",
       "    .dataframe thead th {\n",
       "        text-align: right;\n",
       "    }\n",
       "</style>\n",
       "<table border=\"1\" class=\"dataframe\">\n",
       "  <thead>\n",
       "    <tr style=\"text-align: right;\">\n",
       "      <th></th>\n",
       "      <th>total_upt</th>\n",
       "      <th>total_vrh</th>\n",
       "      <th>total_vrm</th>\n",
       "      <th>opexp_total</th>\n",
       "      <th>total_voms</th>\n",
       "      <th>cluster_name</th>\n",
       "    </tr>\n",
       "  </thead>\n",
       "  <tbody>\n",
       "    <tr>\n",
       "      <th>count</th>\n",
       "      <td>1.0</td>\n",
       "      <td>1.0</td>\n",
       "      <td>1.0</td>\n",
       "      <td>1.000000e+00</td>\n",
       "      <td>1.0</td>\n",
       "      <td>1.0</td>\n",
       "    </tr>\n",
       "    <tr>\n",
       "      <th>mean</th>\n",
       "      <td>0.0</td>\n",
       "      <td>82099625.0</td>\n",
       "      <td>811577875.0</td>\n",
       "      <td>1.403232e+10</td>\n",
       "      <td>20875.0</td>\n",
       "      <td>7.0</td>\n",
       "    </tr>\n",
       "    <tr>\n",
       "      <th>std</th>\n",
       "      <td>NaN</td>\n",
       "      <td>NaN</td>\n",
       "      <td>NaN</td>\n",
       "      <td>NaN</td>\n",
       "      <td>NaN</td>\n",
       "      <td>NaN</td>\n",
       "    </tr>\n",
       "    <tr>\n",
       "      <th>min</th>\n",
       "      <td>0.0</td>\n",
       "      <td>82099625.0</td>\n",
       "      <td>811577875.0</td>\n",
       "      <td>1.403232e+10</td>\n",
       "      <td>20875.0</td>\n",
       "      <td>7.0</td>\n",
       "    </tr>\n",
       "    <tr>\n",
       "      <th>25%</th>\n",
       "      <td>0.0</td>\n",
       "      <td>82099625.0</td>\n",
       "      <td>811577875.0</td>\n",
       "      <td>1.403232e+10</td>\n",
       "      <td>20875.0</td>\n",
       "      <td>7.0</td>\n",
       "    </tr>\n",
       "    <tr>\n",
       "      <th>50%</th>\n",
       "      <td>0.0</td>\n",
       "      <td>82099625.0</td>\n",
       "      <td>811577875.0</td>\n",
       "      <td>1.403232e+10</td>\n",
       "      <td>20875.0</td>\n",
       "      <td>7.0</td>\n",
       "    </tr>\n",
       "    <tr>\n",
       "      <th>75%</th>\n",
       "      <td>0.0</td>\n",
       "      <td>82099625.0</td>\n",
       "      <td>811577875.0</td>\n",
       "      <td>1.403232e+10</td>\n",
       "      <td>20875.0</td>\n",
       "      <td>7.0</td>\n",
       "    </tr>\n",
       "    <tr>\n",
       "      <th>max</th>\n",
       "      <td>0.0</td>\n",
       "      <td>82099625.0</td>\n",
       "      <td>811577875.0</td>\n",
       "      <td>1.403232e+10</td>\n",
       "      <td>20875.0</td>\n",
       "      <td>7.0</td>\n",
       "    </tr>\n",
       "  </tbody>\n",
       "</table>\n",
       "</div>"
      ],
      "text/plain": [
       "       total_upt   total_vrh    total_vrm   opexp_total  total_voms  \\\n",
       "count        1.0         1.0          1.0  1.000000e+00         1.0   \n",
       "mean         0.0  82099625.0  811577875.0  1.403232e+10     20875.0   \n",
       "std          NaN         NaN          NaN           NaN         NaN   \n",
       "min          0.0  82099625.0  811577875.0  1.403232e+10     20875.0   \n",
       "25%          0.0  82099625.0  811577875.0  1.403232e+10     20875.0   \n",
       "50%          0.0  82099625.0  811577875.0  1.403232e+10     20875.0   \n",
       "75%          0.0  82099625.0  811577875.0  1.403232e+10     20875.0   \n",
       "max          0.0  82099625.0  811577875.0  1.403232e+10     20875.0   \n",
       "\n",
       "       cluster_name  \n",
       "count           1.0  \n",
       "mean            7.0  \n",
       "std             NaN  \n",
       "min             7.0  \n",
       "25%             7.0  \n",
       "50%             7.0  \n",
       "75%             7.0  \n",
       "max             7.0  "
      ]
     },
     "metadata": {},
     "output_type": "display_data"
    },
    {
     "name": "stdout",
     "output_type": "stream",
     "text": [
      "\n",
      "    \n",
      " How many unique agencies are in Cluster 0: 6\n",
      "    Cluster 0 sample:\n"
     ]
    },
    {
     "data": {
      "text/html": [
       "<div>\n",
       "<style scoped>\n",
       "    .dataframe tbody tr th:only-of-type {\n",
       "        vertical-align: middle;\n",
       "    }\n",
       "\n",
       "    .dataframe tbody tr th {\n",
       "        vertical-align: top;\n",
       "    }\n",
       "\n",
       "    .dataframe thead th {\n",
       "        text-align: right;\n",
       "    }\n",
       "</style>\n",
       "<table border=\"1\" class=\"dataframe\">\n",
       "  <thead>\n",
       "    <tr style=\"text-align: right;\">\n",
       "      <th></th>\n",
       "      <th>ntd_id</th>\n",
       "      <th>source_agency</th>\n",
       "      <th>city</th>\n",
       "      <th>primary_uza_name</th>\n",
       "      <th>mode_group</th>\n",
       "      <th>total_upt</th>\n",
       "      <th>total_vrh</th>\n",
       "      <th>total_vrm</th>\n",
       "      <th>opexp_total</th>\n",
       "      <th>total_voms</th>\n",
       "      <th>cluster_name</th>\n",
       "    </tr>\n",
       "  </thead>\n",
       "  <tbody>\n",
       "    <tr>\n",
       "      <th>30</th>\n",
       "      <td>90028</td>\n",
       "      <td>City of Vallejo Transportation Program (Vallej...</td>\n",
       "      <td>none</td>\n",
       "      <td>Vallejo, CA</td>\n",
       "      <td>other_mode</td>\n",
       "      <td>0</td>\n",
       "      <td>0</td>\n",
       "      <td>0</td>\n",
       "      <td>0</td>\n",
       "      <td>0</td>\n",
       "      <td>0</td>\n",
       "    </tr>\n",
       "    <tr>\n",
       "      <th>74</th>\n",
       "      <td>90150</td>\n",
       "      <td>City of Alameda Ferry Services</td>\n",
       "      <td>none</td>\n",
       "      <td>San Francisco--Oakland, CA</td>\n",
       "      <td>other_mode</td>\n",
       "      <td>0</td>\n",
       "      <td>0</td>\n",
       "      <td>0</td>\n",
       "      <td>0</td>\n",
       "      <td>0</td>\n",
       "      <td>0</td>\n",
       "    </tr>\n",
       "    <tr>\n",
       "      <th>225</th>\n",
       "      <td>91040</td>\n",
       "      <td>City of Dinuba</td>\n",
       "      <td>none</td>\n",
       "      <td>California Non-UZA</td>\n",
       "      <td>other_mode</td>\n",
       "      <td>0</td>\n",
       "      <td>0</td>\n",
       "      <td>0</td>\n",
       "      <td>0</td>\n",
       "      <td>0</td>\n",
       "      <td>0</td>\n",
       "    </tr>\n",
       "    <tr>\n",
       "      <th>262</th>\n",
       "      <td>99256</td>\n",
       "      <td>Susanville Indian Rancheria(SIR)</td>\n",
       "      <td>none</td>\n",
       "      <td>California Non-UZA</td>\n",
       "      <td>other_mode</td>\n",
       "      <td>0</td>\n",
       "      <td>0</td>\n",
       "      <td>0</td>\n",
       "      <td>0</td>\n",
       "      <td>0</td>\n",
       "      <td>0</td>\n",
       "    </tr>\n",
       "    <tr>\n",
       "      <th>264</th>\n",
       "      <td>99262</td>\n",
       "      <td>Yurok Tribe - Transportation Department</td>\n",
       "      <td>Klamath</td>\n",
       "      <td>California Non-UZA</td>\n",
       "      <td>other_mode</td>\n",
       "      <td>0</td>\n",
       "      <td>62100</td>\n",
       "      <td>814725</td>\n",
       "      <td>8607357</td>\n",
       "      <td>81</td>\n",
       "      <td>0</td>\n",
       "    </tr>\n",
       "  </tbody>\n",
       "</table>\n",
       "</div>"
      ],
      "text/plain": [
       "    ntd_id                                      source_agency     city  \\\n",
       "30   90028  City of Vallejo Transportation Program (Vallej...     none   \n",
       "74   90150                     City of Alameda Ferry Services     none   \n",
       "225  91040                                     City of Dinuba     none   \n",
       "262  99256                   Susanville Indian Rancheria(SIR)     none   \n",
       "264  99262            Yurok Tribe - Transportation Department  Klamath   \n",
       "\n",
       "               primary_uza_name  mode_group  total_upt  total_vrh  total_vrm  \\\n",
       "30                  Vallejo, CA  other_mode          0          0          0   \n",
       "74   San Francisco--Oakland, CA  other_mode          0          0          0   \n",
       "225          California Non-UZA  other_mode          0          0          0   \n",
       "262          California Non-UZA  other_mode          0          0          0   \n",
       "264          California Non-UZA  other_mode          0      62100     814725   \n",
       "\n",
       "     opexp_total  total_voms  cluster_name  \n",
       "30             0           0             0  \n",
       "74             0           0             0  \n",
       "225            0           0             0  \n",
       "262            0           0             0  \n",
       "264      8607357          81             0  "
      ]
     },
     "metadata": {},
     "output_type": "display_data"
    },
    {
     "name": "stdout",
     "output_type": "stream",
     "text": [
      "\n",
      "Cluster 0 summary stats:\n"
     ]
    },
    {
     "data": {
      "text/html": [
       "<div>\n",
       "<style scoped>\n",
       "    .dataframe tbody tr th:only-of-type {\n",
       "        vertical-align: middle;\n",
       "    }\n",
       "\n",
       "    .dataframe tbody tr th {\n",
       "        vertical-align: top;\n",
       "    }\n",
       "\n",
       "    .dataframe thead th {\n",
       "        text-align: right;\n",
       "    }\n",
       "</style>\n",
       "<table border=\"1\" class=\"dataframe\">\n",
       "  <thead>\n",
       "    <tr style=\"text-align: right;\">\n",
       "      <th></th>\n",
       "      <th>total_upt</th>\n",
       "      <th>total_vrh</th>\n",
       "      <th>total_vrm</th>\n",
       "      <th>opexp_total</th>\n",
       "      <th>total_voms</th>\n",
       "      <th>cluster_name</th>\n",
       "    </tr>\n",
       "  </thead>\n",
       "  <tbody>\n",
       "    <tr>\n",
       "      <th>count</th>\n",
       "      <td>6.000000</td>\n",
       "      <td>6.000000</td>\n",
       "      <td>6.000000</td>\n",
       "      <td>6.000000e+00</td>\n",
       "      <td>6.000000</td>\n",
       "      <td>6.0</td>\n",
       "    </tr>\n",
       "    <tr>\n",
       "      <th>mean</th>\n",
       "      <td>33333.333333</td>\n",
       "      <td>11433.333333</td>\n",
       "      <td>142454.166667</td>\n",
       "      <td>1.601260e+06</td>\n",
       "      <td>13.833333</td>\n",
       "      <td>0.0</td>\n",
       "    </tr>\n",
       "    <tr>\n",
       "      <th>std</th>\n",
       "      <td>81649.658093</td>\n",
       "      <td>24957.296862</td>\n",
       "      <td>329732.524335</td>\n",
       "      <td>3.455512e+06</td>\n",
       "      <td>32.914536</td>\n",
       "      <td>0.0</td>\n",
       "    </tr>\n",
       "    <tr>\n",
       "      <th>min</th>\n",
       "      <td>0.000000</td>\n",
       "      <td>0.000000</td>\n",
       "      <td>0.000000</td>\n",
       "      <td>0.000000e+00</td>\n",
       "      <td>0.000000</td>\n",
       "      <td>0.0</td>\n",
       "    </tr>\n",
       "    <tr>\n",
       "      <th>25%</th>\n",
       "      <td>0.000000</td>\n",
       "      <td>0.000000</td>\n",
       "      <td>0.000000</td>\n",
       "      <td>0.000000e+00</td>\n",
       "      <td>0.000000</td>\n",
       "      <td>0.0</td>\n",
       "    </tr>\n",
       "    <tr>\n",
       "      <th>50%</th>\n",
       "      <td>0.000000</td>\n",
       "      <td>0.000000</td>\n",
       "      <td>0.000000</td>\n",
       "      <td>0.000000e+00</td>\n",
       "      <td>0.000000</td>\n",
       "      <td>0.0</td>\n",
       "    </tr>\n",
       "    <tr>\n",
       "      <th>75%</th>\n",
       "      <td>0.000000</td>\n",
       "      <td>4875.000000</td>\n",
       "      <td>30000.000000</td>\n",
       "      <td>7.501500e+05</td>\n",
       "      <td>1.500000</td>\n",
       "      <td>0.0</td>\n",
       "    </tr>\n",
       "    <tr>\n",
       "      <th>max</th>\n",
       "      <td>200000.000000</td>\n",
       "      <td>62100.000000</td>\n",
       "      <td>814725.000000</td>\n",
       "      <td>8.607357e+06</td>\n",
       "      <td>81.000000</td>\n",
       "      <td>0.0</td>\n",
       "    </tr>\n",
       "  </tbody>\n",
       "</table>\n",
       "</div>"
      ],
      "text/plain": [
       "           total_upt     total_vrh      total_vrm   opexp_total  total_voms  \\\n",
       "count       6.000000      6.000000       6.000000  6.000000e+00    6.000000   \n",
       "mean    33333.333333  11433.333333  142454.166667  1.601260e+06   13.833333   \n",
       "std     81649.658093  24957.296862  329732.524335  3.455512e+06   32.914536   \n",
       "min         0.000000      0.000000       0.000000  0.000000e+00    0.000000   \n",
       "25%         0.000000      0.000000       0.000000  0.000000e+00    0.000000   \n",
       "50%         0.000000      0.000000       0.000000  0.000000e+00    0.000000   \n",
       "75%         0.000000   4875.000000   30000.000000  7.501500e+05    1.500000   \n",
       "max    200000.000000  62100.000000  814725.000000  8.607357e+06   81.000000   \n",
       "\n",
       "       cluster_name  \n",
       "count           6.0  \n",
       "mean            0.0  \n",
       "std             0.0  \n",
       "min             0.0  \n",
       "25%             0.0  \n",
       "50%             0.0  \n",
       "75%             0.0  \n",
       "max             0.0  "
      ]
     },
     "metadata": {},
     "output_type": "display_data"
    },
    {
     "name": "stdout",
     "output_type": "stream",
     "text": [
      "\n",
      "    \n",
      " How many unique agencies are in Cluster 8: 1\n",
      "    Cluster 8 sample:\n"
     ]
    },
    {
     "data": {
      "text/html": [
       "<div>\n",
       "<style scoped>\n",
       "    .dataframe tbody tr th:only-of-type {\n",
       "        vertical-align: middle;\n",
       "    }\n",
       "\n",
       "    .dataframe tbody tr th {\n",
       "        vertical-align: top;\n",
       "    }\n",
       "\n",
       "    .dataframe thead th {\n",
       "        text-align: right;\n",
       "    }\n",
       "</style>\n",
       "<table border=\"1\" class=\"dataframe\">\n",
       "  <thead>\n",
       "    <tr style=\"text-align: right;\">\n",
       "      <th></th>\n",
       "      <th>ntd_id</th>\n",
       "      <th>source_agency</th>\n",
       "      <th>city</th>\n",
       "      <th>primary_uza_name</th>\n",
       "      <th>mode_group</th>\n",
       "      <th>total_upt</th>\n",
       "      <th>total_vrh</th>\n",
       "      <th>total_vrm</th>\n",
       "      <th>opexp_total</th>\n",
       "      <th>total_voms</th>\n",
       "      <th>cluster_name</th>\n",
       "    </tr>\n",
       "  </thead>\n",
       "  <tbody>\n",
       "    <tr>\n",
       "      <th>112</th>\n",
       "      <td>90197</td>\n",
       "      <td>City of Tracy - Transit Division</td>\n",
       "      <td>Tracy</td>\n",
       "      <td>Tracy--Mountain House, CA</td>\n",
       "      <td>other_mode</td>\n",
       "      <td>0</td>\n",
       "      <td>2230528</td>\n",
       "      <td>23780096</td>\n",
       "      <td>356156864</td>\n",
       "      <td>832</td>\n",
       "      <td>8</td>\n",
       "    </tr>\n",
       "  </tbody>\n",
       "</table>\n",
       "</div>"
      ],
      "text/plain": [
       "    ntd_id                     source_agency   city  \\\n",
       "112  90197  City of Tracy - Transit Division  Tracy   \n",
       "\n",
       "              primary_uza_name  mode_group  total_upt  total_vrh  total_vrm  \\\n",
       "112  Tracy--Mountain House, CA  other_mode          0    2230528   23780096   \n",
       "\n",
       "     opexp_total  total_voms  cluster_name  \n",
       "112    356156864         832             8  "
      ]
     },
     "metadata": {},
     "output_type": "display_data"
    },
    {
     "name": "stdout",
     "output_type": "stream",
     "text": [
      "\n",
      "Cluster 8 summary stats:\n"
     ]
    },
    {
     "data": {
      "text/html": [
       "<div>\n",
       "<style scoped>\n",
       "    .dataframe tbody tr th:only-of-type {\n",
       "        vertical-align: middle;\n",
       "    }\n",
       "\n",
       "    .dataframe tbody tr th {\n",
       "        vertical-align: top;\n",
       "    }\n",
       "\n",
       "    .dataframe thead th {\n",
       "        text-align: right;\n",
       "    }\n",
       "</style>\n",
       "<table border=\"1\" class=\"dataframe\">\n",
       "  <thead>\n",
       "    <tr style=\"text-align: right;\">\n",
       "      <th></th>\n",
       "      <th>total_upt</th>\n",
       "      <th>total_vrh</th>\n",
       "      <th>total_vrm</th>\n",
       "      <th>opexp_total</th>\n",
       "      <th>total_voms</th>\n",
       "      <th>cluster_name</th>\n",
       "    </tr>\n",
       "  </thead>\n",
       "  <tbody>\n",
       "    <tr>\n",
       "      <th>count</th>\n",
       "      <td>1.0</td>\n",
       "      <td>1.0</td>\n",
       "      <td>1.0</td>\n",
       "      <td>1.0</td>\n",
       "      <td>1.0</td>\n",
       "      <td>1.0</td>\n",
       "    </tr>\n",
       "    <tr>\n",
       "      <th>mean</th>\n",
       "      <td>0.0</td>\n",
       "      <td>2230528.0</td>\n",
       "      <td>23780096.0</td>\n",
       "      <td>356156864.0</td>\n",
       "      <td>832.0</td>\n",
       "      <td>8.0</td>\n",
       "    </tr>\n",
       "    <tr>\n",
       "      <th>std</th>\n",
       "      <td>NaN</td>\n",
       "      <td>NaN</td>\n",
       "      <td>NaN</td>\n",
       "      <td>NaN</td>\n",
       "      <td>NaN</td>\n",
       "      <td>NaN</td>\n",
       "    </tr>\n",
       "    <tr>\n",
       "      <th>min</th>\n",
       "      <td>0.0</td>\n",
       "      <td>2230528.0</td>\n",
       "      <td>23780096.0</td>\n",
       "      <td>356156864.0</td>\n",
       "      <td>832.0</td>\n",
       "      <td>8.0</td>\n",
       "    </tr>\n",
       "    <tr>\n",
       "      <th>25%</th>\n",
       "      <td>0.0</td>\n",
       "      <td>2230528.0</td>\n",
       "      <td>23780096.0</td>\n",
       "      <td>356156864.0</td>\n",
       "      <td>832.0</td>\n",
       "      <td>8.0</td>\n",
       "    </tr>\n",
       "    <tr>\n",
       "      <th>50%</th>\n",
       "      <td>0.0</td>\n",
       "      <td>2230528.0</td>\n",
       "      <td>23780096.0</td>\n",
       "      <td>356156864.0</td>\n",
       "      <td>832.0</td>\n",
       "      <td>8.0</td>\n",
       "    </tr>\n",
       "    <tr>\n",
       "      <th>75%</th>\n",
       "      <td>0.0</td>\n",
       "      <td>2230528.0</td>\n",
       "      <td>23780096.0</td>\n",
       "      <td>356156864.0</td>\n",
       "      <td>832.0</td>\n",
       "      <td>8.0</td>\n",
       "    </tr>\n",
       "    <tr>\n",
       "      <th>max</th>\n",
       "      <td>0.0</td>\n",
       "      <td>2230528.0</td>\n",
       "      <td>23780096.0</td>\n",
       "      <td>356156864.0</td>\n",
       "      <td>832.0</td>\n",
       "      <td>8.0</td>\n",
       "    </tr>\n",
       "  </tbody>\n",
       "</table>\n",
       "</div>"
      ],
      "text/plain": [
       "       total_upt  total_vrh   total_vrm  opexp_total  total_voms  cluster_name\n",
       "count        1.0        1.0         1.0          1.0         1.0           1.0\n",
       "mean         0.0  2230528.0  23780096.0  356156864.0       832.0           8.0\n",
       "std          NaN        NaN         NaN          NaN         NaN           NaN\n",
       "min          0.0  2230528.0  23780096.0  356156864.0       832.0           8.0\n",
       "25%          0.0  2230528.0  23780096.0  356156864.0       832.0           8.0\n",
       "50%          0.0  2230528.0  23780096.0  356156864.0       832.0           8.0\n",
       "75%          0.0  2230528.0  23780096.0  356156864.0       832.0           8.0\n",
       "max          0.0  2230528.0  23780096.0  356156864.0       832.0           8.0"
      ]
     },
     "metadata": {},
     "output_type": "display_data"
    },
    {
     "name": "stdout",
     "output_type": "stream",
     "text": [
      "\n",
      "    \n",
      " How many unique agencies are in Cluster 9: 1\n",
      "    Cluster 9 sample:\n"
     ]
    },
    {
     "data": {
      "text/html": [
       "<div>\n",
       "<style scoped>\n",
       "    .dataframe tbody tr th:only-of-type {\n",
       "        vertical-align: middle;\n",
       "    }\n",
       "\n",
       "    .dataframe tbody tr th {\n",
       "        vertical-align: top;\n",
       "    }\n",
       "\n",
       "    .dataframe thead th {\n",
       "        text-align: right;\n",
       "    }\n",
       "</style>\n",
       "<table border=\"1\" class=\"dataframe\">\n",
       "  <thead>\n",
       "    <tr style=\"text-align: right;\">\n",
       "      <th></th>\n",
       "      <th>ntd_id</th>\n",
       "      <th>source_agency</th>\n",
       "      <th>city</th>\n",
       "      <th>primary_uza_name</th>\n",
       "      <th>mode_group</th>\n",
       "      <th>total_upt</th>\n",
       "      <th>total_vrh</th>\n",
       "      <th>total_vrm</th>\n",
       "      <th>opexp_total</th>\n",
       "      <th>total_voms</th>\n",
       "      <th>cluster_name</th>\n",
       "    </tr>\n",
       "  </thead>\n",
       "  <tbody>\n",
       "    <tr>\n",
       "      <th>131</th>\n",
       "      <td>90225</td>\n",
       "      <td>San Francisco Bay Area Water Emergency Transpo...</td>\n",
       "      <td>San Francisco</td>\n",
       "      <td>San Francisco--Oakland, CA</td>\n",
       "      <td>other_mode</td>\n",
       "      <td>32394336</td>\n",
       "      <td>198880</td>\n",
       "      <td>4121480</td>\n",
       "      <td>442400136</td>\n",
       "      <td>88</td>\n",
       "      <td>9</td>\n",
       "    </tr>\n",
       "  </tbody>\n",
       "</table>\n",
       "</div>"
      ],
      "text/plain": [
       "    ntd_id                                      source_agency           city  \\\n",
       "131  90225  San Francisco Bay Area Water Emergency Transpo...  San Francisco   \n",
       "\n",
       "               primary_uza_name  mode_group  total_upt  total_vrh  total_vrm  \\\n",
       "131  San Francisco--Oakland, CA  other_mode   32394336     198880    4121480   \n",
       "\n",
       "     opexp_total  total_voms  cluster_name  \n",
       "131    442400136          88             9  "
      ]
     },
     "metadata": {},
     "output_type": "display_data"
    },
    {
     "name": "stdout",
     "output_type": "stream",
     "text": [
      "\n",
      "Cluster 9 summary stats:\n"
     ]
    },
    {
     "data": {
      "text/html": [
       "<div>\n",
       "<style scoped>\n",
       "    .dataframe tbody tr th:only-of-type {\n",
       "        vertical-align: middle;\n",
       "    }\n",
       "\n",
       "    .dataframe tbody tr th {\n",
       "        vertical-align: top;\n",
       "    }\n",
       "\n",
       "    .dataframe thead th {\n",
       "        text-align: right;\n",
       "    }\n",
       "</style>\n",
       "<table border=\"1\" class=\"dataframe\">\n",
       "  <thead>\n",
       "    <tr style=\"text-align: right;\">\n",
       "      <th></th>\n",
       "      <th>total_upt</th>\n",
       "      <th>total_vrh</th>\n",
       "      <th>total_vrm</th>\n",
       "      <th>opexp_total</th>\n",
       "      <th>total_voms</th>\n",
       "      <th>cluster_name</th>\n",
       "    </tr>\n",
       "  </thead>\n",
       "  <tbody>\n",
       "    <tr>\n",
       "      <th>count</th>\n",
       "      <td>1.0</td>\n",
       "      <td>1.0</td>\n",
       "      <td>1.0</td>\n",
       "      <td>1.0</td>\n",
       "      <td>1.0</td>\n",
       "      <td>1.0</td>\n",
       "    </tr>\n",
       "    <tr>\n",
       "      <th>mean</th>\n",
       "      <td>32394336.0</td>\n",
       "      <td>198880.0</td>\n",
       "      <td>4121480.0</td>\n",
       "      <td>442400136.0</td>\n",
       "      <td>88.0</td>\n",
       "      <td>9.0</td>\n",
       "    </tr>\n",
       "    <tr>\n",
       "      <th>std</th>\n",
       "      <td>NaN</td>\n",
       "      <td>NaN</td>\n",
       "      <td>NaN</td>\n",
       "      <td>NaN</td>\n",
       "      <td>NaN</td>\n",
       "      <td>NaN</td>\n",
       "    </tr>\n",
       "    <tr>\n",
       "      <th>min</th>\n",
       "      <td>32394336.0</td>\n",
       "      <td>198880.0</td>\n",
       "      <td>4121480.0</td>\n",
       "      <td>442400136.0</td>\n",
       "      <td>88.0</td>\n",
       "      <td>9.0</td>\n",
       "    </tr>\n",
       "    <tr>\n",
       "      <th>25%</th>\n",
       "      <td>32394336.0</td>\n",
       "      <td>198880.0</td>\n",
       "      <td>4121480.0</td>\n",
       "      <td>442400136.0</td>\n",
       "      <td>88.0</td>\n",
       "      <td>9.0</td>\n",
       "    </tr>\n",
       "    <tr>\n",
       "      <th>50%</th>\n",
       "      <td>32394336.0</td>\n",
       "      <td>198880.0</td>\n",
       "      <td>4121480.0</td>\n",
       "      <td>442400136.0</td>\n",
       "      <td>88.0</td>\n",
       "      <td>9.0</td>\n",
       "    </tr>\n",
       "    <tr>\n",
       "      <th>75%</th>\n",
       "      <td>32394336.0</td>\n",
       "      <td>198880.0</td>\n",
       "      <td>4121480.0</td>\n",
       "      <td>442400136.0</td>\n",
       "      <td>88.0</td>\n",
       "      <td>9.0</td>\n",
       "    </tr>\n",
       "    <tr>\n",
       "      <th>max</th>\n",
       "      <td>32394336.0</td>\n",
       "      <td>198880.0</td>\n",
       "      <td>4121480.0</td>\n",
       "      <td>442400136.0</td>\n",
       "      <td>88.0</td>\n",
       "      <td>9.0</td>\n",
       "    </tr>\n",
       "  </tbody>\n",
       "</table>\n",
       "</div>"
      ],
      "text/plain": [
       "        total_upt  total_vrh  total_vrm  opexp_total  total_voms  cluster_name\n",
       "count         1.0        1.0        1.0          1.0         1.0           1.0\n",
       "mean   32394336.0   198880.0  4121480.0  442400136.0        88.0           9.0\n",
       "std           NaN        NaN        NaN          NaN         NaN           NaN\n",
       "min    32394336.0   198880.0  4121480.0  442400136.0        88.0           9.0\n",
       "25%    32394336.0   198880.0  4121480.0  442400136.0        88.0           9.0\n",
       "50%    32394336.0   198880.0  4121480.0  442400136.0        88.0           9.0\n",
       "75%    32394336.0   198880.0  4121480.0  442400136.0        88.0           9.0\n",
       "max    32394336.0   198880.0  4121480.0  442400136.0        88.0           9.0"
      ]
     },
     "metadata": {},
     "output_type": "display_data"
    },
    {
     "name": "stdout",
     "output_type": "stream",
     "text": [
      "\n",
      "    \n",
      " How many unique agencies are in Cluster 6: 1\n",
      "    Cluster 6 sample:\n"
     ]
    },
    {
     "data": {
      "text/html": [
       "<div>\n",
       "<style scoped>\n",
       "    .dataframe tbody tr th:only-of-type {\n",
       "        vertical-align: middle;\n",
       "    }\n",
       "\n",
       "    .dataframe tbody tr th {\n",
       "        vertical-align: top;\n",
       "    }\n",
       "\n",
       "    .dataframe thead th {\n",
       "        text-align: right;\n",
       "    }\n",
       "</style>\n",
       "<table border=\"1\" class=\"dataframe\">\n",
       "  <thead>\n",
       "    <tr style=\"text-align: right;\">\n",
       "      <th></th>\n",
       "      <th>ntd_id</th>\n",
       "      <th>source_agency</th>\n",
       "      <th>city</th>\n",
       "      <th>primary_uza_name</th>\n",
       "      <th>mode_group</th>\n",
       "      <th>total_upt</th>\n",
       "      <th>total_vrh</th>\n",
       "      <th>total_vrm</th>\n",
       "      <th>opexp_total</th>\n",
       "      <th>total_voms</th>\n",
       "      <th>cluster_name</th>\n",
       "    </tr>\n",
       "  </thead>\n",
       "  <tbody>\n",
       "    <tr>\n",
       "      <th>212</th>\n",
       "      <td>91009</td>\n",
       "      <td>San Benito County Local Transportation Authori...</td>\n",
       "      <td>Hollister</td>\n",
       "      <td>California Non-UZA</td>\n",
       "      <td>other_mode</td>\n",
       "      <td>0</td>\n",
       "      <td>1540800</td>\n",
       "      <td>24304384</td>\n",
       "      <td>139715072</td>\n",
       "      <td>576</td>\n",
       "      <td>6</td>\n",
       "    </tr>\n",
       "  </tbody>\n",
       "</table>\n",
       "</div>"
      ],
      "text/plain": [
       "    ntd_id                                      source_agency       city  \\\n",
       "212  91009  San Benito County Local Transportation Authori...  Hollister   \n",
       "\n",
       "       primary_uza_name  mode_group  total_upt  total_vrh  total_vrm  \\\n",
       "212  California Non-UZA  other_mode          0    1540800   24304384   \n",
       "\n",
       "     opexp_total  total_voms  cluster_name  \n",
       "212    139715072         576             6  "
      ]
     },
     "metadata": {},
     "output_type": "display_data"
    },
    {
     "name": "stdout",
     "output_type": "stream",
     "text": [
      "\n",
      "Cluster 6 summary stats:\n"
     ]
    },
    {
     "data": {
      "text/html": [
       "<div>\n",
       "<style scoped>\n",
       "    .dataframe tbody tr th:only-of-type {\n",
       "        vertical-align: middle;\n",
       "    }\n",
       "\n",
       "    .dataframe tbody tr th {\n",
       "        vertical-align: top;\n",
       "    }\n",
       "\n",
       "    .dataframe thead th {\n",
       "        text-align: right;\n",
       "    }\n",
       "</style>\n",
       "<table border=\"1\" class=\"dataframe\">\n",
       "  <thead>\n",
       "    <tr style=\"text-align: right;\">\n",
       "      <th></th>\n",
       "      <th>total_upt</th>\n",
       "      <th>total_vrh</th>\n",
       "      <th>total_vrm</th>\n",
       "      <th>opexp_total</th>\n",
       "      <th>total_voms</th>\n",
       "      <th>cluster_name</th>\n",
       "    </tr>\n",
       "  </thead>\n",
       "  <tbody>\n",
       "    <tr>\n",
       "      <th>count</th>\n",
       "      <td>1.0</td>\n",
       "      <td>1.0</td>\n",
       "      <td>1.0</td>\n",
       "      <td>1.0</td>\n",
       "      <td>1.0</td>\n",
       "      <td>1.0</td>\n",
       "    </tr>\n",
       "    <tr>\n",
       "      <th>mean</th>\n",
       "      <td>0.0</td>\n",
       "      <td>1540800.0</td>\n",
       "      <td>24304384.0</td>\n",
       "      <td>139715072.0</td>\n",
       "      <td>576.0</td>\n",
       "      <td>6.0</td>\n",
       "    </tr>\n",
       "    <tr>\n",
       "      <th>std</th>\n",
       "      <td>NaN</td>\n",
       "      <td>NaN</td>\n",
       "      <td>NaN</td>\n",
       "      <td>NaN</td>\n",
       "      <td>NaN</td>\n",
       "      <td>NaN</td>\n",
       "    </tr>\n",
       "    <tr>\n",
       "      <th>min</th>\n",
       "      <td>0.0</td>\n",
       "      <td>1540800.0</td>\n",
       "      <td>24304384.0</td>\n",
       "      <td>139715072.0</td>\n",
       "      <td>576.0</td>\n",
       "      <td>6.0</td>\n",
       "    </tr>\n",
       "    <tr>\n",
       "      <th>25%</th>\n",
       "      <td>0.0</td>\n",
       "      <td>1540800.0</td>\n",
       "      <td>24304384.0</td>\n",
       "      <td>139715072.0</td>\n",
       "      <td>576.0</td>\n",
       "      <td>6.0</td>\n",
       "    </tr>\n",
       "    <tr>\n",
       "      <th>50%</th>\n",
       "      <td>0.0</td>\n",
       "      <td>1540800.0</td>\n",
       "      <td>24304384.0</td>\n",
       "      <td>139715072.0</td>\n",
       "      <td>576.0</td>\n",
       "      <td>6.0</td>\n",
       "    </tr>\n",
       "    <tr>\n",
       "      <th>75%</th>\n",
       "      <td>0.0</td>\n",
       "      <td>1540800.0</td>\n",
       "      <td>24304384.0</td>\n",
       "      <td>139715072.0</td>\n",
       "      <td>576.0</td>\n",
       "      <td>6.0</td>\n",
       "    </tr>\n",
       "    <tr>\n",
       "      <th>max</th>\n",
       "      <td>0.0</td>\n",
       "      <td>1540800.0</td>\n",
       "      <td>24304384.0</td>\n",
       "      <td>139715072.0</td>\n",
       "      <td>576.0</td>\n",
       "      <td>6.0</td>\n",
       "    </tr>\n",
       "  </tbody>\n",
       "</table>\n",
       "</div>"
      ],
      "text/plain": [
       "       total_upt  total_vrh   total_vrm  opexp_total  total_voms  cluster_name\n",
       "count        1.0        1.0         1.0          1.0         1.0           1.0\n",
       "mean         0.0  1540800.0  24304384.0  139715072.0       576.0           6.0\n",
       "std          NaN        NaN         NaN          NaN         NaN           NaN\n",
       "min          0.0  1540800.0  24304384.0  139715072.0       576.0           6.0\n",
       "25%          0.0  1540800.0  24304384.0  139715072.0       576.0           6.0\n",
       "50%          0.0  1540800.0  24304384.0  139715072.0       576.0           6.0\n",
       "75%          0.0  1540800.0  24304384.0  139715072.0       576.0           6.0\n",
       "max          0.0  1540800.0  24304384.0  139715072.0       576.0           6.0"
      ]
     },
     "metadata": {},
     "output_type": "display_data"
    },
    {
     "name": "stdout",
     "output_type": "stream",
     "text": [
      "\n",
      "    \n",
      " How many unique agencies are in Cluster 4: 1\n",
      "    Cluster 4 sample:\n"
     ]
    },
    {
     "data": {
      "text/html": [
       "<div>\n",
       "<style scoped>\n",
       "    .dataframe tbody tr th:only-of-type {\n",
       "        vertical-align: middle;\n",
       "    }\n",
       "\n",
       "    .dataframe tbody tr th {\n",
       "        vertical-align: top;\n",
       "    }\n",
       "\n",
       "    .dataframe thead th {\n",
       "        text-align: right;\n",
       "    }\n",
       "</style>\n",
       "<table border=\"1\" class=\"dataframe\">\n",
       "  <thead>\n",
       "    <tr style=\"text-align: right;\">\n",
       "      <th></th>\n",
       "      <th>ntd_id</th>\n",
       "      <th>source_agency</th>\n",
       "      <th>city</th>\n",
       "      <th>primary_uza_name</th>\n",
       "      <th>mode_group</th>\n",
       "      <th>total_upt</th>\n",
       "      <th>total_vrh</th>\n",
       "      <th>total_vrm</th>\n",
       "      <th>opexp_total</th>\n",
       "      <th>total_voms</th>\n",
       "      <th>cluster_name</th>\n",
       "    </tr>\n",
       "  </thead>\n",
       "  <tbody>\n",
       "    <tr>\n",
       "      <th>215</th>\n",
       "      <td>91014</td>\n",
       "      <td>City of Rio Vista - Department of Public Works</td>\n",
       "      <td>Rio Vista</td>\n",
       "      <td>California Non-UZA</td>\n",
       "      <td>other_mode</td>\n",
       "      <td>0</td>\n",
       "      <td>764208</td>\n",
       "      <td>9670104</td>\n",
       "      <td>124820352</td>\n",
       "      <td>432</td>\n",
       "      <td>4</td>\n",
       "    </tr>\n",
       "  </tbody>\n",
       "</table>\n",
       "</div>"
      ],
      "text/plain": [
       "    ntd_id                                   source_agency       city  \\\n",
       "215  91014  City of Rio Vista - Department of Public Works  Rio Vista   \n",
       "\n",
       "       primary_uza_name  mode_group  total_upt  total_vrh  total_vrm  \\\n",
       "215  California Non-UZA  other_mode          0     764208    9670104   \n",
       "\n",
       "     opexp_total  total_voms  cluster_name  \n",
       "215    124820352         432             4  "
      ]
     },
     "metadata": {},
     "output_type": "display_data"
    },
    {
     "name": "stdout",
     "output_type": "stream",
     "text": [
      "\n",
      "Cluster 4 summary stats:\n"
     ]
    },
    {
     "data": {
      "text/html": [
       "<div>\n",
       "<style scoped>\n",
       "    .dataframe tbody tr th:only-of-type {\n",
       "        vertical-align: middle;\n",
       "    }\n",
       "\n",
       "    .dataframe tbody tr th {\n",
       "        vertical-align: top;\n",
       "    }\n",
       "\n",
       "    .dataframe thead th {\n",
       "        text-align: right;\n",
       "    }\n",
       "</style>\n",
       "<table border=\"1\" class=\"dataframe\">\n",
       "  <thead>\n",
       "    <tr style=\"text-align: right;\">\n",
       "      <th></th>\n",
       "      <th>total_upt</th>\n",
       "      <th>total_vrh</th>\n",
       "      <th>total_vrm</th>\n",
       "      <th>opexp_total</th>\n",
       "      <th>total_voms</th>\n",
       "      <th>cluster_name</th>\n",
       "    </tr>\n",
       "  </thead>\n",
       "  <tbody>\n",
       "    <tr>\n",
       "      <th>count</th>\n",
       "      <td>1.0</td>\n",
       "      <td>1.0</td>\n",
       "      <td>1.0</td>\n",
       "      <td>1.0</td>\n",
       "      <td>1.0</td>\n",
       "      <td>1.0</td>\n",
       "    </tr>\n",
       "    <tr>\n",
       "      <th>mean</th>\n",
       "      <td>0.0</td>\n",
       "      <td>764208.0</td>\n",
       "      <td>9670104.0</td>\n",
       "      <td>124820352.0</td>\n",
       "      <td>432.0</td>\n",
       "      <td>4.0</td>\n",
       "    </tr>\n",
       "    <tr>\n",
       "      <th>std</th>\n",
       "      <td>NaN</td>\n",
       "      <td>NaN</td>\n",
       "      <td>NaN</td>\n",
       "      <td>NaN</td>\n",
       "      <td>NaN</td>\n",
       "      <td>NaN</td>\n",
       "    </tr>\n",
       "    <tr>\n",
       "      <th>min</th>\n",
       "      <td>0.0</td>\n",
       "      <td>764208.0</td>\n",
       "      <td>9670104.0</td>\n",
       "      <td>124820352.0</td>\n",
       "      <td>432.0</td>\n",
       "      <td>4.0</td>\n",
       "    </tr>\n",
       "    <tr>\n",
       "      <th>25%</th>\n",
       "      <td>0.0</td>\n",
       "      <td>764208.0</td>\n",
       "      <td>9670104.0</td>\n",
       "      <td>124820352.0</td>\n",
       "      <td>432.0</td>\n",
       "      <td>4.0</td>\n",
       "    </tr>\n",
       "    <tr>\n",
       "      <th>50%</th>\n",
       "      <td>0.0</td>\n",
       "      <td>764208.0</td>\n",
       "      <td>9670104.0</td>\n",
       "      <td>124820352.0</td>\n",
       "      <td>432.0</td>\n",
       "      <td>4.0</td>\n",
       "    </tr>\n",
       "    <tr>\n",
       "      <th>75%</th>\n",
       "      <td>0.0</td>\n",
       "      <td>764208.0</td>\n",
       "      <td>9670104.0</td>\n",
       "      <td>124820352.0</td>\n",
       "      <td>432.0</td>\n",
       "      <td>4.0</td>\n",
       "    </tr>\n",
       "    <tr>\n",
       "      <th>max</th>\n",
       "      <td>0.0</td>\n",
       "      <td>764208.0</td>\n",
       "      <td>9670104.0</td>\n",
       "      <td>124820352.0</td>\n",
       "      <td>432.0</td>\n",
       "      <td>4.0</td>\n",
       "    </tr>\n",
       "  </tbody>\n",
       "</table>\n",
       "</div>"
      ],
      "text/plain": [
       "       total_upt  total_vrh  total_vrm  opexp_total  total_voms  cluster_name\n",
       "count        1.0        1.0        1.0          1.0         1.0           1.0\n",
       "mean         0.0   764208.0  9670104.0  124820352.0       432.0           4.0\n",
       "std          NaN        NaN        NaN          NaN         NaN           NaN\n",
       "min          0.0   764208.0  9670104.0  124820352.0       432.0           4.0\n",
       "25%          0.0   764208.0  9670104.0  124820352.0       432.0           4.0\n",
       "50%          0.0   764208.0  9670104.0  124820352.0       432.0           4.0\n",
       "75%          0.0   764208.0  9670104.0  124820352.0       432.0           4.0\n",
       "max          0.0   764208.0  9670104.0  124820352.0       432.0           4.0"
      ]
     },
     "metadata": {},
     "output_type": "display_data"
    },
    {
     "name": "stdout",
     "output_type": "stream",
     "text": [
      "\n",
      "    \n",
      " How many unique agencies are in Cluster 3: 1\n",
      "    Cluster 3 sample:\n"
     ]
    },
    {
     "data": {
      "text/html": [
       "<div>\n",
       "<style scoped>\n",
       "    .dataframe tbody tr th:only-of-type {\n",
       "        vertical-align: middle;\n",
       "    }\n",
       "\n",
       "    .dataframe tbody tr th {\n",
       "        vertical-align: top;\n",
       "    }\n",
       "\n",
       "    .dataframe thead th {\n",
       "        text-align: right;\n",
       "    }\n",
       "</style>\n",
       "<table border=\"1\" class=\"dataframe\">\n",
       "  <thead>\n",
       "    <tr style=\"text-align: right;\">\n",
       "      <th></th>\n",
       "      <th>ntd_id</th>\n",
       "      <th>source_agency</th>\n",
       "      <th>city</th>\n",
       "      <th>primary_uza_name</th>\n",
       "      <th>mode_group</th>\n",
       "      <th>total_upt</th>\n",
       "      <th>total_vrh</th>\n",
       "      <th>total_vrm</th>\n",
       "      <th>opexp_total</th>\n",
       "      <th>total_voms</th>\n",
       "      <th>cluster_name</th>\n",
       "    </tr>\n",
       "  </thead>\n",
       "  <tbody>\n",
       "    <tr>\n",
       "      <th>245</th>\n",
       "      <td>91088</td>\n",
       "      <td>County of Glenn - Glenn County Planning and Co...</td>\n",
       "      <td>Willows</td>\n",
       "      <td>California Non-UZA</td>\n",
       "      <td>other_mode</td>\n",
       "      <td>0</td>\n",
       "      <td>725000</td>\n",
       "      <td>16158500</td>\n",
       "      <td>121001250</td>\n",
       "      <td>500</td>\n",
       "      <td>3</td>\n",
       "    </tr>\n",
       "  </tbody>\n",
       "</table>\n",
       "</div>"
      ],
      "text/plain": [
       "    ntd_id                                      source_agency     city  \\\n",
       "245  91088  County of Glenn - Glenn County Planning and Co...  Willows   \n",
       "\n",
       "       primary_uza_name  mode_group  total_upt  total_vrh  total_vrm  \\\n",
       "245  California Non-UZA  other_mode          0     725000   16158500   \n",
       "\n",
       "     opexp_total  total_voms  cluster_name  \n",
       "245    121001250         500             3  "
      ]
     },
     "metadata": {},
     "output_type": "display_data"
    },
    {
     "name": "stdout",
     "output_type": "stream",
     "text": [
      "\n",
      "Cluster 3 summary stats:\n"
     ]
    },
    {
     "data": {
      "text/html": [
       "<div>\n",
       "<style scoped>\n",
       "    .dataframe tbody tr th:only-of-type {\n",
       "        vertical-align: middle;\n",
       "    }\n",
       "\n",
       "    .dataframe tbody tr th {\n",
       "        vertical-align: top;\n",
       "    }\n",
       "\n",
       "    .dataframe thead th {\n",
       "        text-align: right;\n",
       "    }\n",
       "</style>\n",
       "<table border=\"1\" class=\"dataframe\">\n",
       "  <thead>\n",
       "    <tr style=\"text-align: right;\">\n",
       "      <th></th>\n",
       "      <th>total_upt</th>\n",
       "      <th>total_vrh</th>\n",
       "      <th>total_vrm</th>\n",
       "      <th>opexp_total</th>\n",
       "      <th>total_voms</th>\n",
       "      <th>cluster_name</th>\n",
       "    </tr>\n",
       "  </thead>\n",
       "  <tbody>\n",
       "    <tr>\n",
       "      <th>count</th>\n",
       "      <td>1.0</td>\n",
       "      <td>1.0</td>\n",
       "      <td>1.0</td>\n",
       "      <td>1.0</td>\n",
       "      <td>1.0</td>\n",
       "      <td>1.0</td>\n",
       "    </tr>\n",
       "    <tr>\n",
       "      <th>mean</th>\n",
       "      <td>0.0</td>\n",
       "      <td>725000.0</td>\n",
       "      <td>16158500.0</td>\n",
       "      <td>121001250.0</td>\n",
       "      <td>500.0</td>\n",
       "      <td>3.0</td>\n",
       "    </tr>\n",
       "    <tr>\n",
       "      <th>std</th>\n",
       "      <td>NaN</td>\n",
       "      <td>NaN</td>\n",
       "      <td>NaN</td>\n",
       "      <td>NaN</td>\n",
       "      <td>NaN</td>\n",
       "      <td>NaN</td>\n",
       "    </tr>\n",
       "    <tr>\n",
       "      <th>min</th>\n",
       "      <td>0.0</td>\n",
       "      <td>725000.0</td>\n",
       "      <td>16158500.0</td>\n",
       "      <td>121001250.0</td>\n",
       "      <td>500.0</td>\n",
       "      <td>3.0</td>\n",
       "    </tr>\n",
       "    <tr>\n",
       "      <th>25%</th>\n",
       "      <td>0.0</td>\n",
       "      <td>725000.0</td>\n",
       "      <td>16158500.0</td>\n",
       "      <td>121001250.0</td>\n",
       "      <td>500.0</td>\n",
       "      <td>3.0</td>\n",
       "    </tr>\n",
       "    <tr>\n",
       "      <th>50%</th>\n",
       "      <td>0.0</td>\n",
       "      <td>725000.0</td>\n",
       "      <td>16158500.0</td>\n",
       "      <td>121001250.0</td>\n",
       "      <td>500.0</td>\n",
       "      <td>3.0</td>\n",
       "    </tr>\n",
       "    <tr>\n",
       "      <th>75%</th>\n",
       "      <td>0.0</td>\n",
       "      <td>725000.0</td>\n",
       "      <td>16158500.0</td>\n",
       "      <td>121001250.0</td>\n",
       "      <td>500.0</td>\n",
       "      <td>3.0</td>\n",
       "    </tr>\n",
       "    <tr>\n",
       "      <th>max</th>\n",
       "      <td>0.0</td>\n",
       "      <td>725000.0</td>\n",
       "      <td>16158500.0</td>\n",
       "      <td>121001250.0</td>\n",
       "      <td>500.0</td>\n",
       "      <td>3.0</td>\n",
       "    </tr>\n",
       "  </tbody>\n",
       "</table>\n",
       "</div>"
      ],
      "text/plain": [
       "       total_upt  total_vrh   total_vrm  opexp_total  total_voms  cluster_name\n",
       "count        1.0        1.0         1.0          1.0         1.0           1.0\n",
       "mean         0.0   725000.0  16158500.0  121001250.0       500.0           3.0\n",
       "std          NaN        NaN         NaN          NaN         NaN           NaN\n",
       "min          0.0   725000.0  16158500.0  121001250.0       500.0           3.0\n",
       "25%          0.0   725000.0  16158500.0  121001250.0       500.0           3.0\n",
       "50%          0.0   725000.0  16158500.0  121001250.0       500.0           3.0\n",
       "75%          0.0   725000.0  16158500.0  121001250.0       500.0           3.0\n",
       "max          0.0   725000.0  16158500.0  121001250.0       500.0           3.0"
      ]
     },
     "metadata": {},
     "output_type": "display_data"
    },
    {
     "name": "stdout",
     "output_type": "stream",
     "text": [
      "\n",
      "    \n",
      " How many unique agencies are in Cluster 1: 1\n",
      "    Cluster 1 sample:\n"
     ]
    },
    {
     "data": {
      "text/html": [
       "<div>\n",
       "<style scoped>\n",
       "    .dataframe tbody tr th:only-of-type {\n",
       "        vertical-align: middle;\n",
       "    }\n",
       "\n",
       "    .dataframe tbody tr th {\n",
       "        vertical-align: top;\n",
       "    }\n",
       "\n",
       "    .dataframe thead th {\n",
       "        text-align: right;\n",
       "    }\n",
       "</style>\n",
       "<table border=\"1\" class=\"dataframe\">\n",
       "  <thead>\n",
       "    <tr style=\"text-align: right;\">\n",
       "      <th></th>\n",
       "      <th>ntd_id</th>\n",
       "      <th>source_agency</th>\n",
       "      <th>city</th>\n",
       "      <th>primary_uza_name</th>\n",
       "      <th>mode_group</th>\n",
       "      <th>total_upt</th>\n",
       "      <th>total_vrh</th>\n",
       "      <th>total_vrm</th>\n",
       "      <th>opexp_total</th>\n",
       "      <th>total_voms</th>\n",
       "      <th>cluster_name</th>\n",
       "    </tr>\n",
       "  </thead>\n",
       "  <tbody>\n",
       "    <tr>\n",
       "      <th>247</th>\n",
       "      <td>91089</td>\n",
       "      <td>Tehama County (TRAX)</td>\n",
       "      <td>Gerber</td>\n",
       "      <td>California Non-UZA</td>\n",
       "      <td>other_mode</td>\n",
       "      <td>0</td>\n",
       "      <td>6866000</td>\n",
       "      <td>157595750</td>\n",
       "      <td>525380250</td>\n",
       "      <td>3500</td>\n",
       "      <td>1</td>\n",
       "    </tr>\n",
       "  </tbody>\n",
       "</table>\n",
       "</div>"
      ],
      "text/plain": [
       "    ntd_id         source_agency    city    primary_uza_name  mode_group  \\\n",
       "247  91089  Tehama County (TRAX)  Gerber  California Non-UZA  other_mode   \n",
       "\n",
       "     total_upt  total_vrh  total_vrm  opexp_total  total_voms  cluster_name  \n",
       "247          0    6866000  157595750    525380250        3500             1  "
      ]
     },
     "metadata": {},
     "output_type": "display_data"
    },
    {
     "name": "stdout",
     "output_type": "stream",
     "text": [
      "\n",
      "Cluster 1 summary stats:\n"
     ]
    },
    {
     "data": {
      "text/html": [
       "<div>\n",
       "<style scoped>\n",
       "    .dataframe tbody tr th:only-of-type {\n",
       "        vertical-align: middle;\n",
       "    }\n",
       "\n",
       "    .dataframe tbody tr th {\n",
       "        vertical-align: top;\n",
       "    }\n",
       "\n",
       "    .dataframe thead th {\n",
       "        text-align: right;\n",
       "    }\n",
       "</style>\n",
       "<table border=\"1\" class=\"dataframe\">\n",
       "  <thead>\n",
       "    <tr style=\"text-align: right;\">\n",
       "      <th></th>\n",
       "      <th>total_upt</th>\n",
       "      <th>total_vrh</th>\n",
       "      <th>total_vrm</th>\n",
       "      <th>opexp_total</th>\n",
       "      <th>total_voms</th>\n",
       "      <th>cluster_name</th>\n",
       "    </tr>\n",
       "  </thead>\n",
       "  <tbody>\n",
       "    <tr>\n",
       "      <th>count</th>\n",
       "      <td>1.0</td>\n",
       "      <td>1.0</td>\n",
       "      <td>1.0</td>\n",
       "      <td>1.0</td>\n",
       "      <td>1.0</td>\n",
       "      <td>1.0</td>\n",
       "    </tr>\n",
       "    <tr>\n",
       "      <th>mean</th>\n",
       "      <td>0.0</td>\n",
       "      <td>6866000.0</td>\n",
       "      <td>157595750.0</td>\n",
       "      <td>525380250.0</td>\n",
       "      <td>3500.0</td>\n",
       "      <td>1.0</td>\n",
       "    </tr>\n",
       "    <tr>\n",
       "      <th>std</th>\n",
       "      <td>NaN</td>\n",
       "      <td>NaN</td>\n",
       "      <td>NaN</td>\n",
       "      <td>NaN</td>\n",
       "      <td>NaN</td>\n",
       "      <td>NaN</td>\n",
       "    </tr>\n",
       "    <tr>\n",
       "      <th>min</th>\n",
       "      <td>0.0</td>\n",
       "      <td>6866000.0</td>\n",
       "      <td>157595750.0</td>\n",
       "      <td>525380250.0</td>\n",
       "      <td>3500.0</td>\n",
       "      <td>1.0</td>\n",
       "    </tr>\n",
       "    <tr>\n",
       "      <th>25%</th>\n",
       "      <td>0.0</td>\n",
       "      <td>6866000.0</td>\n",
       "      <td>157595750.0</td>\n",
       "      <td>525380250.0</td>\n",
       "      <td>3500.0</td>\n",
       "      <td>1.0</td>\n",
       "    </tr>\n",
       "    <tr>\n",
       "      <th>50%</th>\n",
       "      <td>0.0</td>\n",
       "      <td>6866000.0</td>\n",
       "      <td>157595750.0</td>\n",
       "      <td>525380250.0</td>\n",
       "      <td>3500.0</td>\n",
       "      <td>1.0</td>\n",
       "    </tr>\n",
       "    <tr>\n",
       "      <th>75%</th>\n",
       "      <td>0.0</td>\n",
       "      <td>6866000.0</td>\n",
       "      <td>157595750.0</td>\n",
       "      <td>525380250.0</td>\n",
       "      <td>3500.0</td>\n",
       "      <td>1.0</td>\n",
       "    </tr>\n",
       "    <tr>\n",
       "      <th>max</th>\n",
       "      <td>0.0</td>\n",
       "      <td>6866000.0</td>\n",
       "      <td>157595750.0</td>\n",
       "      <td>525380250.0</td>\n",
       "      <td>3500.0</td>\n",
       "      <td>1.0</td>\n",
       "    </tr>\n",
       "  </tbody>\n",
       "</table>\n",
       "</div>"
      ],
      "text/plain": [
       "       total_upt  total_vrh    total_vrm  opexp_total  total_voms  \\\n",
       "count        1.0        1.0          1.0          1.0         1.0   \n",
       "mean         0.0  6866000.0  157595750.0  525380250.0      3500.0   \n",
       "std          NaN        NaN          NaN          NaN         NaN   \n",
       "min          0.0  6866000.0  157595750.0  525380250.0      3500.0   \n",
       "25%          0.0  6866000.0  157595750.0  525380250.0      3500.0   \n",
       "50%          0.0  6866000.0  157595750.0  525380250.0      3500.0   \n",
       "75%          0.0  6866000.0  157595750.0  525380250.0      3500.0   \n",
       "max          0.0  6866000.0  157595750.0  525380250.0      3500.0   \n",
       "\n",
       "       cluster_name  \n",
       "count           1.0  \n",
       "mean            1.0  \n",
       "std             NaN  \n",
       "min             1.0  \n",
       "25%             1.0  \n",
       "50%             1.0  \n",
       "75%             1.0  \n",
       "max             1.0  "
      ]
     },
     "metadata": {},
     "output_type": "display_data"
    },
    {
     "name": "stdout",
     "output_type": "stream",
     "text": [
      "\n",
      "    \n",
      " How many unique agencies are in Cluster 2: 1\n",
      "    Cluster 2 sample:\n"
     ]
    },
    {
     "data": {
      "text/html": [
       "<div>\n",
       "<style scoped>\n",
       "    .dataframe tbody tr th:only-of-type {\n",
       "        vertical-align: middle;\n",
       "    }\n",
       "\n",
       "    .dataframe tbody tr th {\n",
       "        vertical-align: top;\n",
       "    }\n",
       "\n",
       "    .dataframe thead th {\n",
       "        text-align: right;\n",
       "    }\n",
       "</style>\n",
       "<table border=\"1\" class=\"dataframe\">\n",
       "  <thead>\n",
       "    <tr style=\"text-align: right;\">\n",
       "      <th></th>\n",
       "      <th>ntd_id</th>\n",
       "      <th>source_agency</th>\n",
       "      <th>city</th>\n",
       "      <th>primary_uza_name</th>\n",
       "      <th>mode_group</th>\n",
       "      <th>total_upt</th>\n",
       "      <th>total_vrh</th>\n",
       "      <th>total_vrm</th>\n",
       "      <th>opexp_total</th>\n",
       "      <th>total_voms</th>\n",
       "      <th>cluster_name</th>\n",
       "    </tr>\n",
       "  </thead>\n",
       "  <tbody>\n",
       "    <tr>\n",
       "      <th>253</th>\n",
       "      <td>91098</td>\n",
       "      <td>Lassen Transit Service Agency (LTSA)</td>\n",
       "      <td>Susanville</td>\n",
       "      <td>California Non-UZA</td>\n",
       "      <td>other_mode</td>\n",
       "      <td>0</td>\n",
       "      <td>542080</td>\n",
       "      <td>13096064</td>\n",
       "      <td>83503936</td>\n",
       "      <td>320</td>\n",
       "      <td>2</td>\n",
       "    </tr>\n",
       "  </tbody>\n",
       "</table>\n",
       "</div>"
      ],
      "text/plain": [
       "    ntd_id                         source_agency        city  \\\n",
       "253  91098  Lassen Transit Service Agency (LTSA)  Susanville   \n",
       "\n",
       "       primary_uza_name  mode_group  total_upt  total_vrh  total_vrm  \\\n",
       "253  California Non-UZA  other_mode          0     542080   13096064   \n",
       "\n",
       "     opexp_total  total_voms  cluster_name  \n",
       "253     83503936         320             2  "
      ]
     },
     "metadata": {},
     "output_type": "display_data"
    },
    {
     "name": "stdout",
     "output_type": "stream",
     "text": [
      "\n",
      "Cluster 2 summary stats:\n"
     ]
    },
    {
     "data": {
      "text/html": [
       "<div>\n",
       "<style scoped>\n",
       "    .dataframe tbody tr th:only-of-type {\n",
       "        vertical-align: middle;\n",
       "    }\n",
       "\n",
       "    .dataframe tbody tr th {\n",
       "        vertical-align: top;\n",
       "    }\n",
       "\n",
       "    .dataframe thead th {\n",
       "        text-align: right;\n",
       "    }\n",
       "</style>\n",
       "<table border=\"1\" class=\"dataframe\">\n",
       "  <thead>\n",
       "    <tr style=\"text-align: right;\">\n",
       "      <th></th>\n",
       "      <th>total_upt</th>\n",
       "      <th>total_vrh</th>\n",
       "      <th>total_vrm</th>\n",
       "      <th>opexp_total</th>\n",
       "      <th>total_voms</th>\n",
       "      <th>cluster_name</th>\n",
       "    </tr>\n",
       "  </thead>\n",
       "  <tbody>\n",
       "    <tr>\n",
       "      <th>count</th>\n",
       "      <td>1.0</td>\n",
       "      <td>1.0</td>\n",
       "      <td>1.0</td>\n",
       "      <td>1.0</td>\n",
       "      <td>1.0</td>\n",
       "      <td>1.0</td>\n",
       "    </tr>\n",
       "    <tr>\n",
       "      <th>mean</th>\n",
       "      <td>0.0</td>\n",
       "      <td>542080.0</td>\n",
       "      <td>13096064.0</td>\n",
       "      <td>83503936.0</td>\n",
       "      <td>320.0</td>\n",
       "      <td>2.0</td>\n",
       "    </tr>\n",
       "    <tr>\n",
       "      <th>std</th>\n",
       "      <td>NaN</td>\n",
       "      <td>NaN</td>\n",
       "      <td>NaN</td>\n",
       "      <td>NaN</td>\n",
       "      <td>NaN</td>\n",
       "      <td>NaN</td>\n",
       "    </tr>\n",
       "    <tr>\n",
       "      <th>min</th>\n",
       "      <td>0.0</td>\n",
       "      <td>542080.0</td>\n",
       "      <td>13096064.0</td>\n",
       "      <td>83503936.0</td>\n",
       "      <td>320.0</td>\n",
       "      <td>2.0</td>\n",
       "    </tr>\n",
       "    <tr>\n",
       "      <th>25%</th>\n",
       "      <td>0.0</td>\n",
       "      <td>542080.0</td>\n",
       "      <td>13096064.0</td>\n",
       "      <td>83503936.0</td>\n",
       "      <td>320.0</td>\n",
       "      <td>2.0</td>\n",
       "    </tr>\n",
       "    <tr>\n",
       "      <th>50%</th>\n",
       "      <td>0.0</td>\n",
       "      <td>542080.0</td>\n",
       "      <td>13096064.0</td>\n",
       "      <td>83503936.0</td>\n",
       "      <td>320.0</td>\n",
       "      <td>2.0</td>\n",
       "    </tr>\n",
       "    <tr>\n",
       "      <th>75%</th>\n",
       "      <td>0.0</td>\n",
       "      <td>542080.0</td>\n",
       "      <td>13096064.0</td>\n",
       "      <td>83503936.0</td>\n",
       "      <td>320.0</td>\n",
       "      <td>2.0</td>\n",
       "    </tr>\n",
       "    <tr>\n",
       "      <th>max</th>\n",
       "      <td>0.0</td>\n",
       "      <td>542080.0</td>\n",
       "      <td>13096064.0</td>\n",
       "      <td>83503936.0</td>\n",
       "      <td>320.0</td>\n",
       "      <td>2.0</td>\n",
       "    </tr>\n",
       "  </tbody>\n",
       "</table>\n",
       "</div>"
      ],
      "text/plain": [
       "       total_upt  total_vrh   total_vrm  opexp_total  total_voms  cluster_name\n",
       "count        1.0        1.0         1.0          1.0         1.0           1.0\n",
       "mean         0.0   542080.0  13096064.0   83503936.0       320.0           2.0\n",
       "std          NaN        NaN         NaN          NaN         NaN           NaN\n",
       "min          0.0   542080.0  13096064.0   83503936.0       320.0           2.0\n",
       "25%          0.0   542080.0  13096064.0   83503936.0       320.0           2.0\n",
       "50%          0.0   542080.0  13096064.0   83503936.0       320.0           2.0\n",
       "75%          0.0   542080.0  13096064.0   83503936.0       320.0           2.0\n",
       "max          0.0   542080.0  13096064.0   83503936.0       320.0           2.0"
      ]
     },
     "metadata": {},
     "output_type": "display_data"
    }
   ],
   "source": [
    "other_mode_cluster = make_hierarchal_clustering(\n",
    "    data = other_mode_2023,\n",
    "    num_cols = numerical_cols,\n",
    "    cat_cols = [\"mode_group\"],\n",
    "    cluster_num = 10\n",
    "    \n",
    ")\n",
    "\n",
    "z_other_modes = make_dendrogram_data(\n",
    "    data = other_mode_2023,\n",
    "    num_cols = numerical_cols,\n",
    "    cat_cols = [\"mode_group\"]\n",
    ")\n",
    "\n",
    "\n",
    "display(\n",
    "    other_mode_cluster[\"cluster_name\"].value_counts()\n",
    "    \n",
    ")\n",
    "\n",
    "fig_fixed_route = ff.create_dendrogram(z_other_modes)\n",
    "fig_fixed_route.update_layout(width=800, height=500)\n",
    "fig_fixed_route.show()\n",
    "\n",
    "for i in other_mode_cluster[\"cluster_name\"].unique():\n",
    "    print(f\"\"\"\n",
    "    \\n How many unique agencies are in Cluster {i}: {other_mode_cluster[other_mode_cluster['cluster_name']==i][\"source_agency\"].nunique()}\n",
    "    Cluster {i} sample:\"\"\")\n",
    "    display(other_mode_cluster[other_mode_cluster[\"cluster_name\"]==i].head()),\n",
    "    print(f\"\\nCluster {i} summary stats:\")\n",
    "    display(other_mode_cluster[other_mode_cluster[\"cluster_name\"]==i].describe())"
   ]
  },
  {
   "cell_type": "markdown",
   "id": "591d360d-4779-4ade-bbf3-ad33d9b2b20a",
   "metadata": {},
   "source": [
    "### non-fixed route, just DO\n"
   ]
  },
  {
   "cell_type": "code",
   "execution_count": null,
   "id": "bc97e007-0bea-4f48-97dd-bba73c3dce3a",
   "metadata": {
    "tags": []
   },
   "outputs": [],
   "source": [
    "non_fixed_route_do = ntd_2023_data[\n",
    "    (ntd_2023_data[\"mode\"].isin(nonfixed_guideway))\n",
    "    & (ntd_2023_data[\"service\"]==\"DO\")\n",
    "].groupby(id_cols+categorical_cols).agg({\n",
    "    i:\"sum\" for i in numerical_cols\n",
    "}).reset_index()\n",
    "\n",
    "display(\n",
    "    non_fixed_route_do.info(),\n",
    "    non_fixed_route_do.head()\n",
    ")\n",
    "\n"
   ]
  },
  {
   "cell_type": "code",
   "execution_count": null,
   "id": "e26dbfb9-32f2-407c-94d3-0d8b3fb078c8",
   "metadata": {
    "tags": []
   },
   "outputs": [],
   "source": [
    "non_fixed_route_do_2023 = make_hierarchal_clustering(\n",
    "    data = non_fixed_route_do,\n",
    "    num_cols = numerical_cols,\n",
    "    cat_cols = categorical_cols,\n",
    "    cluster_num = 10\n",
    "    \n",
    ")\n",
    "\n",
    "z_nonfixed_route_do = make_dendrogram_data(\n",
    "    data = non_fixed_route_do,\n",
    "    num_cols = numerical_cols,\n",
    "    cat_cols = categorical_cols\n",
    ")\n",
    "\n",
    "\n",
    "for i in non_fixed_route_do_2023[\"cluster_name\"].unique():\n",
    "    print(f\"\"\"\n",
    "    \\n How many unique agencies are in Cluster {i}: {non_fixed_route_do_2023[non_fixed_route_do_2023['cluster_name']==i][\"source_agency\"].nunique()}\n",
    "    Cluster {i} sample:\"\"\")\n",
    "    display(non_fixed_route_do_2023[non_fixed_route_do_2023[\"cluster_name\"]==i].head()),\n",
    "    print(f\"\\nCluster {i} summary stats:\")\n",
    "    display(non_fixed_route_do_2023[non_fixed_route_do_2023[\"cluster_name\"]==i].describe())\n",
    "\n",
    "    \n",
    "# fig_nonfixed_route = ff.create_dendrogram(z_nonfixed_route, labels = non_fixed_route_data[\"source_agency\"].tolist())\n",
    "# fig_nonfixed_route.update_layout(width=800, height=500)\n",
    "# fig_nonfixed_route.show()\n",
    "\n",
    "plt.figure(figsize=(10, 5))\n",
    "dendrogram(z_nonfixed_route_do, labels=non_fixed_route_do[\"ntd_id\"].tolist(), leaf_rotation=90)\n",
    "plt.title(\"Dendrogram (Ward's Method)\")\n",
    "plt.xlabel(\"ntd_id\")\n",
    "plt.ylabel(\"Distance\")\n",
    "plt.tight_layout()\n",
    "plt.show()"
   ]
  },
  {
   "cell_type": "code",
   "execution_count": null,
   "id": "20f9e9bc-ac1c-4af3-935b-0d397b2842e4",
   "metadata": {},
   "outputs": [],
   "source": []
  }
 ],
 "metadata": {
  "kernelspec": {
   "display_name": "Python 3 (ipykernel)",
   "language": "python",
   "name": "python3"
  },
  "language_info": {
   "codemirror_mode": {
    "name": "ipython",
    "version": 3
   },
   "file_extension": ".py",
   "mimetype": "text/x-python",
   "name": "python",
   "nbconvert_exporter": "python",
   "pygments_lexer": "ipython3",
   "version": "3.11.10"
  }
 },
 "nbformat": 4,
 "nbformat_minor": 5
}
