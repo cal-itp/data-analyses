{
 "cells": [
  {
   "cell_type": "markdown",
   "id": "854da103-62e6-4aa6-a0a2-9f2df7819f32",
   "metadata": {
    "tags": []
   },
   "source": [
    "# [Refine Use of Explored NTD Variables #1646](https://github.com/cal-itp/data-analyses/issues/1646)\n",
    "\n",
    "Question or Goal:\n",
    "\n",
    "1. **COMPLETE** Mode & Service: We previously used these to define the grain of the data. These should be used for classifying/model-fitting.\n",
    "    - There are many modes: Can we group modes so there are fewer of them (e.g. fixed-guideway vs not)? Too many dummy variables for a category leads to overfitting/too many clusters.\n",
    "    - What's the best way to use Service? Is it as a dummy variable? Is it numeric \"proportion of service(VRH or M)\" that's directly operated? Explore the impacts of both.\n",
    "\n",
    "2. ~~If we group by only Agency (flattening, fewer rows), how do we aggregate the other classification variables before we normalize them? Is adding sufficient? Do we need to average any?~~\n",
    "    - Work continuing on isue #1683\n",
    "\n",
    "3. Are there ways to get more interactive/easy-to-read visualizations?\n",
    "    - If it takes significant time, break this one out"
   ]
  },
  {
   "cell_type": "markdown",
   "id": "3754fc0d-3a7d-4755-af73-51f412ffbc7a",
   "metadata": {},
   "source": [
    "## Terms\n",
    "**Example**:\n",
    "- You could think of an example as analogous to a `single row` in a spreadsheet.\n",
    "\n",
    "**Feature**:\n",
    "- Features are the values that a supervised model uses to predict the label.\n",
    "- In a weather model that predicts rainfall, the features could be `latitude, longitude, temperature, humidity, cloud coverage, wind direction, and atmospheric pressure`.\n",
    "- An input variable to a machine learning model. An example consists of one or more features. For instance, suppose you are training a model to determine the influence of weather conditions on student test scores. The following table shows three examples, each of which contains three features and one label:\n",
    "\n",
    "**Label**:\n",
    "- The label is the \"answer,\" or the value we want the model to predict.\n",
    "- In a weather model that predicts rainfall, the label would be `rainfall amount`.\n",
    "- In supervised machine learning, the \"answer\" or \"result\" portion of an example. Each labeled example consists of one or more features and a label. For example, in a spam detection dataset, the label would probably be either \"spam\" or \"not spam.\" In a rainfall dataset, the label might be the amount of rain that fell during a certain period."
   ]
  },
  {
   "cell_type": "markdown",
   "id": "4405a29d-7981-47f1-8780-256c71850d41",
   "metadata": {},
   "source": [
    "---"
   ]
  },
  {
   "cell_type": "code",
   "execution_count": null,
   "id": "b0fabe39-aabc-4d99-a57d-eb2b72c31762",
   "metadata": {
    "tags": []
   },
   "outputs": [],
   "source": [
    "import sys\n",
    "import altair as alt\n",
    "import pandas as pd\n",
    "\n",
    "sys.path.append(\"../ntd/monthly_ridership_report\")\n",
    "from update_vars import GCS_FILE_PATH, NTD_MODES, NTD_TOS\n",
    "\n",
    "pd.set_option(\"display.max_rows\", None)\n",
    "pd.set_option(\"display.max_columns\", None)"
   ]
  },
  {
   "cell_type": "markdown",
   "id": "96fb7fb3-f361-45a9-968f-45447ddf3211",
   "metadata": {},
   "source": [
    "## Test querying NTD data from warehouse\n",
    "I queried data from `mart_ntd_funding_and_expenses.fct_service_data_and_operating_expenses_time_series_by_mode_{metric}`\n"
   ]
  },
  {
   "cell_type": "code",
   "execution_count": null,
   "id": "ebfe32b2-3340-42fa-aca6-d0ea5e100802",
   "metadata": {},
   "outputs": [],
   "source": [
    "# from calitp_data_analysis.sql import get_engine"
   ]
  },
  {
   "cell_type": "code",
   "execution_count": null,
   "id": "0b81290e-dd3b-4fda-9eaa-ff8e043cbea4",
   "metadata": {},
   "outputs": [],
   "source": [
    "# db_engine = get_engine()\n",
    "\n",
    "# with db_engine.connect() as connection:\n",
    "#     # including mode and service will make the table bigger, and would need another aggregation to get yearly totals\n",
    "#     query = f\"\"\"\n",
    "#         SELECT\n",
    "#           upt.ntd_id,\n",
    "#           upt.source_agency,\n",
    "#           upt.agency_status,\n",
    "#           upt.city,\n",
    "#           upt.primary_uza_name,\n",
    "#           upt.uza_population,\n",
    "#           upt.uza_area_sq_miles,\n",
    "#           upt.year,\n",
    "#           upt.mode,\n",
    "#           upt.service,\n",
    "#           upt.reporter_type,\n",
    "#           SUM(upt.upt) AS total_upt,\n",
    "#           SUM(voms.voms) AS total_voms,\n",
    "#           SUM(vrh.vrh) AS total_vrh,\n",
    "#           SUM(vrm.vrm) AS total_vrm,\n",
    "#           SUM(opexp_total.opexp_total) AS opexp_total\n",
    "#         FROM\n",
    "#           cal-itp-data-infra.mart_ntd_funding_and_expenses.fct_service_data_and_operating_expenses_time_series_by_mode_upt AS upt\n",
    "#         INNER JOIN\n",
    "#           cal-itp-data-infra.mart_ntd_funding_and_expenses.fct_service_data_and_operating_expenses_time_series_by_mode_voms AS voms\n",
    "#         ON\n",
    "#           upt.ntd_id = voms.ntd_id\n",
    "#           AND upt.year = voms.year\n",
    "#           AND upt.source_agency = voms.source_agency\n",
    "#           AND upt.agency_status = voms.agency_status\n",
    "#           AND upt.primary_uza_name = voms.primary_uza_name\n",
    "#           AND upt.uza_population = voms.uza_population\n",
    "#           AND upt.uza_area_sq_miles = voms.uza_area_sq_miles\n",
    "#         INNER JOIN\n",
    "#           cal-itp-data-infra.mart_ntd_funding_and_expenses.fct_service_data_and_operating_expenses_time_series_by_mode_vrh AS vrh\n",
    "#         ON\n",
    "#           upt.ntd_id = vrh.ntd_id\n",
    "#           AND upt.year = vrh.year\n",
    "#           AND upt.source_agency = vrh.source_agency\n",
    "#           AND upt.agency_status = vrh.agency_status\n",
    "#           AND upt.primary_uza_name = vrh.primary_uza_name\n",
    "#           AND upt.uza_population = vrh.uza_population\n",
    "#           AND upt.uza_area_sq_miles = vrh.uza_area_sq_miles\n",
    "#         INNER JOIN\n",
    "#           cal-itp-data-infra.mart_ntd_funding_and_expenses.fct_service_data_and_operating_expenses_time_series_by_mode_vrm AS vrm\n",
    "#         ON\n",
    "#           upt.ntd_id = vrm.ntd_id\n",
    "#           AND upt.year = vrm.year\n",
    "#           AND upt.source_agency = vrm.source_agency\n",
    "#           AND upt.agency_status = vrm.agency_status\n",
    "#           AND upt.primary_uza_name = vrm.primary_uza_name\n",
    "#           AND upt.uza_population = vrm.uza_population\n",
    "#           AND upt.uza_area_sq_miles = vrm.uza_area_sq_miles\n",
    "#         INNER JOIN\n",
    "#           cal-itp-data-infra.mart_ntd_funding_and_expenses.fct_service_data_and_operating_expenses_time_series_by_mode_opexp_total AS opexp_total\n",
    "#         ON\n",
    "#           upt.ntd_id = opexp_total.ntd_id\n",
    "#           AND upt.year = opexp_total.year\n",
    "#           AND upt.source_agency = opexp_total.source_agency\n",
    "#           AND upt.agency_status = opexp_total.agency_status\n",
    "#           AND upt.primary_uza_name = opexp_total.primary_uza_name\n",
    "#           AND upt.uza_population = opexp_total.uza_population\n",
    "#           AND upt.uza_area_sq_miles = opexp_total.uza_area_sq_miles\n",
    "#         WHERE\n",
    "#           upt.source_state = \"CA\"\n",
    "#           AND upt.year >= 2018\n",
    "#         GROUP BY\n",
    "#           upt.ntd_id,\n",
    "#           upt.source_agency,\n",
    "#           upt.agency_status,\n",
    "#           upt.city,\n",
    "#           upt.year,\n",
    "#           upt.primary_uza_name,\n",
    "#           upt.uza_population,\n",
    "#           upt.uza_area_sq_miles,\n",
    "#           upt.mode,\n",
    "#           upt.service,\n",
    "#           upt.reporter_type\n",
    "#         \"\"\"\n",
    "#     # create df\n",
    "#     raw_ntd_metrics_merge = pd.read_sql(query, connection)"
   ]
  },
  {
   "cell_type": "code",
   "execution_count": null,
   "id": "f930dee6-b23c-410d-b4d8-081a50b42f45",
   "metadata": {
    "tags": []
   },
   "outputs": [],
   "source": [
    "# reverse_mode = {v: k for k,v in NTD_MODES.items()}\n",
    "# reverse_tos = {v:k for k,v in NTD_TOS.items()}\n",
    "\n",
    "# replace_dict = {\"mode\": NTD_MODES, \"service\": NTD_TOS}\n",
    "\n",
    "# for k, v in replace_dict.items():\n",
    "#     raw_ntd_metrics_merge[k] = raw_ntd_metrics_merge[k].replace(v)\n",
    "#     # test_query[k] = test_query[k].replace(v)\n",
    "\n",
    "# display(\n",
    "#     raw_ntd_metrics_merge[\"mode\"].unique(),\n",
    "#     # test_query[\"service\"].unique(),\n",
    "#     # test_query.equals(raw_ntd_metrics_merge)\n",
    "# )"
   ]
  },
  {
   "cell_type": "markdown",
   "id": "8cf51e7f-8f44-4504-95a2-5fae47a7c42e",
   "metadata": {
    "tags": []
   },
   "source": [
    "## save out to GCS"
   ]
  },
  {
   "cell_type": "code",
   "execution_count": null,
   "id": "723f3c97-ce38-455d-b692-60d8c324e02e",
   "metadata": {
    "tags": []
   },
   "outputs": [],
   "source": [
    "# raw_ntd_metrics_merge.to_parquet(f\"{GCS_FILE_PATH}transit_peer_group_data_18-23.parquet\")"
   ]
  },
  {
   "cell_type": "markdown",
   "id": "7ea9dc0c-663b-4528-8e67-536632e8c2ed",
   "metadata": {},
   "source": [
    "## read in GCS data"
   ]
  },
  {
   "cell_type": "code",
   "execution_count": null,
   "id": "c17d6b5a-5493-4be8-ac2f-08b56a9518b7",
   "metadata": {
    "tags": []
   },
   "outputs": [],
   "source": [
    "raw_ntd_metrics_merge = pd.read_parquet(\n",
    "    f\"{GCS_FILE_PATH}transit_peer_group_data_18-23.parquet\"\n",
    ")"
   ]
  },
  {
   "cell_type": "code",
   "execution_count": null,
   "id": "750428af-69c5-4066-a13c-6e88169c4f1e",
   "metadata": {
    "tags": []
   },
   "outputs": [],
   "source": [
    "# without mode/service - 1524 rows\n",
    "# with mode/service - 4002\n",
    "raw_ntd_metrics_merge.info()"
   ]
  },
  {
   "cell_type": "code",
   "execution_count": null,
   "id": "a562c40b-bca0-4106-9c78-2b86b17d21bc",
   "metadata": {
    "tags": []
   },
   "outputs": [],
   "source": [
    "# aggregating to get yearly totals, but missing mode/service\n",
    "ntd_metrics_yearly = (\n",
    "    raw_ntd_metrics_merge.groupby(\n",
    "        [\n",
    "            \"ntd_id\",\n",
    "            \"source_agency\",\n",
    "            \"agency_status\",\n",
    "            \"reporter_type\",\n",
    "            \"primary_uza_name\",\n",
    "            \"uza_population\",\n",
    "            \"uza_area_sq_miles\",\n",
    "            \"year\",\n",
    "        ]\n",
    "    )\n",
    "    .agg(sum)\n",
    "    .reset_index()\n",
    ")\n",
    "\n",
    "# each row is an agencies total for the year, for 6 years (2018-2023). each agency should have 6 rows.\n",
    "ntd_metrics_yearly.info()"
   ]
  },
  {
   "cell_type": "markdown",
   "id": "53d4b2ff-1daf-4ca8-b5bf-ad1edd6e6c0c",
   "metadata": {},
   "source": [
    "## Check correlation matrix"
   ]
  },
  {
   "cell_type": "code",
   "execution_count": null,
   "id": "9ad0c6a1-d35d-4e1f-b2d9-57322ac33f43",
   "metadata": {
    "tags": []
   },
   "outputs": [],
   "source": [
    "corr_matrix = (\n",
    "    ntd_metrics_yearly[\n",
    "        [\n",
    "            \"opexp_total\",\n",
    "            \"total_upt\",\n",
    "            \"total_vrh\",\n",
    "            \"total_vrm\",\n",
    "            \"total_voms\",\n",
    "            \"uza_area_sq_miles\",\n",
    "            \"uza_population\",\n",
    "        ]\n",
    "    ]\n",
    "    .corr()\n",
    "    .round(4)\n",
    ")\n",
    "\n",
    "corr_matrix"
   ]
  },
  {
   "cell_type": "code",
   "execution_count": null,
   "id": "f8347a54-a801-4b5f-9ae2-3f50894daf65",
   "metadata": {
    "tags": []
   },
   "outputs": [],
   "source": [
    "corr_melt = corr_matrix.reset_index().melt(id_vars=\"index\")"
   ]
  },
  {
   "cell_type": "code",
   "execution_count": null,
   "id": "ea14470e-cefd-4f6b-ac9d-a00dc482237d",
   "metadata": {
    "tags": []
   },
   "outputs": [],
   "source": [
    "alt.Chart(corr_melt).mark_rect().encode(\n",
    "    x=\"index\",\n",
    "    y=\"variable\",\n",
    "    color=\"value\"\n",
    ")"
   ]
  },
  {
   "cell_type": "markdown",
   "id": "c5db2ae6-5144-45a7-8e56-7fa0b3473e25",
   "metadata": {},
   "source": [
    "There are way more pairwise variables over 0.9.\n",
    "List of pairwise variables under 0.9\n",
    "- opex & voms: 0.87\n",
    "- opex & uza area: 0.11\n",
    "- opex & uza pop: 0.09\n",
    "- upt & vrm: 0.88\n",
    "- upt & voms: 0.82\n",
    "- upt & uza area: 0.11 \n",
    "- upt & uza pop: 0.09\n",
    "- vrh & uza area: 0.12\n",
    "- vrh & uza pop: 0.09\n",
    "- vrm & uza area: 0.12\n",
    "- vrm & uza pop: 0.10\n",
    "- voms & uza area : 0.12\n",
    "- voms & uza pop: 0.10\n",
    "\n"
   ]
  },
  {
   "cell_type": "markdown",
   "id": "cc36a2ba-839c-40a7-84d7-ced27b65f9d6",
   "metadata": {},
   "source": [
    "## Classify feature columns"
   ]
  },
  {
   "cell_type": "code",
   "execution_count": null,
   "id": "5782a310-7c2f-46ea-a9e0-33c36492d8ba",
   "metadata": {
    "tags": []
   },
   "outputs": [],
   "source": [
    "list(raw_ntd_metrics_merge.columns)"
   ]
  },
  {
   "cell_type": "code",
   "execution_count": null,
   "id": "2e90f2a3-2627-4e38-8047-ede9f2ece599",
   "metadata": {
    "tags": []
   },
   "outputs": [],
   "source": [
    "# Feature groups\n",
    "\n",
    "# exclude from clustering\n",
    "id_cols = [\n",
    "    \"source_agency\",\n",
    "    \"city\",\n",
    "    \"ntd_id\",\n",
    "    \"primary_uza_name\",\n",
    "    # \"reporter_type\",  # maybe move to categorical\n",
    "]\n",
    "\n",
    "# include in clustering\n",
    "categorical_cols = [\"mode\", \"service\", \"reporter_type\"]\n",
    "\n",
    "# include in clustering\n",
    "numerical_cols = [\n",
    "    \"total_upt\",\n",
    "    \"total_vrh\",\n",
    "    \"total_vrm\",\n",
    "    \"opexp_total\",\n",
    "    \"total_voms\",\n",
    "    # \"uza_population\",\n",
    "    # \"uza_area_sq_miles\",\n",
    "]\n",
    "\n",
    "# exclude in clustering\n",
    "other_cols = [\n",
    "    \"agency_status\",\n",
    "    \"year\",\n",
    "    \"reporting_module\",\n",
    "    \"_merge\",\n",
    "]"
   ]
  },
  {
   "cell_type": "markdown",
   "id": "416983b6-5390-4d81-9afc-7d8d5eb136d5",
   "metadata": {},
   "source": [
    "## 2. Mode & Service"
   ]
  },
  {
   "cell_type": "markdown",
   "id": "5b027fb2-79a1-4fec-b242-8e00183fc7f8",
   "metadata": {},
   "source": [
    "### Unique `Mode` sub-categories\n",
    "Previous research papers categorized mode by have/not have \"dedicated right of way\"/ \"fixed guideway\"."
   ]
  },
  {
   "cell_type": "code",
   "execution_count": null,
   "id": "a7fa6cad-373c-4579-b53e-5b939791db9f",
   "metadata": {
    "tags": []
   },
   "outputs": [],
   "source": [
    "list(raw_ntd_metrics_merge[\"mode\"].unique())\n"
   ]
  },
  {
   "cell_type": "code",
   "execution_count": null,
   "id": "d4c2dd37-1e75-4e06-b29e-7eff2b3650f6",
   "metadata": {
    "tags": []
   },
   "outputs": [],
   "source": [
    "# what is `OT` and `OR`?\n",
    "\n",
    "# Which agencies have mode OT/OTR?!\n",
    "raw_ntd_metrics_merge[raw_ntd_metrics_merge[\"mode\"].isin([\"OT\", \"OR\"])][\n",
    "    \"source_agency\"\n",
    "].unique()"
   ]
  },
  {
   "cell_type": "code",
   "execution_count": null,
   "id": "c90d6420-db63-4661-9711-7c07fe9df006",
   "metadata": {
    "editable": true,
    "slideshow": {
     "slide_type": ""
    },
    "tags": []
   },
   "outputs": [],
   "source": [
    "fixed_guideway = [\n",
    "    \"Streetcar\",\n",
    "    \"Heavy Rail\",\n",
    "    \"Hybrid Rail\",\n",
    "    \"Commuter Rail\",\n",
    "    \"Cablecar\",\n",
    "    \"Light Rail\",\n",
    "    \"Monorail / Automated Guideway\",\n",
    "]\n",
    "\n",
    "other = [\n",
    "    \"Trolleybus\", \n",
    "    \"Ferryboats\", \n",
    "    \"OT\", \n",
    "    \"OR\"\n",
    "]\n",
    "\n",
    "nonfixed_guideway = [\n",
    "    \"Demand Response\",\n",
    "    \"Bus\",\n",
    "    \"Demand Response Taxi\",\n",
    "    \"Commuter Bus\",\n",
    "    \"Vanpool\",\n",
    "    \"Bus Rapid Transit\",\n",
    "]"
   ]
  },
  {
   "cell_type": "markdown",
   "id": "ab780bd8-5fed-47eb-bed5-0ee34192cd3f",
   "metadata": {
    "tags": []
   },
   "source": [
    "### testing what the dataframe will look like if you separate fixed from nonfixed guideway"
   ]
  },
  {
   "cell_type": "code",
   "execution_count": null,
   "id": "922db13f-1e15-4462-8196-1f43da6aa4a4",
   "metadata": {
    "tags": []
   },
   "outputs": [],
   "source": [
    "fixed_guideway_df = raw_ntd_metrics_merge[\n",
    "    raw_ntd_metrics_merge[\"mode\"].isin(fixed_guideway)\n",
    "]\n",
    "\n",
    "nonfixed_guideway_df = raw_ntd_metrics_merge[\n",
    "    raw_ntd_metrics_merge[\"mode\"].isin(nonfixed_guideway)\n",
    "]"
   ]
  },
  {
   "cell_type": "code",
   "execution_count": null,
   "id": "a697609c-6cce-4c67-a6bb-b4ff68159364",
   "metadata": {
    "tags": []
   },
   "outputs": [],
   "source": [
    "display(\n",
    "    fixed_guideway_df.shape,\n",
    "    fixed_guideway_df[\"mode\"].unique(),\n",
    ")"
   ]
  },
  {
   "cell_type": "code",
   "execution_count": null,
   "id": "91637583-0c4c-4863-aeff-1d74e7e1713f",
   "metadata": {
    "tags": []
   },
   "outputs": [],
   "source": [
    "display(\n",
    "    nonfixed_guideway_df.shape,\n",
    "    nonfixed_guideway_df[\"mode\"].unique(),\n",
    ")"
   ]
  },
  {
   "cell_type": "markdown",
   "id": "f5af5043-99a3-44bf-803a-4afd7ecfe6e6",
   "metadata": {
    "tags": []
   },
   "source": [
    "### Unique `Service` values"
   ]
  },
  {
   "cell_type": "code",
   "execution_count": null,
   "id": "d47cfa60-1c60-4791-8527-cd70e5c1d354",
   "metadata": {
    "tags": []
   },
   "outputs": [],
   "source": [
    "list(raw_ntd_metrics_merge[\"service\"].unique())"
   ]
  },
  {
   "cell_type": "code",
   "execution_count": null,
   "id": "f744a560-8d65-400a-b78b-54bc99eb0055",
   "metadata": {
    "tags": []
   },
   "outputs": [],
   "source": [
    "service_pt_do = [\n",
    "    \"Purchased Transportation\",\n",
    "    \"Directly Operated\",\n",
    "]\n",
    "\n",
    "service_other = [\n",
    "    \"Purchased Transportation - Taxi\",\n",
    "    \"Purchased Transportation - Transportation Network Company\",\n",
    "]"
   ]
  },
  {
   "cell_type": "code",
   "execution_count": null,
   "id": "23a4371a-bc13-44ca-b0a1-b1d565c58cde",
   "metadata": {
    "tags": []
   },
   "outputs": [],
   "source": [
    "display(\n",
    "    fixed_guideway_df[\"service\"].value_counts(),\n",
    "    nonfixed_guideway_df[\"service\"].value_counts(),\n",
    "    nonfixed_guideway_df[nonfixed_guideway_df[\"service\"].str.contains(\"- T\")][\"source_agency\"].value_counts()\n",
    ")"
   ]
  },
  {
   "cell_type": "markdown",
   "id": "7528b279-3529-4bf4-bde0-b0dbf2940957",
   "metadata": {},
   "source": [
    "**RE: what to do with service columns**\n",
    "\n",
    "- The majority of rows are either Purchased Transportation or Directly Operated. close to a binary response so i think one-hot encode would be the best option.\n",
    "- Maybe consider removing the PT taxi and PT transportation netwok since there is a low count of rows"
   ]
  },
  {
   "cell_type": "markdown",
   "id": "78bb084c-f8b7-40b2-83b7-143674114a9d",
   "metadata": {},
   "source": [
    "## 3. \"Flattening\" data\n",
    "If we group by only Agency (flattening, fewer rows), how do we aggregate the other classification variables before we normalize them? Is adding sufficient? Do we need to average any?\n",
    "\n",
    "If we aggregate to get 1 row per agency, what happens to the other categorical variables?"
   ]
  },
  {
   "cell_type": "code",
   "execution_count": null,
   "id": "1d4fd266-b8d9-4863-ba99-ce490a00018b",
   "metadata": {
    "tags": []
   },
   "outputs": [],
   "source": [
    "numerical_cols"
   ]
  },
  {
   "cell_type": "code",
   "execution_count": null,
   "id": "ce8cd378-e6d3-4606-b4ad-040a5d7d00d2",
   "metadata": {},
   "outputs": [],
   "source": [
    "# agg the numerical row, end with each row being an agency\n",
    "group_id_cols = (\n",
    "    raw_ntd_metrics_merge.groupby(id_cols)\n",
    "    .agg({col: \"sum\" for col in numerical_cols})\n",
    "    .reset_index()\n",
    ")\n",
    "\n",
    "# agg the numerical row, end with each row being a uniqu agency/mode/service\n",
    "group_id_mode_service = (\n",
    "    raw_ntd_metrics_merge.groupby(id_cols + [\"mode\", \"service\"])\n",
    "    .agg({col: \"sum\" for col in numerical_cols})\n",
    "    .reset_index()\n",
    ")\n",
    "\n",
    "# agg the numerical row, end with each row being an agency\n",
    "group_cat_cols = (\n",
    "    raw_ntd_metrics_merge.groupby(categorical_cols)\n",
    "    .agg({col: \"sum\" for col in numerical_cols})\n",
    "    .reset_index()\n",
    ")"
   ]
  },
  {
   "cell_type": "code",
   "execution_count": null,
   "id": "e58b2b25-c192-40cb-84cf-a4bab1b0b1e2",
   "metadata": {},
   "outputs": [],
   "source": [
    "# double checking aggregation works\n",
    "(\n",
    "    raw_ntd_metrics_merge[raw_ntd_metrics_merge[\"ntd_id\"] == \"90211\"][\n",
    "        \"opexp_total\"\n",
    "    ].sum()\n",
    "    == group_id_cols[group_id_cols[\"ntd_id\"] == \"90211\"][\"opexp_total\"].sum(),\n",
    "    raw_ntd_metrics_merge[raw_ntd_metrics_merge[\"mode\"] == \"Bus\"][\"opexp_total\"].sum()\n",
    "    == group_cat_cols[group_cat_cols[\"mode\"] == \"Bus\"][\"opexp_total\"].sum(),\n",
    ")"
   ]
  },
  {
   "cell_type": "code",
   "execution_count": null,
   "id": "d9df4f18-573a-4590-967e-144937952d01",
   "metadata": {},
   "outputs": [],
   "source": [
    "display(\n",
    "    \"group_id\",\n",
    "    group_id_cols.shape,\n",
    "    # group_id_cols[\"service\"].value_counts(),\n",
    "    group_id_cols.head(),\n",
    "    \"group_id_mode_service\",\n",
    "    group_id_mode_service.shape,\n",
    "    group_id_mode_service[\"service\"].value_counts(),\n",
    "    group_id_mode_service.head(),\n",
    ")"
   ]
  },
  {
   "cell_type": "code",
   "execution_count": null,
   "id": "638a0797-2c20-4d9a-8409-2982dbbbedee",
   "metadata": {},
   "outputs": [],
   "source": [
    "display(\"group_cat\", group_cat_cols.shape, group_cat_cols.head())"
   ]
  },
  {
   "cell_type": "markdown",
   "id": "a1822df6-aa6f-426b-ae37-25a6632939fd",
   "metadata": {
    "tags": []
   },
   "source": [
    "### **This establishes we can aggregate up to just agecny level data.**\n",
    "\n",
    "but still need to consider what to do with the categorical columns we lose from a simple aggregate.\n",
    "\n",
    "this work will continue on issue #1683"
   ]
  },
  {
   "cell_type": "markdown",
   "id": "2ace4ad9-40e6-4dbf-8e15-658cb8f050eb",
   "metadata": {
    "tags": []
   },
   "source": [
    "---"
   ]
  },
  {
   "cell_type": "markdown",
   "id": "6adb53e1-3084-4ed5-8046-5e89a842ec73",
   "metadata": {},
   "source": [
    "## what does 1 year of data look like \n",
    "\n",
    "Try with only 2023 data"
   ]
  },
  {
   "cell_type": "code",
   "execution_count": null,
   "id": "878cf82e-f332-4131-902a-ccdea73fea81",
   "metadata": {
    "tags": []
   },
   "outputs": [],
   "source": [
    "# alt method to query warehous data, via cal-itp docs\n",
    "\n",
    "from calitp_data_analysis.sql import query_sql\n",
    "\n",
    "query = f\"\"\"\n",
    "        SELECT\n",
    "          upt.ntd_id,\n",
    "          upt.source_agency,\n",
    "          upt.agency_status,\n",
    "          upt.city,\n",
    "          upt.primary_uza_name,\n",
    "          upt.uza_population,\n",
    "          upt.uza_area_sq_miles,\n",
    "          upt.year,\n",
    "          upt.mode,\n",
    "          upt.service,\n",
    "          upt.reporter_type,\n",
    "          SUM(upt.upt) AS total_upt,\n",
    "          SUM(voms.voms) AS total_voms,\n",
    "          SUM(vrh.vrh) AS total_vrh,\n",
    "          SUM(vrm.vrm) AS total_vrm,\n",
    "          SUM(opexp_total.opexp_total) AS opexp_total\n",
    "        FROM\n",
    "          cal-itp-data-infra.mart_ntd_funding_and_expenses.fct_service_data_and_operating_expenses_time_series_by_mode_upt AS upt\n",
    "        INNER JOIN\n",
    "          cal-itp-data-infra.mart_ntd_funding_and_expenses.fct_service_data_and_operating_expenses_time_series_by_mode_voms AS voms\n",
    "        ON\n",
    "          upt.ntd_id = voms.ntd_id\n",
    "          AND upt.year = voms.year\n",
    "          AND upt.source_agency = voms.source_agency\n",
    "          AND upt.agency_status = voms.agency_status\n",
    "          AND upt.primary_uza_name = voms.primary_uza_name\n",
    "          AND upt.uza_population = voms.uza_population\n",
    "          AND upt.uza_area_sq_miles = voms.uza_area_sq_miles\n",
    "        INNER JOIN\n",
    "          cal-itp-data-infra.mart_ntd_funding_and_expenses.fct_service_data_and_operating_expenses_time_series_by_mode_vrh AS vrh\n",
    "        ON\n",
    "          upt.ntd_id = vrh.ntd_id\n",
    "          AND upt.year = vrh.year\n",
    "          AND upt.source_agency = vrh.source_agency\n",
    "          AND upt.agency_status = vrh.agency_status\n",
    "          AND upt.primary_uza_name = vrh.primary_uza_name\n",
    "          AND upt.uza_population = vrh.uza_population\n",
    "          AND upt.uza_area_sq_miles = vrh.uza_area_sq_miles\n",
    "        INNER JOIN\n",
    "          cal-itp-data-infra.mart_ntd_funding_and_expenses.fct_service_data_and_operating_expenses_time_series_by_mode_vrm AS vrm\n",
    "        ON\n",
    "          upt.ntd_id = vrm.ntd_id\n",
    "          AND upt.year = vrm.year\n",
    "          AND upt.source_agency = vrm.source_agency\n",
    "          AND upt.agency_status = vrm.agency_status\n",
    "          AND upt.primary_uza_name = vrm.primary_uza_name\n",
    "          AND upt.uza_population = vrm.uza_population\n",
    "          AND upt.uza_area_sq_miles = vrm.uza_area_sq_miles\n",
    "        INNER JOIN\n",
    "          cal-itp-data-infra.mart_ntd_funding_and_expenses.fct_service_data_and_operating_expenses_time_series_by_mode_opexp_total AS opexp_total\n",
    "        ON\n",
    "          upt.ntd_id = opexp_total.ntd_id\n",
    "          AND upt.year = opexp_total.year\n",
    "          AND upt.source_agency = opexp_total.source_agency\n",
    "          AND upt.agency_status = opexp_total.agency_status\n",
    "          AND upt.primary_uza_name = opexp_total.primary_uza_name\n",
    "          AND upt.uza_population = opexp_total.uza_population\n",
    "          AND upt.uza_area_sq_miles = opexp_total.uza_area_sq_miles\n",
    "        WHERE\n",
    "          upt.source_state = \"CA\"\n",
    "          AND upt.year = 2023\n",
    "        GROUP BY\n",
    "          upt.ntd_id,\n",
    "          upt.source_agency,\n",
    "          upt.agency_status,\n",
    "          upt.city,\n",
    "          upt.year,\n",
    "          upt.primary_uza_name,\n",
    "          upt.uza_population,\n",
    "          upt.uza_area_sq_miles,\n",
    "          upt.mode,\n",
    "          upt.service,\n",
    "          upt.reporter_type\n",
    "        \"\"\"\n",
    "\n",
    "ntd_2023_data = query_sql(query).fillna(0)"
   ]
  },
  {
   "cell_type": "code",
   "execution_count": null,
   "id": "26ea5b97-e021-4dea-ac07-340e0933c5fd",
   "metadata": {
    "tags": []
   },
   "outputs": [],
   "source": [
    "ntd_2023_data[numerical_cols] = ntd_2023_data[numerical_cols].astype(\"int64\", errors=\"ignore\")"
   ]
  },
  {
   "cell_type": "markdown",
   "id": "36fe571f-f135-47c0-8a88-b84a04fa056c",
   "metadata": {},
   "source": [
    "### 1yr - explore data"
   ]
  },
  {
   "cell_type": "code",
   "execution_count": null,
   "id": "de7a310e-c057-4b26-9467-bc93e1dd1627",
   "metadata": {
    "tags": []
   },
   "outputs": [],
   "source": [
    "display(\n",
    "    ntd_2023_data.info(),\n",
    "\n",
    "    ntd_2023_data.head(),\n",
    "\n",
    "    ntd_2023_data[\"service\"].value_counts(),\n",
    "\n",
    "    ntd_2023_data[\"mode\"].value_counts(),\n",
    ")"
   ]
  },
  {
   "cell_type": "markdown",
   "id": "074e9f5e-8e34-4a28-9c9f-ffb4e9ff5636",
   "metadata": {},
   "source": [
    "### 1yr - correlation matrix"
   ]
  },
  {
   "cell_type": "code",
   "execution_count": null,
   "id": "4be1abb0-0a82-41ae-bf63-df97841a1506",
   "metadata": {
    "tags": []
   },
   "outputs": [],
   "source": [
    "ntd_2023_data[numerical_cols].corr()"
   ]
  },
  {
   "cell_type": "markdown",
   "id": "89d5ca96-45d4-44af-b704-2dad1ba765f2",
   "metadata": {},
   "source": [
    "### 1yr - Test Hierarchal clustering w/ ward"
   ]
  },
  {
   "cell_type": "code",
   "execution_count": null,
   "id": "d18e9398-20c2-4070-956a-19fde7934a5c",
   "metadata": {
    "tags": []
   },
   "outputs": [],
   "source": [
    "from sklearn.cluster import AgglomerativeClustering \n",
    "from sklearn.compose import ColumnTransformer\n",
    "from sklearn.pipeline import Pipeline\n",
    "from sklearn.preprocessing import OneHotEncoder, StandardScaler"
   ]
  },
  {
   "cell_type": "code",
   "execution_count": null,
   "id": "080f9681-632a-4434-bc4f-d4647f604b4b",
   "metadata": {
    "tags": []
   },
   "outputs": [],
   "source": [
    "display(\n",
    "    numerical_cols,\n",
    "    categorical_cols\n",
    ")"
   ]
  },
  {
   "cell_type": "code",
   "execution_count": null,
   "id": "5afbf1f7-7a15-410e-940d-b1d1bc536281",
   "metadata": {
    "tags": []
   },
   "outputs": [],
   "source": [
    "# 1. set up pre-processing steps with column transformer\n",
    "\n",
    "preprocessor = ColumnTransformer(\n",
    "    [\n",
    "        (\"ntd_metrics\", StandardScaler(), numerical_cols),\n",
    "        (\"categorical\", OneHotEncoder(drop=\"first\", sparse_output=False), categorical_cols)\n",
    "    ]\n",
    ")\n",
    "preprocessor"
   ]
  },
  {
   "cell_type": "code",
   "execution_count": null,
   "id": "2f5a9652-1dd0-4399-a3ba-c9b8a89715cb",
   "metadata": {
    "tags": []
   },
   "outputs": [],
   "source": [
    "# 2. set up pipeline. First pre-processing, then clustering\n",
    "pipeline = Pipeline(\n",
    "    [\n",
    "        (\"preprocessing\", preprocessor),\n",
    "        (\"clustering\", AgglomerativeClustering(n_clusters=10, linkage=\"ward\"))\n",
    "    ]\n",
    ")\n",
    "\n",
    "pipeline"
   ]
  },
  {
   "cell_type": "code",
   "execution_count": null,
   "id": "df499a84-821c-4893-a9e6-b06750f3ecda",
   "metadata": {
    "tags": []
   },
   "outputs": [],
   "source": [
    "# 3. use pipeline to fit clustering model. create new column for clustering\n",
    "ntd_2023_fit = ntd_2023_data.copy() # why do i need to copy/clone?\n",
    "\n",
    "ntd_2023_fit[\"cluster_name\"] = pipeline.fit_predict(ntd_2023_fit)"
   ]
  },
  {
   "cell_type": "code",
   "execution_count": null,
   "id": "e63387cc-f257-4254-b686-5df18dbca689",
   "metadata": {},
   "outputs": [],
   "source": [
    "display(\n",
    "    ntd_2023_fit.columns,\n",
    "    ntd_2023_fit[\"cluster_name\"].value_counts()\n",
    ")"
   ]
  },
  {
   "cell_type": "markdown",
   "id": "f519836e-8746-49f2-8a6d-abae7d109c7d",
   "metadata": {},
   "source": [
    "### 1yr - Dendrogram"
   ]
  },
  {
   "cell_type": "code",
   "execution_count": null,
   "id": "4eb46fca-3c0f-483d-bb48-bef34686dafa",
   "metadata": {
    "tags": []
   },
   "outputs": [],
   "source": [
    "from scipy.cluster.hierarchy import dendrogram, linkage"
   ]
  },
  {
   "cell_type": "markdown",
   "id": "a11997b3-0fc7-4c6d-846d-d9dc629116ae",
   "metadata": {},
   "source": [
    "#### set up feature dataframe for dendrogram"
   ]
  },
  {
   "cell_type": "code",
   "execution_count": null,
   "id": "b3e9754e-2331-4e72-93d2-dfdc78e8c2be",
   "metadata": {
    "tags": []
   },
   "outputs": [],
   "source": [
    "# 1. apply preprocessing steps to initial dataset to get feature array\n",
    "# this will encode the columns\n",
    "\n",
    "feature_array = preprocessor.fit_transform(ntd_2023_data)\n",
    "\n",
    "display(\n",
    "    type(feature_array),\n",
    "    feature_array\n",
    ")"
   ]
  },
  {
   "cell_type": "code",
   "execution_count": null,
   "id": "c4eb86d2-4873-40fe-88c2-e7a8df4e8c36",
   "metadata": {
    "tags": []
   },
   "outputs": [],
   "source": [
    "# 2. create dataframe of features names to feature array\n",
    "\n",
    "feature_names = preprocessor.get_feature_names_out()\n",
    "feature_df = pd.DataFrame(feature_array, columns = feature_names)\n",
    "\n",
    "display(\n",
    "    list(feature_names), # list of feature names after encoding\n",
    "    feature_df.head()\n",
    ")"
   ]
  },
  {
   "cell_type": "markdown",
   "id": "1490de37-265c-4caf-bd85-aecffd3c59c5",
   "metadata": {},
   "source": [
    "# Are there ways to get more interactive/easy-to-read visualizations?\n",
    "If it takes significant time, break this one out\n",
    "\n",
    "Might have to break this out. What other visuals would make sense for hierarchal clustering?\n",
    "- dendrogram (1 for fixed and non-fixed guideway modes)\n",
    "- loss curve?\n",
    "- \n"
   ]
  },
  {
   "cell_type": "markdown",
   "id": "ec29ec89-7080-4863-9c89-a7057764ee0e",
   "metadata": {},
   "source": [
    "#### create dendrogram"
   ]
  },
  {
   "cell_type": "code",
   "execution_count": null,
   "id": "b1773745-b2ff-4293-a9f0-af9c217079a0",
   "metadata": {
    "tags": []
   },
   "outputs": [],
   "source": [
    "import matplotlib.pyplot as plt\n"
   ]
  },
  {
   "cell_type": "code",
   "execution_count": null,
   "id": "72b2439f-7667-4adf-91e4-0e46c998889c",
   "metadata": {
    "tags": []
   },
   "outputs": [],
   "source": [
    "z = linkage(feature_df, method=\"ward\")\n",
    "z"
   ]
  },
  {
   "cell_type": "markdown",
   "id": "8866c018-22db-4bde-aec4-4926f6f3c68b",
   "metadata": {},
   "source": [
    "### matplotlib dendrogram"
   ]
  },
  {
   "cell_type": "code",
   "execution_count": null,
   "id": "21dfad29-b7da-4f4e-8fdc-c5e46114c6b4",
   "metadata": {
    "tags": []
   },
   "outputs": [],
   "source": [
    "plt.figure(figsize=(10, 5))\n",
    "dendrogram(z, labels=ntd_2023_data.index.tolist(), leaf_rotation=90)\n",
    "plt.title(\"Dendrogram (Ward's Method)\")\n",
    "plt.xlabel(\"ntd_id\")\n",
    "plt.ylabel(\"Distance\")\n",
    "plt.tight_layout()\n",
    "plt.show()"
   ]
  },
  {
   "cell_type": "markdown",
   "id": "adca70cf-4b73-4101-995b-4c5dd77a8d2f",
   "metadata": {},
   "source": [
    "### plotly dendrogram"
   ]
  },
  {
   "cell_type": "code",
   "execution_count": null,
   "id": "7a1fc5d5-2737-4f0f-b6e9-23a62966d6d7",
   "metadata": {
    "tags": []
   },
   "outputs": [],
   "source": [
    "import plotly.figure_factory as ff\n"
   ]
  },
  {
   "cell_type": "code",
   "execution_count": null,
   "id": "9b19b6f2-cf4f-4348-ab57-1dad2e278d7e",
   "metadata": {
    "tags": []
   },
   "outputs": [],
   "source": [
    "# have to downgrade scipy to work with plotly\n",
    "\n",
    "!pip install scipy==1.11.4"
   ]
  },
  {
   "cell_type": "code",
   "execution_count": null,
   "id": "203e9a0a-a677-4791-97fc-0645df4294d9",
   "metadata": {
    "tags": []
   },
   "outputs": [],
   "source": [
    "# plotly figures have more built in interactivity\n",
    "fig = ff.create_dendrogram(z)\n",
    "fig.update_layout(width=800, height=500)\n",
    "fig.show()"
   ]
  },
  {
   "cell_type": "markdown",
   "id": "9bb937d2-12e4-4440-b677-02bd9102c444",
   "metadata": {},
   "source": [
    "## Test util functions"
   ]
  },
  {
   "cell_type": "code",
   "execution_count": null,
   "id": "7d179b09-8db7-44d6-8f3e-8abe34bd9248",
   "metadata": {
    "tags": []
   },
   "outputs": [],
   "source": [
    "import utils_transit_peer_groups"
   ]
  },
  {
   "cell_type": "code",
   "execution_count": null,
   "id": "ade345b4-58cc-4c9f-bec6-3dc166848393",
   "metadata": {
    "tags": []
   },
   "outputs": [],
   "source": [
    "test_func = make_hierarchal_clustering(\n",
    "    data = ntd_2023_data,\n",
    "    num_cols = numerical_cols,\n",
    "    cat_cols = categorical_cols,\n",
    "    cluster_num = 10\n",
    "    \n",
    ")"
   ]
  },
  {
   "cell_type": "code",
   "execution_count": null,
   "id": "61d3ecec-1af1-4665-b97d-105b9df6dd7e",
   "metadata": {
    "tags": []
   },
   "outputs": [],
   "source": [
    "test_func[\"cluster_name\"].value_counts() == ntd_2023_fit[\"cluster_name\"].value_counts()"
   ]
  },
  {
   "cell_type": "code",
   "execution_count": null,
   "id": "899b6622-d6e5-487b-b43e-f4d044db98fa",
   "metadata": {
    "tags": []
   },
   "outputs": [],
   "source": [
    "test_z = make_dendrogram_data(\n",
    "    data= test_func,\n",
    "    num_cols= numerical_cols,\n",
    "    cat_cols= categorical_cols\n",
    ")"
   ]
  },
  {
   "cell_type": "code",
   "execution_count": null,
   "id": "511b7e0f-7f8e-48eb-b6f5-8c2c38cd822e",
   "metadata": {},
   "outputs": [],
   "source": []
  }
 ],
 "metadata": {
  "kernelspec": {
   "display_name": "Python 3 (ipykernel)",
   "language": "python",
   "name": "python3"
  },
  "language_info": {
   "codemirror_mode": {
    "name": "ipython",
    "version": 3
   },
   "file_extension": ".py",
   "mimetype": "text/x-python",
   "name": "python",
   "nbconvert_exporter": "python",
   "pygments_lexer": "ipython3",
   "version": "3.11.10"
  }
 },
 "nbformat": 4,
 "nbformat_minor": 5
}
