{
 "cells": [
  {
   "cell_type": "markdown",
   "id": "854da103-62e6-4aa6-a0a2-9f2df7819f32",
   "metadata": {},
   "source": [
    "# [Refine Use of Explored NTD Variables #1646](https://github.com/cal-itp/data-analyses/issues/1646)\n",
    "\n",
    "Question or Goal:\n",
    "\n",
    "1. Mode & Service: We previously used these to define the grain of the data. These should be used for classifying/model-fitting.\n",
    "    - There are many modes: Can we group modes so there are fewer of them (e.g. fixed-guideway vs not)? Too many dummy variables for a category leads to overfitting/too many clusters.\n",
    "    - What's the best way to use Service? Is it as a dummy variable? Is it numeric \"proportion of service(VRH or M)\" that's directly operated? Explore the impacts of both.\n",
    "\n",
    "\n",
    "2. If we group by only Agency (flattening, fewer rows), how do we aggregate the other classification variables before we normalize them? Is adding sufficient? Do we need to average any?\n",
    "\n",
    "\n",
    "3. Are there ways to get more interactive/easy-to-read visualizations?\n",
    "    - If it takes significant time, break this one out"
   ]
  },
  {
   "cell_type": "markdown",
   "id": "3754fc0d-3a7d-4755-af73-51f412ffbc7a",
   "metadata": {},
   "source": [
    "## Terms\n",
    "**Example**:\n",
    "- You could think of an example as analogous to a `single row` in a spreadsheet.\n",
    "\n",
    "**Feature**:\n",
    "- Features are the values that a supervised model uses to predict the label.\n",
    "- In a weather model that predicts rainfall, the features could be `latitude, longitude, temperature, humidity, cloud coverage, wind direction, and atmospheric pressure`.\n",
    "- An input variable to a machine learning model. An example consists of one or more features. For instance, suppose you are training a model to determine the influence of weather conditions on student test scores. The following table shows three examples, each of which contains three features and one label:\n",
    "\n",
    "**Label**:\n",
    "- The label is the \"answer,\" or the value we want the model to predict.\n",
    "- In a weather model that predicts rainfall, the label would be `rainfall amount`.\n",
    "- In supervised machine learning, the \"answer\" or \"result\" portion of an example. Each labeled example consists of one or more features and a label. For example, in a spam detection dataset, the label would probably be either \"spam\" or \"not spam.\" In a rainfall dataset, the label might be the amount of rain that fell during a certain period."
   ]
  },
  {
   "cell_type": "code",
   "execution_count": 1,
   "id": "b0fabe39-aabc-4d99-a57d-eb2b72c31762",
   "metadata": {
    "tags": []
   },
   "outputs": [],
   "source": [
    "import pandas as pd\n",
    "\n",
    "pd.set_option(\"display.max_rows\", None)\n",
    "pd.set_option(\"display.max_columns\", None)"
   ]
  },
  {
   "cell_type": "markdown",
   "id": "2e977557-1e1e-4444-94ff-3a4e874d80cc",
   "metadata": {},
   "source": [
    "## read in data"
   ]
  },
  {
   "cell_type": "code",
   "execution_count": 2,
   "id": "c1f8b31b-79d6-419c-a749-8259534b868f",
   "metadata": {
    "tags": []
   },
   "outputs": [],
   "source": [
    "transit_metrics = pd.read_parquet(\n",
    "    f\"gs://calitp-analytics-data/data-analyses/ntd/raw_transit_performance_metrics_data.parquet\"\n",
    ")"
   ]
  },
  {
   "cell_type": "code",
   "execution_count": 3,
   "id": "9243e22a-051b-45cf-8a49-24ac0ce91678",
   "metadata": {
    "tags": []
   },
   "outputs": [
    {
     "data": {
      "text/html": [
       "<div>\n",
       "<style scoped>\n",
       "    .dataframe tbody tr th:only-of-type {\n",
       "        vertical-align: middle;\n",
       "    }\n",
       "\n",
       "    .dataframe tbody tr th {\n",
       "        vertical-align: top;\n",
       "    }\n",
       "\n",
       "    .dataframe thead th {\n",
       "        text-align: right;\n",
       "    }\n",
       "</style>\n",
       "<table border=\"1\" class=\"dataframe\">\n",
       "  <thead>\n",
       "    <tr style=\"text-align: right;\">\n",
       "      <th></th>\n",
       "      <th>agency_name</th>\n",
       "      <th>agency_status</th>\n",
       "      <th>city</th>\n",
       "      <th>mode</th>\n",
       "      <th>service</th>\n",
       "      <th>ntd_id</th>\n",
       "      <th>reporter_type</th>\n",
       "      <th>reporting_module</th>\n",
       "      <th>state</th>\n",
       "      <th>primary_uza_name</th>\n",
       "      <th>year</th>\n",
       "      <th>upt</th>\n",
       "      <th>vrh</th>\n",
       "      <th>vrm</th>\n",
       "      <th>opexp_total</th>\n",
       "      <th>RTPA</th>\n",
       "      <th>_merge</th>\n",
       "    </tr>\n",
       "  </thead>\n",
       "  <tbody>\n",
       "    <tr>\n",
       "      <th>0</th>\n",
       "      <td>City of Porterville (COLT) - Transit Department</td>\n",
       "      <td>Active</td>\n",
       "      <td>Porterville</td>\n",
       "      <td>Demand Response</td>\n",
       "      <td>Purchased Transportation</td>\n",
       "      <td>90198</td>\n",
       "      <td>Building Reporter</td>\n",
       "      <td>Urban</td>\n",
       "      <td>CA</td>\n",
       "      <td>Porterville, CA</td>\n",
       "      <td>2019</td>\n",
       "      <td>13112</td>\n",
       "      <td>2997</td>\n",
       "      <td>43696</td>\n",
       "      <td>572799</td>\n",
       "      <td>Tulare County Association of Governments</td>\n",
       "      <td>both</td>\n",
       "    </tr>\n",
       "    <tr>\n",
       "      <th>1</th>\n",
       "      <td>City of Porterville (COLT) - Transit Department</td>\n",
       "      <td>Active</td>\n",
       "      <td>Porterville</td>\n",
       "      <td>Demand Response</td>\n",
       "      <td>Purchased Transportation</td>\n",
       "      <td>90198</td>\n",
       "      <td>Building Reporter</td>\n",
       "      <td>Urban</td>\n",
       "      <td>CA</td>\n",
       "      <td>Porterville, CA</td>\n",
       "      <td>2020</td>\n",
       "      <td>11523</td>\n",
       "      <td>3669</td>\n",
       "      <td>48138</td>\n",
       "      <td>686165</td>\n",
       "      <td>Tulare County Association of Governments</td>\n",
       "      <td>both</td>\n",
       "    </tr>\n",
       "    <tr>\n",
       "      <th>2</th>\n",
       "      <td>City of Porterville (COLT) - Transit Department</td>\n",
       "      <td>Active</td>\n",
       "      <td>Porterville</td>\n",
       "      <td>Bus</td>\n",
       "      <td>Purchased Transportation</td>\n",
       "      <td>90198</td>\n",
       "      <td>Building Reporter</td>\n",
       "      <td>Urban</td>\n",
       "      <td>CA</td>\n",
       "      <td>Porterville, CA</td>\n",
       "      <td>2018</td>\n",
       "      <td>635648</td>\n",
       "      <td>50140</td>\n",
       "      <td>700127</td>\n",
       "      <td>3460906</td>\n",
       "      <td>Tulare County Association of Governments</td>\n",
       "      <td>both</td>\n",
       "    </tr>\n",
       "    <tr>\n",
       "      <th>3</th>\n",
       "      <td>City of Porterville (COLT) - Transit Department</td>\n",
       "      <td>Active</td>\n",
       "      <td>Porterville</td>\n",
       "      <td>Bus</td>\n",
       "      <td>Purchased Transportation</td>\n",
       "      <td>90198</td>\n",
       "      <td>Building Reporter</td>\n",
       "      <td>Urban</td>\n",
       "      <td>CA</td>\n",
       "      <td>Porterville, CA</td>\n",
       "      <td>2021</td>\n",
       "      <td>145215</td>\n",
       "      <td>21208</td>\n",
       "      <td>244230</td>\n",
       "      <td>2657959</td>\n",
       "      <td>Tulare County Association of Governments</td>\n",
       "      <td>both</td>\n",
       "    </tr>\n",
       "    <tr>\n",
       "      <th>4</th>\n",
       "      <td>City of Porterville (COLT) - Transit Department</td>\n",
       "      <td>Active</td>\n",
       "      <td>Porterville</td>\n",
       "      <td>Demand Response</td>\n",
       "      <td>Purchased Transportation</td>\n",
       "      <td>90198</td>\n",
       "      <td>Building Reporter</td>\n",
       "      <td>Urban</td>\n",
       "      <td>CA</td>\n",
       "      <td>Porterville, CA</td>\n",
       "      <td>2021</td>\n",
       "      <td>29380</td>\n",
       "      <td>9565</td>\n",
       "      <td>126604</td>\n",
       "      <td>952031</td>\n",
       "      <td>Tulare County Association of Governments</td>\n",
       "      <td>both</td>\n",
       "    </tr>\n",
       "  </tbody>\n",
       "</table>\n",
       "</div>"
      ],
      "text/plain": [
       "                                       agency_name agency_status         city  \\\n",
       "0  City of Porterville (COLT) - Transit Department        Active  Porterville   \n",
       "1  City of Porterville (COLT) - Transit Department        Active  Porterville   \n",
       "2  City of Porterville (COLT) - Transit Department        Active  Porterville   \n",
       "3  City of Porterville (COLT) - Transit Department        Active  Porterville   \n",
       "4  City of Porterville (COLT) - Transit Department        Active  Porterville   \n",
       "\n",
       "              mode                   service ntd_id      reporter_type  \\\n",
       "0  Demand Response  Purchased Transportation  90198  Building Reporter   \n",
       "1  Demand Response  Purchased Transportation  90198  Building Reporter   \n",
       "2              Bus  Purchased Transportation  90198  Building Reporter   \n",
       "3              Bus  Purchased Transportation  90198  Building Reporter   \n",
       "4  Demand Response  Purchased Transportation  90198  Building Reporter   \n",
       "\n",
       "  reporting_module state primary_uza_name  year     upt    vrh     vrm  \\\n",
       "0            Urban    CA  Porterville, CA  2019   13112   2997   43696   \n",
       "1            Urban    CA  Porterville, CA  2020   11523   3669   48138   \n",
       "2            Urban    CA  Porterville, CA  2018  635648  50140  700127   \n",
       "3            Urban    CA  Porterville, CA  2021  145215  21208  244230   \n",
       "4            Urban    CA  Porterville, CA  2021   29380   9565  126604   \n",
       "\n",
       "   opexp_total                                      RTPA _merge  \n",
       "0       572799  Tulare County Association of Governments   both  \n",
       "1       686165  Tulare County Association of Governments   both  \n",
       "2      3460906  Tulare County Association of Governments   both  \n",
       "3      2657959  Tulare County Association of Governments   both  \n",
       "4       952031  Tulare County Association of Governments   both  "
      ]
     },
     "execution_count": 3,
     "metadata": {},
     "output_type": "execute_result"
    }
   ],
   "source": [
    "transit_metrics.head()\n",
    "# grain: each row is agency, mode, service per year"
   ]
  },
  {
   "cell_type": "markdown",
   "id": "96fb7fb3-f361-45a9-968f-45447ddf3211",
   "metadata": {},
   "source": [
    "## Get NTD data from PUC analysis\n",
    "I queried data from `mart_ntd_funding_and_expenses.fct_service_data_and_operating_expenses_time_series_by_mode_{metric}`\n"
   ]
  },
  {
   "cell_type": "code",
   "execution_count": 4,
   "id": "ebfe32b2-3340-42fa-aca6-d0ea5e100802",
   "metadata": {},
   "outputs": [],
   "source": [
    "from calitp_data_analysis.sql import get_engine"
   ]
  },
  {
   "cell_type": "code",
   "execution_count": 5,
   "id": "04f1ab19-c353-42ae-a31a-9169855ff61f",
   "metadata": {},
   "outputs": [],
   "source": [
    "db_engine = get_engine()\n",
    "\n",
    "metric_list = [\n",
    "    # \"pmt\",\n",
    "    \"upt\",\n",
    "    \"vrh\",\n",
    "    \"opexp_total\"\n",
    "]\n",
    "\n",
    "# empty list for appending DFs\n",
    "df_list = []\n",
    "with db_engine.connect() as connection:\n",
    "    for metric in metric_list:\n",
    "        query = f\"\"\"\n",
    "        SELECT\n",
    "          ntd_id,\n",
    "          source_agency,\n",
    "          agency_status,\n",
    "          primary_uza_name,\n",
    "          uza_population,\n",
    "          uza_area_sq_miles,\n",
    "          year,\n",
    "          SUM({metric}) AS total_{metric},\n",
    "        FROM\n",
    "          `cal-itp-data-infra.mart_ntd_funding_and_expenses.fct_service_data_and_operating_expenses_time_series_by_mode_{metric}`\n",
    "        WHERE\n",
    "          source_state = \"CA\"\n",
    "          AND year >= 2018\n",
    "        GROUP BY\n",
    "          ntd_id,\n",
    "          source_agency,\n",
    "          agency_status,\n",
    "          year,\n",
    "          primary_uza_name,\n",
    "          uza_population,\n",
    "          uza_area_sq_miles\n",
    "        \"\"\"\n",
    "        # create df\n",
    "        metric = pd.read_sql(query,connection) \n",
    "        \n",
    "        # append df to list\n",
    "        df_list.append(metric)\n",
    "\n",
    "# unpack list into separate DFs\n",
    "ntd_upt, ntd_vrh, ntd_opex = df_list"
   ]
  },
  {
   "cell_type": "code",
   "execution_count": 6,
   "id": "0ebaf087-1e31-42be-a988-ef33851a7a00",
   "metadata": {},
   "outputs": [],
   "source": [
    "merge_on_col=[\"ntd_id\", \"year\",\"source_agency\",\"agency_status\",\"primary_uza_name\",\"uza_population\",\"uza_area_sq_miles\"]\n",
    "merge_1 = ntd_opex.merge(ntd_upt, on=merge_on_col, how = \"inner\")\n",
    "\n",
    "ntd_metrics_merge = merge_1.merge(ntd_vrh, on=merge_on_col, how = \"inner\")"
   ]
  },
  {
   "cell_type": "code",
   "execution_count": 7,
   "id": "d372c4fb-3c11-4861-80d6-6385150b522d",
   "metadata": {},
   "outputs": [
    {
     "name": "stdout",
     "output_type": "stream",
     "text": [
      "<class 'pandas.core.frame.DataFrame'>\n",
      "Int64Index: 1614 entries, 0 to 1613\n",
      "Data columns (total 10 columns):\n",
      " #   Column             Non-Null Count  Dtype  \n",
      "---  ------             --------------  -----  \n",
      " 0   ntd_id             1524 non-null   object \n",
      " 1   source_agency      1614 non-null   object \n",
      " 2   agency_status      1614 non-null   object \n",
      " 3   primary_uza_name   1614 non-null   object \n",
      " 4   uza_population     1614 non-null   int64  \n",
      " 5   uza_area_sq_miles  1614 non-null   float64\n",
      " 6   year               1614 non-null   int64  \n",
      " 7   total_opexp_total  1291 non-null   float64\n",
      " 8   total_upt          1291 non-null   float64\n",
      " 9   total_vrh          1291 non-null   float64\n",
      "dtypes: float64(4), int64(2), object(4)\n",
      "memory usage: 138.7+ KB\n"
     ]
    }
   ],
   "source": [
    "ntd_metrics_merge.info()"
   ]
  },
  {
   "cell_type": "markdown",
   "id": "cc36a2ba-839c-40a7-84d7-ced27b65f9d6",
   "metadata": {},
   "source": [
    "## Classify feature columns"
   ]
  },
  {
   "cell_type": "code",
   "execution_count": 8,
   "id": "a5356576-2085-4c62-9efa-cd7726e67666",
   "metadata": {
    "tags": []
   },
   "outputs": [
    {
     "name": "stdout",
     "output_type": "stream",
     "text": [
      "agency_name: 168 unique values. 8.03 % of unique values to total rows\n",
      "agency_status: 2 unique values. 0.1 % of unique values to total rows\n",
      "city: 124 unique values. 5.93 % of unique values to total rows\n",
      "mode: 15 unique values. 0.72 % of unique values to total rows\n",
      "service: 4 unique values. 0.19 % of unique values to total rows\n",
      "ntd_id: 168 unique values. 8.03 % of unique values to total rows\n",
      "reporter_type: 4 unique values. 0.19 % of unique values to total rows\n",
      "reporting_module: 2 unique values. 0.1 % of unique values to total rows\n",
      "state: 1 unique values. 0.05 % of unique values to total rows\n",
      "primary_uza_name: 49 unique values. 2.34 % of unique values to total rows\n",
      "year: 6 unique values. 0.29 % of unique values to total rows\n",
      "upt: 2036 unique values. 97.37 % of unique values to total rows\n",
      "vrh: 2018 unique values. 96.51 % of unique values to total rows\n",
      "vrm: 2046 unique values. 97.85 % of unique values to total rows\n",
      "opexp_total: 2068 unique values. 98.9 % of unique values to total rows\n",
      "RTPA: 20 unique values. 0.96 % of unique values to total rows\n",
      "_merge: 1 unique values. 0.05 % of unique values to total rows\n"
     ]
    }
   ],
   "source": [
    "# number of unique values for each column and % of \n",
    "for col in transit_metrics.columns:\n",
    "    print(f\"{col}: {transit_metrics[col].nunique()} unique values. {round((transit_metrics[col].nunique()/len(transit_metrics))*100,2)} % of unique values to total rows\")"
   ]
  },
  {
   "cell_type": "code",
   "execution_count": 9,
   "id": "2e90f2a3-2627-4e38-8047-ede9f2ece599",
   "metadata": {
    "tags": []
   },
   "outputs": [],
   "source": [
    "# Feature groups\n",
    "id_cols = [ # exclude from clustering\n",
    "    \"agency_name\",\n",
    "    \"city\",\n",
    "    \"ntd_id\",\n",
    "    \"state\",\n",
    "    \"primary_uza_name\",\n",
    "    \"RTPA\",\n",
    "    \"reporter_type\"\n",
    "]\n",
    "\n",
    "categorical_cols =[ # include in clustering\n",
    "    \"mode\", # 15 unique values\n",
    "    \"service\" # 4\n",
    "]\n",
    "\n",
    "numerical_cols = [ # include in clustering\n",
    "    \"upt\",\n",
    "    \"vrh\",\n",
    "    \"vrm\",\n",
    "    \"opexp_total\"\n",
    "]\n",
    "\n",
    "other_cols = [ # exclude in clustering\n",
    "    \"agency_status\"\n",
    "    \"year\",\n",
    "    \"reporting_module\",\n",
    "    \"_merge\"\n",
    "]"
   ]
  },
  {
   "cell_type": "markdown",
   "id": "416983b6-5390-4d81-9afc-7d8d5eb136d5",
   "metadata": {},
   "source": [
    "## 2. Mode & Service"
   ]
  },
  {
   "cell_type": "markdown",
   "id": "5b027fb2-79a1-4fec-b242-8e00183fc7f8",
   "metadata": {},
   "source": [
    "### Unique `Mode` sub-categories\n",
    "Previous research papers categorized mode by have/not have \"dedicated right of way\"/ \"fixed guideway\"."
   ]
  },
  {
   "cell_type": "code",
   "execution_count": 10,
   "id": "a7fa6cad-373c-4579-b53e-5b939791db9f",
   "metadata": {
    "tags": []
   },
   "outputs": [
    {
     "data": {
      "text/plain": [
       "['Demand Response',\n",
       " 'Bus',\n",
       " 'Streetcar',\n",
       " 'Heavy Rail',\n",
       " 'Demand Response Taxi',\n",
       " 'Commuter Bus',\n",
       " 'Hybrid Rail',\n",
       " 'Commuter Rail',\n",
       " 'Vanpool',\n",
       " 'Bus Rapid Transit',\n",
       " 'Cable Car',\n",
       " 'Light Rail',\n",
       " 'Trolleybus',\n",
       " 'Ferryboats',\n",
       " 'Monorail / Automated Guideway']"
      ]
     },
     "execution_count": 10,
     "metadata": {},
     "output_type": "execute_result"
    }
   ],
   "source": [
    "list(transit_metrics[\"mode\"].unique())"
   ]
  },
  {
   "cell_type": "code",
   "execution_count": 11,
   "id": "c90d6420-db63-4661-9711-7c07fe9df006",
   "metadata": {
    "editable": true,
    "slideshow": {
     "slide_type": ""
    },
    "tags": []
   },
   "outputs": [],
   "source": [
    "fixed_guideway = [\n",
    "    \"Streetcar\",\n",
    "    \"Heavy Rail\",\n",
    "    \"Hybrid Rail\",\n",
    "    \"Commuter Rail\",\n",
    "    \"Cablecar\",\n",
    "    \"Light Rail\"\n",
    "]\n",
    "\n",
    "other =[\n",
    "    \"Trolleybus\",\n",
    "    \"Ferryboats\"\n",
    "]\n",
    "\n",
    "nonfixed_guideway = [\n",
    "    \"Demand Response\",\n",
    "    \"Bus\",\n",
    "    \"Demand Response Taxi\",\n",
    "    \"Commuter Bus\",\n",
    "    \"Vanpool\",\n",
    "    \"Bus Rapid Transit\",\n",
    "    \"Monorail / Automated Guideway\"\n",
    "]"
   ]
  },
  {
   "cell_type": "markdown",
   "id": "f5af5043-99a3-44bf-803a-4afd7ecfe6e6",
   "metadata": {},
   "source": [
    "### Unique `Service` values"
   ]
  },
  {
   "cell_type": "code",
   "execution_count": 12,
   "id": "d8d44a7e-4f06-4cc5-9780-02d04d65cf75",
   "metadata": {
    "tags": []
   },
   "outputs": [
    {
     "data": {
      "text/plain": [
       "Purchased Transportation                                     1480\n",
       "Directly Operated                                             523\n",
       "Purchased Transportation - Taxi                                74\n",
       "Purchased Transportation - Transportation Network Company      14\n",
       "Name: service, dtype: int64"
      ]
     },
     "execution_count": 12,
     "metadata": {},
     "output_type": "execute_result"
    }
   ],
   "source": [
    "transit_metrics[\"service\"].value_counts()"
   ]
  },
  {
   "cell_type": "markdown",
   "id": "78bb084c-f8b7-40b2-83b7-143674114a9d",
   "metadata": {},
   "source": [
    "## 3. \"Flattening\" data\n",
    "If we group by only Agency (flattening, fewer rows), how do we aggregate the other classification variables before we normalize them? Is adding sufficient? Do we need to average any?"
   ]
  },
  {
   "cell_type": "code",
   "execution_count": 13,
   "id": "804b8062-c74f-40b3-aadd-da3c5ae13e2e",
   "metadata": {},
   "outputs": [],
   "source": [
    "# agg the numerical row, end with each row being an agency\n",
    "group_id = transit_metrics.groupby(id_cols).agg(\n",
    "    {col: \"sum\" for col in numerical_cols} \n",
    ").reset_index()"
   ]
  },
  {
   "cell_type": "code",
   "execution_count": 14,
   "id": "e80026fa-3da2-41ad-9c15-cad80e916b03",
   "metadata": {},
   "outputs": [],
   "source": [
    "# agg the numerical row, end with each row being an agency\n",
    "group_cat = transit_metrics.groupby(categorical_cols).agg(\n",
    "    {col: \"sum\" for col in numerical_cols} \n",
    ").reset_index()"
   ]
  },
  {
   "cell_type": "code",
   "execution_count": 15,
   "id": "e58b2b25-c192-40cb-84cf-a4bab1b0b1e2",
   "metadata": {},
   "outputs": [
    {
     "data": {
      "text/plain": [
       "(True, True)"
      ]
     },
     "execution_count": 15,
     "metadata": {},
     "output_type": "execute_result"
    }
   ],
   "source": [
    "# double checking aggregation works\n",
    "(transit_metrics[transit_metrics[\"ntd_id\"]==\"90211\"][\"opexp_total\"].sum() == group_id[group_id[\"ntd_id\"]==\"90211\"][\"opexp_total\"].sum(),\n",
    "transit_metrics[transit_metrics[\"mode\"]==\"Bus\"][\"opexp_total\"].sum() == group_cat[group_cat[\"mode\"]==\"Bus\"][\"opexp_total\"].sum())"
   ]
  },
  {
   "cell_type": "code",
   "execution_count": 16,
   "id": "d9df4f18-573a-4590-967e-144937952d01",
   "metadata": {},
   "outputs": [
    {
     "data": {
      "text/plain": [
       "'group_id'"
      ]
     },
     "metadata": {},
     "output_type": "display_data"
    },
    {
     "data": {
      "text/plain": [
       "(168, 11)"
      ]
     },
     "metadata": {},
     "output_type": "display_data"
    },
    {
     "data": {
      "text/html": [
       "<div>\n",
       "<style scoped>\n",
       "    .dataframe tbody tr th:only-of-type {\n",
       "        vertical-align: middle;\n",
       "    }\n",
       "\n",
       "    .dataframe tbody tr th {\n",
       "        vertical-align: top;\n",
       "    }\n",
       "\n",
       "    .dataframe thead th {\n",
       "        text-align: right;\n",
       "    }\n",
       "</style>\n",
       "<table border=\"1\" class=\"dataframe\">\n",
       "  <thead>\n",
       "    <tr style=\"text-align: right;\">\n",
       "      <th></th>\n",
       "      <th>agency_name</th>\n",
       "      <th>city</th>\n",
       "      <th>ntd_id</th>\n",
       "      <th>state</th>\n",
       "      <th>primary_uza_name</th>\n",
       "      <th>RTPA</th>\n",
       "      <th>reporter_type</th>\n",
       "      <th>upt</th>\n",
       "      <th>vrh</th>\n",
       "      <th>vrm</th>\n",
       "      <th>opexp_total</th>\n",
       "    </tr>\n",
       "  </thead>\n",
       "  <tbody>\n",
       "    <tr>\n",
       "      <th>0</th>\n",
       "      <td>Access Services (AS)</td>\n",
       "      <td>El Monte</td>\n",
       "      <td>90157</td>\n",
       "      <td>CA</td>\n",
       "      <td>Los Angeles--Long Beach--Anaheim, CA</td>\n",
       "      <td>Southern California Association of Governments</td>\n",
       "      <td>Full Reporter</td>\n",
       "      <td>21100712</td>\n",
       "      <td>11073631</td>\n",
       "      <td>195345317</td>\n",
       "      <td>992266445</td>\n",
       "    </tr>\n",
       "    <tr>\n",
       "      <th>1</th>\n",
       "      <td>Alameda-Contra Costa Transit District</td>\n",
       "      <td>Oakland</td>\n",
       "      <td>90014</td>\n",
       "      <td>CA</td>\n",
       "      <td>San Francisco--Oakland, CA</td>\n",
       "      <td>Metropolitan Transportation Commission</td>\n",
       "      <td>Full Reporter</td>\n",
       "      <td>238095061</td>\n",
       "      <td>12968803</td>\n",
       "      <td>140963319</td>\n",
       "      <td>2864051248</td>\n",
       "    </tr>\n",
       "    <tr>\n",
       "      <th>2</th>\n",
       "      <td>Altamont Corridor Express (ACE)</td>\n",
       "      <td>Stockton</td>\n",
       "      <td>90182</td>\n",
       "      <td>CA</td>\n",
       "      <td>Stockton, CA</td>\n",
       "      <td>San Joaquin Council of Governments</td>\n",
       "      <td>Full Reporter</td>\n",
       "      <td>4923384</td>\n",
       "      <td>141171</td>\n",
       "      <td>5573755</td>\n",
       "      <td>143295615</td>\n",
       "    </tr>\n",
       "    <tr>\n",
       "      <th>3</th>\n",
       "      <td>Anaheim Transportation Network (ATN)</td>\n",
       "      <td>Anaheim</td>\n",
       "      <td>90211</td>\n",
       "      <td>CA</td>\n",
       "      <td>Los Angeles--Long Beach--Anaheim, CA</td>\n",
       "      <td>Southern California Association of Governments</td>\n",
       "      <td>Full Reporter</td>\n",
       "      <td>40740395</td>\n",
       "      <td>976178</td>\n",
       "      <td>6528424</td>\n",
       "      <td>82415962</td>\n",
       "    </tr>\n",
       "    <tr>\n",
       "      <th>4</th>\n",
       "      <td>Antelope Valley Transit Authority (AVTA)</td>\n",
       "      <td>Lancaster</td>\n",
       "      <td>90121</td>\n",
       "      <td>CA</td>\n",
       "      <td>Palmdale--Lancaster, CA</td>\n",
       "      <td>Southern California Association of Governments</td>\n",
       "      <td>Full Reporter</td>\n",
       "      <td>10230960</td>\n",
       "      <td>1222451</td>\n",
       "      <td>20620573</td>\n",
       "      <td>166805222</td>\n",
       "    </tr>\n",
       "  </tbody>\n",
       "</table>\n",
       "</div>"
      ],
      "text/plain": [
       "                                agency_name       city ntd_id state  \\\n",
       "0                      Access Services (AS)   El Monte  90157    CA   \n",
       "1     Alameda-Contra Costa Transit District    Oakland  90014    CA   \n",
       "2           Altamont Corridor Express (ACE)   Stockton  90182    CA   \n",
       "3      Anaheim Transportation Network (ATN)    Anaheim  90211    CA   \n",
       "4  Antelope Valley Transit Authority (AVTA)  Lancaster  90121    CA   \n",
       "\n",
       "                       primary_uza_name  \\\n",
       "0  Los Angeles--Long Beach--Anaheim, CA   \n",
       "1            San Francisco--Oakland, CA   \n",
       "2                          Stockton, CA   \n",
       "3  Los Angeles--Long Beach--Anaheim, CA   \n",
       "4               Palmdale--Lancaster, CA   \n",
       "\n",
       "                                             RTPA  reporter_type        upt  \\\n",
       "0  Southern California Association of Governments  Full Reporter   21100712   \n",
       "1          Metropolitan Transportation Commission  Full Reporter  238095061   \n",
       "2              San Joaquin Council of Governments  Full Reporter    4923384   \n",
       "3  Southern California Association of Governments  Full Reporter   40740395   \n",
       "4  Southern California Association of Governments  Full Reporter   10230960   \n",
       "\n",
       "        vrh        vrm  opexp_total  \n",
       "0  11073631  195345317    992266445  \n",
       "1  12968803  140963319   2864051248  \n",
       "2    141171    5573755    143295615  \n",
       "3    976178    6528424     82415962  \n",
       "4   1222451   20620573    166805222  "
      ]
     },
     "metadata": {},
     "output_type": "display_data"
    }
   ],
   "source": [
    "display(\"group_id\",\n",
    "    group_id.shape,\n",
    "    group_id.head(),\n",
    "    )"
   ]
  },
  {
   "cell_type": "code",
   "execution_count": 17,
   "id": "638a0797-2c20-4d9a-8409-2982dbbbedee",
   "metadata": {},
   "outputs": [
    {
     "data": {
      "text/plain": [
       "'group_cat'"
      ]
     },
     "metadata": {},
     "output_type": "display_data"
    },
    {
     "data": {
      "text/plain": [
       "(25, 6)"
      ]
     },
     "metadata": {},
     "output_type": "display_data"
    },
    {
     "data": {
      "text/html": [
       "<div>\n",
       "<style scoped>\n",
       "    .dataframe tbody tr th:only-of-type {\n",
       "        vertical-align: middle;\n",
       "    }\n",
       "\n",
       "    .dataframe tbody tr th {\n",
       "        vertical-align: top;\n",
       "    }\n",
       "\n",
       "    .dataframe thead th {\n",
       "        text-align: right;\n",
       "    }\n",
       "</style>\n",
       "<table border=\"1\" class=\"dataframe\">\n",
       "  <thead>\n",
       "    <tr style=\"text-align: right;\">\n",
       "      <th></th>\n",
       "      <th>mode</th>\n",
       "      <th>service</th>\n",
       "      <th>upt</th>\n",
       "      <th>vrh</th>\n",
       "      <th>vrm</th>\n",
       "      <th>opexp_total</th>\n",
       "    </tr>\n",
       "  </thead>\n",
       "  <tbody>\n",
       "    <tr>\n",
       "      <th>0</th>\n",
       "      <td>Bus</td>\n",
       "      <td>Directly Operated</td>\n",
       "      <td>2952883383</td>\n",
       "      <td>109698885</td>\n",
       "      <td>1187304414</td>\n",
       "      <td>21064786925</td>\n",
       "    </tr>\n",
       "    <tr>\n",
       "      <th>1</th>\n",
       "      <td>Bus</td>\n",
       "      <td>Purchased Transportation</td>\n",
       "      <td>636746541</td>\n",
       "      <td>45722527</td>\n",
       "      <td>581552826</td>\n",
       "      <td>5000145202</td>\n",
       "    </tr>\n",
       "    <tr>\n",
       "      <th>2</th>\n",
       "      <td>Bus Rapid Transit</td>\n",
       "      <td>Directly Operated</td>\n",
       "      <td>40599424</td>\n",
       "      <td>828979</td>\n",
       "      <td>11343877</td>\n",
       "      <td>251967151</td>\n",
       "    </tr>\n",
       "    <tr>\n",
       "      <th>3</th>\n",
       "      <td>Cable Car</td>\n",
       "      <td>Directly Operated</td>\n",
       "      <td>21089173</td>\n",
       "      <td>551837</td>\n",
       "      <td>1139285</td>\n",
       "      <td>373274268</td>\n",
       "    </tr>\n",
       "    <tr>\n",
       "      <th>4</th>\n",
       "      <td>Commuter Bus</td>\n",
       "      <td>Directly Operated</td>\n",
       "      <td>11604823</td>\n",
       "      <td>769809</td>\n",
       "      <td>16510747</td>\n",
       "      <td>195171589</td>\n",
       "    </tr>\n",
       "  </tbody>\n",
       "</table>\n",
       "</div>"
      ],
      "text/plain": [
       "                mode                   service         upt        vrh  \\\n",
       "0                Bus         Directly Operated  2952883383  109698885   \n",
       "1                Bus  Purchased Transportation   636746541   45722527   \n",
       "2  Bus Rapid Transit         Directly Operated    40599424     828979   \n",
       "3          Cable Car         Directly Operated    21089173     551837   \n",
       "4       Commuter Bus         Directly Operated    11604823     769809   \n",
       "\n",
       "          vrm  opexp_total  \n",
       "0  1187304414  21064786925  \n",
       "1   581552826   5000145202  \n",
       "2    11343877    251967151  \n",
       "3     1139285    373274268  \n",
       "4    16510747    195171589  "
      ]
     },
     "metadata": {},
     "output_type": "display_data"
    }
   ],
   "source": [
    "display(\"group_cat\",\n",
    "    group_cat.shape,\n",
    "    group_cat.head()\n",
    ")"
   ]
  },
  {
   "cell_type": "markdown",
   "id": "a240d983-269d-43ca-a281-2595a34d4f26",
   "metadata": {},
   "source": [
    "### compared to `ntd_metrics_merge`"
   ]
  },
  {
   "cell_type": "code",
   "execution_count": 18,
   "id": "0226e32c-9703-4a61-b92e-21a3c348b178",
   "metadata": {},
   "outputs": [
    {
     "data": {
      "text/html": [
       "<div>\n",
       "<style scoped>\n",
       "    .dataframe tbody tr th:only-of-type {\n",
       "        vertical-align: middle;\n",
       "    }\n",
       "\n",
       "    .dataframe tbody tr th {\n",
       "        vertical-align: top;\n",
       "    }\n",
       "\n",
       "    .dataframe thead th {\n",
       "        text-align: right;\n",
       "    }\n",
       "</style>\n",
       "<table border=\"1\" class=\"dataframe\">\n",
       "  <thead>\n",
       "    <tr style=\"text-align: right;\">\n",
       "      <th></th>\n",
       "      <th>ntd_id</th>\n",
       "      <th>source_agency</th>\n",
       "      <th>agency_status</th>\n",
       "      <th>primary_uza_name</th>\n",
       "      <th>uza_population</th>\n",
       "      <th>uza_area_sq_miles</th>\n",
       "      <th>year</th>\n",
       "      <th>total_opexp_total</th>\n",
       "      <th>total_upt</th>\n",
       "      <th>total_vrh</th>\n",
       "    </tr>\n",
       "  </thead>\n",
       "  <tbody>\n",
       "    <tr>\n",
       "      <th>0</th>\n",
       "      <td>90198</td>\n",
       "      <td>City of Porterville (COLT) - Transit Department</td>\n",
       "      <td>Active</td>\n",
       "      <td>Porterville, CA</td>\n",
       "      <td>69862</td>\n",
       "      <td>16.35</td>\n",
       "      <td>2021</td>\n",
       "      <td>3609990.0</td>\n",
       "      <td>174595.0</td>\n",
       "      <td>30773.0</td>\n",
       "    </tr>\n",
       "    <tr>\n",
       "      <th>1</th>\n",
       "      <td>90198</td>\n",
       "      <td>City of Porterville (COLT) - Transit Department</td>\n",
       "      <td>Active</td>\n",
       "      <td>Porterville, CA</td>\n",
       "      <td>69862</td>\n",
       "      <td>16.35</td>\n",
       "      <td>2023</td>\n",
       "      <td>NaN</td>\n",
       "      <td>NaN</td>\n",
       "      <td>NaN</td>\n",
       "    </tr>\n",
       "    <tr>\n",
       "      <th>2</th>\n",
       "      <td>90198</td>\n",
       "      <td>City of Porterville (COLT) - Transit Department</td>\n",
       "      <td>Active</td>\n",
       "      <td>Porterville, CA</td>\n",
       "      <td>69862</td>\n",
       "      <td>16.35</td>\n",
       "      <td>2019</td>\n",
       "      <td>4014118.0</td>\n",
       "      <td>635559.0</td>\n",
       "      <td>52834.0</td>\n",
       "    </tr>\n",
       "    <tr>\n",
       "      <th>3</th>\n",
       "      <td>90198</td>\n",
       "      <td>City of Porterville (COLT) - Transit Department</td>\n",
       "      <td>Active</td>\n",
       "      <td>Porterville, CA</td>\n",
       "      <td>69862</td>\n",
       "      <td>16.35</td>\n",
       "      <td>2018</td>\n",
       "      <td>4025065.0</td>\n",
       "      <td>648649.0</td>\n",
       "      <td>52799.0</td>\n",
       "    </tr>\n",
       "    <tr>\n",
       "      <th>4</th>\n",
       "      <td>90198</td>\n",
       "      <td>City of Porterville (COLT) - Transit Department</td>\n",
       "      <td>Active</td>\n",
       "      <td>Porterville, CA</td>\n",
       "      <td>69862</td>\n",
       "      <td>16.35</td>\n",
       "      <td>2020</td>\n",
       "      <td>4212765.0</td>\n",
       "      <td>522056.0</td>\n",
       "      <td>47356.0</td>\n",
       "    </tr>\n",
       "  </tbody>\n",
       "</table>\n",
       "</div>"
      ],
      "text/plain": [
       "  ntd_id                                    source_agency agency_status  \\\n",
       "0  90198  City of Porterville (COLT) - Transit Department        Active   \n",
       "1  90198  City of Porterville (COLT) - Transit Department        Active   \n",
       "2  90198  City of Porterville (COLT) - Transit Department        Active   \n",
       "3  90198  City of Porterville (COLT) - Transit Department        Active   \n",
       "4  90198  City of Porterville (COLT) - Transit Department        Active   \n",
       "\n",
       "  primary_uza_name  uza_population  uza_area_sq_miles  year  \\\n",
       "0  Porterville, CA           69862              16.35  2021   \n",
       "1  Porterville, CA           69862              16.35  2023   \n",
       "2  Porterville, CA           69862              16.35  2019   \n",
       "3  Porterville, CA           69862              16.35  2018   \n",
       "4  Porterville, CA           69862              16.35  2020   \n",
       "\n",
       "   total_opexp_total  total_upt  total_vrh  \n",
       "0          3609990.0   174595.0    30773.0  \n",
       "1                NaN        NaN        NaN  \n",
       "2          4014118.0   635559.0    52834.0  \n",
       "3          4025065.0   648649.0    52799.0  \n",
       "4          4212765.0   522056.0    47356.0  "
      ]
     },
     "execution_count": 18,
     "metadata": {},
     "output_type": "execute_result"
    }
   ],
   "source": [
    "ntd_metrics_merge.head()"
   ]
  },
  {
   "cell_type": "code",
   "execution_count": 19,
   "id": "3e100df3-f46a-4236-88d4-7a843a971a46",
   "metadata": {},
   "outputs": [
    {
     "data": {
      "text/plain": [
       "True"
      ]
     },
     "execution_count": 19,
     "metadata": {},
     "output_type": "execute_result"
    }
   ],
   "source": [
    "group_id[group_id[\"ntd_id\"]==\"90211\"][\"opexp_total\"].sum() == ntd_metrics_merge[ntd_metrics_merge[\"ntd_id\"]==\"90211\"][\"total_opexp_total\"].sum()"
   ]
  },
  {
   "cell_type": "code",
   "execution_count": 20,
   "id": "a979640e-ca10-4039-a6f8-5f1333991611",
   "metadata": {},
   "outputs": [
    {
     "data": {
      "text/plain": [
       "['agency_name',\n",
       " 'city',\n",
       " 'ntd_id',\n",
       " 'state',\n",
       " 'primary_uza_name',\n",
       " 'RTPA',\n",
       " 'reporter_type']"
      ]
     },
     "execution_count": 20,
     "metadata": {},
     "output_type": "execute_result"
    }
   ],
   "source": [
    "id_cols"
   ]
  },
  {
   "cell_type": "code",
   "execution_count": 21,
   "id": "109a4df3-8929-400a-bd41-10b285d30c88",
   "metadata": {},
   "outputs": [],
   "source": [
    "merge_group = ntd_metrics_merge.groupby(\n",
    "    [\"ntd_id\",\"source_agency\",\"primary_uza_name\",\"uza_population\",\"uza_area_sq_miles\"]\n",
    ").agg({\n",
    "    \"total_opexp_total\":\"sum\",\n",
    "    \"total_upt\":\"sum\",\n",
    "    \"total_vrh\":\"sum\"\n",
    "}).reset_index()"
   ]
  },
  {
   "cell_type": "code",
   "execution_count": 22,
   "id": "7d9c4437-e116-4a50-b39c-4b51104bd257",
   "metadata": {},
   "outputs": [
    {
     "data": {
      "text/html": [
       "<div>\n",
       "<style scoped>\n",
       "    .dataframe tbody tr th:only-of-type {\n",
       "        vertical-align: middle;\n",
       "    }\n",
       "\n",
       "    .dataframe tbody tr th {\n",
       "        vertical-align: top;\n",
       "    }\n",
       "\n",
       "    .dataframe thead th {\n",
       "        text-align: right;\n",
       "    }\n",
       "</style>\n",
       "<table border=\"1\" class=\"dataframe\">\n",
       "  <thead>\n",
       "    <tr style=\"text-align: right;\">\n",
       "      <th></th>\n",
       "      <th>ntd_id</th>\n",
       "      <th>source_agency</th>\n",
       "      <th>primary_uza_name</th>\n",
       "      <th>uza_population</th>\n",
       "      <th>uza_area_sq_miles</th>\n",
       "      <th>total_opexp_total</th>\n",
       "      <th>total_upt</th>\n",
       "      <th>total_vrh</th>\n",
       "    </tr>\n",
       "  </thead>\n",
       "  <tbody>\n",
       "    <tr>\n",
       "      <th>0</th>\n",
       "      <td>90003</td>\n",
       "      <td>San Francisco Bay Area Rapid Transit District ...</td>\n",
       "      <td>San Francisco--Oakland, CA</td>\n",
       "      <td>3515933</td>\n",
       "      <td>513.80</td>\n",
       "      <td>4.109168e+09</td>\n",
       "      <td>455096497.0</td>\n",
       "      <td>13481404.0</td>\n",
       "    </tr>\n",
       "    <tr>\n",
       "      <th>1</th>\n",
       "      <td>90004</td>\n",
       "      <td>Golden Empire Transit District (GET)</td>\n",
       "      <td>Bakersfield, CA</td>\n",
       "      <td>570235</td>\n",
       "      <td>132.12</td>\n",
       "      <td>1.938957e+08</td>\n",
       "      <td>27369380.0</td>\n",
       "      <td>1871722.0</td>\n",
       "    </tr>\n",
       "    <tr>\n",
       "      <th>2</th>\n",
       "      <td>90006</td>\n",
       "      <td>Santa Cruz Metropolitan Transit District (SCMTD)</td>\n",
       "      <td>Santa Cruz, CA</td>\n",
       "      <td>169038</td>\n",
       "      <td>60.45</td>\n",
       "      <td>2.828370e+08</td>\n",
       "      <td>20980309.0</td>\n",
       "      <td>1318828.0</td>\n",
       "    </tr>\n",
       "    <tr>\n",
       "      <th>3</th>\n",
       "      <td>90007</td>\n",
       "      <td>City of Modesto (MAX)</td>\n",
       "      <td>Modesto, CA</td>\n",
       "      <td>357301</td>\n",
       "      <td>70.38</td>\n",
       "      <td>7.735015e+07</td>\n",
       "      <td>8170544.0</td>\n",
       "      <td>809165.0</td>\n",
       "    </tr>\n",
       "    <tr>\n",
       "      <th>4</th>\n",
       "      <td>90008</td>\n",
       "      <td>City of Santa Monica (BBB) - Department of Tra...</td>\n",
       "      <td>Los Angeles--Long Beach--Anaheim, CA</td>\n",
       "      <td>12237376</td>\n",
       "      <td>1636.83</td>\n",
       "      <td>4.715525e+08</td>\n",
       "      <td>55239107.0</td>\n",
       "      <td>2879128.0</td>\n",
       "    </tr>\n",
       "  </tbody>\n",
       "</table>\n",
       "</div>"
      ],
      "text/plain": [
       "  ntd_id                                      source_agency  \\\n",
       "0  90003  San Francisco Bay Area Rapid Transit District ...   \n",
       "1  90004               Golden Empire Transit District (GET)   \n",
       "2  90006   Santa Cruz Metropolitan Transit District (SCMTD)   \n",
       "3  90007                              City of Modesto (MAX)   \n",
       "4  90008  City of Santa Monica (BBB) - Department of Tra...   \n",
       "\n",
       "                       primary_uza_name  uza_population  uza_area_sq_miles  \\\n",
       "0            San Francisco--Oakland, CA         3515933             513.80   \n",
       "1                       Bakersfield, CA          570235             132.12   \n",
       "2                        Santa Cruz, CA          169038              60.45   \n",
       "3                           Modesto, CA          357301              70.38   \n",
       "4  Los Angeles--Long Beach--Anaheim, CA        12237376            1636.83   \n",
       "\n",
       "   total_opexp_total    total_upt   total_vrh  \n",
       "0       4.109168e+09  455096497.0  13481404.0  \n",
       "1       1.938957e+08   27369380.0   1871722.0  \n",
       "2       2.828370e+08   20980309.0   1318828.0  \n",
       "3       7.735015e+07    8170544.0    809165.0  \n",
       "4       4.715525e+08   55239107.0   2879128.0  "
      ]
     },
     "execution_count": 22,
     "metadata": {},
     "output_type": "execute_result"
    }
   ],
   "source": [
    "merge_group.head()"
   ]
  },
  {
   "cell_type": "markdown",
   "id": "da01c15c-c246-40ec-a36f-8a1af205e850",
   "metadata": {},
   "source": [
    "# Google Machine Learning Course - Numerical Data\n",
    "\n",
    "https://developers.google.com/machine-learning/crash-course/numerical-data\n"
   ]
  },
  {
   "cell_type": "markdown",
   "id": "17fa84af-5eb3-4a48-8290-7d07f9f0e19e",
   "metadata": {},
   "source": [
    "## 1. Before creating feature vectors, we recommend studying numerical data in two ways:\n",
    "- Visualize your data in plots or graphs.\n",
    "- Get statistics about your data."
   ]
  },
  {
   "cell_type": "markdown",
   "id": "fab32548-cc05-40ae-9d91-b3874beeb2b5",
   "metadata": {},
   "source": [
    "**Visualize your data**\n",
    "\n",
    "Graphs can help you find anomalies or patterns hiding in the data. Therefore, before getting too far into analysis, look at your data graphically, either as scatter plots or histograms. View graphs not only at the beginning of the data pipeline, but also throughout data transformations. Visualizations help you continually check your assumptions.\n",
    "\n",
    "We recommend working with pandas for visualization:\n",
    "\n",
    "Working with Missing Data (pandas Documentation)\n",
    "Visualizations (pandas Documentation)\n",
    "\n",
    "Note that certain visualization tools are optimized for certain data formats. A visualization tool that helps you evaluate protocol buffers may or may not be able to help you evaluate CSV data."
   ]
  },
  {
   "cell_type": "code",
   "execution_count": 23,
   "id": "6437545e-9443-4fdf-a19f-bf536756ca39",
   "metadata": {},
   "outputs": [
    {
     "data": {
      "text/plain": [
       "<Axes: >"
      ]
     },
     "execution_count": 23,
     "metadata": {},
     "output_type": "execute_result"
    },
    {
     "data": {
      "image/png": "[encoded data removed]",
      "text/plain": [
       "<Figure size 640x480 with 1 Axes>"
      ]
     },
     "metadata": {},
     "output_type": "display_data"
    }
   ],
   "source": [
    "merge_group.plot()"
   ]
  },
  {
   "cell_type": "markdown",
   "id": "a57645c2-fef0-452a-a3d3-a9eb5556588d",
   "metadata": {},
   "source": [
    "**Statistically evaluate your data**\n",
    "\n",
    "Beyond visual analysis, we also recommend evaluating potential features and labels mathematically, gathering basic statistics such as:\n",
    "\n",
    "- mean and median\n",
    "- standard deviation\n",
    "- the values at the quartile divisions: the 0th, 25th, 50th, 75th, and 100th percentiles. The 0th percentile is the minimum value of this column; the 100th percentile is the maximum value of this column. (The 50th percentile is the median.)"
   ]
  },
  {
   "cell_type": "code",
   "execution_count": 26,
   "id": "44846229-9868-467e-86a8-9e630ee14998",
   "metadata": {},
   "outputs": [
    {
     "data": {
      "text/html": [
       "<div>\n",
       "<style scoped>\n",
       "    .dataframe tbody tr th:only-of-type {\n",
       "        vertical-align: middle;\n",
       "    }\n",
       "\n",
       "    .dataframe tbody tr th {\n",
       "        vertical-align: top;\n",
       "    }\n",
       "\n",
       "    .dataframe thead th {\n",
       "        text-align: right;\n",
       "    }\n",
       "</style>\n",
       "<table border=\"1\" class=\"dataframe\">\n",
       "  <thead>\n",
       "    <tr style=\"text-align: right;\">\n",
       "      <th></th>\n",
       "      <th>ntd_id</th>\n",
       "      <th>source_agency</th>\n",
       "      <th>primary_uza_name</th>\n",
       "      <th>uza_population</th>\n",
       "      <th>uza_area_sq_miles</th>\n",
       "      <th>total_opexp_total</th>\n",
       "      <th>total_upt</th>\n",
       "      <th>total_vrh</th>\n",
       "    </tr>\n",
       "  </thead>\n",
       "  <tbody>\n",
       "    <tr>\n",
       "      <th>count</th>\n",
       "      <td>254</td>\n",
       "      <td>254</td>\n",
       "      <td>254</td>\n",
       "      <td>2.540000e+02</td>\n",
       "      <td>254.000000</td>\n",
       "      <td>2.540000e+02</td>\n",
       "      <td>2.540000e+02</td>\n",
       "      <td>2.540000e+02</td>\n",
       "    </tr>\n",
       "    <tr>\n",
       "      <th>unique</th>\n",
       "      <td>254</td>\n",
       "      <td>253</td>\n",
       "      <td>52</td>\n",
       "      <td>NaN</td>\n",
       "      <td>NaN</td>\n",
       "      <td>NaN</td>\n",
       "      <td>NaN</td>\n",
       "      <td>NaN</td>\n",
       "    </tr>\n",
       "    <tr>\n",
       "      <th>top</th>\n",
       "      <td>90003</td>\n",
       "      <td>Los Angeles County Metropolitan Transportation...</td>\n",
       "      <td>Los Angeles--Long Beach--Anaheim, CA</td>\n",
       "      <td>NaN</td>\n",
       "      <td>NaN</td>\n",
       "      <td>NaN</td>\n",
       "      <td>NaN</td>\n",
       "      <td>NaN</td>\n",
       "    </tr>\n",
       "    <tr>\n",
       "      <th>freq</th>\n",
       "      <td>1</td>\n",
       "      <td>2</td>\n",
       "      <td>79</td>\n",
       "      <td>NaN</td>\n",
       "      <td>NaN</td>\n",
       "      <td>NaN</td>\n",
       "      <td>NaN</td>\n",
       "      <td>NaN</td>\n",
       "    </tr>\n",
       "    <tr>\n",
       "      <th>mean</th>\n",
       "      <td>NaN</td>\n",
       "      <td>NaN</td>\n",
       "      <td>NaN</td>\n",
       "      <td>5.334673e+06</td>\n",
       "      <td>614.008622</td>\n",
       "      <td>1.848787e+08</td>\n",
       "      <td>2.201347e+07</td>\n",
       "      <td>9.729054e+05</td>\n",
       "    </tr>\n",
       "    <tr>\n",
       "      <th>std</th>\n",
       "      <td>NaN</td>\n",
       "      <td>NaN</td>\n",
       "      <td>NaN</td>\n",
       "      <td>4.894046e+06</td>\n",
       "      <td>712.728474</td>\n",
       "      <td>8.718196e+08</td>\n",
       "      <td>1.340215e+08</td>\n",
       "      <td>3.806733e+06</td>\n",
       "    </tr>\n",
       "    <tr>\n",
       "      <th>min</th>\n",
       "      <td>NaN</td>\n",
       "      <td>NaN</td>\n",
       "      <td>NaN</td>\n",
       "      <td>5.428700e+04</td>\n",
       "      <td>0.000000</td>\n",
       "      <td>0.000000e+00</td>\n",
       "      <td>0.000000e+00</td>\n",
       "      <td>0.000000e+00</td>\n",
       "    </tr>\n",
       "    <tr>\n",
       "      <th>25%</th>\n",
       "      <td>NaN</td>\n",
       "      <td>NaN</td>\n",
       "      <td>NaN</td>\n",
       "      <td>3.761170e+05</td>\n",
       "      <td>14.667500</td>\n",
       "      <td>2.377464e+06</td>\n",
       "      <td>8.669525e+04</td>\n",
       "      <td>2.092075e+04</td>\n",
       "    </tr>\n",
       "    <tr>\n",
       "      <th>50%</th>\n",
       "      <td>NaN</td>\n",
       "      <td>NaN</td>\n",
       "      <td>NaN</td>\n",
       "      <td>4.357850e+06</td>\n",
       "      <td>132.120000</td>\n",
       "      <td>9.338178e+06</td>\n",
       "      <td>5.207645e+05</td>\n",
       "      <td>1.047775e+05</td>\n",
       "    </tr>\n",
       "    <tr>\n",
       "      <th>75%</th>\n",
       "      <td>NaN</td>\n",
       "      <td>NaN</td>\n",
       "      <td>NaN</td>\n",
       "      <td>1.223738e+07</td>\n",
       "      <td>1636.830000</td>\n",
       "      <td>4.795623e+07</td>\n",
       "      <td>3.758004e+06</td>\n",
       "      <td>4.498462e+05</td>\n",
       "    </tr>\n",
       "    <tr>\n",
       "      <th>max</th>\n",
       "      <td>NaN</td>\n",
       "      <td>NaN</td>\n",
       "      <td>NaN</td>\n",
       "      <td>1.223738e+07</td>\n",
       "      <td>1636.830000</td>\n",
       "      <td>1.120117e+10</td>\n",
       "      <td>1.805697e+09</td>\n",
       "      <td>4.814779e+07</td>\n",
       "    </tr>\n",
       "  </tbody>\n",
       "</table>\n",
       "</div>"
      ],
      "text/plain": [
       "       ntd_id                                      source_agency  \\\n",
       "count     254                                                254   \n",
       "unique    254                                                253   \n",
       "top     90003  Los Angeles County Metropolitan Transportation...   \n",
       "freq        1                                                  2   \n",
       "mean      NaN                                                NaN   \n",
       "std       NaN                                                NaN   \n",
       "min       NaN                                                NaN   \n",
       "25%       NaN                                                NaN   \n",
       "50%       NaN                                                NaN   \n",
       "75%       NaN                                                NaN   \n",
       "max       NaN                                                NaN   \n",
       "\n",
       "                            primary_uza_name  uza_population  \\\n",
       "count                                    254    2.540000e+02   \n",
       "unique                                    52             NaN   \n",
       "top     Los Angeles--Long Beach--Anaheim, CA             NaN   \n",
       "freq                                      79             NaN   \n",
       "mean                                     NaN    5.334673e+06   \n",
       "std                                      NaN    4.894046e+06   \n",
       "min                                      NaN    5.428700e+04   \n",
       "25%                                      NaN    3.761170e+05   \n",
       "50%                                      NaN    4.357850e+06   \n",
       "75%                                      NaN    1.223738e+07   \n",
       "max                                      NaN    1.223738e+07   \n",
       "\n",
       "        uza_area_sq_miles  total_opexp_total     total_upt     total_vrh  \n",
       "count          254.000000       2.540000e+02  2.540000e+02  2.540000e+02  \n",
       "unique                NaN                NaN           NaN           NaN  \n",
       "top                   NaN                NaN           NaN           NaN  \n",
       "freq                  NaN                NaN           NaN           NaN  \n",
       "mean           614.008622       1.848787e+08  2.201347e+07  9.729054e+05  \n",
       "std            712.728474       8.718196e+08  1.340215e+08  3.806733e+06  \n",
       "min              0.000000       0.000000e+00  0.000000e+00  0.000000e+00  \n",
       "25%             14.667500       2.377464e+06  8.669525e+04  2.092075e+04  \n",
       "50%            132.120000       9.338178e+06  5.207645e+05  1.047775e+05  \n",
       "75%           1636.830000       4.795623e+07  3.758004e+06  4.498462e+05  \n",
       "max           1636.830000       1.120117e+10  1.805697e+09  4.814779e+07  "
      ]
     },
     "execution_count": 26,
     "metadata": {},
     "output_type": "execute_result"
    }
   ],
   "source": [
    "merge_group.describe(include = \"all\")"
   ]
  },
  {
   "cell_type": "markdown",
   "id": "3e1d0abc-6c94-42f4-977d-557fa4ec0de8",
   "metadata": {},
   "source": [
    "**Find outliers**\n",
    "\n",
    "An outlier is a value distant from most other values in a feature or label. Outliers often cause problems in model training, so finding outliers is important.\n",
    "\n",
    "When the delta between the `0th and 25th percentiles` differs significantly from the delta between the `75th and 100th percentiles`, the dataset probably contains outliers.\n",
    "\n",
    "Examine the delta between the `mean and standard deviation`. Typically you want to see the standard deviation to be smaller than the mean.\n",
    "\n",
    "Note: Don't over-rely on basic statistics. Anomalies can also hide in seemingly well-balanced data.\n",
    "Outliers can fall into any of the following categories:\n",
    "\n",
    "- The outlier is due to a mistake. For example, perhaps an experimenter mistakenly entered an extra zero, or perhaps an instrument that gathered data malfunctioned. You'll generally delete examples containing mistake outliers.\n",
    "- The outlier is a legitimate data point, not a mistake. In this case, will your trained model ultimately need to infer good predictions on these outliers?\n",
    "  - If yes, keep these outliers in your training set. After all, outliers in certain features sometimes mirror outliers in the label, so the outliers could actually help your model make better predictions. Be careful, extreme outliers can still hurt your model.\n",
    "  - If no, delete the outliers or apply more invasive feature engineering techniques, such as clipping."
   ]
  },
  {
   "cell_type": "markdown",
   "id": "28635713-1ac4-439c-9a3d-9588efef9c49",
   "metadata": {},
   "source": [
    "**Log scaling**\n",
    "\n",
    "Log scaling computes the logarithm of the raw value. In theory, the logarithm could be any base; in practice, log scaling usually calculates the natural logarithm (ln).\n",
    "\n",
    "\n",
    "Log scaling is helpful when the data conforms to a power law distribution. Casually speaking, a power law distribution looks as follows:\n",
    "\n",
    "- Low values of X have very high values of Y.\n",
    "- As the values of X increase, the values of Y quickly decrease. Consequently, high values of X have very low values of Y.\n",
    "\n",
    "Movie ratings are a good example of a power law distribution. In the following figure, notice:\n",
    "\n",
    "- A few movies have lots of user ratings. (Low values of X have high values of Y.)\n",
    "- Most movies have very few user ratings. (High values of X have low values of Y.)\n",
    "Log scaling changes the distribution, which helps train a model that will make better predictions."
   ]
  },
  {
   "cell_type": "code",
   "execution_count": null,
   "id": "b44bad42-0bb9-47bd-b0c4-d29f6c8fdb0e",
   "metadata": {},
   "outputs": [],
   "source": [
    "upt?"
   ]
  },
  {
   "cell_type": "markdown",
   "id": "f00e762e-2dee-43f3-8b6d-cdb63aaade0e",
   "metadata": {},
   "source": [
    "**Clipping**\n",
    "\n",
    "Clipping is a technique to minimize the influence of extreme outliers. In brief, clipping usually caps (reduces) the value of outliers to a specific maximum value. Clipping is a strange idea, and yet, it can be very effective.\n",
    "\n",
    "How can you minimize the influence of those extreme outliers? Well, the histogram is not an even distribution, a normal distribution, or a power law distribution. What if you simply cap or clip the maximum value of roomsPerPerson at an arbitrary value, say 4.0?\n",
    "\n",
    "Clipping the feature value at 4.0 doesn't mean that your model ignores all values greater than 4.0. Rather, it means that all values that were greater than 4.0 now become 4.0. This explains the peculiar hill at 4.0. Despite that hill, the scaled feature set is now more useful than the original data.\n",
    "\n",
    "**Wait a second! Can you really reduce every outlier value to some arbitrary upper threshold? When training a model, yes.**\n",
    "\n",
    "You can also clip values after applying other forms of normalization. For example, suppose you use Z-score scaling, but a few outliers have absolute values far greater than 3. In this case, you could:\n",
    "\n",
    "- Clip Z-scores greater than 3 to become exactly 3.\n",
    "- Clip Z-scores less than -3 to become exactly -3."
   ]
  },
  {
   "cell_type": "code",
   "execution_count": null,
   "id": "d184d2d9-946c-4382-9258-b387b4c8aad5",
   "metadata": {},
   "outputs": [],
   "source": [
    "clip upt z-scores?"
   ]
  }
 ],
 "metadata": {
  "kernelspec": {
   "display_name": "Python 3 (ipykernel)",
   "language": "python",
   "name": "python3"
  },
  "language_info": {
   "codemirror_mode": {
    "name": "ipython",
    "version": 3
   },
   "file_extension": ".py",
   "mimetype": "text/x-python",
   "name": "python",
   "nbconvert_exporter": "python",
   "pygments_lexer": "ipython3",
   "version": "3.11.10"
  }
 },
 "nbformat": 4,
 "nbformat_minor": 5
}
