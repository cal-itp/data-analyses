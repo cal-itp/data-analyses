{
 "cells": [
  {
   "cell_type": "markdown",
   "id": "854da103-62e6-4aa6-a0a2-9f2df7819f32",
   "metadata": {},
   "source": [
    "# [Refine Use of Explored NTD Variables #1646](https://github.com/cal-itp/data-analyses/issues/1646)\n",
    "\n",
    "Question or Goal:\n",
    "\n",
    "1. Mode & Service: We previously used these to define the grain of the data. These should be used for classifying/model-fitting.\n",
    "    - There are many modes: Can we group modes so there are fewer of them (e.g. fixed-guideway vs not)? Too many dummy variables for a category leads to overfitting/too many clusters.\n",
    "    - What's the best way to use Service? Is it as a dummy variable? Is it numeric \"proportion of service(VRH or M)\" that's directly operated? Explore the impacts of both.\n",
    "\n",
    "\n",
    "2. If we group by only Agency (flattening, fewer rows), how do we aggregate the other classification variables before we normalize them? Is adding sufficient? Do we need to average any?\n",
    "\n",
    "\n",
    "3. Are there ways to get more interactive/easy-to-read visualizations?\n",
    "    - If it takes significant time, break this one out"
   ]
  },
  {
   "cell_type": "markdown",
   "id": "3754fc0d-3a7d-4755-af73-51f412ffbc7a",
   "metadata": {},
   "source": [
    "## Terms\n",
    "**Example**:\n",
    "- You could think of an example as analogous to a `single row` in a spreadsheet.\n",
    "\n",
    "**Feature**:\n",
    "- Features are the values that a supervised model uses to predict the label.\n",
    "- In a weather model that predicts rainfall, the features could be `latitude, longitude, temperature, humidity, cloud coverage, wind direction, and atmospheric pressure`.\n",
    "- An input variable to a machine learning model. An example consists of one or more features. For instance, suppose you are training a model to determine the influence of weather conditions on student test scores. The following table shows three examples, each of which contains three features and one label:\n",
    "\n",
    "**Label**:\n",
    "- The label is the \"answer,\" or the value we want the model to predict.\n",
    "- In a weather model that predicts rainfall, the label would be `rainfall amount`.\n",
    "- In supervised machine learning, the \"answer\" or \"result\" portion of an example. Each labeled example consists of one or more features and a label. For example, in a spam detection dataset, the label would probably be either \"spam\" or \"not spam.\" In a rainfall dataset, the label might be the amount of rain that fell during a certain period."
   ]
  },
  {
   "cell_type": "markdown",
   "id": "1ca22156-6d1e-4837-9d09-0209cde3d984",
   "metadata": {
    "tags": []
   },
   "source": [
    "# Google Machine Learning Course"
   ]
  },
  {
   "cell_type": "markdown",
   "id": "da01c15c-c246-40ec-a36f-8a1af205e850",
   "metadata": {
    "tags": []
   },
   "source": [
    "## Numerical Data\n",
    "\n",
    "https://developers.google.com/machine-learning/crash-course/numerical-data"
   ]
  },
  {
   "cell_type": "markdown",
   "id": "17fa84af-5eb3-4a48-8290-7d07f9f0e19e",
   "metadata": {},
   "source": [
    "### Before creating feature vectors, we recommend studying numerical data in two ways:\n",
    "- Visualize your data in plots or graphs.\n",
    "- Get statistics about your data."
   ]
  },
  {
   "cell_type": "markdown",
   "id": "fab32548-cc05-40ae-9d91-b3874beeb2b5",
   "metadata": {},
   "source": [
    "**Visualize your data**\n",
    "\n",
    "Graphs can help you find anomalies or patterns hiding in the data. Therefore, before getting too far into analysis, look at your data graphically, either as scatter plots or histograms. View graphs not only at the beginning of the data pipeline, but also throughout data transformations. Visualizations help you continually check your assumptions.\n",
    "\n",
    "We recommend working with pandas for visualization:\n",
    "\n",
    "Working with Missing Data (pandas Documentation)\n",
    "Visualizations (pandas Documentation)\n",
    "\n",
    "Note that certain visualization tools are optimized for certain data formats. A visualization tool that helps you evaluate protocol buffers may or may not be able to help you evaluate CSV data."
   ]
  },
  {
   "cell_type": "markdown",
   "id": "a57645c2-fef0-452a-a3d3-a9eb5556588d",
   "metadata": {},
   "source": [
    "**Statistically evaluate your data**\n",
    "\n",
    "Beyond visual analysis, we also recommend evaluating potential features and labels mathematically, gathering basic statistics such as:\n",
    "\n",
    "- mean and median\n",
    "- standard deviation\n",
    "- the values at the quartile divisions: the 0th, 25th, 50th, 75th, and 100th percentiles. The 0th percentile is the minimum value of this column; the 100th percentile is the maximum value of this column. (The 50th percentile is the median.)"
   ]
  },
  {
   "cell_type": "markdown",
   "id": "3e1d0abc-6c94-42f4-977d-557fa4ec0de8",
   "metadata": {},
   "source": [
    "**Find outliers**\n",
    "\n",
    "An outlier is a value distant from most other values in a feature or label. Outliers often cause problems in model training, so finding outliers is important.\n",
    "\n",
    "When the delta between the `0th and 25th percentiles` differs significantly from the delta between the `75th and 100th percentiles`, the dataset probably contains outliers.\n",
    "\n",
    "Examine the delta between the `mean and standard deviation`. Typically you want to see the standard deviation to be smaller than the mean.\n",
    "\n",
    "Note: Don't over-rely on basic statistics. Anomalies can also hide in seemingly well-balanced data.\n",
    "Outliers can fall into any of the following categories:\n",
    "\n",
    "- The outlier is due to a mistake. For example, perhaps an experimenter mistakenly entered an extra zero, or perhaps an instrument that gathered data malfunctioned. You'll generally delete examples containing mistake outliers.\n",
    "- The outlier is a legitimate data point, not a mistake. In this case, will your trained model ultimately need to infer good predictions on these outliers?\n",
    "  - If yes, keep these outliers in your training set. After all, outliers in certain features sometimes mirror outliers in the label, so the outliers could actually help your model make better predictions. Be careful, extreme outliers can still hurt your model.\n",
    "  - If no, delete the outliers or apply more invasive feature engineering techniques, such as clipping."
   ]
  },
  {
   "cell_type": "markdown",
   "id": "28635713-1ac4-439c-9a3d-9588efef9c49",
   "metadata": {},
   "source": [
    "**Log scaling**\n",
    "\n",
    "Log scaling computes the logarithm of the raw value. In theory, the logarithm could be any base; in practice, log scaling usually calculates the natural logarithm (ln).\n",
    "\n",
    "\n",
    "Log scaling is helpful when the data conforms to a power law distribution. Casually speaking, a power law distribution looks as follows:\n",
    "\n",
    "- Low values of X have very high values of Y.\n",
    "- As the values of X increase, the values of Y quickly decrease. Consequently, high values of X have very low values of Y.\n",
    "\n",
    "Movie ratings are a good example of a power law distribution. In the following figure, notice:\n",
    "\n",
    "- A few movies have lots of user ratings. (Low values of X have high values of Y.)\n",
    "- Most movies have very few user ratings. (High values of X have low values of Y.)\n",
    "Log scaling changes the distribution, which helps train a model that will make better predictions."
   ]
  },
  {
   "cell_type": "code",
   "execution_count": null,
   "id": "b44bad42-0bb9-47bd-b0c4-d29f6c8fdb0e",
   "metadata": {},
   "outputs": [],
   "source": [
    "# upt?"
   ]
  },
  {
   "cell_type": "markdown",
   "id": "f00e762e-2dee-43f3-8b6d-cdb63aaade0e",
   "metadata": {},
   "source": [
    "**Clipping**\n",
    "\n",
    "Clipping is a technique to minimize the influence of extreme outliers. In brief, clipping usually caps (reduces) the value of outliers to a specific maximum value. Clipping is a strange idea, and yet, it can be very effective.\n",
    "\n",
    "How can you minimize the influence of those extreme outliers? Well, the histogram is not an even distribution, a normal distribution, or a power law distribution. What if you simply cap or clip the maximum value of roomsPerPerson at an arbitrary value, say 4.0?\n",
    "\n",
    "Clipping the feature value at 4.0 doesn't mean that your model ignores all values greater than 4.0. Rather, it means that all values that were greater than 4.0 now become 4.0. This explains the peculiar hill at 4.0. Despite that hill, the scaled feature set is now more useful than the original data.\n",
    "\n",
    "**Wait a second! Can you really reduce every outlier value to some arbitrary upper threshold? When training a model, yes.**\n",
    "\n",
    "You can also clip values after applying other forms of normalization. For example, suppose you use Z-score scaling, but a few outliers have absolute values far greater than 3. In this case, you could:\n",
    "\n",
    "- Clip Z-scores greater than 3 to become exactly 3.\n",
    "- Clip Z-scores less than -3 to become exactly -3."
   ]
  },
  {
   "cell_type": "code",
   "execution_count": null,
   "id": "d184d2d9-946c-4382-9258-b387b4c8aad5",
   "metadata": {},
   "outputs": [],
   "source": [
    "# clip upt z-scores?"
   ]
  },
  {
   "attachments": {
    "c0358906-bd46-4f3c-bc00-be75b5ce5cc7.png": {
     "image/png": "[encoded data removed]"
    }
   },
   "cell_type": "markdown",
   "id": "5b496506-6f8a-48a0-9367-237a7fd8cacd",
   "metadata": {},
   "source": [
    "**Quantile Bucketing**\n",
    "Quantile bucketing creates bucketing boundaries such that the number of examples in each bucket is exactly or nearly equal. Quantile bucketing mostly hides the outliers.\n",
    "\n",
    "To illustrate the problem that quantile bucketing solves, consider the equally spaced buckets shown in the following figure, where each of the ten buckets represents a span of exactly 10,000 dollars. Notice that the bucket from 0 to 10,000 contains dozens of examples but the bucket from 50,000 to 60,000 contains only 5 examples. Consequently, the model has enough examples to train on the 0 to 10,000 bucket but not enough examples to train on for the 50,000 to 60,000 bucket.\n",
    "\n",
    "In contrast, the following figure uses quantile bucketing to divide car prices into bins with approximately the same number of examples in each bucket. Notice that some of the bins encompass a narrow price span while others encompass a very wide price span.\n",
    "\n",
    "![image.png](attachment:c0358906-bd46-4f3c-bc00-be75b5ce5cc7.png)"
   ]
  },
  {
   "cell_type": "markdown",
   "id": "73ec1783-688a-40d9-9429-8f6fe6601049",
   "metadata": {},
   "source": [
    "## Categorical Data"
   ]
  },
  {
   "attachments": {
    "dc6dd627-840c-4dbc-b69b-e4aeef8684fe.png": {
     "image/png": "[encoded data removed]"
    }
   },
   "cell_type": "markdown",
   "id": "a36611b5-3ebb-4a39-829f-16d42e8b9aa0",
   "metadata": {},
   "source": [
    "The term dimension is a synonym for the number of elements in a feature vector. Some categorical features are low dimensional. For example:\n",
    "\n",
    "![image.png](attachment:dc6dd627-840c-4dbc-b69b-e4aeef8684fe.png)\n",
    "\n",
    "`When a categorical feature has a low number of possible categories, you can encode it as a vocabulary.` With a vocabulary encoding, the model treats each possible categorical value as a separate feature. During training, the model learns different weights for each category.\n",
    "\n",
    "For example, suppose you are creating a model to predict a car's price based, in part, on a categorical feature named car_color. Perhaps red cars are worth more than green cars. Since manufacturers offer a limited number of exterior colors, car_color is a low-dimensional categorical feature. The following illustration suggests a vocabulary (possible values) for car_color:"
   ]
  },
  {
   "cell_type": "code",
   "execution_count": null,
   "id": "9f7554b8-338b-4bfc-b7ad-fc36d8f549cf",
   "metadata": {},
   "outputs": [],
   "source": [
    "# Is the number of unique `modes` considered \"low dimensional\"?\n",
    "\n",
    "# Is the number of unique cities or UZA considered \"high dimensional\"?"
   ]
  },
  {
   "cell_type": "markdown",
   "id": "7b1ba938-c092-4f25-8f16-4df93a9d5f91",
   "metadata": {},
   "source": [
    "**Feature crosses**\n",
    "\n",
    "Feature crosses are created by crossing (taking the Cartesian product of) two or more categorical or bucketed features of the dataset. Like polynomial transforms, feature crosses allow linear models to handle nonlinearities. Feature crosses also encode interactions between features.\n",
    "\n",
    "For example, consider a leaf dataset with the categorical features:\n",
    "\n",
    "- edges, containing values smooth, toothed, and lobed\n",
    "- arrangement, containing values opposite and alternate\n",
    "Assume the order above is the order of the feature columns in a one-hot representation, so that a leaf with smooth edges and opposite arrangement is represented as {(1, 0, 0), (1, 0)}.\n",
    "\n",
    "The feature cross, or Cartesian product, of these two features would be:\n",
    "\n",
    "{Smooth_Opposite, Smooth_Alternate, Toothed_Opposite, Toothed_Alternate, Lobed_Opposite, Lobed_Alternate}\n",
    "\n",
    "where the value of each term is the product of the base feature values, such that:\n",
    "\n",
    "- Smooth_Opposite = edges[0] * arrangement[0]\n",
    "- Smooth_Alternate = edges[0] * arrangement[1]\n",
    "- Toothed_Opposite = edges[1] * arrangement[0]\n",
    "- Toothed_Alternate = edges[1] * arrangement[1]\n",
    "- Lobed_Opposite = edges[2] * arrangement[0]\n",
    "- Lobed_Alternate = edges[2] * arrangement[1]\n",
    "\n",
    "For example, if a leaf has a lobed edge and an alternate arrangement, the feature-cross vector will have a value of 1 for Lobed_Alternate, and a value of 0 for all other terms:\n",
    "\n",
    "`{0, 0, 0, 0, 0, 1}`"
   ]
  },
  {
   "cell_type": "code",
   "execution_count": null,
   "id": "1167dce9-0a1b-474d-b735-a4e180a91e97",
   "metadata": {},
   "outputs": [],
   "source": [
    "# Should we feature-cross mode and service?\n",
    "\n",
    "# Something like \"directly operated - bus\", \"purchased transportation - bus\", \"directly operated - demand response\", \"purchased - demand resonse\"."
   ]
  },
  {
   "cell_type": "markdown",
   "id": "10c583e9-cd44-4d4e-a8c4-e83642d0a531",
   "metadata": {
    "tags": []
   },
   "source": [
    "## Clustering Advance Course Notes\n",
    "\n",
    "To cluster your data, you'll follow these steps:"
   ]
  },
  {
   "cell_type": "markdown",
   "id": "be272dd3-ec6b-4e59-8c82-1dfca720ec63",
   "metadata": {},
   "source": [
    "**1. Prepare data.**\n",
    "\n",
    "you must normalize, scale, and transform feature data before training or fine-tuning a model on that data. In addition, before clustering, check that the prepared data lets you accurately calculate similarity between examples."
   ]
  },
  {
   "cell_type": "markdown",
   "id": "58516ba9-b773-4c1f-997c-10a2ed61d2c7",
   "metadata": {},
   "source": [
    "**2. Create similarity metric.**\n",
    "\n",
    "Before a clustering algorithm can group data, it needs to know how similar pairs of examples are. You can quantify the similarity between examples by creating a similarity metric, which requires a careful understanding of your data."
   ]
  },
  {
   "cell_type": "markdown",
   "id": "67e5ade1-44a9-4d83-a446-7829f7c52ebe",
   "metadata": {},
   "source": [
    "**3. Run clustering algorithm**\n",
    "\n",
    "A clustering algorithm uses the similarity metric to cluster data. Google course uses k-means."
   ]
  },
  {
   "cell_type": "markdown",
   "id": "c0d9a7ac-31d5-4f08-ad52-4c6e3bdbcd10",
   "metadata": {},
   "source": [
    "**4. Interpret results and adjust your clustering.**\n",
    "\n",
    "Because clustering doesn't produce or include a ground \"truth\" against which you can verify the output, it's important to check the result against your expectations at both the cluster level and the example level. If the result looks odd or low-quality, experiment with the previous three steps. Continue iterating until the quality of the output meets your needs."
   ]
  },
  {
   "cell_type": "markdown",
   "id": "78d8815b-c7ea-445c-8fb3-b3fe983fe994",
   "metadata": {},
   "source": [
    "### Normalizing - Log transforms\n",
    "\n",
    "When a dataset perfectly conforms to a power law distribution, `where data is heavily clumped at the lowest values`, **use a log transform**. See [Log scaling](https://developers.google.com/machine-learning/crash-course/numerical-data/normalization#log_scaling) to review the steps"
   ]
  },
  {
   "cell_type": "markdown",
   "id": "4405a29d-7981-47f1-8780-256c71850d41",
   "metadata": {},
   "source": [
    "---"
   ]
  },
  {
   "cell_type": "markdown",
   "id": "6a627aed-d00c-4069-a139-aefb6602063b",
   "metadata": {},
   "source": [
    "# Knowledge Check"
   ]
  },
  {
   "cell_type": "code",
   "execution_count": 1,
   "id": "b0fabe39-aabc-4d99-a57d-eb2b72c31762",
   "metadata": {
    "tags": []
   },
   "outputs": [],
   "source": [
    "import pandas as pd\n",
    "\n",
    "pd.set_option(\"display.max_rows\", None)\n",
    "pd.set_option(\"display.max_columns\", None)"
   ]
  },
  {
   "cell_type": "markdown",
   "id": "2e977557-1e1e-4444-94ff-3a4e874d80cc",
   "metadata": {},
   "source": [
    "## read in data"
   ]
  },
  {
   "cell_type": "code",
   "execution_count": null,
   "id": "c1f8b31b-79d6-419c-a749-8259534b868f",
   "metadata": {
    "tags": []
   },
   "outputs": [],
   "source": [
    "# transit_metrics = pd.read_parquet(\n",
    "#     f\"gs://calitp-analytics-data/data-analyses/ntd/raw_transit_performance_metrics_data.parquet\"\n",
    "# )"
   ]
  },
  {
   "cell_type": "code",
   "execution_count": null,
   "id": "9243e22a-051b-45cf-8a49-24ac0ce91678",
   "metadata": {
    "tags": []
   },
   "outputs": [],
   "source": [
    "# transit_metrics.head()\n",
    "# grain: each row is agency, mode, service per year"
   ]
  },
  {
   "cell_type": "markdown",
   "id": "96fb7fb3-f361-45a9-968f-45447ddf3211",
   "metadata": {},
   "source": [
    "## Test querying NTD data from warehouse\n",
    "I queried data from `mart_ntd_funding_and_expenses.fct_service_data_and_operating_expenses_time_series_by_mode_{metric}`\n"
   ]
  },
  {
   "cell_type": "code",
   "execution_count": 2,
   "id": "ebfe32b2-3340-42fa-aca6-d0ea5e100802",
   "metadata": {},
   "outputs": [],
   "source": [
    "from calitp_data_analysis.sql import get_engine"
   ]
  },
  {
   "cell_type": "code",
   "execution_count": 3,
   "id": "04f1ab19-c353-42ae-a31a-9169855ff61f",
   "metadata": {},
   "outputs": [],
   "source": [
    "db_engine = get_engine()\n",
    "\n",
    "metric_list = [\n",
    "    # \"pmt\",\n",
    "    \"upt\",\n",
    "    \"vrh\",\n",
    "    \"opexp_total\",\n",
    "]\n",
    "\n",
    "# empty list for appending DFs\n",
    "df_list = []\n",
    "with db_engine.connect() as connection:\n",
    "    for metric in metric_list:\n",
    "        query = f\"\"\"\n",
    "        SELECT\n",
    "          ntd_id,\n",
    "          source_agency,\n",
    "          agency_status,\n",
    "          primary_uza_name,\n",
    "          uza_population,\n",
    "          uza_area_sq_miles,\n",
    "          year,\n",
    "          SUM({metric}) AS total_{metric},\n",
    "        FROM\n",
    "          `cal-itp-data-infra.mart_ntd_funding_and_expenses.fct_service_data_and_operating_expenses_time_series_by_mode_{metric}`\n",
    "        WHERE\n",
    "          source_state = \"CA\"\n",
    "          AND year >= 2018\n",
    "        GROUP BY\n",
    "          ntd_id,\n",
    "          source_agency,\n",
    "          agency_status,\n",
    "          year,\n",
    "          primary_uza_name,\n",
    "          uza_population,\n",
    "          uza_area_sq_miles\n",
    "        \"\"\"\n",
    "        # create df\n",
    "        metric = pd.read_sql(query, connection)\n",
    "\n",
    "        # append df to list\n",
    "        df_list.append(metric)\n",
    "\n",
    "# unpack list into separate DFs\n",
    "ntd_upt, ntd_vrh, ntd_opex = df_list"
   ]
  },
  {
   "cell_type": "code",
   "execution_count": 18,
   "id": "0ebaf087-1e31-42be-a988-ef33851a7a00",
   "metadata": {},
   "outputs": [],
   "source": [
    "merge_on_col = [\n",
    "    \"ntd_id\",\n",
    "    \"year\",\n",
    "    \"source_agency\",\n",
    "    \"agency_status\",\n",
    "    \"primary_uza_name\",\n",
    "    \"uza_population\",\n",
    "    \"uza_area_sq_miles\",\n",
    "]\n",
    "merge_1 = ntd_opex.merge(ntd_upt, on=merge_on_col, how=\"inner\")\n",
    "\n",
    "ntd_metrics_merge = merge_1.merge(ntd_vrh, on=merge_on_col, how=\"inner\")"
   ]
  },
  {
   "cell_type": "code",
   "execution_count": 5,
   "id": "d372c4fb-3c11-4861-80d6-6385150b522d",
   "metadata": {},
   "outputs": [
    {
     "name": "stdout",
     "output_type": "stream",
     "text": [
      "<class 'pandas.core.frame.DataFrame'>\n",
      "Int64Index: 1614 entries, 0 to 1613\n",
      "Data columns (total 10 columns):\n",
      " #   Column             Non-Null Count  Dtype  \n",
      "---  ------             --------------  -----  \n",
      " 0   ntd_id             1524 non-null   object \n",
      " 1   source_agency      1614 non-null   object \n",
      " 2   agency_status      1614 non-null   object \n",
      " 3   primary_uza_name   1614 non-null   object \n",
      " 4   uza_population     1614 non-null   int64  \n",
      " 5   uza_area_sq_miles  1614 non-null   float64\n",
      " 6   year               1614 non-null   int64  \n",
      " 7   total_opexp_total  1291 non-null   float64\n",
      " 8   total_upt          1291 non-null   float64\n",
      " 9   total_vrh          1291 non-null   float64\n",
      "dtypes: float64(4), int64(2), object(4)\n",
      "memory usage: 138.7+ KB\n"
     ]
    }
   ],
   "source": [
    "ntd_metrics_merge.info()"
   ]
  },
  {
   "cell_type": "markdown",
   "id": "53d4b2ff-1daf-4ca8-b5bf-ad1edd6e6c0c",
   "metadata": {},
   "source": [
    "## Check correlation matrix"
   ]
  },
  {
   "cell_type": "code",
   "execution_count": 19,
   "id": "0e143964-1bcd-4183-b6ac-d97fb0ddfeb8",
   "metadata": {
    "tags": []
   },
   "outputs": [
    {
     "name": "stderr",
     "output_type": "stream",
     "text": [
      "/tmp/ipykernel_3002/3336924516.py:1: FutureWarning: The default value of numeric_only in DataFrame.corr is deprecated. In a future version, it will default to False. Select only valid columns or specify the value of numeric_only to silence this warning.\n",
      "  ntd_metrics_merge.corr().round(5)\n"
     ]
    },
    {
     "data": {
      "text/html": [
       "<div>\n",
       "<style scoped>\n",
       "    .dataframe tbody tr th:only-of-type {\n",
       "        vertical-align: middle;\n",
       "    }\n",
       "\n",
       "    .dataframe tbody tr th {\n",
       "        vertical-align: top;\n",
       "    }\n",
       "\n",
       "    .dataframe thead th {\n",
       "        text-align: right;\n",
       "    }\n",
       "</style>\n",
       "<table border=\"1\" class=\"dataframe\">\n",
       "  <thead>\n",
       "    <tr style=\"text-align: right;\">\n",
       "      <th></th>\n",
       "      <th>uza_population</th>\n",
       "      <th>uza_area_sq_miles</th>\n",
       "      <th>year</th>\n",
       "      <th>total_opexp_total</th>\n",
       "      <th>total_upt</th>\n",
       "      <th>total_vrh</th>\n",
       "    </tr>\n",
       "  </thead>\n",
       "  <tbody>\n",
       "    <tr>\n",
       "      <th>uza_population</th>\n",
       "      <td>1.00000</td>\n",
       "      <td>0.91468</td>\n",
       "      <td>-0.00000</td>\n",
       "      <td>0.04806</td>\n",
       "      <td>0.05685</td>\n",
       "      <td>0.05212</td>\n",
       "    </tr>\n",
       "    <tr>\n",
       "      <th>uza_area_sq_miles</th>\n",
       "      <td>0.91468</td>\n",
       "      <td>1.00000</td>\n",
       "      <td>0.00000</td>\n",
       "      <td>0.09433</td>\n",
       "      <td>0.09016</td>\n",
       "      <td>0.11040</td>\n",
       "    </tr>\n",
       "    <tr>\n",
       "      <th>year</th>\n",
       "      <td>-0.00000</td>\n",
       "      <td>0.00000</td>\n",
       "      <td>1.00000</td>\n",
       "      <td>0.01449</td>\n",
       "      <td>-0.03830</td>\n",
       "      <td>-0.01323</td>\n",
       "    </tr>\n",
       "    <tr>\n",
       "      <th>total_opexp_total</th>\n",
       "      <td>0.04806</td>\n",
       "      <td>0.09433</td>\n",
       "      <td>0.01449</td>\n",
       "      <td>1.00000</td>\n",
       "      <td>0.93171</td>\n",
       "      <td>0.96170</td>\n",
       "    </tr>\n",
       "    <tr>\n",
       "      <th>total_upt</th>\n",
       "      <td>0.05685</td>\n",
       "      <td>0.09016</td>\n",
       "      <td>-0.03830</td>\n",
       "      <td>0.93171</td>\n",
       "      <td>1.00000</td>\n",
       "      <td>0.92816</td>\n",
       "    </tr>\n",
       "    <tr>\n",
       "      <th>total_vrh</th>\n",
       "      <td>0.05212</td>\n",
       "      <td>0.11040</td>\n",
       "      <td>-0.01323</td>\n",
       "      <td>0.96170</td>\n",
       "      <td>0.92816</td>\n",
       "      <td>1.00000</td>\n",
       "    </tr>\n",
       "  </tbody>\n",
       "</table>\n",
       "</div>"
      ],
      "text/plain": [
       "                   uza_population  uza_area_sq_miles     year  \\\n",
       "uza_population            1.00000            0.91468 -0.00000   \n",
       "uza_area_sq_miles         0.91468            1.00000  0.00000   \n",
       "year                     -0.00000            0.00000  1.00000   \n",
       "total_opexp_total         0.04806            0.09433  0.01449   \n",
       "total_upt                 0.05685            0.09016 -0.03830   \n",
       "total_vrh                 0.05212            0.11040 -0.01323   \n",
       "\n",
       "                   total_opexp_total  total_upt  total_vrh  \n",
       "uza_population               0.04806    0.05685    0.05212  \n",
       "uza_area_sq_miles            0.09433    0.09016    0.11040  \n",
       "year                         0.01449   -0.03830   -0.01323  \n",
       "total_opexp_total            1.00000    0.93171    0.96170  \n",
       "total_upt                    0.93171    1.00000    0.92816  \n",
       "total_vrh                    0.96170    0.92816    1.00000  "
      ]
     },
     "execution_count": 19,
     "metadata": {},
     "output_type": "execute_result"
    }
   ],
   "source": [
    "ntd_metrics_merge.corr().round(5)"
   ]
  },
  {
   "cell_type": "markdown",
   "id": "c5db2ae6-5144-45a7-8e56-7fa0b3473e25",
   "metadata": {},
   "source": [
    "Pairwise variables with high correlation\n",
    "- opex & upt: 0.93 \n",
    "- opex & vrh: 0.96\n",
    "- upt & vrh: 0.92"
   ]
  },
  {
   "cell_type": "markdown",
   "id": "cc36a2ba-839c-40a7-84d7-ced27b65f9d6",
   "metadata": {},
   "source": [
    "## Classify feature columns"
   ]
  },
  {
   "cell_type": "code",
   "execution_count": 7,
   "id": "ac85daae-ea8a-41db-88bd-317675f8d551",
   "metadata": {
    "tags": []
   },
   "outputs": [
    {
     "data": {
      "text/plain": [
       "['ntd_id',\n",
       " 'source_agency',\n",
       " 'agency_status',\n",
       " 'primary_uza_name',\n",
       " 'uza_population',\n",
       " 'uza_area_sq_miles',\n",
       " 'year',\n",
       " 'total_opexp_total',\n",
       " 'total_upt',\n",
       " 'total_vrh']"
      ]
     },
     "metadata": {},
     "output_type": "display_data"
    }
   ],
   "source": [
    "display(\n",
    "    # list(transit_metrics.columns),\n",
    "    list(ntd_metrics_merge.columns)\n",
    ")"
   ]
  },
  {
   "cell_type": "code",
   "execution_count": null,
   "id": "2e90f2a3-2627-4e38-8047-ede9f2ece599",
   "metadata": {
    "tags": []
   },
   "outputs": [],
   "source": [
    "# Feature groups\n",
    "id_cols = [  # exclude from clustering\n",
    "    \"agency_name\",\n",
    "    \"city\",\n",
    "    \"ntd_id\",\n",
    "    \"state\",\n",
    "    \"primary_uza_name\",\n",
    "    \"RTPA\",\n",
    "    \"reporter_type\",  # maybe move to categorical\n",
    "]\n",
    "\n",
    "categorical_cols = [\"mode\", \"service\"]  # include in clustering  # 15 unique values  # 4\n",
    "\n",
    "numerical_cols = [\"upt\", \"vrh\", \"vrm\", \"opexp_total\"]  # include in clustering\n",
    "\n",
    "other_cols = [  # exclude in clustering\n",
    "    \"agency_status\" \"year\",\n",
    "    \"reporting_module\",\n",
    "    \"_merge\",\n",
    "]"
   ]
  },
  {
   "cell_type": "code",
   "execution_count": null,
   "id": "9ad0c6a1-d35d-4e1f-b2d9-57322ac33f43",
   "metadata": {
    "tags": []
   },
   "outputs": [],
   "source": [
    "ntd_metrics_merge[\n",
    "    [\n",
    "        \"total_opexp_total\",\n",
    "        \"total_upt\",\n",
    "        \"total_vrh\",\n",
    "        \"uza_area_sq_miles\",\n",
    "        \"uza_population\",\n",
    "    ]\n",
    "].corr()"
   ]
  },
  {
   "cell_type": "markdown",
   "id": "416983b6-5390-4d81-9afc-7d8d5eb136d5",
   "metadata": {},
   "source": [
    "## 2. Mode & Service"
   ]
  },
  {
   "cell_type": "markdown",
   "id": "5b027fb2-79a1-4fec-b242-8e00183fc7f8",
   "metadata": {},
   "source": [
    "### Unique `Mode` sub-categories\n",
    "Previous research papers categorized mode by have/not have \"dedicated right of way\"/ \"fixed guideway\"."
   ]
  },
  {
   "cell_type": "code",
   "execution_count": null,
   "id": "a7fa6cad-373c-4579-b53e-5b939791db9f",
   "metadata": {
    "tags": []
   },
   "outputs": [],
   "source": [
    "display(\n",
    "    list(transit_metrics[\"mode\"].unique()),\n",
    "    # list(ntd_metrics_merge[\"mode\"].unique()) # no mode columns in the ntd merge\n",
    ")"
   ]
  },
  {
   "cell_type": "code",
   "execution_count": null,
   "id": "c90d6420-db63-4661-9711-7c07fe9df006",
   "metadata": {
    "editable": true,
    "slideshow": {
     "slide_type": ""
    },
    "tags": []
   },
   "outputs": [],
   "source": [
    "fixed_guideway = [\n",
    "    \"Streetcar\",\n",
    "    \"Heavy Rail\",\n",
    "    \"Hybrid Rail\",\n",
    "    \"Commuter Rail\",\n",
    "    \"Cablecar\",\n",
    "    \"Light Rail\",\n",
    "]\n",
    "\n",
    "other = [\"Trolleybus\", \"Ferryboats\"]\n",
    "\n",
    "nonfixed_guideway = [\n",
    "    \"Demand Response\",\n",
    "    \"Bus\",\n",
    "    \"Demand Response Taxi\",\n",
    "    \"Commuter Bus\",\n",
    "    \"Vanpool\",\n",
    "    \"Bus Rapid Transit\",\n",
    "    \"Monorail / Automated Guideway\",\n",
    "]"
   ]
  },
  {
   "cell_type": "markdown",
   "id": "ab780bd8-5fed-47eb-bed5-0ee34192cd3f",
   "metadata": {
    "tags": []
   },
   "source": [
    "### testing what the dataframe will look like if you separate fixed from nonfixed guideway"
   ]
  },
  {
   "cell_type": "code",
   "execution_count": null,
   "id": "922db13f-1e15-4462-8196-1f43da6aa4a4",
   "metadata": {
    "tags": []
   },
   "outputs": [],
   "source": [
    "fixed_guideway_df = transit_metrics[transit_metrics[\"mode\"].isin(fixed_guideway)]\n",
    "\n",
    "nonfixed_guideway_df = transit_metrics[transit_metrics[\"mode\"].isin(nonfixed_guideway)]"
   ]
  },
  {
   "cell_type": "code",
   "execution_count": null,
   "id": "5ade78eb-fea8-4259-9343-d65660e207b7",
   "metadata": {
    "tags": []
   },
   "outputs": [],
   "source": [
    "display(\n",
    "    fixed_guideway_df.shape,  # 97 rows\n",
    "    nonfixed_guideway_df.shape,  # 1973 rows\n",
    "    fixed_guideway_df.describe(),\n",
    "    nonfixed_guideway_df.describe(),\n",
    ")"
   ]
  },
  {
   "cell_type": "markdown",
   "id": "f5af5043-99a3-44bf-803a-4afd7ecfe6e6",
   "metadata": {
    "tags": []
   },
   "source": [
    "### Unique `Service` values"
   ]
  },
  {
   "cell_type": "code",
   "execution_count": null,
   "id": "f744a560-8d65-400a-b78b-54bc99eb0055",
   "metadata": {
    "tags": []
   },
   "outputs": [],
   "source": [
    "service_pt_do = [\n",
    "    \"Purchased Transportation\",\n",
    "    \"Directly Operated\",\n",
    "]\n",
    "\n",
    "service_other = [\n",
    "    \"Purchased Transportation - Taxi\",\n",
    "    \"Purchased Transportation - Transportation Network Company\",\n",
    "]"
   ]
  },
  {
   "cell_type": "code",
   "execution_count": null,
   "id": "23a4371a-bc13-44ca-b0a1-b1d565c58cde",
   "metadata": {
    "tags": []
   },
   "outputs": [],
   "source": [
    "display(\n",
    "    fixed_guideway_df[\"service\"].value_counts(),\n",
    "    nonfixed_guideway_df[\"service\"].value_counts(),\n",
    ")"
   ]
  },
  {
   "cell_type": "code",
   "execution_count": null,
   "id": "32e95ac3-d10c-4952-a4eb-8c0e8afe135e",
   "metadata": {
    "tags": []
   },
   "outputs": [],
   "source": [
    "# Which agneices have these other service types?\n",
    "nonfixed_guideway_df[nonfixed_guideway_df[\"service\"].isin(service_other)][\n",
    "    \"agency_name\"\n",
    "].unique()"
   ]
  },
  {
   "cell_type": "markdown",
   "id": "7528b279-3529-4bf4-bde0-b0dbf2940957",
   "metadata": {},
   "source": [
    "**RE: what to do with service columns**\n",
    "\n",
    "- The majority of rows are either Purchased Transportation or Directly Operated. close to a binary response so i think one-hot encode would be the best option.\n",
    "- Maybe consider removing the PT taxi and PT transportation netwok since there is a low count of rows"
   ]
  },
  {
   "cell_type": "markdown",
   "id": "78bb084c-f8b7-40b2-83b7-143674114a9d",
   "metadata": {},
   "source": [
    "## 3. \"Flattening\" data\n",
    "If we group by only Agency (flattening, fewer rows), how do we aggregate the other classification variables before we normalize them? Is adding sufficient? Do we need to average any?"
   ]
  },
  {
   "cell_type": "code",
   "execution_count": null,
   "id": "ce8cd378-e6d3-4606-b4ad-040a5d7d00d2",
   "metadata": {},
   "outputs": [],
   "source": [
    "# agg the numerical row, end with each row being an agency\n",
    "group_id_cols = (\n",
    "    transit_metrics.groupby(id_cols)\n",
    "    .agg({col: \"sum\" for col in numerical_cols})\n",
    "    .reset_index()\n",
    ")\n",
    "\n",
    "# agg the numerical row, end with each row being a uniqu agency/mode/service\n",
    "group_id_mode_service = (\n",
    "    transit_metrics.groupby(id_cols + [\"mode\", \"service\"])\n",
    "    .agg({col: \"sum\" for col in numerical_cols})\n",
    "    .reset_index()\n",
    ")\n",
    "\n",
    "# agg the numerical row, end with each row being an agency\n",
    "group_cat_cols = (\n",
    "    transit_metrics.groupby(categorical_cols)\n",
    "    .agg({col: \"sum\" for col in numerical_cols})\n",
    "    .reset_index()\n",
    ")"
   ]
  },
  {
   "cell_type": "code",
   "execution_count": null,
   "id": "e58b2b25-c192-40cb-84cf-a4bab1b0b1e2",
   "metadata": {},
   "outputs": [],
   "source": [
    "# double checking aggregation works\n",
    "(\n",
    "    transit_metrics[transit_metrics[\"ntd_id\"] == \"90211\"][\"opexp_total\"].sum()\n",
    "    == group_id_cols[group_id_cols[\"ntd_id\"] == \"90211\"][\"opexp_total\"].sum(),\n",
    "    transit_metrics[transit_metrics[\"mode\"] == \"Bus\"][\"opexp_total\"].sum()\n",
    "    == group_cat_cols[group_cat_cols[\"mode\"] == \"Bus\"][\"opexp_total\"].sum(),\n",
    ")"
   ]
  },
  {
   "cell_type": "code",
   "execution_count": null,
   "id": "d9df4f18-573a-4590-967e-144937952d01",
   "metadata": {},
   "outputs": [],
   "source": [
    "display(\n",
    "    \"group_id\",\n",
    "    group_id_cols.shape,\n",
    "    # group_id_cols[\"service\"].value_counts(),\n",
    "    group_id_cols.head(),\n",
    "    \"group_id_mode_service\",\n",
    "    group_id_mode_service.shape,\n",
    "    group_id_mode_service[\"service\"].value_counts(),\n",
    "    group_id_mode_service.head(),\n",
    ")"
   ]
  },
  {
   "cell_type": "code",
   "execution_count": null,
   "id": "638a0797-2c20-4d9a-8409-2982dbbbedee",
   "metadata": {},
   "outputs": [],
   "source": [
    "display(\"group_cat\", group_cat_cols.shape, group_cat_cols.head())"
   ]
  },
  {
   "cell_type": "markdown",
   "id": "a240d983-269d-43ca-a281-2595a34d4f26",
   "metadata": {},
   "source": [
    "### compared to `ntd_metrics_merge`"
   ]
  },
  {
   "cell_type": "code",
   "execution_count": null,
   "id": "0226e32c-9703-4a61-b92e-21a3c348b178",
   "metadata": {},
   "outputs": [],
   "source": [
    "ntd_metrics_merge.head()"
   ]
  },
  {
   "cell_type": "code",
   "execution_count": null,
   "id": "3e100df3-f46a-4236-88d4-7a843a971a46",
   "metadata": {},
   "outputs": [],
   "source": [
    "group_id_cols[group_id_cols[\"ntd_id\"] == \"90211\"][\n",
    "    \"opexp_total\"\n",
    "].sum() == ntd_metrics_merge[ntd_metrics_merge[\"ntd_id\"] == \"90211\"][\n",
    "    \"total_opexp_total\"\n",
    "].sum()"
   ]
  },
  {
   "cell_type": "markdown",
   "id": "abe599ba-5923-4704-b0ca-b77ddce20a39",
   "metadata": {
    "tags": []
   },
   "source": [
    "For an aggregated dataset, we can use the queried ntd data"
   ]
  },
  {
   "cell_type": "code",
   "execution_count": null,
   "id": "109a4df3-8929-400a-bd41-10b285d30c88",
   "metadata": {},
   "outputs": [],
   "source": [
    "merge_group = (\n",
    "    ntd_metrics_merge.groupby(\n",
    "        [\n",
    "            \"ntd_id\",\n",
    "            \"source_agency\",\n",
    "            \"primary_uza_name\",\n",
    "            \"uza_population\",\n",
    "            \"uza_area_sq_miles\",\n",
    "        ]\n",
    "    )\n",
    "    .agg({\"total_opexp_total\": \"sum\", \"total_upt\": \"sum\", \"total_vrh\": \"sum\"})\n",
    "    .reset_index()\n",
    ")"
   ]
  },
  {
   "cell_type": "code",
   "execution_count": null,
   "id": "7d9c4437-e116-4a50-b39c-4b51104bd257",
   "metadata": {},
   "outputs": [],
   "source": [
    "merge_group.head()"
   ]
  },
  {
   "cell_type": "code",
   "execution_count": null,
   "id": "1a47cd7d-2268-4705-b5e8-65b7a2918519",
   "metadata": {
    "tags": []
   },
   "outputs": [],
   "source": [
    "group_id_cols[group_id_cols[\"ntd_id\"] == \"90211\"][\"opexp_total\"].sum() == merge_group[\n",
    "    merge_group[\"ntd_id\"] == \"90211\"\n",
    "][\"total_opexp_total\"].sum()"
   ]
  },
  {
   "cell_type": "markdown",
   "id": "2dda8c14-f784-4191-a6b5-32ed4693293d",
   "metadata": {
    "jp-MarkdownHeadingCollapsed": true,
    "tags": []
   },
   "source": [
    "**This establishes we can aggregate up to just agecny level data.**"
   ]
  },
  {
   "cell_type": "markdown",
   "id": "1490de37-265c-4caf-bd85-aecffd3c59c5",
   "metadata": {},
   "source": [
    "# Are there ways to get more interactive/easy-to-read visualizations?\n",
    "If it takes significant time, break this one out"
   ]
  },
  {
   "cell_type": "code",
   "execution_count": null,
   "id": "8d1c477b-6726-426b-b021-b133601c0dc1",
   "metadata": {
    "tags": []
   },
   "outputs": [],
   "source": [
    "import plotly.express as px"
   ]
  },
  {
   "cell_type": "code",
   "execution_count": null,
   "id": "a8809a58-c741-4ba2-aa9c-174b9d5c480d",
   "metadata": {
    "tags": []
   },
   "outputs": [],
   "source": [
    "group_id_mode_service.columns"
   ]
  },
  {
   "cell_type": "code",
   "execution_count": null,
   "id": "b55b1b60-01c6-4699-8646-15d938dcfab7",
   "metadata": {},
   "outputs": [],
   "source": [
    "# @title Plot three features in 3D by entering their names and running this cell\n",
    "\n",
    "x_axis_data = \"upt\"\n",
    "y_axis_data = \"vrh\"\n",
    "z_axis_data = \"vrm\"\n",
    "\n",
    "px.scatter_3d(\n",
    "    group_id_mode_service,\n",
    "    x=x_axis_data,\n",
    "    y=y_axis_data,\n",
    "    z=z_axis_data,\n",
    "    color=\"service\",\n",
    "    width=1000,\n",
    "    height=600,\n",
    ").show()"
   ]
  },
  {
   "cell_type": "code",
   "execution_count": null,
   "id": "1621815c-8aea-4262-9627-2cf55e7bb6c8",
   "metadata": {},
   "outputs": [],
   "source": []
  }
 ],
 "metadata": {
  "kernelspec": {
   "display_name": "Python 3 (ipykernel)",
   "language": "python",
   "name": "python3"
  },
  "language_info": {
   "codemirror_mode": {
    "name": "ipython",
    "version": 3
   },
   "file_extension": ".py",
   "mimetype": "text/x-python",
   "name": "python",
   "nbconvert_exporter": "python",
   "pygments_lexer": "ipython3",
   "version": "3.11.10"
  }
 },
 "nbformat": 4,
 "nbformat_minor": 5
}
