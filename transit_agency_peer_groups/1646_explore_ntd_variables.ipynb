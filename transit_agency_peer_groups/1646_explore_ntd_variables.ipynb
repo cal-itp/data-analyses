{
 "cells": [
  {
   "cell_type": "markdown",
   "id": "854da103-62e6-4aa6-a0a2-9f2df7819f32",
   "metadata": {
    "tags": []
   },
   "source": [
    "# [Refine Use of Explored NTD Variables #1646](https://github.com/cal-itp/data-analyses/issues/1646)\n",
    "\n",
    "Question or Goal:\n",
    "\n",
    "1. **COMPLETE** Mode & Service: We previously used these to define the grain of the data. These should be used for classifying/model-fitting.\n",
    "    - There are many modes: Can we group modes so there are fewer of them (e.g. fixed-guideway vs not)? Too many dummy variables for a category leads to overfitting/too many clusters.\n",
    "    - What's the best way to use Service? Is it as a dummy variable? Is it numeric \"proportion of service(VRH or M)\" that's directly operated? Explore the impacts of both.\n",
    "\n",
    "2. ~~If we group by only Agency (flattening, fewer rows), how do we aggregate the other classification variables before we normalize them? Is adding sufficient? Do we need to average any?~~\n",
    "    - Work continuing on isue #1683\n",
    "\n",
    "3. Are there ways to get more interactive/easy-to-read visualizations?\n",
    "    - If it takes significant time, break this one out"
   ]
  },
  {
   "cell_type": "markdown",
   "id": "3754fc0d-3a7d-4755-af73-51f412ffbc7a",
   "metadata": {},
   "source": [
    "## Terms\n",
    "**Example**:\n",
    "- You could think of an example as analogous to a `single row` in a spreadsheet.\n",
    "\n",
    "**Feature**:\n",
    "- Features are the values that a supervised model uses to predict the label.\n",
    "- In a weather model that predicts rainfall, the features could be `latitude, longitude, temperature, humidity, cloud coverage, wind direction, and atmospheric pressure`.\n",
    "- An input variable to a machine learning model. An example consists of one or more features. For instance, suppose you are training a model to determine the influence of weather conditions on student test scores. The following table shows three examples, each of which contains three features and one label:\n",
    "\n",
    "**Label**:\n",
    "- The label is the \"answer,\" or the value we want the model to predict.\n",
    "- In a weather model that predicts rainfall, the label would be `rainfall amount`.\n",
    "- In supervised machine learning, the \"answer\" or \"result\" portion of an example. Each labeled example consists of one or more features and a label. For example, in a spam detection dataset, the label would probably be either \"spam\" or \"not spam.\" In a rainfall dataset, the label might be the amount of rain that fell during a certain period."
   ]
  },
  {
   "cell_type": "markdown",
   "id": "4405a29d-7981-47f1-8780-256c71850d41",
   "metadata": {},
   "source": [
    "---"
   ]
  },
  {
   "cell_type": "markdown",
   "id": "6a627aed-d00c-4069-a139-aefb6602063b",
   "metadata": {},
   "source": [
    "# Knowledge Check"
   ]
  },
  {
   "cell_type": "code",
   "execution_count": 88,
   "id": "b0fabe39-aabc-4d99-a57d-eb2b72c31762",
   "metadata": {
    "tags": []
   },
   "outputs": [],
   "source": [
    "import sys\n",
    "import altair as alt\n",
    "import pandas as pd\n",
    "\n",
    "sys.path.append(\"../ntd/monthly_ridership_report\")\n",
    "from update_vars import GCS_FILE_PATH, NTD_MODES, NTD_TOS\n",
    "\n",
    "pd.set_option(\"display.max_rows\", None)\n",
    "pd.set_option(\"display.max_columns\", None)"
   ]
  },
  {
   "cell_type": "markdown",
   "id": "96fb7fb3-f361-45a9-968f-45447ddf3211",
   "metadata": {},
   "source": [
    "## Test querying NTD data from warehouse\n",
    "I queried data from `mart_ntd_funding_and_expenses.fct_service_data_and_operating_expenses_time_series_by_mode_{metric}`\n"
   ]
  },
  {
   "cell_type": "code",
   "execution_count": 2,
   "id": "ebfe32b2-3340-42fa-aca6-d0ea5e100802",
   "metadata": {},
   "outputs": [],
   "source": [
    "from calitp_data_analysis.sql import get_engine"
   ]
  },
  {
   "cell_type": "code",
   "execution_count": 18,
   "id": "0b81290e-dd3b-4fda-9eaa-ff8e043cbea4",
   "metadata": {},
   "outputs": [],
   "source": [
    "db_engine = get_engine()\n",
    "\n",
    "with db_engine.connect() as connection:\n",
    "    # including mode and service will make the table bigger, and would need another aggregation to get yearly totals\n",
    "    query = f\"\"\"\n",
    "        SELECT\n",
    "          upt.ntd_id,\n",
    "          upt.source_agency,\n",
    "          upt.agency_status,\n",
    "          upt.city,\n",
    "          upt.primary_uza_name,\n",
    "          upt.uza_population,\n",
    "          upt.uza_area_sq_miles,\n",
    "          upt.year,\n",
    "          upt.mode,\n",
    "          upt.service,\n",
    "          upt.reporter_type,\n",
    "          SUM(upt.upt) AS total_upt,\n",
    "          SUM(voms.voms) AS total_voms,\n",
    "          SUM(vrh.vrh) AS total_vrh,\n",
    "          SUM(vrm.vrm) AS total_vrm,\n",
    "          SUM(opexp_total.opexp_total) AS opexp_total\n",
    "        FROM\n",
    "          cal-itp-data-infra.mart_ntd_funding_and_expenses.fct_service_data_and_operating_expenses_time_series_by_mode_upt AS upt\n",
    "        INNER JOIN\n",
    "          cal-itp-data-infra.mart_ntd_funding_and_expenses.fct_service_data_and_operating_expenses_time_series_by_mode_voms AS voms\n",
    "        ON\n",
    "          upt.ntd_id = voms.ntd_id\n",
    "          AND upt.year = voms.year\n",
    "          AND upt.source_agency = voms.source_agency\n",
    "          AND upt.agency_status = voms.agency_status\n",
    "          AND upt.primary_uza_name = voms.primary_uza_name\n",
    "          AND upt.uza_population = voms.uza_population\n",
    "          AND upt.uza_area_sq_miles = voms.uza_area_sq_miles\n",
    "        INNER JOIN\n",
    "          cal-itp-data-infra.mart_ntd_funding_and_expenses.fct_service_data_and_operating_expenses_time_series_by_mode_vrh AS vrh\n",
    "        ON\n",
    "          upt.ntd_id = vrh.ntd_id\n",
    "          AND upt.year = vrh.year\n",
    "          AND upt.source_agency = vrh.source_agency\n",
    "          AND upt.agency_status = vrh.agency_status\n",
    "          AND upt.primary_uza_name = vrh.primary_uza_name\n",
    "          AND upt.uza_population = vrh.uza_population\n",
    "          AND upt.uza_area_sq_miles = vrh.uza_area_sq_miles\n",
    "        INNER JOIN\n",
    "          cal-itp-data-infra.mart_ntd_funding_and_expenses.fct_service_data_and_operating_expenses_time_series_by_mode_vrm AS vrm\n",
    "        ON\n",
    "          upt.ntd_id = vrm.ntd_id\n",
    "          AND upt.year = vrm.year\n",
    "          AND upt.source_agency = vrm.source_agency\n",
    "          AND upt.agency_status = vrm.agency_status\n",
    "          AND upt.primary_uza_name = vrm.primary_uza_name\n",
    "          AND upt.uza_population = vrm.uza_population\n",
    "          AND upt.uza_area_sq_miles = vrm.uza_area_sq_miles\n",
    "        INNER JOIN\n",
    "          cal-itp-data-infra.mart_ntd_funding_and_expenses.fct_service_data_and_operating_expenses_time_series_by_mode_opexp_total AS opexp_total\n",
    "        ON\n",
    "          upt.ntd_id = opexp_total.ntd_id\n",
    "          AND upt.year = opexp_total.year\n",
    "          AND upt.source_agency = opexp_total.source_agency\n",
    "          AND upt.agency_status = opexp_total.agency_status\n",
    "          AND upt.primary_uza_name = opexp_total.primary_uza_name\n",
    "          AND upt.uza_population = opexp_total.uza_population\n",
    "          AND upt.uza_area_sq_miles = opexp_total.uza_area_sq_miles\n",
    "        WHERE\n",
    "          upt.source_state = \"CA\"\n",
    "          AND upt.year >= 2018\n",
    "        GROUP BY\n",
    "          upt.ntd_id,\n",
    "          upt.source_agency,\n",
    "          upt.agency_status,\n",
    "          upt.city,\n",
    "          upt.year,\n",
    "          upt.primary_uza_name,\n",
    "          upt.uza_population,\n",
    "          upt.uza_area_sq_miles,\n",
    "          upt.mode,\n",
    "          upt.service,\n",
    "          upt.reporter_type\n",
    "        \"\"\"\n",
    "    # create df\n",
    "    raw_ntd_metrics_merge = pd.read_sql(query, connection)"
   ]
  },
  {
   "cell_type": "code",
   "execution_count": 19,
   "id": "f930dee6-b23c-410d-b4d8-081a50b42f45",
   "metadata": {
    "tags": []
   },
   "outputs": [
    {
     "data": {
      "text/plain": [
       "array(['Bus', 'Demand Response', 'Streetcar', 'Commuter Bus', 'Vanpool',\n",
       "       'Commuter Rail', 'Demand Response Taxi', 'Heavy Rail',\n",
       "       'Light Rail', 'Bus Rapid Transit', 'Trolleybus', 'Cable Car',\n",
       "       'Ferryboats', 'OT', 'Jitney', 'OR',\n",
       "       'Monorail / Automated Guideway', 'Hybrid Rail'], dtype=object)"
      ]
     },
     "metadata": {},
     "output_type": "display_data"
    }
   ],
   "source": [
    "# reverse_mode = {v: k for k,v in NTD_MODES.items()}\n",
    "# reverse_tos = {v:k for k,v in NTD_TOS.items()}\n",
    "\n",
    "replace_dict = {\"mode\": NTD_MODES, \"service\": NTD_TOS}\n",
    "\n",
    "for k, v in replace_dict.items():\n",
    "    raw_ntd_metrics_merge[k] = raw_ntd_metrics_merge[k].replace(v)\n",
    "    # test_query[k] = test_query[k].replace(v)\n",
    "\n",
    "display(\n",
    "    raw_ntd_metrics_merge[\"mode\"].unique(),\n",
    "    # test_query[\"service\"].unique(),\n",
    "    # test_query.equals(raw_ntd_metrics_merge)\n",
    ")"
   ]
  },
  {
   "cell_type": "markdown",
   "id": "8cf51e7f-8f44-4504-95a2-5fae47a7c42e",
   "metadata": {
    "tags": []
   },
   "source": [
    "## save out to GCS"
   ]
  },
  {
   "cell_type": "code",
   "execution_count": 21,
   "id": "723f3c97-ce38-455d-b692-60d8c324e02e",
   "metadata": {
    "tags": []
   },
   "outputs": [],
   "source": [
    "# raw_ntd_metrics_merge.to_parquet(f\"{GCS_FILE_PATH}transit_peer_group_data_18-23.parquet\")"
   ]
  },
  {
   "cell_type": "markdown",
   "id": "7ea9dc0c-663b-4528-8e67-536632e8c2ed",
   "metadata": {},
   "source": [
    "## read in GCS data"
   ]
  },
  {
   "cell_type": "code",
   "execution_count": 22,
   "id": "c17d6b5a-5493-4be8-ac2f-08b56a9518b7",
   "metadata": {
    "tags": []
   },
   "outputs": [],
   "source": [
    "raw_ntd_metrics_merge = pd.read_parquet(\n",
    "    f\"{GCS_FILE_PATH}transit_peer_group_data_18-23.parquet\"\n",
    ")"
   ]
  },
  {
   "cell_type": "code",
   "execution_count": 23,
   "id": "750428af-69c5-4066-a13c-6e88169c4f1e",
   "metadata": {
    "tags": []
   },
   "outputs": [
    {
     "name": "stdout",
     "output_type": "stream",
     "text": [
      "<class 'pandas.core.frame.DataFrame'>\n",
      "RangeIndex: 4002 entries, 0 to 4001\n",
      "Data columns (total 16 columns):\n",
      " #   Column             Non-Null Count  Dtype  \n",
      "---  ------             --------------  -----  \n",
      " 0   ntd_id             4002 non-null   object \n",
      " 1   source_agency      4002 non-null   object \n",
      " 2   agency_status      4002 non-null   object \n",
      " 3   city               1181 non-null   object \n",
      " 4   primary_uza_name   4002 non-null   object \n",
      " 5   uza_population     4002 non-null   int64  \n",
      " 6   uza_area_sq_miles  4002 non-null   float64\n",
      " 7   year               4002 non-null   int64  \n",
      " 8   mode               4002 non-null   object \n",
      " 9   service            4002 non-null   object \n",
      " 10  reporter_type      4002 non-null   object \n",
      " 11  total_upt          2623 non-null   float64\n",
      " 12  total_voms         3600 non-null   float64\n",
      " 13  total_vrh          3600 non-null   float64\n",
      " 14  total_vrm          3600 non-null   float64\n",
      " 15  opexp_total        3600 non-null   float64\n",
      "dtypes: float64(6), int64(2), object(8)\n",
      "memory usage: 500.4+ KB\n"
     ]
    }
   ],
   "source": [
    "# without mode/service - 1524 rows\n",
    "# with mode/service - 4002\n",
    "raw_ntd_metrics_merge.info()"
   ]
  },
  {
   "cell_type": "code",
   "execution_count": 25,
   "id": "a562c40b-bca0-4106-9c78-2b86b17d21bc",
   "metadata": {
    "tags": []
   },
   "outputs": [
    {
     "name": "stdout",
     "output_type": "stream",
     "text": [
      "<class 'pandas.core.frame.DataFrame'>\n",
      "RangeIndex: 1524 entries, 0 to 1523\n",
      "Data columns (total 13 columns):\n",
      " #   Column             Non-Null Count  Dtype  \n",
      "---  ------             --------------  -----  \n",
      " 0   ntd_id             1524 non-null   object \n",
      " 1   source_agency      1524 non-null   object \n",
      " 2   agency_status      1524 non-null   object \n",
      " 3   reporter_type      1524 non-null   object \n",
      " 4   primary_uza_name   1524 non-null   object \n",
      " 5   uza_population     1524 non-null   int64  \n",
      " 6   uza_area_sq_miles  1524 non-null   float64\n",
      " 7   year               1524 non-null   int64  \n",
      " 8   total_upt          1524 non-null   float64\n",
      " 9   total_voms         1524 non-null   float64\n",
      " 10  total_vrh          1524 non-null   float64\n",
      " 11  total_vrm          1524 non-null   float64\n",
      " 12  opexp_total        1524 non-null   float64\n",
      "dtypes: float64(6), int64(2), object(5)\n",
      "memory usage: 154.9+ KB\n"
     ]
    },
    {
     "name": "stderr",
     "output_type": "stream",
     "text": [
      "/tmp/ipykernel_1632/2661189013.py:16: FutureWarning: The operation <built-in function sum> failed on a column. If any error is raised, this will raise an exception in a future version of pandas. Drop these columns to avoid this warning.\n",
      "  .agg(sum)\n"
     ]
    }
   ],
   "source": [
    "# aggregating to get yearly totals, but missing mode/service\n",
    "ntd_metrics_yearly = (\n",
    "    raw_ntd_metrics_merge.groupby(\n",
    "        [\n",
    "            \"ntd_id\",\n",
    "            \"source_agency\",\n",
    "            \"agency_status\",\n",
    "            \"reporter_type\",\n",
    "            \"primary_uza_name\",\n",
    "            \"uza_population\",\n",
    "            \"uza_area_sq_miles\",\n",
    "            \"year\",\n",
    "        ]\n",
    "    )\n",
    "    .agg(sum)\n",
    "    .reset_index()\n",
    ")\n",
    "\n",
    "# each row is an agencies total for the year, for 6 years (2018-2023). each agency should have 6 rows.\n",
    "ntd_metrics_yearly.info()"
   ]
  },
  {
   "cell_type": "markdown",
   "id": "53d4b2ff-1daf-4ca8-b5bf-ad1edd6e6c0c",
   "metadata": {},
   "source": [
    "## Check correlation matrix"
   ]
  },
  {
   "cell_type": "code",
   "execution_count": 26,
   "id": "9ad0c6a1-d35d-4e1f-b2d9-57322ac33f43",
   "metadata": {
    "tags": []
   },
   "outputs": [
    {
     "data": {
      "text/html": [
       "<div>\n",
       "<style scoped>\n",
       "    .dataframe tbody tr th:only-of-type {\n",
       "        vertical-align: middle;\n",
       "    }\n",
       "\n",
       "    .dataframe tbody tr th {\n",
       "        vertical-align: top;\n",
       "    }\n",
       "\n",
       "    .dataframe thead th {\n",
       "        text-align: right;\n",
       "    }\n",
       "</style>\n",
       "<table border=\"1\" class=\"dataframe\">\n",
       "  <thead>\n",
       "    <tr style=\"text-align: right;\">\n",
       "      <th></th>\n",
       "      <th>opexp_total</th>\n",
       "      <th>total_upt</th>\n",
       "      <th>total_vrh</th>\n",
       "      <th>total_vrm</th>\n",
       "      <th>total_voms</th>\n",
       "      <th>uza_area_sq_miles</th>\n",
       "      <th>uza_population</th>\n",
       "    </tr>\n",
       "  </thead>\n",
       "  <tbody>\n",
       "    <tr>\n",
       "      <th>opexp_total</th>\n",
       "      <td>1.0000</td>\n",
       "      <td>0.9541</td>\n",
       "      <td>0.9521</td>\n",
       "      <td>0.9288</td>\n",
       "      <td>0.8716</td>\n",
       "      <td>0.1073</td>\n",
       "      <td>0.0878</td>\n",
       "    </tr>\n",
       "    <tr>\n",
       "      <th>total_upt</th>\n",
       "      <td>0.9541</td>\n",
       "      <td>1.0000</td>\n",
       "      <td>0.9065</td>\n",
       "      <td>0.8861</td>\n",
       "      <td>0.8294</td>\n",
       "      <td>0.1050</td>\n",
       "      <td>0.0900</td>\n",
       "    </tr>\n",
       "    <tr>\n",
       "      <th>total_vrh</th>\n",
       "      <td>0.9521</td>\n",
       "      <td>0.9065</td>\n",
       "      <td>1.0000</td>\n",
       "      <td>0.9943</td>\n",
       "      <td>0.9746</td>\n",
       "      <td>0.1165</td>\n",
       "      <td>0.0966</td>\n",
       "    </tr>\n",
       "    <tr>\n",
       "      <th>total_vrm</th>\n",
       "      <td>0.9288</td>\n",
       "      <td>0.8861</td>\n",
       "      <td>0.9943</td>\n",
       "      <td>1.0000</td>\n",
       "      <td>0.9848</td>\n",
       "      <td>0.1170</td>\n",
       "      <td>0.0982</td>\n",
       "    </tr>\n",
       "    <tr>\n",
       "      <th>total_voms</th>\n",
       "      <td>0.8716</td>\n",
       "      <td>0.8294</td>\n",
       "      <td>0.9746</td>\n",
       "      <td>0.9848</td>\n",
       "      <td>1.0000</td>\n",
       "      <td>0.1158</td>\n",
       "      <td>0.1001</td>\n",
       "    </tr>\n",
       "    <tr>\n",
       "      <th>uza_area_sq_miles</th>\n",
       "      <td>0.1073</td>\n",
       "      <td>0.1050</td>\n",
       "      <td>0.1165</td>\n",
       "      <td>0.1170</td>\n",
       "      <td>0.1158</td>\n",
       "      <td>1.0000</td>\n",
       "      <td>0.9222</td>\n",
       "    </tr>\n",
       "    <tr>\n",
       "      <th>uza_population</th>\n",
       "      <td>0.0878</td>\n",
       "      <td>0.0900</td>\n",
       "      <td>0.0966</td>\n",
       "      <td>0.0982</td>\n",
       "      <td>0.1001</td>\n",
       "      <td>0.9222</td>\n",
       "      <td>1.0000</td>\n",
       "    </tr>\n",
       "  </tbody>\n",
       "</table>\n",
       "</div>"
      ],
      "text/plain": [
       "                   opexp_total  total_upt  total_vrh  total_vrm  total_voms  \\\n",
       "opexp_total             1.0000     0.9541     0.9521     0.9288      0.8716   \n",
       "total_upt               0.9541     1.0000     0.9065     0.8861      0.8294   \n",
       "total_vrh               0.9521     0.9065     1.0000     0.9943      0.9746   \n",
       "total_vrm               0.9288     0.8861     0.9943     1.0000      0.9848   \n",
       "total_voms              0.8716     0.8294     0.9746     0.9848      1.0000   \n",
       "uza_area_sq_miles       0.1073     0.1050     0.1165     0.1170      0.1158   \n",
       "uza_population          0.0878     0.0900     0.0966     0.0982      0.1001   \n",
       "\n",
       "                   uza_area_sq_miles  uza_population  \n",
       "opexp_total                   0.1073          0.0878  \n",
       "total_upt                     0.1050          0.0900  \n",
       "total_vrh                     0.1165          0.0966  \n",
       "total_vrm                     0.1170          0.0982  \n",
       "total_voms                    0.1158          0.1001  \n",
       "uza_area_sq_miles             1.0000          0.9222  \n",
       "uza_population                0.9222          1.0000  "
      ]
     },
     "execution_count": 26,
     "metadata": {},
     "output_type": "execute_result"
    }
   ],
   "source": [
    "corr_matrix = (\n",
    "    ntd_metrics_yearly[\n",
    "        [\n",
    "            \"opexp_total\",\n",
    "            \"total_upt\",\n",
    "            \"total_vrh\",\n",
    "            \"total_vrm\",\n",
    "            \"total_voms\",\n",
    "            \"uza_area_sq_miles\",\n",
    "            \"uza_population\",\n",
    "        ]\n",
    "    ]\n",
    "    .corr()\n",
    "    .round(4)\n",
    ")\n",
    "\n",
    "corr_matrix"
   ]
  },
  {
   "cell_type": "code",
   "execution_count": 97,
   "id": "f8347a54-a801-4b5f-9ae2-3f50894daf65",
   "metadata": {
    "tags": []
   },
   "outputs": [],
   "source": [
    "corr_melt = corr_matrix.reset_index().melt(id_vars=\"index\")"
   ]
  },
  {
   "cell_type": "code",
   "execution_count": 98,
   "id": "ea14470e-cefd-4f6b-ac9d-a00dc482237d",
   "metadata": {
    "tags": []
   },
   "outputs": [
    {
     "data": {
      "text/html": [
       "\n",
       "<style>\n",
       "  #altair-viz-a0947eb7b6a44582863dcdc006c7ea07.vega-embed {\n",
       "    width: 100%;\n",
       "    display: flex;\n",
       "  }\n",
       "\n",
       "  #altair-viz-a0947eb7b6a44582863dcdc006c7ea07.vega-embed details,\n",
       "  #altair-viz-a0947eb7b6a44582863dcdc006c7ea07.vega-embed details summary {\n",
       "    position: relative;\n",
       "  }\n",
       "</style>\n",
       "<div id=\"altair-viz-a0947eb7b6a44582863dcdc006c7ea07\"></div>\n",
       "<script type=\"text/javascript\">\n",
       "  var VEGA_DEBUG = (typeof VEGA_DEBUG == \"undefined\") ? {} : VEGA_DEBUG;\n",
       "  (function(spec, embedOpt){\n",
       "    let outputDiv = document.currentScript.previousElementSibling;\n",
       "    if (outputDiv.id !== \"altair-viz-a0947eb7b6a44582863dcdc006c7ea07\") {\n",
       "      outputDiv = document.getElementById(\"altair-viz-a0947eb7b6a44582863dcdc006c7ea07\");\n",
       "    }\n",
       "\n",
       "    const paths = {\n",
       "      \"vega\": \"https://cdn.jsdelivr.net/npm/vega@5?noext\",\n",
       "      \"vega-lib\": \"https://cdn.jsdelivr.net/npm/vega-lib?noext\",\n",
       "      \"vega-lite\": \"https://cdn.jsdelivr.net/npm/vega-lite@5.20.1?noext\",\n",
       "      \"vega-embed\": \"https://cdn.jsdelivr.net/npm/vega-embed@6?noext\",\n",
       "    };\n",
       "\n",
       "    function maybeLoadScript(lib, version) {\n",
       "      var key = `${lib.replace(\"-\", \"\")}_version`;\n",
       "      return (VEGA_DEBUG[key] == version) ?\n",
       "        Promise.resolve(paths[lib]) :\n",
       "        new Promise(function(resolve, reject) {\n",
       "          var s = document.createElement('script');\n",
       "          document.getElementsByTagName(\"head\")[0].appendChild(s);\n",
       "          s.async = true;\n",
       "          s.onload = () => {\n",
       "            VEGA_DEBUG[key] = version;\n",
       "            return resolve(paths[lib]);\n",
       "          };\n",
       "          s.onerror = () => reject(`Error loading script: ${paths[lib]}`);\n",
       "          s.src = paths[lib];\n",
       "        });\n",
       "    }\n",
       "\n",
       "    function showError(err) {\n",
       "      outputDiv.innerHTML = `<div class=\"error\" style=\"color:red;\">${err}</div>`;\n",
       "      throw err;\n",
       "    }\n",
       "\n",
       "    function displayChart(vegaEmbed) {\n",
       "      vegaEmbed(outputDiv, spec, embedOpt)\n",
       "        .catch(err => showError(`Javascript Error: ${err.message}<br>This usually means there's a typo in your chart specification. See the javascript console for the full traceback.`));\n",
       "    }\n",
       "\n",
       "    if(typeof define === \"function\" && define.amd) {\n",
       "      requirejs.config({paths});\n",
       "      let deps = [\"vega-embed\"];\n",
       "      require(deps, displayChart, err => showError(`Error loading script: ${err.message}`));\n",
       "    } else {\n",
       "      maybeLoadScript(\"vega\", \"5\")\n",
       "        .then(() => maybeLoadScript(\"vega-lite\", \"5.20.1\"))\n",
       "        .then(() => maybeLoadScript(\"vega-embed\", \"6\"))\n",
       "        .catch(showError)\n",
       "        .then(() => displayChart(vegaEmbed));\n",
       "    }\n",
       "  })({\"config\": {\"view\": {\"continuousWidth\": 300, \"continuousHeight\": 300}}, \"data\": {\"name\": \"data-727a3156e1ff2cf62d282d99c61519ee\"}, \"mark\": {\"type\": \"rect\"}, \"encoding\": {\"color\": {\"field\": \"value\", \"type\": \"quantitative\"}, \"x\": {\"field\": \"index\", \"type\": \"nominal\"}, \"y\": {\"field\": \"variable\", \"type\": \"nominal\"}}, \"$schema\": \"https://vega.github.io/schema/vega-lite/v5.20.1.json\", \"datasets\": {\"data-727a3156e1ff2cf62d282d99c61519ee\": [{\"index\": \"opexp_total\", \"variable\": \"opexp_total\", \"value\": 1.0}, {\"index\": \"total_upt\", \"variable\": \"opexp_total\", \"value\": 0.9541}, {\"index\": \"total_vrh\", \"variable\": \"opexp_total\", \"value\": 0.9521}, {\"index\": \"total_vrm\", \"variable\": \"opexp_total\", \"value\": 0.9288}, {\"index\": \"total_voms\", \"variable\": \"opexp_total\", \"value\": 0.8716}, {\"index\": \"uza_area_sq_miles\", \"variable\": \"opexp_total\", \"value\": 0.1073}, {\"index\": \"uza_population\", \"variable\": \"opexp_total\", \"value\": 0.0878}, {\"index\": \"opexp_total\", \"variable\": \"total_upt\", \"value\": 0.9541}, {\"index\": \"total_upt\", \"variable\": \"total_upt\", \"value\": 1.0}, {\"index\": \"total_vrh\", \"variable\": \"total_upt\", \"value\": 0.9065}, {\"index\": \"total_vrm\", \"variable\": \"total_upt\", \"value\": 0.8861}, {\"index\": \"total_voms\", \"variable\": \"total_upt\", \"value\": 0.8294}, {\"index\": \"uza_area_sq_miles\", \"variable\": \"total_upt\", \"value\": 0.105}, {\"index\": \"uza_population\", \"variable\": \"total_upt\", \"value\": 0.09}, {\"index\": \"opexp_total\", \"variable\": \"total_vrh\", \"value\": 0.9521}, {\"index\": \"total_upt\", \"variable\": \"total_vrh\", \"value\": 0.9065}, {\"index\": \"total_vrh\", \"variable\": \"total_vrh\", \"value\": 1.0}, {\"index\": \"total_vrm\", \"variable\": \"total_vrh\", \"value\": 0.9943}, {\"index\": \"total_voms\", \"variable\": \"total_vrh\", \"value\": 0.9746}, {\"index\": \"uza_area_sq_miles\", \"variable\": \"total_vrh\", \"value\": 0.1165}, {\"index\": \"uza_population\", \"variable\": \"total_vrh\", \"value\": 0.0966}, {\"index\": \"opexp_total\", \"variable\": \"total_vrm\", \"value\": 0.9288}, {\"index\": \"total_upt\", \"variable\": \"total_vrm\", \"value\": 0.8861}, {\"index\": \"total_vrh\", \"variable\": \"total_vrm\", \"value\": 0.9943}, {\"index\": \"total_vrm\", \"variable\": \"total_vrm\", \"value\": 1.0}, {\"index\": \"total_voms\", \"variable\": \"total_vrm\", \"value\": 0.9848}, {\"index\": \"uza_area_sq_miles\", \"variable\": \"total_vrm\", \"value\": 0.117}, {\"index\": \"uza_population\", \"variable\": \"total_vrm\", \"value\": 0.0982}, {\"index\": \"opexp_total\", \"variable\": \"total_voms\", \"value\": 0.8716}, {\"index\": \"total_upt\", \"variable\": \"total_voms\", \"value\": 0.8294}, {\"index\": \"total_vrh\", \"variable\": \"total_voms\", \"value\": 0.9746}, {\"index\": \"total_vrm\", \"variable\": \"total_voms\", \"value\": 0.9848}, {\"index\": \"total_voms\", \"variable\": \"total_voms\", \"value\": 1.0}, {\"index\": \"uza_area_sq_miles\", \"variable\": \"total_voms\", \"value\": 0.1158}, {\"index\": \"uza_population\", \"variable\": \"total_voms\", \"value\": 0.1001}, {\"index\": \"opexp_total\", \"variable\": \"uza_area_sq_miles\", \"value\": 0.1073}, {\"index\": \"total_upt\", \"variable\": \"uza_area_sq_miles\", \"value\": 0.105}, {\"index\": \"total_vrh\", \"variable\": \"uza_area_sq_miles\", \"value\": 0.1165}, {\"index\": \"total_vrm\", \"variable\": \"uza_area_sq_miles\", \"value\": 0.117}, {\"index\": \"total_voms\", \"variable\": \"uza_area_sq_miles\", \"value\": 0.1158}, {\"index\": \"uza_area_sq_miles\", \"variable\": \"uza_area_sq_miles\", \"value\": 1.0}, {\"index\": \"uza_population\", \"variable\": \"uza_area_sq_miles\", \"value\": 0.9222}, {\"index\": \"opexp_total\", \"variable\": \"uza_population\", \"value\": 0.0878}, {\"index\": \"total_upt\", \"variable\": \"uza_population\", \"value\": 0.09}, {\"index\": \"total_vrh\", \"variable\": \"uza_population\", \"value\": 0.0966}, {\"index\": \"total_vrm\", \"variable\": \"uza_population\", \"value\": 0.0982}, {\"index\": \"total_voms\", \"variable\": \"uza_population\", \"value\": 0.1001}, {\"index\": \"uza_area_sq_miles\", \"variable\": \"uza_population\", \"value\": 0.9222}, {\"index\": \"uza_population\", \"variable\": \"uza_population\", \"value\": 1.0}]}}, {\"mode\": \"vega-lite\"});\n",
       "</script>"
      ],
      "text/plain": [
       "alt.Chart(...)"
      ]
     },
     "execution_count": 98,
     "metadata": {},
     "output_type": "execute_result"
    }
   ],
   "source": [
    "alt.Chart(corr_melt).mark_rect().encode(\n",
    "    x=\"index\",\n",
    "    y=\"variable\",\n",
    "    color=\"value\"\n",
    ")"
   ]
  },
  {
   "cell_type": "markdown",
   "id": "c5db2ae6-5144-45a7-8e56-7fa0b3473e25",
   "metadata": {},
   "source": [
    "There are way more pairwise variables over 0.9.\n",
    "List of pairwise variables under 0.9\n",
    "- opex & voms: 0.87\n",
    "- opex & uza area: 0.11\n",
    "- opex & uza pop: 0.09\n",
    "- upt & vrm: 0.88\n",
    "- upt & voms: 0.82\n",
    "- upt & uza area: 0.11 \n",
    "- upt & uza pop: 0.09\n",
    "- vrh & uza area: 0.12\n",
    "- vrh & uza pop: 0.09\n",
    "- vrm & uza area: 0.12\n",
    "- vrm & uza pop: 0.10\n",
    "- voms & uza area : 0.12\n",
    "- voms & uza pop: 0.10\n",
    "\n"
   ]
  },
  {
   "cell_type": "markdown",
   "id": "cc36a2ba-839c-40a7-84d7-ced27b65f9d6",
   "metadata": {},
   "source": [
    "## Classify feature columns"
   ]
  },
  {
   "cell_type": "code",
   "execution_count": 27,
   "id": "5782a310-7c2f-46ea-a9e0-33c36492d8ba",
   "metadata": {
    "tags": []
   },
   "outputs": [
    {
     "data": {
      "text/plain": [
       "['ntd_id',\n",
       " 'source_agency',\n",
       " 'agency_status',\n",
       " 'city',\n",
       " 'primary_uza_name',\n",
       " 'uza_population',\n",
       " 'uza_area_sq_miles',\n",
       " 'year',\n",
       " 'mode',\n",
       " 'service',\n",
       " 'reporter_type',\n",
       " 'total_upt',\n",
       " 'total_voms',\n",
       " 'total_vrh',\n",
       " 'total_vrm',\n",
       " 'opexp_total']"
      ]
     },
     "execution_count": 27,
     "metadata": {},
     "output_type": "execute_result"
    }
   ],
   "source": [
    "list(raw_ntd_metrics_merge.columns)"
   ]
  },
  {
   "cell_type": "code",
   "execution_count": 78,
   "id": "2e90f2a3-2627-4e38-8047-ede9f2ece599",
   "metadata": {
    "tags": []
   },
   "outputs": [],
   "source": [
    "# Feature groups\n",
    "\n",
    "# exclude from clustering\n",
    "id_cols = [\n",
    "    \"source_agency\",\n",
    "    \"city\",\n",
    "    \"ntd_id\",\n",
    "    \"primary_uza_name\",\n",
    "    # \"reporter_type\",  # maybe move to categorical\n",
    "]\n",
    "\n",
    "# include in clustering\n",
    "categorical_cols = [\"mode\", \"service\", \"reporter_type\"]\n",
    "\n",
    "# include in clustering\n",
    "numerical_cols = [\n",
    "    \"total_upt\",\n",
    "    \"total_vrh\",\n",
    "    \"total_vrm\",\n",
    "    \"opexp_total\",\n",
    "    \"total_voms\",\n",
    "    # \"uza_population\",\n",
    "    # \"uza_area_sq_miles\",\n",
    "]\n",
    "\n",
    "# exclude in clustering\n",
    "other_cols = [\n",
    "    \"agency_status\",\n",
    "    \"year\",\n",
    "    \"reporting_module\",\n",
    "    \"_merge\",\n",
    "]"
   ]
  },
  {
   "cell_type": "markdown",
   "id": "416983b6-5390-4d81-9afc-7d8d5eb136d5",
   "metadata": {},
   "source": [
    "## 2. Mode & Service"
   ]
  },
  {
   "cell_type": "markdown",
   "id": "5b027fb2-79a1-4fec-b242-8e00183fc7f8",
   "metadata": {},
   "source": [
    "### Unique `Mode` sub-categories\n",
    "Previous research papers categorized mode by have/not have \"dedicated right of way\"/ \"fixed guideway\"."
   ]
  },
  {
   "cell_type": "code",
   "execution_count": 52,
   "id": "a7fa6cad-373c-4579-b53e-5b939791db9f",
   "metadata": {
    "tags": []
   },
   "outputs": [
    {
     "data": {
      "text/plain": [
       "['Bus',\n",
       " 'Demand Response',\n",
       " 'Streetcar',\n",
       " 'Commuter Bus',\n",
       " 'Vanpool',\n",
       " 'Commuter Rail',\n",
       " 'Demand Response Taxi',\n",
       " 'Heavy Rail',\n",
       " 'Light Rail',\n",
       " 'Bus Rapid Transit',\n",
       " 'Trolleybus',\n",
       " 'Cable Car',\n",
       " 'Ferryboats',\n",
       " 'OT',\n",
       " 'Jitney',\n",
       " 'OR',\n",
       " 'Monorail / Automated Guideway',\n",
       " 'Hybrid Rail']"
      ]
     },
     "execution_count": 52,
     "metadata": {},
     "output_type": "execute_result"
    }
   ],
   "source": [
    "list(raw_ntd_metrics_merge[\"mode\"].unique())\n"
   ]
  },
  {
   "cell_type": "code",
   "execution_count": 48,
   "id": "d4c2dd37-1e75-4e06-b29e-7eff2b3650f6",
   "metadata": {
    "tags": []
   },
   "outputs": [
    {
     "data": {
      "text/plain": [
       "array(['City of Dinuba', 'City of Rio Vista - Department of Public Works',\n",
       "       'City of Tracy - Transit Division',\n",
       "       'County of Glenn - Glenn County Planning and Community Development Services Agency',\n",
       "       'Lassen Transit Service Agency (LTSA)',\n",
       "       'San Benito County Local Transportation Authority (\\t\\t)',\n",
       "       'Susanville Indian Rancheria(SIR)', 'Tehama County (TRAX)'],\n",
       "      dtype=object)"
      ]
     },
     "execution_count": 48,
     "metadata": {},
     "output_type": "execute_result"
    }
   ],
   "source": [
    "# what is `OT` and `OR`?\n",
    "\n",
    "# Which agencies have mode OT/OTR?!\n",
    "raw_ntd_metrics_merge[raw_ntd_metrics_merge[\"mode\"].isin([\"OT\", \"OR\"])][\n",
    "    \"source_agency\"\n",
    "].unique()"
   ]
  },
  {
   "cell_type": "code",
   "execution_count": 49,
   "id": "c90d6420-db63-4661-9711-7c07fe9df006",
   "metadata": {
    "editable": true,
    "slideshow": {
     "slide_type": ""
    },
    "tags": []
   },
   "outputs": [],
   "source": [
    "fixed_guideway = [\n",
    "    \"Streetcar\",\n",
    "    \"Heavy Rail\",\n",
    "    \"Hybrid Rail\",\n",
    "    \"Commuter Rail\",\n",
    "    \"Cablecar\",\n",
    "    \"Light Rail\",\n",
    "    \"Monorail / Automated Guideway\",\n",
    "]\n",
    "\n",
    "other = [\n",
    "    \"Trolleybus\", \n",
    "    \"Ferryboats\", \n",
    "    \"OT\", \n",
    "    \"OR\"\n",
    "]\n",
    "\n",
    "nonfixed_guideway = [\n",
    "    \"Demand Response\",\n",
    "    \"Bus\",\n",
    "    \"Demand Response Taxi\",\n",
    "    \"Commuter Bus\",\n",
    "    \"Vanpool\",\n",
    "    \"Bus Rapid Transit\",\n",
    "]"
   ]
  },
  {
   "cell_type": "markdown",
   "id": "ab780bd8-5fed-47eb-bed5-0ee34192cd3f",
   "metadata": {
    "tags": []
   },
   "source": [
    "### testing what the dataframe will look like if you separate fixed from nonfixed guideway"
   ]
  },
  {
   "cell_type": "code",
   "execution_count": 40,
   "id": "922db13f-1e15-4462-8196-1f43da6aa4a4",
   "metadata": {
    "tags": []
   },
   "outputs": [],
   "source": [
    "fixed_guideway_df = raw_ntd_metrics_merge[\n",
    "    raw_ntd_metrics_merge[\"mode\"].isin(fixed_guideway)\n",
    "]\n",
    "\n",
    "nonfixed_guideway_df = raw_ntd_metrics_merge[\n",
    "    raw_ntd_metrics_merge[\"mode\"].isin(nonfixed_guideway)\n",
    "]"
   ]
  },
  {
   "cell_type": "code",
   "execution_count": 50,
   "id": "a697609c-6cce-4c67-a6bb-b4ff68159364",
   "metadata": {
    "tags": []
   },
   "outputs": [
    {
     "data": {
      "text/plain": [
       "(156, 16)"
      ]
     },
     "metadata": {},
     "output_type": "display_data"
    },
    {
     "data": {
      "text/plain": [
       "array(['Streetcar', 'Commuter Rail', 'Heavy Rail', 'Light Rail',\n",
       "       'Monorail / Automated Guideway', 'Hybrid Rail'], dtype=object)"
      ]
     },
     "metadata": {},
     "output_type": "display_data"
    }
   ],
   "source": [
    "display(\n",
    "    fixed_guideway_df.shape,\n",
    "    fixed_guideway_df[\"mode\"].unique(),\n",
    ")"
   ]
  },
  {
   "cell_type": "code",
   "execution_count": 51,
   "id": "91637583-0c4c-4863-aeff-1d74e7e1713f",
   "metadata": {
    "tags": []
   },
   "outputs": [
    {
     "data": {
      "text/plain": [
       "(3732, 16)"
      ]
     },
     "metadata": {},
     "output_type": "display_data"
    },
    {
     "data": {
      "text/plain": [
       "array(['Bus', 'Demand Response', 'Commuter Bus', 'Vanpool',\n",
       "       'Demand Response Taxi', 'Bus Rapid Transit'], dtype=object)"
      ]
     },
     "metadata": {},
     "output_type": "display_data"
    }
   ],
   "source": [
    "display(\n",
    "    nonfixed_guideway_df.shape,\n",
    "    nonfixed_guideway_df[\"mode\"].unique(),\n",
    ")"
   ]
  },
  {
   "cell_type": "markdown",
   "id": "f5af5043-99a3-44bf-803a-4afd7ecfe6e6",
   "metadata": {
    "tags": []
   },
   "source": [
    "### Unique `Service` values"
   ]
  },
  {
   "cell_type": "code",
   "execution_count": 53,
   "id": "d47cfa60-1c60-4791-8527-cd70e5c1d354",
   "metadata": {
    "tags": []
   },
   "outputs": [
    {
     "data": {
      "text/plain": [
       "['Purchased Transportation',\n",
       " 'Directly Operated',\n",
       " 'Purchased Transportation - Taxi',\n",
       " 'Purchased Transportation - Transportation Network Company']"
      ]
     },
     "execution_count": 53,
     "metadata": {},
     "output_type": "execute_result"
    }
   ],
   "source": [
    "list(raw_ntd_metrics_merge[\"service\"].unique())"
   ]
  },
  {
   "cell_type": "code",
   "execution_count": 61,
   "id": "f744a560-8d65-400a-b78b-54bc99eb0055",
   "metadata": {
    "tags": []
   },
   "outputs": [],
   "source": [
    "service_pt_do = [\n",
    "    \"Purchased Transportation\",\n",
    "    \"Directly Operated\",\n",
    "]\n",
    "\n",
    "service_other = [\n",
    "    \"Purchased Transportation - Taxi\",\n",
    "    \"Purchased Transportation - Transportation Network Company\",\n",
    "]"
   ]
  },
  {
   "cell_type": "code",
   "execution_count": 58,
   "id": "23a4371a-bc13-44ca-b0a1-b1d565c58cde",
   "metadata": {
    "tags": []
   },
   "outputs": [
    {
     "data": {
      "text/plain": [
       "Directly Operated           102\n",
       "Purchased Transportation     54\n",
       "Name: service, dtype: int64"
      ]
     },
     "metadata": {},
     "output_type": "display_data"
    },
    {
     "data": {
      "text/plain": [
       "Purchased Transportation                                     2364\n",
       "Directly Operated                                            1200\n",
       "Purchased Transportation - Taxi                               138\n",
       "Purchased Transportation - Transportation Network Company      30\n",
       "Name: service, dtype: int64"
      ]
     },
     "metadata": {},
     "output_type": "display_data"
    },
    {
     "data": {
      "text/plain": [
       "City of Carson - Transportation Services Division                                 12\n",
       "Sacramento Regional Transit District                                              12\n",
       "Orange County Transportation Authority (OCTA)                                      6\n",
       "City of Torrance (TTS) - Transit Department                                        6\n",
       "The Eastern Contra Costa Transit Authority                                         6\n",
       "San Mateo County Transit District (SMCTD)                                          6\n",
       "San Joaquin Regional Transit District (RTD)                                        6\n",
       "San Diego Metropolitan Transit System (MTS)                                        6\n",
       "Riverside Transit Agency (RTA)                                                     6\n",
       "Pomona Valley Transportation Authority (PVTA)                                      6\n",
       "Paratransit, Inc.                                                                  6\n",
       "Palos Verdes Peninsula Transit Authority (PVPTA)                                   6\n",
       "Monterey-Salinas Transit (MST)                                                     6\n",
       "City of South Gate - Transportation Department                                     6\n",
       "Santa Clara Valley Transportation Authority (VTA)                                  6\n",
       "City of Santa Monica (BBB) - Department of Transportation                          6\n",
       "City of Montebello (MBL) - Transportation                                          6\n",
       "City of Modesto (MAX)                                                              6\n",
       "City of Los Angeles (LADOT) - City of Los Angeles Department of Transportation     6\n",
       "City of Huntington Park (HPCA) - Fixed Route Transportation/ Public Works          6\n",
       "City of Cudahy (COC)                                                               6\n",
       "City of Claremont - Community Services/ Transit Services                           6\n",
       "City of Bell - Community Services Department                                       6\n",
       "City of Artesia - Transportation Division                                          6\n",
       "Access Services (AS)                                                               6\n",
       "City of Escalon - Transit Services                                                 6\n",
       "Name: source_agency, dtype: int64"
      ]
     },
     "metadata": {},
     "output_type": "display_data"
    }
   ],
   "source": [
    "display(\n",
    "    fixed_guideway_df[\"service\"].value_counts(),\n",
    "    nonfixed_guideway_df[\"service\"].value_counts(),\n",
    "    nonfixed_guideway_df[nonfixed_guideway_df[\"service\"].str.contains(\"- T\")][\"source_agency\"].value_counts()\n",
    ")"
   ]
  },
  {
   "cell_type": "markdown",
   "id": "7528b279-3529-4bf4-bde0-b0dbf2940957",
   "metadata": {},
   "source": [
    "**RE: what to do with service columns**\n",
    "\n",
    "- The majority of rows are either Purchased Transportation or Directly Operated. close to a binary response so i think one-hot encode would be the best option.\n",
    "- Maybe consider removing the PT taxi and PT transportation netwok since there is a low count of rows"
   ]
  },
  {
   "cell_type": "markdown",
   "id": "78bb084c-f8b7-40b2-83b7-143674114a9d",
   "metadata": {},
   "source": [
    "## 3. \"Flattening\" data\n",
    "If we group by only Agency (flattening, fewer rows), how do we aggregate the other classification variables before we normalize them? Is adding sufficient? Do we need to average any?\n",
    "\n",
    "If we aggregate to get 1 row per agency, what happens to the other categorical variables?"
   ]
  },
  {
   "cell_type": "code",
   "execution_count": 74,
   "id": "1d4fd266-b8d9-4863-ba99-ce490a00018b",
   "metadata": {
    "tags": []
   },
   "outputs": [
    {
     "data": {
      "text/plain": [
       "['total_upt',\n",
       " 'total_vrh',\n",
       " 'total_vrm',\n",
       " 'opexp_total',\n",
       " 'total_voms',\n",
       " 'uza_population',\n",
       " 'uza_area_sq_miles']"
      ]
     },
     "execution_count": 74,
     "metadata": {},
     "output_type": "execute_result"
    }
   ],
   "source": [
    "numerical_cols"
   ]
  },
  {
   "cell_type": "code",
   "execution_count": 79,
   "id": "ce8cd378-e6d3-4606-b4ad-040a5d7d00d2",
   "metadata": {},
   "outputs": [],
   "source": [
    "# agg the numerical row, end with each row being an agency\n",
    "group_id_cols = (\n",
    "    raw_ntd_metrics_merge.groupby(id_cols)\n",
    "    .agg({col: \"sum\" for col in numerical_cols})\n",
    "    .reset_index()\n",
    ")\n",
    "\n",
    "# agg the numerical row, end with each row being a uniqu agency/mode/service\n",
    "group_id_mode_service = (\n",
    "    raw_ntd_metrics_merge.groupby(id_cols + [\"mode\", \"service\"])\n",
    "    .agg({col: \"sum\" for col in numerical_cols})\n",
    "    .reset_index()\n",
    ")\n",
    "\n",
    "# agg the numerical row, end with each row being an agency\n",
    "group_cat_cols = (\n",
    "    raw_ntd_metrics_merge.groupby(categorical_cols)\n",
    "    .agg({col: \"sum\" for col in numerical_cols})\n",
    "    .reset_index()\n",
    ")"
   ]
  },
  {
   "cell_type": "code",
   "execution_count": 64,
   "id": "e58b2b25-c192-40cb-84cf-a4bab1b0b1e2",
   "metadata": {},
   "outputs": [
    {
     "data": {
      "text/plain": [
       "(False, True)"
      ]
     },
     "execution_count": 64,
     "metadata": {},
     "output_type": "execute_result"
    }
   ],
   "source": [
    "# double checking aggregation works\n",
    "(\n",
    "    raw_ntd_metrics_merge[raw_ntd_metrics_merge[\"ntd_id\"] == \"90211\"][\n",
    "        \"opexp_total\"\n",
    "    ].sum()\n",
    "    == group_id_cols[group_id_cols[\"ntd_id\"] == \"90211\"][\"opexp_total\"].sum(),\n",
    "    raw_ntd_metrics_merge[raw_ntd_metrics_merge[\"mode\"] == \"Bus\"][\"opexp_total\"].sum()\n",
    "    == group_cat_cols[group_cat_cols[\"mode\"] == \"Bus\"][\"opexp_total\"].sum(),\n",
    ")"
   ]
  },
  {
   "cell_type": "code",
   "execution_count": 65,
   "id": "d9df4f18-573a-4590-967e-144937952d01",
   "metadata": {},
   "outputs": [
    {
     "data": {
      "text/plain": [
       "'group_id'"
      ]
     },
     "metadata": {},
     "output_type": "display_data"
    },
    {
     "data": {
      "text/plain": [
       "(216, 11)"
      ]
     },
     "metadata": {},
     "output_type": "display_data"
    },
    {
     "data": {
      "text/html": [
       "<div>\n",
       "<style scoped>\n",
       "    .dataframe tbody tr th:only-of-type {\n",
       "        vertical-align: middle;\n",
       "    }\n",
       "\n",
       "    .dataframe tbody tr th {\n",
       "        vertical-align: top;\n",
       "    }\n",
       "\n",
       "    .dataframe thead th {\n",
       "        text-align: right;\n",
       "    }\n",
       "</style>\n",
       "<table border=\"1\" class=\"dataframe\">\n",
       "  <thead>\n",
       "    <tr style=\"text-align: right;\">\n",
       "      <th></th>\n",
       "      <th>source_agency</th>\n",
       "      <th>city</th>\n",
       "      <th>ntd_id</th>\n",
       "      <th>primary_uza_name</th>\n",
       "      <th>total_upt</th>\n",
       "      <th>total_vrh</th>\n",
       "      <th>total_vrm</th>\n",
       "      <th>opexp_total</th>\n",
       "      <th>total_voms</th>\n",
       "      <th>uza_population</th>\n",
       "      <th>uza_area_sq_miles</th>\n",
       "    </tr>\n",
       "  </thead>\n",
       "  <tbody>\n",
       "    <tr>\n",
       "      <th>0</th>\n",
       "      <td>Access Services (AS)</td>\n",
       "      <td>El Monte</td>\n",
       "      <td>90157</td>\n",
       "      <td>Los Angeles--Long Beach--Anaheim, CA</td>\n",
       "      <td>5.243015e+08</td>\n",
       "      <td>2.838753e+08</td>\n",
       "      <td>4.863772e+09</td>\n",
       "      <td>3.009580e+10</td>\n",
       "      <td>132759.0</td>\n",
       "      <td>73424256</td>\n",
       "      <td>9820.98</td>\n",
       "    </tr>\n",
       "    <tr>\n",
       "      <th>1</th>\n",
       "      <td>Alameda-Contra Costa Transit District</td>\n",
       "      <td>Oakland</td>\n",
       "      <td>90014</td>\n",
       "      <td>San Francisco--Oakland, CA</td>\n",
       "      <td>8.364078e+10</td>\n",
       "      <td>5.104948e+09</td>\n",
       "      <td>5.547737e+10</td>\n",
       "      <td>1.283436e+12</td>\n",
       "      <td>1511136.0</td>\n",
       "      <td>42191196</td>\n",
       "      <td>6165.60</td>\n",
       "    </tr>\n",
       "    <tr>\n",
       "      <th>2</th>\n",
       "      <td>Altamont Corridor Express (ACE)</td>\n",
       "      <td>Stockton</td>\n",
       "      <td>90182</td>\n",
       "      <td>Stockton, CA</td>\n",
       "      <td>1.274000e+07</td>\n",
       "      <td>7.488480e+05</td>\n",
       "      <td>2.970434e+07</td>\n",
       "      <td>9.888552e+08</td>\n",
       "      <td>864.0</td>\n",
       "      <td>1659388</td>\n",
       "      <td>369.84</td>\n",
       "    </tr>\n",
       "    <tr>\n",
       "      <th>3</th>\n",
       "      <td>Amador Transit (AT)</td>\n",
       "      <td>Jackson</td>\n",
       "      <td>91000</td>\n",
       "      <td>California Non-UZA</td>\n",
       "      <td>4.655799e+06</td>\n",
       "      <td>2.009367e+06</td>\n",
       "      <td>3.950969e+07</td>\n",
       "      <td>2.333560e+08</td>\n",
       "      <td>2835.0</td>\n",
       "      <td>26147100</td>\n",
       "      <td>0.00</td>\n",
       "    </tr>\n",
       "    <tr>\n",
       "      <th>4</th>\n",
       "      <td>Anaheim Transportation Network (ATN)</td>\n",
       "      <td>Anaheim</td>\n",
       "      <td>90211</td>\n",
       "      <td>Los Angeles--Long Beach--Anaheim, CA</td>\n",
       "      <td>2.476313e+08</td>\n",
       "      <td>4.909824e+06</td>\n",
       "      <td>3.577339e+07</td>\n",
       "      <td>5.100877e+08</td>\n",
       "      <td>1616.0</td>\n",
       "      <td>48949504</td>\n",
       "      <td>6547.32</td>\n",
       "    </tr>\n",
       "  </tbody>\n",
       "</table>\n",
       "</div>"
      ],
      "text/plain": [
       "                           source_agency      city ntd_id  \\\n",
       "0                   Access Services (AS)  El Monte  90157   \n",
       "1  Alameda-Contra Costa Transit District   Oakland  90014   \n",
       "2        Altamont Corridor Express (ACE)  Stockton  90182   \n",
       "3                    Amador Transit (AT)   Jackson  91000   \n",
       "4   Anaheim Transportation Network (ATN)   Anaheim  90211   \n",
       "\n",
       "                       primary_uza_name     total_upt     total_vrh  \\\n",
       "0  Los Angeles--Long Beach--Anaheim, CA  5.243015e+08  2.838753e+08   \n",
       "1            San Francisco--Oakland, CA  8.364078e+10  5.104948e+09   \n",
       "2                          Stockton, CA  1.274000e+07  7.488480e+05   \n",
       "3                    California Non-UZA  4.655799e+06  2.009367e+06   \n",
       "4  Los Angeles--Long Beach--Anaheim, CA  2.476313e+08  4.909824e+06   \n",
       "\n",
       "      total_vrm   opexp_total  total_voms  uza_population  uza_area_sq_miles  \n",
       "0  4.863772e+09  3.009580e+10    132759.0        73424256            9820.98  \n",
       "1  5.547737e+10  1.283436e+12   1511136.0        42191196            6165.60  \n",
       "2  2.970434e+07  9.888552e+08       864.0         1659388             369.84  \n",
       "3  3.950969e+07  2.333560e+08      2835.0        26147100               0.00  \n",
       "4  3.577339e+07  5.100877e+08      1616.0        48949504            6547.32  "
      ]
     },
     "metadata": {},
     "output_type": "display_data"
    },
    {
     "data": {
      "text/plain": [
       "'group_id_mode_service'"
      ]
     },
     "metadata": {},
     "output_type": "display_data"
    },
    {
     "data": {
      "text/plain": [
       "(600, 13)"
      ]
     },
     "metadata": {},
     "output_type": "display_data"
    },
    {
     "data": {
      "text/plain": [
       "Purchased Transportation                                     366\n",
       "Directly Operated                                            206\n",
       "Purchased Transportation - Taxi                               23\n",
       "Purchased Transportation - Transportation Network Company      5\n",
       "Name: service, dtype: int64"
      ]
     },
     "metadata": {},
     "output_type": "display_data"
    },
    {
     "data": {
      "text/html": [
       "<div>\n",
       "<style scoped>\n",
       "    .dataframe tbody tr th:only-of-type {\n",
       "        vertical-align: middle;\n",
       "    }\n",
       "\n",
       "    .dataframe tbody tr th {\n",
       "        vertical-align: top;\n",
       "    }\n",
       "\n",
       "    .dataframe thead th {\n",
       "        text-align: right;\n",
       "    }\n",
       "</style>\n",
       "<table border=\"1\" class=\"dataframe\">\n",
       "  <thead>\n",
       "    <tr style=\"text-align: right;\">\n",
       "      <th></th>\n",
       "      <th>source_agency</th>\n",
       "      <th>city</th>\n",
       "      <th>ntd_id</th>\n",
       "      <th>primary_uza_name</th>\n",
       "      <th>mode</th>\n",
       "      <th>service</th>\n",
       "      <th>total_upt</th>\n",
       "      <th>total_vrh</th>\n",
       "      <th>total_vrm</th>\n",
       "      <th>opexp_total</th>\n",
       "      <th>total_voms</th>\n",
       "      <th>uza_population</th>\n",
       "      <th>uza_area_sq_miles</th>\n",
       "    </tr>\n",
       "  </thead>\n",
       "  <tbody>\n",
       "    <tr>\n",
       "      <th>0</th>\n",
       "      <td>Access Services (AS)</td>\n",
       "      <td>El Monte</td>\n",
       "      <td>90157</td>\n",
       "      <td>Los Angeles--Long Beach--Anaheim, CA</td>\n",
       "      <td>Demand Response</td>\n",
       "      <td>Purchased Transportation</td>\n",
       "      <td>3.764843e+08</td>\n",
       "      <td>94625091.0</td>\n",
       "      <td>1.621257e+09</td>\n",
       "      <td>1.003193e+10</td>\n",
       "      <td>44253.0</td>\n",
       "      <td>24474752</td>\n",
       "      <td>3273.66</td>\n",
       "    </tr>\n",
       "    <tr>\n",
       "      <th>1</th>\n",
       "      <td>Access Services (AS)</td>\n",
       "      <td>El Monte</td>\n",
       "      <td>90157</td>\n",
       "      <td>Los Angeles--Long Beach--Anaheim, CA</td>\n",
       "      <td>Demand Response</td>\n",
       "      <td>Purchased Transportation - Taxi</td>\n",
       "      <td>1.478172e+08</td>\n",
       "      <td>94625091.0</td>\n",
       "      <td>1.621257e+09</td>\n",
       "      <td>1.003193e+10</td>\n",
       "      <td>44253.0</td>\n",
       "      <td>24474752</td>\n",
       "      <td>3273.66</td>\n",
       "    </tr>\n",
       "    <tr>\n",
       "      <th>2</th>\n",
       "      <td>Access Services (AS)</td>\n",
       "      <td>El Monte</td>\n",
       "      <td>90157</td>\n",
       "      <td>Los Angeles--Long Beach--Anaheim, CA</td>\n",
       "      <td>Demand Response Taxi</td>\n",
       "      <td>Purchased Transportation</td>\n",
       "      <td>0.000000e+00</td>\n",
       "      <td>94625091.0</td>\n",
       "      <td>1.621257e+09</td>\n",
       "      <td>1.003193e+10</td>\n",
       "      <td>44253.0</td>\n",
       "      <td>24474752</td>\n",
       "      <td>3273.66</td>\n",
       "    </tr>\n",
       "    <tr>\n",
       "      <th>3</th>\n",
       "      <td>Alameda-Contra Costa Transit District</td>\n",
       "      <td>Oakland</td>\n",
       "      <td>90014</td>\n",
       "      <td>San Francisco--Oakland, CA</td>\n",
       "      <td>Bus</td>\n",
       "      <td>Directly Operated</td>\n",
       "      <td>7.146366e+10</td>\n",
       "      <td>850824648.0</td>\n",
       "      <td>9.246228e+09</td>\n",
       "      <td>2.139059e+11</td>\n",
       "      <td>251856.0</td>\n",
       "      <td>7031866</td>\n",
       "      <td>1027.60</td>\n",
       "    </tr>\n",
       "    <tr>\n",
       "      <th>4</th>\n",
       "      <td>Alameda-Contra Costa Transit District</td>\n",
       "      <td>Oakland</td>\n",
       "      <td>90014</td>\n",
       "      <td>San Francisco--Oakland, CA</td>\n",
       "      <td>Bus</td>\n",
       "      <td>Purchased Transportation</td>\n",
       "      <td>3.746036e+08</td>\n",
       "      <td>850824648.0</td>\n",
       "      <td>9.246228e+09</td>\n",
       "      <td>2.139059e+11</td>\n",
       "      <td>251856.0</td>\n",
       "      <td>7031866</td>\n",
       "      <td>1027.60</td>\n",
       "    </tr>\n",
       "  </tbody>\n",
       "</table>\n",
       "</div>"
      ],
      "text/plain": [
       "                           source_agency      city ntd_id  \\\n",
       "0                   Access Services (AS)  El Monte  90157   \n",
       "1                   Access Services (AS)  El Monte  90157   \n",
       "2                   Access Services (AS)  El Monte  90157   \n",
       "3  Alameda-Contra Costa Transit District   Oakland  90014   \n",
       "4  Alameda-Contra Costa Transit District   Oakland  90014   \n",
       "\n",
       "                       primary_uza_name                  mode  \\\n",
       "0  Los Angeles--Long Beach--Anaheim, CA       Demand Response   \n",
       "1  Los Angeles--Long Beach--Anaheim, CA       Demand Response   \n",
       "2  Los Angeles--Long Beach--Anaheim, CA  Demand Response Taxi   \n",
       "3            San Francisco--Oakland, CA                   Bus   \n",
       "4            San Francisco--Oakland, CA                   Bus   \n",
       "\n",
       "                           service     total_upt    total_vrh     total_vrm  \\\n",
       "0         Purchased Transportation  3.764843e+08   94625091.0  1.621257e+09   \n",
       "1  Purchased Transportation - Taxi  1.478172e+08   94625091.0  1.621257e+09   \n",
       "2         Purchased Transportation  0.000000e+00   94625091.0  1.621257e+09   \n",
       "3                Directly Operated  7.146366e+10  850824648.0  9.246228e+09   \n",
       "4         Purchased Transportation  3.746036e+08  850824648.0  9.246228e+09   \n",
       "\n",
       "    opexp_total  total_voms  uza_population  uza_area_sq_miles  \n",
       "0  1.003193e+10     44253.0        24474752            3273.66  \n",
       "1  1.003193e+10     44253.0        24474752            3273.66  \n",
       "2  1.003193e+10     44253.0        24474752            3273.66  \n",
       "3  2.139059e+11    251856.0         7031866            1027.60  \n",
       "4  2.139059e+11    251856.0         7031866            1027.60  "
      ]
     },
     "metadata": {},
     "output_type": "display_data"
    }
   ],
   "source": [
    "display(\n",
    "    \"group_id\",\n",
    "    group_id_cols.shape,\n",
    "    # group_id_cols[\"service\"].value_counts(),\n",
    "    group_id_cols.head(),\n",
    "    \"group_id_mode_service\",\n",
    "    group_id_mode_service.shape,\n",
    "    group_id_mode_service[\"service\"].value_counts(),\n",
    "    group_id_mode_service.head(),\n",
    ")"
   ]
  },
  {
   "cell_type": "code",
   "execution_count": 66,
   "id": "638a0797-2c20-4d9a-8409-2982dbbbedee",
   "metadata": {},
   "outputs": [
    {
     "data": {
      "text/plain": [
       "'group_cat'"
      ]
     },
     "metadata": {},
     "output_type": "display_data"
    },
    {
     "data": {
      "text/plain": [
       "(58, 10)"
      ]
     },
     "metadata": {},
     "output_type": "display_data"
    },
    {
     "data": {
      "text/html": [
       "<div>\n",
       "<style scoped>\n",
       "    .dataframe tbody tr th:only-of-type {\n",
       "        vertical-align: middle;\n",
       "    }\n",
       "\n",
       "    .dataframe tbody tr th {\n",
       "        vertical-align: top;\n",
       "    }\n",
       "\n",
       "    .dataframe thead th {\n",
       "        text-align: right;\n",
       "    }\n",
       "</style>\n",
       "<table border=\"1\" class=\"dataframe\">\n",
       "  <thead>\n",
       "    <tr style=\"text-align: right;\">\n",
       "      <th></th>\n",
       "      <th>mode</th>\n",
       "      <th>service</th>\n",
       "      <th>reporter_type</th>\n",
       "      <th>total_upt</th>\n",
       "      <th>total_vrh</th>\n",
       "      <th>total_vrm</th>\n",
       "      <th>opexp_total</th>\n",
       "      <th>total_voms</th>\n",
       "      <th>uza_population</th>\n",
       "      <th>uza_area_sq_miles</th>\n",
       "    </tr>\n",
       "  </thead>\n",
       "  <tbody>\n",
       "    <tr>\n",
       "      <th>0</th>\n",
       "      <td>Bus</td>\n",
       "      <td>Directly Operated</td>\n",
       "      <td>Full Reporter</td>\n",
       "      <td>9.852488e+12</td>\n",
       "      <td>7.331355e+10</td>\n",
       "      <td>9.655963e+11</td>\n",
       "      <td>1.435647e+13</td>\n",
       "      <td>28553743.0</td>\n",
       "      <td>1240088322</td>\n",
       "      <td>180231.30</td>\n",
       "    </tr>\n",
       "    <tr>\n",
       "      <th>1</th>\n",
       "      <td>Bus</td>\n",
       "      <td>Directly Operated</td>\n",
       "      <td>Reduced Reporter</td>\n",
       "      <td>7.707831e+08</td>\n",
       "      <td>6.916987e+07</td>\n",
       "      <td>8.659638e+08</td>\n",
       "      <td>7.962925e+09</td>\n",
       "      <td>42485.0</td>\n",
       "      <td>455909166</td>\n",
       "      <td>46814.16</td>\n",
       "    </tr>\n",
       "    <tr>\n",
       "      <th>2</th>\n",
       "      <td>Bus</td>\n",
       "      <td>Directly Operated</td>\n",
       "      <td>Rural Reporter</td>\n",
       "      <td>1.625084e+09</td>\n",
       "      <td>1.350624e+08</td>\n",
       "      <td>2.428739e+09</td>\n",
       "      <td>1.331917e+10</td>\n",
       "      <td>104968.0</td>\n",
       "      <td>758265900</td>\n",
       "      <td>0.00</td>\n",
       "    </tr>\n",
       "    <tr>\n",
       "      <th>3</th>\n",
       "      <td>Bus</td>\n",
       "      <td>Directly Operated</td>\n",
       "      <td>Separate Service</td>\n",
       "      <td>0.000000e+00</td>\n",
       "      <td>0.000000e+00</td>\n",
       "      <td>0.000000e+00</td>\n",
       "      <td>0.000000e+00</td>\n",
       "      <td>0.0</td>\n",
       "      <td>11679708</td>\n",
       "      <td>2805.48</td>\n",
       "    </tr>\n",
       "    <tr>\n",
       "      <th>4</th>\n",
       "      <td>Bus</td>\n",
       "      <td>Purchased Transportation</td>\n",
       "      <td>Building Reporter</td>\n",
       "      <td>3.420411e+07</td>\n",
       "      <td>1.801776e+06</td>\n",
       "      <td>2.348028e+07</td>\n",
       "      <td>1.584634e+08</td>\n",
       "      <td>512.0</td>\n",
       "      <td>419172</td>\n",
       "      <td>98.10</td>\n",
       "    </tr>\n",
       "  </tbody>\n",
       "</table>\n",
       "</div>"
      ],
      "text/plain": [
       "  mode                   service      reporter_type     total_upt  \\\n",
       "0  Bus         Directly Operated      Full Reporter  9.852488e+12   \n",
       "1  Bus         Directly Operated   Reduced Reporter  7.707831e+08   \n",
       "2  Bus         Directly Operated     Rural Reporter  1.625084e+09   \n",
       "3  Bus         Directly Operated   Separate Service  0.000000e+00   \n",
       "4  Bus  Purchased Transportation  Building Reporter  3.420411e+07   \n",
       "\n",
       "      total_vrh     total_vrm   opexp_total  total_voms  uza_population  \\\n",
       "0  7.331355e+10  9.655963e+11  1.435647e+13  28553743.0      1240088322   \n",
       "1  6.916987e+07  8.659638e+08  7.962925e+09     42485.0       455909166   \n",
       "2  1.350624e+08  2.428739e+09  1.331917e+10    104968.0       758265900   \n",
       "3  0.000000e+00  0.000000e+00  0.000000e+00         0.0        11679708   \n",
       "4  1.801776e+06  2.348028e+07  1.584634e+08       512.0          419172   \n",
       "\n",
       "   uza_area_sq_miles  \n",
       "0          180231.30  \n",
       "1           46814.16  \n",
       "2               0.00  \n",
       "3            2805.48  \n",
       "4              98.10  "
      ]
     },
     "metadata": {},
     "output_type": "display_data"
    }
   ],
   "source": [
    "display(\"group_cat\", group_cat_cols.shape, group_cat_cols.head())"
   ]
  },
  {
   "cell_type": "markdown",
   "id": "a1822df6-aa6f-426b-ae37-25a6632939fd",
   "metadata": {
    "tags": []
   },
   "source": [
    "### **This establishes we can aggregate up to just agecny level data.**\n",
    "\n",
    "but still need to consider what to do with the categorical columns we lose from a simple aggregate.\n",
    "\n",
    "this work will continue on issue #1683"
   ]
  },
  {
   "cell_type": "markdown",
   "id": "1490de37-265c-4caf-bd85-aecffd3c59c5",
   "metadata": {},
   "source": [
    "# Are there ways to get more interactive/easy-to-read visualizations?\n",
    "If it takes significant time, break this one out\n",
    "\n",
    "Might have to break this out. What other visuals would make sense for hierarchal clustering?\n",
    "- dendrogram (1 for fixed and non-fixed guideway modes)\n",
    "- loss curve?\n",
    "- \n"
   ]
  },
  {
   "cell_type": "code",
   "execution_count": 105,
   "id": "b418b07f-d33b-4dca-9f5f-c19f29f78d67",
   "metadata": {},
   "outputs": [
    {
     "data": {
      "application/vnd.plotly.v1+json": {
       "config": {
        "plotlyServerURL": "https://plot.ly"
       },
       "data": [
        {
         "hovertemplate": "service=Purchased Transportation<br>total_upt=%{x}<br>total_vrh=%{y}<br>total_vrm=%{z}<extra></extra>",
         "legendgroup": "Purchased Transportation",
         "marker": {
          "color": "#636efa",
          "symbol": "circle"
         },
         "mode": "markers",
         "name": "Purchased Transportation",
         "scene": "scene",
         "showlegend": true,
         "type": "scatter3d",
         "x": [
          376484274,
          0,
          374603616,
          953959680,
          0,
          12740000,
          241440704,
          6190624,
          540377856,
          63518720,
          32283648,
          0,
          5952,
          16662096,
          2110432,
          655520,
          124976,
          210276,
          16252083,
          1013493313,
          0,
          4927,
          6228096,
          791312,
          710176,
          554416,
          1010240,
          0,
          0,
          284080,
          2860596,
          1234683,
          0,
          1961248,
          237776,
          9311744,
          908288,
          0,
          1770032,
          238288,
          1258112,
          87232,
          8659,
          4700336,
          688720,
          85040,
          800336,
          1396192,
          0,
          0,
          2122686,
          1069443,
          0,
          0,
          0,
          1000998,
          0,
          1948176,
          3458624,
          973024,
          22857,
          6168960,
          0,
          0,
          10674909,
          1748628,
          102954240,
          6594560,
          137133,
          106920,
          18631539,
          2717874,
          41108877,
          8897040,
          1728216,
          22215627,
          0,
          19805744,
          654512,
          344944,
          278720,
          29874176,
          616704,
          16923411,
          0,
          0,
          839328,
          296486400,
          16422656,
          0,
          0,
          5014464,
          482976,
          7832457,
          0,
          1387368,
          16858730000,
          939470625,
          204686250,
          0,
          218213,
          1738912,
          310656,
          12576,
          0,
          1314384,
          221376,
          2558448,
          89936,
          16792,
          0,
          86957017,
          0,
          429712,
          429648,
          0,
          569296,
          6923776,
          0,
          34494288,
          1355680,
          6587056,
          228496,
          5704,
          3582624,
          591440,
          8891056,
          275712,
          4283280,
          5904576,
          1240800,
          186240,
          17732844,
          3768039,
          2738286,
          983970,
          289117269,
          32809617,
          17513577,
          13005488,
          536688,
          0,
          3988750,
          0,
          765207,
          4112451,
          1275792,
          75920,
          12396483,
          0,
          53616,
          4010784,
          1166384,
          0,
          0,
          0,
          47077888,
          9282560,
          0,
          6598528,
          240224,
          6988736,
          520240,
          7750288,
          742816,
          693748125,
          24327500,
          35555000,
          850512,
          250800,
          1719760,
          162640,
          85516,
          25186875,
          2042500,
          624112,
          33263616,
          71213056,
          2160324608,
          0,
          21671936,
          340767,
          2940300,
          3506409,
          0,
          88056720,
          5752701,
          1097856,
          0,
          14717275,
          18789632,
          62150400,
          2567856,
          0,
          0,
          7585536,
          18202160,
          373904,
          23416533,
          10180809,
          199980800,
          9367552,
          65393408,
          204748125,
          5602500,
          20768512,
          5605632,
          8127488,
          160935498,
          0,
          0,
          0,
          26931250,
          0,
          0,
          270840,
          196555,
          40451,
          48689,
          52723,
          11151216,
          221184,
          43312,
          71616,
          36122,
          55000,
          5161,
          79793344512,
          0,
          11122061312,
          10000640,
          3194624,
          78467008,
          1558432,
          1962051,
          877568,
          4122624,
          583800048,
          323293680,
          55156464,
          54571806,
          8819604,
          11878650,
          55673306451,
          3779477172,
          1085924232,
          0,
          8538413229,
          0,
          21716991,
          21892599,
          235063026561,
          0,
          0,
          19677152616,
          0,
          0,
          7561139476,
          746768,
          226848,
          9775080,
          0,
          10516635,
          0,
          0,
          0,
          0,
          177071120,
          3424518,
          9806265,
          0,
          10159568,
          821136,
          9037008,
          0,
          636255,
          141224,
          3462129153,
          0,
          901599510,
          0,
          0,
          0,
          2266112,
          9929472,
          17613056,
          241941,
          0,
          0,
          155140677,
          72271963176,
          434969962,
          835432752,
          0,
          0,
          0,
          521858750,
          0,
          54995024,
          1634417,
          46860000,
          11200000,
          706610000,
          0,
          0,
          0,
          4060854000,
          442108368,
          0,
          202487,
          0,
          0,
          0,
          715304960,
          2455097344,
          0,
          0,
          0,
          0,
          0,
          88096,
          61145118,
          60822495,
          2817747,
          0,
          119327360,
          52346,
          327781728,
          5593536,
          20309778,
          0,
          0,
          23161250,
          118491250,
          16480625,
          0,
          481742848,
          75292928,
          0,
          1006416,
          162336,
          75841029,
          8450568,
          0,
          42365440,
          675072,
          14172160,
          1152880,
          17091584,
          16475392,
          6120846,
          54759321,
          2718036,
          327889664,
          18600960,
          55703808,
          229251328,
          70929108,
          23294952,
          3072411,
          21074496,
          940096,
          2126880,
          67445460,
          5481108,
          5453244
         ],
         "y": [
          94625091,
          94625091,
          850824648,
          850824648,
          374424,
          374424,
          2454912,
          2454912,
          27419136,
          27419136,
          27419136,
          27419136,
          18864,
          1433064,
          1433064,
          217088,
          217088,
          13372479,
          13372479,
          2163934521,
          2163934521,
          2375,
          503584,
          503584,
          380648,
          380648,
          90832,
          4168,
          56376,
          56376,
          523584,
          523584,
          523584,
          332208,
          332208,
          734720,
          734720,
          734720,
          106248,
          106248,
          113248,
          113248,
          5215,
          446680,
          221312,
          221312,
          322936,
          322936,
          1548500,
          1548500,
          295326,
          295326,
          295326,
          108405,
          108405,
          113265,
          113265,
          272800,
          387560,
          387560,
          10669,
          234171,
          234171,
          6925743,
          820098,
          820098,
          4055168,
          4055168,
          44631,
          44631,
          1041066,
          1041066,
          3076758,
          3076758,
          3076758,
          26650998,
          5280147,
          1750928,
          1750928,
          195704,
          195704,
          1026112,
          1026112,
          1111887,
          1111887,
          422982,
          91000,
          5010048,
          5010048,
          0,
          0,
          445472,
          445472,
          1232847,
          1232847,
          1232847,
          204789375,
          204789375,
          204789375,
          204789375,
          29389,
          287144,
          287144,
          3720,
          3720,
          263760,
          263760,
          69088,
          69088,
          9839,
          119129045,
          119129045,
          119129045,
          117304,
          46432,
          46432,
          55120,
          12040896,
          12040896,
          1339176,
          1339176,
          368816,
          368816,
          3241,
          331680,
          331680,
          653976,
          653976,
          1526688,
          1526688,
          231416,
          231416,
          2481921,
          2481921,
          2481921,
          58812,
          9676071,
          9676071,
          9676071,
          925056,
          925056,
          104370875,
          104370875,
          104370875,
          4538268,
          4538268,
          198280,
          198280,
          973242,
          973242,
          16672,
          544232,
          544232,
          48373416,
          48373416,
          48373416,
          4265088,
          4265088,
          4265088,
          507400,
          507400,
          846480,
          846480,
          451640,
          451640,
          33870000,
          33870000,
          33870000,
          255768,
          255768,
          300840,
          300840,
          33966,
          1400375,
          1400375,
          431368,
          110700032,
          110700032,
          110700032,
          110700032,
          110700032,
          992439,
          992439,
          992439,
          0,
          5777892,
          5777892,
          41488,
          41488,
          1579892,
          7251136,
          7251136,
          3562480,
          15704901,
          18346112,
          18346112,
          754008,
          754008,
          4197339,
          4197339,
          8606336,
          8606336,
          8606336,
          8858375,
          8858375,
          1116288,
          1116288,
          1116288,
          5148009,
          5148009,
          5148009,
          157629125,
          157629125,
          157629125,
          157629125,
          13166,
          31938,
          7402,
          8014,
          6583,
          500272,
          500272,
          12856,
          6586,
          20842,
          13146,
          2943,
          8112194560,
          8112194560,
          8112194560,
          1614464,
          1614464,
          3308720,
          3308720,
          497118,
          826368,
          826368,
          109828440,
          109828440,
          109828440,
          5067522,
          5067522,
          5067522,
          782542863,
          782542863,
          782542863,
          782542863,
          782542863,
          782542863,
          29685393,
          29685393,
          5289295506,
          5289295506,
          5289295506,
          5289295506,
          5289295506,
          5289295506,
          5289295506,
          105928,
          105928,
          443097,
          443097,
          507195,
          507195,
          2566912,
          2566912,
          3444776,
          3444776,
          315900,
          1554525,
          1554525,
          815088,
          815088,
          776871,
          776871,
          776871,
          38510,
          407295350,
          407295350,
          407295350,
          407295350,
          692402095,
          692402095,
          3169856,
          3169856,
          3169856,
          67276,
          12210669,
          12210669,
          12210669,
          1792323176,
          1792323176,
          1792323176,
          1792323176,
          651262875,
          651262875,
          651262875,
          389592,
          389592,
          411493,
          362752000,
          362752000,
          362752000,
          362752000,
          18486625,
          18486625,
          276443064,
          276443064,
          276443064,
          13316,
          43956500,
          43956500,
          43956500,
          1668945920,
          1668945920,
          1668945920,
          1668945920,
          92116008,
          92116008,
          92116008,
          51256,
          4926204,
          4926204,
          4926204,
          459304,
          4777960,
          14815,
          14880537,
          14880537,
          14880537,
          61208500,
          61208500,
          61208500,
          6569250,
          6569250,
          6569250,
          28244352,
          28244352,
          28244352,
          121992,
          121992,
          7198578,
          7198578,
          7198578,
          2301824,
          2301824,
          1319264,
          1319264,
          2689280,
          2689280,
          4298535,
          4298535,
          4298535,
          40900032,
          40900032,
          40900032,
          40900032,
          4276287,
          4276287,
          4276287,
          1491744,
          1491744,
          297248,
          3593457,
          3593457,
          3593457
         ],
         "z": [
          1621257309,
          1621257309,
          9246227976,
          9246227976,
          14852168,
          14852168,
          17886696,
          17886696,
          436544512,
          436544512,
          436544512,
          436544512,
          423896,
          18918128,
          18918128,
          5563568,
          5563568,
          154527615,
          154527615,
          15859024832,
          15859024832,
          37009,
          4101456,
          4101456,
          3436864,
          3436864,
          1158728,
          69344,
          675408,
          675408,
          2256039,
          2256039,
          2256039,
          3270064,
          3270064,
          6266816,
          6266816,
          6266816,
          998064,
          998064,
          1353080,
          1353080,
          26059,
          4125728,
          1306760,
          1306760,
          5950424,
          5950424,
          22505000,
          22505000,
          3749787,
          3749787,
          3749787,
          1022895,
          1022895,
          978237,
          978237,
          2925880,
          4867144,
          4867144,
          91020,
          2354346,
          2354346,
          72201024,
          7718517,
          7718517,
          35637056,
          35637056,
          1003698,
          1003698,
          12435309,
          12435309,
          54427896,
          54427896,
          54427896,
          303968160,
          65070432,
          15464744,
          15464744,
          1343896,
          1343896,
          16479616,
          16479616,
          9754938,
          9754938,
          3827196,
          860264,
          48059456,
          48059456,
          0,
          0,
          4567296,
          4567296,
          12623877,
          12623877,
          12623877,
          2569836875,
          2569836875,
          2569836875,
          2569836875,
          288381,
          4226480,
          4226480,
          69048,
          69048,
          3357632,
          3357632,
          748064,
          748064,
          59129,
          1233721265,
          1233721265,
          1233721265,
          1266112,
          659944,
          659944,
          808264,
          132307072,
          132307072,
          13613744,
          13613744,
          4107720,
          4107720,
          25931,
          3436824,
          3436824,
          6985576,
          6985576,
          19170864,
          19170864,
          2197600,
          2197600,
          33115851,
          33115851,
          33115851,
          643040,
          157591737,
          157591737,
          157591737,
          14569416,
          14569416,
          986259500,
          986259500,
          986259500,
          49905666,
          49905666,
          2963864,
          2963864,
          12396861,
          12396861,
          89024,
          8411120,
          8411120,
          651860784,
          651860784,
          651860784,
          45822656,
          45822656,
          45822656,
          5419456,
          5419456,
          9631640,
          9631640,
          5913736,
          5913736,
          540386875,
          540386875,
          540386875,
          3037152,
          3037152,
          2167984,
          2167984,
          283803,
          32241375,
          32241375,
          6928352,
          2008869376,
          2008869376,
          2008869376,
          2008869376,
          2008869376,
          21750525,
          21750525,
          21750525,
          0,
          90828243,
          90828243,
          458184,
          458184,
          21861959,
          84867328,
          84867328,
          42874720,
          207428121,
          309497920,
          309497920,
          15834136,
          15834136,
          107644302,
          107644302,
          191932608,
          191932608,
          191932608,
          198999125,
          198999125,
          26928896,
          26928896,
          26928896,
          68956380,
          68956380,
          68956380,
          1554386000,
          1554386000,
          1554386000,
          1554386000,
          114674,
          379982,
          78415,
          88461,
          73633,
          4087320,
          4087320,
          71014,
          57885,
          238158,
          143890,
          29794,
          107735963136,
          107735963136,
          107735963136,
          39715136,
          39715136,
          50327608,
          50327608,
          23734959,
          13718720,
          13718720,
          1772002656,
          1772002656,
          1772002656,
          71724555,
          71724555,
          71724555,
          12079874817,
          12079874817,
          12079874817,
          12079874817,
          12079874817,
          12079874817,
          408603312,
          408603312,
          71673582013,
          71673582013,
          71673582013,
          71673582013,
          71673582013,
          71673582013,
          71673582013,
          2459832,
          2459832,
          6558678,
          6558678,
          6975153,
          6975153,
          44940544,
          44940544,
          110050464,
          110050464,
          10455156,
          20391156,
          20391156,
          13541920,
          13541920,
          17282457,
          17282457,
          17282457,
          1566055,
          6055374136,
          6055374136,
          6055374136,
          6055374136,
          9476800851,
          9476800851,
          49483456,
          49483456,
          49483456,
          2688224,
          514393254,
          514393254,
          514393254,
          23606568888,
          23606568888,
          23606568888,
          23606568888,
          20473582875,
          20473582875,
          20473582875,
          8002864,
          8002864,
          18519265,
          4780299000,
          4780299000,
          4780299000,
          4780299000,
          378232375,
          378232375,
          3345014016,
          3345014016,
          3345014016,
          585196,
          535363125,
          535363125,
          535363125,
          20795939840,
          20795939840,
          20795939840,
          20795939840,
          1280330280,
          1280330280,
          1280330280,
          1102232,
          92716461,
          92716461,
          92716461,
          13252432,
          174139608,
          716703,
          212601591,
          212601591,
          212601591,
          989724750,
          989724750,
          989724750,
          150490750,
          150490750,
          150490750,
          372972864,
          372972864,
          372972864,
          2060376,
          2060376,
          108665820,
          108665820,
          108665820,
          62868480,
          62868480,
          22751960,
          22751960,
          38380352,
          38380352,
          87596667,
          87596667,
          87596667,
          1111433536,
          1111433536,
          1111433536,
          1111433536,
          71403552,
          71403552,
          71403552,
          29484472,
          29484472,
          8277360,
          52770879,
          52770879,
          52770879
         ]
        },
        {
         "hovertemplate": "service=Purchased Transportation - Taxi<br>total_upt=%{x}<br>total_vrh=%{y}<br>total_vrm=%{z}<extra></extra>",
         "legendgroup": "Purchased Transportation - Taxi",
         "marker": {
          "color": "#EF553B",
          "symbol": "circle"
         },
         "mode": "markers",
         "name": "Purchased Transportation - Taxi",
         "scene": "scene",
         "showlegend": true,
         "type": "scatter3d",
         "x": [
          147817224,
          58192,
          1904640,
          27098750,
          411156,
          717174,
          4958253,
          104820000,
          219511425,
          5964273,
          67324608,
          39916800,
          7668179827,
          110322,
          108621,
          0,
          2917215,
          0,
          0,
          227797276,
          154040000,
          49833792,
          0
         ],
         "y": [
          94625091,
          4168,
          734720,
          1548500,
          113265,
          234171,
          1111887,
          204789375,
          119129045,
          973242,
          48373416,
          109828440,
          5289295506,
          443097,
          507195,
          2566912,
          1554525,
          407295350,
          692402095,
          1792323176,
          362752000,
          276443064,
          1668945920
         ],
         "z": [
          1621257309,
          69344,
          6266816,
          22505000,
          978237,
          2354346,
          9754938,
          2569836875,
          1233721265,
          12396861,
          651860784,
          1772002656,
          71673582013,
          6558678,
          6975153,
          44940544,
          20391156,
          6055374136,
          9476800851,
          23606568888,
          4780299000,
          3345014016,
          20795939840
         ]
        },
        {
         "hovertemplate": "service=Directly Operated<br>total_upt=%{x}<br>total_vrh=%{y}<br>total_vrm=%{z}<extra></extra>",
         "legendgroup": "Directly Operated",
         "marker": {
          "color": "#00cc96",
          "symbol": "circle"
         },
         "mode": "markers",
         "name": "Directly Operated",
         "scene": "scene",
         "showlegend": true,
         "type": "scatter3d",
         "x": [
          71463661344,
          9892115280,
          956438928,
          0,
          2971080,
          300348,
          1384371,
          73392,
          7273214,
          344777796,
          379723,
          303044248647,
          12198645452,
          89494864396,
          13799084824,
          161069094571,
          886752,
          1740448,
          143056,
          319744,
          461888,
          23531,
          635472,
          20292,
          3703750,
          1979559,
          10924832,
          283696,
          10288,
          42640,
          399539628,
          595674,
          23992,
          10720674,
          0,
          1403811,
          63109,
          0,
          12052480,
          1056768,
          0,
          1228790331,
          0,
          283456827,
          1392795,
          0,
          0,
          30456,
          2578635,
          0,
          0,
          0,
          15935,
          0,
          0,
          16491,
          0,
          99024,
          12467216510,
          0,
          0,
          258096,
          0,
          463909888,
          0,
          1365824,
          0,
          39568,
          205328,
          0,
          0,
          0,
          0,
          139332,
          9315,
          8783391250,
          187714422,
          32545,
          4684736,
          1258720,
          11326,
          0,
          766080,
          0,
          5067512928,
          0,
          0,
          0,
          0,
          14594,
          0,
          11344,
          0,
          1038224,
          0,
          0,
          0,
          3430624,
          3882897408,
          12140544,
          0,
          55899,
          0,
          401464064,
          4107520,
          24557312,
          0,
          116824,
          15112818,
          3215376,
          1798605,
          60,
          0,
          0,
          83520624,
          504219087,
          21846672,
          600658944,
          472587264,
          4814720,
          3841120,
          0,
          0,
          0,
          0,
          0,
          0,
          21356110000,
          1557322997760,
          33630629888,
          4911931392,
          212705587200,
          275450826752,
          0,
          0,
          0,
          274000,
          3209680,
          655104,
          0,
          0,
          4298631120,
          0,
          5425,
          22060998,
          1553013,
          2139939,
          112335579,
          1430379,
          2102922,
          0,
          5416525404,
          11190290697,
          1086,
          863794125,
          614759704515,
          0,
          0,
          15685888,
          0,
          0,
          17426222702,
          674966719,
          33591360971,
          2010066779,
          25865233492,
          0,
          71110390589,
          157954248459,
          53636213125,
          1459724375,
          39210030000,
          0,
          685330000,
          601350000,
          0,
          827601250,
          0,
          42188125,
          16056090864,
          0,
          5382123125,
          0,
          140854173696,
          0,
          26416185344,
          7518083040,
          324123120,
          177334272,
          0,
          15910832,
          0,
          2962209375,
          132339375,
          0,
          0,
          13410,
          0,
          0,
          0,
          0,
          5013293,
          0,
          1073574,
          642573,
          1782
         ],
         "y": [
          850824648,
          850824648,
          850824648,
          850824648,
          669789,
          669789,
          669789,
          18864,
          673805,
          13372479,
          13863,
          2163934521,
          2163934521,
          2163934521,
          2163934521,
          2163934521,
          90832,
          119240,
          119240,
          140544,
          140544,
          17241,
          446680,
          2934,
          1548500,
          108405,
          794544,
          794544,
          272800,
          6614,
          6925743,
          6925743,
          8705,
          811998,
          811998,
          811998,
          17547,
          820098,
          4055168,
          4055168,
          1041066,
          26650998,
          26650998,
          5280147,
          5280147,
          1026112,
          1026112,
          422982,
          422982,
          91000,
          5010048,
          5010048,
          12651,
          0,
          0,
          6891,
          13680,
          13680,
          119129045,
          119129045,
          119129045,
          117304,
          55120,
          12040896,
          12040896,
          71720,
          71720,
          48368,
          48368,
          1526688,
          1526688,
          1526688,
          1526688,
          51937,
          4686,
          104370875,
          4538268,
          3558,
          563824,
          563824,
          6348,
          90840,
          90840,
          16672,
          48373416,
          48373416,
          4265088,
          33870000,
          33870000,
          3901,
          9264,
          9264,
          131720,
          131720,
          1400375,
          1400375,
          1400375,
          431368,
          110700032,
          110700032,
          110700032,
          20500,
          5777892,
          6984832,
          6984832,
          6984832,
          6984832,
          50436,
          1702350,
          1702350,
          1702350,
          23,
          7251136,
          7251136,
          3562480,
          15704901,
          15704901,
          18346112,
          18346112,
          576104,
          576104,
          4197339,
          8606336,
          8858375,
          8858375,
          8858375,
          1116288,
          157629125,
          8112194560,
          8112194560,
          8112194560,
          8112194560,
          8112194560,
          1614464,
          1614464,
          65096,
          65096,
          584088,
          584088,
          826368,
          826368,
          109828440,
          109828440,
          1458,
          1714095,
          1714095,
          1714095,
          2579013,
          2579013,
          2579013,
          782542863,
          782542863,
          782542863,
          264,
          29685393,
          5289295506,
          5289295506,
          5289295506,
          2566912,
          315900,
          315900,
          407295350,
          407295350,
          692402095,
          692402095,
          692402095,
          3169856,
          1792323176,
          1792323176,
          651262875,
          651262875,
          362752000,
          362752000,
          362752000,
          362752000,
          362752000,
          18486625,
          18486625,
          18486625,
          276443064,
          276443064,
          43956500,
          43956500,
          1668945920,
          1668945920,
          1668945920,
          92116008,
          92116008,
          92116008,
          51256,
          459304,
          4777960,
          61208500,
          61208500,
          6569250,
          6569250,
          7142,
          2301824,
          2301824,
          2689280,
          2689280,
          124352,
          297248,
          85077,
          85077,
          85077
         ],
         "z": [
          9246227976,
          9246227976,
          9246227976,
          9246227976,
          13169898,
          13169898,
          13169898,
          423896,
          19260492,
          154527615,
          81000,
          15859024832,
          15859024832,
          15859024832,
          15859024832,
          15859024832,
          1158728,
          2114664,
          2114664,
          1572208,
          1572208,
          85031,
          4125728,
          52776,
          22505000,
          1022895,
          7837672,
          7837672,
          2925880,
          58085,
          72201024,
          72201024,
          90636,
          7351965,
          7351965,
          7351965,
          141167,
          7718517,
          35637056,
          35637056,
          12435309,
          303968160,
          303968160,
          65070432,
          65070432,
          16479616,
          16479616,
          3827196,
          3827196,
          860264,
          48059456,
          48059456,
          106441,
          0,
          0,
          46231,
          82680,
          82680,
          1233721265,
          1233721265,
          1233721265,
          1266112,
          808264,
          132307072,
          132307072,
          836160,
          836160,
          737032,
          737032,
          19170864,
          19170864,
          19170864,
          19170864,
          699677,
          27264,
          986259500,
          49905666,
          73709,
          8312368,
          8312368,
          47241,
          892520,
          892520,
          89024,
          651860784,
          651860784,
          45822656,
          540386875,
          540386875,
          35080,
          160040,
          160040,
          2324360,
          2324360,
          32241375,
          32241375,
          32241375,
          6928352,
          2008869376,
          2008869376,
          2008869376,
          530525,
          90828243,
          111188032,
          111188032,
          111188032,
          111188032,
          927555,
          34710606,
          34710606,
          34710606,
          936,
          84867328,
          84867328,
          42874720,
          207428121,
          207428121,
          309497920,
          309497920,
          13448848,
          13448848,
          107644302,
          191932608,
          198999125,
          198999125,
          198999125,
          26928896,
          1554386000,
          107735963136,
          107735963136,
          107735963136,
          107735963136,
          107735963136,
          39715136,
          39715136,
          2014880,
          2014880,
          9550200,
          9550200,
          13718720,
          13718720,
          1772002656,
          1772002656,
          56094,
          33933492,
          33933492,
          33933492,
          37923012,
          37923012,
          37923012,
          12079874817,
          12079874817,
          12079874817,
          12882,
          408603312,
          71673582013,
          71673582013,
          71673582013,
          44940544,
          10455156,
          10455156,
          6055374136,
          6055374136,
          9476800851,
          9476800851,
          9476800851,
          49483456,
          23606568888,
          23606568888,
          20473582875,
          20473582875,
          4780299000,
          4780299000,
          4780299000,
          4780299000,
          4780299000,
          378232375,
          378232375,
          378232375,
          3345014016,
          3345014016,
          535363125,
          535363125,
          20795939840,
          20795939840,
          20795939840,
          1280330280,
          1280330280,
          1280330280,
          1102232,
          13252432,
          174139608,
          989724750,
          989724750,
          150490750,
          150490750,
          233626,
          62868480,
          62868480,
          38380352,
          38380352,
          1311178,
          8277360,
          1183464,
          1183464,
          1183464
         ]
        },
        {
         "hovertemplate": "service=Purchased Transportation - Transportation Network Company<br>total_upt=%{x}<br>total_vrh=%{y}<br>total_vrm=%{z}<extra></extra>",
         "legendgroup": "Purchased Transportation - Transportation Network Company",
         "marker": {
          "color": "#ab63fa",
          "symbol": "circle"
         },
         "mode": "markers",
         "name": "Purchased Transportation - Transportation Network Company",
         "scene": "scene",
         "showlegend": true,
         "type": "scatter3d",
         "x": [
          10070000,
          2430,
          26150000,
          165964323,
          16065024
         ],
         "y": [
          1548500,
          44631,
          104370875,
          692402095,
          28244352
         ],
         "z": [
          22505000,
          1003698,
          986259500,
          9476800851,
          372972864
         ]
        }
       ],
       "layout": {
        "height": 500,
        "legend": {
         "title": {
          "text": "service"
         },
         "tracegroupgap": 0
        },
        "margin": {
         "t": 60
        },
        "scene": {
         "aspectmode": "auto",
         "aspectratio": {
          "x": 1,
          "y": 1,
          "z": 1
         },
         "domain": {
          "x": [
           0,
           1
          ],
          "y": [
           0,
           1
          ]
         },
         "xaxis": {
          "title": {
           "text": "total_upt"
          },
          "type": "linear"
         },
         "yaxis": {
          "title": {
           "text": "total_vrh"
          },
          "type": "linear"
         },
         "zaxis": {
          "title": {
           "text": "total_vrm"
          },
          "type": "linear"
         }
        },
        "template": {
         "data": {
          "bar": [
           {
            "error_x": {
             "color": "#2a3f5f"
            },
            "error_y": {
             "color": "#2a3f5f"
            },
            "marker": {
             "line": {
              "color": "#E5ECF6",
              "width": 0.5
             },
             "pattern": {
              "fillmode": "overlay",
              "size": 10,
              "solidity": 0.2
             }
            },
            "type": "bar"
           }
          ],
          "barpolar": [
           {
            "marker": {
             "line": {
              "color": "#E5ECF6",
              "width": 0.5
             },
             "pattern": {
              "fillmode": "overlay",
              "size": 10,
              "solidity": 0.2
             }
            },
            "type": "barpolar"
           }
          ],
          "carpet": [
           {
            "aaxis": {
             "endlinecolor": "#2a3f5f",
             "gridcolor": "white",
             "linecolor": "white",
             "minorgridcolor": "white",
             "startlinecolor": "#2a3f5f"
            },
            "baxis": {
             "endlinecolor": "#2a3f5f",
             "gridcolor": "white",
             "linecolor": "white",
             "minorgridcolor": "white",
             "startlinecolor": "#2a3f5f"
            },
            "type": "carpet"
           }
          ],
          "choropleth": [
           {
            "colorbar": {
             "outlinewidth": 0,
             "ticks": ""
            },
            "type": "choropleth"
           }
          ],
          "contour": [
           {
            "colorbar": {
             "outlinewidth": 0,
             "ticks": ""
            },
            "colorscale": [
             [
              0,
              "#0d0887"
             ],
             [
              0.1111111111111111,
              "#46039f"
             ],
             [
              0.2222222222222222,
              "#7201a8"
             ],
             [
              0.3333333333333333,
              "#9c179e"
             ],
             [
              0.4444444444444444,
              "#bd3786"
             ],
             [
              0.5555555555555556,
              "#d8576b"
             ],
             [
              0.6666666666666666,
              "#ed7953"
             ],
             [
              0.7777777777777778,
              "#fb9f3a"
             ],
             [
              0.8888888888888888,
              "#fdca26"
             ],
             [
              1,
              "#f0f921"
             ]
            ],
            "type": "contour"
           }
          ],
          "contourcarpet": [
           {
            "colorbar": {
             "outlinewidth": 0,
             "ticks": ""
            },
            "type": "contourcarpet"
           }
          ],
          "heatmap": [
           {
            "colorbar": {
             "outlinewidth": 0,
             "ticks": ""
            },
            "colorscale": [
             [
              0,
              "#0d0887"
             ],
             [
              0.1111111111111111,
              "#46039f"
             ],
             [
              0.2222222222222222,
              "#7201a8"
             ],
             [
              0.3333333333333333,
              "#9c179e"
             ],
             [
              0.4444444444444444,
              "#bd3786"
             ],
             [
              0.5555555555555556,
              "#d8576b"
             ],
             [
              0.6666666666666666,
              "#ed7953"
             ],
             [
              0.7777777777777778,
              "#fb9f3a"
             ],
             [
              0.8888888888888888,
              "#fdca26"
             ],
             [
              1,
              "#f0f921"
             ]
            ],
            "type": "heatmap"
           }
          ],
          "heatmapgl": [
           {
            "colorbar": {
             "outlinewidth": 0,
             "ticks": ""
            },
            "colorscale": [
             [
              0,
              "#0d0887"
             ],
             [
              0.1111111111111111,
              "#46039f"
             ],
             [
              0.2222222222222222,
              "#7201a8"
             ],
             [
              0.3333333333333333,
              "#9c179e"
             ],
             [
              0.4444444444444444,
              "#bd3786"
             ],
             [
              0.5555555555555556,
              "#d8576b"
             ],
             [
              0.6666666666666666,
              "#ed7953"
             ],
             [
              0.7777777777777778,
              "#fb9f3a"
             ],
             [
              0.8888888888888888,
              "#fdca26"
             ],
             [
              1,
              "#f0f921"
             ]
            ],
            "type": "heatmapgl"
           }
          ],
          "histogram": [
           {
            "marker": {
             "pattern": {
              "fillmode": "overlay",
              "size": 10,
              "solidity": 0.2
             }
            },
            "type": "histogram"
           }
          ],
          "histogram2d": [
           {
            "colorbar": {
             "outlinewidth": 0,
             "ticks": ""
            },
            "colorscale": [
             [
              0,
              "#0d0887"
             ],
             [
              0.1111111111111111,
              "#46039f"
             ],
             [
              0.2222222222222222,
              "#7201a8"
             ],
             [
              0.3333333333333333,
              "#9c179e"
             ],
             [
              0.4444444444444444,
              "#bd3786"
             ],
             [
              0.5555555555555556,
              "#d8576b"
             ],
             [
              0.6666666666666666,
              "#ed7953"
             ],
             [
              0.7777777777777778,
              "#fb9f3a"
             ],
             [
              0.8888888888888888,
              "#fdca26"
             ],
             [
              1,
              "#f0f921"
             ]
            ],
            "type": "histogram2d"
           }
          ],
          "histogram2dcontour": [
           {
            "colorbar": {
             "outlinewidth": 0,
             "ticks": ""
            },
            "colorscale": [
             [
              0,
              "#0d0887"
             ],
             [
              0.1111111111111111,
              "#46039f"
             ],
             [
              0.2222222222222222,
              "#7201a8"
             ],
             [
              0.3333333333333333,
              "#9c179e"
             ],
             [
              0.4444444444444444,
              "#bd3786"
             ],
             [
              0.5555555555555556,
              "#d8576b"
             ],
             [
              0.6666666666666666,
              "#ed7953"
             ],
             [
              0.7777777777777778,
              "#fb9f3a"
             ],
             [
              0.8888888888888888,
              "#fdca26"
             ],
             [
              1,
              "#f0f921"
             ]
            ],
            "type": "histogram2dcontour"
           }
          ],
          "mesh3d": [
           {
            "colorbar": {
             "outlinewidth": 0,
             "ticks": ""
            },
            "type": "mesh3d"
           }
          ],
          "parcoords": [
           {
            "line": {
             "colorbar": {
              "outlinewidth": 0,
              "ticks": ""
             }
            },
            "type": "parcoords"
           }
          ],
          "pie": [
           {
            "automargin": true,
            "type": "pie"
           }
          ],
          "scatter": [
           {
            "marker": {
             "colorbar": {
              "outlinewidth": 0,
              "ticks": ""
             }
            },
            "type": "scatter"
           }
          ],
          "scatter3d": [
           {
            "line": {
             "colorbar": {
              "outlinewidth": 0,
              "ticks": ""
             }
            },
            "marker": {
             "colorbar": {
              "outlinewidth": 0,
              "ticks": ""
             }
            },
            "type": "scatter3d"
           }
          ],
          "scattercarpet": [
           {
            "marker": {
             "colorbar": {
              "outlinewidth": 0,
              "ticks": ""
             }
            },
            "type": "scattercarpet"
           }
          ],
          "scattergeo": [
           {
            "marker": {
             "colorbar": {
              "outlinewidth": 0,
              "ticks": ""
             }
            },
            "type": "scattergeo"
           }
          ],
          "scattergl": [
           {
            "marker": {
             "colorbar": {
              "outlinewidth": 0,
              "ticks": ""
             }
            },
            "type": "scattergl"
           }
          ],
          "scattermapbox": [
           {
            "marker": {
             "colorbar": {
              "outlinewidth": 0,
              "ticks": ""
             }
            },
            "type": "scattermapbox"
           }
          ],
          "scatterpolar": [
           {
            "marker": {
             "colorbar": {
              "outlinewidth": 0,
              "ticks": ""
             }
            },
            "type": "scatterpolar"
           }
          ],
          "scatterpolargl": [
           {
            "marker": {
             "colorbar": {
              "outlinewidth": 0,
              "ticks": ""
             }
            },
            "type": "scatterpolargl"
           }
          ],
          "scatterternary": [
           {
            "marker": {
             "colorbar": {
              "outlinewidth": 0,
              "ticks": ""
             }
            },
            "type": "scatterternary"
           }
          ],
          "surface": [
           {
            "colorbar": {
             "outlinewidth": 0,
             "ticks": ""
            },
            "colorscale": [
             [
              0,
              "#0d0887"
             ],
             [
              0.1111111111111111,
              "#46039f"
             ],
             [
              0.2222222222222222,
              "#7201a8"
             ],
             [
              0.3333333333333333,
              "#9c179e"
             ],
             [
              0.4444444444444444,
              "#bd3786"
             ],
             [
              0.5555555555555556,
              "#d8576b"
             ],
             [
              0.6666666666666666,
              "#ed7953"
             ],
             [
              0.7777777777777778,
              "#fb9f3a"
             ],
             [
              0.8888888888888888,
              "#fdca26"
             ],
             [
              1,
              "#f0f921"
             ]
            ],
            "type": "surface"
           }
          ],
          "table": [
           {
            "cells": {
             "fill": {
              "color": "#EBF0F8"
             },
             "line": {
              "color": "white"
             }
            },
            "header": {
             "fill": {
              "color": "#C8D4E3"
             },
             "line": {
              "color": "white"
             }
            },
            "type": "table"
           }
          ]
         },
         "layout": {
          "annotationdefaults": {
           "arrowcolor": "#2a3f5f",
           "arrowhead": 0,
           "arrowwidth": 1
          },
          "autotypenumbers": "strict",
          "coloraxis": {
           "colorbar": {
            "outlinewidth": 0,
            "ticks": ""
           }
          },
          "colorscale": {
           "diverging": [
            [
             0,
             "#8e0152"
            ],
            [
             0.1,
             "#c51b7d"
            ],
            [
             0.2,
             "#de77ae"
            ],
            [
             0.3,
             "#f1b6da"
            ],
            [
             0.4,
             "#fde0ef"
            ],
            [
             0.5,
             "#f7f7f7"
            ],
            [
             0.6,
             "#e6f5d0"
            ],
            [
             0.7,
             "#b8e186"
            ],
            [
             0.8,
             "#7fbc41"
            ],
            [
             0.9,
             "#4d9221"
            ],
            [
             1,
             "#276419"
            ]
           ],
           "sequential": [
            [
             0,
             "#0d0887"
            ],
            [
             0.1111111111111111,
             "#46039f"
            ],
            [
             0.2222222222222222,
             "#7201a8"
            ],
            [
             0.3333333333333333,
             "#9c179e"
            ],
            [
             0.4444444444444444,
             "#bd3786"
            ],
            [
             0.5555555555555556,
             "#d8576b"
            ],
            [
             0.6666666666666666,
             "#ed7953"
            ],
            [
             0.7777777777777778,
             "#fb9f3a"
            ],
            [
             0.8888888888888888,
             "#fdca26"
            ],
            [
             1,
             "#f0f921"
            ]
           ],
           "sequentialminus": [
            [
             0,
             "#0d0887"
            ],
            [
             0.1111111111111111,
             "#46039f"
            ],
            [
             0.2222222222222222,
             "#7201a8"
            ],
            [
             0.3333333333333333,
             "#9c179e"
            ],
            [
             0.4444444444444444,
             "#bd3786"
            ],
            [
             0.5555555555555556,
             "#d8576b"
            ],
            [
             0.6666666666666666,
             "#ed7953"
            ],
            [
             0.7777777777777778,
             "#fb9f3a"
            ],
            [
             0.8888888888888888,
             "#fdca26"
            ],
            [
             1,
             "#f0f921"
            ]
           ]
          },
          "colorway": [
           "#636efa",
           "#EF553B",
           "#00cc96",
           "#ab63fa",
           "#FFA15A",
           "#19d3f3",
           "#FF6692",
           "#B6E880",
           "#FF97FF",
           "#FECB52"
          ],
          "font": {
           "color": "#2a3f5f"
          },
          "geo": {
           "bgcolor": "white",
           "lakecolor": "white",
           "landcolor": "#E5ECF6",
           "showlakes": true,
           "showland": true,
           "subunitcolor": "white"
          },
          "hoverlabel": {
           "align": "left"
          },
          "hovermode": "closest",
          "mapbox": {
           "style": "light"
          },
          "paper_bgcolor": "white",
          "plot_bgcolor": "#E5ECF6",
          "polar": {
           "angularaxis": {
            "gridcolor": "white",
            "linecolor": "white",
            "ticks": ""
           },
           "bgcolor": "#E5ECF6",
           "radialaxis": {
            "gridcolor": "white",
            "linecolor": "white",
            "ticks": ""
           }
          },
          "scene": {
           "xaxis": {
            "backgroundcolor": "#E5ECF6",
            "gridcolor": "white",
            "gridwidth": 2,
            "linecolor": "white",
            "showbackground": true,
            "ticks": "",
            "zerolinecolor": "white"
           },
           "yaxis": {
            "backgroundcolor": "#E5ECF6",
            "gridcolor": "white",
            "gridwidth": 2,
            "linecolor": "white",
            "showbackground": true,
            "ticks": "",
            "zerolinecolor": "white"
           },
           "zaxis": {
            "backgroundcolor": "#E5ECF6",
            "gridcolor": "white",
            "gridwidth": 2,
            "linecolor": "white",
            "showbackground": true,
            "ticks": "",
            "zerolinecolor": "white"
           }
          },
          "shapedefaults": {
           "line": {
            "color": "#2a3f5f"
           }
          },
          "ternary": {
           "aaxis": {
            "gridcolor": "white",
            "linecolor": "white",
            "ticks": ""
           },
           "baxis": {
            "gridcolor": "white",
            "linecolor": "white",
            "ticks": ""
           },
           "bgcolor": "#E5ECF6",
           "caxis": {
            "gridcolor": "white",
            "linecolor": "white",
            "ticks": ""
           }
          },
          "title": {
           "x": 0.05
          },
          "xaxis": {
           "automargin": true,
           "gridcolor": "white",
           "linecolor": "white",
           "ticks": "",
           "title": {
            "standoff": 15
           },
           "zerolinecolor": "white",
           "zerolinewidth": 2
          },
          "yaxis": {
           "automargin": true,
           "gridcolor": "white",
           "linecolor": "white",
           "ticks": "",
           "title": {
            "standoff": 15
           },
           "zerolinecolor": "white",
           "zerolinewidth": 2
          }
         }
        },
        "width": 800
       }
      },
      "image/png": "[encoded data removed]",
      "text/html": [
       "<div>                            <div id=\"58e2cc30-5349-4d0b-b6e2-87747bf13725\" class=\"plotly-graph-div\" style=\"height:500px; width:800px;\"></div>            <script type=\"text/javascript\">                require([\"plotly\"], function(Plotly) {                    window.PLOTLYENV=window.PLOTLYENV || {};                                    if (document.getElementById(\"58e2cc30-5349-4d0b-b6e2-87747bf13725\")) {                    Plotly.newPlot(                        \"58e2cc30-5349-4d0b-b6e2-87747bf13725\",                        [{\"hovertemplate\":\"service=Purchased Transportation<br>total_upt=%{x}<br>total_vrh=%{y}<br>total_vrm=%{z}<extra></extra>\",\"legendgroup\":\"Purchased Transportation\",\"marker\":{\"color\":\"#636efa\",\"symbol\":\"circle\"},\"mode\":\"markers\",\"name\":\"Purchased Transportation\",\"scene\":\"scene\",\"showlegend\":true,\"x\":[376484274.0,0.0,374603616.0,953959680.0,0.0,12740000.0,241440704.0,6190624.0,540377856.0,63518720.0,32283648.0,0.0,5952.0,16662096.0,2110432.0,655520.0,124976.0,210276.0,16252083.0,1013493313.0,0.0,4927.0,6228096.0,791312.0,710176.0,554416.0,1010240.0,0.0,0.0,284080.0,2860596.0,1234683.0,0.0,1961248.0,237776.0,9311744.0,908288.0,0.0,1770032.0,238288.0,1258112.0,87232.0,8659.0,4700336.0,688720.0,85040.0,800336.0,1396192.0,0.0,0.0,2122686.0,1069443.0,0.0,0.0,0.0,1000998.0,0.0,1948176.0,3458624.0,973024.0,22857.0,6168960.0,0.0,0.0,10674909.0,1748628.0,102954240.0,6594560.0,137133.0,106920.0,18631539.0,2717874.0,41108877.0,8897040.0,1728216.0,22215627.0,0.0,19805744.0,654512.0,344944.0,278720.0,29874176.0,616704.0,16923411.0,0.0,0.0,839328.0,296486400.0,16422656.0,0.0,0.0,5014464.0,482976.0,7832457.0,0.0,1387368.0,16858730000.0,939470625.0,204686250.0,0.0,218213.0,1738912.0,310656.0,12576.0,0.0,1314384.0,221376.0,2558448.0,89936.0,16792.0,0.0,86957017.0,0.0,429712.0,429648.0,0.0,569296.0,6923776.0,0.0,34494288.0,1355680.0,6587056.0,228496.0,5704.0,3582624.0,591440.0,8891056.0,275712.0,4283280.0,5904576.0,1240800.0,186240.0,17732844.0,3768039.0,2738286.0,983970.0,289117269.0,32809617.0,17513577.0,13005488.0,536688.0,0.0,3988750.0,0.0,765207.0,4112451.0,1275792.0,75920.0,12396483.0,0.0,53616.0,4010784.0,1166384.0,0.0,0.0,0.0,47077888.0,9282560.0,0.0,6598528.0,240224.0,6988736.0,520240.0,7750288.0,742816.0,693748125.0,24327500.0,35555000.0,850512.0,250800.0,1719760.0,162640.0,85516.0,25186875.0,2042500.0,624112.0,33263616.0,71213056.0,2160324608.0,0.0,21671936.0,340767.0,2940300.0,3506409.0,0.0,88056720.0,5752701.0,1097856.0,0.0,14717275.0,18789632.0,62150400.0,2567856.0,0.0,0.0,7585536.0,18202160.0,373904.0,23416533.0,10180809.0,199980800.0,9367552.0,65393408.0,204748125.0,5602500.0,20768512.0,5605632.0,8127488.0,160935498.0,0.0,0.0,0.0,26931250.0,0.0,0.0,270840.0,196555.0,40451.0,48689.0,52723.0,11151216.0,221184.0,43312.0,71616.0,36122.0,55000.0,5161.0,79793344512.0,0.0,11122061312.0,10000640.0,3194624.0,78467008.0,1558432.0,1962051.0,877568.0,4122624.0,583800048.0,323293680.0,55156464.0,54571806.0,8819604.0,11878650.0,55673306451.0,3779477172.0,1085924232.0,0.0,8538413229.0,0.0,21716991.0,21892599.0,235063026561.0,0.0,0.0,19677152616.0,0.0,0.0,7561139476.0,746768.0,226848.0,9775080.0,0.0,10516635.0,0.0,0.0,0.0,0.0,177071120.0,3424518.0,9806265.0,0.0,10159568.0,821136.0,9037008.0,0.0,636255.0,141224.0,3462129153.0,0.0,901599510.0,0.0,0.0,0.0,2266112.0,9929472.0,17613056.0,241941.0,0.0,0.0,155140677.0,72271963176.0,434969962.0,835432752.0,0.0,0.0,0.0,521858750.0,0.0,54995024.0,1634417.0,46860000.0,11200000.0,706610000.0,0.0,0.0,0.0,4060854000.0,442108368.0,0.0,202487.0,0.0,0.0,0.0,715304960.0,2455097344.0,0.0,0.0,0.0,0.0,0.0,88096.0,61145118.0,60822495.0,2817747.0,0.0,119327360.0,52346.0,327781728.0,5593536.0,20309778.0,0.0,0.0,23161250.0,118491250.0,16480625.0,0.0,481742848.0,75292928.0,0.0,1006416.0,162336.0,75841029.0,8450568.0,0.0,42365440.0,675072.0,14172160.0,1152880.0,17091584.0,16475392.0,6120846.0,54759321.0,2718036.0,327889664.0,18600960.0,55703808.0,229251328.0,70929108.0,23294952.0,3072411.0,21074496.0,940096.0,2126880.0,67445460.0,5481108.0,5453244.0],\"y\":[94625091.0,94625091.0,850824648.0,850824648.0,374424.0,374424.0,2454912.0,2454912.0,27419136.0,27419136.0,27419136.0,27419136.0,18864.0,1433064.0,1433064.0,217088.0,217088.0,13372479.0,13372479.0,2163934521.0,2163934521.0,2375.0,503584.0,503584.0,380648.0,380648.0,90832.0,4168.0,56376.0,56376.0,523584.0,523584.0,523584.0,332208.0,332208.0,734720.0,734720.0,734720.0,106248.0,106248.0,113248.0,113248.0,5215.0,446680.0,221312.0,221312.0,322936.0,322936.0,1548500.0,1548500.0,295326.0,295326.0,295326.0,108405.0,108405.0,113265.0,113265.0,272800.0,387560.0,387560.0,10669.0,234171.0,234171.0,6925743.0,820098.0,820098.0,4055168.0,4055168.0,44631.0,44631.0,1041066.0,1041066.0,3076758.0,3076758.0,3076758.0,26650998.0,5280147.0,1750928.0,1750928.0,195704.0,195704.0,1026112.0,1026112.0,1111887.0,1111887.0,422982.0,91000.0,5010048.0,5010048.0,0.0,0.0,445472.0,445472.0,1232847.0,1232847.0,1232847.0,204789375.0,204789375.0,204789375.0,204789375.0,29389.0,287144.0,287144.0,3720.0,3720.0,263760.0,263760.0,69088.0,69088.0,9839.0,119129045.0,119129045.0,119129045.0,117304.0,46432.0,46432.0,55120.0,12040896.0,12040896.0,1339176.0,1339176.0,368816.0,368816.0,3241.0,331680.0,331680.0,653976.0,653976.0,1526688.0,1526688.0,231416.0,231416.0,2481921.0,2481921.0,2481921.0,58812.0,9676071.0,9676071.0,9676071.0,925056.0,925056.0,104370875.0,104370875.0,104370875.0,4538268.0,4538268.0,198280.0,198280.0,973242.0,973242.0,16672.0,544232.0,544232.0,48373416.0,48373416.0,48373416.0,4265088.0,4265088.0,4265088.0,507400.0,507400.0,846480.0,846480.0,451640.0,451640.0,33870000.0,33870000.0,33870000.0,255768.0,255768.0,300840.0,300840.0,33966.0,1400375.0,1400375.0,431368.0,110700032.0,110700032.0,110700032.0,110700032.0,110700032.0,992439.0,992439.0,992439.0,0.0,5777892.0,5777892.0,41488.0,41488.0,1579892.0,7251136.0,7251136.0,3562480.0,15704901.0,18346112.0,18346112.0,754008.0,754008.0,4197339.0,4197339.0,8606336.0,8606336.0,8606336.0,8858375.0,8858375.0,1116288.0,1116288.0,1116288.0,5148009.0,5148009.0,5148009.0,157629125.0,157629125.0,157629125.0,157629125.0,13166.0,31938.0,7402.0,8014.0,6583.0,500272.0,500272.0,12856.0,6586.0,20842.0,13146.0,2943.0,8112194560.0,8112194560.0,8112194560.0,1614464.0,1614464.0,3308720.0,3308720.0,497118.0,826368.0,826368.0,109828440.0,109828440.0,109828440.0,5067522.0,5067522.0,5067522.0,782542863.0,782542863.0,782542863.0,782542863.0,782542863.0,782542863.0,29685393.0,29685393.0,5289295506.0,5289295506.0,5289295506.0,5289295506.0,5289295506.0,5289295506.0,5289295506.0,105928.0,105928.0,443097.0,443097.0,507195.0,507195.0,2566912.0,2566912.0,3444776.0,3444776.0,315900.0,1554525.0,1554525.0,815088.0,815088.0,776871.0,776871.0,776871.0,38510.0,407295350.0,407295350.0,407295350.0,407295350.0,692402095.0,692402095.0,3169856.0,3169856.0,3169856.0,67276.0,12210669.0,12210669.0,12210669.0,1792323176.0,1792323176.0,1792323176.0,1792323176.0,651262875.0,651262875.0,651262875.0,389592.0,389592.0,411493.0,362752000.0,362752000.0,362752000.0,362752000.0,18486625.0,18486625.0,276443064.0,276443064.0,276443064.0,13316.0,43956500.0,43956500.0,43956500.0,1668945920.0,1668945920.0,1668945920.0,1668945920.0,92116008.0,92116008.0,92116008.0,51256.0,4926204.0,4926204.0,4926204.0,459304.0,4777960.0,14815.0,14880537.0,14880537.0,14880537.0,61208500.0,61208500.0,61208500.0,6569250.0,6569250.0,6569250.0,28244352.0,28244352.0,28244352.0,121992.0,121992.0,7198578.0,7198578.0,7198578.0,2301824.0,2301824.0,1319264.0,1319264.0,2689280.0,2689280.0,4298535.0,4298535.0,4298535.0,40900032.0,40900032.0,40900032.0,40900032.0,4276287.0,4276287.0,4276287.0,1491744.0,1491744.0,297248.0,3593457.0,3593457.0,3593457.0],\"z\":[1621257309.0,1621257309.0,9246227976.0,9246227976.0,14852168.0,14852168.0,17886696.0,17886696.0,436544512.0,436544512.0,436544512.0,436544512.0,423896.0,18918128.0,18918128.0,5563568.0,5563568.0,154527615.0,154527615.0,15859024832.0,15859024832.0,37009.0,4101456.0,4101456.0,3436864.0,3436864.0,1158728.0,69344.0,675408.0,675408.0,2256039.0,2256039.0,2256039.0,3270064.0,3270064.0,6266816.0,6266816.0,6266816.0,998064.0,998064.0,1353080.0,1353080.0,26059.0,4125728.0,1306760.0,1306760.0,5950424.0,5950424.0,22505000.0,22505000.0,3749787.0,3749787.0,3749787.0,1022895.0,1022895.0,978237.0,978237.0,2925880.0,4867144.0,4867144.0,91020.0,2354346.0,2354346.0,72201024.0,7718517.0,7718517.0,35637056.0,35637056.0,1003698.0,1003698.0,12435309.0,12435309.0,54427896.0,54427896.0,54427896.0,303968160.0,65070432.0,15464744.0,15464744.0,1343896.0,1343896.0,16479616.0,16479616.0,9754938.0,9754938.0,3827196.0,860264.0,48059456.0,48059456.0,0.0,0.0,4567296.0,4567296.0,12623877.0,12623877.0,12623877.0,2569836875.0,2569836875.0,2569836875.0,2569836875.0,288381.0,4226480.0,4226480.0,69048.0,69048.0,3357632.0,3357632.0,748064.0,748064.0,59129.0,1233721265.0,1233721265.0,1233721265.0,1266112.0,659944.0,659944.0,808264.0,132307072.0,132307072.0,13613744.0,13613744.0,4107720.0,4107720.0,25931.0,3436824.0,3436824.0,6985576.0,6985576.0,19170864.0,19170864.0,2197600.0,2197600.0,33115851.0,33115851.0,33115851.0,643040.0,157591737.0,157591737.0,157591737.0,14569416.0,14569416.0,986259500.0,986259500.0,986259500.0,49905666.0,49905666.0,2963864.0,2963864.0,12396861.0,12396861.0,89024.0,8411120.0,8411120.0,651860784.0,651860784.0,651860784.0,45822656.0,45822656.0,45822656.0,5419456.0,5419456.0,9631640.0,9631640.0,5913736.0,5913736.0,540386875.0,540386875.0,540386875.0,3037152.0,3037152.0,2167984.0,2167984.0,283803.0,32241375.0,32241375.0,6928352.0,2008869376.0,2008869376.0,2008869376.0,2008869376.0,2008869376.0,21750525.0,21750525.0,21750525.0,0.0,90828243.0,90828243.0,458184.0,458184.0,21861959.0,84867328.0,84867328.0,42874720.0,207428121.0,309497920.0,309497920.0,15834136.0,15834136.0,107644302.0,107644302.0,191932608.0,191932608.0,191932608.0,198999125.0,198999125.0,26928896.0,26928896.0,26928896.0,68956380.0,68956380.0,68956380.0,1554386000.0,1554386000.0,1554386000.0,1554386000.0,114674.0,379982.0,78415.0,88461.0,73633.0,4087320.0,4087320.0,71014.0,57885.0,238158.0,143890.0,29794.0,107735963136.0,107735963136.0,107735963136.0,39715136.0,39715136.0,50327608.0,50327608.0,23734959.0,13718720.0,13718720.0,1772002656.0,1772002656.0,1772002656.0,71724555.0,71724555.0,71724555.0,12079874817.0,12079874817.0,12079874817.0,12079874817.0,12079874817.0,12079874817.0,408603312.0,408603312.0,71673582013.0,71673582013.0,71673582013.0,71673582013.0,71673582013.0,71673582013.0,71673582013.0,2459832.0,2459832.0,6558678.0,6558678.0,6975153.0,6975153.0,44940544.0,44940544.0,110050464.0,110050464.0,10455156.0,20391156.0,20391156.0,13541920.0,13541920.0,17282457.0,17282457.0,17282457.0,1566055.0,6055374136.0,6055374136.0,6055374136.0,6055374136.0,9476800851.0,9476800851.0,49483456.0,49483456.0,49483456.0,2688224.0,514393254.0,514393254.0,514393254.0,23606568888.0,23606568888.0,23606568888.0,23606568888.0,20473582875.0,20473582875.0,20473582875.0,8002864.0,8002864.0,18519265.0,4780299000.0,4780299000.0,4780299000.0,4780299000.0,378232375.0,378232375.0,3345014016.0,3345014016.0,3345014016.0,585196.0,535363125.0,535363125.0,535363125.0,20795939840.0,20795939840.0,20795939840.0,20795939840.0,1280330280.0,1280330280.0,1280330280.0,1102232.0,92716461.0,92716461.0,92716461.0,13252432.0,174139608.0,716703.0,212601591.0,212601591.0,212601591.0,989724750.0,989724750.0,989724750.0,150490750.0,150490750.0,150490750.0,372972864.0,372972864.0,372972864.0,2060376.0,2060376.0,108665820.0,108665820.0,108665820.0,62868480.0,62868480.0,22751960.0,22751960.0,38380352.0,38380352.0,87596667.0,87596667.0,87596667.0,1111433536.0,1111433536.0,1111433536.0,1111433536.0,71403552.0,71403552.0,71403552.0,29484472.0,29484472.0,8277360.0,52770879.0,52770879.0,52770879.0],\"type\":\"scatter3d\"},{\"hovertemplate\":\"service=Purchased Transportation - Taxi<br>total_upt=%{x}<br>total_vrh=%{y}<br>total_vrm=%{z}<extra></extra>\",\"legendgroup\":\"Purchased Transportation - Taxi\",\"marker\":{\"color\":\"#EF553B\",\"symbol\":\"circle\"},\"mode\":\"markers\",\"name\":\"Purchased Transportation - Taxi\",\"scene\":\"scene\",\"showlegend\":true,\"x\":[147817224.0,58192.0,1904640.0,27098750.0,411156.0,717174.0,4958253.0,104820000.0,219511425.0,5964273.0,67324608.0,39916800.0,7668179827.0,110322.0,108621.0,0.0,2917215.0,0.0,0.0,227797276.0,154040000.0,49833792.0,0.0],\"y\":[94625091.0,4168.0,734720.0,1548500.0,113265.0,234171.0,1111887.0,204789375.0,119129045.0,973242.0,48373416.0,109828440.0,5289295506.0,443097.0,507195.0,2566912.0,1554525.0,407295350.0,692402095.0,1792323176.0,362752000.0,276443064.0,1668945920.0],\"z\":[1621257309.0,69344.0,6266816.0,22505000.0,978237.0,2354346.0,9754938.0,2569836875.0,1233721265.0,12396861.0,651860784.0,1772002656.0,71673582013.0,6558678.0,6975153.0,44940544.0,20391156.0,6055374136.0,9476800851.0,23606568888.0,4780299000.0,3345014016.0,20795939840.0],\"type\":\"scatter3d\"},{\"hovertemplate\":\"service=Directly Operated<br>total_upt=%{x}<br>total_vrh=%{y}<br>total_vrm=%{z}<extra></extra>\",\"legendgroup\":\"Directly Operated\",\"marker\":{\"color\":\"#00cc96\",\"symbol\":\"circle\"},\"mode\":\"markers\",\"name\":\"Directly Operated\",\"scene\":\"scene\",\"showlegend\":true,\"x\":[71463661344.0,9892115280.0,956438928.0,0.0,2971080.0,300348.0,1384371.0,73392.0,7273214.0,344777796.0,379723.0,303044248647.0,12198645452.0,89494864396.0,13799084824.0,161069094571.0,886752.0,1740448.0,143056.0,319744.0,461888.0,23531.0,635472.0,20292.0,3703750.0,1979559.0,10924832.0,283696.0,10288.0,42640.0,399539628.0,595674.0,23992.0,10720674.0,0.0,1403811.0,63109.0,0.0,12052480.0,1056768.0,0.0,1228790331.0,0.0,283456827.0,1392795.0,0.0,0.0,30456.0,2578635.0,0.0,0.0,0.0,15935.0,0.0,0.0,16491.0,0.0,99024.0,12467216510.0,0.0,0.0,258096.0,0.0,463909888.0,0.0,1365824.0,0.0,39568.0,205328.0,0.0,0.0,0.0,0.0,139332.0,9315.0,8783391250.0,187714422.0,32545.0,4684736.0,1258720.0,11326.0,0.0,766080.0,0.0,5067512928.0,0.0,0.0,0.0,0.0,14594.0,0.0,11344.0,0.0,1038224.0,0.0,0.0,0.0,3430624.0,3882897408.0,12140544.0,0.0,55899.0,0.0,401464064.0,4107520.0,24557312.0,0.0,116824.0,15112818.0,3215376.0,1798605.0,60.0,0.0,0.0,83520624.0,504219087.0,21846672.0,600658944.0,472587264.0,4814720.0,3841120.0,0.0,0.0,0.0,0.0,0.0,0.0,21356110000.0,1557322997760.0,33630629888.0,4911931392.0,212705587200.0,275450826752.0,0.0,0.0,0.0,274000.0,3209680.0,655104.0,0.0,0.0,4298631120.0,0.0,5425.0,22060998.0,1553013.0,2139939.0,112335579.0,1430379.0,2102922.0,0.0,5416525404.0,11190290697.0,1086.0,863794125.0,614759704515.0,0.0,0.0,15685888.0,0.0,0.0,17426222702.0,674966719.0,33591360971.0,2010066779.0,25865233492.0,0.0,71110390589.0,157954248459.0,53636213125.0,1459724375.0,39210030000.0,0.0,685330000.0,601350000.0,0.0,827601250.0,0.0,42188125.0,16056090864.0,0.0,5382123125.0,0.0,140854173696.0,0.0,26416185344.0,7518083040.0,324123120.0,177334272.0,0.0,15910832.0,0.0,2962209375.0,132339375.0,0.0,0.0,13410.0,0.0,0.0,0.0,0.0,5013293.0,0.0,1073574.0,642573.0,1782.0],\"y\":[850824648.0,850824648.0,850824648.0,850824648.0,669789.0,669789.0,669789.0,18864.0,673805.0,13372479.0,13863.0,2163934521.0,2163934521.0,2163934521.0,2163934521.0,2163934521.0,90832.0,119240.0,119240.0,140544.0,140544.0,17241.0,446680.0,2934.0,1548500.0,108405.0,794544.0,794544.0,272800.0,6614.0,6925743.0,6925743.0,8705.0,811998.0,811998.0,811998.0,17547.0,820098.0,4055168.0,4055168.0,1041066.0,26650998.0,26650998.0,5280147.0,5280147.0,1026112.0,1026112.0,422982.0,422982.0,91000.0,5010048.0,5010048.0,12651.0,0.0,0.0,6891.0,13680.0,13680.0,119129045.0,119129045.0,119129045.0,117304.0,55120.0,12040896.0,12040896.0,71720.0,71720.0,48368.0,48368.0,1526688.0,1526688.0,1526688.0,1526688.0,51937.0,4686.0,104370875.0,4538268.0,3558.0,563824.0,563824.0,6348.0,90840.0,90840.0,16672.0,48373416.0,48373416.0,4265088.0,33870000.0,33870000.0,3901.0,9264.0,9264.0,131720.0,131720.0,1400375.0,1400375.0,1400375.0,431368.0,110700032.0,110700032.0,110700032.0,20500.0,5777892.0,6984832.0,6984832.0,6984832.0,6984832.0,50436.0,1702350.0,1702350.0,1702350.0,23.0,7251136.0,7251136.0,3562480.0,15704901.0,15704901.0,18346112.0,18346112.0,576104.0,576104.0,4197339.0,8606336.0,8858375.0,8858375.0,8858375.0,1116288.0,157629125.0,8112194560.0,8112194560.0,8112194560.0,8112194560.0,8112194560.0,1614464.0,1614464.0,65096.0,65096.0,584088.0,584088.0,826368.0,826368.0,109828440.0,109828440.0,1458.0,1714095.0,1714095.0,1714095.0,2579013.0,2579013.0,2579013.0,782542863.0,782542863.0,782542863.0,264.0,29685393.0,5289295506.0,5289295506.0,5289295506.0,2566912.0,315900.0,315900.0,407295350.0,407295350.0,692402095.0,692402095.0,692402095.0,3169856.0,1792323176.0,1792323176.0,651262875.0,651262875.0,362752000.0,362752000.0,362752000.0,362752000.0,362752000.0,18486625.0,18486625.0,18486625.0,276443064.0,276443064.0,43956500.0,43956500.0,1668945920.0,1668945920.0,1668945920.0,92116008.0,92116008.0,92116008.0,51256.0,459304.0,4777960.0,61208500.0,61208500.0,6569250.0,6569250.0,7142.0,2301824.0,2301824.0,2689280.0,2689280.0,124352.0,297248.0,85077.0,85077.0,85077.0],\"z\":[9246227976.0,9246227976.0,9246227976.0,9246227976.0,13169898.0,13169898.0,13169898.0,423896.0,19260492.0,154527615.0,81000.0,15859024832.0,15859024832.0,15859024832.0,15859024832.0,15859024832.0,1158728.0,2114664.0,2114664.0,1572208.0,1572208.0,85031.0,4125728.0,52776.0,22505000.0,1022895.0,7837672.0,7837672.0,2925880.0,58085.0,72201024.0,72201024.0,90636.0,7351965.0,7351965.0,7351965.0,141167.0,7718517.0,35637056.0,35637056.0,12435309.0,303968160.0,303968160.0,65070432.0,65070432.0,16479616.0,16479616.0,3827196.0,3827196.0,860264.0,48059456.0,48059456.0,106441.0,0.0,0.0,46231.0,82680.0,82680.0,1233721265.0,1233721265.0,1233721265.0,1266112.0,808264.0,132307072.0,132307072.0,836160.0,836160.0,737032.0,737032.0,19170864.0,19170864.0,19170864.0,19170864.0,699677.0,27264.0,986259500.0,49905666.0,73709.0,8312368.0,8312368.0,47241.0,892520.0,892520.0,89024.0,651860784.0,651860784.0,45822656.0,540386875.0,540386875.0,35080.0,160040.0,160040.0,2324360.0,2324360.0,32241375.0,32241375.0,32241375.0,6928352.0,2008869376.0,2008869376.0,2008869376.0,530525.0,90828243.0,111188032.0,111188032.0,111188032.0,111188032.0,927555.0,34710606.0,34710606.0,34710606.0,936.0,84867328.0,84867328.0,42874720.0,207428121.0,207428121.0,309497920.0,309497920.0,13448848.0,13448848.0,107644302.0,191932608.0,198999125.0,198999125.0,198999125.0,26928896.0,1554386000.0,107735963136.0,107735963136.0,107735963136.0,107735963136.0,107735963136.0,39715136.0,39715136.0,2014880.0,2014880.0,9550200.0,9550200.0,13718720.0,13718720.0,1772002656.0,1772002656.0,56094.0,33933492.0,33933492.0,33933492.0,37923012.0,37923012.0,37923012.0,12079874817.0,12079874817.0,12079874817.0,12882.0,408603312.0,71673582013.0,71673582013.0,71673582013.0,44940544.0,10455156.0,10455156.0,6055374136.0,6055374136.0,9476800851.0,9476800851.0,9476800851.0,49483456.0,23606568888.0,23606568888.0,20473582875.0,20473582875.0,4780299000.0,4780299000.0,4780299000.0,4780299000.0,4780299000.0,378232375.0,378232375.0,378232375.0,3345014016.0,3345014016.0,535363125.0,535363125.0,20795939840.0,20795939840.0,20795939840.0,1280330280.0,1280330280.0,1280330280.0,1102232.0,13252432.0,174139608.0,989724750.0,989724750.0,150490750.0,150490750.0,233626.0,62868480.0,62868480.0,38380352.0,38380352.0,1311178.0,8277360.0,1183464.0,1183464.0,1183464.0],\"type\":\"scatter3d\"},{\"hovertemplate\":\"service=Purchased Transportation - Transportation Network Company<br>total_upt=%{x}<br>total_vrh=%{y}<br>total_vrm=%{z}<extra></extra>\",\"legendgroup\":\"Purchased Transportation - Transportation Network Company\",\"marker\":{\"color\":\"#ab63fa\",\"symbol\":\"circle\"},\"mode\":\"markers\",\"name\":\"Purchased Transportation - Transportation Network Company\",\"scene\":\"scene\",\"showlegend\":true,\"x\":[10070000.0,2430.0,26150000.0,165964323.0,16065024.0],\"y\":[1548500.0,44631.0,104370875.0,692402095.0,28244352.0],\"z\":[22505000.0,1003698.0,986259500.0,9476800851.0,372972864.0],\"type\":\"scatter3d\"}],                        {\"template\":{\"data\":{\"bar\":[{\"error_x\":{\"color\":\"#2a3f5f\"},\"error_y\":{\"color\":\"#2a3f5f\"},\"marker\":{\"line\":{\"color\":\"#E5ECF6\",\"width\":0.5},\"pattern\":{\"fillmode\":\"overlay\",\"size\":10,\"solidity\":0.2}},\"type\":\"bar\"}],\"barpolar\":[{\"marker\":{\"line\":{\"color\":\"#E5ECF6\",\"width\":0.5},\"pattern\":{\"fillmode\":\"overlay\",\"size\":10,\"solidity\":0.2}},\"type\":\"barpolar\"}],\"carpet\":[{\"aaxis\":{\"endlinecolor\":\"#2a3f5f\",\"gridcolor\":\"white\",\"linecolor\":\"white\",\"minorgridcolor\":\"white\",\"startlinecolor\":\"#2a3f5f\"},\"baxis\":{\"endlinecolor\":\"#2a3f5f\",\"gridcolor\":\"white\",\"linecolor\":\"white\",\"minorgridcolor\":\"white\",\"startlinecolor\":\"#2a3f5f\"},\"type\":\"carpet\"}],\"choropleth\":[{\"colorbar\":{\"outlinewidth\":0,\"ticks\":\"\"},\"type\":\"choropleth\"}],\"contour\":[{\"colorbar\":{\"outlinewidth\":0,\"ticks\":\"\"},\"colorscale\":[[0.0,\"#0d0887\"],[0.1111111111111111,\"#46039f\"],[0.2222222222222222,\"#7201a8\"],[0.3333333333333333,\"#9c179e\"],[0.4444444444444444,\"#bd3786\"],[0.5555555555555556,\"#d8576b\"],[0.6666666666666666,\"#ed7953\"],[0.7777777777777778,\"#fb9f3a\"],[0.8888888888888888,\"#fdca26\"],[1.0,\"#f0f921\"]],\"type\":\"contour\"}],\"contourcarpet\":[{\"colorbar\":{\"outlinewidth\":0,\"ticks\":\"\"},\"type\":\"contourcarpet\"}],\"heatmap\":[{\"colorbar\":{\"outlinewidth\":0,\"ticks\":\"\"},\"colorscale\":[[0.0,\"#0d0887\"],[0.1111111111111111,\"#46039f\"],[0.2222222222222222,\"#7201a8\"],[0.3333333333333333,\"#9c179e\"],[0.4444444444444444,\"#bd3786\"],[0.5555555555555556,\"#d8576b\"],[0.6666666666666666,\"#ed7953\"],[0.7777777777777778,\"#fb9f3a\"],[0.8888888888888888,\"#fdca26\"],[1.0,\"#f0f921\"]],\"type\":\"heatmap\"}],\"heatmapgl\":[{\"colorbar\":{\"outlinewidth\":0,\"ticks\":\"\"},\"colorscale\":[[0.0,\"#0d0887\"],[0.1111111111111111,\"#46039f\"],[0.2222222222222222,\"#7201a8\"],[0.3333333333333333,\"#9c179e\"],[0.4444444444444444,\"#bd3786\"],[0.5555555555555556,\"#d8576b\"],[0.6666666666666666,\"#ed7953\"],[0.7777777777777778,\"#fb9f3a\"],[0.8888888888888888,\"#fdca26\"],[1.0,\"#f0f921\"]],\"type\":\"heatmapgl\"}],\"histogram\":[{\"marker\":{\"pattern\":{\"fillmode\":\"overlay\",\"size\":10,\"solidity\":0.2}},\"type\":\"histogram\"}],\"histogram2d\":[{\"colorbar\":{\"outlinewidth\":0,\"ticks\":\"\"},\"colorscale\":[[0.0,\"#0d0887\"],[0.1111111111111111,\"#46039f\"],[0.2222222222222222,\"#7201a8\"],[0.3333333333333333,\"#9c179e\"],[0.4444444444444444,\"#bd3786\"],[0.5555555555555556,\"#d8576b\"],[0.6666666666666666,\"#ed7953\"],[0.7777777777777778,\"#fb9f3a\"],[0.8888888888888888,\"#fdca26\"],[1.0,\"#f0f921\"]],\"type\":\"histogram2d\"}],\"histogram2dcontour\":[{\"colorbar\":{\"outlinewidth\":0,\"ticks\":\"\"},\"colorscale\":[[0.0,\"#0d0887\"],[0.1111111111111111,\"#46039f\"],[0.2222222222222222,\"#7201a8\"],[0.3333333333333333,\"#9c179e\"],[0.4444444444444444,\"#bd3786\"],[0.5555555555555556,\"#d8576b\"],[0.6666666666666666,\"#ed7953\"],[0.7777777777777778,\"#fb9f3a\"],[0.8888888888888888,\"#fdca26\"],[1.0,\"#f0f921\"]],\"type\":\"histogram2dcontour\"}],\"mesh3d\":[{\"colorbar\":{\"outlinewidth\":0,\"ticks\":\"\"},\"type\":\"mesh3d\"}],\"parcoords\":[{\"line\":{\"colorbar\":{\"outlinewidth\":0,\"ticks\":\"\"}},\"type\":\"parcoords\"}],\"pie\":[{\"automargin\":true,\"type\":\"pie\"}],\"scatter\":[{\"marker\":{\"colorbar\":{\"outlinewidth\":0,\"ticks\":\"\"}},\"type\":\"scatter\"}],\"scatter3d\":[{\"line\":{\"colorbar\":{\"outlinewidth\":0,\"ticks\":\"\"}},\"marker\":{\"colorbar\":{\"outlinewidth\":0,\"ticks\":\"\"}},\"type\":\"scatter3d\"}],\"scattercarpet\":[{\"marker\":{\"colorbar\":{\"outlinewidth\":0,\"ticks\":\"\"}},\"type\":\"scattercarpet\"}],\"scattergeo\":[{\"marker\":{\"colorbar\":{\"outlinewidth\":0,\"ticks\":\"\"}},\"type\":\"scattergeo\"}],\"scattergl\":[{\"marker\":{\"colorbar\":{\"outlinewidth\":0,\"ticks\":\"\"}},\"type\":\"scattergl\"}],\"scattermapbox\":[{\"marker\":{\"colorbar\":{\"outlinewidth\":0,\"ticks\":\"\"}},\"type\":\"scattermapbox\"}],\"scatterpolar\":[{\"marker\":{\"colorbar\":{\"outlinewidth\":0,\"ticks\":\"\"}},\"type\":\"scatterpolar\"}],\"scatterpolargl\":[{\"marker\":{\"colorbar\":{\"outlinewidth\":0,\"ticks\":\"\"}},\"type\":\"scatterpolargl\"}],\"scatterternary\":[{\"marker\":{\"colorbar\":{\"outlinewidth\":0,\"ticks\":\"\"}},\"type\":\"scatterternary\"}],\"surface\":[{\"colorbar\":{\"outlinewidth\":0,\"ticks\":\"\"},\"colorscale\":[[0.0,\"#0d0887\"],[0.1111111111111111,\"#46039f\"],[0.2222222222222222,\"#7201a8\"],[0.3333333333333333,\"#9c179e\"],[0.4444444444444444,\"#bd3786\"],[0.5555555555555556,\"#d8576b\"],[0.6666666666666666,\"#ed7953\"],[0.7777777777777778,\"#fb9f3a\"],[0.8888888888888888,\"#fdca26\"],[1.0,\"#f0f921\"]],\"type\":\"surface\"}],\"table\":[{\"cells\":{\"fill\":{\"color\":\"#EBF0F8\"},\"line\":{\"color\":\"white\"}},\"header\":{\"fill\":{\"color\":\"#C8D4E3\"},\"line\":{\"color\":\"white\"}},\"type\":\"table\"}]},\"layout\":{\"annotationdefaults\":{\"arrowcolor\":\"#2a3f5f\",\"arrowhead\":0,\"arrowwidth\":1},\"autotypenumbers\":\"strict\",\"coloraxis\":{\"colorbar\":{\"outlinewidth\":0,\"ticks\":\"\"}},\"colorscale\":{\"diverging\":[[0,\"#8e0152\"],[0.1,\"#c51b7d\"],[0.2,\"#de77ae\"],[0.3,\"#f1b6da\"],[0.4,\"#fde0ef\"],[0.5,\"#f7f7f7\"],[0.6,\"#e6f5d0\"],[0.7,\"#b8e186\"],[0.8,\"#7fbc41\"],[0.9,\"#4d9221\"],[1,\"#276419\"]],\"sequential\":[[0.0,\"#0d0887\"],[0.1111111111111111,\"#46039f\"],[0.2222222222222222,\"#7201a8\"],[0.3333333333333333,\"#9c179e\"],[0.4444444444444444,\"#bd3786\"],[0.5555555555555556,\"#d8576b\"],[0.6666666666666666,\"#ed7953\"],[0.7777777777777778,\"#fb9f3a\"],[0.8888888888888888,\"#fdca26\"],[1.0,\"#f0f921\"]],\"sequentialminus\":[[0.0,\"#0d0887\"],[0.1111111111111111,\"#46039f\"],[0.2222222222222222,\"#7201a8\"],[0.3333333333333333,\"#9c179e\"],[0.4444444444444444,\"#bd3786\"],[0.5555555555555556,\"#d8576b\"],[0.6666666666666666,\"#ed7953\"],[0.7777777777777778,\"#fb9f3a\"],[0.8888888888888888,\"#fdca26\"],[1.0,\"#f0f921\"]]},\"colorway\":[\"#636efa\",\"#EF553B\",\"#00cc96\",\"#ab63fa\",\"#FFA15A\",\"#19d3f3\",\"#FF6692\",\"#B6E880\",\"#FF97FF\",\"#FECB52\"],\"font\":{\"color\":\"#2a3f5f\"},\"geo\":{\"bgcolor\":\"white\",\"lakecolor\":\"white\",\"landcolor\":\"#E5ECF6\",\"showlakes\":true,\"showland\":true,\"subunitcolor\":\"white\"},\"hoverlabel\":{\"align\":\"left\"},\"hovermode\":\"closest\",\"mapbox\":{\"style\":\"light\"},\"paper_bgcolor\":\"white\",\"plot_bgcolor\":\"#E5ECF6\",\"polar\":{\"angularaxis\":{\"gridcolor\":\"white\",\"linecolor\":\"white\",\"ticks\":\"\"},\"bgcolor\":\"#E5ECF6\",\"radialaxis\":{\"gridcolor\":\"white\",\"linecolor\":\"white\",\"ticks\":\"\"}},\"scene\":{\"xaxis\":{\"backgroundcolor\":\"#E5ECF6\",\"gridcolor\":\"white\",\"gridwidth\":2,\"linecolor\":\"white\",\"showbackground\":true,\"ticks\":\"\",\"zerolinecolor\":\"white\"},\"yaxis\":{\"backgroundcolor\":\"#E5ECF6\",\"gridcolor\":\"white\",\"gridwidth\":2,\"linecolor\":\"white\",\"showbackground\":true,\"ticks\":\"\",\"zerolinecolor\":\"white\"},\"zaxis\":{\"backgroundcolor\":\"#E5ECF6\",\"gridcolor\":\"white\",\"gridwidth\":2,\"linecolor\":\"white\",\"showbackground\":true,\"ticks\":\"\",\"zerolinecolor\":\"white\"}},\"shapedefaults\":{\"line\":{\"color\":\"#2a3f5f\"}},\"ternary\":{\"aaxis\":{\"gridcolor\":\"white\",\"linecolor\":\"white\",\"ticks\":\"\"},\"baxis\":{\"gridcolor\":\"white\",\"linecolor\":\"white\",\"ticks\":\"\"},\"bgcolor\":\"#E5ECF6\",\"caxis\":{\"gridcolor\":\"white\",\"linecolor\":\"white\",\"ticks\":\"\"}},\"title\":{\"x\":0.05},\"xaxis\":{\"automargin\":true,\"gridcolor\":\"white\",\"linecolor\":\"white\",\"ticks\":\"\",\"title\":{\"standoff\":15},\"zerolinecolor\":\"white\",\"zerolinewidth\":2},\"yaxis\":{\"automargin\":true,\"gridcolor\":\"white\",\"linecolor\":\"white\",\"ticks\":\"\",\"title\":{\"standoff\":15},\"zerolinecolor\":\"white\",\"zerolinewidth\":2}}},\"scene\":{\"domain\":{\"x\":[0.0,1.0],\"y\":[0.0,1.0]},\"xaxis\":{\"title\":{\"text\":\"total_upt\"}},\"yaxis\":{\"title\":{\"text\":\"total_vrh\"}},\"zaxis\":{\"title\":{\"text\":\"total_vrm\"}}},\"legend\":{\"title\":{\"text\":\"service\"},\"tracegroupgap\":0},\"margin\":{\"t\":60},\"height\":500,\"width\":800},                        {\"responsive\": true}                    ).then(function(){\n",
       "                            \n",
       "var gd = document.getElementById('58e2cc30-5349-4d0b-b6e2-87747bf13725');\n",
       "var x = new MutationObserver(function (mutations, observer) {{\n",
       "        var display = window.getComputedStyle(gd).display;\n",
       "        if (!display || display === 'none') {{\n",
       "            console.log([gd, 'removed!']);\n",
       "            Plotly.purge(gd);\n",
       "            observer.disconnect();\n",
       "        }}\n",
       "}});\n",
       "\n",
       "// Listen for the removal of the full notebook cells\n",
       "var notebookContainer = gd.closest('#notebook-container');\n",
       "if (notebookContainer) {{\n",
       "    x.observe(notebookContainer, {childList: true});\n",
       "}}\n",
       "\n",
       "// Listen for the clearing of the current output cell\n",
       "var outputEl = gd.closest('.output');\n",
       "if (outputEl) {{\n",
       "    x.observe(outputEl, {childList: true});\n",
       "}}\n",
       "\n",
       "                        })                };                });            </script>        </div>"
      ]
     },
     "metadata": {},
     "output_type": "display_data"
    }
   ],
   "source": [
    "import plotly.express as px\n",
    "\n",
    "# @title Plot three features in 3D by entering their names and running this cell\n",
    "\n",
    "x_axis_data = \"total_upt\"\n",
    "y_axis_data = \"total_vrh\"\n",
    "z_axis_data = \"total_vrm\"\n",
    "\n",
    "px.scatter_3d(\n",
    "    group_id_mode_service,\n",
    "    x=x_axis_data,\n",
    "    y=y_axis_data,\n",
    "    z=z_axis_data,\n",
    "    color=\"service\",\n",
    "    width=800,\n",
    "    height=500,\n",
    ").show()"
   ]
  },
  {
   "cell_type": "markdown",
   "id": "6adb53e1-3084-4ed5-8046-5e89a842ec73",
   "metadata": {},
   "source": [
    "## what does 1 year of data look like \n",
    "\n",
    "Try with only 2023 data"
   ]
  },
  {
   "cell_type": "code",
   "execution_count": 122,
   "id": "878cf82e-f332-4131-902a-ccdea73fea81",
   "metadata": {
    "tags": []
   },
   "outputs": [],
   "source": [
    "# alt method to query warehous data, via cal-itp docs\n",
    "\n",
    "from calitp_data_analysis.sql import query_sql\n",
    "\n",
    "query = f\"\"\"\n",
    "        SELECT\n",
    "          upt.ntd_id,\n",
    "          upt.source_agency,\n",
    "          upt.agency_status,\n",
    "          upt.city,\n",
    "          upt.primary_uza_name,\n",
    "          upt.uza_population,\n",
    "          upt.uza_area_sq_miles,\n",
    "          upt.year,\n",
    "          upt.mode,\n",
    "          upt.service,\n",
    "          upt.reporter_type,\n",
    "          SUM(upt.upt) AS total_upt,\n",
    "          SUM(voms.voms) AS total_voms,\n",
    "          SUM(vrh.vrh) AS total_vrh,\n",
    "          SUM(vrm.vrm) AS total_vrm,\n",
    "          SUM(opexp_total.opexp_total) AS opexp_total\n",
    "        FROM\n",
    "          cal-itp-data-infra.mart_ntd_funding_and_expenses.fct_service_data_and_operating_expenses_time_series_by_mode_upt AS upt\n",
    "        INNER JOIN\n",
    "          cal-itp-data-infra.mart_ntd_funding_and_expenses.fct_service_data_and_operating_expenses_time_series_by_mode_voms AS voms\n",
    "        ON\n",
    "          upt.ntd_id = voms.ntd_id\n",
    "          AND upt.year = voms.year\n",
    "          AND upt.source_agency = voms.source_agency\n",
    "          AND upt.agency_status = voms.agency_status\n",
    "          AND upt.primary_uza_name = voms.primary_uza_name\n",
    "          AND upt.uza_population = voms.uza_population\n",
    "          AND upt.uza_area_sq_miles = voms.uza_area_sq_miles\n",
    "        INNER JOIN\n",
    "          cal-itp-data-infra.mart_ntd_funding_and_expenses.fct_service_data_and_operating_expenses_time_series_by_mode_vrh AS vrh\n",
    "        ON\n",
    "          upt.ntd_id = vrh.ntd_id\n",
    "          AND upt.year = vrh.year\n",
    "          AND upt.source_agency = vrh.source_agency\n",
    "          AND upt.agency_status = vrh.agency_status\n",
    "          AND upt.primary_uza_name = vrh.primary_uza_name\n",
    "          AND upt.uza_population = vrh.uza_population\n",
    "          AND upt.uza_area_sq_miles = vrh.uza_area_sq_miles\n",
    "        INNER JOIN\n",
    "          cal-itp-data-infra.mart_ntd_funding_and_expenses.fct_service_data_and_operating_expenses_time_series_by_mode_vrm AS vrm\n",
    "        ON\n",
    "          upt.ntd_id = vrm.ntd_id\n",
    "          AND upt.year = vrm.year\n",
    "          AND upt.source_agency = vrm.source_agency\n",
    "          AND upt.agency_status = vrm.agency_status\n",
    "          AND upt.primary_uza_name = vrm.primary_uza_name\n",
    "          AND upt.uza_population = vrm.uza_population\n",
    "          AND upt.uza_area_sq_miles = vrm.uza_area_sq_miles\n",
    "        INNER JOIN\n",
    "          cal-itp-data-infra.mart_ntd_funding_and_expenses.fct_service_data_and_operating_expenses_time_series_by_mode_opexp_total AS opexp_total\n",
    "        ON\n",
    "          upt.ntd_id = opexp_total.ntd_id\n",
    "          AND upt.year = opexp_total.year\n",
    "          AND upt.source_agency = opexp_total.source_agency\n",
    "          AND upt.agency_status = opexp_total.agency_status\n",
    "          AND upt.primary_uza_name = opexp_total.primary_uza_name\n",
    "          AND upt.uza_population = opexp_total.uza_population\n",
    "          AND upt.uza_area_sq_miles = opexp_total.uza_area_sq_miles\n",
    "        WHERE\n",
    "          upt.source_state = \"CA\"\n",
    "          AND upt.year = 2023\n",
    "        GROUP BY\n",
    "          upt.ntd_id,\n",
    "          upt.source_agency,\n",
    "          upt.agency_status,\n",
    "          upt.city,\n",
    "          upt.year,\n",
    "          upt.primary_uza_name,\n",
    "          upt.uza_population,\n",
    "          upt.uza_area_sq_miles,\n",
    "          upt.mode,\n",
    "          upt.service,\n",
    "          upt.reporter_type\n",
    "        \"\"\"\n",
    "\n",
    "ntd_2023_data = query_sql(query).fillna(0)"
   ]
  },
  {
   "cell_type": "code",
   "execution_count": 125,
   "id": "9690e8d6-5a20-406c-aa48-a60b737c209c",
   "metadata": {
    "tags": []
   },
   "outputs": [
    {
     "name": "stdout",
     "output_type": "stream",
     "text": [
      "<class 'pandas.core.frame.DataFrame'>\n",
      "RangeIndex: 667 entries, 0 to 666\n",
      "Data columns (total 16 columns):\n",
      " #   Column             Non-Null Count  Dtype  \n",
      "---  ------             --------------  -----  \n",
      " 0   ntd_id             667 non-null    object \n",
      " 1   source_agency      667 non-null    object \n",
      " 2   agency_status      667 non-null    object \n",
      " 3   city               667 non-null    object \n",
      " 4   primary_uza_name   667 non-null    object \n",
      " 5   uza_population     667 non-null    int64  \n",
      " 6   uza_area_sq_miles  667 non-null    float64\n",
      " 7   year               667 non-null    int64  \n",
      " 8   mode               667 non-null    object \n",
      " 9   service            667 non-null    object \n",
      " 10  reporter_type      667 non-null    object \n",
      " 11  total_upt          667 non-null    int64  \n",
      " 12  total_voms         667 non-null    int64  \n",
      " 13  total_vrh          667 non-null    int64  \n",
      " 14  total_vrm          667 non-null    int64  \n",
      " 15  opexp_total        667 non-null    int64  \n",
      "dtypes: float64(1), int64(7), object(8)\n",
      "memory usage: 83.5+ KB\n"
     ]
    }
   ],
   "source": [
    "\n",
    "ntd_2023_data[numerical_cols] = ntd_2023_data[numerical_cols].astype(\"int64\", errors=\"ignore\")\n",
    "ntd_2023_data.info()"
   ]
  },
  {
   "cell_type": "code",
   "execution_count": 126,
   "id": "3226562c-298c-4816-93e5-b065570662cf",
   "metadata": {
    "tags": []
   },
   "outputs": [
    {
     "data": {
      "text/html": [
       "<div>\n",
       "<style scoped>\n",
       "    .dataframe tbody tr th:only-of-type {\n",
       "        vertical-align: middle;\n",
       "    }\n",
       "\n",
       "    .dataframe tbody tr th {\n",
       "        vertical-align: top;\n",
       "    }\n",
       "\n",
       "    .dataframe thead th {\n",
       "        text-align: right;\n",
       "    }\n",
       "</style>\n",
       "<table border=\"1\" class=\"dataframe\">\n",
       "  <thead>\n",
       "    <tr style=\"text-align: right;\">\n",
       "      <th></th>\n",
       "      <th>ntd_id</th>\n",
       "      <th>source_agency</th>\n",
       "      <th>agency_status</th>\n",
       "      <th>city</th>\n",
       "      <th>primary_uza_name</th>\n",
       "      <th>uza_population</th>\n",
       "      <th>uza_area_sq_miles</th>\n",
       "      <th>year</th>\n",
       "      <th>mode</th>\n",
       "      <th>service</th>\n",
       "      <th>reporter_type</th>\n",
       "      <th>total_upt</th>\n",
       "      <th>total_voms</th>\n",
       "      <th>total_vrh</th>\n",
       "      <th>total_vrm</th>\n",
       "      <th>opexp_total</th>\n",
       "    </tr>\n",
       "  </thead>\n",
       "  <tbody>\n",
       "    <tr>\n",
       "      <th>0</th>\n",
       "      <td>90198</td>\n",
       "      <td>City of Porterville (COLT) - Transit Department</td>\n",
       "      <td>Active</td>\n",
       "      <td>Porterville</td>\n",
       "      <td>Porterville, CA</td>\n",
       "      <td>69862</td>\n",
       "      <td>16.35</td>\n",
       "      <td>2023</td>\n",
       "      <td>MB</td>\n",
       "      <td>PT</td>\n",
       "      <td>Building Reporter</td>\n",
       "      <td>0</td>\n",
       "      <td>0</td>\n",
       "      <td>0</td>\n",
       "      <td>0</td>\n",
       "      <td>0</td>\n",
       "    </tr>\n",
       "    <tr>\n",
       "      <th>1</th>\n",
       "      <td>90198</td>\n",
       "      <td>City of Porterville (COLT) - Transit Department</td>\n",
       "      <td>Active</td>\n",
       "      <td>Porterville</td>\n",
       "      <td>Porterville, CA</td>\n",
       "      <td>69862</td>\n",
       "      <td>16.35</td>\n",
       "      <td>2023</td>\n",
       "      <td>DR</td>\n",
       "      <td>PT</td>\n",
       "      <td>Building Reporter</td>\n",
       "      <td>0</td>\n",
       "      <td>0</td>\n",
       "      <td>0</td>\n",
       "      <td>0</td>\n",
       "      <td>0</td>\n",
       "    </tr>\n",
       "    <tr>\n",
       "      <th>2</th>\n",
       "      <td>90036</td>\n",
       "      <td>Orange County Transportation Authority (OCTA)</td>\n",
       "      <td>Active</td>\n",
       "      <td>Orange</td>\n",
       "      <td>Los Angeles--Long Beach--Anaheim, CA</td>\n",
       "      <td>12237376</td>\n",
       "      <td>1636.83</td>\n",
       "      <td>2023</td>\n",
       "      <td>SR</td>\n",
       "      <td>PT</td>\n",
       "      <td>Full Reporter</td>\n",
       "      <td>0</td>\n",
       "      <td>1075448</td>\n",
       "      <td>2764357893</td>\n",
       "      <td>37310649233</td>\n",
       "      <td>428923289696</td>\n",
       "    </tr>\n",
       "    <tr>\n",
       "      <th>3</th>\n",
       "      <td>90013</td>\n",
       "      <td>Santa Clara Valley Transportation Authority (VTA)</td>\n",
       "      <td>Active</td>\n",
       "      <td>San Jose</td>\n",
       "      <td>San Jose, CA</td>\n",
       "      <td>1837446</td>\n",
       "      <td>285.48</td>\n",
       "      <td>2023</td>\n",
       "      <td>HR</td>\n",
       "      <td>DO</td>\n",
       "      <td>Full Reporter</td>\n",
       "      <td>0</td>\n",
       "      <td>262144</td>\n",
       "      <td>887382528</td>\n",
       "      <td>11150999040</td>\n",
       "      <td>232484337152</td>\n",
       "    </tr>\n",
       "    <tr>\n",
       "      <th>4</th>\n",
       "      <td>90170</td>\n",
       "      <td>ATC / Vancom</td>\n",
       "      <td>Inactive</td>\n",
       "      <td>0</td>\n",
       "      <td>San Francisco--Oakland, CA</td>\n",
       "      <td>3515933</td>\n",
       "      <td>513.80</td>\n",
       "      <td>2023</td>\n",
       "      <td>DR</td>\n",
       "      <td>PT</td>\n",
       "      <td>Full Reporter</td>\n",
       "      <td>0</td>\n",
       "      <td>0</td>\n",
       "      <td>0</td>\n",
       "      <td>0</td>\n",
       "      <td>0</td>\n",
       "    </tr>\n",
       "  </tbody>\n",
       "</table>\n",
       "</div>"
      ],
      "text/plain": [
       "  ntd_id                                      source_agency agency_status  \\\n",
       "0  90198    City of Porterville (COLT) - Transit Department        Active   \n",
       "1  90198    City of Porterville (COLT) - Transit Department        Active   \n",
       "2  90036      Orange County Transportation Authority (OCTA)        Active   \n",
       "3  90013  Santa Clara Valley Transportation Authority (VTA)        Active   \n",
       "4  90170                                       ATC / Vancom      Inactive   \n",
       "\n",
       "          city                      primary_uza_name  uza_population  \\\n",
       "0  Porterville                       Porterville, CA           69862   \n",
       "1  Porterville                       Porterville, CA           69862   \n",
       "2       Orange  Los Angeles--Long Beach--Anaheim, CA        12237376   \n",
       "3     San Jose                          San Jose, CA         1837446   \n",
       "4            0            San Francisco--Oakland, CA         3515933   \n",
       "\n",
       "   uza_area_sq_miles  year mode service      reporter_type  total_upt  \\\n",
       "0              16.35  2023   MB      PT  Building Reporter          0   \n",
       "1              16.35  2023   DR      PT  Building Reporter          0   \n",
       "2            1636.83  2023   SR      PT      Full Reporter          0   \n",
       "3             285.48  2023   HR      DO      Full Reporter          0   \n",
       "4             513.80  2023   DR      PT      Full Reporter          0   \n",
       "\n",
       "   total_voms   total_vrh    total_vrm   opexp_total  \n",
       "0           0           0            0             0  \n",
       "1           0           0            0             0  \n",
       "2     1075448  2764357893  37310649233  428923289696  \n",
       "3      262144   887382528  11150999040  232484337152  \n",
       "4           0           0            0             0  "
      ]
     },
     "execution_count": 126,
     "metadata": {},
     "output_type": "execute_result"
    }
   ],
   "source": [
    "ntd_2023_data.head()"
   ]
  },
  {
   "cell_type": "code",
   "execution_count": 128,
   "id": "4be1abb0-0a82-41ae-bf63-df97841a1506",
   "metadata": {
    "tags": []
   },
   "outputs": [
    {
     "data": {
      "text/html": [
       "<div>\n",
       "<style scoped>\n",
       "    .dataframe tbody tr th:only-of-type {\n",
       "        vertical-align: middle;\n",
       "    }\n",
       "\n",
       "    .dataframe tbody tr th {\n",
       "        vertical-align: top;\n",
       "    }\n",
       "\n",
       "    .dataframe thead th {\n",
       "        text-align: right;\n",
       "    }\n",
       "</style>\n",
       "<table border=\"1\" class=\"dataframe\">\n",
       "  <thead>\n",
       "    <tr style=\"text-align: right;\">\n",
       "      <th></th>\n",
       "      <th>total_upt</th>\n",
       "      <th>total_vrh</th>\n",
       "      <th>total_vrm</th>\n",
       "      <th>opexp_total</th>\n",
       "      <th>total_voms</th>\n",
       "    </tr>\n",
       "  </thead>\n",
       "  <tbody>\n",
       "    <tr>\n",
       "      <th>total_upt</th>\n",
       "      <td>1.000000</td>\n",
       "      <td>0.447327</td>\n",
       "      <td>0.438990</td>\n",
       "      <td>0.467137</td>\n",
       "      <td>0.428977</td>\n",
       "    </tr>\n",
       "    <tr>\n",
       "      <th>total_vrh</th>\n",
       "      <td>0.447327</td>\n",
       "      <td>1.000000</td>\n",
       "      <td>0.993603</td>\n",
       "      <td>0.970093</td>\n",
       "      <td>0.992880</td>\n",
       "    </tr>\n",
       "    <tr>\n",
       "      <th>total_vrm</th>\n",
       "      <td>0.438990</td>\n",
       "      <td>0.993603</td>\n",
       "      <td>1.000000</td>\n",
       "      <td>0.958037</td>\n",
       "      <td>0.991704</td>\n",
       "    </tr>\n",
       "    <tr>\n",
       "      <th>opexp_total</th>\n",
       "      <td>0.467137</td>\n",
       "      <td>0.970093</td>\n",
       "      <td>0.958037</td>\n",
       "      <td>1.000000</td>\n",
       "      <td>0.939107</td>\n",
       "    </tr>\n",
       "    <tr>\n",
       "      <th>total_voms</th>\n",
       "      <td>0.428977</td>\n",
       "      <td>0.992880</td>\n",
       "      <td>0.991704</td>\n",
       "      <td>0.939107</td>\n",
       "      <td>1.000000</td>\n",
       "    </tr>\n",
       "  </tbody>\n",
       "</table>\n",
       "</div>"
      ],
      "text/plain": [
       "             total_upt  total_vrh  total_vrm  opexp_total  total_voms\n",
       "total_upt     1.000000   0.447327   0.438990     0.467137    0.428977\n",
       "total_vrh     0.447327   1.000000   0.993603     0.970093    0.992880\n",
       "total_vrm     0.438990   0.993603   1.000000     0.958037    0.991704\n",
       "opexp_total   0.467137   0.970093   0.958037     1.000000    0.939107\n",
       "total_voms    0.428977   0.992880   0.991704     0.939107    1.000000"
      ]
     },
     "execution_count": 128,
     "metadata": {},
     "output_type": "execute_result"
    }
   ],
   "source": [
    "ntd_2023_data[numerical_cols].corr()"
   ]
  },
  {
   "cell_type": "code",
   "execution_count": 129,
   "id": "1ebfa21c-5bd5-4540-826d-a4c5b2960d6f",
   "metadata": {
    "tags": []
   },
   "outputs": [
    {
     "data": {
      "text/plain": [
       "PT    409\n",
       "DO    230\n",
       "TX     23\n",
       "TN      5\n",
       "Name: service, dtype: int64"
      ]
     },
     "execution_count": 129,
     "metadata": {},
     "output_type": "execute_result"
    }
   ],
   "source": [
    "ntd_2023_data[\"service\"].value_counts()"
   ]
  },
  {
   "cell_type": "code",
   "execution_count": 130,
   "id": "76e502b8-73a2-4284-b723-e0d1ebd1beef",
   "metadata": {
    "tags": []
   },
   "outputs": [
    {
     "data": {
      "text/plain": [
       "DR    263\n",
       "MB    244\n",
       "CB     51\n",
       "DT     39\n",
       "VP     21\n",
       "LR      8\n",
       "CR      8\n",
       "FB      7\n",
       "OT      7\n",
       "RB      4\n",
       "YR      3\n",
       "HR      3\n",
       "OR      2\n",
       "MG      2\n",
       "SR      2\n",
       "JT      1\n",
       "CC      1\n",
       "TB      1\n",
       "Name: mode, dtype: int64"
      ]
     },
     "execution_count": 130,
     "metadata": {},
     "output_type": "execute_result"
    }
   ],
   "source": [
    "ntd_2023_data[\"mode\"].value_counts()"
   ]
  },
  {
   "cell_type": "code",
   "execution_count": 131,
   "id": "d18e9398-20c2-4070-956a-19fde7934a5c",
   "metadata": {
    "tags": []
   },
   "outputs": [],
   "source": [
    "from sklearn.cluster import AgglomerativeClustering \n",
    "from sklearn.compose import ColumnTransformer\n",
    "from sklearn.pipeline import Pipeline\n",
    "from sklearn.preprocessing import OneHotEncoder, StandardScaler"
   ]
  },
  {
   "cell_type": "code",
   "execution_count": 132,
   "id": "f66dcb48-9b59-478e-889b-17dd97406544",
   "metadata": {
    "tags": []
   },
   "outputs": [
    {
     "data": {
      "text/plain": [
       "['total_upt', 'total_vrh', 'total_vrm', 'opexp_total', 'total_voms']"
      ]
     },
     "execution_count": 132,
     "metadata": {},
     "output_type": "execute_result"
    }
   ],
   "source": [
    "numerical_cols"
   ]
  },
  {
   "cell_type": "code",
   "execution_count": 133,
   "id": "9c0bdf39-91a8-4e68-a8f1-db5942eaae80",
   "metadata": {
    "tags": []
   },
   "outputs": [
    {
     "data": {
      "text/plain": [
       "['mode', 'service', 'reporter_type']"
      ]
     },
     "execution_count": 133,
     "metadata": {},
     "output_type": "execute_result"
    }
   ],
   "source": [
    "categorical_cols"
   ]
  },
  {
   "cell_type": "code",
   "execution_count": 140,
   "id": "5afbf1f7-7a15-410e-940d-b1d1bc536281",
   "metadata": {
    "tags": []
   },
   "outputs": [
    {
     "ename": "TypeError",
     "evalue": "_HTMLDocumentationLinkMixin._get_doc_link() missing 1 required positional argument: 'self'",
     "output_type": "error",
     "traceback": [
      "\u001b[0;31m---------------------------------------------------------------------------\u001b[0m",
      "\u001b[0;31mTypeError\u001b[0m                                 Traceback (most recent call last)",
      "File \u001b[0;32m/opt/conda/lib/python3.11/site-packages/IPython/core/formatters.py:1036\u001b[0m, in \u001b[0;36mMimeBundleFormatter.__call__\u001b[0;34m(self, obj, include, exclude)\u001b[0m\n\u001b[1;32m   1033\u001b[0m     method \u001b[38;5;241m=\u001b[39m get_real_method(obj, \u001b[38;5;28mself\u001b[39m\u001b[38;5;241m.\u001b[39mprint_method)\n\u001b[1;32m   1035\u001b[0m     \u001b[38;5;28;01mif\u001b[39;00m method \u001b[38;5;129;01mis\u001b[39;00m \u001b[38;5;129;01mnot\u001b[39;00m \u001b[38;5;28;01mNone\u001b[39;00m:\n\u001b[0;32m-> 1036\u001b[0m         \u001b[38;5;28;01mreturn\u001b[39;00m \u001b[43mmethod\u001b[49m\u001b[43m(\u001b[49m\u001b[43minclude\u001b[49m\u001b[38;5;241;43m=\u001b[39;49m\u001b[43minclude\u001b[49m\u001b[43m,\u001b[49m\u001b[43m \u001b[49m\u001b[43mexclude\u001b[49m\u001b[38;5;241;43m=\u001b[39;49m\u001b[43mexclude\u001b[49m\u001b[43m)\u001b[49m\n\u001b[1;32m   1037\u001b[0m     \u001b[38;5;28;01mreturn\u001b[39;00m \u001b[38;5;28;01mNone\u001b[39;00m\n\u001b[1;32m   1038\u001b[0m \u001b[38;5;28;01melse\u001b[39;00m:\n",
      "File \u001b[0;32m/opt/conda/lib/python3.11/site-packages/sklearn/utils/_repr_html/base.py:151\u001b[0m, in \u001b[0;36mReprHTMLMixin._repr_mimebundle_\u001b[0;34m(self, **kwargs)\u001b[0m\n\u001b[1;32m    149\u001b[0m output \u001b[38;5;241m=\u001b[39m {\u001b[38;5;124m\"\u001b[39m\u001b[38;5;124mtext/plain\u001b[39m\u001b[38;5;124m\"\u001b[39m: \u001b[38;5;28mrepr\u001b[39m(\u001b[38;5;28mself\u001b[39m)}\n\u001b[1;32m    150\u001b[0m \u001b[38;5;28;01mif\u001b[39;00m get_config()[\u001b[38;5;124m\"\u001b[39m\u001b[38;5;124mdisplay\u001b[39m\u001b[38;5;124m\"\u001b[39m] \u001b[38;5;241m==\u001b[39m \u001b[38;5;124m\"\u001b[39m\u001b[38;5;124mdiagram\u001b[39m\u001b[38;5;124m\"\u001b[39m:\n\u001b[0;32m--> 151\u001b[0m     output[\u001b[38;5;124m\"\u001b[39m\u001b[38;5;124mtext/html\u001b[39m\u001b[38;5;124m\"\u001b[39m] \u001b[38;5;241m=\u001b[39m \u001b[38;5;28;43mself\u001b[39;49m\u001b[38;5;241;43m.\u001b[39;49m\u001b[43m_html_repr\u001b[49m\u001b[43m(\u001b[49m\u001b[43m)\u001b[49m\n\u001b[1;32m    152\u001b[0m \u001b[38;5;28;01mreturn\u001b[39;00m output\n",
      "File \u001b[0;32m/opt/conda/lib/python3.11/site-packages/sklearn/utils/_repr_html/estimator.py:480\u001b[0m, in \u001b[0;36mestimator_html_repr\u001b[0;34m(estimator)\u001b[0m\n\u001b[1;32m    469\u001b[0m html_template \u001b[38;5;241m=\u001b[39m (\n\u001b[1;32m    470\u001b[0m     \u001b[38;5;124mf\u001b[39m\u001b[38;5;124m\"\u001b[39m\u001b[38;5;124m<style>\u001b[39m\u001b[38;5;132;01m{\u001b[39;00mstyle_with_id\u001b[38;5;132;01m}\u001b[39;00m\u001b[38;5;124m</style>\u001b[39m\u001b[38;5;124m\"\u001b[39m\n\u001b[1;32m    471\u001b[0m     \u001b[38;5;124mf\u001b[39m\u001b[38;5;124m\"\u001b[39m\u001b[38;5;124m<body>\u001b[39m\u001b[38;5;124m\"\u001b[39m\n\u001b[0;32m   (...)\u001b[0m\n\u001b[1;32m    476\u001b[0m     \u001b[38;5;124m'\u001b[39m\u001b[38;5;124m<div class=\u001b[39m\u001b[38;5;124m\"\u001b[39m\u001b[38;5;124msk-container\u001b[39m\u001b[38;5;124m\"\u001b[39m\u001b[38;5;124m hidden>\u001b[39m\u001b[38;5;124m'\u001b[39m\n\u001b[1;32m    477\u001b[0m )\n\u001b[1;32m    479\u001b[0m out\u001b[38;5;241m.\u001b[39mwrite(html_template)\n\u001b[0;32m--> 480\u001b[0m \u001b[43m_write_estimator_html\u001b[49m\u001b[43m(\u001b[49m\n\u001b[1;32m    481\u001b[0m \u001b[43m    \u001b[49m\u001b[43mout\u001b[49m\u001b[43m,\u001b[49m\n\u001b[1;32m    482\u001b[0m \u001b[43m    \u001b[49m\u001b[43mestimator\u001b[49m\u001b[43m,\u001b[49m\n\u001b[1;32m    483\u001b[0m \u001b[43m    \u001b[49m\u001b[43mestimator\u001b[49m\u001b[38;5;241;43m.\u001b[39;49m\u001b[38;5;18;43m__class__\u001b[39;49m\u001b[38;5;241;43m.\u001b[39;49m\u001b[38;5;18;43m__name__\u001b[39;49m\u001b[43m,\u001b[49m\n\u001b[1;32m    484\u001b[0m \u001b[43m    \u001b[49m\u001b[43mestimator_str\u001b[49m\u001b[43m,\u001b[49m\n\u001b[1;32m    485\u001b[0m \u001b[43m    \u001b[49m\u001b[43mfirst_call\u001b[49m\u001b[38;5;241;43m=\u001b[39;49m\u001b[38;5;28;43;01mTrue\u001b[39;49;00m\u001b[43m,\u001b[49m\n\u001b[1;32m    486\u001b[0m \u001b[43m    \u001b[49m\u001b[43mis_fitted_css_class\u001b[49m\u001b[38;5;241;43m=\u001b[39;49m\u001b[43mis_fitted_css_class\u001b[49m\u001b[43m,\u001b[49m\n\u001b[1;32m    487\u001b[0m \u001b[43m    \u001b[49m\u001b[43mis_fitted_icon\u001b[49m\u001b[38;5;241;43m=\u001b[39;49m\u001b[43mis_fitted_icon\u001b[49m\u001b[43m,\u001b[49m\n\u001b[1;32m    488\u001b[0m \u001b[43m\u001b[49m\u001b[43m)\u001b[49m\n\u001b[1;32m    489\u001b[0m \u001b[38;5;28;01mwith\u001b[39;00m \u001b[38;5;28mopen\u001b[39m(\u001b[38;5;28mstr\u001b[39m(Path(\u001b[38;5;18m__file__\u001b[39m)\u001b[38;5;241m.\u001b[39mparent \u001b[38;5;241m/\u001b[39m \u001b[38;5;124m\"\u001b[39m\u001b[38;5;124mestimator.js\u001b[39m\u001b[38;5;124m\"\u001b[39m), \u001b[38;5;124m\"\u001b[39m\u001b[38;5;124mr\u001b[39m\u001b[38;5;124m\"\u001b[39m) \u001b[38;5;28;01mas\u001b[39;00m f:\n\u001b[1;32m    490\u001b[0m     script \u001b[38;5;241m=\u001b[39m f\u001b[38;5;241m.\u001b[39mread()\n",
      "File \u001b[0;32m/opt/conda/lib/python3.11/site-packages/sklearn/utils/_repr_html/estimator.py:373\u001b[0m, in \u001b[0;36m_write_estimator_html\u001b[0;34m(out, estimator, estimator_label, estimator_label_details, is_fitted_css_class, is_fitted_icon, first_call, param_prefix)\u001b[0m\n\u001b[1;32m    371\u001b[0m         \u001b[38;5;66;03m# wrap element in a serial visualblock\u001b[39;00m\n\u001b[1;32m    372\u001b[0m         serial_block \u001b[38;5;241m=\u001b[39m _VisualBlock(\u001b[38;5;124m\"\u001b[39m\u001b[38;5;124mserial\u001b[39m\u001b[38;5;124m\"\u001b[39m, [est], dash_wrapped\u001b[38;5;241m=\u001b[39m\u001b[38;5;28;01mFalse\u001b[39;00m)\n\u001b[0;32m--> 373\u001b[0m         \u001b[43m_write_estimator_html\u001b[49m\u001b[43m(\u001b[49m\n\u001b[1;32m    374\u001b[0m \u001b[43m            \u001b[49m\u001b[43mout\u001b[49m\u001b[43m,\u001b[49m\n\u001b[1;32m    375\u001b[0m \u001b[43m            \u001b[49m\u001b[43mserial_block\u001b[49m\u001b[43m,\u001b[49m\n\u001b[1;32m    376\u001b[0m \u001b[43m            \u001b[49m\u001b[43mname\u001b[49m\u001b[43m,\u001b[49m\n\u001b[1;32m    377\u001b[0m \u001b[43m            \u001b[49m\u001b[43mname_details\u001b[49m\u001b[43m,\u001b[49m\n\u001b[1;32m    378\u001b[0m \u001b[43m            \u001b[49m\u001b[43mis_fitted_css_class\u001b[49m\u001b[38;5;241;43m=\u001b[39;49m\u001b[43mis_fitted_css_class\u001b[49m\u001b[43m,\u001b[49m\n\u001b[1;32m    379\u001b[0m \u001b[43m            \u001b[49m\u001b[43mparam_prefix\u001b[49m\u001b[38;5;241;43m=\u001b[39;49m\u001b[43mnew_prefix\u001b[49m\u001b[43m,\u001b[49m\n\u001b[1;32m    380\u001b[0m \u001b[43m        \u001b[49m\u001b[43m)\u001b[49m\n\u001b[1;32m    381\u001b[0m         out\u001b[38;5;241m.\u001b[39mwrite(\u001b[38;5;124m\"\u001b[39m\u001b[38;5;124m</div>\u001b[39m\u001b[38;5;124m\"\u001b[39m)  \u001b[38;5;66;03m# sk-parallel-item\u001b[39;00m\n\u001b[1;32m    383\u001b[0m out\u001b[38;5;241m.\u001b[39mwrite(\u001b[38;5;124m\"\u001b[39m\u001b[38;5;124m</div></div>\u001b[39m\u001b[38;5;124m\"\u001b[39m)\n",
      "File \u001b[0;32m/opt/conda/lib/python3.11/site-packages/sklearn/utils/_repr_html/estimator.py:361\u001b[0m, in \u001b[0;36m_write_estimator_html\u001b[0;34m(out, estimator, estimator_label, estimator_label_details, is_fitted_css_class, is_fitted_icon, first_call, param_prefix)\u001b[0m\n\u001b[1;32m    358\u001b[0m     new_prefix \u001b[38;5;241m=\u001b[39m param_prefix\n\u001b[1;32m    360\u001b[0m \u001b[38;5;28;01mif\u001b[39;00m kind \u001b[38;5;241m==\u001b[39m \u001b[38;5;124m\"\u001b[39m\u001b[38;5;124mserial\u001b[39m\u001b[38;5;124m\"\u001b[39m:\n\u001b[0;32m--> 361\u001b[0m     \u001b[43m_write_estimator_html\u001b[49m\u001b[43m(\u001b[49m\n\u001b[1;32m    362\u001b[0m \u001b[43m        \u001b[49m\u001b[43mout\u001b[49m\u001b[43m,\u001b[49m\n\u001b[1;32m    363\u001b[0m \u001b[43m        \u001b[49m\u001b[43mest\u001b[49m\u001b[43m,\u001b[49m\n\u001b[1;32m    364\u001b[0m \u001b[43m        \u001b[49m\u001b[43mname\u001b[49m\u001b[43m,\u001b[49m\n\u001b[1;32m    365\u001b[0m \u001b[43m        \u001b[49m\u001b[43mname_details\u001b[49m\u001b[43m,\u001b[49m\n\u001b[1;32m    366\u001b[0m \u001b[43m        \u001b[49m\u001b[43mis_fitted_css_class\u001b[49m\u001b[38;5;241;43m=\u001b[39;49m\u001b[43mis_fitted_css_class\u001b[49m\u001b[43m,\u001b[49m\n\u001b[1;32m    367\u001b[0m \u001b[43m        \u001b[49m\u001b[43mparam_prefix\u001b[49m\u001b[38;5;241;43m=\u001b[39;49m\u001b[43mnew_prefix\u001b[49m\u001b[43m,\u001b[49m\n\u001b[1;32m    368\u001b[0m \u001b[43m    \u001b[49m\u001b[43m)\u001b[49m\n\u001b[1;32m    369\u001b[0m \u001b[38;5;28;01melse\u001b[39;00m:  \u001b[38;5;66;03m# parallel\u001b[39;00m\n\u001b[1;32m    370\u001b[0m     out\u001b[38;5;241m.\u001b[39mwrite(\u001b[38;5;124m'\u001b[39m\u001b[38;5;124m<div class=\u001b[39m\u001b[38;5;124m\"\u001b[39m\u001b[38;5;124msk-parallel-item\u001b[39m\u001b[38;5;124m\"\u001b[39m\u001b[38;5;124m>\u001b[39m\u001b[38;5;124m'\u001b[39m)\n",
      "File \u001b[0;32m/opt/conda/lib/python3.11/site-packages/sklearn/utils/_repr_html/estimator.py:317\u001b[0m, in \u001b[0;36m_write_estimator_html\u001b[0;34m(out, estimator, estimator_label, estimator_label_details, is_fitted_css_class, is_fitted_icon, first_call, param_prefix)\u001b[0m\n\u001b[1;32m    315\u001b[0m \u001b[38;5;66;03m# `estimator` can also be an instance of `_VisualBlock`\u001b[39;00m\n\u001b[1;32m    316\u001b[0m \u001b[38;5;28;01mif\u001b[39;00m \u001b[38;5;28mhasattr\u001b[39m(estimator, \u001b[38;5;124m\"\u001b[39m\u001b[38;5;124m_get_doc_link\u001b[39m\u001b[38;5;124m\"\u001b[39m):\n\u001b[0;32m--> 317\u001b[0m     doc_link \u001b[38;5;241m=\u001b[39m \u001b[43mestimator\u001b[49m\u001b[38;5;241;43m.\u001b[39;49m\u001b[43m_get_doc_link\u001b[49m\u001b[43m(\u001b[49m\u001b[43m)\u001b[49m\n\u001b[1;32m    318\u001b[0m \u001b[38;5;28;01melse\u001b[39;00m:\n\u001b[1;32m    319\u001b[0m     doc_link \u001b[38;5;241m=\u001b[39m \u001b[38;5;124m\"\u001b[39m\u001b[38;5;124m\"\u001b[39m\n",
      "\u001b[0;31mTypeError\u001b[0m: _HTMLDocumentationLinkMixin._get_doc_link() missing 1 required positional argument: 'self'"
     ]
    },
    {
     "ename": "TypeError",
     "evalue": "_HTMLDocumentationLinkMixin._get_doc_link() missing 1 required positional argument: 'self'",
     "output_type": "error",
     "traceback": [
      "\u001b[0;31m---------------------------------------------------------------------------\u001b[0m",
      "\u001b[0;31mTypeError\u001b[0m                                 Traceback (most recent call last)",
      "File \u001b[0;32m/opt/conda/lib/python3.11/site-packages/IPython/core/formatters.py:406\u001b[0m, in \u001b[0;36mBaseFormatter.__call__\u001b[0;34m(self, obj)\u001b[0m\n\u001b[1;32m    404\u001b[0m     method \u001b[38;5;241m=\u001b[39m get_real_method(obj, \u001b[38;5;28mself\u001b[39m\u001b[38;5;241m.\u001b[39mprint_method)\n\u001b[1;32m    405\u001b[0m     \u001b[38;5;28;01mif\u001b[39;00m method \u001b[38;5;129;01mis\u001b[39;00m \u001b[38;5;129;01mnot\u001b[39;00m \u001b[38;5;28;01mNone\u001b[39;00m:\n\u001b[0;32m--> 406\u001b[0m         \u001b[38;5;28;01mreturn\u001b[39;00m \u001b[43mmethod\u001b[49m\u001b[43m(\u001b[49m\u001b[43m)\u001b[49m\n\u001b[1;32m    407\u001b[0m     \u001b[38;5;28;01mreturn\u001b[39;00m \u001b[38;5;28;01mNone\u001b[39;00m\n\u001b[1;32m    408\u001b[0m \u001b[38;5;28;01melse\u001b[39;00m:\n",
      "File \u001b[0;32m/opt/conda/lib/python3.11/site-packages/sklearn/utils/_repr_html/base.py:145\u001b[0m, in \u001b[0;36mReprHTMLMixin._repr_html_inner\u001b[0;34m(self)\u001b[0m\n\u001b[1;32m    140\u001b[0m \u001b[38;5;28;01mdef\u001b[39;00m\u001b[38;5;250m \u001b[39m\u001b[38;5;21m_repr_html_inner\u001b[39m(\u001b[38;5;28mself\u001b[39m):\n\u001b[1;32m    141\u001b[0m \u001b[38;5;250m    \u001b[39m\u001b[38;5;124;03m\"\"\"This function is returned by the @property `_repr_html_` to make\u001b[39;00m\n\u001b[1;32m    142\u001b[0m \u001b[38;5;124;03m    `hasattr(estimator, \"_repr_html_\") return `True` or `False` depending\u001b[39;00m\n\u001b[1;32m    143\u001b[0m \u001b[38;5;124;03m    on `get_config()[\"display\"]`.\u001b[39;00m\n\u001b[1;32m    144\u001b[0m \u001b[38;5;124;03m    \"\"\"\u001b[39;00m\n\u001b[0;32m--> 145\u001b[0m     \u001b[38;5;28;01mreturn\u001b[39;00m \u001b[38;5;28;43mself\u001b[39;49m\u001b[38;5;241;43m.\u001b[39;49m\u001b[43m_html_repr\u001b[49m\u001b[43m(\u001b[49m\u001b[43m)\u001b[49m\n",
      "File \u001b[0;32m/opt/conda/lib/python3.11/site-packages/sklearn/utils/_repr_html/estimator.py:480\u001b[0m, in \u001b[0;36mestimator_html_repr\u001b[0;34m(estimator)\u001b[0m\n\u001b[1;32m    469\u001b[0m html_template \u001b[38;5;241m=\u001b[39m (\n\u001b[1;32m    470\u001b[0m     \u001b[38;5;124mf\u001b[39m\u001b[38;5;124m\"\u001b[39m\u001b[38;5;124m<style>\u001b[39m\u001b[38;5;132;01m{\u001b[39;00mstyle_with_id\u001b[38;5;132;01m}\u001b[39;00m\u001b[38;5;124m</style>\u001b[39m\u001b[38;5;124m\"\u001b[39m\n\u001b[1;32m    471\u001b[0m     \u001b[38;5;124mf\u001b[39m\u001b[38;5;124m\"\u001b[39m\u001b[38;5;124m<body>\u001b[39m\u001b[38;5;124m\"\u001b[39m\n\u001b[0;32m   (...)\u001b[0m\n\u001b[1;32m    476\u001b[0m     \u001b[38;5;124m'\u001b[39m\u001b[38;5;124m<div class=\u001b[39m\u001b[38;5;124m\"\u001b[39m\u001b[38;5;124msk-container\u001b[39m\u001b[38;5;124m\"\u001b[39m\u001b[38;5;124m hidden>\u001b[39m\u001b[38;5;124m'\u001b[39m\n\u001b[1;32m    477\u001b[0m )\n\u001b[1;32m    479\u001b[0m out\u001b[38;5;241m.\u001b[39mwrite(html_template)\n\u001b[0;32m--> 480\u001b[0m \u001b[43m_write_estimator_html\u001b[49m\u001b[43m(\u001b[49m\n\u001b[1;32m    481\u001b[0m \u001b[43m    \u001b[49m\u001b[43mout\u001b[49m\u001b[43m,\u001b[49m\n\u001b[1;32m    482\u001b[0m \u001b[43m    \u001b[49m\u001b[43mestimator\u001b[49m\u001b[43m,\u001b[49m\n\u001b[1;32m    483\u001b[0m \u001b[43m    \u001b[49m\u001b[43mestimator\u001b[49m\u001b[38;5;241;43m.\u001b[39;49m\u001b[38;5;18;43m__class__\u001b[39;49m\u001b[38;5;241;43m.\u001b[39;49m\u001b[38;5;18;43m__name__\u001b[39;49m\u001b[43m,\u001b[49m\n\u001b[1;32m    484\u001b[0m \u001b[43m    \u001b[49m\u001b[43mestimator_str\u001b[49m\u001b[43m,\u001b[49m\n\u001b[1;32m    485\u001b[0m \u001b[43m    \u001b[49m\u001b[43mfirst_call\u001b[49m\u001b[38;5;241;43m=\u001b[39;49m\u001b[38;5;28;43;01mTrue\u001b[39;49;00m\u001b[43m,\u001b[49m\n\u001b[1;32m    486\u001b[0m \u001b[43m    \u001b[49m\u001b[43mis_fitted_css_class\u001b[49m\u001b[38;5;241;43m=\u001b[39;49m\u001b[43mis_fitted_css_class\u001b[49m\u001b[43m,\u001b[49m\n\u001b[1;32m    487\u001b[0m \u001b[43m    \u001b[49m\u001b[43mis_fitted_icon\u001b[49m\u001b[38;5;241;43m=\u001b[39;49m\u001b[43mis_fitted_icon\u001b[49m\u001b[43m,\u001b[49m\n\u001b[1;32m    488\u001b[0m \u001b[43m\u001b[49m\u001b[43m)\u001b[49m\n\u001b[1;32m    489\u001b[0m \u001b[38;5;28;01mwith\u001b[39;00m \u001b[38;5;28mopen\u001b[39m(\u001b[38;5;28mstr\u001b[39m(Path(\u001b[38;5;18m__file__\u001b[39m)\u001b[38;5;241m.\u001b[39mparent \u001b[38;5;241m/\u001b[39m \u001b[38;5;124m\"\u001b[39m\u001b[38;5;124mestimator.js\u001b[39m\u001b[38;5;124m\"\u001b[39m), \u001b[38;5;124m\"\u001b[39m\u001b[38;5;124mr\u001b[39m\u001b[38;5;124m\"\u001b[39m) \u001b[38;5;28;01mas\u001b[39;00m f:\n\u001b[1;32m    490\u001b[0m     script \u001b[38;5;241m=\u001b[39m f\u001b[38;5;241m.\u001b[39mread()\n",
      "File \u001b[0;32m/opt/conda/lib/python3.11/site-packages/sklearn/utils/_repr_html/estimator.py:373\u001b[0m, in \u001b[0;36m_write_estimator_html\u001b[0;34m(out, estimator, estimator_label, estimator_label_details, is_fitted_css_class, is_fitted_icon, first_call, param_prefix)\u001b[0m\n\u001b[1;32m    371\u001b[0m         \u001b[38;5;66;03m# wrap element in a serial visualblock\u001b[39;00m\n\u001b[1;32m    372\u001b[0m         serial_block \u001b[38;5;241m=\u001b[39m _VisualBlock(\u001b[38;5;124m\"\u001b[39m\u001b[38;5;124mserial\u001b[39m\u001b[38;5;124m\"\u001b[39m, [est], dash_wrapped\u001b[38;5;241m=\u001b[39m\u001b[38;5;28;01mFalse\u001b[39;00m)\n\u001b[0;32m--> 373\u001b[0m         \u001b[43m_write_estimator_html\u001b[49m\u001b[43m(\u001b[49m\n\u001b[1;32m    374\u001b[0m \u001b[43m            \u001b[49m\u001b[43mout\u001b[49m\u001b[43m,\u001b[49m\n\u001b[1;32m    375\u001b[0m \u001b[43m            \u001b[49m\u001b[43mserial_block\u001b[49m\u001b[43m,\u001b[49m\n\u001b[1;32m    376\u001b[0m \u001b[43m            \u001b[49m\u001b[43mname\u001b[49m\u001b[43m,\u001b[49m\n\u001b[1;32m    377\u001b[0m \u001b[43m            \u001b[49m\u001b[43mname_details\u001b[49m\u001b[43m,\u001b[49m\n\u001b[1;32m    378\u001b[0m \u001b[43m            \u001b[49m\u001b[43mis_fitted_css_class\u001b[49m\u001b[38;5;241;43m=\u001b[39;49m\u001b[43mis_fitted_css_class\u001b[49m\u001b[43m,\u001b[49m\n\u001b[1;32m    379\u001b[0m \u001b[43m            \u001b[49m\u001b[43mparam_prefix\u001b[49m\u001b[38;5;241;43m=\u001b[39;49m\u001b[43mnew_prefix\u001b[49m\u001b[43m,\u001b[49m\n\u001b[1;32m    380\u001b[0m \u001b[43m        \u001b[49m\u001b[43m)\u001b[49m\n\u001b[1;32m    381\u001b[0m         out\u001b[38;5;241m.\u001b[39mwrite(\u001b[38;5;124m\"\u001b[39m\u001b[38;5;124m</div>\u001b[39m\u001b[38;5;124m\"\u001b[39m)  \u001b[38;5;66;03m# sk-parallel-item\u001b[39;00m\n\u001b[1;32m    383\u001b[0m out\u001b[38;5;241m.\u001b[39mwrite(\u001b[38;5;124m\"\u001b[39m\u001b[38;5;124m</div></div>\u001b[39m\u001b[38;5;124m\"\u001b[39m)\n",
      "File \u001b[0;32m/opt/conda/lib/python3.11/site-packages/sklearn/utils/_repr_html/estimator.py:361\u001b[0m, in \u001b[0;36m_write_estimator_html\u001b[0;34m(out, estimator, estimator_label, estimator_label_details, is_fitted_css_class, is_fitted_icon, first_call, param_prefix)\u001b[0m\n\u001b[1;32m    358\u001b[0m     new_prefix \u001b[38;5;241m=\u001b[39m param_prefix\n\u001b[1;32m    360\u001b[0m \u001b[38;5;28;01mif\u001b[39;00m kind \u001b[38;5;241m==\u001b[39m \u001b[38;5;124m\"\u001b[39m\u001b[38;5;124mserial\u001b[39m\u001b[38;5;124m\"\u001b[39m:\n\u001b[0;32m--> 361\u001b[0m     \u001b[43m_write_estimator_html\u001b[49m\u001b[43m(\u001b[49m\n\u001b[1;32m    362\u001b[0m \u001b[43m        \u001b[49m\u001b[43mout\u001b[49m\u001b[43m,\u001b[49m\n\u001b[1;32m    363\u001b[0m \u001b[43m        \u001b[49m\u001b[43mest\u001b[49m\u001b[43m,\u001b[49m\n\u001b[1;32m    364\u001b[0m \u001b[43m        \u001b[49m\u001b[43mname\u001b[49m\u001b[43m,\u001b[49m\n\u001b[1;32m    365\u001b[0m \u001b[43m        \u001b[49m\u001b[43mname_details\u001b[49m\u001b[43m,\u001b[49m\n\u001b[1;32m    366\u001b[0m \u001b[43m        \u001b[49m\u001b[43mis_fitted_css_class\u001b[49m\u001b[38;5;241;43m=\u001b[39;49m\u001b[43mis_fitted_css_class\u001b[49m\u001b[43m,\u001b[49m\n\u001b[1;32m    367\u001b[0m \u001b[43m        \u001b[49m\u001b[43mparam_prefix\u001b[49m\u001b[38;5;241;43m=\u001b[39;49m\u001b[43mnew_prefix\u001b[49m\u001b[43m,\u001b[49m\n\u001b[1;32m    368\u001b[0m \u001b[43m    \u001b[49m\u001b[43m)\u001b[49m\n\u001b[1;32m    369\u001b[0m \u001b[38;5;28;01melse\u001b[39;00m:  \u001b[38;5;66;03m# parallel\u001b[39;00m\n\u001b[1;32m    370\u001b[0m     out\u001b[38;5;241m.\u001b[39mwrite(\u001b[38;5;124m'\u001b[39m\u001b[38;5;124m<div class=\u001b[39m\u001b[38;5;124m\"\u001b[39m\u001b[38;5;124msk-parallel-item\u001b[39m\u001b[38;5;124m\"\u001b[39m\u001b[38;5;124m>\u001b[39m\u001b[38;5;124m'\u001b[39m)\n",
      "File \u001b[0;32m/opt/conda/lib/python3.11/site-packages/sklearn/utils/_repr_html/estimator.py:317\u001b[0m, in \u001b[0;36m_write_estimator_html\u001b[0;34m(out, estimator, estimator_label, estimator_label_details, is_fitted_css_class, is_fitted_icon, first_call, param_prefix)\u001b[0m\n\u001b[1;32m    315\u001b[0m \u001b[38;5;66;03m# `estimator` can also be an instance of `_VisualBlock`\u001b[39;00m\n\u001b[1;32m    316\u001b[0m \u001b[38;5;28;01mif\u001b[39;00m \u001b[38;5;28mhasattr\u001b[39m(estimator, \u001b[38;5;124m\"\u001b[39m\u001b[38;5;124m_get_doc_link\u001b[39m\u001b[38;5;124m\"\u001b[39m):\n\u001b[0;32m--> 317\u001b[0m     doc_link \u001b[38;5;241m=\u001b[39m \u001b[43mestimator\u001b[49m\u001b[38;5;241;43m.\u001b[39;49m\u001b[43m_get_doc_link\u001b[49m\u001b[43m(\u001b[49m\u001b[43m)\u001b[49m\n\u001b[1;32m    318\u001b[0m \u001b[38;5;28;01melse\u001b[39;00m:\n\u001b[1;32m    319\u001b[0m     doc_link \u001b[38;5;241m=\u001b[39m \u001b[38;5;124m\"\u001b[39m\u001b[38;5;124m\"\u001b[39m\n",
      "\u001b[0;31mTypeError\u001b[0m: _HTMLDocumentationLinkMixin._get_doc_link() missing 1 required positional argument: 'self'"
     ]
    },
    {
     "data": {
      "text/plain": [
       "ColumnTransformer(transformers=[('numeric',\n",
       "                                 <class 'sklearn.preprocessing._data.StandardScaler'>,\n",
       "                                 ['total_upt', 'total_vrh', 'total_vrm',\n",
       "                                  'opexp_total', 'total_voms']),\n",
       "                                ('categorical',\n",
       "                                 OneHotEncoder(drop='first',\n",
       "                                               sparse_output=False),\n",
       "                                 ['mode', 'service', 'reporter_type'])])"
      ]
     },
     "execution_count": 140,
     "metadata": {},
     "output_type": "execute_result"
    }
   ],
   "source": [
    "# 1. set up pre-processing with column transformer\n",
    "\n",
    "preprocessor = ColumnTransformer(\n",
    "    [\n",
    "        (\"numeric\", StandardScaler, numerical_cols),\n",
    "        (\"categorical\", OneHotEncoder(drop=\"first\", sparse_output=False), categorical_cols)\n",
    "    ]\n",
    ")\n",
    "preprocessor"
   ]
  },
  {
   "cell_type": "code",
   "execution_count": 141,
   "id": "2f5a9652-1dd0-4399-a3ba-c9b8a89715cb",
   "metadata": {
    "tags": []
   },
   "outputs": [
    {
     "ename": "TypeError",
     "evalue": "_HTMLDocumentationLinkMixin._get_doc_link() missing 1 required positional argument: 'self'",
     "output_type": "error",
     "traceback": [
      "\u001b[0;31m---------------------------------------------------------------------------\u001b[0m",
      "\u001b[0;31mTypeError\u001b[0m                                 Traceback (most recent call last)",
      "File \u001b[0;32m/opt/conda/lib/python3.11/site-packages/IPython/core/formatters.py:1036\u001b[0m, in \u001b[0;36mMimeBundleFormatter.__call__\u001b[0;34m(self, obj, include, exclude)\u001b[0m\n\u001b[1;32m   1033\u001b[0m     method \u001b[38;5;241m=\u001b[39m get_real_method(obj, \u001b[38;5;28mself\u001b[39m\u001b[38;5;241m.\u001b[39mprint_method)\n\u001b[1;32m   1035\u001b[0m     \u001b[38;5;28;01mif\u001b[39;00m method \u001b[38;5;129;01mis\u001b[39;00m \u001b[38;5;129;01mnot\u001b[39;00m \u001b[38;5;28;01mNone\u001b[39;00m:\n\u001b[0;32m-> 1036\u001b[0m         \u001b[38;5;28;01mreturn\u001b[39;00m \u001b[43mmethod\u001b[49m\u001b[43m(\u001b[49m\u001b[43minclude\u001b[49m\u001b[38;5;241;43m=\u001b[39;49m\u001b[43minclude\u001b[49m\u001b[43m,\u001b[49m\u001b[43m \u001b[49m\u001b[43mexclude\u001b[49m\u001b[38;5;241;43m=\u001b[39;49m\u001b[43mexclude\u001b[49m\u001b[43m)\u001b[49m\n\u001b[1;32m   1037\u001b[0m     \u001b[38;5;28;01mreturn\u001b[39;00m \u001b[38;5;28;01mNone\u001b[39;00m\n\u001b[1;32m   1038\u001b[0m \u001b[38;5;28;01melse\u001b[39;00m:\n",
      "File \u001b[0;32m/opt/conda/lib/python3.11/site-packages/sklearn/utils/_repr_html/base.py:151\u001b[0m, in \u001b[0;36mReprHTMLMixin._repr_mimebundle_\u001b[0;34m(self, **kwargs)\u001b[0m\n\u001b[1;32m    149\u001b[0m output \u001b[38;5;241m=\u001b[39m {\u001b[38;5;124m\"\u001b[39m\u001b[38;5;124mtext/plain\u001b[39m\u001b[38;5;124m\"\u001b[39m: \u001b[38;5;28mrepr\u001b[39m(\u001b[38;5;28mself\u001b[39m)}\n\u001b[1;32m    150\u001b[0m \u001b[38;5;28;01mif\u001b[39;00m get_config()[\u001b[38;5;124m\"\u001b[39m\u001b[38;5;124mdisplay\u001b[39m\u001b[38;5;124m\"\u001b[39m] \u001b[38;5;241m==\u001b[39m \u001b[38;5;124m\"\u001b[39m\u001b[38;5;124mdiagram\u001b[39m\u001b[38;5;124m\"\u001b[39m:\n\u001b[0;32m--> 151\u001b[0m     output[\u001b[38;5;124m\"\u001b[39m\u001b[38;5;124mtext/html\u001b[39m\u001b[38;5;124m\"\u001b[39m] \u001b[38;5;241m=\u001b[39m \u001b[38;5;28;43mself\u001b[39;49m\u001b[38;5;241;43m.\u001b[39;49m\u001b[43m_html_repr\u001b[49m\u001b[43m(\u001b[49m\u001b[43m)\u001b[49m\n\u001b[1;32m    152\u001b[0m \u001b[38;5;28;01mreturn\u001b[39;00m output\n",
      "File \u001b[0;32m/opt/conda/lib/python3.11/site-packages/sklearn/utils/_repr_html/estimator.py:480\u001b[0m, in \u001b[0;36mestimator_html_repr\u001b[0;34m(estimator)\u001b[0m\n\u001b[1;32m    469\u001b[0m html_template \u001b[38;5;241m=\u001b[39m (\n\u001b[1;32m    470\u001b[0m     \u001b[38;5;124mf\u001b[39m\u001b[38;5;124m\"\u001b[39m\u001b[38;5;124m<style>\u001b[39m\u001b[38;5;132;01m{\u001b[39;00mstyle_with_id\u001b[38;5;132;01m}\u001b[39;00m\u001b[38;5;124m</style>\u001b[39m\u001b[38;5;124m\"\u001b[39m\n\u001b[1;32m    471\u001b[0m     \u001b[38;5;124mf\u001b[39m\u001b[38;5;124m\"\u001b[39m\u001b[38;5;124m<body>\u001b[39m\u001b[38;5;124m\"\u001b[39m\n\u001b[0;32m   (...)\u001b[0m\n\u001b[1;32m    476\u001b[0m     \u001b[38;5;124m'\u001b[39m\u001b[38;5;124m<div class=\u001b[39m\u001b[38;5;124m\"\u001b[39m\u001b[38;5;124msk-container\u001b[39m\u001b[38;5;124m\"\u001b[39m\u001b[38;5;124m hidden>\u001b[39m\u001b[38;5;124m'\u001b[39m\n\u001b[1;32m    477\u001b[0m )\n\u001b[1;32m    479\u001b[0m out\u001b[38;5;241m.\u001b[39mwrite(html_template)\n\u001b[0;32m--> 480\u001b[0m \u001b[43m_write_estimator_html\u001b[49m\u001b[43m(\u001b[49m\n\u001b[1;32m    481\u001b[0m \u001b[43m    \u001b[49m\u001b[43mout\u001b[49m\u001b[43m,\u001b[49m\n\u001b[1;32m    482\u001b[0m \u001b[43m    \u001b[49m\u001b[43mestimator\u001b[49m\u001b[43m,\u001b[49m\n\u001b[1;32m    483\u001b[0m \u001b[43m    \u001b[49m\u001b[43mestimator\u001b[49m\u001b[38;5;241;43m.\u001b[39;49m\u001b[38;5;18;43m__class__\u001b[39;49m\u001b[38;5;241;43m.\u001b[39;49m\u001b[38;5;18;43m__name__\u001b[39;49m\u001b[43m,\u001b[49m\n\u001b[1;32m    484\u001b[0m \u001b[43m    \u001b[49m\u001b[43mestimator_str\u001b[49m\u001b[43m,\u001b[49m\n\u001b[1;32m    485\u001b[0m \u001b[43m    \u001b[49m\u001b[43mfirst_call\u001b[49m\u001b[38;5;241;43m=\u001b[39;49m\u001b[38;5;28;43;01mTrue\u001b[39;49;00m\u001b[43m,\u001b[49m\n\u001b[1;32m    486\u001b[0m \u001b[43m    \u001b[49m\u001b[43mis_fitted_css_class\u001b[49m\u001b[38;5;241;43m=\u001b[39;49m\u001b[43mis_fitted_css_class\u001b[49m\u001b[43m,\u001b[49m\n\u001b[1;32m    487\u001b[0m \u001b[43m    \u001b[49m\u001b[43mis_fitted_icon\u001b[49m\u001b[38;5;241;43m=\u001b[39;49m\u001b[43mis_fitted_icon\u001b[49m\u001b[43m,\u001b[49m\n\u001b[1;32m    488\u001b[0m \u001b[43m\u001b[49m\u001b[43m)\u001b[49m\n\u001b[1;32m    489\u001b[0m \u001b[38;5;28;01mwith\u001b[39;00m \u001b[38;5;28mopen\u001b[39m(\u001b[38;5;28mstr\u001b[39m(Path(\u001b[38;5;18m__file__\u001b[39m)\u001b[38;5;241m.\u001b[39mparent \u001b[38;5;241m/\u001b[39m \u001b[38;5;124m\"\u001b[39m\u001b[38;5;124mestimator.js\u001b[39m\u001b[38;5;124m\"\u001b[39m), \u001b[38;5;124m\"\u001b[39m\u001b[38;5;124mr\u001b[39m\u001b[38;5;124m\"\u001b[39m) \u001b[38;5;28;01mas\u001b[39;00m f:\n\u001b[1;32m    490\u001b[0m     script \u001b[38;5;241m=\u001b[39m f\u001b[38;5;241m.\u001b[39mread()\n",
      "File \u001b[0;32m/opt/conda/lib/python3.11/site-packages/sklearn/utils/_repr_html/estimator.py:361\u001b[0m, in \u001b[0;36m_write_estimator_html\u001b[0;34m(out, estimator, estimator_label, estimator_label_details, is_fitted_css_class, is_fitted_icon, first_call, param_prefix)\u001b[0m\n\u001b[1;32m    358\u001b[0m     new_prefix \u001b[38;5;241m=\u001b[39m param_prefix\n\u001b[1;32m    360\u001b[0m \u001b[38;5;28;01mif\u001b[39;00m kind \u001b[38;5;241m==\u001b[39m \u001b[38;5;124m\"\u001b[39m\u001b[38;5;124mserial\u001b[39m\u001b[38;5;124m\"\u001b[39m:\n\u001b[0;32m--> 361\u001b[0m     \u001b[43m_write_estimator_html\u001b[49m\u001b[43m(\u001b[49m\n\u001b[1;32m    362\u001b[0m \u001b[43m        \u001b[49m\u001b[43mout\u001b[49m\u001b[43m,\u001b[49m\n\u001b[1;32m    363\u001b[0m \u001b[43m        \u001b[49m\u001b[43mest\u001b[49m\u001b[43m,\u001b[49m\n\u001b[1;32m    364\u001b[0m \u001b[43m        \u001b[49m\u001b[43mname\u001b[49m\u001b[43m,\u001b[49m\n\u001b[1;32m    365\u001b[0m \u001b[43m        \u001b[49m\u001b[43mname_details\u001b[49m\u001b[43m,\u001b[49m\n\u001b[1;32m    366\u001b[0m \u001b[43m        \u001b[49m\u001b[43mis_fitted_css_class\u001b[49m\u001b[38;5;241;43m=\u001b[39;49m\u001b[43mis_fitted_css_class\u001b[49m\u001b[43m,\u001b[49m\n\u001b[1;32m    367\u001b[0m \u001b[43m        \u001b[49m\u001b[43mparam_prefix\u001b[49m\u001b[38;5;241;43m=\u001b[39;49m\u001b[43mnew_prefix\u001b[49m\u001b[43m,\u001b[49m\n\u001b[1;32m    368\u001b[0m \u001b[43m    \u001b[49m\u001b[43m)\u001b[49m\n\u001b[1;32m    369\u001b[0m \u001b[38;5;28;01melse\u001b[39;00m:  \u001b[38;5;66;03m# parallel\u001b[39;00m\n\u001b[1;32m    370\u001b[0m     out\u001b[38;5;241m.\u001b[39mwrite(\u001b[38;5;124m'\u001b[39m\u001b[38;5;124m<div class=\u001b[39m\u001b[38;5;124m\"\u001b[39m\u001b[38;5;124msk-parallel-item\u001b[39m\u001b[38;5;124m\"\u001b[39m\u001b[38;5;124m>\u001b[39m\u001b[38;5;124m'\u001b[39m)\n",
      "File \u001b[0;32m/opt/conda/lib/python3.11/site-packages/sklearn/utils/_repr_html/estimator.py:373\u001b[0m, in \u001b[0;36m_write_estimator_html\u001b[0;34m(out, estimator, estimator_label, estimator_label_details, is_fitted_css_class, is_fitted_icon, first_call, param_prefix)\u001b[0m\n\u001b[1;32m    371\u001b[0m         \u001b[38;5;66;03m# wrap element in a serial visualblock\u001b[39;00m\n\u001b[1;32m    372\u001b[0m         serial_block \u001b[38;5;241m=\u001b[39m _VisualBlock(\u001b[38;5;124m\"\u001b[39m\u001b[38;5;124mserial\u001b[39m\u001b[38;5;124m\"\u001b[39m, [est], dash_wrapped\u001b[38;5;241m=\u001b[39m\u001b[38;5;28;01mFalse\u001b[39;00m)\n\u001b[0;32m--> 373\u001b[0m         \u001b[43m_write_estimator_html\u001b[49m\u001b[43m(\u001b[49m\n\u001b[1;32m    374\u001b[0m \u001b[43m            \u001b[49m\u001b[43mout\u001b[49m\u001b[43m,\u001b[49m\n\u001b[1;32m    375\u001b[0m \u001b[43m            \u001b[49m\u001b[43mserial_block\u001b[49m\u001b[43m,\u001b[49m\n\u001b[1;32m    376\u001b[0m \u001b[43m            \u001b[49m\u001b[43mname\u001b[49m\u001b[43m,\u001b[49m\n\u001b[1;32m    377\u001b[0m \u001b[43m            \u001b[49m\u001b[43mname_details\u001b[49m\u001b[43m,\u001b[49m\n\u001b[1;32m    378\u001b[0m \u001b[43m            \u001b[49m\u001b[43mis_fitted_css_class\u001b[49m\u001b[38;5;241;43m=\u001b[39;49m\u001b[43mis_fitted_css_class\u001b[49m\u001b[43m,\u001b[49m\n\u001b[1;32m    379\u001b[0m \u001b[43m            \u001b[49m\u001b[43mparam_prefix\u001b[49m\u001b[38;5;241;43m=\u001b[39;49m\u001b[43mnew_prefix\u001b[49m\u001b[43m,\u001b[49m\n\u001b[1;32m    380\u001b[0m \u001b[43m        \u001b[49m\u001b[43m)\u001b[49m\n\u001b[1;32m    381\u001b[0m         out\u001b[38;5;241m.\u001b[39mwrite(\u001b[38;5;124m\"\u001b[39m\u001b[38;5;124m</div>\u001b[39m\u001b[38;5;124m\"\u001b[39m)  \u001b[38;5;66;03m# sk-parallel-item\u001b[39;00m\n\u001b[1;32m    383\u001b[0m out\u001b[38;5;241m.\u001b[39mwrite(\u001b[38;5;124m\"\u001b[39m\u001b[38;5;124m</div></div>\u001b[39m\u001b[38;5;124m\"\u001b[39m)\n",
      "File \u001b[0;32m/opt/conda/lib/python3.11/site-packages/sklearn/utils/_repr_html/estimator.py:361\u001b[0m, in \u001b[0;36m_write_estimator_html\u001b[0;34m(out, estimator, estimator_label, estimator_label_details, is_fitted_css_class, is_fitted_icon, first_call, param_prefix)\u001b[0m\n\u001b[1;32m    358\u001b[0m     new_prefix \u001b[38;5;241m=\u001b[39m param_prefix\n\u001b[1;32m    360\u001b[0m \u001b[38;5;28;01mif\u001b[39;00m kind \u001b[38;5;241m==\u001b[39m \u001b[38;5;124m\"\u001b[39m\u001b[38;5;124mserial\u001b[39m\u001b[38;5;124m\"\u001b[39m:\n\u001b[0;32m--> 361\u001b[0m     \u001b[43m_write_estimator_html\u001b[49m\u001b[43m(\u001b[49m\n\u001b[1;32m    362\u001b[0m \u001b[43m        \u001b[49m\u001b[43mout\u001b[49m\u001b[43m,\u001b[49m\n\u001b[1;32m    363\u001b[0m \u001b[43m        \u001b[49m\u001b[43mest\u001b[49m\u001b[43m,\u001b[49m\n\u001b[1;32m    364\u001b[0m \u001b[43m        \u001b[49m\u001b[43mname\u001b[49m\u001b[43m,\u001b[49m\n\u001b[1;32m    365\u001b[0m \u001b[43m        \u001b[49m\u001b[43mname_details\u001b[49m\u001b[43m,\u001b[49m\n\u001b[1;32m    366\u001b[0m \u001b[43m        \u001b[49m\u001b[43mis_fitted_css_class\u001b[49m\u001b[38;5;241;43m=\u001b[39;49m\u001b[43mis_fitted_css_class\u001b[49m\u001b[43m,\u001b[49m\n\u001b[1;32m    367\u001b[0m \u001b[43m        \u001b[49m\u001b[43mparam_prefix\u001b[49m\u001b[38;5;241;43m=\u001b[39;49m\u001b[43mnew_prefix\u001b[49m\u001b[43m,\u001b[49m\n\u001b[1;32m    368\u001b[0m \u001b[43m    \u001b[49m\u001b[43m)\u001b[49m\n\u001b[1;32m    369\u001b[0m \u001b[38;5;28;01melse\u001b[39;00m:  \u001b[38;5;66;03m# parallel\u001b[39;00m\n\u001b[1;32m    370\u001b[0m     out\u001b[38;5;241m.\u001b[39mwrite(\u001b[38;5;124m'\u001b[39m\u001b[38;5;124m<div class=\u001b[39m\u001b[38;5;124m\"\u001b[39m\u001b[38;5;124msk-parallel-item\u001b[39m\u001b[38;5;124m\"\u001b[39m\u001b[38;5;124m>\u001b[39m\u001b[38;5;124m'\u001b[39m)\n",
      "File \u001b[0;32m/opt/conda/lib/python3.11/site-packages/sklearn/utils/_repr_html/estimator.py:317\u001b[0m, in \u001b[0;36m_write_estimator_html\u001b[0;34m(out, estimator, estimator_label, estimator_label_details, is_fitted_css_class, is_fitted_icon, first_call, param_prefix)\u001b[0m\n\u001b[1;32m    315\u001b[0m \u001b[38;5;66;03m# `estimator` can also be an instance of `_VisualBlock`\u001b[39;00m\n\u001b[1;32m    316\u001b[0m \u001b[38;5;28;01mif\u001b[39;00m \u001b[38;5;28mhasattr\u001b[39m(estimator, \u001b[38;5;124m\"\u001b[39m\u001b[38;5;124m_get_doc_link\u001b[39m\u001b[38;5;124m\"\u001b[39m):\n\u001b[0;32m--> 317\u001b[0m     doc_link \u001b[38;5;241m=\u001b[39m \u001b[43mestimator\u001b[49m\u001b[38;5;241;43m.\u001b[39;49m\u001b[43m_get_doc_link\u001b[49m\u001b[43m(\u001b[49m\u001b[43m)\u001b[49m\n\u001b[1;32m    318\u001b[0m \u001b[38;5;28;01melse\u001b[39;00m:\n\u001b[1;32m    319\u001b[0m     doc_link \u001b[38;5;241m=\u001b[39m \u001b[38;5;124m\"\u001b[39m\u001b[38;5;124m\"\u001b[39m\n",
      "\u001b[0;31mTypeError\u001b[0m: _HTMLDocumentationLinkMixin._get_doc_link() missing 1 required positional argument: 'self'"
     ]
    },
    {
     "ename": "TypeError",
     "evalue": "_HTMLDocumentationLinkMixin._get_doc_link() missing 1 required positional argument: 'self'",
     "output_type": "error",
     "traceback": [
      "\u001b[0;31m---------------------------------------------------------------------------\u001b[0m",
      "\u001b[0;31mTypeError\u001b[0m                                 Traceback (most recent call last)",
      "File \u001b[0;32m/opt/conda/lib/python3.11/site-packages/IPython/core/formatters.py:406\u001b[0m, in \u001b[0;36mBaseFormatter.__call__\u001b[0;34m(self, obj)\u001b[0m\n\u001b[1;32m    404\u001b[0m     method \u001b[38;5;241m=\u001b[39m get_real_method(obj, \u001b[38;5;28mself\u001b[39m\u001b[38;5;241m.\u001b[39mprint_method)\n\u001b[1;32m    405\u001b[0m     \u001b[38;5;28;01mif\u001b[39;00m method \u001b[38;5;129;01mis\u001b[39;00m \u001b[38;5;129;01mnot\u001b[39;00m \u001b[38;5;28;01mNone\u001b[39;00m:\n\u001b[0;32m--> 406\u001b[0m         \u001b[38;5;28;01mreturn\u001b[39;00m \u001b[43mmethod\u001b[49m\u001b[43m(\u001b[49m\u001b[43m)\u001b[49m\n\u001b[1;32m    407\u001b[0m     \u001b[38;5;28;01mreturn\u001b[39;00m \u001b[38;5;28;01mNone\u001b[39;00m\n\u001b[1;32m    408\u001b[0m \u001b[38;5;28;01melse\u001b[39;00m:\n",
      "File \u001b[0;32m/opt/conda/lib/python3.11/site-packages/sklearn/utils/_repr_html/base.py:145\u001b[0m, in \u001b[0;36mReprHTMLMixin._repr_html_inner\u001b[0;34m(self)\u001b[0m\n\u001b[1;32m    140\u001b[0m \u001b[38;5;28;01mdef\u001b[39;00m\u001b[38;5;250m \u001b[39m\u001b[38;5;21m_repr_html_inner\u001b[39m(\u001b[38;5;28mself\u001b[39m):\n\u001b[1;32m    141\u001b[0m \u001b[38;5;250m    \u001b[39m\u001b[38;5;124;03m\"\"\"This function is returned by the @property `_repr_html_` to make\u001b[39;00m\n\u001b[1;32m    142\u001b[0m \u001b[38;5;124;03m    `hasattr(estimator, \"_repr_html_\") return `True` or `False` depending\u001b[39;00m\n\u001b[1;32m    143\u001b[0m \u001b[38;5;124;03m    on `get_config()[\"display\"]`.\u001b[39;00m\n\u001b[1;32m    144\u001b[0m \u001b[38;5;124;03m    \"\"\"\u001b[39;00m\n\u001b[0;32m--> 145\u001b[0m     \u001b[38;5;28;01mreturn\u001b[39;00m \u001b[38;5;28;43mself\u001b[39;49m\u001b[38;5;241;43m.\u001b[39;49m\u001b[43m_html_repr\u001b[49m\u001b[43m(\u001b[49m\u001b[43m)\u001b[49m\n",
      "File \u001b[0;32m/opt/conda/lib/python3.11/site-packages/sklearn/utils/_repr_html/estimator.py:480\u001b[0m, in \u001b[0;36mestimator_html_repr\u001b[0;34m(estimator)\u001b[0m\n\u001b[1;32m    469\u001b[0m html_template \u001b[38;5;241m=\u001b[39m (\n\u001b[1;32m    470\u001b[0m     \u001b[38;5;124mf\u001b[39m\u001b[38;5;124m\"\u001b[39m\u001b[38;5;124m<style>\u001b[39m\u001b[38;5;132;01m{\u001b[39;00mstyle_with_id\u001b[38;5;132;01m}\u001b[39;00m\u001b[38;5;124m</style>\u001b[39m\u001b[38;5;124m\"\u001b[39m\n\u001b[1;32m    471\u001b[0m     \u001b[38;5;124mf\u001b[39m\u001b[38;5;124m\"\u001b[39m\u001b[38;5;124m<body>\u001b[39m\u001b[38;5;124m\"\u001b[39m\n\u001b[0;32m   (...)\u001b[0m\n\u001b[1;32m    476\u001b[0m     \u001b[38;5;124m'\u001b[39m\u001b[38;5;124m<div class=\u001b[39m\u001b[38;5;124m\"\u001b[39m\u001b[38;5;124msk-container\u001b[39m\u001b[38;5;124m\"\u001b[39m\u001b[38;5;124m hidden>\u001b[39m\u001b[38;5;124m'\u001b[39m\n\u001b[1;32m    477\u001b[0m )\n\u001b[1;32m    479\u001b[0m out\u001b[38;5;241m.\u001b[39mwrite(html_template)\n\u001b[0;32m--> 480\u001b[0m \u001b[43m_write_estimator_html\u001b[49m\u001b[43m(\u001b[49m\n\u001b[1;32m    481\u001b[0m \u001b[43m    \u001b[49m\u001b[43mout\u001b[49m\u001b[43m,\u001b[49m\n\u001b[1;32m    482\u001b[0m \u001b[43m    \u001b[49m\u001b[43mestimator\u001b[49m\u001b[43m,\u001b[49m\n\u001b[1;32m    483\u001b[0m \u001b[43m    \u001b[49m\u001b[43mestimator\u001b[49m\u001b[38;5;241;43m.\u001b[39;49m\u001b[38;5;18;43m__class__\u001b[39;49m\u001b[38;5;241;43m.\u001b[39;49m\u001b[38;5;18;43m__name__\u001b[39;49m\u001b[43m,\u001b[49m\n\u001b[1;32m    484\u001b[0m \u001b[43m    \u001b[49m\u001b[43mestimator_str\u001b[49m\u001b[43m,\u001b[49m\n\u001b[1;32m    485\u001b[0m \u001b[43m    \u001b[49m\u001b[43mfirst_call\u001b[49m\u001b[38;5;241;43m=\u001b[39;49m\u001b[38;5;28;43;01mTrue\u001b[39;49;00m\u001b[43m,\u001b[49m\n\u001b[1;32m    486\u001b[0m \u001b[43m    \u001b[49m\u001b[43mis_fitted_css_class\u001b[49m\u001b[38;5;241;43m=\u001b[39;49m\u001b[43mis_fitted_css_class\u001b[49m\u001b[43m,\u001b[49m\n\u001b[1;32m    487\u001b[0m \u001b[43m    \u001b[49m\u001b[43mis_fitted_icon\u001b[49m\u001b[38;5;241;43m=\u001b[39;49m\u001b[43mis_fitted_icon\u001b[49m\u001b[43m,\u001b[49m\n\u001b[1;32m    488\u001b[0m \u001b[43m\u001b[49m\u001b[43m)\u001b[49m\n\u001b[1;32m    489\u001b[0m \u001b[38;5;28;01mwith\u001b[39;00m \u001b[38;5;28mopen\u001b[39m(\u001b[38;5;28mstr\u001b[39m(Path(\u001b[38;5;18m__file__\u001b[39m)\u001b[38;5;241m.\u001b[39mparent \u001b[38;5;241m/\u001b[39m \u001b[38;5;124m\"\u001b[39m\u001b[38;5;124mestimator.js\u001b[39m\u001b[38;5;124m\"\u001b[39m), \u001b[38;5;124m\"\u001b[39m\u001b[38;5;124mr\u001b[39m\u001b[38;5;124m\"\u001b[39m) \u001b[38;5;28;01mas\u001b[39;00m f:\n\u001b[1;32m    490\u001b[0m     script \u001b[38;5;241m=\u001b[39m f\u001b[38;5;241m.\u001b[39mread()\n",
      "File \u001b[0;32m/opt/conda/lib/python3.11/site-packages/sklearn/utils/_repr_html/estimator.py:361\u001b[0m, in \u001b[0;36m_write_estimator_html\u001b[0;34m(out, estimator, estimator_label, estimator_label_details, is_fitted_css_class, is_fitted_icon, first_call, param_prefix)\u001b[0m\n\u001b[1;32m    358\u001b[0m     new_prefix \u001b[38;5;241m=\u001b[39m param_prefix\n\u001b[1;32m    360\u001b[0m \u001b[38;5;28;01mif\u001b[39;00m kind \u001b[38;5;241m==\u001b[39m \u001b[38;5;124m\"\u001b[39m\u001b[38;5;124mserial\u001b[39m\u001b[38;5;124m\"\u001b[39m:\n\u001b[0;32m--> 361\u001b[0m     \u001b[43m_write_estimator_html\u001b[49m\u001b[43m(\u001b[49m\n\u001b[1;32m    362\u001b[0m \u001b[43m        \u001b[49m\u001b[43mout\u001b[49m\u001b[43m,\u001b[49m\n\u001b[1;32m    363\u001b[0m \u001b[43m        \u001b[49m\u001b[43mest\u001b[49m\u001b[43m,\u001b[49m\n\u001b[1;32m    364\u001b[0m \u001b[43m        \u001b[49m\u001b[43mname\u001b[49m\u001b[43m,\u001b[49m\n\u001b[1;32m    365\u001b[0m \u001b[43m        \u001b[49m\u001b[43mname_details\u001b[49m\u001b[43m,\u001b[49m\n\u001b[1;32m    366\u001b[0m \u001b[43m        \u001b[49m\u001b[43mis_fitted_css_class\u001b[49m\u001b[38;5;241;43m=\u001b[39;49m\u001b[43mis_fitted_css_class\u001b[49m\u001b[43m,\u001b[49m\n\u001b[1;32m    367\u001b[0m \u001b[43m        \u001b[49m\u001b[43mparam_prefix\u001b[49m\u001b[38;5;241;43m=\u001b[39;49m\u001b[43mnew_prefix\u001b[49m\u001b[43m,\u001b[49m\n\u001b[1;32m    368\u001b[0m \u001b[43m    \u001b[49m\u001b[43m)\u001b[49m\n\u001b[1;32m    369\u001b[0m \u001b[38;5;28;01melse\u001b[39;00m:  \u001b[38;5;66;03m# parallel\u001b[39;00m\n\u001b[1;32m    370\u001b[0m     out\u001b[38;5;241m.\u001b[39mwrite(\u001b[38;5;124m'\u001b[39m\u001b[38;5;124m<div class=\u001b[39m\u001b[38;5;124m\"\u001b[39m\u001b[38;5;124msk-parallel-item\u001b[39m\u001b[38;5;124m\"\u001b[39m\u001b[38;5;124m>\u001b[39m\u001b[38;5;124m'\u001b[39m)\n",
      "File \u001b[0;32m/opt/conda/lib/python3.11/site-packages/sklearn/utils/_repr_html/estimator.py:373\u001b[0m, in \u001b[0;36m_write_estimator_html\u001b[0;34m(out, estimator, estimator_label, estimator_label_details, is_fitted_css_class, is_fitted_icon, first_call, param_prefix)\u001b[0m\n\u001b[1;32m    371\u001b[0m         \u001b[38;5;66;03m# wrap element in a serial visualblock\u001b[39;00m\n\u001b[1;32m    372\u001b[0m         serial_block \u001b[38;5;241m=\u001b[39m _VisualBlock(\u001b[38;5;124m\"\u001b[39m\u001b[38;5;124mserial\u001b[39m\u001b[38;5;124m\"\u001b[39m, [est], dash_wrapped\u001b[38;5;241m=\u001b[39m\u001b[38;5;28;01mFalse\u001b[39;00m)\n\u001b[0;32m--> 373\u001b[0m         \u001b[43m_write_estimator_html\u001b[49m\u001b[43m(\u001b[49m\n\u001b[1;32m    374\u001b[0m \u001b[43m            \u001b[49m\u001b[43mout\u001b[49m\u001b[43m,\u001b[49m\n\u001b[1;32m    375\u001b[0m \u001b[43m            \u001b[49m\u001b[43mserial_block\u001b[49m\u001b[43m,\u001b[49m\n\u001b[1;32m    376\u001b[0m \u001b[43m            \u001b[49m\u001b[43mname\u001b[49m\u001b[43m,\u001b[49m\n\u001b[1;32m    377\u001b[0m \u001b[43m            \u001b[49m\u001b[43mname_details\u001b[49m\u001b[43m,\u001b[49m\n\u001b[1;32m    378\u001b[0m \u001b[43m            \u001b[49m\u001b[43mis_fitted_css_class\u001b[49m\u001b[38;5;241;43m=\u001b[39;49m\u001b[43mis_fitted_css_class\u001b[49m\u001b[43m,\u001b[49m\n\u001b[1;32m    379\u001b[0m \u001b[43m            \u001b[49m\u001b[43mparam_prefix\u001b[49m\u001b[38;5;241;43m=\u001b[39;49m\u001b[43mnew_prefix\u001b[49m\u001b[43m,\u001b[49m\n\u001b[1;32m    380\u001b[0m \u001b[43m        \u001b[49m\u001b[43m)\u001b[49m\n\u001b[1;32m    381\u001b[0m         out\u001b[38;5;241m.\u001b[39mwrite(\u001b[38;5;124m\"\u001b[39m\u001b[38;5;124m</div>\u001b[39m\u001b[38;5;124m\"\u001b[39m)  \u001b[38;5;66;03m# sk-parallel-item\u001b[39;00m\n\u001b[1;32m    383\u001b[0m out\u001b[38;5;241m.\u001b[39mwrite(\u001b[38;5;124m\"\u001b[39m\u001b[38;5;124m</div></div>\u001b[39m\u001b[38;5;124m\"\u001b[39m)\n",
      "File \u001b[0;32m/opt/conda/lib/python3.11/site-packages/sklearn/utils/_repr_html/estimator.py:361\u001b[0m, in \u001b[0;36m_write_estimator_html\u001b[0;34m(out, estimator, estimator_label, estimator_label_details, is_fitted_css_class, is_fitted_icon, first_call, param_prefix)\u001b[0m\n\u001b[1;32m    358\u001b[0m     new_prefix \u001b[38;5;241m=\u001b[39m param_prefix\n\u001b[1;32m    360\u001b[0m \u001b[38;5;28;01mif\u001b[39;00m kind \u001b[38;5;241m==\u001b[39m \u001b[38;5;124m\"\u001b[39m\u001b[38;5;124mserial\u001b[39m\u001b[38;5;124m\"\u001b[39m:\n\u001b[0;32m--> 361\u001b[0m     \u001b[43m_write_estimator_html\u001b[49m\u001b[43m(\u001b[49m\n\u001b[1;32m    362\u001b[0m \u001b[43m        \u001b[49m\u001b[43mout\u001b[49m\u001b[43m,\u001b[49m\n\u001b[1;32m    363\u001b[0m \u001b[43m        \u001b[49m\u001b[43mest\u001b[49m\u001b[43m,\u001b[49m\n\u001b[1;32m    364\u001b[0m \u001b[43m        \u001b[49m\u001b[43mname\u001b[49m\u001b[43m,\u001b[49m\n\u001b[1;32m    365\u001b[0m \u001b[43m        \u001b[49m\u001b[43mname_details\u001b[49m\u001b[43m,\u001b[49m\n\u001b[1;32m    366\u001b[0m \u001b[43m        \u001b[49m\u001b[43mis_fitted_css_class\u001b[49m\u001b[38;5;241;43m=\u001b[39;49m\u001b[43mis_fitted_css_class\u001b[49m\u001b[43m,\u001b[49m\n\u001b[1;32m    367\u001b[0m \u001b[43m        \u001b[49m\u001b[43mparam_prefix\u001b[49m\u001b[38;5;241;43m=\u001b[39;49m\u001b[43mnew_prefix\u001b[49m\u001b[43m,\u001b[49m\n\u001b[1;32m    368\u001b[0m \u001b[43m    \u001b[49m\u001b[43m)\u001b[49m\n\u001b[1;32m    369\u001b[0m \u001b[38;5;28;01melse\u001b[39;00m:  \u001b[38;5;66;03m# parallel\u001b[39;00m\n\u001b[1;32m    370\u001b[0m     out\u001b[38;5;241m.\u001b[39mwrite(\u001b[38;5;124m'\u001b[39m\u001b[38;5;124m<div class=\u001b[39m\u001b[38;5;124m\"\u001b[39m\u001b[38;5;124msk-parallel-item\u001b[39m\u001b[38;5;124m\"\u001b[39m\u001b[38;5;124m>\u001b[39m\u001b[38;5;124m'\u001b[39m)\n",
      "File \u001b[0;32m/opt/conda/lib/python3.11/site-packages/sklearn/utils/_repr_html/estimator.py:317\u001b[0m, in \u001b[0;36m_write_estimator_html\u001b[0;34m(out, estimator, estimator_label, estimator_label_details, is_fitted_css_class, is_fitted_icon, first_call, param_prefix)\u001b[0m\n\u001b[1;32m    315\u001b[0m \u001b[38;5;66;03m# `estimator` can also be an instance of `_VisualBlock`\u001b[39;00m\n\u001b[1;32m    316\u001b[0m \u001b[38;5;28;01mif\u001b[39;00m \u001b[38;5;28mhasattr\u001b[39m(estimator, \u001b[38;5;124m\"\u001b[39m\u001b[38;5;124m_get_doc_link\u001b[39m\u001b[38;5;124m\"\u001b[39m):\n\u001b[0;32m--> 317\u001b[0m     doc_link \u001b[38;5;241m=\u001b[39m \u001b[43mestimator\u001b[49m\u001b[38;5;241;43m.\u001b[39;49m\u001b[43m_get_doc_link\u001b[49m\u001b[43m(\u001b[49m\u001b[43m)\u001b[49m\n\u001b[1;32m    318\u001b[0m \u001b[38;5;28;01melse\u001b[39;00m:\n\u001b[1;32m    319\u001b[0m     doc_link \u001b[38;5;241m=\u001b[39m \u001b[38;5;124m\"\u001b[39m\u001b[38;5;124m\"\u001b[39m\n",
      "\u001b[0;31mTypeError\u001b[0m: _HTMLDocumentationLinkMixin._get_doc_link() missing 1 required positional argument: 'self'"
     ]
    },
    {
     "data": {
      "text/plain": [
       "Pipeline(steps=[('preprocessing',\n",
       "                 ColumnTransformer(transformers=[('numeric',\n",
       "                                                  <class 'sklearn.preprocessing._data.StandardScaler'>,\n",
       "                                                  ['total_upt', 'total_vrh',\n",
       "                                                   'total_vrm', 'opexp_total',\n",
       "                                                   'total_voms']),\n",
       "                                                 ('categorical',\n",
       "                                                  OneHotEncoder(drop='first',\n",
       "                                                                sparse_output=False),\n",
       "                                                  ['mode', 'service',\n",
       "                                                   'reporter_type'])])),\n",
       "                ('clustering', AgglomerativeClustering(n_clusters=10))])"
      ]
     },
     "execution_count": 141,
     "metadata": {},
     "output_type": "execute_result"
    }
   ],
   "source": [
    "# 2. set up pipeline. First pre-processing, then clustering\n",
    "pipeline = Pipeline(\n",
    "    [\n",
    "        (\"preprocessing\", preprocessor),\n",
    "        (\"clustering\", AgglomerativeClustering(n_clusters=10, linkage=\"ward\"))\n",
    "    ]\n",
    ")\n",
    "\n",
    "pipeline"
   ]
  },
  {
   "cell_type": "code",
   "execution_count": 138,
   "id": "df499a84-821c-4893-a9e6-b06750f3ecda",
   "metadata": {
    "tags": []
   },
   "outputs": [
    {
     "ename": "TypeError",
     "evalue": "Cannot clone object. You should provide an instance of scikit-learn estimator instead of a class.",
     "output_type": "error",
     "traceback": [
      "\u001b[0;31m---------------------------------------------------------------------------\u001b[0m",
      "\u001b[0;31mTypeError\u001b[0m                                 Traceback (most recent call last)",
      "Cell \u001b[0;32mIn[138], line 4\u001b[0m\n\u001b[1;32m      1\u001b[0m \u001b[38;5;66;03m# 3. use pipeline to fit clustering model. create new column for clustering\u001b[39;00m\n\u001b[1;32m      2\u001b[0m ntd_2023_fit \u001b[38;5;241m=\u001b[39m ntd_2023_data\u001b[38;5;241m.\u001b[39mcopy() \u001b[38;5;66;03m# why do i need to copy/clone?\u001b[39;00m\n\u001b[0;32m----> 4\u001b[0m ntd_2023_fit[\u001b[38;5;124m\"\u001b[39m\u001b[38;5;124mcluster_name\u001b[39m\u001b[38;5;124m\"\u001b[39m] \u001b[38;5;241m=\u001b[39m \u001b[43mpipeline\u001b[49m\u001b[38;5;241;43m.\u001b[39;49m\u001b[43mfit_predict\u001b[49m\u001b[43m(\u001b[49m\u001b[43mntd_2023_fit\u001b[49m\u001b[43m)\u001b[49m\n",
      "File \u001b[0;32m/opt/conda/lib/python3.11/site-packages/sklearn/base.py:1365\u001b[0m, in \u001b[0;36m_fit_context.<locals>.decorator.<locals>.wrapper\u001b[0;34m(estimator, *args, **kwargs)\u001b[0m\n\u001b[1;32m   1358\u001b[0m     estimator\u001b[38;5;241m.\u001b[39m_validate_params()\n\u001b[1;32m   1360\u001b[0m \u001b[38;5;28;01mwith\u001b[39;00m config_context(\n\u001b[1;32m   1361\u001b[0m     skip_parameter_validation\u001b[38;5;241m=\u001b[39m(\n\u001b[1;32m   1362\u001b[0m         prefer_skip_nested_validation \u001b[38;5;129;01mor\u001b[39;00m global_skip_validation\n\u001b[1;32m   1363\u001b[0m     )\n\u001b[1;32m   1364\u001b[0m ):\n\u001b[0;32m-> 1365\u001b[0m     \u001b[38;5;28;01mreturn\u001b[39;00m \u001b[43mfit_method\u001b[49m\u001b[43m(\u001b[49m\u001b[43mestimator\u001b[49m\u001b[43m,\u001b[49m\u001b[43m \u001b[49m\u001b[38;5;241;43m*\u001b[39;49m\u001b[43margs\u001b[49m\u001b[43m,\u001b[49m\u001b[43m \u001b[49m\u001b[38;5;241;43m*\u001b[39;49m\u001b[38;5;241;43m*\u001b[39;49m\u001b[43mkwargs\u001b[49m\u001b[43m)\u001b[49m\n",
      "File \u001b[0;32m/opt/conda/lib/python3.11/site-packages/sklearn/pipeline.py:851\u001b[0m, in \u001b[0;36mPipeline.fit_predict\u001b[0;34m(self, X, y, **params)\u001b[0m\n\u001b[1;32m    805\u001b[0m \u001b[38;5;250m\u001b[39m\u001b[38;5;124;03m\"\"\"Transform the data, and apply `fit_predict` with the final estimator.\u001b[39;00m\n\u001b[1;32m    806\u001b[0m \n\u001b[1;32m    807\u001b[0m \u001b[38;5;124;03mCall `fit_transform` of each transformer in the pipeline. The\u001b[39;00m\n\u001b[0;32m   (...)\u001b[0m\n\u001b[1;32m    848\u001b[0m \u001b[38;5;124;03m    Result of calling `fit_predict` on the final estimator.\u001b[39;00m\n\u001b[1;32m    849\u001b[0m \u001b[38;5;124;03m\"\"\"\u001b[39;00m\n\u001b[1;32m    850\u001b[0m routed_params \u001b[38;5;241m=\u001b[39m \u001b[38;5;28mself\u001b[39m\u001b[38;5;241m.\u001b[39m_check_method_params(method\u001b[38;5;241m=\u001b[39m\u001b[38;5;124m\"\u001b[39m\u001b[38;5;124mfit_predict\u001b[39m\u001b[38;5;124m\"\u001b[39m, props\u001b[38;5;241m=\u001b[39mparams)\n\u001b[0;32m--> 851\u001b[0m Xt \u001b[38;5;241m=\u001b[39m \u001b[38;5;28;43mself\u001b[39;49m\u001b[38;5;241;43m.\u001b[39;49m\u001b[43m_fit\u001b[49m\u001b[43m(\u001b[49m\u001b[43mX\u001b[49m\u001b[43m,\u001b[49m\u001b[43m \u001b[49m\u001b[43my\u001b[49m\u001b[43m,\u001b[49m\u001b[43m \u001b[49m\u001b[43mrouted_params\u001b[49m\u001b[43m)\u001b[49m\n\u001b[1;32m    853\u001b[0m params_last_step \u001b[38;5;241m=\u001b[39m routed_params[\u001b[38;5;28mself\u001b[39m\u001b[38;5;241m.\u001b[39msteps[\u001b[38;5;241m-\u001b[39m\u001b[38;5;241m1\u001b[39m][\u001b[38;5;241m0\u001b[39m]]\n\u001b[1;32m    854\u001b[0m \u001b[38;5;28;01mwith\u001b[39;00m _print_elapsed_time(\u001b[38;5;124m\"\u001b[39m\u001b[38;5;124mPipeline\u001b[39m\u001b[38;5;124m\"\u001b[39m, \u001b[38;5;28mself\u001b[39m\u001b[38;5;241m.\u001b[39m_log_message(\u001b[38;5;28mlen\u001b[39m(\u001b[38;5;28mself\u001b[39m\u001b[38;5;241m.\u001b[39msteps) \u001b[38;5;241m-\u001b[39m \u001b[38;5;241m1\u001b[39m)):\n",
      "File \u001b[0;32m/opt/conda/lib/python3.11/site-packages/sklearn/pipeline.py:589\u001b[0m, in \u001b[0;36mPipeline._fit\u001b[0;34m(self, X, y, routed_params, raw_params)\u001b[0m\n\u001b[1;32m    582\u001b[0m \u001b[38;5;66;03m# Fit or load from cache the current transformer\u001b[39;00m\n\u001b[1;32m    583\u001b[0m step_params \u001b[38;5;241m=\u001b[39m \u001b[38;5;28mself\u001b[39m\u001b[38;5;241m.\u001b[39m_get_metadata_for_step(\n\u001b[1;32m    584\u001b[0m     step_idx\u001b[38;5;241m=\u001b[39mstep_idx,\n\u001b[1;32m    585\u001b[0m     step_params\u001b[38;5;241m=\u001b[39mrouted_params[name],\n\u001b[1;32m    586\u001b[0m     all_params\u001b[38;5;241m=\u001b[39mraw_params,\n\u001b[1;32m    587\u001b[0m )\n\u001b[0;32m--> 589\u001b[0m X, fitted_transformer \u001b[38;5;241m=\u001b[39m \u001b[43mfit_transform_one_cached\u001b[49m\u001b[43m(\u001b[49m\n\u001b[1;32m    590\u001b[0m \u001b[43m    \u001b[49m\u001b[43mcloned_transformer\u001b[49m\u001b[43m,\u001b[49m\n\u001b[1;32m    591\u001b[0m \u001b[43m    \u001b[49m\u001b[43mX\u001b[49m\u001b[43m,\u001b[49m\n\u001b[1;32m    592\u001b[0m \u001b[43m    \u001b[49m\u001b[43my\u001b[49m\u001b[43m,\u001b[49m\n\u001b[1;32m    593\u001b[0m \u001b[43m    \u001b[49m\u001b[43mweight\u001b[49m\u001b[38;5;241;43m=\u001b[39;49m\u001b[38;5;28;43;01mNone\u001b[39;49;00m\u001b[43m,\u001b[49m\n\u001b[1;32m    594\u001b[0m \u001b[43m    \u001b[49m\u001b[43mmessage_clsname\u001b[49m\u001b[38;5;241;43m=\u001b[39;49m\u001b[38;5;124;43m\"\u001b[39;49m\u001b[38;5;124;43mPipeline\u001b[39;49m\u001b[38;5;124;43m\"\u001b[39;49m\u001b[43m,\u001b[49m\n\u001b[1;32m    595\u001b[0m \u001b[43m    \u001b[49m\u001b[43mmessage\u001b[49m\u001b[38;5;241;43m=\u001b[39;49m\u001b[38;5;28;43mself\u001b[39;49m\u001b[38;5;241;43m.\u001b[39;49m\u001b[43m_log_message\u001b[49m\u001b[43m(\u001b[49m\u001b[43mstep_idx\u001b[49m\u001b[43m)\u001b[49m\u001b[43m,\u001b[49m\n\u001b[1;32m    596\u001b[0m \u001b[43m    \u001b[49m\u001b[43mparams\u001b[49m\u001b[38;5;241;43m=\u001b[39;49m\u001b[43mstep_params\u001b[49m\u001b[43m,\u001b[49m\n\u001b[1;32m    597\u001b[0m \u001b[43m\u001b[49m\u001b[43m)\u001b[49m\n\u001b[1;32m    598\u001b[0m \u001b[38;5;66;03m# Replace the transformer of the step with the fitted\u001b[39;00m\n\u001b[1;32m    599\u001b[0m \u001b[38;5;66;03m# transformer. This is necessary when loading the transformer\u001b[39;00m\n\u001b[1;32m    600\u001b[0m \u001b[38;5;66;03m# from the cache.\u001b[39;00m\n\u001b[1;32m    601\u001b[0m \u001b[38;5;28mself\u001b[39m\u001b[38;5;241m.\u001b[39msteps[step_idx] \u001b[38;5;241m=\u001b[39m (name, fitted_transformer)\n",
      "File \u001b[0;32m/opt/conda/lib/python3.11/site-packages/joblib/memory.py:326\u001b[0m, in \u001b[0;36mNotMemorizedFunc.__call__\u001b[0;34m(self, *args, **kwargs)\u001b[0m\n\u001b[1;32m    325\u001b[0m \u001b[38;5;28;01mdef\u001b[39;00m\u001b[38;5;250m \u001b[39m\u001b[38;5;21m__call__\u001b[39m(\u001b[38;5;28mself\u001b[39m, \u001b[38;5;241m*\u001b[39margs, \u001b[38;5;241m*\u001b[39m\u001b[38;5;241m*\u001b[39mkwargs):\n\u001b[0;32m--> 326\u001b[0m     \u001b[38;5;28;01mreturn\u001b[39;00m \u001b[38;5;28;43mself\u001b[39;49m\u001b[38;5;241;43m.\u001b[39;49m\u001b[43mfunc\u001b[49m\u001b[43m(\u001b[49m\u001b[38;5;241;43m*\u001b[39;49m\u001b[43margs\u001b[49m\u001b[43m,\u001b[49m\u001b[43m \u001b[49m\u001b[38;5;241;43m*\u001b[39;49m\u001b[38;5;241;43m*\u001b[39;49m\u001b[43mkwargs\u001b[49m\u001b[43m)\u001b[49m\n",
      "File \u001b[0;32m/opt/conda/lib/python3.11/site-packages/sklearn/pipeline.py:1540\u001b[0m, in \u001b[0;36m_fit_transform_one\u001b[0;34m(transformer, X, y, weight, message_clsname, message, params)\u001b[0m\n\u001b[1;32m   1538\u001b[0m \u001b[38;5;28;01mwith\u001b[39;00m _print_elapsed_time(message_clsname, message):\n\u001b[1;32m   1539\u001b[0m     \u001b[38;5;28;01mif\u001b[39;00m \u001b[38;5;28mhasattr\u001b[39m(transformer, \u001b[38;5;124m\"\u001b[39m\u001b[38;5;124mfit_transform\u001b[39m\u001b[38;5;124m\"\u001b[39m):\n\u001b[0;32m-> 1540\u001b[0m         res \u001b[38;5;241m=\u001b[39m \u001b[43mtransformer\u001b[49m\u001b[38;5;241;43m.\u001b[39;49m\u001b[43mfit_transform\u001b[49m\u001b[43m(\u001b[49m\u001b[43mX\u001b[49m\u001b[43m,\u001b[49m\u001b[43m \u001b[49m\u001b[43my\u001b[49m\u001b[43m,\u001b[49m\u001b[43m \u001b[49m\u001b[38;5;241;43m*\u001b[39;49m\u001b[38;5;241;43m*\u001b[39;49m\u001b[43mparams\u001b[49m\u001b[38;5;241;43m.\u001b[39;49m\u001b[43mget\u001b[49m\u001b[43m(\u001b[49m\u001b[38;5;124;43m\"\u001b[39;49m\u001b[38;5;124;43mfit_transform\u001b[39;49m\u001b[38;5;124;43m\"\u001b[39;49m\u001b[43m,\u001b[49m\u001b[43m \u001b[49m\u001b[43m{\u001b[49m\u001b[43m}\u001b[49m\u001b[43m)\u001b[49m\u001b[43m)\u001b[49m\n\u001b[1;32m   1541\u001b[0m     \u001b[38;5;28;01melse\u001b[39;00m:\n\u001b[1;32m   1542\u001b[0m         res \u001b[38;5;241m=\u001b[39m transformer\u001b[38;5;241m.\u001b[39mfit(X, y, \u001b[38;5;241m*\u001b[39m\u001b[38;5;241m*\u001b[39mparams\u001b[38;5;241m.\u001b[39mget(\u001b[38;5;124m\"\u001b[39m\u001b[38;5;124mfit\u001b[39m\u001b[38;5;124m\"\u001b[39m, {}))\u001b[38;5;241m.\u001b[39mtransform(\n\u001b[1;32m   1543\u001b[0m             X, \u001b[38;5;241m*\u001b[39m\u001b[38;5;241m*\u001b[39mparams\u001b[38;5;241m.\u001b[39mget(\u001b[38;5;124m\"\u001b[39m\u001b[38;5;124mtransform\u001b[39m\u001b[38;5;124m\"\u001b[39m, {})\n\u001b[1;32m   1544\u001b[0m         )\n",
      "File \u001b[0;32m/opt/conda/lib/python3.11/site-packages/sklearn/utils/_set_output.py:316\u001b[0m, in \u001b[0;36m_wrap_method_output.<locals>.wrapped\u001b[0;34m(self, X, *args, **kwargs)\u001b[0m\n\u001b[1;32m    314\u001b[0m \u001b[38;5;129m@wraps\u001b[39m(f)\n\u001b[1;32m    315\u001b[0m \u001b[38;5;28;01mdef\u001b[39;00m\u001b[38;5;250m \u001b[39m\u001b[38;5;21mwrapped\u001b[39m(\u001b[38;5;28mself\u001b[39m, X, \u001b[38;5;241m*\u001b[39margs, \u001b[38;5;241m*\u001b[39m\u001b[38;5;241m*\u001b[39mkwargs):\n\u001b[0;32m--> 316\u001b[0m     data_to_wrap \u001b[38;5;241m=\u001b[39m \u001b[43mf\u001b[49m\u001b[43m(\u001b[49m\u001b[38;5;28;43mself\u001b[39;49m\u001b[43m,\u001b[49m\u001b[43m \u001b[49m\u001b[43mX\u001b[49m\u001b[43m,\u001b[49m\u001b[43m \u001b[49m\u001b[38;5;241;43m*\u001b[39;49m\u001b[43margs\u001b[49m\u001b[43m,\u001b[49m\u001b[43m \u001b[49m\u001b[38;5;241;43m*\u001b[39;49m\u001b[38;5;241;43m*\u001b[39;49m\u001b[43mkwargs\u001b[49m\u001b[43m)\u001b[49m\n\u001b[1;32m    317\u001b[0m     \u001b[38;5;28;01mif\u001b[39;00m \u001b[38;5;28misinstance\u001b[39m(data_to_wrap, \u001b[38;5;28mtuple\u001b[39m):\n\u001b[1;32m    318\u001b[0m         \u001b[38;5;66;03m# only wrap the first output for cross decomposition\u001b[39;00m\n\u001b[1;32m    319\u001b[0m         return_tuple \u001b[38;5;241m=\u001b[39m (\n\u001b[1;32m    320\u001b[0m             _wrap_data_with_container(method, data_to_wrap[\u001b[38;5;241m0\u001b[39m], X, \u001b[38;5;28mself\u001b[39m),\n\u001b[1;32m    321\u001b[0m             \u001b[38;5;241m*\u001b[39mdata_to_wrap[\u001b[38;5;241m1\u001b[39m:],\n\u001b[1;32m    322\u001b[0m         )\n",
      "File \u001b[0;32m/opt/conda/lib/python3.11/site-packages/sklearn/base.py:1365\u001b[0m, in \u001b[0;36m_fit_context.<locals>.decorator.<locals>.wrapper\u001b[0;34m(estimator, *args, **kwargs)\u001b[0m\n\u001b[1;32m   1358\u001b[0m     estimator\u001b[38;5;241m.\u001b[39m_validate_params()\n\u001b[1;32m   1360\u001b[0m \u001b[38;5;28;01mwith\u001b[39;00m config_context(\n\u001b[1;32m   1361\u001b[0m     skip_parameter_validation\u001b[38;5;241m=\u001b[39m(\n\u001b[1;32m   1362\u001b[0m         prefer_skip_nested_validation \u001b[38;5;129;01mor\u001b[39;00m global_skip_validation\n\u001b[1;32m   1363\u001b[0m     )\n\u001b[1;32m   1364\u001b[0m ):\n\u001b[0;32m-> 1365\u001b[0m     \u001b[38;5;28;01mreturn\u001b[39;00m \u001b[43mfit_method\u001b[49m\u001b[43m(\u001b[49m\u001b[43mestimator\u001b[49m\u001b[43m,\u001b[49m\u001b[43m \u001b[49m\u001b[38;5;241;43m*\u001b[39;49m\u001b[43margs\u001b[49m\u001b[43m,\u001b[49m\u001b[43m \u001b[49m\u001b[38;5;241;43m*\u001b[39;49m\u001b[38;5;241;43m*\u001b[39;49m\u001b[43mkwargs\u001b[49m\u001b[43m)\u001b[49m\n",
      "File \u001b[0;32m/opt/conda/lib/python3.11/site-packages/sklearn/compose/_column_transformer.py:996\u001b[0m, in \u001b[0;36mColumnTransformer.fit_transform\u001b[0;34m(self, X, y, **params)\u001b[0m\n\u001b[1;32m    993\u001b[0m \u001b[38;5;28;01melse\u001b[39;00m:\n\u001b[1;32m    994\u001b[0m     routed_params \u001b[38;5;241m=\u001b[39m \u001b[38;5;28mself\u001b[39m\u001b[38;5;241m.\u001b[39m_get_empty_routing()\n\u001b[0;32m--> 996\u001b[0m result \u001b[38;5;241m=\u001b[39m \u001b[38;5;28;43mself\u001b[39;49m\u001b[38;5;241;43m.\u001b[39;49m\u001b[43m_call_func_on_transformers\u001b[49m\u001b[43m(\u001b[49m\n\u001b[1;32m    997\u001b[0m \u001b[43m    \u001b[49m\u001b[43mX\u001b[49m\u001b[43m,\u001b[49m\n\u001b[1;32m    998\u001b[0m \u001b[43m    \u001b[49m\u001b[43my\u001b[49m\u001b[43m,\u001b[49m\n\u001b[1;32m    999\u001b[0m \u001b[43m    \u001b[49m\u001b[43m_fit_transform_one\u001b[49m\u001b[43m,\u001b[49m\n\u001b[1;32m   1000\u001b[0m \u001b[43m    \u001b[49m\u001b[43mcolumn_as_labels\u001b[49m\u001b[38;5;241;43m=\u001b[39;49m\u001b[38;5;28;43;01mFalse\u001b[39;49;00m\u001b[43m,\u001b[49m\n\u001b[1;32m   1001\u001b[0m \u001b[43m    \u001b[49m\u001b[43mrouted_params\u001b[49m\u001b[38;5;241;43m=\u001b[39;49m\u001b[43mrouted_params\u001b[49m\u001b[43m,\u001b[49m\n\u001b[1;32m   1002\u001b[0m \u001b[43m\u001b[49m\u001b[43m)\u001b[49m\n\u001b[1;32m   1004\u001b[0m \u001b[38;5;28;01mif\u001b[39;00m \u001b[38;5;129;01mnot\u001b[39;00m result:\n\u001b[1;32m   1005\u001b[0m     \u001b[38;5;28mself\u001b[39m\u001b[38;5;241m.\u001b[39m_update_fitted_transformers([])\n",
      "File \u001b[0;32m/opt/conda/lib/python3.11/site-packages/sklearn/compose/_column_transformer.py:888\u001b[0m, in \u001b[0;36mColumnTransformer._call_func_on_transformers\u001b[0;34m(self, X, y, func, column_as_labels, routed_params)\u001b[0m\n\u001b[1;32m    884\u001b[0m         \u001b[38;5;28;01melse\u001b[39;00m:  \u001b[38;5;66;03m# func is _transform_one\u001b[39;00m\n\u001b[1;32m    885\u001b[0m             extra_args \u001b[38;5;241m=\u001b[39m {}\n\u001b[1;32m    886\u001b[0m         jobs\u001b[38;5;241m.\u001b[39mappend(\n\u001b[1;32m    887\u001b[0m             delayed(func)(\n\u001b[0;32m--> 888\u001b[0m                 transformer\u001b[38;5;241m=\u001b[39m\u001b[43mclone\u001b[49m\u001b[43m(\u001b[49m\u001b[43mtrans\u001b[49m\u001b[43m)\u001b[49m \u001b[38;5;28;01mif\u001b[39;00m \u001b[38;5;129;01mnot\u001b[39;00m fitted \u001b[38;5;28;01melse\u001b[39;00m trans,\n\u001b[1;32m    889\u001b[0m                 X\u001b[38;5;241m=\u001b[39m_safe_indexing(X, columns, axis\u001b[38;5;241m=\u001b[39m\u001b[38;5;241m1\u001b[39m),\n\u001b[1;32m    890\u001b[0m                 y\u001b[38;5;241m=\u001b[39my,\n\u001b[1;32m    891\u001b[0m                 weight\u001b[38;5;241m=\u001b[39mweight,\n\u001b[1;32m    892\u001b[0m                 \u001b[38;5;241m*\u001b[39m\u001b[38;5;241m*\u001b[39mextra_args,\n\u001b[1;32m    893\u001b[0m                 params\u001b[38;5;241m=\u001b[39mrouted_params[name],\n\u001b[1;32m    894\u001b[0m             )\n\u001b[1;32m    895\u001b[0m         )\n\u001b[1;32m    897\u001b[0m     \u001b[38;5;28;01mreturn\u001b[39;00m Parallel(n_jobs\u001b[38;5;241m=\u001b[39m\u001b[38;5;28mself\u001b[39m\u001b[38;5;241m.\u001b[39mn_jobs)(jobs)\n\u001b[1;32m    899\u001b[0m \u001b[38;5;28;01mexcept\u001b[39;00m \u001b[38;5;167;01mValueError\u001b[39;00m \u001b[38;5;28;01mas\u001b[39;00m e:\n",
      "File \u001b[0;32m/opt/conda/lib/python3.11/site-packages/sklearn/base.py:95\u001b[0m, in \u001b[0;36mclone\u001b[0;34m(estimator, safe)\u001b[0m\n\u001b[1;32m     93\u001b[0m \u001b[38;5;28;01mif\u001b[39;00m \u001b[38;5;28mhasattr\u001b[39m(estimator, \u001b[38;5;124m\"\u001b[39m\u001b[38;5;124m__sklearn_clone__\u001b[39m\u001b[38;5;124m\"\u001b[39m) \u001b[38;5;129;01mand\u001b[39;00m \u001b[38;5;129;01mnot\u001b[39;00m inspect\u001b[38;5;241m.\u001b[39misclass(estimator):\n\u001b[1;32m     94\u001b[0m     \u001b[38;5;28;01mreturn\u001b[39;00m estimator\u001b[38;5;241m.\u001b[39m__sklearn_clone__()\n\u001b[0;32m---> 95\u001b[0m \u001b[38;5;28;01mreturn\u001b[39;00m \u001b[43m_clone_parametrized\u001b[49m\u001b[43m(\u001b[49m\u001b[43mestimator\u001b[49m\u001b[43m,\u001b[49m\u001b[43m \u001b[49m\u001b[43msafe\u001b[49m\u001b[38;5;241;43m=\u001b[39;49m\u001b[43msafe\u001b[49m\u001b[43m)\u001b[49m\n",
      "File \u001b[0;32m/opt/conda/lib/python3.11/site-packages/sklearn/base.py:111\u001b[0m, in \u001b[0;36m_clone_parametrized\u001b[0;34m(estimator, safe)\u001b[0m\n\u001b[1;32m    109\u001b[0m \u001b[38;5;28;01melse\u001b[39;00m:\n\u001b[1;32m    110\u001b[0m     \u001b[38;5;28;01mif\u001b[39;00m \u001b[38;5;28misinstance\u001b[39m(estimator, \u001b[38;5;28mtype\u001b[39m):\n\u001b[0;32m--> 111\u001b[0m         \u001b[38;5;28;01mraise\u001b[39;00m \u001b[38;5;167;01mTypeError\u001b[39;00m(\n\u001b[1;32m    112\u001b[0m             \u001b[38;5;124m\"\u001b[39m\u001b[38;5;124mCannot clone object. \u001b[39m\u001b[38;5;124m\"\u001b[39m\n\u001b[1;32m    113\u001b[0m             \u001b[38;5;124m\"\u001b[39m\u001b[38;5;124mYou should provide an instance of \u001b[39m\u001b[38;5;124m\"\u001b[39m\n\u001b[1;32m    114\u001b[0m             \u001b[38;5;124m\"\u001b[39m\u001b[38;5;124mscikit-learn estimator instead of a class.\u001b[39m\u001b[38;5;124m\"\u001b[39m\n\u001b[1;32m    115\u001b[0m         )\n\u001b[1;32m    116\u001b[0m     \u001b[38;5;28;01melse\u001b[39;00m:\n\u001b[1;32m    117\u001b[0m         \u001b[38;5;28;01mraise\u001b[39;00m \u001b[38;5;167;01mTypeError\u001b[39;00m(\n\u001b[1;32m    118\u001b[0m             \u001b[38;5;124m\"\u001b[39m\u001b[38;5;124mCannot clone object \u001b[39m\u001b[38;5;124m'\u001b[39m\u001b[38;5;132;01m%s\u001b[39;00m\u001b[38;5;124m'\u001b[39m\u001b[38;5;124m (type \u001b[39m\u001b[38;5;132;01m%s\u001b[39;00m\u001b[38;5;124m): \u001b[39m\u001b[38;5;124m\"\u001b[39m\n\u001b[1;32m    119\u001b[0m             \u001b[38;5;124m\"\u001b[39m\u001b[38;5;124mit does not seem to be a scikit-learn \u001b[39m\u001b[38;5;124m\"\u001b[39m\n\u001b[1;32m    120\u001b[0m             \u001b[38;5;124m\"\u001b[39m\u001b[38;5;124mestimator as it does not implement a \u001b[39m\u001b[38;5;124m\"\u001b[39m\n\u001b[1;32m    121\u001b[0m             \u001b[38;5;124m\"\u001b[39m\u001b[38;5;124m'\u001b[39m\u001b[38;5;124mget_params\u001b[39m\u001b[38;5;124m'\u001b[39m\u001b[38;5;124m method.\u001b[39m\u001b[38;5;124m\"\u001b[39m \u001b[38;5;241m%\u001b[39m (\u001b[38;5;28mrepr\u001b[39m(estimator), \u001b[38;5;28mtype\u001b[39m(estimator))\n\u001b[1;32m    122\u001b[0m         )\n",
      "\u001b[0;31mTypeError\u001b[0m: Cannot clone object. You should provide an instance of scikit-learn estimator instead of a class."
     ]
    }
   ],
   "source": [
    "# 3. use pipeline to fit clustering model. create new column for clustering\n",
    "ntd_2023_fit = ntd_2023_data.copy() # why do i need to copy/clone?\n",
    "\n",
    "ntd_2023_fit[\"cluster_name\"] = pipeline.fit_predict(ntd_2023_fit)"
   ]
  },
  {
   "cell_type": "code",
   "execution_count": null,
   "id": "e63387cc-f257-4254-b686-5df18dbca689",
   "metadata": {},
   "outputs": [],
   "source": []
  }
 ],
 "metadata": {
  "kernelspec": {
   "display_name": "Python 3 (ipykernel)",
   "language": "python",
   "name": "python3"
  },
  "language_info": {
   "codemirror_mode": {
    "name": "ipython",
    "version": 3
   },
   "file_extension": ".py",
   "mimetype": "text/x-python",
   "name": "python",
   "nbconvert_exporter": "python",
   "pygments_lexer": "ipython3",
   "version": "3.11.10"
  }
 },
 "nbformat": 4,
 "nbformat_minor": 5
}
