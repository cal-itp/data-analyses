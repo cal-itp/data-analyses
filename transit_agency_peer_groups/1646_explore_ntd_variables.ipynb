{
 "cells": [
  {
   "cell_type": "markdown",
   "id": "854da103-62e6-4aa6-a0a2-9f2df7819f32",
   "metadata": {},
   "source": [
    "# [Refine Use of Explored NTD Variables #1646](https://github.com/cal-itp/data-analyses/issues/1646)\n",
    "\n",
    "Question or Goal:\n",
    "\n",
    "1. Mode & Service: We previously used these to define the grain of the data. These should be used for classifying/model-fitting.\n",
    "    - There are many modes: Can we group modes so there are fewer of them (e.g. fixed-guideway vs not)? Too many dummy variables for a category leads to overfitting/too many clusters.\n",
    "    - What's the best way to use Service? Is it as a dummy variable? Is it numeric \"proportion of service(VRH or M)\" that's directly operated? Explore the impacts of both.\n",
    "\n",
    "\n",
    "2. If we group by only Agency (flattening, fewer rows), how do we aggregate the other classification variables before we normalize them? Is adding sufficient? Do we need to average any?\n",
    "\n",
    "\n",
    "3. Are there ways to get more interactive/easy-to-read visualizations?\n",
    "    - If it takes significant time, break this one out"
   ]
  },
  {
   "cell_type": "markdown",
   "id": "3754fc0d-3a7d-4755-af73-51f412ffbc7a",
   "metadata": {},
   "source": [
    "## Terms\n",
    "**Example**:\n",
    "- You could think of an example as analogous to a `single row` in a spreadsheet.\n",
    "\n",
    "**Feature**:\n",
    "- Features are the values that a supervised model uses to predict the label.\n",
    "- In a weather model that predicts rainfall, the features could be `latitude, longitude, temperature, humidity, cloud coverage, wind direction, and atmospheric pressure`.\n",
    "- An input variable to a machine learning model. An example consists of one or more features. For instance, suppose you are training a model to determine the influence of weather conditions on student test scores. The following table shows three examples, each of which contains three features and one label:\n",
    "\n",
    "**Label**:\n",
    "- The label is the \"answer,\" or the value we want the model to predict.\n",
    "- In a weather model that predicts rainfall, the label would be `rainfall amount`.\n",
    "- In supervised machine learning, the \"answer\" or \"result\" portion of an example. Each labeled example consists of one or more features and a label. For example, in a spam detection dataset, the label would probably be either \"spam\" or \"not spam.\" In a rainfall dataset, the label might be the amount of rain that fell during a certain period."
   ]
  },
  {
   "cell_type": "markdown",
   "id": "1ca22156-6d1e-4837-9d09-0209cde3d984",
   "metadata": {
    "tags": []
   },
   "source": [
    "# Google Machine Learning Course"
   ]
  },
  {
   "cell_type": "markdown",
   "id": "da01c15c-c246-40ec-a36f-8a1af205e850",
   "metadata": {
    "tags": []
   },
   "source": [
    "## Numerical Data\n",
    "\n",
    "https://developers.google.com/machine-learning/crash-course/numerical-data"
   ]
  },
  {
   "cell_type": "markdown",
   "id": "17fa84af-5eb3-4a48-8290-7d07f9f0e19e",
   "metadata": {},
   "source": [
    "### Before creating feature vectors, we recommend studying numerical data in two ways:\n",
    "- Visualize your data in plots or graphs.\n",
    "- Get statistics about your data."
   ]
  },
  {
   "cell_type": "markdown",
   "id": "fab32548-cc05-40ae-9d91-b3874beeb2b5",
   "metadata": {},
   "source": [
    "**Visualize your data**\n",
    "\n",
    "Graphs can help you find anomalies or patterns hiding in the data. Therefore, before getting too far into analysis, look at your data graphically, either as scatter plots or histograms. View graphs not only at the beginning of the data pipeline, but also throughout data transformations. Visualizations help you continually check your assumptions.\n",
    "\n",
    "We recommend working with pandas for visualization:\n",
    "\n",
    "Working with Missing Data (pandas Documentation)\n",
    "Visualizations (pandas Documentation)\n",
    "\n",
    "Note that certain visualization tools are optimized for certain data formats. A visualization tool that helps you evaluate protocol buffers may or may not be able to help you evaluate CSV data."
   ]
  },
  {
   "cell_type": "markdown",
   "id": "a57645c2-fef0-452a-a3d3-a9eb5556588d",
   "metadata": {},
   "source": [
    "**Statistically evaluate your data**\n",
    "\n",
    "Beyond visual analysis, we also recommend evaluating potential features and labels mathematically, gathering basic statistics such as:\n",
    "\n",
    "- mean and median\n",
    "- standard deviation\n",
    "- the values at the quartile divisions: the 0th, 25th, 50th, 75th, and 100th percentiles. The 0th percentile is the minimum value of this column; the 100th percentile is the maximum value of this column. (The 50th percentile is the median.)"
   ]
  },
  {
   "cell_type": "markdown",
   "id": "3e1d0abc-6c94-42f4-977d-557fa4ec0de8",
   "metadata": {},
   "source": [
    "**Find outliers**\n",
    "\n",
    "An outlier is a value distant from most other values in a feature or label. Outliers often cause problems in model training, so finding outliers is important.\n",
    "\n",
    "When the delta between the `0th and 25th percentiles` differs significantly from the delta between the `75th and 100th percentiles`, the dataset probably contains outliers.\n",
    "\n",
    "Examine the delta between the `mean and standard deviation`. Typically you want to see the standard deviation to be smaller than the mean.\n",
    "\n",
    "Note: Don't over-rely on basic statistics. Anomalies can also hide in seemingly well-balanced data.\n",
    "Outliers can fall into any of the following categories:\n",
    "\n",
    "- The outlier is due to a mistake. For example, perhaps an experimenter mistakenly entered an extra zero, or perhaps an instrument that gathered data malfunctioned. You'll generally delete examples containing mistake outliers.\n",
    "- The outlier is a legitimate data point, not a mistake. In this case, will your trained model ultimately need to infer good predictions on these outliers?\n",
    "  - If yes, keep these outliers in your training set. After all, outliers in certain features sometimes mirror outliers in the label, so the outliers could actually help your model make better predictions. Be careful, extreme outliers can still hurt your model.\n",
    "  - If no, delete the outliers or apply more invasive feature engineering techniques, such as clipping."
   ]
  },
  {
   "cell_type": "markdown",
   "id": "28635713-1ac4-439c-9a3d-9588efef9c49",
   "metadata": {},
   "source": [
    "**Log scaling**\n",
    "\n",
    "Log scaling computes the logarithm of the raw value. In theory, the logarithm could be any base; in practice, log scaling usually calculates the natural logarithm (ln).\n",
    "\n",
    "\n",
    "Log scaling is helpful when the data conforms to a power law distribution. Casually speaking, a power law distribution looks as follows:\n",
    "\n",
    "- Low values of X have very high values of Y.\n",
    "- As the values of X increase, the values of Y quickly decrease. Consequently, high values of X have very low values of Y.\n",
    "\n",
    "Movie ratings are a good example of a power law distribution. In the following figure, notice:\n",
    "\n",
    "- A few movies have lots of user ratings. (Low values of X have high values of Y.)\n",
    "- Most movies have very few user ratings. (High values of X have low values of Y.)\n",
    "Log scaling changes the distribution, which helps train a model that will make better predictions."
   ]
  },
  {
   "cell_type": "code",
   "execution_count": null,
   "id": "b44bad42-0bb9-47bd-b0c4-d29f6c8fdb0e",
   "metadata": {},
   "outputs": [],
   "source": [
    "upt?"
   ]
  },
  {
   "cell_type": "markdown",
   "id": "f00e762e-2dee-43f3-8b6d-cdb63aaade0e",
   "metadata": {},
   "source": [
    "**Clipping**\n",
    "\n",
    "Clipping is a technique to minimize the influence of extreme outliers. In brief, clipping usually caps (reduces) the value of outliers to a specific maximum value. Clipping is a strange idea, and yet, it can be very effective.\n",
    "\n",
    "How can you minimize the influence of those extreme outliers? Well, the histogram is not an even distribution, a normal distribution, or a power law distribution. What if you simply cap or clip the maximum value of roomsPerPerson at an arbitrary value, say 4.0?\n",
    "\n",
    "Clipping the feature value at 4.0 doesn't mean that your model ignores all values greater than 4.0. Rather, it means that all values that were greater than 4.0 now become 4.0. This explains the peculiar hill at 4.0. Despite that hill, the scaled feature set is now more useful than the original data.\n",
    "\n",
    "**Wait a second! Can you really reduce every outlier value to some arbitrary upper threshold? When training a model, yes.**\n",
    "\n",
    "You can also clip values after applying other forms of normalization. For example, suppose you use Z-score scaling, but a few outliers have absolute values far greater than 3. In this case, you could:\n",
    "\n",
    "- Clip Z-scores greater than 3 to become exactly 3.\n",
    "- Clip Z-scores less than -3 to become exactly -3."
   ]
  },
  {
   "cell_type": "code",
   "execution_count": null,
   "id": "d184d2d9-946c-4382-9258-b387b4c8aad5",
   "metadata": {},
   "outputs": [],
   "source": [
    "clip upt z-scores?"
   ]
  },
  {
   "attachments": {
    "c0358906-bd46-4f3c-bc00-be75b5ce5cc7.png": {
     "image/png": "[encoded data removed]"
    }
   },
   "cell_type": "markdown",
   "id": "5b496506-6f8a-48a0-9367-237a7fd8cacd",
   "metadata": {},
   "source": [
    "**Quantile Bucketing**\n",
    "Quantile bucketing creates bucketing boundaries such that the number of examples in each bucket is exactly or nearly equal. Quantile bucketing mostly hides the outliers.\n",
    "\n",
    "To illustrate the problem that quantile bucketing solves, consider the equally spaced buckets shown in the following figure, where each of the ten buckets represents a span of exactly 10,000 dollars. Notice that the bucket from 0 to 10,000 contains dozens of examples but the bucket from 50,000 to 60,000 contains only 5 examples. Consequently, the model has enough examples to train on the 0 to 10,000 bucket but not enough examples to train on for the 50,000 to 60,000 bucket.\n",
    "\n",
    "In contrast, the following figure uses quantile bucketing to divide car prices into bins with approximately the same number of examples in each bucket. Notice that some of the bins encompass a narrow price span while others encompass a very wide price span.\n",
    "\n",
    "![image.png](attachment:c0358906-bd46-4f3c-bc00-be75b5ce5cc7.png)"
   ]
  },
  {
   "cell_type": "markdown",
   "id": "73ec1783-688a-40d9-9429-8f6fe6601049",
   "metadata": {},
   "source": [
    "## Categorical Data"
   ]
  },
  {
   "attachments": {
    "dc6dd627-840c-4dbc-b69b-e4aeef8684fe.png": {
     "image/png": "[encoded data removed]"
    }
   },
   "cell_type": "markdown",
   "id": "a36611b5-3ebb-4a39-829f-16d42e8b9aa0",
   "metadata": {},
   "source": [
    "The term dimension is a synonym for the number of elements in a feature vector. Some categorical features are low dimensional. For example:\n",
    "\n",
    "![image.png](attachment:dc6dd627-840c-4dbc-b69b-e4aeef8684fe.png)\n",
    "\n",
    "`When a categorical feature has a low number of possible categories, you can encode it as a vocabulary.` With a vocabulary encoding, the model treats each possible categorical value as a separate feature. During training, the model learns different weights for each category.\n",
    "\n",
    "For example, suppose you are creating a model to predict a car's price based, in part, on a categorical feature named car_color. Perhaps red cars are worth more than green cars. Since manufacturers offer a limited number of exterior colors, car_color is a low-dimensional categorical feature. The following illustration suggests a vocabulary (possible values) for car_color:"
   ]
  },
  {
   "cell_type": "code",
   "execution_count": null,
   "id": "9f7554b8-338b-4bfc-b7ad-fc36d8f549cf",
   "metadata": {},
   "outputs": [],
   "source": [
    "Is the number of unique `modes` considered \"low dimensional\"?\n",
    "\n",
    "Is the number of unique cities or UZA considered \"high dimensional\"?"
   ]
  },
  {
   "cell_type": "markdown",
   "id": "7b1ba938-c092-4f25-8f16-4df93a9d5f91",
   "metadata": {},
   "source": [
    "**Feature crosses**\n",
    "\n",
    "Feature crosses are created by crossing (taking the Cartesian product of) two or more categorical or bucketed features of the dataset. Like polynomial transforms, feature crosses allow linear models to handle nonlinearities. Feature crosses also encode interactions between features.\n",
    "\n",
    "For example, consider a leaf dataset with the categorical features:\n",
    "\n",
    "- edges, containing values smooth, toothed, and lobed\n",
    "- arrangement, containing values opposite and alternate\n",
    "Assume the order above is the order of the feature columns in a one-hot representation, so that a leaf with smooth edges and opposite arrangement is represented as {(1, 0, 0), (1, 0)}.\n",
    "\n",
    "The feature cross, or Cartesian product, of these two features would be:\n",
    "\n",
    "{Smooth_Opposite, Smooth_Alternate, Toothed_Opposite, Toothed_Alternate, Lobed_Opposite, Lobed_Alternate}\n",
    "\n",
    "where the value of each term is the product of the base feature values, such that:\n",
    "\n",
    "- Smooth_Opposite = edges[0] * arrangement[0]\n",
    "- Smooth_Alternate = edges[0] * arrangement[1]\n",
    "- Toothed_Opposite = edges[1] * arrangement[0]\n",
    "- Toothed_Alternate = edges[1] * arrangement[1]\n",
    "- Lobed_Opposite = edges[2] * arrangement[0]\n",
    "- Lobed_Alternate = edges[2] * arrangement[1]\n",
    "\n",
    "For example, if a leaf has a lobed edge and an alternate arrangement, the feature-cross vector will have a value of 1 for Lobed_Alternate, and a value of 0 for all other terms:\n",
    "\n",
    "`{0, 0, 0, 0, 0, 1}`"
   ]
  },
  {
   "cell_type": "code",
   "execution_count": null,
   "id": "1167dce9-0a1b-474d-b735-a4e180a91e97",
   "metadata": {},
   "outputs": [],
   "source": [
    "Should we feature-cross mode and service?\n",
    "\n",
    "Something like \"directly operated - bus\", \"purchased transportation - bus\", \"directly operated - demand response\", \"purchased - demand resonse\"."
   ]
  },
  {
   "cell_type": "markdown",
   "id": "10c583e9-cd44-4d4e-a8c4-e83642d0a531",
   "metadata": {
    "tags": []
   },
   "source": [
    "## Clustering Advance Course Notes\n",
    "\n",
    "To cluster your data, you'll follow these steps:"
   ]
  },
  {
   "cell_type": "markdown",
   "id": "be272dd3-ec6b-4e59-8c82-1dfca720ec63",
   "metadata": {},
   "source": [
    "**1. Prepare data.**\n",
    "\n",
    "you must normalize, scale, and transform feature data before training or fine-tuning a model on that data. In addition, before clustering, check that the prepared data lets you accurately calculate similarity between examples."
   ]
  },
  {
   "cell_type": "markdown",
   "id": "58516ba9-b773-4c1f-997c-10a2ed61d2c7",
   "metadata": {},
   "source": [
    "**2. Create similarity metric.**\n",
    "\n",
    "Before a clustering algorithm can group data, it needs to know how similar pairs of examples are. You can quantify the similarity between examples by creating a similarity metric, which requires a careful understanding of your data."
   ]
  },
  {
   "cell_type": "markdown",
   "id": "67e5ade1-44a9-4d83-a446-7829f7c52ebe",
   "metadata": {},
   "source": [
    "**3. Run clustering algorithm**\n",
    "\n",
    "A clustering algorithm uses the similarity metric to cluster data. Google course uses k-means."
   ]
  },
  {
   "cell_type": "markdown",
   "id": "c0d9a7ac-31d5-4f08-ad52-4c6e3bdbcd10",
   "metadata": {},
   "source": [
    "**4. Interpret results and adjust your clustering.**\n",
    "\n",
    "Because clustering doesn't produce or include a ground \"truth\" against which you can verify the output, it's important to check the result against your expectations at both the cluster level and the example level. If the result looks odd or low-quality, experiment with the previous three steps. Continue iterating until the quality of the output meets your needs."
   ]
  },
  {
   "cell_type": "markdown",
   "id": "78d8815b-c7ea-445c-8fb3-b3fe983fe994",
   "metadata": {},
   "source": [
    "### Normalizing - Log transforms\n",
    "\n",
    "When a dataset perfectly conforms to a power law distribution, `where data is heavily clumped at the lowest values`, **use a log transform**. See [Log scaling](https://developers.google.com/machine-learning/crash-course/numerical-data/normalization#log_scaling) to review the steps"
   ]
  },
  {
   "cell_type": "markdown",
   "id": "4405a29d-7981-47f1-8780-256c71850d41",
   "metadata": {},
   "source": [
    "---"
   ]
  },
  {
   "cell_type": "markdown",
   "id": "6a627aed-d00c-4069-a139-aefb6602063b",
   "metadata": {},
   "source": [
    "# Knowledge Check"
   ]
  },
  {
   "cell_type": "code",
   "execution_count": 1,
   "id": "b0fabe39-aabc-4d99-a57d-eb2b72c31762",
   "metadata": {
    "tags": []
   },
   "outputs": [],
   "source": [
    "import pandas as pd\n",
    "\n",
    "\n",
    "pd.set_option(\"display.max_rows\", None)\n",
    "pd.set_option(\"display.max_columns\", None)"
   ]
  },
  {
   "cell_type": "markdown",
   "id": "2e977557-1e1e-4444-94ff-3a4e874d80cc",
   "metadata": {},
   "source": [
    "## read in data"
   ]
  },
  {
   "cell_type": "code",
   "execution_count": 2,
   "id": "c1f8b31b-79d6-419c-a749-8259534b868f",
   "metadata": {
    "tags": []
   },
   "outputs": [],
   "source": [
    "transit_metrics = pd.read_parquet(\n",
    "    f\"gs://calitp-analytics-data/data-analyses/ntd/raw_transit_performance_metrics_data.parquet\"\n",
    ")"
   ]
  },
  {
   "cell_type": "code",
   "execution_count": 3,
   "id": "9243e22a-051b-45cf-8a49-24ac0ce91678",
   "metadata": {
    "tags": []
   },
   "outputs": [
    {
     "data": {
      "text/html": [
       "<div>\n",
       "<style scoped>\n",
       "    .dataframe tbody tr th:only-of-type {\n",
       "        vertical-align: middle;\n",
       "    }\n",
       "\n",
       "    .dataframe tbody tr th {\n",
       "        vertical-align: top;\n",
       "    }\n",
       "\n",
       "    .dataframe thead th {\n",
       "        text-align: right;\n",
       "    }\n",
       "</style>\n",
       "<table border=\"1\" class=\"dataframe\">\n",
       "  <thead>\n",
       "    <tr style=\"text-align: right;\">\n",
       "      <th></th>\n",
       "      <th>agency_name</th>\n",
       "      <th>agency_status</th>\n",
       "      <th>city</th>\n",
       "      <th>mode</th>\n",
       "      <th>service</th>\n",
       "      <th>ntd_id</th>\n",
       "      <th>reporter_type</th>\n",
       "      <th>reporting_module</th>\n",
       "      <th>state</th>\n",
       "      <th>primary_uza_name</th>\n",
       "      <th>year</th>\n",
       "      <th>upt</th>\n",
       "      <th>vrh</th>\n",
       "      <th>vrm</th>\n",
       "      <th>opexp_total</th>\n",
       "      <th>RTPA</th>\n",
       "      <th>_merge</th>\n",
       "    </tr>\n",
       "  </thead>\n",
       "  <tbody>\n",
       "    <tr>\n",
       "      <th>0</th>\n",
       "      <td>City of Porterville (COLT) - Transit Department</td>\n",
       "      <td>Active</td>\n",
       "      <td>Porterville</td>\n",
       "      <td>Demand Response</td>\n",
       "      <td>Purchased Transportation</td>\n",
       "      <td>90198</td>\n",
       "      <td>Building Reporter</td>\n",
       "      <td>Urban</td>\n",
       "      <td>CA</td>\n",
       "      <td>Porterville, CA</td>\n",
       "      <td>2019</td>\n",
       "      <td>13112</td>\n",
       "      <td>2997</td>\n",
       "      <td>43696</td>\n",
       "      <td>572799</td>\n",
       "      <td>Tulare County Association of Governments</td>\n",
       "      <td>both</td>\n",
       "    </tr>\n",
       "    <tr>\n",
       "      <th>1</th>\n",
       "      <td>City of Porterville (COLT) - Transit Department</td>\n",
       "      <td>Active</td>\n",
       "      <td>Porterville</td>\n",
       "      <td>Demand Response</td>\n",
       "      <td>Purchased Transportation</td>\n",
       "      <td>90198</td>\n",
       "      <td>Building Reporter</td>\n",
       "      <td>Urban</td>\n",
       "      <td>CA</td>\n",
       "      <td>Porterville, CA</td>\n",
       "      <td>2020</td>\n",
       "      <td>11523</td>\n",
       "      <td>3669</td>\n",
       "      <td>48138</td>\n",
       "      <td>686165</td>\n",
       "      <td>Tulare County Association of Governments</td>\n",
       "      <td>both</td>\n",
       "    </tr>\n",
       "    <tr>\n",
       "      <th>2</th>\n",
       "      <td>City of Porterville (COLT) - Transit Department</td>\n",
       "      <td>Active</td>\n",
       "      <td>Porterville</td>\n",
       "      <td>Bus</td>\n",
       "      <td>Purchased Transportation</td>\n",
       "      <td>90198</td>\n",
       "      <td>Building Reporter</td>\n",
       "      <td>Urban</td>\n",
       "      <td>CA</td>\n",
       "      <td>Porterville, CA</td>\n",
       "      <td>2018</td>\n",
       "      <td>635648</td>\n",
       "      <td>50140</td>\n",
       "      <td>700127</td>\n",
       "      <td>3460906</td>\n",
       "      <td>Tulare County Association of Governments</td>\n",
       "      <td>both</td>\n",
       "    </tr>\n",
       "    <tr>\n",
       "      <th>3</th>\n",
       "      <td>City of Porterville (COLT) - Transit Department</td>\n",
       "      <td>Active</td>\n",
       "      <td>Porterville</td>\n",
       "      <td>Bus</td>\n",
       "      <td>Purchased Transportation</td>\n",
       "      <td>90198</td>\n",
       "      <td>Building Reporter</td>\n",
       "      <td>Urban</td>\n",
       "      <td>CA</td>\n",
       "      <td>Porterville, CA</td>\n",
       "      <td>2021</td>\n",
       "      <td>145215</td>\n",
       "      <td>21208</td>\n",
       "      <td>244230</td>\n",
       "      <td>2657959</td>\n",
       "      <td>Tulare County Association of Governments</td>\n",
       "      <td>both</td>\n",
       "    </tr>\n",
       "    <tr>\n",
       "      <th>4</th>\n",
       "      <td>City of Porterville (COLT) - Transit Department</td>\n",
       "      <td>Active</td>\n",
       "      <td>Porterville</td>\n",
       "      <td>Demand Response</td>\n",
       "      <td>Purchased Transportation</td>\n",
       "      <td>90198</td>\n",
       "      <td>Building Reporter</td>\n",
       "      <td>Urban</td>\n",
       "      <td>CA</td>\n",
       "      <td>Porterville, CA</td>\n",
       "      <td>2021</td>\n",
       "      <td>29380</td>\n",
       "      <td>9565</td>\n",
       "      <td>126604</td>\n",
       "      <td>952031</td>\n",
       "      <td>Tulare County Association of Governments</td>\n",
       "      <td>both</td>\n",
       "    </tr>\n",
       "  </tbody>\n",
       "</table>\n",
       "</div>"
      ],
      "text/plain": [
       "                                       agency_name agency_status         city  \\\n",
       "0  City of Porterville (COLT) - Transit Department        Active  Porterville   \n",
       "1  City of Porterville (COLT) - Transit Department        Active  Porterville   \n",
       "2  City of Porterville (COLT) - Transit Department        Active  Porterville   \n",
       "3  City of Porterville (COLT) - Transit Department        Active  Porterville   \n",
       "4  City of Porterville (COLT) - Transit Department        Active  Porterville   \n",
       "\n",
       "              mode                   service ntd_id      reporter_type  \\\n",
       "0  Demand Response  Purchased Transportation  90198  Building Reporter   \n",
       "1  Demand Response  Purchased Transportation  90198  Building Reporter   \n",
       "2              Bus  Purchased Transportation  90198  Building Reporter   \n",
       "3              Bus  Purchased Transportation  90198  Building Reporter   \n",
       "4  Demand Response  Purchased Transportation  90198  Building Reporter   \n",
       "\n",
       "  reporting_module state primary_uza_name  year     upt    vrh     vrm  \\\n",
       "0            Urban    CA  Porterville, CA  2019   13112   2997   43696   \n",
       "1            Urban    CA  Porterville, CA  2020   11523   3669   48138   \n",
       "2            Urban    CA  Porterville, CA  2018  635648  50140  700127   \n",
       "3            Urban    CA  Porterville, CA  2021  145215  21208  244230   \n",
       "4            Urban    CA  Porterville, CA  2021   29380   9565  126604   \n",
       "\n",
       "   opexp_total                                      RTPA _merge  \n",
       "0       572799  Tulare County Association of Governments   both  \n",
       "1       686165  Tulare County Association of Governments   both  \n",
       "2      3460906  Tulare County Association of Governments   both  \n",
       "3      2657959  Tulare County Association of Governments   both  \n",
       "4       952031  Tulare County Association of Governments   both  "
      ]
     },
     "execution_count": 3,
     "metadata": {},
     "output_type": "execute_result"
    }
   ],
   "source": [
    "transit_metrics.head()\n",
    "# grain: each row is agency, mode, service per year"
   ]
  },
  {
   "cell_type": "markdown",
   "id": "96fb7fb3-f361-45a9-968f-45447ddf3211",
   "metadata": {},
   "source": [
    "## Test querying NTD data from warehouse\n",
    "I queried data from `mart_ntd_funding_and_expenses.fct_service_data_and_operating_expenses_time_series_by_mode_{metric}`\n"
   ]
  },
  {
   "cell_type": "code",
   "execution_count": 4,
   "id": "ebfe32b2-3340-42fa-aca6-d0ea5e100802",
   "metadata": {},
   "outputs": [],
   "source": [
    "from calitp_data_analysis.sql import get_engine"
   ]
  },
  {
   "cell_type": "code",
   "execution_count": 5,
   "id": "04f1ab19-c353-42ae-a31a-9169855ff61f",
   "metadata": {},
   "outputs": [],
   "source": [
    "db_engine = get_engine()\n",
    "\n",
    "metric_list = [\n",
    "    # \"pmt\",\n",
    "    \"upt\",\n",
    "    \"vrh\",\n",
    "    \"opexp_total\"\n",
    "]\n",
    "\n",
    "# empty list for appending DFs\n",
    "df_list = []\n",
    "with db_engine.connect() as connection:\n",
    "    for metric in metric_list:\n",
    "        query = f\"\"\"\n",
    "        SELECT\n",
    "          ntd_id,\n",
    "          source_agency,\n",
    "          agency_status,\n",
    "          primary_uza_name,\n",
    "          uza_population,\n",
    "          uza_area_sq_miles,\n",
    "          year,\n",
    "          SUM({metric}) AS total_{metric},\n",
    "        FROM\n",
    "          `cal-itp-data-infra.mart_ntd_funding_and_expenses.fct_service_data_and_operating_expenses_time_series_by_mode_{metric}`\n",
    "        WHERE\n",
    "          source_state = \"CA\"\n",
    "          AND year >= 2018\n",
    "        GROUP BY\n",
    "          ntd_id,\n",
    "          source_agency,\n",
    "          agency_status,\n",
    "          year,\n",
    "          primary_uza_name,\n",
    "          uza_population,\n",
    "          uza_area_sq_miles\n",
    "        \"\"\"\n",
    "        # create df\n",
    "        metric = pd.read_sql(query,connection) \n",
    "        \n",
    "        # append df to list\n",
    "        df_list.append(metric)\n",
    "\n",
    "# unpack list into separate DFs\n",
    "ntd_upt, ntd_vrh, ntd_opex = df_list"
   ]
  },
  {
   "cell_type": "code",
   "execution_count": 6,
   "id": "0ebaf087-1e31-42be-a988-ef33851a7a00",
   "metadata": {},
   "outputs": [],
   "source": [
    "merge_on_col=[\"ntd_id\", \"year\",\"source_agency\",\"agency_status\",\"primary_uza_name\",\"uza_population\",\"uza_area_sq_miles\"]\n",
    "merge_1 = ntd_opex.merge(ntd_upt, on=merge_on_col, how = \"inner\")\n",
    "\n",
    "ntd_metrics_merge = merge_1.merge(ntd_vrh, on=merge_on_col, how = \"inner\")"
   ]
  },
  {
   "cell_type": "code",
   "execution_count": 7,
   "id": "d372c4fb-3c11-4861-80d6-6385150b522d",
   "metadata": {},
   "outputs": [
    {
     "name": "stdout",
     "output_type": "stream",
     "text": [
      "<class 'pandas.core.frame.DataFrame'>\n",
      "Int64Index: 1614 entries, 0 to 1613\n",
      "Data columns (total 10 columns):\n",
      " #   Column             Non-Null Count  Dtype  \n",
      "---  ------             --------------  -----  \n",
      " 0   ntd_id             1524 non-null   object \n",
      " 1   source_agency      1614 non-null   object \n",
      " 2   agency_status      1614 non-null   object \n",
      " 3   primary_uza_name   1614 non-null   object \n",
      " 4   uza_population     1614 non-null   int64  \n",
      " 5   uza_area_sq_miles  1614 non-null   float64\n",
      " 6   year               1614 non-null   int64  \n",
      " 7   total_opexp_total  1291 non-null   float64\n",
      " 8   total_upt          1291 non-null   float64\n",
      " 9   total_vrh          1291 non-null   float64\n",
      "dtypes: float64(4), int64(2), object(4)\n",
      "memory usage: 138.7+ KB\n"
     ]
    }
   ],
   "source": [
    "ntd_metrics_merge.info()"
   ]
  },
  {
   "cell_type": "markdown",
   "id": "cc36a2ba-839c-40a7-84d7-ced27b65f9d6",
   "metadata": {},
   "source": [
    "## Classify feature columns"
   ]
  },
  {
   "cell_type": "code",
   "execution_count": 40,
   "id": "ac85daae-ea8a-41db-88bd-317675f8d551",
   "metadata": {
    "tags": []
   },
   "outputs": [
    {
     "data": {
      "text/plain": [
       "['agency_name',\n",
       " 'agency_status',\n",
       " 'city',\n",
       " 'mode',\n",
       " 'service',\n",
       " 'ntd_id',\n",
       " 'reporter_type',\n",
       " 'reporting_module',\n",
       " 'state',\n",
       " 'primary_uza_name',\n",
       " 'year',\n",
       " 'upt',\n",
       " 'vrh',\n",
       " 'vrm',\n",
       " 'opexp_total',\n",
       " 'RTPA',\n",
       " '_merge']"
      ]
     },
     "metadata": {},
     "output_type": "display_data"
    },
    {
     "data": {
      "text/plain": [
       "['ntd_id',\n",
       " 'source_agency',\n",
       " 'agency_status',\n",
       " 'primary_uza_name',\n",
       " 'uza_population',\n",
       " 'uza_area_sq_miles',\n",
       " 'year',\n",
       " 'total_opexp_total',\n",
       " 'total_upt',\n",
       " 'total_vrh']"
      ]
     },
     "metadata": {},
     "output_type": "display_data"
    }
   ],
   "source": [
    "display(\n",
    "    list(transit_metrics.columns),\n",
    "    list(ntd_metrics_merge.columns)\n",
    ")"
   ]
  },
  {
   "cell_type": "code",
   "execution_count": 10,
   "id": "2e90f2a3-2627-4e38-8047-ede9f2ece599",
   "metadata": {
    "tags": []
   },
   "outputs": [],
   "source": [
    "# Feature groups\n",
    "id_cols = [ # exclude from clustering\n",
    "    \"agency_name\",\n",
    "    \"city\",\n",
    "    \"ntd_id\",\n",
    "    \"state\",\n",
    "    \"primary_uza_name\",\n",
    "    \"RTPA\",\n",
    "    \"reporter_type\" # maybe move to categorical\n",
    "]\n",
    "\n",
    "categorical_cols =[ # include in clustering\n",
    "    \"mode\", # 15 unique values\n",
    "    \"service\" # 4\n",
    "]\n",
    "\n",
    "numerical_cols = [ # include in clustering\n",
    "    \"upt\",\n",
    "    \"vrh\",\n",
    "    \"vrm\",\n",
    "    \"opexp_total\"\n",
    "]\n",
    "\n",
    "other_cols = [ # exclude in clustering\n",
    "    \"agency_status\"\n",
    "    \"year\",\n",
    "    \"reporting_module\",\n",
    "    \"_merge\"\n",
    "]"
   ]
  },
  {
   "cell_type": "code",
   "execution_count": 39,
   "id": "9ad0c6a1-d35d-4e1f-b2d9-57322ac33f43",
   "metadata": {
    "tags": []
   },
   "outputs": [
    {
     "data": {
      "text/html": [
       "<div>\n",
       "<style scoped>\n",
       "    .dataframe tbody tr th:only-of-type {\n",
       "        vertical-align: middle;\n",
       "    }\n",
       "\n",
       "    .dataframe tbody tr th {\n",
       "        vertical-align: top;\n",
       "    }\n",
       "\n",
       "    .dataframe thead th {\n",
       "        text-align: right;\n",
       "    }\n",
       "</style>\n",
       "<table border=\"1\" class=\"dataframe\">\n",
       "  <thead>\n",
       "    <tr style=\"text-align: right;\">\n",
       "      <th></th>\n",
       "      <th>total_opexp_total</th>\n",
       "      <th>total_upt</th>\n",
       "      <th>total_vrh</th>\n",
       "      <th>uza_area_sq_miles</th>\n",
       "      <th>uza_population</th>\n",
       "    </tr>\n",
       "  </thead>\n",
       "  <tbody>\n",
       "    <tr>\n",
       "      <th>total_opexp_total</th>\n",
       "      <td>1.000000</td>\n",
       "      <td>0.931714</td>\n",
       "      <td>0.961704</td>\n",
       "      <td>0.094333</td>\n",
       "      <td>0.048063</td>\n",
       "    </tr>\n",
       "    <tr>\n",
       "      <th>total_upt</th>\n",
       "      <td>0.931714</td>\n",
       "      <td>1.000000</td>\n",
       "      <td>0.928159</td>\n",
       "      <td>0.090158</td>\n",
       "      <td>0.056847</td>\n",
       "    </tr>\n",
       "    <tr>\n",
       "      <th>total_vrh</th>\n",
       "      <td>0.961704</td>\n",
       "      <td>0.928159</td>\n",
       "      <td>1.000000</td>\n",
       "      <td>0.110404</td>\n",
       "      <td>0.052122</td>\n",
       "    </tr>\n",
       "    <tr>\n",
       "      <th>uza_area_sq_miles</th>\n",
       "      <td>0.094333</td>\n",
       "      <td>0.090158</td>\n",
       "      <td>0.110404</td>\n",
       "      <td>1.000000</td>\n",
       "      <td>0.914677</td>\n",
       "    </tr>\n",
       "    <tr>\n",
       "      <th>uza_population</th>\n",
       "      <td>0.048063</td>\n",
       "      <td>0.056847</td>\n",
       "      <td>0.052122</td>\n",
       "      <td>0.914677</td>\n",
       "      <td>1.000000</td>\n",
       "    </tr>\n",
       "  </tbody>\n",
       "</table>\n",
       "</div>"
      ],
      "text/plain": [
       "                   total_opexp_total  total_upt  total_vrh  uza_area_sq_miles  \\\n",
       "total_opexp_total           1.000000   0.931714   0.961704           0.094333   \n",
       "total_upt                   0.931714   1.000000   0.928159           0.090158   \n",
       "total_vrh                   0.961704   0.928159   1.000000           0.110404   \n",
       "uza_area_sq_miles           0.094333   0.090158   0.110404           1.000000   \n",
       "uza_population              0.048063   0.056847   0.052122           0.914677   \n",
       "\n",
       "                   uza_population  \n",
       "total_opexp_total        0.048063  \n",
       "total_upt                0.056847  \n",
       "total_vrh                0.052122  \n",
       "uza_area_sq_miles        0.914677  \n",
       "uza_population           1.000000  "
      ]
     },
     "execution_count": 39,
     "metadata": {},
     "output_type": "execute_result"
    }
   ],
   "source": [
    "ntd_metrics_merge[['total_opexp_total',\n",
    "       'total_upt', 'total_vrh',\"uza_area_sq_miles\",\"uza_population\"]].corr()"
   ]
  },
  {
   "cell_type": "markdown",
   "id": "416983b6-5390-4d81-9afc-7d8d5eb136d5",
   "metadata": {},
   "source": [
    "## 2. Mode & Service"
   ]
  },
  {
   "cell_type": "markdown",
   "id": "5b027fb2-79a1-4fec-b242-8e00183fc7f8",
   "metadata": {},
   "source": [
    "### Unique `Mode` sub-categories\n",
    "Previous research papers categorized mode by have/not have \"dedicated right of way\"/ \"fixed guideway\"."
   ]
  },
  {
   "cell_type": "code",
   "execution_count": 42,
   "id": "a7fa6cad-373c-4579-b53e-5b939791db9f",
   "metadata": {
    "tags": []
   },
   "outputs": [
    {
     "data": {
      "text/plain": [
       "['Demand Response',\n",
       " 'Bus',\n",
       " 'Streetcar',\n",
       " 'Heavy Rail',\n",
       " 'Demand Response Taxi',\n",
       " 'Commuter Bus',\n",
       " 'Hybrid Rail',\n",
       " 'Commuter Rail',\n",
       " 'Vanpool',\n",
       " 'Bus Rapid Transit',\n",
       " 'Cable Car',\n",
       " 'Light Rail',\n",
       " 'Trolleybus',\n",
       " 'Ferryboats',\n",
       " 'Monorail / Automated Guideway']"
      ]
     },
     "metadata": {},
     "output_type": "display_data"
    }
   ],
   "source": [
    "display(\n",
    "    list(transit_metrics[\"mode\"].unique()),\n",
    "    # list(ntd_metrics_merge[\"mode\"].unique()) # no mode columns in the ntd merge\n",
    ")"
   ]
  },
  {
   "cell_type": "code",
   "execution_count": 14,
   "id": "c90d6420-db63-4661-9711-7c07fe9df006",
   "metadata": {
    "editable": true,
    "slideshow": {
     "slide_type": ""
    },
    "tags": []
   },
   "outputs": [],
   "source": [
    "fixed_guideway = [\n",
    "    \"Streetcar\",\n",
    "    \"Heavy Rail\",\n",
    "    \"Hybrid Rail\",\n",
    "    \"Commuter Rail\",\n",
    "    \"Cablecar\",\n",
    "    \"Light Rail\"\n",
    "]\n",
    "\n",
    "other =[\n",
    "    \"Trolleybus\",\n",
    "    \"Ferryboats\"\n",
    "]\n",
    "\n",
    "nonfixed_guideway = [\n",
    "    \"Demand Response\",\n",
    "    \"Bus\",\n",
    "    \"Demand Response Taxi\",\n",
    "    \"Commuter Bus\",\n",
    "    \"Vanpool\",\n",
    "    \"Bus Rapid Transit\",\n",
    "    \"Monorail / Automated Guideway\"\n",
    "]"
   ]
  },
  {
   "cell_type": "markdown",
   "id": "ab780bd8-5fed-47eb-bed5-0ee34192cd3f",
   "metadata": {
    "tags": []
   },
   "source": [
    "### testing what the dataframe will look like if you separate fixed from nonfixed guideway"
   ]
  },
  {
   "cell_type": "code",
   "execution_count": 57,
   "id": "922db13f-1e15-4462-8196-1f43da6aa4a4",
   "metadata": {
    "tags": []
   },
   "outputs": [],
   "source": [
    "fixed_guideway_df = transit_metrics[transit_metrics[\"mode\"].isin(fixed_guideway)]\n",
    "\n",
    "nonfixed_guideway_df = transit_metrics[transit_metrics[\"mode\"].isin(nonfixed_guideway)]\n"
   ]
  },
  {
   "cell_type": "code",
   "execution_count": 69,
   "id": "5ade78eb-fea8-4259-9343-d65660e207b7",
   "metadata": {
    "tags": []
   },
   "outputs": [
    {
     "data": {
      "text/plain": [
       "(94, 17)"
      ]
     },
     "metadata": {},
     "output_type": "display_data"
    },
    {
     "data": {
      "text/plain": [
       "(1973, 17)"
      ]
     },
     "metadata": {},
     "output_type": "display_data"
    },
    {
     "data": {
      "text/html": [
       "<div>\n",
       "<style scoped>\n",
       "    .dataframe tbody tr th:only-of-type {\n",
       "        vertical-align: middle;\n",
       "    }\n",
       "\n",
       "    .dataframe tbody tr th {\n",
       "        vertical-align: top;\n",
       "    }\n",
       "\n",
       "    .dataframe thead th {\n",
       "        text-align: right;\n",
       "    }\n",
       "</style>\n",
       "<table border=\"1\" class=\"dataframe\">\n",
       "  <thead>\n",
       "    <tr style=\"text-align: right;\">\n",
       "      <th></th>\n",
       "      <th>upt</th>\n",
       "      <th>vrh</th>\n",
       "      <th>vrm</th>\n",
       "      <th>opexp_total</th>\n",
       "    </tr>\n",
       "  </thead>\n",
       "  <tbody>\n",
       "    <tr>\n",
       "      <th>count</th>\n",
       "      <td>9.400000e+01</td>\n",
       "      <td>9.400000e+01</td>\n",
       "      <td>9.400000e+01</td>\n",
       "      <td>9.400000e+01</td>\n",
       "    </tr>\n",
       "    <tr>\n",
       "      <th>mean</th>\n",
       "      <td>1.600509e+07</td>\n",
       "      <td>3.476402e+05</td>\n",
       "      <td>8.894616e+06</td>\n",
       "      <td>1.460777e+08</td>\n",
       "    </tr>\n",
       "    <tr>\n",
       "      <th>std</th>\n",
       "      <td>2.423381e+07</td>\n",
       "      <td>5.388976e+05</td>\n",
       "      <td>1.755443e+07</td>\n",
       "      <td>1.753055e+08</td>\n",
       "    </tr>\n",
       "    <tr>\n",
       "      <th>min</th>\n",
       "      <td>0.000000e+00</td>\n",
       "      <td>0.000000e+00</td>\n",
       "      <td>0.000000e+00</td>\n",
       "      <td>0.000000e+00</td>\n",
       "    </tr>\n",
       "    <tr>\n",
       "      <th>25%</th>\n",
       "      <td>1.263242e+06</td>\n",
       "      <td>3.463825e+04</td>\n",
       "      <td>8.330590e+05</td>\n",
       "      <td>2.413429e+07</td>\n",
       "    </tr>\n",
       "    <tr>\n",
       "      <th>50%</th>\n",
       "      <td>4.364017e+06</td>\n",
       "      <td>2.006445e+05</td>\n",
       "      <td>3.541112e+06</td>\n",
       "      <td>8.836813e+07</td>\n",
       "    </tr>\n",
       "    <tr>\n",
       "      <th>75%</th>\n",
       "      <td>2.317876e+07</td>\n",
       "      <td>3.741710e+05</td>\n",
       "      <td>8.297250e+06</td>\n",
       "      <td>1.880820e+08</td>\n",
       "    </tr>\n",
       "    <tr>\n",
       "      <th>max</th>\n",
       "      <td>1.278745e+08</td>\n",
       "      <td>2.669501e+06</td>\n",
       "      <td>8.378382e+07</td>\n",
       "      <td>7.541880e+08</td>\n",
       "    </tr>\n",
       "  </tbody>\n",
       "</table>\n",
       "</div>"
      ],
      "text/plain": [
       "                upt           vrh           vrm   opexp_total\n",
       "count  9.400000e+01  9.400000e+01  9.400000e+01  9.400000e+01\n",
       "mean   1.600509e+07  3.476402e+05  8.894616e+06  1.460777e+08\n",
       "std    2.423381e+07  5.388976e+05  1.755443e+07  1.753055e+08\n",
       "min    0.000000e+00  0.000000e+00  0.000000e+00  0.000000e+00\n",
       "25%    1.263242e+06  3.463825e+04  8.330590e+05  2.413429e+07\n",
       "50%    4.364017e+06  2.006445e+05  3.541112e+06  8.836813e+07\n",
       "75%    2.317876e+07  3.741710e+05  8.297250e+06  1.880820e+08\n",
       "max    1.278745e+08  2.669501e+06  8.378382e+07  7.541880e+08"
      ]
     },
     "metadata": {},
     "output_type": "display_data"
    },
    {
     "data": {
      "text/html": [
       "<div>\n",
       "<style scoped>\n",
       "    .dataframe tbody tr th:only-of-type {\n",
       "        vertical-align: middle;\n",
       "    }\n",
       "\n",
       "    .dataframe tbody tr th {\n",
       "        vertical-align: top;\n",
       "    }\n",
       "\n",
       "    .dataframe thead th {\n",
       "        text-align: right;\n",
       "    }\n",
       "</style>\n",
       "<table border=\"1\" class=\"dataframe\">\n",
       "  <thead>\n",
       "    <tr style=\"text-align: right;\">\n",
       "      <th></th>\n",
       "      <th>upt</th>\n",
       "      <th>vrh</th>\n",
       "      <th>vrm</th>\n",
       "      <th>opexp_total</th>\n",
       "    </tr>\n",
       "  </thead>\n",
       "  <tbody>\n",
       "    <tr>\n",
       "      <th>count</th>\n",
       "      <td>1.973000e+03</td>\n",
       "      <td>1.973000e+03</td>\n",
       "      <td>1.973000e+03</td>\n",
       "      <td>1.973000e+03</td>\n",
       "    </tr>\n",
       "    <tr>\n",
       "      <th>mean</th>\n",
       "      <td>1.924252e+06</td>\n",
       "      <td>1.039595e+05</td>\n",
       "      <td>1.420036e+06</td>\n",
       "      <td>1.564296e+07</td>\n",
       "    </tr>\n",
       "    <tr>\n",
       "      <th>std</th>\n",
       "      <td>1.299111e+07</td>\n",
       "      <td>3.826907e+05</td>\n",
       "      <td>4.385897e+06</td>\n",
       "      <td>7.464036e+07</td>\n",
       "    </tr>\n",
       "    <tr>\n",
       "      <th>min</th>\n",
       "      <td>0.000000e+00</td>\n",
       "      <td>0.000000e+00</td>\n",
       "      <td>0.000000e+00</td>\n",
       "      <td>0.000000e+00</td>\n",
       "    </tr>\n",
       "    <tr>\n",
       "      <th>25%</th>\n",
       "      <td>1.766800e+04</td>\n",
       "      <td>5.613000e+03</td>\n",
       "      <td>6.177500e+04</td>\n",
       "      <td>5.551440e+05</td>\n",
       "    </tr>\n",
       "    <tr>\n",
       "      <th>50%</th>\n",
       "      <td>6.782100e+04</td>\n",
       "      <td>1.597000e+04</td>\n",
       "      <td>2.351300e+05</td>\n",
       "      <td>1.681016e+06</td>\n",
       "    </tr>\n",
       "    <tr>\n",
       "      <th>75%</th>\n",
       "      <td>3.720890e+05</td>\n",
       "      <td>5.736600e+04</td>\n",
       "      <td>8.782600e+05</td>\n",
       "      <td>6.363781e+06</td>\n",
       "    </tr>\n",
       "    <tr>\n",
       "      <th>max</th>\n",
       "      <td>2.609022e+08</td>\n",
       "      <td>6.341989e+06</td>\n",
       "      <td>6.559582e+07</td>\n",
       "      <td>1.355086e+09</td>\n",
       "    </tr>\n",
       "  </tbody>\n",
       "</table>\n",
       "</div>"
      ],
      "text/plain": [
       "                upt           vrh           vrm   opexp_total\n",
       "count  1.973000e+03  1.973000e+03  1.973000e+03  1.973000e+03\n",
       "mean   1.924252e+06  1.039595e+05  1.420036e+06  1.564296e+07\n",
       "std    1.299111e+07  3.826907e+05  4.385897e+06  7.464036e+07\n",
       "min    0.000000e+00  0.000000e+00  0.000000e+00  0.000000e+00\n",
       "25%    1.766800e+04  5.613000e+03  6.177500e+04  5.551440e+05\n",
       "50%    6.782100e+04  1.597000e+04  2.351300e+05  1.681016e+06\n",
       "75%    3.720890e+05  5.736600e+04  8.782600e+05  6.363781e+06\n",
       "max    2.609022e+08  6.341989e+06  6.559582e+07  1.355086e+09"
      ]
     },
     "metadata": {},
     "output_type": "display_data"
    }
   ],
   "source": [
    "display(\n",
    "    fixed_guideway_df.shape, # 97 rows\n",
    "    nonfixed_guideway_df.shape, # 1973 rows\n",
    "\n",
    "    fixed_guideway_df.describe(),\n",
    "    nonfixed_guideway_df.describe(),\n",
    "    \n",
    ")"
   ]
  },
  {
   "cell_type": "markdown",
   "id": "f5af5043-99a3-44bf-803a-4afd7ecfe6e6",
   "metadata": {
    "tags": []
   },
   "source": [
    "### Unique `Service` values"
   ]
  },
  {
   "cell_type": "code",
   "execution_count": 74,
   "id": "f744a560-8d65-400a-b78b-54bc99eb0055",
   "metadata": {
    "tags": []
   },
   "outputs": [],
   "source": [
    "service_pt_do = [\n",
    "    'Purchased Transportation',\n",
    "    'Directly Operated',\n",
    "]\n",
    "\n",
    "service_other = [\n",
    "    'Purchased Transportation - Taxi',\n",
    "    'Purchased Transportation - Transportation Network Company'\n",
    "]"
   ]
  },
  {
   "cell_type": "code",
   "execution_count": 76,
   "id": "23a4371a-bc13-44ca-b0a1-b1d565c58cde",
   "metadata": {
    "tags": []
   },
   "outputs": [
    {
     "data": {
      "text/plain": [
       "Directly Operated           65\n",
       "Purchased Transportation    29\n",
       "Name: service, dtype: int64"
      ]
     },
     "metadata": {},
     "output_type": "display_data"
    },
    {
     "data": {
      "text/plain": [
       "Purchased Transportation                                     1445\n",
       "Directly Operated                                             440\n",
       "Purchased Transportation - Taxi                                74\n",
       "Purchased Transportation - Transportation Network Company      14\n",
       "Name: service, dtype: int64"
      ]
     },
     "metadata": {},
     "output_type": "display_data"
    }
   ],
   "source": [
    "display(\n",
    "    fixed_guideway_df[\"service\"].value_counts(),\n",
    "    nonfixed_guideway_df[\"service\"].value_counts(),\n",
    ")"
   ]
  },
  {
   "cell_type": "code",
   "execution_count": 79,
   "id": "32e95ac3-d10c-4952-a4eb-8c0e8afe135e",
   "metadata": {
    "tags": []
   },
   "outputs": [
    {
     "data": {
      "text/plain": [
       "array(['City of Modesto (MAX)', 'Paratransit, Inc.',\n",
       "       'Riverside Transit Agency (RTA)',\n",
       "       'Sacramento Regional Transit District',\n",
       "       'San Joaquin Regional Transit District (RTD)',\n",
       "       'Santa Clara Valley Transportation Authority (VTA)',\n",
       "       'Access Services (AS)',\n",
       "       'City of Artesia - Transportation Division',\n",
       "       'City of Bell - Community Services Department',\n",
       "       'City of Carson - Transportation Services Division',\n",
       "       'City of Claremont - Community Services/ Transit Services',\n",
       "       'City of Cudahy (COC)', 'City of Escalon - Transit Services',\n",
       "       'City of Huntington Park (HPCA) - Fixed Route Transportation/ Public Works',\n",
       "       'City of Los Angeles (LADOT) - City of Los Angeles Department of Transportation',\n",
       "       'City of Montebello (MBL) - Transportation',\n",
       "       'City of Santa Monica (BBB) - Department of Transportation',\n",
       "       'City of South Gate - Transportation Department',\n",
       "       'City of Torrance (TTS) - Transit Department',\n",
       "       'Monterey-Salinas Transit (MST)',\n",
       "       'Orange County Transportation Authority (OCTA)',\n",
       "       'Palos Verdes Peninsula Transit Authority (PVPTA)',\n",
       "       'Pomona Valley Transportation Authority (PVTA)',\n",
       "       'San Diego Metropolitan Transit System (MTS)',\n",
       "       'San Mateo County Transit District (SMCTD)',\n",
       "       'The Eastern Contra Costa Transit Authority'], dtype=object)"
      ]
     },
     "execution_count": 79,
     "metadata": {},
     "output_type": "execute_result"
    }
   ],
   "source": [
    "# Which agneices have these other service types?\n",
    "nonfixed_guideway_df[nonfixed_guideway_df[\"service\"].isin(service_other)][\"agency_name\"].unique()\n"
   ]
  },
  {
   "cell_type": "markdown",
   "id": "7528b279-3529-4bf4-bde0-b0dbf2940957",
   "metadata": {},
   "source": [
    "**RE: what to do with service columns**\n",
    "\n",
    "- The majority of rows are either Purchased Transportation or Directly Operated. close to a binary response so i think one-hot encode would be the best option.\n",
    "- Maybe consider removing the PT taxi and PT transportation netwok since there is a low count of rows"
   ]
  },
  {
   "cell_type": "markdown",
   "id": "78bb084c-f8b7-40b2-83b7-143674114a9d",
   "metadata": {},
   "source": [
    "## 3. \"Flattening\" data\n",
    "If we group by only Agency (flattening, fewer rows), how do we aggregate the other classification variables before we normalize them? Is adding sufficient? Do we need to average any?"
   ]
  },
  {
   "cell_type": "code",
   "execution_count": 47,
   "id": "ce8cd378-e6d3-4606-b4ad-040a5d7d00d2",
   "metadata": {},
   "outputs": [],
   "source": [
    "# agg the numerical row, end with each row being an agency\n",
    "group_id_cols = transit_metrics.groupby(id_cols).agg(\n",
    "    {col: \"sum\" for col in numerical_cols} \n",
    ").reset_index()\n",
    "\n",
    "# agg the numerical row, end with each row being a uniqu agency/mode/service\n",
    "group_id_mode_service = transit_metrics.groupby(id_cols+[\"mode\",\"service\"]).agg(\n",
    "    {col: \"sum\" for col in numerical_cols} \n",
    ").reset_index()\n",
    "\n",
    "# agg the numerical row, end with each row being an agency\n",
    "group_cat_cols = transit_metrics.groupby(categorical_cols).agg(\n",
    "    {col: \"sum\" for col in numerical_cols} \n",
    ").reset_index()"
   ]
  },
  {
   "cell_type": "code",
   "execution_count": 49,
   "id": "e58b2b25-c192-40cb-84cf-a4bab1b0b1e2",
   "metadata": {},
   "outputs": [
    {
     "data": {
      "text/plain": [
       "(True, True)"
      ]
     },
     "execution_count": 49,
     "metadata": {},
     "output_type": "execute_result"
    }
   ],
   "source": [
    "# double checking aggregation works\n",
    "(transit_metrics[transit_metrics[\"ntd_id\"]==\"90211\"][\"opexp_total\"].sum() == group_id_cols[group_id_cols[\"ntd_id\"]==\"90211\"][\"opexp_total\"].sum(),\n",
    "transit_metrics[transit_metrics[\"mode\"]==\"Bus\"][\"opexp_total\"].sum() == group_cat_cols[group_cat_cols[\"mode\"]==\"Bus\"][\"opexp_total\"].sum())"
   ]
  },
  {
   "cell_type": "code",
   "execution_count": 64,
   "id": "d9df4f18-573a-4590-967e-144937952d01",
   "metadata": {},
   "outputs": [
    {
     "data": {
      "text/plain": [
       "'group_id'"
      ]
     },
     "metadata": {},
     "output_type": "display_data"
    },
    {
     "data": {
      "text/plain": [
       "(168, 11)"
      ]
     },
     "metadata": {},
     "output_type": "display_data"
    },
    {
     "data": {
      "text/html": [
       "<div>\n",
       "<style scoped>\n",
       "    .dataframe tbody tr th:only-of-type {\n",
       "        vertical-align: middle;\n",
       "    }\n",
       "\n",
       "    .dataframe tbody tr th {\n",
       "        vertical-align: top;\n",
       "    }\n",
       "\n",
       "    .dataframe thead th {\n",
       "        text-align: right;\n",
       "    }\n",
       "</style>\n",
       "<table border=\"1\" class=\"dataframe\">\n",
       "  <thead>\n",
       "    <tr style=\"text-align: right;\">\n",
       "      <th></th>\n",
       "      <th>agency_name</th>\n",
       "      <th>city</th>\n",
       "      <th>ntd_id</th>\n",
       "      <th>state</th>\n",
       "      <th>primary_uza_name</th>\n",
       "      <th>RTPA</th>\n",
       "      <th>reporter_type</th>\n",
       "      <th>upt</th>\n",
       "      <th>vrh</th>\n",
       "      <th>vrm</th>\n",
       "      <th>opexp_total</th>\n",
       "    </tr>\n",
       "  </thead>\n",
       "  <tbody>\n",
       "    <tr>\n",
       "      <th>0</th>\n",
       "      <td>Access Services (AS)</td>\n",
       "      <td>El Monte</td>\n",
       "      <td>90157</td>\n",
       "      <td>CA</td>\n",
       "      <td>Los Angeles--Long Beach--Anaheim, CA</td>\n",
       "      <td>Southern California Association of Governments</td>\n",
       "      <td>Full Reporter</td>\n",
       "      <td>21100712</td>\n",
       "      <td>11073631</td>\n",
       "      <td>195345317</td>\n",
       "      <td>992266445</td>\n",
       "    </tr>\n",
       "    <tr>\n",
       "      <th>1</th>\n",
       "      <td>Alameda-Contra Costa Transit District</td>\n",
       "      <td>Oakland</td>\n",
       "      <td>90014</td>\n",
       "      <td>CA</td>\n",
       "      <td>San Francisco--Oakland, CA</td>\n",
       "      <td>Metropolitan Transportation Commission</td>\n",
       "      <td>Full Reporter</td>\n",
       "      <td>238095061</td>\n",
       "      <td>12968803</td>\n",
       "      <td>140963319</td>\n",
       "      <td>2864051248</td>\n",
       "    </tr>\n",
       "    <tr>\n",
       "      <th>2</th>\n",
       "      <td>Altamont Corridor Express (ACE)</td>\n",
       "      <td>Stockton</td>\n",
       "      <td>90182</td>\n",
       "      <td>CA</td>\n",
       "      <td>Stockton, CA</td>\n",
       "      <td>San Joaquin Council of Governments</td>\n",
       "      <td>Full Reporter</td>\n",
       "      <td>4923384</td>\n",
       "      <td>141171</td>\n",
       "      <td>5573755</td>\n",
       "      <td>143295615</td>\n",
       "    </tr>\n",
       "    <tr>\n",
       "      <th>3</th>\n",
       "      <td>Anaheim Transportation Network (ATN)</td>\n",
       "      <td>Anaheim</td>\n",
       "      <td>90211</td>\n",
       "      <td>CA</td>\n",
       "      <td>Los Angeles--Long Beach--Anaheim, CA</td>\n",
       "      <td>Southern California Association of Governments</td>\n",
       "      <td>Full Reporter</td>\n",
       "      <td>40740395</td>\n",
       "      <td>976178</td>\n",
       "      <td>6528424</td>\n",
       "      <td>82415962</td>\n",
       "    </tr>\n",
       "    <tr>\n",
       "      <th>4</th>\n",
       "      <td>Antelope Valley Transit Authority (AVTA)</td>\n",
       "      <td>Lancaster</td>\n",
       "      <td>90121</td>\n",
       "      <td>CA</td>\n",
       "      <td>Palmdale--Lancaster, CA</td>\n",
       "      <td>Southern California Association of Governments</td>\n",
       "      <td>Full Reporter</td>\n",
       "      <td>10230960</td>\n",
       "      <td>1222451</td>\n",
       "      <td>20620573</td>\n",
       "      <td>166805222</td>\n",
       "    </tr>\n",
       "  </tbody>\n",
       "</table>\n",
       "</div>"
      ],
      "text/plain": [
       "                                agency_name       city ntd_id state  \\\n",
       "0                      Access Services (AS)   El Monte  90157    CA   \n",
       "1     Alameda-Contra Costa Transit District    Oakland  90014    CA   \n",
       "2           Altamont Corridor Express (ACE)   Stockton  90182    CA   \n",
       "3      Anaheim Transportation Network (ATN)    Anaheim  90211    CA   \n",
       "4  Antelope Valley Transit Authority (AVTA)  Lancaster  90121    CA   \n",
       "\n",
       "                       primary_uza_name  \\\n",
       "0  Los Angeles--Long Beach--Anaheim, CA   \n",
       "1            San Francisco--Oakland, CA   \n",
       "2                          Stockton, CA   \n",
       "3  Los Angeles--Long Beach--Anaheim, CA   \n",
       "4               Palmdale--Lancaster, CA   \n",
       "\n",
       "                                             RTPA  reporter_type        upt  \\\n",
       "0  Southern California Association of Governments  Full Reporter   21100712   \n",
       "1          Metropolitan Transportation Commission  Full Reporter  238095061   \n",
       "2              San Joaquin Council of Governments  Full Reporter    4923384   \n",
       "3  Southern California Association of Governments  Full Reporter   40740395   \n",
       "4  Southern California Association of Governments  Full Reporter   10230960   \n",
       "\n",
       "        vrh        vrm  opexp_total  \n",
       "0  11073631  195345317    992266445  \n",
       "1  12968803  140963319   2864051248  \n",
       "2    141171    5573755    143295615  \n",
       "3    976178    6528424     82415962  \n",
       "4   1222451   20620573    166805222  "
      ]
     },
     "metadata": {},
     "output_type": "display_data"
    },
    {
     "data": {
      "text/plain": [
       "'group_id_mode_service'"
      ]
     },
     "metadata": {},
     "output_type": "display_data"
    },
    {
     "data": {
      "text/plain": [
       "(412, 13)"
      ]
     },
     "metadata": {},
     "output_type": "display_data"
    },
    {
     "data": {
      "text/plain": [
       "Purchased Transportation                                     286\n",
       "Directly Operated                                             98\n",
       "Purchased Transportation - Taxi                               23\n",
       "Purchased Transportation - Transportation Network Company      5\n",
       "Name: service, dtype: int64"
      ]
     },
     "metadata": {},
     "output_type": "display_data"
    },
    {
     "data": {
      "text/html": [
       "<div>\n",
       "<style scoped>\n",
       "    .dataframe tbody tr th:only-of-type {\n",
       "        vertical-align: middle;\n",
       "    }\n",
       "\n",
       "    .dataframe tbody tr th {\n",
       "        vertical-align: top;\n",
       "    }\n",
       "\n",
       "    .dataframe thead th {\n",
       "        text-align: right;\n",
       "    }\n",
       "</style>\n",
       "<table border=\"1\" class=\"dataframe\">\n",
       "  <thead>\n",
       "    <tr style=\"text-align: right;\">\n",
       "      <th></th>\n",
       "      <th>agency_name</th>\n",
       "      <th>city</th>\n",
       "      <th>ntd_id</th>\n",
       "      <th>state</th>\n",
       "      <th>primary_uza_name</th>\n",
       "      <th>RTPA</th>\n",
       "      <th>reporter_type</th>\n",
       "      <th>mode</th>\n",
       "      <th>service</th>\n",
       "      <th>upt</th>\n",
       "      <th>vrh</th>\n",
       "      <th>vrm</th>\n",
       "      <th>opexp_total</th>\n",
       "    </tr>\n",
       "  </thead>\n",
       "  <tbody>\n",
       "    <tr>\n",
       "      <th>0</th>\n",
       "      <td>Access Services (AS)</td>\n",
       "      <td>El Monte</td>\n",
       "      <td>90157</td>\n",
       "      <td>CA</td>\n",
       "      <td>Los Angeles--Long Beach--Anaheim, CA</td>\n",
       "      <td>Southern California Association of Governments</td>\n",
       "      <td>Full Reporter</td>\n",
       "      <td>Demand Response</td>\n",
       "      <td>Purchased Transportation</td>\n",
       "      <td>12734871</td>\n",
       "      <td>7976350</td>\n",
       "      <td>126080433</td>\n",
       "      <td>620608509</td>\n",
       "    </tr>\n",
       "    <tr>\n",
       "      <th>1</th>\n",
       "      <td>Access Services (AS)</td>\n",
       "      <td>El Monte</td>\n",
       "      <td>90157</td>\n",
       "      <td>CA</td>\n",
       "      <td>Los Angeles--Long Beach--Anaheim, CA</td>\n",
       "      <td>Southern California Association of Governments</td>\n",
       "      <td>Full Reporter</td>\n",
       "      <td>Demand Response</td>\n",
       "      <td>Purchased Transportation - Taxi</td>\n",
       "      <td>3960167</td>\n",
       "      <td>1450278</td>\n",
       "      <td>32927793</td>\n",
       "      <td>213127543</td>\n",
       "    </tr>\n",
       "    <tr>\n",
       "      <th>2</th>\n",
       "      <td>Access Services (AS)</td>\n",
       "      <td>El Monte</td>\n",
       "      <td>90157</td>\n",
       "      <td>CA</td>\n",
       "      <td>Los Angeles--Long Beach--Anaheim, CA</td>\n",
       "      <td>Southern California Association of Governments</td>\n",
       "      <td>Full Reporter</td>\n",
       "      <td>Demand Response Taxi</td>\n",
       "      <td>Purchased Transportation</td>\n",
       "      <td>4405674</td>\n",
       "      <td>1647003</td>\n",
       "      <td>36337091</td>\n",
       "      <td>158530393</td>\n",
       "    </tr>\n",
       "    <tr>\n",
       "      <th>3</th>\n",
       "      <td>Alameda-Contra Costa Transit District</td>\n",
       "      <td>Oakland</td>\n",
       "      <td>90014</td>\n",
       "      <td>CA</td>\n",
       "      <td>San Francisco--Oakland, CA</td>\n",
       "      <td>Metropolitan Transportation Commission</td>\n",
       "      <td>Full Reporter</td>\n",
       "      <td>Bus</td>\n",
       "      <td>Directly Operated</td>\n",
       "      <td>215515514</td>\n",
       "      <td>10283913</td>\n",
       "      <td>103547022</td>\n",
       "      <td>2438528359</td>\n",
       "    </tr>\n",
       "    <tr>\n",
       "      <th>4</th>\n",
       "      <td>Alameda-Contra Costa Transit District</td>\n",
       "      <td>Oakland</td>\n",
       "      <td>90014</td>\n",
       "      <td>CA</td>\n",
       "      <td>San Francisco--Oakland, CA</td>\n",
       "      <td>Metropolitan Transportation Commission</td>\n",
       "      <td>Full Reporter</td>\n",
       "      <td>Bus</td>\n",
       "      <td>Purchased Transportation</td>\n",
       "      <td>1124216</td>\n",
       "      <td>155406</td>\n",
       "      <td>2552511</td>\n",
       "      <td>18759885</td>\n",
       "    </tr>\n",
       "  </tbody>\n",
       "</table>\n",
       "</div>"
      ],
      "text/plain": [
       "                             agency_name      city ntd_id state  \\\n",
       "0                   Access Services (AS)  El Monte  90157    CA   \n",
       "1                   Access Services (AS)  El Monte  90157    CA   \n",
       "2                   Access Services (AS)  El Monte  90157    CA   \n",
       "3  Alameda-Contra Costa Transit District   Oakland  90014    CA   \n",
       "4  Alameda-Contra Costa Transit District   Oakland  90014    CA   \n",
       "\n",
       "                       primary_uza_name  \\\n",
       "0  Los Angeles--Long Beach--Anaheim, CA   \n",
       "1  Los Angeles--Long Beach--Anaheim, CA   \n",
       "2  Los Angeles--Long Beach--Anaheim, CA   \n",
       "3            San Francisco--Oakland, CA   \n",
       "4            San Francisco--Oakland, CA   \n",
       "\n",
       "                                             RTPA  reporter_type  \\\n",
       "0  Southern California Association of Governments  Full Reporter   \n",
       "1  Southern California Association of Governments  Full Reporter   \n",
       "2  Southern California Association of Governments  Full Reporter   \n",
       "3          Metropolitan Transportation Commission  Full Reporter   \n",
       "4          Metropolitan Transportation Commission  Full Reporter   \n",
       "\n",
       "                   mode                          service        upt       vrh  \\\n",
       "0       Demand Response         Purchased Transportation   12734871   7976350   \n",
       "1       Demand Response  Purchased Transportation - Taxi    3960167   1450278   \n",
       "2  Demand Response Taxi         Purchased Transportation    4405674   1647003   \n",
       "3                   Bus                Directly Operated  215515514  10283913   \n",
       "4                   Bus         Purchased Transportation    1124216    155406   \n",
       "\n",
       "         vrm  opexp_total  \n",
       "0  126080433    620608509  \n",
       "1   32927793    213127543  \n",
       "2   36337091    158530393  \n",
       "3  103547022   2438528359  \n",
       "4    2552511     18759885  "
      ]
     },
     "metadata": {},
     "output_type": "display_data"
    }
   ],
   "source": [
    "display(\"group_id\",\n",
    "    group_id_cols.shape,\n",
    "    #group_id_cols[\"service\"].value_counts(),  \n",
    "    group_id_cols.head(),\n",
    "    \"group_id_mode_service\",\n",
    "    group_id_mode_service.shape,\n",
    "    group_id_mode_service[\"service\"].value_counts(),\n",
    "    group_id_mode_service.head()\n",
    "    )"
   ]
  },
  {
   "cell_type": "code",
   "execution_count": 20,
   "id": "638a0797-2c20-4d9a-8409-2982dbbbedee",
   "metadata": {},
   "outputs": [
    {
     "data": {
      "text/plain": [
       "'group_cat'"
      ]
     },
     "metadata": {},
     "output_type": "display_data"
    },
    {
     "data": {
      "text/plain": [
       "(25, 6)"
      ]
     },
     "metadata": {},
     "output_type": "display_data"
    },
    {
     "data": {
      "text/html": [
       "<div>\n",
       "<style scoped>\n",
       "    .dataframe tbody tr th:only-of-type {\n",
       "        vertical-align: middle;\n",
       "    }\n",
       "\n",
       "    .dataframe tbody tr th {\n",
       "        vertical-align: top;\n",
       "    }\n",
       "\n",
       "    .dataframe thead th {\n",
       "        text-align: right;\n",
       "    }\n",
       "</style>\n",
       "<table border=\"1\" class=\"dataframe\">\n",
       "  <thead>\n",
       "    <tr style=\"text-align: right;\">\n",
       "      <th></th>\n",
       "      <th>mode</th>\n",
       "      <th>service</th>\n",
       "      <th>upt</th>\n",
       "      <th>vrh</th>\n",
       "      <th>vrm</th>\n",
       "      <th>opexp_total</th>\n",
       "    </tr>\n",
       "  </thead>\n",
       "  <tbody>\n",
       "    <tr>\n",
       "      <th>0</th>\n",
       "      <td>Bus</td>\n",
       "      <td>Directly Operated</td>\n",
       "      <td>2952883383</td>\n",
       "      <td>109698885</td>\n",
       "      <td>1187304414</td>\n",
       "      <td>21064786925</td>\n",
       "    </tr>\n",
       "    <tr>\n",
       "      <th>1</th>\n",
       "      <td>Bus</td>\n",
       "      <td>Purchased Transportation</td>\n",
       "      <td>636746541</td>\n",
       "      <td>45722527</td>\n",
       "      <td>581552826</td>\n",
       "      <td>5000145202</td>\n",
       "    </tr>\n",
       "    <tr>\n",
       "      <th>2</th>\n",
       "      <td>Bus Rapid Transit</td>\n",
       "      <td>Directly Operated</td>\n",
       "      <td>40599424</td>\n",
       "      <td>828979</td>\n",
       "      <td>11343877</td>\n",
       "      <td>251967151</td>\n",
       "    </tr>\n",
       "    <tr>\n",
       "      <th>3</th>\n",
       "      <td>Cable Car</td>\n",
       "      <td>Directly Operated</td>\n",
       "      <td>21089173</td>\n",
       "      <td>551837</td>\n",
       "      <td>1139285</td>\n",
       "      <td>373274268</td>\n",
       "    </tr>\n",
       "    <tr>\n",
       "      <th>4</th>\n",
       "      <td>Commuter Bus</td>\n",
       "      <td>Directly Operated</td>\n",
       "      <td>11604823</td>\n",
       "      <td>769809</td>\n",
       "      <td>16510747</td>\n",
       "      <td>195171589</td>\n",
       "    </tr>\n",
       "  </tbody>\n",
       "</table>\n",
       "</div>"
      ],
      "text/plain": [
       "                mode                   service         upt        vrh  \\\n",
       "0                Bus         Directly Operated  2952883383  109698885   \n",
       "1                Bus  Purchased Transportation   636746541   45722527   \n",
       "2  Bus Rapid Transit         Directly Operated    40599424     828979   \n",
       "3          Cable Car         Directly Operated    21089173     551837   \n",
       "4       Commuter Bus         Directly Operated    11604823     769809   \n",
       "\n",
       "          vrm  opexp_total  \n",
       "0  1187304414  21064786925  \n",
       "1   581552826   5000145202  \n",
       "2    11343877    251967151  \n",
       "3     1139285    373274268  \n",
       "4    16510747    195171589  "
      ]
     },
     "metadata": {},
     "output_type": "display_data"
    }
   ],
   "source": [
    "display(\"group_cat\",\n",
    "    group_cat.shape,\n",
    "    group_cat.head()\n",
    ")"
   ]
  },
  {
   "cell_type": "markdown",
   "id": "a240d983-269d-43ca-a281-2595a34d4f26",
   "metadata": {},
   "source": [
    "### compared to `ntd_metrics_merge`"
   ]
  },
  {
   "cell_type": "code",
   "execution_count": 21,
   "id": "0226e32c-9703-4a61-b92e-21a3c348b178",
   "metadata": {},
   "outputs": [
    {
     "data": {
      "text/html": [
       "<div>\n",
       "<style scoped>\n",
       "    .dataframe tbody tr th:only-of-type {\n",
       "        vertical-align: middle;\n",
       "    }\n",
       "\n",
       "    .dataframe tbody tr th {\n",
       "        vertical-align: top;\n",
       "    }\n",
       "\n",
       "    .dataframe thead th {\n",
       "        text-align: right;\n",
       "    }\n",
       "</style>\n",
       "<table border=\"1\" class=\"dataframe\">\n",
       "  <thead>\n",
       "    <tr style=\"text-align: right;\">\n",
       "      <th></th>\n",
       "      <th>ntd_id</th>\n",
       "      <th>source_agency</th>\n",
       "      <th>agency_status</th>\n",
       "      <th>primary_uza_name</th>\n",
       "      <th>uza_population</th>\n",
       "      <th>uza_area_sq_miles</th>\n",
       "      <th>year</th>\n",
       "      <th>total_opexp_total</th>\n",
       "      <th>total_upt</th>\n",
       "      <th>total_vrh</th>\n",
       "    </tr>\n",
       "  </thead>\n",
       "  <tbody>\n",
       "    <tr>\n",
       "      <th>0</th>\n",
       "      <td>90198</td>\n",
       "      <td>City of Porterville (COLT) - Transit Department</td>\n",
       "      <td>Active</td>\n",
       "      <td>Porterville, CA</td>\n",
       "      <td>69862</td>\n",
       "      <td>16.35</td>\n",
       "      <td>2022</td>\n",
       "      <td>3945984.0</td>\n",
       "      <td>260879.0</td>\n",
       "      <td>41460.0</td>\n",
       "    </tr>\n",
       "    <tr>\n",
       "      <th>1</th>\n",
       "      <td>90198</td>\n",
       "      <td>City of Porterville (COLT) - Transit Department</td>\n",
       "      <td>Active</td>\n",
       "      <td>Porterville, CA</td>\n",
       "      <td>69862</td>\n",
       "      <td>16.35</td>\n",
       "      <td>2023</td>\n",
       "      <td>NaN</td>\n",
       "      <td>NaN</td>\n",
       "      <td>NaN</td>\n",
       "    </tr>\n",
       "    <tr>\n",
       "      <th>2</th>\n",
       "      <td>90198</td>\n",
       "      <td>City of Porterville (COLT) - Transit Department</td>\n",
       "      <td>Active</td>\n",
       "      <td>Porterville, CA</td>\n",
       "      <td>69862</td>\n",
       "      <td>16.35</td>\n",
       "      <td>2019</td>\n",
       "      <td>4014118.0</td>\n",
       "      <td>635559.0</td>\n",
       "      <td>52834.0</td>\n",
       "    </tr>\n",
       "    <tr>\n",
       "      <th>3</th>\n",
       "      <td>90198</td>\n",
       "      <td>City of Porterville (COLT) - Transit Department</td>\n",
       "      <td>Active</td>\n",
       "      <td>Porterville, CA</td>\n",
       "      <td>69862</td>\n",
       "      <td>16.35</td>\n",
       "      <td>2021</td>\n",
       "      <td>3609990.0</td>\n",
       "      <td>174595.0</td>\n",
       "      <td>30773.0</td>\n",
       "    </tr>\n",
       "    <tr>\n",
       "      <th>4</th>\n",
       "      <td>90198</td>\n",
       "      <td>City of Porterville (COLT) - Transit Department</td>\n",
       "      <td>Active</td>\n",
       "      <td>Porterville, CA</td>\n",
       "      <td>69862</td>\n",
       "      <td>16.35</td>\n",
       "      <td>2020</td>\n",
       "      <td>4212765.0</td>\n",
       "      <td>522056.0</td>\n",
       "      <td>47356.0</td>\n",
       "    </tr>\n",
       "  </tbody>\n",
       "</table>\n",
       "</div>"
      ],
      "text/plain": [
       "  ntd_id                                    source_agency agency_status  \\\n",
       "0  90198  City of Porterville (COLT) - Transit Department        Active   \n",
       "1  90198  City of Porterville (COLT) - Transit Department        Active   \n",
       "2  90198  City of Porterville (COLT) - Transit Department        Active   \n",
       "3  90198  City of Porterville (COLT) - Transit Department        Active   \n",
       "4  90198  City of Porterville (COLT) - Transit Department        Active   \n",
       "\n",
       "  primary_uza_name  uza_population  uza_area_sq_miles  year  \\\n",
       "0  Porterville, CA           69862              16.35  2022   \n",
       "1  Porterville, CA           69862              16.35  2023   \n",
       "2  Porterville, CA           69862              16.35  2019   \n",
       "3  Porterville, CA           69862              16.35  2021   \n",
       "4  Porterville, CA           69862              16.35  2020   \n",
       "\n",
       "   total_opexp_total  total_upt  total_vrh  \n",
       "0          3945984.0   260879.0    41460.0  \n",
       "1                NaN        NaN        NaN  \n",
       "2          4014118.0   635559.0    52834.0  \n",
       "3          3609990.0   174595.0    30773.0  \n",
       "4          4212765.0   522056.0    47356.0  "
      ]
     },
     "execution_count": 21,
     "metadata": {},
     "output_type": "execute_result"
    }
   ],
   "source": [
    "ntd_metrics_merge.head()"
   ]
  },
  {
   "cell_type": "code",
   "execution_count": 50,
   "id": "3e100df3-f46a-4236-88d4-7a843a971a46",
   "metadata": {},
   "outputs": [
    {
     "data": {
      "text/plain": [
       "True"
      ]
     },
     "execution_count": 50,
     "metadata": {},
     "output_type": "execute_result"
    }
   ],
   "source": [
    "group_id_cols[group_id_cols[\"ntd_id\"]==\"90211\"][\"opexp_total\"].sum() == ntd_metrics_merge[ntd_metrics_merge[\"ntd_id\"]==\"90211\"][\"total_opexp_total\"].sum()"
   ]
  },
  {
   "cell_type": "markdown",
   "id": "abe599ba-5923-4704-b0ca-b77ddce20a39",
   "metadata": {
    "tags": []
   },
   "source": [
    "For an aggregated dataset, we can use the queried ntd data"
   ]
  },
  {
   "cell_type": "code",
   "execution_count": 51,
   "id": "109a4df3-8929-400a-bd41-10b285d30c88",
   "metadata": {},
   "outputs": [],
   "source": [
    "merge_group = ntd_metrics_merge.groupby(\n",
    "    [\"ntd_id\",\"source_agency\",\"primary_uza_name\",\"uza_population\",\"uza_area_sq_miles\"]\n",
    ").agg({\n",
    "    \"total_opexp_total\":\"sum\",\n",
    "    \"total_upt\":\"sum\",\n",
    "    \"total_vrh\":\"sum\"\n",
    "}).reset_index()"
   ]
  },
  {
   "cell_type": "code",
   "execution_count": 52,
   "id": "7d9c4437-e116-4a50-b39c-4b51104bd257",
   "metadata": {},
   "outputs": [
    {
     "data": {
      "text/html": [
       "<div>\n",
       "<style scoped>\n",
       "    .dataframe tbody tr th:only-of-type {\n",
       "        vertical-align: middle;\n",
       "    }\n",
       "\n",
       "    .dataframe tbody tr th {\n",
       "        vertical-align: top;\n",
       "    }\n",
       "\n",
       "    .dataframe thead th {\n",
       "        text-align: right;\n",
       "    }\n",
       "</style>\n",
       "<table border=\"1\" class=\"dataframe\">\n",
       "  <thead>\n",
       "    <tr style=\"text-align: right;\">\n",
       "      <th></th>\n",
       "      <th>ntd_id</th>\n",
       "      <th>source_agency</th>\n",
       "      <th>primary_uza_name</th>\n",
       "      <th>uza_population</th>\n",
       "      <th>uza_area_sq_miles</th>\n",
       "      <th>total_opexp_total</th>\n",
       "      <th>total_upt</th>\n",
       "      <th>total_vrh</th>\n",
       "    </tr>\n",
       "  </thead>\n",
       "  <tbody>\n",
       "    <tr>\n",
       "      <th>0</th>\n",
       "      <td>90003</td>\n",
       "      <td>San Francisco Bay Area Rapid Transit District ...</td>\n",
       "      <td>San Francisco--Oakland, CA</td>\n",
       "      <td>3515933</td>\n",
       "      <td>513.80</td>\n",
       "      <td>4.109168e+09</td>\n",
       "      <td>455096497.0</td>\n",
       "      <td>13481404.0</td>\n",
       "    </tr>\n",
       "    <tr>\n",
       "      <th>1</th>\n",
       "      <td>90004</td>\n",
       "      <td>Golden Empire Transit District (GET)</td>\n",
       "      <td>Bakersfield, CA</td>\n",
       "      <td>570235</td>\n",
       "      <td>132.12</td>\n",
       "      <td>1.938957e+08</td>\n",
       "      <td>27369380.0</td>\n",
       "      <td>1871722.0</td>\n",
       "    </tr>\n",
       "    <tr>\n",
       "      <th>2</th>\n",
       "      <td>90006</td>\n",
       "      <td>Santa Cruz Metropolitan Transit District (SCMTD)</td>\n",
       "      <td>Santa Cruz, CA</td>\n",
       "      <td>169038</td>\n",
       "      <td>60.45</td>\n",
       "      <td>2.828370e+08</td>\n",
       "      <td>20980309.0</td>\n",
       "      <td>1318828.0</td>\n",
       "    </tr>\n",
       "    <tr>\n",
       "      <th>3</th>\n",
       "      <td>90007</td>\n",
       "      <td>City of Modesto (MAX)</td>\n",
       "      <td>Modesto, CA</td>\n",
       "      <td>357301</td>\n",
       "      <td>70.38</td>\n",
       "      <td>7.735015e+07</td>\n",
       "      <td>8170544.0</td>\n",
       "      <td>809165.0</td>\n",
       "    </tr>\n",
       "    <tr>\n",
       "      <th>4</th>\n",
       "      <td>90008</td>\n",
       "      <td>City of Santa Monica (BBB) - Department of Tra...</td>\n",
       "      <td>Los Angeles--Long Beach--Anaheim, CA</td>\n",
       "      <td>12237376</td>\n",
       "      <td>1636.83</td>\n",
       "      <td>4.715525e+08</td>\n",
       "      <td>55239107.0</td>\n",
       "      <td>2879128.0</td>\n",
       "    </tr>\n",
       "  </tbody>\n",
       "</table>\n",
       "</div>"
      ],
      "text/plain": [
       "  ntd_id                                      source_agency  \\\n",
       "0  90003  San Francisco Bay Area Rapid Transit District ...   \n",
       "1  90004               Golden Empire Transit District (GET)   \n",
       "2  90006   Santa Cruz Metropolitan Transit District (SCMTD)   \n",
       "3  90007                              City of Modesto (MAX)   \n",
       "4  90008  City of Santa Monica (BBB) - Department of Tra...   \n",
       "\n",
       "                       primary_uza_name  uza_population  uza_area_sq_miles  \\\n",
       "0            San Francisco--Oakland, CA         3515933             513.80   \n",
       "1                       Bakersfield, CA          570235             132.12   \n",
       "2                        Santa Cruz, CA          169038              60.45   \n",
       "3                           Modesto, CA          357301              70.38   \n",
       "4  Los Angeles--Long Beach--Anaheim, CA        12237376            1636.83   \n",
       "\n",
       "   total_opexp_total    total_upt   total_vrh  \n",
       "0       4.109168e+09  455096497.0  13481404.0  \n",
       "1       1.938957e+08   27369380.0   1871722.0  \n",
       "2       2.828370e+08   20980309.0   1318828.0  \n",
       "3       7.735015e+07    8170544.0    809165.0  \n",
       "4       4.715525e+08   55239107.0   2879128.0  "
      ]
     },
     "execution_count": 52,
     "metadata": {},
     "output_type": "execute_result"
    }
   ],
   "source": [
    "merge_group.head()"
   ]
  },
  {
   "cell_type": "code",
   "execution_count": 61,
   "id": "1a47cd7d-2268-4705-b5e8-65b7a2918519",
   "metadata": {
    "tags": []
   },
   "outputs": [
    {
     "data": {
      "text/plain": [
       "True"
      ]
     },
     "execution_count": 61,
     "metadata": {},
     "output_type": "execute_result"
    }
   ],
   "source": [
    "group_id_cols[group_id_cols[\"ntd_id\"]==\"90211\"][\"opexp_total\"].sum() == merge_group[merge_group[\"ntd_id\"]==\"90211\"][\"total_opexp_total\"].sum()"
   ]
  },
  {
   "cell_type": "markdown",
   "id": "2dda8c14-f784-4191-a6b5-32ed4693293d",
   "metadata": {
    "jp-MarkdownHeadingCollapsed": true,
    "tags": []
   },
   "source": [
    "**This establishes we can aggregate up to just agecny level data.**"
   ]
  },
  {
   "cell_type": "markdown",
   "id": "1490de37-265c-4caf-bd85-aecffd3c59c5",
   "metadata": {},
   "source": [
    "# Are there ways to get more interactive/easy-to-read visualizations?\n",
    "If it takes significant time, break this one out"
   ]
  },
  {
   "cell_type": "code",
   "execution_count": 81,
   "id": "8d1c477b-6726-426b-b021-b133601c0dc1",
   "metadata": {
    "tags": []
   },
   "outputs": [],
   "source": [
    "import plotly.express as px"
   ]
  },
  {
   "cell_type": "code",
   "execution_count": 84,
   "id": "a8809a58-c741-4ba2-aa9c-174b9d5c480d",
   "metadata": {
    "tags": []
   },
   "outputs": [
    {
     "data": {
      "text/plain": [
       "Index(['agency_name', 'city', 'ntd_id', 'state', 'primary_uza_name', 'RTPA',\n",
       "       'reporter_type', 'mode', 'service', 'upt', 'vrh', 'vrm', 'opexp_total'],\n",
       "      dtype='object')"
      ]
     },
     "execution_count": 84,
     "metadata": {},
     "output_type": "execute_result"
    }
   ],
   "source": [
    "group_id_mode_service.columns"
   ]
  },
  {
   "cell_type": "code",
   "execution_count": 85,
   "id": "b55b1b60-01c6-4699-8646-15d938dcfab7",
   "metadata": {},
   "outputs": [
    {
     "data": {
      "application/vnd.plotly.v1+json": {
       "config": {
        "plotlyServerURL": "https://plot.ly"
       },
       "data": [
        {
         "hovertemplate": "service=Purchased Transportation<br>upt=%{x}<br>vrh=%{y}<br>vrm=%{z}<extra></extra>",
         "legendgroup": "Purchased Transportation",
         "marker": {
          "color": "#636efa",
          "symbol": "circle"
         },
         "mode": "markers",
         "name": "Purchased Transportation",
         "scene": "scene",
         "showlegend": true,
         "type": "scatter3d",
         "x": [
          12734871,
          4405674,
          1124216,
          3004215,
          4923384,
          40298090,
          442305,
          8831372,
          1088810,
          310778,
          4128812,
          595485,
          17041,
          648396,
          1693042,
          30313,
          1612230,
          177704,
          200737,
          113695,
          18062,
          57184,
          506787,
          58010,
          151002,
          14658,
          13308,
          663121,
          131411,
          296781,
          27522,
          38988,
          1063990,
          230035,
          14523,
          291615,
          395148,
          581259,
          106111,
          371383,
          104673,
          47071,
          33675,
          339449,
          641333,
          224858,
          90444,
          398706,
          14779,
          420382,
          62353,
          1699869,
          93826,
          1124595,
          1065142,
          65813,
          5039,
          6504,
          2218320,
          1214846,
          88991,
          974843,
          5551520,
          180307,
          124039,
          91785,
          582182,
          54997,
          25054,
          182432,
          1171071,
          64151,
          137133,
          1136401,
          121933,
          348983,
          83913,
          52390,
          82943847,
          5874765,
          1039164,
          128055,
          753905,
          448346,
          89721,
          3646,
          5287,
          247084,
          49786,
          508041,
          23698,
          7867813,
          291469,
          9586,
          78669,
          196495,
          36217,
          147524,
          682160,
          202950,
          0,
          97556,
          7376352,
          353858,
          1441938,
          69687,
          28559,
          2137757,
          103981,
          1710379,
          60264,
          279196,
          39940,
          823005,
          436574,
          126501,
          3806092,
          10966247,
          1749991,
          586551,
          2918693,
          117256,
          40447,
          25677,
          35374,
          172726,
          740309,
          288814,
          709523,
          345056,
          114370,
          649862,
          106470,
          1015238,
          56182,
          1037723,
          51698,
          1324894,
          89614,
          1589123,
          108125,
          5278565,
          125615,
          182335,
          189792,
          62027,
          428293,
          58365,
          309142,
          35604,
          242134,
          625006,
          75076,
          17738,
          211251,
          177522,
          0,
          3978322,
          260006,
          258276,
          0,
          55277160,
          549328,
          140278,
          3487012,
          126728,
          1304985,
          445099,
          2971466,
          107926,
          350906,
          7120774,
          146318,
          163958,
          976387,
          963627,
          147714,
          186753,
          215623,
          3280207,
          63402,
          239190,
          319072,
          138941,
          231393,
          21249,
          61374627,
          13083672,
          126187,
          31439,
          14737411,
          420761,
          2999062,
          2447038,
          935821,
          42559,
          3266381,
          444321,
          517123,
          29577463,
          4524670,
          696420,
          9534608,
          666001,
          1321411,
          54056398,
          262081,
          5417363,
          330889,
          0,
          4184679,
          691250,
          7482,
          82352,
          117198,
          1475915,
          62190398,
          379435,
          136868,
          2716278,
          201094,
          528595,
          5765631,
          215731,
          1543320,
          25173,
          0,
          0,
          493283,
          7758304,
          110837372,
          986926,
          1827015,
          69263,
          0,
          0,
          3369844,
          11893820,
          2671031,
          1292486,
          458429,
          159388,
          122603,
          77266,
          12267090,
          1117318,
          222847,
          589372,
          1378056,
          1941330,
          236000,
          2874359,
          2873742,
          134890,
          0,
          45932098,
          52346,
          955734,
          14396,
          138294,
          4046688,
          69056,
          250738,
          110958,
          8070413,
          738550,
          40235,
          3700886,
          276477,
          885760,
          72055,
          235321,
          2694279,
          145576,
          6023439,
          208826,
          795815,
          3015548,
          3467638,
          1259628,
          154722,
          5091620,
          144189,
          3257494,
          462229,
          272293
         ],
         "y": [
          7976350,
          1647003,
          155406,
          1929662,
          141171,
          914722,
          61456,
          900776,
          159800,
          161875,
          404700,
          183066,
          15966,
          351552,
          1076689,
          16063,
          96829,
          88710,
          85380,
          62018,
          1582,
          21774,
          108006,
          21812,
          19553,
          10694,
          1290,
          55838,
          28048,
          30176,
          14791,
          25669,
          144288,
          48109,
          23530,
          31028,
          121366,
          76058,
          11532,
          61162,
          27280,
          6130,
          4481,
          90330,
          86884,
          67653,
          36810,
          20796,
          2588,
          62921,
          26568,
          127986,
          39907,
          150618,
          63468,
          45410,
          4537,
          2797,
          257471,
          143506,
          50909,
          492488,
          533580,
          57965,
          32982,
          51696,
          77459,
          10370,
          4883,
          34626,
          59807,
          19568,
          20989,
          118589,
          51891,
          92048,
          4630,
          33659,
          3739117,
          498767,
          596035,
          17011,
          83516,
          94511,
          42478,
          1717,
          2866,
          73895,
          20026,
          17032,
          9057,
          701643,
          103012,
          3869,
          40988,
          11217,
          6725,
          11124,
          60789,
          34425,
          0,
          38597,
          410477,
          117986,
          113536,
          38203,
          10848,
          192662,
          32560,
          198856,
          38950,
          53320,
          29108,
          194894,
          33837,
          58206,
          198822,
          694632,
          178031,
          265868,
          305901,
          39181,
          22775,
          4521,
          15398,
          85624,
          70458,
          24659,
          121229,
          155686,
          21865,
          145111,
          54831,
          122727,
          21345,
          154512,
          22802,
          229453,
          67479,
          144578,
          40273,
          719095,
          39238,
          64069,
          68350,
          33279,
          88231,
          42857,
          113755,
          24827,
          12670,
          148209,
          17323,
          12525,
          52737,
          52839,
          0,
          508358,
          165256,
          19721,
          0,
          4996043,
          248972,
          86592,
          231066,
          70560,
          313609,
          207472,
          263119,
          39972,
          39486,
          631550,
          110483,
          102276,
          39341,
          99282,
          22129,
          23940,
          19675,
          172903,
          33564,
          40032,
          19672,
          76925,
          39325,
          11256,
          2714121,
          3241387,
          47832,
          17767,
          1090513,
          209143,
          708723,
          318974,
          483953,
          7019,
          318876,
          93016,
          191219,
          2599061,
          188049,
          402386,
          164336,
          178595,
          652978,
          3245005,
          42730,
          2903623,
          62532,
          0,
          865540,
          95666,
          1390,
          60245,
          40382,
          141789,
          1243871,
          120476,
          28826,
          250630,
          69854,
          126908,
          957447,
          63953,
          813941,
          13916,
          0,
          0,
          128633,
          1842088,
          6248660,
          53582,
          913761,
          20858,
          0,
          0,
          116589,
          114069,
          650385,
          177329,
          52688,
          93035,
          32771,
          12149,
          1029166,
          704575,
          80769,
          36919,
          102789,
          1360251,
          132077,
          298341,
          223970,
          67025,
          0,
          1996532,
          14815,
          169856,
          4367,
          72268,
          419366,
          21241,
          110524,
          25333,
          874134,
          306465,
          9919,
          647453,
          156146,
          141186,
          23722,
          38745,
          353327,
          85476,
          1068263,
          37607,
          298247,
          616249,
          384414,
          89041,
          70820,
          515625,
          104691,
          276025,
          46564,
          121138
         ],
         "z": [
          126080433,
          36337091,
          2552511,
          26985843,
          5573755,
          6035251,
          493173,
          13254582,
          4821789,
          2544202,
          5868461,
          1588599,
          194414,
          5283896,
          7837391,
          266904,
          997862,
          561534,
          965080,
          438448,
          25383,
          237752,
          1147087,
          171387,
          197549,
          54800,
          32966,
          582414,
          209442,
          431148,
          107177,
          109609,
          1540175,
          511860,
          72173,
          350227,
          1908591,
          940995,
          188858,
          808391,
          284303,
          55702,
          71360,
          974416,
          1034016,
          858262,
          300981,
          204207,
          38617,
          639040,
          233720,
          1109717,
          355388,
          2055435,
          1168491,
          501492,
          108377,
          13471,
          3430819,
          4704367,
          779472,
          5612046,
          4703094,
          661226,
          351863,
          412350,
          725450,
          103002,
          69912,
          321505,
          591355,
          167665,
          222420,
          1377142,
          430540,
          1261267,
          191634,
          200221,
          36337796,
          11854898,
          4486122,
          243596,
          843537,
          1287527,
          496485,
          33085,
          53514,
          978109,
          198435,
          180862,
          113717,
          8022540,
          1333409,
          38429,
          267119,
          119059,
          51804,
          185623,
          723034,
          495643,
          0,
          248567,
          4249882,
          1141496,
          1398015,
          284948,
          88212,
          2560893,
          374142,
          2255915,
          293971,
          658756,
          209059,
          2517960,
          707985,
          675278,
          2169822,
          10417446,
          4587549,
          3951912,
          4730901,
          604638,
          131419,
          50257,
          140015,
          979062,
          825898,
          369848,
          1862132,
          2597691,
          449082,
          1750792,
          437488,
          2258124,
          219874,
          1699146,
          214387,
          2980380,
          327516,
          1919810,
          500969,
          10352892,
          1498297,
          907387,
          961116,
          295507,
          680703,
          218654,
          927975,
          415604,
          409534,
          1762125,
          766441,
          386861,
          1484677,
          593616,
          0,
          8326770,
          2357389,
          247856,
          0,
          70558791,
          3906614,
          1588391,
          4700895,
          1562787,
          11284309,
          1805938,
          4349207,
          450346,
          1936208,
          8543039,
          1309504,
          992756,
          344242,
          1225073,
          234261,
          264341,
          219932,
          1417870,
          294129,
          214075,
          180719,
          950511,
          465160,
          118153,
          31866700,
          130179437,
          1387497,
          236401,
          15168305,
          3160444,
          32490183,
          4888854,
          6701991,
          310052,
          4974831,
          2485817,
          1547838,
          31870463,
          6218660,
          6830189,
          3606463,
          2396252,
          10003540,
          39307424,
          879342,
          44485736,
          893014,
          0,
          31769675,
          1422611,
          26026,
          952166,
          791845,
          1508862,
          40264769,
          1376269,
          608000,
          4134087,
          1208917,
          5040551,
          14642023,
          1632278,
          13834540,
          375038,
          0,
          0,
          5164178,
          78255030,
          63660311,
          1551030,
          16640414,
          687812,
          0,
          0,
          1839575,
          2324550,
          27902940,
          2683967,
          1694005,
          1367236,
          766581,
          643071,
          13305170,
          8964157,
          2150980,
          1605272,
          1037397,
          21551055,
          2111732,
          3354317,
          5505741,
          650289,
          0,
          72782609,
          716703,
          3192071,
          144856,
          915876,
          5758314,
          546782,
          1569037,
          1357521,
          11208649,
          4130367,
          280052,
          9830285,
          2120015,
          2581131,
          262864,
          608431,
          8515692,
          894649,
          18594182,
          1425794,
          4545103,
          30138660,
          6114271,
          2466533,
          873291,
          10245339,
          1851119,
          3274244,
          1758833,
          1472415
         ]
        },
        {
         "hovertemplate": "service=Purchased Transportation - Taxi<br>upt=%{x}<br>vrh=%{y}<br>vrm=%{z}<extra></extra>",
         "legendgroup": "Purchased Transportation - Taxi",
         "marker": {
          "color": "#EF553B",
          "symbol": "circle"
         },
         "mode": "markers",
         "name": "Purchased Transportation - Taxi",
         "scene": "scene",
         "showlegend": true,
         "type": "scatter3d",
         "x": [
          3960167,
          9620,
          16962,
          110714,
          22672,
          24000,
          119645,
          344852,
          1676,
          179756,
          214372,
          114430,
          30800,
          1188316,
          5013,
          57806,
          120676,
          8271,
          0,
          171065,
          99603,
          143132,
          65395
         ],
         "y": [
          1450278,
          1301,
          1892,
          13572,
          3527,
          3793,
          21589,
          54107,
          641,
          13236,
          33051,
          16579,
          11882,
          470461,
          1125,
          19642,
          30217,
          4036,
          0,
          54744,
          24530,
          54086,
          37869
         ],
         "z": [
          32927793,
          21429,
          33093,
          219290,
          42051,
          54305,
          203340,
          699421,
          6705,
          214471,
          487076,
          413469,
          243018,
          9986879,
          19827,
          419070,
          531255,
          98596,
          0,
          1804052,
          536813,
          1581576,
          565986
         ]
        },
        {
         "hovertemplate": "service=Directly Operated<br>upt=%{x}<br>vrh=%{y}<br>vrm=%{z}<extra></extra>",
         "legendgroup": "Directly Operated",
         "marker": {
          "color": "#00cc96",
          "symbol": "circle"
         },
         "mode": "markers",
         "name": "Directly Operated",
         "scene": "scene",
         "showlegend": true,
         "type": "scatter3d",
         "x": [
          215515514,
          10012230,
          8398451,
          40435,
          20883232,
          14902501,
          475941074,
          21089173,
          177918695,
          25189744,
          220737578,
          152917,
          92850,
          5926,
          2051591,
          52374,
          14368,
          19478626,
          30836,
          79619,
          30199,
          273107,
          207594,
          16481,
          119229,
          20756,
          50134340,
          13095107,
          86122,
          17631,
          122209,
          2301955,
          63681,
          89711,
          21748623,
          47965,
          6565268,
          340064,
          556367,
          31674,
          55089948,
          8129232,
          1124278,
          210294,
          42110,
          16192493,
          3099451,
          2964,
          4270,
          378648,
          813304,
          459966,
          153887,
          17071752,
          26828371,
          541009,
          11546318,
          8696753,
          113619230,
          1249836272,
          30587194,
          1241306,
          191313453,
          258260693,
          14169726,
          75699,
          825564,
          1705577,
          44337623,
          131237053,
          313343,
          959919,
          27858474,
          1213515,
          46779359,
          1383310,
          43956473,
          101867427,
          191595181,
          444622064,
          7104589,
          13348749,
          68533,
          60135,
          4727817,
          250451,
          39173307,
          28865906,
          120854145,
          0,
          31843960,
          19524814,
          1072352,
          383143,
          3037255,
          18105605,
          716622,
          15984579
         ],
         "y": [
          10283913,
          229273,
          363100,
          7449,
          2074368,
          1206496,
          9948289,
          551837,
          2818225,
          364561,
          4379827,
          54334,
          24699,
          4485,
          207269,
          37970,
          3731,
          875054,
          7642,
          26600,
          9981,
          11738,
          25679,
          2599,
          12281,
          7190,
          2446450,
          654088,
          37524,
          3535,
          41136,
          116803,
          44467,
          26827,
          1150744,
          16423,
          553543,
          35884,
          185473,
          10644,
          2839005,
          426131,
          159904,
          70669,
          19803,
          846215,
          364401,
          375,
          1083,
          152350,
          147502,
          35347,
          68917,
          1135551,
          1581266,
          290456,
          1101718,
          71278,
          3797549,
          34903942,
          599706,
          409154,
          1814570,
          4464909,
          981999,
          23908,
          52108,
          28923,
          3166011,
          5399784,
          24893,
          582718,
          2203177,
          203974,
          3430943,
          555394,
          1297840,
          4807339,
          3360018,
          13166018,
          198797,
          696805,
          14226,
          37354,
          317037,
          154069,
          2565362,
          1172370,
          7475266,
          0,
          1201700,
          996756,
          103986,
          218086,
          176553,
          1249740,
          356228,
          396861
         ],
         "z": [
          103547022,
          1981875,
          5777682,
          118386,
          61687512,
          13134305,
          77885693,
          1139285,
          25477828,
          1845668,
          26990327,
          383797,
          188609,
          41888,
          2193848,
          391408,
          49298,
          8970656,
          67512,
          308774,
          96370,
          140882,
          237006,
          24864,
          193650,
          94320,
          28019477,
          8126625,
          269987,
          33962,
          369096,
          1003414,
          365139,
          188758,
          11613103,
          126953,
          6187524,
          452067,
          2497397,
          85268,
          25891738,
          4789888,
          2358105,
          746932,
          159207,
          10745066,
          7479129,
          12418,
          26987,
          2864008,
          2771570,
          1078714,
          1340195,
          12524188,
          19970743,
          4238988,
          18914052,
          948061,
          37190585,
          360634231,
          9362002,
          5359367,
          39094419,
          91808996,
          15731858,
          768473,
          1682633,
          636450,
          42543435,
          61727489,
          591804,
          8437499,
          28942427,
          5037198,
          39245652,
          8301562,
          23109296,
          56542499,
          61092178,
          435132944,
          5840831,
          7941507,
          437492,
          698046,
          7517807,
          2246041,
          25163733,
          14126882,
          87005844,
          0,
          17360305,
          12644651,
          2806966,
          2311554,
          4566095,
          18902775,
          5176204,
          4217438
         ]
        },
        {
         "hovertemplate": "service=Purchased Transportation - Transportation Network Company<br>upt=%{x}<br>vrh=%{y}<br>vrm=%{z}<extra></extra>",
         "legendgroup": "Purchased Transportation - Transportation Network Company",
         "marker": {
          "color": "#ab63fa",
          "symbol": "circle"
         },
         "mode": "markers",
         "name": "Purchased Transportation - Transportation Network Company",
         "scene": "scene",
         "showlegend": true,
         "type": "scatter3d",
         "x": [
          18548,
          30,
          83035,
          69123,
          126838
         ],
         "y": [
          2279,
          9,
          12827,
          25979,
          31082
         ],
         "z": [
          42363,
          281,
          144993,
          570368,
          855799
         ]
        }
       ],
       "layout": {
        "autosize": true,
        "legend": {
         "title": {
          "text": "service"
         },
         "tracegroupgap": 0
        },
        "margin": {
         "t": 60
        },
        "scene": {
         "aspectmode": "auto",
         "aspectratio": {
          "x": 1,
          "y": 1,
          "z": 1
         },
         "camera": {
          "center": {
           "x": 0,
           "y": 0,
           "z": 0
          },
          "eye": {
           "x": 0.39816840521695135,
           "y": -0.6812095488329447,
           "z": 0.86511851716179
          },
          "projection": {
           "type": "perspective"
          },
          "up": {
           "x": 0,
           "y": 0,
           "z": 1
          }
         },
         "domain": {
          "x": [
           0,
           1
          ],
          "y": [
           0,
           1
          ]
         },
         "xaxis": {
          "title": {
           "text": "upt"
          },
          "type": "linear"
         },
         "yaxis": {
          "title": {
           "text": "vrh"
          },
          "type": "linear"
         },
         "zaxis": {
          "title": {
           "text": "vrm"
          },
          "type": "linear"
         }
        },
        "template": {
         "data": {
          "bar": [
           {
            "error_x": {
             "color": "#2a3f5f"
            },
            "error_y": {
             "color": "#2a3f5f"
            },
            "marker": {
             "line": {
              "color": "#E5ECF6",
              "width": 0.5
             },
             "pattern": {
              "fillmode": "overlay",
              "size": 10,
              "solidity": 0.2
             }
            },
            "type": "bar"
           }
          ],
          "barpolar": [
           {
            "marker": {
             "line": {
              "color": "#E5ECF6",
              "width": 0.5
             },
             "pattern": {
              "fillmode": "overlay",
              "size": 10,
              "solidity": 0.2
             }
            },
            "type": "barpolar"
           }
          ],
          "carpet": [
           {
            "aaxis": {
             "endlinecolor": "#2a3f5f",
             "gridcolor": "white",
             "linecolor": "white",
             "minorgridcolor": "white",
             "startlinecolor": "#2a3f5f"
            },
            "baxis": {
             "endlinecolor": "#2a3f5f",
             "gridcolor": "white",
             "linecolor": "white",
             "minorgridcolor": "white",
             "startlinecolor": "#2a3f5f"
            },
            "type": "carpet"
           }
          ],
          "choropleth": [
           {
            "colorbar": {
             "outlinewidth": 0,
             "ticks": ""
            },
            "type": "choropleth"
           }
          ],
          "contour": [
           {
            "colorbar": {
             "outlinewidth": 0,
             "ticks": ""
            },
            "colorscale": [
             [
              0,
              "#0d0887"
             ],
             [
              0.1111111111111111,
              "#46039f"
             ],
             [
              0.2222222222222222,
              "#7201a8"
             ],
             [
              0.3333333333333333,
              "#9c179e"
             ],
             [
              0.4444444444444444,
              "#bd3786"
             ],
             [
              0.5555555555555556,
              "#d8576b"
             ],
             [
              0.6666666666666666,
              "#ed7953"
             ],
             [
              0.7777777777777778,
              "#fb9f3a"
             ],
             [
              0.8888888888888888,
              "#fdca26"
             ],
             [
              1,
              "#f0f921"
             ]
            ],
            "type": "contour"
           }
          ],
          "contourcarpet": [
           {
            "colorbar": {
             "outlinewidth": 0,
             "ticks": ""
            },
            "type": "contourcarpet"
           }
          ],
          "heatmap": [
           {
            "colorbar": {
             "outlinewidth": 0,
             "ticks": ""
            },
            "colorscale": [
             [
              0,
              "#0d0887"
             ],
             [
              0.1111111111111111,
              "#46039f"
             ],
             [
              0.2222222222222222,
              "#7201a8"
             ],
             [
              0.3333333333333333,
              "#9c179e"
             ],
             [
              0.4444444444444444,
              "#bd3786"
             ],
             [
              0.5555555555555556,
              "#d8576b"
             ],
             [
              0.6666666666666666,
              "#ed7953"
             ],
             [
              0.7777777777777778,
              "#fb9f3a"
             ],
             [
              0.8888888888888888,
              "#fdca26"
             ],
             [
              1,
              "#f0f921"
             ]
            ],
            "type": "heatmap"
           }
          ],
          "heatmapgl": [
           {
            "colorbar": {
             "outlinewidth": 0,
             "ticks": ""
            },
            "colorscale": [
             [
              0,
              "#0d0887"
             ],
             [
              0.1111111111111111,
              "#46039f"
             ],
             [
              0.2222222222222222,
              "#7201a8"
             ],
             [
              0.3333333333333333,
              "#9c179e"
             ],
             [
              0.4444444444444444,
              "#bd3786"
             ],
             [
              0.5555555555555556,
              "#d8576b"
             ],
             [
              0.6666666666666666,
              "#ed7953"
             ],
             [
              0.7777777777777778,
              "#fb9f3a"
             ],
             [
              0.8888888888888888,
              "#fdca26"
             ],
             [
              1,
              "#f0f921"
             ]
            ],
            "type": "heatmapgl"
           }
          ],
          "histogram": [
           {
            "marker": {
             "pattern": {
              "fillmode": "overlay",
              "size": 10,
              "solidity": 0.2
             }
            },
            "type": "histogram"
           }
          ],
          "histogram2d": [
           {
            "colorbar": {
             "outlinewidth": 0,
             "ticks": ""
            },
            "colorscale": [
             [
              0,
              "#0d0887"
             ],
             [
              0.1111111111111111,
              "#46039f"
             ],
             [
              0.2222222222222222,
              "#7201a8"
             ],
             [
              0.3333333333333333,
              "#9c179e"
             ],
             [
              0.4444444444444444,
              "#bd3786"
             ],
             [
              0.5555555555555556,
              "#d8576b"
             ],
             [
              0.6666666666666666,
              "#ed7953"
             ],
             [
              0.7777777777777778,
              "#fb9f3a"
             ],
             [
              0.8888888888888888,
              "#fdca26"
             ],
             [
              1,
              "#f0f921"
             ]
            ],
            "type": "histogram2d"
           }
          ],
          "histogram2dcontour": [
           {
            "colorbar": {
             "outlinewidth": 0,
             "ticks": ""
            },
            "colorscale": [
             [
              0,
              "#0d0887"
             ],
             [
              0.1111111111111111,
              "#46039f"
             ],
             [
              0.2222222222222222,
              "#7201a8"
             ],
             [
              0.3333333333333333,
              "#9c179e"
             ],
             [
              0.4444444444444444,
              "#bd3786"
             ],
             [
              0.5555555555555556,
              "#d8576b"
             ],
             [
              0.6666666666666666,
              "#ed7953"
             ],
             [
              0.7777777777777778,
              "#fb9f3a"
             ],
             [
              0.8888888888888888,
              "#fdca26"
             ],
             [
              1,
              "#f0f921"
             ]
            ],
            "type": "histogram2dcontour"
           }
          ],
          "mesh3d": [
           {
            "colorbar": {
             "outlinewidth": 0,
             "ticks": ""
            },
            "type": "mesh3d"
           }
          ],
          "parcoords": [
           {
            "line": {
             "colorbar": {
              "outlinewidth": 0,
              "ticks": ""
             }
            },
            "type": "parcoords"
           }
          ],
          "pie": [
           {
            "automargin": true,
            "type": "pie"
           }
          ],
          "scatter": [
           {
            "marker": {
             "colorbar": {
              "outlinewidth": 0,
              "ticks": ""
             }
            },
            "type": "scatter"
           }
          ],
          "scatter3d": [
           {
            "line": {
             "colorbar": {
              "outlinewidth": 0,
              "ticks": ""
             }
            },
            "marker": {
             "colorbar": {
              "outlinewidth": 0,
              "ticks": ""
             }
            },
            "type": "scatter3d"
           }
          ],
          "scattercarpet": [
           {
            "marker": {
             "colorbar": {
              "outlinewidth": 0,
              "ticks": ""
             }
            },
            "type": "scattercarpet"
           }
          ],
          "scattergeo": [
           {
            "marker": {
             "colorbar": {
              "outlinewidth": 0,
              "ticks": ""
             }
            },
            "type": "scattergeo"
           }
          ],
          "scattergl": [
           {
            "marker": {
             "colorbar": {
              "outlinewidth": 0,
              "ticks": ""
             }
            },
            "type": "scattergl"
           }
          ],
          "scattermapbox": [
           {
            "marker": {
             "colorbar": {
              "outlinewidth": 0,
              "ticks": ""
             }
            },
            "type": "scattermapbox"
           }
          ],
          "scatterpolar": [
           {
            "marker": {
             "colorbar": {
              "outlinewidth": 0,
              "ticks": ""
             }
            },
            "type": "scatterpolar"
           }
          ],
          "scatterpolargl": [
           {
            "marker": {
             "colorbar": {
              "outlinewidth": 0,
              "ticks": ""
             }
            },
            "type": "scatterpolargl"
           }
          ],
          "scatterternary": [
           {
            "marker": {
             "colorbar": {
              "outlinewidth": 0,
              "ticks": ""
             }
            },
            "type": "scatterternary"
           }
          ],
          "surface": [
           {
            "colorbar": {
             "outlinewidth": 0,
             "ticks": ""
            },
            "colorscale": [
             [
              0,
              "#0d0887"
             ],
             [
              0.1111111111111111,
              "#46039f"
             ],
             [
              0.2222222222222222,
              "#7201a8"
             ],
             [
              0.3333333333333333,
              "#9c179e"
             ],
             [
              0.4444444444444444,
              "#bd3786"
             ],
             [
              0.5555555555555556,
              "#d8576b"
             ],
             [
              0.6666666666666666,
              "#ed7953"
             ],
             [
              0.7777777777777778,
              "#fb9f3a"
             ],
             [
              0.8888888888888888,
              "#fdca26"
             ],
             [
              1,
              "#f0f921"
             ]
            ],
            "type": "surface"
           }
          ],
          "table": [
           {
            "cells": {
             "fill": {
              "color": "#EBF0F8"
             },
             "line": {
              "color": "white"
             }
            },
            "header": {
             "fill": {
              "color": "#C8D4E3"
             },
             "line": {
              "color": "white"
             }
            },
            "type": "table"
           }
          ]
         },
         "layout": {
          "annotationdefaults": {
           "arrowcolor": "#2a3f5f",
           "arrowhead": 0,
           "arrowwidth": 1
          },
          "autotypenumbers": "strict",
          "coloraxis": {
           "colorbar": {
            "outlinewidth": 0,
            "ticks": ""
           }
          },
          "colorscale": {
           "diverging": [
            [
             0,
             "#8e0152"
            ],
            [
             0.1,
             "#c51b7d"
            ],
            [
             0.2,
             "#de77ae"
            ],
            [
             0.3,
             "#f1b6da"
            ],
            [
             0.4,
             "#fde0ef"
            ],
            [
             0.5,
             "#f7f7f7"
            ],
            [
             0.6,
             "#e6f5d0"
            ],
            [
             0.7,
             "#b8e186"
            ],
            [
             0.8,
             "#7fbc41"
            ],
            [
             0.9,
             "#4d9221"
            ],
            [
             1,
             "#276419"
            ]
           ],
           "sequential": [
            [
             0,
             "#0d0887"
            ],
            [
             0.1111111111111111,
             "#46039f"
            ],
            [
             0.2222222222222222,
             "#7201a8"
            ],
            [
             0.3333333333333333,
             "#9c179e"
            ],
            [
             0.4444444444444444,
             "#bd3786"
            ],
            [
             0.5555555555555556,
             "#d8576b"
            ],
            [
             0.6666666666666666,
             "#ed7953"
            ],
            [
             0.7777777777777778,
             "#fb9f3a"
            ],
            [
             0.8888888888888888,
             "#fdca26"
            ],
            [
             1,
             "#f0f921"
            ]
           ],
           "sequentialminus": [
            [
             0,
             "#0d0887"
            ],
            [
             0.1111111111111111,
             "#46039f"
            ],
            [
             0.2222222222222222,
             "#7201a8"
            ],
            [
             0.3333333333333333,
             "#9c179e"
            ],
            [
             0.4444444444444444,
             "#bd3786"
            ],
            [
             0.5555555555555556,
             "#d8576b"
            ],
            [
             0.6666666666666666,
             "#ed7953"
            ],
            [
             0.7777777777777778,
             "#fb9f3a"
            ],
            [
             0.8888888888888888,
             "#fdca26"
            ],
            [
             1,
             "#f0f921"
            ]
           ]
          },
          "colorway": [
           "#636efa",
           "#EF553B",
           "#00cc96",
           "#ab63fa",
           "#FFA15A",
           "#19d3f3",
           "#FF6692",
           "#B6E880",
           "#FF97FF",
           "#FECB52"
          ],
          "font": {
           "color": "#2a3f5f"
          },
          "geo": {
           "bgcolor": "white",
           "lakecolor": "white",
           "landcolor": "#E5ECF6",
           "showlakes": true,
           "showland": true,
           "subunitcolor": "white"
          },
          "hoverlabel": {
           "align": "left"
          },
          "hovermode": "closest",
          "mapbox": {
           "style": "light"
          },
          "paper_bgcolor": "white",
          "plot_bgcolor": "#E5ECF6",
          "polar": {
           "angularaxis": {
            "gridcolor": "white",
            "linecolor": "white",
            "ticks": ""
           },
           "bgcolor": "#E5ECF6",
           "radialaxis": {
            "gridcolor": "white",
            "linecolor": "white",
            "ticks": ""
           }
          },
          "scene": {
           "xaxis": {
            "backgroundcolor": "#E5ECF6",
            "gridcolor": "white",
            "gridwidth": 2,
            "linecolor": "white",
            "showbackground": true,
            "ticks": "",
            "zerolinecolor": "white"
           },
           "yaxis": {
            "backgroundcolor": "#E5ECF6",
            "gridcolor": "white",
            "gridwidth": 2,
            "linecolor": "white",
            "showbackground": true,
            "ticks": "",
            "zerolinecolor": "white"
           },
           "zaxis": {
            "backgroundcolor": "#E5ECF6",
            "gridcolor": "white",
            "gridwidth": 2,
            "linecolor": "white",
            "showbackground": true,
            "ticks": "",
            "zerolinecolor": "white"
           }
          },
          "shapedefaults": {
           "line": {
            "color": "#2a3f5f"
           }
          },
          "ternary": {
           "aaxis": {
            "gridcolor": "white",
            "linecolor": "white",
            "ticks": ""
           },
           "baxis": {
            "gridcolor": "white",
            "linecolor": "white",
            "ticks": ""
           },
           "bgcolor": "#E5ECF6",
           "caxis": {
            "gridcolor": "white",
            "linecolor": "white",
            "ticks": ""
           }
          },
          "title": {
           "x": 0.05
          },
          "xaxis": {
           "automargin": true,
           "gridcolor": "white",
           "linecolor": "white",
           "ticks": "",
           "title": {
            "standoff": 15
           },
           "zerolinecolor": "white",
           "zerolinewidth": 2
          },
          "yaxis": {
           "automargin": true,
           "gridcolor": "white",
           "linecolor": "white",
           "ticks": "",
           "title": {
            "standoff": 15
           },
           "zerolinecolor": "white",
           "zerolinewidth": 2
          }
         }
        }
       }
      },
      "image/png": "[encoded data removed]",
      "text/html": [
       "<div>                            <div id=\"c5c76b84-60b4-4831-83a4-296b26b5b920\" class=\"plotly-graph-div\" style=\"height:525px; width:100%;\"></div>            <script type=\"text/javascript\">                require([\"plotly\"], function(Plotly) {                    window.PLOTLYENV=window.PLOTLYENV || {};                                    if (document.getElementById(\"c5c76b84-60b4-4831-83a4-296b26b5b920\")) {                    Plotly.newPlot(                        \"c5c76b84-60b4-4831-83a4-296b26b5b920\",                        [{\"hovertemplate\":\"service=Purchased Transportation<br>upt=%{x}<br>vrh=%{y}<br>vrm=%{z}<extra></extra>\",\"legendgroup\":\"Purchased Transportation\",\"marker\":{\"color\":\"#636efa\",\"symbol\":\"circle\"},\"mode\":\"markers\",\"name\":\"Purchased Transportation\",\"scene\":\"scene\",\"showlegend\":true,\"x\":[12734871,4405674,1124216,3004215,4923384,40298090,442305,8831372,1088810,310778,4128812,595485,17041,648396,1693042,30313,1612230,177704,200737,113695,18062,57184,506787,58010,151002,14658,13308,663121,131411,296781,27522,38988,1063990,230035,14523,291615,395148,581259,106111,371383,104673,47071,33675,339449,641333,224858,90444,398706,14779,420382,62353,1699869,93826,1124595,1065142,65813,5039,6504,2218320,1214846,88991,974843,5551520,180307,124039,91785,582182,54997,25054,182432,1171071,64151,137133,1136401,121933,348983,83913,52390,82943847,5874765,1039164,128055,753905,448346,89721,3646,5287,247084,49786,508041,23698,7867813,291469,9586,78669,196495,36217,147524,682160,202950,0,97556,7376352,353858,1441938,69687,28559,2137757,103981,1710379,60264,279196,39940,823005,436574,126501,3806092,10966247,1749991,586551,2918693,117256,40447,25677,35374,172726,740309,288814,709523,345056,114370,649862,106470,1015238,56182,1037723,51698,1324894,89614,1589123,108125,5278565,125615,182335,189792,62027,428293,58365,309142,35604,242134,625006,75076,17738,211251,177522,0,3978322,260006,258276,0,55277160,549328,140278,3487012,126728,1304985,445099,2971466,107926,350906,7120774,146318,163958,976387,963627,147714,186753,215623,3280207,63402,239190,319072,138941,231393,21249,61374627,13083672,126187,31439,14737411,420761,2999062,2447038,935821,42559,3266381,444321,517123,29577463,4524670,696420,9534608,666001,1321411,54056398,262081,5417363,330889,0,4184679,691250,7482,82352,117198,1475915,62190398,379435,136868,2716278,201094,528595,5765631,215731,1543320,25173,0,0,493283,7758304,110837372,986926,1827015,69263,0,0,3369844,11893820,2671031,1292486,458429,159388,122603,77266,12267090,1117318,222847,589372,1378056,1941330,236000,2874359,2873742,134890,0,45932098,52346,955734,14396,138294,4046688,69056,250738,110958,8070413,738550,40235,3700886,276477,885760,72055,235321,2694279,145576,6023439,208826,795815,3015548,3467638,1259628,154722,5091620,144189,3257494,462229,272293],\"y\":[7976350,1647003,155406,1929662,141171,914722,61456,900776,159800,161875,404700,183066,15966,351552,1076689,16063,96829,88710,85380,62018,1582,21774,108006,21812,19553,10694,1290,55838,28048,30176,14791,25669,144288,48109,23530,31028,121366,76058,11532,61162,27280,6130,4481,90330,86884,67653,36810,20796,2588,62921,26568,127986,39907,150618,63468,45410,4537,2797,257471,143506,50909,492488,533580,57965,32982,51696,77459,10370,4883,34626,59807,19568,20989,118589,51891,92048,4630,33659,3739117,498767,596035,17011,83516,94511,42478,1717,2866,73895,20026,17032,9057,701643,103012,3869,40988,11217,6725,11124,60789,34425,0,38597,410477,117986,113536,38203,10848,192662,32560,198856,38950,53320,29108,194894,33837,58206,198822,694632,178031,265868,305901,39181,22775,4521,15398,85624,70458,24659,121229,155686,21865,145111,54831,122727,21345,154512,22802,229453,67479,144578,40273,719095,39238,64069,68350,33279,88231,42857,113755,24827,12670,148209,17323,12525,52737,52839,0,508358,165256,19721,0,4996043,248972,86592,231066,70560,313609,207472,263119,39972,39486,631550,110483,102276,39341,99282,22129,23940,19675,172903,33564,40032,19672,76925,39325,11256,2714121,3241387,47832,17767,1090513,209143,708723,318974,483953,7019,318876,93016,191219,2599061,188049,402386,164336,178595,652978,3245005,42730,2903623,62532,0,865540,95666,1390,60245,40382,141789,1243871,120476,28826,250630,69854,126908,957447,63953,813941,13916,0,0,128633,1842088,6248660,53582,913761,20858,0,0,116589,114069,650385,177329,52688,93035,32771,12149,1029166,704575,80769,36919,102789,1360251,132077,298341,223970,67025,0,1996532,14815,169856,4367,72268,419366,21241,110524,25333,874134,306465,9919,647453,156146,141186,23722,38745,353327,85476,1068263,37607,298247,616249,384414,89041,70820,515625,104691,276025,46564,121138],\"z\":[126080433,36337091,2552511,26985843,5573755,6035251,493173,13254582,4821789,2544202,5868461,1588599,194414,5283896,7837391,266904,997862,561534,965080,438448,25383,237752,1147087,171387,197549,54800,32966,582414,209442,431148,107177,109609,1540175,511860,72173,350227,1908591,940995,188858,808391,284303,55702,71360,974416,1034016,858262,300981,204207,38617,639040,233720,1109717,355388,2055435,1168491,501492,108377,13471,3430819,4704367,779472,5612046,4703094,661226,351863,412350,725450,103002,69912,321505,591355,167665,222420,1377142,430540,1261267,191634,200221,36337796,11854898,4486122,243596,843537,1287527,496485,33085,53514,978109,198435,180862,113717,8022540,1333409,38429,267119,119059,51804,185623,723034,495643,0,248567,4249882,1141496,1398015,284948,88212,2560893,374142,2255915,293971,658756,209059,2517960,707985,675278,2169822,10417446,4587549,3951912,4730901,604638,131419,50257,140015,979062,825898,369848,1862132,2597691,449082,1750792,437488,2258124,219874,1699146,214387,2980380,327516,1919810,500969,10352892,1498297,907387,961116,295507,680703,218654,927975,415604,409534,1762125,766441,386861,1484677,593616,0,8326770,2357389,247856,0,70558791,3906614,1588391,4700895,1562787,11284309,1805938,4349207,450346,1936208,8543039,1309504,992756,344242,1225073,234261,264341,219932,1417870,294129,214075,180719,950511,465160,118153,31866700,130179437,1387497,236401,15168305,3160444,32490183,4888854,6701991,310052,4974831,2485817,1547838,31870463,6218660,6830189,3606463,2396252,10003540,39307424,879342,44485736,893014,0,31769675,1422611,26026,952166,791845,1508862,40264769,1376269,608000,4134087,1208917,5040551,14642023,1632278,13834540,375038,0,0,5164178,78255030,63660311,1551030,16640414,687812,0,0,1839575,2324550,27902940,2683967,1694005,1367236,766581,643071,13305170,8964157,2150980,1605272,1037397,21551055,2111732,3354317,5505741,650289,0,72782609,716703,3192071,144856,915876,5758314,546782,1569037,1357521,11208649,4130367,280052,9830285,2120015,2581131,262864,608431,8515692,894649,18594182,1425794,4545103,30138660,6114271,2466533,873291,10245339,1851119,3274244,1758833,1472415],\"type\":\"scatter3d\"},{\"hovertemplate\":\"service=Purchased Transportation - Taxi<br>upt=%{x}<br>vrh=%{y}<br>vrm=%{z}<extra></extra>\",\"legendgroup\":\"Purchased Transportation - Taxi\",\"marker\":{\"color\":\"#EF553B\",\"symbol\":\"circle\"},\"mode\":\"markers\",\"name\":\"Purchased Transportation - Taxi\",\"scene\":\"scene\",\"showlegend\":true,\"x\":[3960167,9620,16962,110714,22672,24000,119645,344852,1676,179756,214372,114430,30800,1188316,5013,57806,120676,8271,0,171065,99603,143132,65395],\"y\":[1450278,1301,1892,13572,3527,3793,21589,54107,641,13236,33051,16579,11882,470461,1125,19642,30217,4036,0,54744,24530,54086,37869],\"z\":[32927793,21429,33093,219290,42051,54305,203340,699421,6705,214471,487076,413469,243018,9986879,19827,419070,531255,98596,0,1804052,536813,1581576,565986],\"type\":\"scatter3d\"},{\"hovertemplate\":\"service=Directly Operated<br>upt=%{x}<br>vrh=%{y}<br>vrm=%{z}<extra></extra>\",\"legendgroup\":\"Directly Operated\",\"marker\":{\"color\":\"#00cc96\",\"symbol\":\"circle\"},\"mode\":\"markers\",\"name\":\"Directly Operated\",\"scene\":\"scene\",\"showlegend\":true,\"x\":[215515514,10012230,8398451,40435,20883232,14902501,475941074,21089173,177918695,25189744,220737578,152917,92850,5926,2051591,52374,14368,19478626,30836,79619,30199,273107,207594,16481,119229,20756,50134340,13095107,86122,17631,122209,2301955,63681,89711,21748623,47965,6565268,340064,556367,31674,55089948,8129232,1124278,210294,42110,16192493,3099451,2964,4270,378648,813304,459966,153887,17071752,26828371,541009,11546318,8696753,113619230,1249836272,30587194,1241306,191313453,258260693,14169726,75699,825564,1705577,44337623,131237053,313343,959919,27858474,1213515,46779359,1383310,43956473,101867427,191595181,444622064,7104589,13348749,68533,60135,4727817,250451,39173307,28865906,120854145,0,31843960,19524814,1072352,383143,3037255,18105605,716622,15984579],\"y\":[10283913,229273,363100,7449,2074368,1206496,9948289,551837,2818225,364561,4379827,54334,24699,4485,207269,37970,3731,875054,7642,26600,9981,11738,25679,2599,12281,7190,2446450,654088,37524,3535,41136,116803,44467,26827,1150744,16423,553543,35884,185473,10644,2839005,426131,159904,70669,19803,846215,364401,375,1083,152350,147502,35347,68917,1135551,1581266,290456,1101718,71278,3797549,34903942,599706,409154,1814570,4464909,981999,23908,52108,28923,3166011,5399784,24893,582718,2203177,203974,3430943,555394,1297840,4807339,3360018,13166018,198797,696805,14226,37354,317037,154069,2565362,1172370,7475266,0,1201700,996756,103986,218086,176553,1249740,356228,396861],\"z\":[103547022,1981875,5777682,118386,61687512,13134305,77885693,1139285,25477828,1845668,26990327,383797,188609,41888,2193848,391408,49298,8970656,67512,308774,96370,140882,237006,24864,193650,94320,28019477,8126625,269987,33962,369096,1003414,365139,188758,11613103,126953,6187524,452067,2497397,85268,25891738,4789888,2358105,746932,159207,10745066,7479129,12418,26987,2864008,2771570,1078714,1340195,12524188,19970743,4238988,18914052,948061,37190585,360634231,9362002,5359367,39094419,91808996,15731858,768473,1682633,636450,42543435,61727489,591804,8437499,28942427,5037198,39245652,8301562,23109296,56542499,61092178,435132944,5840831,7941507,437492,698046,7517807,2246041,25163733,14126882,87005844,0,17360305,12644651,2806966,2311554,4566095,18902775,5176204,4217438],\"type\":\"scatter3d\"},{\"hovertemplate\":\"service=Purchased Transportation - Transportation Network Company<br>upt=%{x}<br>vrh=%{y}<br>vrm=%{z}<extra></extra>\",\"legendgroup\":\"Purchased Transportation - Transportation Network Company\",\"marker\":{\"color\":\"#ab63fa\",\"symbol\":\"circle\"},\"mode\":\"markers\",\"name\":\"Purchased Transportation - Transportation Network Company\",\"scene\":\"scene\",\"showlegend\":true,\"x\":[18548,30,83035,69123,126838],\"y\":[2279,9,12827,25979,31082],\"z\":[42363,281,144993,570368,855799],\"type\":\"scatter3d\"}],                        {\"template\":{\"data\":{\"bar\":[{\"error_x\":{\"color\":\"#2a3f5f\"},\"error_y\":{\"color\":\"#2a3f5f\"},\"marker\":{\"line\":{\"color\":\"#E5ECF6\",\"width\":0.5},\"pattern\":{\"fillmode\":\"overlay\",\"size\":10,\"solidity\":0.2}},\"type\":\"bar\"}],\"barpolar\":[{\"marker\":{\"line\":{\"color\":\"#E5ECF6\",\"width\":0.5},\"pattern\":{\"fillmode\":\"overlay\",\"size\":10,\"solidity\":0.2}},\"type\":\"barpolar\"}],\"carpet\":[{\"aaxis\":{\"endlinecolor\":\"#2a3f5f\",\"gridcolor\":\"white\",\"linecolor\":\"white\",\"minorgridcolor\":\"white\",\"startlinecolor\":\"#2a3f5f\"},\"baxis\":{\"endlinecolor\":\"#2a3f5f\",\"gridcolor\":\"white\",\"linecolor\":\"white\",\"minorgridcolor\":\"white\",\"startlinecolor\":\"#2a3f5f\"},\"type\":\"carpet\"}],\"choropleth\":[{\"colorbar\":{\"outlinewidth\":0,\"ticks\":\"\"},\"type\":\"choropleth\"}],\"contour\":[{\"colorbar\":{\"outlinewidth\":0,\"ticks\":\"\"},\"colorscale\":[[0.0,\"#0d0887\"],[0.1111111111111111,\"#46039f\"],[0.2222222222222222,\"#7201a8\"],[0.3333333333333333,\"#9c179e\"],[0.4444444444444444,\"#bd3786\"],[0.5555555555555556,\"#d8576b\"],[0.6666666666666666,\"#ed7953\"],[0.7777777777777778,\"#fb9f3a\"],[0.8888888888888888,\"#fdca26\"],[1.0,\"#f0f921\"]],\"type\":\"contour\"}],\"contourcarpet\":[{\"colorbar\":{\"outlinewidth\":0,\"ticks\":\"\"},\"type\":\"contourcarpet\"}],\"heatmap\":[{\"colorbar\":{\"outlinewidth\":0,\"ticks\":\"\"},\"colorscale\":[[0.0,\"#0d0887\"],[0.1111111111111111,\"#46039f\"],[0.2222222222222222,\"#7201a8\"],[0.3333333333333333,\"#9c179e\"],[0.4444444444444444,\"#bd3786\"],[0.5555555555555556,\"#d8576b\"],[0.6666666666666666,\"#ed7953\"],[0.7777777777777778,\"#fb9f3a\"],[0.8888888888888888,\"#fdca26\"],[1.0,\"#f0f921\"]],\"type\":\"heatmap\"}],\"heatmapgl\":[{\"colorbar\":{\"outlinewidth\":0,\"ticks\":\"\"},\"colorscale\":[[0.0,\"#0d0887\"],[0.1111111111111111,\"#46039f\"],[0.2222222222222222,\"#7201a8\"],[0.3333333333333333,\"#9c179e\"],[0.4444444444444444,\"#bd3786\"],[0.5555555555555556,\"#d8576b\"],[0.6666666666666666,\"#ed7953\"],[0.7777777777777778,\"#fb9f3a\"],[0.8888888888888888,\"#fdca26\"],[1.0,\"#f0f921\"]],\"type\":\"heatmapgl\"}],\"histogram\":[{\"marker\":{\"pattern\":{\"fillmode\":\"overlay\",\"size\":10,\"solidity\":0.2}},\"type\":\"histogram\"}],\"histogram2d\":[{\"colorbar\":{\"outlinewidth\":0,\"ticks\":\"\"},\"colorscale\":[[0.0,\"#0d0887\"],[0.1111111111111111,\"#46039f\"],[0.2222222222222222,\"#7201a8\"],[0.3333333333333333,\"#9c179e\"],[0.4444444444444444,\"#bd3786\"],[0.5555555555555556,\"#d8576b\"],[0.6666666666666666,\"#ed7953\"],[0.7777777777777778,\"#fb9f3a\"],[0.8888888888888888,\"#fdca26\"],[1.0,\"#f0f921\"]],\"type\":\"histogram2d\"}],\"histogram2dcontour\":[{\"colorbar\":{\"outlinewidth\":0,\"ticks\":\"\"},\"colorscale\":[[0.0,\"#0d0887\"],[0.1111111111111111,\"#46039f\"],[0.2222222222222222,\"#7201a8\"],[0.3333333333333333,\"#9c179e\"],[0.4444444444444444,\"#bd3786\"],[0.5555555555555556,\"#d8576b\"],[0.6666666666666666,\"#ed7953\"],[0.7777777777777778,\"#fb9f3a\"],[0.8888888888888888,\"#fdca26\"],[1.0,\"#f0f921\"]],\"type\":\"histogram2dcontour\"}],\"mesh3d\":[{\"colorbar\":{\"outlinewidth\":0,\"ticks\":\"\"},\"type\":\"mesh3d\"}],\"parcoords\":[{\"line\":{\"colorbar\":{\"outlinewidth\":0,\"ticks\":\"\"}},\"type\":\"parcoords\"}],\"pie\":[{\"automargin\":true,\"type\":\"pie\"}],\"scatter\":[{\"marker\":{\"colorbar\":{\"outlinewidth\":0,\"ticks\":\"\"}},\"type\":\"scatter\"}],\"scatter3d\":[{\"line\":{\"colorbar\":{\"outlinewidth\":0,\"ticks\":\"\"}},\"marker\":{\"colorbar\":{\"outlinewidth\":0,\"ticks\":\"\"}},\"type\":\"scatter3d\"}],\"scattercarpet\":[{\"marker\":{\"colorbar\":{\"outlinewidth\":0,\"ticks\":\"\"}},\"type\":\"scattercarpet\"}],\"scattergeo\":[{\"marker\":{\"colorbar\":{\"outlinewidth\":0,\"ticks\":\"\"}},\"type\":\"scattergeo\"}],\"scattergl\":[{\"marker\":{\"colorbar\":{\"outlinewidth\":0,\"ticks\":\"\"}},\"type\":\"scattergl\"}],\"scattermapbox\":[{\"marker\":{\"colorbar\":{\"outlinewidth\":0,\"ticks\":\"\"}},\"type\":\"scattermapbox\"}],\"scatterpolar\":[{\"marker\":{\"colorbar\":{\"outlinewidth\":0,\"ticks\":\"\"}},\"type\":\"scatterpolar\"}],\"scatterpolargl\":[{\"marker\":{\"colorbar\":{\"outlinewidth\":0,\"ticks\":\"\"}},\"type\":\"scatterpolargl\"}],\"scatterternary\":[{\"marker\":{\"colorbar\":{\"outlinewidth\":0,\"ticks\":\"\"}},\"type\":\"scatterternary\"}],\"surface\":[{\"colorbar\":{\"outlinewidth\":0,\"ticks\":\"\"},\"colorscale\":[[0.0,\"#0d0887\"],[0.1111111111111111,\"#46039f\"],[0.2222222222222222,\"#7201a8\"],[0.3333333333333333,\"#9c179e\"],[0.4444444444444444,\"#bd3786\"],[0.5555555555555556,\"#d8576b\"],[0.6666666666666666,\"#ed7953\"],[0.7777777777777778,\"#fb9f3a\"],[0.8888888888888888,\"#fdca26\"],[1.0,\"#f0f921\"]],\"type\":\"surface\"}],\"table\":[{\"cells\":{\"fill\":{\"color\":\"#EBF0F8\"},\"line\":{\"color\":\"white\"}},\"header\":{\"fill\":{\"color\":\"#C8D4E3\"},\"line\":{\"color\":\"white\"}},\"type\":\"table\"}]},\"layout\":{\"annotationdefaults\":{\"arrowcolor\":\"#2a3f5f\",\"arrowhead\":0,\"arrowwidth\":1},\"autotypenumbers\":\"strict\",\"coloraxis\":{\"colorbar\":{\"outlinewidth\":0,\"ticks\":\"\"}},\"colorscale\":{\"diverging\":[[0,\"#8e0152\"],[0.1,\"#c51b7d\"],[0.2,\"#de77ae\"],[0.3,\"#f1b6da\"],[0.4,\"#fde0ef\"],[0.5,\"#f7f7f7\"],[0.6,\"#e6f5d0\"],[0.7,\"#b8e186\"],[0.8,\"#7fbc41\"],[0.9,\"#4d9221\"],[1,\"#276419\"]],\"sequential\":[[0.0,\"#0d0887\"],[0.1111111111111111,\"#46039f\"],[0.2222222222222222,\"#7201a8\"],[0.3333333333333333,\"#9c179e\"],[0.4444444444444444,\"#bd3786\"],[0.5555555555555556,\"#d8576b\"],[0.6666666666666666,\"#ed7953\"],[0.7777777777777778,\"#fb9f3a\"],[0.8888888888888888,\"#fdca26\"],[1.0,\"#f0f921\"]],\"sequentialminus\":[[0.0,\"#0d0887\"],[0.1111111111111111,\"#46039f\"],[0.2222222222222222,\"#7201a8\"],[0.3333333333333333,\"#9c179e\"],[0.4444444444444444,\"#bd3786\"],[0.5555555555555556,\"#d8576b\"],[0.6666666666666666,\"#ed7953\"],[0.7777777777777778,\"#fb9f3a\"],[0.8888888888888888,\"#fdca26\"],[1.0,\"#f0f921\"]]},\"colorway\":[\"#636efa\",\"#EF553B\",\"#00cc96\",\"#ab63fa\",\"#FFA15A\",\"#19d3f3\",\"#FF6692\",\"#B6E880\",\"#FF97FF\",\"#FECB52\"],\"font\":{\"color\":\"#2a3f5f\"},\"geo\":{\"bgcolor\":\"white\",\"lakecolor\":\"white\",\"landcolor\":\"#E5ECF6\",\"showlakes\":true,\"showland\":true,\"subunitcolor\":\"white\"},\"hoverlabel\":{\"align\":\"left\"},\"hovermode\":\"closest\",\"mapbox\":{\"style\":\"light\"},\"paper_bgcolor\":\"white\",\"plot_bgcolor\":\"#E5ECF6\",\"polar\":{\"angularaxis\":{\"gridcolor\":\"white\",\"linecolor\":\"white\",\"ticks\":\"\"},\"bgcolor\":\"#E5ECF6\",\"radialaxis\":{\"gridcolor\":\"white\",\"linecolor\":\"white\",\"ticks\":\"\"}},\"scene\":{\"xaxis\":{\"backgroundcolor\":\"#E5ECF6\",\"gridcolor\":\"white\",\"gridwidth\":2,\"linecolor\":\"white\",\"showbackground\":true,\"ticks\":\"\",\"zerolinecolor\":\"white\"},\"yaxis\":{\"backgroundcolor\":\"#E5ECF6\",\"gridcolor\":\"white\",\"gridwidth\":2,\"linecolor\":\"white\",\"showbackground\":true,\"ticks\":\"\",\"zerolinecolor\":\"white\"},\"zaxis\":{\"backgroundcolor\":\"#E5ECF6\",\"gridcolor\":\"white\",\"gridwidth\":2,\"linecolor\":\"white\",\"showbackground\":true,\"ticks\":\"\",\"zerolinecolor\":\"white\"}},\"shapedefaults\":{\"line\":{\"color\":\"#2a3f5f\"}},\"ternary\":{\"aaxis\":{\"gridcolor\":\"white\",\"linecolor\":\"white\",\"ticks\":\"\"},\"baxis\":{\"gridcolor\":\"white\",\"linecolor\":\"white\",\"ticks\":\"\"},\"bgcolor\":\"#E5ECF6\",\"caxis\":{\"gridcolor\":\"white\",\"linecolor\":\"white\",\"ticks\":\"\"}},\"title\":{\"x\":0.05},\"xaxis\":{\"automargin\":true,\"gridcolor\":\"white\",\"linecolor\":\"white\",\"ticks\":\"\",\"title\":{\"standoff\":15},\"zerolinecolor\":\"white\",\"zerolinewidth\":2},\"yaxis\":{\"automargin\":true,\"gridcolor\":\"white\",\"linecolor\":\"white\",\"ticks\":\"\",\"title\":{\"standoff\":15},\"zerolinecolor\":\"white\",\"zerolinewidth\":2}}},\"scene\":{\"domain\":{\"x\":[0.0,1.0],\"y\":[0.0,1.0]},\"xaxis\":{\"title\":{\"text\":\"upt\"}},\"yaxis\":{\"title\":{\"text\":\"vrh\"}},\"zaxis\":{\"title\":{\"text\":\"vrm\"}}},\"legend\":{\"title\":{\"text\":\"service\"},\"tracegroupgap\":0},\"margin\":{\"t\":60}},                        {\"responsive\": true}                    ).then(function(){\n",
       "                            \n",
       "var gd = document.getElementById('c5c76b84-60b4-4831-83a4-296b26b5b920');\n",
       "var x = new MutationObserver(function (mutations, observer) {{\n",
       "        var display = window.getComputedStyle(gd).display;\n",
       "        if (!display || display === 'none') {{\n",
       "            console.log([gd, 'removed!']);\n",
       "            Plotly.purge(gd);\n",
       "            observer.disconnect();\n",
       "        }}\n",
       "}});\n",
       "\n",
       "// Listen for the removal of the full notebook cells\n",
       "var notebookContainer = gd.closest('#notebook-container');\n",
       "if (notebookContainer) {{\n",
       "    x.observe(notebookContainer, {childList: true});\n",
       "}}\n",
       "\n",
       "// Listen for the clearing of the current output cell\n",
       "var outputEl = gd.closest('.output');\n",
       "if (outputEl) {{\n",
       "    x.observe(outputEl, {childList: true});\n",
       "}}\n",
       "\n",
       "                        })                };                });            </script>        </div>"
      ]
     },
     "metadata": {},
     "output_type": "display_data"
    }
   ],
   "source": [
    "#@title Plot three features in 3D by entering their names and running this cell\n",
    "\n",
    "x_axis_data = 'upt'  \n",
    "y_axis_data = 'vrh'  \n",
    "z_axis_data = 'vrm'  \n",
    "\n",
    "px.scatter_3d(\n",
    "    group_id_mode_service,\n",
    "    x=x_axis_data,\n",
    "    y=y_axis_data,\n",
    "    z=z_axis_data,\n",
    "    color='service',\n",
    ").show()"
   ]
  },
  {
   "cell_type": "code",
   "execution_count": null,
   "id": "1621815c-8aea-4262-9627-2cf55e7bb6c8",
   "metadata": {},
   "outputs": [],
   "source": []
  }
 ],
 "metadata": {
  "kernelspec": {
   "display_name": "Python 3 (ipykernel)",
   "language": "python",
   "name": "python3"
  },
  "language_info": {
   "codemirror_mode": {
    "name": "ipython",
    "version": 3
   },
   "file_extension": ".py",
   "mimetype": "text/x-python",
   "name": "python",
   "nbconvert_exporter": "python",
   "pygments_lexer": "ipython3",
   "version": "3.11.10"
  }
 },
 "nbformat": 4,
 "nbformat_minor": 5
}
