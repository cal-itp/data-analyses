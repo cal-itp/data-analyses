{
 "cells": [
  {
   "cell_type": "markdown",
   "id": "3283b7e9-f056-43d7-aef4-3e5820708aaa",
   "metadata": {
    "papermill": {
     "duration": 0.028599,
     "end_time": "2022-05-23T23:16:38.253226",
     "exception": false,
     "start_time": "2022-05-23T23:16:38.224627",
     "status": "completed"
    },
    "tags": []
   },
   "source": [
    "# **5310 Organizations**"
   ]
  },
  {
   "cell_type": "markdown",
   "id": "1987a99b-c650-4e44-823e-e1b3cdda1a98",
   "metadata": {
    "papermill": {
     "duration": 0.026396,
     "end_time": "2022-05-23T23:16:38.305398",
     "exception": false,
     "start_time": "2022-05-23T23:16:38.279002",
     "status": "completed"
    },
    "tags": []
   },
   "source": [
    "### Looking into 5310 Organizations with the following project types:\n",
    "*  purchasing wheelchair accessible vehicle\n",
    "* on-demand scheduling \n",
    "* dispatching software platforms"
   ]
  },
  {
   "cell_type": "code",
   "execution_count": 1,
   "id": "e1ebf6aa-4275-44d9-83b5-9b99b7fceb9a",
   "metadata": {
    "execution": {
     "iopub.execute_input": "2022-05-23T23:16:38.365881Z",
     "iopub.status.busy": "2022-05-23T23:16:38.365475Z",
     "iopub.status.idle": "2022-05-23T23:16:38.375886Z",
     "shell.execute_reply": "2022-05-23T23:16:38.375181Z"
    },
    "papermill": {
     "duration": 0.046944,
     "end_time": "2022-05-23T23:16:38.378082",
     "exception": false,
     "start_time": "2022-05-23T23:16:38.331138",
     "status": "completed"
    },
    "tags": []
   },
   "outputs": [],
   "source": [
    "import warnings\n",
    "warnings.filterwarnings('ignore')"
   ]
  },
  {
   "cell_type": "code",
   "execution_count": 2,
   "id": "90a4e032-3017-4279-a7e7-895f292a0168",
   "metadata": {
    "execution": {
     "iopub.execute_input": "2022-05-23T23:16:38.448547Z",
     "iopub.status.busy": "2022-05-23T23:16:38.448023Z",
     "iopub.status.idle": "2022-05-23T23:16:48.167830Z",
     "shell.execute_reply": "2022-05-23T23:16:48.166715Z"
    },
    "papermill": {
     "duration": 9.756439,
     "end_time": "2022-05-23T23:16:48.170610",
     "exception": false,
     "start_time": "2022-05-23T23:16:38.414171",
     "status": "completed"
    },
    "tags": []
   },
   "outputs": [],
   "source": [
    "import pandas as pd\n",
    "from siuba import *\n",
    "import numpy as np\n",
    "\n",
    "import altair as alt\n",
    "\n",
    "from shared_utils import altair_utils\n",
    "from shared_utils import geography_utils\n",
    "from shared_utils import calitp_color_palette as cp\n",
    "from shared_utils import styleguide\n",
    "\n",
    "from dla_utils import _dla_utils\n",
    "\n",
    "from calitp import to_snakecase\n",
    "\n",
    "from IPython.display import display, Markdown, HTML"
   ]
  },
  {
   "cell_type": "code",
   "execution_count": 3,
   "id": "cc9496e4-0e66-4cd4-957b-2c1b0ace703b",
   "metadata": {
    "execution": {
     "iopub.execute_input": "2022-05-23T23:16:48.223817Z",
     "iopub.status.busy": "2022-05-23T23:16:48.222784Z",
     "iopub.status.idle": "2022-05-23T23:16:48.240619Z",
     "shell.execute_reply": "2022-05-23T23:16:48.239951Z"
    },
    "papermill": {
     "duration": 0.047495,
     "end_time": "2022-05-23T23:16:48.243423",
     "exception": false,
     "start_time": "2022-05-23T23:16:48.195928",
     "status": "completed"
    },
    "tags": []
   },
   "outputs": [],
   "source": [
    "df = pd.read_csv('5310_info_pt.csv')"
   ]
  },
  {
   "cell_type": "code",
   "execution_count": 4,
   "id": "3250b427-6717-40f6-8be3-4b90aa731313",
   "metadata": {
    "execution": {
     "iopub.execute_input": "2022-05-23T23:16:48.313511Z",
     "iopub.status.busy": "2022-05-23T23:16:48.312999Z",
     "iopub.status.idle": "2022-05-23T23:16:48.488952Z",
     "shell.execute_reply": "2022-05-23T23:16:48.488106Z"
    },
    "papermill": {
     "duration": 0.221925,
     "end_time": "2022-05-23T23:16:48.491444",
     "exception": false,
     "start_time": "2022-05-23T23:16:48.269519",
     "status": "completed"
    },
    "tags": []
   },
   "outputs": [],
   "source": [
    "grouped =pd.read_csv('gs://calitp-analytics-data/data-analyses/5310/5310_org_info_manualfill.csv')"
   ]
  },
  {
   "cell_type": "code",
   "execution_count": 5,
   "id": "88f2dd52-f105-438a-b122-59bbc63fbd1a",
   "metadata": {
    "execution": {
     "iopub.execute_input": "2022-05-23T23:16:48.544501Z",
     "iopub.status.busy": "2022-05-23T23:16:48.544052Z",
     "iopub.status.idle": "2022-05-23T23:16:48.550441Z",
     "shell.execute_reply": "2022-05-23T23:16:48.549828Z"
    },
    "jupyter": {
     "source_hidden": true
    },
    "papermill": {
     "duration": 0.035668,
     "end_time": "2022-05-23T23:16:48.552683",
     "exception": false,
     "start_time": "2022-05-23T23:16:48.517015",
     "status": "completed"
    },
    "tags": []
   },
   "outputs": [],
   "source": [
    "def bar_chart(df, x_col, y_col, color_col, chart_title=\"\"):\n",
    "\n",
    "    bar = (\n",
    "        alt.Chart(df)\n",
    "        .mark_bar()\n",
    "        .encode(\n",
    "            x=alt.X(x_col, title=_dla_utils.labeling(x_col), sort=(\"-y\")),\n",
    "            y=alt.Y(y_col, title=_dla_utils.labeling(y_col)),\n",
    "            color=alt.Color(\n",
    "                color_col,\n",
    "                scale=alt.Scale(range=altair_utils.CALITP_CATEGORY_BRIGHT_COLORS),\n",
    "                legend=alt.Legend(title=(_dla_utils.labeling(color_col)), symbolLimit=10)\n",
    "            )\n",
    "        ).properties(title=chart_title))\n",
    "    \n",
    "    chart = styleguide.preset_chart_config(bar)\n",
    "    \n",
    "    return chart"
   ]
  },
  {
   "cell_type": "code",
   "execution_count": 6,
   "id": "2c6a684a-a28a-4af3-9e37-dc868b581fff",
   "metadata": {
    "execution": {
     "iopub.execute_input": "2022-05-23T23:16:48.604906Z",
     "iopub.status.busy": "2022-05-23T23:16:48.604441Z",
     "iopub.status.idle": "2022-05-23T23:16:48.638593Z",
     "shell.execute_reply": "2022-05-23T23:16:48.637759Z"
    },
    "papermill": {
     "duration": 0.062985,
     "end_time": "2022-05-23T23:16:48.640654",
     "exception": false,
     "start_time": "2022-05-23T23:16:48.577669",
     "status": "completed"
    },
    "tags": []
   },
   "outputs": [
    {
     "data": {
      "text/html": [
       "\n",
       "<div id=\"altair-viz-fda01b94db9140f3858c4c9133724d43\"></div>\n",
       "<script type=\"text/javascript\">\n",
       "  var VEGA_DEBUG = (typeof VEGA_DEBUG == \"undefined\") ? {} : VEGA_DEBUG;\n",
       "  (function(spec, embedOpt){\n",
       "    let outputDiv = document.currentScript.previousElementSibling;\n",
       "    if (outputDiv.id !== \"altair-viz-fda01b94db9140f3858c4c9133724d43\") {\n",
       "      outputDiv = document.getElementById(\"altair-viz-fda01b94db9140f3858c4c9133724d43\");\n",
       "    }\n",
       "    const paths = {\n",
       "      \"vega\": \"https://cdn.jsdelivr.net/npm//vega@5?noext\",\n",
       "      \"vega-lib\": \"https://cdn.jsdelivr.net/npm//vega-lib?noext\",\n",
       "      \"vega-lite\": \"https://cdn.jsdelivr.net/npm//vega-lite@4.17.0?noext\",\n",
       "      \"vega-embed\": \"https://cdn.jsdelivr.net/npm//vega-embed@6?noext\",\n",
       "    };\n",
       "\n",
       "    function maybeLoadScript(lib, version) {\n",
       "      var key = `${lib.replace(\"-\", \"\")}_version`;\n",
       "      return (VEGA_DEBUG[key] == version) ?\n",
       "        Promise.resolve(paths[lib]) :\n",
       "        new Promise(function(resolve, reject) {\n",
       "          var s = document.createElement('script');\n",
       "          document.getElementsByTagName(\"head\")[0].appendChild(s);\n",
       "          s.async = true;\n",
       "          s.onload = () => {\n",
       "            VEGA_DEBUG[key] = version;\n",
       "            return resolve(paths[lib]);\n",
       "          };\n",
       "          s.onerror = () => reject(`Error loading script: ${paths[lib]}`);\n",
       "          s.src = paths[lib];\n",
       "        });\n",
       "    }\n",
       "\n",
       "    function showError(err) {\n",
       "      outputDiv.innerHTML = `<div class=\"error\" style=\"color:red;\">${err}</div>`;\n",
       "      throw err;\n",
       "    }\n",
       "\n",
       "    function displayChart(vegaEmbed) {\n",
       "      vegaEmbed(outputDiv, spec, embedOpt)\n",
       "        .catch(err => showError(`Javascript Error: ${err.message}<br>This usually means there's a typo in your chart specification. See the javascript console for the full traceback.`));\n",
       "    }\n",
       "\n",
       "    if(typeof define === \"function\" && define.amd) {\n",
       "      requirejs.config({paths});\n",
       "      require([\"vega-embed\"], displayChart, err => showError(`Error loading script: ${err.message}`));\n",
       "    } else {\n",
       "      maybeLoadScript(\"vega\", \"5\")\n",
       "        .then(() => maybeLoadScript(\"vega-lite\", \"4.17.0\"))\n",
       "        .then(() => maybeLoadScript(\"vega-embed\", \"6\"))\n",
       "        .catch(showError)\n",
       "        .then(() => displayChart(vegaEmbed));\n",
       "    }\n",
       "  })({\"config\": {\"view\": {\"continuousWidth\": 400, \"continuousHeight\": 300}, \"axis\": {\"domainColor\": \"#cbcbcb\", \"grid\": true, \"gridColor\": \"#cbcbcb\", \"gridWidth\": 1, \"labelColor\": \"#474747\", \"labelFont\": \"Nunito Sans\", \"labelFontSize\": 10, \"labelPadding\": 4, \"tickColor\": \"#cbcbcb\", \"tickSize\": 10, \"titleColor\": \"#333\", \"titleFont\": \"Raleway\", \"titleFontSize\": 12, \"titlePadding\": 10}, \"axisBand\": {\"grid\": false}, \"background\": \"white\", \"font\": \"Raleway\", \"header\": {\"labelFont\": \"Nunito Sans\", \"titleFont\": \"Raleway\"}, \"legend\": {\"labelColor\": \"#333\", \"labelFont\": \"Nunito Sans\", \"labelFontSize\": 11, \"labelLimit\": 0, \"padding\": 1, \"symbolSize\": 30, \"symbolType\": \"square\", \"titleColor\": \"#333\", \"titleFont\": \"Raleway\", \"titleFontSize\": 14, \"titlePadding\": 10}, \"title\": {\"anchor\": \"middle\", \"font\": \"Raleway\", \"fontSize\": 18, \"fontWeight\": 300, \"offset\": 20}}, \"data\": {\"name\": \"data-a64594febd956212f57f371d3cf36998\"}, \"mark\": \"bar\", \"encoding\": {\"color\": {\"field\": \"organization_type\", \"legend\": {\"symbolLimit\": 10, \"title\": \"Organization Type\"}, \"scale\": {\"range\": [\"#2EA8CE\", \"#EB9F3C\", \"#F4D837\", \"#51BF9D\", \"#8CBCCB\", \"#9487C0\"]}, \"type\": \"nominal\"}, \"x\": {\"field\": \"organization_type\", \"sort\": \"-y\", \"title\": \"Organization Type\", \"type\": \"nominal\"}, \"y\": {\"field\": \"n\", \"title\": \"Count\", \"type\": \"quantitative\"}}, \"height\": 250, \"title\": \"5310 Organization Types\", \"width\": 400, \"$schema\": \"https://vega.github.io/schema/vega-lite/v4.17.0.json\", \"datasets\": {\"data-a64594febd956212f57f371d3cf36998\": [{\"organization_type\": \"City, County or Local Government Unit or Department of Transportation\", \"n\": 12}, {\"organization_type\": \"Company\", \"n\": 4}, {\"organization_type\": \"Independent Agency\", \"n\": 5}, {\"organization_type\": \"Independent Public Agency or Authority of Transit Service\", \"n\": 28}, {\"organization_type\": \"MPO/RTPA\", \"n\": 3}, {\"organization_type\": \"Non-Profit Organization\", \"n\": 90}, {\"organization_type\": \"Other\", \"n\": 3}, {\"organization_type\": \"Private-Non-Profit Corporation\", \"n\": 1}, {\"organization_type\": \"University\", \"n\": 1}]}}, {\"mode\": \"vega-lite\"});\n",
       "</script>"
      ],
      "text/plain": [
       "alt.Chart(...)"
      ]
     },
     "execution_count": 6,
     "metadata": {},
     "output_type": "execute_result"
    }
   ],
   "source": [
    "\n",
    "\n",
    "org_counts= grouped>>count(_.organization_type)\n",
    "bar_chart(org_counts,\n",
    "    \"organization_type\",\n",
    "    \"n\",\n",
    "    \"organization_type\",\n",
    "    \"5310 Organization Types\"\n",
    ")"
   ]
  },
  {
   "cell_type": "code",
   "execution_count": 7,
   "id": "1eade0b4-d58a-49a9-8ea5-da8972691f9c",
   "metadata": {
    "execution": {
     "iopub.execute_input": "2022-05-23T23:16:48.698383Z",
     "iopub.status.busy": "2022-05-23T23:16:48.698073Z",
     "iopub.status.idle": "2022-05-23T23:16:48.726048Z",
     "shell.execute_reply": "2022-05-23T23:16:48.724921Z"
    },
    "papermill": {
     "duration": 0.061812,
     "end_time": "2022-05-23T23:16:48.728238",
     "exception": false,
     "start_time": "2022-05-23T23:16:48.666426",
     "status": "completed"
    },
    "tags": []
   },
   "outputs": [
    {
     "data": {
      "text/html": [
       "\n",
       "<div id=\"altair-viz-4361e90b58624375b393b58ea1ed22d2\"></div>\n",
       "<script type=\"text/javascript\">\n",
       "  var VEGA_DEBUG = (typeof VEGA_DEBUG == \"undefined\") ? {} : VEGA_DEBUG;\n",
       "  (function(spec, embedOpt){\n",
       "    let outputDiv = document.currentScript.previousElementSibling;\n",
       "    if (outputDiv.id !== \"altair-viz-4361e90b58624375b393b58ea1ed22d2\") {\n",
       "      outputDiv = document.getElementById(\"altair-viz-4361e90b58624375b393b58ea1ed22d2\");\n",
       "    }\n",
       "    const paths = {\n",
       "      \"vega\": \"https://cdn.jsdelivr.net/npm//vega@5?noext\",\n",
       "      \"vega-lib\": \"https://cdn.jsdelivr.net/npm//vega-lib?noext\",\n",
       "      \"vega-lite\": \"https://cdn.jsdelivr.net/npm//vega-lite@4.17.0?noext\",\n",
       "      \"vega-embed\": \"https://cdn.jsdelivr.net/npm//vega-embed@6?noext\",\n",
       "    };\n",
       "\n",
       "    function maybeLoadScript(lib, version) {\n",
       "      var key = `${lib.replace(\"-\", \"\")}_version`;\n",
       "      return (VEGA_DEBUG[key] == version) ?\n",
       "        Promise.resolve(paths[lib]) :\n",
       "        new Promise(function(resolve, reject) {\n",
       "          var s = document.createElement('script');\n",
       "          document.getElementsByTagName(\"head\")[0].appendChild(s);\n",
       "          s.async = true;\n",
       "          s.onload = () => {\n",
       "            VEGA_DEBUG[key] = version;\n",
       "            return resolve(paths[lib]);\n",
       "          };\n",
       "          s.onerror = () => reject(`Error loading script: ${paths[lib]}`);\n",
       "          s.src = paths[lib];\n",
       "        });\n",
       "    }\n",
       "\n",
       "    function showError(err) {\n",
       "      outputDiv.innerHTML = `<div class=\"error\" style=\"color:red;\">${err}</div>`;\n",
       "      throw err;\n",
       "    }\n",
       "\n",
       "    function displayChart(vegaEmbed) {\n",
       "      vegaEmbed(outputDiv, spec, embedOpt)\n",
       "        .catch(err => showError(`Javascript Error: ${err.message}<br>This usually means there's a typo in your chart specification. See the javascript console for the full traceback.`));\n",
       "    }\n",
       "\n",
       "    if(typeof define === \"function\" && define.amd) {\n",
       "      requirejs.config({paths});\n",
       "      require([\"vega-embed\"], displayChart, err => showError(`Error loading script: ${err.message}`));\n",
       "    } else {\n",
       "      maybeLoadScript(\"vega\", \"5\")\n",
       "        .then(() => maybeLoadScript(\"vega-lite\", \"4.17.0\"))\n",
       "        .then(() => maybeLoadScript(\"vega-embed\", \"6\"))\n",
       "        .catch(showError)\n",
       "        .then(() => displayChart(vegaEmbed));\n",
       "    }\n",
       "  })({\"config\": {\"view\": {\"continuousWidth\": 400, \"continuousHeight\": 300}, \"axis\": {\"domainColor\": \"#cbcbcb\", \"grid\": true, \"gridColor\": \"#cbcbcb\", \"gridWidth\": 1, \"labelColor\": \"#474747\", \"labelFont\": \"Nunito Sans\", \"labelFontSize\": 10, \"labelPadding\": 4, \"tickColor\": \"#cbcbcb\", \"tickSize\": 10, \"titleColor\": \"#333\", \"titleFont\": \"Raleway\", \"titleFontSize\": 12, \"titlePadding\": 10}, \"axisBand\": {\"grid\": false}, \"background\": \"white\", \"font\": \"Raleway\", \"header\": {\"labelFont\": \"Nunito Sans\", \"titleFont\": \"Raleway\"}, \"legend\": {\"labelColor\": \"#333\", \"labelFont\": \"Nunito Sans\", \"labelFontSize\": 11, \"labelLimit\": 0, \"padding\": 1, \"symbolSize\": 30, \"symbolType\": \"square\", \"titleColor\": \"#333\", \"titleFont\": \"Raleway\", \"titleFontSize\": 14, \"titlePadding\": 10}, \"title\": {\"anchor\": \"middle\", \"font\": \"Raleway\", \"fontSize\": 18, \"fontWeight\": 300, \"offset\": 20}}, \"data\": {\"name\": \"data-811c6713922061ce69ead7e74299d89e\"}, \"mark\": \"bar\", \"encoding\": {\"color\": {\"field\": \"county\", \"legend\": {\"symbolLimit\": 10, \"title\": \"County\"}, \"scale\": {\"range\": [\"#2EA8CE\", \"#EB9F3C\", \"#F4D837\", \"#51BF9D\", \"#8CBCCB\", \"#9487C0\"]}, \"type\": \"nominal\"}, \"x\": {\"field\": \"county\", \"sort\": \"-y\", \"title\": \"County\", \"type\": \"nominal\"}, \"y\": {\"field\": \"n\", \"title\": \"Count\", \"type\": \"quantitative\"}}, \"height\": 250, \"title\": \"Counties with 5310 Organizations (Single County)\", \"width\": 400, \"$schema\": \"https://vega.github.io/schema/vega-lite/v4.17.0.json\", \"datasets\": {\"data-811c6713922061ce69ead7e74299d89e\": [{\"county\": \"Alameda\", \"n\": 29}, {\"county\": \"Amador\", \"n\": 4}, {\"county\": \"Butte\", \"n\": 26}, {\"county\": \"Calaveras\", \"n\": 2}, {\"county\": \"Colusa\", \"n\": 4}, {\"county\": \"Contra Costa\", \"n\": 36}, {\"county\": \"Del Norte\", \"n\": 4}, {\"county\": \"El Dorado\", \"n\": 12}, {\"county\": \"Humboldt\", \"n\": 29}, {\"county\": \"Imperial\", \"n\": 11}, {\"county\": \"Inyo\", \"n\": 10}, {\"county\": \"Kern\", \"n\": 78}, {\"county\": \"Kings\", \"n\": 30}, {\"county\": \"Lake\", \"n\": 8}, {\"county\": \"Marin\", \"n\": 27}, {\"county\": \"Mendocino\", \"n\": 13}, {\"county\": \"Monterey\", \"n\": 26}, {\"county\": \"Napa\", \"n\": 4}, {\"county\": \"Nevada\", \"n\": 12}, {\"county\": \"Placer\", \"n\": 52}, {\"county\": \"Riverside\", \"n\": 84}, {\"county\": \"Sacramento\", \"n\": 80}, {\"county\": \"San Benito\", \"n\": 6}, {\"county\": \"San Bernardino\", \"n\": 41}, {\"county\": \"San Diego\", \"n\": 13}, {\"county\": \"San Francisco\", \"n\": 69}, {\"county\": \"San Joaquin\", \"n\": 30}, {\"county\": \"San Luis Obispo\", \"n\": 51}, {\"county\": \"San Mateo\", \"n\": 6}, {\"county\": \"Santa Barbara\", \"n\": 36}, {\"county\": \"Santa Clara\", \"n\": 19}, {\"county\": \"Santa Cruz\", \"n\": 8}, {\"county\": \"Shasta\", \"n\": 11}, {\"county\": \"Solano\", \"n\": 26}, {\"county\": \"Sonoma\", \"n\": 15}, {\"county\": \"Stanislaus\", \"n\": 16}, {\"county\": \"Tehama\", \"n\": 14}, {\"county\": \"Tulare\", \"n\": 22}, {\"county\": \"Tuolumne\", \"n\": 3}, {\"county\": \"Ventura\", \"n\": 1}, {\"county\": \"Yolo\", \"n\": 6}]}}, {\"mode\": \"vega-lite\"});\n",
       "</script>"
      ],
      "text/plain": [
       "alt.Chart(...)"
      ]
     },
     "execution_count": 7,
     "metadata": {},
     "output_type": "execute_result"
    }
   ],
   "source": [
    "single_county = df[~df[\"county\"].str.contains(\",\", na=False)]\n",
    "bar_chart((single_county>>count(_.county)),\n",
    "    \"county\",\n",
    "    \"n\",\n",
    "    \"county\",\n",
    "    \"Counties with 5310 Organizations (Single County)\"\n",
    ")"
   ]
  },
  {
   "cell_type": "code",
   "execution_count": 8,
   "id": "e6e14fbb-99a1-43ab-adcc-9eab771525aa",
   "metadata": {
    "execution": {
     "iopub.execute_input": "2022-05-23T23:16:48.797861Z",
     "iopub.status.busy": "2022-05-23T23:16:48.797001Z",
     "iopub.status.idle": "2022-05-23T23:16:48.845661Z",
     "shell.execute_reply": "2022-05-23T23:16:48.844539Z"
    },
    "papermill": {
     "duration": 0.093118,
     "end_time": "2022-05-23T23:16:48.852184",
     "exception": false,
     "start_time": "2022-05-23T23:16:48.759066",
     "status": "completed"
    },
    "tags": []
   },
   "outputs": [
    {
     "data": {
      "text/html": [
       "\n",
       "<div id=\"altair-viz-12e7b50df99f4c7cb3a3701cc3c80ff9\"></div>\n",
       "<script type=\"text/javascript\">\n",
       "  var VEGA_DEBUG = (typeof VEGA_DEBUG == \"undefined\") ? {} : VEGA_DEBUG;\n",
       "  (function(spec, embedOpt){\n",
       "    let outputDiv = document.currentScript.previousElementSibling;\n",
       "    if (outputDiv.id !== \"altair-viz-12e7b50df99f4c7cb3a3701cc3c80ff9\") {\n",
       "      outputDiv = document.getElementById(\"altair-viz-12e7b50df99f4c7cb3a3701cc3c80ff9\");\n",
       "    }\n",
       "    const paths = {\n",
       "      \"vega\": \"https://cdn.jsdelivr.net/npm//vega@5?noext\",\n",
       "      \"vega-lib\": \"https://cdn.jsdelivr.net/npm//vega-lib?noext\",\n",
       "      \"vega-lite\": \"https://cdn.jsdelivr.net/npm//vega-lite@4.17.0?noext\",\n",
       "      \"vega-embed\": \"https://cdn.jsdelivr.net/npm//vega-embed@6?noext\",\n",
       "    };\n",
       "\n",
       "    function maybeLoadScript(lib, version) {\n",
       "      var key = `${lib.replace(\"-\", \"\")}_version`;\n",
       "      return (VEGA_DEBUG[key] == version) ?\n",
       "        Promise.resolve(paths[lib]) :\n",
       "        new Promise(function(resolve, reject) {\n",
       "          var s = document.createElement('script');\n",
       "          document.getElementsByTagName(\"head\")[0].appendChild(s);\n",
       "          s.async = true;\n",
       "          s.onload = () => {\n",
       "            VEGA_DEBUG[key] = version;\n",
       "            return resolve(paths[lib]);\n",
       "          };\n",
       "          s.onerror = () => reject(`Error loading script: ${paths[lib]}`);\n",
       "          s.src = paths[lib];\n",
       "        });\n",
       "    }\n",
       "\n",
       "    function showError(err) {\n",
       "      outputDiv.innerHTML = `<div class=\"error\" style=\"color:red;\">${err}</div>`;\n",
       "      throw err;\n",
       "    }\n",
       "\n",
       "    function displayChart(vegaEmbed) {\n",
       "      vegaEmbed(outputDiv, spec, embedOpt)\n",
       "        .catch(err => showError(`Javascript Error: ${err.message}<br>This usually means there's a typo in your chart specification. See the javascript console for the full traceback.`));\n",
       "    }\n",
       "\n",
       "    if(typeof define === \"function\" && define.amd) {\n",
       "      requirejs.config({paths});\n",
       "      require([\"vega-embed\"], displayChart, err => showError(`Error loading script: ${err.message}`));\n",
       "    } else {\n",
       "      maybeLoadScript(\"vega\", \"5\")\n",
       "        .then(() => maybeLoadScript(\"vega-lite\", \"4.17.0\"))\n",
       "        .then(() => maybeLoadScript(\"vega-embed\", \"6\"))\n",
       "        .catch(showError)\n",
       "        .then(() => displayChart(vegaEmbed));\n",
       "    }\n",
       "  })({\"config\": {\"view\": {\"continuousWidth\": 400, \"continuousHeight\": 300}, \"axis\": {\"domainColor\": \"#cbcbcb\", \"grid\": true, \"gridColor\": \"#cbcbcb\", \"gridWidth\": 1, \"labelColor\": \"#474747\", \"labelFont\": \"Nunito Sans\", \"labelFontSize\": 10, \"labelPadding\": 4, \"tickColor\": \"#cbcbcb\", \"tickSize\": 10, \"titleColor\": \"#333\", \"titleFont\": \"Raleway\", \"titleFontSize\": 12, \"titlePadding\": 10}, \"axisBand\": {\"grid\": false}, \"background\": \"white\", \"font\": \"Raleway\", \"header\": {\"labelFont\": \"Nunito Sans\", \"titleFont\": \"Raleway\"}, \"legend\": {\"labelColor\": \"#333\", \"labelFont\": \"Nunito Sans\", \"labelFontSize\": 11, \"labelLimit\": 0, \"padding\": 1, \"symbolSize\": 30, \"symbolType\": \"square\", \"titleColor\": \"#333\", \"titleFont\": \"Raleway\", \"titleFontSize\": 14, \"titlePadding\": 10}, \"title\": {\"anchor\": \"middle\", \"font\": \"Raleway\", \"fontSize\": 18, \"fontWeight\": 300, \"offset\": 20}}, \"data\": {\"name\": \"data-3d2f5442b3540fccf2124d9d9ddae466\"}, \"mark\": \"bar\", \"encoding\": {\"color\": {\"field\": \"county\", \"legend\": {\"symbolLimit\": 10, \"title\": \"County\"}, \"scale\": {\"range\": [\"#2EA8CE\", \"#EB9F3C\", \"#F4D837\", \"#51BF9D\", \"#8CBCCB\", \"#9487C0\"]}, \"type\": \"nominal\"}, \"x\": {\"field\": \"county\", \"sort\": \"-y\", \"title\": \"County\", \"type\": \"nominal\"}, \"y\": {\"field\": \"n\", \"title\": \"Count\", \"type\": \"quantitative\"}}, \"height\": 250, \"title\": \"Counties with 5310 Organizations Operating\", \"width\": 400, \"$schema\": \"https://vega.github.io/schema/vega-lite/v4.17.0.json\", \"datasets\": {\"data-3d2f5442b3540fccf2124d9d9ddae466\": [{\"county\": \"Alameda\", \"n\": 70}, {\"county\": \"Amador\", \"n\": 22}, {\"county\": \"Butte\", \"n\": 29}, {\"county\": \"Calaveras\", \"n\": 20}, {\"county\": \"Carson City\", \"n\": 1}, {\"county\": \"Colusa\", \"n\": 4}, {\"county\": \"Contra Costa\", \"n\": 60}, {\"county\": \"De Norte\", \"n\": 1}, {\"county\": \"Del Norte\", \"n\": 4}, {\"county\": \"Douglas\", \"n\": 1}, {\"county\": \"El Dorado\", \"n\": 12}, {\"county\": \"Glen\", \"n\": 3}, {\"county\": \"Humboldt\", \"n\": 30}, {\"county\": \"Imperial\", \"n\": 11}, {\"county\": \"Inyo\", \"n\": 12}, {\"county\": \"Kern\", \"n\": 78}, {\"county\": \"Kings\", \"n\": 30}, {\"county\": \"Lake\", \"n\": 8}, {\"county\": \"Lassen\", \"n\": 1}, {\"county\": \"Los Angeles\", \"n\": 6}, {\"county\": \"Marin\", \"n\": 27}, {\"county\": \"Mendocino\", \"n\": 13}, {\"county\": \"Modoc\", \"n\": 1}, {\"county\": \"Mono\", \"n\": 2}, {\"county\": \"Monterey\", \"n\": 56}, {\"county\": \"Napa\", \"n\": 9}, {\"county\": \"Nevada\", \"n\": 17}, {\"county\": \"Orange\", \"n\": 2}, {\"county\": \"Placer\", \"n\": 53}, {\"county\": \"Riverside\", \"n\": 90}, {\"county\": \"Sacramento\", \"n\": 85}, {\"county\": \"San Benito\", \"n\": 34}, {\"county\": \"San Bernardino\", \"n\": 47}, {\"county\": \"San Diego\", \"n\": 13}, {\"county\": \"San Francisco\", \"n\": 120}, {\"county\": \"San Joaquin\", \"n\": 30}, {\"county\": \"San Luis Obispo\", \"n\": 53}, {\"county\": \"San Mateo\", \"n\": 57}, {\"county\": \"Santa Barbara\", \"n\": 38}, {\"county\": \"Santa Clara\", \"n\": 86}, {\"county\": \"Santa Cruz\", \"n\": 10}, {\"county\": \"Shasta\", \"n\": 11}, {\"county\": \"Sierra\", \"n\": 5}, {\"county\": \"Solano\", \"n\": 31}, {\"county\": \"Sonoma\", \"n\": 15}, {\"county\": \"Stanislaus\", \"n\": 16}, {\"county\": \"Tehama\", \"n\": 14}, {\"county\": \"Tulare\", \"n\": 22}, {\"county\": \"Tuolumne\", \"n\": 14}, {\"county\": \"Ventura\", \"n\": 3}, {\"county\": \"Washoe\", \"n\": 1}, {\"county\": \"Yolo\", \"n\": 6}]}}, {\"mode\": \"vega-lite\"});\n",
       "</script>"
      ],
      "text/plain": [
       "alt.Chart(...)"
      ]
     },
     "execution_count": 8,
     "metadata": {},
     "output_type": "execute_result"
    }
   ],
   "source": [
    "county_explode = df>>select(_.organization_name, _.ntd_id, _.itp_id, _.organization_type, _.city, _.county, _.merge_status)\n",
    "county_explode.explode('county')\n",
    "\n",
    "county_explode2 = county_explode.assign(county_split = df['county'].str.split(', ')).drop(\"county\", axis=1)\\\n",
    "    .rename(columns = {\"county_split\": \"county\"})\n",
    "county_explode2 = county_explode2.explode('county')\n",
    "\n",
    "bar_chart((county_explode2>>count(_.county)),\n",
    "    \"county\",\n",
    "    \"n\",\n",
    "    \"county\",\n",
    "    \"Counties with 5310 Organizations Operating\"\n",
    ")"
   ]
  },
  {
   "cell_type": "code",
   "execution_count": null,
   "id": "61afe2ef-5eac-49fa-8f39-6b90797e70c1",
   "metadata": {
    "papermill": {
     "duration": 0.02854,
     "end_time": "2022-05-23T23:16:48.910555",
     "exception": false,
     "start_time": "2022-05-23T23:16:48.882015",
     "status": "completed"
    },
    "tags": []
   },
   "outputs": [],
   "source": []
  },
  {
   "cell_type": "markdown",
   "id": "729a3a29-97e8-4b27-8315-a5d42e7f4575",
   "metadata": {
    "papermill": {
     "duration": 0.028762,
     "end_time": "2022-05-23T23:16:48.968091",
     "exception": false,
     "start_time": "2022-05-23T23:16:48.939329",
     "status": "completed"
    },
    "tags": []
   },
   "source": [
    "## Project Types"
   ]
  },
  {
   "cell_type": "code",
   "execution_count": 9,
   "id": "91aa7dec-90c0-41e5-93b0-b56e57a3e779",
   "metadata": {
    "execution": {
     "iopub.execute_input": "2022-05-23T23:16:49.028428Z",
     "iopub.status.busy": "2022-05-23T23:16:49.027994Z",
     "iopub.status.idle": "2022-05-23T23:16:49.032138Z",
     "shell.execute_reply": "2022-05-23T23:16:49.031139Z"
    },
    "papermill": {
     "duration": 0.036967,
     "end_time": "2022-05-23T23:16:49.034739",
     "exception": false,
     "start_time": "2022-05-23T23:16:48.997772",
     "status": "completed"
    },
    "tags": []
   },
   "outputs": [],
   "source": [
    "#df.sample()"
   ]
  },
  {
   "cell_type": "code",
   "execution_count": 10,
   "id": "c86d16f7-5006-4d76-b9e9-9f0645a61624",
   "metadata": {
    "execution": {
     "iopub.execute_input": "2022-05-23T23:16:49.091676Z",
     "iopub.status.busy": "2022-05-23T23:16:49.091360Z",
     "iopub.status.idle": "2022-05-23T23:16:49.331343Z",
     "shell.execute_reply": "2022-05-23T23:16:49.330228Z"
    },
    "papermill": {
     "duration": 0.27181,
     "end_time": "2022-05-23T23:16:49.333702",
     "exception": false,
     "start_time": "2022-05-23T23:16:49.061892",
     "status": "completed"
    },
    "tags": []
   },
   "outputs": [],
   "source": [
    "ptype_counts = (df\n",
    " >>group_by(_.organization_name)\n",
    " >>summarize(n_vp = _.vehicle_purchase.sum(), \n",
    "            n_oa = _.operating_assistance.sum(),\n",
    "            n_mm = _.mobility_management.sum(),\n",
    "            n_hsp = _.hardware_software_purchase.sum(),\n",
    "            n_c = _.communications.sum(),\n",
    "            n_fe = _.facilities_eqp.sum(),\n",
    "             n_s = _.surveillance.sum(),\n",
    "             n_sub = _.subsidy.sum()\n",
    "            )\n",
    ")"
   ]
  },
  {
   "cell_type": "code",
   "execution_count": 11,
   "id": "7959f123-155b-4dbe-b615-c01c60184109",
   "metadata": {
    "execution": {
     "iopub.execute_input": "2022-05-23T23:16:49.397187Z",
     "iopub.status.busy": "2022-05-23T23:16:49.396907Z",
     "iopub.status.idle": "2022-05-23T23:16:49.400696Z",
     "shell.execute_reply": "2022-05-23T23:16:49.399772Z"
    },
    "papermill": {
     "duration": 0.039131,
     "end_time": "2022-05-23T23:16:49.403585",
     "exception": false,
     "start_time": "2022-05-23T23:16:49.364454",
     "status": "completed"
    },
    "tags": []
   },
   "outputs": [],
   "source": [
    "#ptype_counts.sample()"
   ]
  },
  {
   "cell_type": "code",
   "execution_count": 12,
   "id": "784c3bd5-0305-404b-bdd9-20722df1baba",
   "metadata": {
    "execution": {
     "iopub.execute_input": "2022-05-23T23:16:49.468933Z",
     "iopub.status.busy": "2022-05-23T23:16:49.468564Z",
     "iopub.status.idle": "2022-05-23T23:16:49.473045Z",
     "shell.execute_reply": "2022-05-23T23:16:49.472169Z"
    },
    "papermill": {
     "duration": 0.042795,
     "end_time": "2022-05-23T23:16:49.475745",
     "exception": false,
     "start_time": "2022-05-23T23:16:49.432950",
     "status": "completed"
    },
    "tags": []
   },
   "outputs": [],
   "source": [
    "# columns = ['n_vp','n_oa','n_mm','n_hsp','n_c','n_fe','n_s','n_sub']\n",
    "\n",
    "# for column in columns: \n",
    "#     ptype_counts.column[ptype_counts[column]> 0] = 1"
   ]
  },
  {
   "cell_type": "code",
   "execution_count": 13,
   "id": "4e6ce43e-0560-4d2e-8fbb-3a283aae968f",
   "metadata": {
    "execution": {
     "iopub.execute_input": "2022-05-23T23:16:49.537045Z",
     "iopub.status.busy": "2022-05-23T23:16:49.536562Z",
     "iopub.status.idle": "2022-05-23T23:16:49.541559Z",
     "shell.execute_reply": "2022-05-23T23:16:49.540603Z"
    },
    "papermill": {
     "duration": 0.038251,
     "end_time": "2022-05-23T23:16:49.544522",
     "exception": false,
     "start_time": "2022-05-23T23:16:49.506271",
     "status": "completed"
    },
    "tags": []
   },
   "outputs": [],
   "source": [
    "#WORKED for getting yes/no present\n",
    "## from https://stackoverflow.com/questions/61996932/replacing-values-greater-1-in-a-large-pandas-dataframe\n",
    "\n",
    "#ptype_counts.set_index('organization_name',inplace=True)\n",
    "#ptype_counts[ptype_counts >= 1] = 'Yes'\n",
    "#ptype_counts.reset_index()"
   ]
  },
  {
   "cell_type": "code",
   "execution_count": 14,
   "id": "fe23427a-0efa-4521-9874-a7ee3fcb998a",
   "metadata": {
    "execution": {
     "iopub.execute_input": "2022-05-23T23:16:49.611532Z",
     "iopub.status.busy": "2022-05-23T23:16:49.611137Z",
     "iopub.status.idle": "2022-05-23T23:16:49.618467Z",
     "shell.execute_reply": "2022-05-23T23:16:49.617393Z"
    },
    "papermill": {
     "duration": 0.041888,
     "end_time": "2022-05-23T23:16:49.620627",
     "exception": false,
     "start_time": "2022-05-23T23:16:49.578739",
     "status": "completed"
    },
    "tags": []
   },
   "outputs": [],
   "source": [
    "#ptype_counts = ptype_counts.replace(0, 'No')"
   ]
  },
  {
   "cell_type": "code",
   "execution_count": 15,
   "id": "f7a63dfc-11a4-4de3-890b-84e4858db4bd",
   "metadata": {
    "execution": {
     "iopub.execute_input": "2022-05-23T23:16:49.682664Z",
     "iopub.status.busy": "2022-05-23T23:16:49.682363Z",
     "iopub.status.idle": "2022-05-23T23:16:49.687161Z",
     "shell.execute_reply": "2022-05-23T23:16:49.686077Z"
    },
    "papermill": {
     "duration": 0.039881,
     "end_time": "2022-05-23T23:16:49.689714",
     "exception": false,
     "start_time": "2022-05-23T23:16:49.649833",
     "status": "completed"
    },
    "tags": []
   },
   "outputs": [],
   "source": [
    "#ptype_counts.to_csv('single_counts_2.csv')"
   ]
  },
  {
   "cell_type": "code",
   "execution_count": 16,
   "id": "dd6f2fcc-789c-4e8b-974b-477d6323f3f3",
   "metadata": {
    "execution": {
     "iopub.execute_input": "2022-05-23T23:16:49.758985Z",
     "iopub.status.busy": "2022-05-23T23:16:49.758706Z",
     "iopub.status.idle": "2022-05-23T23:16:49.762761Z",
     "shell.execute_reply": "2022-05-23T23:16:49.761762Z"
    },
    "jupyter": {
     "source_hidden": true
    },
    "papermill": {
     "duration": 0.040131,
     "end_time": "2022-05-23T23:16:49.765206",
     "exception": false,
     "start_time": "2022-05-23T23:16:49.725075",
     "status": "completed"
    },
    "tags": []
   },
   "outputs": [],
   "source": [
    "# # def project_present(df):\n",
    "# #     columns = ['n_vp','n_oa','n_mm','n_hsp','n_c','n_fe','n_s','n_sub']\n",
    "# #     if df.column != 0:\n",
    "# #         return 1\n",
    "# #     else:\n",
    "# #         return 0\n",
    "\n",
    "# # for column in columns:\n",
    "# #     df[f\"{column}_2\"] = df.apply(lambda x: project_present(x), axis=1)\n",
    "    \n",
    "    \n",
    "    \n",
    "# columns = ['n_vp','n_oa','n_mm','n_hsp','n_c','n_fe','n_s','n_sub']\n",
    "\n",
    "# for column in columns:\n",
    "#     ptype_counts[f\"{column}_2\"] = ptype_counts[column].any(1).astype(int)\n"
   ]
  },
  {
   "cell_type": "code",
   "execution_count": 17,
   "id": "fa90b69d-1c5f-4a72-8708-67a90bbd5e90",
   "metadata": {
    "execution": {
     "iopub.execute_input": "2022-05-23T23:16:49.833564Z",
     "iopub.status.busy": "2022-05-23T23:16:49.833213Z",
     "iopub.status.idle": "2022-05-23T23:16:49.842214Z",
     "shell.execute_reply": "2022-05-23T23:16:49.841433Z"
    },
    "papermill": {
     "duration": 0.044584,
     "end_time": "2022-05-23T23:16:49.844124",
     "exception": false,
     "start_time": "2022-05-23T23:16:49.799540",
     "status": "completed"
    },
    "tags": []
   },
   "outputs": [],
   "source": [
    "ptype_counts.set_index('organization_name',inplace=True)\n",
    "ptype_counts[ptype_counts >= 1] = 1\n",
    "ptype_counts = ptype_counts.reset_index()"
   ]
  },
  {
   "cell_type": "code",
   "execution_count": 18,
   "id": "9397d852-4b68-4714-b6e5-ad836b5d096d",
   "metadata": {
    "execution": {
     "iopub.execute_input": "2022-05-23T23:16:49.904483Z",
     "iopub.status.busy": "2022-05-23T23:16:49.904137Z",
     "iopub.status.idle": "2022-05-23T23:16:49.910043Z",
     "shell.execute_reply": "2022-05-23T23:16:49.909048Z"
    },
    "papermill": {
     "duration": 0.039793,
     "end_time": "2022-05-23T23:16:49.912314",
     "exception": false,
     "start_time": "2022-05-23T23:16:49.872521",
     "status": "completed"
    },
    "tags": []
   },
   "outputs": [],
   "source": [
    "ptype_counts = ptype_counts.rename(\n",
    "    columns={\n",
    "        \"organization_name\": \"Organization Name\",\n",
    "        \"n_vp\": \"Vehicle Purchase\",\n",
    "        \"n_oa\": \"Operating Assistance\",\n",
    "        \"n_mm\": \"Mobility Management\",\n",
    "        \"n_hsp\": \"Hardware/Software Purchase\",\n",
    "        \"n_c\": \"Communications\",\n",
    "        \"n_fe\": \"Facilities Equipment\",\n",
    "        \"n_s\": \"Surveillance\",\n",
    "        \"n_sub\": \"Subsidies\",\n",
    "    }\n",
    ")"
   ]
  },
  {
   "cell_type": "code",
   "execution_count": 19,
   "id": "8eb30ee2-c237-43ef-975a-c5205c4fae23",
   "metadata": {
    "execution": {
     "iopub.execute_input": "2022-05-23T23:16:49.973109Z",
     "iopub.status.busy": "2022-05-23T23:16:49.972830Z",
     "iopub.status.idle": "2022-05-23T23:16:50.000443Z",
     "shell.execute_reply": "2022-05-23T23:16:49.999515Z"
    },
    "papermill": {
     "duration": 0.06166,
     "end_time": "2022-05-23T23:16:50.003427",
     "exception": false,
     "start_time": "2022-05-23T23:16:49.941767",
     "status": "completed"
    },
    "tags": []
   },
   "outputs": [
    {
     "data": {
      "text/html": [
       "\n",
       "<div id=\"altair-viz-27d7dafa3f8b48859a787adc468b75f0\"></div>\n",
       "<script type=\"text/javascript\">\n",
       "  var VEGA_DEBUG = (typeof VEGA_DEBUG == \"undefined\") ? {} : VEGA_DEBUG;\n",
       "  (function(spec, embedOpt){\n",
       "    let outputDiv = document.currentScript.previousElementSibling;\n",
       "    if (outputDiv.id !== \"altair-viz-27d7dafa3f8b48859a787adc468b75f0\") {\n",
       "      outputDiv = document.getElementById(\"altair-viz-27d7dafa3f8b48859a787adc468b75f0\");\n",
       "    }\n",
       "    const paths = {\n",
       "      \"vega\": \"https://cdn.jsdelivr.net/npm//vega@5?noext\",\n",
       "      \"vega-lib\": \"https://cdn.jsdelivr.net/npm//vega-lib?noext\",\n",
       "      \"vega-lite\": \"https://cdn.jsdelivr.net/npm//vega-lite@4.17.0?noext\",\n",
       "      \"vega-embed\": \"https://cdn.jsdelivr.net/npm//vega-embed@6?noext\",\n",
       "    };\n",
       "\n",
       "    function maybeLoadScript(lib, version) {\n",
       "      var key = `${lib.replace(\"-\", \"\")}_version`;\n",
       "      return (VEGA_DEBUG[key] == version) ?\n",
       "        Promise.resolve(paths[lib]) :\n",
       "        new Promise(function(resolve, reject) {\n",
       "          var s = document.createElement('script');\n",
       "          document.getElementsByTagName(\"head\")[0].appendChild(s);\n",
       "          s.async = true;\n",
       "          s.onload = () => {\n",
       "            VEGA_DEBUG[key] = version;\n",
       "            return resolve(paths[lib]);\n",
       "          };\n",
       "          s.onerror = () => reject(`Error loading script: ${paths[lib]}`);\n",
       "          s.src = paths[lib];\n",
       "        });\n",
       "    }\n",
       "\n",
       "    function showError(err) {\n",
       "      outputDiv.innerHTML = `<div class=\"error\" style=\"color:red;\">${err}</div>`;\n",
       "      throw err;\n",
       "    }\n",
       "\n",
       "    function displayChart(vegaEmbed) {\n",
       "      vegaEmbed(outputDiv, spec, embedOpt)\n",
       "        .catch(err => showError(`Javascript Error: ${err.message}<br>This usually means there's a typo in your chart specification. See the javascript console for the full traceback.`));\n",
       "    }\n",
       "\n",
       "    if(typeof define === \"function\" && define.amd) {\n",
       "      requirejs.config({paths});\n",
       "      require([\"vega-embed\"], displayChart, err => showError(`Error loading script: ${err.message}`));\n",
       "    } else {\n",
       "      maybeLoadScript(\"vega\", \"5\")\n",
       "        .then(() => maybeLoadScript(\"vega-lite\", \"4.17.0\"))\n",
       "        .then(() => maybeLoadScript(\"vega-embed\", \"6\"))\n",
       "        .catch(showError)\n",
       "        .then(() => displayChart(vegaEmbed));\n",
       "    }\n",
       "  })({\"config\": {\"view\": {\"continuousWidth\": 400, \"continuousHeight\": 300}, \"axis\": {\"domainColor\": \"#cbcbcb\", \"grid\": true, \"gridColor\": \"#cbcbcb\", \"gridWidth\": 1, \"labelColor\": \"#474747\", \"labelFont\": \"Nunito Sans\", \"labelFontSize\": 10, \"labelPadding\": 4, \"tickColor\": \"#cbcbcb\", \"tickSize\": 10, \"titleColor\": \"#333\", \"titleFont\": \"Raleway\", \"titleFontSize\": 12, \"titlePadding\": 10}, \"axisBand\": {\"grid\": false}, \"background\": \"white\", \"font\": \"Raleway\", \"header\": {\"labelFont\": \"Nunito Sans\", \"titleFont\": \"Raleway\"}, \"legend\": {\"labelColor\": \"#333\", \"labelFont\": \"Nunito Sans\", \"labelFontSize\": 11, \"labelLimit\": 0, \"padding\": 1, \"symbolSize\": 30, \"symbolType\": \"square\", \"titleColor\": \"#333\", \"titleFont\": \"Raleway\", \"titleFontSize\": 14, \"titlePadding\": 10}, \"title\": {\"anchor\": \"middle\", \"font\": \"Raleway\", \"fontSize\": 18, \"fontWeight\": 300, \"offset\": 20}}, \"data\": {\"name\": \"data-2e86ca2ab50e53252d015717e8a08c5c\"}, \"mark\": \"bar\", \"encoding\": {\"color\": {\"field\": \"Project Types\", \"legend\": {\"symbolLimit\": 10, \"title\": \"Project Types\"}, \"scale\": {\"range\": [\"#2EA8CE\", \"#EB9F3C\", \"#F4D837\", \"#51BF9D\", \"#8CBCCB\", \"#9487C0\"]}, \"type\": \"nominal\"}, \"x\": {\"field\": \"Project Types\", \"sort\": \"-y\", \"title\": \"Project Types\", \"type\": \"nominal\"}, \"y\": {\"field\": \"Count\", \"title\": \"Count\", \"type\": \"quantitative\"}}, \"height\": 250, \"title\": \"Number of Organizations using Project Types\", \"width\": 400, \"$schema\": \"https://vega.github.io/schema/vega-lite/v4.17.0.json\", \"datasets\": {\"data-2e86ca2ab50e53252d015717e8a08c5c\": [{\"Project Types\": \"Vehicle Purchase\", \"Count\": 92}, {\"Project Types\": \"Operating Assistance\", \"Count\": 65}, {\"Project Types\": \"Mobility Management\", \"Count\": 35}, {\"Project Types\": \"Hardware/Software Purchase\", \"Count\": 11}, {\"Project Types\": \"Communications\", \"Count\": 9}, {\"Project Types\": \"Facilities Equipment\", \"Count\": 5}, {\"Project Types\": \"Surveillance\", \"Count\": 4}, {\"Project Types\": \"Subsidies\", \"Count\": 1}]}}, {\"mode\": \"vega-lite\"});\n",
       "</script>"
      ],
      "text/plain": [
       "alt.Chart(...)"
      ]
     },
     "execution_count": 19,
     "metadata": {},
     "output_type": "execute_result"
    }
   ],
   "source": [
    "sum_ptype = ((ptype_counts)\n",
    "               .agg({'Vehicle Purchase':'sum', 'Operating Assistance':'sum',\n",
    "                      'Mobility Management':'sum','Hardware/Software Purchase':'sum','Communications':'sum',\n",
    "                     'Facilities Equipment':'sum', 'Surveillance':'sum', 'Subsidies':'sum'}).reset_index())\n",
    "sum_ptype = sum_ptype.rename(columns = {\"index\":\"Project Types\",0:\"Count\"})\n",
    "bar_chart((sum_ptype),\n",
    "    \"Project Types\",\n",
    "    \"Count\",\n",
    "    \"Project Types\",\n",
    "    \"Number of Organizations using Project Types\"\n",
    ")"
   ]
  },
  {
   "cell_type": "code",
   "execution_count": 20,
   "id": "c2755c2d-6b11-439f-9d19-53fdde67b240",
   "metadata": {
    "execution": {
     "iopub.execute_input": "2022-05-23T23:16:50.064874Z",
     "iopub.status.busy": "2022-05-23T23:16:50.064561Z",
     "iopub.status.idle": "2022-05-23T23:16:50.069068Z",
     "shell.execute_reply": "2022-05-23T23:16:50.068211Z"
    },
    "papermill": {
     "duration": 0.037825,
     "end_time": "2022-05-23T23:16:50.071450",
     "exception": false,
     "start_time": "2022-05-23T23:16:50.033625",
     "status": "completed"
    },
    "tags": []
   },
   "outputs": [],
   "source": [
    "def pretify_tables(df):\n",
    "    df = df.rename(columns = _dla_utils.labeling)\n",
    "    display(HTML(df.to_html(index=False)))"
   ]
  },
  {
   "cell_type": "code",
   "execution_count": 21,
   "id": "4085cea8-a3b3-4796-87c8-3f73fe4f73e0",
   "metadata": {
    "execution": {
     "iopub.execute_input": "2022-05-23T23:16:50.137191Z",
     "iopub.status.busy": "2022-05-23T23:16:50.136864Z",
     "iopub.status.idle": "2022-05-23T23:16:50.236885Z",
     "shell.execute_reply": "2022-05-23T23:16:50.235945Z"
    },
    "papermill": {
     "duration": 0.132837,
     "end_time": "2022-05-23T23:16:50.239350",
     "exception": false,
     "start_time": "2022-05-23T23:16:50.106513",
     "status": "completed"
    },
    "scrolled": true,
    "tags": []
   },
   "outputs": [
    {
     "data": {
      "text/html": [
       "<br><br><strong>Organization with Vehicle Purchase Project Types Present</strong>"
      ],
      "text/plain": [
       "<IPython.core.display.HTML object>"
      ]
     },
     "metadata": {},
     "output_type": "display_data"
    },
    {
     "data": {
      "text/html": [
       "<table border=\"1\" class=\"dataframe\">\n",
       "  <thead>\n",
       "    <tr style=\"text-align: right;\">\n",
       "      <th>Organization Name</th>\n",
       "    </tr>\n",
       "  </thead>\n",
       "  <tbody>\n",
       "    <tr>\n",
       "      <td>ARC Bakersfield</td>\n",
       "    </tr>\n",
       "    <tr>\n",
       "      <td>ARC Imperial Valley</td>\n",
       "    </tr>\n",
       "    <tr>\n",
       "      <td>Able Industries</td>\n",
       "    </tr>\n",
       "    <tr>\n",
       "      <td>Alegria Community Living</td>\n",
       "    </tr>\n",
       "    <tr>\n",
       "      <td>Angel View Inc</td>\n",
       "    </tr>\n",
       "    <tr>\n",
       "      <td>Asian Community Center of Sacramento Valley Inc DBA ACC Senior Services</td>\n",
       "    </tr>\n",
       "    <tr>\n",
       "      <td>Avenidas</td>\n",
       "    </tr>\n",
       "    <tr>\n",
       "      <td>Bay Area Outreach &amp; Recreation Program Inc</td>\n",
       "    </tr>\n",
       "    <tr>\n",
       "      <td>Big Valley 50 Plus</td>\n",
       "    </tr>\n",
       "    <tr>\n",
       "      <td>Butte County Association of Governments  Butte Regional Transit</td>\n",
       "    </tr>\n",
       "    <tr>\n",
       "      <td>Calaveras County Public Works</td>\n",
       "    </tr>\n",
       "    <tr>\n",
       "      <td>Care-A-Van Transit Systems Inc</td>\n",
       "    </tr>\n",
       "    <tr>\n",
       "      <td>Casa Allegra Community Services</td>\n",
       "    </tr>\n",
       "    <tr>\n",
       "      <td>Catholic Charities of the Diocese of Stockton</td>\n",
       "    </tr>\n",
       "    <tr>\n",
       "      <td>Center for Elders' Independence</td>\n",
       "    </tr>\n",
       "    <tr>\n",
       "      <td>Choice in Aging</td>\n",
       "    </tr>\n",
       "    <tr>\n",
       "      <td>City of Fontana</td>\n",
       "    </tr>\n",
       "    <tr>\n",
       "      <td>City of Santa Rosa</td>\n",
       "    </tr>\n",
       "    <tr>\n",
       "      <td>Coastal Seniors Inc</td>\n",
       "    </tr>\n",
       "    <tr>\n",
       "      <td>Colusa County Transit Agency</td>\n",
       "    </tr>\n",
       "    <tr>\n",
       "      <td>Common Ground Senior Services</td>\n",
       "    </tr>\n",
       "    <tr>\n",
       "      <td>Community Bridges Liftline</td>\n",
       "    </tr>\n",
       "    <tr>\n",
       "      <td>Consolidated Tribal Health Project Inc</td>\n",
       "    </tr>\n",
       "    <tr>\n",
       "      <td>Contra Costa ARC</td>\n",
       "    </tr>\n",
       "    <tr>\n",
       "      <td>County of Nevada Public Works Transit Services Division</td>\n",
       "    </tr>\n",
       "    <tr>\n",
       "      <td>Delano Association for the Developmentally Disabled Inc</td>\n",
       "    </tr>\n",
       "    <tr>\n",
       "      <td>Desert ARC</td>\n",
       "    </tr>\n",
       "    <tr>\n",
       "      <td>Desert Area Resources and Training</td>\n",
       "    </tr>\n",
       "    <tr>\n",
       "      <td>Dignity Community Care</td>\n",
       "    </tr>\n",
       "    <tr>\n",
       "      <td>Dignity Health Connected Living</td>\n",
       "    </tr>\n",
       "    <tr>\n",
       "      <td>East Bay Services to the Developmentally Disabled</td>\n",
       "    </tr>\n",
       "    <tr>\n",
       "      <td>Eastern Sierra Transit Authority</td>\n",
       "    </tr>\n",
       "    <tr>\n",
       "      <td>Easy Lift Transportation Inc</td>\n",
       "    </tr>\n",
       "    <tr>\n",
       "      <td>El Dorado County Transit Authority</td>\n",
       "    </tr>\n",
       "    <tr>\n",
       "      <td>Family Bridges Inc</td>\n",
       "    </tr>\n",
       "    <tr>\n",
       "      <td>Foothill AIDS Project</td>\n",
       "    </tr>\n",
       "    <tr>\n",
       "      <td>Friends of Adult Day Health Care Centers</td>\n",
       "    </tr>\n",
       "    <tr>\n",
       "      <td>Friends of Children with Special Needs</td>\n",
       "    </tr>\n",
       "    <tr>\n",
       "      <td>Futures Explored Inc</td>\n",
       "    </tr>\n",
       "    <tr>\n",
       "      <td>Golden Rain Foundation of Walnut Creek</td>\n",
       "    </tr>\n",
       "    <tr>\n",
       "      <td>Howard Prep</td>\n",
       "    </tr>\n",
       "    <tr>\n",
       "      <td>Humboldt Medi-Trans</td>\n",
       "    </tr>\n",
       "    <tr>\n",
       "      <td>Humboldt Senior Resource Center</td>\n",
       "    </tr>\n",
       "    <tr>\n",
       "      <td>Humboldt Transit Authority</td>\n",
       "    </tr>\n",
       "    <tr>\n",
       "      <td>Institute on Aging</td>\n",
       "    </tr>\n",
       "    <tr>\n",
       "      <td>Inyo-Mono Association for the Handicapped</td>\n",
       "    </tr>\n",
       "    <tr>\n",
       "      <td>Kimochi Inc</td>\n",
       "    </tr>\n",
       "    <tr>\n",
       "      <td>Kings Rehabilitation Center</td>\n",
       "    </tr>\n",
       "    <tr>\n",
       "      <td>Life Steps Foundation Inc Santa Maria</td>\n",
       "    </tr>\n",
       "    <tr>\n",
       "      <td>Lodi Memorial Hospital Association Inc Adult Day Services</td>\n",
       "    </tr>\n",
       "    <tr>\n",
       "      <td>Loma Linda University Health</td>\n",
       "    </tr>\n",
       "    <tr>\n",
       "      <td>MOVE Stanislaus Transportation</td>\n",
       "    </tr>\n",
       "    <tr>\n",
       "      <td>Milestones of Development INC</td>\n",
       "    </tr>\n",
       "    <tr>\n",
       "      <td>Monterey-Salinas Transit</td>\n",
       "    </tr>\n",
       "    <tr>\n",
       "      <td>Mountain Shadows Support Group</td>\n",
       "    </tr>\n",
       "    <tr>\n",
       "      <td>Napa Valley Transportation Authority</td>\n",
       "    </tr>\n",
       "    <tr>\n",
       "      <td>New Advances for People with Disabilities</td>\n",
       "    </tr>\n",
       "    <tr>\n",
       "      <td>North Valley Services</td>\n",
       "    </tr>\n",
       "    <tr>\n",
       "      <td>North and South of Market Adult Day Health</td>\n",
       "    </tr>\n",
       "    <tr>\n",
       "      <td>North of the River Recreation and Park District</td>\n",
       "    </tr>\n",
       "    <tr>\n",
       "      <td>OPARC</td>\n",
       "    </tr>\n",
       "    <tr>\n",
       "      <td>Omnitrans</td>\n",
       "    </tr>\n",
       "    <tr>\n",
       "      <td>On Lok Senior Health Services</td>\n",
       "    </tr>\n",
       "    <tr>\n",
       "      <td>Pace Solano</td>\n",
       "    </tr>\n",
       "    <tr>\n",
       "      <td>Palo Verde Valley Transit Agency</td>\n",
       "    </tr>\n",
       "    <tr>\n",
       "      <td>Paratransit Services (Red Bluff)</td>\n",
       "    </tr>\n",
       "    <tr>\n",
       "      <td>Peppermint Ridge</td>\n",
       "    </tr>\n",
       "    <tr>\n",
       "      <td>Pomeroy Recreation &amp; Rehabilitation Center</td>\n",
       "    </tr>\n",
       "    <tr>\n",
       "      <td>Porterville Sheltered Workshop</td>\n",
       "    </tr>\n",
       "    <tr>\n",
       "      <td>Pride Industries One Inc</td>\n",
       "    </tr>\n",
       "    <tr>\n",
       "      <td>Redwood Coast Seniors Inc</td>\n",
       "    </tr>\n",
       "    <tr>\n",
       "      <td>Redwood Coast Transit Authority</td>\n",
       "    </tr>\n",
       "    <tr>\n",
       "      <td>Regents of the University of California Santa Cruz</td>\n",
       "    </tr>\n",
       "    <tr>\n",
       "      <td>SAHA</td>\n",
       "    </tr>\n",
       "    <tr>\n",
       "      <td>SMOOTH</td>\n",
       "    </tr>\n",
       "    <tr>\n",
       "      <td>San Benito County Local Transportation Authority</td>\n",
       "    </tr>\n",
       "    <tr>\n",
       "      <td>San Joaquin Regional Transit District</td>\n",
       "    </tr>\n",
       "    <tr>\n",
       "      <td>Self-Help for the Elderly</td>\n",
       "    </tr>\n",
       "    <tr>\n",
       "      <td>Shores of Hope</td>\n",
       "    </tr>\n",
       "    <tr>\n",
       "      <td>Sunline Transit Agency</td>\n",
       "    </tr>\n",
       "    <tr>\n",
       "      <td>The Arc of Amador and Calaveras</td>\n",
       "    </tr>\n",
       "    <tr>\n",
       "      <td>The Respite Inn</td>\n",
       "    </tr>\n",
       "    <tr>\n",
       "      <td>Ukiah Senior Center Inc</td>\n",
       "    </tr>\n",
       "    <tr>\n",
       "      <td>United Cerebral Palsy Association Inc of Stanislaus County</td>\n",
       "    </tr>\n",
       "    <tr>\n",
       "      <td>United Cerebral Palsy Association of Greater Sacramento Inc</td>\n",
       "    </tr>\n",
       "    <tr>\n",
       "      <td>United Cerebral Palsy of San Luis Obispo County</td>\n",
       "    </tr>\n",
       "    <tr>\n",
       "      <td>Valley Achievement Center</td>\n",
       "    </tr>\n",
       "    <tr>\n",
       "      <td>Valley Resource Center</td>\n",
       "    </tr>\n",
       "    <tr>\n",
       "      <td>Victor Valley Community Services Council</td>\n",
       "    </tr>\n",
       "    <tr>\n",
       "      <td>Victor Valley Transit Authority</td>\n",
       "    </tr>\n",
       "    <tr>\n",
       "      <td>Vivalon Inc</td>\n",
       "    </tr>\n",
       "    <tr>\n",
       "      <td>Work Training Center</td>\n",
       "    </tr>\n",
       "  </tbody>\n",
       "</table>"
      ],
      "text/plain": [
       "<IPython.core.display.HTML object>"
      ]
     },
     "metadata": {},
     "output_type": "display_data"
    },
    {
     "data": {
      "text/html": [
       "<br><br><strong>Organization with Operating Assistance Project Types Present</strong>"
      ],
      "text/plain": [
       "<IPython.core.display.HTML object>"
      ]
     },
     "metadata": {},
     "output_type": "display_data"
    },
    {
     "data": {
      "text/html": [
       "<table border=\"1\" class=\"dataframe\">\n",
       "  <thead>\n",
       "    <tr style=\"text-align: right;\">\n",
       "      <th>Organization Name</th>\n",
       "    </tr>\n",
       "  </thead>\n",
       "  <tbody>\n",
       "    <tr>\n",
       "      <td>ARC Imperial Valley</td>\n",
       "    </tr>\n",
       "    <tr>\n",
       "      <td>Amador Transit</td>\n",
       "    </tr>\n",
       "    <tr>\n",
       "      <td>Angel View Inc</td>\n",
       "    </tr>\n",
       "    <tr>\n",
       "      <td>Area 1 Agency on Aging</td>\n",
       "    </tr>\n",
       "    <tr>\n",
       "      <td>Asian Community Center of Sacramento Valley Inc DBA ACC Senior Services</td>\n",
       "    </tr>\n",
       "    <tr>\n",
       "      <td>Avenidas</td>\n",
       "    </tr>\n",
       "    <tr>\n",
       "      <td>Catholic Charities of the Diocese of Stockton</td>\n",
       "    </tr>\n",
       "    <tr>\n",
       "      <td>Choice in Aging</td>\n",
       "    </tr>\n",
       "    <tr>\n",
       "      <td>City of Lafayette: Lamorinda Sprit Van Program</td>\n",
       "    </tr>\n",
       "    <tr>\n",
       "      <td>City of Rio Vista</td>\n",
       "    </tr>\n",
       "    <tr>\n",
       "      <td>City of Vista</td>\n",
       "    </tr>\n",
       "    <tr>\n",
       "      <td>Coastal Seniors Inc</td>\n",
       "    </tr>\n",
       "    <tr>\n",
       "      <td>Common Ground Senior Services</td>\n",
       "    </tr>\n",
       "    <tr>\n",
       "      <td>Community Bridges Liftline</td>\n",
       "    </tr>\n",
       "    <tr>\n",
       "      <td>Community Partners In Caring</td>\n",
       "    </tr>\n",
       "    <tr>\n",
       "      <td>Consolidated Tribal Health Project Inc</td>\n",
       "    </tr>\n",
       "    <tr>\n",
       "      <td>County of Sacramento Department of Child Family and Adult Services</td>\n",
       "    </tr>\n",
       "    <tr>\n",
       "      <td>County of Sonoma Human Services Department Adult and Aging Division</td>\n",
       "    </tr>\n",
       "    <tr>\n",
       "      <td>County of Ventura Health Services Agency</td>\n",
       "    </tr>\n",
       "    <tr>\n",
       "      <td>Desert Access and Mobility Inc</td>\n",
       "    </tr>\n",
       "    <tr>\n",
       "      <td>Dignity Community Care</td>\n",
       "    </tr>\n",
       "    <tr>\n",
       "      <td>Dignity Health Connected Living</td>\n",
       "    </tr>\n",
       "    <tr>\n",
       "      <td>Drivers for Survivors Inc</td>\n",
       "    </tr>\n",
       "    <tr>\n",
       "      <td>Eastern Sierra Transit Authority</td>\n",
       "    </tr>\n",
       "    <tr>\n",
       "      <td>Easy Lift Transportation Inc</td>\n",
       "    </tr>\n",
       "    <tr>\n",
       "      <td>ElderHelp of San Diego</td>\n",
       "    </tr>\n",
       "    <tr>\n",
       "      <td>Faith in Action</td>\n",
       "    </tr>\n",
       "    <tr>\n",
       "      <td>Foothill AIDS Project</td>\n",
       "    </tr>\n",
       "    <tr>\n",
       "      <td>Friends of Children with Special Needs</td>\n",
       "    </tr>\n",
       "    <tr>\n",
       "      <td>Humboldt Medi-Trans</td>\n",
       "    </tr>\n",
       "    <tr>\n",
       "      <td>Independent Living Partnership</td>\n",
       "    </tr>\n",
       "    <tr>\n",
       "      <td>LIFE ElderCare</td>\n",
       "    </tr>\n",
       "    <tr>\n",
       "      <td>Lake Links Inc</td>\n",
       "    </tr>\n",
       "    <tr>\n",
       "      <td>Lake Transit Authority</td>\n",
       "    </tr>\n",
       "    <tr>\n",
       "      <td>Lutheran Social Services of Southern California</td>\n",
       "    </tr>\n",
       "    <tr>\n",
       "      <td>Marin County Transit District</td>\n",
       "    </tr>\n",
       "    <tr>\n",
       "      <td>Mental Health Client Action Network (MHCAN)</td>\n",
       "    </tr>\n",
       "    <tr>\n",
       "      <td>Mobility Matters</td>\n",
       "    </tr>\n",
       "    <tr>\n",
       "      <td>Morongo Basin Transit Authority</td>\n",
       "    </tr>\n",
       "    <tr>\n",
       "      <td>NCI Affiliates</td>\n",
       "    </tr>\n",
       "    <tr>\n",
       "      <td>North of the River Recreation and Park District</td>\n",
       "    </tr>\n",
       "    <tr>\n",
       "      <td>OPARC</td>\n",
       "    </tr>\n",
       "    <tr>\n",
       "      <td>Outreach &amp; Escort Inc</td>\n",
       "    </tr>\n",
       "    <tr>\n",
       "      <td>Peninsula Family Service</td>\n",
       "    </tr>\n",
       "    <tr>\n",
       "      <td>Peninsula Jewish Community Center</td>\n",
       "    </tr>\n",
       "    <tr>\n",
       "      <td>Peppermint Ridge</td>\n",
       "    </tr>\n",
       "    <tr>\n",
       "      <td>Pride Industries One Inc</td>\n",
       "    </tr>\n",
       "    <tr>\n",
       "      <td>Reach Out Morongo Basin</td>\n",
       "    </tr>\n",
       "    <tr>\n",
       "      <td>SAHA</td>\n",
       "    </tr>\n",
       "    <tr>\n",
       "      <td>San Benito County Local Transportation Authority</td>\n",
       "    </tr>\n",
       "    <tr>\n",
       "      <td>San Joaquin Regional Transit District</td>\n",
       "    </tr>\n",
       "    <tr>\n",
       "      <td>Seniors Council of Santa Cruz and San Benito Counties</td>\n",
       "    </tr>\n",
       "    <tr>\n",
       "      <td>Shores of Hope</td>\n",
       "    </tr>\n",
       "    <tr>\n",
       "      <td>Sunline Transit Agency</td>\n",
       "    </tr>\n",
       "    <tr>\n",
       "      <td>Tahoe Transportation District</td>\n",
       "    </tr>\n",
       "    <tr>\n",
       "      <td>Tehama County Transit Agency</td>\n",
       "    </tr>\n",
       "    <tr>\n",
       "      <td>The Arc of Amador and Calaveras</td>\n",
       "    </tr>\n",
       "    <tr>\n",
       "      <td>Town of Truckee</td>\n",
       "    </tr>\n",
       "    <tr>\n",
       "      <td>Tuolumne County Transit Agency (TCTA)</td>\n",
       "    </tr>\n",
       "    <tr>\n",
       "      <td>United Cerebral Palsy Association of Greater Sacramento Inc</td>\n",
       "    </tr>\n",
       "    <tr>\n",
       "      <td>Valley Resource Center</td>\n",
       "    </tr>\n",
       "    <tr>\n",
       "      <td>Victor Valley Community Services Council</td>\n",
       "    </tr>\n",
       "    <tr>\n",
       "      <td>Vivalon Inc</td>\n",
       "    </tr>\n",
       "    <tr>\n",
       "      <td>West Valley Community Services</td>\n",
       "    </tr>\n",
       "    <tr>\n",
       "      <td>Wilshire Community Services</td>\n",
       "    </tr>\n",
       "  </tbody>\n",
       "</table>"
      ],
      "text/plain": [
       "<IPython.core.display.HTML object>"
      ]
     },
     "metadata": {},
     "output_type": "display_data"
    },
    {
     "data": {
      "text/html": [
       "<br><br><strong>Organization with Mobility Management Project Types Present</strong>"
      ],
      "text/plain": [
       "<IPython.core.display.HTML object>"
      ]
     },
     "metadata": {},
     "output_type": "display_data"
    },
    {
     "data": {
      "text/html": [
       "<table border=\"1\" class=\"dataframe\">\n",
       "  <thead>\n",
       "    <tr style=\"text-align: right;\">\n",
       "      <th>Organization Name</th>\n",
       "    </tr>\n",
       "  </thead>\n",
       "  <tbody>\n",
       "    <tr>\n",
       "      <td>Amador Transit</td>\n",
       "    </tr>\n",
       "    <tr>\n",
       "      <td>Catholic Charities of the Diocese of Stockton</td>\n",
       "    </tr>\n",
       "    <tr>\n",
       "      <td>City of Roseville</td>\n",
       "    </tr>\n",
       "    <tr>\n",
       "      <td>City of Visalia</td>\n",
       "    </tr>\n",
       "    <tr>\n",
       "      <td>Common Ground Senior Services</td>\n",
       "    </tr>\n",
       "    <tr>\n",
       "      <td>Contra Costa Transportation Authority (CCTA)</td>\n",
       "    </tr>\n",
       "    <tr>\n",
       "      <td>County of Sonoma Human Services Department Adult and Aging Division</td>\n",
       "    </tr>\n",
       "    <tr>\n",
       "      <td>Eden I&amp;R INC</td>\n",
       "    </tr>\n",
       "    <tr>\n",
       "      <td>Friends of Children with Special Needs</td>\n",
       "    </tr>\n",
       "    <tr>\n",
       "      <td>Full Access &amp; Coordinated Transportation Inc</td>\n",
       "    </tr>\n",
       "    <tr>\n",
       "      <td>Help Central Inc</td>\n",
       "    </tr>\n",
       "    <tr>\n",
       "      <td>Imperial County Transportation Commission</td>\n",
       "    </tr>\n",
       "    <tr>\n",
       "      <td>Inland Empire United Way</td>\n",
       "    </tr>\n",
       "    <tr>\n",
       "      <td>Lake Links Inc</td>\n",
       "    </tr>\n",
       "    <tr>\n",
       "      <td>Lake Transit Authority</td>\n",
       "    </tr>\n",
       "    <tr>\n",
       "      <td>Lighthouse for the Blind and Visually Impaired</td>\n",
       "    </tr>\n",
       "    <tr>\n",
       "      <td>Livermore Amador Valley Transit Authority</td>\n",
       "    </tr>\n",
       "    <tr>\n",
       "      <td>Marin County Transit District</td>\n",
       "    </tr>\n",
       "    <tr>\n",
       "      <td>Mendocino Transit Authority</td>\n",
       "    </tr>\n",
       "    <tr>\n",
       "      <td>Mental Health Client Action Network (MHCAN)</td>\n",
       "    </tr>\n",
       "    <tr>\n",
       "      <td>Metropolitan Transportation Commission</td>\n",
       "    </tr>\n",
       "    <tr>\n",
       "      <td>Mobility Matters</td>\n",
       "    </tr>\n",
       "    <tr>\n",
       "      <td>Nevada-Sierra Connecting Point Public Authority</td>\n",
       "    </tr>\n",
       "    <tr>\n",
       "      <td>Omnitrans</td>\n",
       "    </tr>\n",
       "    <tr>\n",
       "      <td>Outreach &amp; Escort Inc</td>\n",
       "    </tr>\n",
       "    <tr>\n",
       "      <td>Riverside Transit Agency</td>\n",
       "    </tr>\n",
       "    <tr>\n",
       "      <td>San Francisco Municipal Transportation Agency</td>\n",
       "    </tr>\n",
       "    <tr>\n",
       "      <td>San Luis Obispo Council of Governments</td>\n",
       "    </tr>\n",
       "    <tr>\n",
       "      <td>Santa Clara Valley Transportation Authority</td>\n",
       "    </tr>\n",
       "    <tr>\n",
       "      <td>Solano Tranportation Authority</td>\n",
       "    </tr>\n",
       "    <tr>\n",
       "      <td>The Center for Independent Living</td>\n",
       "    </tr>\n",
       "    <tr>\n",
       "      <td>Tuolumne County Transit Agency (TCTA)</td>\n",
       "    </tr>\n",
       "    <tr>\n",
       "      <td>Victor Valley Community Services Council</td>\n",
       "    </tr>\n",
       "    <tr>\n",
       "      <td>Victor Valley Transit Authority</td>\n",
       "    </tr>\n",
       "    <tr>\n",
       "      <td>Yolo County Transportation District</td>\n",
       "    </tr>\n",
       "  </tbody>\n",
       "</table>"
      ],
      "text/plain": [
       "<IPython.core.display.HTML object>"
      ]
     },
     "metadata": {},
     "output_type": "display_data"
    },
    {
     "data": {
      "text/html": [
       "<br><br><strong>Organization with Hardware/Software Purchase Project Types Present</strong>"
      ],
      "text/plain": [
       "<IPython.core.display.HTML object>"
      ]
     },
     "metadata": {},
     "output_type": "display_data"
    },
    {
     "data": {
      "text/html": [
       "<table border=\"1\" class=\"dataframe\">\n",
       "  <thead>\n",
       "    <tr style=\"text-align: right;\">\n",
       "      <th>Organization Name</th>\n",
       "    </tr>\n",
       "  </thead>\n",
       "  <tbody>\n",
       "    <tr>\n",
       "      <td>Asian Community Center of Sacramento Valley Inc DBA ACC Senior Services</td>\n",
       "    </tr>\n",
       "    <tr>\n",
       "      <td>Catholic Charities of the Diocese of Stockton</td>\n",
       "    </tr>\n",
       "    <tr>\n",
       "      <td>Community Bridges Liftline</td>\n",
       "    </tr>\n",
       "    <tr>\n",
       "      <td>County of Sonoma Human Services Department Adult and Aging Division</td>\n",
       "    </tr>\n",
       "    <tr>\n",
       "      <td>Foothill AIDS Project</td>\n",
       "    </tr>\n",
       "    <tr>\n",
       "      <td>Milestones of Development INC</td>\n",
       "    </tr>\n",
       "    <tr>\n",
       "      <td>Porterville Sheltered Workshop</td>\n",
       "    </tr>\n",
       "    <tr>\n",
       "      <td>San Joaquin Regional Transit District</td>\n",
       "    </tr>\n",
       "    <tr>\n",
       "      <td>Sunline Transit Agency</td>\n",
       "    </tr>\n",
       "    <tr>\n",
       "      <td>United Cerebral Palsy Association of Greater Sacramento Inc</td>\n",
       "    </tr>\n",
       "    <tr>\n",
       "      <td>Yolo County Transportation District</td>\n",
       "    </tr>\n",
       "  </tbody>\n",
       "</table>"
      ],
      "text/plain": [
       "<IPython.core.display.HTML object>"
      ]
     },
     "metadata": {},
     "output_type": "display_data"
    },
    {
     "data": {
      "text/html": [
       "<br><br><strong>Organization with Communications Project Types Present</strong>"
      ],
      "text/plain": [
       "<IPython.core.display.HTML object>"
      ]
     },
     "metadata": {},
     "output_type": "display_data"
    },
    {
     "data": {
      "text/html": [
       "<table border=\"1\" class=\"dataframe\">\n",
       "  <thead>\n",
       "    <tr style=\"text-align: right;\">\n",
       "      <th>Organization Name</th>\n",
       "    </tr>\n",
       "  </thead>\n",
       "  <tbody>\n",
       "    <tr>\n",
       "      <td>Center for Elders' Independence</td>\n",
       "    </tr>\n",
       "    <tr>\n",
       "      <td>Community Bridges Liftline</td>\n",
       "    </tr>\n",
       "    <tr>\n",
       "      <td>Eastern Sierra Transit Authority</td>\n",
       "    </tr>\n",
       "    <tr>\n",
       "      <td>Humboldt Senior Resource Center</td>\n",
       "    </tr>\n",
       "    <tr>\n",
       "      <td>North of the River Recreation and Park District</td>\n",
       "    </tr>\n",
       "    <tr>\n",
       "      <td>Porterville Sheltered Workshop</td>\n",
       "    </tr>\n",
       "    <tr>\n",
       "      <td>Self-Help for the Elderly</td>\n",
       "    </tr>\n",
       "    <tr>\n",
       "      <td>United Cerebral Palsy Association of Greater Sacramento Inc</td>\n",
       "    </tr>\n",
       "    <tr>\n",
       "      <td>Work Training Center</td>\n",
       "    </tr>\n",
       "  </tbody>\n",
       "</table>"
      ],
      "text/plain": [
       "<IPython.core.display.HTML object>"
      ]
     },
     "metadata": {},
     "output_type": "display_data"
    },
    {
     "data": {
      "text/html": [
       "<br><br><strong>Organization with Facilities Equipment Project Types Present</strong>"
      ],
      "text/plain": [
       "<IPython.core.display.HTML object>"
      ]
     },
     "metadata": {},
     "output_type": "display_data"
    },
    {
     "data": {
      "text/html": [
       "<table border=\"1\" class=\"dataframe\">\n",
       "  <thead>\n",
       "    <tr style=\"text-align: right;\">\n",
       "      <th>Organization Name</th>\n",
       "    </tr>\n",
       "  </thead>\n",
       "  <tbody>\n",
       "    <tr>\n",
       "      <td>Eastern Sierra Transit Authority</td>\n",
       "    </tr>\n",
       "    <tr>\n",
       "      <td>Lighthouse for the Blind and Visually Impaired</td>\n",
       "    </tr>\n",
       "    <tr>\n",
       "      <td>Milestones of Development INC</td>\n",
       "    </tr>\n",
       "    <tr>\n",
       "      <td>North and South of Market Adult Day Health</td>\n",
       "    </tr>\n",
       "    <tr>\n",
       "      <td>Porterville Sheltered Workshop</td>\n",
       "    </tr>\n",
       "  </tbody>\n",
       "</table>"
      ],
      "text/plain": [
       "<IPython.core.display.HTML object>"
      ]
     },
     "metadata": {},
     "output_type": "display_data"
    },
    {
     "data": {
      "text/html": [
       "<br><br><strong>Organization with Surveillance Project Types Present</strong>"
      ],
      "text/plain": [
       "<IPython.core.display.HTML object>"
      ]
     },
     "metadata": {},
     "output_type": "display_data"
    },
    {
     "data": {
      "text/html": [
       "<table border=\"1\" class=\"dataframe\">\n",
       "  <thead>\n",
       "    <tr style=\"text-align: right;\">\n",
       "      <th>Organization Name</th>\n",
       "    </tr>\n",
       "  </thead>\n",
       "  <tbody>\n",
       "    <tr>\n",
       "      <td>Community Bridges Liftline</td>\n",
       "    </tr>\n",
       "    <tr>\n",
       "      <td>Institute on Aging</td>\n",
       "    </tr>\n",
       "    <tr>\n",
       "      <td>Porterville Sheltered Workshop</td>\n",
       "    </tr>\n",
       "    <tr>\n",
       "      <td>United Cerebral Palsy Association of Greater Sacramento Inc</td>\n",
       "    </tr>\n",
       "  </tbody>\n",
       "</table>"
      ],
      "text/plain": [
       "<IPython.core.display.HTML object>"
      ]
     },
     "metadata": {},
     "output_type": "display_data"
    },
    {
     "data": {
      "text/html": [
       "<br><br><strong>Organization with Subsidies Project Types Present</strong>"
      ],
      "text/plain": [
       "<IPython.core.display.HTML object>"
      ]
     },
     "metadata": {},
     "output_type": "display_data"
    },
    {
     "data": {
      "text/html": [
       "<table border=\"1\" class=\"dataframe\">\n",
       "  <thead>\n",
       "    <tr style=\"text-align: right;\">\n",
       "      <th>Organization Name</th>\n",
       "    </tr>\n",
       "  </thead>\n",
       "  <tbody>\n",
       "    <tr>\n",
       "      <td>San Mateo County Transit District</td>\n",
       "    </tr>\n",
       "  </tbody>\n",
       "</table>"
      ],
      "text/plain": [
       "<IPython.core.display.HTML object>"
      ]
     },
     "metadata": {},
     "output_type": "display_data"
    }
   ],
   "source": [
    "columns = [\n",
    "    \"Vehicle Purchase\",\n",
    "    \"Operating Assistance\",\n",
    "    \"Mobility Management\",\n",
    "    \"Hardware/Software Purchase\",\n",
    "    \"Communications\",\n",
    "    \"Facilities Equipment\",\n",
    "    \"Surveillance\",\n",
    "    \"Subsidies\",\n",
    "]\n",
    "for column in columns:\n",
    "    org_counts = (ptype_counts \n",
    "                  >> filter(_[column] == 1)\n",
    "                  >> count(_['Organization Name'])\n",
    "                  >> select(_['Organization Name']))\n",
    "    \n",
    "\n",
    "    display(HTML(f\"<br>\"\n",
    "                 f\"<br>\"\n",
    "                 f\"<strong>Organization with {column} Project Types Present</strong>\"))\n",
    "    \n",
    "    (pretify_tables(org_counts))\n",
    "    \n",
    "    #display(HTML(org_counts.to_html(index=False)))"
   ]
  },
  {
   "cell_type": "code",
   "execution_count": null,
   "id": "2195de23-ffe7-4378-89ba-d9bacb3a41fe",
   "metadata": {
    "papermill": {
     "duration": 0.052203,
     "end_time": "2022-05-23T23:16:50.333046",
     "exception": false,
     "start_time": "2022-05-23T23:16:50.280843",
     "status": "completed"
    },
    "tags": []
   },
   "outputs": [],
   "source": []
  },
  {
   "cell_type": "markdown",
   "id": "03d79697-7caa-4efa-a577-f49eed402970",
   "metadata": {
    "papermill": {
     "duration": 0.037778,
     "end_time": "2022-05-23T23:16:50.409584",
     "exception": false,
     "start_time": "2022-05-23T23:16:50.371806",
     "status": "completed"
    },
    "tags": []
   },
   "source": [
    "### Purchasing Wheelchair Accessible Vehicles"
   ]
  },
  {
   "cell_type": "code",
   "execution_count": 22,
   "id": "88dcf9f0-ab26-4845-bad4-06c95c1edd24",
   "metadata": {
    "execution": {
     "iopub.execute_input": "2022-05-23T23:16:50.484877Z",
     "iopub.status.busy": "2022-05-23T23:16:50.484615Z",
     "iopub.status.idle": "2022-05-23T23:16:50.488145Z",
     "shell.execute_reply": "2022-05-23T23:16:50.487316Z"
    },
    "papermill": {
     "duration": 0.044187,
     "end_time": "2022-05-23T23:16:50.490404",
     "exception": false,
     "start_time": "2022-05-23T23:16:50.446217",
     "status": "completed"
    },
    "tags": []
   },
   "outputs": [],
   "source": [
    "# no project descirption matches for `wheelchair`, `lifts`, `ramps`, and `securement` "
   ]
  },
  {
   "cell_type": "code",
   "execution_count": 23,
   "id": "dced4fbb-9c91-4907-a12a-8247f7756fad",
   "metadata": {
    "execution": {
     "iopub.execute_input": "2022-05-23T23:16:50.570085Z",
     "iopub.status.busy": "2022-05-23T23:16:50.569703Z",
     "iopub.status.idle": "2022-05-23T23:16:50.573611Z",
     "shell.execute_reply": "2022-05-23T23:16:50.572748Z"
    },
    "papermill": {
     "duration": 0.046623,
     "end_time": "2022-05-23T23:16:50.575861",
     "exception": false,
     "start_time": "2022-05-23T23:16:50.529238",
     "status": "completed"
    },
    "tags": []
   },
   "outputs": [],
   "source": [
    "# display(\n",
    "#     HTML(\n",
    "#         (f\"There are {len(df>>filter(_.description.str.contains('wheelchair')))} project descriptions that mention Wheelchair\")\n",
    "#     ))\n",
    "    "
   ]
  },
  {
   "cell_type": "code",
   "execution_count": 24,
   "id": "940488b1-5bfb-4945-a7d7-2e9f7b0c9a1d",
   "metadata": {
    "execution": {
     "iopub.execute_input": "2022-05-23T23:16:50.648958Z",
     "iopub.status.busy": "2022-05-23T23:16:50.648521Z",
     "iopub.status.idle": "2022-05-23T23:16:50.669125Z",
     "shell.execute_reply": "2022-05-23T23:16:50.668437Z"
    },
    "papermill": {
     "duration": 0.059299,
     "end_time": "2022-05-23T23:16:50.671238",
     "exception": false,
     "start_time": "2022-05-23T23:16:50.611939",
     "status": "completed"
    },
    "tags": []
   },
   "outputs": [
    {
     "data": {
      "text/html": [
       "Of the 92 agencies using 5310 funds for vehicle purchases, 75 are for Bus Purchases, and 38 are for Van Purchases<br> There are 0 specific mentions of wheelchair accessible vehicles, ramps or other accessiblity features."
      ],
      "text/plain": [
       "<IPython.core.display.HTML object>"
      ]
     },
     "metadata": {},
     "output_type": "display_data"
    }
   ],
   "source": [
    "display(\n",
    "    HTML(f\"Of the {len(df>>filter(_.vehicle_purchase==1)>>count(_.organization_name))} agencies using 5310 funds \"\n",
    "      f\"for vehicle purchases, \"\n",
    "      f\"{len(df>>filter(_.vehicle_purchase==1)>>filter(_.description.str.contains('Bus'))>>count(_.organization_name))} \"\n",
    "      f\"are for Bus Purchases, \"\n",
    "      f\"and {len(df>>filter(_.vehicle_purchase==1)>>filter(_.description.str.contains('Van'))>>count(_.organization_name))} \"\n",
    "      f\"are for Van Purchases\"\n",
    "         f\"<br> There are {len(df>>filter(_.description.str.contains('wheelchair')))} specific mentions of wheelchair \"\n",
    "         f\"accessible vehicles, ramps or other accessiblity features.\"\n",
    "        ))"
   ]
  },
  {
   "cell_type": "markdown",
   "id": "3c191763-dc98-4602-8f1b-a9300fde1abe",
   "metadata": {
    "papermill": {
     "duration": 0.037969,
     "end_time": "2022-05-23T23:16:50.751053",
     "exception": false,
     "start_time": "2022-05-23T23:16:50.713084",
     "status": "completed"
    },
    "tags": []
   },
   "source": [
    "**Organizations using funds for Vehicle Purchase**"
   ]
  },
  {
   "cell_type": "code",
   "execution_count": 25,
   "id": "78a986a8-e3ae-4fda-9aee-926b6d8c178e",
   "metadata": {
    "execution": {
     "iopub.execute_input": "2022-05-23T23:16:50.838516Z",
     "iopub.status.busy": "2022-05-23T23:16:50.838060Z",
     "iopub.status.idle": "2022-05-23T23:16:50.858261Z",
     "shell.execute_reply": "2022-05-23T23:16:50.857161Z"
    },
    "papermill": {
     "duration": 0.070149,
     "end_time": "2022-05-23T23:16:50.861200",
     "exception": false,
     "start_time": "2022-05-23T23:16:50.791051",
     "status": "completed"
    },
    "tags": []
   },
   "outputs": [
    {
     "data": {
      "text/html": [
       "<table border=\"1\" class=\"dataframe\">\n",
       "  <thead>\n",
       "    <tr style=\"text-align: right;\">\n",
       "      <th>Organization Name</th>\n",
       "      <th>Count</th>\n",
       "    </tr>\n",
       "  </thead>\n",
       "  <tbody>\n",
       "    <tr>\n",
       "      <td>On Lok Senior Health Services</td>\n",
       "      <td>50</td>\n",
       "    </tr>\n",
       "    <tr>\n",
       "      <td>Pride Industries One Inc</td>\n",
       "      <td>49</td>\n",
       "    </tr>\n",
       "    <tr>\n",
       "      <td>United Cerebral Palsy of San Luis Obispo County</td>\n",
       "      <td>46</td>\n",
       "    </tr>\n",
       "    <tr>\n",
       "      <td>United Cerebral Palsy Association of Greater Sacramento Inc</td>\n",
       "      <td>42</td>\n",
       "    </tr>\n",
       "    <tr>\n",
       "      <td>Kings Rehabilitation Center</td>\n",
       "      <td>30</td>\n",
       "    </tr>\n",
       "    <tr>\n",
       "      <td>Monterey-Salinas Transit</td>\n",
       "      <td>26</td>\n",
       "    </tr>\n",
       "    <tr>\n",
       "      <td>North of the River Recreation and Park District</td>\n",
       "      <td>25</td>\n",
       "    </tr>\n",
       "    <tr>\n",
       "      <td>ARC Bakersfield</td>\n",
       "      <td>20</td>\n",
       "    </tr>\n",
       "    <tr>\n",
       "      <td>Vivalon Inc</td>\n",
       "      <td>20</td>\n",
       "    </tr>\n",
       "    <tr>\n",
       "      <td>Butte County Association of Governments  Butte Regional Transit</td>\n",
       "      <td>19</td>\n",
       "    </tr>\n",
       "  </tbody>\n",
       "</table>"
      ],
      "text/plain": [
       "<IPython.core.display.HTML object>"
      ]
     },
     "metadata": {},
     "output_type": "display_data"
    }
   ],
   "source": [
    "vehicle_purchase= (df>>filter(_.vehicle_purchase==1)>>count(_.organization_name)>>arrange(-_.n)).head(10)\n",
    "# vehicle_purchase = vehicle_purchase.rename(columns={\"organization_name\":\"Organization Name\",\n",
    "#                                 \"n\":\"Counts\"})\n",
    "# display(HTML(vehicle_purchase.to_html(index=False)))\n",
    "(pretify_tables(vehicle_purchase))\n"
   ]
  },
  {
   "cell_type": "code",
   "execution_count": null,
   "id": "02e430db-e6bb-4d57-b0b1-a40e3b9e921f",
   "metadata": {
    "papermill": {
     "duration": 0.037408,
     "end_time": "2022-05-23T23:16:50.938124",
     "exception": false,
     "start_time": "2022-05-23T23:16:50.900716",
     "status": "completed"
    },
    "tags": []
   },
   "outputs": [],
   "source": []
  },
  {
   "cell_type": "markdown",
   "id": "70b62e5d-ac67-49c7-ba91-2c5d8a71d612",
   "metadata": {
    "papermill": {
     "duration": 0.042429,
     "end_time": "2022-05-23T23:16:51.024290",
     "exception": false,
     "start_time": "2022-05-23T23:16:50.981861",
     "status": "completed"
    },
    "tags": []
   },
   "source": [
    "### On-demand Scheduling"
   ]
  },
  {
   "cell_type": "markdown",
   "id": "89503665-91ae-412b-824d-1d13064ec816",
   "metadata": {
    "papermill": {
     "duration": 0.042384,
     "end_time": "2022-05-23T23:16:51.108569",
     "exception": false,
     "start_time": "2022-05-23T23:16:51.066185",
     "status": "completed"
    },
    "tags": []
   },
   "source": [
    "**Organizations with Operating Assistance Project types**"
   ]
  },
  {
   "cell_type": "code",
   "execution_count": 26,
   "id": "ac6d9571-f3bc-42bb-90ea-ca63becbec5c",
   "metadata": {
    "execution": {
     "iopub.execute_input": "2022-05-23T23:16:51.197806Z",
     "iopub.status.busy": "2022-05-23T23:16:51.189215Z",
     "iopub.status.idle": "2022-05-23T23:16:51.215617Z",
     "shell.execute_reply": "2022-05-23T23:16:51.214731Z"
    },
    "papermill": {
     "duration": 0.071362,
     "end_time": "2022-05-23T23:16:51.218139",
     "exception": false,
     "start_time": "2022-05-23T23:16:51.146777",
     "status": "completed"
    },
    "tags": []
   },
   "outputs": [
    {
     "data": {
      "text/html": [
       "There is 0 mention of Demand related project types"
      ],
      "text/plain": [
       "<IPython.core.display.HTML object>"
      ]
     },
     "metadata": {},
     "output_type": "display_data"
    },
    {
     "data": {
      "text/html": [
       "There are 65 mentions of Operating Assistance"
      ],
      "text/plain": [
       "<IPython.core.display.HTML object>"
      ]
     },
     "metadata": {},
     "output_type": "display_data"
    }
   ],
   "source": [
    "display(HTML(f\"There is {len(df>>filter(_.description.str.contains('demand')))} mention of Demand related project types\"))\n",
    "display(HTML(f\"There are {len((df>>filter(_.operating_assistance==1)>>count(_.organization_name)>>arrange(-_.n)))} \"\n",
    "             f\"mentions of Operating Assistance\"))"
   ]
  },
  {
   "cell_type": "code",
   "execution_count": 27,
   "id": "ca4d3d59-dab5-410e-ac8b-3ab4c9df9fbd",
   "metadata": {
    "execution": {
     "iopub.execute_input": "2022-05-23T23:16:51.311530Z",
     "iopub.status.busy": "2022-05-23T23:16:51.310374Z",
     "iopub.status.idle": "2022-05-23T23:16:51.327687Z",
     "shell.execute_reply": "2022-05-23T23:16:51.325983Z"
    },
    "papermill": {
     "duration": 0.07333,
     "end_time": "2022-05-23T23:16:51.330222",
     "exception": false,
     "start_time": "2022-05-23T23:16:51.256892",
     "status": "completed"
    },
    "tags": []
   },
   "outputs": [
    {
     "data": {
      "text/html": [
       "<table border=\"1\" class=\"dataframe\">\n",
       "  <thead>\n",
       "    <tr style=\"text-align: right;\">\n",
       "      <th>Organization Name</th>\n",
       "      <th>Count</th>\n",
       "    </tr>\n",
       "  </thead>\n",
       "  <tbody>\n",
       "    <tr>\n",
       "      <td>Independent Living Partnership</td>\n",
       "      <td>8</td>\n",
       "    </tr>\n",
       "    <tr>\n",
       "      <td>Asian Community Center of Sacramento Valley Inc DBA ACC Senior Services</td>\n",
       "      <td>6</td>\n",
       "    </tr>\n",
       "    <tr>\n",
       "      <td>ARC Imperial Valley</td>\n",
       "      <td>4</td>\n",
       "    </tr>\n",
       "    <tr>\n",
       "      <td>Choice in Aging</td>\n",
       "      <td>4</td>\n",
       "    </tr>\n",
       "    <tr>\n",
       "      <td>County of Sonoma Human Services Department Adult and Aging Division</td>\n",
       "      <td>4</td>\n",
       "    </tr>\n",
       "    <tr>\n",
       "      <td>Mobility Matters</td>\n",
       "      <td>4</td>\n",
       "    </tr>\n",
       "    <tr>\n",
       "      <td>Angel View Inc</td>\n",
       "      <td>3</td>\n",
       "    </tr>\n",
       "    <tr>\n",
       "      <td>Catholic Charities of the Diocese of Stockton</td>\n",
       "      <td>3</td>\n",
       "    </tr>\n",
       "    <tr>\n",
       "      <td>City of Lafayette: Lamorinda Sprit Van Program</td>\n",
       "      <td>3</td>\n",
       "    </tr>\n",
       "    <tr>\n",
       "      <td>County of Sacramento Department of Child Family and Adult Services</td>\n",
       "      <td>3</td>\n",
       "    </tr>\n",
       "  </tbody>\n",
       "</table>"
      ],
      "text/plain": [
       "<IPython.core.display.HTML object>"
      ]
     },
     "metadata": {},
     "output_type": "display_data"
    }
   ],
   "source": [
    "operating_assistance= (df>>filter(_.operating_assistance==1)>>count(_.organization_name)>>arrange(-_.n)).head(10)\n",
    "# operating_assistance = operating_assistance.rename(columns={\"organization_name\":\"Organization Name\",\n",
    "#                                 \"n\":\"Counts\"})\n",
    "# display(HTML(operating_assistance.to_html(index=False)))\n",
    "(pretify_tables(operating_assistance))"
   ]
  },
  {
   "cell_type": "code",
   "execution_count": null,
   "id": "a704cfee-a550-413a-8f3b-d3cd78429a5e",
   "metadata": {
    "papermill": {
     "duration": 0.046723,
     "end_time": "2022-05-23T23:16:51.416692",
     "exception": false,
     "start_time": "2022-05-23T23:16:51.369969",
     "status": "completed"
    },
    "tags": []
   },
   "outputs": [],
   "source": []
  },
  {
   "cell_type": "markdown",
   "id": "987def42-db7c-4754-aed3-aea562b0998f",
   "metadata": {
    "papermill": {
     "duration": 0.039478,
     "end_time": "2022-05-23T23:16:51.495659",
     "exception": false,
     "start_time": "2022-05-23T23:16:51.456181",
     "status": "completed"
    },
    "tags": []
   },
   "source": [
    "### Dispatching Software Platforms"
   ]
  },
  {
   "cell_type": "code",
   "execution_count": 28,
   "id": "85adc3bb-5f76-47cb-ae08-2fa062f24726",
   "metadata": {
    "execution": {
     "iopub.execute_input": "2022-05-23T23:16:51.573947Z",
     "iopub.status.busy": "2022-05-23T23:16:51.573540Z",
     "iopub.status.idle": "2022-05-23T23:16:51.615331Z",
     "shell.execute_reply": "2022-05-23T23:16:51.613925Z"
    },
    "papermill": {
     "duration": 0.084824,
     "end_time": "2022-05-23T23:16:51.618501",
     "exception": false,
     "start_time": "2022-05-23T23:16:51.533677",
     "status": "completed"
    },
    "tags": []
   },
   "outputs": [
    {
     "data": {
      "text/html": [
       "Out of the 11 with harware or software purchases, 4organization used 5310 funds for software purposes"
      ],
      "text/plain": [
       "<IPython.core.display.HTML object>"
      ]
     },
     "metadata": {},
     "output_type": "display_data"
    }
   ],
   "source": [
    "display(\n",
    "    HTML(f\"Out of the {len(df>>filter(_.hardware_software_purchase==1)>>count(_.organization_name))} \"\n",
    "         f\"with harware or software purchases, \"\n",
    "         f\"{len(df>>filter(_.hardware_software_purchase==1)>>filter(_.description.str.contains('Software'))>>count(_.organization_name))}\" \n",
    "             f\"organization used 5310 funds for software purposes\"))\n",
    "             "
   ]
  },
  {
   "cell_type": "code",
   "execution_count": 29,
   "id": "aa3dc45e-5e6a-45c9-94b9-930f08fdb34e",
   "metadata": {
    "execution": {
     "iopub.execute_input": "2022-05-23T23:16:51.721949Z",
     "iopub.status.busy": "2022-05-23T23:16:51.721597Z",
     "iopub.status.idle": "2022-05-23T23:16:51.737855Z",
     "shell.execute_reply": "2022-05-23T23:16:51.736739Z"
    },
    "papermill": {
     "duration": 0.063087,
     "end_time": "2022-05-23T23:16:51.740532",
     "exception": false,
     "start_time": "2022-05-23T23:16:51.677445",
     "status": "completed"
    },
    "tags": []
   },
   "outputs": [
    {
     "data": {
      "text/html": [
       "<table border=\"1\" class=\"dataframe\">\n",
       "  <thead>\n",
       "    <tr style=\"text-align: right;\">\n",
       "      <th>Organization Name</th>\n",
       "      <th>Count</th>\n",
       "    </tr>\n",
       "  </thead>\n",
       "  <tbody>\n",
       "    <tr>\n",
       "      <td>Asian Community Center of Sacramento Valley Inc DBA ACC Senior Services</td>\n",
       "      <td>2</td>\n",
       "    </tr>\n",
       "    <tr>\n",
       "      <td>Catholic Charities of the Diocese of Stockton</td>\n",
       "      <td>2</td>\n",
       "    </tr>\n",
       "    <tr>\n",
       "      <td>County of Sonoma Human Services Department Adult and Aging Division</td>\n",
       "      <td>1</td>\n",
       "    </tr>\n",
       "    <tr>\n",
       "      <td>Yolo County Transportation District</td>\n",
       "      <td>2</td>\n",
       "    </tr>\n",
       "  </tbody>\n",
       "</table>"
      ],
      "text/plain": [
       "<IPython.core.display.HTML object>"
      ]
     },
     "metadata": {},
     "output_type": "display_data"
    }
   ],
   "source": [
    "software = (df>>filter(_.hardware_software_purchase==1)>>filter(_.description.str.contains('Software'))>>count(_.organization_name))\n",
    "# software = software.rename(columns={\"organization_name\":\"Organization Name\",\n",
    "#                                 \"n\":\"Counts\"})\n",
    "# display(HTML(software.to_html(index=False)))\n",
    "(pretify_tables(software))\n"
   ]
  },
  {
   "cell_type": "markdown",
   "id": "f4b2bf0f-068f-4e64-a47f-c64c3f530aa9",
   "metadata": {
    "papermill": {
     "duration": 0.049749,
     "end_time": "2022-05-23T23:16:51.836758",
     "exception": false,
     "start_time": "2022-05-23T23:16:51.787009",
     "status": "completed"
    },
    "tags": []
   },
   "source": [
    "## Project Type Funding Analysis"
   ]
  },
  {
   "cell_type": "markdown",
   "id": "e1880a1f-b47f-4c59-a4fd-cf78d63b1ed0",
   "metadata": {
    "papermill": {
     "duration": 0.038554,
     "end_time": "2022-05-23T23:16:51.919239",
     "exception": false,
     "start_time": "2022-05-23T23:16:51.880685",
     "status": "completed"
    },
    "tags": []
   },
   "source": [
    "### By Organization & Year"
   ]
  },
  {
   "cell_type": "markdown",
   "id": "dca39728-b4d0-4ce2-a6a9-8cfd2e3accbb",
   "metadata": {
    "papermill": {
     "duration": 0.039605,
     "end_time": "2022-05-23T23:16:51.997004",
     "exception": false,
     "start_time": "2022-05-23T23:16:51.957399",
     "status": "completed"
    },
    "tags": []
   },
   "source": [
    "**Sum of Funds Allocated to Organizations by Year (Top 20)**"
   ]
  },
  {
   "cell_type": "code",
   "execution_count": 30,
   "id": "096cfb5a-dd90-4cfb-bf81-892b7112921f",
   "metadata": {
    "execution": {
     "iopub.execute_input": "2022-05-23T23:16:52.082433Z",
     "iopub.status.busy": "2022-05-23T23:16:52.081174Z",
     "iopub.status.idle": "2022-05-23T23:16:52.244283Z",
     "shell.execute_reply": "2022-05-23T23:16:52.243336Z"
    },
    "papermill": {
     "duration": 0.207441,
     "end_time": "2022-05-23T23:16:52.247019",
     "exception": false,
     "start_time": "2022-05-23T23:16:52.039578",
     "status": "completed"
    },
    "tags": []
   },
   "outputs": [
    {
     "data": {
      "text/html": [
       "<table border=\"1\" class=\"dataframe\">\n",
       "  <thead>\n",
       "    <tr style=\"text-align: right;\">\n",
       "      <th>Organization Name</th>\n",
       "      <th>Project Year</th>\n",
       "      <th>Sum Allocated By Year</th>\n",
       "    </tr>\n",
       "  </thead>\n",
       "  <tbody>\n",
       "    <tr>\n",
       "      <td>United Cerebral Palsy Association of Greater Sacramento Inc</td>\n",
       "      <td>2017</td>\n",
       "      <td>$1,782,550.00</td>\n",
       "    </tr>\n",
       "    <tr>\n",
       "      <td>On Lok Senior Health Services</td>\n",
       "      <td>2019</td>\n",
       "      <td>$1,480,000.00</td>\n",
       "    </tr>\n",
       "    <tr>\n",
       "      <td>Pride Industries One Inc</td>\n",
       "      <td>2019</td>\n",
       "      <td>$1,257,714.00</td>\n",
       "    </tr>\n",
       "    <tr>\n",
       "      <td>Asian Community Center of Sacramento Valley Inc DBA ACC Senior Services</td>\n",
       "      <td>2017</td>\n",
       "      <td>$1,246,128.00</td>\n",
       "    </tr>\n",
       "    <tr>\n",
       "      <td>Mobility Matters</td>\n",
       "      <td>2017</td>\n",
       "      <td>$1,160,438.00</td>\n",
       "    </tr>\n",
       "    <tr>\n",
       "      <td>Friends of Children with Special Needs</td>\n",
       "      <td>2019</td>\n",
       "      <td>$1,152,937.00</td>\n",
       "    </tr>\n",
       "    <tr>\n",
       "      <td>Pride Industries One Inc</td>\n",
       "      <td>2017</td>\n",
       "      <td>$1,135,727.52</td>\n",
       "    </tr>\n",
       "    <tr>\n",
       "      <td>Independent Living Partnership</td>\n",
       "      <td>2017</td>\n",
       "      <td>$1,114,031.00</td>\n",
       "    </tr>\n",
       "    <tr>\n",
       "      <td>ARC Bakersfield</td>\n",
       "      <td>2017</td>\n",
       "      <td>$1,008,340.28</td>\n",
       "    </tr>\n",
       "    <tr>\n",
       "      <td>Marin County Transit District</td>\n",
       "      <td>2017</td>\n",
       "      <td>$1,000,000.00</td>\n",
       "    </tr>\n",
       "    <tr>\n",
       "      <td>Outreach &amp; Escort Inc</td>\n",
       "      <td>2017</td>\n",
       "      <td>$1,000,000.00</td>\n",
       "    </tr>\n",
       "    <tr>\n",
       "      <td>Monterey-Salinas Transit</td>\n",
       "      <td>2017</td>\n",
       "      <td>$980,000.00</td>\n",
       "    </tr>\n",
       "    <tr>\n",
       "      <td>United Cerebral Palsy Association of Greater Sacramento Inc</td>\n",
       "      <td>2019</td>\n",
       "      <td>$941,167.00</td>\n",
       "    </tr>\n",
       "    <tr>\n",
       "      <td>Omnitrans</td>\n",
       "      <td>2017</td>\n",
       "      <td>$884,175.00</td>\n",
       "    </tr>\n",
       "    <tr>\n",
       "      <td>Community Bridges Liftline</td>\n",
       "      <td>2017</td>\n",
       "      <td>$880,013.60</td>\n",
       "    </tr>\n",
       "    <tr>\n",
       "      <td>North of the River Recreation and Park District</td>\n",
       "      <td>2017</td>\n",
       "      <td>$846,738.41</td>\n",
       "    </tr>\n",
       "    <tr>\n",
       "      <td>Peppermint Ridge</td>\n",
       "      <td>2017</td>\n",
       "      <td>$825,000.00</td>\n",
       "    </tr>\n",
       "    <tr>\n",
       "      <td>The Center for Independent Living</td>\n",
       "      <td>2017</td>\n",
       "      <td>$818,960.00</td>\n",
       "    </tr>\n",
       "    <tr>\n",
       "      <td>Vivalon Inc</td>\n",
       "      <td>2017</td>\n",
       "      <td>$812,960.00</td>\n",
       "    </tr>\n",
       "    <tr>\n",
       "      <td>LIFE ElderCare</td>\n",
       "      <td>2017</td>\n",
       "      <td>$802,658.00</td>\n",
       "    </tr>\n",
       "  </tbody>\n",
       "</table>"
      ],
      "text/plain": [
       "<IPython.core.display.HTML object>"
      ]
     },
     "metadata": {},
     "output_type": "display_data"
    }
   ],
   "source": [
    "top20_sum = (\n",
    "    df\n",
    "    >> group_by(_.organization_name, _.project_year)\n",
    "    >> summarize(sum_allocated_by_year=_.allocationamount.sum())\n",
    "    >> arrange(-_.sum_allocated_by_year)\n",
    ").head(20)\n",
    "# top20_sum = top20_sum.rename(columns={\"organization_name\":\"Organization Name\",\n",
    "#                                       \"project_year\":\"Project Year\",\n",
    "#                                       \"sum_allocated_by_year\":\"Sum Allocated by Year\"}) \n",
    "# top20_sum = (top20_sum.style.hide(axis='index').format(formatter={(\"Sum Allocated by Year\"): \"${:,.2f}\"}))\n",
    "top20_sum.sum_allocated_by_year = top20_sum.sum_allocated_by_year.map('${:,.2f}'.format)\n",
    "# display(top20_sum)\n",
    "(pretify_tables(top20_sum))"
   ]
  },
  {
   "cell_type": "code",
   "execution_count": null,
   "id": "63ffe728-5293-40f3-b8c8-ef80e7097b4d",
   "metadata": {
    "papermill": {
     "duration": 0.041317,
     "end_time": "2022-05-23T23:16:52.327525",
     "exception": false,
     "start_time": "2022-05-23T23:16:52.286208",
     "status": "completed"
    },
    "tags": []
   },
   "outputs": [],
   "source": []
  },
  {
   "cell_type": "markdown",
   "id": "5a629816-de99-4132-a6d7-a011a23f2689",
   "metadata": {
    "papermill": {
     "duration": 0.042193,
     "end_time": "2022-05-23T23:16:52.414732",
     "exception": false,
     "start_time": "2022-05-23T23:16:52.372539",
     "status": "completed"
    },
    "tags": []
   },
   "source": [
    "### By Organization & Project Types"
   ]
  },
  {
   "cell_type": "markdown",
   "id": "85a3ad60-e1ed-4e87-b33d-dc8fa9f7e24a",
   "metadata": {
    "papermill": {
     "duration": 0.038771,
     "end_time": "2022-05-23T23:16:52.493563",
     "exception": false,
     "start_time": "2022-05-23T23:16:52.454792",
     "status": "completed"
    },
    "tags": []
   },
   "source": [
    "**Vehicle Purchases**"
   ]
  },
  {
   "cell_type": "code",
   "execution_count": 31,
   "id": "12483656-928b-4731-bae7-93efc5455d6b",
   "metadata": {
    "execution": {
     "iopub.execute_input": "2022-05-23T23:16:52.576436Z",
     "iopub.status.busy": "2022-05-23T23:16:52.575602Z",
     "iopub.status.idle": "2022-05-23T23:16:52.674676Z",
     "shell.execute_reply": "2022-05-23T23:16:52.673714Z"
    },
    "papermill": {
     "duration": 0.143636,
     "end_time": "2022-05-23T23:16:52.677324",
     "exception": false,
     "start_time": "2022-05-23T23:16:52.533688",
     "status": "completed"
    },
    "tags": []
   },
   "outputs": [
    {
     "data": {
      "text/html": [
       "<table border=\"1\" class=\"dataframe\">\n",
       "  <thead>\n",
       "    <tr style=\"text-align: right;\">\n",
       "      <th>Organization Name</th>\n",
       "      <th>Project Year</th>\n",
       "      <th>Sum Allocated</th>\n",
       "    </tr>\n",
       "  </thead>\n",
       "  <tbody>\n",
       "    <tr>\n",
       "      <td>On Lok Senior Health Services</td>\n",
       "      <td>2019</td>\n",
       "      <td>$1,480,000.00</td>\n",
       "    </tr>\n",
       "    <tr>\n",
       "      <td>United Cerebral Palsy Association of Greater Sacramento Inc</td>\n",
       "      <td>2017</td>\n",
       "      <td>$1,449,680.00</td>\n",
       "    </tr>\n",
       "    <tr>\n",
       "      <td>Pride Industries One Inc</td>\n",
       "      <td>2019</td>\n",
       "      <td>$1,209,000.00</td>\n",
       "    </tr>\n",
       "    <tr>\n",
       "      <td>Pride Industries One Inc</td>\n",
       "      <td>2017</td>\n",
       "      <td>$1,135,727.52</td>\n",
       "    </tr>\n",
       "    <tr>\n",
       "      <td>ARC Bakersfield</td>\n",
       "      <td>2017</td>\n",
       "      <td>$1,008,340.28</td>\n",
       "    </tr>\n",
       "    <tr>\n",
       "      <td>Monterey-Salinas Transit</td>\n",
       "      <td>2017</td>\n",
       "      <td>$980,000.00</td>\n",
       "    </tr>\n",
       "    <tr>\n",
       "      <td>United Cerebral Palsy of San Luis Obispo County</td>\n",
       "      <td>2017</td>\n",
       "      <td>$634,000.00</td>\n",
       "    </tr>\n",
       "    <tr>\n",
       "      <td>Asian Community Center of Sacramento Valley Inc DBA ACC Senior Services</td>\n",
       "      <td>2017</td>\n",
       "      <td>$619,600.00</td>\n",
       "    </tr>\n",
       "    <tr>\n",
       "      <td>El Dorado County Transit Authority</td>\n",
       "      <td>2017</td>\n",
       "      <td>$610,000.00</td>\n",
       "    </tr>\n",
       "    <tr>\n",
       "      <td>Institute on Aging</td>\n",
       "      <td>2017</td>\n",
       "      <td>$560,000.00</td>\n",
       "    </tr>\n",
       "    <tr>\n",
       "      <td>Center for Elders' Independence</td>\n",
       "      <td>2019</td>\n",
       "      <td>$536,900.00</td>\n",
       "    </tr>\n",
       "    <tr>\n",
       "      <td>Peppermint Ridge</td>\n",
       "      <td>2017</td>\n",
       "      <td>$525,000.00</td>\n",
       "    </tr>\n",
       "    <tr>\n",
       "      <td>Vivalon Inc</td>\n",
       "      <td>2017</td>\n",
       "      <td>$518,000.00</td>\n",
       "    </tr>\n",
       "    <tr>\n",
       "      <td>Easy Lift Transportation Inc</td>\n",
       "      <td>2017</td>\n",
       "      <td>$514,023.60</td>\n",
       "    </tr>\n",
       "    <tr>\n",
       "      <td>On Lok Senior Health Services</td>\n",
       "      <td>2017</td>\n",
       "      <td>$490,000.00</td>\n",
       "    </tr>\n",
       "    <tr>\n",
       "      <td>Vivalon Inc</td>\n",
       "      <td>2019</td>\n",
       "      <td>$487,200.00</td>\n",
       "    </tr>\n",
       "    <tr>\n",
       "      <td>Kings Rehabilitation Center</td>\n",
       "      <td>2017</td>\n",
       "      <td>$486,972.49</td>\n",
       "    </tr>\n",
       "    <tr>\n",
       "      <td>Omnitrans</td>\n",
       "      <td>2017</td>\n",
       "      <td>$485,000.00</td>\n",
       "    </tr>\n",
       "    <tr>\n",
       "      <td>Monterey-Salinas Transit</td>\n",
       "      <td>2019</td>\n",
       "      <td>$460,200.00</td>\n",
       "    </tr>\n",
       "    <tr>\n",
       "      <td>United Cerebral Palsy Association of Greater Sacramento Inc</td>\n",
       "      <td>2019</td>\n",
       "      <td>$452,000.00</td>\n",
       "    </tr>\n",
       "  </tbody>\n",
       "</table>"
      ],
      "text/plain": [
       "<IPython.core.display.HTML object>"
      ]
     },
     "metadata": {},
     "output_type": "display_data"
    }
   ],
   "source": [
    "vp = (df\n",
    " >>filter(_.vehicle_purchase==1)\n",
    " >> group_by(_.organization_name, _.project_year)\n",
    " >> summarize(sum_allocated = _.allocationamount.sum())\n",
    "  >> arrange(-_.sum_allocated)\n",
    ").head(20)\n",
    "\n",
    "# vp = (vp.style.hide(axis='index').format(formatter={(\"sum_allocated\"): \"${:,.2f}\"}))\n",
    "# display(vp)\n",
    "vp.sum_allocated = vp.sum_allocated.map('${:,.2f}'.format)\n",
    "(pretify_tables(vp))"
   ]
  },
  {
   "cell_type": "code",
   "execution_count": null,
   "id": "d0587ae2-164f-4951-9be9-80b7562fe8f4",
   "metadata": {
    "papermill": {
     "duration": 0.039285,
     "end_time": "2022-05-23T23:16:52.757867",
     "exception": false,
     "start_time": "2022-05-23T23:16:52.718582",
     "status": "completed"
    },
    "tags": []
   },
   "outputs": [],
   "source": []
  },
  {
   "cell_type": "markdown",
   "id": "87830e4b-9099-402f-b958-737b6880fb8f",
   "metadata": {
    "papermill": {
     "duration": 0.052461,
     "end_time": "2022-05-23T23:16:52.855178",
     "exception": false,
     "start_time": "2022-05-23T23:16:52.802717",
     "status": "completed"
    },
    "tags": []
   },
   "source": [
    "**Operating Assistance**"
   ]
  },
  {
   "cell_type": "code",
   "execution_count": 32,
   "id": "befc8999-b2f6-45b9-92cf-02e5f992896c",
   "metadata": {
    "execution": {
     "iopub.execute_input": "2022-05-23T23:16:52.947209Z",
     "iopub.status.busy": "2022-05-23T23:16:52.946875Z",
     "iopub.status.idle": "2022-05-23T23:16:53.038814Z",
     "shell.execute_reply": "2022-05-23T23:16:53.038280Z"
    },
    "papermill": {
     "duration": 0.135759,
     "end_time": "2022-05-23T23:16:53.040981",
     "exception": false,
     "start_time": "2022-05-23T23:16:52.905222",
     "status": "completed"
    },
    "tags": []
   },
   "outputs": [
    {
     "data": {
      "text/html": [
       "<table border=\"1\" class=\"dataframe\">\n",
       "  <thead>\n",
       "    <tr style=\"text-align: right;\">\n",
       "      <th>Organization Name</th>\n",
       "      <th>Project Year</th>\n",
       "      <th>Sum Allocated</th>\n",
       "    </tr>\n",
       "  </thead>\n",
       "  <tbody>\n",
       "    <tr>\n",
       "      <td>Independent Living Partnership</td>\n",
       "      <td>2017</td>\n",
       "      <td>$1,114,031.00</td>\n",
       "    </tr>\n",
       "    <tr>\n",
       "      <td>LIFE ElderCare</td>\n",
       "      <td>2017</td>\n",
       "      <td>$802,658.00</td>\n",
       "    </tr>\n",
       "    <tr>\n",
       "      <td>Catholic Charities of the Diocese of Stockton</td>\n",
       "      <td>2017</td>\n",
       "      <td>$721,986.00</td>\n",
       "    </tr>\n",
       "    <tr>\n",
       "      <td>Town of Truckee</td>\n",
       "      <td>2017</td>\n",
       "      <td>$702,506.00</td>\n",
       "    </tr>\n",
       "    <tr>\n",
       "      <td>Marin County Transit District</td>\n",
       "      <td>2017</td>\n",
       "      <td>$700,000.00</td>\n",
       "    </tr>\n",
       "    <tr>\n",
       "      <td>West Valley Community Services</td>\n",
       "      <td>2019</td>\n",
       "      <td>$649,453.00</td>\n",
       "    </tr>\n",
       "    <tr>\n",
       "      <td>Asian Community Center of Sacramento Valley Inc DBA ACC Senior Services</td>\n",
       "      <td>2017</td>\n",
       "      <td>$624,048.00</td>\n",
       "    </tr>\n",
       "    <tr>\n",
       "      <td>Dignity Health Connected Living</td>\n",
       "      <td>2017</td>\n",
       "      <td>$530,302.00</td>\n",
       "    </tr>\n",
       "    <tr>\n",
       "      <td>Community Bridges Liftline</td>\n",
       "      <td>2017</td>\n",
       "      <td>$475,200.00</td>\n",
       "    </tr>\n",
       "    <tr>\n",
       "      <td>United Cerebral Palsy Association of Greater Sacramento Inc</td>\n",
       "      <td>2019</td>\n",
       "      <td>$467,625.00</td>\n",
       "    </tr>\n",
       "    <tr>\n",
       "      <td>Independent Living Partnership</td>\n",
       "      <td>2019</td>\n",
       "      <td>$465,998.00</td>\n",
       "    </tr>\n",
       "    <tr>\n",
       "      <td>Avenidas</td>\n",
       "      <td>2017</td>\n",
       "      <td>$441,475.00</td>\n",
       "    </tr>\n",
       "    <tr>\n",
       "      <td>North of the River Recreation and Park District</td>\n",
       "      <td>2017</td>\n",
       "      <td>$439,240.00</td>\n",
       "    </tr>\n",
       "    <tr>\n",
       "      <td>Community Partners In Caring</td>\n",
       "      <td>2017</td>\n",
       "      <td>$430,685.00</td>\n",
       "    </tr>\n",
       "    <tr>\n",
       "      <td>Outreach &amp; Escort Inc</td>\n",
       "      <td>2017</td>\n",
       "      <td>$400,000.00</td>\n",
       "    </tr>\n",
       "    <tr>\n",
       "      <td>Peninsula Jewish Community Center</td>\n",
       "      <td>2017</td>\n",
       "      <td>$396,000.00</td>\n",
       "    </tr>\n",
       "    <tr>\n",
       "      <td>Mobility Matters</td>\n",
       "      <td>2017</td>\n",
       "      <td>$395,743.00</td>\n",
       "    </tr>\n",
       "    <tr>\n",
       "      <td>County of Sacramento Department of Child Family and Adult Services</td>\n",
       "      <td>2017</td>\n",
       "      <td>$393,558.00</td>\n",
       "    </tr>\n",
       "    <tr>\n",
       "      <td>Friends of Children with Special Needs</td>\n",
       "      <td>2017</td>\n",
       "      <td>$335,488.00</td>\n",
       "    </tr>\n",
       "    <tr>\n",
       "      <td>San Benito County Local Transportation Authority</td>\n",
       "      <td>2017</td>\n",
       "      <td>$326,400.00</td>\n",
       "    </tr>\n",
       "  </tbody>\n",
       "</table>"
      ],
      "text/plain": [
       "<IPython.core.display.HTML object>"
      ]
     },
     "metadata": {},
     "output_type": "display_data"
    }
   ],
   "source": [
    "oa= (df\n",
    " >>filter(_.operating_assistance==1)\n",
    " >> group_by(_.organization_name, _.project_year)\n",
    " >> summarize(sum_allocated = _.allocationamount.sum())\n",
    " >> arrange(-_.sum_allocated)\n",
    ").head(20)\n",
    "\n",
    "# oa = (oa.style.hide(axis='index').format(formatter={(\"sum_allocated\"): \"${:,.2f}\"}))\n",
    "# display(oa)\n",
    "\n",
    "oa.sum_allocated = oa.sum_allocated.map('${:,.2f}'.format)\n",
    "(pretify_tables(oa))"
   ]
  },
  {
   "cell_type": "code",
   "execution_count": null,
   "id": "57f87a8a-0dd5-4aee-a5d1-b6d048f1f05d",
   "metadata": {
    "papermill": {
     "duration": 0.045359,
     "end_time": "2022-05-23T23:16:53.126595",
     "exception": false,
     "start_time": "2022-05-23T23:16:53.081236",
     "status": "completed"
    },
    "tags": []
   },
   "outputs": [],
   "source": []
  },
  {
   "cell_type": "markdown",
   "id": "49256088-8d0c-4903-848b-ff4e504cc35c",
   "metadata": {
    "papermill": {
     "duration": 0.038613,
     "end_time": "2022-05-23T23:16:53.204135",
     "exception": false,
     "start_time": "2022-05-23T23:16:53.165522",
     "status": "completed"
    },
    "tags": []
   },
   "source": [
    "**Software Purchase**"
   ]
  },
  {
   "cell_type": "code",
   "execution_count": 33,
   "id": "34412ec8-25c4-4bd0-bcf2-b450afb1f74e",
   "metadata": {
    "execution": {
     "iopub.execute_input": "2022-05-23T23:16:53.283914Z",
     "iopub.status.busy": "2022-05-23T23:16:53.283669Z",
     "iopub.status.idle": "2022-05-23T23:16:53.304950Z",
     "shell.execute_reply": "2022-05-23T23:16:53.304290Z"
    },
    "papermill": {
     "duration": 0.063996,
     "end_time": "2022-05-23T23:16:53.306791",
     "exception": false,
     "start_time": "2022-05-23T23:16:53.242795",
     "status": "completed"
    },
    "tags": []
   },
   "outputs": [
    {
     "data": {
      "text/html": [
       "<table border=\"1\" class=\"dataframe\">\n",
       "  <thead>\n",
       "    <tr style=\"text-align: right;\">\n",
       "      <th>Organization Name</th>\n",
       "      <th>Project Year</th>\n",
       "      <th>Sum Allocated</th>\n",
       "    </tr>\n",
       "  </thead>\n",
       "  <tbody>\n",
       "    <tr>\n",
       "      <td>Catholic Charities of the Diocese of Stockton</td>\n",
       "      <td>2019</td>\n",
       "      <td>$20,000.00</td>\n",
       "    </tr>\n",
       "    <tr>\n",
       "      <td>County of Sonoma Human Services Department Adult and Aging Division</td>\n",
       "      <td>2018</td>\n",
       "      <td>$10,000.00</td>\n",
       "    </tr>\n",
       "    <tr>\n",
       "      <td>Asian Community Center of Sacramento Valley Inc DBA ACC Senior Services</td>\n",
       "      <td>2017</td>\n",
       "      <td>$0.00</td>\n",
       "    </tr>\n",
       "    <tr>\n",
       "      <td>Yolo County Transportation District</td>\n",
       "      <td>2017</td>\n",
       "      <td>$0.00</td>\n",
       "    </tr>\n",
       "  </tbody>\n",
       "</table>"
      ],
      "text/plain": [
       "<IPython.core.display.HTML object>"
      ]
     },
     "metadata": {},
     "output_type": "display_data"
    }
   ],
   "source": [
    "sp = (df\n",
    " >>filter(_.hardware_software_purchase==1)\n",
    " >>filter(_.description.str.contains('Software'))\n",
    " >> group_by(_.organization_name, _.project_year)\n",
    " >> summarize(sum_allocated = _.allocationamount.sum())\n",
    "  >> arrange(-_.sum_allocated)\n",
    ").head(20)\n",
    "\n",
    "# sp = (sp.style.hide(axis='index').format(formatter={(\"sum_allocated\"): \"${:,.2f}\"}))\n",
    "# display(sp)\n",
    "\n",
    "sp.sum_allocated = sp.sum_allocated.map('${:,.2f}'.format)\n",
    "(pretify_tables(sp))"
   ]
  },
  {
   "cell_type": "code",
   "execution_count": 34,
   "id": "ac0aa2e2-58df-4ea3-904e-9bfb546b5f4e",
   "metadata": {
    "execution": {
     "iopub.execute_input": "2022-05-23T23:16:53.388684Z",
     "iopub.status.busy": "2022-05-23T23:16:53.388157Z",
     "iopub.status.idle": "2022-05-23T23:16:53.415086Z",
     "shell.execute_reply": "2022-05-23T23:16:53.414435Z"
    },
    "papermill": {
     "duration": 0.069811,
     "end_time": "2022-05-23T23:16:53.416920",
     "exception": false,
     "start_time": "2022-05-23T23:16:53.347109",
     "status": "completed"
    },
    "tags": []
   },
   "outputs": [
    {
     "data": {
      "text/html": [
       "<table border=\"1\" class=\"dataframe\">\n",
       "  <thead>\n",
       "    <tr style=\"text-align: right;\">\n",
       "      <th>Organization Name</th>\n",
       "      <th>Project Year</th>\n",
       "      <th>Sum Allocated</th>\n",
       "    </tr>\n",
       "  </thead>\n",
       "  <tbody>\n",
       "    <tr>\n",
       "      <td>United Cerebral Palsy Association of Greater Sacramento Inc</td>\n",
       "      <td>2017</td>\n",
       "      <td>$61,600.00</td>\n",
       "    </tr>\n",
       "    <tr>\n",
       "      <td>Catholic Charities of the Diocese of Stockton</td>\n",
       "      <td>2019</td>\n",
       "      <td>$28,500.00</td>\n",
       "    </tr>\n",
       "    <tr>\n",
       "      <td>Community Bridges Liftline</td>\n",
       "      <td>2017</td>\n",
       "      <td>$17,196.00</td>\n",
       "    </tr>\n",
       "    <tr>\n",
       "      <td>County of Sonoma Human Services Department Adult and Aging Division</td>\n",
       "      <td>2018</td>\n",
       "      <td>$10,000.00</td>\n",
       "    </tr>\n",
       "    <tr>\n",
       "      <td>Community Bridges Liftline</td>\n",
       "      <td>2019</td>\n",
       "      <td>$7,954.00</td>\n",
       "    </tr>\n",
       "    <tr>\n",
       "      <td>Porterville Sheltered Workshop</td>\n",
       "      <td>2019</td>\n",
       "      <td>$7,742.00</td>\n",
       "    </tr>\n",
       "    <tr>\n",
       "      <td>San Joaquin Regional Transit District</td>\n",
       "      <td>2017</td>\n",
       "      <td>$7,571.00</td>\n",
       "    </tr>\n",
       "    <tr>\n",
       "      <td>Sunline Transit Agency</td>\n",
       "      <td>2019</td>\n",
       "      <td>$5,150.00</td>\n",
       "    </tr>\n",
       "    <tr>\n",
       "      <td>Asian Community Center of Sacramento Valley Inc DBA ACC Senior Services</td>\n",
       "      <td>2017</td>\n",
       "      <td>$2,480.00</td>\n",
       "    </tr>\n",
       "    <tr>\n",
       "      <td>Milestones of Development INC</td>\n",
       "      <td>2019</td>\n",
       "      <td>$1,400.00</td>\n",
       "    </tr>\n",
       "    <tr>\n",
       "      <td>Foothill AIDS Project</td>\n",
       "      <td>2017</td>\n",
       "      <td>$1,200.00</td>\n",
       "    </tr>\n",
       "    <tr>\n",
       "      <td>Yolo County Transportation District</td>\n",
       "      <td>2017</td>\n",
       "      <td>$0.00</td>\n",
       "    </tr>\n",
       "  </tbody>\n",
       "</table>"
      ],
      "text/plain": [
       "<IPython.core.display.HTML object>"
      ]
     },
     "metadata": {},
     "output_type": "display_data"
    }
   ],
   "source": [
    "hsp = (df\n",
    " >>filter(_.hardware_software_purchase==1)\n",
    " >> group_by(_.organization_name, _.project_year)\n",
    " >> summarize(sum_allocated = _.allocationamount.sum())\n",
    "       >> arrange(-_.sum_allocated)\n",
    ").head(20)\n",
    "\n",
    "# hsp = (hsp.style.hide(axis='index').format(formatter={(\"sum_allocated\"): \"${:,.2f}\"}))\n",
    "# display(hsp)\n",
    "\n",
    "hsp.sum_allocated = hsp.sum_allocated.map('${:,.2f}'.format)\n",
    "(pretify_tables(hsp))"
   ]
  },
  {
   "cell_type": "code",
   "execution_count": null,
   "id": "4372261e-9d97-420e-87b1-6ea221bf6037",
   "metadata": {
    "papermill": {
     "duration": 0.042948,
     "end_time": "2022-05-23T23:16:53.500878",
     "exception": false,
     "start_time": "2022-05-23T23:16:53.457930",
     "status": "completed"
    },
    "tags": []
   },
   "outputs": [],
   "source": []
  },
  {
   "cell_type": "markdown",
   "id": "84f430d2-3396-475b-a31f-7eacc49fedc0",
   "metadata": {
    "papermill": {
     "duration": 0.041616,
     "end_time": "2022-05-23T23:16:53.587571",
     "exception": false,
     "start_time": "2022-05-23T23:16:53.545955",
     "status": "completed"
    },
    "tags": []
   },
   "source": [
    "### By County"
   ]
  },
  {
   "cell_type": "code",
   "execution_count": null,
   "id": "528d0d04-3bdb-4cac-ba4b-14b7dedbd0e9",
   "metadata": {
    "papermill": {
     "duration": 0.039739,
     "end_time": "2022-05-23T23:16:53.671838",
     "exception": false,
     "start_time": "2022-05-23T23:16:53.632099",
     "status": "completed"
    },
    "tags": []
   },
   "outputs": [],
   "source": []
  },
  {
   "cell_type": "code",
   "execution_count": 35,
   "id": "4bc4a769-687d-42d8-81df-bfffaaddd55a",
   "metadata": {
    "execution": {
     "iopub.execute_input": "2022-05-23T23:16:53.755108Z",
     "iopub.status.busy": "2022-05-23T23:16:53.754439Z",
     "iopub.status.idle": "2022-05-23T23:16:53.808547Z",
     "shell.execute_reply": "2022-05-23T23:16:53.807812Z"
    },
    "papermill": {
     "duration": 0.098575,
     "end_time": "2022-05-23T23:16:53.810385",
     "exception": false,
     "start_time": "2022-05-23T23:16:53.711810",
     "status": "completed"
    },
    "scrolled": true,
    "tags": []
   },
   "outputs": [
    {
     "data": {
      "text/html": [
       "<table border=\"1\" class=\"dataframe\">\n",
       "  <thead>\n",
       "    <tr style=\"text-align: right;\">\n",
       "      <th>County</th>\n",
       "      <th>Sum Allocated By County</th>\n",
       "    </tr>\n",
       "  </thead>\n",
       "  <tbody>\n",
       "    <tr>\n",
       "      <td>Alameda</td>\n",
       "      <td>$2,982,664.00</td>\n",
       "    </tr>\n",
       "    <tr>\n",
       "      <td>Alameda, Contra Costa</td>\n",
       "      <td>$671,900.00</td>\n",
       "    </tr>\n",
       "    <tr>\n",
       "      <td>Amador</td>\n",
       "      <td>$469,995.00</td>\n",
       "    </tr>\n",
       "    <tr>\n",
       "      <td>Amador, Calaveras</td>\n",
       "      <td>$299,479.40</td>\n",
       "    </tr>\n",
       "    <tr>\n",
       "      <td>Butte</td>\n",
       "      <td>$1,235,790.10</td>\n",
       "    </tr>\n",
       "    <tr>\n",
       "      <td>Butte, Glen</td>\n",
       "      <td>$813,194.00</td>\n",
       "    </tr>\n",
       "    <tr>\n",
       "      <td>Calaveras</td>\n",
       "      <td>$0.00</td>\n",
       "    </tr>\n",
       "    <tr>\n",
       "      <td>Calaveras, Amador, Tuolumne</td>\n",
       "      <td>$826,157.00</td>\n",
       "    </tr>\n",
       "    <tr>\n",
       "      <td>Colusa</td>\n",
       "      <td>$162,400.00</td>\n",
       "    </tr>\n",
       "    <tr>\n",
       "      <td>Contra Costa</td>\n",
       "      <td>$3,007,198.00</td>\n",
       "    </tr>\n",
       "    <tr>\n",
       "      <td>Contra Costa, Napa, Solano, Sacramento</td>\n",
       "      <td>$369,716.00</td>\n",
       "    </tr>\n",
       "    <tr>\n",
       "      <td>Del Norte</td>\n",
       "      <td>$132,700.00</td>\n",
       "    </tr>\n",
       "    <tr>\n",
       "      <td>Douglas, Placer, Washoe, Carson City</td>\n",
       "      <td>$80,000.00</td>\n",
       "    </tr>\n",
       "    <tr>\n",
       "      <td>El Dorado</td>\n",
       "      <td>$666,000.00</td>\n",
       "    </tr>\n",
       "    <tr>\n",
       "      <td>Humboldt</td>\n",
       "      <td>$1,133,905.57</td>\n",
       "    </tr>\n",
       "    <tr>\n",
       "      <td>Humboldt, De Norte</td>\n",
       "      <td>$146,534.00</td>\n",
       "    </tr>\n",
       "    <tr>\n",
       "      <td>Imperial</td>\n",
       "      <td>$1,257,956.00</td>\n",
       "    </tr>\n",
       "    <tr>\n",
       "      <td>Inyo</td>\n",
       "      <td>$284,287.00</td>\n",
       "    </tr>\n",
       "    <tr>\n",
       "      <td>Inyo, Mono</td>\n",
       "      <td>$72,710.00</td>\n",
       "    </tr>\n",
       "    <tr>\n",
       "      <td>Kern</td>\n",
       "      <td>$3,133,432.69</td>\n",
       "    </tr>\n",
       "    <tr>\n",
       "      <td>Kings</td>\n",
       "      <td>$879,572.49</td>\n",
       "    </tr>\n",
       "    <tr>\n",
       "      <td>Lake</td>\n",
       "      <td>$1,028,208.00</td>\n",
       "    </tr>\n",
       "    <tr>\n",
       "      <td>Lassen, Modoc</td>\n",
       "      <td>$63,000.00</td>\n",
       "    </tr>\n",
       "    <tr>\n",
       "      <td>Marin</td>\n",
       "      <td>$2,454,160.00</td>\n",
       "    </tr>\n",
       "    <tr>\n",
       "      <td>Mendocino</td>\n",
       "      <td>$1,671,032.57</td>\n",
       "    </tr>\n",
       "    <tr>\n",
       "      <td>Monterey</td>\n",
       "      <td>$1,440,200.00</td>\n",
       "    </tr>\n",
       "    <tr>\n",
       "      <td>Monterey, San Mateo, San Benito, Santa Clara, San Francisco</td>\n",
       "      <td>$1,077,567.60</td>\n",
       "    </tr>\n",
       "    <tr>\n",
       "      <td>Napa</td>\n",
       "      <td>$280,000.00</td>\n",
       "    </tr>\n",
       "    <tr>\n",
       "      <td>Nevada</td>\n",
       "      <td>$1,153,206.00</td>\n",
       "    </tr>\n",
       "    <tr>\n",
       "      <td>Nevada, Sierra</td>\n",
       "      <td>$871,243.00</td>\n",
       "    </tr>\n",
       "    <tr>\n",
       "      <td>Orange, Los Angeles, Riverside, San Bernardino, Ventura</td>\n",
       "      <td>$445,941.00</td>\n",
       "    </tr>\n",
       "    <tr>\n",
       "      <td>Placer</td>\n",
       "      <td>$2,453,032.41</td>\n",
       "    </tr>\n",
       "    <tr>\n",
       "      <td>Riverside</td>\n",
       "      <td>$6,723,401.00</td>\n",
       "    </tr>\n",
       "    <tr>\n",
       "      <td>Sacramento</td>\n",
       "      <td>$5,117,233.55</td>\n",
       "    </tr>\n",
       "    <tr>\n",
       "      <td>San Benito</td>\n",
       "      <td>$533,600.00</td>\n",
       "    </tr>\n",
       "    <tr>\n",
       "      <td>San Bernardino</td>\n",
       "      <td>$3,637,150.00</td>\n",
       "    </tr>\n",
       "    <tr>\n",
       "      <td>San Bernardino, Riverside, Los Angeles</td>\n",
       "      <td>$320,411.00</td>\n",
       "    </tr>\n",
       "    <tr>\n",
       "      <td>San Diego</td>\n",
       "      <td>$2,077,171.00</td>\n",
       "    </tr>\n",
       "    <tr>\n",
       "      <td>San Francisco</td>\n",
       "      <td>$4,537,490.00</td>\n",
       "    </tr>\n",
       "    <tr>\n",
       "      <td>San Francisco, Alameda, San Mateo, Santa Clara</td>\n",
       "      <td>$242,098.00</td>\n",
       "    </tr>\n",
       "    <tr>\n",
       "      <td>San Francisco, San Mateo, Santa Clara</td>\n",
       "      <td>$876,400.00</td>\n",
       "    </tr>\n",
       "    <tr>\n",
       "      <td>San Joaquin</td>\n",
       "      <td>$1,882,471.00</td>\n",
       "    </tr>\n",
       "    <tr>\n",
       "      <td>San Luis Obispo</td>\n",
       "      <td>$1,941,324.00</td>\n",
       "    </tr>\n",
       "    <tr>\n",
       "      <td>San Mateo</td>\n",
       "      <td>$838,212.52</td>\n",
       "    </tr>\n",
       "    <tr>\n",
       "      <td>Santa Barbara</td>\n",
       "      <td>$2,151,408.60</td>\n",
       "    </tr>\n",
       "    <tr>\n",
       "      <td>Santa Barbara, Monterey, San Luis Obispo</td>\n",
       "      <td>$375,600.00</td>\n",
       "    </tr>\n",
       "    <tr>\n",
       "      <td>Santa Clara</td>\n",
       "      <td>$2,890,663.00</td>\n",
       "    </tr>\n",
       "    <tr>\n",
       "      <td>Santa Clara, Alameda</td>\n",
       "      <td>$1,586,425.00</td>\n",
       "    </tr>\n",
       "    <tr>\n",
       "      <td>Santa Cruz</td>\n",
       "      <td>$408,304.00</td>\n",
       "    </tr>\n",
       "    <tr>\n",
       "      <td>Santa Cruz, San Benito, Santa Clara, Monterey</td>\n",
       "      <td>$390,991.00</td>\n",
       "    </tr>\n",
       "    <tr>\n",
       "      <td>Shasta</td>\n",
       "      <td>$874,329.71</td>\n",
       "    </tr>\n",
       "    <tr>\n",
       "      <td>Solano</td>\n",
       "      <td>$2,006,537.00</td>\n",
       "    </tr>\n",
       "    <tr>\n",
       "      <td>Sonoma</td>\n",
       "      <td>$1,303,586.00</td>\n",
       "    </tr>\n",
       "    <tr>\n",
       "      <td>Stanislaus</td>\n",
       "      <td>$692,200.00</td>\n",
       "    </tr>\n",
       "    <tr>\n",
       "      <td>Tehama</td>\n",
       "      <td>$747,255.16</td>\n",
       "    </tr>\n",
       "    <tr>\n",
       "      <td>Tulare</td>\n",
       "      <td>$1,168,422.13</td>\n",
       "    </tr>\n",
       "    <tr>\n",
       "      <td>Tuolumne</td>\n",
       "      <td>$249,377.00</td>\n",
       "    </tr>\n",
       "    <tr>\n",
       "      <td>Ventura</td>\n",
       "      <td>$60,000.00</td>\n",
       "    </tr>\n",
       "    <tr>\n",
       "      <td>Yolo</td>\n",
       "      <td>$64,426.73</td>\n",
       "    </tr>\n",
       "  </tbody>\n",
       "</table>"
      ],
      "text/plain": [
       "<IPython.core.display.HTML object>"
      ]
     },
     "metadata": {},
     "output_type": "display_data"
    }
   ],
   "source": [
    "county = (df\n",
    " >> group_by(_.county)\n",
    " >> summarize(sum_allocated_by_county = _.allocationamount.sum())\n",
    ")\n",
    "# county = (county.style.hide(axis='index').format(formatter={(\"sum_allocated_by_county\"): \"${:,.2f}\"}))\n",
    "# display(county)\n",
    "\n",
    "county.sum_allocated_by_county = county.sum_allocated_by_county.map('${:,.2f}'.format)\n",
    "(pretify_tables(county))"
   ]
  },
  {
   "cell_type": "code",
   "execution_count": null,
   "id": "1a3835c4-f5d4-4840-9845-995722ecd5c2",
   "metadata": {
    "papermill": {
     "duration": 0.041803,
     "end_time": "2022-05-23T23:16:53.893001",
     "exception": false,
     "start_time": "2022-05-23T23:16:53.851198",
     "status": "completed"
    },
    "tags": []
   },
   "outputs": [],
   "source": []
  },
  {
   "cell_type": "code",
   "execution_count": null,
   "id": "57bc577a-5081-43fa-87f5-6d6a1e1ea370",
   "metadata": {
    "papermill": {
     "duration": 0.040134,
     "end_time": "2022-05-23T23:16:53.975527",
     "exception": false,
     "start_time": "2022-05-23T23:16:53.935393",
     "status": "completed"
    },
    "tags": []
   },
   "outputs": [],
   "source": []
  }
 ],
 "metadata": {
  "kernelspec": {
   "display_name": "Python 3 (ipykernel)",
   "language": "python",
   "name": "python3"
  },
  "language_info": {
   "codemirror_mode": {
    "name": "ipython",
    "version": 3
   },
   "file_extension": ".py",
   "mimetype": "text/x-python",
   "name": "python",
   "nbconvert_exporter": "python",
   "pygments_lexer": "ipython3",
   "version": "3.9.12"
  },
  "papermill": {
   "default_parameters": {},
   "duration": 18.777866,
   "end_time": "2022-05-23T23:16:55.251668",
   "environment_variables": {},
   "exception": null,
   "input_path": "5310_report_work.ipynb",
   "output_path": "5310_report_output.ipynb",
   "parameters": {},
   "start_time": "2022-05-23T23:16:36.473802",
   "version": "2.3.4"
  },
  "widgets": {
   "application/vnd.jupyter.widget-state+json": {
    "state": {},
    "version_major": 2,
    "version_minor": 0
   }
  }
 },
 "nbformat": 4,
 "nbformat_minor": 5
}