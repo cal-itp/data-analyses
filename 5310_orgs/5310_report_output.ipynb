{
 "cells": [
  {
   "cell_type": "markdown",
   "id": "3283b7e9-f056-43d7-aef4-3e5820708aaa",
   "metadata": {
    "papermill": {
     "duration": 0.023557,
     "end_time": "2022-05-25T19:50:03.288669",
     "exception": false,
     "start_time": "2022-05-25T19:50:03.265112",
     "status": "completed"
    },
    "tags": []
   },
   "source": [
    "# **5310 Organizations**"
   ]
  },
  {
   "cell_type": "markdown",
   "id": "1987a99b-c650-4e44-823e-e1b3cdda1a98",
   "metadata": {
    "papermill": {
     "duration": 0.022176,
     "end_time": "2022-05-25T19:50:03.331834",
     "exception": false,
     "start_time": "2022-05-25T19:50:03.309658",
     "status": "completed"
    },
    "tags": []
   },
   "source": [
    "### Looking into 5310 Organizations with the following project types:\n",
    "*  purchasing wheelchair accessible vehicle\n",
    "* on-demand scheduling \n",
    "* dispatching software platforms"
   ]
  },
  {
   "cell_type": "code",
   "execution_count": 1,
   "id": "e1ebf6aa-4275-44d9-83b5-9b99b7fceb9a",
   "metadata": {
    "execution": {
     "iopub.execute_input": "2022-05-25T19:50:03.378515Z",
     "iopub.status.busy": "2022-05-25T19:50:03.378147Z",
     "iopub.status.idle": "2022-05-25T19:50:03.387788Z",
     "shell.execute_reply": "2022-05-25T19:50:03.386936Z"
    },
    "papermill": {
     "duration": 0.036039,
     "end_time": "2022-05-25T19:50:03.389768",
     "exception": false,
     "start_time": "2022-05-25T19:50:03.353729",
     "status": "completed"
    },
    "tags": []
   },
   "outputs": [],
   "source": [
    "import warnings\n",
    "warnings.filterwarnings('ignore')"
   ]
  },
  {
   "cell_type": "code",
   "execution_count": 2,
   "id": "90a4e032-3017-4279-a7e7-895f292a0168",
   "metadata": {
    "execution": {
     "iopub.execute_input": "2022-05-25T19:50:03.434561Z",
     "iopub.status.busy": "2022-05-25T19:50:03.433941Z",
     "iopub.status.idle": "2022-05-25T19:50:11.906824Z",
     "shell.execute_reply": "2022-05-25T19:50:11.905731Z"
    },
    "papermill": {
     "duration": 8.497845,
     "end_time": "2022-05-25T19:50:11.909617",
     "exception": false,
     "start_time": "2022-05-25T19:50:03.411772",
     "status": "completed"
    },
    "tags": []
   },
   "outputs": [],
   "source": [
    "import pandas as pd\n",
    "from siuba import *\n",
    "import numpy as np\n",
    "\n",
    "import altair as alt\n",
    "\n",
    "from shared_utils import altair_utils\n",
    "from shared_utils import geography_utils\n",
    "from shared_utils import calitp_color_palette as cp\n",
    "from shared_utils import styleguide\n",
    "\n",
    "from dla_utils import _dla_utils\n",
    "\n",
    "from calitp import to_snakecase\n",
    "\n",
    "from IPython.display import display, Markdown, HTML"
   ]
  },
  {
   "cell_type": "code",
   "execution_count": 3,
   "id": "cc9496e4-0e66-4cd4-957b-2c1b0ace703b",
   "metadata": {
    "execution": {
     "iopub.execute_input": "2022-05-25T19:50:11.953745Z",
     "iopub.status.busy": "2022-05-25T19:50:11.953178Z",
     "iopub.status.idle": "2022-05-25T19:50:11.970720Z",
     "shell.execute_reply": "2022-05-25T19:50:11.970009Z"
    },
    "papermill": {
     "duration": 0.042352,
     "end_time": "2022-05-25T19:50:11.972951",
     "exception": false,
     "start_time": "2022-05-25T19:50:11.930599",
     "status": "completed"
    },
    "tags": []
   },
   "outputs": [],
   "source": [
    "df = pd.read_csv('5310_info_pt.csv')"
   ]
  },
  {
   "cell_type": "code",
   "execution_count": 4,
   "id": "3250b427-6717-40f6-8be3-4b90aa731313",
   "metadata": {
    "execution": {
     "iopub.execute_input": "2022-05-25T19:50:12.018776Z",
     "iopub.status.busy": "2022-05-25T19:50:12.018209Z",
     "iopub.status.idle": "2022-05-25T19:50:12.111807Z",
     "shell.execute_reply": "2022-05-25T19:50:12.110949Z"
    },
    "papermill": {
     "duration": 0.118333,
     "end_time": "2022-05-25T19:50:12.114145",
     "exception": false,
     "start_time": "2022-05-25T19:50:11.995812",
     "status": "completed"
    },
    "tags": []
   },
   "outputs": [],
   "source": [
    "grouped =pd.read_csv('gs://calitp-analytics-data/data-analyses/5310/5310_org_info_manualfill.csv')"
   ]
  },
  {
   "cell_type": "code",
   "execution_count": 5,
   "id": "2c6a684a-a28a-4af3-9e37-dc868b581fff",
   "metadata": {
    "execution": {
     "iopub.execute_input": "2022-05-25T19:50:12.159056Z",
     "iopub.status.busy": "2022-05-25T19:50:12.158480Z",
     "iopub.status.idle": "2022-05-25T19:50:12.194136Z",
     "shell.execute_reply": "2022-05-25T19:50:12.193281Z"
    },
    "papermill": {
     "duration": 0.060014,
     "end_time": "2022-05-25T19:50:12.196128",
     "exception": false,
     "start_time": "2022-05-25T19:50:12.136114",
     "status": "completed"
    },
    "tags": []
   },
   "outputs": [
    {
     "data": {
      "text/html": [
       "\n",
       "<div id=\"altair-viz-a87906ecec594e8688da10c03ce698d8\"></div>\n",
       "<script type=\"text/javascript\">\n",
       "  var VEGA_DEBUG = (typeof VEGA_DEBUG == \"undefined\") ? {} : VEGA_DEBUG;\n",
       "  (function(spec, embedOpt){\n",
       "    let outputDiv = document.currentScript.previousElementSibling;\n",
       "    if (outputDiv.id !== \"altair-viz-a87906ecec594e8688da10c03ce698d8\") {\n",
       "      outputDiv = document.getElementById(\"altair-viz-a87906ecec594e8688da10c03ce698d8\");\n",
       "    }\n",
       "    const paths = {\n",
       "      \"vega\": \"https://cdn.jsdelivr.net/npm//vega@5?noext\",\n",
       "      \"vega-lib\": \"https://cdn.jsdelivr.net/npm//vega-lib?noext\",\n",
       "      \"vega-lite\": \"https://cdn.jsdelivr.net/npm//vega-lite@4.17.0?noext\",\n",
       "      \"vega-embed\": \"https://cdn.jsdelivr.net/npm//vega-embed@6?noext\",\n",
       "    };\n",
       "\n",
       "    function maybeLoadScript(lib, version) {\n",
       "      var key = `${lib.replace(\"-\", \"\")}_version`;\n",
       "      return (VEGA_DEBUG[key] == version) ?\n",
       "        Promise.resolve(paths[lib]) :\n",
       "        new Promise(function(resolve, reject) {\n",
       "          var s = document.createElement('script');\n",
       "          document.getElementsByTagName(\"head\")[0].appendChild(s);\n",
       "          s.async = true;\n",
       "          s.onload = () => {\n",
       "            VEGA_DEBUG[key] = version;\n",
       "            return resolve(paths[lib]);\n",
       "          };\n",
       "          s.onerror = () => reject(`Error loading script: ${paths[lib]}`);\n",
       "          s.src = paths[lib];\n",
       "        });\n",
       "    }\n",
       "\n",
       "    function showError(err) {\n",
       "      outputDiv.innerHTML = `<div class=\"error\" style=\"color:red;\">${err}</div>`;\n",
       "      throw err;\n",
       "    }\n",
       "\n",
       "    function displayChart(vegaEmbed) {\n",
       "      vegaEmbed(outputDiv, spec, embedOpt)\n",
       "        .catch(err => showError(`Javascript Error: ${err.message}<br>This usually means there's a typo in your chart specification. See the javascript console for the full traceback.`));\n",
       "    }\n",
       "\n",
       "    if(typeof define === \"function\" && define.amd) {\n",
       "      requirejs.config({paths});\n",
       "      require([\"vega-embed\"], displayChart, err => showError(`Error loading script: ${err.message}`));\n",
       "    } else {\n",
       "      maybeLoadScript(\"vega\", \"5\")\n",
       "        .then(() => maybeLoadScript(\"vega-lite\", \"4.17.0\"))\n",
       "        .then(() => maybeLoadScript(\"vega-embed\", \"6\"))\n",
       "        .catch(showError)\n",
       "        .then(() => displayChart(vegaEmbed));\n",
       "    }\n",
       "  })({\"config\": {\"view\": {\"continuousWidth\": 400, \"continuousHeight\": 300}, \"axis\": {\"domainColor\": \"#cbcbcb\", \"grid\": true, \"gridColor\": \"#cbcbcb\", \"gridWidth\": 1, \"labelColor\": \"#474747\", \"labelFont\": \"Nunito Sans\", \"labelFontSize\": 10, \"labelPadding\": 4, \"tickColor\": \"#cbcbcb\", \"tickSize\": 10, \"titleColor\": \"#333\", \"titleFont\": \"Raleway\", \"titleFontSize\": 12, \"titlePadding\": 10}, \"axisBand\": {\"grid\": false}, \"background\": \"white\", \"font\": \"Raleway\", \"header\": {\"labelFont\": \"Nunito Sans\", \"titleFont\": \"Raleway\"}, \"legend\": {\"labelColor\": \"#333\", \"labelFont\": \"Nunito Sans\", \"labelFontSize\": 11, \"labelLimit\": 0, \"padding\": 1, \"symbolSize\": 30, \"symbolType\": \"square\", \"titleColor\": \"#333\", \"titleFont\": \"Raleway\", \"titleFontSize\": 14, \"titlePadding\": 10}, \"title\": {\"anchor\": \"middle\", \"font\": \"Raleway\", \"fontSize\": 18, \"fontWeight\": 300, \"offset\": 20}}, \"data\": {\"name\": \"data-a64594febd956212f57f371d3cf36998\"}, \"mark\": \"bar\", \"encoding\": {\"color\": {\"field\": \"organization_type\", \"legend\": {\"symbolLimit\": 10, \"title\": \"Organization Type\"}, \"scale\": {\"range\": [\"#2EA8CE\", \"#EB9F3C\", \"#F4D837\", \"#51BF9D\", \"#8CBCCB\", \"#9487C0\"]}, \"type\": \"nominal\"}, \"x\": {\"field\": \"organization_type\", \"sort\": \"-y\", \"title\": \"Organization Type\", \"type\": \"nominal\"}, \"y\": {\"field\": \"n\", \"title\": \"Count\", \"type\": \"quantitative\"}}, \"height\": 250, \"title\": \"5310 Organization Types\", \"width\": 400, \"$schema\": \"https://vega.github.io/schema/vega-lite/v4.17.0.json\", \"datasets\": {\"data-a64594febd956212f57f371d3cf36998\": [{\"organization_type\": \"City, County or Local Government Unit or Department of Transportation\", \"n\": 12}, {\"organization_type\": \"Company\", \"n\": 4}, {\"organization_type\": \"Independent Agency\", \"n\": 5}, {\"organization_type\": \"Independent Public Agency or Authority of Transit Service\", \"n\": 28}, {\"organization_type\": \"MPO/RTPA\", \"n\": 3}, {\"organization_type\": \"Non-Profit Organization\", \"n\": 90}, {\"organization_type\": \"Other\", \"n\": 3}, {\"organization_type\": \"Private-Non-Profit Corporation\", \"n\": 1}, {\"organization_type\": \"University\", \"n\": 1}]}}, {\"mode\": \"vega-lite\"});\n",
       "</script>"
      ],
      "text/plain": [
       "alt.Chart(...)"
      ]
     },
     "execution_count": 5,
     "metadata": {},
     "output_type": "execute_result"
    }
   ],
   "source": [
    "org_counts = grouped >> count(_.organization_type)\n",
    "_dla_utils.bar_chart_nosubset(\n",
    "    org_counts, \"organization_type\", \"n\", \"organization_type\", \"5310 Organization Types\"\n",
    ")"
   ]
  },
  {
   "cell_type": "code",
   "execution_count": 6,
   "id": "1eade0b4-d58a-49a9-8ea5-da8972691f9c",
   "metadata": {
    "execution": {
     "iopub.execute_input": "2022-05-25T19:50:12.240315Z",
     "iopub.status.busy": "2022-05-25T19:50:12.240037Z",
     "iopub.status.idle": "2022-05-25T19:50:12.265988Z",
     "shell.execute_reply": "2022-05-25T19:50:12.265206Z"
    },
    "papermill": {
     "duration": 0.05064,
     "end_time": "2022-05-25T19:50:12.267926",
     "exception": false,
     "start_time": "2022-05-25T19:50:12.217286",
     "status": "completed"
    },
    "tags": []
   },
   "outputs": [
    {
     "data": {
      "text/html": [
       "\n",
       "<div id=\"altair-viz-135e8d3322364b20813e957701c56c01\"></div>\n",
       "<script type=\"text/javascript\">\n",
       "  var VEGA_DEBUG = (typeof VEGA_DEBUG == \"undefined\") ? {} : VEGA_DEBUG;\n",
       "  (function(spec, embedOpt){\n",
       "    let outputDiv = document.currentScript.previousElementSibling;\n",
       "    if (outputDiv.id !== \"altair-viz-135e8d3322364b20813e957701c56c01\") {\n",
       "      outputDiv = document.getElementById(\"altair-viz-135e8d3322364b20813e957701c56c01\");\n",
       "    }\n",
       "    const paths = {\n",
       "      \"vega\": \"https://cdn.jsdelivr.net/npm//vega@5?noext\",\n",
       "      \"vega-lib\": \"https://cdn.jsdelivr.net/npm//vega-lib?noext\",\n",
       "      \"vega-lite\": \"https://cdn.jsdelivr.net/npm//vega-lite@4.17.0?noext\",\n",
       "      \"vega-embed\": \"https://cdn.jsdelivr.net/npm//vega-embed@6?noext\",\n",
       "    };\n",
       "\n",
       "    function maybeLoadScript(lib, version) {\n",
       "      var key = `${lib.replace(\"-\", \"\")}_version`;\n",
       "      return (VEGA_DEBUG[key] == version) ?\n",
       "        Promise.resolve(paths[lib]) :\n",
       "        new Promise(function(resolve, reject) {\n",
       "          var s = document.createElement('script');\n",
       "          document.getElementsByTagName(\"head\")[0].appendChild(s);\n",
       "          s.async = true;\n",
       "          s.onload = () => {\n",
       "            VEGA_DEBUG[key] = version;\n",
       "            return resolve(paths[lib]);\n",
       "          };\n",
       "          s.onerror = () => reject(`Error loading script: ${paths[lib]}`);\n",
       "          s.src = paths[lib];\n",
       "        });\n",
       "    }\n",
       "\n",
       "    function showError(err) {\n",
       "      outputDiv.innerHTML = `<div class=\"error\" style=\"color:red;\">${err}</div>`;\n",
       "      throw err;\n",
       "    }\n",
       "\n",
       "    function displayChart(vegaEmbed) {\n",
       "      vegaEmbed(outputDiv, spec, embedOpt)\n",
       "        .catch(err => showError(`Javascript Error: ${err.message}<br>This usually means there's a typo in your chart specification. See the javascript console for the full traceback.`));\n",
       "    }\n",
       "\n",
       "    if(typeof define === \"function\" && define.amd) {\n",
       "      requirejs.config({paths});\n",
       "      require([\"vega-embed\"], displayChart, err => showError(`Error loading script: ${err.message}`));\n",
       "    } else {\n",
       "      maybeLoadScript(\"vega\", \"5\")\n",
       "        .then(() => maybeLoadScript(\"vega-lite\", \"4.17.0\"))\n",
       "        .then(() => maybeLoadScript(\"vega-embed\", \"6\"))\n",
       "        .catch(showError)\n",
       "        .then(() => displayChart(vegaEmbed));\n",
       "    }\n",
       "  })({\"config\": {\"view\": {\"continuousWidth\": 400, \"continuousHeight\": 300}, \"axis\": {\"domainColor\": \"#cbcbcb\", \"grid\": true, \"gridColor\": \"#cbcbcb\", \"gridWidth\": 1, \"labelColor\": \"#474747\", \"labelFont\": \"Nunito Sans\", \"labelFontSize\": 10, \"labelPadding\": 4, \"tickColor\": \"#cbcbcb\", \"tickSize\": 10, \"titleColor\": \"#333\", \"titleFont\": \"Raleway\", \"titleFontSize\": 12, \"titlePadding\": 10}, \"axisBand\": {\"grid\": false}, \"background\": \"white\", \"font\": \"Raleway\", \"header\": {\"labelFont\": \"Nunito Sans\", \"titleFont\": \"Raleway\"}, \"legend\": {\"labelColor\": \"#333\", \"labelFont\": \"Nunito Sans\", \"labelFontSize\": 11, \"labelLimit\": 0, \"padding\": 1, \"symbolSize\": 30, \"symbolType\": \"square\", \"titleColor\": \"#333\", \"titleFont\": \"Raleway\", \"titleFontSize\": 14, \"titlePadding\": 10}, \"title\": {\"anchor\": \"middle\", \"font\": \"Raleway\", \"fontSize\": 18, \"fontWeight\": 300, \"offset\": 20}}, \"data\": {\"name\": \"data-811c6713922061ce69ead7e74299d89e\"}, \"mark\": \"bar\", \"encoding\": {\"color\": {\"field\": \"county\", \"legend\": {\"symbolLimit\": 10, \"title\": \"County\"}, \"scale\": {\"range\": [\"#2EA8CE\", \"#EB9F3C\", \"#F4D837\", \"#51BF9D\", \"#8CBCCB\", \"#9487C0\"]}, \"type\": \"nominal\"}, \"x\": {\"field\": \"county\", \"sort\": \"-y\", \"title\": \"County\", \"type\": \"nominal\"}, \"y\": {\"field\": \"n\", \"title\": \"Count\", \"type\": \"quantitative\"}}, \"height\": 250, \"title\": \"Counties with 5310 Organizations (Single County)\", \"width\": 400, \"$schema\": \"https://vega.github.io/schema/vega-lite/v4.17.0.json\", \"datasets\": {\"data-811c6713922061ce69ead7e74299d89e\": [{\"county\": \"Alameda\", \"n\": 29}, {\"county\": \"Amador\", \"n\": 4}, {\"county\": \"Butte\", \"n\": 26}, {\"county\": \"Calaveras\", \"n\": 2}, {\"county\": \"Colusa\", \"n\": 4}, {\"county\": \"Contra Costa\", \"n\": 36}, {\"county\": \"Del Norte\", \"n\": 4}, {\"county\": \"El Dorado\", \"n\": 12}, {\"county\": \"Humboldt\", \"n\": 29}, {\"county\": \"Imperial\", \"n\": 11}, {\"county\": \"Inyo\", \"n\": 10}, {\"county\": \"Kern\", \"n\": 78}, {\"county\": \"Kings\", \"n\": 30}, {\"county\": \"Lake\", \"n\": 8}, {\"county\": \"Marin\", \"n\": 27}, {\"county\": \"Mendocino\", \"n\": 13}, {\"county\": \"Monterey\", \"n\": 26}, {\"county\": \"Napa\", \"n\": 4}, {\"county\": \"Nevada\", \"n\": 12}, {\"county\": \"Placer\", \"n\": 52}, {\"county\": \"Riverside\", \"n\": 84}, {\"county\": \"Sacramento\", \"n\": 80}, {\"county\": \"San Benito\", \"n\": 6}, {\"county\": \"San Bernardino\", \"n\": 41}, {\"county\": \"San Diego\", \"n\": 13}, {\"county\": \"San Francisco\", \"n\": 69}, {\"county\": \"San Joaquin\", \"n\": 30}, {\"county\": \"San Luis Obispo\", \"n\": 51}, {\"county\": \"San Mateo\", \"n\": 6}, {\"county\": \"Santa Barbara\", \"n\": 36}, {\"county\": \"Santa Clara\", \"n\": 19}, {\"county\": \"Santa Cruz\", \"n\": 8}, {\"county\": \"Shasta\", \"n\": 11}, {\"county\": \"Solano\", \"n\": 26}, {\"county\": \"Sonoma\", \"n\": 15}, {\"county\": \"Stanislaus\", \"n\": 16}, {\"county\": \"Tehama\", \"n\": 14}, {\"county\": \"Tulare\", \"n\": 22}, {\"county\": \"Tuolumne\", \"n\": 3}, {\"county\": \"Ventura\", \"n\": 1}, {\"county\": \"Yolo\", \"n\": 6}]}}, {\"mode\": \"vega-lite\"});\n",
       "</script>"
      ],
      "text/plain": [
       "alt.Chart(...)"
      ]
     },
     "execution_count": 6,
     "metadata": {},
     "output_type": "execute_result"
    }
   ],
   "source": [
    "single_county = df[~df[\"county\"].str.contains(\",\", na=False)]\n",
    "_dla_utils.bar_chart_nosubset((single_county>>count(_.county)),\n",
    "    \"county\",\n",
    "    \"n\",\n",
    "    \"county\",\n",
    "    \"Counties with 5310 Organizations (Single County)\"\n",
    ")"
   ]
  },
  {
   "cell_type": "code",
   "execution_count": 7,
   "id": "e6e14fbb-99a1-43ab-adcc-9eab771525aa",
   "metadata": {
    "execution": {
     "iopub.execute_input": "2022-05-25T19:50:12.318477Z",
     "iopub.status.busy": "2022-05-25T19:50:12.317956Z",
     "iopub.status.idle": "2022-05-25T19:50:12.354471Z",
     "shell.execute_reply": "2022-05-25T19:50:12.353707Z"
    },
    "papermill": {
     "duration": 0.06152,
     "end_time": "2022-05-25T19:50:12.356412",
     "exception": false,
     "start_time": "2022-05-25T19:50:12.294892",
     "status": "completed"
    },
    "tags": []
   },
   "outputs": [
    {
     "data": {
      "text/html": [
       "\n",
       "<div id=\"altair-viz-08a5ca85e461473f9479d0f912b0a7fc\"></div>\n",
       "<script type=\"text/javascript\">\n",
       "  var VEGA_DEBUG = (typeof VEGA_DEBUG == \"undefined\") ? {} : VEGA_DEBUG;\n",
       "  (function(spec, embedOpt){\n",
       "    let outputDiv = document.currentScript.previousElementSibling;\n",
       "    if (outputDiv.id !== \"altair-viz-08a5ca85e461473f9479d0f912b0a7fc\") {\n",
       "      outputDiv = document.getElementById(\"altair-viz-08a5ca85e461473f9479d0f912b0a7fc\");\n",
       "    }\n",
       "    const paths = {\n",
       "      \"vega\": \"https://cdn.jsdelivr.net/npm//vega@5?noext\",\n",
       "      \"vega-lib\": \"https://cdn.jsdelivr.net/npm//vega-lib?noext\",\n",
       "      \"vega-lite\": \"https://cdn.jsdelivr.net/npm//vega-lite@4.17.0?noext\",\n",
       "      \"vega-embed\": \"https://cdn.jsdelivr.net/npm//vega-embed@6?noext\",\n",
       "    };\n",
       "\n",
       "    function maybeLoadScript(lib, version) {\n",
       "      var key = `${lib.replace(\"-\", \"\")}_version`;\n",
       "      return (VEGA_DEBUG[key] == version) ?\n",
       "        Promise.resolve(paths[lib]) :\n",
       "        new Promise(function(resolve, reject) {\n",
       "          var s = document.createElement('script');\n",
       "          document.getElementsByTagName(\"head\")[0].appendChild(s);\n",
       "          s.async = true;\n",
       "          s.onload = () => {\n",
       "            VEGA_DEBUG[key] = version;\n",
       "            return resolve(paths[lib]);\n",
       "          };\n",
       "          s.onerror = () => reject(`Error loading script: ${paths[lib]}`);\n",
       "          s.src = paths[lib];\n",
       "        });\n",
       "    }\n",
       "\n",
       "    function showError(err) {\n",
       "      outputDiv.innerHTML = `<div class=\"error\" style=\"color:red;\">${err}</div>`;\n",
       "      throw err;\n",
       "    }\n",
       "\n",
       "    function displayChart(vegaEmbed) {\n",
       "      vegaEmbed(outputDiv, spec, embedOpt)\n",
       "        .catch(err => showError(`Javascript Error: ${err.message}<br>This usually means there's a typo in your chart specification. See the javascript console for the full traceback.`));\n",
       "    }\n",
       "\n",
       "    if(typeof define === \"function\" && define.amd) {\n",
       "      requirejs.config({paths});\n",
       "      require([\"vega-embed\"], displayChart, err => showError(`Error loading script: ${err.message}`));\n",
       "    } else {\n",
       "      maybeLoadScript(\"vega\", \"5\")\n",
       "        .then(() => maybeLoadScript(\"vega-lite\", \"4.17.0\"))\n",
       "        .then(() => maybeLoadScript(\"vega-embed\", \"6\"))\n",
       "        .catch(showError)\n",
       "        .then(() => displayChart(vegaEmbed));\n",
       "    }\n",
       "  })({\"config\": {\"view\": {\"continuousWidth\": 400, \"continuousHeight\": 300}, \"axis\": {\"domainColor\": \"#cbcbcb\", \"grid\": true, \"gridColor\": \"#cbcbcb\", \"gridWidth\": 1, \"labelColor\": \"#474747\", \"labelFont\": \"Nunito Sans\", \"labelFontSize\": 10, \"labelPadding\": 4, \"tickColor\": \"#cbcbcb\", \"tickSize\": 10, \"titleColor\": \"#333\", \"titleFont\": \"Raleway\", \"titleFontSize\": 12, \"titlePadding\": 10}, \"axisBand\": {\"grid\": false}, \"background\": \"white\", \"font\": \"Raleway\", \"header\": {\"labelFont\": \"Nunito Sans\", \"titleFont\": \"Raleway\"}, \"legend\": {\"labelColor\": \"#333\", \"labelFont\": \"Nunito Sans\", \"labelFontSize\": 11, \"labelLimit\": 0, \"padding\": 1, \"symbolSize\": 30, \"symbolType\": \"square\", \"titleColor\": \"#333\", \"titleFont\": \"Raleway\", \"titleFontSize\": 14, \"titlePadding\": 10}, \"title\": {\"anchor\": \"middle\", \"font\": \"Raleway\", \"fontSize\": 18, \"fontWeight\": 300, \"offset\": 20}}, \"data\": {\"name\": \"data-3d2f5442b3540fccf2124d9d9ddae466\"}, \"mark\": \"bar\", \"encoding\": {\"color\": {\"field\": \"county\", \"legend\": {\"symbolLimit\": 10, \"title\": \"County\"}, \"scale\": {\"range\": [\"#2EA8CE\", \"#EB9F3C\", \"#F4D837\", \"#51BF9D\", \"#8CBCCB\", \"#9487C0\"]}, \"type\": \"nominal\"}, \"x\": {\"field\": \"county\", \"sort\": \"-y\", \"title\": \"County\", \"type\": \"nominal\"}, \"y\": {\"field\": \"n\", \"title\": \"Count\", \"type\": \"quantitative\"}}, \"height\": 250, \"title\": \"Counties with 5310 Organizations Operating\", \"width\": 400, \"$schema\": \"https://vega.github.io/schema/vega-lite/v4.17.0.json\", \"datasets\": {\"data-3d2f5442b3540fccf2124d9d9ddae466\": [{\"county\": \"Alameda\", \"n\": 70}, {\"county\": \"Amador\", \"n\": 22}, {\"county\": \"Butte\", \"n\": 29}, {\"county\": \"Calaveras\", \"n\": 20}, {\"county\": \"Carson City\", \"n\": 1}, {\"county\": \"Colusa\", \"n\": 4}, {\"county\": \"Contra Costa\", \"n\": 60}, {\"county\": \"De Norte\", \"n\": 1}, {\"county\": \"Del Norte\", \"n\": 4}, {\"county\": \"Douglas\", \"n\": 1}, {\"county\": \"El Dorado\", \"n\": 12}, {\"county\": \"Glen\", \"n\": 3}, {\"county\": \"Humboldt\", \"n\": 30}, {\"county\": \"Imperial\", \"n\": 11}, {\"county\": \"Inyo\", \"n\": 12}, {\"county\": \"Kern\", \"n\": 78}, {\"county\": \"Kings\", \"n\": 30}, {\"county\": \"Lake\", \"n\": 8}, {\"county\": \"Lassen\", \"n\": 1}, {\"county\": \"Los Angeles\", \"n\": 6}, {\"county\": \"Marin\", \"n\": 27}, {\"county\": \"Mendocino\", \"n\": 13}, {\"county\": \"Modoc\", \"n\": 1}, {\"county\": \"Mono\", \"n\": 2}, {\"county\": \"Monterey\", \"n\": 56}, {\"county\": \"Napa\", \"n\": 9}, {\"county\": \"Nevada\", \"n\": 17}, {\"county\": \"Orange\", \"n\": 2}, {\"county\": \"Placer\", \"n\": 53}, {\"county\": \"Riverside\", \"n\": 90}, {\"county\": \"Sacramento\", \"n\": 85}, {\"county\": \"San Benito\", \"n\": 34}, {\"county\": \"San Bernardino\", \"n\": 47}, {\"county\": \"San Diego\", \"n\": 13}, {\"county\": \"San Francisco\", \"n\": 120}, {\"county\": \"San Joaquin\", \"n\": 30}, {\"county\": \"San Luis Obispo\", \"n\": 53}, {\"county\": \"San Mateo\", \"n\": 57}, {\"county\": \"Santa Barbara\", \"n\": 38}, {\"county\": \"Santa Clara\", \"n\": 86}, {\"county\": \"Santa Cruz\", \"n\": 10}, {\"county\": \"Shasta\", \"n\": 11}, {\"county\": \"Sierra\", \"n\": 5}, {\"county\": \"Solano\", \"n\": 31}, {\"county\": \"Sonoma\", \"n\": 15}, {\"county\": \"Stanislaus\", \"n\": 16}, {\"county\": \"Tehama\", \"n\": 14}, {\"county\": \"Tulare\", \"n\": 22}, {\"county\": \"Tuolumne\", \"n\": 14}, {\"county\": \"Ventura\", \"n\": 3}, {\"county\": \"Washoe\", \"n\": 1}, {\"county\": \"Yolo\", \"n\": 6}]}}, {\"mode\": \"vega-lite\"});\n",
       "</script>"
      ],
      "text/plain": [
       "alt.Chart(...)"
      ]
     },
     "execution_count": 7,
     "metadata": {},
     "output_type": "execute_result"
    }
   ],
   "source": [
    "county_explode = df>>select(_.organization_name, _.ntd_id, _.itp_id, _.organization_type, _.city, _.county, _.merge_status)\n",
    "county_explode.explode('county')\n",
    "\n",
    "county_explode2 = county_explode.assign(county_split = df['county'].str.split(', ')).drop(\"county\", axis=1)\\\n",
    "    .rename(columns = {\"county_split\": \"county\"})\n",
    "county_explode2 = county_explode2.explode('county')\n",
    "\n",
    "_dla_utils.bar_chart_nosubset((county_explode2>>count(_.county)),\n",
    "    \"county\",\n",
    "    \"n\",\n",
    "    \"county\",\n",
    "    \"Counties with 5310 Organizations Operating\"\n",
    ")"
   ]
  },
  {
   "cell_type": "code",
   "execution_count": null,
   "id": "61afe2ef-5eac-49fa-8f39-6b90797e70c1",
   "metadata": {
    "papermill": {
     "duration": 0.026569,
     "end_time": "2022-05-25T19:50:12.406759",
     "exception": false,
     "start_time": "2022-05-25T19:50:12.380190",
     "status": "completed"
    },
    "tags": []
   },
   "outputs": [],
   "source": []
  },
  {
   "cell_type": "markdown",
   "id": "729a3a29-97e8-4b27-8315-a5d42e7f4575",
   "metadata": {
    "papermill": {
     "duration": 0.025128,
     "end_time": "2022-05-25T19:50:12.455266",
     "exception": false,
     "start_time": "2022-05-25T19:50:12.430138",
     "status": "completed"
    },
    "tags": []
   },
   "source": [
    "## Project Types"
   ]
  },
  {
   "cell_type": "code",
   "execution_count": 8,
   "id": "91aa7dec-90c0-41e5-93b0-b56e57a3e779",
   "metadata": {
    "execution": {
     "iopub.execute_input": "2022-05-25T19:50:12.503374Z",
     "iopub.status.busy": "2022-05-25T19:50:12.502854Z",
     "iopub.status.idle": "2022-05-25T19:50:12.506866Z",
     "shell.execute_reply": "2022-05-25T19:50:12.506282Z"
    },
    "papermill": {
     "duration": 0.030461,
     "end_time": "2022-05-25T19:50:12.508627",
     "exception": false,
     "start_time": "2022-05-25T19:50:12.478166",
     "status": "completed"
    },
    "tags": []
   },
   "outputs": [],
   "source": [
    "#df.sample()"
   ]
  },
  {
   "cell_type": "code",
   "execution_count": 9,
   "id": "c86d16f7-5006-4d76-b9e9-9f0645a61624",
   "metadata": {
    "execution": {
     "iopub.execute_input": "2022-05-25T19:50:12.556998Z",
     "iopub.status.busy": "2022-05-25T19:50:12.556466Z",
     "iopub.status.idle": "2022-05-25T19:50:12.824711Z",
     "shell.execute_reply": "2022-05-25T19:50:12.823727Z"
    },
    "papermill": {
     "duration": 0.295539,
     "end_time": "2022-05-25T19:50:12.827112",
     "exception": false,
     "start_time": "2022-05-25T19:50:12.531573",
     "status": "completed"
    },
    "tags": []
   },
   "outputs": [],
   "source": [
    "ptype_counts = (df\n",
    " >>group_by(_.organization_name)\n",
    " >>summarize(n_vp = _.vehicle_purchase.sum(), \n",
    "            n_oa = _.operating_assistance.sum(),\n",
    "            n_mm = _.mobility_management.sum(),\n",
    "            n_hsp = _.hardware_software_purchase.sum(),\n",
    "            n_c = _.communications.sum(),\n",
    "            n_fe = _.facilities_eqp.sum(),\n",
    "             n_s = _.surveillance.sum(),\n",
    "             n_sub = _.subsidy.sum()\n",
    "            )\n",
    ")"
   ]
  },
  {
   "cell_type": "code",
   "execution_count": 10,
   "id": "784c3bd5-0305-404b-bdd9-20722df1baba",
   "metadata": {
    "execution": {
     "iopub.execute_input": "2022-05-25T19:50:12.873195Z",
     "iopub.status.busy": "2022-05-25T19:50:12.872917Z",
     "iopub.status.idle": "2022-05-25T19:50:12.877393Z",
     "shell.execute_reply": "2022-05-25T19:50:12.876563Z"
    },
    "jupyter": {
     "source_hidden": true
    },
    "papermill": {
     "duration": 0.029737,
     "end_time": "2022-05-25T19:50:12.879318",
     "exception": false,
     "start_time": "2022-05-25T19:50:12.849581",
     "status": "completed"
    },
    "tags": []
   },
   "outputs": [],
   "source": [
    "# columns = ['n_vp','n_oa','n_mm','n_hsp','n_c','n_fe','n_s','n_sub']\n",
    "\n",
    "# for column in columns: \n",
    "#     ptype_counts.column[ptype_counts[column]> 0] = 1\n",
    "\n",
    "#WORKED for getting yes/no present\n",
    "## from https://stackoverflow.com/questions/61996932/replacing-values-greater-1-in-a-large-pandas-dataframe\n",
    "\n",
    "#ptype_counts.set_index('organization_name',inplace=True)\n",
    "#ptype_counts[ptype_counts >= 1] = 'Yes'\n",
    "#ptype_counts.reset_index()\n",
    "\n",
    "#ptype_counts = ptype_counts.replace(0, 'No')\n",
    "\n",
    "#ptype_counts.to_csv('single_counts_2.csv')\n",
    "\n",
    "# # def project_present(df):\n",
    "# #     columns = ['n_vp','n_oa','n_mm','n_hsp','n_c','n_fe','n_s','n_sub']\n",
    "# #     if df.column != 0:\n",
    "# #         return 1\n",
    "# #     else:\n",
    "# #         return 0\n",
    "\n",
    "# # for column in columns:\n",
    "# #     df[f\"{column}_2\"] = df.apply(lambda x: project_present(x), axis=1)\n",
    "    \n",
    "    \n",
    "    \n",
    "# columns = ['n_vp','n_oa','n_mm','n_hsp','n_c','n_fe','n_s','n_sub']\n",
    "\n",
    "# for column in columns:\n",
    "#     ptype_counts[f\"{column}_2\"] = ptype_counts[column].any(1).astype(int)"
   ]
  },
  {
   "cell_type": "code",
   "execution_count": 11,
   "id": "fa90b69d-1c5f-4a72-8708-67a90bbd5e90",
   "metadata": {
    "execution": {
     "iopub.execute_input": "2022-05-25T19:50:12.928309Z",
     "iopub.status.busy": "2022-05-25T19:50:12.927776Z",
     "iopub.status.idle": "2022-05-25T19:50:12.934694Z",
     "shell.execute_reply": "2022-05-25T19:50:12.934119Z"
    },
    "papermill": {
     "duration": 0.033417,
     "end_time": "2022-05-25T19:50:12.936561",
     "exception": false,
     "start_time": "2022-05-25T19:50:12.903144",
     "status": "completed"
    },
    "tags": []
   },
   "outputs": [],
   "source": [
    "ptype_counts.set_index('organization_name',inplace=True)\n",
    "ptype_counts[ptype_counts >= 1] = 1\n",
    "ptype_counts = ptype_counts.reset_index()"
   ]
  },
  {
   "cell_type": "code",
   "execution_count": 12,
   "id": "9397d852-4b68-4714-b6e5-ad836b5d096d",
   "metadata": {
    "execution": {
     "iopub.execute_input": "2022-05-25T19:50:12.987293Z",
     "iopub.status.busy": "2022-05-25T19:50:12.986909Z",
     "iopub.status.idle": "2022-05-25T19:50:12.992778Z",
     "shell.execute_reply": "2022-05-25T19:50:12.991937Z"
    },
    "papermill": {
     "duration": 0.035484,
     "end_time": "2022-05-25T19:50:12.994673",
     "exception": false,
     "start_time": "2022-05-25T19:50:12.959189",
     "status": "completed"
    },
    "tags": []
   },
   "outputs": [],
   "source": [
    "ptype_counts = ptype_counts.rename(\n",
    "    columns={\n",
    "        \"organization_name\": \"Organization Name\",\n",
    "        \"n_vp\": \"Vehicle Purchase\",\n",
    "        \"n_oa\": \"Operating Assistance\",\n",
    "        \"n_mm\": \"Mobility Management\",\n",
    "        \"n_hsp\": \"Hardware/Software Purchase\",\n",
    "        \"n_c\": \"Communications\",\n",
    "        \"n_fe\": \"Facilities Equipment\",\n",
    "        \"n_s\": \"Surveillance\",\n",
    "        \"n_sub\": \"Subsidies\",\n",
    "    }\n",
    ")"
   ]
  },
  {
   "cell_type": "code",
   "execution_count": 13,
   "id": "8eb30ee2-c237-43ef-975a-c5205c4fae23",
   "metadata": {
    "execution": {
     "iopub.execute_input": "2022-05-25T19:50:13.043617Z",
     "iopub.status.busy": "2022-05-25T19:50:13.043096Z",
     "iopub.status.idle": "2022-05-25T19:50:13.069852Z",
     "shell.execute_reply": "2022-05-25T19:50:13.067467Z"
    },
    "papermill": {
     "duration": 0.052993,
     "end_time": "2022-05-25T19:50:13.071904",
     "exception": false,
     "start_time": "2022-05-25T19:50:13.018911",
     "status": "completed"
    },
    "tags": []
   },
   "outputs": [
    {
     "data": {
      "text/html": [
       "\n",
       "<div id=\"altair-viz-315431a261864cc4b966af7b98339aee\"></div>\n",
       "<script type=\"text/javascript\">\n",
       "  var VEGA_DEBUG = (typeof VEGA_DEBUG == \"undefined\") ? {} : VEGA_DEBUG;\n",
       "  (function(spec, embedOpt){\n",
       "    let outputDiv = document.currentScript.previousElementSibling;\n",
       "    if (outputDiv.id !== \"altair-viz-315431a261864cc4b966af7b98339aee\") {\n",
       "      outputDiv = document.getElementById(\"altair-viz-315431a261864cc4b966af7b98339aee\");\n",
       "    }\n",
       "    const paths = {\n",
       "      \"vega\": \"https://cdn.jsdelivr.net/npm//vega@5?noext\",\n",
       "      \"vega-lib\": \"https://cdn.jsdelivr.net/npm//vega-lib?noext\",\n",
       "      \"vega-lite\": \"https://cdn.jsdelivr.net/npm//vega-lite@4.17.0?noext\",\n",
       "      \"vega-embed\": \"https://cdn.jsdelivr.net/npm//vega-embed@6?noext\",\n",
       "    };\n",
       "\n",
       "    function maybeLoadScript(lib, version) {\n",
       "      var key = `${lib.replace(\"-\", \"\")}_version`;\n",
       "      return (VEGA_DEBUG[key] == version) ?\n",
       "        Promise.resolve(paths[lib]) :\n",
       "        new Promise(function(resolve, reject) {\n",
       "          var s = document.createElement('script');\n",
       "          document.getElementsByTagName(\"head\")[0].appendChild(s);\n",
       "          s.async = true;\n",
       "          s.onload = () => {\n",
       "            VEGA_DEBUG[key] = version;\n",
       "            return resolve(paths[lib]);\n",
       "          };\n",
       "          s.onerror = () => reject(`Error loading script: ${paths[lib]}`);\n",
       "          s.src = paths[lib];\n",
       "        });\n",
       "    }\n",
       "\n",
       "    function showError(err) {\n",
       "      outputDiv.innerHTML = `<div class=\"error\" style=\"color:red;\">${err}</div>`;\n",
       "      throw err;\n",
       "    }\n",
       "\n",
       "    function displayChart(vegaEmbed) {\n",
       "      vegaEmbed(outputDiv, spec, embedOpt)\n",
       "        .catch(err => showError(`Javascript Error: ${err.message}<br>This usually means there's a typo in your chart specification. See the javascript console for the full traceback.`));\n",
       "    }\n",
       "\n",
       "    if(typeof define === \"function\" && define.amd) {\n",
       "      requirejs.config({paths});\n",
       "      require([\"vega-embed\"], displayChart, err => showError(`Error loading script: ${err.message}`));\n",
       "    } else {\n",
       "      maybeLoadScript(\"vega\", \"5\")\n",
       "        .then(() => maybeLoadScript(\"vega-lite\", \"4.17.0\"))\n",
       "        .then(() => maybeLoadScript(\"vega-embed\", \"6\"))\n",
       "        .catch(showError)\n",
       "        .then(() => displayChart(vegaEmbed));\n",
       "    }\n",
       "  })({\"config\": {\"view\": {\"continuousWidth\": 400, \"continuousHeight\": 300}, \"axis\": {\"domainColor\": \"#cbcbcb\", \"grid\": true, \"gridColor\": \"#cbcbcb\", \"gridWidth\": 1, \"labelColor\": \"#474747\", \"labelFont\": \"Nunito Sans\", \"labelFontSize\": 10, \"labelPadding\": 4, \"tickColor\": \"#cbcbcb\", \"tickSize\": 10, \"titleColor\": \"#333\", \"titleFont\": \"Raleway\", \"titleFontSize\": 12, \"titlePadding\": 10}, \"axisBand\": {\"grid\": false}, \"background\": \"white\", \"font\": \"Raleway\", \"header\": {\"labelFont\": \"Nunito Sans\", \"titleFont\": \"Raleway\"}, \"legend\": {\"labelColor\": \"#333\", \"labelFont\": \"Nunito Sans\", \"labelFontSize\": 11, \"labelLimit\": 0, \"padding\": 1, \"symbolSize\": 30, \"symbolType\": \"square\", \"titleColor\": \"#333\", \"titleFont\": \"Raleway\", \"titleFontSize\": 14, \"titlePadding\": 10}, \"title\": {\"anchor\": \"middle\", \"font\": \"Raleway\", \"fontSize\": 18, \"fontWeight\": 300, \"offset\": 20}}, \"data\": {\"name\": \"data-2e86ca2ab50e53252d015717e8a08c5c\"}, \"mark\": \"bar\", \"encoding\": {\"color\": {\"field\": \"Project Types\", \"legend\": {\"symbolLimit\": 10, \"title\": \"Project Types\"}, \"scale\": {\"range\": [\"#2EA8CE\", \"#EB9F3C\", \"#F4D837\", \"#51BF9D\", \"#8CBCCB\", \"#9487C0\"]}, \"type\": \"nominal\"}, \"x\": {\"field\": \"Project Types\", \"sort\": \"-y\", \"title\": \"Project Types\", \"type\": \"nominal\"}, \"y\": {\"field\": \"Count\", \"title\": \"Count\", \"type\": \"quantitative\"}}, \"height\": 250, \"title\": \"Number of Organizations using Project Types\", \"width\": 400, \"$schema\": \"https://vega.github.io/schema/vega-lite/v4.17.0.json\", \"datasets\": {\"data-2e86ca2ab50e53252d015717e8a08c5c\": [{\"Project Types\": \"Vehicle Purchase\", \"Count\": 92}, {\"Project Types\": \"Operating Assistance\", \"Count\": 65}, {\"Project Types\": \"Mobility Management\", \"Count\": 35}, {\"Project Types\": \"Hardware/Software Purchase\", \"Count\": 11}, {\"Project Types\": \"Communications\", \"Count\": 9}, {\"Project Types\": \"Facilities Equipment\", \"Count\": 5}, {\"Project Types\": \"Surveillance\", \"Count\": 4}, {\"Project Types\": \"Subsidies\", \"Count\": 1}]}}, {\"mode\": \"vega-lite\"});\n",
       "</script>"
      ],
      "text/plain": [
       "alt.Chart(...)"
      ]
     },
     "execution_count": 13,
     "metadata": {},
     "output_type": "execute_result"
    }
   ],
   "source": [
    "sum_ptype = ((ptype_counts)\n",
    "               .agg({'Vehicle Purchase':'sum', 'Operating Assistance':'sum',\n",
    "                      'Mobility Management':'sum','Hardware/Software Purchase':'sum','Communications':'sum',\n",
    "                     'Facilities Equipment':'sum', 'Surveillance':'sum', 'Subsidies':'sum'}).reset_index())\n",
    "sum_ptype = sum_ptype.rename(columns = {\"index\":\"Project Types\",0:\"Count\"})\n",
    "_dla_utils.bar_chart_nosubset((sum_ptype),\n",
    "    \"Project Types\",\n",
    "    \"Count\",\n",
    "    \"Project Types\",\n",
    "    \"Number of Organizations using Project Types\"\n",
    ")"
   ]
  },
  {
   "cell_type": "code",
   "execution_count": 14,
   "id": "4085cea8-a3b3-4796-87c8-3f73fe4f73e0",
   "metadata": {
    "execution": {
     "iopub.execute_input": "2022-05-25T19:50:13.129635Z",
     "iopub.status.busy": "2022-05-25T19:50:13.129342Z",
     "iopub.status.idle": "2022-05-25T19:50:13.334873Z",
     "shell.execute_reply": "2022-05-25T19:50:13.333820Z"
    },
    "papermill": {
     "duration": 0.235554,
     "end_time": "2022-05-25T19:50:13.339991",
     "exception": false,
     "start_time": "2022-05-25T19:50:13.104437",
     "status": "completed"
    },
    "scrolled": true,
    "tags": []
   },
   "outputs": [
    {
     "data": {
      "text/html": [
       "<br><br><strong>Organization with Vehicle Purchase Project Types Present</strong>"
      ],
      "text/plain": [
       "<IPython.core.display.HTML object>"
      ]
     },
     "metadata": {},
     "output_type": "display_data"
    },
    {
     "data": {
      "text/html": [
       "<style type=\"text/css\">\n",
       "#T_16dcd th {\n",
       "  text-align: center;\n",
       "}\n",
       "#T_16dcd_row0_col0, #T_16dcd_row1_col0, #T_16dcd_row2_col0, #T_16dcd_row3_col0, #T_16dcd_row4_col0, #T_16dcd_row5_col0, #T_16dcd_row6_col0, #T_16dcd_row7_col0, #T_16dcd_row8_col0, #T_16dcd_row9_col0, #T_16dcd_row10_col0, #T_16dcd_row11_col0, #T_16dcd_row12_col0, #T_16dcd_row13_col0, #T_16dcd_row14_col0, #T_16dcd_row15_col0, #T_16dcd_row16_col0, #T_16dcd_row17_col0, #T_16dcd_row18_col0, #T_16dcd_row19_col0, #T_16dcd_row20_col0, #T_16dcd_row21_col0, #T_16dcd_row22_col0, #T_16dcd_row23_col0, #T_16dcd_row24_col0, #T_16dcd_row25_col0, #T_16dcd_row26_col0, #T_16dcd_row27_col0, #T_16dcd_row28_col0, #T_16dcd_row29_col0, #T_16dcd_row30_col0, #T_16dcd_row31_col0, #T_16dcd_row32_col0, #T_16dcd_row33_col0, #T_16dcd_row34_col0, #T_16dcd_row35_col0, #T_16dcd_row36_col0, #T_16dcd_row37_col0, #T_16dcd_row38_col0, #T_16dcd_row39_col0, #T_16dcd_row40_col0, #T_16dcd_row41_col0, #T_16dcd_row42_col0, #T_16dcd_row43_col0, #T_16dcd_row44_col0, #T_16dcd_row45_col0, #T_16dcd_row46_col0, #T_16dcd_row47_col0, #T_16dcd_row48_col0, #T_16dcd_row49_col0, #T_16dcd_row50_col0, #T_16dcd_row51_col0, #T_16dcd_row52_col0, #T_16dcd_row53_col0, #T_16dcd_row54_col0, #T_16dcd_row55_col0, #T_16dcd_row56_col0, #T_16dcd_row57_col0, #T_16dcd_row58_col0, #T_16dcd_row59_col0, #T_16dcd_row60_col0, #T_16dcd_row61_col0, #T_16dcd_row62_col0, #T_16dcd_row63_col0, #T_16dcd_row64_col0, #T_16dcd_row65_col0, #T_16dcd_row66_col0, #T_16dcd_row67_col0, #T_16dcd_row68_col0, #T_16dcd_row69_col0, #T_16dcd_row70_col0, #T_16dcd_row71_col0, #T_16dcd_row72_col0, #T_16dcd_row73_col0, #T_16dcd_row74_col0, #T_16dcd_row75_col0, #T_16dcd_row76_col0, #T_16dcd_row77_col0, #T_16dcd_row78_col0, #T_16dcd_row79_col0, #T_16dcd_row80_col0, #T_16dcd_row81_col0, #T_16dcd_row82_col0, #T_16dcd_row83_col0, #T_16dcd_row84_col0, #T_16dcd_row85_col0, #T_16dcd_row86_col0, #T_16dcd_row87_col0, #T_16dcd_row88_col0, #T_16dcd_row89_col0, #T_16dcd_row90_col0, #T_16dcd_row91_col0 {\n",
       "  text-align: center;\n",
       "}\n",
       "</style>\n",
       "<table id=\"T_16dcd\">\n",
       "  <thead>\n",
       "    <tr>\n",
       "      <th id=\"T_16dcd_level0_col0\" class=\"col_heading level0 col0\" >Organization Name</th>\n",
       "    </tr>\n",
       "  </thead>\n",
       "  <tbody>\n",
       "    <tr>\n",
       "      <td id=\"T_16dcd_row0_col0\" class=\"data row0 col0\" >ARC Bakersfield</td>\n",
       "    </tr>\n",
       "    <tr>\n",
       "      <td id=\"T_16dcd_row1_col0\" class=\"data row1 col0\" >ARC Imperial Valley</td>\n",
       "    </tr>\n",
       "    <tr>\n",
       "      <td id=\"T_16dcd_row2_col0\" class=\"data row2 col0\" >Able Industries</td>\n",
       "    </tr>\n",
       "    <tr>\n",
       "      <td id=\"T_16dcd_row3_col0\" class=\"data row3 col0\" >Alegria Community Living</td>\n",
       "    </tr>\n",
       "    <tr>\n",
       "      <td id=\"T_16dcd_row4_col0\" class=\"data row4 col0\" >Angel View Inc</td>\n",
       "    </tr>\n",
       "    <tr>\n",
       "      <td id=\"T_16dcd_row5_col0\" class=\"data row5 col0\" >Asian Community Center of Sacramento Valley Inc DBA ACC Senior Services</td>\n",
       "    </tr>\n",
       "    <tr>\n",
       "      <td id=\"T_16dcd_row6_col0\" class=\"data row6 col0\" >Avenidas </td>\n",
       "    </tr>\n",
       "    <tr>\n",
       "      <td id=\"T_16dcd_row7_col0\" class=\"data row7 col0\" >Bay Area Outreach & Recreation Program Inc</td>\n",
       "    </tr>\n",
       "    <tr>\n",
       "      <td id=\"T_16dcd_row8_col0\" class=\"data row8 col0\" >Big Valley 50 Plus</td>\n",
       "    </tr>\n",
       "    <tr>\n",
       "      <td id=\"T_16dcd_row9_col0\" class=\"data row9 col0\" >Butte County Association of Governments  Butte Regional Transit</td>\n",
       "    </tr>\n",
       "    <tr>\n",
       "      <td id=\"T_16dcd_row10_col0\" class=\"data row10 col0\" >Calaveras County Public Works</td>\n",
       "    </tr>\n",
       "    <tr>\n",
       "      <td id=\"T_16dcd_row11_col0\" class=\"data row11 col0\" >Care-A-Van Transit Systems Inc</td>\n",
       "    </tr>\n",
       "    <tr>\n",
       "      <td id=\"T_16dcd_row12_col0\" class=\"data row12 col0\" >Casa Allegra Community Services</td>\n",
       "    </tr>\n",
       "    <tr>\n",
       "      <td id=\"T_16dcd_row13_col0\" class=\"data row13 col0\" >Catholic Charities of the Diocese of Stockton</td>\n",
       "    </tr>\n",
       "    <tr>\n",
       "      <td id=\"T_16dcd_row14_col0\" class=\"data row14 col0\" >Center for Elders' Independence </td>\n",
       "    </tr>\n",
       "    <tr>\n",
       "      <td id=\"T_16dcd_row15_col0\" class=\"data row15 col0\" >Choice in Aging</td>\n",
       "    </tr>\n",
       "    <tr>\n",
       "      <td id=\"T_16dcd_row16_col0\" class=\"data row16 col0\" >City of Fontana</td>\n",
       "    </tr>\n",
       "    <tr>\n",
       "      <td id=\"T_16dcd_row17_col0\" class=\"data row17 col0\" >City of Santa Rosa</td>\n",
       "    </tr>\n",
       "    <tr>\n",
       "      <td id=\"T_16dcd_row18_col0\" class=\"data row18 col0\" >Coastal Seniors Inc</td>\n",
       "    </tr>\n",
       "    <tr>\n",
       "      <td id=\"T_16dcd_row19_col0\" class=\"data row19 col0\" >Colusa County Transit Agency</td>\n",
       "    </tr>\n",
       "    <tr>\n",
       "      <td id=\"T_16dcd_row20_col0\" class=\"data row20 col0\" >Common Ground Senior Services</td>\n",
       "    </tr>\n",
       "    <tr>\n",
       "      <td id=\"T_16dcd_row21_col0\" class=\"data row21 col0\" >Community Bridges Liftline</td>\n",
       "    </tr>\n",
       "    <tr>\n",
       "      <td id=\"T_16dcd_row22_col0\" class=\"data row22 col0\" >Consolidated Tribal Health Project Inc</td>\n",
       "    </tr>\n",
       "    <tr>\n",
       "      <td id=\"T_16dcd_row23_col0\" class=\"data row23 col0\" >Contra Costa ARC</td>\n",
       "    </tr>\n",
       "    <tr>\n",
       "      <td id=\"T_16dcd_row24_col0\" class=\"data row24 col0\" >County of Nevada Public Works Transit Services Division</td>\n",
       "    </tr>\n",
       "    <tr>\n",
       "      <td id=\"T_16dcd_row25_col0\" class=\"data row25 col0\" >Delano Association for the Developmentally Disabled Inc</td>\n",
       "    </tr>\n",
       "    <tr>\n",
       "      <td id=\"T_16dcd_row26_col0\" class=\"data row26 col0\" >Desert ARC</td>\n",
       "    </tr>\n",
       "    <tr>\n",
       "      <td id=\"T_16dcd_row27_col0\" class=\"data row27 col0\" >Desert Area Resources and Training</td>\n",
       "    </tr>\n",
       "    <tr>\n",
       "      <td id=\"T_16dcd_row28_col0\" class=\"data row28 col0\" >Dignity Community Care</td>\n",
       "    </tr>\n",
       "    <tr>\n",
       "      <td id=\"T_16dcd_row29_col0\" class=\"data row29 col0\" >Dignity Health Connected Living</td>\n",
       "    </tr>\n",
       "    <tr>\n",
       "      <td id=\"T_16dcd_row30_col0\" class=\"data row30 col0\" >East Bay Services to the Developmentally Disabled </td>\n",
       "    </tr>\n",
       "    <tr>\n",
       "      <td id=\"T_16dcd_row31_col0\" class=\"data row31 col0\" >Eastern Sierra Transit Authority</td>\n",
       "    </tr>\n",
       "    <tr>\n",
       "      <td id=\"T_16dcd_row32_col0\" class=\"data row32 col0\" >Easy Lift Transportation Inc</td>\n",
       "    </tr>\n",
       "    <tr>\n",
       "      <td id=\"T_16dcd_row33_col0\" class=\"data row33 col0\" >El Dorado County Transit Authority</td>\n",
       "    </tr>\n",
       "    <tr>\n",
       "      <td id=\"T_16dcd_row34_col0\" class=\"data row34 col0\" >Family Bridges Inc</td>\n",
       "    </tr>\n",
       "    <tr>\n",
       "      <td id=\"T_16dcd_row35_col0\" class=\"data row35 col0\" >Foothill AIDS Project</td>\n",
       "    </tr>\n",
       "    <tr>\n",
       "      <td id=\"T_16dcd_row36_col0\" class=\"data row36 col0\" >Friends of Adult Day Health Care Centers</td>\n",
       "    </tr>\n",
       "    <tr>\n",
       "      <td id=\"T_16dcd_row37_col0\" class=\"data row37 col0\" >Friends of Children with Special Needs</td>\n",
       "    </tr>\n",
       "    <tr>\n",
       "      <td id=\"T_16dcd_row38_col0\" class=\"data row38 col0\" >Futures Explored Inc</td>\n",
       "    </tr>\n",
       "    <tr>\n",
       "      <td id=\"T_16dcd_row39_col0\" class=\"data row39 col0\" >Golden Rain Foundation of Walnut Creek</td>\n",
       "    </tr>\n",
       "    <tr>\n",
       "      <td id=\"T_16dcd_row40_col0\" class=\"data row40 col0\" >Howard Prep</td>\n",
       "    </tr>\n",
       "    <tr>\n",
       "      <td id=\"T_16dcd_row41_col0\" class=\"data row41 col0\" >Humboldt Medi-Trans</td>\n",
       "    </tr>\n",
       "    <tr>\n",
       "      <td id=\"T_16dcd_row42_col0\" class=\"data row42 col0\" >Humboldt Senior Resource Center</td>\n",
       "    </tr>\n",
       "    <tr>\n",
       "      <td id=\"T_16dcd_row43_col0\" class=\"data row43 col0\" >Humboldt Transit Authority</td>\n",
       "    </tr>\n",
       "    <tr>\n",
       "      <td id=\"T_16dcd_row44_col0\" class=\"data row44 col0\" >Institute on Aging </td>\n",
       "    </tr>\n",
       "    <tr>\n",
       "      <td id=\"T_16dcd_row45_col0\" class=\"data row45 col0\" >Inyo-Mono Association for the Handicapped</td>\n",
       "    </tr>\n",
       "    <tr>\n",
       "      <td id=\"T_16dcd_row46_col0\" class=\"data row46 col0\" >Kimochi Inc</td>\n",
       "    </tr>\n",
       "    <tr>\n",
       "      <td id=\"T_16dcd_row47_col0\" class=\"data row47 col0\" >Kings Rehabilitation Center</td>\n",
       "    </tr>\n",
       "    <tr>\n",
       "      <td id=\"T_16dcd_row48_col0\" class=\"data row48 col0\" >Life Steps Foundation Inc Santa Maria</td>\n",
       "    </tr>\n",
       "    <tr>\n",
       "      <td id=\"T_16dcd_row49_col0\" class=\"data row49 col0\" >Lodi Memorial Hospital Association Inc Adult Day Services</td>\n",
       "    </tr>\n",
       "    <tr>\n",
       "      <td id=\"T_16dcd_row50_col0\" class=\"data row50 col0\" >Loma Linda University Health</td>\n",
       "    </tr>\n",
       "    <tr>\n",
       "      <td id=\"T_16dcd_row51_col0\" class=\"data row51 col0\" >MOVE Stanislaus Transportation</td>\n",
       "    </tr>\n",
       "    <tr>\n",
       "      <td id=\"T_16dcd_row52_col0\" class=\"data row52 col0\" >Milestones of Development INC</td>\n",
       "    </tr>\n",
       "    <tr>\n",
       "      <td id=\"T_16dcd_row53_col0\" class=\"data row53 col0\" >Monterey-Salinas Transit</td>\n",
       "    </tr>\n",
       "    <tr>\n",
       "      <td id=\"T_16dcd_row54_col0\" class=\"data row54 col0\" >Mountain Shadows Support Group</td>\n",
       "    </tr>\n",
       "    <tr>\n",
       "      <td id=\"T_16dcd_row55_col0\" class=\"data row55 col0\" >Napa Valley Transportation Authority</td>\n",
       "    </tr>\n",
       "    <tr>\n",
       "      <td id=\"T_16dcd_row56_col0\" class=\"data row56 col0\" >New Advances for People with Disabilities</td>\n",
       "    </tr>\n",
       "    <tr>\n",
       "      <td id=\"T_16dcd_row57_col0\" class=\"data row57 col0\" >North Valley Services</td>\n",
       "    </tr>\n",
       "    <tr>\n",
       "      <td id=\"T_16dcd_row58_col0\" class=\"data row58 col0\" >North and South of Market Adult Day Health</td>\n",
       "    </tr>\n",
       "    <tr>\n",
       "      <td id=\"T_16dcd_row59_col0\" class=\"data row59 col0\" >North of the River Recreation and Park District</td>\n",
       "    </tr>\n",
       "    <tr>\n",
       "      <td id=\"T_16dcd_row60_col0\" class=\"data row60 col0\" >OPARC</td>\n",
       "    </tr>\n",
       "    <tr>\n",
       "      <td id=\"T_16dcd_row61_col0\" class=\"data row61 col0\" >Omnitrans</td>\n",
       "    </tr>\n",
       "    <tr>\n",
       "      <td id=\"T_16dcd_row62_col0\" class=\"data row62 col0\" >On Lok Senior Health Services</td>\n",
       "    </tr>\n",
       "    <tr>\n",
       "      <td id=\"T_16dcd_row63_col0\" class=\"data row63 col0\" >Pace Solano</td>\n",
       "    </tr>\n",
       "    <tr>\n",
       "      <td id=\"T_16dcd_row64_col0\" class=\"data row64 col0\" >Palo Verde Valley Transit Agency</td>\n",
       "    </tr>\n",
       "    <tr>\n",
       "      <td id=\"T_16dcd_row65_col0\" class=\"data row65 col0\" >Paratransit Services (Red Bluff)</td>\n",
       "    </tr>\n",
       "    <tr>\n",
       "      <td id=\"T_16dcd_row66_col0\" class=\"data row66 col0\" >Peppermint Ridge</td>\n",
       "    </tr>\n",
       "    <tr>\n",
       "      <td id=\"T_16dcd_row67_col0\" class=\"data row67 col0\" >Pomeroy Recreation & Rehabilitation Center</td>\n",
       "    </tr>\n",
       "    <tr>\n",
       "      <td id=\"T_16dcd_row68_col0\" class=\"data row68 col0\" >Porterville Sheltered Workshop</td>\n",
       "    </tr>\n",
       "    <tr>\n",
       "      <td id=\"T_16dcd_row69_col0\" class=\"data row69 col0\" >Pride Industries One Inc</td>\n",
       "    </tr>\n",
       "    <tr>\n",
       "      <td id=\"T_16dcd_row70_col0\" class=\"data row70 col0\" >Redwood Coast Seniors Inc</td>\n",
       "    </tr>\n",
       "    <tr>\n",
       "      <td id=\"T_16dcd_row71_col0\" class=\"data row71 col0\" >Redwood Coast Transit Authority</td>\n",
       "    </tr>\n",
       "    <tr>\n",
       "      <td id=\"T_16dcd_row72_col0\" class=\"data row72 col0\" >Regents of the University of California Santa Cruz</td>\n",
       "    </tr>\n",
       "    <tr>\n",
       "      <td id=\"T_16dcd_row73_col0\" class=\"data row73 col0\" >SAHA</td>\n",
       "    </tr>\n",
       "    <tr>\n",
       "      <td id=\"T_16dcd_row74_col0\" class=\"data row74 col0\" >SMOOTH</td>\n",
       "    </tr>\n",
       "    <tr>\n",
       "      <td id=\"T_16dcd_row75_col0\" class=\"data row75 col0\" >San Benito County Local Transportation Authority</td>\n",
       "    </tr>\n",
       "    <tr>\n",
       "      <td id=\"T_16dcd_row76_col0\" class=\"data row76 col0\" >San Joaquin Regional Transit District</td>\n",
       "    </tr>\n",
       "    <tr>\n",
       "      <td id=\"T_16dcd_row77_col0\" class=\"data row77 col0\" >Self-Help for the Elderly</td>\n",
       "    </tr>\n",
       "    <tr>\n",
       "      <td id=\"T_16dcd_row78_col0\" class=\"data row78 col0\" >Shores of Hope </td>\n",
       "    </tr>\n",
       "    <tr>\n",
       "      <td id=\"T_16dcd_row79_col0\" class=\"data row79 col0\" >Sunline Transit Agency</td>\n",
       "    </tr>\n",
       "    <tr>\n",
       "      <td id=\"T_16dcd_row80_col0\" class=\"data row80 col0\" >The Arc of Amador and Calaveras</td>\n",
       "    </tr>\n",
       "    <tr>\n",
       "      <td id=\"T_16dcd_row81_col0\" class=\"data row81 col0\" >The Respite Inn</td>\n",
       "    </tr>\n",
       "    <tr>\n",
       "      <td id=\"T_16dcd_row82_col0\" class=\"data row82 col0\" >Ukiah Senior Center Inc</td>\n",
       "    </tr>\n",
       "    <tr>\n",
       "      <td id=\"T_16dcd_row83_col0\" class=\"data row83 col0\" >United Cerebral Palsy Association Inc of Stanislaus County</td>\n",
       "    </tr>\n",
       "    <tr>\n",
       "      <td id=\"T_16dcd_row84_col0\" class=\"data row84 col0\" >United Cerebral Palsy Association of Greater Sacramento Inc</td>\n",
       "    </tr>\n",
       "    <tr>\n",
       "      <td id=\"T_16dcd_row85_col0\" class=\"data row85 col0\" >United Cerebral Palsy of San Luis Obispo County </td>\n",
       "    </tr>\n",
       "    <tr>\n",
       "      <td id=\"T_16dcd_row86_col0\" class=\"data row86 col0\" >Valley Achievement Center</td>\n",
       "    </tr>\n",
       "    <tr>\n",
       "      <td id=\"T_16dcd_row87_col0\" class=\"data row87 col0\" >Valley Resource Center</td>\n",
       "    </tr>\n",
       "    <tr>\n",
       "      <td id=\"T_16dcd_row88_col0\" class=\"data row88 col0\" >Victor Valley Community Services Council</td>\n",
       "    </tr>\n",
       "    <tr>\n",
       "      <td id=\"T_16dcd_row89_col0\" class=\"data row89 col0\" >Victor Valley Transit Authority</td>\n",
       "    </tr>\n",
       "    <tr>\n",
       "      <td id=\"T_16dcd_row90_col0\" class=\"data row90 col0\" >Vivalon Inc</td>\n",
       "    </tr>\n",
       "    <tr>\n",
       "      <td id=\"T_16dcd_row91_col0\" class=\"data row91 col0\" >Work Training Center</td>\n",
       "    </tr>\n",
       "  </tbody>\n",
       "</table>\n"
      ],
      "text/plain": [
       "<IPython.core.display.HTML object>"
      ]
     },
     "metadata": {},
     "output_type": "display_data"
    },
    {
     "data": {
      "text/html": [
       "<br><br><strong>Organization with Operating Assistance Project Types Present</strong>"
      ],
      "text/plain": [
       "<IPython.core.display.HTML object>"
      ]
     },
     "metadata": {},
     "output_type": "display_data"
    },
    {
     "data": {
      "text/html": [
       "<style type=\"text/css\">\n",
       "#T_11a11 th {\n",
       "  text-align: center;\n",
       "}\n",
       "#T_11a11_row0_col0, #T_11a11_row1_col0, #T_11a11_row2_col0, #T_11a11_row3_col0, #T_11a11_row4_col0, #T_11a11_row5_col0, #T_11a11_row6_col0, #T_11a11_row7_col0, #T_11a11_row8_col0, #T_11a11_row9_col0, #T_11a11_row10_col0, #T_11a11_row11_col0, #T_11a11_row12_col0, #T_11a11_row13_col0, #T_11a11_row14_col0, #T_11a11_row15_col0, #T_11a11_row16_col0, #T_11a11_row17_col0, #T_11a11_row18_col0, #T_11a11_row19_col0, #T_11a11_row20_col0, #T_11a11_row21_col0, #T_11a11_row22_col0, #T_11a11_row23_col0, #T_11a11_row24_col0, #T_11a11_row25_col0, #T_11a11_row26_col0, #T_11a11_row27_col0, #T_11a11_row28_col0, #T_11a11_row29_col0, #T_11a11_row30_col0, #T_11a11_row31_col0, #T_11a11_row32_col0, #T_11a11_row33_col0, #T_11a11_row34_col0, #T_11a11_row35_col0, #T_11a11_row36_col0, #T_11a11_row37_col0, #T_11a11_row38_col0, #T_11a11_row39_col0, #T_11a11_row40_col0, #T_11a11_row41_col0, #T_11a11_row42_col0, #T_11a11_row43_col0, #T_11a11_row44_col0, #T_11a11_row45_col0, #T_11a11_row46_col0, #T_11a11_row47_col0, #T_11a11_row48_col0, #T_11a11_row49_col0, #T_11a11_row50_col0, #T_11a11_row51_col0, #T_11a11_row52_col0, #T_11a11_row53_col0, #T_11a11_row54_col0, #T_11a11_row55_col0, #T_11a11_row56_col0, #T_11a11_row57_col0, #T_11a11_row58_col0, #T_11a11_row59_col0, #T_11a11_row60_col0, #T_11a11_row61_col0, #T_11a11_row62_col0, #T_11a11_row63_col0, #T_11a11_row64_col0 {\n",
       "  text-align: center;\n",
       "}\n",
       "</style>\n",
       "<table id=\"T_11a11\">\n",
       "  <thead>\n",
       "    <tr>\n",
       "      <th id=\"T_11a11_level0_col0\" class=\"col_heading level0 col0\" >Organization Name</th>\n",
       "    </tr>\n",
       "  </thead>\n",
       "  <tbody>\n",
       "    <tr>\n",
       "      <td id=\"T_11a11_row0_col0\" class=\"data row0 col0\" >ARC Imperial Valley</td>\n",
       "    </tr>\n",
       "    <tr>\n",
       "      <td id=\"T_11a11_row1_col0\" class=\"data row1 col0\" >Amador Transit</td>\n",
       "    </tr>\n",
       "    <tr>\n",
       "      <td id=\"T_11a11_row2_col0\" class=\"data row2 col0\" >Angel View Inc</td>\n",
       "    </tr>\n",
       "    <tr>\n",
       "      <td id=\"T_11a11_row3_col0\" class=\"data row3 col0\" >Area 1 Agency on Aging</td>\n",
       "    </tr>\n",
       "    <tr>\n",
       "      <td id=\"T_11a11_row4_col0\" class=\"data row4 col0\" >Asian Community Center of Sacramento Valley Inc DBA ACC Senior Services</td>\n",
       "    </tr>\n",
       "    <tr>\n",
       "      <td id=\"T_11a11_row5_col0\" class=\"data row5 col0\" >Avenidas </td>\n",
       "    </tr>\n",
       "    <tr>\n",
       "      <td id=\"T_11a11_row6_col0\" class=\"data row6 col0\" >Catholic Charities of the Diocese of Stockton</td>\n",
       "    </tr>\n",
       "    <tr>\n",
       "      <td id=\"T_11a11_row7_col0\" class=\"data row7 col0\" >Choice in Aging</td>\n",
       "    </tr>\n",
       "    <tr>\n",
       "      <td id=\"T_11a11_row8_col0\" class=\"data row8 col0\" >City of Lafayette: Lamorinda Sprit Van Program</td>\n",
       "    </tr>\n",
       "    <tr>\n",
       "      <td id=\"T_11a11_row9_col0\" class=\"data row9 col0\" >City of Rio Vista</td>\n",
       "    </tr>\n",
       "    <tr>\n",
       "      <td id=\"T_11a11_row10_col0\" class=\"data row10 col0\" >City of Vista </td>\n",
       "    </tr>\n",
       "    <tr>\n",
       "      <td id=\"T_11a11_row11_col0\" class=\"data row11 col0\" >Coastal Seniors Inc</td>\n",
       "    </tr>\n",
       "    <tr>\n",
       "      <td id=\"T_11a11_row12_col0\" class=\"data row12 col0\" >Common Ground Senior Services</td>\n",
       "    </tr>\n",
       "    <tr>\n",
       "      <td id=\"T_11a11_row13_col0\" class=\"data row13 col0\" >Community Bridges Liftline</td>\n",
       "    </tr>\n",
       "    <tr>\n",
       "      <td id=\"T_11a11_row14_col0\" class=\"data row14 col0\" >Community Partners In Caring</td>\n",
       "    </tr>\n",
       "    <tr>\n",
       "      <td id=\"T_11a11_row15_col0\" class=\"data row15 col0\" >Consolidated Tribal Health Project Inc</td>\n",
       "    </tr>\n",
       "    <tr>\n",
       "      <td id=\"T_11a11_row16_col0\" class=\"data row16 col0\" >County of Sacramento Department of Child Family and Adult Services</td>\n",
       "    </tr>\n",
       "    <tr>\n",
       "      <td id=\"T_11a11_row17_col0\" class=\"data row17 col0\" >County of Sonoma Human Services Department Adult and Aging Division</td>\n",
       "    </tr>\n",
       "    <tr>\n",
       "      <td id=\"T_11a11_row18_col0\" class=\"data row18 col0\" >County of Ventura Health Services Agency</td>\n",
       "    </tr>\n",
       "    <tr>\n",
       "      <td id=\"T_11a11_row19_col0\" class=\"data row19 col0\" >Desert Access and Mobility Inc</td>\n",
       "    </tr>\n",
       "    <tr>\n",
       "      <td id=\"T_11a11_row20_col0\" class=\"data row20 col0\" >Dignity Community Care</td>\n",
       "    </tr>\n",
       "    <tr>\n",
       "      <td id=\"T_11a11_row21_col0\" class=\"data row21 col0\" >Dignity Health Connected Living</td>\n",
       "    </tr>\n",
       "    <tr>\n",
       "      <td id=\"T_11a11_row22_col0\" class=\"data row22 col0\" >Drivers for Survivors Inc</td>\n",
       "    </tr>\n",
       "    <tr>\n",
       "      <td id=\"T_11a11_row23_col0\" class=\"data row23 col0\" >Eastern Sierra Transit Authority</td>\n",
       "    </tr>\n",
       "    <tr>\n",
       "      <td id=\"T_11a11_row24_col0\" class=\"data row24 col0\" >Easy Lift Transportation Inc</td>\n",
       "    </tr>\n",
       "    <tr>\n",
       "      <td id=\"T_11a11_row25_col0\" class=\"data row25 col0\" >ElderHelp of San Diego</td>\n",
       "    </tr>\n",
       "    <tr>\n",
       "      <td id=\"T_11a11_row26_col0\" class=\"data row26 col0\" >Faith in Action</td>\n",
       "    </tr>\n",
       "    <tr>\n",
       "      <td id=\"T_11a11_row27_col0\" class=\"data row27 col0\" >Foothill AIDS Project</td>\n",
       "    </tr>\n",
       "    <tr>\n",
       "      <td id=\"T_11a11_row28_col0\" class=\"data row28 col0\" >Friends of Children with Special Needs</td>\n",
       "    </tr>\n",
       "    <tr>\n",
       "      <td id=\"T_11a11_row29_col0\" class=\"data row29 col0\" >Humboldt Medi-Trans</td>\n",
       "    </tr>\n",
       "    <tr>\n",
       "      <td id=\"T_11a11_row30_col0\" class=\"data row30 col0\" >Independent Living Partnership</td>\n",
       "    </tr>\n",
       "    <tr>\n",
       "      <td id=\"T_11a11_row31_col0\" class=\"data row31 col0\" >LIFE ElderCare</td>\n",
       "    </tr>\n",
       "    <tr>\n",
       "      <td id=\"T_11a11_row32_col0\" class=\"data row32 col0\" >Lake Links Inc</td>\n",
       "    </tr>\n",
       "    <tr>\n",
       "      <td id=\"T_11a11_row33_col0\" class=\"data row33 col0\" >Lake Transit Authority</td>\n",
       "    </tr>\n",
       "    <tr>\n",
       "      <td id=\"T_11a11_row34_col0\" class=\"data row34 col0\" >Lutheran Social Services of Southern California</td>\n",
       "    </tr>\n",
       "    <tr>\n",
       "      <td id=\"T_11a11_row35_col0\" class=\"data row35 col0\" >Marin County Transit District</td>\n",
       "    </tr>\n",
       "    <tr>\n",
       "      <td id=\"T_11a11_row36_col0\" class=\"data row36 col0\" >Mental Health Client Action Network (MHCAN) </td>\n",
       "    </tr>\n",
       "    <tr>\n",
       "      <td id=\"T_11a11_row37_col0\" class=\"data row37 col0\" >Mobility Matters</td>\n",
       "    </tr>\n",
       "    <tr>\n",
       "      <td id=\"T_11a11_row38_col0\" class=\"data row38 col0\" >Morongo Basin Transit Authority</td>\n",
       "    </tr>\n",
       "    <tr>\n",
       "      <td id=\"T_11a11_row39_col0\" class=\"data row39 col0\" >NCI Affiliates</td>\n",
       "    </tr>\n",
       "    <tr>\n",
       "      <td id=\"T_11a11_row40_col0\" class=\"data row40 col0\" >North of the River Recreation and Park District</td>\n",
       "    </tr>\n",
       "    <tr>\n",
       "      <td id=\"T_11a11_row41_col0\" class=\"data row41 col0\" >OPARC</td>\n",
       "    </tr>\n",
       "    <tr>\n",
       "      <td id=\"T_11a11_row42_col0\" class=\"data row42 col0\" >Outreach & Escort Inc </td>\n",
       "    </tr>\n",
       "    <tr>\n",
       "      <td id=\"T_11a11_row43_col0\" class=\"data row43 col0\" >Peninsula Family Service</td>\n",
       "    </tr>\n",
       "    <tr>\n",
       "      <td id=\"T_11a11_row44_col0\" class=\"data row44 col0\" >Peninsula Jewish Community Center</td>\n",
       "    </tr>\n",
       "    <tr>\n",
       "      <td id=\"T_11a11_row45_col0\" class=\"data row45 col0\" >Peppermint Ridge</td>\n",
       "    </tr>\n",
       "    <tr>\n",
       "      <td id=\"T_11a11_row46_col0\" class=\"data row46 col0\" >Pride Industries One Inc</td>\n",
       "    </tr>\n",
       "    <tr>\n",
       "      <td id=\"T_11a11_row47_col0\" class=\"data row47 col0\" >Reach Out Morongo Basin</td>\n",
       "    </tr>\n",
       "    <tr>\n",
       "      <td id=\"T_11a11_row48_col0\" class=\"data row48 col0\" >SAHA</td>\n",
       "    </tr>\n",
       "    <tr>\n",
       "      <td id=\"T_11a11_row49_col0\" class=\"data row49 col0\" >San Benito County Local Transportation Authority</td>\n",
       "    </tr>\n",
       "    <tr>\n",
       "      <td id=\"T_11a11_row50_col0\" class=\"data row50 col0\" >San Joaquin Regional Transit District</td>\n",
       "    </tr>\n",
       "    <tr>\n",
       "      <td id=\"T_11a11_row51_col0\" class=\"data row51 col0\" >Seniors Council of Santa Cruz and San Benito Counties</td>\n",
       "    </tr>\n",
       "    <tr>\n",
       "      <td id=\"T_11a11_row52_col0\" class=\"data row52 col0\" >Shores of Hope </td>\n",
       "    </tr>\n",
       "    <tr>\n",
       "      <td id=\"T_11a11_row53_col0\" class=\"data row53 col0\" >Sunline Transit Agency</td>\n",
       "    </tr>\n",
       "    <tr>\n",
       "      <td id=\"T_11a11_row54_col0\" class=\"data row54 col0\" >Tahoe Transportation District</td>\n",
       "    </tr>\n",
       "    <tr>\n",
       "      <td id=\"T_11a11_row55_col0\" class=\"data row55 col0\" >Tehama County Transit Agency</td>\n",
       "    </tr>\n",
       "    <tr>\n",
       "      <td id=\"T_11a11_row56_col0\" class=\"data row56 col0\" >The Arc of Amador and Calaveras</td>\n",
       "    </tr>\n",
       "    <tr>\n",
       "      <td id=\"T_11a11_row57_col0\" class=\"data row57 col0\" >Town of Truckee</td>\n",
       "    </tr>\n",
       "    <tr>\n",
       "      <td id=\"T_11a11_row58_col0\" class=\"data row58 col0\" >Tuolumne County Transit Agency (TCTA)</td>\n",
       "    </tr>\n",
       "    <tr>\n",
       "      <td id=\"T_11a11_row59_col0\" class=\"data row59 col0\" >United Cerebral Palsy Association of Greater Sacramento Inc</td>\n",
       "    </tr>\n",
       "    <tr>\n",
       "      <td id=\"T_11a11_row60_col0\" class=\"data row60 col0\" >Valley Resource Center</td>\n",
       "    </tr>\n",
       "    <tr>\n",
       "      <td id=\"T_11a11_row61_col0\" class=\"data row61 col0\" >Victor Valley Community Services Council</td>\n",
       "    </tr>\n",
       "    <tr>\n",
       "      <td id=\"T_11a11_row62_col0\" class=\"data row62 col0\" >Vivalon Inc</td>\n",
       "    </tr>\n",
       "    <tr>\n",
       "      <td id=\"T_11a11_row63_col0\" class=\"data row63 col0\" >West Valley Community Services</td>\n",
       "    </tr>\n",
       "    <tr>\n",
       "      <td id=\"T_11a11_row64_col0\" class=\"data row64 col0\" >Wilshire Community Services</td>\n",
       "    </tr>\n",
       "  </tbody>\n",
       "</table>\n"
      ],
      "text/plain": [
       "<IPython.core.display.HTML object>"
      ]
     },
     "metadata": {},
     "output_type": "display_data"
    },
    {
     "data": {
      "text/html": [
       "<br><br><strong>Organization with Mobility Management Project Types Present</strong>"
      ],
      "text/plain": [
       "<IPython.core.display.HTML object>"
      ]
     },
     "metadata": {},
     "output_type": "display_data"
    },
    {
     "data": {
      "text/html": [
       "<style type=\"text/css\">\n",
       "#T_02b00 th {\n",
       "  text-align: center;\n",
       "}\n",
       "#T_02b00_row0_col0, #T_02b00_row1_col0, #T_02b00_row2_col0, #T_02b00_row3_col0, #T_02b00_row4_col0, #T_02b00_row5_col0, #T_02b00_row6_col0, #T_02b00_row7_col0, #T_02b00_row8_col0, #T_02b00_row9_col0, #T_02b00_row10_col0, #T_02b00_row11_col0, #T_02b00_row12_col0, #T_02b00_row13_col0, #T_02b00_row14_col0, #T_02b00_row15_col0, #T_02b00_row16_col0, #T_02b00_row17_col0, #T_02b00_row18_col0, #T_02b00_row19_col0, #T_02b00_row20_col0, #T_02b00_row21_col0, #T_02b00_row22_col0, #T_02b00_row23_col0, #T_02b00_row24_col0, #T_02b00_row25_col0, #T_02b00_row26_col0, #T_02b00_row27_col0, #T_02b00_row28_col0, #T_02b00_row29_col0, #T_02b00_row30_col0, #T_02b00_row31_col0, #T_02b00_row32_col0, #T_02b00_row33_col0, #T_02b00_row34_col0 {\n",
       "  text-align: center;\n",
       "}\n",
       "</style>\n",
       "<table id=\"T_02b00\">\n",
       "  <thead>\n",
       "    <tr>\n",
       "      <th id=\"T_02b00_level0_col0\" class=\"col_heading level0 col0\" >Organization Name</th>\n",
       "    </tr>\n",
       "  </thead>\n",
       "  <tbody>\n",
       "    <tr>\n",
       "      <td id=\"T_02b00_row0_col0\" class=\"data row0 col0\" >Amador Transit</td>\n",
       "    </tr>\n",
       "    <tr>\n",
       "      <td id=\"T_02b00_row1_col0\" class=\"data row1 col0\" >Catholic Charities of the Diocese of Stockton</td>\n",
       "    </tr>\n",
       "    <tr>\n",
       "      <td id=\"T_02b00_row2_col0\" class=\"data row2 col0\" >City of Roseville</td>\n",
       "    </tr>\n",
       "    <tr>\n",
       "      <td id=\"T_02b00_row3_col0\" class=\"data row3 col0\" >City of Visalia</td>\n",
       "    </tr>\n",
       "    <tr>\n",
       "      <td id=\"T_02b00_row4_col0\" class=\"data row4 col0\" >Common Ground Senior Services</td>\n",
       "    </tr>\n",
       "    <tr>\n",
       "      <td id=\"T_02b00_row5_col0\" class=\"data row5 col0\" >Contra Costa Transportation Authority (CCTA)</td>\n",
       "    </tr>\n",
       "    <tr>\n",
       "      <td id=\"T_02b00_row6_col0\" class=\"data row6 col0\" >County of Sonoma Human Services Department Adult and Aging Division</td>\n",
       "    </tr>\n",
       "    <tr>\n",
       "      <td id=\"T_02b00_row7_col0\" class=\"data row7 col0\" >Eden I&R INC</td>\n",
       "    </tr>\n",
       "    <tr>\n",
       "      <td id=\"T_02b00_row8_col0\" class=\"data row8 col0\" >Friends of Children with Special Needs</td>\n",
       "    </tr>\n",
       "    <tr>\n",
       "      <td id=\"T_02b00_row9_col0\" class=\"data row9 col0\" >Full Access & Coordinated Transportation Inc</td>\n",
       "    </tr>\n",
       "    <tr>\n",
       "      <td id=\"T_02b00_row10_col0\" class=\"data row10 col0\" >Help Central Inc</td>\n",
       "    </tr>\n",
       "    <tr>\n",
       "      <td id=\"T_02b00_row11_col0\" class=\"data row11 col0\" >Imperial County Transportation Commission</td>\n",
       "    </tr>\n",
       "    <tr>\n",
       "      <td id=\"T_02b00_row12_col0\" class=\"data row12 col0\" >Inland Empire United Way</td>\n",
       "    </tr>\n",
       "    <tr>\n",
       "      <td id=\"T_02b00_row13_col0\" class=\"data row13 col0\" >Lake Links Inc</td>\n",
       "    </tr>\n",
       "    <tr>\n",
       "      <td id=\"T_02b00_row14_col0\" class=\"data row14 col0\" >Lake Transit Authority</td>\n",
       "    </tr>\n",
       "    <tr>\n",
       "      <td id=\"T_02b00_row15_col0\" class=\"data row15 col0\" >Lighthouse for the Blind and Visually Impaired</td>\n",
       "    </tr>\n",
       "    <tr>\n",
       "      <td id=\"T_02b00_row16_col0\" class=\"data row16 col0\" >Livermore Amador Valley Transit Authority</td>\n",
       "    </tr>\n",
       "    <tr>\n",
       "      <td id=\"T_02b00_row17_col0\" class=\"data row17 col0\" >Marin County Transit District</td>\n",
       "    </tr>\n",
       "    <tr>\n",
       "      <td id=\"T_02b00_row18_col0\" class=\"data row18 col0\" >Mendocino Transit Authority</td>\n",
       "    </tr>\n",
       "    <tr>\n",
       "      <td id=\"T_02b00_row19_col0\" class=\"data row19 col0\" >Mental Health Client Action Network (MHCAN) </td>\n",
       "    </tr>\n",
       "    <tr>\n",
       "      <td id=\"T_02b00_row20_col0\" class=\"data row20 col0\" >Metropolitan Transportation Commission</td>\n",
       "    </tr>\n",
       "    <tr>\n",
       "      <td id=\"T_02b00_row21_col0\" class=\"data row21 col0\" >Mobility Matters</td>\n",
       "    </tr>\n",
       "    <tr>\n",
       "      <td id=\"T_02b00_row22_col0\" class=\"data row22 col0\" >Nevada-Sierra Connecting Point Public Authority</td>\n",
       "    </tr>\n",
       "    <tr>\n",
       "      <td id=\"T_02b00_row23_col0\" class=\"data row23 col0\" >Omnitrans</td>\n",
       "    </tr>\n",
       "    <tr>\n",
       "      <td id=\"T_02b00_row24_col0\" class=\"data row24 col0\" >Outreach & Escort Inc </td>\n",
       "    </tr>\n",
       "    <tr>\n",
       "      <td id=\"T_02b00_row25_col0\" class=\"data row25 col0\" >Riverside Transit Agency</td>\n",
       "    </tr>\n",
       "    <tr>\n",
       "      <td id=\"T_02b00_row26_col0\" class=\"data row26 col0\" >San Francisco Municipal Transportation Agency</td>\n",
       "    </tr>\n",
       "    <tr>\n",
       "      <td id=\"T_02b00_row27_col0\" class=\"data row27 col0\" >San Luis Obispo Council of Governments</td>\n",
       "    </tr>\n",
       "    <tr>\n",
       "      <td id=\"T_02b00_row28_col0\" class=\"data row28 col0\" >Santa Clara Valley Transportation Authority</td>\n",
       "    </tr>\n",
       "    <tr>\n",
       "      <td id=\"T_02b00_row29_col0\" class=\"data row29 col0\" >Solano Tranportation Authority </td>\n",
       "    </tr>\n",
       "    <tr>\n",
       "      <td id=\"T_02b00_row30_col0\" class=\"data row30 col0\" >The Center for Independent Living</td>\n",
       "    </tr>\n",
       "    <tr>\n",
       "      <td id=\"T_02b00_row31_col0\" class=\"data row31 col0\" >Tuolumne County Transit Agency (TCTA)</td>\n",
       "    </tr>\n",
       "    <tr>\n",
       "      <td id=\"T_02b00_row32_col0\" class=\"data row32 col0\" >Victor Valley Community Services Council</td>\n",
       "    </tr>\n",
       "    <tr>\n",
       "      <td id=\"T_02b00_row33_col0\" class=\"data row33 col0\" >Victor Valley Transit Authority</td>\n",
       "    </tr>\n",
       "    <tr>\n",
       "      <td id=\"T_02b00_row34_col0\" class=\"data row34 col0\" >Yolo County Transportation District</td>\n",
       "    </tr>\n",
       "  </tbody>\n",
       "</table>\n"
      ],
      "text/plain": [
       "<IPython.core.display.HTML object>"
      ]
     },
     "metadata": {},
     "output_type": "display_data"
    },
    {
     "data": {
      "text/html": [
       "<br><br><strong>Organization with Hardware/Software Purchase Project Types Present</strong>"
      ],
      "text/plain": [
       "<IPython.core.display.HTML object>"
      ]
     },
     "metadata": {},
     "output_type": "display_data"
    },
    {
     "data": {
      "text/html": [
       "<style type=\"text/css\">\n",
       "#T_bd3fb th {\n",
       "  text-align: center;\n",
       "}\n",
       "#T_bd3fb_row0_col0, #T_bd3fb_row1_col0, #T_bd3fb_row2_col0, #T_bd3fb_row3_col0, #T_bd3fb_row4_col0, #T_bd3fb_row5_col0, #T_bd3fb_row6_col0, #T_bd3fb_row7_col0, #T_bd3fb_row8_col0, #T_bd3fb_row9_col0, #T_bd3fb_row10_col0 {\n",
       "  text-align: center;\n",
       "}\n",
       "</style>\n",
       "<table id=\"T_bd3fb\">\n",
       "  <thead>\n",
       "    <tr>\n",
       "      <th id=\"T_bd3fb_level0_col0\" class=\"col_heading level0 col0\" >Organization Name</th>\n",
       "    </tr>\n",
       "  </thead>\n",
       "  <tbody>\n",
       "    <tr>\n",
       "      <td id=\"T_bd3fb_row0_col0\" class=\"data row0 col0\" >Asian Community Center of Sacramento Valley Inc DBA ACC Senior Services</td>\n",
       "    </tr>\n",
       "    <tr>\n",
       "      <td id=\"T_bd3fb_row1_col0\" class=\"data row1 col0\" >Catholic Charities of the Diocese of Stockton</td>\n",
       "    </tr>\n",
       "    <tr>\n",
       "      <td id=\"T_bd3fb_row2_col0\" class=\"data row2 col0\" >Community Bridges Liftline</td>\n",
       "    </tr>\n",
       "    <tr>\n",
       "      <td id=\"T_bd3fb_row3_col0\" class=\"data row3 col0\" >County of Sonoma Human Services Department Adult and Aging Division</td>\n",
       "    </tr>\n",
       "    <tr>\n",
       "      <td id=\"T_bd3fb_row4_col0\" class=\"data row4 col0\" >Foothill AIDS Project</td>\n",
       "    </tr>\n",
       "    <tr>\n",
       "      <td id=\"T_bd3fb_row5_col0\" class=\"data row5 col0\" >Milestones of Development INC</td>\n",
       "    </tr>\n",
       "    <tr>\n",
       "      <td id=\"T_bd3fb_row6_col0\" class=\"data row6 col0\" >Porterville Sheltered Workshop</td>\n",
       "    </tr>\n",
       "    <tr>\n",
       "      <td id=\"T_bd3fb_row7_col0\" class=\"data row7 col0\" >San Joaquin Regional Transit District</td>\n",
       "    </tr>\n",
       "    <tr>\n",
       "      <td id=\"T_bd3fb_row8_col0\" class=\"data row8 col0\" >Sunline Transit Agency</td>\n",
       "    </tr>\n",
       "    <tr>\n",
       "      <td id=\"T_bd3fb_row9_col0\" class=\"data row9 col0\" >United Cerebral Palsy Association of Greater Sacramento Inc</td>\n",
       "    </tr>\n",
       "    <tr>\n",
       "      <td id=\"T_bd3fb_row10_col0\" class=\"data row10 col0\" >Yolo County Transportation District</td>\n",
       "    </tr>\n",
       "  </tbody>\n",
       "</table>\n"
      ],
      "text/plain": [
       "<IPython.core.display.HTML object>"
      ]
     },
     "metadata": {},
     "output_type": "display_data"
    },
    {
     "data": {
      "text/html": [
       "<br><br><strong>Organization with Communications Project Types Present</strong>"
      ],
      "text/plain": [
       "<IPython.core.display.HTML object>"
      ]
     },
     "metadata": {},
     "output_type": "display_data"
    },
    {
     "data": {
      "text/html": [
       "<style type=\"text/css\">\n",
       "#T_7ad36 th {\n",
       "  text-align: center;\n",
       "}\n",
       "#T_7ad36_row0_col0, #T_7ad36_row1_col0, #T_7ad36_row2_col0, #T_7ad36_row3_col0, #T_7ad36_row4_col0, #T_7ad36_row5_col0, #T_7ad36_row6_col0, #T_7ad36_row7_col0, #T_7ad36_row8_col0 {\n",
       "  text-align: center;\n",
       "}\n",
       "</style>\n",
       "<table id=\"T_7ad36\">\n",
       "  <thead>\n",
       "    <tr>\n",
       "      <th id=\"T_7ad36_level0_col0\" class=\"col_heading level0 col0\" >Organization Name</th>\n",
       "    </tr>\n",
       "  </thead>\n",
       "  <tbody>\n",
       "    <tr>\n",
       "      <td id=\"T_7ad36_row0_col0\" class=\"data row0 col0\" >Center for Elders' Independence </td>\n",
       "    </tr>\n",
       "    <tr>\n",
       "      <td id=\"T_7ad36_row1_col0\" class=\"data row1 col0\" >Community Bridges Liftline</td>\n",
       "    </tr>\n",
       "    <tr>\n",
       "      <td id=\"T_7ad36_row2_col0\" class=\"data row2 col0\" >Eastern Sierra Transit Authority</td>\n",
       "    </tr>\n",
       "    <tr>\n",
       "      <td id=\"T_7ad36_row3_col0\" class=\"data row3 col0\" >Humboldt Senior Resource Center</td>\n",
       "    </tr>\n",
       "    <tr>\n",
       "      <td id=\"T_7ad36_row4_col0\" class=\"data row4 col0\" >North of the River Recreation and Park District</td>\n",
       "    </tr>\n",
       "    <tr>\n",
       "      <td id=\"T_7ad36_row5_col0\" class=\"data row5 col0\" >Porterville Sheltered Workshop</td>\n",
       "    </tr>\n",
       "    <tr>\n",
       "      <td id=\"T_7ad36_row6_col0\" class=\"data row6 col0\" >Self-Help for the Elderly</td>\n",
       "    </tr>\n",
       "    <tr>\n",
       "      <td id=\"T_7ad36_row7_col0\" class=\"data row7 col0\" >United Cerebral Palsy Association of Greater Sacramento Inc</td>\n",
       "    </tr>\n",
       "    <tr>\n",
       "      <td id=\"T_7ad36_row8_col0\" class=\"data row8 col0\" >Work Training Center</td>\n",
       "    </tr>\n",
       "  </tbody>\n",
       "</table>\n"
      ],
      "text/plain": [
       "<IPython.core.display.HTML object>"
      ]
     },
     "metadata": {},
     "output_type": "display_data"
    },
    {
     "data": {
      "text/html": [
       "<br><br><strong>Organization with Facilities Equipment Project Types Present</strong>"
      ],
      "text/plain": [
       "<IPython.core.display.HTML object>"
      ]
     },
     "metadata": {},
     "output_type": "display_data"
    },
    {
     "data": {
      "text/html": [
       "<style type=\"text/css\">\n",
       "#T_7c1e8 th {\n",
       "  text-align: center;\n",
       "}\n",
       "#T_7c1e8_row0_col0, #T_7c1e8_row1_col0, #T_7c1e8_row2_col0, #T_7c1e8_row3_col0, #T_7c1e8_row4_col0 {\n",
       "  text-align: center;\n",
       "}\n",
       "</style>\n",
       "<table id=\"T_7c1e8\">\n",
       "  <thead>\n",
       "    <tr>\n",
       "      <th id=\"T_7c1e8_level0_col0\" class=\"col_heading level0 col0\" >Organization Name</th>\n",
       "    </tr>\n",
       "  </thead>\n",
       "  <tbody>\n",
       "    <tr>\n",
       "      <td id=\"T_7c1e8_row0_col0\" class=\"data row0 col0\" >Eastern Sierra Transit Authority</td>\n",
       "    </tr>\n",
       "    <tr>\n",
       "      <td id=\"T_7c1e8_row1_col0\" class=\"data row1 col0\" >Lighthouse for the Blind and Visually Impaired</td>\n",
       "    </tr>\n",
       "    <tr>\n",
       "      <td id=\"T_7c1e8_row2_col0\" class=\"data row2 col0\" >Milestones of Development INC</td>\n",
       "    </tr>\n",
       "    <tr>\n",
       "      <td id=\"T_7c1e8_row3_col0\" class=\"data row3 col0\" >North and South of Market Adult Day Health</td>\n",
       "    </tr>\n",
       "    <tr>\n",
       "      <td id=\"T_7c1e8_row4_col0\" class=\"data row4 col0\" >Porterville Sheltered Workshop</td>\n",
       "    </tr>\n",
       "  </tbody>\n",
       "</table>\n"
      ],
      "text/plain": [
       "<IPython.core.display.HTML object>"
      ]
     },
     "metadata": {},
     "output_type": "display_data"
    },
    {
     "data": {
      "text/html": [
       "<br><br><strong>Organization with Surveillance Project Types Present</strong>"
      ],
      "text/plain": [
       "<IPython.core.display.HTML object>"
      ]
     },
     "metadata": {},
     "output_type": "display_data"
    },
    {
     "data": {
      "text/html": [
       "<style type=\"text/css\">\n",
       "#T_1f1fc th {\n",
       "  text-align: center;\n",
       "}\n",
       "#T_1f1fc_row0_col0, #T_1f1fc_row1_col0, #T_1f1fc_row2_col0, #T_1f1fc_row3_col0 {\n",
       "  text-align: center;\n",
       "}\n",
       "</style>\n",
       "<table id=\"T_1f1fc\">\n",
       "  <thead>\n",
       "    <tr>\n",
       "      <th id=\"T_1f1fc_level0_col0\" class=\"col_heading level0 col0\" >Organization Name</th>\n",
       "    </tr>\n",
       "  </thead>\n",
       "  <tbody>\n",
       "    <tr>\n",
       "      <td id=\"T_1f1fc_row0_col0\" class=\"data row0 col0\" >Community Bridges Liftline</td>\n",
       "    </tr>\n",
       "    <tr>\n",
       "      <td id=\"T_1f1fc_row1_col0\" class=\"data row1 col0\" >Institute on Aging </td>\n",
       "    </tr>\n",
       "    <tr>\n",
       "      <td id=\"T_1f1fc_row2_col0\" class=\"data row2 col0\" >Porterville Sheltered Workshop</td>\n",
       "    </tr>\n",
       "    <tr>\n",
       "      <td id=\"T_1f1fc_row3_col0\" class=\"data row3 col0\" >United Cerebral Palsy Association of Greater Sacramento Inc</td>\n",
       "    </tr>\n",
       "  </tbody>\n",
       "</table>\n"
      ],
      "text/plain": [
       "<IPython.core.display.HTML object>"
      ]
     },
     "metadata": {},
     "output_type": "display_data"
    },
    {
     "data": {
      "text/html": [
       "<br><br><strong>Organization with Subsidies Project Types Present</strong>"
      ],
      "text/plain": [
       "<IPython.core.display.HTML object>"
      ]
     },
     "metadata": {},
     "output_type": "display_data"
    },
    {
     "data": {
      "text/html": [
       "<style type=\"text/css\">\n",
       "#T_ca27f th {\n",
       "  text-align: center;\n",
       "}\n",
       "#T_ca27f_row0_col0 {\n",
       "  text-align: center;\n",
       "}\n",
       "</style>\n",
       "<table id=\"T_ca27f\">\n",
       "  <thead>\n",
       "    <tr>\n",
       "      <th id=\"T_ca27f_level0_col0\" class=\"col_heading level0 col0\" >Organization Name</th>\n",
       "    </tr>\n",
       "  </thead>\n",
       "  <tbody>\n",
       "    <tr>\n",
       "      <td id=\"T_ca27f_row0_col0\" class=\"data row0 col0\" >San Mateo County Transit District</td>\n",
       "    </tr>\n",
       "  </tbody>\n",
       "</table>\n"
      ],
      "text/plain": [
       "<IPython.core.display.HTML object>"
      ]
     },
     "metadata": {},
     "output_type": "display_data"
    }
   ],
   "source": [
    "columns = [\n",
    "    \"Vehicle Purchase\",\n",
    "    \"Operating Assistance\",\n",
    "    \"Mobility Management\",\n",
    "    \"Hardware/Software Purchase\",\n",
    "    \"Communications\",\n",
    "    \"Facilities Equipment\",\n",
    "    \"Surveillance\",\n",
    "    \"Subsidies\",\n",
    "]\n",
    "for column in columns:\n",
    "    org_counts = (ptype_counts \n",
    "                  >> filter(_[column] == 1)\n",
    "                  >> count(_['Organization Name'])\n",
    "                  >> select(_['Organization Name']))\n",
    "    \n",
    "\n",
    "    display(HTML(f\"<br>\"\n",
    "                 f\"<br>\"\n",
    "                 f\"<strong>Organization with {column} Project Types Present</strong>\"))\n",
    "    \n",
    "    (display(HTML(_dla_utils.pretify_tables2(org_counts, \"Organization Name\", \"\"))))"
   ]
  },
  {
   "cell_type": "code",
   "execution_count": null,
   "id": "2195de23-ffe7-4378-89ba-d9bacb3a41fe",
   "metadata": {
    "papermill": {
     "duration": 0.045138,
     "end_time": "2022-05-25T19:50:13.443294",
     "exception": false,
     "start_time": "2022-05-25T19:50:13.398156",
     "status": "completed"
    },
    "tags": []
   },
   "outputs": [],
   "source": []
  },
  {
   "cell_type": "markdown",
   "id": "03d79697-7caa-4efa-a577-f49eed402970",
   "metadata": {
    "papermill": {
     "duration": 0.043819,
     "end_time": "2022-05-25T19:50:13.526703",
     "exception": false,
     "start_time": "2022-05-25T19:50:13.482884",
     "status": "completed"
    },
    "tags": []
   },
   "source": [
    "### Purchasing Wheelchair Accessible Vehicles"
   ]
  },
  {
   "cell_type": "code",
   "execution_count": 15,
   "id": "940488b1-5bfb-4945-a7d7-2e9f7b0c9a1d",
   "metadata": {
    "execution": {
     "iopub.execute_input": "2022-05-25T19:50:13.623947Z",
     "iopub.status.busy": "2022-05-25T19:50:13.623194Z",
     "iopub.status.idle": "2022-05-25T19:50:13.650620Z",
     "shell.execute_reply": "2022-05-25T19:50:13.649742Z"
    },
    "papermill": {
     "duration": 0.076852,
     "end_time": "2022-05-25T19:50:13.653275",
     "exception": false,
     "start_time": "2022-05-25T19:50:13.576423",
     "status": "completed"
    },
    "tags": []
   },
   "outputs": [
    {
     "data": {
      "text/html": [
       "Of the 92 agencies using 5310 funds for vehicle purchases, 75 are for Bus Purchases, and 38 are for Van Purchases<br> There are 0 specific mentions of wheelchair accessible vehicles, ramps or other accessiblity features."
      ],
      "text/plain": [
       "<IPython.core.display.HTML object>"
      ]
     },
     "metadata": {},
     "output_type": "display_data"
    }
   ],
   "source": [
    "display(\n",
    "    HTML(f\"Of the {len(df>>filter(_.vehicle_purchase==1)>>count(_.organization_name))} agencies using 5310 funds \"\n",
    "      f\"for vehicle purchases, \"\n",
    "      f\"{len(df>>filter(_.vehicle_purchase==1)>>filter(_.description.str.contains('Bus'))>>count(_.organization_name))} \"\n",
    "      f\"are for Bus Purchases, \"\n",
    "      f\"and {len(df>>filter(_.vehicle_purchase==1)>>filter(_.description.str.contains('Van'))>>count(_.organization_name))} \"\n",
    "      f\"are for Van Purchases\"\n",
    "         f\"<br> There are {len(df>>filter(_.description.str.contains('wheelchair')))} specific mentions of wheelchair \"\n",
    "         f\"accessible vehicles, ramps or other accessiblity features.\"\n",
    "        ))"
   ]
  },
  {
   "cell_type": "markdown",
   "id": "3c191763-dc98-4602-8f1b-a9300fde1abe",
   "metadata": {
    "papermill": {
     "duration": 0.035124,
     "end_time": "2022-05-25T19:50:13.728935",
     "exception": false,
     "start_time": "2022-05-25T19:50:13.693811",
     "status": "completed"
    },
    "tags": []
   },
   "source": [
    "**Organizations using funds for Vehicle Purchase**"
   ]
  },
  {
   "cell_type": "code",
   "execution_count": 16,
   "id": "78a986a8-e3ae-4fda-9aee-926b6d8c178e",
   "metadata": {
    "execution": {
     "iopub.execute_input": "2022-05-25T19:50:13.797712Z",
     "iopub.status.busy": "2022-05-25T19:50:13.796788Z",
     "iopub.status.idle": "2022-05-25T19:50:13.814227Z",
     "shell.execute_reply": "2022-05-25T19:50:13.813357Z"
    },
    "papermill": {
     "duration": 0.052265,
     "end_time": "2022-05-25T19:50:13.816123",
     "exception": false,
     "start_time": "2022-05-25T19:50:13.763858",
     "status": "completed"
    },
    "tags": []
   },
   "outputs": [
    {
     "data": {
      "text/html": [
       "<style type=\"text/css\">\n",
       "#T_c9aa5 th {\n",
       "  text-align: center;\n",
       "}\n",
       "#T_c9aa5_row0_col0, #T_c9aa5_row1_col0, #T_c9aa5_row2_col0, #T_c9aa5_row3_col0, #T_c9aa5_row4_col0, #T_c9aa5_row5_col0, #T_c9aa5_row6_col0, #T_c9aa5_row7_col0, #T_c9aa5_row8_col0, #T_c9aa5_row9_col0 {\n",
       "  text-align: center;\n",
       "}\n",
       "#T_c9aa5_row0_col1, #T_c9aa5_row1_col1, #T_c9aa5_row2_col1, #T_c9aa5_row3_col1, #T_c9aa5_row4_col1, #T_c9aa5_row5_col1, #T_c9aa5_row6_col1, #T_c9aa5_row7_col1, #T_c9aa5_row8_col1, #T_c9aa5_row9_col1 {\n",
       "  text-align: right;\n",
       "}\n",
       "</style>\n",
       "<table id=\"T_c9aa5\">\n",
       "  <thead>\n",
       "    <tr>\n",
       "      <th id=\"T_c9aa5_level0_col0\" class=\"col_heading level0 col0\" >Organization Name</th>\n",
       "      <th id=\"T_c9aa5_level0_col1\" class=\"col_heading level0 col1\" >Count</th>\n",
       "    </tr>\n",
       "  </thead>\n",
       "  <tbody>\n",
       "    <tr>\n",
       "      <td id=\"T_c9aa5_row0_col0\" class=\"data row0 col0\" >On Lok Senior Health Services</td>\n",
       "      <td id=\"T_c9aa5_row0_col1\" class=\"data row0 col1\" >50</td>\n",
       "    </tr>\n",
       "    <tr>\n",
       "      <td id=\"T_c9aa5_row1_col0\" class=\"data row1 col0\" >Pride Industries One Inc</td>\n",
       "      <td id=\"T_c9aa5_row1_col1\" class=\"data row1 col1\" >49</td>\n",
       "    </tr>\n",
       "    <tr>\n",
       "      <td id=\"T_c9aa5_row2_col0\" class=\"data row2 col0\" >United Cerebral Palsy of San Luis Obispo County </td>\n",
       "      <td id=\"T_c9aa5_row2_col1\" class=\"data row2 col1\" >46</td>\n",
       "    </tr>\n",
       "    <tr>\n",
       "      <td id=\"T_c9aa5_row3_col0\" class=\"data row3 col0\" >United Cerebral Palsy Association of Greater Sacramento Inc</td>\n",
       "      <td id=\"T_c9aa5_row3_col1\" class=\"data row3 col1\" >42</td>\n",
       "    </tr>\n",
       "    <tr>\n",
       "      <td id=\"T_c9aa5_row4_col0\" class=\"data row4 col0\" >Kings Rehabilitation Center</td>\n",
       "      <td id=\"T_c9aa5_row4_col1\" class=\"data row4 col1\" >30</td>\n",
       "    </tr>\n",
       "    <tr>\n",
       "      <td id=\"T_c9aa5_row5_col0\" class=\"data row5 col0\" >Monterey-Salinas Transit</td>\n",
       "      <td id=\"T_c9aa5_row5_col1\" class=\"data row5 col1\" >26</td>\n",
       "    </tr>\n",
       "    <tr>\n",
       "      <td id=\"T_c9aa5_row6_col0\" class=\"data row6 col0\" >North of the River Recreation and Park District</td>\n",
       "      <td id=\"T_c9aa5_row6_col1\" class=\"data row6 col1\" >25</td>\n",
       "    </tr>\n",
       "    <tr>\n",
       "      <td id=\"T_c9aa5_row7_col0\" class=\"data row7 col0\" >ARC Bakersfield</td>\n",
       "      <td id=\"T_c9aa5_row7_col1\" class=\"data row7 col1\" >20</td>\n",
       "    </tr>\n",
       "    <tr>\n",
       "      <td id=\"T_c9aa5_row8_col0\" class=\"data row8 col0\" >Vivalon Inc</td>\n",
       "      <td id=\"T_c9aa5_row8_col1\" class=\"data row8 col1\" >20</td>\n",
       "    </tr>\n",
       "    <tr>\n",
       "      <td id=\"T_c9aa5_row9_col0\" class=\"data row9 col0\" >Butte County Association of Governments  Butte Regional Transit</td>\n",
       "      <td id=\"T_c9aa5_row9_col1\" class=\"data row9 col1\" >19</td>\n",
       "    </tr>\n",
       "  </tbody>\n",
       "</table>\n"
      ],
      "text/plain": [
       "<IPython.core.display.HTML object>"
      ]
     },
     "metadata": {},
     "output_type": "display_data"
    }
   ],
   "source": [
    "vehicle_purchase= (df>>filter(_.vehicle_purchase==1)>>count(_.organization_name)>>arrange(-_.n)).head(10)\n",
    "\n",
    "display(HTML(_dla_utils.pretify_tables2(vehicle_purchase, \"\", \"Count\")))\n"
   ]
  },
  {
   "cell_type": "code",
   "execution_count": null,
   "id": "02e430db-e6bb-4d57-b0b1-a40e3b9e921f",
   "metadata": {
    "papermill": {
     "duration": 0.031066,
     "end_time": "2022-05-25T19:50:13.877765",
     "exception": false,
     "start_time": "2022-05-25T19:50:13.846699",
     "status": "completed"
    },
    "tags": []
   },
   "outputs": [],
   "source": []
  },
  {
   "cell_type": "markdown",
   "id": "70b62e5d-ac67-49c7-ba91-2c5d8a71d612",
   "metadata": {
    "papermill": {
     "duration": 0.030649,
     "end_time": "2022-05-25T19:50:13.942842",
     "exception": false,
     "start_time": "2022-05-25T19:50:13.912193",
     "status": "completed"
    },
    "tags": []
   },
   "source": [
    "### On-demand Scheduling"
   ]
  },
  {
   "cell_type": "markdown",
   "id": "89503665-91ae-412b-824d-1d13064ec816",
   "metadata": {
    "papermill": {
     "duration": 0.03368,
     "end_time": "2022-05-25T19:50:14.008305",
     "exception": false,
     "start_time": "2022-05-25T19:50:13.974625",
     "status": "completed"
    },
    "tags": []
   },
   "source": [
    "**Organizations with Operating Assistance Project types**"
   ]
  },
  {
   "cell_type": "code",
   "execution_count": 17,
   "id": "ac6d9571-f3bc-42bb-90ea-ca63becbec5c",
   "metadata": {
    "execution": {
     "iopub.execute_input": "2022-05-25T19:50:14.077194Z",
     "iopub.status.busy": "2022-05-25T19:50:14.076895Z",
     "iopub.status.idle": "2022-05-25T19:50:14.095491Z",
     "shell.execute_reply": "2022-05-25T19:50:14.094757Z"
    },
    "papermill": {
     "duration": 0.055842,
     "end_time": "2022-05-25T19:50:14.097429",
     "exception": false,
     "start_time": "2022-05-25T19:50:14.041587",
     "status": "completed"
    },
    "tags": []
   },
   "outputs": [
    {
     "data": {
      "text/html": [
       "There is 0 mention of Demand related project types"
      ],
      "text/plain": [
       "<IPython.core.display.HTML object>"
      ]
     },
     "metadata": {},
     "output_type": "display_data"
    },
    {
     "data": {
      "text/html": [
       "There are 65 mentions of Operating Assistance"
      ],
      "text/plain": [
       "<IPython.core.display.HTML object>"
      ]
     },
     "metadata": {},
     "output_type": "display_data"
    }
   ],
   "source": [
    "display(HTML(f\"There is {len(df>>filter(_.description.str.contains('demand')))} mention of Demand related project types\"))\n",
    "display(HTML(f\"There are {len((df>>filter(_.operating_assistance==1)>>count(_.organization_name)>>arrange(-_.n)))} \"\n",
    "             f\"mentions of Operating Assistance\"))"
   ]
  },
  {
   "cell_type": "code",
   "execution_count": 18,
   "id": "ca4d3d59-dab5-410e-ac8b-3ab4c9df9fbd",
   "metadata": {
    "execution": {
     "iopub.execute_input": "2022-05-25T19:50:14.164346Z",
     "iopub.status.busy": "2022-05-25T19:50:14.163859Z",
     "iopub.status.idle": "2022-05-25T19:50:14.186732Z",
     "shell.execute_reply": "2022-05-25T19:50:14.178853Z"
    },
    "papermill": {
     "duration": 0.058041,
     "end_time": "2022-05-25T19:50:14.189125",
     "exception": false,
     "start_time": "2022-05-25T19:50:14.131084",
     "status": "completed"
    },
    "tags": []
   },
   "outputs": [
    {
     "data": {
      "text/html": [
       "<style type=\"text/css\">\n",
       "#T_92c9b th {\n",
       "  text-align: center;\n",
       "}\n",
       "#T_92c9b_row0_col0, #T_92c9b_row1_col0, #T_92c9b_row2_col0, #T_92c9b_row3_col0, #T_92c9b_row4_col0, #T_92c9b_row5_col0, #T_92c9b_row6_col0, #T_92c9b_row7_col0, #T_92c9b_row8_col0, #T_92c9b_row9_col0 {\n",
       "  text-align: center;\n",
       "}\n",
       "#T_92c9b_row0_col1, #T_92c9b_row1_col1, #T_92c9b_row2_col1, #T_92c9b_row3_col1, #T_92c9b_row4_col1, #T_92c9b_row5_col1, #T_92c9b_row6_col1, #T_92c9b_row7_col1, #T_92c9b_row8_col1, #T_92c9b_row9_col1 {\n",
       "  text-align: right;\n",
       "}\n",
       "</style>\n",
       "<table id=\"T_92c9b\">\n",
       "  <thead>\n",
       "    <tr>\n",
       "      <th id=\"T_92c9b_level0_col0\" class=\"col_heading level0 col0\" >Organization Name</th>\n",
       "      <th id=\"T_92c9b_level0_col1\" class=\"col_heading level0 col1\" >Count</th>\n",
       "    </tr>\n",
       "  </thead>\n",
       "  <tbody>\n",
       "    <tr>\n",
       "      <td id=\"T_92c9b_row0_col0\" class=\"data row0 col0\" >Independent Living Partnership</td>\n",
       "      <td id=\"T_92c9b_row0_col1\" class=\"data row0 col1\" >8</td>\n",
       "    </tr>\n",
       "    <tr>\n",
       "      <td id=\"T_92c9b_row1_col0\" class=\"data row1 col0\" >Asian Community Center of Sacramento Valley Inc DBA ACC Senior Services</td>\n",
       "      <td id=\"T_92c9b_row1_col1\" class=\"data row1 col1\" >6</td>\n",
       "    </tr>\n",
       "    <tr>\n",
       "      <td id=\"T_92c9b_row2_col0\" class=\"data row2 col0\" >ARC Imperial Valley</td>\n",
       "      <td id=\"T_92c9b_row2_col1\" class=\"data row2 col1\" >4</td>\n",
       "    </tr>\n",
       "    <tr>\n",
       "      <td id=\"T_92c9b_row3_col0\" class=\"data row3 col0\" >Choice in Aging</td>\n",
       "      <td id=\"T_92c9b_row3_col1\" class=\"data row3 col1\" >4</td>\n",
       "    </tr>\n",
       "    <tr>\n",
       "      <td id=\"T_92c9b_row4_col0\" class=\"data row4 col0\" >County of Sonoma Human Services Department Adult and Aging Division</td>\n",
       "      <td id=\"T_92c9b_row4_col1\" class=\"data row4 col1\" >4</td>\n",
       "    </tr>\n",
       "    <tr>\n",
       "      <td id=\"T_92c9b_row5_col0\" class=\"data row5 col0\" >Mobility Matters</td>\n",
       "      <td id=\"T_92c9b_row5_col1\" class=\"data row5 col1\" >4</td>\n",
       "    </tr>\n",
       "    <tr>\n",
       "      <td id=\"T_92c9b_row6_col0\" class=\"data row6 col0\" >Angel View Inc</td>\n",
       "      <td id=\"T_92c9b_row6_col1\" class=\"data row6 col1\" >3</td>\n",
       "    </tr>\n",
       "    <tr>\n",
       "      <td id=\"T_92c9b_row7_col0\" class=\"data row7 col0\" >Catholic Charities of the Diocese of Stockton</td>\n",
       "      <td id=\"T_92c9b_row7_col1\" class=\"data row7 col1\" >3</td>\n",
       "    </tr>\n",
       "    <tr>\n",
       "      <td id=\"T_92c9b_row8_col0\" class=\"data row8 col0\" >City of Lafayette: Lamorinda Sprit Van Program</td>\n",
       "      <td id=\"T_92c9b_row8_col1\" class=\"data row8 col1\" >3</td>\n",
       "    </tr>\n",
       "    <tr>\n",
       "      <td id=\"T_92c9b_row9_col0\" class=\"data row9 col0\" >County of Sacramento Department of Child Family and Adult Services</td>\n",
       "      <td id=\"T_92c9b_row9_col1\" class=\"data row9 col1\" >3</td>\n",
       "    </tr>\n",
       "  </tbody>\n",
       "</table>\n"
      ],
      "text/plain": [
       "<IPython.core.display.HTML object>"
      ]
     },
     "metadata": {},
     "output_type": "display_data"
    }
   ],
   "source": [
    "operating_assistance= (df>>filter(_.operating_assistance==1)>>count(_.organization_name)>>arrange(-_.n)).head(10)\n",
    "\n",
    "display(HTML(_dla_utils.pretify_tables2(operating_assistance, \"\", \"Count\")))"
   ]
  },
  {
   "cell_type": "code",
   "execution_count": null,
   "id": "a704cfee-a550-413a-8f3b-d3cd78429a5e",
   "metadata": {
    "papermill": {
     "duration": 0.052139,
     "end_time": "2022-05-25T19:50:14.274068",
     "exception": false,
     "start_time": "2022-05-25T19:50:14.221929",
     "status": "completed"
    },
    "tags": []
   },
   "outputs": [],
   "source": []
  },
  {
   "cell_type": "markdown",
   "id": "987def42-db7c-4754-aed3-aea562b0998f",
   "metadata": {
    "papermill": {
     "duration": 0.035295,
     "end_time": "2022-05-25T19:50:14.343842",
     "exception": false,
     "start_time": "2022-05-25T19:50:14.308547",
     "status": "completed"
    },
    "tags": []
   },
   "source": [
    "### Dispatching Software Platforms"
   ]
  },
  {
   "cell_type": "code",
   "execution_count": 19,
   "id": "85adc3bb-5f76-47cb-ae08-2fa062f24726",
   "metadata": {
    "execution": {
     "iopub.execute_input": "2022-05-25T19:50:14.413641Z",
     "iopub.status.busy": "2022-05-25T19:50:14.412674Z",
     "iopub.status.idle": "2022-05-25T19:50:14.427719Z",
     "shell.execute_reply": "2022-05-25T19:50:14.426940Z"
    },
    "papermill": {
     "duration": 0.051641,
     "end_time": "2022-05-25T19:50:14.429647",
     "exception": false,
     "start_time": "2022-05-25T19:50:14.378006",
     "status": "completed"
    },
    "tags": []
   },
   "outputs": [
    {
     "data": {
      "text/html": [
       "Out of the 11 with harware or software purchases, 4organization used 5310 funds for software purposes"
      ],
      "text/plain": [
       "<IPython.core.display.HTML object>"
      ]
     },
     "metadata": {},
     "output_type": "display_data"
    }
   ],
   "source": [
    "display(\n",
    "    HTML(f\"Out of the {len(df>>filter(_.hardware_software_purchase==1)>>count(_.organization_name))} \"\n",
    "         f\"with harware or software purchases, \"\n",
    "         f\"{len(df>>filter(_.hardware_software_purchase==1)>>filter(_.description.str.contains('Software'))>>count(_.organization_name))}\" \n",
    "             f\"organization used 5310 funds for software purposes\"))\n",
    "             "
   ]
  },
  {
   "cell_type": "code",
   "execution_count": 20,
   "id": "aa3dc45e-5e6a-45c9-94b9-930f08fdb34e",
   "metadata": {
    "execution": {
     "iopub.execute_input": "2022-05-25T19:50:14.501251Z",
     "iopub.status.busy": "2022-05-25T19:50:14.500590Z",
     "iopub.status.idle": "2022-05-25T19:50:14.516540Z",
     "shell.execute_reply": "2022-05-25T19:50:14.515683Z"
    },
    "papermill": {
     "duration": 0.055536,
     "end_time": "2022-05-25T19:50:14.518490",
     "exception": false,
     "start_time": "2022-05-25T19:50:14.462954",
     "status": "completed"
    },
    "tags": []
   },
   "outputs": [
    {
     "data": {
      "text/html": [
       "<style type=\"text/css\">\n",
       "#T_c0faf th {\n",
       "  text-align: center;\n",
       "}\n",
       "#T_c0faf_row0_col0, #T_c0faf_row1_col0, #T_c0faf_row2_col0, #T_c0faf_row3_col0 {\n",
       "  text-align: center;\n",
       "}\n",
       "#T_c0faf_row0_col1, #T_c0faf_row1_col1, #T_c0faf_row2_col1, #T_c0faf_row3_col1 {\n",
       "  text-align: right;\n",
       "}\n",
       "</style>\n",
       "<table id=\"T_c0faf\">\n",
       "  <thead>\n",
       "    <tr>\n",
       "      <th id=\"T_c0faf_level0_col0\" class=\"col_heading level0 col0\" >Organization Name</th>\n",
       "      <th id=\"T_c0faf_level0_col1\" class=\"col_heading level0 col1\" >Count</th>\n",
       "    </tr>\n",
       "  </thead>\n",
       "  <tbody>\n",
       "    <tr>\n",
       "      <td id=\"T_c0faf_row0_col0\" class=\"data row0 col0\" >Asian Community Center of Sacramento Valley Inc DBA ACC Senior Services</td>\n",
       "      <td id=\"T_c0faf_row0_col1\" class=\"data row0 col1\" >2</td>\n",
       "    </tr>\n",
       "    <tr>\n",
       "      <td id=\"T_c0faf_row1_col0\" class=\"data row1 col0\" >Catholic Charities of the Diocese of Stockton</td>\n",
       "      <td id=\"T_c0faf_row1_col1\" class=\"data row1 col1\" >2</td>\n",
       "    </tr>\n",
       "    <tr>\n",
       "      <td id=\"T_c0faf_row2_col0\" class=\"data row2 col0\" >County of Sonoma Human Services Department Adult and Aging Division</td>\n",
       "      <td id=\"T_c0faf_row2_col1\" class=\"data row2 col1\" >1</td>\n",
       "    </tr>\n",
       "    <tr>\n",
       "      <td id=\"T_c0faf_row3_col0\" class=\"data row3 col0\" >Yolo County Transportation District</td>\n",
       "      <td id=\"T_c0faf_row3_col1\" class=\"data row3 col1\" >2</td>\n",
       "    </tr>\n",
       "  </tbody>\n",
       "</table>\n"
      ],
      "text/plain": [
       "<IPython.core.display.HTML object>"
      ]
     },
     "metadata": {},
     "output_type": "display_data"
    }
   ],
   "source": [
    "software = (\n",
    "    df\n",
    "    >> filter(_.hardware_software_purchase == 1)\n",
    "    >> filter(_.description.str.contains(\"Software\"))\n",
    "    >> count(_.organization_name)\n",
    ")\n",
    "display(HTML(_dla_utils.pretify_tables2(software, \"\", \"Count\")))"
   ]
  },
  {
   "cell_type": "markdown",
   "id": "f4b2bf0f-068f-4e64-a47f-c64c3f530aa9",
   "metadata": {
    "papermill": {
     "duration": 0.038327,
     "end_time": "2022-05-25T19:50:14.589664",
     "exception": false,
     "start_time": "2022-05-25T19:50:14.551337",
     "status": "completed"
    },
    "tags": []
   },
   "source": [
    "## Project Type Funding Analysis"
   ]
  },
  {
   "cell_type": "markdown",
   "id": "e1880a1f-b47f-4c59-a4fd-cf78d63b1ed0",
   "metadata": {
    "papermill": {
     "duration": 0.032531,
     "end_time": "2022-05-25T19:50:14.656928",
     "exception": false,
     "start_time": "2022-05-25T19:50:14.624397",
     "status": "completed"
    },
    "tags": []
   },
   "source": [
    "### By Organization & Year"
   ]
  },
  {
   "cell_type": "markdown",
   "id": "dca39728-b4d0-4ce2-a6a9-8cfd2e3accbb",
   "metadata": {
    "papermill": {
     "duration": 0.03416,
     "end_time": "2022-05-25T19:50:14.724275",
     "exception": false,
     "start_time": "2022-05-25T19:50:14.690115",
     "status": "completed"
    },
    "tags": []
   },
   "source": [
    "**Sum of Funds Allocated to Organizations by Year (Top 20)**"
   ]
  },
  {
   "cell_type": "code",
   "execution_count": null,
   "id": "feadfe96-7d55-4c11-ad66-53cc03ea7e67",
   "metadata": {
    "papermill": {
     "duration": 0.032912,
     "end_time": "2022-05-25T19:50:14.791615",
     "exception": false,
     "start_time": "2022-05-25T19:50:14.758703",
     "status": "completed"
    },
    "tags": []
   },
   "outputs": [],
   "source": []
  },
  {
   "cell_type": "code",
   "execution_count": 21,
   "id": "096cfb5a-dd90-4cfb-bf81-892b7112921f",
   "metadata": {
    "execution": {
     "iopub.execute_input": "2022-05-25T19:50:14.859419Z",
     "iopub.status.busy": "2022-05-25T19:50:14.859155Z",
     "iopub.status.idle": "2022-05-25T19:50:15.018794Z",
     "shell.execute_reply": "2022-05-25T19:50:15.018001Z"
    },
    "papermill": {
     "duration": 0.196166,
     "end_time": "2022-05-25T19:50:15.020651",
     "exception": false,
     "start_time": "2022-05-25T19:50:14.824485",
     "status": "completed"
    },
    "tags": []
   },
   "outputs": [
    {
     "data": {
      "text/html": [
       "<style type=\"text/css\">\n",
       "#T_38e7f th {\n",
       "  text-align: center;\n",
       "}\n",
       "#T_38e7f_row0_col0, #T_38e7f_row1_col0, #T_38e7f_row2_col0, #T_38e7f_row3_col0, #T_38e7f_row4_col0, #T_38e7f_row5_col0, #T_38e7f_row6_col0, #T_38e7f_row7_col0, #T_38e7f_row8_col0, #T_38e7f_row9_col0, #T_38e7f_row10_col0, #T_38e7f_row11_col0, #T_38e7f_row12_col0, #T_38e7f_row13_col0, #T_38e7f_row14_col0, #T_38e7f_row15_col0, #T_38e7f_row16_col0, #T_38e7f_row17_col0, #T_38e7f_row18_col0, #T_38e7f_row19_col0 {\n",
       "  text-align: center;\n",
       "}\n",
       "#T_38e7f_row0_col2, #T_38e7f_row1_col2, #T_38e7f_row2_col2, #T_38e7f_row3_col2, #T_38e7f_row4_col2, #T_38e7f_row5_col2, #T_38e7f_row6_col2, #T_38e7f_row7_col2, #T_38e7f_row8_col2, #T_38e7f_row9_col2, #T_38e7f_row10_col2, #T_38e7f_row11_col2, #T_38e7f_row12_col2, #T_38e7f_row13_col2, #T_38e7f_row14_col2, #T_38e7f_row15_col2, #T_38e7f_row16_col2, #T_38e7f_row17_col2, #T_38e7f_row18_col2, #T_38e7f_row19_col2 {\n",
       "  text-align: right;\n",
       "}\n",
       "</style>\n",
       "<table id=\"T_38e7f\">\n",
       "  <thead>\n",
       "    <tr>\n",
       "      <th id=\"T_38e7f_level0_col0\" class=\"col_heading level0 col0\" >Organization Name</th>\n",
       "      <th id=\"T_38e7f_level0_col1\" class=\"col_heading level0 col1\" >Project Year</th>\n",
       "      <th id=\"T_38e7f_level0_col2\" class=\"col_heading level0 col2\" >Sum Allocated</th>\n",
       "    </tr>\n",
       "  </thead>\n",
       "  <tbody>\n",
       "    <tr>\n",
       "      <td id=\"T_38e7f_row0_col0\" class=\"data row0 col0\" >United Cerebral Palsy Association of Greater Sacramento Inc</td>\n",
       "      <td id=\"T_38e7f_row0_col1\" class=\"data row0 col1\" >2017</td>\n",
       "      <td id=\"T_38e7f_row0_col2\" class=\"data row0 col2\" >$1,782,550.00</td>\n",
       "    </tr>\n",
       "    <tr>\n",
       "      <td id=\"T_38e7f_row1_col0\" class=\"data row1 col0\" >On Lok Senior Health Services</td>\n",
       "      <td id=\"T_38e7f_row1_col1\" class=\"data row1 col1\" >2019</td>\n",
       "      <td id=\"T_38e7f_row1_col2\" class=\"data row1 col2\" >$1,480,000.00</td>\n",
       "    </tr>\n",
       "    <tr>\n",
       "      <td id=\"T_38e7f_row2_col0\" class=\"data row2 col0\" >Pride Industries One Inc</td>\n",
       "      <td id=\"T_38e7f_row2_col1\" class=\"data row2 col1\" >2019</td>\n",
       "      <td id=\"T_38e7f_row2_col2\" class=\"data row2 col2\" >$1,257,714.00</td>\n",
       "    </tr>\n",
       "    <tr>\n",
       "      <td id=\"T_38e7f_row3_col0\" class=\"data row3 col0\" >Asian Community Center of Sacramento Valley Inc DBA ACC Senior Services</td>\n",
       "      <td id=\"T_38e7f_row3_col1\" class=\"data row3 col1\" >2017</td>\n",
       "      <td id=\"T_38e7f_row3_col2\" class=\"data row3 col2\" >$1,246,128.00</td>\n",
       "    </tr>\n",
       "    <tr>\n",
       "      <td id=\"T_38e7f_row4_col0\" class=\"data row4 col0\" >Mobility Matters</td>\n",
       "      <td id=\"T_38e7f_row4_col1\" class=\"data row4 col1\" >2017</td>\n",
       "      <td id=\"T_38e7f_row4_col2\" class=\"data row4 col2\" >$1,160,438.00</td>\n",
       "    </tr>\n",
       "    <tr>\n",
       "      <td id=\"T_38e7f_row5_col0\" class=\"data row5 col0\" >Friends of Children with Special Needs</td>\n",
       "      <td id=\"T_38e7f_row5_col1\" class=\"data row5 col1\" >2019</td>\n",
       "      <td id=\"T_38e7f_row5_col2\" class=\"data row5 col2\" >$1,152,937.00</td>\n",
       "    </tr>\n",
       "    <tr>\n",
       "      <td id=\"T_38e7f_row6_col0\" class=\"data row6 col0\" >Pride Industries One Inc</td>\n",
       "      <td id=\"T_38e7f_row6_col1\" class=\"data row6 col1\" >2017</td>\n",
       "      <td id=\"T_38e7f_row6_col2\" class=\"data row6 col2\" >$1,135,727.52</td>\n",
       "    </tr>\n",
       "    <tr>\n",
       "      <td id=\"T_38e7f_row7_col0\" class=\"data row7 col0\" >Independent Living Partnership</td>\n",
       "      <td id=\"T_38e7f_row7_col1\" class=\"data row7 col1\" >2017</td>\n",
       "      <td id=\"T_38e7f_row7_col2\" class=\"data row7 col2\" >$1,114,031.00</td>\n",
       "    </tr>\n",
       "    <tr>\n",
       "      <td id=\"T_38e7f_row8_col0\" class=\"data row8 col0\" >ARC Bakersfield</td>\n",
       "      <td id=\"T_38e7f_row8_col1\" class=\"data row8 col1\" >2017</td>\n",
       "      <td id=\"T_38e7f_row8_col2\" class=\"data row8 col2\" >$1,008,340.28</td>\n",
       "    </tr>\n",
       "    <tr>\n",
       "      <td id=\"T_38e7f_row9_col0\" class=\"data row9 col0\" >Marin County Transit District</td>\n",
       "      <td id=\"T_38e7f_row9_col1\" class=\"data row9 col1\" >2017</td>\n",
       "      <td id=\"T_38e7f_row9_col2\" class=\"data row9 col2\" >$1,000,000.00</td>\n",
       "    </tr>\n",
       "    <tr>\n",
       "      <td id=\"T_38e7f_row10_col0\" class=\"data row10 col0\" >Outreach & Escort Inc </td>\n",
       "      <td id=\"T_38e7f_row10_col1\" class=\"data row10 col1\" >2017</td>\n",
       "      <td id=\"T_38e7f_row10_col2\" class=\"data row10 col2\" >$1,000,000.00</td>\n",
       "    </tr>\n",
       "    <tr>\n",
       "      <td id=\"T_38e7f_row11_col0\" class=\"data row11 col0\" >Monterey-Salinas Transit</td>\n",
       "      <td id=\"T_38e7f_row11_col1\" class=\"data row11 col1\" >2017</td>\n",
       "      <td id=\"T_38e7f_row11_col2\" class=\"data row11 col2\" >$980,000.00</td>\n",
       "    </tr>\n",
       "    <tr>\n",
       "      <td id=\"T_38e7f_row12_col0\" class=\"data row12 col0\" >United Cerebral Palsy Association of Greater Sacramento Inc</td>\n",
       "      <td id=\"T_38e7f_row12_col1\" class=\"data row12 col1\" >2019</td>\n",
       "      <td id=\"T_38e7f_row12_col2\" class=\"data row12 col2\" >$941,167.00</td>\n",
       "    </tr>\n",
       "    <tr>\n",
       "      <td id=\"T_38e7f_row13_col0\" class=\"data row13 col0\" >Omnitrans</td>\n",
       "      <td id=\"T_38e7f_row13_col1\" class=\"data row13 col1\" >2017</td>\n",
       "      <td id=\"T_38e7f_row13_col2\" class=\"data row13 col2\" >$884,175.00</td>\n",
       "    </tr>\n",
       "    <tr>\n",
       "      <td id=\"T_38e7f_row14_col0\" class=\"data row14 col0\" >Community Bridges Liftline</td>\n",
       "      <td id=\"T_38e7f_row14_col1\" class=\"data row14 col1\" >2017</td>\n",
       "      <td id=\"T_38e7f_row14_col2\" class=\"data row14 col2\" >$880,013.60</td>\n",
       "    </tr>\n",
       "    <tr>\n",
       "      <td id=\"T_38e7f_row15_col0\" class=\"data row15 col0\" >North of the River Recreation and Park District</td>\n",
       "      <td id=\"T_38e7f_row15_col1\" class=\"data row15 col1\" >2017</td>\n",
       "      <td id=\"T_38e7f_row15_col2\" class=\"data row15 col2\" >$846,738.41</td>\n",
       "    </tr>\n",
       "    <tr>\n",
       "      <td id=\"T_38e7f_row16_col0\" class=\"data row16 col0\" >Peppermint Ridge</td>\n",
       "      <td id=\"T_38e7f_row16_col1\" class=\"data row16 col1\" >2017</td>\n",
       "      <td id=\"T_38e7f_row16_col2\" class=\"data row16 col2\" >$825,000.00</td>\n",
       "    </tr>\n",
       "    <tr>\n",
       "      <td id=\"T_38e7f_row17_col0\" class=\"data row17 col0\" >The Center for Independent Living</td>\n",
       "      <td id=\"T_38e7f_row17_col1\" class=\"data row17 col1\" >2017</td>\n",
       "      <td id=\"T_38e7f_row17_col2\" class=\"data row17 col2\" >$818,960.00</td>\n",
       "    </tr>\n",
       "    <tr>\n",
       "      <td id=\"T_38e7f_row18_col0\" class=\"data row18 col0\" >Vivalon Inc</td>\n",
       "      <td id=\"T_38e7f_row18_col1\" class=\"data row18 col1\" >2017</td>\n",
       "      <td id=\"T_38e7f_row18_col2\" class=\"data row18 col2\" >$812,960.00</td>\n",
       "    </tr>\n",
       "    <tr>\n",
       "      <td id=\"T_38e7f_row19_col0\" class=\"data row19 col0\" >LIFE ElderCare</td>\n",
       "      <td id=\"T_38e7f_row19_col1\" class=\"data row19 col1\" >2017</td>\n",
       "      <td id=\"T_38e7f_row19_col2\" class=\"data row19 col2\" >$802,658.00</td>\n",
       "    </tr>\n",
       "  </tbody>\n",
       "</table>\n"
      ],
      "text/plain": [
       "<IPython.core.display.HTML object>"
      ]
     },
     "metadata": {},
     "output_type": "display_data"
    }
   ],
   "source": [
    "top20_sum = (\n",
    "    df\n",
    "    >> group_by(_.organization_name, _.project_year)\n",
    "    >> summarize(sum_allocated=_.allocationamount.sum())\n",
    "    >> arrange(-_.sum_allocated)\n",
    ").head(20)\n",
    "\n",
    "top20_sum.sum_allocated = top20_sum.sum_allocated.map('${:,.2f}'.format)\n",
    "\n",
    "display(HTML(_dla_utils.pretify_tables2(top20_sum,\"\", \"Sum Allocated\")))"
   ]
  },
  {
   "cell_type": "code",
   "execution_count": null,
   "id": "a302a555-bf7f-43a0-ba2b-993ab516227b",
   "metadata": {
    "papermill": {
     "duration": 0.040279,
     "end_time": "2022-05-25T19:50:15.095653",
     "exception": false,
     "start_time": "2022-05-25T19:50:15.055374",
     "status": "completed"
    },
    "tags": []
   },
   "outputs": [],
   "source": []
  },
  {
   "cell_type": "markdown",
   "id": "5a629816-de99-4132-a6d7-a011a23f2689",
   "metadata": {
    "papermill": {
     "duration": 0.032704,
     "end_time": "2022-05-25T19:50:15.163292",
     "exception": false,
     "start_time": "2022-05-25T19:50:15.130588",
     "status": "completed"
    },
    "tags": []
   },
   "source": [
    "### By Organization & Project Types"
   ]
  },
  {
   "cell_type": "markdown",
   "id": "85a3ad60-e1ed-4e87-b33d-dc8fa9f7e24a",
   "metadata": {
    "papermill": {
     "duration": 0.043343,
     "end_time": "2022-05-25T19:50:15.239942",
     "exception": false,
     "start_time": "2022-05-25T19:50:15.196599",
     "status": "completed"
    },
    "tags": []
   },
   "source": [
    "**Vehicle Purchases**"
   ]
  },
  {
   "cell_type": "code",
   "execution_count": 22,
   "id": "12483656-928b-4731-bae7-93efc5455d6b",
   "metadata": {
    "execution": {
     "iopub.execute_input": "2022-05-25T19:50:15.312946Z",
     "iopub.status.busy": "2022-05-25T19:50:15.312652Z",
     "iopub.status.idle": "2022-05-25T19:50:15.404879Z",
     "shell.execute_reply": "2022-05-25T19:50:15.404138Z"
    },
    "papermill": {
     "duration": 0.129074,
     "end_time": "2022-05-25T19:50:15.406821",
     "exception": false,
     "start_time": "2022-05-25T19:50:15.277747",
     "status": "completed"
    },
    "tags": []
   },
   "outputs": [
    {
     "data": {
      "text/html": [
       "<style type=\"text/css\">\n",
       "#T_6ed73 th {\n",
       "  text-align: center;\n",
       "}\n",
       "#T_6ed73_row0_col0, #T_6ed73_row1_col0, #T_6ed73_row2_col0, #T_6ed73_row3_col0, #T_6ed73_row4_col0, #T_6ed73_row5_col0, #T_6ed73_row6_col0, #T_6ed73_row7_col0, #T_6ed73_row8_col0, #T_6ed73_row9_col0, #T_6ed73_row10_col0, #T_6ed73_row11_col0, #T_6ed73_row12_col0, #T_6ed73_row13_col0, #T_6ed73_row14_col0, #T_6ed73_row15_col0, #T_6ed73_row16_col0, #T_6ed73_row17_col0, #T_6ed73_row18_col0, #T_6ed73_row19_col0 {\n",
       "  text-align: center;\n",
       "}\n",
       "#T_6ed73_row0_col2, #T_6ed73_row1_col2, #T_6ed73_row2_col2, #T_6ed73_row3_col2, #T_6ed73_row4_col2, #T_6ed73_row5_col2, #T_6ed73_row6_col2, #T_6ed73_row7_col2, #T_6ed73_row8_col2, #T_6ed73_row9_col2, #T_6ed73_row10_col2, #T_6ed73_row11_col2, #T_6ed73_row12_col2, #T_6ed73_row13_col2, #T_6ed73_row14_col2, #T_6ed73_row15_col2, #T_6ed73_row16_col2, #T_6ed73_row17_col2, #T_6ed73_row18_col2, #T_6ed73_row19_col2 {\n",
       "  text-align: right;\n",
       "}\n",
       "</style>\n",
       "<table id=\"T_6ed73\">\n",
       "  <thead>\n",
       "    <tr>\n",
       "      <th id=\"T_6ed73_level0_col0\" class=\"col_heading level0 col0\" >Organization Name</th>\n",
       "      <th id=\"T_6ed73_level0_col1\" class=\"col_heading level0 col1\" >Project Year</th>\n",
       "      <th id=\"T_6ed73_level0_col2\" class=\"col_heading level0 col2\" >Sum Allocated</th>\n",
       "    </tr>\n",
       "  </thead>\n",
       "  <tbody>\n",
       "    <tr>\n",
       "      <td id=\"T_6ed73_row0_col0\" class=\"data row0 col0\" >On Lok Senior Health Services</td>\n",
       "      <td id=\"T_6ed73_row0_col1\" class=\"data row0 col1\" >2019</td>\n",
       "      <td id=\"T_6ed73_row0_col2\" class=\"data row0 col2\" >$1,480,000.00</td>\n",
       "    </tr>\n",
       "    <tr>\n",
       "      <td id=\"T_6ed73_row1_col0\" class=\"data row1 col0\" >United Cerebral Palsy Association of Greater Sacramento Inc</td>\n",
       "      <td id=\"T_6ed73_row1_col1\" class=\"data row1 col1\" >2017</td>\n",
       "      <td id=\"T_6ed73_row1_col2\" class=\"data row1 col2\" >$1,449,680.00</td>\n",
       "    </tr>\n",
       "    <tr>\n",
       "      <td id=\"T_6ed73_row2_col0\" class=\"data row2 col0\" >Pride Industries One Inc</td>\n",
       "      <td id=\"T_6ed73_row2_col1\" class=\"data row2 col1\" >2019</td>\n",
       "      <td id=\"T_6ed73_row2_col2\" class=\"data row2 col2\" >$1,209,000.00</td>\n",
       "    </tr>\n",
       "    <tr>\n",
       "      <td id=\"T_6ed73_row3_col0\" class=\"data row3 col0\" >Pride Industries One Inc</td>\n",
       "      <td id=\"T_6ed73_row3_col1\" class=\"data row3 col1\" >2017</td>\n",
       "      <td id=\"T_6ed73_row3_col2\" class=\"data row3 col2\" >$1,135,727.52</td>\n",
       "    </tr>\n",
       "    <tr>\n",
       "      <td id=\"T_6ed73_row4_col0\" class=\"data row4 col0\" >ARC Bakersfield</td>\n",
       "      <td id=\"T_6ed73_row4_col1\" class=\"data row4 col1\" >2017</td>\n",
       "      <td id=\"T_6ed73_row4_col2\" class=\"data row4 col2\" >$1,008,340.28</td>\n",
       "    </tr>\n",
       "    <tr>\n",
       "      <td id=\"T_6ed73_row5_col0\" class=\"data row5 col0\" >Monterey-Salinas Transit</td>\n",
       "      <td id=\"T_6ed73_row5_col1\" class=\"data row5 col1\" >2017</td>\n",
       "      <td id=\"T_6ed73_row5_col2\" class=\"data row5 col2\" >$980,000.00</td>\n",
       "    </tr>\n",
       "    <tr>\n",
       "      <td id=\"T_6ed73_row6_col0\" class=\"data row6 col0\" >United Cerebral Palsy of San Luis Obispo County </td>\n",
       "      <td id=\"T_6ed73_row6_col1\" class=\"data row6 col1\" >2017</td>\n",
       "      <td id=\"T_6ed73_row6_col2\" class=\"data row6 col2\" >$634,000.00</td>\n",
       "    </tr>\n",
       "    <tr>\n",
       "      <td id=\"T_6ed73_row7_col0\" class=\"data row7 col0\" >Asian Community Center of Sacramento Valley Inc DBA ACC Senior Services</td>\n",
       "      <td id=\"T_6ed73_row7_col1\" class=\"data row7 col1\" >2017</td>\n",
       "      <td id=\"T_6ed73_row7_col2\" class=\"data row7 col2\" >$619,600.00</td>\n",
       "    </tr>\n",
       "    <tr>\n",
       "      <td id=\"T_6ed73_row8_col0\" class=\"data row8 col0\" >El Dorado County Transit Authority</td>\n",
       "      <td id=\"T_6ed73_row8_col1\" class=\"data row8 col1\" >2017</td>\n",
       "      <td id=\"T_6ed73_row8_col2\" class=\"data row8 col2\" >$610,000.00</td>\n",
       "    </tr>\n",
       "    <tr>\n",
       "      <td id=\"T_6ed73_row9_col0\" class=\"data row9 col0\" >Institute on Aging </td>\n",
       "      <td id=\"T_6ed73_row9_col1\" class=\"data row9 col1\" >2017</td>\n",
       "      <td id=\"T_6ed73_row9_col2\" class=\"data row9 col2\" >$560,000.00</td>\n",
       "    </tr>\n",
       "    <tr>\n",
       "      <td id=\"T_6ed73_row10_col0\" class=\"data row10 col0\" >Center for Elders' Independence </td>\n",
       "      <td id=\"T_6ed73_row10_col1\" class=\"data row10 col1\" >2019</td>\n",
       "      <td id=\"T_6ed73_row10_col2\" class=\"data row10 col2\" >$536,900.00</td>\n",
       "    </tr>\n",
       "    <tr>\n",
       "      <td id=\"T_6ed73_row11_col0\" class=\"data row11 col0\" >Peppermint Ridge</td>\n",
       "      <td id=\"T_6ed73_row11_col1\" class=\"data row11 col1\" >2017</td>\n",
       "      <td id=\"T_6ed73_row11_col2\" class=\"data row11 col2\" >$525,000.00</td>\n",
       "    </tr>\n",
       "    <tr>\n",
       "      <td id=\"T_6ed73_row12_col0\" class=\"data row12 col0\" >Vivalon Inc</td>\n",
       "      <td id=\"T_6ed73_row12_col1\" class=\"data row12 col1\" >2017</td>\n",
       "      <td id=\"T_6ed73_row12_col2\" class=\"data row12 col2\" >$518,000.00</td>\n",
       "    </tr>\n",
       "    <tr>\n",
       "      <td id=\"T_6ed73_row13_col0\" class=\"data row13 col0\" >Easy Lift Transportation Inc</td>\n",
       "      <td id=\"T_6ed73_row13_col1\" class=\"data row13 col1\" >2017</td>\n",
       "      <td id=\"T_6ed73_row13_col2\" class=\"data row13 col2\" >$514,023.60</td>\n",
       "    </tr>\n",
       "    <tr>\n",
       "      <td id=\"T_6ed73_row14_col0\" class=\"data row14 col0\" >On Lok Senior Health Services</td>\n",
       "      <td id=\"T_6ed73_row14_col1\" class=\"data row14 col1\" >2017</td>\n",
       "      <td id=\"T_6ed73_row14_col2\" class=\"data row14 col2\" >$490,000.00</td>\n",
       "    </tr>\n",
       "    <tr>\n",
       "      <td id=\"T_6ed73_row15_col0\" class=\"data row15 col0\" >Vivalon Inc</td>\n",
       "      <td id=\"T_6ed73_row15_col1\" class=\"data row15 col1\" >2019</td>\n",
       "      <td id=\"T_6ed73_row15_col2\" class=\"data row15 col2\" >$487,200.00</td>\n",
       "    </tr>\n",
       "    <tr>\n",
       "      <td id=\"T_6ed73_row16_col0\" class=\"data row16 col0\" >Kings Rehabilitation Center</td>\n",
       "      <td id=\"T_6ed73_row16_col1\" class=\"data row16 col1\" >2017</td>\n",
       "      <td id=\"T_6ed73_row16_col2\" class=\"data row16 col2\" >$486,972.49</td>\n",
       "    </tr>\n",
       "    <tr>\n",
       "      <td id=\"T_6ed73_row17_col0\" class=\"data row17 col0\" >Omnitrans</td>\n",
       "      <td id=\"T_6ed73_row17_col1\" class=\"data row17 col1\" >2017</td>\n",
       "      <td id=\"T_6ed73_row17_col2\" class=\"data row17 col2\" >$485,000.00</td>\n",
       "    </tr>\n",
       "    <tr>\n",
       "      <td id=\"T_6ed73_row18_col0\" class=\"data row18 col0\" >Monterey-Salinas Transit</td>\n",
       "      <td id=\"T_6ed73_row18_col1\" class=\"data row18 col1\" >2019</td>\n",
       "      <td id=\"T_6ed73_row18_col2\" class=\"data row18 col2\" >$460,200.00</td>\n",
       "    </tr>\n",
       "    <tr>\n",
       "      <td id=\"T_6ed73_row19_col0\" class=\"data row19 col0\" >United Cerebral Palsy Association of Greater Sacramento Inc</td>\n",
       "      <td id=\"T_6ed73_row19_col1\" class=\"data row19 col1\" >2019</td>\n",
       "      <td id=\"T_6ed73_row19_col2\" class=\"data row19 col2\" >$452,000.00</td>\n",
       "    </tr>\n",
       "  </tbody>\n",
       "</table>\n"
      ],
      "text/plain": [
       "<IPython.core.display.HTML object>"
      ]
     },
     "metadata": {},
     "output_type": "display_data"
    }
   ],
   "source": [
    "vp = (df\n",
    " >>filter(_.vehicle_purchase==1)\n",
    " >> group_by(_.organization_name, _.project_year)\n",
    " >> summarize(sum_allocated = _.allocationamount.sum())\n",
    "  >> arrange(-_.sum_allocated)\n",
    ").head(20)\n",
    "\n",
    "# vp = (vp.style.hide(axis='index').format(formatter={(\"sum_allocated\"): \"${:,.2f}\"}))\n",
    "# display(vp)\n",
    "vp.sum_allocated = vp.sum_allocated.map('${:,.2f}'.format)\n",
    "display(HTML(_dla_utils.pretify_tables2(vp,\"\", \"Sum Allocated\")))"
   ]
  },
  {
   "cell_type": "code",
   "execution_count": null,
   "id": "d0587ae2-164f-4951-9be9-80b7562fe8f4",
   "metadata": {
    "papermill": {
     "duration": 0.034578,
     "end_time": "2022-05-25T19:50:15.476072",
     "exception": false,
     "start_time": "2022-05-25T19:50:15.441494",
     "status": "completed"
    },
    "tags": []
   },
   "outputs": [],
   "source": []
  },
  {
   "cell_type": "markdown",
   "id": "87830e4b-9099-402f-b958-737b6880fb8f",
   "metadata": {
    "papermill": {
     "duration": 0.035703,
     "end_time": "2022-05-25T19:50:15.547177",
     "exception": false,
     "start_time": "2022-05-25T19:50:15.511474",
     "status": "completed"
    },
    "tags": []
   },
   "source": [
    "**Operating Assistance**"
   ]
  },
  {
   "cell_type": "code",
   "execution_count": 23,
   "id": "befc8999-b2f6-45b9-92cf-02e5f992896c",
   "metadata": {
    "execution": {
     "iopub.execute_input": "2022-05-25T19:50:15.641374Z",
     "iopub.status.busy": "2022-05-25T19:50:15.640863Z",
     "iopub.status.idle": "2022-05-25T19:50:15.720433Z",
     "shell.execute_reply": "2022-05-25T19:50:15.719675Z"
    },
    "papermill": {
     "duration": 0.120342,
     "end_time": "2022-05-25T19:50:15.722325",
     "exception": false,
     "start_time": "2022-05-25T19:50:15.601983",
     "status": "completed"
    },
    "tags": []
   },
   "outputs": [
    {
     "data": {
      "text/html": [
       "<style type=\"text/css\">\n",
       "#T_0635c th {\n",
       "  text-align: center;\n",
       "}\n",
       "#T_0635c_row0_col0, #T_0635c_row1_col0, #T_0635c_row2_col0, #T_0635c_row3_col0, #T_0635c_row4_col0, #T_0635c_row5_col0, #T_0635c_row6_col0, #T_0635c_row7_col0, #T_0635c_row8_col0, #T_0635c_row9_col0, #T_0635c_row10_col0, #T_0635c_row11_col0, #T_0635c_row12_col0, #T_0635c_row13_col0, #T_0635c_row14_col0, #T_0635c_row15_col0, #T_0635c_row16_col0, #T_0635c_row17_col0, #T_0635c_row18_col0, #T_0635c_row19_col0 {\n",
       "  text-align: center;\n",
       "}\n",
       "#T_0635c_row0_col2, #T_0635c_row1_col2, #T_0635c_row2_col2, #T_0635c_row3_col2, #T_0635c_row4_col2, #T_0635c_row5_col2, #T_0635c_row6_col2, #T_0635c_row7_col2, #T_0635c_row8_col2, #T_0635c_row9_col2, #T_0635c_row10_col2, #T_0635c_row11_col2, #T_0635c_row12_col2, #T_0635c_row13_col2, #T_0635c_row14_col2, #T_0635c_row15_col2, #T_0635c_row16_col2, #T_0635c_row17_col2, #T_0635c_row18_col2, #T_0635c_row19_col2 {\n",
       "  text-align: right;\n",
       "}\n",
       "</style>\n",
       "<table id=\"T_0635c\">\n",
       "  <thead>\n",
       "    <tr>\n",
       "      <th id=\"T_0635c_level0_col0\" class=\"col_heading level0 col0\" >Organization Name</th>\n",
       "      <th id=\"T_0635c_level0_col1\" class=\"col_heading level0 col1\" >Project Year</th>\n",
       "      <th id=\"T_0635c_level0_col2\" class=\"col_heading level0 col2\" >Sum Allocated</th>\n",
       "    </tr>\n",
       "  </thead>\n",
       "  <tbody>\n",
       "    <tr>\n",
       "      <td id=\"T_0635c_row0_col0\" class=\"data row0 col0\" >Independent Living Partnership</td>\n",
       "      <td id=\"T_0635c_row0_col1\" class=\"data row0 col1\" >2017</td>\n",
       "      <td id=\"T_0635c_row0_col2\" class=\"data row0 col2\" >$1,114,031.00</td>\n",
       "    </tr>\n",
       "    <tr>\n",
       "      <td id=\"T_0635c_row1_col0\" class=\"data row1 col0\" >LIFE ElderCare</td>\n",
       "      <td id=\"T_0635c_row1_col1\" class=\"data row1 col1\" >2017</td>\n",
       "      <td id=\"T_0635c_row1_col2\" class=\"data row1 col2\" >$802,658.00</td>\n",
       "    </tr>\n",
       "    <tr>\n",
       "      <td id=\"T_0635c_row2_col0\" class=\"data row2 col0\" >Catholic Charities of the Diocese of Stockton</td>\n",
       "      <td id=\"T_0635c_row2_col1\" class=\"data row2 col1\" >2017</td>\n",
       "      <td id=\"T_0635c_row2_col2\" class=\"data row2 col2\" >$721,986.00</td>\n",
       "    </tr>\n",
       "    <tr>\n",
       "      <td id=\"T_0635c_row3_col0\" class=\"data row3 col0\" >Town of Truckee</td>\n",
       "      <td id=\"T_0635c_row3_col1\" class=\"data row3 col1\" >2017</td>\n",
       "      <td id=\"T_0635c_row3_col2\" class=\"data row3 col2\" >$702,506.00</td>\n",
       "    </tr>\n",
       "    <tr>\n",
       "      <td id=\"T_0635c_row4_col0\" class=\"data row4 col0\" >Marin County Transit District</td>\n",
       "      <td id=\"T_0635c_row4_col1\" class=\"data row4 col1\" >2017</td>\n",
       "      <td id=\"T_0635c_row4_col2\" class=\"data row4 col2\" >$700,000.00</td>\n",
       "    </tr>\n",
       "    <tr>\n",
       "      <td id=\"T_0635c_row5_col0\" class=\"data row5 col0\" >West Valley Community Services</td>\n",
       "      <td id=\"T_0635c_row5_col1\" class=\"data row5 col1\" >2019</td>\n",
       "      <td id=\"T_0635c_row5_col2\" class=\"data row5 col2\" >$649,453.00</td>\n",
       "    </tr>\n",
       "    <tr>\n",
       "      <td id=\"T_0635c_row6_col0\" class=\"data row6 col0\" >Asian Community Center of Sacramento Valley Inc DBA ACC Senior Services</td>\n",
       "      <td id=\"T_0635c_row6_col1\" class=\"data row6 col1\" >2017</td>\n",
       "      <td id=\"T_0635c_row6_col2\" class=\"data row6 col2\" >$624,048.00</td>\n",
       "    </tr>\n",
       "    <tr>\n",
       "      <td id=\"T_0635c_row7_col0\" class=\"data row7 col0\" >Dignity Health Connected Living</td>\n",
       "      <td id=\"T_0635c_row7_col1\" class=\"data row7 col1\" >2017</td>\n",
       "      <td id=\"T_0635c_row7_col2\" class=\"data row7 col2\" >$530,302.00</td>\n",
       "    </tr>\n",
       "    <tr>\n",
       "      <td id=\"T_0635c_row8_col0\" class=\"data row8 col0\" >Community Bridges Liftline</td>\n",
       "      <td id=\"T_0635c_row8_col1\" class=\"data row8 col1\" >2017</td>\n",
       "      <td id=\"T_0635c_row8_col2\" class=\"data row8 col2\" >$475,200.00</td>\n",
       "    </tr>\n",
       "    <tr>\n",
       "      <td id=\"T_0635c_row9_col0\" class=\"data row9 col0\" >United Cerebral Palsy Association of Greater Sacramento Inc</td>\n",
       "      <td id=\"T_0635c_row9_col1\" class=\"data row9 col1\" >2019</td>\n",
       "      <td id=\"T_0635c_row9_col2\" class=\"data row9 col2\" >$467,625.00</td>\n",
       "    </tr>\n",
       "    <tr>\n",
       "      <td id=\"T_0635c_row10_col0\" class=\"data row10 col0\" >Independent Living Partnership</td>\n",
       "      <td id=\"T_0635c_row10_col1\" class=\"data row10 col1\" >2019</td>\n",
       "      <td id=\"T_0635c_row10_col2\" class=\"data row10 col2\" >$465,998.00</td>\n",
       "    </tr>\n",
       "    <tr>\n",
       "      <td id=\"T_0635c_row11_col0\" class=\"data row11 col0\" >Avenidas </td>\n",
       "      <td id=\"T_0635c_row11_col1\" class=\"data row11 col1\" >2017</td>\n",
       "      <td id=\"T_0635c_row11_col2\" class=\"data row11 col2\" >$441,475.00</td>\n",
       "    </tr>\n",
       "    <tr>\n",
       "      <td id=\"T_0635c_row12_col0\" class=\"data row12 col0\" >North of the River Recreation and Park District</td>\n",
       "      <td id=\"T_0635c_row12_col1\" class=\"data row12 col1\" >2017</td>\n",
       "      <td id=\"T_0635c_row12_col2\" class=\"data row12 col2\" >$439,240.00</td>\n",
       "    </tr>\n",
       "    <tr>\n",
       "      <td id=\"T_0635c_row13_col0\" class=\"data row13 col0\" >Community Partners In Caring</td>\n",
       "      <td id=\"T_0635c_row13_col1\" class=\"data row13 col1\" >2017</td>\n",
       "      <td id=\"T_0635c_row13_col2\" class=\"data row13 col2\" >$430,685.00</td>\n",
       "    </tr>\n",
       "    <tr>\n",
       "      <td id=\"T_0635c_row14_col0\" class=\"data row14 col0\" >Outreach & Escort Inc </td>\n",
       "      <td id=\"T_0635c_row14_col1\" class=\"data row14 col1\" >2017</td>\n",
       "      <td id=\"T_0635c_row14_col2\" class=\"data row14 col2\" >$400,000.00</td>\n",
       "    </tr>\n",
       "    <tr>\n",
       "      <td id=\"T_0635c_row15_col0\" class=\"data row15 col0\" >Peninsula Jewish Community Center</td>\n",
       "      <td id=\"T_0635c_row15_col1\" class=\"data row15 col1\" >2017</td>\n",
       "      <td id=\"T_0635c_row15_col2\" class=\"data row15 col2\" >$396,000.00</td>\n",
       "    </tr>\n",
       "    <tr>\n",
       "      <td id=\"T_0635c_row16_col0\" class=\"data row16 col0\" >Mobility Matters</td>\n",
       "      <td id=\"T_0635c_row16_col1\" class=\"data row16 col1\" >2017</td>\n",
       "      <td id=\"T_0635c_row16_col2\" class=\"data row16 col2\" >$395,743.00</td>\n",
       "    </tr>\n",
       "    <tr>\n",
       "      <td id=\"T_0635c_row17_col0\" class=\"data row17 col0\" >County of Sacramento Department of Child Family and Adult Services</td>\n",
       "      <td id=\"T_0635c_row17_col1\" class=\"data row17 col1\" >2017</td>\n",
       "      <td id=\"T_0635c_row17_col2\" class=\"data row17 col2\" >$393,558.00</td>\n",
       "    </tr>\n",
       "    <tr>\n",
       "      <td id=\"T_0635c_row18_col0\" class=\"data row18 col0\" >Friends of Children with Special Needs</td>\n",
       "      <td id=\"T_0635c_row18_col1\" class=\"data row18 col1\" >2017</td>\n",
       "      <td id=\"T_0635c_row18_col2\" class=\"data row18 col2\" >$335,488.00</td>\n",
       "    </tr>\n",
       "    <tr>\n",
       "      <td id=\"T_0635c_row19_col0\" class=\"data row19 col0\" >San Benito County Local Transportation Authority</td>\n",
       "      <td id=\"T_0635c_row19_col1\" class=\"data row19 col1\" >2017</td>\n",
       "      <td id=\"T_0635c_row19_col2\" class=\"data row19 col2\" >$326,400.00</td>\n",
       "    </tr>\n",
       "  </tbody>\n",
       "</table>\n"
      ],
      "text/plain": [
       "<IPython.core.display.HTML object>"
      ]
     },
     "metadata": {},
     "output_type": "display_data"
    }
   ],
   "source": [
    "oa= (df\n",
    " >>filter(_.operating_assistance==1)\n",
    " >> group_by(_.organization_name, _.project_year)\n",
    " >> summarize(sum_allocated = _.allocationamount.sum())\n",
    " >> arrange(-_.sum_allocated)\n",
    ").head(20)\n",
    "\n",
    "\n",
    "oa.sum_allocated = oa.sum_allocated.map('${:,.2f}'.format)\n",
    "display(HTML(_dla_utils.pretify_tables2(oa,\"\", \"Sum Allocated\")))"
   ]
  },
  {
   "cell_type": "code",
   "execution_count": null,
   "id": "57f87a8a-0dd5-4aee-a5d1-b6d048f1f05d",
   "metadata": {
    "papermill": {
     "duration": 0.036109,
     "end_time": "2022-05-25T19:50:15.795813",
     "exception": false,
     "start_time": "2022-05-25T19:50:15.759704",
     "status": "completed"
    },
    "tags": []
   },
   "outputs": [],
   "source": []
  },
  {
   "cell_type": "markdown",
   "id": "49256088-8d0c-4903-848b-ff4e504cc35c",
   "metadata": {
    "papermill": {
     "duration": 0.034275,
     "end_time": "2022-05-25T19:50:15.866166",
     "exception": false,
     "start_time": "2022-05-25T19:50:15.831891",
     "status": "completed"
    },
    "tags": []
   },
   "source": [
    "**Software Purchase**"
   ]
  },
  {
   "cell_type": "code",
   "execution_count": 24,
   "id": "34412ec8-25c4-4bd0-bcf2-b450afb1f74e",
   "metadata": {
    "execution": {
     "iopub.execute_input": "2022-05-25T19:50:15.939883Z",
     "iopub.status.busy": "2022-05-25T19:50:15.939609Z",
     "iopub.status.idle": "2022-05-25T19:50:15.968117Z",
     "shell.execute_reply": "2022-05-25T19:50:15.967510Z"
    },
    "papermill": {
     "duration": 0.067168,
     "end_time": "2022-05-25T19:50:15.969894",
     "exception": false,
     "start_time": "2022-05-25T19:50:15.902726",
     "status": "completed"
    },
    "tags": []
   },
   "outputs": [
    {
     "data": {
      "text/html": [
       "<style type=\"text/css\">\n",
       "#T_c0aeb th {\n",
       "  text-align: center;\n",
       "}\n",
       "#T_c0aeb_row0_col0, #T_c0aeb_row1_col0, #T_c0aeb_row2_col0, #T_c0aeb_row3_col0 {\n",
       "  text-align: center;\n",
       "}\n",
       "#T_c0aeb_row0_col2, #T_c0aeb_row1_col2, #T_c0aeb_row2_col2, #T_c0aeb_row3_col2 {\n",
       "  text-align: right;\n",
       "}\n",
       "</style>\n",
       "<table id=\"T_c0aeb\">\n",
       "  <thead>\n",
       "    <tr>\n",
       "      <th id=\"T_c0aeb_level0_col0\" class=\"col_heading level0 col0\" >Organization Name</th>\n",
       "      <th id=\"T_c0aeb_level0_col1\" class=\"col_heading level0 col1\" >Project Year</th>\n",
       "      <th id=\"T_c0aeb_level0_col2\" class=\"col_heading level0 col2\" >Sum Allocated</th>\n",
       "    </tr>\n",
       "  </thead>\n",
       "  <tbody>\n",
       "    <tr>\n",
       "      <td id=\"T_c0aeb_row0_col0\" class=\"data row0 col0\" >Catholic Charities of the Diocese of Stockton</td>\n",
       "      <td id=\"T_c0aeb_row0_col1\" class=\"data row0 col1\" >2019</td>\n",
       "      <td id=\"T_c0aeb_row0_col2\" class=\"data row0 col2\" >$20,000.00</td>\n",
       "    </tr>\n",
       "    <tr>\n",
       "      <td id=\"T_c0aeb_row1_col0\" class=\"data row1 col0\" >County of Sonoma Human Services Department Adult and Aging Division</td>\n",
       "      <td id=\"T_c0aeb_row1_col1\" class=\"data row1 col1\" >2018</td>\n",
       "      <td id=\"T_c0aeb_row1_col2\" class=\"data row1 col2\" >$10,000.00</td>\n",
       "    </tr>\n",
       "    <tr>\n",
       "      <td id=\"T_c0aeb_row2_col0\" class=\"data row2 col0\" >Asian Community Center of Sacramento Valley Inc DBA ACC Senior Services</td>\n",
       "      <td id=\"T_c0aeb_row2_col1\" class=\"data row2 col1\" >2017</td>\n",
       "      <td id=\"T_c0aeb_row2_col2\" class=\"data row2 col2\" >$0.00</td>\n",
       "    </tr>\n",
       "    <tr>\n",
       "      <td id=\"T_c0aeb_row3_col0\" class=\"data row3 col0\" >Yolo County Transportation District</td>\n",
       "      <td id=\"T_c0aeb_row3_col1\" class=\"data row3 col1\" >2017</td>\n",
       "      <td id=\"T_c0aeb_row3_col2\" class=\"data row3 col2\" >$0.00</td>\n",
       "    </tr>\n",
       "  </tbody>\n",
       "</table>\n"
      ],
      "text/plain": [
       "<IPython.core.display.HTML object>"
      ]
     },
     "metadata": {},
     "output_type": "display_data"
    }
   ],
   "source": [
    "sp = (df\n",
    " >>filter(_.hardware_software_purchase==1)\n",
    " >>filter(_.description.str.contains('Software'))\n",
    " >> group_by(_.organization_name, _.project_year)\n",
    " >> summarize(sum_allocated = _.allocationamount.sum())\n",
    "  >> arrange(-_.sum_allocated)\n",
    ").head(20)\n",
    "\n",
    "sp.sum_allocated = sp.sum_allocated.map('${:,.2f}'.format)\n",
    "display(HTML(_dla_utils.pretify_tables2(sp, \"\", \"Sum Allocated\")))"
   ]
  },
  {
   "cell_type": "code",
   "execution_count": 25,
   "id": "ac0aa2e2-58df-4ea3-904e-9bfb546b5f4e",
   "metadata": {
    "execution": {
     "iopub.execute_input": "2022-05-25T19:50:16.049186Z",
     "iopub.status.busy": "2022-05-25T19:50:16.048437Z",
     "iopub.status.idle": "2022-05-25T19:50:16.076975Z",
     "shell.execute_reply": "2022-05-25T19:50:16.076188Z"
    },
    "papermill": {
     "duration": 0.067309,
     "end_time": "2022-05-25T19:50:16.078927",
     "exception": false,
     "start_time": "2022-05-25T19:50:16.011618",
     "status": "completed"
    },
    "tags": []
   },
   "outputs": [
    {
     "data": {
      "text/html": [
       "<style type=\"text/css\">\n",
       "#T_92782 th {\n",
       "  text-align: center;\n",
       "}\n",
       "#T_92782_row0_col0, #T_92782_row1_col0, #T_92782_row2_col0, #T_92782_row3_col0, #T_92782_row4_col0, #T_92782_row5_col0, #T_92782_row6_col0, #T_92782_row7_col0, #T_92782_row8_col0, #T_92782_row9_col0, #T_92782_row10_col0, #T_92782_row11_col0 {\n",
       "  text-align: center;\n",
       "}\n",
       "#T_92782_row0_col2, #T_92782_row1_col2, #T_92782_row2_col2, #T_92782_row3_col2, #T_92782_row4_col2, #T_92782_row5_col2, #T_92782_row6_col2, #T_92782_row7_col2, #T_92782_row8_col2, #T_92782_row9_col2, #T_92782_row10_col2, #T_92782_row11_col2 {\n",
       "  text-align: right;\n",
       "}\n",
       "</style>\n",
       "<table id=\"T_92782\">\n",
       "  <thead>\n",
       "    <tr>\n",
       "      <th id=\"T_92782_level0_col0\" class=\"col_heading level0 col0\" >Organization Name</th>\n",
       "      <th id=\"T_92782_level0_col1\" class=\"col_heading level0 col1\" >Project Year</th>\n",
       "      <th id=\"T_92782_level0_col2\" class=\"col_heading level0 col2\" >Sum Allocated</th>\n",
       "    </tr>\n",
       "  </thead>\n",
       "  <tbody>\n",
       "    <tr>\n",
       "      <td id=\"T_92782_row0_col0\" class=\"data row0 col0\" >United Cerebral Palsy Association of Greater Sacramento Inc</td>\n",
       "      <td id=\"T_92782_row0_col1\" class=\"data row0 col1\" >2017</td>\n",
       "      <td id=\"T_92782_row0_col2\" class=\"data row0 col2\" >$61,600.00</td>\n",
       "    </tr>\n",
       "    <tr>\n",
       "      <td id=\"T_92782_row1_col0\" class=\"data row1 col0\" >Catholic Charities of the Diocese of Stockton</td>\n",
       "      <td id=\"T_92782_row1_col1\" class=\"data row1 col1\" >2019</td>\n",
       "      <td id=\"T_92782_row1_col2\" class=\"data row1 col2\" >$28,500.00</td>\n",
       "    </tr>\n",
       "    <tr>\n",
       "      <td id=\"T_92782_row2_col0\" class=\"data row2 col0\" >Community Bridges Liftline</td>\n",
       "      <td id=\"T_92782_row2_col1\" class=\"data row2 col1\" >2017</td>\n",
       "      <td id=\"T_92782_row2_col2\" class=\"data row2 col2\" >$17,196.00</td>\n",
       "    </tr>\n",
       "    <tr>\n",
       "      <td id=\"T_92782_row3_col0\" class=\"data row3 col0\" >County of Sonoma Human Services Department Adult and Aging Division</td>\n",
       "      <td id=\"T_92782_row3_col1\" class=\"data row3 col1\" >2018</td>\n",
       "      <td id=\"T_92782_row3_col2\" class=\"data row3 col2\" >$10,000.00</td>\n",
       "    </tr>\n",
       "    <tr>\n",
       "      <td id=\"T_92782_row4_col0\" class=\"data row4 col0\" >Community Bridges Liftline</td>\n",
       "      <td id=\"T_92782_row4_col1\" class=\"data row4 col1\" >2019</td>\n",
       "      <td id=\"T_92782_row4_col2\" class=\"data row4 col2\" >$7,954.00</td>\n",
       "    </tr>\n",
       "    <tr>\n",
       "      <td id=\"T_92782_row5_col0\" class=\"data row5 col0\" >Porterville Sheltered Workshop</td>\n",
       "      <td id=\"T_92782_row5_col1\" class=\"data row5 col1\" >2019</td>\n",
       "      <td id=\"T_92782_row5_col2\" class=\"data row5 col2\" >$7,742.00</td>\n",
       "    </tr>\n",
       "    <tr>\n",
       "      <td id=\"T_92782_row6_col0\" class=\"data row6 col0\" >San Joaquin Regional Transit District</td>\n",
       "      <td id=\"T_92782_row6_col1\" class=\"data row6 col1\" >2017</td>\n",
       "      <td id=\"T_92782_row6_col2\" class=\"data row6 col2\" >$7,571.00</td>\n",
       "    </tr>\n",
       "    <tr>\n",
       "      <td id=\"T_92782_row7_col0\" class=\"data row7 col0\" >Sunline Transit Agency</td>\n",
       "      <td id=\"T_92782_row7_col1\" class=\"data row7 col1\" >2019</td>\n",
       "      <td id=\"T_92782_row7_col2\" class=\"data row7 col2\" >$5,150.00</td>\n",
       "    </tr>\n",
       "    <tr>\n",
       "      <td id=\"T_92782_row8_col0\" class=\"data row8 col0\" >Asian Community Center of Sacramento Valley Inc DBA ACC Senior Services</td>\n",
       "      <td id=\"T_92782_row8_col1\" class=\"data row8 col1\" >2017</td>\n",
       "      <td id=\"T_92782_row8_col2\" class=\"data row8 col2\" >$2,480.00</td>\n",
       "    </tr>\n",
       "    <tr>\n",
       "      <td id=\"T_92782_row9_col0\" class=\"data row9 col0\" >Milestones of Development INC</td>\n",
       "      <td id=\"T_92782_row9_col1\" class=\"data row9 col1\" >2019</td>\n",
       "      <td id=\"T_92782_row9_col2\" class=\"data row9 col2\" >$1,400.00</td>\n",
       "    </tr>\n",
       "    <tr>\n",
       "      <td id=\"T_92782_row10_col0\" class=\"data row10 col0\" >Foothill AIDS Project</td>\n",
       "      <td id=\"T_92782_row10_col1\" class=\"data row10 col1\" >2017</td>\n",
       "      <td id=\"T_92782_row10_col2\" class=\"data row10 col2\" >$1,200.00</td>\n",
       "    </tr>\n",
       "    <tr>\n",
       "      <td id=\"T_92782_row11_col0\" class=\"data row11 col0\" >Yolo County Transportation District</td>\n",
       "      <td id=\"T_92782_row11_col1\" class=\"data row11 col1\" >2017</td>\n",
       "      <td id=\"T_92782_row11_col2\" class=\"data row11 col2\" >$0.00</td>\n",
       "    </tr>\n",
       "  </tbody>\n",
       "</table>\n"
      ],
      "text/plain": [
       "<IPython.core.display.HTML object>"
      ]
     },
     "metadata": {},
     "output_type": "display_data"
    }
   ],
   "source": [
    "hsp = (df\n",
    " >>filter(_.hardware_software_purchase==1)\n",
    " >> group_by(_.organization_name, _.project_year)\n",
    " >> summarize(sum_allocated = _.allocationamount.sum())\n",
    "       >> arrange(-_.sum_allocated)\n",
    ").head(20)\n",
    "\n",
    "hsp.sum_allocated = hsp.sum_allocated.map('${:,.2f}'.format)\n",
    "display(HTML(_dla_utils.pretify_tables2(hsp, \"\", \"Sum Allocated\")))"
   ]
  },
  {
   "cell_type": "code",
   "execution_count": null,
   "id": "4372261e-9d97-420e-87b1-6ea221bf6037",
   "metadata": {
    "papermill": {
     "duration": 0.03654,
     "end_time": "2022-05-25T19:50:16.160104",
     "exception": false,
     "start_time": "2022-05-25T19:50:16.123564",
     "status": "completed"
    },
    "tags": []
   },
   "outputs": [],
   "source": []
  },
  {
   "cell_type": "markdown",
   "id": "84f430d2-3396-475b-a31f-7eacc49fedc0",
   "metadata": {
    "papermill": {
     "duration": 0.036211,
     "end_time": "2022-05-25T19:50:16.233339",
     "exception": false,
     "start_time": "2022-05-25T19:50:16.197128",
     "status": "completed"
    },
    "tags": []
   },
   "source": [
    "### By County"
   ]
  },
  {
   "cell_type": "code",
   "execution_count": 26,
   "id": "4bc4a769-687d-42d8-81df-bfffaaddd55a",
   "metadata": {
    "execution": {
     "iopub.execute_input": "2022-05-25T19:50:16.309304Z",
     "iopub.status.busy": "2022-05-25T19:50:16.308871Z",
     "iopub.status.idle": "2022-05-25T19:50:16.374509Z",
     "shell.execute_reply": "2022-05-25T19:50:16.373594Z"
    },
    "papermill": {
     "duration": 0.115807,
     "end_time": "2022-05-25T19:50:16.387069",
     "exception": false,
     "start_time": "2022-05-25T19:50:16.271262",
     "status": "completed"
    },
    "scrolled": true,
    "tags": []
   },
   "outputs": [
    {
     "data": {
      "text/html": [
       "<style type=\"text/css\">\n",
       "#T_f9b0f th {\n",
       "  text-align: center;\n",
       "}\n",
       "#T_f9b0f_row0_col0, #T_f9b0f_row1_col0, #T_f9b0f_row2_col0, #T_f9b0f_row3_col0, #T_f9b0f_row4_col0, #T_f9b0f_row5_col0, #T_f9b0f_row6_col0, #T_f9b0f_row7_col0, #T_f9b0f_row8_col0, #T_f9b0f_row9_col0, #T_f9b0f_row10_col0, #T_f9b0f_row11_col0, #T_f9b0f_row12_col0, #T_f9b0f_row13_col0, #T_f9b0f_row14_col0, #T_f9b0f_row15_col0, #T_f9b0f_row16_col0, #T_f9b0f_row17_col0, #T_f9b0f_row18_col0, #T_f9b0f_row19_col0, #T_f9b0f_row20_col0, #T_f9b0f_row21_col0, #T_f9b0f_row22_col0, #T_f9b0f_row23_col0, #T_f9b0f_row24_col0, #T_f9b0f_row25_col0, #T_f9b0f_row26_col0, #T_f9b0f_row27_col0, #T_f9b0f_row28_col0, #T_f9b0f_row29_col0, #T_f9b0f_row30_col0, #T_f9b0f_row31_col0, #T_f9b0f_row32_col0, #T_f9b0f_row33_col0, #T_f9b0f_row34_col0, #T_f9b0f_row35_col0, #T_f9b0f_row36_col0, #T_f9b0f_row37_col0, #T_f9b0f_row38_col0, #T_f9b0f_row39_col0, #T_f9b0f_row40_col0, #T_f9b0f_row41_col0, #T_f9b0f_row42_col0, #T_f9b0f_row43_col0, #T_f9b0f_row44_col0, #T_f9b0f_row45_col0, #T_f9b0f_row46_col0, #T_f9b0f_row47_col0, #T_f9b0f_row48_col0, #T_f9b0f_row49_col0, #T_f9b0f_row50_col0, #T_f9b0f_row51_col0, #T_f9b0f_row52_col0, #T_f9b0f_row53_col0, #T_f9b0f_row54_col0, #T_f9b0f_row55_col0, #T_f9b0f_row56_col0, #T_f9b0f_row57_col0, #T_f9b0f_row58_col0 {\n",
       "  text-align: center;\n",
       "}\n",
       "#T_f9b0f_row0_col1, #T_f9b0f_row1_col1, #T_f9b0f_row2_col1, #T_f9b0f_row3_col1, #T_f9b0f_row4_col1, #T_f9b0f_row5_col1, #T_f9b0f_row6_col1, #T_f9b0f_row7_col1, #T_f9b0f_row8_col1, #T_f9b0f_row9_col1, #T_f9b0f_row10_col1, #T_f9b0f_row11_col1, #T_f9b0f_row12_col1, #T_f9b0f_row13_col1, #T_f9b0f_row14_col1, #T_f9b0f_row15_col1, #T_f9b0f_row16_col1, #T_f9b0f_row17_col1, #T_f9b0f_row18_col1, #T_f9b0f_row19_col1, #T_f9b0f_row20_col1, #T_f9b0f_row21_col1, #T_f9b0f_row22_col1, #T_f9b0f_row23_col1, #T_f9b0f_row24_col1, #T_f9b0f_row25_col1, #T_f9b0f_row26_col1, #T_f9b0f_row27_col1, #T_f9b0f_row28_col1, #T_f9b0f_row29_col1, #T_f9b0f_row30_col1, #T_f9b0f_row31_col1, #T_f9b0f_row32_col1, #T_f9b0f_row33_col1, #T_f9b0f_row34_col1, #T_f9b0f_row35_col1, #T_f9b0f_row36_col1, #T_f9b0f_row37_col1, #T_f9b0f_row38_col1, #T_f9b0f_row39_col1, #T_f9b0f_row40_col1, #T_f9b0f_row41_col1, #T_f9b0f_row42_col1, #T_f9b0f_row43_col1, #T_f9b0f_row44_col1, #T_f9b0f_row45_col1, #T_f9b0f_row46_col1, #T_f9b0f_row47_col1, #T_f9b0f_row48_col1, #T_f9b0f_row49_col1, #T_f9b0f_row50_col1, #T_f9b0f_row51_col1, #T_f9b0f_row52_col1, #T_f9b0f_row53_col1, #T_f9b0f_row54_col1, #T_f9b0f_row55_col1, #T_f9b0f_row56_col1, #T_f9b0f_row57_col1, #T_f9b0f_row58_col1 {\n",
       "  text-align: right;\n",
       "}\n",
       "</style>\n",
       "<table id=\"T_f9b0f\">\n",
       "  <thead>\n",
       "    <tr>\n",
       "      <th id=\"T_f9b0f_level0_col0\" class=\"col_heading level0 col0\" >County</th>\n",
       "      <th id=\"T_f9b0f_level0_col1\" class=\"col_heading level0 col1\" >Sum Allocated</th>\n",
       "    </tr>\n",
       "  </thead>\n",
       "  <tbody>\n",
       "    <tr>\n",
       "      <td id=\"T_f9b0f_row0_col0\" class=\"data row0 col0\" >Alameda</td>\n",
       "      <td id=\"T_f9b0f_row0_col1\" class=\"data row0 col1\" >$2,982,664.00</td>\n",
       "    </tr>\n",
       "    <tr>\n",
       "      <td id=\"T_f9b0f_row1_col0\" class=\"data row1 col0\" >Alameda, Contra Costa</td>\n",
       "      <td id=\"T_f9b0f_row1_col1\" class=\"data row1 col1\" >$671,900.00</td>\n",
       "    </tr>\n",
       "    <tr>\n",
       "      <td id=\"T_f9b0f_row2_col0\" class=\"data row2 col0\" >Amador</td>\n",
       "      <td id=\"T_f9b0f_row2_col1\" class=\"data row2 col1\" >$469,995.00</td>\n",
       "    </tr>\n",
       "    <tr>\n",
       "      <td id=\"T_f9b0f_row3_col0\" class=\"data row3 col0\" >Amador, Calaveras</td>\n",
       "      <td id=\"T_f9b0f_row3_col1\" class=\"data row3 col1\" >$299,479.40</td>\n",
       "    </tr>\n",
       "    <tr>\n",
       "      <td id=\"T_f9b0f_row4_col0\" class=\"data row4 col0\" >Butte</td>\n",
       "      <td id=\"T_f9b0f_row4_col1\" class=\"data row4 col1\" >$1,235,790.10</td>\n",
       "    </tr>\n",
       "    <tr>\n",
       "      <td id=\"T_f9b0f_row5_col0\" class=\"data row5 col0\" >Butte, Glen</td>\n",
       "      <td id=\"T_f9b0f_row5_col1\" class=\"data row5 col1\" >$813,194.00</td>\n",
       "    </tr>\n",
       "    <tr>\n",
       "      <td id=\"T_f9b0f_row6_col0\" class=\"data row6 col0\" >Calaveras</td>\n",
       "      <td id=\"T_f9b0f_row6_col1\" class=\"data row6 col1\" >$0.00</td>\n",
       "    </tr>\n",
       "    <tr>\n",
       "      <td id=\"T_f9b0f_row7_col0\" class=\"data row7 col0\" >Calaveras, Amador, Tuolumne</td>\n",
       "      <td id=\"T_f9b0f_row7_col1\" class=\"data row7 col1\" >$826,157.00</td>\n",
       "    </tr>\n",
       "    <tr>\n",
       "      <td id=\"T_f9b0f_row8_col0\" class=\"data row8 col0\" >Colusa</td>\n",
       "      <td id=\"T_f9b0f_row8_col1\" class=\"data row8 col1\" >$162,400.00</td>\n",
       "    </tr>\n",
       "    <tr>\n",
       "      <td id=\"T_f9b0f_row9_col0\" class=\"data row9 col0\" >Contra Costa</td>\n",
       "      <td id=\"T_f9b0f_row9_col1\" class=\"data row9 col1\" >$3,007,198.00</td>\n",
       "    </tr>\n",
       "    <tr>\n",
       "      <td id=\"T_f9b0f_row10_col0\" class=\"data row10 col0\" >Contra Costa, Napa, Solano, Sacramento</td>\n",
       "      <td id=\"T_f9b0f_row10_col1\" class=\"data row10 col1\" >$369,716.00</td>\n",
       "    </tr>\n",
       "    <tr>\n",
       "      <td id=\"T_f9b0f_row11_col0\" class=\"data row11 col0\" >Del Norte</td>\n",
       "      <td id=\"T_f9b0f_row11_col1\" class=\"data row11 col1\" >$132,700.00</td>\n",
       "    </tr>\n",
       "    <tr>\n",
       "      <td id=\"T_f9b0f_row12_col0\" class=\"data row12 col0\" >Douglas, Placer, Washoe, Carson City</td>\n",
       "      <td id=\"T_f9b0f_row12_col1\" class=\"data row12 col1\" >$80,000.00</td>\n",
       "    </tr>\n",
       "    <tr>\n",
       "      <td id=\"T_f9b0f_row13_col0\" class=\"data row13 col0\" >El Dorado</td>\n",
       "      <td id=\"T_f9b0f_row13_col1\" class=\"data row13 col1\" >$666,000.00</td>\n",
       "    </tr>\n",
       "    <tr>\n",
       "      <td id=\"T_f9b0f_row14_col0\" class=\"data row14 col0\" >Humboldt</td>\n",
       "      <td id=\"T_f9b0f_row14_col1\" class=\"data row14 col1\" >$1,133,905.57</td>\n",
       "    </tr>\n",
       "    <tr>\n",
       "      <td id=\"T_f9b0f_row15_col0\" class=\"data row15 col0\" >Humboldt, De Norte</td>\n",
       "      <td id=\"T_f9b0f_row15_col1\" class=\"data row15 col1\" >$146,534.00</td>\n",
       "    </tr>\n",
       "    <tr>\n",
       "      <td id=\"T_f9b0f_row16_col0\" class=\"data row16 col0\" >Imperial</td>\n",
       "      <td id=\"T_f9b0f_row16_col1\" class=\"data row16 col1\" >$1,257,956.00</td>\n",
       "    </tr>\n",
       "    <tr>\n",
       "      <td id=\"T_f9b0f_row17_col0\" class=\"data row17 col0\" >Inyo</td>\n",
       "      <td id=\"T_f9b0f_row17_col1\" class=\"data row17 col1\" >$284,287.00</td>\n",
       "    </tr>\n",
       "    <tr>\n",
       "      <td id=\"T_f9b0f_row18_col0\" class=\"data row18 col0\" >Inyo, Mono</td>\n",
       "      <td id=\"T_f9b0f_row18_col1\" class=\"data row18 col1\" >$72,710.00</td>\n",
       "    </tr>\n",
       "    <tr>\n",
       "      <td id=\"T_f9b0f_row19_col0\" class=\"data row19 col0\" >Kern</td>\n",
       "      <td id=\"T_f9b0f_row19_col1\" class=\"data row19 col1\" >$3,133,432.69</td>\n",
       "    </tr>\n",
       "    <tr>\n",
       "      <td id=\"T_f9b0f_row20_col0\" class=\"data row20 col0\" >Kings</td>\n",
       "      <td id=\"T_f9b0f_row20_col1\" class=\"data row20 col1\" >$879,572.49</td>\n",
       "    </tr>\n",
       "    <tr>\n",
       "      <td id=\"T_f9b0f_row21_col0\" class=\"data row21 col0\" >Lake</td>\n",
       "      <td id=\"T_f9b0f_row21_col1\" class=\"data row21 col1\" >$1,028,208.00</td>\n",
       "    </tr>\n",
       "    <tr>\n",
       "      <td id=\"T_f9b0f_row22_col0\" class=\"data row22 col0\" >Lassen, Modoc</td>\n",
       "      <td id=\"T_f9b0f_row22_col1\" class=\"data row22 col1\" >$63,000.00</td>\n",
       "    </tr>\n",
       "    <tr>\n",
       "      <td id=\"T_f9b0f_row23_col0\" class=\"data row23 col0\" >Marin</td>\n",
       "      <td id=\"T_f9b0f_row23_col1\" class=\"data row23 col1\" >$2,454,160.00</td>\n",
       "    </tr>\n",
       "    <tr>\n",
       "      <td id=\"T_f9b0f_row24_col0\" class=\"data row24 col0\" >Mendocino</td>\n",
       "      <td id=\"T_f9b0f_row24_col1\" class=\"data row24 col1\" >$1,671,032.57</td>\n",
       "    </tr>\n",
       "    <tr>\n",
       "      <td id=\"T_f9b0f_row25_col0\" class=\"data row25 col0\" >Monterey</td>\n",
       "      <td id=\"T_f9b0f_row25_col1\" class=\"data row25 col1\" >$1,440,200.00</td>\n",
       "    </tr>\n",
       "    <tr>\n",
       "      <td id=\"T_f9b0f_row26_col0\" class=\"data row26 col0\" >Monterey, San Mateo, San Benito, Santa Clara, San Francisco</td>\n",
       "      <td id=\"T_f9b0f_row26_col1\" class=\"data row26 col1\" >$1,077,567.60</td>\n",
       "    </tr>\n",
       "    <tr>\n",
       "      <td id=\"T_f9b0f_row27_col0\" class=\"data row27 col0\" >Napa</td>\n",
       "      <td id=\"T_f9b0f_row27_col1\" class=\"data row27 col1\" >$280,000.00</td>\n",
       "    </tr>\n",
       "    <tr>\n",
       "      <td id=\"T_f9b0f_row28_col0\" class=\"data row28 col0\" >Nevada</td>\n",
       "      <td id=\"T_f9b0f_row28_col1\" class=\"data row28 col1\" >$1,153,206.00</td>\n",
       "    </tr>\n",
       "    <tr>\n",
       "      <td id=\"T_f9b0f_row29_col0\" class=\"data row29 col0\" >Nevada, Sierra</td>\n",
       "      <td id=\"T_f9b0f_row29_col1\" class=\"data row29 col1\" >$871,243.00</td>\n",
       "    </tr>\n",
       "    <tr>\n",
       "      <td id=\"T_f9b0f_row30_col0\" class=\"data row30 col0\" >Orange, Los Angeles, Riverside, San Bernardino, Ventura</td>\n",
       "      <td id=\"T_f9b0f_row30_col1\" class=\"data row30 col1\" >$445,941.00</td>\n",
       "    </tr>\n",
       "    <tr>\n",
       "      <td id=\"T_f9b0f_row31_col0\" class=\"data row31 col0\" >Placer</td>\n",
       "      <td id=\"T_f9b0f_row31_col1\" class=\"data row31 col1\" >$2,453,032.41</td>\n",
       "    </tr>\n",
       "    <tr>\n",
       "      <td id=\"T_f9b0f_row32_col0\" class=\"data row32 col0\" >Riverside</td>\n",
       "      <td id=\"T_f9b0f_row32_col1\" class=\"data row32 col1\" >$6,723,401.00</td>\n",
       "    </tr>\n",
       "    <tr>\n",
       "      <td id=\"T_f9b0f_row33_col0\" class=\"data row33 col0\" >Sacramento</td>\n",
       "      <td id=\"T_f9b0f_row33_col1\" class=\"data row33 col1\" >$5,117,233.55</td>\n",
       "    </tr>\n",
       "    <tr>\n",
       "      <td id=\"T_f9b0f_row34_col0\" class=\"data row34 col0\" >San Benito</td>\n",
       "      <td id=\"T_f9b0f_row34_col1\" class=\"data row34 col1\" >$533,600.00</td>\n",
       "    </tr>\n",
       "    <tr>\n",
       "      <td id=\"T_f9b0f_row35_col0\" class=\"data row35 col0\" >San Bernardino</td>\n",
       "      <td id=\"T_f9b0f_row35_col1\" class=\"data row35 col1\" >$3,637,150.00</td>\n",
       "    </tr>\n",
       "    <tr>\n",
       "      <td id=\"T_f9b0f_row36_col0\" class=\"data row36 col0\" >San Bernardino, Riverside, Los Angeles</td>\n",
       "      <td id=\"T_f9b0f_row36_col1\" class=\"data row36 col1\" >$320,411.00</td>\n",
       "    </tr>\n",
       "    <tr>\n",
       "      <td id=\"T_f9b0f_row37_col0\" class=\"data row37 col0\" >San Diego</td>\n",
       "      <td id=\"T_f9b0f_row37_col1\" class=\"data row37 col1\" >$2,077,171.00</td>\n",
       "    </tr>\n",
       "    <tr>\n",
       "      <td id=\"T_f9b0f_row38_col0\" class=\"data row38 col0\" >San Francisco</td>\n",
       "      <td id=\"T_f9b0f_row38_col1\" class=\"data row38 col1\" >$4,537,490.00</td>\n",
       "    </tr>\n",
       "    <tr>\n",
       "      <td id=\"T_f9b0f_row39_col0\" class=\"data row39 col0\" >San Francisco, Alameda, San Mateo, Santa Clara</td>\n",
       "      <td id=\"T_f9b0f_row39_col1\" class=\"data row39 col1\" >$242,098.00</td>\n",
       "    </tr>\n",
       "    <tr>\n",
       "      <td id=\"T_f9b0f_row40_col0\" class=\"data row40 col0\" >San Francisco, San Mateo, Santa Clara</td>\n",
       "      <td id=\"T_f9b0f_row40_col1\" class=\"data row40 col1\" >$876,400.00</td>\n",
       "    </tr>\n",
       "    <tr>\n",
       "      <td id=\"T_f9b0f_row41_col0\" class=\"data row41 col0\" >San Joaquin</td>\n",
       "      <td id=\"T_f9b0f_row41_col1\" class=\"data row41 col1\" >$1,882,471.00</td>\n",
       "    </tr>\n",
       "    <tr>\n",
       "      <td id=\"T_f9b0f_row42_col0\" class=\"data row42 col0\" >San Luis Obispo</td>\n",
       "      <td id=\"T_f9b0f_row42_col1\" class=\"data row42 col1\" >$1,941,324.00</td>\n",
       "    </tr>\n",
       "    <tr>\n",
       "      <td id=\"T_f9b0f_row43_col0\" class=\"data row43 col0\" >San Mateo</td>\n",
       "      <td id=\"T_f9b0f_row43_col1\" class=\"data row43 col1\" >$838,212.52</td>\n",
       "    </tr>\n",
       "    <tr>\n",
       "      <td id=\"T_f9b0f_row44_col0\" class=\"data row44 col0\" >Santa Barbara</td>\n",
       "      <td id=\"T_f9b0f_row44_col1\" class=\"data row44 col1\" >$2,151,408.60</td>\n",
       "    </tr>\n",
       "    <tr>\n",
       "      <td id=\"T_f9b0f_row45_col0\" class=\"data row45 col0\" >Santa Barbara, Monterey, San Luis Obispo</td>\n",
       "      <td id=\"T_f9b0f_row45_col1\" class=\"data row45 col1\" >$375,600.00</td>\n",
       "    </tr>\n",
       "    <tr>\n",
       "      <td id=\"T_f9b0f_row46_col0\" class=\"data row46 col0\" >Santa Clara</td>\n",
       "      <td id=\"T_f9b0f_row46_col1\" class=\"data row46 col1\" >$2,890,663.00</td>\n",
       "    </tr>\n",
       "    <tr>\n",
       "      <td id=\"T_f9b0f_row47_col0\" class=\"data row47 col0\" >Santa Clara, Alameda</td>\n",
       "      <td id=\"T_f9b0f_row47_col1\" class=\"data row47 col1\" >$1,586,425.00</td>\n",
       "    </tr>\n",
       "    <tr>\n",
       "      <td id=\"T_f9b0f_row48_col0\" class=\"data row48 col0\" >Santa Cruz</td>\n",
       "      <td id=\"T_f9b0f_row48_col1\" class=\"data row48 col1\" >$408,304.00</td>\n",
       "    </tr>\n",
       "    <tr>\n",
       "      <td id=\"T_f9b0f_row49_col0\" class=\"data row49 col0\" >Santa Cruz, San Benito, Santa Clara, Monterey</td>\n",
       "      <td id=\"T_f9b0f_row49_col1\" class=\"data row49 col1\" >$390,991.00</td>\n",
       "    </tr>\n",
       "    <tr>\n",
       "      <td id=\"T_f9b0f_row50_col0\" class=\"data row50 col0\" >Shasta</td>\n",
       "      <td id=\"T_f9b0f_row50_col1\" class=\"data row50 col1\" >$874,329.71</td>\n",
       "    </tr>\n",
       "    <tr>\n",
       "      <td id=\"T_f9b0f_row51_col0\" class=\"data row51 col0\" >Solano</td>\n",
       "      <td id=\"T_f9b0f_row51_col1\" class=\"data row51 col1\" >$2,006,537.00</td>\n",
       "    </tr>\n",
       "    <tr>\n",
       "      <td id=\"T_f9b0f_row52_col0\" class=\"data row52 col0\" >Sonoma</td>\n",
       "      <td id=\"T_f9b0f_row52_col1\" class=\"data row52 col1\" >$1,303,586.00</td>\n",
       "    </tr>\n",
       "    <tr>\n",
       "      <td id=\"T_f9b0f_row53_col0\" class=\"data row53 col0\" >Stanislaus</td>\n",
       "      <td id=\"T_f9b0f_row53_col1\" class=\"data row53 col1\" >$692,200.00</td>\n",
       "    </tr>\n",
       "    <tr>\n",
       "      <td id=\"T_f9b0f_row54_col0\" class=\"data row54 col0\" >Tehama</td>\n",
       "      <td id=\"T_f9b0f_row54_col1\" class=\"data row54 col1\" >$747,255.16</td>\n",
       "    </tr>\n",
       "    <tr>\n",
       "      <td id=\"T_f9b0f_row55_col0\" class=\"data row55 col0\" >Tulare</td>\n",
       "      <td id=\"T_f9b0f_row55_col1\" class=\"data row55 col1\" >$1,168,422.13</td>\n",
       "    </tr>\n",
       "    <tr>\n",
       "      <td id=\"T_f9b0f_row56_col0\" class=\"data row56 col0\" >Tuolumne</td>\n",
       "      <td id=\"T_f9b0f_row56_col1\" class=\"data row56 col1\" >$249,377.00</td>\n",
       "    </tr>\n",
       "    <tr>\n",
       "      <td id=\"T_f9b0f_row57_col0\" class=\"data row57 col0\" >Ventura</td>\n",
       "      <td id=\"T_f9b0f_row57_col1\" class=\"data row57 col1\" >$60,000.00</td>\n",
       "    </tr>\n",
       "    <tr>\n",
       "      <td id=\"T_f9b0f_row58_col0\" class=\"data row58 col0\" >Yolo</td>\n",
       "      <td id=\"T_f9b0f_row58_col1\" class=\"data row58 col1\" >$64,426.73</td>\n",
       "    </tr>\n",
       "  </tbody>\n",
       "</table>\n"
      ],
      "text/plain": [
       "<IPython.core.display.HTML object>"
      ]
     },
     "metadata": {},
     "output_type": "display_data"
    }
   ],
   "source": [
    "county = (df\n",
    " >> group_by(_.county)\n",
    " >> summarize(sum_allocated = _.allocationamount.sum())\n",
    ")\n",
    "\n",
    "county.sum_allocated = county.sum_allocated.map('${:,.2f}'.format)\n",
    "display(HTML(_dla_utils.pretify_tables2(county, \"County\", \"Sum Allocated\")))"
   ]
  },
  {
   "cell_type": "code",
   "execution_count": null,
   "id": "1a3835c4-f5d4-4840-9845-995722ecd5c2",
   "metadata": {
    "papermill": {
     "duration": 0.039525,
     "end_time": "2022-05-25T19:50:16.463279",
     "exception": false,
     "start_time": "2022-05-25T19:50:16.423754",
     "status": "completed"
    },
    "tags": []
   },
   "outputs": [],
   "source": []
  }
 ],
 "metadata": {
  "kernelspec": {
   "display_name": "Python 3 (ipykernel)",
   "language": "python",
   "name": "python3"
  },
  "language_info": {
   "codemirror_mode": {
    "name": "ipython",
    "version": 3
   },
   "file_extension": ".py",
   "mimetype": "text/x-python",
   "name": "python",
   "nbconvert_exporter": "python",
   "pygments_lexer": "ipython3",
   "version": "3.9.12"
  },
  "papermill": {
   "default_parameters": {},
   "duration": 16.048863,
   "end_time": "2022-05-25T19:50:17.727841",
   "environment_variables": {},
   "exception": null,
   "input_path": "5310_report_work.ipynb",
   "output_path": "5310_report_output.ipynb",
   "parameters": {},
   "start_time": "2022-05-25T19:50:01.678978",
   "version": "2.3.4"
  },
  "widgets": {
   "application/vnd.jupyter.widget-state+json": {
    "state": {},
    "version_major": 2,
    "version_minor": 0
   }
  }
 },
 "nbformat": 4,
 "nbformat_minor": 5
}