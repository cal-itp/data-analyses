{
 "cells": [
  {
   "cell_type": "markdown",
   "id": "3283b7e9-f056-43d7-aef4-3e5820708aaa",
   "metadata": {
    "papermill": {
     "duration": 0.030713,
     "end_time": "2022-05-20T19:09:11.716509",
     "exception": false,
     "start_time": "2022-05-20T19:09:11.685796",
     "status": "completed"
    },
    "tags": []
   },
   "source": [
    "# Project Types of Interest"
   ]
  },
  {
   "cell_type": "markdown",
   "id": "1987a99b-c650-4e44-823e-e1b3cdda1a98",
   "metadata": {
    "papermill": {
     "duration": 0.026448,
     "end_time": "2022-05-20T19:09:11.768931",
     "exception": false,
     "start_time": "2022-05-20T19:09:11.742483",
     "status": "completed"
    },
    "tags": []
   },
   "source": [
    "## Looking into Organizations with the following project types:\n",
    "*  purchasing wheelchair accessible vehicle\n",
    "* on-demand scheduling \n",
    "* dispatching software platforms"
   ]
  },
  {
   "cell_type": "code",
   "execution_count": 1,
   "id": "e1ebf6aa-4275-44d9-83b5-9b99b7fceb9a",
   "metadata": {
    "execution": {
     "iopub.execute_input": "2022-05-20T19:09:11.828955Z",
     "iopub.status.busy": "2022-05-20T19:09:11.827437Z",
     "iopub.status.idle": "2022-05-20T19:09:11.839697Z",
     "shell.execute_reply": "2022-05-20T19:09:11.838904Z"
    },
    "papermill": {
     "duration": 0.04351,
     "end_time": "2022-05-20T19:09:11.842496",
     "exception": false,
     "start_time": "2022-05-20T19:09:11.798986",
     "status": "completed"
    },
    "tags": []
   },
   "outputs": [],
   "source": [
    "import warnings\n",
    "warnings.filterwarnings('ignore')"
   ]
  },
  {
   "cell_type": "code",
   "execution_count": 2,
   "id": "90a4e032-3017-4279-a7e7-895f292a0168",
   "metadata": {
    "execution": {
     "iopub.execute_input": "2022-05-20T19:09:11.907274Z",
     "iopub.status.busy": "2022-05-20T19:09:11.905730Z",
     "iopub.status.idle": "2022-05-20T19:09:20.450348Z",
     "shell.execute_reply": "2022-05-20T19:09:20.448918Z"
    },
    "papermill": {
     "duration": 8.581664,
     "end_time": "2022-05-20T19:09:20.453720",
     "exception": false,
     "start_time": "2022-05-20T19:09:11.872056",
     "status": "completed"
    },
    "tags": []
   },
   "outputs": [],
   "source": [
    "import pandas as pd\n",
    "from siuba import *\n",
    "import numpy as np\n",
    "\n",
    "import altair as alt\n",
    "\n",
    "from shared_utils import altair_utils\n",
    "from shared_utils import geography_utils\n",
    "from shared_utils import calitp_color_palette as cp\n",
    "from shared_utils import styleguide\n",
    "\n",
    "from calitp import to_snakecase\n",
    "\n",
    "from IPython.display import display, Markdown, HTML"
   ]
  },
  {
   "cell_type": "code",
   "execution_count": 3,
   "id": "cc9496e4-0e66-4cd4-957b-2c1b0ace703b",
   "metadata": {
    "execution": {
     "iopub.execute_input": "2022-05-20T19:09:20.528010Z",
     "iopub.status.busy": "2022-05-20T19:09:20.527037Z",
     "iopub.status.idle": "2022-05-20T19:09:20.550791Z",
     "shell.execute_reply": "2022-05-20T19:09:20.549715Z"
    },
    "papermill": {
     "duration": 0.054799,
     "end_time": "2022-05-20T19:09:20.553354",
     "exception": false,
     "start_time": "2022-05-20T19:09:20.498555",
     "status": "completed"
    },
    "tags": []
   },
   "outputs": [],
   "source": [
    "df = pd.read_csv('5310_info_pt.csv')"
   ]
  },
  {
   "cell_type": "code",
   "execution_count": 4,
   "id": "3250b427-6717-40f6-8be3-4b90aa731313",
   "metadata": {
    "execution": {
     "iopub.execute_input": "2022-05-20T19:09:20.615010Z",
     "iopub.status.busy": "2022-05-20T19:09:20.613805Z",
     "iopub.status.idle": "2022-05-20T19:09:20.780534Z",
     "shell.execute_reply": "2022-05-20T19:09:20.779644Z"
    },
    "papermill": {
     "duration": 0.203467,
     "end_time": "2022-05-20T19:09:20.783075",
     "exception": false,
     "start_time": "2022-05-20T19:09:20.579608",
     "status": "completed"
    },
    "tags": []
   },
   "outputs": [],
   "source": [
    "grouped =pd.read_csv('gs://calitp-analytics-data/data-analyses/5310/5310_org_info_manualfill.csv')"
   ]
  },
  {
   "cell_type": "code",
   "execution_count": 5,
   "id": "88f2dd52-f105-438a-b122-59bbc63fbd1a",
   "metadata": {
    "execution": {
     "iopub.execute_input": "2022-05-20T19:09:20.846383Z",
     "iopub.status.busy": "2022-05-20T19:09:20.845582Z",
     "iopub.status.idle": "2022-05-20T19:09:20.856289Z",
     "shell.execute_reply": "2022-05-20T19:09:20.855509Z"
    },
    "jupyter": {
     "source_hidden": true
    },
    "papermill": {
     "duration": 0.046611,
     "end_time": "2022-05-20T19:09:20.858672",
     "exception": false,
     "start_time": "2022-05-20T19:09:20.812061",
     "status": "completed"
    },
    "tags": []
   },
   "outputs": [],
   "source": [
    "def labeling(word):\n",
    "    LABEL_DICT = {\n",
    "        \"dist\": \"District\",\n",
    "        \"nunique\": \"Number of Unique\",\n",
    "        \"n\":\"Count\",\n",
    "        \"name_NTD_Airtable\":\"Organization Name\"\n",
    "    }\n",
    "\n",
    "    if (word == \"mpo\") or (word == \"rtpa\"):\n",
    "        word = word.upper()\n",
    "    elif word in LABEL_DICT.keys():\n",
    "        word = LABEL_DICT[word]\n",
    "    else:\n",
    "        #word = word.replace(\"n_\", \"Number of \").title()\n",
    "        word = word.replace(\"unique_\", \"Number of Unique \").title()\n",
    "        word = word.replace(\"_\", \" \").title()\n",
    "\n",
    "    return word\n",
    "\n",
    "def bar_chart(df, x_col, y_col, color_col, chart_title=\"\"):\n",
    "\n",
    "    bar = (\n",
    "        alt.Chart(df)\n",
    "        .mark_bar()\n",
    "        .encode(\n",
    "            x=alt.X(x_col, title=labeling(x_col), sort=(\"-y\")),\n",
    "            y=alt.Y(y_col, title=labeling(y_col)),\n",
    "            color=alt.Color(\n",
    "                color_col,\n",
    "                scale=alt.Scale(range=altair_utils.CALITP_CATEGORY_BRIGHT_COLORS),\n",
    "                legend=alt.Legend(title=(labeling(color_col)), symbolLimit=10)\n",
    "            )\n",
    "        ).properties(title=chart_title))\n",
    "    \n",
    "    chart = styleguide.preset_chart_config(bar)\n",
    "    \n",
    "    return chart"
   ]
  },
  {
   "cell_type": "code",
   "execution_count": 6,
   "id": "2c6a684a-a28a-4af3-9e37-dc868b581fff",
   "metadata": {
    "execution": {
     "iopub.execute_input": "2022-05-20T19:09:20.914207Z",
     "iopub.status.busy": "2022-05-20T19:09:20.913143Z",
     "iopub.status.idle": "2022-05-20T19:09:20.952719Z",
     "shell.execute_reply": "2022-05-20T19:09:20.951872Z"
    },
    "papermill": {
     "duration": 0.070653,
     "end_time": "2022-05-20T19:09:20.954770",
     "exception": false,
     "start_time": "2022-05-20T19:09:20.884117",
     "status": "completed"
    },
    "tags": []
   },
   "outputs": [
    {
     "data": {
      "text/html": [
       "\n",
       "<div id=\"altair-viz-25fe9aa121414edb85399382e6e96256\"></div>\n",
       "<script type=\"text/javascript\">\n",
       "  var VEGA_DEBUG = (typeof VEGA_DEBUG == \"undefined\") ? {} : VEGA_DEBUG;\n",
       "  (function(spec, embedOpt){\n",
       "    let outputDiv = document.currentScript.previousElementSibling;\n",
       "    if (outputDiv.id !== \"altair-viz-25fe9aa121414edb85399382e6e96256\") {\n",
       "      outputDiv = document.getElementById(\"altair-viz-25fe9aa121414edb85399382e6e96256\");\n",
       "    }\n",
       "    const paths = {\n",
       "      \"vega\": \"https://cdn.jsdelivr.net/npm//vega@5?noext\",\n",
       "      \"vega-lib\": \"https://cdn.jsdelivr.net/npm//vega-lib?noext\",\n",
       "      \"vega-lite\": \"https://cdn.jsdelivr.net/npm//vega-lite@4.17.0?noext\",\n",
       "      \"vega-embed\": \"https://cdn.jsdelivr.net/npm//vega-embed@6?noext\",\n",
       "    };\n",
       "\n",
       "    function maybeLoadScript(lib, version) {\n",
       "      var key = `${lib.replace(\"-\", \"\")}_version`;\n",
       "      return (VEGA_DEBUG[key] == version) ?\n",
       "        Promise.resolve(paths[lib]) :\n",
       "        new Promise(function(resolve, reject) {\n",
       "          var s = document.createElement('script');\n",
       "          document.getElementsByTagName(\"head\")[0].appendChild(s);\n",
       "          s.async = true;\n",
       "          s.onload = () => {\n",
       "            VEGA_DEBUG[key] = version;\n",
       "            return resolve(paths[lib]);\n",
       "          };\n",
       "          s.onerror = () => reject(`Error loading script: ${paths[lib]}`);\n",
       "          s.src = paths[lib];\n",
       "        });\n",
       "    }\n",
       "\n",
       "    function showError(err) {\n",
       "      outputDiv.innerHTML = `<div class=\"error\" style=\"color:red;\">${err}</div>`;\n",
       "      throw err;\n",
       "    }\n",
       "\n",
       "    function displayChart(vegaEmbed) {\n",
       "      vegaEmbed(outputDiv, spec, embedOpt)\n",
       "        .catch(err => showError(`Javascript Error: ${err.message}<br>This usually means there's a typo in your chart specification. See the javascript console for the full traceback.`));\n",
       "    }\n",
       "\n",
       "    if(typeof define === \"function\" && define.amd) {\n",
       "      requirejs.config({paths});\n",
       "      require([\"vega-embed\"], displayChart, err => showError(`Error loading script: ${err.message}`));\n",
       "    } else {\n",
       "      maybeLoadScript(\"vega\", \"5\")\n",
       "        .then(() => maybeLoadScript(\"vega-lite\", \"4.17.0\"))\n",
       "        .then(() => maybeLoadScript(\"vega-embed\", \"6\"))\n",
       "        .catch(showError)\n",
       "        .then(() => displayChart(vegaEmbed));\n",
       "    }\n",
       "  })({\"config\": {\"view\": {\"continuousWidth\": 400, \"continuousHeight\": 300}, \"axis\": {\"domainColor\": \"#cbcbcb\", \"grid\": true, \"gridColor\": \"#cbcbcb\", \"gridWidth\": 1, \"labelColor\": \"#474747\", \"labelFont\": \"Nunito Sans\", \"labelFontSize\": 10, \"labelPadding\": 4, \"tickColor\": \"#cbcbcb\", \"tickSize\": 10, \"titleColor\": \"#333\", \"titleFont\": \"Raleway\", \"titleFontSize\": 12, \"titlePadding\": 10}, \"axisBand\": {\"grid\": false}, \"background\": \"white\", \"font\": \"Raleway\", \"header\": {\"labelFont\": \"Nunito Sans\", \"titleFont\": \"Raleway\"}, \"legend\": {\"labelColor\": \"#333\", \"labelFont\": \"Nunito Sans\", \"labelFontSize\": 11, \"labelLimit\": 0, \"padding\": 1, \"symbolSize\": 30, \"symbolType\": \"square\", \"titleColor\": \"#333\", \"titleFont\": \"Raleway\", \"titleFontSize\": 14, \"titlePadding\": 10}, \"title\": {\"anchor\": \"middle\", \"font\": \"Raleway\", \"fontSize\": 18, \"fontWeight\": 300, \"offset\": 20}}, \"data\": {\"name\": \"data-a64594febd956212f57f371d3cf36998\"}, \"mark\": \"bar\", \"encoding\": {\"color\": {\"field\": \"organization_type\", \"legend\": {\"symbolLimit\": 10, \"title\": \"Organization Type\"}, \"scale\": {\"range\": [\"#2EA8CE\", \"#EB9F3C\", \"#F4D837\", \"#51BF9D\", \"#8CBCCB\", \"#9487C0\"]}, \"type\": \"nominal\"}, \"x\": {\"field\": \"organization_type\", \"sort\": \"-y\", \"title\": \"Organization Type\", \"type\": \"nominal\"}, \"y\": {\"field\": \"n\", \"title\": \"Count\", \"type\": \"quantitative\"}}, \"height\": 250, \"title\": \"5310 Organization Types\", \"width\": 400, \"$schema\": \"https://vega.github.io/schema/vega-lite/v4.17.0.json\", \"datasets\": {\"data-a64594febd956212f57f371d3cf36998\": [{\"organization_type\": \"City, County or Local Government Unit or Department of Transportation\", \"n\": 12}, {\"organization_type\": \"Company\", \"n\": 4}, {\"organization_type\": \"Independent Agency\", \"n\": 5}, {\"organization_type\": \"Independent Public Agency or Authority of Transit Service\", \"n\": 28}, {\"organization_type\": \"MPO/RTPA\", \"n\": 3}, {\"organization_type\": \"Non-Profit Organization\", \"n\": 90}, {\"organization_type\": \"Other\", \"n\": 3}, {\"organization_type\": \"Private-Non-Profit Corporation\", \"n\": 1}, {\"organization_type\": \"University\", \"n\": 1}]}}, {\"mode\": \"vega-lite\"});\n",
       "</script>"
      ],
      "text/plain": [
       "alt.Chart(...)"
      ]
     },
     "execution_count": 6,
     "metadata": {},
     "output_type": "execute_result"
    }
   ],
   "source": [
    "org_counts= grouped>>count(_.organization_type)\n",
    "bar_chart(org_counts,\n",
    "    \"organization_type\",\n",
    "    \"n\",\n",
    "    \"organization_type\",\n",
    "    \"5310 Organization Types\"\n",
    ")"
   ]
  },
  {
   "cell_type": "code",
   "execution_count": 7,
   "id": "1eade0b4-d58a-49a9-8ea5-da8972691f9c",
   "metadata": {
    "execution": {
     "iopub.execute_input": "2022-05-20T19:09:21.023001Z",
     "iopub.status.busy": "2022-05-20T19:09:21.022013Z",
     "iopub.status.idle": "2022-05-20T19:09:21.054490Z",
     "shell.execute_reply": "2022-05-20T19:09:21.053625Z"
    },
    "papermill": {
     "duration": 0.07397,
     "end_time": "2022-05-20T19:09:21.056486",
     "exception": false,
     "start_time": "2022-05-20T19:09:20.982516",
     "status": "completed"
    },
    "tags": []
   },
   "outputs": [
    {
     "data": {
      "text/html": [
       "\n",
       "<div id=\"altair-viz-b09e5c5e5ae248688e918a97fb12b773\"></div>\n",
       "<script type=\"text/javascript\">\n",
       "  var VEGA_DEBUG = (typeof VEGA_DEBUG == \"undefined\") ? {} : VEGA_DEBUG;\n",
       "  (function(spec, embedOpt){\n",
       "    let outputDiv = document.currentScript.previousElementSibling;\n",
       "    if (outputDiv.id !== \"altair-viz-b09e5c5e5ae248688e918a97fb12b773\") {\n",
       "      outputDiv = document.getElementById(\"altair-viz-b09e5c5e5ae248688e918a97fb12b773\");\n",
       "    }\n",
       "    const paths = {\n",
       "      \"vega\": \"https://cdn.jsdelivr.net/npm//vega@5?noext\",\n",
       "      \"vega-lib\": \"https://cdn.jsdelivr.net/npm//vega-lib?noext\",\n",
       "      \"vega-lite\": \"https://cdn.jsdelivr.net/npm//vega-lite@4.17.0?noext\",\n",
       "      \"vega-embed\": \"https://cdn.jsdelivr.net/npm//vega-embed@6?noext\",\n",
       "    };\n",
       "\n",
       "    function maybeLoadScript(lib, version) {\n",
       "      var key = `${lib.replace(\"-\", \"\")}_version`;\n",
       "      return (VEGA_DEBUG[key] == version) ?\n",
       "        Promise.resolve(paths[lib]) :\n",
       "        new Promise(function(resolve, reject) {\n",
       "          var s = document.createElement('script');\n",
       "          document.getElementsByTagName(\"head\")[0].appendChild(s);\n",
       "          s.async = true;\n",
       "          s.onload = () => {\n",
       "            VEGA_DEBUG[key] = version;\n",
       "            return resolve(paths[lib]);\n",
       "          };\n",
       "          s.onerror = () => reject(`Error loading script: ${paths[lib]}`);\n",
       "          s.src = paths[lib];\n",
       "        });\n",
       "    }\n",
       "\n",
       "    function showError(err) {\n",
       "      outputDiv.innerHTML = `<div class=\"error\" style=\"color:red;\">${err}</div>`;\n",
       "      throw err;\n",
       "    }\n",
       "\n",
       "    function displayChart(vegaEmbed) {\n",
       "      vegaEmbed(outputDiv, spec, embedOpt)\n",
       "        .catch(err => showError(`Javascript Error: ${err.message}<br>This usually means there's a typo in your chart specification. See the javascript console for the full traceback.`));\n",
       "    }\n",
       "\n",
       "    if(typeof define === \"function\" && define.amd) {\n",
       "      requirejs.config({paths});\n",
       "      require([\"vega-embed\"], displayChart, err => showError(`Error loading script: ${err.message}`));\n",
       "    } else {\n",
       "      maybeLoadScript(\"vega\", \"5\")\n",
       "        .then(() => maybeLoadScript(\"vega-lite\", \"4.17.0\"))\n",
       "        .then(() => maybeLoadScript(\"vega-embed\", \"6\"))\n",
       "        .catch(showError)\n",
       "        .then(() => displayChart(vegaEmbed));\n",
       "    }\n",
       "  })({\"config\": {\"view\": {\"continuousWidth\": 400, \"continuousHeight\": 300}, \"axis\": {\"domainColor\": \"#cbcbcb\", \"grid\": true, \"gridColor\": \"#cbcbcb\", \"gridWidth\": 1, \"labelColor\": \"#474747\", \"labelFont\": \"Nunito Sans\", \"labelFontSize\": 10, \"labelPadding\": 4, \"tickColor\": \"#cbcbcb\", \"tickSize\": 10, \"titleColor\": \"#333\", \"titleFont\": \"Raleway\", \"titleFontSize\": 12, \"titlePadding\": 10}, \"axisBand\": {\"grid\": false}, \"background\": \"white\", \"font\": \"Raleway\", \"header\": {\"labelFont\": \"Nunito Sans\", \"titleFont\": \"Raleway\"}, \"legend\": {\"labelColor\": \"#333\", \"labelFont\": \"Nunito Sans\", \"labelFontSize\": 11, \"labelLimit\": 0, \"padding\": 1, \"symbolSize\": 30, \"symbolType\": \"square\", \"titleColor\": \"#333\", \"titleFont\": \"Raleway\", \"titleFontSize\": 14, \"titlePadding\": 10}, \"title\": {\"anchor\": \"middle\", \"font\": \"Raleway\", \"fontSize\": 18, \"fontWeight\": 300, \"offset\": 20}}, \"data\": {\"name\": \"data-811c6713922061ce69ead7e74299d89e\"}, \"mark\": \"bar\", \"encoding\": {\"color\": {\"field\": \"county\", \"legend\": {\"symbolLimit\": 10, \"title\": \"County\"}, \"scale\": {\"range\": [\"#2EA8CE\", \"#EB9F3C\", \"#F4D837\", \"#51BF9D\", \"#8CBCCB\", \"#9487C0\"]}, \"type\": \"nominal\"}, \"x\": {\"field\": \"county\", \"sort\": \"-y\", \"title\": \"County\", \"type\": \"nominal\"}, \"y\": {\"field\": \"n\", \"title\": \"Count\", \"type\": \"quantitative\"}}, \"height\": 250, \"title\": \"Counties with 5310 Organizations (Single County)\", \"width\": 400, \"$schema\": \"https://vega.github.io/schema/vega-lite/v4.17.0.json\", \"datasets\": {\"data-811c6713922061ce69ead7e74299d89e\": [{\"county\": \"Alameda\", \"n\": 29}, {\"county\": \"Amador\", \"n\": 4}, {\"county\": \"Butte\", \"n\": 26}, {\"county\": \"Calaveras\", \"n\": 2}, {\"county\": \"Colusa\", \"n\": 4}, {\"county\": \"Contra Costa\", \"n\": 36}, {\"county\": \"Del Norte\", \"n\": 4}, {\"county\": \"El Dorado\", \"n\": 12}, {\"county\": \"Humboldt\", \"n\": 29}, {\"county\": \"Imperial\", \"n\": 11}, {\"county\": \"Inyo\", \"n\": 10}, {\"county\": \"Kern\", \"n\": 78}, {\"county\": \"Kings\", \"n\": 30}, {\"county\": \"Lake\", \"n\": 8}, {\"county\": \"Marin\", \"n\": 27}, {\"county\": \"Mendocino\", \"n\": 13}, {\"county\": \"Monterey\", \"n\": 26}, {\"county\": \"Napa\", \"n\": 4}, {\"county\": \"Nevada\", \"n\": 12}, {\"county\": \"Placer\", \"n\": 52}, {\"county\": \"Riverside\", \"n\": 84}, {\"county\": \"Sacramento\", \"n\": 80}, {\"county\": \"San Benito\", \"n\": 6}, {\"county\": \"San Bernardino\", \"n\": 41}, {\"county\": \"San Diego\", \"n\": 13}, {\"county\": \"San Francisco\", \"n\": 69}, {\"county\": \"San Joaquin\", \"n\": 30}, {\"county\": \"San Luis Obispo\", \"n\": 51}, {\"county\": \"San Mateo\", \"n\": 6}, {\"county\": \"Santa Barbara\", \"n\": 36}, {\"county\": \"Santa Clara\", \"n\": 19}, {\"county\": \"Santa Cruz\", \"n\": 8}, {\"county\": \"Shasta\", \"n\": 11}, {\"county\": \"Solano\", \"n\": 26}, {\"county\": \"Sonoma\", \"n\": 15}, {\"county\": \"Stanislaus\", \"n\": 16}, {\"county\": \"Tehama\", \"n\": 14}, {\"county\": \"Tulare\", \"n\": 22}, {\"county\": \"Tuolumne\", \"n\": 3}, {\"county\": \"Ventura\", \"n\": 1}, {\"county\": \"Yolo\", \"n\": 6}]}}, {\"mode\": \"vega-lite\"});\n",
       "</script>"
      ],
      "text/plain": [
       "alt.Chart(...)"
      ]
     },
     "execution_count": 7,
     "metadata": {},
     "output_type": "execute_result"
    }
   ],
   "source": [
    "single_county = df[~df[\"county\"].str.contains(\",\", na=False)]\n",
    "bar_chart((single_county>>count(_.county)),\n",
    "    \"county\",\n",
    "    \"n\",\n",
    "    \"county\",\n",
    "    \"Counties with 5310 Organizations (Single County)\"\n",
    ")"
   ]
  },
  {
   "cell_type": "code",
   "execution_count": 8,
   "id": "e6e14fbb-99a1-43ab-adcc-9eab771525aa",
   "metadata": {
    "execution": {
     "iopub.execute_input": "2022-05-20T19:09:21.121753Z",
     "iopub.status.busy": "2022-05-20T19:09:21.121094Z",
     "iopub.status.idle": "2022-05-20T19:09:21.164881Z",
     "shell.execute_reply": "2022-05-20T19:09:21.164004Z"
    },
    "papermill": {
     "duration": 0.083791,
     "end_time": "2022-05-20T19:09:21.167196",
     "exception": false,
     "start_time": "2022-05-20T19:09:21.083405",
     "status": "completed"
    },
    "tags": []
   },
   "outputs": [
    {
     "data": {
      "text/html": [
       "\n",
       "<div id=\"altair-viz-8cd30aca11fe4f129273b5cfbffb2035\"></div>\n",
       "<script type=\"text/javascript\">\n",
       "  var VEGA_DEBUG = (typeof VEGA_DEBUG == \"undefined\") ? {} : VEGA_DEBUG;\n",
       "  (function(spec, embedOpt){\n",
       "    let outputDiv = document.currentScript.previousElementSibling;\n",
       "    if (outputDiv.id !== \"altair-viz-8cd30aca11fe4f129273b5cfbffb2035\") {\n",
       "      outputDiv = document.getElementById(\"altair-viz-8cd30aca11fe4f129273b5cfbffb2035\");\n",
       "    }\n",
       "    const paths = {\n",
       "      \"vega\": \"https://cdn.jsdelivr.net/npm//vega@5?noext\",\n",
       "      \"vega-lib\": \"https://cdn.jsdelivr.net/npm//vega-lib?noext\",\n",
       "      \"vega-lite\": \"https://cdn.jsdelivr.net/npm//vega-lite@4.17.0?noext\",\n",
       "      \"vega-embed\": \"https://cdn.jsdelivr.net/npm//vega-embed@6?noext\",\n",
       "    };\n",
       "\n",
       "    function maybeLoadScript(lib, version) {\n",
       "      var key = `${lib.replace(\"-\", \"\")}_version`;\n",
       "      return (VEGA_DEBUG[key] == version) ?\n",
       "        Promise.resolve(paths[lib]) :\n",
       "        new Promise(function(resolve, reject) {\n",
       "          var s = document.createElement('script');\n",
       "          document.getElementsByTagName(\"head\")[0].appendChild(s);\n",
       "          s.async = true;\n",
       "          s.onload = () => {\n",
       "            VEGA_DEBUG[key] = version;\n",
       "            return resolve(paths[lib]);\n",
       "          };\n",
       "          s.onerror = () => reject(`Error loading script: ${paths[lib]}`);\n",
       "          s.src = paths[lib];\n",
       "        });\n",
       "    }\n",
       "\n",
       "    function showError(err) {\n",
       "      outputDiv.innerHTML = `<div class=\"error\" style=\"color:red;\">${err}</div>`;\n",
       "      throw err;\n",
       "    }\n",
       "\n",
       "    function displayChart(vegaEmbed) {\n",
       "      vegaEmbed(outputDiv, spec, embedOpt)\n",
       "        .catch(err => showError(`Javascript Error: ${err.message}<br>This usually means there's a typo in your chart specification. See the javascript console for the full traceback.`));\n",
       "    }\n",
       "\n",
       "    if(typeof define === \"function\" && define.amd) {\n",
       "      requirejs.config({paths});\n",
       "      require([\"vega-embed\"], displayChart, err => showError(`Error loading script: ${err.message}`));\n",
       "    } else {\n",
       "      maybeLoadScript(\"vega\", \"5\")\n",
       "        .then(() => maybeLoadScript(\"vega-lite\", \"4.17.0\"))\n",
       "        .then(() => maybeLoadScript(\"vega-embed\", \"6\"))\n",
       "        .catch(showError)\n",
       "        .then(() => displayChart(vegaEmbed));\n",
       "    }\n",
       "  })({\"config\": {\"view\": {\"continuousWidth\": 400, \"continuousHeight\": 300}, \"axis\": {\"domainColor\": \"#cbcbcb\", \"grid\": true, \"gridColor\": \"#cbcbcb\", \"gridWidth\": 1, \"labelColor\": \"#474747\", \"labelFont\": \"Nunito Sans\", \"labelFontSize\": 10, \"labelPadding\": 4, \"tickColor\": \"#cbcbcb\", \"tickSize\": 10, \"titleColor\": \"#333\", \"titleFont\": \"Raleway\", \"titleFontSize\": 12, \"titlePadding\": 10}, \"axisBand\": {\"grid\": false}, \"background\": \"white\", \"font\": \"Raleway\", \"header\": {\"labelFont\": \"Nunito Sans\", \"titleFont\": \"Raleway\"}, \"legend\": {\"labelColor\": \"#333\", \"labelFont\": \"Nunito Sans\", \"labelFontSize\": 11, \"labelLimit\": 0, \"padding\": 1, \"symbolSize\": 30, \"symbolType\": \"square\", \"titleColor\": \"#333\", \"titleFont\": \"Raleway\", \"titleFontSize\": 14, \"titlePadding\": 10}, \"title\": {\"anchor\": \"middle\", \"font\": \"Raleway\", \"fontSize\": 18, \"fontWeight\": 300, \"offset\": 20}}, \"data\": {\"name\": \"data-3d2f5442b3540fccf2124d9d9ddae466\"}, \"mark\": \"bar\", \"encoding\": {\"color\": {\"field\": \"county\", \"legend\": {\"symbolLimit\": 10, \"title\": \"County\"}, \"scale\": {\"range\": [\"#2EA8CE\", \"#EB9F3C\", \"#F4D837\", \"#51BF9D\", \"#8CBCCB\", \"#9487C0\"]}, \"type\": \"nominal\"}, \"x\": {\"field\": \"county\", \"sort\": \"-y\", \"title\": \"County\", \"type\": \"nominal\"}, \"y\": {\"field\": \"n\", \"title\": \"Count\", \"type\": \"quantitative\"}}, \"height\": 250, \"title\": \"Counties with 5310 Organizations Operating\", \"width\": 400, \"$schema\": \"https://vega.github.io/schema/vega-lite/v4.17.0.json\", \"datasets\": {\"data-3d2f5442b3540fccf2124d9d9ddae466\": [{\"county\": \"Alameda\", \"n\": 70}, {\"county\": \"Amador\", \"n\": 22}, {\"county\": \"Butte\", \"n\": 29}, {\"county\": \"Calaveras\", \"n\": 20}, {\"county\": \"Carson City\", \"n\": 1}, {\"county\": \"Colusa\", \"n\": 4}, {\"county\": \"Contra Costa\", \"n\": 60}, {\"county\": \"De Norte\", \"n\": 1}, {\"county\": \"Del Norte\", \"n\": 4}, {\"county\": \"Douglas\", \"n\": 1}, {\"county\": \"El Dorado\", \"n\": 12}, {\"county\": \"Glen\", \"n\": 3}, {\"county\": \"Humboldt\", \"n\": 30}, {\"county\": \"Imperial\", \"n\": 11}, {\"county\": \"Inyo\", \"n\": 12}, {\"county\": \"Kern\", \"n\": 78}, {\"county\": \"Kings\", \"n\": 30}, {\"county\": \"Lake\", \"n\": 8}, {\"county\": \"Lassen\", \"n\": 1}, {\"county\": \"Los Angeles\", \"n\": 6}, {\"county\": \"Marin\", \"n\": 27}, {\"county\": \"Mendocino\", \"n\": 13}, {\"county\": \"Modoc\", \"n\": 1}, {\"county\": \"Mono\", \"n\": 2}, {\"county\": \"Monterey\", \"n\": 56}, {\"county\": \"Napa\", \"n\": 9}, {\"county\": \"Nevada\", \"n\": 17}, {\"county\": \"Orange\", \"n\": 2}, {\"county\": \"Placer\", \"n\": 53}, {\"county\": \"Riverside\", \"n\": 90}, {\"county\": \"Sacramento\", \"n\": 85}, {\"county\": \"San Benito\", \"n\": 34}, {\"county\": \"San Bernardino\", \"n\": 47}, {\"county\": \"San Diego\", \"n\": 13}, {\"county\": \"San Francisco\", \"n\": 120}, {\"county\": \"San Joaquin\", \"n\": 30}, {\"county\": \"San Luis Obispo\", \"n\": 53}, {\"county\": \"San Mateo\", \"n\": 57}, {\"county\": \"Santa Barbara\", \"n\": 38}, {\"county\": \"Santa Clara\", \"n\": 86}, {\"county\": \"Santa Cruz\", \"n\": 10}, {\"county\": \"Shasta\", \"n\": 11}, {\"county\": \"Sierra\", \"n\": 5}, {\"county\": \"Solano\", \"n\": 31}, {\"county\": \"Sonoma\", \"n\": 15}, {\"county\": \"Stanislaus\", \"n\": 16}, {\"county\": \"Tehama\", \"n\": 14}, {\"county\": \"Tulare\", \"n\": 22}, {\"county\": \"Tuolumne\", \"n\": 14}, {\"county\": \"Ventura\", \"n\": 3}, {\"county\": \"Washoe\", \"n\": 1}, {\"county\": \"Yolo\", \"n\": 6}]}}, {\"mode\": \"vega-lite\"});\n",
       "</script>"
      ],
      "text/plain": [
       "alt.Chart(...)"
      ]
     },
     "execution_count": 8,
     "metadata": {},
     "output_type": "execute_result"
    }
   ],
   "source": [
    "county_explode = df>>select(_.organization_name, _.ntd_id, _.itp_id, _.organization_type, _.city, _.county, _.merge_status)\n",
    "county_explode.explode('county')\n",
    "\n",
    "county_explode2 = county_explode.assign(county_split = df['county'].str.split(', ')).drop(\"county\", axis=1)\\\n",
    "    .rename(columns = {\"county_split\": \"county\"})\n",
    "county_explode2 = county_explode2.explode('county')\n",
    "\n",
    "bar_chart((county_explode2>>count(_.county)),\n",
    "    \"county\",\n",
    "    \"n\",\n",
    "    \"county\",\n",
    "    \"Counties with 5310 Organizations Operating\"\n",
    ")"
   ]
  },
  {
   "cell_type": "code",
   "execution_count": null,
   "id": "2fc29ca8-4f3b-44e2-adf5-cae0b28ab30c",
   "metadata": {
    "papermill": {
     "duration": 0.029557,
     "end_time": "2022-05-20T19:09:21.230629",
     "exception": false,
     "start_time": "2022-05-20T19:09:21.201072",
     "status": "completed"
    },
    "tags": []
   },
   "outputs": [],
   "source": []
  },
  {
   "cell_type": "code",
   "execution_count": null,
   "id": "61afe2ef-5eac-49fa-8f39-6b90797e70c1",
   "metadata": {
    "papermill": {
     "duration": 0.029884,
     "end_time": "2022-05-20T19:09:21.289701",
     "exception": false,
     "start_time": "2022-05-20T19:09:21.259817",
     "status": "completed"
    },
    "tags": []
   },
   "outputs": [],
   "source": []
  },
  {
   "cell_type": "markdown",
   "id": "729a3a29-97e8-4b27-8315-a5d42e7f4575",
   "metadata": {
    "papermill": {
     "duration": 0.026009,
     "end_time": "2022-05-20T19:09:21.343325",
     "exception": false,
     "start_time": "2022-05-20T19:09:21.317316",
     "status": "completed"
    },
    "tags": []
   },
   "source": [
    "## Project Types"
   ]
  },
  {
   "cell_type": "code",
   "execution_count": 9,
   "id": "91aa7dec-90c0-41e5-93b0-b56e57a3e779",
   "metadata": {
    "execution": {
     "iopub.execute_input": "2022-05-20T19:09:21.405612Z",
     "iopub.status.busy": "2022-05-20T19:09:21.404882Z",
     "iopub.status.idle": "2022-05-20T19:09:21.409269Z",
     "shell.execute_reply": "2022-05-20T19:09:21.408746Z"
    },
    "papermill": {
     "duration": 0.037796,
     "end_time": "2022-05-20T19:09:21.410985",
     "exception": false,
     "start_time": "2022-05-20T19:09:21.373189",
     "status": "completed"
    },
    "tags": []
   },
   "outputs": [],
   "source": [
    "#df.sample()"
   ]
  },
  {
   "cell_type": "code",
   "execution_count": 10,
   "id": "c86d16f7-5006-4d76-b9e9-9f0645a61624",
   "metadata": {
    "execution": {
     "iopub.execute_input": "2022-05-20T19:09:21.467070Z",
     "iopub.status.busy": "2022-05-20T19:09:21.466758Z",
     "iopub.status.idle": "2022-05-20T19:09:21.749695Z",
     "shell.execute_reply": "2022-05-20T19:09:21.749113Z"
    },
    "papermill": {
     "duration": 0.314137,
     "end_time": "2022-05-20T19:09:21.751995",
     "exception": false,
     "start_time": "2022-05-20T19:09:21.437858",
     "status": "completed"
    },
    "tags": []
   },
   "outputs": [],
   "source": [
    "ptype_counts = (df\n",
    " >>group_by(_.organization_name)\n",
    " >>summarize(n_vp = _.vehicle_purchase.sum(), \n",
    "            n_oa = _.operating_assistance.sum(),\n",
    "            n_mm = _.mobility_management.sum(),\n",
    "            n_hsp = _.hardware_software_purchase.sum(),\n",
    "            n_c = _.communications.sum(),\n",
    "            n_fe = _.facilities_eqp.sum(),\n",
    "             n_s = _.surveillance.sum(),\n",
    "             n_sub = _.subsidy.sum()\n",
    "            )\n",
    ")"
   ]
  },
  {
   "cell_type": "code",
   "execution_count": 11,
   "id": "7959f123-155b-4dbe-b615-c01c60184109",
   "metadata": {
    "execution": {
     "iopub.execute_input": "2022-05-20T19:09:21.808672Z",
     "iopub.status.busy": "2022-05-20T19:09:21.807035Z",
     "iopub.status.idle": "2022-05-20T19:09:21.812590Z",
     "shell.execute_reply": "2022-05-20T19:09:21.811821Z"
    },
    "papermill": {
     "duration": 0.036462,
     "end_time": "2022-05-20T19:09:21.814516",
     "exception": false,
     "start_time": "2022-05-20T19:09:21.778054",
     "status": "completed"
    },
    "tags": []
   },
   "outputs": [],
   "source": [
    "#ptype_counts.sample()"
   ]
  },
  {
   "cell_type": "code",
   "execution_count": 12,
   "id": "784c3bd5-0305-404b-bdd9-20722df1baba",
   "metadata": {
    "execution": {
     "iopub.execute_input": "2022-05-20T19:09:21.870365Z",
     "iopub.status.busy": "2022-05-20T19:09:21.870071Z",
     "iopub.status.idle": "2022-05-20T19:09:21.873819Z",
     "shell.execute_reply": "2022-05-20T19:09:21.872977Z"
    },
    "papermill": {
     "duration": 0.034068,
     "end_time": "2022-05-20T19:09:21.875551",
     "exception": false,
     "start_time": "2022-05-20T19:09:21.841483",
     "status": "completed"
    },
    "tags": []
   },
   "outputs": [],
   "source": [
    "# columns = ['n_vp','n_oa','n_mm','n_hsp','n_c','n_fe','n_s','n_sub']\n",
    "\n",
    "# for column in columns: \n",
    "#     ptype_counts.column[ptype_counts[column]> 0] = 1"
   ]
  },
  {
   "cell_type": "code",
   "execution_count": 13,
   "id": "4e6ce43e-0560-4d2e-8fbb-3a283aae968f",
   "metadata": {
    "execution": {
     "iopub.execute_input": "2022-05-20T19:09:21.931786Z",
     "iopub.status.busy": "2022-05-20T19:09:21.931528Z",
     "iopub.status.idle": "2022-05-20T19:09:21.935794Z",
     "shell.execute_reply": "2022-05-20T19:09:21.935276Z"
    },
    "papermill": {
     "duration": 0.034299,
     "end_time": "2022-05-20T19:09:21.937530",
     "exception": false,
     "start_time": "2022-05-20T19:09:21.903231",
     "status": "completed"
    },
    "tags": []
   },
   "outputs": [],
   "source": [
    "#WORKED for getting yes/no present\n",
    "## from https://stackoverflow.com/questions/61996932/replacing-values-greater-1-in-a-large-pandas-dataframe\n",
    "\n",
    "#ptype_counts.set_index('organization_name',inplace=True)\n",
    "#ptype_counts[ptype_counts >= 1] = 'Yes'\n",
    "#ptype_counts.reset_index()"
   ]
  },
  {
   "cell_type": "code",
   "execution_count": 14,
   "id": "fe23427a-0efa-4521-9874-a7ee3fcb998a",
   "metadata": {
    "execution": {
     "iopub.execute_input": "2022-05-20T19:09:21.996802Z",
     "iopub.status.busy": "2022-05-20T19:09:21.993839Z",
     "iopub.status.idle": "2022-05-20T19:09:22.000194Z",
     "shell.execute_reply": "2022-05-20T19:09:21.999680Z"
    },
    "papermill": {
     "duration": 0.036317,
     "end_time": "2022-05-20T19:09:22.001927",
     "exception": false,
     "start_time": "2022-05-20T19:09:21.965610",
     "status": "completed"
    },
    "tags": []
   },
   "outputs": [],
   "source": [
    "#ptype_counts = ptype_counts.replace(0, 'No')"
   ]
  },
  {
   "cell_type": "code",
   "execution_count": 15,
   "id": "f7a63dfc-11a4-4de3-890b-84e4858db4bd",
   "metadata": {
    "execution": {
     "iopub.execute_input": "2022-05-20T19:09:22.058990Z",
     "iopub.status.busy": "2022-05-20T19:09:22.058124Z",
     "iopub.status.idle": "2022-05-20T19:09:22.062221Z",
     "shell.execute_reply": "2022-05-20T19:09:22.061681Z"
    },
    "papermill": {
     "duration": 0.034851,
     "end_time": "2022-05-20T19:09:22.064175",
     "exception": false,
     "start_time": "2022-05-20T19:09:22.029324",
     "status": "completed"
    },
    "tags": []
   },
   "outputs": [],
   "source": [
    "#ptype_counts.to_csv('single_counts_2.csv')"
   ]
  },
  {
   "cell_type": "code",
   "execution_count": 16,
   "id": "dd6f2fcc-789c-4e8b-974b-477d6323f3f3",
   "metadata": {
    "execution": {
     "iopub.execute_input": "2022-05-20T19:09:22.126053Z",
     "iopub.status.busy": "2022-05-20T19:09:22.125723Z",
     "iopub.status.idle": "2022-05-20T19:09:22.130045Z",
     "shell.execute_reply": "2022-05-20T19:09:22.128811Z"
    },
    "jupyter": {
     "source_hidden": true
    },
    "papermill": {
     "duration": 0.0406,
     "end_time": "2022-05-20T19:09:22.132630",
     "exception": false,
     "start_time": "2022-05-20T19:09:22.092030",
     "status": "completed"
    },
    "tags": []
   },
   "outputs": [],
   "source": [
    "# # def project_present(df):\n",
    "# #     columns = ['n_vp','n_oa','n_mm','n_hsp','n_c','n_fe','n_s','n_sub']\n",
    "# #     if df.column != 0:\n",
    "# #         return 1\n",
    "# #     else:\n",
    "# #         return 0\n",
    "\n",
    "# # for column in columns:\n",
    "# #     df[f\"{column}_2\"] = df.apply(lambda x: project_present(x), axis=1)\n",
    "    \n",
    "    \n",
    "    \n",
    "# columns = ['n_vp','n_oa','n_mm','n_hsp','n_c','n_fe','n_s','n_sub']\n",
    "\n",
    "# for column in columns:\n",
    "#     ptype_counts[f\"{column}_2\"] = ptype_counts[column].any(1).astype(int)\n"
   ]
  },
  {
   "cell_type": "code",
   "execution_count": 17,
   "id": "fa90b69d-1c5f-4a72-8708-67a90bbd5e90",
   "metadata": {
    "execution": {
     "iopub.execute_input": "2022-05-20T19:09:22.189697Z",
     "iopub.status.busy": "2022-05-20T19:09:22.189436Z",
     "iopub.status.idle": "2022-05-20T19:09:22.203355Z",
     "shell.execute_reply": "2022-05-20T19:09:22.202371Z"
    },
    "papermill": {
     "duration": 0.04489,
     "end_time": "2022-05-20T19:09:22.205566",
     "exception": false,
     "start_time": "2022-05-20T19:09:22.160676",
     "status": "completed"
    },
    "tags": []
   },
   "outputs": [],
   "source": [
    "ptype_counts.set_index('organization_name',inplace=True)\n",
    "ptype_counts[ptype_counts >= 1] = 1\n",
    "ptype_counts = ptype_counts.reset_index()"
   ]
  },
  {
   "cell_type": "code",
   "execution_count": 18,
   "id": "9397d852-4b68-4714-b6e5-ad836b5d096d",
   "metadata": {
    "execution": {
     "iopub.execute_input": "2022-05-20T19:09:22.264235Z",
     "iopub.status.busy": "2022-05-20T19:09:22.263959Z",
     "iopub.status.idle": "2022-05-20T19:09:22.269958Z",
     "shell.execute_reply": "2022-05-20T19:09:22.269068Z"
    },
    "papermill": {
     "duration": 0.036703,
     "end_time": "2022-05-20T19:09:22.272155",
     "exception": false,
     "start_time": "2022-05-20T19:09:22.235452",
     "status": "completed"
    },
    "tags": []
   },
   "outputs": [],
   "source": [
    "ptype_counts = ptype_counts.rename(\n",
    "    columns={\n",
    "        \"organization_name\": \"Organization Name\",\n",
    "        \"n_vp\": \"Vehicle Purchase\",\n",
    "        \"n_oa\": \"Operating Assistance\",\n",
    "        \"n_mm\": \"Mobility Management\",\n",
    "        \"n_hsp\": \"Hardware/Software Purchase\",\n",
    "        \"n_c\": \"Communications\",\n",
    "        \"n_fe\": \"Facilities Equipment\",\n",
    "        \"n_s\": \"Surveillance\",\n",
    "        \"n_sub\": \"Subsidies\",\n",
    "    }\n",
    ")"
   ]
  },
  {
   "cell_type": "code",
   "execution_count": 19,
   "id": "8eb30ee2-c237-43ef-975a-c5205c4fae23",
   "metadata": {
    "execution": {
     "iopub.execute_input": "2022-05-20T19:09:22.334198Z",
     "iopub.status.busy": "2022-05-20T19:09:22.333375Z",
     "iopub.status.idle": "2022-05-20T19:09:22.357284Z",
     "shell.execute_reply": "2022-05-20T19:09:22.356506Z"
    },
    "papermill": {
     "duration": 0.054298,
     "end_time": "2022-05-20T19:09:22.359187",
     "exception": false,
     "start_time": "2022-05-20T19:09:22.304889",
     "status": "completed"
    },
    "tags": []
   },
   "outputs": [
    {
     "data": {
      "text/html": [
       "\n",
       "<div id=\"altair-viz-30f4ed9b93344733be12ff32fda44c14\"></div>\n",
       "<script type=\"text/javascript\">\n",
       "  var VEGA_DEBUG = (typeof VEGA_DEBUG == \"undefined\") ? {} : VEGA_DEBUG;\n",
       "  (function(spec, embedOpt){\n",
       "    let outputDiv = document.currentScript.previousElementSibling;\n",
       "    if (outputDiv.id !== \"altair-viz-30f4ed9b93344733be12ff32fda44c14\") {\n",
       "      outputDiv = document.getElementById(\"altair-viz-30f4ed9b93344733be12ff32fda44c14\");\n",
       "    }\n",
       "    const paths = {\n",
       "      \"vega\": \"https://cdn.jsdelivr.net/npm//vega@5?noext\",\n",
       "      \"vega-lib\": \"https://cdn.jsdelivr.net/npm//vega-lib?noext\",\n",
       "      \"vega-lite\": \"https://cdn.jsdelivr.net/npm//vega-lite@4.17.0?noext\",\n",
       "      \"vega-embed\": \"https://cdn.jsdelivr.net/npm//vega-embed@6?noext\",\n",
       "    };\n",
       "\n",
       "    function maybeLoadScript(lib, version) {\n",
       "      var key = `${lib.replace(\"-\", \"\")}_version`;\n",
       "      return (VEGA_DEBUG[key] == version) ?\n",
       "        Promise.resolve(paths[lib]) :\n",
       "        new Promise(function(resolve, reject) {\n",
       "          var s = document.createElement('script');\n",
       "          document.getElementsByTagName(\"head\")[0].appendChild(s);\n",
       "          s.async = true;\n",
       "          s.onload = () => {\n",
       "            VEGA_DEBUG[key] = version;\n",
       "            return resolve(paths[lib]);\n",
       "          };\n",
       "          s.onerror = () => reject(`Error loading script: ${paths[lib]}`);\n",
       "          s.src = paths[lib];\n",
       "        });\n",
       "    }\n",
       "\n",
       "    function showError(err) {\n",
       "      outputDiv.innerHTML = `<div class=\"error\" style=\"color:red;\">${err}</div>`;\n",
       "      throw err;\n",
       "    }\n",
       "\n",
       "    function displayChart(vegaEmbed) {\n",
       "      vegaEmbed(outputDiv, spec, embedOpt)\n",
       "        .catch(err => showError(`Javascript Error: ${err.message}<br>This usually means there's a typo in your chart specification. See the javascript console for the full traceback.`));\n",
       "    }\n",
       "\n",
       "    if(typeof define === \"function\" && define.amd) {\n",
       "      requirejs.config({paths});\n",
       "      require([\"vega-embed\"], displayChart, err => showError(`Error loading script: ${err.message}`));\n",
       "    } else {\n",
       "      maybeLoadScript(\"vega\", \"5\")\n",
       "        .then(() => maybeLoadScript(\"vega-lite\", \"4.17.0\"))\n",
       "        .then(() => maybeLoadScript(\"vega-embed\", \"6\"))\n",
       "        .catch(showError)\n",
       "        .then(() => displayChart(vegaEmbed));\n",
       "    }\n",
       "  })({\"config\": {\"view\": {\"continuousWidth\": 400, \"continuousHeight\": 300}, \"axis\": {\"domainColor\": \"#cbcbcb\", \"grid\": true, \"gridColor\": \"#cbcbcb\", \"gridWidth\": 1, \"labelColor\": \"#474747\", \"labelFont\": \"Nunito Sans\", \"labelFontSize\": 10, \"labelPadding\": 4, \"tickColor\": \"#cbcbcb\", \"tickSize\": 10, \"titleColor\": \"#333\", \"titleFont\": \"Raleway\", \"titleFontSize\": 12, \"titlePadding\": 10}, \"axisBand\": {\"grid\": false}, \"background\": \"white\", \"font\": \"Raleway\", \"header\": {\"labelFont\": \"Nunito Sans\", \"titleFont\": \"Raleway\"}, \"legend\": {\"labelColor\": \"#333\", \"labelFont\": \"Nunito Sans\", \"labelFontSize\": 11, \"labelLimit\": 0, \"padding\": 1, \"symbolSize\": 30, \"symbolType\": \"square\", \"titleColor\": \"#333\", \"titleFont\": \"Raleway\", \"titleFontSize\": 14, \"titlePadding\": 10}, \"title\": {\"anchor\": \"middle\", \"font\": \"Raleway\", \"fontSize\": 18, \"fontWeight\": 300, \"offset\": 20}}, \"data\": {\"name\": \"data-2e86ca2ab50e53252d015717e8a08c5c\"}, \"mark\": \"bar\", \"encoding\": {\"color\": {\"field\": \"Project Types\", \"legend\": {\"symbolLimit\": 10, \"title\": \"Project Types\"}, \"scale\": {\"range\": [\"#2EA8CE\", \"#EB9F3C\", \"#F4D837\", \"#51BF9D\", \"#8CBCCB\", \"#9487C0\"]}, \"type\": \"nominal\"}, \"x\": {\"field\": \"Project Types\", \"sort\": \"-y\", \"title\": \"Project Types\", \"type\": \"nominal\"}, \"y\": {\"field\": \"Count\", \"title\": \"Count\", \"type\": \"quantitative\"}}, \"height\": 250, \"title\": \"Number of Organizations using this Project Type\", \"width\": 400, \"$schema\": \"https://vega.github.io/schema/vega-lite/v4.17.0.json\", \"datasets\": {\"data-2e86ca2ab50e53252d015717e8a08c5c\": [{\"Project Types\": \"Vehicle Purchase\", \"Count\": 92}, {\"Project Types\": \"Operating Assistance\", \"Count\": 65}, {\"Project Types\": \"Mobility Management\", \"Count\": 35}, {\"Project Types\": \"Hardware/Software Purchase\", \"Count\": 11}, {\"Project Types\": \"Communications\", \"Count\": 9}, {\"Project Types\": \"Facilities Equipment\", \"Count\": 5}, {\"Project Types\": \"Surveillance\", \"Count\": 4}, {\"Project Types\": \"Subsidies\", \"Count\": 1}]}}, {\"mode\": \"vega-lite\"});\n",
       "</script>"
      ],
      "text/plain": [
       "alt.Chart(...)"
      ]
     },
     "execution_count": 19,
     "metadata": {},
     "output_type": "execute_result"
    }
   ],
   "source": [
    "sum_ptype = ((ptype_counts)\n",
    "               .agg({'Vehicle Purchase':'sum', 'Operating Assistance':'sum',\n",
    "                      'Mobility Management':'sum','Hardware/Software Purchase':'sum','Communications':'sum',\n",
    "                     'Facilities Equipment':'sum', 'Surveillance':'sum', 'Subsidies':'sum'}).reset_index())\n",
    "sum_ptype = sum_ptype.rename(columns = {\"index\":\"Project Types\",0:\"Count\"})\n",
    "bar_chart((sum_ptype),\n",
    "    \"Project Types\",\n",
    "    \"Count\",\n",
    "    \"Project Types\",\n",
    "    \"Number of Organizations using this Project Type\"\n",
    ")"
   ]
  },
  {
   "cell_type": "code",
   "execution_count": null,
   "id": "c2755c2d-6b11-439f-9d19-53fdde67b240",
   "metadata": {
    "papermill": {
     "duration": 0.035646,
     "end_time": "2022-05-20T19:09:22.424211",
     "exception": false,
     "start_time": "2022-05-20T19:09:22.388565",
     "status": "completed"
    },
    "tags": []
   },
   "outputs": [],
   "source": []
  },
  {
   "cell_type": "code",
   "execution_count": 20,
   "id": "4085cea8-a3b3-4796-87c8-3f73fe4f73e0",
   "metadata": {
    "execution": {
     "iopub.execute_input": "2022-05-20T19:09:22.484056Z",
     "iopub.status.busy": "2022-05-20T19:09:22.483204Z",
     "iopub.status.idle": "2022-05-20T19:09:22.601368Z",
     "shell.execute_reply": "2022-05-20T19:09:22.600518Z"
    },
    "papermill": {
     "duration": 0.150517,
     "end_time": "2022-05-20T19:09:22.603948",
     "exception": false,
     "start_time": "2022-05-20T19:09:22.453431",
     "status": "completed"
    },
    "scrolled": true,
    "tags": []
   },
   "outputs": [
    {
     "data": {
      "text/html": [
       "<strong>Organization with Vehicle Purchase Project Types Present</strong>"
      ],
      "text/plain": [
       "<IPython.core.display.HTML object>"
      ]
     },
     "metadata": {},
     "output_type": "display_data"
    },
    {
     "data": {
      "text/html": [
       "<table border=\"1\" class=\"dataframe\">\n",
       "  <thead>\n",
       "    <tr style=\"text-align: right;\">\n",
       "      <th>Organization Name</th>\n",
       "    </tr>\n",
       "  </thead>\n",
       "  <tbody>\n",
       "    <tr>\n",
       "      <td>ARC Bakersfield</td>\n",
       "    </tr>\n",
       "    <tr>\n",
       "      <td>ARC Imperial Valley</td>\n",
       "    </tr>\n",
       "    <tr>\n",
       "      <td>Able Industries</td>\n",
       "    </tr>\n",
       "    <tr>\n",
       "      <td>Alegria Community Living</td>\n",
       "    </tr>\n",
       "    <tr>\n",
       "      <td>Angel View Inc</td>\n",
       "    </tr>\n",
       "    <tr>\n",
       "      <td>Asian Community Center of Sacramento Valley Inc DBA ACC Senior Services</td>\n",
       "    </tr>\n",
       "    <tr>\n",
       "      <td>Avenidas</td>\n",
       "    </tr>\n",
       "    <tr>\n",
       "      <td>Bay Area Outreach &amp; Recreation Program Inc</td>\n",
       "    </tr>\n",
       "    <tr>\n",
       "      <td>Big Valley 50 Plus</td>\n",
       "    </tr>\n",
       "    <tr>\n",
       "      <td>Butte County Association of Governments  Butte Regional Transit</td>\n",
       "    </tr>\n",
       "    <tr>\n",
       "      <td>Calaveras County Public Works</td>\n",
       "    </tr>\n",
       "    <tr>\n",
       "      <td>Care-A-Van Transit Systems Inc</td>\n",
       "    </tr>\n",
       "    <tr>\n",
       "      <td>Casa Allegra Community Services</td>\n",
       "    </tr>\n",
       "    <tr>\n",
       "      <td>Catholic Charities of the Diocese of Stockton</td>\n",
       "    </tr>\n",
       "    <tr>\n",
       "      <td>Center for Elders' Independence</td>\n",
       "    </tr>\n",
       "    <tr>\n",
       "      <td>Choice in Aging</td>\n",
       "    </tr>\n",
       "    <tr>\n",
       "      <td>City of Fontana</td>\n",
       "    </tr>\n",
       "    <tr>\n",
       "      <td>City of Santa Rosa</td>\n",
       "    </tr>\n",
       "    <tr>\n",
       "      <td>Coastal Seniors Inc</td>\n",
       "    </tr>\n",
       "    <tr>\n",
       "      <td>Colusa County Transit Agency</td>\n",
       "    </tr>\n",
       "    <tr>\n",
       "      <td>Common Ground Senior Services</td>\n",
       "    </tr>\n",
       "    <tr>\n",
       "      <td>Community Bridges Liftline</td>\n",
       "    </tr>\n",
       "    <tr>\n",
       "      <td>Consolidated Tribal Health Project Inc</td>\n",
       "    </tr>\n",
       "    <tr>\n",
       "      <td>Contra Costa ARC</td>\n",
       "    </tr>\n",
       "    <tr>\n",
       "      <td>County of Nevada Public Works Transit Services Division</td>\n",
       "    </tr>\n",
       "    <tr>\n",
       "      <td>Delano Association for the Developmentally Disabled Inc</td>\n",
       "    </tr>\n",
       "    <tr>\n",
       "      <td>Desert ARC</td>\n",
       "    </tr>\n",
       "    <tr>\n",
       "      <td>Desert Area Resources and Training</td>\n",
       "    </tr>\n",
       "    <tr>\n",
       "      <td>Dignity Community Care</td>\n",
       "    </tr>\n",
       "    <tr>\n",
       "      <td>Dignity Health Connected Living</td>\n",
       "    </tr>\n",
       "    <tr>\n",
       "      <td>East Bay Services to the Developmentally Disabled</td>\n",
       "    </tr>\n",
       "    <tr>\n",
       "      <td>Eastern Sierra Transit Authority</td>\n",
       "    </tr>\n",
       "    <tr>\n",
       "      <td>Easy Lift Transportation Inc</td>\n",
       "    </tr>\n",
       "    <tr>\n",
       "      <td>El Dorado County Transit Authority</td>\n",
       "    </tr>\n",
       "    <tr>\n",
       "      <td>Family Bridges Inc</td>\n",
       "    </tr>\n",
       "    <tr>\n",
       "      <td>Foothill AIDS Project</td>\n",
       "    </tr>\n",
       "    <tr>\n",
       "      <td>Friends of Adult Day Health Care Centers</td>\n",
       "    </tr>\n",
       "    <tr>\n",
       "      <td>Friends of Children with Special Needs</td>\n",
       "    </tr>\n",
       "    <tr>\n",
       "      <td>Futures Explored Inc</td>\n",
       "    </tr>\n",
       "    <tr>\n",
       "      <td>Golden Rain Foundation of Walnut Creek</td>\n",
       "    </tr>\n",
       "    <tr>\n",
       "      <td>Howard Prep</td>\n",
       "    </tr>\n",
       "    <tr>\n",
       "      <td>Humboldt Medi-Trans</td>\n",
       "    </tr>\n",
       "    <tr>\n",
       "      <td>Humboldt Senior Resource Center</td>\n",
       "    </tr>\n",
       "    <tr>\n",
       "      <td>Humboldt Transit Authority</td>\n",
       "    </tr>\n",
       "    <tr>\n",
       "      <td>Institute on Aging</td>\n",
       "    </tr>\n",
       "    <tr>\n",
       "      <td>Inyo-Mono Association for the Handicapped</td>\n",
       "    </tr>\n",
       "    <tr>\n",
       "      <td>Kimochi Inc</td>\n",
       "    </tr>\n",
       "    <tr>\n",
       "      <td>Kings Rehabilitation Center</td>\n",
       "    </tr>\n",
       "    <tr>\n",
       "      <td>Life Steps Foundation Inc Santa Maria</td>\n",
       "    </tr>\n",
       "    <tr>\n",
       "      <td>Lodi Memorial Hospital Association Inc Adult Day Services</td>\n",
       "    </tr>\n",
       "    <tr>\n",
       "      <td>Loma Linda University Health</td>\n",
       "    </tr>\n",
       "    <tr>\n",
       "      <td>MOVE Stanislaus Transportation</td>\n",
       "    </tr>\n",
       "    <tr>\n",
       "      <td>Milestones of Development INC</td>\n",
       "    </tr>\n",
       "    <tr>\n",
       "      <td>Monterey-Salinas Transit</td>\n",
       "    </tr>\n",
       "    <tr>\n",
       "      <td>Mountain Shadows Support Group</td>\n",
       "    </tr>\n",
       "    <tr>\n",
       "      <td>Napa Valley Transportation Authority</td>\n",
       "    </tr>\n",
       "    <tr>\n",
       "      <td>New Advances for People with Disabilities</td>\n",
       "    </tr>\n",
       "    <tr>\n",
       "      <td>North Valley Services</td>\n",
       "    </tr>\n",
       "    <tr>\n",
       "      <td>North and South of Market Adult Day Health</td>\n",
       "    </tr>\n",
       "    <tr>\n",
       "      <td>North of the River Recreation and Park District</td>\n",
       "    </tr>\n",
       "    <tr>\n",
       "      <td>OPARC</td>\n",
       "    </tr>\n",
       "    <tr>\n",
       "      <td>Omnitrans</td>\n",
       "    </tr>\n",
       "    <tr>\n",
       "      <td>On Lok Senior Health Services</td>\n",
       "    </tr>\n",
       "    <tr>\n",
       "      <td>Pace Solano</td>\n",
       "    </tr>\n",
       "    <tr>\n",
       "      <td>Palo Verde Valley Transit Agency</td>\n",
       "    </tr>\n",
       "    <tr>\n",
       "      <td>Paratransit Services (Red Bluff)</td>\n",
       "    </tr>\n",
       "    <tr>\n",
       "      <td>Peppermint Ridge</td>\n",
       "    </tr>\n",
       "    <tr>\n",
       "      <td>Pomeroy Recreation &amp; Rehabilitation Center</td>\n",
       "    </tr>\n",
       "    <tr>\n",
       "      <td>Porterville Sheltered Workshop</td>\n",
       "    </tr>\n",
       "    <tr>\n",
       "      <td>Pride Industries One Inc</td>\n",
       "    </tr>\n",
       "    <tr>\n",
       "      <td>Redwood Coast Seniors Inc</td>\n",
       "    </tr>\n",
       "    <tr>\n",
       "      <td>Redwood Coast Transit Authority</td>\n",
       "    </tr>\n",
       "    <tr>\n",
       "      <td>Regents of the University of California Santa Cruz</td>\n",
       "    </tr>\n",
       "    <tr>\n",
       "      <td>SAHA</td>\n",
       "    </tr>\n",
       "    <tr>\n",
       "      <td>SMOOTH</td>\n",
       "    </tr>\n",
       "    <tr>\n",
       "      <td>San Benito County Local Transportation Authority</td>\n",
       "    </tr>\n",
       "    <tr>\n",
       "      <td>San Joaquin Regional Transit District</td>\n",
       "    </tr>\n",
       "    <tr>\n",
       "      <td>Self-Help for the Elderly</td>\n",
       "    </tr>\n",
       "    <tr>\n",
       "      <td>Shores of Hope</td>\n",
       "    </tr>\n",
       "    <tr>\n",
       "      <td>Sunline Transit Agency</td>\n",
       "    </tr>\n",
       "    <tr>\n",
       "      <td>The Arc of Amador and Calaveras</td>\n",
       "    </tr>\n",
       "    <tr>\n",
       "      <td>The Respite Inn</td>\n",
       "    </tr>\n",
       "    <tr>\n",
       "      <td>Ukiah Senior Center Inc</td>\n",
       "    </tr>\n",
       "    <tr>\n",
       "      <td>United Cerebral Palsy Association Inc of Stanislaus County</td>\n",
       "    </tr>\n",
       "    <tr>\n",
       "      <td>United Cerebral Palsy Association of Greater Sacramento Inc</td>\n",
       "    </tr>\n",
       "    <tr>\n",
       "      <td>United Cerebral Palsy of San Luis Obispo County</td>\n",
       "    </tr>\n",
       "    <tr>\n",
       "      <td>Valley Achievement Center</td>\n",
       "    </tr>\n",
       "    <tr>\n",
       "      <td>Valley Resource Center</td>\n",
       "    </tr>\n",
       "    <tr>\n",
       "      <td>Victor Valley Community Services Council</td>\n",
       "    </tr>\n",
       "    <tr>\n",
       "      <td>Victor Valley Transit Authority</td>\n",
       "    </tr>\n",
       "    <tr>\n",
       "      <td>Vivalon Inc</td>\n",
       "    </tr>\n",
       "    <tr>\n",
       "      <td>Work Training Center</td>\n",
       "    </tr>\n",
       "  </tbody>\n",
       "</table>"
      ],
      "text/plain": [
       "<IPython.core.display.HTML object>"
      ]
     },
     "metadata": {},
     "output_type": "display_data"
    },
    {
     "data": {
      "text/html": [
       "<strong>Organization with Operating Assistance Project Types Present</strong>"
      ],
      "text/plain": [
       "<IPython.core.display.HTML object>"
      ]
     },
     "metadata": {},
     "output_type": "display_data"
    },
    {
     "data": {
      "text/html": [
       "<table border=\"1\" class=\"dataframe\">\n",
       "  <thead>\n",
       "    <tr style=\"text-align: right;\">\n",
       "      <th>Organization Name</th>\n",
       "    </tr>\n",
       "  </thead>\n",
       "  <tbody>\n",
       "    <tr>\n",
       "      <td>ARC Imperial Valley</td>\n",
       "    </tr>\n",
       "    <tr>\n",
       "      <td>Amador Transit</td>\n",
       "    </tr>\n",
       "    <tr>\n",
       "      <td>Angel View Inc</td>\n",
       "    </tr>\n",
       "    <tr>\n",
       "      <td>Area 1 Agency on Aging</td>\n",
       "    </tr>\n",
       "    <tr>\n",
       "      <td>Asian Community Center of Sacramento Valley Inc DBA ACC Senior Services</td>\n",
       "    </tr>\n",
       "    <tr>\n",
       "      <td>Avenidas</td>\n",
       "    </tr>\n",
       "    <tr>\n",
       "      <td>Catholic Charities of the Diocese of Stockton</td>\n",
       "    </tr>\n",
       "    <tr>\n",
       "      <td>Choice in Aging</td>\n",
       "    </tr>\n",
       "    <tr>\n",
       "      <td>City of Lafayette: Lamorinda Sprit Van Program</td>\n",
       "    </tr>\n",
       "    <tr>\n",
       "      <td>City of Rio Vista</td>\n",
       "    </tr>\n",
       "    <tr>\n",
       "      <td>City of Vista</td>\n",
       "    </tr>\n",
       "    <tr>\n",
       "      <td>Coastal Seniors Inc</td>\n",
       "    </tr>\n",
       "    <tr>\n",
       "      <td>Common Ground Senior Services</td>\n",
       "    </tr>\n",
       "    <tr>\n",
       "      <td>Community Bridges Liftline</td>\n",
       "    </tr>\n",
       "    <tr>\n",
       "      <td>Community Partners In Caring</td>\n",
       "    </tr>\n",
       "    <tr>\n",
       "      <td>Consolidated Tribal Health Project Inc</td>\n",
       "    </tr>\n",
       "    <tr>\n",
       "      <td>County of Sacramento Department of Child Family and Adult Services</td>\n",
       "    </tr>\n",
       "    <tr>\n",
       "      <td>County of Sonoma Human Services Department Adult and Aging Division</td>\n",
       "    </tr>\n",
       "    <tr>\n",
       "      <td>County of Ventura Health Services Agency</td>\n",
       "    </tr>\n",
       "    <tr>\n",
       "      <td>Desert Access and Mobility Inc</td>\n",
       "    </tr>\n",
       "    <tr>\n",
       "      <td>Dignity Community Care</td>\n",
       "    </tr>\n",
       "    <tr>\n",
       "      <td>Dignity Health Connected Living</td>\n",
       "    </tr>\n",
       "    <tr>\n",
       "      <td>Drivers for Survivors Inc</td>\n",
       "    </tr>\n",
       "    <tr>\n",
       "      <td>Eastern Sierra Transit Authority</td>\n",
       "    </tr>\n",
       "    <tr>\n",
       "      <td>Easy Lift Transportation Inc</td>\n",
       "    </tr>\n",
       "    <tr>\n",
       "      <td>ElderHelp of San Diego</td>\n",
       "    </tr>\n",
       "    <tr>\n",
       "      <td>Faith in Action</td>\n",
       "    </tr>\n",
       "    <tr>\n",
       "      <td>Foothill AIDS Project</td>\n",
       "    </tr>\n",
       "    <tr>\n",
       "      <td>Friends of Children with Special Needs</td>\n",
       "    </tr>\n",
       "    <tr>\n",
       "      <td>Humboldt Medi-Trans</td>\n",
       "    </tr>\n",
       "    <tr>\n",
       "      <td>Independent Living Partnership</td>\n",
       "    </tr>\n",
       "    <tr>\n",
       "      <td>LIFE ElderCare</td>\n",
       "    </tr>\n",
       "    <tr>\n",
       "      <td>Lake Links Inc</td>\n",
       "    </tr>\n",
       "    <tr>\n",
       "      <td>Lake Transit Authority</td>\n",
       "    </tr>\n",
       "    <tr>\n",
       "      <td>Lutheran Social Services of Southern California</td>\n",
       "    </tr>\n",
       "    <tr>\n",
       "      <td>Marin County Transit District</td>\n",
       "    </tr>\n",
       "    <tr>\n",
       "      <td>Mental Health Client Action Network (MHCAN)</td>\n",
       "    </tr>\n",
       "    <tr>\n",
       "      <td>Mobility Matters</td>\n",
       "    </tr>\n",
       "    <tr>\n",
       "      <td>Morongo Basin Transit Authority</td>\n",
       "    </tr>\n",
       "    <tr>\n",
       "      <td>NCI Affiliates</td>\n",
       "    </tr>\n",
       "    <tr>\n",
       "      <td>North of the River Recreation and Park District</td>\n",
       "    </tr>\n",
       "    <tr>\n",
       "      <td>OPARC</td>\n",
       "    </tr>\n",
       "    <tr>\n",
       "      <td>Outreach &amp; Escort Inc</td>\n",
       "    </tr>\n",
       "    <tr>\n",
       "      <td>Peninsula Family Service</td>\n",
       "    </tr>\n",
       "    <tr>\n",
       "      <td>Peninsula Jewish Community Center</td>\n",
       "    </tr>\n",
       "    <tr>\n",
       "      <td>Peppermint Ridge</td>\n",
       "    </tr>\n",
       "    <tr>\n",
       "      <td>Pride Industries One Inc</td>\n",
       "    </tr>\n",
       "    <tr>\n",
       "      <td>Reach Out Morongo Basin</td>\n",
       "    </tr>\n",
       "    <tr>\n",
       "      <td>SAHA</td>\n",
       "    </tr>\n",
       "    <tr>\n",
       "      <td>San Benito County Local Transportation Authority</td>\n",
       "    </tr>\n",
       "    <tr>\n",
       "      <td>San Joaquin Regional Transit District</td>\n",
       "    </tr>\n",
       "    <tr>\n",
       "      <td>Seniors Council of Santa Cruz and San Benito Counties</td>\n",
       "    </tr>\n",
       "    <tr>\n",
       "      <td>Shores of Hope</td>\n",
       "    </tr>\n",
       "    <tr>\n",
       "      <td>Sunline Transit Agency</td>\n",
       "    </tr>\n",
       "    <tr>\n",
       "      <td>Tahoe Transportation District</td>\n",
       "    </tr>\n",
       "    <tr>\n",
       "      <td>Tehama County Transit Agency</td>\n",
       "    </tr>\n",
       "    <tr>\n",
       "      <td>The Arc of Amador and Calaveras</td>\n",
       "    </tr>\n",
       "    <tr>\n",
       "      <td>Town of Truckee</td>\n",
       "    </tr>\n",
       "    <tr>\n",
       "      <td>Tuolumne County Transit Agency (TCTA)</td>\n",
       "    </tr>\n",
       "    <tr>\n",
       "      <td>United Cerebral Palsy Association of Greater Sacramento Inc</td>\n",
       "    </tr>\n",
       "    <tr>\n",
       "      <td>Valley Resource Center</td>\n",
       "    </tr>\n",
       "    <tr>\n",
       "      <td>Victor Valley Community Services Council</td>\n",
       "    </tr>\n",
       "    <tr>\n",
       "      <td>Vivalon Inc</td>\n",
       "    </tr>\n",
       "    <tr>\n",
       "      <td>West Valley Community Services</td>\n",
       "    </tr>\n",
       "    <tr>\n",
       "      <td>Wilshire Community Services</td>\n",
       "    </tr>\n",
       "  </tbody>\n",
       "</table>"
      ],
      "text/plain": [
       "<IPython.core.display.HTML object>"
      ]
     },
     "metadata": {},
     "output_type": "display_data"
    },
    {
     "data": {
      "text/html": [
       "<strong>Organization with Mobility Management Project Types Present</strong>"
      ],
      "text/plain": [
       "<IPython.core.display.HTML object>"
      ]
     },
     "metadata": {},
     "output_type": "display_data"
    },
    {
     "data": {
      "text/html": [
       "<table border=\"1\" class=\"dataframe\">\n",
       "  <thead>\n",
       "    <tr style=\"text-align: right;\">\n",
       "      <th>Organization Name</th>\n",
       "    </tr>\n",
       "  </thead>\n",
       "  <tbody>\n",
       "    <tr>\n",
       "      <td>Amador Transit</td>\n",
       "    </tr>\n",
       "    <tr>\n",
       "      <td>Catholic Charities of the Diocese of Stockton</td>\n",
       "    </tr>\n",
       "    <tr>\n",
       "      <td>City of Roseville</td>\n",
       "    </tr>\n",
       "    <tr>\n",
       "      <td>City of Visalia</td>\n",
       "    </tr>\n",
       "    <tr>\n",
       "      <td>Common Ground Senior Services</td>\n",
       "    </tr>\n",
       "    <tr>\n",
       "      <td>Contra Costa Transportation Authority (CCTA)</td>\n",
       "    </tr>\n",
       "    <tr>\n",
       "      <td>County of Sonoma Human Services Department Adult and Aging Division</td>\n",
       "    </tr>\n",
       "    <tr>\n",
       "      <td>Eden I&amp;R INC</td>\n",
       "    </tr>\n",
       "    <tr>\n",
       "      <td>Friends of Children with Special Needs</td>\n",
       "    </tr>\n",
       "    <tr>\n",
       "      <td>Full Access &amp; Coordinated Transportation Inc</td>\n",
       "    </tr>\n",
       "    <tr>\n",
       "      <td>Help Central Inc</td>\n",
       "    </tr>\n",
       "    <tr>\n",
       "      <td>Imperial County Transportation Commission</td>\n",
       "    </tr>\n",
       "    <tr>\n",
       "      <td>Inland Empire United Way</td>\n",
       "    </tr>\n",
       "    <tr>\n",
       "      <td>Lake Links Inc</td>\n",
       "    </tr>\n",
       "    <tr>\n",
       "      <td>Lake Transit Authority</td>\n",
       "    </tr>\n",
       "    <tr>\n",
       "      <td>Lighthouse for the Blind and Visually Impaired</td>\n",
       "    </tr>\n",
       "    <tr>\n",
       "      <td>Livermore Amador Valley Transit Authority</td>\n",
       "    </tr>\n",
       "    <tr>\n",
       "      <td>Marin County Transit District</td>\n",
       "    </tr>\n",
       "    <tr>\n",
       "      <td>Mendocino Transit Authority</td>\n",
       "    </tr>\n",
       "    <tr>\n",
       "      <td>Mental Health Client Action Network (MHCAN)</td>\n",
       "    </tr>\n",
       "    <tr>\n",
       "      <td>Metropolitan Transportation Commission</td>\n",
       "    </tr>\n",
       "    <tr>\n",
       "      <td>Mobility Matters</td>\n",
       "    </tr>\n",
       "    <tr>\n",
       "      <td>Nevada-Sierra Connecting Point Public Authority</td>\n",
       "    </tr>\n",
       "    <tr>\n",
       "      <td>Omnitrans</td>\n",
       "    </tr>\n",
       "    <tr>\n",
       "      <td>Outreach &amp; Escort Inc</td>\n",
       "    </tr>\n",
       "    <tr>\n",
       "      <td>Riverside Transit Agency</td>\n",
       "    </tr>\n",
       "    <tr>\n",
       "      <td>San Francisco Municipal Transportation Agency</td>\n",
       "    </tr>\n",
       "    <tr>\n",
       "      <td>San Luis Obispo Council of Governments</td>\n",
       "    </tr>\n",
       "    <tr>\n",
       "      <td>Santa Clara Valley Transportation Authority</td>\n",
       "    </tr>\n",
       "    <tr>\n",
       "      <td>Solano Tranportation Authority</td>\n",
       "    </tr>\n",
       "    <tr>\n",
       "      <td>The Center for Independent Living</td>\n",
       "    </tr>\n",
       "    <tr>\n",
       "      <td>Tuolumne County Transit Agency (TCTA)</td>\n",
       "    </tr>\n",
       "    <tr>\n",
       "      <td>Victor Valley Community Services Council</td>\n",
       "    </tr>\n",
       "    <tr>\n",
       "      <td>Victor Valley Transit Authority</td>\n",
       "    </tr>\n",
       "    <tr>\n",
       "      <td>Yolo County Transportation District</td>\n",
       "    </tr>\n",
       "  </tbody>\n",
       "</table>"
      ],
      "text/plain": [
       "<IPython.core.display.HTML object>"
      ]
     },
     "metadata": {},
     "output_type": "display_data"
    },
    {
     "data": {
      "text/html": [
       "<strong>Organization with Hardware/Software Purchase Project Types Present</strong>"
      ],
      "text/plain": [
       "<IPython.core.display.HTML object>"
      ]
     },
     "metadata": {},
     "output_type": "display_data"
    },
    {
     "data": {
      "text/html": [
       "<table border=\"1\" class=\"dataframe\">\n",
       "  <thead>\n",
       "    <tr style=\"text-align: right;\">\n",
       "      <th>Organization Name</th>\n",
       "    </tr>\n",
       "  </thead>\n",
       "  <tbody>\n",
       "    <tr>\n",
       "      <td>Asian Community Center of Sacramento Valley Inc DBA ACC Senior Services</td>\n",
       "    </tr>\n",
       "    <tr>\n",
       "      <td>Catholic Charities of the Diocese of Stockton</td>\n",
       "    </tr>\n",
       "    <tr>\n",
       "      <td>Community Bridges Liftline</td>\n",
       "    </tr>\n",
       "    <tr>\n",
       "      <td>County of Sonoma Human Services Department Adult and Aging Division</td>\n",
       "    </tr>\n",
       "    <tr>\n",
       "      <td>Foothill AIDS Project</td>\n",
       "    </tr>\n",
       "    <tr>\n",
       "      <td>Milestones of Development INC</td>\n",
       "    </tr>\n",
       "    <tr>\n",
       "      <td>Porterville Sheltered Workshop</td>\n",
       "    </tr>\n",
       "    <tr>\n",
       "      <td>San Joaquin Regional Transit District</td>\n",
       "    </tr>\n",
       "    <tr>\n",
       "      <td>Sunline Transit Agency</td>\n",
       "    </tr>\n",
       "    <tr>\n",
       "      <td>United Cerebral Palsy Association of Greater Sacramento Inc</td>\n",
       "    </tr>\n",
       "    <tr>\n",
       "      <td>Yolo County Transportation District</td>\n",
       "    </tr>\n",
       "  </tbody>\n",
       "</table>"
      ],
      "text/plain": [
       "<IPython.core.display.HTML object>"
      ]
     },
     "metadata": {},
     "output_type": "display_data"
    },
    {
     "data": {
      "text/html": [
       "<strong>Organization with Communications Project Types Present</strong>"
      ],
      "text/plain": [
       "<IPython.core.display.HTML object>"
      ]
     },
     "metadata": {},
     "output_type": "display_data"
    },
    {
     "data": {
      "text/html": [
       "<table border=\"1\" class=\"dataframe\">\n",
       "  <thead>\n",
       "    <tr style=\"text-align: right;\">\n",
       "      <th>Organization Name</th>\n",
       "    </tr>\n",
       "  </thead>\n",
       "  <tbody>\n",
       "    <tr>\n",
       "      <td>Center for Elders' Independence</td>\n",
       "    </tr>\n",
       "    <tr>\n",
       "      <td>Community Bridges Liftline</td>\n",
       "    </tr>\n",
       "    <tr>\n",
       "      <td>Eastern Sierra Transit Authority</td>\n",
       "    </tr>\n",
       "    <tr>\n",
       "      <td>Humboldt Senior Resource Center</td>\n",
       "    </tr>\n",
       "    <tr>\n",
       "      <td>North of the River Recreation and Park District</td>\n",
       "    </tr>\n",
       "    <tr>\n",
       "      <td>Porterville Sheltered Workshop</td>\n",
       "    </tr>\n",
       "    <tr>\n",
       "      <td>Self-Help for the Elderly</td>\n",
       "    </tr>\n",
       "    <tr>\n",
       "      <td>United Cerebral Palsy Association of Greater Sacramento Inc</td>\n",
       "    </tr>\n",
       "    <tr>\n",
       "      <td>Work Training Center</td>\n",
       "    </tr>\n",
       "  </tbody>\n",
       "</table>"
      ],
      "text/plain": [
       "<IPython.core.display.HTML object>"
      ]
     },
     "metadata": {},
     "output_type": "display_data"
    },
    {
     "data": {
      "text/html": [
       "<strong>Organization with Facilities Equipment Project Types Present</strong>"
      ],
      "text/plain": [
       "<IPython.core.display.HTML object>"
      ]
     },
     "metadata": {},
     "output_type": "display_data"
    },
    {
     "data": {
      "text/html": [
       "<table border=\"1\" class=\"dataframe\">\n",
       "  <thead>\n",
       "    <tr style=\"text-align: right;\">\n",
       "      <th>Organization Name</th>\n",
       "    </tr>\n",
       "  </thead>\n",
       "  <tbody>\n",
       "    <tr>\n",
       "      <td>Eastern Sierra Transit Authority</td>\n",
       "    </tr>\n",
       "    <tr>\n",
       "      <td>Lighthouse for the Blind and Visually Impaired</td>\n",
       "    </tr>\n",
       "    <tr>\n",
       "      <td>Milestones of Development INC</td>\n",
       "    </tr>\n",
       "    <tr>\n",
       "      <td>North and South of Market Adult Day Health</td>\n",
       "    </tr>\n",
       "    <tr>\n",
       "      <td>Porterville Sheltered Workshop</td>\n",
       "    </tr>\n",
       "  </tbody>\n",
       "</table>"
      ],
      "text/plain": [
       "<IPython.core.display.HTML object>"
      ]
     },
     "metadata": {},
     "output_type": "display_data"
    },
    {
     "data": {
      "text/html": [
       "<strong>Organization with Surveillance Project Types Present</strong>"
      ],
      "text/plain": [
       "<IPython.core.display.HTML object>"
      ]
     },
     "metadata": {},
     "output_type": "display_data"
    },
    {
     "data": {
      "text/html": [
       "<table border=\"1\" class=\"dataframe\">\n",
       "  <thead>\n",
       "    <tr style=\"text-align: right;\">\n",
       "      <th>Organization Name</th>\n",
       "    </tr>\n",
       "  </thead>\n",
       "  <tbody>\n",
       "    <tr>\n",
       "      <td>Community Bridges Liftline</td>\n",
       "    </tr>\n",
       "    <tr>\n",
       "      <td>Institute on Aging</td>\n",
       "    </tr>\n",
       "    <tr>\n",
       "      <td>Porterville Sheltered Workshop</td>\n",
       "    </tr>\n",
       "    <tr>\n",
       "      <td>United Cerebral Palsy Association of Greater Sacramento Inc</td>\n",
       "    </tr>\n",
       "  </tbody>\n",
       "</table>"
      ],
      "text/plain": [
       "<IPython.core.display.HTML object>"
      ]
     },
     "metadata": {},
     "output_type": "display_data"
    },
    {
     "data": {
      "text/html": [
       "<strong>Organization with Subsidies Project Types Present</strong>"
      ],
      "text/plain": [
       "<IPython.core.display.HTML object>"
      ]
     },
     "metadata": {},
     "output_type": "display_data"
    },
    {
     "data": {
      "text/html": [
       "<table border=\"1\" class=\"dataframe\">\n",
       "  <thead>\n",
       "    <tr style=\"text-align: right;\">\n",
       "      <th>Organization Name</th>\n",
       "    </tr>\n",
       "  </thead>\n",
       "  <tbody>\n",
       "    <tr>\n",
       "      <td>San Mateo County Transit District</td>\n",
       "    </tr>\n",
       "  </tbody>\n",
       "</table>"
      ],
      "text/plain": [
       "<IPython.core.display.HTML object>"
      ]
     },
     "metadata": {},
     "output_type": "display_data"
    }
   ],
   "source": [
    "columns = [\n",
    "    \"Vehicle Purchase\",\n",
    "    \"Operating Assistance\",\n",
    "    \"Mobility Management\",\n",
    "    \"Hardware/Software Purchase\",\n",
    "    \"Communications\",\n",
    "    \"Facilities Equipment\",\n",
    "    \"Surveillance\",\n",
    "    \"Subsidies\",\n",
    "]\n",
    "for column in columns:\n",
    "    org_counts = (ptype_counts \n",
    "                  >> filter(_[column] == 1)\n",
    "                  >> count(_['Organization Name'])\n",
    "                  >> select(_['Organization Name']))\n",
    "    display(HTML(f\"<strong>Organization with {column} Project Types Present</strong>\"))\n",
    "    display(HTML(org_counts.to_html(index=False)))"
   ]
  },
  {
   "cell_type": "code",
   "execution_count": null,
   "id": "2195de23-ffe7-4378-89ba-d9bacb3a41fe",
   "metadata": {
    "papermill": {
     "duration": 0.033399,
     "end_time": "2022-05-20T19:09:22.671962",
     "exception": false,
     "start_time": "2022-05-20T19:09:22.638563",
     "status": "completed"
    },
    "tags": []
   },
   "outputs": [],
   "source": []
  },
  {
   "cell_type": "markdown",
   "id": "03d79697-7caa-4efa-a577-f49eed402970",
   "metadata": {
    "papermill": {
     "duration": 0.038783,
     "end_time": "2022-05-20T19:09:22.750964",
     "exception": false,
     "start_time": "2022-05-20T19:09:22.712181",
     "status": "completed"
    },
    "tags": []
   },
   "source": [
    "### Purchasing Wheelchair Accessible Vehicles"
   ]
  },
  {
   "cell_type": "code",
   "execution_count": 21,
   "id": "88dcf9f0-ab26-4845-bad4-06c95c1edd24",
   "metadata": {
    "execution": {
     "iopub.execute_input": "2022-05-20T19:09:22.824240Z",
     "iopub.status.busy": "2022-05-20T19:09:22.823396Z",
     "iopub.status.idle": "2022-05-20T19:09:22.827405Z",
     "shell.execute_reply": "2022-05-20T19:09:22.826590Z"
    },
    "papermill": {
     "duration": 0.044984,
     "end_time": "2022-05-20T19:09:22.829634",
     "exception": false,
     "start_time": "2022-05-20T19:09:22.784650",
     "status": "completed"
    },
    "tags": []
   },
   "outputs": [],
   "source": [
    "# no project descirption matches for `wheelchair`, `lifts`, `ramps`, and `securement` "
   ]
  },
  {
   "cell_type": "code",
   "execution_count": 22,
   "id": "dced4fbb-9c91-4907-a12a-8247f7756fad",
   "metadata": {
    "execution": {
     "iopub.execute_input": "2022-05-20T19:09:22.921716Z",
     "iopub.status.busy": "2022-05-20T19:09:22.920807Z",
     "iopub.status.idle": "2022-05-20T19:09:22.924860Z",
     "shell.execute_reply": "2022-05-20T19:09:22.924382Z"
    },
    "papermill": {
     "duration": 0.044093,
     "end_time": "2022-05-20T19:09:22.926695",
     "exception": false,
     "start_time": "2022-05-20T19:09:22.882602",
     "status": "completed"
    },
    "tags": []
   },
   "outputs": [],
   "source": [
    "# display(\n",
    "#     HTML(\n",
    "#         (f\"There are {len(df>>filter(_.description.str.contains('wheelchair')))} project descriptions that mention Wheelchair\")\n",
    "#     ))\n",
    "    "
   ]
  },
  {
   "cell_type": "code",
   "execution_count": 23,
   "id": "940488b1-5bfb-4945-a7d7-2e9f7b0c9a1d",
   "metadata": {
    "execution": {
     "iopub.execute_input": "2022-05-20T19:09:23.013444Z",
     "iopub.status.busy": "2022-05-20T19:09:23.012444Z",
     "iopub.status.idle": "2022-05-20T19:09:23.033690Z",
     "shell.execute_reply": "2022-05-20T19:09:23.033044Z"
    },
    "papermill": {
     "duration": 0.074847,
     "end_time": "2022-05-20T19:09:23.035500",
     "exception": false,
     "start_time": "2022-05-20T19:09:22.960653",
     "status": "completed"
    },
    "tags": []
   },
   "outputs": [
    {
     "data": {
      "text/html": [
       "Of the 92 agencies using 5310 funds for vehicle purchases, 75 are for Bus Purchases, and 38 are for Van Purchases<br> There is 0 mention of wheelchair accessible vehicles, ramps or other accessiblity features"
      ],
      "text/plain": [
       "<IPython.core.display.HTML object>"
      ]
     },
     "metadata": {},
     "output_type": "display_data"
    }
   ],
   "source": [
    "display(\n",
    "    HTML(f\"Of the {len(df>>filter(_.vehicle_purchase==1)>>count(_.organization_name))} agencies using 5310 funds \"\n",
    "      f\"for vehicle purchases, \"\n",
    "      f\"{len(df>>filter(_.vehicle_purchase==1)>>filter(_.description.str.contains('Bus'))>>count(_.organization_name))} \"\n",
    "      f\"are for Bus Purchases, \"\n",
    "      f\"and {len(df>>filter(_.vehicle_purchase==1)>>filter(_.description.str.contains('Van'))>>count(_.organization_name))} \"\n",
    "      f\"are for Van Purchases\"\n",
    "         f\"<br> There is {len(df>>filter(_.description.str.contains('wheelchair')))} mention of wheelchair \"\n",
    "         f\"accessible vehicles, ramps or other accessiblity features\"\n",
    "        ))"
   ]
  },
  {
   "cell_type": "markdown",
   "id": "3c191763-dc98-4602-8f1b-a9300fde1abe",
   "metadata": {
    "papermill": {
     "duration": 0.041559,
     "end_time": "2022-05-20T19:09:23.112921",
     "exception": false,
     "start_time": "2022-05-20T19:09:23.071362",
     "status": "completed"
    },
    "tags": []
   },
   "source": [
    "**Organizations using funds for Vehicle Purchase**"
   ]
  },
  {
   "cell_type": "code",
   "execution_count": 24,
   "id": "78a986a8-e3ae-4fda-9aee-926b6d8c178e",
   "metadata": {
    "execution": {
     "iopub.execute_input": "2022-05-20T19:09:23.184526Z",
     "iopub.status.busy": "2022-05-20T19:09:23.183777Z",
     "iopub.status.idle": "2022-05-20T19:09:23.205584Z",
     "shell.execute_reply": "2022-05-20T19:09:23.204914Z"
    },
    "papermill": {
     "duration": 0.060178,
     "end_time": "2022-05-20T19:09:23.207549",
     "exception": false,
     "start_time": "2022-05-20T19:09:23.147371",
     "status": "completed"
    },
    "tags": []
   },
   "outputs": [
    {
     "data": {
      "text/html": [
       "<table border=\"1\" class=\"dataframe\">\n",
       "  <thead>\n",
       "    <tr style=\"text-align: right;\">\n",
       "      <th>Organization Name</th>\n",
       "      <th>Counts</th>\n",
       "    </tr>\n",
       "  </thead>\n",
       "  <tbody>\n",
       "    <tr>\n",
       "      <td>On Lok Senior Health Services</td>\n",
       "      <td>50</td>\n",
       "    </tr>\n",
       "    <tr>\n",
       "      <td>Pride Industries One Inc</td>\n",
       "      <td>49</td>\n",
       "    </tr>\n",
       "    <tr>\n",
       "      <td>United Cerebral Palsy of San Luis Obispo County</td>\n",
       "      <td>46</td>\n",
       "    </tr>\n",
       "    <tr>\n",
       "      <td>United Cerebral Palsy Association of Greater Sacramento Inc</td>\n",
       "      <td>42</td>\n",
       "    </tr>\n",
       "    <tr>\n",
       "      <td>Kings Rehabilitation Center</td>\n",
       "      <td>30</td>\n",
       "    </tr>\n",
       "    <tr>\n",
       "      <td>Monterey-Salinas Transit</td>\n",
       "      <td>26</td>\n",
       "    </tr>\n",
       "    <tr>\n",
       "      <td>North of the River Recreation and Park District</td>\n",
       "      <td>25</td>\n",
       "    </tr>\n",
       "    <tr>\n",
       "      <td>ARC Bakersfield</td>\n",
       "      <td>20</td>\n",
       "    </tr>\n",
       "    <tr>\n",
       "      <td>Vivalon Inc</td>\n",
       "      <td>20</td>\n",
       "    </tr>\n",
       "    <tr>\n",
       "      <td>Butte County Association of Governments  Butte Regional Transit</td>\n",
       "      <td>19</td>\n",
       "    </tr>\n",
       "  </tbody>\n",
       "</table>"
      ],
      "text/plain": [
       "<IPython.core.display.HTML object>"
      ]
     },
     "metadata": {},
     "output_type": "display_data"
    }
   ],
   "source": [
    "vehicle_purchase= (df>>filter(_.vehicle_purchase==1)>>count(_.organization_name)>>arrange(-_.n)).head(10)\n",
    "vehicle_purchase = vehicle_purchase.rename(columns={\"organization_name\":\"Organization Name\",\n",
    "                                \"n\":\"Counts\"})\n",
    "display(HTML(vehicle_purchase.to_html(index=False)))"
   ]
  },
  {
   "cell_type": "code",
   "execution_count": null,
   "id": "02e430db-e6bb-4d57-b0b1-a40e3b9e921f",
   "metadata": {
    "papermill": {
     "duration": 0.034621,
     "end_time": "2022-05-20T19:09:23.275840",
     "exception": false,
     "start_time": "2022-05-20T19:09:23.241219",
     "status": "completed"
    },
    "tags": []
   },
   "outputs": [],
   "source": []
  },
  {
   "cell_type": "markdown",
   "id": "70b62e5d-ac67-49c7-ba91-2c5d8a71d612",
   "metadata": {
    "papermill": {
     "duration": 0.036662,
     "end_time": "2022-05-20T19:09:23.348934",
     "exception": false,
     "start_time": "2022-05-20T19:09:23.312272",
     "status": "completed"
    },
    "tags": []
   },
   "source": [
    "### On-demand Scheduling"
   ]
  },
  {
   "cell_type": "markdown",
   "id": "89503665-91ae-412b-824d-1d13064ec816",
   "metadata": {
    "papermill": {
     "duration": 0.035546,
     "end_time": "2022-05-20T19:09:23.419208",
     "exception": false,
     "start_time": "2022-05-20T19:09:23.383662",
     "status": "completed"
    },
    "tags": []
   },
   "source": [
    "**Organizations with Operating Assistance Project types**"
   ]
  },
  {
   "cell_type": "code",
   "execution_count": 25,
   "id": "ac6d9571-f3bc-42bb-90ea-ca63becbec5c",
   "metadata": {
    "execution": {
     "iopub.execute_input": "2022-05-20T19:09:23.501076Z",
     "iopub.status.busy": "2022-05-20T19:09:23.500191Z",
     "iopub.status.idle": "2022-05-20T19:09:23.515693Z",
     "shell.execute_reply": "2022-05-20T19:09:23.514738Z"
    },
    "papermill": {
     "duration": 0.0559,
     "end_time": "2022-05-20T19:09:23.517652",
     "exception": false,
     "start_time": "2022-05-20T19:09:23.461752",
     "status": "completed"
    },
    "tags": []
   },
   "outputs": [
    {
     "data": {
      "text/html": [
       "There is 0 mention of Demand related project types"
      ],
      "text/plain": [
       "<IPython.core.display.HTML object>"
      ]
     },
     "metadata": {},
     "output_type": "display_data"
    },
    {
     "data": {
      "text/html": [
       "There are 65 mentions of Operating Assistance"
      ],
      "text/plain": [
       "<IPython.core.display.HTML object>"
      ]
     },
     "metadata": {},
     "output_type": "display_data"
    }
   ],
   "source": [
    "display(HTML(f\"There is {len(df>>filter(_.description.str.contains('demand')))} mention of Demand related project types\"))\n",
    "display(HTML(f\"There are {len((df>>filter(_.operating_assistance==1)>>count(_.organization_name)>>arrange(-_.n)))} \"\n",
    "             f\"mentions of Operating Assistance\"))"
   ]
  },
  {
   "cell_type": "code",
   "execution_count": 26,
   "id": "ca4d3d59-dab5-410e-ac8b-3ab4c9df9fbd",
   "metadata": {
    "execution": {
     "iopub.execute_input": "2022-05-20T19:09:23.598399Z",
     "iopub.status.busy": "2022-05-20T19:09:23.598095Z",
     "iopub.status.idle": "2022-05-20T19:09:23.612663Z",
     "shell.execute_reply": "2022-05-20T19:09:23.611744Z"
    },
    "papermill": {
     "duration": 0.061034,
     "end_time": "2022-05-20T19:09:23.614727",
     "exception": false,
     "start_time": "2022-05-20T19:09:23.553693",
     "status": "completed"
    },
    "tags": []
   },
   "outputs": [
    {
     "data": {
      "text/html": [
       "<table border=\"1\" class=\"dataframe\">\n",
       "  <thead>\n",
       "    <tr style=\"text-align: right;\">\n",
       "      <th>Organization Name</th>\n",
       "      <th>Counts</th>\n",
       "    </tr>\n",
       "  </thead>\n",
       "  <tbody>\n",
       "    <tr>\n",
       "      <td>Independent Living Partnership</td>\n",
       "      <td>8</td>\n",
       "    </tr>\n",
       "    <tr>\n",
       "      <td>Asian Community Center of Sacramento Valley Inc DBA ACC Senior Services</td>\n",
       "      <td>6</td>\n",
       "    </tr>\n",
       "    <tr>\n",
       "      <td>ARC Imperial Valley</td>\n",
       "      <td>4</td>\n",
       "    </tr>\n",
       "    <tr>\n",
       "      <td>Choice in Aging</td>\n",
       "      <td>4</td>\n",
       "    </tr>\n",
       "    <tr>\n",
       "      <td>County of Sonoma Human Services Department Adult and Aging Division</td>\n",
       "      <td>4</td>\n",
       "    </tr>\n",
       "    <tr>\n",
       "      <td>Mobility Matters</td>\n",
       "      <td>4</td>\n",
       "    </tr>\n",
       "    <tr>\n",
       "      <td>Angel View Inc</td>\n",
       "      <td>3</td>\n",
       "    </tr>\n",
       "    <tr>\n",
       "      <td>Catholic Charities of the Diocese of Stockton</td>\n",
       "      <td>3</td>\n",
       "    </tr>\n",
       "    <tr>\n",
       "      <td>City of Lafayette: Lamorinda Sprit Van Program</td>\n",
       "      <td>3</td>\n",
       "    </tr>\n",
       "    <tr>\n",
       "      <td>County of Sacramento Department of Child Family and Adult Services</td>\n",
       "      <td>3</td>\n",
       "    </tr>\n",
       "  </tbody>\n",
       "</table>"
      ],
      "text/plain": [
       "<IPython.core.display.HTML object>"
      ]
     },
     "metadata": {},
     "output_type": "display_data"
    }
   ],
   "source": [
    "operating_assistance= (df>>filter(_.operating_assistance==1)>>count(_.organization_name)>>arrange(-_.n)).head(10)\n",
    "operating_assistance = operating_assistance.rename(columns={\"organization_name\":\"Organization Name\",\n",
    "                                \"n\":\"Counts\"})\n",
    "display(HTML(operating_assistance.to_html(index=False)))"
   ]
  },
  {
   "cell_type": "code",
   "execution_count": null,
   "id": "a704cfee-a550-413a-8f3b-d3cd78429a5e",
   "metadata": {
    "papermill": {
     "duration": 0.035514,
     "end_time": "2022-05-20T19:09:23.686949",
     "exception": false,
     "start_time": "2022-05-20T19:09:23.651435",
     "status": "completed"
    },
    "tags": []
   },
   "outputs": [],
   "source": []
  },
  {
   "cell_type": "markdown",
   "id": "987def42-db7c-4754-aed3-aea562b0998f",
   "metadata": {
    "papermill": {
     "duration": 0.0413,
     "end_time": "2022-05-20T19:09:23.777223",
     "exception": false,
     "start_time": "2022-05-20T19:09:23.735923",
     "status": "completed"
    },
    "tags": []
   },
   "source": [
    "### Dispatching Software Platforms"
   ]
  },
  {
   "cell_type": "code",
   "execution_count": 27,
   "id": "85adc3bb-5f76-47cb-ae08-2fa062f24726",
   "metadata": {
    "execution": {
     "iopub.execute_input": "2022-05-20T19:09:23.852768Z",
     "iopub.status.busy": "2022-05-20T19:09:23.852504Z",
     "iopub.status.idle": "2022-05-20T19:09:23.866147Z",
     "shell.execute_reply": "2022-05-20T19:09:23.865282Z"
    },
    "papermill": {
     "duration": 0.054352,
     "end_time": "2022-05-20T19:09:23.868125",
     "exception": false,
     "start_time": "2022-05-20T19:09:23.813773",
     "status": "completed"
    },
    "tags": []
   },
   "outputs": [
    {
     "data": {
      "text/html": [
       "Out of the 11 with harware or software purchases, 4organization used 5310 funds for software purposes"
      ],
      "text/plain": [
       "<IPython.core.display.HTML object>"
      ]
     },
     "metadata": {},
     "output_type": "display_data"
    }
   ],
   "source": [
    "display(\n",
    "    HTML(f\"Out of the {len(df>>filter(_.hardware_software_purchase==1)>>count(_.organization_name))} \"\n",
    "         f\"with harware or software purchases, \"\n",
    "         f\"{len(df>>filter(_.hardware_software_purchase==1)>>filter(_.description.str.contains('Software'))>>count(_.organization_name))}\" \n",
    "             f\"organization used 5310 funds for software purposes\"))\n",
    "             "
   ]
  },
  {
   "cell_type": "code",
   "execution_count": 28,
   "id": "aa3dc45e-5e6a-45c9-94b9-930f08fdb34e",
   "metadata": {
    "execution": {
     "iopub.execute_input": "2022-05-20T19:09:23.947190Z",
     "iopub.status.busy": "2022-05-20T19:09:23.946870Z",
     "iopub.status.idle": "2022-05-20T19:09:23.969034Z",
     "shell.execute_reply": "2022-05-20T19:09:23.966251Z"
    },
    "papermill": {
     "duration": 0.063125,
     "end_time": "2022-05-20T19:09:23.972255",
     "exception": false,
     "start_time": "2022-05-20T19:09:23.909130",
     "status": "completed"
    },
    "tags": []
   },
   "outputs": [
    {
     "data": {
      "text/html": [
       "<table border=\"1\" class=\"dataframe\">\n",
       "  <thead>\n",
       "    <tr style=\"text-align: right;\">\n",
       "      <th>Organization Name</th>\n",
       "      <th>Counts</th>\n",
       "    </tr>\n",
       "  </thead>\n",
       "  <tbody>\n",
       "    <tr>\n",
       "      <td>Asian Community Center of Sacramento Valley Inc DBA ACC Senior Services</td>\n",
       "      <td>2</td>\n",
       "    </tr>\n",
       "    <tr>\n",
       "      <td>Catholic Charities of the Diocese of Stockton</td>\n",
       "      <td>2</td>\n",
       "    </tr>\n",
       "    <tr>\n",
       "      <td>County of Sonoma Human Services Department Adult and Aging Division</td>\n",
       "      <td>1</td>\n",
       "    </tr>\n",
       "    <tr>\n",
       "      <td>Yolo County Transportation District</td>\n",
       "      <td>2</td>\n",
       "    </tr>\n",
       "  </tbody>\n",
       "</table>"
      ],
      "text/plain": [
       "<IPython.core.display.HTML object>"
      ]
     },
     "metadata": {},
     "output_type": "display_data"
    }
   ],
   "source": [
    "software = (df>>filter(_.hardware_software_purchase==1)>>filter(_.description.str.contains('Software'))>>count(_.organization_name))\n",
    "software = software.rename(columns={\"organization_name\":\"Organization Name\",\n",
    "                                \"n\":\"Counts\"})\n",
    "display(HTML(software.to_html(index=False)))\n"
   ]
  },
  {
   "cell_type": "markdown",
   "id": "f4b2bf0f-068f-4e64-a47f-c64c3f530aa9",
   "metadata": {
    "papermill": {
     "duration": 0.044602,
     "end_time": "2022-05-20T19:09:24.077386",
     "exception": false,
     "start_time": "2022-05-20T19:09:24.032784",
     "status": "completed"
    },
    "tags": []
   },
   "source": [
    "## Project Type Funding Analysis"
   ]
  },
  {
   "cell_type": "markdown",
   "id": "e1880a1f-b47f-4c59-a4fd-cf78d63b1ed0",
   "metadata": {
    "papermill": {
     "duration": 0.038966,
     "end_time": "2022-05-20T19:09:24.159121",
     "exception": false,
     "start_time": "2022-05-20T19:09:24.120155",
     "status": "completed"
    },
    "tags": []
   },
   "source": [
    "### By Organization & Year"
   ]
  },
  {
   "cell_type": "markdown",
   "id": "dca39728-b4d0-4ce2-a6a9-8cfd2e3accbb",
   "metadata": {
    "papermill": {
     "duration": 0.039822,
     "end_time": "2022-05-20T19:09:24.236641",
     "exception": false,
     "start_time": "2022-05-20T19:09:24.196819",
     "status": "completed"
    },
    "tags": []
   },
   "source": [
    "**Sum of Funds Allocated to Organizations by Year (Top 20)**"
   ]
  },
  {
   "cell_type": "code",
   "execution_count": 29,
   "id": "096cfb5a-dd90-4cfb-bf81-892b7112921f",
   "metadata": {
    "execution": {
     "iopub.execute_input": "2022-05-20T19:09:24.321035Z",
     "iopub.status.busy": "2022-05-20T19:09:24.319889Z",
     "iopub.status.idle": "2022-05-20T19:09:24.531123Z",
     "shell.execute_reply": "2022-05-20T19:09:24.530208Z"
    },
    "papermill": {
     "duration": 0.256871,
     "end_time": "2022-05-20T19:09:24.533618",
     "exception": false,
     "start_time": "2022-05-20T19:09:24.276747",
     "status": "completed"
    },
    "tags": []
   },
   "outputs": [
    {
     "data": {
      "text/html": [
       "<style type=\"text/css\">\n",
       "</style>\n",
       "<table id=\"T_776fc\">\n",
       "  <thead>\n",
       "    <tr>\n",
       "      <th id=\"T_776fc_level0_col0\" class=\"col_heading level0 col0\" >Organization Name</th>\n",
       "      <th id=\"T_776fc_level0_col1\" class=\"col_heading level0 col1\" >Project Year</th>\n",
       "      <th id=\"T_776fc_level0_col2\" class=\"col_heading level0 col2\" >Sum Allocated by Year</th>\n",
       "    </tr>\n",
       "  </thead>\n",
       "  <tbody>\n",
       "    <tr>\n",
       "      <td id=\"T_776fc_row0_col0\" class=\"data row0 col0\" >United Cerebral Palsy Association of Greater Sacramento Inc</td>\n",
       "      <td id=\"T_776fc_row0_col1\" class=\"data row0 col1\" >2017</td>\n",
       "      <td id=\"T_776fc_row0_col2\" class=\"data row0 col2\" >$1,782,550.00</td>\n",
       "    </tr>\n",
       "    <tr>\n",
       "      <td id=\"T_776fc_row1_col0\" class=\"data row1 col0\" >On Lok Senior Health Services</td>\n",
       "      <td id=\"T_776fc_row1_col1\" class=\"data row1 col1\" >2019</td>\n",
       "      <td id=\"T_776fc_row1_col2\" class=\"data row1 col2\" >$1,480,000.00</td>\n",
       "    </tr>\n",
       "    <tr>\n",
       "      <td id=\"T_776fc_row2_col0\" class=\"data row2 col0\" >Pride Industries One Inc</td>\n",
       "      <td id=\"T_776fc_row2_col1\" class=\"data row2 col1\" >2019</td>\n",
       "      <td id=\"T_776fc_row2_col2\" class=\"data row2 col2\" >$1,257,714.00</td>\n",
       "    </tr>\n",
       "    <tr>\n",
       "      <td id=\"T_776fc_row3_col0\" class=\"data row3 col0\" >Asian Community Center of Sacramento Valley Inc DBA ACC Senior Services</td>\n",
       "      <td id=\"T_776fc_row3_col1\" class=\"data row3 col1\" >2017</td>\n",
       "      <td id=\"T_776fc_row3_col2\" class=\"data row3 col2\" >$1,246,128.00</td>\n",
       "    </tr>\n",
       "    <tr>\n",
       "      <td id=\"T_776fc_row4_col0\" class=\"data row4 col0\" >Mobility Matters</td>\n",
       "      <td id=\"T_776fc_row4_col1\" class=\"data row4 col1\" >2017</td>\n",
       "      <td id=\"T_776fc_row4_col2\" class=\"data row4 col2\" >$1,160,438.00</td>\n",
       "    </tr>\n",
       "    <tr>\n",
       "      <td id=\"T_776fc_row5_col0\" class=\"data row5 col0\" >Friends of Children with Special Needs</td>\n",
       "      <td id=\"T_776fc_row5_col1\" class=\"data row5 col1\" >2019</td>\n",
       "      <td id=\"T_776fc_row5_col2\" class=\"data row5 col2\" >$1,152,937.00</td>\n",
       "    </tr>\n",
       "    <tr>\n",
       "      <td id=\"T_776fc_row6_col0\" class=\"data row6 col0\" >Pride Industries One Inc</td>\n",
       "      <td id=\"T_776fc_row6_col1\" class=\"data row6 col1\" >2017</td>\n",
       "      <td id=\"T_776fc_row6_col2\" class=\"data row6 col2\" >$1,135,727.52</td>\n",
       "    </tr>\n",
       "    <tr>\n",
       "      <td id=\"T_776fc_row7_col0\" class=\"data row7 col0\" >Independent Living Partnership</td>\n",
       "      <td id=\"T_776fc_row7_col1\" class=\"data row7 col1\" >2017</td>\n",
       "      <td id=\"T_776fc_row7_col2\" class=\"data row7 col2\" >$1,114,031.00</td>\n",
       "    </tr>\n",
       "    <tr>\n",
       "      <td id=\"T_776fc_row8_col0\" class=\"data row8 col0\" >ARC Bakersfield</td>\n",
       "      <td id=\"T_776fc_row8_col1\" class=\"data row8 col1\" >2017</td>\n",
       "      <td id=\"T_776fc_row8_col2\" class=\"data row8 col2\" >$1,008,340.28</td>\n",
       "    </tr>\n",
       "    <tr>\n",
       "      <td id=\"T_776fc_row9_col0\" class=\"data row9 col0\" >Marin County Transit District</td>\n",
       "      <td id=\"T_776fc_row9_col1\" class=\"data row9 col1\" >2017</td>\n",
       "      <td id=\"T_776fc_row9_col2\" class=\"data row9 col2\" >$1,000,000.00</td>\n",
       "    </tr>\n",
       "    <tr>\n",
       "      <td id=\"T_776fc_row10_col0\" class=\"data row10 col0\" >Outreach & Escort Inc </td>\n",
       "      <td id=\"T_776fc_row10_col1\" class=\"data row10 col1\" >2017</td>\n",
       "      <td id=\"T_776fc_row10_col2\" class=\"data row10 col2\" >$1,000,000.00</td>\n",
       "    </tr>\n",
       "    <tr>\n",
       "      <td id=\"T_776fc_row11_col0\" class=\"data row11 col0\" >Monterey-Salinas Transit</td>\n",
       "      <td id=\"T_776fc_row11_col1\" class=\"data row11 col1\" >2017</td>\n",
       "      <td id=\"T_776fc_row11_col2\" class=\"data row11 col2\" >$980,000.00</td>\n",
       "    </tr>\n",
       "    <tr>\n",
       "      <td id=\"T_776fc_row12_col0\" class=\"data row12 col0\" >United Cerebral Palsy Association of Greater Sacramento Inc</td>\n",
       "      <td id=\"T_776fc_row12_col1\" class=\"data row12 col1\" >2019</td>\n",
       "      <td id=\"T_776fc_row12_col2\" class=\"data row12 col2\" >$941,167.00</td>\n",
       "    </tr>\n",
       "    <tr>\n",
       "      <td id=\"T_776fc_row13_col0\" class=\"data row13 col0\" >Omnitrans</td>\n",
       "      <td id=\"T_776fc_row13_col1\" class=\"data row13 col1\" >2017</td>\n",
       "      <td id=\"T_776fc_row13_col2\" class=\"data row13 col2\" >$884,175.00</td>\n",
       "    </tr>\n",
       "    <tr>\n",
       "      <td id=\"T_776fc_row14_col0\" class=\"data row14 col0\" >Community Bridges Liftline</td>\n",
       "      <td id=\"T_776fc_row14_col1\" class=\"data row14 col1\" >2017</td>\n",
       "      <td id=\"T_776fc_row14_col2\" class=\"data row14 col2\" >$880,013.60</td>\n",
       "    </tr>\n",
       "    <tr>\n",
       "      <td id=\"T_776fc_row15_col0\" class=\"data row15 col0\" >North of the River Recreation and Park District</td>\n",
       "      <td id=\"T_776fc_row15_col1\" class=\"data row15 col1\" >2017</td>\n",
       "      <td id=\"T_776fc_row15_col2\" class=\"data row15 col2\" >$846,738.41</td>\n",
       "    </tr>\n",
       "    <tr>\n",
       "      <td id=\"T_776fc_row16_col0\" class=\"data row16 col0\" >Peppermint Ridge</td>\n",
       "      <td id=\"T_776fc_row16_col1\" class=\"data row16 col1\" >2017</td>\n",
       "      <td id=\"T_776fc_row16_col2\" class=\"data row16 col2\" >$825,000.00</td>\n",
       "    </tr>\n",
       "    <tr>\n",
       "      <td id=\"T_776fc_row17_col0\" class=\"data row17 col0\" >The Center for Independent Living</td>\n",
       "      <td id=\"T_776fc_row17_col1\" class=\"data row17 col1\" >2017</td>\n",
       "      <td id=\"T_776fc_row17_col2\" class=\"data row17 col2\" >$818,960.00</td>\n",
       "    </tr>\n",
       "    <tr>\n",
       "      <td id=\"T_776fc_row18_col0\" class=\"data row18 col0\" >Vivalon Inc</td>\n",
       "      <td id=\"T_776fc_row18_col1\" class=\"data row18 col1\" >2017</td>\n",
       "      <td id=\"T_776fc_row18_col2\" class=\"data row18 col2\" >$812,960.00</td>\n",
       "    </tr>\n",
       "    <tr>\n",
       "      <td id=\"T_776fc_row19_col0\" class=\"data row19 col0\" >LIFE ElderCare</td>\n",
       "      <td id=\"T_776fc_row19_col1\" class=\"data row19 col1\" >2017</td>\n",
       "      <td id=\"T_776fc_row19_col2\" class=\"data row19 col2\" >$802,658.00</td>\n",
       "    </tr>\n",
       "  </tbody>\n",
       "</table>\n"
      ],
      "text/plain": [
       "<pandas.io.formats.style.Styler at 0x7fada5193250>"
      ]
     },
     "metadata": {},
     "output_type": "display_data"
    }
   ],
   "source": [
    "top20_sum = (\n",
    "    df\n",
    "    >> group_by(_.organization_name, _.project_year)\n",
    "    >> summarize(sum_allocated_by_year=_.allocationamount.sum())\n",
    "    >> arrange(-_.sum_allocated_by_year)\n",
    ").head(20)\n",
    "top20_sum = top20_sum.rename(columns={\"organization_name\":\"Organization Name\",\n",
    "                                      \"project_year\":\"Project Year\",\n",
    "                                      \"sum_allocated_by_year\":\"Sum Allocated by Year\"}) \n",
    "top20_sum = (top20_sum.style.hide(axis='index').format(formatter={(\"Sum Allocated by Year\"): \"${:,.2f}\"}))\n",
    "\n",
    "display(top20_sum)\n",
    "#display(HTML(top20_sum.to_html(index=False)))"
   ]
  },
  {
   "cell_type": "code",
   "execution_count": null,
   "id": "5556d670-9290-45e6-8cf7-6a6b63cceda3",
   "metadata": {
    "papermill": {
     "duration": 0.053331,
     "end_time": "2022-05-20T19:09:24.639371",
     "exception": false,
     "start_time": "2022-05-20T19:09:24.586040",
     "status": "completed"
    },
    "tags": []
   },
   "outputs": [],
   "source": []
  },
  {
   "cell_type": "markdown",
   "id": "5a629816-de99-4132-a6d7-a011a23f2689",
   "metadata": {
    "papermill": {
     "duration": 0.051476,
     "end_time": "2022-05-20T19:09:24.742902",
     "exception": false,
     "start_time": "2022-05-20T19:09:24.691426",
     "status": "completed"
    },
    "tags": []
   },
   "source": [
    "### By Organization & Project Types"
   ]
  },
  {
   "cell_type": "markdown",
   "id": "85a3ad60-e1ed-4e87-b33d-dc8fa9f7e24a",
   "metadata": {
    "papermill": {
     "duration": 0.053329,
     "end_time": "2022-05-20T19:09:24.847480",
     "exception": false,
     "start_time": "2022-05-20T19:09:24.794151",
     "status": "completed"
    },
    "tags": []
   },
   "source": [
    "**Vehicle Purchases**"
   ]
  },
  {
   "cell_type": "code",
   "execution_count": 30,
   "id": "12483656-928b-4731-bae7-93efc5455d6b",
   "metadata": {
    "execution": {
     "iopub.execute_input": "2022-05-20T19:09:24.934011Z",
     "iopub.status.busy": "2022-05-20T19:09:24.933664Z",
     "iopub.status.idle": "2022-05-20T19:09:25.047947Z",
     "shell.execute_reply": "2022-05-20T19:09:25.046788Z"
    },
    "papermill": {
     "duration": 0.163281,
     "end_time": "2022-05-20T19:09:25.052212",
     "exception": false,
     "start_time": "2022-05-20T19:09:24.888931",
     "status": "completed"
    },
    "tags": []
   },
   "outputs": [
    {
     "data": {
      "text/html": [
       "<style type=\"text/css\">\n",
       "</style>\n",
       "<table id=\"T_ab81d\">\n",
       "  <thead>\n",
       "    <tr>\n",
       "      <th id=\"T_ab81d_level0_col0\" class=\"col_heading level0 col0\" >organization_name</th>\n",
       "      <th id=\"T_ab81d_level0_col1\" class=\"col_heading level0 col1\" >project_year</th>\n",
       "      <th id=\"T_ab81d_level0_col2\" class=\"col_heading level0 col2\" >sum_allocated</th>\n",
       "    </tr>\n",
       "  </thead>\n",
       "  <tbody>\n",
       "    <tr>\n",
       "      <td id=\"T_ab81d_row0_col0\" class=\"data row0 col0\" >On Lok Senior Health Services</td>\n",
       "      <td id=\"T_ab81d_row0_col1\" class=\"data row0 col1\" >2019</td>\n",
       "      <td id=\"T_ab81d_row0_col2\" class=\"data row0 col2\" >$1,480,000.00</td>\n",
       "    </tr>\n",
       "    <tr>\n",
       "      <td id=\"T_ab81d_row1_col0\" class=\"data row1 col0\" >United Cerebral Palsy Association of Greater Sacramento Inc</td>\n",
       "      <td id=\"T_ab81d_row1_col1\" class=\"data row1 col1\" >2017</td>\n",
       "      <td id=\"T_ab81d_row1_col2\" class=\"data row1 col2\" >$1,449,680.00</td>\n",
       "    </tr>\n",
       "    <tr>\n",
       "      <td id=\"T_ab81d_row2_col0\" class=\"data row2 col0\" >Pride Industries One Inc</td>\n",
       "      <td id=\"T_ab81d_row2_col1\" class=\"data row2 col1\" >2019</td>\n",
       "      <td id=\"T_ab81d_row2_col2\" class=\"data row2 col2\" >$1,209,000.00</td>\n",
       "    </tr>\n",
       "    <tr>\n",
       "      <td id=\"T_ab81d_row3_col0\" class=\"data row3 col0\" >Pride Industries One Inc</td>\n",
       "      <td id=\"T_ab81d_row3_col1\" class=\"data row3 col1\" >2017</td>\n",
       "      <td id=\"T_ab81d_row3_col2\" class=\"data row3 col2\" >$1,135,727.52</td>\n",
       "    </tr>\n",
       "    <tr>\n",
       "      <td id=\"T_ab81d_row4_col0\" class=\"data row4 col0\" >ARC Bakersfield</td>\n",
       "      <td id=\"T_ab81d_row4_col1\" class=\"data row4 col1\" >2017</td>\n",
       "      <td id=\"T_ab81d_row4_col2\" class=\"data row4 col2\" >$1,008,340.28</td>\n",
       "    </tr>\n",
       "    <tr>\n",
       "      <td id=\"T_ab81d_row5_col0\" class=\"data row5 col0\" >Monterey-Salinas Transit</td>\n",
       "      <td id=\"T_ab81d_row5_col1\" class=\"data row5 col1\" >2017</td>\n",
       "      <td id=\"T_ab81d_row5_col2\" class=\"data row5 col2\" >$980,000.00</td>\n",
       "    </tr>\n",
       "    <tr>\n",
       "      <td id=\"T_ab81d_row6_col0\" class=\"data row6 col0\" >United Cerebral Palsy of San Luis Obispo County </td>\n",
       "      <td id=\"T_ab81d_row6_col1\" class=\"data row6 col1\" >2017</td>\n",
       "      <td id=\"T_ab81d_row6_col2\" class=\"data row6 col2\" >$634,000.00</td>\n",
       "    </tr>\n",
       "    <tr>\n",
       "      <td id=\"T_ab81d_row7_col0\" class=\"data row7 col0\" >Asian Community Center of Sacramento Valley Inc DBA ACC Senior Services</td>\n",
       "      <td id=\"T_ab81d_row7_col1\" class=\"data row7 col1\" >2017</td>\n",
       "      <td id=\"T_ab81d_row7_col2\" class=\"data row7 col2\" >$619,600.00</td>\n",
       "    </tr>\n",
       "    <tr>\n",
       "      <td id=\"T_ab81d_row8_col0\" class=\"data row8 col0\" >El Dorado County Transit Authority</td>\n",
       "      <td id=\"T_ab81d_row8_col1\" class=\"data row8 col1\" >2017</td>\n",
       "      <td id=\"T_ab81d_row8_col2\" class=\"data row8 col2\" >$610,000.00</td>\n",
       "    </tr>\n",
       "    <tr>\n",
       "      <td id=\"T_ab81d_row9_col0\" class=\"data row9 col0\" >Institute on Aging </td>\n",
       "      <td id=\"T_ab81d_row9_col1\" class=\"data row9 col1\" >2017</td>\n",
       "      <td id=\"T_ab81d_row9_col2\" class=\"data row9 col2\" >$560,000.00</td>\n",
       "    </tr>\n",
       "    <tr>\n",
       "      <td id=\"T_ab81d_row10_col0\" class=\"data row10 col0\" >Center for Elders' Independence </td>\n",
       "      <td id=\"T_ab81d_row10_col1\" class=\"data row10 col1\" >2019</td>\n",
       "      <td id=\"T_ab81d_row10_col2\" class=\"data row10 col2\" >$536,900.00</td>\n",
       "    </tr>\n",
       "    <tr>\n",
       "      <td id=\"T_ab81d_row11_col0\" class=\"data row11 col0\" >Peppermint Ridge</td>\n",
       "      <td id=\"T_ab81d_row11_col1\" class=\"data row11 col1\" >2017</td>\n",
       "      <td id=\"T_ab81d_row11_col2\" class=\"data row11 col2\" >$525,000.00</td>\n",
       "    </tr>\n",
       "    <tr>\n",
       "      <td id=\"T_ab81d_row12_col0\" class=\"data row12 col0\" >Vivalon Inc</td>\n",
       "      <td id=\"T_ab81d_row12_col1\" class=\"data row12 col1\" >2017</td>\n",
       "      <td id=\"T_ab81d_row12_col2\" class=\"data row12 col2\" >$518,000.00</td>\n",
       "    </tr>\n",
       "    <tr>\n",
       "      <td id=\"T_ab81d_row13_col0\" class=\"data row13 col0\" >Easy Lift Transportation Inc</td>\n",
       "      <td id=\"T_ab81d_row13_col1\" class=\"data row13 col1\" >2017</td>\n",
       "      <td id=\"T_ab81d_row13_col2\" class=\"data row13 col2\" >$514,023.60</td>\n",
       "    </tr>\n",
       "    <tr>\n",
       "      <td id=\"T_ab81d_row14_col0\" class=\"data row14 col0\" >On Lok Senior Health Services</td>\n",
       "      <td id=\"T_ab81d_row14_col1\" class=\"data row14 col1\" >2017</td>\n",
       "      <td id=\"T_ab81d_row14_col2\" class=\"data row14 col2\" >$490,000.00</td>\n",
       "    </tr>\n",
       "    <tr>\n",
       "      <td id=\"T_ab81d_row15_col0\" class=\"data row15 col0\" >Vivalon Inc</td>\n",
       "      <td id=\"T_ab81d_row15_col1\" class=\"data row15 col1\" >2019</td>\n",
       "      <td id=\"T_ab81d_row15_col2\" class=\"data row15 col2\" >$487,200.00</td>\n",
       "    </tr>\n",
       "    <tr>\n",
       "      <td id=\"T_ab81d_row16_col0\" class=\"data row16 col0\" >Kings Rehabilitation Center</td>\n",
       "      <td id=\"T_ab81d_row16_col1\" class=\"data row16 col1\" >2017</td>\n",
       "      <td id=\"T_ab81d_row16_col2\" class=\"data row16 col2\" >$486,972.49</td>\n",
       "    </tr>\n",
       "    <tr>\n",
       "      <td id=\"T_ab81d_row17_col0\" class=\"data row17 col0\" >Omnitrans</td>\n",
       "      <td id=\"T_ab81d_row17_col1\" class=\"data row17 col1\" >2017</td>\n",
       "      <td id=\"T_ab81d_row17_col2\" class=\"data row17 col2\" >$485,000.00</td>\n",
       "    </tr>\n",
       "    <tr>\n",
       "      <td id=\"T_ab81d_row18_col0\" class=\"data row18 col0\" >Monterey-Salinas Transit</td>\n",
       "      <td id=\"T_ab81d_row18_col1\" class=\"data row18 col1\" >2019</td>\n",
       "      <td id=\"T_ab81d_row18_col2\" class=\"data row18 col2\" >$460,200.00</td>\n",
       "    </tr>\n",
       "    <tr>\n",
       "      <td id=\"T_ab81d_row19_col0\" class=\"data row19 col0\" >United Cerebral Palsy Association of Greater Sacramento Inc</td>\n",
       "      <td id=\"T_ab81d_row19_col1\" class=\"data row19 col1\" >2019</td>\n",
       "      <td id=\"T_ab81d_row19_col2\" class=\"data row19 col2\" >$452,000.00</td>\n",
       "    </tr>\n",
       "  </tbody>\n",
       "</table>\n"
      ],
      "text/plain": [
       "<pandas.io.formats.style.Styler at 0x7fada5227e80>"
      ]
     },
     "metadata": {},
     "output_type": "display_data"
    }
   ],
   "source": [
    "vp = (df\n",
    " >>filter(_.vehicle_purchase==1)\n",
    " >> group_by(_.organization_name, _.project_year)\n",
    " >> summarize(sum_allocated = _.allocationamount.sum())\n",
    "  >> arrange(-_.sum_allocated)\n",
    ").head(20)\n",
    "\n",
    "vp = (vp.style.hide(axis='index').format(formatter={(\"sum_allocated\"): \"${:,.2f}\"}))\n",
    "display(vp)"
   ]
  },
  {
   "cell_type": "code",
   "execution_count": null,
   "id": "d0587ae2-164f-4951-9be9-80b7562fe8f4",
   "metadata": {
    "papermill": {
     "duration": 0.041985,
     "end_time": "2022-05-20T19:09:25.149821",
     "exception": false,
     "start_time": "2022-05-20T19:09:25.107836",
     "status": "completed"
    },
    "tags": []
   },
   "outputs": [],
   "source": []
  },
  {
   "cell_type": "markdown",
   "id": "87830e4b-9099-402f-b958-737b6880fb8f",
   "metadata": {
    "papermill": {
     "duration": 0.040742,
     "end_time": "2022-05-20T19:09:25.231811",
     "exception": false,
     "start_time": "2022-05-20T19:09:25.191069",
     "status": "completed"
    },
    "tags": []
   },
   "source": [
    "**Operating Assistance**"
   ]
  },
  {
   "cell_type": "code",
   "execution_count": 31,
   "id": "befc8999-b2f6-45b9-92cf-02e5f992896c",
   "metadata": {
    "execution": {
     "iopub.execute_input": "2022-05-20T19:09:25.319351Z",
     "iopub.status.busy": "2022-05-20T19:09:25.319023Z",
     "iopub.status.idle": "2022-05-20T19:09:25.421250Z",
     "shell.execute_reply": "2022-05-20T19:09:25.420225Z"
    },
    "papermill": {
     "duration": 0.1495,
     "end_time": "2022-05-20T19:09:25.423608",
     "exception": false,
     "start_time": "2022-05-20T19:09:25.274108",
     "status": "completed"
    },
    "tags": []
   },
   "outputs": [
    {
     "data": {
      "text/html": [
       "<style type=\"text/css\">\n",
       "</style>\n",
       "<table id=\"T_4687d\">\n",
       "  <thead>\n",
       "    <tr>\n",
       "      <th id=\"T_4687d_level0_col0\" class=\"col_heading level0 col0\" >organization_name</th>\n",
       "      <th id=\"T_4687d_level0_col1\" class=\"col_heading level0 col1\" >project_year</th>\n",
       "      <th id=\"T_4687d_level0_col2\" class=\"col_heading level0 col2\" >sum_allocated</th>\n",
       "    </tr>\n",
       "  </thead>\n",
       "  <tbody>\n",
       "    <tr>\n",
       "      <td id=\"T_4687d_row0_col0\" class=\"data row0 col0\" >Independent Living Partnership</td>\n",
       "      <td id=\"T_4687d_row0_col1\" class=\"data row0 col1\" >2017</td>\n",
       "      <td id=\"T_4687d_row0_col2\" class=\"data row0 col2\" >$1,114,031.00</td>\n",
       "    </tr>\n",
       "    <tr>\n",
       "      <td id=\"T_4687d_row1_col0\" class=\"data row1 col0\" >LIFE ElderCare</td>\n",
       "      <td id=\"T_4687d_row1_col1\" class=\"data row1 col1\" >2017</td>\n",
       "      <td id=\"T_4687d_row1_col2\" class=\"data row1 col2\" >$802,658.00</td>\n",
       "    </tr>\n",
       "    <tr>\n",
       "      <td id=\"T_4687d_row2_col0\" class=\"data row2 col0\" >Catholic Charities of the Diocese of Stockton</td>\n",
       "      <td id=\"T_4687d_row2_col1\" class=\"data row2 col1\" >2017</td>\n",
       "      <td id=\"T_4687d_row2_col2\" class=\"data row2 col2\" >$721,986.00</td>\n",
       "    </tr>\n",
       "    <tr>\n",
       "      <td id=\"T_4687d_row3_col0\" class=\"data row3 col0\" >Town of Truckee</td>\n",
       "      <td id=\"T_4687d_row3_col1\" class=\"data row3 col1\" >2017</td>\n",
       "      <td id=\"T_4687d_row3_col2\" class=\"data row3 col2\" >$702,506.00</td>\n",
       "    </tr>\n",
       "    <tr>\n",
       "      <td id=\"T_4687d_row4_col0\" class=\"data row4 col0\" >Marin County Transit District</td>\n",
       "      <td id=\"T_4687d_row4_col1\" class=\"data row4 col1\" >2017</td>\n",
       "      <td id=\"T_4687d_row4_col2\" class=\"data row4 col2\" >$700,000.00</td>\n",
       "    </tr>\n",
       "    <tr>\n",
       "      <td id=\"T_4687d_row5_col0\" class=\"data row5 col0\" >West Valley Community Services</td>\n",
       "      <td id=\"T_4687d_row5_col1\" class=\"data row5 col1\" >2019</td>\n",
       "      <td id=\"T_4687d_row5_col2\" class=\"data row5 col2\" >$649,453.00</td>\n",
       "    </tr>\n",
       "    <tr>\n",
       "      <td id=\"T_4687d_row6_col0\" class=\"data row6 col0\" >Asian Community Center of Sacramento Valley Inc DBA ACC Senior Services</td>\n",
       "      <td id=\"T_4687d_row6_col1\" class=\"data row6 col1\" >2017</td>\n",
       "      <td id=\"T_4687d_row6_col2\" class=\"data row6 col2\" >$624,048.00</td>\n",
       "    </tr>\n",
       "    <tr>\n",
       "      <td id=\"T_4687d_row7_col0\" class=\"data row7 col0\" >Dignity Health Connected Living</td>\n",
       "      <td id=\"T_4687d_row7_col1\" class=\"data row7 col1\" >2017</td>\n",
       "      <td id=\"T_4687d_row7_col2\" class=\"data row7 col2\" >$530,302.00</td>\n",
       "    </tr>\n",
       "    <tr>\n",
       "      <td id=\"T_4687d_row8_col0\" class=\"data row8 col0\" >Community Bridges Liftline</td>\n",
       "      <td id=\"T_4687d_row8_col1\" class=\"data row8 col1\" >2017</td>\n",
       "      <td id=\"T_4687d_row8_col2\" class=\"data row8 col2\" >$475,200.00</td>\n",
       "    </tr>\n",
       "    <tr>\n",
       "      <td id=\"T_4687d_row9_col0\" class=\"data row9 col0\" >United Cerebral Palsy Association of Greater Sacramento Inc</td>\n",
       "      <td id=\"T_4687d_row9_col1\" class=\"data row9 col1\" >2019</td>\n",
       "      <td id=\"T_4687d_row9_col2\" class=\"data row9 col2\" >$467,625.00</td>\n",
       "    </tr>\n",
       "    <tr>\n",
       "      <td id=\"T_4687d_row10_col0\" class=\"data row10 col0\" >Independent Living Partnership</td>\n",
       "      <td id=\"T_4687d_row10_col1\" class=\"data row10 col1\" >2019</td>\n",
       "      <td id=\"T_4687d_row10_col2\" class=\"data row10 col2\" >$465,998.00</td>\n",
       "    </tr>\n",
       "    <tr>\n",
       "      <td id=\"T_4687d_row11_col0\" class=\"data row11 col0\" >Avenidas </td>\n",
       "      <td id=\"T_4687d_row11_col1\" class=\"data row11 col1\" >2017</td>\n",
       "      <td id=\"T_4687d_row11_col2\" class=\"data row11 col2\" >$441,475.00</td>\n",
       "    </tr>\n",
       "    <tr>\n",
       "      <td id=\"T_4687d_row12_col0\" class=\"data row12 col0\" >North of the River Recreation and Park District</td>\n",
       "      <td id=\"T_4687d_row12_col1\" class=\"data row12 col1\" >2017</td>\n",
       "      <td id=\"T_4687d_row12_col2\" class=\"data row12 col2\" >$439,240.00</td>\n",
       "    </tr>\n",
       "    <tr>\n",
       "      <td id=\"T_4687d_row13_col0\" class=\"data row13 col0\" >Community Partners In Caring</td>\n",
       "      <td id=\"T_4687d_row13_col1\" class=\"data row13 col1\" >2017</td>\n",
       "      <td id=\"T_4687d_row13_col2\" class=\"data row13 col2\" >$430,685.00</td>\n",
       "    </tr>\n",
       "    <tr>\n",
       "      <td id=\"T_4687d_row14_col0\" class=\"data row14 col0\" >Outreach & Escort Inc </td>\n",
       "      <td id=\"T_4687d_row14_col1\" class=\"data row14 col1\" >2017</td>\n",
       "      <td id=\"T_4687d_row14_col2\" class=\"data row14 col2\" >$400,000.00</td>\n",
       "    </tr>\n",
       "    <tr>\n",
       "      <td id=\"T_4687d_row15_col0\" class=\"data row15 col0\" >Peninsula Jewish Community Center</td>\n",
       "      <td id=\"T_4687d_row15_col1\" class=\"data row15 col1\" >2017</td>\n",
       "      <td id=\"T_4687d_row15_col2\" class=\"data row15 col2\" >$396,000.00</td>\n",
       "    </tr>\n",
       "    <tr>\n",
       "      <td id=\"T_4687d_row16_col0\" class=\"data row16 col0\" >Mobility Matters</td>\n",
       "      <td id=\"T_4687d_row16_col1\" class=\"data row16 col1\" >2017</td>\n",
       "      <td id=\"T_4687d_row16_col2\" class=\"data row16 col2\" >$395,743.00</td>\n",
       "    </tr>\n",
       "    <tr>\n",
       "      <td id=\"T_4687d_row17_col0\" class=\"data row17 col0\" >County of Sacramento Department of Child Family and Adult Services</td>\n",
       "      <td id=\"T_4687d_row17_col1\" class=\"data row17 col1\" >2017</td>\n",
       "      <td id=\"T_4687d_row17_col2\" class=\"data row17 col2\" >$393,558.00</td>\n",
       "    </tr>\n",
       "    <tr>\n",
       "      <td id=\"T_4687d_row18_col0\" class=\"data row18 col0\" >Friends of Children with Special Needs</td>\n",
       "      <td id=\"T_4687d_row18_col1\" class=\"data row18 col1\" >2017</td>\n",
       "      <td id=\"T_4687d_row18_col2\" class=\"data row18 col2\" >$335,488.00</td>\n",
       "    </tr>\n",
       "    <tr>\n",
       "      <td id=\"T_4687d_row19_col0\" class=\"data row19 col0\" >San Benito County Local Transportation Authority</td>\n",
       "      <td id=\"T_4687d_row19_col1\" class=\"data row19 col1\" >2017</td>\n",
       "      <td id=\"T_4687d_row19_col2\" class=\"data row19 col2\" >$326,400.00</td>\n",
       "    </tr>\n",
       "  </tbody>\n",
       "</table>\n"
      ],
      "text/plain": [
       "<pandas.io.formats.style.Styler at 0x7fae0c40ea90>"
      ]
     },
     "metadata": {},
     "output_type": "display_data"
    }
   ],
   "source": [
    "oa= (df\n",
    " >>filter(_.operating_assistance==1)\n",
    " >> group_by(_.organization_name, _.project_year)\n",
    " >> summarize(sum_allocated = _.allocationamount.sum())\n",
    " >> arrange(-_.sum_allocated)\n",
    ").head(20)\n",
    "\n",
    "oa = (oa.style.hide(axis='index').format(formatter={(\"sum_allocated\"): \"${:,.2f}\"}))\n",
    "display(oa)"
   ]
  },
  {
   "cell_type": "code",
   "execution_count": null,
   "id": "57f87a8a-0dd5-4aee-a5d1-b6d048f1f05d",
   "metadata": {
    "papermill": {
     "duration": 0.043448,
     "end_time": "2022-05-20T19:09:25.509860",
     "exception": false,
     "start_time": "2022-05-20T19:09:25.466412",
     "status": "completed"
    },
    "tags": []
   },
   "outputs": [],
   "source": []
  },
  {
   "cell_type": "markdown",
   "id": "49256088-8d0c-4903-848b-ff4e504cc35c",
   "metadata": {
    "papermill": {
     "duration": 0.042146,
     "end_time": "2022-05-20T19:09:25.596424",
     "exception": false,
     "start_time": "2022-05-20T19:09:25.554278",
     "status": "completed"
    },
    "tags": []
   },
   "source": [
    "**Software Purchase**"
   ]
  },
  {
   "cell_type": "code",
   "execution_count": 32,
   "id": "34412ec8-25c4-4bd0-bcf2-b450afb1f74e",
   "metadata": {
    "execution": {
     "iopub.execute_input": "2022-05-20T19:09:25.680737Z",
     "iopub.status.busy": "2022-05-20T19:09:25.679932Z",
     "iopub.status.idle": "2022-05-20T19:09:25.704685Z",
     "shell.execute_reply": "2022-05-20T19:09:25.704054Z"
    },
    "papermill": {
     "duration": 0.070116,
     "end_time": "2022-05-20T19:09:25.707136",
     "exception": false,
     "start_time": "2022-05-20T19:09:25.637020",
     "status": "completed"
    },
    "tags": []
   },
   "outputs": [
    {
     "data": {
      "text/html": [
       "<style type=\"text/css\">\n",
       "</style>\n",
       "<table id=\"T_d9fd4\">\n",
       "  <thead>\n",
       "    <tr>\n",
       "      <th id=\"T_d9fd4_level0_col0\" class=\"col_heading level0 col0\" >organization_name</th>\n",
       "      <th id=\"T_d9fd4_level0_col1\" class=\"col_heading level0 col1\" >project_year</th>\n",
       "      <th id=\"T_d9fd4_level0_col2\" class=\"col_heading level0 col2\" >sum_allocated</th>\n",
       "    </tr>\n",
       "  </thead>\n",
       "  <tbody>\n",
       "    <tr>\n",
       "      <td id=\"T_d9fd4_row0_col0\" class=\"data row0 col0\" >Catholic Charities of the Diocese of Stockton</td>\n",
       "      <td id=\"T_d9fd4_row0_col1\" class=\"data row0 col1\" >2019</td>\n",
       "      <td id=\"T_d9fd4_row0_col2\" class=\"data row0 col2\" >$20,000.00</td>\n",
       "    </tr>\n",
       "    <tr>\n",
       "      <td id=\"T_d9fd4_row1_col0\" class=\"data row1 col0\" >County of Sonoma Human Services Department Adult and Aging Division</td>\n",
       "      <td id=\"T_d9fd4_row1_col1\" class=\"data row1 col1\" >2018</td>\n",
       "      <td id=\"T_d9fd4_row1_col2\" class=\"data row1 col2\" >$10,000.00</td>\n",
       "    </tr>\n",
       "    <tr>\n",
       "      <td id=\"T_d9fd4_row2_col0\" class=\"data row2 col0\" >Asian Community Center of Sacramento Valley Inc DBA ACC Senior Services</td>\n",
       "      <td id=\"T_d9fd4_row2_col1\" class=\"data row2 col1\" >2017</td>\n",
       "      <td id=\"T_d9fd4_row2_col2\" class=\"data row2 col2\" >$0.00</td>\n",
       "    </tr>\n",
       "    <tr>\n",
       "      <td id=\"T_d9fd4_row3_col0\" class=\"data row3 col0\" >Yolo County Transportation District</td>\n",
       "      <td id=\"T_d9fd4_row3_col1\" class=\"data row3 col1\" >2017</td>\n",
       "      <td id=\"T_d9fd4_row3_col2\" class=\"data row3 col2\" >$0.00</td>\n",
       "    </tr>\n",
       "  </tbody>\n",
       "</table>\n"
      ],
      "text/plain": [
       "<pandas.io.formats.style.Styler at 0x7fada5159b80>"
      ]
     },
     "metadata": {},
     "output_type": "display_data"
    }
   ],
   "source": [
    "sp = (df\n",
    " >>filter(_.hardware_software_purchase==1)\n",
    " >>filter(_.description.str.contains('Software'))\n",
    " >> group_by(_.organization_name, _.project_year)\n",
    " >> summarize(sum_allocated = _.allocationamount.sum())\n",
    "  >> arrange(-_.sum_allocated)\n",
    ").head(20)\n",
    "\n",
    "sp = (sp.style.hide(axis='index').format(formatter={(\"sum_allocated\"): \"${:,.2f}\"}))\n",
    "display(sp)\n"
   ]
  },
  {
   "cell_type": "code",
   "execution_count": 33,
   "id": "ac0aa2e2-58df-4ea3-904e-9bfb546b5f4e",
   "metadata": {
    "execution": {
     "iopub.execute_input": "2022-05-20T19:09:25.792617Z",
     "iopub.status.busy": "2022-05-20T19:09:25.791985Z",
     "iopub.status.idle": "2022-05-20T19:09:25.821007Z",
     "shell.execute_reply": "2022-05-20T19:09:25.820244Z"
    },
    "papermill": {
     "duration": 0.073173,
     "end_time": "2022-05-20T19:09:25.823048",
     "exception": false,
     "start_time": "2022-05-20T19:09:25.749875",
     "status": "completed"
    },
    "tags": []
   },
   "outputs": [
    {
     "data": {
      "text/html": [
       "<style type=\"text/css\">\n",
       "</style>\n",
       "<table id=\"T_e55f9\">\n",
       "  <thead>\n",
       "    <tr>\n",
       "      <th id=\"T_e55f9_level0_col0\" class=\"col_heading level0 col0\" >organization_name</th>\n",
       "      <th id=\"T_e55f9_level0_col1\" class=\"col_heading level0 col1\" >project_year</th>\n",
       "      <th id=\"T_e55f9_level0_col2\" class=\"col_heading level0 col2\" >sum_allocated</th>\n",
       "    </tr>\n",
       "  </thead>\n",
       "  <tbody>\n",
       "    <tr>\n",
       "      <td id=\"T_e55f9_row0_col0\" class=\"data row0 col0\" >United Cerebral Palsy Association of Greater Sacramento Inc</td>\n",
       "      <td id=\"T_e55f9_row0_col1\" class=\"data row0 col1\" >2017</td>\n",
       "      <td id=\"T_e55f9_row0_col2\" class=\"data row0 col2\" >$61,600.00</td>\n",
       "    </tr>\n",
       "    <tr>\n",
       "      <td id=\"T_e55f9_row1_col0\" class=\"data row1 col0\" >Catholic Charities of the Diocese of Stockton</td>\n",
       "      <td id=\"T_e55f9_row1_col1\" class=\"data row1 col1\" >2019</td>\n",
       "      <td id=\"T_e55f9_row1_col2\" class=\"data row1 col2\" >$28,500.00</td>\n",
       "    </tr>\n",
       "    <tr>\n",
       "      <td id=\"T_e55f9_row2_col0\" class=\"data row2 col0\" >Community Bridges Liftline</td>\n",
       "      <td id=\"T_e55f9_row2_col1\" class=\"data row2 col1\" >2017</td>\n",
       "      <td id=\"T_e55f9_row2_col2\" class=\"data row2 col2\" >$17,196.00</td>\n",
       "    </tr>\n",
       "    <tr>\n",
       "      <td id=\"T_e55f9_row3_col0\" class=\"data row3 col0\" >County of Sonoma Human Services Department Adult and Aging Division</td>\n",
       "      <td id=\"T_e55f9_row3_col1\" class=\"data row3 col1\" >2018</td>\n",
       "      <td id=\"T_e55f9_row3_col2\" class=\"data row3 col2\" >$10,000.00</td>\n",
       "    </tr>\n",
       "    <tr>\n",
       "      <td id=\"T_e55f9_row4_col0\" class=\"data row4 col0\" >Community Bridges Liftline</td>\n",
       "      <td id=\"T_e55f9_row4_col1\" class=\"data row4 col1\" >2019</td>\n",
       "      <td id=\"T_e55f9_row4_col2\" class=\"data row4 col2\" >$7,954.00</td>\n",
       "    </tr>\n",
       "    <tr>\n",
       "      <td id=\"T_e55f9_row5_col0\" class=\"data row5 col0\" >Porterville Sheltered Workshop</td>\n",
       "      <td id=\"T_e55f9_row5_col1\" class=\"data row5 col1\" >2019</td>\n",
       "      <td id=\"T_e55f9_row5_col2\" class=\"data row5 col2\" >$7,742.00</td>\n",
       "    </tr>\n",
       "    <tr>\n",
       "      <td id=\"T_e55f9_row6_col0\" class=\"data row6 col0\" >San Joaquin Regional Transit District</td>\n",
       "      <td id=\"T_e55f9_row6_col1\" class=\"data row6 col1\" >2017</td>\n",
       "      <td id=\"T_e55f9_row6_col2\" class=\"data row6 col2\" >$7,571.00</td>\n",
       "    </tr>\n",
       "    <tr>\n",
       "      <td id=\"T_e55f9_row7_col0\" class=\"data row7 col0\" >Sunline Transit Agency</td>\n",
       "      <td id=\"T_e55f9_row7_col1\" class=\"data row7 col1\" >2019</td>\n",
       "      <td id=\"T_e55f9_row7_col2\" class=\"data row7 col2\" >$5,150.00</td>\n",
       "    </tr>\n",
       "    <tr>\n",
       "      <td id=\"T_e55f9_row8_col0\" class=\"data row8 col0\" >Asian Community Center of Sacramento Valley Inc DBA ACC Senior Services</td>\n",
       "      <td id=\"T_e55f9_row8_col1\" class=\"data row8 col1\" >2017</td>\n",
       "      <td id=\"T_e55f9_row8_col2\" class=\"data row8 col2\" >$2,480.00</td>\n",
       "    </tr>\n",
       "    <tr>\n",
       "      <td id=\"T_e55f9_row9_col0\" class=\"data row9 col0\" >Milestones of Development INC</td>\n",
       "      <td id=\"T_e55f9_row9_col1\" class=\"data row9 col1\" >2019</td>\n",
       "      <td id=\"T_e55f9_row9_col2\" class=\"data row9 col2\" >$1,400.00</td>\n",
       "    </tr>\n",
       "    <tr>\n",
       "      <td id=\"T_e55f9_row10_col0\" class=\"data row10 col0\" >Foothill AIDS Project</td>\n",
       "      <td id=\"T_e55f9_row10_col1\" class=\"data row10 col1\" >2017</td>\n",
       "      <td id=\"T_e55f9_row10_col2\" class=\"data row10 col2\" >$1,200.00</td>\n",
       "    </tr>\n",
       "    <tr>\n",
       "      <td id=\"T_e55f9_row11_col0\" class=\"data row11 col0\" >Yolo County Transportation District</td>\n",
       "      <td id=\"T_e55f9_row11_col1\" class=\"data row11 col1\" >2017</td>\n",
       "      <td id=\"T_e55f9_row11_col2\" class=\"data row11 col2\" >$0.00</td>\n",
       "    </tr>\n",
       "  </tbody>\n",
       "</table>\n"
      ],
      "text/plain": [
       "<pandas.io.formats.style.Styler at 0x7fada5159e20>"
      ]
     },
     "metadata": {},
     "output_type": "display_data"
    }
   ],
   "source": [
    "hsp = (df\n",
    " >>filter(_.hardware_software_purchase==1)\n",
    " >> group_by(_.organization_name, _.project_year)\n",
    " >> summarize(sum_allocated = _.allocationamount.sum())\n",
    "       >> arrange(-_.sum_allocated)\n",
    ").head(20)\n",
    "\n",
    "hsp = (hsp.style.hide(axis='index').format(formatter={(\"sum_allocated\"): \"${:,.2f}\"}))\n",
    "display(hsp)\n"
   ]
  },
  {
   "cell_type": "code",
   "execution_count": null,
   "id": "4372261e-9d97-420e-87b1-6ea221bf6037",
   "metadata": {
    "papermill": {
     "duration": 0.044371,
     "end_time": "2022-05-20T19:09:25.909108",
     "exception": false,
     "start_time": "2022-05-20T19:09:25.864737",
     "status": "completed"
    },
    "tags": []
   },
   "outputs": [],
   "source": []
  },
  {
   "cell_type": "markdown",
   "id": "84f430d2-3396-475b-a31f-7eacc49fedc0",
   "metadata": {
    "papermill": {
     "duration": 0.041227,
     "end_time": "2022-05-20T19:09:25.991121",
     "exception": false,
     "start_time": "2022-05-20T19:09:25.949894",
     "status": "completed"
    },
    "tags": []
   },
   "source": [
    "### By County"
   ]
  },
  {
   "cell_type": "code",
   "execution_count": 34,
   "id": "4bc4a769-687d-42d8-81df-bfffaaddd55a",
   "metadata": {
    "execution": {
     "iopub.execute_input": "2022-05-20T19:09:26.081240Z",
     "iopub.status.busy": "2022-05-20T19:09:26.080253Z",
     "iopub.status.idle": "2022-05-20T19:09:26.139947Z",
     "shell.execute_reply": "2022-05-20T19:09:26.139049Z"
    },
    "papermill": {
     "duration": 0.10913,
     "end_time": "2022-05-20T19:09:26.142468",
     "exception": false,
     "start_time": "2022-05-20T19:09:26.033338",
     "status": "completed"
    },
    "scrolled": true,
    "tags": []
   },
   "outputs": [
    {
     "data": {
      "text/html": [
       "<style type=\"text/css\">\n",
       "</style>\n",
       "<table id=\"T_e0238\">\n",
       "  <thead>\n",
       "    <tr>\n",
       "      <th id=\"T_e0238_level0_col0\" class=\"col_heading level0 col0\" >county</th>\n",
       "      <th id=\"T_e0238_level0_col1\" class=\"col_heading level0 col1\" >sum_allocated_by_county</th>\n",
       "    </tr>\n",
       "  </thead>\n",
       "  <tbody>\n",
       "    <tr>\n",
       "      <td id=\"T_e0238_row0_col0\" class=\"data row0 col0\" >Alameda</td>\n",
       "      <td id=\"T_e0238_row0_col1\" class=\"data row0 col1\" >$2,982,664.00</td>\n",
       "    </tr>\n",
       "    <tr>\n",
       "      <td id=\"T_e0238_row1_col0\" class=\"data row1 col0\" >Alameda, Contra Costa</td>\n",
       "      <td id=\"T_e0238_row1_col1\" class=\"data row1 col1\" >$671,900.00</td>\n",
       "    </tr>\n",
       "    <tr>\n",
       "      <td id=\"T_e0238_row2_col0\" class=\"data row2 col0\" >Amador</td>\n",
       "      <td id=\"T_e0238_row2_col1\" class=\"data row2 col1\" >$469,995.00</td>\n",
       "    </tr>\n",
       "    <tr>\n",
       "      <td id=\"T_e0238_row3_col0\" class=\"data row3 col0\" >Amador, Calaveras</td>\n",
       "      <td id=\"T_e0238_row3_col1\" class=\"data row3 col1\" >$299,479.40</td>\n",
       "    </tr>\n",
       "    <tr>\n",
       "      <td id=\"T_e0238_row4_col0\" class=\"data row4 col0\" >Butte</td>\n",
       "      <td id=\"T_e0238_row4_col1\" class=\"data row4 col1\" >$1,235,790.10</td>\n",
       "    </tr>\n",
       "    <tr>\n",
       "      <td id=\"T_e0238_row5_col0\" class=\"data row5 col0\" >Butte, Glen</td>\n",
       "      <td id=\"T_e0238_row5_col1\" class=\"data row5 col1\" >$813,194.00</td>\n",
       "    </tr>\n",
       "    <tr>\n",
       "      <td id=\"T_e0238_row6_col0\" class=\"data row6 col0\" >Calaveras</td>\n",
       "      <td id=\"T_e0238_row6_col1\" class=\"data row6 col1\" >$0.00</td>\n",
       "    </tr>\n",
       "    <tr>\n",
       "      <td id=\"T_e0238_row7_col0\" class=\"data row7 col0\" >Calaveras, Amador, Tuolumne</td>\n",
       "      <td id=\"T_e0238_row7_col1\" class=\"data row7 col1\" >$826,157.00</td>\n",
       "    </tr>\n",
       "    <tr>\n",
       "      <td id=\"T_e0238_row8_col0\" class=\"data row8 col0\" >Colusa</td>\n",
       "      <td id=\"T_e0238_row8_col1\" class=\"data row8 col1\" >$162,400.00</td>\n",
       "    </tr>\n",
       "    <tr>\n",
       "      <td id=\"T_e0238_row9_col0\" class=\"data row9 col0\" >Contra Costa</td>\n",
       "      <td id=\"T_e0238_row9_col1\" class=\"data row9 col1\" >$3,007,198.00</td>\n",
       "    </tr>\n",
       "    <tr>\n",
       "      <td id=\"T_e0238_row10_col0\" class=\"data row10 col0\" >Contra Costa, Napa, Solano, Sacramento</td>\n",
       "      <td id=\"T_e0238_row10_col1\" class=\"data row10 col1\" >$369,716.00</td>\n",
       "    </tr>\n",
       "    <tr>\n",
       "      <td id=\"T_e0238_row11_col0\" class=\"data row11 col0\" >Del Norte</td>\n",
       "      <td id=\"T_e0238_row11_col1\" class=\"data row11 col1\" >$132,700.00</td>\n",
       "    </tr>\n",
       "    <tr>\n",
       "      <td id=\"T_e0238_row12_col0\" class=\"data row12 col0\" >Douglas, Placer, Washoe, Carson City</td>\n",
       "      <td id=\"T_e0238_row12_col1\" class=\"data row12 col1\" >$80,000.00</td>\n",
       "    </tr>\n",
       "    <tr>\n",
       "      <td id=\"T_e0238_row13_col0\" class=\"data row13 col0\" >El Dorado</td>\n",
       "      <td id=\"T_e0238_row13_col1\" class=\"data row13 col1\" >$666,000.00</td>\n",
       "    </tr>\n",
       "    <tr>\n",
       "      <td id=\"T_e0238_row14_col0\" class=\"data row14 col0\" >Humboldt</td>\n",
       "      <td id=\"T_e0238_row14_col1\" class=\"data row14 col1\" >$1,133,905.57</td>\n",
       "    </tr>\n",
       "    <tr>\n",
       "      <td id=\"T_e0238_row15_col0\" class=\"data row15 col0\" >Humboldt, De Norte</td>\n",
       "      <td id=\"T_e0238_row15_col1\" class=\"data row15 col1\" >$146,534.00</td>\n",
       "    </tr>\n",
       "    <tr>\n",
       "      <td id=\"T_e0238_row16_col0\" class=\"data row16 col0\" >Imperial</td>\n",
       "      <td id=\"T_e0238_row16_col1\" class=\"data row16 col1\" >$1,257,956.00</td>\n",
       "    </tr>\n",
       "    <tr>\n",
       "      <td id=\"T_e0238_row17_col0\" class=\"data row17 col0\" >Inyo</td>\n",
       "      <td id=\"T_e0238_row17_col1\" class=\"data row17 col1\" >$284,287.00</td>\n",
       "    </tr>\n",
       "    <tr>\n",
       "      <td id=\"T_e0238_row18_col0\" class=\"data row18 col0\" >Inyo, Mono</td>\n",
       "      <td id=\"T_e0238_row18_col1\" class=\"data row18 col1\" >$72,710.00</td>\n",
       "    </tr>\n",
       "    <tr>\n",
       "      <td id=\"T_e0238_row19_col0\" class=\"data row19 col0\" >Kern</td>\n",
       "      <td id=\"T_e0238_row19_col1\" class=\"data row19 col1\" >$3,133,432.69</td>\n",
       "    </tr>\n",
       "    <tr>\n",
       "      <td id=\"T_e0238_row20_col0\" class=\"data row20 col0\" >Kings</td>\n",
       "      <td id=\"T_e0238_row20_col1\" class=\"data row20 col1\" >$879,572.49</td>\n",
       "    </tr>\n",
       "    <tr>\n",
       "      <td id=\"T_e0238_row21_col0\" class=\"data row21 col0\" >Lake</td>\n",
       "      <td id=\"T_e0238_row21_col1\" class=\"data row21 col1\" >$1,028,208.00</td>\n",
       "    </tr>\n",
       "    <tr>\n",
       "      <td id=\"T_e0238_row22_col0\" class=\"data row22 col0\" >Lassen, Modoc</td>\n",
       "      <td id=\"T_e0238_row22_col1\" class=\"data row22 col1\" >$63,000.00</td>\n",
       "    </tr>\n",
       "    <tr>\n",
       "      <td id=\"T_e0238_row23_col0\" class=\"data row23 col0\" >Marin</td>\n",
       "      <td id=\"T_e0238_row23_col1\" class=\"data row23 col1\" >$2,454,160.00</td>\n",
       "    </tr>\n",
       "    <tr>\n",
       "      <td id=\"T_e0238_row24_col0\" class=\"data row24 col0\" >Mendocino</td>\n",
       "      <td id=\"T_e0238_row24_col1\" class=\"data row24 col1\" >$1,671,032.57</td>\n",
       "    </tr>\n",
       "    <tr>\n",
       "      <td id=\"T_e0238_row25_col0\" class=\"data row25 col0\" >Monterey</td>\n",
       "      <td id=\"T_e0238_row25_col1\" class=\"data row25 col1\" >$1,440,200.00</td>\n",
       "    </tr>\n",
       "    <tr>\n",
       "      <td id=\"T_e0238_row26_col0\" class=\"data row26 col0\" >Monterey, San Mateo, San Benito, Santa Clara, San Francisco</td>\n",
       "      <td id=\"T_e0238_row26_col1\" class=\"data row26 col1\" >$1,077,567.60</td>\n",
       "    </tr>\n",
       "    <tr>\n",
       "      <td id=\"T_e0238_row27_col0\" class=\"data row27 col0\" >Napa</td>\n",
       "      <td id=\"T_e0238_row27_col1\" class=\"data row27 col1\" >$280,000.00</td>\n",
       "    </tr>\n",
       "    <tr>\n",
       "      <td id=\"T_e0238_row28_col0\" class=\"data row28 col0\" >Nevada</td>\n",
       "      <td id=\"T_e0238_row28_col1\" class=\"data row28 col1\" >$1,153,206.00</td>\n",
       "    </tr>\n",
       "    <tr>\n",
       "      <td id=\"T_e0238_row29_col0\" class=\"data row29 col0\" >Nevada, Sierra</td>\n",
       "      <td id=\"T_e0238_row29_col1\" class=\"data row29 col1\" >$871,243.00</td>\n",
       "    </tr>\n",
       "    <tr>\n",
       "      <td id=\"T_e0238_row30_col0\" class=\"data row30 col0\" >Orange, Los Angeles, Riverside, San Bernardino, Ventura</td>\n",
       "      <td id=\"T_e0238_row30_col1\" class=\"data row30 col1\" >$445,941.00</td>\n",
       "    </tr>\n",
       "    <tr>\n",
       "      <td id=\"T_e0238_row31_col0\" class=\"data row31 col0\" >Placer</td>\n",
       "      <td id=\"T_e0238_row31_col1\" class=\"data row31 col1\" >$2,453,032.41</td>\n",
       "    </tr>\n",
       "    <tr>\n",
       "      <td id=\"T_e0238_row32_col0\" class=\"data row32 col0\" >Riverside</td>\n",
       "      <td id=\"T_e0238_row32_col1\" class=\"data row32 col1\" >$6,723,401.00</td>\n",
       "    </tr>\n",
       "    <tr>\n",
       "      <td id=\"T_e0238_row33_col0\" class=\"data row33 col0\" >Sacramento</td>\n",
       "      <td id=\"T_e0238_row33_col1\" class=\"data row33 col1\" >$5,117,233.55</td>\n",
       "    </tr>\n",
       "    <tr>\n",
       "      <td id=\"T_e0238_row34_col0\" class=\"data row34 col0\" >San Benito</td>\n",
       "      <td id=\"T_e0238_row34_col1\" class=\"data row34 col1\" >$533,600.00</td>\n",
       "    </tr>\n",
       "    <tr>\n",
       "      <td id=\"T_e0238_row35_col0\" class=\"data row35 col0\" >San Bernardino</td>\n",
       "      <td id=\"T_e0238_row35_col1\" class=\"data row35 col1\" >$3,637,150.00</td>\n",
       "    </tr>\n",
       "    <tr>\n",
       "      <td id=\"T_e0238_row36_col0\" class=\"data row36 col0\" >San Bernardino, Riverside, Los Angeles</td>\n",
       "      <td id=\"T_e0238_row36_col1\" class=\"data row36 col1\" >$320,411.00</td>\n",
       "    </tr>\n",
       "    <tr>\n",
       "      <td id=\"T_e0238_row37_col0\" class=\"data row37 col0\" >San Diego</td>\n",
       "      <td id=\"T_e0238_row37_col1\" class=\"data row37 col1\" >$2,077,171.00</td>\n",
       "    </tr>\n",
       "    <tr>\n",
       "      <td id=\"T_e0238_row38_col0\" class=\"data row38 col0\" >San Francisco</td>\n",
       "      <td id=\"T_e0238_row38_col1\" class=\"data row38 col1\" >$4,537,490.00</td>\n",
       "    </tr>\n",
       "    <tr>\n",
       "      <td id=\"T_e0238_row39_col0\" class=\"data row39 col0\" >San Francisco, Alameda, San Mateo, Santa Clara</td>\n",
       "      <td id=\"T_e0238_row39_col1\" class=\"data row39 col1\" >$242,098.00</td>\n",
       "    </tr>\n",
       "    <tr>\n",
       "      <td id=\"T_e0238_row40_col0\" class=\"data row40 col0\" >San Francisco, San Mateo, Santa Clara</td>\n",
       "      <td id=\"T_e0238_row40_col1\" class=\"data row40 col1\" >$876,400.00</td>\n",
       "    </tr>\n",
       "    <tr>\n",
       "      <td id=\"T_e0238_row41_col0\" class=\"data row41 col0\" >San Joaquin</td>\n",
       "      <td id=\"T_e0238_row41_col1\" class=\"data row41 col1\" >$1,882,471.00</td>\n",
       "    </tr>\n",
       "    <tr>\n",
       "      <td id=\"T_e0238_row42_col0\" class=\"data row42 col0\" >San Luis Obispo</td>\n",
       "      <td id=\"T_e0238_row42_col1\" class=\"data row42 col1\" >$1,941,324.00</td>\n",
       "    </tr>\n",
       "    <tr>\n",
       "      <td id=\"T_e0238_row43_col0\" class=\"data row43 col0\" >San Mateo</td>\n",
       "      <td id=\"T_e0238_row43_col1\" class=\"data row43 col1\" >$838,212.52</td>\n",
       "    </tr>\n",
       "    <tr>\n",
       "      <td id=\"T_e0238_row44_col0\" class=\"data row44 col0\" >Santa Barbara</td>\n",
       "      <td id=\"T_e0238_row44_col1\" class=\"data row44 col1\" >$2,151,408.60</td>\n",
       "    </tr>\n",
       "    <tr>\n",
       "      <td id=\"T_e0238_row45_col0\" class=\"data row45 col0\" >Santa Barbara, Monterey, San Luis Obispo</td>\n",
       "      <td id=\"T_e0238_row45_col1\" class=\"data row45 col1\" >$375,600.00</td>\n",
       "    </tr>\n",
       "    <tr>\n",
       "      <td id=\"T_e0238_row46_col0\" class=\"data row46 col0\" >Santa Clara</td>\n",
       "      <td id=\"T_e0238_row46_col1\" class=\"data row46 col1\" >$2,890,663.00</td>\n",
       "    </tr>\n",
       "    <tr>\n",
       "      <td id=\"T_e0238_row47_col0\" class=\"data row47 col0\" >Santa Clara, Alameda</td>\n",
       "      <td id=\"T_e0238_row47_col1\" class=\"data row47 col1\" >$1,586,425.00</td>\n",
       "    </tr>\n",
       "    <tr>\n",
       "      <td id=\"T_e0238_row48_col0\" class=\"data row48 col0\" >Santa Cruz</td>\n",
       "      <td id=\"T_e0238_row48_col1\" class=\"data row48 col1\" >$408,304.00</td>\n",
       "    </tr>\n",
       "    <tr>\n",
       "      <td id=\"T_e0238_row49_col0\" class=\"data row49 col0\" >Santa Cruz, San Benito, Santa Clara, Monterey</td>\n",
       "      <td id=\"T_e0238_row49_col1\" class=\"data row49 col1\" >$390,991.00</td>\n",
       "    </tr>\n",
       "    <tr>\n",
       "      <td id=\"T_e0238_row50_col0\" class=\"data row50 col0\" >Shasta</td>\n",
       "      <td id=\"T_e0238_row50_col1\" class=\"data row50 col1\" >$874,329.71</td>\n",
       "    </tr>\n",
       "    <tr>\n",
       "      <td id=\"T_e0238_row51_col0\" class=\"data row51 col0\" >Solano</td>\n",
       "      <td id=\"T_e0238_row51_col1\" class=\"data row51 col1\" >$2,006,537.00</td>\n",
       "    </tr>\n",
       "    <tr>\n",
       "      <td id=\"T_e0238_row52_col0\" class=\"data row52 col0\" >Sonoma</td>\n",
       "      <td id=\"T_e0238_row52_col1\" class=\"data row52 col1\" >$1,303,586.00</td>\n",
       "    </tr>\n",
       "    <tr>\n",
       "      <td id=\"T_e0238_row53_col0\" class=\"data row53 col0\" >Stanislaus</td>\n",
       "      <td id=\"T_e0238_row53_col1\" class=\"data row53 col1\" >$692,200.00</td>\n",
       "    </tr>\n",
       "    <tr>\n",
       "      <td id=\"T_e0238_row54_col0\" class=\"data row54 col0\" >Tehama</td>\n",
       "      <td id=\"T_e0238_row54_col1\" class=\"data row54 col1\" >$747,255.16</td>\n",
       "    </tr>\n",
       "    <tr>\n",
       "      <td id=\"T_e0238_row55_col0\" class=\"data row55 col0\" >Tulare</td>\n",
       "      <td id=\"T_e0238_row55_col1\" class=\"data row55 col1\" >$1,168,422.13</td>\n",
       "    </tr>\n",
       "    <tr>\n",
       "      <td id=\"T_e0238_row56_col0\" class=\"data row56 col0\" >Tuolumne</td>\n",
       "      <td id=\"T_e0238_row56_col1\" class=\"data row56 col1\" >$249,377.00</td>\n",
       "    </tr>\n",
       "    <tr>\n",
       "      <td id=\"T_e0238_row57_col0\" class=\"data row57 col0\" >Ventura</td>\n",
       "      <td id=\"T_e0238_row57_col1\" class=\"data row57 col1\" >$60,000.00</td>\n",
       "    </tr>\n",
       "    <tr>\n",
       "      <td id=\"T_e0238_row58_col0\" class=\"data row58 col0\" >Yolo</td>\n",
       "      <td id=\"T_e0238_row58_col1\" class=\"data row58 col1\" >$64,426.73</td>\n",
       "    </tr>\n",
       "  </tbody>\n",
       "</table>\n"
      ],
      "text/plain": [
       "<pandas.io.formats.style.Styler at 0x7fada5159130>"
      ]
     },
     "metadata": {},
     "output_type": "display_data"
    }
   ],
   "source": [
    "county = (df\n",
    " >> group_by(_.county)\n",
    " >> summarize(sum_allocated_by_county = _.allocationamount.sum())\n",
    ")\n",
    "county = (county.style.hide(axis='index').format(formatter={(\"sum_allocated_by_county\"): \"${:,.2f}\"}))\n",
    "display(county)"
   ]
  },
  {
   "cell_type": "code",
   "execution_count": null,
   "id": "1a3835c4-f5d4-4840-9845-995722ecd5c2",
   "metadata": {
    "papermill": {
     "duration": 0.044288,
     "end_time": "2022-05-20T19:09:26.230651",
     "exception": false,
     "start_time": "2022-05-20T19:09:26.186363",
     "status": "completed"
    },
    "tags": []
   },
   "outputs": [],
   "source": []
  },
  {
   "cell_type": "code",
   "execution_count": null,
   "id": "57bc577a-5081-43fa-87f5-6d6a1e1ea370",
   "metadata": {
    "papermill": {
     "duration": 0.042359,
     "end_time": "2022-05-20T19:09:26.315900",
     "exception": false,
     "start_time": "2022-05-20T19:09:26.273541",
     "status": "completed"
    },
    "tags": []
   },
   "outputs": [],
   "source": []
  }
 ],
 "metadata": {
  "kernelspec": {
   "display_name": "Python 3 (ipykernel)",
   "language": "python",
   "name": "python3"
  },
  "language_info": {
   "codemirror_mode": {
    "name": "ipython",
    "version": 3
   },
   "file_extension": ".py",
   "mimetype": "text/x-python",
   "name": "python",
   "nbconvert_exporter": "python",
   "pygments_lexer": "ipython3",
   "version": "3.9.12"
  },
  "papermill": {
   "default_parameters": {},
   "duration": 17.326851,
   "end_time": "2022-05-20T19:09:27.485553",
   "environment_variables": {},
   "exception": null,
   "input_path": "5310_report_work.ipynb",
   "output_path": "5310_report_output.ipynb",
   "parameters": {},
   "start_time": "2022-05-20T19:09:10.158702",
   "version": "2.3.4"
  },
  "widgets": {
   "application/vnd.jupyter.widget-state+json": {
    "state": {},
    "version_major": 2,
    "version_minor": 0
   }
  }
 },
 "nbformat": 4,
 "nbformat_minor": 5
}