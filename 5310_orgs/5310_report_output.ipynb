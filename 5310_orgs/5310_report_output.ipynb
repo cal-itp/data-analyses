{
 "cells": [
  {
   "cell_type": "markdown",
   "id": "3283b7e9-f056-43d7-aef4-3e5820708aaa",
   "metadata": {
    "papermill": {
     "duration": 0.027267,
     "end_time": "2022-05-19T23:56:57.364769",
     "exception": false,
     "start_time": "2022-05-19T23:56:57.337502",
     "status": "completed"
    },
    "tags": []
   },
   "source": [
    "# Project Types of Interest"
   ]
  },
  {
   "cell_type": "markdown",
   "id": "1987a99b-c650-4e44-823e-e1b3cdda1a98",
   "metadata": {
    "papermill": {
     "duration": 0.027384,
     "end_time": "2022-05-19T23:56:57.422871",
     "exception": false,
     "start_time": "2022-05-19T23:56:57.395487",
     "status": "completed"
    },
    "tags": []
   },
   "source": [
    "## Looking into Organizations with the following project types:\n",
    "*  purchasing wheelchair accessible vehicle\n",
    "* on-demand scheduling \n",
    "* dispatching software platforms"
   ]
  },
  {
   "cell_type": "code",
   "execution_count": 1,
   "id": "e1ebf6aa-4275-44d9-83b5-9b99b7fceb9a",
   "metadata": {
    "execution": {
     "iopub.execute_input": "2022-05-19T23:56:57.483559Z",
     "iopub.status.busy": "2022-05-19T23:56:57.482524Z",
     "iopub.status.idle": "2022-05-19T23:56:57.494342Z",
     "shell.execute_reply": "2022-05-19T23:56:57.493596Z"
    },
    "papermill": {
     "duration": 0.044179,
     "end_time": "2022-05-19T23:56:57.496971",
     "exception": false,
     "start_time": "2022-05-19T23:56:57.452792",
     "status": "completed"
    },
    "tags": []
   },
   "outputs": [],
   "source": [
    "import warnings\n",
    "warnings.filterwarnings('ignore')"
   ]
  },
  {
   "cell_type": "code",
   "execution_count": 2,
   "id": "90a4e032-3017-4279-a7e7-895f292a0168",
   "metadata": {
    "execution": {
     "iopub.execute_input": "2022-05-19T23:56:57.556219Z",
     "iopub.status.busy": "2022-05-19T23:56:57.555550Z",
     "iopub.status.idle": "2022-05-19T23:57:06.222874Z",
     "shell.execute_reply": "2022-05-19T23:57:06.221932Z"
    },
    "papermill": {
     "duration": 8.699565,
     "end_time": "2022-05-19T23:57:06.225412",
     "exception": false,
     "start_time": "2022-05-19T23:56:57.525847",
     "status": "completed"
    },
    "tags": []
   },
   "outputs": [],
   "source": [
    "import pandas as pd\n",
    "from siuba import *\n",
    "import numpy as np\n",
    "\n",
    "import altair as alt\n",
    "\n",
    "from shared_utils import altair_utils\n",
    "from shared_utils import geography_utils\n",
    "from shared_utils import calitp_color_palette as cp\n",
    "from shared_utils import styleguide\n",
    "\n",
    "from calitp import to_snakecase\n",
    "\n",
    "from IPython.display import display, Markdown, HTML"
   ]
  },
  {
   "cell_type": "code",
   "execution_count": 3,
   "id": "cc9496e4-0e66-4cd4-957b-2c1b0ace703b",
   "metadata": {
    "execution": {
     "iopub.execute_input": "2022-05-19T23:57:06.262443Z",
     "iopub.status.busy": "2022-05-19T23:57:06.261534Z",
     "iopub.status.idle": "2022-05-19T23:57:06.280877Z",
     "shell.execute_reply": "2022-05-19T23:57:06.279677Z"
    },
    "papermill": {
     "duration": 0.041135,
     "end_time": "2022-05-19T23:57:06.283712",
     "exception": false,
     "start_time": "2022-05-19T23:57:06.242577",
     "status": "completed"
    },
    "tags": []
   },
   "outputs": [],
   "source": [
    "df = pd.read_csv('5310_info_pt.csv')"
   ]
  },
  {
   "cell_type": "code",
   "execution_count": 4,
   "id": "5b416352-e49a-454f-9e80-ec27568480ca",
   "metadata": {
    "execution": {
     "iopub.execute_input": "2022-05-19T23:57:06.325782Z",
     "iopub.status.busy": "2022-05-19T23:57:06.324671Z",
     "iopub.status.idle": "2022-05-19T23:57:06.330385Z",
     "shell.execute_reply": "2022-05-19T23:57:06.329533Z"
    },
    "papermill": {
     "duration": 0.028501,
     "end_time": "2022-05-19T23:57:06.332775",
     "exception": false,
     "start_time": "2022-05-19T23:57:06.304274",
     "status": "completed"
    },
    "tags": []
   },
   "outputs": [],
   "source": [
    "#df"
   ]
  },
  {
   "cell_type": "markdown",
   "id": "03d79697-7caa-4efa-a577-f49eed402970",
   "metadata": {
    "papermill": {
     "duration": 0.018392,
     "end_time": "2022-05-19T23:57:06.369061",
     "exception": false,
     "start_time": "2022-05-19T23:57:06.350669",
     "status": "completed"
    },
    "tags": []
   },
   "source": [
    "### Purchasing Wheelchair Accessible Vehicles"
   ]
  },
  {
   "cell_type": "code",
   "execution_count": 5,
   "id": "88dcf9f0-ab26-4845-bad4-06c95c1edd24",
   "metadata": {
    "execution": {
     "iopub.execute_input": "2022-05-19T23:57:06.410935Z",
     "iopub.status.busy": "2022-05-19T23:57:06.409981Z",
     "iopub.status.idle": "2022-05-19T23:57:06.414691Z",
     "shell.execute_reply": "2022-05-19T23:57:06.414070Z"
    },
    "papermill": {
     "duration": 0.031268,
     "end_time": "2022-05-19T23:57:06.416792",
     "exception": false,
     "start_time": "2022-05-19T23:57:06.385524",
     "status": "completed"
    },
    "tags": []
   },
   "outputs": [],
   "source": [
    "# no project descirption matches for `wheelchair`, `lifts`, `ramps`, and `securement` "
   ]
  },
  {
   "cell_type": "code",
   "execution_count": 6,
   "id": "dced4fbb-9c91-4907-a12a-8247f7756fad",
   "metadata": {
    "execution": {
     "iopub.execute_input": "2022-05-19T23:57:06.454535Z",
     "iopub.status.busy": "2022-05-19T23:57:06.453759Z",
     "iopub.status.idle": "2022-05-19T23:57:06.460090Z",
     "shell.execute_reply": "2022-05-19T23:57:06.459063Z"
    },
    "papermill": {
     "duration": 0.029043,
     "end_time": "2022-05-19T23:57:06.462624",
     "exception": false,
     "start_time": "2022-05-19T23:57:06.433581",
     "status": "completed"
    },
    "tags": []
   },
   "outputs": [],
   "source": [
    "# display(\n",
    "#     HTML(\n",
    "#         (f\"There are {len(df>>filter(_.description.str.contains('wheelchair')))} project descriptions that mention Wheelchair\")\n",
    "#     ))\n",
    "    "
   ]
  },
  {
   "cell_type": "code",
   "execution_count": 7,
   "id": "940488b1-5bfb-4945-a7d7-2e9f7b0c9a1d",
   "metadata": {
    "execution": {
     "iopub.execute_input": "2022-05-19T23:57:06.527640Z",
     "iopub.status.busy": "2022-05-19T23:57:06.527226Z",
     "iopub.status.idle": "2022-05-19T23:57:06.572098Z",
     "shell.execute_reply": "2022-05-19T23:57:06.571244Z"
    },
    "papermill": {
     "duration": 0.087519,
     "end_time": "2022-05-19T23:57:06.574436",
     "exception": false,
     "start_time": "2022-05-19T23:57:06.486917",
     "status": "completed"
    },
    "tags": []
   },
   "outputs": [
    {
     "data": {
      "text/html": [
       "Of the 92 agencies using 5310 funds for vehicle purchases, 75 are for Bus Purchases, and 38 are for Van Purchases<br> There is 0 mention of wheelchair accessible vehicles, ramps or other accessiblity features"
      ],
      "text/plain": [
       "<IPython.core.display.HTML object>"
      ]
     },
     "metadata": {},
     "output_type": "display_data"
    }
   ],
   "source": [
    "display(\n",
    "    HTML(f\"Of the {len(df>>filter(_.vehicle_purchase==1)>>count(_.organization_name))} agencies using 5310 funds \"\n",
    "      f\"for vehicle purchases, \"\n",
    "      f\"{len(df>>filter(_.vehicle_purchase==1)>>filter(_.description.str.contains('Bus'))>>count(_.organization_name))} \"\n",
    "      f\"are for Bus Purchases, \"\n",
    "      f\"and {len(df>>filter(_.vehicle_purchase==1)>>filter(_.description.str.contains('Van'))>>count(_.organization_name))} \"\n",
    "      f\"are for Van Purchases\"\n",
    "         f\"<br> There is {len(df>>filter(_.description.str.contains('wheelchair')))} mention of wheelchair \"\n",
    "         f\"accessible vehicles, ramps or other accessiblity features\"\n",
    "        ))"
   ]
  },
  {
   "cell_type": "markdown",
   "id": "3c191763-dc98-4602-8f1b-a9300fde1abe",
   "metadata": {
    "papermill": {
     "duration": 0.018896,
     "end_time": "2022-05-19T23:57:06.613015",
     "exception": false,
     "start_time": "2022-05-19T23:57:06.594119",
     "status": "completed"
    },
    "tags": []
   },
   "source": [
    "**Organizations using funds for Vehicle Purchase**"
   ]
  },
  {
   "cell_type": "code",
   "execution_count": 8,
   "id": "78a986a8-e3ae-4fda-9aee-926b6d8c178e",
   "metadata": {
    "execution": {
     "iopub.execute_input": "2022-05-19T23:57:06.653780Z",
     "iopub.status.busy": "2022-05-19T23:57:06.653065Z",
     "iopub.status.idle": "2022-05-19T23:57:06.671567Z",
     "shell.execute_reply": "2022-05-19T23:57:06.670667Z"
    },
    "papermill": {
     "duration": 0.042262,
     "end_time": "2022-05-19T23:57:06.673798",
     "exception": false,
     "start_time": "2022-05-19T23:57:06.631536",
     "status": "completed"
    },
    "tags": []
   },
   "outputs": [
    {
     "data": {
      "text/html": [
       "<table border=\"1\" class=\"dataframe\">\n",
       "  <thead>\n",
       "    <tr style=\"text-align: right;\">\n",
       "      <th>organization_name</th>\n",
       "      <th>n</th>\n",
       "    </tr>\n",
       "  </thead>\n",
       "  <tbody>\n",
       "    <tr>\n",
       "      <td>On Lok Senior Health Services</td>\n",
       "      <td>50</td>\n",
       "    </tr>\n",
       "    <tr>\n",
       "      <td>Pride Industries One Inc</td>\n",
       "      <td>49</td>\n",
       "    </tr>\n",
       "    <tr>\n",
       "      <td>United Cerebral Palsy of San Luis Obispo County</td>\n",
       "      <td>46</td>\n",
       "    </tr>\n",
       "    <tr>\n",
       "      <td>United Cerebral Palsy Association of Greater Sacramento Inc</td>\n",
       "      <td>42</td>\n",
       "    </tr>\n",
       "    <tr>\n",
       "      <td>Kings Rehabilitation Center</td>\n",
       "      <td>30</td>\n",
       "    </tr>\n",
       "    <tr>\n",
       "      <td>Monterey-Salinas Transit</td>\n",
       "      <td>26</td>\n",
       "    </tr>\n",
       "    <tr>\n",
       "      <td>North of the River Recreation and Park District</td>\n",
       "      <td>25</td>\n",
       "    </tr>\n",
       "    <tr>\n",
       "      <td>ARC Bakersfield</td>\n",
       "      <td>20</td>\n",
       "    </tr>\n",
       "    <tr>\n",
       "      <td>Vivalon Inc</td>\n",
       "      <td>20</td>\n",
       "    </tr>\n",
       "    <tr>\n",
       "      <td>Butte County Association of Governments  Butte Regional Transit</td>\n",
       "      <td>19</td>\n",
       "    </tr>\n",
       "  </tbody>\n",
       "</table>"
      ],
      "text/plain": [
       "<IPython.core.display.HTML object>"
      ]
     },
     "metadata": {},
     "output_type": "display_data"
    }
   ],
   "source": [
    "vehicle_purchase= (df>>filter(_.vehicle_purchase==1)>>count(_.organization_name)>>arrange(-_.n)).head(10)\n",
    "display(HTML(vehicle_purchase.to_html(index=False)))"
   ]
  },
  {
   "cell_type": "code",
   "execution_count": null,
   "id": "02e430db-e6bb-4d57-b0b1-a40e3b9e921f",
   "metadata": {
    "papermill": {
     "duration": 0.021707,
     "end_time": "2022-05-19T23:57:06.721864",
     "exception": false,
     "start_time": "2022-05-19T23:57:06.700157",
     "status": "completed"
    },
    "tags": []
   },
   "outputs": [],
   "source": []
  },
  {
   "cell_type": "markdown",
   "id": "70b62e5d-ac67-49c7-ba91-2c5d8a71d612",
   "metadata": {
    "papermill": {
     "duration": 0.020115,
     "end_time": "2022-05-19T23:57:06.762016",
     "exception": false,
     "start_time": "2022-05-19T23:57:06.741901",
     "status": "completed"
    },
    "tags": []
   },
   "source": [
    "### On-demand Scheduling"
   ]
  },
  {
   "cell_type": "markdown",
   "id": "89503665-91ae-412b-824d-1d13064ec816",
   "metadata": {
    "papermill": {
     "duration": 0.019486,
     "end_time": "2022-05-19T23:57:06.799979",
     "exception": false,
     "start_time": "2022-05-19T23:57:06.780493",
     "status": "completed"
    },
    "tags": []
   },
   "source": [
    "**Organizations with Operating Assistance Project types**"
   ]
  },
  {
   "cell_type": "code",
   "execution_count": 9,
   "id": "ac6d9571-f3bc-42bb-90ea-ca63becbec5c",
   "metadata": {
    "execution": {
     "iopub.execute_input": "2022-05-19T23:57:06.844213Z",
     "iopub.status.busy": "2022-05-19T23:57:06.843860Z",
     "iopub.status.idle": "2022-05-19T23:57:06.863160Z",
     "shell.execute_reply": "2022-05-19T23:57:06.862282Z"
    },
    "papermill": {
     "duration": 0.047597,
     "end_time": "2022-05-19T23:57:06.865551",
     "exception": false,
     "start_time": "2022-05-19T23:57:06.817954",
     "status": "completed"
    },
    "tags": []
   },
   "outputs": [
    {
     "data": {
      "text/html": [
       "There is 0 mention of Demand related project types"
      ],
      "text/plain": [
       "<IPython.core.display.HTML object>"
      ]
     },
     "metadata": {},
     "output_type": "display_data"
    },
    {
     "data": {
      "text/html": [
       "There are 65 mentions of Operating Assistance"
      ],
      "text/plain": [
       "<IPython.core.display.HTML object>"
      ]
     },
     "metadata": {},
     "output_type": "display_data"
    }
   ],
   "source": [
    "display(HTML(f\"There is {len(df>>filter(_.description.str.contains('demand')))} mention of Demand related project types\"))\n",
    "display(HTML(f\"There are {len((df>>filter(_.operating_assistance==1)>>count(_.organization_name)>>arrange(-_.n)))} \"\n",
    "             f\"mentions of Operating Assistance\"))"
   ]
  },
  {
   "cell_type": "code",
   "execution_count": 10,
   "id": "ca4d3d59-dab5-410e-ac8b-3ab4c9df9fbd",
   "metadata": {
    "execution": {
     "iopub.execute_input": "2022-05-19T23:57:06.915428Z",
     "iopub.status.busy": "2022-05-19T23:57:06.914998Z",
     "iopub.status.idle": "2022-05-19T23:57:06.929981Z",
     "shell.execute_reply": "2022-05-19T23:57:06.929132Z"
    },
    "papermill": {
     "duration": 0.047124,
     "end_time": "2022-05-19T23:57:06.933009",
     "exception": false,
     "start_time": "2022-05-19T23:57:06.885885",
     "status": "completed"
    },
    "tags": []
   },
   "outputs": [
    {
     "data": {
      "text/html": [
       "<table border=\"1\" class=\"dataframe\">\n",
       "  <thead>\n",
       "    <tr style=\"text-align: right;\">\n",
       "      <th>organization_name</th>\n",
       "      <th>n</th>\n",
       "    </tr>\n",
       "  </thead>\n",
       "  <tbody>\n",
       "    <tr>\n",
       "      <td>Independent Living Partnership</td>\n",
       "      <td>8</td>\n",
       "    </tr>\n",
       "    <tr>\n",
       "      <td>Asian Community Center of Sacramento Valley Inc DBA ACC Senior Services</td>\n",
       "      <td>6</td>\n",
       "    </tr>\n",
       "    <tr>\n",
       "      <td>ARC Imperial Valley</td>\n",
       "      <td>4</td>\n",
       "    </tr>\n",
       "    <tr>\n",
       "      <td>Choice in Aging</td>\n",
       "      <td>4</td>\n",
       "    </tr>\n",
       "    <tr>\n",
       "      <td>County of Sonoma Human Services Department Adult and Aging Division</td>\n",
       "      <td>4</td>\n",
       "    </tr>\n",
       "    <tr>\n",
       "      <td>Mobility Matters</td>\n",
       "      <td>4</td>\n",
       "    </tr>\n",
       "    <tr>\n",
       "      <td>Angel View Inc</td>\n",
       "      <td>3</td>\n",
       "    </tr>\n",
       "    <tr>\n",
       "      <td>Catholic Charities of the Diocese of Stockton</td>\n",
       "      <td>3</td>\n",
       "    </tr>\n",
       "    <tr>\n",
       "      <td>City of Lafayette: Lamorinda Sprit Van Program</td>\n",
       "      <td>3</td>\n",
       "    </tr>\n",
       "    <tr>\n",
       "      <td>County of Sacramento Department of Child Family and Adult Services</td>\n",
       "      <td>3</td>\n",
       "    </tr>\n",
       "  </tbody>\n",
       "</table>"
      ],
      "text/plain": [
       "<IPython.core.display.HTML object>"
      ]
     },
     "metadata": {},
     "output_type": "display_data"
    }
   ],
   "source": [
    "operating_assistance= (df>>filter(_.operating_assistance==1)>>count(_.organization_name)>>arrange(-_.n)).head(10)\n",
    "\n",
    "display(HTML(operating_assistance.to_html(index=False)))"
   ]
  },
  {
   "cell_type": "code",
   "execution_count": null,
   "id": "a704cfee-a550-413a-8f3b-d3cd78429a5e",
   "metadata": {
    "papermill": {
     "duration": 0.02182,
     "end_time": "2022-05-19T23:57:06.976647",
     "exception": false,
     "start_time": "2022-05-19T23:57:06.954827",
     "status": "completed"
    },
    "tags": []
   },
   "outputs": [],
   "source": []
  },
  {
   "cell_type": "markdown",
   "id": "987def42-db7c-4754-aed3-aea562b0998f",
   "metadata": {
    "papermill": {
     "duration": 0.027239,
     "end_time": "2022-05-19T23:57:07.029516",
     "exception": false,
     "start_time": "2022-05-19T23:57:07.002277",
     "status": "completed"
    },
    "tags": []
   },
   "source": [
    "### Dispatching Software Platforms"
   ]
  },
  {
   "cell_type": "code",
   "execution_count": 11,
   "id": "85adc3bb-5f76-47cb-ae08-2fa062f24726",
   "metadata": {
    "execution": {
     "iopub.execute_input": "2022-05-19T23:57:07.076618Z",
     "iopub.status.busy": "2022-05-19T23:57:07.075728Z",
     "iopub.status.idle": "2022-05-19T23:57:07.095461Z",
     "shell.execute_reply": "2022-05-19T23:57:07.094581Z"
    },
    "papermill": {
     "duration": 0.048767,
     "end_time": "2022-05-19T23:57:07.098932",
     "exception": false,
     "start_time": "2022-05-19T23:57:07.050165",
     "status": "completed"
    },
    "tags": []
   },
   "outputs": [
    {
     "data": {
      "text/html": [
       "Out of the 11 with harware or software purchases, 4organization used 5310 funds for software purposes"
      ],
      "text/plain": [
       "<IPython.core.display.HTML object>"
      ]
     },
     "metadata": {},
     "output_type": "display_data"
    }
   ],
   "source": [
    "display(\n",
    "    HTML(f\"Out of the {len(df>>filter(_.hardware_software_purchase==1)>>count(_.organization_name))} \"\n",
    "         f\"with harware or software purchases, \"\n",
    "         f\"{len(df>>filter(_.hardware_software_purchase==1)>>filter(_.description.str.contains('Software'))>>count(_.organization_name))}\" \n",
    "             f\"organization used 5310 funds for software purposes\"))\n",
    "             "
   ]
  },
  {
   "cell_type": "code",
   "execution_count": 12,
   "id": "aa3dc45e-5e6a-45c9-94b9-930f08fdb34e",
   "metadata": {
    "execution": {
     "iopub.execute_input": "2022-05-19T23:57:07.144819Z",
     "iopub.status.busy": "2022-05-19T23:57:07.144136Z",
     "iopub.status.idle": "2022-05-19T23:57:07.159229Z",
     "shell.execute_reply": "2022-05-19T23:57:07.158470Z"
    },
    "papermill": {
     "duration": 0.039983,
     "end_time": "2022-05-19T23:57:07.162078",
     "exception": false,
     "start_time": "2022-05-19T23:57:07.122095",
     "status": "completed"
    },
    "tags": []
   },
   "outputs": [
    {
     "data": {
      "text/html": [
       "<table border=\"1\" class=\"dataframe\">\n",
       "  <thead>\n",
       "    <tr style=\"text-align: right;\">\n",
       "      <th>organization_name</th>\n",
       "      <th>n</th>\n",
       "    </tr>\n",
       "  </thead>\n",
       "  <tbody>\n",
       "    <tr>\n",
       "      <td>Asian Community Center of Sacramento Valley Inc DBA ACC Senior Services</td>\n",
       "      <td>2</td>\n",
       "    </tr>\n",
       "    <tr>\n",
       "      <td>Catholic Charities of the Diocese of Stockton</td>\n",
       "      <td>2</td>\n",
       "    </tr>\n",
       "    <tr>\n",
       "      <td>County of Sonoma Human Services Department Adult and Aging Division</td>\n",
       "      <td>1</td>\n",
       "    </tr>\n",
       "    <tr>\n",
       "      <td>Yolo County Transportation District</td>\n",
       "      <td>2</td>\n",
       "    </tr>\n",
       "  </tbody>\n",
       "</table>"
      ],
      "text/plain": [
       "<IPython.core.display.HTML object>"
      ]
     },
     "metadata": {},
     "output_type": "display_data"
    }
   ],
   "source": [
    "software = (df>>filter(_.hardware_software_purchase==1)>>filter(_.description.str.contains('Software'))>>count(_.organization_name))\n",
    "display(HTML(software.to_html(index=False)))\n"
   ]
  },
  {
   "cell_type": "markdown",
   "id": "f4b2bf0f-068f-4e64-a47f-c64c3f530aa9",
   "metadata": {
    "papermill": {
     "duration": 0.027461,
     "end_time": "2022-05-19T23:57:07.212624",
     "exception": false,
     "start_time": "2022-05-19T23:57:07.185163",
     "status": "completed"
    },
    "tags": []
   },
   "source": [
    "## Project Type Funding Analysis"
   ]
  },
  {
   "cell_type": "markdown",
   "id": "e1880a1f-b47f-4c59-a4fd-cf78d63b1ed0",
   "metadata": {
    "papermill": {
     "duration": 0.019954,
     "end_time": "2022-05-19T23:57:07.254993",
     "exception": false,
     "start_time": "2022-05-19T23:57:07.235039",
     "status": "completed"
    },
    "tags": []
   },
   "source": [
    "### By Organization & Year"
   ]
  },
  {
   "cell_type": "markdown",
   "id": "dca39728-b4d0-4ce2-a6a9-8cfd2e3accbb",
   "metadata": {
    "papermill": {
     "duration": 0.021533,
     "end_time": "2022-05-19T23:57:07.298099",
     "exception": false,
     "start_time": "2022-05-19T23:57:07.276566",
     "status": "completed"
    },
    "tags": []
   },
   "source": [
    "**Sum of Funds Allocated to Organizations by Year (Top 20)**"
   ]
  },
  {
   "cell_type": "code",
   "execution_count": 13,
   "id": "096cfb5a-dd90-4cfb-bf81-892b7112921f",
   "metadata": {
    "execution": {
     "iopub.execute_input": "2022-05-19T23:57:07.343128Z",
     "iopub.status.busy": "2022-05-19T23:57:07.342732Z",
     "iopub.status.idle": "2022-05-19T23:57:07.630907Z",
     "shell.execute_reply": "2022-05-19T23:57:07.630052Z"
    },
    "papermill": {
     "duration": 0.315121,
     "end_time": "2022-05-19T23:57:07.634740",
     "exception": false,
     "start_time": "2022-05-19T23:57:07.319619",
     "status": "completed"
    },
    "tags": []
   },
   "outputs": [
    {
     "data": {
      "text/html": [
       "<style type=\"text/css\">\n",
       "</style>\n",
       "<table id=\"T_67644\">\n",
       "  <thead>\n",
       "    <tr>\n",
       "      <th id=\"T_67644_level0_col0\" class=\"col_heading level0 col0\" >organization_name</th>\n",
       "      <th id=\"T_67644_level0_col1\" class=\"col_heading level0 col1\" >project_year</th>\n",
       "      <th id=\"T_67644_level0_col2\" class=\"col_heading level0 col2\" >sum_allocated_by_year</th>\n",
       "    </tr>\n",
       "  </thead>\n",
       "  <tbody>\n",
       "    <tr>\n",
       "      <td id=\"T_67644_row0_col0\" class=\"data row0 col0\" >United Cerebral Palsy Association of Greater Sacramento Inc</td>\n",
       "      <td id=\"T_67644_row0_col1\" class=\"data row0 col1\" >2017</td>\n",
       "      <td id=\"T_67644_row0_col2\" class=\"data row0 col2\" >$1,782,550.00</td>\n",
       "    </tr>\n",
       "    <tr>\n",
       "      <td id=\"T_67644_row1_col0\" class=\"data row1 col0\" >On Lok Senior Health Services</td>\n",
       "      <td id=\"T_67644_row1_col1\" class=\"data row1 col1\" >2019</td>\n",
       "      <td id=\"T_67644_row1_col2\" class=\"data row1 col2\" >$1,480,000.00</td>\n",
       "    </tr>\n",
       "    <tr>\n",
       "      <td id=\"T_67644_row2_col0\" class=\"data row2 col0\" >Pride Industries One Inc</td>\n",
       "      <td id=\"T_67644_row2_col1\" class=\"data row2 col1\" >2019</td>\n",
       "      <td id=\"T_67644_row2_col2\" class=\"data row2 col2\" >$1,257,714.00</td>\n",
       "    </tr>\n",
       "    <tr>\n",
       "      <td id=\"T_67644_row3_col0\" class=\"data row3 col0\" >Asian Community Center of Sacramento Valley Inc DBA ACC Senior Services</td>\n",
       "      <td id=\"T_67644_row3_col1\" class=\"data row3 col1\" >2017</td>\n",
       "      <td id=\"T_67644_row3_col2\" class=\"data row3 col2\" >$1,246,128.00</td>\n",
       "    </tr>\n",
       "    <tr>\n",
       "      <td id=\"T_67644_row4_col0\" class=\"data row4 col0\" >Mobility Matters</td>\n",
       "      <td id=\"T_67644_row4_col1\" class=\"data row4 col1\" >2017</td>\n",
       "      <td id=\"T_67644_row4_col2\" class=\"data row4 col2\" >$1,160,438.00</td>\n",
       "    </tr>\n",
       "    <tr>\n",
       "      <td id=\"T_67644_row5_col0\" class=\"data row5 col0\" >Friends of Children with Special Needs</td>\n",
       "      <td id=\"T_67644_row5_col1\" class=\"data row5 col1\" >2019</td>\n",
       "      <td id=\"T_67644_row5_col2\" class=\"data row5 col2\" >$1,152,937.00</td>\n",
       "    </tr>\n",
       "    <tr>\n",
       "      <td id=\"T_67644_row6_col0\" class=\"data row6 col0\" >Pride Industries One Inc</td>\n",
       "      <td id=\"T_67644_row6_col1\" class=\"data row6 col1\" >2017</td>\n",
       "      <td id=\"T_67644_row6_col2\" class=\"data row6 col2\" >$1,135,727.52</td>\n",
       "    </tr>\n",
       "    <tr>\n",
       "      <td id=\"T_67644_row7_col0\" class=\"data row7 col0\" >Independent Living Partnership</td>\n",
       "      <td id=\"T_67644_row7_col1\" class=\"data row7 col1\" >2017</td>\n",
       "      <td id=\"T_67644_row7_col2\" class=\"data row7 col2\" >$1,114,031.00</td>\n",
       "    </tr>\n",
       "    <tr>\n",
       "      <td id=\"T_67644_row8_col0\" class=\"data row8 col0\" >ARC Bakersfield</td>\n",
       "      <td id=\"T_67644_row8_col1\" class=\"data row8 col1\" >2017</td>\n",
       "      <td id=\"T_67644_row8_col2\" class=\"data row8 col2\" >$1,008,340.28</td>\n",
       "    </tr>\n",
       "    <tr>\n",
       "      <td id=\"T_67644_row9_col0\" class=\"data row9 col0\" >Marin County Transit District</td>\n",
       "      <td id=\"T_67644_row9_col1\" class=\"data row9 col1\" >2017</td>\n",
       "      <td id=\"T_67644_row9_col2\" class=\"data row9 col2\" >$1,000,000.00</td>\n",
       "    </tr>\n",
       "    <tr>\n",
       "      <td id=\"T_67644_row10_col0\" class=\"data row10 col0\" >Outreach & Escort Inc </td>\n",
       "      <td id=\"T_67644_row10_col1\" class=\"data row10 col1\" >2017</td>\n",
       "      <td id=\"T_67644_row10_col2\" class=\"data row10 col2\" >$1,000,000.00</td>\n",
       "    </tr>\n",
       "    <tr>\n",
       "      <td id=\"T_67644_row11_col0\" class=\"data row11 col0\" >Monterey-Salinas Transit</td>\n",
       "      <td id=\"T_67644_row11_col1\" class=\"data row11 col1\" >2017</td>\n",
       "      <td id=\"T_67644_row11_col2\" class=\"data row11 col2\" >$980,000.00</td>\n",
       "    </tr>\n",
       "    <tr>\n",
       "      <td id=\"T_67644_row12_col0\" class=\"data row12 col0\" >United Cerebral Palsy Association of Greater Sacramento Inc</td>\n",
       "      <td id=\"T_67644_row12_col1\" class=\"data row12 col1\" >2019</td>\n",
       "      <td id=\"T_67644_row12_col2\" class=\"data row12 col2\" >$941,167.00</td>\n",
       "    </tr>\n",
       "    <tr>\n",
       "      <td id=\"T_67644_row13_col0\" class=\"data row13 col0\" >Omnitrans</td>\n",
       "      <td id=\"T_67644_row13_col1\" class=\"data row13 col1\" >2017</td>\n",
       "      <td id=\"T_67644_row13_col2\" class=\"data row13 col2\" >$884,175.00</td>\n",
       "    </tr>\n",
       "    <tr>\n",
       "      <td id=\"T_67644_row14_col0\" class=\"data row14 col0\" >Community Bridges Liftline</td>\n",
       "      <td id=\"T_67644_row14_col1\" class=\"data row14 col1\" >2017</td>\n",
       "      <td id=\"T_67644_row14_col2\" class=\"data row14 col2\" >$880,013.60</td>\n",
       "    </tr>\n",
       "    <tr>\n",
       "      <td id=\"T_67644_row15_col0\" class=\"data row15 col0\" >North of the River Recreation and Park District</td>\n",
       "      <td id=\"T_67644_row15_col1\" class=\"data row15 col1\" >2017</td>\n",
       "      <td id=\"T_67644_row15_col2\" class=\"data row15 col2\" >$846,738.41</td>\n",
       "    </tr>\n",
       "    <tr>\n",
       "      <td id=\"T_67644_row16_col0\" class=\"data row16 col0\" >Peppermint Ridge</td>\n",
       "      <td id=\"T_67644_row16_col1\" class=\"data row16 col1\" >2017</td>\n",
       "      <td id=\"T_67644_row16_col2\" class=\"data row16 col2\" >$825,000.00</td>\n",
       "    </tr>\n",
       "    <tr>\n",
       "      <td id=\"T_67644_row17_col0\" class=\"data row17 col0\" >The Center for Independent Living</td>\n",
       "      <td id=\"T_67644_row17_col1\" class=\"data row17 col1\" >2017</td>\n",
       "      <td id=\"T_67644_row17_col2\" class=\"data row17 col2\" >$818,960.00</td>\n",
       "    </tr>\n",
       "    <tr>\n",
       "      <td id=\"T_67644_row18_col0\" class=\"data row18 col0\" >Vivalon Inc</td>\n",
       "      <td id=\"T_67644_row18_col1\" class=\"data row18 col1\" >2017</td>\n",
       "      <td id=\"T_67644_row18_col2\" class=\"data row18 col2\" >$812,960.00</td>\n",
       "    </tr>\n",
       "    <tr>\n",
       "      <td id=\"T_67644_row19_col0\" class=\"data row19 col0\" >LIFE ElderCare</td>\n",
       "      <td id=\"T_67644_row19_col1\" class=\"data row19 col1\" >2017</td>\n",
       "      <td id=\"T_67644_row19_col2\" class=\"data row19 col2\" >$802,658.00</td>\n",
       "    </tr>\n",
       "  </tbody>\n",
       "</table>\n"
      ],
      "text/plain": [
       "<pandas.io.formats.style.Styler at 0x7f8e344c5c40>"
      ]
     },
     "metadata": {},
     "output_type": "display_data"
    }
   ],
   "source": [
    "top20_sum = (\n",
    "    df\n",
    "    >> group_by(_.organization_name, _.project_year)\n",
    "    >> summarize(sum_allocated_by_year=_.allocationamount.sum())\n",
    "    >> arrange(-_.sum_allocated_by_year)\n",
    ").head(20)\n",
    "\n",
    "top20_sum = (top20_sum.style.hide(axis='index').format(formatter={(\"sum_allocated_by_year\"): \"${:,.2f}\"}))\n",
    "display(top20_sum)\n",
    "#display(HTML(top20_sum.to_html(index=False)))"
   ]
  },
  {
   "cell_type": "code",
   "execution_count": null,
   "id": "5556d670-9290-45e6-8cf7-6a6b63cceda3",
   "metadata": {
    "papermill": {
     "duration": 0.038715,
     "end_time": "2022-05-19T23:57:07.716732",
     "exception": false,
     "start_time": "2022-05-19T23:57:07.678017",
     "status": "completed"
    },
    "tags": []
   },
   "outputs": [],
   "source": []
  },
  {
   "cell_type": "markdown",
   "id": "5a629816-de99-4132-a6d7-a011a23f2689",
   "metadata": {
    "papermill": {
     "duration": 0.028704,
     "end_time": "2022-05-19T23:57:07.779869",
     "exception": false,
     "start_time": "2022-05-19T23:57:07.751165",
     "status": "completed"
    },
    "tags": []
   },
   "source": [
    "### By Organization & Project Types"
   ]
  },
  {
   "cell_type": "markdown",
   "id": "85a3ad60-e1ed-4e87-b33d-dc8fa9f7e24a",
   "metadata": {
    "papermill": {
     "duration": 0.021209,
     "end_time": "2022-05-19T23:57:07.824999",
     "exception": false,
     "start_time": "2022-05-19T23:57:07.803790",
     "status": "completed"
    },
    "tags": []
   },
   "source": [
    "**Vehicle Purchases**"
   ]
  },
  {
   "cell_type": "code",
   "execution_count": 14,
   "id": "12483656-928b-4731-bae7-93efc5455d6b",
   "metadata": {
    "execution": {
     "iopub.execute_input": "2022-05-19T23:57:07.877508Z",
     "iopub.status.busy": "2022-05-19T23:57:07.876071Z",
     "iopub.status.idle": "2022-05-19T23:57:07.981892Z",
     "shell.execute_reply": "2022-05-19T23:57:07.981029Z"
    },
    "papermill": {
     "duration": 0.132884,
     "end_time": "2022-05-19T23:57:07.984116",
     "exception": false,
     "start_time": "2022-05-19T23:57:07.851232",
     "status": "completed"
    },
    "tags": []
   },
   "outputs": [
    {
     "data": {
      "text/html": [
       "<style type=\"text/css\">\n",
       "</style>\n",
       "<table id=\"T_b9a06\">\n",
       "  <thead>\n",
       "    <tr>\n",
       "      <th id=\"T_b9a06_level0_col0\" class=\"col_heading level0 col0\" >organization_name</th>\n",
       "      <th id=\"T_b9a06_level0_col1\" class=\"col_heading level0 col1\" >project_year</th>\n",
       "      <th id=\"T_b9a06_level0_col2\" class=\"col_heading level0 col2\" >sum_allocated</th>\n",
       "    </tr>\n",
       "  </thead>\n",
       "  <tbody>\n",
       "    <tr>\n",
       "      <td id=\"T_b9a06_row0_col0\" class=\"data row0 col0\" >On Lok Senior Health Services</td>\n",
       "      <td id=\"T_b9a06_row0_col1\" class=\"data row0 col1\" >2019</td>\n",
       "      <td id=\"T_b9a06_row0_col2\" class=\"data row0 col2\" >$1,480,000.00</td>\n",
       "    </tr>\n",
       "    <tr>\n",
       "      <td id=\"T_b9a06_row1_col0\" class=\"data row1 col0\" >United Cerebral Palsy Association of Greater Sacramento Inc</td>\n",
       "      <td id=\"T_b9a06_row1_col1\" class=\"data row1 col1\" >2017</td>\n",
       "      <td id=\"T_b9a06_row1_col2\" class=\"data row1 col2\" >$1,449,680.00</td>\n",
       "    </tr>\n",
       "    <tr>\n",
       "      <td id=\"T_b9a06_row2_col0\" class=\"data row2 col0\" >Pride Industries One Inc</td>\n",
       "      <td id=\"T_b9a06_row2_col1\" class=\"data row2 col1\" >2019</td>\n",
       "      <td id=\"T_b9a06_row2_col2\" class=\"data row2 col2\" >$1,209,000.00</td>\n",
       "    </tr>\n",
       "    <tr>\n",
       "      <td id=\"T_b9a06_row3_col0\" class=\"data row3 col0\" >Pride Industries One Inc</td>\n",
       "      <td id=\"T_b9a06_row3_col1\" class=\"data row3 col1\" >2017</td>\n",
       "      <td id=\"T_b9a06_row3_col2\" class=\"data row3 col2\" >$1,135,727.52</td>\n",
       "    </tr>\n",
       "    <tr>\n",
       "      <td id=\"T_b9a06_row4_col0\" class=\"data row4 col0\" >ARC Bakersfield</td>\n",
       "      <td id=\"T_b9a06_row4_col1\" class=\"data row4 col1\" >2017</td>\n",
       "      <td id=\"T_b9a06_row4_col2\" class=\"data row4 col2\" >$1,008,340.28</td>\n",
       "    </tr>\n",
       "    <tr>\n",
       "      <td id=\"T_b9a06_row5_col0\" class=\"data row5 col0\" >Monterey-Salinas Transit</td>\n",
       "      <td id=\"T_b9a06_row5_col1\" class=\"data row5 col1\" >2017</td>\n",
       "      <td id=\"T_b9a06_row5_col2\" class=\"data row5 col2\" >$980,000.00</td>\n",
       "    </tr>\n",
       "    <tr>\n",
       "      <td id=\"T_b9a06_row6_col0\" class=\"data row6 col0\" >United Cerebral Palsy of San Luis Obispo County </td>\n",
       "      <td id=\"T_b9a06_row6_col1\" class=\"data row6 col1\" >2017</td>\n",
       "      <td id=\"T_b9a06_row6_col2\" class=\"data row6 col2\" >$634,000.00</td>\n",
       "    </tr>\n",
       "    <tr>\n",
       "      <td id=\"T_b9a06_row7_col0\" class=\"data row7 col0\" >Asian Community Center of Sacramento Valley Inc DBA ACC Senior Services</td>\n",
       "      <td id=\"T_b9a06_row7_col1\" class=\"data row7 col1\" >2017</td>\n",
       "      <td id=\"T_b9a06_row7_col2\" class=\"data row7 col2\" >$619,600.00</td>\n",
       "    </tr>\n",
       "    <tr>\n",
       "      <td id=\"T_b9a06_row8_col0\" class=\"data row8 col0\" >El Dorado County Transit Authority</td>\n",
       "      <td id=\"T_b9a06_row8_col1\" class=\"data row8 col1\" >2017</td>\n",
       "      <td id=\"T_b9a06_row8_col2\" class=\"data row8 col2\" >$610,000.00</td>\n",
       "    </tr>\n",
       "    <tr>\n",
       "      <td id=\"T_b9a06_row9_col0\" class=\"data row9 col0\" >Institute on Aging </td>\n",
       "      <td id=\"T_b9a06_row9_col1\" class=\"data row9 col1\" >2017</td>\n",
       "      <td id=\"T_b9a06_row9_col2\" class=\"data row9 col2\" >$560,000.00</td>\n",
       "    </tr>\n",
       "    <tr>\n",
       "      <td id=\"T_b9a06_row10_col0\" class=\"data row10 col0\" >Center for Elders' Independence </td>\n",
       "      <td id=\"T_b9a06_row10_col1\" class=\"data row10 col1\" >2019</td>\n",
       "      <td id=\"T_b9a06_row10_col2\" class=\"data row10 col2\" >$536,900.00</td>\n",
       "    </tr>\n",
       "    <tr>\n",
       "      <td id=\"T_b9a06_row11_col0\" class=\"data row11 col0\" >Peppermint Ridge</td>\n",
       "      <td id=\"T_b9a06_row11_col1\" class=\"data row11 col1\" >2017</td>\n",
       "      <td id=\"T_b9a06_row11_col2\" class=\"data row11 col2\" >$525,000.00</td>\n",
       "    </tr>\n",
       "    <tr>\n",
       "      <td id=\"T_b9a06_row12_col0\" class=\"data row12 col0\" >Vivalon Inc</td>\n",
       "      <td id=\"T_b9a06_row12_col1\" class=\"data row12 col1\" >2017</td>\n",
       "      <td id=\"T_b9a06_row12_col2\" class=\"data row12 col2\" >$518,000.00</td>\n",
       "    </tr>\n",
       "    <tr>\n",
       "      <td id=\"T_b9a06_row13_col0\" class=\"data row13 col0\" >Easy Lift Transportation Inc</td>\n",
       "      <td id=\"T_b9a06_row13_col1\" class=\"data row13 col1\" >2017</td>\n",
       "      <td id=\"T_b9a06_row13_col2\" class=\"data row13 col2\" >$514,023.60</td>\n",
       "    </tr>\n",
       "    <tr>\n",
       "      <td id=\"T_b9a06_row14_col0\" class=\"data row14 col0\" >On Lok Senior Health Services</td>\n",
       "      <td id=\"T_b9a06_row14_col1\" class=\"data row14 col1\" >2017</td>\n",
       "      <td id=\"T_b9a06_row14_col2\" class=\"data row14 col2\" >$490,000.00</td>\n",
       "    </tr>\n",
       "    <tr>\n",
       "      <td id=\"T_b9a06_row15_col0\" class=\"data row15 col0\" >Vivalon Inc</td>\n",
       "      <td id=\"T_b9a06_row15_col1\" class=\"data row15 col1\" >2019</td>\n",
       "      <td id=\"T_b9a06_row15_col2\" class=\"data row15 col2\" >$487,200.00</td>\n",
       "    </tr>\n",
       "    <tr>\n",
       "      <td id=\"T_b9a06_row16_col0\" class=\"data row16 col0\" >Kings Rehabilitation Center</td>\n",
       "      <td id=\"T_b9a06_row16_col1\" class=\"data row16 col1\" >2017</td>\n",
       "      <td id=\"T_b9a06_row16_col2\" class=\"data row16 col2\" >$486,972.49</td>\n",
       "    </tr>\n",
       "    <tr>\n",
       "      <td id=\"T_b9a06_row17_col0\" class=\"data row17 col0\" >Omnitrans</td>\n",
       "      <td id=\"T_b9a06_row17_col1\" class=\"data row17 col1\" >2017</td>\n",
       "      <td id=\"T_b9a06_row17_col2\" class=\"data row17 col2\" >$485,000.00</td>\n",
       "    </tr>\n",
       "    <tr>\n",
       "      <td id=\"T_b9a06_row18_col0\" class=\"data row18 col0\" >Monterey-Salinas Transit</td>\n",
       "      <td id=\"T_b9a06_row18_col1\" class=\"data row18 col1\" >2019</td>\n",
       "      <td id=\"T_b9a06_row18_col2\" class=\"data row18 col2\" >$460,200.00</td>\n",
       "    </tr>\n",
       "    <tr>\n",
       "      <td id=\"T_b9a06_row19_col0\" class=\"data row19 col0\" >United Cerebral Palsy Association of Greater Sacramento Inc</td>\n",
       "      <td id=\"T_b9a06_row19_col1\" class=\"data row19 col1\" >2019</td>\n",
       "      <td id=\"T_b9a06_row19_col2\" class=\"data row19 col2\" >$452,000.00</td>\n",
       "    </tr>\n",
       "  </tbody>\n",
       "</table>\n"
      ],
      "text/plain": [
       "<pandas.io.formats.style.Styler at 0x7f8dcf329d00>"
      ]
     },
     "metadata": {},
     "output_type": "display_data"
    }
   ],
   "source": [
    "vp = (df\n",
    " >>filter(_.vehicle_purchase==1)\n",
    " >> group_by(_.organization_name, _.project_year)\n",
    " >> summarize(sum_allocated = _.allocationamount.sum())\n",
    "  >> arrange(-_.sum_allocated)\n",
    ").head(20)\n",
    "\n",
    "vp = (vp.style.hide(axis='index').format(formatter={(\"sum_allocated\"): \"${:,.2f}\"}))\n",
    "display(vp)"
   ]
  },
  {
   "cell_type": "code",
   "execution_count": null,
   "id": "d0587ae2-164f-4951-9be9-80b7562fe8f4",
   "metadata": {
    "papermill": {
     "duration": 0.022819,
     "end_time": "2022-05-19T23:57:08.035399",
     "exception": false,
     "start_time": "2022-05-19T23:57:08.012580",
     "status": "completed"
    },
    "tags": []
   },
   "outputs": [],
   "source": []
  },
  {
   "cell_type": "markdown",
   "id": "87830e4b-9099-402f-b958-737b6880fb8f",
   "metadata": {
    "papermill": {
     "duration": 0.022512,
     "end_time": "2022-05-19T23:57:08.079631",
     "exception": false,
     "start_time": "2022-05-19T23:57:08.057119",
     "status": "completed"
    },
    "tags": []
   },
   "source": [
    "**Operating Assistance**"
   ]
  },
  {
   "cell_type": "code",
   "execution_count": 15,
   "id": "befc8999-b2f6-45b9-92cf-02e5f992896c",
   "metadata": {
    "execution": {
     "iopub.execute_input": "2022-05-19T23:57:08.124687Z",
     "iopub.status.busy": "2022-05-19T23:57:08.124325Z",
     "iopub.status.idle": "2022-05-19T23:57:08.206248Z",
     "shell.execute_reply": "2022-05-19T23:57:08.205279Z"
    },
    "papermill": {
     "duration": 0.107802,
     "end_time": "2022-05-19T23:57:08.208648",
     "exception": false,
     "start_time": "2022-05-19T23:57:08.100846",
     "status": "completed"
    },
    "tags": []
   },
   "outputs": [
    {
     "data": {
      "text/html": [
       "<style type=\"text/css\">\n",
       "</style>\n",
       "<table id=\"T_4d2c6\">\n",
       "  <thead>\n",
       "    <tr>\n",
       "      <th id=\"T_4d2c6_level0_col0\" class=\"col_heading level0 col0\" >organization_name</th>\n",
       "      <th id=\"T_4d2c6_level0_col1\" class=\"col_heading level0 col1\" >project_year</th>\n",
       "      <th id=\"T_4d2c6_level0_col2\" class=\"col_heading level0 col2\" >sum_allocated</th>\n",
       "    </tr>\n",
       "  </thead>\n",
       "  <tbody>\n",
       "    <tr>\n",
       "      <td id=\"T_4d2c6_row0_col0\" class=\"data row0 col0\" >Independent Living Partnership</td>\n",
       "      <td id=\"T_4d2c6_row0_col1\" class=\"data row0 col1\" >2017</td>\n",
       "      <td id=\"T_4d2c6_row0_col2\" class=\"data row0 col2\" >$1,114,031.00</td>\n",
       "    </tr>\n",
       "    <tr>\n",
       "      <td id=\"T_4d2c6_row1_col0\" class=\"data row1 col0\" >LIFE ElderCare</td>\n",
       "      <td id=\"T_4d2c6_row1_col1\" class=\"data row1 col1\" >2017</td>\n",
       "      <td id=\"T_4d2c6_row1_col2\" class=\"data row1 col2\" >$802,658.00</td>\n",
       "    </tr>\n",
       "    <tr>\n",
       "      <td id=\"T_4d2c6_row2_col0\" class=\"data row2 col0\" >Catholic Charities of the Diocese of Stockton</td>\n",
       "      <td id=\"T_4d2c6_row2_col1\" class=\"data row2 col1\" >2017</td>\n",
       "      <td id=\"T_4d2c6_row2_col2\" class=\"data row2 col2\" >$721,986.00</td>\n",
       "    </tr>\n",
       "    <tr>\n",
       "      <td id=\"T_4d2c6_row3_col0\" class=\"data row3 col0\" >Town of Truckee</td>\n",
       "      <td id=\"T_4d2c6_row3_col1\" class=\"data row3 col1\" >2017</td>\n",
       "      <td id=\"T_4d2c6_row3_col2\" class=\"data row3 col2\" >$702,506.00</td>\n",
       "    </tr>\n",
       "    <tr>\n",
       "      <td id=\"T_4d2c6_row4_col0\" class=\"data row4 col0\" >Marin County Transit District</td>\n",
       "      <td id=\"T_4d2c6_row4_col1\" class=\"data row4 col1\" >2017</td>\n",
       "      <td id=\"T_4d2c6_row4_col2\" class=\"data row4 col2\" >$700,000.00</td>\n",
       "    </tr>\n",
       "    <tr>\n",
       "      <td id=\"T_4d2c6_row5_col0\" class=\"data row5 col0\" >West Valley Community Services</td>\n",
       "      <td id=\"T_4d2c6_row5_col1\" class=\"data row5 col1\" >2019</td>\n",
       "      <td id=\"T_4d2c6_row5_col2\" class=\"data row5 col2\" >$649,453.00</td>\n",
       "    </tr>\n",
       "    <tr>\n",
       "      <td id=\"T_4d2c6_row6_col0\" class=\"data row6 col0\" >Asian Community Center of Sacramento Valley Inc DBA ACC Senior Services</td>\n",
       "      <td id=\"T_4d2c6_row6_col1\" class=\"data row6 col1\" >2017</td>\n",
       "      <td id=\"T_4d2c6_row6_col2\" class=\"data row6 col2\" >$624,048.00</td>\n",
       "    </tr>\n",
       "    <tr>\n",
       "      <td id=\"T_4d2c6_row7_col0\" class=\"data row7 col0\" >Dignity Health Connected Living</td>\n",
       "      <td id=\"T_4d2c6_row7_col1\" class=\"data row7 col1\" >2017</td>\n",
       "      <td id=\"T_4d2c6_row7_col2\" class=\"data row7 col2\" >$530,302.00</td>\n",
       "    </tr>\n",
       "    <tr>\n",
       "      <td id=\"T_4d2c6_row8_col0\" class=\"data row8 col0\" >Community Bridges Liftline</td>\n",
       "      <td id=\"T_4d2c6_row8_col1\" class=\"data row8 col1\" >2017</td>\n",
       "      <td id=\"T_4d2c6_row8_col2\" class=\"data row8 col2\" >$475,200.00</td>\n",
       "    </tr>\n",
       "    <tr>\n",
       "      <td id=\"T_4d2c6_row9_col0\" class=\"data row9 col0\" >United Cerebral Palsy Association of Greater Sacramento Inc</td>\n",
       "      <td id=\"T_4d2c6_row9_col1\" class=\"data row9 col1\" >2019</td>\n",
       "      <td id=\"T_4d2c6_row9_col2\" class=\"data row9 col2\" >$467,625.00</td>\n",
       "    </tr>\n",
       "    <tr>\n",
       "      <td id=\"T_4d2c6_row10_col0\" class=\"data row10 col0\" >Independent Living Partnership</td>\n",
       "      <td id=\"T_4d2c6_row10_col1\" class=\"data row10 col1\" >2019</td>\n",
       "      <td id=\"T_4d2c6_row10_col2\" class=\"data row10 col2\" >$465,998.00</td>\n",
       "    </tr>\n",
       "    <tr>\n",
       "      <td id=\"T_4d2c6_row11_col0\" class=\"data row11 col0\" >Avenidas </td>\n",
       "      <td id=\"T_4d2c6_row11_col1\" class=\"data row11 col1\" >2017</td>\n",
       "      <td id=\"T_4d2c6_row11_col2\" class=\"data row11 col2\" >$441,475.00</td>\n",
       "    </tr>\n",
       "    <tr>\n",
       "      <td id=\"T_4d2c6_row12_col0\" class=\"data row12 col0\" >North of the River Recreation and Park District</td>\n",
       "      <td id=\"T_4d2c6_row12_col1\" class=\"data row12 col1\" >2017</td>\n",
       "      <td id=\"T_4d2c6_row12_col2\" class=\"data row12 col2\" >$439,240.00</td>\n",
       "    </tr>\n",
       "    <tr>\n",
       "      <td id=\"T_4d2c6_row13_col0\" class=\"data row13 col0\" >Community Partners In Caring</td>\n",
       "      <td id=\"T_4d2c6_row13_col1\" class=\"data row13 col1\" >2017</td>\n",
       "      <td id=\"T_4d2c6_row13_col2\" class=\"data row13 col2\" >$430,685.00</td>\n",
       "    </tr>\n",
       "    <tr>\n",
       "      <td id=\"T_4d2c6_row14_col0\" class=\"data row14 col0\" >Outreach & Escort Inc </td>\n",
       "      <td id=\"T_4d2c6_row14_col1\" class=\"data row14 col1\" >2017</td>\n",
       "      <td id=\"T_4d2c6_row14_col2\" class=\"data row14 col2\" >$400,000.00</td>\n",
       "    </tr>\n",
       "    <tr>\n",
       "      <td id=\"T_4d2c6_row15_col0\" class=\"data row15 col0\" >Peninsula Jewish Community Center</td>\n",
       "      <td id=\"T_4d2c6_row15_col1\" class=\"data row15 col1\" >2017</td>\n",
       "      <td id=\"T_4d2c6_row15_col2\" class=\"data row15 col2\" >$396,000.00</td>\n",
       "    </tr>\n",
       "    <tr>\n",
       "      <td id=\"T_4d2c6_row16_col0\" class=\"data row16 col0\" >Mobility Matters</td>\n",
       "      <td id=\"T_4d2c6_row16_col1\" class=\"data row16 col1\" >2017</td>\n",
       "      <td id=\"T_4d2c6_row16_col2\" class=\"data row16 col2\" >$395,743.00</td>\n",
       "    </tr>\n",
       "    <tr>\n",
       "      <td id=\"T_4d2c6_row17_col0\" class=\"data row17 col0\" >County of Sacramento Department of Child Family and Adult Services</td>\n",
       "      <td id=\"T_4d2c6_row17_col1\" class=\"data row17 col1\" >2017</td>\n",
       "      <td id=\"T_4d2c6_row17_col2\" class=\"data row17 col2\" >$393,558.00</td>\n",
       "    </tr>\n",
       "    <tr>\n",
       "      <td id=\"T_4d2c6_row18_col0\" class=\"data row18 col0\" >Friends of Children with Special Needs</td>\n",
       "      <td id=\"T_4d2c6_row18_col1\" class=\"data row18 col1\" >2017</td>\n",
       "      <td id=\"T_4d2c6_row18_col2\" class=\"data row18 col2\" >$335,488.00</td>\n",
       "    </tr>\n",
       "    <tr>\n",
       "      <td id=\"T_4d2c6_row19_col0\" class=\"data row19 col0\" >San Benito County Local Transportation Authority</td>\n",
       "      <td id=\"T_4d2c6_row19_col1\" class=\"data row19 col1\" >2017</td>\n",
       "      <td id=\"T_4d2c6_row19_col2\" class=\"data row19 col2\" >$326,400.00</td>\n",
       "    </tr>\n",
       "  </tbody>\n",
       "</table>\n"
      ],
      "text/plain": [
       "<pandas.io.formats.style.Styler at 0x7f8dcf2ecbb0>"
      ]
     },
     "metadata": {},
     "output_type": "display_data"
    }
   ],
   "source": [
    "oa= (df\n",
    " >>filter(_.operating_assistance==1)\n",
    " >> group_by(_.organization_name, _.project_year)\n",
    " >> summarize(sum_allocated = _.allocationamount.sum())\n",
    " >> arrange(-_.sum_allocated)\n",
    ").head(20)\n",
    "\n",
    "oa = (oa.style.hide(axis='index').format(formatter={(\"sum_allocated\"): \"${:,.2f}\"}))\n",
    "display(oa)"
   ]
  },
  {
   "cell_type": "code",
   "execution_count": null,
   "id": "57f87a8a-0dd5-4aee-a5d1-b6d048f1f05d",
   "metadata": {
    "papermill": {
     "duration": 0.026309,
     "end_time": "2022-05-19T23:57:08.258116",
     "exception": false,
     "start_time": "2022-05-19T23:57:08.231807",
     "status": "completed"
    },
    "tags": []
   },
   "outputs": [],
   "source": []
  },
  {
   "cell_type": "markdown",
   "id": "49256088-8d0c-4903-848b-ff4e504cc35c",
   "metadata": {
    "papermill": {
     "duration": 0.024156,
     "end_time": "2022-05-19T23:57:08.305278",
     "exception": false,
     "start_time": "2022-05-19T23:57:08.281122",
     "status": "completed"
    },
    "tags": []
   },
   "source": [
    "**Software Purchase**"
   ]
  },
  {
   "cell_type": "code",
   "execution_count": 16,
   "id": "34412ec8-25c4-4bd0-bcf2-b450afb1f74e",
   "metadata": {
    "execution": {
     "iopub.execute_input": "2022-05-19T23:57:08.358535Z",
     "iopub.status.busy": "2022-05-19T23:57:08.358177Z",
     "iopub.status.idle": "2022-05-19T23:57:08.402736Z",
     "shell.execute_reply": "2022-05-19T23:57:08.401571Z"
    },
    "papermill": {
     "duration": 0.075208,
     "end_time": "2022-05-19T23:57:08.405272",
     "exception": false,
     "start_time": "2022-05-19T23:57:08.330064",
     "status": "completed"
    },
    "tags": []
   },
   "outputs": [
    {
     "data": {
      "text/html": [
       "<style type=\"text/css\">\n",
       "</style>\n",
       "<table id=\"T_dd5cf\">\n",
       "  <thead>\n",
       "    <tr>\n",
       "      <th id=\"T_dd5cf_level0_col0\" class=\"col_heading level0 col0\" >organization_name</th>\n",
       "      <th id=\"T_dd5cf_level0_col1\" class=\"col_heading level0 col1\" >project_year</th>\n",
       "      <th id=\"T_dd5cf_level0_col2\" class=\"col_heading level0 col2\" >sum_allocated</th>\n",
       "    </tr>\n",
       "  </thead>\n",
       "  <tbody>\n",
       "    <tr>\n",
       "      <td id=\"T_dd5cf_row0_col0\" class=\"data row0 col0\" >Catholic Charities of the Diocese of Stockton</td>\n",
       "      <td id=\"T_dd5cf_row0_col1\" class=\"data row0 col1\" >2019</td>\n",
       "      <td id=\"T_dd5cf_row0_col2\" class=\"data row0 col2\" >$20,000.00</td>\n",
       "    </tr>\n",
       "    <tr>\n",
       "      <td id=\"T_dd5cf_row1_col0\" class=\"data row1 col0\" >County of Sonoma Human Services Department Adult and Aging Division</td>\n",
       "      <td id=\"T_dd5cf_row1_col1\" class=\"data row1 col1\" >2018</td>\n",
       "      <td id=\"T_dd5cf_row1_col2\" class=\"data row1 col2\" >$10,000.00</td>\n",
       "    </tr>\n",
       "    <tr>\n",
       "      <td id=\"T_dd5cf_row2_col0\" class=\"data row2 col0\" >Asian Community Center of Sacramento Valley Inc DBA ACC Senior Services</td>\n",
       "      <td id=\"T_dd5cf_row2_col1\" class=\"data row2 col1\" >2017</td>\n",
       "      <td id=\"T_dd5cf_row2_col2\" class=\"data row2 col2\" >$0.00</td>\n",
       "    </tr>\n",
       "    <tr>\n",
       "      <td id=\"T_dd5cf_row3_col0\" class=\"data row3 col0\" >Yolo County Transportation District</td>\n",
       "      <td id=\"T_dd5cf_row3_col1\" class=\"data row3 col1\" >2017</td>\n",
       "      <td id=\"T_dd5cf_row3_col2\" class=\"data row3 col2\" >$0.00</td>\n",
       "    </tr>\n",
       "  </tbody>\n",
       "</table>\n"
      ],
      "text/plain": [
       "<pandas.io.formats.style.Styler at 0x7f8dcf32ed60>"
      ]
     },
     "metadata": {},
     "output_type": "display_data"
    }
   ],
   "source": [
    "sp = (df\n",
    " >>filter(_.hardware_software_purchase==1)\n",
    " >>filter(_.description.str.contains('Software'))\n",
    " >> group_by(_.organization_name, _.project_year)\n",
    " >> summarize(sum_allocated = _.allocationamount.sum())\n",
    "  >> arrange(-_.sum_allocated)\n",
    ").head(20)\n",
    "\n",
    "sp = (sp.style.hide(axis='index').format(formatter={(\"sum_allocated\"): \"${:,.2f}\"}))\n",
    "display(sp)\n"
   ]
  },
  {
   "cell_type": "code",
   "execution_count": 17,
   "id": "ac0aa2e2-58df-4ea3-904e-9bfb546b5f4e",
   "metadata": {
    "execution": {
     "iopub.execute_input": "2022-05-19T23:57:08.452891Z",
     "iopub.status.busy": "2022-05-19T23:57:08.452565Z",
     "iopub.status.idle": "2022-05-19T23:57:08.497366Z",
     "shell.execute_reply": "2022-05-19T23:57:08.486693Z"
    },
    "papermill": {
     "duration": 0.072223,
     "end_time": "2022-05-19T23:57:08.500156",
     "exception": false,
     "start_time": "2022-05-19T23:57:08.427933",
     "status": "completed"
    },
    "tags": []
   },
   "outputs": [
    {
     "data": {
      "text/html": [
       "<style type=\"text/css\">\n",
       "</style>\n",
       "<table id=\"T_e1347\">\n",
       "  <thead>\n",
       "    <tr>\n",
       "      <th id=\"T_e1347_level0_col0\" class=\"col_heading level0 col0\" >organization_name</th>\n",
       "      <th id=\"T_e1347_level0_col1\" class=\"col_heading level0 col1\" >project_year</th>\n",
       "      <th id=\"T_e1347_level0_col2\" class=\"col_heading level0 col2\" >sum_allocated</th>\n",
       "    </tr>\n",
       "  </thead>\n",
       "  <tbody>\n",
       "    <tr>\n",
       "      <td id=\"T_e1347_row0_col0\" class=\"data row0 col0\" >United Cerebral Palsy Association of Greater Sacramento Inc</td>\n",
       "      <td id=\"T_e1347_row0_col1\" class=\"data row0 col1\" >2017</td>\n",
       "      <td id=\"T_e1347_row0_col2\" class=\"data row0 col2\" >$61,600.00</td>\n",
       "    </tr>\n",
       "    <tr>\n",
       "      <td id=\"T_e1347_row1_col0\" class=\"data row1 col0\" >Catholic Charities of the Diocese of Stockton</td>\n",
       "      <td id=\"T_e1347_row1_col1\" class=\"data row1 col1\" >2019</td>\n",
       "      <td id=\"T_e1347_row1_col2\" class=\"data row1 col2\" >$28,500.00</td>\n",
       "    </tr>\n",
       "    <tr>\n",
       "      <td id=\"T_e1347_row2_col0\" class=\"data row2 col0\" >Community Bridges Liftline</td>\n",
       "      <td id=\"T_e1347_row2_col1\" class=\"data row2 col1\" >2017</td>\n",
       "      <td id=\"T_e1347_row2_col2\" class=\"data row2 col2\" >$17,196.00</td>\n",
       "    </tr>\n",
       "    <tr>\n",
       "      <td id=\"T_e1347_row3_col0\" class=\"data row3 col0\" >County of Sonoma Human Services Department Adult and Aging Division</td>\n",
       "      <td id=\"T_e1347_row3_col1\" class=\"data row3 col1\" >2018</td>\n",
       "      <td id=\"T_e1347_row3_col2\" class=\"data row3 col2\" >$10,000.00</td>\n",
       "    </tr>\n",
       "    <tr>\n",
       "      <td id=\"T_e1347_row4_col0\" class=\"data row4 col0\" >Community Bridges Liftline</td>\n",
       "      <td id=\"T_e1347_row4_col1\" class=\"data row4 col1\" >2019</td>\n",
       "      <td id=\"T_e1347_row4_col2\" class=\"data row4 col2\" >$7,954.00</td>\n",
       "    </tr>\n",
       "    <tr>\n",
       "      <td id=\"T_e1347_row5_col0\" class=\"data row5 col0\" >Porterville Sheltered Workshop</td>\n",
       "      <td id=\"T_e1347_row5_col1\" class=\"data row5 col1\" >2019</td>\n",
       "      <td id=\"T_e1347_row5_col2\" class=\"data row5 col2\" >$7,742.00</td>\n",
       "    </tr>\n",
       "    <tr>\n",
       "      <td id=\"T_e1347_row6_col0\" class=\"data row6 col0\" >San Joaquin Regional Transit District</td>\n",
       "      <td id=\"T_e1347_row6_col1\" class=\"data row6 col1\" >2017</td>\n",
       "      <td id=\"T_e1347_row6_col2\" class=\"data row6 col2\" >$7,571.00</td>\n",
       "    </tr>\n",
       "    <tr>\n",
       "      <td id=\"T_e1347_row7_col0\" class=\"data row7 col0\" >Sunline Transit Agency</td>\n",
       "      <td id=\"T_e1347_row7_col1\" class=\"data row7 col1\" >2019</td>\n",
       "      <td id=\"T_e1347_row7_col2\" class=\"data row7 col2\" >$5,150.00</td>\n",
       "    </tr>\n",
       "    <tr>\n",
       "      <td id=\"T_e1347_row8_col0\" class=\"data row8 col0\" >Asian Community Center of Sacramento Valley Inc DBA ACC Senior Services</td>\n",
       "      <td id=\"T_e1347_row8_col1\" class=\"data row8 col1\" >2017</td>\n",
       "      <td id=\"T_e1347_row8_col2\" class=\"data row8 col2\" >$2,480.00</td>\n",
       "    </tr>\n",
       "    <tr>\n",
       "      <td id=\"T_e1347_row9_col0\" class=\"data row9 col0\" >Milestones of Development INC</td>\n",
       "      <td id=\"T_e1347_row9_col1\" class=\"data row9 col1\" >2019</td>\n",
       "      <td id=\"T_e1347_row9_col2\" class=\"data row9 col2\" >$1,400.00</td>\n",
       "    </tr>\n",
       "    <tr>\n",
       "      <td id=\"T_e1347_row10_col0\" class=\"data row10 col0\" >Foothill AIDS Project</td>\n",
       "      <td id=\"T_e1347_row10_col1\" class=\"data row10 col1\" >2017</td>\n",
       "      <td id=\"T_e1347_row10_col2\" class=\"data row10 col2\" >$1,200.00</td>\n",
       "    </tr>\n",
       "    <tr>\n",
       "      <td id=\"T_e1347_row11_col0\" class=\"data row11 col0\" >Yolo County Transportation District</td>\n",
       "      <td id=\"T_e1347_row11_col1\" class=\"data row11 col1\" >2017</td>\n",
       "      <td id=\"T_e1347_row11_col2\" class=\"data row11 col2\" >$0.00</td>\n",
       "    </tr>\n",
       "  </tbody>\n",
       "</table>\n"
      ],
      "text/plain": [
       "<pandas.io.formats.style.Styler at 0x7f8dcf2d5a30>"
      ]
     },
     "metadata": {},
     "output_type": "display_data"
    }
   ],
   "source": [
    "hsp = (df\n",
    " >>filter(_.hardware_software_purchase==1)\n",
    " >> group_by(_.organization_name, _.project_year)\n",
    " >> summarize(sum_allocated = _.allocationamount.sum())\n",
    "       >> arrange(-_.sum_allocated)\n",
    ").head(20)\n",
    "\n",
    "hsp = (hsp.style.hide(axis='index').format(formatter={(\"sum_allocated\"): \"${:,.2f}\"}))\n",
    "display(hsp)\n"
   ]
  },
  {
   "cell_type": "code",
   "execution_count": null,
   "id": "4372261e-9d97-420e-87b1-6ea221bf6037",
   "metadata": {
    "papermill": {
     "duration": 0.022365,
     "end_time": "2022-05-19T23:57:08.545394",
     "exception": false,
     "start_time": "2022-05-19T23:57:08.523029",
     "status": "completed"
    },
    "tags": []
   },
   "outputs": [],
   "source": []
  },
  {
   "cell_type": "markdown",
   "id": "84f430d2-3396-475b-a31f-7eacc49fedc0",
   "metadata": {
    "papermill": {
     "duration": 0.024933,
     "end_time": "2022-05-19T23:57:08.595857",
     "exception": false,
     "start_time": "2022-05-19T23:57:08.570924",
     "status": "completed"
    },
    "tags": []
   },
   "source": [
    "### By County"
   ]
  },
  {
   "cell_type": "code",
   "execution_count": 18,
   "id": "4bc4a769-687d-42d8-81df-bfffaaddd55a",
   "metadata": {
    "execution": {
     "iopub.execute_input": "2022-05-19T23:57:08.647476Z",
     "iopub.status.busy": "2022-05-19T23:57:08.646855Z",
     "iopub.status.idle": "2022-05-19T23:57:08.706270Z",
     "shell.execute_reply": "2022-05-19T23:57:08.705388Z"
    },
    "papermill": {
     "duration": 0.090802,
     "end_time": "2022-05-19T23:57:08.710169",
     "exception": false,
     "start_time": "2022-05-19T23:57:08.619367",
     "status": "completed"
    },
    "scrolled": true,
    "tags": []
   },
   "outputs": [
    {
     "data": {
      "text/html": [
       "<style type=\"text/css\">\n",
       "</style>\n",
       "<table id=\"T_8151c\">\n",
       "  <thead>\n",
       "    <tr>\n",
       "      <th id=\"T_8151c_level0_col0\" class=\"col_heading level0 col0\" >county</th>\n",
       "      <th id=\"T_8151c_level0_col1\" class=\"col_heading level0 col1\" >sum_allocated_by_county</th>\n",
       "    </tr>\n",
       "  </thead>\n",
       "  <tbody>\n",
       "    <tr>\n",
       "      <td id=\"T_8151c_row0_col0\" class=\"data row0 col0\" >Alameda</td>\n",
       "      <td id=\"T_8151c_row0_col1\" class=\"data row0 col1\" >$2,982,664.00</td>\n",
       "    </tr>\n",
       "    <tr>\n",
       "      <td id=\"T_8151c_row1_col0\" class=\"data row1 col0\" >Alameda, Contra Costa</td>\n",
       "      <td id=\"T_8151c_row1_col1\" class=\"data row1 col1\" >$671,900.00</td>\n",
       "    </tr>\n",
       "    <tr>\n",
       "      <td id=\"T_8151c_row2_col0\" class=\"data row2 col0\" >Amador</td>\n",
       "      <td id=\"T_8151c_row2_col1\" class=\"data row2 col1\" >$469,995.00</td>\n",
       "    </tr>\n",
       "    <tr>\n",
       "      <td id=\"T_8151c_row3_col0\" class=\"data row3 col0\" >Amador, Calaveras</td>\n",
       "      <td id=\"T_8151c_row3_col1\" class=\"data row3 col1\" >$299,479.40</td>\n",
       "    </tr>\n",
       "    <tr>\n",
       "      <td id=\"T_8151c_row4_col0\" class=\"data row4 col0\" >Butte</td>\n",
       "      <td id=\"T_8151c_row4_col1\" class=\"data row4 col1\" >$1,235,790.10</td>\n",
       "    </tr>\n",
       "    <tr>\n",
       "      <td id=\"T_8151c_row5_col0\" class=\"data row5 col0\" >Butte, Glen</td>\n",
       "      <td id=\"T_8151c_row5_col1\" class=\"data row5 col1\" >$813,194.00</td>\n",
       "    </tr>\n",
       "    <tr>\n",
       "      <td id=\"T_8151c_row6_col0\" class=\"data row6 col0\" >Calaveras</td>\n",
       "      <td id=\"T_8151c_row6_col1\" class=\"data row6 col1\" >$0.00</td>\n",
       "    </tr>\n",
       "    <tr>\n",
       "      <td id=\"T_8151c_row7_col0\" class=\"data row7 col0\" >Calaveras, Amador, Tuolumne</td>\n",
       "      <td id=\"T_8151c_row7_col1\" class=\"data row7 col1\" >$826,157.00</td>\n",
       "    </tr>\n",
       "    <tr>\n",
       "      <td id=\"T_8151c_row8_col0\" class=\"data row8 col0\" >Colusa</td>\n",
       "      <td id=\"T_8151c_row8_col1\" class=\"data row8 col1\" >$162,400.00</td>\n",
       "    </tr>\n",
       "    <tr>\n",
       "      <td id=\"T_8151c_row9_col0\" class=\"data row9 col0\" >Contra Costa</td>\n",
       "      <td id=\"T_8151c_row9_col1\" class=\"data row9 col1\" >$3,007,198.00</td>\n",
       "    </tr>\n",
       "    <tr>\n",
       "      <td id=\"T_8151c_row10_col0\" class=\"data row10 col0\" >Contra Costa, Napa, Solano, Sacramento</td>\n",
       "      <td id=\"T_8151c_row10_col1\" class=\"data row10 col1\" >$369,716.00</td>\n",
       "    </tr>\n",
       "    <tr>\n",
       "      <td id=\"T_8151c_row11_col0\" class=\"data row11 col0\" >Del Norte</td>\n",
       "      <td id=\"T_8151c_row11_col1\" class=\"data row11 col1\" >$132,700.00</td>\n",
       "    </tr>\n",
       "    <tr>\n",
       "      <td id=\"T_8151c_row12_col0\" class=\"data row12 col0\" >Douglas, Placer, Washoe, Carson City</td>\n",
       "      <td id=\"T_8151c_row12_col1\" class=\"data row12 col1\" >$80,000.00</td>\n",
       "    </tr>\n",
       "    <tr>\n",
       "      <td id=\"T_8151c_row13_col0\" class=\"data row13 col0\" >El Dorado</td>\n",
       "      <td id=\"T_8151c_row13_col1\" class=\"data row13 col1\" >$666,000.00</td>\n",
       "    </tr>\n",
       "    <tr>\n",
       "      <td id=\"T_8151c_row14_col0\" class=\"data row14 col0\" >Humboldt</td>\n",
       "      <td id=\"T_8151c_row14_col1\" class=\"data row14 col1\" >$1,133,905.57</td>\n",
       "    </tr>\n",
       "    <tr>\n",
       "      <td id=\"T_8151c_row15_col0\" class=\"data row15 col0\" >Humboldt, De Norte</td>\n",
       "      <td id=\"T_8151c_row15_col1\" class=\"data row15 col1\" >$146,534.00</td>\n",
       "    </tr>\n",
       "    <tr>\n",
       "      <td id=\"T_8151c_row16_col0\" class=\"data row16 col0\" >Imperial</td>\n",
       "      <td id=\"T_8151c_row16_col1\" class=\"data row16 col1\" >$1,257,956.00</td>\n",
       "    </tr>\n",
       "    <tr>\n",
       "      <td id=\"T_8151c_row17_col0\" class=\"data row17 col0\" >Inyo</td>\n",
       "      <td id=\"T_8151c_row17_col1\" class=\"data row17 col1\" >$284,287.00</td>\n",
       "    </tr>\n",
       "    <tr>\n",
       "      <td id=\"T_8151c_row18_col0\" class=\"data row18 col0\" >Inyo, Mono</td>\n",
       "      <td id=\"T_8151c_row18_col1\" class=\"data row18 col1\" >$72,710.00</td>\n",
       "    </tr>\n",
       "    <tr>\n",
       "      <td id=\"T_8151c_row19_col0\" class=\"data row19 col0\" >Kern</td>\n",
       "      <td id=\"T_8151c_row19_col1\" class=\"data row19 col1\" >$3,133,432.69</td>\n",
       "    </tr>\n",
       "    <tr>\n",
       "      <td id=\"T_8151c_row20_col0\" class=\"data row20 col0\" >Kings</td>\n",
       "      <td id=\"T_8151c_row20_col1\" class=\"data row20 col1\" >$879,572.49</td>\n",
       "    </tr>\n",
       "    <tr>\n",
       "      <td id=\"T_8151c_row21_col0\" class=\"data row21 col0\" >Lake</td>\n",
       "      <td id=\"T_8151c_row21_col1\" class=\"data row21 col1\" >$1,028,208.00</td>\n",
       "    </tr>\n",
       "    <tr>\n",
       "      <td id=\"T_8151c_row22_col0\" class=\"data row22 col0\" >Lassen, Modoc</td>\n",
       "      <td id=\"T_8151c_row22_col1\" class=\"data row22 col1\" >$63,000.00</td>\n",
       "    </tr>\n",
       "    <tr>\n",
       "      <td id=\"T_8151c_row23_col0\" class=\"data row23 col0\" >Marin</td>\n",
       "      <td id=\"T_8151c_row23_col1\" class=\"data row23 col1\" >$2,454,160.00</td>\n",
       "    </tr>\n",
       "    <tr>\n",
       "      <td id=\"T_8151c_row24_col0\" class=\"data row24 col0\" >Mendocino</td>\n",
       "      <td id=\"T_8151c_row24_col1\" class=\"data row24 col1\" >$1,671,032.57</td>\n",
       "    </tr>\n",
       "    <tr>\n",
       "      <td id=\"T_8151c_row25_col0\" class=\"data row25 col0\" >Monterey</td>\n",
       "      <td id=\"T_8151c_row25_col1\" class=\"data row25 col1\" >$1,440,200.00</td>\n",
       "    </tr>\n",
       "    <tr>\n",
       "      <td id=\"T_8151c_row26_col0\" class=\"data row26 col0\" >Monterey, San Mateo, San Benito, Santa Clara, San Francisco</td>\n",
       "      <td id=\"T_8151c_row26_col1\" class=\"data row26 col1\" >$1,077,567.60</td>\n",
       "    </tr>\n",
       "    <tr>\n",
       "      <td id=\"T_8151c_row27_col0\" class=\"data row27 col0\" >Napa</td>\n",
       "      <td id=\"T_8151c_row27_col1\" class=\"data row27 col1\" >$280,000.00</td>\n",
       "    </tr>\n",
       "    <tr>\n",
       "      <td id=\"T_8151c_row28_col0\" class=\"data row28 col0\" >Nevada</td>\n",
       "      <td id=\"T_8151c_row28_col1\" class=\"data row28 col1\" >$1,153,206.00</td>\n",
       "    </tr>\n",
       "    <tr>\n",
       "      <td id=\"T_8151c_row29_col0\" class=\"data row29 col0\" >Nevada, Sierra</td>\n",
       "      <td id=\"T_8151c_row29_col1\" class=\"data row29 col1\" >$871,243.00</td>\n",
       "    </tr>\n",
       "    <tr>\n",
       "      <td id=\"T_8151c_row30_col0\" class=\"data row30 col0\" >Orange, Los Angeles, Riverside, San Bernardino, Ventura</td>\n",
       "      <td id=\"T_8151c_row30_col1\" class=\"data row30 col1\" >$445,941.00</td>\n",
       "    </tr>\n",
       "    <tr>\n",
       "      <td id=\"T_8151c_row31_col0\" class=\"data row31 col0\" >Placer</td>\n",
       "      <td id=\"T_8151c_row31_col1\" class=\"data row31 col1\" >$2,453,032.41</td>\n",
       "    </tr>\n",
       "    <tr>\n",
       "      <td id=\"T_8151c_row32_col0\" class=\"data row32 col0\" >Riverside</td>\n",
       "      <td id=\"T_8151c_row32_col1\" class=\"data row32 col1\" >$6,723,401.00</td>\n",
       "    </tr>\n",
       "    <tr>\n",
       "      <td id=\"T_8151c_row33_col0\" class=\"data row33 col0\" >Sacramento</td>\n",
       "      <td id=\"T_8151c_row33_col1\" class=\"data row33 col1\" >$5,117,233.55</td>\n",
       "    </tr>\n",
       "    <tr>\n",
       "      <td id=\"T_8151c_row34_col0\" class=\"data row34 col0\" >San Benito</td>\n",
       "      <td id=\"T_8151c_row34_col1\" class=\"data row34 col1\" >$533,600.00</td>\n",
       "    </tr>\n",
       "    <tr>\n",
       "      <td id=\"T_8151c_row35_col0\" class=\"data row35 col0\" >San Bernardino</td>\n",
       "      <td id=\"T_8151c_row35_col1\" class=\"data row35 col1\" >$3,637,150.00</td>\n",
       "    </tr>\n",
       "    <tr>\n",
       "      <td id=\"T_8151c_row36_col0\" class=\"data row36 col0\" >San Bernardino, Riverside, Los Angeles</td>\n",
       "      <td id=\"T_8151c_row36_col1\" class=\"data row36 col1\" >$320,411.00</td>\n",
       "    </tr>\n",
       "    <tr>\n",
       "      <td id=\"T_8151c_row37_col0\" class=\"data row37 col0\" >San Diego</td>\n",
       "      <td id=\"T_8151c_row37_col1\" class=\"data row37 col1\" >$2,077,171.00</td>\n",
       "    </tr>\n",
       "    <tr>\n",
       "      <td id=\"T_8151c_row38_col0\" class=\"data row38 col0\" >San Francisco</td>\n",
       "      <td id=\"T_8151c_row38_col1\" class=\"data row38 col1\" >$4,537,490.00</td>\n",
       "    </tr>\n",
       "    <tr>\n",
       "      <td id=\"T_8151c_row39_col0\" class=\"data row39 col0\" >San Francisco, Alameda, San Mateo, Santa Clara</td>\n",
       "      <td id=\"T_8151c_row39_col1\" class=\"data row39 col1\" >$242,098.00</td>\n",
       "    </tr>\n",
       "    <tr>\n",
       "      <td id=\"T_8151c_row40_col0\" class=\"data row40 col0\" >San Francisco, San Mateo, Santa Clara</td>\n",
       "      <td id=\"T_8151c_row40_col1\" class=\"data row40 col1\" >$876,400.00</td>\n",
       "    </tr>\n",
       "    <tr>\n",
       "      <td id=\"T_8151c_row41_col0\" class=\"data row41 col0\" >San Joaquin</td>\n",
       "      <td id=\"T_8151c_row41_col1\" class=\"data row41 col1\" >$1,882,471.00</td>\n",
       "    </tr>\n",
       "    <tr>\n",
       "      <td id=\"T_8151c_row42_col0\" class=\"data row42 col0\" >San Luis Obispo</td>\n",
       "      <td id=\"T_8151c_row42_col1\" class=\"data row42 col1\" >$1,941,324.00</td>\n",
       "    </tr>\n",
       "    <tr>\n",
       "      <td id=\"T_8151c_row43_col0\" class=\"data row43 col0\" >San Mateo</td>\n",
       "      <td id=\"T_8151c_row43_col1\" class=\"data row43 col1\" >$838,212.52</td>\n",
       "    </tr>\n",
       "    <tr>\n",
       "      <td id=\"T_8151c_row44_col0\" class=\"data row44 col0\" >Santa Barbara</td>\n",
       "      <td id=\"T_8151c_row44_col1\" class=\"data row44 col1\" >$2,151,408.60</td>\n",
       "    </tr>\n",
       "    <tr>\n",
       "      <td id=\"T_8151c_row45_col0\" class=\"data row45 col0\" >Santa Barbara, Monterey, San Luis Obispo</td>\n",
       "      <td id=\"T_8151c_row45_col1\" class=\"data row45 col1\" >$375,600.00</td>\n",
       "    </tr>\n",
       "    <tr>\n",
       "      <td id=\"T_8151c_row46_col0\" class=\"data row46 col0\" >Santa Clara</td>\n",
       "      <td id=\"T_8151c_row46_col1\" class=\"data row46 col1\" >$2,890,663.00</td>\n",
       "    </tr>\n",
       "    <tr>\n",
       "      <td id=\"T_8151c_row47_col0\" class=\"data row47 col0\" >Santa Clara, Alameda</td>\n",
       "      <td id=\"T_8151c_row47_col1\" class=\"data row47 col1\" >$1,586,425.00</td>\n",
       "    </tr>\n",
       "    <tr>\n",
       "      <td id=\"T_8151c_row48_col0\" class=\"data row48 col0\" >Santa Cruz</td>\n",
       "      <td id=\"T_8151c_row48_col1\" class=\"data row48 col1\" >$408,304.00</td>\n",
       "    </tr>\n",
       "    <tr>\n",
       "      <td id=\"T_8151c_row49_col0\" class=\"data row49 col0\" >Santa Cruz, San Benito, Santa Clara, Monterey</td>\n",
       "      <td id=\"T_8151c_row49_col1\" class=\"data row49 col1\" >$390,991.00</td>\n",
       "    </tr>\n",
       "    <tr>\n",
       "      <td id=\"T_8151c_row50_col0\" class=\"data row50 col0\" >Shasta</td>\n",
       "      <td id=\"T_8151c_row50_col1\" class=\"data row50 col1\" >$874,329.71</td>\n",
       "    </tr>\n",
       "    <tr>\n",
       "      <td id=\"T_8151c_row51_col0\" class=\"data row51 col0\" >Solano</td>\n",
       "      <td id=\"T_8151c_row51_col1\" class=\"data row51 col1\" >$2,006,537.00</td>\n",
       "    </tr>\n",
       "    <tr>\n",
       "      <td id=\"T_8151c_row52_col0\" class=\"data row52 col0\" >Sonoma</td>\n",
       "      <td id=\"T_8151c_row52_col1\" class=\"data row52 col1\" >$1,303,586.00</td>\n",
       "    </tr>\n",
       "    <tr>\n",
       "      <td id=\"T_8151c_row53_col0\" class=\"data row53 col0\" >Stanislaus</td>\n",
       "      <td id=\"T_8151c_row53_col1\" class=\"data row53 col1\" >$692,200.00</td>\n",
       "    </tr>\n",
       "    <tr>\n",
       "      <td id=\"T_8151c_row54_col0\" class=\"data row54 col0\" >Tehama</td>\n",
       "      <td id=\"T_8151c_row54_col1\" class=\"data row54 col1\" >$747,255.16</td>\n",
       "    </tr>\n",
       "    <tr>\n",
       "      <td id=\"T_8151c_row55_col0\" class=\"data row55 col0\" >Tulare</td>\n",
       "      <td id=\"T_8151c_row55_col1\" class=\"data row55 col1\" >$1,168,422.13</td>\n",
       "    </tr>\n",
       "    <tr>\n",
       "      <td id=\"T_8151c_row56_col0\" class=\"data row56 col0\" >Tuolumne</td>\n",
       "      <td id=\"T_8151c_row56_col1\" class=\"data row56 col1\" >$249,377.00</td>\n",
       "    </tr>\n",
       "    <tr>\n",
       "      <td id=\"T_8151c_row57_col0\" class=\"data row57 col0\" >Ventura</td>\n",
       "      <td id=\"T_8151c_row57_col1\" class=\"data row57 col1\" >$60,000.00</td>\n",
       "    </tr>\n",
       "    <tr>\n",
       "      <td id=\"T_8151c_row58_col0\" class=\"data row58 col0\" >Yolo</td>\n",
       "      <td id=\"T_8151c_row58_col1\" class=\"data row58 col1\" >$64,426.73</td>\n",
       "    </tr>\n",
       "  </tbody>\n",
       "</table>\n"
      ],
      "text/plain": [
       "<pandas.io.formats.style.Styler at 0x7f8dcf31d1c0>"
      ]
     },
     "metadata": {},
     "output_type": "display_data"
    }
   ],
   "source": [
    "county = (df\n",
    " >> group_by(_.county)\n",
    " >> summarize(sum_allocated_by_county = _.allocationamount.sum())\n",
    ")\n",
    "county = (county.style.hide(axis='index').format(formatter={(\"sum_allocated_by_county\"): \"${:,.2f}\"}))\n",
    "display(county)"
   ]
  },
  {
   "cell_type": "code",
   "execution_count": null,
   "id": "1a3835c4-f5d4-4840-9845-995722ecd5c2",
   "metadata": {
    "papermill": {
     "duration": 0.023417,
     "end_time": "2022-05-19T23:57:08.762015",
     "exception": false,
     "start_time": "2022-05-19T23:57:08.738598",
     "status": "completed"
    },
    "tags": []
   },
   "outputs": [],
   "source": []
  },
  {
   "cell_type": "code",
   "execution_count": null,
   "id": "57bc577a-5081-43fa-87f5-6d6a1e1ea370",
   "metadata": {
    "papermill": {
     "duration": 0.0271,
     "end_time": "2022-05-19T23:57:08.813622",
     "exception": false,
     "start_time": "2022-05-19T23:57:08.786522",
     "status": "completed"
    },
    "tags": []
   },
   "outputs": [],
   "source": []
  }
 ],
 "metadata": {
  "kernelspec": {
   "display_name": "Python 3 (ipykernel)",
   "language": "python",
   "name": "python3"
  },
  "language_info": {
   "codemirror_mode": {
    "name": "ipython",
    "version": 3
   },
   "file_extension": ".py",
   "mimetype": "text/x-python",
   "name": "python",
   "nbconvert_exporter": "python",
   "pygments_lexer": "ipython3",
   "version": "3.9.12"
  },
  "papermill": {
   "default_parameters": {},
   "duration": 14.608583,
   "end_time": "2022-05-19T23:57:10.476084",
   "environment_variables": {},
   "exception": null,
   "input_path": "5310_report_work.ipynb",
   "output_path": "5310_report_output.ipynb",
   "parameters": {},
   "start_time": "2022-05-19T23:56:55.867501",
   "version": "2.3.4"
  },
  "widgets": {
   "application/vnd.jupyter.widget-state+json": {
    "state": {},
    "version_major": 2,
    "version_minor": 0
   }
  }
 },
 "nbformat": 4,
 "nbformat_minor": 5
}