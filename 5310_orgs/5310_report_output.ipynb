{
 "cells": [
  {
   "cell_type": "markdown",
   "id": "3283b7e9-f056-43d7-aef4-3e5820708aaa",
   "metadata": {
    "papermill": {
     "duration": 0.042293,
     "end_time": "2022-05-26T05:23:05.565230",
     "exception": false,
     "start_time": "2022-05-26T05:23:05.522937",
     "status": "completed"
    },
    "tags": []
   },
   "source": [
    "# **5310 Organizations**"
   ]
  },
  {
   "cell_type": "markdown",
   "id": "1987a99b-c650-4e44-823e-e1b3cdda1a98",
   "metadata": {
    "papermill": {
     "duration": 0.030908,
     "end_time": "2022-05-26T05:23:05.627763",
     "exception": false,
     "start_time": "2022-05-26T05:23:05.596855",
     "status": "completed"
    },
    "tags": []
   },
   "source": [
    "### Looking into 5310 Organizations with the following project types:\n",
    "*  purchasing wheelchair accessible vehicle\n",
    "* on-demand scheduling \n",
    "* dispatching software platforms"
   ]
  },
  {
   "cell_type": "code",
   "execution_count": 1,
   "id": "e1ebf6aa-4275-44d9-83b5-9b99b7fceb9a",
   "metadata": {
    "execution": {
     "iopub.execute_input": "2022-05-26T05:23:05.693042Z",
     "iopub.status.busy": "2022-05-26T05:23:05.692310Z",
     "iopub.status.idle": "2022-05-26T05:23:05.701187Z",
     "shell.execute_reply": "2022-05-26T05:23:05.700586Z"
    },
    "papermill": {
     "duration": 0.043958,
     "end_time": "2022-05-26T05:23:05.703688",
     "exception": false,
     "start_time": "2022-05-26T05:23:05.659730",
     "status": "completed"
    },
    "tags": []
   },
   "outputs": [],
   "source": [
    "import warnings\n",
    "warnings.filterwarnings('ignore')"
   ]
  },
  {
   "cell_type": "code",
   "execution_count": 2,
   "id": "90a4e032-3017-4279-a7e7-895f292a0168",
   "metadata": {
    "execution": {
     "iopub.execute_input": "2022-05-26T05:23:05.772306Z",
     "iopub.status.busy": "2022-05-26T05:23:05.771272Z",
     "iopub.status.idle": "2022-05-26T05:23:14.331050Z",
     "shell.execute_reply": "2022-05-26T05:23:14.329974Z"
    },
    "papermill": {
     "duration": 8.595685,
     "end_time": "2022-05-26T05:23:14.333944",
     "exception": false,
     "start_time": "2022-05-26T05:23:05.738259",
     "status": "completed"
    },
    "tags": []
   },
   "outputs": [],
   "source": [
    "import pandas as pd\n",
    "from siuba import *\n",
    "import numpy as np\n",
    "\n",
    "import altair as alt\n",
    "\n",
    "from shared_utils import altair_utils\n",
    "from shared_utils import geography_utils\n",
    "from shared_utils import calitp_color_palette as cp\n",
    "from shared_utils import styleguide\n",
    "\n",
    "from dla_utils import _dla_utils\n",
    "\n",
    "from calitp import to_snakecase\n",
    "\n",
    "from IPython.display import display, Markdown, HTML, display_html"
   ]
  },
  {
   "cell_type": "code",
   "execution_count": 3,
   "id": "cc9496e4-0e66-4cd4-957b-2c1b0ace703b",
   "metadata": {
    "execution": {
     "iopub.execute_input": "2022-05-26T05:23:14.400892Z",
     "iopub.status.busy": "2022-05-26T05:23:14.400121Z",
     "iopub.status.idle": "2022-05-26T05:23:14.419844Z",
     "shell.execute_reply": "2022-05-26T05:23:14.419046Z"
    },
    "papermill": {
     "duration": 0.055986,
     "end_time": "2022-05-26T05:23:14.422267",
     "exception": false,
     "start_time": "2022-05-26T05:23:14.366281",
     "status": "completed"
    },
    "tags": []
   },
   "outputs": [],
   "source": [
    "df = pd.read_csv('5310_info_pt.csv')"
   ]
  },
  {
   "cell_type": "code",
   "execution_count": 4,
   "id": "3250b427-6717-40f6-8be3-4b90aa731313",
   "metadata": {
    "execution": {
     "iopub.execute_input": "2022-05-26T05:23:14.493917Z",
     "iopub.status.busy": "2022-05-26T05:23:14.493241Z",
     "iopub.status.idle": "2022-05-26T05:23:14.591883Z",
     "shell.execute_reply": "2022-05-26T05:23:14.591077Z"
    },
    "papermill": {
     "duration": 0.139958,
     "end_time": "2022-05-26T05:23:14.594303",
     "exception": false,
     "start_time": "2022-05-26T05:23:14.454345",
     "status": "completed"
    },
    "tags": []
   },
   "outputs": [],
   "source": [
    "grouped =pd.read_csv('gs://calitp-analytics-data/data-analyses/5310/5310_org_info_manualfill.csv')"
   ]
  },
  {
   "cell_type": "code",
   "execution_count": 5,
   "id": "2c6a684a-a28a-4af3-9e37-dc868b581fff",
   "metadata": {
    "execution": {
     "iopub.execute_input": "2022-05-26T05:23:14.660434Z",
     "iopub.status.busy": "2022-05-26T05:23:14.659817Z",
     "iopub.status.idle": "2022-05-26T05:23:14.697219Z",
     "shell.execute_reply": "2022-05-26T05:23:14.696371Z"
    },
    "papermill": {
     "duration": 0.072806,
     "end_time": "2022-05-26T05:23:14.699375",
     "exception": false,
     "start_time": "2022-05-26T05:23:14.626569",
     "status": "completed"
    },
    "tags": []
   },
   "outputs": [
    {
     "data": {
      "text/html": [
       "\n",
       "<div id=\"altair-viz-6605a988d33b4cce991ca64723425788\"></div>\n",
       "<script type=\"text/javascript\">\n",
       "  var VEGA_DEBUG = (typeof VEGA_DEBUG == \"undefined\") ? {} : VEGA_DEBUG;\n",
       "  (function(spec, embedOpt){\n",
       "    let outputDiv = document.currentScript.previousElementSibling;\n",
       "    if (outputDiv.id !== \"altair-viz-6605a988d33b4cce991ca64723425788\") {\n",
       "      outputDiv = document.getElementById(\"altair-viz-6605a988d33b4cce991ca64723425788\");\n",
       "    }\n",
       "    const paths = {\n",
       "      \"vega\": \"https://cdn.jsdelivr.net/npm//vega@5?noext\",\n",
       "      \"vega-lib\": \"https://cdn.jsdelivr.net/npm//vega-lib?noext\",\n",
       "      \"vega-lite\": \"https://cdn.jsdelivr.net/npm//vega-lite@4.17.0?noext\",\n",
       "      \"vega-embed\": \"https://cdn.jsdelivr.net/npm//vega-embed@6?noext\",\n",
       "    };\n",
       "\n",
       "    function maybeLoadScript(lib, version) {\n",
       "      var key = `${lib.replace(\"-\", \"\")}_version`;\n",
       "      return (VEGA_DEBUG[key] == version) ?\n",
       "        Promise.resolve(paths[lib]) :\n",
       "        new Promise(function(resolve, reject) {\n",
       "          var s = document.createElement('script');\n",
       "          document.getElementsByTagName(\"head\")[0].appendChild(s);\n",
       "          s.async = true;\n",
       "          s.onload = () => {\n",
       "            VEGA_DEBUG[key] = version;\n",
       "            return resolve(paths[lib]);\n",
       "          };\n",
       "          s.onerror = () => reject(`Error loading script: ${paths[lib]}`);\n",
       "          s.src = paths[lib];\n",
       "        });\n",
       "    }\n",
       "\n",
       "    function showError(err) {\n",
       "      outputDiv.innerHTML = `<div class=\"error\" style=\"color:red;\">${err}</div>`;\n",
       "      throw err;\n",
       "    }\n",
       "\n",
       "    function displayChart(vegaEmbed) {\n",
       "      vegaEmbed(outputDiv, spec, embedOpt)\n",
       "        .catch(err => showError(`Javascript Error: ${err.message}<br>This usually means there's a typo in your chart specification. See the javascript console for the full traceback.`));\n",
       "    }\n",
       "\n",
       "    if(typeof define === \"function\" && define.amd) {\n",
       "      requirejs.config({paths});\n",
       "      require([\"vega-embed\"], displayChart, err => showError(`Error loading script: ${err.message}`));\n",
       "    } else {\n",
       "      maybeLoadScript(\"vega\", \"5\")\n",
       "        .then(() => maybeLoadScript(\"vega-lite\", \"4.17.0\"))\n",
       "        .then(() => maybeLoadScript(\"vega-embed\", \"6\"))\n",
       "        .catch(showError)\n",
       "        .then(() => displayChart(vegaEmbed));\n",
       "    }\n",
       "  })({\"config\": {\"view\": {\"continuousWidth\": 400, \"continuousHeight\": 300}, \"axis\": {\"domainColor\": \"#cbcbcb\", \"grid\": true, \"gridColor\": \"#cbcbcb\", \"gridWidth\": 1, \"labelColor\": \"#474747\", \"labelFont\": \"Nunito Sans\", \"labelFontSize\": 10, \"labelPadding\": 4, \"tickColor\": \"#cbcbcb\", \"tickSize\": 10, \"titleColor\": \"#333\", \"titleFont\": \"Raleway\", \"titleFontSize\": 12, \"titlePadding\": 10}, \"axisBand\": {\"grid\": false}, \"background\": \"white\", \"font\": \"Raleway\", \"header\": {\"labelFont\": \"Nunito Sans\", \"titleFont\": \"Raleway\"}, \"legend\": {\"labelColor\": \"#333\", \"labelFont\": \"Nunito Sans\", \"labelFontSize\": 11, \"labelLimit\": 0, \"padding\": 1, \"symbolSize\": 30, \"symbolType\": \"square\", \"titleColor\": \"#333\", \"titleFont\": \"Raleway\", \"titleFontSize\": 14, \"titlePadding\": 10}, \"title\": {\"anchor\": \"middle\", \"font\": \"Raleway\", \"fontSize\": 18, \"fontWeight\": 300, \"offset\": 20}}, \"data\": {\"name\": \"data-a64594febd956212f57f371d3cf36998\"}, \"mark\": \"bar\", \"encoding\": {\"color\": {\"field\": \"organization_type\", \"legend\": {\"symbolLimit\": 10, \"title\": \"Organization Type\"}, \"scale\": {\"range\": [\"#2EA8CE\", \"#EB9F3C\", \"#F4D837\", \"#51BF9D\", \"#8CBCCB\", \"#9487C0\"]}, \"type\": \"nominal\"}, \"x\": {\"field\": \"organization_type\", \"sort\": \"-y\", \"title\": \"Organization Type\", \"type\": \"nominal\"}, \"y\": {\"field\": \"n\", \"title\": \"Count\", \"type\": \"quantitative\"}}, \"height\": 250, \"title\": \"5310 Organization Types\", \"width\": 400, \"$schema\": \"https://vega.github.io/schema/vega-lite/v4.17.0.json\", \"datasets\": {\"data-a64594febd956212f57f371d3cf36998\": [{\"organization_type\": \"City, County or Local Government Unit or Department of Transportation\", \"n\": 12}, {\"organization_type\": \"Company\", \"n\": 4}, {\"organization_type\": \"Independent Agency\", \"n\": 5}, {\"organization_type\": \"Independent Public Agency or Authority of Transit Service\", \"n\": 28}, {\"organization_type\": \"MPO/RTPA\", \"n\": 3}, {\"organization_type\": \"Non-Profit Organization\", \"n\": 90}, {\"organization_type\": \"Other\", \"n\": 3}, {\"organization_type\": \"Private-Non-Profit Corporation\", \"n\": 1}, {\"organization_type\": \"University\", \"n\": 1}]}}, {\"mode\": \"vega-lite\"});\n",
       "</script>"
      ],
      "text/plain": [
       "alt.Chart(...)"
      ]
     },
     "execution_count": 5,
     "metadata": {},
     "output_type": "execute_result"
    }
   ],
   "source": [
    "org_counts = grouped >> count(_.organization_type)\n",
    "_dla_utils.bar_chart_nosubset(\n",
    "    org_counts, \"organization_type\", \"n\", \"organization_type\", \"5310 Organization Types\"\n",
    ")"
   ]
  },
  {
   "cell_type": "code",
   "execution_count": 6,
   "id": "1eade0b4-d58a-49a9-8ea5-da8972691f9c",
   "metadata": {
    "execution": {
     "iopub.execute_input": "2022-05-26T05:23:14.768974Z",
     "iopub.status.busy": "2022-05-26T05:23:14.768355Z",
     "iopub.status.idle": "2022-05-26T05:23:14.797025Z",
     "shell.execute_reply": "2022-05-26T05:23:14.796166Z"
    },
    "papermill": {
     "duration": 0.064623,
     "end_time": "2022-05-26T05:23:14.798955",
     "exception": false,
     "start_time": "2022-05-26T05:23:14.734332",
     "status": "completed"
    },
    "tags": []
   },
   "outputs": [
    {
     "data": {
      "text/html": [
       "\n",
       "<div id=\"altair-viz-49dc92b949574274b25c91c36badcbe9\"></div>\n",
       "<script type=\"text/javascript\">\n",
       "  var VEGA_DEBUG = (typeof VEGA_DEBUG == \"undefined\") ? {} : VEGA_DEBUG;\n",
       "  (function(spec, embedOpt){\n",
       "    let outputDiv = document.currentScript.previousElementSibling;\n",
       "    if (outputDiv.id !== \"altair-viz-49dc92b949574274b25c91c36badcbe9\") {\n",
       "      outputDiv = document.getElementById(\"altair-viz-49dc92b949574274b25c91c36badcbe9\");\n",
       "    }\n",
       "    const paths = {\n",
       "      \"vega\": \"https://cdn.jsdelivr.net/npm//vega@5?noext\",\n",
       "      \"vega-lib\": \"https://cdn.jsdelivr.net/npm//vega-lib?noext\",\n",
       "      \"vega-lite\": \"https://cdn.jsdelivr.net/npm//vega-lite@4.17.0?noext\",\n",
       "      \"vega-embed\": \"https://cdn.jsdelivr.net/npm//vega-embed@6?noext\",\n",
       "    };\n",
       "\n",
       "    function maybeLoadScript(lib, version) {\n",
       "      var key = `${lib.replace(\"-\", \"\")}_version`;\n",
       "      return (VEGA_DEBUG[key] == version) ?\n",
       "        Promise.resolve(paths[lib]) :\n",
       "        new Promise(function(resolve, reject) {\n",
       "          var s = document.createElement('script');\n",
       "          document.getElementsByTagName(\"head\")[0].appendChild(s);\n",
       "          s.async = true;\n",
       "          s.onload = () => {\n",
       "            VEGA_DEBUG[key] = version;\n",
       "            return resolve(paths[lib]);\n",
       "          };\n",
       "          s.onerror = () => reject(`Error loading script: ${paths[lib]}`);\n",
       "          s.src = paths[lib];\n",
       "        });\n",
       "    }\n",
       "\n",
       "    function showError(err) {\n",
       "      outputDiv.innerHTML = `<div class=\"error\" style=\"color:red;\">${err}</div>`;\n",
       "      throw err;\n",
       "    }\n",
       "\n",
       "    function displayChart(vegaEmbed) {\n",
       "      vegaEmbed(outputDiv, spec, embedOpt)\n",
       "        .catch(err => showError(`Javascript Error: ${err.message}<br>This usually means there's a typo in your chart specification. See the javascript console for the full traceback.`));\n",
       "    }\n",
       "\n",
       "    if(typeof define === \"function\" && define.amd) {\n",
       "      requirejs.config({paths});\n",
       "      require([\"vega-embed\"], displayChart, err => showError(`Error loading script: ${err.message}`));\n",
       "    } else {\n",
       "      maybeLoadScript(\"vega\", \"5\")\n",
       "        .then(() => maybeLoadScript(\"vega-lite\", \"4.17.0\"))\n",
       "        .then(() => maybeLoadScript(\"vega-embed\", \"6\"))\n",
       "        .catch(showError)\n",
       "        .then(() => displayChart(vegaEmbed));\n",
       "    }\n",
       "  })({\"config\": {\"view\": {\"continuousWidth\": 400, \"continuousHeight\": 300}, \"axis\": {\"domainColor\": \"#cbcbcb\", \"grid\": true, \"gridColor\": \"#cbcbcb\", \"gridWidth\": 1, \"labelColor\": \"#474747\", \"labelFont\": \"Nunito Sans\", \"labelFontSize\": 10, \"labelPadding\": 4, \"tickColor\": \"#cbcbcb\", \"tickSize\": 10, \"titleColor\": \"#333\", \"titleFont\": \"Raleway\", \"titleFontSize\": 12, \"titlePadding\": 10}, \"axisBand\": {\"grid\": false}, \"background\": \"white\", \"font\": \"Raleway\", \"header\": {\"labelFont\": \"Nunito Sans\", \"titleFont\": \"Raleway\"}, \"legend\": {\"labelColor\": \"#333\", \"labelFont\": \"Nunito Sans\", \"labelFontSize\": 11, \"labelLimit\": 0, \"padding\": 1, \"symbolSize\": 30, \"symbolType\": \"square\", \"titleColor\": \"#333\", \"titleFont\": \"Raleway\", \"titleFontSize\": 14, \"titlePadding\": 10}, \"title\": {\"anchor\": \"middle\", \"font\": \"Raleway\", \"fontSize\": 18, \"fontWeight\": 300, \"offset\": 20}}, \"data\": {\"name\": \"data-811c6713922061ce69ead7e74299d89e\"}, \"mark\": \"bar\", \"encoding\": {\"color\": {\"field\": \"county\", \"legend\": {\"symbolLimit\": 10, \"title\": \"County\"}, \"scale\": {\"range\": [\"#2EA8CE\", \"#EB9F3C\", \"#F4D837\", \"#51BF9D\", \"#8CBCCB\", \"#9487C0\"]}, \"type\": \"nominal\"}, \"x\": {\"field\": \"county\", \"sort\": \"-y\", \"title\": \"County\", \"type\": \"nominal\"}, \"y\": {\"field\": \"n\", \"title\": \"Count\", \"type\": \"quantitative\"}}, \"height\": 250, \"title\": \"Counties with 5310 Organizations (Single County)\", \"width\": 400, \"$schema\": \"https://vega.github.io/schema/vega-lite/v4.17.0.json\", \"datasets\": {\"data-811c6713922061ce69ead7e74299d89e\": [{\"county\": \"Alameda\", \"n\": 29}, {\"county\": \"Amador\", \"n\": 4}, {\"county\": \"Butte\", \"n\": 26}, {\"county\": \"Calaveras\", \"n\": 2}, {\"county\": \"Colusa\", \"n\": 4}, {\"county\": \"Contra Costa\", \"n\": 36}, {\"county\": \"Del Norte\", \"n\": 4}, {\"county\": \"El Dorado\", \"n\": 12}, {\"county\": \"Humboldt\", \"n\": 29}, {\"county\": \"Imperial\", \"n\": 11}, {\"county\": \"Inyo\", \"n\": 10}, {\"county\": \"Kern\", \"n\": 78}, {\"county\": \"Kings\", \"n\": 30}, {\"county\": \"Lake\", \"n\": 8}, {\"county\": \"Marin\", \"n\": 27}, {\"county\": \"Mendocino\", \"n\": 13}, {\"county\": \"Monterey\", \"n\": 26}, {\"county\": \"Napa\", \"n\": 4}, {\"county\": \"Nevada\", \"n\": 12}, {\"county\": \"Placer\", \"n\": 52}, {\"county\": \"Riverside\", \"n\": 84}, {\"county\": \"Sacramento\", \"n\": 80}, {\"county\": \"San Benito\", \"n\": 6}, {\"county\": \"San Bernardino\", \"n\": 41}, {\"county\": \"San Diego\", \"n\": 13}, {\"county\": \"San Francisco\", \"n\": 69}, {\"county\": \"San Joaquin\", \"n\": 30}, {\"county\": \"San Luis Obispo\", \"n\": 51}, {\"county\": \"San Mateo\", \"n\": 6}, {\"county\": \"Santa Barbara\", \"n\": 36}, {\"county\": \"Santa Clara\", \"n\": 19}, {\"county\": \"Santa Cruz\", \"n\": 8}, {\"county\": \"Shasta\", \"n\": 11}, {\"county\": \"Solano\", \"n\": 26}, {\"county\": \"Sonoma\", \"n\": 15}, {\"county\": \"Stanislaus\", \"n\": 16}, {\"county\": \"Tehama\", \"n\": 14}, {\"county\": \"Tulare\", \"n\": 22}, {\"county\": \"Tuolumne\", \"n\": 3}, {\"county\": \"Ventura\", \"n\": 1}, {\"county\": \"Yolo\", \"n\": 6}]}}, {\"mode\": \"vega-lite\"});\n",
       "</script>"
      ],
      "text/plain": [
       "alt.Chart(...)"
      ]
     },
     "execution_count": 6,
     "metadata": {},
     "output_type": "execute_result"
    }
   ],
   "source": [
    "single_county = df[~df[\"county\"].str.contains(\",\", na=False)]\n",
    "_dla_utils.bar_chart_nosubset((single_county>>count(_.county)),\n",
    "    \"county\",\n",
    "    \"n\",\n",
    "    \"county\",\n",
    "    \"Counties with 5310 Organizations (Single County)\"\n",
    ")"
   ]
  },
  {
   "cell_type": "code",
   "execution_count": 7,
   "id": "e6e14fbb-99a1-43ab-adcc-9eab771525aa",
   "metadata": {
    "execution": {
     "iopub.execute_input": "2022-05-26T05:23:14.866391Z",
     "iopub.status.busy": "2022-05-26T05:23:14.865601Z",
     "iopub.status.idle": "2022-05-26T05:23:14.911739Z",
     "shell.execute_reply": "2022-05-26T05:23:14.910832Z"
    },
    "papermill": {
     "duration": 0.081903,
     "end_time": "2022-05-26T05:23:14.913912",
     "exception": false,
     "start_time": "2022-05-26T05:23:14.832009",
     "status": "completed"
    },
    "tags": []
   },
   "outputs": [
    {
     "data": {
      "text/html": [
       "\n",
       "<div id=\"altair-viz-a411b9a40ec14ea3ba880b5a67c1d546\"></div>\n",
       "<script type=\"text/javascript\">\n",
       "  var VEGA_DEBUG = (typeof VEGA_DEBUG == \"undefined\") ? {} : VEGA_DEBUG;\n",
       "  (function(spec, embedOpt){\n",
       "    let outputDiv = document.currentScript.previousElementSibling;\n",
       "    if (outputDiv.id !== \"altair-viz-a411b9a40ec14ea3ba880b5a67c1d546\") {\n",
       "      outputDiv = document.getElementById(\"altair-viz-a411b9a40ec14ea3ba880b5a67c1d546\");\n",
       "    }\n",
       "    const paths = {\n",
       "      \"vega\": \"https://cdn.jsdelivr.net/npm//vega@5?noext\",\n",
       "      \"vega-lib\": \"https://cdn.jsdelivr.net/npm//vega-lib?noext\",\n",
       "      \"vega-lite\": \"https://cdn.jsdelivr.net/npm//vega-lite@4.17.0?noext\",\n",
       "      \"vega-embed\": \"https://cdn.jsdelivr.net/npm//vega-embed@6?noext\",\n",
       "    };\n",
       "\n",
       "    function maybeLoadScript(lib, version) {\n",
       "      var key = `${lib.replace(\"-\", \"\")}_version`;\n",
       "      return (VEGA_DEBUG[key] == version) ?\n",
       "        Promise.resolve(paths[lib]) :\n",
       "        new Promise(function(resolve, reject) {\n",
       "          var s = document.createElement('script');\n",
       "          document.getElementsByTagName(\"head\")[0].appendChild(s);\n",
       "          s.async = true;\n",
       "          s.onload = () => {\n",
       "            VEGA_DEBUG[key] = version;\n",
       "            return resolve(paths[lib]);\n",
       "          };\n",
       "          s.onerror = () => reject(`Error loading script: ${paths[lib]}`);\n",
       "          s.src = paths[lib];\n",
       "        });\n",
       "    }\n",
       "\n",
       "    function showError(err) {\n",
       "      outputDiv.innerHTML = `<div class=\"error\" style=\"color:red;\">${err}</div>`;\n",
       "      throw err;\n",
       "    }\n",
       "\n",
       "    function displayChart(vegaEmbed) {\n",
       "      vegaEmbed(outputDiv, spec, embedOpt)\n",
       "        .catch(err => showError(`Javascript Error: ${err.message}<br>This usually means there's a typo in your chart specification. See the javascript console for the full traceback.`));\n",
       "    }\n",
       "\n",
       "    if(typeof define === \"function\" && define.amd) {\n",
       "      requirejs.config({paths});\n",
       "      require([\"vega-embed\"], displayChart, err => showError(`Error loading script: ${err.message}`));\n",
       "    } else {\n",
       "      maybeLoadScript(\"vega\", \"5\")\n",
       "        .then(() => maybeLoadScript(\"vega-lite\", \"4.17.0\"))\n",
       "        .then(() => maybeLoadScript(\"vega-embed\", \"6\"))\n",
       "        .catch(showError)\n",
       "        .then(() => displayChart(vegaEmbed));\n",
       "    }\n",
       "  })({\"config\": {\"view\": {\"continuousWidth\": 400, \"continuousHeight\": 300}, \"axis\": {\"domainColor\": \"#cbcbcb\", \"grid\": true, \"gridColor\": \"#cbcbcb\", \"gridWidth\": 1, \"labelColor\": \"#474747\", \"labelFont\": \"Nunito Sans\", \"labelFontSize\": 10, \"labelPadding\": 4, \"tickColor\": \"#cbcbcb\", \"tickSize\": 10, \"titleColor\": \"#333\", \"titleFont\": \"Raleway\", \"titleFontSize\": 12, \"titlePadding\": 10}, \"axisBand\": {\"grid\": false}, \"background\": \"white\", \"font\": \"Raleway\", \"header\": {\"labelFont\": \"Nunito Sans\", \"titleFont\": \"Raleway\"}, \"legend\": {\"labelColor\": \"#333\", \"labelFont\": \"Nunito Sans\", \"labelFontSize\": 11, \"labelLimit\": 0, \"padding\": 1, \"symbolSize\": 30, \"symbolType\": \"square\", \"titleColor\": \"#333\", \"titleFont\": \"Raleway\", \"titleFontSize\": 14, \"titlePadding\": 10}, \"title\": {\"anchor\": \"middle\", \"font\": \"Raleway\", \"fontSize\": 18, \"fontWeight\": 300, \"offset\": 20}}, \"data\": {\"name\": \"data-3d2f5442b3540fccf2124d9d9ddae466\"}, \"mark\": \"bar\", \"encoding\": {\"color\": {\"field\": \"county\", \"legend\": {\"symbolLimit\": 10, \"title\": \"County\"}, \"scale\": {\"range\": [\"#2EA8CE\", \"#EB9F3C\", \"#F4D837\", \"#51BF9D\", \"#8CBCCB\", \"#9487C0\"]}, \"type\": \"nominal\"}, \"x\": {\"field\": \"county\", \"sort\": \"-y\", \"title\": \"County\", \"type\": \"nominal\"}, \"y\": {\"field\": \"n\", \"title\": \"Count\", \"type\": \"quantitative\"}}, \"height\": 250, \"title\": \"Counties with 5310 Organizations Operating\", \"width\": 400, \"$schema\": \"https://vega.github.io/schema/vega-lite/v4.17.0.json\", \"datasets\": {\"data-3d2f5442b3540fccf2124d9d9ddae466\": [{\"county\": \"Alameda\", \"n\": 70}, {\"county\": \"Amador\", \"n\": 22}, {\"county\": \"Butte\", \"n\": 29}, {\"county\": \"Calaveras\", \"n\": 20}, {\"county\": \"Carson City\", \"n\": 1}, {\"county\": \"Colusa\", \"n\": 4}, {\"county\": \"Contra Costa\", \"n\": 60}, {\"county\": \"De Norte\", \"n\": 1}, {\"county\": \"Del Norte\", \"n\": 4}, {\"county\": \"Douglas\", \"n\": 1}, {\"county\": \"El Dorado\", \"n\": 12}, {\"county\": \"Glen\", \"n\": 3}, {\"county\": \"Humboldt\", \"n\": 30}, {\"county\": \"Imperial\", \"n\": 11}, {\"county\": \"Inyo\", \"n\": 12}, {\"county\": \"Kern\", \"n\": 78}, {\"county\": \"Kings\", \"n\": 30}, {\"county\": \"Lake\", \"n\": 8}, {\"county\": \"Lassen\", \"n\": 1}, {\"county\": \"Los Angeles\", \"n\": 6}, {\"county\": \"Marin\", \"n\": 27}, {\"county\": \"Mendocino\", \"n\": 13}, {\"county\": \"Modoc\", \"n\": 1}, {\"county\": \"Mono\", \"n\": 2}, {\"county\": \"Monterey\", \"n\": 56}, {\"county\": \"Napa\", \"n\": 9}, {\"county\": \"Nevada\", \"n\": 17}, {\"county\": \"Orange\", \"n\": 2}, {\"county\": \"Placer\", \"n\": 53}, {\"county\": \"Riverside\", \"n\": 90}, {\"county\": \"Sacramento\", \"n\": 85}, {\"county\": \"San Benito\", \"n\": 34}, {\"county\": \"San Bernardino\", \"n\": 47}, {\"county\": \"San Diego\", \"n\": 13}, {\"county\": \"San Francisco\", \"n\": 120}, {\"county\": \"San Joaquin\", \"n\": 30}, {\"county\": \"San Luis Obispo\", \"n\": 53}, {\"county\": \"San Mateo\", \"n\": 57}, {\"county\": \"Santa Barbara\", \"n\": 38}, {\"county\": \"Santa Clara\", \"n\": 86}, {\"county\": \"Santa Cruz\", \"n\": 10}, {\"county\": \"Shasta\", \"n\": 11}, {\"county\": \"Sierra\", \"n\": 5}, {\"county\": \"Solano\", \"n\": 31}, {\"county\": \"Sonoma\", \"n\": 15}, {\"county\": \"Stanislaus\", \"n\": 16}, {\"county\": \"Tehama\", \"n\": 14}, {\"county\": \"Tulare\", \"n\": 22}, {\"county\": \"Tuolumne\", \"n\": 14}, {\"county\": \"Ventura\", \"n\": 3}, {\"county\": \"Washoe\", \"n\": 1}, {\"county\": \"Yolo\", \"n\": 6}]}}, {\"mode\": \"vega-lite\"});\n",
       "</script>"
      ],
      "text/plain": [
       "alt.Chart(...)"
      ]
     },
     "execution_count": 7,
     "metadata": {},
     "output_type": "execute_result"
    }
   ],
   "source": [
    "county_explode = df>>select(_.organization_name, _.ntd_id, _.itp_id, _.organization_type, _.city, _.county, _.merge_status)\n",
    "county_explode.explode('county')\n",
    "\n",
    "county_explode2 = county_explode.assign(county_split = df['county'].str.split(', ')).drop(\"county\", axis=1)\\\n",
    "    .rename(columns = {\"county_split\": \"county\"})\n",
    "county_explode2 = county_explode2.explode('county')\n",
    "\n",
    "_dla_utils.bar_chart_nosubset((county_explode2>>count(_.county)),\n",
    "    \"county\",\n",
    "    \"n\",\n",
    "    \"county\",\n",
    "    \"Counties with 5310 Organizations Operating\"\n",
    ")"
   ]
  },
  {
   "cell_type": "code",
   "execution_count": null,
   "id": "61afe2ef-5eac-49fa-8f39-6b90797e70c1",
   "metadata": {
    "papermill": {
     "duration": 0.03333,
     "end_time": "2022-05-26T05:23:14.979407",
     "exception": false,
     "start_time": "2022-05-26T05:23:14.946077",
     "status": "completed"
    },
    "tags": []
   },
   "outputs": [],
   "source": []
  },
  {
   "cell_type": "markdown",
   "id": "729a3a29-97e8-4b27-8315-a5d42e7f4575",
   "metadata": {
    "papermill": {
     "duration": 0.032087,
     "end_time": "2022-05-26T05:23:15.050369",
     "exception": false,
     "start_time": "2022-05-26T05:23:15.018282",
     "status": "completed"
    },
    "tags": []
   },
   "source": [
    "## Project Types"
   ]
  },
  {
   "cell_type": "code",
   "execution_count": 8,
   "id": "91aa7dec-90c0-41e5-93b0-b56e57a3e779",
   "metadata": {
    "execution": {
     "iopub.execute_input": "2022-05-26T05:23:15.120240Z",
     "iopub.status.busy": "2022-05-26T05:23:15.119665Z",
     "iopub.status.idle": "2022-05-26T05:23:15.123887Z",
     "shell.execute_reply": "2022-05-26T05:23:15.123385Z"
    },
    "papermill": {
     "duration": 0.042369,
     "end_time": "2022-05-26T05:23:15.125568",
     "exception": false,
     "start_time": "2022-05-26T05:23:15.083199",
     "status": "completed"
    },
    "tags": []
   },
   "outputs": [],
   "source": [
    "#df.sample()"
   ]
  },
  {
   "cell_type": "code",
   "execution_count": 9,
   "id": "c86d16f7-5006-4d76-b9e9-9f0645a61624",
   "metadata": {
    "execution": {
     "iopub.execute_input": "2022-05-26T05:23:15.196608Z",
     "iopub.status.busy": "2022-05-26T05:23:15.196232Z",
     "iopub.status.idle": "2022-05-26T05:23:15.431094Z",
     "shell.execute_reply": "2022-05-26T05:23:15.430306Z"
    },
    "papermill": {
     "duration": 0.274718,
     "end_time": "2022-05-26T05:23:15.433670",
     "exception": false,
     "start_time": "2022-05-26T05:23:15.158952",
     "status": "completed"
    },
    "tags": []
   },
   "outputs": [],
   "source": [
    "ptype_counts = (df\n",
    " >>group_by(_.organization_name)\n",
    " >>summarize(n_vp = _.vehicle_purchase.sum(), \n",
    "            n_oa = _.operating_assistance.sum(),\n",
    "            n_mm = _.mobility_management.sum(),\n",
    "            n_hsp = _.hardware_software_purchase.sum(),\n",
    "            n_c = _.communications.sum(),\n",
    "            n_fe = _.facilities_eqp.sum(),\n",
    "             n_s = _.surveillance.sum(),\n",
    "             n_sub = _.subsidy.sum()\n",
    "            )\n",
    ")"
   ]
  },
  {
   "cell_type": "code",
   "execution_count": 10,
   "id": "784c3bd5-0305-404b-bdd9-20722df1baba",
   "metadata": {
    "execution": {
     "iopub.execute_input": "2022-05-26T05:23:15.506685Z",
     "iopub.status.busy": "2022-05-26T05:23:15.506293Z",
     "iopub.status.idle": "2022-05-26T05:23:15.511986Z",
     "shell.execute_reply": "2022-05-26T05:23:15.511252Z"
    },
    "jupyter": {
     "source_hidden": true
    },
    "papermill": {
     "duration": 0.047329,
     "end_time": "2022-05-26T05:23:15.513963",
     "exception": false,
     "start_time": "2022-05-26T05:23:15.466634",
     "status": "completed"
    },
    "tags": []
   },
   "outputs": [],
   "source": [
    "# columns = ['n_vp','n_oa','n_mm','n_hsp','n_c','n_fe','n_s','n_sub']\n",
    "\n",
    "# for column in columns: \n",
    "#     ptype_counts.column[ptype_counts[column]> 0] = 1\n",
    "\n",
    "#WORKED for getting yes/no present\n",
    "## from https://stackoverflow.com/questions/61996932/replacing-values-greater-1-in-a-large-pandas-dataframe\n",
    "\n",
    "#ptype_counts.set_index('organization_name',inplace=True)\n",
    "#ptype_counts[ptype_counts >= 1] = 'Yes'\n",
    "#ptype_counts.reset_index()\n",
    "\n",
    "#ptype_counts = ptype_counts.replace(0, 'No')\n",
    "\n",
    "#ptype_counts.to_csv('single_counts_2.csv')\n",
    "\n",
    "# # def project_present(df):\n",
    "# #     columns = ['n_vp','n_oa','n_mm','n_hsp','n_c','n_fe','n_s','n_sub']\n",
    "# #     if df.column != 0:\n",
    "# #         return 1\n",
    "# #     else:\n",
    "# #         return 0\n",
    "\n",
    "# # for column in columns:\n",
    "# #     df[f\"{column}_2\"] = df.apply(lambda x: project_present(x), axis=1)\n",
    "    \n",
    "    \n",
    "    \n",
    "# columns = ['n_vp','n_oa','n_mm','n_hsp','n_c','n_fe','n_s','n_sub']\n",
    "\n",
    "# for column in columns:\n",
    "#     ptype_counts[f\"{column}_2\"] = ptype_counts[column].any(1).astype(int)"
   ]
  },
  {
   "cell_type": "code",
   "execution_count": 11,
   "id": "fa90b69d-1c5f-4a72-8708-67a90bbd5e90",
   "metadata": {
    "execution": {
     "iopub.execute_input": "2022-05-26T05:23:15.586391Z",
     "iopub.status.busy": "2022-05-26T05:23:15.586053Z",
     "iopub.status.idle": "2022-05-26T05:23:15.595322Z",
     "shell.execute_reply": "2022-05-26T05:23:15.594325Z"
    },
    "papermill": {
     "duration": 0.051733,
     "end_time": "2022-05-26T05:23:15.597834",
     "exception": false,
     "start_time": "2022-05-26T05:23:15.546101",
     "status": "completed"
    },
    "tags": []
   },
   "outputs": [],
   "source": [
    "ptype_counts.set_index('organization_name',inplace=True)\n",
    "ptype_counts[ptype_counts >= 1] = 1\n",
    "ptype_counts = ptype_counts.reset_index()"
   ]
  },
  {
   "cell_type": "code",
   "execution_count": 12,
   "id": "8eb30ee2-c237-43ef-975a-c5205c4fae23",
   "metadata": {
    "execution": {
     "iopub.execute_input": "2022-05-26T05:23:15.666139Z",
     "iopub.status.busy": "2022-05-26T05:23:15.665809Z",
     "iopub.status.idle": "2022-05-26T05:23:15.697819Z",
     "shell.execute_reply": "2022-05-26T05:23:15.697130Z"
    },
    "papermill": {
     "duration": 0.068006,
     "end_time": "2022-05-26T05:23:15.699605",
     "exception": false,
     "start_time": "2022-05-26T05:23:15.631599",
     "status": "completed"
    },
    "tags": []
   },
   "outputs": [
    {
     "data": {
      "text/html": [
       "\n",
       "<div id=\"altair-viz-18f6948776804825890d7f000789717c\"></div>\n",
       "<script type=\"text/javascript\">\n",
       "  var VEGA_DEBUG = (typeof VEGA_DEBUG == \"undefined\") ? {} : VEGA_DEBUG;\n",
       "  (function(spec, embedOpt){\n",
       "    let outputDiv = document.currentScript.previousElementSibling;\n",
       "    if (outputDiv.id !== \"altair-viz-18f6948776804825890d7f000789717c\") {\n",
       "      outputDiv = document.getElementById(\"altair-viz-18f6948776804825890d7f000789717c\");\n",
       "    }\n",
       "    const paths = {\n",
       "      \"vega\": \"https://cdn.jsdelivr.net/npm//vega@5?noext\",\n",
       "      \"vega-lib\": \"https://cdn.jsdelivr.net/npm//vega-lib?noext\",\n",
       "      \"vega-lite\": \"https://cdn.jsdelivr.net/npm//vega-lite@4.17.0?noext\",\n",
       "      \"vega-embed\": \"https://cdn.jsdelivr.net/npm//vega-embed@6?noext\",\n",
       "    };\n",
       "\n",
       "    function maybeLoadScript(lib, version) {\n",
       "      var key = `${lib.replace(\"-\", \"\")}_version`;\n",
       "      return (VEGA_DEBUG[key] == version) ?\n",
       "        Promise.resolve(paths[lib]) :\n",
       "        new Promise(function(resolve, reject) {\n",
       "          var s = document.createElement('script');\n",
       "          document.getElementsByTagName(\"head\")[0].appendChild(s);\n",
       "          s.async = true;\n",
       "          s.onload = () => {\n",
       "            VEGA_DEBUG[key] = version;\n",
       "            return resolve(paths[lib]);\n",
       "          };\n",
       "          s.onerror = () => reject(`Error loading script: ${paths[lib]}`);\n",
       "          s.src = paths[lib];\n",
       "        });\n",
       "    }\n",
       "\n",
       "    function showError(err) {\n",
       "      outputDiv.innerHTML = `<div class=\"error\" style=\"color:red;\">${err}</div>`;\n",
       "      throw err;\n",
       "    }\n",
       "\n",
       "    function displayChart(vegaEmbed) {\n",
       "      vegaEmbed(outputDiv, spec, embedOpt)\n",
       "        .catch(err => showError(`Javascript Error: ${err.message}<br>This usually means there's a typo in your chart specification. See the javascript console for the full traceback.`));\n",
       "    }\n",
       "\n",
       "    if(typeof define === \"function\" && define.amd) {\n",
       "      requirejs.config({paths});\n",
       "      require([\"vega-embed\"], displayChart, err => showError(`Error loading script: ${err.message}`));\n",
       "    } else {\n",
       "      maybeLoadScript(\"vega\", \"5\")\n",
       "        .then(() => maybeLoadScript(\"vega-lite\", \"4.17.0\"))\n",
       "        .then(() => maybeLoadScript(\"vega-embed\", \"6\"))\n",
       "        .catch(showError)\n",
       "        .then(() => displayChart(vegaEmbed));\n",
       "    }\n",
       "  })({\"config\": {\"view\": {\"continuousWidth\": 400, \"continuousHeight\": 300}, \"axis\": {\"domainColor\": \"#cbcbcb\", \"grid\": true, \"gridColor\": \"#cbcbcb\", \"gridWidth\": 1, \"labelColor\": \"#474747\", \"labelFont\": \"Nunito Sans\", \"labelFontSize\": 10, \"labelPadding\": 4, \"tickColor\": \"#cbcbcb\", \"tickSize\": 10, \"titleColor\": \"#333\", \"titleFont\": \"Raleway\", \"titleFontSize\": 12, \"titlePadding\": 10}, \"axisBand\": {\"grid\": false}, \"background\": \"white\", \"font\": \"Raleway\", \"header\": {\"labelFont\": \"Nunito Sans\", \"titleFont\": \"Raleway\"}, \"legend\": {\"labelColor\": \"#333\", \"labelFont\": \"Nunito Sans\", \"labelFontSize\": 11, \"labelLimit\": 0, \"padding\": 1, \"symbolSize\": 30, \"symbolType\": \"square\", \"titleColor\": \"#333\", \"titleFont\": \"Raleway\", \"titleFontSize\": 14, \"titlePadding\": 10}, \"title\": {\"anchor\": \"middle\", \"font\": \"Raleway\", \"fontSize\": 18, \"fontWeight\": 300, \"offset\": 20}}, \"data\": {\"name\": \"data-2e86ca2ab50e53252d015717e8a08c5c\"}, \"mark\": \"bar\", \"encoding\": {\"color\": {\"field\": \"Project Types\", \"legend\": {\"symbolLimit\": 10, \"title\": \"Project Types\"}, \"scale\": {\"range\": [\"#2EA8CE\", \"#EB9F3C\", \"#F4D837\", \"#51BF9D\", \"#8CBCCB\", \"#9487C0\"]}, \"type\": \"nominal\"}, \"x\": {\"field\": \"Project Types\", \"sort\": \"-y\", \"title\": \"Project Types\", \"type\": \"nominal\"}, \"y\": {\"field\": \"Count\", \"title\": \"Count\", \"type\": \"quantitative\"}}, \"height\": 250, \"title\": \"Number of Organizations using Project Types\", \"width\": 400, \"$schema\": \"https://vega.github.io/schema/vega-lite/v4.17.0.json\", \"datasets\": {\"data-2e86ca2ab50e53252d015717e8a08c5c\": [{\"Project Types\": \"Vehicle Purchase\", \"Count\": 92}, {\"Project Types\": \"Operating Assistance\", \"Count\": 65}, {\"Project Types\": \"Mobility Management\", \"Count\": 35}, {\"Project Types\": \"Hardware/Software Purchase\", \"Count\": 11}, {\"Project Types\": \"Communications\", \"Count\": 9}, {\"Project Types\": \"Facilities Equipment\", \"Count\": 5}, {\"Project Types\": \"Surveillance\", \"Count\": 4}, {\"Project Types\": \"Subsidies\", \"Count\": 1}]}}, {\"mode\": \"vega-lite\"});\n",
       "</script>"
      ],
      "text/plain": [
       "alt.Chart(...)"
      ]
     },
     "execution_count": 12,
     "metadata": {},
     "output_type": "execute_result"
    }
   ],
   "source": [
    "sum_ptype = ((ptype_counts).rename(columns = _dla_utils.labeling)\n",
    "               .agg({'Vehicle Purchase':'sum', 'Operating Assistance':'sum',\n",
    "                      'Mobility Management':'sum','Hardware/Software Purchase':'sum','Communications':'sum',\n",
    "                     'Facilities Equipment':'sum', 'Surveillance':'sum', 'Subsidies':'sum'}).reset_index())\n",
    "sum_ptype = sum_ptype.rename(columns = {\"index\":\"Project Types\",0:\"Count\"})\n",
    "_dla_utils.bar_chart_nosubset((sum_ptype),\n",
    "    \"Project Types\",\n",
    "    \"Count\",\n",
    "    \"Project Types\",\n",
    "    \"Number of Organizations using Project Types\"\n",
    ")"
   ]
  },
  {
   "cell_type": "code",
   "execution_count": null,
   "id": "b5c01a2b-521f-4b54-891c-ac2aa0a80c79",
   "metadata": {
    "papermill": {
     "duration": 0.034106,
     "end_time": "2022-05-26T05:23:15.771810",
     "exception": false,
     "start_time": "2022-05-26T05:23:15.737704",
     "status": "completed"
    },
    "tags": []
   },
   "outputs": [],
   "source": []
  },
  {
   "cell_type": "code",
   "execution_count": 13,
   "id": "4085cea8-a3b3-4796-87c8-3f73fe4f73e0",
   "metadata": {
    "execution": {
     "iopub.execute_input": "2022-05-26T05:23:15.842840Z",
     "iopub.status.busy": "2022-05-26T05:23:15.841792Z",
     "iopub.status.idle": "2022-05-26T05:23:15.946270Z",
     "shell.execute_reply": "2022-05-26T05:23:15.945586Z"
    },
    "papermill": {
     "duration": 0.140817,
     "end_time": "2022-05-26T05:23:15.948633",
     "exception": false,
     "start_time": "2022-05-26T05:23:15.807816",
     "status": "completed"
    },
    "scrolled": true,
    "tags": []
   },
   "outputs": [],
   "source": [
    "columns = [\n",
    "        \"n_vp\",\n",
    "        \"n_oa\",\n",
    "        \"n_mm\",\n",
    "        \"n_hsp\",\n",
    "        \"n_c\",\n",
    "        \"n_fe\",\n",
    "        \"n_s\",\n",
    "        \"n_sub\"]\n",
    "\n",
    "for col in columns:\n",
    "    org_counts = (ptype_counts \n",
    "                  >> filter(_[col] == 1)\n",
    "                  >> count(_['organization_name'])\n",
    "                  >> select(_['organization_name']))\n",
    "    table = (_dla_utils.pretify_tables2(org_counts, \"Organization Name\", \"\"))\n",
    "\n",
    "#     display(HTML(f\"<br>\"\n",
    "#                  f\"<br>\"\n",
    "#                  f\"<strong>Organization with {column} Project Types Present</strong>\"))\n",
    "    \n",
    "#     (display(HTML(_dla_utils.pretify_tables2(org_counts, \"Organization Name\", \"\"))))"
   ]
  },
  {
   "cell_type": "code",
   "execution_count": 14,
   "id": "2195de23-ffe7-4378-89ba-d9bacb3a41fe",
   "metadata": {
    "execution": {
     "iopub.execute_input": "2022-05-26T05:23:16.018908Z",
     "iopub.status.busy": "2022-05-26T05:23:16.018637Z",
     "iopub.status.idle": "2022-05-26T05:23:16.022190Z",
     "shell.execute_reply": "2022-05-26T05:23:16.021313Z"
    },
    "papermill": {
     "duration": 0.04083,
     "end_time": "2022-05-26T05:23:16.024511",
     "exception": false,
     "start_time": "2022-05-26T05:23:15.983681",
     "status": "completed"
    },
    "tags": []
   },
   "outputs": [],
   "source": [
    "#display(HTML(table))"
   ]
  },
  {
   "cell_type": "code",
   "execution_count": null,
   "id": "21d7bcb1-0ef2-47b6-8185-a08359f4497d",
   "metadata": {
    "papermill": {
     "duration": 0.035803,
     "end_time": "2022-05-26T05:23:16.094094",
     "exception": false,
     "start_time": "2022-05-26T05:23:16.058291",
     "status": "completed"
    },
    "tags": []
   },
   "outputs": [],
   "source": []
  },
  {
   "cell_type": "code",
   "execution_count": 15,
   "id": "8038aab4-39ec-44f5-80d7-37bb235d077b",
   "metadata": {
    "execution": {
     "iopub.execute_input": "2022-05-26T05:23:16.163963Z",
     "iopub.status.busy": "2022-05-26T05:23:16.163694Z",
     "iopub.status.idle": "2022-05-26T05:23:16.230536Z",
     "shell.execute_reply": "2022-05-26T05:23:16.229452Z"
    },
    "papermill": {
     "duration": 0.105415,
     "end_time": "2022-05-26T05:23:16.232833",
     "exception": false,
     "start_time": "2022-05-26T05:23:16.127418",
     "status": "completed"
    },
    "tags": []
   },
   "outputs": [],
   "source": [
    "cols = [\n",
    "        \"n_vp\",\n",
    "        \"n_oa\",\n",
    "        \"n_mm\",\n",
    "        \"n_hsp\",\n",
    "        \"n_c\",\n",
    "        \"n_fe\",\n",
    "        \"n_s\",\n",
    "        \"n_sub\"]\n",
    "d = {}\n",
    "for i in cols:\n",
    "    org_counts = ((ptype_counts \n",
    "                  >> filter(_[i] == 1)\n",
    "                  >> count(_['organization_name'])\n",
    "                  >> select(_['organization_name'])\n",
    "                  )\n",
    "## Commented out portion works to format df but does not work with the side by side               \n",
    "                 #  .rename(columns={'organization_name':f\"Organizations in {_dla_utils.labeling(i)}\"})\n",
    "                  )\n",
    "\n",
    "    # d[str(i)] = (org_counts\n",
    "    #               .style.hide(axis='index')\n",
    "    #               .set_properties(**{'text-align': 'center'})\n",
    "    #               .set_table_styles([dict(selector='th', props=[('text-align', 'center')])])\n",
    "    #              )\n",
    "    d[str(i)] = ((_dla_utils.pretify_tables2(org_counts, \"Organization Name\", \"\")))\n",
    "    \n"
   ]
  },
  {
   "cell_type": "code",
   "execution_count": 16,
   "id": "abcd4a76-59ac-4050-ae5d-15f9396c2705",
   "metadata": {
    "execution": {
     "iopub.execute_input": "2022-05-26T05:23:16.303803Z",
     "iopub.status.busy": "2022-05-26T05:23:16.303518Z",
     "iopub.status.idle": "2022-05-26T05:23:16.308137Z",
     "shell.execute_reply": "2022-05-26T05:23:16.307336Z"
    },
    "papermill": {
     "duration": 0.040533,
     "end_time": "2022-05-26T05:23:16.310634",
     "exception": false,
     "start_time": "2022-05-26T05:23:16.270101",
     "status": "completed"
    },
    "tags": []
   },
   "outputs": [],
   "source": [
    "table1 = d['n_vp']\n",
    "table2 = d['n_oa']\n",
    "table3 = d['n_mm']\n",
    "table4 = d['n_hsp']\n",
    "table5 = d['n_c']\n",
    "table6 = d['n_fe']\n",
    "table7 = d['n_s']\n",
    "table8 = d['n_sub']"
   ]
  },
  {
   "cell_type": "code",
   "execution_count": 17,
   "id": "86aadad8-94ee-46b9-906c-e4c6a7cba80e",
   "metadata": {
    "execution": {
     "iopub.execute_input": "2022-05-26T05:23:16.378435Z",
     "iopub.status.busy": "2022-05-26T05:23:16.377507Z",
     "iopub.status.idle": "2022-05-26T05:23:16.381783Z",
     "shell.execute_reply": "2022-05-26T05:23:16.381028Z"
    },
    "papermill": {
     "duration": 0.040386,
     "end_time": "2022-05-26T05:23:16.383805",
     "exception": false,
     "start_time": "2022-05-26T05:23:16.343419",
     "status": "completed"
    },
    "tags": []
   },
   "outputs": [],
   "source": [
    "#table = display(HTML(table6))"
   ]
  },
  {
   "cell_type": "code",
   "execution_count": null,
   "id": "37e4dcef-87bc-492f-a710-75f4f5876acc",
   "metadata": {
    "papermill": {
     "duration": 0.031842,
     "end_time": "2022-05-26T05:23:16.449873",
     "exception": false,
     "start_time": "2022-05-26T05:23:16.418031",
     "status": "completed"
    },
    "tags": []
   },
   "outputs": [],
   "source": []
  },
  {
   "cell_type": "code",
   "execution_count": 18,
   "id": "d16d7ef1-ff95-4f0e-8fcf-d1c229e55ea4",
   "metadata": {
    "execution": {
     "iopub.execute_input": "2022-05-26T05:23:16.519200Z",
     "iopub.status.busy": "2022-05-26T05:23:16.518912Z",
     "iopub.status.idle": "2022-05-26T05:23:16.524974Z",
     "shell.execute_reply": "2022-05-26T05:23:16.524175Z"
    },
    "papermill": {
     "duration": 0.044263,
     "end_time": "2022-05-26T05:23:16.526737",
     "exception": false,
     "start_time": "2022-05-26T05:23:16.482474",
     "status": "completed"
    },
    "tags": []
   },
   "outputs": [],
   "source": [
    "def pretify_tables3(df):\n",
    "    df = df.rename(columns = _dla_utils.labeling)\n",
    "    #display(HTML(df.to_html(index=False)))\n",
    "    df = (df.style.hide(axis='index')\n",
    "              .set_properties(**{'text-align': 'center'})\n",
    "              .set_table_styles([dict(selector='th', props=[('text-align', 'center')])])\n",
    "             )\n",
    "    return (df.to_html(index=False))"
   ]
  },
  {
   "cell_type": "code",
   "execution_count": 19,
   "id": "fba987ae-0ae6-4424-a783-d18616e8c275",
   "metadata": {
    "execution": {
     "iopub.execute_input": "2022-05-26T05:23:16.597460Z",
     "iopub.status.busy": "2022-05-26T05:23:16.596912Z",
     "iopub.status.idle": "2022-05-26T05:23:16.601855Z",
     "shell.execute_reply": "2022-05-26T05:23:16.601399Z"
    },
    "papermill": {
     "duration": 0.043546,
     "end_time": "2022-05-26T05:23:16.603572",
     "exception": false,
     "start_time": "2022-05-26T05:23:16.560026",
     "status": "completed"
    },
    "tags": []
   },
   "outputs": [],
   "source": [
    "def display_side_by_side(*args):\n",
    "        html_str=''\n",
    "        for df in args:\n",
    "            html_str+=df\n",
    "        display_html(html_str.replace('table','table style=\"display:inline\"'),raw=True)\n",
    "\n",
    "        "
   ]
  },
  {
   "cell_type": "code",
   "execution_count": 20,
   "id": "0ccd3d4b-e122-4804-8b25-9ff7c828a163",
   "metadata": {
    "execution": {
     "iopub.execute_input": "2022-05-26T05:23:16.673984Z",
     "iopub.status.busy": "2022-05-26T05:23:16.673702Z",
     "iopub.status.idle": "2022-05-26T05:23:16.742266Z",
     "shell.execute_reply": "2022-05-26T05:23:16.741469Z"
    },
    "papermill": {
     "duration": 0.107337,
     "end_time": "2022-05-26T05:23:16.744437",
     "exception": false,
     "start_time": "2022-05-26T05:23:16.637100",
     "status": "completed"
    },
    "tags": []
   },
   "outputs": [],
   "source": [
    "cols = [\n",
    "        \"n_vp\",\n",
    "        \"n_oa\",\n",
    "        \"n_mm\",\n",
    "        \"n_hsp\",\n",
    "        \"n_c\",\n",
    "        \"n_fe\",\n",
    "        \"n_s\",\n",
    "        \"n_sub\"]\n",
    "d2 = {}\n",
    "for i in cols:\n",
    "    org_counts = ((ptype_counts \n",
    "                  >> filter(_[i] == 1)\n",
    "                  >> count(_['organization_name'])\n",
    "                  >> select(_['organization_name'])\n",
    "                  )\n",
    "## Commented out portion works to format df but does not work with the side by side               \n",
    "                  .rename(columns={'organization_name':f\"Organizations with {_dla_utils.labeling(i)} Project Types\"})\n",
    "                  )\n",
    "\n",
    "    # d2[str(i)] = (org_counts\n",
    "    #               .style\n",
    "    #               .hide(axis='index')             \n",
    "    #               .set_properties(**{'text-align': 'center'})\n",
    "    #               .set_table_styles([dict(selector='th', props=[('text-align', 'center')])])\n",
    "    #              )\n",
    "    d2[str(i)] = ((pretify_tables3(org_counts))\n",
    "                  # .set_properties(**{'text-align': 'center'})                 ##doesnt work: use fx above\n",
    "                  # .set_table_styles([dict(selector='th', props=[('text-align', 'center')])])   ##doesnt work: use fx above\n",
    "                 )\n",
    "    \n"
   ]
  },
  {
   "cell_type": "code",
   "execution_count": 21,
   "id": "ebf64ee4-4216-4472-af81-2232334ed942",
   "metadata": {
    "execution": {
     "iopub.execute_input": "2022-05-26T05:23:16.819298Z",
     "iopub.status.busy": "2022-05-26T05:23:16.819031Z",
     "iopub.status.idle": "2022-05-26T05:23:16.824371Z",
     "shell.execute_reply": "2022-05-26T05:23:16.823512Z"
    },
    "papermill": {
     "duration": 0.049126,
     "end_time": "2022-05-26T05:23:16.826309",
     "exception": false,
     "start_time": "2022-05-26T05:23:16.777183",
     "status": "completed"
    },
    "tags": []
   },
   "outputs": [],
   "source": [
    "table11 = d2['n_vp']\n",
    "table22 = d2['n_oa']\n",
    "table33 = d2['n_mm']\n",
    "table44 = d2['n_hsp']\n",
    "table55 = d2['n_c']\n",
    "table66 = d2['n_fe']\n",
    "table77 = d2['n_s']\n",
    "table88 = d2['n_sub']"
   ]
  },
  {
   "cell_type": "code",
   "execution_count": 22,
   "id": "6a01ab99-a8b9-4e09-ad33-ba98eff5e7bd",
   "metadata": {
    "execution": {
     "iopub.execute_input": "2022-05-26T05:23:16.897409Z",
     "iopub.status.busy": "2022-05-26T05:23:16.896511Z",
     "iopub.status.idle": "2022-05-26T05:23:16.902846Z",
     "shell.execute_reply": "2022-05-26T05:23:16.902298Z"
    },
    "papermill": {
     "duration": 0.044479,
     "end_time": "2022-05-26T05:23:16.904511",
     "exception": false,
     "start_time": "2022-05-26T05:23:16.860032",
     "status": "completed"
    },
    "tags": []
   },
   "outputs": [
    {
     "data": {
      "text/html": [
       "<style type=\"text/css\">\n",
       "#T_8e9ec th {\n",
       "  text-align: center;\n",
       "}\n",
       "#T_8e9ec_row0_col0, #T_8e9ec_row1_col0, #T_8e9ec_row2_col0, #T_8e9ec_row3_col0, #T_8e9ec_row4_col0 {\n",
       "  text-align: center;\n",
       "}\n",
       "</style>\n",
       "<table id=\"T_8e9ec\">\n",
       "  <thead>\n",
       "    <tr>\n",
       "      <th id=\"T_8e9ec_level0_col0\" class=\"col_heading level0 col0\" >Organizations With Facilities Equipment Project Types</th>\n",
       "    </tr>\n",
       "  </thead>\n",
       "  <tbody>\n",
       "    <tr>\n",
       "      <td id=\"T_8e9ec_row0_col0\" class=\"data row0 col0\" >Eastern Sierra Transit Authority</td>\n",
       "    </tr>\n",
       "    <tr>\n",
       "      <td id=\"T_8e9ec_row1_col0\" class=\"data row1 col0\" >Lighthouse for the Blind and Visually Impaired</td>\n",
       "    </tr>\n",
       "    <tr>\n",
       "      <td id=\"T_8e9ec_row2_col0\" class=\"data row2 col0\" >Milestones of Development INC</td>\n",
       "    </tr>\n",
       "    <tr>\n",
       "      <td id=\"T_8e9ec_row3_col0\" class=\"data row3 col0\" >North and South of Market Adult Day Health</td>\n",
       "    </tr>\n",
       "    <tr>\n",
       "      <td id=\"T_8e9ec_row4_col0\" class=\"data row4 col0\" >Porterville Sheltered Workshop</td>\n",
       "    </tr>\n",
       "  </tbody>\n",
       "</table>\n"
      ],
      "text/plain": [
       "<IPython.core.display.HTML object>"
      ]
     },
     "metadata": {},
     "output_type": "display_data"
    }
   ],
   "source": [
    "display(HTML(table66))"
   ]
  },
  {
   "cell_type": "code",
   "execution_count": 23,
   "id": "0d518251-b587-49c8-99c0-8aa0edbce60f",
   "metadata": {
    "execution": {
     "iopub.execute_input": "2022-05-26T05:23:16.976844Z",
     "iopub.status.busy": "2022-05-26T05:23:16.975982Z",
     "iopub.status.idle": "2022-05-26T05:23:16.988207Z",
     "shell.execute_reply": "2022-05-26T05:23:16.987392Z"
    },
    "papermill": {
     "duration": 0.049392,
     "end_time": "2022-05-26T05:23:16.990243",
     "exception": false,
     "start_time": "2022-05-26T05:23:16.940851",
     "status": "completed"
    },
    "tags": []
   },
   "outputs": [
    {
     "data": {
      "text/html": [
       "<style type=\"text/css\">\n",
       "#T_90b3d th {\n",
       "  text-align: center;\n",
       "}\n",
       "#T_90b3d_row0_col0, #T_90b3d_row1_col0, #T_90b3d_row2_col0, #T_90b3d_row3_col0, #T_90b3d_row4_col0, #T_90b3d_row5_col0, #T_90b3d_row6_col0, #T_90b3d_row7_col0, #T_90b3d_row8_col0, #T_90b3d_row9_col0, #T_90b3d_row10_col0, #T_90b3d_row11_col0, #T_90b3d_row12_col0, #T_90b3d_row13_col0, #T_90b3d_row14_col0, #T_90b3d_row15_col0, #T_90b3d_row16_col0, #T_90b3d_row17_col0, #T_90b3d_row18_col0, #T_90b3d_row19_col0, #T_90b3d_row20_col0, #T_90b3d_row21_col0, #T_90b3d_row22_col0, #T_90b3d_row23_col0, #T_90b3d_row24_col0, #T_90b3d_row25_col0, #T_90b3d_row26_col0, #T_90b3d_row27_col0, #T_90b3d_row28_col0, #T_90b3d_row29_col0, #T_90b3d_row30_col0, #T_90b3d_row31_col0, #T_90b3d_row32_col0, #T_90b3d_row33_col0, #T_90b3d_row34_col0, #T_90b3d_row35_col0, #T_90b3d_row36_col0, #T_90b3d_row37_col0, #T_90b3d_row38_col0, #T_90b3d_row39_col0, #T_90b3d_row40_col0, #T_90b3d_row41_col0, #T_90b3d_row42_col0, #T_90b3d_row43_col0, #T_90b3d_row44_col0, #T_90b3d_row45_col0, #T_90b3d_row46_col0, #T_90b3d_row47_col0, #T_90b3d_row48_col0, #T_90b3d_row49_col0, #T_90b3d_row50_col0, #T_90b3d_row51_col0, #T_90b3d_row52_col0, #T_90b3d_row53_col0, #T_90b3d_row54_col0, #T_90b3d_row55_col0, #T_90b3d_row56_col0, #T_90b3d_row57_col0, #T_90b3d_row58_col0, #T_90b3d_row59_col0, #T_90b3d_row60_col0, #T_90b3d_row61_col0, #T_90b3d_row62_col0, #T_90b3d_row63_col0, #T_90b3d_row64_col0, #T_90b3d_row65_col0, #T_90b3d_row66_col0, #T_90b3d_row67_col0, #T_90b3d_row68_col0, #T_90b3d_row69_col0, #T_90b3d_row70_col0, #T_90b3d_row71_col0, #T_90b3d_row72_col0, #T_90b3d_row73_col0, #T_90b3d_row74_col0, #T_90b3d_row75_col0, #T_90b3d_row76_col0, #T_90b3d_row77_col0, #T_90b3d_row78_col0, #T_90b3d_row79_col0, #T_90b3d_row80_col0, #T_90b3d_row81_col0, #T_90b3d_row82_col0, #T_90b3d_row83_col0, #T_90b3d_row84_col0, #T_90b3d_row85_col0, #T_90b3d_row86_col0, #T_90b3d_row87_col0, #T_90b3d_row88_col0, #T_90b3d_row89_col0, #T_90b3d_row90_col0, #T_90b3d_row91_col0 {\n",
       "  text-align: center;\n",
       "}\n",
       "</style>\n",
       "<table style=\"display:inline\" id=\"T_90b3d\">\n",
       "  <thead>\n",
       "    <tr>\n",
       "      <th id=\"T_90b3d_level0_col0\" class=\"col_heading level0 col0\" >Organizations With Vehicle Purchase Project Types</th>\n",
       "    </tr>\n",
       "  </thead>\n",
       "  <tbody>\n",
       "    <tr>\n",
       "      <td id=\"T_90b3d_row0_col0\" class=\"data row0 col0\" >ARC Bakersfield</td>\n",
       "    </tr>\n",
       "    <tr>\n",
       "      <td id=\"T_90b3d_row1_col0\" class=\"data row1 col0\" >ARC Imperial Valley</td>\n",
       "    </tr>\n",
       "    <tr>\n",
       "      <td id=\"T_90b3d_row2_col0\" class=\"data row2 col0\" >Able Industries</td>\n",
       "    </tr>\n",
       "    <tr>\n",
       "      <td id=\"T_90b3d_row3_col0\" class=\"data row3 col0\" >Alegria Community Living</td>\n",
       "    </tr>\n",
       "    <tr>\n",
       "      <td id=\"T_90b3d_row4_col0\" class=\"data row4 col0\" >Angel View Inc</td>\n",
       "    </tr>\n",
       "    <tr>\n",
       "      <td id=\"T_90b3d_row5_col0\" class=\"data row5 col0\" >Asian Community Center of Sacramento Valley Inc DBA ACC Senior Services</td>\n",
       "    </tr>\n",
       "    <tr>\n",
       "      <td id=\"T_90b3d_row6_col0\" class=\"data row6 col0\" >Avenidas </td>\n",
       "    </tr>\n",
       "    <tr>\n",
       "      <td id=\"T_90b3d_row7_col0\" class=\"data row7 col0\" >Bay Area Outreach & Recreation Program Inc</td>\n",
       "    </tr>\n",
       "    <tr>\n",
       "      <td id=\"T_90b3d_row8_col0\" class=\"data row8 col0\" >Big Valley 50 Plus</td>\n",
       "    </tr>\n",
       "    <tr>\n",
       "      <td id=\"T_90b3d_row9_col0\" class=\"data row9 col0\" >Butte County Association of Governments  Butte Regional Transit</td>\n",
       "    </tr>\n",
       "    <tr>\n",
       "      <td id=\"T_90b3d_row10_col0\" class=\"data row10 col0\" >Calaveras County Public Works</td>\n",
       "    </tr>\n",
       "    <tr>\n",
       "      <td id=\"T_90b3d_row11_col0\" class=\"data row11 col0\" >Care-A-Van Transit Systems Inc</td>\n",
       "    </tr>\n",
       "    <tr>\n",
       "      <td id=\"T_90b3d_row12_col0\" class=\"data row12 col0\" >Casa Allegra Community Services</td>\n",
       "    </tr>\n",
       "    <tr>\n",
       "      <td id=\"T_90b3d_row13_col0\" class=\"data row13 col0\" >Catholic Charities of the Diocese of Stockton</td>\n",
       "    </tr>\n",
       "    <tr>\n",
       "      <td id=\"T_90b3d_row14_col0\" class=\"data row14 col0\" >Center for Elders' Independence </td>\n",
       "    </tr>\n",
       "    <tr>\n",
       "      <td id=\"T_90b3d_row15_col0\" class=\"data row15 col0\" >Choice in Aging</td>\n",
       "    </tr>\n",
       "    <tr>\n",
       "      <td id=\"T_90b3d_row16_col0\" class=\"data row16 col0\" >City of Fontana</td>\n",
       "    </tr>\n",
       "    <tr>\n",
       "      <td id=\"T_90b3d_row17_col0\" class=\"data row17 col0\" >City of Santa Rosa</td>\n",
       "    </tr>\n",
       "    <tr>\n",
       "      <td id=\"T_90b3d_row18_col0\" class=\"data row18 col0\" >Coastal Seniors Inc</td>\n",
       "    </tr>\n",
       "    <tr>\n",
       "      <td id=\"T_90b3d_row19_col0\" class=\"data row19 col0\" >Colusa County Transit Agency</td>\n",
       "    </tr>\n",
       "    <tr>\n",
       "      <td id=\"T_90b3d_row20_col0\" class=\"data row20 col0\" >Common Ground Senior Services</td>\n",
       "    </tr>\n",
       "    <tr>\n",
       "      <td id=\"T_90b3d_row21_col0\" class=\"data row21 col0\" >Community Bridges Liftline</td>\n",
       "    </tr>\n",
       "    <tr>\n",
       "      <td id=\"T_90b3d_row22_col0\" class=\"data row22 col0\" >Consolidated Tribal Health Project Inc</td>\n",
       "    </tr>\n",
       "    <tr>\n",
       "      <td id=\"T_90b3d_row23_col0\" class=\"data row23 col0\" >Contra Costa ARC</td>\n",
       "    </tr>\n",
       "    <tr>\n",
       "      <td id=\"T_90b3d_row24_col0\" class=\"data row24 col0\" >County of Nevada Public Works Transit Services Division</td>\n",
       "    </tr>\n",
       "    <tr>\n",
       "      <td id=\"T_90b3d_row25_col0\" class=\"data row25 col0\" >Delano Association for the Developmentally Disabled Inc</td>\n",
       "    </tr>\n",
       "    <tr>\n",
       "      <td id=\"T_90b3d_row26_col0\" class=\"data row26 col0\" >Desert ARC</td>\n",
       "    </tr>\n",
       "    <tr>\n",
       "      <td id=\"T_90b3d_row27_col0\" class=\"data row27 col0\" >Desert Area Resources and Training</td>\n",
       "    </tr>\n",
       "    <tr>\n",
       "      <td id=\"T_90b3d_row28_col0\" class=\"data row28 col0\" >Dignity Community Care</td>\n",
       "    </tr>\n",
       "    <tr>\n",
       "      <td id=\"T_90b3d_row29_col0\" class=\"data row29 col0\" >Dignity Health Connected Living</td>\n",
       "    </tr>\n",
       "    <tr>\n",
       "      <td id=\"T_90b3d_row30_col0\" class=\"data row30 col0\" >East Bay Services to the Developmentally Disabled </td>\n",
       "    </tr>\n",
       "    <tr>\n",
       "      <td id=\"T_90b3d_row31_col0\" class=\"data row31 col0\" >Eastern Sierra Transit Authority</td>\n",
       "    </tr>\n",
       "    <tr>\n",
       "      <td id=\"T_90b3d_row32_col0\" class=\"data row32 col0\" >Easy Lift Transportation Inc</td>\n",
       "    </tr>\n",
       "    <tr>\n",
       "      <td id=\"T_90b3d_row33_col0\" class=\"data row33 col0\" >El Dorado County Transit Authority</td>\n",
       "    </tr>\n",
       "    <tr>\n",
       "      <td id=\"T_90b3d_row34_col0\" class=\"data row34 col0\" >Family Bridges Inc</td>\n",
       "    </tr>\n",
       "    <tr>\n",
       "      <td id=\"T_90b3d_row35_col0\" class=\"data row35 col0\" >Foothill AIDS Project</td>\n",
       "    </tr>\n",
       "    <tr>\n",
       "      <td id=\"T_90b3d_row36_col0\" class=\"data row36 col0\" >Friends of Adult Day Health Care Centers</td>\n",
       "    </tr>\n",
       "    <tr>\n",
       "      <td id=\"T_90b3d_row37_col0\" class=\"data row37 col0\" >Friends of Children with Special Needs</td>\n",
       "    </tr>\n",
       "    <tr>\n",
       "      <td id=\"T_90b3d_row38_col0\" class=\"data row38 col0\" >Futures Explored Inc</td>\n",
       "    </tr>\n",
       "    <tr>\n",
       "      <td id=\"T_90b3d_row39_col0\" class=\"data row39 col0\" >Golden Rain Foundation of Walnut Creek</td>\n",
       "    </tr>\n",
       "    <tr>\n",
       "      <td id=\"T_90b3d_row40_col0\" class=\"data row40 col0\" >Howard Prep</td>\n",
       "    </tr>\n",
       "    <tr>\n",
       "      <td id=\"T_90b3d_row41_col0\" class=\"data row41 col0\" >Humboldt Medi-Trans</td>\n",
       "    </tr>\n",
       "    <tr>\n",
       "      <td id=\"T_90b3d_row42_col0\" class=\"data row42 col0\" >Humboldt Senior Resource Center</td>\n",
       "    </tr>\n",
       "    <tr>\n",
       "      <td id=\"T_90b3d_row43_col0\" class=\"data row43 col0\" >Humboldt Transit Authority</td>\n",
       "    </tr>\n",
       "    <tr>\n",
       "      <td id=\"T_90b3d_row44_col0\" class=\"data row44 col0\" >Institute on Aging </td>\n",
       "    </tr>\n",
       "    <tr>\n",
       "      <td id=\"T_90b3d_row45_col0\" class=\"data row45 col0\" >Inyo-Mono Association for the Handicapped</td>\n",
       "    </tr>\n",
       "    <tr>\n",
       "      <td id=\"T_90b3d_row46_col0\" class=\"data row46 col0\" >Kimochi Inc</td>\n",
       "    </tr>\n",
       "    <tr>\n",
       "      <td id=\"T_90b3d_row47_col0\" class=\"data row47 col0\" >Kings Rehabilitation Center</td>\n",
       "    </tr>\n",
       "    <tr>\n",
       "      <td id=\"T_90b3d_row48_col0\" class=\"data row48 col0\" >Life Steps Foundation Inc Santa Maria</td>\n",
       "    </tr>\n",
       "    <tr>\n",
       "      <td id=\"T_90b3d_row49_col0\" class=\"data row49 col0\" >Lodi Memorial Hospital Association Inc Adult Day Services</td>\n",
       "    </tr>\n",
       "    <tr>\n",
       "      <td id=\"T_90b3d_row50_col0\" class=\"data row50 col0\" >Loma Linda University Health</td>\n",
       "    </tr>\n",
       "    <tr>\n",
       "      <td id=\"T_90b3d_row51_col0\" class=\"data row51 col0\" >MOVE Stanislaus Transportation</td>\n",
       "    </tr>\n",
       "    <tr>\n",
       "      <td id=\"T_90b3d_row52_col0\" class=\"data row52 col0\" >Milestones of Development INC</td>\n",
       "    </tr>\n",
       "    <tr>\n",
       "      <td id=\"T_90b3d_row53_col0\" class=\"data row53 col0\" >Monterey-Salinas Transit</td>\n",
       "    </tr>\n",
       "    <tr>\n",
       "      <td id=\"T_90b3d_row54_col0\" class=\"data row54 col0\" >Mountain Shadows Support Group</td>\n",
       "    </tr>\n",
       "    <tr>\n",
       "      <td id=\"T_90b3d_row55_col0\" class=\"data row55 col0\" >Napa Valley Transportation Authority</td>\n",
       "    </tr>\n",
       "    <tr>\n",
       "      <td id=\"T_90b3d_row56_col0\" class=\"data row56 col0\" >New Advances for People with Disabilities</td>\n",
       "    </tr>\n",
       "    <tr>\n",
       "      <td id=\"T_90b3d_row57_col0\" class=\"data row57 col0\" >North Valley Services</td>\n",
       "    </tr>\n",
       "    <tr>\n",
       "      <td id=\"T_90b3d_row58_col0\" class=\"data row58 col0\" >North and South of Market Adult Day Health</td>\n",
       "    </tr>\n",
       "    <tr>\n",
       "      <td id=\"T_90b3d_row59_col0\" class=\"data row59 col0\" >North of the River Recreation and Park District</td>\n",
       "    </tr>\n",
       "    <tr>\n",
       "      <td id=\"T_90b3d_row60_col0\" class=\"data row60 col0\" >OPARC</td>\n",
       "    </tr>\n",
       "    <tr>\n",
       "      <td id=\"T_90b3d_row61_col0\" class=\"data row61 col0\" >Omnitrans</td>\n",
       "    </tr>\n",
       "    <tr>\n",
       "      <td id=\"T_90b3d_row62_col0\" class=\"data row62 col0\" >On Lok Senior Health Services</td>\n",
       "    </tr>\n",
       "    <tr>\n",
       "      <td id=\"T_90b3d_row63_col0\" class=\"data row63 col0\" >Pace Solano</td>\n",
       "    </tr>\n",
       "    <tr>\n",
       "      <td id=\"T_90b3d_row64_col0\" class=\"data row64 col0\" >Palo Verde Valley Transit Agency</td>\n",
       "    </tr>\n",
       "    <tr>\n",
       "      <td id=\"T_90b3d_row65_col0\" class=\"data row65 col0\" >Paratransit Services (Red Bluff)</td>\n",
       "    </tr>\n",
       "    <tr>\n",
       "      <td id=\"T_90b3d_row66_col0\" class=\"data row66 col0\" >Peppermint Ridge</td>\n",
       "    </tr>\n",
       "    <tr>\n",
       "      <td id=\"T_90b3d_row67_col0\" class=\"data row67 col0\" >Pomeroy Recreation & Rehabilitation Center</td>\n",
       "    </tr>\n",
       "    <tr>\n",
       "      <td id=\"T_90b3d_row68_col0\" class=\"data row68 col0\" >Porterville Sheltered Workshop</td>\n",
       "    </tr>\n",
       "    <tr>\n",
       "      <td id=\"T_90b3d_row69_col0\" class=\"data row69 col0\" >Pride Industries One Inc</td>\n",
       "    </tr>\n",
       "    <tr>\n",
       "      <td id=\"T_90b3d_row70_col0\" class=\"data row70 col0\" >Redwood Coast Seniors Inc</td>\n",
       "    </tr>\n",
       "    <tr>\n",
       "      <td id=\"T_90b3d_row71_col0\" class=\"data row71 col0\" >Redwood Coast Transit Authority</td>\n",
       "    </tr>\n",
       "    <tr>\n",
       "      <td id=\"T_90b3d_row72_col0\" class=\"data row72 col0\" >Regents of the University of California Santa Cruz</td>\n",
       "    </tr>\n",
       "    <tr>\n",
       "      <td id=\"T_90b3d_row73_col0\" class=\"data row73 col0\" >SAHA</td>\n",
       "    </tr>\n",
       "    <tr>\n",
       "      <td id=\"T_90b3d_row74_col0\" class=\"data row74 col0\" >SMOOTH</td>\n",
       "    </tr>\n",
       "    <tr>\n",
       "      <td id=\"T_90b3d_row75_col0\" class=\"data row75 col0\" >San Benito County Local Transportation Authority</td>\n",
       "    </tr>\n",
       "    <tr>\n",
       "      <td id=\"T_90b3d_row76_col0\" class=\"data row76 col0\" >San Joaquin Regional Transit District</td>\n",
       "    </tr>\n",
       "    <tr>\n",
       "      <td id=\"T_90b3d_row77_col0\" class=\"data row77 col0\" >Self-Help for the Elderly</td>\n",
       "    </tr>\n",
       "    <tr>\n",
       "      <td id=\"T_90b3d_row78_col0\" class=\"data row78 col0\" >Shores of Hope </td>\n",
       "    </tr>\n",
       "    <tr>\n",
       "      <td id=\"T_90b3d_row79_col0\" class=\"data row79 col0\" >Sunline Transit Agency</td>\n",
       "    </tr>\n",
       "    <tr>\n",
       "      <td id=\"T_90b3d_row80_col0\" class=\"data row80 col0\" >The Arc of Amador and Calaveras</td>\n",
       "    </tr>\n",
       "    <tr>\n",
       "      <td id=\"T_90b3d_row81_col0\" class=\"data row81 col0\" >The Respite Inn</td>\n",
       "    </tr>\n",
       "    <tr>\n",
       "      <td id=\"T_90b3d_row82_col0\" class=\"data row82 col0\" >Ukiah Senior Center Inc</td>\n",
       "    </tr>\n",
       "    <tr>\n",
       "      <td id=\"T_90b3d_row83_col0\" class=\"data row83 col0\" >United Cerebral Palsy Association Inc of Stanislaus County</td>\n",
       "    </tr>\n",
       "    <tr>\n",
       "      <td id=\"T_90b3d_row84_col0\" class=\"data row84 col0\" >United Cerebral Palsy Association of Greater Sacramento Inc</td>\n",
       "    </tr>\n",
       "    <tr>\n",
       "      <td id=\"T_90b3d_row85_col0\" class=\"data row85 col0\" >United Cerebral Palsy of San Luis Obispo County </td>\n",
       "    </tr>\n",
       "    <tr>\n",
       "      <td id=\"T_90b3d_row86_col0\" class=\"data row86 col0\" >Valley Achievement Center</td>\n",
       "    </tr>\n",
       "    <tr>\n",
       "      <td id=\"T_90b3d_row87_col0\" class=\"data row87 col0\" >Valley Resource Center</td>\n",
       "    </tr>\n",
       "    <tr>\n",
       "      <td id=\"T_90b3d_row88_col0\" class=\"data row88 col0\" >Victor Valley Community Services Council</td>\n",
       "    </tr>\n",
       "    <tr>\n",
       "      <td id=\"T_90b3d_row89_col0\" class=\"data row89 col0\" >Victor Valley Transit Authority</td>\n",
       "    </tr>\n",
       "    <tr>\n",
       "      <td id=\"T_90b3d_row90_col0\" class=\"data row90 col0\" >Vivalon Inc</td>\n",
       "    </tr>\n",
       "    <tr>\n",
       "      <td id=\"T_90b3d_row91_col0\" class=\"data row91 col0\" >Work Training Center</td>\n",
       "    </tr>\n",
       "  </tbody>\n",
       "</table style=\"display:inline\">\n",
       "<style type=\"text/css\">\n",
       "#T_3ea4d th {\n",
       "  text-align: center;\n",
       "}\n",
       "#T_3ea4d_row0_col0, #T_3ea4d_row1_col0, #T_3ea4d_row2_col0, #T_3ea4d_row3_col0, #T_3ea4d_row4_col0, #T_3ea4d_row5_col0, #T_3ea4d_row6_col0, #T_3ea4d_row7_col0, #T_3ea4d_row8_col0, #T_3ea4d_row9_col0, #T_3ea4d_row10_col0, #T_3ea4d_row11_col0, #T_3ea4d_row12_col0, #T_3ea4d_row13_col0, #T_3ea4d_row14_col0, #T_3ea4d_row15_col0, #T_3ea4d_row16_col0, #T_3ea4d_row17_col0, #T_3ea4d_row18_col0, #T_3ea4d_row19_col0, #T_3ea4d_row20_col0, #T_3ea4d_row21_col0, #T_3ea4d_row22_col0, #T_3ea4d_row23_col0, #T_3ea4d_row24_col0, #T_3ea4d_row25_col0, #T_3ea4d_row26_col0, #T_3ea4d_row27_col0, #T_3ea4d_row28_col0, #T_3ea4d_row29_col0, #T_3ea4d_row30_col0, #T_3ea4d_row31_col0, #T_3ea4d_row32_col0, #T_3ea4d_row33_col0, #T_3ea4d_row34_col0, #T_3ea4d_row35_col0, #T_3ea4d_row36_col0, #T_3ea4d_row37_col0, #T_3ea4d_row38_col0, #T_3ea4d_row39_col0, #T_3ea4d_row40_col0, #T_3ea4d_row41_col0, #T_3ea4d_row42_col0, #T_3ea4d_row43_col0, #T_3ea4d_row44_col0, #T_3ea4d_row45_col0, #T_3ea4d_row46_col0, #T_3ea4d_row47_col0, #T_3ea4d_row48_col0, #T_3ea4d_row49_col0, #T_3ea4d_row50_col0, #T_3ea4d_row51_col0, #T_3ea4d_row52_col0, #T_3ea4d_row53_col0, #T_3ea4d_row54_col0, #T_3ea4d_row55_col0, #T_3ea4d_row56_col0, #T_3ea4d_row57_col0, #T_3ea4d_row58_col0, #T_3ea4d_row59_col0, #T_3ea4d_row60_col0, #T_3ea4d_row61_col0, #T_3ea4d_row62_col0, #T_3ea4d_row63_col0, #T_3ea4d_row64_col0 {\n",
       "  text-align: center;\n",
       "}\n",
       "</style>\n",
       "<table style=\"display:inline\" id=\"T_3ea4d\">\n",
       "  <thead>\n",
       "    <tr>\n",
       "      <th id=\"T_3ea4d_level0_col0\" class=\"col_heading level0 col0\" >Organizations With Operating Assistance Project Types</th>\n",
       "    </tr>\n",
       "  </thead>\n",
       "  <tbody>\n",
       "    <tr>\n",
       "      <td id=\"T_3ea4d_row0_col0\" class=\"data row0 col0\" >ARC Imperial Valley</td>\n",
       "    </tr>\n",
       "    <tr>\n",
       "      <td id=\"T_3ea4d_row1_col0\" class=\"data row1 col0\" >Amador Transit</td>\n",
       "    </tr>\n",
       "    <tr>\n",
       "      <td id=\"T_3ea4d_row2_col0\" class=\"data row2 col0\" >Angel View Inc</td>\n",
       "    </tr>\n",
       "    <tr>\n",
       "      <td id=\"T_3ea4d_row3_col0\" class=\"data row3 col0\" >Area 1 Agency on Aging</td>\n",
       "    </tr>\n",
       "    <tr>\n",
       "      <td id=\"T_3ea4d_row4_col0\" class=\"data row4 col0\" >Asian Community Center of Sacramento Valley Inc DBA ACC Senior Services</td>\n",
       "    </tr>\n",
       "    <tr>\n",
       "      <td id=\"T_3ea4d_row5_col0\" class=\"data row5 col0\" >Avenidas </td>\n",
       "    </tr>\n",
       "    <tr>\n",
       "      <td id=\"T_3ea4d_row6_col0\" class=\"data row6 col0\" >Catholic Charities of the Diocese of Stockton</td>\n",
       "    </tr>\n",
       "    <tr>\n",
       "      <td id=\"T_3ea4d_row7_col0\" class=\"data row7 col0\" >Choice in Aging</td>\n",
       "    </tr>\n",
       "    <tr>\n",
       "      <td id=\"T_3ea4d_row8_col0\" class=\"data row8 col0\" >City of Lafayette: Lamorinda Sprit Van Program</td>\n",
       "    </tr>\n",
       "    <tr>\n",
       "      <td id=\"T_3ea4d_row9_col0\" class=\"data row9 col0\" >City of Rio Vista</td>\n",
       "    </tr>\n",
       "    <tr>\n",
       "      <td id=\"T_3ea4d_row10_col0\" class=\"data row10 col0\" >City of Vista </td>\n",
       "    </tr>\n",
       "    <tr>\n",
       "      <td id=\"T_3ea4d_row11_col0\" class=\"data row11 col0\" >Coastal Seniors Inc</td>\n",
       "    </tr>\n",
       "    <tr>\n",
       "      <td id=\"T_3ea4d_row12_col0\" class=\"data row12 col0\" >Common Ground Senior Services</td>\n",
       "    </tr>\n",
       "    <tr>\n",
       "      <td id=\"T_3ea4d_row13_col0\" class=\"data row13 col0\" >Community Bridges Liftline</td>\n",
       "    </tr>\n",
       "    <tr>\n",
       "      <td id=\"T_3ea4d_row14_col0\" class=\"data row14 col0\" >Community Partners In Caring</td>\n",
       "    </tr>\n",
       "    <tr>\n",
       "      <td id=\"T_3ea4d_row15_col0\" class=\"data row15 col0\" >Consolidated Tribal Health Project Inc</td>\n",
       "    </tr>\n",
       "    <tr>\n",
       "      <td id=\"T_3ea4d_row16_col0\" class=\"data row16 col0\" >County of Sacramento Department of Child Family and Adult Services</td>\n",
       "    </tr>\n",
       "    <tr>\n",
       "      <td id=\"T_3ea4d_row17_col0\" class=\"data row17 col0\" >County of Sonoma Human Services Department Adult and Aging Division</td>\n",
       "    </tr>\n",
       "    <tr>\n",
       "      <td id=\"T_3ea4d_row18_col0\" class=\"data row18 col0\" >County of Ventura Health Services Agency</td>\n",
       "    </tr>\n",
       "    <tr>\n",
       "      <td id=\"T_3ea4d_row19_col0\" class=\"data row19 col0\" >Desert Access and Mobility Inc</td>\n",
       "    </tr>\n",
       "    <tr>\n",
       "      <td id=\"T_3ea4d_row20_col0\" class=\"data row20 col0\" >Dignity Community Care</td>\n",
       "    </tr>\n",
       "    <tr>\n",
       "      <td id=\"T_3ea4d_row21_col0\" class=\"data row21 col0\" >Dignity Health Connected Living</td>\n",
       "    </tr>\n",
       "    <tr>\n",
       "      <td id=\"T_3ea4d_row22_col0\" class=\"data row22 col0\" >Drivers for Survivors Inc</td>\n",
       "    </tr>\n",
       "    <tr>\n",
       "      <td id=\"T_3ea4d_row23_col0\" class=\"data row23 col0\" >Eastern Sierra Transit Authority</td>\n",
       "    </tr>\n",
       "    <tr>\n",
       "      <td id=\"T_3ea4d_row24_col0\" class=\"data row24 col0\" >Easy Lift Transportation Inc</td>\n",
       "    </tr>\n",
       "    <tr>\n",
       "      <td id=\"T_3ea4d_row25_col0\" class=\"data row25 col0\" >ElderHelp of San Diego</td>\n",
       "    </tr>\n",
       "    <tr>\n",
       "      <td id=\"T_3ea4d_row26_col0\" class=\"data row26 col0\" >Faith in Action</td>\n",
       "    </tr>\n",
       "    <tr>\n",
       "      <td id=\"T_3ea4d_row27_col0\" class=\"data row27 col0\" >Foothill AIDS Project</td>\n",
       "    </tr>\n",
       "    <tr>\n",
       "      <td id=\"T_3ea4d_row28_col0\" class=\"data row28 col0\" >Friends of Children with Special Needs</td>\n",
       "    </tr>\n",
       "    <tr>\n",
       "      <td id=\"T_3ea4d_row29_col0\" class=\"data row29 col0\" >Humboldt Medi-Trans</td>\n",
       "    </tr>\n",
       "    <tr>\n",
       "      <td id=\"T_3ea4d_row30_col0\" class=\"data row30 col0\" >Independent Living Partnership</td>\n",
       "    </tr>\n",
       "    <tr>\n",
       "      <td id=\"T_3ea4d_row31_col0\" class=\"data row31 col0\" >LIFE ElderCare</td>\n",
       "    </tr>\n",
       "    <tr>\n",
       "      <td id=\"T_3ea4d_row32_col0\" class=\"data row32 col0\" >Lake Links Inc</td>\n",
       "    </tr>\n",
       "    <tr>\n",
       "      <td id=\"T_3ea4d_row33_col0\" class=\"data row33 col0\" >Lake Transit Authority</td>\n",
       "    </tr>\n",
       "    <tr>\n",
       "      <td id=\"T_3ea4d_row34_col0\" class=\"data row34 col0\" >Lutheran Social Services of Southern California</td>\n",
       "    </tr>\n",
       "    <tr>\n",
       "      <td id=\"T_3ea4d_row35_col0\" class=\"data row35 col0\" >Marin County Transit District</td>\n",
       "    </tr>\n",
       "    <tr>\n",
       "      <td id=\"T_3ea4d_row36_col0\" class=\"data row36 col0\" >Mental Health Client Action Network (MHCAN) </td>\n",
       "    </tr>\n",
       "    <tr>\n",
       "      <td id=\"T_3ea4d_row37_col0\" class=\"data row37 col0\" >Mobility Matters</td>\n",
       "    </tr>\n",
       "    <tr>\n",
       "      <td id=\"T_3ea4d_row38_col0\" class=\"data row38 col0\" >Morongo Basin Transit Authority</td>\n",
       "    </tr>\n",
       "    <tr>\n",
       "      <td id=\"T_3ea4d_row39_col0\" class=\"data row39 col0\" >NCI Affiliates</td>\n",
       "    </tr>\n",
       "    <tr>\n",
       "      <td id=\"T_3ea4d_row40_col0\" class=\"data row40 col0\" >North of the River Recreation and Park District</td>\n",
       "    </tr>\n",
       "    <tr>\n",
       "      <td id=\"T_3ea4d_row41_col0\" class=\"data row41 col0\" >OPARC</td>\n",
       "    </tr>\n",
       "    <tr>\n",
       "      <td id=\"T_3ea4d_row42_col0\" class=\"data row42 col0\" >Outreach & Escort Inc </td>\n",
       "    </tr>\n",
       "    <tr>\n",
       "      <td id=\"T_3ea4d_row43_col0\" class=\"data row43 col0\" >Peninsula Family Service</td>\n",
       "    </tr>\n",
       "    <tr>\n",
       "      <td id=\"T_3ea4d_row44_col0\" class=\"data row44 col0\" >Peninsula Jewish Community Center</td>\n",
       "    </tr>\n",
       "    <tr>\n",
       "      <td id=\"T_3ea4d_row45_col0\" class=\"data row45 col0\" >Peppermint Ridge</td>\n",
       "    </tr>\n",
       "    <tr>\n",
       "      <td id=\"T_3ea4d_row46_col0\" class=\"data row46 col0\" >Pride Industries One Inc</td>\n",
       "    </tr>\n",
       "    <tr>\n",
       "      <td id=\"T_3ea4d_row47_col0\" class=\"data row47 col0\" >Reach Out Morongo Basin</td>\n",
       "    </tr>\n",
       "    <tr>\n",
       "      <td id=\"T_3ea4d_row48_col0\" class=\"data row48 col0\" >SAHA</td>\n",
       "    </tr>\n",
       "    <tr>\n",
       "      <td id=\"T_3ea4d_row49_col0\" class=\"data row49 col0\" >San Benito County Local Transportation Authority</td>\n",
       "    </tr>\n",
       "    <tr>\n",
       "      <td id=\"T_3ea4d_row50_col0\" class=\"data row50 col0\" >San Joaquin Regional Transit District</td>\n",
       "    </tr>\n",
       "    <tr>\n",
       "      <td id=\"T_3ea4d_row51_col0\" class=\"data row51 col0\" >Seniors Council of Santa Cruz and San Benito Counties</td>\n",
       "    </tr>\n",
       "    <tr>\n",
       "      <td id=\"T_3ea4d_row52_col0\" class=\"data row52 col0\" >Shores of Hope </td>\n",
       "    </tr>\n",
       "    <tr>\n",
       "      <td id=\"T_3ea4d_row53_col0\" class=\"data row53 col0\" >Sunline Transit Agency</td>\n",
       "    </tr>\n",
       "    <tr>\n",
       "      <td id=\"T_3ea4d_row54_col0\" class=\"data row54 col0\" >Tahoe Transportation District</td>\n",
       "    </tr>\n",
       "    <tr>\n",
       "      <td id=\"T_3ea4d_row55_col0\" class=\"data row55 col0\" >Tehama County Transit Agency</td>\n",
       "    </tr>\n",
       "    <tr>\n",
       "      <td id=\"T_3ea4d_row56_col0\" class=\"data row56 col0\" >The Arc of Amador and Calaveras</td>\n",
       "    </tr>\n",
       "    <tr>\n",
       "      <td id=\"T_3ea4d_row57_col0\" class=\"data row57 col0\" >Town of Truckee</td>\n",
       "    </tr>\n",
       "    <tr>\n",
       "      <td id=\"T_3ea4d_row58_col0\" class=\"data row58 col0\" >Tuolumne County Transit Agency (TCTA)</td>\n",
       "    </tr>\n",
       "    <tr>\n",
       "      <td id=\"T_3ea4d_row59_col0\" class=\"data row59 col0\" >United Cerebral Palsy Association of Greater Sacramento Inc</td>\n",
       "    </tr>\n",
       "    <tr>\n",
       "      <td id=\"T_3ea4d_row60_col0\" class=\"data row60 col0\" >Valley Resource Center</td>\n",
       "    </tr>\n",
       "    <tr>\n",
       "      <td id=\"T_3ea4d_row61_col0\" class=\"data row61 col0\" >Victor Valley Community Services Council</td>\n",
       "    </tr>\n",
       "    <tr>\n",
       "      <td id=\"T_3ea4d_row62_col0\" class=\"data row62 col0\" >Vivalon Inc</td>\n",
       "    </tr>\n",
       "    <tr>\n",
       "      <td id=\"T_3ea4d_row63_col0\" class=\"data row63 col0\" >West Valley Community Services</td>\n",
       "    </tr>\n",
       "    <tr>\n",
       "      <td id=\"T_3ea4d_row64_col0\" class=\"data row64 col0\" >Wilshire Community Services</td>\n",
       "    </tr>\n",
       "  </tbody>\n",
       "</table style=\"display:inline\">\n"
      ]
     },
     "metadata": {},
     "output_type": "display_data"
    }
   ],
   "source": [
    "display_side_by_side(table11, table22)"
   ]
  },
  {
   "cell_type": "code",
   "execution_count": 24,
   "id": "778d30ec-cdae-4041-9367-a4d093a09c76",
   "metadata": {
    "execution": {
     "iopub.execute_input": "2022-05-26T05:23:17.064810Z",
     "iopub.status.busy": "2022-05-26T05:23:17.063693Z",
     "iopub.status.idle": "2022-05-26T05:23:17.069415Z",
     "shell.execute_reply": "2022-05-26T05:23:17.068851Z"
    },
    "papermill": {
     "duration": 0.045712,
     "end_time": "2022-05-26T05:23:17.071138",
     "exception": false,
     "start_time": "2022-05-26T05:23:17.025426",
     "status": "completed"
    },
    "tags": []
   },
   "outputs": [
    {
     "data": {
      "text/html": [
       "<style type=\"text/css\">\n",
       "#T_b32b0 th {\n",
       "  text-align: center;\n",
       "}\n",
       "#T_b32b0_row0_col0, #T_b32b0_row1_col0, #T_b32b0_row2_col0, #T_b32b0_row3_col0, #T_b32b0_row4_col0, #T_b32b0_row5_col0, #T_b32b0_row6_col0, #T_b32b0_row7_col0, #T_b32b0_row8_col0, #T_b32b0_row9_col0, #T_b32b0_row10_col0, #T_b32b0_row11_col0, #T_b32b0_row12_col0, #T_b32b0_row13_col0, #T_b32b0_row14_col0, #T_b32b0_row15_col0, #T_b32b0_row16_col0, #T_b32b0_row17_col0, #T_b32b0_row18_col0, #T_b32b0_row19_col0, #T_b32b0_row20_col0, #T_b32b0_row21_col0, #T_b32b0_row22_col0, #T_b32b0_row23_col0, #T_b32b0_row24_col0, #T_b32b0_row25_col0, #T_b32b0_row26_col0, #T_b32b0_row27_col0, #T_b32b0_row28_col0, #T_b32b0_row29_col0, #T_b32b0_row30_col0, #T_b32b0_row31_col0, #T_b32b0_row32_col0, #T_b32b0_row33_col0, #T_b32b0_row34_col0 {\n",
       "  text-align: center;\n",
       "}\n",
       "</style>\n",
       "<table style=\"display:inline\" id=\"T_b32b0\">\n",
       "  <thead>\n",
       "    <tr>\n",
       "      <th id=\"T_b32b0_level0_col0\" class=\"col_heading level0 col0\" >Organizations With Mobility Management Project Types</th>\n",
       "    </tr>\n",
       "  </thead>\n",
       "  <tbody>\n",
       "    <tr>\n",
       "      <td id=\"T_b32b0_row0_col0\" class=\"data row0 col0\" >Amador Transit</td>\n",
       "    </tr>\n",
       "    <tr>\n",
       "      <td id=\"T_b32b0_row1_col0\" class=\"data row1 col0\" >Catholic Charities of the Diocese of Stockton</td>\n",
       "    </tr>\n",
       "    <tr>\n",
       "      <td id=\"T_b32b0_row2_col0\" class=\"data row2 col0\" >City of Roseville</td>\n",
       "    </tr>\n",
       "    <tr>\n",
       "      <td id=\"T_b32b0_row3_col0\" class=\"data row3 col0\" >City of Visalia</td>\n",
       "    </tr>\n",
       "    <tr>\n",
       "      <td id=\"T_b32b0_row4_col0\" class=\"data row4 col0\" >Common Ground Senior Services</td>\n",
       "    </tr>\n",
       "    <tr>\n",
       "      <td id=\"T_b32b0_row5_col0\" class=\"data row5 col0\" >Contra Costa Transportation Authority (CCTA)</td>\n",
       "    </tr>\n",
       "    <tr>\n",
       "      <td id=\"T_b32b0_row6_col0\" class=\"data row6 col0\" >County of Sonoma Human Services Department Adult and Aging Division</td>\n",
       "    </tr>\n",
       "    <tr>\n",
       "      <td id=\"T_b32b0_row7_col0\" class=\"data row7 col0\" >Eden I&R INC</td>\n",
       "    </tr>\n",
       "    <tr>\n",
       "      <td id=\"T_b32b0_row8_col0\" class=\"data row8 col0\" >Friends of Children with Special Needs</td>\n",
       "    </tr>\n",
       "    <tr>\n",
       "      <td id=\"T_b32b0_row9_col0\" class=\"data row9 col0\" >Full Access & Coordinated Transportation Inc</td>\n",
       "    </tr>\n",
       "    <tr>\n",
       "      <td id=\"T_b32b0_row10_col0\" class=\"data row10 col0\" >Help Central Inc</td>\n",
       "    </tr>\n",
       "    <tr>\n",
       "      <td id=\"T_b32b0_row11_col0\" class=\"data row11 col0\" >Imperial County Transportation Commission</td>\n",
       "    </tr>\n",
       "    <tr>\n",
       "      <td id=\"T_b32b0_row12_col0\" class=\"data row12 col0\" >Inland Empire United Way</td>\n",
       "    </tr>\n",
       "    <tr>\n",
       "      <td id=\"T_b32b0_row13_col0\" class=\"data row13 col0\" >Lake Links Inc</td>\n",
       "    </tr>\n",
       "    <tr>\n",
       "      <td id=\"T_b32b0_row14_col0\" class=\"data row14 col0\" >Lake Transit Authority</td>\n",
       "    </tr>\n",
       "    <tr>\n",
       "      <td id=\"T_b32b0_row15_col0\" class=\"data row15 col0\" >Lighthouse for the Blind and Visually Impaired</td>\n",
       "    </tr>\n",
       "    <tr>\n",
       "      <td id=\"T_b32b0_row16_col0\" class=\"data row16 col0\" >Livermore Amador Valley Transit Authority</td>\n",
       "    </tr>\n",
       "    <tr>\n",
       "      <td id=\"T_b32b0_row17_col0\" class=\"data row17 col0\" >Marin County Transit District</td>\n",
       "    </tr>\n",
       "    <tr>\n",
       "      <td id=\"T_b32b0_row18_col0\" class=\"data row18 col0\" >Mendocino Transit Authority</td>\n",
       "    </tr>\n",
       "    <tr>\n",
       "      <td id=\"T_b32b0_row19_col0\" class=\"data row19 col0\" >Mental Health Client Action Network (MHCAN) </td>\n",
       "    </tr>\n",
       "    <tr>\n",
       "      <td id=\"T_b32b0_row20_col0\" class=\"data row20 col0\" >Metropolitan Transportation Commission</td>\n",
       "    </tr>\n",
       "    <tr>\n",
       "      <td id=\"T_b32b0_row21_col0\" class=\"data row21 col0\" >Mobility Matters</td>\n",
       "    </tr>\n",
       "    <tr>\n",
       "      <td id=\"T_b32b0_row22_col0\" class=\"data row22 col0\" >Nevada-Sierra Connecting Point Public Authority</td>\n",
       "    </tr>\n",
       "    <tr>\n",
       "      <td id=\"T_b32b0_row23_col0\" class=\"data row23 col0\" >Omnitrans</td>\n",
       "    </tr>\n",
       "    <tr>\n",
       "      <td id=\"T_b32b0_row24_col0\" class=\"data row24 col0\" >Outreach & Escort Inc </td>\n",
       "    </tr>\n",
       "    <tr>\n",
       "      <td id=\"T_b32b0_row25_col0\" class=\"data row25 col0\" >Riverside Transit Agency</td>\n",
       "    </tr>\n",
       "    <tr>\n",
       "      <td id=\"T_b32b0_row26_col0\" class=\"data row26 col0\" >San Francisco Municipal Transportation Agency</td>\n",
       "    </tr>\n",
       "    <tr>\n",
       "      <td id=\"T_b32b0_row27_col0\" class=\"data row27 col0\" >San Luis Obispo Council of Governments</td>\n",
       "    </tr>\n",
       "    <tr>\n",
       "      <td id=\"T_b32b0_row28_col0\" class=\"data row28 col0\" >Santa Clara Valley Transportation Authority</td>\n",
       "    </tr>\n",
       "    <tr>\n",
       "      <td id=\"T_b32b0_row29_col0\" class=\"data row29 col0\" >Solano Tranportation Authority </td>\n",
       "    </tr>\n",
       "    <tr>\n",
       "      <td id=\"T_b32b0_row30_col0\" class=\"data row30 col0\" >The Center for Independent Living</td>\n",
       "    </tr>\n",
       "    <tr>\n",
       "      <td id=\"T_b32b0_row31_col0\" class=\"data row31 col0\" >Tuolumne County Transit Agency (TCTA)</td>\n",
       "    </tr>\n",
       "    <tr>\n",
       "      <td id=\"T_b32b0_row32_col0\" class=\"data row32 col0\" >Victor Valley Community Services Council</td>\n",
       "    </tr>\n",
       "    <tr>\n",
       "      <td id=\"T_b32b0_row33_col0\" class=\"data row33 col0\" >Victor Valley Transit Authority</td>\n",
       "    </tr>\n",
       "    <tr>\n",
       "      <td id=\"T_b32b0_row34_col0\" class=\"data row34 col0\" >Yolo County Transportation District</td>\n",
       "    </tr>\n",
       "  </tbody>\n",
       "</table style=\"display:inline\">\n",
       "<style type=\"text/css\">\n",
       "#T_10df8 th {\n",
       "  text-align: center;\n",
       "}\n",
       "#T_10df8_row0_col0, #T_10df8_row1_col0, #T_10df8_row2_col0, #T_10df8_row3_col0, #T_10df8_row4_col0, #T_10df8_row5_col0, #T_10df8_row6_col0, #T_10df8_row7_col0, #T_10df8_row8_col0, #T_10df8_row9_col0, #T_10df8_row10_col0 {\n",
       "  text-align: center;\n",
       "}\n",
       "</style>\n",
       "<table style=\"display:inline\" id=\"T_10df8\">\n",
       "  <thead>\n",
       "    <tr>\n",
       "      <th id=\"T_10df8_level0_col0\" class=\"col_heading level0 col0\" >Organizations With Hardware/Software Purchase Project Types</th>\n",
       "    </tr>\n",
       "  </thead>\n",
       "  <tbody>\n",
       "    <tr>\n",
       "      <td id=\"T_10df8_row0_col0\" class=\"data row0 col0\" >Asian Community Center of Sacramento Valley Inc DBA ACC Senior Services</td>\n",
       "    </tr>\n",
       "    <tr>\n",
       "      <td id=\"T_10df8_row1_col0\" class=\"data row1 col0\" >Catholic Charities of the Diocese of Stockton</td>\n",
       "    </tr>\n",
       "    <tr>\n",
       "      <td id=\"T_10df8_row2_col0\" class=\"data row2 col0\" >Community Bridges Liftline</td>\n",
       "    </tr>\n",
       "    <tr>\n",
       "      <td id=\"T_10df8_row3_col0\" class=\"data row3 col0\" >County of Sonoma Human Services Department Adult and Aging Division</td>\n",
       "    </tr>\n",
       "    <tr>\n",
       "      <td id=\"T_10df8_row4_col0\" class=\"data row4 col0\" >Foothill AIDS Project</td>\n",
       "    </tr>\n",
       "    <tr>\n",
       "      <td id=\"T_10df8_row5_col0\" class=\"data row5 col0\" >Milestones of Development INC</td>\n",
       "    </tr>\n",
       "    <tr>\n",
       "      <td id=\"T_10df8_row6_col0\" class=\"data row6 col0\" >Porterville Sheltered Workshop</td>\n",
       "    </tr>\n",
       "    <tr>\n",
       "      <td id=\"T_10df8_row7_col0\" class=\"data row7 col0\" >San Joaquin Regional Transit District</td>\n",
       "    </tr>\n",
       "    <tr>\n",
       "      <td id=\"T_10df8_row8_col0\" class=\"data row8 col0\" >Sunline Transit Agency</td>\n",
       "    </tr>\n",
       "    <tr>\n",
       "      <td id=\"T_10df8_row9_col0\" class=\"data row9 col0\" >United Cerebral Palsy Association of Greater Sacramento Inc</td>\n",
       "    </tr>\n",
       "    <tr>\n",
       "      <td id=\"T_10df8_row10_col0\" class=\"data row10 col0\" >Yolo County Transportation District</td>\n",
       "    </tr>\n",
       "  </tbody>\n",
       "</table style=\"display:inline\">\n"
      ]
     },
     "metadata": {},
     "output_type": "display_data"
    }
   ],
   "source": [
    "display_side_by_side(table33, table44)"
   ]
  },
  {
   "cell_type": "code",
   "execution_count": 25,
   "id": "90635aee-1ddb-4e83-82c4-f25b89c25103",
   "metadata": {
    "execution": {
     "iopub.execute_input": "2022-05-26T05:23:17.157717Z",
     "iopub.status.busy": "2022-05-26T05:23:17.157393Z",
     "iopub.status.idle": "2022-05-26T05:23:17.162347Z",
     "shell.execute_reply": "2022-05-26T05:23:17.161657Z"
    },
    "papermill": {
     "duration": 0.045224,
     "end_time": "2022-05-26T05:23:17.164137",
     "exception": false,
     "start_time": "2022-05-26T05:23:17.118913",
     "status": "completed"
    },
    "tags": []
   },
   "outputs": [
    {
     "data": {
      "text/html": [
       "<style type=\"text/css\">\n",
       "#T_d1f0c th {\n",
       "  text-align: center;\n",
       "}\n",
       "#T_d1f0c_row0_col0, #T_d1f0c_row1_col0, #T_d1f0c_row2_col0, #T_d1f0c_row3_col0, #T_d1f0c_row4_col0, #T_d1f0c_row5_col0, #T_d1f0c_row6_col0, #T_d1f0c_row7_col0, #T_d1f0c_row8_col0 {\n",
       "  text-align: center;\n",
       "}\n",
       "</style>\n",
       "<table style=\"display:inline\" id=\"T_d1f0c\">\n",
       "  <thead>\n",
       "    <tr>\n",
       "      <th id=\"T_d1f0c_level0_col0\" class=\"col_heading level0 col0\" >Organizations With Communications Project Types</th>\n",
       "    </tr>\n",
       "  </thead>\n",
       "  <tbody>\n",
       "    <tr>\n",
       "      <td id=\"T_d1f0c_row0_col0\" class=\"data row0 col0\" >Center for Elders' Independence </td>\n",
       "    </tr>\n",
       "    <tr>\n",
       "      <td id=\"T_d1f0c_row1_col0\" class=\"data row1 col0\" >Community Bridges Liftline</td>\n",
       "    </tr>\n",
       "    <tr>\n",
       "      <td id=\"T_d1f0c_row2_col0\" class=\"data row2 col0\" >Eastern Sierra Transit Authority</td>\n",
       "    </tr>\n",
       "    <tr>\n",
       "      <td id=\"T_d1f0c_row3_col0\" class=\"data row3 col0\" >Humboldt Senior Resource Center</td>\n",
       "    </tr>\n",
       "    <tr>\n",
       "      <td id=\"T_d1f0c_row4_col0\" class=\"data row4 col0\" >North of the River Recreation and Park District</td>\n",
       "    </tr>\n",
       "    <tr>\n",
       "      <td id=\"T_d1f0c_row5_col0\" class=\"data row5 col0\" >Porterville Sheltered Workshop</td>\n",
       "    </tr>\n",
       "    <tr>\n",
       "      <td id=\"T_d1f0c_row6_col0\" class=\"data row6 col0\" >Self-Help for the Elderly</td>\n",
       "    </tr>\n",
       "    <tr>\n",
       "      <td id=\"T_d1f0c_row7_col0\" class=\"data row7 col0\" >United Cerebral Palsy Association of Greater Sacramento Inc</td>\n",
       "    </tr>\n",
       "    <tr>\n",
       "      <td id=\"T_d1f0c_row8_col0\" class=\"data row8 col0\" >Work Training Center</td>\n",
       "    </tr>\n",
       "  </tbody>\n",
       "</table style=\"display:inline\">\n",
       "<style type=\"text/css\">\n",
       "#T_8e9ec th {\n",
       "  text-align: center;\n",
       "}\n",
       "#T_8e9ec_row0_col0, #T_8e9ec_row1_col0, #T_8e9ec_row2_col0, #T_8e9ec_row3_col0, #T_8e9ec_row4_col0 {\n",
       "  text-align: center;\n",
       "}\n",
       "</style>\n",
       "<table style=\"display:inline\" id=\"T_8e9ec\">\n",
       "  <thead>\n",
       "    <tr>\n",
       "      <th id=\"T_8e9ec_level0_col0\" class=\"col_heading level0 col0\" >Organizations With Facilities Equipment Project Types</th>\n",
       "    </tr>\n",
       "  </thead>\n",
       "  <tbody>\n",
       "    <tr>\n",
       "      <td id=\"T_8e9ec_row0_col0\" class=\"data row0 col0\" >Eastern Sierra Transit Authority</td>\n",
       "    </tr>\n",
       "    <tr>\n",
       "      <td id=\"T_8e9ec_row1_col0\" class=\"data row1 col0\" >Lighthouse for the Blind and Visually Impaired</td>\n",
       "    </tr>\n",
       "    <tr>\n",
       "      <td id=\"T_8e9ec_row2_col0\" class=\"data row2 col0\" >Milestones of Development INC</td>\n",
       "    </tr>\n",
       "    <tr>\n",
       "      <td id=\"T_8e9ec_row3_col0\" class=\"data row3 col0\" >North and South of Market Adult Day Health</td>\n",
       "    </tr>\n",
       "    <tr>\n",
       "      <td id=\"T_8e9ec_row4_col0\" class=\"data row4 col0\" >Porterville Sheltered Workshop</td>\n",
       "    </tr>\n",
       "  </tbody>\n",
       "</table style=\"display:inline\">\n"
      ]
     },
     "metadata": {},
     "output_type": "display_data"
    }
   ],
   "source": [
    "display_side_by_side(table55, table66)"
   ]
  },
  {
   "cell_type": "code",
   "execution_count": 26,
   "id": "1b4ee169-ac0f-44f0-a342-ca83e039e4d8",
   "metadata": {
    "execution": {
     "iopub.execute_input": "2022-05-26T05:23:17.247102Z",
     "iopub.status.busy": "2022-05-26T05:23:17.246463Z",
     "iopub.status.idle": "2022-05-26T05:23:17.252138Z",
     "shell.execute_reply": "2022-05-26T05:23:17.251331Z"
    },
    "papermill": {
     "duration": 0.049133,
     "end_time": "2022-05-26T05:23:17.254131",
     "exception": false,
     "start_time": "2022-05-26T05:23:17.204998",
     "status": "completed"
    },
    "tags": []
   },
   "outputs": [
    {
     "data": {
      "text/html": [
       "<style type=\"text/css\">\n",
       "#T_2d93d th {\n",
       "  text-align: center;\n",
       "}\n",
       "#T_2d93d_row0_col0, #T_2d93d_row1_col0, #T_2d93d_row2_col0, #T_2d93d_row3_col0 {\n",
       "  text-align: center;\n",
       "}\n",
       "</style>\n",
       "<table style=\"display:inline\" id=\"T_2d93d\">\n",
       "  <thead>\n",
       "    <tr>\n",
       "      <th id=\"T_2d93d_level0_col0\" class=\"col_heading level0 col0\" >Organizations With Surveillance Project Types</th>\n",
       "    </tr>\n",
       "  </thead>\n",
       "  <tbody>\n",
       "    <tr>\n",
       "      <td id=\"T_2d93d_row0_col0\" class=\"data row0 col0\" >Community Bridges Liftline</td>\n",
       "    </tr>\n",
       "    <tr>\n",
       "      <td id=\"T_2d93d_row1_col0\" class=\"data row1 col0\" >Institute on Aging </td>\n",
       "    </tr>\n",
       "    <tr>\n",
       "      <td id=\"T_2d93d_row2_col0\" class=\"data row2 col0\" >Porterville Sheltered Workshop</td>\n",
       "    </tr>\n",
       "    <tr>\n",
       "      <td id=\"T_2d93d_row3_col0\" class=\"data row3 col0\" >United Cerebral Palsy Association of Greater Sacramento Inc</td>\n",
       "    </tr>\n",
       "  </tbody>\n",
       "</table style=\"display:inline\">\n",
       "<style type=\"text/css\">\n",
       "#T_f7d87 th {\n",
       "  text-align: center;\n",
       "}\n",
       "#T_f7d87_row0_col0 {\n",
       "  text-align: center;\n",
       "}\n",
       "</style>\n",
       "<table style=\"display:inline\" id=\"T_f7d87\">\n",
       "  <thead>\n",
       "    <tr>\n",
       "      <th id=\"T_f7d87_level0_col0\" class=\"col_heading level0 col0\" >Organizations With Subsidies Project Types</th>\n",
       "    </tr>\n",
       "  </thead>\n",
       "  <tbody>\n",
       "    <tr>\n",
       "      <td id=\"T_f7d87_row0_col0\" class=\"data row0 col0\" >San Mateo County Transit District</td>\n",
       "    </tr>\n",
       "  </tbody>\n",
       "</table style=\"display:inline\">\n"
      ]
     },
     "metadata": {},
     "output_type": "display_data"
    }
   ],
   "source": [
    "display_side_by_side(table77, table88)"
   ]
  },
  {
   "cell_type": "code",
   "execution_count": null,
   "id": "61468842-91ff-4cba-b39d-ec92286bb463",
   "metadata": {
    "papermill": {
     "duration": 0.036898,
     "end_time": "2022-05-26T05:23:17.330310",
     "exception": false,
     "start_time": "2022-05-26T05:23:17.293412",
     "status": "completed"
    },
    "tags": []
   },
   "outputs": [],
   "source": []
  },
  {
   "cell_type": "code",
   "execution_count": null,
   "id": "f53cb3ee-209d-4c0f-bcb4-2df55c0b1fb9",
   "metadata": {
    "papermill": {
     "duration": 0.050016,
     "end_time": "2022-05-26T05:23:17.418357",
     "exception": false,
     "start_time": "2022-05-26T05:23:17.368341",
     "status": "completed"
    },
    "tags": []
   },
   "outputs": [],
   "source": []
  },
  {
   "cell_type": "code",
   "execution_count": 27,
   "id": "08b43d89-dc42-45b2-bbb8-debc381153ef",
   "metadata": {
    "execution": {
     "iopub.execute_input": "2022-05-26T05:23:17.493667Z",
     "iopub.status.busy": "2022-05-26T05:23:17.493012Z",
     "iopub.status.idle": "2022-05-26T05:23:17.497277Z",
     "shell.execute_reply": "2022-05-26T05:23:17.496503Z"
    },
    "papermill": {
     "duration": 0.043992,
     "end_time": "2022-05-26T05:23:17.498953",
     "exception": false,
     "start_time": "2022-05-26T05:23:17.454961",
     "status": "completed"
    },
    "tags": []
   },
   "outputs": [],
   "source": [
    "# def display_side_by_side2(*args,titles=cycle([''])):\n",
    "#     html_str=''\n",
    "#     for df,title in zip(args, chain(titles,cycle)):\n",
    "#         html_str+=df\n",
    "#         html_str+=f'<h2>{title}</h2>'\n",
    "#         display_html(html_str.replace('table','table style=\"display:inline\"'),raw=True)"
   ]
  },
  {
   "cell_type": "code",
   "execution_count": 28,
   "id": "3884da89-54db-4751-94aa-87befefbb30f",
   "metadata": {
    "execution": {
     "iopub.execute_input": "2022-05-26T05:23:17.586500Z",
     "iopub.status.busy": "2022-05-26T05:23:17.585905Z",
     "iopub.status.idle": "2022-05-26T05:23:17.589875Z",
     "shell.execute_reply": "2022-05-26T05:23:17.589407Z"
    },
    "papermill": {
     "duration": 0.051675,
     "end_time": "2022-05-26T05:23:17.591494",
     "exception": false,
     "start_time": "2022-05-26T05:23:17.539819",
     "status": "completed"
    },
    "tags": []
   },
   "outputs": [],
   "source": [
    "#from itertools import chain,cycle\n",
    "\n",
    "# def display_side_by_side2(*args,titles=cycle([''])):\n",
    "#     html_str=''\n",
    "#     for df,title in zip(args, chain(titles,cycle(['</br>'])) ):\n",
    "#         html_str+='<th style=\"text-align:center\"><td style=\"vertical-align:top\">'\n",
    "#         html_str+=f'<h2>{title}</h2>'\n",
    "#         html_str+=df.to_html().replace('table','table style=\"display:inline\"')\n",
    "#         html_str+='</td></th>'\n",
    "#     display_html(html_str,raw=True)"
   ]
  },
  {
   "cell_type": "code",
   "execution_count": 29,
   "id": "8d5ee842-8692-41e3-93ff-58610a3f747f",
   "metadata": {
    "execution": {
     "iopub.execute_input": "2022-05-26T05:23:17.668835Z",
     "iopub.status.busy": "2022-05-26T05:23:17.667962Z",
     "iopub.status.idle": "2022-05-26T05:23:17.671923Z",
     "shell.execute_reply": "2022-05-26T05:23:17.671431Z"
    },
    "papermill": {
     "duration": 0.044724,
     "end_time": "2022-05-26T05:23:17.673645",
     "exception": false,
     "start_time": "2022-05-26T05:23:17.628921",
     "status": "completed"
    },
    "scrolled": true,
    "tags": []
   },
   "outputs": [],
   "source": [
    "# display_side_by_side(table1, table2\n",
    "#                   #   titles=[\"Foo\", \"Foo Bar\"]\n",
    "#                      )"
   ]
  },
  {
   "cell_type": "code",
   "execution_count": 30,
   "id": "262dc0e0-d8d8-45fe-b4d8-1058fbdc1676",
   "metadata": {
    "execution": {
     "iopub.execute_input": "2022-05-26T05:23:17.751268Z",
     "iopub.status.busy": "2022-05-26T05:23:17.750757Z",
     "iopub.status.idle": "2022-05-26T05:23:17.754941Z",
     "shell.execute_reply": "2022-05-26T05:23:17.754237Z"
    },
    "papermill": {
     "duration": 0.043478,
     "end_time": "2022-05-26T05:23:17.756711",
     "exception": false,
     "start_time": "2022-05-26T05:23:17.713233",
     "status": "completed"
    },
    "tags": []
   },
   "outputs": [],
   "source": [
    "#display_side_by_side2(table1, table2, ['Vehicle Purchase','Operating Assistance']) "
   ]
  },
  {
   "cell_type": "code",
   "execution_count": null,
   "id": "99dcb690-663e-4e10-abc3-ac4919316fd7",
   "metadata": {
    "papermill": {
     "duration": 0.036003,
     "end_time": "2022-05-26T05:23:17.832617",
     "exception": false,
     "start_time": "2022-05-26T05:23:17.796614",
     "status": "completed"
    },
    "tags": []
   },
   "outputs": [],
   "source": []
  },
  {
   "cell_type": "code",
   "execution_count": null,
   "id": "3eabe85c-63e6-4c7d-b58e-c848efea0e1d",
   "metadata": {
    "papermill": {
     "duration": 0.04125,
     "end_time": "2022-05-26T05:23:17.910064",
     "exception": false,
     "start_time": "2022-05-26T05:23:17.868814",
     "status": "completed"
    },
    "tags": []
   },
   "outputs": [],
   "source": []
  },
  {
   "cell_type": "markdown",
   "id": "03d79697-7caa-4efa-a577-f49eed402970",
   "metadata": {
    "papermill": {
     "duration": 0.064054,
     "end_time": "2022-05-26T05:23:18.039275",
     "exception": false,
     "start_time": "2022-05-26T05:23:17.975221",
     "status": "completed"
    },
    "tags": []
   },
   "source": [
    "### Purchasing Wheelchair Accessible Vehicles"
   ]
  },
  {
   "cell_type": "code",
   "execution_count": 31,
   "id": "940488b1-5bfb-4945-a7d7-2e9f7b0c9a1d",
   "metadata": {
    "execution": {
     "iopub.execute_input": "2022-05-26T05:23:18.168862Z",
     "iopub.status.busy": "2022-05-26T05:23:18.168492Z",
     "iopub.status.idle": "2022-05-26T05:23:18.201992Z",
     "shell.execute_reply": "2022-05-26T05:23:18.201026Z"
    },
    "papermill": {
     "duration": 0.103156,
     "end_time": "2022-05-26T05:23:18.205555",
     "exception": false,
     "start_time": "2022-05-26T05:23:18.102399",
     "status": "completed"
    },
    "tags": []
   },
   "outputs": [
    {
     "data": {
      "text/html": [
       "Of the 92 agencies using 5310 funds for vehicle purchases, 75 are for Bus Purchases, and 38 are for Van Purchases<br> There are 0 specific mentions of wheelchair accessible vehicles, ramps or other accessiblity features."
      ],
      "text/plain": [
       "<IPython.core.display.HTML object>"
      ]
     },
     "metadata": {},
     "output_type": "display_data"
    }
   ],
   "source": [
    "display(\n",
    "    HTML(f\"Of the {len(df>>filter(_.vehicle_purchase==1)>>count(_.organization_name))} agencies using 5310 funds \"\n",
    "      f\"for vehicle purchases, \"\n",
    "      f\"{len(df>>filter(_.vehicle_purchase==1)>>filter(_.description.str.contains('Bus'))>>count(_.organization_name))} \"\n",
    "      f\"are for Bus Purchases, \"\n",
    "      f\"and {len(df>>filter(_.vehicle_purchase==1)>>filter(_.description.str.contains('Van'))>>count(_.organization_name))} \"\n",
    "      f\"are for Van Purchases\"\n",
    "         f\"<br> There are {len(df>>filter(_.description.str.contains('wheelchair')))} specific mentions of wheelchair \"\n",
    "         f\"accessible vehicles, ramps or other accessiblity features.\"\n",
    "        ))"
   ]
  },
  {
   "cell_type": "markdown",
   "id": "3c191763-dc98-4602-8f1b-a9300fde1abe",
   "metadata": {
    "papermill": {
     "duration": 0.063554,
     "end_time": "2022-05-26T05:23:18.337948",
     "exception": false,
     "start_time": "2022-05-26T05:23:18.274394",
     "status": "completed"
    },
    "tags": []
   },
   "source": [
    "**Organizations using funds for Vehicle Purchase**"
   ]
  },
  {
   "cell_type": "code",
   "execution_count": 32,
   "id": "78a986a8-e3ae-4fda-9aee-926b6d8c178e",
   "metadata": {
    "execution": {
     "iopub.execute_input": "2022-05-26T05:23:18.422803Z",
     "iopub.status.busy": "2022-05-26T05:23:18.422104Z",
     "iopub.status.idle": "2022-05-26T05:23:18.438797Z",
     "shell.execute_reply": "2022-05-26T05:23:18.438114Z"
    },
    "papermill": {
     "duration": 0.062499,
     "end_time": "2022-05-26T05:23:18.440703",
     "exception": false,
     "start_time": "2022-05-26T05:23:18.378204",
     "status": "completed"
    },
    "tags": []
   },
   "outputs": [
    {
     "data": {
      "text/html": [
       "<style type=\"text/css\">\n",
       "#T_61d41 th {\n",
       "  text-align: center;\n",
       "}\n",
       "#T_61d41_row0_col0, #T_61d41_row1_col0, #T_61d41_row2_col0, #T_61d41_row3_col0, #T_61d41_row4_col0, #T_61d41_row5_col0, #T_61d41_row6_col0, #T_61d41_row7_col0, #T_61d41_row8_col0, #T_61d41_row9_col0 {\n",
       "  text-align: center;\n",
       "}\n",
       "#T_61d41_row0_col1, #T_61d41_row1_col1, #T_61d41_row2_col1, #T_61d41_row3_col1, #T_61d41_row4_col1, #T_61d41_row5_col1, #T_61d41_row6_col1, #T_61d41_row7_col1, #T_61d41_row8_col1, #T_61d41_row9_col1 {\n",
       "  text-align: right;\n",
       "}\n",
       "</style>\n",
       "<table id=\"T_61d41\">\n",
       "  <thead>\n",
       "    <tr>\n",
       "      <th id=\"T_61d41_level0_col0\" class=\"col_heading level0 col0\" >Organization Name</th>\n",
       "      <th id=\"T_61d41_level0_col1\" class=\"col_heading level0 col1\" >Count</th>\n",
       "    </tr>\n",
       "  </thead>\n",
       "  <tbody>\n",
       "    <tr>\n",
       "      <td id=\"T_61d41_row0_col0\" class=\"data row0 col0\" >On Lok Senior Health Services</td>\n",
       "      <td id=\"T_61d41_row0_col1\" class=\"data row0 col1\" >50</td>\n",
       "    </tr>\n",
       "    <tr>\n",
       "      <td id=\"T_61d41_row1_col0\" class=\"data row1 col0\" >Pride Industries One Inc</td>\n",
       "      <td id=\"T_61d41_row1_col1\" class=\"data row1 col1\" >49</td>\n",
       "    </tr>\n",
       "    <tr>\n",
       "      <td id=\"T_61d41_row2_col0\" class=\"data row2 col0\" >United Cerebral Palsy of San Luis Obispo County </td>\n",
       "      <td id=\"T_61d41_row2_col1\" class=\"data row2 col1\" >46</td>\n",
       "    </tr>\n",
       "    <tr>\n",
       "      <td id=\"T_61d41_row3_col0\" class=\"data row3 col0\" >United Cerebral Palsy Association of Greater Sacramento Inc</td>\n",
       "      <td id=\"T_61d41_row3_col1\" class=\"data row3 col1\" >42</td>\n",
       "    </tr>\n",
       "    <tr>\n",
       "      <td id=\"T_61d41_row4_col0\" class=\"data row4 col0\" >Kings Rehabilitation Center</td>\n",
       "      <td id=\"T_61d41_row4_col1\" class=\"data row4 col1\" >30</td>\n",
       "    </tr>\n",
       "    <tr>\n",
       "      <td id=\"T_61d41_row5_col0\" class=\"data row5 col0\" >Monterey-Salinas Transit</td>\n",
       "      <td id=\"T_61d41_row5_col1\" class=\"data row5 col1\" >26</td>\n",
       "    </tr>\n",
       "    <tr>\n",
       "      <td id=\"T_61d41_row6_col0\" class=\"data row6 col0\" >North of the River Recreation and Park District</td>\n",
       "      <td id=\"T_61d41_row6_col1\" class=\"data row6 col1\" >25</td>\n",
       "    </tr>\n",
       "    <tr>\n",
       "      <td id=\"T_61d41_row7_col0\" class=\"data row7 col0\" >ARC Bakersfield</td>\n",
       "      <td id=\"T_61d41_row7_col1\" class=\"data row7 col1\" >20</td>\n",
       "    </tr>\n",
       "    <tr>\n",
       "      <td id=\"T_61d41_row8_col0\" class=\"data row8 col0\" >Vivalon Inc</td>\n",
       "      <td id=\"T_61d41_row8_col1\" class=\"data row8 col1\" >20</td>\n",
       "    </tr>\n",
       "    <tr>\n",
       "      <td id=\"T_61d41_row9_col0\" class=\"data row9 col0\" >Butte County Association of Governments  Butte Regional Transit</td>\n",
       "      <td id=\"T_61d41_row9_col1\" class=\"data row9 col1\" >19</td>\n",
       "    </tr>\n",
       "  </tbody>\n",
       "</table>\n"
      ],
      "text/plain": [
       "<IPython.core.display.HTML object>"
      ]
     },
     "metadata": {},
     "output_type": "display_data"
    }
   ],
   "source": [
    "vehicle_purchase= (df>>filter(_.vehicle_purchase==1)>>count(_.organization_name)>>arrange(-_.n)).head(10)\n",
    "\n",
    "display(HTML(_dla_utils.pretify_tables2(vehicle_purchase, \"\", \"Count\")))\n"
   ]
  },
  {
   "cell_type": "code",
   "execution_count": null,
   "id": "02e430db-e6bb-4d57-b0b1-a40e3b9e921f",
   "metadata": {
    "papermill": {
     "duration": 0.044308,
     "end_time": "2022-05-26T05:23:18.524794",
     "exception": false,
     "start_time": "2022-05-26T05:23:18.480486",
     "status": "completed"
    },
    "tags": []
   },
   "outputs": [],
   "source": []
  },
  {
   "cell_type": "markdown",
   "id": "70b62e5d-ac67-49c7-ba91-2c5d8a71d612",
   "metadata": {
    "papermill": {
     "duration": 0.038327,
     "end_time": "2022-05-26T05:23:18.600553",
     "exception": false,
     "start_time": "2022-05-26T05:23:18.562226",
     "status": "completed"
    },
    "tags": []
   },
   "source": [
    "### On-demand Scheduling"
   ]
  },
  {
   "cell_type": "markdown",
   "id": "89503665-91ae-412b-824d-1d13064ec816",
   "metadata": {
    "papermill": {
     "duration": 0.037966,
     "end_time": "2022-05-26T05:23:18.676708",
     "exception": false,
     "start_time": "2022-05-26T05:23:18.638742",
     "status": "completed"
    },
    "tags": []
   },
   "source": [
    "**Organizations with Operating Assistance Project types**"
   ]
  },
  {
   "cell_type": "code",
   "execution_count": 33,
   "id": "ac6d9571-f3bc-42bb-90ea-ca63becbec5c",
   "metadata": {
    "execution": {
     "iopub.execute_input": "2022-05-26T05:23:18.757880Z",
     "iopub.status.busy": "2022-05-26T05:23:18.757062Z",
     "iopub.status.idle": "2022-05-26T05:23:18.771074Z",
     "shell.execute_reply": "2022-05-26T05:23:18.770554Z"
    },
    "papermill": {
     "duration": 0.056758,
     "end_time": "2022-05-26T05:23:18.772994",
     "exception": false,
     "start_time": "2022-05-26T05:23:18.716236",
     "status": "completed"
    },
    "tags": []
   },
   "outputs": [
    {
     "data": {
      "text/html": [
       "There is 0 mention of Demand related project types"
      ],
      "text/plain": [
       "<IPython.core.display.HTML object>"
      ]
     },
     "metadata": {},
     "output_type": "display_data"
    },
    {
     "data": {
      "text/html": [
       "There are 65 mentions of Operating Assistance"
      ],
      "text/plain": [
       "<IPython.core.display.HTML object>"
      ]
     },
     "metadata": {},
     "output_type": "display_data"
    }
   ],
   "source": [
    "display(HTML(f\"There is {len(df>>filter(_.description.str.contains('demand')))} mention of Demand related project types\"))\n",
    "display(HTML(f\"There are {len((df>>filter(_.operating_assistance==1)>>count(_.organization_name)>>arrange(-_.n)))} \"\n",
    "             f\"mentions of Operating Assistance\"))"
   ]
  },
  {
   "cell_type": "code",
   "execution_count": 34,
   "id": "ca4d3d59-dab5-410e-ac8b-3ab4c9df9fbd",
   "metadata": {
    "execution": {
     "iopub.execute_input": "2022-05-26T05:23:18.866028Z",
     "iopub.status.busy": "2022-05-26T05:23:18.865480Z",
     "iopub.status.idle": "2022-05-26T05:23:18.886062Z",
     "shell.execute_reply": "2022-05-26T05:23:18.883668Z"
    },
    "papermill": {
     "duration": 0.068041,
     "end_time": "2022-05-26T05:23:18.887999",
     "exception": false,
     "start_time": "2022-05-26T05:23:18.819958",
     "status": "completed"
    },
    "tags": []
   },
   "outputs": [
    {
     "data": {
      "text/html": [
       "<style type=\"text/css\">\n",
       "#T_f2f03 th {\n",
       "  text-align: center;\n",
       "}\n",
       "#T_f2f03_row0_col0, #T_f2f03_row1_col0, #T_f2f03_row2_col0, #T_f2f03_row3_col0, #T_f2f03_row4_col0, #T_f2f03_row5_col0, #T_f2f03_row6_col0, #T_f2f03_row7_col0, #T_f2f03_row8_col0, #T_f2f03_row9_col0 {\n",
       "  text-align: center;\n",
       "}\n",
       "#T_f2f03_row0_col1, #T_f2f03_row1_col1, #T_f2f03_row2_col1, #T_f2f03_row3_col1, #T_f2f03_row4_col1, #T_f2f03_row5_col1, #T_f2f03_row6_col1, #T_f2f03_row7_col1, #T_f2f03_row8_col1, #T_f2f03_row9_col1 {\n",
       "  text-align: right;\n",
       "}\n",
       "</style>\n",
       "<table id=\"T_f2f03\">\n",
       "  <thead>\n",
       "    <tr>\n",
       "      <th id=\"T_f2f03_level0_col0\" class=\"col_heading level0 col0\" >Organization Name</th>\n",
       "      <th id=\"T_f2f03_level0_col1\" class=\"col_heading level0 col1\" >Count</th>\n",
       "    </tr>\n",
       "  </thead>\n",
       "  <tbody>\n",
       "    <tr>\n",
       "      <td id=\"T_f2f03_row0_col0\" class=\"data row0 col0\" >Independent Living Partnership</td>\n",
       "      <td id=\"T_f2f03_row0_col1\" class=\"data row0 col1\" >8</td>\n",
       "    </tr>\n",
       "    <tr>\n",
       "      <td id=\"T_f2f03_row1_col0\" class=\"data row1 col0\" >Asian Community Center of Sacramento Valley Inc DBA ACC Senior Services</td>\n",
       "      <td id=\"T_f2f03_row1_col1\" class=\"data row1 col1\" >6</td>\n",
       "    </tr>\n",
       "    <tr>\n",
       "      <td id=\"T_f2f03_row2_col0\" class=\"data row2 col0\" >ARC Imperial Valley</td>\n",
       "      <td id=\"T_f2f03_row2_col1\" class=\"data row2 col1\" >4</td>\n",
       "    </tr>\n",
       "    <tr>\n",
       "      <td id=\"T_f2f03_row3_col0\" class=\"data row3 col0\" >Choice in Aging</td>\n",
       "      <td id=\"T_f2f03_row3_col1\" class=\"data row3 col1\" >4</td>\n",
       "    </tr>\n",
       "    <tr>\n",
       "      <td id=\"T_f2f03_row4_col0\" class=\"data row4 col0\" >County of Sonoma Human Services Department Adult and Aging Division</td>\n",
       "      <td id=\"T_f2f03_row4_col1\" class=\"data row4 col1\" >4</td>\n",
       "    </tr>\n",
       "    <tr>\n",
       "      <td id=\"T_f2f03_row5_col0\" class=\"data row5 col0\" >Mobility Matters</td>\n",
       "      <td id=\"T_f2f03_row5_col1\" class=\"data row5 col1\" >4</td>\n",
       "    </tr>\n",
       "    <tr>\n",
       "      <td id=\"T_f2f03_row6_col0\" class=\"data row6 col0\" >Angel View Inc</td>\n",
       "      <td id=\"T_f2f03_row6_col1\" class=\"data row6 col1\" >3</td>\n",
       "    </tr>\n",
       "    <tr>\n",
       "      <td id=\"T_f2f03_row7_col0\" class=\"data row7 col0\" >Catholic Charities of the Diocese of Stockton</td>\n",
       "      <td id=\"T_f2f03_row7_col1\" class=\"data row7 col1\" >3</td>\n",
       "    </tr>\n",
       "    <tr>\n",
       "      <td id=\"T_f2f03_row8_col0\" class=\"data row8 col0\" >City of Lafayette: Lamorinda Sprit Van Program</td>\n",
       "      <td id=\"T_f2f03_row8_col1\" class=\"data row8 col1\" >3</td>\n",
       "    </tr>\n",
       "    <tr>\n",
       "      <td id=\"T_f2f03_row9_col0\" class=\"data row9 col0\" >County of Sacramento Department of Child Family and Adult Services</td>\n",
       "      <td id=\"T_f2f03_row9_col1\" class=\"data row9 col1\" >3</td>\n",
       "    </tr>\n",
       "  </tbody>\n",
       "</table>\n"
      ],
      "text/plain": [
       "<IPython.core.display.HTML object>"
      ]
     },
     "metadata": {},
     "output_type": "display_data"
    }
   ],
   "source": [
    "operating_assistance= (df>>filter(_.operating_assistance==1)>>count(_.organization_name)>>arrange(-_.n)).head(10)\n",
    "\n",
    "display(HTML(_dla_utils.pretify_tables2(operating_assistance, \"\", \"Count\")))"
   ]
  },
  {
   "cell_type": "code",
   "execution_count": null,
   "id": "a704cfee-a550-413a-8f3b-d3cd78429a5e",
   "metadata": {
    "papermill": {
     "duration": 0.041729,
     "end_time": "2022-05-26T05:23:18.971091",
     "exception": false,
     "start_time": "2022-05-26T05:23:18.929362",
     "status": "completed"
    },
    "tags": []
   },
   "outputs": [],
   "source": []
  },
  {
   "cell_type": "markdown",
   "id": "987def42-db7c-4754-aed3-aea562b0998f",
   "metadata": {
    "papermill": {
     "duration": 0.040105,
     "end_time": "2022-05-26T05:23:19.058202",
     "exception": false,
     "start_time": "2022-05-26T05:23:19.018097",
     "status": "completed"
    },
    "tags": []
   },
   "source": [
    "### Dispatching Software Platforms"
   ]
  },
  {
   "cell_type": "code",
   "execution_count": 35,
   "id": "85adc3bb-5f76-47cb-ae08-2fa062f24726",
   "metadata": {
    "execution": {
     "iopub.execute_input": "2022-05-26T05:23:19.144824Z",
     "iopub.status.busy": "2022-05-26T05:23:19.143808Z",
     "iopub.status.idle": "2022-05-26T05:23:19.160724Z",
     "shell.execute_reply": "2022-05-26T05:23:19.159826Z"
    },
    "papermill": {
     "duration": 0.062803,
     "end_time": "2022-05-26T05:23:19.162995",
     "exception": false,
     "start_time": "2022-05-26T05:23:19.100192",
     "status": "completed"
    },
    "tags": []
   },
   "outputs": [
    {
     "data": {
      "text/html": [
       "Out of the 11 with harware or software purchases, 4organization used 5310 funds for software purposes"
      ],
      "text/plain": [
       "<IPython.core.display.HTML object>"
      ]
     },
     "metadata": {},
     "output_type": "display_data"
    }
   ],
   "source": [
    "display(\n",
    "    HTML(f\"Out of the {len(df>>filter(_.hardware_software_purchase==1)>>count(_.organization_name))} \"\n",
    "         f\"with harware or software purchases, \"\n",
    "         f\"{len(df>>filter(_.hardware_software_purchase==1)>>filter(_.description.str.contains('Software'))>>count(_.organization_name))}\" \n",
    "             f\"organization used 5310 funds for software purposes\"))\n",
    "             "
   ]
  },
  {
   "cell_type": "code",
   "execution_count": 36,
   "id": "aa3dc45e-5e6a-45c9-94b9-930f08fdb34e",
   "metadata": {
    "execution": {
     "iopub.execute_input": "2022-05-26T05:23:19.251468Z",
     "iopub.status.busy": "2022-05-26T05:23:19.250770Z",
     "iopub.status.idle": "2022-05-26T05:23:19.273449Z",
     "shell.execute_reply": "2022-05-26T05:23:19.272516Z"
    },
    "papermill": {
     "duration": 0.067308,
     "end_time": "2022-05-26T05:23:19.275559",
     "exception": false,
     "start_time": "2022-05-26T05:23:19.208251",
     "status": "completed"
    },
    "tags": []
   },
   "outputs": [
    {
     "data": {
      "text/html": [
       "<style type=\"text/css\">\n",
       "#T_9f706 th {\n",
       "  text-align: center;\n",
       "}\n",
       "#T_9f706_row0_col0, #T_9f706_row1_col0, #T_9f706_row2_col0, #T_9f706_row3_col0 {\n",
       "  text-align: center;\n",
       "}\n",
       "#T_9f706_row0_col1, #T_9f706_row1_col1, #T_9f706_row2_col1, #T_9f706_row3_col1 {\n",
       "  text-align: right;\n",
       "}\n",
       "</style>\n",
       "<table id=\"T_9f706\">\n",
       "  <thead>\n",
       "    <tr>\n",
       "      <th id=\"T_9f706_level0_col0\" class=\"col_heading level0 col0\" >Organization Name</th>\n",
       "      <th id=\"T_9f706_level0_col1\" class=\"col_heading level0 col1\" >Count</th>\n",
       "    </tr>\n",
       "  </thead>\n",
       "  <tbody>\n",
       "    <tr>\n",
       "      <td id=\"T_9f706_row0_col0\" class=\"data row0 col0\" >Asian Community Center of Sacramento Valley Inc DBA ACC Senior Services</td>\n",
       "      <td id=\"T_9f706_row0_col1\" class=\"data row0 col1\" >2</td>\n",
       "    </tr>\n",
       "    <tr>\n",
       "      <td id=\"T_9f706_row1_col0\" class=\"data row1 col0\" >Catholic Charities of the Diocese of Stockton</td>\n",
       "      <td id=\"T_9f706_row1_col1\" class=\"data row1 col1\" >2</td>\n",
       "    </tr>\n",
       "    <tr>\n",
       "      <td id=\"T_9f706_row2_col0\" class=\"data row2 col0\" >County of Sonoma Human Services Department Adult and Aging Division</td>\n",
       "      <td id=\"T_9f706_row2_col1\" class=\"data row2 col1\" >1</td>\n",
       "    </tr>\n",
       "    <tr>\n",
       "      <td id=\"T_9f706_row3_col0\" class=\"data row3 col0\" >Yolo County Transportation District</td>\n",
       "      <td id=\"T_9f706_row3_col1\" class=\"data row3 col1\" >2</td>\n",
       "    </tr>\n",
       "  </tbody>\n",
       "</table>\n"
      ],
      "text/plain": [
       "<IPython.core.display.HTML object>"
      ]
     },
     "metadata": {},
     "output_type": "display_data"
    }
   ],
   "source": [
    "software = (\n",
    "    df\n",
    "    >> filter(_.hardware_software_purchase == 1)\n",
    "    >> filter(_.description.str.contains(\"Software\"))\n",
    "    >> count(_.organization_name)\n",
    ")\n",
    "display(HTML(_dla_utils.pretify_tables2(software, \"\", \"Count\")))"
   ]
  },
  {
   "cell_type": "markdown",
   "id": "f4b2bf0f-068f-4e64-a47f-c64c3f530aa9",
   "metadata": {
    "papermill": {
     "duration": 0.041031,
     "end_time": "2022-05-26T05:23:19.363496",
     "exception": false,
     "start_time": "2022-05-26T05:23:19.322465",
     "status": "completed"
    },
    "tags": []
   },
   "source": [
    "## Project Type Funding Analysis"
   ]
  },
  {
   "cell_type": "markdown",
   "id": "e1880a1f-b47f-4c59-a4fd-cf78d63b1ed0",
   "metadata": {
    "papermill": {
     "duration": 0.042931,
     "end_time": "2022-05-26T05:23:19.448012",
     "exception": false,
     "start_time": "2022-05-26T05:23:19.405081",
     "status": "completed"
    },
    "tags": []
   },
   "source": [
    "### By Organization & Year"
   ]
  },
  {
   "cell_type": "markdown",
   "id": "dca39728-b4d0-4ce2-a6a9-8cfd2e3accbb",
   "metadata": {
    "papermill": {
     "duration": 0.043576,
     "end_time": "2022-05-26T05:23:19.532515",
     "exception": false,
     "start_time": "2022-05-26T05:23:19.488939",
     "status": "completed"
    },
    "tags": []
   },
   "source": [
    "**Sum of Funds Allocated to Organizations by Year (Top 20)**"
   ]
  },
  {
   "cell_type": "code",
   "execution_count": null,
   "id": "feadfe96-7d55-4c11-ad66-53cc03ea7e67",
   "metadata": {
    "papermill": {
     "duration": 0.042977,
     "end_time": "2022-05-26T05:23:19.641293",
     "exception": false,
     "start_time": "2022-05-26T05:23:19.598316",
     "status": "completed"
    },
    "tags": []
   },
   "outputs": [],
   "source": []
  },
  {
   "cell_type": "code",
   "execution_count": 37,
   "id": "096cfb5a-dd90-4cfb-bf81-892b7112921f",
   "metadata": {
    "execution": {
     "iopub.execute_input": "2022-05-26T05:23:19.727026Z",
     "iopub.status.busy": "2022-05-26T05:23:19.725979Z",
     "iopub.status.idle": "2022-05-26T05:23:19.888236Z",
     "shell.execute_reply": "2022-05-26T05:23:19.887282Z"
    },
    "papermill": {
     "duration": 0.207843,
     "end_time": "2022-05-26T05:23:19.890445",
     "exception": false,
     "start_time": "2022-05-26T05:23:19.682602",
     "status": "completed"
    },
    "tags": []
   },
   "outputs": [
    {
     "data": {
      "text/html": [
       "<style type=\"text/css\">\n",
       "#T_f5ba4 th {\n",
       "  text-align: center;\n",
       "}\n",
       "#T_f5ba4_row0_col0, #T_f5ba4_row1_col0, #T_f5ba4_row2_col0, #T_f5ba4_row3_col0, #T_f5ba4_row4_col0, #T_f5ba4_row5_col0, #T_f5ba4_row6_col0, #T_f5ba4_row7_col0, #T_f5ba4_row8_col0, #T_f5ba4_row9_col0, #T_f5ba4_row10_col0, #T_f5ba4_row11_col0, #T_f5ba4_row12_col0, #T_f5ba4_row13_col0, #T_f5ba4_row14_col0, #T_f5ba4_row15_col0, #T_f5ba4_row16_col0, #T_f5ba4_row17_col0, #T_f5ba4_row18_col0, #T_f5ba4_row19_col0 {\n",
       "  text-align: center;\n",
       "}\n",
       "#T_f5ba4_row0_col2, #T_f5ba4_row1_col2, #T_f5ba4_row2_col2, #T_f5ba4_row3_col2, #T_f5ba4_row4_col2, #T_f5ba4_row5_col2, #T_f5ba4_row6_col2, #T_f5ba4_row7_col2, #T_f5ba4_row8_col2, #T_f5ba4_row9_col2, #T_f5ba4_row10_col2, #T_f5ba4_row11_col2, #T_f5ba4_row12_col2, #T_f5ba4_row13_col2, #T_f5ba4_row14_col2, #T_f5ba4_row15_col2, #T_f5ba4_row16_col2, #T_f5ba4_row17_col2, #T_f5ba4_row18_col2, #T_f5ba4_row19_col2 {\n",
       "  text-align: right;\n",
       "}\n",
       "</style>\n",
       "<table id=\"T_f5ba4\">\n",
       "  <thead>\n",
       "    <tr>\n",
       "      <th id=\"T_f5ba4_level0_col0\" class=\"col_heading level0 col0\" >Organization Name</th>\n",
       "      <th id=\"T_f5ba4_level0_col1\" class=\"col_heading level0 col1\" >Project Year</th>\n",
       "      <th id=\"T_f5ba4_level0_col2\" class=\"col_heading level0 col2\" >Sum Allocated</th>\n",
       "    </tr>\n",
       "  </thead>\n",
       "  <tbody>\n",
       "    <tr>\n",
       "      <td id=\"T_f5ba4_row0_col0\" class=\"data row0 col0\" >United Cerebral Palsy Association of Greater Sacramento Inc</td>\n",
       "      <td id=\"T_f5ba4_row0_col1\" class=\"data row0 col1\" >2017</td>\n",
       "      <td id=\"T_f5ba4_row0_col2\" class=\"data row0 col2\" >$1,782,550.00</td>\n",
       "    </tr>\n",
       "    <tr>\n",
       "      <td id=\"T_f5ba4_row1_col0\" class=\"data row1 col0\" >On Lok Senior Health Services</td>\n",
       "      <td id=\"T_f5ba4_row1_col1\" class=\"data row1 col1\" >2019</td>\n",
       "      <td id=\"T_f5ba4_row1_col2\" class=\"data row1 col2\" >$1,480,000.00</td>\n",
       "    </tr>\n",
       "    <tr>\n",
       "      <td id=\"T_f5ba4_row2_col0\" class=\"data row2 col0\" >Pride Industries One Inc</td>\n",
       "      <td id=\"T_f5ba4_row2_col1\" class=\"data row2 col1\" >2019</td>\n",
       "      <td id=\"T_f5ba4_row2_col2\" class=\"data row2 col2\" >$1,257,714.00</td>\n",
       "    </tr>\n",
       "    <tr>\n",
       "      <td id=\"T_f5ba4_row3_col0\" class=\"data row3 col0\" >Asian Community Center of Sacramento Valley Inc DBA ACC Senior Services</td>\n",
       "      <td id=\"T_f5ba4_row3_col1\" class=\"data row3 col1\" >2017</td>\n",
       "      <td id=\"T_f5ba4_row3_col2\" class=\"data row3 col2\" >$1,246,128.00</td>\n",
       "    </tr>\n",
       "    <tr>\n",
       "      <td id=\"T_f5ba4_row4_col0\" class=\"data row4 col0\" >Mobility Matters</td>\n",
       "      <td id=\"T_f5ba4_row4_col1\" class=\"data row4 col1\" >2017</td>\n",
       "      <td id=\"T_f5ba4_row4_col2\" class=\"data row4 col2\" >$1,160,438.00</td>\n",
       "    </tr>\n",
       "    <tr>\n",
       "      <td id=\"T_f5ba4_row5_col0\" class=\"data row5 col0\" >Friends of Children with Special Needs</td>\n",
       "      <td id=\"T_f5ba4_row5_col1\" class=\"data row5 col1\" >2019</td>\n",
       "      <td id=\"T_f5ba4_row5_col2\" class=\"data row5 col2\" >$1,152,937.00</td>\n",
       "    </tr>\n",
       "    <tr>\n",
       "      <td id=\"T_f5ba4_row6_col0\" class=\"data row6 col0\" >Pride Industries One Inc</td>\n",
       "      <td id=\"T_f5ba4_row6_col1\" class=\"data row6 col1\" >2017</td>\n",
       "      <td id=\"T_f5ba4_row6_col2\" class=\"data row6 col2\" >$1,135,727.52</td>\n",
       "    </tr>\n",
       "    <tr>\n",
       "      <td id=\"T_f5ba4_row7_col0\" class=\"data row7 col0\" >Independent Living Partnership</td>\n",
       "      <td id=\"T_f5ba4_row7_col1\" class=\"data row7 col1\" >2017</td>\n",
       "      <td id=\"T_f5ba4_row7_col2\" class=\"data row7 col2\" >$1,114,031.00</td>\n",
       "    </tr>\n",
       "    <tr>\n",
       "      <td id=\"T_f5ba4_row8_col0\" class=\"data row8 col0\" >ARC Bakersfield</td>\n",
       "      <td id=\"T_f5ba4_row8_col1\" class=\"data row8 col1\" >2017</td>\n",
       "      <td id=\"T_f5ba4_row8_col2\" class=\"data row8 col2\" >$1,008,340.28</td>\n",
       "    </tr>\n",
       "    <tr>\n",
       "      <td id=\"T_f5ba4_row9_col0\" class=\"data row9 col0\" >Marin County Transit District</td>\n",
       "      <td id=\"T_f5ba4_row9_col1\" class=\"data row9 col1\" >2017</td>\n",
       "      <td id=\"T_f5ba4_row9_col2\" class=\"data row9 col2\" >$1,000,000.00</td>\n",
       "    </tr>\n",
       "    <tr>\n",
       "      <td id=\"T_f5ba4_row10_col0\" class=\"data row10 col0\" >Outreach & Escort Inc </td>\n",
       "      <td id=\"T_f5ba4_row10_col1\" class=\"data row10 col1\" >2017</td>\n",
       "      <td id=\"T_f5ba4_row10_col2\" class=\"data row10 col2\" >$1,000,000.00</td>\n",
       "    </tr>\n",
       "    <tr>\n",
       "      <td id=\"T_f5ba4_row11_col0\" class=\"data row11 col0\" >Monterey-Salinas Transit</td>\n",
       "      <td id=\"T_f5ba4_row11_col1\" class=\"data row11 col1\" >2017</td>\n",
       "      <td id=\"T_f5ba4_row11_col2\" class=\"data row11 col2\" >$980,000.00</td>\n",
       "    </tr>\n",
       "    <tr>\n",
       "      <td id=\"T_f5ba4_row12_col0\" class=\"data row12 col0\" >United Cerebral Palsy Association of Greater Sacramento Inc</td>\n",
       "      <td id=\"T_f5ba4_row12_col1\" class=\"data row12 col1\" >2019</td>\n",
       "      <td id=\"T_f5ba4_row12_col2\" class=\"data row12 col2\" >$941,167.00</td>\n",
       "    </tr>\n",
       "    <tr>\n",
       "      <td id=\"T_f5ba4_row13_col0\" class=\"data row13 col0\" >Omnitrans</td>\n",
       "      <td id=\"T_f5ba4_row13_col1\" class=\"data row13 col1\" >2017</td>\n",
       "      <td id=\"T_f5ba4_row13_col2\" class=\"data row13 col2\" >$884,175.00</td>\n",
       "    </tr>\n",
       "    <tr>\n",
       "      <td id=\"T_f5ba4_row14_col0\" class=\"data row14 col0\" >Community Bridges Liftline</td>\n",
       "      <td id=\"T_f5ba4_row14_col1\" class=\"data row14 col1\" >2017</td>\n",
       "      <td id=\"T_f5ba4_row14_col2\" class=\"data row14 col2\" >$880,013.60</td>\n",
       "    </tr>\n",
       "    <tr>\n",
       "      <td id=\"T_f5ba4_row15_col0\" class=\"data row15 col0\" >North of the River Recreation and Park District</td>\n",
       "      <td id=\"T_f5ba4_row15_col1\" class=\"data row15 col1\" >2017</td>\n",
       "      <td id=\"T_f5ba4_row15_col2\" class=\"data row15 col2\" >$846,738.41</td>\n",
       "    </tr>\n",
       "    <tr>\n",
       "      <td id=\"T_f5ba4_row16_col0\" class=\"data row16 col0\" >Peppermint Ridge</td>\n",
       "      <td id=\"T_f5ba4_row16_col1\" class=\"data row16 col1\" >2017</td>\n",
       "      <td id=\"T_f5ba4_row16_col2\" class=\"data row16 col2\" >$825,000.00</td>\n",
       "    </tr>\n",
       "    <tr>\n",
       "      <td id=\"T_f5ba4_row17_col0\" class=\"data row17 col0\" >The Center for Independent Living</td>\n",
       "      <td id=\"T_f5ba4_row17_col1\" class=\"data row17 col1\" >2017</td>\n",
       "      <td id=\"T_f5ba4_row17_col2\" class=\"data row17 col2\" >$818,960.00</td>\n",
       "    </tr>\n",
       "    <tr>\n",
       "      <td id=\"T_f5ba4_row18_col0\" class=\"data row18 col0\" >Vivalon Inc</td>\n",
       "      <td id=\"T_f5ba4_row18_col1\" class=\"data row18 col1\" >2017</td>\n",
       "      <td id=\"T_f5ba4_row18_col2\" class=\"data row18 col2\" >$812,960.00</td>\n",
       "    </tr>\n",
       "    <tr>\n",
       "      <td id=\"T_f5ba4_row19_col0\" class=\"data row19 col0\" >LIFE ElderCare</td>\n",
       "      <td id=\"T_f5ba4_row19_col1\" class=\"data row19 col1\" >2017</td>\n",
       "      <td id=\"T_f5ba4_row19_col2\" class=\"data row19 col2\" >$802,658.00</td>\n",
       "    </tr>\n",
       "  </tbody>\n",
       "</table>\n"
      ],
      "text/plain": [
       "<IPython.core.display.HTML object>"
      ]
     },
     "metadata": {},
     "output_type": "display_data"
    }
   ],
   "source": [
    "top20_sum = (\n",
    "    df\n",
    "    >> group_by(_.organization_name, _.project_year)\n",
    "    >> summarize(sum_allocated=_.allocationamount.sum())\n",
    "    >> arrange(-_.sum_allocated)\n",
    ").head(20)\n",
    "\n",
    "top20_sum.sum_allocated = top20_sum.sum_allocated.map('${:,.2f}'.format)\n",
    "\n",
    "display(HTML(_dla_utils.pretify_tables2(top20_sum,\"\", \"Sum Allocated\")))"
   ]
  },
  {
   "cell_type": "code",
   "execution_count": null,
   "id": "a302a555-bf7f-43a0-ba2b-993ab516227b",
   "metadata": {
    "papermill": {
     "duration": 0.042978,
     "end_time": "2022-05-26T05:23:19.976119",
     "exception": false,
     "start_time": "2022-05-26T05:23:19.933141",
     "status": "completed"
    },
    "tags": []
   },
   "outputs": [],
   "source": []
  },
  {
   "cell_type": "markdown",
   "id": "5a629816-de99-4132-a6d7-a011a23f2689",
   "metadata": {
    "papermill": {
     "duration": 0.040625,
     "end_time": "2022-05-26T05:23:20.066726",
     "exception": false,
     "start_time": "2022-05-26T05:23:20.026101",
     "status": "completed"
    },
    "tags": []
   },
   "source": [
    "### By Organization & Project Types"
   ]
  },
  {
   "cell_type": "markdown",
   "id": "85a3ad60-e1ed-4e87-b33d-dc8fa9f7e24a",
   "metadata": {
    "papermill": {
     "duration": 0.042596,
     "end_time": "2022-05-26T05:23:20.152880",
     "exception": false,
     "start_time": "2022-05-26T05:23:20.110284",
     "status": "completed"
    },
    "tags": []
   },
   "source": [
    "**Vehicle Purchases**"
   ]
  },
  {
   "cell_type": "code",
   "execution_count": 38,
   "id": "12483656-928b-4731-bae7-93efc5455d6b",
   "metadata": {
    "execution": {
     "iopub.execute_input": "2022-05-26T05:23:20.237680Z",
     "iopub.status.busy": "2022-05-26T05:23:20.237327Z",
     "iopub.status.idle": "2022-05-26T05:23:20.334955Z",
     "shell.execute_reply": "2022-05-26T05:23:20.334076Z"
    },
    "papermill": {
     "duration": 0.142827,
     "end_time": "2022-05-26T05:23:20.337123",
     "exception": false,
     "start_time": "2022-05-26T05:23:20.194296",
     "status": "completed"
    },
    "tags": []
   },
   "outputs": [
    {
     "data": {
      "text/html": [
       "<style type=\"text/css\">\n",
       "#T_71157 th {\n",
       "  text-align: center;\n",
       "}\n",
       "#T_71157_row0_col0, #T_71157_row1_col0, #T_71157_row2_col0, #T_71157_row3_col0, #T_71157_row4_col0, #T_71157_row5_col0, #T_71157_row6_col0, #T_71157_row7_col0, #T_71157_row8_col0, #T_71157_row9_col0, #T_71157_row10_col0, #T_71157_row11_col0, #T_71157_row12_col0, #T_71157_row13_col0, #T_71157_row14_col0, #T_71157_row15_col0, #T_71157_row16_col0, #T_71157_row17_col0, #T_71157_row18_col0, #T_71157_row19_col0 {\n",
       "  text-align: center;\n",
       "}\n",
       "#T_71157_row0_col2, #T_71157_row1_col2, #T_71157_row2_col2, #T_71157_row3_col2, #T_71157_row4_col2, #T_71157_row5_col2, #T_71157_row6_col2, #T_71157_row7_col2, #T_71157_row8_col2, #T_71157_row9_col2, #T_71157_row10_col2, #T_71157_row11_col2, #T_71157_row12_col2, #T_71157_row13_col2, #T_71157_row14_col2, #T_71157_row15_col2, #T_71157_row16_col2, #T_71157_row17_col2, #T_71157_row18_col2, #T_71157_row19_col2 {\n",
       "  text-align: right;\n",
       "}\n",
       "</style>\n",
       "<table id=\"T_71157\">\n",
       "  <thead>\n",
       "    <tr>\n",
       "      <th id=\"T_71157_level0_col0\" class=\"col_heading level0 col0\" >Organization Name</th>\n",
       "      <th id=\"T_71157_level0_col1\" class=\"col_heading level0 col1\" >Project Year</th>\n",
       "      <th id=\"T_71157_level0_col2\" class=\"col_heading level0 col2\" >Sum Allocated</th>\n",
       "    </tr>\n",
       "  </thead>\n",
       "  <tbody>\n",
       "    <tr>\n",
       "      <td id=\"T_71157_row0_col0\" class=\"data row0 col0\" >On Lok Senior Health Services</td>\n",
       "      <td id=\"T_71157_row0_col1\" class=\"data row0 col1\" >2019</td>\n",
       "      <td id=\"T_71157_row0_col2\" class=\"data row0 col2\" >$1,480,000.00</td>\n",
       "    </tr>\n",
       "    <tr>\n",
       "      <td id=\"T_71157_row1_col0\" class=\"data row1 col0\" >United Cerebral Palsy Association of Greater Sacramento Inc</td>\n",
       "      <td id=\"T_71157_row1_col1\" class=\"data row1 col1\" >2017</td>\n",
       "      <td id=\"T_71157_row1_col2\" class=\"data row1 col2\" >$1,449,680.00</td>\n",
       "    </tr>\n",
       "    <tr>\n",
       "      <td id=\"T_71157_row2_col0\" class=\"data row2 col0\" >Pride Industries One Inc</td>\n",
       "      <td id=\"T_71157_row2_col1\" class=\"data row2 col1\" >2019</td>\n",
       "      <td id=\"T_71157_row2_col2\" class=\"data row2 col2\" >$1,209,000.00</td>\n",
       "    </tr>\n",
       "    <tr>\n",
       "      <td id=\"T_71157_row3_col0\" class=\"data row3 col0\" >Pride Industries One Inc</td>\n",
       "      <td id=\"T_71157_row3_col1\" class=\"data row3 col1\" >2017</td>\n",
       "      <td id=\"T_71157_row3_col2\" class=\"data row3 col2\" >$1,135,727.52</td>\n",
       "    </tr>\n",
       "    <tr>\n",
       "      <td id=\"T_71157_row4_col0\" class=\"data row4 col0\" >ARC Bakersfield</td>\n",
       "      <td id=\"T_71157_row4_col1\" class=\"data row4 col1\" >2017</td>\n",
       "      <td id=\"T_71157_row4_col2\" class=\"data row4 col2\" >$1,008,340.28</td>\n",
       "    </tr>\n",
       "    <tr>\n",
       "      <td id=\"T_71157_row5_col0\" class=\"data row5 col0\" >Monterey-Salinas Transit</td>\n",
       "      <td id=\"T_71157_row5_col1\" class=\"data row5 col1\" >2017</td>\n",
       "      <td id=\"T_71157_row5_col2\" class=\"data row5 col2\" >$980,000.00</td>\n",
       "    </tr>\n",
       "    <tr>\n",
       "      <td id=\"T_71157_row6_col0\" class=\"data row6 col0\" >United Cerebral Palsy of San Luis Obispo County </td>\n",
       "      <td id=\"T_71157_row6_col1\" class=\"data row6 col1\" >2017</td>\n",
       "      <td id=\"T_71157_row6_col2\" class=\"data row6 col2\" >$634,000.00</td>\n",
       "    </tr>\n",
       "    <tr>\n",
       "      <td id=\"T_71157_row7_col0\" class=\"data row7 col0\" >Asian Community Center of Sacramento Valley Inc DBA ACC Senior Services</td>\n",
       "      <td id=\"T_71157_row7_col1\" class=\"data row7 col1\" >2017</td>\n",
       "      <td id=\"T_71157_row7_col2\" class=\"data row7 col2\" >$619,600.00</td>\n",
       "    </tr>\n",
       "    <tr>\n",
       "      <td id=\"T_71157_row8_col0\" class=\"data row8 col0\" >El Dorado County Transit Authority</td>\n",
       "      <td id=\"T_71157_row8_col1\" class=\"data row8 col1\" >2017</td>\n",
       "      <td id=\"T_71157_row8_col2\" class=\"data row8 col2\" >$610,000.00</td>\n",
       "    </tr>\n",
       "    <tr>\n",
       "      <td id=\"T_71157_row9_col0\" class=\"data row9 col0\" >Institute on Aging </td>\n",
       "      <td id=\"T_71157_row9_col1\" class=\"data row9 col1\" >2017</td>\n",
       "      <td id=\"T_71157_row9_col2\" class=\"data row9 col2\" >$560,000.00</td>\n",
       "    </tr>\n",
       "    <tr>\n",
       "      <td id=\"T_71157_row10_col0\" class=\"data row10 col0\" >Center for Elders' Independence </td>\n",
       "      <td id=\"T_71157_row10_col1\" class=\"data row10 col1\" >2019</td>\n",
       "      <td id=\"T_71157_row10_col2\" class=\"data row10 col2\" >$536,900.00</td>\n",
       "    </tr>\n",
       "    <tr>\n",
       "      <td id=\"T_71157_row11_col0\" class=\"data row11 col0\" >Peppermint Ridge</td>\n",
       "      <td id=\"T_71157_row11_col1\" class=\"data row11 col1\" >2017</td>\n",
       "      <td id=\"T_71157_row11_col2\" class=\"data row11 col2\" >$525,000.00</td>\n",
       "    </tr>\n",
       "    <tr>\n",
       "      <td id=\"T_71157_row12_col0\" class=\"data row12 col0\" >Vivalon Inc</td>\n",
       "      <td id=\"T_71157_row12_col1\" class=\"data row12 col1\" >2017</td>\n",
       "      <td id=\"T_71157_row12_col2\" class=\"data row12 col2\" >$518,000.00</td>\n",
       "    </tr>\n",
       "    <tr>\n",
       "      <td id=\"T_71157_row13_col0\" class=\"data row13 col0\" >Easy Lift Transportation Inc</td>\n",
       "      <td id=\"T_71157_row13_col1\" class=\"data row13 col1\" >2017</td>\n",
       "      <td id=\"T_71157_row13_col2\" class=\"data row13 col2\" >$514,023.60</td>\n",
       "    </tr>\n",
       "    <tr>\n",
       "      <td id=\"T_71157_row14_col0\" class=\"data row14 col0\" >On Lok Senior Health Services</td>\n",
       "      <td id=\"T_71157_row14_col1\" class=\"data row14 col1\" >2017</td>\n",
       "      <td id=\"T_71157_row14_col2\" class=\"data row14 col2\" >$490,000.00</td>\n",
       "    </tr>\n",
       "    <tr>\n",
       "      <td id=\"T_71157_row15_col0\" class=\"data row15 col0\" >Vivalon Inc</td>\n",
       "      <td id=\"T_71157_row15_col1\" class=\"data row15 col1\" >2019</td>\n",
       "      <td id=\"T_71157_row15_col2\" class=\"data row15 col2\" >$487,200.00</td>\n",
       "    </tr>\n",
       "    <tr>\n",
       "      <td id=\"T_71157_row16_col0\" class=\"data row16 col0\" >Kings Rehabilitation Center</td>\n",
       "      <td id=\"T_71157_row16_col1\" class=\"data row16 col1\" >2017</td>\n",
       "      <td id=\"T_71157_row16_col2\" class=\"data row16 col2\" >$486,972.49</td>\n",
       "    </tr>\n",
       "    <tr>\n",
       "      <td id=\"T_71157_row17_col0\" class=\"data row17 col0\" >Omnitrans</td>\n",
       "      <td id=\"T_71157_row17_col1\" class=\"data row17 col1\" >2017</td>\n",
       "      <td id=\"T_71157_row17_col2\" class=\"data row17 col2\" >$485,000.00</td>\n",
       "    </tr>\n",
       "    <tr>\n",
       "      <td id=\"T_71157_row18_col0\" class=\"data row18 col0\" >Monterey-Salinas Transit</td>\n",
       "      <td id=\"T_71157_row18_col1\" class=\"data row18 col1\" >2019</td>\n",
       "      <td id=\"T_71157_row18_col2\" class=\"data row18 col2\" >$460,200.00</td>\n",
       "    </tr>\n",
       "    <tr>\n",
       "      <td id=\"T_71157_row19_col0\" class=\"data row19 col0\" >United Cerebral Palsy Association of Greater Sacramento Inc</td>\n",
       "      <td id=\"T_71157_row19_col1\" class=\"data row19 col1\" >2019</td>\n",
       "      <td id=\"T_71157_row19_col2\" class=\"data row19 col2\" >$452,000.00</td>\n",
       "    </tr>\n",
       "  </tbody>\n",
       "</table>\n"
      ],
      "text/plain": [
       "<IPython.core.display.HTML object>"
      ]
     },
     "metadata": {},
     "output_type": "display_data"
    }
   ],
   "source": [
    "vp = (df\n",
    " >>filter(_.vehicle_purchase==1)\n",
    " >> group_by(_.organization_name, _.project_year)\n",
    " >> summarize(sum_allocated = _.allocationamount.sum())\n",
    "  >> arrange(-_.sum_allocated)\n",
    ").head(20)\n",
    "\n",
    "# vp = (vp.style.hide(axis='index').format(formatter={(\"sum_allocated\"): \"${:,.2f}\"}))\n",
    "# display(vp)\n",
    "vp.sum_allocated = vp.sum_allocated.map('${:,.2f}'.format)\n",
    "display(HTML(_dla_utils.pretify_tables2(vp,\"\", \"Sum Allocated\")))"
   ]
  },
  {
   "cell_type": "code",
   "execution_count": null,
   "id": "d0587ae2-164f-4951-9be9-80b7562fe8f4",
   "metadata": {
    "papermill": {
     "duration": 0.041401,
     "end_time": "2022-05-26T05:23:20.419035",
     "exception": false,
     "start_time": "2022-05-26T05:23:20.377634",
     "status": "completed"
    },
    "tags": []
   },
   "outputs": [],
   "source": []
  },
  {
   "cell_type": "markdown",
   "id": "87830e4b-9099-402f-b958-737b6880fb8f",
   "metadata": {
    "papermill": {
     "duration": 0.043171,
     "end_time": "2022-05-26T05:23:20.503649",
     "exception": false,
     "start_time": "2022-05-26T05:23:20.460478",
     "status": "completed"
    },
    "tags": []
   },
   "source": [
    "**Operating Assistance**"
   ]
  },
  {
   "cell_type": "code",
   "execution_count": 39,
   "id": "befc8999-b2f6-45b9-92cf-02e5f992896c",
   "metadata": {
    "execution": {
     "iopub.execute_input": "2022-05-26T05:23:20.591367Z",
     "iopub.status.busy": "2022-05-26T05:23:20.591095Z",
     "iopub.status.idle": "2022-05-26T05:23:20.668918Z",
     "shell.execute_reply": "2022-05-26T05:23:20.668024Z"
    },
    "papermill": {
     "duration": 0.124163,
     "end_time": "2022-05-26T05:23:20.671065",
     "exception": false,
     "start_time": "2022-05-26T05:23:20.546902",
     "status": "completed"
    },
    "tags": []
   },
   "outputs": [
    {
     "data": {
      "text/html": [
       "<style type=\"text/css\">\n",
       "#T_4428d th {\n",
       "  text-align: center;\n",
       "}\n",
       "#T_4428d_row0_col0, #T_4428d_row1_col0, #T_4428d_row2_col0, #T_4428d_row3_col0, #T_4428d_row4_col0, #T_4428d_row5_col0, #T_4428d_row6_col0, #T_4428d_row7_col0, #T_4428d_row8_col0, #T_4428d_row9_col0, #T_4428d_row10_col0, #T_4428d_row11_col0, #T_4428d_row12_col0, #T_4428d_row13_col0, #T_4428d_row14_col0, #T_4428d_row15_col0, #T_4428d_row16_col0, #T_4428d_row17_col0, #T_4428d_row18_col0, #T_4428d_row19_col0 {\n",
       "  text-align: center;\n",
       "}\n",
       "#T_4428d_row0_col2, #T_4428d_row1_col2, #T_4428d_row2_col2, #T_4428d_row3_col2, #T_4428d_row4_col2, #T_4428d_row5_col2, #T_4428d_row6_col2, #T_4428d_row7_col2, #T_4428d_row8_col2, #T_4428d_row9_col2, #T_4428d_row10_col2, #T_4428d_row11_col2, #T_4428d_row12_col2, #T_4428d_row13_col2, #T_4428d_row14_col2, #T_4428d_row15_col2, #T_4428d_row16_col2, #T_4428d_row17_col2, #T_4428d_row18_col2, #T_4428d_row19_col2 {\n",
       "  text-align: right;\n",
       "}\n",
       "</style>\n",
       "<table id=\"T_4428d\">\n",
       "  <thead>\n",
       "    <tr>\n",
       "      <th id=\"T_4428d_level0_col0\" class=\"col_heading level0 col0\" >Organization Name</th>\n",
       "      <th id=\"T_4428d_level0_col1\" class=\"col_heading level0 col1\" >Project Year</th>\n",
       "      <th id=\"T_4428d_level0_col2\" class=\"col_heading level0 col2\" >Sum Allocated</th>\n",
       "    </tr>\n",
       "  </thead>\n",
       "  <tbody>\n",
       "    <tr>\n",
       "      <td id=\"T_4428d_row0_col0\" class=\"data row0 col0\" >Independent Living Partnership</td>\n",
       "      <td id=\"T_4428d_row0_col1\" class=\"data row0 col1\" >2017</td>\n",
       "      <td id=\"T_4428d_row0_col2\" class=\"data row0 col2\" >$1,114,031.00</td>\n",
       "    </tr>\n",
       "    <tr>\n",
       "      <td id=\"T_4428d_row1_col0\" class=\"data row1 col0\" >LIFE ElderCare</td>\n",
       "      <td id=\"T_4428d_row1_col1\" class=\"data row1 col1\" >2017</td>\n",
       "      <td id=\"T_4428d_row1_col2\" class=\"data row1 col2\" >$802,658.00</td>\n",
       "    </tr>\n",
       "    <tr>\n",
       "      <td id=\"T_4428d_row2_col0\" class=\"data row2 col0\" >Catholic Charities of the Diocese of Stockton</td>\n",
       "      <td id=\"T_4428d_row2_col1\" class=\"data row2 col1\" >2017</td>\n",
       "      <td id=\"T_4428d_row2_col2\" class=\"data row2 col2\" >$721,986.00</td>\n",
       "    </tr>\n",
       "    <tr>\n",
       "      <td id=\"T_4428d_row3_col0\" class=\"data row3 col0\" >Town of Truckee</td>\n",
       "      <td id=\"T_4428d_row3_col1\" class=\"data row3 col1\" >2017</td>\n",
       "      <td id=\"T_4428d_row3_col2\" class=\"data row3 col2\" >$702,506.00</td>\n",
       "    </tr>\n",
       "    <tr>\n",
       "      <td id=\"T_4428d_row4_col0\" class=\"data row4 col0\" >Marin County Transit District</td>\n",
       "      <td id=\"T_4428d_row4_col1\" class=\"data row4 col1\" >2017</td>\n",
       "      <td id=\"T_4428d_row4_col2\" class=\"data row4 col2\" >$700,000.00</td>\n",
       "    </tr>\n",
       "    <tr>\n",
       "      <td id=\"T_4428d_row5_col0\" class=\"data row5 col0\" >West Valley Community Services</td>\n",
       "      <td id=\"T_4428d_row5_col1\" class=\"data row5 col1\" >2019</td>\n",
       "      <td id=\"T_4428d_row5_col2\" class=\"data row5 col2\" >$649,453.00</td>\n",
       "    </tr>\n",
       "    <tr>\n",
       "      <td id=\"T_4428d_row6_col0\" class=\"data row6 col0\" >Asian Community Center of Sacramento Valley Inc DBA ACC Senior Services</td>\n",
       "      <td id=\"T_4428d_row6_col1\" class=\"data row6 col1\" >2017</td>\n",
       "      <td id=\"T_4428d_row6_col2\" class=\"data row6 col2\" >$624,048.00</td>\n",
       "    </tr>\n",
       "    <tr>\n",
       "      <td id=\"T_4428d_row7_col0\" class=\"data row7 col0\" >Dignity Health Connected Living</td>\n",
       "      <td id=\"T_4428d_row7_col1\" class=\"data row7 col1\" >2017</td>\n",
       "      <td id=\"T_4428d_row7_col2\" class=\"data row7 col2\" >$530,302.00</td>\n",
       "    </tr>\n",
       "    <tr>\n",
       "      <td id=\"T_4428d_row8_col0\" class=\"data row8 col0\" >Community Bridges Liftline</td>\n",
       "      <td id=\"T_4428d_row8_col1\" class=\"data row8 col1\" >2017</td>\n",
       "      <td id=\"T_4428d_row8_col2\" class=\"data row8 col2\" >$475,200.00</td>\n",
       "    </tr>\n",
       "    <tr>\n",
       "      <td id=\"T_4428d_row9_col0\" class=\"data row9 col0\" >United Cerebral Palsy Association of Greater Sacramento Inc</td>\n",
       "      <td id=\"T_4428d_row9_col1\" class=\"data row9 col1\" >2019</td>\n",
       "      <td id=\"T_4428d_row9_col2\" class=\"data row9 col2\" >$467,625.00</td>\n",
       "    </tr>\n",
       "    <tr>\n",
       "      <td id=\"T_4428d_row10_col0\" class=\"data row10 col0\" >Independent Living Partnership</td>\n",
       "      <td id=\"T_4428d_row10_col1\" class=\"data row10 col1\" >2019</td>\n",
       "      <td id=\"T_4428d_row10_col2\" class=\"data row10 col2\" >$465,998.00</td>\n",
       "    </tr>\n",
       "    <tr>\n",
       "      <td id=\"T_4428d_row11_col0\" class=\"data row11 col0\" >Avenidas </td>\n",
       "      <td id=\"T_4428d_row11_col1\" class=\"data row11 col1\" >2017</td>\n",
       "      <td id=\"T_4428d_row11_col2\" class=\"data row11 col2\" >$441,475.00</td>\n",
       "    </tr>\n",
       "    <tr>\n",
       "      <td id=\"T_4428d_row12_col0\" class=\"data row12 col0\" >North of the River Recreation and Park District</td>\n",
       "      <td id=\"T_4428d_row12_col1\" class=\"data row12 col1\" >2017</td>\n",
       "      <td id=\"T_4428d_row12_col2\" class=\"data row12 col2\" >$439,240.00</td>\n",
       "    </tr>\n",
       "    <tr>\n",
       "      <td id=\"T_4428d_row13_col0\" class=\"data row13 col0\" >Community Partners In Caring</td>\n",
       "      <td id=\"T_4428d_row13_col1\" class=\"data row13 col1\" >2017</td>\n",
       "      <td id=\"T_4428d_row13_col2\" class=\"data row13 col2\" >$430,685.00</td>\n",
       "    </tr>\n",
       "    <tr>\n",
       "      <td id=\"T_4428d_row14_col0\" class=\"data row14 col0\" >Outreach & Escort Inc </td>\n",
       "      <td id=\"T_4428d_row14_col1\" class=\"data row14 col1\" >2017</td>\n",
       "      <td id=\"T_4428d_row14_col2\" class=\"data row14 col2\" >$400,000.00</td>\n",
       "    </tr>\n",
       "    <tr>\n",
       "      <td id=\"T_4428d_row15_col0\" class=\"data row15 col0\" >Peninsula Jewish Community Center</td>\n",
       "      <td id=\"T_4428d_row15_col1\" class=\"data row15 col1\" >2017</td>\n",
       "      <td id=\"T_4428d_row15_col2\" class=\"data row15 col2\" >$396,000.00</td>\n",
       "    </tr>\n",
       "    <tr>\n",
       "      <td id=\"T_4428d_row16_col0\" class=\"data row16 col0\" >Mobility Matters</td>\n",
       "      <td id=\"T_4428d_row16_col1\" class=\"data row16 col1\" >2017</td>\n",
       "      <td id=\"T_4428d_row16_col2\" class=\"data row16 col2\" >$395,743.00</td>\n",
       "    </tr>\n",
       "    <tr>\n",
       "      <td id=\"T_4428d_row17_col0\" class=\"data row17 col0\" >County of Sacramento Department of Child Family and Adult Services</td>\n",
       "      <td id=\"T_4428d_row17_col1\" class=\"data row17 col1\" >2017</td>\n",
       "      <td id=\"T_4428d_row17_col2\" class=\"data row17 col2\" >$393,558.00</td>\n",
       "    </tr>\n",
       "    <tr>\n",
       "      <td id=\"T_4428d_row18_col0\" class=\"data row18 col0\" >Friends of Children with Special Needs</td>\n",
       "      <td id=\"T_4428d_row18_col1\" class=\"data row18 col1\" >2017</td>\n",
       "      <td id=\"T_4428d_row18_col2\" class=\"data row18 col2\" >$335,488.00</td>\n",
       "    </tr>\n",
       "    <tr>\n",
       "      <td id=\"T_4428d_row19_col0\" class=\"data row19 col0\" >San Benito County Local Transportation Authority</td>\n",
       "      <td id=\"T_4428d_row19_col1\" class=\"data row19 col1\" >2017</td>\n",
       "      <td id=\"T_4428d_row19_col2\" class=\"data row19 col2\" >$326,400.00</td>\n",
       "    </tr>\n",
       "  </tbody>\n",
       "</table>\n"
      ],
      "text/plain": [
       "<IPython.core.display.HTML object>"
      ]
     },
     "metadata": {},
     "output_type": "display_data"
    }
   ],
   "source": [
    "oa= (df\n",
    " >>filter(_.operating_assistance==1)\n",
    " >> group_by(_.organization_name, _.project_year)\n",
    " >> summarize(sum_allocated = _.allocationamount.sum())\n",
    " >> arrange(-_.sum_allocated)\n",
    ").head(20)\n",
    "\n",
    "\n",
    "oa.sum_allocated = oa.sum_allocated.map('${:,.2f}'.format)\n",
    "display(HTML(_dla_utils.pretify_tables2(oa,\"\", \"Sum Allocated\")))"
   ]
  },
  {
   "cell_type": "code",
   "execution_count": null,
   "id": "57f87a8a-0dd5-4aee-a5d1-b6d048f1f05d",
   "metadata": {
    "papermill": {
     "duration": 0.046014,
     "end_time": "2022-05-26T05:23:20.796228",
     "exception": false,
     "start_time": "2022-05-26T05:23:20.750214",
     "status": "completed"
    },
    "tags": []
   },
   "outputs": [],
   "source": []
  },
  {
   "cell_type": "markdown",
   "id": "49256088-8d0c-4903-848b-ff4e504cc35c",
   "metadata": {
    "papermill": {
     "duration": 0.041246,
     "end_time": "2022-05-26T05:23:20.881105",
     "exception": false,
     "start_time": "2022-05-26T05:23:20.839859",
     "status": "completed"
    },
    "tags": []
   },
   "source": [
    "**Software Purchase**"
   ]
  },
  {
   "cell_type": "code",
   "execution_count": 40,
   "id": "34412ec8-25c4-4bd0-bcf2-b450afb1f74e",
   "metadata": {
    "execution": {
     "iopub.execute_input": "2022-05-26T05:23:20.970368Z",
     "iopub.status.busy": "2022-05-26T05:23:20.969639Z",
     "iopub.status.idle": "2022-05-26T05:23:20.997450Z",
     "shell.execute_reply": "2022-05-26T05:23:20.996649Z"
    },
    "papermill": {
     "duration": 0.073488,
     "end_time": "2022-05-26T05:23:20.999367",
     "exception": false,
     "start_time": "2022-05-26T05:23:20.925879",
     "status": "completed"
    },
    "tags": []
   },
   "outputs": [
    {
     "data": {
      "text/html": [
       "<style type=\"text/css\">\n",
       "#T_db263 th {\n",
       "  text-align: center;\n",
       "}\n",
       "#T_db263_row0_col0, #T_db263_row1_col0, #T_db263_row2_col0, #T_db263_row3_col0 {\n",
       "  text-align: center;\n",
       "}\n",
       "#T_db263_row0_col2, #T_db263_row1_col2, #T_db263_row2_col2, #T_db263_row3_col2 {\n",
       "  text-align: right;\n",
       "}\n",
       "</style>\n",
       "<table id=\"T_db263\">\n",
       "  <thead>\n",
       "    <tr>\n",
       "      <th id=\"T_db263_level0_col0\" class=\"col_heading level0 col0\" >Organization Name</th>\n",
       "      <th id=\"T_db263_level0_col1\" class=\"col_heading level0 col1\" >Project Year</th>\n",
       "      <th id=\"T_db263_level0_col2\" class=\"col_heading level0 col2\" >Sum Allocated</th>\n",
       "    </tr>\n",
       "  </thead>\n",
       "  <tbody>\n",
       "    <tr>\n",
       "      <td id=\"T_db263_row0_col0\" class=\"data row0 col0\" >Catholic Charities of the Diocese of Stockton</td>\n",
       "      <td id=\"T_db263_row0_col1\" class=\"data row0 col1\" >2019</td>\n",
       "      <td id=\"T_db263_row0_col2\" class=\"data row0 col2\" >$20,000.00</td>\n",
       "    </tr>\n",
       "    <tr>\n",
       "      <td id=\"T_db263_row1_col0\" class=\"data row1 col0\" >County of Sonoma Human Services Department Adult and Aging Division</td>\n",
       "      <td id=\"T_db263_row1_col1\" class=\"data row1 col1\" >2018</td>\n",
       "      <td id=\"T_db263_row1_col2\" class=\"data row1 col2\" >$10,000.00</td>\n",
       "    </tr>\n",
       "    <tr>\n",
       "      <td id=\"T_db263_row2_col0\" class=\"data row2 col0\" >Asian Community Center of Sacramento Valley Inc DBA ACC Senior Services</td>\n",
       "      <td id=\"T_db263_row2_col1\" class=\"data row2 col1\" >2017</td>\n",
       "      <td id=\"T_db263_row2_col2\" class=\"data row2 col2\" >$0.00</td>\n",
       "    </tr>\n",
       "    <tr>\n",
       "      <td id=\"T_db263_row3_col0\" class=\"data row3 col0\" >Yolo County Transportation District</td>\n",
       "      <td id=\"T_db263_row3_col1\" class=\"data row3 col1\" >2017</td>\n",
       "      <td id=\"T_db263_row3_col2\" class=\"data row3 col2\" >$0.00</td>\n",
       "    </tr>\n",
       "  </tbody>\n",
       "</table>\n"
      ],
      "text/plain": [
       "<IPython.core.display.HTML object>"
      ]
     },
     "metadata": {},
     "output_type": "display_data"
    }
   ],
   "source": [
    "sp = (df\n",
    " >>filter(_.hardware_software_purchase==1)\n",
    " >>filter(_.description.str.contains('Software'))\n",
    " >> group_by(_.organization_name, _.project_year)\n",
    " >> summarize(sum_allocated = _.allocationamount.sum())\n",
    "  >> arrange(-_.sum_allocated)\n",
    ").head(20)\n",
    "\n",
    "sp.sum_allocated = sp.sum_allocated.map('${:,.2f}'.format)\n",
    "display(HTML(_dla_utils.pretify_tables2(sp, \"\", \"Sum Allocated\")))"
   ]
  },
  {
   "cell_type": "code",
   "execution_count": 41,
   "id": "ac0aa2e2-58df-4ea3-904e-9bfb546b5f4e",
   "metadata": {
    "execution": {
     "iopub.execute_input": "2022-05-26T05:23:21.094062Z",
     "iopub.status.busy": "2022-05-26T05:23:21.093789Z",
     "iopub.status.idle": "2022-05-26T05:23:21.126361Z",
     "shell.execute_reply": "2022-05-26T05:23:21.125469Z"
    },
    "papermill": {
     "duration": 0.083799,
     "end_time": "2022-05-26T05:23:21.128062",
     "exception": false,
     "start_time": "2022-05-26T05:23:21.044263",
     "status": "completed"
    },
    "tags": []
   },
   "outputs": [
    {
     "data": {
      "text/html": [
       "<style type=\"text/css\">\n",
       "#T_22661 th {\n",
       "  text-align: center;\n",
       "}\n",
       "#T_22661_row0_col0, #T_22661_row1_col0, #T_22661_row2_col0, #T_22661_row3_col0, #T_22661_row4_col0, #T_22661_row5_col0, #T_22661_row6_col0, #T_22661_row7_col0, #T_22661_row8_col0, #T_22661_row9_col0, #T_22661_row10_col0, #T_22661_row11_col0 {\n",
       "  text-align: center;\n",
       "}\n",
       "#T_22661_row0_col2, #T_22661_row1_col2, #T_22661_row2_col2, #T_22661_row3_col2, #T_22661_row4_col2, #T_22661_row5_col2, #T_22661_row6_col2, #T_22661_row7_col2, #T_22661_row8_col2, #T_22661_row9_col2, #T_22661_row10_col2, #T_22661_row11_col2 {\n",
       "  text-align: right;\n",
       "}\n",
       "</style>\n",
       "<table id=\"T_22661\">\n",
       "  <thead>\n",
       "    <tr>\n",
       "      <th id=\"T_22661_level0_col0\" class=\"col_heading level0 col0\" >Organization Name</th>\n",
       "      <th id=\"T_22661_level0_col1\" class=\"col_heading level0 col1\" >Project Year</th>\n",
       "      <th id=\"T_22661_level0_col2\" class=\"col_heading level0 col2\" >Sum Allocated</th>\n",
       "    </tr>\n",
       "  </thead>\n",
       "  <tbody>\n",
       "    <tr>\n",
       "      <td id=\"T_22661_row0_col0\" class=\"data row0 col0\" >United Cerebral Palsy Association of Greater Sacramento Inc</td>\n",
       "      <td id=\"T_22661_row0_col1\" class=\"data row0 col1\" >2017</td>\n",
       "      <td id=\"T_22661_row0_col2\" class=\"data row0 col2\" >$61,600.00</td>\n",
       "    </tr>\n",
       "    <tr>\n",
       "      <td id=\"T_22661_row1_col0\" class=\"data row1 col0\" >Catholic Charities of the Diocese of Stockton</td>\n",
       "      <td id=\"T_22661_row1_col1\" class=\"data row1 col1\" >2019</td>\n",
       "      <td id=\"T_22661_row1_col2\" class=\"data row1 col2\" >$28,500.00</td>\n",
       "    </tr>\n",
       "    <tr>\n",
       "      <td id=\"T_22661_row2_col0\" class=\"data row2 col0\" >Community Bridges Liftline</td>\n",
       "      <td id=\"T_22661_row2_col1\" class=\"data row2 col1\" >2017</td>\n",
       "      <td id=\"T_22661_row2_col2\" class=\"data row2 col2\" >$17,196.00</td>\n",
       "    </tr>\n",
       "    <tr>\n",
       "      <td id=\"T_22661_row3_col0\" class=\"data row3 col0\" >County of Sonoma Human Services Department Adult and Aging Division</td>\n",
       "      <td id=\"T_22661_row3_col1\" class=\"data row3 col1\" >2018</td>\n",
       "      <td id=\"T_22661_row3_col2\" class=\"data row3 col2\" >$10,000.00</td>\n",
       "    </tr>\n",
       "    <tr>\n",
       "      <td id=\"T_22661_row4_col0\" class=\"data row4 col0\" >Community Bridges Liftline</td>\n",
       "      <td id=\"T_22661_row4_col1\" class=\"data row4 col1\" >2019</td>\n",
       "      <td id=\"T_22661_row4_col2\" class=\"data row4 col2\" >$7,954.00</td>\n",
       "    </tr>\n",
       "    <tr>\n",
       "      <td id=\"T_22661_row5_col0\" class=\"data row5 col0\" >Porterville Sheltered Workshop</td>\n",
       "      <td id=\"T_22661_row5_col1\" class=\"data row5 col1\" >2019</td>\n",
       "      <td id=\"T_22661_row5_col2\" class=\"data row5 col2\" >$7,742.00</td>\n",
       "    </tr>\n",
       "    <tr>\n",
       "      <td id=\"T_22661_row6_col0\" class=\"data row6 col0\" >San Joaquin Regional Transit District</td>\n",
       "      <td id=\"T_22661_row6_col1\" class=\"data row6 col1\" >2017</td>\n",
       "      <td id=\"T_22661_row6_col2\" class=\"data row6 col2\" >$7,571.00</td>\n",
       "    </tr>\n",
       "    <tr>\n",
       "      <td id=\"T_22661_row7_col0\" class=\"data row7 col0\" >Sunline Transit Agency</td>\n",
       "      <td id=\"T_22661_row7_col1\" class=\"data row7 col1\" >2019</td>\n",
       "      <td id=\"T_22661_row7_col2\" class=\"data row7 col2\" >$5,150.00</td>\n",
       "    </tr>\n",
       "    <tr>\n",
       "      <td id=\"T_22661_row8_col0\" class=\"data row8 col0\" >Asian Community Center of Sacramento Valley Inc DBA ACC Senior Services</td>\n",
       "      <td id=\"T_22661_row8_col1\" class=\"data row8 col1\" >2017</td>\n",
       "      <td id=\"T_22661_row8_col2\" class=\"data row8 col2\" >$2,480.00</td>\n",
       "    </tr>\n",
       "    <tr>\n",
       "      <td id=\"T_22661_row9_col0\" class=\"data row9 col0\" >Milestones of Development INC</td>\n",
       "      <td id=\"T_22661_row9_col1\" class=\"data row9 col1\" >2019</td>\n",
       "      <td id=\"T_22661_row9_col2\" class=\"data row9 col2\" >$1,400.00</td>\n",
       "    </tr>\n",
       "    <tr>\n",
       "      <td id=\"T_22661_row10_col0\" class=\"data row10 col0\" >Foothill AIDS Project</td>\n",
       "      <td id=\"T_22661_row10_col1\" class=\"data row10 col1\" >2017</td>\n",
       "      <td id=\"T_22661_row10_col2\" class=\"data row10 col2\" >$1,200.00</td>\n",
       "    </tr>\n",
       "    <tr>\n",
       "      <td id=\"T_22661_row11_col0\" class=\"data row11 col0\" >Yolo County Transportation District</td>\n",
       "      <td id=\"T_22661_row11_col1\" class=\"data row11 col1\" >2017</td>\n",
       "      <td id=\"T_22661_row11_col2\" class=\"data row11 col2\" >$0.00</td>\n",
       "    </tr>\n",
       "  </tbody>\n",
       "</table>\n"
      ],
      "text/plain": [
       "<IPython.core.display.HTML object>"
      ]
     },
     "metadata": {},
     "output_type": "display_data"
    }
   ],
   "source": [
    "hsp = (df\n",
    " >>filter(_.hardware_software_purchase==1)\n",
    " >> group_by(_.organization_name, _.project_year)\n",
    " >> summarize(sum_allocated = _.allocationamount.sum())\n",
    "       >> arrange(-_.sum_allocated)\n",
    ").head(20)\n",
    "\n",
    "hsp.sum_allocated = hsp.sum_allocated.map('${:,.2f}'.format)\n",
    "display(HTML(_dla_utils.pretify_tables2(hsp, \"\", \"Sum Allocated\")))"
   ]
  },
  {
   "cell_type": "code",
   "execution_count": null,
   "id": "4372261e-9d97-420e-87b1-6ea221bf6037",
   "metadata": {
    "papermill": {
     "duration": 0.047289,
     "end_time": "2022-05-26T05:23:21.218607",
     "exception": false,
     "start_time": "2022-05-26T05:23:21.171318",
     "status": "completed"
    },
    "tags": []
   },
   "outputs": [],
   "source": []
  },
  {
   "cell_type": "markdown",
   "id": "84f430d2-3396-475b-a31f-7eacc49fedc0",
   "metadata": {
    "papermill": {
     "duration": 0.046941,
     "end_time": "2022-05-26T05:23:21.309134",
     "exception": false,
     "start_time": "2022-05-26T05:23:21.262193",
     "status": "completed"
    },
    "tags": []
   },
   "source": [
    "### By County"
   ]
  },
  {
   "cell_type": "code",
   "execution_count": 42,
   "id": "4bc4a769-687d-42d8-81df-bfffaaddd55a",
   "metadata": {
    "execution": {
     "iopub.execute_input": "2022-05-26T05:23:21.398085Z",
     "iopub.status.busy": "2022-05-26T05:23:21.397643Z",
     "iopub.status.idle": "2022-05-26T05:23:21.450819Z",
     "shell.execute_reply": "2022-05-26T05:23:21.449940Z"
    },
    "papermill": {
     "duration": 0.100111,
     "end_time": "2022-05-26T05:23:21.452931",
     "exception": false,
     "start_time": "2022-05-26T05:23:21.352820",
     "status": "completed"
    },
    "scrolled": true,
    "tags": []
   },
   "outputs": [
    {
     "data": {
      "text/html": [
       "<style type=\"text/css\">\n",
       "#T_431fa th {\n",
       "  text-align: center;\n",
       "}\n",
       "#T_431fa_row0_col0, #T_431fa_row1_col0, #T_431fa_row2_col0, #T_431fa_row3_col0, #T_431fa_row4_col0, #T_431fa_row5_col0, #T_431fa_row6_col0, #T_431fa_row7_col0, #T_431fa_row8_col0, #T_431fa_row9_col0, #T_431fa_row10_col0, #T_431fa_row11_col0, #T_431fa_row12_col0, #T_431fa_row13_col0, #T_431fa_row14_col0, #T_431fa_row15_col0, #T_431fa_row16_col0, #T_431fa_row17_col0, #T_431fa_row18_col0, #T_431fa_row19_col0, #T_431fa_row20_col0, #T_431fa_row21_col0, #T_431fa_row22_col0, #T_431fa_row23_col0, #T_431fa_row24_col0, #T_431fa_row25_col0, #T_431fa_row26_col0, #T_431fa_row27_col0, #T_431fa_row28_col0, #T_431fa_row29_col0, #T_431fa_row30_col0, #T_431fa_row31_col0, #T_431fa_row32_col0, #T_431fa_row33_col0, #T_431fa_row34_col0, #T_431fa_row35_col0, #T_431fa_row36_col0, #T_431fa_row37_col0, #T_431fa_row38_col0, #T_431fa_row39_col0, #T_431fa_row40_col0, #T_431fa_row41_col0, #T_431fa_row42_col0, #T_431fa_row43_col0, #T_431fa_row44_col0, #T_431fa_row45_col0, #T_431fa_row46_col0, #T_431fa_row47_col0, #T_431fa_row48_col0, #T_431fa_row49_col0, #T_431fa_row50_col0, #T_431fa_row51_col0, #T_431fa_row52_col0, #T_431fa_row53_col0, #T_431fa_row54_col0, #T_431fa_row55_col0, #T_431fa_row56_col0, #T_431fa_row57_col0, #T_431fa_row58_col0 {\n",
       "  text-align: center;\n",
       "}\n",
       "#T_431fa_row0_col1, #T_431fa_row1_col1, #T_431fa_row2_col1, #T_431fa_row3_col1, #T_431fa_row4_col1, #T_431fa_row5_col1, #T_431fa_row6_col1, #T_431fa_row7_col1, #T_431fa_row8_col1, #T_431fa_row9_col1, #T_431fa_row10_col1, #T_431fa_row11_col1, #T_431fa_row12_col1, #T_431fa_row13_col1, #T_431fa_row14_col1, #T_431fa_row15_col1, #T_431fa_row16_col1, #T_431fa_row17_col1, #T_431fa_row18_col1, #T_431fa_row19_col1, #T_431fa_row20_col1, #T_431fa_row21_col1, #T_431fa_row22_col1, #T_431fa_row23_col1, #T_431fa_row24_col1, #T_431fa_row25_col1, #T_431fa_row26_col1, #T_431fa_row27_col1, #T_431fa_row28_col1, #T_431fa_row29_col1, #T_431fa_row30_col1, #T_431fa_row31_col1, #T_431fa_row32_col1, #T_431fa_row33_col1, #T_431fa_row34_col1, #T_431fa_row35_col1, #T_431fa_row36_col1, #T_431fa_row37_col1, #T_431fa_row38_col1, #T_431fa_row39_col1, #T_431fa_row40_col1, #T_431fa_row41_col1, #T_431fa_row42_col1, #T_431fa_row43_col1, #T_431fa_row44_col1, #T_431fa_row45_col1, #T_431fa_row46_col1, #T_431fa_row47_col1, #T_431fa_row48_col1, #T_431fa_row49_col1, #T_431fa_row50_col1, #T_431fa_row51_col1, #T_431fa_row52_col1, #T_431fa_row53_col1, #T_431fa_row54_col1, #T_431fa_row55_col1, #T_431fa_row56_col1, #T_431fa_row57_col1, #T_431fa_row58_col1 {\n",
       "  text-align: right;\n",
       "}\n",
       "</style>\n",
       "<table id=\"T_431fa\">\n",
       "  <thead>\n",
       "    <tr>\n",
       "      <th id=\"T_431fa_level0_col0\" class=\"col_heading level0 col0\" >County</th>\n",
       "      <th id=\"T_431fa_level0_col1\" class=\"col_heading level0 col1\" >Sum Allocated</th>\n",
       "    </tr>\n",
       "  </thead>\n",
       "  <tbody>\n",
       "    <tr>\n",
       "      <td id=\"T_431fa_row0_col0\" class=\"data row0 col0\" >Alameda</td>\n",
       "      <td id=\"T_431fa_row0_col1\" class=\"data row0 col1\" >$2,982,664.00</td>\n",
       "    </tr>\n",
       "    <tr>\n",
       "      <td id=\"T_431fa_row1_col0\" class=\"data row1 col0\" >Alameda, Contra Costa</td>\n",
       "      <td id=\"T_431fa_row1_col1\" class=\"data row1 col1\" >$671,900.00</td>\n",
       "    </tr>\n",
       "    <tr>\n",
       "      <td id=\"T_431fa_row2_col0\" class=\"data row2 col0\" >Amador</td>\n",
       "      <td id=\"T_431fa_row2_col1\" class=\"data row2 col1\" >$469,995.00</td>\n",
       "    </tr>\n",
       "    <tr>\n",
       "      <td id=\"T_431fa_row3_col0\" class=\"data row3 col0\" >Amador, Calaveras</td>\n",
       "      <td id=\"T_431fa_row3_col1\" class=\"data row3 col1\" >$299,479.40</td>\n",
       "    </tr>\n",
       "    <tr>\n",
       "      <td id=\"T_431fa_row4_col0\" class=\"data row4 col0\" >Butte</td>\n",
       "      <td id=\"T_431fa_row4_col1\" class=\"data row4 col1\" >$1,235,790.10</td>\n",
       "    </tr>\n",
       "    <tr>\n",
       "      <td id=\"T_431fa_row5_col0\" class=\"data row5 col0\" >Butte, Glen</td>\n",
       "      <td id=\"T_431fa_row5_col1\" class=\"data row5 col1\" >$813,194.00</td>\n",
       "    </tr>\n",
       "    <tr>\n",
       "      <td id=\"T_431fa_row6_col0\" class=\"data row6 col0\" >Calaveras</td>\n",
       "      <td id=\"T_431fa_row6_col1\" class=\"data row6 col1\" >$0.00</td>\n",
       "    </tr>\n",
       "    <tr>\n",
       "      <td id=\"T_431fa_row7_col0\" class=\"data row7 col0\" >Calaveras, Amador, Tuolumne</td>\n",
       "      <td id=\"T_431fa_row7_col1\" class=\"data row7 col1\" >$826,157.00</td>\n",
       "    </tr>\n",
       "    <tr>\n",
       "      <td id=\"T_431fa_row8_col0\" class=\"data row8 col0\" >Colusa</td>\n",
       "      <td id=\"T_431fa_row8_col1\" class=\"data row8 col1\" >$162,400.00</td>\n",
       "    </tr>\n",
       "    <tr>\n",
       "      <td id=\"T_431fa_row9_col0\" class=\"data row9 col0\" >Contra Costa</td>\n",
       "      <td id=\"T_431fa_row9_col1\" class=\"data row9 col1\" >$3,007,198.00</td>\n",
       "    </tr>\n",
       "    <tr>\n",
       "      <td id=\"T_431fa_row10_col0\" class=\"data row10 col0\" >Contra Costa, Napa, Solano, Sacramento</td>\n",
       "      <td id=\"T_431fa_row10_col1\" class=\"data row10 col1\" >$369,716.00</td>\n",
       "    </tr>\n",
       "    <tr>\n",
       "      <td id=\"T_431fa_row11_col0\" class=\"data row11 col0\" >Del Norte</td>\n",
       "      <td id=\"T_431fa_row11_col1\" class=\"data row11 col1\" >$132,700.00</td>\n",
       "    </tr>\n",
       "    <tr>\n",
       "      <td id=\"T_431fa_row12_col0\" class=\"data row12 col0\" >Douglas, Placer, Washoe, Carson City</td>\n",
       "      <td id=\"T_431fa_row12_col1\" class=\"data row12 col1\" >$80,000.00</td>\n",
       "    </tr>\n",
       "    <tr>\n",
       "      <td id=\"T_431fa_row13_col0\" class=\"data row13 col0\" >El Dorado</td>\n",
       "      <td id=\"T_431fa_row13_col1\" class=\"data row13 col1\" >$666,000.00</td>\n",
       "    </tr>\n",
       "    <tr>\n",
       "      <td id=\"T_431fa_row14_col0\" class=\"data row14 col0\" >Humboldt</td>\n",
       "      <td id=\"T_431fa_row14_col1\" class=\"data row14 col1\" >$1,133,905.57</td>\n",
       "    </tr>\n",
       "    <tr>\n",
       "      <td id=\"T_431fa_row15_col0\" class=\"data row15 col0\" >Humboldt, De Norte</td>\n",
       "      <td id=\"T_431fa_row15_col1\" class=\"data row15 col1\" >$146,534.00</td>\n",
       "    </tr>\n",
       "    <tr>\n",
       "      <td id=\"T_431fa_row16_col0\" class=\"data row16 col0\" >Imperial</td>\n",
       "      <td id=\"T_431fa_row16_col1\" class=\"data row16 col1\" >$1,257,956.00</td>\n",
       "    </tr>\n",
       "    <tr>\n",
       "      <td id=\"T_431fa_row17_col0\" class=\"data row17 col0\" >Inyo</td>\n",
       "      <td id=\"T_431fa_row17_col1\" class=\"data row17 col1\" >$284,287.00</td>\n",
       "    </tr>\n",
       "    <tr>\n",
       "      <td id=\"T_431fa_row18_col0\" class=\"data row18 col0\" >Inyo, Mono</td>\n",
       "      <td id=\"T_431fa_row18_col1\" class=\"data row18 col1\" >$72,710.00</td>\n",
       "    </tr>\n",
       "    <tr>\n",
       "      <td id=\"T_431fa_row19_col0\" class=\"data row19 col0\" >Kern</td>\n",
       "      <td id=\"T_431fa_row19_col1\" class=\"data row19 col1\" >$3,133,432.69</td>\n",
       "    </tr>\n",
       "    <tr>\n",
       "      <td id=\"T_431fa_row20_col0\" class=\"data row20 col0\" >Kings</td>\n",
       "      <td id=\"T_431fa_row20_col1\" class=\"data row20 col1\" >$879,572.49</td>\n",
       "    </tr>\n",
       "    <tr>\n",
       "      <td id=\"T_431fa_row21_col0\" class=\"data row21 col0\" >Lake</td>\n",
       "      <td id=\"T_431fa_row21_col1\" class=\"data row21 col1\" >$1,028,208.00</td>\n",
       "    </tr>\n",
       "    <tr>\n",
       "      <td id=\"T_431fa_row22_col0\" class=\"data row22 col0\" >Lassen, Modoc</td>\n",
       "      <td id=\"T_431fa_row22_col1\" class=\"data row22 col1\" >$63,000.00</td>\n",
       "    </tr>\n",
       "    <tr>\n",
       "      <td id=\"T_431fa_row23_col0\" class=\"data row23 col0\" >Marin</td>\n",
       "      <td id=\"T_431fa_row23_col1\" class=\"data row23 col1\" >$2,454,160.00</td>\n",
       "    </tr>\n",
       "    <tr>\n",
       "      <td id=\"T_431fa_row24_col0\" class=\"data row24 col0\" >Mendocino</td>\n",
       "      <td id=\"T_431fa_row24_col1\" class=\"data row24 col1\" >$1,671,032.57</td>\n",
       "    </tr>\n",
       "    <tr>\n",
       "      <td id=\"T_431fa_row25_col0\" class=\"data row25 col0\" >Monterey</td>\n",
       "      <td id=\"T_431fa_row25_col1\" class=\"data row25 col1\" >$1,440,200.00</td>\n",
       "    </tr>\n",
       "    <tr>\n",
       "      <td id=\"T_431fa_row26_col0\" class=\"data row26 col0\" >Monterey, San Mateo, San Benito, Santa Clara, San Francisco</td>\n",
       "      <td id=\"T_431fa_row26_col1\" class=\"data row26 col1\" >$1,077,567.60</td>\n",
       "    </tr>\n",
       "    <tr>\n",
       "      <td id=\"T_431fa_row27_col0\" class=\"data row27 col0\" >Napa</td>\n",
       "      <td id=\"T_431fa_row27_col1\" class=\"data row27 col1\" >$280,000.00</td>\n",
       "    </tr>\n",
       "    <tr>\n",
       "      <td id=\"T_431fa_row28_col0\" class=\"data row28 col0\" >Nevada</td>\n",
       "      <td id=\"T_431fa_row28_col1\" class=\"data row28 col1\" >$1,153,206.00</td>\n",
       "    </tr>\n",
       "    <tr>\n",
       "      <td id=\"T_431fa_row29_col0\" class=\"data row29 col0\" >Nevada, Sierra</td>\n",
       "      <td id=\"T_431fa_row29_col1\" class=\"data row29 col1\" >$871,243.00</td>\n",
       "    </tr>\n",
       "    <tr>\n",
       "      <td id=\"T_431fa_row30_col0\" class=\"data row30 col0\" >Orange, Los Angeles, Riverside, San Bernardino, Ventura</td>\n",
       "      <td id=\"T_431fa_row30_col1\" class=\"data row30 col1\" >$445,941.00</td>\n",
       "    </tr>\n",
       "    <tr>\n",
       "      <td id=\"T_431fa_row31_col0\" class=\"data row31 col0\" >Placer</td>\n",
       "      <td id=\"T_431fa_row31_col1\" class=\"data row31 col1\" >$2,453,032.41</td>\n",
       "    </tr>\n",
       "    <tr>\n",
       "      <td id=\"T_431fa_row32_col0\" class=\"data row32 col0\" >Riverside</td>\n",
       "      <td id=\"T_431fa_row32_col1\" class=\"data row32 col1\" >$6,723,401.00</td>\n",
       "    </tr>\n",
       "    <tr>\n",
       "      <td id=\"T_431fa_row33_col0\" class=\"data row33 col0\" >Sacramento</td>\n",
       "      <td id=\"T_431fa_row33_col1\" class=\"data row33 col1\" >$5,117,233.55</td>\n",
       "    </tr>\n",
       "    <tr>\n",
       "      <td id=\"T_431fa_row34_col0\" class=\"data row34 col0\" >San Benito</td>\n",
       "      <td id=\"T_431fa_row34_col1\" class=\"data row34 col1\" >$533,600.00</td>\n",
       "    </tr>\n",
       "    <tr>\n",
       "      <td id=\"T_431fa_row35_col0\" class=\"data row35 col0\" >San Bernardino</td>\n",
       "      <td id=\"T_431fa_row35_col1\" class=\"data row35 col1\" >$3,637,150.00</td>\n",
       "    </tr>\n",
       "    <tr>\n",
       "      <td id=\"T_431fa_row36_col0\" class=\"data row36 col0\" >San Bernardino, Riverside, Los Angeles</td>\n",
       "      <td id=\"T_431fa_row36_col1\" class=\"data row36 col1\" >$320,411.00</td>\n",
       "    </tr>\n",
       "    <tr>\n",
       "      <td id=\"T_431fa_row37_col0\" class=\"data row37 col0\" >San Diego</td>\n",
       "      <td id=\"T_431fa_row37_col1\" class=\"data row37 col1\" >$2,077,171.00</td>\n",
       "    </tr>\n",
       "    <tr>\n",
       "      <td id=\"T_431fa_row38_col0\" class=\"data row38 col0\" >San Francisco</td>\n",
       "      <td id=\"T_431fa_row38_col1\" class=\"data row38 col1\" >$4,537,490.00</td>\n",
       "    </tr>\n",
       "    <tr>\n",
       "      <td id=\"T_431fa_row39_col0\" class=\"data row39 col0\" >San Francisco, Alameda, San Mateo, Santa Clara</td>\n",
       "      <td id=\"T_431fa_row39_col1\" class=\"data row39 col1\" >$242,098.00</td>\n",
       "    </tr>\n",
       "    <tr>\n",
       "      <td id=\"T_431fa_row40_col0\" class=\"data row40 col0\" >San Francisco, San Mateo, Santa Clara</td>\n",
       "      <td id=\"T_431fa_row40_col1\" class=\"data row40 col1\" >$876,400.00</td>\n",
       "    </tr>\n",
       "    <tr>\n",
       "      <td id=\"T_431fa_row41_col0\" class=\"data row41 col0\" >San Joaquin</td>\n",
       "      <td id=\"T_431fa_row41_col1\" class=\"data row41 col1\" >$1,882,471.00</td>\n",
       "    </tr>\n",
       "    <tr>\n",
       "      <td id=\"T_431fa_row42_col0\" class=\"data row42 col0\" >San Luis Obispo</td>\n",
       "      <td id=\"T_431fa_row42_col1\" class=\"data row42 col1\" >$1,941,324.00</td>\n",
       "    </tr>\n",
       "    <tr>\n",
       "      <td id=\"T_431fa_row43_col0\" class=\"data row43 col0\" >San Mateo</td>\n",
       "      <td id=\"T_431fa_row43_col1\" class=\"data row43 col1\" >$838,212.52</td>\n",
       "    </tr>\n",
       "    <tr>\n",
       "      <td id=\"T_431fa_row44_col0\" class=\"data row44 col0\" >Santa Barbara</td>\n",
       "      <td id=\"T_431fa_row44_col1\" class=\"data row44 col1\" >$2,151,408.60</td>\n",
       "    </tr>\n",
       "    <tr>\n",
       "      <td id=\"T_431fa_row45_col0\" class=\"data row45 col0\" >Santa Barbara, Monterey, San Luis Obispo</td>\n",
       "      <td id=\"T_431fa_row45_col1\" class=\"data row45 col1\" >$375,600.00</td>\n",
       "    </tr>\n",
       "    <tr>\n",
       "      <td id=\"T_431fa_row46_col0\" class=\"data row46 col0\" >Santa Clara</td>\n",
       "      <td id=\"T_431fa_row46_col1\" class=\"data row46 col1\" >$2,890,663.00</td>\n",
       "    </tr>\n",
       "    <tr>\n",
       "      <td id=\"T_431fa_row47_col0\" class=\"data row47 col0\" >Santa Clara, Alameda</td>\n",
       "      <td id=\"T_431fa_row47_col1\" class=\"data row47 col1\" >$1,586,425.00</td>\n",
       "    </tr>\n",
       "    <tr>\n",
       "      <td id=\"T_431fa_row48_col0\" class=\"data row48 col0\" >Santa Cruz</td>\n",
       "      <td id=\"T_431fa_row48_col1\" class=\"data row48 col1\" >$408,304.00</td>\n",
       "    </tr>\n",
       "    <tr>\n",
       "      <td id=\"T_431fa_row49_col0\" class=\"data row49 col0\" >Santa Cruz, San Benito, Santa Clara, Monterey</td>\n",
       "      <td id=\"T_431fa_row49_col1\" class=\"data row49 col1\" >$390,991.00</td>\n",
       "    </tr>\n",
       "    <tr>\n",
       "      <td id=\"T_431fa_row50_col0\" class=\"data row50 col0\" >Shasta</td>\n",
       "      <td id=\"T_431fa_row50_col1\" class=\"data row50 col1\" >$874,329.71</td>\n",
       "    </tr>\n",
       "    <tr>\n",
       "      <td id=\"T_431fa_row51_col0\" class=\"data row51 col0\" >Solano</td>\n",
       "      <td id=\"T_431fa_row51_col1\" class=\"data row51 col1\" >$2,006,537.00</td>\n",
       "    </tr>\n",
       "    <tr>\n",
       "      <td id=\"T_431fa_row52_col0\" class=\"data row52 col0\" >Sonoma</td>\n",
       "      <td id=\"T_431fa_row52_col1\" class=\"data row52 col1\" >$1,303,586.00</td>\n",
       "    </tr>\n",
       "    <tr>\n",
       "      <td id=\"T_431fa_row53_col0\" class=\"data row53 col0\" >Stanislaus</td>\n",
       "      <td id=\"T_431fa_row53_col1\" class=\"data row53 col1\" >$692,200.00</td>\n",
       "    </tr>\n",
       "    <tr>\n",
       "      <td id=\"T_431fa_row54_col0\" class=\"data row54 col0\" >Tehama</td>\n",
       "      <td id=\"T_431fa_row54_col1\" class=\"data row54 col1\" >$747,255.16</td>\n",
       "    </tr>\n",
       "    <tr>\n",
       "      <td id=\"T_431fa_row55_col0\" class=\"data row55 col0\" >Tulare</td>\n",
       "      <td id=\"T_431fa_row55_col1\" class=\"data row55 col1\" >$1,168,422.13</td>\n",
       "    </tr>\n",
       "    <tr>\n",
       "      <td id=\"T_431fa_row56_col0\" class=\"data row56 col0\" >Tuolumne</td>\n",
       "      <td id=\"T_431fa_row56_col1\" class=\"data row56 col1\" >$249,377.00</td>\n",
       "    </tr>\n",
       "    <tr>\n",
       "      <td id=\"T_431fa_row57_col0\" class=\"data row57 col0\" >Ventura</td>\n",
       "      <td id=\"T_431fa_row57_col1\" class=\"data row57 col1\" >$60,000.00</td>\n",
       "    </tr>\n",
       "    <tr>\n",
       "      <td id=\"T_431fa_row58_col0\" class=\"data row58 col0\" >Yolo</td>\n",
       "      <td id=\"T_431fa_row58_col1\" class=\"data row58 col1\" >$64,426.73</td>\n",
       "    </tr>\n",
       "  </tbody>\n",
       "</table>\n"
      ],
      "text/plain": [
       "<IPython.core.display.HTML object>"
      ]
     },
     "metadata": {},
     "output_type": "display_data"
    }
   ],
   "source": [
    "county = (df\n",
    " >> group_by(_.county)\n",
    " >> summarize(sum_allocated = _.allocationamount.sum())\n",
    ")\n",
    "\n",
    "county.sum_allocated = county.sum_allocated.map('${:,.2f}'.format)\n",
    "display(HTML(_dla_utils.pretify_tables2(county, \"County\", \"Sum Allocated\")))"
   ]
  },
  {
   "cell_type": "code",
   "execution_count": null,
   "id": "1a3835c4-f5d4-4840-9845-995722ecd5c2",
   "metadata": {
    "papermill": {
     "duration": 0.045367,
     "end_time": "2022-05-26T05:23:21.546211",
     "exception": false,
     "start_time": "2022-05-26T05:23:21.500844",
     "status": "completed"
    },
    "tags": []
   },
   "outputs": [],
   "source": []
  },
  {
   "cell_type": "code",
   "execution_count": null,
   "id": "f115f62d-241a-47ef-bd64-20e3fa9cca74",
   "metadata": {
    "papermill": {
     "duration": 0.044103,
     "end_time": "2022-05-26T05:23:21.639433",
     "exception": false,
     "start_time": "2022-05-26T05:23:21.595330",
     "status": "completed"
    },
    "tags": []
   },
   "outputs": [],
   "source": []
  },
  {
   "cell_type": "code",
   "execution_count": null,
   "id": "3383e776-da92-47ad-8b5c-c504fbd1164f",
   "metadata": {
    "papermill": {
     "duration": 0.043646,
     "end_time": "2022-05-26T05:23:21.727093",
     "exception": false,
     "start_time": "2022-05-26T05:23:21.683447",
     "status": "completed"
    },
    "tags": []
   },
   "outputs": [],
   "source": []
  }
 ],
 "metadata": {
  "kernelspec": {
   "display_name": "Python 3 (ipykernel)",
   "language": "python",
   "name": "python3"
  },
  "language_info": {
   "codemirror_mode": {
    "name": "ipython",
    "version": 3
   },
   "file_extension": ".py",
   "mimetype": "text/x-python",
   "name": "python",
   "nbconvert_exporter": "python",
   "pygments_lexer": "ipython3",
   "version": "3.9.12"
  },
  "papermill": {
   "default_parameters": {},
   "duration": 18.635383,
   "end_time": "2022-05-26T05:23:22.794688",
   "environment_variables": {},
   "exception": null,
   "input_path": "5310_report_work.ipynb",
   "output_path": "5310_report_output.ipynb",
   "parameters": {},
   "start_time": "2022-05-26T05:23:04.159305",
   "version": "2.3.4"
  },
  "widgets": {
   "application/vnd.jupyter.widget-state+json": {
    "state": {},
    "version_major": 2,
    "version_minor": 0
   }
  }
 },
 "nbformat": 4,
 "nbformat_minor": 5
}