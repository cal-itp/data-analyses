{
 "cells": [
  {
   "cell_type": "code",
   "execution_count": 1,
   "id": "e1ebf6aa-4275-44d9-83b5-9b99b7fceb9a",
   "metadata": {
    "execution": {
     "iopub.execute_input": "2022-05-27T17:48:34.546955Z",
     "iopub.status.busy": "2022-05-27T17:48:34.546647Z",
     "iopub.status.idle": "2022-05-27T17:48:34.555336Z",
     "shell.execute_reply": "2022-05-27T17:48:34.554783Z"
    },
    "papermill": {
     "duration": 0.040743,
     "end_time": "2022-05-27T17:48:34.557374",
     "exception": false,
     "start_time": "2022-05-27T17:48:34.516631",
     "status": "completed"
    },
    "tags": []
   },
   "outputs": [],
   "source": [
    "import warnings\n",
    "warnings.filterwarnings('ignore')"
   ]
  },
  {
   "cell_type": "markdown",
   "id": "3283b7e9-f056-43d7-aef4-3e5820708aaa",
   "metadata": {
    "papermill": {
     "duration": 0.026329,
     "end_time": "2022-05-27T17:48:34.612950",
     "exception": false,
     "start_time": "2022-05-27T17:48:34.586621",
     "status": "completed"
    },
    "tags": []
   },
   "source": [
    "# **5310 Organizations**\n",
    "### Enhanced Mobility of Seniors & Individuals with Disabilities\n",
    "\n",
    "***"
   ]
  },
  {
   "cell_type": "markdown",
   "id": "1987a99b-c650-4e44-823e-e1b3cdda1a98",
   "metadata": {
    "jp-MarkdownHeadingCollapsed": true,
    "papermill": {
     "duration": 0.027769,
     "end_time": "2022-05-27T17:48:34.668053",
     "exception": false,
     "start_time": "2022-05-27T17:48:34.640284",
     "status": "completed"
    },
    "tags": []
   },
   "source": [
    "Looking into 5310 Organizations with the following project types:\n",
    "*  purchasing wheelchair accessible vehicle\n",
    "* on-demand scheduling \n",
    "* dispatching software platforms"
   ]
  },
  {
   "cell_type": "code",
   "execution_count": 2,
   "id": "90a4e032-3017-4279-a7e7-895f292a0168",
   "metadata": {
    "execution": {
     "iopub.execute_input": "2022-05-27T17:48:34.731924Z",
     "iopub.status.busy": "2022-05-27T17:48:34.731582Z",
     "iopub.status.idle": "2022-05-27T17:48:43.065438Z",
     "shell.execute_reply": "2022-05-27T17:48:43.064367Z"
    },
    "papermill": {
     "duration": 8.371453,
     "end_time": "2022-05-27T17:48:43.068410",
     "exception": false,
     "start_time": "2022-05-27T17:48:34.696957",
     "status": "completed"
    },
    "tags": []
   },
   "outputs": [],
   "source": [
    "import pandas as pd\n",
    "from siuba import *\n",
    "import numpy as np\n",
    "\n",
    "from dla_utils import _dla_utils\n",
    "\n",
    "from IPython.display import display, Markdown, HTML, display_html"
   ]
  },
  {
   "cell_type": "code",
   "execution_count": 3,
   "id": "cc9496e4-0e66-4cd4-957b-2c1b0ace703b",
   "metadata": {
    "execution": {
     "iopub.execute_input": "2022-05-27T17:48:43.125709Z",
     "iopub.status.busy": "2022-05-27T17:48:43.125373Z",
     "iopub.status.idle": "2022-05-27T17:48:43.147140Z",
     "shell.execute_reply": "2022-05-27T17:48:43.146337Z"
    },
    "papermill": {
     "duration": 0.053038,
     "end_time": "2022-05-27T17:48:43.149806",
     "exception": false,
     "start_time": "2022-05-27T17:48:43.096768",
     "status": "completed"
    },
    "tags": []
   },
   "outputs": [],
   "source": [
    "df = pd.read_csv('5310_info_pt.csv')"
   ]
  },
  {
   "cell_type": "code",
   "execution_count": 4,
   "id": "3250b427-6717-40f6-8be3-4b90aa731313",
   "metadata": {
    "execution": {
     "iopub.execute_input": "2022-05-27T17:48:43.204837Z",
     "iopub.status.busy": "2022-05-27T17:48:43.204566Z",
     "iopub.status.idle": "2022-05-27T17:48:43.304019Z",
     "shell.execute_reply": "2022-05-27T17:48:43.303234Z"
    },
    "papermill": {
     "duration": 0.1307,
     "end_time": "2022-05-27T17:48:43.306167",
     "exception": false,
     "start_time": "2022-05-27T17:48:43.175467",
     "status": "completed"
    },
    "tags": []
   },
   "outputs": [],
   "source": [
    "grouped =pd.read_csv('gs://calitp-analytics-data/data-analyses/5310/5310_org_info_manualfill.csv')"
   ]
  },
  {
   "cell_type": "code",
   "execution_count": 5,
   "id": "2c6a684a-a28a-4af3-9e37-dc868b581fff",
   "metadata": {
    "execution": {
     "iopub.execute_input": "2022-05-27T17:48:43.363834Z",
     "iopub.status.busy": "2022-05-27T17:48:43.363098Z",
     "iopub.status.idle": "2022-05-27T17:48:43.399897Z",
     "shell.execute_reply": "2022-05-27T17:48:43.399085Z"
    },
    "papermill": {
     "duration": 0.069422,
     "end_time": "2022-05-27T17:48:43.402001",
     "exception": false,
     "start_time": "2022-05-27T17:48:43.332579",
     "status": "completed"
    },
    "tags": []
   },
   "outputs": [
    {
     "data": {
      "text/html": [
       "\n",
       "<div id=\"altair-viz-f41fc1dd242a4cd08e5bfa9a0c9751f7\"></div>\n",
       "<script type=\"text/javascript\">\n",
       "  var VEGA_DEBUG = (typeof VEGA_DEBUG == \"undefined\") ? {} : VEGA_DEBUG;\n",
       "  (function(spec, embedOpt){\n",
       "    let outputDiv = document.currentScript.previousElementSibling;\n",
       "    if (outputDiv.id !== \"altair-viz-f41fc1dd242a4cd08e5bfa9a0c9751f7\") {\n",
       "      outputDiv = document.getElementById(\"altair-viz-f41fc1dd242a4cd08e5bfa9a0c9751f7\");\n",
       "    }\n",
       "    const paths = {\n",
       "      \"vega\": \"https://cdn.jsdelivr.net/npm//vega@5?noext\",\n",
       "      \"vega-lib\": \"https://cdn.jsdelivr.net/npm//vega-lib?noext\",\n",
       "      \"vega-lite\": \"https://cdn.jsdelivr.net/npm//vega-lite@4.17.0?noext\",\n",
       "      \"vega-embed\": \"https://cdn.jsdelivr.net/npm//vega-embed@6?noext\",\n",
       "    };\n",
       "\n",
       "    function maybeLoadScript(lib, version) {\n",
       "      var key = `${lib.replace(\"-\", \"\")}_version`;\n",
       "      return (VEGA_DEBUG[key] == version) ?\n",
       "        Promise.resolve(paths[lib]) :\n",
       "        new Promise(function(resolve, reject) {\n",
       "          var s = document.createElement('script');\n",
       "          document.getElementsByTagName(\"head\")[0].appendChild(s);\n",
       "          s.async = true;\n",
       "          s.onload = () => {\n",
       "            VEGA_DEBUG[key] = version;\n",
       "            return resolve(paths[lib]);\n",
       "          };\n",
       "          s.onerror = () => reject(`Error loading script: ${paths[lib]}`);\n",
       "          s.src = paths[lib];\n",
       "        });\n",
       "    }\n",
       "\n",
       "    function showError(err) {\n",
       "      outputDiv.innerHTML = `<div class=\"error\" style=\"color:red;\">${err}</div>`;\n",
       "      throw err;\n",
       "    }\n",
       "\n",
       "    function displayChart(vegaEmbed) {\n",
       "      vegaEmbed(outputDiv, spec, embedOpt)\n",
       "        .catch(err => showError(`Javascript Error: ${err.message}<br>This usually means there's a typo in your chart specification. See the javascript console for the full traceback.`));\n",
       "    }\n",
       "\n",
       "    if(typeof define === \"function\" && define.amd) {\n",
       "      requirejs.config({paths});\n",
       "      require([\"vega-embed\"], displayChart, err => showError(`Error loading script: ${err.message}`));\n",
       "    } else {\n",
       "      maybeLoadScript(\"vega\", \"5\")\n",
       "        .then(() => maybeLoadScript(\"vega-lite\", \"4.17.0\"))\n",
       "        .then(() => maybeLoadScript(\"vega-embed\", \"6\"))\n",
       "        .catch(showError)\n",
       "        .then(() => displayChart(vegaEmbed));\n",
       "    }\n",
       "  })({\"config\": {\"view\": {\"continuousWidth\": 400, \"continuousHeight\": 300}, \"axis\": {\"domainColor\": \"#cbcbcb\", \"grid\": true, \"gridColor\": \"#cbcbcb\", \"gridWidth\": 1, \"labelColor\": \"#474747\", \"labelFont\": \"Nunito Sans\", \"labelFontSize\": 10, \"labelPadding\": 4, \"tickColor\": \"#cbcbcb\", \"tickSize\": 10, \"titleColor\": \"#333\", \"titleFont\": \"Raleway\", \"titleFontSize\": 12, \"titlePadding\": 10}, \"axisBand\": {\"grid\": false}, \"background\": \"white\", \"font\": \"Raleway\", \"header\": {\"labelFont\": \"Nunito Sans\", \"titleFont\": \"Raleway\"}, \"legend\": {\"labelColor\": \"#333\", \"labelFont\": \"Nunito Sans\", \"labelFontSize\": 11, \"labelLimit\": 0, \"padding\": 1, \"symbolSize\": 30, \"symbolType\": \"square\", \"titleColor\": \"#333\", \"titleFont\": \"Raleway\", \"titleFontSize\": 14, \"titlePadding\": 10}, \"title\": {\"anchor\": \"middle\", \"font\": \"Raleway\", \"fontSize\": 18, \"fontWeight\": 300, \"offset\": 20}}, \"data\": {\"name\": \"data-a64594febd956212f57f371d3cf36998\"}, \"mark\": \"bar\", \"encoding\": {\"color\": {\"field\": \"organization_type\", \"legend\": {\"symbolLimit\": 10, \"title\": \"Organization Type\"}, \"scale\": {\"range\": [\"#2EA8CE\", \"#EB9F3C\", \"#F4D837\", \"#51BF9D\", \"#8CBCCB\", \"#9487C0\"]}, \"type\": \"nominal\"}, \"x\": {\"field\": \"organization_type\", \"sort\": \"-y\", \"title\": \"Organization Type\", \"type\": \"nominal\"}, \"y\": {\"field\": \"n\", \"title\": \"Count\", \"type\": \"quantitative\"}}, \"height\": 250, \"title\": \"5310 Organization Types\", \"width\": 400, \"$schema\": \"https://vega.github.io/schema/vega-lite/v4.17.0.json\", \"datasets\": {\"data-a64594febd956212f57f371d3cf36998\": [{\"organization_type\": \"City, County or Local Government Unit or Department of Transportation\", \"n\": 12}, {\"organization_type\": \"Company\", \"n\": 4}, {\"organization_type\": \"Independent Agency\", \"n\": 5}, {\"organization_type\": \"Independent Public Agency or Authority of Transit Service\", \"n\": 28}, {\"organization_type\": \"MPO/RTPA\", \"n\": 3}, {\"organization_type\": \"Non-Profit Organization\", \"n\": 90}, {\"organization_type\": \"Other\", \"n\": 3}, {\"organization_type\": \"Private-Non-Profit Corporation\", \"n\": 1}, {\"organization_type\": \"University\", \"n\": 1}]}}, {\"mode\": \"vega-lite\"});\n",
       "</script>"
      ],
      "text/plain": [
       "alt.Chart(...)"
      ]
     },
     "execution_count": 5,
     "metadata": {},
     "output_type": "execute_result"
    }
   ],
   "source": [
    "org_counts = grouped >> count(_.organization_type)\n",
    "org_types = _dla_utils.bar_chart_nosubset(\n",
    "    org_counts, \"organization_type\", \"n\", \"organization_type\", \"5310 Organization Types\"\n",
    ")\n",
    "org_types"
   ]
  },
  {
   "cell_type": "code",
   "execution_count": 6,
   "id": "1eade0b4-d58a-49a9-8ea5-da8972691f9c",
   "metadata": {
    "execution": {
     "iopub.execute_input": "2022-05-27T17:48:43.462456Z",
     "iopub.status.busy": "2022-05-27T17:48:43.462177Z",
     "iopub.status.idle": "2022-05-27T17:48:43.489685Z",
     "shell.execute_reply": "2022-05-27T17:48:43.488918Z"
    },
    "papermill": {
     "duration": 0.058538,
     "end_time": "2022-05-27T17:48:43.491548",
     "exception": false,
     "start_time": "2022-05-27T17:48:43.433010",
     "status": "completed"
    },
    "tags": []
   },
   "outputs": [
    {
     "data": {
      "text/html": [
       "\n",
       "<div id=\"altair-viz-77d03947c53a4057ba56e2444326b5ce\"></div>\n",
       "<script type=\"text/javascript\">\n",
       "  var VEGA_DEBUG = (typeof VEGA_DEBUG == \"undefined\") ? {} : VEGA_DEBUG;\n",
       "  (function(spec, embedOpt){\n",
       "    let outputDiv = document.currentScript.previousElementSibling;\n",
       "    if (outputDiv.id !== \"altair-viz-77d03947c53a4057ba56e2444326b5ce\") {\n",
       "      outputDiv = document.getElementById(\"altair-viz-77d03947c53a4057ba56e2444326b5ce\");\n",
       "    }\n",
       "    const paths = {\n",
       "      \"vega\": \"https://cdn.jsdelivr.net/npm//vega@5?noext\",\n",
       "      \"vega-lib\": \"https://cdn.jsdelivr.net/npm//vega-lib?noext\",\n",
       "      \"vega-lite\": \"https://cdn.jsdelivr.net/npm//vega-lite@4.17.0?noext\",\n",
       "      \"vega-embed\": \"https://cdn.jsdelivr.net/npm//vega-embed@6?noext\",\n",
       "    };\n",
       "\n",
       "    function maybeLoadScript(lib, version) {\n",
       "      var key = `${lib.replace(\"-\", \"\")}_version`;\n",
       "      return (VEGA_DEBUG[key] == version) ?\n",
       "        Promise.resolve(paths[lib]) :\n",
       "        new Promise(function(resolve, reject) {\n",
       "          var s = document.createElement('script');\n",
       "          document.getElementsByTagName(\"head\")[0].appendChild(s);\n",
       "          s.async = true;\n",
       "          s.onload = () => {\n",
       "            VEGA_DEBUG[key] = version;\n",
       "            return resolve(paths[lib]);\n",
       "          };\n",
       "          s.onerror = () => reject(`Error loading script: ${paths[lib]}`);\n",
       "          s.src = paths[lib];\n",
       "        });\n",
       "    }\n",
       "\n",
       "    function showError(err) {\n",
       "      outputDiv.innerHTML = `<div class=\"error\" style=\"color:red;\">${err}</div>`;\n",
       "      throw err;\n",
       "    }\n",
       "\n",
       "    function displayChart(vegaEmbed) {\n",
       "      vegaEmbed(outputDiv, spec, embedOpt)\n",
       "        .catch(err => showError(`Javascript Error: ${err.message}<br>This usually means there's a typo in your chart specification. See the javascript console for the full traceback.`));\n",
       "    }\n",
       "\n",
       "    if(typeof define === \"function\" && define.amd) {\n",
       "      requirejs.config({paths});\n",
       "      require([\"vega-embed\"], displayChart, err => showError(`Error loading script: ${err.message}`));\n",
       "    } else {\n",
       "      maybeLoadScript(\"vega\", \"5\")\n",
       "        .then(() => maybeLoadScript(\"vega-lite\", \"4.17.0\"))\n",
       "        .then(() => maybeLoadScript(\"vega-embed\", \"6\"))\n",
       "        .catch(showError)\n",
       "        .then(() => displayChart(vegaEmbed));\n",
       "    }\n",
       "  })({\"config\": {\"view\": {\"continuousWidth\": 400, \"continuousHeight\": 300}, \"axis\": {\"domainColor\": \"#cbcbcb\", \"grid\": true, \"gridColor\": \"#cbcbcb\", \"gridWidth\": 1, \"labelColor\": \"#474747\", \"labelFont\": \"Nunito Sans\", \"labelFontSize\": 10, \"labelPadding\": 4, \"tickColor\": \"#cbcbcb\", \"tickSize\": 10, \"titleColor\": \"#333\", \"titleFont\": \"Raleway\", \"titleFontSize\": 12, \"titlePadding\": 10}, \"axisBand\": {\"grid\": false}, \"background\": \"white\", \"font\": \"Raleway\", \"header\": {\"labelFont\": \"Nunito Sans\", \"titleFont\": \"Raleway\"}, \"legend\": {\"labelColor\": \"#333\", \"labelFont\": \"Nunito Sans\", \"labelFontSize\": 11, \"labelLimit\": 0, \"padding\": 1, \"symbolSize\": 30, \"symbolType\": \"square\", \"titleColor\": \"#333\", \"titleFont\": \"Raleway\", \"titleFontSize\": 14, \"titlePadding\": 10}, \"title\": {\"anchor\": \"middle\", \"font\": \"Raleway\", \"fontSize\": 18, \"fontWeight\": 300, \"offset\": 20}}, \"data\": {\"name\": \"data-811c6713922061ce69ead7e74299d89e\"}, \"mark\": \"bar\", \"encoding\": {\"color\": {\"field\": \"county\", \"legend\": {\"symbolLimit\": 10, \"title\": \"County\"}, \"scale\": {\"range\": [\"#2EA8CE\", \"#EB9F3C\", \"#F4D837\", \"#51BF9D\", \"#8CBCCB\", \"#9487C0\"]}, \"type\": \"nominal\"}, \"x\": {\"field\": \"county\", \"sort\": \"-y\", \"title\": \"County\", \"type\": \"nominal\"}, \"y\": {\"field\": \"n\", \"title\": \"Count\", \"type\": \"quantitative\"}}, \"height\": 250, \"title\": \"Counties with 5310 Organizations (Single County)\", \"width\": 400, \"$schema\": \"https://vega.github.io/schema/vega-lite/v4.17.0.json\", \"datasets\": {\"data-811c6713922061ce69ead7e74299d89e\": [{\"county\": \"Alameda\", \"n\": 29}, {\"county\": \"Amador\", \"n\": 4}, {\"county\": \"Butte\", \"n\": 26}, {\"county\": \"Calaveras\", \"n\": 2}, {\"county\": \"Colusa\", \"n\": 4}, {\"county\": \"Contra Costa\", \"n\": 36}, {\"county\": \"Del Norte\", \"n\": 4}, {\"county\": \"El Dorado\", \"n\": 12}, {\"county\": \"Humboldt\", \"n\": 29}, {\"county\": \"Imperial\", \"n\": 11}, {\"county\": \"Inyo\", \"n\": 10}, {\"county\": \"Kern\", \"n\": 78}, {\"county\": \"Kings\", \"n\": 30}, {\"county\": \"Lake\", \"n\": 8}, {\"county\": \"Marin\", \"n\": 27}, {\"county\": \"Mendocino\", \"n\": 13}, {\"county\": \"Monterey\", \"n\": 26}, {\"county\": \"Napa\", \"n\": 4}, {\"county\": \"Nevada\", \"n\": 12}, {\"county\": \"Placer\", \"n\": 52}, {\"county\": \"Riverside\", \"n\": 84}, {\"county\": \"Sacramento\", \"n\": 80}, {\"county\": \"San Benito\", \"n\": 6}, {\"county\": \"San Bernardino\", \"n\": 41}, {\"county\": \"San Diego\", \"n\": 13}, {\"county\": \"San Francisco\", \"n\": 69}, {\"county\": \"San Joaquin\", \"n\": 30}, {\"county\": \"San Luis Obispo\", \"n\": 51}, {\"county\": \"San Mateo\", \"n\": 6}, {\"county\": \"Santa Barbara\", \"n\": 36}, {\"county\": \"Santa Clara\", \"n\": 19}, {\"county\": \"Santa Cruz\", \"n\": 8}, {\"county\": \"Shasta\", \"n\": 11}, {\"county\": \"Solano\", \"n\": 26}, {\"county\": \"Sonoma\", \"n\": 15}, {\"county\": \"Stanislaus\", \"n\": 16}, {\"county\": \"Tehama\", \"n\": 14}, {\"county\": \"Tulare\", \"n\": 22}, {\"county\": \"Tuolumne\", \"n\": 3}, {\"county\": \"Ventura\", \"n\": 1}, {\"county\": \"Yolo\", \"n\": 6}]}}, {\"mode\": \"vega-lite\"});\n",
       "</script>"
      ],
      "text/plain": [
       "alt.Chart(...)"
      ]
     },
     "execution_count": 6,
     "metadata": {},
     "output_type": "execute_result"
    }
   ],
   "source": [
    "single_county = df[~df[\"county\"].str.contains(\",\", na=False)]\n",
    "counties_org_s = _dla_utils.bar_chart_nosubset((single_county>>count(_.county)),\n",
    "    \"county\",\n",
    "    \"n\",\n",
    "    \"county\",\n",
    "    \"Counties with 5310 Organizations (Single County)\"\n",
    ")\n",
    "counties_org_s"
   ]
  },
  {
   "cell_type": "code",
   "execution_count": 7,
   "id": "e6e14fbb-99a1-43ab-adcc-9eab771525aa",
   "metadata": {
    "execution": {
     "iopub.execute_input": "2022-05-27T17:48:43.550995Z",
     "iopub.status.busy": "2022-05-27T17:48:43.550456Z",
     "iopub.status.idle": "2022-05-27T17:48:43.589229Z",
     "shell.execute_reply": "2022-05-27T17:48:43.588472Z"
    },
    "papermill": {
     "duration": 0.070244,
     "end_time": "2022-05-27T17:48:43.591165",
     "exception": false,
     "start_time": "2022-05-27T17:48:43.520921",
     "status": "completed"
    },
    "tags": []
   },
   "outputs": [
    {
     "data": {
      "text/html": [
       "\n",
       "<div id=\"altair-viz-b82673cc1bac498fb588829dfb7b71e5\"></div>\n",
       "<script type=\"text/javascript\">\n",
       "  var VEGA_DEBUG = (typeof VEGA_DEBUG == \"undefined\") ? {} : VEGA_DEBUG;\n",
       "  (function(spec, embedOpt){\n",
       "    let outputDiv = document.currentScript.previousElementSibling;\n",
       "    if (outputDiv.id !== \"altair-viz-b82673cc1bac498fb588829dfb7b71e5\") {\n",
       "      outputDiv = document.getElementById(\"altair-viz-b82673cc1bac498fb588829dfb7b71e5\");\n",
       "    }\n",
       "    const paths = {\n",
       "      \"vega\": \"https://cdn.jsdelivr.net/npm//vega@5?noext\",\n",
       "      \"vega-lib\": \"https://cdn.jsdelivr.net/npm//vega-lib?noext\",\n",
       "      \"vega-lite\": \"https://cdn.jsdelivr.net/npm//vega-lite@4.17.0?noext\",\n",
       "      \"vega-embed\": \"https://cdn.jsdelivr.net/npm//vega-embed@6?noext\",\n",
       "    };\n",
       "\n",
       "    function maybeLoadScript(lib, version) {\n",
       "      var key = `${lib.replace(\"-\", \"\")}_version`;\n",
       "      return (VEGA_DEBUG[key] == version) ?\n",
       "        Promise.resolve(paths[lib]) :\n",
       "        new Promise(function(resolve, reject) {\n",
       "          var s = document.createElement('script');\n",
       "          document.getElementsByTagName(\"head\")[0].appendChild(s);\n",
       "          s.async = true;\n",
       "          s.onload = () => {\n",
       "            VEGA_DEBUG[key] = version;\n",
       "            return resolve(paths[lib]);\n",
       "          };\n",
       "          s.onerror = () => reject(`Error loading script: ${paths[lib]}`);\n",
       "          s.src = paths[lib];\n",
       "        });\n",
       "    }\n",
       "\n",
       "    function showError(err) {\n",
       "      outputDiv.innerHTML = `<div class=\"error\" style=\"color:red;\">${err}</div>`;\n",
       "      throw err;\n",
       "    }\n",
       "\n",
       "    function displayChart(vegaEmbed) {\n",
       "      vegaEmbed(outputDiv, spec, embedOpt)\n",
       "        .catch(err => showError(`Javascript Error: ${err.message}<br>This usually means there's a typo in your chart specification. See the javascript console for the full traceback.`));\n",
       "    }\n",
       "\n",
       "    if(typeof define === \"function\" && define.amd) {\n",
       "      requirejs.config({paths});\n",
       "      require([\"vega-embed\"], displayChart, err => showError(`Error loading script: ${err.message}`));\n",
       "    } else {\n",
       "      maybeLoadScript(\"vega\", \"5\")\n",
       "        .then(() => maybeLoadScript(\"vega-lite\", \"4.17.0\"))\n",
       "        .then(() => maybeLoadScript(\"vega-embed\", \"6\"))\n",
       "        .catch(showError)\n",
       "        .then(() => displayChart(vegaEmbed));\n",
       "    }\n",
       "  })({\"config\": {\"view\": {\"continuousWidth\": 400, \"continuousHeight\": 300}, \"axis\": {\"domainColor\": \"#cbcbcb\", \"grid\": true, \"gridColor\": \"#cbcbcb\", \"gridWidth\": 1, \"labelColor\": \"#474747\", \"labelFont\": \"Nunito Sans\", \"labelFontSize\": 10, \"labelPadding\": 4, \"tickColor\": \"#cbcbcb\", \"tickSize\": 10, \"titleColor\": \"#333\", \"titleFont\": \"Raleway\", \"titleFontSize\": 12, \"titlePadding\": 10}, \"axisBand\": {\"grid\": false}, \"background\": \"white\", \"font\": \"Raleway\", \"header\": {\"labelFont\": \"Nunito Sans\", \"titleFont\": \"Raleway\"}, \"legend\": {\"labelColor\": \"#333\", \"labelFont\": \"Nunito Sans\", \"labelFontSize\": 11, \"labelLimit\": 0, \"padding\": 1, \"symbolSize\": 30, \"symbolType\": \"square\", \"titleColor\": \"#333\", \"titleFont\": \"Raleway\", \"titleFontSize\": 14, \"titlePadding\": 10}, \"title\": {\"anchor\": \"middle\", \"font\": \"Raleway\", \"fontSize\": 18, \"fontWeight\": 300, \"offset\": 20}}, \"data\": {\"name\": \"data-3d2f5442b3540fccf2124d9d9ddae466\"}, \"mark\": \"bar\", \"encoding\": {\"color\": {\"field\": \"county\", \"legend\": {\"symbolLimit\": 10, \"title\": \"County\"}, \"scale\": {\"range\": [\"#2EA8CE\", \"#EB9F3C\", \"#F4D837\", \"#51BF9D\", \"#8CBCCB\", \"#9487C0\"]}, \"type\": \"nominal\"}, \"x\": {\"field\": \"county\", \"sort\": \"-y\", \"title\": \"County\", \"type\": \"nominal\"}, \"y\": {\"field\": \"n\", \"title\": \"Count\", \"type\": \"quantitative\"}}, \"height\": 250, \"title\": \"Counties with 5310 Organizations Operating\", \"width\": 400, \"$schema\": \"https://vega.github.io/schema/vega-lite/v4.17.0.json\", \"datasets\": {\"data-3d2f5442b3540fccf2124d9d9ddae466\": [{\"county\": \"Alameda\", \"n\": 70}, {\"county\": \"Amador\", \"n\": 22}, {\"county\": \"Butte\", \"n\": 29}, {\"county\": \"Calaveras\", \"n\": 20}, {\"county\": \"Carson City\", \"n\": 1}, {\"county\": \"Colusa\", \"n\": 4}, {\"county\": \"Contra Costa\", \"n\": 60}, {\"county\": \"De Norte\", \"n\": 1}, {\"county\": \"Del Norte\", \"n\": 4}, {\"county\": \"Douglas\", \"n\": 1}, {\"county\": \"El Dorado\", \"n\": 12}, {\"county\": \"Glen\", \"n\": 3}, {\"county\": \"Humboldt\", \"n\": 30}, {\"county\": \"Imperial\", \"n\": 11}, {\"county\": \"Inyo\", \"n\": 12}, {\"county\": \"Kern\", \"n\": 78}, {\"county\": \"Kings\", \"n\": 30}, {\"county\": \"Lake\", \"n\": 8}, {\"county\": \"Lassen\", \"n\": 1}, {\"county\": \"Los Angeles\", \"n\": 6}, {\"county\": \"Marin\", \"n\": 27}, {\"county\": \"Mendocino\", \"n\": 13}, {\"county\": \"Modoc\", \"n\": 1}, {\"county\": \"Mono\", \"n\": 2}, {\"county\": \"Monterey\", \"n\": 56}, {\"county\": \"Napa\", \"n\": 9}, {\"county\": \"Nevada\", \"n\": 17}, {\"county\": \"Orange\", \"n\": 2}, {\"county\": \"Placer\", \"n\": 53}, {\"county\": \"Riverside\", \"n\": 90}, {\"county\": \"Sacramento\", \"n\": 85}, {\"county\": \"San Benito\", \"n\": 34}, {\"county\": \"San Bernardino\", \"n\": 47}, {\"county\": \"San Diego\", \"n\": 13}, {\"county\": \"San Francisco\", \"n\": 120}, {\"county\": \"San Joaquin\", \"n\": 30}, {\"county\": \"San Luis Obispo\", \"n\": 53}, {\"county\": \"San Mateo\", \"n\": 57}, {\"county\": \"Santa Barbara\", \"n\": 38}, {\"county\": \"Santa Clara\", \"n\": 86}, {\"county\": \"Santa Cruz\", \"n\": 10}, {\"county\": \"Shasta\", \"n\": 11}, {\"county\": \"Sierra\", \"n\": 5}, {\"county\": \"Solano\", \"n\": 31}, {\"county\": \"Sonoma\", \"n\": 15}, {\"county\": \"Stanislaus\", \"n\": 16}, {\"county\": \"Tehama\", \"n\": 14}, {\"county\": \"Tulare\", \"n\": 22}, {\"county\": \"Tuolumne\", \"n\": 14}, {\"county\": \"Ventura\", \"n\": 3}, {\"county\": \"Washoe\", \"n\": 1}, {\"county\": \"Yolo\", \"n\": 6}]}}, {\"mode\": \"vega-lite\"});\n",
       "</script>"
      ],
      "text/plain": [
       "alt.Chart(...)"
      ]
     },
     "execution_count": 7,
     "metadata": {},
     "output_type": "execute_result"
    }
   ],
   "source": [
    "county_explode = df>>select(_.organization_name, _.ntd_id, _.itp_id, _.organization_type, _.city, _.county, _.merge_status)\n",
    "county_explode.explode('county')\n",
    "\n",
    "county_explode2 = county_explode.assign(county_split = df['county'].str.split(', ')).drop(\"county\", axis=1)\\\n",
    "    .rename(columns = {\"county_split\": \"county\"})\n",
    "county_explode2 = county_explode2.explode('county')\n",
    "\n",
    "counties_org_op = _dla_utils.bar_chart_nosubset((county_explode2>>count(_.county)),\n",
    "    \"county\",\n",
    "    \"n\",\n",
    "    \"county\",\n",
    "    \"Counties with 5310 Organizations Operating\"\n",
    ")\n",
    "counties_org_op"
   ]
  },
  {
   "cell_type": "code",
   "execution_count": null,
   "id": "61afe2ef-5eac-49fa-8f39-6b90797e70c1",
   "metadata": {
    "papermill": {
     "duration": 0.029131,
     "end_time": "2022-05-27T17:48:43.649417",
     "exception": false,
     "start_time": "2022-05-27T17:48:43.620286",
     "status": "completed"
    },
    "tags": []
   },
   "outputs": [],
   "source": []
  },
  {
   "cell_type": "markdown",
   "id": "729a3a29-97e8-4b27-8315-a5d42e7f4575",
   "metadata": {
    "papermill": {
     "duration": 0.030208,
     "end_time": "2022-05-27T17:48:43.706697",
     "exception": false,
     "start_time": "2022-05-27T17:48:43.676489",
     "status": "completed"
    },
    "tags": []
   },
   "source": [
    "## Project Types\n",
    "***"
   ]
  },
  {
   "cell_type": "code",
   "execution_count": 8,
   "id": "c86d16f7-5006-4d76-b9e9-9f0645a61624",
   "metadata": {
    "execution": {
     "iopub.execute_input": "2022-05-27T17:48:43.764653Z",
     "iopub.status.busy": "2022-05-27T17:48:43.764326Z",
     "iopub.status.idle": "2022-05-27T17:48:43.985481Z",
     "shell.execute_reply": "2022-05-27T17:48:43.984781Z"
    },
    "papermill": {
     "duration": 0.253308,
     "end_time": "2022-05-27T17:48:43.988064",
     "exception": false,
     "start_time": "2022-05-27T17:48:43.734756",
     "status": "completed"
    },
    "tags": []
   },
   "outputs": [],
   "source": [
    "ptype_counts = (df\n",
    " >>group_by(_.organization_name)\n",
    " >>summarize(n_vp = _.vehicle_purchase.sum(), \n",
    "            n_oa = _.operating_assistance.sum(),\n",
    "            n_mm = _.mobility_management.sum(),\n",
    "            n_hsp = _.hardware_software_purchase.sum(),\n",
    "            n_c = _.communications.sum(),\n",
    "            n_fe = _.facilities_eqp.sum(),\n",
    "             n_s = _.surveillance.sum(),\n",
    "             n_sub = _.subsidy.sum()\n",
    "            )\n",
    ")"
   ]
  },
  {
   "cell_type": "code",
   "execution_count": 9,
   "id": "784c3bd5-0305-404b-bdd9-20722df1baba",
   "metadata": {
    "execution": {
     "iopub.execute_input": "2022-05-27T17:48:44.065692Z",
     "iopub.status.busy": "2022-05-27T17:48:44.064963Z",
     "iopub.status.idle": "2022-05-27T17:48:44.069910Z",
     "shell.execute_reply": "2022-05-27T17:48:44.069354Z"
    },
    "papermill": {
     "duration": 0.053498,
     "end_time": "2022-05-27T17:48:44.071764",
     "exception": false,
     "start_time": "2022-05-27T17:48:44.018266",
     "status": "completed"
    },
    "tags": []
   },
   "outputs": [],
   "source": [
    "# columns = ['n_vp','n_oa','n_mm','n_hsp','n_c','n_fe','n_s','n_sub']\n",
    "\n",
    "# for column in columns: \n",
    "#     ptype_counts.column[ptype_counts[column]> 0] = 1\n",
    "\n",
    "#WORKED for getting yes/no present\n",
    "## from https://stackoverflow.com/questions/61996932/replacing-values-greater-1-in-a-large-pandas-dataframe\n",
    "\n",
    "#ptype_counts.set_index('organization_name',inplace=True)\n",
    "#ptype_counts[ptype_counts >= 1] = 'Yes'\n",
    "#ptype_counts.reset_index()\n",
    "\n",
    "#ptype_counts = ptype_counts.replace(0, 'No')\n",
    "\n",
    "#ptype_counts.to_csv('single_counts_2.csv')\n",
    "\n",
    "# # def project_present(df):\n",
    "# #     columns = ['n_vp','n_oa','n_mm','n_hsp','n_c','n_fe','n_s','n_sub']\n",
    "# #     if df.column != 0:\n",
    "# #         return 1\n",
    "# #     else:\n",
    "# #         return 0\n",
    "\n",
    "# # for column in columns:\n",
    "# #     df[f\"{column}_2\"] = df.apply(lambda x: project_present(x), axis=1)\n",
    "    \n",
    "    \n",
    "    \n",
    "# columns = ['n_vp','n_oa','n_mm','n_hsp','n_c','n_fe','n_s','n_sub']\n",
    "\n",
    "# for column in columns:\n",
    "#     ptype_counts[f\"{column}_2\"] = ptype_counts[column].any(1).astype(int)"
   ]
  },
  {
   "cell_type": "code",
   "execution_count": 10,
   "id": "fa90b69d-1c5f-4a72-8708-67a90bbd5e90",
   "metadata": {
    "execution": {
     "iopub.execute_input": "2022-05-27T17:48:44.135883Z",
     "iopub.status.busy": "2022-05-27T17:48:44.135596Z",
     "iopub.status.idle": "2022-05-27T17:48:44.142773Z",
     "shell.execute_reply": "2022-05-27T17:48:44.141971Z"
    },
    "papermill": {
     "duration": 0.03837,
     "end_time": "2022-05-27T17:48:44.144552",
     "exception": false,
     "start_time": "2022-05-27T17:48:44.106182",
     "status": "completed"
    },
    "tags": []
   },
   "outputs": [],
   "source": [
    "ptype_counts.set_index('organization_name',inplace=True)\n",
    "ptype_counts[ptype_counts >= 1] = 1\n",
    "ptype_counts = ptype_counts.reset_index()"
   ]
  },
  {
   "cell_type": "code",
   "execution_count": 11,
   "id": "8eb30ee2-c237-43ef-975a-c5205c4fae23",
   "metadata": {
    "execution": {
     "iopub.execute_input": "2022-05-27T17:48:44.203437Z",
     "iopub.status.busy": "2022-05-27T17:48:44.202605Z",
     "iopub.status.idle": "2022-05-27T17:48:44.227466Z",
     "shell.execute_reply": "2022-05-27T17:48:44.226734Z"
    },
    "papermill": {
     "duration": 0.05811,
     "end_time": "2022-05-27T17:48:44.229350",
     "exception": false,
     "start_time": "2022-05-27T17:48:44.171240",
     "status": "completed"
    },
    "tags": []
   },
   "outputs": [
    {
     "data": {
      "text/html": [
       "\n",
       "<div id=\"altair-viz-daaf4aa6ead642d4b2bc37c36f7825c2\"></div>\n",
       "<script type=\"text/javascript\">\n",
       "  var VEGA_DEBUG = (typeof VEGA_DEBUG == \"undefined\") ? {} : VEGA_DEBUG;\n",
       "  (function(spec, embedOpt){\n",
       "    let outputDiv = document.currentScript.previousElementSibling;\n",
       "    if (outputDiv.id !== \"altair-viz-daaf4aa6ead642d4b2bc37c36f7825c2\") {\n",
       "      outputDiv = document.getElementById(\"altair-viz-daaf4aa6ead642d4b2bc37c36f7825c2\");\n",
       "    }\n",
       "    const paths = {\n",
       "      \"vega\": \"https://cdn.jsdelivr.net/npm//vega@5?noext\",\n",
       "      \"vega-lib\": \"https://cdn.jsdelivr.net/npm//vega-lib?noext\",\n",
       "      \"vega-lite\": \"https://cdn.jsdelivr.net/npm//vega-lite@4.17.0?noext\",\n",
       "      \"vega-embed\": \"https://cdn.jsdelivr.net/npm//vega-embed@6?noext\",\n",
       "    };\n",
       "\n",
       "    function maybeLoadScript(lib, version) {\n",
       "      var key = `${lib.replace(\"-\", \"\")}_version`;\n",
       "      return (VEGA_DEBUG[key] == version) ?\n",
       "        Promise.resolve(paths[lib]) :\n",
       "        new Promise(function(resolve, reject) {\n",
       "          var s = document.createElement('script');\n",
       "          document.getElementsByTagName(\"head\")[0].appendChild(s);\n",
       "          s.async = true;\n",
       "          s.onload = () => {\n",
       "            VEGA_DEBUG[key] = version;\n",
       "            return resolve(paths[lib]);\n",
       "          };\n",
       "          s.onerror = () => reject(`Error loading script: ${paths[lib]}`);\n",
       "          s.src = paths[lib];\n",
       "        });\n",
       "    }\n",
       "\n",
       "    function showError(err) {\n",
       "      outputDiv.innerHTML = `<div class=\"error\" style=\"color:red;\">${err}</div>`;\n",
       "      throw err;\n",
       "    }\n",
       "\n",
       "    function displayChart(vegaEmbed) {\n",
       "      vegaEmbed(outputDiv, spec, embedOpt)\n",
       "        .catch(err => showError(`Javascript Error: ${err.message}<br>This usually means there's a typo in your chart specification. See the javascript console for the full traceback.`));\n",
       "    }\n",
       "\n",
       "    if(typeof define === \"function\" && define.amd) {\n",
       "      requirejs.config({paths});\n",
       "      require([\"vega-embed\"], displayChart, err => showError(`Error loading script: ${err.message}`));\n",
       "    } else {\n",
       "      maybeLoadScript(\"vega\", \"5\")\n",
       "        .then(() => maybeLoadScript(\"vega-lite\", \"4.17.0\"))\n",
       "        .then(() => maybeLoadScript(\"vega-embed\", \"6\"))\n",
       "        .catch(showError)\n",
       "        .then(() => displayChart(vegaEmbed));\n",
       "    }\n",
       "  })({\"config\": {\"view\": {\"continuousWidth\": 400, \"continuousHeight\": 300}, \"axis\": {\"domainColor\": \"#cbcbcb\", \"grid\": true, \"gridColor\": \"#cbcbcb\", \"gridWidth\": 1, \"labelColor\": \"#474747\", \"labelFont\": \"Nunito Sans\", \"labelFontSize\": 10, \"labelPadding\": 4, \"tickColor\": \"#cbcbcb\", \"tickSize\": 10, \"titleColor\": \"#333\", \"titleFont\": \"Raleway\", \"titleFontSize\": 12, \"titlePadding\": 10}, \"axisBand\": {\"grid\": false}, \"background\": \"white\", \"font\": \"Raleway\", \"header\": {\"labelFont\": \"Nunito Sans\", \"titleFont\": \"Raleway\"}, \"legend\": {\"labelColor\": \"#333\", \"labelFont\": \"Nunito Sans\", \"labelFontSize\": 11, \"labelLimit\": 0, \"padding\": 1, \"symbolSize\": 30, \"symbolType\": \"square\", \"titleColor\": \"#333\", \"titleFont\": \"Raleway\", \"titleFontSize\": 14, \"titlePadding\": 10}, \"title\": {\"anchor\": \"middle\", \"font\": \"Raleway\", \"fontSize\": 18, \"fontWeight\": 300, \"offset\": 20}}, \"data\": {\"name\": \"data-2e86ca2ab50e53252d015717e8a08c5c\"}, \"mark\": \"bar\", \"encoding\": {\"color\": {\"field\": \"Project Types\", \"legend\": {\"symbolLimit\": 10, \"title\": \"Project Types\"}, \"scale\": {\"range\": [\"#2EA8CE\", \"#EB9F3C\", \"#F4D837\", \"#51BF9D\", \"#8CBCCB\", \"#9487C0\"]}, \"type\": \"nominal\"}, \"x\": {\"field\": \"Project Types\", \"sort\": \"-y\", \"title\": \"Project Types\", \"type\": \"nominal\"}, \"y\": {\"field\": \"Count\", \"title\": \"Count\", \"type\": \"quantitative\"}}, \"height\": 250, \"title\": \"Number of Organizations using Project Types\", \"width\": 400, \"$schema\": \"https://vega.github.io/schema/vega-lite/v4.17.0.json\", \"datasets\": {\"data-2e86ca2ab50e53252d015717e8a08c5c\": [{\"Project Types\": \"Vehicle Purchase\", \"Count\": 92}, {\"Project Types\": \"Operating Assistance\", \"Count\": 65}, {\"Project Types\": \"Mobility Management\", \"Count\": 35}, {\"Project Types\": \"Hardware/Software Purchase\", \"Count\": 11}, {\"Project Types\": \"Communications\", \"Count\": 9}, {\"Project Types\": \"Facilities Equipment\", \"Count\": 5}, {\"Project Types\": \"Surveillance\", \"Count\": 4}, {\"Project Types\": \"Subsidies\", \"Count\": 1}]}}, {\"mode\": \"vega-lite\"});\n",
       "</script>"
      ],
      "text/plain": [
       "alt.Chart(...)"
      ]
     },
     "execution_count": 11,
     "metadata": {},
     "output_type": "execute_result"
    }
   ],
   "source": [
    "sum_ptype = ((ptype_counts).rename(columns = _dla_utils.labeling)\n",
    "               .agg({'Vehicle Purchase':'sum', 'Operating Assistance':'sum',\n",
    "                      'Mobility Management':'sum','Hardware/Software Purchase':'sum','Communications':'sum',\n",
    "                     'Facilities Equipment':'sum', 'Surveillance':'sum', 'Subsidies':'sum'}).reset_index())\n",
    "sum_ptype = sum_ptype.rename(columns = {\"index\":\"Project Types\",0:\"Count\"})\n",
    "chart_project_types =_dla_utils.bar_chart_nosubset((sum_ptype),\n",
    "    \"Project Types\",\n",
    "    \"Count\",\n",
    "    \"Project Types\",\n",
    "    \"Number of Organizations using Project Types\"\n",
    ")\n",
    "chart_project_types"
   ]
  },
  {
   "cell_type": "code",
   "execution_count": null,
   "id": "b5c01a2b-521f-4b54-891c-ac2aa0a80c79",
   "metadata": {
    "papermill": {
     "duration": 0.032759,
     "end_time": "2022-05-27T17:48:44.290707",
     "exception": false,
     "start_time": "2022-05-27T17:48:44.257948",
     "status": "completed"
    },
    "tags": []
   },
   "outputs": [],
   "source": []
  },
  {
   "cell_type": "code",
   "execution_count": 12,
   "id": "0ccd3d4b-e122-4804-8b25-9ff7c828a163",
   "metadata": {
    "execution": {
     "iopub.execute_input": "2022-05-27T17:48:44.351120Z",
     "iopub.status.busy": "2022-05-27T17:48:44.350469Z",
     "iopub.status.idle": "2022-05-27T17:48:44.451169Z",
     "shell.execute_reply": "2022-05-27T17:48:44.450455Z"
    },
    "papermill": {
     "duration": 0.133399,
     "end_time": "2022-05-27T17:48:44.453239",
     "exception": false,
     "start_time": "2022-05-27T17:48:44.319840",
     "status": "completed"
    },
    "tags": []
   },
   "outputs": [],
   "source": [
    "cols = [\n",
    "        \"n_vp\",\n",
    "        \"n_oa\",\n",
    "        \"n_mm\",\n",
    "        \"n_hsp\",\n",
    "        \"n_c\",\n",
    "        \"n_fe\",\n",
    "        \"n_s\",\n",
    "        \"n_sub\"]\n",
    "d2 = {}\n",
    "for i in cols:\n",
    "    org_counts = ((ptype_counts \n",
    "                  >> filter(_[i] == 1)\n",
    "                  >> count(_['organization_name'])\n",
    "                  >> select(_['organization_name'])\n",
    "                  )              \n",
    "                  .rename(columns={'organization_name':f\"Organizations with {_dla_utils.labeling(i)} Project Types\"})\n",
    "                  )\n",
    "    d2[str(i)] = ((_dla_utils.pretify_tables(org_counts)))"
   ]
  },
  {
   "cell_type": "code",
   "execution_count": 13,
   "id": "ebf64ee4-4216-4472-af81-2232334ed942",
   "metadata": {
    "execution": {
     "iopub.execute_input": "2022-05-27T17:48:44.512253Z",
     "iopub.status.busy": "2022-05-27T17:48:44.511666Z",
     "iopub.status.idle": "2022-05-27T17:48:44.516758Z",
     "shell.execute_reply": "2022-05-27T17:48:44.516252Z"
    },
    "papermill": {
     "duration": 0.036947,
     "end_time": "2022-05-27T17:48:44.518464",
     "exception": false,
     "start_time": "2022-05-27T17:48:44.481517",
     "status": "completed"
    },
    "tags": []
   },
   "outputs": [],
   "source": [
    "table11 = d2['n_vp']\n",
    "table22 = d2['n_oa']\n",
    "table33 = d2['n_mm']\n",
    "table44 = d2['n_hsp']\n",
    "table55 = d2['n_c']\n",
    "table66 = d2['n_fe']\n",
    "table77 = d2['n_s']\n",
    "table88 = d2['n_sub']"
   ]
  },
  {
   "cell_type": "markdown",
   "id": "f59fc17e-7b1b-404d-b723-6627e3b88bef",
   "metadata": {
    "papermill": {
     "duration": 0.029869,
     "end_time": "2022-05-27T17:48:44.576047",
     "exception": false,
     "start_time": "2022-05-27T17:48:44.546178",
     "status": "completed"
    },
    "tags": []
   },
   "source": [
    "### Organizations by Project Type"
   ]
  },
  {
   "cell_type": "code",
   "execution_count": 14,
   "id": "0d518251-b587-49c8-99c0-8aa0edbce60f",
   "metadata": {
    "execution": {
     "iopub.execute_input": "2022-05-27T17:48:44.639086Z",
     "iopub.status.busy": "2022-05-27T17:48:44.638279Z",
     "iopub.status.idle": "2022-05-27T17:48:44.645237Z",
     "shell.execute_reply": "2022-05-27T17:48:44.644424Z"
    },
    "papermill": {
     "duration": 0.040795,
     "end_time": "2022-05-27T17:48:44.647148",
     "exception": false,
     "start_time": "2022-05-27T17:48:44.606353",
     "status": "completed"
    },
    "tags": []
   },
   "outputs": [
    {
     "data": {
      "text/html": [
       "<style type=\"text/css\">\n",
       "#T_7ebf9 th {\n",
       "  text-align: center;\n",
       "}\n",
       "#T_7ebf9_row0_col0, #T_7ebf9_row1_col0, #T_7ebf9_row2_col0, #T_7ebf9_row3_col0, #T_7ebf9_row4_col0, #T_7ebf9_row5_col0, #T_7ebf9_row6_col0, #T_7ebf9_row7_col0, #T_7ebf9_row8_col0, #T_7ebf9_row9_col0, #T_7ebf9_row10_col0, #T_7ebf9_row11_col0, #T_7ebf9_row12_col0, #T_7ebf9_row13_col0, #T_7ebf9_row14_col0, #T_7ebf9_row15_col0, #T_7ebf9_row16_col0, #T_7ebf9_row17_col0, #T_7ebf9_row18_col0, #T_7ebf9_row19_col0, #T_7ebf9_row20_col0, #T_7ebf9_row21_col0, #T_7ebf9_row22_col0, #T_7ebf9_row23_col0, #T_7ebf9_row24_col0, #T_7ebf9_row25_col0, #T_7ebf9_row26_col0, #T_7ebf9_row27_col0, #T_7ebf9_row28_col0, #T_7ebf9_row29_col0, #T_7ebf9_row30_col0, #T_7ebf9_row31_col0, #T_7ebf9_row32_col0, #T_7ebf9_row33_col0, #T_7ebf9_row34_col0, #T_7ebf9_row35_col0, #T_7ebf9_row36_col0, #T_7ebf9_row37_col0, #T_7ebf9_row38_col0, #T_7ebf9_row39_col0, #T_7ebf9_row40_col0, #T_7ebf9_row41_col0, #T_7ebf9_row42_col0, #T_7ebf9_row43_col0, #T_7ebf9_row44_col0, #T_7ebf9_row45_col0, #T_7ebf9_row46_col0, #T_7ebf9_row47_col0, #T_7ebf9_row48_col0, #T_7ebf9_row49_col0, #T_7ebf9_row50_col0, #T_7ebf9_row51_col0, #T_7ebf9_row52_col0, #T_7ebf9_row53_col0, #T_7ebf9_row54_col0, #T_7ebf9_row55_col0, #T_7ebf9_row56_col0, #T_7ebf9_row57_col0, #T_7ebf9_row58_col0, #T_7ebf9_row59_col0, #T_7ebf9_row60_col0, #T_7ebf9_row61_col0, #T_7ebf9_row62_col0, #T_7ebf9_row63_col0, #T_7ebf9_row64_col0, #T_7ebf9_row65_col0, #T_7ebf9_row66_col0, #T_7ebf9_row67_col0, #T_7ebf9_row68_col0, #T_7ebf9_row69_col0, #T_7ebf9_row70_col0, #T_7ebf9_row71_col0, #T_7ebf9_row72_col0, #T_7ebf9_row73_col0, #T_7ebf9_row74_col0, #T_7ebf9_row75_col0, #T_7ebf9_row76_col0, #T_7ebf9_row77_col0, #T_7ebf9_row78_col0, #T_7ebf9_row79_col0, #T_7ebf9_row80_col0, #T_7ebf9_row81_col0, #T_7ebf9_row82_col0, #T_7ebf9_row83_col0, #T_7ebf9_row84_col0, #T_7ebf9_row85_col0, #T_7ebf9_row86_col0, #T_7ebf9_row87_col0, #T_7ebf9_row88_col0, #T_7ebf9_row89_col0, #T_7ebf9_row90_col0, #T_7ebf9_row91_col0 {\n",
       "  text-align: center;\n",
       "}\n",
       "</style>\n",
       "<table style=\"display:inline\" id=\"T_7ebf9\">\n",
       "  <thead>\n",
       "    <tr>\n",
       "      <th id=\"T_7ebf9_level0_col0\" class=\"col_heading level0 col0\" >Organizations With Vehicle Purchase Project Types</th>\n",
       "    </tr>\n",
       "  </thead>\n",
       "  <tbody>\n",
       "    <tr>\n",
       "      <td id=\"T_7ebf9_row0_col0\" class=\"data row0 col0\" >ARC Bakersfield</td>\n",
       "    </tr>\n",
       "    <tr>\n",
       "      <td id=\"T_7ebf9_row1_col0\" class=\"data row1 col0\" >ARC Imperial Valley</td>\n",
       "    </tr>\n",
       "    <tr>\n",
       "      <td id=\"T_7ebf9_row2_col0\" class=\"data row2 col0\" >Able Industries</td>\n",
       "    </tr>\n",
       "    <tr>\n",
       "      <td id=\"T_7ebf9_row3_col0\" class=\"data row3 col0\" >Alegria Community Living</td>\n",
       "    </tr>\n",
       "    <tr>\n",
       "      <td id=\"T_7ebf9_row4_col0\" class=\"data row4 col0\" >Angel View Inc</td>\n",
       "    </tr>\n",
       "    <tr>\n",
       "      <td id=\"T_7ebf9_row5_col0\" class=\"data row5 col0\" >Asian Community Center of Sacramento Valley Inc DBA ACC Senior Services</td>\n",
       "    </tr>\n",
       "    <tr>\n",
       "      <td id=\"T_7ebf9_row6_col0\" class=\"data row6 col0\" >Avenidas </td>\n",
       "    </tr>\n",
       "    <tr>\n",
       "      <td id=\"T_7ebf9_row7_col0\" class=\"data row7 col0\" >Bay Area Outreach & Recreation Program Inc</td>\n",
       "    </tr>\n",
       "    <tr>\n",
       "      <td id=\"T_7ebf9_row8_col0\" class=\"data row8 col0\" >Big Valley 50 Plus</td>\n",
       "    </tr>\n",
       "    <tr>\n",
       "      <td id=\"T_7ebf9_row9_col0\" class=\"data row9 col0\" >Butte County Association of Governments  Butte Regional Transit</td>\n",
       "    </tr>\n",
       "    <tr>\n",
       "      <td id=\"T_7ebf9_row10_col0\" class=\"data row10 col0\" >Calaveras County Public Works</td>\n",
       "    </tr>\n",
       "    <tr>\n",
       "      <td id=\"T_7ebf9_row11_col0\" class=\"data row11 col0\" >Care-A-Van Transit Systems Inc</td>\n",
       "    </tr>\n",
       "    <tr>\n",
       "      <td id=\"T_7ebf9_row12_col0\" class=\"data row12 col0\" >Casa Allegra Community Services</td>\n",
       "    </tr>\n",
       "    <tr>\n",
       "      <td id=\"T_7ebf9_row13_col0\" class=\"data row13 col0\" >Catholic Charities of the Diocese of Stockton</td>\n",
       "    </tr>\n",
       "    <tr>\n",
       "      <td id=\"T_7ebf9_row14_col0\" class=\"data row14 col0\" >Center for Elders' Independence </td>\n",
       "    </tr>\n",
       "    <tr>\n",
       "      <td id=\"T_7ebf9_row15_col0\" class=\"data row15 col0\" >Choice in Aging</td>\n",
       "    </tr>\n",
       "    <tr>\n",
       "      <td id=\"T_7ebf9_row16_col0\" class=\"data row16 col0\" >City of Fontana</td>\n",
       "    </tr>\n",
       "    <tr>\n",
       "      <td id=\"T_7ebf9_row17_col0\" class=\"data row17 col0\" >City of Santa Rosa</td>\n",
       "    </tr>\n",
       "    <tr>\n",
       "      <td id=\"T_7ebf9_row18_col0\" class=\"data row18 col0\" >Coastal Seniors Inc</td>\n",
       "    </tr>\n",
       "    <tr>\n",
       "      <td id=\"T_7ebf9_row19_col0\" class=\"data row19 col0\" >Colusa County Transit Agency</td>\n",
       "    </tr>\n",
       "    <tr>\n",
       "      <td id=\"T_7ebf9_row20_col0\" class=\"data row20 col0\" >Common Ground Senior Services</td>\n",
       "    </tr>\n",
       "    <tr>\n",
       "      <td id=\"T_7ebf9_row21_col0\" class=\"data row21 col0\" >Community Bridges Liftline</td>\n",
       "    </tr>\n",
       "    <tr>\n",
       "      <td id=\"T_7ebf9_row22_col0\" class=\"data row22 col0\" >Consolidated Tribal Health Project Inc</td>\n",
       "    </tr>\n",
       "    <tr>\n",
       "      <td id=\"T_7ebf9_row23_col0\" class=\"data row23 col0\" >Contra Costa ARC</td>\n",
       "    </tr>\n",
       "    <tr>\n",
       "      <td id=\"T_7ebf9_row24_col0\" class=\"data row24 col0\" >County of Nevada Public Works Transit Services Division</td>\n",
       "    </tr>\n",
       "    <tr>\n",
       "      <td id=\"T_7ebf9_row25_col0\" class=\"data row25 col0\" >Delano Association for the Developmentally Disabled Inc</td>\n",
       "    </tr>\n",
       "    <tr>\n",
       "      <td id=\"T_7ebf9_row26_col0\" class=\"data row26 col0\" >Desert ARC</td>\n",
       "    </tr>\n",
       "    <tr>\n",
       "      <td id=\"T_7ebf9_row27_col0\" class=\"data row27 col0\" >Desert Area Resources and Training</td>\n",
       "    </tr>\n",
       "    <tr>\n",
       "      <td id=\"T_7ebf9_row28_col0\" class=\"data row28 col0\" >Dignity Community Care</td>\n",
       "    </tr>\n",
       "    <tr>\n",
       "      <td id=\"T_7ebf9_row29_col0\" class=\"data row29 col0\" >Dignity Health Connected Living</td>\n",
       "    </tr>\n",
       "    <tr>\n",
       "      <td id=\"T_7ebf9_row30_col0\" class=\"data row30 col0\" >East Bay Services to the Developmentally Disabled </td>\n",
       "    </tr>\n",
       "    <tr>\n",
       "      <td id=\"T_7ebf9_row31_col0\" class=\"data row31 col0\" >Eastern Sierra Transit Authority</td>\n",
       "    </tr>\n",
       "    <tr>\n",
       "      <td id=\"T_7ebf9_row32_col0\" class=\"data row32 col0\" >Easy Lift Transportation Inc</td>\n",
       "    </tr>\n",
       "    <tr>\n",
       "      <td id=\"T_7ebf9_row33_col0\" class=\"data row33 col0\" >El Dorado County Transit Authority</td>\n",
       "    </tr>\n",
       "    <tr>\n",
       "      <td id=\"T_7ebf9_row34_col0\" class=\"data row34 col0\" >Family Bridges Inc</td>\n",
       "    </tr>\n",
       "    <tr>\n",
       "      <td id=\"T_7ebf9_row35_col0\" class=\"data row35 col0\" >Foothill AIDS Project</td>\n",
       "    </tr>\n",
       "    <tr>\n",
       "      <td id=\"T_7ebf9_row36_col0\" class=\"data row36 col0\" >Friends of Adult Day Health Care Centers</td>\n",
       "    </tr>\n",
       "    <tr>\n",
       "      <td id=\"T_7ebf9_row37_col0\" class=\"data row37 col0\" >Friends of Children with Special Needs</td>\n",
       "    </tr>\n",
       "    <tr>\n",
       "      <td id=\"T_7ebf9_row38_col0\" class=\"data row38 col0\" >Futures Explored Inc</td>\n",
       "    </tr>\n",
       "    <tr>\n",
       "      <td id=\"T_7ebf9_row39_col0\" class=\"data row39 col0\" >Golden Rain Foundation of Walnut Creek</td>\n",
       "    </tr>\n",
       "    <tr>\n",
       "      <td id=\"T_7ebf9_row40_col0\" class=\"data row40 col0\" >Howard Prep</td>\n",
       "    </tr>\n",
       "    <tr>\n",
       "      <td id=\"T_7ebf9_row41_col0\" class=\"data row41 col0\" >Humboldt Medi-Trans</td>\n",
       "    </tr>\n",
       "    <tr>\n",
       "      <td id=\"T_7ebf9_row42_col0\" class=\"data row42 col0\" >Humboldt Senior Resource Center</td>\n",
       "    </tr>\n",
       "    <tr>\n",
       "      <td id=\"T_7ebf9_row43_col0\" class=\"data row43 col0\" >Humboldt Transit Authority</td>\n",
       "    </tr>\n",
       "    <tr>\n",
       "      <td id=\"T_7ebf9_row44_col0\" class=\"data row44 col0\" >Institute on Aging </td>\n",
       "    </tr>\n",
       "    <tr>\n",
       "      <td id=\"T_7ebf9_row45_col0\" class=\"data row45 col0\" >Inyo-Mono Association for the Handicapped</td>\n",
       "    </tr>\n",
       "    <tr>\n",
       "      <td id=\"T_7ebf9_row46_col0\" class=\"data row46 col0\" >Kimochi Inc</td>\n",
       "    </tr>\n",
       "    <tr>\n",
       "      <td id=\"T_7ebf9_row47_col0\" class=\"data row47 col0\" >Kings Rehabilitation Center</td>\n",
       "    </tr>\n",
       "    <tr>\n",
       "      <td id=\"T_7ebf9_row48_col0\" class=\"data row48 col0\" >Life Steps Foundation Inc Santa Maria</td>\n",
       "    </tr>\n",
       "    <tr>\n",
       "      <td id=\"T_7ebf9_row49_col0\" class=\"data row49 col0\" >Lodi Memorial Hospital Association Inc Adult Day Services</td>\n",
       "    </tr>\n",
       "    <tr>\n",
       "      <td id=\"T_7ebf9_row50_col0\" class=\"data row50 col0\" >Loma Linda University Health</td>\n",
       "    </tr>\n",
       "    <tr>\n",
       "      <td id=\"T_7ebf9_row51_col0\" class=\"data row51 col0\" >MOVE Stanislaus Transportation</td>\n",
       "    </tr>\n",
       "    <tr>\n",
       "      <td id=\"T_7ebf9_row52_col0\" class=\"data row52 col0\" >Milestones of Development INC</td>\n",
       "    </tr>\n",
       "    <tr>\n",
       "      <td id=\"T_7ebf9_row53_col0\" class=\"data row53 col0\" >Monterey-Salinas Transit</td>\n",
       "    </tr>\n",
       "    <tr>\n",
       "      <td id=\"T_7ebf9_row54_col0\" class=\"data row54 col0\" >Mountain Shadows Support Group</td>\n",
       "    </tr>\n",
       "    <tr>\n",
       "      <td id=\"T_7ebf9_row55_col0\" class=\"data row55 col0\" >Napa Valley Transportation Authority</td>\n",
       "    </tr>\n",
       "    <tr>\n",
       "      <td id=\"T_7ebf9_row56_col0\" class=\"data row56 col0\" >New Advances for People with Disabilities</td>\n",
       "    </tr>\n",
       "    <tr>\n",
       "      <td id=\"T_7ebf9_row57_col0\" class=\"data row57 col0\" >North Valley Services</td>\n",
       "    </tr>\n",
       "    <tr>\n",
       "      <td id=\"T_7ebf9_row58_col0\" class=\"data row58 col0\" >North and South of Market Adult Day Health</td>\n",
       "    </tr>\n",
       "    <tr>\n",
       "      <td id=\"T_7ebf9_row59_col0\" class=\"data row59 col0\" >North of the River Recreation and Park District</td>\n",
       "    </tr>\n",
       "    <tr>\n",
       "      <td id=\"T_7ebf9_row60_col0\" class=\"data row60 col0\" >OPARC</td>\n",
       "    </tr>\n",
       "    <tr>\n",
       "      <td id=\"T_7ebf9_row61_col0\" class=\"data row61 col0\" >Omnitrans</td>\n",
       "    </tr>\n",
       "    <tr>\n",
       "      <td id=\"T_7ebf9_row62_col0\" class=\"data row62 col0\" >On Lok Senior Health Services</td>\n",
       "    </tr>\n",
       "    <tr>\n",
       "      <td id=\"T_7ebf9_row63_col0\" class=\"data row63 col0\" >Pace Solano</td>\n",
       "    </tr>\n",
       "    <tr>\n",
       "      <td id=\"T_7ebf9_row64_col0\" class=\"data row64 col0\" >Palo Verde Valley Transit Agency</td>\n",
       "    </tr>\n",
       "    <tr>\n",
       "      <td id=\"T_7ebf9_row65_col0\" class=\"data row65 col0\" >Paratransit Services (Red Bluff)</td>\n",
       "    </tr>\n",
       "    <tr>\n",
       "      <td id=\"T_7ebf9_row66_col0\" class=\"data row66 col0\" >Peppermint Ridge</td>\n",
       "    </tr>\n",
       "    <tr>\n",
       "      <td id=\"T_7ebf9_row67_col0\" class=\"data row67 col0\" >Pomeroy Recreation & Rehabilitation Center</td>\n",
       "    </tr>\n",
       "    <tr>\n",
       "      <td id=\"T_7ebf9_row68_col0\" class=\"data row68 col0\" >Porterville Sheltered Workshop</td>\n",
       "    </tr>\n",
       "    <tr>\n",
       "      <td id=\"T_7ebf9_row69_col0\" class=\"data row69 col0\" >Pride Industries One Inc</td>\n",
       "    </tr>\n",
       "    <tr>\n",
       "      <td id=\"T_7ebf9_row70_col0\" class=\"data row70 col0\" >Redwood Coast Seniors Inc</td>\n",
       "    </tr>\n",
       "    <tr>\n",
       "      <td id=\"T_7ebf9_row71_col0\" class=\"data row71 col0\" >Redwood Coast Transit Authority</td>\n",
       "    </tr>\n",
       "    <tr>\n",
       "      <td id=\"T_7ebf9_row72_col0\" class=\"data row72 col0\" >Regents of the University of California Santa Cruz</td>\n",
       "    </tr>\n",
       "    <tr>\n",
       "      <td id=\"T_7ebf9_row73_col0\" class=\"data row73 col0\" >SAHA</td>\n",
       "    </tr>\n",
       "    <tr>\n",
       "      <td id=\"T_7ebf9_row74_col0\" class=\"data row74 col0\" >SMOOTH</td>\n",
       "    </tr>\n",
       "    <tr>\n",
       "      <td id=\"T_7ebf9_row75_col0\" class=\"data row75 col0\" >San Benito County Local Transportation Authority</td>\n",
       "    </tr>\n",
       "    <tr>\n",
       "      <td id=\"T_7ebf9_row76_col0\" class=\"data row76 col0\" >San Joaquin Regional Transit District</td>\n",
       "    </tr>\n",
       "    <tr>\n",
       "      <td id=\"T_7ebf9_row77_col0\" class=\"data row77 col0\" >Self-Help for the Elderly</td>\n",
       "    </tr>\n",
       "    <tr>\n",
       "      <td id=\"T_7ebf9_row78_col0\" class=\"data row78 col0\" >Shores of Hope </td>\n",
       "    </tr>\n",
       "    <tr>\n",
       "      <td id=\"T_7ebf9_row79_col0\" class=\"data row79 col0\" >Sunline Transit Agency</td>\n",
       "    </tr>\n",
       "    <tr>\n",
       "      <td id=\"T_7ebf9_row80_col0\" class=\"data row80 col0\" >The Arc of Amador and Calaveras</td>\n",
       "    </tr>\n",
       "    <tr>\n",
       "      <td id=\"T_7ebf9_row81_col0\" class=\"data row81 col0\" >The Respite Inn</td>\n",
       "    </tr>\n",
       "    <tr>\n",
       "      <td id=\"T_7ebf9_row82_col0\" class=\"data row82 col0\" >Ukiah Senior Center Inc</td>\n",
       "    </tr>\n",
       "    <tr>\n",
       "      <td id=\"T_7ebf9_row83_col0\" class=\"data row83 col0\" >United Cerebral Palsy Association Inc of Stanislaus County</td>\n",
       "    </tr>\n",
       "    <tr>\n",
       "      <td id=\"T_7ebf9_row84_col0\" class=\"data row84 col0\" >United Cerebral Palsy Association of Greater Sacramento Inc</td>\n",
       "    </tr>\n",
       "    <tr>\n",
       "      <td id=\"T_7ebf9_row85_col0\" class=\"data row85 col0\" >United Cerebral Palsy of San Luis Obispo County </td>\n",
       "    </tr>\n",
       "    <tr>\n",
       "      <td id=\"T_7ebf9_row86_col0\" class=\"data row86 col0\" >Valley Achievement Center</td>\n",
       "    </tr>\n",
       "    <tr>\n",
       "      <td id=\"T_7ebf9_row87_col0\" class=\"data row87 col0\" >Valley Resource Center</td>\n",
       "    </tr>\n",
       "    <tr>\n",
       "      <td id=\"T_7ebf9_row88_col0\" class=\"data row88 col0\" >Victor Valley Community Services Council</td>\n",
       "    </tr>\n",
       "    <tr>\n",
       "      <td id=\"T_7ebf9_row89_col0\" class=\"data row89 col0\" >Victor Valley Transit Authority</td>\n",
       "    </tr>\n",
       "    <tr>\n",
       "      <td id=\"T_7ebf9_row90_col0\" class=\"data row90 col0\" >Vivalon Inc</td>\n",
       "    </tr>\n",
       "    <tr>\n",
       "      <td id=\"T_7ebf9_row91_col0\" class=\"data row91 col0\" >Work Training Center</td>\n",
       "    </tr>\n",
       "  </tbody>\n",
       "</table style=\"display:inline\">\n",
       "<style type=\"text/css\">\n",
       "#T_23db8 th {\n",
       "  text-align: center;\n",
       "}\n",
       "#T_23db8_row0_col0, #T_23db8_row1_col0, #T_23db8_row2_col0, #T_23db8_row3_col0, #T_23db8_row4_col0, #T_23db8_row5_col0, #T_23db8_row6_col0, #T_23db8_row7_col0, #T_23db8_row8_col0, #T_23db8_row9_col0, #T_23db8_row10_col0, #T_23db8_row11_col0, #T_23db8_row12_col0, #T_23db8_row13_col0, #T_23db8_row14_col0, #T_23db8_row15_col0, #T_23db8_row16_col0, #T_23db8_row17_col0, #T_23db8_row18_col0, #T_23db8_row19_col0, #T_23db8_row20_col0, #T_23db8_row21_col0, #T_23db8_row22_col0, #T_23db8_row23_col0, #T_23db8_row24_col0, #T_23db8_row25_col0, #T_23db8_row26_col0, #T_23db8_row27_col0, #T_23db8_row28_col0, #T_23db8_row29_col0, #T_23db8_row30_col0, #T_23db8_row31_col0, #T_23db8_row32_col0, #T_23db8_row33_col0, #T_23db8_row34_col0, #T_23db8_row35_col0, #T_23db8_row36_col0, #T_23db8_row37_col0, #T_23db8_row38_col0, #T_23db8_row39_col0, #T_23db8_row40_col0, #T_23db8_row41_col0, #T_23db8_row42_col0, #T_23db8_row43_col0, #T_23db8_row44_col0, #T_23db8_row45_col0, #T_23db8_row46_col0, #T_23db8_row47_col0, #T_23db8_row48_col0, #T_23db8_row49_col0, #T_23db8_row50_col0, #T_23db8_row51_col0, #T_23db8_row52_col0, #T_23db8_row53_col0, #T_23db8_row54_col0, #T_23db8_row55_col0, #T_23db8_row56_col0, #T_23db8_row57_col0, #T_23db8_row58_col0, #T_23db8_row59_col0, #T_23db8_row60_col0, #T_23db8_row61_col0, #T_23db8_row62_col0, #T_23db8_row63_col0, #T_23db8_row64_col0 {\n",
       "  text-align: center;\n",
       "}\n",
       "</style>\n",
       "<table style=\"display:inline\" id=\"T_23db8\">\n",
       "  <thead>\n",
       "    <tr>\n",
       "      <th id=\"T_23db8_level0_col0\" class=\"col_heading level0 col0\" >Organizations With Operating Assistance Project Types</th>\n",
       "    </tr>\n",
       "  </thead>\n",
       "  <tbody>\n",
       "    <tr>\n",
       "      <td id=\"T_23db8_row0_col0\" class=\"data row0 col0\" >ARC Imperial Valley</td>\n",
       "    </tr>\n",
       "    <tr>\n",
       "      <td id=\"T_23db8_row1_col0\" class=\"data row1 col0\" >Amador Transit</td>\n",
       "    </tr>\n",
       "    <tr>\n",
       "      <td id=\"T_23db8_row2_col0\" class=\"data row2 col0\" >Angel View Inc</td>\n",
       "    </tr>\n",
       "    <tr>\n",
       "      <td id=\"T_23db8_row3_col0\" class=\"data row3 col0\" >Area 1 Agency on Aging</td>\n",
       "    </tr>\n",
       "    <tr>\n",
       "      <td id=\"T_23db8_row4_col0\" class=\"data row4 col0\" >Asian Community Center of Sacramento Valley Inc DBA ACC Senior Services</td>\n",
       "    </tr>\n",
       "    <tr>\n",
       "      <td id=\"T_23db8_row5_col0\" class=\"data row5 col0\" >Avenidas </td>\n",
       "    </tr>\n",
       "    <tr>\n",
       "      <td id=\"T_23db8_row6_col0\" class=\"data row6 col0\" >Catholic Charities of the Diocese of Stockton</td>\n",
       "    </tr>\n",
       "    <tr>\n",
       "      <td id=\"T_23db8_row7_col0\" class=\"data row7 col0\" >Choice in Aging</td>\n",
       "    </tr>\n",
       "    <tr>\n",
       "      <td id=\"T_23db8_row8_col0\" class=\"data row8 col0\" >City of Lafayette: Lamorinda Sprit Van Program</td>\n",
       "    </tr>\n",
       "    <tr>\n",
       "      <td id=\"T_23db8_row9_col0\" class=\"data row9 col0\" >City of Rio Vista</td>\n",
       "    </tr>\n",
       "    <tr>\n",
       "      <td id=\"T_23db8_row10_col0\" class=\"data row10 col0\" >City of Vista </td>\n",
       "    </tr>\n",
       "    <tr>\n",
       "      <td id=\"T_23db8_row11_col0\" class=\"data row11 col0\" >Coastal Seniors Inc</td>\n",
       "    </tr>\n",
       "    <tr>\n",
       "      <td id=\"T_23db8_row12_col0\" class=\"data row12 col0\" >Common Ground Senior Services</td>\n",
       "    </tr>\n",
       "    <tr>\n",
       "      <td id=\"T_23db8_row13_col0\" class=\"data row13 col0\" >Community Bridges Liftline</td>\n",
       "    </tr>\n",
       "    <tr>\n",
       "      <td id=\"T_23db8_row14_col0\" class=\"data row14 col0\" >Community Partners In Caring</td>\n",
       "    </tr>\n",
       "    <tr>\n",
       "      <td id=\"T_23db8_row15_col0\" class=\"data row15 col0\" >Consolidated Tribal Health Project Inc</td>\n",
       "    </tr>\n",
       "    <tr>\n",
       "      <td id=\"T_23db8_row16_col0\" class=\"data row16 col0\" >County of Sacramento Department of Child Family and Adult Services</td>\n",
       "    </tr>\n",
       "    <tr>\n",
       "      <td id=\"T_23db8_row17_col0\" class=\"data row17 col0\" >County of Sonoma Human Services Department Adult and Aging Division</td>\n",
       "    </tr>\n",
       "    <tr>\n",
       "      <td id=\"T_23db8_row18_col0\" class=\"data row18 col0\" >County of Ventura Health Services Agency</td>\n",
       "    </tr>\n",
       "    <tr>\n",
       "      <td id=\"T_23db8_row19_col0\" class=\"data row19 col0\" >Desert Access and Mobility Inc</td>\n",
       "    </tr>\n",
       "    <tr>\n",
       "      <td id=\"T_23db8_row20_col0\" class=\"data row20 col0\" >Dignity Community Care</td>\n",
       "    </tr>\n",
       "    <tr>\n",
       "      <td id=\"T_23db8_row21_col0\" class=\"data row21 col0\" >Dignity Health Connected Living</td>\n",
       "    </tr>\n",
       "    <tr>\n",
       "      <td id=\"T_23db8_row22_col0\" class=\"data row22 col0\" >Drivers for Survivors Inc</td>\n",
       "    </tr>\n",
       "    <tr>\n",
       "      <td id=\"T_23db8_row23_col0\" class=\"data row23 col0\" >Eastern Sierra Transit Authority</td>\n",
       "    </tr>\n",
       "    <tr>\n",
       "      <td id=\"T_23db8_row24_col0\" class=\"data row24 col0\" >Easy Lift Transportation Inc</td>\n",
       "    </tr>\n",
       "    <tr>\n",
       "      <td id=\"T_23db8_row25_col0\" class=\"data row25 col0\" >ElderHelp of San Diego</td>\n",
       "    </tr>\n",
       "    <tr>\n",
       "      <td id=\"T_23db8_row26_col0\" class=\"data row26 col0\" >Faith in Action</td>\n",
       "    </tr>\n",
       "    <tr>\n",
       "      <td id=\"T_23db8_row27_col0\" class=\"data row27 col0\" >Foothill AIDS Project</td>\n",
       "    </tr>\n",
       "    <tr>\n",
       "      <td id=\"T_23db8_row28_col0\" class=\"data row28 col0\" >Friends of Children with Special Needs</td>\n",
       "    </tr>\n",
       "    <tr>\n",
       "      <td id=\"T_23db8_row29_col0\" class=\"data row29 col0\" >Humboldt Medi-Trans</td>\n",
       "    </tr>\n",
       "    <tr>\n",
       "      <td id=\"T_23db8_row30_col0\" class=\"data row30 col0\" >Independent Living Partnership</td>\n",
       "    </tr>\n",
       "    <tr>\n",
       "      <td id=\"T_23db8_row31_col0\" class=\"data row31 col0\" >LIFE ElderCare</td>\n",
       "    </tr>\n",
       "    <tr>\n",
       "      <td id=\"T_23db8_row32_col0\" class=\"data row32 col0\" >Lake Links Inc</td>\n",
       "    </tr>\n",
       "    <tr>\n",
       "      <td id=\"T_23db8_row33_col0\" class=\"data row33 col0\" >Lake Transit Authority</td>\n",
       "    </tr>\n",
       "    <tr>\n",
       "      <td id=\"T_23db8_row34_col0\" class=\"data row34 col0\" >Lutheran Social Services of Southern California</td>\n",
       "    </tr>\n",
       "    <tr>\n",
       "      <td id=\"T_23db8_row35_col0\" class=\"data row35 col0\" >Marin County Transit District</td>\n",
       "    </tr>\n",
       "    <tr>\n",
       "      <td id=\"T_23db8_row36_col0\" class=\"data row36 col0\" >Mental Health Client Action Network (MHCAN) </td>\n",
       "    </tr>\n",
       "    <tr>\n",
       "      <td id=\"T_23db8_row37_col0\" class=\"data row37 col0\" >Mobility Matters</td>\n",
       "    </tr>\n",
       "    <tr>\n",
       "      <td id=\"T_23db8_row38_col0\" class=\"data row38 col0\" >Morongo Basin Transit Authority</td>\n",
       "    </tr>\n",
       "    <tr>\n",
       "      <td id=\"T_23db8_row39_col0\" class=\"data row39 col0\" >NCI Affiliates</td>\n",
       "    </tr>\n",
       "    <tr>\n",
       "      <td id=\"T_23db8_row40_col0\" class=\"data row40 col0\" >North of the River Recreation and Park District</td>\n",
       "    </tr>\n",
       "    <tr>\n",
       "      <td id=\"T_23db8_row41_col0\" class=\"data row41 col0\" >OPARC</td>\n",
       "    </tr>\n",
       "    <tr>\n",
       "      <td id=\"T_23db8_row42_col0\" class=\"data row42 col0\" >Outreach & Escort Inc </td>\n",
       "    </tr>\n",
       "    <tr>\n",
       "      <td id=\"T_23db8_row43_col0\" class=\"data row43 col0\" >Peninsula Family Service</td>\n",
       "    </tr>\n",
       "    <tr>\n",
       "      <td id=\"T_23db8_row44_col0\" class=\"data row44 col0\" >Peninsula Jewish Community Center</td>\n",
       "    </tr>\n",
       "    <tr>\n",
       "      <td id=\"T_23db8_row45_col0\" class=\"data row45 col0\" >Peppermint Ridge</td>\n",
       "    </tr>\n",
       "    <tr>\n",
       "      <td id=\"T_23db8_row46_col0\" class=\"data row46 col0\" >Pride Industries One Inc</td>\n",
       "    </tr>\n",
       "    <tr>\n",
       "      <td id=\"T_23db8_row47_col0\" class=\"data row47 col0\" >Reach Out Morongo Basin</td>\n",
       "    </tr>\n",
       "    <tr>\n",
       "      <td id=\"T_23db8_row48_col0\" class=\"data row48 col0\" >SAHA</td>\n",
       "    </tr>\n",
       "    <tr>\n",
       "      <td id=\"T_23db8_row49_col0\" class=\"data row49 col0\" >San Benito County Local Transportation Authority</td>\n",
       "    </tr>\n",
       "    <tr>\n",
       "      <td id=\"T_23db8_row50_col0\" class=\"data row50 col0\" >San Joaquin Regional Transit District</td>\n",
       "    </tr>\n",
       "    <tr>\n",
       "      <td id=\"T_23db8_row51_col0\" class=\"data row51 col0\" >Seniors Council of Santa Cruz and San Benito Counties</td>\n",
       "    </tr>\n",
       "    <tr>\n",
       "      <td id=\"T_23db8_row52_col0\" class=\"data row52 col0\" >Shores of Hope </td>\n",
       "    </tr>\n",
       "    <tr>\n",
       "      <td id=\"T_23db8_row53_col0\" class=\"data row53 col0\" >Sunline Transit Agency</td>\n",
       "    </tr>\n",
       "    <tr>\n",
       "      <td id=\"T_23db8_row54_col0\" class=\"data row54 col0\" >Tahoe Transportation District</td>\n",
       "    </tr>\n",
       "    <tr>\n",
       "      <td id=\"T_23db8_row55_col0\" class=\"data row55 col0\" >Tehama County Transit Agency</td>\n",
       "    </tr>\n",
       "    <tr>\n",
       "      <td id=\"T_23db8_row56_col0\" class=\"data row56 col0\" >The Arc of Amador and Calaveras</td>\n",
       "    </tr>\n",
       "    <tr>\n",
       "      <td id=\"T_23db8_row57_col0\" class=\"data row57 col0\" >Town of Truckee</td>\n",
       "    </tr>\n",
       "    <tr>\n",
       "      <td id=\"T_23db8_row58_col0\" class=\"data row58 col0\" >Tuolumne County Transit Agency (TCTA)</td>\n",
       "    </tr>\n",
       "    <tr>\n",
       "      <td id=\"T_23db8_row59_col0\" class=\"data row59 col0\" >United Cerebral Palsy Association of Greater Sacramento Inc</td>\n",
       "    </tr>\n",
       "    <tr>\n",
       "      <td id=\"T_23db8_row60_col0\" class=\"data row60 col0\" >Valley Resource Center</td>\n",
       "    </tr>\n",
       "    <tr>\n",
       "      <td id=\"T_23db8_row61_col0\" class=\"data row61 col0\" >Victor Valley Community Services Council</td>\n",
       "    </tr>\n",
       "    <tr>\n",
       "      <td id=\"T_23db8_row62_col0\" class=\"data row62 col0\" >Vivalon Inc</td>\n",
       "    </tr>\n",
       "    <tr>\n",
       "      <td id=\"T_23db8_row63_col0\" class=\"data row63 col0\" >West Valley Community Services</td>\n",
       "    </tr>\n",
       "    <tr>\n",
       "      <td id=\"T_23db8_row64_col0\" class=\"data row64 col0\" >Wilshire Community Services</td>\n",
       "    </tr>\n",
       "  </tbody>\n",
       "</table style=\"display:inline\">\n"
      ]
     },
     "metadata": {},
     "output_type": "display_data"
    }
   ],
   "source": [
    "_dla_utils.display_side_by_side(table11, table22)"
   ]
  },
  {
   "cell_type": "code",
   "execution_count": 15,
   "id": "778d30ec-cdae-4041-9367-a4d093a09c76",
   "metadata": {
    "execution": {
     "iopub.execute_input": "2022-05-27T17:48:44.713313Z",
     "iopub.status.busy": "2022-05-27T17:48:44.713070Z",
     "iopub.status.idle": "2022-05-27T17:48:44.718556Z",
     "shell.execute_reply": "2022-05-27T17:48:44.717720Z"
    },
    "papermill": {
     "duration": 0.045574,
     "end_time": "2022-05-27T17:48:44.721711",
     "exception": false,
     "start_time": "2022-05-27T17:48:44.676137",
     "status": "completed"
    },
    "tags": []
   },
   "outputs": [
    {
     "data": {
      "text/html": [
       "<style type=\"text/css\">\n",
       "#T_daa1e th {\n",
       "  text-align: center;\n",
       "}\n",
       "#T_daa1e_row0_col0, #T_daa1e_row1_col0, #T_daa1e_row2_col0, #T_daa1e_row3_col0, #T_daa1e_row4_col0, #T_daa1e_row5_col0, #T_daa1e_row6_col0, #T_daa1e_row7_col0, #T_daa1e_row8_col0, #T_daa1e_row9_col0, #T_daa1e_row10_col0, #T_daa1e_row11_col0, #T_daa1e_row12_col0, #T_daa1e_row13_col0, #T_daa1e_row14_col0, #T_daa1e_row15_col0, #T_daa1e_row16_col0, #T_daa1e_row17_col0, #T_daa1e_row18_col0, #T_daa1e_row19_col0, #T_daa1e_row20_col0, #T_daa1e_row21_col0, #T_daa1e_row22_col0, #T_daa1e_row23_col0, #T_daa1e_row24_col0, #T_daa1e_row25_col0, #T_daa1e_row26_col0, #T_daa1e_row27_col0, #T_daa1e_row28_col0, #T_daa1e_row29_col0, #T_daa1e_row30_col0, #T_daa1e_row31_col0, #T_daa1e_row32_col0, #T_daa1e_row33_col0, #T_daa1e_row34_col0 {\n",
       "  text-align: center;\n",
       "}\n",
       "</style>\n",
       "<table style=\"display:inline\" id=\"T_daa1e\">\n",
       "  <thead>\n",
       "    <tr>\n",
       "      <th id=\"T_daa1e_level0_col0\" class=\"col_heading level0 col0\" >Organizations With Mobility Management Project Types</th>\n",
       "    </tr>\n",
       "  </thead>\n",
       "  <tbody>\n",
       "    <tr>\n",
       "      <td id=\"T_daa1e_row0_col0\" class=\"data row0 col0\" >Amador Transit</td>\n",
       "    </tr>\n",
       "    <tr>\n",
       "      <td id=\"T_daa1e_row1_col0\" class=\"data row1 col0\" >Catholic Charities of the Diocese of Stockton</td>\n",
       "    </tr>\n",
       "    <tr>\n",
       "      <td id=\"T_daa1e_row2_col0\" class=\"data row2 col0\" >City of Roseville</td>\n",
       "    </tr>\n",
       "    <tr>\n",
       "      <td id=\"T_daa1e_row3_col0\" class=\"data row3 col0\" >City of Visalia</td>\n",
       "    </tr>\n",
       "    <tr>\n",
       "      <td id=\"T_daa1e_row4_col0\" class=\"data row4 col0\" >Common Ground Senior Services</td>\n",
       "    </tr>\n",
       "    <tr>\n",
       "      <td id=\"T_daa1e_row5_col0\" class=\"data row5 col0\" >Contra Costa Transportation Authority (CCTA)</td>\n",
       "    </tr>\n",
       "    <tr>\n",
       "      <td id=\"T_daa1e_row6_col0\" class=\"data row6 col0\" >County of Sonoma Human Services Department Adult and Aging Division</td>\n",
       "    </tr>\n",
       "    <tr>\n",
       "      <td id=\"T_daa1e_row7_col0\" class=\"data row7 col0\" >Eden I&R INC</td>\n",
       "    </tr>\n",
       "    <tr>\n",
       "      <td id=\"T_daa1e_row8_col0\" class=\"data row8 col0\" >Friends of Children with Special Needs</td>\n",
       "    </tr>\n",
       "    <tr>\n",
       "      <td id=\"T_daa1e_row9_col0\" class=\"data row9 col0\" >Full Access & Coordinated Transportation Inc</td>\n",
       "    </tr>\n",
       "    <tr>\n",
       "      <td id=\"T_daa1e_row10_col0\" class=\"data row10 col0\" >Help Central Inc</td>\n",
       "    </tr>\n",
       "    <tr>\n",
       "      <td id=\"T_daa1e_row11_col0\" class=\"data row11 col0\" >Imperial County Transportation Commission</td>\n",
       "    </tr>\n",
       "    <tr>\n",
       "      <td id=\"T_daa1e_row12_col0\" class=\"data row12 col0\" >Inland Empire United Way</td>\n",
       "    </tr>\n",
       "    <tr>\n",
       "      <td id=\"T_daa1e_row13_col0\" class=\"data row13 col0\" >Lake Links Inc</td>\n",
       "    </tr>\n",
       "    <tr>\n",
       "      <td id=\"T_daa1e_row14_col0\" class=\"data row14 col0\" >Lake Transit Authority</td>\n",
       "    </tr>\n",
       "    <tr>\n",
       "      <td id=\"T_daa1e_row15_col0\" class=\"data row15 col0\" >Lighthouse for the Blind and Visually Impaired</td>\n",
       "    </tr>\n",
       "    <tr>\n",
       "      <td id=\"T_daa1e_row16_col0\" class=\"data row16 col0\" >Livermore Amador Valley Transit Authority</td>\n",
       "    </tr>\n",
       "    <tr>\n",
       "      <td id=\"T_daa1e_row17_col0\" class=\"data row17 col0\" >Marin County Transit District</td>\n",
       "    </tr>\n",
       "    <tr>\n",
       "      <td id=\"T_daa1e_row18_col0\" class=\"data row18 col0\" >Mendocino Transit Authority</td>\n",
       "    </tr>\n",
       "    <tr>\n",
       "      <td id=\"T_daa1e_row19_col0\" class=\"data row19 col0\" >Mental Health Client Action Network (MHCAN) </td>\n",
       "    </tr>\n",
       "    <tr>\n",
       "      <td id=\"T_daa1e_row20_col0\" class=\"data row20 col0\" >Metropolitan Transportation Commission</td>\n",
       "    </tr>\n",
       "    <tr>\n",
       "      <td id=\"T_daa1e_row21_col0\" class=\"data row21 col0\" >Mobility Matters</td>\n",
       "    </tr>\n",
       "    <tr>\n",
       "      <td id=\"T_daa1e_row22_col0\" class=\"data row22 col0\" >Nevada-Sierra Connecting Point Public Authority</td>\n",
       "    </tr>\n",
       "    <tr>\n",
       "      <td id=\"T_daa1e_row23_col0\" class=\"data row23 col0\" >Omnitrans</td>\n",
       "    </tr>\n",
       "    <tr>\n",
       "      <td id=\"T_daa1e_row24_col0\" class=\"data row24 col0\" >Outreach & Escort Inc </td>\n",
       "    </tr>\n",
       "    <tr>\n",
       "      <td id=\"T_daa1e_row25_col0\" class=\"data row25 col0\" >Riverside Transit Agency</td>\n",
       "    </tr>\n",
       "    <tr>\n",
       "      <td id=\"T_daa1e_row26_col0\" class=\"data row26 col0\" >San Francisco Municipal Transportation Agency</td>\n",
       "    </tr>\n",
       "    <tr>\n",
       "      <td id=\"T_daa1e_row27_col0\" class=\"data row27 col0\" >San Luis Obispo Council of Governments</td>\n",
       "    </tr>\n",
       "    <tr>\n",
       "      <td id=\"T_daa1e_row28_col0\" class=\"data row28 col0\" >Santa Clara Valley Transportation Authority</td>\n",
       "    </tr>\n",
       "    <tr>\n",
       "      <td id=\"T_daa1e_row29_col0\" class=\"data row29 col0\" >Solano Tranportation Authority </td>\n",
       "    </tr>\n",
       "    <tr>\n",
       "      <td id=\"T_daa1e_row30_col0\" class=\"data row30 col0\" >The Center for Independent Living</td>\n",
       "    </tr>\n",
       "    <tr>\n",
       "      <td id=\"T_daa1e_row31_col0\" class=\"data row31 col0\" >Tuolumne County Transit Agency (TCTA)</td>\n",
       "    </tr>\n",
       "    <tr>\n",
       "      <td id=\"T_daa1e_row32_col0\" class=\"data row32 col0\" >Victor Valley Community Services Council</td>\n",
       "    </tr>\n",
       "    <tr>\n",
       "      <td id=\"T_daa1e_row33_col0\" class=\"data row33 col0\" >Victor Valley Transit Authority</td>\n",
       "    </tr>\n",
       "    <tr>\n",
       "      <td id=\"T_daa1e_row34_col0\" class=\"data row34 col0\" >Yolo County Transportation District</td>\n",
       "    </tr>\n",
       "  </tbody>\n",
       "</table style=\"display:inline\">\n",
       "<style type=\"text/css\">\n",
       "#T_64ec6 th {\n",
       "  text-align: center;\n",
       "}\n",
       "#T_64ec6_row0_col0, #T_64ec6_row1_col0, #T_64ec6_row2_col0, #T_64ec6_row3_col0, #T_64ec6_row4_col0, #T_64ec6_row5_col0, #T_64ec6_row6_col0, #T_64ec6_row7_col0, #T_64ec6_row8_col0, #T_64ec6_row9_col0, #T_64ec6_row10_col0 {\n",
       "  text-align: center;\n",
       "}\n",
       "</style>\n",
       "<table style=\"display:inline\" id=\"T_64ec6\">\n",
       "  <thead>\n",
       "    <tr>\n",
       "      <th id=\"T_64ec6_level0_col0\" class=\"col_heading level0 col0\" >Organizations With Hardware/Software Purchase Project Types</th>\n",
       "    </tr>\n",
       "  </thead>\n",
       "  <tbody>\n",
       "    <tr>\n",
       "      <td id=\"T_64ec6_row0_col0\" class=\"data row0 col0\" >Asian Community Center of Sacramento Valley Inc DBA ACC Senior Services</td>\n",
       "    </tr>\n",
       "    <tr>\n",
       "      <td id=\"T_64ec6_row1_col0\" class=\"data row1 col0\" >Catholic Charities of the Diocese of Stockton</td>\n",
       "    </tr>\n",
       "    <tr>\n",
       "      <td id=\"T_64ec6_row2_col0\" class=\"data row2 col0\" >Community Bridges Liftline</td>\n",
       "    </tr>\n",
       "    <tr>\n",
       "      <td id=\"T_64ec6_row3_col0\" class=\"data row3 col0\" >County of Sonoma Human Services Department Adult and Aging Division</td>\n",
       "    </tr>\n",
       "    <tr>\n",
       "      <td id=\"T_64ec6_row4_col0\" class=\"data row4 col0\" >Foothill AIDS Project</td>\n",
       "    </tr>\n",
       "    <tr>\n",
       "      <td id=\"T_64ec6_row5_col0\" class=\"data row5 col0\" >Milestones of Development INC</td>\n",
       "    </tr>\n",
       "    <tr>\n",
       "      <td id=\"T_64ec6_row6_col0\" class=\"data row6 col0\" >Porterville Sheltered Workshop</td>\n",
       "    </tr>\n",
       "    <tr>\n",
       "      <td id=\"T_64ec6_row7_col0\" class=\"data row7 col0\" >San Joaquin Regional Transit District</td>\n",
       "    </tr>\n",
       "    <tr>\n",
       "      <td id=\"T_64ec6_row8_col0\" class=\"data row8 col0\" >Sunline Transit Agency</td>\n",
       "    </tr>\n",
       "    <tr>\n",
       "      <td id=\"T_64ec6_row9_col0\" class=\"data row9 col0\" >United Cerebral Palsy Association of Greater Sacramento Inc</td>\n",
       "    </tr>\n",
       "    <tr>\n",
       "      <td id=\"T_64ec6_row10_col0\" class=\"data row10 col0\" >Yolo County Transportation District</td>\n",
       "    </tr>\n",
       "  </tbody>\n",
       "</table style=\"display:inline\">\n"
      ]
     },
     "metadata": {},
     "output_type": "display_data"
    }
   ],
   "source": [
    "_dla_utils.display_side_by_side(table33, table44)"
   ]
  },
  {
   "cell_type": "code",
   "execution_count": 16,
   "id": "90635aee-1ddb-4e83-82c4-f25b89c25103",
   "metadata": {
    "execution": {
     "iopub.execute_input": "2022-05-27T17:48:44.788342Z",
     "iopub.status.busy": "2022-05-27T17:48:44.788053Z",
     "iopub.status.idle": "2022-05-27T17:48:44.794354Z",
     "shell.execute_reply": "2022-05-27T17:48:44.793620Z"
    },
    "papermill": {
     "duration": 0.043397,
     "end_time": "2022-05-27T17:48:44.796288",
     "exception": false,
     "start_time": "2022-05-27T17:48:44.752891",
     "status": "completed"
    },
    "tags": []
   },
   "outputs": [
    {
     "data": {
      "text/html": [
       "<style type=\"text/css\">\n",
       "#T_71a44 th {\n",
       "  text-align: center;\n",
       "}\n",
       "#T_71a44_row0_col0, #T_71a44_row1_col0, #T_71a44_row2_col0, #T_71a44_row3_col0, #T_71a44_row4_col0, #T_71a44_row5_col0, #T_71a44_row6_col0, #T_71a44_row7_col0, #T_71a44_row8_col0 {\n",
       "  text-align: center;\n",
       "}\n",
       "</style>\n",
       "<table style=\"display:inline\" id=\"T_71a44\">\n",
       "  <thead>\n",
       "    <tr>\n",
       "      <th id=\"T_71a44_level0_col0\" class=\"col_heading level0 col0\" >Organizations With Communications Project Types</th>\n",
       "    </tr>\n",
       "  </thead>\n",
       "  <tbody>\n",
       "    <tr>\n",
       "      <td id=\"T_71a44_row0_col0\" class=\"data row0 col0\" >Center for Elders' Independence </td>\n",
       "    </tr>\n",
       "    <tr>\n",
       "      <td id=\"T_71a44_row1_col0\" class=\"data row1 col0\" >Community Bridges Liftline</td>\n",
       "    </tr>\n",
       "    <tr>\n",
       "      <td id=\"T_71a44_row2_col0\" class=\"data row2 col0\" >Eastern Sierra Transit Authority</td>\n",
       "    </tr>\n",
       "    <tr>\n",
       "      <td id=\"T_71a44_row3_col0\" class=\"data row3 col0\" >Humboldt Senior Resource Center</td>\n",
       "    </tr>\n",
       "    <tr>\n",
       "      <td id=\"T_71a44_row4_col0\" class=\"data row4 col0\" >North of the River Recreation and Park District</td>\n",
       "    </tr>\n",
       "    <tr>\n",
       "      <td id=\"T_71a44_row5_col0\" class=\"data row5 col0\" >Porterville Sheltered Workshop</td>\n",
       "    </tr>\n",
       "    <tr>\n",
       "      <td id=\"T_71a44_row6_col0\" class=\"data row6 col0\" >Self-Help for the Elderly</td>\n",
       "    </tr>\n",
       "    <tr>\n",
       "      <td id=\"T_71a44_row7_col0\" class=\"data row7 col0\" >United Cerebral Palsy Association of Greater Sacramento Inc</td>\n",
       "    </tr>\n",
       "    <tr>\n",
       "      <td id=\"T_71a44_row8_col0\" class=\"data row8 col0\" >Work Training Center</td>\n",
       "    </tr>\n",
       "  </tbody>\n",
       "</table style=\"display:inline\">\n",
       "<style type=\"text/css\">\n",
       "#T_04297 th {\n",
       "  text-align: center;\n",
       "}\n",
       "#T_04297_row0_col0, #T_04297_row1_col0, #T_04297_row2_col0, #T_04297_row3_col0, #T_04297_row4_col0 {\n",
       "  text-align: center;\n",
       "}\n",
       "</style>\n",
       "<table style=\"display:inline\" id=\"T_04297\">\n",
       "  <thead>\n",
       "    <tr>\n",
       "      <th id=\"T_04297_level0_col0\" class=\"col_heading level0 col0\" >Organizations With Facilities Equipment Project Types</th>\n",
       "    </tr>\n",
       "  </thead>\n",
       "  <tbody>\n",
       "    <tr>\n",
       "      <td id=\"T_04297_row0_col0\" class=\"data row0 col0\" >Eastern Sierra Transit Authority</td>\n",
       "    </tr>\n",
       "    <tr>\n",
       "      <td id=\"T_04297_row1_col0\" class=\"data row1 col0\" >Lighthouse for the Blind and Visually Impaired</td>\n",
       "    </tr>\n",
       "    <tr>\n",
       "      <td id=\"T_04297_row2_col0\" class=\"data row2 col0\" >Milestones of Development INC</td>\n",
       "    </tr>\n",
       "    <tr>\n",
       "      <td id=\"T_04297_row3_col0\" class=\"data row3 col0\" >North and South of Market Adult Day Health</td>\n",
       "    </tr>\n",
       "    <tr>\n",
       "      <td id=\"T_04297_row4_col0\" class=\"data row4 col0\" >Porterville Sheltered Workshop</td>\n",
       "    </tr>\n",
       "  </tbody>\n",
       "</table style=\"display:inline\">\n"
      ]
     },
     "metadata": {},
     "output_type": "display_data"
    }
   ],
   "source": [
    "_dla_utils.display_side_by_side(table55, table66)"
   ]
  },
  {
   "cell_type": "code",
   "execution_count": 17,
   "id": "1b4ee169-ac0f-44f0-a342-ca83e039e4d8",
   "metadata": {
    "execution": {
     "iopub.execute_input": "2022-05-27T17:48:44.861342Z",
     "iopub.status.busy": "2022-05-27T17:48:44.860686Z",
     "iopub.status.idle": "2022-05-27T17:48:44.867057Z",
     "shell.execute_reply": "2022-05-27T17:48:44.866551Z"
    },
    "papermill": {
     "duration": 0.040352,
     "end_time": "2022-05-27T17:48:44.868623",
     "exception": false,
     "start_time": "2022-05-27T17:48:44.828271",
     "status": "completed"
    },
    "tags": []
   },
   "outputs": [
    {
     "data": {
      "text/html": [
       "<style type=\"text/css\">\n",
       "#T_14bd0 th {\n",
       "  text-align: center;\n",
       "}\n",
       "#T_14bd0_row0_col0, #T_14bd0_row1_col0, #T_14bd0_row2_col0, #T_14bd0_row3_col0 {\n",
       "  text-align: center;\n",
       "}\n",
       "</style>\n",
       "<table style=\"display:inline\" id=\"T_14bd0\">\n",
       "  <thead>\n",
       "    <tr>\n",
       "      <th id=\"T_14bd0_level0_col0\" class=\"col_heading level0 col0\" >Organizations With Surveillance Project Types</th>\n",
       "    </tr>\n",
       "  </thead>\n",
       "  <tbody>\n",
       "    <tr>\n",
       "      <td id=\"T_14bd0_row0_col0\" class=\"data row0 col0\" >Community Bridges Liftline</td>\n",
       "    </tr>\n",
       "    <tr>\n",
       "      <td id=\"T_14bd0_row1_col0\" class=\"data row1 col0\" >Institute on Aging </td>\n",
       "    </tr>\n",
       "    <tr>\n",
       "      <td id=\"T_14bd0_row2_col0\" class=\"data row2 col0\" >Porterville Sheltered Workshop</td>\n",
       "    </tr>\n",
       "    <tr>\n",
       "      <td id=\"T_14bd0_row3_col0\" class=\"data row3 col0\" >United Cerebral Palsy Association of Greater Sacramento Inc</td>\n",
       "    </tr>\n",
       "  </tbody>\n",
       "</table style=\"display:inline\">\n",
       "<style type=\"text/css\">\n",
       "#T_c02b1 th {\n",
       "  text-align: center;\n",
       "}\n",
       "#T_c02b1_row0_col0 {\n",
       "  text-align: center;\n",
       "}\n",
       "</style>\n",
       "<table style=\"display:inline\" id=\"T_c02b1\">\n",
       "  <thead>\n",
       "    <tr>\n",
       "      <th id=\"T_c02b1_level0_col0\" class=\"col_heading level0 col0\" >Organizations With Subsidies Project Types</th>\n",
       "    </tr>\n",
       "  </thead>\n",
       "  <tbody>\n",
       "    <tr>\n",
       "      <td id=\"T_c02b1_row0_col0\" class=\"data row0 col0\" >San Mateo County Transit District</td>\n",
       "    </tr>\n",
       "  </tbody>\n",
       "</table style=\"display:inline\">\n"
      ]
     },
     "metadata": {},
     "output_type": "display_data"
    }
   ],
   "source": [
    "_dla_utils.display_side_by_side(table77, table88)"
   ]
  },
  {
   "cell_type": "code",
   "execution_count": null,
   "id": "3eabe85c-63e6-4c7d-b58e-c848efea0e1d",
   "metadata": {
    "papermill": {
     "duration": 0.03372,
     "end_time": "2022-05-27T17:48:44.939497",
     "exception": false,
     "start_time": "2022-05-27T17:48:44.905777",
     "status": "completed"
    },
    "tags": []
   },
   "outputs": [],
   "source": []
  },
  {
   "cell_type": "markdown",
   "id": "bf12e587-4060-466d-9416-97c651c9a297",
   "metadata": {
    "papermill": {
     "duration": 0.035509,
     "end_time": "2022-05-27T17:48:45.008127",
     "exception": false,
     "start_time": "2022-05-27T17:48:44.972618",
     "status": "completed"
    },
    "tags": []
   },
   "source": [
    "## Project Types\n",
    "***"
   ]
  },
  {
   "cell_type": "markdown",
   "id": "03d79697-7caa-4efa-a577-f49eed402970",
   "metadata": {
    "papermill": {
     "duration": 0.033566,
     "end_time": "2022-05-27T17:48:45.073362",
     "exception": false,
     "start_time": "2022-05-27T17:48:45.039796",
     "status": "completed"
    },
    "tags": []
   },
   "source": [
    "### Purchasing Wheelchair Accessible Vehicles"
   ]
  },
  {
   "cell_type": "code",
   "execution_count": 18,
   "id": "940488b1-5bfb-4945-a7d7-2e9f7b0c9a1d",
   "metadata": {
    "execution": {
     "iopub.execute_input": "2022-05-27T17:48:45.143055Z",
     "iopub.status.busy": "2022-05-27T17:48:45.142731Z",
     "iopub.status.idle": "2022-05-27T17:48:45.168657Z",
     "shell.execute_reply": "2022-05-27T17:48:45.167652Z"
    },
    "papermill": {
     "duration": 0.062816,
     "end_time": "2022-05-27T17:48:45.170836",
     "exception": false,
     "start_time": "2022-05-27T17:48:45.108020",
     "status": "completed"
    },
    "tags": []
   },
   "outputs": [
    {
     "data": {
      "text/html": [
       "Of the 92 agencies using 5310 funds for vehicle purchases, 75 are for Bus Purchases, and 38 are for Van Purchases<br> There are 0 specific mentions of wheelchair accessible vehicles, ramps or other accessiblity features."
      ],
      "text/plain": [
       "<IPython.core.display.HTML object>"
      ]
     },
     "metadata": {},
     "output_type": "display_data"
    }
   ],
   "source": [
    "display(\n",
    "    HTML(f\"Of the {len(df>>filter(_.vehicle_purchase==1)>>count(_.organization_name))} agencies using 5310 funds \"\n",
    "      f\"for vehicle purchases, \"\n",
    "      f\"{len(df>>filter(_.vehicle_purchase==1)>>filter(_.description.str.contains('Bus'))>>count(_.organization_name))} \"\n",
    "      f\"are for Bus Purchases, \"\n",
    "      f\"and {len(df>>filter(_.vehicle_purchase==1)>>filter(_.description.str.contains('Van'))>>count(_.organization_name))} \"\n",
    "      f\"are for Van Purchases\"\n",
    "         f\"<br> There are {len(df>>filter(_.description.str.contains('wheelchair')))} specific mentions of wheelchair \"\n",
    "         f\"accessible vehicles, ramps or other accessiblity features.\"\n",
    "        ))"
   ]
  },
  {
   "cell_type": "markdown",
   "id": "3c191763-dc98-4602-8f1b-a9300fde1abe",
   "metadata": {
    "papermill": {
     "duration": 0.038196,
     "end_time": "2022-05-27T17:48:45.246659",
     "exception": false,
     "start_time": "2022-05-27T17:48:45.208463",
     "status": "completed"
    },
    "tags": []
   },
   "source": [
    "**Organizations using funds for Vehicle Purchase**"
   ]
  },
  {
   "cell_type": "code",
   "execution_count": 19,
   "id": "78a986a8-e3ae-4fda-9aee-926b6d8c178e",
   "metadata": {
    "execution": {
     "iopub.execute_input": "2022-05-27T17:48:45.313725Z",
     "iopub.status.busy": "2022-05-27T17:48:45.312685Z",
     "iopub.status.idle": "2022-05-27T17:48:45.335475Z",
     "shell.execute_reply": "2022-05-27T17:48:45.334585Z"
    },
    "papermill": {
     "duration": 0.059072,
     "end_time": "2022-05-27T17:48:45.337710",
     "exception": false,
     "start_time": "2022-05-27T17:48:45.278638",
     "status": "completed"
    },
    "tags": []
   },
   "outputs": [
    {
     "data": {
      "text/html": [
       "<style type=\"text/css\">\n",
       "#T_88f4b th {\n",
       "  text-align: center;\n",
       "}\n",
       "#T_88f4b_row0_col0, #T_88f4b_row1_col0, #T_88f4b_row2_col0, #T_88f4b_row3_col0, #T_88f4b_row4_col0, #T_88f4b_row5_col0, #T_88f4b_row6_col0, #T_88f4b_row7_col0, #T_88f4b_row8_col0, #T_88f4b_row9_col0 {\n",
       "  text-align: center;\n",
       "}\n",
       "#T_88f4b_row0_col1, #T_88f4b_row1_col1, #T_88f4b_row2_col1, #T_88f4b_row3_col1, #T_88f4b_row4_col1, #T_88f4b_row5_col1, #T_88f4b_row6_col1, #T_88f4b_row7_col1, #T_88f4b_row8_col1, #T_88f4b_row9_col1 {\n",
       "  text-align: center;\n",
       "  text-align: right;\n",
       "}\n",
       "</style>\n",
       "<table id=\"T_88f4b\">\n",
       "  <thead>\n",
       "    <tr>\n",
       "      <th id=\"T_88f4b_level0_col0\" class=\"col_heading level0 col0\" >Organization Name With Vehicle Purchase Types</th>\n",
       "      <th id=\"T_88f4b_level0_col1\" class=\"col_heading level0 col1\" >Count</th>\n",
       "    </tr>\n",
       "  </thead>\n",
       "  <tbody>\n",
       "    <tr>\n",
       "      <td id=\"T_88f4b_row0_col0\" class=\"data row0 col0\" >On Lok Senior Health Services</td>\n",
       "      <td id=\"T_88f4b_row0_col1\" class=\"data row0 col1\" >50</td>\n",
       "    </tr>\n",
       "    <tr>\n",
       "      <td id=\"T_88f4b_row1_col0\" class=\"data row1 col0\" >Pride Industries One Inc</td>\n",
       "      <td id=\"T_88f4b_row1_col1\" class=\"data row1 col1\" >49</td>\n",
       "    </tr>\n",
       "    <tr>\n",
       "      <td id=\"T_88f4b_row2_col0\" class=\"data row2 col0\" >United Cerebral Palsy of San Luis Obispo County </td>\n",
       "      <td id=\"T_88f4b_row2_col1\" class=\"data row2 col1\" >46</td>\n",
       "    </tr>\n",
       "    <tr>\n",
       "      <td id=\"T_88f4b_row3_col0\" class=\"data row3 col0\" >United Cerebral Palsy Association of Greater Sacramento Inc</td>\n",
       "      <td id=\"T_88f4b_row3_col1\" class=\"data row3 col1\" >42</td>\n",
       "    </tr>\n",
       "    <tr>\n",
       "      <td id=\"T_88f4b_row4_col0\" class=\"data row4 col0\" >Kings Rehabilitation Center</td>\n",
       "      <td id=\"T_88f4b_row4_col1\" class=\"data row4 col1\" >30</td>\n",
       "    </tr>\n",
       "    <tr>\n",
       "      <td id=\"T_88f4b_row5_col0\" class=\"data row5 col0\" >Monterey-Salinas Transit</td>\n",
       "      <td id=\"T_88f4b_row5_col1\" class=\"data row5 col1\" >26</td>\n",
       "    </tr>\n",
       "    <tr>\n",
       "      <td id=\"T_88f4b_row6_col0\" class=\"data row6 col0\" >North of the River Recreation and Park District</td>\n",
       "      <td id=\"T_88f4b_row6_col1\" class=\"data row6 col1\" >25</td>\n",
       "    </tr>\n",
       "    <tr>\n",
       "      <td id=\"T_88f4b_row7_col0\" class=\"data row7 col0\" >ARC Bakersfield</td>\n",
       "      <td id=\"T_88f4b_row7_col1\" class=\"data row7 col1\" >20</td>\n",
       "    </tr>\n",
       "    <tr>\n",
       "      <td id=\"T_88f4b_row8_col0\" class=\"data row8 col0\" >Vivalon Inc</td>\n",
       "      <td id=\"T_88f4b_row8_col1\" class=\"data row8 col1\" >20</td>\n",
       "    </tr>\n",
       "    <tr>\n",
       "      <td id=\"T_88f4b_row9_col0\" class=\"data row9 col0\" >Butte County Association of Governments  Butte Regional Transit</td>\n",
       "      <td id=\"T_88f4b_row9_col1\" class=\"data row9 col1\" >19</td>\n",
       "    </tr>\n",
       "  </tbody>\n",
       "</table>\n"
      ],
      "text/plain": [
       "<IPython.core.display.HTML object>"
      ]
     },
     "metadata": {},
     "output_type": "display_data"
    }
   ],
   "source": [
    "vehicle_purchase = (\n",
    "    df >> filter(_.vehicle_purchase == 1) >> count(_.organization_name) >> arrange(-_.n)\n",
    ").head(10)\n",
    "vehicle_purchase = (vehicle_purchase.rename(columns={'organization_name':'organization_name_with_vehicle_purchase_types'}))\n",
    "\n",
    "display(HTML(_dla_utils.pretify_tables(vehicle_purchase)))"
   ]
  },
  {
   "cell_type": "code",
   "execution_count": null,
   "id": "02e430db-e6bb-4d57-b0b1-a40e3b9e921f",
   "metadata": {
    "papermill": {
     "duration": 0.037495,
     "end_time": "2022-05-27T17:48:45.408511",
     "exception": false,
     "start_time": "2022-05-27T17:48:45.371016",
     "status": "completed"
    },
    "tags": []
   },
   "outputs": [],
   "source": []
  },
  {
   "cell_type": "markdown",
   "id": "70b62e5d-ac67-49c7-ba91-2c5d8a71d612",
   "metadata": {
    "papermill": {
     "duration": 0.03576,
     "end_time": "2022-05-27T17:48:45.479975",
     "exception": false,
     "start_time": "2022-05-27T17:48:45.444215",
     "status": "completed"
    },
    "tags": []
   },
   "source": [
    "### On-demand Scheduling"
   ]
  },
  {
   "cell_type": "markdown",
   "id": "89503665-91ae-412b-824d-1d13064ec816",
   "metadata": {
    "papermill": {
     "duration": 0.032299,
     "end_time": "2022-05-27T17:48:45.548108",
     "exception": false,
     "start_time": "2022-05-27T17:48:45.515809",
     "status": "completed"
    },
    "tags": []
   },
   "source": [
    "**Organizations with Operating Assistance Project types**"
   ]
  },
  {
   "cell_type": "code",
   "execution_count": 20,
   "id": "ac6d9571-f3bc-42bb-90ea-ca63becbec5c",
   "metadata": {
    "execution": {
     "iopub.execute_input": "2022-05-27T17:48:45.624267Z",
     "iopub.status.busy": "2022-05-27T17:48:45.623169Z",
     "iopub.status.idle": "2022-05-27T17:48:45.642487Z",
     "shell.execute_reply": "2022-05-27T17:48:45.641704Z"
    },
    "papermill": {
     "duration": 0.056858,
     "end_time": "2022-05-27T17:48:45.644556",
     "exception": false,
     "start_time": "2022-05-27T17:48:45.587698",
     "status": "completed"
    },
    "tags": []
   },
   "outputs": [
    {
     "data": {
      "text/html": [
       "There are 0 mention of Demand related project types"
      ],
      "text/plain": [
       "<IPython.core.display.HTML object>"
      ]
     },
     "metadata": {},
     "output_type": "display_data"
    },
    {
     "data": {
      "text/html": [
       "There are 65 mentions of Operating Assistance"
      ],
      "text/plain": [
       "<IPython.core.display.HTML object>"
      ]
     },
     "metadata": {},
     "output_type": "display_data"
    }
   ],
   "source": [
    "display(HTML(f\"There are {len(df>>filter(_.description.str.contains('demand')))} mention of Demand related project types\"))\n",
    "display(HTML(f\"There are {len((df>>filter(_.operating_assistance==1)>>count(_.organization_name)>>arrange(-_.n)))} \"\n",
    "             f\"mentions of Operating Assistance\"))"
   ]
  },
  {
   "cell_type": "code",
   "execution_count": 21,
   "id": "ca4d3d59-dab5-410e-ac8b-3ab4c9df9fbd",
   "metadata": {
    "execution": {
     "iopub.execute_input": "2022-05-27T17:48:45.727703Z",
     "iopub.status.busy": "2022-05-27T17:48:45.727097Z",
     "iopub.status.idle": "2022-05-27T17:48:45.745671Z",
     "shell.execute_reply": "2022-05-27T17:48:45.744814Z"
    },
    "papermill": {
     "duration": 0.069177,
     "end_time": "2022-05-27T17:48:45.747664",
     "exception": false,
     "start_time": "2022-05-27T17:48:45.678487",
     "status": "completed"
    },
    "tags": []
   },
   "outputs": [
    {
     "data": {
      "text/html": [
       "<style type=\"text/css\">\n",
       "#T_b141b th {\n",
       "  text-align: center;\n",
       "}\n",
       "#T_b141b_row0_col0, #T_b141b_row1_col0, #T_b141b_row2_col0, #T_b141b_row3_col0, #T_b141b_row4_col0, #T_b141b_row5_col0, #T_b141b_row6_col0, #T_b141b_row7_col0, #T_b141b_row8_col0, #T_b141b_row9_col0 {\n",
       "  text-align: center;\n",
       "}\n",
       "#T_b141b_row0_col1, #T_b141b_row1_col1, #T_b141b_row2_col1, #T_b141b_row3_col1, #T_b141b_row4_col1, #T_b141b_row5_col1, #T_b141b_row6_col1, #T_b141b_row7_col1, #T_b141b_row8_col1, #T_b141b_row9_col1 {\n",
       "  text-align: center;\n",
       "  text-align: right;\n",
       "}\n",
       "</style>\n",
       "<table id=\"T_b141b\">\n",
       "  <thead>\n",
       "    <tr>\n",
       "      <th id=\"T_b141b_level0_col0\" class=\"col_heading level0 col0\" >Organization Name With Operating Assistance Types</th>\n",
       "      <th id=\"T_b141b_level0_col1\" class=\"col_heading level0 col1\" >Count</th>\n",
       "    </tr>\n",
       "  </thead>\n",
       "  <tbody>\n",
       "    <tr>\n",
       "      <td id=\"T_b141b_row0_col0\" class=\"data row0 col0\" >Independent Living Partnership</td>\n",
       "      <td id=\"T_b141b_row0_col1\" class=\"data row0 col1\" >8</td>\n",
       "    </tr>\n",
       "    <tr>\n",
       "      <td id=\"T_b141b_row1_col0\" class=\"data row1 col0\" >Asian Community Center of Sacramento Valley Inc DBA ACC Senior Services</td>\n",
       "      <td id=\"T_b141b_row1_col1\" class=\"data row1 col1\" >6</td>\n",
       "    </tr>\n",
       "    <tr>\n",
       "      <td id=\"T_b141b_row2_col0\" class=\"data row2 col0\" >ARC Imperial Valley</td>\n",
       "      <td id=\"T_b141b_row2_col1\" class=\"data row2 col1\" >4</td>\n",
       "    </tr>\n",
       "    <tr>\n",
       "      <td id=\"T_b141b_row3_col0\" class=\"data row3 col0\" >Choice in Aging</td>\n",
       "      <td id=\"T_b141b_row3_col1\" class=\"data row3 col1\" >4</td>\n",
       "    </tr>\n",
       "    <tr>\n",
       "      <td id=\"T_b141b_row4_col0\" class=\"data row4 col0\" >County of Sonoma Human Services Department Adult and Aging Division</td>\n",
       "      <td id=\"T_b141b_row4_col1\" class=\"data row4 col1\" >4</td>\n",
       "    </tr>\n",
       "    <tr>\n",
       "      <td id=\"T_b141b_row5_col0\" class=\"data row5 col0\" >Mobility Matters</td>\n",
       "      <td id=\"T_b141b_row5_col1\" class=\"data row5 col1\" >4</td>\n",
       "    </tr>\n",
       "    <tr>\n",
       "      <td id=\"T_b141b_row6_col0\" class=\"data row6 col0\" >Angel View Inc</td>\n",
       "      <td id=\"T_b141b_row6_col1\" class=\"data row6 col1\" >3</td>\n",
       "    </tr>\n",
       "    <tr>\n",
       "      <td id=\"T_b141b_row7_col0\" class=\"data row7 col0\" >Catholic Charities of the Diocese of Stockton</td>\n",
       "      <td id=\"T_b141b_row7_col1\" class=\"data row7 col1\" >3</td>\n",
       "    </tr>\n",
       "    <tr>\n",
       "      <td id=\"T_b141b_row8_col0\" class=\"data row8 col0\" >City of Lafayette: Lamorinda Sprit Van Program</td>\n",
       "      <td id=\"T_b141b_row8_col1\" class=\"data row8 col1\" >3</td>\n",
       "    </tr>\n",
       "    <tr>\n",
       "      <td id=\"T_b141b_row9_col0\" class=\"data row9 col0\" >County of Sacramento Department of Child Family and Adult Services</td>\n",
       "      <td id=\"T_b141b_row9_col1\" class=\"data row9 col1\" >3</td>\n",
       "    </tr>\n",
       "  </tbody>\n",
       "</table>\n"
      ],
      "text/plain": [
       "<IPython.core.display.HTML object>"
      ]
     },
     "metadata": {},
     "output_type": "display_data"
    }
   ],
   "source": [
    "operating_assistance= (df>>filter(_.operating_assistance==1)>>count(_.organization_name)>>arrange(-_.n)).head(10)\n",
    "operating_assistance = (operating_assistance\n",
    "                        .rename(columns={'organization_name':'organization_name_with_operating_assistance_types'}))\n",
    "\n",
    "display(HTML(_dla_utils.pretify_tables(operating_assistance)))"
   ]
  },
  {
   "cell_type": "code",
   "execution_count": null,
   "id": "a704cfee-a550-413a-8f3b-d3cd78429a5e",
   "metadata": {
    "papermill": {
     "duration": 0.038086,
     "end_time": "2022-05-27T17:48:45.834668",
     "exception": false,
     "start_time": "2022-05-27T17:48:45.796582",
     "status": "completed"
    },
    "tags": []
   },
   "outputs": [],
   "source": []
  },
  {
   "cell_type": "markdown",
   "id": "987def42-db7c-4754-aed3-aea562b0998f",
   "metadata": {
    "papermill": {
     "duration": 0.038061,
     "end_time": "2022-05-27T17:48:45.908241",
     "exception": false,
     "start_time": "2022-05-27T17:48:45.870180",
     "status": "completed"
    },
    "tags": []
   },
   "source": [
    "### Dispatching Software Platforms"
   ]
  },
  {
   "cell_type": "code",
   "execution_count": 22,
   "id": "85adc3bb-5f76-47cb-ae08-2fa062f24726",
   "metadata": {
    "execution": {
     "iopub.execute_input": "2022-05-27T17:48:45.981050Z",
     "iopub.status.busy": "2022-05-27T17:48:45.980623Z",
     "iopub.status.idle": "2022-05-27T17:48:45.999322Z",
     "shell.execute_reply": "2022-05-27T17:48:45.998375Z"
    },
    "papermill": {
     "duration": 0.05822,
     "end_time": "2022-05-27T17:48:46.002821",
     "exception": false,
     "start_time": "2022-05-27T17:48:45.944601",
     "status": "completed"
    },
    "tags": []
   },
   "outputs": [
    {
     "data": {
      "text/html": [
       "Out of the 11 with harware or software purchases, 4organization used 5310 funds for software purposes"
      ],
      "text/plain": [
       "<IPython.core.display.HTML object>"
      ]
     },
     "metadata": {},
     "output_type": "display_data"
    }
   ],
   "source": [
    "display(\n",
    "    HTML(f\"Out of the {len(df>>filter(_.hardware_software_purchase==1)>>count(_.organization_name))} \"\n",
    "         f\"with harware or software purchases, \"\n",
    "         f\"{len(df>>filter(_.hardware_software_purchase==1)>>filter(_.description.str.contains('Software'))>>count(_.organization_name))}\" \n",
    "             f\"organization used 5310 funds for software purposes\"))\n",
    "             "
   ]
  },
  {
   "cell_type": "code",
   "execution_count": 23,
   "id": "aa3dc45e-5e6a-45c9-94b9-930f08fdb34e",
   "metadata": {
    "execution": {
     "iopub.execute_input": "2022-05-27T17:48:46.079961Z",
     "iopub.status.busy": "2022-05-27T17:48:46.078995Z",
     "iopub.status.idle": "2022-05-27T17:48:46.103368Z",
     "shell.execute_reply": "2022-05-27T17:48:46.102569Z"
    },
    "papermill": {
     "duration": 0.06466,
     "end_time": "2022-05-27T17:48:46.105596",
     "exception": false,
     "start_time": "2022-05-27T17:48:46.040936",
     "status": "completed"
    },
    "tags": []
   },
   "outputs": [
    {
     "data": {
      "text/html": [
       "<style type=\"text/css\">\n",
       "#T_71d29 th {\n",
       "  text-align: center;\n",
       "}\n",
       "#T_71d29_row0_col0, #T_71d29_row1_col0, #T_71d29_row2_col0, #T_71d29_row3_col0 {\n",
       "  text-align: center;\n",
       "}\n",
       "#T_71d29_row0_col1, #T_71d29_row1_col1, #T_71d29_row2_col1, #T_71d29_row3_col1 {\n",
       "  text-align: center;\n",
       "  text-align: right;\n",
       "}\n",
       "</style>\n",
       "<table id=\"T_71d29\">\n",
       "  <thead>\n",
       "    <tr>\n",
       "      <th id=\"T_71d29_level0_col0\" class=\"col_heading level0 col0\" >Organization Name With Operating Assistance Types</th>\n",
       "      <th id=\"T_71d29_level0_col1\" class=\"col_heading level0 col1\" >Count</th>\n",
       "    </tr>\n",
       "  </thead>\n",
       "  <tbody>\n",
       "    <tr>\n",
       "      <td id=\"T_71d29_row0_col0\" class=\"data row0 col0\" >Asian Community Center of Sacramento Valley Inc DBA ACC Senior Services</td>\n",
       "      <td id=\"T_71d29_row0_col1\" class=\"data row0 col1\" >2</td>\n",
       "    </tr>\n",
       "    <tr>\n",
       "      <td id=\"T_71d29_row1_col0\" class=\"data row1 col0\" >Catholic Charities of the Diocese of Stockton</td>\n",
       "      <td id=\"T_71d29_row1_col1\" class=\"data row1 col1\" >2</td>\n",
       "    </tr>\n",
       "    <tr>\n",
       "      <td id=\"T_71d29_row2_col0\" class=\"data row2 col0\" >County of Sonoma Human Services Department Adult and Aging Division</td>\n",
       "      <td id=\"T_71d29_row2_col1\" class=\"data row2 col1\" >1</td>\n",
       "    </tr>\n",
       "    <tr>\n",
       "      <td id=\"T_71d29_row3_col0\" class=\"data row3 col0\" >Yolo County Transportation District</td>\n",
       "      <td id=\"T_71d29_row3_col1\" class=\"data row3 col1\" >2</td>\n",
       "    </tr>\n",
       "  </tbody>\n",
       "</table>\n"
      ],
      "text/plain": [
       "<IPython.core.display.HTML object>"
      ]
     },
     "metadata": {},
     "output_type": "display_data"
    }
   ],
   "source": [
    "software = (\n",
    "    df\n",
    "    >> filter(_.hardware_software_purchase == 1)\n",
    "    >> filter(_.description.str.contains(\"Software\"))\n",
    "    >> count(_.organization_name)\n",
    ")\n",
    "software = (software.rename(columns={'organization_name':'organization_name_with_operating_assistance_types'}))\n",
    "\n",
    "display(HTML(_dla_utils.pretify_tables(software)))"
   ]
  },
  {
   "cell_type": "markdown",
   "id": "f4b2bf0f-068f-4e64-a47f-c64c3f530aa9",
   "metadata": {
    "papermill": {
     "duration": 0.044518,
     "end_time": "2022-05-27T17:48:46.196409",
     "exception": false,
     "start_time": "2022-05-27T17:48:46.151891",
     "status": "completed"
    },
    "tags": []
   },
   "source": [
    "## Project Type Funding Analysis\n",
    "***"
   ]
  },
  {
   "cell_type": "markdown",
   "id": "e1880a1f-b47f-4c59-a4fd-cf78d63b1ed0",
   "metadata": {
    "papermill": {
     "duration": 0.035895,
     "end_time": "2022-05-27T17:48:46.271140",
     "exception": false,
     "start_time": "2022-05-27T17:48:46.235245",
     "status": "completed"
    },
    "tags": []
   },
   "source": [
    "### By Organization & Year"
   ]
  },
  {
   "cell_type": "markdown",
   "id": "dca39728-b4d0-4ce2-a6a9-8cfd2e3accbb",
   "metadata": {
    "papermill": {
     "duration": 0.036397,
     "end_time": "2022-05-27T17:48:46.343335",
     "exception": false,
     "start_time": "2022-05-27T17:48:46.306938",
     "status": "completed"
    },
    "tags": []
   },
   "source": [
    "**Sum of Funds Allocated to Organizations by Year (Top 20)**"
   ]
  },
  {
   "cell_type": "code",
   "execution_count": null,
   "id": "feadfe96-7d55-4c11-ad66-53cc03ea7e67",
   "metadata": {
    "papermill": {
     "duration": 0.036781,
     "end_time": "2022-05-27T17:48:46.416514",
     "exception": false,
     "start_time": "2022-05-27T17:48:46.379733",
     "status": "completed"
    },
    "tags": []
   },
   "outputs": [],
   "source": []
  },
  {
   "cell_type": "code",
   "execution_count": 24,
   "id": "096cfb5a-dd90-4cfb-bf81-892b7112921f",
   "metadata": {
    "execution": {
     "iopub.execute_input": "2022-05-27T17:48:46.489776Z",
     "iopub.status.busy": "2022-05-27T17:48:46.489015Z",
     "iopub.status.idle": "2022-05-27T17:48:46.657586Z",
     "shell.execute_reply": "2022-05-27T17:48:46.656570Z"
    },
    "papermill": {
     "duration": 0.209495,
     "end_time": "2022-05-27T17:48:46.660615",
     "exception": false,
     "start_time": "2022-05-27T17:48:46.451120",
     "status": "completed"
    },
    "tags": []
   },
   "outputs": [
    {
     "data": {
      "text/html": [
       "<style type=\"text/css\">\n",
       "#T_bbdcd th {\n",
       "  text-align: center;\n",
       "}\n",
       "#T_bbdcd_row0_col0, #T_bbdcd_row0_col1, #T_bbdcd_row1_col0, #T_bbdcd_row1_col1, #T_bbdcd_row2_col0, #T_bbdcd_row2_col1, #T_bbdcd_row3_col0, #T_bbdcd_row3_col1, #T_bbdcd_row4_col0, #T_bbdcd_row4_col1, #T_bbdcd_row5_col0, #T_bbdcd_row5_col1, #T_bbdcd_row6_col0, #T_bbdcd_row6_col1, #T_bbdcd_row7_col0, #T_bbdcd_row7_col1, #T_bbdcd_row8_col0, #T_bbdcd_row8_col1, #T_bbdcd_row9_col0, #T_bbdcd_row9_col1, #T_bbdcd_row10_col0, #T_bbdcd_row10_col1, #T_bbdcd_row11_col0, #T_bbdcd_row11_col1, #T_bbdcd_row12_col0, #T_bbdcd_row12_col1, #T_bbdcd_row13_col0, #T_bbdcd_row13_col1, #T_bbdcd_row14_col0, #T_bbdcd_row14_col1, #T_bbdcd_row15_col0, #T_bbdcd_row15_col1, #T_bbdcd_row16_col0, #T_bbdcd_row16_col1, #T_bbdcd_row17_col0, #T_bbdcd_row17_col1, #T_bbdcd_row18_col0, #T_bbdcd_row18_col1, #T_bbdcd_row19_col0, #T_bbdcd_row19_col1 {\n",
       "  text-align: center;\n",
       "}\n",
       "#T_bbdcd_row0_col2, #T_bbdcd_row1_col2, #T_bbdcd_row2_col2, #T_bbdcd_row3_col2, #T_bbdcd_row4_col2, #T_bbdcd_row5_col2, #T_bbdcd_row6_col2, #T_bbdcd_row7_col2, #T_bbdcd_row8_col2, #T_bbdcd_row9_col2, #T_bbdcd_row10_col2, #T_bbdcd_row11_col2, #T_bbdcd_row12_col2, #T_bbdcd_row13_col2, #T_bbdcd_row14_col2, #T_bbdcd_row15_col2, #T_bbdcd_row16_col2, #T_bbdcd_row17_col2, #T_bbdcd_row18_col2, #T_bbdcd_row19_col2 {\n",
       "  text-align: center;\n",
       "  text-align: right;\n",
       "}\n",
       "</style>\n",
       "<table id=\"T_bbdcd\">\n",
       "  <thead>\n",
       "    <tr>\n",
       "      <th id=\"T_bbdcd_level0_col0\" class=\"col_heading level0 col0\" >Top Funded Organizations</th>\n",
       "      <th id=\"T_bbdcd_level0_col1\" class=\"col_heading level0 col1\" >Project Year</th>\n",
       "      <th id=\"T_bbdcd_level0_col2\" class=\"col_heading level0 col2\" >Sum Allocated</th>\n",
       "    </tr>\n",
       "  </thead>\n",
       "  <tbody>\n",
       "    <tr>\n",
       "      <td id=\"T_bbdcd_row0_col0\" class=\"data row0 col0\" >United Cerebral Palsy Association of Greater Sacramento Inc</td>\n",
       "      <td id=\"T_bbdcd_row0_col1\" class=\"data row0 col1\" >2017</td>\n",
       "      <td id=\"T_bbdcd_row0_col2\" class=\"data row0 col2\" >$1,782,550.00</td>\n",
       "    </tr>\n",
       "    <tr>\n",
       "      <td id=\"T_bbdcd_row1_col0\" class=\"data row1 col0\" >On Lok Senior Health Services</td>\n",
       "      <td id=\"T_bbdcd_row1_col1\" class=\"data row1 col1\" >2019</td>\n",
       "      <td id=\"T_bbdcd_row1_col2\" class=\"data row1 col2\" >$1,480,000.00</td>\n",
       "    </tr>\n",
       "    <tr>\n",
       "      <td id=\"T_bbdcd_row2_col0\" class=\"data row2 col0\" >Pride Industries One Inc</td>\n",
       "      <td id=\"T_bbdcd_row2_col1\" class=\"data row2 col1\" >2019</td>\n",
       "      <td id=\"T_bbdcd_row2_col2\" class=\"data row2 col2\" >$1,257,714.00</td>\n",
       "    </tr>\n",
       "    <tr>\n",
       "      <td id=\"T_bbdcd_row3_col0\" class=\"data row3 col0\" >Asian Community Center of Sacramento Valley Inc DBA ACC Senior Services</td>\n",
       "      <td id=\"T_bbdcd_row3_col1\" class=\"data row3 col1\" >2017</td>\n",
       "      <td id=\"T_bbdcd_row3_col2\" class=\"data row3 col2\" >$1,246,128.00</td>\n",
       "    </tr>\n",
       "    <tr>\n",
       "      <td id=\"T_bbdcd_row4_col0\" class=\"data row4 col0\" >Mobility Matters</td>\n",
       "      <td id=\"T_bbdcd_row4_col1\" class=\"data row4 col1\" >2017</td>\n",
       "      <td id=\"T_bbdcd_row4_col2\" class=\"data row4 col2\" >$1,160,438.00</td>\n",
       "    </tr>\n",
       "    <tr>\n",
       "      <td id=\"T_bbdcd_row5_col0\" class=\"data row5 col0\" >Friends of Children with Special Needs</td>\n",
       "      <td id=\"T_bbdcd_row5_col1\" class=\"data row5 col1\" >2019</td>\n",
       "      <td id=\"T_bbdcd_row5_col2\" class=\"data row5 col2\" >$1,152,937.00</td>\n",
       "    </tr>\n",
       "    <tr>\n",
       "      <td id=\"T_bbdcd_row6_col0\" class=\"data row6 col0\" >Pride Industries One Inc</td>\n",
       "      <td id=\"T_bbdcd_row6_col1\" class=\"data row6 col1\" >2017</td>\n",
       "      <td id=\"T_bbdcd_row6_col2\" class=\"data row6 col2\" >$1,135,727.52</td>\n",
       "    </tr>\n",
       "    <tr>\n",
       "      <td id=\"T_bbdcd_row7_col0\" class=\"data row7 col0\" >Independent Living Partnership</td>\n",
       "      <td id=\"T_bbdcd_row7_col1\" class=\"data row7 col1\" >2017</td>\n",
       "      <td id=\"T_bbdcd_row7_col2\" class=\"data row7 col2\" >$1,114,031.00</td>\n",
       "    </tr>\n",
       "    <tr>\n",
       "      <td id=\"T_bbdcd_row8_col0\" class=\"data row8 col0\" >ARC Bakersfield</td>\n",
       "      <td id=\"T_bbdcd_row8_col1\" class=\"data row8 col1\" >2017</td>\n",
       "      <td id=\"T_bbdcd_row8_col2\" class=\"data row8 col2\" >$1,008,340.28</td>\n",
       "    </tr>\n",
       "    <tr>\n",
       "      <td id=\"T_bbdcd_row9_col0\" class=\"data row9 col0\" >Marin County Transit District</td>\n",
       "      <td id=\"T_bbdcd_row9_col1\" class=\"data row9 col1\" >2017</td>\n",
       "      <td id=\"T_bbdcd_row9_col2\" class=\"data row9 col2\" >$1,000,000.00</td>\n",
       "    </tr>\n",
       "    <tr>\n",
       "      <td id=\"T_bbdcd_row10_col0\" class=\"data row10 col0\" >Outreach & Escort Inc </td>\n",
       "      <td id=\"T_bbdcd_row10_col1\" class=\"data row10 col1\" >2017</td>\n",
       "      <td id=\"T_bbdcd_row10_col2\" class=\"data row10 col2\" >$1,000,000.00</td>\n",
       "    </tr>\n",
       "    <tr>\n",
       "      <td id=\"T_bbdcd_row11_col0\" class=\"data row11 col0\" >Monterey-Salinas Transit</td>\n",
       "      <td id=\"T_bbdcd_row11_col1\" class=\"data row11 col1\" >2017</td>\n",
       "      <td id=\"T_bbdcd_row11_col2\" class=\"data row11 col2\" >$980,000.00</td>\n",
       "    </tr>\n",
       "    <tr>\n",
       "      <td id=\"T_bbdcd_row12_col0\" class=\"data row12 col0\" >United Cerebral Palsy Association of Greater Sacramento Inc</td>\n",
       "      <td id=\"T_bbdcd_row12_col1\" class=\"data row12 col1\" >2019</td>\n",
       "      <td id=\"T_bbdcd_row12_col2\" class=\"data row12 col2\" >$941,167.00</td>\n",
       "    </tr>\n",
       "    <tr>\n",
       "      <td id=\"T_bbdcd_row13_col0\" class=\"data row13 col0\" >Omnitrans</td>\n",
       "      <td id=\"T_bbdcd_row13_col1\" class=\"data row13 col1\" >2017</td>\n",
       "      <td id=\"T_bbdcd_row13_col2\" class=\"data row13 col2\" >$884,175.00</td>\n",
       "    </tr>\n",
       "    <tr>\n",
       "      <td id=\"T_bbdcd_row14_col0\" class=\"data row14 col0\" >Community Bridges Liftline</td>\n",
       "      <td id=\"T_bbdcd_row14_col1\" class=\"data row14 col1\" >2017</td>\n",
       "      <td id=\"T_bbdcd_row14_col2\" class=\"data row14 col2\" >$880,013.60</td>\n",
       "    </tr>\n",
       "    <tr>\n",
       "      <td id=\"T_bbdcd_row15_col0\" class=\"data row15 col0\" >North of the River Recreation and Park District</td>\n",
       "      <td id=\"T_bbdcd_row15_col1\" class=\"data row15 col1\" >2017</td>\n",
       "      <td id=\"T_bbdcd_row15_col2\" class=\"data row15 col2\" >$846,738.41</td>\n",
       "    </tr>\n",
       "    <tr>\n",
       "      <td id=\"T_bbdcd_row16_col0\" class=\"data row16 col0\" >Peppermint Ridge</td>\n",
       "      <td id=\"T_bbdcd_row16_col1\" class=\"data row16 col1\" >2017</td>\n",
       "      <td id=\"T_bbdcd_row16_col2\" class=\"data row16 col2\" >$825,000.00</td>\n",
       "    </tr>\n",
       "    <tr>\n",
       "      <td id=\"T_bbdcd_row17_col0\" class=\"data row17 col0\" >The Center for Independent Living</td>\n",
       "      <td id=\"T_bbdcd_row17_col1\" class=\"data row17 col1\" >2017</td>\n",
       "      <td id=\"T_bbdcd_row17_col2\" class=\"data row17 col2\" >$818,960.00</td>\n",
       "    </tr>\n",
       "    <tr>\n",
       "      <td id=\"T_bbdcd_row18_col0\" class=\"data row18 col0\" >Vivalon Inc</td>\n",
       "      <td id=\"T_bbdcd_row18_col1\" class=\"data row18 col1\" >2017</td>\n",
       "      <td id=\"T_bbdcd_row18_col2\" class=\"data row18 col2\" >$812,960.00</td>\n",
       "    </tr>\n",
       "    <tr>\n",
       "      <td id=\"T_bbdcd_row19_col0\" class=\"data row19 col0\" >LIFE ElderCare</td>\n",
       "      <td id=\"T_bbdcd_row19_col1\" class=\"data row19 col1\" >2017</td>\n",
       "      <td id=\"T_bbdcd_row19_col2\" class=\"data row19 col2\" >$802,658.00</td>\n",
       "    </tr>\n",
       "  </tbody>\n",
       "</table>\n"
      ],
      "text/plain": [
       "<IPython.core.display.HTML object>"
      ]
     },
     "metadata": {},
     "output_type": "display_data"
    }
   ],
   "source": [
    "top20_sum = (\n",
    "    df\n",
    "    >> group_by(_.organization_name, _.project_year)\n",
    "    >> summarize(sum_allocated=_.allocationamount.sum())\n",
    "    >> arrange(-_.sum_allocated)\n",
    ").head(20)\n",
    "top20_sum = (top20_sum.rename(columns={'organization_name':'top_funded_organizations'}))\n",
    "\n",
    "top20_sum.sum_allocated = top20_sum.sum_allocated.map('${:,.2f}'.format)\n",
    "\n",
    "display(HTML(_dla_utils.pretify_tables(top20_sum)))"
   ]
  },
  {
   "cell_type": "code",
   "execution_count": null,
   "id": "a302a555-bf7f-43a0-ba2b-993ab516227b",
   "metadata": {
    "papermill": {
     "duration": 0.036805,
     "end_time": "2022-05-27T17:48:46.738736",
     "exception": false,
     "start_time": "2022-05-27T17:48:46.701931",
     "status": "completed"
    },
    "tags": []
   },
   "outputs": [],
   "source": []
  },
  {
   "cell_type": "markdown",
   "id": "5a629816-de99-4132-a6d7-a011a23f2689",
   "metadata": {
    "papermill": {
     "duration": 0.036694,
     "end_time": "2022-05-27T17:48:46.810398",
     "exception": false,
     "start_time": "2022-05-27T17:48:46.773704",
     "status": "completed"
    },
    "tags": []
   },
   "source": [
    "### By Organization & Project Types"
   ]
  },
  {
   "cell_type": "markdown",
   "id": "85a3ad60-e1ed-4e87-b33d-dc8fa9f7e24a",
   "metadata": {
    "papermill": {
     "duration": 0.039059,
     "end_time": "2022-05-27T17:48:46.888263",
     "exception": false,
     "start_time": "2022-05-27T17:48:46.849204",
     "status": "completed"
    },
    "tags": []
   },
   "source": [
    "**Vehicle Purchases**"
   ]
  },
  {
   "cell_type": "code",
   "execution_count": 25,
   "id": "12483656-928b-4731-bae7-93efc5455d6b",
   "metadata": {
    "execution": {
     "iopub.execute_input": "2022-05-27T17:48:46.968770Z",
     "iopub.status.busy": "2022-05-27T17:48:46.967442Z",
     "iopub.status.idle": "2022-05-27T17:48:47.068588Z",
     "shell.execute_reply": "2022-05-27T17:48:47.067796Z"
    },
    "papermill": {
     "duration": 0.143658,
     "end_time": "2022-05-27T17:48:47.070508",
     "exception": false,
     "start_time": "2022-05-27T17:48:46.926850",
     "status": "completed"
    },
    "tags": []
   },
   "outputs": [
    {
     "data": {
      "text/html": [
       "<style type=\"text/css\">\n",
       "#T_2cc21 th {\n",
       "  text-align: center;\n",
       "}\n",
       "#T_2cc21_row0_col0, #T_2cc21_row0_col1, #T_2cc21_row1_col0, #T_2cc21_row1_col1, #T_2cc21_row2_col0, #T_2cc21_row2_col1, #T_2cc21_row3_col0, #T_2cc21_row3_col1, #T_2cc21_row4_col0, #T_2cc21_row4_col1, #T_2cc21_row5_col0, #T_2cc21_row5_col1, #T_2cc21_row6_col0, #T_2cc21_row6_col1, #T_2cc21_row7_col0, #T_2cc21_row7_col1, #T_2cc21_row8_col0, #T_2cc21_row8_col1, #T_2cc21_row9_col0, #T_2cc21_row9_col1, #T_2cc21_row10_col0, #T_2cc21_row10_col1, #T_2cc21_row11_col0, #T_2cc21_row11_col1, #T_2cc21_row12_col0, #T_2cc21_row12_col1, #T_2cc21_row13_col0, #T_2cc21_row13_col1, #T_2cc21_row14_col0, #T_2cc21_row14_col1, #T_2cc21_row15_col0, #T_2cc21_row15_col1, #T_2cc21_row16_col0, #T_2cc21_row16_col1, #T_2cc21_row17_col0, #T_2cc21_row17_col1, #T_2cc21_row18_col0, #T_2cc21_row18_col1, #T_2cc21_row19_col0, #T_2cc21_row19_col1 {\n",
       "  text-align: center;\n",
       "}\n",
       "#T_2cc21_row0_col2, #T_2cc21_row1_col2, #T_2cc21_row2_col2, #T_2cc21_row3_col2, #T_2cc21_row4_col2, #T_2cc21_row5_col2, #T_2cc21_row6_col2, #T_2cc21_row7_col2, #T_2cc21_row8_col2, #T_2cc21_row9_col2, #T_2cc21_row10_col2, #T_2cc21_row11_col2, #T_2cc21_row12_col2, #T_2cc21_row13_col2, #T_2cc21_row14_col2, #T_2cc21_row15_col2, #T_2cc21_row16_col2, #T_2cc21_row17_col2, #T_2cc21_row18_col2, #T_2cc21_row19_col2 {\n",
       "  text-align: center;\n",
       "  text-align: right;\n",
       "}\n",
       "</style>\n",
       "<table id=\"T_2cc21\">\n",
       "  <thead>\n",
       "    <tr>\n",
       "      <th id=\"T_2cc21_level0_col0\" class=\"col_heading level0 col0\" >Top Funded Organizations: Vehicle Purchases</th>\n",
       "      <th id=\"T_2cc21_level0_col1\" class=\"col_heading level0 col1\" >Project Year</th>\n",
       "      <th id=\"T_2cc21_level0_col2\" class=\"col_heading level0 col2\" >Sum Allocated</th>\n",
       "    </tr>\n",
       "  </thead>\n",
       "  <tbody>\n",
       "    <tr>\n",
       "      <td id=\"T_2cc21_row0_col0\" class=\"data row0 col0\" >On Lok Senior Health Services</td>\n",
       "      <td id=\"T_2cc21_row0_col1\" class=\"data row0 col1\" >2019</td>\n",
       "      <td id=\"T_2cc21_row0_col2\" class=\"data row0 col2\" >$1,480,000.00</td>\n",
       "    </tr>\n",
       "    <tr>\n",
       "      <td id=\"T_2cc21_row1_col0\" class=\"data row1 col0\" >United Cerebral Palsy Association of Greater Sacramento Inc</td>\n",
       "      <td id=\"T_2cc21_row1_col1\" class=\"data row1 col1\" >2017</td>\n",
       "      <td id=\"T_2cc21_row1_col2\" class=\"data row1 col2\" >$1,449,680.00</td>\n",
       "    </tr>\n",
       "    <tr>\n",
       "      <td id=\"T_2cc21_row2_col0\" class=\"data row2 col0\" >Pride Industries One Inc</td>\n",
       "      <td id=\"T_2cc21_row2_col1\" class=\"data row2 col1\" >2019</td>\n",
       "      <td id=\"T_2cc21_row2_col2\" class=\"data row2 col2\" >$1,209,000.00</td>\n",
       "    </tr>\n",
       "    <tr>\n",
       "      <td id=\"T_2cc21_row3_col0\" class=\"data row3 col0\" >Pride Industries One Inc</td>\n",
       "      <td id=\"T_2cc21_row3_col1\" class=\"data row3 col1\" >2017</td>\n",
       "      <td id=\"T_2cc21_row3_col2\" class=\"data row3 col2\" >$1,135,727.52</td>\n",
       "    </tr>\n",
       "    <tr>\n",
       "      <td id=\"T_2cc21_row4_col0\" class=\"data row4 col0\" >ARC Bakersfield</td>\n",
       "      <td id=\"T_2cc21_row4_col1\" class=\"data row4 col1\" >2017</td>\n",
       "      <td id=\"T_2cc21_row4_col2\" class=\"data row4 col2\" >$1,008,340.28</td>\n",
       "    </tr>\n",
       "    <tr>\n",
       "      <td id=\"T_2cc21_row5_col0\" class=\"data row5 col0\" >Monterey-Salinas Transit</td>\n",
       "      <td id=\"T_2cc21_row5_col1\" class=\"data row5 col1\" >2017</td>\n",
       "      <td id=\"T_2cc21_row5_col2\" class=\"data row5 col2\" >$980,000.00</td>\n",
       "    </tr>\n",
       "    <tr>\n",
       "      <td id=\"T_2cc21_row6_col0\" class=\"data row6 col0\" >United Cerebral Palsy of San Luis Obispo County </td>\n",
       "      <td id=\"T_2cc21_row6_col1\" class=\"data row6 col1\" >2017</td>\n",
       "      <td id=\"T_2cc21_row6_col2\" class=\"data row6 col2\" >$634,000.00</td>\n",
       "    </tr>\n",
       "    <tr>\n",
       "      <td id=\"T_2cc21_row7_col0\" class=\"data row7 col0\" >Asian Community Center of Sacramento Valley Inc DBA ACC Senior Services</td>\n",
       "      <td id=\"T_2cc21_row7_col1\" class=\"data row7 col1\" >2017</td>\n",
       "      <td id=\"T_2cc21_row7_col2\" class=\"data row7 col2\" >$619,600.00</td>\n",
       "    </tr>\n",
       "    <tr>\n",
       "      <td id=\"T_2cc21_row8_col0\" class=\"data row8 col0\" >El Dorado County Transit Authority</td>\n",
       "      <td id=\"T_2cc21_row8_col1\" class=\"data row8 col1\" >2017</td>\n",
       "      <td id=\"T_2cc21_row8_col2\" class=\"data row8 col2\" >$610,000.00</td>\n",
       "    </tr>\n",
       "    <tr>\n",
       "      <td id=\"T_2cc21_row9_col0\" class=\"data row9 col0\" >Institute on Aging </td>\n",
       "      <td id=\"T_2cc21_row9_col1\" class=\"data row9 col1\" >2017</td>\n",
       "      <td id=\"T_2cc21_row9_col2\" class=\"data row9 col2\" >$560,000.00</td>\n",
       "    </tr>\n",
       "    <tr>\n",
       "      <td id=\"T_2cc21_row10_col0\" class=\"data row10 col0\" >Center for Elders' Independence </td>\n",
       "      <td id=\"T_2cc21_row10_col1\" class=\"data row10 col1\" >2019</td>\n",
       "      <td id=\"T_2cc21_row10_col2\" class=\"data row10 col2\" >$536,900.00</td>\n",
       "    </tr>\n",
       "    <tr>\n",
       "      <td id=\"T_2cc21_row11_col0\" class=\"data row11 col0\" >Peppermint Ridge</td>\n",
       "      <td id=\"T_2cc21_row11_col1\" class=\"data row11 col1\" >2017</td>\n",
       "      <td id=\"T_2cc21_row11_col2\" class=\"data row11 col2\" >$525,000.00</td>\n",
       "    </tr>\n",
       "    <tr>\n",
       "      <td id=\"T_2cc21_row12_col0\" class=\"data row12 col0\" >Vivalon Inc</td>\n",
       "      <td id=\"T_2cc21_row12_col1\" class=\"data row12 col1\" >2017</td>\n",
       "      <td id=\"T_2cc21_row12_col2\" class=\"data row12 col2\" >$518,000.00</td>\n",
       "    </tr>\n",
       "    <tr>\n",
       "      <td id=\"T_2cc21_row13_col0\" class=\"data row13 col0\" >Easy Lift Transportation Inc</td>\n",
       "      <td id=\"T_2cc21_row13_col1\" class=\"data row13 col1\" >2017</td>\n",
       "      <td id=\"T_2cc21_row13_col2\" class=\"data row13 col2\" >$514,023.60</td>\n",
       "    </tr>\n",
       "    <tr>\n",
       "      <td id=\"T_2cc21_row14_col0\" class=\"data row14 col0\" >On Lok Senior Health Services</td>\n",
       "      <td id=\"T_2cc21_row14_col1\" class=\"data row14 col1\" >2017</td>\n",
       "      <td id=\"T_2cc21_row14_col2\" class=\"data row14 col2\" >$490,000.00</td>\n",
       "    </tr>\n",
       "    <tr>\n",
       "      <td id=\"T_2cc21_row15_col0\" class=\"data row15 col0\" >Vivalon Inc</td>\n",
       "      <td id=\"T_2cc21_row15_col1\" class=\"data row15 col1\" >2019</td>\n",
       "      <td id=\"T_2cc21_row15_col2\" class=\"data row15 col2\" >$487,200.00</td>\n",
       "    </tr>\n",
       "    <tr>\n",
       "      <td id=\"T_2cc21_row16_col0\" class=\"data row16 col0\" >Kings Rehabilitation Center</td>\n",
       "      <td id=\"T_2cc21_row16_col1\" class=\"data row16 col1\" >2017</td>\n",
       "      <td id=\"T_2cc21_row16_col2\" class=\"data row16 col2\" >$486,972.49</td>\n",
       "    </tr>\n",
       "    <tr>\n",
       "      <td id=\"T_2cc21_row17_col0\" class=\"data row17 col0\" >Omnitrans</td>\n",
       "      <td id=\"T_2cc21_row17_col1\" class=\"data row17 col1\" >2017</td>\n",
       "      <td id=\"T_2cc21_row17_col2\" class=\"data row17 col2\" >$485,000.00</td>\n",
       "    </tr>\n",
       "    <tr>\n",
       "      <td id=\"T_2cc21_row18_col0\" class=\"data row18 col0\" >Monterey-Salinas Transit</td>\n",
       "      <td id=\"T_2cc21_row18_col1\" class=\"data row18 col1\" >2019</td>\n",
       "      <td id=\"T_2cc21_row18_col2\" class=\"data row18 col2\" >$460,200.00</td>\n",
       "    </tr>\n",
       "    <tr>\n",
       "      <td id=\"T_2cc21_row19_col0\" class=\"data row19 col0\" >United Cerebral Palsy Association of Greater Sacramento Inc</td>\n",
       "      <td id=\"T_2cc21_row19_col1\" class=\"data row19 col1\" >2019</td>\n",
       "      <td id=\"T_2cc21_row19_col2\" class=\"data row19 col2\" >$452,000.00</td>\n",
       "    </tr>\n",
       "  </tbody>\n",
       "</table>\n"
      ],
      "text/plain": [
       "<IPython.core.display.HTML object>"
      ]
     },
     "metadata": {},
     "output_type": "display_data"
    }
   ],
   "source": [
    "vp = (df\n",
    " >>filter(_.vehicle_purchase==1)\n",
    " >> group_by(_.organization_name, _.project_year)\n",
    " >> summarize(sum_allocated = _.allocationamount.sum())\n",
    "  >> arrange(-_.sum_allocated)\n",
    ").head(20)\n",
    "vp = (vp.rename(columns={'organization_name':'top_funded_organizations:_vehicle_purchases'}))\n",
    "\n",
    "vp.sum_allocated = vp.sum_allocated.map('${:,.2f}'.format)\n",
    "display(HTML(_dla_utils.pretify_tables(vp)))"
   ]
  },
  {
   "cell_type": "code",
   "execution_count": null,
   "id": "d8bdd12d-e343-46b4-9eb9-6fc66b4638b9",
   "metadata": {
    "papermill": {
     "duration": 0.036685,
     "end_time": "2022-05-27T17:48:47.145550",
     "exception": false,
     "start_time": "2022-05-27T17:48:47.108865",
     "status": "completed"
    },
    "tags": []
   },
   "outputs": [],
   "source": []
  },
  {
   "cell_type": "code",
   "execution_count": null,
   "id": "50a0c127-19b4-4989-b44b-781786dad738",
   "metadata": {
    "papermill": {
     "duration": 0.034669,
     "end_time": "2022-05-27T17:48:47.215239",
     "exception": false,
     "start_time": "2022-05-27T17:48:47.180570",
     "status": "completed"
    },
    "tags": []
   },
   "outputs": [],
   "source": []
  },
  {
   "cell_type": "code",
   "execution_count": null,
   "id": "d0587ae2-164f-4951-9be9-80b7562fe8f4",
   "metadata": {
    "papermill": {
     "duration": 0.036242,
     "end_time": "2022-05-27T17:48:47.289695",
     "exception": false,
     "start_time": "2022-05-27T17:48:47.253453",
     "status": "completed"
    },
    "tags": []
   },
   "outputs": [],
   "source": []
  },
  {
   "cell_type": "markdown",
   "id": "87830e4b-9099-402f-b958-737b6880fb8f",
   "metadata": {
    "papermill": {
     "duration": 0.03633,
     "end_time": "2022-05-27T17:48:47.361437",
     "exception": false,
     "start_time": "2022-05-27T17:48:47.325107",
     "status": "completed"
    },
    "tags": []
   },
   "source": [
    "**Operating Assistance**"
   ]
  },
  {
   "cell_type": "code",
   "execution_count": 26,
   "id": "befc8999-b2f6-45b9-92cf-02e5f992896c",
   "metadata": {
    "execution": {
     "iopub.execute_input": "2022-05-27T17:48:47.434822Z",
     "iopub.status.busy": "2022-05-27T17:48:47.434556Z",
     "iopub.status.idle": "2022-05-27T17:48:47.521087Z",
     "shell.execute_reply": "2022-05-27T17:48:47.520292Z"
    },
    "papermill": {
     "duration": 0.126637,
     "end_time": "2022-05-27T17:48:47.523493",
     "exception": false,
     "start_time": "2022-05-27T17:48:47.396856",
     "status": "completed"
    },
    "tags": []
   },
   "outputs": [
    {
     "data": {
      "text/html": [
       "<style type=\"text/css\">\n",
       "#T_9559f th {\n",
       "  text-align: center;\n",
       "}\n",
       "#T_9559f_row0_col0, #T_9559f_row0_col1, #T_9559f_row1_col0, #T_9559f_row1_col1, #T_9559f_row2_col0, #T_9559f_row2_col1, #T_9559f_row3_col0, #T_9559f_row3_col1, #T_9559f_row4_col0, #T_9559f_row4_col1, #T_9559f_row5_col0, #T_9559f_row5_col1, #T_9559f_row6_col0, #T_9559f_row6_col1, #T_9559f_row7_col0, #T_9559f_row7_col1, #T_9559f_row8_col0, #T_9559f_row8_col1, #T_9559f_row9_col0, #T_9559f_row9_col1, #T_9559f_row10_col0, #T_9559f_row10_col1, #T_9559f_row11_col0, #T_9559f_row11_col1, #T_9559f_row12_col0, #T_9559f_row12_col1, #T_9559f_row13_col0, #T_9559f_row13_col1, #T_9559f_row14_col0, #T_9559f_row14_col1, #T_9559f_row15_col0, #T_9559f_row15_col1, #T_9559f_row16_col0, #T_9559f_row16_col1, #T_9559f_row17_col0, #T_9559f_row17_col1, #T_9559f_row18_col0, #T_9559f_row18_col1, #T_9559f_row19_col0, #T_9559f_row19_col1 {\n",
       "  text-align: center;\n",
       "}\n",
       "#T_9559f_row0_col2, #T_9559f_row1_col2, #T_9559f_row2_col2, #T_9559f_row3_col2, #T_9559f_row4_col2, #T_9559f_row5_col2, #T_9559f_row6_col2, #T_9559f_row7_col2, #T_9559f_row8_col2, #T_9559f_row9_col2, #T_9559f_row10_col2, #T_9559f_row11_col2, #T_9559f_row12_col2, #T_9559f_row13_col2, #T_9559f_row14_col2, #T_9559f_row15_col2, #T_9559f_row16_col2, #T_9559f_row17_col2, #T_9559f_row18_col2, #T_9559f_row19_col2 {\n",
       "  text-align: center;\n",
       "  text-align: right;\n",
       "}\n",
       "</style>\n",
       "<table id=\"T_9559f\">\n",
       "  <thead>\n",
       "    <tr>\n",
       "      <th id=\"T_9559f_level0_col0\" class=\"col_heading level0 col0\" >Top Funded Organizations: Operating Assistance</th>\n",
       "      <th id=\"T_9559f_level0_col1\" class=\"col_heading level0 col1\" >Project Year</th>\n",
       "      <th id=\"T_9559f_level0_col2\" class=\"col_heading level0 col2\" >Sum Allocated</th>\n",
       "    </tr>\n",
       "  </thead>\n",
       "  <tbody>\n",
       "    <tr>\n",
       "      <td id=\"T_9559f_row0_col0\" class=\"data row0 col0\" >Independent Living Partnership</td>\n",
       "      <td id=\"T_9559f_row0_col1\" class=\"data row0 col1\" >2017</td>\n",
       "      <td id=\"T_9559f_row0_col2\" class=\"data row0 col2\" >$1,114,031.00</td>\n",
       "    </tr>\n",
       "    <tr>\n",
       "      <td id=\"T_9559f_row1_col0\" class=\"data row1 col0\" >LIFE ElderCare</td>\n",
       "      <td id=\"T_9559f_row1_col1\" class=\"data row1 col1\" >2017</td>\n",
       "      <td id=\"T_9559f_row1_col2\" class=\"data row1 col2\" >$802,658.00</td>\n",
       "    </tr>\n",
       "    <tr>\n",
       "      <td id=\"T_9559f_row2_col0\" class=\"data row2 col0\" >Catholic Charities of the Diocese of Stockton</td>\n",
       "      <td id=\"T_9559f_row2_col1\" class=\"data row2 col1\" >2017</td>\n",
       "      <td id=\"T_9559f_row2_col2\" class=\"data row2 col2\" >$721,986.00</td>\n",
       "    </tr>\n",
       "    <tr>\n",
       "      <td id=\"T_9559f_row3_col0\" class=\"data row3 col0\" >Town of Truckee</td>\n",
       "      <td id=\"T_9559f_row3_col1\" class=\"data row3 col1\" >2017</td>\n",
       "      <td id=\"T_9559f_row3_col2\" class=\"data row3 col2\" >$702,506.00</td>\n",
       "    </tr>\n",
       "    <tr>\n",
       "      <td id=\"T_9559f_row4_col0\" class=\"data row4 col0\" >Marin County Transit District</td>\n",
       "      <td id=\"T_9559f_row4_col1\" class=\"data row4 col1\" >2017</td>\n",
       "      <td id=\"T_9559f_row4_col2\" class=\"data row4 col2\" >$700,000.00</td>\n",
       "    </tr>\n",
       "    <tr>\n",
       "      <td id=\"T_9559f_row5_col0\" class=\"data row5 col0\" >West Valley Community Services</td>\n",
       "      <td id=\"T_9559f_row5_col1\" class=\"data row5 col1\" >2019</td>\n",
       "      <td id=\"T_9559f_row5_col2\" class=\"data row5 col2\" >$649,453.00</td>\n",
       "    </tr>\n",
       "    <tr>\n",
       "      <td id=\"T_9559f_row6_col0\" class=\"data row6 col0\" >Asian Community Center of Sacramento Valley Inc DBA ACC Senior Services</td>\n",
       "      <td id=\"T_9559f_row6_col1\" class=\"data row6 col1\" >2017</td>\n",
       "      <td id=\"T_9559f_row6_col2\" class=\"data row6 col2\" >$624,048.00</td>\n",
       "    </tr>\n",
       "    <tr>\n",
       "      <td id=\"T_9559f_row7_col0\" class=\"data row7 col0\" >Dignity Health Connected Living</td>\n",
       "      <td id=\"T_9559f_row7_col1\" class=\"data row7 col1\" >2017</td>\n",
       "      <td id=\"T_9559f_row7_col2\" class=\"data row7 col2\" >$530,302.00</td>\n",
       "    </tr>\n",
       "    <tr>\n",
       "      <td id=\"T_9559f_row8_col0\" class=\"data row8 col0\" >Community Bridges Liftline</td>\n",
       "      <td id=\"T_9559f_row8_col1\" class=\"data row8 col1\" >2017</td>\n",
       "      <td id=\"T_9559f_row8_col2\" class=\"data row8 col2\" >$475,200.00</td>\n",
       "    </tr>\n",
       "    <tr>\n",
       "      <td id=\"T_9559f_row9_col0\" class=\"data row9 col0\" >United Cerebral Palsy Association of Greater Sacramento Inc</td>\n",
       "      <td id=\"T_9559f_row9_col1\" class=\"data row9 col1\" >2019</td>\n",
       "      <td id=\"T_9559f_row9_col2\" class=\"data row9 col2\" >$467,625.00</td>\n",
       "    </tr>\n",
       "    <tr>\n",
       "      <td id=\"T_9559f_row10_col0\" class=\"data row10 col0\" >Independent Living Partnership</td>\n",
       "      <td id=\"T_9559f_row10_col1\" class=\"data row10 col1\" >2019</td>\n",
       "      <td id=\"T_9559f_row10_col2\" class=\"data row10 col2\" >$465,998.00</td>\n",
       "    </tr>\n",
       "    <tr>\n",
       "      <td id=\"T_9559f_row11_col0\" class=\"data row11 col0\" >Avenidas </td>\n",
       "      <td id=\"T_9559f_row11_col1\" class=\"data row11 col1\" >2017</td>\n",
       "      <td id=\"T_9559f_row11_col2\" class=\"data row11 col2\" >$441,475.00</td>\n",
       "    </tr>\n",
       "    <tr>\n",
       "      <td id=\"T_9559f_row12_col0\" class=\"data row12 col0\" >North of the River Recreation and Park District</td>\n",
       "      <td id=\"T_9559f_row12_col1\" class=\"data row12 col1\" >2017</td>\n",
       "      <td id=\"T_9559f_row12_col2\" class=\"data row12 col2\" >$439,240.00</td>\n",
       "    </tr>\n",
       "    <tr>\n",
       "      <td id=\"T_9559f_row13_col0\" class=\"data row13 col0\" >Community Partners In Caring</td>\n",
       "      <td id=\"T_9559f_row13_col1\" class=\"data row13 col1\" >2017</td>\n",
       "      <td id=\"T_9559f_row13_col2\" class=\"data row13 col2\" >$430,685.00</td>\n",
       "    </tr>\n",
       "    <tr>\n",
       "      <td id=\"T_9559f_row14_col0\" class=\"data row14 col0\" >Outreach & Escort Inc </td>\n",
       "      <td id=\"T_9559f_row14_col1\" class=\"data row14 col1\" >2017</td>\n",
       "      <td id=\"T_9559f_row14_col2\" class=\"data row14 col2\" >$400,000.00</td>\n",
       "    </tr>\n",
       "    <tr>\n",
       "      <td id=\"T_9559f_row15_col0\" class=\"data row15 col0\" >Peninsula Jewish Community Center</td>\n",
       "      <td id=\"T_9559f_row15_col1\" class=\"data row15 col1\" >2017</td>\n",
       "      <td id=\"T_9559f_row15_col2\" class=\"data row15 col2\" >$396,000.00</td>\n",
       "    </tr>\n",
       "    <tr>\n",
       "      <td id=\"T_9559f_row16_col0\" class=\"data row16 col0\" >Mobility Matters</td>\n",
       "      <td id=\"T_9559f_row16_col1\" class=\"data row16 col1\" >2017</td>\n",
       "      <td id=\"T_9559f_row16_col2\" class=\"data row16 col2\" >$395,743.00</td>\n",
       "    </tr>\n",
       "    <tr>\n",
       "      <td id=\"T_9559f_row17_col0\" class=\"data row17 col0\" >County of Sacramento Department of Child Family and Adult Services</td>\n",
       "      <td id=\"T_9559f_row17_col1\" class=\"data row17 col1\" >2017</td>\n",
       "      <td id=\"T_9559f_row17_col2\" class=\"data row17 col2\" >$393,558.00</td>\n",
       "    </tr>\n",
       "    <tr>\n",
       "      <td id=\"T_9559f_row18_col0\" class=\"data row18 col0\" >Friends of Children with Special Needs</td>\n",
       "      <td id=\"T_9559f_row18_col1\" class=\"data row18 col1\" >2017</td>\n",
       "      <td id=\"T_9559f_row18_col2\" class=\"data row18 col2\" >$335,488.00</td>\n",
       "    </tr>\n",
       "    <tr>\n",
       "      <td id=\"T_9559f_row19_col0\" class=\"data row19 col0\" >San Benito County Local Transportation Authority</td>\n",
       "      <td id=\"T_9559f_row19_col1\" class=\"data row19 col1\" >2017</td>\n",
       "      <td id=\"T_9559f_row19_col2\" class=\"data row19 col2\" >$326,400.00</td>\n",
       "    </tr>\n",
       "  </tbody>\n",
       "</table>\n"
      ],
      "text/plain": [
       "<IPython.core.display.HTML object>"
      ]
     },
     "metadata": {},
     "output_type": "display_data"
    }
   ],
   "source": [
    "oa= (df\n",
    " >>filter(_.operating_assistance==1)\n",
    " >> group_by(_.organization_name, _.project_year)\n",
    " >> summarize(sum_allocated = _.allocationamount.sum())\n",
    " >> arrange(-_.sum_allocated)\n",
    ").head(20)\n",
    "\n",
    "oa = (oa.rename(columns={'organization_name':'top_funded_organizations:_operating_assistance'}))\n",
    "\n",
    "oa.sum_allocated = oa.sum_allocated.map('${:,.2f}'.format)\n",
    "display(HTML(_dla_utils.pretify_tables(oa)))"
   ]
  },
  {
   "cell_type": "code",
   "execution_count": null,
   "id": "b5e58ac3-4bba-448d-be3f-9ddbdf716ed4",
   "metadata": {
    "papermill": {
     "duration": 0.070123,
     "end_time": "2022-05-27T17:48:47.654582",
     "exception": false,
     "start_time": "2022-05-27T17:48:47.584459",
     "status": "completed"
    },
    "tags": []
   },
   "outputs": [],
   "source": []
  },
  {
   "cell_type": "code",
   "execution_count": null,
   "id": "45deae29-9244-4c5b-990d-e8753100f057",
   "metadata": {
    "papermill": {
     "duration": 0.039253,
     "end_time": "2022-05-27T17:48:47.741759",
     "exception": false,
     "start_time": "2022-05-27T17:48:47.702506",
     "status": "completed"
    },
    "tags": []
   },
   "outputs": [],
   "source": []
  },
  {
   "cell_type": "code",
   "execution_count": null,
   "id": "57f87a8a-0dd5-4aee-a5d1-b6d048f1f05d",
   "metadata": {
    "papermill": {
     "duration": 0.038791,
     "end_time": "2022-05-27T17:48:47.819607",
     "exception": false,
     "start_time": "2022-05-27T17:48:47.780816",
     "status": "completed"
    },
    "tags": []
   },
   "outputs": [],
   "source": []
  },
  {
   "cell_type": "markdown",
   "id": "49256088-8d0c-4903-848b-ff4e504cc35c",
   "metadata": {
    "papermill": {
     "duration": 0.038213,
     "end_time": "2022-05-27T17:48:47.898724",
     "exception": false,
     "start_time": "2022-05-27T17:48:47.860511",
     "status": "completed"
    },
    "tags": []
   },
   "source": [
    "**Software Purchase**"
   ]
  },
  {
   "cell_type": "code",
   "execution_count": 27,
   "id": "34412ec8-25c4-4bd0-bcf2-b450afb1f74e",
   "metadata": {
    "execution": {
     "iopub.execute_input": "2022-05-27T17:48:48.015144Z",
     "iopub.status.busy": "2022-05-27T17:48:48.014645Z",
     "iopub.status.idle": "2022-05-27T17:48:48.054114Z",
     "shell.execute_reply": "2022-05-27T17:48:48.053221Z"
    },
    "papermill": {
     "duration": 0.104788,
     "end_time": "2022-05-27T17:48:48.056763",
     "exception": false,
     "start_time": "2022-05-27T17:48:47.951975",
     "status": "completed"
    },
    "tags": []
   },
   "outputs": [
    {
     "data": {
      "text/html": [
       "<style type=\"text/css\">\n",
       "#T_77f1c th {\n",
       "  text-align: center;\n",
       "}\n",
       "#T_77f1c_row0_col0, #T_77f1c_row0_col1, #T_77f1c_row1_col0, #T_77f1c_row1_col1, #T_77f1c_row2_col0, #T_77f1c_row2_col1, #T_77f1c_row3_col0, #T_77f1c_row3_col1 {\n",
       "  text-align: center;\n",
       "}\n",
       "#T_77f1c_row0_col2, #T_77f1c_row1_col2, #T_77f1c_row2_col2, #T_77f1c_row3_col2 {\n",
       "  text-align: center;\n",
       "  text-align: right;\n",
       "}\n",
       "</style>\n",
       "<table id=\"T_77f1c\">\n",
       "  <thead>\n",
       "    <tr>\n",
       "      <th id=\"T_77f1c_level0_col0\" class=\"col_heading level0 col0\" >Top Funded Organizations: Software Purchases</th>\n",
       "      <th id=\"T_77f1c_level0_col1\" class=\"col_heading level0 col1\" >Project Year</th>\n",
       "      <th id=\"T_77f1c_level0_col2\" class=\"col_heading level0 col2\" >Sum Allocated</th>\n",
       "    </tr>\n",
       "  </thead>\n",
       "  <tbody>\n",
       "    <tr>\n",
       "      <td id=\"T_77f1c_row0_col0\" class=\"data row0 col0\" >Catholic Charities of the Diocese of Stockton</td>\n",
       "      <td id=\"T_77f1c_row0_col1\" class=\"data row0 col1\" >2019</td>\n",
       "      <td id=\"T_77f1c_row0_col2\" class=\"data row0 col2\" >$20,000.00</td>\n",
       "    </tr>\n",
       "    <tr>\n",
       "      <td id=\"T_77f1c_row1_col0\" class=\"data row1 col0\" >County of Sonoma Human Services Department Adult and Aging Division</td>\n",
       "      <td id=\"T_77f1c_row1_col1\" class=\"data row1 col1\" >2018</td>\n",
       "      <td id=\"T_77f1c_row1_col2\" class=\"data row1 col2\" >$10,000.00</td>\n",
       "    </tr>\n",
       "    <tr>\n",
       "      <td id=\"T_77f1c_row2_col0\" class=\"data row2 col0\" >Asian Community Center of Sacramento Valley Inc DBA ACC Senior Services</td>\n",
       "      <td id=\"T_77f1c_row2_col1\" class=\"data row2 col1\" >2017</td>\n",
       "      <td id=\"T_77f1c_row2_col2\" class=\"data row2 col2\" >$0.00</td>\n",
       "    </tr>\n",
       "    <tr>\n",
       "      <td id=\"T_77f1c_row3_col0\" class=\"data row3 col0\" >Yolo County Transportation District</td>\n",
       "      <td id=\"T_77f1c_row3_col1\" class=\"data row3 col1\" >2017</td>\n",
       "      <td id=\"T_77f1c_row3_col2\" class=\"data row3 col2\" >$0.00</td>\n",
       "    </tr>\n",
       "  </tbody>\n",
       "</table>\n"
      ],
      "text/plain": [
       "<IPython.core.display.HTML object>"
      ]
     },
     "metadata": {},
     "output_type": "display_data"
    }
   ],
   "source": [
    "sp = (df\n",
    " >>filter(_.hardware_software_purchase==1)\n",
    " >>filter(_.description.str.contains('Software'))\n",
    " >> group_by(_.organization_name, _.project_year)\n",
    " >> summarize(sum_allocated = _.allocationamount.sum())\n",
    "  >> arrange(-_.sum_allocated)\n",
    ").head(20)\n",
    "sp = (sp.rename(columns={'organization_name':'top_funded_organizations:_software_purchases'}))\n",
    "sp.sum_allocated = sp.sum_allocated.map('${:,.2f}'.format)\n",
    "display(HTML(_dla_utils.pretify_tables(sp)))"
   ]
  },
  {
   "cell_type": "code",
   "execution_count": null,
   "id": "5c7520c0-6751-4deb-82f4-2737ea71363d",
   "metadata": {
    "papermill": {
     "duration": 0.065008,
     "end_time": "2022-05-27T17:48:48.190155",
     "exception": false,
     "start_time": "2022-05-27T17:48:48.125147",
     "status": "completed"
    },
    "tags": []
   },
   "outputs": [],
   "source": []
  },
  {
   "cell_type": "code",
   "execution_count": null,
   "id": "15d22bd8-9a8c-4dd2-9494-3b6eb147afca",
   "metadata": {
    "papermill": {
     "duration": 0.052979,
     "end_time": "2022-05-27T17:48:48.309883",
     "exception": false,
     "start_time": "2022-05-27T17:48:48.256904",
     "status": "completed"
    },
    "tags": []
   },
   "outputs": [],
   "source": []
  },
  {
   "cell_type": "code",
   "execution_count": null,
   "id": "b6e90bc7-980d-45ea-91ac-1232defd8806",
   "metadata": {
    "papermill": {
     "duration": 0.038442,
     "end_time": "2022-05-27T17:48:48.389665",
     "exception": false,
     "start_time": "2022-05-27T17:48:48.351223",
     "status": "completed"
    },
    "tags": []
   },
   "outputs": [],
   "source": []
  },
  {
   "cell_type": "markdown",
   "id": "0e825789-d9a9-4494-9dfe-6bf6915cb3ce",
   "metadata": {
    "papermill": {
     "duration": 0.036402,
     "end_time": "2022-05-27T17:48:48.463855",
     "exception": false,
     "start_time": "2022-05-27T17:48:48.427453",
     "status": "completed"
    },
    "tags": []
   },
   "source": [
    "**Hardware Purchase**"
   ]
  },
  {
   "cell_type": "code",
   "execution_count": 28,
   "id": "ac0aa2e2-58df-4ea3-904e-9bfb546b5f4e",
   "metadata": {
    "execution": {
     "iopub.execute_input": "2022-05-27T17:48:48.544154Z",
     "iopub.status.busy": "2022-05-27T17:48:48.543887Z",
     "iopub.status.idle": "2022-05-27T17:48:48.573719Z",
     "shell.execute_reply": "2022-05-27T17:48:48.572869Z"
    },
    "papermill": {
     "duration": 0.071066,
     "end_time": "2022-05-27T17:48:48.575898",
     "exception": false,
     "start_time": "2022-05-27T17:48:48.504832",
     "status": "completed"
    },
    "tags": []
   },
   "outputs": [
    {
     "data": {
      "text/html": [
       "<style type=\"text/css\">\n",
       "#T_f9a5c th {\n",
       "  text-align: center;\n",
       "}\n",
       "#T_f9a5c_row0_col0, #T_f9a5c_row0_col1, #T_f9a5c_row1_col0, #T_f9a5c_row1_col1, #T_f9a5c_row2_col0, #T_f9a5c_row2_col1, #T_f9a5c_row3_col0, #T_f9a5c_row3_col1, #T_f9a5c_row4_col0, #T_f9a5c_row4_col1, #T_f9a5c_row5_col0, #T_f9a5c_row5_col1, #T_f9a5c_row6_col0, #T_f9a5c_row6_col1, #T_f9a5c_row7_col0, #T_f9a5c_row7_col1, #T_f9a5c_row8_col0, #T_f9a5c_row8_col1, #T_f9a5c_row9_col0, #T_f9a5c_row9_col1 {\n",
       "  text-align: center;\n",
       "}\n",
       "#T_f9a5c_row0_col2, #T_f9a5c_row1_col2, #T_f9a5c_row2_col2, #T_f9a5c_row3_col2, #T_f9a5c_row4_col2, #T_f9a5c_row5_col2, #T_f9a5c_row6_col2, #T_f9a5c_row7_col2, #T_f9a5c_row8_col2, #T_f9a5c_row9_col2 {\n",
       "  text-align: center;\n",
       "  text-align: right;\n",
       "}\n",
       "</style>\n",
       "<table id=\"T_f9a5c\">\n",
       "  <thead>\n",
       "    <tr>\n",
       "      <th id=\"T_f9a5c_level0_col0\" class=\"col_heading level0 col0\" >Top Funded Organizations: Hardware Purchases</th>\n",
       "      <th id=\"T_f9a5c_level0_col1\" class=\"col_heading level0 col1\" >Project Year</th>\n",
       "      <th id=\"T_f9a5c_level0_col2\" class=\"col_heading level0 col2\" >Sum Allocated</th>\n",
       "    </tr>\n",
       "  </thead>\n",
       "  <tbody>\n",
       "    <tr>\n",
       "      <td id=\"T_f9a5c_row0_col0\" class=\"data row0 col0\" >United Cerebral Palsy Association of Greater Sacramento Inc</td>\n",
       "      <td id=\"T_f9a5c_row0_col1\" class=\"data row0 col1\" >2017</td>\n",
       "      <td id=\"T_f9a5c_row0_col2\" class=\"data row0 col2\" >$61,600.00</td>\n",
       "    </tr>\n",
       "    <tr>\n",
       "      <td id=\"T_f9a5c_row1_col0\" class=\"data row1 col0\" >Community Bridges Liftline</td>\n",
       "      <td id=\"T_f9a5c_row1_col1\" class=\"data row1 col1\" >2017</td>\n",
       "      <td id=\"T_f9a5c_row1_col2\" class=\"data row1 col2\" >$17,196.00</td>\n",
       "    </tr>\n",
       "    <tr>\n",
       "      <td id=\"T_f9a5c_row2_col0\" class=\"data row2 col0\" >Catholic Charities of the Diocese of Stockton</td>\n",
       "      <td id=\"T_f9a5c_row2_col1\" class=\"data row2 col1\" >2019</td>\n",
       "      <td id=\"T_f9a5c_row2_col2\" class=\"data row2 col2\" >$8,500.00</td>\n",
       "    </tr>\n",
       "    <tr>\n",
       "      <td id=\"T_f9a5c_row3_col0\" class=\"data row3 col0\" >Community Bridges Liftline</td>\n",
       "      <td id=\"T_f9a5c_row3_col1\" class=\"data row3 col1\" >2019</td>\n",
       "      <td id=\"T_f9a5c_row3_col2\" class=\"data row3 col2\" >$7,954.00</td>\n",
       "    </tr>\n",
       "    <tr>\n",
       "      <td id=\"T_f9a5c_row4_col0\" class=\"data row4 col0\" >Porterville Sheltered Workshop</td>\n",
       "      <td id=\"T_f9a5c_row4_col1\" class=\"data row4 col1\" >2019</td>\n",
       "      <td id=\"T_f9a5c_row4_col2\" class=\"data row4 col2\" >$7,742.00</td>\n",
       "    </tr>\n",
       "    <tr>\n",
       "      <td id=\"T_f9a5c_row5_col0\" class=\"data row5 col0\" >San Joaquin Regional Transit District</td>\n",
       "      <td id=\"T_f9a5c_row5_col1\" class=\"data row5 col1\" >2017</td>\n",
       "      <td id=\"T_f9a5c_row5_col2\" class=\"data row5 col2\" >$7,571.00</td>\n",
       "    </tr>\n",
       "    <tr>\n",
       "      <td id=\"T_f9a5c_row6_col0\" class=\"data row6 col0\" >Sunline Transit Agency</td>\n",
       "      <td id=\"T_f9a5c_row6_col1\" class=\"data row6 col1\" >2019</td>\n",
       "      <td id=\"T_f9a5c_row6_col2\" class=\"data row6 col2\" >$5,150.00</td>\n",
       "    </tr>\n",
       "    <tr>\n",
       "      <td id=\"T_f9a5c_row7_col0\" class=\"data row7 col0\" >Asian Community Center of Sacramento Valley Inc DBA ACC Senior Services</td>\n",
       "      <td id=\"T_f9a5c_row7_col1\" class=\"data row7 col1\" >2017</td>\n",
       "      <td id=\"T_f9a5c_row7_col2\" class=\"data row7 col2\" >$2,480.00</td>\n",
       "    </tr>\n",
       "    <tr>\n",
       "      <td id=\"T_f9a5c_row8_col0\" class=\"data row8 col0\" >Milestones of Development INC</td>\n",
       "      <td id=\"T_f9a5c_row8_col1\" class=\"data row8 col1\" >2019</td>\n",
       "      <td id=\"T_f9a5c_row8_col2\" class=\"data row8 col2\" >$1,400.00</td>\n",
       "    </tr>\n",
       "    <tr>\n",
       "      <td id=\"T_f9a5c_row9_col0\" class=\"data row9 col0\" >Foothill AIDS Project</td>\n",
       "      <td id=\"T_f9a5c_row9_col1\" class=\"data row9 col1\" >2017</td>\n",
       "      <td id=\"T_f9a5c_row9_col2\" class=\"data row9 col2\" >$1,200.00</td>\n",
       "    </tr>\n",
       "  </tbody>\n",
       "</table>\n"
      ],
      "text/plain": [
       "<IPython.core.display.HTML object>"
      ]
     },
     "metadata": {},
     "output_type": "display_data"
    }
   ],
   "source": [
    "hsp = (df\n",
    " >>filter(_.hardware_software_purchase==1)\n",
    " >>filter(_.description.str.contains('Hardware'))\n",
    " >> group_by(_.organization_name, _.project_year)\n",
    " >> summarize(sum_allocated = _.allocationamount.sum())\n",
    "       >> arrange(-_.sum_allocated)\n",
    ").head(20)\n",
    "hsp = (hsp.rename(columns={'organization_name':'top_funded_organizations:_hardware_purchases'}))\n",
    "\n",
    "hsp.sum_allocated = hsp.sum_allocated.map('${:,.2f}'.format)\n",
    "display(HTML(_dla_utils.pretify_tables(hsp)))"
   ]
  },
  {
   "cell_type": "code",
   "execution_count": null,
   "id": "ff12400f-dc77-4839-a34f-ae73254f2e37",
   "metadata": {
    "papermill": {
     "duration": 0.040274,
     "end_time": "2022-05-27T17:48:48.660017",
     "exception": false,
     "start_time": "2022-05-27T17:48:48.619743",
     "status": "completed"
    },
    "tags": []
   },
   "outputs": [],
   "source": []
  },
  {
   "cell_type": "markdown",
   "id": "84f430d2-3396-475b-a31f-7eacc49fedc0",
   "metadata": {
    "papermill": {
     "duration": 0.037966,
     "end_time": "2022-05-27T17:48:48.738031",
     "exception": false,
     "start_time": "2022-05-27T17:48:48.700065",
     "status": "completed"
    },
    "tags": []
   },
   "source": [
    "### By County"
   ]
  },
  {
   "cell_type": "code",
   "execution_count": 29,
   "id": "4bc4a769-687d-42d8-81df-bfffaaddd55a",
   "metadata": {
    "execution": {
     "iopub.execute_input": "2022-05-27T17:48:48.818259Z",
     "iopub.status.busy": "2022-05-27T17:48:48.817992Z",
     "iopub.status.idle": "2022-05-27T17:48:48.875841Z",
     "shell.execute_reply": "2022-05-27T17:48:48.875016Z"
    },
    "papermill": {
     "duration": 0.100776,
     "end_time": "2022-05-27T17:48:48.877636",
     "exception": false,
     "start_time": "2022-05-27T17:48:48.776860",
     "status": "completed"
    },
    "scrolled": true,
    "tags": []
   },
   "outputs": [
    {
     "data": {
      "text/html": [
       "<style type=\"text/css\">\n",
       "#T_b33c3 th {\n",
       "  text-align: center;\n",
       "}\n",
       "#T_b33c3_row0_col0, #T_b33c3_row1_col0, #T_b33c3_row2_col0, #T_b33c3_row3_col0, #T_b33c3_row4_col0, #T_b33c3_row5_col0, #T_b33c3_row6_col0, #T_b33c3_row7_col0, #T_b33c3_row8_col0, #T_b33c3_row9_col0, #T_b33c3_row10_col0, #T_b33c3_row11_col0, #T_b33c3_row12_col0, #T_b33c3_row13_col0, #T_b33c3_row14_col0, #T_b33c3_row15_col0, #T_b33c3_row16_col0, #T_b33c3_row17_col0, #T_b33c3_row18_col0, #T_b33c3_row19_col0, #T_b33c3_row20_col0, #T_b33c3_row21_col0, #T_b33c3_row22_col0, #T_b33c3_row23_col0, #T_b33c3_row24_col0, #T_b33c3_row25_col0, #T_b33c3_row26_col0, #T_b33c3_row27_col0, #T_b33c3_row28_col0, #T_b33c3_row29_col0, #T_b33c3_row30_col0, #T_b33c3_row31_col0, #T_b33c3_row32_col0, #T_b33c3_row33_col0, #T_b33c3_row34_col0, #T_b33c3_row35_col0, #T_b33c3_row36_col0, #T_b33c3_row37_col0, #T_b33c3_row38_col0, #T_b33c3_row39_col0, #T_b33c3_row40_col0, #T_b33c3_row41_col0, #T_b33c3_row42_col0, #T_b33c3_row43_col0, #T_b33c3_row44_col0, #T_b33c3_row45_col0, #T_b33c3_row46_col0, #T_b33c3_row47_col0, #T_b33c3_row48_col0, #T_b33c3_row49_col0, #T_b33c3_row50_col0, #T_b33c3_row51_col0, #T_b33c3_row52_col0, #T_b33c3_row53_col0, #T_b33c3_row54_col0, #T_b33c3_row55_col0, #T_b33c3_row56_col0, #T_b33c3_row57_col0, #T_b33c3_row58_col0 {\n",
       "  text-align: center;\n",
       "}\n",
       "#T_b33c3_row0_col1, #T_b33c3_row1_col1, #T_b33c3_row2_col1, #T_b33c3_row3_col1, #T_b33c3_row4_col1, #T_b33c3_row5_col1, #T_b33c3_row6_col1, #T_b33c3_row7_col1, #T_b33c3_row8_col1, #T_b33c3_row9_col1, #T_b33c3_row10_col1, #T_b33c3_row11_col1, #T_b33c3_row12_col1, #T_b33c3_row13_col1, #T_b33c3_row14_col1, #T_b33c3_row15_col1, #T_b33c3_row16_col1, #T_b33c3_row17_col1, #T_b33c3_row18_col1, #T_b33c3_row19_col1, #T_b33c3_row20_col1, #T_b33c3_row21_col1, #T_b33c3_row22_col1, #T_b33c3_row23_col1, #T_b33c3_row24_col1, #T_b33c3_row25_col1, #T_b33c3_row26_col1, #T_b33c3_row27_col1, #T_b33c3_row28_col1, #T_b33c3_row29_col1, #T_b33c3_row30_col1, #T_b33c3_row31_col1, #T_b33c3_row32_col1, #T_b33c3_row33_col1, #T_b33c3_row34_col1, #T_b33c3_row35_col1, #T_b33c3_row36_col1, #T_b33c3_row37_col1, #T_b33c3_row38_col1, #T_b33c3_row39_col1, #T_b33c3_row40_col1, #T_b33c3_row41_col1, #T_b33c3_row42_col1, #T_b33c3_row43_col1, #T_b33c3_row44_col1, #T_b33c3_row45_col1, #T_b33c3_row46_col1, #T_b33c3_row47_col1, #T_b33c3_row48_col1, #T_b33c3_row49_col1, #T_b33c3_row50_col1, #T_b33c3_row51_col1, #T_b33c3_row52_col1, #T_b33c3_row53_col1, #T_b33c3_row54_col1, #T_b33c3_row55_col1, #T_b33c3_row56_col1, #T_b33c3_row57_col1, #T_b33c3_row58_col1 {\n",
       "  text-align: center;\n",
       "  text-align: right;\n",
       "}\n",
       "</style>\n",
       "<table id=\"T_b33c3\">\n",
       "  <thead>\n",
       "    <tr>\n",
       "      <th id=\"T_b33c3_level0_col0\" class=\"col_heading level0 col0\" >County</th>\n",
       "      <th id=\"T_b33c3_level0_col1\" class=\"col_heading level0 col1\" >Sum Allocated</th>\n",
       "    </tr>\n",
       "  </thead>\n",
       "  <tbody>\n",
       "    <tr>\n",
       "      <td id=\"T_b33c3_row0_col0\" class=\"data row0 col0\" >Alameda</td>\n",
       "      <td id=\"T_b33c3_row0_col1\" class=\"data row0 col1\" >$2,982,664.00</td>\n",
       "    </tr>\n",
       "    <tr>\n",
       "      <td id=\"T_b33c3_row1_col0\" class=\"data row1 col0\" >Alameda, Contra Costa</td>\n",
       "      <td id=\"T_b33c3_row1_col1\" class=\"data row1 col1\" >$671,900.00</td>\n",
       "    </tr>\n",
       "    <tr>\n",
       "      <td id=\"T_b33c3_row2_col0\" class=\"data row2 col0\" >Amador</td>\n",
       "      <td id=\"T_b33c3_row2_col1\" class=\"data row2 col1\" >$469,995.00</td>\n",
       "    </tr>\n",
       "    <tr>\n",
       "      <td id=\"T_b33c3_row3_col0\" class=\"data row3 col0\" >Amador, Calaveras</td>\n",
       "      <td id=\"T_b33c3_row3_col1\" class=\"data row3 col1\" >$299,479.40</td>\n",
       "    </tr>\n",
       "    <tr>\n",
       "      <td id=\"T_b33c3_row4_col0\" class=\"data row4 col0\" >Butte</td>\n",
       "      <td id=\"T_b33c3_row4_col1\" class=\"data row4 col1\" >$1,235,790.10</td>\n",
       "    </tr>\n",
       "    <tr>\n",
       "      <td id=\"T_b33c3_row5_col0\" class=\"data row5 col0\" >Butte, Glen</td>\n",
       "      <td id=\"T_b33c3_row5_col1\" class=\"data row5 col1\" >$813,194.00</td>\n",
       "    </tr>\n",
       "    <tr>\n",
       "      <td id=\"T_b33c3_row6_col0\" class=\"data row6 col0\" >Calaveras</td>\n",
       "      <td id=\"T_b33c3_row6_col1\" class=\"data row6 col1\" >$0.00</td>\n",
       "    </tr>\n",
       "    <tr>\n",
       "      <td id=\"T_b33c3_row7_col0\" class=\"data row7 col0\" >Calaveras, Amador, Tuolumne</td>\n",
       "      <td id=\"T_b33c3_row7_col1\" class=\"data row7 col1\" >$826,157.00</td>\n",
       "    </tr>\n",
       "    <tr>\n",
       "      <td id=\"T_b33c3_row8_col0\" class=\"data row8 col0\" >Colusa</td>\n",
       "      <td id=\"T_b33c3_row8_col1\" class=\"data row8 col1\" >$162,400.00</td>\n",
       "    </tr>\n",
       "    <tr>\n",
       "      <td id=\"T_b33c3_row9_col0\" class=\"data row9 col0\" >Contra Costa</td>\n",
       "      <td id=\"T_b33c3_row9_col1\" class=\"data row9 col1\" >$3,007,198.00</td>\n",
       "    </tr>\n",
       "    <tr>\n",
       "      <td id=\"T_b33c3_row10_col0\" class=\"data row10 col0\" >Contra Costa, Napa, Solano, Sacramento</td>\n",
       "      <td id=\"T_b33c3_row10_col1\" class=\"data row10 col1\" >$369,716.00</td>\n",
       "    </tr>\n",
       "    <tr>\n",
       "      <td id=\"T_b33c3_row11_col0\" class=\"data row11 col0\" >Del Norte</td>\n",
       "      <td id=\"T_b33c3_row11_col1\" class=\"data row11 col1\" >$132,700.00</td>\n",
       "    </tr>\n",
       "    <tr>\n",
       "      <td id=\"T_b33c3_row12_col0\" class=\"data row12 col0\" >Douglas, Placer, Washoe, Carson City</td>\n",
       "      <td id=\"T_b33c3_row12_col1\" class=\"data row12 col1\" >$80,000.00</td>\n",
       "    </tr>\n",
       "    <tr>\n",
       "      <td id=\"T_b33c3_row13_col0\" class=\"data row13 col0\" >El Dorado</td>\n",
       "      <td id=\"T_b33c3_row13_col1\" class=\"data row13 col1\" >$666,000.00</td>\n",
       "    </tr>\n",
       "    <tr>\n",
       "      <td id=\"T_b33c3_row14_col0\" class=\"data row14 col0\" >Humboldt</td>\n",
       "      <td id=\"T_b33c3_row14_col1\" class=\"data row14 col1\" >$1,133,905.57</td>\n",
       "    </tr>\n",
       "    <tr>\n",
       "      <td id=\"T_b33c3_row15_col0\" class=\"data row15 col0\" >Humboldt, De Norte</td>\n",
       "      <td id=\"T_b33c3_row15_col1\" class=\"data row15 col1\" >$146,534.00</td>\n",
       "    </tr>\n",
       "    <tr>\n",
       "      <td id=\"T_b33c3_row16_col0\" class=\"data row16 col0\" >Imperial</td>\n",
       "      <td id=\"T_b33c3_row16_col1\" class=\"data row16 col1\" >$1,257,956.00</td>\n",
       "    </tr>\n",
       "    <tr>\n",
       "      <td id=\"T_b33c3_row17_col0\" class=\"data row17 col0\" >Inyo</td>\n",
       "      <td id=\"T_b33c3_row17_col1\" class=\"data row17 col1\" >$284,287.00</td>\n",
       "    </tr>\n",
       "    <tr>\n",
       "      <td id=\"T_b33c3_row18_col0\" class=\"data row18 col0\" >Inyo, Mono</td>\n",
       "      <td id=\"T_b33c3_row18_col1\" class=\"data row18 col1\" >$72,710.00</td>\n",
       "    </tr>\n",
       "    <tr>\n",
       "      <td id=\"T_b33c3_row19_col0\" class=\"data row19 col0\" >Kern</td>\n",
       "      <td id=\"T_b33c3_row19_col1\" class=\"data row19 col1\" >$3,133,432.69</td>\n",
       "    </tr>\n",
       "    <tr>\n",
       "      <td id=\"T_b33c3_row20_col0\" class=\"data row20 col0\" >Kings</td>\n",
       "      <td id=\"T_b33c3_row20_col1\" class=\"data row20 col1\" >$879,572.49</td>\n",
       "    </tr>\n",
       "    <tr>\n",
       "      <td id=\"T_b33c3_row21_col0\" class=\"data row21 col0\" >Lake</td>\n",
       "      <td id=\"T_b33c3_row21_col1\" class=\"data row21 col1\" >$1,028,208.00</td>\n",
       "    </tr>\n",
       "    <tr>\n",
       "      <td id=\"T_b33c3_row22_col0\" class=\"data row22 col0\" >Lassen, Modoc</td>\n",
       "      <td id=\"T_b33c3_row22_col1\" class=\"data row22 col1\" >$63,000.00</td>\n",
       "    </tr>\n",
       "    <tr>\n",
       "      <td id=\"T_b33c3_row23_col0\" class=\"data row23 col0\" >Marin</td>\n",
       "      <td id=\"T_b33c3_row23_col1\" class=\"data row23 col1\" >$2,454,160.00</td>\n",
       "    </tr>\n",
       "    <tr>\n",
       "      <td id=\"T_b33c3_row24_col0\" class=\"data row24 col0\" >Mendocino</td>\n",
       "      <td id=\"T_b33c3_row24_col1\" class=\"data row24 col1\" >$1,671,032.57</td>\n",
       "    </tr>\n",
       "    <tr>\n",
       "      <td id=\"T_b33c3_row25_col0\" class=\"data row25 col0\" >Monterey</td>\n",
       "      <td id=\"T_b33c3_row25_col1\" class=\"data row25 col1\" >$1,440,200.00</td>\n",
       "    </tr>\n",
       "    <tr>\n",
       "      <td id=\"T_b33c3_row26_col0\" class=\"data row26 col0\" >Monterey, San Mateo, San Benito, Santa Clara, San Francisco</td>\n",
       "      <td id=\"T_b33c3_row26_col1\" class=\"data row26 col1\" >$1,077,567.60</td>\n",
       "    </tr>\n",
       "    <tr>\n",
       "      <td id=\"T_b33c3_row27_col0\" class=\"data row27 col0\" >Napa</td>\n",
       "      <td id=\"T_b33c3_row27_col1\" class=\"data row27 col1\" >$280,000.00</td>\n",
       "    </tr>\n",
       "    <tr>\n",
       "      <td id=\"T_b33c3_row28_col0\" class=\"data row28 col0\" >Nevada</td>\n",
       "      <td id=\"T_b33c3_row28_col1\" class=\"data row28 col1\" >$1,153,206.00</td>\n",
       "    </tr>\n",
       "    <tr>\n",
       "      <td id=\"T_b33c3_row29_col0\" class=\"data row29 col0\" >Nevada, Sierra</td>\n",
       "      <td id=\"T_b33c3_row29_col1\" class=\"data row29 col1\" >$871,243.00</td>\n",
       "    </tr>\n",
       "    <tr>\n",
       "      <td id=\"T_b33c3_row30_col0\" class=\"data row30 col0\" >Orange, Los Angeles, Riverside, San Bernardino, Ventura</td>\n",
       "      <td id=\"T_b33c3_row30_col1\" class=\"data row30 col1\" >$445,941.00</td>\n",
       "    </tr>\n",
       "    <tr>\n",
       "      <td id=\"T_b33c3_row31_col0\" class=\"data row31 col0\" >Placer</td>\n",
       "      <td id=\"T_b33c3_row31_col1\" class=\"data row31 col1\" >$2,453,032.41</td>\n",
       "    </tr>\n",
       "    <tr>\n",
       "      <td id=\"T_b33c3_row32_col0\" class=\"data row32 col0\" >Riverside</td>\n",
       "      <td id=\"T_b33c3_row32_col1\" class=\"data row32 col1\" >$6,723,401.00</td>\n",
       "    </tr>\n",
       "    <tr>\n",
       "      <td id=\"T_b33c3_row33_col0\" class=\"data row33 col0\" >Sacramento</td>\n",
       "      <td id=\"T_b33c3_row33_col1\" class=\"data row33 col1\" >$5,117,233.55</td>\n",
       "    </tr>\n",
       "    <tr>\n",
       "      <td id=\"T_b33c3_row34_col0\" class=\"data row34 col0\" >San Benito</td>\n",
       "      <td id=\"T_b33c3_row34_col1\" class=\"data row34 col1\" >$533,600.00</td>\n",
       "    </tr>\n",
       "    <tr>\n",
       "      <td id=\"T_b33c3_row35_col0\" class=\"data row35 col0\" >San Bernardino</td>\n",
       "      <td id=\"T_b33c3_row35_col1\" class=\"data row35 col1\" >$3,637,150.00</td>\n",
       "    </tr>\n",
       "    <tr>\n",
       "      <td id=\"T_b33c3_row36_col0\" class=\"data row36 col0\" >San Bernardino, Riverside, Los Angeles</td>\n",
       "      <td id=\"T_b33c3_row36_col1\" class=\"data row36 col1\" >$320,411.00</td>\n",
       "    </tr>\n",
       "    <tr>\n",
       "      <td id=\"T_b33c3_row37_col0\" class=\"data row37 col0\" >San Diego</td>\n",
       "      <td id=\"T_b33c3_row37_col1\" class=\"data row37 col1\" >$2,077,171.00</td>\n",
       "    </tr>\n",
       "    <tr>\n",
       "      <td id=\"T_b33c3_row38_col0\" class=\"data row38 col0\" >San Francisco</td>\n",
       "      <td id=\"T_b33c3_row38_col1\" class=\"data row38 col1\" >$4,537,490.00</td>\n",
       "    </tr>\n",
       "    <tr>\n",
       "      <td id=\"T_b33c3_row39_col0\" class=\"data row39 col0\" >San Francisco, Alameda, San Mateo, Santa Clara</td>\n",
       "      <td id=\"T_b33c3_row39_col1\" class=\"data row39 col1\" >$242,098.00</td>\n",
       "    </tr>\n",
       "    <tr>\n",
       "      <td id=\"T_b33c3_row40_col0\" class=\"data row40 col0\" >San Francisco, San Mateo, Santa Clara</td>\n",
       "      <td id=\"T_b33c3_row40_col1\" class=\"data row40 col1\" >$876,400.00</td>\n",
       "    </tr>\n",
       "    <tr>\n",
       "      <td id=\"T_b33c3_row41_col0\" class=\"data row41 col0\" >San Joaquin</td>\n",
       "      <td id=\"T_b33c3_row41_col1\" class=\"data row41 col1\" >$1,882,471.00</td>\n",
       "    </tr>\n",
       "    <tr>\n",
       "      <td id=\"T_b33c3_row42_col0\" class=\"data row42 col0\" >San Luis Obispo</td>\n",
       "      <td id=\"T_b33c3_row42_col1\" class=\"data row42 col1\" >$1,941,324.00</td>\n",
       "    </tr>\n",
       "    <tr>\n",
       "      <td id=\"T_b33c3_row43_col0\" class=\"data row43 col0\" >San Mateo</td>\n",
       "      <td id=\"T_b33c3_row43_col1\" class=\"data row43 col1\" >$838,212.52</td>\n",
       "    </tr>\n",
       "    <tr>\n",
       "      <td id=\"T_b33c3_row44_col0\" class=\"data row44 col0\" >Santa Barbara</td>\n",
       "      <td id=\"T_b33c3_row44_col1\" class=\"data row44 col1\" >$2,151,408.60</td>\n",
       "    </tr>\n",
       "    <tr>\n",
       "      <td id=\"T_b33c3_row45_col0\" class=\"data row45 col0\" >Santa Barbara, Monterey, San Luis Obispo</td>\n",
       "      <td id=\"T_b33c3_row45_col1\" class=\"data row45 col1\" >$375,600.00</td>\n",
       "    </tr>\n",
       "    <tr>\n",
       "      <td id=\"T_b33c3_row46_col0\" class=\"data row46 col0\" >Santa Clara</td>\n",
       "      <td id=\"T_b33c3_row46_col1\" class=\"data row46 col1\" >$2,890,663.00</td>\n",
       "    </tr>\n",
       "    <tr>\n",
       "      <td id=\"T_b33c3_row47_col0\" class=\"data row47 col0\" >Santa Clara, Alameda</td>\n",
       "      <td id=\"T_b33c3_row47_col1\" class=\"data row47 col1\" >$1,586,425.00</td>\n",
       "    </tr>\n",
       "    <tr>\n",
       "      <td id=\"T_b33c3_row48_col0\" class=\"data row48 col0\" >Santa Cruz</td>\n",
       "      <td id=\"T_b33c3_row48_col1\" class=\"data row48 col1\" >$408,304.00</td>\n",
       "    </tr>\n",
       "    <tr>\n",
       "      <td id=\"T_b33c3_row49_col0\" class=\"data row49 col0\" >Santa Cruz, San Benito, Santa Clara, Monterey</td>\n",
       "      <td id=\"T_b33c3_row49_col1\" class=\"data row49 col1\" >$390,991.00</td>\n",
       "    </tr>\n",
       "    <tr>\n",
       "      <td id=\"T_b33c3_row50_col0\" class=\"data row50 col0\" >Shasta</td>\n",
       "      <td id=\"T_b33c3_row50_col1\" class=\"data row50 col1\" >$874,329.71</td>\n",
       "    </tr>\n",
       "    <tr>\n",
       "      <td id=\"T_b33c3_row51_col0\" class=\"data row51 col0\" >Solano</td>\n",
       "      <td id=\"T_b33c3_row51_col1\" class=\"data row51 col1\" >$2,006,537.00</td>\n",
       "    </tr>\n",
       "    <tr>\n",
       "      <td id=\"T_b33c3_row52_col0\" class=\"data row52 col0\" >Sonoma</td>\n",
       "      <td id=\"T_b33c3_row52_col1\" class=\"data row52 col1\" >$1,303,586.00</td>\n",
       "    </tr>\n",
       "    <tr>\n",
       "      <td id=\"T_b33c3_row53_col0\" class=\"data row53 col0\" >Stanislaus</td>\n",
       "      <td id=\"T_b33c3_row53_col1\" class=\"data row53 col1\" >$692,200.00</td>\n",
       "    </tr>\n",
       "    <tr>\n",
       "      <td id=\"T_b33c3_row54_col0\" class=\"data row54 col0\" >Tehama</td>\n",
       "      <td id=\"T_b33c3_row54_col1\" class=\"data row54 col1\" >$747,255.16</td>\n",
       "    </tr>\n",
       "    <tr>\n",
       "      <td id=\"T_b33c3_row55_col0\" class=\"data row55 col0\" >Tulare</td>\n",
       "      <td id=\"T_b33c3_row55_col1\" class=\"data row55 col1\" >$1,168,422.13</td>\n",
       "    </tr>\n",
       "    <tr>\n",
       "      <td id=\"T_b33c3_row56_col0\" class=\"data row56 col0\" >Tuolumne</td>\n",
       "      <td id=\"T_b33c3_row56_col1\" class=\"data row56 col1\" >$249,377.00</td>\n",
       "    </tr>\n",
       "    <tr>\n",
       "      <td id=\"T_b33c3_row57_col0\" class=\"data row57 col0\" >Ventura</td>\n",
       "      <td id=\"T_b33c3_row57_col1\" class=\"data row57 col1\" >$60,000.00</td>\n",
       "    </tr>\n",
       "    <tr>\n",
       "      <td id=\"T_b33c3_row58_col0\" class=\"data row58 col0\" >Yolo</td>\n",
       "      <td id=\"T_b33c3_row58_col1\" class=\"data row58 col1\" >$64,426.73</td>\n",
       "    </tr>\n",
       "  </tbody>\n",
       "</table>\n"
      ],
      "text/plain": [
       "<IPython.core.display.HTML object>"
      ]
     },
     "metadata": {},
     "output_type": "display_data"
    }
   ],
   "source": [
    "county = (df\n",
    " >> group_by(_.county)\n",
    " >> summarize(sum_allocated = _.allocationamount.sum())\n",
    ")\n",
    "\n",
    "county.sum_allocated = county.sum_allocated.map('${:,.2f}'.format)\n",
    "display(HTML(_dla_utils.pretify_tables(county)))"
   ]
  },
  {
   "cell_type": "code",
   "execution_count": null,
   "id": "1a3835c4-f5d4-4840-9845-995722ecd5c2",
   "metadata": {
    "papermill": {
     "duration": 0.040192,
     "end_time": "2022-05-27T17:48:48.964572",
     "exception": false,
     "start_time": "2022-05-27T17:48:48.924380",
     "status": "completed"
    },
    "tags": []
   },
   "outputs": [],
   "source": []
  }
 ],
 "metadata": {
  "kernelspec": {
   "display_name": "Python 3 (ipykernel)",
   "language": "python",
   "name": "python3"
  },
  "language_info": {
   "codemirror_mode": {
    "name": "ipython",
    "version": 3
   },
   "file_extension": ".py",
   "mimetype": "text/x-python",
   "name": "python",
   "nbconvert_exporter": "python",
   "pygments_lexer": "ipython3",
   "version": "3.9.12"
  },
  "papermill": {
   "default_parameters": {},
   "duration": 17.062802,
   "end_time": "2022-05-27T17:48:50.129060",
   "environment_variables": {},
   "exception": null,
   "input_path": "5310_report_work.ipynb",
   "output_path": "5310_report_output.ipynb",
   "parameters": {},
   "start_time": "2022-05-27T17:48:33.066258",
   "version": "2.3.4"
  },
  "widgets": {
   "application/vnd.jupyter.widget-state+json": {
    "state": {},
    "version_major": 2,
    "version_minor": 0
   }
  }
 },
 "nbformat": 4,
 "nbformat_minor": 5
}