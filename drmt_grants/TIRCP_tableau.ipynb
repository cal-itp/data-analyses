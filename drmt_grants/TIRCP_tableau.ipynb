{
 "cells": [
  {
   "cell_type": "markdown",
   "id": "8fa13b1e-0b92-4f67-a5e8-762f135c4db9",
   "metadata": {},
   "source": [
    "# Cleaning up Grants Data\n",
    "----\n",
    "\n",
    "There are three sheets in the TIRCP workbook. However, it seems like the summary reports mostly rely on two: one called project tracking and one called allocation tracking, so I am only loading those in.\n"
   ]
  },
  {
   "cell_type": "code",
   "execution_count": 71,
   "id": "dfcd28c5-7dc7-4f3e-8731-b48ebaeb2224",
   "metadata": {},
   "outputs": [
    {
     "name": "stdout",
     "output_type": "stream",
     "text": [
      "Requirement already satisfied: openpyxl in /opt/conda/lib/python3.9/site-packages (3.0.9)\n",
      "Requirement already satisfied: et-xmlfile in /opt/conda/lib/python3.9/site-packages (from openpyxl) (1.1.0)\n"
     ]
    }
   ],
   "source": [
    "import pandas as pd\n",
    "import math\n",
    "!pip install openpyxl"
   ]
  },
  {
   "cell_type": "code",
   "execution_count": 72,
   "id": "b4fddfb7-6d8a-4665-b277-3d44cbc32357",
   "metadata": {},
   "outputs": [],
   "source": [
    "GCS_FILE_PATH = \"gs://calitp-analytics-data/data-analyses/tircp/\"\n",
    "FILE_NAME1 = \"Raw_Project_Tracking_Sheet.xlsx\"\n",
    "project = pd.read_excel(f\"{GCS_FILE_PATH}{FILE_NAME1}\")\n",
    "FILE_NAME2 = \"Allocation_Agreement.xlsx\"\n",
    "allocation = pd.read_excel(f\"{GCS_FILE_PATH}{FILE_NAME2}\")"
   ]
  },
  {
   "cell_type": "code",
   "execution_count": 73,
   "id": "15f101e3-f943-4873-945a-4772c985d8a6",
   "metadata": {},
   "outputs": [],
   "source": [
    "#cleaning up spaces in columns\n",
    "project.columns = project.columns.str.strip().str.replace(' ', '_')\n",
    "allocation.columns = allocation.columns.str.strip().str.replace(' ', '_')"
   ]
  },
  {
   "cell_type": "markdown",
   "id": "eb796e7c-b1dd-4d89-87ac-c000f291f38c",
   "metadata": {},
   "source": [
    "### Note: Third party award date is called CON Contract Award Date in TIRCP SAR Attachment "
   ]
  },
  {
   "cell_type": "code",
   "execution_count": 74,
   "id": "92614cfc-248c-4ce2-b61a-3ffeab9966f0",
   "metadata": {},
   "outputs": [],
   "source": [
    "#subsetting for only columns of interest\n",
    "df_project = project[['Award_Year', 'Project_#','Local_Agency','Project_Title','PPNO',\n",
    "                      'Key_Project_Elements','TIRCP_Award_Amount_($)','Allocated_Amount','Expended_Amount']]"
   ]
  },
  {
   "cell_type": "code",
   "execution_count": 75,
   "id": "44afcac4-b07b-4503-be0c-a02d8dd1ebb0",
   "metadata": {},
   "outputs": [],
   "source": [
    "#subsetting for only columns of interest\n",
    "df_allocation = allocation[['Award_Year','Award_Recipient', 'Implementing_Agency', 'PPNO','Phase', 'Allocation_Date','Completion_Date','3rd_Party_Award_Date','Components']]"
   ]
  },
  {
   "cell_type": "code",
   "execution_count": 76,
   "id": "ce1ec6d0-17e6-447b-bd67-53e258af96c1",
   "metadata": {},
   "outputs": [],
   "source": [
    "#strip spaces in columns\n",
    "df_project.columns = df_project.columns.map(lambda x: x.strip())\n",
    "df_allocation.columns = df_allocation.columns.map(lambda x: x.strip())"
   ]
  },
  {
   "cell_type": "markdown",
   "id": "44c82d85-8f34-4185-89a1-8d417802b19e",
   "metadata": {
    "tags": []
   },
   "source": [
    "# Cleaning Allocation Sheet "
   ]
  },
  {
   "cell_type": "markdown",
   "id": "8e1b129d-e9b2-43b2-a87d-6233e1a396cd",
   "metadata": {},
   "source": [
    "## Cleaning up PPNO, can only be 5 characters."
   ]
  },
  {
   "cell_type": "code",
   "execution_count": 77,
   "id": "678acd92-65da-4b13-a252-4b84129e9be2",
   "metadata": {},
   "outputs": [],
   "source": [
    "#remove the extra characters in PPNO in allocation to match the PPNO in project data frame bc there should only be five characters and numbers in each PPNO value\n",
    "df_allocation = df_allocation.assign(\n",
    "    PPNO_New = df_allocation['PPNO'].str.slice(start=0, stop=5)\n",
    ")"
   ]
  },
  {
   "cell_type": "code",
   "execution_count": 78,
   "id": "6eee8e45-06de-48d7-9b1f-32d231abd6e3",
   "metadata": {},
   "outputs": [
    {
     "data": {
      "text/plain": [
       "(307, 10)"
      ]
     },
     "execution_count": 78,
     "metadata": {},
     "output_type": "execute_result"
    }
   ],
   "source": [
    "df_allocation.shape"
   ]
  },
  {
   "cell_type": "code",
   "execution_count": 79,
   "id": "45bb05b2-fb95-4db3-a0a6-16f24a6761ac",
   "metadata": {},
   "outputs": [],
   "source": [
    "#test = df_allocation[(df_allocation.Award_Recipient.str.contains(\"Metropolitan\", case= False))]"
   ]
  },
  {
   "cell_type": "code",
   "execution_count": 80,
   "id": "06c167cc-3504-4e30-9123-7c5d72c520f2",
   "metadata": {},
   "outputs": [],
   "source": [
    "#CSV with PPNO & Award Recipients\n",
    "FILE_NAME2 = \"Allocation_PPNO_Crosswalk.csv\"\n",
    "allocation_ppno = pd.read_csv(f\"{GCS_FILE_PATH}{FILE_NAME2}\")"
   ]
  },
  {
   "cell_type": "code",
   "execution_count": 81,
   "id": "bf9057e2-cbb8-4054-bc1b-3b9291025dce",
   "metadata": {},
   "outputs": [
    {
     "data": {
      "text/html": [
       "<div>\n",
       "<style scoped>\n",
       "    .dataframe tbody tr th:only-of-type {\n",
       "        vertical-align: middle;\n",
       "    }\n",
       "\n",
       "    .dataframe tbody tr th {\n",
       "        vertical-align: top;\n",
       "    }\n",
       "\n",
       "    .dataframe thead th {\n",
       "        text-align: right;\n",
       "    }\n",
       "</style>\n",
       "<table border=\"1\" class=\"dataframe\">\n",
       "  <thead>\n",
       "    <tr style=\"text-align: right;\">\n",
       "      <th></th>\n",
       "      <th>Award_Year</th>\n",
       "      <th>PPNO_New2</th>\n",
       "      <th>Award_Recipient</th>\n",
       "    </tr>\n",
       "  </thead>\n",
       "  <tbody>\n",
       "    <tr>\n",
       "      <th>0</th>\n",
       "      <td>2020</td>\n",
       "      <td>CP065</td>\n",
       "      <td>Los Angeles County Metropolitan Transportation...</td>\n",
       "    </tr>\n",
       "    <tr>\n",
       "      <th>1</th>\n",
       "      <td>2020</td>\n",
       "      <td>CP066</td>\n",
       "      <td>Los Angeles-San Diego-San Luis Obispo Rail Cor...</td>\n",
       "    </tr>\n",
       "    <tr>\n",
       "      <th>2</th>\n",
       "      <td>2016</td>\n",
       "      <td>1230</td>\n",
       "      <td>San Bernardino County Transportation Authority...</td>\n",
       "    </tr>\n",
       "    <tr>\n",
       "      <th>3</th>\n",
       "      <td>2018</td>\n",
       "      <td>1155</td>\n",
       "      <td>Transportation Agency for Monterey County</td>\n",
       "    </tr>\n",
       "  </tbody>\n",
       "</table>\n",
       "</div>"
      ],
      "text/plain": [
       "   Award_Year PPNO_New2                                    Award_Recipient\n",
       "0        2020     CP065  Los Angeles County Metropolitan Transportation...\n",
       "1        2020     CP066  Los Angeles-San Diego-San Luis Obispo Rail Cor...\n",
       "2        2016      1230  San Bernardino County Transportation Authority...\n",
       "3        2018      1155          Transportation Agency for Monterey County"
      ]
     },
     "execution_count": 81,
     "metadata": {},
     "output_type": "execute_result"
    }
   ],
   "source": [
    "allocation_ppno"
   ]
  },
  {
   "cell_type": "code",
   "execution_count": 82,
   "id": "7888529f-bcaa-4508-a86f-476200fd06fb",
   "metadata": {},
   "outputs": [],
   "source": [
    "#Filtering out for 2021, since that entry is blank\n",
    "df_allocation = df_allocation.query(\"Award_Year != 2021\")"
   ]
  },
  {
   "cell_type": "code",
   "execution_count": 83,
   "id": "be528f91-11a4-40e8-bc76-023e841453ad",
   "metadata": {},
   "outputs": [],
   "source": [
    "#Merge in Crosswalk \n",
    "df_allocation = pd.merge(df_allocation, allocation_ppno, on = [\"Award_Year\", \"Award_Recipient\"], how = \"left\")"
   ]
  },
  {
   "cell_type": "code",
   "execution_count": 84,
   "id": "43bf427e-c0eb-496c-b709-34e1c3824430",
   "metadata": {},
   "outputs": [
    {
     "data": {
      "text/plain": [
       "float"
      ]
     },
     "execution_count": 84,
     "metadata": {},
     "output_type": "execute_result"
    }
   ],
   "source": [
    "type(df_allocation.iloc[0].PPNO_New2)"
   ]
  },
  {
   "cell_type": "code",
   "execution_count": 85,
   "id": "033c09ef-48d4-4963-9a72-b08d1bf25b8a",
   "metadata": {},
   "outputs": [],
   "source": [
    "#some values in PPNO and PPNO_New2 are strings, some are floats...so have to convert PPNO New 2 to strings\n",
    "df_allocation.PPNO_New = df_allocation.apply(lambda x: x.PPNO_New if (str(x.PPNO_New2) == 'nan') else x.PPNO_New2, axis=1)"
   ]
  },
  {
   "cell_type": "code",
   "execution_count": 86,
   "id": "224eb1b7-05ee-495b-ab1d-2c2fc17a98b7",
   "metadata": {},
   "outputs": [],
   "source": [
    "#drop old column\n",
    "df_allocation = df_allocation.drop(['PPNO'], axis=1)"
   ]
  },
  {
   "cell_type": "code",
   "execution_count": 87,
   "id": "8062ee05-e2fc-4128-8464-c9847a81637c",
   "metadata": {
    "tags": []
   },
   "outputs": [],
   "source": [
    "#renaming columns to something neater\n",
    "df_allocation = df_allocation.rename(columns = {'PPNO_New':'PPNO', '3rd_Party_Award_Date':'Third_Party_Award_Date'})"
   ]
  },
  {
   "cell_type": "markdown",
   "id": "7c1523b8-33b4-40e1-92e9-dbb204492235",
   "metadata": {
    "tags": []
   },
   "source": [
    "## Cleaning up completion, allocation, & 3rd Party dates "
   ]
  },
  {
   "cell_type": "code",
   "execution_count": 88,
   "id": "7390cefb-53eb-471c-b404-b812ceec10c4",
   "metadata": {
    "scrolled": true,
    "tags": []
   },
   "outputs": [
    {
     "data": {
      "text/plain": [
       "[datetime.datetime(2015, 10, 22, 0, 0),\n",
       " datetime.datetime(2016, 5, 19, 0, 0),\n",
       " datetime.datetime(2016, 6, 30, 0, 0),\n",
       " datetime.datetime(2015, 12, 10, 0, 0),\n",
       " datetime.datetime(2015, 8, 27, 0, 0),\n",
       " datetime.datetime(2016, 1, 21, 0, 0),\n",
       " datetime.datetime(2017, 6, 29, 0, 0),\n",
       " datetime.datetime(2016, 10, 20, 0, 0),\n",
       " datetime.datetime(2017, 8, 17, 0, 0),\n",
       " datetime.datetime(2018, 1, 31, 0, 0),\n",
       " datetime.datetime(2017, 1, 19, 0, 0),\n",
       " datetime.datetime(2016, 3, 17, 0, 0),\n",
       " datetime.datetime(2017, 3, 16, 0, 0),\n",
       " datetime.datetime(2017, 5, 17, 0, 0),\n",
       " datetime.datetime(2018, 8, 16, 0, 0),\n",
       " 'TBD',\n",
       " datetime.datetime(2021, 6, 24, 0, 0),\n",
       " datetime.datetime(2016, 12, 8, 0, 0),\n",
       " datetime.datetime(2020, 6, 25, 0, 0),\n",
       " datetime.datetime(2019, 12, 5, 0, 0),\n",
       " datetime.datetime(2018, 10, 18, 0, 0),\n",
       " datetime.datetime(2021, 1, 28, 0, 0),\n",
       " nan,\n",
       " datetime.datetime(2018, 2, 1, 0, 0),\n",
       " datetime.datetime(2018, 5, 17, 0, 0),\n",
       " 'FY 26/27',\n",
       " datetime.datetime(2017, 5, 18, 0, 0),\n",
       " datetime.datetime(2018, 6, 28, 0, 0),\n",
       " datetime.datetime(2020, 10, 22, 0, 0),\n",
       " datetime.datetime(2018, 12, 6, 0, 0),\n",
       " datetime.datetime(2019, 10, 9, 0, 0),\n",
       " datetime.datetime(2020, 5, 14, 0, 0),\n",
       " datetime.datetime(2021, 5, 14, 0, 0),\n",
       " datetime.datetime(2019, 6, 27, 0, 0),\n",
       " datetime.datetime(2021, 3, 13, 0, 0),\n",
       " datetime.datetime(2020, 1, 30, 0, 0),\n",
       " datetime.datetime(2021, 6, 25, 0, 0),\n",
       " datetime.datetime(2019, 5, 16, 0, 0),\n",
       " datetime.datetime(2020, 12, 3, 0, 0),\n",
       " '08/12//20',\n",
       " datetime.datetime(2020, 8, 12, 0, 0),\n",
       " datetime.datetime(2018, 8, 15, 0, 0),\n",
       " datetime.datetime(2021, 8, 19, 0, 0),\n",
       " datetime.datetime(2019, 3, 14, 0, 0),\n",
       " datetime.datetime(2020, 3, 26, 0, 0),\n",
       " datetime.datetime(2019, 1, 31, 0, 0),\n",
       " datetime.datetime(2021, 3, 25, 0, 0),\n",
       " datetime.datetime(2019, 8, 15, 0, 0),\n",
       " datetime.datetime(2021, 5, 13, 0, 0),\n",
       " 'FY 21/22',\n",
       " datetime.datetime(2020, 8, 13, 0, 0),\n",
       " 'FY 22/23',\n",
       " 'FY 20/21',\n",
       " 'FY 23/24',\n",
       " 'FY 25/26',\n",
       " 'FY 24/25']"
      ]
     },
     "execution_count": 88,
     "metadata": {},
     "output_type": "execute_result"
    }
   ],
   "source": [
    "#cleaning up allocation dates\n",
    "df_allocation.Allocation_Date.unique().tolist()"
   ]
  },
  {
   "cell_type": "code",
   "execution_count": 89,
   "id": "fb7770b0-e204-421e-805d-b4a3b8823b83",
   "metadata": {
    "scrolled": true,
    "tags": []
   },
   "outputs": [],
   "source": [
    "#Had to change FY to an actual date \n",
    "df_allocation[\"Allocation_Date\"].replace({\"FY 26/27\": \"2026-12-31\", \"08/12//20\": '2020-08-12 00:00:00', 'FY 21/22': '2021-12-31',\n",
    "                                         'FY 22/23': '2022-12-31','FY 20/21': '2020-12-31', 'FY 23/24': '2023-12-31','FY 24/25': '2024-12-31','FY 25/26': '2025-12-31'}, inplace =True)"
   ]
  },
  {
   "cell_type": "code",
   "execution_count": 90,
   "id": "47989375-2bfe-4073-84b5-a695d4af6a8c",
   "metadata": {},
   "outputs": [],
   "source": [
    "#clean up columns in a loop\n",
    "for i in [\"Allocation_Date\", \"Third_Party_Award_Date\", \"Completion_Date\"]:\n",
    "    df_allocation[i] = df_allocation[i].replace('/', '-', regex = True).replace('Complete', '', regex = True).replace('\\n', '', regex=True).replace('Pending','TBD',regex= True).fillna('TBD')"
   ]
  },
  {
   "cell_type": "code",
   "execution_count": 91,
   "id": "85a18421-e12b-45ba-b68f-923bb33de102",
   "metadata": {
    "scrolled": true,
    "tags": []
   },
   "outputs": [
    {
     "data": {
      "text/plain": [
       "[datetime.datetime(2022, 3, 30, 0, 0),\n",
       " '6-1-2019',\n",
       " datetime.datetime(2021, 6, 30, 0, 0),\n",
       " datetime.datetime(2018, 9, 30, 0, 0),\n",
       " '2-11-2018',\n",
       " '6-30-2020',\n",
       " datetime.datetime(2020, 9, 30, 0, 0),\n",
       " ' 6-30-2018',\n",
       " '6-29-2020',\n",
       " '11-1-2019',\n",
       " ' 12-10-2018',\n",
       " ' 11-13-2019',\n",
       " '3-30-2020',\n",
       " datetime.datetime(2022, 9, 30, 0, 0),\n",
       " datetime.datetime(2021, 12, 30, 0, 0),\n",
       " datetime.datetime(2021, 9, 30, 0, 0),\n",
       " '5-16-2020',\n",
       " datetime.datetime(2024, 6, 30, 0, 0),\n",
       " 'TBD',\n",
       " 'June 24. 2024',\n",
       " datetime.datetime(2022, 12, 30, 0, 0),\n",
       " datetime.datetime(2024, 6, 24, 0, 0),\n",
       " '11-21-20247-30-2025 (Q4)',\n",
       " datetime.datetime(2022, 6, 30, 0, 0),\n",
       " datetime.datetime(2019, 5, 21, 0, 0),\n",
       " datetime.datetime(2024, 7, 25, 0, 0),\n",
       " datetime.datetime(2021, 12, 31, 0, 0),\n",
       " datetime.datetime(2024, 1, 28, 0, 0),\n",
       " datetime.datetime(2022, 10, 31, 0, 0),\n",
       " datetime.datetime(2022, 1, 16, 0, 0),\n",
       " datetime.datetime(2018, 2, 1, 0, 0),\n",
       " datetime.datetime(2022, 8, 22, 0, 0),\n",
       " datetime.datetime(2022, 7, 31, 0, 0),\n",
       " '5-7-2020',\n",
       " datetime.datetime(2022, 1, 1, 0, 0),\n",
       " datetime.datetime(2021, 4, 20, 0, 0),\n",
       " datetime.datetime(2030, 6, 1, 0, 0),\n",
       " datetime.datetime(2027, 12, 1, 0, 0),\n",
       " datetime.datetime(2024, 4, 1, 0, 0),\n",
       " datetime.datetime(2021, 10, 1, 0, 0),\n",
       " ' 6-30-2020',\n",
       " datetime.datetime(2023, 6, 30, 0, 0),\n",
       " datetime.datetime(2023, 4, 3, 0, 0),\n",
       " datetime.datetime(2021, 7, 31, 0, 0),\n",
       " datetime.datetime(2023, 7, 13, 0, 0),\n",
       " datetime.datetime(2022, 1, 7, 0, 0),\n",
       " datetime.datetime(2030, 1, 1, 0, 0),\n",
       " datetime.datetime(2022, 2, 16, 0, 0),\n",
       " datetime.datetime(2021, 12, 26, 0, 0),\n",
       " datetime.datetime(2021, 12, 25, 0, 0),\n",
       " datetime.datetime(2020, 11, 30, 0, 0),\n",
       " datetime.datetime(2021, 12, 23, 0, 0),\n",
       " datetime.datetime(2023, 6, 25, 0, 0),\n",
       " datetime.datetime(2022, 10, 1, 0, 0),\n",
       " datetime.datetime(2023, 2, 3, 0, 0),\n",
       " datetime.datetime(2022, 2, 8, 0, 0),\n",
       " datetime.datetime(2025, 1, 31, 0, 0),\n",
       " datetime.datetime(2025, 1, 1, 0, 0),\n",
       " 'Jun-26',\n",
       " 'Jun-29',\n",
       " datetime.datetime(2030, 6, 30, 0, 0),\n",
       " datetime.datetime(2031, 6, 30, 0, 0),\n",
       " datetime.datetime(2023, 11, 30, 0, 0),\n",
       " '11-12-2019',\n",
       " datetime.datetime(2022, 10, 9, 0, 0),\n",
       " datetime.datetime(2023, 10, 22, 0, 0),\n",
       " datetime.datetime(2023, 12, 1, 0, 0),\n",
       " datetime.datetime(2024, 1, 21, 0, 0),\n",
       " datetime.datetime(2024, 12, 1, 0, 0),\n",
       " datetime.datetime(2024, 12, 24, 0, 0),\n",
       " datetime.datetime(2025, 12, 1, 0, 0),\n",
       " datetime.datetime(2023, 5, 23, 0, 0),\n",
       " datetime.datetime(2023, 5, 1, 0, 0),\n",
       " datetime.datetime(2023, 12, 23, 0, 0),\n",
       " datetime.datetime(2024, 3, 1, 0, 0),\n",
       " datetime.datetime(2024, 6, 1, 0, 0),\n",
       " datetime.datetime(2021, 12, 6, 0, 0),\n",
       " datetime.datetime(2026, 12, 1, 0, 0),\n",
       " datetime.datetime(2021, 4, 30, 0, 0),\n",
       " 'Deallocated',\n",
       " datetime.datetime(2021, 1, 29, 0, 0),\n",
       " datetime.datetime(2022, 11, 30, 0, 0),\n",
       " 'Jun-28',\n",
       " datetime.datetime(2026, 2, 12, 0, 0),\n",
       " datetime.datetime(2022, 6, 27, 0, 0),\n",
       " datetime.datetime(2022, 11, 13, 0, 0),\n",
       " 'Jun-25',\n",
       " datetime.datetime(2024, 1, 13, 0, 0),\n",
       " datetime.datetime(2024, 12, 31, 0, 0),\n",
       " datetime.datetime(2022, 12, 27, 0, 0),\n",
       " datetime.datetime(2023, 8, 11, 0, 0),\n",
       " '1-31-2020',\n",
       " datetime.datetime(2021, 8, 16, 0, 0),\n",
       " datetime.datetime(2023, 7, 1, 0, 0),\n",
       " datetime.datetime(2023, 5, 4, 0, 0),\n",
       " datetime.datetime(2025, 9, 30, 0, 0),\n",
       " datetime.datetime(2021, 12, 1, 0, 0),\n",
       " datetime.datetime(2022, 6, 25, 0, 0),\n",
       " datetime.datetime(2024, 3, 30, 0, 0),\n",
       " datetime.datetime(2026, 1, 1, 0, 0),\n",
       " '',\n",
       " '8-30-2020',\n",
       " datetime.datetime(2027, 12, 31, 0, 0),\n",
       " 'Jun-23',\n",
       " datetime.datetime(2024, 10, 30, 0, 0),\n",
       " datetime.datetime(2022, 4, 24, 0, 0),\n",
       " datetime.datetime(2023, 8, 12, 0, 0),\n",
       " datetime.datetime(2025, 6, 30, 0, 0),\n",
       " datetime.datetime(2022, 2, 28, 0, 0),\n",
       " datetime.datetime(2026, 11, 1, 0, 0),\n",
       " datetime.datetime(2026, 1, 31, 0, 0),\n",
       " 'Jun-27',\n",
       " datetime.datetime(2026, 12, 31, 0, 0),\n",
       " datetime.datetime(2025, 12, 31, 0, 0),\n",
       " 'Jan-25',\n",
       " datetime.datetime(2025, 3, 1, 0, 0),\n",
       " '6-30-202112-31-2021',\n",
       " datetime.datetime(2025, 6, 1, 0, 0)]"
      ]
     },
     "execution_count": 91,
     "metadata": {},
     "output_type": "execute_result"
    }
   ],
   "source": [
    "df_allocation.Completion_Date.unique().tolist()"
   ]
  },
  {
   "cell_type": "code",
   "execution_count": 92,
   "id": "2b415e74-b031-47c4-9eda-de2c62406f9e",
   "metadata": {
    "scrolled": true,
    "tags": []
   },
   "outputs": [],
   "source": [
    "#cleaning up completion dates\n",
    "df_allocation[\"Completion_Date\"].replace({ \n",
    "    'June 24. 2024': '2024-06-01 00:00:00',  \n",
    "    '11/21/2024\\n7/30/2025 (Q4)': '2024-11-21 00:00:00', \n",
    "    'Jun-26': '2026-01-01 00:00:00', \n",
    "     'Jun-29': '2029-06-01 00:00:00',\n",
    "    'Complete\\n11/12/2019': '2019-11-12 00:00:00' , \n",
    "    'Deallocated': '', \n",
    "    'Jun-28': '2028-06-01 00:00:00',  \n",
    "    'Jun-25': '2025-06-01 00:00:00', \n",
    "    'Jun-23':'2023-06-01 00:00:00', \n",
    "    'Jun-27': '2027-06-01 00:00:00',\n",
    "    'Jan-25': '2025-01-01 00:00:00',\n",
    "    '11-21-20247-30-2025 (Q4)':'2025-07-30 00:00:00',\n",
    "    '6-30-202112-31-2021': '2021-12-31 00:00:00',\n",
    "    '6-1-2019': '2019-06-01 00:00:00',\n",
    "    '2-11-2018': '2018-02-11 00:00:00',\n",
    "     '6-30-2020': '2020-06-30 00:00:00',\n",
    "    ' 6-30-2018': '2018-06-30 00:00:00',\n",
    "     '6-29-2020': '2020-06-29 00:00:00',\n",
    "     '11-1-2019': '2019-11-01 00:00:00',\n",
    "     ' 12-10-2018': '2018-12-10 00:00:00',\n",
    "     ' 11-13-2019': '2019-11-13 00:00:00',\n",
    "     '3-30-2020':'2020-03-30 00:00:00',\n",
    "    ' 6-30-2020': '2020-06-30 00:00:00',\n",
    "    '11-12-2019': '2019-11-12 00:00:00',\n",
    "    '1-31-2020': '2020-01-31 00:00:00',\n",
    "    '8-30-2020': '2020-08-30 00:00:00',\n",
    "    '5-16-2020': '2020,05-16 00:00:00',\n",
    "     '5-7-2020': '2020-05-07 00:00:00'}, inplace =True)"
   ]
  },
  {
   "cell_type": "code",
   "execution_count": 93,
   "id": "3c9e663d-5047-4780-8264-f6e5c38b99f3",
   "metadata": {},
   "outputs": [],
   "source": [
    "#cleaning up 3rd Party dates\n",
    "df_allocation[\"Third_Party_Award_Date\"].replace({ \n",
    "'Augsut 12, 2021': '2021-08-12 00:00:00',\n",
    "'43435': '2018-12-01 00:00:00',\n",
    "'07-29-2020': '2020-07-29 00:00:00',\n",
    "'43497' : '2019-02-01 00:00:00',\n",
    "'TBD 6-24-2021' : 'TBD',\n",
    "'TBD 6-30-2022' : 'TBD'\n",
    "}, inplace =True)"
   ]
  },
  {
   "cell_type": "code",
   "execution_count": 94,
   "id": "871f7bd8-4451-4d82-b00b-96d960785927",
   "metadata": {},
   "outputs": [],
   "source": [
    "#coercing to dates\n",
    "df_allocation = df_allocation.assign(\n",
    "    Allocation_Date_New = pd.to_datetime(df_allocation.Allocation_Date, errors=\"coerce\").dt.date,\n",
    "    Third_Party_Award_Date_New = pd.to_datetime(df_allocation.Third_Party_Award_Date, errors=\"coerce\").dt.date,\n",
    "    Completion_Date_New = pd.to_datetime(df_allocation.Completion_Date, errors=\"coerce\").dt.date\n",
    ")"
   ]
  },
  {
   "cell_type": "code",
   "execution_count": 95,
   "id": "47f5e746-7c29-415e-8fe2-cdafcc74ac8a",
   "metadata": {},
   "outputs": [
    {
     "data": {
      "text/plain": [
       "Award_Year                      0\n",
       "Award_Recipient                 0\n",
       "Implementing_Agency             0\n",
       "Phase                           1\n",
       "Allocation_Date                 0\n",
       "Completion_Date                 0\n",
       "Third_Party_Award_Date          0\n",
       "Components                      0\n",
       "PPNO                            0\n",
       "PPNO_New2                     292\n",
       "Allocation_Date_New            83\n",
       "Third_Party_Award_Date_New    145\n",
       "Completion_Date_New            83\n",
       "dtype: int64"
      ]
     },
     "execution_count": 95,
     "metadata": {},
     "output_type": "execute_result"
    }
   ],
   "source": [
    "#checking for nas\n",
    "df_allocation.isna().sum()"
   ]
  },
  {
   "cell_type": "markdown",
   "id": "af1de5bc-2acd-4e6c-80f4-85449cd9279b",
   "metadata": {},
   "source": [
    "## Final CSV Version"
   ]
  },
  {
   "cell_type": "code",
   "execution_count": 96,
   "id": "07c5f978-e479-4a65-a82a-e521ddb1af9f",
   "metadata": {},
   "outputs": [],
   "source": [
    "#drop old columns\n",
    "df_allocation = df_allocation.drop(['PPNO_New2','Allocation_Date','Completion_Date','Third_Party_Award_Date'], axis=1)\n",
    "#rename columns\n",
    "df_allocation = df_allocation.rename(columns = {'Allocation_Date_New':'Allocation_Date', 'Completion_Date_New':'Completion_Date', 'Third_Party_Award_Date_New':'Third_Party_Award_Date'})"
   ]
  },
  {
   "cell_type": "code",
   "execution_count": 97,
   "id": "dc92be02-bc5d-470b-8d4c-d398b610b225",
   "metadata": {},
   "outputs": [],
   "source": [
    "#df_allocation.to_csv(\"./final_df_allocation.csv\", index= False)"
   ]
  },
  {
   "cell_type": "markdown",
   "id": "9f323787-b691-45cb-b95e-58329f644480",
   "metadata": {},
   "source": [
    "# Cleaning Project Sheet\n",
    "\n"
   ]
  },
  {
   "cell_type": "markdown",
   "id": "970b5f71-401e-42dd-a7a5-e3d2cc657382",
   "metadata": {},
   "source": [
    "## Filling NA for TIRCP, Allocated, and Expended Amounts"
   ]
  },
  {
   "cell_type": "code",
   "execution_count": 98,
   "id": "687150e8-15f8-4624-978a-f9f3a4a250de",
   "metadata": {},
   "outputs": [
    {
     "name": "stderr",
     "output_type": "stream",
     "text": [
      "/opt/conda/lib/python3.9/site-packages/pandas/core/frame.py:3641: SettingWithCopyWarning: \n",
      "A value is trying to be set on a copy of a slice from a DataFrame.\n",
      "Try using .loc[row_indexer,col_indexer] = value instead\n",
      "\n",
      "See the caveats in the documentation: https://pandas.pydata.org/pandas-docs/stable/user_guide/indexing.html#returning-a-view-versus-a-copy\n",
      "  self[k1] = value[k2]\n"
     ]
    }
   ],
   "source": [
    "df_project[['TIRCP_Award_Amount_($)', 'Allocated_Amount','Expended_Amount']] = df_project[['TIRCP_Award_Amount_($)', 'Allocated_Amount', 'Expended_Amount']].fillna(value=0)"
   ]
  },
  {
   "cell_type": "markdown",
   "id": "e238629d-6831-42d1-8add-c3e10555ed30",
   "metadata": {
    "tags": []
   },
   "source": [
    "## Cleaning up PPNO Numbers based on Allocation Sheet"
   ]
  },
  {
   "cell_type": "code",
   "execution_count": 99,
   "id": "40ce6a99-7803-4afb-b1f1-98c0a055f85a",
   "metadata": {},
   "outputs": [],
   "source": [
    "#slicing PPNO to be 5 characters\n",
    "df_project = df_project.assign(PPNO_New = df_project['PPNO'].str.slice(start=0, stop=5)) "
   ]
  },
  {
   "cell_type": "code",
   "execution_count": 100,
   "id": "2346df5d-4202-443f-a8a6-ab1549f76137",
   "metadata": {},
   "outputs": [],
   "source": [
    "#importing Excel crosswalk sheet\n",
    "#importing Excel crosswalk sheet\n",
    "FILE_NAME3 = \"Projects_PPNO.xlsx\"\n",
    "project_ppno = pd.read_excel(f\"{GCS_FILE_PATH}{FILE_NAME3}\")"
   ]
  },
  {
   "cell_type": "code",
   "execution_count": 101,
   "id": "e36ba00e-ec8a-4aa5-94ac-9dd81723cfbb",
   "metadata": {},
   "outputs": [],
   "source": [
    "#Merge in Crosswalk \n",
    "df_project2 = pd.merge(df_project, project_ppno, on = [\"Award_Year\", \"Local_Agency\"], how = \"left\")"
   ]
  },
  {
   "cell_type": "code",
   "execution_count": 102,
   "id": "c8397382-0f28-4c00-b0ad-3e6451794601",
   "metadata": {},
   "outputs": [],
   "source": [
    "#some values in PPNO and PPNO_New2 are strings, some are floats...so have to convert PPNO New 2 to strings\n",
    "df_project2.PPNO_New = df_project2.apply(lambda x: x.PPNO_New if (str(x.PPNO_New2) == 'nan') else x.PPNO_New2, axis=1)"
   ]
  },
  {
   "cell_type": "code",
   "execution_count": 103,
   "id": "511ebeb5-7850-4824-8711-1b5e9b16dbff",
   "metadata": {},
   "outputs": [],
   "source": [
    "#making sure PPNO_New is a string \n",
    "df_project2 = df_project2.astype({'PPNO_New': 'str'})"
   ]
  },
  {
   "cell_type": "code",
   "execution_count": 104,
   "id": "e15b679e-ad35-439f-bcd0-12aff1592c98",
   "metadata": {
    "scrolled": true,
    "tags": []
   },
   "outputs": [],
   "source": [
    "PPNO_project = set(df_project2.PPNO_New.unique().tolist())\n",
    "PPNO_allocation = set(df_allocation.PPNO.unique().tolist())"
   ]
  },
  {
   "cell_type": "code",
   "execution_count": 105,
   "id": "d9c6c1a5-afd3-405f-b28e-2e1eda7dd1f0",
   "metadata": {
    "scrolled": true,
    "tags": []
   },
   "outputs": [
    {
     "data": {
      "text/plain": [
       "set()"
      ]
     },
     "execution_count": 105,
     "metadata": {},
     "output_type": "execute_result"
    }
   ],
   "source": [
    "PPNO_project - PPNO_allocation #checking for differences - none. yay. "
   ]
  },
  {
   "cell_type": "markdown",
   "id": "6d13eec8-e045-45ea-a35a-f19531298742",
   "metadata": {
    "tags": []
   },
   "source": [
    "## Final CSV for project"
   ]
  },
  {
   "cell_type": "code",
   "execution_count": 106,
   "id": "38402519-aa95-4ebc-b48f-04660c2c8d68",
   "metadata": {},
   "outputs": [],
   "source": [
    "df_project2[['TIRCP_Award_Amount_($)', 'Allocated_Amount','Expended_Amount']] = df_project2[['TIRCP_Award_Amount_($)', 'Allocated_Amount', 'Expended_Amount']].fillna(value=0)"
   ]
  },
  {
   "cell_type": "code",
   "execution_count": 107,
   "id": "4992685a-5c54-4ce9-9bff-537d33cf0f21",
   "metadata": {},
   "outputs": [],
   "source": [
    "#dividing allocated amount and expended amount\n",
    "df_project2['Expended_Percent'] = df_project2['Expended_Amount']/df_project2['Allocated_Amount']\n",
    "df_project2['Allocated_Percent'] = df_project2['Allocated_Amount']/df_project2['TIRCP_Award_Amount_($)']"
   ]
  },
  {
   "cell_type": "code",
   "execution_count": 108,
   "id": "e8ccd9a2-3b1b-4361-9364-a378edc4e88f",
   "metadata": {},
   "outputs": [],
   "source": [
    "#filling in percentages that are na with 0\n",
    "df_project2[['Expended_Percent','Allocated_Percent']] = df_project2[['Expended_Percent','Allocated_Percent']].fillna(value=0)"
   ]
  },
  {
   "cell_type": "code",
   "execution_count": 109,
   "id": "4292e5aa-5fdd-42f8-96db-3b3b82775117",
   "metadata": {},
   "outputs": [],
   "source": [
    "#Categorize Expended Percent into bins\n",
    "def expended_percent(row):\n",
    "            if row.Expended_Percent == 0:\n",
    "                return \"No expenditure recorded\"\n",
    "            elif ((row.Expended_Percent > 0) and (row.Expended_Percent < .50)):\n",
    "                return \"1-50\"\n",
    "            elif row.Expended_Percent < 0.71:\n",
    "                return \"51-70\"\n",
    "            else:\n",
    "                return \"71-100\""
   ]
  },
  {
   "cell_type": "code",
   "execution_count": 110,
   "id": "290cfcc1-af54-4114-ac78-8cddf2272672",
   "metadata": {},
   "outputs": [],
   "source": [
    "df_project2[\"Expended_Percent_Group\"] = df_project2.apply(lambda x: expended_percent(x), axis=1)"
   ]
  },
  {
   "cell_type": "code",
   "execution_count": 111,
   "id": "f3b2f9f1-aedb-4c26-b410-79e9096f14ee",
   "metadata": {},
   "outputs": [
    {
     "data": {
      "text/plain": [
       "Award_Year                  int64\n",
       "Project_#                   int64\n",
       "Local_Agency               object\n",
       "Project_Title              object\n",
       "PPNO                       object\n",
       "Key_Project_Elements       object\n",
       "TIRCP_Award_Amount_($)    float64\n",
       "Allocated_Amount            int64\n",
       "Expended_Amount           float64\n",
       "PPNO_New                   object\n",
       "PPNO_New2                  object\n",
       "Expended_Percent          float64\n",
       "Allocated_Percent         float64\n",
       "Expended_Percent_Group     object\n",
       "dtype: object"
      ]
     },
     "execution_count": 111,
     "metadata": {},
     "output_type": "execute_result"
    }
   ],
   "source": [
    "df_project2.dtypes"
   ]
  },
  {
   "cell_type": "code",
   "execution_count": 112,
   "id": "c453c652-d936-49ed-8982-a11c6fc23f70",
   "metadata": {},
   "outputs": [],
   "source": [
    "# Categorize years and expended_percent_group into bins\n",
    "def progress(df):   \n",
    "    if (df['Award_Year'] == 2015) and (df['Expended_Percent_Group'] == \"1-50\"):\n",
    "        return 'Behind'\n",
    "    elif (df['Award_Year'] == 2015) and (df['Expended_Percent_Group'] == \"51-70\"):\n",
    "        return 'On Track'\n",
    "    elif (df['Award_Year'] == 2015) and (df['Expended_Percent_Group'] == \"71-100\"):\n",
    "        return 'On Track'\n",
    "    elif (df['Award_Year'] == 2016) and (df['Expended_Percent_Group'] == \"1-50\"):\n",
    "        return 'Behind'\n",
    "    elif (df['Award_Year'] == 2016) and (df['Expended_Percent_Group'] == \"71-100\"):\n",
    "        return 'On Track'\n",
    "    elif (df['Award_Year'] == 2016) and (df['Expended_Percent_Group'] == \"51-70\"):\n",
    "        return 'On Track'\n",
    "    elif (df['Award_Year'] == 2018) and (df['Expended_Percent_Group'] == \"1-50\"):\n",
    "        return 'On Track'\n",
    "    elif (df['Award_Year'] == 2018) and (df['Expended_Percent_Group'] == \"51-70\"):\n",
    "        return 'Ahead'\n",
    "    elif (df['Award_Year'] == 2018) and (df['Expended_Percent_Group'] == \"71-100\"):\n",
    "        return 'Ahead'\n",
    "    elif (df['Award_Year'] == 2020) and (df['Expended_Percent_Group'] == \"1-50\"):\n",
    "        return 'On Track'\n",
    "    elif (df['Award_Year'] == 2020) and (df['Expended_Percent_Group'] == \"51-70\"):\n",
    "        return 'Ahead'\n",
    "    elif (df['Award_Year'] == 2020) and (df['Expended_Percent_Group'] == \"71-100\"):\n",
    "        return 'Ahead'\n",
    "    else: \n",
    "        return \"No Expenditures\""
   ]
  },
  {
   "cell_type": "code",
   "execution_count": 113,
   "id": "c90e7706-038f-4eda-950e-56e339ee3041",
   "metadata": {},
   "outputs": [],
   "source": [
    "df_project2['Progress'] = df_project2.apply(progress, axis = 1)"
   ]
  },
  {
   "cell_type": "code",
   "execution_count": 114,
   "id": "bc25a9c4-cdd6-487c-8408-9d6cd1228d43",
   "metadata": {
    "scrolled": true,
    "tags": []
   },
   "outputs": [],
   "source": [
    "#drop old column\n",
    "df_project2 = df_project2.drop(['PPNO','PPNO_New2'], axis=1)"
   ]
  },
  {
   "cell_type": "code",
   "execution_count": 115,
   "id": "329d1a15-9916-45c9-9ef0-5e7fce154537",
   "metadata": {},
   "outputs": [],
   "source": [
    "#renaming PPNO \n",
    "df_project2 = df_project2.rename(columns = {'PPNO_New':'PPNO'})"
   ]
  },
  {
   "cell_type": "code",
   "execution_count": 126,
   "id": "81481fb4-f9d2-4a42-95be-ad807e2a504f",
   "metadata": {},
   "outputs": [
    {
     "data": {
      "text/plain": [
       "(74, 13)"
      ]
     },
     "execution_count": 126,
     "metadata": {},
     "output_type": "execute_result"
    }
   ],
   "source": [
    "df_project2.shape"
   ]
  },
  {
   "cell_type": "code",
   "execution_count": 116,
   "id": "4fc3ea49-becb-4277-8a4f-74f1b6f92fd8",
   "metadata": {},
   "outputs": [
    {
     "data": {
      "text/html": [
       "<div>\n",
       "<style scoped>\n",
       "    .dataframe tbody tr th:only-of-type {\n",
       "        vertical-align: middle;\n",
       "    }\n",
       "\n",
       "    .dataframe tbody tr th {\n",
       "        vertical-align: top;\n",
       "    }\n",
       "\n",
       "    .dataframe thead th {\n",
       "        text-align: right;\n",
       "    }\n",
       "</style>\n",
       "<table border=\"1\" class=\"dataframe\">\n",
       "  <thead>\n",
       "    <tr style=\"text-align: right;\">\n",
       "      <th></th>\n",
       "      <th>Award_Year</th>\n",
       "      <th>Project_#</th>\n",
       "      <th>Local_Agency</th>\n",
       "      <th>Project_Title</th>\n",
       "      <th>Key_Project_Elements</th>\n",
       "      <th>TIRCP_Award_Amount_($)</th>\n",
       "      <th>Allocated_Amount</th>\n",
       "      <th>Expended_Amount</th>\n",
       "      <th>PPNO</th>\n",
       "      <th>Expended_Percent</th>\n",
       "      <th>Allocated_Percent</th>\n",
       "      <th>Expended_Percent_Group</th>\n",
       "      <th>Progress</th>\n",
       "    </tr>\n",
       "  </thead>\n",
       "  <tbody>\n",
       "    <tr>\n",
       "      <th>67</th>\n",
       "      <td>2020</td>\n",
       "      <td>11</td>\n",
       "      <td>San Diego Association of Governments (SANDAG)</td>\n",
       "      <td>SDConnect: San Diego Rail Improvement Program</td>\n",
       "      <td>The construction of an additional track and pl...</td>\n",
       "      <td>12100000.0</td>\n",
       "      <td>4494000</td>\n",
       "      <td>0.00</td>\n",
       "      <td>CP069</td>\n",
       "      <td>0.000000</td>\n",
       "      <td>0.371405</td>\n",
       "      <td>No expenditure recorded</td>\n",
       "      <td>No Expenditures</td>\n",
       "    </tr>\n",
       "    <tr>\n",
       "      <th>54</th>\n",
       "      <td>2018</td>\n",
       "      <td>26</td>\n",
       "      <td>Sonoma-Marin Area Rail Transit District (SMART)</td>\n",
       "      <td>SMART Larkspur to Windsor Corridor</td>\n",
       "      <td>Completes critical rail segments extending rai...</td>\n",
       "      <td>21000000.0</td>\n",
       "      <td>21000000</td>\n",
       "      <td>11918142.74</td>\n",
       "      <td>CP041</td>\n",
       "      <td>0.567531</td>\n",
       "      <td>1.000000</td>\n",
       "      <td>51-70</td>\n",
       "      <td>Ahead</td>\n",
       "    </tr>\n",
       "    <tr>\n",
       "      <th>21</th>\n",
       "      <td>2016</td>\n",
       "      <td>8</td>\n",
       "      <td>Orange County Transportation Authority (OCTA)</td>\n",
       "      <td>OC Streetcar and OCTA System-Wide Mobile Ticke...</td>\n",
       "      <td>Construct OC Streetcar project connecting Sant...</td>\n",
       "      <td>28000000.0</td>\n",
       "      <td>28000000</td>\n",
       "      <td>0.00</td>\n",
       "      <td>CP017</td>\n",
       "      <td>0.000000</td>\n",
       "      <td>1.000000</td>\n",
       "      <td>No expenditure recorded</td>\n",
       "      <td>No Expenditures</td>\n",
       "    </tr>\n",
       "    <tr>\n",
       "      <th>56</th>\n",
       "      <td>2018</td>\n",
       "      <td>28</td>\n",
       "      <td>Transportation Agency for Monterey County (TAMC)</td>\n",
       "      <td>Rail Extension to Monterey County</td>\n",
       "      <td>Extend Rail service to Monterrey County</td>\n",
       "      <td>10148000.0</td>\n",
       "      <td>500000</td>\n",
       "      <td>0.00</td>\n",
       "      <td>1155</td>\n",
       "      <td>0.000000</td>\n",
       "      <td>0.049271</td>\n",
       "      <td>No expenditure recorded</td>\n",
       "      <td>No Expenditures</td>\n",
       "    </tr>\n",
       "  </tbody>\n",
       "</table>\n",
       "</div>"
      ],
      "text/plain": [
       "    Award_Year  Project_#                                      Local_Agency  \\\n",
       "67        2020         11     San Diego Association of Governments (SANDAG)   \n",
       "54        2018         26   Sonoma-Marin Area Rail Transit District (SMART)   \n",
       "21        2016          8     Orange County Transportation Authority (OCTA)   \n",
       "56        2018         28  Transportation Agency for Monterey County (TAMC)   \n",
       "\n",
       "                                        Project_Title  \\\n",
       "67      SDConnect: San Diego Rail Improvement Program   \n",
       "54                 SMART Larkspur to Windsor Corridor   \n",
       "21  OC Streetcar and OCTA System-Wide Mobile Ticke...   \n",
       "56                  Rail Extension to Monterey County   \n",
       "\n",
       "                                 Key_Project_Elements  TIRCP_Award_Amount_($)  \\\n",
       "67  The construction of an additional track and pl...              12100000.0   \n",
       "54  Completes critical rail segments extending rai...              21000000.0   \n",
       "21  Construct OC Streetcar project connecting Sant...              28000000.0   \n",
       "56            Extend Rail service to Monterrey County              10148000.0   \n",
       "\n",
       "    Allocated_Amount  Expended_Amount   PPNO  Expended_Percent  \\\n",
       "67           4494000             0.00  CP069          0.000000   \n",
       "54          21000000      11918142.74  CP041          0.567531   \n",
       "21          28000000             0.00  CP017          0.000000   \n",
       "56            500000             0.00   1155          0.000000   \n",
       "\n",
       "    Allocated_Percent   Expended_Percent_Group         Progress  \n",
       "67           0.371405  No expenditure recorded  No Expenditures  \n",
       "54           1.000000                    51-70            Ahead  \n",
       "21           1.000000  No expenditure recorded  No Expenditures  \n",
       "56           0.049271  No expenditure recorded  No Expenditures  "
      ]
     },
     "execution_count": 116,
     "metadata": {},
     "output_type": "execute_result"
    }
   ],
   "source": [
    "df_project2.sample(4)"
   ]
  },
  {
   "cell_type": "code",
   "execution_count": 117,
   "id": "57a21d5a-21a8-4d92-9029-58b3dfeec7ee",
   "metadata": {},
   "outputs": [],
   "source": [
    "df_project2.to_csv(\"gs://calitp-analytics-data/data-analyses/tircp/df_project2.csv\", index = False)"
   ]
  },
  {
   "cell_type": "markdown",
   "id": "b22cfcbd-8792-428f-8a2c-4637765f89be",
   "metadata": {},
   "source": [
    "# Merging Project & Allocations\n",
    "Merge on PPNO & Award_Year"
   ]
  },
  {
   "cell_type": "code",
   "execution_count": 118,
   "id": "a02e2cbd-779b-4d17-822d-40d63678b105",
   "metadata": {},
   "outputs": [],
   "source": [
    "#left merge to keep everything on the alllocation side since there are more records in that dataset \n",
    "df_combined2 = df_allocation.merge(df_project2, how = \"left\", on = [\"PPNO\", \"Award_Year\"])"
   ]
  },
  {
   "cell_type": "code",
   "execution_count": 119,
   "id": "96638737-2bff-4a05-9e65-252a00438eb7",
   "metadata": {},
   "outputs": [
    {
     "data": {
      "text/plain": [
       "(319, 20)"
      ]
     },
     "execution_count": 119,
     "metadata": {},
     "output_type": "execute_result"
    }
   ],
   "source": [
    "df_combined2.shape"
   ]
  },
  {
   "cell_type": "code",
   "execution_count": 120,
   "id": "62412ac8-49e8-4c2c-a735-e4142b64e1fb",
   "metadata": {
    "scrolled": true,
    "tags": []
   },
   "outputs": [
    {
     "data": {
      "text/plain": [
       "<bound method DataFrame.drop_duplicates of      Award_Year                                    Award_Recipient  \\\n",
       "0          2015                 Antelope Valley Transit Authority    \n",
       "1          2015            Capitol Corridor Joint Powers Authority   \n",
       "2          2015  Los Angeles County Metropolitan Transportation...   \n",
       "3          2015  Los Angeles-San Diego-San Luis Obispo Rail Cor...   \n",
       "4          2015                           Monterey-Salinas Transit   \n",
       "..          ...                                                ...   \n",
       "314        2020                    Solano Transportation Authority   \n",
       "315        2020                    Solano Transportation Authority   \n",
       "316        2020                        Torrance Transit Department   \n",
       "317        2020   Transit Joint Powers Authority for Merced County   \n",
       "318        2020  San Francisco Bay Area Water Emergency Transpo...   \n",
       "\n",
       "                                   Implementing_Agency  Phase  \\\n",
       "0                   Antelope Valley Transit Authority   CONST   \n",
       "1              Capitol Corridor Joint Powers Authority  CONST   \n",
       "2    Los Angeles County Metropolitan Transportation...  CONST   \n",
       "3    Los Angeles-San Diego-San Luis Obispo Rail Cor...  CONST   \n",
       "4                             Monterey-Salinas Transit  CONST   \n",
       "..                                                 ...    ...   \n",
       "314                    Solano Transportation Authority  CONST   \n",
       "315                    Solano Transportation Authority  CONST   \n",
       "316                        Torrance Transit Department  CONST   \n",
       "317   Transit Joint Powers Authority for Merced County  CONST   \n",
       "318  San Francisco Bay Area Water Emergency Transpo...  CONST   \n",
       "\n",
       "                                            Components   PPNO Allocation_Date  \\\n",
       "0    Purchase 13 60-foot articulated BRT buses and ...  CP005      2015-10-22   \n",
       "1    Track and curve improvements between San Jose ...  CP012      2016-05-19   \n",
       "2    Replace Blue Line signal system; install new t...  CP015      2016-06-30   \n",
       "3    LOSSAN and 12 transit agencies from San Luis O...  CP007      2015-12-10   \n",
       "4    Renovation and expansion of the Monterey maint...  CP013      2016-05-19   \n",
       "..                                                 ...    ...             ...   \n",
       "314  Access Improvements at Fairfield-Vacaville Sta...  CP072      2021-12-31   \n",
       "315                                Network Integration  CP072      2020-10-22   \n",
       "316               Procurement of 7 zero-emission buses  CP073      2020-10-22   \n",
       "317               Procurement of 3 zero-emission buses  CP074      2020-10-22   \n",
       "318  Acquisition of a new all-electric vessels and ...  CP075      2020-12-31   \n",
       "\n",
       "    Third_Party_Award_Date Completion_Date  Project_#  \\\n",
       "0               2016-03-14      2022-03-30        1.0   \n",
       "1               2016-06-01      2019-06-01        2.0   \n",
       "2               2017-06-28      2021-06-30        3.0   \n",
       "3               2016-06-01      2021-06-30        4.0   \n",
       "4               2016-11-03      2018-09-30        5.0   \n",
       "..                     ...             ...        ...   \n",
       "314             2022-12-31      2025-01-01       14.0   \n",
       "315             2022-06-30      2024-03-01       14.0   \n",
       "316             2021-03-01      2021-12-31       15.0   \n",
       "317                    NaT      2026-01-31       16.0   \n",
       "318             2021-06-01      2025-06-01       17.0   \n",
       "\n",
       "                                          Local_Agency  \\\n",
       "0             Antelope Valley Transit Authority (AVTA)   \n",
       "1              Capitol Corridor Joint Powers Authority   \n",
       "2    Los Angeles County Metropolitan Transportation...   \n",
       "3    Los Angeles-San Diego-San Luis Obispo Rail Cor...   \n",
       "4                              Montery-Salinas Transit   \n",
       "..                                                 ...   \n",
       "314                    Solano Transportation Authority   \n",
       "315                    Solano Transportation Authority   \n",
       "316                        Torrance Transit Department   \n",
       "317    Transit Joint Powers Authority of Merced County   \n",
       "318  San Francisco Bay Area Water Emergency Transpo...   \n",
       "\n",
       "                                         Project_Title  \\\n",
       "0    Regional Transit Interconnectivity & Environme...   \n",
       "1                        Travel Time Reduction Project   \n",
       "2    Willowbrook/Rosa Parks Station & Blue Line Lig...   \n",
       "3           Pacific Surfliner Transit Transfer Program   \n",
       "4    Monterey Bay Operations and Maintenance Facili...   \n",
       "..                                                 ...   \n",
       "314       Solano Regional Transit Improvements Phase 2   \n",
       "315       Solano Regional Transit Improvements Phase 2   \n",
       "316   Torrance Transit Bus Service Enhancement Program   \n",
       "317  Improving Air Quality & Economic Growth with E...   \n",
       "318                   Expansion of WETA Ferry Services   \n",
       "\n",
       "                                  Key_Project_Elements  \\\n",
       "0    Purchase 13 60-foot articulated BRT buses and ...   \n",
       "1    Track and curve improvements between San Jose ...   \n",
       "2    Replace Blue Line signal system; install new t...   \n",
       "3    LOSSAN and 12 transit agencies from San Luis O...   \n",
       "4    Renovation and expansion of the Monterey maint...   \n",
       "..                                                 ...   \n",
       "314  Improve the frequency, reliability, and access...   \n",
       "315  Improve the frequency, reliability, and access...   \n",
       "316  Purchase 7 electric buses to expand services o...   \n",
       "317  Purchases 3 zero-emission electric buses to in...   \n",
       "318  Acquisition of a new all-electric vessel and r...   \n",
       "\n",
       "     TIRCP_Award_Amount_($)  Allocated_Amount  Expended_Amount  \\\n",
       "0                24403000.0        24403000.0      21714177.53   \n",
       "1                 4620000.0         4620000.0       4619999.90   \n",
       "2                38494000.0        38494000.0      38494000.00   \n",
       "3                 1675000.0         1675000.0        277840.47   \n",
       "4                10000000.0        10000000.0             0.00   \n",
       "..                      ...               ...              ...   \n",
       "314              10400000.0         2900000.0             0.00   \n",
       "315              10400000.0         2900000.0             0.00   \n",
       "316               6000000.0         6000000.0             0.00   \n",
       "317               3112000.0         3112000.0             0.00   \n",
       "318               9060000.0               0.0             0.00   \n",
       "\n",
       "     Expended_Percent  Allocated_Percent   Expended_Percent_Group  \\\n",
       "0            0.889816           1.000000                   71-100   \n",
       "1            1.000000           1.000000                   71-100   \n",
       "2            1.000000           1.000000                   71-100   \n",
       "3            0.165875           1.000000                     1-50   \n",
       "4            0.000000           1.000000  No expenditure recorded   \n",
       "..                ...                ...                      ...   \n",
       "314          0.000000           0.278846  No expenditure recorded   \n",
       "315          0.000000           0.278846  No expenditure recorded   \n",
       "316          0.000000           1.000000  No expenditure recorded   \n",
       "317          0.000000           1.000000  No expenditure recorded   \n",
       "318          0.000000           0.000000  No expenditure recorded   \n",
       "\n",
       "            Progress  \n",
       "0           On Track  \n",
       "1           On Track  \n",
       "2           On Track  \n",
       "3             Behind  \n",
       "4    No Expenditures  \n",
       "..               ...  \n",
       "314  No Expenditures  \n",
       "315  No Expenditures  \n",
       "316  No Expenditures  \n",
       "317  No Expenditures  \n",
       "318  No Expenditures  \n",
       "\n",
       "[319 rows x 20 columns]>"
      ]
     },
     "execution_count": 120,
     "metadata": {},
     "output_type": "execute_result"
    }
   ],
   "source": [
    "df_combined2.drop_duplicates #dropping duplicates"
   ]
  },
  {
   "cell_type": "code",
   "execution_count": 121,
   "id": "5dceb2db-51fd-4711-bdf1-f9698bfe1191",
   "metadata": {},
   "outputs": [],
   "source": [
    "df_combined2[['TIRCP_Award_Amount_($)', 'Allocated_Amount','Expended_Amount']] = df_combined2[['TIRCP_Award_Amount_($)', 'Allocated_Amount', 'Expended_Amount']].fillna(value=0)"
   ]
  },
  {
   "cell_type": "code",
   "execution_count": 122,
   "id": "69d32081-e6cd-4e7f-af61-159da57ea12a",
   "metadata": {},
   "outputs": [],
   "source": [
    "#dividing allocated amount and expended amount\n",
    "df_combined2['Expended_Percent'] = df_combined2['Expended_Amount']/df_combined2['Allocated_Amount']\n",
    "df_combined2['Allocated_Percent'] = df_combined2['Allocated_Amount']/df_combined2['TIRCP_Award_Amount_($)']"
   ]
  },
  {
   "cell_type": "code",
   "execution_count": 123,
   "id": "efb31e45-5a6c-4f6e-bfe5-02acc8cef818",
   "metadata": {},
   "outputs": [
    {
     "data": {
      "text/plain": [
       "319"
      ]
     },
     "execution_count": 123,
     "metadata": {},
     "output_type": "execute_result"
    }
   ],
   "source": [
    "len(df_combined2) #checking rows  before deleting duplicates"
   ]
  },
  {
   "cell_type": "code",
   "execution_count": 124,
   "id": "b2ed1e27-5da8-45c0-b715-935e25090e9b",
   "metadata": {
    "scrolled": true,
    "tags": []
   },
   "outputs": [],
   "source": [
    "df_combined2 = df_combined2.drop_duplicates()"
   ]
  },
  {
   "cell_type": "code",
   "execution_count": 125,
   "id": "29c76f5f-9cbe-4df2-b77b-5bf7b14186c9",
   "metadata": {},
   "outputs": [],
   "source": [
    "#df_combined2.to_csv(\"gs://calitp-analytics-data/data-analyses/tircp/df_combined2.csv\", index = False)"
   ]
  }
 ],
 "metadata": {
  "kernelspec": {
   "display_name": "Python 3 (ipykernel)",
   "language": "python",
   "name": "python3"
  },
  "language_info": {
   "codemirror_mode": {
    "name": "ipython",
    "version": 3
   },
   "file_extension": ".py",
   "mimetype": "text/x-python",
   "name": "python",
   "nbconvert_exporter": "python",
   "pygments_lexer": "ipython3",
   "version": "3.9.7"
  },
  "toc-autonumbering": false,
  "toc-showmarkdowntxt": false,
  "toc-showtags": false
 },
 "nbformat": 4,
 "nbformat_minor": 5
}
