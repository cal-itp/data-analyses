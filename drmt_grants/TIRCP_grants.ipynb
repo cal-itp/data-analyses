{
 "cells": [
  {
   "cell_type": "markdown",
   "id": "8fa13b1e-0b92-4f67-a5e8-762f135c4db9",
   "metadata": {},
   "source": [
    "# Cleaning up Grants Data\n",
    "----\n",
    "\n",
    "There are three sheets in the TIRCP workbook. However, it seems like the summary reports mostly rely on two: one called project tracking and one called allocation tracking, so I am only loading those in.\n"
   ]
  },
  {
   "cell_type": "code",
   "execution_count": null,
   "id": "dfcd28c5-7dc7-4f3e-8731-b48ebaeb2224",
   "metadata": {},
   "outputs": [],
   "source": [
    "import pandas as pd\n",
    "import math\n",
    "!pip install openpyxl"
   ]
  },
  {
   "cell_type": "code",
   "execution_count": null,
   "id": "b4fddfb7-6d8a-4665-b277-3d44cbc32357",
   "metadata": {},
   "outputs": [],
   "source": [
    "GCS_FILE_PATH = \"gs://calitp-analytics-data/data-analyses/tircp/\"\n",
    "FILE_NAME1 = \"Raw_Project_Tracking_Sheet.xlsx\"\n",
    "project = pd.read_excel(f\"{GCS_FILE_PATH}{FILE_NAME1}\")\n",
    "FILE_NAME2 = \"Allocation_Agreement.xlsx\"\n",
    "allocation = pd.read_excel(f\"{GCS_FILE_PATH}{FILE_NAME2}\")"
   ]
  },
  {
   "cell_type": "code",
   "execution_count": null,
   "id": "15f101e3-f943-4873-945a-4772c985d8a6",
   "metadata": {},
   "outputs": [],
   "source": [
    "#cleaning up spaces in columns\n",
    "project.columns = project.columns.str.strip().str.replace(' ', '_')\n",
    "allocation.columns = allocation.columns.str.strip().str.replace(' ', '_')"
   ]
  },
  {
   "cell_type": "markdown",
   "id": "eb796e7c-b1dd-4d89-87ac-c000f291f38c",
   "metadata": {},
   "source": [
    "### Note: Third party award date is called CON Contract Award Date in TIRCP SAR Attachment "
   ]
  },
  {
   "cell_type": "code",
   "execution_count": null,
   "id": "92614cfc-248c-4ce2-b61a-3ffeab9966f0",
   "metadata": {},
   "outputs": [],
   "source": [
    "#subsetting for only columns of interest\n",
    "df_project = project[['Award_Year', 'Project_#','Local_Agency','Project_Title','PPNO',\n",
    "                      'Key_Project_Elements','TIRCP_Award_Amount_($)','Allocated_Amount','Expended_Amount']]"
   ]
  },
  {
   "cell_type": "code",
   "execution_count": null,
   "id": "44afcac4-b07b-4503-be0c-a02d8dd1ebb0",
   "metadata": {},
   "outputs": [],
   "source": [
    "#subsetting for only columns of interest\n",
    "df_allocation = allocation[['Award_Year','Award_Recipient', 'Implementing_Agency', 'PPNO','Phase', 'Allocation_Date','Completion_Date','3rd_Party_Award_Date','Components']]"
   ]
  },
  {
   "cell_type": "code",
   "execution_count": null,
   "id": "ce1ec6d0-17e6-447b-bd67-53e258af96c1",
   "metadata": {},
   "outputs": [],
   "source": [
    "#strip spaces in columns\n",
    "df_project.columns = df_project.columns.map(lambda x: x.strip())\n",
    "df_allocation.columns = df_allocation.columns.map(lambda x: x.strip())"
   ]
  },
  {
   "cell_type": "markdown",
   "id": "44c82d85-8f34-4185-89a1-8d417802b19e",
   "metadata": {
    "tags": []
   },
   "source": [
    "# Cleaning Allocation Sheet "
   ]
  },
  {
   "cell_type": "markdown",
   "id": "8e1b129d-e9b2-43b2-a87d-6233e1a396cd",
   "metadata": {},
   "source": [
    "## Cleaning up PPNO, can only be 5 characters."
   ]
  },
  {
   "cell_type": "code",
   "execution_count": null,
   "id": "678acd92-65da-4b13-a252-4b84129e9be2",
   "metadata": {},
   "outputs": [],
   "source": [
    "#remove the extra characters in PPNO in allocation to match the PPNO in project data frame bc there should only be five characters and numbers in each PPNO value\n",
    "df_allocation = df_allocation.assign(\n",
    "    PPNO_New = df_allocation['PPNO'].str.slice(start=0, stop=5)\n",
    ")"
   ]
  },
  {
   "cell_type": "code",
   "execution_count": null,
   "id": "06c167cc-3504-4e30-9123-7c5d72c520f2",
   "metadata": {},
   "outputs": [],
   "source": [
    "#CSV with PPNO & Award Recipients\n",
    "FILE_NAME2 = \"Allocation_PPNO_Crosswalk.csv\"\n",
    "allocation_ppno = pd.read_csv(f\"{GCS_FILE_PATH}{FILE_NAME2}\")"
   ]
  },
  {
   "cell_type": "code",
   "execution_count": null,
   "id": "7888529f-bcaa-4508-a86f-476200fd06fb",
   "metadata": {},
   "outputs": [],
   "source": [
    "#Filtering out for 2021, since that entry is blank\n",
    "df_allocation = df_allocation.query(\"Award_Year != 2021\")"
   ]
  },
  {
   "cell_type": "code",
   "execution_count": null,
   "id": "be528f91-11a4-40e8-bc76-023e841453ad",
   "metadata": {},
   "outputs": [],
   "source": [
    "#Merge in Crosswalk \n",
    "df_allocation = pd.merge(df_allocation, allocation_ppno, on = [\"Award_Year\", \"Award_Recipient\"], how = \"left\")"
   ]
  },
  {
   "cell_type": "code",
   "execution_count": null,
   "id": "43bf427e-c0eb-496c-b709-34e1c3824430",
   "metadata": {},
   "outputs": [],
   "source": [
    "type(df_allocation.iloc[0].PPNO_New2)"
   ]
  },
  {
   "cell_type": "code",
   "execution_count": null,
   "id": "033c09ef-48d4-4963-9a72-b08d1bf25b8a",
   "metadata": {},
   "outputs": [],
   "source": [
    "#some values in PPNO and PPNO_New2 are strings, some are floats...so have to convert PPNO New 2 to strings\n",
    "df_allocation.PPNO_New = df_allocation.apply(lambda x: x.PPNO_New if (str(x.PPNO_New2) == 'nan') else x.PPNO_New2, axis=1)"
   ]
  },
  {
   "cell_type": "code",
   "execution_count": null,
   "id": "224eb1b7-05ee-495b-ab1d-2c2fc17a98b7",
   "metadata": {},
   "outputs": [],
   "source": [
    "#drop old column\n",
    "df_allocation = df_allocation.drop(['PPNO'], axis=1)"
   ]
  },
  {
   "cell_type": "code",
   "execution_count": null,
   "id": "8062ee05-e2fc-4128-8464-c9847a81637c",
   "metadata": {
    "tags": []
   },
   "outputs": [],
   "source": [
    "#renaming columns to something neater\n",
    "df_allocation = df_allocation.rename(columns = {'PPNO_New':'PPNO', '3rd_Party_Award_Date':'Third_Party_Award_Date'})"
   ]
  },
  {
   "cell_type": "markdown",
   "id": "7c1523b8-33b4-40e1-92e9-dbb204492235",
   "metadata": {
    "tags": []
   },
   "source": [
    "## Cleaning up completion, allocation, & 3rd Party dates "
   ]
  },
  {
   "cell_type": "code",
   "execution_count": null,
   "id": "7390cefb-53eb-471c-b404-b812ceec10c4",
   "metadata": {
    "scrolled": true,
    "tags": []
   },
   "outputs": [],
   "source": [
    "#cleaning up allocation dates\n",
    "df_allocation.Allocation_Date.unique().tolist()"
   ]
  },
  {
   "cell_type": "code",
   "execution_count": null,
   "id": "fb7770b0-e204-421e-805d-b4a3b8823b83",
   "metadata": {
    "scrolled": true,
    "tags": []
   },
   "outputs": [],
   "source": [
    "#Had to change FY to an actual date \n",
    "df_allocation[\"Allocation_Date\"].replace({\"FY 26/27\": \"2026-12-31\", \"08/12//20\": '2020-08-12 00:00:00', 'FY 21/22': '2021-12-31',\n",
    "                                         'FY 22/23': '2022-12-31','FY 20/21': '2020-12-31', 'FY 23/24': '2023-12-31','FY 24/25': '2024-12-31','FY 25/26': '2025-12-31'}, inplace =True)"
   ]
  },
  {
   "cell_type": "code",
   "execution_count": null,
   "id": "47989375-2bfe-4073-84b5-a695d4af6a8c",
   "metadata": {},
   "outputs": [],
   "source": [
    "#clean up columns in a loop\n",
    "for i in [\"Allocation_Date\", \"Third_Party_Award_Date\", \"Completion_Date\"]:\n",
    "    df_allocation[i] = df_allocation[i].replace('/', '-', regex = True).replace('Complete', '', regex = True).replace('\\n', '', regex=True).replace('Pending','TBD',regex= True).fillna('TBD')"
   ]
  },
  {
   "cell_type": "code",
   "execution_count": null,
   "id": "85a18421-e12b-45ba-b68f-923bb33de102",
   "metadata": {
    "scrolled": true,
    "tags": []
   },
   "outputs": [],
   "source": [
    "df_allocation.Completion_Date.unique().tolist()"
   ]
  },
  {
   "cell_type": "code",
   "execution_count": null,
   "id": "2b415e74-b031-47c4-9eda-de2c62406f9e",
   "metadata": {
    "scrolled": true,
    "tags": []
   },
   "outputs": [],
   "source": [
    "#cleaning up completion dates\n",
    "df_allocation[\"Completion_Date\"].replace({ \n",
    "    'June 24. 2024': '2024-06-01 00:00:00',  \n",
    "    '11/21/2024\\n7/30/2025 (Q4)': '2024-11-21 00:00:00', \n",
    "    'Jun-26': '2026-01-01 00:00:00', \n",
    "     'Jun-29': '2029-06-01 00:00:00',\n",
    "    'Complete\\n11/12/2019': '2019-11-12 00:00:00' , \n",
    "    'Deallocated': '', \n",
    "    'Jun-28': '2028-06-01 00:00:00',  \n",
    "    'Jun-25': '2025-06-01 00:00:00', \n",
    "    'Jun-23':'2023-06-01 00:00:00', \n",
    "    'Jun-27': '2027-06-01 00:00:00',\n",
    "    'Jan-25': '2025-01-01 00:00:00',\n",
    "    '11-21-20247-30-2025 (Q4)':'2025-07-30 00:00:00',\n",
    "    '6-30-202112-31-2021': '2021-12-31 00:00:00',\n",
    "    '6-1-2019': '2019-06-01 00:00:00',\n",
    "    '2-11-2018': '2018-02-11 00:00:00',\n",
    "     '6-30-2020': '2020-06-30 00:00:00',\n",
    "    ' 6-30-2018': '2018-06-30 00:00:00',\n",
    "     '6-29-2020': '2020-06-29 00:00:00',\n",
    "     '11-1-2019': '2019-11-01 00:00:00',\n",
    "     ' 12-10-2018': '2018-12-10 00:00:00',\n",
    "     ' 11-13-2019': '2019-11-13 00:00:00',\n",
    "     '3-30-2020':'2020-03-30 00:00:00',\n",
    "    ' 6-30-2020': '2020-06-30 00:00:00',\n",
    "    '11-12-2019': '2019-11-12 00:00:00',\n",
    "    '1-31-2020': '2020-01-31 00:00:00',\n",
    "    '8-30-2020': '2020-08-30 00:00:00',\n",
    "    '5-16-2020': '2020,05-16 00:00:00',\n",
    "     '5-7-2020': '2020-05-07 00:00:00'}, inplace =True)"
   ]
  },
  {
   "cell_type": "code",
   "execution_count": null,
   "id": "3c9e663d-5047-4780-8264-f6e5c38b99f3",
   "metadata": {},
   "outputs": [],
   "source": [
    "#cleaning up 3rd Party dates\n",
    "df_allocation[\"Third_Party_Award_Date\"].replace({ \n",
    "'Augsut 12, 2021': '2021-08-12 00:00:00',\n",
    "'43435': '2018-12-01 00:00:00',\n",
    "'07-29-2020': '2020-07-29 00:00:00',\n",
    "'43497' : '2019-02-01 00:00:00',\n",
    "'TBD 6-24-2021' : 'TBD',\n",
    "'TBD 6-30-2022' : 'TBD'\n",
    "}, inplace =True)"
   ]
  },
  {
   "cell_type": "code",
   "execution_count": null,
   "id": "871f7bd8-4451-4d82-b00b-96d960785927",
   "metadata": {},
   "outputs": [],
   "source": [
    "#coercing to dates\n",
    "df_allocation = df_allocation.assign(\n",
    "    Allocation_Date_New = pd.to_datetime(df_allocation.Allocation_Date, errors=\"coerce\").dt.date,\n",
    "    Third_Party_Award_Date_New = pd.to_datetime(df_allocation.Third_Party_Award_Date, errors=\"coerce\").dt.date,\n",
    "    Completion_Date_New = pd.to_datetime(df_allocation.Completion_Date, errors=\"coerce\").dt.date\n",
    ")"
   ]
  },
  {
   "cell_type": "code",
   "execution_count": null,
   "id": "47f5e746-7c29-415e-8fe2-cdafcc74ac8a",
   "metadata": {},
   "outputs": [],
   "source": [
    "#checking for nas\n",
    "df_allocation.isna().sum()"
   ]
  },
  {
   "cell_type": "markdown",
   "id": "af1de5bc-2acd-4e6c-80f4-85449cd9279b",
   "metadata": {},
   "source": [
    "## Final CSV Version"
   ]
  },
  {
   "cell_type": "code",
   "execution_count": null,
   "id": "07c5f978-e479-4a65-a82a-e521ddb1af9f",
   "metadata": {},
   "outputs": [],
   "source": [
    "#drop old columns\n",
    "df_allocation = df_allocation.drop(['PPNO_New2','Allocation_Date','Completion_Date','Third_Party_Award_Date'], axis=1)\n",
    "#rename columns\n",
    "df_allocation = df_allocation.rename(columns = {'Allocation_Date_New':'Allocation_Date', 'Completion_Date_New':'Completion_Date', 'Third_Party_Award_Date_New':'Third_Party_Award_Date'})"
   ]
  },
  {
   "cell_type": "code",
   "execution_count": null,
   "id": "dc92be02-bc5d-470b-8d4c-d398b610b225",
   "metadata": {},
   "outputs": [],
   "source": [
    "#df_allocation.to_csv(\"./final_df_allocation.csv\", index= False)"
   ]
  },
  {
   "cell_type": "markdown",
   "id": "9f323787-b691-45cb-b95e-58329f644480",
   "metadata": {},
   "source": [
    "# Cleaning Project Sheet\n",
    "\n"
   ]
  },
  {
   "cell_type": "markdown",
   "id": "970b5f71-401e-42dd-a7a5-e3d2cc657382",
   "metadata": {},
   "source": [
    "## Filling NA for TIRCP, Allocated, and Expended Amounts"
   ]
  },
  {
   "cell_type": "code",
   "execution_count": null,
   "id": "687150e8-15f8-4624-978a-f9f3a4a250de",
   "metadata": {},
   "outputs": [],
   "source": [
    "df_project[['TIRCP_Award_Amount_($)', 'Allocated_Amount','Expended_Amount']] = df_project[['TIRCP_Award_Amount_($)', 'Allocated_Amount', 'Expended_Amount']].fillna(value=0)"
   ]
  },
  {
   "cell_type": "markdown",
   "id": "e238629d-6831-42d1-8add-c3e10555ed30",
   "metadata": {
    "tags": []
   },
   "source": [
    "## Cleaning up PPNO Numbers based on Allocation Sheet"
   ]
  },
  {
   "cell_type": "code",
   "execution_count": null,
   "id": "40ce6a99-7803-4afb-b1f1-98c0a055f85a",
   "metadata": {},
   "outputs": [],
   "source": [
    "#slicing PPNO to be 5 characters\n",
    "df_project = df_project.assign(PPNO_New = df_project['PPNO'].str.slice(start=0, stop=5)) "
   ]
  },
  {
   "cell_type": "code",
   "execution_count": null,
   "id": "2346df5d-4202-443f-a8a6-ab1549f76137",
   "metadata": {},
   "outputs": [],
   "source": [
    "#importing Excel crosswalk sheet\n",
    "#importing Excel crosswalk sheet\n",
    "FILE_NAME3 = \"Projects_PPNO.xlsx\"\n",
    "project_ppno = pd.read_excel(f\"{GCS_FILE_PATH}{FILE_NAME3}\")"
   ]
  },
  {
   "cell_type": "code",
   "execution_count": null,
   "id": "e36ba00e-ec8a-4aa5-94ac-9dd81723cfbb",
   "metadata": {},
   "outputs": [],
   "source": [
    "#Merge in Crosswalk \n",
    "df_project2 = pd.merge(df_project, project_ppno, on = [\"Award_Year\", \"Local_Agency\"], how = \"left\")"
   ]
  },
  {
   "cell_type": "code",
   "execution_count": null,
   "id": "c8397382-0f28-4c00-b0ad-3e6451794601",
   "metadata": {},
   "outputs": [],
   "source": [
    "#some values in PPNO and PPNO_New2 are strings, some are floats...so have to convert PPNO New 2 to strings\n",
    "df_project2.PPNO_New = df_project2.apply(lambda x: x.PPNO_New if (str(x.PPNO_New2) == 'nan') else x.PPNO_New2, axis=1)"
   ]
  },
  {
   "cell_type": "code",
   "execution_count": null,
   "id": "511ebeb5-7850-4824-8711-1b5e9b16dbff",
   "metadata": {},
   "outputs": [],
   "source": [
    "#making sure PPNO_New is a string \n",
    "df_project2 = df_project2.astype({'PPNO_New': 'str'})"
   ]
  },
  {
   "cell_type": "code",
   "execution_count": null,
   "id": "e15b679e-ad35-439f-bcd0-12aff1592c98",
   "metadata": {
    "scrolled": true,
    "tags": []
   },
   "outputs": [],
   "source": [
    "PPNO_project = set(df_project2.PPNO_New.unique().tolist())\n",
    "PPNO_allocation = set(df_allocation.PPNO.unique().tolist())"
   ]
  },
  {
   "cell_type": "code",
   "execution_count": null,
   "id": "d9c6c1a5-afd3-405f-b28e-2e1eda7dd1f0",
   "metadata": {
    "scrolled": true,
    "tags": []
   },
   "outputs": [],
   "source": [
    "PPNO_project - PPNO_allocation #checking for differences - none. yay. "
   ]
  },
  {
   "cell_type": "markdown",
   "id": "6d13eec8-e045-45ea-a35a-f19531298742",
   "metadata": {
    "tags": []
   },
   "source": [
    "## Final CSV for project"
   ]
  },
  {
   "cell_type": "code",
   "execution_count": null,
   "id": "38402519-aa95-4ebc-b48f-04660c2c8d68",
   "metadata": {},
   "outputs": [],
   "source": [
    "df_project2[['TIRCP_Award_Amount_($)', 'Allocated_Amount','Expended_Amount']] = df_project2[['TIRCP_Award_Amount_($)', 'Allocated_Amount', 'Expended_Amount']].fillna(value=0)"
   ]
  },
  {
   "cell_type": "code",
   "execution_count": null,
   "id": "4992685a-5c54-4ce9-9bff-537d33cf0f21",
   "metadata": {},
   "outputs": [],
   "source": [
    "#dividing allocated amount and expended amount\n",
    "df_project2['Expended_Percent'] = df_project2['Expended_Amount']/df_project2['Allocated_Amount']\n",
    "df_project2['Allocated_Percent'] = df_project2['Allocated_Amount']/df_project2['TIRCP_Award_Amount_($)']"
   ]
  },
  {
   "cell_type": "code",
   "execution_count": null,
   "id": "e8ccd9a2-3b1b-4361-9364-a378edc4e88f",
   "metadata": {},
   "outputs": [],
   "source": [
    "#filling in percentages that are na with 0\n",
    "df_project2[['Expended_Percent','Allocated_Percent']] = df_project2[['Expended_Percent','Allocated_Percent']].fillna(value=0)"
   ]
  },
  {
   "cell_type": "code",
   "execution_count": null,
   "id": "4292e5aa-5fdd-42f8-96db-3b3b82775117",
   "metadata": {},
   "outputs": [],
   "source": [
    "#Categorize Expended Percent into bins\n",
    "def expended_percent(row):\n",
    "            if row.Expended_Percent == 0:\n",
    "                return \"No expenditure recorded\"\n",
    "            elif ((row.Expended_Percent > 0) and (row.Expended_Percent < .50)):\n",
    "                return \"1-50\"\n",
    "            elif row.Expended_Percent < 0.71:\n",
    "                return \"51-70\"\n",
    "            else:\n",
    "                return \"71-100\""
   ]
  },
  {
   "cell_type": "code",
   "execution_count": null,
   "id": "290cfcc1-af54-4114-ac78-8cddf2272672",
   "metadata": {},
   "outputs": [],
   "source": [
    "df_project2[\"Expended_Percent_Group\"] = df_project2.apply(lambda x: expended_percent(x), axis=1)"
   ]
  },
  {
   "cell_type": "code",
   "execution_count": null,
   "id": "f3b2f9f1-aedb-4c26-b410-79e9096f14ee",
   "metadata": {},
   "outputs": [],
   "source": [
    "df_project2.dtypes"
   ]
  },
  {
   "cell_type": "code",
   "execution_count": null,
   "id": "c453c652-d936-49ed-8982-a11c6fc23f70",
   "metadata": {},
   "outputs": [],
   "source": [
    "# Categorize years and expended_percent_group into bins\n",
    "def progress(df):   \n",
    "    if (df['Award_Year'] == 2015) and (df['Expended_Percent_Group'] == \"1-50\"):\n",
    "        return 'Behind'\n",
    "    elif (df['Award_Year'] == 2015) and (df['Expended_Percent_Group'] == \"51-70\"):\n",
    "        return 'On Track'\n",
    "    elif (df['Award_Year'] == 2015) and (df['Expended_Percent_Group'] == \"71-100\"):\n",
    "        return 'On Track'\n",
    "    elif (df['Award_Year'] == 2016) and (df['Expended_Percent_Group'] == \"1-50\"):\n",
    "        return 'Behind'\n",
    "    elif (df['Award_Year'] == 2016) and (df['Expended_Percent_Group'] == \"71-100\"):\n",
    "        return 'On Track'\n",
    "    elif (df['Award_Year'] == 2016) and (df['Expended_Percent_Group'] == \"51-70\"):\n",
    "        return 'On Track'\n",
    "    elif (df['Award_Year'] == 2018) and (df['Expended_Percent_Group'] == \"1-50\"):\n",
    "        return 'On Track'\n",
    "    elif (df['Award_Year'] == 2018) and (df['Expended_Percent_Group'] == \"51-70\"):\n",
    "        return 'Ahead'\n",
    "    elif (df['Award_Year'] == 2018) and (df['Expended_Percent_Group'] == \"71-100\"):\n",
    "        return 'Ahead'\n",
    "    elif (df['Award_Year'] == 2020) and (df['Expended_Percent_Group'] == \"1-50\"):\n",
    "        return 'On Track'\n",
    "    elif (df['Award_Year'] == 2020) and (df['Expended_Percent_Group'] == \"51-70\"):\n",
    "        return 'Ahead'\n",
    "    elif (df['Award_Year'] == 2020) and (df['Expended_Percent_Group'] == \"71-100\"):\n",
    "        return 'Ahead'\n",
    "    else: \n",
    "        return \"No Expenditures\""
   ]
  },
  {
   "cell_type": "code",
   "execution_count": null,
   "id": "c90e7706-038f-4eda-950e-56e339ee3041",
   "metadata": {},
   "outputs": [],
   "source": [
    "df_project2['Progress'] = df_project2.apply(progress, axis = 1)"
   ]
  },
  {
   "cell_type": "code",
   "execution_count": null,
   "id": "bc25a9c4-cdd6-487c-8408-9d6cd1228d43",
   "metadata": {
    "scrolled": true,
    "tags": []
   },
   "outputs": [],
   "source": [
    "#drop old column\n",
    "df_project2 = df_project2.drop(['PPNO','PPNO_New2'], axis=1)"
   ]
  },
  {
   "cell_type": "code",
   "execution_count": null,
   "id": "329d1a15-9916-45c9-9ef0-5e7fce154537",
   "metadata": {},
   "outputs": [],
   "source": [
    "#renaming PPNO \n",
    "df_project2 = df_project2.rename(columns = {'PPNO_New':'PPNO'})"
   ]
  },
  {
   "cell_type": "code",
   "execution_count": null,
   "id": "4fc3ea49-becb-4277-8a4f-74f1b6f92fd8",
   "metadata": {},
   "outputs": [],
   "source": [
    "df_project2.sample(4)"
   ]
  },
  {
   "cell_type": "code",
   "execution_count": null,
   "id": "57a21d5a-21a8-4d92-9029-58b3dfeec7ee",
   "metadata": {},
   "outputs": [],
   "source": [
    "df_project2.to_csv(\"gs://calitp-analytics-data/data-analyses/tircp/df_project2.csv\", index = False)"
   ]
  },
  {
   "cell_type": "markdown",
   "id": "b22cfcbd-8792-428f-8a2c-4637765f89be",
   "metadata": {},
   "source": [
    "# Merging Project & Allocations\n",
    "Merge on PPNO & Award_Year"
   ]
  },
  {
   "cell_type": "code",
   "execution_count": null,
   "id": "a02e2cbd-779b-4d17-822d-40d63678b105",
   "metadata": {},
   "outputs": [],
   "source": [
    "#left merge to keep everything on the alllocation side since there are more records in that dataset \n",
    "df_combined2 = df_allocation.merge(df_project2, how = \"left\", on = [\"PPNO\", \"Award_Year\"])"
   ]
  },
  {
   "cell_type": "code",
   "execution_count": null,
   "id": "96638737-2bff-4a05-9e65-252a00438eb7",
   "metadata": {},
   "outputs": [],
   "source": [
    "df_combined2.shape"
   ]
  },
  {
   "cell_type": "code",
   "execution_count": null,
   "id": "62412ac8-49e8-4c2c-a735-e4142b64e1fb",
   "metadata": {
    "scrolled": true,
    "tags": []
   },
   "outputs": [],
   "source": [
    "df_combined2.drop_duplicates #dropping duplicates"
   ]
  },
  {
   "cell_type": "code",
   "execution_count": null,
   "id": "5dceb2db-51fd-4711-bdf1-f9698bfe1191",
   "metadata": {},
   "outputs": [],
   "source": [
    "df_combined2[['TIRCP_Award_Amount_($)', 'Allocated_Amount','Expended_Amount']] = df_combined2[['TIRCP_Award_Amount_($)', 'Allocated_Amount', 'Expended_Amount']].fillna(value=0)"
   ]
  },
  {
   "cell_type": "code",
   "execution_count": null,
   "id": "69d32081-e6cd-4e7f-af61-159da57ea12a",
   "metadata": {},
   "outputs": [],
   "source": [
    "#dividing allocated amount and expended amount\n",
    "df_combined2['Expended_Percent'] = df_combined2['Expended_Amount']/df_combined2['Allocated_Amount']\n",
    "df_combined2['Allocated_Percent'] = df_combined2['Allocated_Amount']/df_combined2['TIRCP_Award_Amount_($)']"
   ]
  },
  {
   "cell_type": "code",
   "execution_count": null,
   "id": "efb31e45-5a6c-4f6e-bfe5-02acc8cef818",
   "metadata": {},
   "outputs": [],
   "source": [
    "len(df_combined2) #checking rows  before deleting duplicates"
   ]
  },
  {
   "cell_type": "code",
   "execution_count": null,
   "id": "b2ed1e27-5da8-45c0-b715-935e25090e9b",
   "metadata": {
    "scrolled": true,
    "tags": []
   },
   "outputs": [],
   "source": [
    "df_combined2 = df_combined2.drop_duplicates()"
   ]
  },
  {
   "cell_type": "code",
   "execution_count": null,
   "id": "29c76f5f-9cbe-4df2-b77b-5bf7b14186c9",
   "metadata": {},
   "outputs": [],
   "source": [
    "#df_combined2.to_csv(\"gs://calitp-analytics-data/data-analyses/tircp/df_combined2.csv\", index = False)"
   ]
  }
 ],
 "metadata": {
  "kernelspec": {
   "display_name": "Python 3 (ipykernel)",
   "language": "python",
   "name": "python3"
  },
  "language_info": {
   "codemirror_mode": {
    "name": "ipython",
    "version": 3
   },
   "file_extension": ".py",
   "mimetype": "text/x-python",
   "name": "python",
   "nbconvert_exporter": "python",
   "pygments_lexer": "ipython3",
   "version": "3.9.7"
  },
  "toc-autonumbering": false,
  "toc-showmarkdowntxt": false,
  "toc-showtags": false
 },
 "nbformat": 4,
 "nbformat_minor": 5
}
