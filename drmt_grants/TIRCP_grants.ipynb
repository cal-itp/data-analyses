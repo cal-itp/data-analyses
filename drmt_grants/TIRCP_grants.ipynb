{
 "cells": [
  {
   "cell_type": "markdown",
   "id": "8fa13b1e-0b92-4f67-a5e8-762f135c4db9",
   "metadata": {},
   "source": [
    "# Cleaning up Grants Data\n",
    "----\n",
    "\n",
    "There are three sheets in the TIRCP workbook. However, it seems like the summary reports mostly rely on two: one called project tracking and one called allocation tracking, so I am only loading those in.\n"
   ]
  },
  {
   "cell_type": "code",
   "execution_count": 78,
   "id": "dfcd28c5-7dc7-4f3e-8731-b48ebaeb2224",
   "metadata": {},
   "outputs": [
    {
     "name": "stdout",
     "output_type": "stream",
     "text": [
      "Requirement already satisfied: openpyxl in /opt/conda/lib/python3.9/site-packages (3.0.9)\n",
      "Requirement already satisfied: et-xmlfile in /opt/conda/lib/python3.9/site-packages (from openpyxl) (1.1.0)\n"
     ]
    }
   ],
   "source": [
    "import pandas as pd\n",
    "import math\n",
    "!pip install openpyxl"
   ]
  },
  {
   "cell_type": "code",
   "execution_count": 79,
   "id": "b4fddfb7-6d8a-4665-b277-3d44cbc32357",
   "metadata": {},
   "outputs": [],
   "source": [
    "#read in files \n",
    "project = pd.read_excel(open('Raw Project Tracking Sheet.xlsx','rb'), sheet_name='Project Tracking DRAFT')  \n",
    "allocation = pd.read_excel(open('Raw Project Tracking Sheet.xlsx','rb'), sheet_name='Agreement Allocations DRAFT')  \n"
   ]
  },
  {
   "cell_type": "code",
   "execution_count": 80,
   "id": "15f101e3-f943-4873-945a-4772c985d8a6",
   "metadata": {},
   "outputs": [],
   "source": [
    "#cleaning up spaces in columns\n",
    "project.columns = project.columns.str.strip().str.replace(' ', '_')\n",
    "allocation.columns = allocation.columns.str.strip().str.replace(' ', '_')"
   ]
  },
  {
   "cell_type": "code",
   "execution_count": 81,
   "id": "33c72fa9-8b66-4509-81da-b4a995fa8738",
   "metadata": {
    "scrolled": true,
    "tags": []
   },
   "outputs": [
    {
     "data": {
      "text/plain": [
       "Index(['Award_Year', 'Project_#', 'Local_Agency', 'Vendor_ID_#',\n",
       "       'Project_Title', 'PPNO', 'District', 'County', 'Key_Project_Elements',\n",
       "       'Master_Agreement_Number', 'Master_Agreement_Expiration_Date',\n",
       "       'Project_Manager', 'Regional_Coordinator',\n",
       "       'Technical_Assistance-CALTP_(Y/N)', 'Technical_Assistance-Fleet_(Y/N)',\n",
       "       'Technical_Assistance-Network_Integration_(Y/N)',\n",
       "       'Technical_Assistance-Priority_Population_(Y/N)', 'Total_Project_Cost',\n",
       "       'TIRCP_Award_Amount_($)', 'Allocated_Amount', 'Unallocated_Amount',\n",
       "       'Percentge_Allocated', 'Expended_Amount', 'Other_Funds_Involved',\n",
       "       'Award_Cycle', 'Local_Agency_Address', 'Local_Agency_City',\n",
       "       'Local_Agency_Zip', 'Local_Agency_Contact', 'Local_Agency_Email',\n",
       "       'Local_Agency_Phone_Number', 'Comments/Additional_Contacts'],\n",
       "      dtype='object')"
      ]
     },
     "execution_count": 81,
     "metadata": {},
     "output_type": "execute_result"
    }
   ],
   "source": [
    "(project.columns)"
   ]
  },
  {
   "cell_type": "code",
   "execution_count": 82,
   "id": "e636376b-ecb0-409d-b832-53682a32377e",
   "metadata": {
    "scrolled": true,
    "tags": []
   },
   "outputs": [
    {
     "data": {
      "text/plain": [
       "Index(['Award_Year', 'Project_#', 'Award_Recipient', 'Implementing_Agency',\n",
       "       'PPNO', 'Project_ID', 'EA', 'Components', 'Phase', 'Allocation_Amount',\n",
       "       'Expended_Amount', 'SB1_Funding', 'SB1_Budget_Year', 'GGRF_Funding',\n",
       "       'GGRF_Budget_Year', 'CTC_Financial_Resolution',\n",
       "       'CTC_Allocation_Amendment', 'CTC_Waiver', 'CTC_CalSTA_Waiver',\n",
       "       'Allocation_Date', 'Completion_Date', 'PSA_#', 'CT_Document_#',\n",
       "       '3rd_Party_Award_Date', 'LED', 'Date_Branch_Chief_Receives_PSA',\n",
       "       'Date_Regional_Coordinator_Receives_PSA', 'Date_OC_Receives_PSA',\n",
       "       'Date_OPM_Receives_PSA', 'Date_Legal_Receives_PSA',\n",
       "       'Date_Returned_to_PM', 'Date_PSA_Sent_to_Local_Agency',\n",
       "       'Date_PSA_Approved_by_Local_Agency', 'Date_Signed_by_DRMT',\n",
       "       'PSA_Expiry_Date', 'LONP', 'Prior_Fiscal_Years_to_2020',\n",
       "       'Fiscal_Year_2020-2021', 'Fiscal_Year_2021-2022',\n",
       "       'Fiscal_Year_2022-2023', 'Fiscal_Year_2023-2024',\n",
       "       'Fiscal_Year_2024-2025', 'Fiscal_Year_2025-2026',\n",
       "       'Fiscal_Year_2026-2027', 'Fiscal_Year_2027-2028',\n",
       "       'Fiscal_Year_2028-2029', 'Fiscal_Year_2029-2030', 'Allocation_Comments',\n",
       "       'PSA_Comments'],\n",
       "      dtype='object')"
      ]
     },
     "execution_count": 82,
     "metadata": {},
     "output_type": "execute_result"
    }
   ],
   "source": [
    "(allocation.columns)"
   ]
  },
  {
   "cell_type": "markdown",
   "id": "eb796e7c-b1dd-4d89-87ac-c000f291f38c",
   "metadata": {},
   "source": [
    "### Note: Third party award date is called CON Contract Award Date in TIRCP SAR Attachment "
   ]
  },
  {
   "cell_type": "code",
   "execution_count": 83,
   "id": "92614cfc-248c-4ce2-b61a-3ffeab9966f0",
   "metadata": {},
   "outputs": [],
   "source": [
    "#subsetting for only columns of interest\n",
    "df_project = project[['Award_Year', 'Project_#','Local_Agency','Project_Title','PPNO',\n",
    "                      'Key_Project_Elements','TIRCP_Award_Amount_($)','Allocated_Amount','Expended_Amount']]"
   ]
  },
  {
   "cell_type": "code",
   "execution_count": 84,
   "id": "44afcac4-b07b-4503-be0c-a02d8dd1ebb0",
   "metadata": {},
   "outputs": [],
   "source": [
    "#subsetting for only columns of interest\n",
    "df_allocation = allocation[['Award_Year','Award_Recipient', 'Implementing_Agency', 'PPNO','Phase',\n",
    "                            'Allocation_Date','Completion_Date','3rd_Party_Award_Date','Components']]"
   ]
  },
  {
   "cell_type": "code",
   "execution_count": 85,
   "id": "ce1ec6d0-17e6-447b-bd67-53e258af96c1",
   "metadata": {},
   "outputs": [],
   "source": [
    "#strip spaces in columns\n",
    "df_project.columns = df_project.columns.map(lambda x: x.strip())\n",
    "df_allocation.columns = df_allocation.columns.map(lambda x: x.strip())"
   ]
  },
  {
   "cell_type": "code",
   "execution_count": 86,
   "id": "81153a10-8dac-431e-bcff-53d105b09c7c",
   "metadata": {},
   "outputs": [],
   "source": [
    "#just testing to make sure everything looks okay...\n",
    "#df_project.to_csv(\"./test_df_project.csv\")\n",
    "#df_allocation.to_csv(\"./test_df_allocation.csv\")"
   ]
  },
  {
   "cell_type": "markdown",
   "id": "44c82d85-8f34-4185-89a1-8d417802b19e",
   "metadata": {
    "tags": []
   },
   "source": [
    "# Cleaning Allocation Sheet "
   ]
  },
  {
   "cell_type": "markdown",
   "id": "8e1b129d-e9b2-43b2-a87d-6233e1a396cd",
   "metadata": {},
   "source": [
    "## Cleaning up PPNO, can only be 5 characters."
   ]
  },
  {
   "cell_type": "code",
   "execution_count": 87,
   "id": "678acd92-65da-4b13-a252-4b84129e9be2",
   "metadata": {},
   "outputs": [],
   "source": [
    "#remove the extra characters in PPNO in allocation to match the PPNO in project data frame bc there should only be five characters and numbers in each PPNO value\n",
    "df_allocation = df_allocation.assign(\n",
    "    PPNO_New = df_allocation['PPNO'].str.slice(start=0, stop=5)\n",
    ")"
   ]
  },
  {
   "cell_type": "code",
   "execution_count": 88,
   "id": "06c167cc-3504-4e30-9123-7c5d72c520f2",
   "metadata": {},
   "outputs": [],
   "source": [
    "#CSV with PPNO & Award Recipients\n",
    "allocation_ppno = pd.read_csv('Allocation_PPNO_Crosswalk.csv')"
   ]
  },
  {
   "cell_type": "code",
   "execution_count": 89,
   "id": "2c625ee1-3459-4b53-8946-781ee2b68556",
   "metadata": {},
   "outputs": [
    {
     "data": {
      "text/html": [
       "<div>\n",
       "<style scoped>\n",
       "    .dataframe tbody tr th:only-of-type {\n",
       "        vertical-align: middle;\n",
       "    }\n",
       "\n",
       "    .dataframe tbody tr th {\n",
       "        vertical-align: top;\n",
       "    }\n",
       "\n",
       "    .dataframe thead th {\n",
       "        text-align: right;\n",
       "    }\n",
       "</style>\n",
       "<table border=\"1\" class=\"dataframe\">\n",
       "  <thead>\n",
       "    <tr style=\"text-align: right;\">\n",
       "      <th></th>\n",
       "      <th>Award_Year</th>\n",
       "      <th>PPNO_New2</th>\n",
       "      <th>Award_Recipient</th>\n",
       "    </tr>\n",
       "  </thead>\n",
       "  <tbody>\n",
       "    <tr>\n",
       "      <th>0</th>\n",
       "      <td>2020</td>\n",
       "      <td>CP065</td>\n",
       "      <td>Los Angeles County Metropolitan Transportation...</td>\n",
       "    </tr>\n",
       "    <tr>\n",
       "      <th>1</th>\n",
       "      <td>2020</td>\n",
       "      <td>CP066</td>\n",
       "      <td>Los Angeles-San Diego-San Luis Obispo Rail Cor...</td>\n",
       "    </tr>\n",
       "    <tr>\n",
       "      <th>2</th>\n",
       "      <td>2016</td>\n",
       "      <td>1230</td>\n",
       "      <td>San Bernardino County Transportation Authority...</td>\n",
       "    </tr>\n",
       "    <tr>\n",
       "      <th>3</th>\n",
       "      <td>2018</td>\n",
       "      <td>1155</td>\n",
       "      <td>Transportation Agency for Monterey County</td>\n",
       "    </tr>\n",
       "  </tbody>\n",
       "</table>\n",
       "</div>"
      ],
      "text/plain": [
       "   Award_Year PPNO_New2                                    Award_Recipient\n",
       "0        2020     CP065  Los Angeles County Metropolitan Transportation...\n",
       "1        2020     CP066  Los Angeles-San Diego-San Luis Obispo Rail Cor...\n",
       "2        2016      1230  San Bernardino County Transportation Authority...\n",
       "3        2018      1155          Transportation Agency for Monterey County"
      ]
     },
     "execution_count": 89,
     "metadata": {},
     "output_type": "execute_result"
    }
   ],
   "source": [
    "allocation_ppno #printing to make sure it makes sense."
   ]
  },
  {
   "cell_type": "code",
   "execution_count": 90,
   "id": "7888529f-bcaa-4508-a86f-476200fd06fb",
   "metadata": {},
   "outputs": [],
   "source": [
    "#Filtering out for 2021, since that entry is blank\n",
    "df_allocation = df_allocation.query(\"Award_Year != 2021\")"
   ]
  },
  {
   "cell_type": "code",
   "execution_count": 91,
   "id": "be528f91-11a4-40e8-bc76-023e841453ad",
   "metadata": {},
   "outputs": [],
   "source": [
    "#Merge in Crosswalk \n",
    "df_allocation = pd.merge(df_allocation, allocation_ppno, on = [\"Award_Year\", \"Award_Recipient\"], how = \"left\")"
   ]
  },
  {
   "cell_type": "code",
   "execution_count": 92,
   "id": "43bf427e-c0eb-496c-b709-34e1c3824430",
   "metadata": {},
   "outputs": [
    {
     "data": {
      "text/plain": [
       "float"
      ]
     },
     "execution_count": 92,
     "metadata": {},
     "output_type": "execute_result"
    }
   ],
   "source": [
    "type(df_allocation.iloc[0].PPNO_New2)\n"
   ]
  },
  {
   "cell_type": "code",
   "execution_count": 93,
   "id": "033c09ef-48d4-4963-9a72-b08d1bf25b8a",
   "metadata": {},
   "outputs": [],
   "source": [
    "#some values in PPNO and PPNO_New2 are strings, some are floats...so have to convert PPNO New 2 to strings\n",
    "df_allocation.PPNO_New = df_allocation.apply(lambda x: x.PPNO_New if (str(x.PPNO_New2) == 'nan') else x.PPNO_New2, axis=1)"
   ]
  },
  {
   "cell_type": "code",
   "execution_count": 94,
   "id": "224eb1b7-05ee-495b-ab1d-2c2fc17a98b7",
   "metadata": {},
   "outputs": [],
   "source": [
    "#drop old column\n",
    "df_allocation = df_allocation.drop(['PPNO'], axis=1)"
   ]
  },
  {
   "cell_type": "code",
   "execution_count": 95,
   "id": "8062ee05-e2fc-4128-8464-c9847a81637c",
   "metadata": {
    "tags": []
   },
   "outputs": [],
   "source": [
    "#renaming columns to something neater\n",
    "df_allocation = df_allocation.rename(columns = {'PPNO_New':'PPNO', '3rd_Party_Award_Date':'Third_Party_Award_Date'})"
   ]
  },
  {
   "cell_type": "markdown",
   "id": "7c1523b8-33b4-40e1-92e9-dbb204492235",
   "metadata": {
    "tags": []
   },
   "source": [
    "## Cleaning up completion, allocation, & 3rd Party dates "
   ]
  },
  {
   "cell_type": "code",
   "execution_count": 96,
   "id": "7390cefb-53eb-471c-b404-b812ceec10c4",
   "metadata": {
    "scrolled": true,
    "tags": []
   },
   "outputs": [
    {
     "data": {
      "text/plain": [
       "[datetime.datetime(2015, 10, 22, 0, 0),\n",
       " datetime.datetime(2016, 5, 19, 0, 0),\n",
       " datetime.datetime(2016, 6, 30, 0, 0),\n",
       " datetime.datetime(2015, 12, 10, 0, 0),\n",
       " datetime.datetime(2015, 8, 27, 0, 0),\n",
       " datetime.datetime(2016, 1, 21, 0, 0),\n",
       " datetime.datetime(2017, 6, 29, 0, 0),\n",
       " datetime.datetime(2016, 10, 20, 0, 0),\n",
       " datetime.datetime(2017, 8, 17, 0, 0),\n",
       " datetime.datetime(2018, 1, 31, 0, 0),\n",
       " datetime.datetime(2017, 1, 19, 0, 0),\n",
       " datetime.datetime(2016, 3, 17, 0, 0),\n",
       " datetime.datetime(2017, 3, 16, 0, 0),\n",
       " datetime.datetime(2017, 5, 17, 0, 0),\n",
       " datetime.datetime(2018, 8, 16, 0, 0),\n",
       " 'TBD',\n",
       " datetime.datetime(2021, 6, 24, 0, 0),\n",
       " datetime.datetime(2016, 12, 8, 0, 0),\n",
       " datetime.datetime(2020, 6, 25, 0, 0),\n",
       " datetime.datetime(2019, 12, 5, 0, 0),\n",
       " datetime.datetime(2018, 10, 18, 0, 0),\n",
       " datetime.datetime(2021, 1, 28, 0, 0),\n",
       " nan,\n",
       " datetime.datetime(2018, 2, 1, 0, 0),\n",
       " datetime.datetime(2018, 5, 17, 0, 0),\n",
       " 'FY 26/27',\n",
       " datetime.datetime(2017, 5, 18, 0, 0),\n",
       " datetime.datetime(2018, 6, 28, 0, 0),\n",
       " datetime.datetime(2020, 10, 22, 0, 0),\n",
       " datetime.datetime(2018, 12, 6, 0, 0),\n",
       " datetime.datetime(2019, 10, 9, 0, 0),\n",
       " datetime.datetime(2020, 5, 14, 0, 0),\n",
       " datetime.datetime(2021, 5, 14, 0, 0),\n",
       " datetime.datetime(2019, 6, 27, 0, 0),\n",
       " datetime.datetime(2021, 3, 13, 0, 0),\n",
       " datetime.datetime(2020, 1, 30, 0, 0),\n",
       " datetime.datetime(2021, 6, 25, 0, 0),\n",
       " datetime.datetime(2019, 5, 16, 0, 0),\n",
       " datetime.datetime(2020, 12, 3, 0, 0),\n",
       " '08/12//20',\n",
       " datetime.datetime(2020, 8, 12, 0, 0),\n",
       " datetime.datetime(2018, 8, 15, 0, 0),\n",
       " datetime.datetime(2021, 8, 19, 0, 0),\n",
       " datetime.datetime(2019, 3, 14, 0, 0),\n",
       " datetime.datetime(2020, 3, 26, 0, 0),\n",
       " datetime.datetime(2019, 1, 31, 0, 0),\n",
       " datetime.datetime(2021, 3, 25, 0, 0),\n",
       " datetime.datetime(2019, 8, 15, 0, 0),\n",
       " datetime.datetime(2021, 5, 13, 0, 0),\n",
       " 'FY 21/22',\n",
       " datetime.datetime(2020, 8, 13, 0, 0),\n",
       " 'FY 22/23',\n",
       " 'FY 20/21',\n",
       " 'FY 23/24',\n",
       " 'FY 25/26',\n",
       " 'FY 24/25']"
      ]
     },
     "execution_count": 96,
     "metadata": {},
     "output_type": "execute_result"
    }
   ],
   "source": [
    "#cleaning up allocation dates\n",
    "df_allocation.Allocation_Date.unique().tolist()"
   ]
  },
  {
   "cell_type": "code",
   "execution_count": 97,
   "id": "fb7770b0-e204-421e-805d-b4a3b8823b83",
   "metadata": {
    "scrolled": true,
    "tags": []
   },
   "outputs": [],
   "source": [
    "#Had to change FY to an actual date \n",
    "df_allocation[\"Allocation_Date\"].replace({\"FY 26/27\": \"2026-12-31\", \"08/12//20\": '2020-08-12 00:00:00', 'FY 21/22': '2021-12-31',\n",
    "                                         'FY 22/23': '2022-12-31','FY 20/21': '2020-12-31', 'FY 23/24': '2023-12-31','FY 24/25': '2024-12-31','FY 25/26': '2025-12-31'}, inplace =True)"
   ]
  },
  {
   "cell_type": "code",
   "execution_count": 98,
   "id": "47989375-2bfe-4073-84b5-a695d4af6a8c",
   "metadata": {},
   "outputs": [],
   "source": [
    "#clean up columns in a loop\n",
    "for i in [\"Allocation_Date\", \"Third_Party_Award_Date\", \"Completion_Date\"]:\n",
    "    df_allocation[i] = df_allocation[i].replace('/', '-', regex = True).replace('Complete', '', regex = True).replace('\\n', '', regex=True).replace('Pending','TBD',regex= True).fillna('TBD')"
   ]
  },
  {
   "cell_type": "code",
   "execution_count": 99,
   "id": "85a18421-e12b-45ba-b68f-923bb33de102",
   "metadata": {
    "scrolled": true,
    "tags": []
   },
   "outputs": [
    {
     "data": {
      "text/plain": [
       "[datetime.datetime(2022, 3, 30, 0, 0),\n",
       " '6-1-2019',\n",
       " datetime.datetime(2021, 6, 30, 0, 0),\n",
       " datetime.datetime(2018, 9, 30, 0, 0),\n",
       " '2-11-2018',\n",
       " '6-30-2020',\n",
       " datetime.datetime(2020, 9, 30, 0, 0),\n",
       " ' 6-30-2018',\n",
       " '6-29-2020',\n",
       " '11-1-2019',\n",
       " ' 12-10-2018',\n",
       " ' 11-13-2019',\n",
       " '3-30-2020',\n",
       " datetime.datetime(2022, 9, 30, 0, 0),\n",
       " datetime.datetime(2021, 12, 30, 0, 0),\n",
       " datetime.datetime(2021, 9, 30, 0, 0),\n",
       " '5-16-2020',\n",
       " datetime.datetime(2024, 6, 30, 0, 0),\n",
       " 'TBD',\n",
       " 'June 24. 2024',\n",
       " datetime.datetime(2022, 12, 30, 0, 0),\n",
       " datetime.datetime(2024, 6, 24, 0, 0),\n",
       " '11-21-20247-30-2025 (Q4)',\n",
       " datetime.datetime(2022, 6, 30, 0, 0),\n",
       " datetime.datetime(2019, 5, 21, 0, 0),\n",
       " datetime.datetime(2024, 7, 25, 0, 0),\n",
       " datetime.datetime(2021, 12, 31, 0, 0),\n",
       " datetime.datetime(2024, 1, 28, 0, 0),\n",
       " datetime.datetime(2022, 10, 31, 0, 0),\n",
       " datetime.datetime(2022, 1, 16, 0, 0),\n",
       " datetime.datetime(2018, 2, 1, 0, 0),\n",
       " datetime.datetime(2022, 8, 22, 0, 0),\n",
       " datetime.datetime(2022, 7, 31, 0, 0),\n",
       " '5-7-2020',\n",
       " datetime.datetime(2022, 1, 1, 0, 0),\n",
       " datetime.datetime(2021, 4, 20, 0, 0),\n",
       " datetime.datetime(2030, 6, 1, 0, 0),\n",
       " datetime.datetime(2027, 12, 1, 0, 0),\n",
       " datetime.datetime(2024, 4, 1, 0, 0),\n",
       " datetime.datetime(2021, 10, 1, 0, 0),\n",
       " ' 6-30-2020',\n",
       " datetime.datetime(2023, 6, 30, 0, 0),\n",
       " datetime.datetime(2023, 4, 3, 0, 0),\n",
       " datetime.datetime(2021, 7, 31, 0, 0),\n",
       " datetime.datetime(2023, 7, 13, 0, 0),\n",
       " datetime.datetime(2022, 1, 7, 0, 0),\n",
       " datetime.datetime(2030, 1, 1, 0, 0),\n",
       " datetime.datetime(2022, 2, 16, 0, 0),\n",
       " datetime.datetime(2021, 12, 26, 0, 0),\n",
       " datetime.datetime(2021, 12, 25, 0, 0),\n",
       " datetime.datetime(2020, 11, 30, 0, 0),\n",
       " datetime.datetime(2021, 12, 23, 0, 0),\n",
       " datetime.datetime(2023, 6, 25, 0, 0),\n",
       " datetime.datetime(2022, 10, 1, 0, 0),\n",
       " datetime.datetime(2023, 2, 3, 0, 0),\n",
       " datetime.datetime(2022, 2, 8, 0, 0),\n",
       " datetime.datetime(2025, 1, 31, 0, 0),\n",
       " datetime.datetime(2025, 1, 1, 0, 0),\n",
       " 'Jun-26',\n",
       " 'Jun-29',\n",
       " datetime.datetime(2030, 6, 30, 0, 0),\n",
       " datetime.datetime(2031, 6, 30, 0, 0),\n",
       " datetime.datetime(2023, 11, 30, 0, 0),\n",
       " '11-12-2019',\n",
       " datetime.datetime(2022, 10, 9, 0, 0),\n",
       " datetime.datetime(2023, 10, 22, 0, 0),\n",
       " datetime.datetime(2023, 12, 1, 0, 0),\n",
       " datetime.datetime(2024, 1, 21, 0, 0),\n",
       " datetime.datetime(2024, 12, 1, 0, 0),\n",
       " datetime.datetime(2024, 12, 24, 0, 0),\n",
       " datetime.datetime(2025, 12, 1, 0, 0),\n",
       " datetime.datetime(2023, 5, 23, 0, 0),\n",
       " datetime.datetime(2023, 5, 1, 0, 0),\n",
       " datetime.datetime(2023, 12, 23, 0, 0),\n",
       " datetime.datetime(2024, 3, 1, 0, 0),\n",
       " datetime.datetime(2024, 6, 1, 0, 0),\n",
       " datetime.datetime(2021, 12, 6, 0, 0),\n",
       " datetime.datetime(2026, 12, 1, 0, 0),\n",
       " datetime.datetime(2021, 4, 30, 0, 0),\n",
       " 'Deallocated',\n",
       " datetime.datetime(2021, 1, 29, 0, 0),\n",
       " datetime.datetime(2022, 11, 30, 0, 0),\n",
       " 'Jun-28',\n",
       " datetime.datetime(2026, 2, 12, 0, 0),\n",
       " datetime.datetime(2022, 6, 27, 0, 0),\n",
       " datetime.datetime(2022, 11, 13, 0, 0),\n",
       " 'Jun-25',\n",
       " datetime.datetime(2024, 1, 13, 0, 0),\n",
       " datetime.datetime(2024, 12, 31, 0, 0),\n",
       " datetime.datetime(2022, 12, 27, 0, 0),\n",
       " datetime.datetime(2023, 8, 11, 0, 0),\n",
       " '1-31-2020',\n",
       " datetime.datetime(2021, 8, 16, 0, 0),\n",
       " datetime.datetime(2023, 7, 1, 0, 0),\n",
       " datetime.datetime(2023, 5, 4, 0, 0),\n",
       " datetime.datetime(2025, 9, 30, 0, 0),\n",
       " datetime.datetime(2021, 12, 1, 0, 0),\n",
       " datetime.datetime(2022, 6, 25, 0, 0),\n",
       " datetime.datetime(2024, 3, 30, 0, 0),\n",
       " datetime.datetime(2026, 1, 1, 0, 0),\n",
       " '',\n",
       " '8-30-2020',\n",
       " datetime.datetime(2027, 12, 31, 0, 0),\n",
       " 'Jun-23',\n",
       " datetime.datetime(2024, 10, 30, 0, 0),\n",
       " datetime.datetime(2022, 4, 24, 0, 0),\n",
       " datetime.datetime(2023, 8, 12, 0, 0),\n",
       " datetime.datetime(2025, 6, 30, 0, 0),\n",
       " datetime.datetime(2022, 2, 28, 0, 0),\n",
       " datetime.datetime(2026, 11, 1, 0, 0),\n",
       " datetime.datetime(2026, 1, 31, 0, 0),\n",
       " 'Jun-27',\n",
       " datetime.datetime(2026, 12, 31, 0, 0),\n",
       " datetime.datetime(2025, 12, 31, 0, 0),\n",
       " 'Jan-25',\n",
       " datetime.datetime(2025, 3, 1, 0, 0),\n",
       " '6-30-202112-31-2021',\n",
       " datetime.datetime(2025, 6, 1, 0, 0)]"
      ]
     },
     "execution_count": 99,
     "metadata": {},
     "output_type": "execute_result"
    }
   ],
   "source": [
    "df_allocation.Completion_Date.unique().tolist()"
   ]
  },
  {
   "cell_type": "code",
   "execution_count": 100,
   "id": "2b415e74-b031-47c4-9eda-de2c62406f9e",
   "metadata": {
    "scrolled": true,
    "tags": []
   },
   "outputs": [],
   "source": [
    "#cleaning up completion dates\n",
    "df_allocation[\"Completion_Date\"].replace({ \n",
    "    'June 24. 2024': '2024-06-01 00:00:00',  \n",
    "    '11/21/2024\\n7/30/2025 (Q4)': '2024-11-21 00:00:00', \n",
    "    'Jun-26': '2026-01-01 00:00:00', \n",
    "     'Jun-29': '2029-06-01 00:00:00',\n",
    "    'Complete\\n11/12/2019': '2019-11-12 00:00:00' , \n",
    "    'Deallocated': '', \n",
    "    'Jun-28': '2028-06-01 00:00:00',  \n",
    "    'Jun-25': '2025-06-01 00:00:00', \n",
    "    'Jun-23':'2023-06-01 00:00:00', \n",
    "    'Jun-27': '2027-06-01 00:00:00',\n",
    "    'Jan-25': '2025-01-01 00:00:00',\n",
    "    '11-21-20247-30-2025 (Q4)':'2025-07-30 00:00:00',\n",
    "    '6-30-202112-31-2021': '2021-12-31 00:00:00',\n",
    "    '6-1-2019': '2019-06-01 00:00:00',\n",
    "    '2-11-2018': '2018-02-11 00:00:00',\n",
    "     '6-30-2020': '2020-06-30 00:00:00',\n",
    "    ' 6-30-2018': '2018-06-30 00:00:00',\n",
    "     '6-29-2020': '2020-06-29 00:00:00',\n",
    "     '11-1-2019': '2019-11-01 00:00:00',\n",
    "     ' 12-10-2018': '2018-12-10 00:00:00',\n",
    "     ' 11-13-2019': '2019-11-13 00:00:00',\n",
    "     '3-30-2020':'2020-03-30 00:00:00',\n",
    "    ' 6-30-2020': '2020-06-30 00:00:00',\n",
    "    '11-12-2019': '2019-11-12 00:00:00',\n",
    "    '1-31-2020': '2020-01-31 00:00:00',\n",
    "    '8-30-2020': '2020-08-30 00:00:00',\n",
    "    '5-16-2020': '2020,05-16 00:00:00',\n",
    "     '5-7-2020': '2020-05-07 00:00:00'}, inplace =True)"
   ]
  },
  {
   "cell_type": "code",
   "execution_count": 101,
   "id": "3c9e663d-5047-4780-8264-f6e5c38b99f3",
   "metadata": {},
   "outputs": [],
   "source": [
    "#cleaning up 3rd Party dates\n",
    "df_allocation[\"Third_Party_Award_Date\"].replace({ \n",
    "'Augsut 12, 2021': '2021-08-12 00:00:00',\n",
    "'43435': '2018-12-01 00:00:00',\n",
    "'07-29-2020': '2020-07-29 00:00:00',\n",
    "'43497' : '2019-02-01 00:00:00',\n",
    "'TBD 6-24-2021' : 'TBD',\n",
    "'TBD 6-30-2022' : 'TBD'\n",
    "}, inplace =True)"
   ]
  },
  {
   "cell_type": "code",
   "execution_count": 102,
   "id": "871f7bd8-4451-4d82-b00b-96d960785927",
   "metadata": {},
   "outputs": [],
   "source": [
    "#coercing to dates\n",
    "df_allocation = df_allocation.assign(\n",
    "    Allocation_Date_New = pd.to_datetime(df_allocation.Allocation_Date, errors=\"coerce\").dt.date,\n",
    "    Third_Party_Award_Date_New = pd.to_datetime(df_allocation.Third_Party_Award_Date, errors=\"coerce\").dt.date,\n",
    "    Completion_Date_New = pd.to_datetime(df_allocation.Completion_Date, errors=\"coerce\").dt.date\n",
    ")"
   ]
  },
  {
   "cell_type": "code",
   "execution_count": 103,
   "id": "54185132-ab5b-4d5a-8fbf-b77c51b14a92",
   "metadata": {},
   "outputs": [
    {
     "data": {
      "text/plain": [
       "Award_Year                     int64\n",
       "Award_Recipient               object\n",
       "Implementing_Agency           object\n",
       "Phase                         object\n",
       "Allocation_Date               object\n",
       "Completion_Date               object\n",
       "Third_Party_Award_Date        object\n",
       "Components                    object\n",
       "PPNO                          object\n",
       "PPNO_New2                     object\n",
       "Allocation_Date_New           object\n",
       "Third_Party_Award_Date_New    object\n",
       "Completion_Date_New           object\n",
       "dtype: object"
      ]
     },
     "execution_count": 103,
     "metadata": {},
     "output_type": "execute_result"
    }
   ],
   "source": [
    "df_allocation.dtypes"
   ]
  },
  {
   "cell_type": "code",
   "execution_count": 104,
   "id": "47f5e746-7c29-415e-8fe2-cdafcc74ac8a",
   "metadata": {},
   "outputs": [
    {
     "data": {
      "text/plain": [
       "Award_Year                      0\n",
       "Award_Recipient                 0\n",
       "Implementing_Agency             0\n",
       "Phase                           1\n",
       "Allocation_Date                 0\n",
       "Completion_Date                 0\n",
       "Third_Party_Award_Date          0\n",
       "Components                      0\n",
       "PPNO                            0\n",
       "PPNO_New2                     292\n",
       "Allocation_Date_New            83\n",
       "Third_Party_Award_Date_New    145\n",
       "Completion_Date_New            83\n",
       "dtype: int64"
      ]
     },
     "execution_count": 104,
     "metadata": {},
     "output_type": "execute_result"
    }
   ],
   "source": [
    "#checking for nas\n",
    "df_allocation.isna().sum()"
   ]
  },
  {
   "cell_type": "code",
   "execution_count": 105,
   "id": "88259b8f-1f48-461a-874f-93608f6d17bb",
   "metadata": {},
   "outputs": [
    {
     "data": {
      "text/plain": [
       "(306, 13)"
      ]
     },
     "execution_count": 105,
     "metadata": {},
     "output_type": "execute_result"
    }
   ],
   "source": [
    "df_allocation.shape"
   ]
  },
  {
   "cell_type": "markdown",
   "id": "af1de5bc-2acd-4e6c-80f4-85449cd9279b",
   "metadata": {},
   "source": [
    "## Final CSV Version"
   ]
  },
  {
   "cell_type": "code",
   "execution_count": 106,
   "id": "07c5f978-e479-4a65-a82a-e521ddb1af9f",
   "metadata": {},
   "outputs": [],
   "source": [
    "#drop old columns\n",
    "df_allocation = df_allocation.drop(['PPNO_New2','Allocation_Date','Completion_Date','Third_Party_Award_Date'], axis=1)\n",
    "#rename columns\n",
    "df_allocation = df_allocation.rename(columns = {'Allocation_Date_New':'Allocation_Date', 'Completion_Date_New':'Completion_Date', 'Third_Party_Award_Date_New':'Third_Party_Award_Date'})"
   ]
  },
  {
   "cell_type": "code",
   "execution_count": 107,
   "id": "dc92be02-bc5d-470b-8d4c-d398b610b225",
   "metadata": {},
   "outputs": [],
   "source": [
    "df_allocation.to_csv(\"./final_df_allocation.csv\", index= False)"
   ]
  },
  {
   "cell_type": "markdown",
   "id": "9f323787-b691-45cb-b95e-58329f644480",
   "metadata": {},
   "source": [
    "# Cleaning Project Sheet\n",
    "\n"
   ]
  },
  {
   "cell_type": "code",
   "execution_count": 108,
   "id": "d133db21-3752-460b-a42f-00cc548bccaf",
   "metadata": {},
   "outputs": [
    {
     "data": {
      "text/plain": [
       "Index(['Award_Year', 'Project_#', 'Local_Agency', 'Project_Title', 'PPNO',\n",
       "       'Key_Project_Elements', 'TIRCP_Award_Amount_($)', 'Allocated_Amount',\n",
       "       'Expended_Amount'],\n",
       "      dtype='object')"
      ]
     },
     "execution_count": 108,
     "metadata": {},
     "output_type": "execute_result"
    }
   ],
   "source": [
    "df_project.columns"
   ]
  },
  {
   "cell_type": "markdown",
   "id": "970b5f71-401e-42dd-a7a5-e3d2cc657382",
   "metadata": {},
   "source": [
    "## Filling NA for TIRCP, Allocated, and Expended Amounts"
   ]
  },
  {
   "cell_type": "code",
   "execution_count": 109,
   "id": "687150e8-15f8-4624-978a-f9f3a4a250de",
   "metadata": {},
   "outputs": [
    {
     "name": "stderr",
     "output_type": "stream",
     "text": [
      "/opt/conda/lib/python3.9/site-packages/pandas/core/frame.py:3641: SettingWithCopyWarning: \n",
      "A value is trying to be set on a copy of a slice from a DataFrame.\n",
      "Try using .loc[row_indexer,col_indexer] = value instead\n",
      "\n",
      "See the caveats in the documentation: https://pandas.pydata.org/pandas-docs/stable/user_guide/indexing.html#returning-a-view-versus-a-copy\n",
      "  self[k1] = value[k2]\n"
     ]
    }
   ],
   "source": [
    "df_project[['TIRCP_Award_Amount_($)', 'Allocated_Amount','Expended_Amount']] = df_project[['TIRCP_Award_Amount_($)', 'Allocated_Amount', 'Expended_Amount']].fillna(value=0)"
   ]
  },
  {
   "cell_type": "code",
   "execution_count": 110,
   "id": "453f95cc-120b-40c2-92c8-f3a96d5e8fbd",
   "metadata": {},
   "outputs": [
    {
     "data": {
      "text/plain": [
       "Award_Year                0\n",
       "Project_#                 0\n",
       "Local_Agency              0\n",
       "Project_Title             0\n",
       "PPNO                      5\n",
       "Key_Project_Elements      0\n",
       "TIRCP_Award_Amount_($)    0\n",
       "Allocated_Amount          0\n",
       "Expended_Amount           0\n",
       "dtype: int64"
      ]
     },
     "execution_count": 110,
     "metadata": {},
     "output_type": "execute_result"
    }
   ],
   "source": [
    "#checking for nas\n",
    "df_project.isna().sum()"
   ]
  },
  {
   "cell_type": "markdown",
   "id": "e238629d-6831-42d1-8add-c3e10555ed30",
   "metadata": {
    "tags": []
   },
   "source": [
    "## Cleaning up PPNO Numbers based on Allocation Sheet"
   ]
  },
  {
   "cell_type": "code",
   "execution_count": 111,
   "id": "40ce6a99-7803-4afb-b1f1-98c0a055f85a",
   "metadata": {},
   "outputs": [],
   "source": [
    "#slicing PPNO to be 5 characters\n",
    "df_project = df_project.assign(PPNO_New = df_project['PPNO'].str.slice(start=0, stop=5)) "
   ]
  },
  {
   "cell_type": "code",
   "execution_count": 112,
   "id": "2346df5d-4202-443f-a8a6-ab1549f76137",
   "metadata": {},
   "outputs": [],
   "source": [
    "#importing Excel crosswalk sheet\n",
    "project_ppno = pd.read_excel(open('Projects_PPNO.xlsx','rb')) "
   ]
  },
  {
   "cell_type": "code",
   "execution_count": 113,
   "id": "13249f38-d851-4e9f-9cc0-7a0c386a0535",
   "metadata": {},
   "outputs": [
    {
     "data": {
      "text/html": [
       "<div>\n",
       "<style scoped>\n",
       "    .dataframe tbody tr th:only-of-type {\n",
       "        vertical-align: middle;\n",
       "    }\n",
       "\n",
       "    .dataframe tbody tr th {\n",
       "        vertical-align: top;\n",
       "    }\n",
       "\n",
       "    .dataframe thead th {\n",
       "        text-align: right;\n",
       "    }\n",
       "</style>\n",
       "<table border=\"1\" class=\"dataframe\">\n",
       "  <thead>\n",
       "    <tr style=\"text-align: right;\">\n",
       "      <th></th>\n",
       "      <th>Award_Year</th>\n",
       "      <th>PPNO_New2</th>\n",
       "      <th>Local_Agency</th>\n",
       "    </tr>\n",
       "  </thead>\n",
       "  <tbody>\n",
       "    <tr>\n",
       "      <th>0</th>\n",
       "      <td>2020</td>\n",
       "      <td>CP060</td>\n",
       "      <td>Bay Area Rapid Transit District (BART)</td>\n",
       "    </tr>\n",
       "    <tr>\n",
       "      <th>1</th>\n",
       "      <td>2020</td>\n",
       "      <td>CP071</td>\n",
       "      <td>Santa Monica Big Blue Bus</td>\n",
       "    </tr>\n",
       "    <tr>\n",
       "      <th>2</th>\n",
       "      <td>2020</td>\n",
       "      <td>CP072</td>\n",
       "      <td>Solano Transportation Authority</td>\n",
       "    </tr>\n",
       "    <tr>\n",
       "      <th>3</th>\n",
       "      <td>2020</td>\n",
       "      <td>CP075</td>\n",
       "      <td>San Francisco Bay Area Water Emergency Transpo...</td>\n",
       "    </tr>\n",
       "    <tr>\n",
       "      <th>4</th>\n",
       "      <td>2020</td>\n",
       "      <td>CP074</td>\n",
       "      <td>Transit Joint Powers Authority of Merced County</td>\n",
       "    </tr>\n",
       "    <tr>\n",
       "      <th>5</th>\n",
       "      <td>2020</td>\n",
       "      <td>CP068</td>\n",
       "      <td>San Bernardino County Transportation Authority...</td>\n",
       "    </tr>\n",
       "    <tr>\n",
       "      <th>6</th>\n",
       "      <td>2016</td>\n",
       "      <td>1230</td>\n",
       "      <td>San Bernardino County Transportation Authority...</td>\n",
       "    </tr>\n",
       "    <tr>\n",
       "      <th>7</th>\n",
       "      <td>2018</td>\n",
       "      <td>1155</td>\n",
       "      <td>Transportation Agency for Monterey County (TAMC)</td>\n",
       "    </tr>\n",
       "    <tr>\n",
       "      <th>8</th>\n",
       "      <td>2018</td>\n",
       "      <td>CP053</td>\n",
       "      <td>Sacramento Regional Transit District (SacRT)</td>\n",
       "    </tr>\n",
       "    <tr>\n",
       "      <th>9</th>\n",
       "      <td>2015</td>\n",
       "      <td>CP002</td>\n",
       "      <td>Southern California  Regional Rail Authority</td>\n",
       "    </tr>\n",
       "    <tr>\n",
       "      <th>10</th>\n",
       "      <td>2020</td>\n",
       "      <td>CP071</td>\n",
       "      <td>City of Santa Monica</td>\n",
       "    </tr>\n",
       "    <tr>\n",
       "      <th>11</th>\n",
       "      <td>2020</td>\n",
       "      <td>CP059</td>\n",
       "      <td>Antelope Valley Transit Authority (AVTA)</td>\n",
       "    </tr>\n",
       "    <tr>\n",
       "      <th>12</th>\n",
       "      <td>2020</td>\n",
       "      <td>CP074</td>\n",
       "      <td>Transit Joint Powers Authority for Merced County</td>\n",
       "    </tr>\n",
       "  </tbody>\n",
       "</table>\n",
       "</div>"
      ],
      "text/plain": [
       "    Award_Year PPNO_New2                                       Local_Agency\n",
       "0         2020     CP060             Bay Area Rapid Transit District (BART)\n",
       "1         2020     CP071                          Santa Monica Big Blue Bus\n",
       "2         2020     CP072                    Solano Transportation Authority\n",
       "3         2020     CP075  San Francisco Bay Area Water Emergency Transpo...\n",
       "4         2020     CP074    Transit Joint Powers Authority of Merced County\n",
       "5         2020     CP068  San Bernardino County Transportation Authority...\n",
       "6         2016      1230  San Bernardino County Transportation Authority...\n",
       "7         2018      1155   Transportation Agency for Monterey County (TAMC)\n",
       "8         2018     CP053       Sacramento Regional Transit District (SacRT)\n",
       "9         2015     CP002       Southern California  Regional Rail Authority\n",
       "10        2020     CP071                               City of Santa Monica\n",
       "11        2020     CP059           Antelope Valley Transit Authority (AVTA)\n",
       "12        2020     CP074   Transit Joint Powers Authority for Merced County"
      ]
     },
     "execution_count": 113,
     "metadata": {},
     "output_type": "execute_result"
    }
   ],
   "source": [
    "#just previewing\n",
    "project_ppno"
   ]
  },
  {
   "cell_type": "code",
   "execution_count": 114,
   "id": "e36ba00e-ec8a-4aa5-94ac-9dd81723cfbb",
   "metadata": {},
   "outputs": [],
   "source": [
    "#Merge in Crosswalk \n",
    "df_project2 = pd.merge(df_project, project_ppno, on = [\"Award_Year\", \"Local_Agency\"], how = \"left\")"
   ]
  },
  {
   "cell_type": "code",
   "execution_count": 115,
   "id": "c8397382-0f28-4c00-b0ad-3e6451794601",
   "metadata": {},
   "outputs": [],
   "source": [
    "#some values in PPNO and PPNO_New2 are strings, some are floats...so have to convert PPNO New 2 to strings\n",
    "df_project2.PPNO_New = df_project2.apply(lambda x: x.PPNO_New if (str(x.PPNO_New2) == 'nan') else x.PPNO_New2, axis=1)"
   ]
  },
  {
   "cell_type": "code",
   "execution_count": 116,
   "id": "511ebeb5-7850-4824-8711-1b5e9b16dbff",
   "metadata": {},
   "outputs": [],
   "source": [
    "#making sure PPNO_New is a string \n",
    "df_project2 = df_project2.astype({'PPNO_New': 'str'})"
   ]
  },
  {
   "cell_type": "code",
   "execution_count": 117,
   "id": "e15b679e-ad35-439f-bcd0-12aff1592c98",
   "metadata": {
    "scrolled": true,
    "tags": []
   },
   "outputs": [],
   "source": [
    "PPNO_project = set(df_project2.PPNO_New.unique().tolist())\n",
    "PPNO_allocation = set(df_allocation.PPNO.unique().tolist())"
   ]
  },
  {
   "cell_type": "code",
   "execution_count": 118,
   "id": "912e587b-f7e3-43bc-a6f0-22cc386884a7",
   "metadata": {
    "scrolled": true,
    "tags": []
   },
   "outputs": [
    {
     "data": {
      "text/plain": [
       "{'1155',\n",
       " '1230',\n",
       " '2320B',\n",
       " 'CP001',\n",
       " 'CP002',\n",
       " 'CP003',\n",
       " 'CP004',\n",
       " 'CP005',\n",
       " 'CP006',\n",
       " 'CP007',\n",
       " 'CP008',\n",
       " 'CP010',\n",
       " 'CP011',\n",
       " 'CP012',\n",
       " 'CP013',\n",
       " 'CP014',\n",
       " 'CP015',\n",
       " 'CP016',\n",
       " 'CP017',\n",
       " 'CP019',\n",
       " 'CP020',\n",
       " 'CP021',\n",
       " 'CP022',\n",
       " 'CP023',\n",
       " 'CP025',\n",
       " 'CP026',\n",
       " 'CP027',\n",
       " 'CP028',\n",
       " 'CP029',\n",
       " 'CP030',\n",
       " 'CP031',\n",
       " 'CP032',\n",
       " 'CP033',\n",
       " 'CP034',\n",
       " 'CP035',\n",
       " 'CP036',\n",
       " 'CP039',\n",
       " 'CP041',\n",
       " 'CP045',\n",
       " 'CP046',\n",
       " 'CP047',\n",
       " 'CP048',\n",
       " 'CP051',\n",
       " 'CP053',\n",
       " 'CP054',\n",
       " 'CP055',\n",
       " 'CP057',\n",
       " 'CP058',\n",
       " 'CP059',\n",
       " 'CP060',\n",
       " 'CP061',\n",
       " 'CP062',\n",
       " 'CP063',\n",
       " 'CP064',\n",
       " 'CP065',\n",
       " 'CP066',\n",
       " 'CP067',\n",
       " 'CP068',\n",
       " 'CP069',\n",
       " 'CP070',\n",
       " 'CP071',\n",
       " 'CP072',\n",
       " 'CP073',\n",
       " 'CP074',\n",
       " 'CP075',\n",
       " 'CP076',\n",
       " 'CP077',\n",
       " 'CP078',\n",
       " 'CP079',\n",
       " 'CP080'}"
      ]
     },
     "execution_count": 118,
     "metadata": {},
     "output_type": "execute_result"
    }
   ],
   "source": [
    "PPNO_project #looking at list"
   ]
  },
  {
   "cell_type": "code",
   "execution_count": 119,
   "id": "077649c8-65f6-4b01-b280-cf89bf8304e2",
   "metadata": {
    "scrolled": true,
    "tags": []
   },
   "outputs": [
    {
     "data": {
      "text/plain": [
       "{'1155',\n",
       " '1230',\n",
       " '2320B',\n",
       " 'CP001',\n",
       " 'CP002',\n",
       " 'CP003',\n",
       " 'CP004',\n",
       " 'CP005',\n",
       " 'CP006',\n",
       " 'CP007',\n",
       " 'CP008',\n",
       " 'CP010',\n",
       " 'CP011',\n",
       " 'CP012',\n",
       " 'CP013',\n",
       " 'CP014',\n",
       " 'CP015',\n",
       " 'CP016',\n",
       " 'CP017',\n",
       " 'CP018',\n",
       " 'CP019',\n",
       " 'CP020',\n",
       " 'CP021',\n",
       " 'CP022',\n",
       " 'CP023',\n",
       " 'CP024',\n",
       " 'CP025',\n",
       " 'CP026',\n",
       " 'CP027',\n",
       " 'CP028',\n",
       " 'CP029',\n",
       " 'CP030',\n",
       " 'CP031',\n",
       " 'CP032',\n",
       " 'CP033',\n",
       " 'CP034',\n",
       " 'CP035',\n",
       " 'CP036',\n",
       " 'CP039',\n",
       " 'CP041',\n",
       " 'CP042',\n",
       " 'CP043',\n",
       " 'CP045',\n",
       " 'CP046',\n",
       " 'CP047',\n",
       " 'CP048',\n",
       " 'CP051',\n",
       " 'CP053',\n",
       " 'CP054',\n",
       " 'CP055',\n",
       " 'CP057',\n",
       " 'CP058',\n",
       " 'CP059',\n",
       " 'CP060',\n",
       " 'CP061',\n",
       " 'CP062',\n",
       " 'CP063',\n",
       " 'CP064',\n",
       " 'CP065',\n",
       " 'CP066',\n",
       " 'CP067',\n",
       " 'CP068',\n",
       " 'CP069',\n",
       " 'CP070',\n",
       " 'CP071',\n",
       " 'CP072',\n",
       " 'CP073',\n",
       " 'CP074',\n",
       " 'CP075',\n",
       " 'CP076',\n",
       " 'CP077',\n",
       " 'CP078',\n",
       " 'CP079',\n",
       " 'CP080'}"
      ]
     },
     "execution_count": 119,
     "metadata": {},
     "output_type": "execute_result"
    }
   ],
   "source": [
    "PPNO_allocation #looking at list"
   ]
  },
  {
   "cell_type": "code",
   "execution_count": 120,
   "id": "d9c6c1a5-afd3-405f-b28e-2e1eda7dd1f0",
   "metadata": {
    "scrolled": true,
    "tags": []
   },
   "outputs": [
    {
     "data": {
      "text/plain": [
       "set()"
      ]
     },
     "execution_count": 120,
     "metadata": {},
     "output_type": "execute_result"
    }
   ],
   "source": [
    "PPNO_project - PPNO_allocation #checking for differences - none. yay. "
   ]
  },
  {
   "cell_type": "markdown",
   "id": "6d13eec8-e045-45ea-a35a-f19531298742",
   "metadata": {
    "tags": []
   },
   "source": [
    "## Final CSV for project"
   ]
  },
  {
   "cell_type": "code",
   "execution_count": 121,
   "id": "bc25a9c4-cdd6-487c-8408-9d6cd1228d43",
   "metadata": {},
   "outputs": [],
   "source": [
    "#drop old column\n",
    "df_project2 = df_project2.drop(['PPNO','PPNO_New2','Local_Agency'], axis=1)"
   ]
  },
  {
   "cell_type": "code",
   "execution_count": 122,
   "id": "329d1a15-9916-45c9-9ef0-5e7fce154537",
   "metadata": {},
   "outputs": [],
   "source": [
    "#renaming PPNO \n",
    "df_project2 = df_project2.rename(columns = {'PPNO_New':'PPNO'})"
   ]
  },
  {
   "cell_type": "code",
   "execution_count": 123,
   "id": "57a21d5a-21a8-4d92-9029-58b3dfeec7ee",
   "metadata": {},
   "outputs": [],
   "source": [
    "df_project2.to_csv(\"./final_df_project.csv\", index= False)"
   ]
  },
  {
   "cell_type": "markdown",
   "id": "b22cfcbd-8792-428f-8a2c-4637765f89be",
   "metadata": {},
   "source": [
    "# Merging Project & Allocations\n",
    "Merge on PPNO & Award_Year"
   ]
  },
  {
   "cell_type": "code",
   "execution_count": 124,
   "id": "a02e2cbd-779b-4d17-822d-40d63678b105",
   "metadata": {},
   "outputs": [],
   "source": [
    "#left merge to keep everything on the alllocation side since there are more records in that dataset \n",
    "df_combined2 = df_allocation.merge(df_project2, how = \"left\", on = [\"PPNO\", \"Award_Year\"])"
   ]
  },
  {
   "cell_type": "code",
   "execution_count": 125,
   "id": "96638737-2bff-4a05-9e65-252a00438eb7",
   "metadata": {},
   "outputs": [
    {
     "data": {
      "text/plain": [
       "(319, 15)"
      ]
     },
     "execution_count": 125,
     "metadata": {},
     "output_type": "execute_result"
    }
   ],
   "source": [
    "df_combined2.shape"
   ]
  },
  {
   "cell_type": "code",
   "execution_count": 126,
   "id": "62412ac8-49e8-4c2c-a735-e4142b64e1fb",
   "metadata": {
    "scrolled": true,
    "tags": []
   },
   "outputs": [
    {
     "data": {
      "text/plain": [
       "<bound method DataFrame.drop_duplicates of      Award_Year                                    Award_Recipient  \\\n",
       "0          2015                 Antelope Valley Transit Authority    \n",
       "1          2015            Capitol Corridor Joint Powers Authority   \n",
       "2          2015  Los Angeles County Metropolitan Transportation...   \n",
       "3          2015  Los Angeles-San Diego-San Luis Obispo Rail Cor...   \n",
       "4          2015                           Monterey-Salinas Transit   \n",
       "..          ...                                                ...   \n",
       "314        2020                    Solano Transportation Authority   \n",
       "315        2020                    Solano Transportation Authority   \n",
       "316        2020                        Torrance Transit Department   \n",
       "317        2020   Transit Joint Powers Authority for Merced County   \n",
       "318        2020  San Francisco Bay Area Water Emergency Transpo...   \n",
       "\n",
       "                                   Implementing_Agency  Phase  \\\n",
       "0                   Antelope Valley Transit Authority   CONST   \n",
       "1              Capitol Corridor Joint Powers Authority  CONST   \n",
       "2    Los Angeles County Metropolitan Transportation...  CONST   \n",
       "3    Los Angeles-San Diego-San Luis Obispo Rail Cor...  CONST   \n",
       "4                             Monterey-Salinas Transit  CONST   \n",
       "..                                                 ...    ...   \n",
       "314                    Solano Transportation Authority  CONST   \n",
       "315                    Solano Transportation Authority  CONST   \n",
       "316                        Torrance Transit Department  CONST   \n",
       "317   Transit Joint Powers Authority for Merced County  CONST   \n",
       "318  San Francisco Bay Area Water Emergency Transpo...  CONST   \n",
       "\n",
       "                                            Components   PPNO Allocation_Date  \\\n",
       "0    Purchase 13 60-foot articulated BRT buses and ...  CP005      2015-10-22   \n",
       "1    Track and curve improvements between San Jose ...  CP012      2016-05-19   \n",
       "2    Replace Blue Line signal system; install new t...  CP015      2016-06-30   \n",
       "3    LOSSAN and 12 transit agencies from San Luis O...  CP007      2015-12-10   \n",
       "4    Renovation and expansion of the Monterey maint...  CP013      2016-05-19   \n",
       "..                                                 ...    ...             ...   \n",
       "314  Access Improvements at Fairfield-Vacaville Sta...  CP072      2021-12-31   \n",
       "315                                Network Integration  CP072      2020-10-22   \n",
       "316               Procurement of 7 zero-emission buses  CP073      2020-10-22   \n",
       "317               Procurement of 3 zero-emission buses  CP074      2020-10-22   \n",
       "318  Acquisition of a new all-electric vessels and ...  CP075      2020-12-31   \n",
       "\n",
       "    Third_Party_Award_Date Completion_Date  Project_#  \\\n",
       "0               2016-03-14      2022-03-30        1.0   \n",
       "1               2016-06-01      2019-06-01        2.0   \n",
       "2               2017-06-28      2021-06-30        3.0   \n",
       "3               2016-06-01      2021-06-30        4.0   \n",
       "4               2016-11-03      2018-09-30        5.0   \n",
       "..                     ...             ...        ...   \n",
       "314             2022-12-31      2025-01-01       14.0   \n",
       "315             2022-06-30      2024-03-01       14.0   \n",
       "316             2021-03-01      2021-12-31       15.0   \n",
       "317                    NaT      2026-01-31       16.0   \n",
       "318             2021-06-01      2025-06-01       17.0   \n",
       "\n",
       "                                         Project_Title  \\\n",
       "0    Regional Transit Interconnectivity & Environme...   \n",
       "1                        Travel Time Reduction Project   \n",
       "2    Willowbrook/Rosa Parks Station & Blue Line Lig...   \n",
       "3           Pacific Surfliner Transit Transfer Program   \n",
       "4    Monterey Bay Operations and Maintenance Facili...   \n",
       "..                                                 ...   \n",
       "314       Solano Regional Transit Improvements Phase 2   \n",
       "315       Solano Regional Transit Improvements Phase 2   \n",
       "316   Torrance Transit Bus Service Enhancement Program   \n",
       "317  Improving Air Quality & Economic Growth with E...   \n",
       "318                   Expansion of WETA Ferry Services   \n",
       "\n",
       "                                  Key_Project_Elements  \\\n",
       "0    Purchase 13 60-foot articulated BRT buses and ...   \n",
       "1    Track and curve improvements between San Jose ...   \n",
       "2    Replace Blue Line signal system; install new t...   \n",
       "3    LOSSAN and 12 transit agencies from San Luis O...   \n",
       "4    Renovation and expansion of the Monterey maint...   \n",
       "..                                                 ...   \n",
       "314  Improve the frequency, reliability, and access...   \n",
       "315  Improve the frequency, reliability, and access...   \n",
       "316  Purchase 7 electric buses to expand services o...   \n",
       "317  Purchases 3 zero-emission electric buses to in...   \n",
       "318  Acquisition of a new all-electric vessel and r...   \n",
       "\n",
       "     TIRCP_Award_Amount_($)  Allocated_Amount  Expended_Amount  \n",
       "0                24403000.0        24403000.0      21714177.53  \n",
       "1                 4620000.0         4620000.0       4619999.90  \n",
       "2                38494000.0        38494000.0      38494000.00  \n",
       "3                 1675000.0         1675000.0        277840.47  \n",
       "4                10000000.0        10000000.0             0.00  \n",
       "..                      ...               ...              ...  \n",
       "314              10400000.0         2900000.0             0.00  \n",
       "315              10400000.0         2900000.0             0.00  \n",
       "316               6000000.0         6000000.0             0.00  \n",
       "317               3112000.0         3112000.0             0.00  \n",
       "318               9060000.0               0.0             0.00  \n",
       "\n",
       "[319 rows x 15 columns]>"
      ]
     },
     "execution_count": 126,
     "metadata": {},
     "output_type": "execute_result"
    }
   ],
   "source": [
    "df_combined2.drop_duplicates #dropping duplicates"
   ]
  },
  {
   "cell_type": "code",
   "execution_count": 127,
   "id": "5b424a92-1fae-4186-a571-e6f0f8a0406c",
   "metadata": {},
   "outputs": [
    {
     "data": {
      "text/html": [
       "<div>\n",
       "<style scoped>\n",
       "    .dataframe tbody tr th:only-of-type {\n",
       "        vertical-align: middle;\n",
       "    }\n",
       "\n",
       "    .dataframe tbody tr th {\n",
       "        vertical-align: top;\n",
       "    }\n",
       "\n",
       "    .dataframe thead th {\n",
       "        text-align: right;\n",
       "    }\n",
       "</style>\n",
       "<table border=\"1\" class=\"dataframe\">\n",
       "  <thead>\n",
       "    <tr style=\"text-align: right;\">\n",
       "      <th></th>\n",
       "      <th>Award_Year</th>\n",
       "      <th>Award_Recipient</th>\n",
       "      <th>Implementing_Agency</th>\n",
       "      <th>Phase</th>\n",
       "      <th>Components</th>\n",
       "      <th>PPNO</th>\n",
       "      <th>Allocation_Date</th>\n",
       "      <th>Third_Party_Award_Date</th>\n",
       "      <th>Completion_Date</th>\n",
       "      <th>Project_#</th>\n",
       "      <th>Project_Title</th>\n",
       "      <th>Key_Project_Elements</th>\n",
       "      <th>TIRCP_Award_Amount_($)</th>\n",
       "      <th>Allocated_Amount</th>\n",
       "      <th>Expended_Amount</th>\n",
       "    </tr>\n",
       "  </thead>\n",
       "  <tbody>\n",
       "    <tr>\n",
       "      <th>0</th>\n",
       "      <td>2015</td>\n",
       "      <td>Antelope Valley Transit Authority</td>\n",
       "      <td>Antelope Valley Transit Authority</td>\n",
       "      <td>CONST</td>\n",
       "      <td>Purchase 13 60-foot articulated BRT buses and ...</td>\n",
       "      <td>CP005</td>\n",
       "      <td>2015-10-22</td>\n",
       "      <td>2016-03-14</td>\n",
       "      <td>2022-03-30</td>\n",
       "      <td>1.0</td>\n",
       "      <td>Regional Transit Interconnectivity &amp; Environme...</td>\n",
       "      <td>Purchase 13 60-foot articulated BRT buses and ...</td>\n",
       "      <td>24403000.0</td>\n",
       "      <td>24403000.0</td>\n",
       "      <td>21714177.53</td>\n",
       "    </tr>\n",
       "    <tr>\n",
       "      <th>1</th>\n",
       "      <td>2015</td>\n",
       "      <td>Capitol Corridor Joint Powers Authority</td>\n",
       "      <td>Capitol Corridor Joint Powers Authority</td>\n",
       "      <td>CONST</td>\n",
       "      <td>Track and curve improvements between San Jose ...</td>\n",
       "      <td>CP012</td>\n",
       "      <td>2016-05-19</td>\n",
       "      <td>2016-06-01</td>\n",
       "      <td>2019-06-01</td>\n",
       "      <td>2.0</td>\n",
       "      <td>Travel Time Reduction Project</td>\n",
       "      <td>Track and curve improvements between San Jose ...</td>\n",
       "      <td>4620000.0</td>\n",
       "      <td>4620000.0</td>\n",
       "      <td>4619999.90</td>\n",
       "    </tr>\n",
       "  </tbody>\n",
       "</table>\n",
       "</div>"
      ],
      "text/plain": [
       "   Award_Year                          Award_Recipient  \\\n",
       "0        2015       Antelope Valley Transit Authority    \n",
       "1        2015  Capitol Corridor Joint Powers Authority   \n",
       "\n",
       "                       Implementing_Agency  Phase  \\\n",
       "0       Antelope Valley Transit Authority   CONST   \n",
       "1  Capitol Corridor Joint Powers Authority  CONST   \n",
       "\n",
       "                                          Components   PPNO Allocation_Date  \\\n",
       "0  Purchase 13 60-foot articulated BRT buses and ...  CP005      2015-10-22   \n",
       "1  Track and curve improvements between San Jose ...  CP012      2016-05-19   \n",
       "\n",
       "  Third_Party_Award_Date Completion_Date  Project_#  \\\n",
       "0             2016-03-14      2022-03-30        1.0   \n",
       "1             2016-06-01      2019-06-01        2.0   \n",
       "\n",
       "                                       Project_Title  \\\n",
       "0  Regional Transit Interconnectivity & Environme...   \n",
       "1                      Travel Time Reduction Project   \n",
       "\n",
       "                                Key_Project_Elements  TIRCP_Award_Amount_($)  \\\n",
       "0  Purchase 13 60-foot articulated BRT buses and ...              24403000.0   \n",
       "1  Track and curve improvements between San Jose ...               4620000.0   \n",
       "\n",
       "   Allocated_Amount  Expended_Amount  \n",
       "0        24403000.0      21714177.53  \n",
       "1         4620000.0       4619999.90  "
      ]
     },
     "execution_count": 127,
     "metadata": {},
     "output_type": "execute_result"
    }
   ],
   "source": [
    "df_combined2.head(2)"
   ]
  },
  {
   "cell_type": "code",
   "execution_count": 128,
   "id": "b5bd3ad4-8fc6-468d-9120-d4254aadebc8",
   "metadata": {},
   "outputs": [
    {
     "data": {
      "text/plain": [
       "(319, 15)"
      ]
     },
     "execution_count": 128,
     "metadata": {},
     "output_type": "execute_result"
    }
   ],
   "source": [
    "df_combined2.shape"
   ]
  },
  {
   "cell_type": "code",
   "execution_count": 129,
   "id": "5dceb2db-51fd-4711-bdf1-f9698bfe1191",
   "metadata": {},
   "outputs": [],
   "source": [
    "df_combined2[['TIRCP_Award_Amount_($)', 'Allocated_Amount','Expended_Amount']] = df_combined2[['TIRCP_Award_Amount_($)', 'Allocated_Amount', 'Expended_Amount']].fillna(value=0)"
   ]
  },
  {
   "cell_type": "code",
   "execution_count": 130,
   "id": "f68cd0b2-3156-4fb7-a33f-89627b77e4fd",
   "metadata": {},
   "outputs": [
    {
     "data": {
      "text/plain": [
       "Award_Year                  0\n",
       "Award_Recipient             0\n",
       "Implementing_Agency         0\n",
       "Phase                       1\n",
       "Components                  0\n",
       "PPNO                        0\n",
       "Allocation_Date            90\n",
       "Third_Party_Award_Date    154\n",
       "Completion_Date            90\n",
       "Project_#                  33\n",
       "Project_Title              33\n",
       "Key_Project_Elements       33\n",
       "TIRCP_Award_Amount_($)      0\n",
       "Allocated_Amount            0\n",
       "Expended_Amount             0\n",
       "dtype: int64"
      ]
     },
     "execution_count": 130,
     "metadata": {},
     "output_type": "execute_result"
    }
   ],
   "source": [
    "df_combined2.isna().sum()"
   ]
  },
  {
   "cell_type": "code",
   "execution_count": 131,
   "id": "69d32081-e6cd-4e7f-af61-159da57ea12a",
   "metadata": {},
   "outputs": [],
   "source": [
    "#dividing allocated amount and expended amount\n",
    "df_combined2['Expended_Percent'] = df_combined2['Expended_Amount']/df_combined2['Allocated_Amount']\n",
    "df_combined2['Allocated_Percent'] = df_combined2['Allocated_Amount']/df_combined2['TIRCP_Award_Amount_($)']"
   ]
  },
  {
   "cell_type": "code",
   "execution_count": 132,
   "id": "70cc1489-d7b4-4adf-a2fc-e9dfa9f0a5d7",
   "metadata": {},
   "outputs": [
    {
     "data": {
      "text/html": [
       "<div>\n",
       "<style scoped>\n",
       "    .dataframe tbody tr th:only-of-type {\n",
       "        vertical-align: middle;\n",
       "    }\n",
       "\n",
       "    .dataframe tbody tr th {\n",
       "        vertical-align: top;\n",
       "    }\n",
       "\n",
       "    .dataframe thead th {\n",
       "        text-align: right;\n",
       "    }\n",
       "</style>\n",
       "<table border=\"1\" class=\"dataframe\">\n",
       "  <thead>\n",
       "    <tr style=\"text-align: right;\">\n",
       "      <th></th>\n",
       "      <th>Award_Year</th>\n",
       "      <th>Award_Recipient</th>\n",
       "      <th>Implementing_Agency</th>\n",
       "      <th>Phase</th>\n",
       "      <th>Components</th>\n",
       "      <th>PPNO</th>\n",
       "      <th>Allocation_Date</th>\n",
       "      <th>Third_Party_Award_Date</th>\n",
       "      <th>Completion_Date</th>\n",
       "      <th>Project_#</th>\n",
       "      <th>Project_Title</th>\n",
       "      <th>Key_Project_Elements</th>\n",
       "      <th>TIRCP_Award_Amount_($)</th>\n",
       "      <th>Allocated_Amount</th>\n",
       "      <th>Expended_Amount</th>\n",
       "      <th>Expended_Percent</th>\n",
       "      <th>Allocated_Percent</th>\n",
       "    </tr>\n",
       "  </thead>\n",
       "  <tbody>\n",
       "    <tr>\n",
       "      <th>100</th>\n",
       "      <td>2018</td>\n",
       "      <td>Los Angeles County Metropolitan Transportation...</td>\n",
       "      <td>Los Angeles County Metropolitan Transportation...</td>\n",
       "      <td>PA&amp;ED</td>\n",
       "      <td>Vermont Transit Corridor</td>\n",
       "      <td>CP030</td>\n",
       "      <td>2021-03-13</td>\n",
       "      <td>2022-06-30</td>\n",
       "      <td>2029-06-01</td>\n",
       "      <td>10.0</td>\n",
       "      <td>Los Angeles Region Transit System Integration ...</td>\n",
       "      <td>Capital improvements that will broaden and mod...</td>\n",
       "      <td>1.088499e+09</td>\n",
       "      <td>261200000.0</td>\n",
       "      <td>0.0</td>\n",
       "      <td>0.000000</td>\n",
       "      <td>0.239963</td>\n",
       "    </tr>\n",
       "    <tr>\n",
       "      <th>94</th>\n",
       "      <td>2018</td>\n",
       "      <td>Livermore Amador Valley Transit Authority</td>\n",
       "      <td>Livermore Amador Valley Transit Authority</td>\n",
       "      <td>CONST</td>\n",
       "      <td>Network Integration</td>\n",
       "      <td>CP051</td>\n",
       "      <td>2018-12-06</td>\n",
       "      <td>2019-06-03</td>\n",
       "      <td>2021-12-31</td>\n",
       "      <td>9.0</td>\n",
       "      <td>Dublin/Pleasanton Capacity Improvement and Con...</td>\n",
       "      <td>Increase BART ridership through\\nconstruction ...</td>\n",
       "      <td>2.050000e+07</td>\n",
       "      <td>20500000.0</td>\n",
       "      <td>157092.4</td>\n",
       "      <td>0.007663</td>\n",
       "      <td>1.000000</td>\n",
       "    </tr>\n",
       "  </tbody>\n",
       "</table>\n",
       "</div>"
      ],
      "text/plain": [
       "     Award_Year                                    Award_Recipient  \\\n",
       "100        2018  Los Angeles County Metropolitan Transportation...   \n",
       "94         2018          Livermore Amador Valley Transit Authority   \n",
       "\n",
       "                                   Implementing_Agency  Phase  \\\n",
       "100  Los Angeles County Metropolitan Transportation...  PA&ED   \n",
       "94           Livermore Amador Valley Transit Authority  CONST   \n",
       "\n",
       "                   Components   PPNO Allocation_Date Third_Party_Award_Date  \\\n",
       "100  Vermont Transit Corridor  CP030      2021-03-13             2022-06-30   \n",
       "94        Network Integration  CP051      2018-12-06             2019-06-03   \n",
       "\n",
       "    Completion_Date  Project_#  \\\n",
       "100      2029-06-01       10.0   \n",
       "94       2021-12-31        9.0   \n",
       "\n",
       "                                         Project_Title  \\\n",
       "100  Los Angeles Region Transit System Integration ...   \n",
       "94   Dublin/Pleasanton Capacity Improvement and Con...   \n",
       "\n",
       "                                  Key_Project_Elements  \\\n",
       "100  Capital improvements that will broaden and mod...   \n",
       "94   Increase BART ridership through\\nconstruction ...   \n",
       "\n",
       "     TIRCP_Award_Amount_($)  Allocated_Amount  Expended_Amount  \\\n",
       "100            1.088499e+09       261200000.0              0.0   \n",
       "94             2.050000e+07        20500000.0         157092.4   \n",
       "\n",
       "     Expended_Percent  Allocated_Percent  \n",
       "100          0.000000           0.239963  \n",
       "94           0.007663           1.000000  "
      ]
     },
     "execution_count": 132,
     "metadata": {},
     "output_type": "execute_result"
    }
   ],
   "source": [
    "df_combined2.sample(2)"
   ]
  },
  {
   "cell_type": "code",
   "execution_count": 133,
   "id": "efb31e45-5a6c-4f6e-bfe5-02acc8cef818",
   "metadata": {},
   "outputs": [
    {
     "data": {
      "text/plain": [
       "319"
      ]
     },
     "execution_count": 133,
     "metadata": {},
     "output_type": "execute_result"
    }
   ],
   "source": [
    "len(df_combined2) #checking rows  before deleting duplicates"
   ]
  },
  {
   "cell_type": "code",
   "execution_count": 134,
   "id": "b2ed1e27-5da8-45c0-b715-935e25090e9b",
   "metadata": {
    "scrolled": true,
    "tags": []
   },
   "outputs": [],
   "source": [
    "df_combined2 = df_combined2.drop_duplicates()"
   ]
  },
  {
   "cell_type": "code",
   "execution_count": 135,
   "id": "13a13def-a0c8-47b5-aa9e-43b3db2e92dc",
   "metadata": {},
   "outputs": [
    {
     "data": {
      "text/html": [
       "<div>\n",
       "<style scoped>\n",
       "    .dataframe tbody tr th:only-of-type {\n",
       "        vertical-align: middle;\n",
       "    }\n",
       "\n",
       "    .dataframe tbody tr th {\n",
       "        vertical-align: top;\n",
       "    }\n",
       "\n",
       "    .dataframe thead th {\n",
       "        text-align: right;\n",
       "    }\n",
       "</style>\n",
       "<table border=\"1\" class=\"dataframe\">\n",
       "  <thead>\n",
       "    <tr style=\"text-align: right;\">\n",
       "      <th></th>\n",
       "      <th>Award_Year</th>\n",
       "      <th>Award_Recipient</th>\n",
       "      <th>Implementing_Agency</th>\n",
       "      <th>Phase</th>\n",
       "      <th>Components</th>\n",
       "      <th>PPNO</th>\n",
       "      <th>Allocation_Date</th>\n",
       "      <th>Third_Party_Award_Date</th>\n",
       "      <th>Completion_Date</th>\n",
       "      <th>Project_#</th>\n",
       "      <th>Project_Title</th>\n",
       "      <th>Key_Project_Elements</th>\n",
       "      <th>TIRCP_Award_Amount_($)</th>\n",
       "      <th>Allocated_Amount</th>\n",
       "      <th>Expended_Amount</th>\n",
       "      <th>Expended_Percent</th>\n",
       "      <th>Allocated_Percent</th>\n",
       "    </tr>\n",
       "  </thead>\n",
       "  <tbody>\n",
       "    <tr>\n",
       "      <th>0</th>\n",
       "      <td>2015</td>\n",
       "      <td>Antelope Valley Transit Authority</td>\n",
       "      <td>Antelope Valley Transit Authority</td>\n",
       "      <td>CONST</td>\n",
       "      <td>Purchase 13 60-foot articulated BRT buses and ...</td>\n",
       "      <td>CP005</td>\n",
       "      <td>2015-10-22</td>\n",
       "      <td>2016-03-14</td>\n",
       "      <td>2022-03-30</td>\n",
       "      <td>1.0</td>\n",
       "      <td>Regional Transit Interconnectivity &amp; Environme...</td>\n",
       "      <td>Purchase 13 60-foot articulated BRT buses and ...</td>\n",
       "      <td>24403000.0</td>\n",
       "      <td>24403000.0</td>\n",
       "      <td>21714177.53</td>\n",
       "      <td>0.889816</td>\n",
       "      <td>1.0</td>\n",
       "    </tr>\n",
       "    <tr>\n",
       "      <th>1</th>\n",
       "      <td>2015</td>\n",
       "      <td>Capitol Corridor Joint Powers Authority</td>\n",
       "      <td>Capitol Corridor Joint Powers Authority</td>\n",
       "      <td>CONST</td>\n",
       "      <td>Track and curve improvements between San Jose ...</td>\n",
       "      <td>CP012</td>\n",
       "      <td>2016-05-19</td>\n",
       "      <td>2016-06-01</td>\n",
       "      <td>2019-06-01</td>\n",
       "      <td>2.0</td>\n",
       "      <td>Travel Time Reduction Project</td>\n",
       "      <td>Track and curve improvements between San Jose ...</td>\n",
       "      <td>4620000.0</td>\n",
       "      <td>4620000.0</td>\n",
       "      <td>4619999.90</td>\n",
       "      <td>1.000000</td>\n",
       "      <td>1.0</td>\n",
       "    </tr>\n",
       "  </tbody>\n",
       "</table>\n",
       "</div>"
      ],
      "text/plain": [
       "   Award_Year                          Award_Recipient  \\\n",
       "0        2015       Antelope Valley Transit Authority    \n",
       "1        2015  Capitol Corridor Joint Powers Authority   \n",
       "\n",
       "                       Implementing_Agency  Phase  \\\n",
       "0       Antelope Valley Transit Authority   CONST   \n",
       "1  Capitol Corridor Joint Powers Authority  CONST   \n",
       "\n",
       "                                          Components   PPNO Allocation_Date  \\\n",
       "0  Purchase 13 60-foot articulated BRT buses and ...  CP005      2015-10-22   \n",
       "1  Track and curve improvements between San Jose ...  CP012      2016-05-19   \n",
       "\n",
       "  Third_Party_Award_Date Completion_Date  Project_#  \\\n",
       "0             2016-03-14      2022-03-30        1.0   \n",
       "1             2016-06-01      2019-06-01        2.0   \n",
       "\n",
       "                                       Project_Title  \\\n",
       "0  Regional Transit Interconnectivity & Environme...   \n",
       "1                      Travel Time Reduction Project   \n",
       "\n",
       "                                Key_Project_Elements  TIRCP_Award_Amount_($)  \\\n",
       "0  Purchase 13 60-foot articulated BRT buses and ...              24403000.0   \n",
       "1  Track and curve improvements between San Jose ...               4620000.0   \n",
       "\n",
       "   Allocated_Amount  Expended_Amount  Expended_Percent  Allocated_Percent  \n",
       "0        24403000.0      21714177.53          0.889816                1.0  \n",
       "1         4620000.0       4619999.90          1.000000                1.0  "
      ]
     },
     "execution_count": 135,
     "metadata": {},
     "output_type": "execute_result"
    }
   ],
   "source": [
    "df_combined2.head(2)"
   ]
  },
  {
   "cell_type": "code",
   "execution_count": 137,
   "id": "00ee02e7-ad23-4d37-b733-d2666263aad3",
   "metadata": {},
   "outputs": [
    {
     "data": {
      "text/plain": [
       "288"
      ]
     },
     "execution_count": 137,
     "metadata": {},
     "output_type": "execute_result"
    }
   ],
   "source": [
    "len(df_combined2)"
   ]
  },
  {
   "cell_type": "code",
   "execution_count": 138,
   "id": "29c76f5f-9cbe-4df2-b77b-5bf7b14186c9",
   "metadata": {},
   "outputs": [],
   "source": [
    "df_combined2.to_csv(\"./df_combined2.csv\", index = False) "
   ]
  }
 ],
 "metadata": {
  "kernelspec": {
   "display_name": "Python 3 (ipykernel)",
   "language": "python",
   "name": "python3"
  },
  "language_info": {
   "codemirror_mode": {
    "name": "ipython",
    "version": 3
   },
   "file_extension": ".py",
   "mimetype": "text/x-python",
   "name": "python",
   "nbconvert_exporter": "python",
   "pygments_lexer": "ipython3",
   "version": "3.9.7"
  },
  "toc-autonumbering": false,
  "toc-showmarkdowntxt": false,
  "toc-showtags": false
 },
 "nbformat": 4,
 "nbformat_minor": 5
}
