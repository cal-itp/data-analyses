{
 "cells": [
  {
   "cell_type": "markdown",
   "id": "04695d17-77ed-4d06-ac41-6b729c8c8f66",
   "metadata": {
    "tags": []
   },
   "source": [
    "## Notes \n",
    "<b> 2/18/2022 <b>\n",
    "* For SAR, only projects that have empty phase completion dates are included. \n",
    "* Projects with NO allocation amount won't appear in SAR. \n",
    "* Wants to compare cols from previous SAR with current SAR b/c she has to bold any changes in black for CTC.\n",
    "* For PAP, problem is prior col is all lumped together for projects before 2020? Highlands sheet does not differentiate between the years. Wants each year to be separated out.\n",
    "    \n",
    "<b> To do </b>\n",
    "* Make sure all the values in date columns are replaced properly. \n",
    "* Change col names to match the new SAR report sent over 2/15.\n",
    "* SAR: allocation amount col isn't from highlands sheet, it's taken by adding GGRF Alloc + PTA-SB1. Add them back in, add the column..."
   ]
  },
  {
   "cell_type": "code",
   "execution_count": 1,
   "id": "ff16a04b-0dd6-477f-89a7-4dd418353859",
   "metadata": {},
   "outputs": [],
   "source": [
    "import numpy as np\n",
    "import pandas as pd\n",
    "import TIRCP_functions\n",
    "GCS_FILE_PATH = \"gs://calitp-analytics-data/data-analyses/tircp/\"\n",
    "pd.options.display.max_columns = 50\n",
    "pd.options.display.max_rows = 100\n",
    "pd.options.display.float_format = \"{:.2f}\".format"
   ]
  },
  {
   "cell_type": "code",
   "execution_count": 2,
   "id": "0cc1fb4a-1d40-4ff1-9984-2db767669b7a",
   "metadata": {},
   "outputs": [],
   "source": [
    "#Load in Crosswalks \n",
    "FILE_NAME3 = \"Allocation_PPNO_Crosswalk.csv\"\n",
    "allocation_ppno_crosswalk = pd.read_csv(f\"{GCS_FILE_PATH}{FILE_NAME3}\")\n",
    "    \n",
    "#Allocation PPNO Crosswalk\n",
    "FILE_NAME4 = \"Projects_PPNO.xlsx\"\n",
    "project_ppno_crosswalk = pd.read_excel(f\"{GCS_FILE_PATH}{FILE_NAME4}\")\n"
   ]
  },
  {
   "cell_type": "markdown",
   "id": "27d4a20c-a63b-482a-9d79-4df466bc4ace",
   "metadata": {},
   "source": [
    "### Loading in Scripts"
   ]
  },
  {
   "cell_type": "code",
   "execution_count": null,
   "id": "27de9e2b-3f63-403e-828e-76cfbb05912f",
   "metadata": {},
   "outputs": [],
   "source": [
    "test_SAR = TIRCP_functions.semi_annual_report()"
   ]
  },
  {
   "cell_type": "code",
   "execution_count": 52,
   "id": "92008096-7502-4fb8-a338-6b0b1f4ee7d2",
   "metadata": {},
   "outputs": [
    {
     "name": "stderr",
     "output_type": "stream",
     "text": [
      "/opt/conda/lib/python3.9/site-packages/pandas/core/algorithms.py:1799: FutureWarning: Comparison of Timestamp with datetime.date is deprecated in order to match the standard library behavior.  In a future version these will be considered non-comparable.Use 'ts == pd.Timestamp(date)' or 'ts.date() == date' instead.\n",
      "  sorter = values.argsort()\n"
     ]
    }
   ],
   "source": [
    "test_program = program_allocation_plan()"
   ]
  },
  {
   "cell_type": "code",
   "execution_count": 3,
   "id": "13f48322-973a-4e72-9708-40478008215c",
   "metadata": {
    "scrolled": true,
    "tags": []
   },
   "outputs": [
    {
     "data": {
      "text/plain": [
       "(307, 49)"
      ]
     },
     "execution_count": 3,
     "metadata": {},
     "output_type": "execute_result"
    }
   ],
   "source": [
    "alloc_test = TIRCP_functions.allocation()"
   ]
  },
  {
   "cell_type": "code",
   "execution_count": 5,
   "id": "f0a0f32c-7ffc-4b51-ab2a-69340a39a672",
   "metadata": {},
   "outputs": [],
   "source": [
    "tableau_test = TIRCP_functions.tableau()"
   ]
  },
  {
   "cell_type": "code",
   "execution_count": 6,
   "id": "a10402b8-5ea4-4edb-a0b4-429c8c08dbe4",
   "metadata": {},
   "outputs": [],
   "source": [
    "project_test = TIRCP_functions.project()"
   ]
  },
  {
   "cell_type": "markdown",
   "id": "c9bf90de-35f2-47fa-bed9-dd6e7f683353",
   "metadata": {
    "tags": []
   },
   "source": [
    "### Program Allocation Plan"
   ]
  },
  {
   "cell_type": "code",
   "execution_count": 51,
   "id": "3a57129a-1971-4601-9047-2005017dc306",
   "metadata": {},
   "outputs": [],
   "source": [
    "def program_allocation_plan(): \n",
    "    ### LOAD IN SHEETS ### \n",
    "    df_project = project_test #REPLACE LATER\n",
    "    df_allocation = alloc_test #REPLACE LATER\n",
    "    #Only keeping certain columns\n",
    "    df_project = (df_project[['Award_Year', 'Project_#','TIRCP_project_sheet','Local_Agency','Project_Title',\n",
    "                              'PPNO', 'Unallocated_amt_project_sheet']]\n",
    "                 )\n",
    "    df_allocation = (df_allocation[['Award_Year','Award_Recipient', 'Implementing_Agency',\n",
    "    'Components', 'PPNO','Phase',\n",
    "    'Fiscal_Year_2020-2021', 'Fiscal_Year_2021-2022',\n",
    "    'Fiscal_Year_2022-2023', 'Fiscal_Year_2023-2024',\n",
    "    'Fiscal_Year_2024-2025', 'Fiscal_Year_2025-2026',\n",
    "    'Fiscal_Year_2026-2027', 'Fiscal_Year_2027-2028',\n",
    "    'Fiscal_Year_2028-2029', 'Fiscal_Year_2029-2030','CTC_Financial_Resolution',\n",
    "    'Allocation_Date','Project_ID','SB1_Funding','GGRF_Funding','Allocation_Amt_Allocation_Sheet']]\n",
    "                    ) \n",
    "    ### MERGE 2 SHEETS ###\n",
    "    df_combined = df_allocation.merge(df_project, how = \"left\", on = [\"PPNO\", \"Award_Year\"])\n",
    "    \n",
    "    ### CLEAN UP ###\n",
    "    #Fill in Project ID & CTC Fin Resolution with TBD so it'll show up\n",
    "    df_combined[['Project_ID','CTC_Financial_Resolution']] = (df_combined[['Project_ID',\n",
    "                                                            'CTC_Financial_Resolution']].fillna(value = 'TBD'))\n",
    "    #Fill in missing dates with something random \n",
    "    missing_date = pd.to_datetime('2100-01-01')\n",
    "    df_combined['Allocation_Date'] = df_combined['Allocation_Date'].fillna(missing_date)\n",
    "    \n",
    "    #Create Total_Amount Col\n",
    "    df_combined['Total_Amount'] = df_combined['GGRF_Funding'] + df_combined['SB1_Funding']\n",
    "    \n",
    "    #Rename cols to the right names\n",
    "    df_combined = (df_combined.rename(columns = {'TIRCP_project_sheet':'Award_Amount', \n",
    "                                                'Components': \"Separable_Phases/Components\",\n",
    "                                                'CTC_Financial_Resolution': 'Allocation_Resolution',\n",
    "                                                'SB1_Funding':'PTA-SB1_Amount', \n",
    "                                                'Unallocated_amt_project_sheet': 'Not_Allocated'})\n",
    "                  ) \n",
    "    \n",
    "    ### PIVOT ### \n",
    "    def pivot(df):\n",
    "        df = df.groupby(['Award_Year','Project_#','Award_Amount','Not_Allocated','PPNO','Award_Recipient','Implementing_Agency',\n",
    "        'Project_Title', 'Separable_Phases/Components','Phase','Project_ID','Allocation_Resolution','Allocation_Date']).agg({\n",
    "        'Fiscal_Year_2020-2021': 'max',\n",
    "        'Fiscal_Year_2021-2022': 'max', 'Fiscal_Year_2022-2023': 'max',\n",
    "        'Fiscal_Year_2023-2024': 'max', 'Fiscal_Year_2024-2025': 'max',\n",
    "        'Fiscal_Year_2025-2026': 'max', 'Fiscal_Year_2026-2027': 'max',\n",
    "        'Fiscal_Year_2027-2028': 'max', 'Fiscal_Year_2028-2029': 'max',\n",
    "        'Fiscal_Year_2029-2030': 'max', 'PTA-SB1_Amount': 'sum', 'GGRF_Funding':'sum',\n",
    "         'Total_Amount':'sum'})\n",
    "        return df \n",
    "    \n",
    "    df_2015 = pivot(df_combined.loc[df_combined['Award_Year'] == 2015])\n",
    "    df_2016 = pivot(df_combined.loc[df_combined['Award_Year'] == 2016])\n",
    "    df_2018 = pivot(df_combined.loc[df_combined['Award_Year'] == 2018])\n",
    "    df_2020 = pivot(df_combined.loc[df_combined['Award_Year'] == 2020])\n",
    "    \n",
    "    #GCS \n",
    "    with pd.ExcelWriter(f'{GCS_FILE_PATH}FUNCTION_TEST_PAP.xlsx') as writer:\n",
    "        df_2015.to_excel(writer, sheet_name=\"2015_Cycle_1\", index=True)\n",
    "        df_2016.to_excel(writer, sheet_name=\"2016_Cycle_2\", index=True)\n",
    "        df_2018.to_excel(writer, sheet_name=\"2018_Cycle_3\", index=True)\n",
    "        df_2020.to_excel(writer, sheet_name=\"2020_Cycle_4\", index=True)\n",
    "        \n",
    "    return df_combined\n",
    "    "
   ]
  },
  {
   "cell_type": "markdown",
   "id": "60abbc2a-ba1a-4d37-9687-06f882d7bec4",
   "metadata": {},
   "source": [
    "### Once I get the final data, compare the PPNO # across the 2 sheets "
   ]
  },
  {
   "cell_type": "code",
   "execution_count": null,
   "id": "3c29f8bf-811a-4b8e-8126-7eb8b1c5b038",
   "metadata": {},
   "outputs": [],
   "source": [
    "PPNO_project = set(project_test.PPNO.unique().tolist())\n",
    "PPNO_allocation = set(alloc_test.PPNO.unique().tolist())"
   ]
  },
  {
   "cell_type": "code",
   "execution_count": null,
   "id": "34883359-83df-4058-9328-80adc6b747d8",
   "metadata": {},
   "outputs": [],
   "source": [
    "PPNO_project - PPNO_allocation #checking for differences"
   ]
  }
 ],
 "metadata": {
  "kernelspec": {
   "display_name": "Python 3 (ipykernel)",
   "language": "python",
   "name": "python3"
  },
  "language_info": {
   "codemirror_mode": {
    "name": "ipython",
    "version": 3
   },
   "file_extension": ".py",
   "mimetype": "text/x-python",
   "name": "python",
   "nbconvert_exporter": "python",
   "pygments_lexer": "ipython3",
   "version": "3.9.7"
  }
 },
 "nbformat": 4,
 "nbformat_minor": 5
}
