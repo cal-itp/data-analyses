{
 "cells": [
  {
   "cell_type": "markdown",
   "id": "04695d17-77ed-4d06-ac41-6b729c8c8f66",
   "metadata": {
    "tags": []
   },
   "source": [
    "## Notes \n",
    "<b> 2/18/2022 <b>\n",
    "* For SAR, only projects that have empty phase completion dates are included. \n",
    "* Projects with NO allocation amount won't appear in SAR. \n",
    "* Wants to compare cols from previous SAR with current SAR b/c she has to bold any changes in black for CTC.\n",
    "* For PAP, problem is prior col is all lumped together for projects before 2020? Highlands sheet does not differentiate between the years. Wants each year to be separated out.\n",
    "    \n",
    "<b> To do </b>\n",
    "* Make sure all the values in date columns are replaced properly. \n",
    "* Make sure grant recipients don't have multiple variations of the same recipient.\n",
    "* Make sure PPNO numbers match across the sheets.\n",
    "* Change col names to match the new SAR report sent over 2/15.\n",
    "* SAR: allocation amount col isn't from highlands sheet, it's taken by adding GGRF Alloc + PTA-SB1. Add them back in, add the column..."
   ]
  },
  {
   "cell_type": "code",
   "execution_count": 1,
   "id": "ff16a04b-0dd6-477f-89a7-4dd418353859",
   "metadata": {},
   "outputs": [
    {
     "name": "stderr",
     "output_type": "stream",
     "text": [
      "/opt/conda/lib/python3.9/site-packages/geopandas/_compat.py:111: UserWarning: The Shapely GEOS version (3.10.2-CAPI-1.16.0) is incompatible with the GEOS version PyGEOS was compiled with (3.10.1-CAPI-1.16.0). Conversions between both will be slow.\n",
      "E0314 21:22:16.539197288    1847 fork_posix.cc:70]           Fork support is only compatible with the epoll1 and poll polling strategies\n",
      "E0314 21:22:16.976509119    1847 fork_posix.cc:70]           Fork support is only compatible with the epoll1 and poll polling strategies\n"
     ]
    }
   ],
   "source": [
    "import numpy as np\n",
    "import pandas as pd\n",
    "import TIRCP_functions\n",
    "GCS_FILE_PATH = \"gs://calitp-analytics-data/data-analyses/tircp/\"\n",
    "pd.options.display.max_columns = 50\n",
    "pd.options.display.max_rows = 100\n",
    "pd.options.display.float_format = \"{:.2f}\".format\n",
    "from siuba import *\n",
    "from calitp import *\n"
   ]
  },
  {
   "cell_type": "code",
   "execution_count": 2,
   "id": "0cc1fb4a-1d40-4ff1-9984-2db767669b7a",
   "metadata": {},
   "outputs": [],
   "source": [
    "#Load in Crosswalks \n",
    "FILE_NAME3 = \"Allocation_PPNO_Crosswalk.csv\"\n",
    "allocation_ppno_crosswalk = pd.read_csv(f\"{GCS_FILE_PATH}{FILE_NAME3}\")\n",
    "    \n",
    "#Allocation PPNO Crosswalk\n",
    "FILE_NAME4 = \"Projects_PPNO.xlsx\"\n",
    "project_ppno_crosswalk = pd.read_excel(f\"{GCS_FILE_PATH}{FILE_NAME4}\")\n"
   ]
  },
  {
   "cell_type": "markdown",
   "id": "e60f9261-a290-4ce8-ad52-4064dd8aed20",
   "metadata": {},
   "source": [
    "### Testing Area"
   ]
  },
  {
   "cell_type": "code",
   "execution_count": 3,
   "id": "afc6c876-d90b-46f5-aaa2-f25ca309c038",
   "metadata": {},
   "outputs": [],
   "source": [
    "FILE_NAME = 'TIRCP_Allocation_March_14_2022.xlsx'\n",
    "allocation = pd.read_excel(f\"{GCS_FILE_PATH}{FILE_NAME}\")"
   ]
  },
  {
   "cell_type": "code",
   "execution_count": 4,
   "id": "ebdeff69-464b-4ef1-8d20-e2e75b8aaf89",
   "metadata": {},
   "outputs": [],
   "source": [
    "allocation.columns = allocation.columns.str.strip().str.replace(' ', '_')"
   ]
  },
  {
   "cell_type": "code",
   "execution_count": 5,
   "id": "c977b624-ddd2-43df-a62c-c27f26bf6484",
   "metadata": {},
   "outputs": [
    {
     "data": {
      "text/plain": [
       "Index(['Award_Year', 'Project_#', 'Grant_Recipient', 'Implementing_Agency',\n",
       "       'PPNO', 'Project_ID', 'EA', 'Components', 'Phase', 'Allocation_Amount',\n",
       "       'Expended_Amount', 'SB1_Funding', 'SB1_Budget_Year', 'GGRF_Funding',\n",
       "       'GGRF_Budget_Year', 'CTC_Financial_Resolution',\n",
       "       'CTC_Allocation_Amendment', 'CTC_Waiver', 'CalSTA_Waiver',\n",
       "       'Allocation_Date', 'Completion_Date', 'PSA_#', 'CT_Document_#',\n",
       "       '3rd_Party_Award_Date', 'LED', 'Date_Branch_Chief_Receives_PSA',\n",
       "       'Date_Regional_Coordinator_Receives_PSA', 'Date_OC_Receives_PSA',\n",
       "       'Date_OPM_Receives_PSA', 'Date_Legal_Receives_PSA',\n",
       "       'Date_Returned_to_PM', 'Date_PSA_Sent_to_Local_Agency',\n",
       "       'Date_PSA_Approved_by_Local_Agency', 'Date_Signed_by_DRMT',\n",
       "       'PSA_Expiry_Date', 'LONP', 'Prior_Fiscal_Years_to_2020',\n",
       "       'Fiscal_Year_2020-2021', 'Fiscal_Year_2021-2022',\n",
       "       'Fiscal_Year_2022-2023', 'Fiscal_Year_2023-2024',\n",
       "       'Fiscal_Year_2024-2025', 'Fiscal_Year_2025-2026',\n",
       "       'Fiscal_Year_2026-2027', 'Fiscal_Year_2027-2028',\n",
       "       'Fiscal_Year_2028-2029', 'Fiscal_Year_2029-2030', 'Allocation_Comments',\n",
       "       'PSA_Comments'],\n",
       "      dtype='object')"
      ]
     },
     "execution_count": 5,
     "metadata": {},
     "output_type": "execute_result"
    }
   ],
   "source": [
    "allocation.columns"
   ]
  },
  {
   "cell_type": "code",
   "execution_count": 6,
   "id": "c4982bda-0803-4935-99f2-fc4c512c512a",
   "metadata": {},
   "outputs": [],
   "source": [
    "allocation=allocation.rename(columns = {'3rd_Party_Award_Date':'Third_Party_Award_Date'})"
   ]
  },
  {
   "cell_type": "code",
   "execution_count": 17,
   "id": "e26945e5-d0dd-4f86-8667-0958e323a91c",
   "metadata": {
    "scrolled": true,
    "tags": []
   },
   "outputs": [],
   "source": [
    "def allocation_function(df): \n",
    "    #FILE_NAME2 = \"TIRCP_Allocation_March_14_2022.xlsx\" CHANGE THIS\n",
    "    #df = pd.read_excel(f\"{GCS_FILE_PATH}{FILE_NAME2}\")CHANGE THIS\n",
    "    \n",
    "    #stripping spaces & _ \n",
    "    df.columns = df.columns.str.strip().str.replace(' ', '_')\n",
    "    #stripping spaces in columns\n",
    "    df.columns = df.columns.map(lambda x: x.strip())\n",
    "    \n",
    "    #drop NA\n",
    "    df= df.dropna(how='all')\n",
    "    ### PPNO CLEAN UP ### \n",
    "    # stripping PPNO down to <5 characters\n",
    "    df = df.assign(PPNO_New = df['PPNO'].str.slice(start=0, stop=5))\n",
    "    #Merge in Crosswalk \n",
    "    df = pd.merge(df, allocation_ppno_crosswalk, left_on = [\"Award_Year\", \"Grant_Recipient\"], right_on =[\"Award_Year\",\"Award_Recipient\"], how = \"left\")\n",
    "    #Map Crosswalk \n",
    "    df.PPNO_New = df.apply(lambda x: x.PPNO_New if (str(x.PPNO_New2) == 'nan') else x.PPNO_New2, axis=1)\n",
    "    #Drop old PPNO \n",
    "    df = df.drop(['PPNO','PPNO_New2'], axis=1).rename(columns = {'PPNO_New': 'PPNO'}) \n",
    "    \n",
    "    ### DATES CLEAN UP ###\n",
    "    #rename thid party award date\n",
    "    df = df.rename(columns = {'3rd_Party_Award_Date':'Third_Party_Award_Date'})\n",
    "    #clean up dates in a loop\n",
    "    alloc_dates = [\"Allocation_Date\", \"Third_Party_Award_Date\", \"Completion_Date\", \"LED\",\n",
    "                  ]\n",
    "    for i in [alloc_dates]:\n",
    "        df[i] = (df[i].replace('/', '-', regex = True).replace('Complete', '', regex = True)\n",
    "            .replace('\\n', '', regex=True).replace('Pending','TBD',regex= True)\n",
    "            .fillna('TBD')\n",
    "        )\n",
    "    #replacing values for date columns to be coerced later \n",
    "    df[\"Allocation_Date\"] = (df[\"Allocation_Date\"].replace({\"08/12//20\": '2020-08-12 00:00:00', \n",
    "                                        \n",
    "                                         'FY 20/21': '2020-12-31 00:00:00'})) \n",
    "   \n",
    "    df[\"Completion_Date\"] = (df[\"Completion_Date\"].replace({\n",
    "    'Complete\\n6/1/2019': '2019-06-01 00:00:00',\n",
    "    'Complete\\n2/11/2018': '2018-02-11 00:00:00',\n",
    "    'Complete\\n6/30/2020': '2020-06-30 00:00:00',\n",
    "     '\\n6/30/2018': '2018-06-30 00:00:00', \n",
    "     '\\n6/29/2020':'2020-06-29 00:00:00', \n",
    "        '\\n11/1/2019': '2019-01-11 00:00:00',\n",
    "    '\\nJun-29\\n':'2019-06-01 00:00:00',\n",
    "    '6/30/2021\\n12/31/2021\\n10/20/2022': '2022-10-22 00:00:00',\n",
    "    'Complete\\n1/31/2020': '2020-01-31 00:00:00',\n",
    "    'Complete\\n8/30/2020': '2020-08-30 00:00:00',\n",
    "    'June 24. 2024': '2024-06-01 00:00:00',  \n",
    "    '11/21/2024\\n7/30/2025 (Q4)': '2024-11-21 00:00:00', \n",
    "    'Jun-26': '2026-01-01 00:00:00', \n",
    "     'Jun-29': '2029-06-01 00:00:00',\n",
    "    'Complete\\n11/12/2019': '2019-11-12 00:00:00' , \n",
    "    'Deallocated': '', \n",
    "    'Jun-28': '2028-06-01 00:00:00',  \n",
    "    'Jun-25': '2025-06-01 00:00:00', \n",
    "    'Jun-23':'2023-06-01 00:00:00', \n",
    "    'Jun-27': '2027-06-01 00:00:00',\n",
    "    'Jan-25': '2025-01-01 00:00:00',\n",
    "    '11-21-20247-30-2025 (Q4)':'2025-07-30 00:00:00',\n",
    "    '6-30-202112-31-2021': '2021-12-31 00:00:00',\n",
    "    '6-1-2019': '2019-06-01 00:00:00',\n",
    "    '2-11-2018': '2018-02-11 00:00:00',\n",
    "     '6-30-2020': '2020-06-30 00:00:00',\n",
    "    ' 6-30-2018': '2018-06-30 00:00:00',\n",
    "     '6-29-2020': '2020-06-29 00:00:00',\n",
    "     '11-1-2019': '2019-11-01 00:00:00',\n",
    "     ' 12-10-2018': '2018-12-10 00:00:00',\n",
    "     ' 11-13-2019': '2019-11-13 00:00:00',\n",
    "     '3-30-2020':'2020-03-30 00:00:00',\n",
    "    ' 6-30-2020': '2020-06-30 00:00:00',\n",
    "    '11-12-2019': '2019-11-12 00:00:00',\n",
    "    '1-31-2020': '2020-01-31 00:00:00',\n",
    "    '8-30-2020': '2020-08-30 00:00:00',\n",
    "    '5-16-2020': '2020,05-16 00:00:00',\n",
    "     '5-7-2020': '2020-05-07 00:00:00'})) \n",
    "    \n",
    "    df[\"Third_Party_Award_Date\"] = df[\"Third_Party_Award_Date\"].replace({ \n",
    "    '-': 'TBD',\n",
    "    'Pending 6/30/2022':'2022-06-30 00:00:00',\n",
    "    'Augsut 12, 2021': '2021-08-12 00:00:00',})\n",
    "    \n",
    "    # coerce to dates\n",
    "    df = df.assign(\n",
    "    Allocation_Date_New = pd.to_datetime(df.Allocation_Date, errors=\"coerce\").dt.date,\n",
    "    Third_Party_Award_Date_New = pd.to_datetime(df.Third_Party_Award_Date, errors=\"coerce\").dt.date,\n",
    "    Completion_Date_New = pd.to_datetime(df.Completion_Date, errors=\"coerce\").dt.date,\n",
    "    LED_New = pd.to_datetime(df.LED, errors=\"coerce\").dt.date)\n",
    "    #dropping old date columns\n",
    "    df = df.drop(alloc_dates, axis=1)\n",
    "    #rename coerced columns\n",
    "    df = (df.rename(columns = {'Allocation_Date_New':'Allocation_Date',\n",
    "                               'Third_Party_Award_Date_New':'Third_Party_Award_Date',\n",
    "                               'Completion_Date_New': 'Completion_Date','LED_New': 'LED'})\n",
    "         )\n",
    "    \n",
    "    ### CLEAN UP MONETARY COLS ###\n",
    "    # correcting string to 0 \n",
    "    df[\"Expended_Amount\"].replace({'Deallocation': 0}, inplace=True)\n",
    "    #replacing monetary amounts with 0 & coerce to numeric \n",
    "    allocation_monetary_cols = ['SB1_Funding','Expended_Amount','Allocation_Amount',\n",
    "       'GGRF_Funding','Prior_Fiscal_Years_to_2020',\n",
    "       'Fiscal_Year_2020-2021', 'Fiscal_Year_2021-2022',\n",
    "       'Fiscal_Year_2022-2023', 'Fiscal_Year_2023-2024',\n",
    "       'Fiscal_Year_2024-2025', 'Fiscal_Year_2025-2026',\n",
    "       'Fiscal_Year_2026-2027', 'Fiscal_Year_2027-2028',\n",
    "       'Fiscal_Year_2028-2029', 'Fiscal_Year_2029-2030']\n",
    "    df[allocation_monetary_cols] = df[allocation_monetary_cols].fillna(value=0)\n",
    "    df[allocation_monetary_cols] = df[allocation_monetary_cols].apply(pd.to_numeric, errors='coerce')\n",
    "    #rename columns that are similar to project sheet to avoid confusion\n",
    "    df = (df.rename(columns = {'Allocation_Amount':'Allocation_Amt_Allocation_Sheet',\n",
    "                               'Expended_Amount': 'Expended_Amt_Allocation_Sheet'})\n",
    "         )\n",
    "   \n",
    "    return df"
   ]
  },
  {
   "cell_type": "code",
   "execution_count": 18,
   "id": "67c8ffab-48b3-4469-af76-4463c46f7572",
   "metadata": {},
   "outputs": [],
   "source": [
    "alloc_test = allocation_function(allocation)"
   ]
  },
  {
   "cell_type": "code",
   "execution_count": 19,
   "id": "efb59f9d-c8a4-404d-a25c-1208cc4f2922",
   "metadata": {
    "scrolled": true,
    "tags": []
   },
   "outputs": [
    {
     "data": {
      "text/plain": [
       "Award_Year                                  2\n",
       "Project_#                                   2\n",
       "Grant_Recipient                             2\n",
       "Implementing_Agency                         2\n",
       "Project_ID                                  7\n",
       "EA                                         10\n",
       "Components                                  2\n",
       "Phase                                       2\n",
       "Allocation_Amt_Allocation_Sheet             0\n",
       "Expended_Amt_Allocation_Sheet               0\n",
       "SB1_Funding                                 1\n",
       "SB1_Budget_Year                            60\n",
       "GGRF_Funding                                0\n",
       "GGRF_Budget_Year                           43\n",
       "CTC_Financial_Resolution                    9\n",
       "CTC_Allocation_Amendment                  186\n",
       "CTC_Waiver                                208\n",
       "CalSTA_Waiver                             197\n",
       "PSA_#                                       8\n",
       "CT_Document_#                              33\n",
       "Date_Branch_Chief_Receives_PSA            209\n",
       "Date_Regional_Coordinator_Receives_PSA    214\n",
       "Date_OC_Receives_PSA                      183\n",
       "Date_OPM_Receives_PSA                     133\n",
       "Date_Legal_Receives_PSA                   134\n",
       "Date_Returned_to_PM                       133\n",
       "Date_PSA_Sent_to_Local_Agency             215\n",
       "Date_PSA_Approved_by_Local_Agency         178\n",
       "Date_Signed_by_DRMT                        22\n",
       "PSA_Expiry_Date                           194\n",
       "LONP                                      209\n",
       "Prior_Fiscal_Years_to_2020                  0\n",
       "Fiscal_Year_2020-2021                       0\n",
       "Fiscal_Year_2021-2022                       0\n",
       "Fiscal_Year_2022-2023                       0\n",
       "Fiscal_Year_2023-2024                       0\n",
       "Fiscal_Year_2024-2025                       0\n",
       "Fiscal_Year_2025-2026                       0\n",
       "Fiscal_Year_2026-2027                       0\n",
       "Fiscal_Year_2027-2028                       0\n",
       "Fiscal_Year_2028-2029                       0\n",
       "Fiscal_Year_2029-2030                       0\n",
       "Allocation_Comments                       206\n",
       "PSA_Comments                              161\n",
       "PPNO                                        2\n",
       "Award_Recipient                           210\n",
       "Allocation_Date                            12\n",
       "Third_Party_Award_Date                     90\n",
       "Completion_Date                            23\n",
       "LED                                        32\n",
       "dtype: int64"
      ]
     },
     "execution_count": 19,
     "metadata": {},
     "output_type": "execute_result"
    }
   ],
   "source": [
    "alloc_test.isna().sum()"
   ]
  },
  {
   "cell_type": "markdown",
   "id": "fe19b05e-bb37-4c7e-9b46-a7dfd3170964",
   "metadata": {},
   "source": [
    "### Loading in Scripts"
   ]
  },
  {
   "cell_type": "code",
   "execution_count": 10,
   "id": "27de9e2b-3f63-403e-828e-76cfbb05912f",
   "metadata": {},
   "outputs": [],
   "source": [
    "test_SAR = TIRCP_functions.semi_annual_report()"
   ]
  },
  {
   "cell_type": "code",
   "execution_count": 11,
   "id": "92008096-7502-4fb8-a338-6b0b1f4ee7d2",
   "metadata": {},
   "outputs": [],
   "source": [
    "#test_program = TIRCP_functions.program_allocation_plan()"
   ]
  },
  {
   "cell_type": "code",
   "execution_count": 12,
   "id": "13f48322-973a-4e72-9708-40478008215c",
   "metadata": {
    "scrolled": true,
    "tags": []
   },
   "outputs": [],
   "source": [
    "alloc_test = TIRCP_functions.allocation()"
   ]
  },
  {
   "cell_type": "code",
   "execution_count": 13,
   "id": "51fc413c-872b-41a4-a586-787b1f479f8c",
   "metadata": {},
   "outputs": [
    {
     "data": {
      "text/plain": [
       "Index(['Award_Year', 'Project_#', 'Grant_Recipient', 'Implementing_Agency',\n",
       "       'Project_ID', 'EA', 'Components', 'Phase',\n",
       "       'Allocation_Amt_Allocation_Sheet', 'Expended_Amt_Allocation_Sheet',\n",
       "       'SB1_Funding', 'SB1_Budget_Year', 'GGRF_Funding', 'GGRF_Budget_Year',\n",
       "       'CTC_Financial_Resolution', 'CTC_Allocation_Amendment', 'CTC_Waiver',\n",
       "       'CalSTA_Waiver', 'PSA_#', 'CT_Document_#',\n",
       "       'Date_Branch_Chief_Receives_PSA',\n",
       "       'Date_Regional_Coordinator_Receives_PSA', 'Date_OC_Receives_PSA',\n",
       "       'Date_OPM_Receives_PSA', 'Date_Legal_Receives_PSA',\n",
       "       'Date_Returned_to_PM', 'Date_PSA_Sent_to_Local_Agency',\n",
       "       'Date_PSA_Approved_by_Local_Agency', 'Date_Signed_by_DRMT',\n",
       "       'PSA_Expiry_Date', 'LONP', 'Prior_Fiscal_Years_to_2020',\n",
       "       'Fiscal_Year_2020-2021', 'Fiscal_Year_2021-2022',\n",
       "       'Fiscal_Year_2022-2023', 'Fiscal_Year_2023-2024',\n",
       "       'Fiscal_Year_2024-2025', 'Fiscal_Year_2025-2026',\n",
       "       'Fiscal_Year_2026-2027', 'Fiscal_Year_2027-2028',\n",
       "       'Fiscal_Year_2028-2029', 'Fiscal_Year_2029-2030', 'Allocation_Comments',\n",
       "       'PSA_Comments', 'PPNO', 'Award_Recipient', 'Allocation_Date',\n",
       "       'Third_Party_Award_Date', 'Completion_Date', 'LED'],\n",
       "      dtype='object')"
      ]
     },
     "execution_count": 13,
     "metadata": {},
     "output_type": "execute_result"
    }
   ],
   "source": [
    "alloc_test.columns"
   ]
  },
  {
   "cell_type": "code",
   "execution_count": 14,
   "id": "f0a0f32c-7ffc-4b51-ab2a-69340a39a672",
   "metadata": {},
   "outputs": [
    {
     "ename": "KeyError",
     "evalue": "\"['Vendor_ID_#', 'Key_Project_Elements', 'Technical_Assistance-CALTP_(Y/N)', 'Percentge_Allocated'] not in index\"",
     "output_type": "error",
     "traceback": [
      "\u001b[0;31m---------------------------------------------------------------------------\u001b[0m",
      "\u001b[0;31mKeyError\u001b[0m                                  Traceback (most recent call last)",
      "Input \u001b[0;32mIn [14]\u001b[0m, in \u001b[0;36m<module>\u001b[0;34m\u001b[0m\n\u001b[0;32m----> 1\u001b[0m tableau_test \u001b[38;5;241m=\u001b[39m \u001b[43mTIRCP_functions\u001b[49m\u001b[38;5;241;43m.\u001b[39;49m\u001b[43mtableau\u001b[49m\u001b[43m(\u001b[49m\u001b[43m)\u001b[49m\n",
      "File \u001b[0;32m~/data-analyses/drmt_grants/TIRCP_functions.py:373\u001b[0m, in \u001b[0;36mtableau\u001b[0;34m()\u001b[0m\n\u001b[1;32m    371\u001b[0m df \u001b[38;5;241m=\u001b[39m project()\n\u001b[1;32m    372\u001b[0m \u001b[38;5;66;03m#Keeping only the columns we want\u001b[39;00m\n\u001b[0;32m--> 373\u001b[0m df \u001b[38;5;241m=\u001b[39m (\u001b[43mdf\u001b[49m\u001b[43m[\u001b[49m\u001b[43m[\u001b[49m\u001b[38;5;124;43m'\u001b[39;49m\u001b[38;5;124;43mPPNO\u001b[39;49m\u001b[38;5;124;43m'\u001b[39;49m\u001b[43m,\u001b[49m\u001b[38;5;124;43m'\u001b[39;49m\u001b[38;5;124;43mAward_Year\u001b[39;49m\u001b[38;5;124;43m'\u001b[39;49m\u001b[43m,\u001b[49m\u001b[43m \u001b[49m\u001b[38;5;124;43m'\u001b[39;49m\u001b[38;5;124;43mProject_#\u001b[39;49m\u001b[38;5;124;43m'\u001b[39;49m\u001b[43m,\u001b[49m\u001b[43m \u001b[49m\u001b[38;5;124;43m'\u001b[39;49m\u001b[38;5;124;43mLocal_Agency\u001b[39;49m\u001b[38;5;124;43m'\u001b[39;49m\u001b[43m,\u001b[49m\u001b[43m \u001b[49m\u001b[38;5;124;43m'\u001b[39;49m\u001b[38;5;124;43mVendor_ID_#\u001b[39;49m\u001b[38;5;124;43m'\u001b[39;49m\u001b[43m,\u001b[49m\n\u001b[1;32m    374\u001b[0m \u001b[43m   \u001b[49m\u001b[38;5;124;43m'\u001b[39;49m\u001b[38;5;124;43mProject_Title\u001b[39;49m\u001b[38;5;124;43m'\u001b[39;49m\u001b[43m,\u001b[49m\u001b[43m \u001b[49m\u001b[38;5;124;43m'\u001b[39;49m\u001b[38;5;124;43mDistrict\u001b[39;49m\u001b[38;5;124;43m'\u001b[39;49m\u001b[43m,\u001b[49m\u001b[43m \u001b[49m\u001b[38;5;124;43m'\u001b[39;49m\u001b[38;5;124;43mCounty\u001b[39;49m\u001b[38;5;124;43m'\u001b[39;49m\u001b[43m,\u001b[49m\u001b[43m \u001b[49m\u001b[38;5;124;43m'\u001b[39;49m\u001b[38;5;124;43mKey_Project_Elements\u001b[39;49m\u001b[38;5;124;43m'\u001b[39;49m\u001b[43m,\u001b[49m\n\u001b[1;32m    375\u001b[0m \u001b[43m   \u001b[49m\u001b[38;5;124;43m'\u001b[39;49m\u001b[38;5;124;43mMaster_Agreement_Number\u001b[39;49m\u001b[38;5;124;43m'\u001b[39;49m\u001b[43m,\u001b[49m\u001b[43m \u001b[49m\u001b[38;5;124;43m'\u001b[39;49m\u001b[38;5;124;43mMaster_Agreement_Expiration_Date\u001b[39;49m\u001b[38;5;124;43m'\u001b[39;49m\u001b[43m,\u001b[49m\n\u001b[1;32m    376\u001b[0m \u001b[43m   \u001b[49m\u001b[38;5;124;43m'\u001b[39;49m\u001b[38;5;124;43mProject_Manager\u001b[39;49m\u001b[38;5;124;43m'\u001b[39;49m\u001b[43m,\u001b[49m\u001b[43m \u001b[49m\u001b[38;5;124;43m'\u001b[39;49m\u001b[38;5;124;43mRegional_Coordinator\u001b[39;49m\u001b[38;5;124;43m'\u001b[39;49m\u001b[43m,\u001b[49m\n\u001b[1;32m    377\u001b[0m \u001b[43m   \u001b[49m\u001b[38;5;124;43m'\u001b[39;49m\u001b[38;5;124;43mTechnical_Assistance-CALTP_(Y/N)\u001b[39;49m\u001b[38;5;124;43m'\u001b[39;49m\u001b[43m,\u001b[49m\u001b[43m \u001b[49m\u001b[38;5;124;43m'\u001b[39;49m\u001b[38;5;124;43mTechnical_Assistance-Fleet_(Y/N)\u001b[39;49m\u001b[38;5;124;43m'\u001b[39;49m\u001b[43m,\u001b[49m\n\u001b[1;32m    378\u001b[0m \u001b[43m   \u001b[49m\u001b[38;5;124;43m'\u001b[39;49m\u001b[38;5;124;43mTechnical_Assistance-Network_Integration_(Y/N)\u001b[39;49m\u001b[38;5;124;43m'\u001b[39;49m\u001b[43m,\u001b[49m\n\u001b[1;32m    379\u001b[0m \u001b[43m   \u001b[49m\u001b[38;5;124;43m'\u001b[39;49m\u001b[38;5;124;43mTechnical_Assistance-Priority_Population_(Y/N)\u001b[39;49m\u001b[38;5;124;43m'\u001b[39;49m\u001b[43m,\u001b[49m\u001b[43m \u001b[49m\u001b[38;5;124;43m'\u001b[39;49m\u001b[38;5;124;43mTotal_Project_Cost\u001b[39;49m\u001b[38;5;124;43m'\u001b[39;49m\u001b[43m,\u001b[49m\n\u001b[1;32m    380\u001b[0m \u001b[43m   \u001b[49m\u001b[38;5;124;43m'\u001b[39;49m\u001b[38;5;124;43mTIRCP_project_sheet\u001b[39;49m\u001b[38;5;124;43m'\u001b[39;49m\u001b[43m,\u001b[49m\u001b[43m \u001b[49m\u001b[38;5;124;43m'\u001b[39;49m\u001b[38;5;124;43mAllocated_Amount\u001b[39;49m\u001b[38;5;124;43m'\u001b[39;49m\u001b[43m,\u001b[49m\n\u001b[1;32m    381\u001b[0m \u001b[43m   \u001b[49m\u001b[38;5;124;43m'\u001b[39;49m\u001b[38;5;124;43mUnallocated_amt_project_sheet\u001b[39;49m\u001b[38;5;124;43m'\u001b[39;49m\u001b[43m,\u001b[49m\u001b[43m \u001b[49m\u001b[38;5;124;43m'\u001b[39;49m\u001b[38;5;124;43mPercentge_Allocated\u001b[39;49m\u001b[38;5;124;43m'\u001b[39;49m\u001b[43m,\u001b[49m\n\u001b[1;32m    382\u001b[0m \u001b[43m   \u001b[49m\u001b[38;5;124;43m'\u001b[39;49m\u001b[38;5;124;43mExpended_Amt_project_sheet\u001b[39;49m\u001b[38;5;124;43m'\u001b[39;49m\u001b[43m,\u001b[49m\u001b[43m \u001b[49m\u001b[38;5;124;43m'\u001b[39;49m\u001b[38;5;124;43mOther_Funds_Involved\u001b[39;49m\u001b[38;5;124;43m'\u001b[39;49m\u001b[43m]\u001b[49m\u001b[43m]\u001b[49m\n\u001b[1;32m    383\u001b[0m              )\n\u001b[1;32m    384\u001b[0m \u001b[38;5;66;03m#Getting percentages & filling in with 0\u001b[39;00m\n\u001b[1;32m    385\u001b[0m df[\u001b[38;5;124m'\u001b[39m\u001b[38;5;124mExpended_Percent\u001b[39m\u001b[38;5;124m'\u001b[39m] \u001b[38;5;241m=\u001b[39m df[\u001b[38;5;124m'\u001b[39m\u001b[38;5;124mExpended_Amt_project_sheet\u001b[39m\u001b[38;5;124m'\u001b[39m]\u001b[38;5;241m/\u001b[39mdf[\u001b[38;5;124m'\u001b[39m\u001b[38;5;124mAllocated_Amount\u001b[39m\u001b[38;5;124m'\u001b[39m]\n",
      "File \u001b[0;32m/opt/conda/lib/python3.9/site-packages/pandas/core/frame.py:3511\u001b[0m, in \u001b[0;36mDataFrame.__getitem__\u001b[0;34m(self, key)\u001b[0m\n\u001b[1;32m   3509\u001b[0m     \u001b[38;5;28;01mif\u001b[39;00m is_iterator(key):\n\u001b[1;32m   3510\u001b[0m         key \u001b[38;5;241m=\u001b[39m \u001b[38;5;28mlist\u001b[39m(key)\n\u001b[0;32m-> 3511\u001b[0m     indexer \u001b[38;5;241m=\u001b[39m \u001b[38;5;28;43mself\u001b[39;49m\u001b[38;5;241;43m.\u001b[39;49m\u001b[43mcolumns\u001b[49m\u001b[38;5;241;43m.\u001b[39;49m\u001b[43m_get_indexer_strict\u001b[49m\u001b[43m(\u001b[49m\u001b[43mkey\u001b[49m\u001b[43m,\u001b[49m\u001b[43m \u001b[49m\u001b[38;5;124;43m\"\u001b[39;49m\u001b[38;5;124;43mcolumns\u001b[39;49m\u001b[38;5;124;43m\"\u001b[39;49m\u001b[43m)\u001b[49m[\u001b[38;5;241m1\u001b[39m]\n\u001b[1;32m   3513\u001b[0m \u001b[38;5;66;03m# take() does not accept boolean indexers\u001b[39;00m\n\u001b[1;32m   3514\u001b[0m \u001b[38;5;28;01mif\u001b[39;00m \u001b[38;5;28mgetattr\u001b[39m(indexer, \u001b[38;5;124m\"\u001b[39m\u001b[38;5;124mdtype\u001b[39m\u001b[38;5;124m\"\u001b[39m, \u001b[38;5;28;01mNone\u001b[39;00m) \u001b[38;5;241m==\u001b[39m \u001b[38;5;28mbool\u001b[39m:\n",
      "File \u001b[0;32m/opt/conda/lib/python3.9/site-packages/pandas/core/indexes/base.py:5782\u001b[0m, in \u001b[0;36mIndex._get_indexer_strict\u001b[0;34m(self, key, axis_name)\u001b[0m\n\u001b[1;32m   5779\u001b[0m \u001b[38;5;28;01melse\u001b[39;00m:\n\u001b[1;32m   5780\u001b[0m     keyarr, indexer, new_indexer \u001b[38;5;241m=\u001b[39m \u001b[38;5;28mself\u001b[39m\u001b[38;5;241m.\u001b[39m_reindex_non_unique(keyarr)\n\u001b[0;32m-> 5782\u001b[0m \u001b[38;5;28;43mself\u001b[39;49m\u001b[38;5;241;43m.\u001b[39;49m\u001b[43m_raise_if_missing\u001b[49m\u001b[43m(\u001b[49m\u001b[43mkeyarr\u001b[49m\u001b[43m,\u001b[49m\u001b[43m \u001b[49m\u001b[43mindexer\u001b[49m\u001b[43m,\u001b[49m\u001b[43m \u001b[49m\u001b[43maxis_name\u001b[49m\u001b[43m)\u001b[49m\n\u001b[1;32m   5784\u001b[0m keyarr \u001b[38;5;241m=\u001b[39m \u001b[38;5;28mself\u001b[39m\u001b[38;5;241m.\u001b[39mtake(indexer)\n\u001b[1;32m   5785\u001b[0m \u001b[38;5;28;01mif\u001b[39;00m \u001b[38;5;28misinstance\u001b[39m(key, Index):\n\u001b[1;32m   5786\u001b[0m     \u001b[38;5;66;03m# GH 42790 - Preserve name from an Index\u001b[39;00m\n",
      "File \u001b[0;32m/opt/conda/lib/python3.9/site-packages/pandas/core/indexes/base.py:5845\u001b[0m, in \u001b[0;36mIndex._raise_if_missing\u001b[0;34m(self, key, indexer, axis_name)\u001b[0m\n\u001b[1;32m   5842\u001b[0m     \u001b[38;5;28;01mraise\u001b[39;00m \u001b[38;5;167;01mKeyError\u001b[39;00m(\u001b[38;5;124mf\u001b[39m\u001b[38;5;124m\"\u001b[39m\u001b[38;5;124mNone of [\u001b[39m\u001b[38;5;132;01m{\u001b[39;00mkey\u001b[38;5;132;01m}\u001b[39;00m\u001b[38;5;124m] are in the [\u001b[39m\u001b[38;5;132;01m{\u001b[39;00maxis_name\u001b[38;5;132;01m}\u001b[39;00m\u001b[38;5;124m]\u001b[39m\u001b[38;5;124m\"\u001b[39m)\n\u001b[1;32m   5844\u001b[0m not_found \u001b[38;5;241m=\u001b[39m \u001b[38;5;28mlist\u001b[39m(ensure_index(key)[missing_mask\u001b[38;5;241m.\u001b[39mnonzero()[\u001b[38;5;241m0\u001b[39m]]\u001b[38;5;241m.\u001b[39munique())\n\u001b[0;32m-> 5845\u001b[0m \u001b[38;5;28;01mraise\u001b[39;00m \u001b[38;5;167;01mKeyError\u001b[39;00m(\u001b[38;5;124mf\u001b[39m\u001b[38;5;124m\"\u001b[39m\u001b[38;5;132;01m{\u001b[39;00mnot_found\u001b[38;5;132;01m}\u001b[39;00m\u001b[38;5;124m not in index\u001b[39m\u001b[38;5;124m\"\u001b[39m)\n",
      "\u001b[0;31mKeyError\u001b[0m: \"['Vendor_ID_#', 'Key_Project_Elements', 'Technical_Assistance-CALTP_(Y/N)', 'Percentge_Allocated'] not in index\""
     ]
    }
   ],
   "source": [
    "tableau_test = TIRCP_functions.tableau()"
   ]
  },
  {
   "cell_type": "code",
   "execution_count": null,
   "id": "a10402b8-5ea4-4edb-a0b4-429c8c08dbe4",
   "metadata": {},
   "outputs": [],
   "source": [
    "project_test = TIRCP_functions.project()"
   ]
  },
  {
   "cell_type": "code",
   "execution_count": null,
   "id": "b2200753-db7b-4ccd-9810-335262537b4f",
   "metadata": {},
   "outputs": [],
   "source": [
    "project_test.columns"
   ]
  },
  {
   "cell_type": "code",
   "execution_count": null,
   "id": "cdeec99f-9be3-4519-816f-1538c70106a1",
   "metadata": {
    "scrolled": true,
    "tags": []
   },
   "outputs": [],
   "source": [
    "project_test"
   ]
  },
  {
   "cell_type": "code",
   "execution_count": null,
   "id": "0f453f06-3840-4302-984a-476deb47d55b",
   "metadata": {},
   "outputs": [],
   "source": [
    "#tableau_test = tableau_test.to_parquet('Tableau_parquet.parquet') "
   ]
  },
  {
   "cell_type": "markdown",
   "id": "60abbc2a-ba1a-4d37-9687-06f882d7bec4",
   "metadata": {},
   "source": [
    "### Once I get the final data, compare the PPNO # across the 2 sheets "
   ]
  },
  {
   "cell_type": "code",
   "execution_count": null,
   "id": "3c29f8bf-811a-4b8e-8126-7eb8b1c5b038",
   "metadata": {},
   "outputs": [],
   "source": [
    "PPNO_project = set(project_test.PPNO.unique().tolist())\n",
    "PPNO_allocation = set(alloc_test.PPNO.unique().tolist())"
   ]
  },
  {
   "cell_type": "code",
   "execution_count": null,
   "id": "34883359-83df-4058-9328-80adc6b747d8",
   "metadata": {},
   "outputs": [],
   "source": [
    "PPNO_project - PPNO_allocation #checking for differences"
   ]
  }
 ],
 "metadata": {
  "kernelspec": {
   "display_name": "Python 3 (ipykernel)",
   "language": "python",
   "name": "python3"
  },
  "language_info": {
   "codemirror_mode": {
    "name": "ipython",
    "version": 3
   },
   "file_extension": ".py",
   "mimetype": "text/x-python",
   "name": "python",
   "nbconvert_exporter": "python",
   "pygments_lexer": "ipython3",
   "version": "3.9.10"
  }
 },
 "nbformat": 4,
 "nbformat_minor": 5
}
