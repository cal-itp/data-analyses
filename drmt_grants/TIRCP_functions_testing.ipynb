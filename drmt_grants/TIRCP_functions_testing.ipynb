{
 "cells": [
  {
   "cell_type": "markdown",
   "id": "04695d17-77ed-4d06-ac41-6b729c8c8f66",
   "metadata": {},
   "source": [
    "#  Loading in sheets"
   ]
  },
  {
   "cell_type": "code",
   "execution_count": null,
   "id": "ff16a04b-0dd6-477f-89a7-4dd418353859",
   "metadata": {},
   "outputs": [],
   "source": [
    "import numpy as np\n",
    "import pandas as pd\n",
    "import TIRCP_functions\n",
    "GCS_FILE_PATH = \"gs://calitp-analytics-data/data-analyses/tircp/\"\n",
    "pd.options.display.max_columns = 50\n",
    "pd.options.display.float_format = \"{:.2f}\".format"
   ]
  },
  {
   "cell_type": "code",
   "execution_count": null,
   "id": "0cc1fb4a-1d40-4ff1-9984-2db767669b7a",
   "metadata": {},
   "outputs": [],
   "source": [
    "\n",
    "#Allocation PPNO Crosswalk\n",
    "FILE_NAME3 = \"Allocation_PPNO_Crosswalk.csv\"\n",
    "allocation_ppno_crosswalk = pd.read_csv(f\"{GCS_FILE_PATH}{FILE_NAME3}\")\n",
    "    \n",
    "#Allocation PPNO Crosswalk\n",
    "FILE_NAME4 = \"Projects_PPNO.xlsx\"\n",
    "project_ppno_crosswalk = pd.read_excel(f\"{GCS_FILE_PATH}{FILE_NAME4}\")\n"
   ]
  },
  {
   "cell_type": "code",
   "execution_count": null,
   "id": "a10402b8-5ea4-4edb-a0b4-429c8c08dbe4",
   "metadata": {},
   "outputs": [],
   "source": [
    "project_script = TIRCP_functions.project()\n",
    "project_script.PPNO.unique()"
   ]
  },
  {
   "cell_type": "code",
   "execution_count": null,
   "id": "a48a5cae-8917-4033-a35d-3cbd5bd8f4d5",
   "metadata": {},
   "outputs": [],
   "source": [
    "#Project Sheet\n",
    "def project(): \n",
    "    FILE_NAME1 = \"Raw_Project_Tracking_Sheet.xlsx\"\n",
    "    df = pd.read_excel(f\"{GCS_FILE_PATH}{FILE_NAME1}\") \n",
    "    df.columns = df.columns.str.strip().str.replace(' ', '_')\n",
    "    df.columns = df.columns.map(lambda x: x.strip())\n",
    "    \n",
    "    ### PPNO CLEAN UP ###\n",
    "    # stripping PPNO down to <5 characters\n",
    "    df = df.assign(PPNO_New = df['PPNO'].str.slice(start=0, stop=5))\n",
    "    #Merge in Crosswalk \n",
    "    df = pd.merge(df, project_ppno_crosswalk, on = [\"Award_Year\", \"Local_Agency\"], how = \"left\")\n",
    "    df.PPNO_New = df.apply(lambda x: x.PPNO_New if (str(x.PPNO_New2) == 'nan') else x.PPNO_New2, axis=1)\n",
    "    df = df.drop(['PPNO','PPNO_New2'], axis=1).rename(columns = {'PPNO_New':'PPNO'})\n",
    "    ### MONETARY COLS CLEAN UP ###\n",
    "    proj_cols = ['TIRCP_Award_Amount_($)', 'Allocated_Amount','Expended_Amount','Unallocated_Amount','Total_Project_Cost','Other_Funds_Involved']\n",
    "    df[proj_cols] = df[proj_cols].fillna(value=0)\n",
    "    df[proj_cols] = df[proj_cols].apply(pd.to_numeric, errors='coerce')\n",
    "    \n",
    "    #rename to avoid confusion with allocation sheet\n",
    "    df = (df.rename(columns = {'TIRCP_Award_Amount_($)':'TIRCP_project_sheet',\n",
    "                               'Expended_Amount': 'Expended_Amt_project_sheet',\n",
    "                               'Unallocated_Amount':'Unallocated_amt_project_sheet'})\n",
    "         )\n",
    "    return df"
   ]
  },
  {
   "cell_type": "code",
   "execution_count": null,
   "id": "7c465b92-f7df-4916-9ff5-9cb484ecc5b6",
   "metadata": {},
   "outputs": [],
   "source": [
    "project_test =project()"
   ]
  },
  {
   "cell_type": "code",
   "execution_count": null,
   "id": "412c8e16-9fc4-4658-b166-937fde03bed4",
   "metadata": {
    "scrolled": true,
    "tags": []
   },
   "outputs": [],
   "source": [
    "project_test = project()\n",
    "project_test"
   ]
  },
  {
   "cell_type": "code",
   "execution_count": null,
   "id": "a6db6f97-c9de-42df-8310-90238df98c8d",
   "metadata": {},
   "outputs": [],
   "source": [
    "project_test.PPNO.unique()"
   ]
  },
  {
   "cell_type": "code",
   "execution_count": null,
   "id": "cd105bcd-cc00-468b-b665-811008ee82e1",
   "metadata": {},
   "outputs": [],
   "source": [
    "# PASTE THIS IN \n",
    "def allocation(): \n",
    "    FILE_NAME2 = \"Allocation_Agreement.xlsx\"\n",
    "    df = pd.read_excel(f\"{GCS_FILE_PATH}{FILE_NAME2}\")\n",
    "    #stripping spaces & _ \n",
    "    df.columns = df.columns.str.strip().str.replace(' ', '_')\n",
    "    #stripping spaces in columns\n",
    "    df.columns = df.columns.map(lambda x: x.strip())\n",
    "    \n",
    "    ### PPNO CLEAN UP ### \n",
    "    # stripping PPNO down to <5 characters\n",
    "    df = df.assign(PPNO_New = df['PPNO'].str.slice(start=0, stop=5))\n",
    "    #Merge in Crosswalk \n",
    "    df = pd.merge(df, allocation_ppno_crosswalk, on = [\"Award_Year\", \"Award_Recipient\"], how = \"left\")\n",
    "    #Map Crosswalk \n",
    "    df.PPNO_New = df.apply(lambda x: x.PPNO_New if (str(x.PPNO_New2) == 'nan') else x.PPNO_New2, axis=1)\n",
    "    #Drop old PPNO \n",
    "    df = df.drop(['PPNO','PPNO_New2'], axis=1).rename(columns = {'PPNO_New': 'PPNO'}) \n",
    "    ### DATES CLEAN UP ###\n",
    "    #rename thid party award date\n",
    "    df = df.rename(columns = {'3rd_Party_Award_Date':'Third_Party_Award_Date'})\n",
    "    #clean up dates in a loop\n",
    "    alloc_dates = [\"Allocation_Date\", \"Third_Party_Award_Date\", \"Completion_Date\", \"LED\",\n",
    "                  ]\n",
    "    for i in [alloc_dates]:\n",
    "        df[i] = (df[i].replace('/', '-', regex = True).replace('Complete', '', regex = True)\n",
    "            .replace('\\n', '', regex=True).replace('Pending','TBD',regex= True)\n",
    "            .fillna('TBD')\n",
    "        )\n",
    "    # coerce to dates\n",
    "    df = df.assign(\n",
    "    Allocation_Date_New = pd.to_datetime(df.Allocation_Date, errors=\"coerce\").dt.date,\n",
    "    Third_Party_Award_Date_New = pd.to_datetime(df.Third_Party_Award_Date, errors=\"coerce\").dt.date,\n",
    "    Completion_Date_New = pd.to_datetime(df.Completion_Date, errors=\"coerce\").dt.date,\n",
    "    LED_New = pd.to_datetime(df.LED, errors=\"coerce\").dt.date)\n",
    "    #dropping old date columns\n",
    "    df = df.drop(alloc_dates, axis=1)\n",
    "    #rename coerced columns\n",
    "    df = (df.rename(columns = {'Allocation_Date_New':'Allocation_Date',\n",
    "                               'Third_Party_Award_Date_New':'Third_Party_Award_Date',\n",
    "                               'Completion_Date_New': 'Completion_Date','LED_New': 'LED'})\n",
    "         )\n",
    "    ### CLEAN UP MONETARY COLS ###\n",
    "    # correcting string to 0 \n",
    "    df[\"Expended_Amount\"].replace({'Deallocation': 0}, inplace=True)\n",
    "    #replacing monetary amounts with 0 & coerce to numeric \n",
    "    allocation_monetary_cols = ['SB1_Funding','Expended_Amount','Allocation_Amount',\n",
    "       'GGRF_Funding','Prior_Fiscal_Years_to_2020',\n",
    "       'Fiscal_Year_2020-2021', 'Fiscal_Year_2021-2022',\n",
    "       'Fiscal_Year_2022-2023', 'Fiscal_Year_2023-2024',\n",
    "       'Fiscal_Year_2024-2025', 'Fiscal_Year_2025-2026',\n",
    "       'Fiscal_Year_2026-2027', 'Fiscal_Year_2027-2028',\n",
    "       'Fiscal_Year_2028-2029', 'Fiscal_Year_2029-2030']\n",
    "    df[allocation_monetary_cols] = df[allocation_monetary_cols].fillna(value=0)\n",
    "    df[allocation_monetary_cols] = df[allocation_monetary_cols].apply(pd.to_numeric, errors='coerce')\n",
    "    #rename columns that are similar to project sheet to avoid confusion\n",
    "    df = (df.rename(columns = {'Allocation_Amount':'Allocation_Amt_Allocation_Sheet',\n",
    "                               'Expended_Amount': 'Expended_Amt_Allocation_Sheet'})\n",
    "         )\n",
    "    return df"
   ]
  },
  {
   "cell_type": "code",
   "execution_count": null,
   "id": "5c156b16-ee96-4da1-a27a-ebf59401b41e",
   "metadata": {},
   "outputs": [],
   "source": [
    "allocation_test = allocation()\n",
    "\n",
    "allocation_test.PPNO.unique()"
   ]
  },
  {
   "cell_type": "code",
   "execution_count": null,
   "id": "d7d27b7e-d08a-41e5-8ec1-5ff69bd3d34e",
   "metadata": {},
   "outputs": [],
   "source": [
    "allocation_test.shape"
   ]
  },
  {
   "cell_type": "code",
   "execution_count": null,
   "id": "9e91ee2d-e8ab-422c-97d3-9e2a4ee11ae1",
   "metadata": {
    "scrolled": true,
    "tags": []
   },
   "outputs": [],
   "source": [
    "allocation_test.isna().sum()"
   ]
  },
  {
   "cell_type": "code",
   "execution_count": null,
   "id": "8ec5a3a7-edc5-4ecc-bd16-4db5129166fa",
   "metadata": {
    "scrolled": true,
    "tags": []
   },
   "outputs": [],
   "source": [
    "allocation_test.dtypes"
   ]
  },
  {
   "cell_type": "markdown",
   "id": "bc46d904-9809-4e85-a2a6-7a81c65ce48d",
   "metadata": {},
   "source": [
    "# Semi Annual Report"
   ]
  },
  {
   "cell_type": "code",
   "execution_count": null,
   "id": "3c835000-90d8-4369-bfd4-36bf0e9761ba",
   "metadata": {},
   "outputs": [],
   "source": [
    "def summary_SAR_table_two(df):\n",
    "    #pivot\n",
    "    df = df.drop_duplicates().groupby(['Award_Year']).agg({'Project_#':'count','TIRCP_project_sheet':'sum', \n",
    "    'Allocated_Amount':'sum','Expended_Amt_project_sheet':'sum'}).reset_index()\n",
    "    #renaming columns to match report\n",
    "    df = (df.rename(columns = {'Project_#':'Number_of_Awarded_Projects',\n",
    "                               'TIRCP_project_sheet': 'Award_Amount',\n",
    "                               'Allocated_Amount':'Amount_Allocated',\n",
    "                               'Expended_Amt_project_sheet': 'Expended_Amount'})\n",
    "         )\n",
    "    #create percentages\n",
    "    df['Expended_Percent_of_Awarded'] = (df['Expended_Amount']/df['Award_Amount'])\n",
    "    df['Expended_Percent_of_Allocated'] = (df['Expended_Amount']/df['Amount_Allocated'])\n",
    "    df['Percent_Allocated'] = (df['Amount_Allocated']/df['Award_Amount'])\n",
    "    #transpose \n",
    "    df = df.set_index('Award_Year').T\n",
    "    #grand totals for monetary columns\n",
    "    list_to_add = ['Award_Amount','Amount_Allocated','Expended_Amount', 'Number_of_Awarded_Projects']\n",
    "    df['Grand_Total']=df.loc[list_to_add, :].sum(axis=1)\n",
    "    #grand total variables of each monetary column to fill in percentages below.\n",
    "    Exp = df.at['Expended_Amount','Grand_Total']\n",
    "    Alloc = df.at['Amount_Allocated','Grand_Total']\n",
    "    TIRCP = df.at['Award_Amount','Grand_Total']\n",
    "    #filling in totals of percentages\n",
    "    df.at['Expended_Percent_of_Awarded','Grand_Total'] = (Exp/TIRCP)\n",
    "    df.at['Expended_Percent_of_Allocated','Grand_Total'] = (Exp/Alloc)\n",
    "    df.at['Percent_Allocated','Grand_Total'] = (Alloc/TIRCP)\n",
    "    #switching rows to correct order\n",
    "    df = (df.reindex(['Number_of_Awarded_Projects', 'Award_Amount', 'Amount_Allocated',\n",
    "                     'Percent_Allocated','Expended_Amount', 'Expended_Percent_of_Awarded', 'Expended_Percent_of_Allocated'])\n",
    "    )\n",
    "    return df "
   ]
  },
  {
   "cell_type": "code",
   "execution_count": null,
   "id": "f4304a03-cd4a-47d3-8366-5609584fc1a6",
   "metadata": {},
   "outputs": [],
   "source": [
    "summary_SAR_table_two(project_test)"
   ]
  },
  {
   "cell_type": "code",
   "execution_count": null,
   "id": "bd649ffd-ef77-4ff5-89f5-c2823805a0de",
   "metadata": {},
   "outputs": [],
   "source": [
    "project_test.shape\n",
    "project_test.isna().sum()"
   ]
  },
  {
   "cell_type": "code",
   "execution_count": null,
   "id": "163956dd-c9d2-4e25-9d32-64ee80e81e1f",
   "metadata": {},
   "outputs": [],
   "source": [
    "allocation_test.shape"
   ]
  },
  {
   "cell_type": "markdown",
   "id": "71462f19-6943-4a50-ba43-b75b9ef8ee8d",
   "metadata": {},
   "source": [
    "### Need to fix this ###"
   ]
  },
  {
   "cell_type": "code",
   "execution_count": null,
   "id": "3af39441-b94d-4444-be66-f2f6e9150576",
   "metadata": {},
   "outputs": [],
   "source": [
    "#INPUT IN\n",
    "def semi_annual_report():\n",
    "    ### Load in sheets ### \n",
    "    df_project = TIRCP_functions.project()\n",
    "    df_allocation = TIRCP_functions.allocation()\n",
    "    #Only keeping certain columns\n",
    "    df_project = df_project[['Project_Manager','Award_Year', 'Project_#','Project_Title','PPNO',\n",
    "                             'TIRCP_project_sheet','Expended_Amt_project_sheet','Allocated_Amount']]\n",
    "    df_allocation = df_allocation[['Expended_Amt_Allocation_Sheet','Allocation_Amt_Allocation_Sheet','Award_Year','Award_Recipient', 'Implementing_Agency','PPNO',\n",
    "                                'Phase', 'LED','Allocation_Date','Completion_Date','Third_Party_Award_Date','Components']]\n",
    "    \n",
    "    ###Summary ###\n",
    "    summary_table_2 = summary_SAR_table_two(df_project) \n",
    "    ### Join ###\n",
    "    df_sar = df_allocation.merge(df_project, how = \"left\", on = [\"PPNO\", \"Award_Year\"])\n",
    "    #drop duplicates\n",
    "    df_sar = df_sar.drop_duplicates() \n",
    "    \n",
    "    ### Add % ###\n",
    "    df_sar = df_sar.assign(\n",
    "    Percent_of_Allocation_Expended = (df_sar['Expended_Amt_Allocation_Sheet']/df_sar['Allocation_Amt_Allocation_Sheet']),\n",
    "    Percent_of_Award_Fully_Allocated = (df_sar['Allocated_Amount']/df_sar['TIRCP_project_sheet'])\n",
    "    )\n",
    "    \n",
    "    ### Clean up % cols ### \n",
    "    cols = ['Expended_Amt_Allocation_Sheet','Allocation_Amt_Allocation_Sheet','TIRCP_project_sheet','Expended_Amt_project_sheet','Percent_of_Allocation_Expended', 'Percent_of_Award_Fully_Allocated']\n",
    "    df_sar[cols] = df_sar[cols].apply(pd.to_numeric, errors='coerce').fillna(0)\n",
    "    #rename cols \n",
    "    df_sar = df_sar.rename(columns = {'LED': 'Phase_Completion_Date', 'TIRCP_project_sheet': 'TIRCP_Award_Amount','Third_Party_Award_Date':'CON_Contract_Award_Date'})\n",
    "    \n",
    "    ### Clean Up Dates ### \n",
    "    #fill in missing dates with a fake one\n",
    "    missing_date = pd.to_datetime('2100-01-01')\n",
    "    dates = [\"Allocation_Date\", \"CON_Contract_Award_Date\", \"Completion_Date\", \"Phase_Completion_Date\"]\n",
    "    for i in dates:\n",
    "        df_sar[i] = df_sar[i].fillna(missing_date)\n",
    "    #force to date time\n",
    "    df_sar[dates] = df_sar[dates].apply(pd.to_datetime)\n",
    "    \n",
    "    #if the allocation date is AFTER  7-31-2020 then 0, if BEFORE 7-31-2020 then 1\n",
    "    df_sar = df_sar.assign(Allocated_Before_July_31_2020 = df_sar.apply(lambda x: ' ' if x.Allocation_Date > pd.Timestamp(2020, 7, 31, 0) else 'X', axis=1))\n",
    "    \n",
    "    ### Pivot ### \n",
    "    df_pivot = df_sar.groupby(['Award_Year','Project_#','Award_Recipient','Project_Title','Project_Manager','TIRCP_Award_Amount','Percent_of_Award_Fully_Allocated','Components','PPNO','Phase',\"Allocation_Date\", \n",
    "     \"CON_Contract_Award_Date\", \"Completion_Date\", \"Phase_Completion_Date\", ]).agg({'Allocation_Amt_Allocation_Sheet': 'sum', \n",
    "    'Expended_Amt_Allocation_Sheet':'sum',\n",
    "    'Percent_of_Allocation_Expended':'max',                                                                                                               \n",
    "    'Allocated_Before_July_31_2020':'max',\n",
    "    })\n",
    "    \n",
    "    ### GCS ###\n",
    "    with pd.ExcelWriter(\"gs://calitp-analytics-data/data-analyses/tircp/FUNCTION_TEST_TIRCP_SAR.xlsx\") as writer:\n",
    "        summary_table_2.to_excel(writer, sheet_name=\"Summary\", index=True)\n",
    "        df_pivot.to_excel(writer, sheet_name=\"FY\", index=True)\n",
    "    return df_pivot"
   ]
  },
  {
   "cell_type": "code",
   "execution_count": null,
   "id": "caedb038-7c75-48fc-8ccb-dac5a7f7f2af",
   "metadata": {},
   "outputs": [],
   "source": [
    "test_sar = semi_annual_report()"
   ]
  },
  {
   "cell_type": "code",
   "execution_count": null,
   "id": "80b5131c-e8b7-4001-b662-0a65ce831d27",
   "metadata": {
    "scrolled": true,
    "tags": []
   },
   "outputs": [],
   "source": [
    "test_sar.tail(10)"
   ]
  },
  {
   "cell_type": "code",
   "execution_count": null,
   "id": "24f0e714-c852-423a-a908-a50fa7da52d9",
   "metadata": {},
   "outputs": [],
   "source": [
    "test_sar.isna().sum()"
   ]
  },
  {
   "cell_type": "markdown",
   "id": "085c1eac-990a-4ccf-bb08-9e8181289712",
   "metadata": {},
   "source": [
    "# Sheet for Tableau"
   ]
  },
  {
   "cell_type": "code",
   "execution_count": null,
   "id": "7c7d8afc-c747-4aea-923f-53827c3767f1",
   "metadata": {},
   "outputs": [],
   "source": [
    "# Categorize years and expended_percent_group into bins\n",
    "def progress(df):   \n",
    "    if (df['Award_Year'] == 2015) and (df['Expended_Percent_Group'] == \"1-50\"):\n",
    "        return 'Behind'\n",
    "    elif (df['Award_Year'] == 2015) and (df['Expended_Percent_Group'] == \"51-70\"):\n",
    "        return 'On Track'\n",
    "    elif (df['Award_Year'] == 2015) and (df['Expended_Percent_Group'] == \"71-100\"):\n",
    "        return 'On Track'\n",
    "    elif (df['Award_Year'] == 2016) and (df['Expended_Percent_Group'] == \"1-50\"):\n",
    "        return 'Behind'\n",
    "    elif (df['Award_Year'] == 2016) and (df['Expended_Percent_Group'] == \"71-100\"):\n",
    "        return 'On Track'\n",
    "    elif (df['Award_Year'] == 2016) and (df['Expended_Percent_Group'] == \"51-70\"):\n",
    "        return 'On Track'\n",
    "    elif (df['Award_Year'] == 2018) and (df['Expended_Percent_Group'] == \"1-50\"):\n",
    "        return 'On Track'\n",
    "    elif (df['Award_Year'] == 2018) and (df['Expended_Percent_Group'] == \"51-70\"):\n",
    "        return 'Ahead'\n",
    "    elif (df['Award_Year'] == 2018) and (df['Expended_Percent_Group'] == \"71-100\"):\n",
    "        return 'Ahead'\n",
    "    elif (df['Award_Year'] == 2020) and (df['Expended_Percent_Group'] == \"1-50\"):\n",
    "        return 'On Track'\n",
    "    elif (df['Award_Year'] == 2020) and (df['Expended_Percent_Group'] == \"51-70\"):\n",
    "        return 'Ahead'\n",
    "    elif (df['Award_Year'] == 2020) and (df['Expended_Percent_Group'] == \"71-100\"):\n",
    "        return 'Ahead'\n",
    "    else: \n",
    "        return \"No Expenditures\""
   ]
  },
  {
   "cell_type": "code",
   "execution_count": null,
   "id": "963621aa-e13b-40df-9b4b-5dcd6976362c",
   "metadata": {},
   "outputs": [],
   "source": [
    "#Categorize Expended Percent into bins\n",
    "def expended_percent(row):\n",
    "            if row.Expended_Percent == 0:\n",
    "                return \"No expenditure recorded\"\n",
    "            elif ((row.Expended_Percent > 0) and (row.Expended_Percent < .50)):\n",
    "                return \"1-50\"\n",
    "            elif row.Expended_Percent < 0.71:\n",
    "                return \"51-70\"\n",
    "            else:\n",
    "                return \"71-100\""
   ]
  },
  {
   "cell_type": "code",
   "execution_count": null,
   "id": "a3a633d6-e736-453a-86d5-51b882d25dc3",
   "metadata": {},
   "outputs": [],
   "source": [
    "project_test.columns"
   ]
  },
  {
   "cell_type": "code",
   "execution_count": null,
   "id": "5593ad99-d8ff-4aa5-8f32-6f350168d7af",
   "metadata": {},
   "outputs": [],
   "source": [
    "\n",
    "#Script for the projects sheet that I inputted into Tableau\n",
    "def tableau():\n",
    "    #Keeping only the columns we want\n",
    "    df = TIRCP_functions.project()\n",
    "    df = df[['Award_Year', 'Project_#','Local_Agency','Project_Title','PPNO',\n",
    "    'Key_Project_Elements','TIRCP_project_sheet','Allocated_Amount',\n",
    "     'Expended_Amt_project_sheet']]\n",
    "    \n",
    "    #Getting percentages & filling in with 0\n",
    "    df['Expended_Percent'] = df['Expended_Amt_project_sheet']/df['Allocated_Amount']\n",
    "    df['Allocated_Percent'] = df['Allocated_Amount']/df['TIRCP_project_sheet']\n",
    "    df[['Expended_Percent','Allocated_Percent']] = df[['Expended_Percent','Allocated_Percent']].fillna(value=0)\n",
    "    \n",
    "    #Categorizing expended percentage into bins\n",
    "    df[\"Expended_Percent_Group\"] = df.apply(lambda x: expended_percent(x), axis=1)\n",
    "    \n",
    "    # Categorize years and expended_percent_group into bins\n",
    "    df['Progress'] = df.apply(progress, axis = 1)\n",
    "    \n",
    "    ### GCS ###\n",
    "    df.to_csv(\"gs://calitp-analytics-data/data-analyses/tircp/df_tableau_sheet.csv\", index = False)\n",
    "    return df "
   ]
  },
  {
   "cell_type": "code",
   "execution_count": null,
   "id": "abd61c05-3a0e-4fcf-a70a-37020d81bb5d",
   "metadata": {},
   "outputs": [],
   "source": [
    "\n",
    "tableau_test = tableau()\n"
   ]
  },
  {
   "cell_type": "code",
   "execution_count": null,
   "id": "761bffa7-c195-4b1b-b4b2-b5c6c472dff6",
   "metadata": {},
   "outputs": [],
   "source": [
    "type(tableau_test)"
   ]
  },
  {
   "cell_type": "code",
   "execution_count": null,
   "id": "fe2934e0-9852-4170-8429-4a141fb7253d",
   "metadata": {
    "scrolled": true,
    "tags": []
   },
   "outputs": [],
   "source": [
    "tableau_test.PPNO.unique()"
   ]
  },
  {
   "cell_type": "code",
   "execution_count": null,
   "id": "f8d32ab9-c758-4c5d-96ba-63081ef88048",
   "metadata": {},
   "outputs": [],
   "source": [
    "project_test.isna().sum()"
   ]
  },
  {
   "cell_type": "code",
   "execution_count": null,
   "id": "24bcefd6-b2ec-439c-85de-33fc621db7d5",
   "metadata": {},
   "outputs": [],
   "source": []
  }
 ],
 "metadata": {
  "kernelspec": {
   "display_name": "Python 3 (ipykernel)",
   "language": "python",
   "name": "python3"
  },
  "language_info": {
   "codemirror_mode": {
    "name": "ipython",
    "version": 3
   },
   "file_extension": ".py",
   "mimetype": "text/x-python",
   "name": "python",
   "nbconvert_exporter": "python",
   "pygments_lexer": "ipython3",
   "version": "3.9.7"
  }
 },
 "nbformat": 4,
 "nbformat_minor": 5
}
