{
 "cells": [
  {
   "cell_type": "markdown",
   "id": "8fa13b1e-0b92-4f67-a5e8-762f135c4db9",
   "metadata": {},
   "source": [
    "# TIRCP Program Allocation Plan\n",
    "----\n"
   ]
  },
  {
   "cell_type": "code",
   "execution_count": null,
   "id": "dfcd28c5-7dc7-4f3e-8731-b48ebaeb2224",
   "metadata": {},
   "outputs": [],
   "source": [
    "import pandas as pd\n",
    "import math\n",
    "from siuba import * \n",
    "import numpy as np\n",
    "pd.options.display.max_columns = 50\n",
    "pd.options.display.float_format = \"{:.2f}\".format\n",
    "import datetime"
   ]
  },
  {
   "cell_type": "code",
   "execution_count": null,
   "id": "cb7c32f6-fe89-485d-b67f-3f956df6a8f5",
   "metadata": {},
   "outputs": [],
   "source": [
    "GCS_FILE_PATH = \"gs://calitp-analytics-data/data-analyses/tircp/\"\n",
    "FILE_NAME1 = \"Raw_Project_Tracking_Sheet.xlsx\"\n",
    "project = pd.read_excel(f\"{GCS_FILE_PATH}{FILE_NAME1}\")\n",
    "FILE_NAME2 = \"Allocation_Agreement.xlsx\"\n",
    "allocation = pd.read_excel(f\"{GCS_FILE_PATH}{FILE_NAME2}\")"
   ]
  },
  {
   "cell_type": "code",
   "execution_count": null,
   "id": "15f101e3-f943-4873-945a-4772c985d8a6",
   "metadata": {},
   "outputs": [],
   "source": [
    "#cleaning up spaces in columns\n",
    "project.columns = project.columns.str.strip().str.replace(' ', '_')\n",
    "allocation.columns = allocation.columns.str.strip().str.replace(' ', '_')"
   ]
  },
  {
   "cell_type": "code",
   "execution_count": null,
   "id": "ce1ec6d0-17e6-447b-bd67-53e258af96c1",
   "metadata": {},
   "outputs": [],
   "source": [
    "#strip spaces in columns\n",
    "project.columns = project.columns.map(lambda x: x.strip())\n",
    "allocation.columns = allocation.columns.map(lambda x: x.strip())"
   ]
  },
  {
   "cell_type": "markdown",
   "id": "0e2e35e4-d83c-4806-a4f4-3eb68385c122",
   "metadata": {},
   "source": [
    "## Keeping only relevant columns."
   ]
  },
  {
   "cell_type": "code",
   "execution_count": null,
   "id": "92614cfc-248c-4ce2-b61a-3ffeab9966f0",
   "metadata": {},
   "outputs": [],
   "source": [
    "#subsetting for only columns of interest\n",
    "df_project = project[['Award_Year', 'Project_#','Unallocated_Amount','Local_Agency','Project_Title','PPNO',\n",
    "'TIRCP_Award_Amount_($)',]]"
   ]
  },
  {
   "cell_type": "code",
   "execution_count": null,
   "id": "44afcac4-b07b-4503-be0c-a02d8dd1ebb0",
   "metadata": {},
   "outputs": [],
   "source": [
    "#subsetting for only columns of interest\n",
    "df_allocation = allocation[['Award_Year','Award_Recipient', 'Implementing_Agency',\n",
    "'Components', 'PPNO','Phase','Prior_Fiscal_Years_to_2020',\n",
    "'Fiscal_Year_2020-2021', 'Fiscal_Year_2021-2022',\n",
    "'Fiscal_Year_2022-2023', 'Fiscal_Year_2023-2024',\n",
    " 'Fiscal_Year_2024-2025', 'Fiscal_Year_2025-2026',\n",
    "'Fiscal_Year_2026-2027', 'Fiscal_Year_2027-2028',\n",
    "'Fiscal_Year_2028-2029', 'Fiscal_Year_2029-2030','CTC_Financial_Resolution',\n",
    "'Allocation_Date','Project_ID','SB1_Funding','GGRF_Funding','Allocation_Amount']]"
   ]
  },
  {
   "cell_type": "markdown",
   "id": "44c82d85-8f34-4185-89a1-8d417802b19e",
   "metadata": {
    "tags": []
   },
   "source": [
    "# Cleaning Allocation Sheet "
   ]
  },
  {
   "cell_type": "code",
   "execution_count": null,
   "id": "7888529f-bcaa-4508-a86f-476200fd06fb",
   "metadata": {},
   "outputs": [],
   "source": [
    "#Filtering out for 2021, since that entry is blank\n",
    "df_allocation = df_allocation.query(\"Award_Year != 2021\")"
   ]
  },
  {
   "cell_type": "code",
   "execution_count": null,
   "id": "d60077c9-8586-4ef6-9996-838beaa0b8a8",
   "metadata": {},
   "outputs": [],
   "source": [
    "#clean up columns in a loop\n",
    "for i in [\"Allocation_Date\"]:\n",
    "    df_allocation[i] = df_allocation[i].replace('/', '-', regex = True).replace('Complete', '', regex = True).replace('\\n', '', regex=True).replace('Pending','TBD',regex= True).fillna('TBD')"
   ]
  },
  {
   "cell_type": "markdown",
   "id": "1790f0df-98d7-424c-83f6-ec88693f41b4",
   "metadata": {},
   "source": [
    "## Clean up Dates"
   ]
  },
  {
   "cell_type": "markdown",
   "id": "e2c25dc0-3ae2-4c08-a366-5e3729f8f718",
   "metadata": {},
   "source": [
    "#changing some of the dates\n",
    "df_allocation[\"Allocation_Date\"].replace({'October 15, 2018\\nSeptember 30, 2021': '2018-10-15 00:00:00',\n",
    "'2/1/2021\\n\\n10/31/2022':'2021-02-01 00:00:00', '45211':'2023-10-22', \"FY 26/27\": \"2026-12-31\", \"08/12//20\": '2020-08-12 00:00:00', 'FY 21/22': '2021-12-31',\n",
    "'FY 22/23': '2022-12-31','FY 20/21': '2020-12-31', 'FY 23/24': '2023-12-31','FY 24/25': '2024-12-31','FY 25/26': '2025-12-31'}, inplace =True)"
   ]
  },
  {
   "cell_type": "markdown",
   "id": "8e1b129d-e9b2-43b2-a87d-6233e1a396cd",
   "metadata": {},
   "source": [
    "## Cleaning up PPNO, can only be 5 characters."
   ]
  },
  {
   "cell_type": "code",
   "execution_count": null,
   "id": "678acd92-65da-4b13-a252-4b84129e9be2",
   "metadata": {},
   "outputs": [],
   "source": [
    "#remove the extra characters in PPNO in allocation to match the PPNO in project data frame bc there should only be five characters and numbers in each PPNO value\n",
    "df_allocation = df_allocation.assign(\n",
    "    PPNO_New = df_allocation['PPNO'].str.slice(start=0, stop=5)\n",
    ")"
   ]
  },
  {
   "cell_type": "code",
   "execution_count": null,
   "id": "06c167cc-3504-4e30-9123-7c5d72c520f2",
   "metadata": {},
   "outputs": [],
   "source": [
    "#CSV with PPNO & Award Recipients\n",
    "FILE_NAME2 = \"Allocation_PPNO_Crosswalk.csv\"\n",
    "allocation_ppno = pd.read_csv(f\"{GCS_FILE_PATH}{FILE_NAME2}\")"
   ]
  },
  {
   "cell_type": "code",
   "execution_count": null,
   "id": "2c625ee1-3459-4b53-8946-781ee2b68556",
   "metadata": {},
   "outputs": [],
   "source": [
    "allocation_ppno #printing to make sure it makes sense."
   ]
  },
  {
   "cell_type": "code",
   "execution_count": null,
   "id": "be528f91-11a4-40e8-bc76-023e841453ad",
   "metadata": {},
   "outputs": [],
   "source": [
    "#Merge in Crosswalk \n",
    "df_allocation = pd.merge(df_allocation, allocation_ppno, on = [\"Award_Year\", \"Award_Recipient\"], how = \"left\")"
   ]
  },
  {
   "cell_type": "code",
   "execution_count": null,
   "id": "033c09ef-48d4-4963-9a72-b08d1bf25b8a",
   "metadata": {},
   "outputs": [],
   "source": [
    "#some values in PPNO and PPNO_New2 are strings, some are floats...so have to convert PPNO New 2 to strings\n",
    "df_allocation.PPNO_New = df_allocation.apply(lambda x: x.PPNO_New if (str(x.PPNO_New2) == 'nan') else x.PPNO_New2, axis=1)"
   ]
  },
  {
   "cell_type": "code",
   "execution_count": null,
   "id": "224eb1b7-05ee-495b-ab1d-2c2fc17a98b7",
   "metadata": {
    "scrolled": true,
    "tags": []
   },
   "outputs": [],
   "source": [
    "#drop old column\n",
    "df_allocation = df_allocation.drop(['PPNO','PPNO_New2'], axis=1)"
   ]
  },
  {
   "cell_type": "code",
   "execution_count": null,
   "id": "93c18b8a-8b87-4941-bf07-7575d8e8b9de",
   "metadata": {},
   "outputs": [],
   "source": [
    "## Clean up TIRCP\n",
    "df_allocation[['SB1_Funding','GGRF_Funding','Allocation_Amount']] = df_allocation[['SB1_Funding','GGRF_Funding','Allocation_Amount']].fillna(value=0)"
   ]
  },
  {
   "cell_type": "markdown",
   "id": "9f323787-b691-45cb-b95e-58329f644480",
   "metadata": {},
   "source": [
    "# Cleaning Project Sheet\n",
    "\n"
   ]
  },
  {
   "cell_type": "code",
   "execution_count": null,
   "id": "6fab96c2-6003-4d59-abb3-b41b6861c335",
   "metadata": {},
   "outputs": [],
   "source": [
    "df_project.head(2)"
   ]
  },
  {
   "cell_type": "markdown",
   "id": "970b5f71-401e-42dd-a7a5-e3d2cc657382",
   "metadata": {},
   "source": [
    "## Filling NA for TIRCP and Expended Amounts"
   ]
  },
  {
   "cell_type": "code",
   "execution_count": null,
   "id": "687150e8-15f8-4624-978a-f9f3a4a250de",
   "metadata": {},
   "outputs": [],
   "source": [
    "df_project[['TIRCP_Award_Amount_($)', 'Unallocated_Amount']] = df_project[['TIRCP_Award_Amount_($)', 'Unallocated_Amount']].fillna(value=0)"
   ]
  },
  {
   "cell_type": "markdown",
   "id": "e238629d-6831-42d1-8add-c3e10555ed30",
   "metadata": {
    "tags": []
   },
   "source": [
    "## Cleaning up PPNO Numbers based on Allocation Sheet"
   ]
  },
  {
   "cell_type": "code",
   "execution_count": null,
   "id": "40ce6a99-7803-4afb-b1f1-98c0a055f85a",
   "metadata": {},
   "outputs": [],
   "source": [
    "#slicing PPNO to be 5 characters\n",
    "df_project = df_project.assign(PPNO_New = df_project['PPNO'].str.slice(start=0, stop=5)) "
   ]
  },
  {
   "cell_type": "code",
   "execution_count": null,
   "id": "2346df5d-4202-443f-a8a6-ab1549f76137",
   "metadata": {},
   "outputs": [],
   "source": [
    "#importing Excel crosswalk sheet\n",
    "FILE_NAME3 = \"Projects_PPNO.xlsx\"\n",
    "project_ppno = pd.read_excel(f\"{GCS_FILE_PATH}{FILE_NAME3}\")"
   ]
  },
  {
   "cell_type": "code",
   "execution_count": null,
   "id": "e36ba00e-ec8a-4aa5-94ac-9dd81723cfbb",
   "metadata": {},
   "outputs": [],
   "source": [
    "#Merge in Crosswalk \n",
    "df_project2 = pd.merge(df_project, project_ppno, on = [\"Award_Year\", \"Local_Agency\"], how = \"left\")"
   ]
  },
  {
   "cell_type": "code",
   "execution_count": null,
   "id": "c8397382-0f28-4c00-b0ad-3e6451794601",
   "metadata": {},
   "outputs": [],
   "source": [
    "#some values in PPNO and PPNO_New2 are strings, some are floats...so have to convert PPNO New 2 to strings\n",
    "df_project2.PPNO_New = df_project2.apply(lambda x: x.PPNO_New if (str(x.PPNO_New2) == 'nan') else x.PPNO_New2, axis=1)"
   ]
  },
  {
   "cell_type": "code",
   "execution_count": null,
   "id": "511ebeb5-7850-4824-8711-1b5e9b16dbff",
   "metadata": {},
   "outputs": [],
   "source": [
    "#making sure PPNO_New is a string \n",
    "df_project2 = df_project2.astype({'PPNO_New': 'str'})"
   ]
  },
  {
   "cell_type": "code",
   "execution_count": null,
   "id": "e15b679e-ad35-439f-bcd0-12aff1592c98",
   "metadata": {
    "scrolled": true,
    "tags": []
   },
   "outputs": [],
   "source": [
    "PPNO_project = set(df_project2.PPNO_New.unique().tolist())\n",
    "PPNO_allocation = set(df_allocation.PPNO_New.unique().tolist())"
   ]
  },
  {
   "cell_type": "code",
   "execution_count": null,
   "id": "d9c6c1a5-afd3-405f-b28e-2e1eda7dd1f0",
   "metadata": {
    "scrolled": true,
    "tags": []
   },
   "outputs": [],
   "source": [
    "#checking for differences - none. yay. \n",
    "PPNO_project - PPNO_allocation"
   ]
  },
  {
   "cell_type": "code",
   "execution_count": null,
   "id": "4dc3386d-5cb3-43cf-b69e-f6442b66b90c",
   "metadata": {},
   "outputs": [],
   "source": [
    "#drop old column\n",
    "df_project2 = df_project2.drop(['PPNO', 'PPNO_New2'], axis=1)"
   ]
  },
  {
   "cell_type": "markdown",
   "id": "b22cfcbd-8792-428f-8a2c-4637765f89be",
   "metadata": {},
   "source": [
    "# Merging Project & Allocations"
   ]
  },
  {
   "cell_type": "code",
   "execution_count": null,
   "id": "a02e2cbd-779b-4d17-822d-40d63678b105",
   "metadata": {},
   "outputs": [],
   "source": [
    "#merge on left for projects.\n",
    "df_combined = df_allocation.merge(df_project2, how = \"left\", on = [\"PPNO_New\", \"Award_Year\"])"
   ]
  },
  {
   "cell_type": "code",
   "execution_count": null,
   "id": "ab98fccf-c3c1-43e4-a845-8ae8b5d00680",
   "metadata": {},
   "outputs": [],
   "source": [
    "df_combined.shape"
   ]
  },
  {
   "cell_type": "code",
   "execution_count": null,
   "id": "de8c8c16-39de-43cc-81e7-0ef829a91c75",
   "metadata": {
    "tags": []
   },
   "outputs": [],
   "source": [
    "df_combined.isna().sum()"
   ]
  },
  {
   "cell_type": "markdown",
   "id": "58126c15-b10a-4f6d-9709-2f54fd872d6a",
   "metadata": {},
   "source": [
    "### Filing in NA Project ID values & CTC Financial Resolution with TBD. Create new column to rep Award No"
   ]
  },
  {
   "cell_type": "code",
   "execution_count": null,
   "id": "9ea7b8da-7675-4c74-9893-7066015dc43e",
   "metadata": {},
   "outputs": [],
   "source": [
    "df_combined[['Project_ID','CTC_Financial_Resolution']] = df_combined[['Project_ID','CTC_Financial_Resolution']].fillna(value = 'TBD')"
   ]
  },
  {
   "cell_type": "code",
   "execution_count": null,
   "id": "ed5d3fa7-a165-4c02-b44d-733b0fdf12ad",
   "metadata": {},
   "outputs": [],
   "source": [
    "#missing_date = pd.to_datetime('2100-01-01')\n",
    "#df_combined['Allocation_Date'] = df_combined['Allocation_Date'].fillna(missing_date)"
   ]
  },
  {
   "cell_type": "code",
   "execution_count": null,
   "id": "845bea5f-b7be-44f6-adf3-a3b7f5477a62",
   "metadata": {},
   "outputs": [],
   "source": [
    "#Create a new column that combines award year with project number\n",
    "df_combined['Award_No'] = df_combined[\"Award_Year\"].astype(str) + \"-\" + df_combined[\"Project_#\"].astype(str)"
   ]
  },
  {
   "cell_type": "code",
   "execution_count": null,
   "id": "13cda3ea-ab91-417c-8288-eca6f5e0caee",
   "metadata": {
    "scrolled": true,
    "tags": []
   },
   "outputs": [],
   "source": [
    "df_combined.dtypes"
   ]
  },
  {
   "cell_type": "code",
   "execution_count": null,
   "id": "81cba3a6-1758-40af-96b5-cd2dc4b063b8",
   "metadata": {},
   "outputs": [],
   "source": [
    "df_combined = df_combined.rename(columns = {'Allocation_Amount':'Total_Amount','SB1_Funding':'PTA-SB1_Amount','Components':'Separable_Phases/Components','CTC_Financial_Resolution':'Allocation_Resolution'})"
   ]
  },
  {
   "cell_type": "markdown",
   "id": "63702660-1d4c-410b-a1ca-48db02e037ab",
   "metadata": {},
   "source": [
    "# Breakout each year in own dataframe"
   ]
  },
  {
   "cell_type": "code",
   "execution_count": null,
   "id": "cba41efd-6c2f-4d93-8dbf-1b16f5ea9357",
   "metadata": {},
   "outputs": [],
   "source": [
    "#filtering out for year\n",
    "df_2015 = df_combined.loc[df_combined['Award_Year'] == 2015]\n",
    "df_2016 = df_combined.loc[df_combined['Award_Year'] == 2016]\n",
    "df_2018 = df_combined.loc[df_combined['Award_Year'] == 2018]\n",
    "df_2020 = df_combined.loc[df_combined['Award_Year'] == 2020]"
   ]
  },
  {
   "cell_type": "code",
   "execution_count": null,
   "id": "acdb2373-a62f-43fb-b598-013e623ad524",
   "metadata": {
    "scrolled": true,
    "tags": []
   },
   "outputs": [],
   "source": [
    "df2020.loc['Grand_total'] = (df_2020.sum(numeric_only=True))"
   ]
  },
  {
   "cell_type": "code",
   "execution_count": null,
   "id": "18a44afb-a6bd-4484-8c97-9aaa3358f338",
   "metadata": {
    "scrolled": true,
    "tags": []
   },
   "outputs": [],
   "source": [
    "df2020"
   ]
  },
  {
   "cell_type": "markdown",
   "id": "afab9656-5230-40ce-9869-b7fb12ad017d",
   "metadata": {},
   "source": [
    "# Mimic sheet\n"
   ]
  },
  {
   "cell_type": "code",
   "execution_count": null,
   "id": "ce82ca77-4cc4-4f2b-b02f-2c8db3363218",
   "metadata": {},
   "outputs": [],
   "source": [
    "def pivot(df):\n",
    "    df = df.groupby(['Project_#','Award_No','TIRCP_Award_Amount_($)','Unallocated_Amount','Award_Recipient','Implementing_Agency',\n",
    "    'Project_Title','PPNO_New', 'Separable_Phases/Components','Phase','Project_ID','Allocation_Resolution','Allocation_Date']).agg({\n",
    "    'Prior_Fiscal_Years_to_2020': 'max', 'Fiscal_Year_2020-2021': 'max',\n",
    "    'Fiscal_Year_2021-2022': 'max', 'Fiscal_Year_2022-2023': 'max',\n",
    "    'Fiscal_Year_2023-2024': 'max', 'Fiscal_Year_2024-2025': 'max',\n",
    "    'Fiscal_Year_2025-2026': 'max', 'Fiscal_Year_2026-2027': 'max',\n",
    "    'Fiscal_Year_2027-2028': 'max', 'Fiscal_Year_2028-2029': 'max',\n",
    "    'Fiscal_Year_2029-2030': 'max', 'PTA-SB1_Amount': 'sum', 'GGRF_Funding':'sum', 'Total_Amount':'sum'})\n",
    "    return df "
   ]
  },
  {
   "cell_type": "code",
   "execution_count": null,
   "id": "6b55d9a2-b32d-4afc-a09f-39e0fc1281a3",
   "metadata": {
    "scrolled": true,
    "tags": []
   },
   "outputs": [],
   "source": [
    "agg_df_2015 = pivot(df_2015)\n",
    "agg_df_2016 = pivot(df_2016)\n",
    "agg_df_2018 = pivot(df_2018)\n",
    "agg_df_2020 = pivot(df_2020)"
   ]
  },
  {
   "cell_type": "markdown",
   "id": "29645f4e-a3bc-4d02-8f86-635a25bfe929",
   "metadata": {
    "tags": []
   },
   "source": [
    "# Export into Excel"
   ]
  },
  {
   "cell_type": "code",
   "execution_count": null,
   "id": "c4c3c8b8-d8e9-46aa-a4e6-966bcdc0a6a3",
   "metadata": {},
   "outputs": [],
   "source": [
    "with pd.ExcelWriter(\"gs://calitp-analytics-data/data-analyses/tircp/TIRCP_PAP_2022.xlsx\") as writer:\n",
    "    agg_df_2015.to_excel(writer, sheet_name=\"2015 Cycle 1\", index=True)\n",
    "    agg_df_2016.to_excel(writer, sheet_name=\"2016 Cycle 2\", index=True)\n",
    "    agg_df_2018.to_excel(writer, sheet_name=\"2018 Cycle 3\", index=True)\n",
    "    agg_df_2020.to_excel(writer, sheet_name=\"2020 Cycle 4\", index=True)"
   ]
  }
 ],
 "metadata": {
  "kernelspec": {
   "display_name": "Python 3 (ipykernel)",
   "language": "python",
   "name": "python3"
  },
  "language_info": {
   "codemirror_mode": {
    "name": "ipython",
    "version": 3
   },
   "file_extension": ".py",
   "mimetype": "text/x-python",
   "name": "python",
   "nbconvert_exporter": "python",
   "pygments_lexer": "ipython3",
   "version": "3.9.7"
  },
  "toc-autonumbering": false,
  "toc-showmarkdowntxt": false,
  "toc-showtags": false
 },
 "nbformat": 4,
 "nbformat_minor": 5
}
