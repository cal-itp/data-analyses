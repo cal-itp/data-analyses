{
 "cells": [
  {
   "cell_type": "markdown",
   "id": "8fa13b1e-0b92-4f67-a5e8-762f135c4db9",
   "metadata": {},
   "source": [
    "# TIRCP SAR Report\n",
    "----\n"
   ]
  },
  {
   "cell_type": "code",
   "execution_count": null,
   "id": "dfcd28c5-7dc7-4f3e-8731-b48ebaeb2224",
   "metadata": {},
   "outputs": [],
   "source": [
    "import pandas as pd\n",
    "import math\n",
    "from siuba import * \n",
    "import numpy as np\n",
    "pd.options.display.max_columns = 50\n",
    "pd.options.display.float_format = \"{:.2f}\".format\n",
    "import datetime"
   ]
  },
  {
   "cell_type": "code",
   "execution_count": null,
   "id": "cb7c32f6-fe89-485d-b67f-3f956df6a8f5",
   "metadata": {},
   "outputs": [],
   "source": [
    "GCS_FILE_PATH = \"gs://calitp-analytics-data/data-analyses/tircp/\"\n",
    "FILE_NAME1 = \"Raw_Project_Tracking_Sheet.xlsx\"\n",
    "project = pd.read_excel(f\"{GCS_FILE_PATH}{FILE_NAME1}\")\n",
    "FILE_NAME2 = \"Allocation_Agreement.xlsx\"\n",
    "allocation = pd.read_excel(f\"{GCS_FILE_PATH}{FILE_NAME2}\")"
   ]
  },
  {
   "cell_type": "code",
   "execution_count": null,
   "id": "15f101e3-f943-4873-945a-4772c985d8a6",
   "metadata": {},
   "outputs": [],
   "source": [
    "#cleaning up spaces in columns\n",
    "project.columns = project.columns.str.strip().str.replace(' ', '_')\n",
    "allocation.columns = allocation.columns.str.strip().str.replace(' ', '_')"
   ]
  },
  {
   "cell_type": "code",
   "execution_count": null,
   "id": "ce1ec6d0-17e6-447b-bd67-53e258af96c1",
   "metadata": {},
   "outputs": [],
   "source": [
    "#strip spaces in columns\n",
    "project.columns = project.columns.map(lambda x: x.strip())\n",
    "allocation.columns = allocation.columns.map(lambda x: x.strip())"
   ]
  },
  {
   "cell_type": "markdown",
   "id": "0e2e35e4-d83c-4806-a4f4-3eb68385c122",
   "metadata": {},
   "source": [
    "## Keeping only relevant columns."
   ]
  },
  {
   "cell_type": "code",
   "execution_count": null,
   "id": "c34383a0-0371-4a7c-ab9c-2521dbc7f378",
   "metadata": {
    "scrolled": true,
    "tags": []
   },
   "outputs": [],
   "source": [
    "project.columns"
   ]
  },
  {
   "cell_type": "code",
   "execution_count": null,
   "id": "92614cfc-248c-4ce2-b61a-3ffeab9966f0",
   "metadata": {},
   "outputs": [],
   "source": [
    "#subsetting for only columns of interest\n",
    "df_project = project[['Award_Year', 'Project_#','Local_Agency','Project_Title','PPNO',\n",
    "'Key_Project_Elements','TIRCP_Award_Amount_($)','Expended_Amount','Allocated_Amount']]"
   ]
  },
  {
   "cell_type": "code",
   "execution_count": null,
   "id": "b6664383-bec7-48e8-87b0-6e9ae1ca2e0f",
   "metadata": {
    "scrolled": true,
    "tags": []
   },
   "outputs": [],
   "source": [
    "allocation.columns"
   ]
  },
  {
   "cell_type": "code",
   "execution_count": null,
   "id": "44afcac4-b07b-4503-be0c-a02d8dd1ebb0",
   "metadata": {},
   "outputs": [],
   "source": [
    "#subsetting for only columns of interest\n",
    "df_allocation = allocation[['Expended_Amount','Award_Year','Award_Recipient', 'Implementing_Agency', 'Allocation_Amount', 'GGRF_Funding','PPNO','Phase', 'LED','Allocation_Date','Completion_Date','3rd_Party_Award_Date','Components','SB1_Funding']]"
   ]
  },
  {
   "cell_type": "markdown",
   "id": "ed718682-6ca1-40ed-bfb9-75fa03aa5c15",
   "metadata": {},
   "source": [
    "# Make Summary Page\n",
    "### Table 2: Summary of Awards (Cumulative)\n",
    "* Linda stated she only needs table 2.\n",
    "* Linda says she is unsure where to get the completed project row from Highlands tracking sheet. Needs to be discussed among TIRCP team to decide if they will include.\n",
    "* The data from the Highlands project tracking sheet does not match the TIRCP SAR report Linda gave me \n"
   ]
  },
  {
   "cell_type": "code",
   "execution_count": null,
   "id": "27a85688-723b-42ae-b7f4-2004c2ebe46f",
   "metadata": {},
   "outputs": [],
   "source": [
    "#pivot\n",
    "summary = project.drop_duplicates().groupby(['Award_Year']).agg({'Project_#':'count','TIRCP_Award_Amount_($)':'sum', \n",
    " 'Allocated_Amount':'sum','Expended_Amount':'sum'}).reset_index()"
   ]
  },
  {
   "cell_type": "code",
   "execution_count": null,
   "id": "2b5b137c-3001-498d-87d6-7c46b0a45149",
   "metadata": {},
   "outputs": [],
   "source": [
    "#renaming columns to match report\n",
    "summary = summary.rename(columns = {'Project_#':'Number_of_Awarded_Projects','TIRCP_Award_Amount_($)': 'Award_Amount','Allocated_Amount':'Amount_Allocated'})"
   ]
  },
  {
   "cell_type": "code",
   "execution_count": null,
   "id": "e393ce02-b4ec-4f34-b06b-66ebb19db4bb",
   "metadata": {},
   "outputs": [],
   "source": [
    "summary"
   ]
  },
  {
   "cell_type": "markdown",
   "id": "6f82a842-127f-4964-9a6a-1e37ab06d19f",
   "metadata": {},
   "source": [
    "* Can't do this more neatly with \"assign\""
   ]
  },
  {
   "cell_type": "code",
   "execution_count": null,
   "id": "e7a5334b-8207-497f-9dfd-2059aec951c7",
   "metadata": {},
   "outputs": [],
   "source": [
    "#create percentages\n",
    "summary['Expended_Percent_of_Awarded'] = (summary['Expended_Amount']/summary['Award_Amount'])*100\n",
    "summary['Expended_Percent_of_Allocated'] = (summary['Expended_Amount']/summary['Amount_Allocated'])*100\n",
    "summary['Percent_Allocated'] = (summary['Amount_Allocated']/summary['Award_Amount'])*100"
   ]
  },
  {
   "cell_type": "code",
   "execution_count": null,
   "id": "620a42d1-6843-40d8-b6b1-f059221fbbee",
   "metadata": {},
   "outputs": [],
   "source": [
    "#transpose \n",
    "summary_transposed = summary.set_index('Award_Year').T"
   ]
  },
  {
   "cell_type": "code",
   "execution_count": null,
   "id": "f2d0f1f1-0382-42a5-b53c-b2e82fb218aa",
   "metadata": {},
   "outputs": [],
   "source": [
    "#grand totals for monetary columns\n",
    "list_to_add = ['Award_Amount','Amount_Allocated','Expended_Amount', 'Number_of_Awarded_Projects']"
   ]
  },
  {
   "cell_type": "code",
   "execution_count": null,
   "id": "1c3085b3-e3b0-4e23-8d84-de9a978de918",
   "metadata": {},
   "outputs": [],
   "source": [
    "summary_transposed['Grand_Total']=summary_transposed.loc[list_to_add, :].sum(axis=1)"
   ]
  },
  {
   "cell_type": "code",
   "execution_count": null,
   "id": "2dcb47b6-0478-43ce-8a98-65d6ccc5029e",
   "metadata": {},
   "outputs": [],
   "source": [
    "#grand total variables of each monetary column to fill in percentages below.\n",
    "Exp = summary_transposed.at['Expended_Amount','Grand_Total']\n",
    "Alloc = summary_transposed.at['Amount_Allocated','Grand_Total']\n",
    "TIRCP = summary_transposed.at['Award_Amount','Grand_Total']"
   ]
  },
  {
   "cell_type": "code",
   "execution_count": null,
   "id": "042d26c8-e742-4173-b6c7-29532036b266",
   "metadata": {},
   "outputs": [],
   "source": [
    "#filling in totals of percentages\n",
    "summary_transposed.at['Expended_Percent_of_Awarded','Grand_Total'] = (Exp/TIRCP)*100\n",
    "summary_transposed.at['Expended_Percent_of_Allocated','Grand_Total'] = (Exp/Alloc)*100\n",
    "summary_transposed.at['Percent_Allocated','Grand_Total'] = (Alloc/TIRCP)*100"
   ]
  },
  {
   "cell_type": "code",
   "execution_count": null,
   "id": "d8eb4e5c-9669-447e-8850-b93f50e4f2f2",
   "metadata": {},
   "outputs": [],
   "source": [
    "#switching rows to correct order\n",
    "summary_transposed = summary_transposed.reindex(['Number_of_Awarded_Projects', 'Award_Amount', 'Amount_Allocated','Percent_Allocated','Expended_Amount', 'Expended_Percent_of_Awarded', 'Expended_Percent_of_Allocated'])"
   ]
  },
  {
   "cell_type": "markdown",
   "id": "44c82d85-8f34-4185-89a1-8d417802b19e",
   "metadata": {
    "tags": []
   },
   "source": [
    "# Cleaning Allocation Sheet "
   ]
  },
  {
   "cell_type": "markdown",
   "id": "8e1b129d-e9b2-43b2-a87d-6233e1a396cd",
   "metadata": {},
   "source": [
    "## Cleaning up PPNO, can only be 5 characters."
   ]
  },
  {
   "cell_type": "code",
   "execution_count": null,
   "id": "678acd92-65da-4b13-a252-4b84129e9be2",
   "metadata": {},
   "outputs": [],
   "source": [
    "#remove the extra characters in PPNO in allocation to match the PPNO in project data frame bc there should only be five characters and numbers in each PPNO value\n",
    "df_allocation = df_allocation.assign(\n",
    "    PPNO_New = df_allocation['PPNO'].str.slice(start=0, stop=5)\n",
    ")"
   ]
  },
  {
   "cell_type": "code",
   "execution_count": null,
   "id": "06c167cc-3504-4e30-9123-7c5d72c520f2",
   "metadata": {},
   "outputs": [],
   "source": [
    "#CSV with PPNO & Award Recipients\n",
    "FILE_NAME2 = \"Allocation_PPNO_Crosswalk.csv\"\n",
    "allocation_ppno = pd.read_csv(f\"{GCS_FILE_PATH}{FILE_NAME2}\")"
   ]
  },
  {
   "cell_type": "code",
   "execution_count": null,
   "id": "2c625ee1-3459-4b53-8946-781ee2b68556",
   "metadata": {},
   "outputs": [],
   "source": [
    "allocation_ppno #printing to make sure it makes sense."
   ]
  },
  {
   "cell_type": "code",
   "execution_count": null,
   "id": "be528f91-11a4-40e8-bc76-023e841453ad",
   "metadata": {},
   "outputs": [],
   "source": [
    "#Merge in Crosswalk \n",
    "df_allocation = pd.merge(df_allocation, allocation_ppno, on = [\"Award_Year\", \"Award_Recipient\"], how = \"left\")"
   ]
  },
  {
   "cell_type": "code",
   "execution_count": null,
   "id": "033c09ef-48d4-4963-9a72-b08d1bf25b8a",
   "metadata": {},
   "outputs": [],
   "source": [
    "#some values in PPNO and PPNO_New2 are strings, some are floats...so have to convert PPNO New 2 to strings\n",
    "df_allocation.PPNO_New = df_allocation.apply(lambda x: x.PPNO_New if (str(x.PPNO_New2) == 'nan') else x.PPNO_New2, axis=1)"
   ]
  },
  {
   "cell_type": "code",
   "execution_count": null,
   "id": "224eb1b7-05ee-495b-ab1d-2c2fc17a98b7",
   "metadata": {},
   "outputs": [],
   "source": [
    "#drop old column\n",
    "df_allocation = df_allocation.drop(['PPNO'], axis=1)"
   ]
  },
  {
   "cell_type": "code",
   "execution_count": null,
   "id": "6b2a3fe0-3319-4c3d-8110-d5a6793b7c05",
   "metadata": {},
   "outputs": [],
   "source": [
    "df_allocation.columns"
   ]
  },
  {
   "cell_type": "code",
   "execution_count": null,
   "id": "8062ee05-e2fc-4128-8464-c9847a81637c",
   "metadata": {
    "tags": []
   },
   "outputs": [],
   "source": [
    "#renaming columns to something neater\n",
    "df_allocation = df_allocation.rename(columns = {'Expended_Amount': 'Expended_ALLOCATION','PPNO_New':'PPNO', '3rd_Party_Award_Date':'Third_Party_Award_Date'})"
   ]
  },
  {
   "cell_type": "code",
   "execution_count": null,
   "id": "7888529f-bcaa-4508-a86f-476200fd06fb",
   "metadata": {},
   "outputs": [],
   "source": [
    "#Filtering out for 2021, since that entry is blank\n",
    "df_allocation = df_allocation.query(\"Award_Year != 2021\")"
   ]
  },
  {
   "cell_type": "markdown",
   "id": "7c1523b8-33b4-40e1-92e9-dbb204492235",
   "metadata": {
    "tags": []
   },
   "source": [
    "## Cleaning up completion, allocation, 3rd Party dates, & LED dates"
   ]
  },
  {
   "cell_type": "code",
   "execution_count": null,
   "id": "ee95733f-811a-44d6-bd53-3cfdd33c43ce",
   "metadata": {
    "scrolled": true,
    "tags": []
   },
   "outputs": [],
   "source": [
    "df_allocation.LED.unique().tolist()"
   ]
  },
  {
   "cell_type": "code",
   "execution_count": null,
   "id": "184fdd19-676a-41e6-93b0-714be8127395",
   "metadata": {},
   "outputs": [],
   "source": [
    "#changing some of the dates\n",
    "df_allocation[\"Allocation_Date\"].replace({'October 15, 2018\\nSeptember 30, 2021': '2018-10-15 00:00:00',\n",
    " '2/1/2021\\n\\n10/31/2022':'2021-02-01 00:00:00', '45211':'2023-10-22'}, inplace =True)"
   ]
  },
  {
   "cell_type": "code",
   "execution_count": null,
   "id": "e13bf2d2-9c0c-45a7-b86b-9ab10917abf4",
   "metadata": {
    "scrolled": true,
    "tags": []
   },
   "outputs": [],
   "source": [
    "#cleaning up allocation dates\n",
    "df_allocation.Allocation_Date.unique().tolist()"
   ]
  },
  {
   "cell_type": "code",
   "execution_count": null,
   "id": "efe2e868-e3ad-426b-916f-81db7f729669",
   "metadata": {
    "tags": []
   },
   "outputs": [],
   "source": [
    "#Had to change FY to an actual date \n",
    "df_allocation[\"Allocation_Date\"].replace({\"FY 26/27\": \"2026-12-31\", \"08/12//20\": '2020-08-12 00:00:00', 'FY 21/22': '2021-12-31',\n",
    "                                         'FY 22/23': '2022-12-31','FY 20/21': '2020-12-31', 'FY 23/24': '2023-12-31','FY 24/25': '2024-12-31','FY 25/26': '2025-12-31'}, inplace =True)"
   ]
  },
  {
   "cell_type": "code",
   "execution_count": null,
   "id": "8620367d-37c0-4eb8-b19d-ffe588e2fe67",
   "metadata": {},
   "outputs": [],
   "source": [
    "#clean up columns in a loop\n",
    "for i in [\"Allocation_Date\", \"Third_Party_Award_Date\", \"Completion_Date\", \"LED\"]:\n",
    "    df_allocation[i] = df_allocation[i].replace('/', '-', regex = True).replace('Complete', '', regex = True).replace('\\n', '', regex=True).replace('Pending','TBD',regex= True).fillna('TBD')"
   ]
  },
  {
   "cell_type": "code",
   "execution_count": null,
   "id": "1254e1c2-d532-4a61-93ae-a3ae759caf15",
   "metadata": {
    "scrolled": true,
    "tags": []
   },
   "outputs": [],
   "source": [
    "df_allocation.Completion_Date.unique().tolist()"
   ]
  },
  {
   "cell_type": "code",
   "execution_count": null,
   "id": "b56a77c3-9e63-4f53-b1fc-479422944ade",
   "metadata": {
    "tags": []
   },
   "outputs": [],
   "source": [
    "#cleaning up completion dates\n",
    "df_allocation['Completion_Date'].replace({ \n",
    "    'June 24. 2024': '2024-06-01 00:00:00',  \n",
    "    '11/21/2024\\n7/30/2025 (Q4)': '2024-11-21 00:00:00', \n",
    "    'Jun-26': '2026-01-01 00:00:00', \n",
    "     'Jun-29': '2029-06-01 00:00:00',\n",
    "    'Complete\\n11/12/2019': '2019-11-12 00:00:00' , \n",
    "    'Deallocated': '', \n",
    "    'Jun-28': '2028-06-01 00:00:00',  \n",
    "    'Jun-25': '2025-06-01 00:00:00', \n",
    "    'Jun-23':'2023-06-01 00:00:00', \n",
    "    'Jun-27': '2027-06-01 00:00:00',\n",
    "    'Jan-25': '2025-01-01 00:00:00',\n",
    "    '11-21-20247-30-2025 (Q4)':'2025-07-30 00:00:00',\n",
    "    '6-30-202112-31-2021': '2021-12-31 00:00:00',\n",
    "    '6-1-2019': '2019-06-01 00:00:00',\n",
    "    '2-11-2018': '2018-02-11 00:00:00',\n",
    "     '6-30-2020': '2020-06-30 00:00:00',\n",
    "    ' 6-30-2018': '2018-06-30 00:00:00',\n",
    "     '6-29-2020': '2020-06-29 00:00:00',\n",
    "     '11-1-2019': '2019-11-01 00:00:00',\n",
    "     ' 12-10-2018': '2018-12-10 00:00:00',\n",
    "     ' 11-13-2019': '2019-11-13 00:00:00',\n",
    "     '3-30-2020':'2020-03-30 00:00:00',\n",
    "    ' 6-30-2020': '2020-06-30 00:00:00',\n",
    "    '11-12-2019': '2019-11-12 00:00:00',\n",
    "    '1-31-2020': '2020-01-31 00:00:00',\n",
    "    '8-30-2020': '2020-08-30 00:00:00',\n",
    "    '5-16-2020': '2020,05-16 00:00:00',\n",
    "     '5-7-2020': '2020-05-07 00:00:00'}, inplace =True)"
   ]
  },
  {
   "cell_type": "code",
   "execution_count": null,
   "id": "39598034-5f9f-4968-a22d-dafc2cd54643",
   "metadata": {},
   "outputs": [],
   "source": [
    "#cleaning up 3rd Party dates\n",
    "df_allocation[\"Third_Party_Award_Date\"].replace({ \n",
    "'Augsut 12, 2021': '2021-08-12 00:00:00',\n",
    "'43435': '2018-12-01 00:00:00',\n",
    "'07-29-2020': '2020-07-29 00:00:00',\n",
    "'43497' : '2019-02-01 00:00:00',\n",
    "'TBD 6-24-2021' : 'TBD',\n",
    "'TBD 6-30-2022' : 'TBD'\n",
    "}, inplace =True)"
   ]
  },
  {
   "cell_type": "code",
   "execution_count": null,
   "id": "a52948d7-352e-44a3-a103-1bbd330ecd43",
   "metadata": {},
   "outputs": [],
   "source": [
    "#coercing to dates\n",
    "df_allocation = df_allocation.assign(\n",
    "    Allocation_Date_New = pd.to_datetime(df_allocation.Allocation_Date, errors=\"coerce\").dt.date,\n",
    "    Third_Party_Award_Date_New = pd.to_datetime(df_allocation.Third_Party_Award_Date, errors=\"coerce\").dt.date,\n",
    "    Completion_Date_New = pd.to_datetime(df_allocation.Completion_Date, errors=\"coerce\").dt.date,\n",
    "    LED_New = pd.to_datetime(df_allocation.LED, errors=\"coerce\").dt.date\n",
    ")"
   ]
  },
  {
   "cell_type": "code",
   "execution_count": null,
   "id": "d7280cc1-06bd-4cfc-9698-f50ba155ba7f",
   "metadata": {},
   "outputs": [],
   "source": [
    "#drop old columns\n",
    "df_allocation = df_allocation.drop(['Allocation_Date','Third_Party_Award_Date','Completion_Date', 'LED'], axis=1)\n",
    "#rename columns\n",
    "df_allocation = df_allocation.rename(columns = {'Allocation_Amount':'Allocation_Allocation_Sheet', 'Allocation_Date_New':'Allocation_Date','Third_Party_Award_Date_New':'Third_Party_Award_Date',\n",
    "                                               'Completion_Date_New': 'Completion_Date','LED_New': 'LED'})"
   ]
  },
  {
   "cell_type": "markdown",
   "id": "3c9b4417-1445-438e-8a98-0c7f8bbe7b02",
   "metadata": {},
   "source": [
    "## Cleaning up Expended Amount\n",
    "* Have to divide expended by allocated amount, cannot divide by 0. \n",
    "* 'Deallocation' is changed to 0"
   ]
  },
  {
   "cell_type": "code",
   "execution_count": null,
   "id": "81c5957e-eac4-4a4d-891b-cefc32d6918c",
   "metadata": {},
   "outputs": [],
   "source": [
    "df_allocation[\"Expended_ALLOCATION\"].replace({'Deallocation': 0}, inplace=True)"
   ]
  },
  {
   "cell_type": "code",
   "execution_count": null,
   "id": "6d55d578-8481-4818-a6e3-19555a7d550a",
   "metadata": {
    "scrolled": true,
    "tags": []
   },
   "outputs": [],
   "source": [
    "df_allocation.Expended_ALLOCATION.unique().tolist()"
   ]
  },
  {
   "cell_type": "markdown",
   "id": "9f323787-b691-45cb-b95e-58329f644480",
   "metadata": {},
   "source": [
    "# Cleaning Project Sheet\n",
    "\n"
   ]
  },
  {
   "cell_type": "markdown",
   "id": "970b5f71-401e-42dd-a7a5-e3d2cc657382",
   "metadata": {},
   "source": [
    "## Filling NA for TIRCP and Expended Amounts"
   ]
  },
  {
   "cell_type": "code",
   "execution_count": null,
   "id": "687150e8-15f8-4624-978a-f9f3a4a250de",
   "metadata": {},
   "outputs": [],
   "source": [
    "df_project[['TIRCP_Award_Amount_($)', 'Expended_Amount']] = df_project[['TIRCP_Award_Amount_($)', 'Expended_Amount']].fillna(value=0)"
   ]
  },
  {
   "cell_type": "code",
   "execution_count": null,
   "id": "453f95cc-120b-40c2-92c8-f3a96d5e8fbd",
   "metadata": {},
   "outputs": [],
   "source": [
    "#checking for nas\n",
    "df_project.isna().sum()"
   ]
  },
  {
   "cell_type": "markdown",
   "id": "e238629d-6831-42d1-8add-c3e10555ed30",
   "metadata": {
    "tags": []
   },
   "source": [
    "## Cleaning up PPNO Numbers based on Allocation Sheet"
   ]
  },
  {
   "cell_type": "code",
   "execution_count": null,
   "id": "40ce6a99-7803-4afb-b1f1-98c0a055f85a",
   "metadata": {},
   "outputs": [],
   "source": [
    "#slicing PPNO to be 5 characters\n",
    "df_project = df_project.assign(PPNO_New = df_project['PPNO'].str.slice(start=0, stop=5)) "
   ]
  },
  {
   "cell_type": "code",
   "execution_count": null,
   "id": "2346df5d-4202-443f-a8a6-ab1549f76137",
   "metadata": {},
   "outputs": [],
   "source": [
    "#importing Excel crosswalk sheet\n",
    "FILE_NAME3 = \"Projects_PPNO.xlsx\"\n",
    "project_ppno = pd.read_excel(f\"{GCS_FILE_PATH}{FILE_NAME3}\")"
   ]
  },
  {
   "cell_type": "code",
   "execution_count": null,
   "id": "e36ba00e-ec8a-4aa5-94ac-9dd81723cfbb",
   "metadata": {},
   "outputs": [],
   "source": [
    "#Merge in Crosswalk \n",
    "df_project2 = pd.merge(df_project, project_ppno, on = [\"Award_Year\", \"Local_Agency\"], how = \"left\")"
   ]
  },
  {
   "cell_type": "code",
   "execution_count": null,
   "id": "c8397382-0f28-4c00-b0ad-3e6451794601",
   "metadata": {},
   "outputs": [],
   "source": [
    "#some values in PPNO and PPNO_New2 are strings, some are floats...so have to convert PPNO New 2 to strings\n",
    "df_project2.PPNO_New = df_project2.apply(lambda x: x.PPNO_New if (str(x.PPNO_New2) == 'nan') else x.PPNO_New2, axis=1)"
   ]
  },
  {
   "cell_type": "code",
   "execution_count": null,
   "id": "511ebeb5-7850-4824-8711-1b5e9b16dbff",
   "metadata": {},
   "outputs": [],
   "source": [
    "#making sure PPNO_New is a string \n",
    "df_project2 = df_project2.astype({'PPNO_New': 'str'})"
   ]
  },
  {
   "cell_type": "code",
   "execution_count": null,
   "id": "e15b679e-ad35-439f-bcd0-12aff1592c98",
   "metadata": {
    "scrolled": true,
    "tags": []
   },
   "outputs": [],
   "source": [
    "PPNO_project = set(df_project2.PPNO_New.unique().tolist())\n",
    "PPNO_allocation = set(df_allocation.PPNO.unique().tolist())"
   ]
  },
  {
   "cell_type": "code",
   "execution_count": null,
   "id": "d9c6c1a5-afd3-405f-b28e-2e1eda7dd1f0",
   "metadata": {
    "scrolled": true,
    "tags": []
   },
   "outputs": [],
   "source": [
    "#checking for differences - none. yay. \n",
    "PPNO_project - PPNO_allocation"
   ]
  },
  {
   "cell_type": "code",
   "execution_count": null,
   "id": "f40d57f8-3214-499c-9993-530b958a925c",
   "metadata": {},
   "outputs": [],
   "source": [
    "df_project2.head(2)"
   ]
  },
  {
   "cell_type": "code",
   "execution_count": null,
   "id": "4dc3386d-5cb3-43cf-b69e-f6442b66b90c",
   "metadata": {},
   "outputs": [],
   "source": [
    "#drop old column\n",
    "df_project2 = df_project2.drop(['PPNO', 'PPNO_New2'], axis=1)"
   ]
  },
  {
   "cell_type": "code",
   "execution_count": null,
   "id": "557853bb-ad1c-4969-9e50-b6c91f2d9b5b",
   "metadata": {},
   "outputs": [],
   "source": [
    "#renaming to something neater\n",
    "df_project2 = df_project2.rename(columns = {'PPNO_New':'PPNO', 'Allocated_Amount':'Allocation_Amount_PROJECT'})"
   ]
  },
  {
   "cell_type": "code",
   "execution_count": null,
   "id": "9eedfabc-d255-488a-979e-1b3ec0b993b7",
   "metadata": {},
   "outputs": [],
   "source": [
    "df_allocation.head(2)"
   ]
  },
  {
   "cell_type": "markdown",
   "id": "b22cfcbd-8792-428f-8a2c-4637765f89be",
   "metadata": {},
   "source": [
    "# Merging Project & Allocations\n",
    "* Merge on PPNO & Award_Year...using projects on the left? \n",
    "* Proper way to drop duplicates? \n",
    "* Use https://docs.python.org/3/library/uuid.html to identify each row or row number or grab .index and put it ina column."
   ]
  },
  {
   "cell_type": "code",
   "execution_count": null,
   "id": "a02e2cbd-779b-4d17-822d-40d63678b105",
   "metadata": {},
   "outputs": [],
   "source": [
    "#merge on left for projects.\n",
    "df_combined = df_allocation.merge(df_project2, how = \"left\", on = [\"PPNO\", \"Award_Year\"])"
   ]
  },
  {
   "cell_type": "code",
   "execution_count": null,
   "id": "ab98fccf-c3c1-43e4-a845-8ae8b5d00680",
   "metadata": {},
   "outputs": [],
   "source": [
    "df_combined.shape"
   ]
  },
  {
   "cell_type": "code",
   "execution_count": null,
   "id": "b67be376-70ef-406d-b817-88ab6369742e",
   "metadata": {},
   "outputs": [],
   "source": [
    "#dropping all duplicates...every column that is a duplicate is droped\n",
    "df_combined2 = df_combined.drop_duplicates() "
   ]
  },
  {
   "cell_type": "code",
   "execution_count": null,
   "id": "0960814d-be64-45b1-844c-562b153a50a8",
   "metadata": {},
   "outputs": [],
   "source": [
    "df_combined2.shape"
   ]
  },
  {
   "cell_type": "markdown",
   "id": "a86d5bb9-d9d5-4853-8603-9b5bd33324ec",
   "metadata": {},
   "source": [
    "### Filling in NA for monetary columns"
   ]
  },
  {
   "cell_type": "code",
   "execution_count": null,
   "id": "5dceb2db-51fd-4711-bdf1-f9698bfe1191",
   "metadata": {},
   "outputs": [],
   "source": [
    "#Just filling in NA values\n",
    "df_combined2[['TIRCP_Award_Amount_($)','SB1_Funding']] = df_combined2[['TIRCP_Award_Amount_($)', 'SB1_Funding']].fillna(value=0)"
   ]
  },
  {
   "cell_type": "code",
   "execution_count": null,
   "id": "2ed611cf-eb10-41a9-b91d-6b5b07fe6e12",
   "metadata": {},
   "outputs": [],
   "source": [
    "#drop columns that aren't needed\n",
    "df_combined2 = df_combined2.drop(columns=['Local_Agency','Key_Project_Elements'])"
   ]
  },
  {
   "cell_type": "code",
   "execution_count": null,
   "id": "aff335c4-1123-4386-950f-878c5ff3f46f",
   "metadata": {},
   "outputs": [],
   "source": [
    "df_combined2.columns"
   ]
  },
  {
   "cell_type": "markdown",
   "id": "83bf5d9f-d1b7-44d1-9839-34f71a04a6cb",
   "metadata": {},
   "source": [
    "### Calculate out Percent of Allocation Expended  & Percent of Award Fully Allocated "
   ]
  },
  {
   "cell_type": "code",
   "execution_count": null,
   "id": "c4cea348-33e1-47ba-a6de-9447cf5e5237",
   "metadata": {},
   "outputs": [],
   "source": [
    "df_combined2 = df_combined2.assign(\n",
    "    Percent_of_Allocation_Expended = (df_combined2['Expended_ALLOCATION']/df_combined2['Allocation_Allocation_Sheet'])*100,\n",
    "    Percent_of_Award_Fully_Allocated = (df_combined2['Allocation_Amount_PROJECT']/df_combined2['TIRCP_Award_Amount_($)'])*100)"
   ]
  },
  {
   "cell_type": "code",
   "execution_count": null,
   "id": "c15cb3fb-57cd-4c7d-9ec9-3c49945cb220",
   "metadata": {},
   "outputs": [],
   "source": [
    "cols = ['Expended_ALLOCATION','Allocation_Allocation_Sheet','TIRCP_Award_Amount_($)','Expended_Amount','GGRF_Funding','SB1_Funding','Percent_of_Allocation_Expended', 'Percent_of_Award_Fully_Allocated']"
   ]
  },
  {
   "cell_type": "code",
   "execution_count": null,
   "id": "c841c2d0-758a-4c87-b106-a6ec68afba1c",
   "metadata": {},
   "outputs": [],
   "source": [
    "#coercing monetary to numeric \n",
    "df_combined2[cols] = df_combined2[cols].apply(pd.to_numeric, errors='coerce')"
   ]
  },
  {
   "cell_type": "code",
   "execution_count": null,
   "id": "0cb33807-b1de-46f7-903f-355d344aac50",
   "metadata": {},
   "outputs": [],
   "source": [
    "#Re name the columns exactly like the sheet\n",
    "df_combined2 = df_combined2.rename(columns = {'LED': 'Phase_Completion_Date','SB1_Funding':'PTA-SB1 Allocation Amount',  'Percentge_Allocated': 'Percentage Allocated', 'TIRCP_Award_Amount_($)': 'TIRCP_Award_Amount',\n",
    "'Third_Party_Award_Date':'CON_Contract_Award_Date'})"
   ]
  },
  {
   "cell_type": "code",
   "execution_count": null,
   "id": "17b6677c-d1a9-40da-adc5-0d09777b6664",
   "metadata": {},
   "outputs": [],
   "source": [
    "df_combined2.shape"
   ]
  },
  {
   "cell_type": "markdown",
   "id": "58126c15-b10a-4f6d-9709-2f54fd872d6a",
   "metadata": {},
   "source": [
    "### Filing in NA dates with a super fake one\n"
   ]
  },
  {
   "cell_type": "code",
   "execution_count": null,
   "id": "d96323ed-e55c-4121-8019-4023dba9bb3f",
   "metadata": {},
   "outputs": [],
   "source": [
    "df_combined2.isna().sum()"
   ]
  },
  {
   "cell_type": "code",
   "execution_count": null,
   "id": "b1317a41-ab21-4c5c-8249-0870d7441fcc",
   "metadata": {},
   "outputs": [],
   "source": [
    "#fill in missing dates with a fake one\n",
    "missing_date = pd.to_datetime('2100-01-01')"
   ]
  },
  {
   "cell_type": "code",
   "execution_count": null,
   "id": "c36416d1-7967-4661-aec0-e20767c7b841",
   "metadata": {},
   "outputs": [],
   "source": [
    "for i in [\"Allocation_Date\", \"CON_Contract_Award_Date\", \"Completion_Date\", \"Phase_Completion_Date\"]:\n",
    "    df_combined2[i] = df_combined2[i].fillna(missing_date)"
   ]
  },
  {
   "cell_type": "code",
   "execution_count": null,
   "id": "03013a98-89ab-4769-afd4-637543396e44",
   "metadata": {},
   "outputs": [],
   "source": [
    "#force to date time\n",
    "df_combined2[['Allocation_Date', 'Completion_Date','Phase_Completion_Date', 'CON_Contract_Award_Date']] = df_combined2[['Allocation_Date', 'Completion_Date','Phase_Completion_Date', 'CON_Contract_Award_Date']].apply(pd.to_datetime)"
   ]
  },
  {
   "cell_type": "markdown",
   "id": "c279c809-2b24-4cd2-84eb-0ce678b4eb5d",
   "metadata": {},
   "source": [
    "### Create Allocated before July 2020 Date Column \n",
    "* If the allocation date is AFTER  7-31-2020 then 0, if BEFORE 7-31-2020 then 1"
   ]
  },
  {
   "cell_type": "code",
   "execution_count": null,
   "id": "350c820c-3af6-4ffe-b21e-66e884051a71",
   "metadata": {},
   "outputs": [],
   "source": [
    "#if the allocation date is AFTER  7-31-2020 then 0, if BEFORE 7-31-2020 then 1\n",
    "df_combined2 = df_combined2.assign( Allocated_Before_July_31_2020_1_is_yes = df_combined2.apply(lambda x: 0 if x.Allocation_Date > pd.Timestamp(2020, 7, 31, 0) else 1, axis=1))"
   ]
  },
  {
   "cell_type": "markdown",
   "id": "afab9656-5230-40ce-9869-b7fb12ad017d",
   "metadata": {},
   "source": [
    "# Mimic sheet\n"
   ]
  },
  {
   "cell_type": "code",
   "execution_count": null,
   "id": "e0914d7e-d7c2-475b-a3d7-69666075558e",
   "metadata": {},
   "outputs": [],
   "source": [
    "df_pivot = df_combined2.groupby(['Award_Year','Project_#','Award_Recipient','Project_Title','TIRCP_Award_Amount','Percent_of_Award_Fully_Allocated','Implementing_Agency', 'Components','PPNO','Phase',\"Allocation_Date\", \n",
    " \"CON_Contract_Award_Date\", \"Completion_Date\", \"Phase_Completion_Date\", ]).agg({'Allocation_Allocation_Sheet': 'sum', \n",
    "'GGRF_Funding':'sum',\n",
    "'Expended_ALLOCATION':'sum',\n",
    "'PTA-SB1 Allocation Amount':'sum',\n",
    "'Percent_of_Allocation_Expended':'max',                                                                                                               \n",
    "'Allocated_Before_July_31_2020_1_is_yes':'max',\n",
    "})"
   ]
  },
  {
   "cell_type": "code",
   "execution_count": null,
   "id": "5d324e77-d182-44bb-8894-cdec85939fe8",
   "metadata": {
    "scrolled": true,
    "tags": []
   },
   "outputs": [],
   "source": [
    "df_pivot.tail(10)"
   ]
  },
  {
   "cell_type": "markdown",
   "id": "29645f4e-a3bc-4d02-8f86-635a25bfe929",
   "metadata": {},
   "source": [
    "# Export into Excel\n",
    "* Dataframes to export: summary_transposed and df_pivot\n",
    "* https://www.geeksforgeeks.org/how-to-write-pandas-dataframes-to-multiple-excel-sheets/"
   ]
  },
  {
   "cell_type": "code",
   "execution_count": null,
   "id": "d56c80e7-7b95-4d24-b247-2d850d82d8de",
   "metadata": {},
   "outputs": [],
   "source": [
    "#one final neaten up\n",
    "df_pivot = df_pivot.rename(columns = {'Expended_ALLOCATION': 'Expended_Amount', 'Allocation_Allocation_Sheet': 'Allocation_Amount'})"
   ]
  },
  {
   "cell_type": "code",
   "execution_count": null,
   "id": "c4c3c8b8-d8e9-46aa-a4e6-966bcdc0a6a3",
   "metadata": {},
   "outputs": [],
   "source": [
    "with pd.ExcelWriter(\"gs://calitp-analytics-data/data-analyses/tircp/TIRCP_SAR_2022.xlsx\") as writer:\n",
    "    summary_transposed.to_excel(writer, sheet_name=\"Summary\", index=True)\n",
    "    df_pivot.to_excel(writer, sheet_name=\"FY\", index=True)"
   ]
  }
 ],
 "metadata": {
  "kernelspec": {
   "display_name": "Python 3 (ipykernel)",
   "language": "python",
   "name": "python3"
  },
  "language_info": {
   "codemirror_mode": {
    "name": "ipython",
    "version": 3
   },
   "file_extension": ".py",
   "mimetype": "text/x-python",
   "name": "python",
   "nbconvert_exporter": "python",
   "pygments_lexer": "ipython3",
   "version": "3.9.7"
  },
  "toc-autonumbering": false,
  "toc-showmarkdowntxt": false,
  "toc-showtags": false
 },
 "nbformat": 4,
 "nbformat_minor": 5
}
