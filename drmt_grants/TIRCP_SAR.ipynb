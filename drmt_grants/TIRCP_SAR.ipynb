{
 "cells": [
  {
   "cell_type": "markdown",
   "id": "8fa13b1e-0b92-4f67-a5e8-762f135c4db9",
   "metadata": {},
   "source": [
    "# TIRCP SAR Report\n",
    "----\n"
   ]
  },
  {
   "cell_type": "code",
   "execution_count": 1,
   "id": "dfcd28c5-7dc7-4f3e-8731-b48ebaeb2224",
   "metadata": {},
   "outputs": [],
   "source": [
    "import pandas as pd\n",
    "import math\n",
    "from siuba import * \n",
    "import numpy as np\n",
    "pd.options.display.max_columns = 50\n",
    "pd.options.display.float_format = \"{:.2f}\".format\n",
    "import datetime"
   ]
  },
  {
   "cell_type": "code",
   "execution_count": 2,
   "id": "cb7c32f6-fe89-485d-b67f-3f956df6a8f5",
   "metadata": {},
   "outputs": [],
   "source": [
    "GCS_FILE_PATH = \"gs://calitp-analytics-data/data-analyses/tircp/\"\n",
    "FILE_NAME1 = \"Raw_Project_Tracking_Sheet.xlsx\"\n",
    "project = pd.read_excel(f\"{GCS_FILE_PATH}{FILE_NAME1}\")\n",
    "FILE_NAME2 = \"Allocation_Agreement.xlsx\"\n",
    "allocation = pd.read_excel(f\"{GCS_FILE_PATH}{FILE_NAME2}\")"
   ]
  },
  {
   "cell_type": "code",
   "execution_count": 3,
   "id": "15f101e3-f943-4873-945a-4772c985d8a6",
   "metadata": {},
   "outputs": [],
   "source": [
    "#cleaning up spaces in columns\n",
    "project.columns = project.columns.str.strip().str.replace(' ', '_')\n",
    "allocation.columns = allocation.columns.str.strip().str.replace(' ', '_')"
   ]
  },
  {
   "cell_type": "markdown",
   "id": "0e2e35e4-d83c-4806-a4f4-3eb68385c122",
   "metadata": {},
   "source": [
    "## Cleaning columns"
   ]
  },
  {
   "cell_type": "code",
   "execution_count": 4,
   "id": "c34383a0-0371-4a7c-ab9c-2521dbc7f378",
   "metadata": {},
   "outputs": [
    {
     "data": {
      "text/plain": [
       "Index(['Award_Year', 'Project_#', 'Local_Agency', 'Vendor_ID_#',\n",
       "       'Project_Title', 'PPNO', 'District', 'County', 'Key_Project_Elements',\n",
       "       'Master_Agreement_Number', 'Master_Agreement_Expiration_Date',\n",
       "       'Project_Manager', 'Regional_Coordinator',\n",
       "       'Technical_Assistance-CALTP_(Y/N)', 'Technical_Assistance-Fleet_(Y/N)',\n",
       "       'Technical_Assistance-Network_Integration_(Y/N)',\n",
       "       'Technical_Assistance-Priority_Population_(Y/N)', 'Total_Project_Cost',\n",
       "       'TIRCP_Award_Amount_($)', 'Allocated_Amount', 'Unallocated_Amount',\n",
       "       'Percentge_Allocated', 'Expended_Amount', 'Other_Funds_Involved',\n",
       "       'Award_Cycle', 'Local_Agency_Address', 'Local_Agency_City',\n",
       "       'Local_Agency_Zip', 'Local_Agency_Contact', 'Local_Agency_Email',\n",
       "       'Local_Agency_Phone_Number', 'Comments/Additional_Contacts'],\n",
       "      dtype='object')"
      ]
     },
     "execution_count": 4,
     "metadata": {},
     "output_type": "execute_result"
    }
   ],
   "source": [
    "project.columns"
   ]
  },
  {
   "cell_type": "code",
   "execution_count": 5,
   "id": "92614cfc-248c-4ce2-b61a-3ffeab9966f0",
   "metadata": {},
   "outputs": [],
   "source": [
    "#subsetting for only columns of interest\n",
    "df_project = project[['Award_Year', 'Project_#','Local_Agency','Project_Title','PPNO',\n",
    "'Key_Project_Elements','TIRCP_Award_Amount_($)','Expended_Amount','Allocated_Amount']]"
   ]
  },
  {
   "cell_type": "code",
   "execution_count": 6,
   "id": "44afcac4-b07b-4503-be0c-a02d8dd1ebb0",
   "metadata": {},
   "outputs": [],
   "source": [
    "#subsetting for only columns of interest\n",
    "df_allocation = allocation[['Award_Year','Award_Recipient', 'Implementing_Agency', 'Allocation_Amount', 'GGRF_Funding','PPNO','Phase', 'LED','Allocation_Date','Completion_Date','3rd_Party_Award_Date','Components','SB1_Funding']]"
   ]
  },
  {
   "cell_type": "code",
   "execution_count": 7,
   "id": "ce1ec6d0-17e6-447b-bd67-53e258af96c1",
   "metadata": {},
   "outputs": [],
   "source": [
    "#strip spaces in columns\n",
    "df_project.columns = df_project.columns.map(lambda x: x.strip())\n",
    "df_allocation.columns = df_allocation.columns.map(lambda x: x.strip())"
   ]
  },
  {
   "cell_type": "markdown",
   "id": "ed718682-6ca1-40ed-bfb9-75fa03aa5c15",
   "metadata": {},
   "source": [
    "# Make Summary Page\n",
    "### Table 2: Summary of Awards (Cumulative)\n",
    "* Linda stated she only needs table 2.\n",
    "* Linda says she is unsure where to get the completed project row.\n",
    "* The data from the Highlands project tracking sheet does not match the TIRCP SAR report Linda gave me \n"
   ]
  },
  {
   "cell_type": "code",
   "execution_count": 8,
   "id": "27a85688-723b-42ae-b7f4-2004c2ebe46f",
   "metadata": {},
   "outputs": [],
   "source": [
    "summary = project.drop_duplicates().groupby(['Award_Year']).agg({'Project_#':'count','TIRCP_Award_Amount_($)':'sum', \n",
    " 'Allocated_Amount':'sum','Expended_Amount':'sum'}).reset_index()"
   ]
  },
  {
   "cell_type": "code",
   "execution_count": 9,
   "id": "e7a5334b-8207-497f-9dfd-2059aec951c7",
   "metadata": {},
   "outputs": [],
   "source": [
    "summary['Expended_Percent_of_Awarded'] = summary['Expended_Amount']/summary['TIRCP_Award_Amount_($)']\n",
    "summary['Expended_Percent_of_Allocated'] = summary['Expended_Amount']/summary['Allocated_Amount']\n",
    "summary['Percent_Allocated'] = summary['Allocated_Amount']/summary['TIRCP_Award_Amount_($)']"
   ]
  },
  {
   "cell_type": "code",
   "execution_count": 10,
   "id": "620a42d1-6843-40d8-b6b1-f059221fbbee",
   "metadata": {},
   "outputs": [],
   "source": [
    "summary_transposed = summary.set_index('Award_Year').T"
   ]
  },
  {
   "cell_type": "code",
   "execution_count": 11,
   "id": "f2d0f1f1-0382-42a5-b53c-b2e82fb218aa",
   "metadata": {},
   "outputs": [],
   "source": [
    "#grand totals for monetary columns\n",
    "list_to_add = ['TIRCP_Award_Amount_($)','Allocated_Amount','Expended_Amount', 'Project_#']"
   ]
  },
  {
   "cell_type": "code",
   "execution_count": 12,
   "id": "1c3085b3-e3b0-4e23-8d84-de9a978de918",
   "metadata": {},
   "outputs": [],
   "source": [
    "summary_transposed['Grand_Total']=summary_transposed.loc[list_to_add, :].sum(axis=1)"
   ]
  },
  {
   "cell_type": "code",
   "execution_count": 13,
   "id": "2dcb47b6-0478-43ce-8a98-65d6ccc5029e",
   "metadata": {},
   "outputs": [],
   "source": [
    "#grand total variables of eahc monetary column\n",
    "Exp = summary_transposed.at['Expended_Amount','Grand_Total']\n",
    "Alloc = summary_transposed.at['Allocated_Amount','Grand_Total']\n",
    "TIRCP = summary_transposed.at['TIRCP_Award_Amount_($)','Grand_Total']"
   ]
  },
  {
   "cell_type": "code",
   "execution_count": 14,
   "id": "042d26c8-e742-4173-b6c7-29532036b266",
   "metadata": {},
   "outputs": [],
   "source": [
    "#filling in totals of percentages\n",
    "summary_transposed.at['Expended_Percent_of_Awarded','Grand_Total'] = Exp/TIRCP\n",
    "summary_transposed.at['Expended_Percent_of_Allocated','Grand_Total'] = Exp/Alloc\n",
    "summary_transposed.at['Percent_Allocated','Grand_Total'] = Alloc/TIRCP"
   ]
  },
  {
   "cell_type": "code",
   "execution_count": 15,
   "id": "d8eb4e5c-9669-447e-8850-b93f50e4f2f2",
   "metadata": {},
   "outputs": [
    {
     "data": {
      "text/html": [
       "<div>\n",
       "<style scoped>\n",
       "    .dataframe tbody tr th:only-of-type {\n",
       "        vertical-align: middle;\n",
       "    }\n",
       "\n",
       "    .dataframe tbody tr th {\n",
       "        vertical-align: top;\n",
       "    }\n",
       "\n",
       "    .dataframe thead th {\n",
       "        text-align: right;\n",
       "    }\n",
       "</style>\n",
       "<table border=\"1\" class=\"dataframe\">\n",
       "  <thead>\n",
       "    <tr style=\"text-align: right;\">\n",
       "      <th>Award_Year</th>\n",
       "      <th>2015</th>\n",
       "      <th>2016</th>\n",
       "      <th>2018</th>\n",
       "      <th>2020</th>\n",
       "      <th>Grand_Total</th>\n",
       "    </tr>\n",
       "  </thead>\n",
       "  <tbody>\n",
       "    <tr>\n",
       "      <th>Project_#</th>\n",
       "      <td>14.00</td>\n",
       "      <td>15.00</td>\n",
       "      <td>28.00</td>\n",
       "      <td>17.00</td>\n",
       "      <td>74.00</td>\n",
       "    </tr>\n",
       "    <tr>\n",
       "      <th>TIRCP_Award_Amount_($)</th>\n",
       "      <td>224328000.00</td>\n",
       "      <td>788444000.00</td>\n",
       "      <td>4251722000.00</td>\n",
       "      <td>500000000.00</td>\n",
       "      <td>5764494000.00</td>\n",
       "    </tr>\n",
       "    <tr>\n",
       "      <th>Allocated_Amount</th>\n",
       "      <td>224278000.00</td>\n",
       "      <td>422477816.00</td>\n",
       "      <td>1627802000.00</td>\n",
       "      <td>74030000.00</td>\n",
       "      <td>2348587816.00</td>\n",
       "    </tr>\n",
       "    <tr>\n",
       "      <th>Percent_Allocated</th>\n",
       "      <td>1.00</td>\n",
       "      <td>0.54</td>\n",
       "      <td>0.38</td>\n",
       "      <td>0.15</td>\n",
       "      <td>0.41</td>\n",
       "    </tr>\n",
       "    <tr>\n",
       "      <th>Expended_Amount</th>\n",
       "      <td>143556084.90</td>\n",
       "      <td>119517737.55</td>\n",
       "      <td>210456649.72</td>\n",
       "      <td>1823462.51</td>\n",
       "      <td>475353934.68</td>\n",
       "    </tr>\n",
       "    <tr>\n",
       "      <th>Expended_Percent_of_Awarded</th>\n",
       "      <td>0.64</td>\n",
       "      <td>0.15</td>\n",
       "      <td>0.05</td>\n",
       "      <td>0.00</td>\n",
       "      <td>0.08</td>\n",
       "    </tr>\n",
       "    <tr>\n",
       "      <th>Expended_Percent_of_Allocated</th>\n",
       "      <td>0.64</td>\n",
       "      <td>0.28</td>\n",
       "      <td>0.13</td>\n",
       "      <td>0.02</td>\n",
       "      <td>0.20</td>\n",
       "    </tr>\n",
       "  </tbody>\n",
       "</table>\n",
       "</div>"
      ],
      "text/plain": [
       "Award_Year                            2015         2016          2018  \\\n",
       "Project_#                            14.00        15.00         28.00   \n",
       "TIRCP_Award_Amount_($)        224328000.00 788444000.00 4251722000.00   \n",
       "Allocated_Amount              224278000.00 422477816.00 1627802000.00   \n",
       "Percent_Allocated                     1.00         0.54          0.38   \n",
       "Expended_Amount               143556084.90 119517737.55  210456649.72   \n",
       "Expended_Percent_of_Awarded           0.64         0.15          0.05   \n",
       "Expended_Percent_of_Allocated         0.64         0.28          0.13   \n",
       "\n",
       "Award_Year                            2020   Grand_Total  \n",
       "Project_#                            17.00         74.00  \n",
       "TIRCP_Award_Amount_($)        500000000.00 5764494000.00  \n",
       "Allocated_Amount               74030000.00 2348587816.00  \n",
       "Percent_Allocated                     0.15          0.41  \n",
       "Expended_Amount                 1823462.51  475353934.68  \n",
       "Expended_Percent_of_Awarded           0.00          0.08  \n",
       "Expended_Percent_of_Allocated         0.02          0.20  "
      ]
     },
     "execution_count": 15,
     "metadata": {},
     "output_type": "execute_result"
    }
   ],
   "source": [
    "#switching rows to correct order\n",
    "summary_transposed.reindex(['Project_#', 'TIRCP_Award_Amount_($)', 'Allocated_Amount','Percent_Allocated','Expended_Amount', 'Expended_Percent_of_Awarded', 'Expended_Percent_of_Allocated'])"
   ]
  },
  {
   "cell_type": "markdown",
   "id": "44c82d85-8f34-4185-89a1-8d417802b19e",
   "metadata": {
    "tags": []
   },
   "source": [
    "# Cleaning Allocation Sheet "
   ]
  },
  {
   "cell_type": "markdown",
   "id": "8e1b129d-e9b2-43b2-a87d-6233e1a396cd",
   "metadata": {},
   "source": [
    "## Cleaning up PPNO, can only be 5 characters."
   ]
  },
  {
   "cell_type": "code",
   "execution_count": 16,
   "id": "678acd92-65da-4b13-a252-4b84129e9be2",
   "metadata": {},
   "outputs": [],
   "source": [
    "#remove the extra characters in PPNO in allocation to match the PPNO in project data frame bc there should only be five characters and numbers in each PPNO value\n",
    "df_allocation = df_allocation.assign(\n",
    "    PPNO_New = df_allocation['PPNO'].str.slice(start=0, stop=5)\n",
    ")"
   ]
  },
  {
   "cell_type": "code",
   "execution_count": 17,
   "id": "06c167cc-3504-4e30-9123-7c5d72c520f2",
   "metadata": {},
   "outputs": [],
   "source": [
    "#CSV with PPNO & Award Recipients\n",
    "FILE_NAME2 = \"Allocation_PPNO_Crosswalk.csv\"\n",
    "allocation_ppno = pd.read_csv(f\"{GCS_FILE_PATH}{FILE_NAME2}\")"
   ]
  },
  {
   "cell_type": "code",
   "execution_count": 18,
   "id": "2c625ee1-3459-4b53-8946-781ee2b68556",
   "metadata": {},
   "outputs": [
    {
     "data": {
      "text/html": [
       "<div>\n",
       "<style scoped>\n",
       "    .dataframe tbody tr th:only-of-type {\n",
       "        vertical-align: middle;\n",
       "    }\n",
       "\n",
       "    .dataframe tbody tr th {\n",
       "        vertical-align: top;\n",
       "    }\n",
       "\n",
       "    .dataframe thead th {\n",
       "        text-align: right;\n",
       "    }\n",
       "</style>\n",
       "<table border=\"1\" class=\"dataframe\">\n",
       "  <thead>\n",
       "    <tr style=\"text-align: right;\">\n",
       "      <th></th>\n",
       "      <th>Award_Year</th>\n",
       "      <th>PPNO_New2</th>\n",
       "      <th>Award_Recipient</th>\n",
       "    </tr>\n",
       "  </thead>\n",
       "  <tbody>\n",
       "    <tr>\n",
       "      <th>0</th>\n",
       "      <td>2020</td>\n",
       "      <td>CP065</td>\n",
       "      <td>Los Angeles County Metropolitan Transportation...</td>\n",
       "    </tr>\n",
       "    <tr>\n",
       "      <th>1</th>\n",
       "      <td>2020</td>\n",
       "      <td>CP066</td>\n",
       "      <td>Los Angeles-San Diego-San Luis Obispo Rail Cor...</td>\n",
       "    </tr>\n",
       "    <tr>\n",
       "      <th>2</th>\n",
       "      <td>2016</td>\n",
       "      <td>1230</td>\n",
       "      <td>San Bernardino County Transportation Authority...</td>\n",
       "    </tr>\n",
       "    <tr>\n",
       "      <th>3</th>\n",
       "      <td>2018</td>\n",
       "      <td>1155</td>\n",
       "      <td>Transportation Agency for Monterey County</td>\n",
       "    </tr>\n",
       "  </tbody>\n",
       "</table>\n",
       "</div>"
      ],
      "text/plain": [
       "   Award_Year PPNO_New2                                    Award_Recipient\n",
       "0        2020     CP065  Los Angeles County Metropolitan Transportation...\n",
       "1        2020     CP066  Los Angeles-San Diego-San Luis Obispo Rail Cor...\n",
       "2        2016      1230  San Bernardino County Transportation Authority...\n",
       "3        2018      1155          Transportation Agency for Monterey County"
      ]
     },
     "execution_count": 18,
     "metadata": {},
     "output_type": "execute_result"
    }
   ],
   "source": [
    "allocation_ppno #printing to make sure it makes sense."
   ]
  },
  {
   "cell_type": "code",
   "execution_count": 19,
   "id": "7888529f-bcaa-4508-a86f-476200fd06fb",
   "metadata": {},
   "outputs": [],
   "source": [
    "#Filtering out for 2021, since that entry is blank\n",
    "df_allocation = df_allocation.query(\"Award_Year != 2021\")"
   ]
  },
  {
   "cell_type": "code",
   "execution_count": 20,
   "id": "be528f91-11a4-40e8-bc76-023e841453ad",
   "metadata": {},
   "outputs": [],
   "source": [
    "#Merge in Crosswalk \n",
    "df_allocation = pd.merge(df_allocation, allocation_ppno, on = [\"Award_Year\", \"Award_Recipient\"], how = \"left\")"
   ]
  },
  {
   "cell_type": "code",
   "execution_count": 21,
   "id": "033c09ef-48d4-4963-9a72-b08d1bf25b8a",
   "metadata": {},
   "outputs": [],
   "source": [
    "#some values in PPNO and PPNO_New2 are strings, some are floats...so have to convert PPNO New 2 to strings\n",
    "df_allocation.PPNO_New = df_allocation.apply(lambda x: x.PPNO_New if (str(x.PPNO_New2) == 'nan') else x.PPNO_New2, axis=1)"
   ]
  },
  {
   "cell_type": "code",
   "execution_count": 22,
   "id": "224eb1b7-05ee-495b-ab1d-2c2fc17a98b7",
   "metadata": {},
   "outputs": [],
   "source": [
    "#drop old column\n",
    "df_allocation = df_allocation.drop(['PPNO'], axis=1)"
   ]
  },
  {
   "cell_type": "code",
   "execution_count": 23,
   "id": "8062ee05-e2fc-4128-8464-c9847a81637c",
   "metadata": {
    "tags": []
   },
   "outputs": [],
   "source": [
    "#renaming columns to something neater\n",
    "df_allocation = df_allocation.rename(columns = {'PPNO_New':'PPNO', '3rd_Party_Award_Date':'Third_Party_Award_Date'})"
   ]
  },
  {
   "cell_type": "markdown",
   "id": "7c1523b8-33b4-40e1-92e9-dbb204492235",
   "metadata": {
    "tags": []
   },
   "source": [
    "## Cleaning up completion, allocation, 3rd Party dates, & LED dates"
   ]
  },
  {
   "cell_type": "code",
   "execution_count": 24,
   "id": "ee95733f-811a-44d6-bd53-3cfdd33c43ce",
   "metadata": {
    "scrolled": true,
    "tags": []
   },
   "outputs": [
    {
     "data": {
      "text/plain": [
       "[datetime.datetime(2022, 3, 31, 0, 0),\n",
       " datetime.datetime(2019, 6, 1, 0, 0),\n",
       " datetime.datetime(2020, 6, 28, 0, 0),\n",
       " datetime.datetime(2021, 6, 30, 0, 0),\n",
       " datetime.datetime(2019, 11, 3, 0, 0),\n",
       " datetime.datetime(2018, 11, 30, 0, 0),\n",
       " datetime.datetime(2020, 6, 30, 0, 0),\n",
       " datetime.datetime(2019, 1, 8, 0, 0),\n",
       " datetime.datetime(2018, 6, 30, 0, 0),\n",
       " datetime.datetime(2020, 6, 29, 0, 0),\n",
       " datetime.datetime(2019, 11, 1, 0, 0),\n",
       " datetime.datetime(2018, 12, 10, 0, 0),\n",
       " datetime.datetime(2021, 2, 2, 0, 0),\n",
       " datetime.datetime(2020, 6, 23, 0, 0),\n",
       " datetime.datetime(2021, 9, 30, 0, 0),\n",
       " 'October 15, 2018\\nSeptember 30, 2021',\n",
       " datetime.datetime(2020, 5, 16, 0, 0),\n",
       " datetime.datetime(2021, 1, 9, 0, 0),\n",
       " datetime.datetime(2020, 5, 23, 0, 0),\n",
       " datetime.datetime(2019, 6, 30, 0, 0),\n",
       " datetime.datetime(2024, 2, 28, 0, 0),\n",
       " datetime.datetime(2021, 2, 28, 0, 0),\n",
       " 'TBD',\n",
       " datetime.datetime(2024, 6, 24, 0, 0),\n",
       " datetime.datetime(2022, 12, 30, 0, 0),\n",
       " datetime.datetime(2023, 6, 25, 0, 0),\n",
       " datetime.datetime(2024, 7, 31, 0, 0),\n",
       " 'June 30, 2019\\nSeptember 30, 2019',\n",
       " datetime.datetime(2021, 12, 31, 0, 0),\n",
       " datetime.datetime(2024, 1, 28, 0, 0),\n",
       " nan,\n",
       " datetime.datetime(2020, 3, 16, 0, 0),\n",
       " '2/1/2021\\n\\n10/31/2022',\n",
       " datetime.datetime(2021, 2, 3, 0, 0),\n",
       " datetime.datetime(2022, 1, 16, 0, 0),\n",
       " datetime.datetime(2019, 11, 21, 0, 0),\n",
       " datetime.datetime(2022, 8, 22, 0, 0),\n",
       " datetime.datetime(2022, 6, 1, 0, 0),\n",
       " datetime.datetime(2021, 4, 20, 0, 0),\n",
       " datetime.datetime(2023, 6, 30, 0, 0),\n",
       " datetime.datetime(2021, 6, 1, 0, 0),\n",
       " datetime.datetime(2021, 7, 31, 0, 0),\n",
       " datetime.datetime(2023, 7, 13, 0, 0),\n",
       " datetime.datetime(2022, 1, 7, 0, 0),\n",
       " datetime.datetime(2030, 12, 30, 0, 0),\n",
       " datetime.datetime(2019, 2, 15, 0, 0),\n",
       " datetime.datetime(2023, 12, 31, 0, 0),\n",
       " datetime.datetime(2024, 12, 31, 0, 0),\n",
       " datetime.datetime(2020, 11, 30, 0, 0),\n",
       " datetime.datetime(2022, 6, 30, 0, 0),\n",
       " datetime.datetime(2019, 12, 31, 0, 0),\n",
       " datetime.datetime(2023, 2, 3, 0, 0),\n",
       " datetime.datetime(2022, 11, 30, 0, 0),\n",
       " datetime.datetime(2021, 6, 16, 0, 0),\n",
       " datetime.datetime(2021, 12, 5, 0, 0),\n",
       " datetime.datetime(2022, 10, 9, 0, 0),\n",
       " 45221,\n",
       " datetime.datetime(2024, 1, 21, 0, 0),\n",
       " datetime.datetime(2023, 2, 18, 0, 0),\n",
       " datetime.datetime(2023, 8, 12, 0, 0),\n",
       " datetime.datetime(2020, 9, 30, 0, 0),\n",
       " datetime.datetime(2021, 11, 30, 0, 0),\n",
       " datetime.datetime(2024, 6, 1, 0, 0),\n",
       " datetime.datetime(2024, 1, 13, 0, 0),\n",
       " datetime.datetime(2021, 12, 3, 0, 0),\n",
       " datetime.datetime(2022, 12, 27, 0, 0),\n",
       " datetime.datetime(2023, 8, 11, 0, 0),\n",
       " datetime.datetime(2021, 6, 24, 0, 0),\n",
       " datetime.datetime(2020, 1, 31, 0, 0),\n",
       " datetime.datetime(2024, 6, 30, 0, 0),\n",
       " datetime.datetime(2022, 6, 25, 0, 0),\n",
       " datetime.datetime(2021, 3, 30, 0, 0),\n",
       " datetime.datetime(2021, 12, 30, 0, 0),\n",
       " datetime.datetime(2024, 5, 13, 0, 0),\n",
       " datetime.datetime(2022, 12, 1, 0, 0),\n",
       " datetime.datetime(2023, 10, 22, 0, 0)]"
      ]
     },
     "execution_count": 24,
     "metadata": {},
     "output_type": "execute_result"
    }
   ],
   "source": [
    "df_allocation.LED.unique().tolist()"
   ]
  },
  {
   "cell_type": "code",
   "execution_count": 25,
   "id": "184fdd19-676a-41e6-93b0-714be8127395",
   "metadata": {},
   "outputs": [],
   "source": [
    "#changing some of the dates\n",
    "df_allocation[\"Allocation_Date\"].replace({'October 15, 2018\\nSeptember 30, 2021': '2018-10-15 00:00:00',\n",
    " '2/1/2021\\n\\n10/31/2022':'2021-02-01 00:00:00', '45211':'2023-10-22'}, inplace =True)"
   ]
  },
  {
   "cell_type": "code",
   "execution_count": 26,
   "id": "e13bf2d2-9c0c-45a7-b86b-9ab10917abf4",
   "metadata": {
    "scrolled": true,
    "tags": []
   },
   "outputs": [
    {
     "data": {
      "text/plain": [
       "[datetime.datetime(2015, 10, 22, 0, 0),\n",
       " datetime.datetime(2016, 5, 19, 0, 0),\n",
       " datetime.datetime(2016, 6, 30, 0, 0),\n",
       " datetime.datetime(2015, 12, 10, 0, 0),\n",
       " datetime.datetime(2015, 8, 27, 0, 0),\n",
       " datetime.datetime(2016, 1, 21, 0, 0),\n",
       " datetime.datetime(2017, 6, 29, 0, 0),\n",
       " datetime.datetime(2016, 10, 20, 0, 0),\n",
       " datetime.datetime(2017, 8, 17, 0, 0),\n",
       " datetime.datetime(2018, 1, 31, 0, 0),\n",
       " datetime.datetime(2017, 1, 19, 0, 0),\n",
       " datetime.datetime(2016, 3, 17, 0, 0),\n",
       " datetime.datetime(2017, 3, 16, 0, 0),\n",
       " datetime.datetime(2017, 5, 17, 0, 0),\n",
       " datetime.datetime(2018, 8, 16, 0, 0),\n",
       " 'TBD',\n",
       " datetime.datetime(2021, 6, 24, 0, 0),\n",
       " datetime.datetime(2016, 12, 8, 0, 0),\n",
       " datetime.datetime(2020, 6, 25, 0, 0),\n",
       " datetime.datetime(2019, 12, 5, 0, 0),\n",
       " datetime.datetime(2018, 10, 18, 0, 0),\n",
       " datetime.datetime(2021, 1, 28, 0, 0),\n",
       " nan,\n",
       " datetime.datetime(2018, 2, 1, 0, 0),\n",
       " datetime.datetime(2018, 5, 17, 0, 0),\n",
       " 'FY 26/27',\n",
       " datetime.datetime(2017, 5, 18, 0, 0),\n",
       " datetime.datetime(2018, 6, 28, 0, 0),\n",
       " datetime.datetime(2020, 10, 22, 0, 0),\n",
       " datetime.datetime(2018, 12, 6, 0, 0),\n",
       " datetime.datetime(2019, 10, 9, 0, 0),\n",
       " datetime.datetime(2020, 5, 14, 0, 0),\n",
       " datetime.datetime(2021, 5, 14, 0, 0),\n",
       " datetime.datetime(2019, 6, 27, 0, 0),\n",
       " datetime.datetime(2021, 3, 13, 0, 0),\n",
       " datetime.datetime(2020, 1, 30, 0, 0),\n",
       " datetime.datetime(2021, 6, 25, 0, 0),\n",
       " datetime.datetime(2019, 5, 16, 0, 0),\n",
       " datetime.datetime(2020, 12, 3, 0, 0),\n",
       " '08/12//20',\n",
       " datetime.datetime(2020, 8, 12, 0, 0),\n",
       " datetime.datetime(2018, 8, 15, 0, 0),\n",
       " datetime.datetime(2021, 8, 19, 0, 0),\n",
       " datetime.datetime(2019, 3, 14, 0, 0),\n",
       " datetime.datetime(2020, 3, 26, 0, 0),\n",
       " datetime.datetime(2019, 1, 31, 0, 0),\n",
       " datetime.datetime(2021, 3, 25, 0, 0),\n",
       " datetime.datetime(2019, 8, 15, 0, 0),\n",
       " datetime.datetime(2021, 5, 13, 0, 0),\n",
       " 'FY 21/22',\n",
       " datetime.datetime(2020, 8, 13, 0, 0),\n",
       " 'FY 22/23',\n",
       " 'FY 20/21',\n",
       " 'FY 23/24',\n",
       " 'FY 25/26',\n",
       " 'FY 24/25']"
      ]
     },
     "execution_count": 26,
     "metadata": {},
     "output_type": "execute_result"
    }
   ],
   "source": [
    "#cleaning up allocation dates\n",
    "df_allocation.Allocation_Date.unique().tolist()"
   ]
  },
  {
   "cell_type": "code",
   "execution_count": 27,
   "id": "efe2e868-e3ad-426b-916f-81db7f729669",
   "metadata": {
    "tags": []
   },
   "outputs": [],
   "source": [
    "#Had to change FY to an actual date \n",
    "df_allocation[\"Allocation_Date\"].replace({\"FY 26/27\": \"2026-12-31\", \"08/12//20\": '2020-08-12 00:00:00', 'FY 21/22': '2021-12-31',\n",
    "                                         'FY 22/23': '2022-12-31','FY 20/21': '2020-12-31', 'FY 23/24': '2023-12-31','FY 24/25': '2024-12-31','FY 25/26': '2025-12-31'}, inplace =True)"
   ]
  },
  {
   "cell_type": "code",
   "execution_count": 28,
   "id": "8620367d-37c0-4eb8-b19d-ffe588e2fe67",
   "metadata": {},
   "outputs": [],
   "source": [
    "#clean up columns in a loop\n",
    "for i in [\"Allocation_Date\", \"Third_Party_Award_Date\", \"Completion_Date\", \"LED\"]:\n",
    "    df_allocation[i] = df_allocation[i].replace('/', '-', regex = True).replace('Complete', '', regex = True).replace('\\n', '', regex=True).replace('Pending','TBD',regex= True).fillna('TBD')"
   ]
  },
  {
   "cell_type": "code",
   "execution_count": 29,
   "id": "1254e1c2-d532-4a61-93ae-a3ae759caf15",
   "metadata": {
    "scrolled": true,
    "tags": []
   },
   "outputs": [
    {
     "data": {
      "text/plain": [
       "[datetime.datetime(2022, 3, 30, 0, 0),\n",
       " '6-1-2019',\n",
       " datetime.datetime(2021, 6, 30, 0, 0),\n",
       " datetime.datetime(2018, 9, 30, 0, 0),\n",
       " '2-11-2018',\n",
       " '6-30-2020',\n",
       " datetime.datetime(2020, 9, 30, 0, 0),\n",
       " ' 6-30-2018',\n",
       " '6-29-2020',\n",
       " '11-1-2019',\n",
       " ' 12-10-2018',\n",
       " ' 11-13-2019',\n",
       " '3-30-2020',\n",
       " datetime.datetime(2022, 9, 30, 0, 0),\n",
       " datetime.datetime(2021, 12, 30, 0, 0),\n",
       " datetime.datetime(2021, 9, 30, 0, 0),\n",
       " '5-16-2020',\n",
       " datetime.datetime(2024, 6, 30, 0, 0),\n",
       " 'TBD',\n",
       " 'June 24. 2024',\n",
       " datetime.datetime(2022, 12, 30, 0, 0),\n",
       " datetime.datetime(2024, 6, 24, 0, 0),\n",
       " '11-21-20247-30-2025 (Q4)',\n",
       " datetime.datetime(2022, 6, 30, 0, 0),\n",
       " datetime.datetime(2019, 5, 21, 0, 0),\n",
       " datetime.datetime(2024, 7, 25, 0, 0),\n",
       " datetime.datetime(2021, 12, 31, 0, 0),\n",
       " datetime.datetime(2024, 1, 28, 0, 0),\n",
       " datetime.datetime(2022, 10, 31, 0, 0),\n",
       " datetime.datetime(2022, 1, 16, 0, 0),\n",
       " datetime.datetime(2018, 2, 1, 0, 0),\n",
       " datetime.datetime(2022, 8, 22, 0, 0),\n",
       " datetime.datetime(2022, 7, 31, 0, 0),\n",
       " '5-7-2020',\n",
       " datetime.datetime(2022, 1, 1, 0, 0),\n",
       " datetime.datetime(2021, 4, 20, 0, 0),\n",
       " datetime.datetime(2030, 6, 1, 0, 0),\n",
       " datetime.datetime(2027, 12, 1, 0, 0),\n",
       " datetime.datetime(2024, 4, 1, 0, 0),\n",
       " datetime.datetime(2021, 10, 1, 0, 0),\n",
       " ' 6-30-2020',\n",
       " datetime.datetime(2023, 6, 30, 0, 0),\n",
       " datetime.datetime(2023, 4, 3, 0, 0),\n",
       " datetime.datetime(2021, 7, 31, 0, 0),\n",
       " datetime.datetime(2023, 7, 13, 0, 0),\n",
       " datetime.datetime(2022, 1, 7, 0, 0),\n",
       " datetime.datetime(2030, 1, 1, 0, 0),\n",
       " datetime.datetime(2022, 2, 16, 0, 0),\n",
       " datetime.datetime(2021, 12, 26, 0, 0),\n",
       " datetime.datetime(2021, 12, 25, 0, 0),\n",
       " datetime.datetime(2020, 11, 30, 0, 0),\n",
       " datetime.datetime(2021, 12, 23, 0, 0),\n",
       " datetime.datetime(2023, 6, 25, 0, 0),\n",
       " datetime.datetime(2022, 10, 1, 0, 0),\n",
       " datetime.datetime(2023, 2, 3, 0, 0),\n",
       " datetime.datetime(2022, 2, 8, 0, 0),\n",
       " datetime.datetime(2025, 1, 31, 0, 0),\n",
       " datetime.datetime(2025, 1, 1, 0, 0),\n",
       " 'Jun-26',\n",
       " 'Jun-29',\n",
       " datetime.datetime(2030, 6, 30, 0, 0),\n",
       " datetime.datetime(2031, 6, 30, 0, 0),\n",
       " datetime.datetime(2023, 11, 30, 0, 0),\n",
       " '11-12-2019',\n",
       " datetime.datetime(2022, 10, 9, 0, 0),\n",
       " datetime.datetime(2023, 10, 22, 0, 0),\n",
       " datetime.datetime(2023, 12, 1, 0, 0),\n",
       " datetime.datetime(2024, 1, 21, 0, 0),\n",
       " datetime.datetime(2024, 12, 1, 0, 0),\n",
       " datetime.datetime(2024, 12, 24, 0, 0),\n",
       " datetime.datetime(2025, 12, 1, 0, 0),\n",
       " datetime.datetime(2023, 5, 23, 0, 0),\n",
       " datetime.datetime(2023, 5, 1, 0, 0),\n",
       " datetime.datetime(2023, 12, 23, 0, 0),\n",
       " datetime.datetime(2024, 3, 1, 0, 0),\n",
       " datetime.datetime(2024, 6, 1, 0, 0),\n",
       " datetime.datetime(2021, 12, 6, 0, 0),\n",
       " datetime.datetime(2026, 12, 1, 0, 0),\n",
       " datetime.datetime(2021, 4, 30, 0, 0),\n",
       " 'Deallocated',\n",
       " datetime.datetime(2021, 1, 29, 0, 0),\n",
       " datetime.datetime(2022, 11, 30, 0, 0),\n",
       " 'Jun-28',\n",
       " datetime.datetime(2026, 2, 12, 0, 0),\n",
       " datetime.datetime(2022, 6, 27, 0, 0),\n",
       " datetime.datetime(2022, 11, 13, 0, 0),\n",
       " 'Jun-25',\n",
       " datetime.datetime(2024, 1, 13, 0, 0),\n",
       " datetime.datetime(2024, 12, 31, 0, 0),\n",
       " datetime.datetime(2022, 12, 27, 0, 0),\n",
       " datetime.datetime(2023, 8, 11, 0, 0),\n",
       " '1-31-2020',\n",
       " datetime.datetime(2021, 8, 16, 0, 0),\n",
       " datetime.datetime(2023, 7, 1, 0, 0),\n",
       " datetime.datetime(2023, 5, 4, 0, 0),\n",
       " datetime.datetime(2025, 9, 30, 0, 0),\n",
       " datetime.datetime(2021, 12, 1, 0, 0),\n",
       " datetime.datetime(2022, 6, 25, 0, 0),\n",
       " datetime.datetime(2024, 3, 30, 0, 0),\n",
       " datetime.datetime(2026, 1, 1, 0, 0),\n",
       " '',\n",
       " '8-30-2020',\n",
       " datetime.datetime(2027, 12, 31, 0, 0),\n",
       " 'Jun-23',\n",
       " datetime.datetime(2024, 10, 30, 0, 0),\n",
       " datetime.datetime(2022, 4, 24, 0, 0),\n",
       " datetime.datetime(2023, 8, 12, 0, 0),\n",
       " datetime.datetime(2025, 6, 30, 0, 0),\n",
       " datetime.datetime(2022, 2, 28, 0, 0),\n",
       " datetime.datetime(2026, 11, 1, 0, 0),\n",
       " datetime.datetime(2026, 1, 31, 0, 0),\n",
       " 'Jun-27',\n",
       " datetime.datetime(2026, 12, 31, 0, 0),\n",
       " datetime.datetime(2025, 12, 31, 0, 0),\n",
       " 'Jan-25',\n",
       " datetime.datetime(2025, 3, 1, 0, 0),\n",
       " '6-30-202112-31-2021',\n",
       " datetime.datetime(2025, 6, 1, 0, 0)]"
      ]
     },
     "execution_count": 29,
     "metadata": {},
     "output_type": "execute_result"
    }
   ],
   "source": [
    "df_allocation.Completion_Date.unique().tolist()"
   ]
  },
  {
   "cell_type": "code",
   "execution_count": 30,
   "id": "b56a77c3-9e63-4f53-b1fc-479422944ade",
   "metadata": {
    "tags": []
   },
   "outputs": [],
   "source": [
    "#cleaning up completion dates\n",
    "df_allocation['Completion_Date'].replace({ \n",
    "    'June 24. 2024': '2024-06-01 00:00:00',  \n",
    "    '11/21/2024\\n7/30/2025 (Q4)': '2024-11-21 00:00:00', \n",
    "    'Jun-26': '2026-01-01 00:00:00', \n",
    "     'Jun-29': '2029-06-01 00:00:00',\n",
    "    'Complete\\n11/12/2019': '2019-11-12 00:00:00' , \n",
    "    'Deallocated': '', \n",
    "    'Jun-28': '2028-06-01 00:00:00',  \n",
    "    'Jun-25': '2025-06-01 00:00:00', \n",
    "    'Jun-23':'2023-06-01 00:00:00', \n",
    "    'Jun-27': '2027-06-01 00:00:00',\n",
    "    'Jan-25': '2025-01-01 00:00:00',\n",
    "    '11-21-20247-30-2025 (Q4)':'2025-07-30 00:00:00',\n",
    "    '6-30-202112-31-2021': '2021-12-31 00:00:00',\n",
    "    '6-1-2019': '2019-06-01 00:00:00',\n",
    "    '2-11-2018': '2018-02-11 00:00:00',\n",
    "     '6-30-2020': '2020-06-30 00:00:00',\n",
    "    ' 6-30-2018': '2018-06-30 00:00:00',\n",
    "     '6-29-2020': '2020-06-29 00:00:00',\n",
    "     '11-1-2019': '2019-11-01 00:00:00',\n",
    "     ' 12-10-2018': '2018-12-10 00:00:00',\n",
    "     ' 11-13-2019': '2019-11-13 00:00:00',\n",
    "     '3-30-2020':'2020-03-30 00:00:00',\n",
    "    ' 6-30-2020': '2020-06-30 00:00:00',\n",
    "    '11-12-2019': '2019-11-12 00:00:00',\n",
    "    '1-31-2020': '2020-01-31 00:00:00',\n",
    "    '8-30-2020': '2020-08-30 00:00:00',\n",
    "    '5-16-2020': '2020,05-16 00:00:00',\n",
    "     '5-7-2020': '2020-05-07 00:00:00'}, inplace =True)"
   ]
  },
  {
   "cell_type": "code",
   "execution_count": 31,
   "id": "39598034-5f9f-4968-a22d-dafc2cd54643",
   "metadata": {},
   "outputs": [],
   "source": [
    "#cleaning up 3rd Party dates\n",
    "df_allocation[\"Third_Party_Award_Date\"].replace({ \n",
    "'Augsut 12, 2021': '2021-08-12 00:00:00',\n",
    "'43435': '2018-12-01 00:00:00',\n",
    "'07-29-2020': '2020-07-29 00:00:00',\n",
    "'43497' : '2019-02-01 00:00:00',\n",
    "'TBD 6-24-2021' : 'TBD',\n",
    "'TBD 6-30-2022' : 'TBD'\n",
    "}, inplace =True)"
   ]
  },
  {
   "cell_type": "code",
   "execution_count": 32,
   "id": "a52948d7-352e-44a3-a103-1bbd330ecd43",
   "metadata": {},
   "outputs": [],
   "source": [
    "#coercing to dates\n",
    "df_allocation = df_allocation.assign(\n",
    "    Allocation_Date_New = pd.to_datetime(df_allocation.Allocation_Date, errors=\"coerce\").dt.date,\n",
    "    Third_Party_Award_Date_New = pd.to_datetime(df_allocation.Third_Party_Award_Date, errors=\"coerce\").dt.date,\n",
    "    Completion_Date_New = pd.to_datetime(df_allocation.Completion_Date, errors=\"coerce\").dt.date,\n",
    "    LED_New = pd.to_datetime(df_allocation.LED, errors=\"coerce\").dt.date\n",
    ")"
   ]
  },
  {
   "cell_type": "code",
   "execution_count": 33,
   "id": "d7280cc1-06bd-4cfc-9698-f50ba155ba7f",
   "metadata": {},
   "outputs": [],
   "source": [
    "#drop old columns\n",
    "df_allocation = df_allocation.drop(['PPNO_New2','Allocation_Date','Third_Party_Award_Date','Completion_Date', 'LED'], axis=1)\n",
    "#rename columns\n",
    "df_allocation = df_allocation.rename(columns = {'Allocation_Amount':'Allocation_Allocation_Sheet', 'Allocation_Date_New':'Allocation_Date','Third_Party_Award_Date_New':'Third_Party_Award_Date',\n",
    "                                               'Completion_Date_New': 'Completion_Date','LED_New': 'LED'})"
   ]
  },
  {
   "cell_type": "code",
   "execution_count": 34,
   "id": "6576b983-4062-4f6e-ae3b-f590a0cd57a6",
   "metadata": {},
   "outputs": [
    {
     "data": {
      "text/html": [
       "<div>\n",
       "<style scoped>\n",
       "    .dataframe tbody tr th:only-of-type {\n",
       "        vertical-align: middle;\n",
       "    }\n",
       "\n",
       "    .dataframe tbody tr th {\n",
       "        vertical-align: top;\n",
       "    }\n",
       "\n",
       "    .dataframe thead th {\n",
       "        text-align: right;\n",
       "    }\n",
       "</style>\n",
       "<table border=\"1\" class=\"dataframe\">\n",
       "  <thead>\n",
       "    <tr style=\"text-align: right;\">\n",
       "      <th></th>\n",
       "      <th>Award_Year</th>\n",
       "      <th>Award_Recipient</th>\n",
       "      <th>Implementing_Agency</th>\n",
       "      <th>Allocation_Allocation_Sheet</th>\n",
       "      <th>GGRF_Funding</th>\n",
       "      <th>Phase</th>\n",
       "      <th>Components</th>\n",
       "      <th>SB1_Funding</th>\n",
       "      <th>PPNO</th>\n",
       "      <th>Allocation_Date</th>\n",
       "      <th>Third_Party_Award_Date</th>\n",
       "      <th>Completion_Date</th>\n",
       "      <th>LED</th>\n",
       "    </tr>\n",
       "  </thead>\n",
       "  <tbody>\n",
       "    <tr>\n",
       "      <th>8</th>\n",
       "      <td>2015</td>\n",
       "      <td>San Diego Metropolitan Transit System (MTS)</td>\n",
       "      <td>San Diego Metropolitan Transit System (MTS)</td>\n",
       "      <td>713000.00</td>\n",
       "      <td>713000.00</td>\n",
       "      <td>PS&amp;E</td>\n",
       "      <td>Courthouse Trolley Station (Design)</td>\n",
       "      <td>0.00</td>\n",
       "      <td>CP008</td>\n",
       "      <td>2016-01-21</td>\n",
       "      <td>NaT</td>\n",
       "      <td>2018-06-30</td>\n",
       "      <td>2018-06-30</td>\n",
       "    </tr>\n",
       "    <tr>\n",
       "      <th>9</th>\n",
       "      <td>2015</td>\n",
       "      <td>San Diego Metropolitan Transit System (MTS)</td>\n",
       "      <td>San Diego Metropolitan Transit System (MTS)</td>\n",
       "      <td>3760000.00</td>\n",
       "      <td>3760000.00</td>\n",
       "      <td>CONST</td>\n",
       "      <td>Courthouse Trolley Station (Construction)</td>\n",
       "      <td>0.00</td>\n",
       "      <td>CP008</td>\n",
       "      <td>2017-06-29</td>\n",
       "      <td>2017-05-30</td>\n",
       "      <td>2020-06-29</td>\n",
       "      <td>2020-06-29</td>\n",
       "    </tr>\n",
       "    <tr>\n",
       "      <th>10</th>\n",
       "      <td>2015</td>\n",
       "      <td>San Diego Metropolitan Transit System (MTS)</td>\n",
       "      <td>San Diego Metropolitan Transit System (MTS)</td>\n",
       "      <td>27463000.00</td>\n",
       "      <td>27463000.00</td>\n",
       "      <td>CONST</td>\n",
       "      <td>Purchase 8 trolley vehicles to expand service ...</td>\n",
       "      <td>0.00</td>\n",
       "      <td>CP008</td>\n",
       "      <td>2016-10-20</td>\n",
       "      <td>2016-11-01</td>\n",
       "      <td>2019-11-01</td>\n",
       "      <td>2019-11-01</td>\n",
       "    </tr>\n",
       "  </tbody>\n",
       "</table>\n",
       "</div>"
      ],
      "text/plain": [
       "    Award_Year                              Award_Recipient  \\\n",
       "8         2015  San Diego Metropolitan Transit System (MTS)   \n",
       "9         2015  San Diego Metropolitan Transit System (MTS)   \n",
       "10        2015  San Diego Metropolitan Transit System (MTS)   \n",
       "\n",
       "                            Implementing_Agency  Allocation_Allocation_Sheet  \\\n",
       "8   San Diego Metropolitan Transit System (MTS)                    713000.00   \n",
       "9   San Diego Metropolitan Transit System (MTS)                   3760000.00   \n",
       "10  San Diego Metropolitan Transit System (MTS)                  27463000.00   \n",
       "\n",
       "    GGRF_Funding  Phase                                         Components  \\\n",
       "8      713000.00   PS&E                Courthouse Trolley Station (Design)   \n",
       "9     3760000.00  CONST          Courthouse Trolley Station (Construction)   \n",
       "10   27463000.00  CONST  Purchase 8 trolley vehicles to expand service ...   \n",
       "\n",
       "    SB1_Funding   PPNO Allocation_Date Third_Party_Award_Date Completion_Date  \\\n",
       "8          0.00  CP008      2016-01-21                    NaT      2018-06-30   \n",
       "9          0.00  CP008      2017-06-29             2017-05-30      2020-06-29   \n",
       "10         0.00  CP008      2016-10-20             2016-11-01      2019-11-01   \n",
       "\n",
       "           LED  \n",
       "8   2018-06-30  \n",
       "9   2020-06-29  \n",
       "10  2019-11-01  "
      ]
     },
     "execution_count": 34,
     "metadata": {},
     "output_type": "execute_result"
    }
   ],
   "source": [
    "#just checking\n",
    "df_allocation[(df_allocation.PPNO.str.contains(\"CP008\", case= False))]"
   ]
  },
  {
   "cell_type": "markdown",
   "id": "9f323787-b691-45cb-b95e-58329f644480",
   "metadata": {},
   "source": [
    "# Cleaning Project Sheet\n",
    "\n"
   ]
  },
  {
   "cell_type": "markdown",
   "id": "970b5f71-401e-42dd-a7a5-e3d2cc657382",
   "metadata": {},
   "source": [
    "## Filling NA for TIRCP and Expended Amounts"
   ]
  },
  {
   "cell_type": "code",
   "execution_count": 35,
   "id": "687150e8-15f8-4624-978a-f9f3a4a250de",
   "metadata": {},
   "outputs": [
    {
     "name": "stderr",
     "output_type": "stream",
     "text": [
      "/opt/conda/lib/python3.9/site-packages/pandas/core/frame.py:3641: SettingWithCopyWarning: \n",
      "A value is trying to be set on a copy of a slice from a DataFrame.\n",
      "Try using .loc[row_indexer,col_indexer] = value instead\n",
      "\n",
      "See the caveats in the documentation: https://pandas.pydata.org/pandas-docs/stable/user_guide/indexing.html#returning-a-view-versus-a-copy\n",
      "  self[k1] = value[k2]\n"
     ]
    }
   ],
   "source": [
    "df_project[['TIRCP_Award_Amount_($)', 'Expended_Amount']] = df_project[['TIRCP_Award_Amount_($)', 'Expended_Amount']].fillna(value=0)"
   ]
  },
  {
   "cell_type": "code",
   "execution_count": 36,
   "id": "453f95cc-120b-40c2-92c8-f3a96d5e8fbd",
   "metadata": {},
   "outputs": [
    {
     "data": {
      "text/plain": [
       "Award_Year                0\n",
       "Project_#                 0\n",
       "Local_Agency              0\n",
       "Project_Title             0\n",
       "PPNO                      5\n",
       "Key_Project_Elements      0\n",
       "TIRCP_Award_Amount_($)    0\n",
       "Expended_Amount           0\n",
       "Allocated_Amount          0\n",
       "dtype: int64"
      ]
     },
     "execution_count": 36,
     "metadata": {},
     "output_type": "execute_result"
    }
   ],
   "source": [
    "#checking for nas\n",
    "df_project.isna().sum()"
   ]
  },
  {
   "cell_type": "markdown",
   "id": "e238629d-6831-42d1-8add-c3e10555ed30",
   "metadata": {
    "tags": []
   },
   "source": [
    "## Cleaning up PPNO Numbers based on Allocation Sheet"
   ]
  },
  {
   "cell_type": "code",
   "execution_count": 37,
   "id": "40ce6a99-7803-4afb-b1f1-98c0a055f85a",
   "metadata": {},
   "outputs": [],
   "source": [
    "#slicing PPNO to be 5 characters\n",
    "df_project = df_project.assign(PPNO_New = df_project['PPNO'].str.slice(start=0, stop=5)) "
   ]
  },
  {
   "cell_type": "code",
   "execution_count": 38,
   "id": "2346df5d-4202-443f-a8a6-ab1549f76137",
   "metadata": {},
   "outputs": [],
   "source": [
    "#importing Excel crosswalk sheet\n",
    "FILE_NAME3 = \"Projects_PPNO.xlsx\"\n",
    "project_ppno = pd.read_excel(f\"{GCS_FILE_PATH}{FILE_NAME3}\")"
   ]
  },
  {
   "cell_type": "code",
   "execution_count": 39,
   "id": "e36ba00e-ec8a-4aa5-94ac-9dd81723cfbb",
   "metadata": {},
   "outputs": [],
   "source": [
    "#Merge in Crosswalk \n",
    "df_project2 = pd.merge(df_project, project_ppno, on = [\"Award_Year\", \"Local_Agency\"], how = \"left\")"
   ]
  },
  {
   "cell_type": "code",
   "execution_count": 40,
   "id": "c8397382-0f28-4c00-b0ad-3e6451794601",
   "metadata": {},
   "outputs": [],
   "source": [
    "#some values in PPNO and PPNO_New2 are strings, some are floats...so have to convert PPNO New 2 to strings\n",
    "df_project2.PPNO_New = df_project2.apply(lambda x: x.PPNO_New if (str(x.PPNO_New2) == 'nan') else x.PPNO_New2, axis=1)"
   ]
  },
  {
   "cell_type": "code",
   "execution_count": 41,
   "id": "511ebeb5-7850-4824-8711-1b5e9b16dbff",
   "metadata": {},
   "outputs": [],
   "source": [
    "#making sure PPNO_New is a string \n",
    "df_project2 = df_project2.astype({'PPNO_New': 'str'})"
   ]
  },
  {
   "cell_type": "code",
   "execution_count": 42,
   "id": "e15b679e-ad35-439f-bcd0-12aff1592c98",
   "metadata": {
    "scrolled": true,
    "tags": []
   },
   "outputs": [],
   "source": [
    "PPNO_project = set(df_project2.PPNO_New.unique().tolist())\n",
    "PPNO_allocation = set(df_allocation.PPNO.unique().tolist())"
   ]
  },
  {
   "cell_type": "code",
   "execution_count": 43,
   "id": "d9c6c1a5-afd3-405f-b28e-2e1eda7dd1f0",
   "metadata": {
    "scrolled": true,
    "tags": []
   },
   "outputs": [
    {
     "data": {
      "text/plain": [
       "set()"
      ]
     },
     "execution_count": 43,
     "metadata": {},
     "output_type": "execute_result"
    }
   ],
   "source": [
    "#checking for differences - none. yay. \n",
    "PPNO_project - PPNO_allocation"
   ]
  },
  {
   "cell_type": "code",
   "execution_count": 44,
   "id": "f40d57f8-3214-499c-9993-530b958a925c",
   "metadata": {},
   "outputs": [
    {
     "data": {
      "text/html": [
       "<div>\n",
       "<style scoped>\n",
       "    .dataframe tbody tr th:only-of-type {\n",
       "        vertical-align: middle;\n",
       "    }\n",
       "\n",
       "    .dataframe tbody tr th {\n",
       "        vertical-align: top;\n",
       "    }\n",
       "\n",
       "    .dataframe thead th {\n",
       "        text-align: right;\n",
       "    }\n",
       "</style>\n",
       "<table border=\"1\" class=\"dataframe\">\n",
       "  <thead>\n",
       "    <tr style=\"text-align: right;\">\n",
       "      <th></th>\n",
       "      <th>Award_Year</th>\n",
       "      <th>Project_#</th>\n",
       "      <th>Local_Agency</th>\n",
       "      <th>Project_Title</th>\n",
       "      <th>PPNO</th>\n",
       "      <th>Key_Project_Elements</th>\n",
       "      <th>TIRCP_Award_Amount_($)</th>\n",
       "      <th>Expended_Amount</th>\n",
       "      <th>Allocated_Amount</th>\n",
       "      <th>PPNO_New</th>\n",
       "      <th>PPNO_New2</th>\n",
       "    </tr>\n",
       "  </thead>\n",
       "  <tbody>\n",
       "    <tr>\n",
       "      <th>0</th>\n",
       "      <td>2015</td>\n",
       "      <td>1</td>\n",
       "      <td>Antelope Valley Transit Authority (AVTA)</td>\n",
       "      <td>Regional Transit Interconnectivity &amp; Environme...</td>\n",
       "      <td>CP005</td>\n",
       "      <td>Purchase 13 60-foot articulated BRT buses and ...</td>\n",
       "      <td>24403000.00</td>\n",
       "      <td>21714177.53</td>\n",
       "      <td>24403000</td>\n",
       "      <td>CP005</td>\n",
       "      <td>NaN</td>\n",
       "    </tr>\n",
       "    <tr>\n",
       "      <th>1</th>\n",
       "      <td>2015</td>\n",
       "      <td>2</td>\n",
       "      <td>Capitol Corridor Joint Powers Authority</td>\n",
       "      <td>Travel Time Reduction Project</td>\n",
       "      <td>CP012</td>\n",
       "      <td>Track and curve improvements between San Jose ...</td>\n",
       "      <td>4620000.00</td>\n",
       "      <td>4619999.90</td>\n",
       "      <td>4620000</td>\n",
       "      <td>CP012</td>\n",
       "      <td>NaN</td>\n",
       "    </tr>\n",
       "  </tbody>\n",
       "</table>\n",
       "</div>"
      ],
      "text/plain": [
       "   Award_Year  Project_#                              Local_Agency  \\\n",
       "0        2015          1  Antelope Valley Transit Authority (AVTA)   \n",
       "1        2015          2   Capitol Corridor Joint Powers Authority   \n",
       "\n",
       "                                       Project_Title   PPNO  \\\n",
       "0  Regional Transit Interconnectivity & Environme...  CP005   \n",
       "1                      Travel Time Reduction Project  CP012   \n",
       "\n",
       "                                Key_Project_Elements  TIRCP_Award_Amount_($)  \\\n",
       "0  Purchase 13 60-foot articulated BRT buses and ...             24403000.00   \n",
       "1  Track and curve improvements between San Jose ...              4620000.00   \n",
       "\n",
       "   Expended_Amount  Allocated_Amount PPNO_New PPNO_New2  \n",
       "0      21714177.53          24403000    CP005       NaN  \n",
       "1       4619999.90           4620000    CP012       NaN  "
      ]
     },
     "execution_count": 44,
     "metadata": {},
     "output_type": "execute_result"
    }
   ],
   "source": [
    "df_project2.head(2)"
   ]
  },
  {
   "cell_type": "code",
   "execution_count": 45,
   "id": "4dc3386d-5cb3-43cf-b69e-f6442b66b90c",
   "metadata": {},
   "outputs": [],
   "source": [
    "#drop old column\n",
    "df_project2 = df_project2.drop(['PPNO', 'PPNO_New2'], axis=1)"
   ]
  },
  {
   "cell_type": "code",
   "execution_count": 46,
   "id": "557853bb-ad1c-4969-9e50-b6c91f2d9b5b",
   "metadata": {},
   "outputs": [],
   "source": [
    "#renaming to something neater\n",
    "df_project2 = df_project2.rename(columns = {'PPNO_New':'PPNO', 'Allocated_Amount':'Allocation_Amount_PROJECT'})"
   ]
  },
  {
   "cell_type": "code",
   "execution_count": 47,
   "id": "9eedfabc-d255-488a-979e-1b3ec0b993b7",
   "metadata": {},
   "outputs": [
    {
     "data": {
      "text/html": [
       "<div>\n",
       "<style scoped>\n",
       "    .dataframe tbody tr th:only-of-type {\n",
       "        vertical-align: middle;\n",
       "    }\n",
       "\n",
       "    .dataframe tbody tr th {\n",
       "        vertical-align: top;\n",
       "    }\n",
       "\n",
       "    .dataframe thead th {\n",
       "        text-align: right;\n",
       "    }\n",
       "</style>\n",
       "<table border=\"1\" class=\"dataframe\">\n",
       "  <thead>\n",
       "    <tr style=\"text-align: right;\">\n",
       "      <th></th>\n",
       "      <th>Award_Year</th>\n",
       "      <th>Award_Recipient</th>\n",
       "      <th>Implementing_Agency</th>\n",
       "      <th>Allocation_Allocation_Sheet</th>\n",
       "      <th>GGRF_Funding</th>\n",
       "      <th>Phase</th>\n",
       "      <th>Components</th>\n",
       "      <th>SB1_Funding</th>\n",
       "      <th>PPNO</th>\n",
       "      <th>Allocation_Date</th>\n",
       "      <th>Third_Party_Award_Date</th>\n",
       "      <th>Completion_Date</th>\n",
       "      <th>LED</th>\n",
       "    </tr>\n",
       "  </thead>\n",
       "  <tbody>\n",
       "    <tr>\n",
       "      <th>0</th>\n",
       "      <td>2015</td>\n",
       "      <td>Antelope Valley Transit Authority</td>\n",
       "      <td>Antelope Valley Transit Authority</td>\n",
       "      <td>24403000.00</td>\n",
       "      <td>24403000.00</td>\n",
       "      <td>CONST</td>\n",
       "      <td>Purchase 13 60-foot articulated BRT buses and ...</td>\n",
       "      <td>0.00</td>\n",
       "      <td>CP005</td>\n",
       "      <td>2015-10-22</td>\n",
       "      <td>2016-03-14</td>\n",
       "      <td>2022-03-30</td>\n",
       "      <td>2022-03-31</td>\n",
       "    </tr>\n",
       "    <tr>\n",
       "      <th>1</th>\n",
       "      <td>2015</td>\n",
       "      <td>Capitol Corridor Joint Powers Authority</td>\n",
       "      <td>Capitol Corridor Joint Powers Authority</td>\n",
       "      <td>4620000.00</td>\n",
       "      <td>4620000.00</td>\n",
       "      <td>CONST</td>\n",
       "      <td>Track and curve improvements between San Jose ...</td>\n",
       "      <td>0.00</td>\n",
       "      <td>CP012</td>\n",
       "      <td>2016-05-19</td>\n",
       "      <td>2016-06-01</td>\n",
       "      <td>2019-06-01</td>\n",
       "      <td>2019-06-01</td>\n",
       "    </tr>\n",
       "  </tbody>\n",
       "</table>\n",
       "</div>"
      ],
      "text/plain": [
       "   Award_Year                          Award_Recipient  \\\n",
       "0        2015       Antelope Valley Transit Authority    \n",
       "1        2015  Capitol Corridor Joint Powers Authority   \n",
       "\n",
       "                       Implementing_Agency  Allocation_Allocation_Sheet  \\\n",
       "0       Antelope Valley Transit Authority                   24403000.00   \n",
       "1  Capitol Corridor Joint Powers Authority                   4620000.00   \n",
       "\n",
       "   GGRF_Funding  Phase                                         Components  \\\n",
       "0   24403000.00  CONST  Purchase 13 60-foot articulated BRT buses and ...   \n",
       "1    4620000.00  CONST  Track and curve improvements between San Jose ...   \n",
       "\n",
       "   SB1_Funding   PPNO Allocation_Date Third_Party_Award_Date Completion_Date  \\\n",
       "0         0.00  CP005      2015-10-22             2016-03-14      2022-03-30   \n",
       "1         0.00  CP012      2016-05-19             2016-06-01      2019-06-01   \n",
       "\n",
       "          LED  \n",
       "0  2022-03-31  \n",
       "1  2019-06-01  "
      ]
     },
     "execution_count": 47,
     "metadata": {},
     "output_type": "execute_result"
    }
   ],
   "source": [
    "df_allocation.head(2)"
   ]
  },
  {
   "cell_type": "markdown",
   "id": "b22cfcbd-8792-428f-8a2c-4637765f89be",
   "metadata": {},
   "source": [
    "# Merging Project & Allocations\n",
    "* Merge on PPNO & Award_Year\n",
    "* Proper way to drop duplicates\n",
    "* Use https://docs.python.org/3/library/uuid.html to identify each row or row number or grab .index and put it ina column."
   ]
  },
  {
   "cell_type": "code",
   "execution_count": 48,
   "id": "a02e2cbd-779b-4d17-822d-40d63678b105",
   "metadata": {},
   "outputs": [],
   "source": [
    "#merge on left for projects.\n",
    "df_combined = df_project2.merge(df_allocation, how = \"left\", on = [\"PPNO\", \"Award_Year\"])"
   ]
  },
  {
   "cell_type": "code",
   "execution_count": 49,
   "id": "ab98fccf-c3c1-43e4-a845-8ae8b5d00680",
   "metadata": {},
   "outputs": [
    {
     "data": {
      "text/plain": [
       "(286, 20)"
      ]
     },
     "execution_count": 49,
     "metadata": {},
     "output_type": "execute_result"
    }
   ],
   "source": [
    "df_combined.shape"
   ]
  },
  {
   "cell_type": "code",
   "execution_count": 50,
   "id": "b67be376-70ef-406d-b817-88ab6369742e",
   "metadata": {},
   "outputs": [],
   "source": [
    "df_combined2 = df_combined.drop_duplicates() #how should I drop duplicates?"
   ]
  },
  {
   "cell_type": "code",
   "execution_count": 51,
   "id": "0960814d-be64-45b1-844c-562b153a50a8",
   "metadata": {},
   "outputs": [
    {
     "data": {
      "text/plain": [
       "(266, 20)"
      ]
     },
     "execution_count": 51,
     "metadata": {},
     "output_type": "execute_result"
    }
   ],
   "source": [
    "df_combined2.shape"
   ]
  },
  {
   "cell_type": "code",
   "execution_count": 52,
   "id": "7ece0111-f2aa-45c8-8d3f-88b24420805a",
   "metadata": {},
   "outputs": [
    {
     "data": {
      "text/html": [
       "<div>\n",
       "<style scoped>\n",
       "    .dataframe tbody tr th:only-of-type {\n",
       "        vertical-align: middle;\n",
       "    }\n",
       "\n",
       "    .dataframe tbody tr th {\n",
       "        vertical-align: top;\n",
       "    }\n",
       "\n",
       "    .dataframe thead th {\n",
       "        text-align: right;\n",
       "    }\n",
       "</style>\n",
       "<table border=\"1\" class=\"dataframe\">\n",
       "  <thead>\n",
       "    <tr style=\"text-align: right;\">\n",
       "      <th></th>\n",
       "      <th>Award_Year</th>\n",
       "      <th>Project_#</th>\n",
       "      <th>Local_Agency</th>\n",
       "      <th>Project_Title</th>\n",
       "      <th>Key_Project_Elements</th>\n",
       "      <th>TIRCP_Award_Amount_($)</th>\n",
       "      <th>Expended_Amount</th>\n",
       "      <th>Allocation_Amount_PROJECT</th>\n",
       "      <th>PPNO</th>\n",
       "      <th>Award_Recipient</th>\n",
       "      <th>Implementing_Agency</th>\n",
       "      <th>Allocation_Allocation_Sheet</th>\n",
       "      <th>GGRF_Funding</th>\n",
       "      <th>Phase</th>\n",
       "      <th>Components</th>\n",
       "      <th>SB1_Funding</th>\n",
       "      <th>Allocation_Date</th>\n",
       "      <th>Third_Party_Award_Date</th>\n",
       "      <th>Completion_Date</th>\n",
       "      <th>LED</th>\n",
       "    </tr>\n",
       "  </thead>\n",
       "  <tbody>\n",
       "    <tr>\n",
       "      <th>0</th>\n",
       "      <td>2015</td>\n",
       "      <td>1</td>\n",
       "      <td>Antelope Valley Transit Authority (AVTA)</td>\n",
       "      <td>Regional Transit Interconnectivity &amp; Environme...</td>\n",
       "      <td>Purchase 13 60-foot articulated BRT buses and ...</td>\n",
       "      <td>24403000.00</td>\n",
       "      <td>21714177.53</td>\n",
       "      <td>24403000</td>\n",
       "      <td>CP005</td>\n",
       "      <td>Antelope Valley Transit Authority</td>\n",
       "      <td>Antelope Valley Transit Authority</td>\n",
       "      <td>24403000.00</td>\n",
       "      <td>24403000.00</td>\n",
       "      <td>CONST</td>\n",
       "      <td>Purchase 13 60-foot articulated BRT buses and ...</td>\n",
       "      <td>0.00</td>\n",
       "      <td>2015-10-22</td>\n",
       "      <td>2016-03-14</td>\n",
       "      <td>2022-03-30</td>\n",
       "      <td>2022-03-31</td>\n",
       "    </tr>\n",
       "    <tr>\n",
       "      <th>1</th>\n",
       "      <td>2015</td>\n",
       "      <td>2</td>\n",
       "      <td>Capitol Corridor Joint Powers Authority</td>\n",
       "      <td>Travel Time Reduction Project</td>\n",
       "      <td>Track and curve improvements between San Jose ...</td>\n",
       "      <td>4620000.00</td>\n",
       "      <td>4619999.90</td>\n",
       "      <td>4620000</td>\n",
       "      <td>CP012</td>\n",
       "      <td>Capitol Corridor Joint Powers Authority</td>\n",
       "      <td>Capitol Corridor Joint Powers Authority</td>\n",
       "      <td>4620000.00</td>\n",
       "      <td>4620000.00</td>\n",
       "      <td>CONST</td>\n",
       "      <td>Track and curve improvements between San Jose ...</td>\n",
       "      <td>0.00</td>\n",
       "      <td>2016-05-19</td>\n",
       "      <td>2016-06-01</td>\n",
       "      <td>2019-06-01</td>\n",
       "      <td>2019-06-01</td>\n",
       "    </tr>\n",
       "  </tbody>\n",
       "</table>\n",
       "</div>"
      ],
      "text/plain": [
       "   Award_Year  Project_#                              Local_Agency  \\\n",
       "0        2015          1  Antelope Valley Transit Authority (AVTA)   \n",
       "1        2015          2   Capitol Corridor Joint Powers Authority   \n",
       "\n",
       "                                       Project_Title  \\\n",
       "0  Regional Transit Interconnectivity & Environme...   \n",
       "1                      Travel Time Reduction Project   \n",
       "\n",
       "                                Key_Project_Elements  TIRCP_Award_Amount_($)  \\\n",
       "0  Purchase 13 60-foot articulated BRT buses and ...             24403000.00   \n",
       "1  Track and curve improvements between San Jose ...              4620000.00   \n",
       "\n",
       "   Expended_Amount  Allocation_Amount_PROJECT   PPNO  \\\n",
       "0      21714177.53                   24403000  CP005   \n",
       "1       4619999.90                    4620000  CP012   \n",
       "\n",
       "                           Award_Recipient  \\\n",
       "0       Antelope Valley Transit Authority    \n",
       "1  Capitol Corridor Joint Powers Authority   \n",
       "\n",
       "                       Implementing_Agency  Allocation_Allocation_Sheet  \\\n",
       "0       Antelope Valley Transit Authority                   24403000.00   \n",
       "1  Capitol Corridor Joint Powers Authority                   4620000.00   \n",
       "\n",
       "   GGRF_Funding  Phase                                         Components  \\\n",
       "0   24403000.00  CONST  Purchase 13 60-foot articulated BRT buses and ...   \n",
       "1    4620000.00  CONST  Track and curve improvements between San Jose ...   \n",
       "\n",
       "   SB1_Funding Allocation_Date Third_Party_Award_Date Completion_Date  \\\n",
       "0         0.00      2015-10-22             2016-03-14      2022-03-30   \n",
       "1         0.00      2016-05-19             2016-06-01      2019-06-01   \n",
       "\n",
       "          LED  \n",
       "0  2022-03-31  \n",
       "1  2019-06-01  "
      ]
     },
     "execution_count": 52,
     "metadata": {},
     "output_type": "execute_result"
    }
   ],
   "source": [
    "df_combined2.head(2)"
   ]
  },
  {
   "cell_type": "code",
   "execution_count": 53,
   "id": "5dceb2db-51fd-4711-bdf1-f9698bfe1191",
   "metadata": {},
   "outputs": [
    {
     "name": "stderr",
     "output_type": "stream",
     "text": [
      "/opt/conda/lib/python3.9/site-packages/pandas/core/frame.py:3641: SettingWithCopyWarning: \n",
      "A value is trying to be set on a copy of a slice from a DataFrame.\n",
      "Try using .loc[row_indexer,col_indexer] = value instead\n",
      "\n",
      "See the caveats in the documentation: https://pandas.pydata.org/pandas-docs/stable/user_guide/indexing.html#returning-a-view-versus-a-copy\n",
      "  self[k1] = value[k2]\n"
     ]
    }
   ],
   "source": [
    "#Just filling in NA values\n",
    "df_combined2[['TIRCP_Award_Amount_($)', 'Allocation_Allocation_Sheet','Expended_Amount','SB1_Funding']] = df_combined2[['TIRCP_Award_Amount_($)', 'Allocation_Allocation_Sheet', 'Expended_Amount','SB1_Funding']].fillna(value=0)"
   ]
  },
  {
   "cell_type": "code",
   "execution_count": 54,
   "id": "2ed611cf-eb10-41a9-b91d-6b5b07fe6e12",
   "metadata": {},
   "outputs": [],
   "source": [
    "#drop columns that aren't needed\n",
    "df_combined2 = df_combined2.drop(columns=['Local_Agency','Key_Project_Elements'])"
   ]
  },
  {
   "cell_type": "code",
   "execution_count": 55,
   "id": "0cb33807-b1de-46f7-903f-355d344aac50",
   "metadata": {},
   "outputs": [],
   "source": [
    "#Re name the columns exactly like the sheet\n",
    "df_combined2 = df_combined2.rename(columns = {'LED': 'Phase_Completion_Date','SB1_Funding':'PTA-SB1 Allocation Amount',  'Percentge_Allocated': 'Percentage Allocated', 'TIRCP_Award_Amount_($)': 'TIRCP_Award_Amount'})"
   ]
  },
  {
   "cell_type": "markdown",
   "id": "c279c809-2b24-4cd2-84eb-0ce678b4eb5d",
   "metadata": {},
   "source": [
    "### Create Allocated before July 2020 Date Column \n",
    "* If the allocation date is AFTER  7-31-2020 then 0, if BEFORE 7-31-2020 then 1"
   ]
  },
  {
   "cell_type": "code",
   "execution_count": 56,
   "id": "03013a98-89ab-4769-afd4-637543396e44",
   "metadata": {},
   "outputs": [],
   "source": [
    "#force to date time\n",
    "df_combined2[['Allocation_Date', 'Completion_Date','Phase_Completion_Date', 'Third_Party_Award_Date']] = df_combined2[['Allocation_Date', 'Completion_Date','Phase_Completion_Date', 'Third_Party_Award_Date']].apply(pd.to_datetime)"
   ]
  },
  {
   "cell_type": "code",
   "execution_count": 57,
   "id": "350c820c-3af6-4ffe-b21e-66e884051a71",
   "metadata": {},
   "outputs": [],
   "source": [
    "#if the allocation date is AFTER  7-31-2020 then 0, if BEFORE 7-31-2020 then 1\n",
    "df_combined2 = df_combined2.assign( Allocated_Before_July_2020_1_is_yes = df_combined2.apply(lambda x: 0 if x.Allocation_Date > pd.Timestamp(2020, 7, 31, 0) else 1, axis=1))"
   ]
  },
  {
   "cell_type": "markdown",
   "id": "83bf5d9f-d1b7-44d1-9839-34f71a04a6cb",
   "metadata": {},
   "source": [
    "### Calculate out Percent of Allocation Expended  & Percent of Award Fully Allocated "
   ]
  },
  {
   "cell_type": "code",
   "execution_count": 58,
   "id": "c4cea348-33e1-47ba-a6de-9447cf5e5237",
   "metadata": {},
   "outputs": [],
   "source": [
    "df_combined2 = df_combined2.assign(\n",
    "    Percent_of_Allocation_Expended = df_combined2['Expended_Amount']/df_combined2['Allocation_Allocation_Sheet'],\n",
    "    Percent_of_Award_Fully_Allocated = df_combined2['Allocation_Amount_PROJECT']/df_combined2['TIRCP_Award_Amount']) "
   ]
  },
  {
   "cell_type": "markdown",
   "id": "27267aa1-3ab3-47d4-9956-6f9bce3a4adf",
   "metadata": {
    "tags": []
   },
   "source": [
    "### Keep first occurence of TIRCP & Percent of Award Fully Allocated \n",
    "* Maybe delete this portion"
   ]
  },
  {
   "cell_type": "code",
   "execution_count": 59,
   "id": "638a4586-adf6-44ee-ad77-19912d3422fa",
   "metadata": {},
   "outputs": [],
   "source": [
    "#create new column that counts each PPNO observation\n",
    "df_combined2 = df_combined2.assign(\n",
    "    PPNO_observation = df_combined2.groupby([\"PPNO\"]).cumcount() + 1\n",
    ")"
   ]
  },
  {
   "cell_type": "code",
   "execution_count": 60,
   "id": "9cccbbb4-0d16-42ed-9bd9-e85891c4a169",
   "metadata": {},
   "outputs": [],
   "source": [
    "#Deleting the extra TIRCP & percent of award fully allocated\n",
    "df_combined2.TIRCP_Award_Amount = df_combined2.apply(lambda x: x.TIRCP_Award_Amount == np.nan if x.PPNO_observation > 1 else x.TIRCP_Award_Amount, axis=1)      \n",
    "df_combined2.Percent_of_Award_Fully_Allocated = df_combined2.apply(lambda x: x.Percent_of_Award_Fully_Allocated == np.nan if x.PPNO_observation > 1 else x.Percent_of_Award_Fully_Allocated, axis=1)   "
   ]
  },
  {
   "cell_type": "code",
   "execution_count": 61,
   "id": "52e08e2e-6374-4a03-850e-35187fc13cac",
   "metadata": {},
   "outputs": [],
   "source": [
    "#clean up columns in a loop\n",
    "for i in [\"TIRCP_Award_Amount\", \"Percent_of_Award_Fully_Allocated\"]:\n",
    "    df_combined2[i] = df_combined2[i].replace(False, '0')"
   ]
  },
  {
   "cell_type": "code",
   "execution_count": 62,
   "id": "c15cb3fb-57cd-4c7d-9ec9-3c49945cb220",
   "metadata": {},
   "outputs": [],
   "source": [
    "cols = ['TIRCP_Award_Amount','Expended_Amount', 'Allocation_Amount_PROJECT', 'Allocation_Allocation_Sheet','GGRF_Funding', 'PTA-SB1 Allocation Amount','Percent_of_Allocation_Expended', 'Percent_of_Award_Fully_Allocated']"
   ]
  },
  {
   "cell_type": "code",
   "execution_count": 63,
   "id": "c841c2d0-758a-4c87-b106-a6ec68afba1c",
   "metadata": {},
   "outputs": [],
   "source": [
    "#coercing some to numeric \n",
    "df_combined2[cols] = df_combined2[cols].apply(pd.to_numeric, errors='coerce')"
   ]
  },
  {
   "cell_type": "code",
   "execution_count": 64,
   "id": "b9635df0-2d7b-4e9c-93f7-efacd2f523f4",
   "metadata": {
    "scrolled": true,
    "tags": []
   },
   "outputs": [
    {
     "data": {
      "text/plain": [
       "Award_Year                               0\n",
       "Project_#                                0\n",
       "Project_Title                            0\n",
       "TIRCP_Award_Amount                       0\n",
       "Expended_Amount                          0\n",
       "Allocation_Amount_PROJECT                0\n",
       "PPNO                                     0\n",
       "Award_Recipient                          0\n",
       "Implementing_Agency                      0\n",
       "Allocation_Allocation_Sheet              0\n",
       "GGRF_Funding                            89\n",
       "Phase                                    1\n",
       "Components                               0\n",
       "PTA-SB1 Allocation Amount                0\n",
       "Allocation_Date                         57\n",
       "Third_Party_Award_Date                 135\n",
       "Completion_Date                         72\n",
       "Phase_Completion_Date                  145\n",
       "Allocated_Before_July_2020_1_is_yes      0\n",
       "Percent_of_Allocation_Expended          47\n",
       "Percent_of_Award_Fully_Allocated         1\n",
       "PPNO_observation                         0\n",
       "dtype: int64"
      ]
     },
     "execution_count": 64,
     "metadata": {},
     "output_type": "execute_result"
    }
   ],
   "source": [
    "df_combined2.isna().sum()"
   ]
  },
  {
   "cell_type": "markdown",
   "id": "58126c15-b10a-4f6d-9709-2f54fd872d6a",
   "metadata": {},
   "source": [
    "### Filing in NA dates with a super fake one\n",
    "* 135 missing 3rd party award date\n",
    "* 72 missing completion date\n",
    "* 57 missing allocation date\n",
    "* 145 missing phase completion date"
   ]
  },
  {
   "cell_type": "code",
   "execution_count": 65,
   "id": "b1317a41-ab21-4c5c-8249-0870d7441fcc",
   "metadata": {},
   "outputs": [],
   "source": [
    "#fill in missing dates with a fake one\n",
    "missing_date = pd.to_datetime('2100-01-01')"
   ]
  },
  {
   "cell_type": "code",
   "execution_count": 66,
   "id": "c36416d1-7967-4661-aec0-e20767c7b841",
   "metadata": {},
   "outputs": [],
   "source": [
    "for i in [\"Allocation_Date\", \"Third_Party_Award_Date\", \"Completion_Date\", \"Phase_Completion_Date\"]:\n",
    "    df_combined2[i] = df_combined2[i].fillna(missing_date)"
   ]
  },
  {
   "cell_type": "code",
   "execution_count": 67,
   "id": "526fd7f8-5529-4587-b37b-b7fd0eaf8f8c",
   "metadata": {
    "scrolled": true,
    "tags": []
   },
   "outputs": [
    {
     "data": {
      "text/html": [
       "<div>\n",
       "<style scoped>\n",
       "    .dataframe tbody tr th:only-of-type {\n",
       "        vertical-align: middle;\n",
       "    }\n",
       "\n",
       "    .dataframe tbody tr th {\n",
       "        vertical-align: top;\n",
       "    }\n",
       "\n",
       "    .dataframe thead th {\n",
       "        text-align: right;\n",
       "    }\n",
       "</style>\n",
       "<table border=\"1\" class=\"dataframe\">\n",
       "  <thead>\n",
       "    <tr style=\"text-align: right;\">\n",
       "      <th></th>\n",
       "      <th>Award_Year</th>\n",
       "      <th>Project_#</th>\n",
       "      <th>Project_Title</th>\n",
       "      <th>TIRCP_Award_Amount</th>\n",
       "      <th>Expended_Amount</th>\n",
       "      <th>Allocation_Amount_PROJECT</th>\n",
       "      <th>PPNO</th>\n",
       "      <th>Award_Recipient</th>\n",
       "      <th>Implementing_Agency</th>\n",
       "      <th>Allocation_Allocation_Sheet</th>\n",
       "      <th>GGRF_Funding</th>\n",
       "      <th>Phase</th>\n",
       "      <th>Components</th>\n",
       "      <th>PTA-SB1 Allocation Amount</th>\n",
       "      <th>Allocation_Date</th>\n",
       "      <th>Third_Party_Award_Date</th>\n",
       "      <th>Completion_Date</th>\n",
       "      <th>Phase_Completion_Date</th>\n",
       "      <th>Allocated_Before_July_2020_1_is_yes</th>\n",
       "      <th>Percent_of_Allocation_Expended</th>\n",
       "      <th>Percent_of_Award_Fully_Allocated</th>\n",
       "      <th>PPNO_observation</th>\n",
       "    </tr>\n",
       "  </thead>\n",
       "  <tbody>\n",
       "    <tr>\n",
       "      <th>276</th>\n",
       "      <td>2020</td>\n",
       "      <td>14</td>\n",
       "      <td>Solano Regional Transit Improvements Phase 2</td>\n",
       "      <td>10400000.00</td>\n",
       "      <td>0.00</td>\n",
       "      <td>2900000</td>\n",
       "      <td>CP072</td>\n",
       "      <td>Solano Transportation Authority</td>\n",
       "      <td>Solano Transportation Authority</td>\n",
       "      <td>400000.00</td>\n",
       "      <td>200000.00</td>\n",
       "      <td>PS&amp;E</td>\n",
       "      <td>Access Improvements at Fairfield Transit Center</td>\n",
       "      <td>200000.00</td>\n",
       "      <td>2021-05-13</td>\n",
       "      <td>2100-01-01</td>\n",
       "      <td>2025-06-30</td>\n",
       "      <td>2023-06-30</td>\n",
       "      <td>0</td>\n",
       "      <td>0.00</td>\n",
       "      <td>0.28</td>\n",
       "      <td>1</td>\n",
       "    </tr>\n",
       "    <tr>\n",
       "      <th>277</th>\n",
       "      <td>2020</td>\n",
       "      <td>14</td>\n",
       "      <td>Solano Regional Transit Improvements Phase 2</td>\n",
       "      <td>0.00</td>\n",
       "      <td>0.00</td>\n",
       "      <td>2900000</td>\n",
       "      <td>CP072</td>\n",
       "      <td>Solano Transportation Authority</td>\n",
       "      <td>Solano Transportation Authority</td>\n",
       "      <td>0.00</td>\n",
       "      <td>NaN</td>\n",
       "      <td>CONST</td>\n",
       "      <td>Access Improvements at Fairfield Transit Center</td>\n",
       "      <td>0.00</td>\n",
       "      <td>2021-12-31</td>\n",
       "      <td>2022-12-31</td>\n",
       "      <td>2025-03-01</td>\n",
       "      <td>2100-01-01</td>\n",
       "      <td>0</td>\n",
       "      <td>NaN</td>\n",
       "      <td>0.00</td>\n",
       "      <td>2</td>\n",
       "    </tr>\n",
       "    <tr>\n",
       "      <th>278</th>\n",
       "      <td>2020</td>\n",
       "      <td>14</td>\n",
       "      <td>Solano Regional Transit Improvements Phase 2</td>\n",
       "      <td>0.00</td>\n",
       "      <td>0.00</td>\n",
       "      <td>2900000</td>\n",
       "      <td>CP072</td>\n",
       "      <td>Solano Transportation Authority</td>\n",
       "      <td>Solano Transportation Authority</td>\n",
       "      <td>0.00</td>\n",
       "      <td>NaN</td>\n",
       "      <td>CONST</td>\n",
       "      <td>Access Improvements at Vacaville Transit Center</td>\n",
       "      <td>0.00</td>\n",
       "      <td>2021-12-31</td>\n",
       "      <td>2022-12-31</td>\n",
       "      <td>2025-01-01</td>\n",
       "      <td>2100-01-01</td>\n",
       "      <td>0</td>\n",
       "      <td>NaN</td>\n",
       "      <td>0.00</td>\n",
       "      <td>3</td>\n",
       "    </tr>\n",
       "    <tr>\n",
       "      <th>279</th>\n",
       "      <td>2020</td>\n",
       "      <td>14</td>\n",
       "      <td>Solano Regional Transit Improvements Phase 2</td>\n",
       "      <td>0.00</td>\n",
       "      <td>0.00</td>\n",
       "      <td>2900000</td>\n",
       "      <td>CP072</td>\n",
       "      <td>Solano Transportation Authority</td>\n",
       "      <td>Solano Transportation Authority</td>\n",
       "      <td>1000000.00</td>\n",
       "      <td>500000.00</td>\n",
       "      <td>PS&amp;E</td>\n",
       "      <td>Shared Inductive Charging Infrastructure</td>\n",
       "      <td>500000.00</td>\n",
       "      <td>2020-10-22</td>\n",
       "      <td>2100-01-01</td>\n",
       "      <td>2025-06-30</td>\n",
       "      <td>2100-01-01</td>\n",
       "      <td>0</td>\n",
       "      <td>0.00</td>\n",
       "      <td>0.00</td>\n",
       "      <td>4</td>\n",
       "    </tr>\n",
       "    <tr>\n",
       "      <th>280</th>\n",
       "      <td>2020</td>\n",
       "      <td>14</td>\n",
       "      <td>Solano Regional Transit Improvements Phase 2</td>\n",
       "      <td>0.00</td>\n",
       "      <td>0.00</td>\n",
       "      <td>2900000</td>\n",
       "      <td>CP072</td>\n",
       "      <td>Solano Transportation Authority</td>\n",
       "      <td>Solano Transportation Authority</td>\n",
       "      <td>0.00</td>\n",
       "      <td>NaN</td>\n",
       "      <td>CONST</td>\n",
       "      <td>Shared Inductive Charging Infrastructure</td>\n",
       "      <td>0.00</td>\n",
       "      <td>2021-12-31</td>\n",
       "      <td>2022-12-31</td>\n",
       "      <td>2025-01-01</td>\n",
       "      <td>2100-01-01</td>\n",
       "      <td>0</td>\n",
       "      <td>NaN</td>\n",
       "      <td>0.00</td>\n",
       "      <td>5</td>\n",
       "    </tr>\n",
       "    <tr>\n",
       "      <th>281</th>\n",
       "      <td>2020</td>\n",
       "      <td>14</td>\n",
       "      <td>Solano Regional Transit Improvements Phase 2</td>\n",
       "      <td>0.00</td>\n",
       "      <td>0.00</td>\n",
       "      <td>2900000</td>\n",
       "      <td>CP072</td>\n",
       "      <td>Solano Transportation Authority</td>\n",
       "      <td>Solano Transportation Authority</td>\n",
       "      <td>400000.00</td>\n",
       "      <td>200000.00</td>\n",
       "      <td>CONST</td>\n",
       "      <td>Access Improvements at Fairfield-Vacaville Sta...</td>\n",
       "      <td>200000.00</td>\n",
       "      <td>2021-12-31</td>\n",
       "      <td>2022-12-31</td>\n",
       "      <td>2025-01-01</td>\n",
       "      <td>2100-01-01</td>\n",
       "      <td>0</td>\n",
       "      <td>0.00</td>\n",
       "      <td>0.00</td>\n",
       "      <td>6</td>\n",
       "    </tr>\n",
       "    <tr>\n",
       "      <th>282</th>\n",
       "      <td>2020</td>\n",
       "      <td>14</td>\n",
       "      <td>Solano Regional Transit Improvements Phase 2</td>\n",
       "      <td>0.00</td>\n",
       "      <td>0.00</td>\n",
       "      <td>2900000</td>\n",
       "      <td>CP072</td>\n",
       "      <td>Solano Transportation Authority</td>\n",
       "      <td>Solano Transportation Authority</td>\n",
       "      <td>1100000.00</td>\n",
       "      <td>NaN</td>\n",
       "      <td>CONST</td>\n",
       "      <td>Network Integration</td>\n",
       "      <td>1100000.00</td>\n",
       "      <td>2020-10-22</td>\n",
       "      <td>2022-06-30</td>\n",
       "      <td>2024-03-01</td>\n",
       "      <td>2100-01-01</td>\n",
       "      <td>0</td>\n",
       "      <td>0.00</td>\n",
       "      <td>0.00</td>\n",
       "      <td>7</td>\n",
       "    </tr>\n",
       "  </tbody>\n",
       "</table>\n",
       "</div>"
      ],
      "text/plain": [
       "     Award_Year  Project_#                                 Project_Title  \\\n",
       "276        2020         14  Solano Regional Transit Improvements Phase 2   \n",
       "277        2020         14  Solano Regional Transit Improvements Phase 2   \n",
       "278        2020         14  Solano Regional Transit Improvements Phase 2   \n",
       "279        2020         14  Solano Regional Transit Improvements Phase 2   \n",
       "280        2020         14  Solano Regional Transit Improvements Phase 2   \n",
       "281        2020         14  Solano Regional Transit Improvements Phase 2   \n",
       "282        2020         14  Solano Regional Transit Improvements Phase 2   \n",
       "\n",
       "     TIRCP_Award_Amount  Expended_Amount  Allocation_Amount_PROJECT   PPNO  \\\n",
       "276         10400000.00             0.00                    2900000  CP072   \n",
       "277                0.00             0.00                    2900000  CP072   \n",
       "278                0.00             0.00                    2900000  CP072   \n",
       "279                0.00             0.00                    2900000  CP072   \n",
       "280                0.00             0.00                    2900000  CP072   \n",
       "281                0.00             0.00                    2900000  CP072   \n",
       "282                0.00             0.00                    2900000  CP072   \n",
       "\n",
       "                     Award_Recipient              Implementing_Agency  \\\n",
       "276  Solano Transportation Authority  Solano Transportation Authority   \n",
       "277  Solano Transportation Authority  Solano Transportation Authority   \n",
       "278  Solano Transportation Authority  Solano Transportation Authority   \n",
       "279  Solano Transportation Authority  Solano Transportation Authority   \n",
       "280  Solano Transportation Authority  Solano Transportation Authority   \n",
       "281  Solano Transportation Authority  Solano Transportation Authority   \n",
       "282  Solano Transportation Authority  Solano Transportation Authority   \n",
       "\n",
       "     Allocation_Allocation_Sheet  GGRF_Funding  Phase  \\\n",
       "276                    400000.00     200000.00   PS&E   \n",
       "277                         0.00           NaN  CONST   \n",
       "278                         0.00           NaN  CONST   \n",
       "279                   1000000.00     500000.00   PS&E   \n",
       "280                         0.00           NaN  CONST   \n",
       "281                    400000.00     200000.00  CONST   \n",
       "282                   1100000.00           NaN  CONST   \n",
       "\n",
       "                                            Components  \\\n",
       "276    Access Improvements at Fairfield Transit Center   \n",
       "277    Access Improvements at Fairfield Transit Center   \n",
       "278    Access Improvements at Vacaville Transit Center   \n",
       "279           Shared Inductive Charging Infrastructure   \n",
       "280           Shared Inductive Charging Infrastructure   \n",
       "281  Access Improvements at Fairfield-Vacaville Sta...   \n",
       "282                                Network Integration   \n",
       "\n",
       "     PTA-SB1 Allocation Amount Allocation_Date Third_Party_Award_Date  \\\n",
       "276                  200000.00      2021-05-13             2100-01-01   \n",
       "277                       0.00      2021-12-31             2022-12-31   \n",
       "278                       0.00      2021-12-31             2022-12-31   \n",
       "279                  500000.00      2020-10-22             2100-01-01   \n",
       "280                       0.00      2021-12-31             2022-12-31   \n",
       "281                  200000.00      2021-12-31             2022-12-31   \n",
       "282                 1100000.00      2020-10-22             2022-06-30   \n",
       "\n",
       "    Completion_Date Phase_Completion_Date  \\\n",
       "276      2025-06-30            2023-06-30   \n",
       "277      2025-03-01            2100-01-01   \n",
       "278      2025-01-01            2100-01-01   \n",
       "279      2025-06-30            2100-01-01   \n",
       "280      2025-01-01            2100-01-01   \n",
       "281      2025-01-01            2100-01-01   \n",
       "282      2024-03-01            2100-01-01   \n",
       "\n",
       "     Allocated_Before_July_2020_1_is_yes  Percent_of_Allocation_Expended  \\\n",
       "276                                    0                            0.00   \n",
       "277                                    0                             NaN   \n",
       "278                                    0                             NaN   \n",
       "279                                    0                            0.00   \n",
       "280                                    0                             NaN   \n",
       "281                                    0                            0.00   \n",
       "282                                    0                            0.00   \n",
       "\n",
       "     Percent_of_Award_Fully_Allocated  PPNO_observation  \n",
       "276                              0.28                 1  \n",
       "277                              0.00                 2  \n",
       "278                              0.00                 3  \n",
       "279                              0.00                 4  \n",
       "280                              0.00                 5  \n",
       "281                              0.00                 6  \n",
       "282                              0.00                 7  "
      ]
     },
     "execution_count": 67,
     "metadata": {},
     "output_type": "execute_result"
    }
   ],
   "source": [
    "#checking with Solano Transportation Authority in 2020\n",
    "df_combined2.loc[df_combined2['PPNO'] == 'CP072'] "
   ]
  },
  {
   "cell_type": "markdown",
   "id": "afab9656-5230-40ce-9869-b7fb12ad017d",
   "metadata": {},
   "source": [
    "# Mimic sheet\n",
    "* Rewrite column TIRCP and Percent of Award Fully Allocated to indicate they have to merge.\n",
    "* Do the same thing with Percent of Award Fully Located\n",
    "* Use new column to pivot. \n",
    "* use merge to attach everything else back on."
   ]
  },
  {
   "cell_type": "code",
   "execution_count": 78,
   "id": "e0914d7e-d7c2-475b-a3d7-69666075558e",
   "metadata": {},
   "outputs": [],
   "source": [
    "df_pivot = df_combined2.groupby(['Award_Year','PPNO','Award_Recipient','Implementing_Agency','Project_Title','Phase', 'Components',\"Allocation_Date\", \n",
    "                                 \"Third_Party_Award_Date\", \"Completion_Date\", \"Phase_Completion_Date\", \"TIRCP_Amount\" ]).agg(\n",
    "    {'Percent_of_Award_Fully_Allocated':'sum',\n",
    "'TIRCP_Award_Amount':'max',\n",
    "'Allocation_Allocation_Sheet': 'sum', \n",
    "'GGRF_Funding':'sum',\n",
    "'Expended_Amount':'sum',\n",
    "'PTA-SB1 Allocation Amount':'sum',\n",
    "'Allocated_Before_July_2020_1_is_yes':'max',\n",
    "'Percent_of_Allocation_Expended':'max'})"
   ]
  },
  {
   "cell_type": "code",
   "execution_count": 80,
   "id": "5d324e77-d182-44bb-8894-cdec85939fe8",
   "metadata": {
    "tags": []
   },
   "outputs": [],
   "source": [
    "df_pivot.tail(10)\n",
    "#.to_excel(\"./test_excel.xlsx\")"
   ]
  },
  {
   "cell_type": "markdown",
   "id": "29645f4e-a3bc-4d02-8f86-635a25bfe929",
   "metadata": {},
   "source": [
    "# Export into Excel\n",
    "* Dataframes to export: summary_transposed and df_pivot\n",
    "* https://www.geeksforgeeks.org/how-to-write-pandas-dataframes-to-multiple-excel-sheets/"
   ]
  },
  {
   "cell_type": "markdown",
   "id": "dbeb2242-ceea-4973-8e3e-5aece82c1350",
   "metadata": {},
   "source": [
    "with pd.ExcelWriter(\"./TIRCP_SAR_2022.xlsx\") as writer:\n",
    "    summary_transposed.to_excel(writer, sheet_name=\"Summary\", index=True)\n",
    "    df_pivot.to_excel(writer, sheet_name=\"FY\", index=True)"
   ]
  }
 ],
 "metadata": {
  "kernelspec": {
   "display_name": "Python 3 (ipykernel)",
   "language": "python",
   "name": "python3"
  },
  "language_info": {
   "codemirror_mode": {
    "name": "ipython",
    "version": 3
   },
   "file_extension": ".py",
   "mimetype": "text/x-python",
   "name": "python",
   "nbconvert_exporter": "python",
   "pygments_lexer": "ipython3",
   "version": "3.9.7"
  },
  "toc-autonumbering": false,
  "toc-showmarkdowntxt": false,
  "toc-showtags": false
 },
 "nbformat": 4,
 "nbformat_minor": 5
}
