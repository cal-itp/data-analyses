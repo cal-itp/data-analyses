{
 "cells": [
  {
   "cell_type": "markdown",
   "id": "9363bb9e-c5a7-431c-ba61-72611a6a3843",
   "metadata": {},
   "source": [
    "# Data Clean-up Assumptions\n",
    "\n",
    "In developing cleaned versions of the Littlepay data tables for analysis. The cleaned tables that we've developed so far are for:\n",
    "* `device_transactions`\n",
    "* `micropayment_adjustments`\n",
    "* `micropayment_device_transactions`\n",
    "* `micropayments`\n",
    "* `product_data`\n",
    "\n",
    "For `micropayment_adjustments` and `micropayment_device_transactions`"
   ]
  },
  {
   "cell_type": "code",
   "execution_count": 2,
   "id": "8b9001c0-12b9-47be-8bd9-bb9ff7c0556d",
   "metadata": {},
   "outputs": [],
   "source": [
    "from calitp import magics\n",
    "import os\n",
    "os.environ['AIRFLOW_ENV'] = 'development'"
   ]
  },
  {
   "cell_type": "markdown",
   "id": "026be079-d663-4b5a-8c68-600c745faed8",
   "metadata": {},
   "source": [
    "## Device Transactions\n",
    "\n",
    "### Summary\n",
    "* **Unique key:** `littlepay_transaction_id`\n",
    "* **De-dupe criteria:** Keep record in newest export file; if multiple in newest export, keep record with latest `transaction_date_time_utc`\n",
    "\n",
    "We're assuming that the `littlepay_device_transaction_id` field should be a unique key. When a `littlepay_device_transaction_id` shows up in multiple data exports (which happens with some frequency -- about 10% of the time), we only keep the newest record."
   ]
  },
  {
   "cell_type": "code",
   "execution_count": 8,
   "id": "049a266a-9c72-42aa-b016-08d0554da834",
   "metadata": {},
   "outputs": [
    {
     "data": {
      "text/html": [
       "<div>\n",
       "<style scoped>\n",
       "    .dataframe tbody tr th:only-of-type {\n",
       "        vertical-align: middle;\n",
       "    }\n",
       "\n",
       "    .dataframe tbody tr th {\n",
       "        vertical-align: top;\n",
       "    }\n",
       "\n",
       "    .dataframe thead th {\n",
       "        text-align: right;\n",
       "    }\n",
       "</style>\n",
       "<table border=\"1\" class=\"dataframe\">\n",
       "  <thead>\n",
       "    <tr style=\"text-align: right;\">\n",
       "      <th></th>\n",
       "      <th>label</th>\n",
       "      <th>n</th>\n",
       "    </tr>\n",
       "  </thead>\n",
       "  <tbody>\n",
       "    <tr>\n",
       "      <th>0</th>\n",
       "      <td>Total Unique IDs</td>\n",
       "      <td>37530</td>\n",
       "    </tr>\n",
       "    <tr>\n",
       "      <th>1</th>\n",
       "      <td>Duplicated IDs</td>\n",
       "      <td>3418</td>\n",
       "    </tr>\n",
       "  </tbody>\n",
       "</table>\n",
       "</div>"
      ],
      "text/plain": [
       "              label      n\n",
       "0  Total Unique IDs  37530\n",
       "1    Duplicated IDs   3418"
      ]
     },
     "execution_count": 8,
     "metadata": {},
     "output_type": "execute_result"
    }
   ],
   "source": [
    "%%sql\n",
    "\n",
    "with\n",
    "\n",
    "duplicated_ids as (\n",
    "    select littlepay_transaction_id\n",
    "    from payments.device_transactions\n",
    "    group by littlepay_transaction_id\n",
    "    having count(*) > 1\n",
    ")\n",
    "\n",
    "select 'Total Unique IDs' as label, count(distinct littlepay_transaction_id) as n\n",
    "from payments.device_transactions\n",
    "\n",
    "union all\n",
    "\n",
    "select 'Duplicated IDs' as label, count(distinct littlepay_transaction_id) as n\n",
    "from payments.device_transactions\n",
    "join duplicated_ids using (littlepay_transaction_id)"
   ]
  },
  {
   "cell_type": "markdown",
   "id": "1469e81f-c3c6-4a35-b006-9bdad5e6451d",
   "metadata": {},
   "source": [
    "## Micropayments\n",
    "\n",
    "### Summary\n",
    "* **Unique key:** `micropayment_id`\n",
    "* **De-dupe criteria:** Keep record in newest export file; if multiple in newest export, keep record with latest `transaction_time`\n"
   ]
  },
  {
   "cell_type": "markdown",
   "id": "2562506e-64e9-4d23-a71d-67041fe0f2b4",
   "metadata": {},
   "source": [
    "## Micropayment Device Transactions\n",
    "\n",
    "### Summary\n",
    "* **Unique key:** MD5 hash of `micropayment_id` and `littlepay_transaction_id`\n",
    "* **Invariants:**\n",
    "  * `littlepay_transaction_id` should be unique (i.e. many:1 device transactions to micropayments)\n",
    "  * The timestamp on micropayment records should be at least as late as its associated transactions timestamps\n",
    "* **De-dupe criteria:** Keep record in newest export file\n"
   ]
  },
  {
   "cell_type": "markdown",
   "id": "d814df68-7547-4557-98de-e7e7e8821519",
   "metadata": {},
   "source": [
    "## Transaction Types\n",
    "\n",
    "We are associating a new field to each `device_transactions` record through a `device_transaction_types` table. In the LittlePay data there is no such thing as a transaction type, but this field is useful for determining whether a transaction represents a complete trip in itself or just one side of a tap on/off trip. The values we assign to the `transaction_type` field are: `'on'`, `'off'`, or `'single'`.\n",
    "\n",
    "* a transaction linked to a micropayment that has `charge_type = 'flat_fare'` will have `transaction_type = 'single'`\n",
    "* a transaction linked to a micropayment that has `charge_type = 'pending_charge_fare'` will have `transaction_type = 'on'`\n",
    "* a transaction linked to a micropayment that has `charge_type = 'complete_variable_fare'` and is the _earlier_ of the two transactions linked to the micropayment according to the `transaction_date_time_utc` will have `transaction_type = 'on'`\n",
    "* a transaction linked to a micropayment that has `charge_type = 'complete_variable_fare'` and is the _later_ of the two transactions linked to the micropayment according to the `transaction_date_time_utc` will have `transaction_type = 'off'`\n"
   ]
  },
  {
   "cell_type": "markdown",
   "id": "bdad527a-d186-41ee-ad49-a86982f4c29a",
   "metadata": {},
   "source": [
    "## Micropayment Adjustments\n",
    "\n",
    "### Summary\n",
    "* **Unique key:** MD5 hash of `micropayment_id` and `adjustment_id`\n",
    "* **De-dupe criteria:** Keep record in newest export file\n"
   ]
  },
  {
   "cell_type": "markdown",
   "id": "bc028f0f-0757-4e0b-b951-b62a4ccb5e18",
   "metadata": {},
   "source": [
    "## Product Data\n",
    "\n",
    "### Summary\n",
    "* **Unique key:** `product_id`\n",
    "* **De-dupe criteria:** Keep record in newest export file\n"
   ]
  },
  {
   "cell_type": "markdown",
   "id": "348fdd8f-9023-4c58-8ddb-2fd775092611",
   "metadata": {},
   "source": [
    "## Customers\n",
    "\n",
    "We split the `customer_funding_source` table from LittlePay into tables for `customers` and `customer_funding_source_vaults`; the IDs available in the original table are very unpredictable, so instead we are cherry-picking the information that is useful to us and creating new quasi-dimensions.\n",
    "\n",
    "For the `customers` table, we're primarily concerned with associating a `customer_id` with a `principal_customer_id`.\n",
    "\n",
    "### Summary\n",
    "* **Unique key:** `customer_id`\n",
    "* **Invariants:**\n",
    "  * No null `principal_customer_id` values\n",
    "  * Each `pricipal_customer_id` should only ever have itself as a `pricipal_customer_id`.\n",
    "* **De-dupe criteria:** Keep record in newest export file; select distinct customer_id and principal_customer_id from the latest export. There are a number of pairs that appear multiple times, but each principal_customer_id should be associated with a single customer_id value.\n"
   ]
  },
  {
   "cell_type": "markdown",
   "id": "159eb3a5-c7e5-4c15-bf49-329b4f3957d9",
   "metadata": {},
   "source": [
    "## Customers Funding Source Vaults\n",
    "\n",
    "We split the `customer_funding_source` table from LittlePay into tables for `customers` and `customer_funding_source_vaults`; the IDs available in the original table are very unpredictable, so instead we are cherry-picking the information that is useful to us and creating new quasi-dimensions.\n",
    "\n",
    "For the `customer_funding_source_vaults` table, we construct a slowly changing dimension\n",
    "\n",
    "### Summary\n",
    "* **Key:** `funding_source_vault_id`, valid from the timestamp of one `customer_funding_sources_export` to the next.\n"
   ]
  }
 ],
 "metadata": {
  "kernelspec": {
   "display_name": "Python 3 (ipykernel)",
   "language": "python",
   "name": "python3"
  },
  "language_info": {
   "codemirror_mode": {
    "name": "ipython",
    "version": 3
   },
   "file_extension": ".py",
   "mimetype": "text/x-python",
   "name": "python",
   "nbconvert_exporter": "python",
   "pygments_lexer": "ipython3",
   "version": "3.8.10"
  }
 },
 "nbformat": 4,
 "nbformat_minor": 5
}
